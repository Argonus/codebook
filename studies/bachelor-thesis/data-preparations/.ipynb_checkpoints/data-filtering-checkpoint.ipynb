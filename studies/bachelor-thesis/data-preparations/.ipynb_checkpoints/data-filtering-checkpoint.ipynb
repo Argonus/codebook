{
 "cells": [
  {
   "cell_type": "code",
   "execution_count": 1,
   "id": "f6bc1709-f52b-4311-9dff-25e27e42c309",
   "metadata": {},
   "outputs": [],
   "source": [
    "import pandas as pd\n",
    "import numpy as np\n",
    "nih_dataset = '../data/nih-dataset'\n",
    "cleared_dataset = '../cleared-data/nih-dataset'"
   ]
  },
  {
   "cell_type": "code",
   "execution_count": 2,
   "id": "64fab830-6c93-4281-90e9-c3025a52b61c",
   "metadata": {},
   "outputs": [],
   "source": [
    "# Patients Age Clearing\n",
    "# Reload the dataset\n",
    "data_entry_file = f'{nih_dataset}/Data_Entry_2017.csv'\n",
    "data_frame = pd.read_csv(data_entry_file, delimiter=',', nrows=None)\n",
    "\n",
    "total_count = len(data_frame)\n",
    "\n",
    "# Group by Patient ID and get the first age for each patient\n",
    "unique_patients = data_frame.groupby('Patient ID')['Patient Age'].first()\n",
    "\n",
    "# Calculate mean and standard deviation of ages\n",
    "mean_unique_age = unique_patients.mean()\n",
    "std_dev_unique_age = unique_patients.std()\n",
    "\n",
    "# Define outlier thresholds - age\n",
    "outlier_threshold_upper_std = round(mean_unique_age + 3 * std_dev_unique_age, 4)\n",
    "outlier_threshold_lower_std = 0 # Can't be younger than 0 years \n",
    "\n",
    "# Patients in age between [0 and 3σ]\n",
    "filtered_unique_patients = unique_patients[\n",
    "    (unique_patients >= outlier_threshold_lower_std) & \n",
    "    (unique_patients <= outlier_threshold_upper_std)\n",
    "]\n",
    "\n",
    "filtered_unique_patients = filtered_unique_patients.reset_index()\n",
    "valid_patient_ids = filtered_unique_patients['Patient ID'].tolist()\n",
    "filtered_data = data_frame[data_frame['Patient ID'].isin(valid_patient_ids)]"
   ]
  },
  {
   "cell_type": "code",
   "execution_count": 3,
   "id": "b84138dc-5394-4bc9-9a1a-e99b86213e3d",
   "metadata": {},
   "outputs": [
    {
     "name": "stdout",
     "output_type": "stream",
     "text": [
      "0.86\n"
     ]
    }
   ],
   "source": [
    "# Undersampling Clearing\n",
    "# Reload the dataset\n",
    "total_size = len(filtered_data)\n",
    "\n",
    "dominant_class = \"No Finding\"\n",
    "dominant_class_data = filtered_data[filtered_data['Finding Labels'] == dominant_class]\n",
    "minority_classes_data = filtered_data[filtered_data['Finding Labels'] != dominant_class]\n",
    "\n",
    "assert total_size == len(dominant_class_data) + len(minority_classes_data)\n",
    "\n",
    "undersample_rate = round(len(minority_classes_data) / len(dominant_class_data), 2)\n",
    "undersample_size = int(len(dominant_class_data) * undersample_rate)\n",
    "\n",
    "balanced_dominant_class = dominant_class_data.sample(n=undersample_size, random_state=42)\n",
    "balanced_data = pd.concat([balanced_dominant_class, minority_classes_data], ignore_index=True)\n",
    "balanced_data = balanced_data.sample(frac=1, random_state=42).reset_index(drop=True)"
   ]
  },
  {
   "cell_type": "code",
   "execution_count": 4,
   "id": "f5514460-a41c-42fa-905e-8fc6375d1129",
   "metadata": {},
   "outputs": [],
   "source": [
    "# Store in cleated Dataset\n",
    "cleared_data_enetry = f'{cleared_dataset}/Data_Entry_2017.csv'\n",
    "balanced_data.to_csv(cleared_data_enetry, index=False)"
   ]
  },
  {
   "cell_type": "code",
   "execution_count": 24,
   "id": "ad15c1a8-7511-4a67-8a35-c376e9a9a402",
   "metadata": {},
   "outputs": [
    {
     "name": "stdout",
     "output_type": "stream",
     "text": [
      "W: 759.22, H: 730.63\n",
      "Original dataset size: 984\n",
      "Filtered dataset size: 973\n",
      "Data lose: 11\n",
      "Data lose ration: 1.12 \n"
     ]
    }
   ],
   "source": [
    "# Prepare Bounding Box Data\n",
    "data_entry_file = f'{nih_dataset}/BBox_List_2017.csv'\n",
    "bbox_data = pd.read_csv(data_entry_file, delimiter=',', nrows=None)\n",
    "renamed_bbox_data = bbox_data.dropna(axis=1, how='all').copy()\n",
    "renamed_bbox_data.rename(columns={\"Bbox [x\": \"x\", \"h]\": \"h\"}, inplace=True)\n",
    "\n",
    "# Calculage widh & heigh data bounds\n",
    "mean_w = renamed_bbox_data['w'].mean()\n",
    "std_w = renamed_bbox_data['w'].std()\n",
    "mean_h = renamed_bbox_data['h'].mean()\n",
    "std_h = renamed_bbox_data['h'].std()\n",
    "w_outlier_threshold = round(mean_w + 3 * std_w, 2)\n",
    "h_outlier_threshold = round(mean_h + 3 * std_h, 2)\n",
    "\n",
    "print(f\"W: {w_outlier_threshold}, H: {h_outlier_threshold}\")\n",
    "\n",
    "filtered_bbox_data = cleaned_bbox_data[\n",
    "    (cleaned_bbox_data['w'] <= w_outlier_threshold) & \n",
    "    (cleaned_bbox_data['h'] <= h_outlier_threshold)\n",
    "]\n",
    "\n",
    "print(f\"Original dataset size: {len(cleaned_bbox_data)}\")\n",
    "print(f\"Filtered dataset size: {len(filtered_bbox_data)}\")\n",
    "print(f\"Data lose: {len(cleaned_bbox_data) - len(filtered_bbox_data)}\")\n",
    "print(f\"Data lose ration: {round(100 - (len(filtered_bbox_data) / len(cleaned_bbox_data)) * 100,2)} \")\n",
    "\n",
    "# Store in cleated Dataset\n",
    "cleared_data_enetry = f'{cleared_dataset}/BBox_List_2017.csv'\n",
    "filtered_bbox_data.to_csv(cleared_data_enetry, index=False)"
   ]
  },
  {
   "cell_type": "code",
   "execution_count": null,
   "id": "97c9ae87-9011-491f-8549-9a6a950e0489",
   "metadata": {},
   "outputs": [],
   "source": [
    "# "
   ]
  },
  {
   "cell_type": "code",
   "execution_count": null,
   "id": "a204f438-5dbf-41a5-8980-5341b73cd84f",
   "metadata": {},
   "outputs": [],
   "source": []
  }
 ],
 "metadata": {
  "kernelspec": {
   "display_name": "Python 3 (ipykernel)",
   "language": "python",
   "name": "python3"
  },
  "language_info": {
   "codemirror_mode": {
    "name": "ipython",
    "version": 3
   },
   "file_extension": ".py",
   "mimetype": "text/x-python",
   "name": "python",
   "nbconvert_exporter": "python",
   "pygments_lexer": "ipython3",
   "version": "3.11.0"
  }
 },
 "nbformat": 4,
 "nbformat_minor": 5
}
