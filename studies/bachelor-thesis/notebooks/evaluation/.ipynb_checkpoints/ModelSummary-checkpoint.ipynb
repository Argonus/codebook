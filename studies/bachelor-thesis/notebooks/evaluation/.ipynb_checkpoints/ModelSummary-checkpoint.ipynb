{
 "cells": [
  {
   "cell_type": "code",
   "execution_count": 9,
   "id": "cd91cddc-107e-44c5-9f89-714565dba8d1",
   "metadata": {},
   "outputs": [],
   "source": [
    "import pandas as pd\n",
    "pd.set_option('display.max_colwidth', None)\n",
    "pd.set_option('display.width', 1000)\n",
    "\n",
    "from src.utils.consts import MODELS_PATH\n",
    "from src.model.evaluation.tensorflow_model_summary import ModelSummary\n",
    "\n",
    "model_summary = ModelSummary(MODELS_PATH, \n",
    "    ['DenseNet121_v4_2'], \n",
    "    ['DenseNet121_v4_2']\n",
    ")"
   ]
  },
  {
   "cell_type": "code",
   "execution_count": 10,
   "id": "590951b4-d134-4e87-9aa7-25c913f60d73",
   "metadata": {},
   "outputs": [
    {
     "data": {
      "text/html": [
       "<div>\n",
       "<style scoped>\n",
       "    .dataframe tbody tr th:only-of-type {\n",
       "        vertical-align: middle;\n",
       "    }\n",
       "\n",
       "    .dataframe tbody tr th {\n",
       "        vertical-align: top;\n",
       "    }\n",
       "\n",
       "    .dataframe thead th {\n",
       "        text-align: right;\n",
       "    }\n",
       "</style>\n",
       "<table border=\"1\" class=\"dataframe\">\n",
       "  <thead>\n",
       "    <tr style=\"text-align: right;\">\n",
       "      <th></th>\n",
       "      <th>Model</th>\n",
       "      <th>Metric</th>\n",
       "      <th>Best Val</th>\n",
       "      <th>Avg Val</th>\n",
       "      <th>Training</th>\n",
       "      <th>Epochs to Best</th>\n",
       "    </tr>\n",
       "  </thead>\n",
       "  <tbody>\n",
       "    <tr>\n",
       "      <th>0</th>\n",
       "      <td>DenseNet121_v4</td>\n",
       "      <td>recall</td>\n",
       "      <td>0.1361</td>\n",
       "      <td>0.0808</td>\n",
       "      <td>0.2768</td>\n",
       "      <td>30</td>\n",
       "    </tr>\n",
       "    <tr>\n",
       "      <th>1</th>\n",
       "      <td>DenseNet121_v4_1</td>\n",
       "      <td>recall</td>\n",
       "      <td>0.1383</td>\n",
       "      <td>0.0626</td>\n",
       "      <td>0.1539</td>\n",
       "      <td>29</td>\n",
       "    </tr>\n",
       "  </tbody>\n",
       "</table>\n",
       "</div>"
      ],
      "text/plain": [
       "              Model  Metric Best Val Avg Val Training  Epochs to Best\n",
       "0    DenseNet121_v4  recall   0.1361  0.0808   0.2768              30\n",
       "1  DenseNet121_v4_1  recall   0.1383  0.0626   0.1539              29"
      ]
     },
     "metadata": {},
     "output_type": "display_data"
    }
   ],
   "source": [
    "result_df = model_summary.calculate_model_metric('recall')\n",
    "display(result_df)"
   ]
  },
  {
   "cell_type": "code",
   "execution_count": 11,
   "id": "03033c76-38d8-4aad-97c6-7407a18351e1",
   "metadata": {},
   "outputs": [
    {
     "name": "stderr",
     "output_type": "stream",
     "text": [
      "2025-04-06 14:52:19.850425: I metal_plugin/src/device/metal_device.cc:1154] Metal device set to: Apple M4 Pro\n",
      "2025-04-06 14:52:19.850457: I metal_plugin/src/device/metal_device.cc:296] systemMemory: 48.00 GB\n",
      "2025-04-06 14:52:19.850461: I metal_plugin/src/device/metal_device.cc:313] maxCacheSize: 18.00 GB\n",
      "WARNING: All log messages before absl::InitializeLog() is called are written to STDERR\n",
      "I0000 00:00:1743943939.850474 46270991 pluggable_device_factory.cc:305] Could not identify NUMA node of platform GPU ID 0, defaulting to 0. Your kernel may not have been built with NUMA support.\n",
      "I0000 00:00:1743943939.850491 46270991 pluggable_device_factory.cc:271] Created TensorFlow device (/job:localhost/replica:0/task:0/device:GPU:0 with 0 MB memory) -> physical PluggableDevice (device: 0, name: METAL, pci bus id: <undefined>)\n",
      "2025-04-06 14:52:19.942862: I tensorflow/core/kernels/data/tf_record_dataset_op.cc:376] The default buffer size is 262144, which is overridden by the user specified `buffer_size` of 262144\n",
      "2025-04-06 14:52:23.935714: W tensorflow/core/lib/png/png_io.cc:89] PNG warning: iCCP: profile 'ICC Profile': 'GRAY': Gray color space not permitted on RGB PNG\n",
      "2025-04-06 14:52:37.093821: I tensorflow/core/framework/local_rendezvous.cc:405] Local rendezvous is aborting with status: OUT_OF_RANGE: End of sequence\n"
     ]
    },
    {
     "data": {
      "text/html": [
       "<div>\n",
       "<style scoped>\n",
       "    .dataframe tbody tr th:only-of-type {\n",
       "        vertical-align: middle;\n",
       "    }\n",
       "\n",
       "    .dataframe tbody tr th {\n",
       "        vertical-align: top;\n",
       "    }\n",
       "\n",
       "    .dataframe thead th {\n",
       "        text-align: right;\n",
       "    }\n",
       "</style>\n",
       "<table border=\"1\" class=\"dataframe\">\n",
       "  <thead>\n",
       "    <tr style=\"text-align: right;\">\n",
       "      <th></th>\n",
       "      <th>Model</th>\n",
       "      <th>Most Improved Classes</th>\n",
       "      <th>Problematic Classes</th>\n",
       "    </tr>\n",
       "  </thead>\n",
       "  <tbody>\n",
       "    <tr>\n",
       "      <th>0</th>\n",
       "      <td>DenseNet121_v4</td>\n",
       "      <td>Cardiomegaly (AUC=0.84, F1=0.33, wt=2.5), Effusion (AUC=0.80, F1=0.28, wt=0.5), Mass (AUC=0.72, F1=0.24, wt=1.2)</td>\n",
       "      <td>Pneumothorax (AUC=0.76, F1=0.04, wt=4.9), Pleural_Thickening (AUC=0.68, F1=0.00, wt=1.1), Atelectasis (AUC=0.68, F1=0.03, wt=0.6)</td>\n",
       "    </tr>\n",
       "    <tr>\n",
       "      <th>1</th>\n",
       "      <td>DenseNet121_v4_1</td>\n",
       "      <td>Effusion (AUC=0.83, F1=0.45, wt=0.5), Hernia (AUC=0.84, F1=0.33, wt=30.2), Cardiomegaly (AUC=0.87, F1=0.32, wt=2.5)</td>\n",
       "      <td>Consolidation (AUC=0.75, F1=0.00, wt=1.5), Pleural_Thickening (AUC=0.71, F1=0.01, wt=1.1), Pneumonia (AUC=0.68, F1=0.00, wt=2.0)</td>\n",
       "    </tr>\n",
       "  </tbody>\n",
       "</table>\n",
       "</div>"
      ],
      "text/plain": [
       "              Model                                                                                                Most Improved Classes                                                                                                                Problematic Classes\n",
       "0    DenseNet121_v4     Cardiomegaly (AUC=0.84, F1=0.33, wt=2.5), Effusion (AUC=0.80, F1=0.28, wt=0.5), Mass (AUC=0.72, F1=0.24, wt=1.2)  Pneumothorax (AUC=0.76, F1=0.04, wt=4.9), Pleural_Thickening (AUC=0.68, F1=0.00, wt=1.1), Atelectasis (AUC=0.68, F1=0.03, wt=0.6)\n",
       "1  DenseNet121_v4_1  Effusion (AUC=0.83, F1=0.45, wt=0.5), Hernia (AUC=0.84, F1=0.33, wt=30.2), Cardiomegaly (AUC=0.87, F1=0.32, wt=2.5)   Consolidation (AUC=0.75, F1=0.00, wt=1.5), Pleural_Thickening (AUC=0.71, F1=0.01, wt=1.1), Pneumonia (AUC=0.68, F1=0.00, wt=2.0)"
      ]
     },
     "metadata": {},
     "output_type": "display_data"
    }
   ],
   "source": [
    "result_df = model_summary.analyze_class_performance()\n",
    "display(result_df)"
   ]
  },
  {
   "cell_type": "code",
   "execution_count": 12,
   "id": "694afd8d-1b4f-4c97-9159-0414f7563808",
   "metadata": {},
   "outputs": [
    {
     "data": {
      "text/html": [
       "<div>\n",
       "<style scoped>\n",
       "    .dataframe tbody tr th:only-of-type {\n",
       "        vertical-align: middle;\n",
       "    }\n",
       "\n",
       "    .dataframe tbody tr th {\n",
       "        vertical-align: top;\n",
       "    }\n",
       "\n",
       "    .dataframe thead th {\n",
       "        text-align: right;\n",
       "    }\n",
       "</style>\n",
       "<table border=\"1\" class=\"dataframe\">\n",
       "  <thead>\n",
       "    <tr style=\"text-align: right;\">\n",
       "      <th></th>\n",
       "      <th>Model</th>\n",
       "      <th>Initial Loss</th>\n",
       "      <th>Final Loss</th>\n",
       "      <th>Rate of Convergence</th>\n",
       "      <th>Loss Volatility</th>\n",
       "    </tr>\n",
       "  </thead>\n",
       "  <tbody>\n",
       "    <tr>\n",
       "      <th>0</th>\n",
       "      <td>DenseNet121_v4</td>\n",
       "      <td>1.6632</td>\n",
       "      <td>0.1693</td>\n",
       "      <td>0.0515</td>\n",
       "      <td>0.2718</td>\n",
       "    </tr>\n",
       "    <tr>\n",
       "      <th>1</th>\n",
       "      <td>DenseNet121_v4_1</td>\n",
       "      <td>1.7498</td>\n",
       "      <td>0.1845</td>\n",
       "      <td>0.0540</td>\n",
       "      <td>0.2866</td>\n",
       "    </tr>\n",
       "  </tbody>\n",
       "</table>\n",
       "</div>"
      ],
      "text/plain": [
       "              Model  Initial Loss  Final Loss  Rate of Convergence  Loss Volatility\n",
       "0    DenseNet121_v4        1.6632      0.1693               0.0515           0.2718\n",
       "1  DenseNet121_v4_1        1.7498      0.1845               0.0540           0.2866"
      ]
     },
     "metadata": {},
     "output_type": "display_data"
    }
   ],
   "source": [
    "result_df = model_summary.calculate_loss_metrics()\n",
    "display(result_df)"
   ]
  },
  {
   "cell_type": "code",
   "execution_count": 13,
   "id": "ce93002f-49a5-4b5a-bc57-2a776d73d332",
   "metadata": {},
   "outputs": [
    {
     "data": {
      "text/html": [
       "<div>\n",
       "<style scoped>\n",
       "    .dataframe tbody tr th:only-of-type {\n",
       "        vertical-align: middle;\n",
       "    }\n",
       "\n",
       "    .dataframe tbody tr th {\n",
       "        vertical-align: top;\n",
       "    }\n",
       "\n",
       "    .dataframe thead th {\n",
       "        text-align: right;\n",
       "    }\n",
       "</style>\n",
       "<table border=\"1\" class=\"dataframe\">\n",
       "  <thead>\n",
       "    <tr style=\"text-align: right;\">\n",
       "      <th></th>\n",
       "      <th>Model</th>\n",
       "      <th>Converged</th>\n",
       "      <th>Epochs to Stabilize</th>\n",
       "      <th>Oscillation After Convergence</th>\n",
       "      <th>Final vs. Best Epoch</th>\n",
       "    </tr>\n",
       "  </thead>\n",
       "  <tbody>\n",
       "    <tr>\n",
       "      <th>0</th>\n",
       "      <td>DenseNet121_v4</td>\n",
       "      <td>Yes</td>\n",
       "      <td>12</td>\n",
       "      <td>High</td>\n",
       "      <td>92.2% (Moderate Drop (Best Near End))</td>\n",
       "    </tr>\n",
       "    <tr>\n",
       "      <th>1</th>\n",
       "      <td>DenseNet121_v4_1</td>\n",
       "      <td>Yes</td>\n",
       "      <td>21</td>\n",
       "      <td>Medium</td>\n",
       "      <td>86.7% (Moderate Drop (Best Near End))</td>\n",
       "    </tr>\n",
       "  </tbody>\n",
       "</table>\n",
       "</div>"
      ],
      "text/plain": [
       "              Model Converged  Epochs to Stabilize Oscillation After Convergence                   Final vs. Best Epoch\n",
       "0    DenseNet121_v4       Yes                   12                          High  92.2% (Moderate Drop (Best Near End))\n",
       "1  DenseNet121_v4_1       Yes                   21                        Medium  86.7% (Moderate Drop (Best Near End))"
      ]
     },
     "metadata": {},
     "output_type": "display_data"
    }
   ],
   "source": [
    "result_df = model_summary.calculate_convergence_metrics()\n",
    "display(result_df)"
   ]
  },
  {
   "cell_type": "code",
   "execution_count": 6,
   "id": "0ed02c45-1024-42bd-aa6d-a5bf5618adbf",
   "metadata": {},
   "outputs": [
    {
     "data": {
      "text/html": [
       "<div>\n",
       "<style scoped>\n",
       "    .dataframe tbody tr th:only-of-type {\n",
       "        vertical-align: middle;\n",
       "    }\n",
       "\n",
       "    .dataframe tbody tr th {\n",
       "        vertical-align: top;\n",
       "    }\n",
       "\n",
       "    .dataframe thead th {\n",
       "        text-align: right;\n",
       "    }\n",
       "</style>\n",
       "<table border=\"1\" class=\"dataframe\">\n",
       "  <thead>\n",
       "    <tr style=\"text-align: right;\">\n",
       "      <th></th>\n",
       "      <th>Model</th>\n",
       "      <th>Early TP Count</th>\n",
       "      <th>Mid TP Count</th>\n",
       "      <th>Final TP Count</th>\n",
       "    </tr>\n",
       "  </thead>\n",
       "  <tbody>\n",
       "    <tr>\n",
       "      <th>0</th>\n",
       "      <td>DenseNet121_v4</td>\n",
       "      <td>440.1</td>\n",
       "      <td>1065.9</td>\n",
       "      <td>1412.9</td>\n",
       "    </tr>\n",
       "    <tr>\n",
       "      <th>1</th>\n",
       "      <td>DenseNet121_v4_1</td>\n",
       "      <td>174.8</td>\n",
       "      <td>925.5</td>\n",
       "      <td>1238.7</td>\n",
       "    </tr>\n",
       "  </tbody>\n",
       "</table>\n",
       "</div>"
      ],
      "text/plain": [
       "              Model Early TP Count Mid TP Count Final TP Count\n",
       "0    DenseNet121_v4          440.1       1065.9         1412.9\n",
       "1  DenseNet121_v4_1          174.8        925.5         1238.7"
      ]
     },
     "metadata": {},
     "output_type": "display_data"
    }
   ],
   "source": [
    "result_df = model_summary.calculate_tp_count_evolution()\n",
    "display(result_df)"
   ]
  },
  {
   "cell_type": "code",
   "execution_count": null,
   "id": "dd3c4b8f-f8a1-42ac-bd8b-13fba61cc643",
   "metadata": {},
   "outputs": [],
   "source": []
  }
 ],
 "metadata": {
  "kernelspec": {
   "display_name": "Python 3 (ipykernel)",
   "language": "python",
   "name": "python3"
  },
  "language_info": {
   "codemirror_mode": {
    "name": "ipython",
    "version": 3
   },
   "file_extension": ".py",
   "mimetype": "text/x-python",
   "name": "python",
   "nbconvert_exporter": "python",
   "pygments_lexer": "ipython3",
   "version": "3.11.0"
  }
 },
 "nbformat": 4,
 "nbformat_minor": 5
}
