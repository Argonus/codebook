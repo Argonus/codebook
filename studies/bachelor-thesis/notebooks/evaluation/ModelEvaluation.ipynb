{
 "cells": [
  {
   "cell_type": "code",
   "execution_count": null,
   "id": "e845868e-31d1-46c0-ba89-f0ba1c3c143b",
   "metadata": {},
   "outputs": [],
   "source": [
    "# Import dependencies\n",
    "import os\n",
    "os.environ['TF_CPP_MIN_VLOG_LEVEL'] = '0'\n",
    "os.environ['TF_CPP_MIN_LOG_LEVEL'] = '2'\n",
    "\n",
    "import pandas as pd\n",
    "import numpy as np\n",
    "import tensorflow as tf\n",
    "import logging\n",
    "from tqdm import tqdm\n",
    "\n",
    "# Import local modules\n",
    "from src.model.evaluation.tensorflow_model_evaluation import ModelEvaluation\n",
    "from src.utils.consts import MODELS_PATH, TF_RECORD_DATASET\n",
    "from src.model.tensorflow_utils import load_dataset, load_model, optimize_dataset"
   ]
  },
  {
   "cell_type": "code",
   "execution_count": null,
   "id": "2b768ec8-47ab-4e3a-98bf-687058bed810",
   "metadata": {},
   "outputs": [],
   "source": [
    "model_name      = \"DenseNetV2_1\"\n",
    "model           = load_model(MODELS_PATH, model_name)"
   ]
  },
  {
   "cell_type": "code",
   "execution_count": null,
   "id": "10e70b84-4d8b-4600-8146-cf844b5880a0",
   "metadata": {},
   "outputs": [],
   "source": [
    "mappings_path = f\"{TF_RECORD_DATASET}/label_mappings.csv\"\n",
    "evaluator = ModelEvaluation(model=model, model_name=model_name, label_mappings_path=mappings_path, output_dir=MODELS_PATH)\n",
    "metrics = evaluator.evaluate()\n",
    "evaluator.generate_classification_report()\n",
    "evaluator.plot_confusion_matrices()"
   ]
  },
  {
   "cell_type": "code",
   "execution_count": null,
   "id": "dcbb6ba9-d431-454f-9acb-2165b5117ffc",
   "metadata": {},
   "outputs": [],
   "source": [
    "test_ds = evaluator.get_test_dataset()\n",
    "\n",
    "for image, labels in test_ds.take(1):\n",
    "    if len(image.shape) == 4:\n",
    "        image = image[0]\n",
    "        labels = labels[0]\n",
    "    \n",
    "    evaluator.visualize_prediction(image=image, true_labels=labels)"
   ]
  },
  {
   "cell_type": "code",
   "execution_count": null,
   "id": "285aa7af-62fc-4ad6-89fe-3081833e798b",
   "metadata": {},
   "outputs": [],
   "source": []
  },
  {
   "cell_type": "code",
   "execution_count": null,
   "id": "322dd950-0705-4e0a-aec1-3fd721db492e",
   "metadata": {},
   "outputs": [],
   "source": []
  }
 ],
 "metadata": {
  "kernelspec": {
   "display_name": "Python 3 (ipykernel)",
   "language": "python",
   "name": "python3"
  },
  "language_info": {
   "codemirror_mode": {
    "name": "ipython",
    "version": 3
   },
   "file_extension": ".py",
   "mimetype": "text/x-python",
   "name": "python",
   "nbconvert_exporter": "python",
   "pygments_lexer": "ipython3",
   "version": "3.10.16"
  }
 },
 "nbformat": 4,
 "nbformat_minor": 5
}
