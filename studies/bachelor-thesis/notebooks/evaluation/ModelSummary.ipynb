{
 "cells": [
  {
   "cell_type": "code",
   "execution_count": 14,
   "id": "cd91cddc-107e-44c5-9f89-714565dba8d1",
   "metadata": {},
   "outputs": [],
   "source": [
    "import pandas as pd\n",
    "pd.set_option('display.max_colwidth', None)\n",
    "pd.set_option('display.width', 1000)\n",
    "\n",
    "from src.utils.consts import MODELS_PATH\n",
    "from src.model.evaluation.tensorflow_model_summary import ModelSummary\n",
    "\n",
    "model_summary = ModelSummary(MODELS_PATH, \n",
    "    ['DenseNet121_v4_2'], \n",
    "    ['DenseNet121_v4_2']\n",
    ")"
   ]
  },
  {
   "cell_type": "code",
   "execution_count": 16,
   "id": "590951b4-d134-4e87-9aa7-25c913f60d73",
   "metadata": {},
   "outputs": [
    {
     "data": {
      "text/html": [
       "<div>\n",
       "<style scoped>\n",
       "    .dataframe tbody tr th:only-of-type {\n",
       "        vertical-align: middle;\n",
       "    }\n",
       "\n",
       "    .dataframe tbody tr th {\n",
       "        vertical-align: top;\n",
       "    }\n",
       "\n",
       "    .dataframe thead th {\n",
       "        text-align: right;\n",
       "    }\n",
       "</style>\n",
       "<table border=\"1\" class=\"dataframe\">\n",
       "  <thead>\n",
       "    <tr style=\"text-align: right;\">\n",
       "      <th></th>\n",
       "      <th>Model</th>\n",
       "      <th>Metric</th>\n",
       "      <th>Best Val</th>\n",
       "      <th>Avg Val</th>\n",
       "      <th>Training</th>\n",
       "      <th>Epochs to Best</th>\n",
       "    </tr>\n",
       "  </thead>\n",
       "  <tbody>\n",
       "    <tr>\n",
       "      <th>0</th>\n",
       "      <td>DenseNet121_v4_2</td>\n",
       "      <td>recall</td>\n",
       "      <td>0.1372</td>\n",
       "      <td>0.0607</td>\n",
       "      <td>0.1343</td>\n",
       "      <td>23</td>\n",
       "    </tr>\n",
       "    <tr>\n",
       "      <th>1</th>\n",
       "      <td>DenseNet121_v5</td>\n",
       "      <td>recall</td>\n",
       "      <td>0.1192</td>\n",
       "      <td>0.0518</td>\n",
       "      <td>0.1227</td>\n",
       "      <td>29</td>\n",
       "    </tr>\n",
       "  </tbody>\n",
       "</table>\n",
       "</div>"
      ],
      "text/plain": [
       "              Model  Metric Best Val Avg Val Training  Epochs to Best\n",
       "0  DenseNet121_v4_2  recall   0.1372  0.0607   0.1343              23\n",
       "1    DenseNet121_v5  recall   0.1192  0.0518   0.1227              29"
      ]
     },
     "metadata": {},
     "output_type": "display_data"
    }
   ],
   "source": [
    "result_df = model_summary.calculate_model_metric('recall')\n",
    "display(result_df)"
   ]
  },
  {
   "cell_type": "code",
   "execution_count": 17,
   "id": "03033c76-38d8-4aad-97c6-7407a18351e1",
   "metadata": {},
   "outputs": [
    {
     "name": "stderr",
     "output_type": "stream",
     "text": [
      "2025-04-11 20:47:00.410644: W tensorflow/core/lib/png/png_io.cc:89] PNG warning: iCCP: profile 'ICC Profile': 'GRAY': Gray color space not permitted on RGB PNG\n"
     ]
    },
    {
     "data": {
      "text/html": [
       "<div>\n",
       "<style scoped>\n",
       "    .dataframe tbody tr th:only-of-type {\n",
       "        vertical-align: middle;\n",
       "    }\n",
       "\n",
       "    .dataframe tbody tr th {\n",
       "        vertical-align: top;\n",
       "    }\n",
       "\n",
       "    .dataframe thead th {\n",
       "        text-align: right;\n",
       "    }\n",
       "</style>\n",
       "<table border=\"1\" class=\"dataframe\">\n",
       "  <thead>\n",
       "    <tr style=\"text-align: right;\">\n",
       "      <th></th>\n",
       "      <th>Model</th>\n",
       "      <th>Most Improved Classes</th>\n",
       "      <th>Problematic Classes</th>\n",
       "    </tr>\n",
       "  </thead>\n",
       "  <tbody>\n",
       "    <tr>\n",
       "      <th>0</th>\n",
       "      <td>DenseNet121_v4_2</td>\n",
       "      <td>Effusion (AUC=0.85, F1=0.41, wt=0.5), Cardiomegaly (AUC=0.89, F1=0.39, wt=2.5), Hernia (AUC=0.88, F1=0.31, wt=30.2)</td>\n",
       "      <td>Consolidation (AUC=0.77, F1=0.00, wt=1.5), Atelectasis (AUC=0.75, F1=0.03, wt=0.6), Pleural_Thickening (AUC=0.72, F1=0.03, wt=1.1)</td>\n",
       "    </tr>\n",
       "    <tr>\n",
       "      <th>1</th>\n",
       "      <td>DenseNet121_v5</td>\n",
       "      <td>Effusion (AUC=0.85, F1=0.44, wt=0.5), Cardiomegaly (AUC=0.88, F1=0.33, wt=2.5), Hernia (AUC=0.85, F1=0.25, wt=30.2)</td>\n",
       "      <td>Pneumothorax (AUC=0.81, F1=0.03, wt=4.9), Consolidation (AUC=0.76, F1=0.00, wt=1.5), Atelectasis (AUC=0.74, F1=0.04, wt=0.6)</td>\n",
       "    </tr>\n",
       "  </tbody>\n",
       "</table>\n",
       "</div>"
      ],
      "text/plain": [
       "              Model                                                                                                Most Improved Classes                                                                                                                 Problematic Classes\n",
       "0  DenseNet121_v4_2  Effusion (AUC=0.85, F1=0.41, wt=0.5), Cardiomegaly (AUC=0.89, F1=0.39, wt=2.5), Hernia (AUC=0.88, F1=0.31, wt=30.2)  Consolidation (AUC=0.77, F1=0.00, wt=1.5), Atelectasis (AUC=0.75, F1=0.03, wt=0.6), Pleural_Thickening (AUC=0.72, F1=0.03, wt=1.1)\n",
       "1    DenseNet121_v5  Effusion (AUC=0.85, F1=0.44, wt=0.5), Cardiomegaly (AUC=0.88, F1=0.33, wt=2.5), Hernia (AUC=0.85, F1=0.25, wt=30.2)        Pneumothorax (AUC=0.81, F1=0.03, wt=4.9), Consolidation (AUC=0.76, F1=0.00, wt=1.5), Atelectasis (AUC=0.74, F1=0.04, wt=0.6)"
      ]
     },
     "metadata": {},
     "output_type": "display_data"
    }
   ],
   "source": [
    "result_df = model_summary.analyze_class_performance()\n",
    "display(result_df)"
   ]
  },
  {
   "cell_type": "code",
   "execution_count": 18,
   "id": "694afd8d-1b4f-4c97-9159-0414f7563808",
   "metadata": {},
   "outputs": [
    {
     "data": {
      "text/html": [
       "<div>\n",
       "<style scoped>\n",
       "    .dataframe tbody tr th:only-of-type {\n",
       "        vertical-align: middle;\n",
       "    }\n",
       "\n",
       "    .dataframe tbody tr th {\n",
       "        vertical-align: top;\n",
       "    }\n",
       "\n",
       "    .dataframe thead th {\n",
       "        text-align: right;\n",
       "    }\n",
       "</style>\n",
       "<table border=\"1\" class=\"dataframe\">\n",
       "  <thead>\n",
       "    <tr style=\"text-align: right;\">\n",
       "      <th></th>\n",
       "      <th>Model</th>\n",
       "      <th>Initial Loss</th>\n",
       "      <th>Final Loss</th>\n",
       "      <th>Rate of Convergence</th>\n",
       "      <th>Loss Volatility</th>\n",
       "    </tr>\n",
       "  </thead>\n",
       "  <tbody>\n",
       "    <tr>\n",
       "      <th>0</th>\n",
       "      <td>DenseNet121_v4_2</td>\n",
       "      <td>1.7078</td>\n",
       "      <td>0.1871</td>\n",
       "      <td>0.0524</td>\n",
       "      <td>0.2773</td>\n",
       "    </tr>\n",
       "    <tr>\n",
       "      <th>1</th>\n",
       "      <td>DenseNet121_v5</td>\n",
       "      <td>1.5949</td>\n",
       "      <td>0.1890</td>\n",
       "      <td>0.0485</td>\n",
       "      <td>0.2548</td>\n",
       "    </tr>\n",
       "  </tbody>\n",
       "</table>\n",
       "</div>"
      ],
      "text/plain": [
       "              Model  Initial Loss  Final Loss  Rate of Convergence  Loss Volatility\n",
       "0  DenseNet121_v4_2        1.7078      0.1871               0.0524           0.2773\n",
       "1    DenseNet121_v5        1.5949      0.1890               0.0485           0.2548"
      ]
     },
     "metadata": {},
     "output_type": "display_data"
    }
   ],
   "source": [
    "result_df = model_summary.calculate_loss_metrics()\n",
    "display(result_df)"
   ]
  },
  {
   "cell_type": "code",
   "execution_count": 19,
   "id": "ce93002f-49a5-4b5a-bc57-2a776d73d332",
   "metadata": {},
   "outputs": [
    {
     "data": {
      "text/html": [
       "<div>\n",
       "<style scoped>\n",
       "    .dataframe tbody tr th:only-of-type {\n",
       "        vertical-align: middle;\n",
       "    }\n",
       "\n",
       "    .dataframe tbody tr th {\n",
       "        vertical-align: top;\n",
       "    }\n",
       "\n",
       "    .dataframe thead th {\n",
       "        text-align: right;\n",
       "    }\n",
       "</style>\n",
       "<table border=\"1\" class=\"dataframe\">\n",
       "  <thead>\n",
       "    <tr style=\"text-align: right;\">\n",
       "      <th></th>\n",
       "      <th>Model</th>\n",
       "      <th>Converged</th>\n",
       "      <th>Epochs to Stabilize</th>\n",
       "      <th>Oscillation After Convergence</th>\n",
       "      <th>Final vs. Best Epoch</th>\n",
       "    </tr>\n",
       "  </thead>\n",
       "  <tbody>\n",
       "    <tr>\n",
       "      <th>0</th>\n",
       "      <td>DenseNet121_v4_2</td>\n",
       "      <td>Yes</td>\n",
       "      <td>13</td>\n",
       "      <td>High</td>\n",
       "      <td>81.2% (Moderate Drop (Best Near End))</td>\n",
       "    </tr>\n",
       "    <tr>\n",
       "      <th>1</th>\n",
       "      <td>DenseNet121_v5</td>\n",
       "      <td>Yes</td>\n",
       "      <td>8</td>\n",
       "      <td>High</td>\n",
       "      <td>91.5% (Moderate Drop (Best Near End))</td>\n",
       "    </tr>\n",
       "  </tbody>\n",
       "</table>\n",
       "</div>"
      ],
      "text/plain": [
       "              Model Converged  Epochs to Stabilize Oscillation After Convergence                   Final vs. Best Epoch\n",
       "0  DenseNet121_v4_2       Yes                   13                          High  81.2% (Moderate Drop (Best Near End))\n",
       "1    DenseNet121_v5       Yes                    8                          High  91.5% (Moderate Drop (Best Near End))"
      ]
     },
     "metadata": {},
     "output_type": "display_data"
    }
   ],
   "source": [
    "result_df = model_summary.calculate_convergence_metrics()\n",
    "display(result_df)"
   ]
  },
  {
   "cell_type": "code",
   "execution_count": 20,
   "id": "0ed02c45-1024-42bd-aa6d-a5bf5618adbf",
   "metadata": {},
   "outputs": [
    {
     "data": {
      "text/html": [
       "<div>\n",
       "<style scoped>\n",
       "    .dataframe tbody tr th:only-of-type {\n",
       "        vertical-align: middle;\n",
       "    }\n",
       "\n",
       "    .dataframe tbody tr th {\n",
       "        vertical-align: top;\n",
       "    }\n",
       "\n",
       "    .dataframe thead th {\n",
       "        text-align: right;\n",
       "    }\n",
       "</style>\n",
       "<table border=\"1\" class=\"dataframe\">\n",
       "  <thead>\n",
       "    <tr style=\"text-align: right;\">\n",
       "      <th></th>\n",
       "      <th>Model</th>\n",
       "      <th>Early TP Count</th>\n",
       "      <th>Mid TP Count</th>\n",
       "      <th>Final TP Count</th>\n",
       "    </tr>\n",
       "  </thead>\n",
       "  <tbody>\n",
       "    <tr>\n",
       "      <th>0</th>\n",
       "      <td>DenseNet121_v4_2</td>\n",
       "      <td>265.0</td>\n",
       "      <td>807.2</td>\n",
       "      <td>1126.9</td>\n",
       "    </tr>\n",
       "    <tr>\n",
       "      <th>1</th>\n",
       "      <td>DenseNet121_v5</td>\n",
       "      <td>222.3</td>\n",
       "      <td>709.2</td>\n",
       "      <td>988.7</td>\n",
       "    </tr>\n",
       "  </tbody>\n",
       "</table>\n",
       "</div>"
      ],
      "text/plain": [
       "              Model Early TP Count Mid TP Count Final TP Count\n",
       "0  DenseNet121_v4_2          265.0        807.2         1126.9\n",
       "1    DenseNet121_v5          222.3        709.2          988.7"
      ]
     },
     "metadata": {},
     "output_type": "display_data"
    }
   ],
   "source": [
    "result_df = model_summary.calculate_tp_count_evolution()\n",
    "display(result_df)"
   ]
  },
  {
   "cell_type": "code",
   "execution_count": null,
   "id": "dd3c4b8f-f8a1-42ac-bd8b-13fba61cc643",
   "metadata": {},
   "outputs": [],
   "source": []
  }
 ],
 "metadata": {
  "kernelspec": {
   "display_name": "Python 3 (ipykernel)",
   "language": "python",
   "name": "python3"
  },
  "language_info": {
   "codemirror_mode": {
    "name": "ipython",
    "version": 3
   },
   "file_extension": ".py",
   "mimetype": "text/x-python",
   "name": "python",
   "nbconvert_exporter": "python",
   "pygments_lexer": "ipython3",
   "version": "3.11.0"
  }
 },
 "nbformat": 4,
 "nbformat_minor": 5
}
