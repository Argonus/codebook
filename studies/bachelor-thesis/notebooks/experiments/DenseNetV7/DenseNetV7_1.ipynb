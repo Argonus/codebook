{
 "cells": [
  {
   "cell_type": "code",
   "execution_count": 1,
   "id": "b694919a-9b18-4068-8e69-7258de889dff",
   "metadata": {},
   "outputs": [
    {
     "name": "stderr",
     "output_type": "stream",
     "text": [
      "2025-06-21 15:12:41.249235: E external/local_xla/xla/stream_executor/cuda/cuda_fft.cc:467] Unable to register cuFFT factory: Attempting to register factory for plugin cuFFT when one has already been registered\n",
      "WARNING: All log messages before absl::InitializeLog() is called are written to STDERR\n",
      "E0000 00:00:1750511561.257128    3897 cuda_dnn.cc:8579] Unable to register cuDNN factory: Attempting to register factory for plugin cuDNN when one has already been registered\n",
      "E0000 00:00:1750511561.259514    3897 cuda_blas.cc:1407] Unable to register cuBLAS factory: Attempting to register factory for plugin cuBLAS when one has already been registered\n",
      "W0000 00:00:1750511561.265659    3897 computation_placer.cc:177] computation placer already registered. Please check linkage and avoid linking the same target more than once.\n",
      "W0000 00:00:1750511561.265666    3897 computation_placer.cc:177] computation placer already registered. Please check linkage and avoid linking the same target more than once.\n",
      "W0000 00:00:1750511561.265667    3897 computation_placer.cc:177] computation placer already registered. Please check linkage and avoid linking the same target more than once.\n",
      "W0000 00:00:1750511561.265668    3897 computation_placer.cc:177] computation placer already registered. Please check linkage and avoid linking the same target more than once.\n"
     ]
    },
    {
     "name": "stdout",
     "output_type": "stream",
     "text": [
      "\n",
      "GPU configuration successful!\n",
      "Device: /physical_device:GPU:0\n",
      "Memory limit: 18.0 GB\n",
      "\n",
      "TensorFlow optimizations status:\n",
      "- CPU Threads: 16 intra-op, 9 inter-op (32 cores total)\n",
      "- XLA JIT: enabled (autoclustering)\n",
      "- Synchronous Execution: enabled\n",
      "\n",
      "GPU Device Details:\n",
      "- Device: GPU /physical_device:GPU:0\n",
      "- Memory limit: 18.0 GB\n"
     ]
    },
    {
     "name": "stderr",
     "output_type": "stream",
     "text": [
      "I0000 00:00:1750511562.555607    3897 gpu_process_state.cc:208] Using CUDA malloc Async allocator for GPU: 0\n",
      "I0000 00:00:1750511562.555729    3897 gpu_device.cc:2019] Created device /job:localhost/replica:0/task:0/device:GPU:0 with 19327352832 MB memory:  -> device: 0, name: NVIDIA GeForce RTX 3090 Ti, pci bus id: 0000:01:00.0, compute capability: 8.6\n"
     ]
    }
   ],
   "source": [
    "# Import dependencies\n",
    "import os\n",
    "16\n",
    "os.environ['TF_CPP_MIN_VLOG_LEVEL'] = '0'\n",
    "os.environ['TF_CPP_MIN_LOG_LEVEL'] = '2'\n",
    "os.environ['TF_GPU_ALLOCATOR'] = 'cuda_malloc_async'\n",
    "os.environ['TF_FORCE_GPU_ALLOW_GROWTH'] = 'true'\n",
    "\n",
    "from src.utils.gpu_config import configure_gpu, optimize_tensorflow\n",
    "\n",
    "configure_gpu()\n",
    "optimize_tensorflow()"
   ]
  },
  {
   "cell_type": "code",
   "execution_count": 2,
   "id": "2b854daf-5f2a-4c33-9180-5081cd415b16",
   "metadata": {},
   "outputs": [],
   "source": [
    "# Import Tensorflow Keras\n",
    "from tensorflow.keras.optimizers import Adam\n",
    "from tensorflow.keras.losses import BinaryFocalCrossentropy\n",
    "from tensorflow.keras.callbacks import ReduceLROnPlateau, ModelCheckpoint\n",
    "\n",
    "# Import local modules\n",
    "from src.utils.consts import TF_RECORD_DATASET, MODELS_PATH, TF_BUFFER_SIZE, TF_SHUFFLE_SIZE, TF_BATCH_SIZE, TF_MAX_EPOCHS\n",
    "from src.model.tensorflow_utils import load_dataset, optimize_dataset, count_dataset_size, get_num_classes, get_metrics\n",
    "from src.model.tensorflow_utils import setup_logger, setup_training_logger, setup_metrics_monitor, setup_early_stopping, filter_no_finding_class\n",
    "from src.model.tensorflow_utils import start_or_resume_training, apply_augmentation_to_dataset, calculate_class_weights, oversample_minority_classes\n",
    "from src.model.densnet.tensorflow_dense_net_121 import build_densenet121\n",
    "\n",
    "# Input Data\n",
    "initial_epoch   = None\n",
    "resume_training = False\n",
    "checkpoint_path = None\n",
    "set_name        = \"DenseNetV7\"\n",
    "model_name      = f\"{set_name}_1\"\n",
    "num_classes     = get_num_classes()\n",
    "\n",
    "train_ds = load_dataset(f\"{TF_RECORD_DATASET}/train.tfrecord\", TF_BUFFER_SIZE)\n",
    "val_ds   = load_dataset(f\"{TF_RECORD_DATASET}/val.tfrecord\", TF_BUFFER_SIZE)\n",
    "\n",
    "train_ds = filter_no_finding_class(train_ds)\n",
    "val_ds   = filter_no_finding_class(val_ds)\n",
    "\n",
    "class_weights = calculate_class_weights(train_ds, num_classes)\n",
    "train_ds      = oversample_minority_classes(train_ds, class_weights)\n",
    "class_weights = calculate_class_weights(train_ds, num_classes)"
   ]
  },
  {
   "cell_type": "code",
   "execution_count": 3,
   "id": "5f152b8a-8ff8-4095-9815-e304ce2beb52",
   "metadata": {},
   "outputs": [
    {
     "name": "stderr",
     "output_type": "stream",
     "text": [
      "Counting samples: 104166 samples [00:35, 2948.84 samples/s] \n",
      "Counting samples: 15431 samples [00:08, 1743.57 samples/s]\n"
     ]
    }
   ],
   "source": [
    "steps_per_epoch  = int(count_dataset_size(train_ds, None) / TF_BATCH_SIZE)\n",
    "validation_steps = int(count_dataset_size(val_ds, None) / TF_BATCH_SIZE)\n",
    "\n",
    "train_ds = train_ds.shuffle(TF_SHUFFLE_SIZE, reshuffle_each_iteration=True)\n",
    "train_ds = apply_augmentation_to_dataset(train_ds, {})\n",
    "train_ds = optimize_dataset(train_ds, TF_BATCH_SIZE)\n",
    "\n",
    "val_ds   = optimize_dataset(val_ds, TF_BATCH_SIZE)"
   ]
  },
  {
   "cell_type": "code",
   "execution_count": 4,
   "id": "3a0e37c9-b178-40d8-bd25-8c0a6498564a",
   "metadata": {},
   "outputs": [],
   "source": [
    "# Setup Model Deps\n",
    "logger            = setup_logger()\n",
    "training_logger   = setup_training_logger(logger, TF_BATCH_SIZE, 100)\n",
    "metrics_monitor   = setup_metrics_monitor(MODELS_PATH, model_name, logger, resume_training=resume_training, initial_epoch=initial_epoch)\n",
    "metrics           = get_metrics()\n",
    "\n",
    "# Setup compile arguments\n",
    "loss           = BinaryFocalCrossentropy(gamma=2.0, from_logits=False, label_smoothing=0.05)\n",
    "reduce_lr      = ReduceLROnPlateau(monitor=\"val_f1_score\", factor=0.5,  patience=3, min_lr=1e-6, mode=\"max\", verbose=1)\n",
    "early_stopping = setup_early_stopping()\n",
    "\n",
    "epoch_mode           = 'cp-{epoch:04d}'\n",
    "save_checkpoint_path = f\"{MODELS_PATH}/{model_name}/checkpoints/{epoch_mode}.keras\"\n",
    "checkpoint           = ModelCheckpoint(save_checkpoint_path, monitor=\"val_f1_score\", save_best_only=False, mode=\"max\", save_weights_only=False)\n",
    "\n",
    "model_path      = f\"{MODELS_PATH}/{model_name}.keras\"\n",
    "best_checkpoint = ModelCheckpoint(model_path, monitor=\"val_f1_score\", save_best_only=True, mode=\"max\", save_weights_only=False)"
   ]
  },
  {
   "cell_type": "code",
   "execution_count": 5,
   "id": "c44d4a9a-ffbb-4917-a702-c35773b9857c",
   "metadata": {},
   "outputs": [
    {
     "name": "stderr",
     "output_type": "stream",
     "text": [
      "2025-06-21 15:14:37 - INFO - \n",
      "=== Training Started ===\n",
      "\n",
      "2025-06-21 15:14:37 - INFO - Batch Size: 128\n",
      "2025-06-21 15:14:37 - INFO - Optimizer: Adam\n",
      "2025-06-21 15:14:37 - INFO - \n",
      "==================================================\n",
      "\n",
      "2025-06-21 15:14:37 - INFO - \n",
      "=== Starting Epoch 1 ===\n",
      "\n"
     ]
    },
    {
     "name": "stdout",
     "output_type": "stream",
     "text": [
      "Epoch 1/100\n"
     ]
    },
    {
     "name": "stderr",
     "output_type": "stream",
     "text": [
      "WARNING: All log messages before absl::InitializeLog() is called are written to STDERR\n",
      "I0000 00:00:1750511686.333405    3956 service.cc:152] XLA service 0x717d280034e0 initialized for platform CUDA (this does not guarantee that XLA will be used). Devices:\n",
      "I0000 00:00:1750511686.333420    3956 service.cc:160]   StreamExecutor device (0): NVIDIA GeForce RTX 3090 Ti, Compute Capability 8.6\n",
      "I0000 00:00:1750511686.349060    3956 cuda_dnn.cc:529] Loaded cuDNN version 90300\n",
      "I0000 00:00:1750511686.423409    3956 device_compiler.h:188] Compiled cluster using XLA!  This line is logged at most once for the lifetime of the process.\n"
     ]
    },
    {
     "name": "stdout",
     "output_type": "stream",
     "text": [
      "\u001b[1m813/813\u001b[0m \u001b[32m━━━━━━━━━━━━━━━━━━━━\u001b[0m\u001b[37m\u001b[0m \u001b[1m0s\u001b[0m 222ms/step - accuracy: 0.9125 - auc: 0.5525 - f1_score: 0.0307 - loss: 1.7502 - precision: 0.1502 - recall: 0.0207  "
     ]
    },
    {
     "name": "stderr",
     "output_type": "stream",
     "text": [
      "2025-06-21 15:19:31 - INFO - \n",
      "=== Epoch 1 Summary ===\n",
      "2025-06-21 15:19:31 - INFO - Time: 293.93s\n",
      "2025-06-21 15:19:31 - INFO - Training   - accuracy: 0.9192 - auc: 0.5755 - f1_score: 0.0201 - loss: 1.4268 - precision: 0.1834 - recall: 0.0110 - learning_rate: 0.0001\n",
      "2025-06-21 15:19:31 - INFO - Validation - accuracy: 0.9446 - auc: 0.6408 - f1_score: 0.0000 - loss: 0.8890 - precision: 0.0000 - recall: 0.0000\n",
      "2025-06-21 15:19:31 - INFO - ==================================================\n",
      "\n"
     ]
    },
    {
     "name": "stdout",
     "output_type": "stream",
     "text": [
      "\u001b[1m813/813\u001b[0m \u001b[32m━━━━━━━━━━━━━━━━━━━━\u001b[0m\u001b[37m\u001b[0m \u001b[1m294s\u001b[0m 246ms/step - accuracy: 0.9126 - auc: 0.5526 - f1_score: 0.0306 - loss: 1.7498 - precision: 0.1503 - recall: 0.0207 - val_accuracy: 0.9446 - val_auc: 0.6408 - val_f1_score: 0.0000e+00 - val_loss: 0.8890 - val_precision: 0.0000e+00 - val_recall: 0.0000e+00 - learning_rate: 1.0000e-04\n"
     ]
    },
    {
     "name": "stderr",
     "output_type": "stream",
     "text": [
      "2025-06-21 15:19:31 - INFO - \n",
      "=== Starting Epoch 2 ===\n",
      "\n"
     ]
    },
    {
     "name": "stdout",
     "output_type": "stream",
     "text": [
      "Epoch 2/100\n",
      "\u001b[1m813/813\u001b[0m \u001b[32m━━━━━━━━━━━━━━━━━━━━\u001b[0m\u001b[37m\u001b[0m \u001b[1m0s\u001b[0m 223ms/step - accuracy: 0.9214 - auc: 0.6108 - f1_score: 0.0132 - loss: 0.7266 - precision: 0.3196 - recall: 0.0070       "
     ]
    },
    {
     "name": "stderr",
     "output_type": "stream",
     "text": [
      "2025-06-21 15:23:47 - INFO - \n",
      "=== Epoch 2 Summary ===\n",
      "2025-06-21 15:23:47 - INFO - Time: 255.25s\n",
      "2025-06-21 15:23:47 - INFO - Training   - accuracy: 0.9216 - auc: 0.6210 - f1_score: 0.0133 - loss: 0.5927 - precision: 0.3183 - recall: 0.0070 - learning_rate: 0.0001\n",
      "2025-06-21 15:23:47 - INFO - Validation - accuracy: 0.9446 - auc: 0.6607 - f1_score: 0.0000 - loss: 0.3760 - precision: 0.0000 - recall: 0.0000\n",
      "2025-06-21 15:23:47 - INFO - ==================================================\n",
      "\n"
     ]
    },
    {
     "name": "stdout",
     "output_type": "stream",
     "text": [
      "\u001b[1m813/813\u001b[0m \u001b[32m━━━━━━━━━━━━━━━━━━━━\u001b[0m\u001b[37m\u001b[0m \u001b[1m255s\u001b[0m 240ms/step - accuracy: 0.9214 - auc: 0.6108 - f1_score: 0.0132 - loss: 0.7265 - precision: 0.3196 - recall: 0.0070 - val_accuracy: 0.9446 - val_auc: 0.6607 - val_f1_score: 0.0000e+00 - val_loss: 0.3760 - val_precision: 0.0000e+00 - val_recall: 0.0000e+00 - learning_rate: 1.0000e-04\n"
     ]
    },
    {
     "name": "stderr",
     "output_type": "stream",
     "text": [
      "2025-06-21 15:23:47 - INFO - \n",
      "=== Starting Epoch 3 ===\n",
      "\n"
     ]
    },
    {
     "name": "stdout",
     "output_type": "stream",
     "text": [
      "Epoch 3/100\n",
      "\u001b[1m813/813\u001b[0m \u001b[32m━━━━━━━━━━━━━━━━━━━━\u001b[0m\u001b[37m\u001b[0m \u001b[1m0s\u001b[0m 221ms/step - accuracy: 0.9213 - auc: 0.6392 - f1_score: 0.0118 - loss: 0.3125 - precision: 0.3245 - recall: 0.0063     "
     ]
    },
    {
     "name": "stderr",
     "output_type": "stream",
     "text": [
      "2025-06-21 15:27:00 - INFO - \n",
      "=== Epoch 3 Summary ===\n",
      "2025-06-21 15:27:00 - INFO - Time: 193.04s\n",
      "2025-06-21 15:27:00 - INFO - Training   - accuracy: 0.9216 - auc: 0.6469 - f1_score: 0.0132 - loss: 0.2623 - precision: 0.3299 - recall: 0.0070 - learning_rate: 0.0001\n",
      "2025-06-21 15:27:00 - INFO - Validation - accuracy: 0.9436 - auc: 0.6741 - f1_score: 0.0077 - loss: 0.1819 - precision: 0.2296 - recall: 0.0078\n",
      "2025-06-21 15:27:00 - INFO - ==================================================\n",
      "\n"
     ]
    },
    {
     "name": "stdout",
     "output_type": "stream",
     "text": [
      "\u001b[1m813/813\u001b[0m \u001b[32m━━━━━━━━━━━━━━━━━━━━\u001b[0m\u001b[37m\u001b[0m \u001b[1m193s\u001b[0m 238ms/step - accuracy: 0.9213 - auc: 0.6392 - f1_score: 0.0118 - loss: 0.3125 - precision: 0.3245 - recall: 0.0063 - val_accuracy: 0.9436 - val_auc: 0.6741 - val_f1_score: 0.0077 - val_loss: 0.1819 - val_precision: 0.2296 - val_recall: 0.0078 - learning_rate: 1.0000e-04\n"
     ]
    },
    {
     "name": "stderr",
     "output_type": "stream",
     "text": [
      "2025-06-21 15:27:00 - INFO - \n",
      "=== Starting Epoch 4 ===\n",
      "\n"
     ]
    },
    {
     "name": "stdout",
     "output_type": "stream",
     "text": [
      "Epoch 4/100\n",
      "\u001b[1m813/813\u001b[0m \u001b[32m━━━━━━━━━━━━━━━━━━━━\u001b[0m\u001b[37m\u001b[0m \u001b[1m0s\u001b[0m 221ms/step - accuracy: 0.9213 - auc: 0.6615 - f1_score: 0.0181 - loss: 0.1593 - precision: 0.3434 - recall: 0.0098  "
     ]
    },
    {
     "name": "stderr",
     "output_type": "stream",
     "text": [
      "2025-06-21 15:30:08 - INFO - \n",
      "=== Epoch 4 Summary ===\n",
      "2025-06-21 15:30:08 - INFO - Time: 188.53s\n",
      "2025-06-21 15:30:08 - INFO - Training   - accuracy: 0.9215 - auc: 0.6688 - f1_score: 0.0211 - loss: 0.1411 - precision: 0.3548 - recall: 0.0116 - learning_rate: 0.0001\n",
      "2025-06-21 15:30:08 - INFO - Validation - accuracy: 0.9447 - auc: 0.6643 - f1_score: 0.0173 - loss: 0.1176 - precision: 0.5183 - recall: 0.0095\n",
      "2025-06-21 15:30:08 - INFO - ==================================================\n",
      "\n"
     ]
    },
    {
     "name": "stdout",
     "output_type": "stream",
     "text": [
      "\u001b[1m813/813\u001b[0m \u001b[32m━━━━━━━━━━━━━━━━━━━━\u001b[0m\u001b[37m\u001b[0m \u001b[1m189s\u001b[0m 232ms/step - accuracy: 0.9213 - auc: 0.6615 - f1_score: 0.0181 - loss: 0.1593 - precision: 0.3434 - recall: 0.0098 - val_accuracy: 0.9447 - val_auc: 0.6643 - val_f1_score: 0.0173 - val_loss: 0.1176 - val_precision: 0.5183 - val_recall: 0.0095 - learning_rate: 1.0000e-04\n"
     ]
    },
    {
     "name": "stderr",
     "output_type": "stream",
     "text": [
      "2025-06-21 15:30:08 - INFO - \n",
      "=== Starting Epoch 5 ===\n",
      "\n"
     ]
    },
    {
     "name": "stdout",
     "output_type": "stream",
     "text": [
      "Epoch 5/100\n",
      "\u001b[1m813/813\u001b[0m \u001b[32m━━━━━━━━━━━━━━━━━━━━\u001b[0m\u001b[37m\u001b[0m \u001b[1m0s\u001b[0m 235ms/step - accuracy: 0.9210 - auc: 0.6777 - f1_score: 0.0296 - loss: 0.1036 - precision: 0.3997 - recall: 0.0168  "
     ]
    },
    {
     "name": "stderr",
     "output_type": "stream",
     "text": [
      "2025-06-21 15:33:34 - INFO - \n",
      "=== Epoch 5 Summary ===\n",
      "2025-06-21 15:33:34 - INFO - Time: 205.36s\n",
      "2025-06-21 15:33:34 - INFO - Training   - accuracy: 0.9213 - auc: 0.6818 - f1_score: 0.0302 - loss: 0.0968 - precision: 0.3807 - recall: 0.0176 - learning_rate: 0.0001\n",
      "2025-06-21 15:33:34 - INFO - Validation - accuracy: 0.9441 - auc: 0.6818 - f1_score: 0.0309 - loss: 0.0860 - precision: 0.4093 - recall: 0.0191\n",
      "2025-06-21 15:33:34 - INFO - ==================================================\n",
      "\n"
     ]
    },
    {
     "name": "stdout",
     "output_type": "stream",
     "text": [
      "\u001b[1m813/813\u001b[0m \u001b[32m━━━━━━━━━━━━━━━━━━━━\u001b[0m\u001b[37m\u001b[0m \u001b[1m205s\u001b[0m 253ms/step - accuracy: 0.9210 - auc: 0.6777 - f1_score: 0.0296 - loss: 0.1036 - precision: 0.3996 - recall: 0.0168 - val_accuracy: 0.9441 - val_auc: 0.6818 - val_f1_score: 0.0309 - val_loss: 0.0860 - val_precision: 0.4093 - val_recall: 0.0191 - learning_rate: 1.0000e-04\n"
     ]
    },
    {
     "name": "stderr",
     "output_type": "stream",
     "text": [
      "2025-06-21 15:33:34 - INFO - \n",
      "=== Starting Epoch 6 ===\n",
      "\n"
     ]
    },
    {
     "name": "stdout",
     "output_type": "stream",
     "text": [
      "Epoch 6/100\n",
      "\u001b[1m813/813\u001b[0m \u001b[32m━━━━━━━━━━━━━━━━━━━━\u001b[0m\u001b[37m\u001b[0m \u001b[1m0s\u001b[0m 221ms/step - accuracy: 0.9208 - auc: 0.6872 - f1_score: 0.0355 - loss: 0.0823 - precision: 0.3812 - recall: 0.0215  "
     ]
    },
    {
     "name": "stderr",
     "output_type": "stream",
     "text": [
      "2025-06-21 15:36:47 - INFO - \n",
      "=== Epoch 6 Summary ===\n",
      "2025-06-21 15:36:47 - INFO - Time: 193.16s\n",
      "2025-06-21 15:36:47 - INFO - Training   - accuracy: 0.9212 - auc: 0.6905 - f1_score: 0.0367 - loss: 0.0793 - precision: 0.3926 - recall: 0.0225 - learning_rate: 0.0001\n",
      "2025-06-21 15:36:47 - INFO - Validation - accuracy: 0.9376 - auc: 0.6984 - f1_score: 0.0568 - loss: 0.0784 - precision: 0.2097 - recall: 0.0459\n",
      "2025-06-21 15:36:47 - INFO - ==================================================\n",
      "\n"
     ]
    },
    {
     "name": "stdout",
     "output_type": "stream",
     "text": [
      "\u001b[1m813/813\u001b[0m \u001b[32m━━━━━━━━━━━━━━━━━━━━\u001b[0m\u001b[37m\u001b[0m \u001b[1m193s\u001b[0m 238ms/step - accuracy: 0.9208 - auc: 0.6872 - f1_score: 0.0355 - loss: 0.0823 - precision: 0.3812 - recall: 0.0215 - val_accuracy: 0.9376 - val_auc: 0.6984 - val_f1_score: 0.0568 - val_loss: 0.0784 - val_precision: 0.2097 - val_recall: 0.0459 - learning_rate: 1.0000e-04\n"
     ]
    },
    {
     "name": "stderr",
     "output_type": "stream",
     "text": [
      "2025-06-21 15:36:47 - INFO - \n",
      "=== Starting Epoch 7 ===\n",
      "\n"
     ]
    },
    {
     "name": "stdout",
     "output_type": "stream",
     "text": [
      "Epoch 7/100\n",
      "\u001b[1m813/813\u001b[0m \u001b[32m━━━━━━━━━━━━━━━━━━━━\u001b[0m\u001b[37m\u001b[0m \u001b[1m0s\u001b[0m 219ms/step - accuracy: 0.9211 - auc: 0.6948 - f1_score: 0.0405 - loss: 0.0730 - precision: 0.4235 - recall: 0.0251     "
     ]
    },
    {
     "name": "stderr",
     "output_type": "stream",
     "text": [
      "2025-06-21 15:39:58 - INFO - \n",
      "=== Epoch 7 Summary ===\n",
      "2025-06-21 15:39:58 - INFO - Time: 191.37s\n",
      "2025-06-21 15:39:58 - INFO - Training   - accuracy: 0.9215 - auc: 0.6985 - f1_score: 0.0410 - loss: 0.0714 - precision: 0.4227 - recall: 0.0257 - learning_rate: 0.0001\n",
      "2025-06-21 15:39:58 - INFO - Validation - accuracy: 0.9439 - auc: 0.7107 - f1_score: 0.0094 - loss: 0.0690 - precision: 0.2560 - recall: 0.0072\n",
      "2025-06-21 15:39:58 - INFO - ==================================================\n",
      "\n"
     ]
    },
    {
     "name": "stdout",
     "output_type": "stream",
     "text": [
      "\u001b[1m813/813\u001b[0m \u001b[32m━━━━━━━━━━━━━━━━━━━━\u001b[0m\u001b[37m\u001b[0m \u001b[1m191s\u001b[0m 235ms/step - accuracy: 0.9211 - auc: 0.6948 - f1_score: 0.0405 - loss: 0.0730 - precision: 0.4235 - recall: 0.0251 - val_accuracy: 0.9439 - val_auc: 0.7107 - val_f1_score: 0.0094 - val_loss: 0.0690 - val_precision: 0.2560 - val_recall: 0.0072 - learning_rate: 1.0000e-04\n"
     ]
    },
    {
     "name": "stderr",
     "output_type": "stream",
     "text": [
      "2025-06-21 15:39:58 - INFO - \n",
      "=== Starting Epoch 8 ===\n",
      "\n"
     ]
    },
    {
     "name": "stdout",
     "output_type": "stream",
     "text": [
      "Epoch 8/100\n",
      "\u001b[1m813/813\u001b[0m \u001b[32m━━━━━━━━━━━━━━━━━━━━\u001b[0m\u001b[37m\u001b[0m \u001b[1m0s\u001b[0m 220ms/step - accuracy: 0.9209 - auc: 0.7045 - f1_score: 0.0462 - loss: 0.0680 - precision: 0.4527 - recall: 0.0293  "
     ]
    },
    {
     "name": "stderr",
     "output_type": "stream",
     "text": [
      "2025-06-21 15:43:05 - INFO - \n",
      "=== Epoch 8 Summary ===\n",
      "2025-06-21 15:43:05 - INFO - Time: 187.00s\n",
      "2025-06-21 15:43:05 - INFO - Training   - accuracy: 0.9215 - auc: 0.7064 - f1_score: 0.0451 - loss: 0.0671 - precision: 0.4392 - recall: 0.0289 - learning_rate: 0.0001\n",
      "2025-06-21 15:43:05 - INFO - Validation - accuracy: 0.9423 - auc: 0.7041 - f1_score: 0.0116 - loss: 0.0670 - precision: 0.2060 - recall: 0.0145\n",
      "2025-06-21 15:43:05 - INFO - ==================================================\n",
      "\n"
     ]
    },
    {
     "name": "stdout",
     "output_type": "stream",
     "text": [
      "\u001b[1m813/813\u001b[0m \u001b[32m━━━━━━━━━━━━━━━━━━━━\u001b[0m\u001b[37m\u001b[0m \u001b[1m187s\u001b[0m 230ms/step - accuracy: 0.9209 - auc: 0.7045 - f1_score: 0.0462 - loss: 0.0680 - precision: 0.4527 - recall: 0.0293 - val_accuracy: 0.9423 - val_auc: 0.7041 - val_f1_score: 0.0116 - val_loss: 0.0670 - val_precision: 0.2060 - val_recall: 0.0145 - learning_rate: 1.0000e-04\n"
     ]
    },
    {
     "name": "stderr",
     "output_type": "stream",
     "text": [
      "2025-06-21 15:43:05 - INFO - \n",
      "=== Starting Epoch 9 ===\n",
      "\n"
     ]
    },
    {
     "name": "stdout",
     "output_type": "stream",
     "text": [
      "Epoch 9/100\n",
      "\u001b[1m813/813\u001b[0m \u001b[32m━━━━━━━━━━━━━━━━━━━━\u001b[0m\u001b[37m\u001b[0m \u001b[1m0s\u001b[0m 233ms/step - accuracy: 0.9215 - auc: 0.7091 - f1_score: 0.0485 - loss: 0.0650 - precision: 0.4501 - recall: 0.0310  \n",
      "Epoch 9: ReduceLROnPlateau reducing learning rate to 4.999999873689376e-05.\n"
     ]
    },
    {
     "name": "stderr",
     "output_type": "stream",
     "text": [
      "2025-06-21 15:46:27 - INFO - \n",
      "=== Epoch 9 Summary ===\n",
      "2025-06-21 15:46:27 - INFO - Time: 201.33s\n",
      "2025-06-21 15:46:27 - INFO - Training   - accuracy: 0.9217 - auc: 0.7120 - f1_score: 0.0497 - loss: 0.0644 - precision: 0.4438 - recall: 0.0323 - learning_rate: 0.0001\n",
      "2025-06-21 15:46:27 - INFO - Validation - accuracy: 0.9448 - auc: 0.7281 - f1_score: 0.0348 - loss: 0.0612 - precision: 0.5566 - recall: 0.0207\n",
      "2025-06-21 15:46:27 - INFO - ==================================================\n",
      "\n"
     ]
    },
    {
     "name": "stdout",
     "output_type": "stream",
     "text": [
      "\u001b[1m813/813\u001b[0m \u001b[32m━━━━━━━━━━━━━━━━━━━━\u001b[0m\u001b[37m\u001b[0m \u001b[1m201s\u001b[0m 248ms/step - accuracy: 0.9215 - auc: 0.7091 - f1_score: 0.0485 - loss: 0.0650 - precision: 0.4500 - recall: 0.0310 - val_accuracy: 0.9448 - val_auc: 0.7281 - val_f1_score: 0.0348 - val_loss: 0.0612 - val_precision: 0.5566 - val_recall: 0.0207 - learning_rate: 1.0000e-04\n"
     ]
    },
    {
     "name": "stderr",
     "output_type": "stream",
     "text": [
      "2025-06-21 15:46:27 - INFO - \n",
      "=== Starting Epoch 10 ===\n",
      "\n"
     ]
    },
    {
     "name": "stdout",
     "output_type": "stream",
     "text": [
      "Epoch 10/100\n",
      "\u001b[1m813/813\u001b[0m \u001b[32m━━━━━━━━━━━━━━━━━━━━\u001b[0m\u001b[37m\u001b[0m \u001b[1m0s\u001b[0m 236ms/step - accuracy: 0.9216 - auc: 0.7286 - f1_score: 0.0660 - loss: 0.0624 - precision: 0.4966 - recall: 0.0444  "
     ]
    },
    {
     "name": "stderr",
     "output_type": "stream",
     "text": [
      "2025-06-21 15:49:52 - INFO - \n",
      "=== Epoch 10 Summary ===\n",
      "2025-06-21 15:49:52 - INFO - Time: 205.60s\n",
      "2025-06-21 15:49:52 - INFO - Training   - accuracy: 0.9220 - auc: 0.7338 - f1_score: 0.0695 - loss: 0.0615 - precision: 0.4955 - recall: 0.0470 - learning_rate: 0.0000\n",
      "2025-06-21 15:49:52 - INFO - Validation - accuracy: 0.9437 - auc: 0.7394 - f1_score: 0.0568 - loss: 0.0612 - precision: 0.4089 - recall: 0.0364\n",
      "2025-06-21 15:49:52 - INFO - ==================================================\n",
      "\n"
     ]
    },
    {
     "name": "stdout",
     "output_type": "stream",
     "text": [
      "\u001b[1m813/813\u001b[0m \u001b[32m━━━━━━━━━━━━━━━━━━━━\u001b[0m\u001b[37m\u001b[0m \u001b[1m206s\u001b[0m 253ms/step - accuracy: 0.9216 - auc: 0.7286 - f1_score: 0.0660 - loss: 0.0624 - precision: 0.4966 - recall: 0.0444 - val_accuracy: 0.9437 - val_auc: 0.7394 - val_f1_score: 0.0568 - val_loss: 0.0612 - val_precision: 0.4089 - val_recall: 0.0364 - learning_rate: 5.0000e-05\n"
     ]
    },
    {
     "name": "stderr",
     "output_type": "stream",
     "text": [
      "2025-06-21 15:49:52 - INFO - \n",
      "=== Starting Epoch 11 ===\n",
      "\n"
     ]
    },
    {
     "name": "stdout",
     "output_type": "stream",
     "text": [
      "Epoch 11/100\n",
      "\u001b[1m813/813\u001b[0m \u001b[32m━━━━━━━━━━━━━━━━━━━━\u001b[0m\u001b[37m\u001b[0m \u001b[1m0s\u001b[0m 217ms/step - accuracy: 0.9218 - auc: 0.7359 - f1_score: 0.0724 - loss: 0.0607 - precision: 0.4844 - recall: 0.0502  "
     ]
    },
    {
     "name": "stderr",
     "output_type": "stream",
     "text": [
      "2025-06-21 15:53:06 - INFO - \n",
      "=== Epoch 11 Summary ===\n",
      "2025-06-21 15:53:06 - INFO - Time: 193.87s\n",
      "2025-06-21 15:53:06 - INFO - Training   - accuracy: 0.9220 - auc: 0.7391 - f1_score: 0.0732 - loss: 0.0602 - precision: 0.4853 - recall: 0.0506 - learning_rate: 0.0000\n",
      "2025-06-21 15:53:06 - INFO - Validation - accuracy: 0.9369 - auc: 0.7330 - f1_score: 0.0296 - loss: 0.0651 - precision: 0.1490 - recall: 0.0297\n",
      "2025-06-21 15:53:06 - INFO - ==================================================\n",
      "\n"
     ]
    },
    {
     "name": "stdout",
     "output_type": "stream",
     "text": [
      "\u001b[1m813/813\u001b[0m \u001b[32m━━━━━━━━━━━━━━━━━━━━\u001b[0m\u001b[37m\u001b[0m \u001b[1m194s\u001b[0m 238ms/step - accuracy: 0.9218 - auc: 0.7359 - f1_score: 0.0724 - loss: 0.0607 - precision: 0.4844 - recall: 0.0502 - val_accuracy: 0.9369 - val_auc: 0.7330 - val_f1_score: 0.0296 - val_loss: 0.0651 - val_precision: 0.1490 - val_recall: 0.0297 - learning_rate: 5.0000e-05\n"
     ]
    },
    {
     "name": "stderr",
     "output_type": "stream",
     "text": [
      "2025-06-21 15:53:06 - INFO - \n",
      "=== Starting Epoch 12 ===\n",
      "\n"
     ]
    },
    {
     "name": "stdout",
     "output_type": "stream",
     "text": [
      "Epoch 12/100\n",
      "\u001b[1m813/813\u001b[0m \u001b[32m━━━━━━━━━━━━━━━━━━━━\u001b[0m\u001b[37m\u001b[0m \u001b[1m0s\u001b[0m 223ms/step - accuracy: 0.9217 - auc: 0.7419 - f1_score: 0.0796 - loss: 0.0595 - precision: 0.4931 - recall: 0.0554  "
     ]
    },
    {
     "name": "stderr",
     "output_type": "stream",
     "text": [
      "2025-06-21 15:56:27 - INFO - \n",
      "=== Epoch 12 Summary ===\n",
      "2025-06-21 15:56:27 - INFO - Time: 200.66s\n",
      "2025-06-21 15:56:27 - INFO - Training   - accuracy: 0.9221 - auc: 0.7446 - f1_score: 0.0816 - loss: 0.0592 - precision: 0.4952 - recall: 0.0568 - learning_rate: 0.0000\n",
      "2025-06-21 15:56:27 - INFO - Validation - accuracy: 0.9407 - auc: 0.7417 - f1_score: 0.0869 - loss: 0.0626 - precision: 0.3179 - recall: 0.0613\n",
      "2025-06-21 15:56:27 - INFO - ==================================================\n",
      "\n"
     ]
    },
    {
     "name": "stdout",
     "output_type": "stream",
     "text": [
      "\u001b[1m813/813\u001b[0m \u001b[32m━━━━━━━━━━━━━━━━━━━━\u001b[0m\u001b[37m\u001b[0m \u001b[1m201s\u001b[0m 247ms/step - accuracy: 0.9217 - auc: 0.7419 - f1_score: 0.0796 - loss: 0.0595 - precision: 0.4931 - recall: 0.0554 - val_accuracy: 0.9407 - val_auc: 0.7417 - val_f1_score: 0.0869 - val_loss: 0.0626 - val_precision: 0.3179 - val_recall: 0.0613 - learning_rate: 5.0000e-05\n"
     ]
    },
    {
     "name": "stderr",
     "output_type": "stream",
     "text": [
      "2025-06-21 15:56:27 - INFO - \n",
      "=== Starting Epoch 13 ===\n",
      "\n"
     ]
    },
    {
     "name": "stdout",
     "output_type": "stream",
     "text": [
      "Epoch 13/100\n",
      "\u001b[1m813/813\u001b[0m \u001b[32m━━━━━━━━━━━━━━━━━━━━\u001b[0m\u001b[37m\u001b[0m \u001b[1m0s\u001b[0m 218ms/step - accuracy: 0.9220 - auc: 0.7481 - f1_score: 0.0824 - loss: 0.0585 - precision: 0.4986 - recall: 0.0560  "
     ]
    },
    {
     "name": "stderr",
     "output_type": "stream",
     "text": [
      "2025-06-21 15:59:41 - INFO - \n",
      "=== Epoch 13 Summary ===\n",
      "2025-06-21 15:59:41 - INFO - Time: 194.50s\n",
      "2025-06-21 15:59:41 - INFO - Training   - accuracy: 0.9222 - auc: 0.7498 - f1_score: 0.0864 - loss: 0.0583 - precision: 0.4991 - recall: 0.0594 - learning_rate: 0.0000\n",
      "2025-06-21 15:59:41 - INFO - Validation - accuracy: 0.9440 - auc: 0.7462 - f1_score: 0.0902 - loss: 0.0601 - precision: 0.4632 - recall: 0.0709\n",
      "2025-06-21 15:59:41 - INFO - ==================================================\n",
      "\n"
     ]
    },
    {
     "name": "stdout",
     "output_type": "stream",
     "text": [
      "\u001b[1m813/813\u001b[0m \u001b[32m━━━━━━━━━━━━━━━━━━━━\u001b[0m\u001b[37m\u001b[0m \u001b[1m195s\u001b[0m 239ms/step - accuracy: 0.9220 - auc: 0.7481 - f1_score: 0.0824 - loss: 0.0585 - precision: 0.4986 - recall: 0.0560 - val_accuracy: 0.9440 - val_auc: 0.7462 - val_f1_score: 0.0902 - val_loss: 0.0601 - val_precision: 0.4632 - val_recall: 0.0709 - learning_rate: 5.0000e-05\n"
     ]
    },
    {
     "name": "stderr",
     "output_type": "stream",
     "text": [
      "2025-06-21 15:59:42 - INFO - \n",
      "=== Starting Epoch 14 ===\n",
      "\n"
     ]
    },
    {
     "name": "stdout",
     "output_type": "stream",
     "text": [
      "Epoch 14/100\n",
      "\u001b[1m813/813\u001b[0m \u001b[32m━━━━━━━━━━━━━━━━━━━━\u001b[0m\u001b[37m\u001b[0m \u001b[1m0s\u001b[0m 218ms/step - accuracy: 0.9219 - auc: 0.7518 - f1_score: 0.0902 - loss: 0.0582 - precision: 0.5038 - recall: 0.0625  "
     ]
    },
    {
     "name": "stderr",
     "output_type": "stream",
     "text": [
      "2025-06-21 16:02:54 - INFO - \n",
      "=== Epoch 14 Summary ===\n",
      "2025-06-21 16:02:54 - INFO - Time: 192.83s\n",
      "2025-06-21 16:02:54 - INFO - Training   - accuracy: 0.9222 - auc: 0.7542 - f1_score: 0.0924 - loss: 0.0577 - precision: 0.5004 - recall: 0.0644 - learning_rate: 0.0000\n",
      "2025-06-21 16:02:54 - INFO - Validation - accuracy: 0.9405 - auc: 0.7472 - f1_score: 0.0767 - loss: 0.0636 - precision: 0.3220 - recall: 0.0667\n",
      "2025-06-21 16:02:54 - INFO - ==================================================\n",
      "\n"
     ]
    },
    {
     "name": "stdout",
     "output_type": "stream",
     "text": [
      "\u001b[1m813/813\u001b[0m \u001b[32m━━━━━━━━━━━━━━━━━━━━\u001b[0m\u001b[37m\u001b[0m \u001b[1m193s\u001b[0m 237ms/step - accuracy: 0.9219 - auc: 0.7518 - f1_score: 0.0902 - loss: 0.0582 - precision: 0.5038 - recall: 0.0625 - val_accuracy: 0.9405 - val_auc: 0.7472 - val_f1_score: 0.0767 - val_loss: 0.0636 - val_precision: 0.3220 - val_recall: 0.0667 - learning_rate: 5.0000e-05\n"
     ]
    },
    {
     "name": "stderr",
     "output_type": "stream",
     "text": [
      "2025-06-21 16:02:54 - INFO - \n",
      "=== Starting Epoch 15 ===\n",
      "\n"
     ]
    },
    {
     "name": "stdout",
     "output_type": "stream",
     "text": [
      "Epoch 15/100\n",
      "\u001b[1m813/813\u001b[0m \u001b[32m━━━━━━━━━━━━━━━━━━━━\u001b[0m\u001b[37m\u001b[0m \u001b[1m0s\u001b[0m 218ms/step - accuracy: 0.9220 - auc: 0.7576 - f1_score: 0.0964 - loss: 0.0572 - precision: 0.5074 - recall: 0.0673  "
     ]
    },
    {
     "name": "stderr",
     "output_type": "stream",
     "text": [
      "2025-06-21 16:06:07 - INFO - \n",
      "=== Epoch 15 Summary ===\n",
      "2025-06-21 16:06:07 - INFO - Time: 192.51s\n",
      "2025-06-21 16:06:07 - INFO - Training   - accuracy: 0.9223 - auc: 0.7595 - f1_score: 0.0982 - loss: 0.0570 - precision: 0.5061 - recall: 0.0683 - learning_rate: 0.0000\n",
      "2025-06-21 16:06:07 - INFO - Validation - accuracy: 0.9361 - auc: 0.7413 - f1_score: 0.0794 - loss: 0.0632 - precision: 0.2235 - recall: 0.0623\n",
      "2025-06-21 16:06:07 - INFO - ==================================================\n",
      "\n"
     ]
    },
    {
     "name": "stdout",
     "output_type": "stream",
     "text": [
      "\u001b[1m813/813\u001b[0m \u001b[32m━━━━━━━━━━━━━━━━━━━━\u001b[0m\u001b[37m\u001b[0m \u001b[1m193s\u001b[0m 237ms/step - accuracy: 0.9220 - auc: 0.7576 - f1_score: 0.0964 - loss: 0.0572 - precision: 0.5074 - recall: 0.0673 - val_accuracy: 0.9361 - val_auc: 0.7413 - val_f1_score: 0.0794 - val_loss: 0.0632 - val_precision: 0.2235 - val_recall: 0.0623 - learning_rate: 5.0000e-05\n"
     ]
    },
    {
     "name": "stderr",
     "output_type": "stream",
     "text": [
      "2025-06-21 16:06:07 - INFO - \n",
      "=== Starting Epoch 16 ===\n",
      "\n"
     ]
    },
    {
     "name": "stdout",
     "output_type": "stream",
     "text": [
      "Epoch 16/100\n",
      "\u001b[1m813/813\u001b[0m \u001b[32m━━━━━━━━━━━━━━━━━━━━\u001b[0m\u001b[37m\u001b[0m \u001b[1m0s\u001b[0m 218ms/step - accuracy: 0.9221 - auc: 0.7596 - f1_score: 0.1012 - loss: 0.0571 - precision: 0.4982 - recall: 0.0707  \n",
      "Epoch 16: ReduceLROnPlateau reducing learning rate to 2.499999936844688e-05.\n"
     ]
    },
    {
     "name": "stderr",
     "output_type": "stream",
     "text": [
      "2025-06-21 16:09:27 - INFO - \n",
      "=== Epoch 16 Summary ===\n",
      "2025-06-21 16:09:27 - INFO - Time: 199.73s\n",
      "2025-06-21 16:09:27 - INFO - Training   - accuracy: 0.9223 - auc: 0.7616 - f1_score: 0.1047 - loss: 0.0565 - precision: 0.5042 - recall: 0.0731 - learning_rate: 0.0000\n",
      "2025-06-21 16:09:27 - INFO - Validation - accuracy: 0.9414 - auc: 0.7568 - f1_score: 0.0509 - loss: 0.0575 - precision: 0.2873 - recall: 0.0393\n",
      "2025-06-21 16:09:27 - INFO - ==================================================\n",
      "\n"
     ]
    },
    {
     "name": "stdout",
     "output_type": "stream",
     "text": [
      "\u001b[1m813/813\u001b[0m \u001b[32m━━━━━━━━━━━━━━━━━━━━\u001b[0m\u001b[37m\u001b[0m \u001b[1m200s\u001b[0m 246ms/step - accuracy: 0.9221 - auc: 0.7596 - f1_score: 0.1013 - loss: 0.0571 - precision: 0.4982 - recall: 0.0708 - val_accuracy: 0.9414 - val_auc: 0.7568 - val_f1_score: 0.0509 - val_loss: 0.0575 - val_precision: 0.2873 - val_recall: 0.0393 - learning_rate: 5.0000e-05\n"
     ]
    },
    {
     "name": "stderr",
     "output_type": "stream",
     "text": [
      "2025-06-21 16:09:27 - INFO - \n",
      "=== Starting Epoch 17 ===\n",
      "\n"
     ]
    },
    {
     "name": "stdout",
     "output_type": "stream",
     "text": [
      "Epoch 17/100\n",
      "\u001b[1m813/813\u001b[0m \u001b[32m━━━━━━━━━━━━━━━━━━━━\u001b[0m\u001b[37m\u001b[0m \u001b[1m0s\u001b[0m 218ms/step - accuracy: 0.9226 - auc: 0.7738 - f1_score: 0.1159 - loss: 0.0551 - precision: 0.5157 - recall: 0.0832  "
     ]
    },
    {
     "name": "stderr",
     "output_type": "stream",
     "text": [
      "2025-06-21 16:12:40 - INFO - \n",
      "=== Epoch 17 Summary ===\n",
      "2025-06-21 16:12:40 - INFO - Time: 193.59s\n",
      "2025-06-21 16:12:40 - INFO - Training   - accuracy: 0.9227 - auc: 0.7770 - f1_score: 0.1214 - loss: 0.0546 - precision: 0.5172 - recall: 0.0866 - learning_rate: 0.0000\n",
      "2025-06-21 16:12:40 - INFO - Validation - accuracy: 0.9374 - auc: 0.7520 - f1_score: 0.1042 - loss: 0.0598 - precision: 0.2985 - recall: 0.0966\n",
      "2025-06-21 16:12:40 - INFO - ==================================================\n",
      "\n"
     ]
    },
    {
     "name": "stdout",
     "output_type": "stream",
     "text": [
      "\u001b[1m813/813\u001b[0m \u001b[32m━━━━━━━━━━━━━━━━━━━━\u001b[0m\u001b[37m\u001b[0m \u001b[1m194s\u001b[0m 238ms/step - accuracy: 0.9226 - auc: 0.7738 - f1_score: 0.1160 - loss: 0.0551 - precision: 0.5157 - recall: 0.0832 - val_accuracy: 0.9374 - val_auc: 0.7520 - val_f1_score: 0.1042 - val_loss: 0.0598 - val_precision: 0.2985 - val_recall: 0.0966 - learning_rate: 2.5000e-05\n"
     ]
    },
    {
     "name": "stderr",
     "output_type": "stream",
     "text": [
      "2025-06-21 16:12:40 - INFO - \n",
      "=== Starting Epoch 18 ===\n",
      "\n"
     ]
    },
    {
     "name": "stdout",
     "output_type": "stream",
     "text": [
      "Epoch 18/100\n",
      "\u001b[1m813/813\u001b[0m \u001b[32m━━━━━━━━━━━━━━━━━━━━\u001b[0m\u001b[37m\u001b[0m \u001b[1m0s\u001b[0m 219ms/step - accuracy: 0.9219 - auc: 0.7804 - f1_score: 0.1306 - loss: 0.0544 - precision: 0.5171 - recall: 0.0939  "
     ]
    },
    {
     "name": "stderr",
     "output_type": "stream",
     "text": [
      "2025-06-21 16:15:55 - INFO - \n",
      "=== Epoch 18 Summary ===\n",
      "2025-06-21 16:15:55 - INFO - Time: 194.61s\n",
      "2025-06-21 16:15:55 - INFO - Training   - accuracy: 0.9227 - auc: 0.7827 - f1_score: 0.1321 - loss: 0.0538 - precision: 0.5199 - recall: 0.0947 - learning_rate: 0.0000\n",
      "2025-06-21 16:15:55 - INFO - Validation - accuracy: 0.9412 - auc: 0.7620 - f1_score: 0.1006 - loss: 0.0574 - precision: 0.3579 - recall: 0.0779\n",
      "2025-06-21 16:15:55 - INFO - ==================================================\n",
      "\n"
     ]
    },
    {
     "name": "stdout",
     "output_type": "stream",
     "text": [
      "\u001b[1m813/813\u001b[0m \u001b[32m━━━━━━━━━━━━━━━━━━━━\u001b[0m\u001b[37m\u001b[0m \u001b[1m195s\u001b[0m 239ms/step - accuracy: 0.9219 - auc: 0.7804 - f1_score: 0.1306 - loss: 0.0544 - precision: 0.5171 - recall: 0.0939 - val_accuracy: 0.9412 - val_auc: 0.7620 - val_f1_score: 0.1006 - val_loss: 0.0574 - val_precision: 0.3579 - val_recall: 0.0779 - learning_rate: 2.5000e-05\n"
     ]
    },
    {
     "name": "stderr",
     "output_type": "stream",
     "text": [
      "2025-06-21 16:15:55 - INFO - \n",
      "=== Starting Epoch 19 ===\n",
      "\n"
     ]
    },
    {
     "name": "stdout",
     "output_type": "stream",
     "text": [
      "Epoch 19/100\n",
      "\u001b[1m813/813\u001b[0m \u001b[32m━━━━━━━━━━━━━━━━━━━━\u001b[0m\u001b[37m\u001b[0m \u001b[1m0s\u001b[0m 219ms/step - accuracy: 0.9222 - auc: 0.7857 - f1_score: 0.1393 - loss: 0.0535 - precision: 0.5200 - recall: 0.0998  "
     ]
    },
    {
     "name": "stderr",
     "output_type": "stream",
     "text": [
      "2025-06-21 16:19:09 - INFO - \n",
      "=== Epoch 19 Summary ===\n",
      "2025-06-21 16:19:09 - INFO - Time: 194.57s\n",
      "2025-06-21 16:19:09 - INFO - Training   - accuracy: 0.9227 - auc: 0.7884 - f1_score: 0.1420 - loss: 0.0531 - precision: 0.5203 - recall: 0.1023 - learning_rate: 0.0000\n",
      "2025-06-21 16:19:09 - INFO - Validation - accuracy: 0.9413 - auc: 0.7597 - f1_score: 0.1335 - loss: 0.0581 - precision: 0.3979 - recall: 0.1168\n",
      "2025-06-21 16:19:09 - INFO - ==================================================\n",
      "\n"
     ]
    },
    {
     "name": "stdout",
     "output_type": "stream",
     "text": [
      "\u001b[1m813/813\u001b[0m \u001b[32m━━━━━━━━━━━━━━━━━━━━\u001b[0m\u001b[37m\u001b[0m \u001b[1m195s\u001b[0m 239ms/step - accuracy: 0.9222 - auc: 0.7857 - f1_score: 0.1393 - loss: 0.0535 - precision: 0.5200 - recall: 0.0998 - val_accuracy: 0.9413 - val_auc: 0.7597 - val_f1_score: 0.1335 - val_loss: 0.0581 - val_precision: 0.3979 - val_recall: 0.1168 - learning_rate: 2.5000e-05\n"
     ]
    },
    {
     "name": "stderr",
     "output_type": "stream",
     "text": [
      "2025-06-21 16:19:10 - INFO - \n",
      "=== Starting Epoch 20 ===\n",
      "\n"
     ]
    },
    {
     "name": "stdout",
     "output_type": "stream",
     "text": [
      "Epoch 20/100\n",
      "\u001b[1m813/813\u001b[0m \u001b[32m━━━━━━━━━━━━━━━━━━━━\u001b[0m\u001b[37m\u001b[0m \u001b[1m0s\u001b[0m 218ms/step - accuracy: 0.9232 - auc: 0.7915 - f1_score: 0.1545 - loss: 0.0523 - precision: 0.5304 - recall: 0.1125  "
     ]
    },
    {
     "name": "stderr",
     "output_type": "stream",
     "text": [
      "2025-06-21 16:22:26 - INFO - \n",
      "=== Epoch 20 Summary ===\n",
      "2025-06-21 16:22:26 - INFO - Time: 195.99s\n",
      "2025-06-21 16:22:26 - INFO - Training   - accuracy: 0.9232 - auc: 0.7935 - f1_score: 0.1564 - loss: 0.0522 - precision: 0.5281 - recall: 0.1138 - learning_rate: 0.0000\n",
      "2025-06-21 16:22:26 - INFO - Validation - accuracy: 0.9415 - auc: 0.7558 - f1_score: 0.1400 - loss: 0.0590 - precision: 0.4028 - recall: 0.1153\n",
      "2025-06-21 16:22:26 - INFO - ==================================================\n",
      "\n"
     ]
    },
    {
     "name": "stdout",
     "output_type": "stream",
     "text": [
      "\u001b[1m813/813\u001b[0m \u001b[32m━━━━━━━━━━━━━━━━━━━━\u001b[0m\u001b[37m\u001b[0m \u001b[1m196s\u001b[0m 241ms/step - accuracy: 0.9232 - auc: 0.7915 - f1_score: 0.1545 - loss: 0.0523 - precision: 0.5304 - recall: 0.1125 - val_accuracy: 0.9415 - val_auc: 0.7558 - val_f1_score: 0.1400 - val_loss: 0.0590 - val_precision: 0.4028 - val_recall: 0.1153 - learning_rate: 2.5000e-05\n"
     ]
    },
    {
     "name": "stderr",
     "output_type": "stream",
     "text": [
      "2025-06-21 16:22:26 - INFO - \n",
      "=== Starting Epoch 21 ===\n",
      "\n"
     ]
    },
    {
     "name": "stdout",
     "output_type": "stream",
     "text": [
      "Epoch 21/100\n",
      "\u001b[1m813/813\u001b[0m \u001b[32m━━━━━━━━━━━━━━━━━━━━\u001b[0m\u001b[37m\u001b[0m \u001b[1m0s\u001b[0m 218ms/step - accuracy: 0.9224 - auc: 0.7941 - f1_score: 0.1582 - loss: 0.0523 - precision: 0.5235 - recall: 0.1157  "
     ]
    },
    {
     "name": "stderr",
     "output_type": "stream",
     "text": [
      "2025-06-21 16:25:39 - INFO - \n",
      "=== Epoch 21 Summary ===\n",
      "2025-06-21 16:25:39 - INFO - Time: 193.25s\n",
      "2025-06-21 16:25:39 - INFO - Training   - accuracy: 0.9230 - auc: 0.7971 - f1_score: 0.1601 - loss: 0.0517 - precision: 0.5228 - recall: 0.1170 - learning_rate: 0.0000\n",
      "2025-06-21 16:25:39 - INFO - Validation - accuracy: 0.9421 - auc: 0.7612 - f1_score: 0.1404 - loss: 0.0566 - precision: 0.4204 - recall: 0.1186\n",
      "2025-06-21 16:25:39 - INFO - ==================================================\n",
      "\n"
     ]
    },
    {
     "name": "stdout",
     "output_type": "stream",
     "text": [
      "\u001b[1m813/813\u001b[0m \u001b[32m━━━━━━━━━━━━━━━━━━━━\u001b[0m\u001b[37m\u001b[0m \u001b[1m193s\u001b[0m 238ms/step - accuracy: 0.9224 - auc: 0.7941 - f1_score: 0.1582 - loss: 0.0523 - precision: 0.5235 - recall: 0.1157 - val_accuracy: 0.9421 - val_auc: 0.7612 - val_f1_score: 0.1404 - val_loss: 0.0566 - val_precision: 0.4204 - val_recall: 0.1186 - learning_rate: 2.5000e-05\n"
     ]
    },
    {
     "name": "stderr",
     "output_type": "stream",
     "text": [
      "2025-06-21 16:25:39 - INFO - \n",
      "=== Starting Epoch 22 ===\n",
      "\n"
     ]
    },
    {
     "name": "stdout",
     "output_type": "stream",
     "text": [
      "Epoch 22/100\n",
      "\u001b[1m813/813\u001b[0m \u001b[32m━━━━━━━━━━━━━━━━━━━━\u001b[0m\u001b[37m\u001b[0m \u001b[1m0s\u001b[0m 219ms/step - accuracy: 0.9228 - auc: 0.7992 - f1_score: 0.1643 - loss: 0.0515 - precision: 0.5288 - recall: 0.1213  "
     ]
    },
    {
     "name": "stderr",
     "output_type": "stream",
     "text": [
      "2025-06-21 16:28:52 - INFO - \n",
      "=== Epoch 22 Summary ===\n",
      "2025-06-21 16:28:52 - INFO - Time: 192.85s\n",
      "2025-06-21 16:28:52 - INFO - Training   - accuracy: 0.9231 - auc: 0.8015 - f1_score: 0.1686 - loss: 0.0511 - precision: 0.5262 - recall: 0.1245 - learning_rate: 0.0000\n",
      "2025-06-21 16:28:52 - INFO - Validation - accuracy: 0.9371 - auc: 0.7626 - f1_score: 0.1179 - loss: 0.0591 - precision: 0.2928 - recall: 0.0956\n",
      "2025-06-21 16:28:52 - INFO - ==================================================\n",
      "\n"
     ]
    },
    {
     "name": "stdout",
     "output_type": "stream",
     "text": [
      "\u001b[1m813/813\u001b[0m \u001b[32m━━━━━━━━━━━━━━━━━━━━\u001b[0m\u001b[37m\u001b[0m \u001b[1m193s\u001b[0m 237ms/step - accuracy: 0.9228 - auc: 0.7992 - f1_score: 0.1643 - loss: 0.0514 - precision: 0.5288 - recall: 0.1213 - val_accuracy: 0.9371 - val_auc: 0.7626 - val_f1_score: 0.1179 - val_loss: 0.0591 - val_precision: 0.2928 - val_recall: 0.0956 - learning_rate: 2.5000e-05\n"
     ]
    },
    {
     "name": "stderr",
     "output_type": "stream",
     "text": [
      "2025-06-21 16:28:52 - INFO - \n",
      "=== Starting Epoch 23 ===\n",
      "\n"
     ]
    },
    {
     "name": "stdout",
     "output_type": "stream",
     "text": [
      "Epoch 23/100\n",
      "\u001b[1m813/813\u001b[0m \u001b[32m━━━━━━━━━━━━━━━━━━━━\u001b[0m\u001b[37m\u001b[0m \u001b[1m0s\u001b[0m 218ms/step - accuracy: 0.9230 - auc: 0.8032 - f1_score: 0.1723 - loss: 0.0508 - precision: 0.5251 - recall: 0.1281  "
     ]
    },
    {
     "name": "stderr",
     "output_type": "stream",
     "text": [
      "2025-06-21 16:32:04 - INFO - \n",
      "=== Epoch 23 Summary ===\n",
      "2025-06-21 16:32:04 - INFO - Time: 192.49s\n",
      "2025-06-21 16:32:04 - INFO - Training   - accuracy: 0.9232 - auc: 0.8054 - f1_score: 0.1767 - loss: 0.0505 - precision: 0.5267 - recall: 0.1314 - learning_rate: 0.0000\n",
      "2025-06-21 16:32:04 - INFO - Validation - accuracy: 0.9371 - auc: 0.7465 - f1_score: 0.1315 - loss: 0.0596 - precision: 0.3390 - recall: 0.1425\n",
      "2025-06-21 16:32:04 - INFO - ==================================================\n",
      "\n"
     ]
    },
    {
     "name": "stdout",
     "output_type": "stream",
     "text": [
      "\u001b[1m813/813\u001b[0m \u001b[32m━━━━━━━━━━━━━━━━━━━━\u001b[0m\u001b[37m\u001b[0m \u001b[1m192s\u001b[0m 237ms/step - accuracy: 0.9230 - auc: 0.8032 - f1_score: 0.1723 - loss: 0.0508 - precision: 0.5251 - recall: 0.1281 - val_accuracy: 0.9371 - val_auc: 0.7465 - val_f1_score: 0.1315 - val_loss: 0.0596 - val_precision: 0.3390 - val_recall: 0.1425 - learning_rate: 2.5000e-05\n"
     ]
    },
    {
     "name": "stderr",
     "output_type": "stream",
     "text": [
      "2025-06-21 16:32:04 - INFO - \n",
      "=== Starting Epoch 24 ===\n",
      "\n"
     ]
    },
    {
     "name": "stdout",
     "output_type": "stream",
     "text": [
      "Epoch 24/100\n",
      "\u001b[1m813/813\u001b[0m \u001b[32m━━━━━━━━━━━━━━━━━━━━\u001b[0m\u001b[37m\u001b[0m \u001b[1m0s\u001b[0m 218ms/step - accuracy: 0.9234 - auc: 0.8076 - f1_score: 0.1855 - loss: 0.0501 - precision: 0.5323 - recall: 0.1392  "
     ]
    },
    {
     "name": "stderr",
     "output_type": "stream",
     "text": [
      "2025-06-21 16:35:17 - INFO - \n",
      "=== Epoch 24 Summary ===\n",
      "2025-06-21 16:35:17 - INFO - Time: 193.25s\n",
      "2025-06-21 16:35:17 - INFO - Training   - accuracy: 0.9236 - auc: 0.8101 - f1_score: 0.1873 - loss: 0.0498 - precision: 0.5336 - recall: 0.1406 - learning_rate: 0.0000\n",
      "2025-06-21 16:35:17 - INFO - Validation - accuracy: 0.9387 - auc: 0.7611 - f1_score: 0.1582 - loss: 0.0577 - precision: 0.3667 - recall: 0.1463\n",
      "2025-06-21 16:35:17 - INFO - ==================================================\n",
      "\n"
     ]
    },
    {
     "name": "stdout",
     "output_type": "stream",
     "text": [
      "\u001b[1m813/813\u001b[0m \u001b[32m━━━━━━━━━━━━━━━━━━━━\u001b[0m\u001b[37m\u001b[0m \u001b[1m193s\u001b[0m 238ms/step - accuracy: 0.9234 - auc: 0.8076 - f1_score: 0.1855 - loss: 0.0501 - precision: 0.5323 - recall: 0.1392 - val_accuracy: 0.9387 - val_auc: 0.7611 - val_f1_score: 0.1582 - val_loss: 0.0577 - val_precision: 0.3667 - val_recall: 0.1463 - learning_rate: 2.5000e-05\n"
     ]
    },
    {
     "name": "stderr",
     "output_type": "stream",
     "text": [
      "2025-06-21 16:35:18 - INFO - \n",
      "=== Starting Epoch 25 ===\n",
      "\n"
     ]
    },
    {
     "name": "stdout",
     "output_type": "stream",
     "text": [
      "Epoch 25/100\n",
      "\u001b[1m813/813\u001b[0m \u001b[32m━━━━━━━━━━━━━━━━━━━━\u001b[0m\u001b[37m\u001b[0m \u001b[1m0s\u001b[0m 275ms/step - accuracy: 0.9232 - auc: 0.8143 - f1_score: 0.1948 - loss: 0.0496 - precision: 0.5329 - recall: 0.1477   "
     ]
    },
    {
     "name": "stderr",
     "output_type": "stream",
     "text": [
      "2025-06-21 16:39:16 - INFO - \n",
      "=== Epoch 25 Summary ===\n",
      "2025-06-21 16:39:16 - INFO - Time: 238.56s\n",
      "2025-06-21 16:39:16 - INFO - Training   - accuracy: 0.9236 - auc: 0.8153 - f1_score: 0.1963 - loss: 0.0492 - precision: 0.5339 - recall: 0.1487 - learning_rate: 0.0000\n",
      "2025-06-21 16:39:16 - INFO - Validation - accuracy: 0.9357 - auc: 0.7580 - f1_score: 0.1282 - loss: 0.0594 - precision: 0.2765 - recall: 0.0996\n",
      "2025-06-21 16:39:16 - INFO - ==================================================\n",
      "\n"
     ]
    },
    {
     "name": "stdout",
     "output_type": "stream",
     "text": [
      "\u001b[1m813/813\u001b[0m \u001b[32m━━━━━━━━━━━━━━━━━━━━\u001b[0m\u001b[37m\u001b[0m \u001b[1m239s\u001b[0m 294ms/step - accuracy: 0.9232 - auc: 0.8143 - f1_score: 0.1948 - loss: 0.0496 - precision: 0.5329 - recall: 0.1477 - val_accuracy: 0.9357 - val_auc: 0.7580 - val_f1_score: 0.1282 - val_loss: 0.0594 - val_precision: 0.2765 - val_recall: 0.0996 - learning_rate: 2.5000e-05\n"
     ]
    },
    {
     "name": "stderr",
     "output_type": "stream",
     "text": [
      "2025-06-21 16:39:16 - INFO - \n",
      "=== Starting Epoch 26 ===\n",
      "\n"
     ]
    },
    {
     "name": "stdout",
     "output_type": "stream",
     "text": [
      "Epoch 26/100\n",
      "\u001b[1m813/813\u001b[0m \u001b[32m━━━━━━━━━━━━━━━━━━━━\u001b[0m\u001b[37m\u001b[0m \u001b[1m0s\u001b[0m 274ms/step - accuracy: 0.9235 - auc: 0.8155 - f1_score: 0.2017 - loss: 0.0491 - precision: 0.5386 - recall: 0.1531   "
     ]
    },
    {
     "name": "stderr",
     "output_type": "stream",
     "text": [
      "2025-06-21 16:43:14 - INFO - \n",
      "=== Epoch 26 Summary ===\n",
      "2025-06-21 16:43:14 - INFO - Time: 237.70s\n",
      "2025-06-21 16:43:14 - INFO - Training   - accuracy: 0.9240 - auc: 0.8185 - f1_score: 0.2042 - loss: 0.0487 - precision: 0.5418 - recall: 0.1553 - learning_rate: 0.0000\n",
      "2025-06-21 16:43:14 - INFO - Validation - accuracy: 0.9316 - auc: 0.7524 - f1_score: 0.1546 - loss: 0.0620 - precision: 0.2588 - recall: 0.1263\n",
      "2025-06-21 16:43:14 - INFO - ==================================================\n",
      "\n"
     ]
    },
    {
     "name": "stdout",
     "output_type": "stream",
     "text": [
      "\u001b[1m813/813\u001b[0m \u001b[32m━━━━━━━━━━━━━━━━━━━━\u001b[0m\u001b[37m\u001b[0m \u001b[1m238s\u001b[0m 292ms/step - accuracy: 0.9235 - auc: 0.8155 - f1_score: 0.2017 - loss: 0.0491 - precision: 0.5386 - recall: 0.1531 - val_accuracy: 0.9316 - val_auc: 0.7524 - val_f1_score: 0.1546 - val_loss: 0.0620 - val_precision: 0.2588 - val_recall: 0.1263 - learning_rate: 2.5000e-05\n"
     ]
    },
    {
     "name": "stderr",
     "output_type": "stream",
     "text": [
      "2025-06-21 16:43:14 - INFO - \n",
      "=== Starting Epoch 27 ===\n",
      "\n"
     ]
    },
    {
     "name": "stdout",
     "output_type": "stream",
     "text": [
      "Epoch 27/100\n",
      "\u001b[1m813/813\u001b[0m \u001b[32m━━━━━━━━━━━━━━━━━━━━\u001b[0m\u001b[37m\u001b[0m \u001b[1m0s\u001b[0m 272ms/step - accuracy: 0.9241 - auc: 0.8189 - f1_score: 0.2085 - loss: 0.0486 - precision: 0.5443 - recall: 0.1592  \n",
      "Epoch 27: ReduceLROnPlateau reducing learning rate to 1.249999968422344e-05.\n"
     ]
    },
    {
     "name": "stderr",
     "output_type": "stream",
     "text": [
      "2025-06-21 16:47:09 - INFO - \n",
      "=== Epoch 27 Summary ===\n",
      "2025-06-21 16:47:09 - INFO - Time: 235.61s\n",
      "2025-06-21 16:47:09 - INFO - Training   - accuracy: 0.9245 - auc: 0.8223 - f1_score: 0.2146 - loss: 0.0481 - precision: 0.5505 - recall: 0.1644 - learning_rate: 0.0000\n",
      "2025-06-21 16:47:09 - INFO - Validation - accuracy: 0.9383 - auc: 0.7556 - f1_score: 0.1310 - loss: 0.0596 - precision: 0.3320 - recall: 0.1121\n",
      "2025-06-21 16:47:09 - INFO - ==================================================\n",
      "\n"
     ]
    },
    {
     "name": "stdout",
     "output_type": "stream",
     "text": [
      "\u001b[1m813/813\u001b[0m \u001b[32m━━━━━━━━━━━━━━━━━━━━\u001b[0m\u001b[37m\u001b[0m \u001b[1m236s\u001b[0m 290ms/step - accuracy: 0.9241 - auc: 0.8189 - f1_score: 0.2085 - loss: 0.0486 - precision: 0.5443 - recall: 0.1592 - val_accuracy: 0.9383 - val_auc: 0.7556 - val_f1_score: 0.1310 - val_loss: 0.0596 - val_precision: 0.3320 - val_recall: 0.1121 - learning_rate: 2.5000e-05\n"
     ]
    },
    {
     "name": "stderr",
     "output_type": "stream",
     "text": [
      "2025-06-21 16:47:09 - INFO - \n",
      "=== Starting Epoch 28 ===\n",
      "\n"
     ]
    },
    {
     "name": "stdout",
     "output_type": "stream",
     "text": [
      "Epoch 28/100\n",
      "\u001b[1m813/813\u001b[0m \u001b[32m━━━━━━━━━━━━━━━━━━━━\u001b[0m\u001b[37m\u001b[0m \u001b[1m0s\u001b[0m 218ms/step - accuracy: 0.9252 - auc: 0.8309 - f1_score: 0.2264 - loss: 0.0467 - precision: 0.5612 - recall: 0.1748  "
     ]
    },
    {
     "name": "stderr",
     "output_type": "stream",
     "text": [
      "2025-06-21 16:50:26 - INFO - \n",
      "=== Epoch 28 Summary ===\n",
      "2025-06-21 16:50:26 - INFO - Time: 196.67s\n",
      "2025-06-21 16:50:26 - INFO - Training   - accuracy: 0.9258 - auc: 0.8358 - f1_score: 0.2381 - loss: 0.0460 - precision: 0.5722 - recall: 0.1849 - learning_rate: 0.0000\n",
      "2025-06-21 16:50:26 - INFO - Validation - accuracy: 0.9390 - auc: 0.7728 - f1_score: 0.1500 - loss: 0.0568 - precision: 0.3482 - recall: 0.1159\n",
      "2025-06-21 16:50:26 - INFO - ==================================================\n",
      "\n"
     ]
    },
    {
     "name": "stdout",
     "output_type": "stream",
     "text": [
      "\u001b[1m813/813\u001b[0m \u001b[32m━━━━━━━━━━━━━━━━━━━━\u001b[0m\u001b[37m\u001b[0m \u001b[1m197s\u001b[0m 242ms/step - accuracy: 0.9252 - auc: 0.8309 - f1_score: 0.2264 - loss: 0.0467 - precision: 0.5612 - recall: 0.1749 - val_accuracy: 0.9390 - val_auc: 0.7728 - val_f1_score: 0.1500 - val_loss: 0.0568 - val_precision: 0.3482 - val_recall: 0.1159 - learning_rate: 1.2500e-05\n"
     ]
    },
    {
     "name": "stderr",
     "output_type": "stream",
     "text": [
      "2025-06-21 16:50:26 - INFO - \n",
      "=== Starting Epoch 29 ===\n",
      "\n"
     ]
    },
    {
     "name": "stdout",
     "output_type": "stream",
     "text": [
      "Epoch 29/100\n",
      "\u001b[1m813/813\u001b[0m \u001b[32m━━━━━━━━━━━━━━━━━━━━\u001b[0m\u001b[37m\u001b[0m \u001b[1m0s\u001b[0m 328ms/step - accuracy: 0.9258 - auc: 0.8389 - f1_score: 0.2476 - loss: 0.0454 - precision: 0.5728 - recall: 0.1939   "
     ]
    },
    {
     "name": "stderr",
     "output_type": "stream",
     "text": [
      "2025-06-21 16:55:08 - INFO - \n",
      "=== Epoch 29 Summary ===\n",
      "2025-06-21 16:55:08 - INFO - Time: 281.68s\n",
      "2025-06-21 16:55:08 - INFO - Training   - accuracy: 0.9265 - auc: 0.8411 - f1_score: 0.2524 - loss: 0.0450 - precision: 0.5798 - recall: 0.1980 - learning_rate: 0.0000\n",
      "2025-06-21 16:55:08 - INFO - Validation - accuracy: 0.9378 - auc: 0.7663 - f1_score: 0.1442 - loss: 0.0592 - precision: 0.3141 - recall: 0.1039\n",
      "2025-06-21 16:55:08 - INFO - ==================================================\n",
      "\n"
     ]
    },
    {
     "name": "stdout",
     "output_type": "stream",
     "text": [
      "\u001b[1m813/813\u001b[0m \u001b[32m━━━━━━━━━━━━━━━━━━━━\u001b[0m\u001b[37m\u001b[0m \u001b[1m282s\u001b[0m 347ms/step - accuracy: 0.9258 - auc: 0.8389 - f1_score: 0.2477 - loss: 0.0454 - precision: 0.5728 - recall: 0.1939 - val_accuracy: 0.9378 - val_auc: 0.7663 - val_f1_score: 0.1442 - val_loss: 0.0592 - val_precision: 0.3141 - val_recall: 0.1039 - learning_rate: 1.2500e-05\n"
     ]
    },
    {
     "name": "stderr",
     "output_type": "stream",
     "text": [
      "2025-06-21 16:55:08 - INFO - \n",
      "=== Starting Epoch 30 ===\n",
      "\n"
     ]
    },
    {
     "name": "stdout",
     "output_type": "stream",
     "text": [
      "Epoch 30/100\n",
      "\u001b[1m813/813\u001b[0m \u001b[32m━━━━━━━━━━━━━━━━━━━━\u001b[0m\u001b[37m\u001b[0m \u001b[1m0s\u001b[0m 218ms/step - accuracy: 0.9268 - auc: 0.8423 - f1_score: 0.2643 - loss: 0.0448 - precision: 0.5912 - recall: 0.2086  \n",
      "Epoch 30: ReduceLROnPlateau reducing learning rate to 6.24999984211172e-06.\n"
     ]
    },
    {
     "name": "stderr",
     "output_type": "stream",
     "text": [
      "2025-06-21 16:58:19 - INFO - \n",
      "=== Epoch 30 Summary ===\n",
      "2025-06-21 16:58:19 - INFO - Time: 191.51s\n",
      "2025-06-21 16:58:19 - INFO - Training   - accuracy: 0.9272 - auc: 0.8456 - f1_score: 0.2662 - loss: 0.0443 - precision: 0.5925 - recall: 0.2099 - learning_rate: 0.0000\n",
      "2025-06-21 16:58:19 - INFO - Validation - accuracy: 0.9420 - auc: 0.7727 - f1_score: 0.1550 - loss: 0.0554 - precision: 0.4167 - recall: 0.1186\n",
      "2025-06-21 16:58:19 - INFO - ==================================================\n",
      "\n"
     ]
    },
    {
     "name": "stdout",
     "output_type": "stream",
     "text": [
      "\u001b[1m813/813\u001b[0m \u001b[32m━━━━━━━━━━━━━━━━━━━━\u001b[0m\u001b[37m\u001b[0m \u001b[1m192s\u001b[0m 236ms/step - accuracy: 0.9268 - auc: 0.8423 - f1_score: 0.2643 - loss: 0.0448 - precision: 0.5912 - recall: 0.2086 - val_accuracy: 0.9420 - val_auc: 0.7727 - val_f1_score: 0.1550 - val_loss: 0.0554 - val_precision: 0.4167 - val_recall: 0.1186 - learning_rate: 1.2500e-05\n"
     ]
    },
    {
     "name": "stderr",
     "output_type": "stream",
     "text": [
      "2025-06-21 16:58:19 - INFO - \n",
      "=== Starting Epoch 31 ===\n",
      "\n"
     ]
    },
    {
     "name": "stdout",
     "output_type": "stream",
     "text": [
      "Epoch 31/100\n",
      "\u001b[1m813/813\u001b[0m \u001b[32m━━━━━━━━━━━━━━━━━━━━\u001b[0m\u001b[37m\u001b[0m \u001b[1m0s\u001b[0m 281ms/step - accuracy: 0.9276 - auc: 0.8517 - f1_score: 0.2773 - loss: 0.0434 - precision: 0.6000 - recall: 0.2186   "
     ]
    },
    {
     "name": "stderr",
     "output_type": "stream",
     "text": [
      "2025-06-21 17:02:22 - INFO - \n",
      "=== Epoch 31 Summary ===\n",
      "2025-06-21 17:02:22 - INFO - Time: 242.34s\n",
      "2025-06-21 17:02:22 - INFO - Training   - accuracy: 0.9283 - auc: 0.8552 - f1_score: 0.2821 - loss: 0.0427 - precision: 0.6062 - recall: 0.2236 - learning_rate: 0.0000\n",
      "2025-06-21 17:02:22 - INFO - Validation - accuracy: 0.9405 - auc: 0.7688 - f1_score: 0.1620 - loss: 0.0566 - precision: 0.3863 - recall: 0.1274\n",
      "2025-06-21 17:02:22 - INFO - ==================================================\n",
      "\n"
     ]
    },
    {
     "name": "stdout",
     "output_type": "stream",
     "text": [
      "\u001b[1m813/813\u001b[0m \u001b[32m━━━━━━━━━━━━━━━━━━━━\u001b[0m\u001b[37m\u001b[0m \u001b[1m242s\u001b[0m 298ms/step - accuracy: 0.9276 - auc: 0.8517 - f1_score: 0.2773 - loss: 0.0434 - precision: 0.6000 - recall: 0.2187 - val_accuracy: 0.9405 - val_auc: 0.7688 - val_f1_score: 0.1620 - val_loss: 0.0566 - val_precision: 0.3863 - val_recall: 0.1274 - learning_rate: 6.2500e-06\n"
     ]
    },
    {
     "name": "stderr",
     "output_type": "stream",
     "text": [
      "2025-06-21 17:02:22 - INFO - \n",
      "=== Starting Epoch 32 ===\n",
      "\n"
     ]
    },
    {
     "name": "stdout",
     "output_type": "stream",
     "text": [
      "Epoch 32/100\n",
      "\u001b[1m813/813\u001b[0m \u001b[32m━━━━━━━━━━━━━━━━━━━━\u001b[0m\u001b[37m\u001b[0m \u001b[1m0s\u001b[0m 336ms/step - accuracy: 0.9286 - auc: 0.8584 - f1_score: 0.2961 - loss: 0.0425 - precision: 0.6123 - recall: 0.2352   "
     ]
    },
    {
     "name": "stderr",
     "output_type": "stream",
     "text": [
      "2025-06-21 17:07:10 - INFO - \n",
      "=== Epoch 32 Summary ===\n",
      "2025-06-21 17:07:10 - INFO - Time: 287.85s\n",
      "2025-06-21 17:07:10 - INFO - Training   - accuracy: 0.9291 - auc: 0.8603 - f1_score: 0.2966 - loss: 0.0419 - precision: 0.6141 - recall: 0.2359 - learning_rate: 0.0000\n",
      "2025-06-21 17:07:10 - INFO - Validation - accuracy: 0.9390 - auc: 0.7672 - f1_score: 0.1420 - loss: 0.0579 - precision: 0.3450 - recall: 0.1129\n",
      "2025-06-21 17:07:10 - INFO - ==================================================\n",
      "\n"
     ]
    },
    {
     "name": "stdout",
     "output_type": "stream",
     "text": [
      "\u001b[1m813/813\u001b[0m \u001b[32m━━━━━━━━━━━━━━━━━━━━\u001b[0m\u001b[37m\u001b[0m \u001b[1m288s\u001b[0m 354ms/step - accuracy: 0.9286 - auc: 0.8584 - f1_score: 0.2961 - loss: 0.0425 - precision: 0.6123 - recall: 0.2352 - val_accuracy: 0.9390 - val_auc: 0.7672 - val_f1_score: 0.1420 - val_loss: 0.0579 - val_precision: 0.3450 - val_recall: 0.1129 - learning_rate: 6.2500e-06\n"
     ]
    },
    {
     "name": "stderr",
     "output_type": "stream",
     "text": [
      "2025-06-21 17:07:10 - INFO - \n",
      "=== Starting Epoch 33 ===\n",
      "\n"
     ]
    },
    {
     "name": "stdout",
     "output_type": "stream",
     "text": [
      "Epoch 33/100\n",
      "\u001b[1m813/813\u001b[0m \u001b[32m━━━━━━━━━━━━━━━━━━━━\u001b[0m\u001b[37m\u001b[0m \u001b[1m0s\u001b[0m 219ms/step - accuracy: 0.9290 - auc: 0.8610 - f1_score: 0.3016 - loss: 0.0418 - precision: 0.6168 - recall: 0.2401  "
     ]
    },
    {
     "name": "stderr",
     "output_type": "stream",
     "text": [
      "2025-06-21 17:10:18 - INFO - \n",
      "=== Epoch 33 Summary ===\n",
      "2025-06-21 17:10:18 - INFO - Time: 188.10s\n",
      "2025-06-21 17:10:18 - INFO - Training   - accuracy: 0.9294 - auc: 0.8629 - f1_score: 0.3041 - loss: 0.0413 - precision: 0.6195 - recall: 0.2424 - learning_rate: 0.0000\n",
      "2025-06-21 17:10:18 - INFO - Validation - accuracy: 0.9403 - auc: 0.7683 - f1_score: 0.1708 - loss: 0.0566 - precision: 0.3913 - recall: 0.1389\n",
      "2025-06-21 17:10:18 - INFO - ==================================================\n",
      "\n"
     ]
    },
    {
     "name": "stdout",
     "output_type": "stream",
     "text": [
      "\u001b[1m813/813\u001b[0m \u001b[32m━━━━━━━━━━━━━━━━━━━━\u001b[0m\u001b[37m\u001b[0m \u001b[1m188s\u001b[0m 231ms/step - accuracy: 0.9290 - auc: 0.8610 - f1_score: 0.3017 - loss: 0.0418 - precision: 0.6168 - recall: 0.2401 - val_accuracy: 0.9403 - val_auc: 0.7683 - val_f1_score: 0.1708 - val_loss: 0.0566 - val_precision: 0.3913 - val_recall: 0.1389 - learning_rate: 6.2500e-06\n"
     ]
    },
    {
     "name": "stderr",
     "output_type": "stream",
     "text": [
      "2025-06-21 17:10:18 - INFO - \n",
      "=== Starting Epoch 34 ===\n",
      "\n"
     ]
    },
    {
     "name": "stdout",
     "output_type": "stream",
     "text": [
      "Epoch 34/100\n",
      "\u001b[1m813/813\u001b[0m \u001b[32m━━━━━━━━━━━━━━━━━━━━\u001b[0m\u001b[37m\u001b[0m \u001b[1m0s\u001b[0m 230ms/step - accuracy: 0.9299 - auc: 0.8651 - f1_score: 0.3142 - loss: 0.0409 - precision: 0.6237 - recall: 0.2518  "
     ]
    },
    {
     "name": "stderr",
     "output_type": "stream",
     "text": [
      "2025-06-21 17:13:34 - INFO - \n",
      "=== Epoch 34 Summary ===\n",
      "2025-06-21 17:13:34 - INFO - Time: 196.62s\n",
      "2025-06-21 17:13:34 - INFO - Training   - accuracy: 0.9302 - auc: 0.8659 - f1_score: 0.3159 - loss: 0.0406 - precision: 0.6270 - recall: 0.2528 - learning_rate: 0.0000\n",
      "2025-06-21 17:13:34 - INFO - Validation - accuracy: 0.9384 - auc: 0.7678 - f1_score: 0.1706 - loss: 0.0578 - precision: 0.3608 - recall: 0.1458\n",
      "2025-06-21 17:13:34 - INFO - ==================================================\n",
      "\n"
     ]
    },
    {
     "name": "stdout",
     "output_type": "stream",
     "text": [
      "\u001b[1m813/813\u001b[0m \u001b[32m━━━━━━━━━━━━━━━━━━━━\u001b[0m\u001b[37m\u001b[0m \u001b[1m197s\u001b[0m 242ms/step - accuracy: 0.9299 - auc: 0.8651 - f1_score: 0.3142 - loss: 0.0409 - precision: 0.6237 - recall: 0.2518 - val_accuracy: 0.9384 - val_auc: 0.7678 - val_f1_score: 0.1706 - val_loss: 0.0578 - val_precision: 0.3608 - val_recall: 0.1458 - learning_rate: 6.2500e-06\n"
     ]
    },
    {
     "name": "stderr",
     "output_type": "stream",
     "text": [
      "2025-06-21 17:13:34 - INFO - \n",
      "=== Starting Epoch 35 ===\n",
      "\n"
     ]
    },
    {
     "name": "stdout",
     "output_type": "stream",
     "text": [
      "Epoch 35/100\n",
      "\u001b[1m813/813\u001b[0m \u001b[32m━━━━━━━━━━━━━━━━━━━━\u001b[0m\u001b[37m\u001b[0m \u001b[1m0s\u001b[0m 230ms/step - accuracy: 0.9299 - auc: 0.8672 - f1_score: 0.3213 - loss: 0.0408 - precision: 0.6226 - recall: 0.2591  "
     ]
    },
    {
     "name": "stderr",
     "output_type": "stream",
     "text": [
      "2025-06-21 17:16:51 - INFO - \n",
      "=== Epoch 35 Summary ===\n",
      "2025-06-21 17:16:51 - INFO - Time: 196.46s\n",
      "2025-06-21 17:16:51 - INFO - Training   - accuracy: 0.9303 - auc: 0.8692 - f1_score: 0.3240 - loss: 0.0402 - precision: 0.6266 - recall: 0.2602 - learning_rate: 0.0000\n",
      "2025-06-21 17:16:51 - INFO - Validation - accuracy: 0.9393 - auc: 0.7694 - f1_score: 0.1703 - loss: 0.0572 - precision: 0.3694 - recall: 0.1360\n",
      "2025-06-21 17:16:51 - INFO - ==================================================\n",
      "\n"
     ]
    },
    {
     "name": "stdout",
     "output_type": "stream",
     "text": [
      "\u001b[1m813/813\u001b[0m \u001b[32m━━━━━━━━━━━━━━━━━━━━\u001b[0m\u001b[37m\u001b[0m \u001b[1m196s\u001b[0m 242ms/step - accuracy: 0.9299 - auc: 0.8672 - f1_score: 0.3213 - loss: 0.0408 - precision: 0.6226 - recall: 0.2591 - val_accuracy: 0.9393 - val_auc: 0.7694 - val_f1_score: 0.1703 - val_loss: 0.0572 - val_precision: 0.3694 - val_recall: 0.1360 - learning_rate: 6.2500e-06\n"
     ]
    },
    {
     "name": "stderr",
     "output_type": "stream",
     "text": [
      "2025-06-21 17:16:51 - INFO - \n",
      "=== Starting Epoch 36 ===\n",
      "\n"
     ]
    },
    {
     "name": "stdout",
     "output_type": "stream",
     "text": [
      "Epoch 36/100\n",
      "\u001b[1m813/813\u001b[0m \u001b[32m━━━━━━━━━━━━━━━━━━━━\u001b[0m\u001b[37m\u001b[0m \u001b[1m0s\u001b[0m 229ms/step - accuracy: 0.9306 - auc: 0.8707 - f1_score: 0.3281 - loss: 0.0398 - precision: 0.6307 - recall: 0.2637  "
     ]
    },
    {
     "name": "stderr",
     "output_type": "stream",
     "text": [
      "2025-06-21 17:20:07 - INFO - \n",
      "=== Epoch 36 Summary ===\n",
      "2025-06-21 17:20:07 - INFO - Time: 196.28s\n",
      "2025-06-21 17:20:07 - INFO - Training   - accuracy: 0.9307 - auc: 0.8718 - f1_score: 0.3297 - loss: 0.0396 - precision: 0.6298 - recall: 0.2650 - learning_rate: 0.0000\n",
      "2025-06-21 17:20:07 - INFO - Validation - accuracy: 0.9362 - auc: 0.7650 - f1_score: 0.1945 - loss: 0.0584 - precision: 0.3415 - recall: 0.1640\n",
      "2025-06-21 17:20:07 - INFO - ==================================================\n",
      "\n"
     ]
    },
    {
     "name": "stdout",
     "output_type": "stream",
     "text": [
      "\u001b[1m813/813\u001b[0m \u001b[32m━━━━━━━━━━━━━━━━━━━━\u001b[0m\u001b[37m\u001b[0m \u001b[1m196s\u001b[0m 242ms/step - accuracy: 0.9306 - auc: 0.8707 - f1_score: 0.3281 - loss: 0.0398 - precision: 0.6307 - recall: 0.2637 - val_accuracy: 0.9362 - val_auc: 0.7650 - val_f1_score: 0.1945 - val_loss: 0.0584 - val_precision: 0.3415 - val_recall: 0.1640 - learning_rate: 6.2500e-06\n"
     ]
    },
    {
     "name": "stderr",
     "output_type": "stream",
     "text": [
      "2025-06-21 17:20:07 - INFO - \n",
      "=== Starting Epoch 37 ===\n",
      "\n"
     ]
    },
    {
     "name": "stdout",
     "output_type": "stream",
     "text": [
      "Epoch 37/100\n",
      "\u001b[1m813/813\u001b[0m \u001b[32m━━━━━━━━━━━━━━━━━━━━\u001b[0m\u001b[37m\u001b[0m \u001b[1m0s\u001b[0m 289ms/step - accuracy: 0.9311 - auc: 0.8739 - f1_score: 0.3376 - loss: 0.0395 - precision: 0.6348 - recall: 0.2714   "
     ]
    },
    {
     "name": "stderr",
     "output_type": "stream",
     "text": [
      "2025-06-21 17:24:12 - INFO - \n",
      "=== Epoch 37 Summary ===\n",
      "2025-06-21 17:24:12 - INFO - Time: 244.92s\n",
      "2025-06-21 17:24:12 - INFO - Training   - accuracy: 0.9312 - auc: 0.8742 - f1_score: 0.3396 - loss: 0.0393 - precision: 0.6351 - recall: 0.2729 - learning_rate: 0.0000\n",
      "2025-06-21 17:24:12 - INFO - Validation - accuracy: 0.9377 - auc: 0.7659 - f1_score: 0.1920 - loss: 0.0584 - precision: 0.3601 - recall: 0.1614\n",
      "2025-06-21 17:24:12 - INFO - ==================================================\n",
      "\n"
     ]
    },
    {
     "name": "stdout",
     "output_type": "stream",
     "text": [
      "\u001b[1m813/813\u001b[0m \u001b[32m━━━━━━━━━━━━━━━━━━━━\u001b[0m\u001b[37m\u001b[0m \u001b[1m245s\u001b[0m 301ms/step - accuracy: 0.9311 - auc: 0.8739 - f1_score: 0.3376 - loss: 0.0395 - precision: 0.6348 - recall: 0.2714 - val_accuracy: 0.9377 - val_auc: 0.7659 - val_f1_score: 0.1920 - val_loss: 0.0584 - val_precision: 0.3601 - val_recall: 0.1614 - learning_rate: 6.2500e-06\n"
     ]
    },
    {
     "name": "stderr",
     "output_type": "stream",
     "text": [
      "2025-06-21 17:24:12 - INFO - \n",
      "=== Starting Epoch 38 ===\n",
      "\n"
     ]
    },
    {
     "name": "stdout",
     "output_type": "stream",
     "text": [
      "Epoch 38/100\n",
      "\u001b[1m813/813\u001b[0m \u001b[32m━━━━━━━━━━━━━━━━━━━━\u001b[0m\u001b[37m\u001b[0m \u001b[1m0s\u001b[0m 351ms/step - accuracy: 0.9314 - auc: 0.8766 - f1_score: 0.3485 - loss: 0.0390 - precision: 0.6384 - recall: 0.2813   "
     ]
    },
    {
     "name": "stderr",
     "output_type": "stream",
     "text": [
      "2025-06-21 17:29:07 - INFO - \n",
      "=== Epoch 38 Summary ===\n",
      "2025-06-21 17:29:07 - INFO - Time: 295.06s\n",
      "2025-06-21 17:29:07 - INFO - Training   - accuracy: 0.9316 - auc: 0.8771 - f1_score: 0.3474 - loss: 0.0388 - precision: 0.6378 - recall: 0.2800 - learning_rate: 0.0000\n",
      "2025-06-21 17:29:07 - INFO - Validation - accuracy: 0.9375 - auc: 0.7616 - f1_score: 0.1643 - loss: 0.0594 - precision: 0.3444 - recall: 0.1427\n",
      "2025-06-21 17:29:07 - INFO - ==================================================\n",
      "\n"
     ]
    },
    {
     "name": "stdout",
     "output_type": "stream",
     "text": [
      "\u001b[1m813/813\u001b[0m \u001b[32m━━━━━━━━━━━━━━━━━━━━\u001b[0m\u001b[37m\u001b[0m \u001b[1m295s\u001b[0m 363ms/step - accuracy: 0.9314 - auc: 0.8766 - f1_score: 0.3485 - loss: 0.0390 - precision: 0.6384 - recall: 0.2813 - val_accuracy: 0.9375 - val_auc: 0.7616 - val_f1_score: 0.1643 - val_loss: 0.0594 - val_precision: 0.3444 - val_recall: 0.1427 - learning_rate: 6.2500e-06\n"
     ]
    },
    {
     "name": "stderr",
     "output_type": "stream",
     "text": [
      "2025-06-21 17:29:07 - INFO - \n",
      "=== Starting Epoch 39 ===\n",
      "\n"
     ]
    },
    {
     "name": "stdout",
     "output_type": "stream",
     "text": [
      "Epoch 39/100\n",
      "\u001b[1m813/813\u001b[0m \u001b[32m━━━━━━━━━━━━━━━━━━━━\u001b[0m\u001b[37m\u001b[0m \u001b[1m0s\u001b[0m 290ms/step - accuracy: 0.9316 - auc: 0.8785 - f1_score: 0.3533 - loss: 0.0387 - precision: 0.6427 - recall: 0.2858   \n",
      "Epoch 39: ReduceLROnPlateau reducing learning rate to 3.12499992105586e-06.\n"
     ]
    },
    {
     "name": "stderr",
     "output_type": "stream",
     "text": [
      "2025-06-21 17:33:13 - INFO - \n",
      "=== Epoch 39 Summary ===\n",
      "2025-06-21 17:33:13 - INFO - Time: 245.47s\n",
      "2025-06-21 17:33:13 - INFO - Training   - accuracy: 0.9320 - auc: 0.8802 - f1_score: 0.3540 - loss: 0.0383 - precision: 0.6429 - recall: 0.2862 - learning_rate: 0.0000\n",
      "2025-06-21 17:33:13 - INFO - Validation - accuracy: 0.9381 - auc: 0.7598 - f1_score: 0.1738 - loss: 0.0593 - precision: 0.3519 - recall: 0.1402\n",
      "2025-06-21 17:33:13 - INFO - ==================================================\n",
      "\n"
     ]
    },
    {
     "name": "stdout",
     "output_type": "stream",
     "text": [
      "\u001b[1m813/813\u001b[0m \u001b[32m━━━━━━━━━━━━━━━━━━━━\u001b[0m\u001b[37m\u001b[0m \u001b[1m245s\u001b[0m 302ms/step - accuracy: 0.9316 - auc: 0.8785 - f1_score: 0.3533 - loss: 0.0387 - precision: 0.6427 - recall: 0.2858 - val_accuracy: 0.9381 - val_auc: 0.7598 - val_f1_score: 0.1738 - val_loss: 0.0593 - val_precision: 0.3519 - val_recall: 0.1402 - learning_rate: 6.2500e-06\n"
     ]
    },
    {
     "name": "stderr",
     "output_type": "stream",
     "text": [
      "2025-06-21 17:33:13 - INFO - \n",
      "=== Starting Epoch 40 ===\n",
      "\n"
     ]
    },
    {
     "name": "stdout",
     "output_type": "stream",
     "text": [
      "Epoch 40/100\n",
      "\u001b[1m813/813\u001b[0m \u001b[32m━━━━━━━━━━━━━━━━━━━━\u001b[0m\u001b[37m\u001b[0m \u001b[1m0s\u001b[0m 353ms/step - accuracy: 0.9326 - auc: 0.8826 - f1_score: 0.3618 - loss: 0.0377 - precision: 0.6530 - recall: 0.2919   "
     ]
    },
    {
     "name": "stderr",
     "output_type": "stream",
     "text": [
      "2025-06-21 17:38:09 - INFO - \n",
      "=== Epoch 40 Summary ===\n",
      "2025-06-21 17:38:09 - INFO - Time: 296.32s\n",
      "2025-06-21 17:38:09 - INFO - Training   - accuracy: 0.9330 - auc: 0.8853 - f1_score: 0.3661 - loss: 0.0373 - precision: 0.6552 - recall: 0.2958 - learning_rate: 0.0000\n",
      "2025-06-21 17:38:09 - INFO - Validation - accuracy: 0.9378 - auc: 0.7674 - f1_score: 0.1769 - loss: 0.0585 - precision: 0.3494 - recall: 0.1432\n",
      "2025-06-21 17:38:09 - INFO - ==================================================\n",
      "\n"
     ]
    },
    {
     "name": "stdout",
     "output_type": "stream",
     "text": [
      "\u001b[1m813/813\u001b[0m \u001b[32m━━━━━━━━━━━━━━━━━━━━\u001b[0m\u001b[37m\u001b[0m \u001b[1m296s\u001b[0m 365ms/step - accuracy: 0.9326 - auc: 0.8826 - f1_score: 0.3618 - loss: 0.0377 - precision: 0.6530 - recall: 0.2919 - val_accuracy: 0.9378 - val_auc: 0.7674 - val_f1_score: 0.1769 - val_loss: 0.0585 - val_precision: 0.3494 - val_recall: 0.1432 - learning_rate: 3.1250e-06\n"
     ]
    },
    {
     "name": "stderr",
     "output_type": "stream",
     "text": [
      "2025-06-21 17:38:09 - INFO - \n",
      "=== Starting Epoch 41 ===\n",
      "\n"
     ]
    },
    {
     "name": "stdout",
     "output_type": "stream",
     "text": [
      "Epoch 41/100\n",
      "\u001b[1m813/813\u001b[0m \u001b[32m━━━━━━━━━━━━━━━━━━━━\u001b[0m\u001b[37m\u001b[0m \u001b[1m0s\u001b[0m 347ms/step - accuracy: 0.9334 - auc: 0.8872 - f1_score: 0.3730 - loss: 0.0368 - precision: 0.6599 - recall: 0.3020   "
     ]
    },
    {
     "name": "stderr",
     "output_type": "stream",
     "text": [
      "2025-06-21 17:43:01 - INFO - \n",
      "=== Epoch 41 Summary ===\n",
      "2025-06-21 17:43:01 - INFO - Time: 291.95s\n",
      "2025-06-21 17:43:01 - INFO - Training   - accuracy: 0.9338 - auc: 0.8891 - f1_score: 0.3767 - loss: 0.0365 - precision: 0.6613 - recall: 0.3052 - learning_rate: 0.0000\n",
      "2025-06-21 17:43:01 - INFO - Validation - accuracy: 0.9344 - auc: 0.7632 - f1_score: 0.1776 - loss: 0.0622 - precision: 0.3163 - recall: 0.1586\n",
      "2025-06-21 17:43:01 - INFO - ==================================================\n",
      "\n"
     ]
    },
    {
     "name": "stdout",
     "output_type": "stream",
     "text": [
      "\u001b[1m813/813\u001b[0m \u001b[32m━━━━━━━━━━━━━━━━━━━━\u001b[0m\u001b[37m\u001b[0m \u001b[1m292s\u001b[0m 359ms/step - accuracy: 0.9334 - auc: 0.8872 - f1_score: 0.3730 - loss: 0.0368 - precision: 0.6599 - recall: 0.3020 - val_accuracy: 0.9344 - val_auc: 0.7632 - val_f1_score: 0.1776 - val_loss: 0.0622 - val_precision: 0.3163 - val_recall: 0.1586 - learning_rate: 3.1250e-06\n"
     ]
    },
    {
     "name": "stderr",
     "output_type": "stream",
     "text": [
      "2025-06-21 17:43:01 - INFO - \n",
      "=== Starting Epoch 42 ===\n",
      "\n"
     ]
    },
    {
     "name": "stdout",
     "output_type": "stream",
     "text": [
      "Epoch 42/100\n",
      "\u001b[1m813/813\u001b[0m \u001b[32m━━━━━━━━━━━━━━━━━━━━\u001b[0m\u001b[37m\u001b[0m \u001b[1m0s\u001b[0m 228ms/step - accuracy: 0.9337 - auc: 0.8891 - f1_score: 0.3819 - loss: 0.0366 - precision: 0.6640 - recall: 0.3089  "
     ]
    },
    {
     "name": "stderr",
     "output_type": "stream",
     "text": [
      "2025-06-21 17:46:17 - INFO - \n",
      "=== Epoch 42 Summary ===\n",
      "2025-06-21 17:46:17 - INFO - Time: 195.89s\n",
      "2025-06-21 17:46:17 - INFO - Training   - accuracy: 0.9340 - auc: 0.8901 - f1_score: 0.3826 - loss: 0.0364 - precision: 0.6607 - recall: 0.3110 - learning_rate: 0.0000\n",
      "2025-06-21 17:46:17 - INFO - Validation - accuracy: 0.9354 - auc: 0.7613 - f1_score: 0.1960 - loss: 0.0595 - precision: 0.3350 - recall: 0.1689\n",
      "2025-06-21 17:46:17 - INFO - ==================================================\n",
      "\n"
     ]
    },
    {
     "name": "stdout",
     "output_type": "stream",
     "text": [
      "\u001b[1m813/813\u001b[0m \u001b[32m━━━━━━━━━━━━━━━━━━━━\u001b[0m\u001b[37m\u001b[0m \u001b[1m196s\u001b[0m 241ms/step - accuracy: 0.9337 - auc: 0.8891 - f1_score: 0.3820 - loss: 0.0366 - precision: 0.6640 - recall: 0.3089 - val_accuracy: 0.9354 - val_auc: 0.7613 - val_f1_score: 0.1960 - val_loss: 0.0595 - val_precision: 0.3350 - val_recall: 0.1689 - learning_rate: 3.1250e-06\n"
     ]
    },
    {
     "name": "stderr",
     "output_type": "stream",
     "text": [
      "2025-06-21 17:46:17 - INFO - \n",
      "=== Starting Epoch 43 ===\n",
      "\n"
     ]
    },
    {
     "name": "stdout",
     "output_type": "stream",
     "text": [
      "Epoch 43/100\n",
      "\u001b[1m813/813\u001b[0m \u001b[32m━━━━━━━━━━━━━━━━━━━━\u001b[0m\u001b[37m\u001b[0m \u001b[1m0s\u001b[0m 230ms/step - accuracy: 0.9340 - auc: 0.8915 - f1_score: 0.3857 - loss: 0.0363 - precision: 0.6636 - recall: 0.3128  "
     ]
    },
    {
     "name": "stderr",
     "output_type": "stream",
     "text": [
      "2025-06-21 17:49:34 - INFO - \n",
      "=== Epoch 43 Summary ===\n",
      "2025-06-21 17:49:34 - INFO - Time: 197.09s\n",
      "2025-06-21 17:49:34 - INFO - Training   - accuracy: 0.9343 - auc: 0.8927 - f1_score: 0.3880 - loss: 0.0360 - precision: 0.6653 - recall: 0.3154 - learning_rate: 0.0000\n",
      "2025-06-21 17:49:34 - INFO - Validation - accuracy: 0.9345 - auc: 0.7626 - f1_score: 0.1898 - loss: 0.0602 - precision: 0.3209 - recall: 0.1643\n",
      "2025-06-21 17:49:34 - INFO - ==================================================\n",
      "\n"
     ]
    },
    {
     "name": "stdout",
     "output_type": "stream",
     "text": [
      "\u001b[1m813/813\u001b[0m \u001b[32m━━━━━━━━━━━━━━━━━━━━\u001b[0m\u001b[37m\u001b[0m \u001b[1m197s\u001b[0m 242ms/step - accuracy: 0.9340 - auc: 0.8915 - f1_score: 0.3857 - loss: 0.0363 - precision: 0.6636 - recall: 0.3128 - val_accuracy: 0.9345 - val_auc: 0.7626 - val_f1_score: 0.1898 - val_loss: 0.0602 - val_precision: 0.3209 - val_recall: 0.1643 - learning_rate: 3.1250e-06\n"
     ]
    },
    {
     "name": "stderr",
     "output_type": "stream",
     "text": [
      "2025-06-21 17:49:34 - INFO - \n",
      "=== Starting Epoch 44 ===\n",
      "\n"
     ]
    },
    {
     "name": "stdout",
     "output_type": "stream",
     "text": [
      "Epoch 44/100\n",
      "\u001b[1m813/813\u001b[0m \u001b[32m━━━━━━━━━━━━━━━━━━━━\u001b[0m\u001b[37m\u001b[0m \u001b[1m0s\u001b[0m 230ms/step - accuracy: 0.9342 - auc: 0.8937 - f1_score: 0.3920 - loss: 0.0359 - precision: 0.6659 - recall: 0.3189  "
     ]
    },
    {
     "name": "stderr",
     "output_type": "stream",
     "text": [
      "2025-06-21 17:52:51 - INFO - \n",
      "=== Epoch 44 Summary ===\n",
      "2025-06-21 17:52:51 - INFO - Time: 197.20s\n",
      "2025-06-21 17:52:51 - INFO - Training   - accuracy: 0.9347 - auc: 0.8941 - f1_score: 0.3934 - loss: 0.0356 - precision: 0.6673 - recall: 0.3206 - learning_rate: 0.0000\n",
      "2025-06-21 17:52:51 - INFO - Validation - accuracy: 0.9336 - auc: 0.7602 - f1_score: 0.2086 - loss: 0.0611 - precision: 0.3269 - recall: 0.1872\n",
      "2025-06-21 17:52:51 - INFO - ==================================================\n",
      "\n"
     ]
    },
    {
     "name": "stdout",
     "output_type": "stream",
     "text": [
      "\u001b[1m813/813\u001b[0m \u001b[32m━━━━━━━━━━━━━━━━━━━━\u001b[0m\u001b[37m\u001b[0m \u001b[1m197s\u001b[0m 243ms/step - accuracy: 0.9342 - auc: 0.8937 - f1_score: 0.3920 - loss: 0.0359 - precision: 0.6659 - recall: 0.3189 - val_accuracy: 0.9336 - val_auc: 0.7602 - val_f1_score: 0.2086 - val_loss: 0.0611 - val_precision: 0.3269 - val_recall: 0.1872 - learning_rate: 3.1250e-06\n"
     ]
    },
    {
     "name": "stderr",
     "output_type": "stream",
     "text": [
      "2025-06-21 17:52:51 - INFO - \n",
      "=== Starting Epoch 45 ===\n",
      "\n"
     ]
    },
    {
     "name": "stdout",
     "output_type": "stream",
     "text": [
      "Epoch 45/100\n",
      "\u001b[1m813/813\u001b[0m \u001b[32m━━━━━━━━━━━━━━━━━━━━\u001b[0m\u001b[37m\u001b[0m \u001b[1m0s\u001b[0m 229ms/step - accuracy: 0.9349 - auc: 0.8950 - f1_score: 0.4006 - loss: 0.0355 - precision: 0.6695 - recall: 0.3261  "
     ]
    },
    {
     "name": "stderr",
     "output_type": "stream",
     "text": [
      "2025-06-21 17:56:07 - INFO - \n",
      "=== Epoch 45 Summary ===\n",
      "2025-06-21 17:56:07 - INFO - Time: 195.84s\n",
      "2025-06-21 17:56:07 - INFO - Training   - accuracy: 0.9351 - auc: 0.8955 - f1_score: 0.4016 - loss: 0.0353 - precision: 0.6712 - recall: 0.3273 - learning_rate: 0.0000\n",
      "2025-06-21 17:56:07 - INFO - Validation - accuracy: 0.9373 - auc: 0.7661 - f1_score: 0.1919 - loss: 0.0595 - precision: 0.3490 - recall: 0.1531\n",
      "2025-06-21 17:56:07 - INFO - ==================================================\n",
      "\n"
     ]
    },
    {
     "name": "stdout",
     "output_type": "stream",
     "text": [
      "\u001b[1m813/813\u001b[0m \u001b[32m━━━━━━━━━━━━━━━━━━━━\u001b[0m\u001b[37m\u001b[0m \u001b[1m196s\u001b[0m 241ms/step - accuracy: 0.9349 - auc: 0.8950 - f1_score: 0.4006 - loss: 0.0355 - precision: 0.6695 - recall: 0.3261 - val_accuracy: 0.9373 - val_auc: 0.7661 - val_f1_score: 0.1919 - val_loss: 0.0595 - val_precision: 0.3490 - val_recall: 0.1531 - learning_rate: 3.1250e-06\n"
     ]
    },
    {
     "name": "stderr",
     "output_type": "stream",
     "text": [
      "2025-06-21 17:56:07 - INFO - \n",
      "=== Starting Epoch 46 ===\n",
      "\n"
     ]
    },
    {
     "name": "stdout",
     "output_type": "stream",
     "text": [
      "Epoch 46/100\n",
      "\u001b[1m813/813\u001b[0m \u001b[32m━━━━━━━━━━━━━━━━━━━━\u001b[0m\u001b[37m\u001b[0m \u001b[1m0s\u001b[0m 292ms/step - accuracy: 0.9352 - auc: 0.8962 - f1_score: 0.4040 - loss: 0.0351 - precision: 0.6711 - recall: 0.3304   "
     ]
    },
    {
     "name": "stderr",
     "output_type": "stream",
     "text": [
      "2025-06-21 18:00:15 - INFO - \n",
      "=== Epoch 46 Summary ===\n",
      "2025-06-21 18:00:15 - INFO - Time: 248.26s\n",
      "2025-06-21 18:00:15 - INFO - Training   - accuracy: 0.9355 - auc: 0.8971 - f1_score: 0.4067 - loss: 0.0349 - precision: 0.6724 - recall: 0.3325 - learning_rate: 0.0000\n",
      "2025-06-21 18:00:15 - INFO - Validation - accuracy: 0.9330 - auc: 0.7582 - f1_score: 0.2183 - loss: 0.0613 - precision: 0.3310 - recall: 0.2058\n",
      "2025-06-21 18:00:15 - INFO - ==================================================\n",
      "\n"
     ]
    },
    {
     "name": "stdout",
     "output_type": "stream",
     "text": [
      "\u001b[1m813/813\u001b[0m \u001b[32m━━━━━━━━━━━━━━━━━━━━\u001b[0m\u001b[37m\u001b[0m \u001b[1m248s\u001b[0m 306ms/step - accuracy: 0.9352 - auc: 0.8962 - f1_score: 0.4040 - loss: 0.0351 - precision: 0.6711 - recall: 0.3304 - val_accuracy: 0.9330 - val_auc: 0.7582 - val_f1_score: 0.2183 - val_loss: 0.0613 - val_precision: 0.3310 - val_recall: 0.2058 - learning_rate: 3.1250e-06\n"
     ]
    },
    {
     "name": "stderr",
     "output_type": "stream",
     "text": [
      "2025-06-21 18:00:15 - INFO - \n",
      "=== Starting Epoch 47 ===\n",
      "\n"
     ]
    },
    {
     "name": "stdout",
     "output_type": "stream",
     "text": [
      "Epoch 47/100\n",
      "\u001b[1m813/813\u001b[0m \u001b[32m━━━━━━━━━━━━━━━━━━━━\u001b[0m\u001b[37m\u001b[0m \u001b[1m0s\u001b[0m 230ms/step - accuracy: 0.9354 - auc: 0.8985 - f1_score: 0.4099 - loss: 0.0350 - precision: 0.6730 - recall: 0.3357  "
     ]
    },
    {
     "name": "stderr",
     "output_type": "stream",
     "text": [
      "2025-06-21 18:03:32 - INFO - \n",
      "=== Epoch 47 Summary ===\n",
      "2025-06-21 18:03:32 - INFO - Time: 196.79s\n",
      "2025-06-21 18:03:32 - INFO - Training   - accuracy: 0.9356 - auc: 0.8991 - f1_score: 0.4106 - loss: 0.0348 - precision: 0.6735 - recall: 0.3360 - learning_rate: 0.0000\n",
      "2025-06-21 18:03:32 - INFO - Validation - accuracy: 0.9356 - auc: 0.7627 - f1_score: 0.2124 - loss: 0.0611 - precision: 0.3380 - recall: 0.1706\n",
      "2025-06-21 18:03:32 - INFO - ==================================================\n",
      "\n"
     ]
    },
    {
     "name": "stdout",
     "output_type": "stream",
     "text": [
      "\u001b[1m813/813\u001b[0m \u001b[32m━━━━━━━━━━━━━━━━━━━━\u001b[0m\u001b[37m\u001b[0m \u001b[1m197s\u001b[0m 242ms/step - accuracy: 0.9354 - auc: 0.8985 - f1_score: 0.4099 - loss: 0.0349 - precision: 0.6730 - recall: 0.3357 - val_accuracy: 0.9356 - val_auc: 0.7627 - val_f1_score: 0.2124 - val_loss: 0.0611 - val_precision: 0.3380 - val_recall: 0.1706 - learning_rate: 3.1250e-06\n"
     ]
    },
    {
     "name": "stderr",
     "output_type": "stream",
     "text": [
      "2025-06-21 18:03:32 - INFO - \n",
      "=== Starting Epoch 48 ===\n",
      "\n"
     ]
    },
    {
     "name": "stdout",
     "output_type": "stream",
     "text": [
      "Epoch 48/100\n",
      "\u001b[1m813/813\u001b[0m \u001b[32m━━━━━━━━━━━━━━━━━━━━\u001b[0m\u001b[37m\u001b[0m \u001b[1m0s\u001b[0m 229ms/step - accuracy: 0.9356 - auc: 0.8996 - f1_score: 0.4146 - loss: 0.0347 - precision: 0.6728 - recall: 0.3393  "
     ]
    },
    {
     "name": "stderr",
     "output_type": "stream",
     "text": [
      "2025-06-21 18:06:48 - INFO - \n",
      "=== Epoch 48 Summary ===\n",
      "2025-06-21 18:06:48 - INFO - Time: 196.25s\n",
      "2025-06-21 18:06:48 - INFO - Training   - accuracy: 0.9358 - auc: 0.9013 - f1_score: 0.4148 - loss: 0.0344 - precision: 0.6720 - recall: 0.3397 - learning_rate: 0.0000\n",
      "2025-06-21 18:06:48 - INFO - Validation - accuracy: 0.9355 - auc: 0.7604 - f1_score: 0.2016 - loss: 0.0618 - precision: 0.3355 - recall: 0.1680\n",
      "2025-06-21 18:06:48 - INFO - ==================================================\n",
      "\n"
     ]
    },
    {
     "name": "stdout",
     "output_type": "stream",
     "text": [
      "\u001b[1m813/813\u001b[0m \u001b[32m━━━━━━━━━━━━━━━━━━━━\u001b[0m\u001b[37m\u001b[0m \u001b[1m196s\u001b[0m 241ms/step - accuracy: 0.9356 - auc: 0.8996 - f1_score: 0.4146 - loss: 0.0347 - precision: 0.6728 - recall: 0.3393 - val_accuracy: 0.9355 - val_auc: 0.7604 - val_f1_score: 0.2016 - val_loss: 0.0618 - val_precision: 0.3355 - val_recall: 0.1680 - learning_rate: 3.1250e-06\n"
     ]
    },
    {
     "name": "stderr",
     "output_type": "stream",
     "text": [
      "2025-06-21 18:06:48 - INFO - \n",
      "=== Starting Epoch 49 ===\n",
      "\n"
     ]
    },
    {
     "name": "stdout",
     "output_type": "stream",
     "text": [
      "Epoch 49/100\n",
      "\u001b[1m813/813\u001b[0m \u001b[32m━━━━━━━━━━━━━━━━━━━━\u001b[0m\u001b[37m\u001b[0m \u001b[1m0s\u001b[0m 229ms/step - accuracy: 0.9358 - auc: 0.9015 - f1_score: 0.4188 - loss: 0.0344 - precision: 0.6752 - recall: 0.3430  \n",
      "Epoch 49: ReduceLROnPlateau reducing learning rate to 1.56249996052793e-06.\n"
     ]
    },
    {
     "name": "stderr",
     "output_type": "stream",
     "text": [
      "2025-06-21 18:10:04 - INFO - \n",
      "=== Epoch 49 Summary ===\n",
      "2025-06-21 18:10:04 - INFO - Time: 196.11s\n",
      "2025-06-21 18:10:04 - INFO - Training   - accuracy: 0.9362 - auc: 0.9026 - f1_score: 0.4218 - loss: 0.0342 - precision: 0.6757 - recall: 0.3463 - learning_rate: 0.0000\n",
      "2025-06-21 18:10:04 - INFO - Validation - accuracy: 0.9354 - auc: 0.7607 - f1_score: 0.1896 - loss: 0.0607 - precision: 0.3305 - recall: 0.1617\n",
      "2025-06-21 18:10:04 - INFO - ==================================================\n",
      "\n"
     ]
    },
    {
     "name": "stdout",
     "output_type": "stream",
     "text": [
      "\u001b[1m813/813\u001b[0m \u001b[32m━━━━━━━━━━━━━━━━━━━━\u001b[0m\u001b[37m\u001b[0m \u001b[1m196s\u001b[0m 241ms/step - accuracy: 0.9358 - auc: 0.9015 - f1_score: 0.4188 - loss: 0.0344 - precision: 0.6752 - recall: 0.3430 - val_accuracy: 0.9354 - val_auc: 0.7607 - val_f1_score: 0.1896 - val_loss: 0.0607 - val_precision: 0.3305 - val_recall: 0.1617 - learning_rate: 3.1250e-06\n"
     ]
    },
    {
     "name": "stderr",
     "output_type": "stream",
     "text": [
      "2025-06-21 18:10:04 - INFO - \n",
      "=== Starting Epoch 50 ===\n",
      "\n"
     ]
    },
    {
     "name": "stdout",
     "output_type": "stream",
     "text": [
      "Epoch 50/100\n",
      "\u001b[1m813/813\u001b[0m \u001b[32m━━━━━━━━━━━━━━━━━━━━\u001b[0m\u001b[37m\u001b[0m \u001b[1m0s\u001b[0m 290ms/step - accuracy: 0.9365 - auc: 0.9034 - f1_score: 0.4256 - loss: 0.0338 - precision: 0.6842 - recall: 0.3492   "
     ]
    },
    {
     "name": "stderr",
     "output_type": "stream",
     "text": [
      "2025-06-21 18:14:10 - INFO - \n",
      "=== Epoch 50 Summary ===\n",
      "2025-06-21 18:14:10 - INFO - Time: 245.40s\n",
      "2025-06-21 18:14:10 - INFO - Training   - accuracy: 0.9370 - auc: 0.9051 - f1_score: 0.4297 - loss: 0.0335 - precision: 0.6850 - recall: 0.3532 - learning_rate: 0.0000\n",
      "2025-06-21 18:14:10 - INFO - Validation - accuracy: 0.9353 - auc: 0.7608 - f1_score: 0.2064 - loss: 0.0611 - precision: 0.3322 - recall: 0.1662\n",
      "2025-06-21 18:14:10 - INFO - ==================================================\n",
      "\n"
     ]
    },
    {
     "name": "stdout",
     "output_type": "stream",
     "text": [
      "\u001b[1m813/813\u001b[0m \u001b[32m━━━━━━━━━━━━━━━━━━━━\u001b[0m\u001b[37m\u001b[0m \u001b[1m245s\u001b[0m 302ms/step - accuracy: 0.9365 - auc: 0.9034 - f1_score: 0.4256 - loss: 0.0338 - precision: 0.6842 - recall: 0.3492 - val_accuracy: 0.9353 - val_auc: 0.7608 - val_f1_score: 0.2064 - val_loss: 0.0611 - val_precision: 0.3322 - val_recall: 0.1662 - learning_rate: 1.5625e-06\n"
     ]
    },
    {
     "name": "stderr",
     "output_type": "stream",
     "text": [
      "2025-06-21 18:14:10 - INFO - \n",
      "=== Starting Epoch 51 ===\n",
      "\n"
     ]
    },
    {
     "name": "stdout",
     "output_type": "stream",
     "text": [
      "Epoch 51/100\n",
      "\u001b[1m813/813\u001b[0m \u001b[32m━━━━━━━━━━━━━━━━━━━━\u001b[0m\u001b[37m\u001b[0m \u001b[1m0s\u001b[0m 352ms/step - accuracy: 0.9374 - auc: 0.9080 - f1_score: 0.4344 - loss: 0.0332 - precision: 0.6857 - recall: 0.3579   "
     ]
    },
    {
     "name": "stderr",
     "output_type": "stream",
     "text": [
      "2025-06-21 18:19:06 - INFO - \n",
      "=== Epoch 51 Summary ===\n",
      "2025-06-21 18:19:06 - INFO - Time: 296.13s\n",
      "2025-06-21 18:19:06 - INFO - Training   - accuracy: 0.9373 - auc: 0.9075 - f1_score: 0.4350 - loss: 0.0332 - precision: 0.6854 - recall: 0.3582 - learning_rate: 0.0000\n",
      "2025-06-21 18:19:06 - INFO - Validation - accuracy: 0.9353 - auc: 0.7623 - f1_score: 0.2111 - loss: 0.0615 - precision: 0.3381 - recall: 0.1761\n",
      "2025-06-21 18:19:06 - INFO - ==================================================\n",
      "\n"
     ]
    },
    {
     "name": "stdout",
     "output_type": "stream",
     "text": [
      "\u001b[1m813/813\u001b[0m \u001b[32m━━━━━━━━━━━━━━━━━━━━\u001b[0m\u001b[37m\u001b[0m \u001b[1m296s\u001b[0m 364ms/step - accuracy: 0.9374 - auc: 0.9080 - f1_score: 0.4344 - loss: 0.0332 - precision: 0.6857 - recall: 0.3579 - val_accuracy: 0.9353 - val_auc: 0.7623 - val_f1_score: 0.2111 - val_loss: 0.0615 - val_precision: 0.3381 - val_recall: 0.1761 - learning_rate: 1.5625e-06\n"
     ]
    },
    {
     "name": "stderr",
     "output_type": "stream",
     "text": [
      "2025-06-21 18:19:06 - INFO - \n",
      "=== Starting Epoch 52 ===\n",
      "\n"
     ]
    },
    {
     "name": "stdout",
     "output_type": "stream",
     "text": [
      "Epoch 52/100\n",
      "\u001b[1m813/813\u001b[0m \u001b[32m━━━━━━━━━━━━━━━━━━━━\u001b[0m\u001b[37m\u001b[0m \u001b[1m0s\u001b[0m 293ms/step - accuracy: 0.9376 - auc: 0.9069 - f1_score: 0.4407 - loss: 0.0332 - precision: 0.6912 - recall: 0.3627   \n",
      "Epoch 52: ReduceLROnPlateau reducing learning rate to 1e-06.\n"
     ]
    },
    {
     "name": "stderr",
     "output_type": "stream",
     "text": [
      "2025-06-21 18:23:14 - INFO - \n",
      "=== Epoch 52 Summary ===\n",
      "2025-06-21 18:23:14 - INFO - Time: 247.61s\n",
      "2025-06-21 18:23:14 - INFO - Training   - accuracy: 0.9378 - auc: 0.9082 - f1_score: 0.4407 - loss: 0.0329 - precision: 0.6904 - recall: 0.3630 - learning_rate: 0.0000\n",
      "2025-06-21 18:23:14 - INFO - Validation - accuracy: 0.9347 - auc: 0.7586 - f1_score: 0.2023 - loss: 0.0622 - precision: 0.3277 - recall: 0.1704\n",
      "2025-06-21 18:23:14 - INFO - ==================================================\n",
      "\n"
     ]
    },
    {
     "name": "stdout",
     "output_type": "stream",
     "text": [
      "\u001b[1m813/813\u001b[0m \u001b[32m━━━━━━━━━━━━━━━━━━━━\u001b[0m\u001b[37m\u001b[0m \u001b[1m248s\u001b[0m 305ms/step - accuracy: 0.9376 - auc: 0.9069 - f1_score: 0.4407 - loss: 0.0332 - precision: 0.6912 - recall: 0.3627 - val_accuracy: 0.9347 - val_auc: 0.7586 - val_f1_score: 0.2023 - val_loss: 0.0622 - val_precision: 0.3277 - val_recall: 0.1704 - learning_rate: 1.5625e-06\n"
     ]
    },
    {
     "name": "stderr",
     "output_type": "stream",
     "text": [
      "2025-06-21 18:23:14 - INFO - \n",
      "=== Starting Epoch 53 ===\n",
      "\n"
     ]
    },
    {
     "name": "stdout",
     "output_type": "stream",
     "text": [
      "Epoch 53/100\n",
      "\u001b[1m813/813\u001b[0m \u001b[32m━━━━━━━━━━━━━━━━━━━━\u001b[0m\u001b[37m\u001b[0m \u001b[1m0s\u001b[0m 413ms/step - accuracy: 0.9376 - auc: 0.9085 - f1_score: 0.4416 - loss: 0.0330 - precision: 0.6934 - recall: 0.3629   "
     ]
    },
    {
     "name": "stderr",
     "output_type": "stream",
     "text": [
      "2025-06-21 18:28:59 - INFO - \n",
      "=== Epoch 53 Summary ===\n",
      "2025-06-21 18:28:59 - INFO - Time: 345.50s\n",
      "2025-06-21 18:28:59 - INFO - Training   - accuracy: 0.9380 - auc: 0.9098 - f1_score: 0.4443 - loss: 0.0327 - precision: 0.6933 - recall: 0.3661 - learning_rate: 0.0000\n",
      "2025-06-21 18:28:59 - INFO - Validation - accuracy: 0.9363 - auc: 0.7602 - f1_score: 0.2084 - loss: 0.0609 - precision: 0.3458 - recall: 0.1680\n",
      "2025-06-21 18:28:59 - INFO - ==================================================\n",
      "\n"
     ]
    },
    {
     "name": "stdout",
     "output_type": "stream",
     "text": [
      "\u001b[1m813/813\u001b[0m \u001b[32m━━━━━━━━━━━━━━━━━━━━\u001b[0m\u001b[37m\u001b[0m \u001b[1m346s\u001b[0m 425ms/step - accuracy: 0.9376 - auc: 0.9085 - f1_score: 0.4416 - loss: 0.0330 - precision: 0.6934 - recall: 0.3629 - val_accuracy: 0.9363 - val_auc: 0.7602 - val_f1_score: 0.2084 - val_loss: 0.0609 - val_precision: 0.3458 - val_recall: 0.1680 - learning_rate: 1.0000e-06\n"
     ]
    },
    {
     "name": "stderr",
     "output_type": "stream",
     "text": [
      "2025-06-21 18:28:59 - INFO - \n",
      "=== Starting Epoch 54 ===\n",
      "\n"
     ]
    },
    {
     "name": "stdout",
     "output_type": "stream",
     "text": [
      "Epoch 54/100\n",
      "\u001b[1m813/813\u001b[0m \u001b[32m━━━━━━━━━━━━━━━━━━━━\u001b[0m\u001b[37m\u001b[0m \u001b[1m0s\u001b[0m 437ms/step - accuracy: 0.9380 - auc: 0.9103 - f1_score: 0.4476 - loss: 0.0327 - precision: 0.6915 - recall: 0.3690  "
     ]
    },
    {
     "name": "stderr",
     "output_type": "stream",
     "text": [
      "2025-06-21 18:35:05 - INFO - \n",
      "=== Epoch 54 Summary ===\n",
      "2025-06-21 18:35:05 - INFO - Time: 366.00s\n",
      "2025-06-21 18:35:05 - INFO - Training   - accuracy: 0.9382 - auc: 0.9108 - f1_score: 0.4476 - loss: 0.0326 - precision: 0.6916 - recall: 0.3698 - learning_rate: 0.0000\n",
      "2025-06-21 18:35:05 - INFO - Validation - accuracy: 0.9363 - auc: 0.7602 - f1_score: 0.2018 - loss: 0.0613 - precision: 0.3404 - recall: 0.1595\n",
      "2025-06-21 18:35:05 - INFO - ==================================================\n",
      "\n"
     ]
    },
    {
     "name": "stdout",
     "output_type": "stream",
     "text": [
      "\u001b[1m813/813\u001b[0m \u001b[32m━━━━━━━━━━━━━━━━━━━━\u001b[0m\u001b[37m\u001b[0m \u001b[1m366s\u001b[0m 450ms/step - accuracy: 0.9380 - auc: 0.9103 - f1_score: 0.4476 - loss: 0.0327 - precision: 0.6915 - recall: 0.3690 - val_accuracy: 0.9363 - val_auc: 0.7602 - val_f1_score: 0.2018 - val_loss: 0.0613 - val_precision: 0.3404 - val_recall: 0.1595 - learning_rate: 1.0000e-06\n"
     ]
    },
    {
     "name": "stderr",
     "output_type": "stream",
     "text": [
      "2025-06-21 18:35:05 - INFO - \n",
      "=== Starting Epoch 55 ===\n",
      "\n"
     ]
    },
    {
     "name": "stdout",
     "output_type": "stream",
     "text": [
      "Epoch 55/100\n",
      "\u001b[1m813/813\u001b[0m \u001b[32m━━━━━━━━━━━━━━━━━━━━\u001b[0m\u001b[37m\u001b[0m \u001b[1m0s\u001b[0m 292ms/step - accuracy: 0.9382 - auc: 0.9103 - f1_score: 0.4501 - loss: 0.0325 - precision: 0.6964 - recall: 0.3708   "
     ]
    },
    {
     "name": "stderr",
     "output_type": "stream",
     "text": [
      "2025-06-21 18:39:13 - INFO - \n",
      "=== Epoch 55 Summary ===\n",
      "2025-06-21 18:39:13 - INFO - Time: 247.43s\n",
      "2025-06-21 18:39:13 - INFO - Training   - accuracy: 0.9384 - auc: 0.9109 - f1_score: 0.4509 - loss: 0.0324 - precision: 0.6946 - recall: 0.3724 - learning_rate: 0.0000\n",
      "2025-06-21 18:39:13 - INFO - Validation - accuracy: 0.9356 - auc: 0.7611 - f1_score: 0.2122 - loss: 0.0611 - precision: 0.3404 - recall: 0.1746\n",
      "2025-06-21 18:39:13 - INFO - ==================================================\n",
      "\n"
     ]
    },
    {
     "name": "stdout",
     "output_type": "stream",
     "text": [
      "\u001b[1m813/813\u001b[0m \u001b[32m━━━━━━━━━━━━━━━━━━━━\u001b[0m\u001b[37m\u001b[0m \u001b[1m247s\u001b[0m 304ms/step - accuracy: 0.9382 - auc: 0.9103 - f1_score: 0.4501 - loss: 0.0325 - precision: 0.6964 - recall: 0.3708 - val_accuracy: 0.9356 - val_auc: 0.7611 - val_f1_score: 0.2122 - val_loss: 0.0611 - val_precision: 0.3404 - val_recall: 0.1746 - learning_rate: 1.0000e-06\n"
     ]
    },
    {
     "name": "stderr",
     "output_type": "stream",
     "text": [
      "2025-06-21 18:39:13 - INFO - \n",
      "=== Starting Epoch 56 ===\n",
      "\n"
     ]
    },
    {
     "name": "stdout",
     "output_type": "stream",
     "text": [
      "Epoch 56/100\n",
      "\u001b[1m813/813\u001b[0m \u001b[32m━━━━━━━━━━━━━━━━━━━━\u001b[0m\u001b[37m\u001b[0m \u001b[1m0s\u001b[0m 358ms/step - accuracy: 0.9383 - auc: 0.9127 - f1_score: 0.4531 - loss: 0.0322 - precision: 0.6956 - recall: 0.3739   "
     ]
    },
    {
     "name": "stderr",
     "output_type": "stream",
     "text": [
      "2025-06-21 18:44:14 - INFO - \n",
      "=== Epoch 56 Summary ===\n",
      "2025-06-21 18:44:14 - INFO - Time: 300.99s\n",
      "2025-06-21 18:44:14 - INFO - Training   - accuracy: 0.9384 - auc: 0.9122 - f1_score: 0.4526 - loss: 0.0322 - precision: 0.6943 - recall: 0.3737 - learning_rate: 0.0000\n",
      "2025-06-21 18:44:14 - INFO - Validation - accuracy: 0.9352 - auc: 0.7618 - f1_score: 0.2167 - loss: 0.0611 - precision: 0.3404 - recall: 0.1817\n",
      "2025-06-21 18:44:14 - INFO - ==================================================\n",
      "\n"
     ]
    },
    {
     "name": "stdout",
     "output_type": "stream",
     "text": [
      "\u001b[1m813/813\u001b[0m \u001b[32m━━━━━━━━━━━━━━━━━━━━\u001b[0m\u001b[37m\u001b[0m \u001b[1m301s\u001b[0m 370ms/step - accuracy: 0.9383 - auc: 0.9127 - f1_score: 0.4531 - loss: 0.0322 - precision: 0.6956 - recall: 0.3739 - val_accuracy: 0.9352 - val_auc: 0.7618 - val_f1_score: 0.2167 - val_loss: 0.0611 - val_precision: 0.3404 - val_recall: 0.1817 - learning_rate: 1.0000e-06\n"
     ]
    },
    {
     "name": "stderr",
     "output_type": "stream",
     "text": [
      "2025-06-21 18:44:14 - INFO - \n",
      "=== Starting Epoch 57 ===\n",
      "\n"
     ]
    },
    {
     "name": "stdout",
     "output_type": "stream",
     "text": [
      "Epoch 57/100\n",
      "\u001b[1m813/813\u001b[0m \u001b[32m━━━━━━━━━━━━━━━━━━━━\u001b[0m\u001b[37m\u001b[0m \u001b[1m0s\u001b[0m 230ms/step - accuracy: 0.9383 - auc: 0.9126 - f1_score: 0.4543 - loss: 0.0321 - precision: 0.6938 - recall: 0.3754  "
     ]
    },
    {
     "name": "stderr",
     "output_type": "stream",
     "text": [
      "2025-06-21 18:47:30 - INFO - \n",
      "=== Epoch 57 Summary ===\n",
      "2025-06-21 18:47:30 - INFO - Time: 196.72s\n",
      "2025-06-21 18:47:30 - INFO - Training   - accuracy: 0.9385 - auc: 0.9124 - f1_score: 0.4543 - loss: 0.0321 - precision: 0.6948 - recall: 0.3753 - learning_rate: 0.0000\n",
      "2025-06-21 18:47:30 - INFO - Validation - accuracy: 0.9345 - auc: 0.7590 - f1_score: 0.2085 - loss: 0.0621 - precision: 0.3276 - recall: 0.1733\n",
      "2025-06-21 18:47:30 - INFO - ==================================================\n",
      "\n"
     ]
    },
    {
     "name": "stdout",
     "output_type": "stream",
     "text": [
      "\u001b[1m813/813\u001b[0m \u001b[32m━━━━━━━━━━━━━━━━━━━━\u001b[0m\u001b[37m\u001b[0m \u001b[1m197s\u001b[0m 242ms/step - accuracy: 0.9383 - auc: 0.9126 - f1_score: 0.4543 - loss: 0.0321 - precision: 0.6938 - recall: 0.3754 - val_accuracy: 0.9345 - val_auc: 0.7590 - val_f1_score: 0.2085 - val_loss: 0.0621 - val_precision: 0.3276 - val_recall: 0.1733 - learning_rate: 1.0000e-06\n"
     ]
    },
    {
     "name": "stderr",
     "output_type": "stream",
     "text": [
      "2025-06-21 18:47:30 - INFO - \n",
      "=== Starting Epoch 58 ===\n",
      "\n"
     ]
    },
    {
     "name": "stdout",
     "output_type": "stream",
     "text": [
      "Epoch 58/100\n",
      "\u001b[1m813/813\u001b[0m \u001b[32m━━━━━━━━━━━━━━━━━━━━\u001b[0m\u001b[37m\u001b[0m \u001b[1m0s\u001b[0m 229ms/step - accuracy: 0.9387 - auc: 0.9132 - f1_score: 0.4570 - loss: 0.0322 - precision: 0.6958 - recall: 0.3783  "
     ]
    },
    {
     "name": "stderr",
     "output_type": "stream",
     "text": [
      "2025-06-21 18:50:47 - INFO - \n",
      "=== Epoch 58 Summary ===\n",
      "2025-06-21 18:50:47 - INFO - Time: 196.25s\n",
      "2025-06-21 18:50:47 - INFO - Training   - accuracy: 0.9388 - auc: 0.9135 - f1_score: 0.4574 - loss: 0.0320 - precision: 0.6952 - recall: 0.3785 - learning_rate: 0.0000\n",
      "2025-06-21 18:50:47 - INFO - Validation - accuracy: 0.9359 - auc: 0.7591 - f1_score: 0.2108 - loss: 0.0611 - precision: 0.3439 - recall: 0.1736\n",
      "2025-06-21 18:50:47 - INFO - ==================================================\n",
      "\n"
     ]
    },
    {
     "name": "stdout",
     "output_type": "stream",
     "text": [
      "\u001b[1m813/813\u001b[0m \u001b[32m━━━━━━━━━━━━━━━━━━━━\u001b[0m\u001b[37m\u001b[0m \u001b[1m196s\u001b[0m 241ms/step - accuracy: 0.9387 - auc: 0.9132 - f1_score: 0.4570 - loss: 0.0322 - precision: 0.6958 - recall: 0.3783 - val_accuracy: 0.9359 - val_auc: 0.7591 - val_f1_score: 0.2108 - val_loss: 0.0611 - val_precision: 0.3439 - val_recall: 0.1736 - learning_rate: 1.0000e-06\n"
     ]
    },
    {
     "name": "stderr",
     "output_type": "stream",
     "text": [
      "2025-06-21 18:50:47 - INFO - \n",
      "=== Starting Epoch 59 ===\n",
      "\n"
     ]
    },
    {
     "name": "stdout",
     "output_type": "stream",
     "text": [
      "Epoch 59/100\n",
      "\u001b[1m813/813\u001b[0m \u001b[32m━━━━━━━━━━━━━━━━━━━━\u001b[0m\u001b[37m\u001b[0m \u001b[1m0s\u001b[0m 229ms/step - accuracy: 0.9392 - auc: 0.9141 - f1_score: 0.4634 - loss: 0.0320 - precision: 0.7007 - recall: 0.3832  "
     ]
    },
    {
     "name": "stderr",
     "output_type": "stream",
     "text": [
      "2025-06-21 18:54:03 - INFO - \n",
      "=== Epoch 59 Summary ===\n",
      "2025-06-21 18:54:03 - INFO - Time: 195.98s\n",
      "2025-06-21 18:54:03 - INFO - Training   - accuracy: 0.9389 - auc: 0.9142 - f1_score: 0.4603 - loss: 0.0319 - precision: 0.6964 - recall: 0.3812 - learning_rate: 0.0000\n",
      "2025-06-21 18:54:03 - INFO - Validation - accuracy: 0.9351 - auc: 0.7590 - f1_score: 0.2146 - loss: 0.0615 - precision: 0.3373 - recall: 0.1781\n",
      "2025-06-21 18:54:03 - INFO - ==================================================\n",
      "\n"
     ]
    },
    {
     "name": "stdout",
     "output_type": "stream",
     "text": [
      "\u001b[1m813/813\u001b[0m \u001b[32m━━━━━━━━━━━━━━━━━━━━\u001b[0m\u001b[37m\u001b[0m \u001b[1m196s\u001b[0m 241ms/step - accuracy: 0.9392 - auc: 0.9141 - f1_score: 0.4634 - loss: 0.0320 - precision: 0.7007 - recall: 0.3832 - val_accuracy: 0.9351 - val_auc: 0.7590 - val_f1_score: 0.2146 - val_loss: 0.0615 - val_precision: 0.3373 - val_recall: 0.1781 - learning_rate: 1.0000e-06\n"
     ]
    },
    {
     "name": "stderr",
     "output_type": "stream",
     "text": [
      "2025-06-21 18:54:03 - INFO - \n",
      "=== Starting Epoch 60 ===\n",
      "\n"
     ]
    },
    {
     "name": "stdout",
     "output_type": "stream",
     "text": [
      "Epoch 60/100\n",
      "\u001b[1m813/813\u001b[0m \u001b[32m━━━━━━━━━━━━━━━━━━━━\u001b[0m\u001b[37m\u001b[0m \u001b[1m0s\u001b[0m 290ms/step - accuracy: 0.9392 - auc: 0.9155 - f1_score: 0.4623 - loss: 0.0317 - precision: 0.7018 - recall: 0.3822   "
     ]
    },
    {
     "name": "stderr",
     "output_type": "stream",
     "text": [
      "2025-06-21 18:58:08 - INFO - \n",
      "=== Epoch 60 Summary ===\n",
      "2025-06-21 18:58:08 - INFO - Time: 245.63s\n",
      "2025-06-21 18:58:08 - INFO - Training   - accuracy: 0.9391 - auc: 0.9151 - f1_score: 0.4615 - loss: 0.0318 - precision: 0.6988 - recall: 0.3822 - learning_rate: 0.0000\n",
      "2025-06-21 18:58:08 - INFO - Validation - accuracy: 0.9339 - auc: 0.7585 - f1_score: 0.2160 - loss: 0.0624 - precision: 0.3266 - recall: 0.1825\n",
      "2025-06-21 18:58:08 - INFO - ==================================================\n",
      "\n"
     ]
    },
    {
     "name": "stdout",
     "output_type": "stream",
     "text": [
      "\u001b[1m813/813\u001b[0m \u001b[32m━━━━━━━━━━━━━━━━━━━━\u001b[0m\u001b[37m\u001b[0m \u001b[1m246s\u001b[0m 302ms/step - accuracy: 0.9392 - auc: 0.9155 - f1_score: 0.4623 - loss: 0.0317 - precision: 0.7018 - recall: 0.3822 - val_accuracy: 0.9339 - val_auc: 0.7585 - val_f1_score: 0.2160 - val_loss: 0.0624 - val_precision: 0.3266 - val_recall: 0.1825 - learning_rate: 1.0000e-06\n"
     ]
    },
    {
     "name": "stderr",
     "output_type": "stream",
     "text": [
      "2025-06-21 18:58:08 - INFO - \n",
      "=== Starting Epoch 61 ===\n",
      "\n"
     ]
    },
    {
     "name": "stdout",
     "output_type": "stream",
     "text": [
      "Epoch 61/100\n",
      "\u001b[1m813/813\u001b[0m \u001b[32m━━━━━━━━━━━━━━━━━━━━\u001b[0m\u001b[37m\u001b[0m \u001b[1m0s\u001b[0m 353ms/step - accuracy: 0.9393 - auc: 0.9149 - f1_score: 0.4630 - loss: 0.0318 - precision: 0.6999 - recall: 0.3837   "
     ]
    },
    {
     "name": "stderr",
     "output_type": "stream",
     "text": [
      "2025-06-21 19:03:05 - INFO - \n",
      "=== Epoch 61 Summary ===\n",
      "2025-06-21 19:03:05 - INFO - Time: 296.41s\n",
      "2025-06-21 19:03:05 - INFO - Training   - accuracy: 0.9394 - auc: 0.9150 - f1_score: 0.4637 - loss: 0.0317 - precision: 0.7014 - recall: 0.3837 - learning_rate: 0.0000\n",
      "2025-06-21 19:03:05 - INFO - Validation - accuracy: 0.9342 - auc: 0.7589 - f1_score: 0.2114 - loss: 0.0624 - precision: 0.3281 - recall: 0.1791\n",
      "2025-06-21 19:03:05 - INFO - ==================================================\n",
      "\n"
     ]
    },
    {
     "name": "stdout",
     "output_type": "stream",
     "text": [
      "\u001b[1m813/813\u001b[0m \u001b[32m━━━━━━━━━━━━━━━━━━━━\u001b[0m\u001b[37m\u001b[0m \u001b[1m296s\u001b[0m 365ms/step - accuracy: 0.9393 - auc: 0.9149 - f1_score: 0.4630 - loss: 0.0318 - precision: 0.6999 - recall: 0.3837 - val_accuracy: 0.9342 - val_auc: 0.7589 - val_f1_score: 0.2114 - val_loss: 0.0624 - val_precision: 0.3281 - val_recall: 0.1791 - learning_rate: 1.0000e-06\n"
     ]
    },
    {
     "name": "stderr",
     "output_type": "stream",
     "text": [
      "2025-06-21 19:03:05 - INFO - \n",
      "=== Training Completed! ===\n",
      "\n",
      "2025-06-21 19:03:05 - INFO - Final Metrics: accuracy: 0.9394 - auc: 0.9150 - f1_score: 0.4637 - loss: 0.0317 - precision: 0.7014 - recall: 0.3837 - val_accuracy: 0.9342 - val_auc: 0.7589 - val_f1_score: 0.2114 - val_loss: 0.0624 - val_precision: 0.3281 - val_recall: 0.1791\n",
      "\n"
     ]
    },
    {
     "name": "stdout",
     "output_type": "stream",
     "text": [
      "Epoch 61: early stopping\n",
      "Restoring model weights from the end of the best epoch: 46.\n"
     ]
    }
   ],
   "source": [
    "# Model Training\n",
    "model          = build_densenet121(num_classes, use_se=True, layer_attention=False, ratio=8, channel_blocks=[1, 2, 3])\n",
    "optimizer      = Adam(learning_rate=1e-4)\n",
    "compile_kwargs = {'optimizer': optimizer, 'loss': loss, 'metrics': metrics}\n",
    "\n",
    "history, model = start_or_resume_training(\n",
    "    model, \n",
    "    compile_kwargs, \n",
    "    train_ds, \n",
    "    val_ds, \n",
    "    TF_MAX_EPOCHS,\n",
    "    steps_per_epoch, \n",
    "    validation_steps, \n",
    "    class_weights=class_weights,\n",
    "    callbacks=[checkpoint, best_checkpoint, reduce_lr, training_logger, metrics_monitor, early_stopping], \n",
    "    checkpoint_path=checkpoint_path,\n",
    "    initial_epoch=initial_epoch,\n",
    "    output_dir=MODELS_PATH,\n",
    "    model_name=model_name,\n",
    "    logger=logger\n",
    ")"
   ]
  },
  {
   "cell_type": "code",
   "execution_count": null,
   "id": "048b711f-28f1-433d-ac5b-b8729218ef96",
   "metadata": {},
   "outputs": [],
   "source": []
  }
 ],
 "metadata": {
  "kernelspec": {
   "display_name": "Python 3 (ipykernel)",
   "language": "python",
   "name": "python3"
  },
  "language_info": {
   "codemirror_mode": {
    "name": "ipython",
    "version": 3
   },
   "file_extension": ".py",
   "mimetype": "text/x-python",
   "name": "python",
   "nbconvert_exporter": "python",
   "pygments_lexer": "ipython3",
   "version": "3.10.16"
  }
 },
 "nbformat": 4,
 "nbformat_minor": 5
}
