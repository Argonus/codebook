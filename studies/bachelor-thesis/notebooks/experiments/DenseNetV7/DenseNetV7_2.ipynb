{
 "cells": [
  {
   "cell_type": "code",
   "execution_count": 1,
   "id": "b694919a-9b18-4068-8e69-7258de889dff",
   "metadata": {},
   "outputs": [
    {
     "name": "stderr",
     "output_type": "stream",
     "text": [
      "2025-06-22 00:57:21.585289: E external/local_xla/xla/stream_executor/cuda/cuda_fft.cc:467] Unable to register cuFFT factory: Attempting to register factory for plugin cuFFT when one has already been registered\n",
      "WARNING: All log messages before absl::InitializeLog() is called are written to STDERR\n",
      "E0000 00:00:1750546641.593693    9308 cuda_dnn.cc:8579] Unable to register cuDNN factory: Attempting to register factory for plugin cuDNN when one has already been registered\n",
      "E0000 00:00:1750546641.596196    9308 cuda_blas.cc:1407] Unable to register cuBLAS factory: Attempting to register factory for plugin cuBLAS when one has already been registered\n",
      "W0000 00:00:1750546641.602529    9308 computation_placer.cc:177] computation placer already registered. Please check linkage and avoid linking the same target more than once.\n",
      "W0000 00:00:1750546641.602548    9308 computation_placer.cc:177] computation placer already registered. Please check linkage and avoid linking the same target more than once.\n",
      "W0000 00:00:1750546641.602549    9308 computation_placer.cc:177] computation placer already registered. Please check linkage and avoid linking the same target more than once.\n",
      "W0000 00:00:1750546641.602579    9308 computation_placer.cc:177] computation placer already registered. Please check linkage and avoid linking the same target more than once.\n"
     ]
    },
    {
     "name": "stdout",
     "output_type": "stream",
     "text": [
      "\n",
      "GPU configuration successful!\n",
      "Device: /physical_device:GPU:0\n",
      "Memory limit: 18.0 GB\n",
      "\n",
      "TensorFlow optimizations status:\n",
      "- CPU Threads: 16 intra-op, 9 inter-op (32 cores total)\n",
      "- XLA JIT: enabled (autoclustering)\n",
      "- Synchronous Execution: enabled\n",
      "\n",
      "GPU Device Details:\n",
      "- Device: GPU /physical_device:GPU:0\n",
      "- Memory limit: 18.0 GB\n"
     ]
    },
    {
     "name": "stderr",
     "output_type": "stream",
     "text": [
      "I0000 00:00:1750546643.404924    9308 gpu_process_state.cc:208] Using CUDA malloc Async allocator for GPU: 0\n",
      "I0000 00:00:1750546643.405084    9308 gpu_device.cc:2019] Created device /job:localhost/replica:0/task:0/device:GPU:0 with 19327352832 MB memory:  -> device: 0, name: NVIDIA GeForce RTX 3090 Ti, pci bus id: 0000:01:00.0, compute capability: 8.6\n"
     ]
    }
   ],
   "source": [
    "# Import dependencies\n",
    "import os\n",
    "16\n",
    "os.environ['TF_CPP_MIN_VLOG_LEVEL'] = '0'\n",
    "os.environ['TF_CPP_MIN_LOG_LEVEL'] = '2'\n",
    "os.environ['TF_GPU_ALLOCATOR'] = 'cuda_malloc_async'\n",
    "os.environ['TF_FORCE_GPU_ALLOW_GROWTH'] = 'true'\n",
    "\n",
    "from src.utils.gpu_config import configure_gpu, optimize_tensorflow\n",
    "\n",
    "configure_gpu()\n",
    "optimize_tensorflow()"
   ]
  },
  {
   "cell_type": "code",
   "execution_count": 2,
   "id": "2b854daf-5f2a-4c33-9180-5081cd415b16",
   "metadata": {},
   "outputs": [],
   "source": [
    "# Import Tensorflow Keras\n",
    "from tensorflow.keras.optimizers import Adam\n",
    "from tensorflow.keras.losses import BinaryFocalCrossentropy\n",
    "from tensorflow.keras.callbacks import ReduceLROnPlateau, ModelCheckpoint\n",
    "\n",
    "# Import local modules\n",
    "from src.utils.consts import TF_RECORD_DATASET, MODELS_PATH, TF_BUFFER_SIZE, TF_SHUFFLE_SIZE, TF_BATCH_SIZE, TF_MAX_EPOCHS\n",
    "from src.model.tensorflow_utils import load_dataset, optimize_dataset, count_dataset_size, get_num_classes, get_metrics\n",
    "from src.model.tensorflow_utils import setup_logger, setup_training_logger, setup_metrics_monitor, setup_early_stopping, filter_no_finding_class\n",
    "from src.model.tensorflow_utils import start_or_resume_training, apply_augmentation_to_dataset, calculate_class_weights, oversample_minority_classes\n",
    "from src.model.densnet.tensorflow_dense_net_121 import build_densenet121\n",
    "\n",
    "# Input Data\n",
    "initial_epoch   = None\n",
    "resume_training = False\n",
    "checkpoint_path = None\n",
    "set_name        = \"DenseNetV7\"\n",
    "model_name      = f\"{set_name}_2\"\n",
    "num_classes     = get_num_classes()\n",
    "\n",
    "train_ds = load_dataset(f\"{TF_RECORD_DATASET}/train.tfrecord\", TF_BUFFER_SIZE)\n",
    "val_ds   = load_dataset(f\"{TF_RECORD_DATASET}/val.tfrecord\", TF_BUFFER_SIZE)\n",
    "\n",
    "train_ds = filter_no_finding_class(train_ds)\n",
    "val_ds   = filter_no_finding_class(val_ds)\n",
    "\n",
    "class_weights = calculate_class_weights(train_ds, num_classes)\n",
    "train_ds      = oversample_minority_classes(train_ds, class_weights)\n",
    "class_weights = calculate_class_weights(train_ds, num_classes)"
   ]
  },
  {
   "cell_type": "code",
   "execution_count": 3,
   "id": "5f152b8a-8ff8-4095-9815-e304ce2beb52",
   "metadata": {},
   "outputs": [
    {
     "name": "stderr",
     "output_type": "stream",
     "text": [
      "Counting samples: 104166 samples [00:43, 2382.82 samples/s] \n",
      "Counting samples: 15431 samples [00:09, 1685.20 samples/s]\n"
     ]
    }
   ],
   "source": [
    "steps_per_epoch  = int(count_dataset_size(train_ds, None) / TF_BATCH_SIZE)\n",
    "validation_steps = int(count_dataset_size(val_ds, None) / TF_BATCH_SIZE)\n",
    "\n",
    "train_ds = train_ds.shuffle(TF_SHUFFLE_SIZE, reshuffle_each_iteration=True)\n",
    "train_ds = apply_augmentation_to_dataset(train_ds, {})\n",
    "train_ds = optimize_dataset(train_ds, TF_BATCH_SIZE)\n",
    "\n",
    "val_ds   = optimize_dataset(val_ds, TF_BATCH_SIZE)"
   ]
  },
  {
   "cell_type": "code",
   "execution_count": 4,
   "id": "3a0e37c9-b178-40d8-bd25-8c0a6498564a",
   "metadata": {},
   "outputs": [],
   "source": [
    "# Setup Model Deps\n",
    "logger            = setup_logger()\n",
    "training_logger   = setup_training_logger(logger, TF_BATCH_SIZE, 100)\n",
    "metrics_monitor   = setup_metrics_monitor(MODELS_PATH, model_name, logger, resume_training=resume_training, initial_epoch=initial_epoch)\n",
    "metrics           = get_metrics()\n",
    "\n",
    "# Setup compile arguments\n",
    "loss           = BinaryFocalCrossentropy(gamma=2.0, from_logits=False, label_smoothing=0.05)\n",
    "reduce_lr      = ReduceLROnPlateau(monitor=\"val_f1_score\", factor=0.5,  patience=3, min_lr=1e-6, mode=\"max\", verbose=1)\n",
    "early_stopping = setup_early_stopping()\n",
    "\n",
    "epoch_mode           = 'cp-{epoch:04d}'\n",
    "save_checkpoint_path = f\"{MODELS_PATH}/{model_name}/checkpoints/{epoch_mode}.keras\"\n",
    "checkpoint           = ModelCheckpoint(save_checkpoint_path, monitor=\"val_f1_score\", save_best_only=False, mode=\"max\", save_weights_only=False)\n",
    "\n",
    "model_path      = f\"{MODELS_PATH}/{model_name}.keras\"\n",
    "best_checkpoint = ModelCheckpoint(model_path, monitor=\"val_f1_score\", save_best_only=True, mode=\"max\", save_weights_only=False)"
   ]
  },
  {
   "cell_type": "code",
   "execution_count": 5,
   "id": "c44d4a9a-ffbb-4917-a702-c35773b9857c",
   "metadata": {},
   "outputs": [
    {
     "name": "stderr",
     "output_type": "stream",
     "text": [
      "2025-06-22 00:59:43 - INFO - \n",
      "=== Training Started ===\n",
      "\n",
      "2025-06-22 00:59:43 - INFO - Batch Size: 128\n",
      "2025-06-22 00:59:43 - INFO - Optimizer: Adam\n",
      "2025-06-22 00:59:43 - INFO - \n",
      "==================================================\n",
      "\n",
      "2025-06-22 00:59:43 - INFO - \n",
      "=== Starting Epoch 1 ===\n",
      "\n"
     ]
    },
    {
     "name": "stdout",
     "output_type": "stream",
     "text": [
      "Epoch 1/100\n"
     ]
    },
    {
     "name": "stderr",
     "output_type": "stream",
     "text": [
      "WARNING: All log messages before absl::InitializeLog() is called are written to STDERR\n",
      "I0000 00:00:1750546795.288814    9369 service.cc:152] XLA service 0x752910004d20 initialized for platform CUDA (this does not guarantee that XLA will be used). Devices:\n",
      "I0000 00:00:1750546795.288831    9369 service.cc:160]   StreamExecutor device (0): NVIDIA GeForce RTX 3090 Ti, Compute Capability 8.6\n",
      "I0000 00:00:1750546795.291879    9369 cuda_dnn.cc:529] Loaded cuDNN version 90300\n",
      "I0000 00:00:1750546795.337560    9369 device_compiler.h:188] Compiled cluster using XLA!  This line is logged at most once for the lifetime of the process.\n"
     ]
    },
    {
     "name": "stdout",
     "output_type": "stream",
     "text": [
      "\u001b[1m813/813\u001b[0m \u001b[32m━━━━━━━━━━━━━━━━━━━━\u001b[0m\u001b[37m\u001b[0m \u001b[1m0s\u001b[0m 269ms/step - accuracy: 0.9141 - auc: 0.5732 - f1_score: 0.0254 - loss: 1.7159 - precision: 0.1571 - recall: 0.0156  "
     ]
    },
    {
     "name": "stderr",
     "output_type": "stream",
     "text": [
      "2025-06-22 01:05:43 - INFO - \n",
      "=== Epoch 1 Summary ===\n",
      "2025-06-22 01:05:43 - INFO - Time: 359.83s\n",
      "2025-06-22 01:05:43 - INFO - Training   - accuracy: 0.9197 - auc: 0.5964 - f1_score: 0.0223 - loss: 1.3747 - precision: 0.2145 - recall: 0.0122 - learning_rate: 0.0001\n",
      "2025-06-22 01:05:43 - INFO - Validation - accuracy: 0.9446 - auc: 0.6510 - f1_score: 0.0000 - loss: 0.8207 - precision: 0.0000 - recall: 0.0000\n",
      "2025-06-22 01:05:43 - INFO - ==================================================\n",
      "\n"
     ]
    },
    {
     "name": "stdout",
     "output_type": "stream",
     "text": [
      "\u001b[1m813/813\u001b[0m \u001b[32m━━━━━━━━━━━━━━━━━━━━\u001b[0m\u001b[37m\u001b[0m \u001b[1m360s\u001b[0m 303ms/step - accuracy: 0.9141 - auc: 0.5732 - f1_score: 0.0254 - loss: 1.7154 - precision: 0.1572 - recall: 0.0156 - val_accuracy: 0.9446 - val_auc: 0.6510 - val_f1_score: 0.0000e+00 - val_loss: 0.8207 - val_precision: 0.0000e+00 - val_recall: 0.0000e+00 - learning_rate: 1.0000e-04\n"
     ]
    },
    {
     "name": "stderr",
     "output_type": "stream",
     "text": [
      "2025-06-22 01:05:43 - INFO - \n",
      "=== Starting Epoch 2 ===\n",
      "\n"
     ]
    },
    {
     "name": "stdout",
     "output_type": "stream",
     "text": [
      "Epoch 2/100\n",
      "\u001b[1m813/813\u001b[0m \u001b[32m━━━━━━━━━━━━━━━━━━━━\u001b[0m\u001b[37m\u001b[0m \u001b[1m0s\u001b[0m 264ms/step - accuracy: 0.9207 - auc: 0.6396 - f1_score: 0.0213 - loss: 0.6663 - precision: 0.3224 - recall: 0.0117  "
     ]
    },
    {
     "name": "stderr",
     "output_type": "stream",
     "text": [
      "2025-06-22 01:10:48 - INFO - \n",
      "=== Epoch 2 Summary ===\n",
      "2025-06-22 01:10:48 - INFO - Time: 304.44s\n",
      "2025-06-22 01:10:48 - INFO - Training   - accuracy: 0.9211 - auc: 0.6511 - f1_score: 0.0239 - loss: 0.5414 - precision: 0.3330 - recall: 0.0132 - learning_rate: 0.0001\n",
      "2025-06-22 01:10:48 - INFO - Validation - accuracy: 0.9443 - auc: 0.6581 - f1_score: 0.0052 - loss: 0.3479 - precision: 0.2571 - recall: 0.0030\n",
      "2025-06-22 01:10:48 - INFO - ==================================================\n",
      "\n"
     ]
    },
    {
     "name": "stdout",
     "output_type": "stream",
     "text": [
      "\u001b[1m813/813\u001b[0m \u001b[32m━━━━━━━━━━━━━━━━━━━━\u001b[0m\u001b[37m\u001b[0m \u001b[1m305s\u001b[0m 287ms/step - accuracy: 0.9207 - auc: 0.6397 - f1_score: 0.0213 - loss: 0.6662 - precision: 0.3224 - recall: 0.0117 - val_accuracy: 0.9443 - val_auc: 0.6581 - val_f1_score: 0.0052 - val_loss: 0.3479 - val_precision: 0.2571 - val_recall: 0.0030 - learning_rate: 1.0000e-04\n"
     ]
    },
    {
     "name": "stderr",
     "output_type": "stream",
     "text": [
      "2025-06-22 01:10:48 - INFO - \n",
      "=== Starting Epoch 3 ===\n",
      "\n"
     ]
    },
    {
     "name": "stdout",
     "output_type": "stream",
     "text": [
      "Epoch 3/100\n",
      "\u001b[1m813/813\u001b[0m \u001b[32m━━━━━━━━━━━━━━━━━━━━\u001b[0m\u001b[37m\u001b[0m \u001b[1m0s\u001b[0m 267ms/step - accuracy: 0.9211 - auc: 0.6733 - f1_score: 0.0338 - loss: 0.2893 - precision: 0.3869 - recall: 0.0191  "
     ]
    },
    {
     "name": "stderr",
     "output_type": "stream",
     "text": [
      "2025-06-22 01:14:41 - INFO - \n",
      "=== Epoch 3 Summary ===\n",
      "2025-06-22 01:14:41 - INFO - Time: 233.43s\n",
      "2025-06-22 01:14:41 - INFO - Training   - accuracy: 0.9212 - auc: 0.6797 - f1_score: 0.0388 - loss: 0.2459 - precision: 0.3927 - recall: 0.0225 - learning_rate: 0.0001\n",
      "2025-06-22 01:14:41 - INFO - Validation - accuracy: 0.9446 - auc: 0.6860 - f1_score: 0.0012 - loss: 0.1767 - precision: 0.8750 - recall: 0.0006\n",
      "2025-06-22 01:14:41 - INFO - ==================================================\n",
      "\n"
     ]
    },
    {
     "name": "stdout",
     "output_type": "stream",
     "text": [
      "\u001b[1m813/813\u001b[0m \u001b[32m━━━━━━━━━━━━━━━━━━━━\u001b[0m\u001b[37m\u001b[0m \u001b[1m233s\u001b[0m 287ms/step - accuracy: 0.9211 - auc: 0.6733 - f1_score: 0.0338 - loss: 0.2892 - precision: 0.3869 - recall: 0.0191 - val_accuracy: 0.9446 - val_auc: 0.6860 - val_f1_score: 0.0012 - val_loss: 0.1767 - val_precision: 0.8750 - val_recall: 5.8774e-04 - learning_rate: 1.0000e-04\n"
     ]
    },
    {
     "name": "stderr",
     "output_type": "stream",
     "text": [
      "2025-06-22 01:14:41 - INFO - \n",
      "=== Starting Epoch 4 ===\n",
      "\n"
     ]
    },
    {
     "name": "stdout",
     "output_type": "stream",
     "text": [
      "Epoch 4/100\n",
      "\u001b[1m813/813\u001b[0m \u001b[32m━━━━━━━━━━━━━━━━━━━━\u001b[0m\u001b[37m\u001b[0m \u001b[1m0s\u001b[0m 270ms/step - accuracy: 0.9210 - auc: 0.6873 - f1_score: 0.0414 - loss: 0.1571 - precision: 0.4095 - recall: 0.0247  "
     ]
    },
    {
     "name": "stderr",
     "output_type": "stream",
     "text": [
      "2025-06-22 01:18:40 - INFO - \n",
      "=== Epoch 4 Summary ===\n",
      "2025-06-22 01:18:40 - INFO - Time: 238.58s\n",
      "2025-06-22 01:18:40 - INFO - Training   - accuracy: 0.9214 - auc: 0.6946 - f1_score: 0.0458 - loss: 0.1408 - precision: 0.4220 - recall: 0.0279 - learning_rate: 0.0001\n",
      "2025-06-22 01:18:40 - INFO - Validation - accuracy: 0.9445 - auc: 0.6845 - f1_score: 0.0006 - loss: 0.1153 - precision: 0.1818 - recall: 0.0003\n",
      "2025-06-22 01:18:40 - INFO - ==================================================\n",
      "\n"
     ]
    },
    {
     "name": "stdout",
     "output_type": "stream",
     "text": [
      "\u001b[1m813/813\u001b[0m \u001b[32m━━━━━━━━━━━━━━━━━━━━\u001b[0m\u001b[37m\u001b[0m \u001b[1m239s\u001b[0m 294ms/step - accuracy: 0.9210 - auc: 0.6873 - f1_score: 0.0414 - loss: 0.1571 - precision: 0.4095 - recall: 0.0247 - val_accuracy: 0.9445 - val_auc: 0.6845 - val_f1_score: 6.1483e-04 - val_loss: 0.1153 - val_precision: 0.1818 - val_recall: 3.3585e-04 - learning_rate: 1.0000e-04\n"
     ]
    },
    {
     "name": "stderr",
     "output_type": "stream",
     "text": [
      "2025-06-22 01:18:40 - INFO - \n",
      "=== Starting Epoch 5 ===\n",
      "\n"
     ]
    },
    {
     "name": "stdout",
     "output_type": "stream",
     "text": [
      "Epoch 5/100\n",
      "\u001b[1m813/813\u001b[0m \u001b[32m━━━━━━━━━━━━━━━━━━━━\u001b[0m\u001b[37m\u001b[0m \u001b[1m0s\u001b[0m 265ms/step - accuracy: 0.9213 - auc: 0.7002 - f1_score: 0.0462 - loss: 0.1073 - precision: 0.4357 - recall: 0.0287  "
     ]
    },
    {
     "name": "stderr",
     "output_type": "stream",
     "text": [
      "2025-06-22 01:22:29 - INFO - \n",
      "=== Epoch 5 Summary ===\n",
      "2025-06-22 01:22:29 - INFO - Time: 229.52s\n",
      "2025-06-22 01:22:29 - INFO - Training   - accuracy: 0.9216 - auc: 0.7052 - f1_score: 0.0501 - loss: 0.1005 - precision: 0.4480 - recall: 0.0317 - learning_rate: 0.0001\n",
      "2025-06-22 01:22:29 - INFO - Validation - accuracy: 0.9433 - auc: 0.6771 - f1_score: 0.0637 - loss: 0.0956 - precision: 0.4126 - recall: 0.0551\n",
      "2025-06-22 01:22:29 - INFO - ==================================================\n",
      "\n"
     ]
    },
    {
     "name": "stdout",
     "output_type": "stream",
     "text": [
      "\u001b[1m813/813\u001b[0m \u001b[32m━━━━━━━━━━━━━━━━━━━━\u001b[0m\u001b[37m\u001b[0m \u001b[1m230s\u001b[0m 282ms/step - accuracy: 0.9213 - auc: 0.7002 - f1_score: 0.0462 - loss: 0.1072 - precision: 0.4357 - recall: 0.0287 - val_accuracy: 0.9433 - val_auc: 0.6771 - val_f1_score: 0.0637 - val_loss: 0.0956 - val_precision: 0.4126 - val_recall: 0.0551 - learning_rate: 1.0000e-04\n"
     ]
    },
    {
     "name": "stderr",
     "output_type": "stream",
     "text": [
      "2025-06-22 01:22:30 - INFO - \n",
      "=== Starting Epoch 6 ===\n",
      "\n"
     ]
    },
    {
     "name": "stdout",
     "output_type": "stream",
     "text": [
      "Epoch 6/100\n",
      "\u001b[1m813/813\u001b[0m \u001b[32m━━━━━━━━━━━━━━━━━━━━\u001b[0m\u001b[37m\u001b[0m \u001b[1m0s\u001b[0m 277ms/step - accuracy: 0.9213 - auc: 0.7117 - f1_score: 0.0557 - loss: 0.0861 - precision: 0.4531 - recall: 0.0359  "
     ]
    },
    {
     "name": "stderr",
     "output_type": "stream",
     "text": [
      "2025-06-22 01:26:35 - INFO - \n",
      "=== Epoch 6 Summary ===\n",
      "2025-06-22 01:26:35 - INFO - Time: 245.06s\n",
      "2025-06-22 01:26:35 - INFO - Training   - accuracy: 0.9216 - auc: 0.7166 - f1_score: 0.0589 - loss: 0.0829 - precision: 0.4538 - recall: 0.0385 - learning_rate: 0.0001\n",
      "2025-06-22 01:26:35 - INFO - Validation - accuracy: 0.9438 - auc: 0.7108 - f1_score: 0.0201 - loss: 0.0777 - precision: 0.3142 - recall: 0.0124\n",
      "2025-06-22 01:26:35 - INFO - ==================================================\n",
      "\n"
     ]
    },
    {
     "name": "stdout",
     "output_type": "stream",
     "text": [
      "\u001b[1m813/813\u001b[0m \u001b[32m━━━━━━━━━━━━━━━━━━━━\u001b[0m\u001b[37m\u001b[0m \u001b[1m245s\u001b[0m 302ms/step - accuracy: 0.9213 - auc: 0.7117 - f1_score: 0.0557 - loss: 0.0861 - precision: 0.4531 - recall: 0.0359 - val_accuracy: 0.9438 - val_auc: 0.7108 - val_f1_score: 0.0201 - val_loss: 0.0777 - val_precision: 0.3142 - val_recall: 0.0124 - learning_rate: 1.0000e-04\n"
     ]
    },
    {
     "name": "stderr",
     "output_type": "stream",
     "text": [
      "2025-06-22 01:26:35 - INFO - \n",
      "=== Starting Epoch 7 ===\n",
      "\n"
     ]
    },
    {
     "name": "stdout",
     "output_type": "stream",
     "text": [
      "Epoch 7/100\n",
      "\u001b[1m813/813\u001b[0m \u001b[32m━━━━━━━━━━━━━━━━━━━━\u001b[0m\u001b[37m\u001b[0m \u001b[1m0s\u001b[0m 266ms/step - accuracy: 0.9216 - auc: 0.7198 - f1_score: 0.0625 - loss: 0.0761 - precision: 0.4698 - recall: 0.0411  "
     ]
    },
    {
     "name": "stderr",
     "output_type": "stream",
     "text": [
      "2025-06-22 01:30:28 - INFO - \n",
      "=== Epoch 7 Summary ===\n",
      "2025-06-22 01:30:28 - INFO - Time: 232.95s\n",
      "2025-06-22 01:30:28 - INFO - Training   - accuracy: 0.9219 - auc: 0.7244 - f1_score: 0.0671 - loss: 0.0743 - precision: 0.4765 - recall: 0.0447 - learning_rate: 0.0001\n",
      "2025-06-22 01:30:28 - INFO - Validation - accuracy: 0.9253 - auc: 0.6955 - f1_score: 0.0630 - loss: 0.0849 - precision: 0.1203 - recall: 0.0552\n",
      "2025-06-22 01:30:28 - INFO - ==================================================\n",
      "\n"
     ]
    },
    {
     "name": "stdout",
     "output_type": "stream",
     "text": [
      "\u001b[1m813/813\u001b[0m \u001b[32m━━━━━━━━━━━━━━━━━━━━\u001b[0m\u001b[37m\u001b[0m \u001b[1m233s\u001b[0m 287ms/step - accuracy: 0.9216 - auc: 0.7198 - f1_score: 0.0625 - loss: 0.0761 - precision: 0.4698 - recall: 0.0411 - val_accuracy: 0.9253 - val_auc: 0.6955 - val_f1_score: 0.0630 - val_loss: 0.0849 - val_precision: 0.1203 - val_recall: 0.0552 - learning_rate: 1.0000e-04\n"
     ]
    },
    {
     "name": "stderr",
     "output_type": "stream",
     "text": [
      "2025-06-22 01:30:28 - INFO - \n",
      "=== Starting Epoch 8 ===\n",
      "\n"
     ]
    },
    {
     "name": "stdout",
     "output_type": "stream",
     "text": [
      "Epoch 8/100\n",
      "\u001b[1m813/813\u001b[0m \u001b[32m━━━━━━━━━━━━━━━━━━━━\u001b[0m\u001b[37m\u001b[0m \u001b[1m0s\u001b[0m 267ms/step - accuracy: 0.9211 - auc: 0.7258 - f1_score: 0.0676 - loss: 0.0709 - precision: 0.4683 - recall: 0.0451  \n",
      "Epoch 8: ReduceLROnPlateau reducing learning rate to 4.999999873689376e-05.\n"
     ]
    },
    {
     "name": "stderr",
     "output_type": "stream",
     "text": [
      "2025-06-22 01:34:22 - INFO - \n",
      "=== Epoch 8 Summary ===\n",
      "2025-06-22 01:34:22 - INFO - Time: 234.12s\n",
      "2025-06-22 01:34:22 - INFO - Training   - accuracy: 0.9218 - auc: 0.7307 - f1_score: 0.0716 - loss: 0.0694 - precision: 0.4762 - recall: 0.0481 - learning_rate: 0.0001\n",
      "2025-06-22 01:34:22 - INFO - Validation - accuracy: 0.9354 - auc: 0.7061 - f1_score: 0.0425 - loss: 0.0744 - precision: 0.1561 - recall: 0.0378\n",
      "2025-06-22 01:34:22 - INFO - ==================================================\n",
      "\n"
     ]
    },
    {
     "name": "stdout",
     "output_type": "stream",
     "text": [
      "\u001b[1m813/813\u001b[0m \u001b[32m━━━━━━━━━━━━━━━━━━━━\u001b[0m\u001b[37m\u001b[0m \u001b[1m234s\u001b[0m 288ms/step - accuracy: 0.9211 - auc: 0.7258 - f1_score: 0.0676 - loss: 0.0709 - precision: 0.4683 - recall: 0.0451 - val_accuracy: 0.9354 - val_auc: 0.7061 - val_f1_score: 0.0425 - val_loss: 0.0744 - val_precision: 0.1561 - val_recall: 0.0378 - learning_rate: 1.0000e-04\n"
     ]
    },
    {
     "name": "stderr",
     "output_type": "stream",
     "text": [
      "2025-06-22 01:34:22 - INFO - \n",
      "=== Starting Epoch 9 ===\n",
      "\n"
     ]
    },
    {
     "name": "stdout",
     "output_type": "stream",
     "text": [
      "Epoch 9/100\n",
      "\u001b[1m813/813\u001b[0m \u001b[32m━━━━━━━━━━━━━━━━━━━━\u001b[0m\u001b[37m\u001b[0m \u001b[1m0s\u001b[0m 272ms/step - accuracy: 0.9215 - auc: 0.7466 - f1_score: 0.0872 - loss: 0.0667 - precision: 0.4940 - recall: 0.0607  "
     ]
    },
    {
     "name": "stderr",
     "output_type": "stream",
     "text": [
      "2025-06-22 01:38:24 - INFO - \n",
      "=== Epoch 9 Summary ===\n",
      "2025-06-22 01:38:24 - INFO - Time: 242.43s\n",
      "2025-06-22 01:38:24 - INFO - Training   - accuracy: 0.9223 - auc: 0.7541 - f1_score: 0.0956 - loss: 0.0650 - precision: 0.5062 - recall: 0.0667 - learning_rate: 0.0000\n",
      "2025-06-22 01:38:24 - INFO - Validation - accuracy: 0.9380 - auc: 0.7111 - f1_score: 0.1172 - loss: 0.0753 - precision: 0.3282 - recall: 0.1139\n",
      "2025-06-22 01:38:24 - INFO - ==================================================\n",
      "\n"
     ]
    },
    {
     "name": "stdout",
     "output_type": "stream",
     "text": [
      "\u001b[1m813/813\u001b[0m \u001b[32m━━━━━━━━━━━━━━━━━━━━\u001b[0m\u001b[37m\u001b[0m \u001b[1m243s\u001b[0m 298ms/step - accuracy: 0.9215 - auc: 0.7466 - f1_score: 0.0872 - loss: 0.0667 - precision: 0.4940 - recall: 0.0607 - val_accuracy: 0.9380 - val_auc: 0.7111 - val_f1_score: 0.1172 - val_loss: 0.0753 - val_precision: 0.3282 - val_recall: 0.1139 - learning_rate: 5.0000e-05\n"
     ]
    },
    {
     "name": "stderr",
     "output_type": "stream",
     "text": [
      "2025-06-22 01:38:24 - INFO - \n",
      "=== Starting Epoch 10 ===\n",
      "\n"
     ]
    },
    {
     "name": "stdout",
     "output_type": "stream",
     "text": [
      "Epoch 10/100\n",
      "\u001b[1m813/813\u001b[0m \u001b[32m━━━━━━━━━━━━━━━━━━━━\u001b[0m\u001b[37m\u001b[0m \u001b[1m0s\u001b[0m 263ms/step - accuracy: 0.9223 - auc: 0.7558 - f1_score: 0.1032 - loss: 0.0636 - precision: 0.5056 - recall: 0.0722  "
     ]
    },
    {
     "name": "stderr",
     "output_type": "stream",
     "text": [
      "2025-06-22 01:42:20 - INFO - \n",
      "=== Epoch 10 Summary ===\n",
      "2025-06-22 01:42:20 - INFO - Time: 235.44s\n",
      "2025-06-22 01:42:20 - INFO - Training   - accuracy: 0.9223 - auc: 0.7616 - f1_score: 0.1080 - loss: 0.0628 - precision: 0.5057 - recall: 0.0760 - learning_rate: 0.0000\n",
      "2025-06-22 01:42:20 - INFO - Validation - accuracy: 0.9364 - auc: 0.7374 - f1_score: 0.0952 - loss: 0.0702 - precision: 0.2680 - recall: 0.0861\n",
      "2025-06-22 01:42:20 - INFO - ==================================================\n",
      "\n"
     ]
    },
    {
     "name": "stdout",
     "output_type": "stream",
     "text": [
      "\u001b[1m813/813\u001b[0m \u001b[32m━━━━━━━━━━━━━━━━━━━━\u001b[0m\u001b[37m\u001b[0m \u001b[1m235s\u001b[0m 290ms/step - accuracy: 0.9223 - auc: 0.7558 - f1_score: 0.1032 - loss: 0.0636 - precision: 0.5056 - recall: 0.0722 - val_accuracy: 0.9364 - val_auc: 0.7374 - val_f1_score: 0.0952 - val_loss: 0.0702 - val_precision: 0.2680 - val_recall: 0.0861 - learning_rate: 5.0000e-05\n"
     ]
    },
    {
     "name": "stderr",
     "output_type": "stream",
     "text": [
      "2025-06-22 01:42:20 - INFO - \n",
      "=== Starting Epoch 11 ===\n",
      "\n"
     ]
    },
    {
     "name": "stdout",
     "output_type": "stream",
     "text": [
      "Epoch 11/100\n",
      "\u001b[1m813/813\u001b[0m \u001b[32m━━━━━━━━━━━━━━━━━━━━\u001b[0m\u001b[37m\u001b[0m \u001b[1m0s\u001b[0m 264ms/step - accuracy: 0.9222 - auc: 0.7649 - f1_score: 0.1097 - loss: 0.0617 - precision: 0.5055 - recall: 0.0776  "
     ]
    },
    {
     "name": "stderr",
     "output_type": "stream",
     "text": [
      "2025-06-22 01:46:15 - INFO - \n",
      "=== Epoch 11 Summary ===\n",
      "2025-06-22 01:46:15 - INFO - Time: 235.80s\n",
      "2025-06-22 01:46:15 - INFO - Training   - accuracy: 0.9225 - auc: 0.7697 - f1_score: 0.1166 - loss: 0.0611 - precision: 0.5111 - recall: 0.0824 - learning_rate: 0.0000\n",
      "2025-06-22 01:46:15 - INFO - Validation - accuracy: 0.9436 - auc: 0.7332 - f1_score: 0.0940 - loss: 0.0656 - precision: 0.4469 - recall: 0.0788\n",
      "2025-06-22 01:46:15 - INFO - ==================================================\n",
      "\n"
     ]
    },
    {
     "name": "stdout",
     "output_type": "stream",
     "text": [
      "\u001b[1m813/813\u001b[0m \u001b[32m━━━━━━━━━━━━━━━━━━━━\u001b[0m\u001b[37m\u001b[0m \u001b[1m236s\u001b[0m 290ms/step - accuracy: 0.9222 - auc: 0.7649 - f1_score: 0.1097 - loss: 0.0617 - precision: 0.5055 - recall: 0.0776 - val_accuracy: 0.9436 - val_auc: 0.7332 - val_f1_score: 0.0940 - val_loss: 0.0656 - val_precision: 0.4469 - val_recall: 0.0788 - learning_rate: 5.0000e-05\n"
     ]
    },
    {
     "name": "stderr",
     "output_type": "stream",
     "text": [
      "2025-06-22 01:46:15 - INFO - \n",
      "=== Starting Epoch 12 ===\n",
      "\n"
     ]
    },
    {
     "name": "stdout",
     "output_type": "stream",
     "text": [
      "Epoch 12/100\n",
      "\u001b[1m813/813\u001b[0m \u001b[32m━━━━━━━━━━━━━━━━━━━━\u001b[0m\u001b[37m\u001b[0m \u001b[1m0s\u001b[0m 263ms/step - accuracy: 0.9221 - auc: 0.7712 - f1_score: 0.1228 - loss: 0.0606 - precision: 0.5151 - recall: 0.0878  \n",
      "Epoch 12: ReduceLROnPlateau reducing learning rate to 2.499999936844688e-05.\n"
     ]
    },
    {
     "name": "stderr",
     "output_type": "stream",
     "text": [
      "2025-06-22 01:50:10 - INFO - \n",
      "=== Epoch 12 Summary ===\n",
      "2025-06-22 01:50:10 - INFO - Time: 234.15s\n",
      "2025-06-22 01:50:10 - INFO - Training   - accuracy: 0.9225 - auc: 0.7767 - f1_score: 0.1291 - loss: 0.0597 - precision: 0.5134 - recall: 0.0926 - learning_rate: 0.0000\n",
      "2025-06-22 01:50:10 - INFO - Validation - accuracy: 0.9423 - auc: 0.7465 - f1_score: 0.1012 - loss: 0.0638 - precision: 0.4043 - recall: 0.0891\n",
      "2025-06-22 01:50:10 - INFO - ==================================================\n",
      "\n"
     ]
    },
    {
     "name": "stdout",
     "output_type": "stream",
     "text": [
      "\u001b[1m813/813\u001b[0m \u001b[32m━━━━━━━━━━━━━━━━━━━━\u001b[0m\u001b[37m\u001b[0m \u001b[1m234s\u001b[0m 288ms/step - accuracy: 0.9221 - auc: 0.7712 - f1_score: 0.1228 - loss: 0.0606 - precision: 0.5151 - recall: 0.0878 - val_accuracy: 0.9423 - val_auc: 0.7465 - val_f1_score: 0.1012 - val_loss: 0.0638 - val_precision: 0.4043 - val_recall: 0.0891 - learning_rate: 5.0000e-05\n"
     ]
    },
    {
     "name": "stderr",
     "output_type": "stream",
     "text": [
      "2025-06-22 01:50:10 - INFO - \n",
      "=== Starting Epoch 13 ===\n",
      "\n"
     ]
    },
    {
     "name": "stdout",
     "output_type": "stream",
     "text": [
      "Epoch 13/100\n",
      "\u001b[1m813/813\u001b[0m \u001b[32m━━━━━━━━━━━━━━━━━━━━\u001b[0m\u001b[37m\u001b[0m \u001b[1m0s\u001b[0m 264ms/step - accuracy: 0.9230 - auc: 0.7870 - f1_score: 0.1466 - loss: 0.0580 - precision: 0.5269 - recall: 0.1073  "
     ]
    },
    {
     "name": "stderr",
     "output_type": "stream",
     "text": [
      "2025-06-22 01:54:06 - INFO - \n",
      "=== Epoch 13 Summary ===\n",
      "2025-06-22 01:54:06 - INFO - Time: 236.11s\n",
      "2025-06-22 01:54:06 - INFO - Training   - accuracy: 0.9233 - auc: 0.7958 - f1_score: 0.1590 - loss: 0.0570 - precision: 0.5317 - recall: 0.1171 - learning_rate: 0.0000\n",
      "2025-06-22 01:54:06 - INFO - Validation - accuracy: 0.9321 - auc: 0.7514 - f1_score: 0.1398 - loss: 0.0676 - precision: 0.2557 - recall: 0.1181\n",
      "2025-06-22 01:54:06 - INFO - ==================================================\n",
      "\n"
     ]
    },
    {
     "name": "stdout",
     "output_type": "stream",
     "text": [
      "\u001b[1m813/813\u001b[0m \u001b[32m━━━━━━━━━━━━━━━━━━━━\u001b[0m\u001b[37m\u001b[0m \u001b[1m236s\u001b[0m 291ms/step - accuracy: 0.9230 - auc: 0.7871 - f1_score: 0.1467 - loss: 0.0580 - precision: 0.5269 - recall: 0.1073 - val_accuracy: 0.9321 - val_auc: 0.7514 - val_f1_score: 0.1398 - val_loss: 0.0676 - val_precision: 0.2557 - val_recall: 0.1181 - learning_rate: 2.5000e-05\n"
     ]
    },
    {
     "name": "stderr",
     "output_type": "stream",
     "text": [
      "2025-06-22 01:54:06 - INFO - \n",
      "=== Starting Epoch 14 ===\n",
      "\n"
     ]
    },
    {
     "name": "stdout",
     "output_type": "stream",
     "text": [
      "Epoch 14/100\n",
      "\u001b[1m813/813\u001b[0m \u001b[32m━━━━━━━━━━━━━━━━━━━━\u001b[0m\u001b[37m\u001b[0m \u001b[1m0s\u001b[0m 263ms/step - accuracy: 0.9227 - auc: 0.8001 - f1_score: 0.1692 - loss: 0.0562 - precision: 0.5269 - recall: 0.1267  "
     ]
    },
    {
     "name": "stderr",
     "output_type": "stream",
     "text": [
      "2025-06-22 01:58:02 - INFO - \n",
      "=== Epoch 14 Summary ===\n",
      "2025-06-22 01:58:02 - INFO - Time: 236.39s\n",
      "2025-06-22 01:58:02 - INFO - Training   - accuracy: 0.9235 - auc: 0.8045 - f1_score: 0.1763 - loss: 0.0554 - precision: 0.5347 - recall: 0.1324 - learning_rate: 0.0000\n",
      "2025-06-22 01:58:02 - INFO - Validation - accuracy: 0.9336 - auc: 0.7483 - f1_score: 0.1410 - loss: 0.0664 - precision: 0.2679 - recall: 0.1151\n",
      "2025-06-22 01:58:02 - INFO - ==================================================\n",
      "\n"
     ]
    },
    {
     "name": "stdout",
     "output_type": "stream",
     "text": [
      "\u001b[1m813/813\u001b[0m \u001b[32m━━━━━━━━━━━━━━━━━━━━\u001b[0m\u001b[37m\u001b[0m \u001b[1m237s\u001b[0m 291ms/step - accuracy: 0.9227 - auc: 0.8001 - f1_score: 0.1692 - loss: 0.0562 - precision: 0.5270 - recall: 0.1267 - val_accuracy: 0.9336 - val_auc: 0.7483 - val_f1_score: 0.1410 - val_loss: 0.0664 - val_precision: 0.2679 - val_recall: 0.1151 - learning_rate: 2.5000e-05\n"
     ]
    },
    {
     "name": "stderr",
     "output_type": "stream",
     "text": [
      "2025-06-22 01:58:03 - INFO - \n",
      "=== Starting Epoch 15 ===\n",
      "\n"
     ]
    },
    {
     "name": "stdout",
     "output_type": "stream",
     "text": [
      "Epoch 15/100\n",
      "\u001b[1m813/813\u001b[0m \u001b[32m━━━━━━━━━━━━━━━━━━━━\u001b[0m\u001b[37m\u001b[0m \u001b[1m0s\u001b[0m 262ms/step - accuracy: 0.9234 - auc: 0.8064 - f1_score: 0.1827 - loss: 0.0548 - precision: 0.5367 - recall: 0.1383  "
     ]
    },
    {
     "name": "stderr",
     "output_type": "stream",
     "text": [
      "2025-06-22 02:01:55 - INFO - \n",
      "=== Epoch 15 Summary ===\n",
      "2025-06-22 02:01:55 - INFO - Time: 232.60s\n",
      "2025-06-22 02:01:55 - INFO - Training   - accuracy: 0.9240 - auc: 0.8126 - f1_score: 0.1932 - loss: 0.0540 - precision: 0.5431 - recall: 0.1469 - learning_rate: 0.0000\n",
      "2025-06-22 02:01:55 - INFO - Validation - accuracy: 0.9393 - auc: 0.7565 - f1_score: 0.1039 - loss: 0.0627 - precision: 0.3237 - recall: 0.0879\n",
      "2025-06-22 02:01:55 - INFO - ==================================================\n",
      "\n"
     ]
    },
    {
     "name": "stdout",
     "output_type": "stream",
     "text": [
      "\u001b[1m813/813\u001b[0m \u001b[32m━━━━━━━━━━━━━━━━━━━━\u001b[0m\u001b[37m\u001b[0m \u001b[1m233s\u001b[0m 286ms/step - accuracy: 0.9234 - auc: 0.8064 - f1_score: 0.1828 - loss: 0.0548 - precision: 0.5367 - recall: 0.1383 - val_accuracy: 0.9393 - val_auc: 0.7565 - val_f1_score: 0.1039 - val_loss: 0.0627 - val_precision: 0.3237 - val_recall: 0.0879 - learning_rate: 2.5000e-05\n"
     ]
    },
    {
     "name": "stderr",
     "output_type": "stream",
     "text": [
      "2025-06-22 02:01:55 - INFO - \n",
      "=== Starting Epoch 16 ===\n",
      "\n"
     ]
    },
    {
     "name": "stdout",
     "output_type": "stream",
     "text": [
      "Epoch 16/100\n",
      "\u001b[1m813/813\u001b[0m \u001b[32m━━━━━━━━━━━━━━━━━━━━\u001b[0m\u001b[37m\u001b[0m \u001b[1m0s\u001b[0m 264ms/step - accuracy: 0.9238 - auc: 0.8150 - f1_score: 0.2005 - loss: 0.0536 - precision: 0.5431 - recall: 0.1552  "
     ]
    },
    {
     "name": "stderr",
     "output_type": "stream",
     "text": [
      "2025-06-22 02:05:52 - INFO - \n",
      "=== Epoch 16 Summary ===\n",
      "2025-06-22 02:05:52 - INFO - Time: 236.40s\n",
      "2025-06-22 02:05:52 - INFO - Training   - accuracy: 0.9246 - auc: 0.8202 - f1_score: 0.2110 - loss: 0.0527 - precision: 0.5528 - recall: 0.1628 - learning_rate: 0.0000\n",
      "2025-06-22 02:05:52 - INFO - Validation - accuracy: 0.9398 - auc: 0.7552 - f1_score: 0.1442 - loss: 0.0630 - precision: 0.3634 - recall: 0.1144\n",
      "2025-06-22 02:05:52 - INFO - ==================================================\n",
      "\n"
     ]
    },
    {
     "name": "stdout",
     "output_type": "stream",
     "text": [
      "\u001b[1m813/813\u001b[0m \u001b[32m━━━━━━━━━━━━━━━━━━━━\u001b[0m\u001b[37m\u001b[0m \u001b[1m236s\u001b[0m 291ms/step - accuracy: 0.9238 - auc: 0.8150 - f1_score: 0.2006 - loss: 0.0536 - precision: 0.5431 - recall: 0.1552 - val_accuracy: 0.9398 - val_auc: 0.7552 - val_f1_score: 0.1442 - val_loss: 0.0630 - val_precision: 0.3634 - val_recall: 0.1144 - learning_rate: 2.5000e-05\n"
     ]
    },
    {
     "name": "stderr",
     "output_type": "stream",
     "text": [
      "2025-06-22 02:05:52 - INFO - \n",
      "=== Starting Epoch 17 ===\n",
      "\n"
     ]
    },
    {
     "name": "stdout",
     "output_type": "stream",
     "text": [
      "Epoch 17/100\n",
      "\u001b[1m813/813\u001b[0m \u001b[32m━━━━━━━━━━━━━━━━━━━━\u001b[0m\u001b[37m\u001b[0m \u001b[1m0s\u001b[0m 263ms/step - accuracy: 0.9244 - auc: 0.8242 - f1_score: 0.2212 - loss: 0.0522 - precision: 0.5546 - recall: 0.1713  "
     ]
    },
    {
     "name": "stderr",
     "output_type": "stream",
     "text": [
      "2025-06-22 02:09:54 - INFO - \n",
      "=== Epoch 17 Summary ===\n",
      "2025-06-22 02:09:54 - INFO - Time: 242.77s\n",
      "2025-06-22 02:09:54 - INFO - Training   - accuracy: 0.9253 - auc: 0.8287 - f1_score: 0.2281 - loss: 0.0514 - precision: 0.5638 - recall: 0.1767 - learning_rate: 0.0000\n",
      "2025-06-22 02:09:54 - INFO - Validation - accuracy: 0.9387 - auc: 0.7519 - f1_score: 0.1499 - loss: 0.0623 - precision: 0.3634 - recall: 0.1417\n",
      "2025-06-22 02:09:54 - INFO - ==================================================\n",
      "\n"
     ]
    },
    {
     "name": "stdout",
     "output_type": "stream",
     "text": [
      "\u001b[1m813/813\u001b[0m \u001b[32m━━━━━━━━━━━━━━━━━━━━\u001b[0m\u001b[37m\u001b[0m \u001b[1m243s\u001b[0m 299ms/step - accuracy: 0.9244 - auc: 0.8242 - f1_score: 0.2212 - loss: 0.0522 - precision: 0.5546 - recall: 0.1713 - val_accuracy: 0.9387 - val_auc: 0.7519 - val_f1_score: 0.1499 - val_loss: 0.0623 - val_precision: 0.3634 - val_recall: 0.1417 - learning_rate: 2.5000e-05\n"
     ]
    },
    {
     "name": "stderr",
     "output_type": "stream",
     "text": [
      "2025-06-22 02:09:54 - INFO - \n",
      "=== Starting Epoch 18 ===\n",
      "\n"
     ]
    },
    {
     "name": "stdout",
     "output_type": "stream",
     "text": [
      "Epoch 18/100\n",
      "\u001b[1m813/813\u001b[0m \u001b[32m━━━━━━━━━━━━━━━━━━━━\u001b[0m\u001b[37m\u001b[0m \u001b[1m0s\u001b[0m 263ms/step - accuracy: 0.9256 - auc: 0.8318 - f1_score: 0.2389 - loss: 0.0510 - precision: 0.5673 - recall: 0.1881  "
     ]
    },
    {
     "name": "stderr",
     "output_type": "stream",
     "text": [
      "2025-06-22 02:13:50 - INFO - \n",
      "=== Epoch 18 Summary ===\n",
      "2025-06-22 02:13:50 - INFO - Time: 235.68s\n",
      "2025-06-22 02:13:50 - INFO - Training   - accuracy: 0.9262 - auc: 0.8357 - f1_score: 0.2459 - loss: 0.0502 - precision: 0.5749 - recall: 0.1931 - learning_rate: 0.0000\n",
      "2025-06-22 02:13:50 - INFO - Validation - accuracy: 0.8952 - auc: 0.7264 - f1_score: 0.1721 - loss: 0.0966 - precision: 0.1562 - recall: 0.2025\n",
      "2025-06-22 02:13:50 - INFO - ==================================================\n",
      "\n"
     ]
    },
    {
     "name": "stdout",
     "output_type": "stream",
     "text": [
      "\u001b[1m813/813\u001b[0m \u001b[32m━━━━━━━━━━━━━━━━━━━━\u001b[0m\u001b[37m\u001b[0m \u001b[1m236s\u001b[0m 290ms/step - accuracy: 0.9256 - auc: 0.8318 - f1_score: 0.2389 - loss: 0.0510 - precision: 0.5673 - recall: 0.1881 - val_accuracy: 0.8952 - val_auc: 0.7264 - val_f1_score: 0.1721 - val_loss: 0.0966 - val_precision: 0.1562 - val_recall: 0.2025 - learning_rate: 2.5000e-05\n"
     ]
    },
    {
     "name": "stderr",
     "output_type": "stream",
     "text": [
      "2025-06-22 02:13:50 - INFO - \n",
      "=== Starting Epoch 19 ===\n",
      "\n"
     ]
    },
    {
     "name": "stdout",
     "output_type": "stream",
     "text": [
      "Epoch 19/100\n",
      "\u001b[1m813/813\u001b[0m \u001b[32m━━━━━━━━━━━━━━━━━━━━\u001b[0m\u001b[37m\u001b[0m \u001b[1m0s\u001b[0m 263ms/step - accuracy: 0.9261 - auc: 0.8396 - f1_score: 0.2516 - loss: 0.0496 - precision: 0.5788 - recall: 0.1983  "
     ]
    },
    {
     "name": "stderr",
     "output_type": "stream",
     "text": [
      "2025-06-22 02:17:45 - INFO - \n",
      "=== Epoch 19 Summary ===\n",
      "2025-06-22 02:17:45 - INFO - Time: 234.75s\n",
      "2025-06-22 02:17:45 - INFO - Training   - accuracy: 0.9268 - auc: 0.8437 - f1_score: 0.2598 - loss: 0.0490 - precision: 0.5860 - recall: 0.2045 - learning_rate: 0.0000\n",
      "2025-06-22 02:17:45 - INFO - Validation - accuracy: 0.9339 - auc: 0.7486 - f1_score: 0.0776 - loss: 0.0700 - precision: 0.2330 - recall: 0.0844\n",
      "2025-06-22 02:17:45 - INFO - ==================================================\n",
      "\n"
     ]
    },
    {
     "name": "stdout",
     "output_type": "stream",
     "text": [
      "\u001b[1m813/813\u001b[0m \u001b[32m━━━━━━━━━━━━━━━━━━━━\u001b[0m\u001b[37m\u001b[0m \u001b[1m235s\u001b[0m 289ms/step - accuracy: 0.9261 - auc: 0.8396 - f1_score: 0.2516 - loss: 0.0496 - precision: 0.5788 - recall: 0.1983 - val_accuracy: 0.9339 - val_auc: 0.7486 - val_f1_score: 0.0776 - val_loss: 0.0700 - val_precision: 0.2330 - val_recall: 0.0844 - learning_rate: 2.5000e-05\n"
     ]
    },
    {
     "name": "stderr",
     "output_type": "stream",
     "text": [
      "2025-06-22 02:17:45 - INFO - \n",
      "=== Starting Epoch 20 ===\n",
      "\n"
     ]
    },
    {
     "name": "stdout",
     "output_type": "stream",
     "text": [
      "Epoch 20/100\n",
      "\u001b[1m813/813\u001b[0m \u001b[32m━━━━━━━━━━━━━━━━━━━━\u001b[0m\u001b[37m\u001b[0m \u001b[1m0s\u001b[0m 263ms/step - accuracy: 0.9273 - auc: 0.8468 - f1_score: 0.2695 - loss: 0.0483 - precision: 0.5952 - recall: 0.2127  "
     ]
    },
    {
     "name": "stderr",
     "output_type": "stream",
     "text": [
      "2025-06-22 02:21:40 - INFO - \n",
      "=== Epoch 20 Summary ===\n",
      "2025-06-22 02:21:40 - INFO - Time: 234.55s\n",
      "2025-06-22 02:21:40 - INFO - Training   - accuracy: 0.9278 - auc: 0.8511 - f1_score: 0.2784 - loss: 0.0477 - precision: 0.5998 - recall: 0.2199 - learning_rate: 0.0000\n",
      "2025-06-22 02:21:40 - INFO - Validation - accuracy: 0.9380 - auc: 0.7660 - f1_score: 0.1694 - loss: 0.0636 - precision: 0.3626 - recall: 0.1580\n",
      "2025-06-22 02:21:40 - INFO - ==================================================\n",
      "\n"
     ]
    },
    {
     "name": "stdout",
     "output_type": "stream",
     "text": [
      "\u001b[1m813/813\u001b[0m \u001b[32m━━━━━━━━━━━━━━━━━━━━\u001b[0m\u001b[37m\u001b[0m \u001b[1m235s\u001b[0m 289ms/step - accuracy: 0.9273 - auc: 0.8468 - f1_score: 0.2695 - loss: 0.0483 - precision: 0.5952 - recall: 0.2127 - val_accuracy: 0.9380 - val_auc: 0.7660 - val_f1_score: 0.1694 - val_loss: 0.0636 - val_precision: 0.3626 - val_recall: 0.1580 - learning_rate: 2.5000e-05\n"
     ]
    },
    {
     "name": "stderr",
     "output_type": "stream",
     "text": [
      "2025-06-22 02:21:40 - INFO - \n",
      "=== Starting Epoch 21 ===\n",
      "\n"
     ]
    },
    {
     "name": "stdout",
     "output_type": "stream",
     "text": [
      "Epoch 21/100\n",
      "\u001b[1m813/813\u001b[0m \u001b[32m━━━━━━━━━━━━━━━━━━━━\u001b[0m\u001b[37m\u001b[0m \u001b[1m0s\u001b[0m 264ms/step - accuracy: 0.9282 - auc: 0.8544 - f1_score: 0.2905 - loss: 0.0471 - precision: 0.6036 - recall: 0.2303  "
     ]
    },
    {
     "name": "stderr",
     "output_type": "stream",
     "text": [
      "2025-06-22 02:25:35 - INFO - \n",
      "=== Epoch 21 Summary ===\n",
      "2025-06-22 02:25:35 - INFO - Time: 235.73s\n",
      "2025-06-22 02:25:35 - INFO - Training   - accuracy: 0.9290 - auc: 0.8577 - f1_score: 0.2971 - loss: 0.0465 - precision: 0.6121 - recall: 0.2358 - learning_rate: 0.0000\n",
      "2025-06-22 02:25:35 - INFO - Validation - accuracy: 0.9360 - auc: 0.7546 - f1_score: 0.1823 - loss: 0.0639 - precision: 0.3418 - recall: 0.1678\n",
      "2025-06-22 02:25:35 - INFO - ==================================================\n",
      "\n"
     ]
    },
    {
     "name": "stdout",
     "output_type": "stream",
     "text": [
      "\u001b[1m813/813\u001b[0m \u001b[32m━━━━━━━━━━━━━━━━━━━━\u001b[0m\u001b[37m\u001b[0m \u001b[1m236s\u001b[0m 290ms/step - accuracy: 0.9282 - auc: 0.8544 - f1_score: 0.2905 - loss: 0.0471 - precision: 0.6036 - recall: 0.2303 - val_accuracy: 0.9360 - val_auc: 0.7546 - val_f1_score: 0.1823 - val_loss: 0.0639 - val_precision: 0.3418 - val_recall: 0.1678 - learning_rate: 2.5000e-05\n"
     ]
    },
    {
     "name": "stderr",
     "output_type": "stream",
     "text": [
      "2025-06-22 02:25:35 - INFO - \n",
      "=== Starting Epoch 22 ===\n",
      "\n"
     ]
    },
    {
     "name": "stdout",
     "output_type": "stream",
     "text": [
      "Epoch 22/100\n",
      "\u001b[1m813/813\u001b[0m \u001b[32m━━━━━━━━━━━━━━━━━━━━\u001b[0m\u001b[37m\u001b[0m \u001b[1m0s\u001b[0m 263ms/step - accuracy: 0.9289 - auc: 0.8621 - f1_score: 0.3082 - loss: 0.0459 - precision: 0.6149 - recall: 0.2460  "
     ]
    },
    {
     "name": "stderr",
     "output_type": "stream",
     "text": [
      "2025-06-22 02:29:28 - INFO - \n",
      "=== Epoch 22 Summary ===\n",
      "2025-06-22 02:29:28 - INFO - Time: 232.51s\n",
      "2025-06-22 02:29:28 - INFO - Training   - accuracy: 0.9295 - auc: 0.8655 - f1_score: 0.3151 - loss: 0.0454 - precision: 0.6168 - recall: 0.2515 - learning_rate: 0.0000\n",
      "2025-06-22 02:29:28 - INFO - Validation - accuracy: 0.9342 - auc: 0.7493 - f1_score: 0.1726 - loss: 0.0651 - precision: 0.3080 - recall: 0.1510\n",
      "2025-06-22 02:29:28 - INFO - ==================================================\n",
      "\n"
     ]
    },
    {
     "name": "stdout",
     "output_type": "stream",
     "text": [
      "\u001b[1m813/813\u001b[0m \u001b[32m━━━━━━━━━━━━━━━━━━━━\u001b[0m\u001b[37m\u001b[0m \u001b[1m233s\u001b[0m 286ms/step - accuracy: 0.9289 - auc: 0.8621 - f1_score: 0.3082 - loss: 0.0459 - precision: 0.6149 - recall: 0.2460 - val_accuracy: 0.9342 - val_auc: 0.7493 - val_f1_score: 0.1726 - val_loss: 0.0651 - val_precision: 0.3080 - val_recall: 0.1510 - learning_rate: 2.5000e-05\n"
     ]
    },
    {
     "name": "stderr",
     "output_type": "stream",
     "text": [
      "2025-06-22 02:29:28 - INFO - \n",
      "=== Starting Epoch 23 ===\n",
      "\n"
     ]
    },
    {
     "name": "stdout",
     "output_type": "stream",
     "text": [
      "Epoch 23/100\n",
      "\u001b[1m813/813\u001b[0m \u001b[32m━━━━━━━━━━━━━━━━━━━━\u001b[0m\u001b[37m\u001b[0m \u001b[1m0s\u001b[0m 264ms/step - accuracy: 0.9299 - auc: 0.8686 - f1_score: 0.3272 - loss: 0.0449 - precision: 0.6202 - recall: 0.2623  "
     ]
    },
    {
     "name": "stderr",
     "output_type": "stream",
     "text": [
      "2025-06-22 02:33:21 - INFO - \n",
      "=== Epoch 23 Summary ===\n",
      "2025-06-22 02:33:21 - INFO - Time: 233.57s\n",
      "2025-06-22 02:33:21 - INFO - Training   - accuracy: 0.9304 - auc: 0.8717 - f1_score: 0.3313 - loss: 0.0443 - precision: 0.6248 - recall: 0.2653 - learning_rate: 0.0000\n",
      "2025-06-22 02:33:21 - INFO - Validation - accuracy: 0.9355 - auc: 0.7490 - f1_score: 0.1581 - loss: 0.0667 - precision: 0.3074 - recall: 0.1319\n",
      "2025-06-22 02:33:21 - INFO - ==================================================\n",
      "\n"
     ]
    },
    {
     "name": "stdout",
     "output_type": "stream",
     "text": [
      "\u001b[1m813/813\u001b[0m \u001b[32m━━━━━━━━━━━━━━━━━━━━\u001b[0m\u001b[37m\u001b[0m \u001b[1m234s\u001b[0m 287ms/step - accuracy: 0.9299 - auc: 0.8686 - f1_score: 0.3272 - loss: 0.0449 - precision: 0.6202 - recall: 0.2623 - val_accuracy: 0.9355 - val_auc: 0.7490 - val_f1_score: 0.1581 - val_loss: 0.0667 - val_precision: 0.3074 - val_recall: 0.1319 - learning_rate: 2.5000e-05\n"
     ]
    },
    {
     "name": "stderr",
     "output_type": "stream",
     "text": [
      "2025-06-22 02:33:21 - INFO - \n",
      "=== Starting Epoch 24 ===\n",
      "\n"
     ]
    },
    {
     "name": "stdout",
     "output_type": "stream",
     "text": [
      "Epoch 24/100\n",
      "\u001b[1m813/813\u001b[0m \u001b[32m━━━━━━━━━━━━━━━━━━━━\u001b[0m\u001b[37m\u001b[0m \u001b[1m0s\u001b[0m 263ms/step - accuracy: 0.9310 - auc: 0.8752 - f1_score: 0.3426 - loss: 0.0436 - precision: 0.6311 - recall: 0.2761  \n",
      "Epoch 24: ReduceLROnPlateau reducing learning rate to 1.249999968422344e-05.\n"
     ]
    },
    {
     "name": "stderr",
     "output_type": "stream",
     "text": [
      "2025-06-22 02:37:14 - INFO - \n",
      "=== Epoch 24 Summary ===\n",
      "2025-06-22 02:37:14 - INFO - Time: 232.59s\n",
      "2025-06-22 02:37:14 - INFO - Training   - accuracy: 0.9319 - auc: 0.8783 - f1_score: 0.3515 - loss: 0.0431 - precision: 0.6394 - recall: 0.2827 - learning_rate: 0.0000\n",
      "2025-06-22 02:37:14 - INFO - Validation - accuracy: 0.9355 - auc: 0.7502 - f1_score: 0.1250 - loss: 0.0673 - precision: 0.2813 - recall: 0.1054\n",
      "2025-06-22 02:37:14 - INFO - ==================================================\n",
      "\n"
     ]
    },
    {
     "name": "stdout",
     "output_type": "stream",
     "text": [
      "\u001b[1m813/813\u001b[0m \u001b[32m━━━━━━━━━━━━━━━━━━━━\u001b[0m\u001b[37m\u001b[0m \u001b[1m233s\u001b[0m 286ms/step - accuracy: 0.9310 - auc: 0.8752 - f1_score: 0.3426 - loss: 0.0436 - precision: 0.6311 - recall: 0.2761 - val_accuracy: 0.9355 - val_auc: 0.7502 - val_f1_score: 0.1250 - val_loss: 0.0673 - val_precision: 0.2813 - val_recall: 0.1054 - learning_rate: 2.5000e-05\n"
     ]
    },
    {
     "name": "stderr",
     "output_type": "stream",
     "text": [
      "2025-06-22 02:37:14 - INFO - \n",
      "=== Starting Epoch 25 ===\n",
      "\n"
     ]
    },
    {
     "name": "stdout",
     "output_type": "stream",
     "text": [
      "Epoch 25/100\n",
      "\u001b[1m813/813\u001b[0m \u001b[32m━━━━━━━━━━━━━━━━━━━━\u001b[0m\u001b[37m\u001b[0m \u001b[1m0s\u001b[0m 263ms/step - accuracy: 0.9339 - auc: 0.8900 - f1_score: 0.3825 - loss: 0.0408 - precision: 0.6683 - recall: 0.3108  "
     ]
    },
    {
     "name": "stderr",
     "output_type": "stream",
     "text": [
      "2025-06-22 02:41:06 - INFO - \n",
      "=== Epoch 25 Summary ===\n",
      "2025-06-22 02:41:06 - INFO - Time: 232.35s\n",
      "2025-06-22 02:41:06 - INFO - Training   - accuracy: 0.9354 - auc: 0.8962 - f1_score: 0.3997 - loss: 0.0397 - precision: 0.6769 - recall: 0.3253 - learning_rate: 0.0000\n",
      "2025-06-22 02:41:06 - INFO - Validation - accuracy: 0.9213 - auc: 0.7513 - f1_score: 0.1549 - loss: 0.0768 - precision: 0.2055 - recall: 0.1467\n",
      "2025-06-22 02:41:06 - INFO - ==================================================\n",
      "\n"
     ]
    },
    {
     "name": "stdout",
     "output_type": "stream",
     "text": [
      "\u001b[1m813/813\u001b[0m \u001b[32m━━━━━━━━━━━━━━━━━━━━\u001b[0m\u001b[37m\u001b[0m \u001b[1m232s\u001b[0m 286ms/step - accuracy: 0.9339 - auc: 0.8900 - f1_score: 0.3826 - loss: 0.0408 - precision: 0.6683 - recall: 0.3108 - val_accuracy: 0.9213 - val_auc: 0.7513 - val_f1_score: 0.1549 - val_loss: 0.0768 - val_precision: 0.2055 - val_recall: 0.1467 - learning_rate: 1.2500e-05\n"
     ]
    },
    {
     "name": "stderr",
     "output_type": "stream",
     "text": [
      "2025-06-22 02:41:06 - INFO - \n",
      "=== Starting Epoch 26 ===\n",
      "\n"
     ]
    },
    {
     "name": "stdout",
     "output_type": "stream",
     "text": [
      "Epoch 26/100\n",
      "\u001b[1m813/813\u001b[0m \u001b[32m━━━━━━━━━━━━━━━━━━━━\u001b[0m\u001b[37m\u001b[0m \u001b[1m0s\u001b[0m 264ms/step - accuracy: 0.9363 - auc: 0.9016 - f1_score: 0.4222 - loss: 0.0388 - precision: 0.6830 - recall: 0.3458  "
     ]
    },
    {
     "name": "stderr",
     "output_type": "stream",
     "text": [
      "2025-06-22 02:44:59 - INFO - \n",
      "=== Epoch 26 Summary ===\n",
      "2025-06-22 02:44:59 - INFO - Time: 232.39s\n",
      "2025-06-22 02:44:59 - INFO - Training   - accuracy: 0.9370 - auc: 0.9042 - f1_score: 0.4291 - loss: 0.0382 - precision: 0.6872 - recall: 0.3517 - learning_rate: 0.0000\n",
      "2025-06-22 02:44:59 - INFO - Validation - accuracy: 0.9324 - auc: 0.7470 - f1_score: 0.1561 - loss: 0.0707 - precision: 0.2582 - recall: 0.1181\n",
      "2025-06-22 02:44:59 - INFO - ==================================================\n",
      "\n"
     ]
    },
    {
     "name": "stdout",
     "output_type": "stream",
     "text": [
      "\u001b[1m813/813\u001b[0m \u001b[32m━━━━━━━━━━━━━━━━━━━━\u001b[0m\u001b[37m\u001b[0m \u001b[1m232s\u001b[0m 286ms/step - accuracy: 0.9363 - auc: 0.9016 - f1_score: 0.4222 - loss: 0.0388 - precision: 0.6830 - recall: 0.3458 - val_accuracy: 0.9324 - val_auc: 0.7470 - val_f1_score: 0.1561 - val_loss: 0.0707 - val_precision: 0.2582 - val_recall: 0.1181 - learning_rate: 1.2500e-05\n"
     ]
    },
    {
     "name": "stderr",
     "output_type": "stream",
     "text": [
      "2025-06-22 02:44:59 - INFO - \n",
      "=== Starting Epoch 27 ===\n",
      "\n"
     ]
    },
    {
     "name": "stdout",
     "output_type": "stream",
     "text": [
      "Epoch 27/100\n",
      "\u001b[1m813/813\u001b[0m \u001b[32m━━━━━━━━━━━━━━━━━━━━\u001b[0m\u001b[37m\u001b[0m \u001b[1m0s\u001b[0m 264ms/step - accuracy: 0.9378 - auc: 0.9083 - f1_score: 0.4427 - loss: 0.0373 - precision: 0.6874 - recall: 0.3661  "
     ]
    },
    {
     "name": "stderr",
     "output_type": "stream",
     "text": [
      "2025-06-22 02:48:52 - INFO - \n",
      "=== Epoch 27 Summary ===\n",
      "2025-06-22 02:48:52 - INFO - Time: 233.29s\n",
      "2025-06-22 02:48:52 - INFO - Training   - accuracy: 0.9384 - auc: 0.9115 - f1_score: 0.4517 - loss: 0.0369 - precision: 0.6920 - recall: 0.3739 - learning_rate: 0.0000\n",
      "2025-06-22 02:48:52 - INFO - Validation - accuracy: 0.9285 - auc: 0.7444 - f1_score: 0.1980 - loss: 0.0724 - precision: 0.2753 - recall: 0.1784\n",
      "2025-06-22 02:48:52 - INFO - ==================================================\n",
      "\n"
     ]
    },
    {
     "name": "stdout",
     "output_type": "stream",
     "text": [
      "\u001b[1m813/813\u001b[0m \u001b[32m━━━━━━━━━━━━━━━━━━━━\u001b[0m\u001b[37m\u001b[0m \u001b[1m233s\u001b[0m 287ms/step - accuracy: 0.9378 - auc: 0.9083 - f1_score: 0.4427 - loss: 0.0373 - precision: 0.6874 - recall: 0.3661 - val_accuracy: 0.9285 - val_auc: 0.7444 - val_f1_score: 0.1980 - val_loss: 0.0724 - val_precision: 0.2753 - val_recall: 0.1784 - learning_rate: 1.2500e-05\n"
     ]
    },
    {
     "name": "stderr",
     "output_type": "stream",
     "text": [
      "2025-06-22 02:48:52 - INFO - \n",
      "=== Starting Epoch 28 ===\n",
      "\n"
     ]
    },
    {
     "name": "stdout",
     "output_type": "stream",
     "text": [
      "Epoch 28/100\n",
      "\u001b[1m813/813\u001b[0m \u001b[32m━━━━━━━━━━━━━━━━━━━━\u001b[0m\u001b[37m\u001b[0m \u001b[1m0s\u001b[0m 262ms/step - accuracy: 0.9387 - auc: 0.9137 - f1_score: 0.4627 - loss: 0.0364 - precision: 0.6975 - recall: 0.3826  "
     ]
    },
    {
     "name": "stderr",
     "output_type": "stream",
     "text": [
      "2025-06-22 02:52:46 - INFO - \n",
      "=== Epoch 28 Summary ===\n",
      "2025-06-22 02:52:46 - INFO - Time: 233.55s\n",
      "2025-06-22 02:52:46 - INFO - Training   - accuracy: 0.9395 - auc: 0.9160 - f1_score: 0.4698 - loss: 0.0361 - precision: 0.7000 - recall: 0.3899 - learning_rate: 0.0000\n",
      "2025-06-22 02:52:46 - INFO - Validation - accuracy: 0.9288 - auc: 0.7494 - f1_score: 0.1659 - loss: 0.0729 - precision: 0.2586 - recall: 0.1529\n",
      "2025-06-22 02:52:46 - INFO - ==================================================\n",
      "\n"
     ]
    },
    {
     "name": "stdout",
     "output_type": "stream",
     "text": [
      "\u001b[1m813/813\u001b[0m \u001b[32m━━━━━━━━━━━━━━━━━━━━\u001b[0m\u001b[37m\u001b[0m \u001b[1m234s\u001b[0m 287ms/step - accuracy: 0.9388 - auc: 0.9137 - f1_score: 0.4627 - loss: 0.0364 - precision: 0.6975 - recall: 0.3827 - val_accuracy: 0.9288 - val_auc: 0.7494 - val_f1_score: 0.1659 - val_loss: 0.0729 - val_precision: 0.2586 - val_recall: 0.1529 - learning_rate: 1.2500e-05\n"
     ]
    },
    {
     "name": "stderr",
     "output_type": "stream",
     "text": [
      "2025-06-22 02:52:46 - INFO - \n",
      "=== Starting Epoch 29 ===\n",
      "\n"
     ]
    },
    {
     "name": "stdout",
     "output_type": "stream",
     "text": [
      "Epoch 29/100\n",
      "\u001b[1m813/813\u001b[0m \u001b[32m━━━━━━━━━━━━━━━━━━━━\u001b[0m\u001b[37m\u001b[0m \u001b[1m0s\u001b[0m 263ms/step - accuracy: 0.9401 - auc: 0.9198 - f1_score: 0.4828 - loss: 0.0354 - precision: 0.7035 - recall: 0.4034  "
     ]
    },
    {
     "name": "stderr",
     "output_type": "stream",
     "text": [
      "2025-06-22 02:56:39 - INFO - \n",
      "=== Epoch 29 Summary ===\n",
      "2025-06-22 02:56:39 - INFO - Time: 233.41s\n",
      "2025-06-22 02:56:39 - INFO - Training   - accuracy: 0.9410 - auc: 0.9222 - f1_score: 0.4905 - loss: 0.0348 - precision: 0.7092 - recall: 0.4106 - learning_rate: 0.0000\n",
      "2025-06-22 02:56:39 - INFO - Validation - accuracy: 0.9195 - auc: 0.7468 - f1_score: 0.1727 - loss: 0.0854 - precision: 0.2217 - recall: 0.1809\n",
      "2025-06-22 02:56:39 - INFO - ==================================================\n",
      "\n"
     ]
    },
    {
     "name": "stdout",
     "output_type": "stream",
     "text": [
      "\u001b[1m813/813\u001b[0m \u001b[32m━━━━━━━━━━━━━━━━━━━━\u001b[0m\u001b[37m\u001b[0m \u001b[1m233s\u001b[0m 287ms/step - accuracy: 0.9401 - auc: 0.9198 - f1_score: 0.4828 - loss: 0.0354 - precision: 0.7035 - recall: 0.4034 - val_accuracy: 0.9195 - val_auc: 0.7468 - val_f1_score: 0.1727 - val_loss: 0.0854 - val_precision: 0.2217 - val_recall: 0.1809 - learning_rate: 1.2500e-05\n"
     ]
    },
    {
     "name": "stderr",
     "output_type": "stream",
     "text": [
      "2025-06-22 02:56:39 - INFO - \n",
      "=== Starting Epoch 30 ===\n",
      "\n"
     ]
    },
    {
     "name": "stdout",
     "output_type": "stream",
     "text": [
      "Epoch 30/100\n",
      "\u001b[1m813/813\u001b[0m \u001b[32m━━━━━━━━━━━━━━━━━━━━\u001b[0m\u001b[37m\u001b[0m \u001b[1m0s\u001b[0m 263ms/step - accuracy: 0.9420 - auc: 0.9253 - f1_score: 0.5073 - loss: 0.0342 - precision: 0.7152 - recall: 0.4270  \n",
      "Epoch 30: ReduceLROnPlateau reducing learning rate to 6.24999984211172e-06.\n"
     ]
    },
    {
     "name": "stderr",
     "output_type": "stream",
     "text": [
      "2025-06-22 03:00:33 - INFO - \n",
      "=== Epoch 30 Summary ===\n",
      "2025-06-22 03:00:33 - INFO - Time: 234.07s\n",
      "2025-06-22 03:00:33 - INFO - Training   - accuracy: 0.9425 - auc: 0.9269 - f1_score: 0.5110 - loss: 0.0339 - precision: 0.7169 - recall: 0.4304 - learning_rate: 0.0000\n",
      "2025-06-22 03:00:33 - INFO - Validation - accuracy: 0.9377 - auc: 0.7467 - f1_score: 0.1397 - loss: 0.0795 - precision: 0.3154 - recall: 0.1069\n",
      "2025-06-22 03:00:33 - INFO - ==================================================\n",
      "\n"
     ]
    },
    {
     "name": "stdout",
     "output_type": "stream",
     "text": [
      "\u001b[1m813/813\u001b[0m \u001b[32m━━━━━━━━━━━━━━━━━━━━\u001b[0m\u001b[37m\u001b[0m \u001b[1m234s\u001b[0m 288ms/step - accuracy: 0.9420 - auc: 0.9253 - f1_score: 0.5073 - loss: 0.0342 - precision: 0.7152 - recall: 0.4270 - val_accuracy: 0.9377 - val_auc: 0.7467 - val_f1_score: 0.1397 - val_loss: 0.0795 - val_precision: 0.3154 - val_recall: 0.1069 - learning_rate: 1.2500e-05\n"
     ]
    },
    {
     "name": "stderr",
     "output_type": "stream",
     "text": [
      "2025-06-22 03:00:33 - INFO - \n",
      "=== Starting Epoch 31 ===\n",
      "\n"
     ]
    },
    {
     "name": "stdout",
     "output_type": "stream",
     "text": [
      "Epoch 31/100\n",
      "\u001b[1m813/813\u001b[0m \u001b[32m━━━━━━━━━━━━━━━━━━━━\u001b[0m\u001b[37m\u001b[0m \u001b[1m0s\u001b[0m 264ms/step - accuracy: 0.9440 - auc: 0.9333 - f1_score: 0.5323 - loss: 0.0326 - precision: 0.7313 - recall: 0.4512  "
     ]
    },
    {
     "name": "stderr",
     "output_type": "stream",
     "text": [
      "2025-06-22 03:04:27 - INFO - \n",
      "=== Epoch 31 Summary ===\n",
      "2025-06-22 03:04:27 - INFO - Time: 233.25s\n",
      "2025-06-22 03:04:27 - INFO - Training   - accuracy: 0.9457 - auc: 0.9368 - f1_score: 0.5456 - loss: 0.0318 - precision: 0.7425 - recall: 0.4635 - learning_rate: 0.0000\n",
      "2025-06-22 03:04:27 - INFO - Validation - accuracy: 0.9259 - auc: 0.7431 - f1_score: 0.2152 - loss: 0.0761 - precision: 0.2551 - recall: 0.1765\n",
      "2025-06-22 03:04:27 - INFO - ==================================================\n",
      "\n"
     ]
    },
    {
     "name": "stdout",
     "output_type": "stream",
     "text": [
      "\u001b[1m813/813\u001b[0m \u001b[32m━━━━━━━━━━━━━━━━━━━━\u001b[0m\u001b[37m\u001b[0m \u001b[1m233s\u001b[0m 287ms/step - accuracy: 0.9440 - auc: 0.9333 - f1_score: 0.5323 - loss: 0.0326 - precision: 0.7313 - recall: 0.4513 - val_accuracy: 0.9259 - val_auc: 0.7431 - val_f1_score: 0.2152 - val_loss: 0.0761 - val_precision: 0.2551 - val_recall: 0.1765 - learning_rate: 6.2500e-06\n"
     ]
    },
    {
     "name": "stderr",
     "output_type": "stream",
     "text": [
      "2025-06-22 03:04:27 - INFO - \n",
      "=== Starting Epoch 32 ===\n",
      "\n"
     ]
    },
    {
     "name": "stdout",
     "output_type": "stream",
     "text": [
      "Epoch 32/100\n",
      "\u001b[1m813/813\u001b[0m \u001b[32m━━━━━━━━━━━━━━━━━━━━\u001b[0m\u001b[37m\u001b[0m \u001b[1m0s\u001b[0m 263ms/step - accuracy: 0.9468 - auc: 0.9403 - f1_score: 0.5618 - loss: 0.0310 - precision: 0.7475 - recall: 0.4809  "
     ]
    },
    {
     "name": "stderr",
     "output_type": "stream",
     "text": [
      "2025-06-22 03:08:19 - INFO - \n",
      "=== Epoch 32 Summary ===\n",
      "2025-06-22 03:08:19 - INFO - Time: 232.80s\n",
      "2025-06-22 03:08:19 - INFO - Training   - accuracy: 0.9477 - auc: 0.9417 - f1_score: 0.5693 - loss: 0.0306 - precision: 0.7515 - recall: 0.4889 - learning_rate: 0.0000\n",
      "2025-06-22 03:08:19 - INFO - Validation - accuracy: 0.9284 - auc: 0.7488 - f1_score: 0.2544 - loss: 0.0716 - precision: 0.3096 - recall: 0.2373\n",
      "2025-06-22 03:08:19 - INFO - ==================================================\n",
      "\n"
     ]
    },
    {
     "name": "stdout",
     "output_type": "stream",
     "text": [
      "\u001b[1m813/813\u001b[0m \u001b[32m━━━━━━━━━━━━━━━━━━━━\u001b[0m\u001b[37m\u001b[0m \u001b[1m233s\u001b[0m 287ms/step - accuracy: 0.9468 - auc: 0.9403 - f1_score: 0.5618 - loss: 0.0310 - precision: 0.7475 - recall: 0.4809 - val_accuracy: 0.9284 - val_auc: 0.7488 - val_f1_score: 0.2544 - val_loss: 0.0716 - val_precision: 0.3096 - val_recall: 0.2373 - learning_rate: 6.2500e-06\n"
     ]
    },
    {
     "name": "stderr",
     "output_type": "stream",
     "text": [
      "2025-06-22 03:08:20 - INFO - \n",
      "=== Starting Epoch 33 ===\n",
      "\n"
     ]
    },
    {
     "name": "stdout",
     "output_type": "stream",
     "text": [
      "Epoch 33/100\n",
      "\u001b[1m813/813\u001b[0m \u001b[32m━━━━━━━━━━━━━━━━━━━━\u001b[0m\u001b[37m\u001b[0m \u001b[1m0s\u001b[0m 263ms/step - accuracy: 0.9482 - auc: 0.9439 - f1_score: 0.5800 - loss: 0.0303 - precision: 0.7550 - recall: 0.4998  "
     ]
    },
    {
     "name": "stderr",
     "output_type": "stream",
     "text": [
      "2025-06-22 03:12:11 - INFO - \n",
      "=== Epoch 33 Summary ===\n",
      "2025-06-22 03:12:11 - INFO - Time: 231.44s\n",
      "2025-06-22 03:12:11 - INFO - Training   - accuracy: 0.9489 - auc: 0.9453 - f1_score: 0.5857 - loss: 0.0300 - precision: 0.7581 - recall: 0.5063 - learning_rate: 0.0000\n",
      "2025-06-22 03:12:11 - INFO - Validation - accuracy: 0.9331 - auc: 0.7481 - f1_score: 0.1875 - loss: 0.0802 - precision: 0.3084 - recall: 0.1675\n",
      "2025-06-22 03:12:11 - INFO - ==================================================\n",
      "\n"
     ]
    },
    {
     "name": "stdout",
     "output_type": "stream",
     "text": [
      "\u001b[1m813/813\u001b[0m \u001b[32m━━━━━━━━━━━━━━━━━━━━\u001b[0m\u001b[37m\u001b[0m \u001b[1m231s\u001b[0m 285ms/step - accuracy: 0.9482 - auc: 0.9439 - f1_score: 0.5800 - loss: 0.0303 - precision: 0.7550 - recall: 0.4998 - val_accuracy: 0.9331 - val_auc: 0.7481 - val_f1_score: 0.1875 - val_loss: 0.0802 - val_precision: 0.3084 - val_recall: 0.1675 - learning_rate: 6.2500e-06\n"
     ]
    },
    {
     "name": "stderr",
     "output_type": "stream",
     "text": [
      "2025-06-22 03:12:11 - INFO - \n",
      "=== Starting Epoch 34 ===\n",
      "\n"
     ]
    },
    {
     "name": "stdout",
     "output_type": "stream",
     "text": [
      "Epoch 34/100\n",
      "\u001b[1m813/813\u001b[0m \u001b[32m━━━━━━━━━━━━━━━━━━━━\u001b[0m\u001b[37m\u001b[0m \u001b[1m0s\u001b[0m 264ms/step - accuracy: 0.9499 - auc: 0.9479 - f1_score: 0.5952 - loss: 0.0295 - precision: 0.7638 - recall: 0.5153  "
     ]
    },
    {
     "name": "stderr",
     "output_type": "stream",
     "text": [
      "2025-06-22 03:15:59 - INFO - \n",
      "=== Epoch 34 Summary ===\n",
      "2025-06-22 03:15:59 - INFO - Time: 227.83s\n",
      "2025-06-22 03:15:59 - INFO - Training   - accuracy: 0.9501 - auc: 0.9485 - f1_score: 0.5968 - loss: 0.0294 - precision: 0.7642 - recall: 0.5175 - learning_rate: 0.0000\n",
      "2025-06-22 03:15:59 - INFO - Validation - accuracy: 0.9271 - auc: 0.7412 - f1_score: 0.2304 - loss: 0.0761 - precision: 0.2838 - recall: 0.2077\n",
      "2025-06-22 03:15:59 - INFO - ==================================================\n",
      "\n"
     ]
    },
    {
     "name": "stdout",
     "output_type": "stream",
     "text": [
      "\u001b[1m813/813\u001b[0m \u001b[32m━━━━━━━━━━━━━━━━━━━━\u001b[0m\u001b[37m\u001b[0m \u001b[1m228s\u001b[0m 280ms/step - accuracy: 0.9499 - auc: 0.9479 - f1_score: 0.5952 - loss: 0.0295 - precision: 0.7638 - recall: 0.5153 - val_accuracy: 0.9271 - val_auc: 0.7412 - val_f1_score: 0.2304 - val_loss: 0.0761 - val_precision: 0.2838 - val_recall: 0.2077 - learning_rate: 6.2500e-06\n"
     ]
    },
    {
     "name": "stderr",
     "output_type": "stream",
     "text": [
      "2025-06-22 03:15:59 - INFO - \n",
      "=== Starting Epoch 35 ===\n",
      "\n"
     ]
    },
    {
     "name": "stdout",
     "output_type": "stream",
     "text": [
      "Epoch 35/100\n",
      "\u001b[1m813/813\u001b[0m \u001b[32m━━━━━━━━━━━━━━━━━━━━\u001b[0m\u001b[37m\u001b[0m \u001b[1m0s\u001b[0m 272ms/step - accuracy: 0.9509 - auc: 0.9502 - f1_score: 0.6095 - loss: 0.0290 - precision: 0.7666 - recall: 0.5331  \n",
      "Epoch 35: ReduceLROnPlateau reducing learning rate to 3.12499992105586e-06.\n"
     ]
    },
    {
     "name": "stderr",
     "output_type": "stream",
     "text": [
      "2025-06-22 03:19:53 - INFO - \n",
      "=== Epoch 35 Summary ===\n",
      "2025-06-22 03:19:53 - INFO - Time: 234.35s\n",
      "2025-06-22 03:19:53 - INFO - Training   - accuracy: 0.9513 - auc: 0.9514 - f1_score: 0.6124 - loss: 0.0287 - precision: 0.7690 - recall: 0.5359 - learning_rate: 0.0000\n",
      "2025-06-22 03:19:53 - INFO - Validation - accuracy: 0.9300 - auc: 0.7458 - f1_score: 0.2183 - loss: 0.0794 - precision: 0.2973 - recall: 0.1940\n",
      "2025-06-22 03:19:53 - INFO - ==================================================\n",
      "\n"
     ]
    },
    {
     "name": "stdout",
     "output_type": "stream",
     "text": [
      "\u001b[1m813/813\u001b[0m \u001b[32m━━━━━━━━━━━━━━━━━━━━\u001b[0m\u001b[37m\u001b[0m \u001b[1m234s\u001b[0m 288ms/step - accuracy: 0.9509 - auc: 0.9502 - f1_score: 0.6095 - loss: 0.0290 - precision: 0.7666 - recall: 0.5331 - val_accuracy: 0.9300 - val_auc: 0.7458 - val_f1_score: 0.2183 - val_loss: 0.0794 - val_precision: 0.2973 - val_recall: 0.1940 - learning_rate: 6.2500e-06\n"
     ]
    },
    {
     "name": "stderr",
     "output_type": "stream",
     "text": [
      "2025-06-22 03:19:53 - INFO - \n",
      "=== Starting Epoch 36 ===\n",
      "\n"
     ]
    },
    {
     "name": "stdout",
     "output_type": "stream",
     "text": [
      "Epoch 36/100\n",
      "\u001b[1m813/813\u001b[0m \u001b[32m━━━━━━━━━━━━━━━━━━━━\u001b[0m\u001b[37m\u001b[0m \u001b[1m0s\u001b[0m 272ms/step - accuracy: 0.9530 - auc: 0.9547 - f1_score: 0.6303 - loss: 0.0279 - precision: 0.7803 - recall: 0.5539  "
     ]
    },
    {
     "name": "stderr",
     "output_type": "stream",
     "text": [
      "2025-06-22 03:23:48 - INFO - \n",
      "=== Epoch 36 Summary ===\n",
      "2025-06-22 03:23:48 - INFO - Time: 234.72s\n",
      "2025-06-22 03:23:48 - INFO - Training   - accuracy: 0.9537 - auc: 0.9565 - f1_score: 0.6346 - loss: 0.0274 - precision: 0.7848 - recall: 0.5585 - learning_rate: 0.0000\n",
      "2025-06-22 03:23:48 - INFO - Validation - accuracy: 0.9282 - auc: 0.7459 - f1_score: 0.2191 - loss: 0.0794 - precision: 0.2768 - recall: 0.1833\n",
      "2025-06-22 03:23:48 - INFO - ==================================================\n",
      "\n"
     ]
    },
    {
     "name": "stdout",
     "output_type": "stream",
     "text": [
      "\u001b[1m813/813\u001b[0m \u001b[32m━━━━━━━━━━━━━━━━━━━━\u001b[0m\u001b[37m\u001b[0m \u001b[1m235s\u001b[0m 289ms/step - accuracy: 0.9530 - auc: 0.9547 - f1_score: 0.6303 - loss: 0.0279 - precision: 0.7803 - recall: 0.5539 - val_accuracy: 0.9282 - val_auc: 0.7459 - val_f1_score: 0.2191 - val_loss: 0.0794 - val_precision: 0.2768 - val_recall: 0.1833 - learning_rate: 3.1250e-06\n"
     ]
    },
    {
     "name": "stderr",
     "output_type": "stream",
     "text": [
      "2025-06-22 03:23:48 - INFO - \n",
      "=== Starting Epoch 37 ===\n",
      "\n"
     ]
    },
    {
     "name": "stdout",
     "output_type": "stream",
     "text": [
      "Epoch 37/100\n",
      "\u001b[1m813/813\u001b[0m \u001b[32m━━━━━━━━━━━━━━━━━━━━\u001b[0m\u001b[37m\u001b[0m \u001b[1m0s\u001b[0m 272ms/step - accuracy: 0.9540 - auc: 0.9572 - f1_score: 0.6400 - loss: 0.0273 - precision: 0.7849 - recall: 0.5652  "
     ]
    },
    {
     "name": "stderr",
     "output_type": "stream",
     "text": [
      "2025-06-22 03:27:43 - INFO - \n",
      "=== Epoch 37 Summary ===\n",
      "2025-06-22 03:27:43 - INFO - Time: 234.66s\n",
      "2025-06-22 03:27:43 - INFO - Training   - accuracy: 0.9545 - auc: 0.9585 - f1_score: 0.6438 - loss: 0.0269 - precision: 0.7880 - recall: 0.5689 - learning_rate: 0.0000\n",
      "2025-06-22 03:27:43 - INFO - Validation - accuracy: 0.9325 - auc: 0.7419 - f1_score: 0.2226 - loss: 0.0773 - precision: 0.3155 - recall: 0.1870\n",
      "2025-06-22 03:27:43 - INFO - ==================================================\n",
      "\n"
     ]
    },
    {
     "name": "stdout",
     "output_type": "stream",
     "text": [
      "\u001b[1m813/813\u001b[0m \u001b[32m━━━━━━━━━━━━━━━━━━━━\u001b[0m\u001b[37m\u001b[0m \u001b[1m235s\u001b[0m 289ms/step - accuracy: 0.9540 - auc: 0.9572 - f1_score: 0.6400 - loss: 0.0273 - precision: 0.7849 - recall: 0.5652 - val_accuracy: 0.9325 - val_auc: 0.7419 - val_f1_score: 0.2226 - val_loss: 0.0773 - val_precision: 0.3155 - val_recall: 0.1870 - learning_rate: 3.1250e-06\n"
     ]
    },
    {
     "name": "stderr",
     "output_type": "stream",
     "text": [
      "2025-06-22 03:27:43 - INFO - \n",
      "=== Starting Epoch 38 ===\n",
      "\n"
     ]
    },
    {
     "name": "stdout",
     "output_type": "stream",
     "text": [
      "Epoch 38/100\n",
      "\u001b[1m813/813\u001b[0m \u001b[32m━━━━━━━━━━━━━━━━━━━━\u001b[0m\u001b[37m\u001b[0m \u001b[1m0s\u001b[0m 272ms/step - accuracy: 0.9549 - auc: 0.9595 - f1_score: 0.6490 - loss: 0.0267 - precision: 0.7919 - recall: 0.5745  \n",
      "Epoch 38: ReduceLROnPlateau reducing learning rate to 1.56249996052793e-06.\n"
     ]
    },
    {
     "name": "stderr",
     "output_type": "stream",
     "text": [
      "2025-06-22 03:31:38 - INFO - \n",
      "=== Epoch 38 Summary ===\n",
      "2025-06-22 03:31:38 - INFO - Time: 234.92s\n",
      "2025-06-22 03:31:38 - INFO - Training   - accuracy: 0.9555 - auc: 0.9601 - f1_score: 0.6522 - loss: 0.0265 - precision: 0.7935 - recall: 0.5783 - learning_rate: 0.0000\n",
      "2025-06-22 03:31:38 - INFO - Validation - accuracy: 0.9266 - auc: 0.7407 - f1_score: 0.2230 - loss: 0.0792 - precision: 0.2802 - recall: 0.2067\n",
      "2025-06-22 03:31:38 - INFO - ==================================================\n",
      "\n"
     ]
    },
    {
     "name": "stdout",
     "output_type": "stream",
     "text": [
      "\u001b[1m813/813\u001b[0m \u001b[32m━━━━━━━━━━━━━━━━━━━━\u001b[0m\u001b[37m\u001b[0m \u001b[1m235s\u001b[0m 289ms/step - accuracy: 0.9549 - auc: 0.9595 - f1_score: 0.6490 - loss: 0.0267 - precision: 0.7919 - recall: 0.5745 - val_accuracy: 0.9266 - val_auc: 0.7407 - val_f1_score: 0.2230 - val_loss: 0.0792 - val_precision: 0.2802 - val_recall: 0.2067 - learning_rate: 3.1250e-06\n"
     ]
    },
    {
     "name": "stderr",
     "output_type": "stream",
     "text": [
      "2025-06-22 03:31:38 - INFO - \n",
      "=== Starting Epoch 39 ===\n",
      "\n"
     ]
    },
    {
     "name": "stdout",
     "output_type": "stream",
     "text": [
      "Epoch 39/100\n",
      "\u001b[1m813/813\u001b[0m \u001b[32m━━━━━━━━━━━━━━━━━━━━\u001b[0m\u001b[37m\u001b[0m \u001b[1m0s\u001b[0m 273ms/step - accuracy: 0.9559 - auc: 0.9612 - f1_score: 0.6585 - loss: 0.0264 - precision: 0.7991 - recall: 0.5842  "
     ]
    },
    {
     "name": "stderr",
     "output_type": "stream",
     "text": [
      "2025-06-22 03:35:33 - INFO - \n",
      "=== Epoch 39 Summary ===\n",
      "2025-06-22 03:35:33 - INFO - Time: 235.84s\n",
      "2025-06-22 03:35:33 - INFO - Training   - accuracy: 0.9569 - auc: 0.9629 - f1_score: 0.6651 - loss: 0.0258 - precision: 0.8024 - recall: 0.5918 - learning_rate: 0.0000\n",
      "2025-06-22 03:35:33 - INFO - Validation - accuracy: 0.9339 - auc: 0.7440 - f1_score: 0.2239 - loss: 0.0788 - precision: 0.3265 - recall: 0.1825\n",
      "2025-06-22 03:35:33 - INFO - ==================================================\n",
      "\n"
     ]
    },
    {
     "name": "stdout",
     "output_type": "stream",
     "text": [
      "\u001b[1m813/813\u001b[0m \u001b[32m━━━━━━━━━━━━━━━━━━━━\u001b[0m\u001b[37m\u001b[0m \u001b[1m236s\u001b[0m 290ms/step - accuracy: 0.9559 - auc: 0.9612 - f1_score: 0.6585 - loss: 0.0263 - precision: 0.7991 - recall: 0.5842 - val_accuracy: 0.9339 - val_auc: 0.7440 - val_f1_score: 0.2239 - val_loss: 0.0788 - val_precision: 0.3265 - val_recall: 0.1825 - learning_rate: 1.5625e-06\n"
     ]
    },
    {
     "name": "stderr",
     "output_type": "stream",
     "text": [
      "2025-06-22 03:35:33 - INFO - \n",
      "=== Starting Epoch 40 ===\n",
      "\n"
     ]
    },
    {
     "name": "stdout",
     "output_type": "stream",
     "text": [
      "Epoch 40/100\n",
      "\u001b[1m813/813\u001b[0m \u001b[32m━━━━━━━━━━━━━━━━━━━━\u001b[0m\u001b[37m\u001b[0m \u001b[1m0s\u001b[0m 276ms/step - accuracy: 0.9576 - auc: 0.9631 - f1_score: 0.6724 - loss: 0.0257 - precision: 0.8071 - recall: 0.5994  "
     ]
    },
    {
     "name": "stderr",
     "output_type": "stream",
     "text": [
      "2025-06-22 03:39:34 - INFO - \n",
      "=== Epoch 40 Summary ===\n",
      "2025-06-22 03:39:34 - INFO - Time: 240.12s\n",
      "2025-06-22 03:39:34 - INFO - Training   - accuracy: 0.9579 - auc: 0.9640 - f1_score: 0.6741 - loss: 0.0255 - precision: 0.8075 - recall: 0.6016 - learning_rate: 0.0000\n",
      "2025-06-22 03:39:34 - INFO - Validation - accuracy: 0.9268 - auc: 0.7449 - f1_score: 0.2607 - loss: 0.0789 - precision: 0.3038 - recall: 0.2495\n",
      "2025-06-22 03:39:34 - INFO - ==================================================\n",
      "\n"
     ]
    },
    {
     "name": "stdout",
     "output_type": "stream",
     "text": [
      "\u001b[1m813/813\u001b[0m \u001b[32m━━━━━━━━━━━━━━━━━━━━\u001b[0m\u001b[37m\u001b[0m \u001b[1m240s\u001b[0m 296ms/step - accuracy: 0.9576 - auc: 0.9631 - f1_score: 0.6724 - loss: 0.0257 - precision: 0.8071 - recall: 0.5994 - val_accuracy: 0.9268 - val_auc: 0.7449 - val_f1_score: 0.2607 - val_loss: 0.0789 - val_precision: 0.3038 - val_recall: 0.2495 - learning_rate: 1.5625e-06\n"
     ]
    },
    {
     "name": "stderr",
     "output_type": "stream",
     "text": [
      "2025-06-22 03:39:34 - INFO - \n",
      "=== Starting Epoch 41 ===\n",
      "\n"
     ]
    },
    {
     "name": "stdout",
     "output_type": "stream",
     "text": [
      "Epoch 41/100\n",
      "\u001b[1m813/813\u001b[0m \u001b[32m━━━━━━━━━━━━━━━━━━━━\u001b[0m\u001b[37m\u001b[0m \u001b[1m0s\u001b[0m 276ms/step - accuracy: 0.9577 - auc: 0.9642 - f1_score: 0.6759 - loss: 0.0255 - precision: 0.8081 - recall: 0.6041  "
     ]
    },
    {
     "name": "stderr",
     "output_type": "stream",
     "text": [
      "2025-06-22 03:43:32 - INFO - \n",
      "=== Epoch 41 Summary ===\n",
      "2025-06-22 03:43:32 - INFO - Time: 238.32s\n",
      "2025-06-22 03:43:32 - INFO - Training   - accuracy: 0.9581 - auc: 0.9649 - f1_score: 0.6773 - loss: 0.0254 - precision: 0.8072 - recall: 0.6063 - learning_rate: 0.0000\n",
      "2025-06-22 03:43:32 - INFO - Validation - accuracy: 0.9338 - auc: 0.7459 - f1_score: 0.2209 - loss: 0.0805 - precision: 0.3240 - recall: 0.1802\n",
      "2025-06-22 03:43:32 - INFO - ==================================================\n",
      "\n"
     ]
    },
    {
     "name": "stdout",
     "output_type": "stream",
     "text": [
      "\u001b[1m813/813\u001b[0m \u001b[32m━━━━━━━━━━━━━━━━━━━━\u001b[0m\u001b[37m\u001b[0m \u001b[1m238s\u001b[0m 293ms/step - accuracy: 0.9577 - auc: 0.9642 - f1_score: 0.6759 - loss: 0.0255 - precision: 0.8081 - recall: 0.6041 - val_accuracy: 0.9338 - val_auc: 0.7459 - val_f1_score: 0.2209 - val_loss: 0.0805 - val_precision: 0.3240 - val_recall: 0.1802 - learning_rate: 1.5625e-06\n"
     ]
    },
    {
     "name": "stderr",
     "output_type": "stream",
     "text": [
      "2025-06-22 03:43:32 - INFO - \n",
      "=== Starting Epoch 42 ===\n",
      "\n"
     ]
    },
    {
     "name": "stdout",
     "output_type": "stream",
     "text": [
      "Epoch 42/100\n",
      "\u001b[1m813/813\u001b[0m \u001b[32m━━━━━━━━━━━━━━━━━━━━\u001b[0m\u001b[37m\u001b[0m \u001b[1m0s\u001b[0m 274ms/step - accuracy: 0.9585 - auc: 0.9654 - f1_score: 0.6827 - loss: 0.0253 - precision: 0.8130 - recall: 0.6106  "
     ]
    },
    {
     "name": "stderr",
     "output_type": "stream",
     "text": [
      "2025-06-22 03:47:28 - INFO - \n",
      "=== Epoch 42 Summary ===\n",
      "2025-06-22 03:47:28 - INFO - Time: 236.50s\n",
      "2025-06-22 03:47:28 - INFO - Training   - accuracy: 0.9587 - auc: 0.9660 - f1_score: 0.6827 - loss: 0.0251 - precision: 0.8122 - recall: 0.6114 - learning_rate: 0.0000\n",
      "2025-06-22 03:47:28 - INFO - Validation - accuracy: 0.9334 - auc: 0.7453 - f1_score: 0.2285 - loss: 0.0824 - precision: 0.3233 - recall: 0.1851\n",
      "2025-06-22 03:47:28 - INFO - ==================================================\n",
      "\n"
     ]
    },
    {
     "name": "stdout",
     "output_type": "stream",
     "text": [
      "\u001b[1m813/813\u001b[0m \u001b[32m━━━━━━━━━━━━━━━━━━━━\u001b[0m\u001b[37m\u001b[0m \u001b[1m237s\u001b[0m 291ms/step - accuracy: 0.9585 - auc: 0.9654 - f1_score: 0.6827 - loss: 0.0253 - precision: 0.8130 - recall: 0.6106 - val_accuracy: 0.9334 - val_auc: 0.7453 - val_f1_score: 0.2285 - val_loss: 0.0824 - val_precision: 0.3233 - val_recall: 0.1851 - learning_rate: 1.5625e-06\n"
     ]
    },
    {
     "name": "stderr",
     "output_type": "stream",
     "text": [
      "2025-06-22 03:47:29 - INFO - \n",
      "=== Starting Epoch 43 ===\n",
      "\n"
     ]
    },
    {
     "name": "stdout",
     "output_type": "stream",
     "text": [
      "Epoch 43/100\n",
      "\u001b[1m813/813\u001b[0m \u001b[32m━━━━━━━━━━━━━━━━━━━━\u001b[0m\u001b[37m\u001b[0m \u001b[1m0s\u001b[0m 276ms/step - accuracy: 0.9590 - auc: 0.9659 - f1_score: 0.6859 - loss: 0.0251 - precision: 0.8140 - recall: 0.6144  \n",
      "Epoch 43: ReduceLROnPlateau reducing learning rate to 1e-06.\n"
     ]
    },
    {
     "name": "stderr",
     "output_type": "stream",
     "text": [
      "2025-06-22 03:51:34 - INFO - \n",
      "=== Epoch 43 Summary ===\n",
      "2025-06-22 03:51:34 - INFO - Time: 245.78s\n",
      "2025-06-22 03:51:34 - INFO - Training   - accuracy: 0.9592 - auc: 0.9665 - f1_score: 0.6873 - loss: 0.0249 - precision: 0.8141 - recall: 0.6165 - learning_rate: 0.0000\n",
      "2025-06-22 03:51:34 - INFO - Validation - accuracy: 0.9327 - auc: 0.7443 - f1_score: 0.2361 - loss: 0.0826 - precision: 0.3229 - recall: 0.1967\n",
      "2025-06-22 03:51:34 - INFO - ==================================================\n",
      "\n"
     ]
    },
    {
     "name": "stdout",
     "output_type": "stream",
     "text": [
      "\u001b[1m813/813\u001b[0m \u001b[32m━━━━━━━━━━━━━━━━━━━━\u001b[0m\u001b[37m\u001b[0m \u001b[1m246s\u001b[0m 302ms/step - accuracy: 0.9590 - auc: 0.9659 - f1_score: 0.6859 - loss: 0.0251 - precision: 0.8140 - recall: 0.6144 - val_accuracy: 0.9327 - val_auc: 0.7443 - val_f1_score: 0.2361 - val_loss: 0.0826 - val_precision: 0.3229 - val_recall: 0.1967 - learning_rate: 1.5625e-06\n"
     ]
    },
    {
     "name": "stderr",
     "output_type": "stream",
     "text": [
      "2025-06-22 03:51:34 - INFO - \n",
      "=== Starting Epoch 44 ===\n",
      "\n"
     ]
    },
    {
     "name": "stdout",
     "output_type": "stream",
     "text": [
      "Epoch 44/100\n",
      "\u001b[1m813/813\u001b[0m \u001b[32m━━━━━━━━━━━━━━━━━━━━\u001b[0m\u001b[37m\u001b[0m \u001b[1m0s\u001b[0m 276ms/step - accuracy: 0.9595 - auc: 0.9675 - f1_score: 0.6923 - loss: 0.0247 - precision: 0.8172 - recall: 0.6214  "
     ]
    },
    {
     "name": "stderr",
     "output_type": "stream",
     "text": [
      "2025-06-22 03:55:32 - INFO - \n",
      "=== Epoch 44 Summary ===\n",
      "2025-06-22 03:55:32 - INFO - Time: 237.76s\n",
      "2025-06-22 03:55:32 - INFO - Training   - accuracy: 0.9598 - auc: 0.9678 - f1_score: 0.6930 - loss: 0.0245 - precision: 0.8167 - recall: 0.6232 - learning_rate: 0.0000\n",
      "2025-06-22 03:55:32 - INFO - Validation - accuracy: 0.9345 - auc: 0.7454 - f1_score: 0.2239 - loss: 0.0832 - precision: 0.3314 - recall: 0.1804\n",
      "2025-06-22 03:55:32 - INFO - ==================================================\n",
      "\n"
     ]
    },
    {
     "name": "stdout",
     "output_type": "stream",
     "text": [
      "\u001b[1m813/813\u001b[0m \u001b[32m━━━━━━━━━━━━━━━━━━━━\u001b[0m\u001b[37m\u001b[0m \u001b[1m238s\u001b[0m 293ms/step - accuracy: 0.9595 - auc: 0.9675 - f1_score: 0.6923 - loss: 0.0247 - precision: 0.8172 - recall: 0.6214 - val_accuracy: 0.9345 - val_auc: 0.7454 - val_f1_score: 0.2239 - val_loss: 0.0832 - val_precision: 0.3314 - val_recall: 0.1804 - learning_rate: 1.0000e-06\n"
     ]
    },
    {
     "name": "stderr",
     "output_type": "stream",
     "text": [
      "2025-06-22 03:55:32 - INFO - \n",
      "=== Starting Epoch 45 ===\n",
      "\n"
     ]
    },
    {
     "name": "stdout",
     "output_type": "stream",
     "text": [
      "Epoch 45/100\n",
      "\u001b[1m813/813\u001b[0m \u001b[32m━━━━━━━━━━━━━━━━━━━━\u001b[0m\u001b[37m\u001b[0m \u001b[1m0s\u001b[0m 274ms/step - accuracy: 0.9597 - auc: 0.9681 - f1_score: 0.6947 - loss: 0.0246 - precision: 0.8183 - recall: 0.6251  "
     ]
    },
    {
     "name": "stderr",
     "output_type": "stream",
     "text": [
      "2025-06-22 03:59:29 - INFO - \n",
      "=== Epoch 45 Summary ===\n",
      "2025-06-22 03:59:29 - INFO - Time: 236.61s\n",
      "2025-06-22 03:59:29 - INFO - Training   - accuracy: 0.9600 - auc: 0.9683 - f1_score: 0.6956 - loss: 0.0245 - precision: 0.8177 - recall: 0.6268 - learning_rate: 0.0000\n",
      "2025-06-22 03:59:29 - INFO - Validation - accuracy: 0.9342 - auc: 0.7436 - f1_score: 0.2211 - loss: 0.0835 - precision: 0.3288 - recall: 0.1806\n",
      "2025-06-22 03:59:29 - INFO - ==================================================\n",
      "\n"
     ]
    },
    {
     "name": "stdout",
     "output_type": "stream",
     "text": [
      "\u001b[1m813/813\u001b[0m \u001b[32m━━━━━━━━━━━━━━━━━━━━\u001b[0m\u001b[37m\u001b[0m \u001b[1m237s\u001b[0m 291ms/step - accuracy: 0.9597 - auc: 0.9681 - f1_score: 0.6947 - loss: 0.0246 - precision: 0.8183 - recall: 0.6251 - val_accuracy: 0.9342 - val_auc: 0.7436 - val_f1_score: 0.2211 - val_loss: 0.0835 - val_precision: 0.3288 - val_recall: 0.1806 - learning_rate: 1.0000e-06\n"
     ]
    },
    {
     "name": "stderr",
     "output_type": "stream",
     "text": [
      "2025-06-22 03:59:29 - INFO - \n",
      "=== Starting Epoch 46 ===\n",
      "\n"
     ]
    },
    {
     "name": "stdout",
     "output_type": "stream",
     "text": [
      "Epoch 46/100\n",
      "\u001b[1m813/813\u001b[0m \u001b[32m━━━━━━━━━━━━━━━━━━━━\u001b[0m\u001b[37m\u001b[0m \u001b[1m0s\u001b[0m 275ms/step - accuracy: 0.9605 - auc: 0.9682 - f1_score: 0.6990 - loss: 0.0244 - precision: 0.8215 - recall: 0.6291  "
     ]
    },
    {
     "name": "stderr",
     "output_type": "stream",
     "text": [
      "2025-06-22 04:03:26 - INFO - \n",
      "=== Epoch 46 Summary ===\n",
      "2025-06-22 04:03:26 - INFO - Time: 237.59s\n",
      "2025-06-22 04:03:26 - INFO - Training   - accuracy: 0.9605 - auc: 0.9686 - f1_score: 0.6993 - loss: 0.0243 - precision: 0.8206 - recall: 0.6303 - learning_rate: 0.0000\n",
      "2025-06-22 04:03:26 - INFO - Validation - accuracy: 0.9349 - auc: 0.7442 - f1_score: 0.2217 - loss: 0.0832 - precision: 0.3343 - recall: 0.1764\n",
      "2025-06-22 04:03:26 - INFO - ==================================================\n",
      "\n"
     ]
    },
    {
     "name": "stdout",
     "output_type": "stream",
     "text": [
      "\u001b[1m813/813\u001b[0m \u001b[32m━━━━━━━━━━━━━━━━━━━━\u001b[0m\u001b[37m\u001b[0m \u001b[1m238s\u001b[0m 292ms/step - accuracy: 0.9605 - auc: 0.9682 - f1_score: 0.6990 - loss: 0.0244 - precision: 0.8215 - recall: 0.6291 - val_accuracy: 0.9349 - val_auc: 0.7442 - val_f1_score: 0.2217 - val_loss: 0.0832 - val_precision: 0.3343 - val_recall: 0.1764 - learning_rate: 1.0000e-06\n"
     ]
    },
    {
     "name": "stderr",
     "output_type": "stream",
     "text": [
      "2025-06-22 04:03:26 - INFO - \n",
      "=== Starting Epoch 47 ===\n",
      "\n"
     ]
    },
    {
     "name": "stdout",
     "output_type": "stream",
     "text": [
      "Epoch 47/100\n",
      "\u001b[1m813/813\u001b[0m \u001b[32m━━━━━━━━━━━━━━━━━━━━\u001b[0m\u001b[37m\u001b[0m \u001b[1m0s\u001b[0m 272ms/step - accuracy: 0.9605 - auc: 0.9692 - f1_score: 0.7007 - loss: 0.0243 - precision: 0.8208 - recall: 0.6313  "
     ]
    },
    {
     "name": "stderr",
     "output_type": "stream",
     "text": [
      "2025-06-22 04:07:21 - INFO - \n",
      "=== Epoch 47 Summary ===\n",
      "2025-06-22 04:07:21 - INFO - Time: 234.95s\n",
      "2025-06-22 04:07:21 - INFO - Training   - accuracy: 0.9608 - auc: 0.9693 - f1_score: 0.7018 - loss: 0.0242 - precision: 0.8201 - recall: 0.6339 - learning_rate: 0.0000\n",
      "2025-06-22 04:07:21 - INFO - Validation - accuracy: 0.9322 - auc: 0.7444 - f1_score: 0.2395 - loss: 0.0810 - precision: 0.3211 - recall: 0.2014\n",
      "2025-06-22 04:07:21 - INFO - ==================================================\n",
      "\n"
     ]
    },
    {
     "name": "stdout",
     "output_type": "stream",
     "text": [
      "\u001b[1m813/813\u001b[0m \u001b[32m━━━━━━━━━━━━━━━━━━━━\u001b[0m\u001b[37m\u001b[0m \u001b[1m235s\u001b[0m 289ms/step - accuracy: 0.9605 - auc: 0.9692 - f1_score: 0.7007 - loss: 0.0243 - precision: 0.8208 - recall: 0.6313 - val_accuracy: 0.9322 - val_auc: 0.7444 - val_f1_score: 0.2395 - val_loss: 0.0810 - val_precision: 0.3211 - val_recall: 0.2014 - learning_rate: 1.0000e-06\n"
     ]
    },
    {
     "name": "stderr",
     "output_type": "stream",
     "text": [
      "2025-06-22 04:07:21 - INFO - \n",
      "=== Starting Epoch 48 ===\n",
      "\n"
     ]
    },
    {
     "name": "stdout",
     "output_type": "stream",
     "text": [
      "Epoch 48/100\n",
      "\u001b[1m813/813\u001b[0m \u001b[32m━━━━━━━━━━━━━━━━━━━━\u001b[0m\u001b[37m\u001b[0m \u001b[1m0s\u001b[0m 272ms/step - accuracy: 0.9608 - auc: 0.9697 - f1_score: 0.7064 - loss: 0.0242 - precision: 0.8247 - recall: 0.6376  "
     ]
    },
    {
     "name": "stderr",
     "output_type": "stream",
     "text": [
      "2025-06-22 04:11:16 - INFO - \n",
      "=== Epoch 48 Summary ===\n",
      "2025-06-22 04:11:16 - INFO - Time: 235.10s\n",
      "2025-06-22 04:11:16 - INFO - Training   - accuracy: 0.9611 - auc: 0.9700 - f1_score: 0.7064 - loss: 0.0240 - precision: 0.8225 - recall: 0.6390 - learning_rate: 0.0000\n",
      "2025-06-22 04:11:16 - INFO - Validation - accuracy: 0.9304 - auc: 0.7446 - f1_score: 0.2486 - loss: 0.0821 - precision: 0.3186 - recall: 0.2250\n",
      "2025-06-22 04:11:16 - INFO - ==================================================\n",
      "\n"
     ]
    },
    {
     "name": "stdout",
     "output_type": "stream",
     "text": [
      "\u001b[1m813/813\u001b[0m \u001b[32m━━━━━━━━━━━━━━━━━━━━\u001b[0m\u001b[37m\u001b[0m \u001b[1m235s\u001b[0m 289ms/step - accuracy: 0.9608 - auc: 0.9697 - f1_score: 0.7064 - loss: 0.0242 - precision: 0.8247 - recall: 0.6376 - val_accuracy: 0.9304 - val_auc: 0.7446 - val_f1_score: 0.2486 - val_loss: 0.0821 - val_precision: 0.3186 - val_recall: 0.2250 - learning_rate: 1.0000e-06\n"
     ]
    },
    {
     "name": "stderr",
     "output_type": "stream",
     "text": [
      "2025-06-22 04:11:16 - INFO - \n",
      "=== Starting Epoch 49 ===\n",
      "\n"
     ]
    },
    {
     "name": "stdout",
     "output_type": "stream",
     "text": [
      "Epoch 49/100\n",
      "\u001b[1m813/813\u001b[0m \u001b[32m━━━━━━━━━━━━━━━━━━━━\u001b[0m\u001b[37m\u001b[0m \u001b[1m0s\u001b[0m 273ms/step - accuracy: 0.9614 - auc: 0.9699 - f1_score: 0.7089 - loss: 0.0239 - precision: 0.8265 - recall: 0.6408  "
     ]
    },
    {
     "name": "stderr",
     "output_type": "stream",
     "text": [
      "2025-06-22 04:15:13 - INFO - \n",
      "=== Epoch 49 Summary ===\n",
      "2025-06-22 04:15:13 - INFO - Time: 236.15s\n",
      "2025-06-22 04:15:13 - INFO - Training   - accuracy: 0.9616 - auc: 0.9704 - f1_score: 0.7099 - loss: 0.0238 - precision: 0.8252 - recall: 0.6430 - learning_rate: 0.0000\n",
      "2025-06-22 04:15:13 - INFO - Validation - accuracy: 0.9316 - auc: 0.7434 - f1_score: 0.2362 - loss: 0.0837 - precision: 0.3127 - recall: 0.1964\n",
      "2025-06-22 04:15:13 - INFO - ==================================================\n",
      "\n"
     ]
    },
    {
     "name": "stdout",
     "output_type": "stream",
     "text": [
      "\u001b[1m813/813\u001b[0m \u001b[32m━━━━━━━━━━━━━━━━━━━━\u001b[0m\u001b[37m\u001b[0m \u001b[1m236s\u001b[0m 291ms/step - accuracy: 0.9614 - auc: 0.9699 - f1_score: 0.7089 - loss: 0.0239 - precision: 0.8265 - recall: 0.6408 - val_accuracy: 0.9316 - val_auc: 0.7434 - val_f1_score: 0.2362 - val_loss: 0.0837 - val_precision: 0.3127 - val_recall: 0.1964 - learning_rate: 1.0000e-06\n"
     ]
    },
    {
     "name": "stderr",
     "output_type": "stream",
     "text": [
      "2025-06-22 04:15:13 - INFO - \n",
      "=== Starting Epoch 50 ===\n",
      "\n"
     ]
    },
    {
     "name": "stdout",
     "output_type": "stream",
     "text": [
      "Epoch 50/100\n",
      "\u001b[1m813/813\u001b[0m \u001b[32m━━━━━━━━━━━━━━━━━━━━\u001b[0m\u001b[37m\u001b[0m \u001b[1m0s\u001b[0m 275ms/step - accuracy: 0.9616 - auc: 0.9704 - f1_score: 0.7098 - loss: 0.0238 - precision: 0.8261 - recall: 0.6424  "
     ]
    },
    {
     "name": "stderr",
     "output_type": "stream",
     "text": [
      "2025-06-22 04:19:09 - INFO - \n",
      "=== Epoch 50 Summary ===\n",
      "2025-06-22 04:19:09 - INFO - Time: 236.83s\n",
      "2025-06-22 04:19:09 - INFO - Training   - accuracy: 0.9618 - auc: 0.9710 - f1_score: 0.7123 - loss: 0.0237 - precision: 0.8259 - recall: 0.6457 - learning_rate: 0.0000\n",
      "2025-06-22 04:19:09 - INFO - Validation - accuracy: 0.9287 - auc: 0.7454 - f1_score: 0.2547 - loss: 0.0813 - precision: 0.3074 - recall: 0.2293\n",
      "2025-06-22 04:19:09 - INFO - ==================================================\n",
      "\n"
     ]
    },
    {
     "name": "stdout",
     "output_type": "stream",
     "text": [
      "\u001b[1m813/813\u001b[0m \u001b[32m━━━━━━━━━━━━━━━━━━━━\u001b[0m\u001b[37m\u001b[0m \u001b[1m237s\u001b[0m 291ms/step - accuracy: 0.9616 - auc: 0.9704 - f1_score: 0.7098 - loss: 0.0238 - precision: 0.8261 - recall: 0.6424 - val_accuracy: 0.9287 - val_auc: 0.7454 - val_f1_score: 0.2547 - val_loss: 0.0813 - val_precision: 0.3074 - val_recall: 0.2293 - learning_rate: 1.0000e-06\n"
     ]
    },
    {
     "name": "stderr",
     "output_type": "stream",
     "text": [
      "2025-06-22 04:19:09 - INFO - \n",
      "=== Starting Epoch 51 ===\n",
      "\n"
     ]
    },
    {
     "name": "stdout",
     "output_type": "stream",
     "text": [
      "Epoch 51/100\n",
      "\u001b[1m813/813\u001b[0m \u001b[32m━━━━━━━━━━━━━━━━━━━━\u001b[0m\u001b[37m\u001b[0m \u001b[1m0s\u001b[0m 274ms/step - accuracy: 0.9622 - auc: 0.9712 - f1_score: 0.7141 - loss: 0.0236 - precision: 0.8276 - recall: 0.6484  "
     ]
    },
    {
     "name": "stderr",
     "output_type": "stream",
     "text": [
      "2025-06-22 04:23:07 - INFO - \n",
      "=== Epoch 51 Summary ===\n",
      "2025-06-22 04:23:07 - INFO - Time: 237.61s\n",
      "2025-06-22 04:23:07 - INFO - Training   - accuracy: 0.9623 - auc: 0.9716 - f1_score: 0.7159 - loss: 0.0236 - precision: 0.8281 - recall: 0.6502 - learning_rate: 0.0000\n",
      "2025-06-22 04:23:07 - INFO - Validation - accuracy: 0.9274 - auc: 0.7432 - f1_score: 0.2630 - loss: 0.0826 - precision: 0.3070 - recall: 0.2479\n",
      "2025-06-22 04:23:07 - INFO - ==================================================\n",
      "\n"
     ]
    },
    {
     "name": "stdout",
     "output_type": "stream",
     "text": [
      "\u001b[1m813/813\u001b[0m \u001b[32m━━━━━━━━━━━━━━━━━━━━\u001b[0m\u001b[37m\u001b[0m \u001b[1m238s\u001b[0m 292ms/step - accuracy: 0.9622 - auc: 0.9712 - f1_score: 0.7141 - loss: 0.0236 - precision: 0.8276 - recall: 0.6484 - val_accuracy: 0.9274 - val_auc: 0.7432 - val_f1_score: 0.2630 - val_loss: 0.0826 - val_precision: 0.3070 - val_recall: 0.2479 - learning_rate: 1.0000e-06\n"
     ]
    },
    {
     "name": "stderr",
     "output_type": "stream",
     "text": [
      "2025-06-22 04:23:07 - INFO - \n",
      "=== Starting Epoch 52 ===\n",
      "\n"
     ]
    },
    {
     "name": "stdout",
     "output_type": "stream",
     "text": [
      "Epoch 52/100\n",
      "\u001b[1m813/813\u001b[0m \u001b[32m━━━━━━━━━━━━━━━━━━━━\u001b[0m\u001b[37m\u001b[0m \u001b[1m0s\u001b[0m 275ms/step - accuracy: 0.9621 - auc: 0.9714 - f1_score: 0.7149 - loss: 0.0237 - precision: 0.8281 - recall: 0.6481  "
     ]
    },
    {
     "name": "stderr",
     "output_type": "stream",
     "text": [
      "2025-06-22 04:27:06 - INFO - \n",
      "=== Epoch 52 Summary ===\n",
      "2025-06-22 04:27:06 - INFO - Time: 238.57s\n",
      "2025-06-22 04:27:06 - INFO - Training   - accuracy: 0.9625 - auc: 0.9720 - f1_score: 0.7181 - loss: 0.0236 - precision: 0.8297 - recall: 0.6521 - learning_rate: 0.0000\n",
      "2025-06-22 04:27:06 - INFO - Validation - accuracy: 0.9267 - auc: 0.7447 - f1_score: 0.2639 - loss: 0.0823 - precision: 0.3036 - recall: 0.2496\n",
      "2025-06-22 04:27:06 - INFO - ==================================================\n",
      "\n"
     ]
    },
    {
     "name": "stdout",
     "output_type": "stream",
     "text": [
      "\u001b[1m813/813\u001b[0m \u001b[32m━━━━━━━━━━━━━━━━━━━━\u001b[0m\u001b[37m\u001b[0m \u001b[1m239s\u001b[0m 294ms/step - accuracy: 0.9621 - auc: 0.9714 - f1_score: 0.7149 - loss: 0.0237 - precision: 0.8281 - recall: 0.6481 - val_accuracy: 0.9267 - val_auc: 0.7447 - val_f1_score: 0.2639 - val_loss: 0.0823 - val_precision: 0.3036 - val_recall: 0.2496 - learning_rate: 1.0000e-06\n"
     ]
    },
    {
     "name": "stderr",
     "output_type": "stream",
     "text": [
      "2025-06-22 04:27:06 - INFO - \n",
      "=== Starting Epoch 53 ===\n",
      "\n"
     ]
    },
    {
     "name": "stdout",
     "output_type": "stream",
     "text": [
      "Epoch 53/100\n",
      "\u001b[1m813/813\u001b[0m \u001b[32m━━━━━━━━━━━━━━━━━━━━\u001b[0m\u001b[37m\u001b[0m \u001b[1m0s\u001b[0m 276ms/step - accuracy: 0.9626 - auc: 0.9718 - f1_score: 0.7194 - loss: 0.0235 - precision: 0.8299 - recall: 0.6537  "
     ]
    },
    {
     "name": "stderr",
     "output_type": "stream",
     "text": [
      "2025-06-22 04:31:04 - INFO - \n",
      "=== Epoch 53 Summary ===\n",
      "2025-06-22 04:31:04 - INFO - Time: 237.88s\n",
      "2025-06-22 04:31:04 - INFO - Training   - accuracy: 0.9627 - auc: 0.9722 - f1_score: 0.7203 - loss: 0.0234 - precision: 0.8295 - recall: 0.6557 - learning_rate: 0.0000\n",
      "2025-06-22 04:31:04 - INFO - Validation - accuracy: 0.9314 - auc: 0.7438 - f1_score: 0.2450 - loss: 0.0851 - precision: 0.3193 - recall: 0.2114\n",
      "2025-06-22 04:31:04 - INFO - ==================================================\n",
      "\n"
     ]
    },
    {
     "name": "stdout",
     "output_type": "stream",
     "text": [
      "\u001b[1m813/813\u001b[0m \u001b[32m━━━━━━━━━━━━━━━━━━━━\u001b[0m\u001b[37m\u001b[0m \u001b[1m238s\u001b[0m 293ms/step - accuracy: 0.9626 - auc: 0.9718 - f1_score: 0.7194 - loss: 0.0235 - precision: 0.8299 - recall: 0.6537 - val_accuracy: 0.9314 - val_auc: 0.7438 - val_f1_score: 0.2450 - val_loss: 0.0851 - val_precision: 0.3193 - val_recall: 0.2114 - learning_rate: 1.0000e-06\n"
     ]
    },
    {
     "name": "stderr",
     "output_type": "stream",
     "text": [
      "2025-06-22 04:31:04 - INFO - \n",
      "=== Starting Epoch 54 ===\n",
      "\n"
     ]
    },
    {
     "name": "stdout",
     "output_type": "stream",
     "text": [
      "Epoch 54/100\n",
      "\u001b[1m813/813\u001b[0m \u001b[32m━━━━━━━━━━━━━━━━━━━━\u001b[0m\u001b[37m\u001b[0m \u001b[1m0s\u001b[0m 276ms/step - accuracy: 0.9626 - auc: 0.9724 - f1_score: 0.7204 - loss: 0.0235 - precision: 0.8290 - recall: 0.6558  "
     ]
    },
    {
     "name": "stderr",
     "output_type": "stream",
     "text": [
      "2025-06-22 04:35:03 - INFO - \n",
      "=== Epoch 54 Summary ===\n",
      "2025-06-22 04:35:03 - INFO - Time: 239.22s\n",
      "2025-06-22 04:35:03 - INFO - Training   - accuracy: 0.9628 - auc: 0.9729 - f1_score: 0.7221 - loss: 0.0233 - precision: 0.8294 - recall: 0.6581 - learning_rate: 0.0000\n",
      "2025-06-22 04:35:03 - INFO - Validation - accuracy: 0.9326 - auc: 0.7429 - f1_score: 0.2327 - loss: 0.0855 - precision: 0.3198 - recall: 0.1918\n",
      "2025-06-22 04:35:03 - INFO - ==================================================\n",
      "\n"
     ]
    },
    {
     "name": "stdout",
     "output_type": "stream",
     "text": [
      "\u001b[1m813/813\u001b[0m \u001b[32m━━━━━━━━━━━━━━━━━━━━\u001b[0m\u001b[37m\u001b[0m \u001b[1m239s\u001b[0m 294ms/step - accuracy: 0.9626 - auc: 0.9724 - f1_score: 0.7204 - loss: 0.0235 - precision: 0.8290 - recall: 0.6558 - val_accuracy: 0.9326 - val_auc: 0.7429 - val_f1_score: 0.2327 - val_loss: 0.0855 - val_precision: 0.3198 - val_recall: 0.1918 - learning_rate: 1.0000e-06\n"
     ]
    },
    {
     "name": "stderr",
     "output_type": "stream",
     "text": [
      "2025-06-22 04:35:03 - INFO - \n",
      "=== Starting Epoch 55 ===\n",
      "\n"
     ]
    },
    {
     "name": "stdout",
     "output_type": "stream",
     "text": [
      "Epoch 55/100\n",
      "\u001b[1m813/813\u001b[0m \u001b[32m━━━━━━━━━━━━━━━━━━━━\u001b[0m\u001b[37m\u001b[0m \u001b[1m0s\u001b[0m 276ms/step - accuracy: 0.9632 - auc: 0.9729 - f1_score: 0.7243 - loss: 0.0232 - precision: 0.8333 - recall: 0.6596  "
     ]
    },
    {
     "name": "stderr",
     "output_type": "stream",
     "text": [
      "2025-06-22 04:39:01 - INFO - \n",
      "=== Epoch 55 Summary ===\n",
      "2025-06-22 04:39:01 - INFO - Time: 238.46s\n",
      "2025-06-22 04:39:01 - INFO - Training   - accuracy: 0.9635 - auc: 0.9733 - f1_score: 0.7263 - loss: 0.0232 - precision: 0.8337 - recall: 0.6622 - learning_rate: 0.0000\n",
      "2025-06-22 04:39:01 - INFO - Validation - accuracy: 0.9323 - auc: 0.7426 - f1_score: 0.2435 - loss: 0.0867 - precision: 0.3228 - recall: 0.2022\n",
      "2025-06-22 04:39:01 - INFO - ==================================================\n",
      "\n"
     ]
    },
    {
     "name": "stdout",
     "output_type": "stream",
     "text": [
      "\u001b[1m813/813\u001b[0m \u001b[32m━━━━━━━━━━━━━━━━━━━━\u001b[0m\u001b[37m\u001b[0m \u001b[1m238s\u001b[0m 293ms/step - accuracy: 0.9632 - auc: 0.9729 - f1_score: 0.7243 - loss: 0.0232 - precision: 0.8333 - recall: 0.6596 - val_accuracy: 0.9323 - val_auc: 0.7426 - val_f1_score: 0.2435 - val_loss: 0.0867 - val_precision: 0.3228 - val_recall: 0.2022 - learning_rate: 1.0000e-06\n"
     ]
    },
    {
     "name": "stderr",
     "output_type": "stream",
     "text": [
      "2025-06-22 04:39:01 - INFO - \n",
      "=== Starting Epoch 56 ===\n",
      "\n"
     ]
    },
    {
     "name": "stdout",
     "output_type": "stream",
     "text": [
      "Epoch 56/100\n",
      "\u001b[1m813/813\u001b[0m \u001b[32m━━━━━━━━━━━━━━━━━━━━\u001b[0m\u001b[37m\u001b[0m \u001b[1m0s\u001b[0m 275ms/step - accuracy: 0.9632 - auc: 0.9734 - f1_score: 0.7269 - loss: 0.0232 - precision: 0.8334 - recall: 0.6626  "
     ]
    },
    {
     "name": "stderr",
     "output_type": "stream",
     "text": [
      "2025-06-22 04:42:59 - INFO - \n",
      "=== Epoch 56 Summary ===\n",
      "2025-06-22 04:42:59 - INFO - Time: 237.43s\n",
      "2025-06-22 04:42:59 - INFO - Training   - accuracy: 0.9636 - auc: 0.9736 - f1_score: 0.7281 - loss: 0.0231 - precision: 0.8333 - recall: 0.6648 - learning_rate: 0.0000\n",
      "2025-06-22 04:42:59 - INFO - Validation - accuracy: 0.9305 - auc: 0.7402 - f1_score: 0.2529 - loss: 0.0869 - precision: 0.3221 - recall: 0.2312\n",
      "2025-06-22 04:42:59 - INFO - ==================================================\n",
      "\n"
     ]
    },
    {
     "name": "stdout",
     "output_type": "stream",
     "text": [
      "\u001b[1m813/813\u001b[0m \u001b[32m━━━━━━━━━━━━━━━━━━━━\u001b[0m\u001b[37m\u001b[0m \u001b[1m237s\u001b[0m 292ms/step - accuracy: 0.9632 - auc: 0.9734 - f1_score: 0.7269 - loss: 0.0232 - precision: 0.8334 - recall: 0.6626 - val_accuracy: 0.9305 - val_auc: 0.7402 - val_f1_score: 0.2529 - val_loss: 0.0869 - val_precision: 0.3221 - val_recall: 0.2312 - learning_rate: 1.0000e-06\n"
     ]
    },
    {
     "name": "stderr",
     "output_type": "stream",
     "text": [
      "2025-06-22 04:42:59 - INFO - \n",
      "=== Starting Epoch 57 ===\n",
      "\n"
     ]
    },
    {
     "name": "stdout",
     "output_type": "stream",
     "text": [
      "Epoch 57/100\n",
      "\u001b[1m813/813\u001b[0m \u001b[32m━━━━━━━━━━━━━━━━━━━━\u001b[0m\u001b[37m\u001b[0m \u001b[1m0s\u001b[0m 275ms/step - accuracy: 0.9639 - auc: 0.9740 - f1_score: 0.7321 - loss: 0.0230 - precision: 0.8364 - recall: 0.6687  "
     ]
    },
    {
     "name": "stderr",
     "output_type": "stream",
     "text": [
      "2025-06-22 04:46:56 - INFO - \n",
      "=== Epoch 57 Summary ===\n",
      "2025-06-22 04:46:56 - INFO - Time: 237.54s\n",
      "2025-06-22 04:46:56 - INFO - Training   - accuracy: 0.9639 - auc: 0.9741 - f1_score: 0.7314 - loss: 0.0230 - precision: 0.8354 - recall: 0.6684 - learning_rate: 0.0000\n",
      "2025-06-22 04:46:56 - INFO - Validation - accuracy: 0.9294 - auc: 0.7411 - f1_score: 0.2450 - loss: 0.0858 - precision: 0.3087 - recall: 0.2220\n",
      "2025-06-22 04:46:56 - INFO - ==================================================\n",
      "\n"
     ]
    },
    {
     "name": "stdout",
     "output_type": "stream",
     "text": [
      "\u001b[1m813/813\u001b[0m \u001b[32m━━━━━━━━━━━━━━━━━━━━\u001b[0m\u001b[37m\u001b[0m \u001b[1m238s\u001b[0m 292ms/step - accuracy: 0.9639 - auc: 0.9740 - f1_score: 0.7321 - loss: 0.0230 - precision: 0.8364 - recall: 0.6687 - val_accuracy: 0.9294 - val_auc: 0.7411 - val_f1_score: 0.2450 - val_loss: 0.0858 - val_precision: 0.3087 - val_recall: 0.2220 - learning_rate: 1.0000e-06\n"
     ]
    },
    {
     "name": "stderr",
     "output_type": "stream",
     "text": [
      "2025-06-22 04:46:56 - INFO - \n",
      "=== Starting Epoch 58 ===\n",
      "\n"
     ]
    },
    {
     "name": "stdout",
     "output_type": "stream",
     "text": [
      "Epoch 58/100\n",
      "\u001b[1m813/813\u001b[0m \u001b[32m━━━━━━━━━━━━━━━━━━━━\u001b[0m\u001b[37m\u001b[0m \u001b[1m0s\u001b[0m 277ms/step - accuracy: 0.9643 - auc: 0.9741 - f1_score: 0.7338 - loss: 0.0230 - precision: 0.8378 - recall: 0.6707  "
     ]
    },
    {
     "name": "stderr",
     "output_type": "stream",
     "text": [
      "2025-06-22 04:51:04 - INFO - \n",
      "=== Epoch 58 Summary ===\n",
      "2025-06-22 04:51:04 - INFO - Time: 248.20s\n",
      "2025-06-22 04:51:04 - INFO - Training   - accuracy: 0.9644 - auc: 0.9745 - f1_score: 0.7352 - loss: 0.0229 - precision: 0.8378 - recall: 0.6726 - learning_rate: 0.0000\n",
      "2025-06-22 04:51:04 - INFO - Validation - accuracy: 0.9328 - auc: 0.7393 - f1_score: 0.2296 - loss: 0.0878 - precision: 0.3230 - recall: 0.1944\n",
      "2025-06-22 04:51:04 - INFO - ==================================================\n",
      "\n"
     ]
    },
    {
     "name": "stdout",
     "output_type": "stream",
     "text": [
      "\u001b[1m813/813\u001b[0m \u001b[32m━━━━━━━━━━━━━━━━━━━━\u001b[0m\u001b[37m\u001b[0m \u001b[1m248s\u001b[0m 305ms/step - accuracy: 0.9643 - auc: 0.9741 - f1_score: 0.7338 - loss: 0.0230 - precision: 0.8378 - recall: 0.6707 - val_accuracy: 0.9328 - val_auc: 0.7393 - val_f1_score: 0.2296 - val_loss: 0.0878 - val_precision: 0.3230 - val_recall: 0.1944 - learning_rate: 1.0000e-06\n"
     ]
    },
    {
     "name": "stderr",
     "output_type": "stream",
     "text": [
      "2025-06-22 04:51:04 - INFO - \n",
      "=== Starting Epoch 59 ===\n",
      "\n"
     ]
    },
    {
     "name": "stdout",
     "output_type": "stream",
     "text": [
      "Epoch 59/100\n",
      "\u001b[1m813/813\u001b[0m \u001b[32m━━━━━━━━━━━━━━━━━━━━\u001b[0m\u001b[37m\u001b[0m \u001b[1m0s\u001b[0m 277ms/step - accuracy: 0.9647 - auc: 0.9745 - f1_score: 0.7373 - loss: 0.0229 - precision: 0.8397 - recall: 0.6743  "
     ]
    },
    {
     "name": "stderr",
     "output_type": "stream",
     "text": [
      "2025-06-22 04:55:04 - INFO - \n",
      "=== Epoch 59 Summary ===\n",
      "2025-06-22 04:55:04 - INFO - Time: 239.07s\n",
      "2025-06-22 04:55:04 - INFO - Training   - accuracy: 0.9648 - auc: 0.9749 - f1_score: 0.7389 - loss: 0.0228 - precision: 0.8396 - recall: 0.6770 - learning_rate: 0.0000\n",
      "2025-06-22 04:55:04 - INFO - Validation - accuracy: 0.9319 - auc: 0.7412 - f1_score: 0.2360 - loss: 0.0868 - precision: 0.3182 - recall: 0.2008\n",
      "2025-06-22 04:55:04 - INFO - ==================================================\n",
      "\n"
     ]
    },
    {
     "name": "stdout",
     "output_type": "stream",
     "text": [
      "\u001b[1m813/813\u001b[0m \u001b[32m━━━━━━━━━━━━━━━━━━━━\u001b[0m\u001b[37m\u001b[0m \u001b[1m239s\u001b[0m 294ms/step - accuracy: 0.9647 - auc: 0.9745 - f1_score: 0.7373 - loss: 0.0229 - precision: 0.8397 - recall: 0.6743 - val_accuracy: 0.9319 - val_auc: 0.7412 - val_f1_score: 0.2360 - val_loss: 0.0868 - val_precision: 0.3182 - val_recall: 0.2008 - learning_rate: 1.0000e-06\n"
     ]
    },
    {
     "name": "stderr",
     "output_type": "stream",
     "text": [
      "2025-06-22 04:55:04 - INFO - \n",
      "=== Starting Epoch 60 ===\n",
      "\n"
     ]
    },
    {
     "name": "stdout",
     "output_type": "stream",
     "text": [
      "Epoch 60/100\n",
      "\u001b[1m813/813\u001b[0m \u001b[32m━━━━━━━━━━━━━━━━━━━━\u001b[0m\u001b[37m\u001b[0m \u001b[1m0s\u001b[0m 275ms/step - accuracy: 0.9648 - auc: 0.9751 - f1_score: 0.7396 - loss: 0.0227 - precision: 0.8406 - recall: 0.6779  "
     ]
    },
    {
     "name": "stderr",
     "output_type": "stream",
     "text": [
      "2025-06-22 04:59:01 - INFO - \n",
      "=== Epoch 60 Summary ===\n",
      "2025-06-22 04:59:01 - INFO - Time: 237.21s\n",
      "2025-06-22 04:59:01 - INFO - Training   - accuracy: 0.9649 - auc: 0.9754 - f1_score: 0.7402 - loss: 0.0226 - precision: 0.8405 - recall: 0.6786 - learning_rate: 0.0000\n",
      "2025-06-22 04:59:01 - INFO - Validation - accuracy: 0.9320 - auc: 0.7416 - f1_score: 0.2359 - loss: 0.0880 - precision: 0.3212 - recall: 0.2044\n",
      "2025-06-22 04:59:01 - INFO - ==================================================\n",
      "\n"
     ]
    },
    {
     "name": "stdout",
     "output_type": "stream",
     "text": [
      "\u001b[1m813/813\u001b[0m \u001b[32m━━━━━━━━━━━━━━━━━━━━\u001b[0m\u001b[37m\u001b[0m \u001b[1m237s\u001b[0m 292ms/step - accuracy: 0.9648 - auc: 0.9751 - f1_score: 0.7396 - loss: 0.0227 - precision: 0.8406 - recall: 0.6779 - val_accuracy: 0.9320 - val_auc: 0.7416 - val_f1_score: 0.2359 - val_loss: 0.0880 - val_precision: 0.3212 - val_recall: 0.2044 - learning_rate: 1.0000e-06\n"
     ]
    },
    {
     "name": "stderr",
     "output_type": "stream",
     "text": [
      "2025-06-22 04:59:01 - INFO - \n",
      "=== Starting Epoch 61 ===\n",
      "\n"
     ]
    },
    {
     "name": "stdout",
     "output_type": "stream",
     "text": [
      "Epoch 61/100\n",
      "\u001b[1m813/813\u001b[0m \u001b[32m━━━━━━━━━━━━━━━━━━━━\u001b[0m\u001b[37m\u001b[0m \u001b[1m0s\u001b[0m 276ms/step - accuracy: 0.9652 - auc: 0.9759 - f1_score: 0.7419 - loss: 0.0225 - precision: 0.8425 - recall: 0.6800  "
     ]
    },
    {
     "name": "stderr",
     "output_type": "stream",
     "text": [
      "2025-06-22 05:02:59 - INFO - \n",
      "=== Epoch 61 Summary ===\n",
      "2025-06-22 05:02:59 - INFO - Time: 237.75s\n",
      "2025-06-22 05:02:59 - INFO - Training   - accuracy: 0.9653 - auc: 0.9760 - f1_score: 0.7430 - loss: 0.0225 - precision: 0.8420 - recall: 0.6819 - learning_rate: 0.0000\n",
      "2025-06-22 05:02:59 - INFO - Validation - accuracy: 0.9317 - auc: 0.7423 - f1_score: 0.2428 - loss: 0.0881 - precision: 0.3197 - recall: 0.2071\n",
      "2025-06-22 05:02:59 - INFO - ==================================================\n",
      "\n"
     ]
    },
    {
     "name": "stdout",
     "output_type": "stream",
     "text": [
      "\u001b[1m813/813\u001b[0m \u001b[32m━━━━━━━━━━━━━━━━━━━━\u001b[0m\u001b[37m\u001b[0m \u001b[1m238s\u001b[0m 293ms/step - accuracy: 0.9652 - auc: 0.9759 - f1_score: 0.7419 - loss: 0.0225 - precision: 0.8425 - recall: 0.6800 - val_accuracy: 0.9317 - val_auc: 0.7423 - val_f1_score: 0.2428 - val_loss: 0.0881 - val_precision: 0.3197 - val_recall: 0.2071 - learning_rate: 1.0000e-06\n"
     ]
    },
    {
     "name": "stderr",
     "output_type": "stream",
     "text": [
      "2025-06-22 05:02:59 - INFO - \n",
      "=== Starting Epoch 62 ===\n",
      "\n"
     ]
    },
    {
     "name": "stdout",
     "output_type": "stream",
     "text": [
      "Epoch 62/100\n",
      "\u001b[1m813/813\u001b[0m \u001b[32m━━━━━━━━━━━━━━━━━━━━\u001b[0m\u001b[37m\u001b[0m \u001b[1m0s\u001b[0m 275ms/step - accuracy: 0.9650 - auc: 0.9758 - f1_score: 0.7408 - loss: 0.0225 - precision: 0.8393 - recall: 0.6798  "
     ]
    },
    {
     "name": "stderr",
     "output_type": "stream",
     "text": [
      "2025-06-22 05:06:56 - INFO - \n",
      "=== Epoch 62 Summary ===\n",
      "2025-06-22 05:06:56 - INFO - Time: 237.18s\n",
      "2025-06-22 05:06:56 - INFO - Training   - accuracy: 0.9655 - auc: 0.9763 - f1_score: 0.7448 - loss: 0.0224 - precision: 0.8416 - recall: 0.6846 - learning_rate: 0.0000\n",
      "2025-06-22 05:06:56 - INFO - Validation - accuracy: 0.9316 - auc: 0.7419 - f1_score: 0.2423 - loss: 0.0864 - precision: 0.3176 - recall: 0.2049\n",
      "2025-06-22 05:06:56 - INFO - ==================================================\n",
      "\n"
     ]
    },
    {
     "name": "stdout",
     "output_type": "stream",
     "text": [
      "\u001b[1m813/813\u001b[0m \u001b[32m━━━━━━━━━━━━━━━━━━━━\u001b[0m\u001b[37m\u001b[0m \u001b[1m237s\u001b[0m 292ms/step - accuracy: 0.9650 - auc: 0.9758 - f1_score: 0.7408 - loss: 0.0225 - precision: 0.8393 - recall: 0.6798 - val_accuracy: 0.9316 - val_auc: 0.7419 - val_f1_score: 0.2423 - val_loss: 0.0864 - val_precision: 0.3176 - val_recall: 0.2049 - learning_rate: 1.0000e-06\n"
     ]
    },
    {
     "name": "stderr",
     "output_type": "stream",
     "text": [
      "2025-06-22 05:06:56 - INFO - \n",
      "=== Starting Epoch 63 ===\n",
      "\n"
     ]
    },
    {
     "name": "stdout",
     "output_type": "stream",
     "text": [
      "Epoch 63/100\n",
      "\u001b[1m813/813\u001b[0m \u001b[32m━━━━━━━━━━━━━━━━━━━━\u001b[0m\u001b[37m\u001b[0m \u001b[1m0s\u001b[0m 276ms/step - accuracy: 0.9656 - auc: 0.9765 - f1_score: 0.7465 - loss: 0.0224 - precision: 0.8426 - recall: 0.6869  "
     ]
    },
    {
     "name": "stderr",
     "output_type": "stream",
     "text": [
      "2025-06-22 05:10:56 - INFO - \n",
      "=== Epoch 63 Summary ===\n",
      "2025-06-22 05:10:56 - INFO - Time: 240.24s\n",
      "2025-06-22 05:10:56 - INFO - Training   - accuracy: 0.9657 - auc: 0.9767 - f1_score: 0.7472 - loss: 0.0224 - precision: 0.8428 - recall: 0.6874 - learning_rate: 0.0000\n",
      "2025-06-22 05:10:56 - INFO - Validation - accuracy: 0.9335 - auc: 0.7412 - f1_score: 0.2407 - loss: 0.0885 - precision: 0.3327 - recall: 0.1992\n",
      "2025-06-22 05:10:56 - INFO - ==================================================\n",
      "\n"
     ]
    },
    {
     "name": "stdout",
     "output_type": "stream",
     "text": [
      "\u001b[1m813/813\u001b[0m \u001b[32m━━━━━━━━━━━━━━━━━━━━\u001b[0m\u001b[37m\u001b[0m \u001b[1m240s\u001b[0m 296ms/step - accuracy: 0.9656 - auc: 0.9765 - f1_score: 0.7466 - loss: 0.0224 - precision: 0.8426 - recall: 0.6869 - val_accuracy: 0.9335 - val_auc: 0.7412 - val_f1_score: 0.2407 - val_loss: 0.0885 - val_precision: 0.3327 - val_recall: 0.1992 - learning_rate: 1.0000e-06\n"
     ]
    },
    {
     "name": "stderr",
     "output_type": "stream",
     "text": [
      "2025-06-22 05:10:56 - INFO - \n",
      "=== Starting Epoch 64 ===\n",
      "\n"
     ]
    },
    {
     "name": "stdout",
     "output_type": "stream",
     "text": [
      "Epoch 64/100\n",
      "\u001b[1m813/813\u001b[0m \u001b[32m━━━━━━━━━━━━━━━━━━━━\u001b[0m\u001b[37m\u001b[0m \u001b[1m0s\u001b[0m 276ms/step - accuracy: 0.9663 - auc: 0.9768 - f1_score: 0.7515 - loss: 0.0223 - precision: 0.8481 - recall: 0.6908  "
     ]
    },
    {
     "name": "stderr",
     "output_type": "stream",
     "text": [
      "2025-06-22 05:14:55 - INFO - \n",
      "=== Epoch 64 Summary ===\n",
      "2025-06-22 05:14:55 - INFO - Time: 238.71s\n",
      "2025-06-22 05:14:55 - INFO - Training   - accuracy: 0.9663 - auc: 0.9770 - f1_score: 0.7514 - loss: 0.0223 - precision: 0.8466 - recall: 0.6917 - learning_rate: 0.0000\n",
      "2025-06-22 05:14:55 - INFO - Validation - accuracy: 0.9306 - auc: 0.7431 - f1_score: 0.2440 - loss: 0.0884 - precision: 0.3156 - recall: 0.2165\n",
      "2025-06-22 05:14:55 - INFO - ==================================================\n",
      "\n"
     ]
    },
    {
     "name": "stdout",
     "output_type": "stream",
     "text": [
      "\u001b[1m813/813\u001b[0m \u001b[32m━━━━━━━━━━━━━━━━━━━━\u001b[0m\u001b[37m\u001b[0m \u001b[1m239s\u001b[0m 294ms/step - accuracy: 0.9663 - auc: 0.9768 - f1_score: 0.7515 - loss: 0.0223 - precision: 0.8481 - recall: 0.6908 - val_accuracy: 0.9306 - val_auc: 0.7431 - val_f1_score: 0.2440 - val_loss: 0.0884 - val_precision: 0.3156 - val_recall: 0.2165 - learning_rate: 1.0000e-06\n"
     ]
    },
    {
     "name": "stderr",
     "output_type": "stream",
     "text": [
      "2025-06-22 05:14:55 - INFO - \n",
      "=== Starting Epoch 65 ===\n",
      "\n"
     ]
    },
    {
     "name": "stdout",
     "output_type": "stream",
     "text": [
      "Epoch 65/100\n",
      "\u001b[1m813/813\u001b[0m \u001b[32m━━━━━━━━━━━━━━━━━━━━\u001b[0m\u001b[37m\u001b[0m \u001b[1m0s\u001b[0m 276ms/step - accuracy: 0.9662 - auc: 0.9773 - f1_score: 0.7533 - loss: 0.0222 - precision: 0.8482 - recall: 0.6932  "
     ]
    },
    {
     "name": "stderr",
     "output_type": "stream",
     "text": [
      "2025-06-22 05:18:53 - INFO - \n",
      "=== Epoch 65 Summary ===\n",
      "2025-06-22 05:18:53 - INFO - Time: 238.43s\n",
      "2025-06-22 05:18:53 - INFO - Training   - accuracy: 0.9665 - auc: 0.9776 - f1_score: 0.7544 - loss: 0.0222 - precision: 0.8466 - recall: 0.6961 - learning_rate: 0.0000\n",
      "2025-06-22 05:18:53 - INFO - Validation - accuracy: 0.9310 - auc: 0.7423 - f1_score: 0.2449 - loss: 0.0912 - precision: 0.3190 - recall: 0.2162\n",
      "2025-06-22 05:18:53 - INFO - ==================================================\n",
      "\n"
     ]
    },
    {
     "name": "stdout",
     "output_type": "stream",
     "text": [
      "\u001b[1m813/813\u001b[0m \u001b[32m━━━━━━━━━━━━━━━━━━━━\u001b[0m\u001b[37m\u001b[0m \u001b[1m238s\u001b[0m 293ms/step - accuracy: 0.9662 - auc: 0.9773 - f1_score: 0.7533 - loss: 0.0222 - precision: 0.8482 - recall: 0.6932 - val_accuracy: 0.9310 - val_auc: 0.7423 - val_f1_score: 0.2449 - val_loss: 0.0912 - val_precision: 0.3190 - val_recall: 0.2162 - learning_rate: 1.0000e-06\n"
     ]
    },
    {
     "name": "stderr",
     "output_type": "stream",
     "text": [
      "2025-06-22 05:18:53 - INFO - \n",
      "=== Starting Epoch 66 ===\n",
      "\n"
     ]
    },
    {
     "name": "stdout",
     "output_type": "stream",
     "text": [
      "Epoch 66/100\n",
      "\u001b[1m813/813\u001b[0m \u001b[32m━━━━━━━━━━━━━━━━━━━━\u001b[0m\u001b[37m\u001b[0m \u001b[1m0s\u001b[0m 276ms/step - accuracy: 0.9669 - auc: 0.9777 - f1_score: 0.7574 - loss: 0.0220 - precision: 0.8484 - recall: 0.6994  "
     ]
    },
    {
     "name": "stderr",
     "output_type": "stream",
     "text": [
      "2025-06-22 05:22:51 - INFO - \n",
      "=== Epoch 66 Summary ===\n",
      "2025-06-22 05:22:51 - INFO - Time: 238.08s\n",
      "2025-06-22 05:22:51 - INFO - Training   - accuracy: 0.9668 - auc: 0.9777 - f1_score: 0.7571 - loss: 0.0220 - precision: 0.8477 - recall: 0.6993 - learning_rate: 0.0000\n",
      "2025-06-22 05:22:51 - INFO - Validation - accuracy: 0.9345 - auc: 0.7415 - f1_score: 0.2246 - loss: 0.0948 - precision: 0.3332 - recall: 0.1832\n",
      "2025-06-22 05:22:51 - INFO - ==================================================\n",
      "\n"
     ]
    },
    {
     "name": "stdout",
     "output_type": "stream",
     "text": [
      "\u001b[1m813/813\u001b[0m \u001b[32m━━━━━━━━━━━━━━━━━━━━\u001b[0m\u001b[37m\u001b[0m \u001b[1m238s\u001b[0m 293ms/step - accuracy: 0.9669 - auc: 0.9777 - f1_score: 0.7574 - loss: 0.0220 - precision: 0.8484 - recall: 0.6994 - val_accuracy: 0.9345 - val_auc: 0.7415 - val_f1_score: 0.2246 - val_loss: 0.0948 - val_precision: 0.3332 - val_recall: 0.1832 - learning_rate: 1.0000e-06\n"
     ]
    },
    {
     "name": "stderr",
     "output_type": "stream",
     "text": [
      "2025-06-22 05:22:51 - INFO - \n",
      "=== Training Completed! ===\n",
      "\n",
      "2025-06-22 05:22:51 - INFO - Final Metrics: accuracy: 0.9668 - auc: 0.9777 - f1_score: 0.7571 - loss: 0.0220 - precision: 0.8477 - recall: 0.6993 - val_accuracy: 0.9345 - val_auc: 0.7415 - val_f1_score: 0.2246 - val_loss: 0.0948 - val_precision: 0.3332 - val_recall: 0.1832\n",
      "\n"
     ]
    },
    {
     "name": "stdout",
     "output_type": "stream",
     "text": [
      "Epoch 66: early stopping\n",
      "Restoring model weights from the end of the best epoch: 51.\n"
     ]
    }
   ],
   "source": [
    "# Model Training\n",
    "model          = build_densenet121(num_classes, use_se=True, layer_attention=False, ratio=8, channel_blocks=[1, 2, 3])\n",
    "optimizer      = Adam(learning_rate=1e-4)\n",
    "compile_kwargs = {'optimizer': optimizer, 'loss': loss, 'metrics': metrics}\n",
    "\n",
    "history, model = start_or_resume_training(\n",
    "    model, \n",
    "    compile_kwargs, \n",
    "    train_ds, \n",
    "    val_ds, \n",
    "    TF_MAX_EPOCHS,\n",
    "    steps_per_epoch, \n",
    "    validation_steps, \n",
    "    class_weights=class_weights,\n",
    "    callbacks=[checkpoint, best_checkpoint, reduce_lr, training_logger, metrics_monitor, early_stopping], \n",
    "    checkpoint_path=checkpoint_path,\n",
    "    initial_epoch=initial_epoch,\n",
    "    output_dir=MODELS_PATH,\n",
    "    model_name=model_name,\n",
    "    logger=logger\n",
    ")"
   ]
  },
  {
   "cell_type": "code",
   "execution_count": null,
   "id": "048b711f-28f1-433d-ac5b-b8729218ef96",
   "metadata": {},
   "outputs": [],
   "source": []
  }
 ],
 "metadata": {
  "kernelspec": {
   "display_name": "Python 3 (ipykernel)",
   "language": "python",
   "name": "python3"
  },
  "language_info": {
   "codemirror_mode": {
    "name": "ipython",
    "version": 3
   },
   "file_extension": ".py",
   "mimetype": "text/x-python",
   "name": "python",
   "nbconvert_exporter": "python",
   "pygments_lexer": "ipython3",
   "version": "3.10.16"
  }
 },
 "nbformat": 4,
 "nbformat_minor": 5
}
