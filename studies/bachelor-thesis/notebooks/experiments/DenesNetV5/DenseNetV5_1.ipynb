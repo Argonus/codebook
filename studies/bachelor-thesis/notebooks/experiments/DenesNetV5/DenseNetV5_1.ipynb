{
 "cells": [
  {
   "cell_type": "code",
   "execution_count": 1,
   "id": "b694919a-9b18-4068-8e69-7258de889dff",
   "metadata": {},
   "outputs": [
    {
     "name": "stderr",
     "output_type": "stream",
     "text": [
      "2025-06-16 09:49:41.112777: E external/local_xla/xla/stream_executor/cuda/cuda_fft.cc:467] Unable to register cuFFT factory: Attempting to register factory for plugin cuFFT when one has already been registered\n",
      "WARNING: All log messages before absl::InitializeLog() is called are written to STDERR\n",
      "E0000 00:00:1750060181.191951    3518 cuda_dnn.cc:8579] Unable to register cuDNN factory: Attempting to register factory for plugin cuDNN when one has already been registered\n",
      "E0000 00:00:1750060181.215410    3518 cuda_blas.cc:1407] Unable to register cuBLAS factory: Attempting to register factory for plugin cuBLAS when one has already been registered\n",
      "W0000 00:00:1750060181.401980    3518 computation_placer.cc:177] computation placer already registered. Please check linkage and avoid linking the same target more than once.\n",
      "W0000 00:00:1750060181.401999    3518 computation_placer.cc:177] computation placer already registered. Please check linkage and avoid linking the same target more than once.\n",
      "W0000 00:00:1750060181.402000    3518 computation_placer.cc:177] computation placer already registered. Please check linkage and avoid linking the same target more than once.\n",
      "W0000 00:00:1750060181.402001    3518 computation_placer.cc:177] computation placer already registered. Please check linkage and avoid linking the same target more than once.\n"
     ]
    },
    {
     "name": "stdout",
     "output_type": "stream",
     "text": [
      "\n",
      "GPU configuration successful!\n",
      "Device: /physical_device:GPU:0\n",
      "Memory limit: 18.0 GB\n",
      "\n",
      "TensorFlow optimizations status:\n",
      "- CPU Threads: 16 intra-op, 9 inter-op (32 cores total)\n",
      "- XLA JIT: enabled (autoclustering)\n",
      "- Synchronous Execution: enabled\n",
      "\n",
      "GPU Device Details:\n",
      "- Device: GPU /physical_device:GPU:0\n",
      "- Memory limit: 18.0 GB\n"
     ]
    },
    {
     "name": "stderr",
     "output_type": "stream",
     "text": [
      "I0000 00:00:1750060184.679317    3518 gpu_process_state.cc:208] Using CUDA malloc Async allocator for GPU: 0\n",
      "I0000 00:00:1750060184.680082    3518 gpu_device.cc:2019] Created device /job:localhost/replica:0/task:0/device:GPU:0 with 19327352832 MB memory:  -> device: 0, name: NVIDIA GeForce RTX 3090 Ti, pci bus id: 0000:01:00.0, compute capability: 8.6\n"
     ]
    }
   ],
   "source": [
    "# Import dependencies\n",
    "import os\n",
    "\n",
    "os.environ['TF_CPP_MIN_VLOG_LEVEL'] = '0'\n",
    "os.environ['TF_CPP_MIN_LOG_LEVEL'] = '2'\n",
    "os.environ['TF_GPU_ALLOCATOR'] = 'cuda_malloc_async'\n",
    "os.environ['TF_FORCE_GPU_ALLOW_GROWTH'] = 'true'\n",
    "\n",
    "from src.utils.gpu_config import configure_gpu, optimize_tensorflow\n",
    "\n",
    "configure_gpu()\n",
    "optimize_tensorflow()"
   ]
  },
  {
   "cell_type": "code",
   "execution_count": 2,
   "id": "2b854daf-5f2a-4c33-9180-5081cd415b16",
   "metadata": {},
   "outputs": [],
   "source": [
    "# Import Tensorflow Keras\n",
    "from tensorflow.keras.optimizers import Adam\n",
    "from tensorflow.keras.losses import BinaryFocalCrossentropy\n",
    "from tensorflow.keras.callbacks import ReduceLROnPlateau, ModelCheckpoint\n",
    "\n",
    "# Import local modules\n",
    "from src.utils.consts import TF_RECORD_DATASET, MODELS_PATH, TF_BUFFER_SIZE, TF_SHUFFLE_SIZE, TF_BATCH_SIZE, TF_MAX_EPOCHS\n",
    "from src.model.tensorflow_utils import load_dataset, optimize_dataset, count_dataset_size, get_num_classes, get_metrics\n",
    "from src.model.tensorflow_utils import setup_logger, setup_training_logger, setup_metrics_monitor, setup_early_stopping, filter_no_finding_class\n",
    "from src.model.tensorflow_utils import start_or_resume_training, apply_augmentation_to_dataset, calculate_class_weights, oversample_minority_classes\n",
    "from src.model.densnet.tensorflow_dense_net_121 import build_densenet121\n",
    "\n",
    "# Input Data\n",
    "initial_epoch   = None\n",
    "resume_training = False\n",
    "checkpoint_path = None\n",
    "set_name        = \"DenseNetV5\"\n",
    "model_name      = f\"{set_name}_1\"\n",
    "num_classes     = get_num_classes()\n",
    "\n",
    "train_ds = load_dataset(f\"{TF_RECORD_DATASET}/train.tfrecord\", TF_BUFFER_SIZE)\n",
    "val_ds   = load_dataset(f\"{TF_RECORD_DATASET}/val.tfrecord\", TF_BUFFER_SIZE)\n",
    "\n",
    "train_ds = filter_no_finding_class(train_ds)\n",
    "val_ds   = filter_no_finding_class(val_ds)\n",
    "\n",
    "class_weights = calculate_class_weights(train_ds, num_classes)\n",
    "train_ds      = oversample_minority_classes(train_ds, class_weights)\n",
    "class_weights = calculate_class_weights(train_ds, num_classes)"
   ]
  },
  {
   "cell_type": "code",
   "execution_count": 3,
   "id": "5f152b8a-8ff8-4095-9815-e304ce2beb52",
   "metadata": {},
   "outputs": [
    {
     "name": "stderr",
     "output_type": "stream",
     "text": [
      "Counting samples: 104166 samples [00:35, 2927.91 samples/s] \n",
      "Counting samples: 15431 samples [00:08, 1716.94 samples/s]\n"
     ]
    }
   ],
   "source": [
    "steps_per_epoch  = int(count_dataset_size(train_ds, None) / TF_BATCH_SIZE)\n",
    "validation_steps = int(count_dataset_size(val_ds, None) / TF_BATCH_SIZE)\n",
    "\n",
    "# Disable Advanced Augmentations\n",
    "probability = {\n",
    "    \"intensity_scaling\": 0,\n",
    "    \"adaptive_histogram\": 0,\n",
    "    \"zoom\": 0,\n",
    "    \"cutout\": 0\n",
    "}\n",
    "\n",
    "train_ds = train_ds.shuffle(TF_SHUFFLE_SIZE, reshuffle_each_iteration=True)\n",
    "train_ds = apply_augmentation_to_dataset(train_ds, probability)\n",
    "train_ds = optimize_dataset(train_ds, TF_BATCH_SIZE)\n",
    "\n",
    "val_ds   = optimize_dataset(val_ds, TF_BATCH_SIZE)"
   ]
  },
  {
   "cell_type": "code",
   "execution_count": 4,
   "id": "3a0e37c9-b178-40d8-bd25-8c0a6498564a",
   "metadata": {},
   "outputs": [
    {
     "name": "stderr",
     "output_type": "stream",
     "text": [
      "2025-06-16 09:51:46 - INFO - Resuming from existing metrics file: /home/piotr/Pulpit/codebook/studies/bachelor-thesis/models/DenseNetV5_1/train_metrics.csv\n",
      "2025-06-16 09:51:46 - INFO - Resuming from existing validation metrics file: /home/piotr/Pulpit/codebook/studies/bachelor-thesis/models/DenseNetV5_1/val_metrics.csv\n",
      "2025-06-16 09:51:46 - INFO - Cleaned training metrics file, kept 37398 records before epoch 47\n",
      "2025-06-16 09:51:46 - INFO - Cleaned validation metrics file, kept 46 records before epoch 47\n",
      "2025-06-16 09:51:46 - INFO - Found 37398 existing training records\n",
      "2025-06-16 09:51:46 - INFO - Found 46 existing validation records\n"
     ]
    }
   ],
   "source": [
    "# Setup Model Deps\n",
    "logger            = setup_logger()\n",
    "training_logger   = setup_training_logger(logger, TF_BATCH_SIZE, 100)\n",
    "metrics_monitor   = setup_metrics_monitor(MODELS_PATH, model_name, logger, resume_training=resume_training, initial_epoch=initial_epoch)\n",
    "metrics           = get_metrics()\n",
    "\n",
    "# Setup compile arguments\n",
    "loss           = BinaryFocalCrossentropy(gamma=2.0, from_logits=False, label_smoothing=0.05)\n",
    "reduce_lr      = ReduceLROnPlateau(monitor=\"val_f1_score\", factor=0.5,  patience=3, min_lr=1e-6, mode=\"max\", verbose=1)\n",
    "early_stopping = setup_early_stopping()\n",
    "\n",
    "epoch_mode           = 'cp-{epoch:04d}'\n",
    "save_checkpoint_path = f\"{MODELS_PATH}/{model_name}/checkpoints/{epoch_mode}.keras\"\n",
    "checkpoint           = ModelCheckpoint(save_checkpoint_path, monitor=\"val_f1_score\", save_best_only=False, mode=\"max\", save_weights_only=False)\n",
    "\n",
    "model_path      = f\"{MODELS_PATH}/{model_name}.keras\"\n",
    "best_checkpoint = ModelCheckpoint(model_path, monitor=\"val_f1_score\", save_best_only=True, mode=\"max\", save_weights_only=False)"
   ]
  },
  {
   "cell_type": "code",
   "execution_count": 5,
   "id": "c44d4a9a-ffbb-4917-a702-c35773b9857c",
   "metadata": {},
   "outputs": [
    {
     "name": "stderr",
     "output_type": "stream",
     "text": [
      "2025-06-16 09:51:47 - INFO - Resuming training from checkpoint: /home/piotr/Pulpit/codebook/studies/bachelor-thesis/models/DenseNetV5_1/checkpoints/cp-0046.keras\n",
      "2025-06-16 09:51:50 - INFO - Resuming from existing metrics file: /home/piotr/Pulpit/codebook/studies/bachelor-thesis/models/DenseNetV5_1/train_metrics.csv\n",
      "2025-06-16 09:51:50 - INFO - Resuming from existing validation metrics file: /home/piotr/Pulpit/codebook/studies/bachelor-thesis/models/DenseNetV5_1/val_metrics.csv\n",
      "2025-06-16 09:51:50 - INFO - Cleaned training metrics file, kept 37398 records before epoch 47\n",
      "2025-06-16 09:51:50 - INFO - Cleaned validation metrics file, kept 46 records before epoch 47\n",
      "2025-06-16 09:51:50 - INFO - Found 37398 existing training records\n",
      "2025-06-16 09:51:50 - INFO - Found 46 existing validation records\n",
      "2025-06-16 09:51:50 - INFO - \n",
      "=== Training Started ===\n",
      "\n",
      "2025-06-16 09:51:50 - INFO - Batch Size: 128\n",
      "2025-06-16 09:51:50 - INFO - Optimizer: Adam\n",
      "2025-06-16 09:51:50 - INFO - \n",
      "==================================================\n",
      "\n",
      "2025-06-16 09:51:50 - INFO - \n",
      "=== Starting Epoch 47 ===\n",
      "\n"
     ]
    },
    {
     "name": "stdout",
     "output_type": "stream",
     "text": [
      "Epoch 47/100\n"
     ]
    },
    {
     "name": "stderr",
     "output_type": "stream",
     "text": [
      "WARNING: All log messages before absl::InitializeLog() is called are written to STDERR\n",
      "I0000 00:00:1750060334.936176    4023 service.cc:152] XLA service 0x7038881d4eb0 initialized for platform CUDA (this does not guarantee that XLA will be used). Devices:\n",
      "I0000 00:00:1750060334.936230    4023 service.cc:160]   StreamExecutor device (0): NVIDIA GeForce RTX 3090 Ti, Compute Capability 8.6\n",
      "I0000 00:00:1750060342.411689    4023 cuda_dnn.cc:529] Loaded cuDNN version 90300\n",
      "I0000 00:00:1750060409.386636    4023 device_compiler.h:188] Compiled cluster using XLA!  This line is logged at most once for the lifetime of the process.\n"
     ]
    },
    {
     "name": "stdout",
     "output_type": "stream",
     "text": [
      "\u001b[1m813/813\u001b[0m \u001b[32m━━━━━━━━━━━━━━━━━━━━\u001b[0m\u001b[37m\u001b[0m \u001b[1m0s\u001b[0m 228ms/step - accuracy: 0.9435 - auc: 0.9288 - f1_score: 0.5105 - loss: 0.0298 - precision: 0.7414 - recall: 0.4266  "
     ]
    },
    {
     "name": "stderr",
     "output_type": "stream",
     "text": [
      "2025-06-16 09:56:55 - INFO - \n",
      "=== Epoch 47 Summary ===\n",
      "2025-06-16 09:56:55 - INFO - Time: 305.38s\n",
      "2025-06-16 09:56:55 - INFO - Training   - accuracy: 0.9442 - auc: 0.9307 - f1_score: 0.5162 - loss: 0.0295 - precision: 0.7423 - recall: 0.4329 - learning_rate: 0.0000\n",
      "2025-06-16 09:56:55 - INFO - Validation - accuracy: 0.9352 - auc: 0.7592 - f1_score: 0.2066 - loss: 0.0629 - precision: 0.3345 - recall: 0.1713\n",
      "2025-06-16 09:56:55 - INFO - ==================================================\n",
      "\n"
     ]
    },
    {
     "name": "stdout",
     "output_type": "stream",
     "text": [
      "\u001b[1m813/813\u001b[0m \u001b[32m━━━━━━━━━━━━━━━━━━━━\u001b[0m\u001b[37m\u001b[0m \u001b[1m305s\u001b[0m 254ms/step - accuracy: 0.9435 - auc: 0.9288 - f1_score: 0.5105 - loss: 0.0298 - precision: 0.7414 - recall: 0.4266 - val_accuracy: 0.9352 - val_auc: 0.7592 - val_f1_score: 0.2066 - val_loss: 0.0629 - val_precision: 0.3345 - val_recall: 0.1713 - learning_rate: 1.5625e-06\n"
     ]
    },
    {
     "name": "stderr",
     "output_type": "stream",
     "text": [
      "2025-06-16 09:56:55 - INFO - \n",
      "=== Starting Epoch 48 ===\n",
      "\n"
     ]
    },
    {
     "name": "stdout",
     "output_type": "stream",
     "text": [
      "Epoch 48/100\n",
      "\u001b[1m813/813\u001b[0m \u001b[32m━━━━━━━━━━━━━━━━━━━━\u001b[0m\u001b[37m\u001b[0m \u001b[1m0s\u001b[0m 229ms/step - accuracy: 0.9440 - auc: 0.9307 - f1_score: 0.5171 - loss: 0.0297 - precision: 0.7446 - recall: 0.4331  "
     ]
    },
    {
     "name": "stderr",
     "output_type": "stream",
     "text": [
      "2025-06-16 10:01:22 - INFO - \n",
      "=== Epoch 48 Summary ===\n",
      "2025-06-16 10:01:22 - INFO - Time: 266.50s\n",
      "2025-06-16 10:01:22 - INFO - Training   - accuracy: 0.9445 - auc: 0.9319 - f1_score: 0.5197 - loss: 0.0293 - precision: 0.7450 - recall: 0.4363 - learning_rate: 0.0000\n",
      "2025-06-16 10:01:22 - INFO - Validation - accuracy: 0.9344 - auc: 0.7576 - f1_score: 0.2010 - loss: 0.0637 - precision: 0.3216 - recall: 0.1659\n",
      "2025-06-16 10:01:22 - INFO - ==================================================\n",
      "\n"
     ]
    },
    {
     "name": "stdout",
     "output_type": "stream",
     "text": [
      "\u001b[1m813/813\u001b[0m \u001b[32m━━━━━━━━━━━━━━━━━━━━\u001b[0m\u001b[37m\u001b[0m \u001b[1m267s\u001b[0m 240ms/step - accuracy: 0.9440 - auc: 0.9307 - f1_score: 0.5171 - loss: 0.0297 - precision: 0.7446 - recall: 0.4331 - val_accuracy: 0.9344 - val_auc: 0.7576 - val_f1_score: 0.2010 - val_loss: 0.0637 - val_precision: 0.3216 - val_recall: 0.1659 - learning_rate: 1.5625e-06\n"
     ]
    },
    {
     "name": "stderr",
     "output_type": "stream",
     "text": [
      "2025-06-16 10:01:22 - INFO - \n",
      "=== Starting Epoch 49 ===\n",
      "\n"
     ]
    },
    {
     "name": "stdout",
     "output_type": "stream",
     "text": [
      "Epoch 49/100\n",
      "\u001b[1m813/813\u001b[0m \u001b[32m━━━━━━━━━━━━━━━━━━━━\u001b[0m\u001b[37m\u001b[0m \u001b[1m0s\u001b[0m 240ms/step - accuracy: 0.9443 - auc: 0.9320 - f1_score: 0.5203 - loss: 0.0295 - precision: 0.7451 - recall: 0.4358  "
     ]
    },
    {
     "name": "stderr",
     "output_type": "stream",
     "text": [
      "2025-06-16 10:04:51 - INFO - \n",
      "=== Epoch 49 Summary ===\n",
      "2025-06-16 10:04:51 - INFO - Time: 209.70s\n",
      "2025-06-16 10:04:51 - INFO - Training   - accuracy: 0.9447 - auc: 0.9325 - f1_score: 0.5224 - loss: 0.0292 - precision: 0.7455 - recall: 0.4382 - learning_rate: 0.0000\n",
      "2025-06-16 10:04:51 - INFO - Validation - accuracy: 0.9342 - auc: 0.7589 - f1_score: 0.2101 - loss: 0.0626 - precision: 0.3245 - recall: 0.1746\n",
      "2025-06-16 10:04:51 - INFO - ==================================================\n",
      "\n"
     ]
    },
    {
     "name": "stdout",
     "output_type": "stream",
     "text": [
      "\u001b[1m813/813\u001b[0m \u001b[32m━━━━━━━━━━━━━━━━━━━━\u001b[0m\u001b[37m\u001b[0m \u001b[1m210s\u001b[0m 258ms/step - accuracy: 0.9443 - auc: 0.9320 - f1_score: 0.5203 - loss: 0.0295 - precision: 0.7451 - recall: 0.4358 - val_accuracy: 0.9342 - val_auc: 0.7589 - val_f1_score: 0.2101 - val_loss: 0.0626 - val_precision: 0.3245 - val_recall: 0.1746 - learning_rate: 1.5625e-06\n"
     ]
    },
    {
     "name": "stderr",
     "output_type": "stream",
     "text": [
      "2025-06-16 10:04:51 - INFO - \n",
      "=== Starting Epoch 50 ===\n",
      "\n"
     ]
    },
    {
     "name": "stdout",
     "output_type": "stream",
     "text": [
      "Epoch 50/100\n",
      "\u001b[1m813/813\u001b[0m \u001b[32m━━━━━━━━━━━━━━━━━━━━\u001b[0m\u001b[37m\u001b[0m \u001b[1m0s\u001b[0m 229ms/step - accuracy: 0.9444 - auc: 0.9317 - f1_score: 0.5204 - loss: 0.0294 - precision: 0.7451 - recall: 0.4366  "
     ]
    },
    {
     "name": "stderr",
     "output_type": "stream",
     "text": [
      "2025-06-16 10:08:11 - INFO - \n",
      "=== Epoch 50 Summary ===\n",
      "2025-06-16 10:08:11 - INFO - Time: 199.34s\n",
      "2025-06-16 10:08:11 - INFO - Training   - accuracy: 0.9448 - auc: 0.9331 - f1_score: 0.5237 - loss: 0.0291 - precision: 0.7462 - recall: 0.4405 - learning_rate: 0.0000\n",
      "2025-06-16 10:08:11 - INFO - Validation - accuracy: 0.9345 - auc: 0.7580 - f1_score: 0.2069 - loss: 0.0641 - precision: 0.3294 - recall: 0.1757\n",
      "2025-06-16 10:08:11 - INFO - ==================================================\n",
      "\n"
     ]
    },
    {
     "name": "stdout",
     "output_type": "stream",
     "text": [
      "\u001b[1m813/813\u001b[0m \u001b[32m━━━━━━━━━━━━━━━━━━━━\u001b[0m\u001b[37m\u001b[0m \u001b[1m199s\u001b[0m 245ms/step - accuracy: 0.9444 - auc: 0.9317 - f1_score: 0.5204 - loss: 0.0294 - precision: 0.7451 - recall: 0.4366 - val_accuracy: 0.9345 - val_auc: 0.7580 - val_f1_score: 0.2069 - val_loss: 0.0641 - val_precision: 0.3294 - val_recall: 0.1757 - learning_rate: 1.5625e-06\n"
     ]
    },
    {
     "name": "stderr",
     "output_type": "stream",
     "text": [
      "2025-06-16 10:08:11 - INFO - \n",
      "=== Starting Epoch 51 ===\n",
      "\n"
     ]
    },
    {
     "name": "stdout",
     "output_type": "stream",
     "text": [
      "Epoch 51/100\n",
      "\u001b[1m813/813\u001b[0m \u001b[32m━━━━━━━━━━━━━━━━━━━━\u001b[0m\u001b[37m\u001b[0m \u001b[1m0s\u001b[0m 232ms/step - accuracy: 0.9447 - auc: 0.9328 - f1_score: 0.5289 - loss: 0.0292 - precision: 0.7481 - recall: 0.4443  "
     ]
    },
    {
     "name": "stderr",
     "output_type": "stream",
     "text": [
      "2025-06-16 10:11:34 - INFO - \n",
      "=== Epoch 51 Summary ===\n",
      "2025-06-16 10:11:34 - INFO - Time: 203.04s\n",
      "2025-06-16 10:11:34 - INFO - Training   - accuracy: 0.9451 - auc: 0.9338 - f1_score: 0.5289 - loss: 0.0290 - precision: 0.7487 - recall: 0.4447 - learning_rate: 0.0000\n",
      "2025-06-16 10:11:34 - INFO - Validation - accuracy: 0.9342 - auc: 0.7581 - f1_score: 0.2022 - loss: 0.0642 - precision: 0.3206 - recall: 0.1682\n",
      "2025-06-16 10:11:34 - INFO - ==================================================\n",
      "\n"
     ]
    },
    {
     "name": "stdout",
     "output_type": "stream",
     "text": [
      "\u001b[1m813/813\u001b[0m \u001b[32m━━━━━━━━━━━━━━━━━━━━\u001b[0m\u001b[37m\u001b[0m \u001b[1m203s\u001b[0m 250ms/step - accuracy: 0.9447 - auc: 0.9328 - f1_score: 0.5289 - loss: 0.0292 - precision: 0.7481 - recall: 0.4443 - val_accuracy: 0.9342 - val_auc: 0.7581 - val_f1_score: 0.2022 - val_loss: 0.0642 - val_precision: 0.3206 - val_recall: 0.1682 - learning_rate: 1.5625e-06\n"
     ]
    },
    {
     "name": "stderr",
     "output_type": "stream",
     "text": [
      "2025-06-16 10:11:34 - INFO - \n",
      "=== Starting Epoch 52 ===\n",
      "\n"
     ]
    },
    {
     "name": "stdout",
     "output_type": "stream",
     "text": [
      "Epoch 52/100\n",
      "\u001b[1m813/813\u001b[0m \u001b[32m━━━━━━━━━━━━━━━━━━━━\u001b[0m\u001b[37m\u001b[0m \u001b[1m0s\u001b[0m 228ms/step - accuracy: 0.9449 - auc: 0.9331 - f1_score: 0.5300 - loss: 0.0289 - precision: 0.7467 - recall: 0.4455  \n",
      "Epoch 52: ReduceLROnPlateau reducing learning rate to 1e-06.\n"
     ]
    },
    {
     "name": "stderr",
     "output_type": "stream",
     "text": [
      "2025-06-16 10:14:53 - INFO - \n",
      "=== Epoch 52 Summary ===\n",
      "2025-06-16 10:14:53 - INFO - Time: 199.16s\n",
      "2025-06-16 10:14:53 - INFO - Training   - accuracy: 0.9453 - auc: 0.9342 - f1_score: 0.5316 - loss: 0.0288 - precision: 0.7490 - recall: 0.4472 - learning_rate: 0.0000\n",
      "2025-06-16 10:14:53 - INFO - Validation - accuracy: 0.9340 - auc: 0.7562 - f1_score: 0.2039 - loss: 0.0640 - precision: 0.3193 - recall: 0.1694\n",
      "2025-06-16 10:14:53 - INFO - ==================================================\n",
      "\n"
     ]
    },
    {
     "name": "stdout",
     "output_type": "stream",
     "text": [
      "\u001b[1m813/813\u001b[0m \u001b[32m━━━━━━━━━━━━━━━━━━━━\u001b[0m\u001b[37m\u001b[0m \u001b[1m199s\u001b[0m 245ms/step - accuracy: 0.9449 - auc: 0.9331 - f1_score: 0.5300 - loss: 0.0289 - precision: 0.7467 - recall: 0.4455 - val_accuracy: 0.9340 - val_auc: 0.7562 - val_f1_score: 0.2039 - val_loss: 0.0640 - val_precision: 0.3193 - val_recall: 0.1694 - learning_rate: 1.5625e-06\n"
     ]
    },
    {
     "name": "stderr",
     "output_type": "stream",
     "text": [
      "2025-06-16 10:14:53 - INFO - \n",
      "=== Starting Epoch 53 ===\n",
      "\n"
     ]
    },
    {
     "name": "stdout",
     "output_type": "stream",
     "text": [
      "Epoch 53/100\n",
      "\u001b[1m813/813\u001b[0m \u001b[32m━━━━━━━━━━━━━━━━━━━━\u001b[0m\u001b[37m\u001b[0m \u001b[1m0s\u001b[0m 229ms/step - accuracy: 0.9453 - auc: 0.9333 - f1_score: 0.5316 - loss: 0.0290 - precision: 0.7517 - recall: 0.4469  "
     ]
    },
    {
     "name": "stderr",
     "output_type": "stream",
     "text": [
      "2025-06-16 10:18:13 - INFO - \n",
      "=== Epoch 53 Summary ===\n",
      "2025-06-16 10:18:13 - INFO - Time: 199.72s\n",
      "2025-06-16 10:18:13 - INFO - Training   - accuracy: 0.9458 - auc: 0.9352 - f1_score: 0.5355 - loss: 0.0287 - precision: 0.7542 - recall: 0.4507 - learning_rate: 0.0000\n",
      "2025-06-16 10:18:13 - INFO - Validation - accuracy: 0.9346 - auc: 0.7563 - f1_score: 0.2126 - loss: 0.0639 - precision: 0.3315 - recall: 0.1787\n",
      "2025-06-16 10:18:13 - INFO - ==================================================\n",
      "\n"
     ]
    },
    {
     "name": "stdout",
     "output_type": "stream",
     "text": [
      "\u001b[1m813/813\u001b[0m \u001b[32m━━━━━━━━━━━━━━━━━━━━\u001b[0m\u001b[37m\u001b[0m \u001b[1m200s\u001b[0m 246ms/step - accuracy: 0.9453 - auc: 0.9333 - f1_score: 0.5316 - loss: 0.0290 - precision: 0.7517 - recall: 0.4469 - val_accuracy: 0.9346 - val_auc: 0.7563 - val_f1_score: 0.2126 - val_loss: 0.0639 - val_precision: 0.3315 - val_recall: 0.1787 - learning_rate: 1.0000e-06\n"
     ]
    },
    {
     "name": "stderr",
     "output_type": "stream",
     "text": [
      "2025-06-16 10:18:13 - INFO - \n",
      "=== Starting Epoch 54 ===\n",
      "\n"
     ]
    },
    {
     "name": "stdout",
     "output_type": "stream",
     "text": [
      "Epoch 54/100\n",
      "\u001b[1m813/813\u001b[0m \u001b[32m━━━━━━━━━━━━━━━━━━━━\u001b[0m\u001b[37m\u001b[0m \u001b[1m0s\u001b[0m 230ms/step - accuracy: 0.9455 - auc: 0.9349 - f1_score: 0.5375 - loss: 0.0288 - precision: 0.7527 - recall: 0.4529  "
     ]
    },
    {
     "name": "stderr",
     "output_type": "stream",
     "text": [
      "2025-06-16 10:21:34 - INFO - \n",
      "=== Epoch 54 Summary ===\n",
      "2025-06-16 10:21:34 - INFO - Time: 201.48s\n",
      "2025-06-16 10:21:34 - INFO - Training   - accuracy: 0.9459 - auc: 0.9356 - f1_score: 0.5381 - loss: 0.0285 - precision: 0.7520 - recall: 0.4542 - learning_rate: 0.0000\n",
      "2025-06-16 10:21:34 - INFO - Validation - accuracy: 0.9345 - auc: 0.7562 - f1_score: 0.2125 - loss: 0.0643 - precision: 0.3299 - recall: 0.1777\n",
      "2025-06-16 10:21:34 - INFO - ==================================================\n",
      "\n"
     ]
    },
    {
     "name": "stdout",
     "output_type": "stream",
     "text": [
      "\u001b[1m813/813\u001b[0m \u001b[32m━━━━━━━━━━━━━━━━━━━━\u001b[0m\u001b[37m\u001b[0m \u001b[1m201s\u001b[0m 248ms/step - accuracy: 0.9455 - auc: 0.9349 - f1_score: 0.5375 - loss: 0.0288 - precision: 0.7527 - recall: 0.4529 - val_accuracy: 0.9345 - val_auc: 0.7562 - val_f1_score: 0.2125 - val_loss: 0.0643 - val_precision: 0.3299 - val_recall: 0.1777 - learning_rate: 1.0000e-06\n"
     ]
    },
    {
     "name": "stderr",
     "output_type": "stream",
     "text": [
      "2025-06-16 10:21:34 - INFO - \n",
      "=== Starting Epoch 55 ===\n",
      "\n"
     ]
    },
    {
     "name": "stdout",
     "output_type": "stream",
     "text": [
      "Epoch 55/100\n",
      "\u001b[1m813/813\u001b[0m \u001b[32m━━━━━━━━━━━━━━━━━━━━\u001b[0m\u001b[37m\u001b[0m \u001b[1m0s\u001b[0m 229ms/step - accuracy: 0.9457 - auc: 0.9363 - f1_score: 0.5389 - loss: 0.0285 - precision: 0.7541 - recall: 0.4541  "
     ]
    },
    {
     "name": "stderr",
     "output_type": "stream",
     "text": [
      "2025-06-16 10:24:54 - INFO - \n",
      "=== Epoch 55 Summary ===\n",
      "2025-06-16 10:24:54 - INFO - Time: 199.88s\n",
      "2025-06-16 10:24:54 - INFO - Training   - accuracy: 0.9460 - auc: 0.9366 - f1_score: 0.5398 - loss: 0.0284 - precision: 0.7529 - recall: 0.4557 - learning_rate: 0.0000\n",
      "2025-06-16 10:24:54 - INFO - Validation - accuracy: 0.9340 - auc: 0.7564 - f1_score: 0.2126 - loss: 0.0643 - precision: 0.3217 - recall: 0.1728\n",
      "2025-06-16 10:24:54 - INFO - ==================================================\n",
      "\n"
     ]
    },
    {
     "name": "stdout",
     "output_type": "stream",
     "text": [
      "\u001b[1m813/813\u001b[0m \u001b[32m━━━━━━━━━━━━━━━━━━━━\u001b[0m\u001b[37m\u001b[0m \u001b[1m200s\u001b[0m 246ms/step - accuracy: 0.9457 - auc: 0.9363 - f1_score: 0.5389 - loss: 0.0285 - precision: 0.7541 - recall: 0.4542 - val_accuracy: 0.9340 - val_auc: 0.7564 - val_f1_score: 0.2126 - val_loss: 0.0643 - val_precision: 0.3217 - val_recall: 0.1728 - learning_rate: 1.0000e-06\n"
     ]
    },
    {
     "name": "stderr",
     "output_type": "stream",
     "text": [
      "2025-06-16 10:24:54 - INFO - \n",
      "=== Starting Epoch 56 ===\n",
      "\n"
     ]
    },
    {
     "name": "stdout",
     "output_type": "stream",
     "text": [
      "Epoch 56/100\n",
      "\u001b[1m813/813\u001b[0m \u001b[32m━━━━━━━━━━━━━━━━━━━━\u001b[0m\u001b[37m\u001b[0m \u001b[1m0s\u001b[0m 228ms/step - accuracy: 0.9458 - auc: 0.9362 - f1_score: 0.5402 - loss: 0.0286 - precision: 0.7541 - recall: 0.4554  "
     ]
    },
    {
     "name": "stderr",
     "output_type": "stream",
     "text": [
      "2025-06-16 10:28:13 - INFO - \n",
      "=== Epoch 56 Summary ===\n",
      "2025-06-16 10:28:13 - INFO - Time: 198.62s\n",
      "2025-06-16 10:28:13 - INFO - Training   - accuracy: 0.9461 - auc: 0.9371 - f1_score: 0.5410 - loss: 0.0284 - precision: 0.7544 - recall: 0.4566 - learning_rate: 0.0000\n",
      "2025-06-16 10:28:13 - INFO - Validation - accuracy: 0.9343 - auc: 0.7578 - f1_score: 0.2126 - loss: 0.0645 - precision: 0.3270 - recall: 0.1767\n",
      "2025-06-16 10:28:13 - INFO - ==================================================\n",
      "\n"
     ]
    },
    {
     "name": "stdout",
     "output_type": "stream",
     "text": [
      "\u001b[1m813/813\u001b[0m \u001b[32m━━━━━━━━━━━━━━━━━━━━\u001b[0m\u001b[37m\u001b[0m \u001b[1m199s\u001b[0m 244ms/step - accuracy: 0.9458 - auc: 0.9362 - f1_score: 0.5402 - loss: 0.0286 - precision: 0.7541 - recall: 0.4554 - val_accuracy: 0.9343 - val_auc: 0.7578 - val_f1_score: 0.2126 - val_loss: 0.0645 - val_precision: 0.3270 - val_recall: 0.1767 - learning_rate: 1.0000e-06\n"
     ]
    },
    {
     "name": "stderr",
     "output_type": "stream",
     "text": [
      "2025-06-16 10:28:13 - INFO - \n",
      "=== Starting Epoch 57 ===\n",
      "\n"
     ]
    },
    {
     "name": "stdout",
     "output_type": "stream",
     "text": [
      "Epoch 57/100\n",
      "\u001b[1m813/813\u001b[0m \u001b[32m━━━━━━━━━━━━━━━━━━━━\u001b[0m\u001b[37m\u001b[0m \u001b[1m0s\u001b[0m 230ms/step - accuracy: 0.9459 - auc: 0.9358 - f1_score: 0.5399 - loss: 0.0285 - precision: 0.7535 - recall: 0.4548  "
     ]
    },
    {
     "name": "stderr",
     "output_type": "stream",
     "text": [
      "2025-06-16 10:31:34 - INFO - \n",
      "=== Epoch 57 Summary ===\n",
      "2025-06-16 10:31:34 - INFO - Time: 201.36s\n",
      "2025-06-16 10:31:34 - INFO - Training   - accuracy: 0.9464 - auc: 0.9372 - f1_score: 0.5435 - loss: 0.0283 - precision: 0.7567 - recall: 0.4586 - learning_rate: 0.0000\n",
      "2025-06-16 10:31:34 - INFO - Validation - accuracy: 0.9347 - auc: 0.7564 - f1_score: 0.2125 - loss: 0.0645 - precision: 0.3313 - recall: 0.1763\n",
      "2025-06-16 10:31:34 - INFO - ==================================================\n",
      "\n"
     ]
    },
    {
     "name": "stdout",
     "output_type": "stream",
     "text": [
      "\u001b[1m813/813\u001b[0m \u001b[32m━━━━━━━━━━━━━━━━━━━━\u001b[0m\u001b[37m\u001b[0m \u001b[1m201s\u001b[0m 248ms/step - accuracy: 0.9459 - auc: 0.9358 - f1_score: 0.5399 - loss: 0.0285 - precision: 0.7535 - recall: 0.4548 - val_accuracy: 0.9347 - val_auc: 0.7564 - val_f1_score: 0.2125 - val_loss: 0.0645 - val_precision: 0.3313 - val_recall: 0.1763 - learning_rate: 1.0000e-06\n"
     ]
    },
    {
     "name": "stderr",
     "output_type": "stream",
     "text": [
      "2025-06-16 10:31:34 - INFO - \n",
      "=== Starting Epoch 58 ===\n",
      "\n"
     ]
    },
    {
     "name": "stdout",
     "output_type": "stream",
     "text": [
      "Epoch 58/100\n",
      "\u001b[1m813/813\u001b[0m \u001b[32m━━━━━━━━━━━━━━━━━━━━\u001b[0m\u001b[37m\u001b[0m \u001b[1m0s\u001b[0m 230ms/step - accuracy: 0.9459 - auc: 0.9363 - f1_score: 0.5418 - loss: 0.0286 - precision: 0.7538 - recall: 0.4573  "
     ]
    },
    {
     "name": "stderr",
     "output_type": "stream",
     "text": [
      "2025-06-16 10:34:55 - INFO - \n",
      "=== Epoch 58 Summary ===\n",
      "2025-06-16 10:34:55 - INFO - Time: 200.69s\n",
      "2025-06-16 10:34:55 - INFO - Training   - accuracy: 0.9465 - auc: 0.9371 - f1_score: 0.5457 - loss: 0.0283 - precision: 0.7562 - recall: 0.4610 - learning_rate: 0.0000\n",
      "2025-06-16 10:34:55 - INFO - Validation - accuracy: 0.9340 - auc: 0.7572 - f1_score: 0.2174 - loss: 0.0643 - precision: 0.3292 - recall: 0.1844\n",
      "2025-06-16 10:34:55 - INFO - ==================================================\n",
      "\n"
     ]
    },
    {
     "name": "stdout",
     "output_type": "stream",
     "text": [
      "\u001b[1m813/813\u001b[0m \u001b[32m━━━━━━━━━━━━━━━━━━━━\u001b[0m\u001b[37m\u001b[0m \u001b[1m201s\u001b[0m 247ms/step - accuracy: 0.9459 - auc: 0.9363 - f1_score: 0.5418 - loss: 0.0286 - precision: 0.7538 - recall: 0.4573 - val_accuracy: 0.9340 - val_auc: 0.7572 - val_f1_score: 0.2174 - val_loss: 0.0643 - val_precision: 0.3292 - val_recall: 0.1844 - learning_rate: 1.0000e-06\n"
     ]
    },
    {
     "name": "stderr",
     "output_type": "stream",
     "text": [
      "2025-06-16 10:34:55 - INFO - \n",
      "=== Starting Epoch 59 ===\n",
      "\n"
     ]
    },
    {
     "name": "stdout",
     "output_type": "stream",
     "text": [
      "Epoch 59/100\n",
      "\u001b[1m813/813\u001b[0m \u001b[32m━━━━━━━━━━━━━━━━━━━━\u001b[0m\u001b[37m\u001b[0m \u001b[1m0s\u001b[0m 228ms/step - accuracy: 0.9465 - auc: 0.9373 - f1_score: 0.5490 - loss: 0.0282 - precision: 0.7578 - recall: 0.4640  "
     ]
    },
    {
     "name": "stderr",
     "output_type": "stream",
     "text": [
      "2025-06-16 10:38:14 - INFO - \n",
      "=== Epoch 59 Summary ===\n",
      "2025-06-16 10:38:14 - INFO - Time: 198.80s\n",
      "2025-06-16 10:38:14 - INFO - Training   - accuracy: 0.9467 - auc: 0.9380 - f1_score: 0.5480 - loss: 0.0281 - precision: 0.7567 - recall: 0.4634 - learning_rate: 0.0000\n",
      "2025-06-16 10:38:14 - INFO - Validation - accuracy: 0.9346 - auc: 0.7566 - f1_score: 0.2102 - loss: 0.0647 - precision: 0.3288 - recall: 0.1736\n",
      "2025-06-16 10:38:14 - INFO - ==================================================\n",
      "\n"
     ]
    },
    {
     "name": "stdout",
     "output_type": "stream",
     "text": [
      "\u001b[1m813/813\u001b[0m \u001b[32m━━━━━━━━━━━━━━━━━━━━\u001b[0m\u001b[37m\u001b[0m \u001b[1m199s\u001b[0m 245ms/step - accuracy: 0.9465 - auc: 0.9373 - f1_score: 0.5490 - loss: 0.0282 - precision: 0.7578 - recall: 0.4640 - val_accuracy: 0.9346 - val_auc: 0.7566 - val_f1_score: 0.2102 - val_loss: 0.0647 - val_precision: 0.3288 - val_recall: 0.1736 - learning_rate: 1.0000e-06\n"
     ]
    },
    {
     "name": "stderr",
     "output_type": "stream",
     "text": [
      "2025-06-16 10:38:14 - INFO - \n",
      "=== Starting Epoch 60 ===\n",
      "\n"
     ]
    },
    {
     "name": "stdout",
     "output_type": "stream",
     "text": [
      "Epoch 60/100\n",
      "\u001b[1m813/813\u001b[0m \u001b[32m━━━━━━━━━━━━━━━━━━━━\u001b[0m\u001b[37m\u001b[0m \u001b[1m0s\u001b[0m 230ms/step - accuracy: 0.9458 - auc: 0.9378 - f1_score: 0.5450 - loss: 0.0284 - precision: 0.7541 - recall: 0.4596  "
     ]
    },
    {
     "name": "stderr",
     "output_type": "stream",
     "text": [
      "2025-06-16 10:41:36 - INFO - \n",
      "=== Epoch 60 Summary ===\n",
      "2025-06-16 10:41:36 - INFO - Time: 202.43s\n",
      "2025-06-16 10:41:36 - INFO - Training   - accuracy: 0.9465 - auc: 0.9381 - f1_score: 0.5482 - loss: 0.0281 - precision: 0.7539 - recall: 0.4642 - learning_rate: 0.0000\n",
      "2025-06-16 10:41:36 - INFO - Validation - accuracy: 0.9337 - auc: 0.7549 - f1_score: 0.2203 - loss: 0.0646 - precision: 0.3283 - recall: 0.1882\n",
      "2025-06-16 10:41:36 - INFO - ==================================================\n",
      "\n"
     ]
    },
    {
     "name": "stdout",
     "output_type": "stream",
     "text": [
      "\u001b[1m813/813\u001b[0m \u001b[32m━━━━━━━━━━━━━━━━━━━━\u001b[0m\u001b[37m\u001b[0m \u001b[1m202s\u001b[0m 249ms/step - accuracy: 0.9458 - auc: 0.9378 - f1_score: 0.5450 - loss: 0.0284 - precision: 0.7541 - recall: 0.4596 - val_accuracy: 0.9337 - val_auc: 0.7549 - val_f1_score: 0.2203 - val_loss: 0.0646 - val_precision: 0.3283 - val_recall: 0.1882 - learning_rate: 1.0000e-06\n"
     ]
    },
    {
     "name": "stderr",
     "output_type": "stream",
     "text": [
      "2025-06-16 10:41:36 - INFO - \n",
      "=== Starting Epoch 61 ===\n",
      "\n"
     ]
    },
    {
     "name": "stdout",
     "output_type": "stream",
     "text": [
      "Epoch 61/100\n",
      "\u001b[1m813/813\u001b[0m \u001b[32m━━━━━━━━━━━━━━━━━━━━\u001b[0m\u001b[37m\u001b[0m \u001b[1m0s\u001b[0m 230ms/step - accuracy: 0.9462 - auc: 0.9374 - f1_score: 0.5466 - loss: 0.0284 - precision: 0.7562 - recall: 0.4614  "
     ]
    },
    {
     "name": "stderr",
     "output_type": "stream",
     "text": [
      "2025-06-16 10:44:56 - INFO - \n",
      "=== Epoch 61 Summary ===\n",
      "2025-06-16 10:44:56 - INFO - Time: 200.06s\n",
      "2025-06-16 10:44:56 - INFO - Training   - accuracy: 0.9466 - auc: 0.9383 - f1_score: 0.5483 - loss: 0.0281 - precision: 0.7560 - recall: 0.4641 - learning_rate: 0.0000\n",
      "2025-06-16 10:44:56 - INFO - Validation - accuracy: 0.9343 - auc: 0.7553 - f1_score: 0.2089 - loss: 0.0651 - precision: 0.3262 - recall: 0.1742\n",
      "2025-06-16 10:44:56 - INFO - ==================================================\n",
      "\n"
     ]
    },
    {
     "name": "stdout",
     "output_type": "stream",
     "text": [
      "\u001b[1m813/813\u001b[0m \u001b[32m━━━━━━━━━━━━━━━━━━━━\u001b[0m\u001b[37m\u001b[0m \u001b[1m200s\u001b[0m 246ms/step - accuracy: 0.9462 - auc: 0.9374 - f1_score: 0.5467 - loss: 0.0284 - precision: 0.7562 - recall: 0.4614 - val_accuracy: 0.9343 - val_auc: 0.7553 - val_f1_score: 0.2089 - val_loss: 0.0651 - val_precision: 0.3262 - val_recall: 0.1742 - learning_rate: 1.0000e-06\n"
     ]
    },
    {
     "name": "stderr",
     "output_type": "stream",
     "text": [
      "2025-06-16 10:44:56 - INFO - \n",
      "=== Starting Epoch 62 ===\n",
      "\n"
     ]
    },
    {
     "name": "stdout",
     "output_type": "stream",
     "text": [
      "Epoch 62/100\n",
      "\u001b[1m813/813\u001b[0m \u001b[32m━━━━━━━━━━━━━━━━━━━━\u001b[0m\u001b[37m\u001b[0m \u001b[1m0s\u001b[0m 229ms/step - accuracy: 0.9462 - auc: 0.9383 - f1_score: 0.5471 - loss: 0.0282 - precision: 0.7532 - recall: 0.4628  "
     ]
    },
    {
     "name": "stderr",
     "output_type": "stream",
     "text": [
      "2025-06-16 10:48:16 - INFO - \n",
      "=== Epoch 62 Summary ===\n",
      "2025-06-16 10:48:16 - INFO - Time: 199.21s\n",
      "2025-06-16 10:48:16 - INFO - Training   - accuracy: 0.9468 - auc: 0.9390 - f1_score: 0.5503 - loss: 0.0279 - precision: 0.7562 - recall: 0.4661 - learning_rate: 0.0000\n",
      "2025-06-16 10:48:16 - INFO - Validation - accuracy: 0.9338 - auc: 0.7541 - f1_score: 0.2169 - loss: 0.0649 - precision: 0.3238 - recall: 0.1801\n",
      "2025-06-16 10:48:16 - INFO - ==================================================\n",
      "\n"
     ]
    },
    {
     "name": "stdout",
     "output_type": "stream",
     "text": [
      "\u001b[1m813/813\u001b[0m \u001b[32m━━━━━━━━━━━━━━━━━━━━\u001b[0m\u001b[37m\u001b[0m \u001b[1m199s\u001b[0m 245ms/step - accuracy: 0.9462 - auc: 0.9383 - f1_score: 0.5471 - loss: 0.0282 - precision: 0.7532 - recall: 0.4628 - val_accuracy: 0.9338 - val_auc: 0.7541 - val_f1_score: 0.2169 - val_loss: 0.0649 - val_precision: 0.3238 - val_recall: 0.1801 - learning_rate: 1.0000e-06\n"
     ]
    },
    {
     "name": "stderr",
     "output_type": "stream",
     "text": [
      "2025-06-16 10:48:16 - INFO - \n",
      "=== Starting Epoch 63 ===\n",
      "\n"
     ]
    },
    {
     "name": "stdout",
     "output_type": "stream",
     "text": [
      "Epoch 63/100\n",
      "\u001b[1m813/813\u001b[0m \u001b[32m━━━━━━━━━━━━━━━━━━━━\u001b[0m\u001b[37m\u001b[0m \u001b[1m0s\u001b[0m 231ms/step - accuracy: 0.9467 - auc: 0.9387 - f1_score: 0.5529 - loss: 0.0282 - precision: 0.7570 - recall: 0.4681  "
     ]
    },
    {
     "name": "stderr",
     "output_type": "stream",
     "text": [
      "2025-06-16 10:51:33 - INFO - \n",
      "=== Epoch 63 Summary ===\n",
      "2025-06-16 10:51:33 - INFO - Time: 197.15s\n",
      "2025-06-16 10:51:33 - INFO - Training   - accuracy: 0.9471 - auc: 0.9393 - f1_score: 0.5535 - loss: 0.0278 - precision: 0.7575 - recall: 0.4695 - learning_rate: 0.0000\n",
      "2025-06-16 10:51:33 - INFO - Validation - accuracy: 0.9347 - auc: 0.7553 - f1_score: 0.2159 - loss: 0.0650 - precision: 0.3335 - recall: 0.1797\n",
      "2025-06-16 10:51:33 - INFO - ==================================================\n",
      "\n"
     ]
    },
    {
     "name": "stdout",
     "output_type": "stream",
     "text": [
      "\u001b[1m813/813\u001b[0m \u001b[32m━━━━━━━━━━━━━━━━━━━━\u001b[0m\u001b[37m\u001b[0m \u001b[1m197s\u001b[0m 243ms/step - accuracy: 0.9467 - auc: 0.9387 - f1_score: 0.5529 - loss: 0.0282 - precision: 0.7570 - recall: 0.4681 - val_accuracy: 0.9347 - val_auc: 0.7553 - val_f1_score: 0.2159 - val_loss: 0.0650 - val_precision: 0.3335 - val_recall: 0.1797 - learning_rate: 1.0000e-06\n"
     ]
    },
    {
     "name": "stderr",
     "output_type": "stream",
     "text": [
      "2025-06-16 10:51:33 - INFO - \n",
      "=== Starting Epoch 64 ===\n",
      "\n"
     ]
    },
    {
     "name": "stdout",
     "output_type": "stream",
     "text": [
      "Epoch 64/100\n",
      "\u001b[1m813/813\u001b[0m \u001b[32m━━━━━━━━━━━━━━━━━━━━\u001b[0m\u001b[37m\u001b[0m \u001b[1m0s\u001b[0m 235ms/step - accuracy: 0.9468 - auc: 0.9391 - f1_score: 0.5551 - loss: 0.0281 - precision: 0.7617 - recall: 0.4686  "
     ]
    },
    {
     "name": "stderr",
     "output_type": "stream",
     "text": [
      "2025-06-16 10:54:54 - INFO - \n",
      "=== Epoch 64 Summary ===\n",
      "2025-06-16 10:54:54 - INFO - Time: 201.33s\n",
      "2025-06-16 10:54:54 - INFO - Training   - accuracy: 0.9471 - auc: 0.9398 - f1_score: 0.5554 - loss: 0.0278 - precision: 0.7588 - recall: 0.4709 - learning_rate: 0.0000\n",
      "2025-06-16 10:54:54 - INFO - Validation - accuracy: 0.9332 - auc: 0.7560 - f1_score: 0.2224 - loss: 0.0646 - precision: 0.3221 - recall: 0.1862\n",
      "2025-06-16 10:54:54 - INFO - ==================================================\n",
      "\n"
     ]
    },
    {
     "name": "stdout",
     "output_type": "stream",
     "text": [
      "\u001b[1m813/813\u001b[0m \u001b[32m━━━━━━━━━━━━━━━━━━━━\u001b[0m\u001b[37m\u001b[0m \u001b[1m201s\u001b[0m 248ms/step - accuracy: 0.9468 - auc: 0.9391 - f1_score: 0.5551 - loss: 0.0281 - precision: 0.7617 - recall: 0.4686 - val_accuracy: 0.9332 - val_auc: 0.7560 - val_f1_score: 0.2224 - val_loss: 0.0646 - val_precision: 0.3221 - val_recall: 0.1862 - learning_rate: 1.0000e-06\n"
     ]
    },
    {
     "name": "stderr",
     "output_type": "stream",
     "text": [
      "2025-06-16 10:54:54 - INFO - \n",
      "=== Starting Epoch 65 ===\n",
      "\n"
     ]
    },
    {
     "name": "stdout",
     "output_type": "stream",
     "text": [
      "Epoch 65/100\n",
      "\u001b[1m813/813\u001b[0m \u001b[32m━━━━━━━━━━━━━━━━━━━━\u001b[0m\u001b[37m\u001b[0m \u001b[1m0s\u001b[0m 239ms/step - accuracy: 0.9472 - auc: 0.9393 - f1_score: 0.5575 - loss: 0.0279 - precision: 0.7608 - recall: 0.4723  "
     ]
    },
    {
     "name": "stderr",
     "output_type": "stream",
     "text": [
      "2025-06-16 10:58:17 - INFO - \n",
      "=== Epoch 65 Summary ===\n",
      "2025-06-16 10:58:17 - INFO - Time: 203.15s\n",
      "2025-06-16 10:58:17 - INFO - Training   - accuracy: 0.9475 - auc: 0.9406 - f1_score: 0.5584 - loss: 0.0276 - precision: 0.7612 - recall: 0.4738 - learning_rate: 0.0000\n",
      "2025-06-16 10:58:17 - INFO - Validation - accuracy: 0.9341 - auc: 0.7544 - f1_score: 0.2157 - loss: 0.0653 - precision: 0.3256 - recall: 0.1775\n",
      "2025-06-16 10:58:17 - INFO - ==================================================\n",
      "\n"
     ]
    },
    {
     "name": "stdout",
     "output_type": "stream",
     "text": [
      "\u001b[1m813/813\u001b[0m \u001b[32m━━━━━━━━━━━━━━━━━━━━\u001b[0m\u001b[37m\u001b[0m \u001b[1m203s\u001b[0m 250ms/step - accuracy: 0.9472 - auc: 0.9393 - f1_score: 0.5575 - loss: 0.0279 - precision: 0.7608 - recall: 0.4723 - val_accuracy: 0.9341 - val_auc: 0.7544 - val_f1_score: 0.2157 - val_loss: 0.0653 - val_precision: 0.3256 - val_recall: 0.1775 - learning_rate: 1.0000e-06\n"
     ]
    },
    {
     "name": "stderr",
     "output_type": "stream",
     "text": [
      "2025-06-16 10:58:17 - INFO - \n",
      "=== Starting Epoch 66 ===\n",
      "\n"
     ]
    },
    {
     "name": "stdout",
     "output_type": "stream",
     "text": [
      "Epoch 66/100\n",
      "\u001b[1m813/813\u001b[0m \u001b[32m━━━━━━━━━━━━━━━━━━━━\u001b[0m\u001b[37m\u001b[0m \u001b[1m0s\u001b[0m 240ms/step - accuracy: 0.9470 - auc: 0.9393 - f1_score: 0.5561 - loss: 0.0280 - precision: 0.7581 - recall: 0.4717  "
     ]
    },
    {
     "name": "stderr",
     "output_type": "stream",
     "text": [
      "2025-06-16 11:01:46 - INFO - \n",
      "=== Epoch 66 Summary ===\n",
      "2025-06-16 11:01:46 - INFO - Time: 208.82s\n",
      "2025-06-16 11:01:46 - INFO - Training   - accuracy: 0.9474 - auc: 0.9401 - f1_score: 0.5580 - loss: 0.0277 - precision: 0.7596 - recall: 0.4737 - learning_rate: 0.0000\n",
      "2025-06-16 11:01:46 - INFO - Validation - accuracy: 0.9348 - auc: 0.7537 - f1_score: 0.2108 - loss: 0.0653 - precision: 0.3316 - recall: 0.1737\n",
      "2025-06-16 11:01:46 - INFO - ==================================================\n",
      "\n"
     ]
    },
    {
     "name": "stdout",
     "output_type": "stream",
     "text": [
      "\u001b[1m813/813\u001b[0m \u001b[32m━━━━━━━━━━━━━━━━━━━━\u001b[0m\u001b[37m\u001b[0m \u001b[1m209s\u001b[0m 257ms/step - accuracy: 0.9470 - auc: 0.9393 - f1_score: 0.5561 - loss: 0.0280 - precision: 0.7581 - recall: 0.4717 - val_accuracy: 0.9348 - val_auc: 0.7537 - val_f1_score: 0.2108 - val_loss: 0.0653 - val_precision: 0.3316 - val_recall: 0.1737 - learning_rate: 1.0000e-06\n"
     ]
    },
    {
     "name": "stderr",
     "output_type": "stream",
     "text": [
      "2025-06-16 11:01:46 - INFO - \n",
      "=== Starting Epoch 67 ===\n",
      "\n"
     ]
    },
    {
     "name": "stdout",
     "output_type": "stream",
     "text": [
      "Epoch 67/100\n",
      "\u001b[1m813/813\u001b[0m \u001b[32m━━━━━━━━━━━━━━━━━━━━\u001b[0m\u001b[37m\u001b[0m \u001b[1m0s\u001b[0m 237ms/step - accuracy: 0.9476 - auc: 0.9401 - f1_score: 0.5612 - loss: 0.0277 - precision: 0.7617 - recall: 0.4765  "
     ]
    },
    {
     "name": "stderr",
     "output_type": "stream",
     "text": [
      "2025-06-16 11:05:08 - INFO - \n",
      "=== Epoch 67 Summary ===\n",
      "2025-06-16 11:05:08 - INFO - Time: 202.23s\n",
      "2025-06-16 11:05:08 - INFO - Training   - accuracy: 0.9477 - auc: 0.9407 - f1_score: 0.5606 - loss: 0.0275 - precision: 0.7620 - recall: 0.4763 - learning_rate: 0.0000\n",
      "2025-06-16 11:05:08 - INFO - Validation - accuracy: 0.9331 - auc: 0.7554 - f1_score: 0.2233 - loss: 0.0652 - precision: 0.3219 - recall: 0.1875\n",
      "2025-06-16 11:05:08 - INFO - ==================================================\n",
      "\n"
     ]
    },
    {
     "name": "stdout",
     "output_type": "stream",
     "text": [
      "\u001b[1m813/813\u001b[0m \u001b[32m━━━━━━━━━━━━━━━━━━━━\u001b[0m\u001b[37m\u001b[0m \u001b[1m202s\u001b[0m 249ms/step - accuracy: 0.9476 - auc: 0.9401 - f1_score: 0.5612 - loss: 0.0277 - precision: 0.7617 - recall: 0.4765 - val_accuracy: 0.9331 - val_auc: 0.7554 - val_f1_score: 0.2233 - val_loss: 0.0652 - val_precision: 0.3219 - val_recall: 0.1875 - learning_rate: 1.0000e-06\n"
     ]
    },
    {
     "name": "stderr",
     "output_type": "stream",
     "text": [
      "2025-06-16 11:05:08 - INFO - \n",
      "=== Starting Epoch 68 ===\n",
      "\n"
     ]
    },
    {
     "name": "stdout",
     "output_type": "stream",
     "text": [
      "Epoch 68/100\n",
      "\u001b[1m813/813\u001b[0m \u001b[32m━━━━━━━━━━━━━━━━━━━━\u001b[0m\u001b[37m\u001b[0m \u001b[1m0s\u001b[0m 239ms/step - accuracy: 0.9477 - auc: 0.9416 - f1_score: 0.5633 - loss: 0.0274 - precision: 0.7653 - recall: 0.4777  "
     ]
    },
    {
     "name": "stderr",
     "output_type": "stream",
     "text": [
      "2025-06-16 11:08:32 - INFO - \n",
      "=== Epoch 68 Summary ===\n",
      "2025-06-16 11:08:32 - INFO - Time: 203.80s\n",
      "2025-06-16 11:08:32 - INFO - Training   - accuracy: 0.9478 - auc: 0.9416 - f1_score: 0.5626 - loss: 0.0274 - precision: 0.7634 - recall: 0.4779 - learning_rate: 0.0000\n",
      "2025-06-16 11:08:32 - INFO - Validation - accuracy: 0.9338 - auc: 0.7531 - f1_score: 0.2261 - loss: 0.0656 - precision: 0.3303 - recall: 0.1906\n",
      "2025-06-16 11:08:32 - INFO - ==================================================\n",
      "\n"
     ]
    },
    {
     "name": "stdout",
     "output_type": "stream",
     "text": [
      "\u001b[1m813/813\u001b[0m \u001b[32m━━━━━━━━━━━━━━━━━━━━\u001b[0m\u001b[37m\u001b[0m \u001b[1m204s\u001b[0m 251ms/step - accuracy: 0.9477 - auc: 0.9416 - f1_score: 0.5633 - loss: 0.0274 - precision: 0.7653 - recall: 0.4777 - val_accuracy: 0.9338 - val_auc: 0.7531 - val_f1_score: 0.2261 - val_loss: 0.0656 - val_precision: 0.3303 - val_recall: 0.1906 - learning_rate: 1.0000e-06\n"
     ]
    },
    {
     "name": "stderr",
     "output_type": "stream",
     "text": [
      "2025-06-16 11:08:32 - INFO - \n",
      "=== Starting Epoch 69 ===\n",
      "\n"
     ]
    },
    {
     "name": "stdout",
     "output_type": "stream",
     "text": [
      "Epoch 69/100\n",
      "\u001b[1m813/813\u001b[0m \u001b[32m━━━━━━━━━━━━━━━━━━━━\u001b[0m\u001b[37m\u001b[0m \u001b[1m0s\u001b[0m 238ms/step - accuracy: 0.9480 - auc: 0.9414 - f1_score: 0.5664 - loss: 0.0276 - precision: 0.7625 - recall: 0.4821  "
     ]
    },
    {
     "name": "stderr",
     "output_type": "stream",
     "text": [
      "2025-06-16 11:11:55 - INFO - \n",
      "=== Epoch 69 Summary ===\n",
      "2025-06-16 11:11:55 - INFO - Time: 202.67s\n",
      "2025-06-16 11:11:55 - INFO - Training   - accuracy: 0.9479 - auc: 0.9416 - f1_score: 0.5650 - loss: 0.0274 - precision: 0.7598 - recall: 0.4815 - learning_rate: 0.0000\n",
      "2025-06-16 11:11:55 - INFO - Validation - accuracy: 0.9342 - auc: 0.7545 - f1_score: 0.2132 - loss: 0.0656 - precision: 0.3237 - recall: 0.1722\n",
      "2025-06-16 11:11:55 - INFO - ==================================================\n",
      "\n"
     ]
    },
    {
     "name": "stdout",
     "output_type": "stream",
     "text": [
      "\u001b[1m813/813\u001b[0m \u001b[32m━━━━━━━━━━━━━━━━━━━━\u001b[0m\u001b[37m\u001b[0m \u001b[1m203s\u001b[0m 249ms/step - accuracy: 0.9480 - auc: 0.9414 - f1_score: 0.5664 - loss: 0.0276 - precision: 0.7625 - recall: 0.4821 - val_accuracy: 0.9342 - val_auc: 0.7545 - val_f1_score: 0.2132 - val_loss: 0.0656 - val_precision: 0.3237 - val_recall: 0.1722 - learning_rate: 1.0000e-06\n"
     ]
    },
    {
     "name": "stderr",
     "output_type": "stream",
     "text": [
      "2025-06-16 11:11:55 - INFO - \n",
      "=== Starting Epoch 70 ===\n",
      "\n"
     ]
    },
    {
     "name": "stdout",
     "output_type": "stream",
     "text": [
      "Epoch 70/100\n",
      "\u001b[1m813/813\u001b[0m \u001b[32m━━━━━━━━━━━━━━━━━━━━\u001b[0m\u001b[37m\u001b[0m \u001b[1m0s\u001b[0m 239ms/step - accuracy: 0.9478 - auc: 0.9415 - f1_score: 0.5669 - loss: 0.0275 - precision: 0.7654 - recall: 0.4813  "
     ]
    },
    {
     "name": "stderr",
     "output_type": "stream",
     "text": [
      "2025-06-16 11:15:18 - INFO - \n",
      "=== Epoch 70 Summary ===\n",
      "2025-06-16 11:15:18 - INFO - Time: 203.37s\n",
      "2025-06-16 11:15:18 - INFO - Training   - accuracy: 0.9480 - auc: 0.9424 - f1_score: 0.5669 - loss: 0.0273 - precision: 0.7630 - recall: 0.4827 - learning_rate: 0.0000\n",
      "2025-06-16 11:15:18 - INFO - Validation - accuracy: 0.9339 - auc: 0.7555 - f1_score: 0.2213 - loss: 0.0654 - precision: 0.3306 - recall: 0.1892\n",
      "2025-06-16 11:15:18 - INFO - ==================================================\n",
      "\n"
     ]
    },
    {
     "name": "stdout",
     "output_type": "stream",
     "text": [
      "\u001b[1m813/813\u001b[0m \u001b[32m━━━━━━━━━━━━━━━━━━━━\u001b[0m\u001b[37m\u001b[0m \u001b[1m203s\u001b[0m 250ms/step - accuracy: 0.9478 - auc: 0.9415 - f1_score: 0.5669 - loss: 0.0275 - precision: 0.7654 - recall: 0.4813 - val_accuracy: 0.9339 - val_auc: 0.7555 - val_f1_score: 0.2213 - val_loss: 0.0654 - val_precision: 0.3306 - val_recall: 0.1892 - learning_rate: 1.0000e-06\n"
     ]
    },
    {
     "name": "stderr",
     "output_type": "stream",
     "text": [
      "2025-06-16 11:15:18 - INFO - \n",
      "=== Starting Epoch 71 ===\n",
      "\n"
     ]
    },
    {
     "name": "stdout",
     "output_type": "stream",
     "text": [
      "Epoch 71/100\n",
      "\u001b[1m813/813\u001b[0m \u001b[32m━━━━━━━━━━━━━━━━━━━━\u001b[0m\u001b[37m\u001b[0m \u001b[1m0s\u001b[0m 240ms/step - accuracy: 0.9476 - auc: 0.9413 - f1_score: 0.5639 - loss: 0.0274 - precision: 0.7620 - recall: 0.4794  "
     ]
    },
    {
     "name": "stderr",
     "output_type": "stream",
     "text": [
      "2025-06-16 11:18:43 - INFO - \n",
      "=== Epoch 71 Summary ===\n",
      "2025-06-16 11:18:43 - INFO - Time: 204.84s\n",
      "2025-06-16 11:18:43 - INFO - Training   - accuracy: 0.9481 - auc: 0.9423 - f1_score: 0.5666 - loss: 0.0273 - precision: 0.7639 - recall: 0.4820 - learning_rate: 0.0000\n",
      "2025-06-16 11:18:43 - INFO - Validation - accuracy: 0.9338 - auc: 0.7545 - f1_score: 0.2176 - loss: 0.0665 - precision: 0.3255 - recall: 0.1823\n",
      "2025-06-16 11:18:43 - INFO - ==================================================\n",
      "\n"
     ]
    },
    {
     "name": "stdout",
     "output_type": "stream",
     "text": [
      "\u001b[1m813/813\u001b[0m \u001b[32m━━━━━━━━━━━━━━━━━━━━\u001b[0m\u001b[37m\u001b[0m \u001b[1m205s\u001b[0m 252ms/step - accuracy: 0.9476 - auc: 0.9413 - f1_score: 0.5639 - loss: 0.0274 - precision: 0.7620 - recall: 0.4794 - val_accuracy: 0.9338 - val_auc: 0.7545 - val_f1_score: 0.2176 - val_loss: 0.0665 - val_precision: 0.3255 - val_recall: 0.1823 - learning_rate: 1.0000e-06\n"
     ]
    },
    {
     "name": "stderr",
     "output_type": "stream",
     "text": [
      "2025-06-16 11:18:43 - INFO - \n",
      "=== Starting Epoch 72 ===\n",
      "\n"
     ]
    },
    {
     "name": "stdout",
     "output_type": "stream",
     "text": [
      "Epoch 72/100\n",
      "\u001b[1m813/813\u001b[0m \u001b[32m━━━━━━━━━━━━━━━━━━━━\u001b[0m\u001b[37m\u001b[0m \u001b[1m0s\u001b[0m 238ms/step - accuracy: 0.9477 - auc: 0.9418 - f1_score: 0.5663 - loss: 0.0275 - precision: 0.7614 - recall: 0.4815  "
     ]
    },
    {
     "name": "stderr",
     "output_type": "stream",
     "text": [
      "2025-06-16 11:22:05 - INFO - \n",
      "=== Epoch 72 Summary ===\n",
      "2025-06-16 11:22:05 - INFO - Time: 202.33s\n",
      "2025-06-16 11:22:05 - INFO - Training   - accuracy: 0.9482 - auc: 0.9425 - f1_score: 0.5697 - loss: 0.0272 - precision: 0.7629 - recall: 0.4854 - learning_rate: 0.0000\n",
      "2025-06-16 11:22:05 - INFO - Validation - accuracy: 0.9329 - auc: 0.7545 - f1_score: 0.2185 - loss: 0.0666 - precision: 0.3153 - recall: 0.1803\n",
      "2025-06-16 11:22:05 - INFO - ==================================================\n",
      "\n"
     ]
    },
    {
     "name": "stdout",
     "output_type": "stream",
     "text": [
      "\u001b[1m813/813\u001b[0m \u001b[32m━━━━━━━━━━━━━━━━━━━━\u001b[0m\u001b[37m\u001b[0m \u001b[1m202s\u001b[0m 249ms/step - accuracy: 0.9477 - auc: 0.9418 - f1_score: 0.5663 - loss: 0.0275 - precision: 0.7614 - recall: 0.4815 - val_accuracy: 0.9329 - val_auc: 0.7545 - val_f1_score: 0.2185 - val_loss: 0.0666 - val_precision: 0.3153 - val_recall: 0.1803 - learning_rate: 1.0000e-06\n"
     ]
    },
    {
     "name": "stderr",
     "output_type": "stream",
     "text": [
      "2025-06-16 11:22:05 - INFO - \n",
      "=== Starting Epoch 73 ===\n",
      "\n"
     ]
    },
    {
     "name": "stdout",
     "output_type": "stream",
     "text": [
      "Epoch 73/100\n",
      "\u001b[1m813/813\u001b[0m \u001b[32m━━━━━━━━━━━━━━━━━━━━\u001b[0m\u001b[37m\u001b[0m \u001b[1m0s\u001b[0m 239ms/step - accuracy: 0.9482 - auc: 0.9429 - f1_score: 0.5709 - loss: 0.0272 - precision: 0.7664 - recall: 0.4861  "
     ]
    },
    {
     "name": "stderr",
     "output_type": "stream",
     "text": [
      "2025-06-16 11:25:29 - INFO - \n",
      "=== Epoch 73 Summary ===\n",
      "2025-06-16 11:25:29 - INFO - Time: 203.45s\n",
      "2025-06-16 11:25:29 - INFO - Training   - accuracy: 0.9486 - auc: 0.9433 - f1_score: 0.5728 - loss: 0.0270 - precision: 0.7667 - recall: 0.4882 - learning_rate: 0.0000\n",
      "2025-06-16 11:25:29 - INFO - Validation - accuracy: 0.9334 - auc: 0.7532 - f1_score: 0.2136 - loss: 0.0662 - precision: 0.3197 - recall: 0.1793\n",
      "2025-06-16 11:25:29 - INFO - ==================================================\n",
      "\n"
     ]
    },
    {
     "name": "stdout",
     "output_type": "stream",
     "text": [
      "\u001b[1m813/813\u001b[0m \u001b[32m━━━━━━━━━━━━━━━━━━━━\u001b[0m\u001b[37m\u001b[0m \u001b[1m203s\u001b[0m 250ms/step - accuracy: 0.9482 - auc: 0.9429 - f1_score: 0.5709 - loss: 0.0272 - precision: 0.7664 - recall: 0.4861 - val_accuracy: 0.9334 - val_auc: 0.7532 - val_f1_score: 0.2136 - val_loss: 0.0662 - val_precision: 0.3197 - val_recall: 0.1793 - learning_rate: 1.0000e-06\n"
     ]
    },
    {
     "name": "stderr",
     "output_type": "stream",
     "text": [
      "2025-06-16 11:25:29 - INFO - \n",
      "=== Starting Epoch 74 ===\n",
      "\n"
     ]
    },
    {
     "name": "stdout",
     "output_type": "stream",
     "text": [
      "Epoch 74/100\n",
      "\u001b[1m813/813\u001b[0m \u001b[32m━━━━━━━━━━━━━━━━━━━━\u001b[0m\u001b[37m\u001b[0m \u001b[1m0s\u001b[0m 238ms/step - accuracy: 0.9486 - auc: 0.9431 - f1_score: 0.5749 - loss: 0.0272 - precision: 0.7670 - recall: 0.4904  "
     ]
    },
    {
     "name": "stderr",
     "output_type": "stream",
     "text": [
      "2025-06-16 11:28:51 - INFO - \n",
      "=== Epoch 74 Summary ===\n",
      "2025-06-16 11:28:51 - INFO - Time: 202.31s\n",
      "2025-06-16 11:28:51 - INFO - Training   - accuracy: 0.9487 - auc: 0.9437 - f1_score: 0.5746 - loss: 0.0270 - precision: 0.7655 - recall: 0.4906 - learning_rate: 0.0000\n",
      "2025-06-16 11:28:51 - INFO - Validation - accuracy: 0.9336 - auc: 0.7541 - f1_score: 0.2215 - loss: 0.0660 - precision: 0.3267 - recall: 0.1875\n",
      "2025-06-16 11:28:51 - INFO - ==================================================\n",
      "\n"
     ]
    },
    {
     "name": "stdout",
     "output_type": "stream",
     "text": [
      "\u001b[1m813/813\u001b[0m \u001b[32m━━━━━━━━━━━━━━━━━━━━\u001b[0m\u001b[37m\u001b[0m \u001b[1m202s\u001b[0m 249ms/step - accuracy: 0.9486 - auc: 0.9431 - f1_score: 0.5749 - loss: 0.0272 - precision: 0.7670 - recall: 0.4904 - val_accuracy: 0.9336 - val_auc: 0.7541 - val_f1_score: 0.2215 - val_loss: 0.0660 - val_precision: 0.3267 - val_recall: 0.1875 - learning_rate: 1.0000e-06\n"
     ]
    },
    {
     "name": "stderr",
     "output_type": "stream",
     "text": [
      "2025-06-16 11:28:51 - INFO - \n",
      "=== Starting Epoch 75 ===\n",
      "\n"
     ]
    },
    {
     "name": "stdout",
     "output_type": "stream",
     "text": [
      "Epoch 75/100\n",
      "\u001b[1m813/813\u001b[0m \u001b[32m━━━━━━━━━━━━━━━━━━━━\u001b[0m\u001b[37m\u001b[0m \u001b[1m0s\u001b[0m 238ms/step - accuracy: 0.9487 - auc: 0.9432 - f1_score: 0.5747 - loss: 0.0270 - precision: 0.7684 - recall: 0.4898  "
     ]
    },
    {
     "name": "stderr",
     "output_type": "stream",
     "text": [
      "2025-06-16 11:32:14 - INFO - \n",
      "=== Epoch 75 Summary ===\n",
      "2025-06-16 11:32:14 - INFO - Time: 202.73s\n",
      "2025-06-16 11:32:14 - INFO - Training   - accuracy: 0.9488 - auc: 0.9441 - f1_score: 0.5752 - loss: 0.0269 - precision: 0.7668 - recall: 0.4910 - learning_rate: 0.0000\n",
      "2025-06-16 11:32:14 - INFO - Validation - accuracy: 0.9335 - auc: 0.7513 - f1_score: 0.2235 - loss: 0.0666 - precision: 0.3251 - recall: 0.1873\n",
      "2025-06-16 11:32:14 - INFO - ==================================================\n",
      "\n"
     ]
    },
    {
     "name": "stdout",
     "output_type": "stream",
     "text": [
      "\u001b[1m813/813\u001b[0m \u001b[32m━━━━━━━━━━━━━━━━━━━━\u001b[0m\u001b[37m\u001b[0m \u001b[1m203s\u001b[0m 249ms/step - accuracy: 0.9487 - auc: 0.9432 - f1_score: 0.5747 - loss: 0.0270 - precision: 0.7684 - recall: 0.4898 - val_accuracy: 0.9335 - val_auc: 0.7513 - val_f1_score: 0.2235 - val_loss: 0.0666 - val_precision: 0.3251 - val_recall: 0.1873 - learning_rate: 1.0000e-06\n"
     ]
    },
    {
     "name": "stderr",
     "output_type": "stream",
     "text": [
      "2025-06-16 11:32:14 - INFO - \n",
      "=== Starting Epoch 76 ===\n",
      "\n"
     ]
    },
    {
     "name": "stdout",
     "output_type": "stream",
     "text": [
      "Epoch 76/100\n",
      "\u001b[1m813/813\u001b[0m \u001b[32m━━━━━━━━━━━━━━━━━━━━\u001b[0m\u001b[37m\u001b[0m \u001b[1m0s\u001b[0m 240ms/step - accuracy: 0.9486 - auc: 0.9434 - f1_score: 0.5773 - loss: 0.0270 - precision: 0.7672 - recall: 0.4930  "
     ]
    },
    {
     "name": "stderr",
     "output_type": "stream",
     "text": [
      "2025-06-16 11:35:38 - INFO - \n",
      "=== Epoch 76 Summary ===\n",
      "2025-06-16 11:35:38 - INFO - Time: 204.18s\n",
      "2025-06-16 11:35:38 - INFO - Training   - accuracy: 0.9488 - auc: 0.9440 - f1_score: 0.5759 - loss: 0.0269 - precision: 0.7671 - recall: 0.4916 - learning_rate: 0.0000\n",
      "2025-06-16 11:35:38 - INFO - Validation - accuracy: 0.9331 - auc: 0.7516 - f1_score: 0.2254 - loss: 0.0667 - precision: 0.3228 - recall: 0.1899\n",
      "2025-06-16 11:35:38 - INFO - ==================================================\n",
      "\n"
     ]
    },
    {
     "name": "stdout",
     "output_type": "stream",
     "text": [
      "\u001b[1m813/813\u001b[0m \u001b[32m━━━━━━━━━━━━━━━━━━━━\u001b[0m\u001b[37m\u001b[0m \u001b[1m204s\u001b[0m 251ms/step - accuracy: 0.9486 - auc: 0.9434 - f1_score: 0.5773 - loss: 0.0270 - precision: 0.7672 - recall: 0.4930 - val_accuracy: 0.9331 - val_auc: 0.7516 - val_f1_score: 0.2254 - val_loss: 0.0667 - val_precision: 0.3228 - val_recall: 0.1899 - learning_rate: 1.0000e-06\n"
     ]
    },
    {
     "name": "stderr",
     "output_type": "stream",
     "text": [
      "2025-06-16 11:35:38 - INFO - \n",
      "=== Starting Epoch 77 ===\n",
      "\n"
     ]
    },
    {
     "name": "stdout",
     "output_type": "stream",
     "text": [
      "Epoch 77/100\n",
      "\u001b[1m813/813\u001b[0m \u001b[32m━━━━━━━━━━━━━━━━━━━━\u001b[0m\u001b[37m\u001b[0m \u001b[1m0s\u001b[0m 238ms/step - accuracy: 0.9489 - auc: 0.9446 - f1_score: 0.5793 - loss: 0.0269 - precision: 0.7691 - recall: 0.4945  "
     ]
    },
    {
     "name": "stderr",
     "output_type": "stream",
     "text": [
      "2025-06-16 11:39:00 - INFO - \n",
      "=== Epoch 77 Summary ===\n",
      "2025-06-16 11:39:00 - INFO - Time: 202.29s\n",
      "2025-06-16 11:39:00 - INFO - Training   - accuracy: 0.9492 - auc: 0.9451 - f1_score: 0.5801 - loss: 0.0267 - precision: 0.7696 - recall: 0.4956 - learning_rate: 0.0000\n",
      "2025-06-16 11:39:00 - INFO - Validation - accuracy: 0.9343 - auc: 0.7542 - f1_score: 0.2155 - loss: 0.0663 - precision: 0.3285 - recall: 0.1779\n",
      "2025-06-16 11:39:00 - INFO - ==================================================\n",
      "\n"
     ]
    },
    {
     "name": "stdout",
     "output_type": "stream",
     "text": [
      "\u001b[1m813/813\u001b[0m \u001b[32m━━━━━━━━━━━━━━━━━━━━\u001b[0m\u001b[37m\u001b[0m \u001b[1m202s\u001b[0m 249ms/step - accuracy: 0.9489 - auc: 0.9446 - f1_score: 0.5793 - loss: 0.0269 - precision: 0.7691 - recall: 0.4945 - val_accuracy: 0.9343 - val_auc: 0.7542 - val_f1_score: 0.2155 - val_loss: 0.0663 - val_precision: 0.3285 - val_recall: 0.1779 - learning_rate: 1.0000e-06\n"
     ]
    },
    {
     "name": "stderr",
     "output_type": "stream",
     "text": [
      "2025-06-16 11:39:00 - INFO - \n",
      "=== Starting Epoch 78 ===\n",
      "\n"
     ]
    },
    {
     "name": "stdout",
     "output_type": "stream",
     "text": [
      "Epoch 78/100\n",
      "\u001b[1m813/813\u001b[0m \u001b[32m━━━━━━━━━━━━━━━━━━━━\u001b[0m\u001b[37m\u001b[0m \u001b[1m0s\u001b[0m 238ms/step - accuracy: 0.9490 - auc: 0.9441 - f1_score: 0.5794 - loss: 0.0269 - precision: 0.7697 - recall: 0.4942  "
     ]
    },
    {
     "name": "stderr",
     "output_type": "stream",
     "text": [
      "2025-06-16 11:42:23 - INFO - \n",
      "=== Epoch 78 Summary ===\n",
      "2025-06-16 11:42:23 - INFO - Time: 202.80s\n",
      "2025-06-16 11:42:23 - INFO - Training   - accuracy: 0.9491 - auc: 0.9450 - f1_score: 0.5802 - loss: 0.0267 - precision: 0.7686 - recall: 0.4960 - learning_rate: 0.0000\n",
      "2025-06-16 11:42:23 - INFO - Validation - accuracy: 0.9338 - auc: 0.7532 - f1_score: 0.2209 - loss: 0.0669 - precision: 0.3274 - recall: 0.1849\n",
      "2025-06-16 11:42:23 - INFO - ==================================================\n",
      "\n"
     ]
    },
    {
     "name": "stdout",
     "output_type": "stream",
     "text": [
      "\u001b[1m813/813\u001b[0m \u001b[32m━━━━━━━━━━━━━━━━━━━━\u001b[0m\u001b[37m\u001b[0m \u001b[1m203s\u001b[0m 249ms/step - accuracy: 0.9490 - auc: 0.9441 - f1_score: 0.5794 - loss: 0.0269 - precision: 0.7697 - recall: 0.4942 - val_accuracy: 0.9338 - val_auc: 0.7532 - val_f1_score: 0.2209 - val_loss: 0.0669 - val_precision: 0.3274 - val_recall: 0.1849 - learning_rate: 1.0000e-06\n"
     ]
    },
    {
     "name": "stderr",
     "output_type": "stream",
     "text": [
      "2025-06-16 11:42:23 - INFO - \n",
      "=== Starting Epoch 79 ===\n",
      "\n"
     ]
    },
    {
     "name": "stdout",
     "output_type": "stream",
     "text": [
      "Epoch 79/100\n",
      "\u001b[1m813/813\u001b[0m \u001b[32m━━━━━━━━━━━━━━━━━━━━\u001b[0m\u001b[37m\u001b[0m \u001b[1m0s\u001b[0m 237ms/step - accuracy: 0.9493 - auc: 0.9449 - f1_score: 0.5802 - loss: 0.0266 - precision: 0.7712 - recall: 0.4943  "
     ]
    },
    {
     "name": "stderr",
     "output_type": "stream",
     "text": [
      "2025-06-16 11:45:45 - INFO - \n",
      "=== Epoch 79 Summary ===\n",
      "2025-06-16 11:45:45 - INFO - Time: 201.73s\n",
      "2025-06-16 11:45:45 - INFO - Training   - accuracy: 0.9495 - auc: 0.9453 - f1_score: 0.5826 - loss: 0.0266 - precision: 0.7717 - recall: 0.4976 - learning_rate: 0.0000\n",
      "2025-06-16 11:45:45 - INFO - Validation - accuracy: 0.9337 - auc: 0.7529 - f1_score: 0.2166 - loss: 0.0665 - precision: 0.3242 - recall: 0.1819\n",
      "2025-06-16 11:45:45 - INFO - ==================================================\n",
      "\n"
     ]
    },
    {
     "name": "stdout",
     "output_type": "stream",
     "text": [
      "\u001b[1m813/813\u001b[0m \u001b[32m━━━━━━━━━━━━━━━━━━━━\u001b[0m\u001b[37m\u001b[0m \u001b[1m202s\u001b[0m 248ms/step - accuracy: 0.9493 - auc: 0.9449 - f1_score: 0.5802 - loss: 0.0266 - precision: 0.7712 - recall: 0.4943 - val_accuracy: 0.9337 - val_auc: 0.7529 - val_f1_score: 0.2166 - val_loss: 0.0665 - val_precision: 0.3242 - val_recall: 0.1819 - learning_rate: 1.0000e-06\n"
     ]
    },
    {
     "name": "stderr",
     "output_type": "stream",
     "text": [
      "2025-06-16 11:45:45 - INFO - \n",
      "=== Starting Epoch 80 ===\n",
      "\n"
     ]
    },
    {
     "name": "stdout",
     "output_type": "stream",
     "text": [
      "Epoch 80/100\n",
      "\u001b[1m813/813\u001b[0m \u001b[32m━━━━━━━━━━━━━━━━━━━━\u001b[0m\u001b[37m\u001b[0m \u001b[1m0s\u001b[0m 238ms/step - accuracy: 0.9491 - auc: 0.9448 - f1_score: 0.5819 - loss: 0.0268 - precision: 0.7682 - recall: 0.4974  "
     ]
    },
    {
     "name": "stderr",
     "output_type": "stream",
     "text": [
      "2025-06-16 11:49:08 - INFO - \n",
      "=== Epoch 80 Summary ===\n",
      "2025-06-16 11:49:08 - INFO - Time: 202.98s\n",
      "2025-06-16 11:49:08 - INFO - Training   - accuracy: 0.9493 - auc: 0.9455 - f1_score: 0.5826 - loss: 0.0267 - precision: 0.7696 - recall: 0.4983 - learning_rate: 0.0000\n",
      "2025-06-16 11:49:08 - INFO - Validation - accuracy: 0.9332 - auc: 0.7532 - f1_score: 0.2164 - loss: 0.0674 - precision: 0.3173 - recall: 0.1792\n",
      "2025-06-16 11:49:08 - INFO - ==================================================\n",
      "\n"
     ]
    },
    {
     "name": "stdout",
     "output_type": "stream",
     "text": [
      "\u001b[1m813/813\u001b[0m \u001b[32m━━━━━━━━━━━━━━━━━━━━\u001b[0m\u001b[37m\u001b[0m \u001b[1m203s\u001b[0m 250ms/step - accuracy: 0.9491 - auc: 0.9448 - f1_score: 0.5819 - loss: 0.0268 - precision: 0.7682 - recall: 0.4974 - val_accuracy: 0.9332 - val_auc: 0.7532 - val_f1_score: 0.2164 - val_loss: 0.0674 - val_precision: 0.3173 - val_recall: 0.1792 - learning_rate: 1.0000e-06\n"
     ]
    },
    {
     "name": "stderr",
     "output_type": "stream",
     "text": [
      "2025-06-16 11:49:08 - INFO - \n",
      "=== Starting Epoch 81 ===\n",
      "\n"
     ]
    },
    {
     "name": "stdout",
     "output_type": "stream",
     "text": [
      "Epoch 81/100\n",
      "\u001b[1m813/813\u001b[0m \u001b[32m━━━━━━━━━━━━━━━━━━━━\u001b[0m\u001b[37m\u001b[0m \u001b[1m0s\u001b[0m 239ms/step - accuracy: 0.9491 - auc: 0.9448 - f1_score: 0.5812 - loss: 0.0267 - precision: 0.7659 - recall: 0.4982  "
     ]
    },
    {
     "name": "stderr",
     "output_type": "stream",
     "text": [
      "2025-06-16 11:52:31 - INFO - \n",
      "=== Epoch 81 Summary ===\n",
      "2025-06-16 11:52:31 - INFO - Time: 203.03s\n",
      "2025-06-16 11:52:31 - INFO - Training   - accuracy: 0.9492 - auc: 0.9456 - f1_score: 0.5827 - loss: 0.0266 - precision: 0.7676 - recall: 0.4994 - learning_rate: 0.0000\n",
      "2025-06-16 11:52:31 - INFO - Validation - accuracy: 0.9335 - auc: 0.7520 - f1_score: 0.2189 - loss: 0.0674 - precision: 0.3227 - recall: 0.1827\n",
      "2025-06-16 11:52:31 - INFO - ==================================================\n",
      "\n"
     ]
    },
    {
     "name": "stdout",
     "output_type": "stream",
     "text": [
      "\u001b[1m813/813\u001b[0m \u001b[32m━━━━━━━━━━━━━━━━━━━━\u001b[0m\u001b[37m\u001b[0m \u001b[1m203s\u001b[0m 250ms/step - accuracy: 0.9491 - auc: 0.9448 - f1_score: 0.5812 - loss: 0.0267 - precision: 0.7659 - recall: 0.4982 - val_accuracy: 0.9335 - val_auc: 0.7520 - val_f1_score: 0.2189 - val_loss: 0.0674 - val_precision: 0.3227 - val_recall: 0.1827 - learning_rate: 1.0000e-06\n"
     ]
    },
    {
     "name": "stderr",
     "output_type": "stream",
     "text": [
      "2025-06-16 11:52:31 - INFO - \n",
      "=== Starting Epoch 82 ===\n",
      "\n"
     ]
    },
    {
     "name": "stdout",
     "output_type": "stream",
     "text": [
      "Epoch 82/100\n",
      "\u001b[1m813/813\u001b[0m \u001b[32m━━━━━━━━━━━━━━━━━━━━\u001b[0m\u001b[37m\u001b[0m \u001b[1m0s\u001b[0m 238ms/step - accuracy: 0.9499 - auc: 0.9462 - f1_score: 0.5866 - loss: 0.0264 - precision: 0.7742 - recall: 0.5023  "
     ]
    },
    {
     "name": "stderr",
     "output_type": "stream",
     "text": [
      "2025-06-16 11:55:53 - INFO - \n",
      "=== Epoch 82 Summary ===\n",
      "2025-06-16 11:55:53 - INFO - Time: 202.11s\n",
      "2025-06-16 11:55:53 - INFO - Training   - accuracy: 0.9499 - auc: 0.9465 - f1_score: 0.5859 - loss: 0.0264 - precision: 0.7726 - recall: 0.5024 - learning_rate: 0.0000\n",
      "2025-06-16 11:55:53 - INFO - Validation - accuracy: 0.9340 - auc: 0.7542 - f1_score: 0.2206 - loss: 0.0671 - precision: 0.3264 - recall: 0.1806\n",
      "2025-06-16 11:55:53 - INFO - ==================================================\n",
      "\n"
     ]
    },
    {
     "name": "stdout",
     "output_type": "stream",
     "text": [
      "\u001b[1m813/813\u001b[0m \u001b[32m━━━━━━━━━━━━━━━━━━━━\u001b[0m\u001b[37m\u001b[0m \u001b[1m202s\u001b[0m 249ms/step - accuracy: 0.9499 - auc: 0.9462 - f1_score: 0.5866 - loss: 0.0264 - precision: 0.7742 - recall: 0.5023 - val_accuracy: 0.9340 - val_auc: 0.7542 - val_f1_score: 0.2206 - val_loss: 0.0671 - val_precision: 0.3264 - val_recall: 0.1806 - learning_rate: 1.0000e-06\n"
     ]
    },
    {
     "name": "stderr",
     "output_type": "stream",
     "text": [
      "2025-06-16 11:55:53 - INFO - \n",
      "=== Starting Epoch 83 ===\n",
      "\n"
     ]
    },
    {
     "name": "stdout",
     "output_type": "stream",
     "text": [
      "Epoch 83/100\n",
      "\u001b[1m813/813\u001b[0m \u001b[32m━━━━━━━━━━━━━━━━━━━━\u001b[0m\u001b[37m\u001b[0m \u001b[1m0s\u001b[0m 239ms/step - accuracy: 0.9496 - auc: 0.9461 - f1_score: 0.5883 - loss: 0.0265 - precision: 0.7744 - recall: 0.5030  "
     ]
    },
    {
     "name": "stderr",
     "output_type": "stream",
     "text": [
      "2025-06-16 11:59:17 - INFO - \n",
      "=== Epoch 83 Summary ===\n",
      "2025-06-16 11:59:17 - INFO - Time: 204.16s\n",
      "2025-06-16 11:59:17 - INFO - Training   - accuracy: 0.9498 - auc: 0.9467 - f1_score: 0.5883 - loss: 0.0264 - precision: 0.7735 - recall: 0.5037 - learning_rate: 0.0000\n",
      "2025-06-16 11:59:17 - INFO - Validation - accuracy: 0.9334 - auc: 0.7521 - f1_score: 0.2270 - loss: 0.0675 - precision: 0.3270 - recall: 0.1913\n",
      "2025-06-16 11:59:17 - INFO - ==================================================\n",
      "\n"
     ]
    },
    {
     "name": "stdout",
     "output_type": "stream",
     "text": [
      "\u001b[1m813/813\u001b[0m \u001b[32m━━━━━━━━━━━━━━━━━━━━\u001b[0m\u001b[37m\u001b[0m \u001b[1m204s\u001b[0m 251ms/step - accuracy: 0.9496 - auc: 0.9461 - f1_score: 0.5883 - loss: 0.0265 - precision: 0.7744 - recall: 0.5030 - val_accuracy: 0.9334 - val_auc: 0.7521 - val_f1_score: 0.2270 - val_loss: 0.0675 - val_precision: 0.3270 - val_recall: 0.1913 - learning_rate: 1.0000e-06\n"
     ]
    },
    {
     "name": "stderr",
     "output_type": "stream",
     "text": [
      "2025-06-16 11:59:17 - INFO - \n",
      "=== Training Completed! ===\n",
      "\n",
      "2025-06-16 11:59:17 - INFO - Final Metrics: accuracy: 0.9498 - auc: 0.9467 - f1_score: 0.5883 - loss: 0.0264 - precision: 0.7735 - recall: 0.5037 - val_accuracy: 0.9334 - val_auc: 0.7521 - val_f1_score: 0.2270 - val_loss: 0.0675 - val_precision: 0.3270 - val_recall: 0.1913\n",
      "\n"
     ]
    },
    {
     "name": "stdout",
     "output_type": "stream",
     "text": [
      "Epoch 83: early stopping\n",
      "Restoring model weights from the end of the best epoch: 68.\n"
     ]
    }
   ],
   "source": [
    "# Model Training\n",
    "model          = build_densenet121(num_classes, use_se=True, ratio=16)\n",
    "optimizer      = Adam(learning_rate=1e-4)\n",
    "compile_kwargs = {'optimizer': optimizer, 'loss': loss, 'metrics': metrics}\n",
    "\n",
    "history, model = start_or_resume_training(\n",
    "    model, \n",
    "    compile_kwargs, \n",
    "    train_ds, \n",
    "    val_ds, \n",
    "    TF_MAX_EPOCHS,\n",
    "    steps_per_epoch, \n",
    "    validation_steps, \n",
    "    class_weights=class_weights,\n",
    "    callbacks=[checkpoint, best_checkpoint, reduce_lr, training_logger, metrics_monitor, early_stopping], \n",
    "    checkpoint_path=checkpoint_path,\n",
    "    initial_epoch=initial_epoch,\n",
    "    output_dir=MODELS_PATH,\n",
    "    model_name=model_name,\n",
    "    logger=logger\n",
    ")"
   ]
  },
  {
   "cell_type": "code",
   "execution_count": null,
   "id": "048b711f-28f1-433d-ac5b-b8729218ef96",
   "metadata": {},
   "outputs": [],
   "source": []
  }
 ],
 "metadata": {
  "kernelspec": {
   "display_name": "Python 3 (ipykernel)",
   "language": "python",
   "name": "python3"
  },
  "language_info": {
   "codemirror_mode": {
    "name": "ipython",
    "version": 3
   },
   "file_extension": ".py",
   "mimetype": "text/x-python",
   "name": "python",
   "nbconvert_exporter": "python",
   "pygments_lexer": "ipython3",
   "version": "3.10.16"
  }
 },
 "nbformat": 4,
 "nbformat_minor": 5
}
