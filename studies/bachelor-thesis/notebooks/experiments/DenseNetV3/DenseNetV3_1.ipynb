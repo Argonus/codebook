{
 "cells": [
  {
   "cell_type": "code",
   "execution_count": 1,
   "id": "b694919a-9b18-4068-8e69-7258de889dff",
   "metadata": {},
   "outputs": [
    {
     "name": "stderr",
     "output_type": "stream",
     "text": [
      "2025-05-21 11:09:48.933682: E external/local_xla/xla/stream_executor/cuda/cuda_fft.cc:467] Unable to register cuFFT factory: Attempting to register factory for plugin cuFFT when one has already been registered\n",
      "WARNING: All log messages before absl::InitializeLog() is called are written to STDERR\n",
      "E0000 00:00:1747818589.034572    4391 cuda_dnn.cc:8579] Unable to register cuDNN factory: Attempting to register factory for plugin cuDNN when one has already been registered\n",
      "E0000 00:00:1747818589.063777    4391 cuda_blas.cc:1407] Unable to register cuBLAS factory: Attempting to register factory for plugin cuBLAS when one has already been registered\n",
      "W0000 00:00:1747818589.303614    4391 computation_placer.cc:177] computation placer already registered. Please check linkage and avoid linking the same target more than once.\n",
      "W0000 00:00:1747818589.303631    4391 computation_placer.cc:177] computation placer already registered. Please check linkage and avoid linking the same target more than once.\n",
      "W0000 00:00:1747818589.303632    4391 computation_placer.cc:177] computation placer already registered. Please check linkage and avoid linking the same target more than once.\n",
      "W0000 00:00:1747818589.303633    4391 computation_placer.cc:177] computation placer already registered. Please check linkage and avoid linking the same target more than once.\n"
     ]
    },
    {
     "name": "stdout",
     "output_type": "stream",
     "text": [
      "\n",
      "GPU configuration successful!\n",
      "Device: /physical_device:GPU:0\n",
      "Memory limit: 18.0 GB\n",
      "\n",
      "TensorFlow optimizations status:\n",
      "- CPU Threads: 16 intra-op, 9 inter-op (32 cores total)\n",
      "- XLA JIT: enabled (autoclustering)\n",
      "- Synchronous Execution: enabled\n",
      "\n",
      "GPU Device Details:\n",
      "- Device: GPU /physical_device:GPU:0\n",
      "- Memory limit: 18.0 GB\n"
     ]
    },
    {
     "name": "stderr",
     "output_type": "stream",
     "text": [
      "I0000 00:00:1747818592.911958    4391 gpu_process_state.cc:208] Using CUDA malloc Async allocator for GPU: 0\n",
      "I0000 00:00:1747818592.912812    4391 gpu_device.cc:2019] Created device /job:localhost/replica:0/task:0/device:GPU:0 with 19327352832 MB memory:  -> device: 0, name: NVIDIA GeForce RTX 3090 Ti, pci bus id: 0000:01:00.0, compute capability: 8.6\n"
     ]
    }
   ],
   "source": [
    "# Import dependencies\n",
    "import os\n",
    "\n",
    "os.environ['TF_CPP_MIN_VLOG_LEVEL'] = '0'\n",
    "os.environ['TF_CPP_MIN_LOG_LEVEL'] = '2'\n",
    "os.environ['TF_GPU_ALLOCATOR'] = 'cuda_malloc_async'\n",
    "os.environ['TF_FORCE_GPU_ALLOW_GROWTH'] = 'true'\n",
    "\n",
    "from src.utils.gpu_config import configure_gpu, optimize_tensorflow\n",
    "\n",
    "configure_gpu()\n",
    "optimize_tensorflow()"
   ]
  },
  {
   "cell_type": "code",
   "execution_count": 2,
   "id": "2b854daf-5f2a-4c33-9180-5081cd415b16",
   "metadata": {},
   "outputs": [],
   "source": [
    "# Import Tensorflow Keras\n",
    "from tensorflow.keras.optimizers import Adam\n",
    "from tensorflow.keras.losses import BinaryFocalCrossentropy\n",
    "from tensorflow.keras.callbacks import ReduceLROnPlateau, ModelCheckpoint\n",
    "\n",
    "# Import local modules\n",
    "from src.utils.consts import TF_RECORD_DATASET, MODELS_PATH, TF_BUFFER_SIZE, TF_SHUFFLE_SIZE, TF_BATCH_SIZE, TF_MAX_EPOCHS\n",
    "from src.model.tensorflow_utils import load_dataset, optimize_dataset, count_dataset_size, get_num_classes, get_metrics\n",
    "from src.model.tensorflow_utils import setup_logger, setup_training_logger, setup_metrics_monitor, setup_early_stopping, filter_no_finding_class\n",
    "from src.model.tensorflow_utils import start_or_resume_training, apply_augmentation_to_dataset, calculate_class_weights, oversample_minority_classes\n",
    "from src.model.densnet.tensorflow_dense_net_121 import build_densenet121\n",
    "\n",
    "# Input Data\n",
    "initial_epoch   = None\n",
    "resume_training = False\n",
    "checkpoint_path = None\n",
    "set_name        = \"DenseNetV2\"\n",
    "model_name      = f\"{set_name}_5\"\n",
    "num_classes     = get_num_classes()\n",
    "\n",
    "train_ds = load_dataset(f\"{TF_RECORD_DATASET}/train.tfrecord\", TF_BUFFER_SIZE)\n",
    "val_ds   = load_dataset(f\"{TF_RECORD_DATASET}/val.tfrecord\", TF_BUFFER_SIZE)\n",
    "\n",
    "train_ds = filter_no_finding_class(train_ds)\n",
    "val_ds   = filter_no_finding_class(val_ds)\n",
    "\n",
    "class_weights = calculate_class_weights(train_ds, num_classes)\n",
    "train_ds      = oversample_minority_classes(train_ds, class_weights)\n",
    "class_weights = calculate_class_weights(train_ds, num_classes)"
   ]
  },
  {
   "cell_type": "code",
   "execution_count": 3,
   "id": "5f152b8a-8ff8-4095-9815-e304ce2beb52",
   "metadata": {},
   "outputs": [
    {
     "name": "stderr",
     "output_type": "stream",
     "text": [
      "Counting samples: 104166 samples [00:35, 2936.61 samples/s] \n",
      "Counting samples: 15431 samples [00:14, 1069.45 samples/s]\n"
     ]
    }
   ],
   "source": [
    "steps_per_epoch  = int(count_dataset_size(train_ds, None) / TF_BATCH_SIZE)\n",
    "validation_steps = int(count_dataset_size(val_ds, None) / TF_BATCH_SIZE)\n",
    "\n",
    "# Disable Advanced Augmentations\n",
    "probability = {\n",
    "    \"intensity_scaling\": 0,\n",
    "    \"adaptive_histogram\": 0,\n",
    "    \"zoom\": 0,\n",
    "    \"cutout\": 0\n",
    "}\n",
    "\n",
    "train_ds = train_ds.shuffle(TF_SHUFFLE_SIZE, reshuffle_each_iteration=True)\n",
    "train_ds = apply_augmentation_to_dataset(train_ds, probability)\n",
    "train_ds = optimize_dataset(train_ds, TF_BATCH_SIZE)\n",
    "\n",
    "val_ds   = optimize_dataset(val_ds, TF_BATCH_SIZE)"
   ]
  },
  {
   "cell_type": "code",
   "execution_count": 4,
   "id": "3a0e37c9-b178-40d8-bd25-8c0a6498564a",
   "metadata": {},
   "outputs": [],
   "source": [
    "# Setup Model Deps\n",
    "logger            = setup_logger()\n",
    "training_logger   = setup_training_logger(logger, TF_BATCH_SIZE, 100)\n",
    "metrics_monitor   = setup_metrics_monitor(MODELS_PATH, model_name, logger, resume_training=resume_training, initial_epoch=initial_epoch)\n",
    "metrics           = get_metrics()\n",
    "\n",
    "# Setup compile arguments\n",
    "loss           = BinaryFocalCrossentropy(gamma=2.0, from_logits=False, label_smoothing=0.05)\n",
    "reduce_lr      = ReduceLROnPlateau(monitor=\"val_f1_score\", factor=0.5,  patience=3, min_lr=1e-6, mode=\"max\", verbose=1)\n",
    "early_stopping = setup_early_stopping()\n",
    "\n",
    "epoch_mode           = 'cp-{epoch:04d}'\n",
    "save_checkpoint_path = f\"{MODELS_PATH}/{model_name}/checkpoints/{epoch_mode}.keras\"\n",
    "checkpoint           = ModelCheckpoint(save_checkpoint_path, monitor=\"val_f1_score\", save_best_only=False, mode=\"max\", save_weights_only=False)\n",
    "\n",
    "model_path      = f\"{MODELS_PATH}/{model_name}.keras\"\n",
    "best_checkpoint = ModelCheckpoint(model_path, monitor=\"val_f1_score\", save_best_only=True, mode=\"max\", save_weights_only=False)"
   ]
  },
  {
   "cell_type": "code",
   "execution_count": 5,
   "id": "c44d4a9a-ffbb-4917-a702-c35773b9857c",
   "metadata": {},
   "outputs": [
    {
     "name": "stderr",
     "output_type": "stream",
     "text": [
      "2025-05-21 11:12:27 - INFO - \n",
      "=== Training Started ===\n",
      "\n",
      "2025-05-21 11:12:27 - INFO - Batch Size: 128\n",
      "2025-05-21 11:12:27 - INFO - Optimizer: Adam\n",
      "2025-05-21 11:12:27 - INFO - \n",
      "==================================================\n",
      "\n",
      "2025-05-21 11:12:27 - INFO - \n",
      "=== Starting Epoch 1 ===\n",
      "\n"
     ]
    },
    {
     "name": "stdout",
     "output_type": "stream",
     "text": [
      "Epoch 1/100\n"
     ]
    },
    {
     "name": "stderr",
     "output_type": "stream",
     "text": [
      "WARNING: All log messages before absl::InitializeLog() is called are written to STDERR\n",
      "I0000 00:00:1747818755.902098    4458 service.cc:152] XLA service 0x7f38d8003500 initialized for platform CUDA (this does not guarantee that XLA will be used). Devices:\n",
      "I0000 00:00:1747818755.902114    4458 service.cc:160]   StreamExecutor device (0): NVIDIA GeForce RTX 3090 Ti, Compute Capability 8.6\n",
      "I0000 00:00:1747818755.919526    4458 cuda_dnn.cc:529] Loaded cuDNN version 90300\n",
      "I0000 00:00:1747818755.996661    4458 device_compiler.h:188] Compiled cluster using XLA!  This line is logged at most once for the lifetime of the process.\n"
     ]
    },
    {
     "name": "stdout",
     "output_type": "stream",
     "text": [
      "\u001b[1m813/813\u001b[0m \u001b[32m━━━━━━━━━━━━━━━━━━━━\u001b[0m\u001b[37m\u001b[0m \u001b[1m0s\u001b[0m 227ms/step - accuracy: 0.9055 - auc: 0.5507 - f1_score: 0.0486 - loss: 1.8558 - precision: 0.1401 - recall: 0.0335  "
     ]
    },
    {
     "name": "stderr",
     "output_type": "stream",
     "text": [
      "2025-05-21 11:17:22 - INFO - \n",
      "=== Epoch 1 Summary ===\n",
      "2025-05-21 11:17:22 - INFO - Time: 295.41s\n",
      "2025-05-21 11:17:22 - INFO - Training   - accuracy: 0.9157 - auc: 0.5713 - f1_score: 0.0364 - loss: 1.5924 - precision: 0.1673 - recall: 0.0211 - learning_rate: 0.0001\n",
      "2025-05-21 11:17:22 - INFO - Validation - accuracy: 0.9446 - auc: 0.6450 - f1_score: 0.0000 - loss: 1.1156 - precision: 0.0000 - recall: 0.0000\n",
      "2025-05-21 11:17:22 - INFO - ==================================================\n",
      "\n"
     ]
    },
    {
     "name": "stdout",
     "output_type": "stream",
     "text": [
      "\u001b[1m813/813\u001b[0m \u001b[32m━━━━━━━━━━━━━━━━━━━━\u001b[0m\u001b[37m\u001b[0m \u001b[1m295s\u001b[0m 251ms/step - accuracy: 0.9055 - auc: 0.5507 - f1_score: 0.0486 - loss: 1.8555 - precision: 0.1401 - recall: 0.0335 - val_accuracy: 0.9446 - val_auc: 0.6450 - val_f1_score: 0.0000e+00 - val_loss: 1.1156 - val_precision: 0.0000e+00 - val_recall: 0.0000e+00 - learning_rate: 1.0000e-04\n"
     ]
    },
    {
     "name": "stderr",
     "output_type": "stream",
     "text": [
      "2025-05-21 11:17:22 - INFO - \n",
      "=== Starting Epoch 2 ===\n",
      "\n"
     ]
    },
    {
     "name": "stdout",
     "output_type": "stream",
     "text": [
      "Epoch 2/100\n",
      "\u001b[1m813/813\u001b[0m \u001b[32m━━━━━━━━━━━━━━━━━━━━\u001b[0m\u001b[37m\u001b[0m \u001b[1m0s\u001b[0m 228ms/step - accuracy: 0.9193 - auc: 0.6055 - f1_score: 0.0275 - loss: 0.9510 - precision: 0.2435 - recall: 0.0153  "
     ]
    },
    {
     "name": "stderr",
     "output_type": "stream",
     "text": [
      "2025-05-21 11:21:42 - INFO - \n",
      "=== Epoch 2 Summary ===\n",
      "2025-05-21 11:21:42 - INFO - Time: 260.23s\n",
      "2025-05-21 11:21:42 - INFO - Training   - accuracy: 0.9199 - auc: 0.6161 - f1_score: 0.0275 - loss: 0.8065 - precision: 0.2526 - recall: 0.0153 - learning_rate: 0.0001\n",
      "2025-05-21 11:21:42 - INFO - Validation - accuracy: 0.9446 - auc: 0.6650 - f1_score: 0.0000 - loss: 0.5597 - precision: 0.0000 - recall: 0.0000\n",
      "2025-05-21 11:21:42 - INFO - ==================================================\n",
      "\n"
     ]
    },
    {
     "name": "stdout",
     "output_type": "stream",
     "text": [
      "\u001b[1m813/813\u001b[0m \u001b[32m━━━━━━━━━━━━━━━━━━━━\u001b[0m\u001b[37m\u001b[0m \u001b[1m260s\u001b[0m 248ms/step - accuracy: 0.9193 - auc: 0.6055 - f1_score: 0.0275 - loss: 0.9508 - precision: 0.2435 - recall: 0.0153 - val_accuracy: 0.9446 - val_auc: 0.6650 - val_f1_score: 0.0000e+00 - val_loss: 0.5597 - val_precision: 0.0000e+00 - val_recall: 0.0000e+00 - learning_rate: 1.0000e-04\n"
     ]
    },
    {
     "name": "stderr",
     "output_type": "stream",
     "text": [
      "2025-05-21 11:21:43 - INFO - \n",
      "=== Starting Epoch 3 ===\n",
      "\n"
     ]
    },
    {
     "name": "stdout",
     "output_type": "stream",
     "text": [
      "Epoch 3/100\n",
      "\u001b[1m813/813\u001b[0m \u001b[32m━━━━━━━━━━━━━━━━━━━━\u001b[0m\u001b[37m\u001b[0m \u001b[1m0s\u001b[0m 228ms/step - accuracy: 0.9196 - auc: 0.6317 - f1_score: 0.0244 - loss: 0.4811 - precision: 0.2483 - recall: 0.0136  "
     ]
    },
    {
     "name": "stderr",
     "output_type": "stream",
     "text": [
      "2025-05-21 11:24:57 - INFO - \n",
      "=== Epoch 3 Summary ===\n",
      "2025-05-21 11:24:57 - INFO - Time: 194.40s\n",
      "2025-05-21 11:24:57 - INFO - Training   - accuracy: 0.9201 - auc: 0.6392 - f1_score: 0.0246 - loss: 0.4140 - precision: 0.2551 - recall: 0.0137 - learning_rate: 0.0001\n",
      "2025-05-21 11:24:57 - INFO - Validation - accuracy: 0.9446 - auc: 0.6681 - f1_score: 0.0000 - loss: 0.3033 - precision: 0.0000 - recall: 0.0000\n",
      "2025-05-21 11:24:57 - INFO - ==================================================\n",
      "\n"
     ]
    },
    {
     "name": "stdout",
     "output_type": "stream",
     "text": [
      "\u001b[1m813/813\u001b[0m \u001b[32m━━━━━━━━━━━━━━━━━━━━\u001b[0m\u001b[37m\u001b[0m \u001b[1m194s\u001b[0m 239ms/step - accuracy: 0.9196 - auc: 0.6317 - f1_score: 0.0244 - loss: 0.4810 - precision: 0.2483 - recall: 0.0136 - val_accuracy: 0.9446 - val_auc: 0.6681 - val_f1_score: 0.0000e+00 - val_loss: 0.3033 - val_precision: 0.0000e+00 - val_recall: 0.0000e+00 - learning_rate: 1.0000e-04\n"
     ]
    },
    {
     "name": "stderr",
     "output_type": "stream",
     "text": [
      "2025-05-21 11:24:57 - INFO - \n",
      "=== Starting Epoch 4 ===\n",
      "\n"
     ]
    },
    {
     "name": "stdout",
     "output_type": "stream",
     "text": [
      "Epoch 4/100\n",
      "\u001b[1m813/813\u001b[0m \u001b[32m━━━━━━━━━━━━━━━━━━━━\u001b[0m\u001b[37m\u001b[0m \u001b[1m0s\u001b[0m 242ms/step - accuracy: 0.9199 - auc: 0.6486 - f1_score: 0.0266 - loss: 0.2655 - precision: 0.2941 - recall: 0.0148  "
     ]
    },
    {
     "name": "stderr",
     "output_type": "stream",
     "text": [
      "2025-05-21 11:28:27 - INFO - \n",
      "=== Epoch 4 Summary ===\n",
      "2025-05-21 11:28:27 - INFO - Time: 210.30s\n",
      "2025-05-21 11:28:27 - INFO - Training   - accuracy: 0.9205 - auc: 0.6587 - f1_score: 0.0283 - loss: 0.2350 - precision: 0.3034 - recall: 0.0159 - learning_rate: 0.0001\n",
      "2025-05-21 11:28:27 - INFO - Validation - accuracy: 0.9433 - auc: 0.6757 - f1_score: 0.0088 - loss: 0.1887 - precision: 0.1785 - recall: 0.0065\n",
      "2025-05-21 11:28:27 - INFO - ==================================================\n",
      "\n"
     ]
    },
    {
     "name": "stdout",
     "output_type": "stream",
     "text": [
      "\u001b[1m813/813\u001b[0m \u001b[32m━━━━━━━━━━━━━━━━━━━━\u001b[0m\u001b[37m\u001b[0m \u001b[1m210s\u001b[0m 259ms/step - accuracy: 0.9199 - auc: 0.6486 - f1_score: 0.0266 - loss: 0.2655 - precision: 0.2941 - recall: 0.0148 - val_accuracy: 0.9433 - val_auc: 0.6757 - val_f1_score: 0.0088 - val_loss: 0.1887 - val_precision: 0.1785 - val_recall: 0.0065 - learning_rate: 1.0000e-04\n"
     ]
    },
    {
     "name": "stderr",
     "output_type": "stream",
     "text": [
      "2025-05-21 11:28:27 - INFO - \n",
      "=== Starting Epoch 5 ===\n",
      "\n"
     ]
    },
    {
     "name": "stdout",
     "output_type": "stream",
     "text": [
      "Epoch 5/100\n",
      "\u001b[1m813/813\u001b[0m \u001b[32m━━━━━━━━━━━━━━━━━━━━\u001b[0m\u001b[37m\u001b[0m \u001b[1m0s\u001b[0m 226ms/step - accuracy: 0.9203 - auc: 0.6667 - f1_score: 0.0306 - loss: 0.1673 - precision: 0.3169 - recall: 0.0174  "
     ]
    },
    {
     "name": "stderr",
     "output_type": "stream",
     "text": [
      "2025-05-21 11:31:40 - INFO - \n",
      "=== Epoch 5 Summary ===\n",
      "2025-05-21 11:31:40 - INFO - Time: 192.84s\n",
      "2025-05-21 11:31:40 - INFO - Training   - accuracy: 0.9206 - auc: 0.6732 - f1_score: 0.0347 - loss: 0.1531 - precision: 0.3314 - recall: 0.0202 - learning_rate: 0.0001\n",
      "2025-05-21 11:31:40 - INFO - Validation - accuracy: 0.9442 - auc: 0.6966 - f1_score: 0.0071 - loss: 0.1310 - precision: 0.2872 - recall: 0.0045\n",
      "2025-05-21 11:31:40 - INFO - ==================================================\n",
      "\n"
     ]
    },
    {
     "name": "stdout",
     "output_type": "stream",
     "text": [
      "\u001b[1m813/813\u001b[0m \u001b[32m━━━━━━━━━━━━━━━━━━━━\u001b[0m\u001b[37m\u001b[0m \u001b[1m193s\u001b[0m 237ms/step - accuracy: 0.9203 - auc: 0.6667 - f1_score: 0.0306 - loss: 0.1672 - precision: 0.3169 - recall: 0.0174 - val_accuracy: 0.9442 - val_auc: 0.6966 - val_f1_score: 0.0071 - val_loss: 0.1310 - val_precision: 0.2872 - val_recall: 0.0045 - learning_rate: 1.0000e-04\n"
     ]
    },
    {
     "name": "stderr",
     "output_type": "stream",
     "text": [
      "2025-05-21 11:31:40 - INFO - \n",
      "=== Starting Epoch 6 ===\n",
      "\n"
     ]
    },
    {
     "name": "stdout",
     "output_type": "stream",
     "text": [
      "Epoch 6/100\n",
      "\u001b[1m813/813\u001b[0m \u001b[32m━━━━━━━━━━━━━━━━━━━━\u001b[0m\u001b[37m\u001b[0m \u001b[1m0s\u001b[0m 240ms/step - accuracy: 0.9206 - auc: 0.6837 - f1_score: 0.0430 - loss: 0.1206 - precision: 0.3915 - recall: 0.0257  "
     ]
    },
    {
     "name": "stderr",
     "output_type": "stream",
     "text": [
      "2025-05-21 11:35:09 - INFO - \n",
      "=== Epoch 6 Summary ===\n",
      "2025-05-21 11:35:09 - INFO - Time: 208.83s\n",
      "2025-05-21 11:35:09 - INFO - Training   - accuracy: 0.9210 - auc: 0.6902 - f1_score: 0.0465 - loss: 0.1134 - precision: 0.3963 - recall: 0.0284 - learning_rate: 0.0001\n",
      "2025-05-21 11:35:09 - INFO - Validation - accuracy: 0.9447 - auc: 0.6784 - f1_score: 0.0108 - loss: 0.1026 - precision: 0.5798 - recall: 0.0058\n",
      "2025-05-21 11:35:09 - INFO - ==================================================\n",
      "\n"
     ]
    },
    {
     "name": "stdout",
     "output_type": "stream",
     "text": [
      "\u001b[1m813/813\u001b[0m \u001b[32m━━━━━━━━━━━━━━━━━━━━\u001b[0m\u001b[37m\u001b[0m \u001b[1m209s\u001b[0m 257ms/step - accuracy: 0.9206 - auc: 0.6837 - f1_score: 0.0430 - loss: 0.1206 - precision: 0.3915 - recall: 0.0257 - val_accuracy: 0.9447 - val_auc: 0.6784 - val_f1_score: 0.0108 - val_loss: 0.1026 - val_precision: 0.5798 - val_recall: 0.0058 - learning_rate: 1.0000e-04\n"
     ]
    },
    {
     "name": "stderr",
     "output_type": "stream",
     "text": [
      "2025-05-21 11:35:09 - INFO - \n",
      "=== Starting Epoch 7 ===\n",
      "\n"
     ]
    },
    {
     "name": "stdout",
     "output_type": "stream",
     "text": [
      "Epoch 7/100\n",
      "\u001b[1m813/813\u001b[0m \u001b[32m━━━━━━━━━━━━━━━━━━━━\u001b[0m\u001b[37m\u001b[0m \u001b[1m0s\u001b[0m 236ms/step - accuracy: 0.9209 - auc: 0.7014 - f1_score: 0.0523 - loss: 0.0966 - precision: 0.4232 - recall: 0.0327  "
     ]
    },
    {
     "name": "stderr",
     "output_type": "stream",
     "text": [
      "2025-05-21 11:38:35 - INFO - \n",
      "=== Epoch 7 Summary ===\n",
      "2025-05-21 11:38:35 - INFO - Time: 206.47s\n",
      "2025-05-21 11:38:35 - INFO - Training   - accuracy: 0.9213 - auc: 0.7037 - f1_score: 0.0548 - loss: 0.0927 - precision: 0.4270 - recall: 0.0347 - learning_rate: 0.0001\n",
      "2025-05-21 11:38:35 - INFO - Validation - accuracy: 0.9433 - auc: 0.7206 - f1_score: 0.0225 - loss: 0.0895 - precision: 0.2990 - recall: 0.0183\n",
      "2025-05-21 11:38:35 - INFO - ==================================================\n",
      "\n"
     ]
    },
    {
     "name": "stdout",
     "output_type": "stream",
     "text": [
      "\u001b[1m813/813\u001b[0m \u001b[32m━━━━━━━━━━━━━━━━━━━━\u001b[0m\u001b[37m\u001b[0m \u001b[1m207s\u001b[0m 254ms/step - accuracy: 0.9209 - auc: 0.7014 - f1_score: 0.0523 - loss: 0.0966 - precision: 0.4232 - recall: 0.0328 - val_accuracy: 0.9433 - val_auc: 0.7206 - val_f1_score: 0.0225 - val_loss: 0.0895 - val_precision: 0.2990 - val_recall: 0.0183 - learning_rate: 1.0000e-04\n"
     ]
    },
    {
     "name": "stderr",
     "output_type": "stream",
     "text": [
      "2025-05-21 11:38:35 - INFO - \n",
      "=== Starting Epoch 8 ===\n",
      "\n"
     ]
    },
    {
     "name": "stdout",
     "output_type": "stream",
     "text": [
      "Epoch 8/100\n",
      "\u001b[1m813/813\u001b[0m \u001b[32m━━━━━━━━━━━━━━━━━━━━\u001b[0m\u001b[37m\u001b[0m \u001b[1m0s\u001b[0m 226ms/step - accuracy: 0.9210 - auc: 0.7116 - f1_score: 0.0608 - loss: 0.0838 - precision: 0.4490 - recall: 0.0393  "
     ]
    },
    {
     "name": "stderr",
     "output_type": "stream",
     "text": [
      "2025-05-21 11:41:54 - INFO - \n",
      "=== Epoch 8 Summary ===\n",
      "2025-05-21 11:41:54 - INFO - Time: 198.33s\n",
      "2025-05-21 11:41:54 - INFO - Training   - accuracy: 0.9216 - auc: 0.7168 - f1_score: 0.0635 - loss: 0.0812 - precision: 0.4606 - recall: 0.0413 - learning_rate: 0.0001\n",
      "2025-05-21 11:41:54 - INFO - Validation - accuracy: 0.9445 - auc: 0.7224 - f1_score: 0.0102 - loss: 0.0801 - precision: 0.4444 - recall: 0.0054\n",
      "2025-05-21 11:41:54 - INFO - ==================================================\n",
      "\n"
     ]
    },
    {
     "name": "stdout",
     "output_type": "stream",
     "text": [
      "\u001b[1m813/813\u001b[0m \u001b[32m━━━━━━━━━━━━━━━━━━━━\u001b[0m\u001b[37m\u001b[0m \u001b[1m198s\u001b[0m 244ms/step - accuracy: 0.9210 - auc: 0.7116 - f1_score: 0.0608 - loss: 0.0838 - precision: 0.4490 - recall: 0.0393 - val_accuracy: 0.9445 - val_auc: 0.7224 - val_f1_score: 0.0102 - val_loss: 0.0801 - val_precision: 0.4444 - val_recall: 0.0054 - learning_rate: 1.0000e-04\n"
     ]
    },
    {
     "name": "stderr",
     "output_type": "stream",
     "text": [
      "2025-05-21 11:41:54 - INFO - \n",
      "=== Starting Epoch 9 ===\n",
      "\n"
     ]
    },
    {
     "name": "stdout",
     "output_type": "stream",
     "text": [
      "Epoch 9/100\n",
      "\u001b[1m813/813\u001b[0m \u001b[32m━━━━━━━━━━━━━━━━━━━━\u001b[0m\u001b[37m\u001b[0m \u001b[1m0s\u001b[0m 237ms/step - accuracy: 0.9213 - auc: 0.7214 - f1_score: 0.0689 - loss: 0.0759 - precision: 0.4759 - recall: 0.0450  "
     ]
    },
    {
     "name": "stderr",
     "output_type": "stream",
     "text": [
      "2025-05-21 11:45:24 - INFO - \n",
      "=== Epoch 9 Summary ===\n",
      "2025-05-21 11:45:24 - INFO - Time: 209.71s\n",
      "2025-05-21 11:45:24 - INFO - Training   - accuracy: 0.9217 - auc: 0.7261 - f1_score: 0.0708 - loss: 0.0742 - precision: 0.4726 - recall: 0.0468 - learning_rate: 0.0001\n",
      "2025-05-21 11:45:24 - INFO - Validation - accuracy: 0.9445 - auc: 0.6986 - f1_score: 0.0271 - loss: 0.0750 - precision: 0.4813 - recall: 0.0151\n",
      "2025-05-21 11:45:24 - INFO - ==================================================\n",
      "\n"
     ]
    },
    {
     "name": "stdout",
     "output_type": "stream",
     "text": [
      "\u001b[1m813/813\u001b[0m \u001b[32m━━━━━━━━━━━━━━━━━━━━\u001b[0m\u001b[37m\u001b[0m \u001b[1m210s\u001b[0m 258ms/step - accuracy: 0.9213 - auc: 0.7214 - f1_score: 0.0689 - loss: 0.0759 - precision: 0.4758 - recall: 0.0450 - val_accuracy: 0.9445 - val_auc: 0.6986 - val_f1_score: 0.0271 - val_loss: 0.0750 - val_precision: 0.4813 - val_recall: 0.0151 - learning_rate: 1.0000e-04\n"
     ]
    },
    {
     "name": "stderr",
     "output_type": "stream",
     "text": [
      "2025-05-21 11:45:24 - INFO - \n",
      "=== Starting Epoch 10 ===\n",
      "\n"
     ]
    },
    {
     "name": "stdout",
     "output_type": "stream",
     "text": [
      "Epoch 10/100\n",
      "\u001b[1m813/813\u001b[0m \u001b[32m━━━━━━━━━━━━━━━━━━━━\u001b[0m\u001b[37m\u001b[0m \u001b[1m0s\u001b[0m 227ms/step - accuracy: 0.9216 - auc: 0.7313 - f1_score: 0.0734 - loss: 0.0711 - precision: 0.4825 - recall: 0.0492  "
     ]
    },
    {
     "name": "stderr",
     "output_type": "stream",
     "text": [
      "2025-05-21 11:48:42 - INFO - \n",
      "=== Epoch 10 Summary ===\n",
      "2025-05-21 11:48:42 - INFO - Time: 198.61s\n",
      "2025-05-21 11:48:42 - INFO - Training   - accuracy: 0.9220 - auc: 0.7348 - f1_score: 0.0766 - loss: 0.0697 - precision: 0.4873 - recall: 0.0517 - learning_rate: 0.0001\n",
      "2025-05-21 11:48:42 - INFO - Validation - accuracy: 0.9443 - auc: 0.7375 - f1_score: 0.0756 - loss: 0.0749 - precision: 0.4787 - recall: 0.0624\n",
      "2025-05-21 11:48:42 - INFO - ==================================================\n",
      "\n"
     ]
    },
    {
     "name": "stdout",
     "output_type": "stream",
     "text": [
      "\u001b[1m813/813\u001b[0m \u001b[32m━━━━━━━━━━━━━━━━━━━━\u001b[0m\u001b[37m\u001b[0m \u001b[1m199s\u001b[0m 244ms/step - accuracy: 0.9216 - auc: 0.7313 - f1_score: 0.0734 - loss: 0.0711 - precision: 0.4825 - recall: 0.0492 - val_accuracy: 0.9443 - val_auc: 0.7375 - val_f1_score: 0.0756 - val_loss: 0.0749 - val_precision: 0.4787 - val_recall: 0.0624 - learning_rate: 1.0000e-04\n"
     ]
    },
    {
     "name": "stderr",
     "output_type": "stream",
     "text": [
      "2025-05-21 11:48:42 - INFO - \n",
      "=== Starting Epoch 11 ===\n",
      "\n"
     ]
    },
    {
     "name": "stdout",
     "output_type": "stream",
     "text": [
      "Epoch 11/100\n",
      "\u001b[1m813/813\u001b[0m \u001b[32m━━━━━━━━━━━━━━━━━━━━\u001b[0m\u001b[37m\u001b[0m \u001b[1m0s\u001b[0m 229ms/step - accuracy: 0.9214 - auc: 0.7373 - f1_score: 0.0776 - loss: 0.0677 - precision: 0.4846 - recall: 0.0530  "
     ]
    },
    {
     "name": "stderr",
     "output_type": "stream",
     "text": [
      "2025-05-21 11:52:03 - INFO - \n",
      "=== Epoch 11 Summary ===\n",
      "2025-05-21 11:52:03 - INFO - Time: 200.89s\n",
      "2025-05-21 11:52:03 - INFO - Training   - accuracy: 0.9219 - auc: 0.7407 - f1_score: 0.0802 - loss: 0.0665 - precision: 0.4845 - recall: 0.0547 - learning_rate: 0.0001\n",
      "2025-05-21 11:52:03 - INFO - Validation - accuracy: 0.9239 - auc: 0.7389 - f1_score: 0.1404 - loss: 0.0738 - precision: 0.2059 - recall: 0.1311\n",
      "2025-05-21 11:52:03 - INFO - ==================================================\n",
      "\n"
     ]
    },
    {
     "name": "stdout",
     "output_type": "stream",
     "text": [
      "\u001b[1m813/813\u001b[0m \u001b[32m━━━━━━━━━━━━━━━━━━━━\u001b[0m\u001b[37m\u001b[0m \u001b[1m201s\u001b[0m 247ms/step - accuracy: 0.9214 - auc: 0.7373 - f1_score: 0.0776 - loss: 0.0677 - precision: 0.4846 - recall: 0.0530 - val_accuracy: 0.9239 - val_auc: 0.7389 - val_f1_score: 0.1404 - val_loss: 0.0738 - val_precision: 0.2059 - val_recall: 0.1311 - learning_rate: 1.0000e-04\n"
     ]
    },
    {
     "name": "stderr",
     "output_type": "stream",
     "text": [
      "2025-05-21 11:52:03 - INFO - \n",
      "=== Starting Epoch 12 ===\n",
      "\n"
     ]
    },
    {
     "name": "stdout",
     "output_type": "stream",
     "text": [
      "Epoch 12/100\n",
      "\u001b[1m813/813\u001b[0m \u001b[32m━━━━━━━━━━━━━━━━━━━━\u001b[0m\u001b[37m\u001b[0m \u001b[1m0s\u001b[0m 232ms/step - accuracy: 0.9214 - auc: 0.7421 - f1_score: 0.0835 - loss: 0.0651 - precision: 0.4875 - recall: 0.0571  "
     ]
    },
    {
     "name": "stderr",
     "output_type": "stream",
     "text": [
      "2025-05-21 11:55:28 - INFO - \n",
      "=== Epoch 12 Summary ===\n",
      "2025-05-21 11:55:28 - INFO - Time: 204.55s\n",
      "2025-05-21 11:55:28 - INFO - Training   - accuracy: 0.9220 - auc: 0.7467 - f1_score: 0.0867 - loss: 0.0642 - precision: 0.4888 - recall: 0.0597 - learning_rate: 0.0001\n",
      "2025-05-21 11:55:28 - INFO - Validation - accuracy: 0.9411 - auc: 0.7517 - f1_score: 0.0678 - loss: 0.0643 - precision: 0.3187 - recall: 0.0557\n",
      "2025-05-21 11:55:28 - INFO - ==================================================\n",
      "\n"
     ]
    },
    {
     "name": "stdout",
     "output_type": "stream",
     "text": [
      "\u001b[1m813/813\u001b[0m \u001b[32m━━━━━━━━━━━━━━━━━━━━\u001b[0m\u001b[37m\u001b[0m \u001b[1m205s\u001b[0m 252ms/step - accuracy: 0.9214 - auc: 0.7422 - f1_score: 0.0835 - loss: 0.0651 - precision: 0.4875 - recall: 0.0571 - val_accuracy: 0.9411 - val_auc: 0.7517 - val_f1_score: 0.0678 - val_loss: 0.0643 - val_precision: 0.3187 - val_recall: 0.0557 - learning_rate: 1.0000e-04\n"
     ]
    },
    {
     "name": "stderr",
     "output_type": "stream",
     "text": [
      "2025-05-21 11:55:28 - INFO - \n",
      "=== Starting Epoch 13 ===\n",
      "\n"
     ]
    },
    {
     "name": "stdout",
     "output_type": "stream",
     "text": [
      "Epoch 13/100\n",
      "\u001b[1m813/813\u001b[0m \u001b[32m━━━━━━━━━━━━━━━━━━━━\u001b[0m\u001b[37m\u001b[0m \u001b[1m0s\u001b[0m 225ms/step - accuracy: 0.9216 - auc: 0.7507 - f1_score: 0.0900 - loss: 0.0630 - precision: 0.4922 - recall: 0.0619  "
     ]
    },
    {
     "name": "stderr",
     "output_type": "stream",
     "text": [
      "2025-05-21 11:58:45 - INFO - \n",
      "=== Epoch 13 Summary ===\n",
      "2025-05-21 11:58:45 - INFO - Time: 196.84s\n",
      "2025-05-21 11:58:45 - INFO - Training   - accuracy: 0.9220 - auc: 0.7518 - f1_score: 0.0954 - loss: 0.0623 - precision: 0.4956 - recall: 0.0658 - learning_rate: 0.0001\n",
      "2025-05-21 11:58:45 - INFO - Validation - accuracy: 0.9432 - auc: 0.7415 - f1_score: 0.0442 - loss: 0.0664 - precision: 0.3555 - recall: 0.0319\n",
      "2025-05-21 11:58:45 - INFO - ==================================================\n",
      "\n"
     ]
    },
    {
     "name": "stdout",
     "output_type": "stream",
     "text": [
      "\u001b[1m813/813\u001b[0m \u001b[32m━━━━━━━━━━━━━━━━━━━━\u001b[0m\u001b[37m\u001b[0m \u001b[1m197s\u001b[0m 242ms/step - accuracy: 0.9216 - auc: 0.7507 - f1_score: 0.0900 - loss: 0.0630 - precision: 0.4922 - recall: 0.0619 - val_accuracy: 0.9432 - val_auc: 0.7415 - val_f1_score: 0.0442 - val_loss: 0.0664 - val_precision: 0.3555 - val_recall: 0.0319 - learning_rate: 1.0000e-04\n"
     ]
    },
    {
     "name": "stderr",
     "output_type": "stream",
     "text": [
      "2025-05-21 11:58:45 - INFO - \n",
      "=== Starting Epoch 14 ===\n",
      "\n"
     ]
    },
    {
     "name": "stdout",
     "output_type": "stream",
     "text": [
      "Epoch 14/100\n",
      "\u001b[1m813/813\u001b[0m \u001b[32m━━━━━━━━━━━━━━━━━━━━\u001b[0m\u001b[37m\u001b[0m \u001b[1m0s\u001b[0m 229ms/step - accuracy: 0.9220 - auc: 0.7558 - f1_score: 0.0983 - loss: 0.0615 - precision: 0.5074 - recall: 0.0678  \n",
      "Epoch 14: ReduceLROnPlateau reducing learning rate to 4.999999873689376e-05.\n"
     ]
    },
    {
     "name": "stderr",
     "output_type": "stream",
     "text": [
      "2025-05-21 12:02:05 - INFO - \n",
      "=== Epoch 14 Summary ===\n",
      "2025-05-21 12:02:05 - INFO - Time: 200.43s\n",
      "2025-05-21 12:02:05 - INFO - Training   - accuracy: 0.9222 - auc: 0.7579 - f1_score: 0.1014 - loss: 0.0609 - precision: 0.5027 - recall: 0.0700 - learning_rate: 0.0001\n",
      "2025-05-21 12:02:05 - INFO - Validation - accuracy: 0.9436 - auc: 0.7452 - f1_score: 0.0585 - loss: 0.0650 - precision: 0.3988 - recall: 0.0349\n",
      "2025-05-21 12:02:05 - INFO - ==================================================\n",
      "\n"
     ]
    },
    {
     "name": "stdout",
     "output_type": "stream",
     "text": [
      "\u001b[1m813/813\u001b[0m \u001b[32m━━━━━━━━━━━━━━━━━━━━\u001b[0m\u001b[37m\u001b[0m \u001b[1m200s\u001b[0m 247ms/step - accuracy: 0.9220 - auc: 0.7558 - f1_score: 0.0983 - loss: 0.0615 - precision: 0.5074 - recall: 0.0678 - val_accuracy: 0.9436 - val_auc: 0.7452 - val_f1_score: 0.0585 - val_loss: 0.0650 - val_precision: 0.3988 - val_recall: 0.0349 - learning_rate: 1.0000e-04\n"
     ]
    },
    {
     "name": "stderr",
     "output_type": "stream",
     "text": [
      "2025-05-21 12:02:05 - INFO - \n",
      "=== Starting Epoch 15 ===\n",
      "\n"
     ]
    },
    {
     "name": "stdout",
     "output_type": "stream",
     "text": [
      "Epoch 15/100\n",
      "\u001b[1m813/813\u001b[0m \u001b[32m━━━━━━━━━━━━━━━━━━━━\u001b[0m\u001b[37m\u001b[0m \u001b[1m0s\u001b[0m 233ms/step - accuracy: 0.9226 - auc: 0.7710 - f1_score: 0.1163 - loss: 0.0586 - precision: 0.5248 - recall: 0.0817  "
     ]
    },
    {
     "name": "stderr",
     "output_type": "stream",
     "text": [
      "2025-05-21 12:05:30 - INFO - \n",
      "=== Epoch 15 Summary ===\n",
      "2025-05-21 12:05:30 - INFO - Time: 205.28s\n",
      "2025-05-21 12:05:30 - INFO - Training   - accuracy: 0.9228 - auc: 0.7774 - f1_score: 0.1243 - loss: 0.0578 - precision: 0.5227 - recall: 0.0877 - learning_rate: 0.0000\n",
      "2025-05-21 12:05:30 - INFO - Validation - accuracy: 0.9410 - auc: 0.7475 - f1_score: 0.1349 - loss: 0.0626 - precision: 0.3900 - recall: 0.1149\n",
      "2025-05-21 12:05:30 - INFO - ==================================================\n",
      "\n"
     ]
    },
    {
     "name": "stdout",
     "output_type": "stream",
     "text": [
      "\u001b[1m813/813\u001b[0m \u001b[32m━━━━━━━━━━━━━━━━━━━━\u001b[0m\u001b[37m\u001b[0m \u001b[1m205s\u001b[0m 253ms/step - accuracy: 0.9226 - auc: 0.7710 - f1_score: 0.1163 - loss: 0.0586 - precision: 0.5248 - recall: 0.0817 - val_accuracy: 0.9410 - val_auc: 0.7475 - val_f1_score: 0.1349 - val_loss: 0.0626 - val_precision: 0.3900 - val_recall: 0.1149 - learning_rate: 5.0000e-05\n"
     ]
    },
    {
     "name": "stderr",
     "output_type": "stream",
     "text": [
      "2025-05-21 12:05:30 - INFO - \n",
      "=== Starting Epoch 16 ===\n",
      "\n"
     ]
    },
    {
     "name": "stdout",
     "output_type": "stream",
     "text": [
      "Epoch 16/100\n",
      "\u001b[1m813/813\u001b[0m \u001b[32m━━━━━━━━━━━━━━━━━━━━\u001b[0m\u001b[37m\u001b[0m \u001b[1m0s\u001b[0m 226ms/step - accuracy: 0.9223 - auc: 0.7823 - f1_score: 0.1323 - loss: 0.0571 - precision: 0.5141 - recall: 0.0952  "
     ]
    },
    {
     "name": "stderr",
     "output_type": "stream",
     "text": [
      "2025-05-21 12:08:49 - INFO - \n",
      "=== Epoch 16 Summary ===\n",
      "2025-05-21 12:08:49 - INFO - Time: 198.52s\n",
      "2025-05-21 12:08:49 - INFO - Training   - accuracy: 0.9228 - auc: 0.7846 - f1_score: 0.1356 - loss: 0.0566 - precision: 0.5221 - recall: 0.0971 - learning_rate: 0.0000\n",
      "2025-05-21 12:08:49 - INFO - Validation - accuracy: 0.9396 - auc: 0.7602 - f1_score: 0.1441 - loss: 0.0632 - precision: 0.3689 - recall: 0.1267\n",
      "2025-05-21 12:08:49 - INFO - ==================================================\n",
      "\n"
     ]
    },
    {
     "name": "stdout",
     "output_type": "stream",
     "text": [
      "\u001b[1m813/813\u001b[0m \u001b[32m━━━━━━━━━━━━━━━━━━━━\u001b[0m\u001b[37m\u001b[0m \u001b[1m199s\u001b[0m 244ms/step - accuracy: 0.9223 - auc: 0.7823 - f1_score: 0.1323 - loss: 0.0571 - precision: 0.5141 - recall: 0.0952 - val_accuracy: 0.9396 - val_auc: 0.7602 - val_f1_score: 0.1441 - val_loss: 0.0632 - val_precision: 0.3689 - val_recall: 0.1267 - learning_rate: 5.0000e-05\n"
     ]
    },
    {
     "name": "stderr",
     "output_type": "stream",
     "text": [
      "2025-05-21 12:08:49 - INFO - \n",
      "=== Starting Epoch 17 ===\n",
      "\n"
     ]
    },
    {
     "name": "stdout",
     "output_type": "stream",
     "text": [
      "Epoch 17/100\n",
      "\u001b[1m813/813\u001b[0m \u001b[32m━━━━━━━━━━━━━━━━━━━━\u001b[0m\u001b[37m\u001b[0m \u001b[1m0s\u001b[0m 228ms/step - accuracy: 0.9228 - auc: 0.7869 - f1_score: 0.1398 - loss: 0.0558 - precision: 0.5228 - recall: 0.1004  "
     ]
    },
    {
     "name": "stderr",
     "output_type": "stream",
     "text": [
      "2025-05-21 12:12:04 - INFO - \n",
      "=== Epoch 17 Summary ===\n",
      "2025-05-21 12:12:04 - INFO - Time: 195.55s\n",
      "2025-05-21 12:12:04 - INFO - Training   - accuracy: 0.9231 - auc: 0.7894 - f1_score: 0.1454 - loss: 0.0555 - precision: 0.5273 - recall: 0.1040 - learning_rate: 0.0000\n",
      "2025-05-21 12:12:04 - INFO - Validation - accuracy: 0.9434 - auc: 0.7632 - f1_score: 0.0711 - loss: 0.0581 - precision: 0.4050 - recall: 0.0473\n",
      "2025-05-21 12:12:04 - INFO - ==================================================\n",
      "\n"
     ]
    },
    {
     "name": "stdout",
     "output_type": "stream",
     "text": [
      "\u001b[1m813/813\u001b[0m \u001b[32m━━━━━━━━━━━━━━━━━━━━\u001b[0m\u001b[37m\u001b[0m \u001b[1m196s\u001b[0m 241ms/step - accuracy: 0.9228 - auc: 0.7869 - f1_score: 0.1398 - loss: 0.0558 - precision: 0.5228 - recall: 0.1004 - val_accuracy: 0.9434 - val_auc: 0.7632 - val_f1_score: 0.0711 - val_loss: 0.0581 - val_precision: 0.4050 - val_recall: 0.0473 - learning_rate: 5.0000e-05\n"
     ]
    },
    {
     "name": "stderr",
     "output_type": "stream",
     "text": [
      "2025-05-21 12:12:04 - INFO - \n",
      "=== Starting Epoch 18 ===\n",
      "\n"
     ]
    },
    {
     "name": "stdout",
     "output_type": "stream",
     "text": [
      "Epoch 18/100\n",
      "\u001b[1m813/813\u001b[0m \u001b[32m━━━━━━━━━━━━━━━━━━━━\u001b[0m\u001b[37m\u001b[0m \u001b[1m0s\u001b[0m 237ms/step - accuracy: 0.9227 - auc: 0.7927 - f1_score: 0.1546 - loss: 0.0551 - precision: 0.5237 - recall: 0.1120  "
     ]
    },
    {
     "name": "stderr",
     "output_type": "stream",
     "text": [
      "2025-05-21 12:15:31 - INFO - \n",
      "=== Epoch 18 Summary ===\n",
      "2025-05-21 12:15:31 - INFO - Time: 206.23s\n",
      "2025-05-21 12:15:31 - INFO - Training   - accuracy: 0.9231 - auc: 0.7956 - f1_score: 0.1572 - loss: 0.0546 - precision: 0.5259 - recall: 0.1138 - learning_rate: 0.0000\n",
      "2025-05-21 12:15:31 - INFO - Validation - accuracy: 0.9398 - auc: 0.7671 - f1_score: 0.1425 - loss: 0.0618 - precision: 0.3548 - recall: 0.1073\n",
      "2025-05-21 12:15:31 - INFO - ==================================================\n",
      "\n"
     ]
    },
    {
     "name": "stdout",
     "output_type": "stream",
     "text": [
      "\u001b[1m813/813\u001b[0m \u001b[32m━━━━━━━━━━━━━━━━━━━━\u001b[0m\u001b[37m\u001b[0m \u001b[1m206s\u001b[0m 254ms/step - accuracy: 0.9227 - auc: 0.7927 - f1_score: 0.1546 - loss: 0.0551 - precision: 0.5237 - recall: 0.1120 - val_accuracy: 0.9398 - val_auc: 0.7671 - val_f1_score: 0.1425 - val_loss: 0.0618 - val_precision: 0.3548 - val_recall: 0.1073 - learning_rate: 5.0000e-05\n"
     ]
    },
    {
     "name": "stderr",
     "output_type": "stream",
     "text": [
      "2025-05-21 12:15:31 - INFO - \n",
      "=== Starting Epoch 19 ===\n",
      "\n"
     ]
    },
    {
     "name": "stdout",
     "output_type": "stream",
     "text": [
      "Epoch 19/100\n",
      "\u001b[1m813/813\u001b[0m \u001b[32m━━━━━━━━━━━━━━━━━━━━\u001b[0m\u001b[37m\u001b[0m \u001b[1m0s\u001b[0m 238ms/step - accuracy: 0.9229 - auc: 0.7972 - f1_score: 0.1584 - loss: 0.0545 - precision: 0.5226 - recall: 0.1154  \n",
      "Epoch 19: ReduceLROnPlateau reducing learning rate to 2.499999936844688e-05.\n"
     ]
    },
    {
     "name": "stderr",
     "output_type": "stream",
     "text": [
      "2025-05-21 12:18:55 - INFO - \n",
      "=== Epoch 19 Summary ===\n",
      "2025-05-21 12:18:55 - INFO - Time: 204.17s\n",
      "2025-05-21 12:18:55 - INFO - Training   - accuracy: 0.9231 - auc: 0.7997 - f1_score: 0.1620 - loss: 0.0539 - precision: 0.5254 - recall: 0.1184 - learning_rate: 0.0000\n",
      "2025-05-21 12:18:55 - INFO - Validation - accuracy: 0.9358 - auc: 0.7597 - f1_score: 0.1135 - loss: 0.0629 - precision: 0.2934 - recall: 0.1128\n",
      "2025-05-21 12:18:55 - INFO - ==================================================\n",
      "\n"
     ]
    },
    {
     "name": "stdout",
     "output_type": "stream",
     "text": [
      "\u001b[1m813/813\u001b[0m \u001b[32m━━━━━━━━━━━━━━━━━━━━\u001b[0m\u001b[37m\u001b[0m \u001b[1m204s\u001b[0m 251ms/step - accuracy: 0.9229 - auc: 0.7972 - f1_score: 0.1584 - loss: 0.0545 - precision: 0.5227 - recall: 0.1154 - val_accuracy: 0.9358 - val_auc: 0.7597 - val_f1_score: 0.1135 - val_loss: 0.0629 - val_precision: 0.2934 - val_recall: 0.1128 - learning_rate: 5.0000e-05\n"
     ]
    },
    {
     "name": "stderr",
     "output_type": "stream",
     "text": [
      "2025-05-21 12:18:55 - INFO - \n",
      "=== Starting Epoch 20 ===\n",
      "\n"
     ]
    },
    {
     "name": "stdout",
     "output_type": "stream",
     "text": [
      "Epoch 20/100\n",
      "\u001b[1m813/813\u001b[0m \u001b[32m━━━━━━━━━━━━━━━━━━━━\u001b[0m\u001b[37m\u001b[0m \u001b[1m0s\u001b[0m 241ms/step - accuracy: 0.9234 - auc: 0.8095 - f1_score: 0.1813 - loss: 0.0527 - precision: 0.5416 - recall: 0.1352  "
     ]
    },
    {
     "name": "stderr",
     "output_type": "stream",
     "text": [
      "2025-05-21 12:22:24 - INFO - \n",
      "=== Epoch 20 Summary ===\n",
      "2025-05-21 12:22:24 - INFO - Time: 209.33s\n",
      "2025-05-21 12:22:24 - INFO - Training   - accuracy: 0.9240 - auc: 0.8147 - f1_score: 0.1908 - loss: 0.0517 - precision: 0.5461 - recall: 0.1431 - learning_rate: 0.0000\n",
      "2025-05-21 12:22:24 - INFO - Validation - accuracy: 0.9421 - auc: 0.7752 - f1_score: 0.1328 - loss: 0.0578 - precision: 0.4060 - recall: 0.0962\n",
      "2025-05-21 12:22:24 - INFO - ==================================================\n",
      "\n"
     ]
    },
    {
     "name": "stdout",
     "output_type": "stream",
     "text": [
      "\u001b[1m813/813\u001b[0m \u001b[32m━━━━━━━━━━━━━━━━━━━━\u001b[0m\u001b[37m\u001b[0m \u001b[1m209s\u001b[0m 258ms/step - accuracy: 0.9234 - auc: 0.8095 - f1_score: 0.1813 - loss: 0.0527 - precision: 0.5416 - recall: 0.1352 - val_accuracy: 0.9421 - val_auc: 0.7752 - val_f1_score: 0.1328 - val_loss: 0.0578 - val_precision: 0.4060 - val_recall: 0.0962 - learning_rate: 2.5000e-05\n"
     ]
    },
    {
     "name": "stderr",
     "output_type": "stream",
     "text": [
      "2025-05-21 12:22:24 - INFO - \n",
      "=== Starting Epoch 21 ===\n",
      "\n"
     ]
    },
    {
     "name": "stdout",
     "output_type": "stream",
     "text": [
      "Epoch 21/100\n",
      "\u001b[1m813/813\u001b[0m \u001b[32m━━━━━━━━━━━━━━━━━━━━\u001b[0m\u001b[37m\u001b[0m \u001b[1m0s\u001b[0m 239ms/step - accuracy: 0.9238 - auc: 0.8180 - f1_score: 0.1974 - loss: 0.0513 - precision: 0.5473 - recall: 0.1492  "
     ]
    },
    {
     "name": "stderr",
     "output_type": "stream",
     "text": [
      "2025-05-21 12:25:48 - INFO - \n",
      "=== Epoch 21 Summary ===\n",
      "2025-05-21 12:25:48 - INFO - Time: 203.96s\n",
      "2025-05-21 12:25:48 - INFO - Training   - accuracy: 0.9246 - auc: 0.8226 - f1_score: 0.2066 - loss: 0.0504 - precision: 0.5555 - recall: 0.1570 - learning_rate: 0.0000\n",
      "2025-05-21 12:25:48 - INFO - Validation - accuracy: 0.9372 - auc: 0.7695 - f1_score: 0.1403 - loss: 0.0605 - precision: 0.3190 - recall: 0.1174\n",
      "2025-05-21 12:25:48 - INFO - ==================================================\n",
      "\n"
     ]
    },
    {
     "name": "stdout",
     "output_type": "stream",
     "text": [
      "\u001b[1m813/813\u001b[0m \u001b[32m━━━━━━━━━━━━━━━━━━━━\u001b[0m\u001b[37m\u001b[0m \u001b[1m204s\u001b[0m 251ms/step - accuracy: 0.9238 - auc: 0.8180 - f1_score: 0.1974 - loss: 0.0513 - precision: 0.5473 - recall: 0.1492 - val_accuracy: 0.9372 - val_auc: 0.7695 - val_f1_score: 0.1403 - val_loss: 0.0605 - val_precision: 0.3190 - val_recall: 0.1174 - learning_rate: 2.5000e-05\n"
     ]
    },
    {
     "name": "stderr",
     "output_type": "stream",
     "text": [
      "2025-05-21 12:25:48 - INFO - \n",
      "=== Starting Epoch 22 ===\n",
      "\n"
     ]
    },
    {
     "name": "stdout",
     "output_type": "stream",
     "text": [
      "Epoch 22/100\n",
      "\u001b[1m813/813\u001b[0m \u001b[32m━━━━━━━━━━━━━━━━━━━━\u001b[0m\u001b[37m\u001b[0m \u001b[1m0s\u001b[0m 244ms/step - accuracy: 0.9243 - auc: 0.8232 - f1_score: 0.2130 - loss: 0.0502 - precision: 0.5558 - recall: 0.1624  \n",
      "Epoch 22: ReduceLROnPlateau reducing learning rate to 1.249999968422344e-05.\n"
     ]
    },
    {
     "name": "stderr",
     "output_type": "stream",
     "text": [
      "2025-05-21 12:29:19 - INFO - \n",
      "=== Epoch 22 Summary ===\n",
      "2025-05-21 12:29:19 - INFO - Time: 211.28s\n",
      "2025-05-21 12:29:19 - INFO - Training   - accuracy: 0.9250 - auc: 0.8277 - f1_score: 0.2180 - loss: 0.0496 - precision: 0.5613 - recall: 0.1675 - learning_rate: 0.0000\n",
      "2025-05-21 12:29:19 - INFO - Validation - accuracy: 0.9284 - auc: 0.7638 - f1_score: 0.1191 - loss: 0.0659 - precision: 0.2166 - recall: 0.1116\n",
      "2025-05-21 12:29:19 - INFO - ==================================================\n",
      "\n"
     ]
    },
    {
     "name": "stdout",
     "output_type": "stream",
     "text": [
      "\u001b[1m813/813\u001b[0m \u001b[32m━━━━━━━━━━━━━━━━━━━━\u001b[0m\u001b[37m\u001b[0m \u001b[1m211s\u001b[0m 260ms/step - accuracy: 0.9243 - auc: 0.8232 - f1_score: 0.2130 - loss: 0.0502 - precision: 0.5558 - recall: 0.1624 - val_accuracy: 0.9284 - val_auc: 0.7638 - val_f1_score: 0.1191 - val_loss: 0.0659 - val_precision: 0.2166 - val_recall: 0.1116 - learning_rate: 2.5000e-05\n"
     ]
    },
    {
     "name": "stderr",
     "output_type": "stream",
     "text": [
      "2025-05-21 12:29:20 - INFO - \n",
      "=== Starting Epoch 23 ===\n",
      "\n"
     ]
    },
    {
     "name": "stdout",
     "output_type": "stream",
     "text": [
      "Epoch 23/100\n",
      "\u001b[1m813/813\u001b[0m \u001b[32m━━━━━━━━━━━━━━━━━━━━\u001b[0m\u001b[37m\u001b[0m \u001b[1m0s\u001b[0m 238ms/step - accuracy: 0.9254 - auc: 0.8345 - f1_score: 0.2338 - loss: 0.0484 - precision: 0.5715 - recall: 0.1810  "
     ]
    },
    {
     "name": "stderr",
     "output_type": "stream",
     "text": [
      "2025-05-21 12:32:43 - INFO - \n",
      "=== Epoch 23 Summary ===\n",
      "2025-05-21 12:32:43 - INFO - Time: 203.37s\n",
      "2025-05-21 12:32:43 - INFO - Training   - accuracy: 0.9264 - auc: 0.8402 - f1_score: 0.2440 - loss: 0.0475 - precision: 0.5834 - recall: 0.1901 - learning_rate: 0.0000\n",
      "2025-05-21 12:32:43 - INFO - Validation - accuracy: 0.9384 - auc: 0.7739 - f1_score: 0.1414 - loss: 0.0587 - precision: 0.3327 - recall: 0.1109\n",
      "2025-05-21 12:32:43 - INFO - ==================================================\n",
      "\n"
     ]
    },
    {
     "name": "stdout",
     "output_type": "stream",
     "text": [
      "\u001b[1m813/813\u001b[0m \u001b[32m━━━━━━━━━━━━━━━━━━━━\u001b[0m\u001b[37m\u001b[0m \u001b[1m203s\u001b[0m 250ms/step - accuracy: 0.9254 - auc: 0.8345 - f1_score: 0.2338 - loss: 0.0484 - precision: 0.5715 - recall: 0.1810 - val_accuracy: 0.9384 - val_auc: 0.7739 - val_f1_score: 0.1414 - val_loss: 0.0587 - val_precision: 0.3327 - val_recall: 0.1109 - learning_rate: 1.2500e-05\n"
     ]
    },
    {
     "name": "stderr",
     "output_type": "stream",
     "text": [
      "2025-05-21 12:32:43 - INFO - \n",
      "=== Starting Epoch 24 ===\n",
      "\n"
     ]
    },
    {
     "name": "stdout",
     "output_type": "stream",
     "text": [
      "Epoch 24/100\n",
      "\u001b[1m813/813\u001b[0m \u001b[32m━━━━━━━━━━━━━━━━━━━━\u001b[0m\u001b[37m\u001b[0m \u001b[1m0s\u001b[0m 245ms/step - accuracy: 0.9262 - auc: 0.8428 - f1_score: 0.2556 - loss: 0.0471 - precision: 0.5822 - recall: 0.2010  "
     ]
    },
    {
     "name": "stderr",
     "output_type": "stream",
     "text": [
      "2025-05-21 12:36:16 - INFO - \n",
      "=== Epoch 24 Summary ===\n",
      "2025-05-21 12:36:16 - INFO - Time: 213.00s\n",
      "2025-05-21 12:36:16 - INFO - Training   - accuracy: 0.9271 - auc: 0.8475 - f1_score: 0.2602 - loss: 0.0463 - precision: 0.5889 - recall: 0.2053 - learning_rate: 0.0000\n",
      "2025-05-21 12:36:16 - INFO - Validation - accuracy: 0.9331 - auc: 0.7647 - f1_score: 0.1713 - loss: 0.0617 - precision: 0.3089 - recall: 0.1687\n",
      "2025-05-21 12:36:16 - INFO - ==================================================\n",
      "\n"
     ]
    },
    {
     "name": "stdout",
     "output_type": "stream",
     "text": [
      "\u001b[1m813/813\u001b[0m \u001b[32m━━━━━━━━━━━━━━━━━━━━\u001b[0m\u001b[37m\u001b[0m \u001b[1m213s\u001b[0m 262ms/step - accuracy: 0.9262 - auc: 0.8428 - f1_score: 0.2556 - loss: 0.0471 - precision: 0.5822 - recall: 0.2010 - val_accuracy: 0.9331 - val_auc: 0.7647 - val_f1_score: 0.1713 - val_loss: 0.0617 - val_precision: 0.3089 - val_recall: 0.1687 - learning_rate: 1.2500e-05\n"
     ]
    },
    {
     "name": "stderr",
     "output_type": "stream",
     "text": [
      "2025-05-21 12:36:16 - INFO - \n",
      "=== Starting Epoch 25 ===\n",
      "\n"
     ]
    },
    {
     "name": "stdout",
     "output_type": "stream",
     "text": [
      "Epoch 25/100\n",
      "\u001b[1m813/813\u001b[0m \u001b[32m━━━━━━━━━━━━━━━━━━━━\u001b[0m\u001b[37m\u001b[0m \u001b[1m0s\u001b[0m 238ms/step - accuracy: 0.9268 - auc: 0.8505 - f1_score: 0.2690 - loss: 0.0460 - precision: 0.5952 - recall: 0.2117  "
     ]
    },
    {
     "name": "stderr",
     "output_type": "stream",
     "text": [
      "2025-05-21 12:39:40 - INFO - \n",
      "=== Epoch 25 Summary ===\n",
      "2025-05-21 12:39:40 - INFO - Time: 203.63s\n",
      "2025-05-21 12:39:40 - INFO - Training   - accuracy: 0.9277 - auc: 0.8537 - f1_score: 0.2747 - loss: 0.0453 - precision: 0.5990 - recall: 0.2172 - learning_rate: 0.0000\n",
      "2025-05-21 12:39:40 - INFO - Validation - accuracy: 0.9399 - auc: 0.7699 - f1_score: 0.1628 - loss: 0.0592 - precision: 0.3751 - recall: 0.1275\n",
      "2025-05-21 12:39:40 - INFO - ==================================================\n",
      "\n"
     ]
    },
    {
     "name": "stdout",
     "output_type": "stream",
     "text": [
      "\u001b[1m813/813\u001b[0m \u001b[32m━━━━━━━━━━━━━━━━━━━━\u001b[0m\u001b[37m\u001b[0m \u001b[1m204s\u001b[0m 251ms/step - accuracy: 0.9268 - auc: 0.8505 - f1_score: 0.2690 - loss: 0.0460 - precision: 0.5952 - recall: 0.2117 - val_accuracy: 0.9399 - val_auc: 0.7699 - val_f1_score: 0.1628 - val_loss: 0.0592 - val_precision: 0.3751 - val_recall: 0.1275 - learning_rate: 1.2500e-05\n"
     ]
    },
    {
     "name": "stderr",
     "output_type": "stream",
     "text": [
      "2025-05-21 12:39:40 - INFO - \n",
      "=== Starting Epoch 26 ===\n",
      "\n"
     ]
    },
    {
     "name": "stdout",
     "output_type": "stream",
     "text": [
      "Epoch 26/100\n",
      "\u001b[1m813/813\u001b[0m \u001b[32m━━━━━━━━━━━━━━━━━━━━\u001b[0m\u001b[37m\u001b[0m \u001b[1m0s\u001b[0m 245ms/step - accuracy: 0.9281 - auc: 0.8570 - f1_score: 0.2896 - loss: 0.0449 - precision: 0.6068 - recall: 0.2300  "
     ]
    },
    {
     "name": "stderr",
     "output_type": "stream",
     "text": [
      "2025-05-21 12:43:12 - INFO - \n",
      "=== Epoch 26 Summary ===\n",
      "2025-05-21 12:43:12 - INFO - Time: 212.39s\n",
      "2025-05-21 12:43:12 - INFO - Training   - accuracy: 0.9288 - auc: 0.8601 - f1_score: 0.2928 - loss: 0.0442 - precision: 0.6120 - recall: 0.2327 - learning_rate: 0.0000\n",
      "2025-05-21 12:43:12 - INFO - Validation - accuracy: 0.9311 - auc: 0.7658 - f1_score: 0.1676 - loss: 0.0629 - precision: 0.2971 - recall: 0.1790\n",
      "2025-05-21 12:43:12 - INFO - ==================================================\n",
      "\n"
     ]
    },
    {
     "name": "stdout",
     "output_type": "stream",
     "text": [
      "\u001b[1m813/813\u001b[0m \u001b[32m━━━━━━━━━━━━━━━━━━━━\u001b[0m\u001b[37m\u001b[0m \u001b[1m212s\u001b[0m 261ms/step - accuracy: 0.9281 - auc: 0.8570 - f1_score: 0.2896 - loss: 0.0449 - precision: 0.6068 - recall: 0.2300 - val_accuracy: 0.9311 - val_auc: 0.7658 - val_f1_score: 0.1676 - val_loss: 0.0629 - val_precision: 0.2971 - val_recall: 0.1790 - learning_rate: 1.2500e-05\n"
     ]
    },
    {
     "name": "stderr",
     "output_type": "stream",
     "text": [
      "2025-05-21 12:43:12 - INFO - \n",
      "=== Starting Epoch 27 ===\n",
      "\n"
     ]
    },
    {
     "name": "stdout",
     "output_type": "stream",
     "text": [
      "Epoch 27/100\n",
      "\u001b[1m813/813\u001b[0m \u001b[32m━━━━━━━━━━━━━━━━━━━━\u001b[0m\u001b[37m\u001b[0m \u001b[1m0s\u001b[0m 238ms/step - accuracy: 0.9287 - auc: 0.8634 - f1_score: 0.3033 - loss: 0.0436 - precision: 0.6118 - recall: 0.2424  "
     ]
    },
    {
     "name": "stderr",
     "output_type": "stream",
     "text": [
      "2025-05-21 12:46:36 - INFO - \n",
      "=== Epoch 27 Summary ===\n",
      "2025-05-21 12:46:36 - INFO - Time: 204.43s\n",
      "2025-05-21 12:46:36 - INFO - Training   - accuracy: 0.9295 - auc: 0.8669 - f1_score: 0.3091 - loss: 0.0431 - precision: 0.6184 - recall: 0.2466 - learning_rate: 0.0000\n",
      "2025-05-21 12:46:36 - INFO - Validation - accuracy: 0.9368 - auc: 0.7695 - f1_score: 0.1853 - loss: 0.0595 - precision: 0.3558 - recall: 0.1748\n",
      "2025-05-21 12:46:36 - INFO - ==================================================\n",
      "\n"
     ]
    },
    {
     "name": "stdout",
     "output_type": "stream",
     "text": [
      "\u001b[1m813/813\u001b[0m \u001b[32m━━━━━━━━━━━━━━━━━━━━\u001b[0m\u001b[37m\u001b[0m \u001b[1m204s\u001b[0m 252ms/step - accuracy: 0.9287 - auc: 0.8634 - f1_score: 0.3033 - loss: 0.0436 - precision: 0.6118 - recall: 0.2424 - val_accuracy: 0.9368 - val_auc: 0.7695 - val_f1_score: 0.1853 - val_loss: 0.0595 - val_precision: 0.3558 - val_recall: 0.1748 - learning_rate: 1.2500e-05\n"
     ]
    },
    {
     "name": "stderr",
     "output_type": "stream",
     "text": [
      "2025-05-21 12:46:36 - INFO - \n",
      "=== Starting Epoch 28 ===\n",
      "\n"
     ]
    },
    {
     "name": "stdout",
     "output_type": "stream",
     "text": [
      "Epoch 28/100\n",
      "\u001b[1m813/813\u001b[0m \u001b[32m━━━━━━━━━━━━━━━━━━━━\u001b[0m\u001b[37m\u001b[0m \u001b[1m0s\u001b[0m 245ms/step - accuracy: 0.9296 - auc: 0.8692 - f1_score: 0.3172 - loss: 0.0430 - precision: 0.6205 - recall: 0.2545  "
     ]
    },
    {
     "name": "stderr",
     "output_type": "stream",
     "text": [
      "2025-05-21 12:50:09 - INFO - \n",
      "=== Epoch 28 Summary ===\n",
      "2025-05-21 12:50:09 - INFO - Time: 212.52s\n",
      "2025-05-21 12:50:09 - INFO - Training   - accuracy: 0.9303 - auc: 0.8717 - f1_score: 0.3229 - loss: 0.0423 - precision: 0.6270 - recall: 0.2589 - learning_rate: 0.0000\n",
      "2025-05-21 12:50:09 - INFO - Validation - accuracy: 0.9376 - auc: 0.7726 - f1_score: 0.1630 - loss: 0.0604 - precision: 0.3367 - recall: 0.1308\n",
      "2025-05-21 12:50:09 - INFO - ==================================================\n",
      "\n"
     ]
    },
    {
     "name": "stdout",
     "output_type": "stream",
     "text": [
      "\u001b[1m813/813\u001b[0m \u001b[32m━━━━━━━━━━━━━━━━━━━━\u001b[0m\u001b[37m\u001b[0m \u001b[1m213s\u001b[0m 261ms/step - accuracy: 0.9296 - auc: 0.8692 - f1_score: 0.3172 - loss: 0.0430 - precision: 0.6206 - recall: 0.2545 - val_accuracy: 0.9376 - val_auc: 0.7726 - val_f1_score: 0.1630 - val_loss: 0.0604 - val_precision: 0.3367 - val_recall: 0.1308 - learning_rate: 1.2500e-05\n"
     ]
    },
    {
     "name": "stderr",
     "output_type": "stream",
     "text": [
      "2025-05-21 12:50:09 - INFO - \n",
      "=== Starting Epoch 29 ===\n",
      "\n"
     ]
    },
    {
     "name": "stdout",
     "output_type": "stream",
     "text": [
      "Epoch 29/100\n",
      "\u001b[1m813/813\u001b[0m \u001b[32m━━━━━━━━━━━━━━━━━━━━\u001b[0m\u001b[37m\u001b[0m \u001b[1m0s\u001b[0m 238ms/step - accuracy: 0.9308 - auc: 0.8754 - f1_score: 0.3348 - loss: 0.0416 - precision: 0.6342 - recall: 0.2685  "
     ]
    },
    {
     "name": "stderr",
     "output_type": "stream",
     "text": [
      "2025-05-21 12:53:33 - INFO - \n",
      "=== Epoch 29 Summary ===\n",
      "2025-05-21 12:53:33 - INFO - Time: 204.47s\n",
      "2025-05-21 12:53:33 - INFO - Training   - accuracy: 0.9314 - auc: 0.8775 - f1_score: 0.3415 - loss: 0.0412 - precision: 0.6380 - recall: 0.2746 - learning_rate: 0.0000\n",
      "2025-05-21 12:53:33 - INFO - Validation - accuracy: 0.9362 - auc: 0.7779 - f1_score: 0.1879 - loss: 0.0605 - precision: 0.3447 - recall: 0.1676\n",
      "2025-05-21 12:53:33 - INFO - ==================================================\n",
      "\n"
     ]
    },
    {
     "name": "stdout",
     "output_type": "stream",
     "text": [
      "\u001b[1m813/813\u001b[0m \u001b[32m━━━━━━━━━━━━━━━━━━━━\u001b[0m\u001b[37m\u001b[0m \u001b[1m205s\u001b[0m 252ms/step - accuracy: 0.9308 - auc: 0.8754 - f1_score: 0.3348 - loss: 0.0416 - precision: 0.6342 - recall: 0.2685 - val_accuracy: 0.9362 - val_auc: 0.7779 - val_f1_score: 0.1879 - val_loss: 0.0605 - val_precision: 0.3447 - val_recall: 0.1676 - learning_rate: 1.2500e-05\n"
     ]
    },
    {
     "name": "stderr",
     "output_type": "stream",
     "text": [
      "2025-05-21 12:53:33 - INFO - \n",
      "=== Starting Epoch 30 ===\n",
      "\n"
     ]
    },
    {
     "name": "stdout",
     "output_type": "stream",
     "text": [
      "Epoch 30/100\n",
      "\u001b[1m813/813\u001b[0m \u001b[32m━━━━━━━━━━━━━━━━━━━━\u001b[0m\u001b[37m\u001b[0m \u001b[1m0s\u001b[0m 246ms/step - accuracy: 0.9318 - auc: 0.8803 - f1_score: 0.3510 - loss: 0.0408 - precision: 0.6405 - recall: 0.2836  "
     ]
    },
    {
     "name": "stderr",
     "output_type": "stream",
     "text": [
      "2025-05-21 12:57:07 - INFO - \n",
      "=== Epoch 30 Summary ===\n",
      "2025-05-21 12:57:07 - INFO - Time: 213.82s\n",
      "2025-05-21 12:57:07 - INFO - Training   - accuracy: 0.9322 - auc: 0.8825 - f1_score: 0.3547 - loss: 0.0403 - precision: 0.6432 - recall: 0.2866 - learning_rate: 0.0000\n",
      "2025-05-21 12:57:07 - INFO - Validation - accuracy: 0.9336 - auc: 0.7729 - f1_score: 0.2150 - loss: 0.0627 - precision: 0.3272 - recall: 0.1882\n",
      "2025-05-21 12:57:07 - INFO - ==================================================\n",
      "\n"
     ]
    },
    {
     "name": "stdout",
     "output_type": "stream",
     "text": [
      "\u001b[1m813/813\u001b[0m \u001b[32m━━━━━━━━━━━━━━━━━━━━\u001b[0m\u001b[37m\u001b[0m \u001b[1m214s\u001b[0m 263ms/step - accuracy: 0.9318 - auc: 0.8803 - f1_score: 0.3510 - loss: 0.0408 - precision: 0.6405 - recall: 0.2836 - val_accuracy: 0.9336 - val_auc: 0.7729 - val_f1_score: 0.2150 - val_loss: 0.0627 - val_precision: 0.3272 - val_recall: 0.1882 - learning_rate: 1.2500e-05\n"
     ]
    },
    {
     "name": "stderr",
     "output_type": "stream",
     "text": [
      "2025-05-21 12:57:07 - INFO - \n",
      "=== Starting Epoch 31 ===\n",
      "\n"
     ]
    },
    {
     "name": "stdout",
     "output_type": "stream",
     "text": [
      "Epoch 31/100\n",
      "\u001b[1m813/813\u001b[0m \u001b[32m━━━━━━━━━━━━━━━━━━━━\u001b[0m\u001b[37m\u001b[0m \u001b[1m0s\u001b[0m 238ms/step - accuracy: 0.9322 - auc: 0.8851 - f1_score: 0.3692 - loss: 0.0400 - precision: 0.6448 - recall: 0.2988  "
     ]
    },
    {
     "name": "stderr",
     "output_type": "stream",
     "text": [
      "2025-05-21 13:00:31 - INFO - \n",
      "=== Epoch 31 Summary ===\n",
      "2025-05-21 13:00:31 - INFO - Time: 203.82s\n",
      "2025-05-21 13:00:31 - INFO - Training   - accuracy: 0.9330 - auc: 0.8873 - f1_score: 0.3709 - loss: 0.0395 - precision: 0.6506 - recall: 0.3003 - learning_rate: 0.0000\n",
      "2025-05-21 13:00:31 - INFO - Validation - accuracy: 0.9365 - auc: 0.7694 - f1_score: 0.1485 - loss: 0.0647 - precision: 0.3017 - recall: 0.1119\n",
      "2025-05-21 13:00:31 - INFO - ==================================================\n",
      "\n"
     ]
    },
    {
     "name": "stdout",
     "output_type": "stream",
     "text": [
      "\u001b[1m813/813\u001b[0m \u001b[32m━━━━━━━━━━━━━━━━━━━━\u001b[0m\u001b[37m\u001b[0m \u001b[1m204s\u001b[0m 251ms/step - accuracy: 0.9322 - auc: 0.8851 - f1_score: 0.3692 - loss: 0.0400 - precision: 0.6448 - recall: 0.2988 - val_accuracy: 0.9365 - val_auc: 0.7694 - val_f1_score: 0.1485 - val_loss: 0.0647 - val_precision: 0.3017 - val_recall: 0.1119 - learning_rate: 1.2500e-05\n"
     ]
    },
    {
     "name": "stderr",
     "output_type": "stream",
     "text": [
      "2025-05-21 13:00:31 - INFO - \n",
      "=== Starting Epoch 32 ===\n",
      "\n"
     ]
    },
    {
     "name": "stdout",
     "output_type": "stream",
     "text": [
      "Epoch 32/100\n",
      "\u001b[1m813/813\u001b[0m \u001b[32m━━━━━━━━━━━━━━━━━━━━\u001b[0m\u001b[37m\u001b[0m \u001b[1m0s\u001b[0m 247ms/step - accuracy: 0.9336 - auc: 0.8920 - f1_score: 0.3890 - loss: 0.0389 - precision: 0.6600 - recall: 0.3166  "
     ]
    },
    {
     "name": "stderr",
     "output_type": "stream",
     "text": [
      "2025-05-21 13:04:06 - INFO - \n",
      "=== Epoch 32 Summary ===\n",
      "2025-05-21 13:04:06 - INFO - Time: 214.52s\n",
      "2025-05-21 13:04:06 - INFO - Training   - accuracy: 0.9340 - auc: 0.8927 - f1_score: 0.3894 - loss: 0.0386 - precision: 0.6592 - recall: 0.3168 - learning_rate: 0.0000\n",
      "2025-05-21 13:04:06 - INFO - Validation - accuracy: 0.9332 - auc: 0.7627 - f1_score: 0.2200 - loss: 0.0637 - precision: 0.3318 - recall: 0.2039\n",
      "2025-05-21 13:04:06 - INFO - ==================================================\n",
      "\n"
     ]
    },
    {
     "name": "stdout",
     "output_type": "stream",
     "text": [
      "\u001b[1m813/813\u001b[0m \u001b[32m━━━━━━━━━━━━━━━━━━━━\u001b[0m\u001b[37m\u001b[0m \u001b[1m215s\u001b[0m 264ms/step - accuracy: 0.9336 - auc: 0.8920 - f1_score: 0.3890 - loss: 0.0389 - precision: 0.6600 - recall: 0.3166 - val_accuracy: 0.9332 - val_auc: 0.7627 - val_f1_score: 0.2200 - val_loss: 0.0637 - val_precision: 0.3318 - val_recall: 0.2039 - learning_rate: 1.2500e-05\n"
     ]
    },
    {
     "name": "stderr",
     "output_type": "stream",
     "text": [
      "2025-05-21 13:04:06 - INFO - \n",
      "=== Starting Epoch 33 ===\n",
      "\n"
     ]
    },
    {
     "name": "stdout",
     "output_type": "stream",
     "text": [
      "Epoch 33/100\n",
      "\u001b[1m813/813\u001b[0m \u001b[32m━━━━━━━━━━━━━━━━━━━━\u001b[0m\u001b[37m\u001b[0m \u001b[1m0s\u001b[0m 238ms/step - accuracy: 0.9342 - auc: 0.8951 - f1_score: 0.3974 - loss: 0.0382 - precision: 0.6561 - recall: 0.3250  "
     ]
    },
    {
     "name": "stderr",
     "output_type": "stream",
     "text": [
      "2025-05-21 13:07:29 - INFO - \n",
      "=== Epoch 33 Summary ===\n",
      "2025-05-21 13:07:29 - INFO - Time: 203.42s\n",
      "2025-05-21 13:07:29 - INFO - Training   - accuracy: 0.9347 - auc: 0.8965 - f1_score: 0.4007 - loss: 0.0379 - precision: 0.6625 - recall: 0.3274 - learning_rate: 0.0000\n",
      "2025-05-21 13:07:29 - INFO - Validation - accuracy: 0.9318 - auc: 0.7706 - f1_score: 0.1787 - loss: 0.0642 - precision: 0.2797 - recall: 0.1469\n",
      "2025-05-21 13:07:29 - INFO - ==================================================\n",
      "\n"
     ]
    },
    {
     "name": "stdout",
     "output_type": "stream",
     "text": [
      "\u001b[1m813/813\u001b[0m \u001b[32m━━━━━━━━━━━━━━━━━━━━\u001b[0m\u001b[37m\u001b[0m \u001b[1m203s\u001b[0m 250ms/step - accuracy: 0.9342 - auc: 0.8951 - f1_score: 0.3974 - loss: 0.0382 - precision: 0.6561 - recall: 0.3250 - val_accuracy: 0.9318 - val_auc: 0.7706 - val_f1_score: 0.1787 - val_loss: 0.0642 - val_precision: 0.2797 - val_recall: 0.1469 - learning_rate: 1.2500e-05\n"
     ]
    },
    {
     "name": "stderr",
     "output_type": "stream",
     "text": [
      "2025-05-21 13:07:29 - INFO - \n",
      "=== Starting Epoch 34 ===\n",
      "\n"
     ]
    },
    {
     "name": "stdout",
     "output_type": "stream",
     "text": [
      "Epoch 34/100\n",
      "\u001b[1m813/813\u001b[0m \u001b[32m━━━━━━━━━━━━━━━━━━━━\u001b[0m\u001b[37m\u001b[0m \u001b[1m0s\u001b[0m 247ms/step - accuracy: 0.9354 - auc: 0.9004 - f1_score: 0.4165 - loss: 0.0372 - precision: 0.6707 - recall: 0.3406  "
     ]
    },
    {
     "name": "stderr",
     "output_type": "stream",
     "text": [
      "2025-05-21 13:11:03 - INFO - \n",
      "=== Epoch 34 Summary ===\n",
      "2025-05-21 13:11:03 - INFO - Time: 213.83s\n",
      "2025-05-21 13:11:03 - INFO - Training   - accuracy: 0.9357 - auc: 0.9012 - f1_score: 0.4175 - loss: 0.0370 - precision: 0.6703 - recall: 0.3420 - learning_rate: 0.0000\n",
      "2025-05-21 13:11:03 - INFO - Validation - accuracy: 0.9332 - auc: 0.7602 - f1_score: 0.1861 - loss: 0.0715 - precision: 0.3237 - recall: 0.1893\n",
      "2025-05-21 13:11:03 - INFO - ==================================================\n",
      "\n"
     ]
    },
    {
     "name": "stdout",
     "output_type": "stream",
     "text": [
      "\u001b[1m813/813\u001b[0m \u001b[32m━━━━━━━━━━━━━━━━━━━━\u001b[0m\u001b[37m\u001b[0m \u001b[1m214s\u001b[0m 263ms/step - accuracy: 0.9354 - auc: 0.9004 - f1_score: 0.4165 - loss: 0.0372 - precision: 0.6707 - recall: 0.3406 - val_accuracy: 0.9332 - val_auc: 0.7602 - val_f1_score: 0.1861 - val_loss: 0.0715 - val_precision: 0.3237 - val_recall: 0.1893 - learning_rate: 1.2500e-05\n"
     ]
    },
    {
     "name": "stderr",
     "output_type": "stream",
     "text": [
      "2025-05-21 13:11:03 - INFO - \n",
      "=== Starting Epoch 35 ===\n",
      "\n"
     ]
    },
    {
     "name": "stdout",
     "output_type": "stream",
     "text": [
      "Epoch 35/100\n",
      "\u001b[1m813/813\u001b[0m \u001b[32m━━━━━━━━━━━━━━━━━━━━\u001b[0m\u001b[37m\u001b[0m \u001b[1m0s\u001b[0m 235ms/step - accuracy: 0.9364 - auc: 0.9040 - f1_score: 0.4296 - loss: 0.0366 - precision: 0.6763 - recall: 0.3523  \n",
      "Epoch 35: ReduceLROnPlateau reducing learning rate to 6.24999984211172e-06.\n"
     ]
    },
    {
     "name": "stderr",
     "output_type": "stream",
     "text": [
      "2025-05-21 13:14:24 - INFO - \n",
      "=== Epoch 35 Summary ===\n",
      "2025-05-21 13:14:24 - INFO - Time: 201.28s\n",
      "2025-05-21 13:14:24 - INFO - Training   - accuracy: 0.9366 - auc: 0.9053 - f1_score: 0.4311 - loss: 0.0363 - precision: 0.6775 - recall: 0.3542 - learning_rate: 0.0000\n",
      "2025-05-21 13:14:24 - INFO - Validation - accuracy: 0.9311 - auc: 0.7712 - f1_score: 0.1820 - loss: 0.0687 - precision: 0.2606 - recall: 0.1330\n",
      "2025-05-21 13:14:24 - INFO - ==================================================\n",
      "\n"
     ]
    },
    {
     "name": "stdout",
     "output_type": "stream",
     "text": [
      "\u001b[1m813/813\u001b[0m \u001b[32m━━━━━━━━━━━━━━━━━━━━\u001b[0m\u001b[37m\u001b[0m \u001b[1m201s\u001b[0m 248ms/step - accuracy: 0.9364 - auc: 0.9040 - f1_score: 0.4296 - loss: 0.0366 - precision: 0.6763 - recall: 0.3523 - val_accuracy: 0.9311 - val_auc: 0.7712 - val_f1_score: 0.1820 - val_loss: 0.0687 - val_precision: 0.2606 - val_recall: 0.1330 - learning_rate: 1.2500e-05\n"
     ]
    },
    {
     "name": "stderr",
     "output_type": "stream",
     "text": [
      "2025-05-21 13:14:24 - INFO - \n",
      "=== Starting Epoch 36 ===\n",
      "\n"
     ]
    },
    {
     "name": "stdout",
     "output_type": "stream",
     "text": [
      "Epoch 36/100\n",
      "\u001b[1m813/813\u001b[0m \u001b[32m━━━━━━━━━━━━━━━━━━━━\u001b[0m\u001b[37m\u001b[0m \u001b[1m0s\u001b[0m 247ms/step - accuracy: 0.9388 - auc: 0.9133 - f1_score: 0.4544 - loss: 0.0347 - precision: 0.6964 - recall: 0.3735  "
     ]
    },
    {
     "name": "stderr",
     "output_type": "stream",
     "text": [
      "2025-05-21 13:18:04 - INFO - \n",
      "=== Epoch 36 Summary ===\n",
      "2025-05-21 13:18:04 - INFO - Time: 219.81s\n",
      "2025-05-21 13:18:04 - INFO - Training   - accuracy: 0.9396 - auc: 0.9162 - f1_score: 0.4648 - loss: 0.0341 - precision: 0.7049 - recall: 0.3836 - learning_rate: 0.0000\n",
      "2025-05-21 13:18:04 - INFO - Validation - accuracy: 0.9324 - auc: 0.7704 - f1_score: 0.2277 - loss: 0.0652 - precision: 0.3292 - recall: 0.2125\n",
      "2025-05-21 13:18:04 - INFO - ==================================================\n",
      "\n"
     ]
    },
    {
     "name": "stdout",
     "output_type": "stream",
     "text": [
      "\u001b[1m813/813\u001b[0m \u001b[32m━━━━━━━━━━━━━━━━━━━━\u001b[0m\u001b[37m\u001b[0m \u001b[1m220s\u001b[0m 270ms/step - accuracy: 0.9388 - auc: 0.9133 - f1_score: 0.4545 - loss: 0.0347 - precision: 0.6964 - recall: 0.3735 - val_accuracy: 0.9324 - val_auc: 0.7704 - val_f1_score: 0.2277 - val_loss: 0.0652 - val_precision: 0.3292 - val_recall: 0.2125 - learning_rate: 6.2500e-06\n"
     ]
    },
    {
     "name": "stderr",
     "output_type": "stream",
     "text": [
      "2025-05-21 13:18:04 - INFO - \n",
      "=== Starting Epoch 37 ===\n",
      "\n"
     ]
    },
    {
     "name": "stdout",
     "output_type": "stream",
     "text": [
      "Epoch 37/100\n",
      "\u001b[1m813/813\u001b[0m \u001b[32m━━━━━━━━━━━━━━━━━━━━\u001b[0m\u001b[37m\u001b[0m \u001b[1m0s\u001b[0m 238ms/step - accuracy: 0.9402 - auc: 0.9195 - f1_score: 0.4791 - loss: 0.0335 - precision: 0.7086 - recall: 0.3966  "
     ]
    },
    {
     "name": "stderr",
     "output_type": "stream",
     "text": [
      "2025-05-21 13:21:28 - INFO - \n",
      "=== Epoch 37 Summary ===\n",
      "2025-05-21 13:21:28 - INFO - Time: 203.58s\n",
      "2025-05-21 13:21:28 - INFO - Training   - accuracy: 0.9408 - auc: 0.9217 - f1_score: 0.4843 - loss: 0.0330 - precision: 0.7117 - recall: 0.4023 - learning_rate: 0.0000\n",
      "2025-05-21 13:21:28 - INFO - Validation - accuracy: 0.9358 - auc: 0.7640 - f1_score: 0.1466 - loss: 0.0702 - precision: 0.2887 - recall: 0.1091\n",
      "2025-05-21 13:21:28 - INFO - ==================================================\n",
      "\n"
     ]
    },
    {
     "name": "stdout",
     "output_type": "stream",
     "text": [
      "\u001b[1m813/813\u001b[0m \u001b[32m━━━━━━━━━━━━━━━━━━━━\u001b[0m\u001b[37m\u001b[0m \u001b[1m204s\u001b[0m 250ms/step - accuracy: 0.9402 - auc: 0.9195 - f1_score: 0.4791 - loss: 0.0335 - precision: 0.7086 - recall: 0.3966 - val_accuracy: 0.9358 - val_auc: 0.7640 - val_f1_score: 0.1466 - val_loss: 0.0702 - val_precision: 0.2887 - val_recall: 0.1091 - learning_rate: 6.2500e-06\n"
     ]
    },
    {
     "name": "stderr",
     "output_type": "stream",
     "text": [
      "2025-05-21 13:21:28 - INFO - \n",
      "=== Starting Epoch 38 ===\n",
      "\n"
     ]
    },
    {
     "name": "stdout",
     "output_type": "stream",
     "text": [
      "Epoch 38/100\n",
      "\u001b[1m813/813\u001b[0m \u001b[32m━━━━━━━━━━━━━━━━━━━━\u001b[0m\u001b[37m\u001b[0m \u001b[1m0s\u001b[0m 246ms/step - accuracy: 0.9413 - auc: 0.9236 - f1_score: 0.4945 - loss: 0.0326 - precision: 0.7118 - recall: 0.4138  "
     ]
    },
    {
     "name": "stderr",
     "output_type": "stream",
     "text": [
      "2025-05-21 13:25:06 - INFO - \n",
      "=== Epoch 38 Summary ===\n",
      "2025-05-21 13:25:06 - INFO - Time: 217.83s\n",
      "2025-05-21 13:25:06 - INFO - Training   - accuracy: 0.9419 - auc: 0.9252 - f1_score: 0.4995 - loss: 0.0323 - precision: 0.7174 - recall: 0.4176 - learning_rate: 0.0000\n",
      "2025-05-21 13:25:06 - INFO - Validation - accuracy: 0.9359 - auc: 0.7684 - f1_score: 0.2254 - loss: 0.0667 - precision: 0.3484 - recall: 0.1814\n",
      "2025-05-21 13:25:06 - INFO - ==================================================\n",
      "\n"
     ]
    },
    {
     "name": "stdout",
     "output_type": "stream",
     "text": [
      "\u001b[1m813/813\u001b[0m \u001b[32m━━━━━━━━━━━━━━━━━━━━\u001b[0m\u001b[37m\u001b[0m \u001b[1m218s\u001b[0m 268ms/step - accuracy: 0.9413 - auc: 0.9236 - f1_score: 0.4945 - loss: 0.0326 - precision: 0.7118 - recall: 0.4138 - val_accuracy: 0.9359 - val_auc: 0.7684 - val_f1_score: 0.2254 - val_loss: 0.0667 - val_precision: 0.3484 - val_recall: 0.1814 - learning_rate: 6.2500e-06\n"
     ]
    },
    {
     "name": "stderr",
     "output_type": "stream",
     "text": [
      "2025-05-21 13:25:06 - INFO - \n",
      "=== Starting Epoch 39 ===\n",
      "\n"
     ]
    },
    {
     "name": "stdout",
     "output_type": "stream",
     "text": [
      "Epoch 39/100\n",
      "\u001b[1m813/813\u001b[0m \u001b[32m━━━━━━━━━━━━━━━━━━━━\u001b[0m\u001b[37m\u001b[0m \u001b[1m0s\u001b[0m 239ms/step - accuracy: 0.9422 - auc: 0.9268 - f1_score: 0.5095 - loss: 0.0321 - precision: 0.7187 - recall: 0.4276  "
     ]
    },
    {
     "name": "stderr",
     "output_type": "stream",
     "text": [
      "2025-05-21 13:28:30 - INFO - \n",
      "=== Epoch 39 Summary ===\n",
      "2025-05-21 13:28:30 - INFO - Time: 204.74s\n",
      "2025-05-21 13:28:30 - INFO - Training   - accuracy: 0.9427 - auc: 0.9281 - f1_score: 0.5122 - loss: 0.0317 - precision: 0.7209 - recall: 0.4306 - learning_rate: 0.0000\n",
      "2025-05-21 13:28:30 - INFO - Validation - accuracy: 0.9335 - auc: 0.7654 - f1_score: 0.2391 - loss: 0.0683 - precision: 0.3377 - recall: 0.2081\n",
      "2025-05-21 13:28:30 - INFO - ==================================================\n",
      "\n"
     ]
    },
    {
     "name": "stdout",
     "output_type": "stream",
     "text": [
      "\u001b[1m813/813\u001b[0m \u001b[32m━━━━━━━━━━━━━━━━━━━━\u001b[0m\u001b[37m\u001b[0m \u001b[1m205s\u001b[0m 252ms/step - accuracy: 0.9422 - auc: 0.9268 - f1_score: 0.5095 - loss: 0.0321 - precision: 0.7187 - recall: 0.4276 - val_accuracy: 0.9335 - val_auc: 0.7654 - val_f1_score: 0.2391 - val_loss: 0.0683 - val_precision: 0.3377 - val_recall: 0.2081 - learning_rate: 6.2500e-06\n"
     ]
    },
    {
     "name": "stderr",
     "output_type": "stream",
     "text": [
      "2025-05-21 13:28:30 - INFO - \n",
      "=== Starting Epoch 40 ===\n",
      "\n"
     ]
    },
    {
     "name": "stdout",
     "output_type": "stream",
     "text": [
      "Epoch 40/100\n",
      "\u001b[1m813/813\u001b[0m \u001b[32m━━━━━━━━━━━━━━━━━━━━\u001b[0m\u001b[37m\u001b[0m \u001b[1m0s\u001b[0m 246ms/step - accuracy: 0.9434 - auc: 0.9300 - f1_score: 0.5218 - loss: 0.0314 - precision: 0.7237 - recall: 0.4397  "
     ]
    },
    {
     "name": "stderr",
     "output_type": "stream",
     "text": [
      "2025-05-21 13:32:03 - INFO - \n",
      "=== Epoch 40 Summary ===\n",
      "2025-05-21 13:32:03 - INFO - Time: 212.99s\n",
      "2025-05-21 13:32:03 - INFO - Training   - accuracy: 0.9437 - auc: 0.9313 - f1_score: 0.5259 - loss: 0.0312 - precision: 0.7268 - recall: 0.4436 - learning_rate: 0.0000\n",
      "2025-05-21 13:32:03 - INFO - Validation - accuracy: 0.9251 - auc: 0.7594 - f1_score: 0.2066 - loss: 0.0712 - precision: 0.2551 - recall: 0.1839\n",
      "2025-05-21 13:32:03 - INFO - ==================================================\n",
      "\n"
     ]
    },
    {
     "name": "stdout",
     "output_type": "stream",
     "text": [
      "\u001b[1m813/813\u001b[0m \u001b[32m━━━━━━━━━━━━━━━━━━━━\u001b[0m\u001b[37m\u001b[0m \u001b[1m213s\u001b[0m 262ms/step - accuracy: 0.9434 - auc: 0.9300 - f1_score: 0.5218 - loss: 0.0314 - precision: 0.7237 - recall: 0.4397 - val_accuracy: 0.9251 - val_auc: 0.7594 - val_f1_score: 0.2066 - val_loss: 0.0712 - val_precision: 0.2551 - val_recall: 0.1839 - learning_rate: 6.2500e-06\n"
     ]
    },
    {
     "name": "stderr",
     "output_type": "stream",
     "text": [
      "2025-05-21 13:32:03 - INFO - \n",
      "=== Starting Epoch 41 ===\n",
      "\n"
     ]
    },
    {
     "name": "stdout",
     "output_type": "stream",
     "text": [
      "Epoch 41/100\n",
      "\u001b[1m813/813\u001b[0m \u001b[32m━━━━━━━━━━━━━━━━━━━━\u001b[0m\u001b[37m\u001b[0m \u001b[1m0s\u001b[0m 238ms/step - accuracy: 0.9440 - auc: 0.9333 - f1_score: 0.5310 - loss: 0.0309 - precision: 0.7271 - recall: 0.4507  "
     ]
    },
    {
     "name": "stderr",
     "output_type": "stream",
     "text": [
      "2025-05-21 13:35:27 - INFO - \n",
      "=== Epoch 41 Summary ===\n",
      "2025-05-21 13:35:27 - INFO - Time: 203.45s\n",
      "2025-05-21 13:35:27 - INFO - Training   - accuracy: 0.9445 - auc: 0.9338 - f1_score: 0.5345 - loss: 0.0307 - precision: 0.7305 - recall: 0.4531 - learning_rate: 0.0000\n",
      "2025-05-21 13:35:27 - INFO - Validation - accuracy: 0.9261 - auc: 0.7616 - f1_score: 0.2360 - loss: 0.0690 - precision: 0.2957 - recall: 0.2416\n",
      "2025-05-21 13:35:27 - INFO - ==================================================\n",
      "\n"
     ]
    },
    {
     "name": "stdout",
     "output_type": "stream",
     "text": [
      "\u001b[1m813/813\u001b[0m \u001b[32m━━━━━━━━━━━━━━━━━━━━\u001b[0m\u001b[37m\u001b[0m \u001b[1m203s\u001b[0m 250ms/step - accuracy: 0.9440 - auc: 0.9333 - f1_score: 0.5310 - loss: 0.0309 - precision: 0.7271 - recall: 0.4507 - val_accuracy: 0.9261 - val_auc: 0.7616 - val_f1_score: 0.2360 - val_loss: 0.0690 - val_precision: 0.2957 - val_recall: 0.2416 - learning_rate: 6.2500e-06\n"
     ]
    },
    {
     "name": "stderr",
     "output_type": "stream",
     "text": [
      "2025-05-21 13:35:27 - INFO - \n",
      "=== Starting Epoch 42 ===\n",
      "\n"
     ]
    },
    {
     "name": "stdout",
     "output_type": "stream",
     "text": [
      "Epoch 42/100\n",
      "\u001b[1m813/813\u001b[0m \u001b[32m━━━━━━━━━━━━━━━━━━━━\u001b[0m\u001b[37m\u001b[0m \u001b[1m0s\u001b[0m 247ms/step - accuracy: 0.9446 - auc: 0.9355 - f1_score: 0.5424 - loss: 0.0305 - precision: 0.7348 - recall: 0.4598  \n",
      "Epoch 42: ReduceLROnPlateau reducing learning rate to 3.12499992105586e-06.\n"
     ]
    },
    {
     "name": "stderr",
     "output_type": "stream",
     "text": [
      "2025-05-21 13:39:01 - INFO - \n",
      "=== Epoch 42 Summary ===\n",
      "2025-05-21 13:39:01 - INFO - Time: 214.03s\n",
      "2025-05-21 13:39:01 - INFO - Training   - accuracy: 0.9454 - auc: 0.9366 - f1_score: 0.5467 - loss: 0.0301 - precision: 0.7381 - recall: 0.4642 - learning_rate: 0.0000\n",
      "2025-05-21 13:39:01 - INFO - Validation - accuracy: 0.9328 - auc: 0.7648 - f1_score: 0.2260 - loss: 0.0701 - precision: 0.3187 - recall: 0.1876\n",
      "2025-05-21 13:39:01 - INFO - ==================================================\n",
      "\n"
     ]
    },
    {
     "name": "stdout",
     "output_type": "stream",
     "text": [
      "\u001b[1m813/813\u001b[0m \u001b[32m━━━━━━━━━━━━━━━━━━━━\u001b[0m\u001b[37m\u001b[0m \u001b[1m214s\u001b[0m 263ms/step - accuracy: 0.9446 - auc: 0.9355 - f1_score: 0.5424 - loss: 0.0305 - precision: 0.7348 - recall: 0.4598 - val_accuracy: 0.9328 - val_auc: 0.7648 - val_f1_score: 0.2260 - val_loss: 0.0701 - val_precision: 0.3187 - val_recall: 0.1876 - learning_rate: 6.2500e-06\n"
     ]
    },
    {
     "name": "stderr",
     "output_type": "stream",
     "text": [
      "2025-05-21 13:39:01 - INFO - \n",
      "=== Starting Epoch 43 ===\n",
      "\n"
     ]
    },
    {
     "name": "stdout",
     "output_type": "stream",
     "text": [
      "Epoch 43/100\n",
      "\u001b[1m813/813\u001b[0m \u001b[32m━━━━━━━━━━━━━━━━━━━━\u001b[0m\u001b[37m\u001b[0m \u001b[1m0s\u001b[0m 235ms/step - accuracy: 0.9470 - auc: 0.9404 - f1_score: 0.5629 - loss: 0.0292 - precision: 0.7487 - recall: 0.4808  "
     ]
    },
    {
     "name": "stderr",
     "output_type": "stream",
     "text": [
      "2025-05-21 13:42:22 - INFO - \n",
      "=== Epoch 43 Summary ===\n",
      "2025-05-21 13:42:22 - INFO - Time: 201.29s\n",
      "2025-05-21 13:42:22 - INFO - Training   - accuracy: 0.9475 - auc: 0.9422 - f1_score: 0.5676 - loss: 0.0289 - precision: 0.7510 - recall: 0.4859 - learning_rate: 0.0000\n",
      "2025-05-21 13:42:22 - INFO - Validation - accuracy: 0.9329 - auc: 0.7642 - f1_score: 0.2386 - loss: 0.0676 - precision: 0.3375 - recall: 0.2200\n",
      "2025-05-21 13:42:22 - INFO - ==================================================\n",
      "\n"
     ]
    },
    {
     "name": "stdout",
     "output_type": "stream",
     "text": [
      "\u001b[1m813/813\u001b[0m \u001b[32m━━━━━━━━━━━━━━━━━━━━\u001b[0m\u001b[37m\u001b[0m \u001b[1m201s\u001b[0m 248ms/step - accuracy: 0.9470 - auc: 0.9404 - f1_score: 0.5629 - loss: 0.0292 - precision: 0.7487 - recall: 0.4808 - val_accuracy: 0.9329 - val_auc: 0.7642 - val_f1_score: 0.2386 - val_loss: 0.0676 - val_precision: 0.3375 - val_recall: 0.2200 - learning_rate: 3.1250e-06\n"
     ]
    },
    {
     "name": "stderr",
     "output_type": "stream",
     "text": [
      "2025-05-21 13:42:22 - INFO - \n",
      "=== Starting Epoch 44 ===\n",
      "\n"
     ]
    },
    {
     "name": "stdout",
     "output_type": "stream",
     "text": [
      "Epoch 44/100\n",
      "\u001b[1m813/813\u001b[0m \u001b[32m━━━━━━━━━━━━━━━━━━━━\u001b[0m\u001b[37m\u001b[0m \u001b[1m0s\u001b[0m 247ms/step - accuracy: 0.9484 - auc: 0.9441 - f1_score: 0.5775 - loss: 0.0283 - precision: 0.7581 - recall: 0.4948  "
     ]
    },
    {
     "name": "stderr",
     "output_type": "stream",
     "text": [
      "2025-05-21 13:45:57 - INFO - \n",
      "=== Epoch 44 Summary ===\n",
      "2025-05-21 13:45:57 - INFO - Time: 214.41s\n",
      "2025-05-21 13:45:57 - INFO - Training   - accuracy: 0.9487 - auc: 0.9452 - f1_score: 0.5802 - loss: 0.0282 - precision: 0.7603 - recall: 0.4975 - learning_rate: 0.0000\n",
      "2025-05-21 13:45:57 - INFO - Validation - accuracy: 0.9335 - auc: 0.7631 - f1_score: 0.2167 - loss: 0.0707 - precision: 0.3223 - recall: 0.1813\n",
      "2025-05-21 13:45:57 - INFO - ==================================================\n",
      "\n"
     ]
    },
    {
     "name": "stdout",
     "output_type": "stream",
     "text": [
      "\u001b[1m813/813\u001b[0m \u001b[32m━━━━━━━━━━━━━━━━━━━━\u001b[0m\u001b[37m\u001b[0m \u001b[1m214s\u001b[0m 264ms/step - accuracy: 0.9484 - auc: 0.9441 - f1_score: 0.5775 - loss: 0.0283 - precision: 0.7582 - recall: 0.4948 - val_accuracy: 0.9335 - val_auc: 0.7631 - val_f1_score: 0.2167 - val_loss: 0.0707 - val_precision: 0.3223 - val_recall: 0.1813 - learning_rate: 3.1250e-06\n"
     ]
    },
    {
     "name": "stderr",
     "output_type": "stream",
     "text": [
      "2025-05-21 13:45:57 - INFO - \n",
      "=== Starting Epoch 45 ===\n",
      "\n"
     ]
    },
    {
     "name": "stdout",
     "output_type": "stream",
     "text": [
      "Epoch 45/100\n",
      "\u001b[1m813/813\u001b[0m \u001b[32m━━━━━━━━━━━━━━━━━━━━\u001b[0m\u001b[37m\u001b[0m \u001b[1m0s\u001b[0m 236ms/step - accuracy: 0.9491 - auc: 0.9462 - f1_score: 0.5859 - loss: 0.0281 - precision: 0.7603 - recall: 0.5050  \n",
      "Epoch 45: ReduceLROnPlateau reducing learning rate to 1.56249996052793e-06.\n"
     ]
    },
    {
     "name": "stderr",
     "output_type": "stream",
     "text": [
      "2025-05-21 13:49:19 - INFO - \n",
      "=== Epoch 45 Summary ===\n",
      "2025-05-21 13:49:19 - INFO - Time: 202.32s\n",
      "2025-05-21 13:49:19 - INFO - Training   - accuracy: 0.9494 - auc: 0.9470 - f1_score: 0.5881 - loss: 0.0279 - precision: 0.7624 - recall: 0.5069 - learning_rate: 0.0000\n",
      "2025-05-21 13:49:19 - INFO - Validation - accuracy: 0.9331 - auc: 0.7592 - f1_score: 0.2036 - loss: 0.0713 - precision: 0.3180 - recall: 0.1814\n",
      "2025-05-21 13:49:19 - INFO - ==================================================\n",
      "\n"
     ]
    },
    {
     "name": "stdout",
     "output_type": "stream",
     "text": [
      "\u001b[1m813/813\u001b[0m \u001b[32m━━━━━━━━━━━━━━━━━━━━\u001b[0m\u001b[37m\u001b[0m \u001b[1m202s\u001b[0m 249ms/step - accuracy: 0.9491 - auc: 0.9462 - f1_score: 0.5859 - loss: 0.0281 - precision: 0.7603 - recall: 0.5050 - val_accuracy: 0.9331 - val_auc: 0.7592 - val_f1_score: 0.2036 - val_loss: 0.0713 - val_precision: 0.3180 - val_recall: 0.1814 - learning_rate: 3.1250e-06\n"
     ]
    },
    {
     "name": "stderr",
     "output_type": "stream",
     "text": [
      "2025-05-21 13:49:19 - INFO - \n",
      "=== Starting Epoch 46 ===\n",
      "\n"
     ]
    },
    {
     "name": "stdout",
     "output_type": "stream",
     "text": [
      "Epoch 46/100\n",
      "\u001b[1m813/813\u001b[0m \u001b[32m━━━━━━━━━━━━━━━━━━━━\u001b[0m\u001b[37m\u001b[0m \u001b[1m0s\u001b[0m 247ms/step - accuracy: 0.9501 - auc: 0.9491 - f1_score: 0.5991 - loss: 0.0276 - precision: 0.7693 - recall: 0.5176  "
     ]
    },
    {
     "name": "stderr",
     "output_type": "stream",
     "text": [
      "2025-05-21 13:52:57 - INFO - \n",
      "=== Epoch 46 Summary ===\n",
      "2025-05-21 13:52:57 - INFO - Time: 217.66s\n",
      "2025-05-21 13:52:57 - INFO - Training   - accuracy: 0.9506 - auc: 0.9497 - f1_score: 0.6015 - loss: 0.0272 - precision: 0.7712 - recall: 0.5202 - learning_rate: 0.0000\n",
      "2025-05-21 13:52:57 - INFO - Validation - accuracy: 0.9329 - auc: 0.7642 - f1_score: 0.2462 - loss: 0.0689 - precision: 0.3376 - recall: 0.2203\n",
      "2025-05-21 13:52:57 - INFO - ==================================================\n",
      "\n"
     ]
    },
    {
     "name": "stdout",
     "output_type": "stream",
     "text": [
      "\u001b[1m813/813\u001b[0m \u001b[32m━━━━━━━━━━━━━━━━━━━━\u001b[0m\u001b[37m\u001b[0m \u001b[1m218s\u001b[0m 268ms/step - accuracy: 0.9501 - auc: 0.9491 - f1_score: 0.5991 - loss: 0.0276 - precision: 0.7693 - recall: 0.5176 - val_accuracy: 0.9329 - val_auc: 0.7642 - val_f1_score: 0.2462 - val_loss: 0.0689 - val_precision: 0.3376 - val_recall: 0.2203 - learning_rate: 1.5625e-06\n"
     ]
    },
    {
     "name": "stderr",
     "output_type": "stream",
     "text": [
      "2025-05-21 13:52:57 - INFO - \n",
      "=== Starting Epoch 47 ===\n",
      "\n"
     ]
    },
    {
     "name": "stdout",
     "output_type": "stream",
     "text": [
      "Epoch 47/100\n",
      "\u001b[1m813/813\u001b[0m \u001b[32m━━━━━━━━━━━━━━━━━━━━\u001b[0m\u001b[37m\u001b[0m \u001b[1m0s\u001b[0m 237ms/step - accuracy: 0.9508 - auc: 0.9499 - f1_score: 0.6048 - loss: 0.0272 - precision: 0.7724 - recall: 0.5231  "
     ]
    },
    {
     "name": "stderr",
     "output_type": "stream",
     "text": [
      "2025-05-21 13:56:19 - INFO - \n",
      "=== Epoch 47 Summary ===\n",
      "2025-05-21 13:56:19 - INFO - Time: 202.76s\n",
      "2025-05-21 13:56:19 - INFO - Training   - accuracy: 0.9512 - auc: 0.9504 - f1_score: 0.6072 - loss: 0.0270 - precision: 0.7740 - recall: 0.5260 - learning_rate: 0.0000\n",
      "2025-05-21 13:56:19 - INFO - Validation - accuracy: 0.9311 - auc: 0.7624 - f1_score: 0.2411 - loss: 0.0707 - precision: 0.3301 - recall: 0.2370\n",
      "2025-05-21 13:56:19 - INFO - ==================================================\n",
      "\n"
     ]
    },
    {
     "name": "stdout",
     "output_type": "stream",
     "text": [
      "\u001b[1m813/813\u001b[0m \u001b[32m━━━━━━━━━━━━━━━━━━━━\u001b[0m\u001b[37m\u001b[0m \u001b[1m203s\u001b[0m 249ms/step - accuracy: 0.9508 - auc: 0.9499 - f1_score: 0.6048 - loss: 0.0272 - precision: 0.7724 - recall: 0.5231 - val_accuracy: 0.9311 - val_auc: 0.7624 - val_f1_score: 0.2411 - val_loss: 0.0707 - val_precision: 0.3301 - val_recall: 0.2370 - learning_rate: 1.5625e-06\n"
     ]
    },
    {
     "name": "stderr",
     "output_type": "stream",
     "text": [
      "2025-05-21 13:56:19 - INFO - \n",
      "=== Starting Epoch 48 ===\n",
      "\n"
     ]
    },
    {
     "name": "stdout",
     "output_type": "stream",
     "text": [
      "Epoch 48/100\n",
      "\u001b[1m813/813\u001b[0m \u001b[32m━━━━━━━━━━━━━━━━━━━━\u001b[0m\u001b[37m\u001b[0m \u001b[1m0s\u001b[0m 248ms/step - accuracy: 0.9511 - auc: 0.9513 - f1_score: 0.6074 - loss: 0.0269 - precision: 0.7753 - recall: 0.5263  "
     ]
    },
    {
     "name": "stderr",
     "output_type": "stream",
     "text": [
      "2025-05-21 13:59:55 - INFO - \n",
      "=== Epoch 48 Summary ===\n",
      "2025-05-21 13:59:55 - INFO - Time: 215.52s\n",
      "2025-05-21 13:59:55 - INFO - Training   - accuracy: 0.9516 - auc: 0.9520 - f1_score: 0.6114 - loss: 0.0267 - precision: 0.7769 - recall: 0.5304 - learning_rate: 0.0000\n",
      "2025-05-21 13:59:55 - INFO - Validation - accuracy: 0.9299 - auc: 0.7618 - f1_score: 0.2534 - loss: 0.0683 - precision: 0.3176 - recall: 0.2320\n",
      "2025-05-21 13:59:55 - INFO - ==================================================\n",
      "\n"
     ]
    },
    {
     "name": "stdout",
     "output_type": "stream",
     "text": [
      "\u001b[1m813/813\u001b[0m \u001b[32m━━━━━━━━━━━━━━━━━━━━\u001b[0m\u001b[37m\u001b[0m \u001b[1m216s\u001b[0m 265ms/step - accuracy: 0.9511 - auc: 0.9513 - f1_score: 0.6074 - loss: 0.0269 - precision: 0.7753 - recall: 0.5263 - val_accuracy: 0.9299 - val_auc: 0.7618 - val_f1_score: 0.2534 - val_loss: 0.0683 - val_precision: 0.3176 - val_recall: 0.2320 - learning_rate: 1.5625e-06\n"
     ]
    },
    {
     "name": "stderr",
     "output_type": "stream",
     "text": [
      "2025-05-21 13:59:55 - INFO - \n",
      "=== Starting Epoch 49 ===\n",
      "\n"
     ]
    },
    {
     "name": "stdout",
     "output_type": "stream",
     "text": [
      "Epoch 49/100\n",
      "\u001b[1m813/813\u001b[0m \u001b[32m━━━━━━━━━━━━━━━━━━━━\u001b[0m\u001b[37m\u001b[0m \u001b[1m0s\u001b[0m 238ms/step - accuracy: 0.9519 - auc: 0.9520 - f1_score: 0.6162 - loss: 0.0268 - precision: 0.7786 - recall: 0.5353  "
     ]
    },
    {
     "name": "stderr",
     "output_type": "stream",
     "text": [
      "2025-05-21 14:03:18 - INFO - \n",
      "=== Epoch 49 Summary ===\n",
      "2025-05-21 14:03:18 - INFO - Time: 203.25s\n",
      "2025-05-21 14:03:18 - INFO - Training   - accuracy: 0.9520 - auc: 0.9526 - f1_score: 0.6170 - loss: 0.0266 - precision: 0.7780 - recall: 0.5369 - learning_rate: 0.0000\n",
      "2025-05-21 14:03:18 - INFO - Validation - accuracy: 0.9348 - auc: 0.7625 - f1_score: 0.2290 - loss: 0.0705 - precision: 0.3443 - recall: 0.1962\n",
      "2025-05-21 14:03:18 - INFO - ==================================================\n",
      "\n"
     ]
    },
    {
     "name": "stdout",
     "output_type": "stream",
     "text": [
      "\u001b[1m813/813\u001b[0m \u001b[32m━━━━━━━━━━━━━━━━━━━━\u001b[0m\u001b[37m\u001b[0m \u001b[1m203s\u001b[0m 250ms/step - accuracy: 0.9519 - auc: 0.9520 - f1_score: 0.6162 - loss: 0.0268 - precision: 0.7786 - recall: 0.5353 - val_accuracy: 0.9348 - val_auc: 0.7625 - val_f1_score: 0.2290 - val_loss: 0.0705 - val_precision: 0.3443 - val_recall: 0.1962 - learning_rate: 1.5625e-06\n"
     ]
    },
    {
     "name": "stderr",
     "output_type": "stream",
     "text": [
      "2025-05-21 14:03:18 - INFO - \n",
      "=== Starting Epoch 50 ===\n",
      "\n"
     ]
    },
    {
     "name": "stdout",
     "output_type": "stream",
     "text": [
      "Epoch 50/100\n",
      "\u001b[1m813/813\u001b[0m \u001b[32m━━━━━━━━━━━━━━━━━━━━\u001b[0m\u001b[37m\u001b[0m \u001b[1m0s\u001b[0m 248ms/step - accuracy: 0.9521 - auc: 0.9525 - f1_score: 0.6183 - loss: 0.0264 - precision: 0.7794 - recall: 0.5379  "
     ]
    },
    {
     "name": "stderr",
     "output_type": "stream",
     "text": [
      "2025-05-21 14:06:53 - INFO - \n",
      "=== Epoch 50 Summary ===\n",
      "2025-05-21 14:06:53 - INFO - Time: 215.25s\n",
      "2025-05-21 14:06:53 - INFO - Training   - accuracy: 0.9524 - auc: 0.9530 - f1_score: 0.6205 - loss: 0.0263 - precision: 0.7807 - recall: 0.5405 - learning_rate: 0.0000\n",
      "2025-05-21 14:06:53 - INFO - Validation - accuracy: 0.9349 - auc: 0.7602 - f1_score: 0.2331 - loss: 0.0709 - precision: 0.3451 - recall: 0.1951\n",
      "2025-05-21 14:06:53 - INFO - ==================================================\n",
      "\n"
     ]
    },
    {
     "name": "stdout",
     "output_type": "stream",
     "text": [
      "\u001b[1m813/813\u001b[0m \u001b[32m━━━━━━━━━━━━━━━━━━━━\u001b[0m\u001b[37m\u001b[0m \u001b[1m215s\u001b[0m 265ms/step - accuracy: 0.9521 - auc: 0.9525 - f1_score: 0.6183 - loss: 0.0264 - precision: 0.7794 - recall: 0.5379 - val_accuracy: 0.9349 - val_auc: 0.7602 - val_f1_score: 0.2331 - val_loss: 0.0709 - val_precision: 0.3451 - val_recall: 0.1951 - learning_rate: 1.5625e-06\n"
     ]
    },
    {
     "name": "stderr",
     "output_type": "stream",
     "text": [
      "2025-05-21 14:06:53 - INFO - \n",
      "=== Starting Epoch 51 ===\n",
      "\n"
     ]
    },
    {
     "name": "stdout",
     "output_type": "stream",
     "text": [
      "Epoch 51/100\n",
      "\u001b[1m813/813\u001b[0m \u001b[32m━━━━━━━━━━━━━━━━━━━━\u001b[0m\u001b[37m\u001b[0m \u001b[1m0s\u001b[0m 238ms/step - accuracy: 0.9524 - auc: 0.9543 - f1_score: 0.6213 - loss: 0.0263 - precision: 0.7814 - recall: 0.5410  \n",
      "Epoch 51: ReduceLROnPlateau reducing learning rate to 1e-06.\n"
     ]
    },
    {
     "name": "stderr",
     "output_type": "stream",
     "text": [
      "2025-05-21 14:10:17 - INFO - \n",
      "=== Epoch 51 Summary ===\n",
      "2025-05-21 14:10:17 - INFO - Time: 203.55s\n",
      "2025-05-21 14:10:17 - INFO - Training   - accuracy: 0.9528 - auc: 0.9547 - f1_score: 0.6243 - loss: 0.0261 - precision: 0.7833 - recall: 0.5445 - learning_rate: 0.0000\n",
      "2025-05-21 14:10:17 - INFO - Validation - accuracy: 0.9323 - auc: 0.7605 - f1_score: 0.2426 - loss: 0.0701 - precision: 0.3243 - recall: 0.2051\n",
      "2025-05-21 14:10:17 - INFO - ==================================================\n",
      "\n"
     ]
    },
    {
     "name": "stdout",
     "output_type": "stream",
     "text": [
      "\u001b[1m813/813\u001b[0m \u001b[32m━━━━━━━━━━━━━━━━━━━━\u001b[0m\u001b[37m\u001b[0m \u001b[1m204s\u001b[0m 250ms/step - accuracy: 0.9524 - auc: 0.9543 - f1_score: 0.6213 - loss: 0.0263 - precision: 0.7814 - recall: 0.5410 - val_accuracy: 0.9323 - val_auc: 0.7605 - val_f1_score: 0.2426 - val_loss: 0.0701 - val_precision: 0.3243 - val_recall: 0.2051 - learning_rate: 1.5625e-06\n"
     ]
    },
    {
     "name": "stderr",
     "output_type": "stream",
     "text": [
      "2025-05-21 14:10:17 - INFO - \n",
      "=== Starting Epoch 52 ===\n",
      "\n"
     ]
    },
    {
     "name": "stdout",
     "output_type": "stream",
     "text": [
      "Epoch 52/100\n",
      "\u001b[1m813/813\u001b[0m \u001b[32m━━━━━━━━━━━━━━━━━━━━\u001b[0m\u001b[37m\u001b[0m \u001b[1m0s\u001b[0m 248ms/step - accuracy: 0.9532 - auc: 0.9550 - f1_score: 0.6270 - loss: 0.0259 - precision: 0.7867 - recall: 0.5458  "
     ]
    },
    {
     "name": "stderr",
     "output_type": "stream",
     "text": [
      "2025-05-21 14:13:53 - INFO - \n",
      "=== Epoch 52 Summary ===\n",
      "2025-05-21 14:13:53 - INFO - Time: 215.79s\n",
      "2025-05-21 14:13:53 - INFO - Training   - accuracy: 0.9535 - auc: 0.9557 - f1_score: 0.6311 - loss: 0.0258 - precision: 0.7861 - recall: 0.5520 - learning_rate: 0.0000\n",
      "2025-05-21 14:13:53 - INFO - Validation - accuracy: 0.9319 - auc: 0.7619 - f1_score: 0.2574 - loss: 0.0713 - precision: 0.3375 - recall: 0.2390\n",
      "2025-05-21 14:13:53 - INFO - ==================================================\n",
      "\n"
     ]
    },
    {
     "name": "stdout",
     "output_type": "stream",
     "text": [
      "\u001b[1m813/813\u001b[0m \u001b[32m━━━━━━━━━━━━━━━━━━━━\u001b[0m\u001b[37m\u001b[0m \u001b[1m216s\u001b[0m 266ms/step - accuracy: 0.9532 - auc: 0.9550 - f1_score: 0.6270 - loss: 0.0259 - precision: 0.7867 - recall: 0.5458 - val_accuracy: 0.9319 - val_auc: 0.7619 - val_f1_score: 0.2574 - val_loss: 0.0713 - val_precision: 0.3375 - val_recall: 0.2390 - learning_rate: 1.0000e-06\n"
     ]
    },
    {
     "name": "stderr",
     "output_type": "stream",
     "text": [
      "2025-05-21 14:13:53 - INFO - \n",
      "=== Starting Epoch 53 ===\n",
      "\n"
     ]
    },
    {
     "name": "stdout",
     "output_type": "stream",
     "text": [
      "Epoch 53/100\n",
      "\u001b[1m813/813\u001b[0m \u001b[32m━━━━━━━━━━━━━━━━━━━━\u001b[0m\u001b[37m\u001b[0m \u001b[1m0s\u001b[0m 238ms/step - accuracy: 0.9533 - auc: 0.9558 - f1_score: 0.6301 - loss: 0.0258 - precision: 0.7872 - recall: 0.5503  "
     ]
    },
    {
     "name": "stderr",
     "output_type": "stream",
     "text": [
      "2025-05-21 14:17:16 - INFO - \n",
      "=== Epoch 53 Summary ===\n",
      "2025-05-21 14:17:16 - INFO - Time: 203.47s\n",
      "2025-05-21 14:17:16 - INFO - Training   - accuracy: 0.9535 - auc: 0.9562 - f1_score: 0.6322 - loss: 0.0258 - precision: 0.7861 - recall: 0.5537 - learning_rate: 0.0000\n",
      "2025-05-21 14:17:16 - INFO - Validation - accuracy: 0.9332 - auc: 0.7618 - f1_score: 0.2382 - loss: 0.0702 - precision: 0.3348 - recall: 0.2090\n",
      "2025-05-21 14:17:16 - INFO - ==================================================\n",
      "\n"
     ]
    },
    {
     "name": "stdout",
     "output_type": "stream",
     "text": [
      "\u001b[1m813/813\u001b[0m \u001b[32m━━━━━━━━━━━━━━━━━━━━\u001b[0m\u001b[37m\u001b[0m \u001b[1m203s\u001b[0m 250ms/step - accuracy: 0.9533 - auc: 0.9558 - f1_score: 0.6301 - loss: 0.0258 - precision: 0.7872 - recall: 0.5503 - val_accuracy: 0.9332 - val_auc: 0.7618 - val_f1_score: 0.2382 - val_loss: 0.0702 - val_precision: 0.3348 - val_recall: 0.2090 - learning_rate: 1.0000e-06\n"
     ]
    },
    {
     "name": "stderr",
     "output_type": "stream",
     "text": [
      "2025-05-21 14:17:16 - INFO - \n",
      "=== Starting Epoch 54 ===\n",
      "\n"
     ]
    },
    {
     "name": "stdout",
     "output_type": "stream",
     "text": [
      "Epoch 54/100\n",
      "\u001b[1m813/813\u001b[0m \u001b[32m━━━━━━━━━━━━━━━━━━━━\u001b[0m\u001b[37m\u001b[0m \u001b[1m0s\u001b[0m 248ms/step - accuracy: 0.9536 - auc: 0.9560 - f1_score: 0.6338 - loss: 0.0257 - precision: 0.7874 - recall: 0.5551  "
     ]
    },
    {
     "name": "stderr",
     "output_type": "stream",
     "text": [
      "2025-05-21 14:20:51 - INFO - \n",
      "=== Epoch 54 Summary ===\n",
      "2025-05-21 14:20:51 - INFO - Time: 215.00s\n",
      "2025-05-21 14:20:51 - INFO - Training   - accuracy: 0.9540 - auc: 0.9565 - f1_score: 0.6361 - loss: 0.0256 - precision: 0.7890 - recall: 0.5572 - learning_rate: 0.0000\n",
      "2025-05-21 14:20:51 - INFO - Validation - accuracy: 0.9323 - auc: 0.7605 - f1_score: 0.2495 - loss: 0.0702 - precision: 0.3330 - recall: 0.2211\n",
      "2025-05-21 14:20:51 - INFO - ==================================================\n",
      "\n"
     ]
    },
    {
     "name": "stdout",
     "output_type": "stream",
     "text": [
      "\u001b[1m813/813\u001b[0m \u001b[32m━━━━━━━━━━━━━━━━━━━━\u001b[0m\u001b[37m\u001b[0m \u001b[1m215s\u001b[0m 265ms/step - accuracy: 0.9536 - auc: 0.9560 - f1_score: 0.6338 - loss: 0.0257 - precision: 0.7874 - recall: 0.5551 - val_accuracy: 0.9323 - val_auc: 0.7605 - val_f1_score: 0.2495 - val_loss: 0.0702 - val_precision: 0.3330 - val_recall: 0.2211 - learning_rate: 1.0000e-06\n"
     ]
    },
    {
     "name": "stderr",
     "output_type": "stream",
     "text": [
      "2025-05-21 14:20:51 - INFO - \n",
      "=== Starting Epoch 55 ===\n",
      "\n"
     ]
    },
    {
     "name": "stdout",
     "output_type": "stream",
     "text": [
      "Epoch 55/100\n",
      "\u001b[1m813/813\u001b[0m \u001b[32m━━━━━━━━━━━━━━━━━━━━\u001b[0m\u001b[37m\u001b[0m \u001b[1m0s\u001b[0m 238ms/step - accuracy: 0.9538 - auc: 0.9568 - f1_score: 0.6368 - loss: 0.0257 - precision: 0.7892 - recall: 0.5579  "
     ]
    },
    {
     "name": "stderr",
     "output_type": "stream",
     "text": [
      "2025-05-21 14:24:15 - INFO - \n",
      "=== Epoch 55 Summary ===\n",
      "2025-05-21 14:24:15 - INFO - Time: 203.56s\n",
      "2025-05-21 14:24:15 - INFO - Training   - accuracy: 0.9541 - auc: 0.9575 - f1_score: 0.6388 - loss: 0.0255 - precision: 0.7893 - recall: 0.5605 - learning_rate: 0.0000\n",
      "2025-05-21 14:24:15 - INFO - Validation - accuracy: 0.9326 - auc: 0.7622 - f1_score: 0.2403 - loss: 0.0711 - precision: 0.3297 - recall: 0.2102\n",
      "2025-05-21 14:24:15 - INFO - ==================================================\n",
      "\n"
     ]
    },
    {
     "name": "stdout",
     "output_type": "stream",
     "text": [
      "\u001b[1m813/813\u001b[0m \u001b[32m━━━━━━━━━━━━━━━━━━━━\u001b[0m\u001b[37m\u001b[0m \u001b[1m204s\u001b[0m 250ms/step - accuracy: 0.9538 - auc: 0.9568 - f1_score: 0.6368 - loss: 0.0257 - precision: 0.7892 - recall: 0.5579 - val_accuracy: 0.9326 - val_auc: 0.7622 - val_f1_score: 0.2403 - val_loss: 0.0711 - val_precision: 0.3297 - val_recall: 0.2102 - learning_rate: 1.0000e-06\n"
     ]
    },
    {
     "name": "stderr",
     "output_type": "stream",
     "text": [
      "2025-05-21 14:24:15 - INFO - \n",
      "=== Starting Epoch 56 ===\n",
      "\n"
     ]
    },
    {
     "name": "stdout",
     "output_type": "stream",
     "text": [
      "Epoch 56/100\n",
      "\u001b[1m813/813\u001b[0m \u001b[32m━━━━━━━━━━━━━━━━━━━━\u001b[0m\u001b[37m\u001b[0m \u001b[1m0s\u001b[0m 249ms/step - accuracy: 0.9541 - auc: 0.9576 - f1_score: 0.6401 - loss: 0.0254 - precision: 0.7898 - recall: 0.5609  "
     ]
    },
    {
     "name": "stderr",
     "output_type": "stream",
     "text": [
      "2025-05-21 14:27:51 - INFO - \n",
      "=== Epoch 56 Summary ===\n",
      "2025-05-21 14:27:51 - INFO - Time: 216.41s\n",
      "2025-05-21 14:27:51 - INFO - Training   - accuracy: 0.9545 - auc: 0.9580 - f1_score: 0.6420 - loss: 0.0253 - precision: 0.7900 - recall: 0.5640 - learning_rate: 0.0000\n",
      "2025-05-21 14:27:51 - INFO - Validation - accuracy: 0.9307 - auc: 0.7603 - f1_score: 0.2617 - loss: 0.0708 - precision: 0.3291 - recall: 0.2416\n",
      "2025-05-21 14:27:51 - INFO - ==================================================\n",
      "\n"
     ]
    },
    {
     "name": "stdout",
     "output_type": "stream",
     "text": [
      "\u001b[1m813/813\u001b[0m \u001b[32m━━━━━━━━━━━━━━━━━━━━\u001b[0m\u001b[37m\u001b[0m \u001b[1m216s\u001b[0m 266ms/step - accuracy: 0.9541 - auc: 0.9576 - f1_score: 0.6401 - loss: 0.0254 - precision: 0.7898 - recall: 0.5609 - val_accuracy: 0.9307 - val_auc: 0.7603 - val_f1_score: 0.2617 - val_loss: 0.0708 - val_precision: 0.3291 - val_recall: 0.2416 - learning_rate: 1.0000e-06\n"
     ]
    },
    {
     "name": "stderr",
     "output_type": "stream",
     "text": [
      "2025-05-21 14:27:51 - INFO - \n",
      "=== Starting Epoch 57 ===\n",
      "\n"
     ]
    },
    {
     "name": "stdout",
     "output_type": "stream",
     "text": [
      "Epoch 57/100\n",
      "\u001b[1m813/813\u001b[0m \u001b[32m━━━━━━━━━━━━━━━━━━━━\u001b[0m\u001b[37m\u001b[0m \u001b[1m0s\u001b[0m 238ms/step - accuracy: 0.9545 - auc: 0.9578 - f1_score: 0.6441 - loss: 0.0253 - precision: 0.7927 - recall: 0.5659  "
     ]
    },
    {
     "name": "stderr",
     "output_type": "stream",
     "text": [
      "2025-05-21 14:31:15 - INFO - \n",
      "=== Epoch 57 Summary ===\n",
      "2025-05-21 14:31:15 - INFO - Time: 204.02s\n",
      "2025-05-21 14:31:15 - INFO - Training   - accuracy: 0.9546 - auc: 0.9580 - f1_score: 0.6438 - loss: 0.0252 - precision: 0.7920 - recall: 0.5661 - learning_rate: 0.0000\n",
      "2025-05-21 14:31:15 - INFO - Validation - accuracy: 0.9324 - auc: 0.7605 - f1_score: 0.2413 - loss: 0.0704 - precision: 0.3284 - recall: 0.2104\n",
      "2025-05-21 14:31:15 - INFO - ==================================================\n",
      "\n"
     ]
    },
    {
     "name": "stdout",
     "output_type": "stream",
     "text": [
      "\u001b[1m813/813\u001b[0m \u001b[32m━━━━━━━━━━━━━━━━━━━━\u001b[0m\u001b[37m\u001b[0m \u001b[1m204s\u001b[0m 251ms/step - accuracy: 0.9545 - auc: 0.9578 - f1_score: 0.6441 - loss: 0.0253 - precision: 0.7927 - recall: 0.5659 - val_accuracy: 0.9324 - val_auc: 0.7605 - val_f1_score: 0.2413 - val_loss: 0.0704 - val_precision: 0.3284 - val_recall: 0.2104 - learning_rate: 1.0000e-06\n"
     ]
    },
    {
     "name": "stderr",
     "output_type": "stream",
     "text": [
      "2025-05-21 14:31:15 - INFO - \n",
      "=== Starting Epoch 58 ===\n",
      "\n"
     ]
    },
    {
     "name": "stdout",
     "output_type": "stream",
     "text": [
      "Epoch 58/100\n",
      "\u001b[1m813/813\u001b[0m \u001b[32m━━━━━━━━━━━━━━━━━━━━\u001b[0m\u001b[37m\u001b[0m \u001b[1m0s\u001b[0m 248ms/step - accuracy: 0.9552 - auc: 0.9591 - f1_score: 0.6475 - loss: 0.0252 - precision: 0.7945 - recall: 0.5700  "
     ]
    },
    {
     "name": "stderr",
     "output_type": "stream",
     "text": [
      "2025-05-21 14:34:51 - INFO - \n",
      "=== Epoch 58 Summary ===\n",
      "2025-05-21 14:34:51 - INFO - Time: 215.18s\n",
      "2025-05-21 14:34:51 - INFO - Training   - accuracy: 0.9551 - auc: 0.9593 - f1_score: 0.6483 - loss: 0.0251 - precision: 0.7951 - recall: 0.5705 - learning_rate: 0.0000\n",
      "2025-05-21 14:34:51 - INFO - Validation - accuracy: 0.9305 - auc: 0.7588 - f1_score: 0.2582 - loss: 0.0726 - precision: 0.3289 - recall: 0.2455\n",
      "2025-05-21 14:34:51 - INFO - ==================================================\n",
      "\n"
     ]
    },
    {
     "name": "stdout",
     "output_type": "stream",
     "text": [
      "\u001b[1m813/813\u001b[0m \u001b[32m━━━━━━━━━━━━━━━━━━━━\u001b[0m\u001b[37m\u001b[0m \u001b[1m215s\u001b[0m 265ms/step - accuracy: 0.9552 - auc: 0.9591 - f1_score: 0.6475 - loss: 0.0252 - precision: 0.7945 - recall: 0.5700 - val_accuracy: 0.9305 - val_auc: 0.7588 - val_f1_score: 0.2582 - val_loss: 0.0726 - val_precision: 0.3289 - val_recall: 0.2455 - learning_rate: 1.0000e-06\n"
     ]
    },
    {
     "name": "stderr",
     "output_type": "stream",
     "text": [
      "2025-05-21 14:34:51 - INFO - \n",
      "=== Starting Epoch 59 ===\n",
      "\n"
     ]
    },
    {
     "name": "stdout",
     "output_type": "stream",
     "text": [
      "Epoch 59/100\n",
      "\u001b[1m813/813\u001b[0m \u001b[32m━━━━━━━━━━━━━━━━━━━━\u001b[0m\u001b[37m\u001b[0m \u001b[1m0s\u001b[0m 238ms/step - accuracy: 0.9548 - auc: 0.9587 - f1_score: 0.6450 - loss: 0.0251 - precision: 0.7924 - recall: 0.5673  "
     ]
    },
    {
     "name": "stderr",
     "output_type": "stream",
     "text": [
      "2025-05-21 14:38:14 - INFO - \n",
      "=== Epoch 59 Summary ===\n",
      "2025-05-21 14:38:14 - INFO - Time: 203.76s\n",
      "2025-05-21 14:38:14 - INFO - Training   - accuracy: 0.9550 - auc: 0.9590 - f1_score: 0.6468 - loss: 0.0251 - precision: 0.7934 - recall: 0.5693 - learning_rate: 0.0000\n",
      "2025-05-21 14:38:14 - INFO - Validation - accuracy: 0.9323 - auc: 0.7579 - f1_score: 0.2444 - loss: 0.0717 - precision: 0.3291 - recall: 0.2134\n",
      "2025-05-21 14:38:14 - INFO - ==================================================\n",
      "\n"
     ]
    },
    {
     "name": "stdout",
     "output_type": "stream",
     "text": [
      "\u001b[1m813/813\u001b[0m \u001b[32m━━━━━━━━━━━━━━━━━━━━\u001b[0m\u001b[37m\u001b[0m \u001b[1m204s\u001b[0m 251ms/step - accuracy: 0.9548 - auc: 0.9587 - f1_score: 0.6450 - loss: 0.0251 - precision: 0.7924 - recall: 0.5673 - val_accuracy: 0.9323 - val_auc: 0.7579 - val_f1_score: 0.2444 - val_loss: 0.0717 - val_precision: 0.3291 - val_recall: 0.2134 - learning_rate: 1.0000e-06\n"
     ]
    },
    {
     "name": "stderr",
     "output_type": "stream",
     "text": [
      "2025-05-21 14:38:14 - INFO - \n",
      "=== Starting Epoch 60 ===\n",
      "\n"
     ]
    },
    {
     "name": "stdout",
     "output_type": "stream",
     "text": [
      "Epoch 60/100\n",
      "\u001b[1m813/813\u001b[0m \u001b[32m━━━━━━━━━━━━━━━━━━━━\u001b[0m\u001b[37m\u001b[0m \u001b[1m0s\u001b[0m 249ms/step - accuracy: 0.9550 - auc: 0.9597 - f1_score: 0.6497 - loss: 0.0251 - precision: 0.7925 - recall: 0.5731  "
     ]
    },
    {
     "name": "stderr",
     "output_type": "stream",
     "text": [
      "2025-05-21 14:41:51 - INFO - \n",
      "=== Epoch 60 Summary ===\n",
      "2025-05-21 14:41:51 - INFO - Time: 216.33s\n",
      "2025-05-21 14:41:51 - INFO - Training   - accuracy: 0.9555 - auc: 0.9598 - f1_score: 0.6520 - loss: 0.0249 - precision: 0.7947 - recall: 0.5759 - learning_rate: 0.0000\n",
      "2025-05-21 14:41:51 - INFO - Validation - accuracy: 0.9286 - auc: 0.7597 - f1_score: 0.2619 - loss: 0.0721 - precision: 0.3143 - recall: 0.2441\n",
      "2025-05-21 14:41:51 - INFO - ==================================================\n",
      "\n"
     ]
    },
    {
     "name": "stdout",
     "output_type": "stream",
     "text": [
      "\u001b[1m813/813\u001b[0m \u001b[32m━━━━━━━━━━━━━━━━━━━━\u001b[0m\u001b[37m\u001b[0m \u001b[1m216s\u001b[0m 266ms/step - accuracy: 0.9550 - auc: 0.9597 - f1_score: 0.6497 - loss: 0.0251 - precision: 0.7925 - recall: 0.5731 - val_accuracy: 0.9286 - val_auc: 0.7597 - val_f1_score: 0.2619 - val_loss: 0.0721 - val_precision: 0.3143 - val_recall: 0.2441 - learning_rate: 1.0000e-06\n"
     ]
    },
    {
     "name": "stderr",
     "output_type": "stream",
     "text": [
      "2025-05-21 14:41:51 - INFO - \n",
      "=== Starting Epoch 61 ===\n",
      "\n"
     ]
    },
    {
     "name": "stdout",
     "output_type": "stream",
     "text": [
      "Epoch 61/100\n",
      "\u001b[1m813/813\u001b[0m \u001b[32m━━━━━━━━━━━━━━━━━━━━\u001b[0m\u001b[37m\u001b[0m \u001b[1m0s\u001b[0m 237ms/step - accuracy: 0.9553 - auc: 0.9601 - f1_score: 0.6530 - loss: 0.0249 - precision: 0.7989 - recall: 0.5745  "
     ]
    },
    {
     "name": "stderr",
     "output_type": "stream",
     "text": [
      "2025-05-21 14:45:14 - INFO - \n",
      "=== Epoch 61 Summary ===\n",
      "2025-05-21 14:45:14 - INFO - Time: 203.09s\n",
      "2025-05-21 14:45:14 - INFO - Training   - accuracy: 0.9558 - auc: 0.9602 - f1_score: 0.6547 - loss: 0.0248 - precision: 0.7997 - recall: 0.5771 - learning_rate: 0.0000\n",
      "2025-05-21 14:45:14 - INFO - Validation - accuracy: 0.9329 - auc: 0.7620 - f1_score: 0.2510 - loss: 0.0722 - precision: 0.3391 - recall: 0.2231\n",
      "2025-05-21 14:45:14 - INFO - ==================================================\n",
      "\n"
     ]
    },
    {
     "name": "stdout",
     "output_type": "stream",
     "text": [
      "\u001b[1m813/813\u001b[0m \u001b[32m━━━━━━━━━━━━━━━━━━━━\u001b[0m\u001b[37m\u001b[0m \u001b[1m203s\u001b[0m 250ms/step - accuracy: 0.9553 - auc: 0.9601 - f1_score: 0.6530 - loss: 0.0249 - precision: 0.7989 - recall: 0.5745 - val_accuracy: 0.9329 - val_auc: 0.7620 - val_f1_score: 0.2510 - val_loss: 0.0722 - val_precision: 0.3391 - val_recall: 0.2231 - learning_rate: 1.0000e-06\n"
     ]
    },
    {
     "name": "stderr",
     "output_type": "stream",
     "text": [
      "2025-05-21 14:45:14 - INFO - \n",
      "=== Starting Epoch 62 ===\n",
      "\n"
     ]
    },
    {
     "name": "stdout",
     "output_type": "stream",
     "text": [
      "Epoch 62/100\n",
      "\u001b[1m813/813\u001b[0m \u001b[32m━━━━━━━━━━━━━━━━━━━━\u001b[0m\u001b[37m\u001b[0m \u001b[1m0s\u001b[0m 248ms/step - accuracy: 0.9556 - auc: 0.9607 - f1_score: 0.6555 - loss: 0.0248 - precision: 0.7952 - recall: 0.5801  "
     ]
    },
    {
     "name": "stderr",
     "output_type": "stream",
     "text": [
      "2025-05-21 14:48:54 - INFO - \n",
      "=== Epoch 62 Summary ===\n",
      "2025-05-21 14:48:54 - INFO - Time: 220.19s\n",
      "2025-05-21 14:48:54 - INFO - Training   - accuracy: 0.9559 - auc: 0.9605 - f1_score: 0.6571 - loss: 0.0248 - precision: 0.7975 - recall: 0.5811 - learning_rate: 0.0000\n",
      "2025-05-21 14:48:54 - INFO - Validation - accuracy: 0.9323 - auc: 0.7596 - f1_score: 0.2404 - loss: 0.0727 - precision: 0.3279 - recall: 0.2109\n",
      "2025-05-21 14:48:54 - INFO - ==================================================\n",
      "\n"
     ]
    },
    {
     "name": "stdout",
     "output_type": "stream",
     "text": [
      "\u001b[1m813/813\u001b[0m \u001b[32m━━━━━━━━━━━━━━━━━━━━\u001b[0m\u001b[37m\u001b[0m \u001b[1m220s\u001b[0m 271ms/step - accuracy: 0.9556 - auc: 0.9607 - f1_score: 0.6555 - loss: 0.0248 - precision: 0.7952 - recall: 0.5801 - val_accuracy: 0.9323 - val_auc: 0.7596 - val_f1_score: 0.2404 - val_loss: 0.0727 - val_precision: 0.3279 - val_recall: 0.2109 - learning_rate: 1.0000e-06\n"
     ]
    },
    {
     "name": "stderr",
     "output_type": "stream",
     "text": [
      "2025-05-21 14:48:54 - INFO - \n",
      "=== Starting Epoch 63 ===\n",
      "\n"
     ]
    },
    {
     "name": "stdout",
     "output_type": "stream",
     "text": [
      "Epoch 63/100\n",
      "\u001b[1m813/813\u001b[0m \u001b[32m━━━━━━━━━━━━━━━━━━━━\u001b[0m\u001b[37m\u001b[0m \u001b[1m0s\u001b[0m 236ms/step - accuracy: 0.9561 - auc: 0.9605 - f1_score: 0.6587 - loss: 0.0246 - precision: 0.7986 - recall: 0.5825  "
     ]
    },
    {
     "name": "stderr",
     "output_type": "stream",
     "text": [
      "2025-05-21 14:52:16 - INFO - \n",
      "=== Epoch 63 Summary ===\n",
      "2025-05-21 14:52:16 - INFO - Time: 202.21s\n",
      "2025-05-21 14:52:16 - INFO - Training   - accuracy: 0.9563 - auc: 0.9612 - f1_score: 0.6599 - loss: 0.0246 - precision: 0.8008 - recall: 0.5834 - learning_rate: 0.0000\n",
      "2025-05-21 14:52:16 - INFO - Validation - accuracy: 0.9315 - auc: 0.7598 - f1_score: 0.2442 - loss: 0.0715 - precision: 0.3219 - recall: 0.2144\n",
      "2025-05-21 14:52:16 - INFO - ==================================================\n",
      "\n"
     ]
    },
    {
     "name": "stdout",
     "output_type": "stream",
     "text": [
      "\u001b[1m813/813\u001b[0m \u001b[32m━━━━━━━━━━━━━━━━━━━━\u001b[0m\u001b[37m\u001b[0m \u001b[1m202s\u001b[0m 249ms/step - accuracy: 0.9561 - auc: 0.9605 - f1_score: 0.6587 - loss: 0.0246 - precision: 0.7986 - recall: 0.5825 - val_accuracy: 0.9315 - val_auc: 0.7598 - val_f1_score: 0.2442 - val_loss: 0.0715 - val_precision: 0.3219 - val_recall: 0.2144 - learning_rate: 1.0000e-06\n"
     ]
    },
    {
     "name": "stderr",
     "output_type": "stream",
     "text": [
      "2025-05-21 14:52:16 - INFO - \n",
      "=== Starting Epoch 64 ===\n",
      "\n"
     ]
    },
    {
     "name": "stdout",
     "output_type": "stream",
     "text": [
      "Epoch 64/100\n",
      "\u001b[1m813/813\u001b[0m \u001b[32m━━━━━━━━━━━━━━━━━━━━\u001b[0m\u001b[37m\u001b[0m \u001b[1m0s\u001b[0m 247ms/step - accuracy: 0.9562 - auc: 0.9612 - f1_score: 0.6614 - loss: 0.0247 - precision: 0.8026 - recall: 0.5836  "
     ]
    },
    {
     "name": "stderr",
     "output_type": "stream",
     "text": [
      "2025-05-21 14:55:51 - INFO - \n",
      "=== Epoch 64 Summary ===\n",
      "2025-05-21 14:55:51 - INFO - Time: 214.46s\n",
      "2025-05-21 14:55:51 - INFO - Training   - accuracy: 0.9565 - auc: 0.9617 - f1_score: 0.6624 - loss: 0.0245 - precision: 0.8009 - recall: 0.5863 - learning_rate: 0.0000\n",
      "2025-05-21 14:55:51 - INFO - Validation - accuracy: 0.9336 - auc: 0.7591 - f1_score: 0.2438 - loss: 0.0730 - precision: 0.3368 - recall: 0.2049\n",
      "2025-05-21 14:55:51 - INFO - ==================================================\n",
      "\n"
     ]
    },
    {
     "name": "stdout",
     "output_type": "stream",
     "text": [
      "\u001b[1m813/813\u001b[0m \u001b[32m━━━━━━━━━━━━━━━━━━━━\u001b[0m\u001b[37m\u001b[0m \u001b[1m214s\u001b[0m 264ms/step - accuracy: 0.9562 - auc: 0.9612 - f1_score: 0.6614 - loss: 0.0247 - precision: 0.8026 - recall: 0.5836 - val_accuracy: 0.9336 - val_auc: 0.7591 - val_f1_score: 0.2438 - val_loss: 0.0730 - val_precision: 0.3368 - val_recall: 0.2049 - learning_rate: 1.0000e-06\n"
     ]
    },
    {
     "name": "stderr",
     "output_type": "stream",
     "text": [
      "2025-05-21 14:55:51 - INFO - \n",
      "=== Starting Epoch 65 ===\n",
      "\n"
     ]
    },
    {
     "name": "stdout",
     "output_type": "stream",
     "text": [
      "Epoch 65/100\n",
      "\u001b[1m813/813\u001b[0m \u001b[32m━━━━━━━━━━━━━━━━━━━━\u001b[0m\u001b[37m\u001b[0m \u001b[1m0s\u001b[0m 238ms/step - accuracy: 0.9563 - auc: 0.9616 - f1_score: 0.6618 - loss: 0.0246 - precision: 0.8017 - recall: 0.5858  "
     ]
    },
    {
     "name": "stderr",
     "output_type": "stream",
     "text": [
      "2025-05-21 14:59:14 - INFO - \n",
      "=== Epoch 65 Summary ===\n",
      "2025-05-21 14:59:14 - INFO - Time: 203.35s\n",
      "2025-05-21 14:59:14 - INFO - Training   - accuracy: 0.9565 - auc: 0.9620 - f1_score: 0.6634 - loss: 0.0244 - precision: 0.8020 - recall: 0.5873 - learning_rate: 0.0000\n",
      "2025-05-21 14:59:14 - INFO - Validation - accuracy: 0.9304 - auc: 0.7590 - f1_score: 0.2565 - loss: 0.0741 - precision: 0.3255 - recall: 0.2395\n",
      "2025-05-21 14:59:14 - INFO - ==================================================\n",
      "\n"
     ]
    },
    {
     "name": "stdout",
     "output_type": "stream",
     "text": [
      "\u001b[1m813/813\u001b[0m \u001b[32m━━━━━━━━━━━━━━━━━━━━\u001b[0m\u001b[37m\u001b[0m \u001b[1m203s\u001b[0m 250ms/step - accuracy: 0.9563 - auc: 0.9616 - f1_score: 0.6618 - loss: 0.0246 - precision: 0.8017 - recall: 0.5858 - val_accuracy: 0.9304 - val_auc: 0.7590 - val_f1_score: 0.2565 - val_loss: 0.0741 - val_precision: 0.3255 - val_recall: 0.2395 - learning_rate: 1.0000e-06\n"
     ]
    },
    {
     "name": "stderr",
     "output_type": "stream",
     "text": [
      "2025-05-21 14:59:14 - INFO - \n",
      "=== Starting Epoch 66 ===\n",
      "\n"
     ]
    },
    {
     "name": "stdout",
     "output_type": "stream",
     "text": [
      "Epoch 66/100\n",
      "\u001b[1m813/813\u001b[0m \u001b[32m━━━━━━━━━━━━━━━━━━━━\u001b[0m\u001b[37m\u001b[0m \u001b[1m0s\u001b[0m 248ms/step - accuracy: 0.9566 - auc: 0.9616 - f1_score: 0.6636 - loss: 0.0246 - precision: 0.7997 - recall: 0.5886  "
     ]
    },
    {
     "name": "stderr",
     "output_type": "stream",
     "text": [
      "2025-05-21 15:02:49 - INFO - \n",
      "=== Epoch 66 Summary ===\n",
      "2025-05-21 15:02:49 - INFO - Time: 214.85s\n",
      "2025-05-21 15:02:49 - INFO - Training   - accuracy: 0.9567 - auc: 0.9624 - f1_score: 0.6654 - loss: 0.0244 - precision: 0.8012 - recall: 0.5901 - learning_rate: 0.0000\n",
      "2025-05-21 15:02:49 - INFO - Validation - accuracy: 0.9331 - auc: 0.7606 - f1_score: 0.2372 - loss: 0.0731 - precision: 0.3336 - recall: 0.2084\n",
      "2025-05-21 15:02:49 - INFO - ==================================================\n",
      "\n"
     ]
    },
    {
     "name": "stdout",
     "output_type": "stream",
     "text": [
      "\u001b[1m813/813\u001b[0m \u001b[32m━━━━━━━━━━━━━━━━━━━━\u001b[0m\u001b[37m\u001b[0m \u001b[1m215s\u001b[0m 264ms/step - accuracy: 0.9566 - auc: 0.9616 - f1_score: 0.6636 - loss: 0.0246 - precision: 0.7997 - recall: 0.5886 - val_accuracy: 0.9331 - val_auc: 0.7606 - val_f1_score: 0.2372 - val_loss: 0.0731 - val_precision: 0.3336 - val_recall: 0.2084 - learning_rate: 1.0000e-06\n"
     ]
    },
    {
     "name": "stderr",
     "output_type": "stream",
     "text": [
      "2025-05-21 15:02:49 - INFO - \n",
      "=== Starting Epoch 67 ===\n",
      "\n"
     ]
    },
    {
     "name": "stdout",
     "output_type": "stream",
     "text": [
      "Epoch 67/100\n",
      "\u001b[1m813/813\u001b[0m \u001b[32m━━━━━━━━━━━━━━━━━━━━\u001b[0m\u001b[37m\u001b[0m \u001b[1m0s\u001b[0m 238ms/step - accuracy: 0.9569 - auc: 0.9629 - f1_score: 0.6663 - loss: 0.0242 - precision: 0.8035 - recall: 0.5903  "
     ]
    },
    {
     "name": "stderr",
     "output_type": "stream",
     "text": [
      "2025-05-21 15:06:13 - INFO - \n",
      "=== Epoch 67 Summary ===\n",
      "2025-05-21 15:06:13 - INFO - Time: 203.68s\n",
      "2025-05-21 15:06:13 - INFO - Training   - accuracy: 0.9570 - auc: 0.9630 - f1_score: 0.6676 - loss: 0.0242 - precision: 0.8036 - recall: 0.5926 - learning_rate: 0.0000\n",
      "2025-05-21 15:06:13 - INFO - Validation - accuracy: 0.9329 - auc: 0.7619 - f1_score: 0.2439 - loss: 0.0748 - precision: 0.3334 - recall: 0.2111\n",
      "2025-05-21 15:06:13 - INFO - ==================================================\n",
      "\n"
     ]
    },
    {
     "name": "stdout",
     "output_type": "stream",
     "text": [
      "\u001b[1m813/813\u001b[0m \u001b[32m━━━━━━━━━━━━━━━━━━━━\u001b[0m\u001b[37m\u001b[0m \u001b[1m204s\u001b[0m 251ms/step - accuracy: 0.9569 - auc: 0.9629 - f1_score: 0.6663 - loss: 0.0242 - precision: 0.8035 - recall: 0.5903 - val_accuracy: 0.9329 - val_auc: 0.7619 - val_f1_score: 0.2439 - val_loss: 0.0748 - val_precision: 0.3334 - val_recall: 0.2111 - learning_rate: 1.0000e-06\n"
     ]
    },
    {
     "name": "stderr",
     "output_type": "stream",
     "text": [
      "2025-05-21 15:06:13 - INFO - \n",
      "=== Starting Epoch 68 ===\n",
      "\n"
     ]
    },
    {
     "name": "stdout",
     "output_type": "stream",
     "text": [
      "Epoch 68/100\n",
      "\u001b[1m813/813\u001b[0m \u001b[32m━━━━━━━━━━━━━━━━━━━━\u001b[0m\u001b[37m\u001b[0m \u001b[1m0s\u001b[0m 248ms/step - accuracy: 0.9572 - auc: 0.9634 - f1_score: 0.6712 - loss: 0.0242 - precision: 0.8060 - recall: 0.5953  "
     ]
    },
    {
     "name": "stderr",
     "output_type": "stream",
     "text": [
      "2025-05-21 15:09:48 - INFO - \n",
      "=== Epoch 68 Summary ===\n",
      "2025-05-21 15:09:48 - INFO - Time: 215.14s\n",
      "2025-05-21 15:09:48 - INFO - Training   - accuracy: 0.9571 - auc: 0.9632 - f1_score: 0.6698 - loss: 0.0242 - precision: 0.8027 - recall: 0.5951 - learning_rate: 0.0000\n",
      "2025-05-21 15:09:48 - INFO - Validation - accuracy: 0.9299 - auc: 0.7569 - f1_score: 0.2580 - loss: 0.0751 - precision: 0.3147 - recall: 0.2260\n",
      "2025-05-21 15:09:48 - INFO - ==================================================\n",
      "\n"
     ]
    },
    {
     "name": "stdout",
     "output_type": "stream",
     "text": [
      "\u001b[1m813/813\u001b[0m \u001b[32m━━━━━━━━━━━━━━━━━━━━\u001b[0m\u001b[37m\u001b[0m \u001b[1m215s\u001b[0m 265ms/step - accuracy: 0.9572 - auc: 0.9634 - f1_score: 0.6712 - loss: 0.0242 - precision: 0.8060 - recall: 0.5953 - val_accuracy: 0.9299 - val_auc: 0.7569 - val_f1_score: 0.2580 - val_loss: 0.0751 - val_precision: 0.3147 - val_recall: 0.2260 - learning_rate: 1.0000e-06\n"
     ]
    },
    {
     "name": "stderr",
     "output_type": "stream",
     "text": [
      "2025-05-21 15:09:48 - INFO - \n",
      "=== Starting Epoch 69 ===\n",
      "\n"
     ]
    },
    {
     "name": "stdout",
     "output_type": "stream",
     "text": [
      "Epoch 69/100\n",
      "\u001b[1m813/813\u001b[0m \u001b[32m━━━━━━━━━━━━━━━━━━━━\u001b[0m\u001b[37m\u001b[0m \u001b[1m0s\u001b[0m 238ms/step - accuracy: 0.9575 - auc: 0.9637 - f1_score: 0.6755 - loss: 0.0242 - precision: 0.8054 - recall: 0.6020  "
     ]
    },
    {
     "name": "stderr",
     "output_type": "stream",
     "text": [
      "2025-05-21 15:13:11 - INFO - \n",
      "=== Epoch 69 Summary ===\n",
      "2025-05-21 15:13:11 - INFO - Time: 203.56s\n",
      "2025-05-21 15:13:11 - INFO - Training   - accuracy: 0.9575 - auc: 0.9634 - f1_score: 0.6741 - loss: 0.0241 - precision: 0.8048 - recall: 0.6005 - learning_rate: 0.0000\n",
      "2025-05-21 15:13:11 - INFO - Validation - accuracy: 0.9317 - auc: 0.7601 - f1_score: 0.2543 - loss: 0.0723 - precision: 0.3329 - recall: 0.2317\n",
      "2025-05-21 15:13:11 - INFO - ==================================================\n",
      "\n"
     ]
    },
    {
     "name": "stdout",
     "output_type": "stream",
     "text": [
      "\u001b[1m813/813\u001b[0m \u001b[32m━━━━━━━━━━━━━━━━━━━━\u001b[0m\u001b[37m\u001b[0m \u001b[1m204s\u001b[0m 250ms/step - accuracy: 0.9575 - auc: 0.9637 - f1_score: 0.6755 - loss: 0.0242 - precision: 0.8054 - recall: 0.6020 - val_accuracy: 0.9317 - val_auc: 0.7601 - val_f1_score: 0.2543 - val_loss: 0.0723 - val_precision: 0.3329 - val_recall: 0.2317 - learning_rate: 1.0000e-06\n"
     ]
    },
    {
     "name": "stderr",
     "output_type": "stream",
     "text": [
      "2025-05-21 15:13:11 - INFO - \n",
      "=== Starting Epoch 70 ===\n",
      "\n"
     ]
    },
    {
     "name": "stdout",
     "output_type": "stream",
     "text": [
      "Epoch 70/100\n",
      "\u001b[1m813/813\u001b[0m \u001b[32m━━━━━━━━━━━━━━━━━━━━\u001b[0m\u001b[37m\u001b[0m \u001b[1m0s\u001b[0m 248ms/step - accuracy: 0.9577 - auc: 0.9642 - f1_score: 0.6750 - loss: 0.0239 - precision: 0.8064 - recall: 0.6003  "
     ]
    },
    {
     "name": "stderr",
     "output_type": "stream",
     "text": [
      "2025-05-21 15:16:47 - INFO - \n",
      "=== Epoch 70 Summary ===\n",
      "2025-05-21 15:16:47 - INFO - Time: 215.38s\n",
      "2025-05-21 15:16:47 - INFO - Training   - accuracy: 0.9579 - auc: 0.9643 - f1_score: 0.6766 - loss: 0.0239 - precision: 0.8081 - recall: 0.6018 - learning_rate: 0.0000\n",
      "2025-05-21 15:16:47 - INFO - Validation - accuracy: 0.9327 - auc: 0.7576 - f1_score: 0.2522 - loss: 0.0745 - precision: 0.3332 - recall: 0.2156\n",
      "2025-05-21 15:16:47 - INFO - ==================================================\n",
      "\n"
     ]
    },
    {
     "name": "stdout",
     "output_type": "stream",
     "text": [
      "\u001b[1m813/813\u001b[0m \u001b[32m━━━━━━━━━━━━━━━━━━━━\u001b[0m\u001b[37m\u001b[0m \u001b[1m215s\u001b[0m 265ms/step - accuracy: 0.9577 - auc: 0.9642 - f1_score: 0.6750 - loss: 0.0239 - precision: 0.8064 - recall: 0.6003 - val_accuracy: 0.9327 - val_auc: 0.7576 - val_f1_score: 0.2522 - val_loss: 0.0745 - val_precision: 0.3332 - val_recall: 0.2156 - learning_rate: 1.0000e-06\n"
     ]
    },
    {
     "name": "stderr",
     "output_type": "stream",
     "text": [
      "2025-05-21 15:16:47 - INFO - \n",
      "=== Starting Epoch 71 ===\n",
      "\n"
     ]
    },
    {
     "name": "stdout",
     "output_type": "stream",
     "text": [
      "Epoch 71/100\n",
      "\u001b[1m813/813\u001b[0m \u001b[32m━━━━━━━━━━━━━━━━━━━━\u001b[0m\u001b[37m\u001b[0m \u001b[1m0s\u001b[0m 238ms/step - accuracy: 0.9578 - auc: 0.9646 - f1_score: 0.6771 - loss: 0.0240 - precision: 0.8098 - recall: 0.6019  "
     ]
    },
    {
     "name": "stderr",
     "output_type": "stream",
     "text": [
      "2025-05-21 15:20:10 - INFO - \n",
      "=== Epoch 71 Summary ===\n",
      "2025-05-21 15:20:10 - INFO - Time: 203.77s\n",
      "2025-05-21 15:20:10 - INFO - Training   - accuracy: 0.9581 - auc: 0.9645 - f1_score: 0.6781 - loss: 0.0239 - precision: 0.8081 - recall: 0.6041 - learning_rate: 0.0000\n",
      "2025-05-21 15:20:10 - INFO - Validation - accuracy: 0.9303 - auc: 0.7589 - f1_score: 0.2590 - loss: 0.0747 - precision: 0.3211 - recall: 0.2323\n",
      "2025-05-21 15:20:10 - INFO - ==================================================\n",
      "\n"
     ]
    },
    {
     "name": "stdout",
     "output_type": "stream",
     "text": [
      "\u001b[1m813/813\u001b[0m \u001b[32m━━━━━━━━━━━━━━━━━━━━\u001b[0m\u001b[37m\u001b[0m \u001b[1m204s\u001b[0m 251ms/step - accuracy: 0.9578 - auc: 0.9646 - f1_score: 0.6771 - loss: 0.0240 - precision: 0.8098 - recall: 0.6019 - val_accuracy: 0.9303 - val_auc: 0.7589 - val_f1_score: 0.2590 - val_loss: 0.0747 - val_precision: 0.3211 - val_recall: 0.2323 - learning_rate: 1.0000e-06\n"
     ]
    },
    {
     "name": "stderr",
     "output_type": "stream",
     "text": [
      "2025-05-21 15:20:10 - INFO - \n",
      "=== Training Completed! ===\n",
      "\n",
      "2025-05-21 15:20:10 - INFO - Final Metrics: accuracy: 0.9581 - auc: 0.9645 - f1_score: 0.6781 - loss: 0.0239 - precision: 0.8081 - recall: 0.6041 - val_accuracy: 0.9303 - val_auc: 0.7589 - val_f1_score: 0.2590 - val_loss: 0.0747 - val_precision: 0.3211 - val_recall: 0.2323\n",
      "\n"
     ]
    },
    {
     "name": "stdout",
     "output_type": "stream",
     "text": [
      "Epoch 71: early stopping\n",
      "Restoring model weights from the end of the best epoch: 56.\n"
     ]
    }
   ],
   "source": [
    "# Model Training\n",
    "model          = build_densenet121(num_classes)\n",
    "optimizer      = Adam(learning_rate=1e-4)\n",
    "compile_kwargs = {'optimizer': optimizer, 'loss': loss, 'metrics': metrics}\n",
    "\n",
    "history, model = start_or_resume_training(\n",
    "    model, \n",
    "    compile_kwargs, \n",
    "    train_ds, \n",
    "    val_ds, \n",
    "    TF_MAX_EPOCHS,\n",
    "    steps_per_epoch, \n",
    "    validation_steps, \n",
    "    class_weights=class_weights,\n",
    "    callbacks=[checkpoint, best_checkpoint, reduce_lr, training_logger, metrics_monitor, early_stopping], \n",
    "    checkpoint_path=checkpoint_path,\n",
    "    initial_epoch=initial_epoch,\n",
    "    output_dir=MODELS_PATH,\n",
    "    model_name=model_name,\n",
    "    logger=logger\n",
    ")"
   ]
  },
  {
   "cell_type": "code",
   "execution_count": null,
   "id": "048b711f-28f1-433d-ac5b-b8729218ef96",
   "metadata": {},
   "outputs": [],
   "source": []
  }
 ],
 "metadata": {
  "kernelspec": {
   "display_name": "Python 3 (ipykernel)",
   "language": "python",
   "name": "python3"
  },
  "language_info": {
   "codemirror_mode": {
    "name": "ipython",
    "version": 3
   },
   "file_extension": ".py",
   "mimetype": "text/x-python",
   "name": "python",
   "nbconvert_exporter": "python",
   "pygments_lexer": "ipython3",
   "version": "3.10.16"
  }
 },
 "nbformat": 4,
 "nbformat_minor": 5
}
