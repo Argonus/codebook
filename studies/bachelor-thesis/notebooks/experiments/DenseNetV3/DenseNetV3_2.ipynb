{
 "cells": [
  {
   "cell_type": "code",
   "execution_count": 1,
   "id": "b694919a-9b18-4068-8e69-7258de889dff",
   "metadata": {},
   "outputs": [
    {
     "name": "stderr",
     "output_type": "stream",
     "text": [
      "2025-05-20 08:41:38.631324: E external/local_xla/xla/stream_executor/cuda/cuda_fft.cc:467] Unable to register cuFFT factory: Attempting to register factory for plugin cuFFT when one has already been registered\n",
      "WARNING: All log messages before absl::InitializeLog() is called are written to STDERR\n",
      "E0000 00:00:1747723298.732062    3594 cuda_dnn.cc:8579] Unable to register cuDNN factory: Attempting to register factory for plugin cuDNN when one has already been registered\n",
      "E0000 00:00:1747723298.761141    3594 cuda_blas.cc:1407] Unable to register cuBLAS factory: Attempting to register factory for plugin cuBLAS when one has already been registered\n",
      "W0000 00:00:1747723299.000447    3594 computation_placer.cc:177] computation placer already registered. Please check linkage and avoid linking the same target more than once.\n",
      "W0000 00:00:1747723299.000458    3594 computation_placer.cc:177] computation placer already registered. Please check linkage and avoid linking the same target more than once.\n",
      "W0000 00:00:1747723299.000459    3594 computation_placer.cc:177] computation placer already registered. Please check linkage and avoid linking the same target more than once.\n",
      "W0000 00:00:1747723299.000460    3594 computation_placer.cc:177] computation placer already registered. Please check linkage and avoid linking the same target more than once.\n"
     ]
    },
    {
     "name": "stdout",
     "output_type": "stream",
     "text": [
      "\n",
      "GPU configuration successful!\n",
      "Device: /physical_device:GPU:0\n",
      "Memory limit: 18.0 GB\n",
      "\n",
      "TensorFlow optimizations status:\n",
      "- CPU Threads: 16 intra-op, 9 inter-op (32 cores total)\n",
      "- XLA JIT: enabled (autoclustering)\n",
      "- Synchronous Execution: enabled\n",
      "\n",
      "GPU Device Details:\n",
      "- Device: GPU /physical_device:GPU:0\n",
      "- Memory limit: 18.0 GB\n"
     ]
    },
    {
     "name": "stderr",
     "output_type": "stream",
     "text": [
      "I0000 00:00:1747723302.569239    3594 gpu_process_state.cc:208] Using CUDA malloc Async allocator for GPU: 0\n",
      "I0000 00:00:1747723302.570077    3594 gpu_device.cc:2019] Created device /job:localhost/replica:0/task:0/device:GPU:0 with 19327352832 MB memory:  -> device: 0, name: NVIDIA GeForce RTX 3090 Ti, pci bus id: 0000:01:00.0, compute capability: 8.6\n"
     ]
    }
   ],
   "source": [
    "# Import dependencies\n",
    "import os\n",
    "\n",
    "os.environ['TF_CPP_MIN_VLOG_LEVEL'] = '0'\n",
    "os.environ['TF_CPP_MIN_LOG_LEVEL'] = '2'\n",
    "os.environ['TF_GPU_ALLOCATOR'] = 'cuda_malloc_async'\n",
    "os.environ['TF_FORCE_GPU_ALLOW_GROWTH'] = 'true'\n",
    "\n",
    "from src.utils.gpu_config import configure_gpu, optimize_tensorflow\n",
    "\n",
    "configure_gpu()\n",
    "optimize_tensorflow()"
   ]
  },
  {
   "cell_type": "code",
   "execution_count": 2,
   "id": "2b854daf-5f2a-4c33-9180-5081cd415b16",
   "metadata": {},
   "outputs": [],
   "source": [
    "# Import Tensorflow Keras\n",
    "from tensorflow.keras.optimizers import Adam\n",
    "from tensorflow.keras.losses import BinaryFocalCrossentropy\n",
    "from tensorflow.keras.callbacks import ReduceLROnPlateau, ModelCheckpoint\n",
    "\n",
    "# Import local modules\n",
    "from src.utils.consts import TF_RECORD_DATASET, MODELS_PATH, TF_BUFFER_SIZE, TF_SHUFFLE_SIZE, TF_BATCH_SIZE, TF_MAX_EPOCHS\n",
    "from src.model.tensorflow_utils import load_dataset, optimize_dataset, count_dataset_size, get_num_classes, get_metrics\n",
    "from src.model.tensorflow_utils import setup_logger, setup_training_logger, setup_metrics_monitor, setup_early_stopping, filter_no_finding_class\n",
    "from src.model.tensorflow_utils import start_or_resume_training, apply_augmentation_to_dataset, calculate_class_weights, oversample_minority_classes\n",
    "from src.model.densnet.tensorflow_dense_net_121 import build_densenet121\n",
    "\n",
    "# Input Data\n",
    "initial_epoch   = None\n",
    "resume_training = False\n",
    "checkpoint_path = None\n",
    "set_name        = \"DenseNetV3\"\n",
    "model_name      = f\"{set_name}_2\"\n",
    "num_classes     = get_num_classes()\n",
    "\n",
    "train_ds = load_dataset(f\"{TF_RECORD_DATASET}/train.tfrecord\", TF_BUFFER_SIZE)\n",
    "val_ds   = load_dataset(f\"{TF_RECORD_DATASET}/val.tfrecord\", TF_BUFFER_SIZE)\n",
    "\n",
    "train_ds = filter_no_finding_class(train_ds)\n",
    "val_ds   = filter_no_finding_class(val_ds)\n",
    "\n",
    "class_weights = calculate_class_weights(train_ds, num_classes)\n",
    "train_ds      = oversample_minority_classes(train_ds, class_weights)\n",
    "class_weights = calculate_class_weights(train_ds, num_classes)"
   ]
  },
  {
   "cell_type": "code",
   "execution_count": 3,
   "id": "5f152b8a-8ff8-4095-9815-e304ce2beb52",
   "metadata": {},
   "outputs": [
    {
     "name": "stderr",
     "output_type": "stream",
     "text": [
      "Counting samples: 104166 samples [00:42, 2442.02 samples/s] \n",
      "Counting samples: 15431 samples [00:14, 1043.57 samples/s]\n"
     ]
    }
   ],
   "source": [
    "steps_per_epoch  = int(count_dataset_size(train_ds, None) / TF_BATCH_SIZE)\n",
    "validation_steps = int(count_dataset_size(val_ds, None) / TF_BATCH_SIZE)\n",
    "\n",
    "# Disable Advanced Augmentations\n",
    "probability = {\n",
    "    \"intensity_scaling\": 0,\n",
    "    \"adaptive_histogram\": 0,\n",
    "    \"zoom\": 0,\n",
    "    \"cutout\": 0\n",
    "}\n",
    "\n",
    "train_ds = train_ds.shuffle(TF_SHUFFLE_SIZE, reshuffle_each_iteration=True)\n",
    "train_ds = apply_augmentation_to_dataset(train_ds, probability)\n",
    "train_ds = optimize_dataset(train_ds, TF_BATCH_SIZE)\n",
    "\n",
    "val_ds   = optimize_dataset(val_ds, TF_BATCH_SIZE)"
   ]
  },
  {
   "cell_type": "code",
   "execution_count": 4,
   "id": "3a0e37c9-b178-40d8-bd25-8c0a6498564a",
   "metadata": {},
   "outputs": [],
   "source": [
    "# Setup Model Deps\n",
    "logger            = setup_logger()\n",
    "training_logger   = setup_training_logger(logger, TF_BATCH_SIZE, 100)\n",
    "metrics_monitor   = setup_metrics_monitor(MODELS_PATH, model_name, logger, resume_training=resume_training, initial_epoch=initial_epoch)\n",
    "metrics           = get_metrics()\n",
    "\n",
    "# Setup compile arguments\n",
    "loss           = BinaryFocalCrossentropy(gamma=2.0, from_logits=False, label_smoothing=0.01)\n",
    "reduce_lr      = ReduceLROnPlateau(monitor=\"val_f1_score\", factor=0.5,  patience=3, min_lr=1e-6, mode=\"max\", verbose=1)\n",
    "early_stopping = setup_early_stopping()\n",
    "\n",
    "epoch_mode           = 'cp-{epoch:04d}'\n",
    "save_checkpoint_path = f\"{MODELS_PATH}/{model_name}/checkpoints/{epoch_mode}.keras\"\n",
    "checkpoint           = ModelCheckpoint(save_checkpoint_path, monitor=\"val_f1_score\", save_best_only=False, mode=\"max\", save_weights_only=False)\n",
    "\n",
    "model_path      = f\"{MODELS_PATH}/{model_name}.keras\"\n",
    "best_checkpoint = ModelCheckpoint(model_path, monitor=\"val_f1_score\", save_best_only=True, mode=\"max\", save_weights_only=False)"
   ]
  },
  {
   "cell_type": "code",
   "execution_count": 5,
   "id": "c44d4a9a-ffbb-4917-a702-c35773b9857c",
   "metadata": {},
   "outputs": [
    {
     "name": "stderr",
     "output_type": "stream",
     "text": [
      "2025-05-20 08:44:31 - INFO - \n",
      "=== Training Started ===\n",
      "\n",
      "2025-05-20 08:44:31 - INFO - Batch Size: 128\n",
      "2025-05-20 08:44:31 - INFO - Optimizer: Adam\n",
      "2025-05-20 08:44:31 - INFO - \n",
      "==================================================\n",
      "\n",
      "2025-05-20 08:44:31 - INFO - \n",
      "=== Starting Epoch 1 ===\n",
      "\n"
     ]
    },
    {
     "name": "stdout",
     "output_type": "stream",
     "text": [
      "Epoch 1/100\n"
     ]
    },
    {
     "name": "stderr",
     "output_type": "stream",
     "text": [
      "WARNING: All log messages before absl::InitializeLog() is called are written to STDERR\n",
      "I0000 00:00:1747723481.987161    3653 service.cc:152] XLA service 0x76cba8002920 initialized for platform CUDA (this does not guarantee that XLA will be used). Devices:\n",
      "I0000 00:00:1747723481.987180    3653 service.cc:160]   StreamExecutor device (0): NVIDIA GeForce RTX 3090 Ti, Compute Capability 8.6\n",
      "I0000 00:00:1747723482.005705    3653 cuda_dnn.cc:529] Loaded cuDNN version 90300\n",
      "I0000 00:00:1747723482.087200    3653 device_compiler.h:188] Compiled cluster using XLA!  This line is logged at most once for the lifetime of the process.\n"
     ]
    },
    {
     "name": "stdout",
     "output_type": "stream",
     "text": [
      "\u001b[1m813/813\u001b[0m \u001b[32m━━━━━━━━━━━━━━━━━━━━\u001b[0m\u001b[37m\u001b[0m \u001b[1m0s\u001b[0m 259ms/step - accuracy: 0.9033 - auc: 0.5516 - f1_score: 0.0527 - loss: 1.8681 - precision: 0.1367 - recall: 0.0368  "
     ]
    },
    {
     "name": "stderr",
     "output_type": "stream",
     "text": [
      "2025-05-20 08:50:11 - INFO - \n",
      "=== Epoch 1 Summary ===\n",
      "2025-05-20 08:50:11 - INFO - Time: 339.89s\n",
      "2025-05-20 08:50:11 - INFO - Training   - accuracy: 0.9149 - auc: 0.5719 - f1_score: 0.0386 - loss: 1.6095 - precision: 0.1613 - recall: 0.0224 - learning_rate: 0.0001\n",
      "2025-05-20 08:50:11 - INFO - Validation - accuracy: 0.9444 - auc: 0.6437 - f1_score: 0.0074 - loss: 1.1383 - precision: 0.3382 - recall: 0.0039\n",
      "2025-05-20 08:50:11 - INFO - ==================================================\n",
      "\n"
     ]
    },
    {
     "name": "stdout",
     "output_type": "stream",
     "text": [
      "\u001b[1m813/813\u001b[0m \u001b[32m━━━━━━━━━━━━━━━━━━━━\u001b[0m\u001b[37m\u001b[0m \u001b[1m340s\u001b[0m 292ms/step - accuracy: 0.9033 - auc: 0.5516 - f1_score: 0.0527 - loss: 1.8678 - precision: 0.1367 - recall: 0.0368 - val_accuracy: 0.9444 - val_auc: 0.6437 - val_f1_score: 0.0074 - val_loss: 1.1383 - val_precision: 0.3382 - val_recall: 0.0039 - learning_rate: 1.0000e-04\n"
     ]
    },
    {
     "name": "stderr",
     "output_type": "stream",
     "text": [
      "2025-05-20 08:50:11 - INFO - \n",
      "=== Starting Epoch 2 ===\n",
      "\n"
     ]
    },
    {
     "name": "stdout",
     "output_type": "stream",
     "text": [
      "Epoch 2/100\n",
      "\u001b[1m813/813\u001b[0m \u001b[32m━━━━━━━━━━━━━━━━━━━━\u001b[0m\u001b[37m\u001b[0m \u001b[1m0s\u001b[0m 261ms/step - accuracy: 0.9185 - auc: 0.6068 - f1_score: 0.0279 - loss: 0.9740 - precision: 0.2256 - recall: 0.0156  "
     ]
    },
    {
     "name": "stderr",
     "output_type": "stream",
     "text": [
      "2025-05-20 08:55:03 - INFO - \n",
      "=== Epoch 2 Summary ===\n",
      "2025-05-20 08:55:03 - INFO - Time: 292.65s\n",
      "2025-05-20 08:55:03 - INFO - Training   - accuracy: 0.9194 - auc: 0.6149 - f1_score: 0.0267 - loss: 0.8286 - precision: 0.2291 - recall: 0.0149 - learning_rate: 0.0001\n",
      "2025-05-20 08:55:03 - INFO - Validation - accuracy: 0.9446 - auc: 0.6603 - f1_score: 0.0000 - loss: 0.5777 - precision: 0.0000 - recall: 0.0000\n",
      "2025-05-20 08:55:03 - INFO - ==================================================\n",
      "\n"
     ]
    },
    {
     "name": "stdout",
     "output_type": "stream",
     "text": [
      "\u001b[1m813/813\u001b[0m \u001b[32m━━━━━━━━━━━━━━━━━━━━\u001b[0m\u001b[37m\u001b[0m \u001b[1m293s\u001b[0m 282ms/step - accuracy: 0.9185 - auc: 0.6068 - f1_score: 0.0279 - loss: 0.9738 - precision: 0.2256 - recall: 0.0156 - val_accuracy: 0.9446 - val_auc: 0.6603 - val_f1_score: 0.0000e+00 - val_loss: 0.5777 - val_precision: 0.0000e+00 - val_recall: 0.0000e+00 - learning_rate: 1.0000e-04\n"
     ]
    },
    {
     "name": "stderr",
     "output_type": "stream",
     "text": [
      "2025-05-20 08:55:03 - INFO - \n",
      "=== Starting Epoch 3 ===\n",
      "\n"
     ]
    },
    {
     "name": "stdout",
     "output_type": "stream",
     "text": [
      "Epoch 3/100\n",
      "\u001b[1m813/813\u001b[0m \u001b[32m━━━━━━━━━━━━━━━━━━━━\u001b[0m\u001b[37m\u001b[0m \u001b[1m0s\u001b[0m 266ms/step - accuracy: 0.9197 - auc: 0.6254 - f1_score: 0.0235 - loss: 0.4992 - precision: 0.2544 - recall: 0.0130  "
     ]
    },
    {
     "name": "stderr",
     "output_type": "stream",
     "text": [
      "2025-05-20 08:58:58 - INFO - \n",
      "=== Epoch 3 Summary ===\n",
      "2025-05-20 08:58:58 - INFO - Time: 234.35s\n",
      "2025-05-20 08:58:58 - INFO - Training   - accuracy: 0.9203 - auc: 0.6338 - f1_score: 0.0230 - loss: 0.4300 - precision: 0.2551 - recall: 0.0127 - learning_rate: 0.0001\n",
      "2025-05-20 08:58:58 - INFO - Validation - accuracy: 0.9446 - auc: 0.6785 - f1_score: 0.0000 - loss: 0.3127 - precision: 0.0000 - recall: 0.0000\n",
      "2025-05-20 08:58:58 - INFO - ==================================================\n",
      "\n"
     ]
    },
    {
     "name": "stdout",
     "output_type": "stream",
     "text": [
      "\u001b[1m813/813\u001b[0m \u001b[32m━━━━━━━━━━━━━━━━━━━━\u001b[0m\u001b[37m\u001b[0m \u001b[1m234s\u001b[0m 288ms/step - accuracy: 0.9197 - auc: 0.6254 - f1_score: 0.0235 - loss: 0.4991 - precision: 0.2544 - recall: 0.0130 - val_accuracy: 0.9446 - val_auc: 0.6785 - val_f1_score: 0.0000e+00 - val_loss: 0.3127 - val_precision: 0.0000e+00 - val_recall: 0.0000e+00 - learning_rate: 1.0000e-04\n"
     ]
    },
    {
     "name": "stderr",
     "output_type": "stream",
     "text": [
      "2025-05-20 08:58:58 - INFO - \n",
      "=== Starting Epoch 4 ===\n",
      "\n"
     ]
    },
    {
     "name": "stdout",
     "output_type": "stream",
     "text": [
      "Epoch 4/100\n",
      "\u001b[1m813/813\u001b[0m \u001b[32m━━━━━━━━━━━━━━━━━━━━\u001b[0m\u001b[37m\u001b[0m \u001b[1m0s\u001b[0m 260ms/step - accuracy: 0.9204 - auc: 0.6452 - f1_score: 0.0215 - loss: 0.2752 - precision: 0.2691 - recall: 0.0118     \n",
      "Epoch 4: ReduceLROnPlateau reducing learning rate to 4.999999873689376e-05.\n"
     ]
    },
    {
     "name": "stderr",
     "output_type": "stream",
     "text": [
      "2025-05-20 09:02:46 - INFO - \n",
      "=== Epoch 4 Summary ===\n",
      "2025-05-20 09:02:46 - INFO - Time: 228.34s\n",
      "2025-05-20 09:02:46 - INFO - Training   - accuracy: 0.9206 - auc: 0.6547 - f1_score: 0.0261 - loss: 0.2435 - precision: 0.2965 - recall: 0.0145 - learning_rate: 0.0001\n",
      "2025-05-20 09:02:46 - INFO - Validation - accuracy: 0.9445 - auc: 0.6720 - f1_score: 0.0031 - loss: 0.1896 - precision: 0.3167 - recall: 0.0016\n",
      "2025-05-20 09:02:46 - INFO - ==================================================\n",
      "\n"
     ]
    },
    {
     "name": "stdout",
     "output_type": "stream",
     "text": [
      "\u001b[1m813/813\u001b[0m \u001b[32m━━━━━━━━━━━━━━━━━━━━\u001b[0m\u001b[37m\u001b[0m \u001b[1m228s\u001b[0m 281ms/step - accuracy: 0.9204 - auc: 0.6452 - f1_score: 0.0215 - loss: 0.2752 - precision: 0.2691 - recall: 0.0118 - val_accuracy: 0.9445 - val_auc: 0.6720 - val_f1_score: 0.0031 - val_loss: 0.1896 - val_precision: 0.3167 - val_recall: 0.0016 - learning_rate: 1.0000e-04\n"
     ]
    },
    {
     "name": "stderr",
     "output_type": "stream",
     "text": [
      "2025-05-20 09:02:46 - INFO - \n",
      "=== Starting Epoch 5 ===\n",
      "\n"
     ]
    },
    {
     "name": "stdout",
     "output_type": "stream",
     "text": [
      "Epoch 5/100\n",
      "\u001b[1m813/813\u001b[0m \u001b[32m━━━━━━━━━━━━━━━━━━━━\u001b[0m\u001b[37m\u001b[0m \u001b[1m0s\u001b[0m 260ms/step - accuracy: 0.9205 - auc: 0.6849 - f1_score: 0.0399 - loss: 0.1787 - precision: 0.3655 - recall: 0.0235  "
     ]
    },
    {
     "name": "stderr",
     "output_type": "stream",
     "text": [
      "2025-05-20 09:06:38 - INFO - \n",
      "=== Epoch 5 Summary ===\n",
      "2025-05-20 09:06:38 - INFO - Time: 231.75s\n",
      "2025-05-20 09:06:38 - INFO - Training   - accuracy: 0.9209 - auc: 0.6937 - f1_score: 0.0473 - loss: 0.1694 - precision: 0.3867 - recall: 0.0286 - learning_rate: 0.0000\n",
      "2025-05-20 09:06:38 - INFO - Validation - accuracy: 0.9439 - auc: 0.7165 - f1_score: 0.0077 - loss: 0.1542 - precision: 0.2293 - recall: 0.0051\n",
      "2025-05-20 09:06:38 - INFO - ==================================================\n",
      "\n"
     ]
    },
    {
     "name": "stdout",
     "output_type": "stream",
     "text": [
      "\u001b[1m813/813\u001b[0m \u001b[32m━━━━━━━━━━━━━━━━━━━━\u001b[0m\u001b[37m\u001b[0m \u001b[1m232s\u001b[0m 285ms/step - accuracy: 0.9205 - auc: 0.6849 - f1_score: 0.0399 - loss: 0.1787 - precision: 0.3656 - recall: 0.0235 - val_accuracy: 0.9439 - val_auc: 0.7165 - val_f1_score: 0.0077 - val_loss: 0.1542 - val_precision: 0.2293 - val_recall: 0.0051 - learning_rate: 5.0000e-05\n"
     ]
    },
    {
     "name": "stderr",
     "output_type": "stream",
     "text": [
      "2025-05-20 09:06:38 - INFO - \n",
      "=== Starting Epoch 6 ===\n",
      "\n"
     ]
    },
    {
     "name": "stdout",
     "output_type": "stream",
     "text": [
      "Epoch 6/100\n",
      "\u001b[1m813/813\u001b[0m \u001b[32m━━━━━━━━━━━━━━━━━━━━\u001b[0m\u001b[37m\u001b[0m \u001b[1m0s\u001b[0m 261ms/step - accuracy: 0.9208 - auc: 0.7077 - f1_score: 0.0579 - loss: 0.1465 - precision: 0.4259 - recall: 0.0366  "
     ]
    },
    {
     "name": "stderr",
     "output_type": "stream",
     "text": [
      "2025-05-20 09:10:27 - INFO - \n",
      "=== Epoch 6 Summary ===\n",
      "2025-05-20 09:10:27 - INFO - Time: 229.05s\n",
      "2025-05-20 09:10:27 - INFO - Training   - accuracy: 0.9211 - auc: 0.7114 - f1_score: 0.0633 - loss: 0.1407 - precision: 0.4307 - recall: 0.0405 - learning_rate: 0.0000\n",
      "2025-05-20 09:10:27 - INFO - Validation - accuracy: 0.9430 - auc: 0.7224 - f1_score: 0.0467 - loss: 0.1321 - precision: 0.3365 - recall: 0.0296\n",
      "2025-05-20 09:10:27 - INFO - ==================================================\n",
      "\n"
     ]
    },
    {
     "name": "stdout",
     "output_type": "stream",
     "text": [
      "\u001b[1m813/813\u001b[0m \u001b[32m━━━━━━━━━━━━━━━━━━━━\u001b[0m\u001b[37m\u001b[0m \u001b[1m229s\u001b[0m 282ms/step - accuracy: 0.9208 - auc: 0.7077 - f1_score: 0.0579 - loss: 0.1465 - precision: 0.4259 - recall: 0.0366 - val_accuracy: 0.9430 - val_auc: 0.7224 - val_f1_score: 0.0467 - val_loss: 0.1321 - val_precision: 0.3365 - val_recall: 0.0296 - learning_rate: 5.0000e-05\n"
     ]
    },
    {
     "name": "stderr",
     "output_type": "stream",
     "text": [
      "2025-05-20 09:10:27 - INFO - \n",
      "=== Starting Epoch 7 ===\n",
      "\n"
     ]
    },
    {
     "name": "stdout",
     "output_type": "stream",
     "text": [
      "Epoch 7/100\n",
      "\u001b[1m813/813\u001b[0m \u001b[32m━━━━━━━━━━━━━━━━━━━━\u001b[0m\u001b[37m\u001b[0m \u001b[1m0s\u001b[0m 265ms/step - accuracy: 0.9212 - auc: 0.7209 - f1_score: 0.0736 - loss: 0.1256 - precision: 0.4458 - recall: 0.0480  "
     ]
    },
    {
     "name": "stderr",
     "output_type": "stream",
     "text": [
      "2025-05-20 09:14:19 - INFO - \n",
      "=== Epoch 7 Summary ===\n",
      "2025-05-20 09:14:19 - INFO - Time: 231.45s\n",
      "2025-05-20 09:14:19 - INFO - Training   - accuracy: 0.9213 - auc: 0.7264 - f1_score: 0.0772 - loss: 0.1215 - precision: 0.4501 - recall: 0.0510 - learning_rate: 0.0000\n",
      "2025-05-20 09:14:19 - INFO - Validation - accuracy: 0.9433 - auc: 0.7338 - f1_score: 0.0682 - loss: 0.1155 - precision: 0.3887 - recall: 0.0411\n",
      "2025-05-20 09:14:19 - INFO - ==================================================\n",
      "\n"
     ]
    },
    {
     "name": "stdout",
     "output_type": "stream",
     "text": [
      "\u001b[1m813/813\u001b[0m \u001b[32m━━━━━━━━━━━━━━━━━━━━\u001b[0m\u001b[37m\u001b[0m \u001b[1m232s\u001b[0m 285ms/step - accuracy: 0.9212 - auc: 0.7209 - f1_score: 0.0736 - loss: 0.1256 - precision: 0.4458 - recall: 0.0480 - val_accuracy: 0.9433 - val_auc: 0.7338 - val_f1_score: 0.0682 - val_loss: 0.1155 - val_precision: 0.3887 - val_recall: 0.0411 - learning_rate: 5.0000e-05\n"
     ]
    },
    {
     "name": "stderr",
     "output_type": "stream",
     "text": [
      "2025-05-20 09:14:19 - INFO - \n",
      "=== Starting Epoch 8 ===\n",
      "\n"
     ]
    },
    {
     "name": "stdout",
     "output_type": "stream",
     "text": [
      "Epoch 8/100\n",
      "\u001b[1m813/813\u001b[0m \u001b[32m━━━━━━━━━━━━━━━━━━━━\u001b[0m\u001b[37m\u001b[0m \u001b[1m0s\u001b[0m 270ms/step - accuracy: 0.9216 - auc: 0.7345 - f1_score: 0.0828 - loss: 0.1112 - precision: 0.4704 - recall: 0.0547  "
     ]
    },
    {
     "name": "stderr",
     "output_type": "stream",
     "text": [
      "2025-05-20 09:18:18 - INFO - \n",
      "=== Epoch 8 Summary ===\n",
      "2025-05-20 09:18:18 - INFO - Time: 239.47s\n",
      "2025-05-20 09:18:18 - INFO - Training   - accuracy: 0.9216 - auc: 0.7384 - f1_score: 0.0864 - loss: 0.1082 - precision: 0.4671 - recall: 0.0576 - learning_rate: 0.0000\n",
      "2025-05-20 09:18:18 - INFO - Validation - accuracy: 0.9451 - auc: 0.7426 - f1_score: 0.0491 - loss: 0.1049 - precision: 0.5844 - recall: 0.0296\n",
      "2025-05-20 09:18:18 - INFO - ==================================================\n",
      "\n"
     ]
    },
    {
     "name": "stdout",
     "output_type": "stream",
     "text": [
      "\u001b[1m813/813\u001b[0m \u001b[32m━━━━━━━━━━━━━━━━━━━━\u001b[0m\u001b[37m\u001b[0m \u001b[1m239s\u001b[0m 295ms/step - accuracy: 0.9216 - auc: 0.7345 - f1_score: 0.0829 - loss: 0.1112 - precision: 0.4704 - recall: 0.0547 - val_accuracy: 0.9451 - val_auc: 0.7426 - val_f1_score: 0.0491 - val_loss: 0.1049 - val_precision: 0.5844 - val_recall: 0.0296 - learning_rate: 5.0000e-05\n"
     ]
    },
    {
     "name": "stderr",
     "output_type": "stream",
     "text": [
      "2025-05-20 09:18:18 - INFO - \n",
      "=== Starting Epoch 9 ===\n",
      "\n"
     ]
    },
    {
     "name": "stdout",
     "output_type": "stream",
     "text": [
      "Epoch 9/100\n",
      "\u001b[1m813/813\u001b[0m \u001b[32m━━━━━━━━━━━━━━━━━━━━\u001b[0m\u001b[37m\u001b[0m \u001b[1m0s\u001b[0m 262ms/step - accuracy: 0.9211 - auc: 0.7441 - f1_score: 0.0961 - loss: 0.1012 - precision: 0.4829 - recall: 0.0651  "
     ]
    },
    {
     "name": "stderr",
     "output_type": "stream",
     "text": [
      "2025-05-20 09:22:08 - INFO - \n",
      "=== Epoch 9 Summary ===\n",
      "2025-05-20 09:22:08 - INFO - Time: 229.92s\n",
      "2025-05-20 09:22:08 - INFO - Training   - accuracy: 0.9218 - auc: 0.7489 - f1_score: 0.0990 - loss: 0.0984 - precision: 0.4830 - recall: 0.0671 - learning_rate: 0.0000\n",
      "2025-05-20 09:22:08 - INFO - Validation - accuracy: 0.9336 - auc: 0.7289 - f1_score: 0.0497 - loss: 0.1068 - precision: 0.1463 - recall: 0.0411\n",
      "2025-05-20 09:22:08 - INFO - ==================================================\n",
      "\n"
     ]
    },
    {
     "name": "stdout",
     "output_type": "stream",
     "text": [
      "\u001b[1m813/813\u001b[0m \u001b[32m━━━━━━━━━━━━━━━━━━━━\u001b[0m\u001b[37m\u001b[0m \u001b[1m230s\u001b[0m 283ms/step - accuracy: 0.9211 - auc: 0.7442 - f1_score: 0.0961 - loss: 0.1012 - precision: 0.4829 - recall: 0.0651 - val_accuracy: 0.9336 - val_auc: 0.7289 - val_f1_score: 0.0497 - val_loss: 0.1068 - val_precision: 0.1463 - val_recall: 0.0411 - learning_rate: 5.0000e-05\n"
     ]
    },
    {
     "name": "stderr",
     "output_type": "stream",
     "text": [
      "2025-05-20 09:22:08 - INFO - \n",
      "=== Starting Epoch 10 ===\n",
      "\n"
     ]
    },
    {
     "name": "stdout",
     "output_type": "stream",
     "text": [
      "Epoch 10/100\n",
      "\u001b[1m813/813\u001b[0m \u001b[32m━━━━━━━━━━━━━━━━━━━━\u001b[0m\u001b[37m\u001b[0m \u001b[1m0s\u001b[0m 273ms/step - accuracy: 0.9218 - auc: 0.7523 - f1_score: 0.1072 - loss: 0.0930 - precision: 0.4945 - recall: 0.0728  \n",
      "Epoch 10: ReduceLROnPlateau reducing learning rate to 2.499999936844688e-05.\n"
     ]
    },
    {
     "name": "stderr",
     "output_type": "stream",
     "text": [
      "2025-05-20 09:26:15 - INFO - \n",
      "=== Epoch 10 Summary ===\n",
      "2025-05-20 09:26:15 - INFO - Time: 246.51s\n",
      "2025-05-20 09:26:15 - INFO - Training   - accuracy: 0.9219 - auc: 0.7569 - f1_score: 0.1084 - loss: 0.0912 - precision: 0.4885 - recall: 0.0740 - learning_rate: 0.0000\n",
      "2025-05-20 09:26:15 - INFO - Validation - accuracy: 0.9426 - auc: 0.7403 - f1_score: 0.0508 - loss: 0.0915 - precision: 0.3211 - recall: 0.0323\n",
      "2025-05-20 09:26:15 - INFO - ==================================================\n",
      "\n"
     ]
    },
    {
     "name": "stdout",
     "output_type": "stream",
     "text": [
      "\u001b[1m813/813\u001b[0m \u001b[32m━━━━━━━━━━━━━━━━━━━━\u001b[0m\u001b[37m\u001b[0m \u001b[1m247s\u001b[0m 303ms/step - accuracy: 0.9218 - auc: 0.7523 - f1_score: 0.1072 - loss: 0.0930 - precision: 0.4945 - recall: 0.0728 - val_accuracy: 0.9426 - val_auc: 0.7403 - val_f1_score: 0.0508 - val_loss: 0.0915 - val_precision: 0.3211 - val_recall: 0.0323 - learning_rate: 5.0000e-05\n"
     ]
    },
    {
     "name": "stderr",
     "output_type": "stream",
     "text": [
      "2025-05-20 09:26:15 - INFO - \n",
      "=== Starting Epoch 11 ===\n",
      "\n"
     ]
    },
    {
     "name": "stdout",
     "output_type": "stream",
     "text": [
      "Epoch 11/100\n",
      "\u001b[1m813/813\u001b[0m \u001b[32m━━━━━━━━━━━━━━━━━━━━\u001b[0m\u001b[37m\u001b[0m \u001b[1m0s\u001b[0m 260ms/step - accuracy: 0.9219 - auc: 0.7732 - f1_score: 0.1272 - loss: 0.0865 - precision: 0.5050 - recall: 0.0886  "
     ]
    },
    {
     "name": "stderr",
     "output_type": "stream",
     "text": [
      "2025-05-20 09:30:17 - INFO - \n",
      "=== Epoch 11 Summary ===\n",
      "2025-05-20 09:30:17 - INFO - Time: 242.84s\n",
      "2025-05-20 09:30:17 - INFO - Training   - accuracy: 0.9224 - auc: 0.7791 - f1_score: 0.1358 - loss: 0.0851 - precision: 0.5082 - recall: 0.0948 - learning_rate: 0.0000\n",
      "2025-05-20 09:30:17 - INFO - Validation - accuracy: 0.9404 - auc: 0.7478 - f1_score: 0.1367 - loss: 0.0886 - precision: 0.3658 - recall: 0.1030\n",
      "2025-05-20 09:30:17 - INFO - ==================================================\n",
      "\n"
     ]
    },
    {
     "name": "stdout",
     "output_type": "stream",
     "text": [
      "\u001b[1m813/813\u001b[0m \u001b[32m━━━━━━━━━━━━━━━━━━━━\u001b[0m\u001b[37m\u001b[0m \u001b[1m243s\u001b[0m 299ms/step - accuracy: 0.9219 - auc: 0.7732 - f1_score: 0.1272 - loss: 0.0865 - precision: 0.5050 - recall: 0.0886 - val_accuracy: 0.9404 - val_auc: 0.7478 - val_f1_score: 0.1367 - val_loss: 0.0886 - val_precision: 0.3658 - val_recall: 0.1030 - learning_rate: 2.5000e-05\n"
     ]
    },
    {
     "name": "stderr",
     "output_type": "stream",
     "text": [
      "2025-05-20 09:30:18 - INFO - \n",
      "=== Starting Epoch 12 ===\n",
      "\n"
     ]
    },
    {
     "name": "stdout",
     "output_type": "stream",
     "text": [
      "Epoch 12/100\n",
      "\u001b[1m813/813\u001b[0m \u001b[32m━━━━━━━━━━━━━━━━━━━━\u001b[0m\u001b[37m\u001b[0m \u001b[1m0s\u001b[0m 260ms/step - accuracy: 0.9223 - auc: 0.7844 - f1_score: 0.1507 - loss: 0.0826 - precision: 0.5193 - recall: 0.1068  "
     ]
    },
    {
     "name": "stderr",
     "output_type": "stream",
     "text": [
      "2025-05-20 09:34:24 - INFO - \n",
      "=== Epoch 12 Summary ===\n",
      "2025-05-20 09:34:24 - INFO - Time: 246.16s\n",
      "2025-05-20 09:34:24 - INFO - Training   - accuracy: 0.9228 - auc: 0.7891 - f1_score: 0.1549 - loss: 0.0817 - precision: 0.5191 - recall: 0.1097 - learning_rate: 0.0000\n",
      "2025-05-20 09:34:24 - INFO - Validation - accuracy: 0.9415 - auc: 0.7599 - f1_score: 0.1481 - loss: 0.0851 - precision: 0.3950 - recall: 0.1045\n",
      "2025-05-20 09:34:24 - INFO - ==================================================\n",
      "\n"
     ]
    },
    {
     "name": "stdout",
     "output_type": "stream",
     "text": [
      "\u001b[1m813/813\u001b[0m \u001b[32m━━━━━━━━━━━━━━━━━━━━\u001b[0m\u001b[37m\u001b[0m \u001b[1m246s\u001b[0m 303ms/step - accuracy: 0.9223 - auc: 0.7844 - f1_score: 0.1507 - loss: 0.0826 - precision: 0.5193 - recall: 0.1068 - val_accuracy: 0.9415 - val_auc: 0.7599 - val_f1_score: 0.1481 - val_loss: 0.0851 - val_precision: 0.3950 - val_recall: 0.1045 - learning_rate: 2.5000e-05\n"
     ]
    },
    {
     "name": "stderr",
     "output_type": "stream",
     "text": [
      "2025-05-20 09:34:24 - INFO - \n",
      "=== Starting Epoch 13 ===\n",
      "\n"
     ]
    },
    {
     "name": "stdout",
     "output_type": "stream",
     "text": [
      "Epoch 13/100\n",
      "\u001b[1m813/813\u001b[0m \u001b[32m━━━━━━━━━━━━━━━━━━━━\u001b[0m\u001b[37m\u001b[0m \u001b[1m0s\u001b[0m 260ms/step - accuracy: 0.9228 - auc: 0.7946 - f1_score: 0.1661 - loss: 0.0798 - precision: 0.5225 - recall: 0.1181  "
     ]
    },
    {
     "name": "stderr",
     "output_type": "stream",
     "text": [
      "2025-05-20 09:38:27 - INFO - \n",
      "=== Epoch 13 Summary ===\n",
      "2025-05-20 09:38:27 - INFO - Time: 243.40s\n",
      "2025-05-20 09:38:27 - INFO - Training   - accuracy: 0.9232 - auc: 0.7987 - f1_score: 0.1721 - loss: 0.0789 - precision: 0.5263 - recall: 0.1235 - learning_rate: 0.0000\n",
      "2025-05-20 09:38:27 - INFO - Validation - accuracy: 0.9422 - auc: 0.7547 - f1_score: 0.1056 - loss: 0.0845 - precision: 0.3895 - recall: 0.0763\n",
      "2025-05-20 09:38:27 - INFO - ==================================================\n",
      "\n"
     ]
    },
    {
     "name": "stdout",
     "output_type": "stream",
     "text": [
      "\u001b[1m813/813\u001b[0m \u001b[32m━━━━━━━━━━━━━━━━━━━━\u001b[0m\u001b[37m\u001b[0m \u001b[1m243s\u001b[0m 299ms/step - accuracy: 0.9228 - auc: 0.7946 - f1_score: 0.1661 - loss: 0.0798 - precision: 0.5225 - recall: 0.1181 - val_accuracy: 0.9422 - val_auc: 0.7547 - val_f1_score: 0.1056 - val_loss: 0.0845 - val_precision: 0.3895 - val_recall: 0.0763 - learning_rate: 2.5000e-05\n"
     ]
    },
    {
     "name": "stderr",
     "output_type": "stream",
     "text": [
      "2025-05-20 09:38:27 - INFO - \n",
      "=== Starting Epoch 14 ===\n",
      "\n"
     ]
    },
    {
     "name": "stdout",
     "output_type": "stream",
     "text": [
      "Epoch 14/100\n",
      "\u001b[1m813/813\u001b[0m \u001b[32m━━━━━━━━━━━━━━━━━━━━\u001b[0m\u001b[37m\u001b[0m \u001b[1m0s\u001b[0m 260ms/step - accuracy: 0.9227 - auc: 0.8038 - f1_score: 0.1854 - loss: 0.0772 - precision: 0.5282 - recall: 0.1351  "
     ]
    },
    {
     "name": "stderr",
     "output_type": "stream",
     "text": [
      "2025-05-20 09:42:32 - INFO - \n",
      "=== Epoch 14 Summary ===\n",
      "2025-05-20 09:42:32 - INFO - Time: 244.39s\n",
      "2025-05-20 09:42:32 - INFO - Training   - accuracy: 0.9235 - auc: 0.8068 - f1_score: 0.1885 - loss: 0.0764 - precision: 0.5333 - recall: 0.1382 - learning_rate: 0.0000\n",
      "2025-05-20 09:42:32 - INFO - Validation - accuracy: 0.9209 - auc: 0.7462 - f1_score: 0.1648 - loss: 0.0919 - precision: 0.2036 - recall: 0.1472\n",
      "2025-05-20 09:42:32 - INFO - ==================================================\n",
      "\n"
     ]
    },
    {
     "name": "stdout",
     "output_type": "stream",
     "text": [
      "\u001b[1m813/813\u001b[0m \u001b[32m━━━━━━━━━━━━━━━━━━━━\u001b[0m\u001b[37m\u001b[0m \u001b[1m244s\u001b[0m 301ms/step - accuracy: 0.9227 - auc: 0.8038 - f1_score: 0.1854 - loss: 0.0772 - precision: 0.5282 - recall: 0.1351 - val_accuracy: 0.9209 - val_auc: 0.7462 - val_f1_score: 0.1648 - val_loss: 0.0919 - val_precision: 0.2036 - val_recall: 0.1472 - learning_rate: 2.5000e-05\n"
     ]
    },
    {
     "name": "stderr",
     "output_type": "stream",
     "text": [
      "2025-05-20 09:42:32 - INFO - \n",
      "=== Starting Epoch 15 ===\n",
      "\n"
     ]
    },
    {
     "name": "stdout",
     "output_type": "stream",
     "text": [
      "Epoch 15/100\n",
      "\u001b[1m813/813\u001b[0m \u001b[32m━━━━━━━━━━━━━━━━━━━━\u001b[0m\u001b[37m\u001b[0m \u001b[1m0s\u001b[0m 260ms/step - accuracy: 0.9237 - auc: 0.8110 - f1_score: 0.2020 - loss: 0.0749 - precision: 0.5380 - recall: 0.1496  "
     ]
    },
    {
     "name": "stderr",
     "output_type": "stream",
     "text": [
      "2025-05-20 09:46:41 - INFO - \n",
      "=== Epoch 15 Summary ===\n",
      "2025-05-20 09:46:41 - INFO - Time: 248.85s\n",
      "2025-05-20 09:46:41 - INFO - Training   - accuracy: 0.9240 - auc: 0.8155 - f1_score: 0.2073 - loss: 0.0742 - precision: 0.5413 - recall: 0.1538 - learning_rate: 0.0000\n",
      "2025-05-20 09:46:41 - INFO - Validation - accuracy: 0.9408 - auc: 0.7460 - f1_score: 0.0922 - loss: 0.0823 - precision: 0.3256 - recall: 0.0646\n",
      "2025-05-20 09:46:41 - INFO - ==================================================\n",
      "\n"
     ]
    },
    {
     "name": "stdout",
     "output_type": "stream",
     "text": [
      "\u001b[1m813/813\u001b[0m \u001b[32m━━━━━━━━━━━━━━━━━━━━\u001b[0m\u001b[37m\u001b[0m \u001b[1m249s\u001b[0m 306ms/step - accuracy: 0.9237 - auc: 0.8110 - f1_score: 0.2020 - loss: 0.0749 - precision: 0.5380 - recall: 0.1496 - val_accuracy: 0.9408 - val_auc: 0.7460 - val_f1_score: 0.0922 - val_loss: 0.0823 - val_precision: 0.3256 - val_recall: 0.0646 - learning_rate: 2.5000e-05\n"
     ]
    },
    {
     "name": "stderr",
     "output_type": "stream",
     "text": [
      "2025-05-20 09:46:41 - INFO - \n",
      "=== Starting Epoch 16 ===\n",
      "\n"
     ]
    },
    {
     "name": "stdout",
     "output_type": "stream",
     "text": [
      "Epoch 16/100\n",
      "\u001b[1m813/813\u001b[0m \u001b[32m━━━━━━━━━━━━━━━━━━━━\u001b[0m\u001b[37m\u001b[0m \u001b[1m0s\u001b[0m 262ms/step - accuracy: 0.9238 - auc: 0.8215 - f1_score: 0.2154 - loss: 0.0732 - precision: 0.5453 - recall: 0.1612  "
     ]
    },
    {
     "name": "stderr",
     "output_type": "stream",
     "text": [
      "2025-05-20 09:50:49 - INFO - \n",
      "=== Epoch 16 Summary ===\n",
      "2025-05-20 09:50:49 - INFO - Time: 248.41s\n",
      "2025-05-20 09:50:49 - INFO - Training   - accuracy: 0.9245 - auc: 0.8243 - f1_score: 0.2212 - loss: 0.0722 - precision: 0.5498 - recall: 0.1655 - learning_rate: 0.0000\n",
      "2025-05-20 09:50:49 - INFO - Validation - accuracy: 0.9304 - auc: 0.7544 - f1_score: 0.1319 - loss: 0.0867 - precision: 0.2323 - recall: 0.1118\n",
      "2025-05-20 09:50:49 - INFO - ==================================================\n",
      "\n"
     ]
    },
    {
     "name": "stdout",
     "output_type": "stream",
     "text": [
      "\u001b[1m813/813\u001b[0m \u001b[32m━━━━━━━━━━━━━━━━━━━━\u001b[0m\u001b[37m\u001b[0m \u001b[1m248s\u001b[0m 306ms/step - accuracy: 0.9238 - auc: 0.8215 - f1_score: 0.2155 - loss: 0.0732 - precision: 0.5453 - recall: 0.1612 - val_accuracy: 0.9304 - val_auc: 0.7544 - val_f1_score: 0.1319 - val_loss: 0.0867 - val_precision: 0.2323 - val_recall: 0.1118 - learning_rate: 2.5000e-05\n"
     ]
    },
    {
     "name": "stderr",
     "output_type": "stream",
     "text": [
      "2025-05-20 09:50:49 - INFO - \n",
      "=== Starting Epoch 17 ===\n",
      "\n"
     ]
    },
    {
     "name": "stdout",
     "output_type": "stream",
     "text": [
      "Epoch 17/100\n",
      "\u001b[1m813/813\u001b[0m \u001b[32m━━━━━━━━━━━━━━━━━━━━\u001b[0m\u001b[37m\u001b[0m \u001b[1m0s\u001b[0m 260ms/step - accuracy: 0.9249 - auc: 0.8281 - f1_score: 0.2384 - loss: 0.0709 - precision: 0.5605 - recall: 0.1797  "
     ]
    },
    {
     "name": "stderr",
     "output_type": "stream",
     "text": [
      "2025-05-20 09:54:50 - INFO - \n",
      "=== Epoch 17 Summary ===\n",
      "2025-05-20 09:54:50 - INFO - Time: 240.51s\n",
      "2025-05-20 09:54:50 - INFO - Training   - accuracy: 0.9255 - auc: 0.8322 - f1_score: 0.2437 - loss: 0.0701 - precision: 0.5640 - recall: 0.1840 - learning_rate: 0.0000\n",
      "2025-05-20 09:54:50 - INFO - Validation - accuracy: 0.9365 - auc: 0.7520 - f1_score: 0.1658 - loss: 0.0818 - precision: 0.3218 - recall: 0.1331\n",
      "2025-05-20 09:54:50 - INFO - ==================================================\n",
      "\n"
     ]
    },
    {
     "name": "stdout",
     "output_type": "stream",
     "text": [
      "\u001b[1m813/813\u001b[0m \u001b[32m━━━━━━━━━━━━━━━━━━━━\u001b[0m\u001b[37m\u001b[0m \u001b[1m241s\u001b[0m 296ms/step - accuracy: 0.9249 - auc: 0.8281 - f1_score: 0.2384 - loss: 0.0709 - precision: 0.5605 - recall: 0.1797 - val_accuracy: 0.9365 - val_auc: 0.7520 - val_f1_score: 0.1658 - val_loss: 0.0818 - val_precision: 0.3218 - val_recall: 0.1331 - learning_rate: 2.5000e-05\n"
     ]
    },
    {
     "name": "stderr",
     "output_type": "stream",
     "text": [
      "2025-05-20 09:54:50 - INFO - \n",
      "=== Starting Epoch 18 ===\n",
      "\n"
     ]
    },
    {
     "name": "stdout",
     "output_type": "stream",
     "text": [
      "Epoch 18/100\n",
      "\u001b[1m813/813\u001b[0m \u001b[32m━━━━━━━━━━━━━━━━━━━━\u001b[0m\u001b[37m\u001b[0m \u001b[1m0s\u001b[0m 260ms/step - accuracy: 0.9251 - auc: 0.8357 - f1_score: 0.2499 - loss: 0.0692 - precision: 0.5620 - recall: 0.1906  "
     ]
    },
    {
     "name": "stderr",
     "output_type": "stream",
     "text": [
      "2025-05-20 09:58:49 - INFO - \n",
      "=== Epoch 18 Summary ===\n",
      "2025-05-20 09:58:49 - INFO - Time: 239.09s\n",
      "2025-05-20 09:58:49 - INFO - Training   - accuracy: 0.9258 - auc: 0.8400 - f1_score: 0.2583 - loss: 0.0683 - precision: 0.5677 - recall: 0.1975 - learning_rate: 0.0000\n",
      "2025-05-20 09:58:49 - INFO - Validation - accuracy: 0.9380 - auc: 0.7473 - f1_score: 0.1352 - loss: 0.0816 - precision: 0.3266 - recall: 0.1120\n",
      "2025-05-20 09:58:49 - INFO - ==================================================\n",
      "\n"
     ]
    },
    {
     "name": "stdout",
     "output_type": "stream",
     "text": [
      "\u001b[1m813/813\u001b[0m \u001b[32m━━━━━━━━━━━━━━━━━━━━\u001b[0m\u001b[37m\u001b[0m \u001b[1m239s\u001b[0m 294ms/step - accuracy: 0.9251 - auc: 0.8357 - f1_score: 0.2499 - loss: 0.0692 - precision: 0.5620 - recall: 0.1906 - val_accuracy: 0.9380 - val_auc: 0.7473 - val_f1_score: 0.1352 - val_loss: 0.0816 - val_precision: 0.3266 - val_recall: 0.1120 - learning_rate: 2.5000e-05\n"
     ]
    },
    {
     "name": "stderr",
     "output_type": "stream",
     "text": [
      "2025-05-20 09:58:49 - INFO - \n",
      "=== Starting Epoch 19 ===\n",
      "\n"
     ]
    },
    {
     "name": "stdout",
     "output_type": "stream",
     "text": [
      "Epoch 19/100\n",
      "\u001b[1m813/813\u001b[0m \u001b[32m━━━━━━━━━━━━━━━━━━━━\u001b[0m\u001b[37m\u001b[0m \u001b[1m0s\u001b[0m 259ms/step - accuracy: 0.9260 - auc: 0.8432 - f1_score: 0.2656 - loss: 0.0675 - precision: 0.5687 - recall: 0.2049  "
     ]
    },
    {
     "name": "stderr",
     "output_type": "stream",
     "text": [
      "2025-05-20 10:03:00 - INFO - \n",
      "=== Epoch 19 Summary ===\n",
      "2025-05-20 10:03:00 - INFO - Time: 251.05s\n",
      "2025-05-20 10:03:00 - INFO - Training   - accuracy: 0.9266 - auc: 0.8472 - f1_score: 0.2753 - loss: 0.0667 - precision: 0.5774 - recall: 0.2117 - learning_rate: 0.0000\n",
      "2025-05-20 10:03:00 - INFO - Validation - accuracy: 0.9357 - auc: 0.7480 - f1_score: 0.1466 - loss: 0.0810 - precision: 0.2937 - recall: 0.1142\n",
      "2025-05-20 10:03:00 - INFO - ==================================================\n",
      "\n"
     ]
    },
    {
     "name": "stdout",
     "output_type": "stream",
     "text": [
      "\u001b[1m813/813\u001b[0m \u001b[32m━━━━━━━━━━━━━━━━━━━━\u001b[0m\u001b[37m\u001b[0m \u001b[1m251s\u001b[0m 309ms/step - accuracy: 0.9260 - auc: 0.8432 - f1_score: 0.2657 - loss: 0.0675 - precision: 0.5687 - recall: 0.2049 - val_accuracy: 0.9357 - val_auc: 0.7480 - val_f1_score: 0.1466 - val_loss: 0.0810 - val_precision: 0.2937 - val_recall: 0.1142 - learning_rate: 2.5000e-05\n"
     ]
    },
    {
     "name": "stderr",
     "output_type": "stream",
     "text": [
      "2025-05-20 10:03:00 - INFO - \n",
      "=== Starting Epoch 20 ===\n",
      "\n"
     ]
    },
    {
     "name": "stdout",
     "output_type": "stream",
     "text": [
      "Epoch 20/100\n",
      "\u001b[1m813/813\u001b[0m \u001b[32m━━━━━━━━━━━━━━━━━━━━\u001b[0m\u001b[37m\u001b[0m \u001b[1m0s\u001b[0m 259ms/step - accuracy: 0.9270 - auc: 0.8526 - f1_score: 0.2935 - loss: 0.0655 - precision: 0.5853 - recall: 0.2270  \n",
      "Epoch 20: ReduceLROnPlateau reducing learning rate to 1.249999968422344e-05.\n"
     ]
    },
    {
     "name": "stderr",
     "output_type": "stream",
     "text": [
      "2025-05-20 10:07:03 - INFO - \n",
      "=== Epoch 20 Summary ===\n",
      "2025-05-20 10:07:03 - INFO - Time: 242.80s\n",
      "2025-05-20 10:07:03 - INFO - Training   - accuracy: 0.9277 - auc: 0.8554 - f1_score: 0.2995 - loss: 0.0648 - precision: 0.5901 - recall: 0.2317 - learning_rate: 0.0000\n",
      "2025-05-20 10:07:03 - INFO - Validation - accuracy: 0.9313 - auc: 0.7558 - f1_score: 0.1422 - loss: 0.0838 - precision: 0.2623 - recall: 0.1326\n",
      "2025-05-20 10:07:03 - INFO - ==================================================\n",
      "\n"
     ]
    },
    {
     "name": "stdout",
     "output_type": "stream",
     "text": [
      "\u001b[1m813/813\u001b[0m \u001b[32m━━━━━━━━━━━━━━━━━━━━\u001b[0m\u001b[37m\u001b[0m \u001b[1m243s\u001b[0m 299ms/step - accuracy: 0.9270 - auc: 0.8526 - f1_score: 0.2935 - loss: 0.0655 - precision: 0.5853 - recall: 0.2270 - val_accuracy: 0.9313 - val_auc: 0.7558 - val_f1_score: 0.1422 - val_loss: 0.0838 - val_precision: 0.2623 - val_recall: 0.1326 - learning_rate: 2.5000e-05\n"
     ]
    },
    {
     "name": "stderr",
     "output_type": "stream",
     "text": [
      "2025-05-20 10:07:03 - INFO - \n",
      "=== Starting Epoch 21 ===\n",
      "\n"
     ]
    },
    {
     "name": "stdout",
     "output_type": "stream",
     "text": [
      "Epoch 21/100\n",
      "\u001b[1m813/813\u001b[0m \u001b[32m━━━━━━━━━━━━━━━━━━━━\u001b[0m\u001b[37m\u001b[0m \u001b[1m0s\u001b[0m 261ms/step - accuracy: 0.9298 - auc: 0.8689 - f1_score: 0.3306 - loss: 0.0624 - precision: 0.6215 - recall: 0.2594  "
     ]
    },
    {
     "name": "stderr",
     "output_type": "stream",
     "text": [
      "2025-05-20 10:11:05 - INFO - \n",
      "=== Epoch 21 Summary ===\n",
      "2025-05-20 10:11:05 - INFO - Time: 241.85s\n",
      "2025-05-20 10:11:05 - INFO - Training   - accuracy: 0.9310 - auc: 0.8743 - f1_score: 0.3463 - loss: 0.0612 - precision: 0.6321 - recall: 0.2718 - learning_rate: 0.0000\n",
      "2025-05-20 10:11:05 - INFO - Validation - accuracy: 0.9381 - auc: 0.7511 - f1_score: 0.1756 - loss: 0.0805 - precision: 0.3580 - recall: 0.1486\n",
      "2025-05-20 10:11:05 - INFO - ==================================================\n",
      "\n"
     ]
    },
    {
     "name": "stdout",
     "output_type": "stream",
     "text": [
      "\u001b[1m813/813\u001b[0m \u001b[32m━━━━━━━━━━━━━━━━━━━━\u001b[0m\u001b[37m\u001b[0m \u001b[1m242s\u001b[0m 298ms/step - accuracy: 0.9298 - auc: 0.8689 - f1_score: 0.3307 - loss: 0.0624 - precision: 0.6215 - recall: 0.2594 - val_accuracy: 0.9381 - val_auc: 0.7511 - val_f1_score: 0.1756 - val_loss: 0.0805 - val_precision: 0.3580 - val_recall: 0.1486 - learning_rate: 1.2500e-05\n"
     ]
    },
    {
     "name": "stderr",
     "output_type": "stream",
     "text": [
      "2025-05-20 10:11:05 - INFO - \n",
      "=== Starting Epoch 22 ===\n",
      "\n"
     ]
    },
    {
     "name": "stdout",
     "output_type": "stream",
     "text": [
      "Epoch 22/100\n",
      "\u001b[1m813/813\u001b[0m \u001b[32m━━━━━━━━━━━━━━━━━━━━\u001b[0m\u001b[37m\u001b[0m \u001b[1m0s\u001b[0m 259ms/step - accuracy: 0.9316 - auc: 0.8784 - f1_score: 0.3629 - loss: 0.0601 - precision: 0.6348 - recall: 0.2876  "
     ]
    },
    {
     "name": "stderr",
     "output_type": "stream",
     "text": [
      "2025-05-20 10:15:05 - INFO - \n",
      "=== Epoch 22 Summary ===\n",
      "2025-05-20 10:15:05 - INFO - Time: 239.78s\n",
      "2025-05-20 10:15:05 - INFO - Training   - accuracy: 0.9323 - auc: 0.8824 - f1_score: 0.3700 - loss: 0.0594 - precision: 0.6419 - recall: 0.2932 - learning_rate: 0.0000\n",
      "2025-05-20 10:15:05 - INFO - Validation - accuracy: 0.9218 - auc: 0.7456 - f1_score: 0.1959 - loss: 0.0891 - precision: 0.2272 - recall: 0.1715\n",
      "2025-05-20 10:15:05 - INFO - ==================================================\n",
      "\n"
     ]
    },
    {
     "name": "stdout",
     "output_type": "stream",
     "text": [
      "\u001b[1m813/813\u001b[0m \u001b[32m━━━━━━━━━━━━━━━━━━━━\u001b[0m\u001b[37m\u001b[0m \u001b[1m240s\u001b[0m 295ms/step - accuracy: 0.9316 - auc: 0.8784 - f1_score: 0.3629 - loss: 0.0601 - precision: 0.6348 - recall: 0.2876 - val_accuracy: 0.9218 - val_auc: 0.7456 - val_f1_score: 0.1959 - val_loss: 0.0891 - val_precision: 0.2272 - val_recall: 0.1715 - learning_rate: 1.2500e-05\n"
     ]
    },
    {
     "name": "stderr",
     "output_type": "stream",
     "text": [
      "2025-05-20 10:15:05 - INFO - \n",
      "=== Starting Epoch 23 ===\n",
      "\n"
     ]
    },
    {
     "name": "stdout",
     "output_type": "stream",
     "text": [
      "Epoch 23/100\n",
      "\u001b[1m813/813\u001b[0m \u001b[32m━━━━━━━━━━━━━━━━━━━━\u001b[0m\u001b[37m\u001b[0m \u001b[1m0s\u001b[0m 259ms/step - accuracy: 0.9324 - auc: 0.8856 - f1_score: 0.3833 - loss: 0.0588 - precision: 0.6459 - recall: 0.3050  "
     ]
    },
    {
     "name": "stderr",
     "output_type": "stream",
     "text": [
      "2025-05-20 10:19:02 - INFO - \n",
      "=== Epoch 23 Summary ===\n",
      "2025-05-20 10:19:02 - INFO - Time: 237.55s\n",
      "2025-05-20 10:19:02 - INFO - Training   - accuracy: 0.9334 - auc: 0.8888 - f1_score: 0.3913 - loss: 0.0580 - precision: 0.6510 - recall: 0.3122 - learning_rate: 0.0000\n",
      "2025-05-20 10:19:02 - INFO - Validation - accuracy: 0.9376 - auc: 0.7591 - f1_score: 0.1394 - loss: 0.0839 - precision: 0.3138 - recall: 0.1071\n",
      "2025-05-20 10:19:02 - INFO - ==================================================\n",
      "\n"
     ]
    },
    {
     "name": "stdout",
     "output_type": "stream",
     "text": [
      "\u001b[1m813/813\u001b[0m \u001b[32m━━━━━━━━━━━━━━━━━━━━\u001b[0m\u001b[37m\u001b[0m \u001b[1m238s\u001b[0m 292ms/step - accuracy: 0.9324 - auc: 0.8856 - f1_score: 0.3833 - loss: 0.0588 - precision: 0.6459 - recall: 0.3050 - val_accuracy: 0.9376 - val_auc: 0.7591 - val_f1_score: 0.1394 - val_loss: 0.0839 - val_precision: 0.3138 - val_recall: 0.1071 - learning_rate: 1.2500e-05\n"
     ]
    },
    {
     "name": "stderr",
     "output_type": "stream",
     "text": [
      "2025-05-20 10:19:02 - INFO - \n",
      "=== Starting Epoch 24 ===\n",
      "\n"
     ]
    },
    {
     "name": "stdout",
     "output_type": "stream",
     "text": [
      "Epoch 24/100\n",
      "\u001b[1m813/813\u001b[0m \u001b[32m━━━━━━━━━━━━━━━━━━━━\u001b[0m\u001b[37m\u001b[0m \u001b[1m0s\u001b[0m 262ms/step - accuracy: 0.9342 - auc: 0.8921 - f1_score: 0.4102 - loss: 0.0572 - precision: 0.6553 - recall: 0.3296  "
     ]
    },
    {
     "name": "stderr",
     "output_type": "stream",
     "text": [
      "2025-05-20 10:23:02 - INFO - \n",
      "=== Epoch 24 Summary ===\n",
      "2025-05-20 10:23:02 - INFO - Time: 239.82s\n",
      "2025-05-20 10:23:02 - INFO - Training   - accuracy: 0.9348 - auc: 0.8953 - f1_score: 0.4157 - loss: 0.0566 - precision: 0.6602 - recall: 0.3343 - learning_rate: 0.0000\n",
      "2025-05-20 10:23:02 - INFO - Validation - accuracy: 0.9289 - auc: 0.7459 - f1_score: 0.1825 - loss: 0.0856 - precision: 0.2659 - recall: 0.1616\n",
      "2025-05-20 10:23:02 - INFO - ==================================================\n",
      "\n"
     ]
    },
    {
     "name": "stdout",
     "output_type": "stream",
     "text": [
      "\u001b[1m813/813\u001b[0m \u001b[32m━━━━━━━━━━━━━━━━━━━━\u001b[0m\u001b[37m\u001b[0m \u001b[1m240s\u001b[0m 295ms/step - accuracy: 0.9342 - auc: 0.8921 - f1_score: 0.4102 - loss: 0.0572 - precision: 0.6553 - recall: 0.3296 - val_accuracy: 0.9289 - val_auc: 0.7459 - val_f1_score: 0.1825 - val_loss: 0.0856 - val_precision: 0.2659 - val_recall: 0.1616 - learning_rate: 1.2500e-05\n"
     ]
    },
    {
     "name": "stderr",
     "output_type": "stream",
     "text": [
      "2025-05-20 10:23:02 - INFO - \n",
      "=== Starting Epoch 25 ===\n",
      "\n"
     ]
    },
    {
     "name": "stdout",
     "output_type": "stream",
     "text": [
      "Epoch 25/100\n",
      "\u001b[1m813/813\u001b[0m \u001b[32m━━━━━━━━━━━━━━━━━━━━\u001b[0m\u001b[37m\u001b[0m \u001b[1m0s\u001b[0m 262ms/step - accuracy: 0.9349 - auc: 0.8980 - f1_score: 0.4222 - loss: 0.0563 - precision: 0.6634 - recall: 0.3408  \n",
      "Epoch 25: ReduceLROnPlateau reducing learning rate to 6.24999984211172e-06.\n"
     ]
    },
    {
     "name": "stderr",
     "output_type": "stream",
     "text": [
      "2025-05-20 10:26:51 - INFO - \n",
      "=== Epoch 25 Summary ===\n",
      "2025-05-20 10:26:51 - INFO - Time: 229.22s\n",
      "2025-05-20 10:26:51 - INFO - Training   - accuracy: 0.9357 - auc: 0.8999 - f1_score: 0.4291 - loss: 0.0558 - precision: 0.6666 - recall: 0.3471 - learning_rate: 0.0000\n",
      "2025-05-20 10:26:51 - INFO - Validation - accuracy: 0.9327 - auc: 0.7439 - f1_score: 0.1875 - loss: 0.0826 - precision: 0.3084 - recall: 0.1726\n",
      "2025-05-20 10:26:51 - INFO - ==================================================\n",
      "\n"
     ]
    },
    {
     "name": "stdout",
     "output_type": "stream",
     "text": [
      "\u001b[1m813/813\u001b[0m \u001b[32m━━━━━━━━━━━━━━━━━━━━\u001b[0m\u001b[37m\u001b[0m \u001b[1m229s\u001b[0m 282ms/step - accuracy: 0.9349 - auc: 0.8980 - f1_score: 0.4222 - loss: 0.0563 - precision: 0.6634 - recall: 0.3408 - val_accuracy: 0.9327 - val_auc: 0.7439 - val_f1_score: 0.1875 - val_loss: 0.0826 - val_precision: 0.3084 - val_recall: 0.1726 - learning_rate: 1.2500e-05\n"
     ]
    },
    {
     "name": "stderr",
     "output_type": "stream",
     "text": [
      "2025-05-20 10:26:51 - INFO - \n",
      "=== Starting Epoch 26 ===\n",
      "\n"
     ]
    },
    {
     "name": "stdout",
     "output_type": "stream",
     "text": [
      "Epoch 26/100\n",
      "\u001b[1m813/813\u001b[0m \u001b[32m━━━━━━━━━━━━━━━━━━━━\u001b[0m\u001b[37m\u001b[0m \u001b[1m0s\u001b[0m 286ms/step - accuracy: 0.9375 - auc: 0.9081 - f1_score: 0.4501 - loss: 0.0542 - precision: 0.6895 - recall: 0.3647  "
     ]
    },
    {
     "name": "stderr",
     "output_type": "stream",
     "text": [
      "2025-05-20 10:31:02 - INFO - \n",
      "=== Epoch 26 Summary ===\n",
      "2025-05-20 10:31:02 - INFO - Time: 250.52s\n",
      "2025-05-20 10:31:02 - INFO - Training   - accuracy: 0.9388 - auc: 0.9117 - f1_score: 0.4617 - loss: 0.0533 - precision: 0.6992 - recall: 0.3750 - learning_rate: 0.0000\n",
      "2025-05-20 10:31:02 - INFO - Validation - accuracy: 0.9311 - auc: 0.7491 - f1_score: 0.2361 - loss: 0.0830 - precision: 0.3068 - recall: 0.1940\n",
      "2025-05-20 10:31:02 - INFO - ==================================================\n",
      "\n"
     ]
    },
    {
     "name": "stdout",
     "output_type": "stream",
     "text": [
      "\u001b[1m813/813\u001b[0m \u001b[32m━━━━━━━━━━━━━━━━━━━━\u001b[0m\u001b[37m\u001b[0m \u001b[1m251s\u001b[0m 308ms/step - accuracy: 0.9375 - auc: 0.9081 - f1_score: 0.4501 - loss: 0.0542 - precision: 0.6895 - recall: 0.3647 - val_accuracy: 0.9311 - val_auc: 0.7491 - val_f1_score: 0.2361 - val_loss: 0.0830 - val_precision: 0.3068 - val_recall: 0.1940 - learning_rate: 6.2500e-06\n"
     ]
    },
    {
     "name": "stderr",
     "output_type": "stream",
     "text": [
      "2025-05-20 10:31:02 - INFO - \n",
      "=== Starting Epoch 27 ===\n",
      "\n"
     ]
    },
    {
     "name": "stdout",
     "output_type": "stream",
     "text": [
      "Epoch 27/100\n",
      "\u001b[1m813/813\u001b[0m \u001b[32m━━━━━━━━━━━━━━━━━━━━\u001b[0m\u001b[37m\u001b[0m \u001b[1m0s\u001b[0m 280ms/step - accuracy: 0.9393 - auc: 0.9141 - f1_score: 0.4759 - loss: 0.0526 - precision: 0.7018 - recall: 0.3896  "
     ]
    },
    {
     "name": "stderr",
     "output_type": "stream",
     "text": [
      "2025-05-20 10:35:07 - INFO - \n",
      "=== Epoch 27 Summary ===\n",
      "2025-05-20 10:35:07 - INFO - Time: 245.37s\n",
      "2025-05-20 10:35:07 - INFO - Training   - accuracy: 0.9401 - auc: 0.9161 - f1_score: 0.4810 - loss: 0.0523 - precision: 0.7063 - recall: 0.3943 - learning_rate: 0.0000\n",
      "2025-05-20 10:35:07 - INFO - Validation - accuracy: 0.9263 - auc: 0.7502 - f1_score: 0.2545 - loss: 0.0847 - precision: 0.2963 - recall: 0.2403\n",
      "2025-05-20 10:35:07 - INFO - ==================================================\n",
      "\n"
     ]
    },
    {
     "name": "stdout",
     "output_type": "stream",
     "text": [
      "\u001b[1m813/813\u001b[0m \u001b[32m━━━━━━━━━━━━━━━━━━━━\u001b[0m\u001b[37m\u001b[0m \u001b[1m245s\u001b[0m 302ms/step - accuracy: 0.9393 - auc: 0.9141 - f1_score: 0.4759 - loss: 0.0526 - precision: 0.7018 - recall: 0.3896 - val_accuracy: 0.9263 - val_auc: 0.7502 - val_f1_score: 0.2545 - val_loss: 0.0847 - val_precision: 0.2963 - val_recall: 0.2403 - learning_rate: 6.2500e-06\n"
     ]
    },
    {
     "name": "stderr",
     "output_type": "stream",
     "text": [
      "2025-05-20 10:35:07 - INFO - \n",
      "=== Starting Epoch 28 ===\n",
      "\n"
     ]
    },
    {
     "name": "stdout",
     "output_type": "stream",
     "text": [
      "Epoch 28/100\n",
      "\u001b[1m813/813\u001b[0m \u001b[32m━━━━━━━━━━━━━━━━━━━━\u001b[0m\u001b[37m\u001b[0m \u001b[1m0s\u001b[0m 280ms/step - accuracy: 0.9409 - auc: 0.9192 - f1_score: 0.4971 - loss: 0.0519 - precision: 0.7086 - recall: 0.4105  "
     ]
    },
    {
     "name": "stderr",
     "output_type": "stream",
     "text": [
      "2025-05-20 10:39:14 - INFO - \n",
      "=== Epoch 28 Summary ===\n",
      "2025-05-20 10:39:14 - INFO - Time: 246.14s\n",
      "2025-05-20 10:39:14 - INFO - Training   - accuracy: 0.9414 - auc: 0.9208 - f1_score: 0.4997 - loss: 0.0514 - precision: 0.7134 - recall: 0.4126 - learning_rate: 0.0000\n",
      "2025-05-20 10:39:14 - INFO - Validation - accuracy: 0.9347 - auc: 0.7481 - f1_score: 0.2002 - loss: 0.0850 - precision: 0.3196 - recall: 0.1581\n",
      "2025-05-20 10:39:14 - INFO - ==================================================\n",
      "\n"
     ]
    },
    {
     "name": "stdout",
     "output_type": "stream",
     "text": [
      "\u001b[1m813/813\u001b[0m \u001b[32m━━━━━━━━━━━━━━━━━━━━\u001b[0m\u001b[37m\u001b[0m \u001b[1m246s\u001b[0m 303ms/step - accuracy: 0.9409 - auc: 0.9192 - f1_score: 0.4971 - loss: 0.0519 - precision: 0.7086 - recall: 0.4105 - val_accuracy: 0.9347 - val_auc: 0.7481 - val_f1_score: 0.2002 - val_loss: 0.0850 - val_precision: 0.3196 - val_recall: 0.1581 - learning_rate: 6.2500e-06\n"
     ]
    },
    {
     "name": "stderr",
     "output_type": "stream",
     "text": [
      "2025-05-20 10:39:14 - INFO - \n",
      "=== Starting Epoch 29 ===\n",
      "\n"
     ]
    },
    {
     "name": "stdout",
     "output_type": "stream",
     "text": [
      "Epoch 29/100\n",
      "\u001b[1m813/813\u001b[0m \u001b[32m━━━━━━━━━━━━━━━━━━━━\u001b[0m\u001b[37m\u001b[0m \u001b[1m0s\u001b[0m 284ms/step - accuracy: 0.9415 - auc: 0.9228 - f1_score: 0.5105 - loss: 0.0510 - precision: 0.7122 - recall: 0.4247  "
     ]
    },
    {
     "name": "stderr",
     "output_type": "stream",
     "text": [
      "2025-05-20 10:43:20 - INFO - \n",
      "=== Epoch 29 Summary ===\n",
      "2025-05-20 10:43:20 - INFO - Time: 246.76s\n",
      "2025-05-20 10:43:20 - INFO - Training   - accuracy: 0.9421 - auc: 0.9243 - f1_score: 0.5114 - loss: 0.0506 - precision: 0.7161 - recall: 0.4250 - learning_rate: 0.0000\n",
      "2025-05-20 10:43:20 - INFO - Validation - accuracy: 0.9319 - auc: 0.7537 - f1_score: 0.2356 - loss: 0.0841 - precision: 0.3227 - recall: 0.2093\n",
      "2025-05-20 10:43:20 - INFO - ==================================================\n",
      "\n"
     ]
    },
    {
     "name": "stdout",
     "output_type": "stream",
     "text": [
      "\u001b[1m813/813\u001b[0m \u001b[32m━━━━━━━━━━━━━━━━━━━━\u001b[0m\u001b[37m\u001b[0m \u001b[1m247s\u001b[0m 304ms/step - accuracy: 0.9415 - auc: 0.9228 - f1_score: 0.5105 - loss: 0.0510 - precision: 0.7122 - recall: 0.4247 - val_accuracy: 0.9319 - val_auc: 0.7537 - val_f1_score: 0.2356 - val_loss: 0.0841 - val_precision: 0.3227 - val_recall: 0.2093 - learning_rate: 6.2500e-06\n"
     ]
    },
    {
     "name": "stderr",
     "output_type": "stream",
     "text": [
      "2025-05-20 10:43:20 - INFO - \n",
      "=== Starting Epoch 30 ===\n",
      "\n"
     ]
    },
    {
     "name": "stdout",
     "output_type": "stream",
     "text": [
      "Epoch 30/100\n",
      "\u001b[1m813/813\u001b[0m \u001b[32m━━━━━━━━━━━━━━━━━━━━\u001b[0m\u001b[37m\u001b[0m \u001b[1m0s\u001b[0m 286ms/step - accuracy: 0.9429 - auc: 0.9265 - f1_score: 0.5213 - loss: 0.0503 - precision: 0.7234 - recall: 0.4337  \n",
      "Epoch 30: ReduceLROnPlateau reducing learning rate to 3.12499992105586e-06.\n"
     ]
    },
    {
     "name": "stderr",
     "output_type": "stream",
     "text": [
      "2025-05-20 10:47:29 - INFO - \n",
      "=== Epoch 30 Summary ===\n",
      "2025-05-20 10:47:29 - INFO - Time: 248.38s\n",
      "2025-05-20 10:47:29 - INFO - Training   - accuracy: 0.9433 - auc: 0.9276 - f1_score: 0.5241 - loss: 0.0500 - precision: 0.7257 - recall: 0.4366 - learning_rate: 0.0000\n",
      "2025-05-20 10:47:29 - INFO - Validation - accuracy: 0.9322 - auc: 0.7440 - f1_score: 0.2223 - loss: 0.0848 - precision: 0.3054 - recall: 0.1764\n",
      "2025-05-20 10:47:29 - INFO - ==================================================\n",
      "\n"
     ]
    },
    {
     "name": "stdout",
     "output_type": "stream",
     "text": [
      "\u001b[1m813/813\u001b[0m \u001b[32m━━━━━━━━━━━━━━━━━━━━\u001b[0m\u001b[37m\u001b[0m \u001b[1m248s\u001b[0m 306ms/step - accuracy: 0.9429 - auc: 0.9265 - f1_score: 0.5214 - loss: 0.0503 - precision: 0.7234 - recall: 0.4337 - val_accuracy: 0.9322 - val_auc: 0.7440 - val_f1_score: 0.2223 - val_loss: 0.0848 - val_precision: 0.3054 - val_recall: 0.1764 - learning_rate: 6.2500e-06\n"
     ]
    },
    {
     "name": "stderr",
     "output_type": "stream",
     "text": [
      "2025-05-20 10:47:29 - INFO - \n",
      "=== Starting Epoch 31 ===\n",
      "\n"
     ]
    },
    {
     "name": "stdout",
     "output_type": "stream",
     "text": [
      "Epoch 31/100\n",
      "\u001b[1m813/813\u001b[0m \u001b[32m━━━━━━━━━━━━━━━━━━━━\u001b[0m\u001b[37m\u001b[0m \u001b[1m0s\u001b[0m 285ms/step - accuracy: 0.9442 - auc: 0.9306 - f1_score: 0.5380 - loss: 0.0494 - precision: 0.7319 - recall: 0.4504  "
     ]
    },
    {
     "name": "stderr",
     "output_type": "stream",
     "text": [
      "2025-05-20 10:51:46 - INFO - \n",
      "=== Epoch 31 Summary ===\n",
      "2025-05-20 10:51:46 - INFO - Time: 257.22s\n",
      "2025-05-20 10:51:46 - INFO - Training   - accuracy: 0.9453 - auc: 0.9333 - f1_score: 0.5452 - loss: 0.0488 - precision: 0.7403 - recall: 0.4568 - learning_rate: 0.0000\n",
      "2025-05-20 10:51:46 - INFO - Validation - accuracy: 0.9324 - auc: 0.7527 - f1_score: 0.2394 - loss: 0.0842 - precision: 0.3243 - recall: 0.2040\n",
      "2025-05-20 10:51:46 - INFO - ==================================================\n",
      "\n"
     ]
    },
    {
     "name": "stdout",
     "output_type": "stream",
     "text": [
      "\u001b[1m813/813\u001b[0m \u001b[32m━━━━━━━━━━━━━━━━━━━━\u001b[0m\u001b[37m\u001b[0m \u001b[1m257s\u001b[0m 316ms/step - accuracy: 0.9442 - auc: 0.9306 - f1_score: 0.5380 - loss: 0.0494 - precision: 0.7319 - recall: 0.4504 - val_accuracy: 0.9324 - val_auc: 0.7527 - val_f1_score: 0.2394 - val_loss: 0.0842 - val_precision: 0.3243 - val_recall: 0.2040 - learning_rate: 3.1250e-06\n"
     ]
    },
    {
     "name": "stderr",
     "output_type": "stream",
     "text": [
      "2025-05-20 10:51:46 - INFO - \n",
      "=== Starting Epoch 32 ===\n",
      "\n"
     ]
    },
    {
     "name": "stdout",
     "output_type": "stream",
     "text": [
      "Epoch 32/100\n",
      "\u001b[1m813/813\u001b[0m \u001b[32m━━━━━━━━━━━━━━━━━━━━\u001b[0m\u001b[37m\u001b[0m \u001b[1m0s\u001b[0m 285ms/step - accuracy: 0.9453 - auc: 0.9348 - f1_score: 0.5513 - loss: 0.0486 - precision: 0.7404 - recall: 0.4643  "
     ]
    },
    {
     "name": "stderr",
     "output_type": "stream",
     "text": [
      "2025-05-20 10:55:54 - INFO - \n",
      "=== Epoch 32 Summary ===\n",
      "2025-05-20 10:55:54 - INFO - Time: 248.10s\n",
      "2025-05-20 10:55:54 - INFO - Training   - accuracy: 0.9460 - auc: 0.9359 - f1_score: 0.5538 - loss: 0.0482 - precision: 0.7430 - recall: 0.4664 - learning_rate: 0.0000\n",
      "2025-05-20 10:55:54 - INFO - Validation - accuracy: 0.9333 - auc: 0.7497 - f1_score: 0.2160 - loss: 0.0843 - precision: 0.3156 - recall: 0.1751\n",
      "2025-05-20 10:55:54 - INFO - ==================================================\n",
      "\n"
     ]
    },
    {
     "name": "stdout",
     "output_type": "stream",
     "text": [
      "\u001b[1m813/813\u001b[0m \u001b[32m━━━━━━━━━━━━━━━━━━━━\u001b[0m\u001b[37m\u001b[0m \u001b[1m248s\u001b[0m 305ms/step - accuracy: 0.9453 - auc: 0.9348 - f1_score: 0.5513 - loss: 0.0486 - precision: 0.7404 - recall: 0.4643 - val_accuracy: 0.9333 - val_auc: 0.7497 - val_f1_score: 0.2160 - val_loss: 0.0843 - val_precision: 0.3156 - val_recall: 0.1751 - learning_rate: 3.1250e-06\n"
     ]
    },
    {
     "name": "stderr",
     "output_type": "stream",
     "text": [
      "2025-05-20 10:55:54 - INFO - \n",
      "=== Starting Epoch 33 ===\n",
      "\n"
     ]
    },
    {
     "name": "stdout",
     "output_type": "stream",
     "text": [
      "Epoch 33/100\n",
      "\u001b[1m813/813\u001b[0m \u001b[32m━━━━━━━━━━━━━━━━━━━━\u001b[0m\u001b[37m\u001b[0m \u001b[1m0s\u001b[0m 287ms/step - accuracy: 0.9461 - auc: 0.9372 - f1_score: 0.5603 - loss: 0.0480 - precision: 0.7477 - recall: 0.4728  \n",
      "Epoch 33: ReduceLROnPlateau reducing learning rate to 1.56249996052793e-06.\n"
     ]
    },
    {
     "name": "stderr",
     "output_type": "stream",
     "text": [
      "2025-05-20 11:00:03 - INFO - \n",
      "=== Epoch 33 Summary ===\n",
      "2025-05-20 11:00:03 - INFO - Time: 248.99s\n",
      "2025-05-20 11:00:03 - INFO - Training   - accuracy: 0.9468 - auc: 0.9383 - f1_score: 0.5641 - loss: 0.0476 - precision: 0.7500 - recall: 0.4765 - learning_rate: 0.0000\n",
      "2025-05-20 11:00:03 - INFO - Validation - accuracy: 0.9341 - auc: 0.7451 - f1_score: 0.2351 - loss: 0.0856 - precision: 0.3314 - recall: 0.1869\n",
      "2025-05-20 11:00:03 - INFO - ==================================================\n",
      "\n"
     ]
    },
    {
     "name": "stdout",
     "output_type": "stream",
     "text": [
      "\u001b[1m813/813\u001b[0m \u001b[32m━━━━━━━━━━━━━━━━━━━━\u001b[0m\u001b[37m\u001b[0m \u001b[1m249s\u001b[0m 306ms/step - accuracy: 0.9461 - auc: 0.9372 - f1_score: 0.5603 - loss: 0.0480 - precision: 0.7477 - recall: 0.4728 - val_accuracy: 0.9341 - val_auc: 0.7451 - val_f1_score: 0.2351 - val_loss: 0.0856 - val_precision: 0.3314 - val_recall: 0.1869 - learning_rate: 3.1250e-06\n"
     ]
    },
    {
     "name": "stderr",
     "output_type": "stream",
     "text": [
      "2025-05-20 11:00:03 - INFO - \n",
      "=== Starting Epoch 34 ===\n",
      "\n"
     ]
    },
    {
     "name": "stdout",
     "output_type": "stream",
     "text": [
      "Epoch 34/100\n",
      "\u001b[1m813/813\u001b[0m \u001b[32m━━━━━━━━━━━━━━━━━━━━\u001b[0m\u001b[37m\u001b[0m \u001b[1m0s\u001b[0m 283ms/step - accuracy: 0.9478 - auc: 0.9398 - f1_score: 0.5742 - loss: 0.0474 - precision: 0.7584 - recall: 0.4861  "
     ]
    },
    {
     "name": "stderr",
     "output_type": "stream",
     "text": [
      "2025-05-20 11:04:10 - INFO - \n",
      "=== Epoch 34 Summary ===\n",
      "2025-05-20 11:04:10 - INFO - Time: 246.47s\n",
      "2025-05-20 11:04:10 - INFO - Training   - accuracy: 0.9483 - auc: 0.9412 - f1_score: 0.5771 - loss: 0.0470 - precision: 0.7616 - recall: 0.4889 - learning_rate: 0.0000\n",
      "2025-05-20 11:04:10 - INFO - Validation - accuracy: 0.9341 - auc: 0.7493 - f1_score: 0.2405 - loss: 0.0845 - precision: 0.3376 - recall: 0.1976\n",
      "2025-05-20 11:04:10 - INFO - ==================================================\n",
      "\n"
     ]
    },
    {
     "name": "stdout",
     "output_type": "stream",
     "text": [
      "\u001b[1m813/813\u001b[0m \u001b[32m━━━━━━━━━━━━━━━━━━━━\u001b[0m\u001b[37m\u001b[0m \u001b[1m246s\u001b[0m 303ms/step - accuracy: 0.9478 - auc: 0.9398 - f1_score: 0.5742 - loss: 0.0474 - precision: 0.7584 - recall: 0.4861 - val_accuracy: 0.9341 - val_auc: 0.7493 - val_f1_score: 0.2405 - val_loss: 0.0845 - val_precision: 0.3376 - val_recall: 0.1976 - learning_rate: 1.5625e-06\n"
     ]
    },
    {
     "name": "stderr",
     "output_type": "stream",
     "text": [
      "2025-05-20 11:04:10 - INFO - \n",
      "=== Starting Epoch 35 ===\n",
      "\n"
     ]
    },
    {
     "name": "stdout",
     "output_type": "stream",
     "text": [
      "Epoch 35/100\n",
      "\u001b[1m813/813\u001b[0m \u001b[32m━━━━━━━━━━━━━━━━━━━━\u001b[0m\u001b[37m\u001b[0m \u001b[1m0s\u001b[0m 281ms/step - accuracy: 0.9481 - auc: 0.9416 - f1_score: 0.5800 - loss: 0.0470 - precision: 0.7567 - recall: 0.4926  "
     ]
    },
    {
     "name": "stderr",
     "output_type": "stream",
     "text": [
      "2025-05-20 11:08:14 - INFO - \n",
      "=== Epoch 35 Summary ===\n",
      "2025-05-20 11:08:14 - INFO - Time: 244.71s\n",
      "2025-05-20 11:08:14 - INFO - Training   - accuracy: 0.9487 - auc: 0.9425 - f1_score: 0.5841 - loss: 0.0467 - precision: 0.7621 - recall: 0.4959 - learning_rate: 0.0000\n",
      "2025-05-20 11:08:14 - INFO - Validation - accuracy: 0.9353 - auc: 0.7468 - f1_score: 0.2264 - loss: 0.0860 - precision: 0.3429 - recall: 0.1833\n",
      "2025-05-20 11:08:14 - INFO - ==================================================\n",
      "\n"
     ]
    },
    {
     "name": "stdout",
     "output_type": "stream",
     "text": [
      "\u001b[1m813/813\u001b[0m \u001b[32m━━━━━━━━━━━━━━━━━━━━\u001b[0m\u001b[37m\u001b[0m \u001b[1m245s\u001b[0m 301ms/step - accuracy: 0.9481 - auc: 0.9416 - f1_score: 0.5800 - loss: 0.0470 - precision: 0.7567 - recall: 0.4926 - val_accuracy: 0.9353 - val_auc: 0.7468 - val_f1_score: 0.2264 - val_loss: 0.0860 - val_precision: 0.3429 - val_recall: 0.1833 - learning_rate: 1.5625e-06\n"
     ]
    },
    {
     "name": "stderr",
     "output_type": "stream",
     "text": [
      "2025-05-20 11:08:14 - INFO - \n",
      "=== Starting Epoch 36 ===\n",
      "\n"
     ]
    },
    {
     "name": "stdout",
     "output_type": "stream",
     "text": [
      "Epoch 36/100\n",
      "\u001b[1m813/813\u001b[0m \u001b[32m━━━━━━━━━━━━━━━━━━━━\u001b[0m\u001b[37m\u001b[0m \u001b[1m0s\u001b[0m 285ms/step - accuracy: 0.9486 - auc: 0.9432 - f1_score: 0.5825 - loss: 0.0466 - precision: 0.7608 - recall: 0.4954  \n",
      "Epoch 36: ReduceLROnPlateau reducing learning rate to 1e-06.\n"
     ]
    },
    {
     "name": "stderr",
     "output_type": "stream",
     "text": [
      "2025-05-20 11:12:22 - INFO - \n",
      "=== Epoch 36 Summary ===\n",
      "2025-05-20 11:12:22 - INFO - Time: 248.02s\n",
      "2025-05-20 11:12:22 - INFO - Training   - accuracy: 0.9492 - auc: 0.9443 - f1_score: 0.5878 - loss: 0.0463 - precision: 0.7656 - recall: 0.5004 - learning_rate: 0.0000\n",
      "2025-05-20 11:12:22 - INFO - Validation - accuracy: 0.9330 - auc: 0.7487 - f1_score: 0.2454 - loss: 0.0852 - precision: 0.3309 - recall: 0.2058\n",
      "2025-05-20 11:12:22 - INFO - ==================================================\n",
      "\n"
     ]
    },
    {
     "name": "stdout",
     "output_type": "stream",
     "text": [
      "\u001b[1m813/813\u001b[0m \u001b[32m━━━━━━━━━━━━━━━━━━━━\u001b[0m\u001b[37m\u001b[0m \u001b[1m248s\u001b[0m 305ms/step - accuracy: 0.9486 - auc: 0.9432 - f1_score: 0.5825 - loss: 0.0466 - precision: 0.7608 - recall: 0.4954 - val_accuracy: 0.9330 - val_auc: 0.7487 - val_f1_score: 0.2454 - val_loss: 0.0852 - val_precision: 0.3309 - val_recall: 0.2058 - learning_rate: 1.5625e-06\n"
     ]
    },
    {
     "name": "stderr",
     "output_type": "stream",
     "text": [
      "2025-05-20 11:12:22 - INFO - \n",
      "=== Starting Epoch 37 ===\n",
      "\n"
     ]
    },
    {
     "name": "stdout",
     "output_type": "stream",
     "text": [
      "Epoch 37/100\n",
      "\u001b[1m813/813\u001b[0m \u001b[32m━━━━━━━━━━━━━━━━━━━━\u001b[0m\u001b[37m\u001b[0m \u001b[1m0s\u001b[0m 286ms/step - accuracy: 0.9491 - auc: 0.9442 - f1_score: 0.5878 - loss: 0.0462 - precision: 0.7630 - recall: 0.5005  "
     ]
    },
    {
     "name": "stderr",
     "output_type": "stream",
     "text": [
      "2025-05-20 11:16:32 - INFO - \n",
      "=== Epoch 37 Summary ===\n",
      "2025-05-20 11:16:32 - INFO - Time: 249.19s\n",
      "2025-05-20 11:16:32 - INFO - Training   - accuracy: 0.9496 - auc: 0.9454 - f1_score: 0.5924 - loss: 0.0460 - precision: 0.7672 - recall: 0.5053 - learning_rate: 0.0000\n",
      "2025-05-20 11:16:32 - INFO - Validation - accuracy: 0.9340 - auc: 0.7487 - f1_score: 0.2365 - loss: 0.0852 - precision: 0.3364 - recall: 0.1961\n",
      "2025-05-20 11:16:32 - INFO - ==================================================\n",
      "\n"
     ]
    },
    {
     "name": "stdout",
     "output_type": "stream",
     "text": [
      "\u001b[1m813/813\u001b[0m \u001b[32m━━━━━━━━━━━━━━━━━━━━\u001b[0m\u001b[37m\u001b[0m \u001b[1m249s\u001b[0m 307ms/step - accuracy: 0.9491 - auc: 0.9442 - f1_score: 0.5878 - loss: 0.0462 - precision: 0.7630 - recall: 0.5005 - val_accuracy: 0.9340 - val_auc: 0.7487 - val_f1_score: 0.2365 - val_loss: 0.0852 - val_precision: 0.3364 - val_recall: 0.1961 - learning_rate: 1.0000e-06\n"
     ]
    },
    {
     "name": "stderr",
     "output_type": "stream",
     "text": [
      "2025-05-20 11:16:32 - INFO - \n",
      "=== Starting Epoch 38 ===\n",
      "\n"
     ]
    },
    {
     "name": "stdout",
     "output_type": "stream",
     "text": [
      "Epoch 38/100\n",
      "\u001b[1m813/813\u001b[0m \u001b[32m━━━━━━━━━━━━━━━━━━━━\u001b[0m\u001b[37m\u001b[0m \u001b[1m0s\u001b[0m 286ms/step - accuracy: 0.9496 - auc: 0.9456 - f1_score: 0.5946 - loss: 0.0460 - precision: 0.7704 - recall: 0.5064  "
     ]
    },
    {
     "name": "stderr",
     "output_type": "stream",
     "text": [
      "2025-05-20 11:20:40 - INFO - \n",
      "=== Epoch 38 Summary ===\n",
      "2025-05-20 11:20:40 - INFO - Time: 248.28s\n",
      "2025-05-20 11:20:40 - INFO - Training   - accuracy: 0.9501 - auc: 0.9463 - f1_score: 0.5972 - loss: 0.0458 - precision: 0.7721 - recall: 0.5093 - learning_rate: 0.0000\n",
      "2025-05-20 11:20:40 - INFO - Validation - accuracy: 0.9341 - auc: 0.7482 - f1_score: 0.2430 - loss: 0.0851 - precision: 0.3388 - recall: 0.2003\n",
      "2025-05-20 11:20:40 - INFO - ==================================================\n",
      "\n"
     ]
    },
    {
     "name": "stdout",
     "output_type": "stream",
     "text": [
      "\u001b[1m813/813\u001b[0m \u001b[32m━━━━━━━━━━━━━━━━━━━━\u001b[0m\u001b[37m\u001b[0m \u001b[1m248s\u001b[0m 305ms/step - accuracy: 0.9496 - auc: 0.9456 - f1_score: 0.5946 - loss: 0.0460 - precision: 0.7704 - recall: 0.5064 - val_accuracy: 0.9341 - val_auc: 0.7482 - val_f1_score: 0.2430 - val_loss: 0.0851 - val_precision: 0.3388 - val_recall: 0.2003 - learning_rate: 1.0000e-06\n"
     ]
    },
    {
     "name": "stderr",
     "output_type": "stream",
     "text": [
      "2025-05-20 11:20:40 - INFO - \n",
      "=== Starting Epoch 39 ===\n",
      "\n"
     ]
    },
    {
     "name": "stdout",
     "output_type": "stream",
     "text": [
      "Epoch 39/100\n",
      "\u001b[1m813/813\u001b[0m \u001b[32m━━━━━━━━━━━━━━━━━━━━\u001b[0m\u001b[37m\u001b[0m \u001b[1m0s\u001b[0m 286ms/step - accuracy: 0.9502 - auc: 0.9467 - f1_score: 0.6009 - loss: 0.0459 - precision: 0.7760 - recall: 0.5130   "
     ]
    },
    {
     "name": "stderr",
     "output_type": "stream",
     "text": [
      "2025-05-20 11:24:49 - INFO - \n",
      "=== Epoch 39 Summary ===\n",
      "2025-05-20 11:24:49 - INFO - Time: 249.00s\n",
      "2025-05-20 11:24:49 - INFO - Training   - accuracy: 0.9505 - auc: 0.9471 - f1_score: 0.6032 - loss: 0.0457 - precision: 0.7739 - recall: 0.5161 - learning_rate: 0.0000\n",
      "2025-05-20 11:24:49 - INFO - Validation - accuracy: 0.9319 - auc: 0.7475 - f1_score: 0.2542 - loss: 0.0854 - precision: 0.3274 - recall: 0.2178\n",
      "2025-05-20 11:24:49 - INFO - ==================================================\n",
      "\n"
     ]
    },
    {
     "name": "stdout",
     "output_type": "stream",
     "text": [
      "\u001b[1m813/813\u001b[0m \u001b[32m━━━━━━━━━━━━━━━━━━━━\u001b[0m\u001b[37m\u001b[0m \u001b[1m249s\u001b[0m 306ms/step - accuracy: 0.9502 - auc: 0.9467 - f1_score: 0.6009 - loss: 0.0459 - precision: 0.7760 - recall: 0.5130 - val_accuracy: 0.9319 - val_auc: 0.7475 - val_f1_score: 0.2542 - val_loss: 0.0854 - val_precision: 0.3274 - val_recall: 0.2178 - learning_rate: 1.0000e-06\n"
     ]
    },
    {
     "name": "stderr",
     "output_type": "stream",
     "text": [
      "2025-05-20 11:24:49 - INFO - \n",
      "=== Starting Epoch 40 ===\n",
      "\n"
     ]
    },
    {
     "name": "stdout",
     "output_type": "stream",
     "text": [
      "Epoch 40/100\n",
      "\u001b[1m813/813\u001b[0m \u001b[32m━━━━━━━━━━━━━━━━━━━━\u001b[0m\u001b[37m\u001b[0m \u001b[1m0s\u001b[0m 287ms/step - accuracy: 0.9506 - auc: 0.9473 - f1_score: 0.6026 - loss: 0.0456 - precision: 0.7738 - recall: 0.5156   "
     ]
    },
    {
     "name": "stderr",
     "output_type": "stream",
     "text": [
      "2025-05-20 11:28:59 - INFO - \n",
      "=== Epoch 40 Summary ===\n",
      "2025-05-20 11:28:59 - INFO - Time: 249.66s\n",
      "2025-05-20 11:28:59 - INFO - Training   - accuracy: 0.9508 - auc: 0.9479 - f1_score: 0.6056 - loss: 0.0455 - precision: 0.7748 - recall: 0.5190 - learning_rate: 0.0000\n",
      "2025-05-20 11:28:59 - INFO - Validation - accuracy: 0.9339 - auc: 0.7468 - f1_score: 0.2351 - loss: 0.0860 - precision: 0.3345 - recall: 0.1961\n",
      "2025-05-20 11:28:59 - INFO - ==================================================\n",
      "\n"
     ]
    },
    {
     "name": "stdout",
     "output_type": "stream",
     "text": [
      "\u001b[1m813/813\u001b[0m \u001b[32m━━━━━━━━━━━━━━━━━━━━\u001b[0m\u001b[37m\u001b[0m \u001b[1m250s\u001b[0m 307ms/step - accuracy: 0.9506 - auc: 0.9473 - f1_score: 0.6026 - loss: 0.0456 - precision: 0.7738 - recall: 0.5156 - val_accuracy: 0.9339 - val_auc: 0.7468 - val_f1_score: 0.2351 - val_loss: 0.0860 - val_precision: 0.3345 - val_recall: 0.1961 - learning_rate: 1.0000e-06\n"
     ]
    },
    {
     "name": "stderr",
     "output_type": "stream",
     "text": [
      "2025-05-20 11:28:59 - INFO - \n",
      "=== Starting Epoch 41 ===\n",
      "\n"
     ]
    },
    {
     "name": "stdout",
     "output_type": "stream",
     "text": [
      "Epoch 41/100\n",
      "\u001b[1m813/813\u001b[0m \u001b[32m━━━━━━━━━━━━━━━━━━━━\u001b[0m\u001b[37m\u001b[0m \u001b[1m0s\u001b[0m 282ms/step - accuracy: 0.9504 - auc: 0.9471 - f1_score: 0.6027 - loss: 0.0457 - precision: 0.7721 - recall: 0.5156  "
     ]
    },
    {
     "name": "stderr",
     "output_type": "stream",
     "text": [
      "2025-05-20 11:33:04 - INFO - \n",
      "=== Epoch 41 Summary ===\n",
      "2025-05-20 11:33:04 - INFO - Time: 245.56s\n",
      "2025-05-20 11:33:04 - INFO - Training   - accuracy: 0.9507 - auc: 0.9479 - f1_score: 0.6053 - loss: 0.0456 - precision: 0.7737 - recall: 0.5184 - learning_rate: 0.0000\n",
      "2025-05-20 11:33:04 - INFO - Validation - accuracy: 0.9323 - auc: 0.7479 - f1_score: 0.2510 - loss: 0.0858 - precision: 0.3278 - recall: 0.2112\n",
      "2025-05-20 11:33:04 - INFO - ==================================================\n",
      "\n"
     ]
    },
    {
     "name": "stdout",
     "output_type": "stream",
     "text": [
      "\u001b[1m813/813\u001b[0m \u001b[32m━━━━━━━━━━━━━━━━━━━━\u001b[0m\u001b[37m\u001b[0m \u001b[1m246s\u001b[0m 302ms/step - accuracy: 0.9504 - auc: 0.9471 - f1_score: 0.6027 - loss: 0.0457 - precision: 0.7721 - recall: 0.5156 - val_accuracy: 0.9323 - val_auc: 0.7479 - val_f1_score: 0.2510 - val_loss: 0.0858 - val_precision: 0.3278 - val_recall: 0.2112 - learning_rate: 1.0000e-06\n"
     ]
    },
    {
     "name": "stderr",
     "output_type": "stream",
     "text": [
      "2025-05-20 11:33:04 - INFO - \n",
      "=== Starting Epoch 42 ===\n",
      "\n"
     ]
    },
    {
     "name": "stdout",
     "output_type": "stream",
     "text": [
      "Epoch 42/100\n",
      "\u001b[1m813/813\u001b[0m \u001b[32m━━━━━━━━━━━━━━━━━━━━\u001b[0m\u001b[37m\u001b[0m \u001b[1m0s\u001b[0m 284ms/step - accuracy: 0.9512 - auc: 0.9488 - f1_score: 0.6106 - loss: 0.0454 - precision: 0.7746 - recall: 0.5247  "
     ]
    },
    {
     "name": "stderr",
     "output_type": "stream",
     "text": [
      "2025-05-20 11:37:11 - INFO - \n",
      "=== Epoch 42 Summary ===\n",
      "2025-05-20 11:37:11 - INFO - Time: 246.84s\n",
      "2025-05-20 11:37:11 - INFO - Training   - accuracy: 0.9513 - auc: 0.9492 - f1_score: 0.6114 - loss: 0.0453 - precision: 0.7754 - recall: 0.5257 - learning_rate: 0.0000\n",
      "2025-05-20 11:37:11 - INFO - Validation - accuracy: 0.9349 - auc: 0.7464 - f1_score: 0.2324 - loss: 0.0867 - precision: 0.3427 - recall: 0.1908\n",
      "2025-05-20 11:37:11 - INFO - ==================================================\n",
      "\n"
     ]
    },
    {
     "name": "stdout",
     "output_type": "stream",
     "text": [
      "\u001b[1m813/813\u001b[0m \u001b[32m━━━━━━━━━━━━━━━━━━━━\u001b[0m\u001b[37m\u001b[0m \u001b[1m247s\u001b[0m 304ms/step - accuracy: 0.9512 - auc: 0.9488 - f1_score: 0.6106 - loss: 0.0454 - precision: 0.7746 - recall: 0.5247 - val_accuracy: 0.9349 - val_auc: 0.7464 - val_f1_score: 0.2324 - val_loss: 0.0867 - val_precision: 0.3427 - val_recall: 0.1908 - learning_rate: 1.0000e-06\n"
     ]
    },
    {
     "name": "stderr",
     "output_type": "stream",
     "text": [
      "2025-05-20 11:37:11 - INFO - \n",
      "=== Training Completed! ===\n",
      "\n",
      "2025-05-20 11:37:11 - INFO - Final Metrics: accuracy: 0.9513 - auc: 0.9492 - f1_score: 0.6114 - loss: 0.0453 - precision: 0.7754 - recall: 0.5257 - val_accuracy: 0.9349 - val_auc: 0.7464 - val_f1_score: 0.2324 - val_loss: 0.0867 - val_precision: 0.3427 - val_recall: 0.1908\n",
      "\n"
     ]
    },
    {
     "name": "stdout",
     "output_type": "stream",
     "text": [
      "Epoch 42: early stopping\n",
      "Restoring model weights from the end of the best epoch: 27.\n"
     ]
    }
   ],
   "source": [
    "# Model Training\n",
    "model          = build_densenet121(num_classes)\n",
    "optimizer      = Adam(learning_rate=1e-4)\n",
    "compile_kwargs = {'optimizer': optimizer, 'loss': loss, 'metrics': metrics}\n",
    "\n",
    "history, model = start_or_resume_training(\n",
    "    model, \n",
    "    compile_kwargs, \n",
    "    train_ds, \n",
    "    val_ds, \n",
    "    TF_MAX_EPOCHS,\n",
    "    steps_per_epoch, \n",
    "    validation_steps, \n",
    "    class_weights=class_weights,\n",
    "    callbacks=[checkpoint, best_checkpoint, reduce_lr, training_logger, metrics_monitor, early_stopping], \n",
    "    checkpoint_path=checkpoint_path,\n",
    "    initial_epoch=initial_epoch,\n",
    "    output_dir=MODELS_PATH,\n",
    "    model_name=model_name,\n",
    "    logger=logger\n",
    ")"
   ]
  },
  {
   "cell_type": "code",
   "execution_count": null,
   "id": "048b711f-28f1-433d-ac5b-b8729218ef96",
   "metadata": {},
   "outputs": [],
   "source": []
  }
 ],
 "metadata": {
  "kernelspec": {
   "display_name": "Python 3 (ipykernel)",
   "language": "python",
   "name": "python3"
  },
  "language_info": {
   "codemirror_mode": {
    "name": "ipython",
    "version": 3
   },
   "file_extension": ".py",
   "mimetype": "text/x-python",
   "name": "python",
   "nbconvert_exporter": "python",
   "pygments_lexer": "ipython3",
   "version": "3.10.16"
  }
 },
 "nbformat": 4,
 "nbformat_minor": 5
}
