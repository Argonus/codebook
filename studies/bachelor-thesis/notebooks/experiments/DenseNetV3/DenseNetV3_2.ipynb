{
 "cells": [
  {
   "cell_type": "code",
   "execution_count": 1,
   "id": "b694919a-9b18-4068-8e69-7258de889dff",
   "metadata": {},
   "outputs": [
    {
     "name": "stderr",
     "output_type": "stream",
     "text": [
      "2025-05-21 23:51:12.502314: E external/local_xla/xla/stream_executor/cuda/cuda_fft.cc:467] Unable to register cuFFT factory: Attempting to register factory for plugin cuFFT when one has already been registered\n",
      "WARNING: All log messages before absl::InitializeLog() is called are written to STDERR\n",
      "E0000 00:00:1747864272.603078    4304 cuda_dnn.cc:8579] Unable to register cuDNN factory: Attempting to register factory for plugin cuDNN when one has already been registered\n",
      "E0000 00:00:1747864272.632266    4304 cuda_blas.cc:1407] Unable to register cuBLAS factory: Attempting to register factory for plugin cuBLAS when one has already been registered\n",
      "W0000 00:00:1747864272.871244    4304 computation_placer.cc:177] computation placer already registered. Please check linkage and avoid linking the same target more than once.\n",
      "W0000 00:00:1747864272.871251    4304 computation_placer.cc:177] computation placer already registered. Please check linkage and avoid linking the same target more than once.\n",
      "W0000 00:00:1747864272.871253    4304 computation_placer.cc:177] computation placer already registered. Please check linkage and avoid linking the same target more than once.\n",
      "W0000 00:00:1747864272.871253    4304 computation_placer.cc:177] computation placer already registered. Please check linkage and avoid linking the same target more than once.\n"
     ]
    },
    {
     "name": "stdout",
     "output_type": "stream",
     "text": [
      "\n",
      "GPU configuration successful!\n",
      "Device: /physical_device:GPU:0\n",
      "Memory limit: 18.0 GB\n",
      "\n",
      "TensorFlow optimizations status:\n",
      "- CPU Threads: 16 intra-op, 9 inter-op (32 cores total)\n",
      "- XLA JIT: enabled (autoclustering)\n",
      "- Synchronous Execution: enabled\n",
      "\n",
      "GPU Device Details:\n",
      "- Device: GPU /physical_device:GPU:0\n",
      "- Memory limit: 18.0 GB\n"
     ]
    },
    {
     "name": "stderr",
     "output_type": "stream",
     "text": [
      "I0000 00:00:1747864276.441032    4304 gpu_process_state.cc:208] Using CUDA malloc Async allocator for GPU: 0\n",
      "I0000 00:00:1747864276.441876    4304 gpu_device.cc:2019] Created device /job:localhost/replica:0/task:0/device:GPU:0 with 19327352832 MB memory:  -> device: 0, name: NVIDIA GeForce RTX 3090 Ti, pci bus id: 0000:01:00.0, compute capability: 8.6\n"
     ]
    }
   ],
   "source": [
    "# Import dependencies\n",
    "import os\n",
    "\n",
    "os.environ['TF_CPP_MIN_VLOG_LEVEL'] = '0'\n",
    "os.environ['TF_CPP_MIN_LOG_LEVEL'] = '2'\n",
    "os.environ['TF_GPU_ALLOCATOR'] = 'cuda_malloc_async'\n",
    "os.environ['TF_FORCE_GPU_ALLOW_GROWTH'] = 'true'\n",
    "\n",
    "from src.utils.gpu_config import configure_gpu, optimize_tensorflow\n",
    "\n",
    "configure_gpu()\n",
    "optimize_tensorflow()"
   ]
  },
  {
   "cell_type": "code",
   "execution_count": 2,
   "id": "2b854daf-5f2a-4c33-9180-5081cd415b16",
   "metadata": {},
   "outputs": [],
   "source": [
    "# Import Tensorflow Keras\n",
    "from tensorflow.keras.optimizers import Adam\n",
    "from tensorflow.keras.losses import BinaryFocalCrossentropy\n",
    "from tensorflow.keras.callbacks import ReduceLROnPlateau, ModelCheckpoint\n",
    "\n",
    "# Import local modules\n",
    "from src.utils.consts import TF_RECORD_DATASET, MODELS_PATH, TF_BUFFER_SIZE, TF_SHUFFLE_SIZE, TF_BATCH_SIZE, TF_MAX_EPOCHS\n",
    "from src.model.tensorflow_utils import load_dataset, optimize_dataset, count_dataset_size, get_num_classes, get_metrics\n",
    "from src.model.tensorflow_utils import setup_logger, setup_training_logger, setup_metrics_monitor, setup_early_stopping, filter_no_finding_class\n",
    "from src.model.tensorflow_utils import start_or_resume_training, apply_augmentation_to_dataset, calculate_class_weights, oversample_minority_classes\n",
    "from src.model.densnet.tensorflow_dense_net_121 import build_densenet121\n",
    "\n",
    "# Input Data\n",
    "initial_epoch   = None\n",
    "resume_training = False\n",
    "checkpoint_path = None\n",
    "set_name        = \"DenseNetV3\"\n",
    "model_name      = f\"{set_name}_2\"\n",
    "num_classes     = get_num_classes()\n",
    "\n",
    "train_ds = load_dataset(f\"{TF_RECORD_DATASET}/train.tfrecord\", TF_BUFFER_SIZE)\n",
    "val_ds   = load_dataset(f\"{TF_RECORD_DATASET}/val.tfrecord\", TF_BUFFER_SIZE)\n",
    "\n",
    "train_ds = filter_no_finding_class(train_ds)\n",
    "val_ds   = filter_no_finding_class(val_ds)\n",
    "\n",
    "class_weights = calculate_class_weights(train_ds, num_classes)\n",
    "train_ds      = oversample_minority_classes(train_ds, class_weights)\n",
    "class_weights = calculate_class_weights(train_ds, num_classes)"
   ]
  },
  {
   "cell_type": "code",
   "execution_count": 3,
   "id": "5f152b8a-8ff8-4095-9815-e304ce2beb52",
   "metadata": {},
   "outputs": [
    {
     "name": "stderr",
     "output_type": "stream",
     "text": [
      "Counting samples: 104166 samples [00:43, 2399.01 samples/s] \n",
      "Counting samples: 15431 samples [00:14, 1044.26 samples/s]\n"
     ]
    }
   ],
   "source": [
    "steps_per_epoch  = int(count_dataset_size(train_ds, None) / TF_BATCH_SIZE)\n",
    "validation_steps = int(count_dataset_size(val_ds, None) / TF_BATCH_SIZE)\n",
    "\n",
    "# Disable Advanced Augmentations\n",
    "probability = {\n",
    "    \"intensity_scaling\": 0,\n",
    "    \"adaptive_histogram\": 0,\n",
    "    \"zoom\": 0,\n",
    "    \"cutout\": 0\n",
    "}\n",
    "\n",
    "train_ds = train_ds.shuffle(TF_SHUFFLE_SIZE, reshuffle_each_iteration=True)\n",
    "train_ds = apply_augmentation_to_dataset(train_ds, probability)\n",
    "train_ds = optimize_dataset(train_ds, TF_BATCH_SIZE)\n",
    "\n",
    "val_ds   = optimize_dataset(val_ds, TF_BATCH_SIZE)"
   ]
  },
  {
   "cell_type": "code",
   "execution_count": 4,
   "id": "3a0e37c9-b178-40d8-bd25-8c0a6498564a",
   "metadata": {},
   "outputs": [],
   "source": [
    "# Setup Model Deps\n",
    "logger            = setup_logger()\n",
    "training_logger   = setup_training_logger(logger, TF_BATCH_SIZE, 100)\n",
    "metrics_monitor   = setup_metrics_monitor(MODELS_PATH, model_name, logger, resume_training=resume_training, initial_epoch=initial_epoch)\n",
    "metrics           = get_metrics()\n",
    "\n",
    "# Setup compile arguments\n",
    "loss           = BinaryFocalCrossentropy(gamma=2.0, from_logits=False, label_smoothing=0.10)\n",
    "reduce_lr      = ReduceLROnPlateau(monitor=\"val_f1_score\", factor=0.5,  patience=3, min_lr=1e-6, mode=\"max\", verbose=1)\n",
    "early_stopping = setup_early_stopping()\n",
    "\n",
    "epoch_mode           = 'cp-{epoch:04d}'\n",
    "save_checkpoint_path = f\"{MODELS_PATH}/{model_name}/checkpoints/{epoch_mode}.keras\"\n",
    "checkpoint           = ModelCheckpoint(save_checkpoint_path, monitor=\"val_f1_score\", save_best_only=False, mode=\"max\", save_weights_only=False)\n",
    "\n",
    "model_path      = f\"{MODELS_PATH}/{model_name}.keras\"\n",
    "best_checkpoint = ModelCheckpoint(model_path, monitor=\"val_f1_score\", save_best_only=True, mode=\"max\", save_weights_only=False)"
   ]
  },
  {
   "cell_type": "code",
   "execution_count": 5,
   "id": "c44d4a9a-ffbb-4917-a702-c35773b9857c",
   "metadata": {},
   "outputs": [
    {
     "name": "stderr",
     "output_type": "stream",
     "text": [
      "2025-05-21 23:54:06 - INFO - \n",
      "=== Training Started ===\n",
      "\n",
      "2025-05-21 23:54:06 - INFO - Batch Size: 128\n",
      "2025-05-21 23:54:06 - INFO - Optimizer: Adam\n",
      "2025-05-21 23:54:06 - INFO - \n",
      "==================================================\n",
      "\n",
      "2025-05-21 23:54:06 - INFO - \n",
      "=== Starting Epoch 1 ===\n",
      "\n"
     ]
    },
    {
     "name": "stdout",
     "output_type": "stream",
     "text": [
      "Epoch 1/100\n"
     ]
    },
    {
     "name": "stderr",
     "output_type": "stream",
     "text": [
      "WARNING: All log messages before absl::InitializeLog() is called are written to STDERR\n",
      "I0000 00:00:1747864456.735550    4366 service.cc:152] XLA service 0x737f9c003020 initialized for platform CUDA (this does not guarantee that XLA will be used). Devices:\n",
      "I0000 00:00:1747864456.735567    4366 service.cc:160]   StreamExecutor device (0): NVIDIA GeForce RTX 3090 Ti, Compute Capability 8.6\n",
      "I0000 00:00:1747864456.754109    4366 cuda_dnn.cc:529] Loaded cuDNN version 90300\n",
      "I0000 00:00:1747864456.835428    4366 device_compiler.h:188] Compiled cluster using XLA!  This line is logged at most once for the lifetime of the process.\n"
     ]
    },
    {
     "name": "stdout",
     "output_type": "stream",
     "text": [
      "\u001b[1m813/813\u001b[0m \u001b[32m━━━━━━━━━━━━━━━━━━━━\u001b[0m\u001b[37m\u001b[0m \u001b[1m0s\u001b[0m 258ms/step - accuracy: 0.9062 - auc: 0.5524 - f1_score: 0.0473 - loss: 1.8423 - precision: 0.1389 - recall: 0.0317  "
     ]
    },
    {
     "name": "stderr",
     "output_type": "stream",
     "text": [
      "2025-05-21 23:59:43 - INFO - \n",
      "=== Epoch 1 Summary ===\n",
      "2025-05-21 23:59:43 - INFO - Time: 337.58s\n",
      "2025-05-21 23:59:43 - INFO - Training   - accuracy: 0.9158 - auc: 0.5756 - f1_score: 0.0371 - loss: 1.5681 - precision: 0.1715 - recall: 0.0215 - learning_rate: 0.0001\n",
      "2025-05-21 23:59:43 - INFO - Validation - accuracy: 0.9445 - auc: 0.6464 - f1_score: 0.0025 - loss: 1.0791 - precision: 0.2778 - recall: 0.0013\n",
      "2025-05-21 23:59:43 - INFO - ==================================================\n",
      "\n"
     ]
    },
    {
     "name": "stdout",
     "output_type": "stream",
     "text": [
      "\u001b[1m813/813\u001b[0m \u001b[32m━━━━━━━━━━━━━━━━━━━━\u001b[0m\u001b[37m\u001b[0m \u001b[1m338s\u001b[0m 289ms/step - accuracy: 0.9062 - auc: 0.5525 - f1_score: 0.0473 - loss: 1.8419 - precision: 0.1389 - recall: 0.0317 - val_accuracy: 0.9445 - val_auc: 0.6464 - val_f1_score: 0.0025 - val_loss: 1.0791 - val_precision: 0.2778 - val_recall: 0.0013 - learning_rate: 1.0000e-04\n"
     ]
    },
    {
     "name": "stderr",
     "output_type": "stream",
     "text": [
      "2025-05-21 23:59:43 - INFO - \n",
      "=== Starting Epoch 2 ===\n",
      "\n"
     ]
    },
    {
     "name": "stdout",
     "output_type": "stream",
     "text": [
      "Epoch 2/100\n",
      "\u001b[1m813/813\u001b[0m \u001b[32m━━━━━━━━━━━━━━━━━━━━\u001b[0m\u001b[37m\u001b[0m \u001b[1m0s\u001b[0m 262ms/step - accuracy: 0.9191 - auc: 0.6068 - f1_score: 0.0281 - loss: 0.9139 - precision: 0.2480 - recall: 0.0157  "
     ]
    },
    {
     "name": "stderr",
     "output_type": "stream",
     "text": [
      "2025-05-22 00:04:37 - INFO - \n",
      "=== Epoch 2 Summary ===\n",
      "2025-05-22 00:04:37 - INFO - Time: 293.25s\n",
      "2025-05-22 00:04:37 - INFO - Training   - accuracy: 0.9199 - auc: 0.6148 - f1_score: 0.0274 - loss: 0.7708 - precision: 0.2580 - recall: 0.0153 - learning_rate: 0.0001\n",
      "2025-05-22 00:04:37 - INFO - Validation - accuracy: 0.9445 - auc: 0.6612 - f1_score: 0.0002 - loss: 0.5315 - precision: 0.0625 - recall: 0.0002\n",
      "2025-05-22 00:04:37 - INFO - ==================================================\n",
      "\n"
     ]
    },
    {
     "name": "stdout",
     "output_type": "stream",
     "text": [
      "\u001b[1m813/813\u001b[0m \u001b[32m━━━━━━━━━━━━━━━━━━━━\u001b[0m\u001b[37m\u001b[0m \u001b[1m293s\u001b[0m 283ms/step - accuracy: 0.9191 - auc: 0.6068 - f1_score: 0.0281 - loss: 0.9137 - precision: 0.2480 - recall: 0.0157 - val_accuracy: 0.9445 - val_auc: 0.6612 - val_f1_score: 1.5369e-04 - val_loss: 0.5315 - val_precision: 0.0625 - val_recall: 1.6793e-04 - learning_rate: 1.0000e-04\n"
     ]
    },
    {
     "name": "stderr",
     "output_type": "stream",
     "text": [
      "2025-05-22 00:04:37 - INFO - \n",
      "=== Starting Epoch 3 ===\n",
      "\n"
     ]
    },
    {
     "name": "stdout",
     "output_type": "stream",
     "text": [
      "Epoch 3/100\n",
      "\u001b[1m813/813\u001b[0m \u001b[32m━━━━━━━━━━━━━━━━━━━━\u001b[0m\u001b[37m\u001b[0m \u001b[1m0s\u001b[0m 266ms/step - accuracy: 0.9197 - auc: 0.6303 - f1_score: 0.0232 - loss: 0.4530 - precision: 0.2563 - recall: 0.0129  "
     ]
    },
    {
     "name": "stderr",
     "output_type": "stream",
     "text": [
      "2025-05-22 00:08:30 - INFO - \n",
      "=== Epoch 3 Summary ===\n",
      "2025-05-22 00:08:30 - INFO - Time: 233.14s\n",
      "2025-05-22 00:08:30 - INFO - Training   - accuracy: 0.9204 - auc: 0.6385 - f1_score: 0.0247 - loss: 0.3885 - precision: 0.2691 - recall: 0.0136 - learning_rate: 0.0001\n",
      "2025-05-22 00:08:30 - INFO - Validation - accuracy: 0.9446 - auc: 0.6653 - f1_score: 0.0020 - loss: 0.2849 - precision: 0.4444 - recall: 0.0010\n",
      "2025-05-22 00:08:30 - INFO - ==================================================\n",
      "\n"
     ]
    },
    {
     "name": "stdout",
     "output_type": "stream",
     "text": [
      "\u001b[1m813/813\u001b[0m \u001b[32m━━━━━━━━━━━━━━━━━━━━\u001b[0m\u001b[37m\u001b[0m \u001b[1m233s\u001b[0m 287ms/step - accuracy: 0.9197 - auc: 0.6303 - f1_score: 0.0232 - loss: 0.4530 - precision: 0.2563 - recall: 0.0129 - val_accuracy: 0.9446 - val_auc: 0.6653 - val_f1_score: 0.0020 - val_loss: 0.2849 - val_precision: 0.4444 - val_recall: 0.0010 - learning_rate: 1.0000e-04\n"
     ]
    },
    {
     "name": "stderr",
     "output_type": "stream",
     "text": [
      "2025-05-22 00:08:30 - INFO - \n",
      "=== Starting Epoch 4 ===\n",
      "\n"
     ]
    },
    {
     "name": "stdout",
     "output_type": "stream",
     "text": [
      "Epoch 4/100\n",
      "\u001b[1m813/813\u001b[0m \u001b[32m━━━━━━━━━━━━━━━━━━━━\u001b[0m\u001b[37m\u001b[0m \u001b[1m0s\u001b[0m 261ms/step - accuracy: 0.9201 - auc: 0.6508 - f1_score: 0.0251 - loss: 0.2479 - precision: 0.2756 - recall: 0.0140  \n",
      "Epoch 4: ReduceLROnPlateau reducing learning rate to 4.999999873689376e-05.\n"
     ]
    },
    {
     "name": "stderr",
     "output_type": "stream",
     "text": [
      "2025-05-22 00:12:18 - INFO - \n",
      "=== Epoch 4 Summary ===\n",
      "2025-05-22 00:12:18 - INFO - Time: 228.61s\n",
      "2025-05-22 00:12:18 - INFO - Training   - accuracy: 0.9204 - auc: 0.6603 - f1_score: 0.0284 - loss: 0.2196 - precision: 0.2974 - recall: 0.0161 - learning_rate: 0.0001\n",
      "2025-05-22 00:12:18 - INFO - Validation - accuracy: 0.9446 - auc: 0.6913 - f1_score: 0.0015 - loss: 0.1727 - precision: 0.3333 - recall: 0.0008\n",
      "2025-05-22 00:12:18 - INFO - ==================================================\n",
      "\n"
     ]
    },
    {
     "name": "stdout",
     "output_type": "stream",
     "text": [
      "\u001b[1m813/813\u001b[0m \u001b[32m━━━━━━━━━━━━━━━━━━━━\u001b[0m\u001b[37m\u001b[0m \u001b[1m229s\u001b[0m 281ms/step - accuracy: 0.9201 - auc: 0.6508 - f1_score: 0.0252 - loss: 0.2478 - precision: 0.2756 - recall: 0.0140 - val_accuracy: 0.9446 - val_auc: 0.6913 - val_f1_score: 0.0015 - val_loss: 0.1727 - val_precision: 0.3333 - val_recall: 7.5567e-04 - learning_rate: 1.0000e-04\n"
     ]
    },
    {
     "name": "stderr",
     "output_type": "stream",
     "text": [
      "2025-05-22 00:12:18 - INFO - \n",
      "=== Starting Epoch 5 ===\n",
      "\n"
     ]
    },
    {
     "name": "stdout",
     "output_type": "stream",
     "text": [
      "Epoch 5/100\n",
      "\u001b[1m813/813\u001b[0m \u001b[32m━━━━━━━━━━━━━━━━━━━━\u001b[0m\u001b[37m\u001b[0m \u001b[1m0s\u001b[0m 262ms/step - accuracy: 0.9205 - auc: 0.6911 - f1_score: 0.0477 - loss: 0.1620 - precision: 0.3828 - recall: 0.0291  "
     ]
    },
    {
     "name": "stderr",
     "output_type": "stream",
     "text": [
      "2025-05-22 00:16:10 - INFO - \n",
      "=== Epoch 5 Summary ===\n",
      "2025-05-22 00:16:10 - INFO - Time: 231.21s\n",
      "2025-05-22 00:16:10 - INFO - Training   - accuracy: 0.9209 - auc: 0.6998 - f1_score: 0.0517 - loss: 0.1544 - precision: 0.3961 - recall: 0.0323 - learning_rate: 0.0000\n",
      "2025-05-22 00:16:10 - INFO - Validation - accuracy: 0.9445 - auc: 0.7206 - f1_score: 0.0271 - loss: 0.1416 - precision: 0.4660 - recall: 0.0149\n",
      "2025-05-22 00:16:10 - INFO - ==================================================\n",
      "\n"
     ]
    },
    {
     "name": "stdout",
     "output_type": "stream",
     "text": [
      "\u001b[1m813/813\u001b[0m \u001b[32m━━━━━━━━━━━━━━━━━━━━\u001b[0m\u001b[37m\u001b[0m \u001b[1m232s\u001b[0m 285ms/step - accuracy: 0.9205 - auc: 0.6911 - f1_score: 0.0477 - loss: 0.1620 - precision: 0.3828 - recall: 0.0291 - val_accuracy: 0.9445 - val_auc: 0.7206 - val_f1_score: 0.0271 - val_loss: 0.1416 - val_precision: 0.4660 - val_recall: 0.0149 - learning_rate: 5.0000e-05\n"
     ]
    },
    {
     "name": "stderr",
     "output_type": "stream",
     "text": [
      "2025-05-22 00:16:10 - INFO - \n",
      "=== Starting Epoch 6 ===\n",
      "\n"
     ]
    },
    {
     "name": "stdout",
     "output_type": "stream",
     "text": [
      "Epoch 6/100\n",
      "\u001b[1m813/813\u001b[0m \u001b[32m━━━━━━━━━━━━━━━━━━━━\u001b[0m\u001b[37m\u001b[0m \u001b[1m0s\u001b[0m 263ms/step - accuracy: 0.9207 - auc: 0.7116 - f1_score: 0.0609 - loss: 0.1352 - precision: 0.4215 - recall: 0.0389  "
     ]
    },
    {
     "name": "stderr",
     "output_type": "stream",
     "text": [
      "2025-05-22 00:20:01 - INFO - \n",
      "=== Epoch 6 Summary ===\n",
      "2025-05-22 00:20:01 - INFO - Time: 230.69s\n",
      "2025-05-22 00:20:01 - INFO - Training   - accuracy: 0.9212 - auc: 0.7165 - f1_score: 0.0677 - loss: 0.1299 - precision: 0.4376 - recall: 0.0439 - learning_rate: 0.0000\n",
      "2025-05-22 00:20:01 - INFO - Validation - accuracy: 0.9430 - auc: 0.7182 - f1_score: 0.0840 - loss: 0.1272 - precision: 0.4019 - recall: 0.0594\n",
      "2025-05-22 00:20:01 - INFO - ==================================================\n",
      "\n"
     ]
    },
    {
     "name": "stdout",
     "output_type": "stream",
     "text": [
      "\u001b[1m813/813\u001b[0m \u001b[32m━━━━━━━━━━━━━━━━━━━━\u001b[0m\u001b[37m\u001b[0m \u001b[1m231s\u001b[0m 284ms/step - accuracy: 0.9207 - auc: 0.7116 - f1_score: 0.0609 - loss: 0.1352 - precision: 0.4215 - recall: 0.0389 - val_accuracy: 0.9430 - val_auc: 0.7182 - val_f1_score: 0.0840 - val_loss: 0.1272 - val_precision: 0.4019 - val_recall: 0.0594 - learning_rate: 5.0000e-05\n"
     ]
    },
    {
     "name": "stderr",
     "output_type": "stream",
     "text": [
      "2025-05-22 00:20:01 - INFO - \n",
      "=== Starting Epoch 7 ===\n",
      "\n"
     ]
    },
    {
     "name": "stdout",
     "output_type": "stream",
     "text": [
      "Epoch 7/100\n",
      "\u001b[1m813/813\u001b[0m \u001b[32m━━━━━━━━━━━━━━━━━━━━\u001b[0m\u001b[37m\u001b[0m \u001b[1m0s\u001b[0m 266ms/step - accuracy: 0.9211 - auc: 0.7242 - f1_score: 0.0791 - loss: 0.1174 - precision: 0.4621 - recall: 0.0522  "
     ]
    },
    {
     "name": "stderr",
     "output_type": "stream",
     "text": [
      "2025-05-22 00:23:51 - INFO - \n",
      "=== Epoch 7 Summary ===\n",
      "2025-05-22 00:23:51 - INFO - Time: 230.66s\n",
      "2025-05-22 00:23:51 - INFO - Training   - accuracy: 0.9216 - auc: 0.7290 - f1_score: 0.0786 - loss: 0.1137 - precision: 0.4654 - recall: 0.0522 - learning_rate: 0.0000\n",
      "2025-05-22 00:23:51 - INFO - Validation - accuracy: 0.9432 - auc: 0.7423 - f1_score: 0.0241 - loss: 0.1098 - precision: 0.3032 - recall: 0.0200\n",
      "2025-05-22 00:23:51 - INFO - ==================================================\n",
      "\n"
     ]
    },
    {
     "name": "stdout",
     "output_type": "stream",
     "text": [
      "\u001b[1m813/813\u001b[0m \u001b[32m━━━━━━━━━━━━━━━━━━━━\u001b[0m\u001b[37m\u001b[0m \u001b[1m231s\u001b[0m 284ms/step - accuracy: 0.9211 - auc: 0.7242 - f1_score: 0.0791 - loss: 0.1174 - precision: 0.4622 - recall: 0.0522 - val_accuracy: 0.9432 - val_auc: 0.7423 - val_f1_score: 0.0241 - val_loss: 0.1098 - val_precision: 0.3032 - val_recall: 0.0200 - learning_rate: 5.0000e-05\n"
     ]
    },
    {
     "name": "stderr",
     "output_type": "stream",
     "text": [
      "2025-05-22 00:23:51 - INFO - \n",
      "=== Starting Epoch 8 ===\n",
      "\n"
     ]
    },
    {
     "name": "stdout",
     "output_type": "stream",
     "text": [
      "Epoch 8/100\n",
      "\u001b[1m813/813\u001b[0m \u001b[32m━━━━━━━━━━━━━━━━━━━━\u001b[0m\u001b[37m\u001b[0m \u001b[1m0s\u001b[0m 271ms/step - accuracy: 0.9209 - auc: 0.7377 - f1_score: 0.0878 - loss: 0.1052 - precision: 0.4758 - recall: 0.0587  "
     ]
    },
    {
     "name": "stderr",
     "output_type": "stream",
     "text": [
      "2025-05-22 00:27:50 - INFO - \n",
      "=== Epoch 8 Summary ===\n",
      "2025-05-22 00:27:50 - INFO - Time: 238.32s\n",
      "2025-05-22 00:27:50 - INFO - Training   - accuracy: 0.9216 - auc: 0.7420 - f1_score: 0.0901 - loss: 0.1024 - precision: 0.4723 - recall: 0.0607 - learning_rate: 0.0000\n",
      "2025-05-22 00:27:50 - INFO - Validation - accuracy: 0.9415 - auc: 0.7354 - f1_score: 0.0918 - loss: 0.1032 - precision: 0.3771 - recall: 0.0861\n",
      "2025-05-22 00:27:50 - INFO - ==================================================\n",
      "\n"
     ]
    },
    {
     "name": "stdout",
     "output_type": "stream",
     "text": [
      "\u001b[1m813/813\u001b[0m \u001b[32m━━━━━━━━━━━━━━━━━━━━\u001b[0m\u001b[37m\u001b[0m \u001b[1m238s\u001b[0m 293ms/step - accuracy: 0.9209 - auc: 0.7377 - f1_score: 0.0878 - loss: 0.1052 - precision: 0.4758 - recall: 0.0587 - val_accuracy: 0.9415 - val_auc: 0.7354 - val_f1_score: 0.0918 - val_loss: 0.1032 - val_precision: 0.3771 - val_recall: 0.0861 - learning_rate: 5.0000e-05\n"
     ]
    },
    {
     "name": "stderr",
     "output_type": "stream",
     "text": [
      "2025-05-22 00:27:50 - INFO - \n",
      "=== Starting Epoch 9 ===\n",
      "\n"
     ]
    },
    {
     "name": "stdout",
     "output_type": "stream",
     "text": [
      "Epoch 9/100\n",
      "\u001b[1m813/813\u001b[0m \u001b[32m━━━━━━━━━━━━━━━━━━━━\u001b[0m\u001b[37m\u001b[0m \u001b[1m0s\u001b[0m 262ms/step - accuracy: 0.9213 - auc: 0.7481 - f1_score: 0.0943 - loss: 0.0961 - precision: 0.4764 - recall: 0.0641  "
     ]
    },
    {
     "name": "stderr",
     "output_type": "stream",
     "text": [
      "2025-05-22 00:31:40 - INFO - \n",
      "=== Epoch 9 Summary ===\n",
      "2025-05-22 00:31:40 - INFO - Time: 229.87s\n",
      "2025-05-22 00:31:40 - INFO - Training   - accuracy: 0.9218 - auc: 0.7516 - f1_score: 0.1006 - loss: 0.0938 - precision: 0.4849 - recall: 0.0685 - learning_rate: 0.0000\n",
      "2025-05-22 00:31:40 - INFO - Validation - accuracy: 0.9439 - auc: 0.7428 - f1_score: 0.0803 - loss: 0.0933 - precision: 0.4385 - recall: 0.0488\n",
      "2025-05-22 00:31:40 - INFO - ==================================================\n",
      "\n"
     ]
    },
    {
     "name": "stdout",
     "output_type": "stream",
     "text": [
      "\u001b[1m813/813\u001b[0m \u001b[32m━━━━━━━━━━━━━━━━━━━━\u001b[0m\u001b[37m\u001b[0m \u001b[1m230s\u001b[0m 283ms/step - accuracy: 0.9213 - auc: 0.7481 - f1_score: 0.0943 - loss: 0.0961 - precision: 0.4764 - recall: 0.0641 - val_accuracy: 0.9439 - val_auc: 0.7428 - val_f1_score: 0.0803 - val_loss: 0.0933 - val_precision: 0.4385 - val_recall: 0.0488 - learning_rate: 5.0000e-05\n"
     ]
    },
    {
     "name": "stderr",
     "output_type": "stream",
     "text": [
      "2025-05-22 00:31:40 - INFO - \n",
      "=== Starting Epoch 10 ===\n",
      "\n"
     ]
    },
    {
     "name": "stdout",
     "output_type": "stream",
     "text": [
      "Epoch 10/100\n",
      "\u001b[1m813/813\u001b[0m \u001b[32m━━━━━━━━━━━━━━━━━━━━\u001b[0m\u001b[37m\u001b[0m \u001b[1m0s\u001b[0m 276ms/step - accuracy: 0.9213 - auc: 0.7561 - f1_score: 0.1091 - loss: 0.0895 - precision: 0.4811 - recall: 0.0742  "
     ]
    },
    {
     "name": "stderr",
     "output_type": "stream",
     "text": [
      "2025-05-22 00:35:48 - INFO - \n",
      "=== Epoch 10 Summary ===\n",
      "2025-05-22 00:35:48 - INFO - Time: 248.39s\n",
      "2025-05-22 00:35:48 - INFO - Training   - accuracy: 0.9218 - auc: 0.7605 - f1_score: 0.1129 - loss: 0.0877 - precision: 0.4849 - recall: 0.0770 - learning_rate: 0.0000\n",
      "2025-05-22 00:35:48 - INFO - Validation - accuracy: 0.9281 - auc: 0.7181 - f1_score: 0.1063 - loss: 0.0971 - precision: 0.2386 - recall: 0.1363\n",
      "2025-05-22 00:35:48 - INFO - ==================================================\n",
      "\n"
     ]
    },
    {
     "name": "stdout",
     "output_type": "stream",
     "text": [
      "\u001b[1m813/813\u001b[0m \u001b[32m━━━━━━━━━━━━━━━━━━━━\u001b[0m\u001b[37m\u001b[0m \u001b[1m248s\u001b[0m 306ms/step - accuracy: 0.9213 - auc: 0.7561 - f1_score: 0.1091 - loss: 0.0895 - precision: 0.4811 - recall: 0.0742 - val_accuracy: 0.9281 - val_auc: 0.7181 - val_f1_score: 0.1063 - val_loss: 0.0971 - val_precision: 0.2386 - val_recall: 0.1363 - learning_rate: 5.0000e-05\n"
     ]
    },
    {
     "name": "stderr",
     "output_type": "stream",
     "text": [
      "2025-05-22 00:35:48 - INFO - \n",
      "=== Starting Epoch 11 ===\n",
      "\n"
     ]
    },
    {
     "name": "stdout",
     "output_type": "stream",
     "text": [
      "Epoch 11/100\n",
      "\u001b[1m813/813\u001b[0m \u001b[32m━━━━━━━━━━━━━━━━━━━━\u001b[0m\u001b[37m\u001b[0m \u001b[1m0s\u001b[0m 261ms/step - accuracy: 0.9213 - auc: 0.7625 - f1_score: 0.1174 - loss: 0.0844 - precision: 0.4864 - recall: 0.0816  "
     ]
    },
    {
     "name": "stderr",
     "output_type": "stream",
     "text": [
      "2025-05-22 00:39:54 - INFO - \n",
      "=== Epoch 11 Summary ===\n",
      "2025-05-22 00:39:54 - INFO - Time: 245.40s\n",
      "2025-05-22 00:39:54 - INFO - Training   - accuracy: 0.9218 - auc: 0.7669 - f1_score: 0.1213 - loss: 0.0828 - precision: 0.4857 - recall: 0.0839 - learning_rate: 0.0000\n",
      "2025-05-22 00:39:54 - INFO - Validation - accuracy: 0.9390 - auc: 0.7369 - f1_score: 0.1210 - loss: 0.0893 - precision: 0.3400 - recall: 0.1084\n",
      "2025-05-22 00:39:54 - INFO - ==================================================\n",
      "\n"
     ]
    },
    {
     "name": "stdout",
     "output_type": "stream",
     "text": [
      "\u001b[1m813/813\u001b[0m \u001b[32m━━━━━━━━━━━━━━━━━━━━\u001b[0m\u001b[37m\u001b[0m \u001b[1m245s\u001b[0m 302ms/step - accuracy: 0.9213 - auc: 0.7625 - f1_score: 0.1174 - loss: 0.0843 - precision: 0.4864 - recall: 0.0816 - val_accuracy: 0.9390 - val_auc: 0.7369 - val_f1_score: 0.1210 - val_loss: 0.0893 - val_precision: 0.3400 - val_recall: 0.1084 - learning_rate: 5.0000e-05\n"
     ]
    },
    {
     "name": "stderr",
     "output_type": "stream",
     "text": [
      "2025-05-22 00:39:54 - INFO - \n",
      "=== Starting Epoch 12 ===\n",
      "\n"
     ]
    },
    {
     "name": "stdout",
     "output_type": "stream",
     "text": [
      "Epoch 12/100\n",
      "\u001b[1m813/813\u001b[0m \u001b[32m━━━━━━━━━━━━━━━━━━━━\u001b[0m\u001b[37m\u001b[0m \u001b[1m0s\u001b[0m 258ms/step - accuracy: 0.9219 - auc: 0.7719 - f1_score: 0.1350 - loss: 0.0798 - precision: 0.5002 - recall: 0.0936  "
     ]
    },
    {
     "name": "stderr",
     "output_type": "stream",
     "text": [
      "2025-05-22 00:43:52 - INFO - \n",
      "=== Epoch 12 Summary ===\n",
      "2025-05-22 00:43:52 - INFO - Time: 238.27s\n",
      "2025-05-22 00:43:52 - INFO - Training   - accuracy: 0.9222 - auc: 0.7762 - f1_score: 0.1376 - loss: 0.0787 - precision: 0.5005 - recall: 0.0956 - learning_rate: 0.0000\n",
      "2025-05-22 00:43:52 - INFO - Validation - accuracy: 0.9358 - auc: 0.7397 - f1_score: 0.0983 - loss: 0.0888 - precision: 0.2945 - recall: 0.1138\n",
      "2025-05-22 00:43:52 - INFO - ==================================================\n",
      "\n"
     ]
    },
    {
     "name": "stdout",
     "output_type": "stream",
     "text": [
      "\u001b[1m813/813\u001b[0m \u001b[32m━━━━━━━━━━━━━━━━━━━━\u001b[0m\u001b[37m\u001b[0m \u001b[1m238s\u001b[0m 293ms/step - accuracy: 0.9219 - auc: 0.7719 - f1_score: 0.1351 - loss: 0.0798 - precision: 0.5002 - recall: 0.0936 - val_accuracy: 0.9358 - val_auc: 0.7397 - val_f1_score: 0.0983 - val_loss: 0.0888 - val_precision: 0.2945 - val_recall: 0.1138 - learning_rate: 5.0000e-05\n"
     ]
    },
    {
     "name": "stderr",
     "output_type": "stream",
     "text": [
      "2025-05-22 00:43:52 - INFO - \n",
      "=== Starting Epoch 13 ===\n",
      "\n"
     ]
    },
    {
     "name": "stdout",
     "output_type": "stream",
     "text": [
      "Epoch 13/100\n",
      "\u001b[1m813/813\u001b[0m \u001b[32m━━━━━━━━━━━━━━━━━━━━\u001b[0m\u001b[37m\u001b[0m \u001b[1m0s\u001b[0m 259ms/step - accuracy: 0.9219 - auc: 0.7786 - f1_score: 0.1415 - loss: 0.0764 - precision: 0.5034 - recall: 0.0998  "
     ]
    },
    {
     "name": "stderr",
     "output_type": "stream",
     "text": [
      "2025-05-22 00:47:50 - INFO - \n",
      "=== Epoch 13 Summary ===\n",
      "2025-05-22 00:47:50 - INFO - Time: 237.79s\n",
      "2025-05-22 00:47:50 - INFO - Training   - accuracy: 0.9222 - auc: 0.7826 - f1_score: 0.1446 - loss: 0.0756 - precision: 0.5011 - recall: 0.1018 - learning_rate: 0.0000\n",
      "2025-05-22 00:47:50 - INFO - Validation - accuracy: 0.9377 - auc: 0.7394 - f1_score: 0.0852 - loss: 0.0831 - precision: 0.2651 - recall: 0.0705\n",
      "2025-05-22 00:47:50 - INFO - ==================================================\n",
      "\n"
     ]
    },
    {
     "name": "stdout",
     "output_type": "stream",
     "text": [
      "\u001b[1m813/813\u001b[0m \u001b[32m━━━━━━━━━━━━━━━━━━━━\u001b[0m\u001b[37m\u001b[0m \u001b[1m238s\u001b[0m 292ms/step - accuracy: 0.9219 - auc: 0.7786 - f1_score: 0.1416 - loss: 0.0764 - precision: 0.5034 - recall: 0.0998 - val_accuracy: 0.9377 - val_auc: 0.7394 - val_f1_score: 0.0852 - val_loss: 0.0831 - val_precision: 0.2651 - val_recall: 0.0705 - learning_rate: 5.0000e-05\n"
     ]
    },
    {
     "name": "stderr",
     "output_type": "stream",
     "text": [
      "2025-05-22 00:47:50 - INFO - \n",
      "=== Starting Epoch 14 ===\n",
      "\n"
     ]
    },
    {
     "name": "stdout",
     "output_type": "stream",
     "text": [
      "Epoch 14/100\n",
      "\u001b[1m813/813\u001b[0m \u001b[32m━━━━━━━━━━━━━━━━━━━━\u001b[0m\u001b[37m\u001b[0m \u001b[1m0s\u001b[0m 260ms/step - accuracy: 0.9217 - auc: 0.7851 - f1_score: 0.1497 - loss: 0.0735 - precision: 0.4997 - recall: 0.1064  "
     ]
    },
    {
     "name": "stderr",
     "output_type": "stream",
     "text": [
      "2025-05-22 00:51:49 - INFO - \n",
      "=== Epoch 14 Summary ===\n",
      "2025-05-22 00:51:49 - INFO - Time: 239.49s\n",
      "2025-05-22 00:51:49 - INFO - Training   - accuracy: 0.9224 - auc: 0.7897 - f1_score: 0.1559 - loss: 0.0726 - precision: 0.5053 - recall: 0.1111 - learning_rate: 0.0000\n",
      "2025-05-22 00:51:49 - INFO - Validation - accuracy: 0.9350 - auc: 0.7434 - f1_score: 0.1312 - loss: 0.0811 - precision: 0.2780 - recall: 0.1085\n",
      "2025-05-22 00:51:49 - INFO - ==================================================\n",
      "\n"
     ]
    },
    {
     "name": "stdout",
     "output_type": "stream",
     "text": [
      "\u001b[1m813/813\u001b[0m \u001b[32m━━━━━━━━━━━━━━━━━━━━\u001b[0m\u001b[37m\u001b[0m \u001b[1m240s\u001b[0m 295ms/step - accuracy: 0.9217 - auc: 0.7851 - f1_score: 0.1497 - loss: 0.0735 - precision: 0.4997 - recall: 0.1064 - val_accuracy: 0.9350 - val_auc: 0.7434 - val_f1_score: 0.1312 - val_loss: 0.0811 - val_precision: 0.2780 - val_recall: 0.1085 - learning_rate: 5.0000e-05\n"
     ]
    },
    {
     "name": "stderr",
     "output_type": "stream",
     "text": [
      "2025-05-22 00:51:49 - INFO - \n",
      "=== Starting Epoch 15 ===\n",
      "\n"
     ]
    },
    {
     "name": "stdout",
     "output_type": "stream",
     "text": [
      "Epoch 15/100\n",
      "\u001b[1m813/813\u001b[0m \u001b[32m━━━━━━━━━━━━━━━━━━━━\u001b[0m\u001b[37m\u001b[0m \u001b[1m0s\u001b[0m 260ms/step - accuracy: 0.9218 - auc: 0.7922 - f1_score: 0.1634 - loss: 0.0712 - precision: 0.5007 - recall: 0.1185  "
     ]
    },
    {
     "name": "stderr",
     "output_type": "stream",
     "text": [
      "2025-05-22 00:55:47 - INFO - \n",
      "=== Epoch 15 Summary ===\n",
      "2025-05-22 00:55:47 - INFO - Time: 237.31s\n",
      "2025-05-22 00:55:47 - INFO - Training   - accuracy: 0.9225 - auc: 0.7961 - f1_score: 0.1676 - loss: 0.0703 - precision: 0.5073 - recall: 0.1210 - learning_rate: 0.0000\n",
      "2025-05-22 00:55:47 - INFO - Validation - accuracy: 0.9425 - auc: 0.7598 - f1_score: 0.1195 - loss: 0.0738 - precision: 0.4034 - recall: 0.0798\n",
      "2025-05-22 00:55:47 - INFO - ==================================================\n",
      "\n"
     ]
    },
    {
     "name": "stdout",
     "output_type": "stream",
     "text": [
      "\u001b[1m813/813\u001b[0m \u001b[32m━━━━━━━━━━━━━━━━━━━━\u001b[0m\u001b[37m\u001b[0m \u001b[1m237s\u001b[0m 292ms/step - accuracy: 0.9218 - auc: 0.7922 - f1_score: 0.1634 - loss: 0.0712 - precision: 0.5007 - recall: 0.1185 - val_accuracy: 0.9425 - val_auc: 0.7598 - val_f1_score: 0.1195 - val_loss: 0.0738 - val_precision: 0.4034 - val_recall: 0.0798 - learning_rate: 5.0000e-05\n"
     ]
    },
    {
     "name": "stderr",
     "output_type": "stream",
     "text": [
      "2025-05-22 00:55:47 - INFO - \n",
      "=== Starting Epoch 16 ===\n",
      "\n"
     ]
    },
    {
     "name": "stdout",
     "output_type": "stream",
     "text": [
      "Epoch 16/100\n",
      "\u001b[1m813/813\u001b[0m \u001b[32m━━━━━━━━━━━━━━━━━━━━\u001b[0m\u001b[37m\u001b[0m \u001b[1m0s\u001b[0m 262ms/step - accuracy: 0.9224 - auc: 0.7999 - f1_score: 0.1774 - loss: 0.0690 - precision: 0.5148 - recall: 0.1293  "
     ]
    },
    {
     "name": "stderr",
     "output_type": "stream",
     "text": [
      "2025-05-22 00:59:45 - INFO - \n",
      "=== Epoch 16 Summary ===\n",
      "2025-05-22 00:59:45 - INFO - Time: 238.67s\n",
      "2025-05-22 00:59:45 - INFO - Training   - accuracy: 0.9229 - auc: 0.8035 - f1_score: 0.1791 - loss: 0.0681 - precision: 0.5190 - recall: 0.1305 - learning_rate: 0.0000\n",
      "2025-05-22 00:59:45 - INFO - Validation - accuracy: 0.9417 - auc: 0.7645 - f1_score: 0.1278 - loss: 0.0731 - precision: 0.3994 - recall: 0.1038\n",
      "2025-05-22 00:59:45 - INFO - ==================================================\n",
      "\n"
     ]
    },
    {
     "name": "stdout",
     "output_type": "stream",
     "text": [
      "\u001b[1m813/813\u001b[0m \u001b[32m━━━━━━━━━━━━━━━━━━━━\u001b[0m\u001b[37m\u001b[0m \u001b[1m239s\u001b[0m 294ms/step - accuracy: 0.9224 - auc: 0.7999 - f1_score: 0.1774 - loss: 0.0690 - precision: 0.5148 - recall: 0.1293 - val_accuracy: 0.9417 - val_auc: 0.7645 - val_f1_score: 0.1278 - val_loss: 0.0731 - val_precision: 0.3994 - val_recall: 0.1038 - learning_rate: 5.0000e-05\n"
     ]
    },
    {
     "name": "stderr",
     "output_type": "stream",
     "text": [
      "2025-05-22 00:59:45 - INFO - \n",
      "=== Starting Epoch 17 ===\n",
      "\n"
     ]
    },
    {
     "name": "stdout",
     "output_type": "stream",
     "text": [
      "Epoch 17/100\n",
      "\u001b[1m813/813\u001b[0m \u001b[32m━━━━━━━━━━━━━━━━━━━━\u001b[0m\u001b[37m\u001b[0m \u001b[1m0s\u001b[0m 259ms/step - accuracy: 0.9227 - auc: 0.8063 - f1_score: 0.1906 - loss: 0.0668 - precision: 0.5242 - recall: 0.1407  "
     ]
    },
    {
     "name": "stderr",
     "output_type": "stream",
     "text": [
      "2025-05-22 01:03:43 - INFO - \n",
      "=== Epoch 17 Summary ===\n",
      "2025-05-22 01:03:43 - INFO - Time: 237.56s\n",
      "2025-05-22 01:03:43 - INFO - Training   - accuracy: 0.9232 - auc: 0.8096 - f1_score: 0.1916 - loss: 0.0660 - precision: 0.5245 - recall: 0.1414 - learning_rate: 0.0000\n",
      "2025-05-22 01:03:43 - INFO - Validation - accuracy: 0.9306 - auc: 0.7439 - f1_score: 0.1638 - loss: 0.0788 - precision: 0.2636 - recall: 0.1408\n",
      "2025-05-22 01:03:43 - INFO - ==================================================\n",
      "\n"
     ]
    },
    {
     "name": "stdout",
     "output_type": "stream",
     "text": [
      "\u001b[1m813/813\u001b[0m \u001b[32m━━━━━━━━━━━━━━━━━━━━\u001b[0m\u001b[37m\u001b[0m \u001b[1m238s\u001b[0m 292ms/step - accuracy: 0.9227 - auc: 0.8063 - f1_score: 0.1906 - loss: 0.0668 - precision: 0.5242 - recall: 0.1407 - val_accuracy: 0.9306 - val_auc: 0.7439 - val_f1_score: 0.1638 - val_loss: 0.0788 - val_precision: 0.2636 - val_recall: 0.1408 - learning_rate: 5.0000e-05\n"
     ]
    },
    {
     "name": "stderr",
     "output_type": "stream",
     "text": [
      "2025-05-22 01:03:43 - INFO - \n",
      "=== Starting Epoch 18 ===\n",
      "\n"
     ]
    },
    {
     "name": "stdout",
     "output_type": "stream",
     "text": [
      "Epoch 18/100\n",
      "\u001b[1m813/813\u001b[0m \u001b[32m━━━━━━━━━━━━━━━━━━━━\u001b[0m\u001b[37m\u001b[0m \u001b[1m0s\u001b[0m 259ms/step - accuracy: 0.9228 - auc: 0.8116 - f1_score: 0.1941 - loss: 0.0653 - precision: 0.5282 - recall: 0.1444  "
     ]
    },
    {
     "name": "stderr",
     "output_type": "stream",
     "text": [
      "2025-05-22 01:07:39 - INFO - \n",
      "=== Epoch 18 Summary ===\n",
      "2025-05-22 01:07:39 - INFO - Time: 236.27s\n",
      "2025-05-22 01:07:39 - INFO - Training   - accuracy: 0.9235 - auc: 0.8150 - f1_score: 0.1983 - loss: 0.0644 - precision: 0.5303 - recall: 0.1473 - learning_rate: 0.0000\n",
      "2025-05-22 01:07:39 - INFO - Validation - accuracy: 0.9338 - auc: 0.7478 - f1_score: 0.1155 - loss: 0.0763 - precision: 0.2398 - recall: 0.0902\n",
      "2025-05-22 01:07:39 - INFO - ==================================================\n",
      "\n"
     ]
    },
    {
     "name": "stdout",
     "output_type": "stream",
     "text": [
      "\u001b[1m813/813\u001b[0m \u001b[32m━━━━━━━━━━━━━━━━━━━━\u001b[0m\u001b[37m\u001b[0m \u001b[1m236s\u001b[0m 291ms/step - accuracy: 0.9228 - auc: 0.8116 - f1_score: 0.1941 - loss: 0.0653 - precision: 0.5282 - recall: 0.1444 - val_accuracy: 0.9338 - val_auc: 0.7478 - val_f1_score: 0.1155 - val_loss: 0.0763 - val_precision: 0.2398 - val_recall: 0.0902 - learning_rate: 5.0000e-05\n"
     ]
    },
    {
     "name": "stderr",
     "output_type": "stream",
     "text": [
      "2025-05-22 01:07:39 - INFO - \n",
      "=== Starting Epoch 19 ===\n",
      "\n"
     ]
    },
    {
     "name": "stdout",
     "output_type": "stream",
     "text": [
      "Epoch 19/100\n",
      "\u001b[1m813/813\u001b[0m \u001b[32m━━━━━━━━━━━━━━━━━━━━\u001b[0m\u001b[37m\u001b[0m \u001b[1m0s\u001b[0m 260ms/step - accuracy: 0.9233 - auc: 0.8181 - f1_score: 0.2109 - loss: 0.0634 - precision: 0.5333 - recall: 0.1582  "
     ]
    },
    {
     "name": "stderr",
     "output_type": "stream",
     "text": [
      "2025-05-22 01:11:49 - INFO - \n",
      "=== Epoch 19 Summary ===\n",
      "2025-05-22 01:11:49 - INFO - Time: 249.86s\n",
      "2025-05-22 01:11:49 - INFO - Training   - accuracy: 0.9238 - auc: 0.8217 - f1_score: 0.2142 - loss: 0.0627 - precision: 0.5364 - recall: 0.1612 - learning_rate: 0.0000\n",
      "2025-05-22 01:11:49 - INFO - Validation - accuracy: 0.9249 - auc: 0.7361 - f1_score: 0.1790 - loss: 0.0801 - precision: 0.2447 - recall: 0.1707\n",
      "2025-05-22 01:11:49 - INFO - ==================================================\n",
      "\n"
     ]
    },
    {
     "name": "stdout",
     "output_type": "stream",
     "text": [
      "\u001b[1m813/813\u001b[0m \u001b[32m━━━━━━━━━━━━━━━━━━━━\u001b[0m\u001b[37m\u001b[0m \u001b[1m250s\u001b[0m 307ms/step - accuracy: 0.9233 - auc: 0.8181 - f1_score: 0.2109 - loss: 0.0634 - precision: 0.5333 - recall: 0.1582 - val_accuracy: 0.9249 - val_auc: 0.7361 - val_f1_score: 0.1790 - val_loss: 0.0801 - val_precision: 0.2447 - val_recall: 0.1707 - learning_rate: 5.0000e-05\n"
     ]
    },
    {
     "name": "stderr",
     "output_type": "stream",
     "text": [
      "2025-05-22 01:11:49 - INFO - \n",
      "=== Starting Epoch 20 ===\n",
      "\n"
     ]
    },
    {
     "name": "stdout",
     "output_type": "stream",
     "text": [
      "Epoch 20/100\n",
      "\u001b[1m813/813\u001b[0m \u001b[32m━━━━━━━━━━━━━━━━━━━━\u001b[0m\u001b[37m\u001b[0m \u001b[1m0s\u001b[0m 258ms/step - accuracy: 0.9241 - auc: 0.8241 - f1_score: 0.2210 - loss: 0.0618 - precision: 0.5399 - recall: 0.1677  "
     ]
    },
    {
     "name": "stderr",
     "output_type": "stream",
     "text": [
      "2025-05-22 01:15:45 - INFO - \n",
      "=== Epoch 20 Summary ===\n",
      "2025-05-22 01:15:45 - INFO - Time: 235.27s\n",
      "2025-05-22 01:15:45 - INFO - Training   - accuracy: 0.9245 - auc: 0.8267 - f1_score: 0.2262 - loss: 0.0612 - precision: 0.5465 - recall: 0.1715 - learning_rate: 0.0000\n",
      "2025-05-22 01:15:45 - INFO - Validation - accuracy: 0.9312 - auc: 0.7538 - f1_score: 0.1232 - loss: 0.0774 - precision: 0.2221 - recall: 0.0966\n",
      "2025-05-22 01:15:45 - INFO - ==================================================\n",
      "\n"
     ]
    },
    {
     "name": "stdout",
     "output_type": "stream",
     "text": [
      "\u001b[1m813/813\u001b[0m \u001b[32m━━━━━━━━━━━━━━━━━━━━\u001b[0m\u001b[37m\u001b[0m \u001b[1m235s\u001b[0m 289ms/step - accuracy: 0.9241 - auc: 0.8241 - f1_score: 0.2210 - loss: 0.0618 - precision: 0.5399 - recall: 0.1677 - val_accuracy: 0.9312 - val_auc: 0.7538 - val_f1_score: 0.1232 - val_loss: 0.0774 - val_precision: 0.2221 - val_recall: 0.0966 - learning_rate: 5.0000e-05\n"
     ]
    },
    {
     "name": "stderr",
     "output_type": "stream",
     "text": [
      "2025-05-22 01:15:45 - INFO - \n",
      "=== Starting Epoch 21 ===\n",
      "\n"
     ]
    },
    {
     "name": "stdout",
     "output_type": "stream",
     "text": [
      "Epoch 21/100\n",
      "\u001b[1m813/813\u001b[0m \u001b[32m━━━━━━━━━━━━━━━━━━━━\u001b[0m\u001b[37m\u001b[0m \u001b[1m0s\u001b[0m 260ms/step - accuracy: 0.9242 - auc: 0.8285 - f1_score: 0.2325 - loss: 0.0608 - precision: 0.5485 - recall: 0.1772  "
     ]
    },
    {
     "name": "stderr",
     "output_type": "stream",
     "text": [
      "2025-05-22 01:19:43 - INFO - \n",
      "=== Epoch 21 Summary ===\n",
      "2025-05-22 01:19:43 - INFO - Time: 238.37s\n",
      "2025-05-22 01:19:43 - INFO - Training   - accuracy: 0.9250 - auc: 0.8325 - f1_score: 0.2383 - loss: 0.0599 - precision: 0.5555 - recall: 0.1819 - learning_rate: 0.0000\n",
      "2025-05-22 01:19:43 - INFO - Validation - accuracy: 0.9382 - auc: 0.7509 - f1_score: 0.1172 - loss: 0.0748 - precision: 0.3018 - recall: 0.0886\n",
      "2025-05-22 01:19:43 - INFO - ==================================================\n",
      "\n"
     ]
    },
    {
     "name": "stdout",
     "output_type": "stream",
     "text": [
      "\u001b[1m813/813\u001b[0m \u001b[32m━━━━━━━━━━━━━━━━━━━━\u001b[0m\u001b[37m\u001b[0m \u001b[1m238s\u001b[0m 293ms/step - accuracy: 0.9242 - auc: 0.8285 - f1_score: 0.2326 - loss: 0.0608 - precision: 0.5485 - recall: 0.1772 - val_accuracy: 0.9382 - val_auc: 0.7509 - val_f1_score: 0.1172 - val_loss: 0.0748 - val_precision: 0.3018 - val_recall: 0.0886 - learning_rate: 5.0000e-05\n"
     ]
    },
    {
     "name": "stderr",
     "output_type": "stream",
     "text": [
      "2025-05-22 01:19:43 - INFO - \n",
      "=== Starting Epoch 22 ===\n",
      "\n"
     ]
    },
    {
     "name": "stdout",
     "output_type": "stream",
     "text": [
      "Epoch 22/100\n",
      "\u001b[1m813/813\u001b[0m \u001b[32m━━━━━━━━━━━━━━━━━━━━\u001b[0m\u001b[37m\u001b[0m \u001b[1m0s\u001b[0m 259ms/step - accuracy: 0.9247 - auc: 0.8334 - f1_score: 0.2445 - loss: 0.0592 - precision: 0.5528 - recall: 0.1865  \n",
      "Epoch 22: ReduceLROnPlateau reducing learning rate to 2.499999936844688e-05.\n"
     ]
    },
    {
     "name": "stderr",
     "output_type": "stream",
     "text": [
      "2025-05-22 01:23:40 - INFO - \n",
      "=== Epoch 22 Summary ===\n",
      "2025-05-22 01:23:40 - INFO - Time: 236.80s\n",
      "2025-05-22 01:23:40 - INFO - Training   - accuracy: 0.9253 - auc: 0.8377 - f1_score: 0.2486 - loss: 0.0585 - precision: 0.5579 - recall: 0.1901 - learning_rate: 0.0000\n",
      "2025-05-22 01:23:40 - INFO - Validation - accuracy: 0.9281 - auc: 0.7515 - f1_score: 0.0999 - loss: 0.0789 - precision: 0.1971 - recall: 0.0968\n",
      "2025-05-22 01:23:40 - INFO - ==================================================\n",
      "\n"
     ]
    },
    {
     "name": "stdout",
     "output_type": "stream",
     "text": [
      "\u001b[1m813/813\u001b[0m \u001b[32m━━━━━━━━━━━━━━━━━━━━\u001b[0m\u001b[37m\u001b[0m \u001b[1m237s\u001b[0m 291ms/step - accuracy: 0.9247 - auc: 0.8334 - f1_score: 0.2445 - loss: 0.0592 - precision: 0.5528 - recall: 0.1865 - val_accuracy: 0.9281 - val_auc: 0.7515 - val_f1_score: 0.0999 - val_loss: 0.0789 - val_precision: 0.1971 - val_recall: 0.0968 - learning_rate: 5.0000e-05\n"
     ]
    },
    {
     "name": "stderr",
     "output_type": "stream",
     "text": [
      "2025-05-22 01:23:40 - INFO - \n",
      "=== Starting Epoch 23 ===\n",
      "\n"
     ]
    },
    {
     "name": "stdout",
     "output_type": "stream",
     "text": [
      "Epoch 23/100\n",
      "\u001b[1m813/813\u001b[0m \u001b[32m━━━━━━━━━━━━━━━━━━━━\u001b[0m\u001b[37m\u001b[0m \u001b[1m0s\u001b[0m 260ms/step - accuracy: 0.9268 - auc: 0.8532 - f1_score: 0.2808 - loss: 0.0559 - precision: 0.5856 - recall: 0.2183  "
     ]
    },
    {
     "name": "stderr",
     "output_type": "stream",
     "text": [
      "2025-05-22 01:27:39 - INFO - \n",
      "=== Epoch 23 Summary ===\n",
      "2025-05-22 01:27:39 - INFO - Time: 238.80s\n",
      "2025-05-22 01:27:39 - INFO - Training   - accuracy: 0.9283 - auc: 0.8602 - f1_score: 0.2985 - loss: 0.0544 - precision: 0.6035 - recall: 0.2330 - learning_rate: 0.0000\n",
      "2025-05-22 01:27:39 - INFO - Validation - accuracy: 0.9378 - auc: 0.7712 - f1_score: 0.1805 - loss: 0.0705 - precision: 0.3504 - recall: 0.1449\n",
      "2025-05-22 01:27:39 - INFO - ==================================================\n",
      "\n"
     ]
    },
    {
     "name": "stdout",
     "output_type": "stream",
     "text": [
      "\u001b[1m813/813\u001b[0m \u001b[32m━━━━━━━━━━━━━━━━━━━━\u001b[0m\u001b[37m\u001b[0m \u001b[1m239s\u001b[0m 294ms/step - accuracy: 0.9268 - auc: 0.8532 - f1_score: 0.2808 - loss: 0.0559 - precision: 0.5856 - recall: 0.2183 - val_accuracy: 0.9378 - val_auc: 0.7712 - val_f1_score: 0.1805 - val_loss: 0.0705 - val_precision: 0.3504 - val_recall: 0.1449 - learning_rate: 2.5000e-05\n"
     ]
    },
    {
     "name": "stderr",
     "output_type": "stream",
     "text": [
      "2025-05-22 01:27:39 - INFO - \n",
      "=== Starting Epoch 24 ===\n",
      "\n"
     ]
    },
    {
     "name": "stdout",
     "output_type": "stream",
     "text": [
      "Epoch 24/100\n",
      "\u001b[1m813/813\u001b[0m \u001b[32m━━━━━━━━━━━━━━━━━━━━\u001b[0m\u001b[37m\u001b[0m \u001b[1m0s\u001b[0m 260ms/step - accuracy: 0.9291 - auc: 0.8655 - f1_score: 0.3200 - loss: 0.0532 - precision: 0.6082 - recall: 0.2519  "
     ]
    },
    {
     "name": "stderr",
     "output_type": "stream",
     "text": [
      "2025-05-22 01:31:38 - INFO - \n",
      "=== Epoch 24 Summary ===\n",
      "2025-05-22 01:31:38 - INFO - Time: 238.84s\n",
      "2025-05-22 01:31:38 - INFO - Training   - accuracy: 0.9297 - auc: 0.8691 - f1_score: 0.3265 - loss: 0.0525 - precision: 0.6121 - recall: 0.2580 - learning_rate: 0.0000\n",
      "2025-05-22 01:31:38 - INFO - Validation - accuracy: 0.9303 - auc: 0.7571 - f1_score: 0.1624 - loss: 0.0742 - precision: 0.2618 - recall: 0.1425\n",
      "2025-05-22 01:31:38 - INFO - ==================================================\n",
      "\n"
     ]
    },
    {
     "name": "stdout",
     "output_type": "stream",
     "text": [
      "\u001b[1m813/813\u001b[0m \u001b[32m━━━━━━━━━━━━━━━━━━━━\u001b[0m\u001b[37m\u001b[0m \u001b[1m239s\u001b[0m 294ms/step - accuracy: 0.9291 - auc: 0.8655 - f1_score: 0.3200 - loss: 0.0532 - precision: 0.6082 - recall: 0.2519 - val_accuracy: 0.9303 - val_auc: 0.7571 - val_f1_score: 0.1624 - val_loss: 0.0742 - val_precision: 0.2618 - val_recall: 0.1425 - learning_rate: 2.5000e-05\n"
     ]
    },
    {
     "name": "stderr",
     "output_type": "stream",
     "text": [
      "2025-05-22 01:31:38 - INFO - \n",
      "=== Starting Epoch 25 ===\n",
      "\n"
     ]
    },
    {
     "name": "stdout",
     "output_type": "stream",
     "text": [
      "Epoch 25/100\n",
      "\u001b[1m813/813\u001b[0m \u001b[32m━━━━━━━━━━━━━━━━━━━━\u001b[0m\u001b[37m\u001b[0m \u001b[1m0s\u001b[0m 260ms/step - accuracy: 0.9294 - auc: 0.8728 - f1_score: 0.3400 - loss: 0.0519 - precision: 0.6173 - recall: 0.2698  "
     ]
    },
    {
     "name": "stderr",
     "output_type": "stream",
     "text": [
      "2025-05-22 01:35:43 - INFO - \n",
      "=== Epoch 25 Summary ===\n",
      "2025-05-22 01:35:43 - INFO - Time: 245.20s\n",
      "2025-05-22 01:35:43 - INFO - Training   - accuracy: 0.9307 - auc: 0.8763 - f1_score: 0.3489 - loss: 0.0511 - precision: 0.6247 - recall: 0.2775 - learning_rate: 0.0000\n",
      "2025-05-22 01:35:43 - INFO - Validation - accuracy: 0.9374 - auc: 0.7577 - f1_score: 0.1821 - loss: 0.0703 - precision: 0.3622 - recall: 0.1718\n",
      "2025-05-22 01:35:43 - INFO - ==================================================\n",
      "\n"
     ]
    },
    {
     "name": "stdout",
     "output_type": "stream",
     "text": [
      "\u001b[1m813/813\u001b[0m \u001b[32m━━━━━━━━━━━━━━━━━━━━\u001b[0m\u001b[37m\u001b[0m \u001b[1m245s\u001b[0m 302ms/step - accuracy: 0.9294 - auc: 0.8728 - f1_score: 0.3401 - loss: 0.0519 - precision: 0.6173 - recall: 0.2698 - val_accuracy: 0.9374 - val_auc: 0.7577 - val_f1_score: 0.1821 - val_loss: 0.0703 - val_precision: 0.3622 - val_recall: 0.1718 - learning_rate: 2.5000e-05\n"
     ]
    },
    {
     "name": "stderr",
     "output_type": "stream",
     "text": [
      "2025-05-22 01:35:43 - INFO - \n",
      "=== Starting Epoch 26 ===\n",
      "\n"
     ]
    },
    {
     "name": "stdout",
     "output_type": "stream",
     "text": [
      "Epoch 26/100\n",
      "\u001b[1m813/813\u001b[0m \u001b[32m━━━━━━━━━━━━━━━━━━━━\u001b[0m\u001b[37m\u001b[0m \u001b[1m0s\u001b[0m 259ms/step - accuracy: 0.9313 - auc: 0.8790 - f1_score: 0.3613 - loss: 0.0502 - precision: 0.6290 - recall: 0.2880  "
     ]
    },
    {
     "name": "stderr",
     "output_type": "stream",
     "text": [
      "2025-05-22 01:39:41 - INFO - \n",
      "=== Epoch 26 Summary ===\n",
      "2025-05-22 01:39:41 - INFO - Time: 237.79s\n",
      "2025-05-22 01:39:41 - INFO - Training   - accuracy: 0.9318 - auc: 0.8826 - f1_score: 0.3671 - loss: 0.0497 - precision: 0.6324 - recall: 0.2939 - learning_rate: 0.0000\n",
      "2025-05-22 01:39:41 - INFO - Validation - accuracy: 0.9347 - auc: 0.7602 - f1_score: 0.1211 - loss: 0.0772 - precision: 0.2732 - recall: 0.1076\n",
      "2025-05-22 01:39:41 - INFO - ==================================================\n",
      "\n"
     ]
    },
    {
     "name": "stdout",
     "output_type": "stream",
     "text": [
      "\u001b[1m813/813\u001b[0m \u001b[32m━━━━━━━━━━━━━━━━━━━━\u001b[0m\u001b[37m\u001b[0m \u001b[1m238s\u001b[0m 293ms/step - accuracy: 0.9313 - auc: 0.8790 - f1_score: 0.3613 - loss: 0.0502 - precision: 0.6290 - recall: 0.2880 - val_accuracy: 0.9347 - val_auc: 0.7602 - val_f1_score: 0.1211 - val_loss: 0.0772 - val_precision: 0.2732 - val_recall: 0.1076 - learning_rate: 2.5000e-05\n"
     ]
    },
    {
     "name": "stderr",
     "output_type": "stream",
     "text": [
      "2025-05-22 01:39:41 - INFO - \n",
      "=== Starting Epoch 27 ===\n",
      "\n"
     ]
    },
    {
     "name": "stdout",
     "output_type": "stream",
     "text": [
      "Epoch 27/100\n",
      "\u001b[1m813/813\u001b[0m \u001b[32m━━━━━━━━━━━━━━━━━━━━\u001b[0m\u001b[37m\u001b[0m \u001b[1m0s\u001b[0m 259ms/step - accuracy: 0.9317 - auc: 0.8844 - f1_score: 0.3744 - loss: 0.0492 - precision: 0.6350 - recall: 0.3008  "
     ]
    },
    {
     "name": "stderr",
     "output_type": "stream",
     "text": [
      "2025-05-22 01:43:27 - INFO - \n",
      "=== Epoch 27 Summary ===\n",
      "2025-05-22 01:43:27 - INFO - Time: 226.48s\n",
      "2025-05-22 01:43:27 - INFO - Training   - accuracy: 0.9327 - auc: 0.8880 - f1_score: 0.3832 - loss: 0.0485 - precision: 0.6406 - recall: 0.3085 - learning_rate: 0.0000\n",
      "2025-05-22 01:43:27 - INFO - Validation - accuracy: 0.9351 - auc: 0.7572 - f1_score: 0.1707 - loss: 0.0735 - precision: 0.3231 - recall: 0.1569\n",
      "2025-05-22 01:43:27 - INFO - ==================================================\n",
      "\n"
     ]
    },
    {
     "name": "stdout",
     "output_type": "stream",
     "text": [
      "\u001b[1m813/813\u001b[0m \u001b[32m━━━━━━━━━━━━━━━━━━━━\u001b[0m\u001b[37m\u001b[0m \u001b[1m226s\u001b[0m 279ms/step - accuracy: 0.9317 - auc: 0.8844 - f1_score: 0.3744 - loss: 0.0492 - precision: 0.6351 - recall: 0.3008 - val_accuracy: 0.9351 - val_auc: 0.7572 - val_f1_score: 0.1707 - val_loss: 0.0735 - val_precision: 0.3231 - val_recall: 0.1569 - learning_rate: 2.5000e-05\n"
     ]
    },
    {
     "name": "stderr",
     "output_type": "stream",
     "text": [
      "2025-05-22 01:43:27 - INFO - \n",
      "=== Starting Epoch 28 ===\n",
      "\n"
     ]
    },
    {
     "name": "stdout",
     "output_type": "stream",
     "text": [
      "Epoch 28/100\n",
      "\u001b[1m813/813\u001b[0m \u001b[32m━━━━━━━━━━━━━━━━━━━━\u001b[0m\u001b[37m\u001b[0m \u001b[1m0s\u001b[0m 279ms/step - accuracy: 0.9331 - auc: 0.8907 - f1_score: 0.3963 - loss: 0.0481 - precision: 0.6478 - recall: 0.3204  "
     ]
    },
    {
     "name": "stderr",
     "output_type": "stream",
     "text": [
      "2025-05-22 01:47:31 - INFO - \n",
      "=== Epoch 28 Summary ===\n",
      "2025-05-22 01:47:31 - INFO - Time: 243.83s\n",
      "2025-05-22 01:47:31 - INFO - Training   - accuracy: 0.9338 - auc: 0.8933 - f1_score: 0.4012 - loss: 0.0474 - precision: 0.6511 - recall: 0.3246 - learning_rate: 0.0000\n",
      "2025-05-22 01:47:31 - INFO - Validation - accuracy: 0.9203 - auc: 0.7531 - f1_score: 0.2095 - loss: 0.0813 - precision: 0.2280 - recall: 0.1843\n",
      "2025-05-22 01:47:31 - INFO - ==================================================\n",
      "\n"
     ]
    },
    {
     "name": "stdout",
     "output_type": "stream",
     "text": [
      "\u001b[1m813/813\u001b[0m \u001b[32m━━━━━━━━━━━━━━━━━━━━\u001b[0m\u001b[37m\u001b[0m \u001b[1m244s\u001b[0m 300ms/step - accuracy: 0.9331 - auc: 0.8907 - f1_score: 0.3963 - loss: 0.0481 - precision: 0.6478 - recall: 0.3205 - val_accuracy: 0.9203 - val_auc: 0.7531 - val_f1_score: 0.2095 - val_loss: 0.0813 - val_precision: 0.2280 - val_recall: 0.1843 - learning_rate: 2.5000e-05\n"
     ]
    },
    {
     "name": "stderr",
     "output_type": "stream",
     "text": [
      "2025-05-22 01:47:31 - INFO - \n",
      "=== Starting Epoch 29 ===\n",
      "\n"
     ]
    },
    {
     "name": "stdout",
     "output_type": "stream",
     "text": [
      "Epoch 29/100\n",
      "\u001b[1m813/813\u001b[0m \u001b[32m━━━━━━━━━━━━━━━━━━━━\u001b[0m\u001b[37m\u001b[0m \u001b[1m0s\u001b[0m 279ms/step - accuracy: 0.9342 - auc: 0.8956 - f1_score: 0.4099 - loss: 0.0471 - precision: 0.6543 - recall: 0.3320  "
     ]
    },
    {
     "name": "stderr",
     "output_type": "stream",
     "text": [
      "2025-05-22 01:51:34 - INFO - \n",
      "=== Epoch 29 Summary ===\n",
      "2025-05-22 01:51:34 - INFO - Time: 242.60s\n",
      "2025-05-22 01:51:34 - INFO - Training   - accuracy: 0.9347 - auc: 0.8979 - f1_score: 0.4141 - loss: 0.0465 - precision: 0.6572 - recall: 0.3364 - learning_rate: 0.0000\n",
      "2025-05-22 01:51:34 - INFO - Validation - accuracy: 0.9314 - auc: 0.7498 - f1_score: 0.1465 - loss: 0.0815 - precision: 0.2791 - recall: 0.1506\n",
      "2025-05-22 01:51:34 - INFO - ==================================================\n",
      "\n"
     ]
    },
    {
     "name": "stdout",
     "output_type": "stream",
     "text": [
      "\u001b[1m813/813\u001b[0m \u001b[32m━━━━━━━━━━━━━━━━━━━━\u001b[0m\u001b[37m\u001b[0m \u001b[1m243s\u001b[0m 298ms/step - accuracy: 0.9342 - auc: 0.8956 - f1_score: 0.4099 - loss: 0.0471 - precision: 0.6543 - recall: 0.3320 - val_accuracy: 0.9314 - val_auc: 0.7498 - val_f1_score: 0.1465 - val_loss: 0.0815 - val_precision: 0.2791 - val_recall: 0.1506 - learning_rate: 2.5000e-05\n"
     ]
    },
    {
     "name": "stderr",
     "output_type": "stream",
     "text": [
      "2025-05-22 01:51:34 - INFO - \n",
      "=== Starting Epoch 30 ===\n",
      "\n"
     ]
    },
    {
     "name": "stdout",
     "output_type": "stream",
     "text": [
      "Epoch 30/100\n",
      "\u001b[1m813/813\u001b[0m \u001b[32m━━━━━━━━━━━━━━━━━━━━\u001b[0m\u001b[37m\u001b[0m \u001b[1m0s\u001b[0m 277ms/step - accuracy: 0.9350 - auc: 0.9000 - f1_score: 0.4238 - loss: 0.0461 - precision: 0.6566 - recall: 0.3462  "
     ]
    },
    {
     "name": "stderr",
     "output_type": "stream",
     "text": [
      "2025-05-22 01:55:41 - INFO - \n",
      "=== Epoch 30 Summary ===\n",
      "2025-05-22 01:55:41 - INFO - Time: 247.11s\n",
      "2025-05-22 01:55:41 - INFO - Training   - accuracy: 0.9356 - auc: 0.9030 - f1_score: 0.4296 - loss: 0.0455 - precision: 0.6616 - recall: 0.3513 - learning_rate: 0.0000\n",
      "2025-05-22 01:55:41 - INFO - Validation - accuracy: 0.9283 - auc: 0.7436 - f1_score: 0.2220 - loss: 0.0760 - precision: 0.3074 - recall: 0.2355\n",
      "2025-05-22 01:55:41 - INFO - ==================================================\n",
      "\n"
     ]
    },
    {
     "name": "stdout",
     "output_type": "stream",
     "text": [
      "\u001b[1m813/813\u001b[0m \u001b[32m━━━━━━━━━━━━━━━━━━━━\u001b[0m\u001b[37m\u001b[0m \u001b[1m247s\u001b[0m 304ms/step - accuracy: 0.9350 - auc: 0.9000 - f1_score: 0.4238 - loss: 0.0461 - precision: 0.6566 - recall: 0.3462 - val_accuracy: 0.9283 - val_auc: 0.7436 - val_f1_score: 0.2220 - val_loss: 0.0760 - val_precision: 0.3074 - val_recall: 0.2355 - learning_rate: 2.5000e-05\n"
     ]
    },
    {
     "name": "stderr",
     "output_type": "stream",
     "text": [
      "2025-05-22 01:55:41 - INFO - \n",
      "=== Starting Epoch 31 ===\n",
      "\n"
     ]
    },
    {
     "name": "stdout",
     "output_type": "stream",
     "text": [
      "Epoch 31/100\n",
      "\u001b[1m813/813\u001b[0m \u001b[32m━━━━━━━━━━━━━━━━━━━━\u001b[0m\u001b[37m\u001b[0m \u001b[1m0s\u001b[0m 275ms/step - accuracy: 0.9359 - auc: 0.9060 - f1_score: 0.4437 - loss: 0.0451 - precision: 0.6702 - recall: 0.3630  "
     ]
    },
    {
     "name": "stderr",
     "output_type": "stream",
     "text": [
      "2025-05-22 01:59:41 - INFO - \n",
      "=== Epoch 31 Summary ===\n",
      "2025-05-22 01:59:41 - INFO - Time: 239.68s\n",
      "2025-05-22 01:59:41 - INFO - Training   - accuracy: 0.9367 - auc: 0.9076 - f1_score: 0.4479 - loss: 0.0445 - precision: 0.6715 - recall: 0.3676 - learning_rate: 0.0000\n",
      "2025-05-22 01:59:41 - INFO - Validation - accuracy: 0.9240 - auc: 0.7480 - f1_score: 0.1679 - loss: 0.0840 - precision: 0.2640 - recall: 0.2085\n",
      "2025-05-22 01:59:41 - INFO - ==================================================\n",
      "\n"
     ]
    },
    {
     "name": "stdout",
     "output_type": "stream",
     "text": [
      "\u001b[1m813/813\u001b[0m \u001b[32m━━━━━━━━━━━━━━━━━━━━\u001b[0m\u001b[37m\u001b[0m \u001b[1m240s\u001b[0m 295ms/step - accuracy: 0.9359 - auc: 0.9060 - f1_score: 0.4437 - loss: 0.0451 - precision: 0.6702 - recall: 0.3631 - val_accuracy: 0.9240 - val_auc: 0.7480 - val_f1_score: 0.1679 - val_loss: 0.0840 - val_precision: 0.2640 - val_recall: 0.2085 - learning_rate: 2.5000e-05\n"
     ]
    },
    {
     "name": "stderr",
     "output_type": "stream",
     "text": [
      "2025-05-22 01:59:41 - INFO - \n",
      "=== Starting Epoch 32 ===\n",
      "\n"
     ]
    },
    {
     "name": "stdout",
     "output_type": "stream",
     "text": [
      "Epoch 32/100\n",
      "\u001b[1m813/813\u001b[0m \u001b[32m━━━━━━━━━━━━━━━━━━━━\u001b[0m\u001b[37m\u001b[0m \u001b[1m0s\u001b[0m 275ms/step - accuracy: 0.9372 - auc: 0.9098 - f1_score: 0.4546 - loss: 0.0442 - precision: 0.6746 - recall: 0.3745  "
     ]
    },
    {
     "name": "stderr",
     "output_type": "stream",
     "text": [
      "2025-05-22 02:03:41 - INFO - \n",
      "=== Epoch 32 Summary ===\n",
      "2025-05-22 02:03:41 - INFO - Time: 240.51s\n",
      "2025-05-22 02:03:41 - INFO - Training   - accuracy: 0.9375 - auc: 0.9110 - f1_score: 0.4565 - loss: 0.0439 - precision: 0.6765 - recall: 0.3761 - learning_rate: 0.0000\n",
      "2025-05-22 02:03:41 - INFO - Validation - accuracy: 0.9319 - auc: 0.7597 - f1_score: 0.2477 - loss: 0.0748 - precision: 0.3347 - recall: 0.2315\n",
      "2025-05-22 02:03:41 - INFO - ==================================================\n",
      "\n"
     ]
    },
    {
     "name": "stdout",
     "output_type": "stream",
     "text": [
      "\u001b[1m813/813\u001b[0m \u001b[32m━━━━━━━━━━━━━━━━━━━━\u001b[0m\u001b[37m\u001b[0m \u001b[1m241s\u001b[0m 296ms/step - accuracy: 0.9372 - auc: 0.9098 - f1_score: 0.4546 - loss: 0.0442 - precision: 0.6746 - recall: 0.3745 - val_accuracy: 0.9319 - val_auc: 0.7597 - val_f1_score: 0.2477 - val_loss: 0.0748 - val_precision: 0.3347 - val_recall: 0.2315 - learning_rate: 2.5000e-05\n"
     ]
    },
    {
     "name": "stderr",
     "output_type": "stream",
     "text": [
      "2025-05-22 02:03:41 - INFO - \n",
      "=== Starting Epoch 33 ===\n",
      "\n"
     ]
    },
    {
     "name": "stdout",
     "output_type": "stream",
     "text": [
      "Epoch 33/100\n",
      "\u001b[1m813/813\u001b[0m \u001b[32m━━━━━━━━━━━━━━━━━━━━\u001b[0m\u001b[37m\u001b[0m \u001b[1m0s\u001b[0m 274ms/step - accuracy: 0.9383 - auc: 0.9142 - f1_score: 0.4693 - loss: 0.0433 - precision: 0.6829 - recall: 0.3883  "
     ]
    },
    {
     "name": "stderr",
     "output_type": "stream",
     "text": [
      "2025-05-22 02:07:40 - INFO - \n",
      "=== Epoch 33 Summary ===\n",
      "2025-05-22 02:07:40 - INFO - Time: 238.70s\n",
      "2025-05-22 02:07:40 - INFO - Training   - accuracy: 0.9386 - auc: 0.9149 - f1_score: 0.4729 - loss: 0.0430 - precision: 0.6846 - recall: 0.3909 - learning_rate: 0.0000\n",
      "2025-05-22 02:07:40 - INFO - Validation - accuracy: 0.9221 - auc: 0.7587 - f1_score: 0.1196 - loss: 0.0974 - precision: 0.1875 - recall: 0.1217\n",
      "2025-05-22 02:07:40 - INFO - ==================================================\n",
      "\n"
     ]
    },
    {
     "name": "stdout",
     "output_type": "stream",
     "text": [
      "\u001b[1m813/813\u001b[0m \u001b[32m━━━━━━━━━━━━━━━━━━━━\u001b[0m\u001b[37m\u001b[0m \u001b[1m239s\u001b[0m 294ms/step - accuracy: 0.9383 - auc: 0.9142 - f1_score: 0.4693 - loss: 0.0433 - precision: 0.6829 - recall: 0.3883 - val_accuracy: 0.9221 - val_auc: 0.7587 - val_f1_score: 0.1196 - val_loss: 0.0974 - val_precision: 0.1875 - val_recall: 0.1217 - learning_rate: 2.5000e-05\n"
     ]
    },
    {
     "name": "stderr",
     "output_type": "stream",
     "text": [
      "2025-05-22 02:07:40 - INFO - \n",
      "=== Starting Epoch 34 ===\n",
      "\n"
     ]
    },
    {
     "name": "stdout",
     "output_type": "stream",
     "text": [
      "Epoch 34/100\n",
      "\u001b[1m813/813\u001b[0m \u001b[32m━━━━━━━━━━━━━━━━━━━━\u001b[0m\u001b[37m\u001b[0m \u001b[1m0s\u001b[0m 341ms/step - accuracy: 0.9388 - auc: 0.9170 - f1_score: 0.4808 - loss: 0.0427 - precision: 0.6854 - recall: 0.4001   "
     ]
    },
    {
     "name": "stderr",
     "output_type": "stream",
     "text": [
      "2025-05-22 02:12:33 - INFO - \n",
      "=== Epoch 34 Summary ===\n",
      "2025-05-22 02:12:33 - INFO - Time: 292.62s\n",
      "2025-05-22 02:12:33 - INFO - Training   - accuracy: 0.9392 - auc: 0.9182 - f1_score: 0.4839 - loss: 0.0424 - precision: 0.6872 - recall: 0.4026 - learning_rate: 0.0000\n",
      "2025-05-22 02:12:33 - INFO - Validation - accuracy: 0.9324 - auc: 0.7525 - f1_score: 0.1778 - loss: 0.0767 - precision: 0.2895 - recall: 0.1520\n",
      "2025-05-22 02:12:33 - INFO - ==================================================\n",
      "\n"
     ]
    },
    {
     "name": "stdout",
     "output_type": "stream",
     "text": [
      "\u001b[1m813/813\u001b[0m \u001b[32m━━━━━━━━━━━━━━━━━━━━\u001b[0m\u001b[37m\u001b[0m \u001b[1m293s\u001b[0m 360ms/step - accuracy: 0.9388 - auc: 0.9170 - f1_score: 0.4808 - loss: 0.0427 - precision: 0.6854 - recall: 0.4001 - val_accuracy: 0.9324 - val_auc: 0.7525 - val_f1_score: 0.1778 - val_loss: 0.0767 - val_precision: 0.2895 - val_recall: 0.1520 - learning_rate: 2.5000e-05\n"
     ]
    },
    {
     "name": "stderr",
     "output_type": "stream",
     "text": [
      "2025-05-22 02:12:33 - INFO - \n",
      "=== Starting Epoch 35 ===\n",
      "\n"
     ]
    },
    {
     "name": "stdout",
     "output_type": "stream",
     "text": [
      "Epoch 35/100\n",
      "\u001b[1m813/813\u001b[0m \u001b[32m━━━━━━━━━━━━━━━━━━━━\u001b[0m\u001b[37m\u001b[0m \u001b[1m0s\u001b[0m 277ms/step - accuracy: 0.9399 - auc: 0.9208 - f1_score: 0.4926 - loss: 0.0418 - precision: 0.6941 - recall: 0.4121  \n",
      "Epoch 35: ReduceLROnPlateau reducing learning rate to 1.249999968422344e-05.\n"
     ]
    },
    {
     "name": "stderr",
     "output_type": "stream",
     "text": [
      "2025-05-22 02:16:34 - INFO - \n",
      "=== Epoch 35 Summary ===\n",
      "2025-05-22 02:16:34 - INFO - Time: 241.41s\n",
      "2025-05-22 02:16:34 - INFO - Training   - accuracy: 0.9403 - auc: 0.9215 - f1_score: 0.4968 - loss: 0.0416 - precision: 0.6952 - recall: 0.4156 - learning_rate: 0.0000\n",
      "2025-05-22 02:16:34 - INFO - Validation - accuracy: 0.9348 - auc: 0.7599 - f1_score: 0.1960 - loss: 0.0762 - precision: 0.3279 - recall: 0.1683\n",
      "2025-05-22 02:16:34 - INFO - ==================================================\n",
      "\n"
     ]
    },
    {
     "name": "stdout",
     "output_type": "stream",
     "text": [
      "\u001b[1m813/813\u001b[0m \u001b[32m━━━━━━━━━━━━━━━━━━━━\u001b[0m\u001b[37m\u001b[0m \u001b[1m241s\u001b[0m 297ms/step - accuracy: 0.9399 - auc: 0.9208 - f1_score: 0.4926 - loss: 0.0418 - precision: 0.6941 - recall: 0.4121 - val_accuracy: 0.9348 - val_auc: 0.7599 - val_f1_score: 0.1960 - val_loss: 0.0762 - val_precision: 0.3279 - val_recall: 0.1683 - learning_rate: 2.5000e-05\n"
     ]
    },
    {
     "name": "stderr",
     "output_type": "stream",
     "text": [
      "2025-05-22 02:16:34 - INFO - \n",
      "=== Starting Epoch 36 ===\n",
      "\n"
     ]
    },
    {
     "name": "stdout",
     "output_type": "stream",
     "text": [
      "Epoch 36/100\n",
      "\u001b[1m813/813\u001b[0m \u001b[32m━━━━━━━━━━━━━━━━━━━━\u001b[0m\u001b[37m\u001b[0m \u001b[1m0s\u001b[0m 278ms/step - accuracy: 0.9436 - auc: 0.9309 - f1_score: 0.5277 - loss: 0.0395 - precision: 0.7257 - recall: 0.4431  "
     ]
    },
    {
     "name": "stderr",
     "output_type": "stream",
     "text": [
      "2025-05-22 02:20:35 - INFO - \n",
      "=== Epoch 36 Summary ===\n",
      "2025-05-22 02:20:35 - INFO - Time: 241.52s\n",
      "2025-05-22 02:20:35 - INFO - Training   - accuracy: 0.9447 - auc: 0.9345 - f1_score: 0.5395 - loss: 0.0387 - precision: 0.7329 - recall: 0.4550 - learning_rate: 0.0000\n",
      "2025-05-22 02:20:35 - INFO - Validation - accuracy: 0.9331 - auc: 0.7610 - f1_score: 0.2312 - loss: 0.0776 - precision: 0.3254 - recall: 0.1934\n",
      "2025-05-22 02:20:35 - INFO - ==================================================\n",
      "\n"
     ]
    },
    {
     "name": "stdout",
     "output_type": "stream",
     "text": [
      "\u001b[1m813/813\u001b[0m \u001b[32m━━━━━━━━━━━━━━━━━━━━\u001b[0m\u001b[37m\u001b[0m \u001b[1m242s\u001b[0m 297ms/step - accuracy: 0.9436 - auc: 0.9309 - f1_score: 0.5277 - loss: 0.0395 - precision: 0.7257 - recall: 0.4431 - val_accuracy: 0.9331 - val_auc: 0.7610 - val_f1_score: 0.2312 - val_loss: 0.0776 - val_precision: 0.3254 - val_recall: 0.1934 - learning_rate: 1.2500e-05\n"
     ]
    },
    {
     "name": "stderr",
     "output_type": "stream",
     "text": [
      "2025-05-22 02:20:36 - INFO - \n",
      "=== Starting Epoch 37 ===\n",
      "\n"
     ]
    },
    {
     "name": "stdout",
     "output_type": "stream",
     "text": [
      "Epoch 37/100\n",
      "\u001b[1m813/813\u001b[0m \u001b[32m━━━━━━━━━━━━━━━━━━━━\u001b[0m\u001b[37m\u001b[0m \u001b[1m0s\u001b[0m 277ms/step - accuracy: 0.9458 - auc: 0.9374 - f1_score: 0.5570 - loss: 0.0379 - precision: 0.7387 - recall: 0.4727  "
     ]
    },
    {
     "name": "stderr",
     "output_type": "stream",
     "text": [
      "2025-05-22 02:24:36 - INFO - \n",
      "=== Epoch 37 Summary ===\n",
      "2025-05-22 02:24:36 - INFO - Time: 240.86s\n",
      "2025-05-22 02:24:36 - INFO - Training   - accuracy: 0.9464 - auc: 0.9387 - f1_score: 0.5616 - loss: 0.0376 - precision: 0.7406 - recall: 0.4783 - learning_rate: 0.0000\n",
      "2025-05-22 02:24:36 - INFO - Validation - accuracy: 0.9258 - auc: 0.7529 - f1_score: 0.2295 - loss: 0.0814 - precision: 0.2826 - recall: 0.2209\n",
      "2025-05-22 02:24:36 - INFO - ==================================================\n",
      "\n"
     ]
    },
    {
     "name": "stdout",
     "output_type": "stream",
     "text": [
      "\u001b[1m813/813\u001b[0m \u001b[32m━━━━━━━━━━━━━━━━━━━━\u001b[0m\u001b[37m\u001b[0m \u001b[1m241s\u001b[0m 296ms/step - accuracy: 0.9458 - auc: 0.9374 - f1_score: 0.5570 - loss: 0.0379 - precision: 0.7387 - recall: 0.4727 - val_accuracy: 0.9258 - val_auc: 0.7529 - val_f1_score: 0.2295 - val_loss: 0.0814 - val_precision: 0.2826 - val_recall: 0.2209 - learning_rate: 1.2500e-05\n"
     ]
    },
    {
     "name": "stderr",
     "output_type": "stream",
     "text": [
      "2025-05-22 02:24:36 - INFO - \n",
      "=== Starting Epoch 38 ===\n",
      "\n"
     ]
    },
    {
     "name": "stdout",
     "output_type": "stream",
     "text": [
      "Epoch 38/100\n",
      "\u001b[1m813/813\u001b[0m \u001b[32m━━━━━━━━━━━━━━━━━━━━\u001b[0m\u001b[37m\u001b[0m \u001b[1m0s\u001b[0m 276ms/step - accuracy: 0.9471 - auc: 0.9413 - f1_score: 0.5754 - loss: 0.0371 - precision: 0.7440 - recall: 0.4937  \n",
      "Epoch 38: ReduceLROnPlateau reducing learning rate to 6.24999984211172e-06.\n"
     ]
    },
    {
     "name": "stderr",
     "output_type": "stream",
     "text": [
      "2025-05-22 02:28:36 - INFO - \n",
      "=== Epoch 38 Summary ===\n",
      "2025-05-22 02:28:36 - INFO - Time: 240.02s\n",
      "2025-05-22 02:28:36 - INFO - Training   - accuracy: 0.9475 - auc: 0.9424 - f1_score: 0.5762 - loss: 0.0368 - precision: 0.7447 - recall: 0.4950 - learning_rate: 0.0000\n",
      "2025-05-22 02:28:36 - INFO - Validation - accuracy: 0.9303 - auc: 0.7610 - f1_score: 0.2455 - loss: 0.0763 - precision: 0.3141 - recall: 0.2185\n",
      "2025-05-22 02:28:36 - INFO - ==================================================\n",
      "\n"
     ]
    },
    {
     "name": "stdout",
     "output_type": "stream",
     "text": [
      "\u001b[1m813/813\u001b[0m \u001b[32m━━━━━━━━━━━━━━━━━━━━\u001b[0m\u001b[37m\u001b[0m \u001b[1m240s\u001b[0m 295ms/step - accuracy: 0.9471 - auc: 0.9413 - f1_score: 0.5754 - loss: 0.0371 - precision: 0.7440 - recall: 0.4937 - val_accuracy: 0.9303 - val_auc: 0.7610 - val_f1_score: 0.2455 - val_loss: 0.0763 - val_precision: 0.3141 - val_recall: 0.2185 - learning_rate: 1.2500e-05\n"
     ]
    },
    {
     "name": "stderr",
     "output_type": "stream",
     "text": [
      "2025-05-22 02:28:36 - INFO - \n",
      "=== Starting Epoch 39 ===\n",
      "\n"
     ]
    },
    {
     "name": "stdout",
     "output_type": "stream",
     "text": [
      "Epoch 39/100\n",
      "\u001b[1m813/813\u001b[0m \u001b[32m━━━━━━━━━━━━━━━━━━━━\u001b[0m\u001b[37m\u001b[0m \u001b[1m0s\u001b[0m 275ms/step - accuracy: 0.9488 - auc: 0.9461 - f1_score: 0.5928 - loss: 0.0359 - precision: 0.7572 - recall: 0.5113  "
     ]
    },
    {
     "name": "stderr",
     "output_type": "stream",
     "text": [
      "2025-05-22 02:32:43 - INFO - \n",
      "=== Epoch 39 Summary ===\n",
      "2025-05-22 02:32:43 - INFO - Time: 246.13s\n",
      "2025-05-22 02:32:43 - INFO - Training   - accuracy: 0.9503 - auc: 0.9486 - f1_score: 0.6026 - loss: 0.0352 - precision: 0.7665 - recall: 0.5206 - learning_rate: 0.0000\n",
      "2025-05-22 02:32:43 - INFO - Validation - accuracy: 0.9350 - auc: 0.7611 - f1_score: 0.2343 - loss: 0.0796 - precision: 0.3469 - recall: 0.1969\n",
      "2025-05-22 02:32:43 - INFO - ==================================================\n",
      "\n"
     ]
    },
    {
     "name": "stdout",
     "output_type": "stream",
     "text": [
      "\u001b[1m813/813\u001b[0m \u001b[32m━━━━━━━━━━━━━━━━━━━━\u001b[0m\u001b[37m\u001b[0m \u001b[1m246s\u001b[0m 303ms/step - accuracy: 0.9488 - auc: 0.9461 - f1_score: 0.5928 - loss: 0.0359 - precision: 0.7572 - recall: 0.5113 - val_accuracy: 0.9350 - val_auc: 0.7611 - val_f1_score: 0.2343 - val_loss: 0.0796 - val_precision: 0.3469 - val_recall: 0.1969 - learning_rate: 6.2500e-06\n"
     ]
    },
    {
     "name": "stderr",
     "output_type": "stream",
     "text": [
      "2025-05-22 02:32:43 - INFO - \n",
      "=== Starting Epoch 40 ===\n",
      "\n"
     ]
    },
    {
     "name": "stdout",
     "output_type": "stream",
     "text": [
      "Epoch 40/100\n",
      "\u001b[1m813/813\u001b[0m \u001b[32m━━━━━━━━━━━━━━━━━━━━\u001b[0m\u001b[37m\u001b[0m \u001b[1m0s\u001b[0m 274ms/step - accuracy: 0.9509 - auc: 0.9504 - f1_score: 0.6104 - loss: 0.0348 - precision: 0.7693 - recall: 0.5292  "
     ]
    },
    {
     "name": "stderr",
     "output_type": "stream",
     "text": [
      "2025-05-22 02:36:45 - INFO - \n",
      "=== Epoch 40 Summary ===\n",
      "2025-05-22 02:36:45 - INFO - Time: 242.70s\n",
      "2025-05-22 02:36:45 - INFO - Training   - accuracy: 0.9513 - auc: 0.9514 - f1_score: 0.6136 - loss: 0.0345 - precision: 0.7714 - recall: 0.5325 - learning_rate: 0.0000\n",
      "2025-05-22 02:36:45 - INFO - Validation - accuracy: 0.9297 - auc: 0.7607 - f1_score: 0.2470 - loss: 0.0809 - precision: 0.3043 - recall: 0.2097\n",
      "2025-05-22 02:36:45 - INFO - ==================================================\n",
      "\n"
     ]
    },
    {
     "name": "stdout",
     "output_type": "stream",
     "text": [
      "\u001b[1m813/813\u001b[0m \u001b[32m━━━━━━━━━━━━━━━━━━━━\u001b[0m\u001b[37m\u001b[0m \u001b[1m243s\u001b[0m 299ms/step - accuracy: 0.9509 - auc: 0.9504 - f1_score: 0.6104 - loss: 0.0348 - precision: 0.7693 - recall: 0.5292 - val_accuracy: 0.9297 - val_auc: 0.7607 - val_f1_score: 0.2470 - val_loss: 0.0809 - val_precision: 0.3043 - val_recall: 0.2097 - learning_rate: 6.2500e-06\n"
     ]
    },
    {
     "name": "stderr",
     "output_type": "stream",
     "text": [
      "2025-05-22 02:36:45 - INFO - \n",
      "=== Starting Epoch 41 ===\n",
      "\n"
     ]
    },
    {
     "name": "stdout",
     "output_type": "stream",
     "text": [
      "Epoch 41/100\n",
      "\u001b[1m813/813\u001b[0m \u001b[32m━━━━━━━━━━━━━━━━━━━━\u001b[0m\u001b[37m\u001b[0m \u001b[1m0s\u001b[0m 272ms/step - accuracy: 0.9514 - auc: 0.9519 - f1_score: 0.6183 - loss: 0.0346 - precision: 0.7702 - recall: 0.5393  \n",
      "Epoch 41: ReduceLROnPlateau reducing learning rate to 3.12499992105586e-06.\n"
     ]
    },
    {
     "name": "stderr",
     "output_type": "stream",
     "text": [
      "2025-05-22 02:40:42 - INFO - \n",
      "=== Epoch 41 Summary ===\n",
      "2025-05-22 02:40:42 - INFO - Time: 236.70s\n",
      "2025-05-22 02:40:42 - INFO - Training   - accuracy: 0.9520 - auc: 0.9534 - f1_score: 0.6223 - loss: 0.0341 - precision: 0.7734 - recall: 0.5434 - learning_rate: 0.0000\n",
      "2025-05-22 02:40:42 - INFO - Validation - accuracy: 0.9360 - auc: 0.7648 - f1_score: 0.2165 - loss: 0.0794 - precision: 0.3442 - recall: 0.1717\n",
      "2025-05-22 02:40:42 - INFO - ==================================================\n",
      "\n"
     ]
    },
    {
     "name": "stdout",
     "output_type": "stream",
     "text": [
      "\u001b[1m813/813\u001b[0m \u001b[32m━━━━━━━━━━━━━━━━━━━━\u001b[0m\u001b[37m\u001b[0m \u001b[1m237s\u001b[0m 291ms/step - accuracy: 0.9514 - auc: 0.9519 - f1_score: 0.6183 - loss: 0.0346 - precision: 0.7702 - recall: 0.5393 - val_accuracy: 0.9360 - val_auc: 0.7648 - val_f1_score: 0.2165 - val_loss: 0.0794 - val_precision: 0.3442 - val_recall: 0.1717 - learning_rate: 6.2500e-06\n"
     ]
    },
    {
     "name": "stderr",
     "output_type": "stream",
     "text": [
      "2025-05-22 02:40:42 - INFO - \n",
      "=== Starting Epoch 42 ===\n",
      "\n"
     ]
    },
    {
     "name": "stdout",
     "output_type": "stream",
     "text": [
      "Epoch 42/100\n",
      "\u001b[1m813/813\u001b[0m \u001b[32m━━━━━━━━━━━━━━━━━━━━\u001b[0m\u001b[37m\u001b[0m \u001b[1m0s\u001b[0m 273ms/step - accuracy: 0.9534 - auc: 0.9558 - f1_score: 0.6353 - loss: 0.0336 - precision: 0.7835 - recall: 0.5562  "
     ]
    },
    {
     "name": "stderr",
     "output_type": "stream",
     "text": [
      "2025-05-22 02:44:41 - INFO - \n",
      "=== Epoch 42 Summary ===\n",
      "2025-05-22 02:44:41 - INFO - Time: 238.55s\n",
      "2025-05-22 02:44:41 - INFO - Training   - accuracy: 0.9539 - auc: 0.9568 - f1_score: 0.6390 - loss: 0.0333 - precision: 0.7856 - recall: 0.5602 - learning_rate: 0.0000\n",
      "2025-05-22 02:44:41 - INFO - Validation - accuracy: 0.9322 - auc: 0.7581 - f1_score: 0.2486 - loss: 0.0799 - precision: 0.3333 - recall: 0.2244\n",
      "2025-05-22 02:44:41 - INFO - ==================================================\n",
      "\n"
     ]
    },
    {
     "name": "stdout",
     "output_type": "stream",
     "text": [
      "\u001b[1m813/813\u001b[0m \u001b[32m━━━━━━━━━━━━━━━━━━━━\u001b[0m\u001b[37m\u001b[0m \u001b[1m239s\u001b[0m 294ms/step - accuracy: 0.9534 - auc: 0.9558 - f1_score: 0.6353 - loss: 0.0336 - precision: 0.7835 - recall: 0.5562 - val_accuracy: 0.9322 - val_auc: 0.7581 - val_f1_score: 0.2486 - val_loss: 0.0799 - val_precision: 0.3333 - val_recall: 0.2244 - learning_rate: 3.1250e-06\n"
     ]
    },
    {
     "name": "stderr",
     "output_type": "stream",
     "text": [
      "2025-05-22 02:44:41 - INFO - \n",
      "=== Starting Epoch 43 ===\n",
      "\n"
     ]
    },
    {
     "name": "stdout",
     "output_type": "stream",
     "text": [
      "Epoch 43/100\n",
      "\u001b[1m813/813\u001b[0m \u001b[32m━━━━━━━━━━━━━━━━━━━━\u001b[0m\u001b[37m\u001b[0m \u001b[1m0s\u001b[0m 274ms/step - accuracy: 0.9543 - auc: 0.9577 - f1_score: 0.6447 - loss: 0.0330 - precision: 0.7889 - recall: 0.5660  "
     ]
    },
    {
     "name": "stderr",
     "output_type": "stream",
     "text": [
      "2025-05-22 02:48:40 - INFO - \n",
      "=== Epoch 43 Summary ===\n",
      "2025-05-22 02:48:40 - INFO - Time: 239.05s\n",
      "2025-05-22 02:48:40 - INFO - Training   - accuracy: 0.9546 - auc: 0.9580 - f1_score: 0.6464 - loss: 0.0329 - precision: 0.7901 - recall: 0.5682 - learning_rate: 0.0000\n",
      "2025-05-22 02:48:40 - INFO - Validation - accuracy: 0.9306 - auc: 0.7583 - f1_score: 0.2623 - loss: 0.0788 - precision: 0.3271 - recall: 0.2385\n",
      "2025-05-22 02:48:40 - INFO - ==================================================\n",
      "\n"
     ]
    },
    {
     "name": "stdout",
     "output_type": "stream",
     "text": [
      "\u001b[1m813/813\u001b[0m \u001b[32m━━━━━━━━━━━━━━━━━━━━\u001b[0m\u001b[37m\u001b[0m \u001b[1m239s\u001b[0m 294ms/step - accuracy: 0.9543 - auc: 0.9577 - f1_score: 0.6447 - loss: 0.0330 - precision: 0.7889 - recall: 0.5660 - val_accuracy: 0.9306 - val_auc: 0.7583 - val_f1_score: 0.2623 - val_loss: 0.0788 - val_precision: 0.3271 - val_recall: 0.2385 - learning_rate: 3.1250e-06\n"
     ]
    },
    {
     "name": "stderr",
     "output_type": "stream",
     "text": [
      "2025-05-22 02:48:40 - INFO - \n",
      "=== Starting Epoch 44 ===\n",
      "\n"
     ]
    },
    {
     "name": "stdout",
     "output_type": "stream",
     "text": [
      "Epoch 44/100\n",
      "\u001b[1m813/813\u001b[0m \u001b[32m━━━━━━━━━━━━━━━━━━━━\u001b[0m\u001b[37m\u001b[0m \u001b[1m0s\u001b[0m 274ms/step - accuracy: 0.9551 - auc: 0.9593 - f1_score: 0.6513 - loss: 0.0327 - precision: 0.7947 - recall: 0.5723  "
     ]
    },
    {
     "name": "stderr",
     "output_type": "stream",
     "text": [
      "2025-05-22 02:52:39 - INFO - \n",
      "=== Epoch 44 Summary ===\n",
      "2025-05-22 02:52:39 - INFO - Time: 238.90s\n",
      "2025-05-22 02:52:39 - INFO - Training   - accuracy: 0.9553 - auc: 0.9595 - f1_score: 0.6530 - loss: 0.0325 - precision: 0.7938 - recall: 0.5750 - learning_rate: 0.0000\n",
      "2025-05-22 02:52:39 - INFO - Validation - accuracy: 0.9329 - auc: 0.7614 - f1_score: 0.2589 - loss: 0.0806 - precision: 0.3366 - recall: 0.2178\n",
      "2025-05-22 02:52:39 - INFO - ==================================================\n",
      "\n"
     ]
    },
    {
     "name": "stdout",
     "output_type": "stream",
     "text": [
      "\u001b[1m813/813\u001b[0m \u001b[32m━━━━━━━━━━━━━━━━━━━━\u001b[0m\u001b[37m\u001b[0m \u001b[1m239s\u001b[0m 294ms/step - accuracy: 0.9551 - auc: 0.9593 - f1_score: 0.6514 - loss: 0.0327 - precision: 0.7947 - recall: 0.5723 - val_accuracy: 0.9329 - val_auc: 0.7614 - val_f1_score: 0.2589 - val_loss: 0.0806 - val_precision: 0.3366 - val_recall: 0.2178 - learning_rate: 3.1250e-06\n"
     ]
    },
    {
     "name": "stderr",
     "output_type": "stream",
     "text": [
      "2025-05-22 02:52:39 - INFO - \n",
      "=== Starting Epoch 45 ===\n",
      "\n"
     ]
    },
    {
     "name": "stdout",
     "output_type": "stream",
     "text": [
      "Epoch 45/100\n",
      "\u001b[1m813/813\u001b[0m \u001b[32m━━━━━━━━━━━━━━━━━━━━\u001b[0m\u001b[37m\u001b[0m \u001b[1m0s\u001b[0m 274ms/step - accuracy: 0.9554 - auc: 0.9595 - f1_score: 0.6540 - loss: 0.0326 - precision: 0.7927 - recall: 0.5771  "
     ]
    },
    {
     "name": "stderr",
     "output_type": "stream",
     "text": [
      "2025-05-22 02:56:37 - INFO - \n",
      "=== Epoch 45 Summary ===\n",
      "2025-05-22 02:56:37 - INFO - Time: 238.70s\n",
      "2025-05-22 02:56:37 - INFO - Training   - accuracy: 0.9555 - auc: 0.9604 - f1_score: 0.6556 - loss: 0.0324 - precision: 0.7934 - recall: 0.5791 - learning_rate: 0.0000\n",
      "2025-05-22 02:56:37 - INFO - Validation - accuracy: 0.9325 - auc: 0.7581 - f1_score: 0.2515 - loss: 0.0807 - precision: 0.3365 - recall: 0.2244\n",
      "2025-05-22 02:56:37 - INFO - ==================================================\n",
      "\n"
     ]
    },
    {
     "name": "stdout",
     "output_type": "stream",
     "text": [
      "\u001b[1m813/813\u001b[0m \u001b[32m━━━━━━━━━━━━━━━━━━━━\u001b[0m\u001b[37m\u001b[0m \u001b[1m239s\u001b[0m 294ms/step - accuracy: 0.9554 - auc: 0.9595 - f1_score: 0.6540 - loss: 0.0326 - precision: 0.7927 - recall: 0.5771 - val_accuracy: 0.9325 - val_auc: 0.7581 - val_f1_score: 0.2515 - val_loss: 0.0807 - val_precision: 0.3365 - val_recall: 0.2244 - learning_rate: 3.1250e-06\n"
     ]
    },
    {
     "name": "stderr",
     "output_type": "stream",
     "text": [
      "2025-05-22 02:56:37 - INFO - \n",
      "=== Starting Epoch 46 ===\n",
      "\n"
     ]
    },
    {
     "name": "stdout",
     "output_type": "stream",
     "text": [
      "Epoch 46/100\n",
      "\u001b[1m813/813\u001b[0m \u001b[32m━━━━━━━━━━━━━━━━━━━━\u001b[0m\u001b[37m\u001b[0m \u001b[1m0s\u001b[0m 275ms/step - accuracy: 0.9558 - auc: 0.9607 - f1_score: 0.6600 - loss: 0.0323 - precision: 0.7963 - recall: 0.5837  \n",
      "Epoch 46: ReduceLROnPlateau reducing learning rate to 1.56249996052793e-06.\n"
     ]
    },
    {
     "name": "stderr",
     "output_type": "stream",
     "text": [
      "2025-05-22 03:00:37 - INFO - \n",
      "=== Epoch 46 Summary ===\n",
      "2025-05-22 03:00:37 - INFO - Time: 239.61s\n",
      "2025-05-22 03:00:37 - INFO - Training   - accuracy: 0.9561 - auc: 0.9615 - f1_score: 0.6617 - loss: 0.0321 - precision: 0.7956 - recall: 0.5865 - learning_rate: 0.0000\n",
      "2025-05-22 03:00:37 - INFO - Validation - accuracy: 0.9346 - auc: 0.7609 - f1_score: 0.2319 - loss: 0.0804 - precision: 0.3411 - recall: 0.1939\n",
      "2025-05-22 03:00:37 - INFO - ==================================================\n",
      "\n"
     ]
    },
    {
     "name": "stdout",
     "output_type": "stream",
     "text": [
      "\u001b[1m813/813\u001b[0m \u001b[32m━━━━━━━━━━━━━━━━━━━━\u001b[0m\u001b[37m\u001b[0m \u001b[1m240s\u001b[0m 295ms/step - accuracy: 0.9558 - auc: 0.9607 - f1_score: 0.6601 - loss: 0.0323 - precision: 0.7963 - recall: 0.5837 - val_accuracy: 0.9346 - val_auc: 0.7609 - val_f1_score: 0.2319 - val_loss: 0.0804 - val_precision: 0.3411 - val_recall: 0.1939 - learning_rate: 3.1250e-06\n"
     ]
    },
    {
     "name": "stderr",
     "output_type": "stream",
     "text": [
      "2025-05-22 03:00:37 - INFO - \n",
      "=== Starting Epoch 47 ===\n",
      "\n"
     ]
    },
    {
     "name": "stdout",
     "output_type": "stream",
     "text": [
      "Epoch 47/100\n",
      "\u001b[1m813/813\u001b[0m \u001b[32m━━━━━━━━━━━━━━━━━━━━\u001b[0m\u001b[37m\u001b[0m \u001b[1m0s\u001b[0m 276ms/step - accuracy: 0.9567 - auc: 0.9625 - f1_score: 0.6693 - loss: 0.0318 - precision: 0.8033 - recall: 0.5923  "
     ]
    },
    {
     "name": "stderr",
     "output_type": "stream",
     "text": [
      "2025-05-22 03:04:38 - INFO - \n",
      "=== Epoch 47 Summary ===\n",
      "2025-05-22 03:04:38 - INFO - Time: 241.18s\n",
      "2025-05-22 03:04:38 - INFO - Training   - accuracy: 0.9573 - auc: 0.9630 - f1_score: 0.6724 - loss: 0.0316 - precision: 0.8046 - recall: 0.5963 - learning_rate: 0.0000\n",
      "2025-05-22 03:04:38 - INFO - Validation - accuracy: 0.9334 - auc: 0.7604 - f1_score: 0.2631 - loss: 0.0812 - precision: 0.3461 - recall: 0.2271\n",
      "2025-05-22 03:04:38 - INFO - ==================================================\n",
      "\n"
     ]
    },
    {
     "name": "stdout",
     "output_type": "stream",
     "text": [
      "\u001b[1m813/813\u001b[0m \u001b[32m━━━━━━━━━━━━━━━━━━━━\u001b[0m\u001b[37m\u001b[0m \u001b[1m241s\u001b[0m 297ms/step - accuracy: 0.9567 - auc: 0.9625 - f1_score: 0.6693 - loss: 0.0318 - precision: 0.8033 - recall: 0.5923 - val_accuracy: 0.9334 - val_auc: 0.7604 - val_f1_score: 0.2631 - val_loss: 0.0812 - val_precision: 0.3461 - val_recall: 0.2271 - learning_rate: 1.5625e-06\n"
     ]
    },
    {
     "name": "stderr",
     "output_type": "stream",
     "text": [
      "2025-05-22 03:04:38 - INFO - \n",
      "=== Starting Epoch 48 ===\n",
      "\n"
     ]
    },
    {
     "name": "stdout",
     "output_type": "stream",
     "text": [
      "Epoch 48/100\n",
      "\u001b[1m813/813\u001b[0m \u001b[32m━━━━━━━━━━━━━━━━━━━━\u001b[0m\u001b[37m\u001b[0m \u001b[1m0s\u001b[0m 276ms/step - accuracy: 0.9573 - auc: 0.9634 - f1_score: 0.6743 - loss: 0.0316 - precision: 0.8050 - recall: 0.5989  "
     ]
    },
    {
     "name": "stderr",
     "output_type": "stream",
     "text": [
      "2025-05-22 03:08:38 - INFO - \n",
      "=== Epoch 48 Summary ===\n",
      "2025-05-22 03:08:38 - INFO - Time: 239.81s\n",
      "2025-05-22 03:08:38 - INFO - Training   - accuracy: 0.9574 - auc: 0.9638 - f1_score: 0.6743 - loss: 0.0315 - precision: 0.8043 - recall: 0.5993 - learning_rate: 0.0000\n",
      "2025-05-22 03:08:38 - INFO - Validation - accuracy: 0.9318 - auc: 0.7594 - f1_score: 0.2578 - loss: 0.0812 - precision: 0.3317 - recall: 0.2280\n",
      "2025-05-22 03:08:38 - INFO - ==================================================\n",
      "\n"
     ]
    },
    {
     "name": "stdout",
     "output_type": "stream",
     "text": [
      "\u001b[1m813/813\u001b[0m \u001b[32m━━━━━━━━━━━━━━━━━━━━\u001b[0m\u001b[37m\u001b[0m \u001b[1m240s\u001b[0m 295ms/step - accuracy: 0.9573 - auc: 0.9634 - f1_score: 0.6743 - loss: 0.0316 - precision: 0.8050 - recall: 0.5989 - val_accuracy: 0.9318 - val_auc: 0.7594 - val_f1_score: 0.2578 - val_loss: 0.0812 - val_precision: 0.3317 - val_recall: 0.2280 - learning_rate: 1.5625e-06\n"
     ]
    },
    {
     "name": "stderr",
     "output_type": "stream",
     "text": [
      "2025-05-22 03:08:38 - INFO - \n",
      "=== Starting Epoch 49 ===\n",
      "\n"
     ]
    },
    {
     "name": "stdout",
     "output_type": "stream",
     "text": [
      "Epoch 49/100\n",
      "\u001b[1m813/813\u001b[0m \u001b[32m━━━━━━━━━━━━━━━━━━━━\u001b[0m\u001b[37m\u001b[0m \u001b[1m0s\u001b[0m 275ms/step - accuracy: 0.9576 - auc: 0.9637 - f1_score: 0.6759 - loss: 0.0315 - precision: 0.8057 - recall: 0.6009  "
     ]
    },
    {
     "name": "stderr",
     "output_type": "stream",
     "text": [
      "2025-05-22 03:12:38 - INFO - \n",
      "=== Epoch 49 Summary ===\n",
      "2025-05-22 03:12:38 - INFO - Time: 240.46s\n",
      "2025-05-22 03:12:38 - INFO - Training   - accuracy: 0.9579 - auc: 0.9642 - f1_score: 0.6775 - loss: 0.0314 - precision: 0.8066 - recall: 0.6027 - learning_rate: 0.0000\n",
      "2025-05-22 03:12:38 - INFO - Validation - accuracy: 0.9317 - auc: 0.7587 - f1_score: 0.2644 - loss: 0.0814 - precision: 0.3349 - recall: 0.2372\n",
      "2025-05-22 03:12:38 - INFO - ==================================================\n",
      "\n"
     ]
    },
    {
     "name": "stdout",
     "output_type": "stream",
     "text": [
      "\u001b[1m813/813\u001b[0m \u001b[32m━━━━━━━━━━━━━━━━━━━━\u001b[0m\u001b[37m\u001b[0m \u001b[1m241s\u001b[0m 296ms/step - accuracy: 0.9576 - auc: 0.9637 - f1_score: 0.6759 - loss: 0.0315 - precision: 0.8057 - recall: 0.6009 - val_accuracy: 0.9317 - val_auc: 0.7587 - val_f1_score: 0.2644 - val_loss: 0.0814 - val_precision: 0.3349 - val_recall: 0.2372 - learning_rate: 1.5625e-06\n"
     ]
    },
    {
     "name": "stderr",
     "output_type": "stream",
     "text": [
      "2025-05-22 03:12:39 - INFO - \n",
      "=== Starting Epoch 50 ===\n",
      "\n"
     ]
    },
    {
     "name": "stdout",
     "output_type": "stream",
     "text": [
      "Epoch 50/100\n",
      "\u001b[1m813/813\u001b[0m \u001b[32m━━━━━━━━━━━━━━━━━━━━\u001b[0m\u001b[37m\u001b[0m \u001b[1m0s\u001b[0m 274ms/step - accuracy: 0.9578 - auc: 0.9643 - f1_score: 0.6801 - loss: 0.0314 - precision: 0.8094 - recall: 0.6054  "
     ]
    },
    {
     "name": "stderr",
     "output_type": "stream",
     "text": [
      "2025-05-22 03:16:37 - INFO - \n",
      "=== Epoch 50 Summary ===\n",
      "2025-05-22 03:16:37 - INFO - Time: 238.24s\n",
      "2025-05-22 03:16:37 - INFO - Training   - accuracy: 0.9582 - auc: 0.9648 - f1_score: 0.6820 - loss: 0.0312 - precision: 0.8083 - recall: 0.6083 - learning_rate: 0.0000\n",
      "2025-05-22 03:16:37 - INFO - Validation - accuracy: 0.9344 - auc: 0.7604 - f1_score: 0.2505 - loss: 0.0827 - precision: 0.3483 - recall: 0.2107\n",
      "2025-05-22 03:16:37 - INFO - ==================================================\n",
      "\n"
     ]
    },
    {
     "name": "stdout",
     "output_type": "stream",
     "text": [
      "\u001b[1m813/813\u001b[0m \u001b[32m━━━━━━━━━━━━━━━━━━━━\u001b[0m\u001b[37m\u001b[0m \u001b[1m238s\u001b[0m 293ms/step - accuracy: 0.9578 - auc: 0.9643 - f1_score: 0.6801 - loss: 0.0314 - precision: 0.8094 - recall: 0.6054 - val_accuracy: 0.9344 - val_auc: 0.7604 - val_f1_score: 0.2505 - val_loss: 0.0827 - val_precision: 0.3483 - val_recall: 0.2107 - learning_rate: 1.5625e-06\n"
     ]
    },
    {
     "name": "stderr",
     "output_type": "stream",
     "text": [
      "2025-05-22 03:16:37 - INFO - \n",
      "=== Starting Epoch 51 ===\n",
      "\n"
     ]
    },
    {
     "name": "stdout",
     "output_type": "stream",
     "text": [
      "Epoch 51/100\n",
      "\u001b[1m813/813\u001b[0m \u001b[32m━━━━━━━━━━━━━━━━━━━━\u001b[0m\u001b[37m\u001b[0m \u001b[1m0s\u001b[0m 275ms/step - accuracy: 0.9580 - auc: 0.9647 - f1_score: 0.6810 - loss: 0.0314 - precision: 0.8071 - recall: 0.6064  "
     ]
    },
    {
     "name": "stderr",
     "output_type": "stream",
     "text": [
      "2025-05-22 03:20:36 - INFO - \n",
      "=== Epoch 51 Summary ===\n",
      "2025-05-22 03:20:36 - INFO - Time: 239.18s\n",
      "2025-05-22 03:20:36 - INFO - Training   - accuracy: 0.9585 - auc: 0.9654 - f1_score: 0.6840 - loss: 0.0311 - precision: 0.8092 - recall: 0.6105 - learning_rate: 0.0000\n",
      "2025-05-22 03:20:36 - INFO - Validation - accuracy: 0.9337 - auc: 0.7580 - f1_score: 0.2540 - loss: 0.0823 - precision: 0.3460 - recall: 0.2217\n",
      "2025-05-22 03:20:36 - INFO - ==================================================\n",
      "\n"
     ]
    },
    {
     "name": "stdout",
     "output_type": "stream",
     "text": [
      "\u001b[1m813/813\u001b[0m \u001b[32m━━━━━━━━━━━━━━━━━━━━\u001b[0m\u001b[37m\u001b[0m \u001b[1m239s\u001b[0m 294ms/step - accuracy: 0.9580 - auc: 0.9647 - f1_score: 0.6810 - loss: 0.0314 - precision: 0.8071 - recall: 0.6064 - val_accuracy: 0.9337 - val_auc: 0.7580 - val_f1_score: 0.2540 - val_loss: 0.0823 - val_precision: 0.3460 - val_recall: 0.2217 - learning_rate: 1.5625e-06\n"
     ]
    },
    {
     "name": "stderr",
     "output_type": "stream",
     "text": [
      "2025-05-22 03:20:36 - INFO - \n",
      "=== Starting Epoch 52 ===\n",
      "\n"
     ]
    },
    {
     "name": "stdout",
     "output_type": "stream",
     "text": [
      "Epoch 52/100\n",
      "\u001b[1m813/813\u001b[0m \u001b[32m━━━━━━━━━━━━━━━━━━━━\u001b[0m\u001b[37m\u001b[0m \u001b[1m0s\u001b[0m 276ms/step - accuracy: 0.9585 - auc: 0.9650 - f1_score: 0.6849 - loss: 0.0311 - precision: 0.8090 - recall: 0.6113  \n",
      "Epoch 52: ReduceLROnPlateau reducing learning rate to 1e-06.\n"
     ]
    },
    {
     "name": "stderr",
     "output_type": "stream",
     "text": [
      "2025-05-22 03:24:36 - INFO - \n",
      "=== Epoch 52 Summary ===\n",
      "2025-05-22 03:24:36 - INFO - Time: 239.61s\n",
      "2025-05-22 03:24:36 - INFO - Training   - accuracy: 0.9588 - auc: 0.9657 - f1_score: 0.6868 - loss: 0.0310 - precision: 0.8111 - recall: 0.6134 - learning_rate: 0.0000\n",
      "2025-05-22 03:24:36 - INFO - Validation - accuracy: 0.9338 - auc: 0.7593 - f1_score: 0.2528 - loss: 0.0825 - precision: 0.3456 - recall: 0.2186\n",
      "2025-05-22 03:24:36 - INFO - ==================================================\n",
      "\n"
     ]
    },
    {
     "name": "stdout",
     "output_type": "stream",
     "text": [
      "\u001b[1m813/813\u001b[0m \u001b[32m━━━━━━━━━━━━━━━━━━━━\u001b[0m\u001b[37m\u001b[0m \u001b[1m240s\u001b[0m 295ms/step - accuracy: 0.9585 - auc: 0.9650 - f1_score: 0.6849 - loss: 0.0311 - precision: 0.8090 - recall: 0.6113 - val_accuracy: 0.9338 - val_auc: 0.7593 - val_f1_score: 0.2528 - val_loss: 0.0825 - val_precision: 0.3456 - val_recall: 0.2186 - learning_rate: 1.5625e-06\n"
     ]
    },
    {
     "name": "stderr",
     "output_type": "stream",
     "text": [
      "2025-05-22 03:24:36 - INFO - \n",
      "=== Starting Epoch 53 ===\n",
      "\n"
     ]
    },
    {
     "name": "stdout",
     "output_type": "stream",
     "text": [
      "Epoch 53/100\n",
      "\u001b[1m813/813\u001b[0m \u001b[32m━━━━━━━━━━━━━━━━━━━━\u001b[0m\u001b[37m\u001b[0m \u001b[1m0s\u001b[0m 276ms/step - accuracy: 0.9592 - auc: 0.9667 - f1_score: 0.6920 - loss: 0.0308 - precision: 0.8149 - recall: 0.6185  "
     ]
    },
    {
     "name": "stderr",
     "output_type": "stream",
     "text": [
      "2025-05-22 03:28:36 - INFO - \n",
      "=== Epoch 53 Summary ===\n",
      "2025-05-22 03:28:36 - INFO - Time: 239.92s\n",
      "2025-05-22 03:28:36 - INFO - Training   - accuracy: 0.9594 - auc: 0.9667 - f1_score: 0.6924 - loss: 0.0307 - precision: 0.8144 - recall: 0.6199 - learning_rate: 0.0000\n",
      "2025-05-22 03:28:36 - INFO - Validation - accuracy: 0.9336 - auc: 0.7588 - f1_score: 0.2549 - loss: 0.0830 - precision: 0.3444 - recall: 0.2195\n",
      "2025-05-22 03:28:36 - INFO - ==================================================\n",
      "\n"
     ]
    },
    {
     "name": "stdout",
     "output_type": "stream",
     "text": [
      "\u001b[1m813/813\u001b[0m \u001b[32m━━━━━━━━━━━━━━━━━━━━\u001b[0m\u001b[37m\u001b[0m \u001b[1m240s\u001b[0m 295ms/step - accuracy: 0.9592 - auc: 0.9667 - f1_score: 0.6920 - loss: 0.0308 - precision: 0.8149 - recall: 0.6185 - val_accuracy: 0.9336 - val_auc: 0.7588 - val_f1_score: 0.2549 - val_loss: 0.0830 - val_precision: 0.3444 - val_recall: 0.2195 - learning_rate: 1.0000e-06\n"
     ]
    },
    {
     "name": "stderr",
     "output_type": "stream",
     "text": [
      "2025-05-22 03:28:36 - INFO - \n",
      "=== Starting Epoch 54 ===\n",
      "\n"
     ]
    },
    {
     "name": "stdout",
     "output_type": "stream",
     "text": [
      "Epoch 54/100\n",
      "\u001b[1m813/813\u001b[0m \u001b[32m━━━━━━━━━━━━━━━━━━━━\u001b[0m\u001b[37m\u001b[0m \u001b[1m0s\u001b[0m 276ms/step - accuracy: 0.9594 - auc: 0.9672 - f1_score: 0.6921 - loss: 0.0306 - precision: 0.8150 - recall: 0.6190  "
     ]
    },
    {
     "name": "stderr",
     "output_type": "stream",
     "text": [
      "2025-05-22 03:32:35 - INFO - \n",
      "=== Epoch 54 Summary ===\n",
      "2025-05-22 03:32:35 - INFO - Time: 239.81s\n",
      "2025-05-22 03:32:35 - INFO - Training   - accuracy: 0.9596 - auc: 0.9673 - f1_score: 0.6938 - loss: 0.0306 - precision: 0.8158 - recall: 0.6212 - learning_rate: 0.0000\n",
      "2025-05-22 03:32:35 - INFO - Validation - accuracy: 0.9339 - auc: 0.7581 - f1_score: 0.2554 - loss: 0.0836 - precision: 0.3461 - recall: 0.2170\n",
      "2025-05-22 03:32:35 - INFO - ==================================================\n",
      "\n"
     ]
    },
    {
     "name": "stdout",
     "output_type": "stream",
     "text": [
      "\u001b[1m813/813\u001b[0m \u001b[32m━━━━━━━━━━━━━━━━━━━━\u001b[0m\u001b[37m\u001b[0m \u001b[1m240s\u001b[0m 295ms/step - accuracy: 0.9594 - auc: 0.9672 - f1_score: 0.6921 - loss: 0.0306 - precision: 0.8150 - recall: 0.6190 - val_accuracy: 0.9339 - val_auc: 0.7581 - val_f1_score: 0.2554 - val_loss: 0.0836 - val_precision: 0.3461 - val_recall: 0.2170 - learning_rate: 1.0000e-06\n"
     ]
    },
    {
     "name": "stderr",
     "output_type": "stream",
     "text": [
      "2025-05-22 03:32:35 - INFO - \n",
      "=== Starting Epoch 55 ===\n",
      "\n"
     ]
    },
    {
     "name": "stdout",
     "output_type": "stream",
     "text": [
      "Epoch 55/100\n",
      "\u001b[1m813/813\u001b[0m \u001b[32m━━━━━━━━━━━━━━━━━━━━\u001b[0m\u001b[37m\u001b[0m \u001b[1m0s\u001b[0m 275ms/step - accuracy: 0.9595 - auc: 0.9668 - f1_score: 0.6937 - loss: 0.0306 - precision: 0.8156 - recall: 0.6202  "
     ]
    },
    {
     "name": "stderr",
     "output_type": "stream",
     "text": [
      "2025-05-22 03:36:35 - INFO - \n",
      "=== Epoch 55 Summary ===\n",
      "2025-05-22 03:36:35 - INFO - Time: 239.44s\n",
      "2025-05-22 03:36:35 - INFO - Training   - accuracy: 0.9597 - auc: 0.9675 - f1_score: 0.6954 - loss: 0.0305 - precision: 0.8157 - recall: 0.6228 - learning_rate: 0.0000\n",
      "2025-05-22 03:36:35 - INFO - Validation - accuracy: 0.9322 - auc: 0.7585 - f1_score: 0.2636 - loss: 0.0836 - precision: 0.3356 - recall: 0.2294\n",
      "2025-05-22 03:36:35 - INFO - ==================================================\n",
      "\n"
     ]
    },
    {
     "name": "stdout",
     "output_type": "stream",
     "text": [
      "\u001b[1m813/813\u001b[0m \u001b[32m━━━━━━━━━━━━━━━━━━━━\u001b[0m\u001b[37m\u001b[0m \u001b[1m239s\u001b[0m 295ms/step - accuracy: 0.9595 - auc: 0.9668 - f1_score: 0.6937 - loss: 0.0306 - precision: 0.8156 - recall: 0.6202 - val_accuracy: 0.9322 - val_auc: 0.7585 - val_f1_score: 0.2636 - val_loss: 0.0836 - val_precision: 0.3356 - val_recall: 0.2294 - learning_rate: 1.0000e-06\n"
     ]
    },
    {
     "name": "stderr",
     "output_type": "stream",
     "text": [
      "2025-05-22 03:36:35 - INFO - \n",
      "=== Starting Epoch 56 ===\n",
      "\n"
     ]
    },
    {
     "name": "stdout",
     "output_type": "stream",
     "text": [
      "Epoch 56/100\n",
      "\u001b[1m813/813\u001b[0m \u001b[32m━━━━━━━━━━━━━━━━━━━━\u001b[0m\u001b[37m\u001b[0m \u001b[1m0s\u001b[0m 275ms/step - accuracy: 0.9599 - auc: 0.9679 - f1_score: 0.6974 - loss: 0.0305 - precision: 0.8178 - recall: 0.6249  "
     ]
    },
    {
     "name": "stderr",
     "output_type": "stream",
     "text": [
      "2025-05-22 03:40:34 - INFO - \n",
      "=== Epoch 56 Summary ===\n",
      "2025-05-22 03:40:34 - INFO - Time: 239.58s\n",
      "2025-05-22 03:40:34 - INFO - Training   - accuracy: 0.9599 - auc: 0.9680 - f1_score: 0.6973 - loss: 0.0305 - precision: 0.8178 - recall: 0.6249 - learning_rate: 0.0000\n",
      "2025-05-22 03:40:34 - INFO - Validation - accuracy: 0.9352 - auc: 0.7577 - f1_score: 0.2440 - loss: 0.0858 - precision: 0.3514 - recall: 0.2003\n",
      "2025-05-22 03:40:34 - INFO - ==================================================\n",
      "\n"
     ]
    },
    {
     "name": "stdout",
     "output_type": "stream",
     "text": [
      "\u001b[1m813/813\u001b[0m \u001b[32m━━━━━━━━━━━━━━━━━━━━\u001b[0m\u001b[37m\u001b[0m \u001b[1m240s\u001b[0m 295ms/step - accuracy: 0.9599 - auc: 0.9679 - f1_score: 0.6974 - loss: 0.0305 - precision: 0.8178 - recall: 0.6249 - val_accuracy: 0.9352 - val_auc: 0.7577 - val_f1_score: 0.2440 - val_loss: 0.0858 - val_precision: 0.3514 - val_recall: 0.2003 - learning_rate: 1.0000e-06\n"
     ]
    },
    {
     "name": "stderr",
     "output_type": "stream",
     "text": [
      "2025-05-22 03:40:34 - INFO - \n",
      "=== Starting Epoch 57 ===\n",
      "\n"
     ]
    },
    {
     "name": "stdout",
     "output_type": "stream",
     "text": [
      "Epoch 57/100\n",
      "\u001b[1m813/813\u001b[0m \u001b[32m━━━━━━━━━━━━━━━━━━━━\u001b[0m\u001b[37m\u001b[0m \u001b[1m0s\u001b[0m 276ms/step - accuracy: 0.9604 - auc: 0.9689 - f1_score: 0.7005 - loss: 0.0301 - precision: 0.8198 - recall: 0.6292  "
     ]
    },
    {
     "name": "stderr",
     "output_type": "stream",
     "text": [
      "2025-05-22 03:44:34 - INFO - \n",
      "=== Epoch 57 Summary ===\n",
      "2025-05-22 03:44:34 - INFO - Time: 239.85s\n",
      "2025-05-22 03:44:34 - INFO - Training   - accuracy: 0.9603 - auc: 0.9684 - f1_score: 0.7005 - loss: 0.0303 - precision: 0.8197 - recall: 0.6285 - learning_rate: 0.0000\n",
      "2025-05-22 03:44:34 - INFO - Validation - accuracy: 0.9324 - auc: 0.7585 - f1_score: 0.2621 - loss: 0.0843 - precision: 0.3380 - recall: 0.2299\n",
      "2025-05-22 03:44:34 - INFO - ==================================================\n",
      "\n"
     ]
    },
    {
     "name": "stdout",
     "output_type": "stream",
     "text": [
      "\u001b[1m813/813\u001b[0m \u001b[32m━━━━━━━━━━━━━━━━━━━━\u001b[0m\u001b[37m\u001b[0m \u001b[1m240s\u001b[0m 295ms/step - accuracy: 0.9604 - auc: 0.9689 - f1_score: 0.7005 - loss: 0.0301 - precision: 0.8198 - recall: 0.6292 - val_accuracy: 0.9324 - val_auc: 0.7585 - val_f1_score: 0.2621 - val_loss: 0.0843 - val_precision: 0.3380 - val_recall: 0.2299 - learning_rate: 1.0000e-06\n"
     ]
    },
    {
     "name": "stderr",
     "output_type": "stream",
     "text": [
      "2025-05-22 03:44:34 - INFO - \n",
      "=== Starting Epoch 58 ===\n",
      "\n"
     ]
    },
    {
     "name": "stdout",
     "output_type": "stream",
     "text": [
      "Epoch 58/100\n",
      "\u001b[1m813/813\u001b[0m \u001b[32m━━━━━━━━━━━━━━━━━━━━\u001b[0m\u001b[37m\u001b[0m \u001b[1m0s\u001b[0m 276ms/step - accuracy: 0.9606 - auc: 0.9686 - f1_score: 0.7018 - loss: 0.0302 - precision: 0.8202 - recall: 0.6302  "
     ]
    },
    {
     "name": "stderr",
     "output_type": "stream",
     "text": [
      "2025-05-22 03:48:34 - INFO - \n",
      "=== Epoch 58 Summary ===\n",
      "2025-05-22 03:48:34 - INFO - Time: 240.25s\n",
      "2025-05-22 03:48:34 - INFO - Training   - accuracy: 0.9605 - auc: 0.9685 - f1_score: 0.7010 - loss: 0.0303 - precision: 0.8198 - recall: 0.6296 - learning_rate: 0.0000\n",
      "2025-05-22 03:48:34 - INFO - Validation - accuracy: 0.9333 - auc: 0.7573 - f1_score: 0.2546 - loss: 0.0861 - precision: 0.3385 - recall: 0.2141\n",
      "2025-05-22 03:48:34 - INFO - ==================================================\n",
      "\n"
     ]
    },
    {
     "name": "stdout",
     "output_type": "stream",
     "text": [
      "\u001b[1m813/813\u001b[0m \u001b[32m━━━━━━━━━━━━━━━━━━━━\u001b[0m\u001b[37m\u001b[0m \u001b[1m240s\u001b[0m 296ms/step - accuracy: 0.9606 - auc: 0.9686 - f1_score: 0.7018 - loss: 0.0302 - precision: 0.8202 - recall: 0.6302 - val_accuracy: 0.9333 - val_auc: 0.7573 - val_f1_score: 0.2546 - val_loss: 0.0861 - val_precision: 0.3385 - val_recall: 0.2141 - learning_rate: 1.0000e-06\n"
     ]
    },
    {
     "name": "stderr",
     "output_type": "stream",
     "text": [
      "2025-05-22 03:48:34 - INFO - \n",
      "=== Starting Epoch 59 ===\n",
      "\n"
     ]
    },
    {
     "name": "stdout",
     "output_type": "stream",
     "text": [
      "Epoch 59/100\n",
      "\u001b[1m813/813\u001b[0m \u001b[32m━━━━━━━━━━━━━━━━━━━━\u001b[0m\u001b[37m\u001b[0m \u001b[1m0s\u001b[0m 276ms/step - accuracy: 0.9606 - auc: 0.9684 - f1_score: 0.7044 - loss: 0.0304 - precision: 0.8208 - recall: 0.6333  "
     ]
    },
    {
     "name": "stderr",
     "output_type": "stream",
     "text": [
      "2025-05-22 03:52:34 - INFO - \n",
      "=== Epoch 59 Summary ===\n",
      "2025-05-22 03:52:34 - INFO - Time: 239.97s\n",
      "2025-05-22 03:52:34 - INFO - Training   - accuracy: 0.9605 - auc: 0.9685 - f1_score: 0.7028 - loss: 0.0303 - precision: 0.8188 - recall: 0.6324 - learning_rate: 0.0000\n",
      "2025-05-22 03:52:34 - INFO - Validation - accuracy: 0.9333 - auc: 0.7572 - f1_score: 0.2468 - loss: 0.0851 - precision: 0.3364 - recall: 0.2107\n",
      "2025-05-22 03:52:34 - INFO - ==================================================\n",
      "\n"
     ]
    },
    {
     "name": "stdout",
     "output_type": "stream",
     "text": [
      "\u001b[1m813/813\u001b[0m \u001b[32m━━━━━━━━━━━━━━━━━━━━\u001b[0m\u001b[37m\u001b[0m \u001b[1m240s\u001b[0m 295ms/step - accuracy: 0.9606 - auc: 0.9684 - f1_score: 0.7044 - loss: 0.0304 - precision: 0.8208 - recall: 0.6333 - val_accuracy: 0.9333 - val_auc: 0.7572 - val_f1_score: 0.2468 - val_loss: 0.0851 - val_precision: 0.3364 - val_recall: 0.2107 - learning_rate: 1.0000e-06\n"
     ]
    },
    {
     "name": "stderr",
     "output_type": "stream",
     "text": [
      "2025-05-22 03:52:34 - INFO - \n",
      "=== Starting Epoch 60 ===\n",
      "\n"
     ]
    },
    {
     "name": "stdout",
     "output_type": "stream",
     "text": [
      "Epoch 60/100\n",
      "\u001b[1m813/813\u001b[0m \u001b[32m━━━━━━━━━━━━━━━━━━━━\u001b[0m\u001b[37m\u001b[0m \u001b[1m0s\u001b[0m 276ms/step - accuracy: 0.9602 - auc: 0.9682 - f1_score: 0.7011 - loss: 0.0304 - precision: 0.8195 - recall: 0.6295  "
     ]
    },
    {
     "name": "stderr",
     "output_type": "stream",
     "text": [
      "2025-05-22 03:56:34 - INFO - \n",
      "=== Epoch 60 Summary ===\n",
      "2025-05-22 03:56:34 - INFO - Time: 239.77s\n",
      "2025-05-22 03:56:34 - INFO - Training   - accuracy: 0.9607 - auc: 0.9689 - f1_score: 0.7045 - loss: 0.0302 - precision: 0.8199 - recall: 0.6343 - learning_rate: 0.0000\n",
      "2025-05-22 03:56:34 - INFO - Validation - accuracy: 0.9336 - auc: 0.7572 - f1_score: 0.2570 - loss: 0.0850 - precision: 0.3436 - recall: 0.2194\n",
      "2025-05-22 03:56:34 - INFO - ==================================================\n",
      "\n"
     ]
    },
    {
     "name": "stdout",
     "output_type": "stream",
     "text": [
      "\u001b[1m813/813\u001b[0m \u001b[32m━━━━━━━━━━━━━━━━━━━━\u001b[0m\u001b[37m\u001b[0m \u001b[1m240s\u001b[0m 295ms/step - accuracy: 0.9602 - auc: 0.9682 - f1_score: 0.7011 - loss: 0.0304 - precision: 0.8195 - recall: 0.6295 - val_accuracy: 0.9336 - val_auc: 0.7572 - val_f1_score: 0.2570 - val_loss: 0.0850 - val_precision: 0.3436 - val_recall: 0.2194 - learning_rate: 1.0000e-06\n"
     ]
    },
    {
     "name": "stderr",
     "output_type": "stream",
     "text": [
      "2025-05-22 03:56:34 - INFO - \n",
      "=== Starting Epoch 61 ===\n",
      "\n"
     ]
    },
    {
     "name": "stdout",
     "output_type": "stream",
     "text": [
      "Epoch 61/100\n",
      "\u001b[1m813/813\u001b[0m \u001b[32m━━━━━━━━━━━━━━━━━━━━\u001b[0m\u001b[37m\u001b[0m \u001b[1m0s\u001b[0m 275ms/step - accuracy: 0.9610 - auc: 0.9688 - f1_score: 0.7065 - loss: 0.0301 - precision: 0.8253 - recall: 0.6338  "
     ]
    },
    {
     "name": "stderr",
     "output_type": "stream",
     "text": [
      "2025-05-22 04:00:33 - INFO - \n",
      "=== Epoch 61 Summary ===\n",
      "2025-05-22 04:00:33 - INFO - Time: 239.14s\n",
      "2025-05-22 04:00:33 - INFO - Training   - accuracy: 0.9610 - auc: 0.9691 - f1_score: 0.7066 - loss: 0.0301 - precision: 0.8236 - recall: 0.6353 - learning_rate: 0.0000\n",
      "2025-05-22 04:00:33 - INFO - Validation - accuracy: 0.9330 - auc: 0.7569 - f1_score: 0.2488 - loss: 0.0847 - precision: 0.3346 - recall: 0.2130\n",
      "2025-05-22 04:00:33 - INFO - ==================================================\n",
      "\n"
     ]
    },
    {
     "name": "stdout",
     "output_type": "stream",
     "text": [
      "\u001b[1m813/813\u001b[0m \u001b[32m━━━━━━━━━━━━━━━━━━━━\u001b[0m\u001b[37m\u001b[0m \u001b[1m239s\u001b[0m 294ms/step - accuracy: 0.9610 - auc: 0.9688 - f1_score: 0.7065 - loss: 0.0301 - precision: 0.8253 - recall: 0.6338 - val_accuracy: 0.9330 - val_auc: 0.7569 - val_f1_score: 0.2488 - val_loss: 0.0847 - val_precision: 0.3346 - val_recall: 0.2130 - learning_rate: 1.0000e-06\n"
     ]
    },
    {
     "name": "stderr",
     "output_type": "stream",
     "text": [
      "2025-05-22 04:00:33 - INFO - \n",
      "=== Starting Epoch 62 ===\n",
      "\n"
     ]
    },
    {
     "name": "stdout",
     "output_type": "stream",
     "text": [
      "Epoch 62/100\n",
      "\u001b[1m813/813\u001b[0m \u001b[32m━━━━━━━━━━━━━━━━━━━━\u001b[0m\u001b[37m\u001b[0m \u001b[1m0s\u001b[0m 276ms/step - accuracy: 0.9614 - auc: 0.9698 - f1_score: 0.7110 - loss: 0.0300 - precision: 0.8265 - recall: 0.6398  "
     ]
    },
    {
     "name": "stderr",
     "output_type": "stream",
     "text": [
      "2025-05-22 04:04:33 - INFO - \n",
      "=== Epoch 62 Summary ===\n",
      "2025-05-22 04:04:33 - INFO - Time: 239.93s\n",
      "2025-05-22 04:04:33 - INFO - Training   - accuracy: 0.9612 - auc: 0.9697 - f1_score: 0.7086 - loss: 0.0300 - precision: 0.8249 - recall: 0.6375 - learning_rate: 0.0000\n",
      "2025-05-22 04:04:33 - INFO - Validation - accuracy: 0.9315 - auc: 0.7572 - f1_score: 0.2633 - loss: 0.0850 - precision: 0.3279 - recall: 0.2250\n",
      "2025-05-22 04:04:33 - INFO - ==================================================\n",
      "\n"
     ]
    },
    {
     "name": "stdout",
     "output_type": "stream",
     "text": [
      "\u001b[1m813/813\u001b[0m \u001b[32m━━━━━━━━━━━━━━━━━━━━\u001b[0m\u001b[37m\u001b[0m \u001b[1m240s\u001b[0m 295ms/step - accuracy: 0.9614 - auc: 0.9698 - f1_score: 0.7110 - loss: 0.0300 - precision: 0.8265 - recall: 0.6398 - val_accuracy: 0.9315 - val_auc: 0.7572 - val_f1_score: 0.2633 - val_loss: 0.0850 - val_precision: 0.3279 - val_recall: 0.2250 - learning_rate: 1.0000e-06\n"
     ]
    },
    {
     "name": "stderr",
     "output_type": "stream",
     "text": [
      "2025-05-22 04:04:33 - INFO - \n",
      "=== Starting Epoch 63 ===\n",
      "\n"
     ]
    },
    {
     "name": "stdout",
     "output_type": "stream",
     "text": [
      "Epoch 63/100\n",
      "\u001b[1m813/813\u001b[0m \u001b[32m━━━━━━━━━━━━━━━━━━━━\u001b[0m\u001b[37m\u001b[0m \u001b[1m0s\u001b[0m 275ms/step - accuracy: 0.9616 - auc: 0.9703 - f1_score: 0.7113 - loss: 0.0299 - precision: 0.8251 - recall: 0.6414  "
     ]
    },
    {
     "name": "stderr",
     "output_type": "stream",
     "text": [
      "2025-05-22 04:08:33 - INFO - \n",
      "=== Epoch 63 Summary ===\n",
      "2025-05-22 04:08:33 - INFO - Time: 239.28s\n",
      "2025-05-22 04:08:33 - INFO - Training   - accuracy: 0.9616 - auc: 0.9702 - f1_score: 0.7115 - loss: 0.0298 - precision: 0.8254 - recall: 0.6416 - learning_rate: 0.0000\n",
      "2025-05-22 04:08:33 - INFO - Validation - accuracy: 0.9329 - auc: 0.7564 - f1_score: 0.2558 - loss: 0.0854 - precision: 0.3376 - recall: 0.2190\n",
      "2025-05-22 04:08:33 - INFO - ==================================================\n",
      "\n"
     ]
    },
    {
     "name": "stdout",
     "output_type": "stream",
     "text": [
      "\u001b[1m813/813\u001b[0m \u001b[32m━━━━━━━━━━━━━━━━━━━━\u001b[0m\u001b[37m\u001b[0m \u001b[1m239s\u001b[0m 294ms/step - accuracy: 0.9616 - auc: 0.9703 - f1_score: 0.7113 - loss: 0.0299 - precision: 0.8251 - recall: 0.6414 - val_accuracy: 0.9329 - val_auc: 0.7564 - val_f1_score: 0.2558 - val_loss: 0.0854 - val_precision: 0.3376 - val_recall: 0.2190 - learning_rate: 1.0000e-06\n"
     ]
    },
    {
     "name": "stderr",
     "output_type": "stream",
     "text": [
      "2025-05-22 04:08:33 - INFO - \n",
      "=== Starting Epoch 64 ===\n",
      "\n"
     ]
    },
    {
     "name": "stdout",
     "output_type": "stream",
     "text": [
      "Epoch 64/100\n",
      "\u001b[1m813/813\u001b[0m \u001b[32m━━━━━━━━━━━━━━━━━━━━\u001b[0m\u001b[37m\u001b[0m \u001b[1m0s\u001b[0m 275ms/step - accuracy: 0.9611 - auc: 0.9697 - f1_score: 0.7110 - loss: 0.0301 - precision: 0.8258 - recall: 0.6400  "
     ]
    },
    {
     "name": "stderr",
     "output_type": "stream",
     "text": [
      "2025-05-22 04:12:32 - INFO - \n",
      "=== Epoch 64 Summary ===\n",
      "2025-05-22 04:12:32 - INFO - Time: 239.41s\n",
      "2025-05-22 04:12:32 - INFO - Training   - accuracy: 0.9616 - auc: 0.9703 - f1_score: 0.7129 - loss: 0.0299 - precision: 0.8256 - recall: 0.6433 - learning_rate: 0.0000\n",
      "2025-05-22 04:12:32 - INFO - Validation - accuracy: 0.9341 - auc: 0.7575 - f1_score: 0.2450 - loss: 0.0865 - precision: 0.3414 - recall: 0.2041\n",
      "2025-05-22 04:12:32 - INFO - ==================================================\n",
      "\n"
     ]
    },
    {
     "name": "stdout",
     "output_type": "stream",
     "text": [
      "\u001b[1m813/813\u001b[0m \u001b[32m━━━━━━━━━━━━━━━━━━━━\u001b[0m\u001b[37m\u001b[0m \u001b[1m239s\u001b[0m 295ms/step - accuracy: 0.9611 - auc: 0.9697 - f1_score: 0.7110 - loss: 0.0301 - precision: 0.8258 - recall: 0.6400 - val_accuracy: 0.9341 - val_auc: 0.7575 - val_f1_score: 0.2450 - val_loss: 0.0865 - val_precision: 0.3414 - val_recall: 0.2041 - learning_rate: 1.0000e-06\n"
     ]
    },
    {
     "name": "stderr",
     "output_type": "stream",
     "text": [
      "2025-05-22 04:12:32 - INFO - \n",
      "=== Training Completed! ===\n",
      "\n",
      "2025-05-22 04:12:32 - INFO - Final Metrics: accuracy: 0.9616 - auc: 0.9703 - f1_score: 0.7129 - loss: 0.0299 - precision: 0.8256 - recall: 0.6433 - val_accuracy: 0.9341 - val_auc: 0.7575 - val_f1_score: 0.2450 - val_loss: 0.0865 - val_precision: 0.3414 - val_recall: 0.2041\n",
      "\n"
     ]
    },
    {
     "name": "stdout",
     "output_type": "stream",
     "text": [
      "Epoch 64: early stopping\n",
      "Restoring model weights from the end of the best epoch: 49.\n"
     ]
    }
   ],
   "source": [
    "# Model Training\n",
    "model          = build_densenet121(num_classes)\n",
    "optimizer      = Adam(learning_rate=1e-4)\n",
    "compile_kwargs = {'optimizer': optimizer, 'loss': loss, 'metrics': metrics}\n",
    "\n",
    "history, model = start_or_resume_training(\n",
    "    model, \n",
    "    compile_kwargs, \n",
    "    train_ds, \n",
    "    val_ds, \n",
    "    TF_MAX_EPOCHS,\n",
    "    steps_per_epoch, \n",
    "    validation_steps, \n",
    "    class_weights=class_weights,\n",
    "    callbacks=[checkpoint, best_checkpoint, reduce_lr, training_logger, metrics_monitor, early_stopping], \n",
    "    checkpoint_path=checkpoint_path,\n",
    "    initial_epoch=initial_epoch,\n",
    "    output_dir=MODELS_PATH,\n",
    "    model_name=model_name,\n",
    "    logger=logger\n",
    ")"
   ]
  },
  {
   "cell_type": "code",
   "execution_count": null,
   "id": "048b711f-28f1-433d-ac5b-b8729218ef96",
   "metadata": {},
   "outputs": [],
   "source": []
  }
 ],
 "metadata": {
  "kernelspec": {
   "display_name": "Python 3 (ipykernel)",
   "language": "python",
   "name": "python3"
  },
  "language_info": {
   "codemirror_mode": {
    "name": "ipython",
    "version": 3
   },
   "file_extension": ".py",
   "mimetype": "text/x-python",
   "name": "python",
   "nbconvert_exporter": "python",
   "pygments_lexer": "ipython3",
   "version": "3.10.16"
  }
 },
 "nbformat": 4,
 "nbformat_minor": 5
}
