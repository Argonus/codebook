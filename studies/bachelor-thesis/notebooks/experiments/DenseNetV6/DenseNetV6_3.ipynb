{
 "cells": [
  {
   "cell_type": "code",
   "execution_count": 1,
   "id": "b694919a-9b18-4068-8e69-7258de889dff",
   "metadata": {},
   "outputs": [
    {
     "name": "stderr",
     "output_type": "stream",
     "text": [
      "2025-06-20 15:47:14.534204: E external/local_xla/xla/stream_executor/cuda/cuda_fft.cc:467] Unable to register cuFFT factory: Attempting to register factory for plugin cuFFT when one has already been registered\n",
      "WARNING: All log messages before absl::InitializeLog() is called are written to STDERR\n",
      "E0000 00:00:1750427234.613218    3763 cuda_dnn.cc:8579] Unable to register cuDNN factory: Attempting to register factory for plugin cuDNN when one has already been registered\n",
      "E0000 00:00:1750427234.636693    3763 cuda_blas.cc:1407] Unable to register cuBLAS factory: Attempting to register factory for plugin cuBLAS when one has already been registered\n",
      "W0000 00:00:1750427234.824262    3763 computation_placer.cc:177] computation placer already registered. Please check linkage and avoid linking the same target more than once.\n",
      "W0000 00:00:1750427234.824278    3763 computation_placer.cc:177] computation placer already registered. Please check linkage and avoid linking the same target more than once.\n",
      "W0000 00:00:1750427234.824278    3763 computation_placer.cc:177] computation placer already registered. Please check linkage and avoid linking the same target more than once.\n",
      "W0000 00:00:1750427234.824279    3763 computation_placer.cc:177] computation placer already registered. Please check linkage and avoid linking the same target more than once.\n"
     ]
    },
    {
     "name": "stdout",
     "output_type": "stream",
     "text": [
      "\n",
      "GPU configuration successful!\n",
      "Device: /physical_device:GPU:0\n",
      "Memory limit: 18.0 GB\n",
      "\n",
      "TensorFlow optimizations status:\n",
      "- CPU Threads: 16 intra-op, 9 inter-op (32 cores total)\n",
      "- XLA JIT: enabled (autoclustering)\n",
      "- Synchronous Execution: enabled\n",
      "\n",
      "GPU Device Details:\n",
      "- Device: GPU /physical_device:GPU:0\n",
      "- Memory limit: 18.0 GB\n"
     ]
    },
    {
     "name": "stderr",
     "output_type": "stream",
     "text": [
      "I0000 00:00:1750427238.177283    3763 gpu_process_state.cc:208] Using CUDA malloc Async allocator for GPU: 0\n",
      "I0000 00:00:1750427238.178052    3763 gpu_device.cc:2019] Created device /job:localhost/replica:0/task:0/device:GPU:0 with 19327352832 MB memory:  -> device: 0, name: NVIDIA GeForce RTX 3090 Ti, pci bus id: 0000:01:00.0, compute capability: 8.6\n"
     ]
    }
   ],
   "source": [
    "# Import dependencies\n",
    "import os\n",
    "16\n",
    "os.environ['TF_CPP_MIN_VLOG_LEVEL'] = '0'\n",
    "os.environ['TF_CPP_MIN_LOG_LEVEL'] = '2'\n",
    "os.environ['TF_GPU_ALLOCATOR'] = 'cuda_malloc_async'\n",
    "os.environ['TF_FORCE_GPU_ALLOW_GROWTH'] = 'true'\n",
    "\n",
    "from src.utils.gpu_config import configure_gpu, optimize_tensorflow\n",
    "\n",
    "configure_gpu()\n",
    "optimize_tensorflow()"
   ]
  },
  {
   "cell_type": "code",
   "execution_count": 2,
   "id": "2b854daf-5f2a-4c33-9180-5081cd415b16",
   "metadata": {},
   "outputs": [],
   "source": [
    "# Import Tensorflow Keras\n",
    "from tensorflow.keras.optimizers import Adam\n",
    "from tensorflow.keras.losses import BinaryFocalCrossentropy\n",
    "from tensorflow.keras.callbacks import ReduceLROnPlateau, ModelCheckpoint\n",
    "\n",
    "# Import local modules\n",
    "from src.utils.consts import TF_RECORD_DATASET, MODELS_PATH, TF_BUFFER_SIZE, TF_SHUFFLE_SIZE, TF_BATCH_SIZE, TF_MAX_EPOCHS\n",
    "from src.model.tensorflow_utils import load_dataset, optimize_dataset, count_dataset_size, get_num_classes, get_metrics\n",
    "from src.model.tensorflow_utils import setup_logger, setup_training_logger, setup_metrics_monitor, setup_early_stopping, filter_no_finding_class\n",
    "from src.model.tensorflow_utils import start_or_resume_training, apply_augmentation_to_dataset, calculate_class_weights, oversample_minority_classes\n",
    "from src.model.densnet.tensorflow_dense_net_121 import build_densenet121\n",
    "\n",
    "# Input Data\n",
    "initial_epoch   = 76\n",
    "resume_training = True\n",
    "checkpoint_path = '/home/piotr/Pulpit/codebook/studies/bachelor-thesis/models/DenseNetV6_3/checkpoints/cp-0075.keras'\n",
    "set_name        = \"DenseNetV6\"\n",
    "model_name      = f\"{set_name}_3\"\n",
    "num_classes     = get_num_classes()\n",
    "\n",
    "train_ds = load_dataset(f\"{TF_RECORD_DATASET}/train.tfrecord\", TF_BUFFER_SIZE)\n",
    "val_ds   = load_dataset(f\"{TF_RECORD_DATASET}/val.tfrecord\", TF_BUFFER_SIZE)\n",
    "\n",
    "train_ds = filter_no_finding_class(train_ds)\n",
    "val_ds   = filter_no_finding_class(val_ds)\n",
    "\n",
    "class_weights = calculate_class_weights(train_ds, num_classes)\n",
    "train_ds      = oversample_minority_classes(train_ds, class_weights)\n",
    "class_weights = calculate_class_weights(train_ds, num_classes)"
   ]
  },
  {
   "cell_type": "code",
   "execution_count": 3,
   "id": "5f152b8a-8ff8-4095-9815-e304ce2beb52",
   "metadata": {},
   "outputs": [
    {
     "name": "stderr",
     "output_type": "stream",
     "text": [
      "Counting samples: 104166 samples [00:34, 3014.32 samples/s] \n",
      "Counting samples: 15431 samples [00:08, 1746.24 samples/s]\n"
     ]
    }
   ],
   "source": [
    "steps_per_epoch  = int(count_dataset_size(train_ds, None) / TF_BATCH_SIZE)\n",
    "validation_steps = int(count_dataset_size(val_ds, None) / TF_BATCH_SIZE)\n",
    "\n",
    "# Disable Advanced Augmentations\n",
    "probability = {\n",
    "    \"intensity_scaling\": 0,\n",
    "    \"adaptive_histogram\": 0,\n",
    "    \"zoom\": 0,\n",
    "    \"cutout\": 0\n",
    "}\n",
    "\n",
    "train_ds = train_ds.shuffle(TF_SHUFFLE_SIZE, reshuffle_each_iteration=True)\n",
    "train_ds = apply_augmentation_to_dataset(train_ds, probability)\n",
    "train_ds = optimize_dataset(train_ds, TF_BATCH_SIZE)\n",
    "\n",
    "val_ds   = optimize_dataset(val_ds, TF_BATCH_SIZE)"
   ]
  },
  {
   "cell_type": "code",
   "execution_count": 4,
   "id": "3a0e37c9-b178-40d8-bd25-8c0a6498564a",
   "metadata": {},
   "outputs": [
    {
     "name": "stderr",
     "output_type": "stream",
     "text": [
      "2025-06-20 15:49:17 - INFO - Resuming from existing metrics file: /home/piotr/Pulpit/codebook/studies/bachelor-thesis/models/DenseNetV6_3/train_metrics.csv\n",
      "2025-06-20 15:49:17 - INFO - Resuming from existing validation metrics file: /home/piotr/Pulpit/codebook/studies/bachelor-thesis/models/DenseNetV6_3/val_metrics.csv\n",
      "2025-06-20 15:49:17 - INFO - Cleaned training metrics file, kept 60975 records before epoch 76\n",
      "2025-06-20 15:49:17 - INFO - Cleaned validation metrics file, kept 75 records before epoch 76\n",
      "2025-06-20 15:49:17 - INFO - Found 60975 existing training records\n",
      "2025-06-20 15:49:17 - INFO - Found 75 existing validation records\n"
     ]
    }
   ],
   "source": [
    "# Setup Model Deps\n",
    "logger            = setup_logger()\n",
    "training_logger   = setup_training_logger(logger, TF_BATCH_SIZE, 100)\n",
    "metrics_monitor   = setup_metrics_monitor(MODELS_PATH, model_name, logger, resume_training=resume_training, initial_epoch=initial_epoch)\n",
    "metrics           = get_metrics()\n",
    "\n",
    "# Setup compile arguments\n",
    "loss           = BinaryFocalCrossentropy(gamma=2.0, from_logits=False, label_smoothing=0.05)\n",
    "reduce_lr      = ReduceLROnPlateau(monitor=\"val_f1_score\", factor=0.5,  patience=3, min_lr=1e-6, mode=\"max\", verbose=1)\n",
    "early_stopping = setup_early_stopping()\n",
    "\n",
    "epoch_mode           = 'cp-{epoch:04d}'\n",
    "save_checkpoint_path = f\"{MODELS_PATH}/{model_name}/checkpoints/{epoch_mode}.keras\"\n",
    "checkpoint           = ModelCheckpoint(save_checkpoint_path, monitor=\"val_f1_score\", save_best_only=False, mode=\"max\", save_weights_only=False)\n",
    "\n",
    "model_path      = f\"{MODELS_PATH}/{model_name}.keras\"\n",
    "best_checkpoint = ModelCheckpoint(model_path, monitor=\"val_f1_score\", save_best_only=True, mode=\"max\", save_weights_only=False)"
   ]
  },
  {
   "cell_type": "code",
   "execution_count": 5,
   "id": "c44d4a9a-ffbb-4917-a702-c35773b9857c",
   "metadata": {},
   "outputs": [
    {
     "name": "stderr",
     "output_type": "stream",
     "text": [
      "2025-06-20 15:49:18 - INFO - Resuming training from checkpoint: /home/piotr/Pulpit/codebook/studies/bachelor-thesis/models/DenseNetV6_3/checkpoints/cp-0075.keras\n",
      "2025-06-20 15:49:20 - INFO - Resuming from existing metrics file: /home/piotr/Pulpit/codebook/studies/bachelor-thesis/models/DenseNetV6_3/train_metrics.csv\n",
      "2025-06-20 15:49:20 - INFO - Resuming from existing validation metrics file: /home/piotr/Pulpit/codebook/studies/bachelor-thesis/models/DenseNetV6_3/val_metrics.csv\n",
      "2025-06-20 15:49:20 - INFO - Cleaned training metrics file, kept 60975 records before epoch 76\n",
      "2025-06-20 15:49:20 - INFO - Cleaned validation metrics file, kept 75 records before epoch 76\n",
      "2025-06-20 15:49:20 - INFO - Found 60975 existing training records\n",
      "2025-06-20 15:49:20 - INFO - Found 75 existing validation records\n",
      "2025-06-20 15:49:20 - INFO - \n",
      "=== Training Started ===\n",
      "\n",
      "2025-06-20 15:49:20 - INFO - Batch Size: 128\n",
      "2025-06-20 15:49:20 - INFO - Optimizer: Adam\n",
      "2025-06-20 15:49:20 - INFO - \n",
      "==================================================\n",
      "\n",
      "2025-06-20 15:49:20 - INFO - \n",
      "=== Starting Epoch 76 ===\n",
      "\n"
     ]
    },
    {
     "name": "stdout",
     "output_type": "stream",
     "text": [
      "Epoch 76/100\n"
     ]
    },
    {
     "name": "stderr",
     "output_type": "stream",
     "text": [
      "WARNING: All log messages before absl::InitializeLog() is called are written to STDERR\n",
      "I0000 00:00:1750427380.059611    3845 service.cc:152] XLA service 0x71e4e8013df0 initialized for platform CUDA (this does not guarantee that XLA will be used). Devices:\n",
      "I0000 00:00:1750427380.059771    3845 service.cc:160]   StreamExecutor device (0): NVIDIA GeForce RTX 3090 Ti, Compute Capability 8.6\n",
      "I0000 00:00:1750427385.218379    3845 cuda_dnn.cc:529] Loaded cuDNN version 90300\n",
      "I0000 00:00:1750427442.320252    3845 device_compiler.h:188] Compiled cluster using XLA!  This line is logged at most once for the lifetime of the process.\n"
     ]
    },
    {
     "name": "stdout",
     "output_type": "stream",
     "text": [
      "\u001b[1m813/813\u001b[0m \u001b[32m━━━━━━━━━━━━━━━━━━━━\u001b[0m\u001b[37m\u001b[0m \u001b[1m0s\u001b[0m 216ms/step - accuracy: 0.9544 - auc: 0.9570 - f1_score: 0.6399 - loss: 0.0250 - precision: 0.7995 - recall: 0.5574  "
     ]
    },
    {
     "name": "stderr",
     "output_type": "stream",
     "text": [
      "2025-06-20 15:53:57 - INFO - \n",
      "=== Epoch 76 Summary ===\n",
      "2025-06-20 15:53:57 - INFO - Time: 277.07s\n",
      "2025-06-20 15:53:57 - INFO - Training   - accuracy: 0.9549 - auc: 0.9574 - f1_score: 0.6418 - loss: 0.0248 - precision: 0.7993 - recall: 0.5608 - learning_rate: 0.0000\n",
      "2025-06-20 15:53:57 - INFO - Validation - accuracy: 0.9321 - auc: 0.7563 - f1_score: 0.2390 - loss: 0.0710 - precision: 0.3222 - recall: 0.2050\n",
      "2025-06-20 15:53:57 - INFO - ==================================================\n",
      "\n"
     ]
    },
    {
     "name": "stdout",
     "output_type": "stream",
     "text": [
      "\u001b[1m813/813\u001b[0m \u001b[32m━━━━━━━━━━━━━━━━━━━━\u001b[0m\u001b[37m\u001b[0m \u001b[1m277s\u001b[0m 240ms/step - accuracy: 0.9544 - auc: 0.9570 - f1_score: 0.6399 - loss: 0.0250 - precision: 0.7995 - recall: 0.5574 - val_accuracy: 0.9321 - val_auc: 0.7563 - val_f1_score: 0.2390 - val_loss: 0.0710 - val_precision: 0.3222 - val_recall: 0.2050 - learning_rate: 1.0000e-06\n"
     ]
    },
    {
     "name": "stderr",
     "output_type": "stream",
     "text": [
      "2025-06-20 15:53:57 - INFO - \n",
      "=== Starting Epoch 77 ===\n",
      "\n"
     ]
    },
    {
     "name": "stdout",
     "output_type": "stream",
     "text": [
      "Epoch 77/100\n",
      "\u001b[1m813/813\u001b[0m \u001b[32m━━━━━━━━━━━━━━━━━━━━\u001b[0m\u001b[37m\u001b[0m \u001b[1m0s\u001b[0m 220ms/step - accuracy: 0.9548 - auc: 0.9574 - f1_score: 0.6444 - loss: 0.0250 - precision: 0.8033 - recall: 0.5622  "
     ]
    },
    {
     "name": "stderr",
     "output_type": "stream",
     "text": [
      "2025-06-20 15:58:02 - INFO - \n",
      "=== Epoch 77 Summary ===\n",
      "2025-06-20 15:58:02 - INFO - Time: 244.59s\n",
      "2025-06-20 15:58:02 - INFO - Training   - accuracy: 0.9551 - auc: 0.9576 - f1_score: 0.6448 - loss: 0.0248 - precision: 0.8005 - recall: 0.5641 - learning_rate: 0.0000\n",
      "2025-06-20 15:58:02 - INFO - Validation - accuracy: 0.9322 - auc: 0.7558 - f1_score: 0.2395 - loss: 0.0715 - precision: 0.3254 - recall: 0.2081\n",
      "2025-06-20 15:58:02 - INFO - ==================================================\n",
      "\n"
     ]
    },
    {
     "name": "stdout",
     "output_type": "stream",
     "text": [
      "\u001b[1m813/813\u001b[0m \u001b[32m━━━━━━━━━━━━━━━━━━━━\u001b[0m\u001b[37m\u001b[0m \u001b[1m245s\u001b[0m 234ms/step - accuracy: 0.9548 - auc: 0.9574 - f1_score: 0.6444 - loss: 0.0250 - precision: 0.8033 - recall: 0.5622 - val_accuracy: 0.9322 - val_auc: 0.7558 - val_f1_score: 0.2395 - val_loss: 0.0715 - val_precision: 0.3254 - val_recall: 0.2081 - learning_rate: 1.0000e-06\n"
     ]
    },
    {
     "name": "stderr",
     "output_type": "stream",
     "text": [
      "2025-06-20 15:58:02 - INFO - \n",
      "=== Starting Epoch 78 ===\n",
      "\n"
     ]
    },
    {
     "name": "stdout",
     "output_type": "stream",
     "text": [
      "Epoch 78/100\n",
      "\u001b[1m813/813\u001b[0m \u001b[32m━━━━━━━━━━━━━━━━━━━━\u001b[0m\u001b[37m\u001b[0m \u001b[1m0s\u001b[0m 227ms/step - accuracy: 0.9547 - auc: 0.9573 - f1_score: 0.6435 - loss: 0.0249 - precision: 0.7995 - recall: 0.5620  "
     ]
    },
    {
     "name": "stderr",
     "output_type": "stream",
     "text": [
      "2025-06-20 16:01:20 - INFO - \n",
      "=== Epoch 78 Summary ===\n",
      "2025-06-20 16:01:20 - INFO - Time: 198.36s\n",
      "2025-06-20 16:01:20 - INFO - Training   - accuracy: 0.9551 - auc: 0.9578 - f1_score: 0.6459 - loss: 0.0247 - precision: 0.7986 - recall: 0.5659 - learning_rate: 0.0000\n",
      "2025-06-20 16:01:20 - INFO - Validation - accuracy: 0.9331 - auc: 0.7566 - f1_score: 0.2399 - loss: 0.0714 - precision: 0.3275 - recall: 0.1974\n",
      "2025-06-20 16:01:20 - INFO - ==================================================\n",
      "\n"
     ]
    },
    {
     "name": "stdout",
     "output_type": "stream",
     "text": [
      "\u001b[1m813/813\u001b[0m \u001b[32m━━━━━━━━━━━━━━━━━━━━\u001b[0m\u001b[37m\u001b[0m \u001b[1m198s\u001b[0m 244ms/step - accuracy: 0.9547 - auc: 0.9573 - f1_score: 0.6435 - loss: 0.0249 - precision: 0.7995 - recall: 0.5620 - val_accuracy: 0.9331 - val_auc: 0.7566 - val_f1_score: 0.2399 - val_loss: 0.0714 - val_precision: 0.3275 - val_recall: 0.1974 - learning_rate: 1.0000e-06\n"
     ]
    },
    {
     "name": "stderr",
     "output_type": "stream",
     "text": [
      "2025-06-20 16:01:20 - INFO - \n",
      "=== Starting Epoch 79 ===\n",
      "\n"
     ]
    },
    {
     "name": "stdout",
     "output_type": "stream",
     "text": [
      "Epoch 79/100\n",
      "\u001b[1m813/813\u001b[0m \u001b[32m━━━━━━━━━━━━━━━━━━━━\u001b[0m\u001b[37m\u001b[0m \u001b[1m0s\u001b[0m 217ms/step - accuracy: 0.9550 - auc: 0.9578 - f1_score: 0.6468 - loss: 0.0249 - precision: 0.8006 - recall: 0.5664  "
     ]
    },
    {
     "name": "stderr",
     "output_type": "stream",
     "text": [
      "2025-06-20 16:04:25 - INFO - \n",
      "=== Epoch 79 Summary ===\n",
      "2025-06-20 16:04:25 - INFO - Time: 184.68s\n",
      "2025-06-20 16:04:25 - INFO - Training   - accuracy: 0.9554 - auc: 0.9582 - f1_score: 0.6482 - loss: 0.0247 - precision: 0.8002 - recall: 0.5686 - learning_rate: 0.0000\n",
      "2025-06-20 16:04:25 - INFO - Validation - accuracy: 0.9342 - auc: 0.7556 - f1_score: 0.2196 - loss: 0.0724 - precision: 0.3254 - recall: 0.1749\n",
      "2025-06-20 16:04:25 - INFO - ==================================================\n",
      "\n"
     ]
    },
    {
     "name": "stdout",
     "output_type": "stream",
     "text": [
      "\u001b[1m813/813\u001b[0m \u001b[32m━━━━━━━━━━━━━━━━━━━━\u001b[0m\u001b[37m\u001b[0m \u001b[1m185s\u001b[0m 227ms/step - accuracy: 0.9550 - auc: 0.9578 - f1_score: 0.6468 - loss: 0.0249 - precision: 0.8006 - recall: 0.5664 - val_accuracy: 0.9342 - val_auc: 0.7556 - val_f1_score: 0.2196 - val_loss: 0.0724 - val_precision: 0.3254 - val_recall: 0.1749 - learning_rate: 1.0000e-06\n"
     ]
    },
    {
     "name": "stderr",
     "output_type": "stream",
     "text": [
      "2025-06-20 16:04:25 - INFO - \n",
      "=== Starting Epoch 80 ===\n",
      "\n"
     ]
    },
    {
     "name": "stdout",
     "output_type": "stream",
     "text": [
      "Epoch 80/100\n",
      "\u001b[1m813/813\u001b[0m \u001b[32m━━━━━━━━━━━━━━━━━━━━\u001b[0m\u001b[37m\u001b[0m \u001b[1m0s\u001b[0m 231ms/step - accuracy: 0.9552 - auc: 0.9578 - f1_score: 0.6478 - loss: 0.0247 - precision: 0.8033 - recall: 0.5657  "
     ]
    },
    {
     "name": "stderr",
     "output_type": "stream",
     "text": [
      "2025-06-20 16:07:41 - INFO - \n",
      "=== Epoch 80 Summary ===\n",
      "2025-06-20 16:07:41 - INFO - Time: 196.37s\n",
      "2025-06-20 16:07:41 - INFO - Training   - accuracy: 0.9555 - auc: 0.9585 - f1_score: 0.6486 - loss: 0.0246 - precision: 0.8013 - recall: 0.5683 - learning_rate: 0.0000\n",
      "2025-06-20 16:07:41 - INFO - Validation - accuracy: 0.9327 - auc: 0.7549 - f1_score: 0.2305 - loss: 0.0728 - precision: 0.3190 - recall: 0.1890\n",
      "2025-06-20 16:07:41 - INFO - ==================================================\n",
      "\n"
     ]
    },
    {
     "name": "stdout",
     "output_type": "stream",
     "text": [
      "\u001b[1m813/813\u001b[0m \u001b[32m━━━━━━━━━━━━━━━━━━━━\u001b[0m\u001b[37m\u001b[0m \u001b[1m196s\u001b[0m 242ms/step - accuracy: 0.9552 - auc: 0.9578 - f1_score: 0.6478 - loss: 0.0247 - precision: 0.8033 - recall: 0.5657 - val_accuracy: 0.9327 - val_auc: 0.7549 - val_f1_score: 0.2305 - val_loss: 0.0728 - val_precision: 0.3190 - val_recall: 0.1890 - learning_rate: 1.0000e-06\n"
     ]
    },
    {
     "name": "stderr",
     "output_type": "stream",
     "text": [
      "2025-06-20 16:07:41 - INFO - \n",
      "=== Starting Epoch 81 ===\n",
      "\n"
     ]
    },
    {
     "name": "stdout",
     "output_type": "stream",
     "text": [
      "Epoch 81/100\n",
      "\u001b[1m813/813\u001b[0m \u001b[32m━━━━━━━━━━━━━━━━━━━━\u001b[0m\u001b[37m\u001b[0m \u001b[1m0s\u001b[0m 231ms/step - accuracy: 0.9550 - auc: 0.9583 - f1_score: 0.6475 - loss: 0.0247 - precision: 0.8013 - recall: 0.5663  "
     ]
    },
    {
     "name": "stderr",
     "output_type": "stream",
     "text": [
      "2025-06-20 16:11:04 - INFO - \n",
      "=== Epoch 81 Summary ===\n",
      "2025-06-20 16:11:04 - INFO - Time: 202.74s\n",
      "2025-06-20 16:11:04 - INFO - Training   - accuracy: 0.9555 - auc: 0.9591 - f1_score: 0.6498 - loss: 0.0245 - precision: 0.8013 - recall: 0.5697 - learning_rate: 0.0000\n",
      "2025-06-20 16:11:04 - INFO - Validation - accuracy: 0.9352 - auc: 0.7580 - f1_score: 0.2235 - loss: 0.0728 - precision: 0.3384 - recall: 0.1777\n",
      "2025-06-20 16:11:04 - INFO - ==================================================\n",
      "\n"
     ]
    },
    {
     "name": "stdout",
     "output_type": "stream",
     "text": [
      "\u001b[1m813/813\u001b[0m \u001b[32m━━━━━━━━━━━━━━━━━━━━\u001b[0m\u001b[37m\u001b[0m \u001b[1m203s\u001b[0m 249ms/step - accuracy: 0.9550 - auc: 0.9583 - f1_score: 0.6475 - loss: 0.0247 - precision: 0.8013 - recall: 0.5663 - val_accuracy: 0.9352 - val_auc: 0.7580 - val_f1_score: 0.2235 - val_loss: 0.0728 - val_precision: 0.3384 - val_recall: 0.1777 - learning_rate: 1.0000e-06\n"
     ]
    },
    {
     "name": "stderr",
     "output_type": "stream",
     "text": [
      "2025-06-20 16:11:04 - INFO - \n",
      "=== Starting Epoch 82 ===\n",
      "\n"
     ]
    },
    {
     "name": "stdout",
     "output_type": "stream",
     "text": [
      "Epoch 82/100\n",
      "\u001b[1m813/813\u001b[0m \u001b[32m━━━━━━━━━━━━━━━━━━━━\u001b[0m\u001b[37m\u001b[0m \u001b[1m0s\u001b[0m 219ms/step - accuracy: 0.9551 - auc: 0.9582 - f1_score: 0.6477 - loss: 0.0247 - precision: 0.8005 - recall: 0.5674  "
     ]
    },
    {
     "name": "stderr",
     "output_type": "stream",
     "text": [
      "2025-06-20 16:14:15 - INFO - \n",
      "=== Epoch 82 Summary ===\n",
      "2025-06-20 16:14:15 - INFO - Time: 191.59s\n",
      "2025-06-20 16:14:15 - INFO - Training   - accuracy: 0.9556 - auc: 0.9589 - f1_score: 0.6509 - loss: 0.0246 - precision: 0.8005 - recall: 0.5716 - learning_rate: 0.0000\n",
      "2025-06-20 16:14:15 - INFO - Validation - accuracy: 0.9320 - auc: 0.7544 - f1_score: 0.2401 - loss: 0.0713 - precision: 0.3220 - recall: 0.2060\n",
      "2025-06-20 16:14:15 - INFO - ==================================================\n",
      "\n"
     ]
    },
    {
     "name": "stdout",
     "output_type": "stream",
     "text": [
      "\u001b[1m813/813\u001b[0m \u001b[32m━━━━━━━━━━━━━━━━━━━━\u001b[0m\u001b[37m\u001b[0m \u001b[1m192s\u001b[0m 236ms/step - accuracy: 0.9551 - auc: 0.9582 - f1_score: 0.6477 - loss: 0.0247 - precision: 0.8005 - recall: 0.5675 - val_accuracy: 0.9320 - val_auc: 0.7544 - val_f1_score: 0.2401 - val_loss: 0.0713 - val_precision: 0.3220 - val_recall: 0.2060 - learning_rate: 1.0000e-06\n"
     ]
    },
    {
     "name": "stderr",
     "output_type": "stream",
     "text": [
      "2025-06-20 16:14:16 - INFO - \n",
      "=== Starting Epoch 83 ===\n",
      "\n"
     ]
    },
    {
     "name": "stdout",
     "output_type": "stream",
     "text": [
      "Epoch 83/100\n",
      "\u001b[1m813/813\u001b[0m \u001b[32m━━━━━━━━━━━━━━━━━━━━\u001b[0m\u001b[37m\u001b[0m \u001b[1m0s\u001b[0m 216ms/step - accuracy: 0.9555 - auc: 0.9597 - f1_score: 0.6507 - loss: 0.0244 - precision: 0.8048 - recall: 0.5700  "
     ]
    },
    {
     "name": "stderr",
     "output_type": "stream",
     "text": [
      "2025-06-20 16:17:25 - INFO - \n",
      "=== Epoch 83 Summary ===\n",
      "2025-06-20 16:17:25 - INFO - Time: 189.48s\n",
      "2025-06-20 16:17:25 - INFO - Training   - accuracy: 0.9558 - auc: 0.9599 - f1_score: 0.6518 - loss: 0.0243 - precision: 0.8039 - recall: 0.5716 - learning_rate: 0.0000\n",
      "2025-06-20 16:17:25 - INFO - Validation - accuracy: 0.9298 - auc: 0.7562 - f1_score: 0.2596 - loss: 0.0726 - precision: 0.3189 - recall: 0.2359\n",
      "2025-06-20 16:17:25 - INFO - ==================================================\n",
      "\n"
     ]
    },
    {
     "name": "stdout",
     "output_type": "stream",
     "text": [
      "\u001b[1m813/813\u001b[0m \u001b[32m━━━━━━━━━━━━━━━━━━━━\u001b[0m\u001b[37m\u001b[0m \u001b[1m190s\u001b[0m 233ms/step - accuracy: 0.9555 - auc: 0.9597 - f1_score: 0.6507 - loss: 0.0244 - precision: 0.8048 - recall: 0.5700 - val_accuracy: 0.9298 - val_auc: 0.7562 - val_f1_score: 0.2596 - val_loss: 0.0726 - val_precision: 0.3189 - val_recall: 0.2359 - learning_rate: 1.0000e-06\n"
     ]
    },
    {
     "name": "stderr",
     "output_type": "stream",
     "text": [
      "2025-06-20 16:17:25 - INFO - \n",
      "=== Starting Epoch 84 ===\n",
      "\n"
     ]
    },
    {
     "name": "stdout",
     "output_type": "stream",
     "text": [
      "Epoch 84/100\n",
      "\u001b[1m813/813\u001b[0m \u001b[32m━━━━━━━━━━━━━━━━━━━━\u001b[0m\u001b[37m\u001b[0m \u001b[1m0s\u001b[0m 217ms/step - accuracy: 0.9557 - auc: 0.9598 - f1_score: 0.6533 - loss: 0.0244 - precision: 0.8041 - recall: 0.5742  "
     ]
    },
    {
     "name": "stderr",
     "output_type": "stream",
     "text": [
      "2025-06-20 16:20:35 - INFO - \n",
      "=== Epoch 84 Summary ===\n",
      "2025-06-20 16:20:35 - INFO - Time: 189.77s\n",
      "2025-06-20 16:20:35 - INFO - Training   - accuracy: 0.9562 - auc: 0.9602 - f1_score: 0.6562 - loss: 0.0242 - precision: 0.8050 - recall: 0.5772 - learning_rate: 0.0000\n",
      "2025-06-20 16:20:35 - INFO - Validation - accuracy: 0.9316 - auc: 0.7560 - f1_score: 0.2448 - loss: 0.0734 - precision: 0.3236 - recall: 0.2152\n",
      "2025-06-20 16:20:35 - INFO - ==================================================\n",
      "\n"
     ]
    },
    {
     "name": "stdout",
     "output_type": "stream",
     "text": [
      "\u001b[1m813/813\u001b[0m \u001b[32m━━━━━━━━━━━━━━━━━━━━\u001b[0m\u001b[37m\u001b[0m \u001b[1m190s\u001b[0m 233ms/step - accuracy: 0.9557 - auc: 0.9598 - f1_score: 0.6533 - loss: 0.0244 - precision: 0.8041 - recall: 0.5742 - val_accuracy: 0.9316 - val_auc: 0.7560 - val_f1_score: 0.2448 - val_loss: 0.0734 - val_precision: 0.3236 - val_recall: 0.2152 - learning_rate: 1.0000e-06\n"
     ]
    },
    {
     "name": "stderr",
     "output_type": "stream",
     "text": [
      "2025-06-20 16:20:35 - INFO - \n",
      "=== Starting Epoch 85 ===\n",
      "\n"
     ]
    },
    {
     "name": "stdout",
     "output_type": "stream",
     "text": [
      "Epoch 85/100\n",
      "\u001b[1m813/813\u001b[0m \u001b[32m━━━━━━━━━━━━━━━━━━━━\u001b[0m\u001b[37m\u001b[0m \u001b[1m0s\u001b[0m 220ms/step - accuracy: 0.9561 - auc: 0.9596 - f1_score: 0.6560 - loss: 0.0244 - precision: 0.8049 - recall: 0.5768  "
     ]
    },
    {
     "name": "stderr",
     "output_type": "stream",
     "text": [
      "2025-06-20 16:23:46 - INFO - \n",
      "=== Epoch 85 Summary ===\n",
      "2025-06-20 16:23:46 - INFO - Time: 191.06s\n",
      "2025-06-20 16:23:46 - INFO - Training   - accuracy: 0.9564 - auc: 0.9604 - f1_score: 0.6579 - loss: 0.0242 - precision: 0.8070 - recall: 0.5786 - learning_rate: 0.0000\n",
      "2025-06-20 16:23:46 - INFO - Validation - accuracy: 0.9314 - auc: 0.7556 - f1_score: 0.2454 - loss: 0.0725 - precision: 0.3222 - recall: 0.2169\n",
      "2025-06-20 16:23:46 - INFO - ==================================================\n",
      "\n"
     ]
    },
    {
     "name": "stdout",
     "output_type": "stream",
     "text": [
      "\u001b[1m813/813\u001b[0m \u001b[32m━━━━━━━━━━━━━━━━━━━━\u001b[0m\u001b[37m\u001b[0m \u001b[1m191s\u001b[0m 235ms/step - accuracy: 0.9561 - auc: 0.9596 - f1_score: 0.6560 - loss: 0.0244 - precision: 0.8049 - recall: 0.5768 - val_accuracy: 0.9314 - val_auc: 0.7556 - val_f1_score: 0.2454 - val_loss: 0.0725 - val_precision: 0.3222 - val_recall: 0.2169 - learning_rate: 1.0000e-06\n"
     ]
    },
    {
     "name": "stderr",
     "output_type": "stream",
     "text": [
      "2025-06-20 16:23:46 - INFO - \n",
      "=== Starting Epoch 86 ===\n",
      "\n"
     ]
    },
    {
     "name": "stdout",
     "output_type": "stream",
     "text": [
      "Epoch 86/100\n",
      "\u001b[1m813/813\u001b[0m \u001b[32m━━━━━━━━━━━━━━━━━━━━\u001b[0m\u001b[37m\u001b[0m \u001b[1m0s\u001b[0m 220ms/step - accuracy: 0.9562 - auc: 0.9601 - f1_score: 0.6588 - loss: 0.0243 - precision: 0.8058 - recall: 0.5793  "
     ]
    },
    {
     "name": "stderr",
     "output_type": "stream",
     "text": [
      "2025-06-20 16:26:59 - INFO - \n",
      "=== Epoch 86 Summary ===\n",
      "2025-06-20 16:26:59 - INFO - Time: 193.10s\n",
      "2025-06-20 16:26:59 - INFO - Training   - accuracy: 0.9563 - auc: 0.9603 - f1_score: 0.6579 - loss: 0.0242 - precision: 0.8044 - recall: 0.5794 - learning_rate: 0.0000\n",
      "2025-06-20 16:26:59 - INFO - Validation - accuracy: 0.9317 - auc: 0.7516 - f1_score: 0.2411 - loss: 0.0736 - precision: 0.3196 - recall: 0.2060\n",
      "2025-06-20 16:26:59 - INFO - ==================================================\n",
      "\n"
     ]
    },
    {
     "name": "stdout",
     "output_type": "stream",
     "text": [
      "\u001b[1m813/813\u001b[0m \u001b[32m━━━━━━━━━━━━━━━━━━━━\u001b[0m\u001b[37m\u001b[0m \u001b[1m193s\u001b[0m 238ms/step - accuracy: 0.9562 - auc: 0.9601 - f1_score: 0.6588 - loss: 0.0243 - precision: 0.8058 - recall: 0.5793 - val_accuracy: 0.9317 - val_auc: 0.7516 - val_f1_score: 0.2411 - val_loss: 0.0736 - val_precision: 0.3196 - val_recall: 0.2060 - learning_rate: 1.0000e-06\n"
     ]
    },
    {
     "name": "stderr",
     "output_type": "stream",
     "text": [
      "2025-06-20 16:26:59 - INFO - \n",
      "=== Starting Epoch 87 ===\n",
      "\n"
     ]
    },
    {
     "name": "stdout",
     "output_type": "stream",
     "text": [
      "Epoch 87/100\n",
      "\u001b[1m813/813\u001b[0m \u001b[32m━━━━━━━━━━━━━━━━━━━━\u001b[0m\u001b[37m\u001b[0m \u001b[1m0s\u001b[0m 219ms/step - accuracy: 0.9564 - auc: 0.9605 - f1_score: 0.6596 - loss: 0.0242 - precision: 0.8079 - recall: 0.5798  "
     ]
    },
    {
     "name": "stderr",
     "output_type": "stream",
     "text": [
      "2025-06-20 16:30:10 - INFO - \n",
      "=== Epoch 87 Summary ===\n",
      "2025-06-20 16:30:10 - INFO - Time: 190.51s\n",
      "2025-06-20 16:30:10 - INFO - Training   - accuracy: 0.9566 - auc: 0.9608 - f1_score: 0.6609 - loss: 0.0241 - precision: 0.8075 - recall: 0.5819 - learning_rate: 0.0000\n",
      "2025-06-20 16:30:10 - INFO - Validation - accuracy: 0.9308 - auc: 0.7542 - f1_score: 0.2398 - loss: 0.0740 - precision: 0.3112 - recall: 0.2059\n",
      "2025-06-20 16:30:10 - INFO - ==================================================\n",
      "\n"
     ]
    },
    {
     "name": "stdout",
     "output_type": "stream",
     "text": [
      "\u001b[1m813/813\u001b[0m \u001b[32m━━━━━━━━━━━━━━━━━━━━\u001b[0m\u001b[37m\u001b[0m \u001b[1m191s\u001b[0m 234ms/step - accuracy: 0.9564 - auc: 0.9605 - f1_score: 0.6596 - loss: 0.0242 - precision: 0.8079 - recall: 0.5798 - val_accuracy: 0.9308 - val_auc: 0.7542 - val_f1_score: 0.2398 - val_loss: 0.0740 - val_precision: 0.3112 - val_recall: 0.2059 - learning_rate: 1.0000e-06\n"
     ]
    },
    {
     "name": "stderr",
     "output_type": "stream",
     "text": [
      "2025-06-20 16:30:10 - INFO - \n",
      "=== Starting Epoch 88 ===\n",
      "\n"
     ]
    },
    {
     "name": "stdout",
     "output_type": "stream",
     "text": [
      "Epoch 88/100\n",
      "\u001b[1m813/813\u001b[0m \u001b[32m━━━━━━━━━━━━━━━━━━━━\u001b[0m\u001b[37m\u001b[0m \u001b[1m0s\u001b[0m 218ms/step - accuracy: 0.9566 - auc: 0.9608 - f1_score: 0.6594 - loss: 0.0241 - precision: 0.8080 - recall: 0.5797  "
     ]
    },
    {
     "name": "stderr",
     "output_type": "stream",
     "text": [
      "2025-06-20 16:33:20 - INFO - \n",
      "=== Epoch 88 Summary ===\n",
      "2025-06-20 16:33:20 - INFO - Time: 190.22s\n",
      "2025-06-20 16:33:20 - INFO - Training   - accuracy: 0.9567 - auc: 0.9611 - f1_score: 0.6611 - loss: 0.0240 - precision: 0.8067 - recall: 0.5829 - learning_rate: 0.0000\n",
      "2025-06-20 16:33:20 - INFO - Validation - accuracy: 0.9311 - auc: 0.7517 - f1_score: 0.2383 - loss: 0.0746 - precision: 0.3125 - recall: 0.2031\n",
      "2025-06-20 16:33:20 - INFO - ==================================================\n",
      "\n"
     ]
    },
    {
     "name": "stdout",
     "output_type": "stream",
     "text": [
      "\u001b[1m813/813\u001b[0m \u001b[32m━━━━━━━━━━━━━━━━━━━━\u001b[0m\u001b[37m\u001b[0m \u001b[1m190s\u001b[0m 234ms/step - accuracy: 0.9566 - auc: 0.9608 - f1_score: 0.6594 - loss: 0.0241 - precision: 0.8079 - recall: 0.5798 - val_accuracy: 0.9311 - val_auc: 0.7517 - val_f1_score: 0.2383 - val_loss: 0.0746 - val_precision: 0.3125 - val_recall: 0.2031 - learning_rate: 1.0000e-06\n"
     ]
    },
    {
     "name": "stderr",
     "output_type": "stream",
     "text": [
      "2025-06-20 16:33:20 - INFO - \n",
      "=== Starting Epoch 89 ===\n",
      "\n"
     ]
    },
    {
     "name": "stdout",
     "output_type": "stream",
     "text": [
      "Epoch 89/100\n",
      "\u001b[1m813/813\u001b[0m \u001b[32m━━━━━━━━━━━━━━━━━━━━\u001b[0m\u001b[37m\u001b[0m \u001b[1m0s\u001b[0m 218ms/step - accuracy: 0.9569 - auc: 0.9609 - f1_score: 0.6638 - loss: 0.0241 - precision: 0.8116 - recall: 0.5841  "
     ]
    },
    {
     "name": "stderr",
     "output_type": "stream",
     "text": [
      "2025-06-20 16:36:29 - INFO - \n",
      "=== Epoch 89 Summary ===\n",
      "2025-06-20 16:36:29 - INFO - Time: 189.39s\n",
      "2025-06-20 16:36:29 - INFO - Training   - accuracy: 0.9570 - auc: 0.9615 - f1_score: 0.6646 - loss: 0.0240 - precision: 0.8093 - recall: 0.5860 - learning_rate: 0.0000\n",
      "2025-06-20 16:36:29 - INFO - Validation - accuracy: 0.9325 - auc: 0.7568 - f1_score: 0.2412 - loss: 0.0732 - precision: 0.3239 - recall: 0.2017\n",
      "2025-06-20 16:36:29 - INFO - ==================================================\n",
      "\n"
     ]
    },
    {
     "name": "stdout",
     "output_type": "stream",
     "text": [
      "\u001b[1m813/813\u001b[0m \u001b[32m━━━━━━━━━━━━━━━━━━━━\u001b[0m\u001b[37m\u001b[0m \u001b[1m189s\u001b[0m 233ms/step - accuracy: 0.9569 - auc: 0.9609 - f1_score: 0.6638 - loss: 0.0241 - precision: 0.8116 - recall: 0.5841 - val_accuracy: 0.9325 - val_auc: 0.7568 - val_f1_score: 0.2412 - val_loss: 0.0732 - val_precision: 0.3239 - val_recall: 0.2017 - learning_rate: 1.0000e-06\n"
     ]
    },
    {
     "name": "stderr",
     "output_type": "stream",
     "text": [
      "2025-06-20 16:36:29 - INFO - \n",
      "=== Starting Epoch 90 ===\n",
      "\n"
     ]
    },
    {
     "name": "stdout",
     "output_type": "stream",
     "text": [
      "Epoch 90/100\n",
      "\u001b[1m813/813\u001b[0m \u001b[32m━━━━━━━━━━━━━━━━━━━━\u001b[0m\u001b[37m\u001b[0m \u001b[1m0s\u001b[0m 219ms/step - accuracy: 0.9568 - auc: 0.9611 - f1_score: 0.6649 - loss: 0.0240 - precision: 0.8111 - recall: 0.5853  "
     ]
    },
    {
     "name": "stderr",
     "output_type": "stream",
     "text": [
      "2025-06-20 16:39:40 - INFO - \n",
      "=== Epoch 90 Summary ===\n",
      "2025-06-20 16:39:40 - INFO - Time: 190.71s\n",
      "2025-06-20 16:39:40 - INFO - Training   - accuracy: 0.9573 - auc: 0.9616 - f1_score: 0.6669 - loss: 0.0239 - precision: 0.8103 - recall: 0.5884 - learning_rate: 0.0000\n",
      "2025-06-20 16:39:40 - INFO - Validation - accuracy: 0.9327 - auc: 0.7535 - f1_score: 0.2475 - loss: 0.0729 - precision: 0.3304 - recall: 0.2092\n",
      "2025-06-20 16:39:40 - INFO - ==================================================\n",
      "\n"
     ]
    },
    {
     "name": "stdout",
     "output_type": "stream",
     "text": [
      "\u001b[1m813/813\u001b[0m \u001b[32m━━━━━━━━━━━━━━━━━━━━\u001b[0m\u001b[37m\u001b[0m \u001b[1m191s\u001b[0m 235ms/step - accuracy: 0.9568 - auc: 0.9611 - f1_score: 0.6649 - loss: 0.0240 - precision: 0.8111 - recall: 0.5853 - val_accuracy: 0.9327 - val_auc: 0.7535 - val_f1_score: 0.2475 - val_loss: 0.0729 - val_precision: 0.3304 - val_recall: 0.2092 - learning_rate: 1.0000e-06\n"
     ]
    },
    {
     "name": "stderr",
     "output_type": "stream",
     "text": [
      "2025-06-20 16:39:40 - INFO - \n",
      "=== Starting Epoch 91 ===\n",
      "\n"
     ]
    },
    {
     "name": "stdout",
     "output_type": "stream",
     "text": [
      "Epoch 91/100\n",
      "\u001b[1m813/813\u001b[0m \u001b[32m━━━━━━━━━━━━━━━━━━━━\u001b[0m\u001b[37m\u001b[0m \u001b[1m0s\u001b[0m 219ms/step - accuracy: 0.9570 - auc: 0.9620 - f1_score: 0.6662 - loss: 0.0240 - precision: 0.8101 - recall: 0.5877  "
     ]
    },
    {
     "name": "stderr",
     "output_type": "stream",
     "text": [
      "2025-06-20 16:42:50 - INFO - \n",
      "=== Epoch 91 Summary ===\n",
      "2025-06-20 16:42:50 - INFO - Time: 190.49s\n",
      "2025-06-20 16:42:50 - INFO - Training   - accuracy: 0.9572 - auc: 0.9621 - f1_score: 0.6666 - loss: 0.0238 - precision: 0.8087 - recall: 0.5893 - learning_rate: 0.0000\n",
      "2025-06-20 16:42:50 - INFO - Validation - accuracy: 0.9325 - auc: 0.7548 - f1_score: 0.2442 - loss: 0.0733 - precision: 0.3262 - recall: 0.2056\n",
      "2025-06-20 16:42:50 - INFO - ==================================================\n",
      "\n"
     ]
    },
    {
     "name": "stdout",
     "output_type": "stream",
     "text": [
      "\u001b[1m813/813\u001b[0m \u001b[32m━━━━━━━━━━━━━━━━━━━━\u001b[0m\u001b[37m\u001b[0m \u001b[1m190s\u001b[0m 234ms/step - accuracy: 0.9570 - auc: 0.9620 - f1_score: 0.6662 - loss: 0.0240 - precision: 0.8101 - recall: 0.5877 - val_accuracy: 0.9325 - val_auc: 0.7548 - val_f1_score: 0.2442 - val_loss: 0.0733 - val_precision: 0.3262 - val_recall: 0.2056 - learning_rate: 1.0000e-06\n"
     ]
    },
    {
     "name": "stderr",
     "output_type": "stream",
     "text": [
      "2025-06-20 16:42:50 - INFO - \n",
      "=== Starting Epoch 92 ===\n",
      "\n"
     ]
    },
    {
     "name": "stdout",
     "output_type": "stream",
     "text": [
      "Epoch 92/100\n",
      "\u001b[1m813/813\u001b[0m \u001b[32m━━━━━━━━━━━━━━━━━━━━\u001b[0m\u001b[37m\u001b[0m \u001b[1m0s\u001b[0m 219ms/step - accuracy: 0.9573 - auc: 0.9618 - f1_score: 0.6687 - loss: 0.0240 - precision: 0.8137 - recall: 0.5890  "
     ]
    },
    {
     "name": "stderr",
     "output_type": "stream",
     "text": [
      "2025-06-20 16:45:58 - INFO - \n",
      "=== Epoch 92 Summary ===\n",
      "2025-06-20 16:45:58 - INFO - Time: 187.75s\n",
      "2025-06-20 16:45:58 - INFO - Training   - accuracy: 0.9574 - auc: 0.9622 - f1_score: 0.6684 - loss: 0.0238 - precision: 0.8115 - recall: 0.5902 - learning_rate: 0.0000\n",
      "2025-06-20 16:45:58 - INFO - Validation - accuracy: 0.9343 - auc: 0.7565 - f1_score: 0.2272 - loss: 0.0762 - precision: 0.3318 - recall: 0.1838\n",
      "2025-06-20 16:45:58 - INFO - ==================================================\n",
      "\n"
     ]
    },
    {
     "name": "stdout",
     "output_type": "stream",
     "text": [
      "\u001b[1m813/813\u001b[0m \u001b[32m━━━━━━━━━━━━━━━━━━━━\u001b[0m\u001b[37m\u001b[0m \u001b[1m188s\u001b[0m 231ms/step - accuracy: 0.9573 - auc: 0.9618 - f1_score: 0.6687 - loss: 0.0240 - precision: 0.8137 - recall: 0.5890 - val_accuracy: 0.9343 - val_auc: 0.7565 - val_f1_score: 0.2272 - val_loss: 0.0762 - val_precision: 0.3318 - val_recall: 0.1838 - learning_rate: 1.0000e-06\n"
     ]
    },
    {
     "name": "stderr",
     "output_type": "stream",
     "text": [
      "2025-06-20 16:45:58 - INFO - \n",
      "=== Starting Epoch 93 ===\n",
      "\n"
     ]
    },
    {
     "name": "stdout",
     "output_type": "stream",
     "text": [
      "Epoch 93/100\n",
      "\u001b[1m813/813\u001b[0m \u001b[32m━━━━━━━━━━━━━━━━━━━━\u001b[0m\u001b[37m\u001b[0m \u001b[1m0s\u001b[0m 224ms/step - accuracy: 0.9573 - auc: 0.9626 - f1_score: 0.6680 - loss: 0.0238 - precision: 0.8106 - recall: 0.5897  "
     ]
    },
    {
     "name": "stderr",
     "output_type": "stream",
     "text": [
      "2025-06-20 16:49:13 - INFO - \n",
      "=== Epoch 93 Summary ===\n",
      "2025-06-20 16:49:13 - INFO - Time: 194.72s\n",
      "2025-06-20 16:49:13 - INFO - Training   - accuracy: 0.9574 - auc: 0.9626 - f1_score: 0.6686 - loss: 0.0237 - precision: 0.8110 - recall: 0.5905 - learning_rate: 0.0000\n",
      "2025-06-20 16:49:13 - INFO - Validation - accuracy: 0.9323 - auc: 0.7538 - f1_score: 0.2338 - loss: 0.0766 - precision: 0.3160 - recall: 0.1907\n",
      "2025-06-20 16:49:13 - INFO - ==================================================\n",
      "\n"
     ]
    },
    {
     "name": "stdout",
     "output_type": "stream",
     "text": [
      "\u001b[1m813/813\u001b[0m \u001b[32m━━━━━━━━━━━━━━━━━━━━\u001b[0m\u001b[37m\u001b[0m \u001b[1m195s\u001b[0m 240ms/step - accuracy: 0.9573 - auc: 0.9626 - f1_score: 0.6680 - loss: 0.0238 - precision: 0.8106 - recall: 0.5897 - val_accuracy: 0.9323 - val_auc: 0.7538 - val_f1_score: 0.2338 - val_loss: 0.0766 - val_precision: 0.3160 - val_recall: 0.1907 - learning_rate: 1.0000e-06\n"
     ]
    },
    {
     "name": "stderr",
     "output_type": "stream",
     "text": [
      "2025-06-20 16:49:13 - INFO - \n",
      "=== Starting Epoch 94 ===\n",
      "\n"
     ]
    },
    {
     "name": "stdout",
     "output_type": "stream",
     "text": [
      "Epoch 94/100\n",
      "\u001b[1m813/813\u001b[0m \u001b[32m━━━━━━━━━━━━━━━━━━━━\u001b[0m\u001b[37m\u001b[0m \u001b[1m0s\u001b[0m 218ms/step - accuracy: 0.9577 - auc: 0.9630 - f1_score: 0.6721 - loss: 0.0237 - precision: 0.8138 - recall: 0.5942  "
     ]
    },
    {
     "name": "stderr",
     "output_type": "stream",
     "text": [
      "2025-06-20 16:52:23 - INFO - \n",
      "=== Epoch 94 Summary ===\n",
      "2025-06-20 16:52:23 - INFO - Time: 189.65s\n",
      "2025-06-20 16:52:23 - INFO - Training   - accuracy: 0.9578 - auc: 0.9629 - f1_score: 0.6725 - loss: 0.0236 - precision: 0.8126 - recall: 0.5952 - learning_rate: 0.0000\n",
      "2025-06-20 16:52:23 - INFO - Validation - accuracy: 0.9303 - auc: 0.7537 - f1_score: 0.2457 - loss: 0.0739 - precision: 0.3104 - recall: 0.2119\n",
      "2025-06-20 16:52:23 - INFO - ==================================================\n",
      "\n"
     ]
    },
    {
     "name": "stdout",
     "output_type": "stream",
     "text": [
      "\u001b[1m813/813\u001b[0m \u001b[32m━━━━━━━━━━━━━━━━━━━━\u001b[0m\u001b[37m\u001b[0m \u001b[1m190s\u001b[0m 233ms/step - accuracy: 0.9577 - auc: 0.9630 - f1_score: 0.6721 - loss: 0.0237 - precision: 0.8138 - recall: 0.5942 - val_accuracy: 0.9303 - val_auc: 0.7537 - val_f1_score: 0.2457 - val_loss: 0.0739 - val_precision: 0.3104 - val_recall: 0.2119 - learning_rate: 1.0000e-06\n"
     ]
    },
    {
     "name": "stderr",
     "output_type": "stream",
     "text": [
      "2025-06-20 16:52:23 - INFO - \n",
      "=== Starting Epoch 95 ===\n",
      "\n"
     ]
    },
    {
     "name": "stdout",
     "output_type": "stream",
     "text": [
      "Epoch 95/100\n",
      "\u001b[1m813/813\u001b[0m \u001b[32m━━━━━━━━━━━━━━━━━━━━\u001b[0m\u001b[37m\u001b[0m \u001b[1m0s\u001b[0m 218ms/step - accuracy: 0.9579 - auc: 0.9631 - f1_score: 0.6727 - loss: 0.0236 - precision: 0.8158 - recall: 0.5944  "
     ]
    },
    {
     "name": "stderr",
     "output_type": "stream",
     "text": [
      "2025-06-20 16:55:28 - INFO - \n",
      "=== Epoch 95 Summary ===\n",
      "2025-06-20 16:55:28 - INFO - Time: 185.85s\n",
      "2025-06-20 16:55:28 - INFO - Training   - accuracy: 0.9581 - auc: 0.9635 - f1_score: 0.6740 - loss: 0.0235 - precision: 0.8150 - recall: 0.5965 - learning_rate: 0.0000\n",
      "2025-06-20 16:55:28 - INFO - Validation - accuracy: 0.9317 - auc: 0.7547 - f1_score: 0.2520 - loss: 0.0734 - precision: 0.3255 - recall: 0.2178\n",
      "2025-06-20 16:55:28 - INFO - ==================================================\n",
      "\n"
     ]
    },
    {
     "name": "stdout",
     "output_type": "stream",
     "text": [
      "\u001b[1m813/813\u001b[0m \u001b[32m━━━━━━━━━━━━━━━━━━━━\u001b[0m\u001b[37m\u001b[0m \u001b[1m186s\u001b[0m 229ms/step - accuracy: 0.9579 - auc: 0.9631 - f1_score: 0.6727 - loss: 0.0236 - precision: 0.8158 - recall: 0.5944 - val_accuracy: 0.9317 - val_auc: 0.7547 - val_f1_score: 0.2520 - val_loss: 0.0734 - val_precision: 0.3255 - val_recall: 0.2178 - learning_rate: 1.0000e-06\n"
     ]
    },
    {
     "name": "stderr",
     "output_type": "stream",
     "text": [
      "2025-06-20 16:55:28 - INFO - \n",
      "=== Starting Epoch 96 ===\n",
      "\n"
     ]
    },
    {
     "name": "stdout",
     "output_type": "stream",
     "text": [
      "Epoch 96/100\n",
      "\u001b[1m813/813\u001b[0m \u001b[32m━━━━━━━━━━━━━━━━━━━━\u001b[0m\u001b[37m\u001b[0m \u001b[1m0s\u001b[0m 227ms/step - accuracy: 0.9583 - auc: 0.9639 - f1_score: 0.6790 - loss: 0.0235 - precision: 0.8168 - recall: 0.6016  "
     ]
    },
    {
     "name": "stderr",
     "output_type": "stream",
     "text": [
      "2025-06-20 16:58:42 - INFO - \n",
      "=== Epoch 96 Summary ===\n",
      "2025-06-20 16:58:42 - INFO - Time: 193.21s\n",
      "2025-06-20 16:58:42 - INFO - Training   - accuracy: 0.9584 - auc: 0.9642 - f1_score: 0.6772 - loss: 0.0233 - precision: 0.8163 - recall: 0.5998 - learning_rate: 0.0000\n",
      "2025-06-20 16:58:42 - INFO - Validation - accuracy: 0.9317 - auc: 0.7532 - f1_score: 0.2492 - loss: 0.0739 - precision: 0.3259 - recall: 0.2188\n",
      "2025-06-20 16:58:42 - INFO - ==================================================\n",
      "\n"
     ]
    },
    {
     "name": "stdout",
     "output_type": "stream",
     "text": [
      "\u001b[1m813/813\u001b[0m \u001b[32m━━━━━━━━━━━━━━━━━━━━\u001b[0m\u001b[37m\u001b[0m \u001b[1m193s\u001b[0m 238ms/step - accuracy: 0.9583 - auc: 0.9639 - f1_score: 0.6790 - loss: 0.0235 - precision: 0.8168 - recall: 0.6016 - val_accuracy: 0.9317 - val_auc: 0.7532 - val_f1_score: 0.2492 - val_loss: 0.0739 - val_precision: 0.3259 - val_recall: 0.2188 - learning_rate: 1.0000e-06\n"
     ]
    },
    {
     "name": "stderr",
     "output_type": "stream",
     "text": [
      "2025-06-20 16:58:42 - INFO - \n",
      "=== Starting Epoch 97 ===\n",
      "\n"
     ]
    },
    {
     "name": "stdout",
     "output_type": "stream",
     "text": [
      "Epoch 97/100\n",
      "\u001b[1m813/813\u001b[0m \u001b[32m━━━━━━━━━━━━━━━━━━━━\u001b[0m\u001b[37m\u001b[0m \u001b[1m0s\u001b[0m 228ms/step - accuracy: 0.9578 - auc: 0.9638 - f1_score: 0.6763 - loss: 0.0235 - precision: 0.8156 - recall: 0.5985  "
     ]
    },
    {
     "name": "stderr",
     "output_type": "stream",
     "text": [
      "2025-06-20 17:01:55 - INFO - \n",
      "=== Epoch 97 Summary ===\n",
      "2025-06-20 17:01:55 - INFO - Time: 193.76s\n",
      "2025-06-20 17:01:55 - INFO - Training   - accuracy: 0.9582 - auc: 0.9640 - f1_score: 0.6771 - loss: 0.0234 - precision: 0.8139 - recall: 0.6008 - learning_rate: 0.0000\n",
      "2025-06-20 17:01:55 - INFO - Validation - accuracy: 0.9338 - auc: 0.7537 - f1_score: 0.2355 - loss: 0.0770 - precision: 0.3313 - recall: 0.1924\n",
      "2025-06-20 17:01:55 - INFO - ==================================================\n",
      "\n"
     ]
    },
    {
     "name": "stdout",
     "output_type": "stream",
     "text": [
      "\u001b[1m813/813\u001b[0m \u001b[32m━━━━━━━━━━━━━━━━━━━━\u001b[0m\u001b[37m\u001b[0m \u001b[1m194s\u001b[0m 238ms/step - accuracy: 0.9578 - auc: 0.9638 - f1_score: 0.6763 - loss: 0.0235 - precision: 0.8156 - recall: 0.5985 - val_accuracy: 0.9338 - val_auc: 0.7537 - val_f1_score: 0.2355 - val_loss: 0.0770 - val_precision: 0.3313 - val_recall: 0.1924 - learning_rate: 1.0000e-06\n"
     ]
    },
    {
     "name": "stderr",
     "output_type": "stream",
     "text": [
      "2025-06-20 17:01:55 - INFO - \n",
      "=== Starting Epoch 98 ===\n",
      "\n"
     ]
    },
    {
     "name": "stdout",
     "output_type": "stream",
     "text": [
      "Epoch 98/100\n",
      "\u001b[1m813/813\u001b[0m \u001b[32m━━━━━━━━━━━━━━━━━━━━\u001b[0m\u001b[37m\u001b[0m \u001b[1m0s\u001b[0m 227ms/step - accuracy: 0.9583 - auc: 0.9640 - f1_score: 0.6793 - loss: 0.0234 - precision: 0.8195 - recall: 0.6012  "
     ]
    },
    {
     "name": "stderr",
     "output_type": "stream",
     "text": [
      "2025-06-20 17:05:09 - INFO - \n",
      "=== Epoch 98 Summary ===\n",
      "2025-06-20 17:05:09 - INFO - Time: 193.15s\n",
      "2025-06-20 17:05:09 - INFO - Training   - accuracy: 0.9585 - auc: 0.9639 - f1_score: 0.6789 - loss: 0.0233 - precision: 0.8169 - recall: 0.6019 - learning_rate: 0.0000\n",
      "2025-06-20 17:05:09 - INFO - Validation - accuracy: 0.9315 - auc: 0.7541 - f1_score: 0.2503 - loss: 0.0751 - precision: 0.3247 - recall: 0.2191\n",
      "2025-06-20 17:05:09 - INFO - ==================================================\n",
      "\n"
     ]
    },
    {
     "name": "stdout",
     "output_type": "stream",
     "text": [
      "\u001b[1m813/813\u001b[0m \u001b[32m━━━━━━━━━━━━━━━━━━━━\u001b[0m\u001b[37m\u001b[0m \u001b[1m193s\u001b[0m 238ms/step - accuracy: 0.9583 - auc: 0.9640 - f1_score: 0.6793 - loss: 0.0234 - precision: 0.8195 - recall: 0.6012 - val_accuracy: 0.9315 - val_auc: 0.7541 - val_f1_score: 0.2503 - val_loss: 0.0751 - val_precision: 0.3247 - val_recall: 0.2191 - learning_rate: 1.0000e-06\n"
     ]
    },
    {
     "name": "stderr",
     "output_type": "stream",
     "text": [
      "2025-06-20 17:05:09 - INFO - \n",
      "=== Training Completed! ===\n",
      "\n",
      "2025-06-20 17:05:09 - INFO - Final Metrics: accuracy: 0.9585 - auc: 0.9639 - f1_score: 0.6789 - loss: 0.0233 - precision: 0.8169 - recall: 0.6019 - val_accuracy: 0.9315 - val_auc: 0.7541 - val_f1_score: 0.2503 - val_loss: 0.0751 - val_precision: 0.3247 - val_recall: 0.2191\n",
      "\n"
     ]
    },
    {
     "name": "stdout",
     "output_type": "stream",
     "text": [
      "Epoch 98: early stopping\n",
      "Restoring model weights from the end of the best epoch: 83.\n"
     ]
    }
   ],
   "source": [
    "# Model Training\n",
    "model          = build_densenet121(num_classes, use_se=False, use_eca=True, layer_attention=False, ratio=8, channel_blocks=[0, 1, 2, 3])\n",
    "optimizer      = Adam(learning_rate=1e-4)\n",
    "compile_kwargs = {'optimizer': optimizer, 'loss': loss, 'metrics': metrics}\n",
    "\n",
    "history, model = start_or_resume_training(\n",
    "    model, \n",
    "    compile_kwargs, \n",
    "    train_ds, \n",
    "    val_ds, \n",
    "    TF_MAX_EPOCHS,\n",
    "    steps_per_epoch, \n",
    "    validation_steps, \n",
    "    class_weights=class_weights,\n",
    "    callbacks=[checkpoint, best_checkpoint, reduce_lr, training_logger, metrics_monitor, early_stopping], \n",
    "    checkpoint_path=checkpoint_path,\n",
    "    initial_epoch=initial_epoch,\n",
    "    output_dir=MODELS_PATH,\n",
    "    model_name=model_name,\n",
    "    logger=logger\n",
    ")"
   ]
  },
  {
   "cell_type": "code",
   "execution_count": null,
   "id": "8e3da872-2e64-4fb9-818b-e1e720b65865",
   "metadata": {},
   "outputs": [],
   "source": []
  }
 ],
 "metadata": {
  "kernelspec": {
   "display_name": "Python 3 (ipykernel)",
   "language": "python",
   "name": "python3"
  },
  "language_info": {
   "codemirror_mode": {
    "name": "ipython",
    "version": 3
   },
   "file_extension": ".py",
   "mimetype": "text/x-python",
   "name": "python",
   "nbconvert_exporter": "python",
   "pygments_lexer": "ipython3",
   "version": "3.10.16"
  }
 },
 "nbformat": 4,
 "nbformat_minor": 5
}
