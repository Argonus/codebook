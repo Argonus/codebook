{
 "cells": [
  {
   "cell_type": "code",
   "execution_count": 1,
   "id": "b694919a-9b18-4068-8e69-7258de889dff",
   "metadata": {},
   "outputs": [
    {
     "name": "stderr",
     "output_type": "stream",
     "text": [
      "2025-06-21 11:40:27.390293: E external/local_xla/xla/stream_executor/cuda/cuda_fft.cc:467] Unable to register cuFFT factory: Attempting to register factory for plugin cuFFT when one has already been registered\n",
      "WARNING: All log messages before absl::InitializeLog() is called are written to STDERR\n",
      "E0000 00:00:1750498827.469792    3592 cuda_dnn.cc:8579] Unable to register cuDNN factory: Attempting to register factory for plugin cuDNN when one has already been registered\n",
      "E0000 00:00:1750498827.493575    3592 cuda_blas.cc:1407] Unable to register cuBLAS factory: Attempting to register factory for plugin cuBLAS when one has already been registered\n",
      "W0000 00:00:1750498827.681145    3592 computation_placer.cc:177] computation placer already registered. Please check linkage and avoid linking the same target more than once.\n",
      "W0000 00:00:1750498827.681156    3592 computation_placer.cc:177] computation placer already registered. Please check linkage and avoid linking the same target more than once.\n",
      "W0000 00:00:1750498827.681157    3592 computation_placer.cc:177] computation placer already registered. Please check linkage and avoid linking the same target more than once.\n",
      "W0000 00:00:1750498827.681158    3592 computation_placer.cc:177] computation placer already registered. Please check linkage and avoid linking the same target more than once.\n"
     ]
    },
    {
     "name": "stdout",
     "output_type": "stream",
     "text": [
      "\n",
      "GPU configuration successful!\n",
      "Device: /physical_device:GPU:0\n",
      "Memory limit: 18.0 GB\n",
      "\n",
      "TensorFlow optimizations status:\n",
      "- CPU Threads: 16 intra-op, 9 inter-op (32 cores total)\n",
      "- XLA JIT: enabled (autoclustering)\n",
      "- Synchronous Execution: enabled\n",
      "\n",
      "GPU Device Details:\n",
      "- Device: GPU /physical_device:GPU:0\n",
      "- Memory limit: 18.0 GB\n"
     ]
    },
    {
     "name": "stderr",
     "output_type": "stream",
     "text": [
      "I0000 00:00:1750498831.035104    3592 gpu_process_state.cc:208] Using CUDA malloc Async allocator for GPU: 0\n",
      "I0000 00:00:1750498831.035857    3592 gpu_device.cc:2019] Created device /job:localhost/replica:0/task:0/device:GPU:0 with 19327352832 MB memory:  -> device: 0, name: NVIDIA GeForce RTX 3090 Ti, pci bus id: 0000:01:00.0, compute capability: 8.6\n"
     ]
    }
   ],
   "source": [
    "# Import dependencies\n",
    "import os\n",
    "16\n",
    "os.environ['TF_CPP_MIN_VLOG_LEVEL'] = '0'\n",
    "os.environ['TF_CPP_MIN_LOG_LEVEL'] = '2'\n",
    "os.environ['TF_GPU_ALLOCATOR'] = 'cuda_malloc_async'\n",
    "os.environ['TF_FORCE_GPU_ALLOW_GROWTH'] = 'true'\n",
    "\n",
    "from src.utils.gpu_config import configure_gpu, optimize_tensorflow\n",
    "\n",
    "configure_gpu()\n",
    "optimize_tensorflow()"
   ]
  },
  {
   "cell_type": "code",
   "execution_count": 2,
   "id": "2b854daf-5f2a-4c33-9180-5081cd415b16",
   "metadata": {},
   "outputs": [],
   "source": [
    "# Import Tensorflow Keras\n",
    "from tensorflow.keras.optimizers import Adam\n",
    "from tensorflow.keras.losses import BinaryFocalCrossentropy\n",
    "from tensorflow.keras.callbacks import ReduceLROnPlateau, ModelCheckpoint\n",
    "\n",
    "# Import local modules\n",
    "from src.utils.consts import TF_RECORD_DATASET, MODELS_PATH, TF_BUFFER_SIZE, TF_SHUFFLE_SIZE, TF_BATCH_SIZE, TF_MAX_EPOCHS\n",
    "from src.model.tensorflow_utils import load_dataset, optimize_dataset, count_dataset_size, get_num_classes, get_metrics\n",
    "from src.model.tensorflow_utils import setup_logger, setup_training_logger, setup_metrics_monitor, setup_early_stopping, filter_no_finding_class\n",
    "from src.model.tensorflow_utils import start_or_resume_training, apply_augmentation_to_dataset, calculate_class_weights, oversample_minority_classes\n",
    "from src.model.densnet.tensorflow_dense_net_121 import build_densenet121\n",
    "\n",
    "# Input Data\n",
    "initial_epoch   = 43\n",
    "resume_training = True\n",
    "checkpoint_path = '/home/piotr/Pulpit/codebook/studies/bachelor-thesis/models/DenseNetV6_4/checkpoints/cp-0042.keras'\n",
    "set_name        = \"DenseNetV6\"\n",
    "model_name      = f\"{set_name}_4\"\n",
    "num_classes     = get_num_classes()\n",
    "\n",
    "train_ds = load_dataset(f\"{TF_RECORD_DATASET}/train.tfrecord\", TF_BUFFER_SIZE)\n",
    "val_ds   = load_dataset(f\"{TF_RECORD_DATASET}/val.tfrecord\", TF_BUFFER_SIZE)\n",
    "\n",
    "train_ds = filter_no_finding_class(train_ds)\n",
    "val_ds   = filter_no_finding_class(val_ds)\n",
    "\n",
    "class_weights = calculate_class_weights(train_ds, num_classes)\n",
    "train_ds      = oversample_minority_classes(train_ds, class_weights)\n",
    "class_weights = calculate_class_weights(train_ds, num_classes)"
   ]
  },
  {
   "cell_type": "code",
   "execution_count": 3,
   "id": "5f152b8a-8ff8-4095-9815-e304ce2beb52",
   "metadata": {},
   "outputs": [
    {
     "name": "stderr",
     "output_type": "stream",
     "text": [
      "Counting samples: 104166 samples [00:34, 2998.89 samples/s] \n",
      "Counting samples: 15431 samples [00:08, 1737.78 samples/s]\n"
     ]
    }
   ],
   "source": [
    "steps_per_epoch  = int(count_dataset_size(train_ds, None) / TF_BATCH_SIZE)\n",
    "validation_steps = int(count_dataset_size(val_ds, None) / TF_BATCH_SIZE)\n",
    "\n",
    "# Disable Advanced Augmentations\n",
    "probability = {\n",
    "    \"intensity_scaling\": 0,\n",
    "    \"adaptive_histogram\": 0,\n",
    "    \"zoom\": 0,\n",
    "    \"cutout\": 0\n",
    "}\n",
    "\n",
    "train_ds = train_ds.shuffle(TF_SHUFFLE_SIZE, reshuffle_each_iteration=True)\n",
    "train_ds = apply_augmentation_to_dataset(train_ds, probability)\n",
    "train_ds = optimize_dataset(train_ds, TF_BATCH_SIZE)\n",
    "\n",
    "val_ds   = optimize_dataset(val_ds, TF_BATCH_SIZE)"
   ]
  },
  {
   "cell_type": "code",
   "execution_count": 4,
   "id": "3a0e37c9-b178-40d8-bd25-8c0a6498564a",
   "metadata": {},
   "outputs": [
    {
     "name": "stderr",
     "output_type": "stream",
     "text": [
      "2025-06-21 11:42:31 - INFO - Resuming from existing metrics file: /home/piotr/Pulpit/codebook/studies/bachelor-thesis/models/DenseNetV6_4/train_metrics.csv\n",
      "2025-06-21 11:42:31 - INFO - Resuming from existing validation metrics file: /home/piotr/Pulpit/codebook/studies/bachelor-thesis/models/DenseNetV6_4/val_metrics.csv\n",
      "2025-06-21 11:42:31 - INFO - Cleaned training metrics file, kept 34146 records before epoch 43\n",
      "2025-06-21 11:42:31 - INFO - Cleaned validation metrics file, kept 42 records before epoch 43\n",
      "2025-06-21 11:42:31 - INFO - Found 34146 existing training records\n",
      "2025-06-21 11:42:31 - INFO - Found 42 existing validation records\n"
     ]
    }
   ],
   "source": [
    "# Setup Model Deps\n",
    "logger            = setup_logger()\n",
    "training_logger   = setup_training_logger(logger, TF_BATCH_SIZE, 100)\n",
    "metrics_monitor   = setup_metrics_monitor(MODELS_PATH, model_name, logger, resume_training=resume_training, initial_epoch=initial_epoch)\n",
    "metrics           = get_metrics()\n",
    "\n",
    "# Setup compile arguments\n",
    "loss           = BinaryFocalCrossentropy(gamma=2.0, from_logits=False, label_smoothing=0.05)\n",
    "reduce_lr      = ReduceLROnPlateau(monitor=\"val_f1_score\", factor=0.5,  patience=3, min_lr=1e-6, mode=\"max\", verbose=1)\n",
    "early_stopping = setup_early_stopping()\n",
    "\n",
    "epoch_mode           = 'cp-{epoch:04d}'\n",
    "save_checkpoint_path = f\"{MODELS_PATH}/{model_name}/checkpoints/{epoch_mode}.keras\"\n",
    "checkpoint           = ModelCheckpoint(save_checkpoint_path, monitor=\"val_f1_score\", save_best_only=False, mode=\"max\", save_weights_only=False)\n",
    "\n",
    "model_path      = f\"{MODELS_PATH}/{model_name}.keras\"\n",
    "best_checkpoint = ModelCheckpoint(model_path, monitor=\"val_f1_score\", save_best_only=True, mode=\"max\", save_weights_only=False)"
   ]
  },
  {
   "cell_type": "code",
   "execution_count": 5,
   "id": "c44d4a9a-ffbb-4917-a702-c35773b9857c",
   "metadata": {},
   "outputs": [
    {
     "name": "stderr",
     "output_type": "stream",
     "text": [
      "2025-06-21 11:42:32 - INFO - Resuming training from checkpoint: /home/piotr/Pulpit/codebook/studies/bachelor-thesis/models/DenseNetV6_4/checkpoints/cp-0042.keras\n",
      "2025-06-21 11:42:33 - INFO - Resuming from existing metrics file: /home/piotr/Pulpit/codebook/studies/bachelor-thesis/models/DenseNetV6_4/train_metrics.csv\n",
      "2025-06-21 11:42:33 - INFO - Resuming from existing validation metrics file: /home/piotr/Pulpit/codebook/studies/bachelor-thesis/models/DenseNetV6_4/val_metrics.csv\n",
      "2025-06-21 11:42:33 - INFO - Cleaned training metrics file, kept 34146 records before epoch 43\n",
      "2025-06-21 11:42:33 - INFO - Cleaned validation metrics file, kept 42 records before epoch 43\n",
      "2025-06-21 11:42:33 - INFO - Found 34146 existing training records\n",
      "2025-06-21 11:42:33 - INFO - Found 42 existing validation records\n",
      "2025-06-21 11:42:33 - INFO - \n",
      "=== Training Started ===\n",
      "\n",
      "2025-06-21 11:42:33 - INFO - Batch Size: 128\n",
      "2025-06-21 11:42:33 - INFO - Optimizer: Adam\n",
      "2025-06-21 11:42:33 - INFO - \n",
      "==================================================\n",
      "\n",
      "2025-06-21 11:42:33 - INFO - \n",
      "=== Starting Epoch 43 ===\n",
      "\n"
     ]
    },
    {
     "name": "stdout",
     "output_type": "stream",
     "text": [
      "Epoch 43/100\n"
     ]
    },
    {
     "name": "stderr",
     "output_type": "stream",
     "text": [
      "WARNING: All log messages before absl::InitializeLog() is called are written to STDERR\n",
      "I0000 00:00:1750498973.997300    4238 service.cc:152] XLA service 0x72ee4c006920 initialized for platform CUDA (this does not guarantee that XLA will be used). Devices:\n",
      "I0000 00:00:1750498973.997467    4238 service.cc:160]   StreamExecutor device (0): NVIDIA GeForce RTX 3090 Ti, Compute Capability 8.6\n",
      "I0000 00:00:1750498979.404756    4238 cuda_dnn.cc:529] Loaded cuDNN version 90300\n",
      "I0000 00:00:1750499041.417353    4238 device_compiler.h:188] Compiled cluster using XLA!  This line is logged at most once for the lifetime of the process.\n"
     ]
    },
    {
     "name": "stdout",
     "output_type": "stream",
     "text": [
      "\u001b[1m813/813\u001b[0m \u001b[32m━━━━━━━━━━━━━━━━━━━━\u001b[0m\u001b[37m\u001b[0m \u001b[1m0s\u001b[0m 218ms/step - accuracy: 0.9442 - auc: 0.9332 - f1_score: 0.5310 - loss: 0.0349 - precision: 0.7342 - recall: 0.4495  "
     ]
    },
    {
     "name": "stderr",
     "output_type": "stream",
     "text": [
      "2025-06-21 11:47:18 - INFO - \n",
      "=== Epoch 43 Summary ===\n",
      "2025-06-21 11:47:18 - INFO - Time: 284.61s\n",
      "2025-06-21 11:47:18 - INFO - Training   - accuracy: 0.9450 - auc: 0.9348 - f1_score: 0.5366 - loss: 0.0345 - precision: 0.7371 - recall: 0.4559 - learning_rate: 0.0000\n",
      "2025-06-21 11:47:18 - INFO - Validation - accuracy: 0.9318 - auc: 0.7617 - f1_score: 0.2270 - loss: 0.0741 - precision: 0.3161 - recall: 0.1987\n",
      "2025-06-21 11:47:18 - INFO - ==================================================\n",
      "\n"
     ]
    },
    {
     "name": "stdout",
     "output_type": "stream",
     "text": [
      "\u001b[1m813/813\u001b[0m \u001b[32m━━━━━━━━━━━━━━━━━━━━\u001b[0m\u001b[37m\u001b[0m \u001b[1m285s\u001b[0m 242ms/step - accuracy: 0.9442 - auc: 0.9332 - f1_score: 0.5310 - loss: 0.0349 - precision: 0.7342 - recall: 0.4495 - val_accuracy: 0.9318 - val_auc: 0.7617 - val_f1_score: 0.2270 - val_loss: 0.0741 - val_precision: 0.3161 - val_recall: 0.1987 - learning_rate: 1.5625e-06\n"
     ]
    },
    {
     "name": "stderr",
     "output_type": "stream",
     "text": [
      "2025-06-21 11:47:18 - INFO - \n",
      "=== Starting Epoch 44 ===\n",
      "\n"
     ]
    },
    {
     "name": "stdout",
     "output_type": "stream",
     "text": [
      "Epoch 44/100\n",
      "\u001b[1m813/813\u001b[0m \u001b[32m━━━━━━━━━━━━━━━━━━━━\u001b[0m\u001b[37m\u001b[0m \u001b[1m0s\u001b[0m 219ms/step - accuracy: 0.9446 - auc: 0.9344 - f1_score: 0.5380 - loss: 0.0347 - precision: 0.7358 - recall: 0.4572  "
     ]
    },
    {
     "name": "stderr",
     "output_type": "stream",
     "text": [
      "2025-06-21 11:51:31 - INFO - \n",
      "=== Epoch 44 Summary ===\n",
      "2025-06-21 11:51:31 - INFO - Time: 253.39s\n",
      "2025-06-21 11:51:31 - INFO - Training   - accuracy: 0.9452 - auc: 0.9357 - f1_score: 0.5410 - loss: 0.0343 - precision: 0.7355 - recall: 0.4613 - learning_rate: 0.0000\n",
      "2025-06-21 11:51:31 - INFO - Validation - accuracy: 0.9315 - auc: 0.7606 - f1_score: 0.2263 - loss: 0.0752 - precision: 0.3112 - recall: 0.1957\n",
      "2025-06-21 11:51:31 - INFO - ==================================================\n",
      "\n"
     ]
    },
    {
     "name": "stdout",
     "output_type": "stream",
     "text": [
      "\u001b[1m813/813\u001b[0m \u001b[32m━━━━━━━━━━━━━━━━━━━━\u001b[0m\u001b[37m\u001b[0m \u001b[1m253s\u001b[0m 237ms/step - accuracy: 0.9446 - auc: 0.9344 - f1_score: 0.5380 - loss: 0.0347 - precision: 0.7358 - recall: 0.4572 - val_accuracy: 0.9315 - val_auc: 0.7606 - val_f1_score: 0.2263 - val_loss: 0.0752 - val_precision: 0.3112 - val_recall: 0.1957 - learning_rate: 1.5625e-06\n"
     ]
    },
    {
     "name": "stderr",
     "output_type": "stream",
     "text": [
      "2025-06-21 11:51:31 - INFO - \n",
      "=== Starting Epoch 45 ===\n",
      "\n"
     ]
    },
    {
     "name": "stdout",
     "output_type": "stream",
     "text": [
      "Epoch 45/100\n",
      "\u001b[1m813/813\u001b[0m \u001b[32m━━━━━━━━━━━━━━━━━━━━\u001b[0m\u001b[37m\u001b[0m \u001b[1m0s\u001b[0m 223ms/step - accuracy: 0.9449 - auc: 0.9351 - f1_score: 0.5404 - loss: 0.0347 - precision: 0.7370 - recall: 0.4596  "
     ]
    },
    {
     "name": "stderr",
     "output_type": "stream",
     "text": [
      "2025-06-21 11:54:46 - INFO - \n",
      "=== Epoch 45 Summary ===\n",
      "2025-06-21 11:54:46 - INFO - Time: 194.72s\n",
      "2025-06-21 11:54:46 - INFO - Training   - accuracy: 0.9454 - auc: 0.9364 - f1_score: 0.5417 - loss: 0.0343 - precision: 0.7385 - recall: 0.4611 - learning_rate: 0.0000\n",
      "2025-06-21 11:54:46 - INFO - Validation - accuracy: 0.9318 - auc: 0.7607 - f1_score: 0.2270 - loss: 0.0746 - precision: 0.3155 - recall: 0.1971\n",
      "2025-06-21 11:54:46 - INFO - ==================================================\n",
      "\n"
     ]
    },
    {
     "name": "stdout",
     "output_type": "stream",
     "text": [
      "\u001b[1m813/813\u001b[0m \u001b[32m━━━━━━━━━━━━━━━━━━━━\u001b[0m\u001b[37m\u001b[0m \u001b[1m195s\u001b[0m 240ms/step - accuracy: 0.9449 - auc: 0.9351 - f1_score: 0.5404 - loss: 0.0347 - precision: 0.7370 - recall: 0.4596 - val_accuracy: 0.9318 - val_auc: 0.7607 - val_f1_score: 0.2270 - val_loss: 0.0746 - val_precision: 0.3155 - val_recall: 0.1971 - learning_rate: 1.5625e-06\n"
     ]
    },
    {
     "name": "stderr",
     "output_type": "stream",
     "text": [
      "2025-06-21 11:54:46 - INFO - \n",
      "=== Starting Epoch 46 ===\n",
      "\n"
     ]
    },
    {
     "name": "stdout",
     "output_type": "stream",
     "text": [
      "Epoch 46/100\n",
      "\u001b[1m813/813\u001b[0m \u001b[32m━━━━━━━━━━━━━━━━━━━━\u001b[0m\u001b[37m\u001b[0m \u001b[1m0s\u001b[0m 223ms/step - accuracy: 0.9450 - auc: 0.9350 - f1_score: 0.5417 - loss: 0.0346 - precision: 0.7376 - recall: 0.4615  \n",
      "Epoch 46: ReduceLROnPlateau reducing learning rate to 1e-06.\n"
     ]
    },
    {
     "name": "stderr",
     "output_type": "stream",
     "text": [
      "2025-06-21 11:58:00 - INFO - \n",
      "=== Epoch 46 Summary ===\n",
      "2025-06-21 11:58:00 - INFO - Time: 194.04s\n",
      "2025-06-21 11:58:00 - INFO - Training   - accuracy: 0.9456 - auc: 0.9368 - f1_score: 0.5458 - loss: 0.0342 - precision: 0.7392 - recall: 0.4657 - learning_rate: 0.0000\n",
      "2025-06-21 11:58:00 - INFO - Validation - accuracy: 0.9324 - auc: 0.7587 - f1_score: 0.2200 - loss: 0.0748 - precision: 0.3177 - recall: 0.1922\n",
      "2025-06-21 11:58:00 - INFO - ==================================================\n",
      "\n"
     ]
    },
    {
     "name": "stdout",
     "output_type": "stream",
     "text": [
      "\u001b[1m813/813\u001b[0m \u001b[32m━━━━━━━━━━━━━━━━━━━━\u001b[0m\u001b[37m\u001b[0m \u001b[1m194s\u001b[0m 239ms/step - accuracy: 0.9450 - auc: 0.9350 - f1_score: 0.5417 - loss: 0.0346 - precision: 0.7376 - recall: 0.4615 - val_accuracy: 0.9324 - val_auc: 0.7587 - val_f1_score: 0.2200 - val_loss: 0.0748 - val_precision: 0.3177 - val_recall: 0.1922 - learning_rate: 1.5625e-06\n"
     ]
    },
    {
     "name": "stderr",
     "output_type": "stream",
     "text": [
      "2025-06-21 11:58:00 - INFO - \n",
      "=== Starting Epoch 47 ===\n",
      "\n"
     ]
    },
    {
     "name": "stdout",
     "output_type": "stream",
     "text": [
      "Epoch 47/100\n",
      "\u001b[1m813/813\u001b[0m \u001b[32m━━━━━━━━━━━━━━━━━━━━\u001b[0m\u001b[37m\u001b[0m \u001b[1m0s\u001b[0m 224ms/step - accuracy: 0.9449 - auc: 0.9353 - f1_score: 0.5420 - loss: 0.0344 - precision: 0.7355 - recall: 0.4614  "
     ]
    },
    {
     "name": "stderr",
     "output_type": "stream",
     "text": [
      "2025-06-21 12:01:17 - INFO - \n",
      "=== Epoch 47 Summary ===\n",
      "2025-06-21 12:01:17 - INFO - Time: 197.02s\n",
      "2025-06-21 12:01:17 - INFO - Training   - accuracy: 0.9458 - auc: 0.9375 - f1_score: 0.5485 - loss: 0.0340 - precision: 0.7402 - recall: 0.4683 - learning_rate: 0.0000\n",
      "2025-06-21 12:01:17 - INFO - Validation - accuracy: 0.9325 - auc: 0.7614 - f1_score: 0.2231 - loss: 0.0742 - precision: 0.3168 - recall: 0.1893\n",
      "2025-06-21 12:01:17 - INFO - ==================================================\n",
      "\n"
     ]
    },
    {
     "name": "stdout",
     "output_type": "stream",
     "text": [
      "\u001b[1m813/813\u001b[0m \u001b[32m━━━━━━━━━━━━━━━━━━━━\u001b[0m\u001b[37m\u001b[0m \u001b[1m197s\u001b[0m 242ms/step - accuracy: 0.9449 - auc: 0.9353 - f1_score: 0.5420 - loss: 0.0344 - precision: 0.7355 - recall: 0.4614 - val_accuracy: 0.9325 - val_auc: 0.7614 - val_f1_score: 0.2231 - val_loss: 0.0742 - val_precision: 0.3168 - val_recall: 0.1893 - learning_rate: 1.0000e-06\n"
     ]
    },
    {
     "name": "stderr",
     "output_type": "stream",
     "text": [
      "2025-06-21 12:01:17 - INFO - \n",
      "=== Starting Epoch 48 ===\n",
      "\n"
     ]
    },
    {
     "name": "stdout",
     "output_type": "stream",
     "text": [
      "Epoch 48/100\n",
      "\u001b[1m813/813\u001b[0m \u001b[32m━━━━━━━━━━━━━━━━━━━━\u001b[0m\u001b[37m\u001b[0m \u001b[1m0s\u001b[0m 221ms/step - accuracy: 0.9458 - auc: 0.9371 - f1_score: 0.5495 - loss: 0.0340 - precision: 0.7433 - recall: 0.4686  "
     ]
    },
    {
     "name": "stderr",
     "output_type": "stream",
     "text": [
      "2025-06-21 12:04:31 - INFO - \n",
      "=== Epoch 48 Summary ===\n",
      "2025-06-21 12:04:31 - INFO - Time: 193.24s\n",
      "2025-06-21 12:04:31 - INFO - Training   - accuracy: 0.9464 - auc: 0.9383 - f1_score: 0.5531 - loss: 0.0338 - precision: 0.7450 - recall: 0.4724 - learning_rate: 0.0000\n",
      "2025-06-21 12:04:31 - INFO - Validation - accuracy: 0.9326 - auc: 0.7602 - f1_score: 0.2242 - loss: 0.0745 - precision: 0.3203 - recall: 0.1935\n",
      "2025-06-21 12:04:31 - INFO - ==================================================\n",
      "\n"
     ]
    },
    {
     "name": "stdout",
     "output_type": "stream",
     "text": [
      "\u001b[1m813/813\u001b[0m \u001b[32m━━━━━━━━━━━━━━━━━━━━\u001b[0m\u001b[37m\u001b[0m \u001b[1m193s\u001b[0m 238ms/step - accuracy: 0.9458 - auc: 0.9371 - f1_score: 0.5495 - loss: 0.0340 - precision: 0.7433 - recall: 0.4686 - val_accuracy: 0.9326 - val_auc: 0.7602 - val_f1_score: 0.2242 - val_loss: 0.0745 - val_precision: 0.3203 - val_recall: 0.1935 - learning_rate: 1.0000e-06\n"
     ]
    },
    {
     "name": "stderr",
     "output_type": "stream",
     "text": [
      "2025-06-21 12:04:31 - INFO - \n",
      "=== Starting Epoch 49 ===\n",
      "\n"
     ]
    },
    {
     "name": "stdout",
     "output_type": "stream",
     "text": [
      "Epoch 49/100\n",
      "\u001b[1m813/813\u001b[0m \u001b[32m━━━━━━━━━━━━━━━━━━━━\u001b[0m\u001b[37m\u001b[0m \u001b[1m0s\u001b[0m 227ms/step - accuracy: 0.9460 - auc: 0.9389 - f1_score: 0.5507 - loss: 0.0339 - precision: 0.7443 - recall: 0.4703  "
     ]
    },
    {
     "name": "stderr",
     "output_type": "stream",
     "text": [
      "2025-06-21 12:07:55 - INFO - \n",
      "=== Epoch 49 Summary ===\n",
      "2025-06-21 12:07:55 - INFO - Time: 204.48s\n",
      "2025-06-21 12:07:55 - INFO - Training   - accuracy: 0.9465 - auc: 0.9395 - f1_score: 0.5547 - loss: 0.0336 - precision: 0.7450 - recall: 0.4744 - learning_rate: 0.0000\n",
      "2025-06-21 12:07:55 - INFO - Validation - accuracy: 0.9317 - auc: 0.7591 - f1_score: 0.2274 - loss: 0.0752 - precision: 0.3127 - recall: 0.1944\n",
      "2025-06-21 12:07:55 - INFO - ==================================================\n",
      "\n"
     ]
    },
    {
     "name": "stdout",
     "output_type": "stream",
     "text": [
      "\u001b[1m813/813\u001b[0m \u001b[32m━━━━━━━━━━━━━━━━━━━━\u001b[0m\u001b[37m\u001b[0m \u001b[1m204s\u001b[0m 252ms/step - accuracy: 0.9460 - auc: 0.9389 - f1_score: 0.5507 - loss: 0.0339 - precision: 0.7443 - recall: 0.4703 - val_accuracy: 0.9317 - val_auc: 0.7591 - val_f1_score: 0.2274 - val_loss: 0.0752 - val_precision: 0.3127 - val_recall: 0.1944 - learning_rate: 1.0000e-06\n"
     ]
    },
    {
     "name": "stderr",
     "output_type": "stream",
     "text": [
      "2025-06-21 12:07:55 - INFO - \n",
      "=== Starting Epoch 50 ===\n",
      "\n"
     ]
    },
    {
     "name": "stdout",
     "output_type": "stream",
     "text": [
      "Epoch 50/100\n",
      "\u001b[1m813/813\u001b[0m \u001b[32m━━━━━━━━━━━━━━━━━━━━\u001b[0m\u001b[37m\u001b[0m \u001b[1m0s\u001b[0m 217ms/step - accuracy: 0.9461 - auc: 0.9385 - f1_score: 0.5561 - loss: 0.0338 - precision: 0.7461 - recall: 0.4750  "
     ]
    },
    {
     "name": "stderr",
     "output_type": "stream",
     "text": [
      "2025-06-21 12:11:11 - INFO - \n",
      "=== Epoch 50 Summary ===\n",
      "2025-06-21 12:11:11 - INFO - Time: 195.58s\n",
      "2025-06-21 12:11:11 - INFO - Training   - accuracy: 0.9466 - auc: 0.9398 - f1_score: 0.5573 - loss: 0.0335 - precision: 0.7444 - recall: 0.4774 - learning_rate: 0.0000\n",
      "2025-06-21 12:11:11 - INFO - Validation - accuracy: 0.9313 - auc: 0.7593 - f1_score: 0.2270 - loss: 0.0757 - precision: 0.3080 - recall: 0.1929\n",
      "2025-06-21 12:11:11 - INFO - ==================================================\n",
      "\n"
     ]
    },
    {
     "name": "stdout",
     "output_type": "stream",
     "text": [
      "\u001b[1m813/813\u001b[0m \u001b[32m━━━━━━━━━━━━━━━━━━━━\u001b[0m\u001b[37m\u001b[0m \u001b[1m196s\u001b[0m 241ms/step - accuracy: 0.9461 - auc: 0.9385 - f1_score: 0.5561 - loss: 0.0338 - precision: 0.7461 - recall: 0.4750 - val_accuracy: 0.9313 - val_auc: 0.7593 - val_f1_score: 0.2270 - val_loss: 0.0757 - val_precision: 0.3080 - val_recall: 0.1929 - learning_rate: 1.0000e-06\n"
     ]
    },
    {
     "name": "stderr",
     "output_type": "stream",
     "text": [
      "2025-06-21 12:11:11 - INFO - \n",
      "=== Starting Epoch 51 ===\n",
      "\n"
     ]
    },
    {
     "name": "stdout",
     "output_type": "stream",
     "text": [
      "Epoch 51/100\n",
      "\u001b[1m813/813\u001b[0m \u001b[32m━━━━━━━━━━━━━━━━━━━━\u001b[0m\u001b[37m\u001b[0m \u001b[1m0s\u001b[0m 217ms/step - accuracy: 0.9461 - auc: 0.9380 - f1_score: 0.5557 - loss: 0.0339 - precision: 0.7465 - recall: 0.4746  "
     ]
    },
    {
     "name": "stderr",
     "output_type": "stream",
     "text": [
      "2025-06-21 12:14:28 - INFO - \n",
      "=== Epoch 51 Summary ===\n",
      "2025-06-21 12:14:28 - INFO - Time: 196.95s\n",
      "2025-06-21 12:14:28 - INFO - Training   - accuracy: 0.9470 - auc: 0.9400 - f1_score: 0.5604 - loss: 0.0334 - precision: 0.7488 - recall: 0.4798 - learning_rate: 0.0000\n",
      "2025-06-21 12:14:28 - INFO - Validation - accuracy: 0.9327 - auc: 0.7593 - f1_score: 0.2257 - loss: 0.0750 - precision: 0.3207 - recall: 0.1925\n",
      "2025-06-21 12:14:28 - INFO - ==================================================\n",
      "\n"
     ]
    },
    {
     "name": "stdout",
     "output_type": "stream",
     "text": [
      "\u001b[1m813/813\u001b[0m \u001b[32m━━━━━━━━━━━━━━━━━━━━\u001b[0m\u001b[37m\u001b[0m \u001b[1m197s\u001b[0m 242ms/step - accuracy: 0.9461 - auc: 0.9380 - f1_score: 0.5557 - loss: 0.0339 - precision: 0.7465 - recall: 0.4746 - val_accuracy: 0.9327 - val_auc: 0.7593 - val_f1_score: 0.2257 - val_loss: 0.0750 - val_precision: 0.3207 - val_recall: 0.1925 - learning_rate: 1.0000e-06\n"
     ]
    },
    {
     "name": "stderr",
     "output_type": "stream",
     "text": [
      "2025-06-21 12:14:28 - INFO - \n",
      "=== Starting Epoch 52 ===\n",
      "\n"
     ]
    },
    {
     "name": "stdout",
     "output_type": "stream",
     "text": [
      "Epoch 52/100\n",
      "\u001b[1m813/813\u001b[0m \u001b[32m━━━━━━━━━━━━━━━━━━━━\u001b[0m\u001b[37m\u001b[0m \u001b[1m0s\u001b[0m 217ms/step - accuracy: 0.9468 - auc: 0.9397 - f1_score: 0.5608 - loss: 0.0336 - precision: 0.7481 - recall: 0.4803  "
     ]
    },
    {
     "name": "stderr",
     "output_type": "stream",
     "text": [
      "2025-06-21 12:17:41 - INFO - \n",
      "=== Epoch 52 Summary ===\n",
      "2025-06-21 12:17:41 - INFO - Time: 193.87s\n",
      "2025-06-21 12:17:41 - INFO - Training   - accuracy: 0.9471 - auc: 0.9406 - f1_score: 0.5619 - loss: 0.0334 - precision: 0.7483 - recall: 0.4817 - learning_rate: 0.0000\n",
      "2025-06-21 12:17:41 - INFO - Validation - accuracy: 0.9316 - auc: 0.7592 - f1_score: 0.2341 - loss: 0.0751 - precision: 0.3152 - recall: 0.2008\n",
      "2025-06-21 12:17:41 - INFO - ==================================================\n",
      "\n"
     ]
    },
    {
     "name": "stdout",
     "output_type": "stream",
     "text": [
      "\u001b[1m813/813\u001b[0m \u001b[32m━━━━━━━━━━━━━━━━━━━━\u001b[0m\u001b[37m\u001b[0m \u001b[1m194s\u001b[0m 239ms/step - accuracy: 0.9468 - auc: 0.9397 - f1_score: 0.5608 - loss: 0.0336 - precision: 0.7481 - recall: 0.4803 - val_accuracy: 0.9316 - val_auc: 0.7592 - val_f1_score: 0.2341 - val_loss: 0.0751 - val_precision: 0.3152 - val_recall: 0.2008 - learning_rate: 1.0000e-06\n"
     ]
    },
    {
     "name": "stderr",
     "output_type": "stream",
     "text": [
      "2025-06-21 12:17:42 - INFO - \n",
      "=== Starting Epoch 53 ===\n",
      "\n"
     ]
    },
    {
     "name": "stdout",
     "output_type": "stream",
     "text": [
      "Epoch 53/100\n",
      "\u001b[1m813/813\u001b[0m \u001b[32m━━━━━━━━━━━━━━━━━━━━\u001b[0m\u001b[37m\u001b[0m \u001b[1m0s\u001b[0m 221ms/step - accuracy: 0.9464 - auc: 0.9398 - f1_score: 0.5594 - loss: 0.0336 - precision: 0.7462 - recall: 0.4786  "
     ]
    },
    {
     "name": "stderr",
     "output_type": "stream",
     "text": [
      "2025-06-21 12:21:07 - INFO - \n",
      "=== Epoch 53 Summary ===\n",
      "2025-06-21 12:21:07 - INFO - Time: 205.02s\n",
      "2025-06-21 12:21:07 - INFO - Training   - accuracy: 0.9470 - auc: 0.9411 - f1_score: 0.5621 - loss: 0.0332 - precision: 0.7470 - recall: 0.4820 - learning_rate: 0.0000\n",
      "2025-06-21 12:21:07 - INFO - Validation - accuracy: 0.9304 - auc: 0.7598 - f1_score: 0.2349 - loss: 0.0759 - precision: 0.3065 - recall: 0.2032\n",
      "2025-06-21 12:21:07 - INFO - ==================================================\n",
      "\n"
     ]
    },
    {
     "name": "stdout",
     "output_type": "stream",
     "text": [
      "\u001b[1m813/813\u001b[0m \u001b[32m━━━━━━━━━━━━━━━━━━━━\u001b[0m\u001b[37m\u001b[0m \u001b[1m205s\u001b[0m 252ms/step - accuracy: 0.9464 - auc: 0.9398 - f1_score: 0.5594 - loss: 0.0336 - precision: 0.7462 - recall: 0.4786 - val_accuracy: 0.9304 - val_auc: 0.7598 - val_f1_score: 0.2349 - val_loss: 0.0759 - val_precision: 0.3065 - val_recall: 0.2032 - learning_rate: 1.0000e-06\n"
     ]
    },
    {
     "name": "stderr",
     "output_type": "stream",
     "text": [
      "2025-06-21 12:21:07 - INFO - \n",
      "=== Starting Epoch 54 ===\n",
      "\n"
     ]
    },
    {
     "name": "stdout",
     "output_type": "stream",
     "text": [
      "Epoch 54/100\n",
      "\u001b[1m813/813\u001b[0m \u001b[32m━━━━━━━━━━━━━━━━━━━━\u001b[0m\u001b[37m\u001b[0m \u001b[1m0s\u001b[0m 217ms/step - accuracy: 0.9468 - auc: 0.9411 - f1_score: 0.5641 - loss: 0.0332 - precision: 0.7477 - recall: 0.4844  "
     ]
    },
    {
     "name": "stderr",
     "output_type": "stream",
     "text": [
      "2025-06-21 12:24:21 - INFO - \n",
      "=== Epoch 54 Summary ===\n",
      "2025-06-21 12:24:21 - INFO - Time: 194.72s\n",
      "2025-06-21 12:24:21 - INFO - Training   - accuracy: 0.9475 - auc: 0.9419 - f1_score: 0.5675 - loss: 0.0330 - precision: 0.7494 - recall: 0.4877 - learning_rate: 0.0000\n",
      "2025-06-21 12:24:21 - INFO - Validation - accuracy: 0.9320 - auc: 0.7598 - f1_score: 0.2284 - loss: 0.0763 - precision: 0.3157 - recall: 0.1945\n",
      "2025-06-21 12:24:21 - INFO - ==================================================\n",
      "\n"
     ]
    },
    {
     "name": "stdout",
     "output_type": "stream",
     "text": [
      "\u001b[1m813/813\u001b[0m \u001b[32m━━━━━━━━━━━━━━━━━━━━\u001b[0m\u001b[37m\u001b[0m \u001b[1m195s\u001b[0m 240ms/step - accuracy: 0.9468 - auc: 0.9411 - f1_score: 0.5641 - loss: 0.0332 - precision: 0.7477 - recall: 0.4844 - val_accuracy: 0.9320 - val_auc: 0.7598 - val_f1_score: 0.2284 - val_loss: 0.0763 - val_precision: 0.3157 - val_recall: 0.1945 - learning_rate: 1.0000e-06\n"
     ]
    },
    {
     "name": "stderr",
     "output_type": "stream",
     "text": [
      "2025-06-21 12:24:21 - INFO - \n",
      "=== Starting Epoch 55 ===\n",
      "\n"
     ]
    },
    {
     "name": "stdout",
     "output_type": "stream",
     "text": [
      "Epoch 55/100\n",
      "\u001b[1m813/813\u001b[0m \u001b[32m━━━━━━━━━━━━━━━━━━━━\u001b[0m\u001b[37m\u001b[0m \u001b[1m0s\u001b[0m 216ms/step - accuracy: 0.9469 - auc: 0.9414 - f1_score: 0.5658 - loss: 0.0331 - precision: 0.7476 - recall: 0.4865  "
     ]
    },
    {
     "name": "stderr",
     "output_type": "stream",
     "text": [
      "2025-06-21 12:27:34 - INFO - \n",
      "=== Epoch 55 Summary ===\n",
      "2025-06-21 12:27:34 - INFO - Time: 193.00s\n",
      "2025-06-21 12:27:34 - INFO - Training   - accuracy: 0.9474 - auc: 0.9424 - f1_score: 0.5677 - loss: 0.0329 - precision: 0.7489 - recall: 0.4886 - learning_rate: 0.0000\n",
      "2025-06-21 12:27:34 - INFO - Validation - accuracy: 0.9314 - auc: 0.7591 - f1_score: 0.2288 - loss: 0.0766 - precision: 0.3103 - recall: 0.1953\n",
      "2025-06-21 12:27:34 - INFO - ==================================================\n",
      "\n"
     ]
    },
    {
     "name": "stdout",
     "output_type": "stream",
     "text": [
      "\u001b[1m813/813\u001b[0m \u001b[32m━━━━━━━━━━━━━━━━━━━━\u001b[0m\u001b[37m\u001b[0m \u001b[1m193s\u001b[0m 237ms/step - accuracy: 0.9469 - auc: 0.9414 - f1_score: 0.5658 - loss: 0.0331 - precision: 0.7476 - recall: 0.4865 - val_accuracy: 0.9314 - val_auc: 0.7591 - val_f1_score: 0.2288 - val_loss: 0.0766 - val_precision: 0.3103 - val_recall: 0.1953 - learning_rate: 1.0000e-06\n"
     ]
    },
    {
     "name": "stderr",
     "output_type": "stream",
     "text": [
      "2025-06-21 12:27:34 - INFO - \n",
      "=== Starting Epoch 56 ===\n",
      "\n"
     ]
    },
    {
     "name": "stdout",
     "output_type": "stream",
     "text": [
      "Epoch 56/100\n",
      "\u001b[1m813/813\u001b[0m \u001b[32m━━━━━━━━━━━━━━━━━━━━\u001b[0m\u001b[37m\u001b[0m \u001b[1m0s\u001b[0m 219ms/step - accuracy: 0.9474 - auc: 0.9419 - f1_score: 0.5677 - loss: 0.0331 - precision: 0.7512 - recall: 0.4874  "
     ]
    },
    {
     "name": "stderr",
     "output_type": "stream",
     "text": [
      "2025-06-21 12:30:51 - INFO - \n",
      "=== Epoch 56 Summary ===\n",
      "2025-06-21 12:30:51 - INFO - Time: 196.60s\n",
      "2025-06-21 12:30:51 - INFO - Training   - accuracy: 0.9476 - auc: 0.9428 - f1_score: 0.5678 - loss: 0.0329 - precision: 0.7511 - recall: 0.4877 - learning_rate: 0.0000\n",
      "2025-06-21 12:30:51 - INFO - Validation - accuracy: 0.9322 - auc: 0.7598 - f1_score: 0.2322 - loss: 0.0759 - precision: 0.3184 - recall: 0.1965\n",
      "2025-06-21 12:30:51 - INFO - ==================================================\n",
      "\n"
     ]
    },
    {
     "name": "stdout",
     "output_type": "stream",
     "text": [
      "\u001b[1m813/813\u001b[0m \u001b[32m━━━━━━━━━━━━━━━━━━━━\u001b[0m\u001b[37m\u001b[0m \u001b[1m197s\u001b[0m 242ms/step - accuracy: 0.9474 - auc: 0.9419 - f1_score: 0.5677 - loss: 0.0331 - precision: 0.7512 - recall: 0.4874 - val_accuracy: 0.9322 - val_auc: 0.7598 - val_f1_score: 0.2322 - val_loss: 0.0759 - val_precision: 0.3184 - val_recall: 0.1965 - learning_rate: 1.0000e-06\n"
     ]
    },
    {
     "name": "stderr",
     "output_type": "stream",
     "text": [
      "2025-06-21 12:30:51 - INFO - \n",
      "=== Starting Epoch 57 ===\n",
      "\n"
     ]
    },
    {
     "name": "stdout",
     "output_type": "stream",
     "text": [
      "Epoch 57/100\n",
      "\u001b[1m813/813\u001b[0m \u001b[32m━━━━━━━━━━━━━━━━━━━━\u001b[0m\u001b[37m\u001b[0m \u001b[1m0s\u001b[0m 218ms/step - accuracy: 0.9469 - auc: 0.9418 - f1_score: 0.5650 - loss: 0.0331 - precision: 0.7467 - recall: 0.4852  "
     ]
    },
    {
     "name": "stderr",
     "output_type": "stream",
     "text": [
      "2025-06-21 12:34:04 - INFO - \n",
      "=== Epoch 57 Summary ===\n",
      "2025-06-21 12:34:04 - INFO - Time: 193.44s\n",
      "2025-06-21 12:34:04 - INFO - Training   - accuracy: 0.9477 - auc: 0.9433 - f1_score: 0.5704 - loss: 0.0328 - precision: 0.7511 - recall: 0.4909 - learning_rate: 0.0000\n",
      "2025-06-21 12:34:04 - INFO - Validation - accuracy: 0.9317 - auc: 0.7599 - f1_score: 0.2301 - loss: 0.0768 - precision: 0.3161 - recall: 0.1997\n",
      "2025-06-21 12:34:04 - INFO - ==================================================\n",
      "\n"
     ]
    },
    {
     "name": "stdout",
     "output_type": "stream",
     "text": [
      "\u001b[1m813/813\u001b[0m \u001b[32m━━━━━━━━━━━━━━━━━━━━\u001b[0m\u001b[37m\u001b[0m \u001b[1m193s\u001b[0m 238ms/step - accuracy: 0.9469 - auc: 0.9418 - f1_score: 0.5650 - loss: 0.0331 - precision: 0.7467 - recall: 0.4852 - val_accuracy: 0.9317 - val_auc: 0.7599 - val_f1_score: 0.2301 - val_loss: 0.0768 - val_precision: 0.3161 - val_recall: 0.1997 - learning_rate: 1.0000e-06\n"
     ]
    },
    {
     "name": "stderr",
     "output_type": "stream",
     "text": [
      "2025-06-21 12:34:04 - INFO - \n",
      "=== Starting Epoch 58 ===\n",
      "\n"
     ]
    },
    {
     "name": "stdout",
     "output_type": "stream",
     "text": [
      "Epoch 58/100\n",
      "\u001b[1m813/813\u001b[0m \u001b[32m━━━━━━━━━━━━━━━━━━━━\u001b[0m\u001b[37m\u001b[0m \u001b[1m0s\u001b[0m 217ms/step - accuracy: 0.9477 - auc: 0.9433 - f1_score: 0.5723 - loss: 0.0328 - precision: 0.7524 - recall: 0.4923  "
     ]
    },
    {
     "name": "stderr",
     "output_type": "stream",
     "text": [
      "2025-06-21 12:37:21 - INFO - \n",
      "=== Epoch 58 Summary ===\n",
      "2025-06-21 12:37:21 - INFO - Time: 196.24s\n",
      "2025-06-21 12:37:21 - INFO - Training   - accuracy: 0.9480 - auc: 0.9436 - f1_score: 0.5738 - loss: 0.0327 - precision: 0.7525 - recall: 0.4945 - learning_rate: 0.0000\n",
      "2025-06-21 12:37:21 - INFO - Validation - accuracy: 0.9306 - auc: 0.7581 - f1_score: 0.2385 - loss: 0.0770 - precision: 0.3109 - recall: 0.2086\n",
      "2025-06-21 12:37:21 - INFO - ==================================================\n",
      "\n"
     ]
    },
    {
     "name": "stdout",
     "output_type": "stream",
     "text": [
      "\u001b[1m813/813\u001b[0m \u001b[32m━━━━━━━━━━━━━━━━━━━━\u001b[0m\u001b[37m\u001b[0m \u001b[1m196s\u001b[0m 242ms/step - accuracy: 0.9477 - auc: 0.9433 - f1_score: 0.5723 - loss: 0.0328 - precision: 0.7524 - recall: 0.4923 - val_accuracy: 0.9306 - val_auc: 0.7581 - val_f1_score: 0.2385 - val_loss: 0.0770 - val_precision: 0.3109 - val_recall: 0.2086 - learning_rate: 1.0000e-06\n"
     ]
    },
    {
     "name": "stderr",
     "output_type": "stream",
     "text": [
      "2025-06-21 12:37:21 - INFO - \n",
      "=== Starting Epoch 59 ===\n",
      "\n"
     ]
    },
    {
     "name": "stdout",
     "output_type": "stream",
     "text": [
      "Epoch 59/100\n",
      "\u001b[1m813/813\u001b[0m \u001b[32m━━━━━━━━━━━━━━━━━━━━\u001b[0m\u001b[37m\u001b[0m \u001b[1m0s\u001b[0m 216ms/step - accuracy: 0.9473 - auc: 0.9423 - f1_score: 0.5709 - loss: 0.0330 - precision: 0.7490 - recall: 0.4914  "
     ]
    },
    {
     "name": "stderr",
     "output_type": "stream",
     "text": [
      "2025-06-21 12:40:34 - INFO - \n",
      "=== Epoch 59 Summary ===\n",
      "2025-06-21 12:40:34 - INFO - Time: 193.41s\n",
      "2025-06-21 12:40:34 - INFO - Training   - accuracy: 0.9480 - auc: 0.9435 - f1_score: 0.5741 - loss: 0.0326 - precision: 0.7531 - recall: 0.4947 - learning_rate: 0.0000\n",
      "2025-06-21 12:40:34 - INFO - Validation - accuracy: 0.9310 - auc: 0.7599 - f1_score: 0.2321 - loss: 0.0767 - precision: 0.3107 - recall: 0.2011\n",
      "2025-06-21 12:40:34 - INFO - ==================================================\n",
      "\n"
     ]
    },
    {
     "name": "stdout",
     "output_type": "stream",
     "text": [
      "\u001b[1m813/813\u001b[0m \u001b[32m━━━━━━━━━━━━━━━━━━━━\u001b[0m\u001b[37m\u001b[0m \u001b[1m193s\u001b[0m 238ms/step - accuracy: 0.9473 - auc: 0.9423 - f1_score: 0.5709 - loss: 0.0330 - precision: 0.7490 - recall: 0.4914 - val_accuracy: 0.9310 - val_auc: 0.7599 - val_f1_score: 0.2321 - val_loss: 0.0767 - val_precision: 0.3107 - val_recall: 0.2011 - learning_rate: 1.0000e-06\n"
     ]
    },
    {
     "name": "stderr",
     "output_type": "stream",
     "text": [
      "2025-06-21 12:40:34 - INFO - \n",
      "=== Starting Epoch 60 ===\n",
      "\n"
     ]
    },
    {
     "name": "stdout",
     "output_type": "stream",
     "text": [
      "Epoch 60/100\n",
      "\u001b[1m813/813\u001b[0m \u001b[32m━━━━━━━━━━━━━━━━━━━━\u001b[0m\u001b[37m\u001b[0m \u001b[1m0s\u001b[0m 218ms/step - accuracy: 0.9478 - auc: 0.9435 - f1_score: 0.5740 - loss: 0.0326 - precision: 0.7521 - recall: 0.4943  "
     ]
    },
    {
     "name": "stderr",
     "output_type": "stream",
     "text": [
      "2025-06-21 12:43:48 - INFO - \n",
      "=== Epoch 60 Summary ===\n",
      "2025-06-21 12:43:48 - INFO - Time: 193.57s\n",
      "2025-06-21 12:43:48 - INFO - Training   - accuracy: 0.9483 - auc: 0.9441 - f1_score: 0.5767 - loss: 0.0325 - precision: 0.7538 - recall: 0.4975 - learning_rate: 0.0000\n",
      "2025-06-21 12:43:48 - INFO - Validation - accuracy: 0.9306 - auc: 0.7586 - f1_score: 0.2327 - loss: 0.0775 - precision: 0.3065 - recall: 0.2003\n",
      "2025-06-21 12:43:48 - INFO - ==================================================\n",
      "\n"
     ]
    },
    {
     "name": "stdout",
     "output_type": "stream",
     "text": [
      "\u001b[1m813/813\u001b[0m \u001b[32m━━━━━━━━━━━━━━━━━━━━\u001b[0m\u001b[37m\u001b[0m \u001b[1m194s\u001b[0m 238ms/step - accuracy: 0.9478 - auc: 0.9435 - f1_score: 0.5740 - loss: 0.0326 - precision: 0.7521 - recall: 0.4943 - val_accuracy: 0.9306 - val_auc: 0.7586 - val_f1_score: 0.2327 - val_loss: 0.0775 - val_precision: 0.3065 - val_recall: 0.2003 - learning_rate: 1.0000e-06\n"
     ]
    },
    {
     "name": "stderr",
     "output_type": "stream",
     "text": [
      "2025-06-21 12:43:48 - INFO - \n",
      "=== Starting Epoch 61 ===\n",
      "\n"
     ]
    },
    {
     "name": "stdout",
     "output_type": "stream",
     "text": [
      "Epoch 61/100\n",
      "\u001b[1m813/813\u001b[0m \u001b[32m━━━━━━━━━━━━━━━━━━━━\u001b[0m\u001b[37m\u001b[0m \u001b[1m0s\u001b[0m 218ms/step - accuracy: 0.9480 - auc: 0.9440 - f1_score: 0.5759 - loss: 0.0327 - precision: 0.7529 - recall: 0.4960  "
     ]
    },
    {
     "name": "stderr",
     "output_type": "stream",
     "text": [
      "2025-06-21 12:47:01 - INFO - \n",
      "=== Epoch 61 Summary ===\n",
      "2025-06-21 12:47:01 - INFO - Time: 193.31s\n",
      "2025-06-21 12:47:01 - INFO - Training   - accuracy: 0.9483 - auc: 0.9445 - f1_score: 0.5770 - loss: 0.0325 - precision: 0.7556 - recall: 0.4970 - learning_rate: 0.0000\n",
      "2025-06-21 12:47:01 - INFO - Validation - accuracy: 0.9315 - auc: 0.7573 - f1_score: 0.2344 - loss: 0.0769 - precision: 0.3146 - recall: 0.2009\n",
      "2025-06-21 12:47:01 - INFO - ==================================================\n",
      "\n"
     ]
    },
    {
     "name": "stdout",
     "output_type": "stream",
     "text": [
      "\u001b[1m813/813\u001b[0m \u001b[32m━━━━━━━━━━━━━━━━━━━━\u001b[0m\u001b[37m\u001b[0m \u001b[1m193s\u001b[0m 238ms/step - accuracy: 0.9480 - auc: 0.9440 - f1_score: 0.5759 - loss: 0.0327 - precision: 0.7529 - recall: 0.4960 - val_accuracy: 0.9315 - val_auc: 0.7573 - val_f1_score: 0.2344 - val_loss: 0.0769 - val_precision: 0.3146 - val_recall: 0.2009 - learning_rate: 1.0000e-06\n"
     ]
    },
    {
     "name": "stderr",
     "output_type": "stream",
     "text": [
      "2025-06-21 12:47:01 - INFO - \n",
      "=== Starting Epoch 62 ===\n",
      "\n"
     ]
    },
    {
     "name": "stdout",
     "output_type": "stream",
     "text": [
      "Epoch 62/100\n",
      "\u001b[1m813/813\u001b[0m \u001b[32m━━━━━━━━━━━━━━━━━━━━\u001b[0m\u001b[37m\u001b[0m \u001b[1m0s\u001b[0m 217ms/step - accuracy: 0.9486 - auc: 0.9450 - f1_score: 0.5805 - loss: 0.0325 - precision: 0.7569 - recall: 0.5012  "
     ]
    },
    {
     "name": "stderr",
     "output_type": "stream",
     "text": [
      "2025-06-21 12:50:24 - INFO - \n",
      "=== Epoch 62 Summary ===\n",
      "2025-06-21 12:50:24 - INFO - Time: 202.55s\n",
      "2025-06-21 12:50:24 - INFO - Training   - accuracy: 0.9488 - auc: 0.9456 - f1_score: 0.5807 - loss: 0.0322 - precision: 0.7577 - recall: 0.5013 - learning_rate: 0.0000\n",
      "2025-06-21 12:50:24 - INFO - Validation - accuracy: 0.9315 - auc: 0.7576 - f1_score: 0.2308 - loss: 0.0772 - precision: 0.3134 - recall: 0.1984\n",
      "2025-06-21 12:50:24 - INFO - ==================================================\n",
      "\n"
     ]
    },
    {
     "name": "stdout",
     "output_type": "stream",
     "text": [
      "\u001b[1m813/813\u001b[0m \u001b[32m━━━━━━━━━━━━━━━━━━━━\u001b[0m\u001b[37m\u001b[0m \u001b[1m203s\u001b[0m 249ms/step - accuracy: 0.9486 - auc: 0.9450 - f1_score: 0.5805 - loss: 0.0325 - precision: 0.7569 - recall: 0.5012 - val_accuracy: 0.9315 - val_auc: 0.7576 - val_f1_score: 0.2308 - val_loss: 0.0772 - val_precision: 0.3134 - val_recall: 0.1984 - learning_rate: 1.0000e-06\n"
     ]
    },
    {
     "name": "stderr",
     "output_type": "stream",
     "text": [
      "2025-06-21 12:50:24 - INFO - \n",
      "=== Starting Epoch 63 ===\n",
      "\n"
     ]
    },
    {
     "name": "stdout",
     "output_type": "stream",
     "text": [
      "Epoch 63/100\n",
      "\u001b[1m813/813\u001b[0m \u001b[32m━━━━━━━━━━━━━━━━━━━━\u001b[0m\u001b[37m\u001b[0m \u001b[1m0s\u001b[0m 217ms/step - accuracy: 0.9482 - auc: 0.9447 - f1_score: 0.5815 - loss: 0.0325 - precision: 0.7566 - recall: 0.5013  "
     ]
    },
    {
     "name": "stderr",
     "output_type": "stream",
     "text": [
      "2025-06-21 12:53:37 - INFO - \n",
      "=== Epoch 63 Summary ===\n",
      "2025-06-21 12:53:37 - INFO - Time: 193.04s\n",
      "2025-06-21 12:53:37 - INFO - Training   - accuracy: 0.9488 - auc: 0.9459 - f1_score: 0.5840 - loss: 0.0322 - precision: 0.7566 - recall: 0.5051 - learning_rate: 0.0000\n",
      "2025-06-21 12:53:37 - INFO - Validation - accuracy: 0.9311 - auc: 0.7576 - f1_score: 0.2319 - loss: 0.0771 - precision: 0.3118 - recall: 0.2018\n",
      "2025-06-21 12:53:37 - INFO - ==================================================\n",
      "\n"
     ]
    },
    {
     "name": "stdout",
     "output_type": "stream",
     "text": [
      "\u001b[1m813/813\u001b[0m \u001b[32m━━━━━━━━━━━━━━━━━━━━\u001b[0m\u001b[37m\u001b[0m \u001b[1m193s\u001b[0m 237ms/step - accuracy: 0.9482 - auc: 0.9447 - f1_score: 0.5815 - loss: 0.0325 - precision: 0.7566 - recall: 0.5013 - val_accuracy: 0.9311 - val_auc: 0.7576 - val_f1_score: 0.2319 - val_loss: 0.0771 - val_precision: 0.3118 - val_recall: 0.2018 - learning_rate: 1.0000e-06\n"
     ]
    },
    {
     "name": "stderr",
     "output_type": "stream",
     "text": [
      "2025-06-21 12:53:37 - INFO - \n",
      "=== Starting Epoch 64 ===\n",
      "\n"
     ]
    },
    {
     "name": "stdout",
     "output_type": "stream",
     "text": [
      "Epoch 64/100\n",
      "\u001b[1m813/813\u001b[0m \u001b[32m━━━━━━━━━━━━━━━━━━━━\u001b[0m\u001b[37m\u001b[0m \u001b[1m0s\u001b[0m 218ms/step - accuracy: 0.9484 - auc: 0.9456 - f1_score: 0.5822 - loss: 0.0323 - precision: 0.7568 - recall: 0.5018  "
     ]
    },
    {
     "name": "stderr",
     "output_type": "stream",
     "text": [
      "2025-06-21 12:56:52 - INFO - \n",
      "=== Epoch 64 Summary ===\n",
      "2025-06-21 12:56:52 - INFO - Time: 195.75s\n",
      "2025-06-21 12:56:52 - INFO - Training   - accuracy: 0.9489 - auc: 0.9462 - f1_score: 0.5843 - loss: 0.0321 - precision: 0.7577 - recall: 0.5050 - learning_rate: 0.0000\n",
      "2025-06-21 12:56:52 - INFO - Validation - accuracy: 0.9313 - auc: 0.7583 - f1_score: 0.2286 - loss: 0.0780 - precision: 0.3111 - recall: 0.1975\n",
      "2025-06-21 12:56:52 - INFO - ==================================================\n",
      "\n"
     ]
    },
    {
     "name": "stdout",
     "output_type": "stream",
     "text": [
      "\u001b[1m813/813\u001b[0m \u001b[32m━━━━━━━━━━━━━━━━━━━━\u001b[0m\u001b[37m\u001b[0m \u001b[1m196s\u001b[0m 241ms/step - accuracy: 0.9484 - auc: 0.9456 - f1_score: 0.5822 - loss: 0.0323 - precision: 0.7568 - recall: 0.5018 - val_accuracy: 0.9313 - val_auc: 0.7583 - val_f1_score: 0.2286 - val_loss: 0.0780 - val_precision: 0.3111 - val_recall: 0.1975 - learning_rate: 1.0000e-06\n"
     ]
    },
    {
     "name": "stderr",
     "output_type": "stream",
     "text": [
      "2025-06-21 12:56:52 - INFO - \n",
      "=== Starting Epoch 65 ===\n",
      "\n"
     ]
    },
    {
     "name": "stdout",
     "output_type": "stream",
     "text": [
      "Epoch 65/100\n",
      "\u001b[1m813/813\u001b[0m \u001b[32m━━━━━━━━━━━━━━━━━━━━\u001b[0m\u001b[37m\u001b[0m \u001b[1m0s\u001b[0m 218ms/step - accuracy: 0.9487 - auc: 0.9460 - f1_score: 0.5845 - loss: 0.0322 - precision: 0.7592 - recall: 0.5050  "
     ]
    },
    {
     "name": "stderr",
     "output_type": "stream",
     "text": [
      "2025-06-21 13:00:07 - INFO - \n",
      "=== Epoch 65 Summary ===\n",
      "2025-06-21 13:00:07 - INFO - Time: 194.95s\n",
      "2025-06-21 13:00:07 - INFO - Training   - accuracy: 0.9491 - auc: 0.9463 - f1_score: 0.5857 - loss: 0.0321 - precision: 0.7591 - recall: 0.5064 - learning_rate: 0.0000\n",
      "2025-06-21 13:00:07 - INFO - Validation - accuracy: 0.9302 - auc: 0.7574 - f1_score: 0.2338 - loss: 0.0776 - precision: 0.3083 - recall: 0.2095\n",
      "2025-06-21 13:00:07 - INFO - ==================================================\n",
      "\n"
     ]
    },
    {
     "name": "stdout",
     "output_type": "stream",
     "text": [
      "\u001b[1m813/813\u001b[0m \u001b[32m━━━━━━━━━━━━━━━━━━━━\u001b[0m\u001b[37m\u001b[0m \u001b[1m195s\u001b[0m 240ms/step - accuracy: 0.9487 - auc: 0.9460 - f1_score: 0.5845 - loss: 0.0322 - precision: 0.7592 - recall: 0.5050 - val_accuracy: 0.9302 - val_auc: 0.7574 - val_f1_score: 0.2338 - val_loss: 0.0776 - val_precision: 0.3083 - val_recall: 0.2095 - learning_rate: 1.0000e-06\n"
     ]
    },
    {
     "name": "stderr",
     "output_type": "stream",
     "text": [
      "2025-06-21 13:00:07 - INFO - \n",
      "=== Starting Epoch 66 ===\n",
      "\n"
     ]
    },
    {
     "name": "stdout",
     "output_type": "stream",
     "text": [
      "Epoch 66/100\n",
      "\u001b[1m813/813\u001b[0m \u001b[32m━━━━━━━━━━━━━━━━━━━━\u001b[0m\u001b[37m\u001b[0m \u001b[1m0s\u001b[0m 217ms/step - accuracy: 0.9488 - auc: 0.9465 - f1_score: 0.5857 - loss: 0.0321 - precision: 0.7586 - recall: 0.5066  "
     ]
    },
    {
     "name": "stderr",
     "output_type": "stream",
     "text": [
      "2025-06-21 13:03:24 - INFO - \n",
      "=== Epoch 66 Summary ===\n",
      "2025-06-21 13:03:24 - INFO - Time: 196.93s\n",
      "2025-06-21 13:03:24 - INFO - Training   - accuracy: 0.9493 - auc: 0.9473 - f1_score: 0.5885 - loss: 0.0319 - precision: 0.7604 - recall: 0.5094 - learning_rate: 0.0000\n",
      "2025-06-21 13:03:24 - INFO - Validation - accuracy: 0.9307 - auc: 0.7585 - f1_score: 0.2362 - loss: 0.0780 - precision: 0.3105 - recall: 0.2066\n",
      "2025-06-21 13:03:24 - INFO - ==================================================\n",
      "\n"
     ]
    },
    {
     "name": "stdout",
     "output_type": "stream",
     "text": [
      "\u001b[1m813/813\u001b[0m \u001b[32m━━━━━━━━━━━━━━━━━━━━\u001b[0m\u001b[37m\u001b[0m \u001b[1m197s\u001b[0m 242ms/step - accuracy: 0.9488 - auc: 0.9465 - f1_score: 0.5857 - loss: 0.0321 - precision: 0.7586 - recall: 0.5066 - val_accuracy: 0.9307 - val_auc: 0.7585 - val_f1_score: 0.2362 - val_loss: 0.0780 - val_precision: 0.3105 - val_recall: 0.2066 - learning_rate: 1.0000e-06\n"
     ]
    },
    {
     "name": "stderr",
     "output_type": "stream",
     "text": [
      "2025-06-21 13:03:24 - INFO - \n",
      "=== Starting Epoch 67 ===\n",
      "\n"
     ]
    },
    {
     "name": "stdout",
     "output_type": "stream",
     "text": [
      "Epoch 67/100\n",
      "\u001b[1m813/813\u001b[0m \u001b[32m━━━━━━━━━━━━━━━━━━━━\u001b[0m\u001b[37m\u001b[0m \u001b[1m0s\u001b[0m 217ms/step - accuracy: 0.9488 - auc: 0.9469 - f1_score: 0.5888 - loss: 0.0320 - precision: 0.7566 - recall: 0.5104  "
     ]
    },
    {
     "name": "stderr",
     "output_type": "stream",
     "text": [
      "2025-06-21 13:06:38 - INFO - \n",
      "=== Epoch 67 Summary ===\n",
      "2025-06-21 13:06:38 - INFO - Time: 193.10s\n",
      "2025-06-21 13:06:38 - INFO - Training   - accuracy: 0.9493 - auc: 0.9473 - f1_score: 0.5905 - loss: 0.0319 - precision: 0.7572 - recall: 0.5130 - learning_rate: 0.0000\n",
      "2025-06-21 13:06:38 - INFO - Validation - accuracy: 0.9297 - auc: 0.7589 - f1_score: 0.2406 - loss: 0.0789 - precision: 0.3039 - recall: 0.2090\n",
      "2025-06-21 13:06:38 - INFO - ==================================================\n",
      "\n"
     ]
    },
    {
     "name": "stdout",
     "output_type": "stream",
     "text": [
      "\u001b[1m813/813\u001b[0m \u001b[32m━━━━━━━━━━━━━━━━━━━━\u001b[0m\u001b[37m\u001b[0m \u001b[1m193s\u001b[0m 238ms/step - accuracy: 0.9488 - auc: 0.9469 - f1_score: 0.5888 - loss: 0.0320 - precision: 0.7566 - recall: 0.5104 - val_accuracy: 0.9297 - val_auc: 0.7589 - val_f1_score: 0.2406 - val_loss: 0.0789 - val_precision: 0.3039 - val_recall: 0.2090 - learning_rate: 1.0000e-06\n"
     ]
    },
    {
     "name": "stderr",
     "output_type": "stream",
     "text": [
      "2025-06-21 13:06:38 - INFO - \n",
      "=== Starting Epoch 68 ===\n",
      "\n"
     ]
    },
    {
     "name": "stdout",
     "output_type": "stream",
     "text": [
      "Epoch 68/100\n",
      "\u001b[1m813/813\u001b[0m \u001b[32m━━━━━━━━━━━━━━━━━━━━\u001b[0m\u001b[37m\u001b[0m \u001b[1m0s\u001b[0m 218ms/step - accuracy: 0.9491 - auc: 0.9464 - f1_score: 0.5910 - loss: 0.0322 - precision: 0.7593 - recall: 0.5120  "
     ]
    },
    {
     "name": "stderr",
     "output_type": "stream",
     "text": [
      "2025-06-21 13:09:55 - INFO - \n",
      "=== Epoch 68 Summary ===\n",
      "2025-06-21 13:09:55 - INFO - Time: 197.21s\n",
      "2025-06-21 13:09:55 - INFO - Training   - accuracy: 0.9495 - auc: 0.9476 - f1_score: 0.5924 - loss: 0.0318 - precision: 0.7597 - recall: 0.5143 - learning_rate: 0.0000\n",
      "2025-06-21 13:09:55 - INFO - Validation - accuracy: 0.9315 - auc: 0.7568 - f1_score: 0.2344 - loss: 0.0789 - precision: 0.3131 - recall: 0.1987\n",
      "2025-06-21 13:09:55 - INFO - ==================================================\n",
      "\n"
     ]
    },
    {
     "name": "stdout",
     "output_type": "stream",
     "text": [
      "\u001b[1m813/813\u001b[0m \u001b[32m━━━━━━━━━━━━━━━━━━━━\u001b[0m\u001b[37m\u001b[0m \u001b[1m197s\u001b[0m 243ms/step - accuracy: 0.9491 - auc: 0.9464 - f1_score: 0.5910 - loss: 0.0322 - precision: 0.7593 - recall: 0.5120 - val_accuracy: 0.9315 - val_auc: 0.7568 - val_f1_score: 0.2344 - val_loss: 0.0789 - val_precision: 0.3131 - val_recall: 0.1987 - learning_rate: 1.0000e-06\n"
     ]
    },
    {
     "name": "stderr",
     "output_type": "stream",
     "text": [
      "2025-06-21 13:09:55 - INFO - \n",
      "=== Starting Epoch 69 ===\n",
      "\n"
     ]
    },
    {
     "name": "stdout",
     "output_type": "stream",
     "text": [
      "Epoch 69/100\n",
      "\u001b[1m813/813\u001b[0m \u001b[32m━━━━━━━━━━━━━━━━━━━━\u001b[0m\u001b[37m\u001b[0m \u001b[1m0s\u001b[0m 222ms/step - accuracy: 0.9490 - auc: 0.9470 - f1_score: 0.5891 - loss: 0.0320 - precision: 0.7589 - recall: 0.5106  "
     ]
    },
    {
     "name": "stderr",
     "output_type": "stream",
     "text": [
      "2025-06-21 13:13:14 - INFO - \n",
      "=== Epoch 69 Summary ===\n",
      "2025-06-21 13:13:14 - INFO - Time: 199.41s\n",
      "2025-06-21 13:13:14 - INFO - Training   - accuracy: 0.9495 - auc: 0.9478 - f1_score: 0.5916 - loss: 0.0318 - precision: 0.7596 - recall: 0.5134 - learning_rate: 0.0000\n",
      "2025-06-21 13:13:14 - INFO - Validation - accuracy: 0.9318 - auc: 0.7587 - f1_score: 0.2394 - loss: 0.0782 - precision: 0.3204 - recall: 0.2063\n",
      "2025-06-21 13:13:14 - INFO - ==================================================\n",
      "\n"
     ]
    },
    {
     "name": "stdout",
     "output_type": "stream",
     "text": [
      "\u001b[1m813/813\u001b[0m \u001b[32m━━━━━━━━━━━━━━━━━━━━\u001b[0m\u001b[37m\u001b[0m \u001b[1m199s\u001b[0m 245ms/step - accuracy: 0.9490 - auc: 0.9470 - f1_score: 0.5891 - loss: 0.0320 - precision: 0.7589 - recall: 0.5106 - val_accuracy: 0.9318 - val_auc: 0.7587 - val_f1_score: 0.2394 - val_loss: 0.0782 - val_precision: 0.3204 - val_recall: 0.2063 - learning_rate: 1.0000e-06\n"
     ]
    },
    {
     "name": "stderr",
     "output_type": "stream",
     "text": [
      "2025-06-21 13:13:14 - INFO - \n",
      "=== Starting Epoch 70 ===\n",
      "\n"
     ]
    },
    {
     "name": "stdout",
     "output_type": "stream",
     "text": [
      "Epoch 70/100\n",
      "\u001b[1m813/813\u001b[0m \u001b[32m━━━━━━━━━━━━━━━━━━━━\u001b[0m\u001b[37m\u001b[0m \u001b[1m0s\u001b[0m 218ms/step - accuracy: 0.9500 - auc: 0.9486 - f1_score: 0.5980 - loss: 0.0317 - precision: 0.7663 - recall: 0.5191  "
     ]
    },
    {
     "name": "stderr",
     "output_type": "stream",
     "text": [
      "2025-06-21 13:16:28 - INFO - \n",
      "=== Epoch 70 Summary ===\n",
      "2025-06-21 13:16:28 - INFO - Time: 193.56s\n",
      "2025-06-21 13:16:28 - INFO - Training   - accuracy: 0.9499 - auc: 0.9484 - f1_score: 0.5956 - loss: 0.0317 - precision: 0.7620 - recall: 0.5177 - learning_rate: 0.0000\n",
      "2025-06-21 13:16:28 - INFO - Validation - accuracy: 0.9309 - auc: 0.7573 - f1_score: 0.2343 - loss: 0.0786 - precision: 0.3108 - recall: 0.2037\n",
      "2025-06-21 13:16:28 - INFO - ==================================================\n",
      "\n"
     ]
    },
    {
     "name": "stdout",
     "output_type": "stream",
     "text": [
      "\u001b[1m813/813\u001b[0m \u001b[32m━━━━━━━━━━━━━━━━━━━━\u001b[0m\u001b[37m\u001b[0m \u001b[1m194s\u001b[0m 238ms/step - accuracy: 0.9500 - auc: 0.9486 - f1_score: 0.5980 - loss: 0.0317 - precision: 0.7663 - recall: 0.5191 - val_accuracy: 0.9309 - val_auc: 0.7573 - val_f1_score: 0.2343 - val_loss: 0.0786 - val_precision: 0.3108 - val_recall: 0.2037 - learning_rate: 1.0000e-06\n"
     ]
    },
    {
     "name": "stderr",
     "output_type": "stream",
     "text": [
      "2025-06-21 13:16:28 - INFO - \n",
      "=== Starting Epoch 71 ===\n",
      "\n"
     ]
    },
    {
     "name": "stdout",
     "output_type": "stream",
     "text": [
      "Epoch 71/100\n",
      "\u001b[1m813/813\u001b[0m \u001b[32m━━━━━━━━━━━━━━━━━━━━\u001b[0m\u001b[37m\u001b[0m \u001b[1m0s\u001b[0m 219ms/step - accuracy: 0.9495 - auc: 0.9482 - f1_score: 0.5953 - loss: 0.0318 - precision: 0.7604 - recall: 0.5174  "
     ]
    },
    {
     "name": "stderr",
     "output_type": "stream",
     "text": [
      "2025-06-21 13:19:42 - INFO - \n",
      "=== Epoch 71 Summary ===\n",
      "2025-06-21 13:19:42 - INFO - Time: 193.79s\n",
      "2025-06-21 13:19:42 - INFO - Training   - accuracy: 0.9498 - auc: 0.9488 - f1_score: 0.5955 - loss: 0.0316 - precision: 0.7601 - recall: 0.5183 - learning_rate: 0.0000\n",
      "2025-06-21 13:19:42 - INFO - Validation - accuracy: 0.9318 - auc: 0.7587 - f1_score: 0.2366 - loss: 0.0772 - precision: 0.3197 - recall: 0.2048\n",
      "2025-06-21 13:19:42 - INFO - ==================================================\n",
      "\n"
     ]
    },
    {
     "name": "stdout",
     "output_type": "stream",
     "text": [
      "\u001b[1m813/813\u001b[0m \u001b[32m━━━━━━━━━━━━━━━━━━━━\u001b[0m\u001b[37m\u001b[0m \u001b[1m194s\u001b[0m 238ms/step - accuracy: 0.9495 - auc: 0.9482 - f1_score: 0.5953 - loss: 0.0318 - precision: 0.7604 - recall: 0.5174 - val_accuracy: 0.9318 - val_auc: 0.7587 - val_f1_score: 0.2366 - val_loss: 0.0772 - val_precision: 0.3197 - val_recall: 0.2048 - learning_rate: 1.0000e-06\n"
     ]
    },
    {
     "name": "stderr",
     "output_type": "stream",
     "text": [
      "2025-06-21 13:19:42 - INFO - \n",
      "=== Starting Epoch 72 ===\n",
      "\n"
     ]
    },
    {
     "name": "stdout",
     "output_type": "stream",
     "text": [
      "Epoch 72/100\n",
      "\u001b[1m813/813\u001b[0m \u001b[32m━━━━━━━━━━━━━━━━━━━━\u001b[0m\u001b[37m\u001b[0m \u001b[1m0s\u001b[0m 219ms/step - accuracy: 0.9500 - auc: 0.9486 - f1_score: 0.5984 - loss: 0.0317 - precision: 0.7661 - recall: 0.5193  "
     ]
    },
    {
     "name": "stderr",
     "output_type": "stream",
     "text": [
      "2025-06-21 13:22:56 - INFO - \n",
      "=== Epoch 72 Summary ===\n",
      "2025-06-21 13:22:56 - INFO - Time: 193.94s\n",
      "2025-06-21 13:22:56 - INFO - Training   - accuracy: 0.9503 - auc: 0.9489 - f1_score: 0.5995 - loss: 0.0315 - precision: 0.7643 - recall: 0.5218 - learning_rate: 0.0000\n",
      "2025-06-21 13:22:56 - INFO - Validation - accuracy: 0.9319 - auc: 0.7577 - f1_score: 0.2363 - loss: 0.0795 - precision: 0.3204 - recall: 0.2055\n",
      "2025-06-21 13:22:56 - INFO - ==================================================\n",
      "\n"
     ]
    },
    {
     "name": "stdout",
     "output_type": "stream",
     "text": [
      "\u001b[1m813/813\u001b[0m \u001b[32m━━━━━━━━━━━━━━━━━━━━\u001b[0m\u001b[37m\u001b[0m \u001b[1m194s\u001b[0m 239ms/step - accuracy: 0.9500 - auc: 0.9486 - f1_score: 0.5984 - loss: 0.0317 - precision: 0.7661 - recall: 0.5193 - val_accuracy: 0.9319 - val_auc: 0.7577 - val_f1_score: 0.2363 - val_loss: 0.0795 - val_precision: 0.3204 - val_recall: 0.2055 - learning_rate: 1.0000e-06\n"
     ]
    },
    {
     "name": "stderr",
     "output_type": "stream",
     "text": [
      "2025-06-21 13:22:56 - INFO - \n",
      "=== Starting Epoch 73 ===\n",
      "\n"
     ]
    },
    {
     "name": "stdout",
     "output_type": "stream",
     "text": [
      "Epoch 73/100\n",
      "\u001b[1m813/813\u001b[0m \u001b[32m━━━━━━━━━━━━━━━━━━━━\u001b[0m\u001b[37m\u001b[0m \u001b[1m0s\u001b[0m 219ms/step - accuracy: 0.9502 - auc: 0.9495 - f1_score: 0.6018 - loss: 0.0314 - precision: 0.7663 - recall: 0.5242  "
     ]
    },
    {
     "name": "stderr",
     "output_type": "stream",
     "text": [
      "2025-06-21 13:26:18 - INFO - \n",
      "=== Epoch 73 Summary ===\n",
      "2025-06-21 13:26:18 - INFO - Time: 201.91s\n",
      "2025-06-21 13:26:18 - INFO - Training   - accuracy: 0.9505 - auc: 0.9497 - f1_score: 0.6027 - loss: 0.0313 - precision: 0.7659 - recall: 0.5252 - learning_rate: 0.0000\n",
      "2025-06-21 13:26:18 - INFO - Validation - accuracy: 0.9310 - auc: 0.7574 - f1_score: 0.2409 - loss: 0.0789 - precision: 0.3151 - recall: 0.2090\n",
      "2025-06-21 13:26:18 - INFO - ==================================================\n",
      "\n"
     ]
    },
    {
     "name": "stdout",
     "output_type": "stream",
     "text": [
      "\u001b[1m813/813\u001b[0m \u001b[32m━━━━━━━━━━━━━━━━━━━━\u001b[0m\u001b[37m\u001b[0m \u001b[1m202s\u001b[0m 248ms/step - accuracy: 0.9502 - auc: 0.9495 - f1_score: 0.6018 - loss: 0.0314 - precision: 0.7663 - recall: 0.5242 - val_accuracy: 0.9310 - val_auc: 0.7574 - val_f1_score: 0.2409 - val_loss: 0.0789 - val_precision: 0.3151 - val_recall: 0.2090 - learning_rate: 1.0000e-06\n"
     ]
    },
    {
     "name": "stderr",
     "output_type": "stream",
     "text": [
      "2025-06-21 13:26:18 - INFO - \n",
      "=== Starting Epoch 74 ===\n",
      "\n"
     ]
    },
    {
     "name": "stdout",
     "output_type": "stream",
     "text": [
      "Epoch 74/100\n",
      "\u001b[1m813/813\u001b[0m \u001b[32m━━━━━━━━━━━━━━━━━━━━\u001b[0m\u001b[37m\u001b[0m \u001b[1m0s\u001b[0m 218ms/step - accuracy: 0.9503 - auc: 0.9489 - f1_score: 0.6002 - loss: 0.0314 - precision: 0.7645 - recall: 0.5229  "
     ]
    },
    {
     "name": "stderr",
     "output_type": "stream",
     "text": [
      "2025-06-21 13:29:31 - INFO - \n",
      "=== Epoch 74 Summary ===\n",
      "2025-06-21 13:29:31 - INFO - Time: 193.17s\n",
      "2025-06-21 13:29:31 - INFO - Training   - accuracy: 0.9505 - auc: 0.9497 - f1_score: 0.6026 - loss: 0.0312 - precision: 0.7653 - recall: 0.5251 - learning_rate: 0.0000\n",
      "2025-06-21 13:29:31 - INFO - Validation - accuracy: 0.9301 - auc: 0.7565 - f1_score: 0.2428 - loss: 0.0800 - precision: 0.3103 - recall: 0.2141\n",
      "2025-06-21 13:29:31 - INFO - ==================================================\n",
      "\n"
     ]
    },
    {
     "name": "stdout",
     "output_type": "stream",
     "text": [
      "\u001b[1m813/813\u001b[0m \u001b[32m━━━━━━━━━━━━━━━━━━━━\u001b[0m\u001b[37m\u001b[0m \u001b[1m193s\u001b[0m 238ms/step - accuracy: 0.9503 - auc: 0.9489 - f1_score: 0.6002 - loss: 0.0314 - precision: 0.7645 - recall: 0.5229 - val_accuracy: 0.9301 - val_auc: 0.7565 - val_f1_score: 0.2428 - val_loss: 0.0800 - val_precision: 0.3103 - val_recall: 0.2141 - learning_rate: 1.0000e-06\n"
     ]
    },
    {
     "name": "stderr",
     "output_type": "stream",
     "text": [
      "2025-06-21 13:29:31 - INFO - \n",
      "=== Starting Epoch 75 ===\n",
      "\n"
     ]
    },
    {
     "name": "stdout",
     "output_type": "stream",
     "text": [
      "Epoch 75/100\n",
      "\u001b[1m813/813\u001b[0m \u001b[32m━━━━━━━━━━━━━━━━━━━━\u001b[0m\u001b[37m\u001b[0m \u001b[1m0s\u001b[0m 219ms/step - accuracy: 0.9509 - auc: 0.9502 - f1_score: 0.6063 - loss: 0.0312 - precision: 0.7682 - recall: 0.5292  "
     ]
    },
    {
     "name": "stderr",
     "output_type": "stream",
     "text": [
      "2025-06-21 13:32:45 - INFO - \n",
      "=== Epoch 75 Summary ===\n",
      "2025-06-21 13:32:45 - INFO - Time: 194.42s\n",
      "2025-06-21 13:32:45 - INFO - Training   - accuracy: 0.9509 - auc: 0.9507 - f1_score: 0.6059 - loss: 0.0310 - precision: 0.7676 - recall: 0.5287 - learning_rate: 0.0000\n",
      "2025-06-21 13:32:45 - INFO - Validation - accuracy: 0.9310 - auc: 0.7586 - f1_score: 0.2435 - loss: 0.0791 - precision: 0.3166 - recall: 0.2123\n",
      "2025-06-21 13:32:45 - INFO - ==================================================\n",
      "\n"
     ]
    },
    {
     "name": "stdout",
     "output_type": "stream",
     "text": [
      "\u001b[1m813/813\u001b[0m \u001b[32m━━━━━━━━━━━━━━━━━━━━\u001b[0m\u001b[37m\u001b[0m \u001b[1m194s\u001b[0m 239ms/step - accuracy: 0.9509 - auc: 0.9502 - f1_score: 0.6063 - loss: 0.0312 - precision: 0.7682 - recall: 0.5292 - val_accuracy: 0.9310 - val_auc: 0.7586 - val_f1_score: 0.2435 - val_loss: 0.0791 - val_precision: 0.3166 - val_recall: 0.2123 - learning_rate: 1.0000e-06\n"
     ]
    },
    {
     "name": "stderr",
     "output_type": "stream",
     "text": [
      "2025-06-21 13:32:45 - INFO - \n",
      "=== Starting Epoch 76 ===\n",
      "\n"
     ]
    },
    {
     "name": "stdout",
     "output_type": "stream",
     "text": [
      "Epoch 76/100\n",
      "\u001b[1m813/813\u001b[0m \u001b[32m━━━━━━━━━━━━━━━━━━━━\u001b[0m\u001b[37m\u001b[0m \u001b[1m0s\u001b[0m 218ms/step - accuracy: 0.9511 - auc: 0.9513 - f1_score: 0.6092 - loss: 0.0311 - precision: 0.7725 - recall: 0.5307  "
     ]
    },
    {
     "name": "stderr",
     "output_type": "stream",
     "text": [
      "2025-06-21 13:35:53 - INFO - \n",
      "=== Epoch 76 Summary ===\n",
      "2025-06-21 13:35:53 - INFO - Time: 187.47s\n",
      "2025-06-21 13:35:53 - INFO - Training   - accuracy: 0.9512 - auc: 0.9514 - f1_score: 0.6088 - loss: 0.0310 - precision: 0.7708 - recall: 0.5308 - learning_rate: 0.0000\n",
      "2025-06-21 13:35:53 - INFO - Validation - accuracy: 0.9304 - auc: 0.7571 - f1_score: 0.2449 - loss: 0.0798 - precision: 0.3138 - recall: 0.2158\n",
      "2025-06-21 13:35:53 - INFO - ==================================================\n",
      "\n"
     ]
    },
    {
     "name": "stdout",
     "output_type": "stream",
     "text": [
      "\u001b[1m813/813\u001b[0m \u001b[32m━━━━━━━━━━━━━━━━━━━━\u001b[0m\u001b[37m\u001b[0m \u001b[1m188s\u001b[0m 231ms/step - accuracy: 0.9511 - auc: 0.9513 - f1_score: 0.6092 - loss: 0.0311 - precision: 0.7725 - recall: 0.5307 - val_accuracy: 0.9304 - val_auc: 0.7571 - val_f1_score: 0.2449 - val_loss: 0.0798 - val_precision: 0.3138 - val_recall: 0.2158 - learning_rate: 1.0000e-06\n"
     ]
    },
    {
     "name": "stderr",
     "output_type": "stream",
     "text": [
      "2025-06-21 13:35:53 - INFO - \n",
      "=== Starting Epoch 77 ===\n",
      "\n"
     ]
    },
    {
     "name": "stdout",
     "output_type": "stream",
     "text": [
      "Epoch 77/100\n",
      "\u001b[1m813/813\u001b[0m \u001b[32m━━━━━━━━━━━━━━━━━━━━\u001b[0m\u001b[37m\u001b[0m \u001b[1m0s\u001b[0m 228ms/step - accuracy: 0.9510 - auc: 0.9513 - f1_score: 0.6099 - loss: 0.0311 - precision: 0.7695 - recall: 0.5327  "
     ]
    },
    {
     "name": "stderr",
     "output_type": "stream",
     "text": [
      "2025-06-21 13:39:09 - INFO - \n",
      "=== Epoch 77 Summary ===\n",
      "2025-06-21 13:39:09 - INFO - Time: 195.72s\n",
      "2025-06-21 13:39:09 - INFO - Training   - accuracy: 0.9512 - auc: 0.9517 - f1_score: 0.6100 - loss: 0.0309 - precision: 0.7697 - recall: 0.5329 - learning_rate: 0.0000\n",
      "2025-06-21 13:39:09 - INFO - Validation - accuracy: 0.9306 - auc: 0.7548 - f1_score: 0.2453 - loss: 0.0806 - precision: 0.3137 - recall: 0.2128\n",
      "2025-06-21 13:39:09 - INFO - ==================================================\n",
      "\n"
     ]
    },
    {
     "name": "stdout",
     "output_type": "stream",
     "text": [
      "\u001b[1m813/813\u001b[0m \u001b[32m━━━━━━━━━━━━━━━━━━━━\u001b[0m\u001b[37m\u001b[0m \u001b[1m196s\u001b[0m 241ms/step - accuracy: 0.9510 - auc: 0.9513 - f1_score: 0.6099 - loss: 0.0311 - precision: 0.7695 - recall: 0.5327 - val_accuracy: 0.9306 - val_auc: 0.7548 - val_f1_score: 0.2453 - val_loss: 0.0806 - val_precision: 0.3137 - val_recall: 0.2128 - learning_rate: 1.0000e-06\n"
     ]
    },
    {
     "name": "stderr",
     "output_type": "stream",
     "text": [
      "2025-06-21 13:39:09 - INFO - \n",
      "=== Starting Epoch 78 ===\n",
      "\n"
     ]
    },
    {
     "name": "stdout",
     "output_type": "stream",
     "text": [
      "Epoch 78/100\n",
      "\u001b[1m813/813\u001b[0m \u001b[32m━━━━━━━━━━━━━━━━━━━━\u001b[0m\u001b[37m\u001b[0m \u001b[1m0s\u001b[0m 230ms/step - accuracy: 0.9511 - auc: 0.9516 - f1_score: 0.6094 - loss: 0.0310 - precision: 0.7699 - recall: 0.5324  "
     ]
    },
    {
     "name": "stderr",
     "output_type": "stream",
     "text": [
      "2025-06-21 13:42:26 - INFO - \n",
      "=== Epoch 78 Summary ===\n",
      "2025-06-21 13:42:26 - INFO - Time: 197.55s\n",
      "2025-06-21 13:42:26 - INFO - Training   - accuracy: 0.9514 - auc: 0.9519 - f1_score: 0.6116 - loss: 0.0308 - precision: 0.7699 - recall: 0.5347 - learning_rate: 0.0000\n",
      "2025-06-21 13:42:26 - INFO - Validation - accuracy: 0.9297 - auc: 0.7566 - f1_score: 0.2482 - loss: 0.0814 - precision: 0.3094 - recall: 0.2191\n",
      "2025-06-21 13:42:26 - INFO - ==================================================\n",
      "\n"
     ]
    },
    {
     "name": "stdout",
     "output_type": "stream",
     "text": [
      "\u001b[1m813/813\u001b[0m \u001b[32m━━━━━━━━━━━━━━━━━━━━\u001b[0m\u001b[37m\u001b[0m \u001b[1m198s\u001b[0m 243ms/step - accuracy: 0.9511 - auc: 0.9516 - f1_score: 0.6094 - loss: 0.0310 - precision: 0.7699 - recall: 0.5324 - val_accuracy: 0.9297 - val_auc: 0.7566 - val_f1_score: 0.2482 - val_loss: 0.0814 - val_precision: 0.3094 - val_recall: 0.2191 - learning_rate: 1.0000e-06\n"
     ]
    },
    {
     "name": "stderr",
     "output_type": "stream",
     "text": [
      "2025-06-21 13:42:26 - INFO - \n",
      "=== Starting Epoch 79 ===\n",
      "\n"
     ]
    },
    {
     "name": "stdout",
     "output_type": "stream",
     "text": [
      "Epoch 79/100\n",
      "\u001b[1m813/813\u001b[0m \u001b[32m━━━━━━━━━━━━━━━━━━━━\u001b[0m\u001b[37m\u001b[0m \u001b[1m0s\u001b[0m 229ms/step - accuracy: 0.9514 - auc: 0.9519 - f1_score: 0.6149 - loss: 0.0310 - precision: 0.7713 - recall: 0.5378  "
     ]
    },
    {
     "name": "stderr",
     "output_type": "stream",
     "text": [
      "2025-06-21 13:45:42 - INFO - \n",
      "=== Epoch 79 Summary ===\n",
      "2025-06-21 13:45:42 - INFO - Time: 196.18s\n",
      "2025-06-21 13:45:42 - INFO - Training   - accuracy: 0.9515 - auc: 0.9520 - f1_score: 0.6145 - loss: 0.0309 - precision: 0.7702 - recall: 0.5379 - learning_rate: 0.0000\n",
      "2025-06-21 13:45:42 - INFO - Validation - accuracy: 0.9309 - auc: 0.7548 - f1_score: 0.2351 - loss: 0.0823 - precision: 0.3114 - recall: 0.2041\n",
      "2025-06-21 13:45:42 - INFO - ==================================================\n",
      "\n"
     ]
    },
    {
     "name": "stdout",
     "output_type": "stream",
     "text": [
      "\u001b[1m813/813\u001b[0m \u001b[32m━━━━━━━━━━━━━━━━━━━━\u001b[0m\u001b[37m\u001b[0m \u001b[1m196s\u001b[0m 241ms/step - accuracy: 0.9514 - auc: 0.9519 - f1_score: 0.6149 - loss: 0.0310 - precision: 0.7713 - recall: 0.5378 - val_accuracy: 0.9309 - val_auc: 0.7548 - val_f1_score: 0.2351 - val_loss: 0.0823 - val_precision: 0.3114 - val_recall: 0.2041 - learning_rate: 1.0000e-06\n"
     ]
    },
    {
     "name": "stderr",
     "output_type": "stream",
     "text": [
      "2025-06-21 13:45:42 - INFO - \n",
      "=== Starting Epoch 80 ===\n",
      "\n"
     ]
    },
    {
     "name": "stdout",
     "output_type": "stream",
     "text": [
      "Epoch 80/100\n",
      "\u001b[1m813/813\u001b[0m \u001b[32m━━━━━━━━━━━━━━━━━━━━\u001b[0m\u001b[37m\u001b[0m \u001b[1m0s\u001b[0m 228ms/step - accuracy: 0.9519 - auc: 0.9527 - f1_score: 0.6168 - loss: 0.0306 - precision: 0.7729 - recall: 0.5402  "
     ]
    },
    {
     "name": "stderr",
     "output_type": "stream",
     "text": [
      "2025-06-21 13:48:58 - INFO - \n",
      "=== Epoch 80 Summary ===\n",
      "2025-06-21 13:48:58 - INFO - Time: 195.47s\n",
      "2025-06-21 13:48:58 - INFO - Training   - accuracy: 0.9520 - auc: 0.9527 - f1_score: 0.6181 - loss: 0.0306 - precision: 0.7736 - recall: 0.5415 - learning_rate: 0.0000\n",
      "2025-06-21 13:48:58 - INFO - Validation - accuracy: 0.9315 - auc: 0.7562 - f1_score: 0.2387 - loss: 0.0804 - precision: 0.3201 - recall: 0.2102\n",
      "2025-06-21 13:48:58 - INFO - ==================================================\n",
      "\n"
     ]
    },
    {
     "name": "stdout",
     "output_type": "stream",
     "text": [
      "\u001b[1m813/813\u001b[0m \u001b[32m━━━━━━━━━━━━━━━━━━━━\u001b[0m\u001b[37m\u001b[0m \u001b[1m195s\u001b[0m 240ms/step - accuracy: 0.9519 - auc: 0.9527 - f1_score: 0.6168 - loss: 0.0306 - precision: 0.7729 - recall: 0.5402 - val_accuracy: 0.9315 - val_auc: 0.7562 - val_f1_score: 0.2387 - val_loss: 0.0804 - val_precision: 0.3201 - val_recall: 0.2102 - learning_rate: 1.0000e-06\n"
     ]
    },
    {
     "name": "stderr",
     "output_type": "stream",
     "text": [
      "2025-06-21 13:48:58 - INFO - \n",
      "=== Starting Epoch 81 ===\n",
      "\n"
     ]
    },
    {
     "name": "stdout",
     "output_type": "stream",
     "text": [
      "Epoch 81/100\n",
      "\u001b[1m813/813\u001b[0m \u001b[32m━━━━━━━━━━━━━━━━━━━━\u001b[0m\u001b[37m\u001b[0m \u001b[1m0s\u001b[0m 226ms/step - accuracy: 0.9513 - auc: 0.9520 - f1_score: 0.6122 - loss: 0.0307 - precision: 0.7695 - recall: 0.5358  "
     ]
    },
    {
     "name": "stderr",
     "output_type": "stream",
     "text": [
      "2025-06-21 13:52:11 - INFO - \n",
      "=== Epoch 81 Summary ===\n",
      "2025-06-21 13:52:11 - INFO - Time: 193.34s\n",
      "2025-06-21 13:52:11 - INFO - Training   - accuracy: 0.9517 - auc: 0.9527 - f1_score: 0.6163 - loss: 0.0306 - precision: 0.7715 - recall: 0.5394 - learning_rate: 0.0000\n",
      "2025-06-21 13:52:11 - INFO - Validation - accuracy: 0.9309 - auc: 0.7566 - f1_score: 0.2357 - loss: 0.0822 - precision: 0.3111 - recall: 0.2040\n",
      "2025-06-21 13:52:11 - INFO - ==================================================\n",
      "\n"
     ]
    },
    {
     "name": "stdout",
     "output_type": "stream",
     "text": [
      "\u001b[1m813/813\u001b[0m \u001b[32m━━━━━━━━━━━━━━━━━━━━\u001b[0m\u001b[37m\u001b[0m \u001b[1m193s\u001b[0m 238ms/step - accuracy: 0.9513 - auc: 0.9520 - f1_score: 0.6122 - loss: 0.0307 - precision: 0.7695 - recall: 0.5358 - val_accuracy: 0.9309 - val_auc: 0.7566 - val_f1_score: 0.2357 - val_loss: 0.0822 - val_precision: 0.3111 - val_recall: 0.2040 - learning_rate: 1.0000e-06\n"
     ]
    },
    {
     "name": "stderr",
     "output_type": "stream",
     "text": [
      "2025-06-21 13:52:11 - INFO - \n",
      "=== Starting Epoch 82 ===\n",
      "\n"
     ]
    },
    {
     "name": "stdout",
     "output_type": "stream",
     "text": [
      "Epoch 82/100\n",
      "\u001b[1m813/813\u001b[0m \u001b[32m━━━━━━━━━━━━━━━━━━━━\u001b[0m\u001b[37m\u001b[0m \u001b[1m0s\u001b[0m 230ms/step - accuracy: 0.9518 - auc: 0.9530 - f1_score: 0.6166 - loss: 0.0306 - precision: 0.7733 - recall: 0.5402  "
     ]
    },
    {
     "name": "stderr",
     "output_type": "stream",
     "text": [
      "2025-06-21 13:55:28 - INFO - \n",
      "=== Epoch 82 Summary ===\n",
      "2025-06-21 13:55:28 - INFO - Time: 196.65s\n",
      "2025-06-21 13:55:28 - INFO - Training   - accuracy: 0.9520 - auc: 0.9532 - f1_score: 0.6178 - loss: 0.0306 - precision: 0.7725 - recall: 0.5416 - learning_rate: 0.0000\n",
      "2025-06-21 13:55:28 - INFO - Validation - accuracy: 0.9313 - auc: 0.7560 - f1_score: 0.2417 - loss: 0.0810 - precision: 0.3190 - recall: 0.2118\n",
      "2025-06-21 13:55:28 - INFO - ==================================================\n",
      "\n"
     ]
    },
    {
     "name": "stdout",
     "output_type": "stream",
     "text": [
      "\u001b[1m813/813\u001b[0m \u001b[32m━━━━━━━━━━━━━━━━━━━━\u001b[0m\u001b[37m\u001b[0m \u001b[1m197s\u001b[0m 242ms/step - accuracy: 0.9518 - auc: 0.9530 - f1_score: 0.6166 - loss: 0.0306 - precision: 0.7733 - recall: 0.5402 - val_accuracy: 0.9313 - val_auc: 0.7560 - val_f1_score: 0.2417 - val_loss: 0.0810 - val_precision: 0.3190 - val_recall: 0.2118 - learning_rate: 1.0000e-06\n"
     ]
    },
    {
     "name": "stderr",
     "output_type": "stream",
     "text": [
      "2025-06-21 13:55:28 - INFO - \n",
      "=== Starting Epoch 83 ===\n",
      "\n"
     ]
    },
    {
     "name": "stdout",
     "output_type": "stream",
     "text": [
      "Epoch 83/100\n",
      "\u001b[1m813/813\u001b[0m \u001b[32m━━━━━━━━━━━━━━━━━━━━\u001b[0m\u001b[37m\u001b[0m \u001b[1m0s\u001b[0m 229ms/step - accuracy: 0.9517 - auc: 0.9529 - f1_score: 0.6177 - loss: 0.0307 - precision: 0.7753 - recall: 0.5396  "
     ]
    },
    {
     "name": "stderr",
     "output_type": "stream",
     "text": [
      "2025-06-21 13:58:44 - INFO - \n",
      "=== Epoch 83 Summary ===\n",
      "2025-06-21 13:58:44 - INFO - Time: 196.40s\n",
      "2025-06-21 13:58:44 - INFO - Training   - accuracy: 0.9520 - auc: 0.9532 - f1_score: 0.6191 - loss: 0.0305 - precision: 0.7741 - recall: 0.5419 - learning_rate: 0.0000\n",
      "2025-06-21 13:58:44 - INFO - Validation - accuracy: 0.9301 - auc: 0.7565 - f1_score: 0.2462 - loss: 0.0813 - precision: 0.3128 - recall: 0.2186\n",
      "2025-06-21 13:58:44 - INFO - ==================================================\n",
      "\n"
     ]
    },
    {
     "name": "stdout",
     "output_type": "stream",
     "text": [
      "\u001b[1m813/813\u001b[0m \u001b[32m━━━━━━━━━━━━━━━━━━━━\u001b[0m\u001b[37m\u001b[0m \u001b[1m196s\u001b[0m 242ms/step - accuracy: 0.9517 - auc: 0.9529 - f1_score: 0.6177 - loss: 0.0307 - precision: 0.7753 - recall: 0.5396 - val_accuracy: 0.9301 - val_auc: 0.7565 - val_f1_score: 0.2462 - val_loss: 0.0813 - val_precision: 0.3128 - val_recall: 0.2186 - learning_rate: 1.0000e-06\n"
     ]
    },
    {
     "name": "stderr",
     "output_type": "stream",
     "text": [
      "2025-06-21 13:58:44 - INFO - \n",
      "=== Starting Epoch 84 ===\n",
      "\n"
     ]
    },
    {
     "name": "stdout",
     "output_type": "stream",
     "text": [
      "Epoch 84/100\n",
      "\u001b[1m813/813\u001b[0m \u001b[32m━━━━━━━━━━━━━━━━━━━━\u001b[0m\u001b[37m\u001b[0m \u001b[1m0s\u001b[0m 229ms/step - accuracy: 0.9526 - auc: 0.9539 - f1_score: 0.6242 - loss: 0.0304 - precision: 0.7770 - recall: 0.5481  "
     ]
    },
    {
     "name": "stderr",
     "output_type": "stream",
     "text": [
      "2025-06-21 14:02:00 - INFO - \n",
      "=== Epoch 84 Summary ===\n",
      "2025-06-21 14:02:00 - INFO - Time: 196.19s\n",
      "2025-06-21 14:02:00 - INFO - Training   - accuracy: 0.9523 - auc: 0.9539 - f1_score: 0.6218 - loss: 0.0304 - precision: 0.7750 - recall: 0.5454 - learning_rate: 0.0000\n",
      "2025-06-21 14:02:00 - INFO - Validation - accuracy: 0.9312 - auc: 0.7547 - f1_score: 0.2384 - loss: 0.0806 - precision: 0.3152 - recall: 0.2070\n",
      "2025-06-21 14:02:00 - INFO - ==================================================\n",
      "\n"
     ]
    },
    {
     "name": "stdout",
     "output_type": "stream",
     "text": [
      "\u001b[1m813/813\u001b[0m \u001b[32m━━━━━━━━━━━━━━━━━━━━\u001b[0m\u001b[37m\u001b[0m \u001b[1m196s\u001b[0m 241ms/step - accuracy: 0.9526 - auc: 0.9539 - f1_score: 0.6242 - loss: 0.0304 - precision: 0.7770 - recall: 0.5481 - val_accuracy: 0.9312 - val_auc: 0.7547 - val_f1_score: 0.2384 - val_loss: 0.0806 - val_precision: 0.3152 - val_recall: 0.2070 - learning_rate: 1.0000e-06\n"
     ]
    },
    {
     "name": "stderr",
     "output_type": "stream",
     "text": [
      "2025-06-21 14:02:00 - INFO - \n",
      "=== Starting Epoch 85 ===\n",
      "\n"
     ]
    },
    {
     "name": "stdout",
     "output_type": "stream",
     "text": [
      "Epoch 85/100\n",
      "\u001b[1m813/813\u001b[0m \u001b[32m━━━━━━━━━━━━━━━━━━━━\u001b[0m\u001b[37m\u001b[0m \u001b[1m0s\u001b[0m 224ms/step - accuracy: 0.9521 - auc: 0.9531 - f1_score: 0.6209 - loss: 0.0305 - precision: 0.7747 - recall: 0.5436  "
     ]
    },
    {
     "name": "stderr",
     "output_type": "stream",
     "text": [
      "2025-06-21 14:05:13 - INFO - \n",
      "=== Epoch 85 Summary ===\n",
      "2025-06-21 14:05:13 - INFO - Time: 192.12s\n",
      "2025-06-21 14:05:13 - INFO - Training   - accuracy: 0.9523 - auc: 0.9537 - f1_score: 0.6213 - loss: 0.0304 - precision: 0.7741 - recall: 0.5449 - learning_rate: 0.0000\n",
      "2025-06-21 14:05:13 - INFO - Validation - accuracy: 0.9312 - auc: 0.7547 - f1_score: 0.2415 - loss: 0.0820 - precision: 0.3172 - recall: 0.2099\n",
      "2025-06-21 14:05:13 - INFO - ==================================================\n",
      "\n"
     ]
    },
    {
     "name": "stdout",
     "output_type": "stream",
     "text": [
      "\u001b[1m813/813\u001b[0m \u001b[32m━━━━━━━━━━━━━━━━━━━━\u001b[0m\u001b[37m\u001b[0m \u001b[1m192s\u001b[0m 236ms/step - accuracy: 0.9521 - auc: 0.9531 - f1_score: 0.6209 - loss: 0.0305 - precision: 0.7747 - recall: 0.5436 - val_accuracy: 0.9312 - val_auc: 0.7547 - val_f1_score: 0.2415 - val_loss: 0.0820 - val_precision: 0.3172 - val_recall: 0.2099 - learning_rate: 1.0000e-06\n"
     ]
    },
    {
     "name": "stderr",
     "output_type": "stream",
     "text": [
      "2025-06-21 14:05:13 - INFO - \n",
      "=== Starting Epoch 86 ===\n",
      "\n"
     ]
    },
    {
     "name": "stdout",
     "output_type": "stream",
     "text": [
      "Epoch 86/100\n",
      "\u001b[1m813/813\u001b[0m \u001b[32m━━━━━━━━━━━━━━━━━━━━\u001b[0m\u001b[37m\u001b[0m \u001b[1m0s\u001b[0m 230ms/step - accuracy: 0.9519 - auc: 0.9542 - f1_score: 0.6209 - loss: 0.0305 - precision: 0.7762 - recall: 0.5433  "
     ]
    },
    {
     "name": "stderr",
     "output_type": "stream",
     "text": [
      "2025-06-21 14:08:29 - INFO - \n",
      "=== Epoch 86 Summary ===\n",
      "2025-06-21 14:08:29 - INFO - Time: 196.81s\n",
      "2025-06-21 14:08:29 - INFO - Training   - accuracy: 0.9526 - auc: 0.9548 - f1_score: 0.6251 - loss: 0.0303 - precision: 0.7794 - recall: 0.5479 - learning_rate: 0.0000\n",
      "2025-06-21 14:08:29 - INFO - Validation - accuracy: 0.9316 - auc: 0.7554 - f1_score: 0.2371 - loss: 0.0813 - precision: 0.3185 - recall: 0.2057\n",
      "2025-06-21 14:08:29 - INFO - ==================================================\n",
      "\n"
     ]
    },
    {
     "name": "stdout",
     "output_type": "stream",
     "text": [
      "\u001b[1m813/813\u001b[0m \u001b[32m━━━━━━━━━━━━━━━━━━━━\u001b[0m\u001b[37m\u001b[0m \u001b[1m197s\u001b[0m 242ms/step - accuracy: 0.9519 - auc: 0.9542 - f1_score: 0.6209 - loss: 0.0305 - precision: 0.7762 - recall: 0.5433 - val_accuracy: 0.9316 - val_auc: 0.7554 - val_f1_score: 0.2371 - val_loss: 0.0813 - val_precision: 0.3185 - val_recall: 0.2057 - learning_rate: 1.0000e-06\n"
     ]
    },
    {
     "name": "stderr",
     "output_type": "stream",
     "text": [
      "2025-06-21 14:08:29 - INFO - \n",
      "=== Starting Epoch 87 ===\n",
      "\n"
     ]
    },
    {
     "name": "stdout",
     "output_type": "stream",
     "text": [
      "Epoch 87/100\n",
      "\u001b[1m813/813\u001b[0m \u001b[32m━━━━━━━━━━━━━━━━━━━━\u001b[0m\u001b[37m\u001b[0m \u001b[1m0s\u001b[0m 229ms/step - accuracy: 0.9528 - auc: 0.9544 - f1_score: 0.6250 - loss: 0.0302 - precision: 0.7774 - recall: 0.5484  "
     ]
    },
    {
     "name": "stderr",
     "output_type": "stream",
     "text": [
      "2025-06-21 14:11:45 - INFO - \n",
      "=== Epoch 87 Summary ===\n",
      "2025-06-21 14:11:45 - INFO - Time: 196.12s\n",
      "2025-06-21 14:11:45 - INFO - Training   - accuracy: 0.9530 - auc: 0.9549 - f1_score: 0.6279 - loss: 0.0301 - precision: 0.7789 - recall: 0.5519 - learning_rate: 0.0000\n",
      "2025-06-21 14:11:45 - INFO - Validation - accuracy: 0.9314 - auc: 0.7552 - f1_score: 0.2466 - loss: 0.0830 - precision: 0.3234 - recall: 0.2191\n",
      "2025-06-21 14:11:45 - INFO - ==================================================\n",
      "\n"
     ]
    },
    {
     "name": "stdout",
     "output_type": "stream",
     "text": [
      "\u001b[1m813/813\u001b[0m \u001b[32m━━━━━━━━━━━━━━━━━━━━\u001b[0m\u001b[37m\u001b[0m \u001b[1m196s\u001b[0m 241ms/step - accuracy: 0.9528 - auc: 0.9544 - f1_score: 0.6250 - loss: 0.0302 - precision: 0.7774 - recall: 0.5485 - val_accuracy: 0.9314 - val_auc: 0.7552 - val_f1_score: 0.2466 - val_loss: 0.0830 - val_precision: 0.3234 - val_recall: 0.2191 - learning_rate: 1.0000e-06\n"
     ]
    },
    {
     "name": "stderr",
     "output_type": "stream",
     "text": [
      "2025-06-21 14:11:45 - INFO - \n",
      "=== Starting Epoch 88 ===\n",
      "\n"
     ]
    },
    {
     "name": "stdout",
     "output_type": "stream",
     "text": [
      "Epoch 88/100\n",
      "\u001b[1m813/813\u001b[0m \u001b[32m━━━━━━━━━━━━━━━━━━━━\u001b[0m\u001b[37m\u001b[0m \u001b[1m0s\u001b[0m 229ms/step - accuracy: 0.9525 - auc: 0.9548 - f1_score: 0.6253 - loss: 0.0302 - precision: 0.7774 - recall: 0.5493  "
     ]
    },
    {
     "name": "stderr",
     "output_type": "stream",
     "text": [
      "2025-06-21 14:15:02 - INFO - \n",
      "=== Epoch 88 Summary ===\n",
      "2025-06-21 14:15:02 - INFO - Time: 196.06s\n",
      "2025-06-21 14:15:02 - INFO - Training   - accuracy: 0.9527 - auc: 0.9549 - f1_score: 0.6267 - loss: 0.0301 - precision: 0.7767 - recall: 0.5511 - learning_rate: 0.0000\n",
      "2025-06-21 14:15:02 - INFO - Validation - accuracy: 0.9312 - auc: 0.7536 - f1_score: 0.2478 - loss: 0.0828 - precision: 0.3206 - recall: 0.2169\n",
      "2025-06-21 14:15:02 - INFO - ==================================================\n",
      "\n"
     ]
    },
    {
     "name": "stdout",
     "output_type": "stream",
     "text": [
      "\u001b[1m813/813\u001b[0m \u001b[32m━━━━━━━━━━━━━━━━━━━━\u001b[0m\u001b[37m\u001b[0m \u001b[1m196s\u001b[0m 241ms/step - accuracy: 0.9525 - auc: 0.9548 - f1_score: 0.6253 - loss: 0.0302 - precision: 0.7774 - recall: 0.5493 - val_accuracy: 0.9312 - val_auc: 0.7536 - val_f1_score: 0.2478 - val_loss: 0.0828 - val_precision: 0.3206 - val_recall: 0.2169 - learning_rate: 1.0000e-06\n"
     ]
    },
    {
     "name": "stderr",
     "output_type": "stream",
     "text": [
      "2025-06-21 14:15:02 - INFO - \n",
      "=== Starting Epoch 89 ===\n",
      "\n"
     ]
    },
    {
     "name": "stdout",
     "output_type": "stream",
     "text": [
      "Epoch 89/100\n",
      "\u001b[1m813/813\u001b[0m \u001b[32m━━━━━━━━━━━━━━━━━━━━\u001b[0m\u001b[37m\u001b[0m \u001b[1m0s\u001b[0m 224ms/step - accuracy: 0.9529 - auc: 0.9556 - f1_score: 0.6280 - loss: 0.0301 - precision: 0.7775 - recall: 0.5529  "
     ]
    },
    {
     "name": "stderr",
     "output_type": "stream",
     "text": [
      "2025-06-21 14:18:13 - INFO - \n",
      "=== Epoch 89 Summary ===\n",
      "2025-06-21 14:18:13 - INFO - Time: 191.93s\n",
      "2025-06-21 14:18:13 - INFO - Training   - accuracy: 0.9533 - auc: 0.9561 - f1_score: 0.6312 - loss: 0.0299 - precision: 0.7803 - recall: 0.5560 - learning_rate: 0.0000\n",
      "2025-06-21 14:18:13 - INFO - Validation - accuracy: 0.9316 - auc: 0.7551 - f1_score: 0.2404 - loss: 0.0804 - precision: 0.3209 - recall: 0.2110\n",
      "2025-06-21 14:18:13 - INFO - ==================================================\n",
      "\n"
     ]
    },
    {
     "name": "stdout",
     "output_type": "stream",
     "text": [
      "\u001b[1m813/813\u001b[0m \u001b[32m━━━━━━━━━━━━━━━━━━━━\u001b[0m\u001b[37m\u001b[0m \u001b[1m192s\u001b[0m 236ms/step - accuracy: 0.9529 - auc: 0.9556 - f1_score: 0.6280 - loss: 0.0301 - precision: 0.7775 - recall: 0.5529 - val_accuracy: 0.9316 - val_auc: 0.7551 - val_f1_score: 0.2404 - val_loss: 0.0804 - val_precision: 0.3209 - val_recall: 0.2110 - learning_rate: 1.0000e-06\n"
     ]
    },
    {
     "name": "stderr",
     "output_type": "stream",
     "text": [
      "2025-06-21 14:18:13 - INFO - \n",
      "=== Starting Epoch 90 ===\n",
      "\n"
     ]
    },
    {
     "name": "stdout",
     "output_type": "stream",
     "text": [
      "Epoch 90/100\n",
      "\u001b[1m813/813\u001b[0m \u001b[32m━━━━━━━━━━━━━━━━━━━━\u001b[0m\u001b[37m\u001b[0m \u001b[1m0s\u001b[0m 230ms/step - accuracy: 0.9529 - auc: 0.9554 - f1_score: 0.6294 - loss: 0.0301 - precision: 0.7824 - recall: 0.5521  "
     ]
    },
    {
     "name": "stderr",
     "output_type": "stream",
     "text": [
      "2025-06-21 14:21:31 - INFO - \n",
      "=== Epoch 90 Summary ===\n",
      "2025-06-21 14:21:31 - INFO - Time: 197.53s\n",
      "2025-06-21 14:21:31 - INFO - Training   - accuracy: 0.9531 - auc: 0.9553 - f1_score: 0.6298 - loss: 0.0300 - precision: 0.7784 - recall: 0.5542 - learning_rate: 0.0000\n",
      "2025-06-21 14:21:31 - INFO - Validation - accuracy: 0.9320 - auc: 0.7561 - f1_score: 0.2408 - loss: 0.0812 - precision: 0.3246 - recall: 0.2102\n",
      "2025-06-21 14:21:31 - INFO - ==================================================\n",
      "\n"
     ]
    },
    {
     "name": "stdout",
     "output_type": "stream",
     "text": [
      "\u001b[1m813/813\u001b[0m \u001b[32m━━━━━━━━━━━━━━━━━━━━\u001b[0m\u001b[37m\u001b[0m \u001b[1m198s\u001b[0m 243ms/step - accuracy: 0.9529 - auc: 0.9554 - f1_score: 0.6294 - loss: 0.0301 - precision: 0.7824 - recall: 0.5521 - val_accuracy: 0.9320 - val_auc: 0.7561 - val_f1_score: 0.2408 - val_loss: 0.0812 - val_precision: 0.3246 - val_recall: 0.2102 - learning_rate: 1.0000e-06\n"
     ]
    },
    {
     "name": "stderr",
     "output_type": "stream",
     "text": [
      "2025-06-21 14:21:31 - INFO - \n",
      "=== Starting Epoch 91 ===\n",
      "\n"
     ]
    },
    {
     "name": "stdout",
     "output_type": "stream",
     "text": [
      "Epoch 91/100\n",
      "\u001b[1m813/813\u001b[0m \u001b[32m━━━━━━━━━━━━━━━━━━━━\u001b[0m\u001b[37m\u001b[0m \u001b[1m0s\u001b[0m 229ms/step - accuracy: 0.9526 - auc: 0.9555 - f1_score: 0.6294 - loss: 0.0302 - precision: 0.7809 - recall: 0.5529  "
     ]
    },
    {
     "name": "stderr",
     "output_type": "stream",
     "text": [
      "2025-06-21 14:24:48 - INFO - \n",
      "=== Epoch 91 Summary ===\n",
      "2025-06-21 14:24:48 - INFO - Time: 197.12s\n",
      "2025-06-21 14:24:48 - INFO - Training   - accuracy: 0.9532 - auc: 0.9562 - f1_score: 0.6321 - loss: 0.0299 - precision: 0.7801 - recall: 0.5568 - learning_rate: 0.0000\n",
      "2025-06-21 14:24:48 - INFO - Validation - accuracy: 0.9299 - auc: 0.7543 - f1_score: 0.2487 - loss: 0.0829 - precision: 0.3138 - recall: 0.2245\n",
      "2025-06-21 14:24:48 - INFO - ==================================================\n",
      "\n"
     ]
    },
    {
     "name": "stdout",
     "output_type": "stream",
     "text": [
      "\u001b[1m813/813\u001b[0m \u001b[32m━━━━━━━━━━━━━━━━━━━━\u001b[0m\u001b[37m\u001b[0m \u001b[1m197s\u001b[0m 242ms/step - accuracy: 0.9526 - auc: 0.9555 - f1_score: 0.6294 - loss: 0.0302 - precision: 0.7809 - recall: 0.5529 - val_accuracy: 0.9299 - val_auc: 0.7543 - val_f1_score: 0.2487 - val_loss: 0.0829 - val_precision: 0.3138 - val_recall: 0.2245 - learning_rate: 1.0000e-06\n"
     ]
    },
    {
     "name": "stderr",
     "output_type": "stream",
     "text": [
      "2025-06-21 14:24:48 - INFO - \n",
      "=== Starting Epoch 92 ===\n",
      "\n"
     ]
    },
    {
     "name": "stdout",
     "output_type": "stream",
     "text": [
      "Epoch 92/100\n",
      "\u001b[1m813/813\u001b[0m \u001b[32m━━━━━━━━━━━━━━━━━━━━\u001b[0m\u001b[37m\u001b[0m \u001b[1m0s\u001b[0m 228ms/step - accuracy: 0.9538 - auc: 0.9564 - f1_score: 0.6355 - loss: 0.0297 - precision: 0.7856 - recall: 0.5594  "
     ]
    },
    {
     "name": "stderr",
     "output_type": "stream",
     "text": [
      "2025-06-21 14:28:03 - INFO - \n",
      "=== Epoch 92 Summary ===\n",
      "2025-06-21 14:28:03 - INFO - Time: 195.15s\n",
      "2025-06-21 14:28:03 - INFO - Training   - accuracy: 0.9537 - auc: 0.9570 - f1_score: 0.6359 - loss: 0.0296 - precision: 0.7821 - recall: 0.5612 - learning_rate: 0.0000\n",
      "2025-06-21 14:28:03 - INFO - Validation - accuracy: 0.9304 - auc: 0.7546 - f1_score: 0.2467 - loss: 0.0831 - precision: 0.3151 - recall: 0.2181\n",
      "2025-06-21 14:28:03 - INFO - ==================================================\n",
      "\n"
     ]
    },
    {
     "name": "stdout",
     "output_type": "stream",
     "text": [
      "\u001b[1m813/813\u001b[0m \u001b[32m━━━━━━━━━━━━━━━━━━━━\u001b[0m\u001b[37m\u001b[0m \u001b[1m195s\u001b[0m 240ms/step - accuracy: 0.9538 - auc: 0.9564 - f1_score: 0.6355 - loss: 0.0297 - precision: 0.7856 - recall: 0.5594 - val_accuracy: 0.9304 - val_auc: 0.7546 - val_f1_score: 0.2467 - val_loss: 0.0831 - val_precision: 0.3151 - val_recall: 0.2181 - learning_rate: 1.0000e-06\n"
     ]
    },
    {
     "name": "stderr",
     "output_type": "stream",
     "text": [
      "2025-06-21 14:28:03 - INFO - \n",
      "=== Starting Epoch 93 ===\n",
      "\n"
     ]
    },
    {
     "name": "stdout",
     "output_type": "stream",
     "text": [
      "Epoch 93/100\n",
      "\u001b[1m813/813\u001b[0m \u001b[32m━━━━━━━━━━━━━━━━━━━━\u001b[0m\u001b[37m\u001b[0m \u001b[1m0s\u001b[0m 221ms/step - accuracy: 0.9539 - auc: 0.9567 - f1_score: 0.6380 - loss: 0.0297 - precision: 0.7850 - recall: 0.5625  "
     ]
    },
    {
     "name": "stderr",
     "output_type": "stream",
     "text": [
      "2025-06-21 14:31:14 - INFO - \n",
      "=== Epoch 93 Summary ===\n",
      "2025-06-21 14:31:14 - INFO - Time: 190.39s\n",
      "2025-06-21 14:31:14 - INFO - Training   - accuracy: 0.9538 - auc: 0.9569 - f1_score: 0.6376 - loss: 0.0296 - precision: 0.7832 - recall: 0.5625 - learning_rate: 0.0000\n",
      "2025-06-21 14:31:14 - INFO - Validation - accuracy: 0.9306 - auc: 0.7555 - f1_score: 0.2454 - loss: 0.0828 - precision: 0.3157 - recall: 0.2174\n",
      "2025-06-21 14:31:14 - INFO - ==================================================\n",
      "\n"
     ]
    },
    {
     "name": "stdout",
     "output_type": "stream",
     "text": [
      "\u001b[1m813/813\u001b[0m \u001b[32m━━━━━━━━━━━━━━━━━━━━\u001b[0m\u001b[37m\u001b[0m \u001b[1m190s\u001b[0m 234ms/step - accuracy: 0.9539 - auc: 0.9567 - f1_score: 0.6380 - loss: 0.0297 - precision: 0.7850 - recall: 0.5625 - val_accuracy: 0.9306 - val_auc: 0.7555 - val_f1_score: 0.2454 - val_loss: 0.0828 - val_precision: 0.3157 - val_recall: 0.2174 - learning_rate: 1.0000e-06\n"
     ]
    },
    {
     "name": "stderr",
     "output_type": "stream",
     "text": [
      "2025-06-21 14:31:14 - INFO - \n",
      "=== Training Completed! ===\n",
      "\n",
      "2025-06-21 14:31:14 - INFO - Final Metrics: accuracy: 0.9538 - auc: 0.9569 - f1_score: 0.6376 - loss: 0.0296 - precision: 0.7832 - recall: 0.5625 - val_accuracy: 0.9306 - val_auc: 0.7555 - val_f1_score: 0.2454 - val_loss: 0.0828 - val_precision: 0.3157 - val_recall: 0.2174\n",
      "\n"
     ]
    },
    {
     "name": "stdout",
     "output_type": "stream",
     "text": [
      "Epoch 93: early stopping\n",
      "Restoring model weights from the end of the best epoch: 78.\n"
     ]
    }
   ],
   "source": [
    "# Model Training\n",
    "model          = build_densenet121(num_classes, use_se=False, use_eca=False, use_gam=True, layer_attention=False, ratio=16, channel_blocks=[0, 1, 2, 3])\n",
    "optimizer      = Adam(learning_rate=1e-4)\n",
    "compile_kwargs = {'optimizer': optimizer, 'loss': loss, 'metrics': metrics}\n",
    "\n",
    "history, model = start_or_resume_training(\n",
    "    model, \n",
    "    compile_kwargs, \n",
    "    train_ds, \n",
    "    val_ds, \n",
    "    TF_MAX_EPOCHS,\n",
    "    steps_per_epoch, \n",
    "    validation_steps, \n",
    "    class_weights=class_weights,\n",
    "    callbacks=[checkpoint, best_checkpoint, reduce_lr, training_logger, metrics_monitor, early_stopping], \n",
    "    checkpoint_path=checkpoint_path,\n",
    "    initial_epoch=initial_epoch,\n",
    "    output_dir=MODELS_PATH,\n",
    "    model_name=model_name,\n",
    "    logger=logger\n",
    ")"
   ]
  },
  {
   "cell_type": "code",
   "execution_count": null,
   "id": "bc1cfabb-2436-4f20-8c4e-fc885bbef064",
   "metadata": {},
   "outputs": [],
   "source": []
  }
 ],
 "metadata": {
  "kernelspec": {
   "display_name": "Python 3 (ipykernel)",
   "language": "python",
   "name": "python3"
  },
  "language_info": {
   "codemirror_mode": {
    "name": "ipython",
    "version": 3
   },
   "file_extension": ".py",
   "mimetype": "text/x-python",
   "name": "python",
   "nbconvert_exporter": "python",
   "pygments_lexer": "ipython3",
   "version": "3.10.16"
  }
 },
 "nbformat": 4,
 "nbformat_minor": 5
}
