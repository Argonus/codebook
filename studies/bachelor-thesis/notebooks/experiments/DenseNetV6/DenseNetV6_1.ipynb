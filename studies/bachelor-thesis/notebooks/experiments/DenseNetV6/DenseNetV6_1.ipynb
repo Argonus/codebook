{
 "cells": [
  {
   "cell_type": "code",
   "execution_count": 1,
   "id": "b694919a-9b18-4068-8e69-7258de889dff",
   "metadata": {},
   "outputs": [
    {
     "name": "stderr",
     "output_type": "stream",
     "text": [
      "2025-06-19 08:52:22.806461: E external/local_xla/xla/stream_executor/cuda/cuda_fft.cc:467] Unable to register cuFFT factory: Attempting to register factory for plugin cuFFT when one has already been registered\n",
      "WARNING: All log messages before absl::InitializeLog() is called are written to STDERR\n",
      "E0000 00:00:1750315942.885853    3449 cuda_dnn.cc:8579] Unable to register cuDNN factory: Attempting to register factory for plugin cuDNN when one has already been registered\n",
      "E0000 00:00:1750315942.909566    3449 cuda_blas.cc:1407] Unable to register cuBLAS factory: Attempting to register factory for plugin cuBLAS when one has already been registered\n",
      "W0000 00:00:1750315943.098728    3449 computation_placer.cc:177] computation placer already registered. Please check linkage and avoid linking the same target more than once.\n",
      "W0000 00:00:1750315943.098736    3449 computation_placer.cc:177] computation placer already registered. Please check linkage and avoid linking the same target more than once.\n",
      "W0000 00:00:1750315943.098738    3449 computation_placer.cc:177] computation placer already registered. Please check linkage and avoid linking the same target more than once.\n",
      "W0000 00:00:1750315943.098738    3449 computation_placer.cc:177] computation placer already registered. Please check linkage and avoid linking the same target more than once.\n"
     ]
    },
    {
     "name": "stdout",
     "output_type": "stream",
     "text": [
      "\n",
      "GPU configuration successful!\n",
      "Device: /physical_device:GPU:0\n",
      "Memory limit: 18.0 GB\n",
      "\n",
      "TensorFlow optimizations status:\n",
      "- CPU Threads: 16 intra-op, 9 inter-op (32 cores total)\n",
      "- XLA JIT: enabled (autoclustering)\n",
      "- Synchronous Execution: enabled\n",
      "\n",
      "GPU Device Details:\n",
      "- Device: GPU /physical_device:GPU:0\n",
      "- Memory limit: 18.0 GB\n"
     ]
    },
    {
     "name": "stderr",
     "output_type": "stream",
     "text": [
      "I0000 00:00:1750315946.397743    3449 gpu_process_state.cc:208] Using CUDA malloc Async allocator for GPU: 0\n",
      "I0000 00:00:1750315946.398515    3449 gpu_device.cc:2019] Created device /job:localhost/replica:0/task:0/device:GPU:0 with 19327352832 MB memory:  -> device: 0, name: NVIDIA GeForce RTX 3090 Ti, pci bus id: 0000:01:00.0, compute capability: 8.6\n"
     ]
    }
   ],
   "source": [
    "# Import dependencies\n",
    "import os\n",
    "\n",
    "os.environ['TF_CPP_MIN_VLOG_LEVEL'] = '0'\n",
    "os.environ['TF_CPP_MIN_LOG_LEVEL'] = '2'\n",
    "os.environ['TF_GPU_ALLOCATOR'] = 'cuda_malloc_async'\n",
    "os.environ['TF_FORCE_GPU_ALLOW_GROWTH'] = 'true'\n",
    "\n",
    "from src.utils.gpu_config import configure_gpu, optimize_tensorflow\n",
    "\n",
    "configure_gpu()\n",
    "optimize_tensorflow()"
   ]
  },
  {
   "cell_type": "code",
   "execution_count": 2,
   "id": "2b854daf-5f2a-4c33-9180-5081cd415b16",
   "metadata": {},
   "outputs": [],
   "source": [
    "# Import Tensorflow Keras\n",
    "from tensorflow.keras.optimizers import Adam\n",
    "from tensorflow.keras.losses import BinaryFocalCrossentropy\n",
    "from tensorflow.keras.callbacks import ReduceLROnPlateau, ModelCheckpoint\n",
    "\n",
    "# Import local modules\n",
    "from src.utils.consts import TF_RECORD_DATASET, MODELS_PATH, TF_BUFFER_SIZE, TF_SHUFFLE_SIZE, TF_BATCH_SIZE, TF_MAX_EPOCHS\n",
    "from src.model.tensorflow_utils import load_dataset, optimize_dataset, count_dataset_size, get_num_classes, get_metrics\n",
    "from src.model.tensorflow_utils import setup_logger, setup_training_logger, setup_metrics_monitor, setup_early_stopping, filter_no_finding_class\n",
    "from src.model.tensorflow_utils import start_or_resume_training, apply_augmentation_to_dataset, calculate_class_weights, oversample_minority_classes\n",
    "from src.model.densnet.tensorflow_dense_net_121 import build_densenet121\n",
    "\n",
    "# Input Data\n",
    "initial_epoch   = 83\n",
    "resume_training = True\n",
    "checkpoint_path = '/home/piotr/Pulpit/codebook/studies/bachelor-thesis/models/DenseNetV6_1/checkpoints/cp-0082.keras'\n",
    "set_name        = \"DenseNetV6\"\n",
    "model_name      = f\"{set_name}_1\"\n",
    "num_classes     = get_num_classes()\n",
    "\n",
    "train_ds = load_dataset(f\"{TF_RECORD_DATASET}/train.tfrecord\", TF_BUFFER_SIZE)\n",
    "val_ds   = load_dataset(f\"{TF_RECORD_DATASET}/val.tfrecord\", TF_BUFFER_SIZE)\n",
    "\n",
    "train_ds = filter_no_finding_class(train_ds)\n",
    "val_ds   = filter_no_finding_class(val_ds)\n",
    "\n",
    "class_weights = calculate_class_weights(train_ds, num_classes)\n",
    "train_ds      = oversample_minority_classes(train_ds, class_weights)\n",
    "class_weights = calculate_class_weights(train_ds, num_classes)"
   ]
  },
  {
   "cell_type": "code",
   "execution_count": 3,
   "id": "5f152b8a-8ff8-4095-9815-e304ce2beb52",
   "metadata": {},
   "outputs": [
    {
     "name": "stderr",
     "output_type": "stream",
     "text": [
      "Counting samples: 104166 samples [00:36, 2866.33 samples/s] \n",
      "Counting samples: 15431 samples [00:09, 1695.75 samples/s]\n"
     ]
    }
   ],
   "source": [
    "steps_per_epoch  = int(count_dataset_size(train_ds, None) / TF_BATCH_SIZE)\n",
    "validation_steps = int(count_dataset_size(val_ds, None) / TF_BATCH_SIZE)\n",
    "\n",
    "# Disable Advanced Augmentations\n",
    "probability = {\n",
    "    \"intensity_scaling\": 0,\n",
    "    \"adaptive_histogram\": 0,\n",
    "    \"zoom\": 0,\n",
    "    \"cutout\": 0\n",
    "}\n",
    "\n",
    "train_ds = train_ds.shuffle(TF_SHUFFLE_SIZE, reshuffle_each_iteration=True)\n",
    "train_ds = apply_augmentation_to_dataset(train_ds, probability)\n",
    "train_ds = optimize_dataset(train_ds, TF_BATCH_SIZE)\n",
    "\n",
    "val_ds   = optimize_dataset(val_ds, TF_BATCH_SIZE)"
   ]
  },
  {
   "cell_type": "code",
   "execution_count": 4,
   "id": "3a0e37c9-b178-40d8-bd25-8c0a6498564a",
   "metadata": {},
   "outputs": [
    {
     "name": "stderr",
     "output_type": "stream",
     "text": [
      "2025-06-19 08:54:30 - INFO - Resuming from existing metrics file: /home/piotr/Pulpit/codebook/studies/bachelor-thesis/models/DenseNetV6_1/train_metrics.csv\n",
      "2025-06-19 08:54:30 - INFO - Resuming from existing validation metrics file: /home/piotr/Pulpit/codebook/studies/bachelor-thesis/models/DenseNetV6_1/val_metrics.csv\n",
      "2025-06-19 08:54:30 - INFO - Cleaned training metrics file, kept 66666 records before epoch 83\n",
      "2025-06-19 08:54:30 - INFO - Cleaned validation metrics file, kept 82 records before epoch 83\n",
      "2025-06-19 08:54:30 - INFO - Found 66666 existing training records\n",
      "2025-06-19 08:54:30 - INFO - Found 82 existing validation records\n"
     ]
    }
   ],
   "source": [
    "# Setup Model Deps\n",
    "logger            = setup_logger()\n",
    "training_logger   = setup_training_logger(logger, TF_BATCH_SIZE, 100)\n",
    "metrics_monitor   = setup_metrics_monitor(MODELS_PATH, model_name, logger, resume_training=resume_training, initial_epoch=initial_epoch)\n",
    "metrics           = get_metrics()\n",
    "\n",
    "# Setup compile arguments\n",
    "loss           = BinaryFocalCrossentropy(gamma=2.0, from_logits=False, label_smoothing=0.05)\n",
    "reduce_lr      = ReduceLROnPlateau(monitor=\"val_f1_score\", factor=0.5,  patience=3, min_lr=1e-6, mode=\"max\", verbose=1)\n",
    "early_stopping = setup_early_stopping()\n",
    "\n",
    "epoch_mode           = 'cp-{epoch:04d}'\n",
    "save_checkpoint_path = f\"{MODELS_PATH}/{model_name}/checkpoints/{epoch_mode}.keras\"\n",
    "checkpoint           = ModelCheckpoint(save_checkpoint_path, monitor=\"val_f1_score\", save_best_only=False, mode=\"max\", save_weights_only=False)\n",
    "\n",
    "model_path      = f\"{MODELS_PATH}/{model_name}.keras\"\n",
    "best_checkpoint = ModelCheckpoint(model_path, monitor=\"val_f1_score\", save_best_only=True, mode=\"max\", save_weights_only=False)"
   ]
  },
  {
   "cell_type": "code",
   "execution_count": 5,
   "id": "c44d4a9a-ffbb-4917-a702-c35773b9857c",
   "metadata": {},
   "outputs": [
    {
     "name": "stderr",
     "output_type": "stream",
     "text": [
      "2025-06-19 08:54:31 - INFO - Resuming training from checkpoint: /home/piotr/Pulpit/codebook/studies/bachelor-thesis/models/DenseNetV6_1/checkpoints/cp-0082.keras\n",
      "2025-06-19 08:54:33 - INFO - Resuming from existing metrics file: /home/piotr/Pulpit/codebook/studies/bachelor-thesis/models/DenseNetV6_1/train_metrics.csv\n",
      "2025-06-19 08:54:33 - INFO - Resuming from existing validation metrics file: /home/piotr/Pulpit/codebook/studies/bachelor-thesis/models/DenseNetV6_1/val_metrics.csv\n",
      "2025-06-19 08:54:33 - INFO - Cleaned training metrics file, kept 66666 records before epoch 83\n",
      "2025-06-19 08:54:33 - INFO - Cleaned validation metrics file, kept 82 records before epoch 83\n",
      "2025-06-19 08:54:33 - INFO - Found 66666 existing training records\n",
      "2025-06-19 08:54:33 - INFO - Found 82 existing validation records\n",
      "2025-06-19 08:54:33 - INFO - \n",
      "=== Training Started ===\n",
      "\n",
      "2025-06-19 08:54:33 - INFO - Batch Size: 128\n",
      "2025-06-19 08:54:33 - INFO - Optimizer: Adam\n",
      "2025-06-19 08:54:33 - INFO - \n",
      "==================================================\n",
      "\n",
      "2025-06-19 08:54:33 - INFO - \n",
      "=== Starting Epoch 83 ===\n",
      "\n"
     ]
    },
    {
     "name": "stdout",
     "output_type": "stream",
     "text": [
      "Epoch 83/100\n"
     ]
    },
    {
     "name": "stderr",
     "output_type": "stream",
     "text": [
      "WARNING: All log messages before absl::InitializeLog() is called are written to STDERR\n",
      "I0000 00:00:1750316093.133774    4106 service.cc:152] XLA service 0x7a0c30047e40 initialized for platform CUDA (this does not guarantee that XLA will be used). Devices:\n",
      "I0000 00:00:1750316093.133847    4106 service.cc:160]   StreamExecutor device (0): NVIDIA GeForce RTX 3090 Ti, Compute Capability 8.6\n",
      "I0000 00:00:1750316098.516433    4106 cuda_dnn.cc:529] Loaded cuDNN version 90300\n",
      "I0000 00:00:1750316162.386925    4106 device_compiler.h:188] Compiled cluster using XLA!  This line is logged at most once for the lifetime of the process.\n"
     ]
    },
    {
     "name": "stdout",
     "output_type": "stream",
     "text": [
      "\u001b[1m813/813\u001b[0m \u001b[32m━━━━━━━━━━━━━━━━━━━━\u001b[0m\u001b[37m\u001b[0m \u001b[1m0s\u001b[0m 216ms/step - accuracy: 0.9565 - auc: 0.9629 - f1_score: 0.6667 - loss: 0.0232 - precision: 0.7960 - recall: 0.5944  "
     ]
    },
    {
     "name": "stderr",
     "output_type": "stream",
     "text": [
      "2025-06-19 08:59:18 - INFO - \n",
      "=== Epoch 83 Summary ===\n",
      "2025-06-19 08:59:18 - INFO - Time: 285.20s\n",
      "2025-06-19 08:59:18 - INFO - Training   - accuracy: 0.9567 - auc: 0.9633 - f1_score: 0.6678 - loss: 0.0231 - precision: 0.7964 - recall: 0.5963 - learning_rate: 0.0000\n",
      "2025-06-19 08:59:18 - INFO - Validation - accuracy: 0.9323 - auc: 0.7504 - f1_score: 0.2372 - loss: 0.0787 - precision: 0.3190 - recall: 0.1956\n",
      "2025-06-19 08:59:18 - INFO - ==================================================\n",
      "\n"
     ]
    },
    {
     "name": "stdout",
     "output_type": "stream",
     "text": [
      "\u001b[1m813/813\u001b[0m \u001b[32m━━━━━━━━━━━━━━━━━━━━\u001b[0m\u001b[37m\u001b[0m \u001b[1m285s\u001b[0m 242ms/step - accuracy: 0.9565 - auc: 0.9629 - f1_score: 0.6667 - loss: 0.0232 - precision: 0.7960 - recall: 0.5944 - val_accuracy: 0.9323 - val_auc: 0.7504 - val_f1_score: 0.2372 - val_loss: 0.0787 - val_precision: 0.3190 - val_recall: 0.1956 - learning_rate: 1.0000e-06\n"
     ]
    },
    {
     "name": "stderr",
     "output_type": "stream",
     "text": [
      "2025-06-19 08:59:18 - INFO - \n",
      "=== Starting Epoch 84 ===\n",
      "\n"
     ]
    },
    {
     "name": "stdout",
     "output_type": "stream",
     "text": [
      "Epoch 84/100\n",
      "\u001b[1m813/813\u001b[0m \u001b[32m━━━━━━━━━━━━━━━━━━━━\u001b[0m\u001b[37m\u001b[0m \u001b[1m0s\u001b[0m 219ms/step - accuracy: 0.9565 - auc: 0.9629 - f1_score: 0.6658 - loss: 0.0232 - precision: 0.7962 - recall: 0.5940  "
     ]
    },
    {
     "name": "stderr",
     "output_type": "stream",
     "text": [
      "2025-06-19 09:03:33 - INFO - \n",
      "=== Epoch 84 Summary ===\n",
      "2025-06-19 09:03:33 - INFO - Time: 254.32s\n",
      "2025-06-19 09:03:33 - INFO - Training   - accuracy: 0.9569 - auc: 0.9638 - f1_score: 0.6691 - loss: 0.0229 - precision: 0.7979 - recall: 0.5979 - learning_rate: 0.0000\n",
      "2025-06-19 09:03:33 - INFO - Validation - accuracy: 0.9293 - auc: 0.7548 - f1_score: 0.2681 - loss: 0.0773 - precision: 0.3226 - recall: 0.2521\n",
      "2025-06-19 09:03:33 - INFO - ==================================================\n",
      "\n"
     ]
    },
    {
     "name": "stdout",
     "output_type": "stream",
     "text": [
      "\u001b[1m813/813\u001b[0m \u001b[32m━━━━━━━━━━━━━━━━━━━━\u001b[0m\u001b[37m\u001b[0m \u001b[1m254s\u001b[0m 238ms/step - accuracy: 0.9565 - auc: 0.9629 - f1_score: 0.6658 - loss: 0.0232 - precision: 0.7962 - recall: 0.5940 - val_accuracy: 0.9293 - val_auc: 0.7548 - val_f1_score: 0.2681 - val_loss: 0.0773 - val_precision: 0.3226 - val_recall: 0.2521 - learning_rate: 1.0000e-06\n"
     ]
    },
    {
     "name": "stderr",
     "output_type": "stream",
     "text": [
      "2025-06-19 09:03:33 - INFO - \n",
      "=== Starting Epoch 85 ===\n",
      "\n"
     ]
    },
    {
     "name": "stdout",
     "output_type": "stream",
     "text": [
      "Epoch 85/100\n",
      "\u001b[1m813/813\u001b[0m \u001b[32m━━━━━━━━━━━━━━━━━━━━\u001b[0m\u001b[37m\u001b[0m \u001b[1m0s\u001b[0m 217ms/step - accuracy: 0.9569 - auc: 0.9635 - f1_score: 0.6712 - loss: 0.0230 - precision: 0.8009 - recall: 0.5986  "
     ]
    },
    {
     "name": "stderr",
     "output_type": "stream",
     "text": [
      "2025-06-19 09:06:38 - INFO - \n",
      "=== Epoch 85 Summary ===\n",
      "2025-06-19 09:06:38 - INFO - Time: 185.63s\n",
      "2025-06-19 09:06:38 - INFO - Training   - accuracy: 0.9572 - auc: 0.9641 - f1_score: 0.6724 - loss: 0.0228 - precision: 0.7985 - recall: 0.6018 - learning_rate: 0.0000\n",
      "2025-06-19 09:06:38 - INFO - Validation - accuracy: 0.9302 - auc: 0.7507 - f1_score: 0.2514 - loss: 0.0775 - precision: 0.3136 - recall: 0.2189\n",
      "2025-06-19 09:06:38 - INFO - ==================================================\n",
      "\n"
     ]
    },
    {
     "name": "stdout",
     "output_type": "stream",
     "text": [
      "\u001b[1m813/813\u001b[0m \u001b[32m━━━━━━━━━━━━━━━━━━━━\u001b[0m\u001b[37m\u001b[0m \u001b[1m186s\u001b[0m 228ms/step - accuracy: 0.9569 - auc: 0.9635 - f1_score: 0.6712 - loss: 0.0230 - precision: 0.8009 - recall: 0.5986 - val_accuracy: 0.9302 - val_auc: 0.7507 - val_f1_score: 0.2514 - val_loss: 0.0775 - val_precision: 0.3136 - val_recall: 0.2189 - learning_rate: 1.0000e-06\n"
     ]
    },
    {
     "name": "stderr",
     "output_type": "stream",
     "text": [
      "2025-06-19 09:06:38 - INFO - \n",
      "=== Starting Epoch 86 ===\n",
      "\n"
     ]
    },
    {
     "name": "stdout",
     "output_type": "stream",
     "text": [
      "Epoch 86/100\n",
      "\u001b[1m813/813\u001b[0m \u001b[32m━━━━━━━━━━━━━━━━━━━━\u001b[0m\u001b[37m\u001b[0m \u001b[1m0s\u001b[0m 231ms/step - accuracy: 0.9571 - auc: 0.9643 - f1_score: 0.6729 - loss: 0.0229 - precision: 0.8014 - recall: 0.6008  "
     ]
    },
    {
     "name": "stderr",
     "output_type": "stream",
     "text": [
      "2025-06-19 09:09:55 - INFO - \n",
      "=== Epoch 86 Summary ===\n",
      "2025-06-19 09:09:55 - INFO - Time: 196.77s\n",
      "2025-06-19 09:09:55 - INFO - Training   - accuracy: 0.9575 - auc: 0.9646 - f1_score: 0.6746 - loss: 0.0227 - precision: 0.8018 - recall: 0.6032 - learning_rate: 0.0000\n",
      "2025-06-19 09:09:55 - INFO - Validation - accuracy: 0.9307 - auc: 0.7506 - f1_score: 0.2532 - loss: 0.0775 - precision: 0.3207 - recall: 0.2246\n",
      "2025-06-19 09:09:55 - INFO - ==================================================\n",
      "\n"
     ]
    },
    {
     "name": "stdout",
     "output_type": "stream",
     "text": [
      "\u001b[1m813/813\u001b[0m \u001b[32m━━━━━━━━━━━━━━━━━━━━\u001b[0m\u001b[37m\u001b[0m \u001b[1m197s\u001b[0m 242ms/step - accuracy: 0.9571 - auc: 0.9643 - f1_score: 0.6729 - loss: 0.0229 - precision: 0.8014 - recall: 0.6008 - val_accuracy: 0.9307 - val_auc: 0.7506 - val_f1_score: 0.2532 - val_loss: 0.0775 - val_precision: 0.3207 - val_recall: 0.2246 - learning_rate: 1.0000e-06\n"
     ]
    },
    {
     "name": "stderr",
     "output_type": "stream",
     "text": [
      "2025-06-19 09:09:55 - INFO - \n",
      "=== Starting Epoch 87 ===\n",
      "\n"
     ]
    },
    {
     "name": "stdout",
     "output_type": "stream",
     "text": [
      "Epoch 87/100\n",
      "\u001b[1m813/813\u001b[0m \u001b[32m━━━━━━━━━━━━━━━━━━━━\u001b[0m\u001b[37m\u001b[0m \u001b[1m0s\u001b[0m 231ms/step - accuracy: 0.9572 - auc: 0.9639 - f1_score: 0.6756 - loss: 0.0229 - precision: 0.8027 - recall: 0.6034  "
     ]
    },
    {
     "name": "stderr",
     "output_type": "stream",
     "text": [
      "2025-06-19 09:13:14 - INFO - \n",
      "=== Epoch 87 Summary ===\n",
      "2025-06-19 09:13:14 - INFO - Time: 198.48s\n",
      "2025-06-19 09:13:14 - INFO - Training   - accuracy: 0.9576 - auc: 0.9644 - f1_score: 0.6760 - loss: 0.0228 - precision: 0.8017 - recall: 0.6048 - learning_rate: 0.0000\n",
      "2025-06-19 09:13:14 - INFO - Validation - accuracy: 0.9299 - auc: 0.7497 - f1_score: 0.2600 - loss: 0.0783 - precision: 0.3183 - recall: 0.2324\n",
      "2025-06-19 09:13:14 - INFO - ==================================================\n",
      "\n"
     ]
    },
    {
     "name": "stdout",
     "output_type": "stream",
     "text": [
      "\u001b[1m813/813\u001b[0m \u001b[32m━━━━━━━━━━━━━━━━━━━━\u001b[0m\u001b[37m\u001b[0m \u001b[1m198s\u001b[0m 244ms/step - accuracy: 0.9572 - auc: 0.9639 - f1_score: 0.6756 - loss: 0.0229 - precision: 0.8027 - recall: 0.6034 - val_accuracy: 0.9299 - val_auc: 0.7497 - val_f1_score: 0.2600 - val_loss: 0.0783 - val_precision: 0.3183 - val_recall: 0.2324 - learning_rate: 1.0000e-06\n"
     ]
    },
    {
     "name": "stderr",
     "output_type": "stream",
     "text": [
      "2025-06-19 09:13:14 - INFO - \n",
      "=== Starting Epoch 88 ===\n",
      "\n"
     ]
    },
    {
     "name": "stdout",
     "output_type": "stream",
     "text": [
      "Epoch 88/100\n",
      "\u001b[1m813/813\u001b[0m \u001b[32m━━━━━━━━━━━━━━━━━━━━\u001b[0m\u001b[37m\u001b[0m \u001b[1m0s\u001b[0m 226ms/step - accuracy: 0.9577 - auc: 0.9643 - f1_score: 0.6782 - loss: 0.0229 - precision: 0.8013 - recall: 0.6086  "
     ]
    },
    {
     "name": "stderr",
     "output_type": "stream",
     "text": [
      "2025-06-19 09:16:32 - INFO - \n",
      "=== Epoch 88 Summary ===\n",
      "2025-06-19 09:16:32 - INFO - Time: 198.12s\n",
      "2025-06-19 09:16:32 - INFO - Training   - accuracy: 0.9578 - auc: 0.9649 - f1_score: 0.6780 - loss: 0.0227 - precision: 0.8021 - recall: 0.6080 - learning_rate: 0.0000\n",
      "2025-06-19 09:16:32 - INFO - Validation - accuracy: 0.9299 - auc: 0.7518 - f1_score: 0.2599 - loss: 0.0771 - precision: 0.3226 - recall: 0.2423\n",
      "2025-06-19 09:16:32 - INFO - ==================================================\n",
      "\n"
     ]
    },
    {
     "name": "stdout",
     "output_type": "stream",
     "text": [
      "\u001b[1m813/813\u001b[0m \u001b[32m━━━━━━━━━━━━━━━━━━━━\u001b[0m\u001b[37m\u001b[0m \u001b[1m198s\u001b[0m 244ms/step - accuracy: 0.9577 - auc: 0.9643 - f1_score: 0.6782 - loss: 0.0229 - precision: 0.8013 - recall: 0.6086 - val_accuracy: 0.9299 - val_auc: 0.7518 - val_f1_score: 0.2599 - val_loss: 0.0771 - val_precision: 0.3226 - val_recall: 0.2423 - learning_rate: 1.0000e-06\n"
     ]
    },
    {
     "name": "stderr",
     "output_type": "stream",
     "text": [
      "2025-06-19 09:16:32 - INFO - \n",
      "=== Starting Epoch 89 ===\n",
      "\n"
     ]
    },
    {
     "name": "stdout",
     "output_type": "stream",
     "text": [
      "Epoch 89/100\n",
      "\u001b[1m813/813\u001b[0m \u001b[32m━━━━━━━━━━━━━━━━━━━━\u001b[0m\u001b[37m\u001b[0m \u001b[1m0s\u001b[0m 229ms/step - accuracy: 0.9578 - auc: 0.9647 - f1_score: 0.6783 - loss: 0.0227 - precision: 0.8032 - recall: 0.6078  "
     ]
    },
    {
     "name": "stderr",
     "output_type": "stream",
     "text": [
      "2025-06-19 09:19:52 - INFO - \n",
      "=== Epoch 89 Summary ===\n",
      "2025-06-19 09:19:52 - INFO - Time: 200.14s\n",
      "2025-06-19 09:19:52 - INFO - Training   - accuracy: 0.9579 - auc: 0.9652 - f1_score: 0.6790 - loss: 0.0226 - precision: 0.8022 - recall: 0.6089 - learning_rate: 0.0000\n",
      "2025-06-19 09:19:52 - INFO - Validation - accuracy: 0.9311 - auc: 0.7515 - f1_score: 0.2453 - loss: 0.0806 - precision: 0.3185 - recall: 0.2147\n",
      "2025-06-19 09:19:52 - INFO - ==================================================\n",
      "\n"
     ]
    },
    {
     "name": "stdout",
     "output_type": "stream",
     "text": [
      "\u001b[1m813/813\u001b[0m \u001b[32m━━━━━━━━━━━━━━━━━━━━\u001b[0m\u001b[37m\u001b[0m \u001b[1m200s\u001b[0m 246ms/step - accuracy: 0.9578 - auc: 0.9647 - f1_score: 0.6784 - loss: 0.0227 - precision: 0.8032 - recall: 0.6078 - val_accuracy: 0.9311 - val_auc: 0.7515 - val_f1_score: 0.2453 - val_loss: 0.0806 - val_precision: 0.3185 - val_recall: 0.2147 - learning_rate: 1.0000e-06\n"
     ]
    },
    {
     "name": "stderr",
     "output_type": "stream",
     "text": [
      "2025-06-19 09:19:52 - INFO - \n",
      "=== Starting Epoch 90 ===\n",
      "\n"
     ]
    },
    {
     "name": "stdout",
     "output_type": "stream",
     "text": [
      "Epoch 90/100\n",
      "\u001b[1m813/813\u001b[0m \u001b[32m━━━━━━━━━━━━━━━━━━━━\u001b[0m\u001b[37m\u001b[0m \u001b[1m0s\u001b[0m 216ms/step - accuracy: 0.9577 - auc: 0.9650 - f1_score: 0.6791 - loss: 0.0226 - precision: 0.8034 - recall: 0.6087  "
     ]
    },
    {
     "name": "stderr",
     "output_type": "stream",
     "text": [
      "2025-06-19 09:23:05 - INFO - \n",
      "=== Epoch 90 Summary ===\n",
      "2025-06-19 09:23:05 - INFO - Time: 192.72s\n",
      "2025-06-19 09:23:05 - INFO - Training   - accuracy: 0.9582 - auc: 0.9656 - f1_score: 0.6811 - loss: 0.0225 - precision: 0.8045 - recall: 0.6109 - learning_rate: 0.0000\n",
      "2025-06-19 09:23:05 - INFO - Validation - accuracy: 0.9319 - auc: 0.7514 - f1_score: 0.2504 - loss: 0.0800 - precision: 0.3268 - recall: 0.2172\n",
      "2025-06-19 09:23:05 - INFO - ==================================================\n",
      "\n"
     ]
    },
    {
     "name": "stdout",
     "output_type": "stream",
     "text": [
      "\u001b[1m813/813\u001b[0m \u001b[32m━━━━━━━━━━━━━━━━━━━━\u001b[0m\u001b[37m\u001b[0m \u001b[1m193s\u001b[0m 237ms/step - accuracy: 0.9577 - auc: 0.9650 - f1_score: 0.6791 - loss: 0.0226 - precision: 0.8034 - recall: 0.6087 - val_accuracy: 0.9319 - val_auc: 0.7514 - val_f1_score: 0.2504 - val_loss: 0.0800 - val_precision: 0.3268 - val_recall: 0.2172 - learning_rate: 1.0000e-06\n"
     ]
    },
    {
     "name": "stderr",
     "output_type": "stream",
     "text": [
      "2025-06-19 09:23:05 - INFO - \n",
      "=== Starting Epoch 91 ===\n",
      "\n"
     ]
    },
    {
     "name": "stdout",
     "output_type": "stream",
     "text": [
      "Epoch 91/100\n",
      "\u001b[1m813/813\u001b[0m \u001b[32m━━━━━━━━━━━━━━━━━━━━\u001b[0m\u001b[37m\u001b[0m \u001b[1m0s\u001b[0m 219ms/step - accuracy: 0.9581 - auc: 0.9652 - f1_score: 0.6823 - loss: 0.0227 - precision: 0.8045 - recall: 0.6124  "
     ]
    },
    {
     "name": "stderr",
     "output_type": "stream",
     "text": [
      "2025-06-19 09:26:24 - INFO - \n",
      "=== Epoch 91 Summary ===\n",
      "2025-06-19 09:26:24 - INFO - Time: 199.47s\n",
      "2025-06-19 09:26:24 - INFO - Training   - accuracy: 0.9583 - auc: 0.9656 - f1_score: 0.6823 - loss: 0.0225 - precision: 0.8050 - recall: 0.6124 - learning_rate: 0.0000\n",
      "2025-06-19 09:26:24 - INFO - Validation - accuracy: 0.9314 - auc: 0.7508 - f1_score: 0.2492 - loss: 0.0787 - precision: 0.3269 - recall: 0.2245\n",
      "2025-06-19 09:26:24 - INFO - ==================================================\n",
      "\n"
     ]
    },
    {
     "name": "stdout",
     "output_type": "stream",
     "text": [
      "\u001b[1m813/813\u001b[0m \u001b[32m━━━━━━━━━━━━━━━━━━━━\u001b[0m\u001b[37m\u001b[0m \u001b[1m199s\u001b[0m 245ms/step - accuracy: 0.9581 - auc: 0.9652 - f1_score: 0.6823 - loss: 0.0227 - precision: 0.8045 - recall: 0.6124 - val_accuracy: 0.9314 - val_auc: 0.7508 - val_f1_score: 0.2492 - val_loss: 0.0787 - val_precision: 0.3269 - val_recall: 0.2245 - learning_rate: 1.0000e-06\n"
     ]
    },
    {
     "name": "stderr",
     "output_type": "stream",
     "text": [
      "2025-06-19 09:26:24 - INFO - \n",
      "=== Starting Epoch 92 ===\n",
      "\n"
     ]
    },
    {
     "name": "stdout",
     "output_type": "stream",
     "text": [
      "Epoch 92/100\n",
      "\u001b[1m813/813\u001b[0m \u001b[32m━━━━━━━━━━━━━━━━━━━━\u001b[0m\u001b[37m\u001b[0m \u001b[1m0s\u001b[0m 215ms/step - accuracy: 0.9580 - auc: 0.9655 - f1_score: 0.6818 - loss: 0.0226 - precision: 0.8053 - recall: 0.6112  "
     ]
    },
    {
     "name": "stderr",
     "output_type": "stream",
     "text": [
      "2025-06-19 09:29:36 - INFO - \n",
      "=== Epoch 92 Summary ===\n",
      "2025-06-19 09:29:36 - INFO - Time: 191.57s\n",
      "2025-06-19 09:29:36 - INFO - Training   - accuracy: 0.9582 - auc: 0.9659 - f1_score: 0.6821 - loss: 0.0224 - precision: 0.8041 - recall: 0.6123 - learning_rate: 0.0000\n",
      "2025-06-19 09:29:36 - INFO - Validation - accuracy: 0.9319 - auc: 0.7517 - f1_score: 0.2406 - loss: 0.0803 - precision: 0.3217 - recall: 0.2076\n",
      "2025-06-19 09:29:36 - INFO - ==================================================\n",
      "\n"
     ]
    },
    {
     "name": "stdout",
     "output_type": "stream",
     "text": [
      "\u001b[1m813/813\u001b[0m \u001b[32m━━━━━━━━━━━━━━━━━━━━\u001b[0m\u001b[37m\u001b[0m \u001b[1m192s\u001b[0m 236ms/step - accuracy: 0.9580 - auc: 0.9655 - f1_score: 0.6818 - loss: 0.0226 - precision: 0.8053 - recall: 0.6112 - val_accuracy: 0.9319 - val_auc: 0.7517 - val_f1_score: 0.2406 - val_loss: 0.0803 - val_precision: 0.3217 - val_recall: 0.2076 - learning_rate: 1.0000e-06\n"
     ]
    },
    {
     "name": "stderr",
     "output_type": "stream",
     "text": [
      "2025-06-19 09:29:36 - INFO - \n",
      "=== Starting Epoch 93 ===\n",
      "\n"
     ]
    },
    {
     "name": "stdout",
     "output_type": "stream",
     "text": [
      "Epoch 93/100\n",
      "\u001b[1m813/813\u001b[0m \u001b[32m━━━━━━━━━━━━━━━━━━━━\u001b[0m\u001b[37m\u001b[0m \u001b[1m0s\u001b[0m 220ms/step - accuracy: 0.9587 - auc: 0.9658 - f1_score: 0.6871 - loss: 0.0224 - precision: 0.8078 - recall: 0.6180  "
     ]
    },
    {
     "name": "stderr",
     "output_type": "stream",
     "text": [
      "2025-06-19 09:32:51 - INFO - \n",
      "=== Epoch 93 Summary ===\n",
      "2025-06-19 09:32:51 - INFO - Time: 195.56s\n",
      "2025-06-19 09:32:51 - INFO - Training   - accuracy: 0.9585 - auc: 0.9663 - f1_score: 0.6853 - loss: 0.0224 - precision: 0.8056 - recall: 0.6166 - learning_rate: 0.0000\n",
      "2025-06-19 09:32:51 - INFO - Validation - accuracy: 0.9315 - auc: 0.7501 - f1_score: 0.2495 - loss: 0.0802 - precision: 0.3211 - recall: 0.2118\n",
      "2025-06-19 09:32:51 - INFO - ==================================================\n",
      "\n"
     ]
    },
    {
     "name": "stdout",
     "output_type": "stream",
     "text": [
      "\u001b[1m813/813\u001b[0m \u001b[32m━━━━━━━━━━━━━━━━━━━━\u001b[0m\u001b[37m\u001b[0m \u001b[1m196s\u001b[0m 241ms/step - accuracy: 0.9587 - auc: 0.9658 - f1_score: 0.6871 - loss: 0.0224 - precision: 0.8078 - recall: 0.6180 - val_accuracy: 0.9315 - val_auc: 0.7501 - val_f1_score: 0.2495 - val_loss: 0.0802 - val_precision: 0.3211 - val_recall: 0.2118 - learning_rate: 1.0000e-06\n"
     ]
    },
    {
     "name": "stderr",
     "output_type": "stream",
     "text": [
      "2025-06-19 09:32:51 - INFO - \n",
      "=== Starting Epoch 94 ===\n",
      "\n"
     ]
    },
    {
     "name": "stdout",
     "output_type": "stream",
     "text": [
      "Epoch 94/100\n",
      "\u001b[1m813/813\u001b[0m \u001b[32m━━━━━━━━━━━━━━━━━━━━\u001b[0m\u001b[37m\u001b[0m \u001b[1m0s\u001b[0m 219ms/step - accuracy: 0.9585 - auc: 0.9663 - f1_score: 0.6861 - loss: 0.0223 - precision: 0.8042 - recall: 0.6174  "
     ]
    },
    {
     "name": "stderr",
     "output_type": "stream",
     "text": [
      "2025-06-19 09:36:06 - INFO - \n",
      "=== Epoch 94 Summary ===\n",
      "2025-06-19 09:36:06 - INFO - Time: 194.42s\n",
      "2025-06-19 09:36:06 - INFO - Training   - accuracy: 0.9586 - auc: 0.9666 - f1_score: 0.6860 - loss: 0.0223 - precision: 0.8056 - recall: 0.6168 - learning_rate: 0.0000\n",
      "2025-06-19 09:36:06 - INFO - Validation - accuracy: 0.9312 - auc: 0.7495 - f1_score: 0.2460 - loss: 0.0818 - precision: 0.3206 - recall: 0.2158\n",
      "2025-06-19 09:36:06 - INFO - ==================================================\n",
      "\n"
     ]
    },
    {
     "name": "stdout",
     "output_type": "stream",
     "text": [
      "\u001b[1m813/813\u001b[0m \u001b[32m━━━━━━━━━━━━━━━━━━━━\u001b[0m\u001b[37m\u001b[0m \u001b[1m194s\u001b[0m 239ms/step - accuracy: 0.9585 - auc: 0.9663 - f1_score: 0.6861 - loss: 0.0223 - precision: 0.8042 - recall: 0.6174 - val_accuracy: 0.9312 - val_auc: 0.7495 - val_f1_score: 0.2460 - val_loss: 0.0818 - val_precision: 0.3206 - val_recall: 0.2158 - learning_rate: 1.0000e-06\n"
     ]
    },
    {
     "name": "stderr",
     "output_type": "stream",
     "text": [
      "2025-06-19 09:36:06 - INFO - \n",
      "=== Starting Epoch 95 ===\n",
      "\n"
     ]
    },
    {
     "name": "stdout",
     "output_type": "stream",
     "text": [
      "Epoch 95/100\n",
      "\u001b[1m813/813\u001b[0m \u001b[32m━━━━━━━━━━━━━━━━━━━━\u001b[0m\u001b[37m\u001b[0m \u001b[1m0s\u001b[0m 217ms/step - accuracy: 0.9587 - auc: 0.9668 - f1_score: 0.6875 - loss: 0.0223 - precision: 0.8106 - recall: 0.6163  "
     ]
    },
    {
     "name": "stderr",
     "output_type": "stream",
     "text": [
      "2025-06-19 09:39:20 - INFO - \n",
      "=== Epoch 95 Summary ===\n",
      "2025-06-19 09:39:20 - INFO - Time: 194.35s\n",
      "2025-06-19 09:39:20 - INFO - Training   - accuracy: 0.9590 - auc: 0.9673 - f1_score: 0.6893 - loss: 0.0221 - precision: 0.8099 - recall: 0.6195 - learning_rate: 0.0000\n",
      "2025-06-19 09:39:20 - INFO - Validation - accuracy: 0.9305 - auc: 0.7487 - f1_score: 0.2599 - loss: 0.0818 - precision: 0.3206 - recall: 0.2274\n",
      "2025-06-19 09:39:20 - INFO - ==================================================\n",
      "\n"
     ]
    },
    {
     "name": "stdout",
     "output_type": "stream",
     "text": [
      "\u001b[1m813/813\u001b[0m \u001b[32m━━━━━━━━━━━━━━━━━━━━\u001b[0m\u001b[37m\u001b[0m \u001b[1m194s\u001b[0m 239ms/step - accuracy: 0.9587 - auc: 0.9668 - f1_score: 0.6875 - loss: 0.0223 - precision: 0.8106 - recall: 0.6163 - val_accuracy: 0.9305 - val_auc: 0.7487 - val_f1_score: 0.2599 - val_loss: 0.0818 - val_precision: 0.3206 - val_recall: 0.2274 - learning_rate: 1.0000e-06\n"
     ]
    },
    {
     "name": "stderr",
     "output_type": "stream",
     "text": [
      "2025-06-19 09:39:20 - INFO - \n",
      "=== Starting Epoch 96 ===\n",
      "\n"
     ]
    },
    {
     "name": "stdout",
     "output_type": "stream",
     "text": [
      "Epoch 96/100\n",
      "\u001b[1m813/813\u001b[0m \u001b[32m━━━━━━━━━━━━━━━━━━━━\u001b[0m\u001b[37m\u001b[0m \u001b[1m0s\u001b[0m 215ms/step - accuracy: 0.9587 - auc: 0.9669 - f1_score: 0.6879 - loss: 0.0223 - precision: 0.8065 - recall: 0.6198  "
     ]
    },
    {
     "name": "stderr",
     "output_type": "stream",
     "text": [
      "2025-06-19 09:42:41 - INFO - \n",
      "=== Epoch 96 Summary ===\n",
      "2025-06-19 09:42:41 - INFO - Time: 200.77s\n",
      "2025-06-19 09:42:41 - INFO - Training   - accuracy: 0.9592 - auc: 0.9674 - f1_score: 0.6908 - loss: 0.0221 - precision: 0.8083 - recall: 0.6230 - learning_rate: 0.0000\n",
      "2025-06-19 09:42:41 - INFO - Validation - accuracy: 0.9303 - auc: 0.7493 - f1_score: 0.2563 - loss: 0.0820 - precision: 0.3175 - recall: 0.2251\n",
      "2025-06-19 09:42:41 - INFO - ==================================================\n",
      "\n"
     ]
    },
    {
     "name": "stdout",
     "output_type": "stream",
     "text": [
      "\u001b[1m813/813\u001b[0m \u001b[32m━━━━━━━━━━━━━━━━━━━━\u001b[0m\u001b[37m\u001b[0m \u001b[1m201s\u001b[0m 247ms/step - accuracy: 0.9587 - auc: 0.9669 - f1_score: 0.6879 - loss: 0.0223 - precision: 0.8065 - recall: 0.6198 - val_accuracy: 0.9303 - val_auc: 0.7493 - val_f1_score: 0.2563 - val_loss: 0.0820 - val_precision: 0.3175 - val_recall: 0.2251 - learning_rate: 1.0000e-06\n"
     ]
    },
    {
     "name": "stderr",
     "output_type": "stream",
     "text": [
      "2025-06-19 09:42:41 - INFO - \n",
      "=== Starting Epoch 97 ===\n",
      "\n"
     ]
    },
    {
     "name": "stdout",
     "output_type": "stream",
     "text": [
      "Epoch 97/100\n",
      "\u001b[1m813/813\u001b[0m \u001b[32m━━━━━━━━━━━━━━━━━━━━\u001b[0m\u001b[37m\u001b[0m \u001b[1m0s\u001b[0m 215ms/step - accuracy: 0.9590 - auc: 0.9667 - f1_score: 0.6909 - loss: 0.0224 - precision: 0.8082 - recall: 0.6218  "
     ]
    },
    {
     "name": "stderr",
     "output_type": "stream",
     "text": [
      "2025-06-19 09:45:53 - INFO - \n",
      "=== Epoch 97 Summary ===\n",
      "2025-06-19 09:45:53 - INFO - Time: 191.92s\n",
      "2025-06-19 09:45:53 - INFO - Training   - accuracy: 0.9593 - auc: 0.9675 - f1_score: 0.6933 - loss: 0.0221 - precision: 0.8091 - recall: 0.6249 - learning_rate: 0.0000\n",
      "2025-06-19 09:45:53 - INFO - Validation - accuracy: 0.9320 - auc: 0.7497 - f1_score: 0.2480 - loss: 0.0821 - precision: 0.3231 - recall: 0.2082\n",
      "2025-06-19 09:45:53 - INFO - ==================================================\n",
      "\n"
     ]
    },
    {
     "name": "stdout",
     "output_type": "stream",
     "text": [
      "\u001b[1m813/813\u001b[0m \u001b[32m━━━━━━━━━━━━━━━━━━━━\u001b[0m\u001b[37m\u001b[0m \u001b[1m192s\u001b[0m 236ms/step - accuracy: 0.9590 - auc: 0.9667 - f1_score: 0.6909 - loss: 0.0224 - precision: 0.8082 - recall: 0.6218 - val_accuracy: 0.9320 - val_auc: 0.7497 - val_f1_score: 0.2480 - val_loss: 0.0821 - val_precision: 0.3231 - val_recall: 0.2082 - learning_rate: 1.0000e-06\n"
     ]
    },
    {
     "name": "stderr",
     "output_type": "stream",
     "text": [
      "2025-06-19 09:45:53 - INFO - \n",
      "=== Starting Epoch 98 ===\n",
      "\n"
     ]
    },
    {
     "name": "stdout",
     "output_type": "stream",
     "text": [
      "Epoch 98/100\n",
      "\u001b[1m813/813\u001b[0m \u001b[32m━━━━━━━━━━━━━━━━━━━━\u001b[0m\u001b[37m\u001b[0m \u001b[1m0s\u001b[0m 219ms/step - accuracy: 0.9589 - auc: 0.9670 - f1_score: 0.6900 - loss: 0.0223 - precision: 0.8075 - recall: 0.6216  "
     ]
    },
    {
     "name": "stderr",
     "output_type": "stream",
     "text": [
      "2025-06-19 09:49:07 - INFO - \n",
      "=== Epoch 98 Summary ===\n",
      "2025-06-19 09:49:07 - INFO - Time: 194.36s\n",
      "2025-06-19 09:49:07 - INFO - Training   - accuracy: 0.9593 - auc: 0.9675 - f1_score: 0.6926 - loss: 0.0221 - precision: 0.8081 - recall: 0.6249 - learning_rate: 0.0000\n",
      "2025-06-19 09:49:07 - INFO - Validation - accuracy: 0.9308 - auc: 0.7471 - f1_score: 0.2546 - loss: 0.0817 - precision: 0.3218 - recall: 0.2254\n",
      "2025-06-19 09:49:07 - INFO - ==================================================\n",
      "\n"
     ]
    },
    {
     "name": "stdout",
     "output_type": "stream",
     "text": [
      "\u001b[1m813/813\u001b[0m \u001b[32m━━━━━━━━━━━━━━━━━━━━\u001b[0m\u001b[37m\u001b[0m \u001b[1m194s\u001b[0m 239ms/step - accuracy: 0.9589 - auc: 0.9670 - f1_score: 0.6900 - loss: 0.0223 - precision: 0.8075 - recall: 0.6216 - val_accuracy: 0.9308 - val_auc: 0.7471 - val_f1_score: 0.2546 - val_loss: 0.0817 - val_precision: 0.3218 - val_recall: 0.2254 - learning_rate: 1.0000e-06\n"
     ]
    },
    {
     "name": "stderr",
     "output_type": "stream",
     "text": [
      "2025-06-19 09:49:07 - INFO - \n",
      "=== Starting Epoch 99 ===\n",
      "\n"
     ]
    },
    {
     "name": "stdout",
     "output_type": "stream",
     "text": [
      "Epoch 99/100\n",
      "\u001b[1m813/813\u001b[0m \u001b[32m━━━━━━━━━━━━━━━━━━━━\u001b[0m\u001b[37m\u001b[0m \u001b[1m0s\u001b[0m 216ms/step - accuracy: 0.9594 - auc: 0.9678 - f1_score: 0.6968 - loss: 0.0221 - precision: 0.8133 - recall: 0.6273  "
     ]
    },
    {
     "name": "stderr",
     "output_type": "stream",
     "text": [
      "2025-06-19 09:52:17 - INFO - \n",
      "=== Epoch 99 Summary ===\n",
      "2025-06-19 09:52:17 - INFO - Time: 189.44s\n",
      "2025-06-19 09:52:17 - INFO - Training   - accuracy: 0.9597 - auc: 0.9681 - f1_score: 0.6959 - loss: 0.0219 - precision: 0.8120 - recall: 0.6274 - learning_rate: 0.0000\n",
      "2025-06-19 09:52:17 - INFO - Validation - accuracy: 0.9289 - auc: 0.7487 - f1_score: 0.2703 - loss: 0.0805 - precision: 0.3197 - recall: 0.2522\n",
      "2025-06-19 09:52:17 - INFO - ==================================================\n",
      "\n"
     ]
    },
    {
     "name": "stdout",
     "output_type": "stream",
     "text": [
      "\u001b[1m813/813\u001b[0m \u001b[32m━━━━━━━━━━━━━━━━━━━━\u001b[0m\u001b[37m\u001b[0m \u001b[1m190s\u001b[0m 233ms/step - accuracy: 0.9594 - auc: 0.9678 - f1_score: 0.6968 - loss: 0.0221 - precision: 0.8133 - recall: 0.6273 - val_accuracy: 0.9289 - val_auc: 0.7487 - val_f1_score: 0.2703 - val_loss: 0.0805 - val_precision: 0.3197 - val_recall: 0.2522 - learning_rate: 1.0000e-06\n"
     ]
    },
    {
     "name": "stderr",
     "output_type": "stream",
     "text": [
      "2025-06-19 09:52:17 - INFO - \n",
      "=== Starting Epoch 100 ===\n",
      "\n"
     ]
    },
    {
     "name": "stdout",
     "output_type": "stream",
     "text": [
      "Epoch 100/100\n",
      "\u001b[1m813/813\u001b[0m \u001b[32m━━━━━━━━━━━━━━━━━━━━\u001b[0m\u001b[37m\u001b[0m \u001b[1m0s\u001b[0m 226ms/step - accuracy: 0.9599 - auc: 0.9685 - f1_score: 0.6981 - loss: 0.0219 - precision: 0.8154 - recall: 0.6288  "
     ]
    },
    {
     "name": "stderr",
     "output_type": "stream",
     "text": [
      "2025-06-19 09:55:31 - INFO - \n",
      "=== Epoch 100 Summary ===\n",
      "2025-06-19 09:55:31 - INFO - Time: 194.23s\n",
      "2025-06-19 09:55:31 - INFO - Training   - accuracy: 0.9599 - auc: 0.9686 - f1_score: 0.6974 - loss: 0.0219 - precision: 0.8136 - recall: 0.6288 - learning_rate: 0.0000\n",
      "2025-06-19 09:55:31 - INFO - Validation - accuracy: 0.9309 - auc: 0.7486 - f1_score: 0.2529 - loss: 0.0841 - precision: 0.3181 - recall: 0.2162\n",
      "2025-06-19 09:55:31 - INFO - ==================================================\n",
      "\n"
     ]
    },
    {
     "name": "stdout",
     "output_type": "stream",
     "text": [
      "\u001b[1m813/813\u001b[0m \u001b[32m━━━━━━━━━━━━━━━━━━━━\u001b[0m\u001b[37m\u001b[0m \u001b[1m194s\u001b[0m 239ms/step - accuracy: 0.9599 - auc: 0.9685 - f1_score: 0.6981 - loss: 0.0219 - precision: 0.8154 - recall: 0.6288 - val_accuracy: 0.9309 - val_auc: 0.7486 - val_f1_score: 0.2529 - val_loss: 0.0841 - val_precision: 0.3181 - val_recall: 0.2162 - learning_rate: 1.0000e-06\n"
     ]
    },
    {
     "name": "stderr",
     "output_type": "stream",
     "text": [
      "2025-06-19 09:55:31 - INFO - \n",
      "=== Training Completed! ===\n",
      "\n",
      "2025-06-19 09:55:31 - INFO - Final Metrics: accuracy: 0.9599 - auc: 0.9686 - f1_score: 0.6974 - loss: 0.0219 - precision: 0.8136 - recall: 0.6288 - val_accuracy: 0.9309 - val_auc: 0.7486 - val_f1_score: 0.2529 - val_loss: 0.0841 - val_precision: 0.3181 - val_recall: 0.2162\n",
      "\n"
     ]
    },
    {
     "name": "stdout",
     "output_type": "stream",
     "text": [
      "Restoring model weights from the end of the best epoch: 99.\n"
     ]
    }
   ],
   "source": [
    "# Model Training\n",
    "model          = build_densenet121(num_classes, use_se=True, layer_attention=False, ratio=16, channel_blocks=[0, 1, 2, 3])\n",
    "optimizer      = Adam(learning_rate=1e-4)\n",
    "compile_kwargs = {'optimizer': optimizer, 'loss': loss, 'metrics': metrics}\n",
    "\n",
    "history, model = start_or_resume_training(\n",
    "    model, \n",
    "    compile_kwargs, \n",
    "    train_ds, \n",
    "    val_ds, \n",
    "    TF_MAX_EPOCHS,\n",
    "    steps_per_epoch, \n",
    "    validation_steps, \n",
    "    class_weights=class_weights,\n",
    "    callbacks=[checkpoint, best_checkpoint, reduce_lr, training_logger, metrics_monitor, early_stopping], \n",
    "    checkpoint_path=checkpoint_path,\n",
    "    initial_epoch=initial_epoch,\n",
    "    output_dir=MODELS_PATH,\n",
    "    model_name=model_name,\n",
    "    logger=logger\n",
    ")"
   ]
  },
  {
   "cell_type": "code",
   "execution_count": null,
   "id": "048b711f-28f1-433d-ac5b-b8729218ef96",
   "metadata": {},
   "outputs": [],
   "source": []
  }
 ],
 "metadata": {
  "kernelspec": {
   "display_name": "Python 3 (ipykernel)",
   "language": "python",
   "name": "python3"
  },
  "language_info": {
   "codemirror_mode": {
    "name": "ipython",
    "version": 3
   },
   "file_extension": ".py",
   "mimetype": "text/x-python",
   "name": "python",
   "nbconvert_exporter": "python",
   "pygments_lexer": "ipython3",
   "version": "3.10.16"
  }
 },
 "nbformat": 4,
 "nbformat_minor": 5
}
