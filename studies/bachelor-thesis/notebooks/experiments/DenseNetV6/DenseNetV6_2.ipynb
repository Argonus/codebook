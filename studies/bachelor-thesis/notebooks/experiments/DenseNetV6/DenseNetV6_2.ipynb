{
 "cells": [
  {
   "cell_type": "code",
   "execution_count": 1,
   "id": "b694919a-9b18-4068-8e69-7258de889dff",
   "metadata": {},
   "outputs": [
    {
     "name": "stderr",
     "output_type": "stream",
     "text": [
      "2025-06-19 12:59:51.065215: E external/local_xla/xla/stream_executor/cuda/cuda_fft.cc:467] Unable to register cuFFT factory: Attempting to register factory for plugin cuFFT when one has already been registered\n",
      "WARNING: All log messages before absl::InitializeLog() is called are written to STDERR\n",
      "E0000 00:00:1750330791.143540    3449 cuda_dnn.cc:8579] Unable to register cuDNN factory: Attempting to register factory for plugin cuDNN when one has already been registered\n",
      "E0000 00:00:1750330791.166872    3449 cuda_blas.cc:1407] Unable to register cuBLAS factory: Attempting to register factory for plugin cuBLAS when one has already been registered\n",
      "W0000 00:00:1750330791.352206    3449 computation_placer.cc:177] computation placer already registered. Please check linkage and avoid linking the same target more than once.\n",
      "W0000 00:00:1750330791.352214    3449 computation_placer.cc:177] computation placer already registered. Please check linkage and avoid linking the same target more than once.\n",
      "W0000 00:00:1750330791.352216    3449 computation_placer.cc:177] computation placer already registered. Please check linkage and avoid linking the same target more than once.\n",
      "W0000 00:00:1750330791.352216    3449 computation_placer.cc:177] computation placer already registered. Please check linkage and avoid linking the same target more than once.\n"
     ]
    },
    {
     "name": "stdout",
     "output_type": "stream",
     "text": [
      "\n",
      "GPU configuration successful!\n",
      "Device: /physical_device:GPU:0\n",
      "Memory limit: 18.0 GB\n",
      "\n",
      "TensorFlow optimizations status:\n",
      "- CPU Threads: 16 intra-op, 9 inter-op (32 cores total)\n",
      "- XLA JIT: enabled (autoclustering)\n",
      "- Synchronous Execution: enabled\n",
      "\n",
      "GPU Device Details:\n",
      "- Device: GPU /physical_device:GPU:0\n",
      "- Memory limit: 18.0 GB\n"
     ]
    },
    {
     "name": "stderr",
     "output_type": "stream",
     "text": [
      "I0000 00:00:1750330794.698828    3449 gpu_process_state.cc:208] Using CUDA malloc Async allocator for GPU: 0\n",
      "I0000 00:00:1750330794.699574    3449 gpu_device.cc:2019] Created device /job:localhost/replica:0/task:0/device:GPU:0 with 19327352832 MB memory:  -> device: 0, name: NVIDIA GeForce RTX 3090 Ti, pci bus id: 0000:01:00.0, compute capability: 8.6\n"
     ]
    }
   ],
   "source": [
    "# Import dependencies\n",
    "import os\n",
    "16\n",
    "os.environ['TF_CPP_MIN_VLOG_LEVEL'] = '0'\n",
    "os.environ['TF_CPP_MIN_LOG_LEVEL'] = '2'\n",
    "os.environ['TF_GPU_ALLOCATOR'] = 'cuda_malloc_async'\n",
    "os.environ['TF_FORCE_GPU_ALLOW_GROWTH'] = 'true'\n",
    "\n",
    "from src.utils.gpu_config import configure_gpu, optimize_tensorflow\n",
    "\n",
    "configure_gpu()\n",
    "optimize_tensorflow()"
   ]
  },
  {
   "cell_type": "code",
   "execution_count": 2,
   "id": "2b854daf-5f2a-4c33-9180-5081cd415b16",
   "metadata": {},
   "outputs": [],
   "source": [
    "# Import Tensorflow Keras\n",
    "from tensorflow.keras.optimizers import Adam\n",
    "from tensorflow.keras.losses import BinaryFocalCrossentropy\n",
    "from tensorflow.keras.callbacks import ReduceLROnPlateau, ModelCheckpoint\n",
    "\n",
    "# Import local modules\n",
    "from src.utils.consts import TF_RECORD_DATASET, MODELS_PATH, TF_BUFFER_SIZE, TF_SHUFFLE_SIZE, TF_BATCH_SIZE, TF_MAX_EPOCHS\n",
    "from src.model.tensorflow_utils import load_dataset, optimize_dataset, count_dataset_size, get_num_classes, get_metrics\n",
    "from src.model.tensorflow_utils import setup_logger, setup_training_logger, setup_metrics_monitor, setup_early_stopping, filter_no_finding_class\n",
    "from src.model.tensorflow_utils import start_or_resume_training, apply_augmentation_to_dataset, calculate_class_weights, oversample_minority_classes\n",
    "from src.model.densnet.tensorflow_dense_net_121 import build_densenet121\n",
    "\n",
    "# Input Data\n",
    "initial_epoch   = 21\n",
    "resume_training = True\n",
    "checkpoint_path = '/home/piotr/Pulpit/codebook/studies/bachelor-thesis/models/DenseNetV6_2/checkpoints/cp-0020.keras'\n",
    "set_name        = \"DenseNetV6\"\n",
    "model_name      = f\"{set_name}_2\"\n",
    "num_classes     = get_num_classes()\n",
    "\n",
    "train_ds = load_dataset(f\"{TF_RECORD_DATASET}/train.tfrecord\", TF_BUFFER_SIZE)\n",
    "val_ds   = load_dataset(f\"{TF_RECORD_DATASET}/val.tfrecord\", TF_BUFFER_SIZE)\n",
    "\n",
    "train_ds = filter_no_finding_class(train_ds)\n",
    "val_ds   = filter_no_finding_class(val_ds)\n",
    "\n",
    "class_weights = calculate_class_weights(train_ds, num_classes)\n",
    "train_ds      = oversample_minority_classes(train_ds, class_weights)\n",
    "class_weights = calculate_class_weights(train_ds, num_classes)"
   ]
  },
  {
   "cell_type": "code",
   "execution_count": 3,
   "id": "5f152b8a-8ff8-4095-9815-e304ce2beb52",
   "metadata": {},
   "outputs": [
    {
     "name": "stderr",
     "output_type": "stream",
     "text": [
      "Counting samples: 104166 samples [00:35, 2974.82 samples/s] \n",
      "Counting samples: 15431 samples [00:08, 1732.04 samples/s]\n"
     ]
    }
   ],
   "source": [
    "steps_per_epoch  = int(count_dataset_size(train_ds, None) / TF_BATCH_SIZE)\n",
    "validation_steps = int(count_dataset_size(val_ds, None) / TF_BATCH_SIZE)\n",
    "\n",
    "# Disable Advanced Augmentations\n",
    "probability = {\n",
    "    \"intensity_scaling\": 0,\n",
    "    \"adaptive_histogram\": 0,\n",
    "    \"zoom\": 0,\n",
    "    \"cutout\": 0\n",
    "}\n",
    "\n",
    "train_ds = train_ds.shuffle(TF_SHUFFLE_SIZE, reshuffle_each_iteration=True)\n",
    "train_ds = apply_augmentation_to_dataset(train_ds, probability)\n",
    "train_ds = optimize_dataset(train_ds, TF_BATCH_SIZE)\n",
    "\n",
    "val_ds   = optimize_dataset(val_ds, TF_BATCH_SIZE)"
   ]
  },
  {
   "cell_type": "code",
   "execution_count": 4,
   "id": "3a0e37c9-b178-40d8-bd25-8c0a6498564a",
   "metadata": {},
   "outputs": [
    {
     "name": "stderr",
     "output_type": "stream",
     "text": [
      "2025-06-19 13:01:55 - INFO - Resuming from existing metrics file: /home/piotr/Pulpit/codebook/studies/bachelor-thesis/models/DenseNetV6_2/train_metrics.csv\n",
      "2025-06-19 13:01:55 - INFO - Resuming from existing validation metrics file: /home/piotr/Pulpit/codebook/studies/bachelor-thesis/models/DenseNetV6_2/val_metrics.csv\n",
      "2025-06-19 13:01:55 - INFO - Cleaned training metrics file, kept 16260 records before epoch 21\n",
      "2025-06-19 13:01:55 - INFO - Cleaned validation metrics file, kept 20 records before epoch 21\n",
      "2025-06-19 13:01:55 - INFO - Found 16260 existing training records\n",
      "2025-06-19 13:01:55 - INFO - Found 20 existing validation records\n"
     ]
    }
   ],
   "source": [
    "# Setup Model Deps\n",
    "logger            = setup_logger()\n",
    "training_logger   = setup_training_logger(logger, TF_BATCH_SIZE, 100)\n",
    "metrics_monitor   = setup_metrics_monitor(MODELS_PATH, model_name, logger, resume_training=resume_training, initial_epoch=initial_epoch)\n",
    "metrics           = get_metrics()\n",
    "\n",
    "# Setup compile arguments\n",
    "loss           = BinaryFocalCrossentropy(gamma=2.0, from_logits=False, label_smoothing=0.05)\n",
    "reduce_lr      = ReduceLROnPlateau(monitor=\"val_f1_score\", factor=0.5,  patience=3, min_lr=1e-6, mode=\"max\", verbose=1)\n",
    "early_stopping = setup_early_stopping()\n",
    "\n",
    "epoch_mode           = 'cp-{epoch:04d}'\n",
    "save_checkpoint_path = f\"{MODELS_PATH}/{model_name}/checkpoints/{epoch_mode}.keras\"\n",
    "checkpoint           = ModelCheckpoint(save_checkpoint_path, monitor=\"val_f1_score\", save_best_only=False, mode=\"max\", save_weights_only=False)\n",
    "\n",
    "model_path      = f\"{MODELS_PATH}/{model_name}.keras\"\n",
    "best_checkpoint = ModelCheckpoint(model_path, monitor=\"val_f1_score\", save_best_only=True, mode=\"max\", save_weights_only=False)"
   ]
  },
  {
   "cell_type": "code",
   "execution_count": 5,
   "id": "c44d4a9a-ffbb-4917-a702-c35773b9857c",
   "metadata": {},
   "outputs": [
    {
     "name": "stderr",
     "output_type": "stream",
     "text": [
      "2025-06-19 13:01:56 - INFO - Resuming training from checkpoint: /home/piotr/Pulpit/codebook/studies/bachelor-thesis/models/DenseNetV6_2/checkpoints/cp-0020.keras\n",
      "2025-06-19 13:01:58 - INFO - Resuming from existing metrics file: /home/piotr/Pulpit/codebook/studies/bachelor-thesis/models/DenseNetV6_2/train_metrics.csv\n",
      "2025-06-19 13:01:58 - INFO - Resuming from existing validation metrics file: /home/piotr/Pulpit/codebook/studies/bachelor-thesis/models/DenseNetV6_2/val_metrics.csv\n",
      "2025-06-19 13:01:58 - INFO - Cleaned training metrics file, kept 16260 records before epoch 21\n",
      "2025-06-19 13:01:58 - INFO - Cleaned validation metrics file, kept 20 records before epoch 21\n",
      "2025-06-19 13:01:58 - INFO - Found 16260 existing training records\n",
      "2025-06-19 13:01:58 - INFO - Found 20 existing validation records\n",
      "2025-06-19 13:01:58 - INFO - \n",
      "=== Training Started ===\n",
      "\n",
      "2025-06-19 13:01:58 - INFO - Batch Size: 128\n",
      "2025-06-19 13:01:58 - INFO - Optimizer: Adam\n",
      "2025-06-19 13:01:58 - INFO - \n",
      "==================================================\n",
      "\n",
      "2025-06-19 13:01:58 - INFO - \n",
      "=== Starting Epoch 21 ===\n",
      "\n"
     ]
    },
    {
     "name": "stdout",
     "output_type": "stream",
     "text": [
      "Epoch 21/100\n"
     ]
    },
    {
     "name": "stderr",
     "output_type": "stream",
     "text": [
      "WARNING: All log messages before absl::InitializeLog() is called are written to STDERR\n",
      "I0000 00:00:1750330937.939961    3540 service.cc:152] XLA service 0x707a50005900 initialized for platform CUDA (this does not guarantee that XLA will be used). Devices:\n",
      "I0000 00:00:1750330937.940127    3540 service.cc:160]   StreamExecutor device (0): NVIDIA GeForce RTX 3090 Ti, Compute Capability 8.6\n",
      "I0000 00:00:1750330943.166852    3540 cuda_dnn.cc:529] Loaded cuDNN version 90300\n",
      "I0000 00:00:1750331008.100299    3540 device_compiler.h:188] Compiled cluster using XLA!  This line is logged at most once for the lifetime of the process.\n"
     ]
    },
    {
     "name": "stdout",
     "output_type": "stream",
     "text": [
      "\u001b[1m813/813\u001b[0m \u001b[32m━━━━━━━━━━━━━━━━━━━━\u001b[0m\u001b[37m\u001b[0m \u001b[1m0s\u001b[0m 218ms/step - accuracy: 0.9266 - auc: 0.8417 - f1_score: 0.2653 - loss: 0.0477 - precision: 0.5823 - recall: 0.2093  "
     ]
    },
    {
     "name": "stderr",
     "output_type": "stream",
     "text": [
      "2025-06-19 13:06:44 - INFO - \n",
      "=== Epoch 21 Summary ===\n",
      "2025-06-19 13:06:44 - INFO - Time: 286.17s\n",
      "2025-06-19 13:06:44 - INFO - Training   - accuracy: 0.9271 - auc: 0.8466 - f1_score: 0.2671 - loss: 0.0470 - precision: 0.5879 - recall: 0.2108 - learning_rate: 0.0000\n",
      "2025-06-19 13:06:44 - INFO - Validation - accuracy: 0.9317 - auc: 0.7589 - f1_score: 0.1357 - loss: 0.0646 - precision: 0.2598 - recall: 0.1261\n",
      "2025-06-19 13:06:44 - INFO - ==================================================\n",
      "\n"
     ]
    },
    {
     "name": "stdout",
     "output_type": "stream",
     "text": [
      "\u001b[1m813/813\u001b[0m \u001b[32m━━━━━━━━━━━━━━━━━━━━\u001b[0m\u001b[37m\u001b[0m \u001b[1m286s\u001b[0m 241ms/step - accuracy: 0.9266 - auc: 0.8417 - f1_score: 0.2653 - loss: 0.0477 - precision: 0.5823 - recall: 0.2093 - val_accuracy: 0.9317 - val_auc: 0.7589 - val_f1_score: 0.1357 - val_loss: 0.0646 - val_precision: 0.2598 - val_recall: 0.1261 - learning_rate: 1.2500e-05\n"
     ]
    },
    {
     "name": "stderr",
     "output_type": "stream",
     "text": [
      "2025-06-19 13:06:44 - INFO - \n",
      "=== Starting Epoch 22 ===\n",
      "\n"
     ]
    },
    {
     "name": "stdout",
     "output_type": "stream",
     "text": [
      "Epoch 22/100\n",
      "\u001b[1m813/813\u001b[0m \u001b[32m━━━━━━━━━━━━━━━━━━━━\u001b[0m\u001b[37m\u001b[0m \u001b[1m0s\u001b[0m 220ms/step - accuracy: 0.9268 - auc: 0.8495 - f1_score: 0.2751 - loss: 0.0468 - precision: 0.5885 - recall: 0.2174  "
     ]
    },
    {
     "name": "stderr",
     "output_type": "stream",
     "text": [
      "2025-06-19 13:10:58 - INFO - \n",
      "=== Epoch 22 Summary ===\n",
      "2025-06-19 13:10:58 - INFO - Time: 254.37s\n",
      "2025-06-19 13:10:58 - INFO - Training   - accuracy: 0.9277 - auc: 0.8528 - f1_score: 0.2811 - loss: 0.0459 - precision: 0.5951 - recall: 0.2227 - learning_rate: 0.0000\n",
      "2025-06-19 13:10:58 - INFO - Validation - accuracy: 0.9350 - auc: 0.7674 - f1_score: 0.1823 - loss: 0.0620 - precision: 0.3223 - recall: 0.1572\n",
      "2025-06-19 13:10:58 - INFO - ==================================================\n",
      "\n"
     ]
    },
    {
     "name": "stdout",
     "output_type": "stream",
     "text": [
      "\u001b[1m813/813\u001b[0m \u001b[32m━━━━━━━━━━━━━━━━━━━━\u001b[0m\u001b[37m\u001b[0m \u001b[1m254s\u001b[0m 237ms/step - accuracy: 0.9268 - auc: 0.8495 - f1_score: 0.2751 - loss: 0.0468 - precision: 0.5885 - recall: 0.2174 - val_accuracy: 0.9350 - val_auc: 0.7674 - val_f1_score: 0.1823 - val_loss: 0.0620 - val_precision: 0.3223 - val_recall: 0.1572 - learning_rate: 1.2500e-05\n"
     ]
    },
    {
     "name": "stderr",
     "output_type": "stream",
     "text": [
      "2025-06-19 13:10:58 - INFO - \n",
      "=== Starting Epoch 23 ===\n",
      "\n"
     ]
    },
    {
     "name": "stdout",
     "output_type": "stream",
     "text": [
      "Epoch 23/100\n",
      "\u001b[1m813/813\u001b[0m \u001b[32m━━━━━━━━━━━━━━━━━━━━\u001b[0m\u001b[37m\u001b[0m \u001b[1m0s\u001b[0m 217ms/step - accuracy: 0.9279 - auc: 0.8547 - f1_score: 0.2926 - loss: 0.0457 - precision: 0.5958 - recall: 0.2338  "
     ]
    },
    {
     "name": "stderr",
     "output_type": "stream",
     "text": [
      "2025-06-19 13:14:04 - INFO - \n",
      "=== Epoch 23 Summary ===\n",
      "2025-06-19 13:14:04 - INFO - Time: 185.23s\n",
      "2025-06-19 13:14:04 - INFO - Training   - accuracy: 0.9284 - auc: 0.8586 - f1_score: 0.2951 - loss: 0.0449 - precision: 0.6019 - recall: 0.2352 - learning_rate: 0.0000\n",
      "2025-06-19 13:14:04 - INFO - Validation - accuracy: 0.9385 - auc: 0.7622 - f1_score: 0.1640 - loss: 0.0603 - precision: 0.3532 - recall: 0.1332\n",
      "2025-06-19 13:14:04 - INFO - ==================================================\n",
      "\n"
     ]
    },
    {
     "name": "stdout",
     "output_type": "stream",
     "text": [
      "\u001b[1m813/813\u001b[0m \u001b[32m━━━━━━━━━━━━━━━━━━━━\u001b[0m\u001b[37m\u001b[0m \u001b[1m185s\u001b[0m 228ms/step - accuracy: 0.9279 - auc: 0.8547 - f1_score: 0.2926 - loss: 0.0457 - precision: 0.5958 - recall: 0.2338 - val_accuracy: 0.9385 - val_auc: 0.7622 - val_f1_score: 0.1640 - val_loss: 0.0603 - val_precision: 0.3532 - val_recall: 0.1332 - learning_rate: 1.2500e-05\n"
     ]
    },
    {
     "name": "stderr",
     "output_type": "stream",
     "text": [
      "2025-06-19 13:14:04 - INFO - \n",
      "=== Starting Epoch 24 ===\n",
      "\n"
     ]
    },
    {
     "name": "stdout",
     "output_type": "stream",
     "text": [
      "Epoch 24/100\n",
      "\u001b[1m813/813\u001b[0m \u001b[32m━━━━━━━━━━━━━━━━━━━━\u001b[0m\u001b[37m\u001b[0m \u001b[1m0s\u001b[0m 232ms/step - accuracy: 0.9283 - auc: 0.8593 - f1_score: 0.3020 - loss: 0.0447 - precision: 0.6015 - recall: 0.2412  "
     ]
    },
    {
     "name": "stderr",
     "output_type": "stream",
     "text": [
      "2025-06-19 13:17:21 - INFO - \n",
      "=== Epoch 24 Summary ===\n",
      "2025-06-19 13:17:21 - INFO - Time: 197.40s\n",
      "2025-06-19 13:17:21 - INFO - Training   - accuracy: 0.9291 - auc: 0.8631 - f1_score: 0.3096 - loss: 0.0441 - precision: 0.6090 - recall: 0.2474 - learning_rate: 0.0000\n",
      "2025-06-19 13:17:21 - INFO - Validation - accuracy: 0.9339 - auc: 0.7621 - f1_score: 0.1598 - loss: 0.0625 - precision: 0.2867 - recall: 0.1303\n",
      "2025-06-19 13:17:21 - INFO - ==================================================\n",
      "\n"
     ]
    },
    {
     "name": "stdout",
     "output_type": "stream",
     "text": [
      "\u001b[1m813/813\u001b[0m \u001b[32m━━━━━━━━━━━━━━━━━━━━\u001b[0m\u001b[37m\u001b[0m \u001b[1m197s\u001b[0m 243ms/step - accuracy: 0.9283 - auc: 0.8593 - f1_score: 0.3020 - loss: 0.0447 - precision: 0.6015 - recall: 0.2412 - val_accuracy: 0.9339 - val_auc: 0.7621 - val_f1_score: 0.1598 - val_loss: 0.0625 - val_precision: 0.2867 - val_recall: 0.1303 - learning_rate: 1.2500e-05\n"
     ]
    },
    {
     "name": "stderr",
     "output_type": "stream",
     "text": [
      "2025-06-19 13:17:21 - INFO - \n",
      "=== Starting Epoch 25 ===\n",
      "\n"
     ]
    },
    {
     "name": "stdout",
     "output_type": "stream",
     "text": [
      "Epoch 25/100\n",
      "\u001b[1m813/813\u001b[0m \u001b[32m━━━━━━━━━━━━━━━━━━━━\u001b[0m\u001b[37m\u001b[0m \u001b[1m0s\u001b[0m 232ms/step - accuracy: 0.9288 - auc: 0.8658 - f1_score: 0.3186 - loss: 0.0437 - precision: 0.6092 - recall: 0.2551  \n",
      "Epoch 25: ReduceLROnPlateau reducing learning rate to 6.24999984211172e-06.\n"
     ]
    },
    {
     "name": "stderr",
     "output_type": "stream",
     "text": [
      "2025-06-19 13:20:41 - INFO - \n",
      "=== Epoch 25 Summary ===\n",
      "2025-06-19 13:20:41 - INFO - Time: 200.32s\n",
      "2025-06-19 13:20:41 - INFO - Training   - accuracy: 0.9297 - auc: 0.8690 - f1_score: 0.3227 - loss: 0.0431 - precision: 0.6158 - recall: 0.2583 - learning_rate: 0.0000\n",
      "2025-06-19 13:20:41 - INFO - Validation - accuracy: 0.9323 - auc: 0.7627 - f1_score: 0.1807 - loss: 0.0643 - precision: 0.3054 - recall: 0.1742\n",
      "2025-06-19 13:20:41 - INFO - ==================================================\n",
      "\n"
     ]
    },
    {
     "name": "stdout",
     "output_type": "stream",
     "text": [
      "\u001b[1m813/813\u001b[0m \u001b[32m━━━━━━━━━━━━━━━━━━━━\u001b[0m\u001b[37m\u001b[0m \u001b[1m200s\u001b[0m 246ms/step - accuracy: 0.9288 - auc: 0.8658 - f1_score: 0.3186 - loss: 0.0437 - precision: 0.6092 - recall: 0.2551 - val_accuracy: 0.9323 - val_auc: 0.7627 - val_f1_score: 0.1807 - val_loss: 0.0643 - val_precision: 0.3054 - val_recall: 0.1742 - learning_rate: 1.2500e-05\n"
     ]
    },
    {
     "name": "stderr",
     "output_type": "stream",
     "text": [
      "2025-06-19 13:20:41 - INFO - \n",
      "=== Starting Epoch 26 ===\n",
      "\n"
     ]
    },
    {
     "name": "stdout",
     "output_type": "stream",
     "text": [
      "Epoch 26/100\n",
      "\u001b[1m813/813\u001b[0m \u001b[32m━━━━━━━━━━━━━━━━━━━━\u001b[0m\u001b[37m\u001b[0m \u001b[1m0s\u001b[0m 223ms/step - accuracy: 0.9309 - auc: 0.8746 - f1_score: 0.3435 - loss: 0.0422 - precision: 0.6354 - recall: 0.2768  "
     ]
    },
    {
     "name": "stderr",
     "output_type": "stream",
     "text": [
      "2025-06-19 13:23:56 - INFO - \n",
      "=== Epoch 26 Summary ===\n",
      "2025-06-19 13:23:56 - INFO - Time: 195.00s\n",
      "2025-06-19 13:23:56 - INFO - Training   - accuracy: 0.9322 - auc: 0.8793 - f1_score: 0.3526 - loss: 0.0411 - precision: 0.6468 - recall: 0.2835 - learning_rate: 0.0000\n",
      "2025-06-19 13:23:56 - INFO - Validation - accuracy: 0.9357 - auc: 0.7660 - f1_score: 0.1840 - loss: 0.0615 - precision: 0.3328 - recall: 0.1601\n",
      "2025-06-19 13:23:56 - INFO - ==================================================\n",
      "\n"
     ]
    },
    {
     "name": "stdout",
     "output_type": "stream",
     "text": [
      "\u001b[1m813/813\u001b[0m \u001b[32m━━━━━━━━━━━━━━━━━━━━\u001b[0m\u001b[37m\u001b[0m \u001b[1m195s\u001b[0m 240ms/step - accuracy: 0.9309 - auc: 0.8746 - f1_score: 0.3436 - loss: 0.0422 - precision: 0.6354 - recall: 0.2769 - val_accuracy: 0.9357 - val_auc: 0.7660 - val_f1_score: 0.1840 - val_loss: 0.0615 - val_precision: 0.3328 - val_recall: 0.1601 - learning_rate: 6.2500e-06\n"
     ]
    },
    {
     "name": "stderr",
     "output_type": "stream",
     "text": [
      "2025-06-19 13:23:56 - INFO - \n",
      "=== Starting Epoch 27 ===\n",
      "\n"
     ]
    },
    {
     "name": "stdout",
     "output_type": "stream",
     "text": [
      "Epoch 27/100\n",
      "\u001b[1m813/813\u001b[0m \u001b[32m━━━━━━━━━━━━━━━━━━━━\u001b[0m\u001b[37m\u001b[0m \u001b[1m0s\u001b[0m 217ms/step - accuracy: 0.9322 - auc: 0.8818 - f1_score: 0.3599 - loss: 0.0408 - precision: 0.6450 - recall: 0.2910  "
     ]
    },
    {
     "name": "stderr",
     "output_type": "stream",
     "text": [
      "2025-06-19 13:27:06 - INFO - \n",
      "=== Epoch 27 Summary ===\n",
      "2025-06-19 13:27:06 - INFO - Time: 189.99s\n",
      "2025-06-19 13:27:06 - INFO - Training   - accuracy: 0.9329 - auc: 0.8850 - f1_score: 0.3663 - loss: 0.0401 - precision: 0.6521 - recall: 0.2958 - learning_rate: 0.0000\n",
      "2025-06-19 13:27:06 - INFO - Validation - accuracy: 0.9373 - auc: 0.7664 - f1_score: 0.1914 - loss: 0.0608 - precision: 0.3591 - recall: 0.1684\n",
      "2025-06-19 13:27:06 - INFO - ==================================================\n",
      "\n"
     ]
    },
    {
     "name": "stdout",
     "output_type": "stream",
     "text": [
      "\u001b[1m813/813\u001b[0m \u001b[32m━━━━━━━━━━━━━━━━━━━━\u001b[0m\u001b[37m\u001b[0m \u001b[1m190s\u001b[0m 234ms/step - accuracy: 0.9322 - auc: 0.8818 - f1_score: 0.3599 - loss: 0.0408 - precision: 0.6450 - recall: 0.2910 - val_accuracy: 0.9373 - val_auc: 0.7664 - val_f1_score: 0.1914 - val_loss: 0.0608 - val_precision: 0.3591 - val_recall: 0.1684 - learning_rate: 6.2500e-06\n"
     ]
    },
    {
     "name": "stderr",
     "output_type": "stream",
     "text": [
      "2025-06-19 13:27:06 - INFO - \n",
      "=== Starting Epoch 28 ===\n",
      "\n"
     ]
    },
    {
     "name": "stdout",
     "output_type": "stream",
     "text": [
      "Epoch 28/100\n",
      "\u001b[1m813/813\u001b[0m \u001b[32m━━━━━━━━━━━━━━━━━━━━\u001b[0m\u001b[37m\u001b[0m \u001b[1m0s\u001b[0m 218ms/step - accuracy: 0.9332 - auc: 0.8863 - f1_score: 0.3805 - loss: 0.0401 - precision: 0.6579 - recall: 0.3080  "
     ]
    },
    {
     "name": "stderr",
     "output_type": "stream",
     "text": [
      "2025-06-19 13:30:16 - INFO - \n",
      "=== Epoch 28 Summary ===\n",
      "2025-06-19 13:30:16 - INFO - Time: 189.70s\n",
      "2025-06-19 13:30:16 - INFO - Training   - accuracy: 0.9340 - auc: 0.8895 - f1_score: 0.3839 - loss: 0.0393 - precision: 0.6620 - recall: 0.3114 - learning_rate: 0.0000\n",
      "2025-06-19 13:30:16 - INFO - Validation - accuracy: 0.9338 - auc: 0.7594 - f1_score: 0.1787 - loss: 0.0646 - precision: 0.3085 - recall: 0.1576\n",
      "2025-06-19 13:30:16 - INFO - ==================================================\n",
      "\n"
     ]
    },
    {
     "name": "stdout",
     "output_type": "stream",
     "text": [
      "\u001b[1m813/813\u001b[0m \u001b[32m━━━━━━━━━━━━━━━━━━━━\u001b[0m\u001b[37m\u001b[0m \u001b[1m190s\u001b[0m 233ms/step - accuracy: 0.9332 - auc: 0.8863 - f1_score: 0.3805 - loss: 0.0401 - precision: 0.6579 - recall: 0.3080 - val_accuracy: 0.9338 - val_auc: 0.7594 - val_f1_score: 0.1787 - val_loss: 0.0646 - val_precision: 0.3085 - val_recall: 0.1576 - learning_rate: 6.2500e-06\n"
     ]
    },
    {
     "name": "stderr",
     "output_type": "stream",
     "text": [
      "2025-06-19 13:30:16 - INFO - \n",
      "=== Starting Epoch 29 ===\n",
      "\n"
     ]
    },
    {
     "name": "stdout",
     "output_type": "stream",
     "text": [
      "Epoch 29/100\n",
      "\u001b[1m813/813\u001b[0m \u001b[32m━━━━━━━━━━━━━━━━━━━━\u001b[0m\u001b[37m\u001b[0m \u001b[1m0s\u001b[0m 221ms/step - accuracy: 0.9337 - auc: 0.8899 - f1_score: 0.3854 - loss: 0.0393 - precision: 0.6600 - recall: 0.3120  "
     ]
    },
    {
     "name": "stderr",
     "output_type": "stream",
     "text": [
      "2025-06-19 13:33:30 - INFO - \n",
      "=== Epoch 29 Summary ===\n",
      "2025-06-19 13:33:30 - INFO - Time: 194.31s\n",
      "2025-06-19 13:33:30 - INFO - Training   - accuracy: 0.9343 - auc: 0.8930 - f1_score: 0.3901 - loss: 0.0387 - precision: 0.6628 - recall: 0.3167 - learning_rate: 0.0000\n",
      "2025-06-19 13:33:30 - INFO - Validation - accuracy: 0.9329 - auc: 0.7656 - f1_score: 0.1946 - loss: 0.0651 - precision: 0.3091 - recall: 0.1716\n",
      "2025-06-19 13:33:30 - INFO - ==================================================\n",
      "\n"
     ]
    },
    {
     "name": "stdout",
     "output_type": "stream",
     "text": [
      "\u001b[1m813/813\u001b[0m \u001b[32m━━━━━━━━━━━━━━━━━━━━\u001b[0m\u001b[37m\u001b[0m \u001b[1m194s\u001b[0m 239ms/step - accuracy: 0.9337 - auc: 0.8900 - f1_score: 0.3854 - loss: 0.0393 - precision: 0.6600 - recall: 0.3120 - val_accuracy: 0.9329 - val_auc: 0.7656 - val_f1_score: 0.1946 - val_loss: 0.0651 - val_precision: 0.3091 - val_recall: 0.1716 - learning_rate: 6.2500e-06\n"
     ]
    },
    {
     "name": "stderr",
     "output_type": "stream",
     "text": [
      "2025-06-19 13:33:31 - INFO - \n",
      "=== Starting Epoch 30 ===\n",
      "\n"
     ]
    },
    {
     "name": "stdout",
     "output_type": "stream",
     "text": [
      "Epoch 30/100\n",
      "\u001b[1m813/813\u001b[0m \u001b[32m━━━━━━━━━━━━━━━━━━━━\u001b[0m\u001b[37m\u001b[0m \u001b[1m0s\u001b[0m 219ms/step - accuracy: 0.9345 - auc: 0.8947 - f1_score: 0.3992 - loss: 0.0385 - precision: 0.6626 - recall: 0.3254  "
     ]
    },
    {
     "name": "stderr",
     "output_type": "stream",
     "text": [
      "2025-06-19 13:36:44 - INFO - \n",
      "=== Epoch 30 Summary ===\n",
      "2025-06-19 13:36:44 - INFO - Time: 193.88s\n",
      "2025-06-19 13:36:44 - INFO - Training   - accuracy: 0.9350 - auc: 0.8968 - f1_score: 0.4023 - loss: 0.0380 - precision: 0.6666 - recall: 0.3282 - learning_rate: 0.0000\n",
      "2025-06-19 13:36:44 - INFO - Validation - accuracy: 0.9340 - auc: 0.7646 - f1_score: 0.1981 - loss: 0.0643 - precision: 0.3183 - recall: 0.1677\n",
      "2025-06-19 13:36:44 - INFO - ==================================================\n",
      "\n"
     ]
    },
    {
     "name": "stdout",
     "output_type": "stream",
     "text": [
      "\u001b[1m813/813\u001b[0m \u001b[32m━━━━━━━━━━━━━━━━━━━━\u001b[0m\u001b[37m\u001b[0m \u001b[1m194s\u001b[0m 239ms/step - accuracy: 0.9345 - auc: 0.8947 - f1_score: 0.3992 - loss: 0.0385 - precision: 0.6626 - recall: 0.3254 - val_accuracy: 0.9340 - val_auc: 0.7646 - val_f1_score: 0.1981 - val_loss: 0.0643 - val_precision: 0.3183 - val_recall: 0.1677 - learning_rate: 6.2500e-06\n"
     ]
    },
    {
     "name": "stderr",
     "output_type": "stream",
     "text": [
      "2025-06-19 13:36:44 - INFO - \n",
      "=== Starting Epoch 31 ===\n",
      "\n"
     ]
    },
    {
     "name": "stdout",
     "output_type": "stream",
     "text": [
      "Epoch 31/100\n",
      "\u001b[1m813/813\u001b[0m \u001b[32m━━━━━━━━━━━━━━━━━━━━\u001b[0m\u001b[37m\u001b[0m \u001b[1m0s\u001b[0m 219ms/step - accuracy: 0.9352 - auc: 0.8977 - f1_score: 0.4111 - loss: 0.0379 - precision: 0.6686 - recall: 0.3367  "
     ]
    },
    {
     "name": "stderr",
     "output_type": "stream",
     "text": [
      "2025-06-19 13:39:56 - INFO - \n",
      "=== Epoch 31 Summary ===\n",
      "2025-06-19 13:39:56 - INFO - Time: 191.36s\n",
      "2025-06-19 13:39:56 - INFO - Training   - accuracy: 0.9358 - auc: 0.9006 - f1_score: 0.4152 - loss: 0.0374 - precision: 0.6737 - recall: 0.3398 - learning_rate: 0.0000\n",
      "2025-06-19 13:39:56 - INFO - Validation - accuracy: 0.9344 - auc: 0.7654 - f1_score: 0.2009 - loss: 0.0634 - precision: 0.3341 - recall: 0.1852\n",
      "2025-06-19 13:39:56 - INFO - ==================================================\n",
      "\n"
     ]
    },
    {
     "name": "stdout",
     "output_type": "stream",
     "text": [
      "\u001b[1m813/813\u001b[0m \u001b[32m━━━━━━━━━━━━━━━━━━━━\u001b[0m\u001b[37m\u001b[0m \u001b[1m191s\u001b[0m 235ms/step - accuracy: 0.9352 - auc: 0.8977 - f1_score: 0.4111 - loss: 0.0379 - precision: 0.6686 - recall: 0.3367 - val_accuracy: 0.9344 - val_auc: 0.7654 - val_f1_score: 0.2009 - val_loss: 0.0634 - val_precision: 0.3341 - val_recall: 0.1852 - learning_rate: 6.2500e-06\n"
     ]
    },
    {
     "name": "stderr",
     "output_type": "stream",
     "text": [
      "2025-06-19 13:39:56 - INFO - \n",
      "=== Starting Epoch 32 ===\n",
      "\n"
     ]
    },
    {
     "name": "stdout",
     "output_type": "stream",
     "text": [
      "Epoch 32/100\n",
      "\u001b[1m813/813\u001b[0m \u001b[32m━━━━━━━━━━━━━━━━━━━━\u001b[0m\u001b[37m\u001b[0m \u001b[1m0s\u001b[0m 217ms/step - accuracy: 0.9358 - auc: 0.9013 - f1_score: 0.4221 - loss: 0.0373 - precision: 0.6736 - recall: 0.3460  "
     ]
    },
    {
     "name": "stderr",
     "output_type": "stream",
     "text": [
      "2025-06-19 13:43:05 - INFO - \n",
      "=== Epoch 32 Summary ===\n",
      "2025-06-19 13:43:05 - INFO - Time: 189.40s\n",
      "2025-06-19 13:43:05 - INFO - Training   - accuracy: 0.9365 - auc: 0.9036 - f1_score: 0.4267 - loss: 0.0368 - precision: 0.6773 - recall: 0.3508 - learning_rate: 0.0000\n",
      "2025-06-19 13:43:05 - INFO - Validation - accuracy: 0.9313 - auc: 0.7612 - f1_score: 0.1884 - loss: 0.0678 - precision: 0.3027 - recall: 0.1850\n",
      "2025-06-19 13:43:05 - INFO - ==================================================\n",
      "\n"
     ]
    },
    {
     "name": "stdout",
     "output_type": "stream",
     "text": [
      "\u001b[1m813/813\u001b[0m \u001b[32m━━━━━━━━━━━━━━━━━━━━\u001b[0m\u001b[37m\u001b[0m \u001b[1m189s\u001b[0m 233ms/step - accuracy: 0.9358 - auc: 0.9013 - f1_score: 0.4222 - loss: 0.0373 - precision: 0.6736 - recall: 0.3460 - val_accuracy: 0.9313 - val_auc: 0.7612 - val_f1_score: 0.1884 - val_loss: 0.0678 - val_precision: 0.3027 - val_recall: 0.1850 - learning_rate: 6.2500e-06\n"
     ]
    },
    {
     "name": "stderr",
     "output_type": "stream",
     "text": [
      "2025-06-19 13:43:05 - INFO - \n",
      "=== Starting Epoch 33 ===\n",
      "\n"
     ]
    },
    {
     "name": "stdout",
     "output_type": "stream",
     "text": [
      "Epoch 33/100\n",
      "\u001b[1m813/813\u001b[0m \u001b[32m━━━━━━━━━━━━━━━━━━━━\u001b[0m\u001b[37m\u001b[0m \u001b[1m0s\u001b[0m 217ms/step - accuracy: 0.9366 - auc: 0.9064 - f1_score: 0.4350 - loss: 0.0364 - precision: 0.6805 - recall: 0.3576  "
     ]
    },
    {
     "name": "stderr",
     "output_type": "stream",
     "text": [
      "2025-06-19 13:46:14 - INFO - \n",
      "=== Epoch 33 Summary ===\n",
      "2025-06-19 13:46:14 - INFO - Time: 189.09s\n",
      "2025-06-19 13:46:14 - INFO - Training   - accuracy: 0.9372 - auc: 0.9078 - f1_score: 0.4388 - loss: 0.0360 - precision: 0.6822 - recall: 0.3612 - learning_rate: 0.0000\n",
      "2025-06-19 13:46:14 - INFO - Validation - accuracy: 0.9353 - auc: 0.7642 - f1_score: 0.1912 - loss: 0.0645 - precision: 0.3300 - recall: 0.1626\n",
      "2025-06-19 13:46:14 - INFO - ==================================================\n",
      "\n"
     ]
    },
    {
     "name": "stdout",
     "output_type": "stream",
     "text": [
      "\u001b[1m813/813\u001b[0m \u001b[32m━━━━━━━━━━━━━━━━━━━━\u001b[0m\u001b[37m\u001b[0m \u001b[1m189s\u001b[0m 233ms/step - accuracy: 0.9366 - auc: 0.9064 - f1_score: 0.4350 - loss: 0.0364 - precision: 0.6805 - recall: 0.3576 - val_accuracy: 0.9353 - val_auc: 0.7642 - val_f1_score: 0.1912 - val_loss: 0.0645 - val_precision: 0.3300 - val_recall: 0.1626 - learning_rate: 6.2500e-06\n"
     ]
    },
    {
     "name": "stderr",
     "output_type": "stream",
     "text": [
      "2025-06-19 13:46:14 - INFO - \n",
      "=== Starting Epoch 34 ===\n",
      "\n"
     ]
    },
    {
     "name": "stdout",
     "output_type": "stream",
     "text": [
      "Epoch 34/100\n",
      "\u001b[1m813/813\u001b[0m \u001b[32m━━━━━━━━━━━━━━━━━━━━\u001b[0m\u001b[37m\u001b[0m \u001b[1m0s\u001b[0m 219ms/step - accuracy: 0.9371 - auc: 0.9092 - f1_score: 0.4413 - loss: 0.0359 - precision: 0.6837 - recall: 0.3633  \n",
      "Epoch 34: ReduceLROnPlateau reducing learning rate to 3.12499992105586e-06.\n"
     ]
    },
    {
     "name": "stderr",
     "output_type": "stream",
     "text": [
      "2025-06-19 13:49:25 - INFO - \n",
      "=== Epoch 34 Summary ===\n",
      "2025-06-19 13:49:25 - INFO - Time: 190.40s\n",
      "2025-06-19 13:49:25 - INFO - Training   - accuracy: 0.9379 - auc: 0.9114 - f1_score: 0.4483 - loss: 0.0355 - precision: 0.6873 - recall: 0.3701 - learning_rate: 0.0000\n",
      "2025-06-19 13:49:25 - INFO - Validation - accuracy: 0.9293 - auc: 0.7576 - f1_score: 0.1879 - loss: 0.0696 - precision: 0.2726 - recall: 0.1662\n",
      "2025-06-19 13:49:25 - INFO - ==================================================\n",
      "\n"
     ]
    },
    {
     "name": "stdout",
     "output_type": "stream",
     "text": [
      "\u001b[1m813/813\u001b[0m \u001b[32m━━━━━━━━━━━━━━━━━━━━\u001b[0m\u001b[37m\u001b[0m \u001b[1m190s\u001b[0m 234ms/step - accuracy: 0.9372 - auc: 0.9092 - f1_score: 0.4413 - loss: 0.0359 - precision: 0.6837 - recall: 0.3633 - val_accuracy: 0.9293 - val_auc: 0.7576 - val_f1_score: 0.1879 - val_loss: 0.0696 - val_precision: 0.2726 - val_recall: 0.1662 - learning_rate: 6.2500e-06\n"
     ]
    },
    {
     "name": "stderr",
     "output_type": "stream",
     "text": [
      "2025-06-19 13:49:25 - INFO - \n",
      "=== Starting Epoch 35 ===\n",
      "\n"
     ]
    },
    {
     "name": "stdout",
     "output_type": "stream",
     "text": [
      "Epoch 35/100\n",
      "\u001b[1m813/813\u001b[0m \u001b[32m━━━━━━━━━━━━━━━━━━━━\u001b[0m\u001b[37m\u001b[0m \u001b[1m0s\u001b[0m 219ms/step - accuracy: 0.9391 - auc: 0.9142 - f1_score: 0.4618 - loss: 0.0347 - precision: 0.7007 - recall: 0.3813  "
     ]
    },
    {
     "name": "stderr",
     "output_type": "stream",
     "text": [
      "2025-06-19 13:52:37 - INFO - \n",
      "=== Epoch 35 Summary ===\n",
      "2025-06-19 13:52:37 - INFO - Time: 191.94s\n",
      "2025-06-19 13:52:37 - INFO - Training   - accuracy: 0.9398 - auc: 0.9170 - f1_score: 0.4690 - loss: 0.0342 - precision: 0.7054 - recall: 0.3887 - learning_rate: 0.0000\n",
      "2025-06-19 13:52:37 - INFO - Validation - accuracy: 0.9335 - auc: 0.7601 - f1_score: 0.1963 - loss: 0.0665 - precision: 0.3118 - recall: 0.1657\n",
      "2025-06-19 13:52:37 - INFO - ==================================================\n",
      "\n"
     ]
    },
    {
     "name": "stdout",
     "output_type": "stream",
     "text": [
      "\u001b[1m813/813\u001b[0m \u001b[32m━━━━━━━━━━━━━━━━━━━━\u001b[0m\u001b[37m\u001b[0m \u001b[1m192s\u001b[0m 236ms/step - accuracy: 0.9391 - auc: 0.9142 - f1_score: 0.4618 - loss: 0.0347 - precision: 0.7007 - recall: 0.3813 - val_accuracy: 0.9335 - val_auc: 0.7601 - val_f1_score: 0.1963 - val_loss: 0.0665 - val_precision: 0.3118 - val_recall: 0.1657 - learning_rate: 3.1250e-06\n"
     ]
    },
    {
     "name": "stderr",
     "output_type": "stream",
     "text": [
      "2025-06-19 13:52:37 - INFO - \n",
      "=== Starting Epoch 36 ===\n",
      "\n"
     ]
    },
    {
     "name": "stdout",
     "output_type": "stream",
     "text": [
      "Epoch 36/100\n",
      "\u001b[1m813/813\u001b[0m \u001b[32m━━━━━━━━━━━━━━━━━━━━\u001b[0m\u001b[37m\u001b[0m \u001b[1m0s\u001b[0m 219ms/step - accuracy: 0.9399 - auc: 0.9185 - f1_score: 0.4763 - loss: 0.0343 - precision: 0.7078 - recall: 0.3941  "
     ]
    },
    {
     "name": "stderr",
     "output_type": "stream",
     "text": [
      "2025-06-19 13:55:48 - INFO - \n",
      "=== Epoch 36 Summary ===\n",
      "2025-06-19 13:55:48 - INFO - Time: 190.98s\n",
      "2025-06-19 13:55:48 - INFO - Training   - accuracy: 0.9405 - auc: 0.9200 - f1_score: 0.4805 - loss: 0.0337 - precision: 0.7091 - recall: 0.3989 - learning_rate: 0.0000\n",
      "2025-06-19 13:55:48 - INFO - Validation - accuracy: 0.9322 - auc: 0.7600 - f1_score: 0.1969 - loss: 0.0680 - precision: 0.3031 - recall: 0.1732\n",
      "2025-06-19 13:55:48 - INFO - ==================================================\n",
      "\n"
     ]
    },
    {
     "name": "stdout",
     "output_type": "stream",
     "text": [
      "\u001b[1m813/813\u001b[0m \u001b[32m━━━━━━━━━━━━━━━━━━━━\u001b[0m\u001b[37m\u001b[0m \u001b[1m191s\u001b[0m 235ms/step - accuracy: 0.9399 - auc: 0.9185 - f1_score: 0.4764 - loss: 0.0343 - precision: 0.7078 - recall: 0.3941 - val_accuracy: 0.9322 - val_auc: 0.7600 - val_f1_score: 0.1969 - val_loss: 0.0680 - val_precision: 0.3031 - val_recall: 0.1732 - learning_rate: 3.1250e-06\n"
     ]
    },
    {
     "name": "stderr",
     "output_type": "stream",
     "text": [
      "2025-06-19 13:55:48 - INFO - \n",
      "=== Starting Epoch 37 ===\n",
      "\n"
     ]
    },
    {
     "name": "stdout",
     "output_type": "stream",
     "text": [
      "Epoch 37/100\n",
      "\u001b[1m813/813\u001b[0m \u001b[32m━━━━━━━━━━━━━━━━━━━━\u001b[0m\u001b[37m\u001b[0m \u001b[1m0s\u001b[0m 218ms/step - accuracy: 0.9404 - auc: 0.9207 - f1_score: 0.4842 - loss: 0.0336 - precision: 0.7084 - recall: 0.4039  \n",
      "Epoch 37: ReduceLROnPlateau reducing learning rate to 1.56249996052793e-06.\n"
     ]
    },
    {
     "name": "stderr",
     "output_type": "stream",
     "text": [
      "2025-06-19 13:58:57 - INFO - \n",
      "=== Epoch 37 Summary ===\n",
      "2025-06-19 13:58:57 - INFO - Time: 189.66s\n",
      "2025-06-19 13:58:57 - INFO - Training   - accuracy: 0.9411 - auc: 0.9225 - f1_score: 0.4902 - loss: 0.0332 - precision: 0.7115 - recall: 0.4095 - learning_rate: 0.0000\n",
      "2025-06-19 13:58:57 - INFO - Validation - accuracy: 0.9297 - auc: 0.7545 - f1_score: 0.1923 - loss: 0.0687 - precision: 0.2773 - recall: 0.1680\n",
      "2025-06-19 13:58:57 - INFO - ==================================================\n",
      "\n"
     ]
    },
    {
     "name": "stdout",
     "output_type": "stream",
     "text": [
      "\u001b[1m813/813\u001b[0m \u001b[32m━━━━━━━━━━━━━━━━━━━━\u001b[0m\u001b[37m\u001b[0m \u001b[1m190s\u001b[0m 233ms/step - accuracy: 0.9404 - auc: 0.9207 - f1_score: 0.4842 - loss: 0.0336 - precision: 0.7084 - recall: 0.4039 - val_accuracy: 0.9297 - val_auc: 0.7545 - val_f1_score: 0.1923 - val_loss: 0.0687 - val_precision: 0.2773 - val_recall: 0.1680 - learning_rate: 3.1250e-06\n"
     ]
    },
    {
     "name": "stderr",
     "output_type": "stream",
     "text": [
      "2025-06-19 13:58:57 - INFO - \n",
      "=== Starting Epoch 38 ===\n",
      "\n"
     ]
    },
    {
     "name": "stdout",
     "output_type": "stream",
     "text": [
      "Epoch 38/100\n",
      "\u001b[1m813/813\u001b[0m \u001b[32m━━━━━━━━━━━━━━━━━━━━\u001b[0m\u001b[37m\u001b[0m \u001b[1m0s\u001b[0m 218ms/step - accuracy: 0.9415 - auc: 0.9244 - f1_score: 0.4958 - loss: 0.0330 - precision: 0.7170 - recall: 0.4139  "
     ]
    },
    {
     "name": "stderr",
     "output_type": "stream",
     "text": [
      "2025-06-19 14:02:03 - INFO - \n",
      "=== Epoch 38 Summary ===\n",
      "2025-06-19 14:02:03 - INFO - Time: 185.51s\n",
      "2025-06-19 14:02:03 - INFO - Training   - accuracy: 0.9424 - auc: 0.9264 - f1_score: 0.5033 - loss: 0.0324 - precision: 0.7229 - recall: 0.4213 - learning_rate: 0.0000\n",
      "2025-06-19 14:02:03 - INFO - Validation - accuracy: 0.9322 - auc: 0.7596 - f1_score: 0.1952 - loss: 0.0696 - precision: 0.2963 - recall: 0.1633\n",
      "2025-06-19 14:02:03 - INFO - ==================================================\n",
      "\n"
     ]
    },
    {
     "name": "stdout",
     "output_type": "stream",
     "text": [
      "\u001b[1m813/813\u001b[0m \u001b[32m━━━━━━━━━━━━━━━━━━━━\u001b[0m\u001b[37m\u001b[0m \u001b[1m186s\u001b[0m 228ms/step - accuracy: 0.9415 - auc: 0.9244 - f1_score: 0.4958 - loss: 0.0330 - precision: 0.7170 - recall: 0.4139 - val_accuracy: 0.9322 - val_auc: 0.7596 - val_f1_score: 0.1952 - val_loss: 0.0696 - val_precision: 0.2963 - val_recall: 0.1633 - learning_rate: 1.5625e-06\n"
     ]
    },
    {
     "name": "stderr",
     "output_type": "stream",
     "text": [
      "2025-06-19 14:02:03 - INFO - \n",
      "=== Starting Epoch 39 ===\n",
      "\n"
     ]
    },
    {
     "name": "stdout",
     "output_type": "stream",
     "text": [
      "Epoch 39/100\n",
      "\u001b[1m813/813\u001b[0m \u001b[32m━━━━━━━━━━━━━━━━━━━━\u001b[0m\u001b[37m\u001b[0m \u001b[1m0s\u001b[0m 228ms/step - accuracy: 0.9425 - auc: 0.9259 - f1_score: 0.5055 - loss: 0.0325 - precision: 0.7251 - recall: 0.4217  "
     ]
    },
    {
     "name": "stderr",
     "output_type": "stream",
     "text": [
      "2025-06-19 14:05:18 - INFO - \n",
      "=== Epoch 39 Summary ===\n",
      "2025-06-19 14:05:18 - INFO - Time: 194.70s\n",
      "2025-06-19 14:05:18 - INFO - Training   - accuracy: 0.9430 - auc: 0.9279 - f1_score: 0.5109 - loss: 0.0320 - precision: 0.7264 - recall: 0.4283 - learning_rate: 0.0000\n",
      "2025-06-19 14:05:18 - INFO - Validation - accuracy: 0.9326 - auc: 0.7589 - f1_score: 0.2102 - loss: 0.0671 - precision: 0.3081 - recall: 0.1742\n",
      "2025-06-19 14:05:18 - INFO - ==================================================\n",
      "\n"
     ]
    },
    {
     "name": "stdout",
     "output_type": "stream",
     "text": [
      "\u001b[1m813/813\u001b[0m \u001b[32m━━━━━━━━━━━━━━━━━━━━\u001b[0m\u001b[37m\u001b[0m \u001b[1m195s\u001b[0m 240ms/step - accuracy: 0.9425 - auc: 0.9259 - f1_score: 0.5055 - loss: 0.0325 - precision: 0.7251 - recall: 0.4217 - val_accuracy: 0.9326 - val_auc: 0.7589 - val_f1_score: 0.2102 - val_loss: 0.0671 - val_precision: 0.3081 - val_recall: 0.1742 - learning_rate: 1.5625e-06\n"
     ]
    },
    {
     "name": "stderr",
     "output_type": "stream",
     "text": [
      "2025-06-19 14:05:18 - INFO - \n",
      "=== Starting Epoch 40 ===\n",
      "\n"
     ]
    },
    {
     "name": "stdout",
     "output_type": "stream",
     "text": [
      "Epoch 40/100\n",
      "\u001b[1m813/813\u001b[0m \u001b[32m━━━━━━━━━━━━━━━━━━━━\u001b[0m\u001b[37m\u001b[0m \u001b[1m0s\u001b[0m 228ms/step - accuracy: 0.9427 - auc: 0.9275 - f1_score: 0.5127 - loss: 0.0322 - precision: 0.7250 - recall: 0.4305  "
     ]
    },
    {
     "name": "stderr",
     "output_type": "stream",
     "text": [
      "2025-06-19 14:08:32 - INFO - \n",
      "=== Epoch 40 Summary ===\n",
      "2025-06-19 14:08:32 - INFO - Time: 194.29s\n",
      "2025-06-19 14:08:32 - INFO - Training   - accuracy: 0.9432 - auc: 0.9291 - f1_score: 0.5150 - loss: 0.0318 - precision: 0.7267 - recall: 0.4331 - learning_rate: 0.0000\n",
      "2025-06-19 14:08:32 - INFO - Validation - accuracy: 0.9337 - auc: 0.7570 - f1_score: 0.2086 - loss: 0.0668 - precision: 0.3213 - recall: 0.1777\n",
      "2025-06-19 14:08:32 - INFO - ==================================================\n",
      "\n"
     ]
    },
    {
     "name": "stdout",
     "output_type": "stream",
     "text": [
      "\u001b[1m813/813\u001b[0m \u001b[32m━━━━━━━━━━━━━━━━━━━━\u001b[0m\u001b[37m\u001b[0m \u001b[1m194s\u001b[0m 239ms/step - accuracy: 0.9427 - auc: 0.9275 - f1_score: 0.5127 - loss: 0.0322 - precision: 0.7250 - recall: 0.4305 - val_accuracy: 0.9337 - val_auc: 0.7570 - val_f1_score: 0.2086 - val_loss: 0.0668 - val_precision: 0.3213 - val_recall: 0.1777 - learning_rate: 1.5625e-06\n"
     ]
    },
    {
     "name": "stderr",
     "output_type": "stream",
     "text": [
      "2025-06-19 14:08:32 - INFO - \n",
      "=== Starting Epoch 41 ===\n",
      "\n"
     ]
    },
    {
     "name": "stdout",
     "output_type": "stream",
     "text": [
      "Epoch 41/100\n",
      "\u001b[1m813/813\u001b[0m \u001b[32m━━━━━━━━━━━━━━━━━━━━\u001b[0m\u001b[37m\u001b[0m \u001b[1m0s\u001b[0m 227ms/step - accuracy: 0.9431 - auc: 0.9295 - f1_score: 0.5167 - loss: 0.0318 - precision: 0.7262 - recall: 0.4340  "
     ]
    },
    {
     "name": "stderr",
     "output_type": "stream",
     "text": [
      "2025-06-19 14:11:49 - INFO - \n",
      "=== Epoch 41 Summary ===\n",
      "2025-06-19 14:11:49 - INFO - Time: 197.28s\n",
      "2025-06-19 14:11:49 - INFO - Training   - accuracy: 0.9436 - auc: 0.9304 - f1_score: 0.5207 - loss: 0.0315 - precision: 0.7287 - recall: 0.4383 - learning_rate: 0.0000\n",
      "2025-06-19 14:11:49 - INFO - Validation - accuracy: 0.9323 - auc: 0.7549 - f1_score: 0.2090 - loss: 0.0670 - precision: 0.3176 - recall: 0.1932\n",
      "2025-06-19 14:11:49 - INFO - ==================================================\n",
      "\n"
     ]
    },
    {
     "name": "stdout",
     "output_type": "stream",
     "text": [
      "\u001b[1m813/813\u001b[0m \u001b[32m━━━━━━━━━━━━━━━━━━━━\u001b[0m\u001b[37m\u001b[0m \u001b[1m197s\u001b[0m 243ms/step - accuracy: 0.9431 - auc: 0.9295 - f1_score: 0.5167 - loss: 0.0318 - precision: 0.7262 - recall: 0.4340 - val_accuracy: 0.9323 - val_auc: 0.7549 - val_f1_score: 0.2090 - val_loss: 0.0670 - val_precision: 0.3176 - val_recall: 0.1932 - learning_rate: 1.5625e-06\n"
     ]
    },
    {
     "name": "stderr",
     "output_type": "stream",
     "text": [
      "2025-06-19 14:11:49 - INFO - \n",
      "=== Starting Epoch 42 ===\n",
      "\n"
     ]
    },
    {
     "name": "stdout",
     "output_type": "stream",
     "text": [
      "Epoch 42/100\n",
      "\u001b[1m813/813\u001b[0m \u001b[32m━━━━━━━━━━━━━━━━━━━━\u001b[0m\u001b[37m\u001b[0m \u001b[1m0s\u001b[0m 218ms/step - accuracy: 0.9435 - auc: 0.9314 - f1_score: 0.5247 - loss: 0.0316 - precision: 0.7314 - recall: 0.4428  \n",
      "Epoch 42: ReduceLROnPlateau reducing learning rate to 1e-06.\n"
     ]
    },
    {
     "name": "stderr",
     "output_type": "stream",
     "text": [
      "2025-06-19 14:14:55 - INFO - \n",
      "=== Epoch 42 Summary ===\n",
      "2025-06-19 14:14:55 - INFO - Time: 185.94s\n",
      "2025-06-19 14:14:55 - INFO - Training   - accuracy: 0.9438 - auc: 0.9316 - f1_score: 0.5251 - loss: 0.0313 - precision: 0.7296 - recall: 0.4434 - learning_rate: 0.0000\n",
      "2025-06-19 14:14:55 - INFO - Validation - accuracy: 0.9316 - auc: 0.7598 - f1_score: 0.2060 - loss: 0.0689 - precision: 0.2967 - recall: 0.1711\n",
      "2025-06-19 14:14:55 - INFO - ==================================================\n",
      "\n"
     ]
    },
    {
     "name": "stdout",
     "output_type": "stream",
     "text": [
      "\u001b[1m813/813\u001b[0m \u001b[32m━━━━━━━━━━━━━━━━━━━━\u001b[0m\u001b[37m\u001b[0m \u001b[1m186s\u001b[0m 229ms/step - accuracy: 0.9435 - auc: 0.9314 - f1_score: 0.5247 - loss: 0.0316 - precision: 0.7314 - recall: 0.4428 - val_accuracy: 0.9316 - val_auc: 0.7598 - val_f1_score: 0.2060 - val_loss: 0.0689 - val_precision: 0.2967 - val_recall: 0.1711 - learning_rate: 1.5625e-06\n"
     ]
    },
    {
     "name": "stderr",
     "output_type": "stream",
     "text": [
      "2025-06-19 14:14:55 - INFO - \n",
      "=== Starting Epoch 43 ===\n",
      "\n"
     ]
    },
    {
     "name": "stdout",
     "output_type": "stream",
     "text": [
      "Epoch 43/100\n",
      "\u001b[1m813/813\u001b[0m \u001b[32m━━━━━━━━━━━━━━━━━━━━\u001b[0m\u001b[37m\u001b[0m \u001b[1m0s\u001b[0m 227ms/step - accuracy: 0.9438 - auc: 0.9312 - f1_score: 0.5264 - loss: 0.0315 - precision: 0.7289 - recall: 0.4445  "
     ]
    },
    {
     "name": "stderr",
     "output_type": "stream",
     "text": [
      "2025-06-19 14:18:09 - INFO - \n",
      "=== Epoch 43 Summary ===\n",
      "2025-06-19 14:18:09 - INFO - Time: 193.40s\n",
      "2025-06-19 14:18:09 - INFO - Training   - accuracy: 0.9443 - auc: 0.9327 - f1_score: 0.5302 - loss: 0.0311 - precision: 0.7316 - recall: 0.4487 - learning_rate: 0.0000\n",
      "2025-06-19 14:18:09 - INFO - Validation - accuracy: 0.9326 - auc: 0.7562 - f1_score: 0.2139 - loss: 0.0677 - precision: 0.3157 - recall: 0.1852\n",
      "2025-06-19 14:18:09 - INFO - ==================================================\n",
      "\n"
     ]
    },
    {
     "name": "stdout",
     "output_type": "stream",
     "text": [
      "\u001b[1m813/813\u001b[0m \u001b[32m━━━━━━━━━━━━━━━━━━━━\u001b[0m\u001b[37m\u001b[0m \u001b[1m193s\u001b[0m 238ms/step - accuracy: 0.9438 - auc: 0.9312 - f1_score: 0.5264 - loss: 0.0315 - precision: 0.7289 - recall: 0.4445 - val_accuracy: 0.9326 - val_auc: 0.7562 - val_f1_score: 0.2139 - val_loss: 0.0677 - val_precision: 0.3157 - val_recall: 0.1852 - learning_rate: 1.0000e-06\n"
     ]
    },
    {
     "name": "stderr",
     "output_type": "stream",
     "text": [
      "2025-06-19 14:18:09 - INFO - \n",
      "=== Starting Epoch 44 ===\n",
      "\n"
     ]
    },
    {
     "name": "stdout",
     "output_type": "stream",
     "text": [
      "Epoch 44/100\n",
      "\u001b[1m813/813\u001b[0m \u001b[32m━━━━━━━━━━━━━━━━━━━━\u001b[0m\u001b[37m\u001b[0m \u001b[1m0s\u001b[0m 228ms/step - accuracy: 0.9439 - auc: 0.9321 - f1_score: 0.5296 - loss: 0.0313 - precision: 0.7323 - recall: 0.4469  "
     ]
    },
    {
     "name": "stderr",
     "output_type": "stream",
     "text": [
      "2025-06-19 14:21:23 - INFO - \n",
      "=== Epoch 44 Summary ===\n",
      "2025-06-19 14:21:23 - INFO - Time: 193.92s\n",
      "2025-06-19 14:21:23 - INFO - Training   - accuracy: 0.9444 - auc: 0.9336 - f1_score: 0.5321 - loss: 0.0309 - precision: 0.7322 - recall: 0.4503 - learning_rate: 0.0000\n",
      "2025-06-19 14:21:23 - INFO - Validation - accuracy: 0.9326 - auc: 0.7595 - f1_score: 0.2124 - loss: 0.0690 - precision: 0.3130 - recall: 0.1810\n",
      "2025-06-19 14:21:23 - INFO - ==================================================\n",
      "\n"
     ]
    },
    {
     "name": "stdout",
     "output_type": "stream",
     "text": [
      "\u001b[1m813/813\u001b[0m \u001b[32m━━━━━━━━━━━━━━━━━━━━\u001b[0m\u001b[37m\u001b[0m \u001b[1m194s\u001b[0m 239ms/step - accuracy: 0.9439 - auc: 0.9321 - f1_score: 0.5296 - loss: 0.0313 - precision: 0.7323 - recall: 0.4469 - val_accuracy: 0.9326 - val_auc: 0.7595 - val_f1_score: 0.2124 - val_loss: 0.0690 - val_precision: 0.3130 - val_recall: 0.1810 - learning_rate: 1.0000e-06\n"
     ]
    },
    {
     "name": "stderr",
     "output_type": "stream",
     "text": [
      "2025-06-19 14:21:23 - INFO - \n",
      "=== Starting Epoch 45 ===\n",
      "\n"
     ]
    },
    {
     "name": "stdout",
     "output_type": "stream",
     "text": [
      "Epoch 45/100\n",
      "\u001b[1m813/813\u001b[0m \u001b[32m━━━━━━━━━━━━━━━━━━━━\u001b[0m\u001b[37m\u001b[0m \u001b[1m0s\u001b[0m 228ms/step - accuracy: 0.9447 - auc: 0.9343 - f1_score: 0.5378 - loss: 0.0308 - precision: 0.7371 - recall: 0.4555  "
     ]
    },
    {
     "name": "stderr",
     "output_type": "stream",
     "text": [
      "2025-06-19 14:24:37 - INFO - \n",
      "=== Epoch 45 Summary ===\n",
      "2025-06-19 14:24:37 - INFO - Time: 194.32s\n",
      "2025-06-19 14:24:37 - INFO - Training   - accuracy: 0.9451 - auc: 0.9351 - f1_score: 0.5399 - loss: 0.0306 - precision: 0.7370 - recall: 0.4588 - learning_rate: 0.0000\n",
      "2025-06-19 14:24:37 - INFO - Validation - accuracy: 0.9333 - auc: 0.7574 - f1_score: 0.2183 - loss: 0.0677 - precision: 0.3221 - recall: 0.1846\n",
      "2025-06-19 14:24:37 - INFO - ==================================================\n",
      "\n"
     ]
    },
    {
     "name": "stdout",
     "output_type": "stream",
     "text": [
      "\u001b[1m813/813\u001b[0m \u001b[32m━━━━━━━━━━━━━━━━━━━━\u001b[0m\u001b[37m\u001b[0m \u001b[1m194s\u001b[0m 239ms/step - accuracy: 0.9447 - auc: 0.9343 - f1_score: 0.5378 - loss: 0.0308 - precision: 0.7371 - recall: 0.4555 - val_accuracy: 0.9333 - val_auc: 0.7574 - val_f1_score: 0.2183 - val_loss: 0.0677 - val_precision: 0.3221 - val_recall: 0.1846 - learning_rate: 1.0000e-06\n"
     ]
    },
    {
     "name": "stderr",
     "output_type": "stream",
     "text": [
      "2025-06-19 14:24:37 - INFO - \n",
      "=== Starting Epoch 46 ===\n",
      "\n"
     ]
    },
    {
     "name": "stdout",
     "output_type": "stream",
     "text": [
      "Epoch 46/100\n",
      "\u001b[1m813/813\u001b[0m \u001b[32m━━━━━━━━━━━━━━━━━━━━\u001b[0m\u001b[37m\u001b[0m \u001b[1m0s\u001b[0m 227ms/step - accuracy: 0.9450 - auc: 0.9353 - f1_score: 0.5411 - loss: 0.0307 - precision: 0.7411 - recall: 0.4582  "
     ]
    },
    {
     "name": "stderr",
     "output_type": "stream",
     "text": [
      "2025-06-19 14:27:50 - INFO - \n",
      "=== Epoch 46 Summary ===\n",
      "2025-06-19 14:27:50 - INFO - Time: 193.27s\n",
      "2025-06-19 14:27:50 - INFO - Training   - accuracy: 0.9452 - auc: 0.9359 - f1_score: 0.5422 - loss: 0.0305 - precision: 0.7378 - recall: 0.4610 - learning_rate: 0.0000\n",
      "2025-06-19 14:27:50 - INFO - Validation - accuracy: 0.9323 - auc: 0.7561 - f1_score: 0.2133 - loss: 0.0685 - precision: 0.3100 - recall: 0.1812\n",
      "2025-06-19 14:27:50 - INFO - ==================================================\n",
      "\n"
     ]
    },
    {
     "name": "stdout",
     "output_type": "stream",
     "text": [
      "\u001b[1m813/813\u001b[0m \u001b[32m━━━━━━━━━━━━━━━━━━━━\u001b[0m\u001b[37m\u001b[0m \u001b[1m193s\u001b[0m 238ms/step - accuracy: 0.9450 - auc: 0.9353 - f1_score: 0.5411 - loss: 0.0307 - precision: 0.7411 - recall: 0.4582 - val_accuracy: 0.9323 - val_auc: 0.7561 - val_f1_score: 0.2133 - val_loss: 0.0685 - val_precision: 0.3100 - val_recall: 0.1812 - learning_rate: 1.0000e-06\n"
     ]
    },
    {
     "name": "stderr",
     "output_type": "stream",
     "text": [
      "2025-06-19 14:27:50 - INFO - \n",
      "=== Starting Epoch 47 ===\n",
      "\n"
     ]
    },
    {
     "name": "stdout",
     "output_type": "stream",
     "text": [
      "Epoch 47/100\n",
      "\u001b[1m813/813\u001b[0m \u001b[32m━━━━━━━━━━━━━━━━━━━━\u001b[0m\u001b[37m\u001b[0m \u001b[1m0s\u001b[0m 227ms/step - accuracy: 0.9455 - auc: 0.9357 - f1_score: 0.5440 - loss: 0.0304 - precision: 0.7404 - recall: 0.4615  "
     ]
    },
    {
     "name": "stderr",
     "output_type": "stream",
     "text": [
      "2025-06-19 14:31:03 - INFO - \n",
      "=== Epoch 47 Summary ===\n",
      "2025-06-19 14:31:03 - INFO - Time: 192.99s\n",
      "2025-06-19 14:31:03 - INFO - Training   - accuracy: 0.9455 - auc: 0.9363 - f1_score: 0.5448 - loss: 0.0304 - precision: 0.7395 - recall: 0.4631 - learning_rate: 0.0000\n",
      "2025-06-19 14:31:03 - INFO - Validation - accuracy: 0.9331 - auc: 0.7575 - f1_score: 0.2127 - loss: 0.0681 - precision: 0.3159 - recall: 0.1786\n",
      "2025-06-19 14:31:03 - INFO - ==================================================\n",
      "\n"
     ]
    },
    {
     "name": "stdout",
     "output_type": "stream",
     "text": [
      "\u001b[1m813/813\u001b[0m \u001b[32m━━━━━━━━━━━━━━━━━━━━\u001b[0m\u001b[37m\u001b[0m \u001b[1m193s\u001b[0m 237ms/step - accuracy: 0.9455 - auc: 0.9357 - f1_score: 0.5440 - loss: 0.0304 - precision: 0.7404 - recall: 0.4615 - val_accuracy: 0.9331 - val_auc: 0.7575 - val_f1_score: 0.2127 - val_loss: 0.0681 - val_precision: 0.3159 - val_recall: 0.1786 - learning_rate: 1.0000e-06\n"
     ]
    },
    {
     "name": "stderr",
     "output_type": "stream",
     "text": [
      "2025-06-19 14:31:03 - INFO - \n",
      "=== Starting Epoch 48 ===\n",
      "\n"
     ]
    },
    {
     "name": "stdout",
     "output_type": "stream",
     "text": [
      "Epoch 48/100\n",
      "\u001b[1m813/813\u001b[0m \u001b[32m━━━━━━━━━━━━━━━━━━━━\u001b[0m\u001b[37m\u001b[0m \u001b[1m0s\u001b[0m 228ms/step - accuracy: 0.9453 - auc: 0.9362 - f1_score: 0.5432 - loss: 0.0304 - precision: 0.7378 - recall: 0.4625  "
     ]
    },
    {
     "name": "stderr",
     "output_type": "stream",
     "text": [
      "2025-06-19 14:34:18 - INFO - \n",
      "=== Epoch 48 Summary ===\n",
      "2025-06-19 14:34:18 - INFO - Time: 194.56s\n",
      "2025-06-19 14:34:18 - INFO - Training   - accuracy: 0.9457 - auc: 0.9370 - f1_score: 0.5462 - loss: 0.0301 - precision: 0.7393 - recall: 0.4656 - learning_rate: 0.0000\n",
      "2025-06-19 14:34:18 - INFO - Validation - accuracy: 0.9336 - auc: 0.7586 - f1_score: 0.2244 - loss: 0.0682 - precision: 0.3293 - recall: 0.1924\n",
      "2025-06-19 14:34:18 - INFO - ==================================================\n",
      "\n"
     ]
    },
    {
     "name": "stdout",
     "output_type": "stream",
     "text": [
      "\u001b[1m813/813\u001b[0m \u001b[32m━━━━━━━━━━━━━━━━━━━━\u001b[0m\u001b[37m\u001b[0m \u001b[1m195s\u001b[0m 239ms/step - accuracy: 0.9453 - auc: 0.9362 - f1_score: 0.5433 - loss: 0.0304 - precision: 0.7378 - recall: 0.4625 - val_accuracy: 0.9336 - val_auc: 0.7586 - val_f1_score: 0.2244 - val_loss: 0.0682 - val_precision: 0.3293 - val_recall: 0.1924 - learning_rate: 1.0000e-06\n"
     ]
    },
    {
     "name": "stderr",
     "output_type": "stream",
     "text": [
      "2025-06-19 14:34:18 - INFO - \n",
      "=== Starting Epoch 49 ===\n",
      "\n"
     ]
    },
    {
     "name": "stdout",
     "output_type": "stream",
     "text": [
      "Epoch 49/100\n",
      "\u001b[1m813/813\u001b[0m \u001b[32m━━━━━━━━━━━━━━━━━━━━\u001b[0m\u001b[37m\u001b[0m \u001b[1m0s\u001b[0m 229ms/step - accuracy: 0.9458 - auc: 0.9372 - f1_score: 0.5497 - loss: 0.0303 - precision: 0.7440 - recall: 0.4680  "
     ]
    },
    {
     "name": "stderr",
     "output_type": "stream",
     "text": [
      "2025-06-19 14:37:32 - INFO - \n",
      "=== Epoch 49 Summary ===\n",
      "2025-06-19 14:37:32 - INFO - Time: 194.29s\n",
      "2025-06-19 14:37:32 - INFO - Training   - accuracy: 0.9461 - auc: 0.9376 - f1_score: 0.5514 - loss: 0.0301 - precision: 0.7430 - recall: 0.4703 - learning_rate: 0.0000\n",
      "2025-06-19 14:37:32 - INFO - Validation - accuracy: 0.9317 - auc: 0.7578 - f1_score: 0.2223 - loss: 0.0683 - precision: 0.3119 - recall: 0.1926\n",
      "2025-06-19 14:37:32 - INFO - ==================================================\n",
      "\n"
     ]
    },
    {
     "name": "stdout",
     "output_type": "stream",
     "text": [
      "\u001b[1m813/813\u001b[0m \u001b[32m━━━━━━━━━━━━━━━━━━━━\u001b[0m\u001b[37m\u001b[0m \u001b[1m194s\u001b[0m 239ms/step - accuracy: 0.9458 - auc: 0.9372 - f1_score: 0.5497 - loss: 0.0303 - precision: 0.7440 - recall: 0.4680 - val_accuracy: 0.9317 - val_auc: 0.7578 - val_f1_score: 0.2223 - val_loss: 0.0683 - val_precision: 0.3119 - val_recall: 0.1926 - learning_rate: 1.0000e-06\n"
     ]
    },
    {
     "name": "stderr",
     "output_type": "stream",
     "text": [
      "2025-06-19 14:37:32 - INFO - \n",
      "=== Starting Epoch 50 ===\n",
      "\n"
     ]
    },
    {
     "name": "stdout",
     "output_type": "stream",
     "text": [
      "Epoch 50/100\n",
      "\u001b[1m813/813\u001b[0m \u001b[32m━━━━━━━━━━━━━━━━━━━━\u001b[0m\u001b[37m\u001b[0m \u001b[1m0s\u001b[0m 227ms/step - accuracy: 0.9456 - auc: 0.9375 - f1_score: 0.5485 - loss: 0.0302 - precision: 0.7414 - recall: 0.4663  "
     ]
    },
    {
     "name": "stderr",
     "output_type": "stream",
     "text": [
      "2025-06-19 14:40:46 - INFO - \n",
      "=== Epoch 50 Summary ===\n",
      "2025-06-19 14:40:46 - INFO - Time: 193.62s\n",
      "2025-06-19 14:40:46 - INFO - Training   - accuracy: 0.9460 - auc: 0.9382 - f1_score: 0.5513 - loss: 0.0300 - precision: 0.7418 - recall: 0.4700 - learning_rate: 0.0000\n",
      "2025-06-19 14:40:46 - INFO - Validation - accuracy: 0.9329 - auc: 0.7581 - f1_score: 0.2233 - loss: 0.0690 - precision: 0.3228 - recall: 0.1934\n",
      "2025-06-19 14:40:46 - INFO - ==================================================\n",
      "\n"
     ]
    },
    {
     "name": "stdout",
     "output_type": "stream",
     "text": [
      "\u001b[1m813/813\u001b[0m \u001b[32m━━━━━━━━━━━━━━━━━━━━\u001b[0m\u001b[37m\u001b[0m \u001b[1m194s\u001b[0m 238ms/step - accuracy: 0.9456 - auc: 0.9375 - f1_score: 0.5485 - loss: 0.0302 - precision: 0.7414 - recall: 0.4663 - val_accuracy: 0.9329 - val_auc: 0.7581 - val_f1_score: 0.2233 - val_loss: 0.0690 - val_precision: 0.3228 - val_recall: 0.1934 - learning_rate: 1.0000e-06\n"
     ]
    },
    {
     "name": "stderr",
     "output_type": "stream",
     "text": [
      "2025-06-19 14:40:46 - INFO - \n",
      "=== Starting Epoch 51 ===\n",
      "\n"
     ]
    },
    {
     "name": "stdout",
     "output_type": "stream",
     "text": [
      "Epoch 51/100\n",
      "\u001b[1m813/813\u001b[0m \u001b[32m━━━━━━━━━━━━━━━━━━━━\u001b[0m\u001b[37m\u001b[0m \u001b[1m0s\u001b[0m 228ms/step - accuracy: 0.9464 - auc: 0.9396 - f1_score: 0.5542 - loss: 0.0297 - precision: 0.7447 - recall: 0.4731  "
     ]
    },
    {
     "name": "stderr",
     "output_type": "stream",
     "text": [
      "2025-06-19 14:44:00 - INFO - \n",
      "=== Epoch 51 Summary ===\n",
      "2025-06-19 14:44:00 - INFO - Time: 194.32s\n",
      "2025-06-19 14:44:00 - INFO - Training   - accuracy: 0.9463 - auc: 0.9395 - f1_score: 0.5545 - loss: 0.0297 - precision: 0.7427 - recall: 0.4735 - learning_rate: 0.0000\n",
      "2025-06-19 14:44:00 - INFO - Validation - accuracy: 0.9307 - auc: 0.7568 - f1_score: 0.2303 - loss: 0.0698 - precision: 0.3075 - recall: 0.2005\n",
      "2025-06-19 14:44:00 - INFO - ==================================================\n",
      "\n"
     ]
    },
    {
     "name": "stdout",
     "output_type": "stream",
     "text": [
      "\u001b[1m813/813\u001b[0m \u001b[32m━━━━━━━━━━━━━━━━━━━━\u001b[0m\u001b[37m\u001b[0m \u001b[1m194s\u001b[0m 239ms/step - accuracy: 0.9464 - auc: 0.9396 - f1_score: 0.5542 - loss: 0.0297 - precision: 0.7446 - recall: 0.4731 - val_accuracy: 0.9307 - val_auc: 0.7568 - val_f1_score: 0.2303 - val_loss: 0.0698 - val_precision: 0.3075 - val_recall: 0.2005 - learning_rate: 1.0000e-06\n"
     ]
    },
    {
     "name": "stderr",
     "output_type": "stream",
     "text": [
      "2025-06-19 14:44:00 - INFO - \n",
      "=== Starting Epoch 52 ===\n",
      "\n"
     ]
    },
    {
     "name": "stdout",
     "output_type": "stream",
     "text": [
      "Epoch 52/100\n",
      "\u001b[1m813/813\u001b[0m \u001b[32m━━━━━━━━━━━━━━━━━━━━\u001b[0m\u001b[37m\u001b[0m \u001b[1m0s\u001b[0m 227ms/step - accuracy: 0.9465 - auc: 0.9390 - f1_score: 0.5587 - loss: 0.0300 - precision: 0.7457 - recall: 0.4775  "
     ]
    },
    {
     "name": "stderr",
     "output_type": "stream",
     "text": [
      "2025-06-19 14:47:13 - INFO - \n",
      "=== Epoch 52 Summary ===\n",
      "2025-06-19 14:47:13 - INFO - Time: 193.34s\n",
      "2025-06-19 14:47:13 - INFO - Training   - accuracy: 0.9467 - auc: 0.9395 - f1_score: 0.5578 - loss: 0.0297 - precision: 0.7454 - recall: 0.4770 - learning_rate: 0.0000\n",
      "2025-06-19 14:47:13 - INFO - Validation - accuracy: 0.9331 - auc: 0.7555 - f1_score: 0.2153 - loss: 0.0705 - precision: 0.3200 - recall: 0.1848\n",
      "2025-06-19 14:47:13 - INFO - ==================================================\n",
      "\n"
     ]
    },
    {
     "name": "stdout",
     "output_type": "stream",
     "text": [
      "\u001b[1m813/813\u001b[0m \u001b[32m━━━━━━━━━━━━━━━━━━━━\u001b[0m\u001b[37m\u001b[0m \u001b[1m193s\u001b[0m 238ms/step - accuracy: 0.9465 - auc: 0.9390 - f1_score: 0.5587 - loss: 0.0300 - precision: 0.7457 - recall: 0.4775 - val_accuracy: 0.9331 - val_auc: 0.7555 - val_f1_score: 0.2153 - val_loss: 0.0705 - val_precision: 0.3200 - val_recall: 0.1848 - learning_rate: 1.0000e-06\n"
     ]
    },
    {
     "name": "stderr",
     "output_type": "stream",
     "text": [
      "2025-06-19 14:47:13 - INFO - \n",
      "=== Starting Epoch 53 ===\n",
      "\n"
     ]
    },
    {
     "name": "stdout",
     "output_type": "stream",
     "text": [
      "Epoch 53/100\n",
      "\u001b[1m813/813\u001b[0m \u001b[32m━━━━━━━━━━━━━━━━━━━━\u001b[0m\u001b[37m\u001b[0m \u001b[1m0s\u001b[0m 228ms/step - accuracy: 0.9468 - auc: 0.9401 - f1_score: 0.5607 - loss: 0.0296 - precision: 0.7486 - recall: 0.4788  "
     ]
    },
    {
     "name": "stderr",
     "output_type": "stream",
     "text": [
      "2025-06-19 14:50:28 - INFO - \n",
      "=== Epoch 53 Summary ===\n",
      "2025-06-19 14:50:28 - INFO - Time: 194.34s\n",
      "2025-06-19 14:50:28 - INFO - Training   - accuracy: 0.9470 - auc: 0.9408 - f1_score: 0.5624 - loss: 0.0295 - precision: 0.7481 - recall: 0.4815 - learning_rate: 0.0000\n",
      "2025-06-19 14:50:28 - INFO - Validation - accuracy: 0.9327 - auc: 0.7558 - f1_score: 0.2247 - loss: 0.0692 - precision: 0.3201 - recall: 0.1911\n",
      "2025-06-19 14:50:28 - INFO - ==================================================\n",
      "\n"
     ]
    },
    {
     "name": "stdout",
     "output_type": "stream",
     "text": [
      "\u001b[1m813/813\u001b[0m \u001b[32m━━━━━━━━━━━━━━━━━━━━\u001b[0m\u001b[37m\u001b[0m \u001b[1m194s\u001b[0m 239ms/step - accuracy: 0.9468 - auc: 0.9401 - f1_score: 0.5607 - loss: 0.0296 - precision: 0.7486 - recall: 0.4788 - val_accuracy: 0.9327 - val_auc: 0.7558 - val_f1_score: 0.2247 - val_loss: 0.0692 - val_precision: 0.3201 - val_recall: 0.1911 - learning_rate: 1.0000e-06\n"
     ]
    },
    {
     "name": "stderr",
     "output_type": "stream",
     "text": [
      "2025-06-19 14:50:28 - INFO - \n",
      "=== Starting Epoch 54 ===\n",
      "\n"
     ]
    },
    {
     "name": "stdout",
     "output_type": "stream",
     "text": [
      "Epoch 54/100\n",
      "\u001b[1m813/813\u001b[0m \u001b[32m━━━━━━━━━━━━━━━━━━━━\u001b[0m\u001b[37m\u001b[0m \u001b[1m0s\u001b[0m 227ms/step - accuracy: 0.9468 - auc: 0.9404 - f1_score: 0.5617 - loss: 0.0296 - precision: 0.7476 - recall: 0.4807  "
     ]
    },
    {
     "name": "stderr",
     "output_type": "stream",
     "text": [
      "2025-06-19 14:53:40 - INFO - \n",
      "=== Epoch 54 Summary ===\n",
      "2025-06-19 14:53:40 - INFO - Time: 192.60s\n",
      "2025-06-19 14:53:40 - INFO - Training   - accuracy: 0.9471 - auc: 0.9410 - f1_score: 0.5630 - loss: 0.0294 - precision: 0.7467 - recall: 0.4828 - learning_rate: 0.0000\n",
      "2025-06-19 14:53:40 - INFO - Validation - accuracy: 0.9340 - auc: 0.7561 - f1_score: 0.2206 - loss: 0.0689 - precision: 0.3330 - recall: 0.1914\n",
      "2025-06-19 14:53:40 - INFO - ==================================================\n",
      "\n"
     ]
    },
    {
     "name": "stdout",
     "output_type": "stream",
     "text": [
      "\u001b[1m813/813\u001b[0m \u001b[32m━━━━━━━━━━━━━━━━━━━━\u001b[0m\u001b[37m\u001b[0m \u001b[1m193s\u001b[0m 237ms/step - accuracy: 0.9468 - auc: 0.9404 - f1_score: 0.5617 - loss: 0.0296 - precision: 0.7476 - recall: 0.4807 - val_accuracy: 0.9340 - val_auc: 0.7561 - val_f1_score: 0.2206 - val_loss: 0.0689 - val_precision: 0.3330 - val_recall: 0.1914 - learning_rate: 1.0000e-06\n"
     ]
    },
    {
     "name": "stderr",
     "output_type": "stream",
     "text": [
      "2025-06-19 14:53:40 - INFO - \n",
      "=== Starting Epoch 55 ===\n",
      "\n"
     ]
    },
    {
     "name": "stdout",
     "output_type": "stream",
     "text": [
      "Epoch 55/100\n",
      "\u001b[1m813/813\u001b[0m \u001b[32m━━━━━━━━━━━━━━━━━━━━\u001b[0m\u001b[37m\u001b[0m \u001b[1m0s\u001b[0m 228ms/step - accuracy: 0.9466 - auc: 0.9411 - f1_score: 0.5613 - loss: 0.0295 - precision: 0.7465 - recall: 0.4800  "
     ]
    },
    {
     "name": "stderr",
     "output_type": "stream",
     "text": [
      "2025-06-19 14:56:54 - INFO - \n",
      "=== Epoch 55 Summary ===\n",
      "2025-06-19 14:56:54 - INFO - Time: 193.48s\n",
      "2025-06-19 14:56:54 - INFO - Training   - accuracy: 0.9471 - auc: 0.9419 - f1_score: 0.5646 - loss: 0.0293 - precision: 0.7478 - recall: 0.4839 - learning_rate: 0.0000\n",
      "2025-06-19 14:56:54 - INFO - Validation - accuracy: 0.9311 - auc: 0.7549 - f1_score: 0.2286 - loss: 0.0698 - precision: 0.3094 - recall: 0.1983\n",
      "2025-06-19 14:56:54 - INFO - ==================================================\n",
      "\n"
     ]
    },
    {
     "name": "stdout",
     "output_type": "stream",
     "text": [
      "\u001b[1m813/813\u001b[0m \u001b[32m━━━━━━━━━━━━━━━━━━━━\u001b[0m\u001b[37m\u001b[0m \u001b[1m193s\u001b[0m 238ms/step - accuracy: 0.9466 - auc: 0.9411 - f1_score: 0.5613 - loss: 0.0295 - precision: 0.7465 - recall: 0.4800 - val_accuracy: 0.9311 - val_auc: 0.7549 - val_f1_score: 0.2286 - val_loss: 0.0698 - val_precision: 0.3094 - val_recall: 0.1983 - learning_rate: 1.0000e-06\n"
     ]
    },
    {
     "name": "stderr",
     "output_type": "stream",
     "text": [
      "2025-06-19 14:56:54 - INFO - \n",
      "=== Starting Epoch 56 ===\n",
      "\n"
     ]
    },
    {
     "name": "stdout",
     "output_type": "stream",
     "text": [
      "Epoch 56/100\n",
      "\u001b[1m813/813\u001b[0m \u001b[32m━━━━━━━━━━━━━━━━━━━━\u001b[0m\u001b[37m\u001b[0m \u001b[1m0s\u001b[0m 228ms/step - accuracy: 0.9474 - auc: 0.9424 - f1_score: 0.5668 - loss: 0.0291 - precision: 0.7508 - recall: 0.4852  "
     ]
    },
    {
     "name": "stderr",
     "output_type": "stream",
     "text": [
      "2025-06-19 15:00:08 - INFO - \n",
      "=== Epoch 56 Summary ===\n",
      "2025-06-19 15:00:08 - INFO - Time: 194.31s\n",
      "2025-06-19 15:00:08 - INFO - Training   - accuracy: 0.9477 - auc: 0.9426 - f1_score: 0.5699 - loss: 0.0290 - precision: 0.7520 - recall: 0.4889 - learning_rate: 0.0000\n",
      "2025-06-19 15:00:08 - INFO - Validation - accuracy: 0.9315 - auc: 0.7554 - f1_score: 0.2267 - loss: 0.0696 - precision: 0.3163 - recall: 0.2036\n",
      "2025-06-19 15:00:08 - INFO - ==================================================\n",
      "\n"
     ]
    },
    {
     "name": "stdout",
     "output_type": "stream",
     "text": [
      "\u001b[1m813/813\u001b[0m \u001b[32m━━━━━━━━━━━━━━━━━━━━\u001b[0m\u001b[37m\u001b[0m \u001b[1m194s\u001b[0m 239ms/step - accuracy: 0.9474 - auc: 0.9424 - f1_score: 0.5668 - loss: 0.0291 - precision: 0.7508 - recall: 0.4852 - val_accuracy: 0.9315 - val_auc: 0.7554 - val_f1_score: 0.2267 - val_loss: 0.0696 - val_precision: 0.3163 - val_recall: 0.2036 - learning_rate: 1.0000e-06\n"
     ]
    },
    {
     "name": "stderr",
     "output_type": "stream",
     "text": [
      "2025-06-19 15:00:08 - INFO - \n",
      "=== Starting Epoch 57 ===\n",
      "\n"
     ]
    },
    {
     "name": "stdout",
     "output_type": "stream",
     "text": [
      "Epoch 57/100\n",
      "\u001b[1m813/813\u001b[0m \u001b[32m━━━━━━━━━━━━━━━━━━━━\u001b[0m\u001b[37m\u001b[0m \u001b[1m0s\u001b[0m 227ms/step - accuracy: 0.9473 - auc: 0.9428 - f1_score: 0.5716 - loss: 0.0292 - precision: 0.7476 - recall: 0.4919  "
     ]
    },
    {
     "name": "stderr",
     "output_type": "stream",
     "text": [
      "2025-06-19 15:03:21 - INFO - \n",
      "=== Epoch 57 Summary ===\n",
      "2025-06-19 15:03:21 - INFO - Time: 193.17s\n",
      "2025-06-19 15:03:21 - INFO - Training   - accuracy: 0.9477 - auc: 0.9432 - f1_score: 0.5736 - loss: 0.0290 - precision: 0.7504 - recall: 0.4938 - learning_rate: 0.0000\n",
      "2025-06-19 15:03:21 - INFO - Validation - accuracy: 0.9312 - auc: 0.7547 - f1_score: 0.2162 - loss: 0.0712 - precision: 0.2980 - recall: 0.1789\n",
      "2025-06-19 15:03:21 - INFO - ==================================================\n",
      "\n"
     ]
    },
    {
     "name": "stdout",
     "output_type": "stream",
     "text": [
      "\u001b[1m813/813\u001b[0m \u001b[32m━━━━━━━━━━━━━━━━━━━━\u001b[0m\u001b[37m\u001b[0m \u001b[1m193s\u001b[0m 238ms/step - accuracy: 0.9473 - auc: 0.9428 - f1_score: 0.5716 - loss: 0.0292 - precision: 0.7476 - recall: 0.4919 - val_accuracy: 0.9312 - val_auc: 0.7547 - val_f1_score: 0.2162 - val_loss: 0.0712 - val_precision: 0.2980 - val_recall: 0.1789 - learning_rate: 1.0000e-06\n"
     ]
    },
    {
     "name": "stderr",
     "output_type": "stream",
     "text": [
      "2025-06-19 15:03:21 - INFO - \n",
      "=== Starting Epoch 58 ===\n",
      "\n"
     ]
    },
    {
     "name": "stdout",
     "output_type": "stream",
     "text": [
      "Epoch 58/100\n",
      "\u001b[1m813/813\u001b[0m \u001b[32m━━━━━━━━━━━━━━━━━━━━\u001b[0m\u001b[37m\u001b[0m \u001b[1m0s\u001b[0m 228ms/step - accuracy: 0.9483 - auc: 0.9439 - f1_score: 0.5774 - loss: 0.0287 - precision: 0.7539 - recall: 0.4971  "
     ]
    },
    {
     "name": "stderr",
     "output_type": "stream",
     "text": [
      "2025-06-19 15:06:35 - INFO - \n",
      "=== Epoch 58 Summary ===\n",
      "2025-06-19 15:06:35 - INFO - Time: 194.11s\n",
      "2025-06-19 15:06:35 - INFO - Training   - accuracy: 0.9482 - auc: 0.9443 - f1_score: 0.5768 - loss: 0.0287 - precision: 0.7525 - recall: 0.4971 - learning_rate: 0.0000\n",
      "2025-06-19 15:06:35 - INFO - Validation - accuracy: 0.9311 - auc: 0.7540 - f1_score: 0.2270 - loss: 0.0701 - precision: 0.3127 - recall: 0.2031\n",
      "2025-06-19 15:06:35 - INFO - ==================================================\n",
      "\n"
     ]
    },
    {
     "name": "stdout",
     "output_type": "stream",
     "text": [
      "\u001b[1m813/813\u001b[0m \u001b[32m━━━━━━━━━━━━━━━━━━━━\u001b[0m\u001b[37m\u001b[0m \u001b[1m194s\u001b[0m 239ms/step - accuracy: 0.9483 - auc: 0.9439 - f1_score: 0.5774 - loss: 0.0287 - precision: 0.7539 - recall: 0.4971 - val_accuracy: 0.9311 - val_auc: 0.7540 - val_f1_score: 0.2270 - val_loss: 0.0701 - val_precision: 0.3127 - val_recall: 0.2031 - learning_rate: 1.0000e-06\n"
     ]
    },
    {
     "name": "stderr",
     "output_type": "stream",
     "text": [
      "2025-06-19 15:06:35 - INFO - \n",
      "=== Starting Epoch 59 ===\n",
      "\n"
     ]
    },
    {
     "name": "stdout",
     "output_type": "stream",
     "text": [
      "Epoch 59/100\n",
      "\u001b[1m813/813\u001b[0m \u001b[32m━━━━━━━━━━━━━━━━━━━━\u001b[0m\u001b[37m\u001b[0m \u001b[1m0s\u001b[0m 228ms/step - accuracy: 0.9484 - auc: 0.9442 - f1_score: 0.5795 - loss: 0.0287 - precision: 0.7567 - recall: 0.4986  "
     ]
    },
    {
     "name": "stderr",
     "output_type": "stream",
     "text": [
      "2025-06-19 15:09:50 - INFO - \n",
      "=== Epoch 59 Summary ===\n",
      "2025-06-19 15:09:50 - INFO - Time: 194.31s\n",
      "2025-06-19 15:09:50 - INFO - Training   - accuracy: 0.9485 - auc: 0.9444 - f1_score: 0.5804 - loss: 0.0286 - precision: 0.7551 - recall: 0.5001 - learning_rate: 0.0000\n",
      "2025-06-19 15:09:50 - INFO - Validation - accuracy: 0.9308 - auc: 0.7546 - f1_score: 0.2331 - loss: 0.0705 - precision: 0.3092 - recall: 0.2018\n",
      "2025-06-19 15:09:50 - INFO - ==================================================\n",
      "\n"
     ]
    },
    {
     "name": "stdout",
     "output_type": "stream",
     "text": [
      "\u001b[1m813/813\u001b[0m \u001b[32m━━━━━━━━━━━━━━━━━━━━\u001b[0m\u001b[37m\u001b[0m \u001b[1m194s\u001b[0m 239ms/step - accuracy: 0.9484 - auc: 0.9442 - f1_score: 0.5795 - loss: 0.0287 - precision: 0.7566 - recall: 0.4986 - val_accuracy: 0.9308 - val_auc: 0.7546 - val_f1_score: 0.2331 - val_loss: 0.0705 - val_precision: 0.3092 - val_recall: 0.2018 - learning_rate: 1.0000e-06\n"
     ]
    },
    {
     "name": "stderr",
     "output_type": "stream",
     "text": [
      "2025-06-19 15:09:50 - INFO - \n",
      "=== Starting Epoch 60 ===\n",
      "\n"
     ]
    },
    {
     "name": "stdout",
     "output_type": "stream",
     "text": [
      "Epoch 60/100\n",
      "\u001b[1m813/813\u001b[0m \u001b[32m━━━━━━━━━━━━━━━━━━━━\u001b[0m\u001b[37m\u001b[0m \u001b[1m0s\u001b[0m 228ms/step - accuracy: 0.9480 - auc: 0.9446 - f1_score: 0.5781 - loss: 0.0287 - precision: 0.7515 - recall: 0.4984  "
     ]
    },
    {
     "name": "stderr",
     "output_type": "stream",
     "text": [
      "2025-06-19 15:13:04 - INFO - \n",
      "=== Epoch 60 Summary ===\n",
      "2025-06-19 15:13:04 - INFO - Time: 193.78s\n",
      "2025-06-19 15:13:04 - INFO - Training   - accuracy: 0.9484 - auc: 0.9449 - f1_score: 0.5799 - loss: 0.0285 - precision: 0.7526 - recall: 0.5006 - learning_rate: 0.0000\n",
      "2025-06-19 15:13:04 - INFO - Validation - accuracy: 0.9315 - auc: 0.7525 - f1_score: 0.2212 - loss: 0.0714 - precision: 0.3069 - recall: 0.1884\n",
      "2025-06-19 15:13:04 - INFO - ==================================================\n",
      "\n"
     ]
    },
    {
     "name": "stdout",
     "output_type": "stream",
     "text": [
      "\u001b[1m813/813\u001b[0m \u001b[32m━━━━━━━━━━━━━━━━━━━━\u001b[0m\u001b[37m\u001b[0m \u001b[1m194s\u001b[0m 238ms/step - accuracy: 0.9480 - auc: 0.9446 - f1_score: 0.5781 - loss: 0.0287 - precision: 0.7515 - recall: 0.4984 - val_accuracy: 0.9315 - val_auc: 0.7525 - val_f1_score: 0.2212 - val_loss: 0.0714 - val_precision: 0.3069 - val_recall: 0.1884 - learning_rate: 1.0000e-06\n"
     ]
    },
    {
     "name": "stderr",
     "output_type": "stream",
     "text": [
      "2025-06-19 15:13:04 - INFO - \n",
      "=== Starting Epoch 61 ===\n",
      "\n"
     ]
    },
    {
     "name": "stdout",
     "output_type": "stream",
     "text": [
      "Epoch 61/100\n",
      "\u001b[1m813/813\u001b[0m \u001b[32m━━━━━━━━━━━━━━━━━━━━\u001b[0m\u001b[37m\u001b[0m \u001b[1m0s\u001b[0m 228ms/step - accuracy: 0.9482 - auc: 0.9455 - f1_score: 0.5800 - loss: 0.0286 - precision: 0.7544 - recall: 0.4997  "
     ]
    },
    {
     "name": "stderr",
     "output_type": "stream",
     "text": [
      "2025-06-19 15:16:18 - INFO - \n",
      "=== Epoch 61 Summary ===\n",
      "2025-06-19 15:16:18 - INFO - Time: 193.92s\n",
      "2025-06-19 15:16:18 - INFO - Training   - accuracy: 0.9486 - auc: 0.9458 - f1_score: 0.5824 - loss: 0.0284 - precision: 0.7545 - recall: 0.5028 - learning_rate: 0.0000\n",
      "2025-06-19 15:16:18 - INFO - Validation - accuracy: 0.9332 - auc: 0.7548 - f1_score: 0.2304 - loss: 0.0705 - precision: 0.3297 - recall: 0.1990\n",
      "2025-06-19 15:16:18 - INFO - ==================================================\n",
      "\n"
     ]
    },
    {
     "name": "stdout",
     "output_type": "stream",
     "text": [
      "\u001b[1m813/813\u001b[0m \u001b[32m━━━━━━━━━━━━━━━━━━━━\u001b[0m\u001b[37m\u001b[0m \u001b[1m194s\u001b[0m 239ms/step - accuracy: 0.9482 - auc: 0.9455 - f1_score: 0.5800 - loss: 0.0286 - precision: 0.7544 - recall: 0.4997 - val_accuracy: 0.9332 - val_auc: 0.7548 - val_f1_score: 0.2304 - val_loss: 0.0705 - val_precision: 0.3297 - val_recall: 0.1990 - learning_rate: 1.0000e-06\n"
     ]
    },
    {
     "name": "stderr",
     "output_type": "stream",
     "text": [
      "2025-06-19 15:16:18 - INFO - \n",
      "=== Starting Epoch 62 ===\n",
      "\n"
     ]
    },
    {
     "name": "stdout",
     "output_type": "stream",
     "text": [
      "Epoch 62/100\n",
      "\u001b[1m813/813\u001b[0m \u001b[32m━━━━━━━━━━━━━━━━━━━━\u001b[0m\u001b[37m\u001b[0m \u001b[1m0s\u001b[0m 229ms/step - accuracy: 0.9489 - auc: 0.9460 - f1_score: 0.5856 - loss: 0.0283 - precision: 0.7597 - recall: 0.5044  "
     ]
    },
    {
     "name": "stderr",
     "output_type": "stream",
     "text": [
      "2025-06-19 15:19:33 - INFO - \n",
      "=== Epoch 62 Summary ===\n",
      "2025-06-19 15:19:33 - INFO - Time: 194.98s\n",
      "2025-06-19 15:19:33 - INFO - Training   - accuracy: 0.9489 - auc: 0.9462 - f1_score: 0.5855 - loss: 0.0283 - precision: 0.7573 - recall: 0.5053 - learning_rate: 0.0000\n",
      "2025-06-19 15:19:33 - INFO - Validation - accuracy: 0.9319 - auc: 0.7530 - f1_score: 0.2313 - loss: 0.0705 - precision: 0.3191 - recall: 0.2028\n",
      "2025-06-19 15:19:33 - INFO - ==================================================\n",
      "\n"
     ]
    },
    {
     "name": "stdout",
     "output_type": "stream",
     "text": [
      "\u001b[1m813/813\u001b[0m \u001b[32m━━━━━━━━━━━━━━━━━━━━\u001b[0m\u001b[37m\u001b[0m \u001b[1m195s\u001b[0m 240ms/step - accuracy: 0.9489 - auc: 0.9460 - f1_score: 0.5856 - loss: 0.0283 - precision: 0.7597 - recall: 0.5044 - val_accuracy: 0.9319 - val_auc: 0.7530 - val_f1_score: 0.2313 - val_loss: 0.0705 - val_precision: 0.3191 - val_recall: 0.2028 - learning_rate: 1.0000e-06\n"
     ]
    },
    {
     "name": "stderr",
     "output_type": "stream",
     "text": [
      "2025-06-19 15:19:33 - INFO - \n",
      "=== Starting Epoch 63 ===\n",
      "\n"
     ]
    },
    {
     "name": "stdout",
     "output_type": "stream",
     "text": [
      "Epoch 63/100\n",
      "\u001b[1m813/813\u001b[0m \u001b[32m━━━━━━━━━━━━━━━━━━━━\u001b[0m\u001b[37m\u001b[0m \u001b[1m0s\u001b[0m 228ms/step - accuracy: 0.9487 - auc: 0.9459 - f1_score: 0.5858 - loss: 0.0284 - precision: 0.7549 - recall: 0.5065  "
     ]
    },
    {
     "name": "stderr",
     "output_type": "stream",
     "text": [
      "2025-06-19 15:22:47 - INFO - \n",
      "=== Epoch 63 Summary ===\n",
      "2025-06-19 15:22:47 - INFO - Time: 194.02s\n",
      "2025-06-19 15:22:47 - INFO - Training   - accuracy: 0.9488 - auc: 0.9463 - f1_score: 0.5857 - loss: 0.0283 - precision: 0.7549 - recall: 0.5066 - learning_rate: 0.0000\n",
      "2025-06-19 15:22:47 - INFO - Validation - accuracy: 0.9317 - auc: 0.7542 - f1_score: 0.2340 - loss: 0.0707 - precision: 0.3161 - recall: 0.2009\n",
      "2025-06-19 15:22:47 - INFO - ==================================================\n",
      "\n"
     ]
    },
    {
     "name": "stdout",
     "output_type": "stream",
     "text": [
      "\u001b[1m813/813\u001b[0m \u001b[32m━━━━━━━━━━━━━━━━━━━━\u001b[0m\u001b[37m\u001b[0m \u001b[1m194s\u001b[0m 239ms/step - accuracy: 0.9487 - auc: 0.9459 - f1_score: 0.5858 - loss: 0.0284 - precision: 0.7549 - recall: 0.5065 - val_accuracy: 0.9317 - val_auc: 0.7542 - val_f1_score: 0.2340 - val_loss: 0.0707 - val_precision: 0.3161 - val_recall: 0.2009 - learning_rate: 1.0000e-06\n"
     ]
    },
    {
     "name": "stderr",
     "output_type": "stream",
     "text": [
      "2025-06-19 15:22:47 - INFO - \n",
      "=== Starting Epoch 64 ===\n",
      "\n"
     ]
    },
    {
     "name": "stdout",
     "output_type": "stream",
     "text": [
      "Epoch 64/100\n",
      "\u001b[1m813/813\u001b[0m \u001b[32m━━━━━━━━━━━━━━━━━━━━\u001b[0m\u001b[37m\u001b[0m \u001b[1m0s\u001b[0m 228ms/step - accuracy: 0.9493 - auc: 0.9473 - f1_score: 0.5900 - loss: 0.0281 - precision: 0.7602 - recall: 0.5107  "
     ]
    },
    {
     "name": "stderr",
     "output_type": "stream",
     "text": [
      "2025-06-19 15:26:01 - INFO - \n",
      "=== Epoch 64 Summary ===\n",
      "2025-06-19 15:26:01 - INFO - Time: 194.25s\n",
      "2025-06-19 15:26:01 - INFO - Training   - accuracy: 0.9494 - auc: 0.9472 - f1_score: 0.5903 - loss: 0.0281 - precision: 0.7601 - recall: 0.5112 - learning_rate: 0.0000\n",
      "2025-06-19 15:26:01 - INFO - Validation - accuracy: 0.9314 - auc: 0.7544 - f1_score: 0.2322 - loss: 0.0710 - precision: 0.3189 - recall: 0.2105\n",
      "2025-06-19 15:26:01 - INFO - ==================================================\n",
      "\n"
     ]
    },
    {
     "name": "stdout",
     "output_type": "stream",
     "text": [
      "\u001b[1m813/813\u001b[0m \u001b[32m━━━━━━━━━━━━━━━━━━━━\u001b[0m\u001b[37m\u001b[0m \u001b[1m194s\u001b[0m 239ms/step - accuracy: 0.9493 - auc: 0.9473 - f1_score: 0.5900 - loss: 0.0281 - precision: 0.7602 - recall: 0.5107 - val_accuracy: 0.9314 - val_auc: 0.7544 - val_f1_score: 0.2322 - val_loss: 0.0710 - val_precision: 0.3189 - val_recall: 0.2105 - learning_rate: 1.0000e-06\n"
     ]
    },
    {
     "name": "stderr",
     "output_type": "stream",
     "text": [
      "2025-06-19 15:26:01 - INFO - \n",
      "=== Starting Epoch 65 ===\n",
      "\n"
     ]
    },
    {
     "name": "stdout",
     "output_type": "stream",
     "text": [
      "Epoch 65/100\n",
      "\u001b[1m813/813\u001b[0m \u001b[32m━━━━━━━━━━━━━━━━━━━━\u001b[0m\u001b[37m\u001b[0m \u001b[1m0s\u001b[0m 228ms/step - accuracy: 0.9497 - auc: 0.9478 - f1_score: 0.5954 - loss: 0.0280 - precision: 0.7617 - recall: 0.5164  "
     ]
    },
    {
     "name": "stderr",
     "output_type": "stream",
     "text": [
      "2025-06-19 15:29:15 - INFO - \n",
      "=== Epoch 65 Summary ===\n",
      "2025-06-19 15:29:15 - INFO - Time: 193.91s\n",
      "2025-06-19 15:29:15 - INFO - Training   - accuracy: 0.9496 - auc: 0.9479 - f1_score: 0.5932 - loss: 0.0280 - precision: 0.7601 - recall: 0.5140 - learning_rate: 0.0000\n",
      "2025-06-19 15:29:15 - INFO - Validation - accuracy: 0.9326 - auc: 0.7543 - f1_score: 0.2292 - loss: 0.0723 - precision: 0.3245 - recall: 0.2004\n",
      "2025-06-19 15:29:15 - INFO - ==================================================\n",
      "\n"
     ]
    },
    {
     "name": "stdout",
     "output_type": "stream",
     "text": [
      "\u001b[1m813/813\u001b[0m \u001b[32m━━━━━━━━━━━━━━━━━━━━\u001b[0m\u001b[37m\u001b[0m \u001b[1m194s\u001b[0m 239ms/step - accuracy: 0.9497 - auc: 0.9478 - f1_score: 0.5954 - loss: 0.0280 - precision: 0.7617 - recall: 0.5164 - val_accuracy: 0.9326 - val_auc: 0.7543 - val_f1_score: 0.2292 - val_loss: 0.0723 - val_precision: 0.3245 - val_recall: 0.2004 - learning_rate: 1.0000e-06\n"
     ]
    },
    {
     "name": "stderr",
     "output_type": "stream",
     "text": [
      "2025-06-19 15:29:15 - INFO - \n",
      "=== Starting Epoch 66 ===\n",
      "\n"
     ]
    },
    {
     "name": "stdout",
     "output_type": "stream",
     "text": [
      "Epoch 66/100\n",
      "\u001b[1m813/813\u001b[0m \u001b[32m━━━━━━━━━━━━━━━━━━━━\u001b[0m\u001b[37m\u001b[0m \u001b[1m0s\u001b[0m 229ms/step - accuracy: 0.9497 - auc: 0.9481 - f1_score: 0.5967 - loss: 0.0280 - precision: 0.7652 - recall: 0.5162  "
     ]
    },
    {
     "name": "stderr",
     "output_type": "stream",
     "text": [
      "2025-06-19 15:32:29 - INFO - \n",
      "=== Epoch 66 Summary ===\n",
      "2025-06-19 15:32:29 - INFO - Time: 194.57s\n",
      "2025-06-19 15:32:29 - INFO - Training   - accuracy: 0.9500 - auc: 0.9485 - f1_score: 0.5974 - loss: 0.0278 - precision: 0.7646 - recall: 0.5178 - learning_rate: 0.0000\n",
      "2025-06-19 15:32:29 - INFO - Validation - accuracy: 0.9318 - auc: 0.7552 - f1_score: 0.2299 - loss: 0.0730 - precision: 0.3131 - recall: 0.1945\n",
      "2025-06-19 15:32:29 - INFO - ==================================================\n",
      "\n"
     ]
    },
    {
     "name": "stdout",
     "output_type": "stream",
     "text": [
      "\u001b[1m813/813\u001b[0m \u001b[32m━━━━━━━━━━━━━━━━━━━━\u001b[0m\u001b[37m\u001b[0m \u001b[1m195s\u001b[0m 239ms/step - accuracy: 0.9497 - auc: 0.9481 - f1_score: 0.5967 - loss: 0.0280 - precision: 0.7652 - recall: 0.5162 - val_accuracy: 0.9318 - val_auc: 0.7552 - val_f1_score: 0.2299 - val_loss: 0.0730 - val_precision: 0.3131 - val_recall: 0.1945 - learning_rate: 1.0000e-06\n"
     ]
    },
    {
     "name": "stderr",
     "output_type": "stream",
     "text": [
      "2025-06-19 15:32:29 - INFO - \n",
      "=== Starting Epoch 67 ===\n",
      "\n"
     ]
    },
    {
     "name": "stdout",
     "output_type": "stream",
     "text": [
      "Epoch 67/100\n",
      "\u001b[1m813/813\u001b[0m \u001b[32m━━━━━━━━━━━━━━━━━━━━\u001b[0m\u001b[37m\u001b[0m \u001b[1m0s\u001b[0m 228ms/step - accuracy: 0.9497 - auc: 0.9479 - f1_score: 0.5947 - loss: 0.0279 - precision: 0.7610 - recall: 0.5158  "
     ]
    },
    {
     "name": "stderr",
     "output_type": "stream",
     "text": [
      "2025-06-19 15:35:44 - INFO - \n",
      "=== Epoch 67 Summary ===\n",
      "2025-06-19 15:35:44 - INFO - Time: 194.32s\n",
      "2025-06-19 15:35:44 - INFO - Training   - accuracy: 0.9501 - auc: 0.9489 - f1_score: 0.5993 - loss: 0.0277 - precision: 0.7631 - recall: 0.5207 - learning_rate: 0.0000\n",
      "2025-06-19 15:35:44 - INFO - Validation - accuracy: 0.9315 - auc: 0.7547 - f1_score: 0.2383 - loss: 0.0725 - precision: 0.3184 - recall: 0.2083\n",
      "2025-06-19 15:35:44 - INFO - ==================================================\n",
      "\n"
     ]
    },
    {
     "name": "stdout",
     "output_type": "stream",
     "text": [
      "\u001b[1m813/813\u001b[0m \u001b[32m━━━━━━━━━━━━━━━━━━━━\u001b[0m\u001b[37m\u001b[0m \u001b[1m194s\u001b[0m 239ms/step - accuracy: 0.9497 - auc: 0.9479 - f1_score: 0.5947 - loss: 0.0279 - precision: 0.7610 - recall: 0.5158 - val_accuracy: 0.9315 - val_auc: 0.7547 - val_f1_score: 0.2383 - val_loss: 0.0725 - val_precision: 0.3184 - val_recall: 0.2083 - learning_rate: 1.0000e-06\n"
     ]
    },
    {
     "name": "stderr",
     "output_type": "stream",
     "text": [
      "2025-06-19 15:35:44 - INFO - \n",
      "=== Starting Epoch 68 ===\n",
      "\n"
     ]
    },
    {
     "name": "stdout",
     "output_type": "stream",
     "text": [
      "Epoch 68/100\n",
      "\u001b[1m813/813\u001b[0m \u001b[32m━━━━━━━━━━━━━━━━━━━━\u001b[0m\u001b[37m\u001b[0m \u001b[1m0s\u001b[0m 227ms/step - accuracy: 0.9499 - auc: 0.9496 - f1_score: 0.5972 - loss: 0.0277 - precision: 0.7639 - recall: 0.5177  "
     ]
    },
    {
     "name": "stderr",
     "output_type": "stream",
     "text": [
      "2025-06-19 15:38:57 - INFO - \n",
      "=== Epoch 68 Summary ===\n",
      "2025-06-19 15:38:57 - INFO - Time: 193.41s\n",
      "2025-06-19 15:38:57 - INFO - Training   - accuracy: 0.9502 - auc: 0.9494 - f1_score: 0.5999 - loss: 0.0276 - precision: 0.7638 - recall: 0.5211 - learning_rate: 0.0000\n",
      "2025-06-19 15:38:57 - INFO - Validation - accuracy: 0.9308 - auc: 0.7530 - f1_score: 0.2269 - loss: 0.0729 - precision: 0.3057 - recall: 0.1966\n",
      "2025-06-19 15:38:57 - INFO - ==================================================\n",
      "\n"
     ]
    },
    {
     "name": "stdout",
     "output_type": "stream",
     "text": [
      "\u001b[1m813/813\u001b[0m \u001b[32m━━━━━━━━━━━━━━━━━━━━\u001b[0m\u001b[37m\u001b[0m \u001b[1m193s\u001b[0m 238ms/step - accuracy: 0.9499 - auc: 0.9496 - f1_score: 0.5972 - loss: 0.0277 - precision: 0.7639 - recall: 0.5177 - val_accuracy: 0.9308 - val_auc: 0.7530 - val_f1_score: 0.2269 - val_loss: 0.0729 - val_precision: 0.3057 - val_recall: 0.1966 - learning_rate: 1.0000e-06\n"
     ]
    },
    {
     "name": "stderr",
     "output_type": "stream",
     "text": [
      "2025-06-19 15:38:57 - INFO - \n",
      "=== Starting Epoch 69 ===\n",
      "\n"
     ]
    },
    {
     "name": "stdout",
     "output_type": "stream",
     "text": [
      "Epoch 69/100\n",
      "\u001b[1m813/813\u001b[0m \u001b[32m━━━━━━━━━━━━━━━━━━━━\u001b[0m\u001b[37m\u001b[0m \u001b[1m0s\u001b[0m 228ms/step - accuracy: 0.9501 - auc: 0.9497 - f1_score: 0.5992 - loss: 0.0277 - precision: 0.7670 - recall: 0.5196  "
     ]
    },
    {
     "name": "stderr",
     "output_type": "stream",
     "text": [
      "2025-06-19 15:42:11 - INFO - \n",
      "=== Epoch 69 Summary ===\n",
      "2025-06-19 15:42:11 - INFO - Time: 194.06s\n",
      "2025-06-19 15:42:11 - INFO - Training   - accuracy: 0.9505 - auc: 0.9499 - f1_score: 0.6020 - loss: 0.0275 - precision: 0.7662 - recall: 0.5231 - learning_rate: 0.0000\n",
      "2025-06-19 15:42:11 - INFO - Validation - accuracy: 0.9304 - auc: 0.7551 - f1_score: 0.2376 - loss: 0.0719 - precision: 0.3117 - recall: 0.2127\n",
      "2025-06-19 15:42:11 - INFO - ==================================================\n",
      "\n"
     ]
    },
    {
     "name": "stdout",
     "output_type": "stream",
     "text": [
      "\u001b[1m813/813\u001b[0m \u001b[32m━━━━━━━━━━━━━━━━━━━━\u001b[0m\u001b[37m\u001b[0m \u001b[1m194s\u001b[0m 239ms/step - accuracy: 0.9501 - auc: 0.9497 - f1_score: 0.5992 - loss: 0.0277 - precision: 0.7670 - recall: 0.5196 - val_accuracy: 0.9304 - val_auc: 0.7551 - val_f1_score: 0.2376 - val_loss: 0.0719 - val_precision: 0.3117 - val_recall: 0.2127 - learning_rate: 1.0000e-06\n"
     ]
    },
    {
     "name": "stderr",
     "output_type": "stream",
     "text": [
      "2025-06-19 15:42:11 - INFO - \n",
      "=== Starting Epoch 70 ===\n",
      "\n"
     ]
    },
    {
     "name": "stdout",
     "output_type": "stream",
     "text": [
      "Epoch 70/100\n",
      "\u001b[1m813/813\u001b[0m \u001b[32m━━━━━━━━━━━━━━━━━━━━\u001b[0m\u001b[37m\u001b[0m \u001b[1m0s\u001b[0m 228ms/step - accuracy: 0.9506 - auc: 0.9503 - f1_score: 0.6066 - loss: 0.0275 - precision: 0.7681 - recall: 0.5281  "
     ]
    },
    {
     "name": "stderr",
     "output_type": "stream",
     "text": [
      "2025-06-19 15:45:25 - INFO - \n",
      "=== Epoch 70 Summary ===\n",
      "2025-06-19 15:45:25 - INFO - Time: 194.14s\n",
      "2025-06-19 15:45:25 - INFO - Training   - accuracy: 0.9507 - auc: 0.9506 - f1_score: 0.6060 - loss: 0.0274 - precision: 0.7674 - recall: 0.5279 - learning_rate: 0.0000\n",
      "2025-06-19 15:45:25 - INFO - Validation - accuracy: 0.9309 - auc: 0.7513 - f1_score: 0.2321 - loss: 0.0726 - precision: 0.3094 - recall: 0.2005\n",
      "2025-06-19 15:45:25 - INFO - ==================================================\n",
      "\n"
     ]
    },
    {
     "name": "stdout",
     "output_type": "stream",
     "text": [
      "\u001b[1m813/813\u001b[0m \u001b[32m━━━━━━━━━━━━━━━━━━━━\u001b[0m\u001b[37m\u001b[0m \u001b[1m194s\u001b[0m 239ms/step - accuracy: 0.9506 - auc: 0.9503 - f1_score: 0.6066 - loss: 0.0275 - precision: 0.7681 - recall: 0.5281 - val_accuracy: 0.9309 - val_auc: 0.7513 - val_f1_score: 0.2321 - val_loss: 0.0726 - val_precision: 0.3094 - val_recall: 0.2005 - learning_rate: 1.0000e-06\n"
     ]
    },
    {
     "name": "stderr",
     "output_type": "stream",
     "text": [
      "2025-06-19 15:45:25 - INFO - \n",
      "=== Starting Epoch 71 ===\n",
      "\n"
     ]
    },
    {
     "name": "stdout",
     "output_type": "stream",
     "text": [
      "Epoch 71/100\n",
      "\u001b[1m813/813\u001b[0m \u001b[32m━━━━━━━━━━━━━━━━━━━━\u001b[0m\u001b[37m\u001b[0m \u001b[1m0s\u001b[0m 226ms/step - accuracy: 0.9507 - auc: 0.9504 - f1_score: 0.6055 - loss: 0.0275 - precision: 0.7657 - recall: 0.5276  "
     ]
    },
    {
     "name": "stderr",
     "output_type": "stream",
     "text": [
      "2025-06-19 15:48:37 - INFO - \n",
      "=== Epoch 71 Summary ===\n",
      "2025-06-19 15:48:37 - INFO - Time: 191.86s\n",
      "2025-06-19 15:48:37 - INFO - Training   - accuracy: 0.9509 - auc: 0.9509 - f1_score: 0.6058 - loss: 0.0274 - precision: 0.7674 - recall: 0.5275 - learning_rate: 0.0000\n",
      "2025-06-19 15:48:37 - INFO - Validation - accuracy: 0.9317 - auc: 0.7511 - f1_score: 0.2325 - loss: 0.0728 - precision: 0.3217 - recall: 0.2104\n",
      "2025-06-19 15:48:37 - INFO - ==================================================\n",
      "\n"
     ]
    },
    {
     "name": "stdout",
     "output_type": "stream",
     "text": [
      "\u001b[1m813/813\u001b[0m \u001b[32m━━━━━━━━━━━━━━━━━━━━\u001b[0m\u001b[37m\u001b[0m \u001b[1m192s\u001b[0m 236ms/step - accuracy: 0.9508 - auc: 0.9504 - f1_score: 0.6055 - loss: 0.0275 - precision: 0.7657 - recall: 0.5276 - val_accuracy: 0.9317 - val_auc: 0.7511 - val_f1_score: 0.2325 - val_loss: 0.0728 - val_precision: 0.3217 - val_recall: 0.2104 - learning_rate: 1.0000e-06\n"
     ]
    },
    {
     "name": "stderr",
     "output_type": "stream",
     "text": [
      "2025-06-19 15:48:37 - INFO - \n",
      "=== Starting Epoch 72 ===\n",
      "\n"
     ]
    },
    {
     "name": "stdout",
     "output_type": "stream",
     "text": [
      "Epoch 72/100\n",
      "\u001b[1m813/813\u001b[0m \u001b[32m━━━━━━━━━━━━━━━━━━━━\u001b[0m\u001b[37m\u001b[0m \u001b[1m0s\u001b[0m 229ms/step - accuracy: 0.9508 - auc: 0.9513 - f1_score: 0.6086 - loss: 0.0273 - precision: 0.7676 - recall: 0.5305  "
     ]
    },
    {
     "name": "stderr",
     "output_type": "stream",
     "text": [
      "2025-06-19 15:51:52 - INFO - \n",
      "=== Epoch 72 Summary ===\n",
      "2025-06-19 15:51:52 - INFO - Time: 195.17s\n",
      "2025-06-19 15:51:52 - INFO - Training   - accuracy: 0.9512 - auc: 0.9518 - f1_score: 0.6110 - loss: 0.0271 - precision: 0.7695 - recall: 0.5326 - learning_rate: 0.0000\n",
      "2025-06-19 15:51:52 - INFO - Validation - accuracy: 0.9311 - auc: 0.7531 - f1_score: 0.2395 - loss: 0.0737 - precision: 0.3161 - recall: 0.2094\n",
      "2025-06-19 15:51:52 - INFO - ==================================================\n",
      "\n"
     ]
    },
    {
     "name": "stdout",
     "output_type": "stream",
     "text": [
      "\u001b[1m813/813\u001b[0m \u001b[32m━━━━━━━━━━━━━━━━━━━━\u001b[0m\u001b[37m\u001b[0m \u001b[1m195s\u001b[0m 240ms/step - accuracy: 0.9508 - auc: 0.9513 - f1_score: 0.6086 - loss: 0.0273 - precision: 0.7676 - recall: 0.5305 - val_accuracy: 0.9311 - val_auc: 0.7531 - val_f1_score: 0.2395 - val_loss: 0.0737 - val_precision: 0.3161 - val_recall: 0.2094 - learning_rate: 1.0000e-06\n"
     ]
    },
    {
     "name": "stderr",
     "output_type": "stream",
     "text": [
      "2025-06-19 15:51:52 - INFO - \n",
      "=== Starting Epoch 73 ===\n",
      "\n"
     ]
    },
    {
     "name": "stdout",
     "output_type": "stream",
     "text": [
      "Epoch 73/100\n",
      "\u001b[1m813/813\u001b[0m \u001b[32m━━━━━━━━━━━━━━━━━━━━\u001b[0m\u001b[37m\u001b[0m \u001b[1m0s\u001b[0m 229ms/step - accuracy: 0.9510 - auc: 0.9517 - f1_score: 0.6113 - loss: 0.0271 - precision: 0.7684 - recall: 0.5337  "
     ]
    },
    {
     "name": "stderr",
     "output_type": "stream",
     "text": [
      "2025-06-19 15:55:08 - INFO - \n",
      "=== Epoch 73 Summary ===\n",
      "2025-06-19 15:55:08 - INFO - Time: 195.33s\n",
      "2025-06-19 15:55:08 - INFO - Training   - accuracy: 0.9513 - auc: 0.9520 - f1_score: 0.6124 - loss: 0.0270 - precision: 0.7688 - recall: 0.5350 - learning_rate: 0.0000\n",
      "2025-06-19 15:55:08 - INFO - Validation - accuracy: 0.9282 - auc: 0.7535 - f1_score: 0.2525 - loss: 0.0725 - precision: 0.3025 - recall: 0.2270\n",
      "2025-06-19 15:55:08 - INFO - ==================================================\n",
      "\n"
     ]
    },
    {
     "name": "stdout",
     "output_type": "stream",
     "text": [
      "\u001b[1m813/813\u001b[0m \u001b[32m━━━━━━━━━━━━━━━━━━━━\u001b[0m\u001b[37m\u001b[0m \u001b[1m195s\u001b[0m 240ms/step - accuracy: 0.9510 - auc: 0.9517 - f1_score: 0.6113 - loss: 0.0271 - precision: 0.7684 - recall: 0.5337 - val_accuracy: 0.9282 - val_auc: 0.7535 - val_f1_score: 0.2525 - val_loss: 0.0725 - val_precision: 0.3025 - val_recall: 0.2270 - learning_rate: 1.0000e-06\n"
     ]
    },
    {
     "name": "stderr",
     "output_type": "stream",
     "text": [
      "2025-06-19 15:55:08 - INFO - \n",
      "=== Starting Epoch 74 ===\n",
      "\n"
     ]
    },
    {
     "name": "stdout",
     "output_type": "stream",
     "text": [
      "Epoch 74/100\n",
      "\u001b[1m813/813\u001b[0m \u001b[32m━━━━━━━━━━━━━━━━━━━━\u001b[0m\u001b[37m\u001b[0m \u001b[1m0s\u001b[0m 228ms/step - accuracy: 0.9513 - auc: 0.9524 - f1_score: 0.6124 - loss: 0.0270 - precision: 0.7728 - recall: 0.5329  "
     ]
    },
    {
     "name": "stderr",
     "output_type": "stream",
     "text": [
      "2025-06-19 15:58:22 - INFO - \n",
      "=== Epoch 74 Summary ===\n",
      "2025-06-19 15:58:22 - INFO - Time: 193.96s\n",
      "2025-06-19 15:58:22 - INFO - Training   - accuracy: 0.9515 - auc: 0.9526 - f1_score: 0.6141 - loss: 0.0269 - precision: 0.7705 - recall: 0.5361 - learning_rate: 0.0000\n",
      "2025-06-19 15:58:22 - INFO - Validation - accuracy: 0.9282 - auc: 0.7508 - f1_score: 0.2449 - loss: 0.0749 - precision: 0.2952 - recall: 0.2139\n",
      "2025-06-19 15:58:22 - INFO - ==================================================\n",
      "\n"
     ]
    },
    {
     "name": "stdout",
     "output_type": "stream",
     "text": [
      "\u001b[1m813/813\u001b[0m \u001b[32m━━━━━━━━━━━━━━━━━━━━\u001b[0m\u001b[37m\u001b[0m \u001b[1m194s\u001b[0m 239ms/step - accuracy: 0.9513 - auc: 0.9524 - f1_score: 0.6124 - loss: 0.0270 - precision: 0.7728 - recall: 0.5329 - val_accuracy: 0.9282 - val_auc: 0.7508 - val_f1_score: 0.2449 - val_loss: 0.0749 - val_precision: 0.2952 - val_recall: 0.2139 - learning_rate: 1.0000e-06\n"
     ]
    },
    {
     "name": "stderr",
     "output_type": "stream",
     "text": [
      "2025-06-19 15:58:22 - INFO - \n",
      "=== Starting Epoch 75 ===\n",
      "\n"
     ]
    },
    {
     "name": "stdout",
     "output_type": "stream",
     "text": [
      "Epoch 75/100\n",
      "\u001b[1m813/813\u001b[0m \u001b[32m━━━━━━━━━━━━━━━━━━━━\u001b[0m\u001b[37m\u001b[0m \u001b[1m0s\u001b[0m 228ms/step - accuracy: 0.9515 - auc: 0.9526 - f1_score: 0.6147 - loss: 0.0270 - precision: 0.7705 - recall: 0.5380  "
     ]
    },
    {
     "name": "stderr",
     "output_type": "stream",
     "text": [
      "2025-06-19 16:01:35 - INFO - \n",
      "=== Epoch 75 Summary ===\n",
      "2025-06-19 16:01:35 - INFO - Time: 193.63s\n",
      "2025-06-19 16:01:35 - INFO - Training   - accuracy: 0.9518 - auc: 0.9532 - f1_score: 0.6176 - loss: 0.0268 - precision: 0.7716 - recall: 0.5409 - learning_rate: 0.0000\n",
      "2025-06-19 16:01:35 - INFO - Validation - accuracy: 0.9299 - auc: 0.7517 - f1_score: 0.2336 - loss: 0.0759 - precision: 0.3018 - recall: 0.2030\n",
      "2025-06-19 16:01:35 - INFO - ==================================================\n",
      "\n"
     ]
    },
    {
     "name": "stdout",
     "output_type": "stream",
     "text": [
      "\u001b[1m813/813\u001b[0m \u001b[32m━━━━━━━━━━━━━━━━━━━━\u001b[0m\u001b[37m\u001b[0m \u001b[1m194s\u001b[0m 238ms/step - accuracy: 0.9515 - auc: 0.9526 - f1_score: 0.6148 - loss: 0.0270 - precision: 0.7705 - recall: 0.5380 - val_accuracy: 0.9299 - val_auc: 0.7517 - val_f1_score: 0.2336 - val_loss: 0.0759 - val_precision: 0.3018 - val_recall: 0.2030 - learning_rate: 1.0000e-06\n"
     ]
    },
    {
     "name": "stderr",
     "output_type": "stream",
     "text": [
      "2025-06-19 16:01:35 - INFO - \n",
      "=== Starting Epoch 76 ===\n",
      "\n"
     ]
    },
    {
     "name": "stdout",
     "output_type": "stream",
     "text": [
      "Epoch 76/100\n",
      "\u001b[1m813/813\u001b[0m \u001b[32m━━━━━━━━━━━━━━━━━━━━\u001b[0m\u001b[37m\u001b[0m \u001b[1m0s\u001b[0m 229ms/step - accuracy: 0.9518 - auc: 0.9533 - f1_score: 0.6177 - loss: 0.0268 - precision: 0.7751 - recall: 0.5391  "
     ]
    },
    {
     "name": "stderr",
     "output_type": "stream",
     "text": [
      "2025-06-19 16:04:50 - INFO - \n",
      "=== Epoch 76 Summary ===\n",
      "2025-06-19 16:04:50 - INFO - Time: 194.44s\n",
      "2025-06-19 16:04:50 - INFO - Training   - accuracy: 0.9521 - auc: 0.9534 - f1_score: 0.6207 - loss: 0.0266 - precision: 0.7748 - recall: 0.5430 - learning_rate: 0.0000\n",
      "2025-06-19 16:04:50 - INFO - Validation - accuracy: 0.9319 - auc: 0.7525 - f1_score: 0.2434 - loss: 0.0732 - precision: 0.3272 - recall: 0.2175\n",
      "2025-06-19 16:04:50 - INFO - ==================================================\n",
      "\n"
     ]
    },
    {
     "name": "stdout",
     "output_type": "stream",
     "text": [
      "\u001b[1m813/813\u001b[0m \u001b[32m━━━━━━━━━━━━━━━━━━━━\u001b[0m\u001b[37m\u001b[0m \u001b[1m194s\u001b[0m 239ms/step - accuracy: 0.9518 - auc: 0.9533 - f1_score: 0.6177 - loss: 0.0268 - precision: 0.7751 - recall: 0.5391 - val_accuracy: 0.9319 - val_auc: 0.7525 - val_f1_score: 0.2434 - val_loss: 0.0732 - val_precision: 0.3272 - val_recall: 0.2175 - learning_rate: 1.0000e-06\n"
     ]
    },
    {
     "name": "stderr",
     "output_type": "stream",
     "text": [
      "2025-06-19 16:04:50 - INFO - \n",
      "=== Starting Epoch 77 ===\n",
      "\n"
     ]
    },
    {
     "name": "stdout",
     "output_type": "stream",
     "text": [
      "Epoch 77/100\n",
      "\u001b[1m813/813\u001b[0m \u001b[32m━━━━━━━━━━━━━━━━━━━━\u001b[0m\u001b[37m\u001b[0m \u001b[1m0s\u001b[0m 229ms/step - accuracy: 0.9519 - auc: 0.9535 - f1_score: 0.6200 - loss: 0.0267 - precision: 0.7715 - recall: 0.5436  "
     ]
    },
    {
     "name": "stderr",
     "output_type": "stream",
     "text": [
      "2025-06-19 16:08:05 - INFO - \n",
      "=== Epoch 77 Summary ===\n",
      "2025-06-19 16:08:05 - INFO - Time: 194.80s\n",
      "2025-06-19 16:08:05 - INFO - Training   - accuracy: 0.9520 - auc: 0.9538 - f1_score: 0.6201 - loss: 0.0266 - precision: 0.7708 - recall: 0.5438 - learning_rate: 0.0000\n",
      "2025-06-19 16:08:05 - INFO - Validation - accuracy: 0.9321 - auc: 0.7543 - f1_score: 0.2278 - loss: 0.0769 - precision: 0.3133 - recall: 0.1891\n",
      "2025-06-19 16:08:05 - INFO - ==================================================\n",
      "\n"
     ]
    },
    {
     "name": "stdout",
     "output_type": "stream",
     "text": [
      "\u001b[1m813/813\u001b[0m \u001b[32m━━━━━━━━━━━━━━━━━━━━\u001b[0m\u001b[37m\u001b[0m \u001b[1m195s\u001b[0m 240ms/step - accuracy: 0.9519 - auc: 0.9535 - f1_score: 0.6200 - loss: 0.0267 - precision: 0.7715 - recall: 0.5436 - val_accuracy: 0.9321 - val_auc: 0.7543 - val_f1_score: 0.2278 - val_loss: 0.0769 - val_precision: 0.3133 - val_recall: 0.1891 - learning_rate: 1.0000e-06\n"
     ]
    },
    {
     "name": "stderr",
     "output_type": "stream",
     "text": [
      "2025-06-19 16:08:05 - INFO - \n",
      "=== Starting Epoch 78 ===\n",
      "\n"
     ]
    },
    {
     "name": "stdout",
     "output_type": "stream",
     "text": [
      "Epoch 78/100\n",
      "\u001b[1m813/813\u001b[0m \u001b[32m━━━━━━━━━━━━━━━━━━━━\u001b[0m\u001b[37m\u001b[0m \u001b[1m0s\u001b[0m 228ms/step - accuracy: 0.9520 - auc: 0.9541 - f1_score: 0.6214 - loss: 0.0265 - precision: 0.7772 - recall: 0.5430  "
     ]
    },
    {
     "name": "stderr",
     "output_type": "stream",
     "text": [
      "2025-06-19 16:11:19 - INFO - \n",
      "=== Epoch 78 Summary ===\n",
      "2025-06-19 16:11:19 - INFO - Time: 194.29s\n",
      "2025-06-19 16:11:19 - INFO - Training   - accuracy: 0.9524 - auc: 0.9544 - f1_score: 0.6243 - loss: 0.0263 - precision: 0.7762 - recall: 0.5471 - learning_rate: 0.0000\n",
      "2025-06-19 16:11:19 - INFO - Validation - accuracy: 0.9314 - auc: 0.7537 - f1_score: 0.2379 - loss: 0.0751 - precision: 0.3127 - recall: 0.1985\n",
      "2025-06-19 16:11:19 - INFO - ==================================================\n",
      "\n"
     ]
    },
    {
     "name": "stdout",
     "output_type": "stream",
     "text": [
      "\u001b[1m813/813\u001b[0m \u001b[32m━━━━━━━━━━━━━━━━━━━━\u001b[0m\u001b[37m\u001b[0m \u001b[1m194s\u001b[0m 239ms/step - accuracy: 0.9520 - auc: 0.9541 - f1_score: 0.6214 - loss: 0.0265 - precision: 0.7772 - recall: 0.5430 - val_accuracy: 0.9314 - val_auc: 0.7537 - val_f1_score: 0.2379 - val_loss: 0.0751 - val_precision: 0.3127 - val_recall: 0.1985 - learning_rate: 1.0000e-06\n"
     ]
    },
    {
     "name": "stderr",
     "output_type": "stream",
     "text": [
      "2025-06-19 16:11:19 - INFO - \n",
      "=== Starting Epoch 79 ===\n",
      "\n"
     ]
    },
    {
     "name": "stdout",
     "output_type": "stream",
     "text": [
      "Epoch 79/100\n",
      "\u001b[1m813/813\u001b[0m \u001b[32m━━━━━━━━━━━━━━━━━━━━\u001b[0m\u001b[37m\u001b[0m \u001b[1m0s\u001b[0m 228ms/step - accuracy: 0.9526 - auc: 0.9547 - f1_score: 0.6251 - loss: 0.0264 - precision: 0.7784 - recall: 0.5477  "
     ]
    },
    {
     "name": "stderr",
     "output_type": "stream",
     "text": [
      "2025-06-19 16:14:33 - INFO - \n",
      "=== Epoch 79 Summary ===\n",
      "2025-06-19 16:14:33 - INFO - Time: 194.06s\n",
      "2025-06-19 16:14:33 - INFO - Training   - accuracy: 0.9527 - auc: 0.9546 - f1_score: 0.6264 - loss: 0.0263 - precision: 0.7770 - recall: 0.5497 - learning_rate: 0.0000\n",
      "2025-06-19 16:14:33 - INFO - Validation - accuracy: 0.9302 - auc: 0.7521 - f1_score: 0.2395 - loss: 0.0759 - precision: 0.3087 - recall: 0.2107\n",
      "2025-06-19 16:14:33 - INFO - ==================================================\n",
      "\n"
     ]
    },
    {
     "name": "stdout",
     "output_type": "stream",
     "text": [
      "\u001b[1m813/813\u001b[0m \u001b[32m━━━━━━━━━━━━━━━━━━━━\u001b[0m\u001b[37m\u001b[0m \u001b[1m194s\u001b[0m 239ms/step - accuracy: 0.9526 - auc: 0.9547 - f1_score: 0.6251 - loss: 0.0264 - precision: 0.7784 - recall: 0.5477 - val_accuracy: 0.9302 - val_auc: 0.7521 - val_f1_score: 0.2395 - val_loss: 0.0759 - val_precision: 0.3087 - val_recall: 0.2107 - learning_rate: 1.0000e-06\n"
     ]
    },
    {
     "name": "stderr",
     "output_type": "stream",
     "text": [
      "2025-06-19 16:14:33 - INFO - \n",
      "=== Starting Epoch 80 ===\n",
      "\n"
     ]
    },
    {
     "name": "stdout",
     "output_type": "stream",
     "text": [
      "Epoch 80/100\n",
      "\u001b[1m813/813\u001b[0m \u001b[32m━━━━━━━━━━━━━━━━━━━━\u001b[0m\u001b[37m\u001b[0m \u001b[1m0s\u001b[0m 229ms/step - accuracy: 0.9525 - auc: 0.9551 - f1_score: 0.6280 - loss: 0.0264 - precision: 0.7785 - recall: 0.5507  "
     ]
    },
    {
     "name": "stderr",
     "output_type": "stream",
     "text": [
      "2025-06-19 16:17:47 - INFO - \n",
      "=== Epoch 80 Summary ===\n",
      "2025-06-19 16:17:47 - INFO - Time: 194.39s\n",
      "2025-06-19 16:17:47 - INFO - Training   - accuracy: 0.9527 - auc: 0.9551 - f1_score: 0.6281 - loss: 0.0264 - precision: 0.7759 - recall: 0.5520 - learning_rate: 0.0000\n",
      "2025-06-19 16:17:47 - INFO - Validation - accuracy: 0.9303 - auc: 0.7513 - f1_score: 0.2443 - loss: 0.0764 - precision: 0.3134 - recall: 0.2173\n",
      "2025-06-19 16:17:47 - INFO - ==================================================\n",
      "\n"
     ]
    },
    {
     "name": "stdout",
     "output_type": "stream",
     "text": [
      "\u001b[1m813/813\u001b[0m \u001b[32m━━━━━━━━━━━━━━━━━━━━\u001b[0m\u001b[37m\u001b[0m \u001b[1m194s\u001b[0m 239ms/step - accuracy: 0.9525 - auc: 0.9551 - f1_score: 0.6280 - loss: 0.0264 - precision: 0.7785 - recall: 0.5507 - val_accuracy: 0.9303 - val_auc: 0.7513 - val_f1_score: 0.2443 - val_loss: 0.0764 - val_precision: 0.3134 - val_recall: 0.2173 - learning_rate: 1.0000e-06\n"
     ]
    },
    {
     "name": "stderr",
     "output_type": "stream",
     "text": [
      "2025-06-19 16:17:47 - INFO - \n",
      "=== Starting Epoch 81 ===\n",
      "\n"
     ]
    },
    {
     "name": "stdout",
     "output_type": "stream",
     "text": [
      "Epoch 81/100\n",
      "\u001b[1m813/813\u001b[0m \u001b[32m━━━━━━━━━━━━━━━━━━━━\u001b[0m\u001b[37m\u001b[0m \u001b[1m0s\u001b[0m 229ms/step - accuracy: 0.9527 - auc: 0.9548 - f1_score: 0.6295 - loss: 0.0264 - precision: 0.7779 - recall: 0.5521  "
     ]
    },
    {
     "name": "stderr",
     "output_type": "stream",
     "text": [
      "2025-06-19 16:21:02 - INFO - \n",
      "=== Epoch 81 Summary ===\n",
      "2025-06-19 16:21:02 - INFO - Time: 194.59s\n",
      "2025-06-19 16:21:02 - INFO - Training   - accuracy: 0.9529 - auc: 0.9554 - f1_score: 0.6301 - loss: 0.0263 - precision: 0.7777 - recall: 0.5535 - learning_rate: 0.0000\n",
      "2025-06-19 16:21:02 - INFO - Validation - accuracy: 0.9307 - auc: 0.7512 - f1_score: 0.2504 - loss: 0.0743 - precision: 0.3176 - recall: 0.2186\n",
      "2025-06-19 16:21:02 - INFO - ==================================================\n",
      "\n"
     ]
    },
    {
     "name": "stdout",
     "output_type": "stream",
     "text": [
      "\u001b[1m813/813\u001b[0m \u001b[32m━━━━━━━━━━━━━━━━━━━━\u001b[0m\u001b[37m\u001b[0m \u001b[1m195s\u001b[0m 239ms/step - accuracy: 0.9527 - auc: 0.9548 - f1_score: 0.6295 - loss: 0.0264 - precision: 0.7779 - recall: 0.5521 - val_accuracy: 0.9307 - val_auc: 0.7512 - val_f1_score: 0.2504 - val_loss: 0.0743 - val_precision: 0.3176 - val_recall: 0.2186 - learning_rate: 1.0000e-06\n"
     ]
    },
    {
     "name": "stderr",
     "output_type": "stream",
     "text": [
      "2025-06-19 16:21:02 - INFO - \n",
      "=== Starting Epoch 82 ===\n",
      "\n"
     ]
    },
    {
     "name": "stdout",
     "output_type": "stream",
     "text": [
      "Epoch 82/100\n",
      "\u001b[1m813/813\u001b[0m \u001b[32m━━━━━━━━━━━━━━━━━━━━\u001b[0m\u001b[37m\u001b[0m \u001b[1m0s\u001b[0m 229ms/step - accuracy: 0.9532 - auc: 0.9559 - f1_score: 0.6323 - loss: 0.0261 - precision: 0.7821 - recall: 0.5551  "
     ]
    },
    {
     "name": "stderr",
     "output_type": "stream",
     "text": [
      "2025-06-19 16:24:17 - INFO - \n",
      "=== Epoch 82 Summary ===\n",
      "2025-06-19 16:24:17 - INFO - Time: 194.74s\n",
      "2025-06-19 16:24:17 - INFO - Training   - accuracy: 0.9534 - auc: 0.9562 - f1_score: 0.6332 - loss: 0.0260 - precision: 0.7822 - recall: 0.5565 - learning_rate: 0.0000\n",
      "2025-06-19 16:24:17 - INFO - Validation - accuracy: 0.9316 - auc: 0.7475 - f1_score: 0.2410 - loss: 0.0758 - precision: 0.3151 - recall: 0.2009\n",
      "2025-06-19 16:24:17 - INFO - ==================================================\n",
      "\n"
     ]
    },
    {
     "name": "stdout",
     "output_type": "stream",
     "text": [
      "\u001b[1m813/813\u001b[0m \u001b[32m━━━━━━━━━━━━━━━━━━━━\u001b[0m\u001b[37m\u001b[0m \u001b[1m195s\u001b[0m 240ms/step - accuracy: 0.9532 - auc: 0.9559 - f1_score: 0.6323 - loss: 0.0261 - precision: 0.7821 - recall: 0.5551 - val_accuracy: 0.9316 - val_auc: 0.7475 - val_f1_score: 0.2410 - val_loss: 0.0758 - val_precision: 0.3151 - val_recall: 0.2009 - learning_rate: 1.0000e-06\n"
     ]
    },
    {
     "name": "stderr",
     "output_type": "stream",
     "text": [
      "2025-06-19 16:24:17 - INFO - \n",
      "=== Starting Epoch 83 ===\n",
      "\n"
     ]
    },
    {
     "name": "stdout",
     "output_type": "stream",
     "text": [
      "Epoch 83/100\n",
      "\u001b[1m813/813\u001b[0m \u001b[32m━━━━━━━━━━━━━━━━━━━━\u001b[0m\u001b[37m\u001b[0m \u001b[1m0s\u001b[0m 229ms/step - accuracy: 0.9530 - auc: 0.9567 - f1_score: 0.6326 - loss: 0.0261 - precision: 0.7794 - recall: 0.5551  "
     ]
    },
    {
     "name": "stderr",
     "output_type": "stream",
     "text": [
      "2025-06-19 16:27:31 - INFO - \n",
      "=== Epoch 83 Summary ===\n",
      "2025-06-19 16:27:31 - INFO - Time: 194.71s\n",
      "2025-06-19 16:27:31 - INFO - Training   - accuracy: 0.9535 - auc: 0.9568 - f1_score: 0.6354 - loss: 0.0260 - precision: 0.7814 - recall: 0.5590 - learning_rate: 0.0000\n",
      "2025-06-19 16:27:31 - INFO - Validation - accuracy: 0.9316 - auc: 0.7486 - f1_score: 0.2392 - loss: 0.0760 - precision: 0.3220 - recall: 0.2118\n",
      "2025-06-19 16:27:31 - INFO - ==================================================\n",
      "\n"
     ]
    },
    {
     "name": "stdout",
     "output_type": "stream",
     "text": [
      "\u001b[1m813/813\u001b[0m \u001b[32m━━━━━━━━━━━━━━━━━━━━\u001b[0m\u001b[37m\u001b[0m \u001b[1m195s\u001b[0m 240ms/step - accuracy: 0.9530 - auc: 0.9567 - f1_score: 0.6326 - loss: 0.0261 - precision: 0.7794 - recall: 0.5551 - val_accuracy: 0.9316 - val_auc: 0.7486 - val_f1_score: 0.2392 - val_loss: 0.0760 - val_precision: 0.3220 - val_recall: 0.2118 - learning_rate: 1.0000e-06\n"
     ]
    },
    {
     "name": "stderr",
     "output_type": "stream",
     "text": [
      "2025-06-19 16:27:31 - INFO - \n",
      "=== Starting Epoch 84 ===\n",
      "\n"
     ]
    },
    {
     "name": "stdout",
     "output_type": "stream",
     "text": [
      "Epoch 84/100\n",
      "\u001b[1m813/813\u001b[0m \u001b[32m━━━━━━━━━━━━━━━━━━━━\u001b[0m\u001b[37m\u001b[0m \u001b[1m0s\u001b[0m 229ms/step - accuracy: 0.9534 - auc: 0.9572 - f1_score: 0.6369 - loss: 0.0260 - precision: 0.7835 - recall: 0.5595  "
     ]
    },
    {
     "name": "stderr",
     "output_type": "stream",
     "text": [
      "2025-06-19 16:30:46 - INFO - \n",
      "=== Epoch 84 Summary ===\n",
      "2025-06-19 16:30:46 - INFO - Time: 194.95s\n",
      "2025-06-19 16:30:46 - INFO - Training   - accuracy: 0.9537 - auc: 0.9571 - f1_score: 0.6379 - loss: 0.0259 - precision: 0.7824 - recall: 0.5616 - learning_rate: 0.0000\n",
      "2025-06-19 16:30:46 - INFO - Validation - accuracy: 0.9331 - auc: 0.7519 - f1_score: 0.2322 - loss: 0.0758 - precision: 0.3277 - recall: 0.1974\n",
      "2025-06-19 16:30:46 - INFO - ==================================================\n",
      "\n"
     ]
    },
    {
     "name": "stdout",
     "output_type": "stream",
     "text": [
      "\u001b[1m813/813\u001b[0m \u001b[32m━━━━━━━━━━━━━━━━━━━━\u001b[0m\u001b[37m\u001b[0m \u001b[1m195s\u001b[0m 240ms/step - accuracy: 0.9534 - auc: 0.9572 - f1_score: 0.6369 - loss: 0.0260 - precision: 0.7835 - recall: 0.5595 - val_accuracy: 0.9331 - val_auc: 0.7519 - val_f1_score: 0.2322 - val_loss: 0.0758 - val_precision: 0.3277 - val_recall: 0.1974 - learning_rate: 1.0000e-06\n"
     ]
    },
    {
     "name": "stderr",
     "output_type": "stream",
     "text": [
      "2025-06-19 16:30:46 - INFO - \n",
      "=== Starting Epoch 85 ===\n",
      "\n"
     ]
    },
    {
     "name": "stdout",
     "output_type": "stream",
     "text": [
      "Epoch 85/100\n",
      "\u001b[1m813/813\u001b[0m \u001b[32m━━━━━━━━━━━━━━━━━━━━\u001b[0m\u001b[37m\u001b[0m \u001b[1m0s\u001b[0m 230ms/step - accuracy: 0.9539 - auc: 0.9574 - f1_score: 0.6390 - loss: 0.0259 - precision: 0.7867 - recall: 0.5619  "
     ]
    },
    {
     "name": "stderr",
     "output_type": "stream",
     "text": [
      "2025-06-19 16:34:02 - INFO - \n",
      "=== Epoch 85 Summary ===\n",
      "2025-06-19 16:34:02 - INFO - Time: 196.01s\n",
      "2025-06-19 16:34:02 - INFO - Training   - accuracy: 0.9537 - auc: 0.9574 - f1_score: 0.6379 - loss: 0.0258 - precision: 0.7827 - recall: 0.5618 - learning_rate: 0.0000\n",
      "2025-06-19 16:34:02 - INFO - Validation - accuracy: 0.9297 - auc: 0.7516 - f1_score: 0.2573 - loss: 0.0742 - precision: 0.3160 - recall: 0.2312\n",
      "2025-06-19 16:34:02 - INFO - ==================================================\n",
      "\n"
     ]
    },
    {
     "name": "stdout",
     "output_type": "stream",
     "text": [
      "\u001b[1m813/813\u001b[0m \u001b[32m━━━━━━━━━━━━━━━━━━━━\u001b[0m\u001b[37m\u001b[0m \u001b[1m196s\u001b[0m 241ms/step - accuracy: 0.9539 - auc: 0.9574 - f1_score: 0.6390 - loss: 0.0259 - precision: 0.7867 - recall: 0.5619 - val_accuracy: 0.9297 - val_auc: 0.7516 - val_f1_score: 0.2573 - val_loss: 0.0742 - val_precision: 0.3160 - val_recall: 0.2312 - learning_rate: 1.0000e-06\n"
     ]
    },
    {
     "name": "stderr",
     "output_type": "stream",
     "text": [
      "2025-06-19 16:34:02 - INFO - \n",
      "=== Starting Epoch 86 ===\n",
      "\n"
     ]
    },
    {
     "name": "stdout",
     "output_type": "stream",
     "text": [
      "Epoch 86/100\n",
      "\u001b[1m813/813\u001b[0m \u001b[32m━━━━━━━━━━━━━━━━━━━━\u001b[0m\u001b[37m\u001b[0m \u001b[1m0s\u001b[0m 230ms/step - accuracy: 0.9539 - auc: 0.9580 - f1_score: 0.6405 - loss: 0.0258 - precision: 0.7815 - recall: 0.5664  "
     ]
    },
    {
     "name": "stderr",
     "output_type": "stream",
     "text": [
      "2025-06-19 16:37:18 - INFO - \n",
      "=== Epoch 86 Summary ===\n",
      "2025-06-19 16:37:18 - INFO - Time: 195.30s\n",
      "2025-06-19 16:37:18 - INFO - Training   - accuracy: 0.9541 - auc: 0.9583 - f1_score: 0.6422 - loss: 0.0257 - precision: 0.7821 - recall: 0.5681 - learning_rate: 0.0000\n",
      "2025-06-19 16:37:18 - INFO - Validation - accuracy: 0.9318 - auc: 0.7524 - f1_score: 0.2467 - loss: 0.0755 - precision: 0.3236 - recall: 0.2126\n",
      "2025-06-19 16:37:18 - INFO - ==================================================\n",
      "\n"
     ]
    },
    {
     "name": "stdout",
     "output_type": "stream",
     "text": [
      "\u001b[1m813/813\u001b[0m \u001b[32m━━━━━━━━━━━━━━━━━━━━\u001b[0m\u001b[37m\u001b[0m \u001b[1m195s\u001b[0m 240ms/step - accuracy: 0.9539 - auc: 0.9580 - f1_score: 0.6405 - loss: 0.0258 - precision: 0.7815 - recall: 0.5664 - val_accuracy: 0.9318 - val_auc: 0.7524 - val_f1_score: 0.2467 - val_loss: 0.0755 - val_precision: 0.3236 - val_recall: 0.2126 - learning_rate: 1.0000e-06\n"
     ]
    },
    {
     "name": "stderr",
     "output_type": "stream",
     "text": [
      "2025-06-19 16:37:18 - INFO - \n",
      "=== Starting Epoch 87 ===\n",
      "\n"
     ]
    },
    {
     "name": "stdout",
     "output_type": "stream",
     "text": [
      "Epoch 87/100\n",
      "\u001b[1m813/813\u001b[0m \u001b[32m━━━━━━━━━━━━━━━━━━━━\u001b[0m\u001b[37m\u001b[0m \u001b[1m0s\u001b[0m 229ms/step - accuracy: 0.9541 - auc: 0.9580 - f1_score: 0.6420 - loss: 0.0256 - precision: 0.7834 - recall: 0.5668  "
     ]
    },
    {
     "name": "stderr",
     "output_type": "stream",
     "text": [
      "2025-06-19 16:40:32 - INFO - \n",
      "=== Epoch 87 Summary ===\n",
      "2025-06-19 16:40:32 - INFO - Time: 194.77s\n",
      "2025-06-19 16:40:32 - INFO - Training   - accuracy: 0.9542 - auc: 0.9582 - f1_score: 0.6436 - loss: 0.0256 - precision: 0.7839 - recall: 0.5685 - learning_rate: 0.0000\n",
      "2025-06-19 16:40:32 - INFO - Validation - accuracy: 0.9309 - auc: 0.7492 - f1_score: 0.2452 - loss: 0.0768 - precision: 0.3186 - recall: 0.2168\n",
      "2025-06-19 16:40:32 - INFO - ==================================================\n",
      "\n"
     ]
    },
    {
     "name": "stdout",
     "output_type": "stream",
     "text": [
      "\u001b[1m813/813\u001b[0m \u001b[32m━━━━━━━━━━━━━━━━━━━━\u001b[0m\u001b[37m\u001b[0m \u001b[1m195s\u001b[0m 240ms/step - accuracy: 0.9541 - auc: 0.9580 - f1_score: 0.6420 - loss: 0.0256 - precision: 0.7834 - recall: 0.5668 - val_accuracy: 0.9309 - val_auc: 0.7492 - val_f1_score: 0.2452 - val_loss: 0.0768 - val_precision: 0.3186 - val_recall: 0.2168 - learning_rate: 1.0000e-06\n"
     ]
    },
    {
     "name": "stderr",
     "output_type": "stream",
     "text": [
      "2025-06-19 16:40:32 - INFO - \n",
      "=== Starting Epoch 88 ===\n",
      "\n"
     ]
    },
    {
     "name": "stdout",
     "output_type": "stream",
     "text": [
      "Epoch 88/100\n",
      "\u001b[1m813/813\u001b[0m \u001b[32m━━━━━━━━━━━━━━━━━━━━\u001b[0m\u001b[37m\u001b[0m \u001b[1m0s\u001b[0m 229ms/step - accuracy: 0.9544 - auc: 0.9588 - f1_score: 0.6451 - loss: 0.0254 - precision: 0.7855 - recall: 0.5710  "
     ]
    },
    {
     "name": "stderr",
     "output_type": "stream",
     "text": [
      "2025-06-19 16:43:47 - INFO - \n",
      "=== Epoch 88 Summary ===\n",
      "2025-06-19 16:43:47 - INFO - Time: 194.47s\n",
      "2025-06-19 16:43:47 - INFO - Training   - accuracy: 0.9544 - auc: 0.9588 - f1_score: 0.6449 - loss: 0.0254 - precision: 0.7851 - recall: 0.5704 - learning_rate: 0.0000\n",
      "2025-06-19 16:43:47 - INFO - Validation - accuracy: 0.9318 - auc: 0.7517 - f1_score: 0.2384 - loss: 0.0763 - precision: 0.3212 - recall: 0.2086\n",
      "2025-06-19 16:43:47 - INFO - ==================================================\n",
      "\n"
     ]
    },
    {
     "name": "stdout",
     "output_type": "stream",
     "text": [
      "\u001b[1m813/813\u001b[0m \u001b[32m━━━━━━━━━━━━━━━━━━━━\u001b[0m\u001b[37m\u001b[0m \u001b[1m194s\u001b[0m 239ms/step - accuracy: 0.9544 - auc: 0.9588 - f1_score: 0.6451 - loss: 0.0254 - precision: 0.7855 - recall: 0.5710 - val_accuracy: 0.9318 - val_auc: 0.7517 - val_f1_score: 0.2384 - val_loss: 0.0763 - val_precision: 0.3212 - val_recall: 0.2086 - learning_rate: 1.0000e-06\n"
     ]
    },
    {
     "name": "stderr",
     "output_type": "stream",
     "text": [
      "2025-06-19 16:43:47 - INFO - \n",
      "=== Starting Epoch 89 ===\n",
      "\n"
     ]
    },
    {
     "name": "stdout",
     "output_type": "stream",
     "text": [
      "Epoch 89/100\n",
      "\u001b[1m813/813\u001b[0m \u001b[32m━━━━━━━━━━━━━━━━━━━━\u001b[0m\u001b[37m\u001b[0m \u001b[1m0s\u001b[0m 228ms/step - accuracy: 0.9548 - auc: 0.9590 - f1_score: 0.6480 - loss: 0.0255 - precision: 0.7877 - recall: 0.5732  "
     ]
    },
    {
     "name": "stderr",
     "output_type": "stream",
     "text": [
      "2025-06-19 16:47:01 - INFO - \n",
      "=== Epoch 89 Summary ===\n",
      "2025-06-19 16:47:01 - INFO - Time: 194.18s\n",
      "2025-06-19 16:47:01 - INFO - Training   - accuracy: 0.9549 - auc: 0.9594 - f1_score: 0.6487 - loss: 0.0253 - precision: 0.7873 - recall: 0.5745 - learning_rate: 0.0000\n",
      "2025-06-19 16:47:01 - INFO - Validation - accuracy: 0.9319 - auc: 0.7516 - f1_score: 0.2354 - loss: 0.0784 - precision: 0.3140 - recall: 0.1934\n",
      "2025-06-19 16:47:01 - INFO - ==================================================\n",
      "\n"
     ]
    },
    {
     "name": "stdout",
     "output_type": "stream",
     "text": [
      "\u001b[1m813/813\u001b[0m \u001b[32m━━━━━━━━━━━━━━━━━━━━\u001b[0m\u001b[37m\u001b[0m \u001b[1m194s\u001b[0m 239ms/step - accuracy: 0.9548 - auc: 0.9590 - f1_score: 0.6480 - loss: 0.0255 - precision: 0.7877 - recall: 0.5732 - val_accuracy: 0.9319 - val_auc: 0.7516 - val_f1_score: 0.2354 - val_loss: 0.0784 - val_precision: 0.3140 - val_recall: 0.1934 - learning_rate: 1.0000e-06\n"
     ]
    },
    {
     "name": "stderr",
     "output_type": "stream",
     "text": [
      "2025-06-19 16:47:01 - INFO - \n",
      "=== Starting Epoch 90 ===\n",
      "\n"
     ]
    },
    {
     "name": "stdout",
     "output_type": "stream",
     "text": [
      "Epoch 90/100\n",
      "\u001b[1m813/813\u001b[0m \u001b[32m━━━━━━━━━━━━━━━━━━━━\u001b[0m\u001b[37m\u001b[0m \u001b[1m0s\u001b[0m 231ms/step - accuracy: 0.9546 - auc: 0.9592 - f1_score: 0.6486 - loss: 0.0254 - precision: 0.7876 - recall: 0.5738  "
     ]
    },
    {
     "name": "stderr",
     "output_type": "stream",
     "text": [
      "2025-06-19 16:50:18 - INFO - \n",
      "=== Epoch 90 Summary ===\n",
      "2025-06-19 16:50:18 - INFO - Time: 196.36s\n",
      "2025-06-19 16:50:18 - INFO - Training   - accuracy: 0.9548 - auc: 0.9596 - f1_score: 0.6496 - loss: 0.0253 - precision: 0.7875 - recall: 0.5750 - learning_rate: 0.0000\n",
      "2025-06-19 16:50:18 - INFO - Validation - accuracy: 0.9298 - auc: 0.7505 - f1_score: 0.2532 - loss: 0.0784 - precision: 0.3129 - recall: 0.2238\n",
      "2025-06-19 16:50:18 - INFO - ==================================================\n",
      "\n"
     ]
    },
    {
     "name": "stdout",
     "output_type": "stream",
     "text": [
      "\u001b[1m813/813\u001b[0m \u001b[32m━━━━━━━━━━━━━━━━━━━━\u001b[0m\u001b[37m\u001b[0m \u001b[1m196s\u001b[0m 242ms/step - accuracy: 0.9546 - auc: 0.9592 - f1_score: 0.6486 - loss: 0.0254 - precision: 0.7876 - recall: 0.5738 - val_accuracy: 0.9298 - val_auc: 0.7505 - val_f1_score: 0.2532 - val_loss: 0.0784 - val_precision: 0.3129 - val_recall: 0.2238 - learning_rate: 1.0000e-06\n"
     ]
    },
    {
     "name": "stderr",
     "output_type": "stream",
     "text": [
      "2025-06-19 16:50:18 - INFO - \n",
      "=== Starting Epoch 91 ===\n",
      "\n"
     ]
    },
    {
     "name": "stdout",
     "output_type": "stream",
     "text": [
      "Epoch 91/100\n",
      "\u001b[1m813/813\u001b[0m \u001b[32m━━━━━━━━━━━━━━━━━━━━\u001b[0m\u001b[37m\u001b[0m \u001b[1m0s\u001b[0m 234ms/step - accuracy: 0.9552 - auc: 0.9600 - f1_score: 0.6533 - loss: 0.0254 - precision: 0.7903 - recall: 0.5790  "
     ]
    },
    {
     "name": "stderr",
     "output_type": "stream",
     "text": [
      "2025-06-19 16:53:36 - INFO - \n",
      "=== Epoch 91 Summary ===\n",
      "2025-06-19 16:53:36 - INFO - Time: 198.75s\n",
      "2025-06-19 16:53:36 - INFO - Training   - accuracy: 0.9553 - auc: 0.9599 - f1_score: 0.6537 - loss: 0.0252 - precision: 0.7885 - recall: 0.5799 - learning_rate: 0.0000\n",
      "2025-06-19 16:53:36 - INFO - Validation - accuracy: 0.9311 - auc: 0.7518 - f1_score: 0.2521 - loss: 0.0772 - precision: 0.3214 - recall: 0.2195\n",
      "2025-06-19 16:53:36 - INFO - ==================================================\n",
      "\n"
     ]
    },
    {
     "name": "stdout",
     "output_type": "stream",
     "text": [
      "\u001b[1m813/813\u001b[0m \u001b[32m━━━━━━━━━━━━━━━━━━━━\u001b[0m\u001b[37m\u001b[0m \u001b[1m199s\u001b[0m 245ms/step - accuracy: 0.9552 - auc: 0.9600 - f1_score: 0.6533 - loss: 0.0254 - precision: 0.7903 - recall: 0.5790 - val_accuracy: 0.9311 - val_auc: 0.7518 - val_f1_score: 0.2521 - val_loss: 0.0772 - val_precision: 0.3214 - val_recall: 0.2195 - learning_rate: 1.0000e-06\n"
     ]
    },
    {
     "name": "stderr",
     "output_type": "stream",
     "text": [
      "2025-06-19 16:53:36 - INFO - \n",
      "=== Starting Epoch 92 ===\n",
      "\n"
     ]
    },
    {
     "name": "stdout",
     "output_type": "stream",
     "text": [
      "Epoch 92/100\n",
      "\u001b[1m813/813\u001b[0m \u001b[32m━━━━━━━━━━━━━━━━━━━━\u001b[0m\u001b[37m\u001b[0m \u001b[1m0s\u001b[0m 233ms/step - accuracy: 0.9548 - auc: 0.9597 - f1_score: 0.6504 - loss: 0.0254 - precision: 0.7876 - recall: 0.5763  "
     ]
    },
    {
     "name": "stderr",
     "output_type": "stream",
     "text": [
      "2025-06-19 16:56:55 - INFO - \n",
      "=== Epoch 92 Summary ===\n",
      "2025-06-19 16:56:55 - INFO - Time: 198.66s\n",
      "2025-06-19 16:56:55 - INFO - Training   - accuracy: 0.9551 - auc: 0.9602 - f1_score: 0.6538 - loss: 0.0252 - precision: 0.7881 - recall: 0.5803 - learning_rate: 0.0000\n",
      "2025-06-19 16:56:55 - INFO - Validation - accuracy: 0.9292 - auc: 0.7505 - f1_score: 0.2659 - loss: 0.0773 - precision: 0.3170 - recall: 0.2415\n",
      "2025-06-19 16:56:55 - INFO - ==================================================\n",
      "\n"
     ]
    },
    {
     "name": "stdout",
     "output_type": "stream",
     "text": [
      "\u001b[1m813/813\u001b[0m \u001b[32m━━━━━━━━━━━━━━━━━━━━\u001b[0m\u001b[37m\u001b[0m \u001b[1m199s\u001b[0m 244ms/step - accuracy: 0.9548 - auc: 0.9597 - f1_score: 0.6504 - loss: 0.0254 - precision: 0.7876 - recall: 0.5763 - val_accuracy: 0.9292 - val_auc: 0.7505 - val_f1_score: 0.2659 - val_loss: 0.0773 - val_precision: 0.3170 - val_recall: 0.2415 - learning_rate: 1.0000e-06\n"
     ]
    },
    {
     "name": "stderr",
     "output_type": "stream",
     "text": [
      "2025-06-19 16:56:55 - INFO - \n",
      "=== Starting Epoch 93 ===\n",
      "\n"
     ]
    },
    {
     "name": "stdout",
     "output_type": "stream",
     "text": [
      "Epoch 93/100\n",
      "\u001b[1m813/813\u001b[0m \u001b[32m━━━━━━━━━━━━━━━━━━━━\u001b[0m\u001b[37m\u001b[0m \u001b[1m0s\u001b[0m 231ms/step - accuracy: 0.9552 - auc: 0.9608 - f1_score: 0.6543 - loss: 0.0251 - precision: 0.7886 - recall: 0.5808  "
     ]
    },
    {
     "name": "stderr",
     "output_type": "stream",
     "text": [
      "2025-06-19 17:00:11 - INFO - \n",
      "=== Epoch 93 Summary ===\n",
      "2025-06-19 17:00:11 - INFO - Time: 196.06s\n",
      "2025-06-19 17:00:11 - INFO - Training   - accuracy: 0.9551 - auc: 0.9606 - f1_score: 0.6532 - loss: 0.0252 - precision: 0.7877 - recall: 0.5798 - learning_rate: 0.0000\n",
      "2025-06-19 17:00:11 - INFO - Validation - accuracy: 0.9261 - auc: 0.7492 - f1_score: 0.2500 - loss: 0.0780 - precision: 0.2866 - recall: 0.2248\n",
      "2025-06-19 17:00:11 - INFO - ==================================================\n",
      "\n"
     ]
    },
    {
     "name": "stdout",
     "output_type": "stream",
     "text": [
      "\u001b[1m813/813\u001b[0m \u001b[32m━━━━━━━━━━━━━━━━━━━━\u001b[0m\u001b[37m\u001b[0m \u001b[1m196s\u001b[0m 241ms/step - accuracy: 0.9552 - auc: 0.9608 - f1_score: 0.6543 - loss: 0.0251 - precision: 0.7886 - recall: 0.5808 - val_accuracy: 0.9261 - val_auc: 0.7492 - val_f1_score: 0.2500 - val_loss: 0.0780 - val_precision: 0.2866 - val_recall: 0.2248 - learning_rate: 1.0000e-06\n"
     ]
    },
    {
     "name": "stderr",
     "output_type": "stream",
     "text": [
      "2025-06-19 17:00:11 - INFO - \n",
      "=== Starting Epoch 94 ===\n",
      "\n"
     ]
    },
    {
     "name": "stdout",
     "output_type": "stream",
     "text": [
      "Epoch 94/100\n",
      "\u001b[1m813/813\u001b[0m \u001b[32m━━━━━━━━━━━━━━━━━━━━\u001b[0m\u001b[37m\u001b[0m \u001b[1m0s\u001b[0m 232ms/step - accuracy: 0.9557 - auc: 0.9615 - f1_score: 0.6577 - loss: 0.0250 - precision: 0.7935 - recall: 0.5838  "
     ]
    },
    {
     "name": "stderr",
     "output_type": "stream",
     "text": [
      "2025-06-19 17:03:28 - INFO - \n",
      "=== Epoch 94 Summary ===\n",
      "2025-06-19 17:03:28 - INFO - Time: 196.86s\n",
      "2025-06-19 17:03:28 - INFO - Training   - accuracy: 0.9556 - auc: 0.9611 - f1_score: 0.6565 - loss: 0.0250 - precision: 0.7903 - recall: 0.5834 - learning_rate: 0.0000\n",
      "2025-06-19 17:03:28 - INFO - Validation - accuracy: 0.9317 - auc: 0.7497 - f1_score: 0.2495 - loss: 0.0775 - precision: 0.3253 - recall: 0.2166\n",
      "2025-06-19 17:03:28 - INFO - ==================================================\n",
      "\n"
     ]
    },
    {
     "name": "stdout",
     "output_type": "stream",
     "text": [
      "\u001b[1m813/813\u001b[0m \u001b[32m━━━━━━━━━━━━━━━━━━━━\u001b[0m\u001b[37m\u001b[0m \u001b[1m197s\u001b[0m 242ms/step - accuracy: 0.9557 - auc: 0.9615 - f1_score: 0.6577 - loss: 0.0250 - precision: 0.7935 - recall: 0.5838 - val_accuracy: 0.9317 - val_auc: 0.7497 - val_f1_score: 0.2495 - val_loss: 0.0775 - val_precision: 0.3253 - val_recall: 0.2166 - learning_rate: 1.0000e-06\n"
     ]
    },
    {
     "name": "stderr",
     "output_type": "stream",
     "text": [
      "2025-06-19 17:03:28 - INFO - \n",
      "=== Starting Epoch 95 ===\n",
      "\n"
     ]
    },
    {
     "name": "stdout",
     "output_type": "stream",
     "text": [
      "Epoch 95/100\n",
      "\u001b[1m813/813\u001b[0m \u001b[32m━━━━━━━━━━━━━━━━━━━━\u001b[0m\u001b[37m\u001b[0m \u001b[1m0s\u001b[0m 230ms/step - accuracy: 0.9561 - auc: 0.9618 - f1_score: 0.6625 - loss: 0.0249 - precision: 0.7977 - recall: 0.5878  "
     ]
    },
    {
     "name": "stderr",
     "output_type": "stream",
     "text": [
      "2025-06-19 17:06:43 - INFO - \n",
      "=== Epoch 95 Summary ===\n",
      "2025-06-19 17:06:43 - INFO - Time: 195.25s\n",
      "2025-06-19 17:06:43 - INFO - Training   - accuracy: 0.9558 - auc: 0.9614 - f1_score: 0.6596 - loss: 0.0249 - precision: 0.7929 - recall: 0.5862 - learning_rate: 0.0000\n",
      "2025-06-19 17:06:43 - INFO - Validation - accuracy: 0.9313 - auc: 0.7499 - f1_score: 0.2488 - loss: 0.0779 - precision: 0.3178 - recall: 0.2103\n",
      "2025-06-19 17:06:43 - INFO - ==================================================\n",
      "\n"
     ]
    },
    {
     "name": "stdout",
     "output_type": "stream",
     "text": [
      "\u001b[1m813/813\u001b[0m \u001b[32m━━━━━━━━━━━━━━━━━━━━\u001b[0m\u001b[37m\u001b[0m \u001b[1m195s\u001b[0m 240ms/step - accuracy: 0.9561 - auc: 0.9618 - f1_score: 0.6625 - loss: 0.0249 - precision: 0.7977 - recall: 0.5878 - val_accuracy: 0.9313 - val_auc: 0.7499 - val_f1_score: 0.2488 - val_loss: 0.0779 - val_precision: 0.3178 - val_recall: 0.2103 - learning_rate: 1.0000e-06\n"
     ]
    },
    {
     "name": "stderr",
     "output_type": "stream",
     "text": [
      "2025-06-19 17:06:43 - INFO - \n",
      "=== Starting Epoch 96 ===\n",
      "\n"
     ]
    },
    {
     "name": "stdout",
     "output_type": "stream",
     "text": [
      "Epoch 96/100\n",
      "\u001b[1m813/813\u001b[0m \u001b[32m━━━━━━━━━━━━━━━━━━━━\u001b[0m\u001b[37m\u001b[0m \u001b[1m0s\u001b[0m 230ms/step - accuracy: 0.9562 - auc: 0.9623 - f1_score: 0.6618 - loss: 0.0248 - precision: 0.7960 - recall: 0.5887  "
     ]
    },
    {
     "name": "stderr",
     "output_type": "stream",
     "text": [
      "2025-06-19 17:09:59 - INFO - \n",
      "=== Epoch 96 Summary ===\n",
      "2025-06-19 17:09:59 - INFO - Time: 195.37s\n",
      "2025-06-19 17:09:59 - INFO - Training   - accuracy: 0.9561 - auc: 0.9622 - f1_score: 0.6615 - loss: 0.0248 - precision: 0.7937 - recall: 0.5886 - learning_rate: 0.0000\n",
      "2025-06-19 17:09:59 - INFO - Validation - accuracy: 0.9296 - auc: 0.7510 - f1_score: 0.2586 - loss: 0.0763 - precision: 0.3166 - recall: 0.2337\n",
      "2025-06-19 17:09:59 - INFO - ==================================================\n",
      "\n"
     ]
    },
    {
     "name": "stdout",
     "output_type": "stream",
     "text": [
      "\u001b[1m813/813\u001b[0m \u001b[32m━━━━━━━━━━━━━━━━━━━━\u001b[0m\u001b[37m\u001b[0m \u001b[1m195s\u001b[0m 240ms/step - accuracy: 0.9562 - auc: 0.9623 - f1_score: 0.6618 - loss: 0.0248 - precision: 0.7960 - recall: 0.5887 - val_accuracy: 0.9296 - val_auc: 0.7510 - val_f1_score: 0.2586 - val_loss: 0.0763 - val_precision: 0.3166 - val_recall: 0.2337 - learning_rate: 1.0000e-06\n"
     ]
    },
    {
     "name": "stderr",
     "output_type": "stream",
     "text": [
      "2025-06-19 17:09:59 - INFO - \n",
      "=== Starting Epoch 97 ===\n",
      "\n"
     ]
    },
    {
     "name": "stdout",
     "output_type": "stream",
     "text": [
      "Epoch 97/100\n",
      "\u001b[1m813/813\u001b[0m \u001b[32m━━━━━━━━━━━━━━━━━━━━\u001b[0m\u001b[37m\u001b[0m \u001b[1m0s\u001b[0m 229ms/step - accuracy: 0.9559 - auc: 0.9616 - f1_score: 0.6616 - loss: 0.0249 - precision: 0.7949 - recall: 0.5876  "
     ]
    },
    {
     "name": "stderr",
     "output_type": "stream",
     "text": [
      "2025-06-19 17:13:14 - INFO - \n",
      "=== Epoch 97 Summary ===\n",
      "2025-06-19 17:13:14 - INFO - Time: 195.06s\n",
      "2025-06-19 17:13:14 - INFO - Training   - accuracy: 0.9561 - auc: 0.9619 - f1_score: 0.6621 - loss: 0.0248 - precision: 0.7937 - recall: 0.5890 - learning_rate: 0.0000\n",
      "2025-06-19 17:13:14 - INFO - Validation - accuracy: 0.9290 - auc: 0.7481 - f1_score: 0.2436 - loss: 0.0814 - precision: 0.3014 - recall: 0.2144\n",
      "2025-06-19 17:13:14 - INFO - ==================================================\n",
      "\n"
     ]
    },
    {
     "name": "stdout",
     "output_type": "stream",
     "text": [
      "\u001b[1m813/813\u001b[0m \u001b[32m━━━━━━━━━━━━━━━━━━━━\u001b[0m\u001b[37m\u001b[0m \u001b[1m195s\u001b[0m 240ms/step - accuracy: 0.9559 - auc: 0.9616 - f1_score: 0.6616 - loss: 0.0249 - precision: 0.7949 - recall: 0.5876 - val_accuracy: 0.9290 - val_auc: 0.7481 - val_f1_score: 0.2436 - val_loss: 0.0814 - val_precision: 0.3014 - val_recall: 0.2144 - learning_rate: 1.0000e-06\n"
     ]
    },
    {
     "name": "stderr",
     "output_type": "stream",
     "text": [
      "2025-06-19 17:13:14 - INFO - \n",
      "=== Starting Epoch 98 ===\n",
      "\n"
     ]
    },
    {
     "name": "stdout",
     "output_type": "stream",
     "text": [
      "Epoch 98/100\n",
      "\u001b[1m813/813\u001b[0m \u001b[32m━━━━━━━━━━━━━━━━━━━━\u001b[0m\u001b[37m\u001b[0m \u001b[1m0s\u001b[0m 230ms/step - accuracy: 0.9563 - auc: 0.9627 - f1_score: 0.6647 - loss: 0.0246 - precision: 0.7935 - recall: 0.5934  "
     ]
    },
    {
     "name": "stderr",
     "output_type": "stream",
     "text": [
      "2025-06-19 17:16:29 - INFO - \n",
      "=== Epoch 98 Summary ===\n",
      "2025-06-19 17:16:29 - INFO - Time: 195.70s\n",
      "2025-06-19 17:16:29 - INFO - Training   - accuracy: 0.9562 - auc: 0.9629 - f1_score: 0.6631 - loss: 0.0246 - precision: 0.7925 - recall: 0.5917 - learning_rate: 0.0000\n",
      "2025-06-19 17:16:29 - INFO - Validation - accuracy: 0.9285 - auc: 0.7511 - f1_score: 0.2494 - loss: 0.0776 - precision: 0.3009 - recall: 0.2206\n",
      "2025-06-19 17:16:29 - INFO - ==================================================\n",
      "\n"
     ]
    },
    {
     "name": "stdout",
     "output_type": "stream",
     "text": [
      "\u001b[1m813/813\u001b[0m \u001b[32m━━━━━━━━━━━━━━━━━━━━\u001b[0m\u001b[37m\u001b[0m \u001b[1m196s\u001b[0m 241ms/step - accuracy: 0.9563 - auc: 0.9627 - f1_score: 0.6647 - loss: 0.0246 - precision: 0.7935 - recall: 0.5934 - val_accuracy: 0.9285 - val_auc: 0.7511 - val_f1_score: 0.2494 - val_loss: 0.0776 - val_precision: 0.3009 - val_recall: 0.2206 - learning_rate: 1.0000e-06\n"
     ]
    },
    {
     "name": "stderr",
     "output_type": "stream",
     "text": [
      "2025-06-19 17:16:29 - INFO - \n",
      "=== Starting Epoch 99 ===\n",
      "\n"
     ]
    },
    {
     "name": "stdout",
     "output_type": "stream",
     "text": [
      "Epoch 99/100\n",
      "\u001b[1m813/813\u001b[0m \u001b[32m━━━━━━━━━━━━━━━━━━━━\u001b[0m\u001b[37m\u001b[0m \u001b[1m0s\u001b[0m 229ms/step - accuracy: 0.9565 - auc: 0.9629 - f1_score: 0.6661 - loss: 0.0246 - precision: 0.7955 - recall: 0.5938  "
     ]
    },
    {
     "name": "stderr",
     "output_type": "stream",
     "text": [
      "2025-06-19 17:19:44 - INFO - \n",
      "=== Epoch 99 Summary ===\n",
      "2025-06-19 17:19:44 - INFO - Time: 194.54s\n",
      "2025-06-19 17:19:44 - INFO - Training   - accuracy: 0.9566 - auc: 0.9630 - f1_score: 0.6666 - loss: 0.0245 - precision: 0.7965 - recall: 0.5942 - learning_rate: 0.0000\n",
      "2025-06-19 17:19:44 - INFO - Validation - accuracy: 0.9305 - auc: 0.7510 - f1_score: 0.2417 - loss: 0.0802 - precision: 0.3137 - recall: 0.2143\n",
      "2025-06-19 17:19:44 - INFO - ==================================================\n",
      "\n"
     ]
    },
    {
     "name": "stdout",
     "output_type": "stream",
     "text": [
      "\u001b[1m813/813\u001b[0m \u001b[32m━━━━━━━━━━━━━━━━━━━━\u001b[0m\u001b[37m\u001b[0m \u001b[1m195s\u001b[0m 239ms/step - accuracy: 0.9565 - auc: 0.9629 - f1_score: 0.6661 - loss: 0.0246 - precision: 0.7955 - recall: 0.5938 - val_accuracy: 0.9305 - val_auc: 0.7510 - val_f1_score: 0.2417 - val_loss: 0.0802 - val_precision: 0.3137 - val_recall: 0.2143 - learning_rate: 1.0000e-06\n"
     ]
    },
    {
     "name": "stderr",
     "output_type": "stream",
     "text": [
      "2025-06-19 17:19:44 - INFO - \n",
      "=== Starting Epoch 100 ===\n",
      "\n"
     ]
    },
    {
     "name": "stdout",
     "output_type": "stream",
     "text": [
      "Epoch 100/100\n",
      "\u001b[1m813/813\u001b[0m \u001b[32m━━━━━━━━━━━━━━━━━━━━\u001b[0m\u001b[37m\u001b[0m \u001b[1m0s\u001b[0m 229ms/step - accuracy: 0.9568 - auc: 0.9633 - f1_score: 0.6696 - loss: 0.0244 - precision: 0.7989 - recall: 0.5973  "
     ]
    },
    {
     "name": "stderr",
     "output_type": "stream",
     "text": [
      "2025-06-19 17:22:59 - INFO - \n",
      "=== Epoch 100 Summary ===\n",
      "2025-06-19 17:22:59 - INFO - Time: 194.69s\n",
      "2025-06-19 17:22:59 - INFO - Training   - accuracy: 0.9567 - auc: 0.9634 - f1_score: 0.6682 - loss: 0.0244 - precision: 0.7977 - recall: 0.5956 - learning_rate: 0.0000\n",
      "2025-06-19 17:22:59 - INFO - Validation - accuracy: 0.9281 - auc: 0.7531 - f1_score: 0.2565 - loss: 0.0795 - precision: 0.3003 - recall: 0.2248\n",
      "2025-06-19 17:22:59 - INFO - ==================================================\n",
      "\n"
     ]
    },
    {
     "name": "stdout",
     "output_type": "stream",
     "text": [
      "\u001b[1m813/813\u001b[0m \u001b[32m━━━━━━━━━━━━━━━━━━━━\u001b[0m\u001b[37m\u001b[0m \u001b[1m195s\u001b[0m 240ms/step - accuracy: 0.9568 - auc: 0.9633 - f1_score: 0.6696 - loss: 0.0244 - precision: 0.7989 - recall: 0.5973 - val_accuracy: 0.9281 - val_auc: 0.7531 - val_f1_score: 0.2565 - val_loss: 0.0795 - val_precision: 0.3003 - val_recall: 0.2248 - learning_rate: 1.0000e-06\n"
     ]
    },
    {
     "name": "stderr",
     "output_type": "stream",
     "text": [
      "2025-06-19 17:22:59 - INFO - \n",
      "=== Training Completed! ===\n",
      "\n",
      "2025-06-19 17:22:59 - INFO - Final Metrics: accuracy: 0.9567 - auc: 0.9634 - f1_score: 0.6682 - loss: 0.0244 - precision: 0.7977 - recall: 0.5956 - val_accuracy: 0.9281 - val_auc: 0.7531 - val_f1_score: 0.2565 - val_loss: 0.0795 - val_precision: 0.3003 - val_recall: 0.2248\n",
      "\n"
     ]
    },
    {
     "name": "stdout",
     "output_type": "stream",
     "text": [
      "Restoring model weights from the end of the best epoch: 92.\n"
     ]
    }
   ],
   "source": [
    "# Model Training\n",
    "model          = build_densenet121(num_classes, use_se=True, layer_attention=False, ratio=8, channel_blocks=[0, 1, 2, 3])\n",
    "optimizer      = Adam(learning_rate=1e-4)\n",
    "compile_kwargs = {'optimizer': optimizer, 'loss': loss, 'metrics': metrics}\n",
    "\n",
    "history, model = start_or_resume_training(\n",
    "    model, \n",
    "    compile_kwargs, \n",
    "    train_ds, \n",
    "    val_ds, \n",
    "    TF_MAX_EPOCHS,\n",
    "    steps_per_epoch, \n",
    "    validation_steps, \n",
    "    class_weights=class_weights,\n",
    "    callbacks=[checkpoint, best_checkpoint, reduce_lr, training_logger, metrics_monitor, early_stopping], \n",
    "    checkpoint_path=checkpoint_path,\n",
    "    initial_epoch=initial_epoch,\n",
    "    output_dir=MODELS_PATH,\n",
    "    model_name=model_name,\n",
    "    logger=logger\n",
    ")"
   ]
  },
  {
   "cell_type": "code",
   "execution_count": null,
   "id": "048b711f-28f1-433d-ac5b-b8729218ef96",
   "metadata": {},
   "outputs": [],
   "source": []
  }
 ],
 "metadata": {
  "kernelspec": {
   "display_name": "Python 3 (ipykernel)",
   "language": "python",
   "name": "python3"
  },
  "language_info": {
   "codemirror_mode": {
    "name": "ipython",
    "version": 3
   },
   "file_extension": ".py",
   "mimetype": "text/x-python",
   "name": "python",
   "nbconvert_exporter": "python",
   "pygments_lexer": "ipython3",
   "version": "3.10.16"
  }
 },
 "nbformat": 4,
 "nbformat_minor": 5
}
