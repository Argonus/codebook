{
 "cells": [
  {
   "cell_type": "code",
   "execution_count": 1,
   "id": "b694919a-9b18-4068-8e69-7258de889dff",
   "metadata": {},
   "outputs": [
    {
     "name": "stderr",
     "output_type": "stream",
     "text": [
      "2025-06-17 08:13:58.300203: E external/local_xla/xla/stream_executor/cuda/cuda_fft.cc:467] Unable to register cuFFT factory: Attempting to register factory for plugin cuFFT when one has already been registered\n",
      "WARNING: All log messages before absl::InitializeLog() is called are written to STDERR\n",
      "E0000 00:00:1750140838.308309   26786 cuda_dnn.cc:8579] Unable to register cuDNN factory: Attempting to register factory for plugin cuDNN when one has already been registered\n",
      "E0000 00:00:1750140838.310674   26786 cuda_blas.cc:1407] Unable to register cuBLAS factory: Attempting to register factory for plugin cuBLAS when one has already been registered\n",
      "W0000 00:00:1750140838.317073   26786 computation_placer.cc:177] computation placer already registered. Please check linkage and avoid linking the same target more than once.\n",
      "W0000 00:00:1750140838.317081   26786 computation_placer.cc:177] computation placer already registered. Please check linkage and avoid linking the same target more than once.\n",
      "W0000 00:00:1750140838.317082   26786 computation_placer.cc:177] computation placer already registered. Please check linkage and avoid linking the same target more than once.\n",
      "W0000 00:00:1750140838.317083   26786 computation_placer.cc:177] computation placer already registered. Please check linkage and avoid linking the same target more than once.\n"
     ]
    },
    {
     "name": "stdout",
     "output_type": "stream",
     "text": [
      "\n",
      "GPU configuration successful!\n",
      "Device: /physical_device:GPU:0\n",
      "Memory limit: 18.0 GB\n",
      "\n",
      "TensorFlow optimizations status:\n",
      "- CPU Threads: 16 intra-op, 9 inter-op (32 cores total)\n",
      "- XLA JIT: enabled (autoclustering)\n",
      "- Synchronous Execution: enabled\n",
      "\n",
      "GPU Device Details:\n",
      "- Device: GPU /physical_device:GPU:0\n",
      "- Memory limit: 18.0 GB\n"
     ]
    },
    {
     "name": "stderr",
     "output_type": "stream",
     "text": [
      "I0000 00:00:1750140839.660093   26786 gpu_process_state.cc:208] Using CUDA malloc Async allocator for GPU: 0\n",
      "I0000 00:00:1750140839.660204   26786 gpu_device.cc:2019] Created device /job:localhost/replica:0/task:0/device:GPU:0 with 19327352832 MB memory:  -> device: 0, name: NVIDIA GeForce RTX 3090 Ti, pci bus id: 0000:01:00.0, compute capability: 8.6\n"
     ]
    }
   ],
   "source": [
    "# Import dependencies\n",
    "import os\n",
    "\n",
    "os.environ['TF_CPP_MIN_VLOG_LEVEL'] = '0'\n",
    "os.environ['TF_CPP_MIN_LOG_LEVEL'] = '2'\n",
    "os.environ['TF_GPU_ALLOCATOR'] = 'cuda_malloc_async'\n",
    "os.environ['TF_FORCE_GPU_ALLOW_GROWTH'] = 'true'\n",
    "\n",
    "from src.utils.gpu_config import configure_gpu, optimize_tensorflow\n",
    "\n",
    "configure_gpu()\n",
    "optimize_tensorflow()"
   ]
  },
  {
   "cell_type": "code",
   "execution_count": 2,
   "id": "2b854daf-5f2a-4c33-9180-5081cd415b16",
   "metadata": {},
   "outputs": [],
   "source": [
    "# Import Tensorflow Keras\n",
    "from tensorflow.keras.optimizers import Adam\n",
    "from tensorflow.keras.losses import BinaryFocalCrossentropy\n",
    "from tensorflow.keras.callbacks import ReduceLROnPlateau, ModelCheckpoint\n",
    "\n",
    "# Import local modules\n",
    "from src.utils.consts import TF_RECORD_DATASET, MODELS_PATH, TF_BUFFER_SIZE, TF_SHUFFLE_SIZE, TF_BATCH_SIZE, TF_MAX_EPOCHS\n",
    "from src.model.tensorflow_utils import load_dataset, optimize_dataset, count_dataset_size, get_num_classes, get_metrics\n",
    "from src.model.tensorflow_utils import setup_logger, setup_training_logger, setup_metrics_monitor, setup_early_stopping, filter_no_finding_class\n",
    "from src.model.tensorflow_utils import start_or_resume_training, apply_augmentation_to_dataset, calculate_class_weights, oversample_minority_classes\n",
    "from src.model.densnet.tensorflow_dense_net_121 import build_densenet121\n",
    "\n",
    "# Input Data\n",
    "initial_epoch   = None\n",
    "resume_training = False\n",
    "checkpoint_path = None\n",
    "set_name        = \"DenseNetV5\"\n",
    "model_name      = f\"{set_name}_3\"\n",
    "num_classes     = get_num_classes()\n",
    "\n",
    "train_ds = load_dataset(f\"{TF_RECORD_DATASET}/train.tfrecord\", TF_BUFFER_SIZE)\n",
    "val_ds   = load_dataset(f\"{TF_RECORD_DATASET}/val.tfrecord\", TF_BUFFER_SIZE)\n",
    "\n",
    "train_ds = filter_no_finding_class(train_ds)\n",
    "val_ds   = filter_no_finding_class(val_ds)\n",
    "\n",
    "class_weights = calculate_class_weights(train_ds, num_classes)\n",
    "train_ds      = oversample_minority_classes(train_ds, class_weights)\n",
    "class_weights = calculate_class_weights(train_ds, num_classes)"
   ]
  },
  {
   "cell_type": "code",
   "execution_count": 3,
   "id": "5f152b8a-8ff8-4095-9815-e304ce2beb52",
   "metadata": {},
   "outputs": [
    {
     "name": "stderr",
     "output_type": "stream",
     "text": [
      "Counting samples: 104166 samples [00:35, 2972.14 samples/s] \n",
      "Counting samples: 15431 samples [00:08, 1851.21 samples/s]\n"
     ]
    }
   ],
   "source": [
    "steps_per_epoch  = int(count_dataset_size(train_ds, None) / TF_BATCH_SIZE)\n",
    "validation_steps = int(count_dataset_size(val_ds, None) / TF_BATCH_SIZE)\n",
    "\n",
    "# Disable Advanced Augmentations\n",
    "probability = {\n",
    "    \"intensity_scaling\": 0,\n",
    "    \"adaptive_histogram\": 0,\n",
    "    \"zoom\": 0,\n",
    "    \"cutout\": 0\n",
    "}\n",
    "\n",
    "train_ds = train_ds.shuffle(TF_SHUFFLE_SIZE, reshuffle_each_iteration=True)\n",
    "train_ds = apply_augmentation_to_dataset(train_ds, probability)\n",
    "train_ds = optimize_dataset(train_ds, TF_BATCH_SIZE)\n",
    "\n",
    "val_ds   = optimize_dataset(val_ds, TF_BATCH_SIZE)"
   ]
  },
  {
   "cell_type": "code",
   "execution_count": 4,
   "id": "3a0e37c9-b178-40d8-bd25-8c0a6498564a",
   "metadata": {},
   "outputs": [],
   "source": [
    "# Setup Model Deps\n",
    "logger            = setup_logger()\n",
    "training_logger   = setup_training_logger(logger, TF_BATCH_SIZE, 100)\n",
    "metrics_monitor   = setup_metrics_monitor(MODELS_PATH, model_name, logger, resume_training=resume_training, initial_epoch=initial_epoch)\n",
    "metrics           = get_metrics()\n",
    "\n",
    "# Setup compile arguments\n",
    "loss           = BinaryFocalCrossentropy(gamma=2.0, from_logits=False, label_smoothing=0.05)\n",
    "reduce_lr      = ReduceLROnPlateau(monitor=\"val_f1_score\", factor=0.5,  patience=3, min_lr=1e-6, mode=\"max\", verbose=1)\n",
    "early_stopping = setup_early_stopping()\n",
    "\n",
    "epoch_mode           = 'cp-{epoch:04d}'\n",
    "save_checkpoint_path = f\"{MODELS_PATH}/{model_name}/checkpoints/{epoch_mode}.keras\"\n",
    "checkpoint           = ModelCheckpoint(save_checkpoint_path, monitor=\"val_f1_score\", save_best_only=False, mode=\"max\", save_weights_only=False)\n",
    "\n",
    "model_path      = f\"{MODELS_PATH}/{model_name}.keras\"\n",
    "best_checkpoint = ModelCheckpoint(model_path, monitor=\"val_f1_score\", save_best_only=True, mode=\"max\", save_weights_only=False)"
   ]
  },
  {
   "cell_type": "code",
   "execution_count": 5,
   "id": "c44d4a9a-ffbb-4917-a702-c35773b9857c",
   "metadata": {},
   "outputs": [
    {
     "name": "stderr",
     "output_type": "stream",
     "text": [
      "2025-06-17 08:15:55 - INFO - \n",
      "=== Training Started ===\n",
      "\n",
      "2025-06-17 08:15:55 - INFO - Batch Size: 128\n",
      "2025-06-17 08:15:55 - INFO - Optimizer: Adam\n",
      "2025-06-17 08:15:55 - INFO - \n",
      "==================================================\n",
      "\n",
      "2025-06-17 08:15:55 - INFO - \n",
      "=== Starting Epoch 1 ===\n",
      "\n"
     ]
    },
    {
     "name": "stdout",
     "output_type": "stream",
     "text": [
      "Epoch 1/100\n"
     ]
    },
    {
     "name": "stderr",
     "output_type": "stream",
     "text": [
      "WARNING: All log messages before absl::InitializeLog() is called are written to STDERR\n",
      "I0000 00:00:1750140966.225669   26844 service.cc:152] XLA service 0x71a3a8003000 initialized for platform CUDA (this does not guarantee that XLA will be used). Devices:\n",
      "I0000 00:00:1750140966.225683   26844 service.cc:160]   StreamExecutor device (0): NVIDIA GeForce RTX 3090 Ti, Compute Capability 8.6\n",
      "I0000 00:00:1750140966.228193   26844 cuda_dnn.cc:529] Loaded cuDNN version 90300\n",
      "I0000 00:00:1750140966.273750   26844 device_compiler.h:188] Compiled cluster using XLA!  This line is logged at most once for the lifetime of the process.\n"
     ]
    },
    {
     "name": "stdout",
     "output_type": "stream",
     "text": [
      "\u001b[1m813/813\u001b[0m \u001b[32m━━━━━━━━━━━━━━━━━━━━\u001b[0m\u001b[37m\u001b[0m \u001b[1m0s\u001b[0m 222ms/step - accuracy: 0.9050 - auc: 0.5553 - f1_score: 0.0436 - loss: 1.7926 - precision: 0.1409 - recall: 0.0305  "
     ]
    },
    {
     "name": "stderr",
     "output_type": "stream",
     "text": [
      "2025-06-17 08:20:58 - INFO - \n",
      "=== Epoch 1 Summary ===\n",
      "2025-06-17 08:20:58 - INFO - Time: 302.33s\n",
      "2025-06-17 08:20:58 - INFO - Training   - accuracy: 0.9173 - auc: 0.5796 - f1_score: 0.0303 - loss: 1.4757 - precision: 0.1762 - recall: 0.0172 - learning_rate: 0.0001\n",
      "2025-06-17 08:20:58 - INFO - Validation - accuracy: 0.9446 - auc: 0.6401 - f1_score: 0.0000 - loss: 0.9388 - precision: 0.0000 - recall: 0.0000\n",
      "2025-06-17 08:20:58 - INFO - ==================================================\n",
      "\n"
     ]
    },
    {
     "name": "stdout",
     "output_type": "stream",
     "text": [
      "\u001b[1m813/813\u001b[0m \u001b[32m━━━━━━━━━━━━━━━━━━━━\u001b[0m\u001b[37m\u001b[0m \u001b[1m302s\u001b[0m 249ms/step - accuracy: 0.9050 - auc: 0.5553 - f1_score: 0.0436 - loss: 1.7923 - precision: 0.1410 - recall: 0.0305 - val_accuracy: 0.9446 - val_auc: 0.6401 - val_f1_score: 0.0000e+00 - val_loss: 0.9388 - val_precision: 0.0000e+00 - val_recall: 0.0000e+00 - learning_rate: 1.0000e-04\n"
     ]
    },
    {
     "name": "stderr",
     "output_type": "stream",
     "text": [
      "2025-06-17 08:20:58 - INFO - \n",
      "=== Starting Epoch 2 ===\n",
      "\n"
     ]
    },
    {
     "name": "stdout",
     "output_type": "stream",
     "text": [
      "Epoch 2/100\n",
      "\u001b[1m813/813\u001b[0m \u001b[32m━━━━━━━━━━━━━━━━━━━━\u001b[0m\u001b[37m\u001b[0m \u001b[1m0s\u001b[0m 223ms/step - accuracy: 0.9201 - auc: 0.6113 - f1_score: 0.0213 - loss: 0.7796 - precision: 0.2724 - recall: 0.0119       "
     ]
    },
    {
     "name": "stderr",
     "output_type": "stream",
     "text": [
      "2025-06-17 08:25:19 - INFO - \n",
      "=== Epoch 2 Summary ===\n",
      "2025-06-17 08:25:19 - INFO - Time: 261.18s\n",
      "2025-06-17 08:25:19 - INFO - Training   - accuracy: 0.9206 - auc: 0.6218 - f1_score: 0.0244 - loss: 0.6478 - precision: 0.2883 - recall: 0.0136 - learning_rate: 0.0001\n",
      "2025-06-17 08:25:19 - INFO - Validation - accuracy: 0.9446 - auc: 0.6720 - f1_score: 0.0000 - loss: 0.4310 - precision: 0.0000 - recall: 0.0000\n",
      "2025-06-17 08:25:19 - INFO - ==================================================\n",
      "\n"
     ]
    },
    {
     "name": "stdout",
     "output_type": "stream",
     "text": [
      "\u001b[1m813/813\u001b[0m \u001b[32m━━━━━━━━━━━━━━━━━━━━\u001b[0m\u001b[37m\u001b[0m \u001b[1m261s\u001b[0m 239ms/step - accuracy: 0.9201 - auc: 0.6113 - f1_score: 0.0213 - loss: 0.7794 - precision: 0.2724 - recall: 0.0119 - val_accuracy: 0.9446 - val_auc: 0.6720 - val_f1_score: 0.0000e+00 - val_loss: 0.4310 - val_precision: 0.0000e+00 - val_recall: 0.0000e+00 - learning_rate: 1.0000e-04\n"
     ]
    },
    {
     "name": "stderr",
     "output_type": "stream",
     "text": [
      "2025-06-17 08:25:19 - INFO - \n",
      "=== Starting Epoch 3 ===\n",
      "\n"
     ]
    },
    {
     "name": "stdout",
     "output_type": "stream",
     "text": [
      "Epoch 3/100\n",
      "\u001b[1m813/813\u001b[0m \u001b[32m━━━━━━━━━━━━━━━━━━━━\u001b[0m\u001b[37m\u001b[0m \u001b[1m0s\u001b[0m 225ms/step - accuracy: 0.9201 - auc: 0.6369 - f1_score: 0.0224 - loss: 0.3712 - precision: 0.2869 - recall: 0.0125  "
     ]
    },
    {
     "name": "stderr",
     "output_type": "stream",
     "text": [
      "2025-06-17 08:28:32 - INFO - \n",
      "=== Epoch 3 Summary ===\n",
      "2025-06-17 08:28:32 - INFO - Time: 193.11s\n",
      "2025-06-17 08:28:32 - INFO - Training   - accuracy: 0.9207 - auc: 0.6444 - f1_score: 0.0240 - loss: 0.3192 - precision: 0.2984 - recall: 0.0135 - learning_rate: 0.0001\n",
      "2025-06-17 08:28:32 - INFO - Validation - accuracy: 0.9443 - auc: 0.6717 - f1_score: 0.0002 - loss: 0.2353 - precision: 0.0159 - recall: 0.0001\n",
      "2025-06-17 08:28:32 - INFO - ==================================================\n",
      "\n"
     ]
    },
    {
     "name": "stdout",
     "output_type": "stream",
     "text": [
      "\u001b[1m813/813\u001b[0m \u001b[32m━━━━━━━━━━━━━━━━━━━━\u001b[0m\u001b[37m\u001b[0m \u001b[1m193s\u001b[0m 238ms/step - accuracy: 0.9201 - auc: 0.6369 - f1_score: 0.0224 - loss: 0.3711 - precision: 0.2869 - recall: 0.0125 - val_accuracy: 0.9443 - val_auc: 0.6717 - val_f1_score: 1.6750e-04 - val_loss: 0.2353 - val_precision: 0.0159 - val_recall: 8.3963e-05 - learning_rate: 1.0000e-04\n"
     ]
    },
    {
     "name": "stderr",
     "output_type": "stream",
     "text": [
      "2025-06-17 08:28:32 - INFO - \n",
      "=== Starting Epoch 4 ===\n",
      "\n"
     ]
    },
    {
     "name": "stdout",
     "output_type": "stream",
     "text": [
      "Epoch 4/100\n",
      "\u001b[1m813/813\u001b[0m \u001b[32m━━━━━━━━━━━━━━━━━━━━\u001b[0m\u001b[37m\u001b[0m \u001b[1m0s\u001b[0m 234ms/step - accuracy: 0.9206 - auc: 0.6585 - f1_score: 0.0250 - loss: 0.2084 - precision: 0.3068 - recall: 0.0141     "
     ]
    },
    {
     "name": "stderr",
     "output_type": "stream",
     "text": [
      "2025-06-17 08:31:56 - INFO - \n",
      "=== Epoch 4 Summary ===\n",
      "2025-06-17 08:31:56 - INFO - Time: 203.97s\n",
      "2025-06-17 08:31:56 - INFO - Training   - accuracy: 0.9208 - auc: 0.6668 - f1_score: 0.0297 - loss: 0.1869 - precision: 0.3231 - recall: 0.0170 - learning_rate: 0.0001\n",
      "2025-06-17 08:31:56 - INFO - Validation - accuracy: 0.9342 - auc: 0.6256 - f1_score: 0.0382 - loss: 0.1629 - precision: 0.1113 - recall: 0.0270\n",
      "2025-06-17 08:31:56 - INFO - ==================================================\n",
      "\n"
     ]
    },
    {
     "name": "stdout",
     "output_type": "stream",
     "text": [
      "\u001b[1m813/813\u001b[0m \u001b[32m━━━━━━━━━━━━━━━━━━━━\u001b[0m\u001b[37m\u001b[0m \u001b[1m204s\u001b[0m 251ms/step - accuracy: 0.9206 - auc: 0.6586 - f1_score: 0.0251 - loss: 0.2084 - precision: 0.3068 - recall: 0.0141 - val_accuracy: 0.9342 - val_auc: 0.6256 - val_f1_score: 0.0382 - val_loss: 0.1629 - val_precision: 0.1113 - val_recall: 0.0270 - learning_rate: 1.0000e-04\n"
     ]
    },
    {
     "name": "stderr",
     "output_type": "stream",
     "text": [
      "2025-06-17 08:31:56 - INFO - \n",
      "=== Starting Epoch 5 ===\n",
      "\n"
     ]
    },
    {
     "name": "stdout",
     "output_type": "stream",
     "text": [
      "Epoch 5/100\n",
      "\u001b[1m813/813\u001b[0m \u001b[32m━━━━━━━━━━━━━━━━━━━━\u001b[0m\u001b[37m\u001b[0m \u001b[1m0s\u001b[0m 225ms/step - accuracy: 0.9200 - auc: 0.6768 - f1_score: 0.0383 - loss: 0.1393 - precision: 0.3494 - recall: 0.0225  "
     ]
    },
    {
     "name": "stderr",
     "output_type": "stream",
     "text": [
      "2025-06-17 08:35:11 - INFO - \n",
      "=== Epoch 5 Summary ===\n",
      "2025-06-17 08:35:11 - INFO - Time: 194.90s\n",
      "2025-06-17 08:35:11 - INFO - Training   - accuracy: 0.9208 - auc: 0.6861 - f1_score: 0.0416 - loss: 0.1291 - precision: 0.3723 - recall: 0.0250 - learning_rate: 0.0001\n",
      "2025-06-17 08:35:11 - INFO - Validation - accuracy: 0.9442 - auc: 0.7014 - f1_score: 0.0048 - loss: 0.1182 - precision: 0.2313 - recall: 0.0029\n",
      "2025-06-17 08:35:11 - INFO - ==================================================\n",
      "\n"
     ]
    },
    {
     "name": "stdout",
     "output_type": "stream",
     "text": [
      "\u001b[1m813/813\u001b[0m \u001b[32m━━━━━━━━━━━━━━━━━━━━\u001b[0m\u001b[37m\u001b[0m \u001b[1m195s\u001b[0m 240ms/step - accuracy: 0.9200 - auc: 0.6768 - f1_score: 0.0383 - loss: 0.1393 - precision: 0.3494 - recall: 0.0225 - val_accuracy: 0.9442 - val_auc: 0.7014 - val_f1_score: 0.0048 - val_loss: 0.1182 - val_precision: 0.2313 - val_recall: 0.0029 - learning_rate: 1.0000e-04\n"
     ]
    },
    {
     "name": "stderr",
     "output_type": "stream",
     "text": [
      "2025-06-17 08:35:11 - INFO - \n",
      "=== Starting Epoch 6 ===\n",
      "\n"
     ]
    },
    {
     "name": "stdout",
     "output_type": "stream",
     "text": [
      "Epoch 6/100\n",
      "\u001b[1m813/813\u001b[0m \u001b[32m━━━━━━━━━━━━━━━━━━━━\u001b[0m\u001b[37m\u001b[0m \u001b[1m0s\u001b[0m 222ms/step - accuracy: 0.9208 - auc: 0.6970 - f1_score: 0.0487 - loss: 0.1057 - precision: 0.4199 - recall: 0.0303  "
     ]
    },
    {
     "name": "stderr",
     "output_type": "stream",
     "text": [
      "2025-06-17 08:38:27 - INFO - \n",
      "=== Epoch 6 Summary ===\n",
      "2025-06-17 08:38:27 - INFO - Time: 196.09s\n",
      "2025-06-17 08:38:27 - INFO - Training   - accuracy: 0.9212 - auc: 0.7017 - f1_score: 0.0510 - loss: 0.1002 - precision: 0.4187 - recall: 0.0321 - learning_rate: 0.0001\n",
      "2025-06-17 08:38:27 - INFO - Validation - accuracy: 0.9447 - auc: 0.7130 - f1_score: 0.0145 - loss: 0.0919 - precision: 0.5886 - recall: 0.0078\n",
      "2025-06-17 08:38:27 - INFO - ==================================================\n",
      "\n"
     ]
    },
    {
     "name": "stdout",
     "output_type": "stream",
     "text": [
      "\u001b[1m813/813\u001b[0m \u001b[32m━━━━━━━━━━━━━━━━━━━━\u001b[0m\u001b[37m\u001b[0m \u001b[1m196s\u001b[0m 241ms/step - accuracy: 0.9208 - auc: 0.6970 - f1_score: 0.0487 - loss: 0.1057 - precision: 0.4199 - recall: 0.0303 - val_accuracy: 0.9447 - val_auc: 0.7130 - val_f1_score: 0.0145 - val_loss: 0.0919 - val_precision: 0.5886 - val_recall: 0.0078 - learning_rate: 1.0000e-04\n"
     ]
    },
    {
     "name": "stderr",
     "output_type": "stream",
     "text": [
      "2025-06-17 08:38:27 - INFO - \n",
      "=== Starting Epoch 7 ===\n",
      "\n"
     ]
    },
    {
     "name": "stdout",
     "output_type": "stream",
     "text": [
      "Epoch 7/100\n",
      "\u001b[1m813/813\u001b[0m \u001b[32m━━━━━━━━━━━━━━━━━━━━\u001b[0m\u001b[37m\u001b[0m \u001b[1m0s\u001b[0m 222ms/step - accuracy: 0.9214 - auc: 0.7096 - f1_score: 0.0589 - loss: 0.0881 - precision: 0.4566 - recall: 0.0382  "
     ]
    },
    {
     "name": "stderr",
     "output_type": "stream",
     "text": [
      "2025-06-17 08:41:42 - INFO - \n",
      "=== Epoch 7 Summary ===\n",
      "2025-06-17 08:41:42 - INFO - Time: 195.21s\n",
      "2025-06-17 08:41:42 - INFO - Training   - accuracy: 0.9216 - auc: 0.7136 - f1_score: 0.0614 - loss: 0.0848 - precision: 0.4523 - recall: 0.0401 - learning_rate: 0.0001\n",
      "2025-06-17 08:41:42 - INFO - Validation - accuracy: 0.9437 - auc: 0.7292 - f1_score: 0.0632 - loss: 0.0821 - precision: 0.4181 - recall: 0.0439\n",
      "2025-06-17 08:41:42 - INFO - ==================================================\n",
      "\n"
     ]
    },
    {
     "name": "stdout",
     "output_type": "stream",
     "text": [
      "\u001b[1m813/813\u001b[0m \u001b[32m━━━━━━━━━━━━━━━━━━━━\u001b[0m\u001b[37m\u001b[0m \u001b[1m195s\u001b[0m 240ms/step - accuracy: 0.9214 - auc: 0.7096 - f1_score: 0.0589 - loss: 0.0881 - precision: 0.4565 - recall: 0.0382 - val_accuracy: 0.9437 - val_auc: 0.7292 - val_f1_score: 0.0632 - val_loss: 0.0821 - val_precision: 0.4181 - val_recall: 0.0439 - learning_rate: 1.0000e-04\n"
     ]
    },
    {
     "name": "stderr",
     "output_type": "stream",
     "text": [
      "2025-06-17 08:41:42 - INFO - \n",
      "=== Starting Epoch 8 ===\n",
      "\n"
     ]
    },
    {
     "name": "stdout",
     "output_type": "stream",
     "text": [
      "Epoch 8/100\n",
      "\u001b[1m813/813\u001b[0m \u001b[32m━━━━━━━━━━━━━━━━━━━━\u001b[0m\u001b[37m\u001b[0m \u001b[1m0s\u001b[0m 220ms/step - accuracy: 0.9211 - auc: 0.7185 - f1_score: 0.0676 - loss: 0.0781 - precision: 0.4710 - recall: 0.0448  "
     ]
    },
    {
     "name": "stderr",
     "output_type": "stream",
     "text": [
      "2025-06-17 08:44:55 - INFO - \n",
      "=== Epoch 8 Summary ===\n",
      "2025-06-17 08:44:55 - INFO - Time: 192.18s\n",
      "2025-06-17 08:44:55 - INFO - Training   - accuracy: 0.9218 - auc: 0.7235 - f1_score: 0.0690 - loss: 0.0760 - precision: 0.4732 - recall: 0.0458 - learning_rate: 0.0001\n",
      "2025-06-17 08:44:55 - INFO - Validation - accuracy: 0.9430 - auc: 0.7231 - f1_score: 0.0221 - loss: 0.0763 - precision: 0.2436 - recall: 0.0143\n",
      "2025-06-17 08:44:55 - INFO - ==================================================\n",
      "\n"
     ]
    },
    {
     "name": "stdout",
     "output_type": "stream",
     "text": [
      "\u001b[1m813/813\u001b[0m \u001b[32m━━━━━━━━━━━━━━━━━━━━\u001b[0m\u001b[37m\u001b[0m \u001b[1m192s\u001b[0m 236ms/step - accuracy: 0.9211 - auc: 0.7185 - f1_score: 0.0676 - loss: 0.0781 - precision: 0.4710 - recall: 0.0448 - val_accuracy: 0.9430 - val_auc: 0.7231 - val_f1_score: 0.0221 - val_loss: 0.0763 - val_precision: 0.2436 - val_recall: 0.0143 - learning_rate: 1.0000e-04\n"
     ]
    },
    {
     "name": "stderr",
     "output_type": "stream",
     "text": [
      "2025-06-17 08:44:55 - INFO - \n",
      "=== Starting Epoch 9 ===\n",
      "\n"
     ]
    },
    {
     "name": "stdout",
     "output_type": "stream",
     "text": [
      "Epoch 9/100\n",
      "\u001b[1m813/813\u001b[0m \u001b[32m━━━━━━━━━━━━━━━━━━━━\u001b[0m\u001b[37m\u001b[0m \u001b[1m0s\u001b[0m 228ms/step - accuracy: 0.9215 - auc: 0.7290 - f1_score: 0.0757 - loss: 0.0719 - precision: 0.4798 - recall: 0.0501  "
     ]
    },
    {
     "name": "stderr",
     "output_type": "stream",
     "text": [
      "2025-06-17 08:48:13 - INFO - \n",
      "=== Epoch 9 Summary ===\n",
      "2025-06-17 08:48:13 - INFO - Time: 198.61s\n",
      "2025-06-17 08:48:13 - INFO - Training   - accuracy: 0.9218 - auc: 0.7334 - f1_score: 0.0765 - loss: 0.0705 - precision: 0.4801 - recall: 0.0512 - learning_rate: 0.0001\n",
      "2025-06-17 08:48:13 - INFO - Validation - accuracy: 0.9443 - auc: 0.7466 - f1_score: 0.0454 - loss: 0.0687 - precision: 0.4486 - recall: 0.0264\n",
      "2025-06-17 08:48:13 - INFO - ==================================================\n",
      "\n"
     ]
    },
    {
     "name": "stdout",
     "output_type": "stream",
     "text": [
      "\u001b[1m813/813\u001b[0m \u001b[32m━━━━━━━━━━━━━━━━━━━━\u001b[0m\u001b[37m\u001b[0m \u001b[1m199s\u001b[0m 244ms/step - accuracy: 0.9215 - auc: 0.7290 - f1_score: 0.0757 - loss: 0.0719 - precision: 0.4798 - recall: 0.0501 - val_accuracy: 0.9443 - val_auc: 0.7466 - val_f1_score: 0.0454 - val_loss: 0.0687 - val_precision: 0.4486 - val_recall: 0.0264 - learning_rate: 1.0000e-04\n"
     ]
    },
    {
     "name": "stderr",
     "output_type": "stream",
     "text": [
      "2025-06-17 08:48:13 - INFO - \n",
      "=== Starting Epoch 10 ===\n",
      "\n"
     ]
    },
    {
     "name": "stdout",
     "output_type": "stream",
     "text": [
      "Epoch 10/100\n",
      "\u001b[1m813/813\u001b[0m \u001b[32m━━━━━━━━━━━━━━━━━━━━\u001b[0m\u001b[37m\u001b[0m \u001b[1m0s\u001b[0m 224ms/step - accuracy: 0.9215 - auc: 0.7386 - f1_score: 0.0840 - loss: 0.0678 - precision: 0.4834 - recall: 0.0569  \n",
      "Epoch 10: ReduceLROnPlateau reducing learning rate to 4.999999873689376e-05.\n"
     ]
    },
    {
     "name": "stderr",
     "output_type": "stream",
     "text": [
      "2025-06-17 08:51:29 - INFO - \n",
      "=== Epoch 10 Summary ===\n",
      "2025-06-17 08:51:29 - INFO - Time: 196.10s\n",
      "2025-06-17 08:51:29 - INFO - Training   - accuracy: 0.9219 - auc: 0.7413 - f1_score: 0.0830 - loss: 0.0668 - precision: 0.4839 - recall: 0.0563 - learning_rate: 0.0001\n",
      "2025-06-17 08:51:29 - INFO - Validation - accuracy: 0.9432 - auc: 0.7466 - f1_score: 0.0239 - loss: 0.0674 - precision: 0.2978 - recall: 0.0186\n",
      "2025-06-17 08:51:29 - INFO - ==================================================\n",
      "\n"
     ]
    },
    {
     "name": "stdout",
     "output_type": "stream",
     "text": [
      "\u001b[1m813/813\u001b[0m \u001b[32m━━━━━━━━━━━━━━━━━━━━\u001b[0m\u001b[37m\u001b[0m \u001b[1m196s\u001b[0m 241ms/step - accuracy: 0.9215 - auc: 0.7386 - f1_score: 0.0840 - loss: 0.0678 - precision: 0.4834 - recall: 0.0569 - val_accuracy: 0.9432 - val_auc: 0.7466 - val_f1_score: 0.0239 - val_loss: 0.0674 - val_precision: 0.2978 - val_recall: 0.0186 - learning_rate: 1.0000e-04\n"
     ]
    },
    {
     "name": "stderr",
     "output_type": "stream",
     "text": [
      "2025-06-17 08:51:29 - INFO - \n",
      "=== Starting Epoch 11 ===\n",
      "\n"
     ]
    },
    {
     "name": "stdout",
     "output_type": "stream",
     "text": [
      "Epoch 11/100\n",
      "\u001b[1m813/813\u001b[0m \u001b[32m━━━━━━━━━━━━━━━━━━━━\u001b[0m\u001b[37m\u001b[0m \u001b[1m0s\u001b[0m 223ms/step - accuracy: 0.9219 - auc: 0.7571 - f1_score: 0.0986 - loss: 0.0641 - precision: 0.4999 - recall: 0.0686  "
     ]
    },
    {
     "name": "stderr",
     "output_type": "stream",
     "text": [
      "2025-06-17 08:54:46 - INFO - \n",
      "=== Epoch 11 Summary ===\n",
      "2025-06-17 08:54:46 - INFO - Time: 197.02s\n",
      "2025-06-17 08:54:46 - INFO - Training   - accuracy: 0.9224 - auc: 0.7627 - f1_score: 0.1043 - loss: 0.0631 - precision: 0.5069 - recall: 0.0726 - learning_rate: 0.0000\n",
      "2025-06-17 08:54:46 - INFO - Validation - accuracy: 0.9404 - auc: 0.7470 - f1_score: 0.0563 - loss: 0.0662 - precision: 0.2882 - recall: 0.0522\n",
      "2025-06-17 08:54:46 - INFO - ==================================================\n",
      "\n"
     ]
    },
    {
     "name": "stdout",
     "output_type": "stream",
     "text": [
      "\u001b[1m813/813\u001b[0m \u001b[32m━━━━━━━━━━━━━━━━━━━━\u001b[0m\u001b[37m\u001b[0m \u001b[1m197s\u001b[0m 242ms/step - accuracy: 0.9219 - auc: 0.7571 - f1_score: 0.0986 - loss: 0.0641 - precision: 0.5000 - recall: 0.0686 - val_accuracy: 0.9404 - val_auc: 0.7470 - val_f1_score: 0.0563 - val_loss: 0.0662 - val_precision: 0.2882 - val_recall: 0.0522 - learning_rate: 5.0000e-05\n"
     ]
    },
    {
     "name": "stderr",
     "output_type": "stream",
     "text": [
      "2025-06-17 08:54:46 - INFO - \n",
      "=== Starting Epoch 12 ===\n",
      "\n"
     ]
    },
    {
     "name": "stdout",
     "output_type": "stream",
     "text": [
      "Epoch 12/100\n",
      "\u001b[1m813/813\u001b[0m \u001b[32m━━━━━━━━━━━━━━━━━━━━\u001b[0m\u001b[37m\u001b[0m \u001b[1m0s\u001b[0m 220ms/step - accuracy: 0.9221 - auc: 0.7647 - f1_score: 0.1095 - loss: 0.0621 - precision: 0.5128 - recall: 0.0766  "
     ]
    },
    {
     "name": "stderr",
     "output_type": "stream",
     "text": [
      "2025-06-17 08:58:00 - INFO - \n",
      "=== Epoch 12 Summary ===\n",
      "2025-06-17 08:58:00 - INFO - Time: 193.44s\n",
      "2025-06-17 08:58:00 - INFO - Training   - accuracy: 0.9226 - auc: 0.7685 - f1_score: 0.1131 - loss: 0.0614 - precision: 0.5172 - recall: 0.0791 - learning_rate: 0.0000\n",
      "2025-06-17 08:58:00 - INFO - Validation - accuracy: 0.9423 - auc: 0.7564 - f1_score: 0.0792 - loss: 0.0625 - precision: 0.3590 - recall: 0.0540\n",
      "2025-06-17 08:58:00 - INFO - ==================================================\n",
      "\n"
     ]
    },
    {
     "name": "stdout",
     "output_type": "stream",
     "text": [
      "\u001b[1m813/813\u001b[0m \u001b[32m━━━━━━━━━━━━━━━━━━━━\u001b[0m\u001b[37m\u001b[0m \u001b[1m194s\u001b[0m 238ms/step - accuracy: 0.9221 - auc: 0.7647 - f1_score: 0.1095 - loss: 0.0621 - precision: 0.5128 - recall: 0.0766 - val_accuracy: 0.9423 - val_auc: 0.7564 - val_f1_score: 0.0792 - val_loss: 0.0625 - val_precision: 0.3590 - val_recall: 0.0540 - learning_rate: 5.0000e-05\n"
     ]
    },
    {
     "name": "stderr",
     "output_type": "stream",
     "text": [
      "2025-06-17 08:58:00 - INFO - \n",
      "=== Starting Epoch 13 ===\n",
      "\n"
     ]
    },
    {
     "name": "stdout",
     "output_type": "stream",
     "text": [
      "Epoch 13/100\n",
      "\u001b[1m813/813\u001b[0m \u001b[32m━━━━━━━━━━━━━━━━━━━━\u001b[0m\u001b[37m\u001b[0m \u001b[1m0s\u001b[0m 223ms/step - accuracy: 0.9219 - auc: 0.7734 - f1_score: 0.1221 - loss: 0.0604 - precision: 0.5176 - recall: 0.0851  "
     ]
    },
    {
     "name": "stderr",
     "output_type": "stream",
     "text": [
      "2025-06-17 09:01:16 - INFO - \n",
      "=== Epoch 13 Summary ===\n",
      "2025-06-17 09:01:16 - INFO - Time: 196.02s\n",
      "2025-06-17 09:01:16 - INFO - Training   - accuracy: 0.9226 - auc: 0.7768 - f1_score: 0.1247 - loss: 0.0598 - precision: 0.5203 - recall: 0.0876 - learning_rate: 0.0000\n",
      "2025-06-17 09:01:16 - INFO - Validation - accuracy: 0.9426 - auc: 0.7580 - f1_score: 0.1086 - loss: 0.0643 - precision: 0.4101 - recall: 0.0833\n",
      "2025-06-17 09:01:16 - INFO - ==================================================\n",
      "\n"
     ]
    },
    {
     "name": "stdout",
     "output_type": "stream",
     "text": [
      "\u001b[1m813/813\u001b[0m \u001b[32m━━━━━━━━━━━━━━━━━━━━\u001b[0m\u001b[37m\u001b[0m \u001b[1m196s\u001b[0m 241ms/step - accuracy: 0.9220 - auc: 0.7734 - f1_score: 0.1221 - loss: 0.0604 - precision: 0.5177 - recall: 0.0851 - val_accuracy: 0.9426 - val_auc: 0.7580 - val_f1_score: 0.1086 - val_loss: 0.0643 - val_precision: 0.4101 - val_recall: 0.0833 - learning_rate: 5.0000e-05\n"
     ]
    },
    {
     "name": "stderr",
     "output_type": "stream",
     "text": [
      "2025-06-17 09:01:16 - INFO - \n",
      "=== Starting Epoch 14 ===\n",
      "\n"
     ]
    },
    {
     "name": "stdout",
     "output_type": "stream",
     "text": [
      "Epoch 14/100\n",
      "\u001b[1m813/813\u001b[0m \u001b[32m━━━━━━━━━━━━━━━━━━━━\u001b[0m\u001b[37m\u001b[0m \u001b[1m0s\u001b[0m 223ms/step - accuracy: 0.9223 - auc: 0.7772 - f1_score: 0.1271 - loss: 0.0591 - precision: 0.5136 - recall: 0.0903  "
     ]
    },
    {
     "name": "stderr",
     "output_type": "stream",
     "text": [
      "2025-06-17 09:04:32 - INFO - \n",
      "=== Epoch 14 Summary ===\n",
      "2025-06-17 09:04:32 - INFO - Time: 195.76s\n",
      "2025-06-17 09:04:32 - INFO - Training   - accuracy: 0.9228 - auc: 0.7813 - f1_score: 0.1311 - loss: 0.0587 - precision: 0.5206 - recall: 0.0931 - learning_rate: 0.0000\n",
      "2025-06-17 09:04:32 - INFO - Validation - accuracy: 0.9429 - auc: 0.7451 - f1_score: 0.1176 - loss: 0.0660 - precision: 0.4261 - recall: 0.0918\n",
      "2025-06-17 09:04:32 - INFO - ==================================================\n",
      "\n"
     ]
    },
    {
     "name": "stdout",
     "output_type": "stream",
     "text": [
      "\u001b[1m813/813\u001b[0m \u001b[32m━━━━━━━━━━━━━━━━━━━━\u001b[0m\u001b[37m\u001b[0m \u001b[1m196s\u001b[0m 241ms/step - accuracy: 0.9223 - auc: 0.7772 - f1_score: 0.1271 - loss: 0.0591 - precision: 0.5136 - recall: 0.0903 - val_accuracy: 0.9429 - val_auc: 0.7451 - val_f1_score: 0.1176 - val_loss: 0.0660 - val_precision: 0.4261 - val_recall: 0.0918 - learning_rate: 5.0000e-05\n"
     ]
    },
    {
     "name": "stderr",
     "output_type": "stream",
     "text": [
      "2025-06-17 09:04:32 - INFO - \n",
      "=== Starting Epoch 15 ===\n",
      "\n"
     ]
    },
    {
     "name": "stdout",
     "output_type": "stream",
     "text": [
      "Epoch 15/100\n",
      "\u001b[1m813/813\u001b[0m \u001b[32m━━━━━━━━━━━━━━━━━━━━\u001b[0m\u001b[37m\u001b[0m \u001b[1m0s\u001b[0m 222ms/step - accuracy: 0.9226 - auc: 0.7827 - f1_score: 0.1357 - loss: 0.0580 - precision: 0.5249 - recall: 0.0969  "
     ]
    },
    {
     "name": "stderr",
     "output_type": "stream",
     "text": [
      "2025-06-17 09:07:49 - INFO - \n",
      "=== Epoch 15 Summary ===\n",
      "2025-06-17 09:07:49 - INFO - Time: 197.12s\n",
      "2025-06-17 09:07:49 - INFO - Training   - accuracy: 0.9228 - auc: 0.7858 - f1_score: 0.1383 - loss: 0.0576 - precision: 0.5225 - recall: 0.0991 - learning_rate: 0.0000\n",
      "2025-06-17 09:07:49 - INFO - Validation - accuracy: 0.9419 - auc: 0.7500 - f1_score: 0.1111 - loss: 0.0660 - precision: 0.3871 - recall: 0.0836\n",
      "2025-06-17 09:07:49 - INFO - ==================================================\n",
      "\n"
     ]
    },
    {
     "name": "stdout",
     "output_type": "stream",
     "text": [
      "\u001b[1m813/813\u001b[0m \u001b[32m━━━━━━━━━━━━━━━━━━━━\u001b[0m\u001b[37m\u001b[0m \u001b[1m197s\u001b[0m 243ms/step - accuracy: 0.9226 - auc: 0.7827 - f1_score: 0.1357 - loss: 0.0580 - precision: 0.5249 - recall: 0.0969 - val_accuracy: 0.9419 - val_auc: 0.7500 - val_f1_score: 0.1111 - val_loss: 0.0660 - val_precision: 0.3871 - val_recall: 0.0836 - learning_rate: 5.0000e-05\n"
     ]
    },
    {
     "name": "stderr",
     "output_type": "stream",
     "text": [
      "2025-06-17 09:07:49 - INFO - \n",
      "=== Starting Epoch 16 ===\n",
      "\n"
     ]
    },
    {
     "name": "stdout",
     "output_type": "stream",
     "text": [
      "Epoch 16/100\n",
      "\u001b[1m813/813\u001b[0m \u001b[32m━━━━━━━━━━━━━━━━━━━━\u001b[0m\u001b[37m\u001b[0m \u001b[1m0s\u001b[0m 219ms/step - accuracy: 0.9228 - auc: 0.7888 - f1_score: 0.1438 - loss: 0.0570 - precision: 0.5198 - recall: 0.1036  "
     ]
    },
    {
     "name": "stderr",
     "output_type": "stream",
     "text": [
      "2025-06-17 09:11:02 - INFO - \n",
      "=== Epoch 16 Summary ===\n",
      "2025-06-17 09:11:02 - INFO - Time: 192.97s\n",
      "2025-06-17 09:11:02 - INFO - Training   - accuracy: 0.9229 - auc: 0.7917 - f1_score: 0.1463 - loss: 0.0564 - precision: 0.5208 - recall: 0.1053 - learning_rate: 0.0000\n",
      "2025-06-17 09:11:02 - INFO - Validation - accuracy: 0.9390 - auc: 0.7588 - f1_score: 0.1567 - loss: 0.0631 - precision: 0.3532 - recall: 0.1221\n",
      "2025-06-17 09:11:02 - INFO - ==================================================\n",
      "\n"
     ]
    },
    {
     "name": "stdout",
     "output_type": "stream",
     "text": [
      "\u001b[1m813/813\u001b[0m \u001b[32m━━━━━━━━━━━━━━━━━━━━\u001b[0m\u001b[37m\u001b[0m \u001b[1m193s\u001b[0m 237ms/step - accuracy: 0.9228 - auc: 0.7888 - f1_score: 0.1438 - loss: 0.0570 - precision: 0.5198 - recall: 0.1036 - val_accuracy: 0.9390 - val_auc: 0.7588 - val_f1_score: 0.1567 - val_loss: 0.0631 - val_precision: 0.3532 - val_recall: 0.1221 - learning_rate: 5.0000e-05\n"
     ]
    },
    {
     "name": "stderr",
     "output_type": "stream",
     "text": [
      "2025-06-17 09:11:02 - INFO - \n",
      "=== Starting Epoch 17 ===\n",
      "\n"
     ]
    },
    {
     "name": "stdout",
     "output_type": "stream",
     "text": [
      "Epoch 17/100\n",
      "\u001b[1m813/813\u001b[0m \u001b[32m━━━━━━━━━━━━━━━━━━━━\u001b[0m\u001b[37m\u001b[0m \u001b[1m0s\u001b[0m 223ms/step - accuracy: 0.9224 - auc: 0.7929 - f1_score: 0.1558 - loss: 0.0563 - precision: 0.5273 - recall: 0.1129  "
     ]
    },
    {
     "name": "stderr",
     "output_type": "stream",
     "text": [
      "2025-06-17 09:14:18 - INFO - \n",
      "=== Epoch 17 Summary ===\n",
      "2025-06-17 09:14:18 - INFO - Time: 195.71s\n",
      "2025-06-17 09:14:18 - INFO - Training   - accuracy: 0.9231 - auc: 0.7958 - f1_score: 0.1567 - loss: 0.0556 - precision: 0.5259 - recall: 0.1141 - learning_rate: 0.0000\n",
      "2025-06-17 09:14:18 - INFO - Validation - accuracy: 0.9427 - auc: 0.7587 - f1_score: 0.1333 - loss: 0.0601 - precision: 0.4263 - recall: 0.1018\n",
      "2025-06-17 09:14:18 - INFO - ==================================================\n",
      "\n"
     ]
    },
    {
     "name": "stdout",
     "output_type": "stream",
     "text": [
      "\u001b[1m813/813\u001b[0m \u001b[32m━━━━━━━━━━━━━━━━━━━━\u001b[0m\u001b[37m\u001b[0m \u001b[1m196s\u001b[0m 241ms/step - accuracy: 0.9224 - auc: 0.7929 - f1_score: 0.1558 - loss: 0.0563 - precision: 0.5273 - recall: 0.1129 - val_accuracy: 0.9427 - val_auc: 0.7587 - val_f1_score: 0.1333 - val_loss: 0.0601 - val_precision: 0.4263 - val_recall: 0.1018 - learning_rate: 5.0000e-05\n"
     ]
    },
    {
     "name": "stderr",
     "output_type": "stream",
     "text": [
      "2025-06-17 09:14:18 - INFO - \n",
      "=== Starting Epoch 18 ===\n",
      "\n"
     ]
    },
    {
     "name": "stdout",
     "output_type": "stream",
     "text": [
      "Epoch 18/100\n",
      "\u001b[1m813/813\u001b[0m \u001b[32m━━━━━━━━━━━━━━━━━━━━\u001b[0m\u001b[37m\u001b[0m \u001b[1m0s\u001b[0m 224ms/step - accuracy: 0.9223 - auc: 0.7976 - f1_score: 0.1617 - loss: 0.0555 - precision: 0.5238 - recall: 0.1192  "
     ]
    },
    {
     "name": "stderr",
     "output_type": "stream",
     "text": [
      "2025-06-17 09:17:29 - INFO - \n",
      "=== Epoch 18 Summary ===\n",
      "2025-06-17 09:17:29 - INFO - Time: 191.84s\n",
      "2025-06-17 09:17:29 - INFO - Training   - accuracy: 0.9230 - auc: 0.8005 - f1_score: 0.1630 - loss: 0.0548 - precision: 0.5240 - recall: 0.1200 - learning_rate: 0.0000\n",
      "2025-06-17 09:17:29 - INFO - Validation - accuracy: 0.9415 - auc: 0.7421 - f1_score: 0.0958 - loss: 0.0636 - precision: 0.3672 - recall: 0.0789\n",
      "2025-06-17 09:17:29 - INFO - ==================================================\n",
      "\n"
     ]
    },
    {
     "name": "stdout",
     "output_type": "stream",
     "text": [
      "\u001b[1m813/813\u001b[0m \u001b[32m━━━━━━━━━━━━━━━━━━━━\u001b[0m\u001b[37m\u001b[0m \u001b[1m192s\u001b[0m 236ms/step - accuracy: 0.9223 - auc: 0.7976 - f1_score: 0.1617 - loss: 0.0555 - precision: 0.5238 - recall: 0.1192 - val_accuracy: 0.9415 - val_auc: 0.7421 - val_f1_score: 0.0958 - val_loss: 0.0636 - val_precision: 0.3672 - val_recall: 0.0789 - learning_rate: 5.0000e-05\n"
     ]
    },
    {
     "name": "stderr",
     "output_type": "stream",
     "text": [
      "2025-06-17 09:17:29 - INFO - \n",
      "=== Starting Epoch 19 ===\n",
      "\n"
     ]
    },
    {
     "name": "stdout",
     "output_type": "stream",
     "text": [
      "Epoch 19/100\n",
      "\u001b[1m813/813\u001b[0m \u001b[32m━━━━━━━━━━━━━━━━━━━━\u001b[0m\u001b[37m\u001b[0m \u001b[1m0s\u001b[0m 231ms/step - accuracy: 0.9226 - auc: 0.8021 - f1_score: 0.1683 - loss: 0.0546 - precision: 0.5253 - recall: 0.1250  \n",
      "Epoch 19: ReduceLROnPlateau reducing learning rate to 2.499999936844688e-05.\n"
     ]
    },
    {
     "name": "stderr",
     "output_type": "stream",
     "text": [
      "2025-06-17 09:20:47 - INFO - \n",
      "=== Epoch 19 Summary ===\n",
      "2025-06-17 09:20:47 - INFO - Time: 197.28s\n",
      "2025-06-17 09:20:47 - INFO - Training   - accuracy: 0.9231 - auc: 0.8043 - f1_score: 0.1703 - loss: 0.0541 - precision: 0.5260 - recall: 0.1262 - learning_rate: 0.0000\n",
      "2025-06-17 09:20:47 - INFO - Validation - accuracy: 0.9410 - auc: 0.7625 - f1_score: 0.1353 - loss: 0.0595 - precision: 0.3870 - recall: 0.1126\n",
      "2025-06-17 09:20:47 - INFO - ==================================================\n",
      "\n"
     ]
    },
    {
     "name": "stdout",
     "output_type": "stream",
     "text": [
      "\u001b[1m813/813\u001b[0m \u001b[32m━━━━━━━━━━━━━━━━━━━━\u001b[0m\u001b[37m\u001b[0m \u001b[1m197s\u001b[0m 243ms/step - accuracy: 0.9226 - auc: 0.8021 - f1_score: 0.1683 - loss: 0.0546 - precision: 0.5253 - recall: 0.1250 - val_accuracy: 0.9410 - val_auc: 0.7625 - val_f1_score: 0.1353 - val_loss: 0.0595 - val_precision: 0.3870 - val_recall: 0.1126 - learning_rate: 5.0000e-05\n"
     ]
    },
    {
     "name": "stderr",
     "output_type": "stream",
     "text": [
      "2025-06-17 09:20:47 - INFO - \n",
      "=== Starting Epoch 20 ===\n",
      "\n"
     ]
    },
    {
     "name": "stdout",
     "output_type": "stream",
     "text": [
      "Epoch 20/100\n",
      "\u001b[1m813/813\u001b[0m \u001b[32m━━━━━━━━━━━━━━━━━━━━\u001b[0m\u001b[37m\u001b[0m \u001b[1m0s\u001b[0m 235ms/step - accuracy: 0.9238 - auc: 0.8160 - f1_score: 0.1924 - loss: 0.0526 - precision: 0.5465 - recall: 0.1461  "
     ]
    },
    {
     "name": "stderr",
     "output_type": "stream",
     "text": [
      "2025-06-17 09:24:08 - INFO - \n",
      "=== Epoch 20 Summary ===\n",
      "2025-06-17 09:24:08 - INFO - Time: 200.97s\n",
      "2025-06-17 09:24:08 - INFO - Training   - accuracy: 0.9244 - auc: 0.8205 - f1_score: 0.2005 - loss: 0.0516 - precision: 0.5520 - recall: 0.1523 - learning_rate: 0.0000\n",
      "2025-06-17 09:24:08 - INFO - Validation - accuracy: 0.9334 - auc: 0.7508 - f1_score: 0.1318 - loss: 0.0642 - precision: 0.2811 - recall: 0.1298\n",
      "2025-06-17 09:24:08 - INFO - ==================================================\n",
      "\n"
     ]
    },
    {
     "name": "stdout",
     "output_type": "stream",
     "text": [
      "\u001b[1m813/813\u001b[0m \u001b[32m━━━━━━━━━━━━━━━━━━━━\u001b[0m\u001b[37m\u001b[0m \u001b[1m201s\u001b[0m 247ms/step - accuracy: 0.9238 - auc: 0.8160 - f1_score: 0.1924 - loss: 0.0526 - precision: 0.5465 - recall: 0.1461 - val_accuracy: 0.9334 - val_auc: 0.7508 - val_f1_score: 0.1318 - val_loss: 0.0642 - val_precision: 0.2811 - val_recall: 0.1298 - learning_rate: 2.5000e-05\n"
     ]
    },
    {
     "name": "stderr",
     "output_type": "stream",
     "text": [
      "2025-06-17 09:24:08 - INFO - \n",
      "=== Starting Epoch 21 ===\n",
      "\n"
     ]
    },
    {
     "name": "stdout",
     "output_type": "stream",
     "text": [
      "Epoch 21/100\n",
      "\u001b[1m813/813\u001b[0m \u001b[32m━━━━━━━━━━━━━━━━━━━━\u001b[0m\u001b[37m\u001b[0m \u001b[1m0s\u001b[0m 235ms/step - accuracy: 0.9248 - auc: 0.8241 - f1_score: 0.2138 - loss: 0.0512 - precision: 0.5658 - recall: 0.1641  "
     ]
    },
    {
     "name": "stderr",
     "output_type": "stream",
     "text": [
      "2025-06-17 09:27:29 - INFO - \n",
      "=== Epoch 21 Summary ===\n",
      "2025-06-17 09:27:29 - INFO - Time: 200.77s\n",
      "2025-06-17 09:27:29 - INFO - Training   - accuracy: 0.9253 - auc: 0.8272 - f1_score: 0.2166 - loss: 0.0504 - precision: 0.5663 - recall: 0.1662 - learning_rate: 0.0000\n",
      "2025-06-17 09:27:29 - INFO - Validation - accuracy: 0.9376 - auc: 0.7604 - f1_score: 0.1318 - loss: 0.0618 - precision: 0.3196 - recall: 0.1123\n",
      "2025-06-17 09:27:29 - INFO - ==================================================\n",
      "\n"
     ]
    },
    {
     "name": "stdout",
     "output_type": "stream",
     "text": [
      "\u001b[1m813/813\u001b[0m \u001b[32m━━━━━━━━━━━━━━━━━━━━\u001b[0m\u001b[37m\u001b[0m \u001b[1m201s\u001b[0m 247ms/step - accuracy: 0.9248 - auc: 0.8241 - f1_score: 0.2138 - loss: 0.0512 - precision: 0.5658 - recall: 0.1641 - val_accuracy: 0.9376 - val_auc: 0.7604 - val_f1_score: 0.1318 - val_loss: 0.0618 - val_precision: 0.3196 - val_recall: 0.1123 - learning_rate: 2.5000e-05\n"
     ]
    },
    {
     "name": "stderr",
     "output_type": "stream",
     "text": [
      "2025-06-17 09:27:29 - INFO - \n",
      "=== Starting Epoch 22 ===\n",
      "\n"
     ]
    },
    {
     "name": "stdout",
     "output_type": "stream",
     "text": [
      "Epoch 22/100\n",
      "\u001b[1m813/813\u001b[0m \u001b[32m━━━━━━━━━━━━━━━━━━━━\u001b[0m\u001b[37m\u001b[0m \u001b[1m0s\u001b[0m 231ms/step - accuracy: 0.9248 - auc: 0.8285 - f1_score: 0.2224 - loss: 0.0501 - precision: 0.5654 - recall: 0.1722  \n",
      "Epoch 22: ReduceLROnPlateau reducing learning rate to 1.249999968422344e-05.\n"
     ]
    },
    {
     "name": "stderr",
     "output_type": "stream",
     "text": [
      "2025-06-17 09:30:46 - INFO - \n",
      "=== Epoch 22 Summary ===\n",
      "2025-06-17 09:30:46 - INFO - Time: 197.72s\n",
      "2025-06-17 09:30:46 - INFO - Training   - accuracy: 0.9255 - auc: 0.8321 - f1_score: 0.2278 - loss: 0.0496 - precision: 0.5696 - recall: 0.1764 - learning_rate: 0.0000\n",
      "2025-06-17 09:30:46 - INFO - Validation - accuracy: 0.9364 - auc: 0.7559 - f1_score: 0.1389 - loss: 0.0628 - precision: 0.3116 - recall: 0.1227\n",
      "2025-06-17 09:30:46 - INFO - ==================================================\n",
      "\n"
     ]
    },
    {
     "name": "stdout",
     "output_type": "stream",
     "text": [
      "\u001b[1m813/813\u001b[0m \u001b[32m━━━━━━━━━━━━━━━━━━━━\u001b[0m\u001b[37m\u001b[0m \u001b[1m198s\u001b[0m 243ms/step - accuracy: 0.9248 - auc: 0.8285 - f1_score: 0.2225 - loss: 0.0501 - precision: 0.5654 - recall: 0.1722 - val_accuracy: 0.9364 - val_auc: 0.7559 - val_f1_score: 0.1389 - val_loss: 0.0628 - val_precision: 0.3116 - val_recall: 0.1227 - learning_rate: 2.5000e-05\n"
     ]
    },
    {
     "name": "stderr",
     "output_type": "stream",
     "text": [
      "2025-06-17 09:30:46 - INFO - \n",
      "=== Starting Epoch 23 ===\n",
      "\n"
     ]
    },
    {
     "name": "stdout",
     "output_type": "stream",
     "text": [
      "Epoch 23/100\n",
      "\u001b[1m813/813\u001b[0m \u001b[32m━━━━━━━━━━━━━━━━━━━━\u001b[0m\u001b[37m\u001b[0m \u001b[1m0s\u001b[0m 236ms/step - accuracy: 0.9266 - auc: 0.8409 - f1_score: 0.2458 - loss: 0.0485 - precision: 0.5904 - recall: 0.1913  "
     ]
    },
    {
     "name": "stderr",
     "output_type": "stream",
     "text": [
      "2025-06-17 09:34:08 - INFO - \n",
      "=== Epoch 23 Summary ===\n",
      "2025-06-17 09:34:08 - INFO - Time: 202.03s\n",
      "2025-06-17 09:34:08 - INFO - Training   - accuracy: 0.9272 - auc: 0.8449 - f1_score: 0.2521 - loss: 0.0476 - precision: 0.5981 - recall: 0.1967 - learning_rate: 0.0000\n",
      "2025-06-17 09:34:08 - INFO - Validation - accuracy: 0.9382 - auc: 0.7643 - f1_score: 0.1682 - loss: 0.0601 - precision: 0.3605 - recall: 0.1495\n",
      "2025-06-17 09:34:08 - INFO - ==================================================\n",
      "\n"
     ]
    },
    {
     "name": "stdout",
     "output_type": "stream",
     "text": [
      "\u001b[1m813/813\u001b[0m \u001b[32m━━━━━━━━━━━━━━━━━━━━\u001b[0m\u001b[37m\u001b[0m \u001b[1m202s\u001b[0m 249ms/step - accuracy: 0.9266 - auc: 0.8409 - f1_score: 0.2459 - loss: 0.0485 - precision: 0.5904 - recall: 0.1913 - val_accuracy: 0.9382 - val_auc: 0.7643 - val_f1_score: 0.1682 - val_loss: 0.0601 - val_precision: 0.3605 - val_recall: 0.1495 - learning_rate: 1.2500e-05\n"
     ]
    },
    {
     "name": "stderr",
     "output_type": "stream",
     "text": [
      "2025-06-17 09:34:08 - INFO - \n",
      "=== Starting Epoch 24 ===\n",
      "\n"
     ]
    },
    {
     "name": "stdout",
     "output_type": "stream",
     "text": [
      "Epoch 24/100\n",
      "\u001b[1m813/813\u001b[0m \u001b[32m━━━━━━━━━━━━━━━━━━━━\u001b[0m\u001b[37m\u001b[0m \u001b[1m0s\u001b[0m 234ms/step - accuracy: 0.9274 - auc: 0.8481 - f1_score: 0.2652 - loss: 0.0472 - precision: 0.6036 - recall: 0.2087  "
     ]
    },
    {
     "name": "stderr",
     "output_type": "stream",
     "text": [
      "2025-06-17 09:37:30 - INFO - \n",
      "=== Epoch 24 Summary ===\n",
      "2025-06-17 09:37:30 - INFO - Time: 201.75s\n",
      "2025-06-17 09:37:30 - INFO - Training   - accuracy: 0.9279 - auc: 0.8518 - f1_score: 0.2696 - loss: 0.0465 - precision: 0.6061 - recall: 0.2119 - learning_rate: 0.0000\n",
      "2025-06-17 09:37:30 - INFO - Validation - accuracy: 0.9380 - auc: 0.7691 - f1_score: 0.1778 - loss: 0.0600 - precision: 0.3581 - recall: 0.1512\n",
      "2025-06-17 09:37:30 - INFO - ==================================================\n",
      "\n"
     ]
    },
    {
     "name": "stdout",
     "output_type": "stream",
     "text": [
      "\u001b[1m813/813\u001b[0m \u001b[32m━━━━━━━━━━━━━━━━━━━━\u001b[0m\u001b[37m\u001b[0m \u001b[1m202s\u001b[0m 248ms/step - accuracy: 0.9274 - auc: 0.8481 - f1_score: 0.2652 - loss: 0.0472 - precision: 0.6036 - recall: 0.2087 - val_accuracy: 0.9380 - val_auc: 0.7691 - val_f1_score: 0.1778 - val_loss: 0.0600 - val_precision: 0.3581 - val_recall: 0.1512 - learning_rate: 1.2500e-05\n"
     ]
    },
    {
     "name": "stderr",
     "output_type": "stream",
     "text": [
      "2025-06-17 09:37:30 - INFO - \n",
      "=== Starting Epoch 25 ===\n",
      "\n"
     ]
    },
    {
     "name": "stdout",
     "output_type": "stream",
     "text": [
      "Epoch 25/100\n",
      "\u001b[1m813/813\u001b[0m \u001b[32m━━━━━━━━━━━━━━━━━━━━\u001b[0m\u001b[37m\u001b[0m \u001b[1m0s\u001b[0m 231ms/step - accuracy: 0.9282 - auc: 0.8527 - f1_score: 0.2766 - loss: 0.0459 - precision: 0.6107 - recall: 0.2188  "
     ]
    },
    {
     "name": "stderr",
     "output_type": "stream",
     "text": [
      "2025-06-17 09:40:47 - INFO - \n",
      "=== Epoch 25 Summary ===\n",
      "2025-06-17 09:40:47 - INFO - Time: 197.33s\n",
      "2025-06-17 09:40:47 - INFO - Training   - accuracy: 0.9287 - auc: 0.8565 - f1_score: 0.2814 - loss: 0.0454 - precision: 0.6148 - recall: 0.2223 - learning_rate: 0.0000\n",
      "2025-06-17 09:40:47 - INFO - Validation - accuracy: 0.9395 - auc: 0.7721 - f1_score: 0.1636 - loss: 0.0595 - precision: 0.3708 - recall: 0.1321\n",
      "2025-06-17 09:40:47 - INFO - ==================================================\n",
      "\n"
     ]
    },
    {
     "name": "stdout",
     "output_type": "stream",
     "text": [
      "\u001b[1m813/813\u001b[0m \u001b[32m━━━━━━━━━━━━━━━━━━━━\u001b[0m\u001b[37m\u001b[0m \u001b[1m197s\u001b[0m 243ms/step - accuracy: 0.9282 - auc: 0.8527 - f1_score: 0.2766 - loss: 0.0459 - precision: 0.6107 - recall: 0.2188 - val_accuracy: 0.9395 - val_auc: 0.7721 - val_f1_score: 0.1636 - val_loss: 0.0595 - val_precision: 0.3708 - val_recall: 0.1321 - learning_rate: 1.2500e-05\n"
     ]
    },
    {
     "name": "stderr",
     "output_type": "stream",
     "text": [
      "2025-06-17 09:40:47 - INFO - \n",
      "=== Starting Epoch 26 ===\n",
      "\n"
     ]
    },
    {
     "name": "stdout",
     "output_type": "stream",
     "text": [
      "Epoch 26/100\n",
      "\u001b[1m813/813\u001b[0m \u001b[32m━━━━━━━━━━━━━━━━━━━━\u001b[0m\u001b[37m\u001b[0m \u001b[1m0s\u001b[0m 236ms/step - accuracy: 0.9287 - auc: 0.8580 - f1_score: 0.2909 - loss: 0.0453 - precision: 0.6177 - recall: 0.2307  "
     ]
    },
    {
     "name": "stderr",
     "output_type": "stream",
     "text": [
      "2025-06-17 09:44:09 - INFO - \n",
      "=== Epoch 26 Summary ===\n",
      "2025-06-17 09:44:09 - INFO - Time: 201.41s\n",
      "2025-06-17 09:44:09 - INFO - Training   - accuracy: 0.9292 - auc: 0.8612 - f1_score: 0.2942 - loss: 0.0448 - precision: 0.6207 - recall: 0.2333 - learning_rate: 0.0000\n",
      "2025-06-17 09:44:09 - INFO - Validation - accuracy: 0.9393 - auc: 0.7605 - f1_score: 0.1727 - loss: 0.0601 - precision: 0.3761 - recall: 0.1443\n",
      "2025-06-17 09:44:09 - INFO - ==================================================\n",
      "\n"
     ]
    },
    {
     "name": "stdout",
     "output_type": "stream",
     "text": [
      "\u001b[1m813/813\u001b[0m \u001b[32m━━━━━━━━━━━━━━━━━━━━\u001b[0m\u001b[37m\u001b[0m \u001b[1m201s\u001b[0m 248ms/step - accuracy: 0.9287 - auc: 0.8580 - f1_score: 0.2909 - loss: 0.0453 - precision: 0.6177 - recall: 0.2307 - val_accuracy: 0.9393 - val_auc: 0.7605 - val_f1_score: 0.1727 - val_loss: 0.0601 - val_precision: 0.3761 - val_recall: 0.1443 - learning_rate: 1.2500e-05\n"
     ]
    },
    {
     "name": "stderr",
     "output_type": "stream",
     "text": [
      "2025-06-17 09:44:09 - INFO - \n",
      "=== Starting Epoch 27 ===\n",
      "\n"
     ]
    },
    {
     "name": "stdout",
     "output_type": "stream",
     "text": [
      "Epoch 27/100\n",
      "\u001b[1m813/813\u001b[0m \u001b[32m━━━━━━━━━━━━━━━━━━━━\u001b[0m\u001b[37m\u001b[0m \u001b[1m0s\u001b[0m 235ms/step - accuracy: 0.9293 - auc: 0.8631 - f1_score: 0.2991 - loss: 0.0443 - precision: 0.6217 - recall: 0.2379  "
     ]
    },
    {
     "name": "stderr",
     "output_type": "stream",
     "text": [
      "2025-06-17 09:47:31 - INFO - \n",
      "=== Epoch 27 Summary ===\n",
      "2025-06-17 09:47:31 - INFO - Time: 201.71s\n",
      "2025-06-17 09:47:31 - INFO - Training   - accuracy: 0.9300 - auc: 0.8668 - f1_score: 0.3088 - loss: 0.0438 - precision: 0.6291 - recall: 0.2454 - learning_rate: 0.0000\n",
      "2025-06-17 09:47:31 - INFO - Validation - accuracy: 0.9335 - auc: 0.7623 - f1_score: 0.1806 - loss: 0.0635 - precision: 0.2999 - recall: 0.1508\n",
      "2025-06-17 09:47:31 - INFO - ==================================================\n",
      "\n"
     ]
    },
    {
     "name": "stdout",
     "output_type": "stream",
     "text": [
      "\u001b[1m813/813\u001b[0m \u001b[32m━━━━━━━━━━━━━━━━━━━━\u001b[0m\u001b[37m\u001b[0m \u001b[1m202s\u001b[0m 248ms/step - accuracy: 0.9293 - auc: 0.8631 - f1_score: 0.2991 - loss: 0.0443 - precision: 0.6217 - recall: 0.2379 - val_accuracy: 0.9335 - val_auc: 0.7623 - val_f1_score: 0.1806 - val_loss: 0.0635 - val_precision: 0.2999 - val_recall: 0.1508 - learning_rate: 1.2500e-05\n"
     ]
    },
    {
     "name": "stderr",
     "output_type": "stream",
     "text": [
      "2025-06-17 09:47:31 - INFO - \n",
      "=== Starting Epoch 28 ===\n",
      "\n"
     ]
    },
    {
     "name": "stdout",
     "output_type": "stream",
     "text": [
      "Epoch 28/100\n",
      "\u001b[1m813/813\u001b[0m \u001b[32m━━━━━━━━━━━━━━━━━━━━\u001b[0m\u001b[37m\u001b[0m \u001b[1m0s\u001b[0m 230ms/step - accuracy: 0.9302 - auc: 0.8693 - f1_score: 0.3185 - loss: 0.0435 - precision: 0.6309 - recall: 0.2533  "
     ]
    },
    {
     "name": "stderr",
     "output_type": "stream",
     "text": [
      "2025-06-17 09:50:47 - INFO - \n",
      "=== Epoch 28 Summary ===\n",
      "2025-06-17 09:50:47 - INFO - Time: 196.78s\n",
      "2025-06-17 09:50:47 - INFO - Training   - accuracy: 0.9306 - auc: 0.8720 - f1_score: 0.3215 - loss: 0.0430 - precision: 0.6344 - recall: 0.2558 - learning_rate: 0.0000\n",
      "2025-06-17 09:50:47 - INFO - Validation - accuracy: 0.9331 - auc: 0.7641 - f1_score: 0.1745 - loss: 0.0630 - precision: 0.3087 - recall: 0.1683\n",
      "2025-06-17 09:50:47 - INFO - ==================================================\n",
      "\n"
     ]
    },
    {
     "name": "stdout",
     "output_type": "stream",
     "text": [
      "\u001b[1m813/813\u001b[0m \u001b[32m━━━━━━━━━━━━━━━━━━━━\u001b[0m\u001b[37m\u001b[0m \u001b[1m197s\u001b[0m 242ms/step - accuracy: 0.9302 - auc: 0.8693 - f1_score: 0.3185 - loss: 0.0435 - precision: 0.6309 - recall: 0.2533 - val_accuracy: 0.9331 - val_auc: 0.7641 - val_f1_score: 0.1745 - val_loss: 0.0630 - val_precision: 0.3087 - val_recall: 0.1683 - learning_rate: 1.2500e-05\n"
     ]
    },
    {
     "name": "stderr",
     "output_type": "stream",
     "text": [
      "2025-06-17 09:50:47 - INFO - \n",
      "=== Starting Epoch 29 ===\n",
      "\n"
     ]
    },
    {
     "name": "stdout",
     "output_type": "stream",
     "text": [
      "Epoch 29/100\n",
      "\u001b[1m813/813\u001b[0m \u001b[32m━━━━━━━━━━━━━━━━━━━━\u001b[0m\u001b[37m\u001b[0m \u001b[1m0s\u001b[0m 236ms/step - accuracy: 0.9312 - auc: 0.8742 - f1_score: 0.3342 - loss: 0.0426 - precision: 0.6443 - recall: 0.2652  "
     ]
    },
    {
     "name": "stderr",
     "output_type": "stream",
     "text": [
      "2025-06-17 09:54:09 - INFO - \n",
      "=== Epoch 29 Summary ===\n",
      "2025-06-17 09:54:09 - INFO - Time: 201.94s\n",
      "2025-06-17 09:54:09 - INFO - Training   - accuracy: 0.9315 - auc: 0.8767 - f1_score: 0.3379 - loss: 0.0421 - precision: 0.6437 - recall: 0.2689 - learning_rate: 0.0000\n",
      "2025-06-17 09:54:09 - INFO - Validation - accuracy: 0.9368 - auc: 0.7687 - f1_score: 0.1754 - loss: 0.0621 - precision: 0.3435 - recall: 0.1545\n",
      "2025-06-17 09:54:09 - INFO - ==================================================\n",
      "\n"
     ]
    },
    {
     "name": "stdout",
     "output_type": "stream",
     "text": [
      "\u001b[1m813/813\u001b[0m \u001b[32m━━━━━━━━━━━━━━━━━━━━\u001b[0m\u001b[37m\u001b[0m \u001b[1m202s\u001b[0m 248ms/step - accuracy: 0.9312 - auc: 0.8742 - f1_score: 0.3342 - loss: 0.0426 - precision: 0.6443 - recall: 0.2652 - val_accuracy: 0.9368 - val_auc: 0.7687 - val_f1_score: 0.1754 - val_loss: 0.0621 - val_precision: 0.3435 - val_recall: 0.1545 - learning_rate: 1.2500e-05\n"
     ]
    },
    {
     "name": "stderr",
     "output_type": "stream",
     "text": [
      "2025-06-17 09:54:09 - INFO - \n",
      "=== Starting Epoch 30 ===\n",
      "\n"
     ]
    },
    {
     "name": "stdout",
     "output_type": "stream",
     "text": [
      "Epoch 30/100\n",
      "\u001b[1m813/813\u001b[0m \u001b[32m━━━━━━━━━━━━━━━━━━━━\u001b[0m\u001b[37m\u001b[0m \u001b[1m0s\u001b[0m 235ms/step - accuracy: 0.9322 - auc: 0.8810 - f1_score: 0.3516 - loss: 0.0415 - precision: 0.6507 - recall: 0.2823  \n",
      "Epoch 30: ReduceLROnPlateau reducing learning rate to 6.24999984211172e-06.\n"
     ]
    },
    {
     "name": "stderr",
     "output_type": "stream",
     "text": [
      "2025-06-17 09:57:30 - INFO - \n",
      "=== Epoch 30 Summary ===\n",
      "2025-06-17 09:57:30 - INFO - Time: 200.87s\n",
      "2025-06-17 09:57:30 - INFO - Training   - accuracy: 0.9325 - auc: 0.8821 - f1_score: 0.3545 - loss: 0.0411 - precision: 0.6519 - recall: 0.2843 - learning_rate: 0.0000\n",
      "2025-06-17 09:57:30 - INFO - Validation - accuracy: 0.9362 - auc: 0.7630 - f1_score: 0.1609 - loss: 0.0619 - precision: 0.3165 - recall: 0.1313\n",
      "2025-06-17 09:57:30 - INFO - ==================================================\n",
      "\n"
     ]
    },
    {
     "name": "stdout",
     "output_type": "stream",
     "text": [
      "\u001b[1m813/813\u001b[0m \u001b[32m━━━━━━━━━━━━━━━━━━━━\u001b[0m\u001b[37m\u001b[0m \u001b[1m201s\u001b[0m 247ms/step - accuracy: 0.9322 - auc: 0.8810 - f1_score: 0.3516 - loss: 0.0415 - precision: 0.6507 - recall: 0.2823 - val_accuracy: 0.9362 - val_auc: 0.7630 - val_f1_score: 0.1609 - val_loss: 0.0619 - val_precision: 0.3165 - val_recall: 0.1313 - learning_rate: 1.2500e-05\n"
     ]
    },
    {
     "name": "stderr",
     "output_type": "stream",
     "text": [
      "2025-06-17 09:57:30 - INFO - \n",
      "=== Starting Epoch 31 ===\n",
      "\n"
     ]
    },
    {
     "name": "stdout",
     "output_type": "stream",
     "text": [
      "Epoch 31/100\n",
      "\u001b[1m813/813\u001b[0m \u001b[32m━━━━━━━━━━━━━━━━━━━━\u001b[0m\u001b[37m\u001b[0m \u001b[1m0s\u001b[0m 718ms/step - accuracy: 0.9336 - auc: 0.8873 - f1_score: 0.3692 - loss: 0.0403 - precision: 0.6680 - recall: 0.2965  "
     ]
    },
    {
     "name": "stderr",
     "output_type": "stream",
     "text": [
      "2025-06-17 10:07:24 - INFO - \n",
      "=== Epoch 31 Summary ===\n",
      "2025-06-17 10:07:24 - INFO - Time: 593.57s\n",
      "2025-06-17 10:07:24 - INFO - Training   - accuracy: 0.9346 - auc: 0.8908 - f1_score: 0.3776 - loss: 0.0395 - precision: 0.6778 - recall: 0.3036 - learning_rate: 0.0000\n",
      "2025-06-17 10:07:24 - INFO - Validation - accuracy: 0.9390 - auc: 0.7676 - f1_score: 0.1901 - loss: 0.0610 - precision: 0.3762 - recall: 0.1546\n",
      "2025-06-17 10:07:24 - INFO - ==================================================\n",
      "\n"
     ]
    },
    {
     "name": "stdout",
     "output_type": "stream",
     "text": [
      "\u001b[1m813/813\u001b[0m \u001b[32m━━━━━━━━━━━━━━━━━━━━\u001b[0m\u001b[37m\u001b[0m \u001b[1m594s\u001b[0m 731ms/step - accuracy: 0.9336 - auc: 0.8873 - f1_score: 0.3692 - loss: 0.0402 - precision: 0.6680 - recall: 0.2965 - val_accuracy: 0.9390 - val_auc: 0.7676 - val_f1_score: 0.1901 - val_loss: 0.0610 - val_precision: 0.3762 - val_recall: 0.1546 - learning_rate: 6.2500e-06\n"
     ]
    },
    {
     "name": "stderr",
     "output_type": "stream",
     "text": [
      "2025-06-17 10:07:24 - INFO - \n",
      "=== Starting Epoch 32 ===\n",
      "\n"
     ]
    },
    {
     "name": "stdout",
     "output_type": "stream",
     "text": [
      "Epoch 32/100\n",
      "\u001b[1m813/813\u001b[0m \u001b[32m━━━━━━━━━━━━━━━━━━━━\u001b[0m\u001b[37m\u001b[0m \u001b[1m0s\u001b[0m 660ms/step - accuracy: 0.9347 - auc: 0.8934 - f1_score: 0.3887 - loss: 0.0390 - precision: 0.6749 - recall: 0.3128   "
     ]
    },
    {
     "name": "stderr",
     "output_type": "stream",
     "text": [
      "2025-06-17 10:16:31 - INFO - \n",
      "=== Epoch 32 Summary ===\n",
      "2025-06-17 10:16:31 - INFO - Time: 546.81s\n",
      "2025-06-17 10:16:31 - INFO - Training   - accuracy: 0.9352 - auc: 0.8960 - f1_score: 0.3933 - loss: 0.0386 - precision: 0.6789 - recall: 0.3172 - learning_rate: 0.0000\n",
      "2025-06-17 10:16:31 - INFO - Validation - accuracy: 0.9370 - auc: 0.7611 - f1_score: 0.1920 - loss: 0.0625 - precision: 0.3422 - recall: 0.1486\n",
      "2025-06-17 10:16:31 - INFO - ==================================================\n",
      "\n"
     ]
    },
    {
     "name": "stdout",
     "output_type": "stream",
     "text": [
      "\u001b[1m813/813\u001b[0m \u001b[32m━━━━━━━━━━━━━━━━━━━━\u001b[0m\u001b[37m\u001b[0m \u001b[1m547s\u001b[0m 673ms/step - accuracy: 0.9347 - auc: 0.8934 - f1_score: 0.3887 - loss: 0.0390 - precision: 0.6749 - recall: 0.3128 - val_accuracy: 0.9370 - val_auc: 0.7611 - val_f1_score: 0.1920 - val_loss: 0.0625 - val_precision: 0.3422 - val_recall: 0.1486 - learning_rate: 6.2500e-06\n"
     ]
    },
    {
     "name": "stderr",
     "output_type": "stream",
     "text": [
      "2025-06-17 10:16:31 - INFO - \n",
      "=== Starting Epoch 33 ===\n",
      "\n"
     ]
    },
    {
     "name": "stdout",
     "output_type": "stream",
     "text": [
      "Epoch 33/100\n",
      "\u001b[1m813/813\u001b[0m \u001b[32m━━━━━━━━━━━━━━━━━━━━\u001b[0m\u001b[37m\u001b[0m \u001b[1m0s\u001b[0m 356ms/step - accuracy: 0.9358 - auc: 0.8975 - f1_score: 0.4039 - loss: 0.0382 - precision: 0.6847 - recall: 0.3273    "
     ]
    },
    {
     "name": "stderr",
     "output_type": "stream",
     "text": [
      "2025-06-17 10:21:30 - INFO - \n",
      "=== Epoch 33 Summary ===\n",
      "2025-06-17 10:21:30 - INFO - Time: 299.38s\n",
      "2025-06-17 10:21:30 - INFO - Training   - accuracy: 0.9360 - auc: 0.8994 - f1_score: 0.4059 - loss: 0.0380 - precision: 0.6842 - recall: 0.3290 - learning_rate: 0.0000\n",
      "2025-06-17 10:21:30 - INFO - Validation - accuracy: 0.9369 - auc: 0.7668 - f1_score: 0.1822 - loss: 0.0629 - precision: 0.3341 - recall: 0.1395\n",
      "2025-06-17 10:21:30 - INFO - ==================================================\n",
      "\n"
     ]
    },
    {
     "name": "stdout",
     "output_type": "stream",
     "text": [
      "\u001b[1m813/813\u001b[0m \u001b[32m━━━━━━━━━━━━━━━━━━━━\u001b[0m\u001b[37m\u001b[0m \u001b[1m299s\u001b[0m 368ms/step - accuracy: 0.9358 - auc: 0.8975 - f1_score: 0.4039 - loss: 0.0382 - precision: 0.6847 - recall: 0.3273 - val_accuracy: 0.9369 - val_auc: 0.7668 - val_f1_score: 0.1822 - val_loss: 0.0629 - val_precision: 0.3341 - val_recall: 0.1395 - learning_rate: 6.2500e-06\n"
     ]
    },
    {
     "name": "stderr",
     "output_type": "stream",
     "text": [
      "2025-06-17 10:21:30 - INFO - \n",
      "=== Starting Epoch 34 ===\n",
      "\n"
     ]
    },
    {
     "name": "stdout",
     "output_type": "stream",
     "text": [
      "Epoch 34/100\n",
      "\u001b[1m813/813\u001b[0m \u001b[32m━━━━━━━━━━━━━━━━━━━━\u001b[0m\u001b[37m\u001b[0m \u001b[1m0s\u001b[0m 356ms/step - accuracy: 0.9364 - auc: 0.9014 - f1_score: 0.4127 - loss: 0.0376 - precision: 0.6898 - recall: 0.3340   "
     ]
    },
    {
     "name": "stderr",
     "output_type": "stream",
     "text": [
      "2025-06-17 10:26:30 - INFO - \n",
      "=== Epoch 34 Summary ===\n",
      "2025-06-17 10:26:30 - INFO - Time: 300.09s\n",
      "2025-06-17 10:26:30 - INFO - Training   - accuracy: 0.9367 - auc: 0.9027 - f1_score: 0.4170 - loss: 0.0373 - precision: 0.6912 - recall: 0.3381 - learning_rate: 0.0000\n",
      "2025-06-17 10:26:30 - INFO - Validation - accuracy: 0.9333 - auc: 0.7626 - f1_score: 0.2061 - loss: 0.0634 - precision: 0.3145 - recall: 0.1731\n",
      "2025-06-17 10:26:30 - INFO - ==================================================\n",
      "\n"
     ]
    },
    {
     "name": "stdout",
     "output_type": "stream",
     "text": [
      "\u001b[1m813/813\u001b[0m \u001b[32m━━━━━━━━━━━━━━━━━━━━\u001b[0m\u001b[37m\u001b[0m \u001b[1m300s\u001b[0m 369ms/step - accuracy: 0.9364 - auc: 0.9014 - f1_score: 0.4127 - loss: 0.0376 - precision: 0.6898 - recall: 0.3340 - val_accuracy: 0.9333 - val_auc: 0.7626 - val_f1_score: 0.2061 - val_loss: 0.0634 - val_precision: 0.3145 - val_recall: 0.1731 - learning_rate: 6.2500e-06\n"
     ]
    },
    {
     "name": "stderr",
     "output_type": "stream",
     "text": [
      "2025-06-17 10:26:30 - INFO - \n",
      "=== Starting Epoch 35 ===\n",
      "\n"
     ]
    },
    {
     "name": "stdout",
     "output_type": "stream",
     "text": [
      "Epoch 35/100\n",
      "\u001b[1m813/813\u001b[0m \u001b[32m━━━━━━━━━━━━━━━━━━━━\u001b[0m\u001b[37m\u001b[0m \u001b[1m0s\u001b[0m 356ms/step - accuracy: 0.9370 - auc: 0.9037 - f1_score: 0.4226 - loss: 0.0373 - precision: 0.6925 - recall: 0.3443    "
     ]
    },
    {
     "name": "stderr",
     "output_type": "stream",
     "text": [
      "2025-06-17 10:31:29 - INFO - \n",
      "=== Epoch 35 Summary ===\n",
      "2025-06-17 10:31:29 - INFO - Time: 299.21s\n",
      "2025-06-17 10:31:29 - INFO - Training   - accuracy: 0.9372 - auc: 0.9052 - f1_score: 0.4257 - loss: 0.0370 - precision: 0.6928 - recall: 0.3472 - learning_rate: 0.0000\n",
      "2025-06-17 10:31:29 - INFO - Validation - accuracy: 0.9353 - auc: 0.7599 - f1_score: 0.1970 - loss: 0.0652 - precision: 0.3288 - recall: 0.1619\n",
      "2025-06-17 10:31:29 - INFO - ==================================================\n",
      "\n"
     ]
    },
    {
     "name": "stdout",
     "output_type": "stream",
     "text": [
      "\u001b[1m813/813\u001b[0m \u001b[32m━━━━━━━━━━━━━━━━━━━━\u001b[0m\u001b[37m\u001b[0m \u001b[1m299s\u001b[0m 368ms/step - accuracy: 0.9370 - auc: 0.9037 - f1_score: 0.4226 - loss: 0.0373 - precision: 0.6925 - recall: 0.3443 - val_accuracy: 0.9353 - val_auc: 0.7599 - val_f1_score: 0.1970 - val_loss: 0.0652 - val_precision: 0.3288 - val_recall: 0.1619 - learning_rate: 6.2500e-06\n"
     ]
    },
    {
     "name": "stderr",
     "output_type": "stream",
     "text": [
      "2025-06-17 10:31:29 - INFO - \n",
      "=== Starting Epoch 36 ===\n",
      "\n"
     ]
    },
    {
     "name": "stdout",
     "output_type": "stream",
     "text": [
      "Epoch 36/100\n",
      "\u001b[1m813/813\u001b[0m \u001b[32m━━━━━━━━━━━━━━━━━━━━\u001b[0m\u001b[37m\u001b[0m \u001b[1m0s\u001b[0m 356ms/step - accuracy: 0.9376 - auc: 0.9068 - f1_score: 0.4346 - loss: 0.0367 - precision: 0.6932 - recall: 0.3550   "
     ]
    },
    {
     "name": "stderr",
     "output_type": "stream",
     "text": [
      "2025-06-17 10:36:28 - INFO - \n",
      "=== Epoch 36 Summary ===\n",
      "2025-06-17 10:36:28 - INFO - Time: 298.90s\n",
      "2025-06-17 10:36:28 - INFO - Training   - accuracy: 0.9379 - auc: 0.9087 - f1_score: 0.4380 - loss: 0.0363 - precision: 0.6970 - recall: 0.3578 - learning_rate: 0.0000\n",
      "2025-06-17 10:36:28 - INFO - Validation - accuracy: 0.9364 - auc: 0.7657 - f1_score: 0.1993 - loss: 0.0630 - precision: 0.3427 - recall: 0.1610\n",
      "2025-06-17 10:36:28 - INFO - ==================================================\n",
      "\n"
     ]
    },
    {
     "name": "stdout",
     "output_type": "stream",
     "text": [
      "\u001b[1m813/813\u001b[0m \u001b[32m━━━━━━━━━━━━━━━━━━━━\u001b[0m\u001b[37m\u001b[0m \u001b[1m299s\u001b[0m 368ms/step - accuracy: 0.9376 - auc: 0.9068 - f1_score: 0.4346 - loss: 0.0367 - precision: 0.6932 - recall: 0.3550 - val_accuracy: 0.9364 - val_auc: 0.7657 - val_f1_score: 0.1993 - val_loss: 0.0630 - val_precision: 0.3427 - val_recall: 0.1610 - learning_rate: 6.2500e-06\n"
     ]
    },
    {
     "name": "stderr",
     "output_type": "stream",
     "text": [
      "2025-06-17 10:36:28 - INFO - \n",
      "=== Starting Epoch 37 ===\n",
      "\n"
     ]
    },
    {
     "name": "stdout",
     "output_type": "stream",
     "text": [
      "Epoch 37/100\n",
      "\u001b[1m813/813\u001b[0m \u001b[32m━━━━━━━━━━━━━━━━━━━━\u001b[0m\u001b[37m\u001b[0m \u001b[1m0s\u001b[0m 354ms/step - accuracy: 0.9383 - auc: 0.9112 - f1_score: 0.4450 - loss: 0.0360 - precision: 0.6988 - recall: 0.3659   \n",
      "Epoch 37: ReduceLROnPlateau reducing learning rate to 3.12499992105586e-06.\n"
     ]
    },
    {
     "name": "stderr",
     "output_type": "stream",
     "text": [
      "2025-06-17 10:41:26 - INFO - \n",
      "=== Epoch 37 Summary ===\n",
      "2025-06-17 10:41:26 - INFO - Time: 297.69s\n",
      "2025-06-17 10:41:26 - INFO - Training   - accuracy: 0.9386 - auc: 0.9115 - f1_score: 0.4482 - loss: 0.0358 - precision: 0.7004 - recall: 0.3682 - learning_rate: 0.0000\n",
      "2025-06-17 10:41:26 - INFO - Validation - accuracy: 0.9330 - auc: 0.7618 - f1_score: 0.1819 - loss: 0.0666 - precision: 0.2878 - recall: 0.1425\n",
      "2025-06-17 10:41:26 - INFO - ==================================================\n",
      "\n"
     ]
    },
    {
     "name": "stdout",
     "output_type": "stream",
     "text": [
      "\u001b[1m813/813\u001b[0m \u001b[32m━━━━━━━━━━━━━━━━━━━━\u001b[0m\u001b[37m\u001b[0m \u001b[1m298s\u001b[0m 366ms/step - accuracy: 0.9383 - auc: 0.9112 - f1_score: 0.4450 - loss: 0.0360 - precision: 0.6988 - recall: 0.3659 - val_accuracy: 0.9330 - val_auc: 0.7618 - val_f1_score: 0.1819 - val_loss: 0.0666 - val_precision: 0.2878 - val_recall: 0.1425 - learning_rate: 6.2500e-06\n"
     ]
    },
    {
     "name": "stderr",
     "output_type": "stream",
     "text": [
      "2025-06-17 10:41:26 - INFO - \n",
      "=== Starting Epoch 38 ===\n",
      "\n"
     ]
    },
    {
     "name": "stdout",
     "output_type": "stream",
     "text": [
      "Epoch 38/100\n",
      "\u001b[1m813/813\u001b[0m \u001b[32m━━━━━━━━━━━━━━━━━━━━\u001b[0m\u001b[37m\u001b[0m \u001b[1m0s\u001b[0m 297ms/step - accuracy: 0.9394 - auc: 0.9152 - f1_score: 0.4614 - loss: 0.0352 - precision: 0.7127 - recall: 0.3780   "
     ]
    },
    {
     "name": "stderr",
     "output_type": "stream",
     "text": [
      "2025-06-17 10:45:37 - INFO - \n",
      "=== Epoch 38 Summary ===\n",
      "2025-06-17 10:45:37 - INFO - Time: 251.04s\n",
      "2025-06-17 10:45:37 - INFO - Training   - accuracy: 0.9402 - auc: 0.9172 - f1_score: 0.4649 - loss: 0.0347 - precision: 0.7168 - recall: 0.3818 - learning_rate: 0.0000\n",
      "2025-06-17 10:45:37 - INFO - Validation - accuracy: 0.9344 - auc: 0.7592 - f1_score: 0.2050 - loss: 0.0645 - precision: 0.3293 - recall: 0.1772\n",
      "2025-06-17 10:45:37 - INFO - ==================================================\n",
      "\n"
     ]
    },
    {
     "name": "stdout",
     "output_type": "stream",
     "text": [
      "\u001b[1m813/813\u001b[0m \u001b[32m━━━━━━━━━━━━━━━━━━━━\u001b[0m\u001b[37m\u001b[0m \u001b[1m251s\u001b[0m 309ms/step - accuracy: 0.9394 - auc: 0.9152 - f1_score: 0.4614 - loss: 0.0352 - precision: 0.7127 - recall: 0.3780 - val_accuracy: 0.9344 - val_auc: 0.7592 - val_f1_score: 0.2050 - val_loss: 0.0645 - val_precision: 0.3293 - val_recall: 0.1772 - learning_rate: 3.1250e-06\n"
     ]
    },
    {
     "name": "stderr",
     "output_type": "stream",
     "text": [
      "2025-06-17 10:45:37 - INFO - \n",
      "=== Starting Epoch 39 ===\n",
      "\n"
     ]
    },
    {
     "name": "stdout",
     "output_type": "stream",
     "text": [
      "Epoch 39/100\n",
      "\u001b[1m813/813\u001b[0m \u001b[32m━━━━━━━━━━━━━━━━━━━━\u001b[0m\u001b[37m\u001b[0m \u001b[1m0s\u001b[0m 236ms/step - accuracy: 0.9401 - auc: 0.9174 - f1_score: 0.4671 - loss: 0.0347 - precision: 0.7186 - recall: 0.3837  "
     ]
    },
    {
     "name": "stderr",
     "output_type": "stream",
     "text": [
      "2025-06-17 10:48:59 - INFO - \n",
      "=== Epoch 39 Summary ===\n",
      "2025-06-17 10:48:59 - INFO - Time: 202.39s\n",
      "2025-06-17 10:48:59 - INFO - Training   - accuracy: 0.9407 - auc: 0.9187 - f1_score: 0.4728 - loss: 0.0343 - precision: 0.7202 - recall: 0.3891 - learning_rate: 0.0000\n",
      "2025-06-17 10:48:59 - INFO - Validation - accuracy: 0.9351 - auc: 0.7611 - f1_score: 0.2091 - loss: 0.0643 - precision: 0.3334 - recall: 0.1720\n",
      "2025-06-17 10:48:59 - INFO - ==================================================\n",
      "\n"
     ]
    },
    {
     "name": "stdout",
     "output_type": "stream",
     "text": [
      "\u001b[1m813/813\u001b[0m \u001b[32m━━━━━━━━━━━━━━━━━━━━\u001b[0m\u001b[37m\u001b[0m \u001b[1m202s\u001b[0m 249ms/step - accuracy: 0.9401 - auc: 0.9174 - f1_score: 0.4671 - loss: 0.0347 - precision: 0.7186 - recall: 0.3837 - val_accuracy: 0.9351 - val_auc: 0.7611 - val_f1_score: 0.2091 - val_loss: 0.0643 - val_precision: 0.3334 - val_recall: 0.1720 - learning_rate: 3.1250e-06\n"
     ]
    },
    {
     "name": "stderr",
     "output_type": "stream",
     "text": [
      "2025-06-17 10:49:00 - INFO - \n",
      "=== Starting Epoch 40 ===\n",
      "\n"
     ]
    },
    {
     "name": "stdout",
     "output_type": "stream",
     "text": [
      "Epoch 40/100\n",
      "\u001b[1m813/813\u001b[0m \u001b[32m━━━━━━━━━━━━━━━━━━━━\u001b[0m\u001b[37m\u001b[0m \u001b[1m0s\u001b[0m 235ms/step - accuracy: 0.9407 - auc: 0.9194 - f1_score: 0.4772 - loss: 0.0343 - precision: 0.7209 - recall: 0.3933  "
     ]
    },
    {
     "name": "stderr",
     "output_type": "stream",
     "text": [
      "2025-06-17 10:52:21 - INFO - \n",
      "=== Epoch 40 Summary ===\n",
      "2025-06-17 10:52:21 - INFO - Time: 201.03s\n",
      "2025-06-17 10:52:21 - INFO - Training   - accuracy: 0.9411 - auc: 0.9205 - f1_score: 0.4807 - loss: 0.0339 - precision: 0.7202 - recall: 0.3973 - learning_rate: 0.0000\n",
      "2025-06-17 10:52:21 - INFO - Validation - accuracy: 0.9354 - auc: 0.7593 - f1_score: 0.2042 - loss: 0.0643 - precision: 0.3392 - recall: 0.1755\n",
      "2025-06-17 10:52:21 - INFO - ==================================================\n",
      "\n"
     ]
    },
    {
     "name": "stdout",
     "output_type": "stream",
     "text": [
      "\u001b[1m813/813\u001b[0m \u001b[32m━━━━━━━━━━━━━━━━━━━━\u001b[0m\u001b[37m\u001b[0m \u001b[1m201s\u001b[0m 247ms/step - accuracy: 0.9407 - auc: 0.9194 - f1_score: 0.4772 - loss: 0.0343 - precision: 0.7209 - recall: 0.3933 - val_accuracy: 0.9354 - val_auc: 0.7593 - val_f1_score: 0.2042 - val_loss: 0.0643 - val_precision: 0.3392 - val_recall: 0.1755 - learning_rate: 3.1250e-06\n"
     ]
    },
    {
     "name": "stderr",
     "output_type": "stream",
     "text": [
      "2025-06-17 10:52:21 - INFO - \n",
      "=== Starting Epoch 41 ===\n",
      "\n"
     ]
    },
    {
     "name": "stdout",
     "output_type": "stream",
     "text": [
      "Epoch 41/100\n",
      "\u001b[1m813/813\u001b[0m \u001b[32m━━━━━━━━━━━━━━━━━━━━\u001b[0m\u001b[37m\u001b[0m \u001b[1m0s\u001b[0m 644ms/step - accuracy: 0.9415 - auc: 0.9216 - f1_score: 0.4888 - loss: 0.0339 - precision: 0.7267 - recall: 0.4040  "
     ]
    },
    {
     "name": "stderr",
     "output_type": "stream",
     "text": [
      "2025-06-17 11:01:13 - INFO - \n",
      "=== Epoch 41 Summary ===\n",
      "2025-06-17 11:01:13 - INFO - Time: 532.89s\n",
      "2025-06-17 11:01:13 - INFO - Training   - accuracy: 0.9419 - auc: 0.9226 - f1_score: 0.4901 - loss: 0.0336 - precision: 0.7261 - recall: 0.4057 - learning_rate: 0.0000\n",
      "2025-06-17 11:01:13 - INFO - Validation - accuracy: 0.9361 - auc: 0.7606 - f1_score: 0.1978 - loss: 0.0655 - precision: 0.3425 - recall: 0.1667\n",
      "2025-06-17 11:01:13 - INFO - ==================================================\n",
      "\n"
     ]
    },
    {
     "name": "stdout",
     "output_type": "stream",
     "text": [
      "\u001b[1m813/813\u001b[0m \u001b[32m━━━━━━━━━━━━━━━━━━━━\u001b[0m\u001b[37m\u001b[0m \u001b[1m533s\u001b[0m 656ms/step - accuracy: 0.9415 - auc: 0.9216 - f1_score: 0.4888 - loss: 0.0339 - precision: 0.7267 - recall: 0.4040 - val_accuracy: 0.9361 - val_auc: 0.7606 - val_f1_score: 0.1978 - val_loss: 0.0655 - val_precision: 0.3425 - val_recall: 0.1667 - learning_rate: 3.1250e-06\n"
     ]
    },
    {
     "name": "stderr",
     "output_type": "stream",
     "text": [
      "2025-06-17 11:01:13 - INFO - \n",
      "=== Starting Epoch 42 ===\n",
      "\n"
     ]
    },
    {
     "name": "stdout",
     "output_type": "stream",
     "text": [
      "Epoch 42/100\n",
      "\u001b[1m813/813\u001b[0m \u001b[32m━━━━━━━━━━━━━━━━━━━━\u001b[0m\u001b[37m\u001b[0m \u001b[1m0s\u001b[0m 234ms/step - accuracy: 0.9418 - auc: 0.9235 - f1_score: 0.4933 - loss: 0.0336 - precision: 0.7267 - recall: 0.4088  \n",
      "Epoch 42: ReduceLROnPlateau reducing learning rate to 1.56249996052793e-06.\n"
     ]
    },
    {
     "name": "stderr",
     "output_type": "stream",
     "text": [
      "2025-06-17 11:04:34 - INFO - \n",
      "=== Epoch 42 Summary ===\n",
      "2025-06-17 11:04:34 - INFO - Time: 200.96s\n",
      "2025-06-17 11:04:34 - INFO - Training   - accuracy: 0.9421 - auc: 0.9246 - f1_score: 0.4945 - loss: 0.0333 - precision: 0.7262 - recall: 0.4109 - learning_rate: 0.0000\n",
      "2025-06-17 11:04:34 - INFO - Validation - accuracy: 0.9369 - auc: 0.7636 - f1_score: 0.1922 - loss: 0.0650 - precision: 0.3438 - recall: 0.1532\n",
      "2025-06-17 11:04:34 - INFO - ==================================================\n",
      "\n"
     ]
    },
    {
     "name": "stdout",
     "output_type": "stream",
     "text": [
      "\u001b[1m813/813\u001b[0m \u001b[32m━━━━━━━━━━━━━━━━━━━━\u001b[0m\u001b[37m\u001b[0m \u001b[1m201s\u001b[0m 247ms/step - accuracy: 0.9418 - auc: 0.9235 - f1_score: 0.4933 - loss: 0.0336 - precision: 0.7267 - recall: 0.4088 - val_accuracy: 0.9369 - val_auc: 0.7636 - val_f1_score: 0.1922 - val_loss: 0.0650 - val_precision: 0.3438 - val_recall: 0.1532 - learning_rate: 3.1250e-06\n"
     ]
    },
    {
     "name": "stderr",
     "output_type": "stream",
     "text": [
      "2025-06-17 11:04:34 - INFO - \n",
      "=== Starting Epoch 43 ===\n",
      "\n"
     ]
    },
    {
     "name": "stdout",
     "output_type": "stream",
     "text": [
      "Epoch 43/100\n",
      "\u001b[1m813/813\u001b[0m \u001b[32m━━━━━━━━━━━━━━━━━━━━\u001b[0m\u001b[37m\u001b[0m \u001b[1m0s\u001b[0m 237ms/step - accuracy: 0.9427 - auc: 0.9264 - f1_score: 0.4999 - loss: 0.0329 - precision: 0.7326 - recall: 0.4145  "
     ]
    },
    {
     "name": "stderr",
     "output_type": "stream",
     "text": [
      "2025-06-17 11:07:58 - INFO - \n",
      "=== Epoch 43 Summary ===\n",
      "2025-06-17 11:07:58 - INFO - Time: 203.52s\n",
      "2025-06-17 11:07:58 - INFO - Training   - accuracy: 0.9429 - auc: 0.9273 - f1_score: 0.5032 - loss: 0.0327 - precision: 0.7351 - recall: 0.4175 - learning_rate: 0.0000\n",
      "2025-06-17 11:07:58 - INFO - Validation - accuracy: 0.9344 - auc: 0.7589 - f1_score: 0.2141 - loss: 0.0642 - precision: 0.3338 - recall: 0.1857\n",
      "2025-06-17 11:07:58 - INFO - ==================================================\n",
      "\n"
     ]
    },
    {
     "name": "stdout",
     "output_type": "stream",
     "text": [
      "\u001b[1m813/813\u001b[0m \u001b[32m━━━━━━━━━━━━━━━━━━━━\u001b[0m\u001b[37m\u001b[0m \u001b[1m204s\u001b[0m 250ms/step - accuracy: 0.9427 - auc: 0.9264 - f1_score: 0.4999 - loss: 0.0329 - precision: 0.7326 - recall: 0.4145 - val_accuracy: 0.9344 - val_auc: 0.7589 - val_f1_score: 0.2141 - val_loss: 0.0642 - val_precision: 0.3338 - val_recall: 0.1857 - learning_rate: 1.5625e-06\n"
     ]
    },
    {
     "name": "stderr",
     "output_type": "stream",
     "text": [
      "2025-06-17 11:07:58 - INFO - \n",
      "=== Starting Epoch 44 ===\n",
      "\n"
     ]
    },
    {
     "name": "stdout",
     "output_type": "stream",
     "text": [
      "Epoch 44/100\n",
      "\u001b[1m813/813\u001b[0m \u001b[32m━━━━━━━━━━━━━━━━━━━━\u001b[0m\u001b[37m\u001b[0m \u001b[1m0s\u001b[0m 235ms/step - accuracy: 0.9431 - auc: 0.9273 - f1_score: 0.5060 - loss: 0.0328 - precision: 0.7349 - recall: 0.4202  "
     ]
    },
    {
     "name": "stderr",
     "output_type": "stream",
     "text": [
      "2025-06-17 11:11:20 - INFO - \n",
      "=== Epoch 44 Summary ===\n",
      "2025-06-17 11:11:20 - INFO - Time: 201.93s\n",
      "2025-06-17 11:11:20 - INFO - Training   - accuracy: 0.9434 - auc: 0.9283 - f1_score: 0.5095 - loss: 0.0325 - precision: 0.7377 - recall: 0.4240 - learning_rate: 0.0000\n",
      "2025-06-17 11:11:20 - INFO - Validation - accuracy: 0.9347 - auc: 0.7613 - f1_score: 0.2151 - loss: 0.0644 - precision: 0.3318 - recall: 0.1771\n",
      "2025-06-17 11:11:20 - INFO - ==================================================\n",
      "\n"
     ]
    },
    {
     "name": "stdout",
     "output_type": "stream",
     "text": [
      "\u001b[1m813/813\u001b[0m \u001b[32m━━━━━━━━━━━━━━━━━━━━\u001b[0m\u001b[37m\u001b[0m \u001b[1m202s\u001b[0m 248ms/step - accuracy: 0.9431 - auc: 0.9273 - f1_score: 0.5060 - loss: 0.0328 - precision: 0.7349 - recall: 0.4202 - val_accuracy: 0.9347 - val_auc: 0.7613 - val_f1_score: 0.2151 - val_loss: 0.0644 - val_precision: 0.3318 - val_recall: 0.1771 - learning_rate: 1.5625e-06\n"
     ]
    },
    {
     "name": "stderr",
     "output_type": "stream",
     "text": [
      "2025-06-17 11:11:20 - INFO - \n",
      "=== Starting Epoch 45 ===\n",
      "\n"
     ]
    },
    {
     "name": "stdout",
     "output_type": "stream",
     "text": [
      "Epoch 45/100\n",
      "\u001b[1m813/813\u001b[0m \u001b[32m━━━━━━━━━━━━━━━━━━━━\u001b[0m\u001b[37m\u001b[0m \u001b[1m0s\u001b[0m 649ms/step - accuracy: 0.9433 - auc: 0.9284 - f1_score: 0.5088 - loss: 0.0324 - precision: 0.7341 - recall: 0.4246  "
     ]
    },
    {
     "name": "stderr",
     "output_type": "stream",
     "text": [
      "2025-06-17 11:20:17 - INFO - \n",
      "=== Epoch 45 Summary ===\n",
      "2025-06-17 11:20:17 - INFO - Time: 536.99s\n",
      "2025-06-17 11:20:17 - INFO - Training   - accuracy: 0.9437 - auc: 0.9291 - f1_score: 0.5123 - loss: 0.0322 - precision: 0.7374 - recall: 0.4276 - learning_rate: 0.0000\n",
      "2025-06-17 11:20:17 - INFO - Validation - accuracy: 0.9349 - auc: 0.7594 - f1_score: 0.2045 - loss: 0.0667 - precision: 0.3268 - recall: 0.1654\n",
      "2025-06-17 11:20:17 - INFO - ==================================================\n",
      "\n"
     ]
    },
    {
     "name": "stdout",
     "output_type": "stream",
     "text": [
      "\u001b[1m813/813\u001b[0m \u001b[32m━━━━━━━━━━━━━━━━━━━━\u001b[0m\u001b[37m\u001b[0m \u001b[1m537s\u001b[0m 661ms/step - accuracy: 0.9433 - auc: 0.9284 - f1_score: 0.5088 - loss: 0.0324 - precision: 0.7341 - recall: 0.4246 - val_accuracy: 0.9349 - val_auc: 0.7594 - val_f1_score: 0.2045 - val_loss: 0.0667 - val_precision: 0.3268 - val_recall: 0.1654 - learning_rate: 1.5625e-06\n"
     ]
    },
    {
     "name": "stderr",
     "output_type": "stream",
     "text": [
      "2025-06-17 11:20:17 - INFO - \n",
      "=== Starting Epoch 46 ===\n",
      "\n"
     ]
    },
    {
     "name": "stdout",
     "output_type": "stream",
     "text": [
      "Epoch 46/100\n",
      "\u001b[1m813/813\u001b[0m \u001b[32m━━━━━━━━━━━━━━━━━━━━\u001b[0m\u001b[37m\u001b[0m \u001b[1m0s\u001b[0m 234ms/step - accuracy: 0.9436 - auc: 0.9295 - f1_score: 0.5126 - loss: 0.0322 - precision: 0.7392 - recall: 0.4265  "
     ]
    },
    {
     "name": "stderr",
     "output_type": "stream",
     "text": [
      "2025-06-17 11:23:38 - INFO - \n",
      "=== Epoch 46 Summary ===\n",
      "2025-06-17 11:23:38 - INFO - Time: 200.75s\n",
      "2025-06-17 11:23:38 - INFO - Training   - accuracy: 0.9437 - auc: 0.9302 - f1_score: 0.5154 - loss: 0.0321 - precision: 0.7372 - recall: 0.4305 - learning_rate: 0.0000\n",
      "2025-06-17 11:23:38 - INFO - Validation - accuracy: 0.9355 - auc: 0.7623 - f1_score: 0.2037 - loss: 0.0662 - precision: 0.3321 - recall: 0.1622\n",
      "2025-06-17 11:23:38 - INFO - ==================================================\n",
      "\n"
     ]
    },
    {
     "name": "stdout",
     "output_type": "stream",
     "text": [
      "\u001b[1m813/813\u001b[0m \u001b[32m━━━━━━━━━━━━━━━━━━━━\u001b[0m\u001b[37m\u001b[0m \u001b[1m201s\u001b[0m 247ms/step - accuracy: 0.9436 - auc: 0.9295 - f1_score: 0.5126 - loss: 0.0322 - precision: 0.7392 - recall: 0.4265 - val_accuracy: 0.9355 - val_auc: 0.7623 - val_f1_score: 0.2037 - val_loss: 0.0662 - val_precision: 0.3321 - val_recall: 0.1622 - learning_rate: 1.5625e-06\n"
     ]
    },
    {
     "name": "stderr",
     "output_type": "stream",
     "text": [
      "2025-06-17 11:23:38 - INFO - \n",
      "=== Starting Epoch 47 ===\n",
      "\n"
     ]
    },
    {
     "name": "stdout",
     "output_type": "stream",
     "text": [
      "Epoch 47/100\n",
      "\u001b[1m813/813\u001b[0m \u001b[32m━━━━━━━━━━━━━━━━━━━━\u001b[0m\u001b[37m\u001b[0m \u001b[1m0s\u001b[0m 236ms/step - accuracy: 0.9440 - auc: 0.9303 - f1_score: 0.5176 - loss: 0.0320 - precision: 0.7392 - recall: 0.4314  "
     ]
    },
    {
     "name": "stderr",
     "output_type": "stream",
     "text": [
      "2025-06-17 11:27:00 - INFO - \n",
      "=== Epoch 47 Summary ===\n",
      "2025-06-17 11:27:00 - INFO - Time: 202.79s\n",
      "2025-06-17 11:27:00 - INFO - Training   - accuracy: 0.9441 - auc: 0.9310 - f1_score: 0.5201 - loss: 0.0320 - precision: 0.7402 - recall: 0.4341 - learning_rate: 0.0000\n",
      "2025-06-17 11:27:00 - INFO - Validation - accuracy: 0.9343 - auc: 0.7594 - f1_score: 0.2211 - loss: 0.0656 - precision: 0.3328 - recall: 0.1856\n",
      "2025-06-17 11:27:00 - INFO - ==================================================\n",
      "\n"
     ]
    },
    {
     "name": "stdout",
     "output_type": "stream",
     "text": [
      "\u001b[1m813/813\u001b[0m \u001b[32m━━━━━━━━━━━━━━━━━━━━\u001b[0m\u001b[37m\u001b[0m \u001b[1m203s\u001b[0m 250ms/step - accuracy: 0.9440 - auc: 0.9303 - f1_score: 0.5176 - loss: 0.0320 - precision: 0.7392 - recall: 0.4314 - val_accuracy: 0.9343 - val_auc: 0.7594 - val_f1_score: 0.2211 - val_loss: 0.0656 - val_precision: 0.3328 - val_recall: 0.1856 - learning_rate: 1.5625e-06\n"
     ]
    },
    {
     "name": "stderr",
     "output_type": "stream",
     "text": [
      "2025-06-17 11:27:00 - INFO - \n",
      "=== Starting Epoch 48 ===\n",
      "\n"
     ]
    },
    {
     "name": "stdout",
     "output_type": "stream",
     "text": [
      "Epoch 48/100\n",
      "\u001b[1m813/813\u001b[0m \u001b[32m━━━━━━━━━━━━━━━━━━━━\u001b[0m\u001b[37m\u001b[0m \u001b[1m0s\u001b[0m 235ms/step - accuracy: 0.9445 - auc: 0.9313 - f1_score: 0.5236 - loss: 0.0318 - precision: 0.7431 - recall: 0.4377  "
     ]
    },
    {
     "name": "stderr",
     "output_type": "stream",
     "text": [
      "2025-06-17 11:30:21 - INFO - \n",
      "=== Epoch 48 Summary ===\n",
      "2025-06-17 11:30:21 - INFO - Time: 200.98s\n",
      "2025-06-17 11:30:21 - INFO - Training   - accuracy: 0.9447 - auc: 0.9321 - f1_score: 0.5253 - loss: 0.0316 - precision: 0.7430 - recall: 0.4399 - learning_rate: 0.0000\n",
      "2025-06-17 11:30:21 - INFO - Validation - accuracy: 0.9329 - auc: 0.7598 - f1_score: 0.2192 - loss: 0.0671 - precision: 0.3150 - recall: 0.1800\n",
      "2025-06-17 11:30:21 - INFO - ==================================================\n",
      "\n"
     ]
    },
    {
     "name": "stdout",
     "output_type": "stream",
     "text": [
      "\u001b[1m813/813\u001b[0m \u001b[32m━━━━━━━━━━━━━━━━━━━━\u001b[0m\u001b[37m\u001b[0m \u001b[1m201s\u001b[0m 247ms/step - accuracy: 0.9445 - auc: 0.9313 - f1_score: 0.5236 - loss: 0.0318 - precision: 0.7431 - recall: 0.4377 - val_accuracy: 0.9329 - val_auc: 0.7598 - val_f1_score: 0.2192 - val_loss: 0.0671 - val_precision: 0.3150 - val_recall: 0.1800 - learning_rate: 1.5625e-06\n"
     ]
    },
    {
     "name": "stderr",
     "output_type": "stream",
     "text": [
      "2025-06-17 11:30:21 - INFO - \n",
      "=== Starting Epoch 49 ===\n",
      "\n"
     ]
    },
    {
     "name": "stdout",
     "output_type": "stream",
     "text": [
      "Epoch 49/100\n",
      "\u001b[1m813/813\u001b[0m \u001b[32m━━━━━━━━━━━━━━━━━━━━\u001b[0m\u001b[37m\u001b[0m \u001b[1m0s\u001b[0m 293ms/step - accuracy: 0.9444 - auc: 0.9322 - f1_score: 0.5277 - loss: 0.0317 - precision: 0.7456 - recall: 0.4409   "
     ]
    },
    {
     "name": "stderr",
     "output_type": "stream",
     "text": [
      "2025-06-17 11:34:30 - INFO - \n",
      "=== Epoch 49 Summary ===\n",
      "2025-06-17 11:34:30 - INFO - Time: 248.63s\n",
      "2025-06-17 11:34:30 - INFO - Training   - accuracy: 0.9447 - auc: 0.9330 - f1_score: 0.5280 - loss: 0.0315 - precision: 0.7439 - recall: 0.4426 - learning_rate: 0.0000\n",
      "2025-06-17 11:34:30 - INFO - Validation - accuracy: 0.9342 - auc: 0.7599 - f1_score: 0.2112 - loss: 0.0658 - precision: 0.3330 - recall: 0.1884\n",
      "2025-06-17 11:34:30 - INFO - ==================================================\n",
      "\n"
     ]
    },
    {
     "name": "stdout",
     "output_type": "stream",
     "text": [
      "\u001b[1m813/813\u001b[0m \u001b[32m━━━━━━━━━━━━━━━━━━━━\u001b[0m\u001b[37m\u001b[0m \u001b[1m249s\u001b[0m 306ms/step - accuracy: 0.9444 - auc: 0.9322 - f1_score: 0.5277 - loss: 0.0317 - precision: 0.7456 - recall: 0.4409 - val_accuracy: 0.9342 - val_auc: 0.7599 - val_f1_score: 0.2112 - val_loss: 0.0658 - val_precision: 0.3330 - val_recall: 0.1884 - learning_rate: 1.5625e-06\n"
     ]
    },
    {
     "name": "stderr",
     "output_type": "stream",
     "text": [
      "2025-06-17 11:34:30 - INFO - \n",
      "=== Starting Epoch 50 ===\n",
      "\n"
     ]
    },
    {
     "name": "stdout",
     "output_type": "stream",
     "text": [
      "Epoch 50/100\n",
      "\u001b[1m813/813\u001b[0m \u001b[32m━━━━━━━━━━━━━━━━━━━━\u001b[0m\u001b[37m\u001b[0m \u001b[1m0s\u001b[0m 362ms/step - accuracy: 0.9445 - auc: 0.9329 - f1_score: 0.5254 - loss: 0.0314 - precision: 0.7394 - recall: 0.4403   \n",
      "Epoch 50: ReduceLROnPlateau reducing learning rate to 1e-06.\n"
     ]
    },
    {
     "name": "stderr",
     "output_type": "stream",
     "text": [
      "2025-06-17 11:39:35 - INFO - \n",
      "=== Epoch 50 Summary ===\n",
      "2025-06-17 11:39:35 - INFO - Time: 304.72s\n",
      "2025-06-17 11:39:35 - INFO - Training   - accuracy: 0.9449 - auc: 0.9338 - f1_score: 0.5311 - loss: 0.0313 - precision: 0.7436 - recall: 0.4456 - learning_rate: 0.0000\n",
      "2025-06-17 11:39:35 - INFO - Validation - accuracy: 0.9348 - auc: 0.7587 - f1_score: 0.2192 - loss: 0.0663 - precision: 0.3389 - recall: 0.1863\n",
      "2025-06-17 11:39:35 - INFO - ==================================================\n",
      "\n"
     ]
    },
    {
     "name": "stdout",
     "output_type": "stream",
     "text": [
      "\u001b[1m813/813\u001b[0m \u001b[32m━━━━━━━━━━━━━━━━━━━━\u001b[0m\u001b[37m\u001b[0m \u001b[1m305s\u001b[0m 375ms/step - accuracy: 0.9445 - auc: 0.9329 - f1_score: 0.5254 - loss: 0.0314 - precision: 0.7394 - recall: 0.4403 - val_accuracy: 0.9348 - val_auc: 0.7587 - val_f1_score: 0.2192 - val_loss: 0.0663 - val_precision: 0.3389 - val_recall: 0.1863 - learning_rate: 1.5625e-06\n"
     ]
    },
    {
     "name": "stderr",
     "output_type": "stream",
     "text": [
      "2025-06-17 11:39:35 - INFO - \n",
      "=== Starting Epoch 51 ===\n",
      "\n"
     ]
    },
    {
     "name": "stdout",
     "output_type": "stream",
     "text": [
      "Epoch 51/100\n",
      "\u001b[1m813/813\u001b[0m \u001b[32m━━━━━━━━━━━━━━━━━━━━\u001b[0m\u001b[37m\u001b[0m \u001b[1m0s\u001b[0m 236ms/step - accuracy: 0.9452 - auc: 0.9338 - f1_score: 0.5345 - loss: 0.0314 - precision: 0.7467 - recall: 0.4487  "
     ]
    },
    {
     "name": "stderr",
     "output_type": "stream",
     "text": [
      "2025-06-17 11:42:57 - INFO - \n",
      "=== Epoch 51 Summary ===\n",
      "2025-06-17 11:42:57 - INFO - Time: 202.14s\n",
      "2025-06-17 11:42:57 - INFO - Training   - accuracy: 0.9454 - auc: 0.9347 - f1_score: 0.5367 - loss: 0.0312 - precision: 0.7471 - recall: 0.4513 - learning_rate: 0.0000\n",
      "2025-06-17 11:42:57 - INFO - Validation - accuracy: 0.9349 - auc: 0.7602 - f1_score: 0.2144 - loss: 0.0658 - precision: 0.3357 - recall: 0.1793\n",
      "2025-06-17 11:42:57 - INFO - ==================================================\n",
      "\n"
     ]
    },
    {
     "name": "stdout",
     "output_type": "stream",
     "text": [
      "\u001b[1m813/813\u001b[0m \u001b[32m━━━━━━━━━━━━━━━━━━━━\u001b[0m\u001b[37m\u001b[0m \u001b[1m202s\u001b[0m 249ms/step - accuracy: 0.9452 - auc: 0.9338 - f1_score: 0.5345 - loss: 0.0314 - precision: 0.7467 - recall: 0.4487 - val_accuracy: 0.9349 - val_auc: 0.7602 - val_f1_score: 0.2144 - val_loss: 0.0658 - val_precision: 0.3357 - val_recall: 0.1793 - learning_rate: 1.0000e-06\n"
     ]
    },
    {
     "name": "stderr",
     "output_type": "stream",
     "text": [
      "2025-06-17 11:42:57 - INFO - \n",
      "=== Starting Epoch 52 ===\n",
      "\n"
     ]
    },
    {
     "name": "stdout",
     "output_type": "stream",
     "text": [
      "Epoch 52/100\n",
      "\u001b[1m813/813\u001b[0m \u001b[32m━━━━━━━━━━━━━━━━━━━━\u001b[0m\u001b[37m\u001b[0m \u001b[1m0s\u001b[0m 235ms/step - accuracy: 0.9456 - auc: 0.9344 - f1_score: 0.5366 - loss: 0.0310 - precision: 0.7504 - recall: 0.4502  "
     ]
    },
    {
     "name": "stderr",
     "output_type": "stream",
     "text": [
      "2025-06-17 11:46:20 - INFO - \n",
      "=== Epoch 52 Summary ===\n",
      "2025-06-17 11:46:20 - INFO - Time: 202.65s\n",
      "2025-06-17 11:46:20 - INFO - Training   - accuracy: 0.9457 - auc: 0.9356 - f1_score: 0.5394 - loss: 0.0310 - precision: 0.7503 - recall: 0.4535 - learning_rate: 0.0000\n",
      "2025-06-17 11:46:20 - INFO - Validation - accuracy: 0.9338 - auc: 0.7582 - f1_score: 0.2237 - loss: 0.0656 - precision: 0.3307 - recall: 0.1899\n",
      "2025-06-17 11:46:20 - INFO - ==================================================\n",
      "\n"
     ]
    },
    {
     "name": "stdout",
     "output_type": "stream",
     "text": [
      "\u001b[1m813/813\u001b[0m \u001b[32m━━━━━━━━━━━━━━━━━━━━\u001b[0m\u001b[37m\u001b[0m \u001b[1m203s\u001b[0m 249ms/step - accuracy: 0.9456 - auc: 0.9344 - f1_score: 0.5366 - loss: 0.0310 - precision: 0.7504 - recall: 0.4503 - val_accuracy: 0.9338 - val_auc: 0.7582 - val_f1_score: 0.2237 - val_loss: 0.0656 - val_precision: 0.3307 - val_recall: 0.1899 - learning_rate: 1.0000e-06\n"
     ]
    },
    {
     "name": "stderr",
     "output_type": "stream",
     "text": [
      "2025-06-17 11:46:20 - INFO - \n",
      "=== Starting Epoch 53 ===\n",
      "\n"
     ]
    },
    {
     "name": "stdout",
     "output_type": "stream",
     "text": [
      "Epoch 53/100\n",
      "\u001b[1m813/813\u001b[0m \u001b[32m━━━━━━━━━━━━━━━━━━━━\u001b[0m\u001b[37m\u001b[0m \u001b[1m0s\u001b[0m 661ms/step - accuracy: 0.9457 - auc: 0.9362 - f1_score: 0.5402 - loss: 0.0309 - precision: 0.7518 - recall: 0.4542  "
     ]
    },
    {
     "name": "stderr",
     "output_type": "stream",
     "text": [
      "2025-06-17 11:55:27 - INFO - \n",
      "=== Epoch 53 Summary ===\n",
      "2025-06-17 11:55:27 - INFO - Time: 546.83s\n",
      "2025-06-17 11:55:27 - INFO - Training   - accuracy: 0.9459 - auc: 0.9364 - f1_score: 0.5416 - loss: 0.0309 - precision: 0.7505 - recall: 0.4559 - learning_rate: 0.0000\n",
      "2025-06-17 11:55:27 - INFO - Validation - accuracy: 0.9343 - auc: 0.7577 - f1_score: 0.2149 - loss: 0.0666 - precision: 0.3283 - recall: 0.1781\n",
      "2025-06-17 11:55:27 - INFO - ==================================================\n",
      "\n"
     ]
    },
    {
     "name": "stdout",
     "output_type": "stream",
     "text": [
      "\u001b[1m813/813\u001b[0m \u001b[32m━━━━━━━━━━━━━━━━━━━━\u001b[0m\u001b[37m\u001b[0m \u001b[1m547s\u001b[0m 673ms/step - accuracy: 0.9457 - auc: 0.9362 - f1_score: 0.5402 - loss: 0.0309 - precision: 0.7518 - recall: 0.4542 - val_accuracy: 0.9343 - val_auc: 0.7577 - val_f1_score: 0.2149 - val_loss: 0.0666 - val_precision: 0.3283 - val_recall: 0.1781 - learning_rate: 1.0000e-06\n"
     ]
    },
    {
     "name": "stderr",
     "output_type": "stream",
     "text": [
      "2025-06-17 11:55:27 - INFO - \n",
      "=== Starting Epoch 54 ===\n",
      "\n"
     ]
    },
    {
     "name": "stdout",
     "output_type": "stream",
     "text": [
      "Epoch 54/100\n",
      "\u001b[1m813/813\u001b[0m \u001b[32m━━━━━━━━━━━━━━━━━━━━\u001b[0m\u001b[37m\u001b[0m \u001b[1m0s\u001b[0m 357ms/step - accuracy: 0.9454 - auc: 0.9358 - f1_score: 0.5399 - loss: 0.0311 - precision: 0.7495 - recall: 0.4535   "
     ]
    },
    {
     "name": "stderr",
     "output_type": "stream",
     "text": [
      "2025-06-17 12:00:28 - INFO - \n",
      "=== Epoch 54 Summary ===\n",
      "2025-06-17 12:00:28 - INFO - Time: 301.27s\n",
      "2025-06-17 12:00:28 - INFO - Training   - accuracy: 0.9460 - auc: 0.9364 - f1_score: 0.5431 - loss: 0.0309 - precision: 0.7511 - recall: 0.4571 - learning_rate: 0.0000\n",
      "2025-06-17 12:00:28 - INFO - Validation - accuracy: 0.9344 - auc: 0.7606 - f1_score: 0.2289 - loss: 0.0660 - precision: 0.3370 - recall: 0.1914\n",
      "2025-06-17 12:00:28 - INFO - ==================================================\n",
      "\n"
     ]
    },
    {
     "name": "stdout",
     "output_type": "stream",
     "text": [
      "\u001b[1m813/813\u001b[0m \u001b[32m━━━━━━━━━━━━━━━━━━━━\u001b[0m\u001b[37m\u001b[0m \u001b[1m301s\u001b[0m 371ms/step - accuracy: 0.9454 - auc: 0.9358 - f1_score: 0.5399 - loss: 0.0311 - precision: 0.7495 - recall: 0.4535 - val_accuracy: 0.9344 - val_auc: 0.7606 - val_f1_score: 0.2289 - val_loss: 0.0660 - val_precision: 0.3370 - val_recall: 0.1914 - learning_rate: 1.0000e-06\n"
     ]
    },
    {
     "name": "stderr",
     "output_type": "stream",
     "text": [
      "2025-06-17 12:00:28 - INFO - \n",
      "=== Starting Epoch 55 ===\n",
      "\n"
     ]
    },
    {
     "name": "stdout",
     "output_type": "stream",
     "text": [
      "Epoch 55/100\n",
      "\u001b[1m813/813\u001b[0m \u001b[32m━━━━━━━━━━━━━━━━━━━━\u001b[0m\u001b[37m\u001b[0m \u001b[1m0s\u001b[0m 359ms/step - accuracy: 0.9460 - auc: 0.9371 - f1_score: 0.5455 - loss: 0.0308 - precision: 0.7522 - recall: 0.4606   "
     ]
    },
    {
     "name": "stderr",
     "output_type": "stream",
     "text": [
      "2025-06-17 12:05:30 - INFO - \n",
      "=== Epoch 55 Summary ===\n",
      "2025-06-17 12:05:30 - INFO - Time: 302.06s\n",
      "2025-06-17 12:05:30 - INFO - Training   - accuracy: 0.9463 - auc: 0.9376 - f1_score: 0.5464 - loss: 0.0307 - precision: 0.7518 - recall: 0.4614 - learning_rate: 0.0000\n",
      "2025-06-17 12:05:30 - INFO - Validation - accuracy: 0.9336 - auc: 0.7598 - f1_score: 0.2205 - loss: 0.0670 - precision: 0.3234 - recall: 0.1815\n",
      "2025-06-17 12:05:30 - INFO - ==================================================\n",
      "\n"
     ]
    },
    {
     "name": "stdout",
     "output_type": "stream",
     "text": [
      "\u001b[1m813/813\u001b[0m \u001b[32m━━━━━━━━━━━━━━━━━━━━\u001b[0m\u001b[37m\u001b[0m \u001b[1m302s\u001b[0m 372ms/step - accuracy: 0.9460 - auc: 0.9371 - f1_score: 0.5455 - loss: 0.0308 - precision: 0.7522 - recall: 0.4606 - val_accuracy: 0.9336 - val_auc: 0.7598 - val_f1_score: 0.2205 - val_loss: 0.0670 - val_precision: 0.3234 - val_recall: 0.1815 - learning_rate: 1.0000e-06\n"
     ]
    },
    {
     "name": "stderr",
     "output_type": "stream",
     "text": [
      "2025-06-17 12:05:30 - INFO - \n",
      "=== Starting Epoch 56 ===\n",
      "\n"
     ]
    },
    {
     "name": "stdout",
     "output_type": "stream",
     "text": [
      "Epoch 56/100\n",
      "\u001b[1m813/813\u001b[0m \u001b[32m━━━━━━━━━━━━━━━━━━━━\u001b[0m\u001b[37m\u001b[0m \u001b[1m0s\u001b[0m 363ms/step - accuracy: 0.9465 - auc: 0.9370 - f1_score: 0.5536 - loss: 0.0308 - precision: 0.7553 - recall: 0.4675   "
     ]
    },
    {
     "name": "stderr",
     "output_type": "stream",
     "text": [
      "2025-06-17 12:10:35 - INFO - \n",
      "=== Epoch 56 Summary ===\n",
      "2025-06-17 12:10:35 - INFO - Time: 305.07s\n",
      "2025-06-17 12:10:35 - INFO - Training   - accuracy: 0.9465 - auc: 0.9377 - f1_score: 0.5523 - loss: 0.0307 - precision: 0.7532 - recall: 0.4670 - learning_rate: 0.0000\n",
      "2025-06-17 12:10:35 - INFO - Validation - accuracy: 0.9347 - auc: 0.7603 - f1_score: 0.2233 - loss: 0.0666 - precision: 0.3395 - recall: 0.1890\n",
      "2025-06-17 12:10:35 - INFO - ==================================================\n",
      "\n"
     ]
    },
    {
     "name": "stdout",
     "output_type": "stream",
     "text": [
      "\u001b[1m813/813\u001b[0m \u001b[32m━━━━━━━━━━━━━━━━━━━━\u001b[0m\u001b[37m\u001b[0m \u001b[1m305s\u001b[0m 375ms/step - accuracy: 0.9465 - auc: 0.9370 - f1_score: 0.5536 - loss: 0.0308 - precision: 0.7553 - recall: 0.4675 - val_accuracy: 0.9347 - val_auc: 0.7603 - val_f1_score: 0.2233 - val_loss: 0.0666 - val_precision: 0.3395 - val_recall: 0.1890 - learning_rate: 1.0000e-06\n"
     ]
    },
    {
     "name": "stderr",
     "output_type": "stream",
     "text": [
      "2025-06-17 12:10:35 - INFO - \n",
      "=== Starting Epoch 57 ===\n",
      "\n"
     ]
    },
    {
     "name": "stdout",
     "output_type": "stream",
     "text": [
      "Epoch 57/100\n",
      "\u001b[1m813/813\u001b[0m \u001b[32m━━━━━━━━━━━━━━━━━━━━\u001b[0m\u001b[37m\u001b[0m \u001b[1m0s\u001b[0m 236ms/step - accuracy: 0.9465 - auc: 0.9377 - f1_score: 0.5502 - loss: 0.0306 - precision: 0.7498 - recall: 0.4658  "
     ]
    },
    {
     "name": "stderr",
     "output_type": "stream",
     "text": [
      "2025-06-17 12:13:58 - INFO - \n",
      "=== Epoch 57 Summary ===\n",
      "2025-06-17 12:13:58 - INFO - Time: 202.64s\n",
      "2025-06-17 12:13:58 - INFO - Training   - accuracy: 0.9464 - auc: 0.9378 - f1_score: 0.5501 - loss: 0.0305 - precision: 0.7506 - recall: 0.4654 - learning_rate: 0.0000\n",
      "2025-06-17 12:13:58 - INFO - Validation - accuracy: 0.9327 - auc: 0.7586 - f1_score: 0.2227 - loss: 0.0673 - precision: 0.3172 - recall: 0.1867\n",
      "2025-06-17 12:13:58 - INFO - ==================================================\n",
      "\n"
     ]
    },
    {
     "name": "stdout",
     "output_type": "stream",
     "text": [
      "\u001b[1m813/813\u001b[0m \u001b[32m━━━━━━━━━━━━━━━━━━━━\u001b[0m\u001b[37m\u001b[0m \u001b[1m203s\u001b[0m 249ms/step - accuracy: 0.9465 - auc: 0.9377 - f1_score: 0.5502 - loss: 0.0306 - precision: 0.7498 - recall: 0.4658 - val_accuracy: 0.9327 - val_auc: 0.7586 - val_f1_score: 0.2227 - val_loss: 0.0673 - val_precision: 0.3172 - val_recall: 0.1867 - learning_rate: 1.0000e-06\n"
     ]
    },
    {
     "name": "stderr",
     "output_type": "stream",
     "text": [
      "2025-06-17 12:13:58 - INFO - \n",
      "=== Starting Epoch 58 ===\n",
      "\n"
     ]
    },
    {
     "name": "stdout",
     "output_type": "stream",
     "text": [
      "Epoch 58/100\n",
      "\u001b[1m813/813\u001b[0m \u001b[32m━━━━━━━━━━━━━━━━━━━━\u001b[0m\u001b[37m\u001b[0m \u001b[1m0s\u001b[0m 235ms/step - accuracy: 0.9471 - auc: 0.9383 - f1_score: 0.5580 - loss: 0.0303 - precision: 0.7592 - recall: 0.4716  "
     ]
    },
    {
     "name": "stderr",
     "output_type": "stream",
     "text": [
      "2025-06-17 12:17:19 - INFO - \n",
      "=== Epoch 58 Summary ===\n",
      "2025-06-17 12:17:19 - INFO - Time: 201.45s\n",
      "2025-06-17 12:17:19 - INFO - Training   - accuracy: 0.9471 - auc: 0.9386 - f1_score: 0.5565 - loss: 0.0304 - precision: 0.7579 - recall: 0.4705 - learning_rate: 0.0000\n",
      "2025-06-17 12:17:19 - INFO - Validation - accuracy: 0.9332 - auc: 0.7600 - f1_score: 0.2261 - loss: 0.0673 - precision: 0.3219 - recall: 0.1866\n",
      "2025-06-17 12:17:19 - INFO - ==================================================\n",
      "\n"
     ]
    },
    {
     "name": "stdout",
     "output_type": "stream",
     "text": [
      "\u001b[1m813/813\u001b[0m \u001b[32m━━━━━━━━━━━━━━━━━━━━\u001b[0m\u001b[37m\u001b[0m \u001b[1m201s\u001b[0m 248ms/step - accuracy: 0.9471 - auc: 0.9383 - f1_score: 0.5580 - loss: 0.0303 - precision: 0.7592 - recall: 0.4716 - val_accuracy: 0.9332 - val_auc: 0.7600 - val_f1_score: 0.2261 - val_loss: 0.0673 - val_precision: 0.3219 - val_recall: 0.1866 - learning_rate: 1.0000e-06\n"
     ]
    },
    {
     "name": "stderr",
     "output_type": "stream",
     "text": [
      "2025-06-17 12:17:19 - INFO - \n",
      "=== Starting Epoch 59 ===\n",
      "\n"
     ]
    },
    {
     "name": "stdout",
     "output_type": "stream",
     "text": [
      "Epoch 59/100\n",
      "\u001b[1m813/813\u001b[0m \u001b[32m━━━━━━━━━━━━━━━━━━━━\u001b[0m\u001b[37m\u001b[0m \u001b[1m0s\u001b[0m 665ms/step - accuracy: 0.9466 - auc: 0.9384 - f1_score: 0.5524 - loss: 0.0304 - precision: 0.7538 - recall: 0.4666  "
     ]
    },
    {
     "name": "stderr",
     "output_type": "stream",
     "text": [
      "2025-06-17 12:26:29 - INFO - \n",
      "=== Epoch 59 Summary ===\n",
      "2025-06-17 12:26:29 - INFO - Time: 549.87s\n",
      "2025-06-17 12:26:29 - INFO - Training   - accuracy: 0.9470 - auc: 0.9393 - f1_score: 0.5553 - loss: 0.0303 - precision: 0.7559 - recall: 0.4699 - learning_rate: 0.0000\n",
      "2025-06-17 12:26:29 - INFO - Validation - accuracy: 0.9337 - auc: 0.7596 - f1_score: 0.2224 - loss: 0.0679 - precision: 0.3270 - recall: 0.1864\n",
      "2025-06-17 12:26:29 - INFO - ==================================================\n",
      "\n"
     ]
    },
    {
     "name": "stdout",
     "output_type": "stream",
     "text": [
      "\u001b[1m813/813\u001b[0m \u001b[32m━━━━━━━━━━━━━━━━━━━━\u001b[0m\u001b[37m\u001b[0m \u001b[1m550s\u001b[0m 677ms/step - accuracy: 0.9466 - auc: 0.9384 - f1_score: 0.5524 - loss: 0.0304 - precision: 0.7538 - recall: 0.4666 - val_accuracy: 0.9337 - val_auc: 0.7596 - val_f1_score: 0.2224 - val_loss: 0.0679 - val_precision: 0.3270 - val_recall: 0.1864 - learning_rate: 1.0000e-06\n"
     ]
    },
    {
     "name": "stderr",
     "output_type": "stream",
     "text": [
      "2025-06-17 12:26:29 - INFO - \n",
      "=== Starting Epoch 60 ===\n",
      "\n"
     ]
    },
    {
     "name": "stdout",
     "output_type": "stream",
     "text": [
      "Epoch 60/100\n",
      "\u001b[1m813/813\u001b[0m \u001b[32m━━━━━━━━━━━━━━━━━━━━\u001b[0m\u001b[37m\u001b[0m \u001b[1m0s\u001b[0m 362ms/step - accuracy: 0.9469 - auc: 0.9391 - f1_score: 0.5576 - loss: 0.0303 - precision: 0.7551 - recall: 0.4729   "
     ]
    },
    {
     "name": "stderr",
     "output_type": "stream",
     "text": [
      "2025-06-17 12:31:34 - INFO - \n",
      "=== Epoch 60 Summary ===\n",
      "2025-06-17 12:31:34 - INFO - Time: 305.25s\n",
      "2025-06-17 12:31:34 - INFO - Training   - accuracy: 0.9473 - auc: 0.9398 - f1_score: 0.5602 - loss: 0.0302 - precision: 0.7578 - recall: 0.4746 - learning_rate: 0.0000\n",
      "2025-06-17 12:31:34 - INFO - Validation - accuracy: 0.9339 - auc: 0.7587 - f1_score: 0.2249 - loss: 0.0681 - precision: 0.3286 - recall: 0.1857\n",
      "2025-06-17 12:31:34 - INFO - ==================================================\n",
      "\n"
     ]
    },
    {
     "name": "stdout",
     "output_type": "stream",
     "text": [
      "\u001b[1m813/813\u001b[0m \u001b[32m━━━━━━━━━━━━━━━━━━━━\u001b[0m\u001b[37m\u001b[0m \u001b[1m305s\u001b[0m 376ms/step - accuracy: 0.9469 - auc: 0.9391 - f1_score: 0.5576 - loss: 0.0303 - precision: 0.7551 - recall: 0.4729 - val_accuracy: 0.9339 - val_auc: 0.7587 - val_f1_score: 0.2249 - val_loss: 0.0681 - val_precision: 0.3286 - val_recall: 0.1857 - learning_rate: 1.0000e-06\n"
     ]
    },
    {
     "name": "stderr",
     "output_type": "stream",
     "text": [
      "2025-06-17 12:31:34 - INFO - \n",
      "=== Starting Epoch 61 ===\n",
      "\n"
     ]
    },
    {
     "name": "stdout",
     "output_type": "stream",
     "text": [
      "Epoch 61/100\n",
      "\u001b[1m813/813\u001b[0m \u001b[32m━━━━━━━━━━━━━━━━━━━━\u001b[0m\u001b[37m\u001b[0m \u001b[1m0s\u001b[0m 236ms/step - accuracy: 0.9469 - auc: 0.9388 - f1_score: 0.5551 - loss: 0.0303 - precision: 0.7536 - recall: 0.4704  "
     ]
    },
    {
     "name": "stderr",
     "output_type": "stream",
     "text": [
      "2025-06-17 12:34:57 - INFO - \n",
      "=== Epoch 61 Summary ===\n",
      "2025-06-17 12:34:57 - INFO - Time: 202.90s\n",
      "2025-06-17 12:34:57 - INFO - Training   - accuracy: 0.9473 - auc: 0.9398 - f1_score: 0.5599 - loss: 0.0302 - precision: 0.7565 - recall: 0.4752 - learning_rate: 0.0000\n",
      "2025-06-17 12:34:57 - INFO - Validation - accuracy: 0.9332 - auc: 0.7595 - f1_score: 0.2318 - loss: 0.0678 - precision: 0.3242 - recall: 0.1908\n",
      "2025-06-17 12:34:57 - INFO - ==================================================\n",
      "\n"
     ]
    },
    {
     "name": "stdout",
     "output_type": "stream",
     "text": [
      "\u001b[1m813/813\u001b[0m \u001b[32m━━━━━━━━━━━━━━━━━━━━\u001b[0m\u001b[37m\u001b[0m \u001b[1m203s\u001b[0m 250ms/step - accuracy: 0.9469 - auc: 0.9388 - f1_score: 0.5551 - loss: 0.0303 - precision: 0.7536 - recall: 0.4704 - val_accuracy: 0.9332 - val_auc: 0.7595 - val_f1_score: 0.2318 - val_loss: 0.0678 - val_precision: 0.3242 - val_recall: 0.1908 - learning_rate: 1.0000e-06\n"
     ]
    },
    {
     "name": "stderr",
     "output_type": "stream",
     "text": [
      "2025-06-17 12:34:57 - INFO - \n",
      "=== Starting Epoch 62 ===\n",
      "\n"
     ]
    },
    {
     "name": "stdout",
     "output_type": "stream",
     "text": [
      "Epoch 62/100\n",
      "\u001b[1m813/813\u001b[0m \u001b[32m━━━━━━━━━━━━━━━━━━━━\u001b[0m\u001b[37m\u001b[0m \u001b[1m0s\u001b[0m 236ms/step - accuracy: 0.9476 - auc: 0.9398 - f1_score: 0.5625 - loss: 0.0301 - precision: 0.7598 - recall: 0.4768  "
     ]
    },
    {
     "name": "stderr",
     "output_type": "stream",
     "text": [
      "2025-06-17 12:38:19 - INFO - \n",
      "=== Epoch 62 Summary ===\n",
      "2025-06-17 12:38:19 - INFO - Time: 202.02s\n",
      "2025-06-17 12:38:19 - INFO - Training   - accuracy: 0.9475 - auc: 0.9402 - f1_score: 0.5626 - loss: 0.0301 - precision: 0.7594 - recall: 0.4770 - learning_rate: 0.0000\n",
      "2025-06-17 12:38:19 - INFO - Validation - accuracy: 0.9324 - auc: 0.7598 - f1_score: 0.2258 - loss: 0.0676 - precision: 0.3195 - recall: 0.1955\n",
      "2025-06-17 12:38:19 - INFO - ==================================================\n",
      "\n"
     ]
    },
    {
     "name": "stdout",
     "output_type": "stream",
     "text": [
      "\u001b[1m813/813\u001b[0m \u001b[32m━━━━━━━━━━━━━━━━━━━━\u001b[0m\u001b[37m\u001b[0m \u001b[1m202s\u001b[0m 249ms/step - accuracy: 0.9476 - auc: 0.9398 - f1_score: 0.5625 - loss: 0.0301 - precision: 0.7598 - recall: 0.4768 - val_accuracy: 0.9324 - val_auc: 0.7598 - val_f1_score: 0.2258 - val_loss: 0.0676 - val_precision: 0.3195 - val_recall: 0.1955 - learning_rate: 1.0000e-06\n"
     ]
    },
    {
     "name": "stderr",
     "output_type": "stream",
     "text": [
      "2025-06-17 12:38:19 - INFO - \n",
      "=== Starting Epoch 63 ===\n",
      "\n"
     ]
    },
    {
     "name": "stdout",
     "output_type": "stream",
     "text": [
      "Epoch 63/100\n",
      "\u001b[1m813/813\u001b[0m \u001b[32m━━━━━━━━━━━━━━━━━━━━\u001b[0m\u001b[37m\u001b[0m \u001b[1m0s\u001b[0m 673ms/step - accuracy: 0.9480 - auc: 0.9409 - f1_score: 0.5641 - loss: 0.0299 - precision: 0.7620 - recall: 0.4791   "
     ]
    },
    {
     "name": "stderr",
     "output_type": "stream",
     "text": [
      "2025-06-17 12:47:36 - INFO - \n",
      "=== Epoch 63 Summary ===\n",
      "2025-06-17 12:47:36 - INFO - Time: 556.49s\n",
      "2025-06-17 12:47:36 - INFO - Training   - accuracy: 0.9479 - auc: 0.9415 - f1_score: 0.5647 - loss: 0.0298 - precision: 0.7605 - recall: 0.4795 - learning_rate: 0.0000\n",
      "2025-06-17 12:47:36 - INFO - Validation - accuracy: 0.9340 - auc: 0.7594 - f1_score: 0.2264 - loss: 0.0671 - precision: 0.3327 - recall: 0.1914\n",
      "2025-06-17 12:47:36 - INFO - ==================================================\n",
      "\n"
     ]
    },
    {
     "name": "stdout",
     "output_type": "stream",
     "text": [
      "\u001b[1m813/813\u001b[0m \u001b[32m━━━━━━━━━━━━━━━━━━━━\u001b[0m\u001b[37m\u001b[0m \u001b[1m556s\u001b[0m 685ms/step - accuracy: 0.9480 - auc: 0.9409 - f1_score: 0.5641 - loss: 0.0299 - precision: 0.7620 - recall: 0.4791 - val_accuracy: 0.9340 - val_auc: 0.7594 - val_f1_score: 0.2264 - val_loss: 0.0671 - val_precision: 0.3327 - val_recall: 0.1914 - learning_rate: 1.0000e-06\n"
     ]
    },
    {
     "name": "stderr",
     "output_type": "stream",
     "text": [
      "2025-06-17 12:47:36 - INFO - \n",
      "=== Starting Epoch 64 ===\n",
      "\n"
     ]
    },
    {
     "name": "stdout",
     "output_type": "stream",
     "text": [
      "Epoch 64/100\n",
      "\u001b[1m813/813\u001b[0m \u001b[32m━━━━━━━━━━━━━━━━━━━━\u001b[0m\u001b[37m\u001b[0m \u001b[1m0s\u001b[0m 236ms/step - accuracy: 0.9476 - auc: 0.9403 - f1_score: 0.5668 - loss: 0.0301 - precision: 0.7618 - recall: 0.4803  "
     ]
    },
    {
     "name": "stderr",
     "output_type": "stream",
     "text": [
      "2025-06-17 12:50:58 - INFO - \n",
      "=== Epoch 64 Summary ===\n",
      "2025-06-17 12:50:58 - INFO - Time: 202.25s\n",
      "2025-06-17 12:50:58 - INFO - Training   - accuracy: 0.9479 - auc: 0.9413 - f1_score: 0.5677 - loss: 0.0299 - precision: 0.7615 - recall: 0.4819 - learning_rate: 0.0000\n",
      "2025-06-17 12:50:58 - INFO - Validation - accuracy: 0.9334 - auc: 0.7555 - f1_score: 0.2216 - loss: 0.0674 - precision: 0.3244 - recall: 0.1877\n",
      "2025-06-17 12:50:58 - INFO - ==================================================\n",
      "\n"
     ]
    },
    {
     "name": "stdout",
     "output_type": "stream",
     "text": [
      "\u001b[1m813/813\u001b[0m \u001b[32m━━━━━━━━━━━━━━━━━━━━\u001b[0m\u001b[37m\u001b[0m \u001b[1m202s\u001b[0m 249ms/step - accuracy: 0.9476 - auc: 0.9403 - f1_score: 0.5668 - loss: 0.0301 - precision: 0.7618 - recall: 0.4803 - val_accuracy: 0.9334 - val_auc: 0.7555 - val_f1_score: 0.2216 - val_loss: 0.0674 - val_precision: 0.3244 - val_recall: 0.1877 - learning_rate: 1.0000e-06\n"
     ]
    },
    {
     "name": "stderr",
     "output_type": "stream",
     "text": [
      "2025-06-17 12:50:58 - INFO - \n",
      "=== Starting Epoch 65 ===\n",
      "\n"
     ]
    },
    {
     "name": "stdout",
     "output_type": "stream",
     "text": [
      "Epoch 65/100\n",
      "\u001b[1m813/813\u001b[0m \u001b[32m━━━━━━━━━━━━━━━━━━━━\u001b[0m\u001b[37m\u001b[0m \u001b[1m0s\u001b[0m 235ms/step - accuracy: 0.9478 - auc: 0.9415 - f1_score: 0.5667 - loss: 0.0298 - precision: 0.7599 - recall: 0.4819  "
     ]
    },
    {
     "name": "stderr",
     "output_type": "stream",
     "text": [
      "2025-06-17 12:54:21 - INFO - \n",
      "=== Epoch 65 Summary ===\n",
      "2025-06-17 12:54:21 - INFO - Time: 202.59s\n",
      "2025-06-17 12:54:21 - INFO - Training   - accuracy: 0.9480 - auc: 0.9417 - f1_score: 0.5689 - loss: 0.0297 - precision: 0.7613 - recall: 0.4844 - learning_rate: 0.0000\n",
      "2025-06-17 12:54:21 - INFO - Validation - accuracy: 0.9332 - auc: 0.7588 - f1_score: 0.2322 - loss: 0.0681 - precision: 0.3259 - recall: 0.1927\n",
      "2025-06-17 12:54:21 - INFO - ==================================================\n",
      "\n"
     ]
    },
    {
     "name": "stdout",
     "output_type": "stream",
     "text": [
      "\u001b[1m813/813\u001b[0m \u001b[32m━━━━━━━━━━━━━━━━━━━━\u001b[0m\u001b[37m\u001b[0m \u001b[1m203s\u001b[0m 249ms/step - accuracy: 0.9478 - auc: 0.9415 - f1_score: 0.5667 - loss: 0.0298 - precision: 0.7599 - recall: 0.4819 - val_accuracy: 0.9332 - val_auc: 0.7588 - val_f1_score: 0.2322 - val_loss: 0.0681 - val_precision: 0.3259 - val_recall: 0.1927 - learning_rate: 1.0000e-06\n"
     ]
    },
    {
     "name": "stderr",
     "output_type": "stream",
     "text": [
      "2025-06-17 12:54:21 - INFO - \n",
      "=== Starting Epoch 66 ===\n",
      "\n"
     ]
    },
    {
     "name": "stdout",
     "output_type": "stream",
     "text": [
      "Epoch 66/100\n",
      "\u001b[1m813/813\u001b[0m \u001b[32m━━━━━━━━━━━━━━━━━━━━\u001b[0m\u001b[37m\u001b[0m \u001b[1m0s\u001b[0m 297ms/step - accuracy: 0.9483 - auc: 0.9422 - f1_score: 0.5720 - loss: 0.0297 - precision: 0.7648 - recall: 0.4859   "
     ]
    },
    {
     "name": "stderr",
     "output_type": "stream",
     "text": [
      "2025-06-17 12:58:33 - INFO - \n",
      "=== Epoch 66 Summary ===\n",
      "2025-06-17 12:58:33 - INFO - Time: 252.19s\n",
      "2025-06-17 12:58:33 - INFO - Training   - accuracy: 0.9482 - auc: 0.9423 - f1_score: 0.5710 - loss: 0.0297 - precision: 0.7637 - recall: 0.4854 - learning_rate: 0.0000\n",
      "2025-06-17 12:58:33 - INFO - Validation - accuracy: 0.9331 - auc: 0.7584 - f1_score: 0.2277 - loss: 0.0678 - precision: 0.3272 - recall: 0.1963\n",
      "2025-06-17 12:58:33 - INFO - ==================================================\n",
      "\n"
     ]
    },
    {
     "name": "stdout",
     "output_type": "stream",
     "text": [
      "\u001b[1m813/813\u001b[0m \u001b[32m━━━━━━━━━━━━━━━━━━━━\u001b[0m\u001b[37m\u001b[0m \u001b[1m252s\u001b[0m 310ms/step - accuracy: 0.9483 - auc: 0.9422 - f1_score: 0.5720 - loss: 0.0297 - precision: 0.7648 - recall: 0.4859 - val_accuracy: 0.9331 - val_auc: 0.7584 - val_f1_score: 0.2277 - val_loss: 0.0678 - val_precision: 0.3272 - val_recall: 0.1963 - learning_rate: 1.0000e-06\n"
     ]
    },
    {
     "name": "stderr",
     "output_type": "stream",
     "text": [
      "2025-06-17 12:58:33 - INFO - \n",
      "=== Starting Epoch 67 ===\n",
      "\n"
     ]
    },
    {
     "name": "stdout",
     "output_type": "stream",
     "text": [
      "Epoch 67/100\n",
      "\u001b[1m813/813\u001b[0m \u001b[32m━━━━━━━━━━━━━━━━━━━━\u001b[0m\u001b[37m\u001b[0m \u001b[1m0s\u001b[0m 236ms/step - accuracy: 0.9481 - auc: 0.9418 - f1_score: 0.5717 - loss: 0.0298 - precision: 0.7601 - recall: 0.4872  "
     ]
    },
    {
     "name": "stderr",
     "output_type": "stream",
     "text": [
      "2025-06-17 13:01:55 - INFO - \n",
      "=== Epoch 67 Summary ===\n",
      "2025-06-17 13:01:55 - INFO - Time: 202.60s\n",
      "2025-06-17 13:01:55 - INFO - Training   - accuracy: 0.9484 - auc: 0.9425 - f1_score: 0.5736 - loss: 0.0296 - precision: 0.7623 - recall: 0.4891 - learning_rate: 0.0000\n",
      "2025-06-17 13:01:55 - INFO - Validation - accuracy: 0.9329 - auc: 0.7590 - f1_score: 0.2290 - loss: 0.0688 - precision: 0.3228 - recall: 0.1929\n",
      "2025-06-17 13:01:55 - INFO - ==================================================\n",
      "\n"
     ]
    },
    {
     "name": "stdout",
     "output_type": "stream",
     "text": [
      "\u001b[1m813/813\u001b[0m \u001b[32m━━━━━━━━━━━━━━━━━━━━\u001b[0m\u001b[37m\u001b[0m \u001b[1m203s\u001b[0m 249ms/step - accuracy: 0.9481 - auc: 0.9418 - f1_score: 0.5717 - loss: 0.0298 - precision: 0.7601 - recall: 0.4872 - val_accuracy: 0.9329 - val_auc: 0.7590 - val_f1_score: 0.2290 - val_loss: 0.0688 - val_precision: 0.3228 - val_recall: 0.1929 - learning_rate: 1.0000e-06\n"
     ]
    },
    {
     "name": "stderr",
     "output_type": "stream",
     "text": [
      "2025-06-17 13:01:55 - INFO - \n",
      "=== Starting Epoch 68 ===\n",
      "\n"
     ]
    },
    {
     "name": "stdout",
     "output_type": "stream",
     "text": [
      "Epoch 68/100\n",
      "\u001b[1m813/813\u001b[0m \u001b[32m━━━━━━━━━━━━━━━━━━━━\u001b[0m\u001b[37m\u001b[0m \u001b[1m0s\u001b[0m 235ms/step - accuracy: 0.9485 - auc: 0.9431 - f1_score: 0.5745 - loss: 0.0295 - precision: 0.7663 - recall: 0.4884  "
     ]
    },
    {
     "name": "stderr",
     "output_type": "stream",
     "text": [
      "2025-06-17 13:05:17 - INFO - \n",
      "=== Epoch 68 Summary ===\n",
      "2025-06-17 13:05:17 - INFO - Time: 201.97s\n",
      "2025-06-17 13:05:17 - INFO - Training   - accuracy: 0.9487 - auc: 0.9433 - f1_score: 0.5757 - loss: 0.0294 - precision: 0.7663 - recall: 0.4902 - learning_rate: 0.0000\n",
      "2025-06-17 13:05:17 - INFO - Validation - accuracy: 0.9334 - auc: 0.7592 - f1_score: 0.2280 - loss: 0.0675 - precision: 0.3301 - recall: 0.1969\n",
      "2025-06-17 13:05:17 - INFO - ==================================================\n",
      "\n"
     ]
    },
    {
     "name": "stdout",
     "output_type": "stream",
     "text": [
      "\u001b[1m813/813\u001b[0m \u001b[32m━━━━━━━━━━━━━━━━━━━━\u001b[0m\u001b[37m\u001b[0m \u001b[1m202s\u001b[0m 248ms/step - accuracy: 0.9485 - auc: 0.9431 - f1_score: 0.5745 - loss: 0.0295 - precision: 0.7663 - recall: 0.4884 - val_accuracy: 0.9334 - val_auc: 0.7592 - val_f1_score: 0.2280 - val_loss: 0.0675 - val_precision: 0.3301 - val_recall: 0.1969 - learning_rate: 1.0000e-06\n"
     ]
    },
    {
     "name": "stderr",
     "output_type": "stream",
     "text": [
      "2025-06-17 13:05:17 - INFO - \n",
      "=== Starting Epoch 69 ===\n",
      "\n"
     ]
    },
    {
     "name": "stdout",
     "output_type": "stream",
     "text": [
      "Epoch 69/100\n",
      "\u001b[1m813/813\u001b[0m \u001b[32m━━━━━━━━━━━━━━━━━━━━\u001b[0m\u001b[37m\u001b[0m \u001b[1m0s\u001b[0m 293ms/step - accuracy: 0.9487 - auc: 0.9437 - f1_score: 0.5797 - loss: 0.0295 - precision: 0.7641 - recall: 0.4954  "
     ]
    },
    {
     "name": "stderr",
     "output_type": "stream",
     "text": [
      "2025-06-17 13:09:28 - INFO - \n",
      "=== Epoch 69 Summary ===\n",
      "2025-06-17 13:09:28 - INFO - Time: 250.34s\n",
      "2025-06-17 13:09:28 - INFO - Training   - accuracy: 0.9489 - auc: 0.9438 - f1_score: 0.5791 - loss: 0.0294 - precision: 0.7643 - recall: 0.4951 - learning_rate: 0.0000\n",
      "2025-06-17 13:09:28 - INFO - Validation - accuracy: 0.9336 - auc: 0.7573 - f1_score: 0.2356 - loss: 0.0681 - precision: 0.3333 - recall: 0.1982\n",
      "2025-06-17 13:09:28 - INFO - ==================================================\n",
      "\n"
     ]
    },
    {
     "name": "stdout",
     "output_type": "stream",
     "text": [
      "\u001b[1m813/813\u001b[0m \u001b[32m━━━━━━━━━━━━━━━━━━━━\u001b[0m\u001b[37m\u001b[0m \u001b[1m250s\u001b[0m 308ms/step - accuracy: 0.9487 - auc: 0.9437 - f1_score: 0.5797 - loss: 0.0295 - precision: 0.7641 - recall: 0.4954 - val_accuracy: 0.9336 - val_auc: 0.7573 - val_f1_score: 0.2356 - val_loss: 0.0681 - val_precision: 0.3333 - val_recall: 0.1982 - learning_rate: 1.0000e-06\n"
     ]
    },
    {
     "name": "stderr",
     "output_type": "stream",
     "text": [
      "2025-06-17 13:09:28 - INFO - \n",
      "=== Starting Epoch 70 ===\n",
      "\n"
     ]
    },
    {
     "name": "stdout",
     "output_type": "stream",
     "text": [
      "Epoch 70/100\n",
      "\u001b[1m813/813\u001b[0m \u001b[32m━━━━━━━━━━━━━━━━━━━━\u001b[0m\u001b[37m\u001b[0m \u001b[1m0s\u001b[0m 364ms/step - accuracy: 0.9487 - auc: 0.9437 - f1_score: 0.5777 - loss: 0.0294 - precision: 0.7668 - recall: 0.4916   "
     ]
    },
    {
     "name": "stderr",
     "output_type": "stream",
     "text": [
      "2025-06-17 13:14:34 - INFO - \n",
      "=== Epoch 70 Summary ===\n",
      "2025-06-17 13:14:34 - INFO - Time: 306.05s\n",
      "2025-06-17 13:14:34 - INFO - Training   - accuracy: 0.9490 - auc: 0.9441 - f1_score: 0.5791 - loss: 0.0293 - precision: 0.7667 - recall: 0.4941 - learning_rate: 0.0000\n",
      "2025-06-17 13:14:34 - INFO - Validation - accuracy: 0.9337 - auc: 0.7582 - f1_score: 0.2266 - loss: 0.0687 - precision: 0.3276 - recall: 0.1880\n",
      "2025-06-17 13:14:34 - INFO - ==================================================\n",
      "\n"
     ]
    },
    {
     "name": "stdout",
     "output_type": "stream",
     "text": [
      "\u001b[1m813/813\u001b[0m \u001b[32m━━━━━━━━━━━━━━━━━━━━\u001b[0m\u001b[37m\u001b[0m \u001b[1m306s\u001b[0m 377ms/step - accuracy: 0.9487 - auc: 0.9437 - f1_score: 0.5777 - loss: 0.0294 - precision: 0.7668 - recall: 0.4916 - val_accuracy: 0.9337 - val_auc: 0.7582 - val_f1_score: 0.2266 - val_loss: 0.0687 - val_precision: 0.3276 - val_recall: 0.1880 - learning_rate: 1.0000e-06\n"
     ]
    },
    {
     "name": "stderr",
     "output_type": "stream",
     "text": [
      "2025-06-17 13:14:34 - INFO - \n",
      "=== Starting Epoch 71 ===\n",
      "\n"
     ]
    },
    {
     "name": "stdout",
     "output_type": "stream",
     "text": [
      "Epoch 71/100\n",
      "\u001b[1m813/813\u001b[0m \u001b[32m━━━━━━━━━━━━━━━━━━━━\u001b[0m\u001b[37m\u001b[0m \u001b[1m0s\u001b[0m 236ms/step - accuracy: 0.9488 - auc: 0.9444 - f1_score: 0.5807 - loss: 0.0292 - precision: 0.7679 - recall: 0.4949  "
     ]
    },
    {
     "name": "stderr",
     "output_type": "stream",
     "text": [
      "2025-06-17 13:17:56 - INFO - \n",
      "=== Epoch 71 Summary ===\n",
      "2025-06-17 13:17:56 - INFO - Time: 202.32s\n",
      "2025-06-17 13:17:56 - INFO - Training   - accuracy: 0.9491 - auc: 0.9446 - f1_score: 0.5815 - loss: 0.0292 - precision: 0.7665 - recall: 0.4972 - learning_rate: 0.0000\n",
      "2025-06-17 13:17:56 - INFO - Validation - accuracy: 0.9336 - auc: 0.7593 - f1_score: 0.2240 - loss: 0.0683 - precision: 0.3233 - recall: 0.1822\n",
      "2025-06-17 13:17:56 - INFO - ==================================================\n",
      "\n"
     ]
    },
    {
     "name": "stdout",
     "output_type": "stream",
     "text": [
      "\u001b[1m813/813\u001b[0m \u001b[32m━━━━━━━━━━━━━━━━━━━━\u001b[0m\u001b[37m\u001b[0m \u001b[1m202s\u001b[0m 249ms/step - accuracy: 0.9488 - auc: 0.9444 - f1_score: 0.5807 - loss: 0.0292 - precision: 0.7679 - recall: 0.4949 - val_accuracy: 0.9336 - val_auc: 0.7593 - val_f1_score: 0.2240 - val_loss: 0.0683 - val_precision: 0.3233 - val_recall: 0.1822 - learning_rate: 1.0000e-06\n"
     ]
    },
    {
     "name": "stderr",
     "output_type": "stream",
     "text": [
      "2025-06-17 13:17:56 - INFO - \n",
      "=== Starting Epoch 72 ===\n",
      "\n"
     ]
    },
    {
     "name": "stdout",
     "output_type": "stream",
     "text": [
      "Epoch 72/100\n",
      "\u001b[1m813/813\u001b[0m \u001b[32m━━━━━━━━━━━━━━━━━━━━\u001b[0m\u001b[37m\u001b[0m \u001b[1m0s\u001b[0m 235ms/step - accuracy: 0.9489 - auc: 0.9448 - f1_score: 0.5826 - loss: 0.0294 - precision: 0.7686 - recall: 0.4972  "
     ]
    },
    {
     "name": "stderr",
     "output_type": "stream",
     "text": [
      "2025-06-17 13:21:18 - INFO - \n",
      "=== Epoch 72 Summary ===\n",
      "2025-06-17 13:21:18 - INFO - Time: 201.97s\n",
      "2025-06-17 13:21:18 - INFO - Training   - accuracy: 0.9491 - auc: 0.9449 - f1_score: 0.5836 - loss: 0.0293 - precision: 0.7673 - recall: 0.4986 - learning_rate: 0.0000\n",
      "2025-06-17 13:21:18 - INFO - Validation - accuracy: 0.9328 - auc: 0.7599 - f1_score: 0.2329 - loss: 0.0688 - precision: 0.3280 - recall: 0.2030\n",
      "2025-06-17 13:21:18 - INFO - ==================================================\n",
      "\n"
     ]
    },
    {
     "name": "stdout",
     "output_type": "stream",
     "text": [
      "\u001b[1m813/813\u001b[0m \u001b[32m━━━━━━━━━━━━━━━━━━━━\u001b[0m\u001b[37m\u001b[0m \u001b[1m202s\u001b[0m 248ms/step - accuracy: 0.9489 - auc: 0.9448 - f1_score: 0.5826 - loss: 0.0294 - precision: 0.7686 - recall: 0.4972 - val_accuracy: 0.9328 - val_auc: 0.7599 - val_f1_score: 0.2329 - val_loss: 0.0688 - val_precision: 0.3280 - val_recall: 0.2030 - learning_rate: 1.0000e-06\n"
     ]
    },
    {
     "name": "stderr",
     "output_type": "stream",
     "text": [
      "2025-06-17 13:21:18 - INFO - \n",
      "=== Starting Epoch 73 ===\n",
      "\n"
     ]
    },
    {
     "name": "stdout",
     "output_type": "stream",
     "text": [
      "Epoch 73/100\n",
      "\u001b[1m813/813\u001b[0m \u001b[32m━━━━━━━━━━━━━━━━━━━━\u001b[0m\u001b[37m\u001b[0m \u001b[1m0s\u001b[0m 296ms/step - accuracy: 0.9496 - auc: 0.9454 - f1_score: 0.5851 - loss: 0.0290 - precision: 0.7698 - recall: 0.5003   "
     ]
    },
    {
     "name": "stderr",
     "output_type": "stream",
     "text": [
      "2025-06-17 13:25:29 - INFO - \n",
      "=== Epoch 73 Summary ===\n",
      "2025-06-17 13:25:29 - INFO - Time: 251.07s\n",
      "2025-06-17 13:25:29 - INFO - Training   - accuracy: 0.9495 - auc: 0.9454 - f1_score: 0.5855 - loss: 0.0290 - precision: 0.7692 - recall: 0.5011 - learning_rate: 0.0000\n",
      "2025-06-17 13:25:29 - INFO - Validation - accuracy: 0.9319 - auc: 0.7576 - f1_score: 0.2320 - loss: 0.0693 - precision: 0.3214 - recall: 0.2058\n",
      "2025-06-17 13:25:29 - INFO - ==================================================\n",
      "\n"
     ]
    },
    {
     "name": "stdout",
     "output_type": "stream",
     "text": [
      "\u001b[1m813/813\u001b[0m \u001b[32m━━━━━━━━━━━━━━━━━━━━\u001b[0m\u001b[37m\u001b[0m \u001b[1m251s\u001b[0m 309ms/step - accuracy: 0.9496 - auc: 0.9454 - f1_score: 0.5851 - loss: 0.0290 - precision: 0.7698 - recall: 0.5003 - val_accuracy: 0.9319 - val_auc: 0.7576 - val_f1_score: 0.2320 - val_loss: 0.0693 - val_precision: 0.3214 - val_recall: 0.2058 - learning_rate: 1.0000e-06\n"
     ]
    },
    {
     "name": "stderr",
     "output_type": "stream",
     "text": [
      "2025-06-17 13:25:29 - INFO - \n",
      "=== Starting Epoch 74 ===\n",
      "\n"
     ]
    },
    {
     "name": "stdout",
     "output_type": "stream",
     "text": [
      "Epoch 74/100\n",
      "\u001b[1m813/813\u001b[0m \u001b[32m━━━━━━━━━━━━━━━━━━━━\u001b[0m\u001b[37m\u001b[0m \u001b[1m0s\u001b[0m 236ms/step - accuracy: 0.9490 - auc: 0.9452 - f1_score: 0.5838 - loss: 0.0290 - precision: 0.7674 - recall: 0.5003  "
     ]
    },
    {
     "name": "stderr",
     "output_type": "stream",
     "text": [
      "2025-06-17 13:28:52 - INFO - \n",
      "=== Epoch 74 Summary ===\n",
      "2025-06-17 13:28:52 - INFO - Time: 202.62s\n",
      "2025-06-17 13:28:52 - INFO - Training   - accuracy: 0.9493 - auc: 0.9459 - f1_score: 0.5849 - loss: 0.0289 - precision: 0.7666 - recall: 0.5012 - learning_rate: 0.0000\n",
      "2025-06-17 13:28:52 - INFO - Validation - accuracy: 0.9332 - auc: 0.7573 - f1_score: 0.2248 - loss: 0.0686 - precision: 0.3244 - recall: 0.1908\n",
      "2025-06-17 13:28:52 - INFO - ==================================================\n",
      "\n"
     ]
    },
    {
     "name": "stdout",
     "output_type": "stream",
     "text": [
      "\u001b[1m813/813\u001b[0m \u001b[32m━━━━━━━━━━━━━━━━━━━━\u001b[0m\u001b[37m\u001b[0m \u001b[1m203s\u001b[0m 249ms/step - accuracy: 0.9490 - auc: 0.9452 - f1_score: 0.5838 - loss: 0.0290 - precision: 0.7674 - recall: 0.5003 - val_accuracy: 0.9332 - val_auc: 0.7573 - val_f1_score: 0.2248 - val_loss: 0.0686 - val_precision: 0.3244 - val_recall: 0.1908 - learning_rate: 1.0000e-06\n"
     ]
    },
    {
     "name": "stderr",
     "output_type": "stream",
     "text": [
      "2025-06-17 13:28:52 - INFO - \n",
      "=== Starting Epoch 75 ===\n",
      "\n"
     ]
    },
    {
     "name": "stdout",
     "output_type": "stream",
     "text": [
      "Epoch 75/100\n",
      "\u001b[1m813/813\u001b[0m \u001b[32m━━━━━━━━━━━━━━━━━━━━\u001b[0m\u001b[37m\u001b[0m \u001b[1m0s\u001b[0m 235ms/step - accuracy: 0.9497 - auc: 0.9458 - f1_score: 0.5905 - loss: 0.0290 - precision: 0.7730 - recall: 0.5052  "
     ]
    },
    {
     "name": "stderr",
     "output_type": "stream",
     "text": [
      "2025-06-17 13:32:14 - INFO - \n",
      "=== Epoch 75 Summary ===\n",
      "2025-06-17 13:32:14 - INFO - Time: 202.50s\n",
      "2025-06-17 13:32:14 - INFO - Training   - accuracy: 0.9499 - auc: 0.9458 - f1_score: 0.5906 - loss: 0.0290 - precision: 0.7723 - recall: 0.5055 - learning_rate: 0.0000\n",
      "2025-06-17 13:32:14 - INFO - Validation - accuracy: 0.9309 - auc: 0.7587 - f1_score: 0.2392 - loss: 0.0688 - precision: 0.3155 - recall: 0.2109\n",
      "2025-06-17 13:32:14 - INFO - ==================================================\n",
      "\n"
     ]
    },
    {
     "name": "stdout",
     "output_type": "stream",
     "text": [
      "\u001b[1m813/813\u001b[0m \u001b[32m━━━━━━━━━━━━━━━━━━━━\u001b[0m\u001b[37m\u001b[0m \u001b[1m203s\u001b[0m 249ms/step - accuracy: 0.9497 - auc: 0.9458 - f1_score: 0.5905 - loss: 0.0290 - precision: 0.7730 - recall: 0.5052 - val_accuracy: 0.9309 - val_auc: 0.7587 - val_f1_score: 0.2392 - val_loss: 0.0688 - val_precision: 0.3155 - val_recall: 0.2109 - learning_rate: 1.0000e-06\n"
     ]
    },
    {
     "name": "stderr",
     "output_type": "stream",
     "text": [
      "2025-06-17 13:32:14 - INFO - \n",
      "=== Starting Epoch 76 ===\n",
      "\n"
     ]
    },
    {
     "name": "stdout",
     "output_type": "stream",
     "text": [
      "Epoch 76/100\n",
      "\u001b[1m813/813\u001b[0m \u001b[32m━━━━━━━━━━━━━━━━━━━━\u001b[0m\u001b[37m\u001b[0m \u001b[1m0s\u001b[0m 655ms/step - accuracy: 0.9500 - auc: 0.9466 - f1_score: 0.5924 - loss: 0.0288 - precision: 0.7736 - recall: 0.5071  "
     ]
    },
    {
     "name": "stderr",
     "output_type": "stream",
     "text": [
      "2025-06-17 13:41:16 - INFO - \n",
      "=== Epoch 76 Summary ===\n",
      "2025-06-17 13:41:16 - INFO - Time: 541.57s\n",
      "2025-06-17 13:41:16 - INFO - Training   - accuracy: 0.9501 - auc: 0.9467 - f1_score: 0.5927 - loss: 0.0288 - precision: 0.7726 - recall: 0.5079 - learning_rate: 0.0000\n",
      "2025-06-17 13:41:16 - INFO - Validation - accuracy: 0.9336 - auc: 0.7582 - f1_score: 0.2250 - loss: 0.0697 - precision: 0.3254 - recall: 0.1851\n",
      "2025-06-17 13:41:16 - INFO - ==================================================\n",
      "\n"
     ]
    },
    {
     "name": "stdout",
     "output_type": "stream",
     "text": [
      "\u001b[1m813/813\u001b[0m \u001b[32m━━━━━━━━━━━━━━━━━━━━\u001b[0m\u001b[37m\u001b[0m \u001b[1m542s\u001b[0m 667ms/step - accuracy: 0.9500 - auc: 0.9466 - f1_score: 0.5924 - loss: 0.0288 - precision: 0.7736 - recall: 0.5071 - val_accuracy: 0.9336 - val_auc: 0.7582 - val_f1_score: 0.2250 - val_loss: 0.0697 - val_precision: 0.3254 - val_recall: 0.1851 - learning_rate: 1.0000e-06\n"
     ]
    },
    {
     "name": "stderr",
     "output_type": "stream",
     "text": [
      "2025-06-17 13:41:16 - INFO - \n",
      "=== Starting Epoch 77 ===\n",
      "\n"
     ]
    },
    {
     "name": "stdout",
     "output_type": "stream",
     "text": [
      "Epoch 77/100\n",
      "\u001b[1m813/813\u001b[0m \u001b[32m━━━━━━━━━━━━━━━━━━━━\u001b[0m\u001b[37m\u001b[0m \u001b[1m0s\u001b[0m 669ms/step - accuracy: 0.9498 - auc: 0.9465 - f1_score: 0.5901 - loss: 0.0289 - precision: 0.7703 - recall: 0.5057  "
     ]
    },
    {
     "name": "stderr",
     "output_type": "stream",
     "text": [
      "2025-06-17 13:50:29 - INFO - \n",
      "=== Epoch 77 Summary ===\n",
      "2025-06-17 13:50:29 - INFO - Time: 553.00s\n",
      "2025-06-17 13:50:29 - INFO - Training   - accuracy: 0.9500 - auc: 0.9470 - f1_score: 0.5920 - loss: 0.0287 - precision: 0.7721 - recall: 0.5074 - learning_rate: 0.0000\n",
      "2025-06-17 13:50:29 - INFO - Validation - accuracy: 0.9320 - auc: 0.7568 - f1_score: 0.2373 - loss: 0.0691 - precision: 0.3205 - recall: 0.2029\n",
      "2025-06-17 13:50:29 - INFO - ==================================================\n",
      "\n"
     ]
    },
    {
     "name": "stdout",
     "output_type": "stream",
     "text": [
      "\u001b[1m813/813\u001b[0m \u001b[32m━━━━━━━━━━━━━━━━━━━━\u001b[0m\u001b[37m\u001b[0m \u001b[1m553s\u001b[0m 681ms/step - accuracy: 0.9498 - auc: 0.9465 - f1_score: 0.5901 - loss: 0.0289 - precision: 0.7703 - recall: 0.5057 - val_accuracy: 0.9320 - val_auc: 0.7568 - val_f1_score: 0.2373 - val_loss: 0.0691 - val_precision: 0.3205 - val_recall: 0.2029 - learning_rate: 1.0000e-06\n"
     ]
    },
    {
     "name": "stderr",
     "output_type": "stream",
     "text": [
      "2025-06-17 13:50:29 - INFO - \n",
      "=== Starting Epoch 78 ===\n",
      "\n"
     ]
    },
    {
     "name": "stdout",
     "output_type": "stream",
     "text": [
      "Epoch 78/100\n",
      "\u001b[1m813/813\u001b[0m \u001b[32m━━━━━━━━━━━━━━━━━━━━\u001b[0m\u001b[37m\u001b[0m \u001b[1m0s\u001b[0m 236ms/step - accuracy: 0.9499 - auc: 0.9466 - f1_score: 0.5912 - loss: 0.0289 - precision: 0.7686 - recall: 0.5077  "
     ]
    },
    {
     "name": "stderr",
     "output_type": "stream",
     "text": [
      "2025-06-17 13:53:51 - INFO - \n",
      "=== Epoch 78 Summary ===\n",
      "2025-06-17 13:53:51 - INFO - Time: 202.50s\n",
      "2025-06-17 13:53:51 - INFO - Training   - accuracy: 0.9501 - auc: 0.9473 - f1_score: 0.5924 - loss: 0.0287 - precision: 0.7698 - recall: 0.5088 - learning_rate: 0.0000\n",
      "2025-06-17 13:53:51 - INFO - Validation - accuracy: 0.9327 - auc: 0.7582 - f1_score: 0.2313 - loss: 0.0702 - precision: 0.3216 - recall: 0.1935\n",
      "2025-06-17 13:53:51 - INFO - ==================================================\n",
      "\n"
     ]
    },
    {
     "name": "stdout",
     "output_type": "stream",
     "text": [
      "\u001b[1m813/813\u001b[0m \u001b[32m━━━━━━━━━━━━━━━━━━━━\u001b[0m\u001b[37m\u001b[0m \u001b[1m203s\u001b[0m 249ms/step - accuracy: 0.9499 - auc: 0.9466 - f1_score: 0.5912 - loss: 0.0289 - precision: 0.7686 - recall: 0.5077 - val_accuracy: 0.9327 - val_auc: 0.7582 - val_f1_score: 0.2313 - val_loss: 0.0702 - val_precision: 0.3216 - val_recall: 0.1935 - learning_rate: 1.0000e-06\n"
     ]
    },
    {
     "name": "stderr",
     "output_type": "stream",
     "text": [
      "2025-06-17 13:53:51 - INFO - \n",
      "=== Starting Epoch 79 ===\n",
      "\n"
     ]
    },
    {
     "name": "stdout",
     "output_type": "stream",
     "text": [
      "Epoch 79/100\n",
      "\u001b[1m813/813\u001b[0m \u001b[32m━━━━━━━━━━━━━━━━━━━━\u001b[0m\u001b[37m\u001b[0m \u001b[1m0s\u001b[0m 235ms/step - accuracy: 0.9498 - auc: 0.9476 - f1_score: 0.5956 - loss: 0.0288 - precision: 0.7730 - recall: 0.5110  "
     ]
    },
    {
     "name": "stderr",
     "output_type": "stream",
     "text": [
      "2025-06-17 13:57:15 - INFO - \n",
      "=== Epoch 79 Summary ===\n",
      "2025-06-17 13:57:15 - INFO - Time: 203.32s\n",
      "2025-06-17 13:57:15 - INFO - Training   - accuracy: 0.9502 - auc: 0.9476 - f1_score: 0.5957 - loss: 0.0287 - precision: 0.7733 - recall: 0.5108 - learning_rate: 0.0000\n",
      "2025-06-17 13:57:15 - INFO - Validation - accuracy: 0.9331 - auc: 0.7573 - f1_score: 0.2412 - loss: 0.0694 - precision: 0.3332 - recall: 0.2081\n",
      "2025-06-17 13:57:15 - INFO - ==================================================\n",
      "\n"
     ]
    },
    {
     "name": "stdout",
     "output_type": "stream",
     "text": [
      "\u001b[1m813/813\u001b[0m \u001b[32m━━━━━━━━━━━━━━━━━━━━\u001b[0m\u001b[37m\u001b[0m \u001b[1m203s\u001b[0m 250ms/step - accuracy: 0.9498 - auc: 0.9476 - f1_score: 0.5956 - loss: 0.0288 - precision: 0.7730 - recall: 0.5110 - val_accuracy: 0.9331 - val_auc: 0.7573 - val_f1_score: 0.2412 - val_loss: 0.0694 - val_precision: 0.3332 - val_recall: 0.2081 - learning_rate: 1.0000e-06\n"
     ]
    },
    {
     "name": "stderr",
     "output_type": "stream",
     "text": [
      "2025-06-17 13:57:15 - INFO - \n",
      "=== Starting Epoch 80 ===\n",
      "\n"
     ]
    },
    {
     "name": "stdout",
     "output_type": "stream",
     "text": [
      "Epoch 80/100\n",
      "\u001b[1m813/813\u001b[0m \u001b[32m━━━━━━━━━━━━━━━━━━━━\u001b[0m\u001b[37m\u001b[0m \u001b[1m0s\u001b[0m 293ms/step - accuracy: 0.9505 - auc: 0.9479 - f1_score: 0.6006 - loss: 0.0286 - precision: 0.7734 - recall: 0.5171  "
     ]
    },
    {
     "name": "stderr",
     "output_type": "stream",
     "text": [
      "2025-06-17 14:01:24 - INFO - \n",
      "=== Epoch 80 Summary ===\n",
      "2025-06-17 14:01:24 - INFO - Time: 248.93s\n",
      "2025-06-17 14:01:24 - INFO - Training   - accuracy: 0.9507 - auc: 0.9485 - f1_score: 0.6010 - loss: 0.0284 - precision: 0.7744 - recall: 0.5178 - learning_rate: 0.0000\n",
      "2025-06-17 14:01:24 - INFO - Validation - accuracy: 0.9326 - auc: 0.7581 - f1_score: 0.2288 - loss: 0.0702 - precision: 0.3192 - recall: 0.1914\n",
      "2025-06-17 14:01:24 - INFO - ==================================================\n",
      "\n"
     ]
    },
    {
     "name": "stdout",
     "output_type": "stream",
     "text": [
      "\u001b[1m813/813\u001b[0m \u001b[32m━━━━━━━━━━━━━━━━━━━━\u001b[0m\u001b[37m\u001b[0m \u001b[1m249s\u001b[0m 306ms/step - accuracy: 0.9505 - auc: 0.9479 - f1_score: 0.6006 - loss: 0.0286 - precision: 0.7734 - recall: 0.5171 - val_accuracy: 0.9326 - val_auc: 0.7581 - val_f1_score: 0.2288 - val_loss: 0.0702 - val_precision: 0.3192 - val_recall: 0.1914 - learning_rate: 1.0000e-06\n"
     ]
    },
    {
     "name": "stderr",
     "output_type": "stream",
     "text": [
      "2025-06-17 14:01:24 - INFO - \n",
      "=== Starting Epoch 81 ===\n",
      "\n"
     ]
    },
    {
     "name": "stdout",
     "output_type": "stream",
     "text": [
      "Epoch 81/100\n",
      "\u001b[1m813/813\u001b[0m \u001b[32m━━━━━━━━━━━━━━━━━━━━\u001b[0m\u001b[37m\u001b[0m \u001b[1m0s\u001b[0m 361ms/step - accuracy: 0.9506 - auc: 0.9484 - f1_score: 0.5991 - loss: 0.0285 - precision: 0.7761 - recall: 0.5151   "
     ]
    },
    {
     "name": "stderr",
     "output_type": "stream",
     "text": [
      "2025-06-17 14:06:28 - INFO - \n",
      "=== Epoch 81 Summary ===\n",
      "2025-06-17 14:06:28 - INFO - Time: 304.09s\n",
      "2025-06-17 14:06:28 - INFO - Training   - accuracy: 0.9506 - auc: 0.9486 - f1_score: 0.6001 - loss: 0.0284 - precision: 0.7750 - recall: 0.5164 - learning_rate: 0.0000\n",
      "2025-06-17 14:06:28 - INFO - Validation - accuracy: 0.9321 - auc: 0.7567 - f1_score: 0.2210 - loss: 0.0707 - precision: 0.3087 - recall: 0.1828\n",
      "2025-06-17 14:06:28 - INFO - ==================================================\n",
      "\n"
     ]
    },
    {
     "name": "stdout",
     "output_type": "stream",
     "text": [
      "\u001b[1m813/813\u001b[0m \u001b[32m━━━━━━━━━━━━━━━━━━━━\u001b[0m\u001b[37m\u001b[0m \u001b[1m304s\u001b[0m 374ms/step - accuracy: 0.9506 - auc: 0.9484 - f1_score: 0.5991 - loss: 0.0285 - precision: 0.7761 - recall: 0.5151 - val_accuracy: 0.9321 - val_auc: 0.7567 - val_f1_score: 0.2210 - val_loss: 0.0707 - val_precision: 0.3087 - val_recall: 0.1828 - learning_rate: 1.0000e-06\n"
     ]
    },
    {
     "name": "stderr",
     "output_type": "stream",
     "text": [
      "2025-06-17 14:06:28 - INFO - \n",
      "=== Starting Epoch 82 ===\n",
      "\n"
     ]
    },
    {
     "name": "stdout",
     "output_type": "stream",
     "text": [
      "Epoch 82/100\n",
      "\u001b[1m813/813\u001b[0m \u001b[32m━━━━━━━━━━━━━━━━━━━━\u001b[0m\u001b[37m\u001b[0m \u001b[1m0s\u001b[0m 236ms/step - accuracy: 0.9515 - auc: 0.9497 - f1_score: 0.6070 - loss: 0.0282 - precision: 0.7792 - recall: 0.5236  "
     ]
    },
    {
     "name": "stderr",
     "output_type": "stream",
     "text": [
      "2025-06-17 14:09:50 - INFO - \n",
      "=== Epoch 82 Summary ===\n",
      "2025-06-17 14:09:50 - INFO - Time: 202.58s\n",
      "2025-06-17 14:09:50 - INFO - Training   - accuracy: 0.9514 - auc: 0.9496 - f1_score: 0.6063 - loss: 0.0282 - precision: 0.7804 - recall: 0.5225 - learning_rate: 0.0000\n",
      "2025-06-17 14:09:50 - INFO - Validation - accuracy: 0.9338 - auc: 0.7559 - f1_score: 0.2252 - loss: 0.0699 - precision: 0.3314 - recall: 0.1927\n",
      "2025-06-17 14:09:50 - INFO - ==================================================\n",
      "\n"
     ]
    },
    {
     "name": "stdout",
     "output_type": "stream",
     "text": [
      "\u001b[1m813/813\u001b[0m \u001b[32m━━━━━━━━━━━━━━━━━━━━\u001b[0m\u001b[37m\u001b[0m \u001b[1m203s\u001b[0m 249ms/step - accuracy: 0.9515 - auc: 0.9497 - f1_score: 0.6070 - loss: 0.0282 - precision: 0.7792 - recall: 0.5236 - val_accuracy: 0.9338 - val_auc: 0.7559 - val_f1_score: 0.2252 - val_loss: 0.0699 - val_precision: 0.3314 - val_recall: 0.1927 - learning_rate: 1.0000e-06\n"
     ]
    },
    {
     "name": "stderr",
     "output_type": "stream",
     "text": [
      "2025-06-17 14:09:50 - INFO - \n",
      "=== Starting Epoch 83 ===\n",
      "\n"
     ]
    },
    {
     "name": "stdout",
     "output_type": "stream",
     "text": [
      "Epoch 83/100\n",
      "\u001b[1m813/813\u001b[0m \u001b[32m━━━━━━━━━━━━━━━━━━━━\u001b[0m\u001b[37m\u001b[0m \u001b[1m0s\u001b[0m 235ms/step - accuracy: 0.9508 - auc: 0.9495 - f1_score: 0.6030 - loss: 0.0281 - precision: 0.7757 - recall: 0.5190  "
     ]
    },
    {
     "name": "stderr",
     "output_type": "stream",
     "text": [
      "2025-06-17 14:13:12 - INFO - \n",
      "=== Epoch 83 Summary ===\n",
      "2025-06-17 14:13:12 - INFO - Time: 201.59s\n",
      "2025-06-17 14:13:12 - INFO - Training   - accuracy: 0.9511 - auc: 0.9491 - f1_score: 0.6045 - loss: 0.0282 - precision: 0.7763 - recall: 0.5210 - learning_rate: 0.0000\n",
      "2025-06-17 14:13:12 - INFO - Validation - accuracy: 0.9313 - auc: 0.7555 - f1_score: 0.2158 - loss: 0.0723 - precision: 0.2988 - recall: 0.1782\n",
      "2025-06-17 14:13:12 - INFO - ==================================================\n",
      "\n"
     ]
    },
    {
     "name": "stdout",
     "output_type": "stream",
     "text": [
      "\u001b[1m813/813\u001b[0m \u001b[32m━━━━━━━━━━━━━━━━━━━━\u001b[0m\u001b[37m\u001b[0m \u001b[1m202s\u001b[0m 248ms/step - accuracy: 0.9508 - auc: 0.9495 - f1_score: 0.6030 - loss: 0.0281 - precision: 0.7757 - recall: 0.5190 - val_accuracy: 0.9313 - val_auc: 0.7555 - val_f1_score: 0.2158 - val_loss: 0.0723 - val_precision: 0.2988 - val_recall: 0.1782 - learning_rate: 1.0000e-06\n"
     ]
    },
    {
     "name": "stderr",
     "output_type": "stream",
     "text": [
      "2025-06-17 14:13:12 - INFO - \n",
      "=== Starting Epoch 84 ===\n",
      "\n"
     ]
    },
    {
     "name": "stdout",
     "output_type": "stream",
     "text": [
      "Epoch 84/100\n",
      "\u001b[1m813/813\u001b[0m \u001b[32m━━━━━━━━━━━━━━━━━━━━\u001b[0m\u001b[37m\u001b[0m \u001b[1m0s\u001b[0m 649ms/step - accuracy: 0.9511 - auc: 0.9496 - f1_score: 0.6049 - loss: 0.0281 - precision: 0.7781 - recall: 0.5212  "
     ]
    },
    {
     "name": "stderr",
     "output_type": "stream",
     "text": [
      "2025-06-17 14:22:09 - INFO - \n",
      "=== Epoch 84 Summary ===\n",
      "2025-06-17 14:22:09 - INFO - Time: 536.71s\n",
      "2025-06-17 14:22:09 - INFO - Training   - accuracy: 0.9513 - auc: 0.9498 - f1_score: 0.6066 - loss: 0.0280 - precision: 0.7776 - recall: 0.5236 - learning_rate: 0.0000\n",
      "2025-06-17 14:22:09 - INFO - Validation - accuracy: 0.9335 - auc: 0.7553 - f1_score: 0.2330 - loss: 0.0701 - precision: 0.3338 - recall: 0.2014\n",
      "2025-06-17 14:22:09 - INFO - ==================================================\n",
      "\n"
     ]
    },
    {
     "name": "stdout",
     "output_type": "stream",
     "text": [
      "\u001b[1m813/813\u001b[0m \u001b[32m━━━━━━━━━━━━━━━━━━━━\u001b[0m\u001b[37m\u001b[0m \u001b[1m537s\u001b[0m 661ms/step - accuracy: 0.9511 - auc: 0.9496 - f1_score: 0.6049 - loss: 0.0281 - precision: 0.7781 - recall: 0.5212 - val_accuracy: 0.9335 - val_auc: 0.7553 - val_f1_score: 0.2330 - val_loss: 0.0701 - val_precision: 0.3338 - val_recall: 0.2014 - learning_rate: 1.0000e-06\n"
     ]
    },
    {
     "name": "stderr",
     "output_type": "stream",
     "text": [
      "2025-06-17 14:22:09 - INFO - \n",
      "=== Starting Epoch 85 ===\n",
      "\n"
     ]
    },
    {
     "name": "stdout",
     "output_type": "stream",
     "text": [
      "Epoch 85/100\n",
      "\u001b[1m813/813\u001b[0m \u001b[32m━━━━━━━━━━━━━━━━━━━━\u001b[0m\u001b[37m\u001b[0m \u001b[1m0s\u001b[0m 234ms/step - accuracy: 0.9515 - auc: 0.9506 - f1_score: 0.6099 - loss: 0.0281 - precision: 0.7815 - recall: 0.5253  "
     ]
    },
    {
     "name": "stderr",
     "output_type": "stream",
     "text": [
      "2025-06-17 14:25:30 - INFO - \n",
      "=== Epoch 85 Summary ===\n",
      "2025-06-17 14:25:30 - INFO - Time: 201.07s\n",
      "2025-06-17 14:25:30 - INFO - Training   - accuracy: 0.9514 - auc: 0.9507 - f1_score: 0.6088 - loss: 0.0280 - precision: 0.7797 - recall: 0.5247 - learning_rate: 0.0000\n",
      "2025-06-17 14:25:30 - INFO - Validation - accuracy: 0.9334 - auc: 0.7576 - f1_score: 0.2258 - loss: 0.0709 - precision: 0.3278 - recall: 0.1924\n",
      "2025-06-17 14:25:30 - INFO - ==================================================\n",
      "\n"
     ]
    },
    {
     "name": "stdout",
     "output_type": "stream",
     "text": [
      "\u001b[1m813/813\u001b[0m \u001b[32m━━━━━━━━━━━━━━━━━━━━\u001b[0m\u001b[37m\u001b[0m \u001b[1m201s\u001b[0m 247ms/step - accuracy: 0.9515 - auc: 0.9506 - f1_score: 0.6099 - loss: 0.0281 - precision: 0.7815 - recall: 0.5253 - val_accuracy: 0.9334 - val_auc: 0.7576 - val_f1_score: 0.2258 - val_loss: 0.0709 - val_precision: 0.3278 - val_recall: 0.1924 - learning_rate: 1.0000e-06\n"
     ]
    },
    {
     "name": "stderr",
     "output_type": "stream",
     "text": [
      "2025-06-17 14:25:30 - INFO - \n",
      "=== Starting Epoch 86 ===\n",
      "\n"
     ]
    },
    {
     "name": "stdout",
     "output_type": "stream",
     "text": [
      "Epoch 86/100\n",
      "\u001b[1m813/813\u001b[0m \u001b[32m━━━━━━━━━━━━━━━━━━━━\u001b[0m\u001b[37m\u001b[0m \u001b[1m0s\u001b[0m 236ms/step - accuracy: 0.9516 - auc: 0.9499 - f1_score: 0.6079 - loss: 0.0281 - precision: 0.7815 - recall: 0.5239  "
     ]
    },
    {
     "name": "stderr",
     "output_type": "stream",
     "text": [
      "2025-06-17 14:28:52 - INFO - \n",
      "=== Epoch 86 Summary ===\n",
      "2025-06-17 14:28:52 - INFO - Time: 202.40s\n",
      "2025-06-17 14:28:52 - INFO - Training   - accuracy: 0.9516 - auc: 0.9502 - f1_score: 0.6094 - loss: 0.0280 - precision: 0.7808 - recall: 0.5258 - learning_rate: 0.0000\n",
      "2025-06-17 14:28:52 - INFO - Validation - accuracy: 0.9336 - auc: 0.7568 - f1_score: 0.2335 - loss: 0.0705 - precision: 0.3357 - recall: 0.2023\n",
      "2025-06-17 14:28:52 - INFO - ==================================================\n",
      "\n"
     ]
    },
    {
     "name": "stdout",
     "output_type": "stream",
     "text": [
      "\u001b[1m813/813\u001b[0m \u001b[32m━━━━━━━━━━━━━━━━━━━━\u001b[0m\u001b[37m\u001b[0m \u001b[1m202s\u001b[0m 249ms/step - accuracy: 0.9516 - auc: 0.9499 - f1_score: 0.6079 - loss: 0.0281 - precision: 0.7815 - recall: 0.5239 - val_accuracy: 0.9336 - val_auc: 0.7568 - val_f1_score: 0.2335 - val_loss: 0.0705 - val_precision: 0.3357 - val_recall: 0.2023 - learning_rate: 1.0000e-06\n"
     ]
    },
    {
     "name": "stderr",
     "output_type": "stream",
     "text": [
      "2025-06-17 14:28:52 - INFO - \n",
      "=== Starting Epoch 87 ===\n",
      "\n"
     ]
    },
    {
     "name": "stdout",
     "output_type": "stream",
     "text": [
      "Epoch 87/100\n",
      "\u001b[1m813/813\u001b[0m \u001b[32m━━━━━━━━━━━━━━━━━━━━\u001b[0m\u001b[37m\u001b[0m \u001b[1m0s\u001b[0m 235ms/step - accuracy: 0.9517 - auc: 0.9516 - f1_score: 0.6130 - loss: 0.0280 - precision: 0.7803 - recall: 0.5300  "
     ]
    },
    {
     "name": "stderr",
     "output_type": "stream",
     "text": [
      "2025-06-17 14:32:15 - INFO - \n",
      "=== Epoch 87 Summary ===\n",
      "2025-06-17 14:32:15 - INFO - Time: 202.47s\n",
      "2025-06-17 14:32:15 - INFO - Training   - accuracy: 0.9518 - auc: 0.9515 - f1_score: 0.6124 - loss: 0.0279 - precision: 0.7804 - recall: 0.5293 - learning_rate: 0.0000\n",
      "2025-06-17 14:32:15 - INFO - Validation - accuracy: 0.9319 - auc: 0.7575 - f1_score: 0.2458 - loss: 0.0697 - precision: 0.3252 - recall: 0.2127\n",
      "2025-06-17 14:32:15 - INFO - ==================================================\n",
      "\n"
     ]
    },
    {
     "name": "stdout",
     "output_type": "stream",
     "text": [
      "\u001b[1m813/813\u001b[0m \u001b[32m━━━━━━━━━━━━━━━━━━━━\u001b[0m\u001b[37m\u001b[0m \u001b[1m203s\u001b[0m 249ms/step - accuracy: 0.9517 - auc: 0.9516 - f1_score: 0.6130 - loss: 0.0280 - precision: 0.7803 - recall: 0.5300 - val_accuracy: 0.9319 - val_auc: 0.7575 - val_f1_score: 0.2458 - val_loss: 0.0697 - val_precision: 0.3252 - val_recall: 0.2127 - learning_rate: 1.0000e-06\n"
     ]
    },
    {
     "name": "stderr",
     "output_type": "stream",
     "text": [
      "2025-06-17 14:32:15 - INFO - \n",
      "=== Starting Epoch 88 ===\n",
      "\n"
     ]
    },
    {
     "name": "stdout",
     "output_type": "stream",
     "text": [
      "Epoch 88/100\n",
      "\u001b[1m813/813\u001b[0m \u001b[32m━━━━━━━━━━━━━━━━━━━━\u001b[0m\u001b[37m\u001b[0m \u001b[1m0s\u001b[0m 295ms/step - accuracy: 0.9515 - auc: 0.9510 - f1_score: 0.6117 - loss: 0.0279 - precision: 0.7785 - recall: 0.5292  "
     ]
    },
    {
     "name": "stderr",
     "output_type": "stream",
     "text": [
      "2025-06-17 14:36:25 - INFO - \n",
      "=== Epoch 88 Summary ===\n",
      "2025-06-17 14:36:25 - INFO - Time: 250.64s\n",
      "2025-06-17 14:36:25 - INFO - Training   - accuracy: 0.9517 - auc: 0.9513 - f1_score: 0.6127 - loss: 0.0279 - precision: 0.7794 - recall: 0.5302 - learning_rate: 0.0000\n",
      "2025-06-17 14:36:25 - INFO - Validation - accuracy: 0.9324 - auc: 0.7566 - f1_score: 0.2386 - loss: 0.0701 - precision: 0.3227 - recall: 0.2008\n",
      "2025-06-17 14:36:25 - INFO - ==================================================\n",
      "\n"
     ]
    },
    {
     "name": "stdout",
     "output_type": "stream",
     "text": [
      "\u001b[1m813/813\u001b[0m \u001b[32m━━━━━━━━━━━━━━━━━━━━\u001b[0m\u001b[37m\u001b[0m \u001b[1m251s\u001b[0m 308ms/step - accuracy: 0.9515 - auc: 0.9510 - f1_score: 0.6117 - loss: 0.0279 - precision: 0.7785 - recall: 0.5292 - val_accuracy: 0.9324 - val_auc: 0.7566 - val_f1_score: 0.2386 - val_loss: 0.0701 - val_precision: 0.3227 - val_recall: 0.2008 - learning_rate: 1.0000e-06\n"
     ]
    },
    {
     "name": "stderr",
     "output_type": "stream",
     "text": [
      "2025-06-17 14:36:25 - INFO - \n",
      "=== Starting Epoch 89 ===\n",
      "\n"
     ]
    },
    {
     "name": "stdout",
     "output_type": "stream",
     "text": [
      "Epoch 89/100\n",
      "\u001b[1m813/813\u001b[0m \u001b[32m━━━━━━━━━━━━━━━━━━━━\u001b[0m\u001b[37m\u001b[0m \u001b[1m0s\u001b[0m 236ms/step - accuracy: 0.9518 - auc: 0.9515 - f1_score: 0.6131 - loss: 0.0279 - precision: 0.7807 - recall: 0.5296  "
     ]
    },
    {
     "name": "stderr",
     "output_type": "stream",
     "text": [
      "2025-06-17 14:39:49 - INFO - \n",
      "=== Epoch 89 Summary ===\n",
      "2025-06-17 14:39:49 - INFO - Time: 203.26s\n",
      "2025-06-17 14:39:49 - INFO - Training   - accuracy: 0.9520 - auc: 0.9517 - f1_score: 0.6141 - loss: 0.0278 - precision: 0.7805 - recall: 0.5315 - learning_rate: 0.0000\n",
      "2025-06-17 14:39:49 - INFO - Validation - accuracy: 0.9327 - auc: 0.7546 - f1_score: 0.2260 - loss: 0.0726 - precision: 0.3203 - recall: 0.1910\n",
      "2025-06-17 14:39:49 - INFO - ==================================================\n",
      "\n"
     ]
    },
    {
     "name": "stdout",
     "output_type": "stream",
     "text": [
      "\u001b[1m813/813\u001b[0m \u001b[32m━━━━━━━━━━━━━━━━━━━━\u001b[0m\u001b[37m\u001b[0m \u001b[1m203s\u001b[0m 250ms/step - accuracy: 0.9518 - auc: 0.9515 - f1_score: 0.6131 - loss: 0.0279 - precision: 0.7807 - recall: 0.5296 - val_accuracy: 0.9327 - val_auc: 0.7546 - val_f1_score: 0.2260 - val_loss: 0.0726 - val_precision: 0.3203 - val_recall: 0.1910 - learning_rate: 1.0000e-06\n"
     ]
    },
    {
     "name": "stderr",
     "output_type": "stream",
     "text": [
      "2025-06-17 14:39:49 - INFO - \n",
      "=== Starting Epoch 90 ===\n",
      "\n"
     ]
    },
    {
     "name": "stdout",
     "output_type": "stream",
     "text": [
      "Epoch 90/100\n",
      "\u001b[1m813/813\u001b[0m \u001b[32m━━━━━━━━━━━━━━━━━━━━\u001b[0m\u001b[37m\u001b[0m \u001b[1m0s\u001b[0m 235ms/step - accuracy: 0.9524 - auc: 0.9526 - f1_score: 0.6217 - loss: 0.0277 - precision: 0.7865 - recall: 0.5386  "
     ]
    },
    {
     "name": "stderr",
     "output_type": "stream",
     "text": [
      "2025-06-17 14:43:10 - INFO - \n",
      "=== Epoch 90 Summary ===\n",
      "2025-06-17 14:43:10 - INFO - Time: 201.82s\n",
      "2025-06-17 14:43:10 - INFO - Training   - accuracy: 0.9524 - auc: 0.9523 - f1_score: 0.6193 - loss: 0.0276 - precision: 0.7831 - recall: 0.5370 - learning_rate: 0.0000\n",
      "2025-06-17 14:43:10 - INFO - Validation - accuracy: 0.9324 - auc: 0.7576 - f1_score: 0.2390 - loss: 0.0706 - precision: 0.3252 - recall: 0.2056\n",
      "2025-06-17 14:43:10 - INFO - ==================================================\n",
      "\n"
     ]
    },
    {
     "name": "stdout",
     "output_type": "stream",
     "text": [
      "\u001b[1m813/813\u001b[0m \u001b[32m━━━━━━━━━━━━━━━━━━━━\u001b[0m\u001b[37m\u001b[0m \u001b[1m202s\u001b[0m 248ms/step - accuracy: 0.9524 - auc: 0.9526 - f1_score: 0.6217 - loss: 0.0277 - precision: 0.7864 - recall: 0.5386 - val_accuracy: 0.9324 - val_auc: 0.7576 - val_f1_score: 0.2390 - val_loss: 0.0706 - val_precision: 0.3252 - val_recall: 0.2056 - learning_rate: 1.0000e-06\n"
     ]
    },
    {
     "name": "stderr",
     "output_type": "stream",
     "text": [
      "2025-06-17 14:43:10 - INFO - \n",
      "=== Starting Epoch 91 ===\n",
      "\n"
     ]
    },
    {
     "name": "stdout",
     "output_type": "stream",
     "text": [
      "Epoch 91/100\n",
      "\u001b[1m813/813\u001b[0m \u001b[32m━━━━━━━━━━━━━━━━━━━━\u001b[0m\u001b[37m\u001b[0m \u001b[1m0s\u001b[0m 648ms/step - accuracy: 0.9525 - auc: 0.9526 - f1_score: 0.6219 - loss: 0.0277 - precision: 0.7852 - recall: 0.5387  "
     ]
    },
    {
     "name": "stderr",
     "output_type": "stream",
     "text": [
      "2025-06-17 14:52:07 - INFO - \n",
      "=== Epoch 91 Summary ===\n",
      "2025-06-17 14:52:07 - INFO - Time: 536.30s\n",
      "2025-06-17 14:52:07 - INFO - Training   - accuracy: 0.9524 - auc: 0.9525 - f1_score: 0.6198 - loss: 0.0276 - precision: 0.7835 - recall: 0.5373 - learning_rate: 0.0000\n",
      "2025-06-17 14:52:07 - INFO - Validation - accuracy: 0.9335 - auc: 0.7577 - f1_score: 0.2364 - loss: 0.0721 - precision: 0.3311 - recall: 0.1965\n",
      "2025-06-17 14:52:07 - INFO - ==================================================\n",
      "\n"
     ]
    },
    {
     "name": "stdout",
     "output_type": "stream",
     "text": [
      "\u001b[1m813/813\u001b[0m \u001b[32m━━━━━━━━━━━━━━━━━━━━\u001b[0m\u001b[37m\u001b[0m \u001b[1m536s\u001b[0m 660ms/step - accuracy: 0.9525 - auc: 0.9526 - f1_score: 0.6219 - loss: 0.0277 - precision: 0.7852 - recall: 0.5387 - val_accuracy: 0.9335 - val_auc: 0.7577 - val_f1_score: 0.2364 - val_loss: 0.0721 - val_precision: 0.3311 - val_recall: 0.1965 - learning_rate: 1.0000e-06\n"
     ]
    },
    {
     "name": "stderr",
     "output_type": "stream",
     "text": [
      "2025-06-17 14:52:07 - INFO - \n",
      "=== Starting Epoch 92 ===\n",
      "\n"
     ]
    },
    {
     "name": "stdout",
     "output_type": "stream",
     "text": [
      "Epoch 92/100\n",
      "\u001b[1m813/813\u001b[0m \u001b[32m━━━━━━━━━━━━━━━━━━━━\u001b[0m\u001b[37m\u001b[0m \u001b[1m0s\u001b[0m 235ms/step - accuracy: 0.9527 - auc: 0.9526 - f1_score: 0.6208 - loss: 0.0275 - precision: 0.7841 - recall: 0.5385  "
     ]
    },
    {
     "name": "stderr",
     "output_type": "stream",
     "text": [
      "2025-06-17 14:55:28 - INFO - \n",
      "=== Epoch 92 Summary ===\n",
      "2025-06-17 14:55:28 - INFO - Time: 201.40s\n",
      "2025-06-17 14:55:28 - INFO - Training   - accuracy: 0.9525 - auc: 0.9523 - f1_score: 0.6202 - loss: 0.0275 - precision: 0.7840 - recall: 0.5378 - learning_rate: 0.0000\n",
      "2025-06-17 14:55:28 - INFO - Validation - accuracy: 0.9324 - auc: 0.7542 - f1_score: 0.2361 - loss: 0.0711 - precision: 0.3229 - recall: 0.2007\n",
      "2025-06-17 14:55:28 - INFO - ==================================================\n",
      "\n"
     ]
    },
    {
     "name": "stdout",
     "output_type": "stream",
     "text": [
      "\u001b[1m813/813\u001b[0m \u001b[32m━━━━━━━━━━━━━━━━━━━━\u001b[0m\u001b[37m\u001b[0m \u001b[1m201s\u001b[0m 248ms/step - accuracy: 0.9527 - auc: 0.9526 - f1_score: 0.6208 - loss: 0.0275 - precision: 0.7841 - recall: 0.5385 - val_accuracy: 0.9324 - val_auc: 0.7542 - val_f1_score: 0.2361 - val_loss: 0.0711 - val_precision: 0.3229 - val_recall: 0.2007 - learning_rate: 1.0000e-06\n"
     ]
    },
    {
     "name": "stderr",
     "output_type": "stream",
     "text": [
      "2025-06-17 14:55:28 - INFO - \n",
      "=== Starting Epoch 93 ===\n",
      "\n"
     ]
    },
    {
     "name": "stdout",
     "output_type": "stream",
     "text": [
      "Epoch 93/100\n",
      "\u001b[1m813/813\u001b[0m \u001b[32m━━━━━━━━━━━━━━━━━━━━\u001b[0m\u001b[37m\u001b[0m \u001b[1m0s\u001b[0m 237ms/step - accuracy: 0.9528 - auc: 0.9527 - f1_score: 0.6231 - loss: 0.0275 - precision: 0.7848 - recall: 0.5411  "
     ]
    },
    {
     "name": "stderr",
     "output_type": "stream",
     "text": [
      "2025-06-17 14:58:51 - INFO - \n",
      "=== Epoch 93 Summary ===\n",
      "2025-06-17 14:58:51 - INFO - Time: 202.92s\n",
      "2025-06-17 14:58:51 - INFO - Training   - accuracy: 0.9528 - auc: 0.9531 - f1_score: 0.6233 - loss: 0.0274 - precision: 0.7851 - recall: 0.5413 - learning_rate: 0.0000\n",
      "2025-06-17 14:58:51 - INFO - Validation - accuracy: 0.9297 - auc: 0.7538 - f1_score: 0.2345 - loss: 0.0731 - precision: 0.3029 - recall: 0.2070\n",
      "2025-06-17 14:58:51 - INFO - ==================================================\n",
      "\n"
     ]
    },
    {
     "name": "stdout",
     "output_type": "stream",
     "text": [
      "\u001b[1m813/813\u001b[0m \u001b[32m━━━━━━━━━━━━━━━━━━━━\u001b[0m\u001b[37m\u001b[0m \u001b[1m203s\u001b[0m 250ms/step - accuracy: 0.9528 - auc: 0.9527 - f1_score: 0.6231 - loss: 0.0275 - precision: 0.7848 - recall: 0.5411 - val_accuracy: 0.9297 - val_auc: 0.7538 - val_f1_score: 0.2345 - val_loss: 0.0731 - val_precision: 0.3029 - val_recall: 0.2070 - learning_rate: 1.0000e-06\n"
     ]
    },
    {
     "name": "stderr",
     "output_type": "stream",
     "text": [
      "2025-06-17 14:58:51 - INFO - \n",
      "=== Starting Epoch 94 ===\n",
      "\n"
     ]
    },
    {
     "name": "stdout",
     "output_type": "stream",
     "text": [
      "Epoch 94/100\n",
      "\u001b[1m813/813\u001b[0m \u001b[32m━━━━━━━━━━━━━━━━━━━━\u001b[0m\u001b[37m\u001b[0m \u001b[1m0s\u001b[0m 236ms/step - accuracy: 0.9530 - auc: 0.9529 - f1_score: 0.6251 - loss: 0.0275 - precision: 0.7867 - recall: 0.5423  "
     ]
    },
    {
     "name": "stderr",
     "output_type": "stream",
     "text": [
      "2025-06-17 15:02:12 - INFO - \n",
      "=== Epoch 94 Summary ===\n",
      "2025-06-17 15:02:12 - INFO - Time: 201.33s\n",
      "2025-06-17 15:02:12 - INFO - Training   - accuracy: 0.9530 - auc: 0.9532 - f1_score: 0.6253 - loss: 0.0274 - precision: 0.7874 - recall: 0.5426 - learning_rate: 0.0000\n",
      "2025-06-17 15:02:12 - INFO - Validation - accuracy: 0.9317 - auc: 0.7531 - f1_score: 0.2359 - loss: 0.0714 - precision: 0.3203 - recall: 0.2084\n",
      "2025-06-17 15:02:12 - INFO - ==================================================\n",
      "\n"
     ]
    },
    {
     "name": "stdout",
     "output_type": "stream",
     "text": [
      "\u001b[1m813/813\u001b[0m \u001b[32m━━━━━━━━━━━━━━━━━━━━\u001b[0m\u001b[37m\u001b[0m \u001b[1m201s\u001b[0m 248ms/step - accuracy: 0.9530 - auc: 0.9529 - f1_score: 0.6251 - loss: 0.0275 - precision: 0.7867 - recall: 0.5423 - val_accuracy: 0.9317 - val_auc: 0.7531 - val_f1_score: 0.2359 - val_loss: 0.0714 - val_precision: 0.3203 - val_recall: 0.2084 - learning_rate: 1.0000e-06\n"
     ]
    },
    {
     "name": "stderr",
     "output_type": "stream",
     "text": [
      "2025-06-17 15:02:12 - INFO - \n",
      "=== Starting Epoch 95 ===\n",
      "\n"
     ]
    },
    {
     "name": "stdout",
     "output_type": "stream",
     "text": [
      "Epoch 95/100\n",
      "\u001b[1m813/813\u001b[0m \u001b[32m━━━━━━━━━━━━━━━━━━━━\u001b[0m\u001b[37m\u001b[0m \u001b[1m0s\u001b[0m 672ms/step - accuracy: 0.9530 - auc: 0.9538 - f1_score: 0.6277 - loss: 0.0272 - precision: 0.7859 - recall: 0.5457  "
     ]
    },
    {
     "name": "stderr",
     "output_type": "stream",
     "text": [
      "2025-06-17 15:11:28 - INFO - \n",
      "=== Epoch 95 Summary ===\n",
      "2025-06-17 15:11:28 - INFO - Time: 555.23s\n",
      "2025-06-17 15:11:28 - INFO - Training   - accuracy: 0.9532 - auc: 0.9537 - f1_score: 0.6277 - loss: 0.0273 - precision: 0.7869 - recall: 0.5460 - learning_rate: 0.0000\n",
      "2025-06-17 15:11:28 - INFO - Validation - accuracy: 0.9321 - auc: 0.7550 - f1_score: 0.2414 - loss: 0.0711 - precision: 0.3243 - recall: 0.2084\n",
      "2025-06-17 15:11:28 - INFO - ==================================================\n",
      "\n"
     ]
    },
    {
     "name": "stdout",
     "output_type": "stream",
     "text": [
      "\u001b[1m813/813\u001b[0m \u001b[32m━━━━━━━━━━━━━━━━━━━━\u001b[0m\u001b[37m\u001b[0m \u001b[1m555s\u001b[0m 684ms/step - accuracy: 0.9530 - auc: 0.9538 - f1_score: 0.6277 - loss: 0.0272 - precision: 0.7859 - recall: 0.5457 - val_accuracy: 0.9321 - val_auc: 0.7550 - val_f1_score: 0.2414 - val_loss: 0.0711 - val_precision: 0.3243 - val_recall: 0.2084 - learning_rate: 1.0000e-06\n"
     ]
    },
    {
     "name": "stderr",
     "output_type": "stream",
     "text": [
      "2025-06-17 15:11:28 - INFO - \n",
      "=== Starting Epoch 96 ===\n",
      "\n"
     ]
    },
    {
     "name": "stdout",
     "output_type": "stream",
     "text": [
      "Epoch 96/100\n",
      "\u001b[1m813/813\u001b[0m \u001b[32m━━━━━━━━━━━━━━━━━━━━\u001b[0m\u001b[37m\u001b[0m \u001b[1m0s\u001b[0m 236ms/step - accuracy: 0.9535 - auc: 0.9538 - f1_score: 0.6276 - loss: 0.0272 - precision: 0.7923 - recall: 0.5446  "
     ]
    },
    {
     "name": "stderr",
     "output_type": "stream",
     "text": [
      "2025-06-17 15:14:50 - INFO - \n",
      "=== Epoch 96 Summary ===\n",
      "2025-06-17 15:14:50 - INFO - Time: 202.63s\n",
      "2025-06-17 15:14:50 - INFO - Training   - accuracy: 0.9534 - auc: 0.9541 - f1_score: 0.6294 - loss: 0.0272 - precision: 0.7897 - recall: 0.5474 - learning_rate: 0.0000\n",
      "2025-06-17 15:14:50 - INFO - Validation - accuracy: 0.9320 - auc: 0.7571 - f1_score: 0.2287 - loss: 0.0736 - precision: 0.3115 - recall: 0.1886\n",
      "2025-06-17 15:14:50 - INFO - ==================================================\n",
      "\n"
     ]
    },
    {
     "name": "stdout",
     "output_type": "stream",
     "text": [
      "\u001b[1m813/813\u001b[0m \u001b[32m━━━━━━━━━━━━━━━━━━━━\u001b[0m\u001b[37m\u001b[0m \u001b[1m203s\u001b[0m 249ms/step - accuracy: 0.9535 - auc: 0.9538 - f1_score: 0.6276 - loss: 0.0272 - precision: 0.7923 - recall: 0.5446 - val_accuracy: 0.9320 - val_auc: 0.7571 - val_f1_score: 0.2287 - val_loss: 0.0736 - val_precision: 0.3115 - val_recall: 0.1886 - learning_rate: 1.0000e-06\n"
     ]
    },
    {
     "name": "stderr",
     "output_type": "stream",
     "text": [
      "2025-06-17 15:14:50 - INFO - \n",
      "=== Starting Epoch 97 ===\n",
      "\n"
     ]
    },
    {
     "name": "stdout",
     "output_type": "stream",
     "text": [
      "Epoch 97/100\n",
      "\u001b[1m813/813\u001b[0m \u001b[32m━━━━━━━━━━━━━━━━━━━━\u001b[0m\u001b[37m\u001b[0m \u001b[1m0s\u001b[0m 235ms/step - accuracy: 0.9534 - auc: 0.9543 - f1_score: 0.6280 - loss: 0.0271 - precision: 0.7885 - recall: 0.5465  "
     ]
    },
    {
     "name": "stderr",
     "output_type": "stream",
     "text": [
      "2025-06-17 15:18:12 - INFO - \n",
      "=== Epoch 97 Summary ===\n",
      "2025-06-17 15:18:12 - INFO - Time: 201.63s\n",
      "2025-06-17 15:18:12 - INFO - Training   - accuracy: 0.9534 - auc: 0.9541 - f1_score: 0.6294 - loss: 0.0272 - precision: 0.7882 - recall: 0.5479 - learning_rate: 0.0000\n",
      "2025-06-17 15:18:12 - INFO - Validation - accuracy: 0.9316 - auc: 0.7582 - f1_score: 0.2447 - loss: 0.0723 - precision: 0.3235 - recall: 0.2150\n",
      "2025-06-17 15:18:12 - INFO - ==================================================\n",
      "\n"
     ]
    },
    {
     "name": "stdout",
     "output_type": "stream",
     "text": [
      "\u001b[1m813/813\u001b[0m \u001b[32m━━━━━━━━━━━━━━━━━━━━\u001b[0m\u001b[37m\u001b[0m \u001b[1m202s\u001b[0m 248ms/step - accuracy: 0.9534 - auc: 0.9543 - f1_score: 0.6280 - loss: 0.0271 - precision: 0.7885 - recall: 0.5465 - val_accuracy: 0.9316 - val_auc: 0.7582 - val_f1_score: 0.2447 - val_loss: 0.0723 - val_precision: 0.3235 - val_recall: 0.2150 - learning_rate: 1.0000e-06\n"
     ]
    },
    {
     "name": "stderr",
     "output_type": "stream",
     "text": [
      "2025-06-17 15:18:12 - INFO - \n",
      "=== Starting Epoch 98 ===\n",
      "\n"
     ]
    },
    {
     "name": "stdout",
     "output_type": "stream",
     "text": [
      "Epoch 98/100\n",
      "\u001b[1m813/813\u001b[0m \u001b[32m━━━━━━━━━━━━━━━━━━━━\u001b[0m\u001b[37m\u001b[0m \u001b[1m0s\u001b[0m 295ms/step - accuracy: 0.9535 - auc: 0.9544 - f1_score: 0.6313 - loss: 0.0272 - precision: 0.7902 - recall: 0.5499  "
     ]
    },
    {
     "name": "stderr",
     "output_type": "stream",
     "text": [
      "2025-06-17 15:22:22 - INFO - \n",
      "=== Epoch 98 Summary ===\n",
      "2025-06-17 15:22:22 - INFO - Time: 250.13s\n",
      "2025-06-17 15:22:22 - INFO - Training   - accuracy: 0.9534 - auc: 0.9545 - f1_score: 0.6303 - loss: 0.0271 - precision: 0.7889 - recall: 0.5490 - learning_rate: 0.0000\n",
      "2025-06-17 15:22:22 - INFO - Validation - accuracy: 0.9326 - auc: 0.7542 - f1_score: 0.2343 - loss: 0.0722 - precision: 0.3225 - recall: 0.1972\n",
      "2025-06-17 15:22:22 - INFO - ==================================================\n",
      "\n"
     ]
    },
    {
     "name": "stdout",
     "output_type": "stream",
     "text": [
      "\u001b[1m813/813\u001b[0m \u001b[32m━━━━━━━━━━━━━━━━━━━━\u001b[0m\u001b[37m\u001b[0m \u001b[1m250s\u001b[0m 308ms/step - accuracy: 0.9535 - auc: 0.9544 - f1_score: 0.6313 - loss: 0.0272 - precision: 0.7902 - recall: 0.5499 - val_accuracy: 0.9326 - val_auc: 0.7542 - val_f1_score: 0.2343 - val_loss: 0.0722 - val_precision: 0.3225 - val_recall: 0.1972 - learning_rate: 1.0000e-06\n"
     ]
    },
    {
     "name": "stderr",
     "output_type": "stream",
     "text": [
      "2025-06-17 15:22:22 - INFO - \n",
      "=== Starting Epoch 99 ===\n",
      "\n"
     ]
    },
    {
     "name": "stdout",
     "output_type": "stream",
     "text": [
      "Epoch 99/100\n",
      "\u001b[1m813/813\u001b[0m \u001b[32m━━━━━━━━━━━━━━━━━━━━\u001b[0m\u001b[37m\u001b[0m \u001b[1m0s\u001b[0m 364ms/step - accuracy: 0.9533 - auc: 0.9547 - f1_score: 0.6291 - loss: 0.0272 - precision: 0.7897 - recall: 0.5467   "
     ]
    },
    {
     "name": "stderr",
     "output_type": "stream",
     "text": [
      "2025-06-17 15:27:29 - INFO - \n",
      "=== Epoch 99 Summary ===\n",
      "2025-06-17 15:27:29 - INFO - Time: 306.51s\n",
      "2025-06-17 15:27:29 - INFO - Training   - accuracy: 0.9537 - auc: 0.9553 - f1_score: 0.6321 - loss: 0.0270 - precision: 0.7914 - recall: 0.5500 - learning_rate: 0.0000\n",
      "2025-06-17 15:27:29 - INFO - Validation - accuracy: 0.9328 - auc: 0.7556 - f1_score: 0.2381 - loss: 0.0716 - precision: 0.3274 - recall: 0.2027\n",
      "2025-06-17 15:27:29 - INFO - ==================================================\n",
      "\n"
     ]
    },
    {
     "name": "stdout",
     "output_type": "stream",
     "text": [
      "\u001b[1m813/813\u001b[0m \u001b[32m━━━━━━━━━━━━━━━━━━━━\u001b[0m\u001b[37m\u001b[0m \u001b[1m307s\u001b[0m 377ms/step - accuracy: 0.9533 - auc: 0.9547 - f1_score: 0.6291 - loss: 0.0272 - precision: 0.7897 - recall: 0.5467 - val_accuracy: 0.9328 - val_auc: 0.7556 - val_f1_score: 0.2381 - val_loss: 0.0716 - val_precision: 0.3274 - val_recall: 0.2027 - learning_rate: 1.0000e-06\n"
     ]
    },
    {
     "name": "stderr",
     "output_type": "stream",
     "text": [
      "2025-06-17 15:27:29 - INFO - \n",
      "=== Starting Epoch 100 ===\n",
      "\n"
     ]
    },
    {
     "name": "stdout",
     "output_type": "stream",
     "text": [
      "Epoch 100/100\n",
      "\u001b[1m813/813\u001b[0m \u001b[32m━━━━━━━━━━━━━━━━━━━━\u001b[0m\u001b[37m\u001b[0m \u001b[1m0s\u001b[0m 236ms/step - accuracy: 0.9539 - auc: 0.9552 - f1_score: 0.6353 - loss: 0.0270 - precision: 0.7932 - recall: 0.5521  "
     ]
    },
    {
     "name": "stderr",
     "output_type": "stream",
     "text": [
      "2025-06-17 15:30:51 - INFO - \n",
      "=== Epoch 100 Summary ===\n",
      "2025-06-17 15:30:51 - INFO - Time: 202.72s\n",
      "2025-06-17 15:30:51 - INFO - Training   - accuracy: 0.9538 - auc: 0.9549 - f1_score: 0.6339 - loss: 0.0270 - precision: 0.7921 - recall: 0.5515 - learning_rate: 0.0000\n",
      "2025-06-17 15:30:51 - INFO - Validation - accuracy: 0.9328 - auc: 0.7554 - f1_score: 0.2428 - loss: 0.0712 - precision: 0.3314 - recall: 0.2088\n",
      "2025-06-17 15:30:51 - INFO - ==================================================\n",
      "\n"
     ]
    },
    {
     "name": "stdout",
     "output_type": "stream",
     "text": [
      "\u001b[1m813/813\u001b[0m \u001b[32m━━━━━━━━━━━━━━━━━━━━\u001b[0m\u001b[37m\u001b[0m \u001b[1m203s\u001b[0m 249ms/step - accuracy: 0.9539 - auc: 0.9552 - f1_score: 0.6353 - loss: 0.0270 - precision: 0.7932 - recall: 0.5521 - val_accuracy: 0.9328 - val_auc: 0.7554 - val_f1_score: 0.2428 - val_loss: 0.0712 - val_precision: 0.3314 - val_recall: 0.2088 - learning_rate: 1.0000e-06\n"
     ]
    },
    {
     "name": "stderr",
     "output_type": "stream",
     "text": [
      "2025-06-17 15:30:51 - INFO - \n",
      "=== Training Completed! ===\n",
      "\n",
      "2025-06-17 15:30:51 - INFO - Final Metrics: accuracy: 0.9538 - auc: 0.9549 - f1_score: 0.6339 - loss: 0.0270 - precision: 0.7921 - recall: 0.5515 - val_accuracy: 0.9328 - val_auc: 0.7554 - val_f1_score: 0.2428 - val_loss: 0.0712 - val_precision: 0.3314 - val_recall: 0.2088\n",
      "\n"
     ]
    },
    {
     "name": "stdout",
     "output_type": "stream",
     "text": [
      "Restoring model weights from the end of the best epoch: 87.\n"
     ]
    }
   ],
   "source": [
    "# Model Training\n",
    "model          = build_densenet121(num_classes, use_se=False, use_eca=True)\n",
    "optimizer      = Adam(learning_rate=1e-4)\n",
    "compile_kwargs = {'optimizer': optimizer, 'loss': loss, 'metrics': metrics}\n",
    "\n",
    "history, model = start_or_resume_training(\n",
    "    model, \n",
    "    compile_kwargs, \n",
    "    train_ds, \n",
    "    val_ds, \n",
    "    TF_MAX_EPOCHS,\n",
    "    steps_per_epoch, \n",
    "    validation_steps, \n",
    "    class_weights=class_weights,\n",
    "    callbacks=[checkpoint, best_checkpoint, reduce_lr, training_logger, metrics_monitor, early_stopping], \n",
    "    checkpoint_path=checkpoint_path,\n",
    "    initial_epoch=initial_epoch,\n",
    "    output_dir=MODELS_PATH,\n",
    "    model_name=model_name,\n",
    "    logger=logger\n",
    ")"
   ]
  },
  {
   "cell_type": "code",
   "execution_count": null,
   "id": "47f1f86e-635a-47bc-8e2e-19530b84a0bf",
   "metadata": {},
   "outputs": [],
   "source": []
  }
 ],
 "metadata": {
  "kernelspec": {
   "display_name": "Python 3 (ipykernel)",
   "language": "python",
   "name": "python3"
  },
  "language_info": {
   "codemirror_mode": {
    "name": "ipython",
    "version": 3
   },
   "file_extension": ".py",
   "mimetype": "text/x-python",
   "name": "python",
   "nbconvert_exporter": "python",
   "pygments_lexer": "ipython3",
   "version": "3.10.16"
  }
 },
 "nbformat": 4,
 "nbformat_minor": 5
}
