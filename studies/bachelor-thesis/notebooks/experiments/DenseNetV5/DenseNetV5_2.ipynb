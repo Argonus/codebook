{
 "cells": [
  {
   "cell_type": "code",
   "execution_count": 1,
   "id": "b694919a-9b18-4068-8e69-7258de889dff",
   "metadata": {},
   "outputs": [
    {
     "name": "stderr",
     "output_type": "stream",
     "text": [
      "2025-06-16 12:12:45.121563: E external/local_xla/xla/stream_executor/cuda/cuda_fft.cc:467] Unable to register cuFFT factory: Attempting to register factory for plugin cuFFT when one has already been registered\n",
      "WARNING: All log messages before absl::InitializeLog() is called are written to STDERR\n",
      "E0000 00:00:1750068765.200837    7839 cuda_dnn.cc:8579] Unable to register cuDNN factory: Attempting to register factory for plugin cuDNN when one has already been registered\n",
      "E0000 00:00:1750068765.224550    7839 cuda_blas.cc:1407] Unable to register cuBLAS factory: Attempting to register factory for plugin cuBLAS when one has already been registered\n",
      "W0000 00:00:1750068765.414283    7839 computation_placer.cc:177] computation placer already registered. Please check linkage and avoid linking the same target more than once.\n",
      "W0000 00:00:1750068765.414298    7839 computation_placer.cc:177] computation placer already registered. Please check linkage and avoid linking the same target more than once.\n",
      "W0000 00:00:1750068765.414299    7839 computation_placer.cc:177] computation placer already registered. Please check linkage and avoid linking the same target more than once.\n",
      "W0000 00:00:1750068765.414300    7839 computation_placer.cc:177] computation placer already registered. Please check linkage and avoid linking the same target more than once.\n"
     ]
    },
    {
     "name": "stdout",
     "output_type": "stream",
     "text": [
      "\n",
      "GPU configuration successful!\n",
      "Device: /physical_device:GPU:0\n",
      "Memory limit: 18.0 GB\n",
      "\n",
      "TensorFlow optimizations status:\n",
      "- CPU Threads: 16 intra-op, 9 inter-op (32 cores total)\n",
      "- XLA JIT: enabled (autoclustering)\n",
      "- Synchronous Execution: enabled\n",
      "\n",
      "GPU Device Details:\n",
      "- Device: GPU /physical_device:GPU:0\n",
      "- Memory limit: 18.0 GB\n"
     ]
    },
    {
     "name": "stderr",
     "output_type": "stream",
     "text": [
      "I0000 00:00:1750068768.877925    7839 gpu_process_state.cc:208] Using CUDA malloc Async allocator for GPU: 0\n",
      "I0000 00:00:1750068768.879118    7839 gpu_device.cc:2019] Created device /job:localhost/replica:0/task:0/device:GPU:0 with 19327352832 MB memory:  -> device: 0, name: NVIDIA GeForce RTX 3090 Ti, pci bus id: 0000:01:00.0, compute capability: 8.6\n"
     ]
    }
   ],
   "source": [
    "# Import dependencies\n",
    "import os\n",
    "\n",
    "os.environ['TF_CPP_MIN_VLOG_LEVEL'] = '0'\n",
    "os.environ['TF_CPP_MIN_LOG_LEVEL'] = '2'\n",
    "os.environ['TF_GPU_ALLOCATOR'] = 'cuda_malloc_async'\n",
    "os.environ['TF_FORCE_GPU_ALLOW_GROWTH'] = 'true'\n",
    "\n",
    "from src.utils.gpu_config import configure_gpu, optimize_tensorflow\n",
    "\n",
    "configure_gpu()\n",
    "optimize_tensorflow()"
   ]
  },
  {
   "cell_type": "code",
   "execution_count": 2,
   "id": "2b854daf-5f2a-4c33-9180-5081cd415b16",
   "metadata": {},
   "outputs": [],
   "source": [
    "# Import Tensorflow Keras\n",
    "from tensorflow.keras.optimizers import Adam\n",
    "from tensorflow.keras.losses import BinaryFocalCrossentropy\n",
    "from tensorflow.keras.callbacks import ReduceLROnPlateau, ModelCheckpoint\n",
    "\n",
    "# Import local modules\n",
    "from src.utils.consts import TF_RECORD_DATASET, MODELS_PATH, TF_BUFFER_SIZE, TF_SHUFFLE_SIZE, TF_BATCH_SIZE, TF_MAX_EPOCHS\n",
    "from src.model.tensorflow_utils import load_dataset, optimize_dataset, count_dataset_size, get_num_classes, get_metrics\n",
    "from src.model.tensorflow_utils import setup_logger, setup_training_logger, setup_metrics_monitor, setup_early_stopping, filter_no_finding_class\n",
    "from src.model.tensorflow_utils import start_or_resume_training, apply_augmentation_to_dataset, calculate_class_weights, oversample_minority_classes\n",
    "from src.model.densnet.tensorflow_dense_net_121 import build_densenet121\n",
    "\n",
    "# Input Data\n",
    "initial_epoch   = None\n",
    "resume_training = False\n",
    "checkpoint_path = None\n",
    "set_name        = \"DenseNetV5\"\n",
    "model_name      = f\"{set_name}_2\"\n",
    "num_classes     = get_num_classes()\n",
    "\n",
    "train_ds = load_dataset(f\"{TF_RECORD_DATASET}/train.tfrecord\", TF_BUFFER_SIZE)\n",
    "val_ds   = load_dataset(f\"{TF_RECORD_DATASET}/val.tfrecord\", TF_BUFFER_SIZE)\n",
    "\n",
    "train_ds = filter_no_finding_class(train_ds)\n",
    "val_ds   = filter_no_finding_class(val_ds)\n",
    "\n",
    "class_weights = calculate_class_weights(train_ds, num_classes)\n",
    "train_ds      = oversample_minority_classes(train_ds, class_weights)\n",
    "class_weights = calculate_class_weights(train_ds, num_classes)"
   ]
  },
  {
   "cell_type": "code",
   "execution_count": 3,
   "id": "5f152b8a-8ff8-4095-9815-e304ce2beb52",
   "metadata": {},
   "outputs": [
    {
     "name": "stderr",
     "output_type": "stream",
     "text": [
      "Counting samples: 104166 samples [00:34, 2990.99 samples/s] \n",
      "Counting samples: 15431 samples [00:07, 2036.90 samples/s]\n"
     ]
    }
   ],
   "source": [
    "steps_per_epoch  = int(count_dataset_size(train_ds, None) / TF_BATCH_SIZE)\n",
    "validation_steps = int(count_dataset_size(val_ds, None) / TF_BATCH_SIZE)\n",
    "\n",
    "# Disable Advanced Augmentations\n",
    "probability = {\n",
    "    \"intensity_scaling\": 0,\n",
    "    \"adaptive_histogram\": 0,\n",
    "    \"zoom\": 0,\n",
    "    \"cutout\": 0\n",
    "}\n",
    "\n",
    "train_ds = train_ds.shuffle(TF_SHUFFLE_SIZE, reshuffle_each_iteration=True)\n",
    "train_ds = apply_augmentation_to_dataset(train_ds, probability)\n",
    "train_ds = optimize_dataset(train_ds, TF_BATCH_SIZE)\n",
    "\n",
    "val_ds   = optimize_dataset(val_ds, TF_BATCH_SIZE)"
   ]
  },
  {
   "cell_type": "code",
   "execution_count": 4,
   "id": "3a0e37c9-b178-40d8-bd25-8c0a6498564a",
   "metadata": {},
   "outputs": [],
   "source": [
    "# Setup Model Deps\n",
    "logger            = setup_logger()\n",
    "training_logger   = setup_training_logger(logger, TF_BATCH_SIZE, 100)\n",
    "metrics_monitor   = setup_metrics_monitor(MODELS_PATH, model_name, logger, resume_training=resume_training, initial_epoch=initial_epoch)\n",
    "metrics           = get_metrics()\n",
    "\n",
    "# Setup compile arguments\n",
    "loss           = BinaryFocalCrossentropy(gamma=2.0, from_logits=False, label_smoothing=0.05)\n",
    "reduce_lr      = ReduceLROnPlateau(monitor=\"val_f1_score\", factor=0.5,  patience=3, min_lr=1e-6, mode=\"max\", verbose=1)\n",
    "early_stopping = setup_early_stopping()\n",
    "\n",
    "epoch_mode           = 'cp-{epoch:04d}'\n",
    "save_checkpoint_path = f\"{MODELS_PATH}/{model_name}/checkpoints/{epoch_mode}.keras\"\n",
    "checkpoint           = ModelCheckpoint(save_checkpoint_path, monitor=\"val_f1_score\", save_best_only=False, mode=\"max\", save_weights_only=False)\n",
    "\n",
    "model_path      = f\"{MODELS_PATH}/{model_name}.keras\"\n",
    "best_checkpoint = ModelCheckpoint(model_path, monitor=\"val_f1_score\", save_best_only=True, mode=\"max\", save_weights_only=False)"
   ]
  },
  {
   "cell_type": "code",
   "execution_count": 5,
   "id": "c44d4a9a-ffbb-4917-a702-c35773b9857c",
   "metadata": {},
   "outputs": [
    {
     "name": "stderr",
     "output_type": "stream",
     "text": [
      "2025-06-16 12:14:43 - INFO - \n",
      "=== Training Started ===\n",
      "\n",
      "2025-06-16 12:14:43 - INFO - Batch Size: 128\n",
      "2025-06-16 12:14:43 - INFO - Optimizer: Adam\n",
      "2025-06-16 12:14:43 - INFO - \n",
      "==================================================\n",
      "\n",
      "2025-06-16 12:14:43 - INFO - \n",
      "=== Starting Epoch 1 ===\n",
      "\n"
     ]
    },
    {
     "name": "stdout",
     "output_type": "stream",
     "text": [
      "Epoch 1/100\n"
     ]
    },
    {
     "name": "stderr",
     "output_type": "stream",
     "text": [
      "WARNING: All log messages before absl::InitializeLog() is called are written to STDERR\n",
      "I0000 00:00:1750068895.810978    7897 service.cc:152] XLA service 0x7b3edc002690 initialized for platform CUDA (this does not guarantee that XLA will be used). Devices:\n",
      "I0000 00:00:1750068895.810994    7897 service.cc:160]   StreamExecutor device (0): NVIDIA GeForce RTX 3090 Ti, Compute Capability 8.6\n",
      "I0000 00:00:1750068895.827875    7897 cuda_dnn.cc:529] Loaded cuDNN version 90300\n",
      "I0000 00:00:1750068895.899557    7897 device_compiler.h:188] Compiled cluster using XLA!  This line is logged at most once for the lifetime of the process.\n"
     ]
    },
    {
     "name": "stdout",
     "output_type": "stream",
     "text": [
      "\u001b[1m813/813\u001b[0m \u001b[32m━━━━━━━━━━━━━━━━━━━━\u001b[0m\u001b[37m\u001b[0m \u001b[1m0s\u001b[0m 227ms/step - accuracy: 0.9084 - auc: 0.5559 - f1_score: 0.0414 - loss: 1.7698 - precision: 0.1481 - recall: 0.0283  "
     ]
    },
    {
     "name": "stderr",
     "output_type": "stream",
     "text": [
      "2025-06-16 12:19:57 - INFO - \n",
      "=== Epoch 1 Summary ===\n",
      "2025-06-16 12:19:57 - INFO - Time: 313.97s\n",
      "2025-06-16 12:19:57 - INFO - Training   - accuracy: 0.9175 - auc: 0.5796 - f1_score: 0.0292 - loss: 1.4502 - precision: 0.1792 - recall: 0.0167 - learning_rate: 0.0001\n",
      "2025-06-16 12:19:57 - INFO - Validation - accuracy: 0.9446 - auc: 0.6399 - f1_score: 0.0000 - loss: 0.9113 - precision: 0.0000 - recall: 0.0000\n",
      "2025-06-16 12:19:57 - INFO - ==================================================\n",
      "\n"
     ]
    },
    {
     "name": "stdout",
     "output_type": "stream",
     "text": [
      "\u001b[1m813/813\u001b[0m \u001b[32m━━━━━━━━━━━━━━━━━━━━\u001b[0m\u001b[37m\u001b[0m \u001b[1m314s\u001b[0m 253ms/step - accuracy: 0.9084 - auc: 0.5559 - f1_score: 0.0414 - loss: 1.7694 - precision: 0.1482 - recall: 0.0283 - val_accuracy: 0.9446 - val_auc: 0.6399 - val_f1_score: 0.0000e+00 - val_loss: 0.9113 - val_precision: 0.0000e+00 - val_recall: 0.0000e+00 - learning_rate: 1.0000e-04\n"
     ]
    },
    {
     "name": "stderr",
     "output_type": "stream",
     "text": [
      "2025-06-16 12:19:57 - INFO - \n",
      "=== Starting Epoch 2 ===\n",
      "\n"
     ]
    },
    {
     "name": "stdout",
     "output_type": "stream",
     "text": [
      "Epoch 2/100\n",
      "\u001b[1m813/813\u001b[0m \u001b[32m━━━━━━━━━━━━━━━━━━━━\u001b[0m\u001b[37m\u001b[0m \u001b[1m0s\u001b[0m 230ms/step - accuracy: 0.9200 - auc: 0.6112 - f1_score: 0.0219 - loss: 0.7538 - precision: 0.2722 - recall: 0.0121       "
     ]
    },
    {
     "name": "stderr",
     "output_type": "stream",
     "text": [
      "2025-06-16 12:24:23 - INFO - \n",
      "=== Epoch 2 Summary ===\n",
      "2025-06-16 12:24:23 - INFO - Time: 266.66s\n",
      "2025-06-16 12:24:23 - INFO - Training   - accuracy: 0.9206 - auc: 0.6218 - f1_score: 0.0228 - loss: 0.6231 - precision: 0.2782 - recall: 0.0126 - learning_rate: 0.0001\n",
      "2025-06-16 12:24:23 - INFO - Validation - accuracy: 0.9446 - auc: 0.6623 - f1_score: 0.0000 - loss: 0.4092 - precision: 0.0000 - recall: 0.0000\n",
      "2025-06-16 12:24:23 - INFO - ==================================================\n",
      "\n"
     ]
    },
    {
     "name": "stdout",
     "output_type": "stream",
     "text": [
      "\u001b[1m813/813\u001b[0m \u001b[32m━━━━━━━━━━━━━━━━━━━━\u001b[0m\u001b[37m\u001b[0m \u001b[1m267s\u001b[0m 241ms/step - accuracy: 0.9200 - auc: 0.6112 - f1_score: 0.0219 - loss: 0.7536 - precision: 0.2722 - recall: 0.0121 - val_accuracy: 0.9446 - val_auc: 0.6623 - val_f1_score: 0.0000e+00 - val_loss: 0.4092 - val_precision: 0.0000e+00 - val_recall: 0.0000e+00 - learning_rate: 1.0000e-04\n"
     ]
    },
    {
     "name": "stderr",
     "output_type": "stream",
     "text": [
      "2025-06-16 12:24:23 - INFO - \n",
      "=== Starting Epoch 3 ===\n",
      "\n"
     ]
    },
    {
     "name": "stdout",
     "output_type": "stream",
     "text": [
      "Epoch 3/100\n",
      "\u001b[1m813/813\u001b[0m \u001b[32m━━━━━━━━━━━━━━━━━━━━\u001b[0m\u001b[37m\u001b[0m \u001b[1m0s\u001b[0m 243ms/step - accuracy: 0.9202 - auc: 0.6367 - f1_score: 0.0238 - loss: 0.3521 - precision: 0.2960 - recall: 0.0132  "
     ]
    },
    {
     "name": "stderr",
     "output_type": "stream",
     "text": [
      "2025-06-16 12:27:56 - INFO - \n",
      "=== Epoch 3 Summary ===\n",
      "2025-06-16 12:27:56 - INFO - Time: 213.07s\n",
      "2025-06-16 12:27:56 - INFO - Training   - accuracy: 0.9208 - auc: 0.6457 - f1_score: 0.0240 - loss: 0.3020 - precision: 0.3010 - recall: 0.0134 - learning_rate: 0.0001\n",
      "2025-06-16 12:27:56 - INFO - Validation - accuracy: 0.9436 - auc: 0.6499 - f1_score: 0.0107 - loss: 0.2220 - precision: 0.1973 - recall: 0.0060\n",
      "2025-06-16 12:27:56 - INFO - ==================================================\n",
      "\n"
     ]
    },
    {
     "name": "stdout",
     "output_type": "stream",
     "text": [
      "\u001b[1m813/813\u001b[0m \u001b[32m━━━━━━━━━━━━━━━━━━━━\u001b[0m\u001b[37m\u001b[0m \u001b[1m213s\u001b[0m 262ms/step - accuracy: 0.9202 - auc: 0.6367 - f1_score: 0.0238 - loss: 0.3520 - precision: 0.2960 - recall: 0.0132 - val_accuracy: 0.9436 - val_auc: 0.6499 - val_f1_score: 0.0107 - val_loss: 0.2220 - val_precision: 0.1973 - val_recall: 0.0060 - learning_rate: 1.0000e-04\n"
     ]
    },
    {
     "name": "stderr",
     "output_type": "stream",
     "text": [
      "2025-06-16 12:27:57 - INFO - \n",
      "=== Starting Epoch 4 ===\n",
      "\n"
     ]
    },
    {
     "name": "stdout",
     "output_type": "stream",
     "text": [
      "Epoch 4/100\n",
      "\u001b[1m813/813\u001b[0m \u001b[32m━━━━━━━━━━━━━━━━━━━━\u001b[0m\u001b[37m\u001b[0m \u001b[1m0s\u001b[0m 231ms/step - accuracy: 0.9206 - auc: 0.6562 - f1_score: 0.0279 - loss: 0.1967 - precision: 0.3311 - recall: 0.0156  "
     ]
    },
    {
     "name": "stderr",
     "output_type": "stream",
     "text": [
      "2025-06-16 12:31:18 - INFO - \n",
      "=== Epoch 4 Summary ===\n",
      "2025-06-16 12:31:18 - INFO - Time: 201.26s\n",
      "2025-06-16 12:31:18 - INFO - Training   - accuracy: 0.9208 - auc: 0.6666 - f1_score: 0.0306 - loss: 0.1761 - precision: 0.3287 - recall: 0.0175 - learning_rate: 0.0001\n",
      "2025-06-16 12:31:18 - INFO - Validation - accuracy: 0.9446 - auc: 0.6855 - f1_score: 0.0000 - loss: 0.1438 - precision: 0.0000 - recall: 0.0000\n",
      "2025-06-16 12:31:18 - INFO - ==================================================\n",
      "\n"
     ]
    },
    {
     "name": "stdout",
     "output_type": "stream",
     "text": [
      "\u001b[1m813/813\u001b[0m \u001b[32m━━━━━━━━━━━━━━━━━━━━\u001b[0m\u001b[37m\u001b[0m \u001b[1m201s\u001b[0m 248ms/step - accuracy: 0.9206 - auc: 0.6562 - f1_score: 0.0279 - loss: 0.1966 - precision: 0.3311 - recall: 0.0156 - val_accuracy: 0.9446 - val_auc: 0.6855 - val_f1_score: 0.0000e+00 - val_loss: 0.1438 - val_precision: 0.0000e+00 - val_recall: 0.0000e+00 - learning_rate: 1.0000e-04\n"
     ]
    },
    {
     "name": "stderr",
     "output_type": "stream",
     "text": [
      "2025-06-16 12:31:18 - INFO - \n",
      "=== Starting Epoch 5 ===\n",
      "\n"
     ]
    },
    {
     "name": "stdout",
     "output_type": "stream",
     "text": [
      "Epoch 5/100\n",
      "\u001b[1m813/813\u001b[0m \u001b[32m━━━━━━━━━━━━━━━━━━━━\u001b[0m\u001b[37m\u001b[0m \u001b[1m0s\u001b[0m 232ms/step - accuracy: 0.9204 - auc: 0.6823 - f1_score: 0.0375 - loss: 0.1310 - precision: 0.3517 - recall: 0.0227  "
     ]
    },
    {
     "name": "stderr",
     "output_type": "stream",
     "text": [
      "2025-06-16 12:34:41 - INFO - \n",
      "=== Epoch 5 Summary ===\n",
      "2025-06-16 12:34:41 - INFO - Time: 203.53s\n",
      "2025-06-16 12:34:41 - INFO - Training   - accuracy: 0.9208 - auc: 0.6876 - f1_score: 0.0402 - loss: 0.1216 - precision: 0.3673 - recall: 0.0245 - learning_rate: 0.0001\n",
      "2025-06-16 12:34:41 - INFO - Validation - accuracy: 0.9440 - auc: 0.7076 - f1_score: 0.0075 - loss: 0.1037 - precision: 0.2612 - recall: 0.0059\n",
      "2025-06-16 12:34:41 - INFO - ==================================================\n",
      "\n"
     ]
    },
    {
     "name": "stdout",
     "output_type": "stream",
     "text": [
      "\u001b[1m813/813\u001b[0m \u001b[32m━━━━━━━━━━━━━━━━━━━━\u001b[0m\u001b[37m\u001b[0m \u001b[1m204s\u001b[0m 250ms/step - accuracy: 0.9204 - auc: 0.6823 - f1_score: 0.0375 - loss: 0.1310 - precision: 0.3518 - recall: 0.0227 - val_accuracy: 0.9440 - val_auc: 0.7076 - val_f1_score: 0.0075 - val_loss: 0.1037 - val_precision: 0.2612 - val_recall: 0.0059 - learning_rate: 1.0000e-04\n"
     ]
    },
    {
     "name": "stderr",
     "output_type": "stream",
     "text": [
      "2025-06-16 12:34:41 - INFO - \n",
      "=== Starting Epoch 6 ===\n",
      "\n"
     ]
    },
    {
     "name": "stdout",
     "output_type": "stream",
     "text": [
      "Epoch 6/100\n",
      "\u001b[1m813/813\u001b[0m \u001b[32m━━━━━━━━━━━━━━━━━━━━\u001b[0m\u001b[37m\u001b[0m \u001b[1m0s\u001b[0m 230ms/step - accuracy: 0.9206 - auc: 0.6967 - f1_score: 0.0457 - loss: 0.1004 - precision: 0.3860 - recall: 0.0284  "
     ]
    },
    {
     "name": "stderr",
     "output_type": "stream",
     "text": [
      "2025-06-16 12:38:02 - INFO - \n",
      "=== Epoch 6 Summary ===\n",
      "2025-06-16 12:38:02 - INFO - Time: 201.05s\n",
      "2025-06-16 12:38:02 - INFO - Training   - accuracy: 0.9211 - auc: 0.7016 - f1_score: 0.0511 - loss: 0.0957 - precision: 0.4076 - recall: 0.0323 - learning_rate: 0.0001\n",
      "2025-06-16 12:38:02 - INFO - Validation - accuracy: 0.9442 - auc: 0.6830 - f1_score: 0.0163 - loss: 0.0952 - precision: 0.3473 - recall: 0.0091\n",
      "2025-06-16 12:38:02 - INFO - ==================================================\n",
      "\n"
     ]
    },
    {
     "name": "stdout",
     "output_type": "stream",
     "text": [
      "\u001b[1m813/813\u001b[0m \u001b[32m━━━━━━━━━━━━━━━━━━━━\u001b[0m\u001b[37m\u001b[0m \u001b[1m201s\u001b[0m 247ms/step - accuracy: 0.9206 - auc: 0.6967 - f1_score: 0.0457 - loss: 0.1004 - precision: 0.3860 - recall: 0.0284 - val_accuracy: 0.9442 - val_auc: 0.6830 - val_f1_score: 0.0163 - val_loss: 0.0952 - val_precision: 0.3473 - val_recall: 0.0091 - learning_rate: 1.0000e-04\n"
     ]
    },
    {
     "name": "stderr",
     "output_type": "stream",
     "text": [
      "2025-06-16 12:38:02 - INFO - \n",
      "=== Starting Epoch 7 ===\n",
      "\n"
     ]
    },
    {
     "name": "stdout",
     "output_type": "stream",
     "text": [
      "Epoch 7/100\n",
      "\u001b[1m813/813\u001b[0m \u001b[32m━━━━━━━━━━━━━━━━━━━━\u001b[0m\u001b[37m\u001b[0m \u001b[1m0s\u001b[0m 233ms/step - accuracy: 0.9212 - auc: 0.7108 - f1_score: 0.0627 - loss: 0.0847 - precision: 0.4548 - recall: 0.0406  "
     ]
    },
    {
     "name": "stderr",
     "output_type": "stream",
     "text": [
      "2025-06-16 12:41:26 - INFO - \n",
      "=== Epoch 7 Summary ===\n",
      "2025-06-16 12:41:26 - INFO - Time: 203.88s\n",
      "2025-06-16 12:41:26 - INFO - Training   - accuracy: 0.9216 - auc: 0.7156 - f1_score: 0.0630 - loss: 0.0819 - precision: 0.4594 - recall: 0.0412 - learning_rate: 0.0001\n",
      "2025-06-16 12:41:26 - INFO - Validation - accuracy: 0.9381 - auc: 0.7205 - f1_score: 0.0148 - loss: 0.0811 - precision: 0.0733 - recall: 0.0102\n",
      "2025-06-16 12:41:26 - INFO - ==================================================\n",
      "\n"
     ]
    },
    {
     "name": "stdout",
     "output_type": "stream",
     "text": [
      "\u001b[1m813/813\u001b[0m \u001b[32m━━━━━━━━━━━━━━━━━━━━\u001b[0m\u001b[37m\u001b[0m \u001b[1m204s\u001b[0m 251ms/step - accuracy: 0.9212 - auc: 0.7108 - f1_score: 0.0627 - loss: 0.0847 - precision: 0.4548 - recall: 0.0406 - val_accuracy: 0.9381 - val_auc: 0.7205 - val_f1_score: 0.0148 - val_loss: 0.0811 - val_precision: 0.0733 - val_recall: 0.0102 - learning_rate: 1.0000e-04\n"
     ]
    },
    {
     "name": "stderr",
     "output_type": "stream",
     "text": [
      "2025-06-16 12:41:26 - INFO - \n",
      "=== Starting Epoch 8 ===\n",
      "\n"
     ]
    },
    {
     "name": "stdout",
     "output_type": "stream",
     "text": [
      "Epoch 8/100\n",
      "\u001b[1m813/813\u001b[0m \u001b[32m━━━━━━━━━━━━━━━━━━━━\u001b[0m\u001b[37m\u001b[0m \u001b[1m0s\u001b[0m 231ms/step - accuracy: 0.9213 - auc: 0.7210 - f1_score: 0.0712 - loss: 0.0759 - precision: 0.4812 - recall: 0.0475  "
     ]
    },
    {
     "name": "stderr",
     "output_type": "stream",
     "text": [
      "2025-06-16 12:44:49 - INFO - \n",
      "=== Epoch 8 Summary ===\n",
      "2025-06-16 12:44:49 - INFO - Time: 202.81s\n",
      "2025-06-16 12:44:49 - INFO - Training   - accuracy: 0.9218 - auc: 0.7259 - f1_score: 0.0717 - loss: 0.0741 - precision: 0.4767 - recall: 0.0479 - learning_rate: 0.0001\n",
      "2025-06-16 12:44:49 - INFO - Validation - accuracy: 0.9432 - auc: 0.7255 - f1_score: 0.0301 - loss: 0.0751 - precision: 0.3074 - recall: 0.0199\n",
      "2025-06-16 12:44:49 - INFO - ==================================================\n",
      "\n"
     ]
    },
    {
     "name": "stdout",
     "output_type": "stream",
     "text": [
      "\u001b[1m813/813\u001b[0m \u001b[32m━━━━━━━━━━━━━━━━━━━━\u001b[0m\u001b[37m\u001b[0m \u001b[1m203s\u001b[0m 250ms/step - accuracy: 0.9213 - auc: 0.7210 - f1_score: 0.0712 - loss: 0.0759 - precision: 0.4812 - recall: 0.0475 - val_accuracy: 0.9432 - val_auc: 0.7255 - val_f1_score: 0.0301 - val_loss: 0.0751 - val_precision: 0.3074 - val_recall: 0.0199 - learning_rate: 1.0000e-04\n"
     ]
    },
    {
     "name": "stderr",
     "output_type": "stream",
     "text": [
      "2025-06-16 12:44:49 - INFO - \n",
      "=== Starting Epoch 9 ===\n",
      "\n"
     ]
    },
    {
     "name": "stdout",
     "output_type": "stream",
     "text": [
      "Epoch 9/100\n",
      "\u001b[1m813/813\u001b[0m \u001b[32m━━━━━━━━━━━━━━━━━━━━\u001b[0m\u001b[37m\u001b[0m \u001b[1m0s\u001b[0m 229ms/step - accuracy: 0.9211 - auc: 0.7324 - f1_score: 0.0733 - loss: 0.0707 - precision: 0.4789 - recall: 0.0493  "
     ]
    },
    {
     "name": "stderr",
     "output_type": "stream",
     "text": [
      "2025-06-16 12:48:10 - INFO - \n",
      "=== Epoch 9 Summary ===\n",
      "2025-06-16 12:48:10 - INFO - Time: 200.72s\n",
      "2025-06-16 12:48:10 - INFO - Training   - accuracy: 0.9218 - auc: 0.7336 - f1_score: 0.0748 - loss: 0.0694 - precision: 0.4812 - recall: 0.0506 - learning_rate: 0.0001\n",
      "2025-06-16 12:48:10 - INFO - Validation - accuracy: 0.9449 - auc: 0.7325 - f1_score: 0.0640 - loss: 0.0700 - precision: 0.5290 - recall: 0.0429\n",
      "2025-06-16 12:48:10 - INFO - ==================================================\n",
      "\n"
     ]
    },
    {
     "name": "stdout",
     "output_type": "stream",
     "text": [
      "\u001b[1m813/813\u001b[0m \u001b[32m━━━━━━━━━━━━━━━━━━━━\u001b[0m\u001b[37m\u001b[0m \u001b[1m201s\u001b[0m 247ms/step - accuracy: 0.9211 - auc: 0.7324 - f1_score: 0.0733 - loss: 0.0707 - precision: 0.4789 - recall: 0.0493 - val_accuracy: 0.9449 - val_auc: 0.7325 - val_f1_score: 0.0640 - val_loss: 0.0700 - val_precision: 0.5290 - val_recall: 0.0429 - learning_rate: 1.0000e-04\n"
     ]
    },
    {
     "name": "stderr",
     "output_type": "stream",
     "text": [
      "2025-06-16 12:48:10 - INFO - \n",
      "=== Starting Epoch 10 ===\n",
      "\n"
     ]
    },
    {
     "name": "stdout",
     "output_type": "stream",
     "text": [
      "Epoch 10/100\n",
      "\u001b[1m813/813\u001b[0m \u001b[32m━━━━━━━━━━━━━━━━━━━━\u001b[0m\u001b[37m\u001b[0m \u001b[1m0s\u001b[0m 231ms/step - accuracy: 0.9218 - auc: 0.7384 - f1_score: 0.0789 - loss: 0.0670 - precision: 0.4892 - recall: 0.0539  "
     ]
    },
    {
     "name": "stderr",
     "output_type": "stream",
     "text": [
      "2025-06-16 12:51:32 - INFO - \n",
      "=== Epoch 10 Summary ===\n",
      "2025-06-16 12:51:32 - INFO - Time: 201.65s\n",
      "2025-06-16 12:51:32 - INFO - Training   - accuracy: 0.9221 - auc: 0.7406 - f1_score: 0.0799 - loss: 0.0661 - precision: 0.4924 - recall: 0.0543 - learning_rate: 0.0001\n",
      "2025-06-16 12:51:32 - INFO - Validation - accuracy: 0.9437 - auc: 0.7403 - f1_score: 0.0491 - loss: 0.0682 - precision: 0.3949 - recall: 0.0298\n",
      "2025-06-16 12:51:32 - INFO - ==================================================\n",
      "\n"
     ]
    },
    {
     "name": "stdout",
     "output_type": "stream",
     "text": [
      "\u001b[1m813/813\u001b[0m \u001b[32m━━━━━━━━━━━━━━━━━━━━\u001b[0m\u001b[37m\u001b[0m \u001b[1m202s\u001b[0m 248ms/step - accuracy: 0.9218 - auc: 0.7384 - f1_score: 0.0789 - loss: 0.0670 - precision: 0.4892 - recall: 0.0539 - val_accuracy: 0.9437 - val_auc: 0.7403 - val_f1_score: 0.0491 - val_loss: 0.0682 - val_precision: 0.3949 - val_recall: 0.0298 - learning_rate: 1.0000e-04\n"
     ]
    },
    {
     "name": "stderr",
     "output_type": "stream",
     "text": [
      "2025-06-16 12:51:32 - INFO - \n",
      "=== Starting Epoch 11 ===\n",
      "\n"
     ]
    },
    {
     "name": "stdout",
     "output_type": "stream",
     "text": [
      "Epoch 11/100\n",
      "\u001b[1m813/813\u001b[0m \u001b[32m━━━━━━━━━━━━━━━━━━━━\u001b[0m\u001b[37m\u001b[0m \u001b[1m0s\u001b[0m 232ms/step - accuracy: 0.9214 - auc: 0.7431 - f1_score: 0.0905 - loss: 0.0645 - precision: 0.4926 - recall: 0.0625  "
     ]
    },
    {
     "name": "stderr",
     "output_type": "stream",
     "text": [
      "2025-06-16 12:54:54 - INFO - \n",
      "=== Epoch 11 Summary ===\n",
      "2025-06-16 12:54:54 - INFO - Time: 202.21s\n",
      "2025-06-16 12:54:54 - INFO - Training   - accuracy: 0.9221 - auc: 0.7481 - f1_score: 0.0904 - loss: 0.0636 - precision: 0.4974 - recall: 0.0621 - learning_rate: 0.0001\n",
      "2025-06-16 12:54:54 - INFO - Validation - accuracy: 0.9435 - auc: 0.7451 - f1_score: 0.0634 - loss: 0.0649 - precision: 0.4106 - recall: 0.0467\n",
      "2025-06-16 12:54:54 - INFO - ==================================================\n",
      "\n"
     ]
    },
    {
     "name": "stdout",
     "output_type": "stream",
     "text": [
      "\u001b[1m813/813\u001b[0m \u001b[32m━━━━━━━━━━━━━━━━━━━━\u001b[0m\u001b[37m\u001b[0m \u001b[1m202s\u001b[0m 249ms/step - accuracy: 0.9215 - auc: 0.7431 - f1_score: 0.0905 - loss: 0.0645 - precision: 0.4926 - recall: 0.0625 - val_accuracy: 0.9435 - val_auc: 0.7451 - val_f1_score: 0.0634 - val_loss: 0.0649 - val_precision: 0.4106 - val_recall: 0.0467 - learning_rate: 1.0000e-04\n"
     ]
    },
    {
     "name": "stderr",
     "output_type": "stream",
     "text": [
      "2025-06-16 12:54:54 - INFO - \n",
      "=== Starting Epoch 12 ===\n",
      "\n"
     ]
    },
    {
     "name": "stdout",
     "output_type": "stream",
     "text": [
      "Epoch 12/100\n",
      "\u001b[1m813/813\u001b[0m \u001b[32m━━━━━━━━━━━━━━━━━━━━\u001b[0m\u001b[37m\u001b[0m \u001b[1m0s\u001b[0m 231ms/step - accuracy: 0.9216 - auc: 0.7504 - f1_score: 0.0919 - loss: 0.0625 - precision: 0.4888 - recall: 0.0635  "
     ]
    },
    {
     "name": "stderr",
     "output_type": "stream",
     "text": [
      "2025-06-16 12:58:18 - INFO - \n",
      "=== Epoch 12 Summary ===\n",
      "2025-06-16 12:58:18 - INFO - Time: 204.01s\n",
      "2025-06-16 12:58:18 - INFO - Training   - accuracy: 0.9220 - auc: 0.7537 - f1_score: 0.0916 - loss: 0.0617 - precision: 0.4899 - recall: 0.0633 - learning_rate: 0.0001\n",
      "2025-06-16 12:58:18 - INFO - Validation - accuracy: 0.9395 - auc: 0.7405 - f1_score: 0.1261 - loss: 0.0657 - precision: 0.3543 - recall: 0.1132\n",
      "2025-06-16 12:58:18 - INFO - ==================================================\n",
      "\n"
     ]
    },
    {
     "name": "stdout",
     "output_type": "stream",
     "text": [
      "\u001b[1m813/813\u001b[0m \u001b[32m━━━━━━━━━━━━━━━━━━━━\u001b[0m\u001b[37m\u001b[0m \u001b[1m204s\u001b[0m 251ms/step - accuracy: 0.9216 - auc: 0.7504 - f1_score: 0.0919 - loss: 0.0625 - precision: 0.4888 - recall: 0.0635 - val_accuracy: 0.9395 - val_auc: 0.7405 - val_f1_score: 0.1261 - val_loss: 0.0657 - val_precision: 0.3543 - val_recall: 0.1132 - learning_rate: 1.0000e-04\n"
     ]
    },
    {
     "name": "stderr",
     "output_type": "stream",
     "text": [
      "2025-06-16 12:58:18 - INFO - \n",
      "=== Starting Epoch 13 ===\n",
      "\n"
     ]
    },
    {
     "name": "stdout",
     "output_type": "stream",
     "text": [
      "Epoch 13/100\n",
      "\u001b[1m813/813\u001b[0m \u001b[32m━━━━━━━━━━━━━━━━━━━━\u001b[0m\u001b[37m\u001b[0m \u001b[1m0s\u001b[0m 229ms/step - accuracy: 0.9220 - auc: 0.7539 - f1_score: 0.0985 - loss: 0.0608 - precision: 0.5053 - recall: 0.0685  "
     ]
    },
    {
     "name": "stderr",
     "output_type": "stream",
     "text": [
      "2025-06-16 13:01:39 - INFO - \n",
      "=== Epoch 13 Summary ===\n",
      "2025-06-16 13:01:39 - INFO - Time: 201.53s\n",
      "2025-06-16 13:01:39 - INFO - Training   - accuracy: 0.9222 - auc: 0.7576 - f1_score: 0.0999 - loss: 0.0604 - precision: 0.5015 - recall: 0.0691 - learning_rate: 0.0001\n",
      "2025-06-16 13:01:39 - INFO - Validation - accuracy: 0.9432 - auc: 0.7361 - f1_score: 0.0886 - loss: 0.0635 - precision: 0.4175 - recall: 0.0654\n",
      "2025-06-16 13:01:39 - INFO - ==================================================\n",
      "\n"
     ]
    },
    {
     "name": "stdout",
     "output_type": "stream",
     "text": [
      "\u001b[1m813/813\u001b[0m \u001b[32m━━━━━━━━━━━━━━━━━━━━\u001b[0m\u001b[37m\u001b[0m \u001b[1m202s\u001b[0m 248ms/step - accuracy: 0.9220 - auc: 0.7539 - f1_score: 0.0985 - loss: 0.0608 - precision: 0.5053 - recall: 0.0685 - val_accuracy: 0.9432 - val_auc: 0.7361 - val_f1_score: 0.0886 - val_loss: 0.0635 - val_precision: 0.4175 - val_recall: 0.0654 - learning_rate: 1.0000e-04\n"
     ]
    },
    {
     "name": "stderr",
     "output_type": "stream",
     "text": [
      "2025-06-16 13:01:40 - INFO - \n",
      "=== Starting Epoch 14 ===\n",
      "\n"
     ]
    },
    {
     "name": "stdout",
     "output_type": "stream",
     "text": [
      "Epoch 14/100\n",
      "\u001b[1m813/813\u001b[0m \u001b[32m━━━━━━━━━━━━━━━━━━━━\u001b[0m\u001b[37m\u001b[0m \u001b[1m0s\u001b[0m 231ms/step - accuracy: 0.9222 - auc: 0.7616 - f1_score: 0.1057 - loss: 0.0594 - precision: 0.5103 - recall: 0.0734  "
     ]
    },
    {
     "name": "stderr",
     "output_type": "stream",
     "text": [
      "2025-06-16 13:05:01 - INFO - \n",
      "=== Epoch 14 Summary ===\n",
      "2025-06-16 13:05:01 - INFO - Time: 201.02s\n",
      "2025-06-16 13:05:01 - INFO - Training   - accuracy: 0.9223 - auc: 0.7638 - f1_score: 0.1064 - loss: 0.0590 - precision: 0.5058 - recall: 0.0737 - learning_rate: 0.0001\n",
      "2025-06-16 13:05:01 - INFO - Validation - accuracy: 0.9262 - auc: 0.7261 - f1_score: 0.0812 - loss: 0.0688 - precision: 0.1659 - recall: 0.0828\n",
      "2025-06-16 13:05:01 - INFO - ==================================================\n",
      "\n"
     ]
    },
    {
     "name": "stdout",
     "output_type": "stream",
     "text": [
      "\u001b[1m813/813\u001b[0m \u001b[32m━━━━━━━━━━━━━━━━━━━━\u001b[0m\u001b[37m\u001b[0m \u001b[1m201s\u001b[0m 247ms/step - accuracy: 0.9222 - auc: 0.7616 - f1_score: 0.1057 - loss: 0.0594 - precision: 0.5103 - recall: 0.0734 - val_accuracy: 0.9262 - val_auc: 0.7261 - val_f1_score: 0.0812 - val_loss: 0.0688 - val_precision: 0.1659 - val_recall: 0.0828 - learning_rate: 1.0000e-04\n"
     ]
    },
    {
     "name": "stderr",
     "output_type": "stream",
     "text": [
      "2025-06-16 13:05:01 - INFO - \n",
      "=== Starting Epoch 15 ===\n",
      "\n"
     ]
    },
    {
     "name": "stdout",
     "output_type": "stream",
     "text": [
      "Epoch 15/100\n",
      "\u001b[1m813/813\u001b[0m \u001b[32m━━━━━━━━━━━━━━━━━━━━\u001b[0m\u001b[37m\u001b[0m \u001b[1m0s\u001b[0m 230ms/step - accuracy: 0.9215 - auc: 0.7623 - f1_score: 0.1065 - loss: 0.0589 - precision: 0.4921 - recall: 0.0743  \n",
      "Epoch 15: ReduceLROnPlateau reducing learning rate to 4.999999873689376e-05.\n"
     ]
    },
    {
     "name": "stderr",
     "output_type": "stream",
     "text": [
      "2025-06-16 13:08:21 - INFO - \n",
      "=== Epoch 15 Summary ===\n",
      "2025-06-16 13:08:21 - INFO - Time: 200.29s\n",
      "2025-06-16 13:08:21 - INFO - Training   - accuracy: 0.9220 - auc: 0.7661 - f1_score: 0.1085 - loss: 0.0584 - precision: 0.4968 - recall: 0.0757 - learning_rate: 0.0001\n",
      "2025-06-16 13:08:21 - INFO - Validation - accuracy: 0.9423 - auc: 0.7554 - f1_score: 0.0622 - loss: 0.0604 - precision: 0.3429 - recall: 0.0463\n",
      "2025-06-16 13:08:21 - INFO - ==================================================\n",
      "\n"
     ]
    },
    {
     "name": "stdout",
     "output_type": "stream",
     "text": [
      "\u001b[1m813/813\u001b[0m \u001b[32m━━━━━━━━━━━━━━━━━━━━\u001b[0m\u001b[37m\u001b[0m \u001b[1m200s\u001b[0m 246ms/step - accuracy: 0.9215 - auc: 0.7623 - f1_score: 0.1065 - loss: 0.0589 - precision: 0.4921 - recall: 0.0743 - val_accuracy: 0.9423 - val_auc: 0.7554 - val_f1_score: 0.0622 - val_loss: 0.0604 - val_precision: 0.3429 - val_recall: 0.0463 - learning_rate: 1.0000e-04\n"
     ]
    },
    {
     "name": "stderr",
     "output_type": "stream",
     "text": [
      "2025-06-16 13:08:21 - INFO - \n",
      "=== Starting Epoch 16 ===\n",
      "\n"
     ]
    },
    {
     "name": "stdout",
     "output_type": "stream",
     "text": [
      "Epoch 16/100\n",
      "\u001b[1m813/813\u001b[0m \u001b[32m━━━━━━━━━━━━━━━━━━━━\u001b[0m\u001b[37m\u001b[0m \u001b[1m0s\u001b[0m 232ms/step - accuracy: 0.9227 - auc: 0.7799 - f1_score: 0.1291 - loss: 0.0564 - precision: 0.5235 - recall: 0.0919  "
     ]
    },
    {
     "name": "stderr",
     "output_type": "stream",
     "text": [
      "2025-06-16 13:11:45 - INFO - \n",
      "=== Epoch 16 Summary ===\n",
      "2025-06-16 13:11:45 - INFO - Time: 204.25s\n",
      "2025-06-16 13:11:45 - INFO - Training   - accuracy: 0.9230 - auc: 0.7852 - f1_score: 0.1341 - loss: 0.0555 - precision: 0.5261 - recall: 0.0958 - learning_rate: 0.0000\n",
      "2025-06-16 13:11:45 - INFO - Validation - accuracy: 0.9422 - auc: 0.7624 - f1_score: 0.1046 - loss: 0.0599 - precision: 0.3846 - recall: 0.0736\n",
      "2025-06-16 13:11:45 - INFO - ==================================================\n",
      "\n"
     ]
    },
    {
     "name": "stdout",
     "output_type": "stream",
     "text": [
      "\u001b[1m813/813\u001b[0m \u001b[32m━━━━━━━━━━━━━━━━━━━━\u001b[0m\u001b[37m\u001b[0m \u001b[1m204s\u001b[0m 251ms/step - accuracy: 0.9227 - auc: 0.7799 - f1_score: 0.1291 - loss: 0.0564 - precision: 0.5236 - recall: 0.0919 - val_accuracy: 0.9422 - val_auc: 0.7624 - val_f1_score: 0.1046 - val_loss: 0.0599 - val_precision: 0.3846 - val_recall: 0.0736 - learning_rate: 5.0000e-05\n"
     ]
    },
    {
     "name": "stderr",
     "output_type": "stream",
     "text": [
      "2025-06-16 13:11:45 - INFO - \n",
      "=== Starting Epoch 17 ===\n",
      "\n"
     ]
    },
    {
     "name": "stdout",
     "output_type": "stream",
     "text": [
      "Epoch 17/100\n",
      "\u001b[1m813/813\u001b[0m \u001b[32m━━━━━━━━━━━━━━━━━━━━\u001b[0m\u001b[37m\u001b[0m \u001b[1m0s\u001b[0m 232ms/step - accuracy: 0.9220 - auc: 0.7879 - f1_score: 0.1406 - loss: 0.0549 - precision: 0.5211 - recall: 0.1018  "
     ]
    },
    {
     "name": "stderr",
     "output_type": "stream",
     "text": [
      "2025-06-16 13:15:07 - INFO - \n",
      "=== Epoch 17 Summary ===\n",
      "2025-06-16 13:15:07 - INFO - Time: 201.43s\n",
      "2025-06-16 13:15:07 - INFO - Training   - accuracy: 0.9228 - auc: 0.7917 - f1_score: 0.1448 - loss: 0.0543 - precision: 0.5233 - recall: 0.1050 - learning_rate: 0.0000\n",
      "2025-06-16 13:15:07 - INFO - Validation - accuracy: 0.9423 - auc: 0.7649 - f1_score: 0.0802 - loss: 0.0586 - precision: 0.3641 - recall: 0.0560\n",
      "2025-06-16 13:15:07 - INFO - ==================================================\n",
      "\n"
     ]
    },
    {
     "name": "stdout",
     "output_type": "stream",
     "text": [
      "\u001b[1m813/813\u001b[0m \u001b[32m━━━━━━━━━━━━━━━━━━━━\u001b[0m\u001b[37m\u001b[0m \u001b[1m201s\u001b[0m 248ms/step - accuracy: 0.9220 - auc: 0.7880 - f1_score: 0.1406 - loss: 0.0549 - precision: 0.5211 - recall: 0.1018 - val_accuracy: 0.9423 - val_auc: 0.7649 - val_f1_score: 0.0802 - val_loss: 0.0586 - val_precision: 0.3641 - val_recall: 0.0560 - learning_rate: 5.0000e-05\n"
     ]
    },
    {
     "name": "stderr",
     "output_type": "stream",
     "text": [
      "2025-06-16 13:15:07 - INFO - \n",
      "=== Starting Epoch 18 ===\n",
      "\n"
     ]
    },
    {
     "name": "stdout",
     "output_type": "stream",
     "text": [
      "Epoch 18/100\n",
      "\u001b[1m813/813\u001b[0m \u001b[32m━━━━━━━━━━━━━━━━━━━━\u001b[0m\u001b[37m\u001b[0m \u001b[1m0s\u001b[0m 230ms/step - accuracy: 0.9227 - auc: 0.7928 - f1_score: 0.1477 - loss: 0.0539 - precision: 0.5215 - recall: 0.1080  "
     ]
    },
    {
     "name": "stderr",
     "output_type": "stream",
     "text": [
      "2025-06-16 13:18:23 - INFO - \n",
      "=== Epoch 18 Summary ===\n",
      "2025-06-16 13:18:24 - INFO - Time: 196.97s\n",
      "2025-06-16 13:18:24 - INFO - Training   - accuracy: 0.9230 - auc: 0.7960 - f1_score: 0.1532 - loss: 0.0534 - precision: 0.5254 - recall: 0.1122 - learning_rate: 0.0000\n",
      "2025-06-16 13:18:24 - INFO - Validation - accuracy: 0.9346 - auc: 0.7612 - f1_score: 0.1442 - loss: 0.0615 - precision: 0.2890 - recall: 0.1239\n",
      "2025-06-16 13:18:24 - INFO - ==================================================\n",
      "\n"
     ]
    },
    {
     "name": "stdout",
     "output_type": "stream",
     "text": [
      "\u001b[1m813/813\u001b[0m \u001b[32m━━━━━━━━━━━━━━━━━━━━\u001b[0m\u001b[37m\u001b[0m \u001b[1m197s\u001b[0m 242ms/step - accuracy: 0.9227 - auc: 0.7928 - f1_score: 0.1477 - loss: 0.0539 - precision: 0.5215 - recall: 0.1080 - val_accuracy: 0.9346 - val_auc: 0.7612 - val_f1_score: 0.1442 - val_loss: 0.0615 - val_precision: 0.2890 - val_recall: 0.1239 - learning_rate: 5.0000e-05\n"
     ]
    },
    {
     "name": "stderr",
     "output_type": "stream",
     "text": [
      "2025-06-16 13:18:24 - INFO - \n",
      "=== Starting Epoch 19 ===\n",
      "\n"
     ]
    },
    {
     "name": "stdout",
     "output_type": "stream",
     "text": [
      "Epoch 19/100\n",
      "\u001b[1m813/813\u001b[0m \u001b[32m━━━━━━━━━━━━━━━━━━━━\u001b[0m\u001b[37m\u001b[0m \u001b[1m0s\u001b[0m 239ms/step - accuracy: 0.9228 - auc: 0.7986 - f1_score: 0.1584 - loss: 0.0530 - precision: 0.5233 - recall: 0.1160  "
     ]
    },
    {
     "name": "stderr",
     "output_type": "stream",
     "text": [
      "2025-06-16 13:21:47 - INFO - \n",
      "=== Epoch 19 Summary ===\n",
      "2025-06-16 13:21:47 - INFO - Time: 203.84s\n",
      "2025-06-16 13:21:47 - INFO - Training   - accuracy: 0.9230 - auc: 0.8017 - f1_score: 0.1626 - loss: 0.0525 - precision: 0.5249 - recall: 0.1196 - learning_rate: 0.0000\n",
      "2025-06-16 13:21:47 - INFO - Validation - accuracy: 0.9358 - auc: 0.7589 - f1_score: 0.1591 - loss: 0.0614 - precision: 0.3313 - recall: 0.1557\n",
      "2025-06-16 13:21:47 - INFO - ==================================================\n",
      "\n"
     ]
    },
    {
     "name": "stdout",
     "output_type": "stream",
     "text": [
      "\u001b[1m813/813\u001b[0m \u001b[32m━━━━━━━━━━━━━━━━━━━━\u001b[0m\u001b[37m\u001b[0m \u001b[1m204s\u001b[0m 251ms/step - accuracy: 0.9228 - auc: 0.7986 - f1_score: 0.1584 - loss: 0.0530 - precision: 0.5233 - recall: 0.1160 - val_accuracy: 0.9358 - val_auc: 0.7589 - val_f1_score: 0.1591 - val_loss: 0.0614 - val_precision: 0.3313 - val_recall: 0.1557 - learning_rate: 5.0000e-05\n"
     ]
    },
    {
     "name": "stderr",
     "output_type": "stream",
     "text": [
      "2025-06-16 13:21:47 - INFO - \n",
      "=== Starting Epoch 20 ===\n",
      "\n"
     ]
    },
    {
     "name": "stdout",
     "output_type": "stream",
     "text": [
      "Epoch 20/100\n",
      "\u001b[1m813/813\u001b[0m \u001b[32m━━━━━━━━━━━━━━━━━━━━\u001b[0m\u001b[37m\u001b[0m \u001b[1m0s\u001b[0m 361ms/step - accuracy: 0.9231 - auc: 0.8037 - f1_score: 0.1682 - loss: 0.0521 - precision: 0.5267 - recall: 0.1245  "
     ]
    },
    {
     "name": "stderr",
     "output_type": "stream",
     "text": [
      "2025-06-16 13:26:49 - INFO - \n",
      "=== Epoch 20 Summary ===\n",
      "2025-06-16 13:26:49 - INFO - Time: 301.98s\n",
      "2025-06-16 13:26:49 - INFO - Training   - accuracy: 0.9234 - auc: 0.8053 - f1_score: 0.1724 - loss: 0.0519 - precision: 0.5327 - recall: 0.1282 - learning_rate: 0.0000\n",
      "2025-06-16 13:26:49 - INFO - Validation - accuracy: 0.9389 - auc: 0.7642 - f1_score: 0.1208 - loss: 0.0597 - precision: 0.3325 - recall: 0.1018\n",
      "2025-06-16 13:26:49 - INFO - ==================================================\n",
      "\n"
     ]
    },
    {
     "name": "stdout",
     "output_type": "stream",
     "text": [
      "\u001b[1m813/813\u001b[0m \u001b[32m━━━━━━━━━━━━━━━━━━━━\u001b[0m\u001b[37m\u001b[0m \u001b[1m302s\u001b[0m 372ms/step - accuracy: 0.9231 - auc: 0.8037 - f1_score: 0.1682 - loss: 0.0521 - precision: 0.5267 - recall: 0.1245 - val_accuracy: 0.9389 - val_auc: 0.7642 - val_f1_score: 0.1208 - val_loss: 0.0597 - val_precision: 0.3325 - val_recall: 0.1018 - learning_rate: 5.0000e-05\n"
     ]
    },
    {
     "name": "stderr",
     "output_type": "stream",
     "text": [
      "2025-06-16 13:26:49 - INFO - \n",
      "=== Starting Epoch 21 ===\n",
      "\n"
     ]
    },
    {
     "name": "stdout",
     "output_type": "stream",
     "text": [
      "Epoch 21/100\n",
      "\u001b[1m813/813\u001b[0m \u001b[32m━━━━━━━━━━━━━━━━━━━━\u001b[0m\u001b[37m\u001b[0m \u001b[1m0s\u001b[0m 531ms/step - accuracy: 0.9229 - auc: 0.8076 - f1_score: 0.1748 - loss: 0.0514 - precision: 0.5242 - recall: 0.1301  "
     ]
    },
    {
     "name": "stderr",
     "output_type": "stream",
     "text": [
      "2025-06-16 13:34:09 - INFO - \n",
      "=== Epoch 21 Summary ===\n",
      "2025-06-16 13:34:09 - INFO - Time: 440.02s\n",
      "2025-06-16 13:34:09 - INFO - Training   - accuracy: 0.9235 - auc: 0.8100 - f1_score: 0.1792 - loss: 0.0509 - precision: 0.5319 - recall: 0.1341 - learning_rate: 0.0000\n",
      "2025-06-16 13:34:09 - INFO - Validation - accuracy: 0.9398 - auc: 0.7637 - f1_score: 0.1345 - loss: 0.0582 - precision: 0.3714 - recall: 0.1265\n",
      "2025-06-16 13:34:09 - INFO - ==================================================\n",
      "\n"
     ]
    },
    {
     "name": "stdout",
     "output_type": "stream",
     "text": [
      "\u001b[1m813/813\u001b[0m \u001b[32m━━━━━━━━━━━━━━━━━━━━\u001b[0m\u001b[37m\u001b[0m \u001b[1m440s\u001b[0m 542ms/step - accuracy: 0.9229 - auc: 0.8076 - f1_score: 0.1748 - loss: 0.0514 - precision: 0.5242 - recall: 0.1301 - val_accuracy: 0.9398 - val_auc: 0.7637 - val_f1_score: 0.1345 - val_loss: 0.0582 - val_precision: 0.3714 - val_recall: 0.1265 - learning_rate: 5.0000e-05\n"
     ]
    },
    {
     "name": "stderr",
     "output_type": "stream",
     "text": [
      "2025-06-16 13:34:09 - INFO - \n",
      "=== Starting Epoch 22 ===\n",
      "\n"
     ]
    },
    {
     "name": "stdout",
     "output_type": "stream",
     "text": [
      "Epoch 22/100\n",
      "\u001b[1m813/813\u001b[0m \u001b[32m━━━━━━━━━━━━━━━━━━━━\u001b[0m\u001b[37m\u001b[0m \u001b[1m0s\u001b[0m 471ms/step - accuracy: 0.9232 - auc: 0.8135 - f1_score: 0.1865 - loss: 0.0508 - precision: 0.5386 - recall: 0.1406  \n",
      "Epoch 22: ReduceLROnPlateau reducing learning rate to 2.499999936844688e-05.\n"
     ]
    },
    {
     "name": "stderr",
     "output_type": "stream",
     "text": [
      "2025-06-16 13:40:41 - INFO - \n",
      "=== Epoch 22 Summary ===\n",
      "2025-06-16 13:40:41 - INFO - Time: 391.57s\n",
      "2025-06-16 13:40:41 - INFO - Training   - accuracy: 0.9238 - auc: 0.8152 - f1_score: 0.1890 - loss: 0.0503 - precision: 0.5407 - recall: 0.1426 - learning_rate: 0.0000\n",
      "2025-06-16 13:40:41 - INFO - Validation - accuracy: 0.9364 - auc: 0.7638 - f1_score: 0.1146 - loss: 0.0605 - precision: 0.2865 - recall: 0.0996\n",
      "2025-06-16 13:40:41 - INFO - ==================================================\n",
      "\n"
     ]
    },
    {
     "name": "stdout",
     "output_type": "stream",
     "text": [
      "\u001b[1m813/813\u001b[0m \u001b[32m━━━━━━━━━━━━━━━━━━━━\u001b[0m\u001b[37m\u001b[0m \u001b[1m392s\u001b[0m 482ms/step - accuracy: 0.9232 - auc: 0.8135 - f1_score: 0.1865 - loss: 0.0508 - precision: 0.5386 - recall: 0.1406 - val_accuracy: 0.9364 - val_auc: 0.7638 - val_f1_score: 0.1146 - val_loss: 0.0605 - val_precision: 0.2865 - val_recall: 0.0996 - learning_rate: 5.0000e-05\n"
     ]
    },
    {
     "name": "stderr",
     "output_type": "stream",
     "text": [
      "2025-06-16 13:40:41 - INFO - \n",
      "=== Starting Epoch 23 ===\n",
      "\n"
     ]
    },
    {
     "name": "stdout",
     "output_type": "stream",
     "text": [
      "Epoch 23/100\n",
      "\u001b[1m813/813\u001b[0m \u001b[32m━━━━━━━━━━━━━━━━━━━━\u001b[0m\u001b[37m\u001b[0m \u001b[1m0s\u001b[0m 508ms/step - accuracy: 0.9247 - auc: 0.8225 - f1_score: 0.2094 - loss: 0.0490 - precision: 0.5612 - recall: 0.1601  "
     ]
    },
    {
     "name": "stderr",
     "output_type": "stream",
     "text": [
      "2025-06-16 13:47:52 - INFO - \n",
      "=== Epoch 23 Summary ===\n",
      "2025-06-16 13:47:52 - INFO - Time: 430.61s\n",
      "2025-06-16 13:47:52 - INFO - Training   - accuracy: 0.9253 - auc: 0.8277 - f1_score: 0.2156 - loss: 0.0481 - precision: 0.5675 - recall: 0.1657 - learning_rate: 0.0000\n",
      "2025-06-16 13:47:52 - INFO - Validation - accuracy: 0.9387 - auc: 0.7769 - f1_score: 0.1616 - loss: 0.0575 - precision: 0.3485 - recall: 0.1230\n",
      "2025-06-16 13:47:52 - INFO - ==================================================\n",
      "\n"
     ]
    },
    {
     "name": "stdout",
     "output_type": "stream",
     "text": [
      "\u001b[1m813/813\u001b[0m \u001b[32m━━━━━━━━━━━━━━━━━━━━\u001b[0m\u001b[37m\u001b[0m \u001b[1m431s\u001b[0m 530ms/step - accuracy: 0.9247 - auc: 0.8225 - f1_score: 0.2094 - loss: 0.0490 - precision: 0.5612 - recall: 0.1601 - val_accuracy: 0.9387 - val_auc: 0.7769 - val_f1_score: 0.1616 - val_loss: 0.0575 - val_precision: 0.3485 - val_recall: 0.1230 - learning_rate: 2.5000e-05\n"
     ]
    },
    {
     "name": "stderr",
     "output_type": "stream",
     "text": [
      "2025-06-16 13:47:52 - INFO - \n",
      "=== Starting Epoch 24 ===\n",
      "\n"
     ]
    },
    {
     "name": "stdout",
     "output_type": "stream",
     "text": [
      "Epoch 24/100\n",
      "\u001b[1m813/813\u001b[0m \u001b[32m━━━━━━━━━━━━━━━━━━━━\u001b[0m\u001b[37m\u001b[0m \u001b[1m0s\u001b[0m 537ms/step - accuracy: 0.9253 - auc: 0.8310 - f1_score: 0.2261 - loss: 0.0475 - precision: 0.5704 - recall: 0.1756  "
     ]
    },
    {
     "name": "stderr",
     "output_type": "stream",
     "text": [
      "2025-06-16 13:55:17 - INFO - \n",
      "=== Epoch 24 Summary ===\n",
      "2025-06-16 13:55:17 - INFO - Time: 445.44s\n",
      "2025-06-16 13:55:17 - INFO - Training   - accuracy: 0.9258 - auc: 0.8349 - f1_score: 0.2290 - loss: 0.0470 - precision: 0.5750 - recall: 0.1778 - learning_rate: 0.0000\n",
      "2025-06-16 13:55:17 - INFO - Validation - accuracy: 0.9353 - auc: 0.7555 - f1_score: 0.1193 - loss: 0.0609 - precision: 0.2792 - recall: 0.1068\n",
      "2025-06-16 13:55:17 - INFO - ==================================================\n",
      "\n"
     ]
    },
    {
     "name": "stdout",
     "output_type": "stream",
     "text": [
      "\u001b[1m813/813\u001b[0m \u001b[32m━━━━━━━━━━━━━━━━━━━━\u001b[0m\u001b[37m\u001b[0m \u001b[1m445s\u001b[0m 548ms/step - accuracy: 0.9253 - auc: 0.8310 - f1_score: 0.2261 - loss: 0.0475 - precision: 0.5704 - recall: 0.1756 - val_accuracy: 0.9353 - val_auc: 0.7555 - val_f1_score: 0.1193 - val_loss: 0.0609 - val_precision: 0.2792 - val_recall: 0.1068 - learning_rate: 2.5000e-05\n"
     ]
    },
    {
     "name": "stderr",
     "output_type": "stream",
     "text": [
      "2025-06-16 13:55:17 - INFO - \n",
      "=== Starting Epoch 25 ===\n",
      "\n"
     ]
    },
    {
     "name": "stdout",
     "output_type": "stream",
     "text": [
      "Epoch 25/100\n",
      "\u001b[1m813/813\u001b[0m \u001b[32m━━━━━━━━━━━━━━━━━━━━\u001b[0m\u001b[37m\u001b[0m \u001b[1m0s\u001b[0m 611ms/step - accuracy: 0.9255 - auc: 0.8357 - f1_score: 0.2352 - loss: 0.0470 - precision: 0.5746 - recall: 0.1847  "
     ]
    },
    {
     "name": "stderr",
     "output_type": "stream",
     "text": [
      "2025-06-16 14:03:43 - INFO - \n",
      "=== Epoch 25 Summary ===\n",
      "2025-06-16 14:03:43 - INFO - Time: 505.86s\n",
      "2025-06-16 14:03:43 - INFO - Training   - accuracy: 0.9262 - auc: 0.8392 - f1_score: 0.2395 - loss: 0.0462 - precision: 0.5804 - recall: 0.1874 - learning_rate: 0.0000\n",
      "2025-06-16 14:03:43 - INFO - Validation - accuracy: 0.9374 - auc: 0.7590 - f1_score: 0.1620 - loss: 0.0594 - precision: 0.3349 - recall: 0.1322\n",
      "2025-06-16 14:03:43 - INFO - ==================================================\n",
      "\n"
     ]
    },
    {
     "name": "stdout",
     "output_type": "stream",
     "text": [
      "\u001b[1m813/813\u001b[0m \u001b[32m━━━━━━━━━━━━━━━━━━━━\u001b[0m\u001b[37m\u001b[0m \u001b[1m506s\u001b[0m 623ms/step - accuracy: 0.9255 - auc: 0.8357 - f1_score: 0.2353 - loss: 0.0470 - precision: 0.5746 - recall: 0.1847 - val_accuracy: 0.9374 - val_auc: 0.7590 - val_f1_score: 0.1620 - val_loss: 0.0594 - val_precision: 0.3349 - val_recall: 0.1322 - learning_rate: 2.5000e-05\n"
     ]
    },
    {
     "name": "stderr",
     "output_type": "stream",
     "text": [
      "2025-06-16 14:03:43 - INFO - \n",
      "=== Starting Epoch 26 ===\n",
      "\n"
     ]
    },
    {
     "name": "stdout",
     "output_type": "stream",
     "text": [
      "Epoch 26/100\n",
      "\u001b[1m813/813\u001b[0m \u001b[32m━━━━━━━━━━━━━━━━━━━━\u001b[0m\u001b[37m\u001b[0m \u001b[1m0s\u001b[0m 518ms/step - accuracy: 0.9264 - auc: 0.8435 - f1_score: 0.2513 - loss: 0.0458 - precision: 0.5845 - recall: 0.1969  "
     ]
    },
    {
     "name": "stderr",
     "output_type": "stream",
     "text": [
      "2025-06-16 14:10:52 - INFO - \n",
      "=== Epoch 26 Summary ===\n",
      "2025-06-16 14:10:52 - INFO - Time: 429.41s\n",
      "2025-06-16 14:10:52 - INFO - Training   - accuracy: 0.9269 - auc: 0.8450 - f1_score: 0.2544 - loss: 0.0453 - precision: 0.5882 - recall: 0.2001 - learning_rate: 0.0000\n",
      "2025-06-16 14:10:52 - INFO - Validation - accuracy: 0.9389 - auc: 0.7683 - f1_score: 0.1409 - loss: 0.0580 - precision: 0.3393 - recall: 0.1081\n",
      "2025-06-16 14:10:52 - INFO - ==================================================\n",
      "\n"
     ]
    },
    {
     "name": "stdout",
     "output_type": "stream",
     "text": [
      "\u001b[1m813/813\u001b[0m \u001b[32m━━━━━━━━━━━━━━━━━━━━\u001b[0m\u001b[37m\u001b[0m \u001b[1m429s\u001b[0m 529ms/step - accuracy: 0.9264 - auc: 0.8435 - f1_score: 0.2513 - loss: 0.0458 - precision: 0.5845 - recall: 0.1969 - val_accuracy: 0.9389 - val_auc: 0.7683 - val_f1_score: 0.1409 - val_loss: 0.0580 - val_precision: 0.3393 - val_recall: 0.1081 - learning_rate: 2.5000e-05\n"
     ]
    },
    {
     "name": "stderr",
     "output_type": "stream",
     "text": [
      "2025-06-16 14:10:52 - INFO - \n",
      "=== Starting Epoch 27 ===\n",
      "\n"
     ]
    },
    {
     "name": "stdout",
     "output_type": "stream",
     "text": [
      "Epoch 27/100\n",
      "\u001b[1m813/813\u001b[0m \u001b[32m━━━━━━━━━━━━━━━━━━━━\u001b[0m\u001b[37m\u001b[0m \u001b[1m0s\u001b[0m 544ms/step - accuracy: 0.9263 - auc: 0.8470 - f1_score: 0.2567 - loss: 0.0451 - precision: 0.5879 - recall: 0.2020  "
     ]
    },
    {
     "name": "stderr",
     "output_type": "stream",
     "text": [
      "2025-06-16 14:18:23 - INFO - \n",
      "=== Epoch 27 Summary ===\n",
      "2025-06-16 14:18:23 - INFO - Time: 450.91s\n",
      "2025-06-16 14:18:23 - INFO - Training   - accuracy: 0.9273 - auc: 0.8491 - f1_score: 0.2621 - loss: 0.0446 - precision: 0.5940 - recall: 0.2071 - learning_rate: 0.0000\n",
      "2025-06-16 14:18:23 - INFO - Validation - accuracy: 0.9386 - auc: 0.7651 - f1_score: 0.1524 - loss: 0.0582 - precision: 0.3501 - recall: 0.1277\n",
      "2025-06-16 14:18:23 - INFO - ==================================================\n",
      "\n"
     ]
    },
    {
     "name": "stdout",
     "output_type": "stream",
     "text": [
      "\u001b[1m813/813\u001b[0m \u001b[32m━━━━━━━━━━━━━━━━━━━━\u001b[0m\u001b[37m\u001b[0m \u001b[1m451s\u001b[0m 555ms/step - accuracy: 0.9263 - auc: 0.8470 - f1_score: 0.2568 - loss: 0.0451 - precision: 0.5879 - recall: 0.2020 - val_accuracy: 0.9386 - val_auc: 0.7651 - val_f1_score: 0.1524 - val_loss: 0.0582 - val_precision: 0.3501 - val_recall: 0.1277 - learning_rate: 2.5000e-05\n"
     ]
    },
    {
     "name": "stderr",
     "output_type": "stream",
     "text": [
      "2025-06-16 14:18:23 - INFO - \n",
      "=== Starting Epoch 28 ===\n",
      "\n"
     ]
    },
    {
     "name": "stdout",
     "output_type": "stream",
     "text": [
      "Epoch 28/100\n",
      "\u001b[1m813/813\u001b[0m \u001b[32m━━━━━━━━━━━━━━━━━━━━\u001b[0m\u001b[37m\u001b[0m \u001b[1m0s\u001b[0m 691ms/step - accuracy: 0.9274 - auc: 0.8529 - f1_score: 0.2707 - loss: 0.0444 - precision: 0.6034 - recall: 0.2141    \n",
      "Epoch 28: ReduceLROnPlateau reducing learning rate to 1.249999968422344e-05.\n"
     ]
    },
    {
     "name": "stderr",
     "output_type": "stream",
     "text": [
      "2025-06-16 14:27:53 - INFO - \n",
      "=== Epoch 28 Summary ===\n",
      "2025-06-16 14:27:53 - INFO - Time: 570.00s\n",
      "2025-06-16 14:27:53 - INFO - Training   - accuracy: 0.9281 - auc: 0.8544 - f1_score: 0.2755 - loss: 0.0439 - precision: 0.6080 - recall: 0.2182 - learning_rate: 0.0000\n",
      "2025-06-16 14:27:53 - INFO - Validation - accuracy: 0.9352 - auc: 0.7535 - f1_score: 0.1374 - loss: 0.0607 - precision: 0.2966 - recall: 0.1244\n",
      "2025-06-16 14:27:53 - INFO - ==================================================\n",
      "\n"
     ]
    },
    {
     "name": "stdout",
     "output_type": "stream",
     "text": [
      "\u001b[1m813/813\u001b[0m \u001b[32m━━━━━━━━━━━━━━━━━━━━\u001b[0m\u001b[37m\u001b[0m \u001b[1m570s\u001b[0m 702ms/step - accuracy: 0.9274 - auc: 0.8529 - f1_score: 0.2707 - loss: 0.0444 - precision: 0.6034 - recall: 0.2141 - val_accuracy: 0.9352 - val_auc: 0.7535 - val_f1_score: 0.1374 - val_loss: 0.0607 - val_precision: 0.2966 - val_recall: 0.1244 - learning_rate: 2.5000e-05\n"
     ]
    },
    {
     "name": "stderr",
     "output_type": "stream",
     "text": [
      "2025-06-16 14:27:53 - INFO - \n",
      "=== Starting Epoch 29 ===\n",
      "\n"
     ]
    },
    {
     "name": "stdout",
     "output_type": "stream",
     "text": [
      "Epoch 29/100\n",
      "\u001b[1m813/813\u001b[0m \u001b[32m━━━━━━━━━━━━━━━━━━━━\u001b[0m\u001b[37m\u001b[0m \u001b[1m0s\u001b[0m 547ms/step - accuracy: 0.9288 - auc: 0.8604 - f1_score: 0.2882 - loss: 0.0429 - precision: 0.6124 - recall: 0.2283  "
     ]
    },
    {
     "name": "stderr",
     "output_type": "stream",
     "text": [
      "2025-06-16 14:35:27 - INFO - \n",
      "=== Epoch 29 Summary ===\n",
      "2025-06-16 14:35:27 - INFO - Time: 454.15s\n",
      "2025-06-16 14:35:27 - INFO - Training   - accuracy: 0.9298 - auc: 0.8653 - f1_score: 0.2993 - loss: 0.0419 - precision: 0.6284 - recall: 0.2376 - learning_rate: 0.0000\n",
      "2025-06-16 14:35:27 - INFO - Validation - accuracy: 0.9326 - auc: 0.7620 - f1_score: 0.1703 - loss: 0.0616 - precision: 0.2944 - recall: 0.1556\n",
      "2025-06-16 14:35:27 - INFO - ==================================================\n",
      "\n"
     ]
    },
    {
     "name": "stdout",
     "output_type": "stream",
     "text": [
      "\u001b[1m813/813\u001b[0m \u001b[32m━━━━━━━━━━━━━━━━━━━━\u001b[0m\u001b[37m\u001b[0m \u001b[1m454s\u001b[0m 559ms/step - accuracy: 0.9288 - auc: 0.8604 - f1_score: 0.2883 - loss: 0.0429 - precision: 0.6124 - recall: 0.2283 - val_accuracy: 0.9326 - val_auc: 0.7620 - val_f1_score: 0.1703 - val_loss: 0.0616 - val_precision: 0.2944 - val_recall: 0.1556 - learning_rate: 1.2500e-05\n"
     ]
    },
    {
     "name": "stderr",
     "output_type": "stream",
     "text": [
      "2025-06-16 14:35:28 - INFO - \n",
      "=== Starting Epoch 30 ===\n",
      "\n"
     ]
    },
    {
     "name": "stdout",
     "output_type": "stream",
     "text": [
      "Epoch 30/100\n",
      "\u001b[1m813/813\u001b[0m \u001b[32m━━━━━━━━━━━━━━━━━━━━\u001b[0m\u001b[37m\u001b[0m \u001b[1m0s\u001b[0m 743ms/step - accuracy: 0.9301 - auc: 0.8701 - f1_score: 0.3134 - loss: 0.0412 - precision: 0.6331 - recall: 0.2511  "
     ]
    },
    {
     "name": "stderr",
     "output_type": "stream",
     "text": [
      "2025-06-16 14:45:41 - INFO - \n",
      "=== Epoch 30 Summary ===\n",
      "2025-06-16 14:45:41 - INFO - Time: 613.59s\n",
      "2025-06-16 14:45:41 - INFO - Training   - accuracy: 0.9310 - auc: 0.8724 - f1_score: 0.3188 - loss: 0.0406 - precision: 0.6419 - recall: 0.2550 - learning_rate: 0.0000\n",
      "2025-06-16 14:45:41 - INFO - Validation - accuracy: 0.9363 - auc: 0.7622 - f1_score: 0.1767 - loss: 0.0590 - precision: 0.3467 - recall: 0.1690\n",
      "2025-06-16 14:45:41 - INFO - ==================================================\n",
      "\n"
     ]
    },
    {
     "name": "stdout",
     "output_type": "stream",
     "text": [
      "\u001b[1m813/813\u001b[0m \u001b[32m━━━━━━━━━━━━━━━━━━━━\u001b[0m\u001b[37m\u001b[0m \u001b[1m614s\u001b[0m 755ms/step - accuracy: 0.9301 - auc: 0.8701 - f1_score: 0.3134 - loss: 0.0412 - precision: 0.6331 - recall: 0.2511 - val_accuracy: 0.9363 - val_auc: 0.7622 - val_f1_score: 0.1767 - val_loss: 0.0590 - val_precision: 0.3467 - val_recall: 0.1690 - learning_rate: 1.2500e-05\n"
     ]
    },
    {
     "name": "stderr",
     "output_type": "stream",
     "text": [
      "2025-06-16 14:45:41 - INFO - \n",
      "=== Starting Epoch 31 ===\n",
      "\n"
     ]
    },
    {
     "name": "stdout",
     "output_type": "stream",
     "text": [
      "Epoch 31/100\n",
      "\u001b[1m813/813\u001b[0m \u001b[32m━━━━━━━━━━━━━━━━━━━━\u001b[0m\u001b[37m\u001b[0m \u001b[1m0s\u001b[0m 513ms/step - accuracy: 0.9304 - auc: 0.8734 - f1_score: 0.3280 - loss: 0.0404 - precision: 0.6368 - recall: 0.2629  "
     ]
    },
    {
     "name": "stderr",
     "output_type": "stream",
     "text": [
      "2025-06-16 14:52:48 - INFO - \n",
      "=== Epoch 31 Summary ===\n",
      "2025-06-16 14:52:48 - INFO - Time: 426.85s\n",
      "2025-06-16 14:52:48 - INFO - Training   - accuracy: 0.9314 - auc: 0.8762 - f1_score: 0.3332 - loss: 0.0399 - precision: 0.6438 - recall: 0.2673 - learning_rate: 0.0000\n",
      "2025-06-16 14:52:48 - INFO - Validation - accuracy: 0.9389 - auc: 0.7657 - f1_score: 0.1796 - loss: 0.0582 - precision: 0.3679 - recall: 0.1434\n",
      "2025-06-16 14:52:48 - INFO - ==================================================\n",
      "\n"
     ]
    },
    {
     "name": "stdout",
     "output_type": "stream",
     "text": [
      "\u001b[1m813/813\u001b[0m \u001b[32m━━━━━━━━━━━━━━━━━━━━\u001b[0m\u001b[37m\u001b[0m \u001b[1m427s\u001b[0m 525ms/step - accuracy: 0.9304 - auc: 0.8734 - f1_score: 0.3280 - loss: 0.0404 - precision: 0.6368 - recall: 0.2629 - val_accuracy: 0.9389 - val_auc: 0.7657 - val_f1_score: 0.1796 - val_loss: 0.0582 - val_precision: 0.3679 - val_recall: 0.1434 - learning_rate: 1.2500e-05\n"
     ]
    },
    {
     "name": "stderr",
     "output_type": "stream",
     "text": [
      "2025-06-16 14:52:48 - INFO - \n",
      "=== Starting Epoch 32 ===\n",
      "\n"
     ]
    },
    {
     "name": "stdout",
     "output_type": "stream",
     "text": [
      "Epoch 32/100\n",
      "\u001b[1m813/813\u001b[0m \u001b[32m━━━━━━━━━━━━━━━━━━━━\u001b[0m\u001b[37m\u001b[0m \u001b[1m0s\u001b[0m 535ms/step - accuracy: 0.9320 - auc: 0.8788 - f1_score: 0.3426 - loss: 0.0396 - precision: 0.6487 - recall: 0.2768  "
     ]
    },
    {
     "name": "stderr",
     "output_type": "stream",
     "text": [
      "2025-06-16 15:00:12 - INFO - \n",
      "=== Epoch 32 Summary ===\n",
      "2025-06-16 15:00:12 - INFO - Time: 443.54s\n",
      "2025-06-16 15:00:12 - INFO - Training   - accuracy: 0.9322 - auc: 0.8806 - f1_score: 0.3447 - loss: 0.0393 - precision: 0.6522 - recall: 0.2779 - learning_rate: 0.0000\n",
      "2025-06-16 15:00:12 - INFO - Validation - accuracy: 0.9361 - auc: 0.7630 - f1_score: 0.1481 - loss: 0.0622 - precision: 0.3027 - recall: 0.1178\n",
      "2025-06-16 15:00:12 - INFO - ==================================================\n",
      "\n"
     ]
    },
    {
     "name": "stdout",
     "output_type": "stream",
     "text": [
      "\u001b[1m813/813\u001b[0m \u001b[32m━━━━━━━━━━━━━━━━━━━━\u001b[0m\u001b[37m\u001b[0m \u001b[1m444s\u001b[0m 546ms/step - accuracy: 0.9320 - auc: 0.8788 - f1_score: 0.3426 - loss: 0.0396 - precision: 0.6487 - recall: 0.2768 - val_accuracy: 0.9361 - val_auc: 0.7630 - val_f1_score: 0.1481 - val_loss: 0.0622 - val_precision: 0.3027 - val_recall: 0.1178 - learning_rate: 1.2500e-05\n"
     ]
    },
    {
     "name": "stderr",
     "output_type": "stream",
     "text": [
      "2025-06-16 15:00:12 - INFO - \n",
      "=== Starting Epoch 33 ===\n",
      "\n"
     ]
    },
    {
     "name": "stdout",
     "output_type": "stream",
     "text": [
      "Epoch 33/100\n",
      "\u001b[1m813/813\u001b[0m \u001b[32m━━━━━━━━━━━━━━━━━━━━\u001b[0m\u001b[37m\u001b[0m \u001b[1m0s\u001b[0m 601ms/step - accuracy: 0.9330 - auc: 0.8835 - f1_score: 0.3528 - loss: 0.0386 - precision: 0.6581 - recall: 0.2849  "
     ]
    },
    {
     "name": "stderr",
     "output_type": "stream",
     "text": [
      "2025-06-16 15:08:30 - INFO - \n",
      "=== Epoch 33 Summary ===\n",
      "2025-06-16 15:08:30 - INFO - Time: 498.87s\n",
      "2025-06-16 15:08:30 - INFO - Training   - accuracy: 0.9331 - auc: 0.8854 - f1_score: 0.3580 - loss: 0.0384 - precision: 0.6599 - recall: 0.2895 - learning_rate: 0.0000\n",
      "2025-06-16 15:08:30 - INFO - Validation - accuracy: 0.9365 - auc: 0.7677 - f1_score: 0.1737 - loss: 0.0617 - precision: 0.3347 - recall: 0.1492\n",
      "2025-06-16 15:08:30 - INFO - ==================================================\n",
      "\n"
     ]
    },
    {
     "name": "stdout",
     "output_type": "stream",
     "text": [
      "\u001b[1m813/813\u001b[0m \u001b[32m━━━━━━━━━━━━━━━━━━━━\u001b[0m\u001b[37m\u001b[0m \u001b[1m499s\u001b[0m 614ms/step - accuracy: 0.9330 - auc: 0.8836 - f1_score: 0.3528 - loss: 0.0386 - precision: 0.6581 - recall: 0.2849 - val_accuracy: 0.9365 - val_auc: 0.7677 - val_f1_score: 0.1737 - val_loss: 0.0617 - val_precision: 0.3347 - val_recall: 0.1492 - learning_rate: 1.2500e-05\n"
     ]
    },
    {
     "name": "stderr",
     "output_type": "stream",
     "text": [
      "2025-06-16 15:08:30 - INFO - \n",
      "=== Starting Epoch 34 ===\n",
      "\n"
     ]
    },
    {
     "name": "stdout",
     "output_type": "stream",
     "text": [
      "Epoch 34/100\n",
      "\u001b[1m813/813\u001b[0m \u001b[32m━━━━━━━━━━━━━━━━━━━━\u001b[0m\u001b[37m\u001b[0m \u001b[1m0s\u001b[0m 490ms/step - accuracy: 0.9332 - auc: 0.8875 - f1_score: 0.3665 - loss: 0.0381 - precision: 0.6581 - recall: 0.2964  \n",
      "Epoch 34: ReduceLROnPlateau reducing learning rate to 6.24999984211172e-06.\n"
     ]
    },
    {
     "name": "stderr",
     "output_type": "stream",
     "text": [
      "2025-06-16 15:15:18 - INFO - \n",
      "=== Epoch 34 Summary ===\n",
      "2025-06-16 15:15:18 - INFO - Time: 407.03s\n",
      "2025-06-16 15:15:18 - INFO - Training   - accuracy: 0.9336 - auc: 0.8892 - f1_score: 0.3717 - loss: 0.0378 - precision: 0.6620 - recall: 0.3007 - learning_rate: 0.0000\n",
      "2025-06-16 15:15:18 - INFO - Validation - accuracy: 0.9366 - auc: 0.7571 - f1_score: 0.1753 - loss: 0.0602 - precision: 0.3352 - recall: 0.1479\n",
      "2025-06-16 15:15:18 - INFO - ==================================================\n",
      "\n"
     ]
    },
    {
     "name": "stdout",
     "output_type": "stream",
     "text": [
      "\u001b[1m813/813\u001b[0m \u001b[32m━━━━━━━━━━━━━━━━━━━━\u001b[0m\u001b[37m\u001b[0m \u001b[1m407s\u001b[0m 501ms/step - accuracy: 0.9332 - auc: 0.8875 - f1_score: 0.3665 - loss: 0.0381 - precision: 0.6581 - recall: 0.2964 - val_accuracy: 0.9366 - val_auc: 0.7571 - val_f1_score: 0.1753 - val_loss: 0.0602 - val_precision: 0.3352 - val_recall: 0.1479 - learning_rate: 1.2500e-05\n"
     ]
    },
    {
     "name": "stderr",
     "output_type": "stream",
     "text": [
      "2025-06-16 15:15:18 - INFO - \n",
      "=== Starting Epoch 35 ===\n",
      "\n"
     ]
    },
    {
     "name": "stdout",
     "output_type": "stream",
     "text": [
      "Epoch 35/100\n",
      "\u001b[1m813/813\u001b[0m \u001b[32m━━━━━━━━━━━━━━━━━━━━\u001b[0m\u001b[37m\u001b[0m \u001b[1m0s\u001b[0m 653ms/step - accuracy: 0.9349 - auc: 0.8929 - f1_score: 0.3831 - loss: 0.0369 - precision: 0.6787 - recall: 0.3105    "
     ]
    },
    {
     "name": "stderr",
     "output_type": "stream",
     "text": [
      "2025-06-16 15:24:18 - INFO - \n",
      "=== Epoch 35 Summary ===\n",
      "2025-06-16 15:24:18 - INFO - Time: 540.15s\n",
      "2025-06-16 15:24:18 - INFO - Training   - accuracy: 0.9357 - auc: 0.8969 - f1_score: 0.3918 - loss: 0.0362 - precision: 0.6866 - recall: 0.3178 - learning_rate: 0.0000\n",
      "2025-06-16 15:24:18 - INFO - Validation - accuracy: 0.9372 - auc: 0.7652 - f1_score: 0.1852 - loss: 0.0604 - precision: 0.3462 - recall: 0.1500\n",
      "2025-06-16 15:24:18 - INFO - ==================================================\n",
      "\n"
     ]
    },
    {
     "name": "stdout",
     "output_type": "stream",
     "text": [
      "\u001b[1m813/813\u001b[0m \u001b[32m━━━━━━━━━━━━━━━━━━━━\u001b[0m\u001b[37m\u001b[0m \u001b[1m540s\u001b[0m 665ms/step - accuracy: 0.9349 - auc: 0.8929 - f1_score: 0.3831 - loss: 0.0369 - precision: 0.6787 - recall: 0.3106 - val_accuracy: 0.9372 - val_auc: 0.7652 - val_f1_score: 0.1852 - val_loss: 0.0604 - val_precision: 0.3462 - val_recall: 0.1500 - learning_rate: 6.2500e-06\n"
     ]
    },
    {
     "name": "stderr",
     "output_type": "stream",
     "text": [
      "2025-06-16 15:24:18 - INFO - \n",
      "=== Starting Epoch 36 ===\n",
      "\n"
     ]
    },
    {
     "name": "stdout",
     "output_type": "stream",
     "text": [
      "Epoch 36/100\n",
      "\u001b[1m813/813\u001b[0m \u001b[32m━━━━━━━━━━━━━━━━━━━━\u001b[0m\u001b[37m\u001b[0m \u001b[1m0s\u001b[0m 649ms/step - accuracy: 0.9358 - auc: 0.8992 - f1_score: 0.4005 - loss: 0.0360 - precision: 0.6846 - recall: 0.3265   "
     ]
    },
    {
     "name": "stderr",
     "output_type": "stream",
     "text": [
      "2025-06-16 15:33:15 - INFO - \n",
      "=== Epoch 36 Summary ===\n",
      "2025-06-16 15:33:15 - INFO - Time: 537.02s\n",
      "2025-06-16 15:33:15 - INFO - Training   - accuracy: 0.9364 - auc: 0.9011 - f1_score: 0.4066 - loss: 0.0356 - precision: 0.6899 - recall: 0.3315 - learning_rate: 0.0000\n",
      "2025-06-16 15:33:15 - INFO - Validation - accuracy: 0.9358 - auc: 0.7620 - f1_score: 0.2001 - loss: 0.0607 - precision: 0.3401 - recall: 0.1696\n",
      "2025-06-16 15:33:15 - INFO - ==================================================\n",
      "\n"
     ]
    },
    {
     "name": "stdout",
     "output_type": "stream",
     "text": [
      "\u001b[1m813/813\u001b[0m \u001b[32m━━━━━━━━━━━━━━━━━━━━\u001b[0m\u001b[37m\u001b[0m \u001b[1m537s\u001b[0m 661ms/step - accuracy: 0.9358 - auc: 0.8992 - f1_score: 0.4005 - loss: 0.0360 - precision: 0.6846 - recall: 0.3265 - val_accuracy: 0.9358 - val_auc: 0.7620 - val_f1_score: 0.2001 - val_loss: 0.0607 - val_precision: 0.3401 - val_recall: 0.1696 - learning_rate: 6.2500e-06\n"
     ]
    },
    {
     "name": "stderr",
     "output_type": "stream",
     "text": [
      "2025-06-16 15:33:15 - INFO - \n",
      "=== Starting Epoch 37 ===\n",
      "\n"
     ]
    },
    {
     "name": "stdout",
     "output_type": "stream",
     "text": [
      "Epoch 37/100\n",
      "\u001b[1m813/813\u001b[0m \u001b[32m━━━━━━━━━━━━━━━━━━━━\u001b[0m\u001b[37m\u001b[0m \u001b[1m0s\u001b[0m 621ms/step - accuracy: 0.9362 - auc: 0.9024 - f1_score: 0.4120 - loss: 0.0355 - precision: 0.6917 - recall: 0.3365  "
     ]
    },
    {
     "name": "stderr",
     "output_type": "stream",
     "text": [
      "2025-06-16 15:41:49 - INFO - \n",
      "=== Epoch 37 Summary ===\n",
      "2025-06-16 15:41:49 - INFO - Time: 514.13s\n",
      "2025-06-16 15:41:49 - INFO - Training   - accuracy: 0.9370 - auc: 0.9039 - f1_score: 0.4170 - loss: 0.0350 - precision: 0.6949 - recall: 0.3410 - learning_rate: 0.0000\n",
      "2025-06-16 15:41:49 - INFO - Validation - accuracy: 0.9356 - auc: 0.7596 - f1_score: 0.2098 - loss: 0.0605 - precision: 0.3450 - recall: 0.1802\n",
      "2025-06-16 15:41:49 - INFO - ==================================================\n",
      "\n"
     ]
    },
    {
     "name": "stdout",
     "output_type": "stream",
     "text": [
      "\u001b[1m813/813\u001b[0m \u001b[32m━━━━━━━━━━━━━━━━━━━━\u001b[0m\u001b[37m\u001b[0m \u001b[1m514s\u001b[0m 633ms/step - accuracy: 0.9362 - auc: 0.9024 - f1_score: 0.4120 - loss: 0.0355 - precision: 0.6918 - recall: 0.3365 - val_accuracy: 0.9356 - val_auc: 0.7596 - val_f1_score: 0.2098 - val_loss: 0.0605 - val_precision: 0.3450 - val_recall: 0.1802 - learning_rate: 6.2500e-06\n"
     ]
    },
    {
     "name": "stderr",
     "output_type": "stream",
     "text": [
      "2025-06-16 15:41:49 - INFO - \n",
      "=== Starting Epoch 38 ===\n",
      "\n"
     ]
    },
    {
     "name": "stdout",
     "output_type": "stream",
     "text": [
      "Epoch 38/100\n",
      "\u001b[1m813/813\u001b[0m \u001b[32m━━━━━━━━━━━━━━━━━━━━\u001b[0m\u001b[37m\u001b[0m \u001b[1m0s\u001b[0m 551ms/step - accuracy: 0.9374 - auc: 0.9052 - f1_score: 0.4254 - loss: 0.0348 - precision: 0.6939 - recall: 0.3491  "
     ]
    },
    {
     "name": "stderr",
     "output_type": "stream",
     "text": [
      "2025-06-16 15:49:25 - INFO - \n",
      "=== Epoch 38 Summary ===\n",
      "2025-06-16 15:49:25 - INFO - Time: 456.48s\n",
      "2025-06-16 15:49:25 - INFO - Training   - accuracy: 0.9375 - auc: 0.9060 - f1_score: 0.4256 - loss: 0.0347 - precision: 0.6948 - recall: 0.3493 - learning_rate: 0.0000\n",
      "2025-06-16 15:49:25 - INFO - Validation - accuracy: 0.9376 - auc: 0.7576 - f1_score: 0.1906 - loss: 0.0611 - precision: 0.3544 - recall: 0.1534\n",
      "2025-06-16 15:49:25 - INFO - ==================================================\n",
      "\n"
     ]
    },
    {
     "name": "stdout",
     "output_type": "stream",
     "text": [
      "\u001b[1m813/813\u001b[0m \u001b[32m━━━━━━━━━━━━━━━━━━━━\u001b[0m\u001b[37m\u001b[0m \u001b[1m456s\u001b[0m 562ms/step - accuracy: 0.9374 - auc: 0.9052 - f1_score: 0.4254 - loss: 0.0348 - precision: 0.6939 - recall: 0.3491 - val_accuracy: 0.9376 - val_auc: 0.7576 - val_f1_score: 0.1906 - val_loss: 0.0611 - val_precision: 0.3544 - val_recall: 0.1534 - learning_rate: 6.2500e-06\n"
     ]
    },
    {
     "name": "stderr",
     "output_type": "stream",
     "text": [
      "2025-06-16 15:49:25 - INFO - \n",
      "=== Starting Epoch 39 ===\n",
      "\n"
     ]
    },
    {
     "name": "stdout",
     "output_type": "stream",
     "text": [
      "Epoch 39/100\n",
      "\u001b[1m813/813\u001b[0m \u001b[32m━━━━━━━━━━━━━━━━━━━━\u001b[0m\u001b[37m\u001b[0m \u001b[1m0s\u001b[0m 755ms/step - accuracy: 0.9375 - auc: 0.9082 - f1_score: 0.4322 - loss: 0.0344 - precision: 0.7006 - recall: 0.3541   "
     ]
    },
    {
     "name": "stderr",
     "output_type": "stream",
     "text": [
      "2025-06-16 15:59:48 - INFO - \n",
      "=== Epoch 39 Summary ===\n",
      "2025-06-16 15:59:48 - INFO - Time: 622.26s\n",
      "2025-06-16 15:59:48 - INFO - Training   - accuracy: 0.9381 - auc: 0.9093 - f1_score: 0.4343 - loss: 0.0340 - precision: 0.7013 - recall: 0.3563 - learning_rate: 0.0000\n",
      "2025-06-16 15:59:48 - INFO - Validation - accuracy: 0.9375 - auc: 0.7540 - f1_score: 0.1786 - loss: 0.0618 - precision: 0.3522 - recall: 0.1534\n",
      "2025-06-16 15:59:48 - INFO - ==================================================\n",
      "\n"
     ]
    },
    {
     "name": "stdout",
     "output_type": "stream",
     "text": [
      "\u001b[1m813/813\u001b[0m \u001b[32m━━━━━━━━━━━━━━━━━━━━\u001b[0m\u001b[37m\u001b[0m \u001b[1m622s\u001b[0m 766ms/step - accuracy: 0.9375 - auc: 0.9082 - f1_score: 0.4322 - loss: 0.0344 - precision: 0.7006 - recall: 0.3541 - val_accuracy: 0.9375 - val_auc: 0.7540 - val_f1_score: 0.1786 - val_loss: 0.0618 - val_precision: 0.3522 - val_recall: 0.1534 - learning_rate: 6.2500e-06\n"
     ]
    },
    {
     "name": "stderr",
     "output_type": "stream",
     "text": [
      "2025-06-16 15:59:48 - INFO - \n",
      "=== Starting Epoch 40 ===\n",
      "\n"
     ]
    },
    {
     "name": "stdout",
     "output_type": "stream",
     "text": [
      "Epoch 40/100\n",
      "\u001b[1m813/813\u001b[0m \u001b[32m━━━━━━━━━━━━━━━━━━━━\u001b[0m\u001b[37m\u001b[0m \u001b[1m0s\u001b[0m 552ms/step - accuracy: 0.9382 - auc: 0.9112 - f1_score: 0.4406 - loss: 0.0340 - precision: 0.7045 - recall: 0.3619  \n",
      "Epoch 40: ReduceLROnPlateau reducing learning rate to 3.12499992105586e-06.\n"
     ]
    },
    {
     "name": "stderr",
     "output_type": "stream",
     "text": [
      "2025-06-16 16:07:25 - INFO - \n",
      "=== Epoch 40 Summary ===\n",
      "2025-06-16 16:07:25 - INFO - Time: 457.59s\n",
      "2025-06-16 16:07:25 - INFO - Training   - accuracy: 0.9387 - auc: 0.9120 - f1_score: 0.4422 - loss: 0.0336 - precision: 0.7060 - recall: 0.3634 - learning_rate: 0.0000\n",
      "2025-06-16 16:07:25 - INFO - Validation - accuracy: 0.9351 - auc: 0.7605 - f1_score: 0.2000 - loss: 0.0612 - precision: 0.3315 - recall: 0.1690\n",
      "2025-06-16 16:07:25 - INFO - ==================================================\n",
      "\n"
     ]
    },
    {
     "name": "stdout",
     "output_type": "stream",
     "text": [
      "\u001b[1m813/813\u001b[0m \u001b[32m━━━━━━━━━━━━━━━━━━━━\u001b[0m\u001b[37m\u001b[0m \u001b[1m458s\u001b[0m 563ms/step - accuracy: 0.9382 - auc: 0.9112 - f1_score: 0.4406 - loss: 0.0340 - precision: 0.7045 - recall: 0.3619 - val_accuracy: 0.9351 - val_auc: 0.7605 - val_f1_score: 0.2000 - val_loss: 0.0612 - val_precision: 0.3315 - val_recall: 0.1690 - learning_rate: 6.2500e-06\n"
     ]
    },
    {
     "name": "stderr",
     "output_type": "stream",
     "text": [
      "2025-06-16 16:07:25 - INFO - \n",
      "=== Starting Epoch 41 ===\n",
      "\n"
     ]
    },
    {
     "name": "stdout",
     "output_type": "stream",
     "text": [
      "Epoch 41/100\n",
      "\u001b[1m813/813\u001b[0m \u001b[32m━━━━━━━━━━━━━━━━━━━━\u001b[0m\u001b[37m\u001b[0m \u001b[1m0s\u001b[0m 762ms/step - accuracy: 0.9384 - auc: 0.9136 - f1_score: 0.4469 - loss: 0.0334 - precision: 0.7087 - recall: 0.3672  "
     ]
    },
    {
     "name": "stderr",
     "output_type": "stream",
     "text": [
      "2025-06-16 16:17:53 - INFO - \n",
      "=== Epoch 41 Summary ===\n",
      "2025-06-16 16:17:53 - INFO - Time: 627.73s\n",
      "2025-06-16 16:17:53 - INFO - Training   - accuracy: 0.9394 - auc: 0.9155 - f1_score: 0.4511 - loss: 0.0329 - precision: 0.7130 - recall: 0.3712 - learning_rate: 0.0000\n",
      "2025-06-16 16:17:53 - INFO - Validation - accuracy: 0.9377 - auc: 0.7613 - f1_score: 0.1941 - loss: 0.0614 - precision: 0.3593 - recall: 0.1599\n",
      "2025-06-16 16:17:53 - INFO - ==================================================\n",
      "\n"
     ]
    },
    {
     "name": "stdout",
     "output_type": "stream",
     "text": [
      "\u001b[1m813/813\u001b[0m \u001b[32m━━━━━━━━━━━━━━━━━━━━\u001b[0m\u001b[37m\u001b[0m \u001b[1m628s\u001b[0m 773ms/step - accuracy: 0.9384 - auc: 0.9136 - f1_score: 0.4469 - loss: 0.0334 - precision: 0.7087 - recall: 0.3672 - val_accuracy: 0.9377 - val_auc: 0.7613 - val_f1_score: 0.1941 - val_loss: 0.0614 - val_precision: 0.3593 - val_recall: 0.1599 - learning_rate: 3.1250e-06\n"
     ]
    },
    {
     "name": "stderr",
     "output_type": "stream",
     "text": [
      "2025-06-16 16:17:53 - INFO - \n",
      "=== Starting Epoch 42 ===\n",
      "\n"
     ]
    },
    {
     "name": "stdout",
     "output_type": "stream",
     "text": [
      "Epoch 42/100\n",
      "\u001b[1m813/813\u001b[0m \u001b[32m━━━━━━━━━━━━━━━━━━━━\u001b[0m\u001b[37m\u001b[0m \u001b[1m0s\u001b[0m 568ms/step - accuracy: 0.9401 - auc: 0.9168 - f1_score: 0.4615 - loss: 0.0328 - precision: 0.7199 - recall: 0.3805  "
     ]
    },
    {
     "name": "stderr",
     "output_type": "stream",
     "text": [
      "2025-06-16 16:25:43 - INFO - \n",
      "=== Epoch 42 Summary ===\n",
      "2025-06-16 16:25:43 - INFO - Time: 470.36s\n",
      "2025-06-16 16:25:43 - INFO - Training   - accuracy: 0.9406 - auc: 0.9180 - f1_score: 0.4642 - loss: 0.0323 - precision: 0.7224 - recall: 0.3832 - learning_rate: 0.0000\n",
      "2025-06-16 16:25:43 - INFO - Validation - accuracy: 0.9351 - auc: 0.7595 - f1_score: 0.1950 - loss: 0.0637 - precision: 0.3307 - recall: 0.1677\n",
      "2025-06-16 16:25:43 - INFO - ==================================================\n",
      "\n"
     ]
    },
    {
     "name": "stdout",
     "output_type": "stream",
     "text": [
      "\u001b[1m813/813\u001b[0m \u001b[32m━━━━━━━━━━━━━━━━━━━━\u001b[0m\u001b[37m\u001b[0m \u001b[1m470s\u001b[0m 579ms/step - accuracy: 0.9401 - auc: 0.9168 - f1_score: 0.4616 - loss: 0.0328 - precision: 0.7200 - recall: 0.3805 - val_accuracy: 0.9351 - val_auc: 0.7595 - val_f1_score: 0.1950 - val_loss: 0.0637 - val_precision: 0.3307 - val_recall: 0.1677 - learning_rate: 3.1250e-06\n"
     ]
    },
    {
     "name": "stderr",
     "output_type": "stream",
     "text": [
      "2025-06-16 16:25:43 - INFO - \n",
      "=== Starting Epoch 43 ===\n",
      "\n"
     ]
    },
    {
     "name": "stdout",
     "output_type": "stream",
     "text": [
      "Epoch 43/100\n",
      "\u001b[1m813/813\u001b[0m \u001b[32m━━━━━━━━━━━━━━━━━━━━\u001b[0m\u001b[37m\u001b[0m \u001b[1m0s\u001b[0m 549ms/step - accuracy: 0.9403 - auc: 0.9178 - f1_score: 0.4674 - loss: 0.0326 - precision: 0.7196 - recall: 0.3855  \n",
      "Epoch 43: ReduceLROnPlateau reducing learning rate to 1.56249996052793e-06.\n"
     ]
    },
    {
     "name": "stderr",
     "output_type": "stream",
     "text": [
      "2025-06-16 16:33:18 - INFO - \n",
      "=== Epoch 43 Summary ===\n",
      "2025-06-16 16:33:18 - INFO - Time: 454.76s\n",
      "2025-06-16 16:33:18 - INFO - Training   - accuracy: 0.9407 - auc: 0.9189 - f1_score: 0.4699 - loss: 0.0322 - precision: 0.7211 - recall: 0.3886 - learning_rate: 0.0000\n",
      "2025-06-16 16:33:18 - INFO - Validation - accuracy: 0.9374 - auc: 0.7608 - f1_score: 0.1943 - loss: 0.0624 - precision: 0.3509 - recall: 0.1540\n",
      "2025-06-16 16:33:18 - INFO - ==================================================\n",
      "\n"
     ]
    },
    {
     "name": "stdout",
     "output_type": "stream",
     "text": [
      "\u001b[1m813/813\u001b[0m \u001b[32m━━━━━━━━━━━━━━━━━━━━\u001b[0m\u001b[37m\u001b[0m \u001b[1m455s\u001b[0m 560ms/step - accuracy: 0.9403 - auc: 0.9178 - f1_score: 0.4674 - loss: 0.0326 - precision: 0.7196 - recall: 0.3855 - val_accuracy: 0.9374 - val_auc: 0.7608 - val_f1_score: 0.1943 - val_loss: 0.0624 - val_precision: 0.3509 - val_recall: 0.1540 - learning_rate: 3.1250e-06\n"
     ]
    },
    {
     "name": "stderr",
     "output_type": "stream",
     "text": [
      "2025-06-16 16:33:18 - INFO - \n",
      "=== Starting Epoch 44 ===\n",
      "\n"
     ]
    },
    {
     "name": "stdout",
     "output_type": "stream",
     "text": [
      "Epoch 44/100\n",
      "\u001b[1m813/813\u001b[0m \u001b[32m━━━━━━━━━━━━━━━━━━━━\u001b[0m\u001b[37m\u001b[0m \u001b[1m0s\u001b[0m 685ms/step - accuracy: 0.9410 - auc: 0.9205 - f1_score: 0.4748 - loss: 0.0321 - precision: 0.7252 - recall: 0.3916   "
     ]
    },
    {
     "name": "stderr",
     "output_type": "stream",
     "text": [
      "2025-06-16 16:42:44 - INFO - \n",
      "=== Epoch 44 Summary ===\n",
      "2025-06-16 16:42:44 - INFO - Time: 565.93s\n",
      "2025-06-16 16:42:44 - INFO - Training   - accuracy: 0.9415 - auc: 0.9217 - f1_score: 0.4779 - loss: 0.0317 - precision: 0.7274 - recall: 0.3949 - learning_rate: 0.0000\n",
      "2025-06-16 16:42:44 - INFO - Validation - accuracy: 0.9368 - auc: 0.7599 - f1_score: 0.2050 - loss: 0.0621 - precision: 0.3567 - recall: 0.1757\n",
      "2025-06-16 16:42:44 - INFO - ==================================================\n",
      "\n"
     ]
    },
    {
     "name": "stdout",
     "output_type": "stream",
     "text": [
      "\u001b[1m813/813\u001b[0m \u001b[32m━━━━━━━━━━━━━━━━━━━━\u001b[0m\u001b[37m\u001b[0m \u001b[1m566s\u001b[0m 697ms/step - accuracy: 0.9410 - auc: 0.9205 - f1_score: 0.4748 - loss: 0.0321 - precision: 0.7252 - recall: 0.3916 - val_accuracy: 0.9368 - val_auc: 0.7599 - val_f1_score: 0.2050 - val_loss: 0.0621 - val_precision: 0.3567 - val_recall: 0.1757 - learning_rate: 1.5625e-06\n"
     ]
    },
    {
     "name": "stderr",
     "output_type": "stream",
     "text": [
      "2025-06-16 16:42:44 - INFO - \n",
      "=== Starting Epoch 45 ===\n",
      "\n"
     ]
    },
    {
     "name": "stdout",
     "output_type": "stream",
     "text": [
      "Epoch 45/100\n",
      "\u001b[1m813/813\u001b[0m \u001b[32m━━━━━━━━━━━━━━━━━━━━\u001b[0m\u001b[37m\u001b[0m \u001b[1m0s\u001b[0m 549ms/step - accuracy: 0.9414 - auc: 0.9223 - f1_score: 0.4818 - loss: 0.0317 - precision: 0.7314 - recall: 0.3985  "
     ]
    },
    {
     "name": "stderr",
     "output_type": "stream",
     "text": [
      "2025-06-16 16:50:19 - INFO - \n",
      "=== Epoch 45 Summary ===\n",
      "2025-06-16 16:50:19 - INFO - Time: 454.99s\n",
      "2025-06-16 16:50:19 - INFO - Training   - accuracy: 0.9419 - auc: 0.9227 - f1_score: 0.4839 - loss: 0.0314 - precision: 0.7315 - recall: 0.4011 - learning_rate: 0.0000\n",
      "2025-06-16 16:50:19 - INFO - Validation - accuracy: 0.9359 - auc: 0.7595 - f1_score: 0.2093 - loss: 0.0624 - precision: 0.3438 - recall: 0.1726\n",
      "2025-06-16 16:50:19 - INFO - ==================================================\n",
      "\n"
     ]
    },
    {
     "name": "stdout",
     "output_type": "stream",
     "text": [
      "\u001b[1m813/813\u001b[0m \u001b[32m━━━━━━━━━━━━━━━━━━━━\u001b[0m\u001b[37m\u001b[0m \u001b[1m455s\u001b[0m 560ms/step - accuracy: 0.9414 - auc: 0.9223 - f1_score: 0.4818 - loss: 0.0317 - precision: 0.7314 - recall: 0.3986 - val_accuracy: 0.9359 - val_auc: 0.7595 - val_f1_score: 0.2093 - val_loss: 0.0624 - val_precision: 0.3438 - val_recall: 0.1726 - learning_rate: 1.5625e-06\n"
     ]
    },
    {
     "name": "stderr",
     "output_type": "stream",
     "text": [
      "2025-06-16 16:50:19 - INFO - \n",
      "=== Starting Epoch 46 ===\n",
      "\n"
     ]
    },
    {
     "name": "stdout",
     "output_type": "stream",
     "text": [
      "Epoch 46/100\n",
      "\u001b[1m813/813\u001b[0m \u001b[32m━━━━━━━━━━━━━━━━━━━━\u001b[0m\u001b[37m\u001b[0m \u001b[1m0s\u001b[0m 380ms/step - accuracy: 0.9412 - auc: 0.9217 - f1_score: 0.4802 - loss: 0.0317 - precision: 0.7241 - recall: 0.3978   \n",
      "Epoch 46: ReduceLROnPlateau reducing learning rate to 1e-06.\n"
     ]
    },
    {
     "name": "stderr",
     "output_type": "stream",
     "text": [
      "2025-06-16 16:55:37 - INFO - \n",
      "=== Epoch 46 Summary ===\n",
      "2025-06-16 16:55:37 - INFO - Time: 317.83s\n",
      "2025-06-16 16:55:37 - INFO - Training   - accuracy: 0.9418 - auc: 0.9232 - f1_score: 0.4843 - loss: 0.0314 - precision: 0.7279 - recall: 0.4019 - learning_rate: 0.0000\n",
      "2025-06-16 16:55:37 - INFO - Validation - accuracy: 0.9364 - auc: 0.7596 - f1_score: 0.2066 - loss: 0.0631 - precision: 0.3456 - recall: 0.1660\n",
      "2025-06-16 16:55:37 - INFO - ==================================================\n",
      "\n"
     ]
    },
    {
     "name": "stdout",
     "output_type": "stream",
     "text": [
      "\u001b[1m813/813\u001b[0m \u001b[32m━━━━━━━━━━━━━━━━━━━━\u001b[0m\u001b[37m\u001b[0m \u001b[1m318s\u001b[0m 391ms/step - accuracy: 0.9412 - auc: 0.9217 - f1_score: 0.4802 - loss: 0.0317 - precision: 0.7241 - recall: 0.3978 - val_accuracy: 0.9364 - val_auc: 0.7596 - val_f1_score: 0.2066 - val_loss: 0.0631 - val_precision: 0.3456 - val_recall: 0.1660 - learning_rate: 1.5625e-06\n"
     ]
    },
    {
     "name": "stderr",
     "output_type": "stream",
     "text": [
      "2025-06-16 16:55:37 - INFO - \n",
      "=== Starting Epoch 47 ===\n",
      "\n"
     ]
    },
    {
     "name": "stdout",
     "output_type": "stream",
     "text": [
      "Epoch 47/100\n",
      "\u001b[1m813/813\u001b[0m \u001b[32m━━━━━━━━━━━━━━━━━━━━\u001b[0m\u001b[37m\u001b[0m \u001b[1m0s\u001b[0m 528ms/step - accuracy: 0.9416 - auc: 0.9229 - f1_score: 0.4835 - loss: 0.0314 - precision: 0.7290 - recall: 0.4005  "
     ]
    },
    {
     "name": "stderr",
     "output_type": "stream",
     "text": [
      "2025-06-16 17:02:56 - INFO - \n",
      "=== Epoch 47 Summary ===\n",
      "2025-06-16 17:02:56 - INFO - Time: 439.09s\n",
      "2025-06-16 17:02:56 - INFO - Training   - accuracy: 0.9421 - auc: 0.9243 - f1_score: 0.4880 - loss: 0.0311 - precision: 0.7320 - recall: 0.4051 - learning_rate: 0.0000\n",
      "2025-06-16 17:02:56 - INFO - Validation - accuracy: 0.9348 - auc: 0.7602 - f1_score: 0.2194 - loss: 0.0629 - precision: 0.3398 - recall: 0.1872\n",
      "2025-06-16 17:02:56 - INFO - ==================================================\n",
      "\n"
     ]
    },
    {
     "name": "stdout",
     "output_type": "stream",
     "text": [
      "\u001b[1m813/813\u001b[0m \u001b[32m━━━━━━━━━━━━━━━━━━━━\u001b[0m\u001b[37m\u001b[0m \u001b[1m439s\u001b[0m 541ms/step - accuracy: 0.9416 - auc: 0.9229 - f1_score: 0.4835 - loss: 0.0314 - precision: 0.7290 - recall: 0.4005 - val_accuracy: 0.9348 - val_auc: 0.7602 - val_f1_score: 0.2194 - val_loss: 0.0629 - val_precision: 0.3398 - val_recall: 0.1872 - learning_rate: 1.0000e-06\n"
     ]
    },
    {
     "name": "stderr",
     "output_type": "stream",
     "text": [
      "2025-06-16 17:02:56 - INFO - \n",
      "=== Starting Epoch 48 ===\n",
      "\n"
     ]
    },
    {
     "name": "stdout",
     "output_type": "stream",
     "text": [
      "Epoch 48/100\n",
      "\u001b[1m813/813\u001b[0m \u001b[32m━━━━━━━━━━━━━━━━━━━━\u001b[0m\u001b[37m\u001b[0m \u001b[1m0s\u001b[0m 589ms/step - accuracy: 0.9421 - auc: 0.9239 - f1_score: 0.4907 - loss: 0.0311 - precision: 0.7295 - recall: 0.4082  "
     ]
    },
    {
     "name": "stderr",
     "output_type": "stream",
     "text": [
      "2025-06-16 17:11:03 - INFO - \n",
      "=== Epoch 48 Summary ===\n",
      "2025-06-16 17:11:03 - INFO - Time: 487.20s\n",
      "2025-06-16 17:11:03 - INFO - Training   - accuracy: 0.9424 - auc: 0.9244 - f1_score: 0.4916 - loss: 0.0311 - precision: 0.7320 - recall: 0.4088 - learning_rate: 0.0000\n",
      "2025-06-16 17:11:03 - INFO - Validation - accuracy: 0.9353 - auc: 0.7595 - f1_score: 0.2155 - loss: 0.0627 - precision: 0.3391 - recall: 0.1768\n",
      "2025-06-16 17:11:03 - INFO - ==================================================\n",
      "\n"
     ]
    },
    {
     "name": "stdout",
     "output_type": "stream",
     "text": [
      "\u001b[1m813/813\u001b[0m \u001b[32m━━━━━━━━━━━━━━━━━━━━\u001b[0m\u001b[37m\u001b[0m \u001b[1m487s\u001b[0m 600ms/step - accuracy: 0.9421 - auc: 0.9239 - f1_score: 0.4907 - loss: 0.0311 - precision: 0.7295 - recall: 0.4082 - val_accuracy: 0.9353 - val_auc: 0.7595 - val_f1_score: 0.2155 - val_loss: 0.0627 - val_precision: 0.3391 - val_recall: 0.1768 - learning_rate: 1.0000e-06\n"
     ]
    },
    {
     "name": "stderr",
     "output_type": "stream",
     "text": [
      "2025-06-16 17:11:03 - INFO - \n",
      "=== Starting Epoch 49 ===\n",
      "\n"
     ]
    },
    {
     "name": "stdout",
     "output_type": "stream",
     "text": [
      "Epoch 49/100\n",
      "\u001b[1m813/813\u001b[0m \u001b[32m━━━━━━━━━━━━━━━━━━━━\u001b[0m\u001b[37m\u001b[0m \u001b[1m0s\u001b[0m 613ms/step - accuracy: 0.9422 - auc: 0.9243 - f1_score: 0.4914 - loss: 0.0310 - precision: 0.7323 - recall: 0.4082  "
     ]
    },
    {
     "name": "stderr",
     "output_type": "stream",
     "text": [
      "2025-06-16 17:19:30 - INFO - \n",
      "=== Epoch 49 Summary ===\n",
      "2025-06-16 17:19:30 - INFO - Time: 506.85s\n",
      "2025-06-16 17:19:30 - INFO - Training   - accuracy: 0.9425 - auc: 0.9255 - f1_score: 0.4938 - loss: 0.0308 - precision: 0.7337 - recall: 0.4107 - learning_rate: 0.0000\n",
      "2025-06-16 17:19:30 - INFO - Validation - accuracy: 0.9352 - auc: 0.7608 - f1_score: 0.2128 - loss: 0.0627 - precision: 0.3387 - recall: 0.1789\n",
      "2025-06-16 17:19:30 - INFO - ==================================================\n",
      "\n"
     ]
    },
    {
     "name": "stdout",
     "output_type": "stream",
     "text": [
      "\u001b[1m813/813\u001b[0m \u001b[32m━━━━━━━━━━━━━━━━━━━━\u001b[0m\u001b[37m\u001b[0m \u001b[1m507s\u001b[0m 624ms/step - accuracy: 0.9422 - auc: 0.9243 - f1_score: 0.4914 - loss: 0.0310 - precision: 0.7323 - recall: 0.4082 - val_accuracy: 0.9352 - val_auc: 0.7608 - val_f1_score: 0.2128 - val_loss: 0.0627 - val_precision: 0.3387 - val_recall: 0.1789 - learning_rate: 1.0000e-06\n"
     ]
    },
    {
     "name": "stderr",
     "output_type": "stream",
     "text": [
      "2025-06-16 17:19:30 - INFO - \n",
      "=== Starting Epoch 50 ===\n",
      "\n"
     ]
    },
    {
     "name": "stdout",
     "output_type": "stream",
     "text": [
      "Epoch 50/100\n",
      "\u001b[1m813/813\u001b[0m \u001b[32m━━━━━━━━━━━━━━━━━━━━\u001b[0m\u001b[37m\u001b[0m \u001b[1m0s\u001b[0m 515ms/step - accuracy: 0.9423 - auc: 0.9254 - f1_score: 0.4939 - loss: 0.0309 - precision: 0.7346 - recall: 0.4094  "
     ]
    },
    {
     "name": "stderr",
     "output_type": "stream",
     "text": [
      "2025-06-16 17:26:38 - INFO - \n",
      "=== Epoch 50 Summary ===\n",
      "2025-06-16 17:26:38 - INFO - Time: 427.34s\n",
      "2025-06-16 17:26:38 - INFO - Training   - accuracy: 0.9426 - auc: 0.9261 - f1_score: 0.4950 - loss: 0.0308 - precision: 0.7335 - recall: 0.4113 - learning_rate: 0.0000\n",
      "2025-06-16 17:26:38 - INFO - Validation - accuracy: 0.9352 - auc: 0.7606 - f1_score: 0.2116 - loss: 0.0632 - precision: 0.3367 - recall: 0.1749\n",
      "2025-06-16 17:26:38 - INFO - ==================================================\n",
      "\n"
     ]
    },
    {
     "name": "stdout",
     "output_type": "stream",
     "text": [
      "\u001b[1m813/813\u001b[0m \u001b[32m━━━━━━━━━━━━━━━━━━━━\u001b[0m\u001b[37m\u001b[0m \u001b[1m427s\u001b[0m 526ms/step - accuracy: 0.9423 - auc: 0.9254 - f1_score: 0.4939 - loss: 0.0309 - precision: 0.7346 - recall: 0.4094 - val_accuracy: 0.9352 - val_auc: 0.7606 - val_f1_score: 0.2116 - val_loss: 0.0632 - val_precision: 0.3367 - val_recall: 0.1749 - learning_rate: 1.0000e-06\n"
     ]
    },
    {
     "name": "stderr",
     "output_type": "stream",
     "text": [
      "2025-06-16 17:26:38 - INFO - \n",
      "=== Starting Epoch 51 ===\n",
      "\n"
     ]
    },
    {
     "name": "stdout",
     "output_type": "stream",
     "text": [
      "Epoch 51/100\n",
      "\u001b[1m813/813\u001b[0m \u001b[32m━━━━━━━━━━━━━━━━━━━━\u001b[0m\u001b[37m\u001b[0m \u001b[1m0s\u001b[0m 531ms/step - accuracy: 0.9428 - auc: 0.9260 - f1_score: 0.4968 - loss: 0.0308 - precision: 0.7355 - recall: 0.4126  "
     ]
    },
    {
     "name": "stderr",
     "output_type": "stream",
     "text": [
      "2025-06-16 17:33:58 - INFO - \n",
      "=== Epoch 51 Summary ===\n",
      "2025-06-16 17:33:58 - INFO - Time: 440.45s\n",
      "2025-06-16 17:33:58 - INFO - Training   - accuracy: 0.9430 - auc: 0.9266 - f1_score: 0.4994 - loss: 0.0307 - precision: 0.7394 - recall: 0.4151 - learning_rate: 0.0000\n",
      "2025-06-16 17:33:58 - INFO - Validation - accuracy: 0.9352 - auc: 0.7594 - f1_score: 0.2150 - loss: 0.0630 - precision: 0.3371 - recall: 0.1762\n",
      "2025-06-16 17:33:58 - INFO - ==================================================\n",
      "\n"
     ]
    },
    {
     "name": "stdout",
     "output_type": "stream",
     "text": [
      "\u001b[1m813/813\u001b[0m \u001b[32m━━━━━━━━━━━━━━━━━━━━\u001b[0m\u001b[37m\u001b[0m \u001b[1m440s\u001b[0m 542ms/step - accuracy: 0.9428 - auc: 0.9260 - f1_score: 0.4968 - loss: 0.0308 - precision: 0.7355 - recall: 0.4126 - val_accuracy: 0.9352 - val_auc: 0.7594 - val_f1_score: 0.2150 - val_loss: 0.0630 - val_precision: 0.3371 - val_recall: 0.1762 - learning_rate: 1.0000e-06\n"
     ]
    },
    {
     "name": "stderr",
     "output_type": "stream",
     "text": [
      "2025-06-16 17:33:58 - INFO - \n",
      "=== Starting Epoch 52 ===\n",
      "\n"
     ]
    },
    {
     "name": "stdout",
     "output_type": "stream",
     "text": [
      "Epoch 52/100\n",
      "\u001b[1m813/813\u001b[0m \u001b[32m━━━━━━━━━━━━━━━━━━━━\u001b[0m\u001b[37m\u001b[0m \u001b[1m0s\u001b[0m 598ms/step - accuracy: 0.9428 - auc: 0.9255 - f1_score: 0.5001 - loss: 0.0307 - precision: 0.7311 - recall: 0.4174  "
     ]
    },
    {
     "name": "stderr",
     "output_type": "stream",
     "text": [
      "2025-06-16 17:42:13 - INFO - \n",
      "=== Epoch 52 Summary ===\n",
      "2025-06-16 17:42:13 - INFO - Time: 495.22s\n",
      "2025-06-16 17:42:13 - INFO - Training   - accuracy: 0.9429 - auc: 0.9265 - f1_score: 0.4997 - loss: 0.0306 - precision: 0.7336 - recall: 0.4167 - learning_rate: 0.0000\n",
      "2025-06-16 17:42:13 - INFO - Validation - accuracy: 0.9351 - auc: 0.7582 - f1_score: 0.2154 - loss: 0.0631 - precision: 0.3401 - recall: 0.1826\n",
      "2025-06-16 17:42:13 - INFO - ==================================================\n",
      "\n"
     ]
    },
    {
     "name": "stdout",
     "output_type": "stream",
     "text": [
      "\u001b[1m813/813\u001b[0m \u001b[32m━━━━━━━━━━━━━━━━━━━━\u001b[0m\u001b[37m\u001b[0m \u001b[1m495s\u001b[0m 610ms/step - accuracy: 0.9428 - auc: 0.9255 - f1_score: 0.5001 - loss: 0.0307 - precision: 0.7311 - recall: 0.4174 - val_accuracy: 0.9351 - val_auc: 0.7582 - val_f1_score: 0.2154 - val_loss: 0.0631 - val_precision: 0.3401 - val_recall: 0.1826 - learning_rate: 1.0000e-06\n"
     ]
    },
    {
     "name": "stderr",
     "output_type": "stream",
     "text": [
      "2025-06-16 17:42:13 - INFO - \n",
      "=== Starting Epoch 53 ===\n",
      "\n"
     ]
    },
    {
     "name": "stdout",
     "output_type": "stream",
     "text": [
      "Epoch 53/100\n",
      "\u001b[1m813/813\u001b[0m \u001b[32m━━━━━━━━━━━━━━━━━━━━\u001b[0m\u001b[37m\u001b[0m \u001b[1m0s\u001b[0m 668ms/step - accuracy: 0.9428 - auc: 0.9267 - f1_score: 0.5002 - loss: 0.0306 - precision: 0.7363 - recall: 0.4164  "
     ]
    },
    {
     "name": "stderr",
     "output_type": "stream",
     "text": [
      "2025-06-16 17:51:25 - INFO - \n",
      "=== Epoch 53 Summary ===\n",
      "2025-06-16 17:51:25 - INFO - Time: 551.56s\n",
      "2025-06-16 17:51:25 - INFO - Training   - accuracy: 0.9430 - auc: 0.9271 - f1_score: 0.5007 - loss: 0.0306 - precision: 0.7346 - recall: 0.4176 - learning_rate: 0.0000\n",
      "2025-06-16 17:51:25 - INFO - Validation - accuracy: 0.9359 - auc: 0.7601 - f1_score: 0.2066 - loss: 0.0632 - precision: 0.3425 - recall: 0.1706\n",
      "2025-06-16 17:51:25 - INFO - ==================================================\n",
      "\n"
     ]
    },
    {
     "name": "stdout",
     "output_type": "stream",
     "text": [
      "\u001b[1m813/813\u001b[0m \u001b[32m━━━━━━━━━━━━━━━━━━━━\u001b[0m\u001b[37m\u001b[0m \u001b[1m552s\u001b[0m 679ms/step - accuracy: 0.9428 - auc: 0.9267 - f1_score: 0.5002 - loss: 0.0306 - precision: 0.7363 - recall: 0.4164 - val_accuracy: 0.9359 - val_auc: 0.7601 - val_f1_score: 0.2066 - val_loss: 0.0632 - val_precision: 0.3425 - val_recall: 0.1706 - learning_rate: 1.0000e-06\n"
     ]
    },
    {
     "name": "stderr",
     "output_type": "stream",
     "text": [
      "2025-06-16 17:51:25 - INFO - \n",
      "=== Starting Epoch 54 ===\n",
      "\n"
     ]
    },
    {
     "name": "stdout",
     "output_type": "stream",
     "text": [
      "Epoch 54/100\n",
      "\u001b[1m813/813\u001b[0m \u001b[32m━━━━━━━━━━━━━━━━━━━━\u001b[0m\u001b[37m\u001b[0m \u001b[1m0s\u001b[0m 501ms/step - accuracy: 0.9425 - auc: 0.9276 - f1_score: 0.5012 - loss: 0.0306 - precision: 0.7329 - recall: 0.4183  "
     ]
    },
    {
     "name": "stderr",
     "output_type": "stream",
     "text": [
      "2025-06-16 17:58:21 - INFO - \n",
      "=== Epoch 54 Summary ===\n",
      "2025-06-16 17:58:21 - INFO - Time: 416.16s\n",
      "2025-06-16 17:58:21 - INFO - Training   - accuracy: 0.9430 - auc: 0.9280 - f1_score: 0.5023 - loss: 0.0305 - precision: 0.7364 - recall: 0.4185 - learning_rate: 0.0000\n",
      "2025-06-16 17:58:21 - INFO - Validation - accuracy: 0.9349 - auc: 0.7596 - f1_score: 0.2108 - loss: 0.0634 - precision: 0.3340 - recall: 0.1763\n",
      "2025-06-16 17:58:21 - INFO - ==================================================\n",
      "\n"
     ]
    },
    {
     "name": "stdout",
     "output_type": "stream",
     "text": [
      "\u001b[1m813/813\u001b[0m \u001b[32m━━━━━━━━━━━━━━━━━━━━\u001b[0m\u001b[37m\u001b[0m \u001b[1m416s\u001b[0m 512ms/step - accuracy: 0.9425 - auc: 0.9276 - f1_score: 0.5012 - loss: 0.0306 - precision: 0.7329 - recall: 0.4183 - val_accuracy: 0.9349 - val_auc: 0.7596 - val_f1_score: 0.2108 - val_loss: 0.0634 - val_precision: 0.3340 - val_recall: 0.1763 - learning_rate: 1.0000e-06\n"
     ]
    },
    {
     "name": "stderr",
     "output_type": "stream",
     "text": [
      "2025-06-16 17:58:21 - INFO - \n",
      "=== Starting Epoch 55 ===\n",
      "\n"
     ]
    },
    {
     "name": "stdout",
     "output_type": "stream",
     "text": [
      "Epoch 55/100\n",
      "\u001b[1m813/813\u001b[0m \u001b[32m━━━━━━━━━━━━━━━━━━━━\u001b[0m\u001b[37m\u001b[0m \u001b[1m0s\u001b[0m 761ms/step - accuracy: 0.9436 - auc: 0.9285 - f1_score: 0.5082 - loss: 0.0302 - precision: 0.7383 - recall: 0.4245   "
     ]
    },
    {
     "name": "stderr",
     "output_type": "stream",
     "text": [
      "2025-06-16 18:08:48 - INFO - \n",
      "=== Epoch 55 Summary ===\n",
      "2025-06-16 18:08:48 - INFO - Time: 627.02s\n",
      "2025-06-16 18:08:48 - INFO - Training   - accuracy: 0.9436 - auc: 0.9286 - f1_score: 0.5081 - loss: 0.0302 - precision: 0.7385 - recall: 0.4246 - learning_rate: 0.0000\n",
      "2025-06-16 18:08:48 - INFO - Validation - accuracy: 0.9349 - auc: 0.7574 - f1_score: 0.2129 - loss: 0.0640 - precision: 0.3376 - recall: 0.1819\n",
      "2025-06-16 18:08:48 - INFO - ==================================================\n",
      "\n"
     ]
    },
    {
     "name": "stdout",
     "output_type": "stream",
     "text": [
      "\u001b[1m813/813\u001b[0m \u001b[32m━━━━━━━━━━━━━━━━━━━━\u001b[0m\u001b[37m\u001b[0m \u001b[1m627s\u001b[0m 772ms/step - accuracy: 0.9436 - auc: 0.9285 - f1_score: 0.5082 - loss: 0.0302 - precision: 0.7383 - recall: 0.4245 - val_accuracy: 0.9349 - val_auc: 0.7574 - val_f1_score: 0.2129 - val_loss: 0.0640 - val_precision: 0.3376 - val_recall: 0.1819 - learning_rate: 1.0000e-06\n"
     ]
    },
    {
     "name": "stderr",
     "output_type": "stream",
     "text": [
      "2025-06-16 18:08:48 - INFO - \n",
      "=== Starting Epoch 56 ===\n",
      "\n"
     ]
    },
    {
     "name": "stdout",
     "output_type": "stream",
     "text": [
      "Epoch 56/100\n",
      "\u001b[1m813/813\u001b[0m \u001b[32m━━━━━━━━━━━━━━━━━━━━\u001b[0m\u001b[37m\u001b[0m \u001b[1m0s\u001b[0m 577ms/step - accuracy: 0.9433 - auc: 0.9282 - f1_score: 0.5082 - loss: 0.0305 - precision: 0.7392 - recall: 0.4237  "
     ]
    },
    {
     "name": "stderr",
     "output_type": "stream",
     "text": [
      "2025-06-16 18:16:54 - INFO - \n",
      "=== Epoch 56 Summary ===\n",
      "2025-06-16 18:16:54 - INFO - Time: 485.61s\n",
      "2025-06-16 18:16:54 - INFO - Training   - accuracy: 0.9435 - auc: 0.9289 - f1_score: 0.5091 - loss: 0.0303 - precision: 0.7384 - recall: 0.4255 - learning_rate: 0.0000\n",
      "2025-06-16 18:16:54 - INFO - Validation - accuracy: 0.9346 - auc: 0.7580 - f1_score: 0.2158 - loss: 0.0636 - precision: 0.3348 - recall: 0.1827\n",
      "2025-06-16 18:16:54 - INFO - ==================================================\n",
      "\n"
     ]
    },
    {
     "name": "stdout",
     "output_type": "stream",
     "text": [
      "\u001b[1m813/813\u001b[0m \u001b[32m━━━━━━━━━━━━━━━━━━━━\u001b[0m\u001b[37m\u001b[0m \u001b[1m486s\u001b[0m 598ms/step - accuracy: 0.9433 - auc: 0.9282 - f1_score: 0.5082 - loss: 0.0305 - precision: 0.7392 - recall: 0.4237 - val_accuracy: 0.9346 - val_auc: 0.7580 - val_f1_score: 0.2158 - val_loss: 0.0636 - val_precision: 0.3348 - val_recall: 0.1827 - learning_rate: 1.0000e-06\n"
     ]
    },
    {
     "name": "stderr",
     "output_type": "stream",
     "text": [
      "2025-06-16 18:16:54 - INFO - \n",
      "=== Starting Epoch 57 ===\n",
      "\n"
     ]
    },
    {
     "name": "stdout",
     "output_type": "stream",
     "text": [
      "Epoch 57/100\n",
      "\u001b[1m813/813\u001b[0m \u001b[32m━━━━━━━━━━━━━━━━━━━━\u001b[0m\u001b[37m\u001b[0m \u001b[1m0s\u001b[0m 577ms/step - accuracy: 0.9436 - auc: 0.9290 - f1_score: 0.5107 - loss: 0.0302 - precision: 0.7395 - recall: 0.4267  "
     ]
    },
    {
     "name": "stderr",
     "output_type": "stream",
     "text": [
      "2025-06-16 18:24:52 - INFO - \n",
      "=== Epoch 57 Summary ===\n",
      "2025-06-16 18:24:52 - INFO - Time: 478.18s\n",
      "2025-06-16 18:24:52 - INFO - Training   - accuracy: 0.9435 - auc: 0.9293 - f1_score: 0.5090 - loss: 0.0302 - precision: 0.7366 - recall: 0.4258 - learning_rate: 0.0000\n",
      "2025-06-16 18:24:52 - INFO - Validation - accuracy: 0.9352 - auc: 0.7578 - f1_score: 0.2150 - loss: 0.0635 - precision: 0.3372 - recall: 0.1754\n",
      "2025-06-16 18:24:52 - INFO - ==================================================\n",
      "\n"
     ]
    },
    {
     "name": "stdout",
     "output_type": "stream",
     "text": [
      "\u001b[1m813/813\u001b[0m \u001b[32m━━━━━━━━━━━━━━━━━━━━\u001b[0m\u001b[37m\u001b[0m \u001b[1m478s\u001b[0m 589ms/step - accuracy: 0.9436 - auc: 0.9290 - f1_score: 0.5107 - loss: 0.0302 - precision: 0.7395 - recall: 0.4267 - val_accuracy: 0.9352 - val_auc: 0.7578 - val_f1_score: 0.2150 - val_loss: 0.0635 - val_precision: 0.3372 - val_recall: 0.1754 - learning_rate: 1.0000e-06\n"
     ]
    },
    {
     "name": "stderr",
     "output_type": "stream",
     "text": [
      "2025-06-16 18:24:52 - INFO - \n",
      "=== Starting Epoch 58 ===\n",
      "\n"
     ]
    },
    {
     "name": "stdout",
     "output_type": "stream",
     "text": [
      "Epoch 58/100\n",
      "\u001b[1m813/813\u001b[0m \u001b[32m━━━━━━━━━━━━━━━━━━━━\u001b[0m\u001b[37m\u001b[0m \u001b[1m0s\u001b[0m 496ms/step - accuracy: 0.9433 - auc: 0.9293 - f1_score: 0.5085 - loss: 0.0301 - precision: 0.7397 - recall: 0.4242  "
     ]
    },
    {
     "name": "stderr",
     "output_type": "stream",
     "text": [
      "2025-06-16 18:31:43 - INFO - \n",
      "=== Epoch 58 Summary ===\n",
      "2025-06-16 18:31:43 - INFO - Time: 411.65s\n",
      "2025-06-16 18:31:43 - INFO - Training   - accuracy: 0.9437 - auc: 0.9296 - f1_score: 0.5107 - loss: 0.0300 - precision: 0.7408 - recall: 0.4266 - learning_rate: 0.0000\n",
      "2025-06-16 18:31:43 - INFO - Validation - accuracy: 0.9356 - auc: 0.7597 - f1_score: 0.2141 - loss: 0.0638 - precision: 0.3419 - recall: 0.1769\n",
      "2025-06-16 18:31:43 - INFO - ==================================================\n",
      "\n"
     ]
    },
    {
     "name": "stdout",
     "output_type": "stream",
     "text": [
      "\u001b[1m813/813\u001b[0m \u001b[32m━━━━━━━━━━━━━━━━━━━━\u001b[0m\u001b[37m\u001b[0m \u001b[1m412s\u001b[0m 507ms/step - accuracy: 0.9433 - auc: 0.9293 - f1_score: 0.5085 - loss: 0.0301 - precision: 0.7397 - recall: 0.4242 - val_accuracy: 0.9356 - val_auc: 0.7597 - val_f1_score: 0.2141 - val_loss: 0.0638 - val_precision: 0.3419 - val_recall: 0.1769 - learning_rate: 1.0000e-06\n"
     ]
    },
    {
     "name": "stderr",
     "output_type": "stream",
     "text": [
      "2025-06-16 18:31:43 - INFO - \n",
      "=== Starting Epoch 59 ===\n",
      "\n"
     ]
    },
    {
     "name": "stdout",
     "output_type": "stream",
     "text": [
      "Epoch 59/100\n",
      "\u001b[1m813/813\u001b[0m \u001b[32m━━━━━━━━━━━━━━━━━━━━\u001b[0m\u001b[37m\u001b[0m \u001b[1m0s\u001b[0m 454ms/step - accuracy: 0.9439 - auc: 0.9285 - f1_score: 0.5109 - loss: 0.0304 - precision: 0.7399 - recall: 0.4271  "
     ]
    },
    {
     "name": "stderr",
     "output_type": "stream",
     "text": [
      "2025-06-16 18:38:02 - INFO - \n",
      "=== Epoch 59 Summary ===\n",
      "2025-06-16 18:38:02 - INFO - Time: 378.44s\n",
      "2025-06-16 18:38:02 - INFO - Training   - accuracy: 0.9440 - auc: 0.9294 - f1_score: 0.5125 - loss: 0.0301 - precision: 0.7413 - recall: 0.4289 - learning_rate: 0.0000\n",
      "2025-06-16 18:38:02 - INFO - Validation - accuracy: 0.9346 - auc: 0.7593 - f1_score: 0.2191 - loss: 0.0637 - precision: 0.3347 - recall: 0.1835\n",
      "2025-06-16 18:38:02 - INFO - ==================================================\n",
      "\n"
     ]
    },
    {
     "name": "stdout",
     "output_type": "stream",
     "text": [
      "\u001b[1m813/813\u001b[0m \u001b[32m━━━━━━━━━━━━━━━━━━━━\u001b[0m\u001b[37m\u001b[0m \u001b[1m378s\u001b[0m 466ms/step - accuracy: 0.9439 - auc: 0.9285 - f1_score: 0.5109 - loss: 0.0304 - precision: 0.7399 - recall: 0.4271 - val_accuracy: 0.9346 - val_auc: 0.7593 - val_f1_score: 0.2191 - val_loss: 0.0637 - val_precision: 0.3347 - val_recall: 0.1835 - learning_rate: 1.0000e-06\n"
     ]
    },
    {
     "name": "stderr",
     "output_type": "stream",
     "text": [
      "2025-06-16 18:38:02 - INFO - \n",
      "=== Starting Epoch 60 ===\n",
      "\n"
     ]
    },
    {
     "name": "stdout",
     "output_type": "stream",
     "text": [
      "Epoch 60/100\n",
      "\u001b[1m813/813\u001b[0m \u001b[32m━━━━━━━━━━━━━━━━━━━━\u001b[0m\u001b[37m\u001b[0m \u001b[1m0s\u001b[0m 612ms/step - accuracy: 0.9438 - auc: 0.9301 - f1_score: 0.5150 - loss: 0.0300 - precision: 0.7426 - recall: 0.4299  "
     ]
    },
    {
     "name": "stderr",
     "output_type": "stream",
     "text": [
      "2025-06-16 18:46:28 - INFO - \n",
      "=== Epoch 60 Summary ===\n",
      "2025-06-16 18:46:28 - INFO - Time: 506.12s\n",
      "2025-06-16 18:46:28 - INFO - Training   - accuracy: 0.9441 - auc: 0.9308 - f1_score: 0.5166 - loss: 0.0298 - precision: 0.7425 - recall: 0.4320 - learning_rate: 0.0000\n",
      "2025-06-16 18:46:28 - INFO - Validation - accuracy: 0.9349 - auc: 0.7586 - f1_score: 0.2110 - loss: 0.0649 - precision: 0.3309 - recall: 0.1715\n",
      "2025-06-16 18:46:28 - INFO - ==================================================\n",
      "\n"
     ]
    },
    {
     "name": "stdout",
     "output_type": "stream",
     "text": [
      "\u001b[1m813/813\u001b[0m \u001b[32m━━━━━━━━━━━━━━━━━━━━\u001b[0m\u001b[37m\u001b[0m \u001b[1m506s\u001b[0m 623ms/step - accuracy: 0.9438 - auc: 0.9301 - f1_score: 0.5150 - loss: 0.0300 - precision: 0.7426 - recall: 0.4299 - val_accuracy: 0.9349 - val_auc: 0.7586 - val_f1_score: 0.2110 - val_loss: 0.0649 - val_precision: 0.3309 - val_recall: 0.1715 - learning_rate: 1.0000e-06\n"
     ]
    },
    {
     "name": "stderr",
     "output_type": "stream",
     "text": [
      "2025-06-16 18:46:28 - INFO - \n",
      "=== Starting Epoch 61 ===\n",
      "\n"
     ]
    },
    {
     "name": "stdout",
     "output_type": "stream",
     "text": [
      "Epoch 61/100\n",
      "\u001b[1m813/813\u001b[0m \u001b[32m━━━━━━━━━━━━━━━━━━━━\u001b[0m\u001b[37m\u001b[0m \u001b[1m0s\u001b[0m 469ms/step - accuracy: 0.9440 - auc: 0.9310 - f1_score: 0.5162 - loss: 0.0298 - precision: 0.7413 - recall: 0.4319  "
     ]
    },
    {
     "name": "stderr",
     "output_type": "stream",
     "text": [
      "2025-06-16 18:52:58 - INFO - \n",
      "=== Epoch 61 Summary ===\n",
      "2025-06-16 18:52:58 - INFO - Time: 390.40s\n",
      "2025-06-16 18:52:58 - INFO - Training   - accuracy: 0.9442 - auc: 0.9313 - f1_score: 0.5178 - loss: 0.0298 - precision: 0.7422 - recall: 0.4335 - learning_rate: 0.0000\n",
      "2025-06-16 18:52:58 - INFO - Validation - accuracy: 0.9355 - auc: 0.7585 - f1_score: 0.2143 - loss: 0.0642 - precision: 0.3414 - recall: 0.1767\n",
      "2025-06-16 18:52:58 - INFO - ==================================================\n",
      "\n"
     ]
    },
    {
     "name": "stdout",
     "output_type": "stream",
     "text": [
      "\u001b[1m813/813\u001b[0m \u001b[32m━━━━━━━━━━━━━━━━━━━━\u001b[0m\u001b[37m\u001b[0m \u001b[1m390s\u001b[0m 481ms/step - accuracy: 0.9440 - auc: 0.9310 - f1_score: 0.5162 - loss: 0.0298 - precision: 0.7413 - recall: 0.4319 - val_accuracy: 0.9355 - val_auc: 0.7585 - val_f1_score: 0.2143 - val_loss: 0.0642 - val_precision: 0.3414 - val_recall: 0.1767 - learning_rate: 1.0000e-06\n"
     ]
    },
    {
     "name": "stderr",
     "output_type": "stream",
     "text": [
      "2025-06-16 18:52:58 - INFO - \n",
      "=== Starting Epoch 62 ===\n",
      "\n"
     ]
    },
    {
     "name": "stdout",
     "output_type": "stream",
     "text": [
      "Epoch 62/100\n",
      "\u001b[1m813/813\u001b[0m \u001b[32m━━━━━━━━━━━━━━━━━━━━\u001b[0m\u001b[37m\u001b[0m \u001b[1m0s\u001b[0m 589ms/step - accuracy: 0.9444 - auc: 0.9309 - f1_score: 0.5192 - loss: 0.0299 - precision: 0.7444 - recall: 0.4352  "
     ]
    },
    {
     "name": "stderr",
     "output_type": "stream",
     "text": [
      "2025-06-16 19:01:06 - INFO - \n",
      "=== Epoch 62 Summary ===\n",
      "2025-06-16 19:01:06 - INFO - Time: 487.86s\n",
      "2025-06-16 19:01:06 - INFO - Training   - accuracy: 0.9446 - auc: 0.9315 - f1_score: 0.5205 - loss: 0.0297 - precision: 0.7449 - recall: 0.4364 - learning_rate: 0.0000\n",
      "2025-06-16 19:01:06 - INFO - Validation - accuracy: 0.9351 - auc: 0.7574 - f1_score: 0.2149 - loss: 0.0640 - precision: 0.3376 - recall: 0.1777\n",
      "2025-06-16 19:01:06 - INFO - ==================================================\n",
      "\n"
     ]
    },
    {
     "name": "stdout",
     "output_type": "stream",
     "text": [
      "\u001b[1m813/813\u001b[0m \u001b[32m━━━━━━━━━━━━━━━━━━━━\u001b[0m\u001b[37m\u001b[0m \u001b[1m488s\u001b[0m 601ms/step - accuracy: 0.9444 - auc: 0.9309 - f1_score: 0.5192 - loss: 0.0299 - precision: 0.7444 - recall: 0.4352 - val_accuracy: 0.9351 - val_auc: 0.7574 - val_f1_score: 0.2149 - val_loss: 0.0640 - val_precision: 0.3376 - val_recall: 0.1777 - learning_rate: 1.0000e-06\n"
     ]
    },
    {
     "name": "stderr",
     "output_type": "stream",
     "text": [
      "2025-06-16 19:01:06 - INFO - \n",
      "=== Training Completed! ===\n",
      "\n",
      "2025-06-16 19:01:06 - INFO - Final Metrics: accuracy: 0.9446 - auc: 0.9315 - f1_score: 0.5205 - loss: 0.0297 - precision: 0.7449 - recall: 0.4364 - val_accuracy: 0.9351 - val_auc: 0.7574 - val_f1_score: 0.2149 - val_loss: 0.0640 - val_precision: 0.3376 - val_recall: 0.1777\n",
      "\n"
     ]
    },
    {
     "name": "stdout",
     "output_type": "stream",
     "text": [
      "Epoch 62: early stopping\n",
      "Restoring model weights from the end of the best epoch: 47.\n"
     ]
    }
   ],
   "source": [
    "# Model Training\n",
    "model          = build_densenet121(num_classes, use_se=True, ratio=8)\n",
    "optimizer      = Adam(learning_rate=1e-4)\n",
    "compile_kwargs = {'optimizer': optimizer, 'loss': loss, 'metrics': metrics}\n",
    "\n",
    "history, model = start_or_resume_training(\n",
    "    model, \n",
    "    compile_kwargs, \n",
    "    train_ds, \n",
    "    val_ds, \n",
    "    TF_MAX_EPOCHS,\n",
    "    steps_per_epoch, \n",
    "    validation_steps, \n",
    "    class_weights=class_weights,\n",
    "    callbacks=[checkpoint, best_checkpoint, reduce_lr, training_logger, metrics_monitor, early_stopping], \n",
    "    checkpoint_path=checkpoint_path,\n",
    "    initial_epoch=initial_epoch,\n",
    "    output_dir=MODELS_PATH,\n",
    "    model_name=model_name,\n",
    "    logger=logger\n",
    ")"
   ]
  }
 ],
 "metadata": {
  "kernelspec": {
   "display_name": "Python 3 (ipykernel)",
   "language": "python",
   "name": "python3"
  },
  "language_info": {
   "codemirror_mode": {
    "name": "ipython",
    "version": 3
   },
   "file_extension": ".py",
   "mimetype": "text/x-python",
   "name": "python",
   "nbconvert_exporter": "python",
   "pygments_lexer": "ipython3",
   "version": "3.10.16"
  }
 },
 "nbformat": 4,
 "nbformat_minor": 5
}
