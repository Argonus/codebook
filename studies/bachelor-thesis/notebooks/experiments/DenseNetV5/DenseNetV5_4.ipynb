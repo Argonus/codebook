{
 "cells": [
  {
   "cell_type": "code",
   "execution_count": 1,
   "id": "b694919a-9b18-4068-8e69-7258de889dff",
   "metadata": {},
   "outputs": [
    {
     "name": "stderr",
     "output_type": "stream",
     "text": [
      "2025-06-18 07:08:18.381457: E external/local_xla/xla/stream_executor/cuda/cuda_fft.cc:467] Unable to register cuFFT factory: Attempting to register factory for plugin cuFFT when one has already been registered\n",
      "WARNING: All log messages before absl::InitializeLog() is called are written to STDERR\n",
      "E0000 00:00:1750223298.460739    3706 cuda_dnn.cc:8579] Unable to register cuDNN factory: Attempting to register factory for plugin cuDNN when one has already been registered\n",
      "E0000 00:00:1750223298.484356    3706 cuda_blas.cc:1407] Unable to register cuBLAS factory: Attempting to register factory for plugin cuBLAS when one has already been registered\n",
      "W0000 00:00:1750223298.672014    3706 computation_placer.cc:177] computation placer already registered. Please check linkage and avoid linking the same target more than once.\n",
      "W0000 00:00:1750223298.672025    3706 computation_placer.cc:177] computation placer already registered. Please check linkage and avoid linking the same target more than once.\n",
      "W0000 00:00:1750223298.672026    3706 computation_placer.cc:177] computation placer already registered. Please check linkage and avoid linking the same target more than once.\n",
      "W0000 00:00:1750223298.672027    3706 computation_placer.cc:177] computation placer already registered. Please check linkage and avoid linking the same target more than once.\n"
     ]
    },
    {
     "name": "stdout",
     "output_type": "stream",
     "text": [
      "\n",
      "GPU configuration successful!\n",
      "Device: /physical_device:GPU:0\n",
      "Memory limit: 18.0 GB\n",
      "\n",
      "TensorFlow optimizations status:\n",
      "- CPU Threads: 16 intra-op, 9 inter-op (32 cores total)\n",
      "- XLA JIT: enabled (autoclustering)\n",
      "- Synchronous Execution: enabled\n",
      "\n",
      "GPU Device Details:\n",
      "- Device: GPU /physical_device:GPU:0\n",
      "- Memory limit: 18.0 GB\n"
     ]
    },
    {
     "name": "stderr",
     "output_type": "stream",
     "text": [
      "I0000 00:00:1750223301.944349    3706 gpu_process_state.cc:208] Using CUDA malloc Async allocator for GPU: 0\n",
      "I0000 00:00:1750223301.945101    3706 gpu_device.cc:2019] Created device /job:localhost/replica:0/task:0/device:GPU:0 with 19327352832 MB memory:  -> device: 0, name: NVIDIA GeForce RTX 3090 Ti, pci bus id: 0000:01:00.0, compute capability: 8.6\n"
     ]
    }
   ],
   "source": [
    "# Import dependencies\n",
    "import os\n",
    "\n",
    "os.environ['TF_CPP_MIN_VLOG_LEVEL'] = '0'\n",
    "os.environ['TF_CPP_MIN_LOG_LEVEL'] = '2'\n",
    "os.environ['TF_GPU_ALLOCATOR'] = 'cuda_malloc_async'\n",
    "os.environ['TF_FORCE_GPU_ALLOW_GROWTH'] = 'true'\n",
    "\n",
    "from src.utils.gpu_config import configure_gpu, optimize_tensorflow\n",
    "\n",
    "configure_gpu()\n",
    "optimize_tensorflow()"
   ]
  },
  {
   "cell_type": "code",
   "execution_count": 2,
   "id": "2b854daf-5f2a-4c33-9180-5081cd415b16",
   "metadata": {},
   "outputs": [],
   "source": [
    "# Import Tensorflow Keras\n",
    "from tensorflow.keras.optimizers import Adam\n",
    "from tensorflow.keras.losses import BinaryFocalCrossentropy\n",
    "from tensorflow.keras.callbacks import ReduceLROnPlateau, ModelCheckpoint\n",
    "\n",
    "# Import local modules\n",
    "from src.utils.consts import TF_RECORD_DATASET, MODELS_PATH, TF_BUFFER_SIZE, TF_SHUFFLE_SIZE, TF_BATCH_SIZE, TF_MAX_EPOCHS\n",
    "from src.model.tensorflow_utils import load_dataset, optimize_dataset, count_dataset_size, get_num_classes, get_metrics\n",
    "from src.model.tensorflow_utils import setup_logger, setup_training_logger, setup_metrics_monitor, setup_early_stopping, filter_no_finding_class\n",
    "from src.model.tensorflow_utils import start_or_resume_training, apply_augmentation_to_dataset, calculate_class_weights, oversample_minority_classes\n",
    "from src.model.densnet.tensorflow_dense_net_121 import build_densenet121\n",
    "\n",
    "# Input Data\n",
    "initial_epoch   = 59\n",
    "resume_training = True\n",
    "checkpoint_path = '/home/piotr/Pulpit/codebook/studies/bachelor-thesis/models/DenseNetV5_4/checkpoints/cp-0058.keras'\n",
    "set_name        = \"DenseNetV5\"\n",
    "model_name      = f\"{set_name}_4\"\n",
    "num_classes     = get_num_classes()\n",
    "\n",
    "train_ds = load_dataset(f\"{TF_RECORD_DATASET}/train.tfrecord\", TF_BUFFER_SIZE)\n",
    "val_ds   = load_dataset(f\"{TF_RECORD_DATASET}/val.tfrecord\", TF_BUFFER_SIZE)\n",
    "\n",
    "train_ds = filter_no_finding_class(train_ds)\n",
    "val_ds   = filter_no_finding_class(val_ds)\n",
    "\n",
    "class_weights = calculate_class_weights(train_ds, num_classes)\n",
    "train_ds      = oversample_minority_classes(train_ds, class_weights)\n",
    "class_weights = calculate_class_weights(train_ds, num_classes)"
   ]
  },
  {
   "cell_type": "code",
   "execution_count": 3,
   "id": "5f152b8a-8ff8-4095-9815-e304ce2beb52",
   "metadata": {},
   "outputs": [
    {
     "name": "stderr",
     "output_type": "stream",
     "text": [
      "Counting samples: 104166 samples [00:34, 2995.32 samples/s] \n",
      "Counting samples: 15431 samples [00:08, 1754.81 samples/s]\n"
     ]
    }
   ],
   "source": [
    "steps_per_epoch  = int(count_dataset_size(train_ds, None) / TF_BATCH_SIZE)\n",
    "validation_steps = int(count_dataset_size(val_ds, None) / TF_BATCH_SIZE)\n",
    "\n",
    "# Disable Advanced Augmentations\n",
    "probability = {\n",
    "    \"intensity_scaling\": 0,\n",
    "    \"adaptive_histogram\": 0,\n",
    "    \"zoom\": 0,\n",
    "    \"cutout\": 0\n",
    "}\n",
    "\n",
    "train_ds = train_ds.shuffle(TF_SHUFFLE_SIZE, reshuffle_each_iteration=True)\n",
    "train_ds = apply_augmentation_to_dataset(train_ds, probability)\n",
    "train_ds = optimize_dataset(train_ds, TF_BATCH_SIZE)\n",
    "\n",
    "val_ds   = optimize_dataset(val_ds, TF_BATCH_SIZE)"
   ]
  },
  {
   "cell_type": "code",
   "execution_count": 4,
   "id": "3a0e37c9-b178-40d8-bd25-8c0a6498564a",
   "metadata": {},
   "outputs": [
    {
     "name": "stderr",
     "output_type": "stream",
     "text": [
      "2025-06-18 07:10:21 - INFO - Resuming from existing metrics file: /home/piotr/Pulpit/codebook/studies/bachelor-thesis/models/DenseNetV5_4/train_metrics.csv\n",
      "2025-06-18 07:10:21 - INFO - Resuming from existing validation metrics file: /home/piotr/Pulpit/codebook/studies/bachelor-thesis/models/DenseNetV5_4/val_metrics.csv\n",
      "2025-06-18 07:10:21 - INFO - Cleaned training metrics file, kept 47154 records before epoch 59\n",
      "2025-06-18 07:10:21 - INFO - Cleaned validation metrics file, kept 58 records before epoch 59\n",
      "2025-06-18 07:10:21 - INFO - Found 47154 existing training records\n",
      "2025-06-18 07:10:21 - INFO - Found 58 existing validation records\n"
     ]
    }
   ],
   "source": [
    "# Setup Model Deps\n",
    "logger            = setup_logger()\n",
    "training_logger   = setup_training_logger(logger, TF_BATCH_SIZE, 100)\n",
    "metrics_monitor   = setup_metrics_monitor(MODELS_PATH, model_name, logger, resume_training=resume_training, initial_epoch=initial_epoch)\n",
    "metrics           = get_metrics()\n",
    "\n",
    "# Setup compile arguments\n",
    "loss           = BinaryFocalCrossentropy(gamma=2.0, from_logits=False, label_smoothing=0.05)\n",
    "reduce_lr      = ReduceLROnPlateau(monitor=\"val_f1_score\", factor=0.5,  patience=3, min_lr=1e-6, mode=\"max\", verbose=1)\n",
    "early_stopping = setup_early_stopping()\n",
    "\n",
    "epoch_mode           = 'cp-{epoch:04d}'\n",
    "save_checkpoint_path = f\"{MODELS_PATH}/{model_name}/checkpoints/{epoch_mode}.keras\"\n",
    "checkpoint           = ModelCheckpoint(save_checkpoint_path, monitor=\"val_f1_score\", save_best_only=False, mode=\"max\", save_weights_only=False)\n",
    "\n",
    "model_path      = f\"{MODELS_PATH}/{model_name}.keras\"\n",
    "best_checkpoint = ModelCheckpoint(model_path, monitor=\"val_f1_score\", save_best_only=True, mode=\"max\", save_weights_only=False)"
   ]
  },
  {
   "cell_type": "code",
   "execution_count": 5,
   "id": "c44d4a9a-ffbb-4917-a702-c35773b9857c",
   "metadata": {},
   "outputs": [
    {
     "name": "stderr",
     "output_type": "stream",
     "text": [
      "2025-06-18 07:10:22 - INFO - Resuming training from checkpoint: /home/piotr/Pulpit/codebook/studies/bachelor-thesis/models/DenseNetV5_4/checkpoints/cp-0058.keras\n",
      "2025-06-18 07:10:24 - INFO - Resuming from existing metrics file: /home/piotr/Pulpit/codebook/studies/bachelor-thesis/models/DenseNetV5_4/train_metrics.csv\n",
      "2025-06-18 07:10:24 - INFO - Resuming from existing validation metrics file: /home/piotr/Pulpit/codebook/studies/bachelor-thesis/models/DenseNetV5_4/val_metrics.csv\n",
      "2025-06-18 07:10:24 - INFO - Cleaned training metrics file, kept 47154 records before epoch 59\n",
      "2025-06-18 07:10:24 - INFO - Cleaned validation metrics file, kept 58 records before epoch 59\n",
      "2025-06-18 07:10:24 - INFO - Found 47154 existing training records\n",
      "2025-06-18 07:10:24 - INFO - Found 58 existing validation records\n",
      "2025-06-18 07:10:24 - INFO - \n",
      "=== Training Started ===\n",
      "\n",
      "2025-06-18 07:10:24 - INFO - Batch Size: 128\n",
      "2025-06-18 07:10:24 - INFO - Optimizer: Adam\n",
      "2025-06-18 07:10:24 - INFO - \n",
      "==================================================\n",
      "\n",
      "2025-06-18 07:10:24 - INFO - \n",
      "=== Starting Epoch 59 ===\n",
      "\n"
     ]
    },
    {
     "name": "stdout",
     "output_type": "stream",
     "text": [
      "Epoch 59/100\n"
     ]
    },
    {
     "name": "stderr",
     "output_type": "stream",
     "text": [
      "WARNING: All log messages before absl::InitializeLog() is called are written to STDERR\n",
      "I0000 00:00:1750223446.360586    4308 service.cc:152] XLA service 0x76dbbc005ea0 initialized for platform CUDA (this does not guarantee that XLA will be used). Devices:\n",
      "I0000 00:00:1750223446.360630    4308 service.cc:160]   StreamExecutor device (0): NVIDIA GeForce RTX 3090 Ti, Compute Capability 8.6\n",
      "I0000 00:00:1750223452.182000    4308 cuda_dnn.cc:529] Loaded cuDNN version 90300\n",
      "I0000 00:00:1750223512.334579    4308 device_compiler.h:188] Compiled cluster using XLA!  This line is logged at most once for the lifetime of the process.\n"
     ]
    },
    {
     "name": "stdout",
     "output_type": "stream",
     "text": [
      "\u001b[1m813/813\u001b[0m \u001b[32m━━━━━━━━━━━━━━━━━━━━\u001b[0m\u001b[37m\u001b[0m \u001b[1m0s\u001b[0m 215ms/step - accuracy: 0.9479 - auc: 0.9419 - f1_score: 0.5719 - loss: 0.0321 - precision: 0.7601 - recall: 0.4863  "
     ]
    },
    {
     "name": "stderr",
     "output_type": "stream",
     "text": [
      "2025-06-18 07:15:08 - INFO - \n",
      "=== Epoch 59 Summary ===\n",
      "2025-06-18 07:15:08 - INFO - Time: 284.06s\n",
      "2025-06-18 07:15:08 - INFO - Training   - accuracy: 0.9483 - auc: 0.9429 - f1_score: 0.5743 - loss: 0.0318 - precision: 0.7602 - recall: 0.4897 - learning_rate: 0.0000\n",
      "2025-06-18 07:15:08 - INFO - Validation - accuracy: 0.9338 - auc: 0.7556 - f1_score: 0.2390 - loss: 0.0693 - precision: 0.3393 - recall: 0.2057\n",
      "2025-06-18 07:15:08 - INFO - ==================================================\n",
      "\n"
     ]
    },
    {
     "name": "stdout",
     "output_type": "stream",
     "text": [
      "\u001b[1m813/813\u001b[0m \u001b[32m━━━━━━━━━━━━━━━━━━━━\u001b[0m\u001b[37m\u001b[0m \u001b[1m284s\u001b[0m 242ms/step - accuracy: 0.9479 - auc: 0.9419 - f1_score: 0.5719 - loss: 0.0321 - precision: 0.7601 - recall: 0.4864 - val_accuracy: 0.9338 - val_auc: 0.7556 - val_f1_score: 0.2390 - val_loss: 0.0693 - val_precision: 0.3393 - val_recall: 0.2057 - learning_rate: 1.0000e-06\n"
     ]
    },
    {
     "name": "stderr",
     "output_type": "stream",
     "text": [
      "2025-06-18 07:15:08 - INFO - \n",
      "=== Starting Epoch 60 ===\n",
      "\n"
     ]
    },
    {
     "name": "stdout",
     "output_type": "stream",
     "text": [
      "Epoch 60/100\n",
      "\u001b[1m813/813\u001b[0m \u001b[32m━━━━━━━━━━━━━━━━━━━━\u001b[0m\u001b[37m\u001b[0m \u001b[1m0s\u001b[0m 218ms/step - accuracy: 0.9482 - auc: 0.9430 - f1_score: 0.5765 - loss: 0.0321 - precision: 0.7649 - recall: 0.4901  "
     ]
    },
    {
     "name": "stderr",
     "output_type": "stream",
     "text": [
      "2025-06-18 07:19:22 - INFO - \n",
      "=== Epoch 60 Summary ===\n",
      "2025-06-18 07:19:22 - INFO - Time: 253.46s\n",
      "2025-06-18 07:19:22 - INFO - Training   - accuracy: 0.9488 - auc: 0.9442 - f1_score: 0.5795 - loss: 0.0316 - precision: 0.7646 - recall: 0.4941 - learning_rate: 0.0000\n",
      "2025-06-18 07:19:22 - INFO - Validation - accuracy: 0.9331 - auc: 0.7558 - f1_score: 0.2347 - loss: 0.0700 - precision: 0.3252 - recall: 0.1932\n",
      "2025-06-18 07:19:22 - INFO - ==================================================\n",
      "\n"
     ]
    },
    {
     "name": "stdout",
     "output_type": "stream",
     "text": [
      "\u001b[1m813/813\u001b[0m \u001b[32m━━━━━━━━━━━━━━━━━━━━\u001b[0m\u001b[37m\u001b[0m \u001b[1m253s\u001b[0m 235ms/step - accuracy: 0.9482 - auc: 0.9430 - f1_score: 0.5765 - loss: 0.0321 - precision: 0.7649 - recall: 0.4901 - val_accuracy: 0.9331 - val_auc: 0.7558 - val_f1_score: 0.2347 - val_loss: 0.0700 - val_precision: 0.3252 - val_recall: 0.1932 - learning_rate: 1.0000e-06\n"
     ]
    },
    {
     "name": "stderr",
     "output_type": "stream",
     "text": [
      "2025-06-18 07:19:22 - INFO - \n",
      "=== Starting Epoch 61 ===\n",
      "\n"
     ]
    },
    {
     "name": "stdout",
     "output_type": "stream",
     "text": [
      "Epoch 61/100\n",
      "\u001b[1m813/813\u001b[0m \u001b[32m━━━━━━━━━━━━━━━━━━━━\u001b[0m\u001b[37m\u001b[0m \u001b[1m0s\u001b[0m 216ms/step - accuracy: 0.9484 - auc: 0.9426 - f1_score: 0.5788 - loss: 0.0319 - precision: 0.7630 - recall: 0.4938  "
     ]
    },
    {
     "name": "stderr",
     "output_type": "stream",
     "text": [
      "2025-06-18 07:22:31 - INFO - \n",
      "=== Epoch 61 Summary ===\n",
      "2025-06-18 07:22:31 - INFO - Time: 189.07s\n",
      "2025-06-18 07:22:31 - INFO - Training   - accuracy: 0.9490 - auc: 0.9442 - f1_score: 0.5820 - loss: 0.0315 - precision: 0.7646 - recall: 0.4973 - learning_rate: 0.0000\n",
      "2025-06-18 07:22:31 - INFO - Validation - accuracy: 0.9344 - auc: 0.7555 - f1_score: 0.2290 - loss: 0.0703 - precision: 0.3352 - recall: 0.1877\n",
      "2025-06-18 07:22:31 - INFO - ==================================================\n",
      "\n"
     ]
    },
    {
     "name": "stdout",
     "output_type": "stream",
     "text": [
      "\u001b[1m813/813\u001b[0m \u001b[32m━━━━━━━━━━━━━━━━━━━━\u001b[0m\u001b[37m\u001b[0m \u001b[1m189s\u001b[0m 233ms/step - accuracy: 0.9484 - auc: 0.9426 - f1_score: 0.5788 - loss: 0.0319 - precision: 0.7630 - recall: 0.4938 - val_accuracy: 0.9344 - val_auc: 0.7555 - val_f1_score: 0.2290 - val_loss: 0.0703 - val_precision: 0.3352 - val_recall: 0.1877 - learning_rate: 1.0000e-06\n"
     ]
    },
    {
     "name": "stderr",
     "output_type": "stream",
     "text": [
      "2025-06-18 07:22:31 - INFO - \n",
      "=== Starting Epoch 62 ===\n",
      "\n"
     ]
    },
    {
     "name": "stdout",
     "output_type": "stream",
     "text": [
      "Epoch 62/100\n",
      "\u001b[1m813/813\u001b[0m \u001b[32m━━━━━━━━━━━━━━━━━━━━\u001b[0m\u001b[37m\u001b[0m \u001b[1m0s\u001b[0m 216ms/step - accuracy: 0.9487 - auc: 0.9437 - f1_score: 0.5817 - loss: 0.0316 - precision: 0.7679 - recall: 0.4954  "
     ]
    },
    {
     "name": "stderr",
     "output_type": "stream",
     "text": [
      "2025-06-18 07:25:35 - INFO - \n",
      "=== Epoch 62 Summary ===\n",
      "2025-06-18 07:25:35 - INFO - Time: 183.81s\n",
      "2025-06-18 07:25:35 - INFO - Training   - accuracy: 0.9492 - auc: 0.9447 - f1_score: 0.5841 - loss: 0.0314 - precision: 0.7673 - recall: 0.4985 - learning_rate: 0.0000\n",
      "2025-06-18 07:25:35 - INFO - Validation - accuracy: 0.9342 - auc: 0.7541 - f1_score: 0.2364 - loss: 0.0699 - precision: 0.3382 - recall: 0.1975\n",
      "2025-06-18 07:25:35 - INFO - ==================================================\n",
      "\n"
     ]
    },
    {
     "name": "stdout",
     "output_type": "stream",
     "text": [
      "\u001b[1m813/813\u001b[0m \u001b[32m━━━━━━━━━━━━━━━━━━━━\u001b[0m\u001b[37m\u001b[0m \u001b[1m184s\u001b[0m 226ms/step - accuracy: 0.9487 - auc: 0.9437 - f1_score: 0.5817 - loss: 0.0316 - precision: 0.7679 - recall: 0.4954 - val_accuracy: 0.9342 - val_auc: 0.7541 - val_f1_score: 0.2364 - val_loss: 0.0699 - val_precision: 0.3382 - val_recall: 0.1975 - learning_rate: 1.0000e-06\n"
     ]
    },
    {
     "name": "stderr",
     "output_type": "stream",
     "text": [
      "2025-06-18 07:25:35 - INFO - \n",
      "=== Starting Epoch 63 ===\n",
      "\n"
     ]
    },
    {
     "name": "stdout",
     "output_type": "stream",
     "text": [
      "Epoch 63/100\n",
      "\u001b[1m813/813\u001b[0m \u001b[32m━━━━━━━━━━━━━━━━━━━━\u001b[0m\u001b[37m\u001b[0m \u001b[1m0s\u001b[0m 230ms/step - accuracy: 0.9492 - auc: 0.9445 - f1_score: 0.5861 - loss: 0.0314 - precision: 0.7665 - recall: 0.5010  "
     ]
    },
    {
     "name": "stderr",
     "output_type": "stream",
     "text": [
      "2025-06-18 07:28:50 - INFO - \n",
      "=== Epoch 63 Summary ===\n",
      "2025-06-18 07:28:50 - INFO - Time: 195.67s\n",
      "2025-06-18 07:28:50 - INFO - Training   - accuracy: 0.9496 - auc: 0.9454 - f1_score: 0.5886 - loss: 0.0312 - precision: 0.7682 - recall: 0.5040 - learning_rate: 0.0000\n",
      "2025-06-18 07:28:50 - INFO - Validation - accuracy: 0.9341 - auc: 0.7536 - f1_score: 0.2315 - loss: 0.0700 - precision: 0.3342 - recall: 0.1910\n",
      "2025-06-18 07:28:50 - INFO - ==================================================\n",
      "\n"
     ]
    },
    {
     "name": "stdout",
     "output_type": "stream",
     "text": [
      "\u001b[1m813/813\u001b[0m \u001b[32m━━━━━━━━━━━━━━━━━━━━\u001b[0m\u001b[37m\u001b[0m \u001b[1m196s\u001b[0m 241ms/step - accuracy: 0.9492 - auc: 0.9445 - f1_score: 0.5861 - loss: 0.0314 - precision: 0.7665 - recall: 0.5010 - val_accuracy: 0.9341 - val_auc: 0.7536 - val_f1_score: 0.2315 - val_loss: 0.0700 - val_precision: 0.3342 - val_recall: 0.1910 - learning_rate: 1.0000e-06\n"
     ]
    },
    {
     "name": "stderr",
     "output_type": "stream",
     "text": [
      "2025-06-18 07:28:50 - INFO - \n",
      "=== Starting Epoch 64 ===\n",
      "\n"
     ]
    },
    {
     "name": "stdout",
     "output_type": "stream",
     "text": [
      "Epoch 64/100\n",
      "\u001b[1m813/813\u001b[0m \u001b[32m━━━━━━━━━━━━━━━━━━━━\u001b[0m\u001b[37m\u001b[0m \u001b[1m0s\u001b[0m 231ms/step - accuracy: 0.9490 - auc: 0.9454 - f1_score: 0.5866 - loss: 0.0314 - precision: 0.7684 - recall: 0.5011  "
     ]
    },
    {
     "name": "stderr",
     "output_type": "stream",
     "text": [
      "2025-06-18 07:32:08 - INFO - \n",
      "=== Epoch 64 Summary ===\n",
      "2025-06-18 07:32:08 - INFO - Time: 197.62s\n",
      "2025-06-18 07:32:08 - INFO - Training   - accuracy: 0.9496 - auc: 0.9459 - f1_score: 0.5902 - loss: 0.0312 - precision: 0.7683 - recall: 0.5056 - learning_rate: 0.0000\n",
      "2025-06-18 07:32:08 - INFO - Validation - accuracy: 0.9324 - auc: 0.7506 - f1_score: 0.2284 - loss: 0.0708 - precision: 0.3254 - recall: 0.2049\n",
      "2025-06-18 07:32:08 - INFO - ==================================================\n",
      "\n"
     ]
    },
    {
     "name": "stdout",
     "output_type": "stream",
     "text": [
      "\u001b[1m813/813\u001b[0m \u001b[32m━━━━━━━━━━━━━━━━━━━━\u001b[0m\u001b[37m\u001b[0m \u001b[1m198s\u001b[0m 243ms/step - accuracy: 0.9490 - auc: 0.9454 - f1_score: 0.5866 - loss: 0.0314 - precision: 0.7684 - recall: 0.5011 - val_accuracy: 0.9324 - val_auc: 0.7506 - val_f1_score: 0.2284 - val_loss: 0.0708 - val_precision: 0.3254 - val_recall: 0.2049 - learning_rate: 1.0000e-06\n"
     ]
    },
    {
     "name": "stderr",
     "output_type": "stream",
     "text": [
      "2025-06-18 07:32:08 - INFO - \n",
      "=== Starting Epoch 65 ===\n",
      "\n"
     ]
    },
    {
     "name": "stdout",
     "output_type": "stream",
     "text": [
      "Epoch 65/100\n",
      "\u001b[1m813/813\u001b[0m \u001b[32m━━━━━━━━━━━━━━━━━━━━\u001b[0m\u001b[37m\u001b[0m \u001b[1m0s\u001b[0m 230ms/step - accuracy: 0.9497 - auc: 0.9458 - f1_score: 0.5884 - loss: 0.0312 - precision: 0.7709 - recall: 0.5030  "
     ]
    },
    {
     "name": "stderr",
     "output_type": "stream",
     "text": [
      "2025-06-18 07:35:28 - INFO - \n",
      "=== Epoch 65 Summary ===\n",
      "2025-06-18 07:35:28 - INFO - Time: 200.18s\n",
      "2025-06-18 07:35:28 - INFO - Training   - accuracy: 0.9499 - auc: 0.9469 - f1_score: 0.5917 - loss: 0.0310 - precision: 0.7703 - recall: 0.5071 - learning_rate: 0.0000\n",
      "2025-06-18 07:35:28 - INFO - Validation - accuracy: 0.9334 - auc: 0.7539 - f1_score: 0.2165 - loss: 0.0717 - precision: 0.3154 - recall: 0.1731\n",
      "2025-06-18 07:35:28 - INFO - ==================================================\n",
      "\n"
     ]
    },
    {
     "name": "stdout",
     "output_type": "stream",
     "text": [
      "\u001b[1m813/813\u001b[0m \u001b[32m━━━━━━━━━━━━━━━━━━━━\u001b[0m\u001b[37m\u001b[0m \u001b[1m200s\u001b[0m 246ms/step - accuracy: 0.9497 - auc: 0.9458 - f1_score: 0.5884 - loss: 0.0312 - precision: 0.7709 - recall: 0.5030 - val_accuracy: 0.9334 - val_auc: 0.7539 - val_f1_score: 0.2165 - val_loss: 0.0717 - val_precision: 0.3154 - val_recall: 0.1731 - learning_rate: 1.0000e-06\n"
     ]
    },
    {
     "name": "stderr",
     "output_type": "stream",
     "text": [
      "2025-06-18 07:35:28 - INFO - \n",
      "=== Starting Epoch 66 ===\n",
      "\n"
     ]
    },
    {
     "name": "stdout",
     "output_type": "stream",
     "text": [
      "Epoch 66/100\n",
      "\u001b[1m813/813\u001b[0m \u001b[32m━━━━━━━━━━━━━━━━━━━━\u001b[0m\u001b[37m\u001b[0m \u001b[1m0s\u001b[0m 219ms/step - accuracy: 0.9495 - auc: 0.9460 - f1_score: 0.5912 - loss: 0.0312 - precision: 0.7724 - recall: 0.5060  "
     ]
    },
    {
     "name": "stderr",
     "output_type": "stream",
     "text": [
      "2025-06-18 07:38:45 - INFO - \n",
      "=== Epoch 66 Summary ===\n",
      "2025-06-18 07:38:45 - INFO - Time: 197.17s\n",
      "2025-06-18 07:38:45 - INFO - Training   - accuracy: 0.9502 - auc: 0.9471 - f1_score: 0.5946 - loss: 0.0309 - precision: 0.7720 - recall: 0.5107 - learning_rate: 0.0000\n",
      "2025-06-18 07:38:45 - INFO - Validation - accuracy: 0.9333 - auc: 0.7519 - f1_score: 0.2381 - loss: 0.0709 - precision: 0.3324 - recall: 0.2024\n",
      "2025-06-18 07:38:45 - INFO - ==================================================\n",
      "\n"
     ]
    },
    {
     "name": "stdout",
     "output_type": "stream",
     "text": [
      "\u001b[1m813/813\u001b[0m \u001b[32m━━━━━━━━━━━━━━━━━━━━\u001b[0m\u001b[37m\u001b[0m \u001b[1m197s\u001b[0m 243ms/step - accuracy: 0.9496 - auc: 0.9461 - f1_score: 0.5912 - loss: 0.0312 - precision: 0.7724 - recall: 0.5060 - val_accuracy: 0.9333 - val_auc: 0.7519 - val_f1_score: 0.2381 - val_loss: 0.0709 - val_precision: 0.3324 - val_recall: 0.2024 - learning_rate: 1.0000e-06\n"
     ]
    },
    {
     "name": "stderr",
     "output_type": "stream",
     "text": [
      "2025-06-18 07:38:45 - INFO - \n",
      "=== Starting Epoch 67 ===\n",
      "\n"
     ]
    },
    {
     "name": "stdout",
     "output_type": "stream",
     "text": [
      "Epoch 67/100\n",
      "\u001b[1m813/813\u001b[0m \u001b[32m━━━━━━━━━━━━━━━━━━━━\u001b[0m\u001b[37m\u001b[0m \u001b[1m0s\u001b[0m 219ms/step - accuracy: 0.9495 - auc: 0.9466 - f1_score: 0.5907 - loss: 0.0312 - precision: 0.7704 - recall: 0.5048  "
     ]
    },
    {
     "name": "stderr",
     "output_type": "stream",
     "text": [
      "2025-06-18 07:41:56 - INFO - \n",
      "=== Epoch 67 Summary ===\n",
      "2025-06-18 07:41:56 - INFO - Time: 190.66s\n",
      "2025-06-18 07:41:56 - INFO - Training   - accuracy: 0.9503 - auc: 0.9476 - f1_score: 0.5960 - loss: 0.0308 - precision: 0.7731 - recall: 0.5112 - learning_rate: 0.0000\n",
      "2025-06-18 07:41:56 - INFO - Validation - accuracy: 0.9338 - auc: 0.7515 - f1_score: 0.2339 - loss: 0.0708 - precision: 0.3417 - recall: 0.2112\n",
      "2025-06-18 07:41:56 - INFO - ==================================================\n",
      "\n"
     ]
    },
    {
     "name": "stdout",
     "output_type": "stream",
     "text": [
      "\u001b[1m813/813\u001b[0m \u001b[32m━━━━━━━━━━━━━━━━━━━━\u001b[0m\u001b[37m\u001b[0m \u001b[1m191s\u001b[0m 235ms/step - accuracy: 0.9495 - auc: 0.9466 - f1_score: 0.5907 - loss: 0.0312 - precision: 0.7704 - recall: 0.5048 - val_accuracy: 0.9338 - val_auc: 0.7515 - val_f1_score: 0.2339 - val_loss: 0.0708 - val_precision: 0.3417 - val_recall: 0.2112 - learning_rate: 1.0000e-06\n"
     ]
    },
    {
     "name": "stderr",
     "output_type": "stream",
     "text": [
      "2025-06-18 07:41:56 - INFO - \n",
      "=== Starting Epoch 68 ===\n",
      "\n"
     ]
    },
    {
     "name": "stdout",
     "output_type": "stream",
     "text": [
      "Epoch 68/100\n",
      "\u001b[1m813/813\u001b[0m \u001b[32m━━━━━━━━━━━━━━━━━━━━\u001b[0m\u001b[37m\u001b[0m \u001b[1m0s\u001b[0m 219ms/step - accuracy: 0.9500 - auc: 0.9464 - f1_score: 0.5958 - loss: 0.0312 - precision: 0.7729 - recall: 0.5106  "
     ]
    },
    {
     "name": "stderr",
     "output_type": "stream",
     "text": [
      "2025-06-18 07:45:09 - INFO - \n",
      "=== Epoch 68 Summary ===\n",
      "2025-06-18 07:45:09 - INFO - Time: 193.42s\n",
      "2025-06-18 07:45:09 - INFO - Training   - accuracy: 0.9505 - auc: 0.9479 - f1_score: 0.5992 - loss: 0.0308 - precision: 0.7746 - recall: 0.5143 - learning_rate: 0.0000\n",
      "2025-06-18 07:45:09 - INFO - Validation - accuracy: 0.9317 - auc: 0.7521 - f1_score: 0.2431 - loss: 0.0713 - precision: 0.3245 - recall: 0.2147\n",
      "2025-06-18 07:45:09 - INFO - ==================================================\n",
      "\n"
     ]
    },
    {
     "name": "stdout",
     "output_type": "stream",
     "text": [
      "\u001b[1m813/813\u001b[0m \u001b[32m━━━━━━━━━━━━━━━━━━━━\u001b[0m\u001b[37m\u001b[0m \u001b[1m193s\u001b[0m 238ms/step - accuracy: 0.9500 - auc: 0.9464 - f1_score: 0.5958 - loss: 0.0312 - precision: 0.7729 - recall: 0.5106 - val_accuracy: 0.9317 - val_auc: 0.7521 - val_f1_score: 0.2431 - val_loss: 0.0713 - val_precision: 0.3245 - val_recall: 0.2147 - learning_rate: 1.0000e-06\n"
     ]
    },
    {
     "name": "stderr",
     "output_type": "stream",
     "text": [
      "2025-06-18 07:45:09 - INFO - \n",
      "=== Starting Epoch 69 ===\n",
      "\n"
     ]
    },
    {
     "name": "stdout",
     "output_type": "stream",
     "text": [
      "Epoch 69/100\n",
      "\u001b[1m813/813\u001b[0m \u001b[32m━━━━━━━━━━━━━━━━━━━━\u001b[0m\u001b[37m\u001b[0m \u001b[1m0s\u001b[0m 218ms/step - accuracy: 0.9500 - auc: 0.9472 - f1_score: 0.5971 - loss: 0.0309 - precision: 0.7738 - recall: 0.5121  "
     ]
    },
    {
     "name": "stderr",
     "output_type": "stream",
     "text": [
      "2025-06-18 07:48:19 - INFO - \n",
      "=== Epoch 69 Summary ===\n",
      "2025-06-18 07:48:19 - INFO - Time: 189.96s\n",
      "2025-06-18 07:48:19 - INFO - Training   - accuracy: 0.9507 - auc: 0.9484 - f1_score: 0.6002 - loss: 0.0306 - precision: 0.7748 - recall: 0.5158 - learning_rate: 0.0000\n",
      "2025-06-18 07:48:19 - INFO - Validation - accuracy: 0.9323 - auc: 0.7526 - f1_score: 0.2377 - loss: 0.0710 - precision: 0.3246 - recall: 0.2060\n",
      "2025-06-18 07:48:19 - INFO - ==================================================\n",
      "\n"
     ]
    },
    {
     "name": "stdout",
     "output_type": "stream",
     "text": [
      "\u001b[1m813/813\u001b[0m \u001b[32m━━━━━━━━━━━━━━━━━━━━\u001b[0m\u001b[37m\u001b[0m \u001b[1m190s\u001b[0m 234ms/step - accuracy: 0.9500 - auc: 0.9472 - f1_score: 0.5971 - loss: 0.0309 - precision: 0.7738 - recall: 0.5121 - val_accuracy: 0.9323 - val_auc: 0.7526 - val_f1_score: 0.2377 - val_loss: 0.0710 - val_precision: 0.3246 - val_recall: 0.2060 - learning_rate: 1.0000e-06\n"
     ]
    },
    {
     "name": "stderr",
     "output_type": "stream",
     "text": [
      "2025-06-18 07:48:20 - INFO - \n",
      "=== Starting Epoch 70 ===\n",
      "\n"
     ]
    },
    {
     "name": "stdout",
     "output_type": "stream",
     "text": [
      "Epoch 70/100\n",
      "\u001b[1m813/813\u001b[0m \u001b[32m━━━━━━━━━━━━━━━━━━━━\u001b[0m\u001b[37m\u001b[0m \u001b[1m0s\u001b[0m 217ms/step - accuracy: 0.9501 - auc: 0.9477 - f1_score: 0.5987 - loss: 0.0308 - precision: 0.7744 - recall: 0.5142  "
     ]
    },
    {
     "name": "stderr",
     "output_type": "stream",
     "text": [
      "2025-06-18 07:51:29 - INFO - \n",
      "=== Epoch 70 Summary ===\n",
      "2025-06-18 07:51:29 - INFO - Time: 189.52s\n",
      "2025-06-18 07:51:29 - INFO - Training   - accuracy: 0.9511 - auc: 0.9492 - f1_score: 0.6047 - loss: 0.0305 - precision: 0.7773 - recall: 0.5207 - learning_rate: 0.0000\n",
      "2025-06-18 07:51:29 - INFO - Validation - accuracy: 0.9321 - auc: 0.7544 - f1_score: 0.2393 - loss: 0.0714 - precision: 0.3170 - recall: 0.1955\n",
      "2025-06-18 07:51:29 - INFO - ==================================================\n",
      "\n"
     ]
    },
    {
     "name": "stdout",
     "output_type": "stream",
     "text": [
      "\u001b[1m813/813\u001b[0m \u001b[32m━━━━━━━━━━━━━━━━━━━━\u001b[0m\u001b[37m\u001b[0m \u001b[1m190s\u001b[0m 233ms/step - accuracy: 0.9501 - auc: 0.9477 - f1_score: 0.5987 - loss: 0.0308 - precision: 0.7744 - recall: 0.5142 - val_accuracy: 0.9321 - val_auc: 0.7544 - val_f1_score: 0.2393 - val_loss: 0.0714 - val_precision: 0.3170 - val_recall: 0.1955 - learning_rate: 1.0000e-06\n"
     ]
    },
    {
     "name": "stderr",
     "output_type": "stream",
     "text": [
      "2025-06-18 07:51:29 - INFO - \n",
      "=== Starting Epoch 71 ===\n",
      "\n"
     ]
    },
    {
     "name": "stdout",
     "output_type": "stream",
     "text": [
      "Epoch 71/100\n",
      "\u001b[1m813/813\u001b[0m \u001b[32m━━━━━━━━━━━━━━━━━━━━\u001b[0m\u001b[37m\u001b[0m \u001b[1m0s\u001b[0m 217ms/step - accuracy: 0.9502 - auc: 0.9489 - f1_score: 0.5987 - loss: 0.0307 - precision: 0.7731 - recall: 0.5146  "
     ]
    },
    {
     "name": "stderr",
     "output_type": "stream",
     "text": [
      "2025-06-18 07:54:39 - INFO - \n",
      "=== Epoch 71 Summary ===\n",
      "2025-06-18 07:54:39 - INFO - Time: 190.34s\n",
      "2025-06-18 07:54:39 - INFO - Training   - accuracy: 0.9509 - auc: 0.9495 - f1_score: 0.6040 - loss: 0.0305 - precision: 0.7756 - recall: 0.5204 - learning_rate: 0.0000\n",
      "2025-06-18 07:54:39 - INFO - Validation - accuracy: 0.9310 - auc: 0.7520 - f1_score: 0.2437 - loss: 0.0725 - precision: 0.3152 - recall: 0.2099\n",
      "2025-06-18 07:54:39 - INFO - ==================================================\n",
      "\n"
     ]
    },
    {
     "name": "stdout",
     "output_type": "stream",
     "text": [
      "\u001b[1m813/813\u001b[0m \u001b[32m━━━━━━━━━━━━━━━━━━━━\u001b[0m\u001b[37m\u001b[0m \u001b[1m190s\u001b[0m 234ms/step - accuracy: 0.9502 - auc: 0.9489 - f1_score: 0.5987 - loss: 0.0307 - precision: 0.7731 - recall: 0.5146 - val_accuracy: 0.9310 - val_auc: 0.7520 - val_f1_score: 0.2437 - val_loss: 0.0725 - val_precision: 0.3152 - val_recall: 0.2099 - learning_rate: 1.0000e-06\n"
     ]
    },
    {
     "name": "stderr",
     "output_type": "stream",
     "text": [
      "2025-06-18 07:54:39 - INFO - \n",
      "=== Starting Epoch 72 ===\n",
      "\n"
     ]
    },
    {
     "name": "stdout",
     "output_type": "stream",
     "text": [
      "Epoch 72/100\n",
      "\u001b[1m813/813\u001b[0m \u001b[32m━━━━━━━━━━━━━━━━━━━━\u001b[0m\u001b[37m\u001b[0m \u001b[1m0s\u001b[0m 217ms/step - accuracy: 0.9509 - auc: 0.9488 - f1_score: 0.6039 - loss: 0.0305 - precision: 0.7755 - recall: 0.5205  "
     ]
    },
    {
     "name": "stderr",
     "output_type": "stream",
     "text": [
      "2025-06-18 07:57:49 - INFO - \n",
      "=== Epoch 72 Summary ===\n",
      "2025-06-18 07:57:49 - INFO - Time: 189.50s\n",
      "2025-06-18 07:57:49 - INFO - Training   - accuracy: 0.9515 - auc: 0.9499 - f1_score: 0.6090 - loss: 0.0303 - precision: 0.7798 - recall: 0.5255 - learning_rate: 0.0000\n",
      "2025-06-18 07:57:49 - INFO - Validation - accuracy: 0.9319 - auc: 0.7493 - f1_score: 0.2405 - loss: 0.0738 - precision: 0.3199 - recall: 0.2039\n",
      "2025-06-18 07:57:49 - INFO - ==================================================\n",
      "\n"
     ]
    },
    {
     "name": "stdout",
     "output_type": "stream",
     "text": [
      "\u001b[1m813/813\u001b[0m \u001b[32m━━━━━━━━━━━━━━━━━━━━\u001b[0m\u001b[37m\u001b[0m \u001b[1m190s\u001b[0m 233ms/step - accuracy: 0.9509 - auc: 0.9488 - f1_score: 0.6039 - loss: 0.0305 - precision: 0.7755 - recall: 0.5205 - val_accuracy: 0.9319 - val_auc: 0.7493 - val_f1_score: 0.2405 - val_loss: 0.0738 - val_precision: 0.3199 - val_recall: 0.2039 - learning_rate: 1.0000e-06\n"
     ]
    },
    {
     "name": "stderr",
     "output_type": "stream",
     "text": [
      "2025-06-18 07:57:49 - INFO - \n",
      "=== Starting Epoch 73 ===\n",
      "\n"
     ]
    },
    {
     "name": "stdout",
     "output_type": "stream",
     "text": [
      "Epoch 73/100\n",
      "\u001b[1m813/813\u001b[0m \u001b[32m━━━━━━━━━━━━━━━━━━━━\u001b[0m\u001b[37m\u001b[0m \u001b[1m0s\u001b[0m 218ms/step - accuracy: 0.9512 - auc: 0.9497 - f1_score: 0.6082 - loss: 0.0304 - precision: 0.7807 - recall: 0.5236  "
     ]
    },
    {
     "name": "stderr",
     "output_type": "stream",
     "text": [
      "2025-06-18 08:00:59 - INFO - \n",
      "=== Epoch 73 Summary ===\n",
      "2025-06-18 08:00:59 - INFO - Time: 190.46s\n",
      "2025-06-18 08:00:59 - INFO - Training   - accuracy: 0.9516 - auc: 0.9505 - f1_score: 0.6102 - loss: 0.0302 - precision: 0.7803 - recall: 0.5265 - learning_rate: 0.0000\n",
      "2025-06-18 08:00:59 - INFO - Validation - accuracy: 0.9325 - auc: 0.7547 - f1_score: 0.2336 - loss: 0.0714 - precision: 0.3161 - recall: 0.1881\n",
      "2025-06-18 08:00:59 - INFO - ==================================================\n",
      "\n"
     ]
    },
    {
     "name": "stdout",
     "output_type": "stream",
     "text": [
      "\u001b[1m813/813\u001b[0m \u001b[32m━━━━━━━━━━━━━━━━━━━━\u001b[0m\u001b[37m\u001b[0m \u001b[1m190s\u001b[0m 234ms/step - accuracy: 0.9512 - auc: 0.9497 - f1_score: 0.6082 - loss: 0.0304 - precision: 0.7807 - recall: 0.5236 - val_accuracy: 0.9325 - val_auc: 0.7547 - val_f1_score: 0.2336 - val_loss: 0.0714 - val_precision: 0.3161 - val_recall: 0.1881 - learning_rate: 1.0000e-06\n"
     ]
    },
    {
     "name": "stderr",
     "output_type": "stream",
     "text": [
      "2025-06-18 08:00:59 - INFO - \n",
      "=== Starting Epoch 74 ===\n",
      "\n"
     ]
    },
    {
     "name": "stdout",
     "output_type": "stream",
     "text": [
      "Epoch 74/100\n",
      "\u001b[1m813/813\u001b[0m \u001b[32m━━━━━━━━━━━━━━━━━━━━\u001b[0m\u001b[37m\u001b[0m \u001b[1m0s\u001b[0m 219ms/step - accuracy: 0.9515 - auc: 0.9499 - f1_score: 0.6121 - loss: 0.0304 - precision: 0.7808 - recall: 0.5285  "
     ]
    },
    {
     "name": "stderr",
     "output_type": "stream",
     "text": [
      "2025-06-18 08:04:12 - INFO - \n",
      "=== Epoch 74 Summary ===\n",
      "2025-06-18 08:04:12 - INFO - Time: 192.81s\n",
      "2025-06-18 08:04:12 - INFO - Training   - accuracy: 0.9519 - auc: 0.9508 - f1_score: 0.6141 - loss: 0.0301 - precision: 0.7816 - recall: 0.5307 - learning_rate: 0.0000\n",
      "2025-06-18 08:04:12 - INFO - Validation - accuracy: 0.9334 - auc: 0.7539 - f1_score: 0.2436 - loss: 0.0708 - precision: 0.3352 - recall: 0.2060\n",
      "2025-06-18 08:04:12 - INFO - ==================================================\n",
      "\n"
     ]
    },
    {
     "name": "stdout",
     "output_type": "stream",
     "text": [
      "\u001b[1m813/813\u001b[0m \u001b[32m━━━━━━━━━━━━━━━━━━━━\u001b[0m\u001b[37m\u001b[0m \u001b[1m193s\u001b[0m 237ms/step - accuracy: 0.9515 - auc: 0.9500 - f1_score: 0.6121 - loss: 0.0304 - precision: 0.7808 - recall: 0.5285 - val_accuracy: 0.9334 - val_auc: 0.7539 - val_f1_score: 0.2436 - val_loss: 0.0708 - val_precision: 0.3352 - val_recall: 0.2060 - learning_rate: 1.0000e-06\n"
     ]
    },
    {
     "name": "stderr",
     "output_type": "stream",
     "text": [
      "2025-06-18 08:04:12 - INFO - \n",
      "=== Starting Epoch 75 ===\n",
      "\n"
     ]
    },
    {
     "name": "stdout",
     "output_type": "stream",
     "text": [
      "Epoch 75/100\n",
      "\u001b[1m813/813\u001b[0m \u001b[32m━━━━━━━━━━━━━━━━━━━━\u001b[0m\u001b[37m\u001b[0m \u001b[1m0s\u001b[0m 219ms/step - accuracy: 0.9515 - auc: 0.9496 - f1_score: 0.6109 - loss: 0.0303 - precision: 0.7811 - recall: 0.5268  "
     ]
    },
    {
     "name": "stderr",
     "output_type": "stream",
     "text": [
      "2025-06-18 08:07:22 - INFO - \n",
      "=== Epoch 75 Summary ===\n",
      "2025-06-18 08:07:22 - INFO - Time: 190.10s\n",
      "2025-06-18 08:07:22 - INFO - Training   - accuracy: 0.9519 - auc: 0.9512 - f1_score: 0.6152 - loss: 0.0300 - precision: 0.7801 - recall: 0.5325 - learning_rate: 0.0000\n",
      "2025-06-18 08:07:22 - INFO - Validation - accuracy: 0.9355 - auc: 0.7542 - f1_score: 0.2298 - loss: 0.0710 - precision: 0.3532 - recall: 0.1986\n",
      "2025-06-18 08:07:22 - INFO - ==================================================\n",
      "\n"
     ]
    },
    {
     "name": "stdout",
     "output_type": "stream",
     "text": [
      "\u001b[1m813/813\u001b[0m \u001b[32m━━━━━━━━━━━━━━━━━━━━\u001b[0m\u001b[37m\u001b[0m \u001b[1m190s\u001b[0m 234ms/step - accuracy: 0.9515 - auc: 0.9496 - f1_score: 0.6109 - loss: 0.0303 - precision: 0.7811 - recall: 0.5268 - val_accuracy: 0.9355 - val_auc: 0.7542 - val_f1_score: 0.2298 - val_loss: 0.0710 - val_precision: 0.3532 - val_recall: 0.1986 - learning_rate: 1.0000e-06\n"
     ]
    },
    {
     "name": "stderr",
     "output_type": "stream",
     "text": [
      "2025-06-18 08:07:22 - INFO - \n",
      "=== Starting Epoch 76 ===\n",
      "\n"
     ]
    },
    {
     "name": "stdout",
     "output_type": "stream",
     "text": [
      "Epoch 76/100\n",
      "\u001b[1m813/813\u001b[0m \u001b[32m━━━━━━━━━━━━━━━━━━━━\u001b[0m\u001b[37m\u001b[0m \u001b[1m0s\u001b[0m 218ms/step - accuracy: 0.9519 - auc: 0.9518 - f1_score: 0.6157 - loss: 0.0300 - precision: 0.7833 - recall: 0.5315  "
     ]
    },
    {
     "name": "stderr",
     "output_type": "stream",
     "text": [
      "2025-06-18 08:10:28 - INFO - \n",
      "=== Epoch 76 Summary ===\n",
      "2025-06-18 08:10:28 - INFO - Time: 185.38s\n",
      "2025-06-18 08:10:28 - INFO - Training   - accuracy: 0.9523 - auc: 0.9523 - f1_score: 0.6183 - loss: 0.0298 - precision: 0.7841 - recall: 0.5347 - learning_rate: 0.0000\n",
      "2025-06-18 08:10:28 - INFO - Validation - accuracy: 0.9319 - auc: 0.7491 - f1_score: 0.2256 - loss: 0.0734 - precision: 0.3163 - recall: 0.1980\n",
      "2025-06-18 08:10:28 - INFO - ==================================================\n",
      "\n"
     ]
    },
    {
     "name": "stdout",
     "output_type": "stream",
     "text": [
      "\u001b[1m813/813\u001b[0m \u001b[32m━━━━━━━━━━━━━━━━━━━━\u001b[0m\u001b[37m\u001b[0m \u001b[1m185s\u001b[0m 228ms/step - accuracy: 0.9519 - auc: 0.9518 - f1_score: 0.6157 - loss: 0.0300 - precision: 0.7833 - recall: 0.5316 - val_accuracy: 0.9319 - val_auc: 0.7491 - val_f1_score: 0.2256 - val_loss: 0.0734 - val_precision: 0.3163 - val_recall: 0.1980 - learning_rate: 1.0000e-06\n"
     ]
    },
    {
     "name": "stderr",
     "output_type": "stream",
     "text": [
      "2025-06-18 08:10:28 - INFO - \n",
      "=== Starting Epoch 77 ===\n",
      "\n"
     ]
    },
    {
     "name": "stdout",
     "output_type": "stream",
     "text": [
      "Epoch 77/100\n",
      "\u001b[1m813/813\u001b[0m \u001b[32m━━━━━━━━━━━━━━━━━━━━\u001b[0m\u001b[37m\u001b[0m \u001b[1m0s\u001b[0m 227ms/step - accuracy: 0.9519 - auc: 0.9517 - f1_score: 0.6140 - loss: 0.0300 - precision: 0.7819 - recall: 0.5311  "
     ]
    },
    {
     "name": "stderr",
     "output_type": "stream",
     "text": [
      "2025-06-18 08:13:41 - INFO - \n",
      "=== Epoch 77 Summary ===\n",
      "2025-06-18 08:13:41 - INFO - Time: 192.99s\n",
      "2025-06-18 08:13:41 - INFO - Training   - accuracy: 0.9525 - auc: 0.9523 - f1_score: 0.6188 - loss: 0.0298 - precision: 0.7855 - recall: 0.5354 - learning_rate: 0.0000\n",
      "2025-06-18 08:13:41 - INFO - Validation - accuracy: 0.9340 - auc: 0.7555 - f1_score: 0.2408 - loss: 0.0705 - precision: 0.3393 - recall: 0.2015\n",
      "2025-06-18 08:13:41 - INFO - ==================================================\n",
      "\n"
     ]
    },
    {
     "name": "stdout",
     "output_type": "stream",
     "text": [
      "\u001b[1m813/813\u001b[0m \u001b[32m━━━━━━━━━━━━━━━━━━━━\u001b[0m\u001b[37m\u001b[0m \u001b[1m193s\u001b[0m 237ms/step - accuracy: 0.9519 - auc: 0.9517 - f1_score: 0.6140 - loss: 0.0300 - precision: 0.7819 - recall: 0.5311 - val_accuracy: 0.9340 - val_auc: 0.7555 - val_f1_score: 0.2408 - val_loss: 0.0705 - val_precision: 0.3393 - val_recall: 0.2015 - learning_rate: 1.0000e-06\n"
     ]
    },
    {
     "name": "stderr",
     "output_type": "stream",
     "text": [
      "2025-06-18 08:13:41 - INFO - \n",
      "=== Starting Epoch 78 ===\n",
      "\n"
     ]
    },
    {
     "name": "stdout",
     "output_type": "stream",
     "text": [
      "Epoch 78/100\n",
      "\u001b[1m813/813\u001b[0m \u001b[32m━━━━━━━━━━━━━━━━━━━━\u001b[0m\u001b[37m\u001b[0m \u001b[1m0s\u001b[0m 227ms/step - accuracy: 0.9519 - auc: 0.9524 - f1_score: 0.6175 - loss: 0.0300 - precision: 0.7825 - recall: 0.5341  "
     ]
    },
    {
     "name": "stderr",
     "output_type": "stream",
     "text": [
      "2025-06-18 08:16:54 - INFO - \n",
      "=== Epoch 78 Summary ===\n",
      "2025-06-18 08:16:54 - INFO - Time: 192.80s\n",
      "2025-06-18 08:16:54 - INFO - Training   - accuracy: 0.9527 - auc: 0.9532 - f1_score: 0.6218 - loss: 0.0297 - precision: 0.7860 - recall: 0.5385 - learning_rate: 0.0000\n",
      "2025-06-18 08:16:54 - INFO - Validation - accuracy: 0.9352 - auc: 0.7531 - f1_score: 0.2209 - loss: 0.0722 - precision: 0.3479 - recall: 0.1954\n",
      "2025-06-18 08:16:54 - INFO - ==================================================\n",
      "\n"
     ]
    },
    {
     "name": "stdout",
     "output_type": "stream",
     "text": [
      "\u001b[1m813/813\u001b[0m \u001b[32m━━━━━━━━━━━━━━━━━━━━\u001b[0m\u001b[37m\u001b[0m \u001b[1m193s\u001b[0m 237ms/step - accuracy: 0.9519 - auc: 0.9524 - f1_score: 0.6175 - loss: 0.0300 - precision: 0.7825 - recall: 0.5341 - val_accuracy: 0.9352 - val_auc: 0.7531 - val_f1_score: 0.2209 - val_loss: 0.0722 - val_precision: 0.3479 - val_recall: 0.1954 - learning_rate: 1.0000e-06\n"
     ]
    },
    {
     "name": "stderr",
     "output_type": "stream",
     "text": [
      "2025-06-18 08:16:54 - INFO - \n",
      "=== Starting Epoch 79 ===\n",
      "\n"
     ]
    },
    {
     "name": "stdout",
     "output_type": "stream",
     "text": [
      "Epoch 79/100\n",
      "\u001b[1m813/813\u001b[0m \u001b[32m━━━━━━━━━━━━━━━━━━━━\u001b[0m\u001b[37m\u001b[0m \u001b[1m0s\u001b[0m 226ms/step - accuracy: 0.9521 - auc: 0.9525 - f1_score: 0.6189 - loss: 0.0298 - precision: 0.7836 - recall: 0.5358  "
     ]
    },
    {
     "name": "stderr",
     "output_type": "stream",
     "text": [
      "2025-06-18 08:20:06 - INFO - \n",
      "=== Epoch 79 Summary ===\n",
      "2025-06-18 08:20:06 - INFO - Time: 192.85s\n",
      "2025-06-18 08:20:06 - INFO - Training   - accuracy: 0.9525 - auc: 0.9532 - f1_score: 0.6210 - loss: 0.0295 - precision: 0.7844 - recall: 0.5383 - learning_rate: 0.0000\n",
      "2025-06-18 08:20:06 - INFO - Validation - accuracy: 0.9335 - auc: 0.7519 - f1_score: 0.2446 - loss: 0.0711 - precision: 0.3420 - recall: 0.2176\n",
      "2025-06-18 08:20:06 - INFO - ==================================================\n",
      "\n"
     ]
    },
    {
     "name": "stdout",
     "output_type": "stream",
     "text": [
      "\u001b[1m813/813\u001b[0m \u001b[32m━━━━━━━━━━━━━━━━━━━━\u001b[0m\u001b[37m\u001b[0m \u001b[1m193s\u001b[0m 237ms/step - accuracy: 0.9521 - auc: 0.9525 - f1_score: 0.6189 - loss: 0.0298 - precision: 0.7836 - recall: 0.5358 - val_accuracy: 0.9335 - val_auc: 0.7519 - val_f1_score: 0.2446 - val_loss: 0.0711 - val_precision: 0.3420 - val_recall: 0.2176 - learning_rate: 1.0000e-06\n"
     ]
    },
    {
     "name": "stderr",
     "output_type": "stream",
     "text": [
      "2025-06-18 08:20:06 - INFO - \n",
      "=== Starting Epoch 80 ===\n",
      "\n"
     ]
    },
    {
     "name": "stdout",
     "output_type": "stream",
     "text": [
      "Epoch 80/100\n",
      "\u001b[1m813/813\u001b[0m \u001b[32m━━━━━━━━━━━━━━━━━━━━\u001b[0m\u001b[37m\u001b[0m \u001b[1m0s\u001b[0m 227ms/step - accuracy: 0.9526 - auc: 0.9532 - f1_score: 0.6230 - loss: 0.0297 - precision: 0.7850 - recall: 0.5411  "
     ]
    },
    {
     "name": "stderr",
     "output_type": "stream",
     "text": [
      "2025-06-18 08:23:19 - INFO - \n",
      "=== Epoch 80 Summary ===\n",
      "2025-06-18 08:23:19 - INFO - Time: 192.67s\n",
      "2025-06-18 08:23:19 - INFO - Training   - accuracy: 0.9530 - auc: 0.9541 - f1_score: 0.6258 - loss: 0.0295 - precision: 0.7874 - recall: 0.5434 - learning_rate: 0.0000\n",
      "2025-06-18 08:23:19 - INFO - Validation - accuracy: 0.9328 - auc: 0.7517 - f1_score: 0.2395 - loss: 0.0722 - precision: 0.3239 - recall: 0.1961\n",
      "2025-06-18 08:23:19 - INFO - ==================================================\n",
      "\n"
     ]
    },
    {
     "name": "stdout",
     "output_type": "stream",
     "text": [
      "\u001b[1m813/813\u001b[0m \u001b[32m━━━━━━━━━━━━━━━━━━━━\u001b[0m\u001b[37m\u001b[0m \u001b[1m193s\u001b[0m 237ms/step - accuracy: 0.9526 - auc: 0.9532 - f1_score: 0.6230 - loss: 0.0297 - precision: 0.7850 - recall: 0.5411 - val_accuracy: 0.9328 - val_auc: 0.7517 - val_f1_score: 0.2395 - val_loss: 0.0722 - val_precision: 0.3239 - val_recall: 0.1961 - learning_rate: 1.0000e-06\n"
     ]
    },
    {
     "name": "stderr",
     "output_type": "stream",
     "text": [
      "2025-06-18 08:23:19 - INFO - \n",
      "=== Starting Epoch 81 ===\n",
      "\n"
     ]
    },
    {
     "name": "stdout",
     "output_type": "stream",
     "text": [
      "Epoch 81/100\n",
      "\u001b[1m813/813\u001b[0m \u001b[32m━━━━━━━━━━━━━━━━━━━━\u001b[0m\u001b[37m\u001b[0m \u001b[1m0s\u001b[0m 227ms/step - accuracy: 0.9526 - auc: 0.9531 - f1_score: 0.6236 - loss: 0.0297 - precision: 0.7857 - recall: 0.5410  "
     ]
    },
    {
     "name": "stderr",
     "output_type": "stream",
     "text": [
      "2025-06-18 08:26:32 - INFO - \n",
      "=== Epoch 81 Summary ===\n",
      "2025-06-18 08:26:32 - INFO - Time: 193.01s\n",
      "2025-06-18 08:26:32 - INFO - Training   - accuracy: 0.9532 - auc: 0.9539 - f1_score: 0.6277 - loss: 0.0295 - precision: 0.7875 - recall: 0.5454 - learning_rate: 0.0000\n",
      "2025-06-18 08:26:32 - INFO - Validation - accuracy: 0.9301 - auc: 0.7507 - f1_score: 0.2441 - loss: 0.0754 - precision: 0.3122 - recall: 0.2174\n",
      "2025-06-18 08:26:32 - INFO - ==================================================\n",
      "\n"
     ]
    },
    {
     "name": "stdout",
     "output_type": "stream",
     "text": [
      "\u001b[1m813/813\u001b[0m \u001b[32m━━━━━━━━━━━━━━━━━━━━\u001b[0m\u001b[37m\u001b[0m \u001b[1m193s\u001b[0m 237ms/step - accuracy: 0.9526 - auc: 0.9531 - f1_score: 0.6236 - loss: 0.0297 - precision: 0.7857 - recall: 0.5410 - val_accuracy: 0.9301 - val_auc: 0.7507 - val_f1_score: 0.2441 - val_loss: 0.0754 - val_precision: 0.3122 - val_recall: 0.2174 - learning_rate: 1.0000e-06\n"
     ]
    },
    {
     "name": "stderr",
     "output_type": "stream",
     "text": [
      "2025-06-18 08:26:32 - INFO - \n",
      "=== Starting Epoch 82 ===\n",
      "\n"
     ]
    },
    {
     "name": "stdout",
     "output_type": "stream",
     "text": [
      "Epoch 82/100\n",
      "\u001b[1m813/813\u001b[0m \u001b[32m━━━━━━━━━━━━━━━━━━━━\u001b[0m\u001b[37m\u001b[0m \u001b[1m0s\u001b[0m 228ms/step - accuracy: 0.9536 - auc: 0.9542 - f1_score: 0.6305 - loss: 0.0293 - precision: 0.7912 - recall: 0.5479  "
     ]
    },
    {
     "name": "stderr",
     "output_type": "stream",
     "text": [
      "2025-06-18 08:29:47 - INFO - \n",
      "=== Epoch 82 Summary ===\n",
      "2025-06-18 08:29:47 - INFO - Time: 194.37s\n",
      "2025-06-18 08:29:47 - INFO - Training   - accuracy: 0.9535 - auc: 0.9544 - f1_score: 0.6306 - loss: 0.0293 - precision: 0.7891 - recall: 0.5485 - learning_rate: 0.0000\n",
      "2025-06-18 08:29:47 - INFO - Validation - accuracy: 0.9325 - auc: 0.7541 - f1_score: 0.2320 - loss: 0.0739 - precision: 0.3198 - recall: 0.1948\n",
      "2025-06-18 08:29:47 - INFO - ==================================================\n",
      "\n"
     ]
    },
    {
     "name": "stdout",
     "output_type": "stream",
     "text": [
      "\u001b[1m813/813\u001b[0m \u001b[32m━━━━━━━━━━━━━━━━━━━━\u001b[0m\u001b[37m\u001b[0m \u001b[1m194s\u001b[0m 239ms/step - accuracy: 0.9536 - auc: 0.9542 - f1_score: 0.6305 - loss: 0.0293 - precision: 0.7912 - recall: 0.5479 - val_accuracy: 0.9325 - val_auc: 0.7541 - val_f1_score: 0.2320 - val_loss: 0.0739 - val_precision: 0.3198 - val_recall: 0.1948 - learning_rate: 1.0000e-06\n"
     ]
    },
    {
     "name": "stderr",
     "output_type": "stream",
     "text": [
      "2025-06-18 08:29:47 - INFO - \n",
      "=== Starting Epoch 83 ===\n",
      "\n"
     ]
    },
    {
     "name": "stdout",
     "output_type": "stream",
     "text": [
      "Epoch 83/100\n",
      "\u001b[1m813/813\u001b[0m \u001b[32m━━━━━━━━━━━━━━━━━━━━\u001b[0m\u001b[37m\u001b[0m \u001b[1m0s\u001b[0m 228ms/step - accuracy: 0.9530 - auc: 0.9539 - f1_score: 0.6282 - loss: 0.0295 - precision: 0.7864 - recall: 0.5465  "
     ]
    },
    {
     "name": "stderr",
     "output_type": "stream",
     "text": [
      "2025-06-18 08:33:00 - INFO - \n",
      "=== Epoch 83 Summary ===\n",
      "2025-06-18 08:33:00 - INFO - Time: 193.67s\n",
      "2025-06-18 08:33:00 - INFO - Training   - accuracy: 0.9534 - auc: 0.9550 - f1_score: 0.6309 - loss: 0.0292 - precision: 0.7886 - recall: 0.5492 - learning_rate: 0.0000\n",
      "2025-06-18 08:33:00 - INFO - Validation - accuracy: 0.9331 - auc: 0.7502 - f1_score: 0.2384 - loss: 0.0723 - precision: 0.3345 - recall: 0.2094\n",
      "2025-06-18 08:33:00 - INFO - ==================================================\n",
      "\n"
     ]
    },
    {
     "name": "stdout",
     "output_type": "stream",
     "text": [
      "\u001b[1m813/813\u001b[0m \u001b[32m━━━━━━━━━━━━━━━━━━━━\u001b[0m\u001b[37m\u001b[0m \u001b[1m194s\u001b[0m 238ms/step - accuracy: 0.9530 - auc: 0.9539 - f1_score: 0.6282 - loss: 0.0295 - precision: 0.7864 - recall: 0.5465 - val_accuracy: 0.9331 - val_auc: 0.7502 - val_f1_score: 0.2384 - val_loss: 0.0723 - val_precision: 0.3345 - val_recall: 0.2094 - learning_rate: 1.0000e-06\n"
     ]
    },
    {
     "name": "stderr",
     "output_type": "stream",
     "text": [
      "2025-06-18 08:33:00 - INFO - \n",
      "=== Starting Epoch 84 ===\n",
      "\n"
     ]
    },
    {
     "name": "stdout",
     "output_type": "stream",
     "text": [
      "Epoch 84/100\n",
      "\u001b[1m813/813\u001b[0m \u001b[32m━━━━━━━━━━━━━━━━━━━━\u001b[0m\u001b[37m\u001b[0m \u001b[1m0s\u001b[0m 227ms/step - accuracy: 0.9534 - auc: 0.9547 - f1_score: 0.6305 - loss: 0.0293 - precision: 0.7903 - recall: 0.5476  "
     ]
    },
    {
     "name": "stderr",
     "output_type": "stream",
     "text": [
      "2025-06-18 08:36:14 - INFO - \n",
      "=== Epoch 84 Summary ===\n",
      "2025-06-18 08:36:14 - INFO - Time: 193.35s\n",
      "2025-06-18 08:36:14 - INFO - Training   - accuracy: 0.9537 - auc: 0.9552 - f1_score: 0.6332 - loss: 0.0292 - precision: 0.7907 - recall: 0.5513 - learning_rate: 0.0000\n",
      "2025-06-18 08:36:14 - INFO - Validation - accuracy: 0.9325 - auc: 0.7533 - f1_score: 0.2382 - loss: 0.0734 - precision: 0.3233 - recall: 0.2006\n",
      "2025-06-18 08:36:14 - INFO - ==================================================\n",
      "\n"
     ]
    },
    {
     "name": "stdout",
     "output_type": "stream",
     "text": [
      "\u001b[1m813/813\u001b[0m \u001b[32m━━━━━━━━━━━━━━━━━━━━\u001b[0m\u001b[37m\u001b[0m \u001b[1m193s\u001b[0m 238ms/step - accuracy: 0.9534 - auc: 0.9547 - f1_score: 0.6305 - loss: 0.0293 - precision: 0.7903 - recall: 0.5476 - val_accuracy: 0.9325 - val_auc: 0.7533 - val_f1_score: 0.2382 - val_loss: 0.0734 - val_precision: 0.3233 - val_recall: 0.2006 - learning_rate: 1.0000e-06\n"
     ]
    },
    {
     "name": "stderr",
     "output_type": "stream",
     "text": [
      "2025-06-18 08:36:14 - INFO - \n",
      "=== Starting Epoch 85 ===\n",
      "\n"
     ]
    },
    {
     "name": "stdout",
     "output_type": "stream",
     "text": [
      "Epoch 85/100\n",
      "\u001b[1m813/813\u001b[0m \u001b[32m━━━━━━━━━━━━━━━━━━━━\u001b[0m\u001b[37m\u001b[0m \u001b[1m0s\u001b[0m 228ms/step - accuracy: 0.9534 - auc: 0.9550 - f1_score: 0.6323 - loss: 0.0293 - precision: 0.7889 - recall: 0.5507  "
     ]
    },
    {
     "name": "stderr",
     "output_type": "stream",
     "text": [
      "2025-06-18 08:39:27 - INFO - \n",
      "=== Epoch 85 Summary ===\n",
      "2025-06-18 08:39:27 - INFO - Time: 193.64s\n",
      "2025-06-18 08:39:27 - INFO - Training   - accuracy: 0.9538 - auc: 0.9553 - f1_score: 0.6346 - loss: 0.0292 - precision: 0.7903 - recall: 0.5532 - learning_rate: 0.0000\n",
      "2025-06-18 08:39:27 - INFO - Validation - accuracy: 0.9325 - auc: 0.7539 - f1_score: 0.2312 - loss: 0.0741 - precision: 0.3143 - recall: 0.1856\n",
      "2025-06-18 08:39:27 - INFO - ==================================================\n",
      "\n"
     ]
    },
    {
     "name": "stdout",
     "output_type": "stream",
     "text": [
      "\u001b[1m813/813\u001b[0m \u001b[32m━━━━━━━━━━━━━━━━━━━━\u001b[0m\u001b[37m\u001b[0m \u001b[1m194s\u001b[0m 238ms/step - accuracy: 0.9534 - auc: 0.9550 - f1_score: 0.6323 - loss: 0.0293 - precision: 0.7889 - recall: 0.5507 - val_accuracy: 0.9325 - val_auc: 0.7539 - val_f1_score: 0.2312 - val_loss: 0.0741 - val_precision: 0.3143 - val_recall: 0.1856 - learning_rate: 1.0000e-06\n"
     ]
    },
    {
     "name": "stderr",
     "output_type": "stream",
     "text": [
      "2025-06-18 08:39:27 - INFO - \n",
      "=== Starting Epoch 86 ===\n",
      "\n"
     ]
    },
    {
     "name": "stdout",
     "output_type": "stream",
     "text": [
      "Epoch 86/100\n",
      "\u001b[1m813/813\u001b[0m \u001b[32m━━━━━━━━━━━━━━━━━━━━\u001b[0m\u001b[37m\u001b[0m \u001b[1m0s\u001b[0m 228ms/step - accuracy: 0.9541 - auc: 0.9564 - f1_score: 0.6387 - loss: 0.0290 - precision: 0.7967 - recall: 0.5562  "
     ]
    },
    {
     "name": "stderr",
     "output_type": "stream",
     "text": [
      "2025-06-18 08:42:41 - INFO - \n",
      "=== Epoch 86 Summary ===\n",
      "2025-06-18 08:42:41 - INFO - Time: 194.01s\n",
      "2025-06-18 08:42:41 - INFO - Training   - accuracy: 0.9544 - auc: 0.9568 - f1_score: 0.6400 - loss: 0.0289 - precision: 0.7940 - recall: 0.5587 - learning_rate: 0.0000\n",
      "2025-06-18 08:42:41 - INFO - Validation - accuracy: 0.9342 - auc: 0.7515 - f1_score: 0.2411 - loss: 0.0730 - precision: 0.3395 - recall: 0.1986\n",
      "2025-06-18 08:42:41 - INFO - ==================================================\n",
      "\n"
     ]
    },
    {
     "name": "stdout",
     "output_type": "stream",
     "text": [
      "\u001b[1m813/813\u001b[0m \u001b[32m━━━━━━━━━━━━━━━━━━━━\u001b[0m\u001b[37m\u001b[0m \u001b[1m194s\u001b[0m 239ms/step - accuracy: 0.9541 - auc: 0.9564 - f1_score: 0.6387 - loss: 0.0290 - precision: 0.7967 - recall: 0.5562 - val_accuracy: 0.9342 - val_auc: 0.7515 - val_f1_score: 0.2411 - val_loss: 0.0730 - val_precision: 0.3395 - val_recall: 0.1986 - learning_rate: 1.0000e-06\n"
     ]
    },
    {
     "name": "stderr",
     "output_type": "stream",
     "text": [
      "2025-06-18 08:42:41 - INFO - \n",
      "=== Starting Epoch 87 ===\n",
      "\n"
     ]
    },
    {
     "name": "stdout",
     "output_type": "stream",
     "text": [
      "Epoch 87/100\n",
      "\u001b[1m813/813\u001b[0m \u001b[32m━━━━━━━━━━━━━━━━━━━━\u001b[0m\u001b[37m\u001b[0m \u001b[1m0s\u001b[0m 591ms/step - accuracy: 0.9541 - auc: 0.9566 - f1_score: 0.6409 - loss: 0.0290 - precision: 0.7942 - recall: 0.5595  "
     ]
    },
    {
     "name": "stderr",
     "output_type": "stream",
     "text": [
      "2025-06-18 08:50:50 - INFO - \n",
      "=== Epoch 87 Summary ===\n",
      "2025-06-18 08:50:50 - INFO - Time: 489.25s\n",
      "2025-06-18 08:50:50 - INFO - Training   - accuracy: 0.9544 - auc: 0.9569 - f1_score: 0.6410 - loss: 0.0288 - precision: 0.7936 - recall: 0.5604 - learning_rate: 0.0000\n",
      "2025-06-18 08:50:50 - INFO - Validation - accuracy: 0.9296 - auc: 0.7433 - f1_score: 0.2467 - loss: 0.0764 - precision: 0.3125 - recall: 0.2263\n",
      "2025-06-18 08:50:50 - INFO - ==================================================\n",
      "\n"
     ]
    },
    {
     "name": "stdout",
     "output_type": "stream",
     "text": [
      "\u001b[1m813/813\u001b[0m \u001b[32m━━━━━━━━━━━━━━━━━━━━\u001b[0m\u001b[37m\u001b[0m \u001b[1m489s\u001b[0m 602ms/step - accuracy: 0.9541 - auc: 0.9566 - f1_score: 0.6409 - loss: 0.0290 - precision: 0.7942 - recall: 0.5595 - val_accuracy: 0.9296 - val_auc: 0.7433 - val_f1_score: 0.2467 - val_loss: 0.0764 - val_precision: 0.3125 - val_recall: 0.2263 - learning_rate: 1.0000e-06\n"
     ]
    },
    {
     "name": "stderr",
     "output_type": "stream",
     "text": [
      "2025-06-18 08:50:51 - INFO - \n",
      "=== Starting Epoch 88 ===\n",
      "\n"
     ]
    },
    {
     "name": "stdout",
     "output_type": "stream",
     "text": [
      "Epoch 88/100\n",
      "\u001b[1m813/813\u001b[0m \u001b[32m━━━━━━━━━━━━━━━━━━━━\u001b[0m\u001b[37m\u001b[0m \u001b[1m0s\u001b[0m 234ms/step - accuracy: 0.9545 - auc: 0.9557 - f1_score: 0.6396 - loss: 0.0291 - precision: 0.7948 - recall: 0.5576  "
     ]
    },
    {
     "name": "stderr",
     "output_type": "stream",
     "text": [
      "2025-06-18 08:54:09 - INFO - \n",
      "=== Epoch 88 Summary ===\n",
      "2025-06-18 08:54:09 - INFO - Time: 198.50s\n",
      "2025-06-18 08:54:09 - INFO - Training   - accuracy: 0.9546 - auc: 0.9566 - f1_score: 0.6411 - loss: 0.0288 - precision: 0.7953 - recall: 0.5595 - learning_rate: 0.0000\n",
      "2025-06-18 08:54:09 - INFO - Validation - accuracy: 0.9319 - auc: 0.7490 - f1_score: 0.2391 - loss: 0.0746 - precision: 0.3247 - recall: 0.2132\n",
      "2025-06-18 08:54:09 - INFO - ==================================================\n",
      "\n"
     ]
    },
    {
     "name": "stdout",
     "output_type": "stream",
     "text": [
      "\u001b[1m813/813\u001b[0m \u001b[32m━━━━━━━━━━━━━━━━━━━━\u001b[0m\u001b[37m\u001b[0m \u001b[1m199s\u001b[0m 244ms/step - accuracy: 0.9545 - auc: 0.9557 - f1_score: 0.6396 - loss: 0.0291 - precision: 0.7948 - recall: 0.5576 - val_accuracy: 0.9319 - val_auc: 0.7490 - val_f1_score: 0.2391 - val_loss: 0.0746 - val_precision: 0.3247 - val_recall: 0.2132 - learning_rate: 1.0000e-06\n"
     ]
    },
    {
     "name": "stderr",
     "output_type": "stream",
     "text": [
      "2025-06-18 08:54:09 - INFO - \n",
      "=== Starting Epoch 89 ===\n",
      "\n"
     ]
    },
    {
     "name": "stdout",
     "output_type": "stream",
     "text": [
      "Epoch 89/100\n",
      "\u001b[1m813/813\u001b[0m \u001b[32m━━━━━━━━━━━━━━━━━━━━\u001b[0m\u001b[37m\u001b[0m \u001b[1m0s\u001b[0m 228ms/step - accuracy: 0.9547 - auc: 0.9579 - f1_score: 0.6459 - loss: 0.0287 - precision: 0.7961 - recall: 0.5655  "
     ]
    },
    {
     "name": "stderr",
     "output_type": "stream",
     "text": [
      "2025-06-18 08:57:23 - INFO - \n",
      "=== Epoch 89 Summary ===\n",
      "2025-06-18 08:57:23 - INFO - Time: 193.61s\n",
      "2025-06-18 08:57:23 - INFO - Training   - accuracy: 0.9549 - auc: 0.9581 - f1_score: 0.6460 - loss: 0.0285 - precision: 0.7954 - recall: 0.5660 - learning_rate: 0.0000\n",
      "2025-06-18 08:57:23 - INFO - Validation - accuracy: 0.9348 - auc: 0.7514 - f1_score: 0.2333 - loss: 0.0730 - precision: 0.3485 - recall: 0.2039\n",
      "2025-06-18 08:57:23 - INFO - ==================================================\n",
      "\n"
     ]
    },
    {
     "name": "stdout",
     "output_type": "stream",
     "text": [
      "\u001b[1m813/813\u001b[0m \u001b[32m━━━━━━━━━━━━━━━━━━━━\u001b[0m\u001b[37m\u001b[0m \u001b[1m194s\u001b[0m 238ms/step - accuracy: 0.9547 - auc: 0.9579 - f1_score: 0.6459 - loss: 0.0287 - precision: 0.7961 - recall: 0.5655 - val_accuracy: 0.9348 - val_auc: 0.7514 - val_f1_score: 0.2333 - val_loss: 0.0730 - val_precision: 0.3485 - val_recall: 0.2039 - learning_rate: 1.0000e-06\n"
     ]
    },
    {
     "name": "stderr",
     "output_type": "stream",
     "text": [
      "2025-06-18 08:57:23 - INFO - \n",
      "=== Starting Epoch 90 ===\n",
      "\n"
     ]
    },
    {
     "name": "stdout",
     "output_type": "stream",
     "text": [
      "Epoch 90/100\n",
      "\u001b[1m813/813\u001b[0m \u001b[32m━━━━━━━━━━━━━━━━━━━━\u001b[0m\u001b[37m\u001b[0m \u001b[1m0s\u001b[0m 227ms/step - accuracy: 0.9549 - auc: 0.9575 - f1_score: 0.6471 - loss: 0.0286 - precision: 0.7979 - recall: 0.5657  "
     ]
    },
    {
     "name": "stderr",
     "output_type": "stream",
     "text": [
      "2025-06-18 09:00:37 - INFO - \n",
      "=== Epoch 90 Summary ===\n",
      "2025-06-18 09:00:37 - INFO - Time: 194.53s\n",
      "2025-06-18 09:00:37 - INFO - Training   - accuracy: 0.9551 - auc: 0.9581 - f1_score: 0.6476 - loss: 0.0285 - precision: 0.7970 - recall: 0.5672 - learning_rate: 0.0000\n",
      "2025-06-18 09:00:37 - INFO - Validation - accuracy: 0.9322 - auc: 0.7530 - f1_score: 0.2556 - loss: 0.0745 - precision: 0.3302 - recall: 0.2172\n",
      "2025-06-18 09:00:37 - INFO - ==================================================\n",
      "\n"
     ]
    },
    {
     "name": "stdout",
     "output_type": "stream",
     "text": [
      "\u001b[1m813/813\u001b[0m \u001b[32m━━━━━━━━━━━━━━━━━━━━\u001b[0m\u001b[37m\u001b[0m \u001b[1m195s\u001b[0m 239ms/step - accuracy: 0.9549 - auc: 0.9575 - f1_score: 0.6471 - loss: 0.0286 - precision: 0.7979 - recall: 0.5657 - val_accuracy: 0.9322 - val_auc: 0.7530 - val_f1_score: 0.2556 - val_loss: 0.0745 - val_precision: 0.3302 - val_recall: 0.2172 - learning_rate: 1.0000e-06\n"
     ]
    },
    {
     "name": "stderr",
     "output_type": "stream",
     "text": [
      "2025-06-18 09:00:37 - INFO - \n",
      "=== Starting Epoch 91 ===\n",
      "\n"
     ]
    },
    {
     "name": "stdout",
     "output_type": "stream",
     "text": [
      "Epoch 91/100\n",
      "\u001b[1m813/813\u001b[0m \u001b[32m━━━━━━━━━━━━━━━━━━━━\u001b[0m\u001b[37m\u001b[0m \u001b[1m0s\u001b[0m 228ms/step - accuracy: 0.9554 - auc: 0.9585 - f1_score: 0.6500 - loss: 0.0283 - precision: 0.8006 - recall: 0.5691  "
     ]
    },
    {
     "name": "stderr",
     "output_type": "stream",
     "text": [
      "2025-06-18 09:03:51 - INFO - \n",
      "=== Epoch 91 Summary ===\n",
      "2025-06-18 09:03:51 - INFO - Time: 193.66s\n",
      "2025-06-18 09:03:51 - INFO - Training   - accuracy: 0.9553 - auc: 0.9586 - f1_score: 0.6501 - loss: 0.0284 - precision: 0.7980 - recall: 0.5702 - learning_rate: 0.0000\n",
      "2025-06-18 09:03:51 - INFO - Validation - accuracy: 0.9317 - auc: 0.7513 - f1_score: 0.2507 - loss: 0.0757 - precision: 0.3260 - recall: 0.2177\n",
      "2025-06-18 09:03:51 - INFO - ==================================================\n",
      "\n"
     ]
    },
    {
     "name": "stdout",
     "output_type": "stream",
     "text": [
      "\u001b[1m813/813\u001b[0m \u001b[32m━━━━━━━━━━━━━━━━━━━━\u001b[0m\u001b[37m\u001b[0m \u001b[1m194s\u001b[0m 238ms/step - accuracy: 0.9554 - auc: 0.9585 - f1_score: 0.6500 - loss: 0.0283 - precision: 0.8006 - recall: 0.5691 - val_accuracy: 0.9317 - val_auc: 0.7513 - val_f1_score: 0.2507 - val_loss: 0.0757 - val_precision: 0.3260 - val_recall: 0.2177 - learning_rate: 1.0000e-06\n"
     ]
    },
    {
     "name": "stderr",
     "output_type": "stream",
     "text": [
      "2025-06-18 09:03:51 - INFO - \n",
      "=== Starting Epoch 92 ===\n",
      "\n"
     ]
    },
    {
     "name": "stdout",
     "output_type": "stream",
     "text": [
      "Epoch 92/100\n",
      "\u001b[1m813/813\u001b[0m \u001b[32m━━━━━━━━━━━━━━━━━━━━\u001b[0m\u001b[37m\u001b[0m \u001b[1m0s\u001b[0m 237ms/step - accuracy: 0.9548 - auc: 0.9579 - f1_score: 0.6451 - loss: 0.0286 - precision: 0.7956 - recall: 0.5642  "
     ]
    },
    {
     "name": "stderr",
     "output_type": "stream",
     "text": [
      "2025-06-18 09:07:12 - INFO - \n",
      "=== Epoch 92 Summary ===\n",
      "2025-06-18 09:07:12 - INFO - Time: 201.56s\n",
      "2025-06-18 09:07:12 - INFO - Training   - accuracy: 0.9551 - auc: 0.9585 - f1_score: 0.6478 - loss: 0.0285 - precision: 0.7963 - recall: 0.5675 - learning_rate: 0.0000\n",
      "2025-06-18 09:07:12 - INFO - Validation - accuracy: 0.9314 - auc: 0.7524 - f1_score: 0.2509 - loss: 0.0737 - precision: 0.3258 - recall: 0.2227\n",
      "2025-06-18 09:07:12 - INFO - ==================================================\n",
      "\n"
     ]
    },
    {
     "name": "stdout",
     "output_type": "stream",
     "text": [
      "\u001b[1m813/813\u001b[0m \u001b[32m━━━━━━━━━━━━━━━━━━━━\u001b[0m\u001b[37m\u001b[0m \u001b[1m202s\u001b[0m 248ms/step - accuracy: 0.9548 - auc: 0.9579 - f1_score: 0.6451 - loss: 0.0286 - precision: 0.7956 - recall: 0.5642 - val_accuracy: 0.9314 - val_auc: 0.7524 - val_f1_score: 0.2509 - val_loss: 0.0737 - val_precision: 0.3258 - val_recall: 0.2227 - learning_rate: 1.0000e-06\n"
     ]
    },
    {
     "name": "stderr",
     "output_type": "stream",
     "text": [
      "2025-06-18 09:07:12 - INFO - \n",
      "=== Starting Epoch 93 ===\n",
      "\n"
     ]
    },
    {
     "name": "stdout",
     "output_type": "stream",
     "text": [
      "Epoch 93/100\n",
      "\u001b[1m813/813\u001b[0m \u001b[32m━━━━━━━━━━━━━━━━━━━━\u001b[0m\u001b[37m\u001b[0m \u001b[1m0s\u001b[0m 228ms/step - accuracy: 0.9556 - auc: 0.9587 - f1_score: 0.6526 - loss: 0.0284 - precision: 0.8036 - recall: 0.5717  "
     ]
    },
    {
     "name": "stderr",
     "output_type": "stream",
     "text": [
      "2025-06-18 09:10:26 - INFO - \n",
      "=== Epoch 93 Summary ===\n",
      "2025-06-18 09:10:26 - INFO - Time: 193.62s\n",
      "2025-06-18 09:10:26 - INFO - Training   - accuracy: 0.9558 - auc: 0.9594 - f1_score: 0.6533 - loss: 0.0283 - precision: 0.8021 - recall: 0.5734 - learning_rate: 0.0000\n",
      "2025-06-18 09:10:26 - INFO - Validation - accuracy: 0.9333 - auc: 0.7527 - f1_score: 0.2381 - loss: 0.0742 - precision: 0.3295 - recall: 0.1972\n",
      "2025-06-18 09:10:26 - INFO - ==================================================\n",
      "\n"
     ]
    },
    {
     "name": "stdout",
     "output_type": "stream",
     "text": [
      "\u001b[1m813/813\u001b[0m \u001b[32m━━━━━━━━━━━━━━━━━━━━\u001b[0m\u001b[37m\u001b[0m \u001b[1m194s\u001b[0m 238ms/step - accuracy: 0.9556 - auc: 0.9587 - f1_score: 0.6526 - loss: 0.0284 - precision: 0.8036 - recall: 0.5717 - val_accuracy: 0.9333 - val_auc: 0.7527 - val_f1_score: 0.2381 - val_loss: 0.0742 - val_precision: 0.3295 - val_recall: 0.1972 - learning_rate: 1.0000e-06\n"
     ]
    },
    {
     "name": "stderr",
     "output_type": "stream",
     "text": [
      "2025-06-18 09:10:26 - INFO - \n",
      "=== Starting Epoch 94 ===\n",
      "\n"
     ]
    },
    {
     "name": "stdout",
     "output_type": "stream",
     "text": [
      "Epoch 94/100\n",
      "\u001b[1m813/813\u001b[0m \u001b[32m━━━━━━━━━━━━━━━━━━━━\u001b[0m\u001b[37m\u001b[0m \u001b[1m0s\u001b[0m 228ms/step - accuracy: 0.9553 - auc: 0.9586 - f1_score: 0.6503 - loss: 0.0283 - precision: 0.8000 - recall: 0.5696  "
     ]
    },
    {
     "name": "stderr",
     "output_type": "stream",
     "text": [
      "2025-06-18 09:13:40 - INFO - \n",
      "=== Epoch 94 Summary ===\n",
      "2025-06-18 09:13:40 - INFO - Time: 193.73s\n",
      "2025-06-18 09:13:40 - INFO - Training   - accuracy: 0.9556 - auc: 0.9591 - f1_score: 0.6529 - loss: 0.0282 - precision: 0.7997 - recall: 0.5732 - learning_rate: 0.0000\n",
      "2025-06-18 09:13:40 - INFO - Validation - accuracy: 0.9275 - auc: 0.7510 - f1_score: 0.2268 - loss: 0.0798 - precision: 0.2800 - recall: 0.1966\n",
      "2025-06-18 09:13:40 - INFO - ==================================================\n",
      "\n"
     ]
    },
    {
     "name": "stdout",
     "output_type": "stream",
     "text": [
      "\u001b[1m813/813\u001b[0m \u001b[32m━━━━━━━━━━━━━━━━━━━━\u001b[0m\u001b[37m\u001b[0m \u001b[1m194s\u001b[0m 238ms/step - accuracy: 0.9553 - auc: 0.9586 - f1_score: 0.6503 - loss: 0.0283 - precision: 0.8000 - recall: 0.5696 - val_accuracy: 0.9275 - val_auc: 0.7510 - val_f1_score: 0.2268 - val_loss: 0.0798 - val_precision: 0.2800 - val_recall: 0.1966 - learning_rate: 1.0000e-06\n"
     ]
    },
    {
     "name": "stderr",
     "output_type": "stream",
     "text": [
      "2025-06-18 09:13:40 - INFO - \n",
      "=== Starting Epoch 95 ===\n",
      "\n"
     ]
    },
    {
     "name": "stdout",
     "output_type": "stream",
     "text": [
      "Epoch 95/100\n",
      "\u001b[1m813/813\u001b[0m \u001b[32m━━━━━━━━━━━━━━━━━━━━\u001b[0m\u001b[37m\u001b[0m \u001b[1m0s\u001b[0m 592ms/step - accuracy: 0.9556 - auc: 0.9593 - f1_score: 0.6543 - loss: 0.0282 - precision: 0.8019 - recall: 0.5740  "
     ]
    },
    {
     "name": "stderr",
     "output_type": "stream",
     "text": [
      "2025-06-18 09:21:49 - INFO - \n",
      "=== Epoch 95 Summary ===\n",
      "2025-06-18 09:21:49 - INFO - Time: 489.33s\n",
      "2025-06-18 09:21:49 - INFO - Training   - accuracy: 0.9561 - auc: 0.9600 - f1_score: 0.6575 - loss: 0.0280 - precision: 0.8039 - recall: 0.5778 - learning_rate: 0.0000\n",
      "2025-06-18 09:21:49 - INFO - Validation - accuracy: 0.9315 - auc: 0.7479 - f1_score: 0.2308 - loss: 0.0784 - precision: 0.3089 - recall: 0.1919\n",
      "2025-06-18 09:21:49 - INFO - ==================================================\n",
      "\n"
     ]
    },
    {
     "name": "stdout",
     "output_type": "stream",
     "text": [
      "\u001b[1m813/813\u001b[0m \u001b[32m━━━━━━━━━━━━━━━━━━━━\u001b[0m\u001b[37m\u001b[0m \u001b[1m489s\u001b[0m 602ms/step - accuracy: 0.9556 - auc: 0.9593 - f1_score: 0.6543 - loss: 0.0282 - precision: 0.8019 - recall: 0.5740 - val_accuracy: 0.9315 - val_auc: 0.7479 - val_f1_score: 0.2308 - val_loss: 0.0784 - val_precision: 0.3089 - val_recall: 0.1919 - learning_rate: 1.0000e-06\n"
     ]
    },
    {
     "name": "stderr",
     "output_type": "stream",
     "text": [
      "2025-06-18 09:21:49 - INFO - \n",
      "=== Starting Epoch 96 ===\n",
      "\n"
     ]
    },
    {
     "name": "stdout",
     "output_type": "stream",
     "text": [
      "Epoch 96/100\n",
      "\u001b[1m813/813\u001b[0m \u001b[32m━━━━━━━━━━━━━━━━━━━━\u001b[0m\u001b[37m\u001b[0m \u001b[1m0s\u001b[0m 240ms/step - accuracy: 0.9557 - auc: 0.9597 - f1_score: 0.6566 - loss: 0.0283 - precision: 0.7998 - recall: 0.5770  "
     ]
    },
    {
     "name": "stderr",
     "output_type": "stream",
     "text": [
      "2025-06-18 09:25:13 - INFO - \n",
      "=== Epoch 96 Summary ===\n",
      "2025-06-18 09:25:13 - INFO - Time: 203.57s\n",
      "2025-06-18 09:25:13 - INFO - Training   - accuracy: 0.9562 - auc: 0.9606 - f1_score: 0.6592 - loss: 0.0280 - precision: 0.8029 - recall: 0.5800 - learning_rate: 0.0000\n",
      "2025-06-18 09:25:13 - INFO - Validation - accuracy: 0.9321 - auc: 0.7515 - f1_score: 0.2178 - loss: 0.0779 - precision: 0.3064 - recall: 0.1790\n",
      "2025-06-18 09:25:13 - INFO - ==================================================\n",
      "\n"
     ]
    },
    {
     "name": "stdout",
     "output_type": "stream",
     "text": [
      "\u001b[1m813/813\u001b[0m \u001b[32m━━━━━━━━━━━━━━━━━━━━\u001b[0m\u001b[37m\u001b[0m \u001b[1m204s\u001b[0m 250ms/step - accuracy: 0.9557 - auc: 0.9597 - f1_score: 0.6566 - loss: 0.0283 - precision: 0.7998 - recall: 0.5770 - val_accuracy: 0.9321 - val_auc: 0.7515 - val_f1_score: 0.2178 - val_loss: 0.0779 - val_precision: 0.3064 - val_recall: 0.1790 - learning_rate: 1.0000e-06\n"
     ]
    },
    {
     "name": "stderr",
     "output_type": "stream",
     "text": [
      "2025-06-18 09:25:13 - INFO - \n",
      "=== Starting Epoch 97 ===\n",
      "\n"
     ]
    },
    {
     "name": "stdout",
     "output_type": "stream",
     "text": [
      "Epoch 97/100\n",
      "\u001b[1m813/813\u001b[0m \u001b[32m━━━━━━━━━━━━━━━━━━━━\u001b[0m\u001b[37m\u001b[0m \u001b[1m0s\u001b[0m 228ms/step - accuracy: 0.9559 - auc: 0.9597 - f1_score: 0.6557 - loss: 0.0281 - precision: 0.8024 - recall: 0.5761  "
     ]
    },
    {
     "name": "stderr",
     "output_type": "stream",
     "text": [
      "2025-06-18 09:28:28 - INFO - \n",
      "=== Epoch 97 Summary ===\n",
      "2025-06-18 09:28:28 - INFO - Time: 194.99s\n",
      "2025-06-18 09:28:28 - INFO - Training   - accuracy: 0.9561 - auc: 0.9604 - f1_score: 0.6579 - loss: 0.0280 - precision: 0.8031 - recall: 0.5785 - learning_rate: 0.0000\n",
      "2025-06-18 09:28:28 - INFO - Validation - accuracy: 0.9320 - auc: 0.7513 - f1_score: 0.2587 - loss: 0.0748 - precision: 0.3364 - recall: 0.2347\n",
      "2025-06-18 09:28:28 - INFO - ==================================================\n",
      "\n"
     ]
    },
    {
     "name": "stdout",
     "output_type": "stream",
     "text": [
      "\u001b[1m813/813\u001b[0m \u001b[32m━━━━━━━━━━━━━━━━━━━━\u001b[0m\u001b[37m\u001b[0m \u001b[1m195s\u001b[0m 240ms/step - accuracy: 0.9559 - auc: 0.9597 - f1_score: 0.6557 - loss: 0.0281 - precision: 0.8024 - recall: 0.5761 - val_accuracy: 0.9320 - val_auc: 0.7513 - val_f1_score: 0.2587 - val_loss: 0.0748 - val_precision: 0.3364 - val_recall: 0.2347 - learning_rate: 1.0000e-06\n"
     ]
    },
    {
     "name": "stderr",
     "output_type": "stream",
     "text": [
      "2025-06-18 09:28:28 - INFO - \n",
      "=== Starting Epoch 98 ===\n",
      "\n"
     ]
    },
    {
     "name": "stdout",
     "output_type": "stream",
     "text": [
      "Epoch 98/100\n",
      "\u001b[1m813/813\u001b[0m \u001b[32m━━━━━━━━━━━━━━━━━━━━\u001b[0m\u001b[37m\u001b[0m \u001b[1m0s\u001b[0m 229ms/step - accuracy: 0.9565 - auc: 0.9607 - f1_score: 0.6601 - loss: 0.0279 - precision: 0.8058 - recall: 0.5806  "
     ]
    },
    {
     "name": "stderr",
     "output_type": "stream",
     "text": [
      "2025-06-18 09:31:43 - INFO - \n",
      "=== Epoch 98 Summary ===\n",
      "2025-06-18 09:31:43 - INFO - Time: 194.92s\n",
      "2025-06-18 09:31:43 - INFO - Training   - accuracy: 0.9566 - auc: 0.9609 - f1_score: 0.6617 - loss: 0.0278 - precision: 0.8063 - recall: 0.5824 - learning_rate: 0.0000\n",
      "2025-06-18 09:31:43 - INFO - Validation - accuracy: 0.9325 - auc: 0.7519 - f1_score: 0.2522 - loss: 0.0748 - precision: 0.3380 - recall: 0.2285\n",
      "2025-06-18 09:31:43 - INFO - ==================================================\n",
      "\n"
     ]
    },
    {
     "name": "stdout",
     "output_type": "stream",
     "text": [
      "\u001b[1m813/813\u001b[0m \u001b[32m━━━━━━━━━━━━━━━━━━━━\u001b[0m\u001b[37m\u001b[0m \u001b[1m195s\u001b[0m 240ms/step - accuracy: 0.9565 - auc: 0.9607 - f1_score: 0.6601 - loss: 0.0279 - precision: 0.8058 - recall: 0.5806 - val_accuracy: 0.9325 - val_auc: 0.7519 - val_f1_score: 0.2522 - val_loss: 0.0748 - val_precision: 0.3380 - val_recall: 0.2285 - learning_rate: 1.0000e-06\n"
     ]
    },
    {
     "name": "stderr",
     "output_type": "stream",
     "text": [
      "2025-06-18 09:31:43 - INFO - \n",
      "=== Starting Epoch 99 ===\n",
      "\n"
     ]
    },
    {
     "name": "stdout",
     "output_type": "stream",
     "text": [
      "Epoch 99/100\n",
      "\u001b[1m813/813\u001b[0m \u001b[32m━━━━━━━━━━━━━━━━━━━━\u001b[0m\u001b[37m\u001b[0m \u001b[1m0s\u001b[0m 229ms/step - accuracy: 0.9565 - auc: 0.9608 - f1_score: 0.6638 - loss: 0.0279 - precision: 0.8051 - recall: 0.5848  "
     ]
    },
    {
     "name": "stderr",
     "output_type": "stream",
     "text": [
      "2025-06-18 09:34:58 - INFO - \n",
      "=== Epoch 99 Summary ===\n",
      "2025-06-18 09:34:58 - INFO - Time: 195.47s\n",
      "2025-06-18 09:34:58 - INFO - Training   - accuracy: 0.9567 - auc: 0.9612 - f1_score: 0.6640 - loss: 0.0278 - precision: 0.8034 - recall: 0.5861 - learning_rate: 0.0000\n",
      "2025-06-18 09:34:58 - INFO - Validation - accuracy: 0.9266 - auc: 0.7464 - f1_score: 0.2590 - loss: 0.0792 - precision: 0.3051 - recall: 0.2542\n",
      "2025-06-18 09:34:58 - INFO - ==================================================\n",
      "\n"
     ]
    },
    {
     "name": "stdout",
     "output_type": "stream",
     "text": [
      "\u001b[1m813/813\u001b[0m \u001b[32m━━━━━━━━━━━━━━━━━━━━\u001b[0m\u001b[37m\u001b[0m \u001b[1m195s\u001b[0m 240ms/step - accuracy: 0.9565 - auc: 0.9608 - f1_score: 0.6638 - loss: 0.0279 - precision: 0.8051 - recall: 0.5848 - val_accuracy: 0.9266 - val_auc: 0.7464 - val_f1_score: 0.2590 - val_loss: 0.0792 - val_precision: 0.3051 - val_recall: 0.2542 - learning_rate: 1.0000e-06\n"
     ]
    },
    {
     "name": "stderr",
     "output_type": "stream",
     "text": [
      "2025-06-18 09:34:58 - INFO - \n",
      "=== Starting Epoch 100 ===\n",
      "\n"
     ]
    },
    {
     "name": "stdout",
     "output_type": "stream",
     "text": [
      "Epoch 100/100\n",
      "\u001b[1m813/813\u001b[0m \u001b[32m━━━━━━━━━━━━━━━━━━━━\u001b[0m\u001b[37m\u001b[0m \u001b[1m0s\u001b[0m 228ms/step - accuracy: 0.9566 - auc: 0.9610 - f1_score: 0.6648 - loss: 0.0280 - precision: 0.8065 - recall: 0.5854  "
     ]
    },
    {
     "name": "stderr",
     "output_type": "stream",
     "text": [
      "2025-06-18 09:38:12 - INFO - \n",
      "=== Epoch 100 Summary ===\n",
      "2025-06-18 09:38:12 - INFO - Time: 193.76s\n",
      "2025-06-18 09:38:12 - INFO - Training   - accuracy: 0.9569 - auc: 0.9614 - f1_score: 0.6661 - loss: 0.0278 - precision: 0.8060 - recall: 0.5874 - learning_rate: 0.0000\n",
      "2025-06-18 09:38:12 - INFO - Validation - accuracy: 0.9267 - auc: 0.7499 - f1_score: 0.2168 - loss: 0.0834 - precision: 0.2690 - recall: 0.1883\n",
      "2025-06-18 09:38:12 - INFO - ==================================================\n",
      "\n"
     ]
    },
    {
     "name": "stdout",
     "output_type": "stream",
     "text": [
      "\u001b[1m813/813\u001b[0m \u001b[32m━━━━━━━━━━━━━━━━━━━━\u001b[0m\u001b[37m\u001b[0m \u001b[1m194s\u001b[0m 238ms/step - accuracy: 0.9566 - auc: 0.9610 - f1_score: 0.6648 - loss: 0.0280 - precision: 0.8065 - recall: 0.5854 - val_accuracy: 0.9267 - val_auc: 0.7499 - val_f1_score: 0.2168 - val_loss: 0.0834 - val_precision: 0.2690 - val_recall: 0.1883 - learning_rate: 1.0000e-06\n"
     ]
    },
    {
     "name": "stderr",
     "output_type": "stream",
     "text": [
      "2025-06-18 09:38:12 - INFO - \n",
      "=== Training Completed! ===\n",
      "\n",
      "2025-06-18 09:38:12 - INFO - Final Metrics: accuracy: 0.9569 - auc: 0.9614 - f1_score: 0.6661 - loss: 0.0278 - precision: 0.8060 - recall: 0.5874 - val_accuracy: 0.9267 - val_auc: 0.7499 - val_f1_score: 0.2168 - val_loss: 0.0834 - val_precision: 0.2690 - val_recall: 0.1883\n",
      "\n"
     ]
    },
    {
     "name": "stdout",
     "output_type": "stream",
     "text": [
      "Restoring model weights from the end of the best epoch: 97.\n"
     ]
    }
   ],
   "source": [
    "# Model Training\n",
    "model          = build_densenet121(num_classes, use_se=False, use_eca=True, channel_blocks=[2, 3])\n",
    "optimizer      = Adam(learning_rate=1e-4)\n",
    "compile_kwargs = {'optimizer': optimizer, 'loss': loss, 'metrics': metrics}\n",
    "\n",
    "history, model = start_or_resume_training(\n",
    "    model, \n",
    "    compile_kwargs, \n",
    "    train_ds, \n",
    "    val_ds, \n",
    "    TF_MAX_EPOCHS,\n",
    "    steps_per_epoch, \n",
    "    validation_steps, \n",
    "    class_weights=class_weights,\n",
    "    callbacks=[checkpoint, best_checkpoint, reduce_lr, training_logger, metrics_monitor, early_stopping], \n",
    "    checkpoint_path=checkpoint_path,\n",
    "    initial_epoch=initial_epoch,\n",
    "    output_dir=MODELS_PATH,\n",
    "    model_name=model_name,\n",
    "    logger=logger\n",
    ")"
   ]
  },
  {
   "cell_type": "code",
   "execution_count": null,
   "id": "47f1f86e-635a-47bc-8e2e-19530b84a0bf",
   "metadata": {},
   "outputs": [],
   "source": []
  }
 ],
 "metadata": {
  "kernelspec": {
   "display_name": "Python 3 (ipykernel)",
   "language": "python",
   "name": "python3"
  },
  "language_info": {
   "codemirror_mode": {
    "name": "ipython",
    "version": 3
   },
   "file_extension": ".py",
   "mimetype": "text/x-python",
   "name": "python",
   "nbconvert_exporter": "python",
   "pygments_lexer": "ipython3",
   "version": "3.10.16"
  }
 },
 "nbformat": 4,
 "nbformat_minor": 5
}
