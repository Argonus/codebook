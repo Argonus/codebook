{
 "cells": [
  {
   "cell_type": "code",
   "execution_count": 1,
   "id": "b694919a-9b18-4068-8e69-7258de889dff",
   "metadata": {},
   "outputs": [
    {
     "name": "stderr",
     "output_type": "stream",
     "text": [
      "2025-06-21 00:51:23.372475: E external/local_xla/xla/stream_executor/cuda/cuda_fft.cc:467] Unable to register cuFFT factory: Attempting to register factory for plugin cuFFT when one has already been registered\n",
      "WARNING: All log messages before absl::InitializeLog() is called are written to STDERR\n",
      "E0000 00:00:1750459883.452308    4053 cuda_dnn.cc:8579] Unable to register cuDNN factory: Attempting to register factory for plugin cuDNN when one has already been registered\n",
      "E0000 00:00:1750459883.476075    4053 cuda_blas.cc:1407] Unable to register cuBLAS factory: Attempting to register factory for plugin cuBLAS when one has already been registered\n",
      "W0000 00:00:1750459883.663187    4053 computation_placer.cc:177] computation placer already registered. Please check linkage and avoid linking the same target more than once.\n",
      "W0000 00:00:1750459883.663202    4053 computation_placer.cc:177] computation placer already registered. Please check linkage and avoid linking the same target more than once.\n",
      "W0000 00:00:1750459883.663203    4053 computation_placer.cc:177] computation placer already registered. Please check linkage and avoid linking the same target more than once.\n",
      "W0000 00:00:1750459883.663204    4053 computation_placer.cc:177] computation placer already registered. Please check linkage and avoid linking the same target more than once.\n"
     ]
    },
    {
     "name": "stdout",
     "output_type": "stream",
     "text": [
      "\n",
      "GPU configuration successful!\n",
      "Device: /physical_device:GPU:0\n",
      "Memory limit: 18.0 GB\n",
      "\n",
      "TensorFlow optimizations status:\n",
      "- CPU Threads: 16 intra-op, 9 inter-op (32 cores total)\n",
      "- XLA JIT: enabled (autoclustering)\n",
      "- Synchronous Execution: enabled\n",
      "\n",
      "GPU Device Details:\n",
      "- Device: GPU /physical_device:GPU:0\n",
      "- Memory limit: 18.0 GB\n"
     ]
    },
    {
     "name": "stderr",
     "output_type": "stream",
     "text": [
      "I0000 00:00:1750459886.954716    4053 gpu_process_state.cc:208] Using CUDA malloc Async allocator for GPU: 0\n",
      "I0000 00:00:1750459886.955471    4053 gpu_device.cc:2019] Created device /job:localhost/replica:0/task:0/device:GPU:0 with 19327352832 MB memory:  -> device: 0, name: NVIDIA GeForce RTX 3090 Ti, pci bus id: 0000:01:00.0, compute capability: 8.6\n"
     ]
    }
   ],
   "source": [
    "# Import dependencies\n",
    "import os\n",
    "\n",
    "os.environ['TF_CPP_MIN_VLOG_LEVEL'] = '0'\n",
    "os.environ['TF_CPP_MIN_LOG_LEVEL'] = '2'\n",
    "os.environ['TF_GPU_ALLOCATOR'] = 'cuda_malloc_async'\n",
    "os.environ['TF_FORCE_GPU_ALLOW_GROWTH'] = 'true'\n",
    "\n",
    "from src.utils.gpu_config import configure_gpu, optimize_tensorflow\n",
    "\n",
    "configure_gpu()\n",
    "optimize_tensorflow()"
   ]
  },
  {
   "cell_type": "code",
   "execution_count": 2,
   "id": "2b854daf-5f2a-4c33-9180-5081cd415b16",
   "metadata": {},
   "outputs": [],
   "source": [
    "# Import Tensorflow Keras\n",
    "from tensorflow.keras.optimizers import Adam\n",
    "from tensorflow.keras.losses import BinaryFocalCrossentropy\n",
    "from tensorflow.keras.callbacks import ReduceLROnPlateau, ModelCheckpoint\n",
    "\n",
    "# Import local modules\n",
    "from src.utils.consts import TF_RECORD_DATASET, MODELS_PATH, TF_BUFFER_SIZE, TF_SHUFFLE_SIZE, TF_BATCH_SIZE, TF_MAX_EPOCHS\n",
    "from src.model.tensorflow_utils import load_dataset, optimize_dataset, count_dataset_size, get_num_classes, get_metrics\n",
    "from src.model.tensorflow_utils import setup_logger, setup_training_logger, setup_metrics_monitor, setup_early_stopping, filter_no_finding_class\n",
    "from src.model.tensorflow_utils import start_or_resume_training, apply_augmentation_to_dataset, calculate_class_weights, oversample_minority_classes\n",
    "from src.model.densnet.tensorflow_dense_net_121 import build_densenet121\n",
    "\n",
    "# Input Data\n",
    "initial_epoch   = None\n",
    "resume_training = False\n",
    "checkpoint_path = None\n",
    "set_name        = \"DenseNetV5\"\n",
    "model_name      = f\"{set_name}_5\"\n",
    "num_classes     = get_num_classes()\n",
    "\n",
    "train_ds = load_dataset(f\"{TF_RECORD_DATASET}/train.tfrecord\", TF_BUFFER_SIZE)\n",
    "val_ds   = load_dataset(f\"{TF_RECORD_DATASET}/val.tfrecord\", TF_BUFFER_SIZE)\n",
    "\n",
    "train_ds = filter_no_finding_class(train_ds)\n",
    "val_ds   = filter_no_finding_class(val_ds)\n",
    "\n",
    "class_weights = calculate_class_weights(train_ds, num_classes)\n",
    "train_ds      = oversample_minority_classes(train_ds, class_weights)\n",
    "class_weights = calculate_class_weights(train_ds, num_classes)"
   ]
  },
  {
   "cell_type": "code",
   "execution_count": 3,
   "id": "5f152b8a-8ff8-4095-9815-e304ce2beb52",
   "metadata": {},
   "outputs": [
    {
     "name": "stderr",
     "output_type": "stream",
     "text": [
      "Counting samples: 104166 samples [00:43, 2405.96 samples/s] \n",
      "Counting samples: 15431 samples [00:11, 1362.08 samples/s]\n"
     ]
    }
   ],
   "source": [
    "steps_per_epoch  = int(count_dataset_size(train_ds, None) / TF_BATCH_SIZE)\n",
    "validation_steps = int(count_dataset_size(val_ds, None) / TF_BATCH_SIZE)\n",
    "\n",
    "# Disable Advanced Augmentations\n",
    "probability = {\n",
    "    \"intensity_scaling\": 0,\n",
    "    \"adaptive_histogram\": 0,\n",
    "    \"zoom\": 0,\n",
    "    \"cutout\": 0\n",
    "}\n",
    "\n",
    "train_ds = train_ds.shuffle(TF_SHUFFLE_SIZE, reshuffle_each_iteration=True)\n",
    "train_ds = apply_augmentation_to_dataset(train_ds, probability)\n",
    "train_ds = optimize_dataset(train_ds, TF_BATCH_SIZE)\n",
    "\n",
    "val_ds   = optimize_dataset(val_ds, TF_BATCH_SIZE)"
   ]
  },
  {
   "cell_type": "code",
   "execution_count": 4,
   "id": "3a0e37c9-b178-40d8-bd25-8c0a6498564a",
   "metadata": {},
   "outputs": [],
   "source": [
    "# Setup Model Deps\n",
    "logger            = setup_logger()\n",
    "training_logger   = setup_training_logger(logger, TF_BATCH_SIZE, 100)\n",
    "metrics_monitor   = setup_metrics_monitor(MODELS_PATH, model_name, logger, resume_training=resume_training, initial_epoch=initial_epoch)\n",
    "metrics           = get_metrics()\n",
    "\n",
    "# Setup compile arguments\n",
    "loss           = BinaryFocalCrossentropy(gamma=2.0, from_logits=False, label_smoothing=0.05)\n",
    "reduce_lr      = ReduceLROnPlateau(monitor=\"val_f1_score\", factor=0.5,  patience=3, min_lr=1e-6, mode=\"max\", verbose=1)\n",
    "early_stopping = setup_early_stopping()\n",
    "\n",
    "epoch_mode           = 'cp-{epoch:04d}'\n",
    "save_checkpoint_path = f\"{MODELS_PATH}/{model_name}/checkpoints/{epoch_mode}.keras\"\n",
    "checkpoint           = ModelCheckpoint(save_checkpoint_path, monitor=\"val_f1_score\", save_best_only=False, mode=\"max\", save_weights_only=False)\n",
    "\n",
    "model_path      = f\"{MODELS_PATH}/{model_name}.keras\"\n",
    "best_checkpoint = ModelCheckpoint(model_path, monitor=\"val_f1_score\", save_best_only=True, mode=\"max\", save_weights_only=False)"
   ]
  },
  {
   "cell_type": "code",
   "execution_count": 5,
   "id": "c44d4a9a-ffbb-4917-a702-c35773b9857c",
   "metadata": {},
   "outputs": [
    {
     "name": "stderr",
     "output_type": "stream",
     "text": [
      "2025-06-21 00:53:51 - INFO - \n",
      "=== Training Started ===\n",
      "\n",
      "2025-06-21 00:53:51 - INFO - Batch Size: 128\n",
      "2025-06-21 00:53:51 - INFO - Optimizer: Adam\n",
      "2025-06-21 00:53:51 - INFO - \n",
      "==================================================\n",
      "\n",
      "2025-06-21 00:53:51 - INFO - \n",
      "=== Starting Epoch 1 ===\n",
      "\n"
     ]
    },
    {
     "name": "stdout",
     "output_type": "stream",
     "text": [
      "Epoch 1/100\n"
     ]
    },
    {
     "name": "stderr",
     "output_type": "stream",
     "text": [
      "WARNING: All log messages before absl::InitializeLog() is called are written to STDERR\n",
      "I0000 00:00:1750460042.846776    4114 service.cc:152] XLA service 0x74251c039960 initialized for platform CUDA (this does not guarantee that XLA will be used). Devices:\n",
      "I0000 00:00:1750460042.846797    4114 service.cc:160]   StreamExecutor device (0): NVIDIA GeForce RTX 3090 Ti, Compute Capability 8.6\n",
      "I0000 00:00:1750460042.862546    4114 cuda_dnn.cc:529] Loaded cuDNN version 90300\n",
      "I0000 00:00:1750460042.941738    4114 device_compiler.h:188] Compiled cluster using XLA!  This line is logged at most once for the lifetime of the process.\n"
     ]
    },
    {
     "name": "stdout",
     "output_type": "stream",
     "text": [
      "\u001b[1m813/813\u001b[0m \u001b[32m━━━━━━━━━━━━━━━━━━━━\u001b[0m\u001b[37m\u001b[0m \u001b[1m0s\u001b[0m 261ms/step - accuracy: 0.9093 - auc: 0.5579 - f1_score: 0.0312 - loss: 1.7875 - precision: 0.1340 - recall: 0.0216  "
     ]
    },
    {
     "name": "stderr",
     "output_type": "stream",
     "text": [
      "2025-06-21 00:59:38 - INFO - \n",
      "=== Epoch 1 Summary ===\n",
      "2025-06-21 00:59:38 - INFO - Time: 346.06s\n",
      "2025-06-21 00:59:38 - INFO - Training   - accuracy: 0.9187 - auc: 0.5846 - f1_score: 0.0227 - loss: 1.4885 - precision: 0.1777 - recall: 0.0124 - learning_rate: 0.0001\n",
      "2025-06-21 00:59:38 - INFO - Validation - accuracy: 0.9444 - auc: 0.6500 - f1_score: 0.0000 - loss: 0.9789 - precision: 0.0000 - recall: 0.0000\n",
      "2025-06-21 00:59:38 - INFO - ==================================================\n",
      "\n"
     ]
    },
    {
     "name": "stdout",
     "output_type": "stream",
     "text": [
      "\u001b[1m813/813\u001b[0m \u001b[32m━━━━━━━━━━━━━━━━━━━━\u001b[0m\u001b[37m\u001b[0m \u001b[1m346s\u001b[0m 294ms/step - accuracy: 0.9093 - auc: 0.5580 - f1_score: 0.0312 - loss: 1.7871 - precision: 0.1341 - recall: 0.0215 - val_accuracy: 0.9444 - val_auc: 0.6500 - val_f1_score: 0.0000e+00 - val_loss: 0.9789 - val_precision: 0.0000e+00 - val_recall: 0.0000e+00 - learning_rate: 1.0000e-04\n"
     ]
    },
    {
     "name": "stderr",
     "output_type": "stream",
     "text": [
      "2025-06-21 00:59:38 - INFO - \n",
      "=== Starting Epoch 2 ===\n",
      "\n"
     ]
    },
    {
     "name": "stdout",
     "output_type": "stream",
     "text": [
      "Epoch 2/100\n",
      "\u001b[1m813/813\u001b[0m \u001b[32m━━━━━━━━━━━━━━━━━━━━\u001b[0m\u001b[37m\u001b[0m \u001b[1m0s\u001b[0m 263ms/step - accuracy: 0.9209 - auc: 0.6242 - f1_score: 0.0149 - loss: 0.8161 - precision: 0.2909 - recall: 0.0080  "
     ]
    },
    {
     "name": "stderr",
     "output_type": "stream",
     "text": [
      "2025-06-21 01:04:39 - INFO - \n",
      "=== Epoch 2 Summary ===\n",
      "2025-06-21 01:04:39 - INFO - Time: 301.18s\n",
      "2025-06-21 01:04:39 - INFO - Training   - accuracy: 0.9213 - auc: 0.6355 - f1_score: 0.0158 - loss: 0.6789 - precision: 0.3028 - recall: 0.0085 - learning_rate: 0.0001\n",
      "2025-06-21 01:04:39 - INFO - Validation - accuracy: 0.9446 - auc: 0.6630 - f1_score: 0.0012 - loss: 0.4563 - precision: 0.3500 - recall: 0.0006\n",
      "2025-06-21 01:04:39 - INFO - ==================================================\n",
      "\n"
     ]
    },
    {
     "name": "stdout",
     "output_type": "stream",
     "text": [
      "\u001b[1m813/813\u001b[0m \u001b[32m━━━━━━━━━━━━━━━━━━━━\u001b[0m\u001b[37m\u001b[0m \u001b[1m301s\u001b[0m 288ms/step - accuracy: 0.9209 - auc: 0.6242 - f1_score: 0.0149 - loss: 0.8159 - precision: 0.2909 - recall: 0.0080 - val_accuracy: 0.9446 - val_auc: 0.6630 - val_f1_score: 0.0012 - val_loss: 0.4563 - val_precision: 0.3500 - val_recall: 5.8774e-04 - learning_rate: 1.0000e-04\n"
     ]
    },
    {
     "name": "stderr",
     "output_type": "stream",
     "text": [
      "2025-06-21 01:04:39 - INFO - \n",
      "=== Starting Epoch 3 ===\n",
      "\n"
     ]
    },
    {
     "name": "stdout",
     "output_type": "stream",
     "text": [
      "Epoch 3/100\n",
      "\u001b[1m813/813\u001b[0m \u001b[32m━━━━━━━━━━━━━━━━━━━━\u001b[0m\u001b[37m\u001b[0m \u001b[1m0s\u001b[0m 264ms/step - accuracy: 0.9212 - auc: 0.6568 - f1_score: 0.0212 - loss: 0.3810 - precision: 0.3555 - recall: 0.0116  "
     ]
    },
    {
     "name": "stderr",
     "output_type": "stream",
     "text": [
      "2025-06-21 01:08:28 - INFO - \n",
      "=== Epoch 3 Summary ===\n",
      "2025-06-21 01:08:28 - INFO - Time: 228.73s\n",
      "2025-06-21 01:08:28 - INFO - Training   - accuracy: 0.9214 - auc: 0.6669 - f1_score: 0.0247 - loss: 0.3236 - precision: 0.3667 - recall: 0.0137 - learning_rate: 0.0001\n",
      "2025-06-21 01:08:28 - INFO - Validation - accuracy: 0.9446 - auc: 0.6477 - f1_score: 0.0031 - loss: 0.2361 - precision: 0.6129 - recall: 0.0016\n",
      "2025-06-21 01:08:28 - INFO - ==================================================\n",
      "\n"
     ]
    },
    {
     "name": "stdout",
     "output_type": "stream",
     "text": [
      "\u001b[1m813/813\u001b[0m \u001b[32m━━━━━━━━━━━━━━━━━━━━\u001b[0m\u001b[37m\u001b[0m \u001b[1m229s\u001b[0m 281ms/step - accuracy: 0.9212 - auc: 0.6568 - f1_score: 0.0212 - loss: 0.3810 - precision: 0.3555 - recall: 0.0116 - val_accuracy: 0.9446 - val_auc: 0.6477 - val_f1_score: 0.0031 - val_loss: 0.2361 - val_precision: 0.6129 - val_recall: 0.0016 - learning_rate: 1.0000e-04\n"
     ]
    },
    {
     "name": "stderr",
     "output_type": "stream",
     "text": [
      "2025-06-21 01:08:28 - INFO - \n",
      "=== Starting Epoch 4 ===\n",
      "\n"
     ]
    },
    {
     "name": "stdout",
     "output_type": "stream",
     "text": [
      "Epoch 4/100\n",
      "\u001b[1m813/813\u001b[0m \u001b[32m━━━━━━━━━━━━━━━━━━━━\u001b[0m\u001b[37m\u001b[0m \u001b[1m0s\u001b[0m 278ms/step - accuracy: 0.9213 - auc: 0.6845 - f1_score: 0.0346 - loss: 0.2015 - precision: 0.4074 - recall: 0.0202  "
     ]
    },
    {
     "name": "stderr",
     "output_type": "stream",
     "text": [
      "2025-06-21 01:12:28 - INFO - \n",
      "=== Epoch 4 Summary ===\n",
      "2025-06-21 01:12:28 - INFO - Time: 240.13s\n",
      "2025-06-21 01:12:28 - INFO - Training   - accuracy: 0.9214 - auc: 0.6913 - f1_score: 0.0406 - loss: 0.1784 - precision: 0.4119 - recall: 0.0243 - learning_rate: 0.0001\n",
      "2025-06-21 01:12:28 - INFO - Validation - accuracy: 0.9445 - auc: 0.7061 - f1_score: 0.0056 - loss: 0.1447 - precision: 0.3814 - recall: 0.0031\n",
      "2025-06-21 01:12:28 - INFO - ==================================================\n",
      "\n"
     ]
    },
    {
     "name": "stdout",
     "output_type": "stream",
     "text": [
      "\u001b[1m813/813\u001b[0m \u001b[32m━━━━━━━━━━━━━━━━━━━━\u001b[0m\u001b[37m\u001b[0m \u001b[1m240s\u001b[0m 296ms/step - accuracy: 0.9213 - auc: 0.6845 - f1_score: 0.0346 - loss: 0.2015 - precision: 0.4074 - recall: 0.0202 - val_accuracy: 0.9445 - val_auc: 0.7061 - val_f1_score: 0.0056 - val_loss: 0.1447 - val_precision: 0.3814 - val_recall: 0.0031 - learning_rate: 1.0000e-04\n"
     ]
    },
    {
     "name": "stderr",
     "output_type": "stream",
     "text": [
      "2025-06-21 01:12:28 - INFO - \n",
      "=== Starting Epoch 5 ===\n",
      "\n"
     ]
    },
    {
     "name": "stdout",
     "output_type": "stream",
     "text": [
      "Epoch 5/100\n",
      "\u001b[1m813/813\u001b[0m \u001b[32m━━━━━━━━━━━━━━━━━━━━\u001b[0m\u001b[37m\u001b[0m \u001b[1m0s\u001b[0m 278ms/step - accuracy: 0.9212 - auc: 0.7013 - f1_score: 0.0484 - loss: 0.1288 - precision: 0.4387 - recall: 0.0299  "
     ]
    },
    {
     "name": "stderr",
     "output_type": "stream",
     "text": [
      "2025-06-21 01:16:33 - INFO - \n",
      "=== Epoch 5 Summary ===\n",
      "2025-06-21 01:16:33 - INFO - Time: 245.13s\n",
      "2025-06-21 01:16:33 - INFO - Training   - accuracy: 0.9215 - auc: 0.7076 - f1_score: 0.0519 - loss: 0.1189 - precision: 0.4426 - recall: 0.0329 - learning_rate: 0.0001\n",
      "2025-06-21 01:16:33 - INFO - Validation - accuracy: 0.9438 - auc: 0.7225 - f1_score: 0.0116 - loss: 0.1024 - precision: 0.2565 - recall: 0.0075\n",
      "2025-06-21 01:16:33 - INFO - ==================================================\n",
      "\n"
     ]
    },
    {
     "name": "stdout",
     "output_type": "stream",
     "text": [
      "\u001b[1m813/813\u001b[0m \u001b[32m━━━━━━━━━━━━━━━━━━━━\u001b[0m\u001b[37m\u001b[0m \u001b[1m245s\u001b[0m 302ms/step - accuracy: 0.9212 - auc: 0.7013 - f1_score: 0.0484 - loss: 0.1288 - precision: 0.4387 - recall: 0.0299 - val_accuracy: 0.9438 - val_auc: 0.7225 - val_f1_score: 0.0116 - val_loss: 0.1024 - val_precision: 0.2565 - val_recall: 0.0075 - learning_rate: 1.0000e-04\n"
     ]
    },
    {
     "name": "stderr",
     "output_type": "stream",
     "text": [
      "2025-06-21 01:16:33 - INFO - \n",
      "=== Starting Epoch 6 ===\n",
      "\n"
     ]
    },
    {
     "name": "stdout",
     "output_type": "stream",
     "text": [
      "Epoch 6/100\n",
      "\u001b[1m813/813\u001b[0m \u001b[32m━━━━━━━━━━━━━━━━━━━━\u001b[0m\u001b[37m\u001b[0m \u001b[1m0s\u001b[0m 264ms/step - accuracy: 0.9211 - auc: 0.7139 - f1_score: 0.0567 - loss: 0.0977 - precision: 0.4661 - recall: 0.0365  "
     ]
    },
    {
     "name": "stderr",
     "output_type": "stream",
     "text": [
      "2025-06-21 01:20:22 - INFO - \n",
      "=== Epoch 6 Summary ===\n",
      "2025-06-21 01:20:22 - INFO - Time: 228.43s\n",
      "2025-06-21 01:20:22 - INFO - Training   - accuracy: 0.9217 - auc: 0.7199 - f1_score: 0.0610 - loss: 0.0926 - precision: 0.4651 - recall: 0.0398 - learning_rate: 0.0001\n",
      "2025-06-21 01:20:22 - INFO - Validation - accuracy: 0.9433 - auc: 0.7216 - f1_score: 0.0424 - loss: 0.0837 - precision: 0.3668 - recall: 0.0328\n",
      "2025-06-21 01:20:22 - INFO - ==================================================\n",
      "\n"
     ]
    },
    {
     "name": "stdout",
     "output_type": "stream",
     "text": [
      "\u001b[1m813/813\u001b[0m \u001b[32m━━━━━━━━━━━━━━━━━━━━\u001b[0m\u001b[37m\u001b[0m \u001b[1m228s\u001b[0m 281ms/step - accuracy: 0.9211 - auc: 0.7139 - f1_score: 0.0567 - loss: 0.0977 - precision: 0.4661 - recall: 0.0365 - val_accuracy: 0.9433 - val_auc: 0.7216 - val_f1_score: 0.0424 - val_loss: 0.0837 - val_precision: 0.3668 - val_recall: 0.0328 - learning_rate: 1.0000e-04\n"
     ]
    },
    {
     "name": "stderr",
     "output_type": "stream",
     "text": [
      "2025-06-21 01:20:22 - INFO - \n",
      "=== Starting Epoch 7 ===\n",
      "\n"
     ]
    },
    {
     "name": "stdout",
     "output_type": "stream",
     "text": [
      "Epoch 7/100\n",
      "\u001b[1m813/813\u001b[0m \u001b[32m━━━━━━━━━━━━━━━━━━━━\u001b[0m\u001b[37m\u001b[0m \u001b[1m0s\u001b[0m 278ms/step - accuracy: 0.9216 - auc: 0.7271 - f1_score: 0.0689 - loss: 0.0821 - precision: 0.4904 - recall: 0.0460  "
     ]
    },
    {
     "name": "stderr",
     "output_type": "stream",
     "text": [
      "2025-06-21 01:24:26 - INFO - \n",
      "=== Epoch 7 Summary ===\n",
      "2025-06-21 01:24:26 - INFO - Time: 244.49s\n",
      "2025-06-21 01:24:26 - INFO - Training   - accuracy: 0.9219 - auc: 0.7308 - f1_score: 0.0697 - loss: 0.0795 - precision: 0.4796 - recall: 0.0468 - learning_rate: 0.0001\n",
      "2025-06-21 01:24:26 - INFO - Validation - accuracy: 0.9414 - auc: 0.7228 - f1_score: 0.0781 - loss: 0.0783 - precision: 0.3688 - recall: 0.0823\n",
      "2025-06-21 01:24:26 - INFO - ==================================================\n",
      "\n"
     ]
    },
    {
     "name": "stdout",
     "output_type": "stream",
     "text": [
      "\u001b[1m813/813\u001b[0m \u001b[32m━━━━━━━━━━━━━━━━━━━━\u001b[0m\u001b[37m\u001b[0m \u001b[1m245s\u001b[0m 301ms/step - accuracy: 0.9216 - auc: 0.7271 - f1_score: 0.0689 - loss: 0.0821 - precision: 0.4904 - recall: 0.0460 - val_accuracy: 0.9414 - val_auc: 0.7228 - val_f1_score: 0.0781 - val_loss: 0.0783 - val_precision: 0.3688 - val_recall: 0.0823 - learning_rate: 1.0000e-04\n"
     ]
    },
    {
     "name": "stderr",
     "output_type": "stream",
     "text": [
      "2025-06-21 01:24:26 - INFO - \n",
      "=== Starting Epoch 8 ===\n",
      "\n"
     ]
    },
    {
     "name": "stdout",
     "output_type": "stream",
     "text": [
      "Epoch 8/100\n",
      "\u001b[1m813/813\u001b[0m \u001b[32m━━━━━━━━━━━━━━━━━━━━\u001b[0m\u001b[37m\u001b[0m \u001b[1m0s\u001b[0m 279ms/step - accuracy: 0.9216 - auc: 0.7338 - f1_score: 0.0761 - loss: 0.0740 - precision: 0.4934 - recall: 0.0519  "
     ]
    },
    {
     "name": "stderr",
     "output_type": "stream",
     "text": [
      "2025-06-21 01:28:32 - INFO - \n",
      "=== Epoch 8 Summary ===\n",
      "2025-06-21 01:28:32 - INFO - Time: 245.78s\n",
      "2025-06-21 01:28:32 - INFO - Training   - accuracy: 0.9221 - auc: 0.7380 - f1_score: 0.0820 - loss: 0.0722 - precision: 0.4976 - recall: 0.0560 - learning_rate: 0.0001\n",
      "2025-06-21 01:28:32 - INFO - Validation - accuracy: 0.9436 - auc: 0.7408 - f1_score: 0.0322 - loss: 0.0699 - precision: 0.3432 - recall: 0.0194\n",
      "2025-06-21 01:28:32 - INFO - ==================================================\n",
      "\n"
     ]
    },
    {
     "name": "stdout",
     "output_type": "stream",
     "text": [
      "\u001b[1m813/813\u001b[0m \u001b[32m━━━━━━━━━━━━━━━━━━━━\u001b[0m\u001b[37m\u001b[0m \u001b[1m246s\u001b[0m 302ms/step - accuracy: 0.9216 - auc: 0.7339 - f1_score: 0.0761 - loss: 0.0740 - precision: 0.4934 - recall: 0.0519 - val_accuracy: 0.9436 - val_auc: 0.7408 - val_f1_score: 0.0322 - val_loss: 0.0699 - val_precision: 0.3432 - val_recall: 0.0194 - learning_rate: 1.0000e-04\n"
     ]
    },
    {
     "name": "stderr",
     "output_type": "stream",
     "text": [
      "2025-06-21 01:28:32 - INFO - \n",
      "=== Starting Epoch 9 ===\n",
      "\n"
     ]
    },
    {
     "name": "stdout",
     "output_type": "stream",
     "text": [
      "Epoch 9/100\n",
      "\u001b[1m813/813\u001b[0m \u001b[32m━━━━━━━━━━━━━━━━━━━━\u001b[0m\u001b[37m\u001b[0m \u001b[1m0s\u001b[0m 262ms/step - accuracy: 0.9218 - auc: 0.7410 - f1_score: 0.0846 - loss: 0.0692 - precision: 0.4997 - recall: 0.0574  "
     ]
    },
    {
     "name": "stderr",
     "output_type": "stream",
     "text": [
      "2025-06-21 01:32:27 - INFO - \n",
      "=== Epoch 9 Summary ===\n",
      "2025-06-21 01:32:27 - INFO - Time: 234.66s\n",
      "2025-06-21 01:32:27 - INFO - Training   - accuracy: 0.9221 - auc: 0.7437 - f1_score: 0.0863 - loss: 0.0680 - precision: 0.4965 - recall: 0.0587 - learning_rate: 0.0001\n",
      "2025-06-21 01:32:27 - INFO - Validation - accuracy: 0.9349 - auc: 0.7376 - f1_score: 0.1105 - loss: 0.0719 - precision: 0.2427 - recall: 0.0828\n",
      "2025-06-21 01:32:27 - INFO - ==================================================\n",
      "\n"
     ]
    },
    {
     "name": "stdout",
     "output_type": "stream",
     "text": [
      "\u001b[1m813/813\u001b[0m \u001b[32m━━━━━━━━━━━━━━━━━━━━\u001b[0m\u001b[37m\u001b[0m \u001b[1m235s\u001b[0m 289ms/step - accuracy: 0.9218 - auc: 0.7411 - f1_score: 0.0846 - loss: 0.0692 - precision: 0.4997 - recall: 0.0574 - val_accuracy: 0.9349 - val_auc: 0.7376 - val_f1_score: 0.1105 - val_loss: 0.0719 - val_precision: 0.2427 - val_recall: 0.0828 - learning_rate: 1.0000e-04\n"
     ]
    },
    {
     "name": "stderr",
     "output_type": "stream",
     "text": [
      "2025-06-21 01:32:27 - INFO - \n",
      "=== Starting Epoch 10 ===\n",
      "\n"
     ]
    },
    {
     "name": "stdout",
     "output_type": "stream",
     "text": [
      "Epoch 10/100\n",
      "\u001b[1m813/813\u001b[0m \u001b[32m━━━━━━━━━━━━━━━━━━━━\u001b[0m\u001b[37m\u001b[0m \u001b[1m0s\u001b[0m 262ms/step - accuracy: 0.9219 - auc: 0.7451 - f1_score: 0.0923 - loss: 0.0661 - precision: 0.4993 - recall: 0.0637  "
     ]
    },
    {
     "name": "stderr",
     "output_type": "stream",
     "text": [
      "2025-06-21 01:36:20 - INFO - \n",
      "=== Epoch 10 Summary ===\n",
      "2025-06-21 01:36:20 - INFO - Time: 233.43s\n",
      "2025-06-21 01:36:20 - INFO - Training   - accuracy: 0.9223 - auc: 0.7504 - f1_score: 0.0954 - loss: 0.0650 - precision: 0.5031 - recall: 0.0661 - learning_rate: 0.0001\n",
      "2025-06-21 01:36:20 - INFO - Validation - accuracy: 0.9450 - auc: 0.7387 - f1_score: 0.0552 - loss: 0.0669 - precision: 0.5472 - recall: 0.0360\n",
      "2025-06-21 01:36:20 - INFO - ==================================================\n",
      "\n"
     ]
    },
    {
     "name": "stdout",
     "output_type": "stream",
     "text": [
      "\u001b[1m813/813\u001b[0m \u001b[32m━━━━━━━━━━━━━━━━━━━━\u001b[0m\u001b[37m\u001b[0m \u001b[1m233s\u001b[0m 287ms/step - accuracy: 0.9219 - auc: 0.7451 - f1_score: 0.0923 - loss: 0.0661 - precision: 0.4993 - recall: 0.0637 - val_accuracy: 0.9450 - val_auc: 0.7387 - val_f1_score: 0.0552 - val_loss: 0.0669 - val_precision: 0.5472 - val_recall: 0.0360 - learning_rate: 1.0000e-04\n"
     ]
    },
    {
     "name": "stderr",
     "output_type": "stream",
     "text": [
      "2025-06-21 01:36:20 - INFO - \n",
      "=== Starting Epoch 11 ===\n",
      "\n"
     ]
    },
    {
     "name": "stdout",
     "output_type": "stream",
     "text": [
      "Epoch 11/100\n",
      "\u001b[1m813/813\u001b[0m \u001b[32m━━━━━━━━━━━━━━━━━━━━\u001b[0m\u001b[37m\u001b[0m \u001b[1m0s\u001b[0m 262ms/step - accuracy: 0.9217 - auc: 0.7511 - f1_score: 0.0937 - loss: 0.0639 - precision: 0.5058 - recall: 0.0649  "
     ]
    },
    {
     "name": "stderr",
     "output_type": "stream",
     "text": [
      "2025-06-21 01:40:13 - INFO - \n",
      "=== Epoch 11 Summary ===\n",
      "2025-06-21 01:40:13 - INFO - Time: 232.44s\n",
      "2025-06-21 01:40:13 - INFO - Training   - accuracy: 0.9221 - auc: 0.7550 - f1_score: 0.0964 - loss: 0.0630 - precision: 0.4991 - recall: 0.0672 - learning_rate: 0.0001\n",
      "2025-06-21 01:40:13 - INFO - Validation - accuracy: 0.9437 - auc: 0.7204 - f1_score: 0.0204 - loss: 0.0650 - precision: 0.3075 - recall: 0.0127\n",
      "2025-06-21 01:40:13 - INFO - ==================================================\n",
      "\n"
     ]
    },
    {
     "name": "stdout",
     "output_type": "stream",
     "text": [
      "\u001b[1m813/813\u001b[0m \u001b[32m━━━━━━━━━━━━━━━━━━━━\u001b[0m\u001b[37m\u001b[0m \u001b[1m232s\u001b[0m 286ms/step - accuracy: 0.9217 - auc: 0.7511 - f1_score: 0.0937 - loss: 0.0639 - precision: 0.5058 - recall: 0.0649 - val_accuracy: 0.9437 - val_auc: 0.7204 - val_f1_score: 0.0204 - val_loss: 0.0650 - val_precision: 0.3075 - val_recall: 0.0127 - learning_rate: 1.0000e-04\n"
     ]
    },
    {
     "name": "stderr",
     "output_type": "stream",
     "text": [
      "2025-06-21 01:40:13 - INFO - \n",
      "=== Starting Epoch 12 ===\n",
      "\n"
     ]
    },
    {
     "name": "stdout",
     "output_type": "stream",
     "text": [
      "Epoch 12/100\n",
      "\u001b[1m813/813\u001b[0m \u001b[32m━━━━━━━━━━━━━━━━━━━━\u001b[0m\u001b[37m\u001b[0m \u001b[1m0s\u001b[0m 262ms/step - accuracy: 0.9218 - auc: 0.7558 - f1_score: 0.1027 - loss: 0.0624 - precision: 0.5083 - recall: 0.0720  \n",
      "Epoch 12: ReduceLROnPlateau reducing learning rate to 4.999999873689376e-05.\n"
     ]
    },
    {
     "name": "stderr",
     "output_type": "stream",
     "text": [
      "2025-06-21 01:44:09 - INFO - \n",
      "=== Epoch 12 Summary ===\n",
      "2025-06-21 01:44:09 - INFO - Time: 235.97s\n",
      "2025-06-21 01:44:09 - INFO - Training   - accuracy: 0.9224 - auc: 0.7598 - f1_score: 0.1062 - loss: 0.0614 - precision: 0.5080 - recall: 0.0744 - learning_rate: 0.0001\n",
      "2025-06-21 01:44:09 - INFO - Validation - accuracy: 0.9279 - auc: 0.6973 - f1_score: 0.0988 - loss: 0.0736 - precision: 0.2289 - recall: 0.1271\n",
      "2025-06-21 01:44:09 - INFO - ==================================================\n",
      "\n"
     ]
    },
    {
     "name": "stdout",
     "output_type": "stream",
     "text": [
      "\u001b[1m813/813\u001b[0m \u001b[32m━━━━━━━━━━━━━━━━━━━━\u001b[0m\u001b[37m\u001b[0m \u001b[1m236s\u001b[0m 290ms/step - accuracy: 0.9218 - auc: 0.7558 - f1_score: 0.1027 - loss: 0.0624 - precision: 0.5083 - recall: 0.0720 - val_accuracy: 0.9279 - val_auc: 0.6973 - val_f1_score: 0.0988 - val_loss: 0.0736 - val_precision: 0.2289 - val_recall: 0.1271 - learning_rate: 1.0000e-04\n"
     ]
    },
    {
     "name": "stderr",
     "output_type": "stream",
     "text": [
      "2025-06-21 01:44:09 - INFO - \n",
      "=== Starting Epoch 13 ===\n",
      "\n"
     ]
    },
    {
     "name": "stdout",
     "output_type": "stream",
     "text": [
      "Epoch 13/100\n",
      "\u001b[1m813/813\u001b[0m \u001b[32m━━━━━━━━━━━━━━━━━━━━\u001b[0m\u001b[37m\u001b[0m \u001b[1m0s\u001b[0m 263ms/step - accuracy: 0.9223 - auc: 0.7746 - f1_score: 0.1265 - loss: 0.0593 - precision: 0.5251 - recall: 0.0904  "
     ]
    },
    {
     "name": "stderr",
     "output_type": "stream",
     "text": [
      "2025-06-21 01:48:03 - INFO - \n",
      "=== Epoch 13 Summary ===\n",
      "2025-06-21 01:48:03 - INFO - Time: 234.56s\n",
      "2025-06-21 01:48:03 - INFO - Training   - accuracy: 0.9228 - auc: 0.7810 - f1_score: 0.1353 - loss: 0.0581 - precision: 0.5224 - recall: 0.0975 - learning_rate: 0.0000\n",
      "2025-06-21 01:48:03 - INFO - Validation - accuracy: 0.9333 - auc: 0.7430 - f1_score: 0.1660 - loss: 0.0675 - precision: 0.3002 - recall: 0.1530\n",
      "2025-06-21 01:48:03 - INFO - ==================================================\n",
      "\n"
     ]
    },
    {
     "name": "stdout",
     "output_type": "stream",
     "text": [
      "\u001b[1m813/813\u001b[0m \u001b[32m━━━━━━━━━━━━━━━━━━━━\u001b[0m\u001b[37m\u001b[0m \u001b[1m235s\u001b[0m 289ms/step - accuracy: 0.9223 - auc: 0.7746 - f1_score: 0.1265 - loss: 0.0593 - precision: 0.5251 - recall: 0.0904 - val_accuracy: 0.9333 - val_auc: 0.7430 - val_f1_score: 0.1660 - val_loss: 0.0675 - val_precision: 0.3002 - val_recall: 0.1530 - learning_rate: 5.0000e-05\n"
     ]
    },
    {
     "name": "stderr",
     "output_type": "stream",
     "text": [
      "2025-06-21 01:48:04 - INFO - \n",
      "=== Starting Epoch 14 ===\n",
      "\n"
     ]
    },
    {
     "name": "stdout",
     "output_type": "stream",
     "text": [
      "Epoch 14/100\n",
      "\u001b[1m813/813\u001b[0m \u001b[32m━━━━━━━━━━━━━━━━━━━━\u001b[0m\u001b[37m\u001b[0m \u001b[1m0s\u001b[0m 262ms/step - accuracy: 0.9223 - auc: 0.7849 - f1_score: 0.1407 - loss: 0.0572 - precision: 0.5180 - recall: 0.1020  "
     ]
    },
    {
     "name": "stderr",
     "output_type": "stream",
     "text": [
      "2025-06-21 01:51:58 - INFO - \n",
      "=== Epoch 14 Summary ===\n",
      "2025-06-21 01:51:58 - INFO - Time: 234.04s\n",
      "2025-06-21 01:51:58 - INFO - Training   - accuracy: 0.9228 - auc: 0.7894 - f1_score: 0.1475 - loss: 0.0565 - precision: 0.5199 - recall: 0.1079 - learning_rate: 0.0000\n",
      "2025-06-21 01:51:58 - INFO - Validation - accuracy: 0.9366 - auc: 0.7523 - f1_score: 0.1736 - loss: 0.0649 - precision: 0.3412 - recall: 0.1552\n",
      "2025-06-21 01:51:58 - INFO - ==================================================\n",
      "\n"
     ]
    },
    {
     "name": "stdout",
     "output_type": "stream",
     "text": [
      "\u001b[1m813/813\u001b[0m \u001b[32m━━━━━━━━━━━━━━━━━━━━\u001b[0m\u001b[37m\u001b[0m \u001b[1m234s\u001b[0m 288ms/step - accuracy: 0.9223 - auc: 0.7849 - f1_score: 0.1407 - loss: 0.0572 - precision: 0.5180 - recall: 0.1020 - val_accuracy: 0.9366 - val_auc: 0.7523 - val_f1_score: 0.1736 - val_loss: 0.0649 - val_precision: 0.3412 - val_recall: 0.1552 - learning_rate: 5.0000e-05\n"
     ]
    },
    {
     "name": "stderr",
     "output_type": "stream",
     "text": [
      "2025-06-21 01:51:58 - INFO - \n",
      "=== Starting Epoch 15 ===\n",
      "\n"
     ]
    },
    {
     "name": "stdout",
     "output_type": "stream",
     "text": [
      "Epoch 15/100\n",
      "\u001b[1m813/813\u001b[0m \u001b[32m━━━━━━━━━━━━━━━━━━━━\u001b[0m\u001b[37m\u001b[0m \u001b[1m0s\u001b[0m 262ms/step - accuracy: 0.9227 - auc: 0.7915 - f1_score: 0.1555 - loss: 0.0560 - precision: 0.5295 - recall: 0.1159  "
     ]
    },
    {
     "name": "stderr",
     "output_type": "stream",
     "text": [
      "2025-06-21 01:56:01 - INFO - \n",
      "=== Epoch 15 Summary ===\n",
      "2025-06-21 01:56:01 - INFO - Time: 243.05s\n",
      "2025-06-21 01:56:01 - INFO - Training   - accuracy: 0.9232 - auc: 0.7956 - f1_score: 0.1599 - loss: 0.0554 - precision: 0.5285 - recall: 0.1193 - learning_rate: 0.0000\n",
      "2025-06-21 01:56:01 - INFO - Validation - accuracy: 0.9410 - auc: 0.7643 - f1_score: 0.1018 - loss: 0.0600 - precision: 0.3454 - recall: 0.0735\n",
      "2025-06-21 01:56:01 - INFO - ==================================================\n",
      "\n"
     ]
    },
    {
     "name": "stdout",
     "output_type": "stream",
     "text": [
      "\u001b[1m813/813\u001b[0m \u001b[32m━━━━━━━━━━━━━━━━━━━━\u001b[0m\u001b[37m\u001b[0m \u001b[1m243s\u001b[0m 299ms/step - accuracy: 0.9227 - auc: 0.7915 - f1_score: 0.1555 - loss: 0.0560 - precision: 0.5295 - recall: 0.1159 - val_accuracy: 0.9410 - val_auc: 0.7643 - val_f1_score: 0.1018 - val_loss: 0.0600 - val_precision: 0.3454 - val_recall: 0.0735 - learning_rate: 5.0000e-05\n"
     ]
    },
    {
     "name": "stderr",
     "output_type": "stream",
     "text": [
      "2025-06-21 01:56:01 - INFO - \n",
      "=== Starting Epoch 16 ===\n",
      "\n"
     ]
    },
    {
     "name": "stdout",
     "output_type": "stream",
     "text": [
      "Epoch 16/100\n",
      "\u001b[1m813/813\u001b[0m \u001b[32m━━━━━━━━━━━━━━━━━━━━\u001b[0m\u001b[37m\u001b[0m \u001b[1m0s\u001b[0m 261ms/step - accuracy: 0.9227 - auc: 0.7998 - f1_score: 0.1675 - loss: 0.0547 - precision: 0.5252 - recall: 0.1263  "
     ]
    },
    {
     "name": "stderr",
     "output_type": "stream",
     "text": [
      "2025-06-21 01:59:51 - INFO - \n",
      "=== Epoch 16 Summary ===\n",
      "2025-06-21 01:59:51 - INFO - Time: 229.69s\n",
      "2025-06-21 01:59:51 - INFO - Training   - accuracy: 0.9234 - auc: 0.8032 - f1_score: 0.1745 - loss: 0.0541 - precision: 0.5322 - recall: 0.1317 - learning_rate: 0.0000\n",
      "2025-06-21 01:59:51 - INFO - Validation - accuracy: 0.9364 - auc: 0.7489 - f1_score: 0.1550 - loss: 0.0628 - precision: 0.3227 - recall: 0.1353\n",
      "2025-06-21 01:59:51 - INFO - ==================================================\n",
      "\n"
     ]
    },
    {
     "name": "stdout",
     "output_type": "stream",
     "text": [
      "\u001b[1m813/813\u001b[0m \u001b[32m━━━━━━━━━━━━━━━━━━━━\u001b[0m\u001b[37m\u001b[0m \u001b[1m230s\u001b[0m 283ms/step - accuracy: 0.9227 - auc: 0.7998 - f1_score: 0.1675 - loss: 0.0547 - precision: 0.5252 - recall: 0.1263 - val_accuracy: 0.9364 - val_auc: 0.7489 - val_f1_score: 0.1550 - val_loss: 0.0628 - val_precision: 0.3227 - val_recall: 0.1353 - learning_rate: 5.0000e-05\n"
     ]
    },
    {
     "name": "stderr",
     "output_type": "stream",
     "text": [
      "2025-06-21 01:59:51 - INFO - \n",
      "=== Starting Epoch 17 ===\n",
      "\n"
     ]
    },
    {
     "name": "stdout",
     "output_type": "stream",
     "text": [
      "Epoch 17/100\n",
      "\u001b[1m813/813\u001b[0m \u001b[32m━━━━━━━━━━━━━━━━━━━━\u001b[0m\u001b[37m\u001b[0m \u001b[1m0s\u001b[0m 267ms/step - accuracy: 0.9233 - auc: 0.8051 - f1_score: 0.1795 - loss: 0.0537 - precision: 0.5374 - recall: 0.1370  \n",
      "Epoch 17: ReduceLROnPlateau reducing learning rate to 2.499999936844688e-05.\n"
     ]
    },
    {
     "name": "stderr",
     "output_type": "stream",
     "text": [
      "2025-06-21 02:03:43 - INFO - \n",
      "=== Epoch 17 Summary ===\n",
      "2025-06-21 02:03:43 - INFO - Time: 231.92s\n",
      "2025-06-21 02:03:43 - INFO - Training   - accuracy: 0.9239 - auc: 0.8094 - f1_score: 0.1874 - loss: 0.0532 - precision: 0.5444 - recall: 0.1427 - learning_rate: 0.0000\n",
      "2025-06-21 02:03:43 - INFO - Validation - accuracy: 0.9383 - auc: 0.7565 - f1_score: 0.1455 - loss: 0.0615 - precision: 0.3572 - recall: 0.1428\n",
      "2025-06-21 02:03:43 - INFO - ==================================================\n",
      "\n"
     ]
    },
    {
     "name": "stdout",
     "output_type": "stream",
     "text": [
      "\u001b[1m813/813\u001b[0m \u001b[32m━━━━━━━━━━━━━━━━━━━━\u001b[0m\u001b[37m\u001b[0m \u001b[1m232s\u001b[0m 285ms/step - accuracy: 0.9233 - auc: 0.8051 - f1_score: 0.1795 - loss: 0.0537 - precision: 0.5374 - recall: 0.1370 - val_accuracy: 0.9383 - val_auc: 0.7565 - val_f1_score: 0.1455 - val_loss: 0.0615 - val_precision: 0.3572 - val_recall: 0.1428 - learning_rate: 5.0000e-05\n"
     ]
    },
    {
     "name": "stderr",
     "output_type": "stream",
     "text": [
      "2025-06-21 02:03:43 - INFO - \n",
      "=== Starting Epoch 18 ===\n",
      "\n"
     ]
    },
    {
     "name": "stdout",
     "output_type": "stream",
     "text": [
      "Epoch 18/100\n",
      "\u001b[1m813/813\u001b[0m \u001b[32m━━━━━━━━━━━━━━━━━━━━\u001b[0m\u001b[37m\u001b[0m \u001b[1m0s\u001b[0m 272ms/step - accuracy: 0.9245 - auc: 0.8191 - f1_score: 0.2064 - loss: 0.0515 - precision: 0.5553 - recall: 0.1600  "
     ]
    },
    {
     "name": "stderr",
     "output_type": "stream",
     "text": [
      "2025-06-21 02:07:38 - INFO - \n",
      "=== Epoch 18 Summary ===\n",
      "2025-06-21 02:07:38 - INFO - Time: 235.01s\n",
      "2025-06-21 02:07:38 - INFO - Training   - accuracy: 0.9254 - auc: 0.8264 - f1_score: 0.2185 - loss: 0.0504 - precision: 0.5678 - recall: 0.1707 - learning_rate: 0.0000\n",
      "2025-06-21 02:07:38 - INFO - Validation - accuracy: 0.9374 - auc: 0.7583 - f1_score: 0.1259 - loss: 0.0621 - precision: 0.3080 - recall: 0.1051\n",
      "2025-06-21 02:07:38 - INFO - ==================================================\n",
      "\n"
     ]
    },
    {
     "name": "stdout",
     "output_type": "stream",
     "text": [
      "\u001b[1m813/813\u001b[0m \u001b[32m━━━━━━━━━━━━━━━━━━━━\u001b[0m\u001b[37m\u001b[0m \u001b[1m235s\u001b[0m 289ms/step - accuracy: 0.9245 - auc: 0.8191 - f1_score: 0.2064 - loss: 0.0515 - precision: 0.5553 - recall: 0.1600 - val_accuracy: 0.9374 - val_auc: 0.7583 - val_f1_score: 0.1259 - val_loss: 0.0621 - val_precision: 0.3080 - val_recall: 0.1051 - learning_rate: 2.5000e-05\n"
     ]
    },
    {
     "name": "stderr",
     "output_type": "stream",
     "text": [
      "2025-06-21 02:07:38 - INFO - \n",
      "=== Starting Epoch 19 ===\n",
      "\n"
     ]
    },
    {
     "name": "stdout",
     "output_type": "stream",
     "text": [
      "Epoch 19/100\n",
      "\u001b[1m813/813\u001b[0m \u001b[32m━━━━━━━━━━━━━━━━━━━━\u001b[0m\u001b[37m\u001b[0m \u001b[1m0s\u001b[0m 276ms/step - accuracy: 0.9258 - auc: 0.8337 - f1_score: 0.2324 - loss: 0.0492 - precision: 0.5781 - recall: 0.1835  "
     ]
    },
    {
     "name": "stderr",
     "output_type": "stream",
     "text": [
      "2025-06-21 02:11:35 - INFO - \n",
      "=== Epoch 19 Summary ===\n",
      "2025-06-21 02:11:35 - INFO - Time: 237.69s\n",
      "2025-06-21 02:11:35 - INFO - Training   - accuracy: 0.9265 - auc: 0.8374 - f1_score: 0.2413 - loss: 0.0486 - precision: 0.5848 - recall: 0.1904 - learning_rate: 0.0000\n",
      "2025-06-21 02:11:35 - INFO - Validation - accuracy: 0.9352 - auc: 0.7571 - f1_score: 0.1450 - loss: 0.0637 - precision: 0.3063 - recall: 0.1340\n",
      "2025-06-21 02:11:35 - INFO - ==================================================\n",
      "\n"
     ]
    },
    {
     "name": "stdout",
     "output_type": "stream",
     "text": [
      "\u001b[1m813/813\u001b[0m \u001b[32m━━━━━━━━━━━━━━━━━━━━\u001b[0m\u001b[37m\u001b[0m \u001b[1m238s\u001b[0m 292ms/step - accuracy: 0.9258 - auc: 0.8337 - f1_score: 0.2324 - loss: 0.0492 - precision: 0.5781 - recall: 0.1835 - val_accuracy: 0.9352 - val_auc: 0.7571 - val_f1_score: 0.1450 - val_loss: 0.0637 - val_precision: 0.3063 - val_recall: 0.1340 - learning_rate: 2.5000e-05\n"
     ]
    },
    {
     "name": "stderr",
     "output_type": "stream",
     "text": [
      "2025-06-21 02:11:35 - INFO - \n",
      "=== Starting Epoch 20 ===\n",
      "\n"
     ]
    },
    {
     "name": "stdout",
     "output_type": "stream",
     "text": [
      "Epoch 20/100\n",
      "\u001b[1m813/813\u001b[0m \u001b[32m━━━━━━━━━━━━━━━━━━━━\u001b[0m\u001b[37m\u001b[0m \u001b[1m0s\u001b[0m 277ms/step - accuracy: 0.9268 - auc: 0.8401 - f1_score: 0.2508 - loss: 0.0479 - precision: 0.5907 - recall: 0.1999  \n",
      "Epoch 20: ReduceLROnPlateau reducing learning rate to 1.249999968422344e-05.\n"
     ]
    },
    {
     "name": "stderr",
     "output_type": "stream",
     "text": [
      "2025-06-21 02:15:34 - INFO - \n",
      "=== Epoch 20 Summary ===\n",
      "2025-06-21 02:15:34 - INFO - Time: 238.79s\n",
      "2025-06-21 02:15:34 - INFO - Training   - accuracy: 0.9272 - auc: 0.8439 - f1_score: 0.2549 - loss: 0.0474 - precision: 0.5954 - recall: 0.2025 - learning_rate: 0.0000\n",
      "2025-06-21 02:15:34 - INFO - Validation - accuracy: 0.9346 - auc: 0.7575 - f1_score: 0.1649 - loss: 0.0620 - precision: 0.3245 - recall: 0.1674\n",
      "2025-06-21 02:15:34 - INFO - ==================================================\n",
      "\n"
     ]
    },
    {
     "name": "stdout",
     "output_type": "stream",
     "text": [
      "\u001b[1m813/813\u001b[0m \u001b[32m━━━━━━━━━━━━━━━━━━━━\u001b[0m\u001b[37m\u001b[0m \u001b[1m239s\u001b[0m 294ms/step - accuracy: 0.9268 - auc: 0.8401 - f1_score: 0.2508 - loss: 0.0479 - precision: 0.5907 - recall: 0.1999 - val_accuracy: 0.9346 - val_auc: 0.7575 - val_f1_score: 0.1649 - val_loss: 0.0620 - val_precision: 0.3245 - val_recall: 0.1674 - learning_rate: 2.5000e-05\n"
     ]
    },
    {
     "name": "stderr",
     "output_type": "stream",
     "text": [
      "2025-06-21 02:15:34 - INFO - \n",
      "=== Starting Epoch 21 ===\n",
      "\n"
     ]
    },
    {
     "name": "stdout",
     "output_type": "stream",
     "text": [
      "Epoch 21/100\n",
      "\u001b[1m813/813\u001b[0m \u001b[32m━━━━━━━━━━━━━━━━━━━━\u001b[0m\u001b[37m\u001b[0m \u001b[1m0s\u001b[0m 278ms/step - accuracy: 0.9282 - auc: 0.8515 - f1_score: 0.2757 - loss: 0.0461 - precision: 0.6092 - recall: 0.2195  "
     ]
    },
    {
     "name": "stderr",
     "output_type": "stream",
     "text": [
      "2025-06-21 02:19:33 - INFO - \n",
      "=== Epoch 21 Summary ===\n",
      "2025-06-21 02:19:33 - INFO - Time: 239.28s\n",
      "2025-06-21 02:19:33 - INFO - Training   - accuracy: 0.9291 - auc: 0.8577 - f1_score: 0.2867 - loss: 0.0450 - precision: 0.6203 - recall: 0.2279 - learning_rate: 0.0000\n",
      "2025-06-21 02:19:33 - INFO - Validation - accuracy: 0.9379 - auc: 0.7619 - f1_score: 0.1536 - loss: 0.0613 - precision: 0.3352 - recall: 0.1234\n",
      "2025-06-21 02:19:33 - INFO - ==================================================\n",
      "\n"
     ]
    },
    {
     "name": "stdout",
     "output_type": "stream",
     "text": [
      "\u001b[1m813/813\u001b[0m \u001b[32m━━━━━━━━━━━━━━━━━━━━\u001b[0m\u001b[37m\u001b[0m \u001b[1m239s\u001b[0m 294ms/step - accuracy: 0.9282 - auc: 0.8515 - f1_score: 0.2757 - loss: 0.0461 - precision: 0.6092 - recall: 0.2196 - val_accuracy: 0.9379 - val_auc: 0.7619 - val_f1_score: 0.1536 - val_loss: 0.0613 - val_precision: 0.3352 - val_recall: 0.1234 - learning_rate: 1.2500e-05\n"
     ]
    },
    {
     "name": "stderr",
     "output_type": "stream",
     "text": [
      "2025-06-21 02:19:33 - INFO - \n",
      "=== Starting Epoch 22 ===\n",
      "\n"
     ]
    },
    {
     "name": "stdout",
     "output_type": "stream",
     "text": [
      "Epoch 22/100\n",
      "\u001b[1m813/813\u001b[0m \u001b[32m━━━━━━━━━━━━━━━━━━━━\u001b[0m\u001b[37m\u001b[0m \u001b[1m0s\u001b[0m 274ms/step - accuracy: 0.9294 - auc: 0.8608 - f1_score: 0.3046 - loss: 0.0444 - precision: 0.6263 - recall: 0.2421  "
     ]
    },
    {
     "name": "stderr",
     "output_type": "stream",
     "text": [
      "2025-06-21 02:23:35 - INFO - \n",
      "=== Epoch 22 Summary ===\n",
      "2025-06-21 02:23:35 - INFO - Time: 241.33s\n",
      "2025-06-21 02:23:35 - INFO - Training   - accuracy: 0.9301 - auc: 0.8652 - f1_score: 0.3103 - loss: 0.0437 - precision: 0.6308 - recall: 0.2474 - learning_rate: 0.0000\n",
      "2025-06-21 02:23:35 - INFO - Validation - accuracy: 0.9360 - auc: 0.7568 - f1_score: 0.1568 - loss: 0.0623 - precision: 0.3183 - recall: 0.1359\n",
      "2025-06-21 02:23:35 - INFO - ==================================================\n",
      "\n"
     ]
    },
    {
     "name": "stdout",
     "output_type": "stream",
     "text": [
      "\u001b[1m813/813\u001b[0m \u001b[32m━━━━━━━━━━━━━━━━━━━━\u001b[0m\u001b[37m\u001b[0m \u001b[1m241s\u001b[0m 297ms/step - accuracy: 0.9294 - auc: 0.8608 - f1_score: 0.3046 - loss: 0.0444 - precision: 0.6263 - recall: 0.2421 - val_accuracy: 0.9360 - val_auc: 0.7568 - val_f1_score: 0.1568 - val_loss: 0.0623 - val_precision: 0.3183 - val_recall: 0.1359 - learning_rate: 1.2500e-05\n"
     ]
    },
    {
     "name": "stderr",
     "output_type": "stream",
     "text": [
      "2025-06-21 02:23:35 - INFO - \n",
      "=== Starting Epoch 23 ===\n",
      "\n"
     ]
    },
    {
     "name": "stdout",
     "output_type": "stream",
     "text": [
      "Epoch 23/100\n",
      "\u001b[1m813/813\u001b[0m \u001b[32m━━━━━━━━━━━━━━━━━━━━\u001b[0m\u001b[37m\u001b[0m \u001b[1m0s\u001b[0m 263ms/step - accuracy: 0.9305 - auc: 0.8680 - f1_score: 0.3160 - loss: 0.0430 - precision: 0.6350 - recall: 0.2511  \n",
      "Epoch 23: ReduceLROnPlateau reducing learning rate to 6.24999984211172e-06.\n"
     ]
    },
    {
     "name": "stderr",
     "output_type": "stream",
     "text": [
      "2025-06-21 02:27:27 - INFO - \n",
      "=== Epoch 23 Summary ===\n",
      "2025-06-21 02:27:27 - INFO - Time: 232.30s\n",
      "2025-06-21 02:27:27 - INFO - Training   - accuracy: 0.9310 - auc: 0.8714 - f1_score: 0.3240 - loss: 0.0424 - precision: 0.6414 - recall: 0.2584 - learning_rate: 0.0000\n",
      "2025-06-21 02:27:27 - INFO - Validation - accuracy: 0.9346 - auc: 0.7497 - f1_score: 0.1385 - loss: 0.0653 - precision: 0.2839 - recall: 0.1184\n",
      "2025-06-21 02:27:27 - INFO - ==================================================\n",
      "\n"
     ]
    },
    {
     "name": "stdout",
     "output_type": "stream",
     "text": [
      "\u001b[1m813/813\u001b[0m \u001b[32m━━━━━━━━━━━━━━━━━━━━\u001b[0m\u001b[37m\u001b[0m \u001b[1m232s\u001b[0m 286ms/step - accuracy: 0.9305 - auc: 0.8680 - f1_score: 0.3160 - loss: 0.0430 - precision: 0.6350 - recall: 0.2512 - val_accuracy: 0.9346 - val_auc: 0.7497 - val_f1_score: 0.1385 - val_loss: 0.0653 - val_precision: 0.2839 - val_recall: 0.1184 - learning_rate: 1.2500e-05\n"
     ]
    },
    {
     "name": "stderr",
     "output_type": "stream",
     "text": [
      "2025-06-21 02:27:27 - INFO - \n",
      "=== Starting Epoch 24 ===\n",
      "\n"
     ]
    },
    {
     "name": "stdout",
     "output_type": "stream",
     "text": [
      "Epoch 24/100\n",
      "\u001b[1m813/813\u001b[0m \u001b[32m━━━━━━━━━━━━━━━━━━━━\u001b[0m\u001b[37m\u001b[0m \u001b[1m0s\u001b[0m 262ms/step - accuracy: 0.9319 - auc: 0.8768 - f1_score: 0.3455 - loss: 0.0415 - precision: 0.6502 - recall: 0.2767  "
     ]
    },
    {
     "name": "stderr",
     "output_type": "stream",
     "text": [
      "2025-06-21 02:31:18 - INFO - \n",
      "=== Epoch 24 Summary ===\n",
      "2025-06-21 02:31:18 - INFO - Time: 231.35s\n",
      "2025-06-21 02:31:18 - INFO - Training   - accuracy: 0.9325 - auc: 0.8804 - f1_score: 0.3509 - loss: 0.0408 - precision: 0.6550 - recall: 0.2817 - learning_rate: 0.0000\n",
      "2025-06-21 02:31:18 - INFO - Validation - accuracy: 0.9369 - auc: 0.7603 - f1_score: 0.1653 - loss: 0.0619 - precision: 0.3253 - recall: 0.1305\n",
      "2025-06-21 02:31:18 - INFO - ==================================================\n",
      "\n"
     ]
    },
    {
     "name": "stdout",
     "output_type": "stream",
     "text": [
      "\u001b[1m813/813\u001b[0m \u001b[32m━━━━━━━━━━━━━━━━━━━━\u001b[0m\u001b[37m\u001b[0m \u001b[1m231s\u001b[0m 285ms/step - accuracy: 0.9319 - auc: 0.8768 - f1_score: 0.3455 - loss: 0.0415 - precision: 0.6502 - recall: 0.2767 - val_accuracy: 0.9369 - val_auc: 0.7603 - val_f1_score: 0.1653 - val_loss: 0.0619 - val_precision: 0.3253 - val_recall: 0.1305 - learning_rate: 6.2500e-06\n"
     ]
    },
    {
     "name": "stderr",
     "output_type": "stream",
     "text": [
      "2025-06-21 02:31:18 - INFO - \n",
      "=== Starting Epoch 25 ===\n",
      "\n"
     ]
    },
    {
     "name": "stdout",
     "output_type": "stream",
     "text": [
      "Epoch 25/100\n",
      "\u001b[1m813/813\u001b[0m \u001b[32m━━━━━━━━━━━━━━━━━━━━\u001b[0m\u001b[37m\u001b[0m \u001b[1m0s\u001b[0m 262ms/step - accuracy: 0.9328 - auc: 0.8819 - f1_score: 0.3608 - loss: 0.0404 - precision: 0.6558 - recall: 0.2897  "
     ]
    },
    {
     "name": "stderr",
     "output_type": "stream",
     "text": [
      "2025-06-21 02:35:10 - INFO - \n",
      "=== Epoch 25 Summary ===\n",
      "2025-06-21 02:35:10 - INFO - Time: 231.16s\n",
      "2025-06-21 02:35:10 - INFO - Training   - accuracy: 0.9334 - auc: 0.8846 - f1_score: 0.3665 - loss: 0.0399 - precision: 0.6620 - recall: 0.2948 - learning_rate: 0.0000\n",
      "2025-06-21 02:35:10 - INFO - Validation - accuracy: 0.9367 - auc: 0.7589 - f1_score: 0.1685 - loss: 0.0623 - precision: 0.3310 - recall: 0.1398\n",
      "2025-06-21 02:35:10 - INFO - ==================================================\n",
      "\n"
     ]
    },
    {
     "name": "stdout",
     "output_type": "stream",
     "text": [
      "\u001b[1m813/813\u001b[0m \u001b[32m━━━━━━━━━━━━━━━━━━━━\u001b[0m\u001b[37m\u001b[0m \u001b[1m231s\u001b[0m 284ms/step - accuracy: 0.9328 - auc: 0.8819 - f1_score: 0.3608 - loss: 0.0404 - precision: 0.6558 - recall: 0.2897 - val_accuracy: 0.9367 - val_auc: 0.7589 - val_f1_score: 0.1685 - val_loss: 0.0623 - val_precision: 0.3310 - val_recall: 0.1398 - learning_rate: 6.2500e-06\n"
     ]
    },
    {
     "name": "stderr",
     "output_type": "stream",
     "text": [
      "2025-06-21 02:35:10 - INFO - \n",
      "=== Starting Epoch 26 ===\n",
      "\n"
     ]
    },
    {
     "name": "stdout",
     "output_type": "stream",
     "text": [
      "Epoch 26/100\n",
      "\u001b[1m813/813\u001b[0m \u001b[32m━━━━━━━━━━━━━━━━━━━━\u001b[0m\u001b[37m\u001b[0m \u001b[1m0s\u001b[0m 263ms/step - accuracy: 0.9337 - auc: 0.8859 - f1_score: 0.3736 - loss: 0.0397 - precision: 0.6623 - recall: 0.3014  "
     ]
    },
    {
     "name": "stderr",
     "output_type": "stream",
     "text": [
      "2025-06-21 02:39:03 - INFO - \n",
      "=== Epoch 26 Summary ===\n",
      "2025-06-21 02:39:03 - INFO - Time: 233.83s\n",
      "2025-06-21 02:39:03 - INFO - Training   - accuracy: 0.9339 - auc: 0.8885 - f1_score: 0.3766 - loss: 0.0393 - precision: 0.6644 - recall: 0.3041 - learning_rate: 0.0000\n",
      "2025-06-21 02:39:03 - INFO - Validation - accuracy: 0.9341 - auc: 0.7549 - f1_score: 0.1759 - loss: 0.0643 - precision: 0.3055 - recall: 0.1487\n",
      "2025-06-21 02:39:03 - INFO - ==================================================\n",
      "\n"
     ]
    },
    {
     "name": "stdout",
     "output_type": "stream",
     "text": [
      "\u001b[1m813/813\u001b[0m \u001b[32m━━━━━━━━━━━━━━━━━━━━\u001b[0m\u001b[37m\u001b[0m \u001b[1m234s\u001b[0m 288ms/step - accuracy: 0.9337 - auc: 0.8859 - f1_score: 0.3736 - loss: 0.0397 - precision: 0.6623 - recall: 0.3014 - val_accuracy: 0.9341 - val_auc: 0.7549 - val_f1_score: 0.1759 - val_loss: 0.0643 - val_precision: 0.3055 - val_recall: 0.1487 - learning_rate: 6.2500e-06\n"
     ]
    },
    {
     "name": "stderr",
     "output_type": "stream",
     "text": [
      "2025-06-21 02:39:04 - INFO - \n",
      "=== Starting Epoch 27 ===\n",
      "\n"
     ]
    },
    {
     "name": "stdout",
     "output_type": "stream",
     "text": [
      "Epoch 27/100\n",
      "\u001b[1m813/813\u001b[0m \u001b[32m━━━━━━━━━━━━━━━━━━━━\u001b[0m\u001b[37m\u001b[0m \u001b[1m0s\u001b[0m 262ms/step - accuracy: 0.9343 - auc: 0.8897 - f1_score: 0.3876 - loss: 0.0391 - precision: 0.6683 - recall: 0.3132  "
     ]
    },
    {
     "name": "stderr",
     "output_type": "stream",
     "text": [
      "2025-06-21 02:42:50 - INFO - \n",
      "=== Epoch 27 Summary ===\n",
      "2025-06-21 02:42:50 - INFO - Time: 226.75s\n",
      "2025-06-21 02:42:50 - INFO - Training   - accuracy: 0.9347 - auc: 0.8921 - f1_score: 0.3885 - loss: 0.0386 - precision: 0.6705 - recall: 0.3143 - learning_rate: 0.0000\n",
      "2025-06-21 02:42:50 - INFO - Validation - accuracy: 0.9350 - auc: 0.7549 - f1_score: 0.1723 - loss: 0.0642 - precision: 0.3159 - recall: 0.1482\n",
      "2025-06-21 02:42:50 - INFO - ==================================================\n",
      "\n"
     ]
    },
    {
     "name": "stdout",
     "output_type": "stream",
     "text": [
      "\u001b[1m813/813\u001b[0m \u001b[32m━━━━━━━━━━━━━━━━━━━━\u001b[0m\u001b[37m\u001b[0m \u001b[1m227s\u001b[0m 279ms/step - accuracy: 0.9343 - auc: 0.8897 - f1_score: 0.3876 - loss: 0.0391 - precision: 0.6683 - recall: 0.3132 - val_accuracy: 0.9350 - val_auc: 0.7549 - val_f1_score: 0.1723 - val_loss: 0.0642 - val_precision: 0.3159 - val_recall: 0.1482 - learning_rate: 6.2500e-06\n"
     ]
    },
    {
     "name": "stderr",
     "output_type": "stream",
     "text": [
      "2025-06-21 02:42:50 - INFO - \n",
      "=== Starting Epoch 28 ===\n",
      "\n"
     ]
    },
    {
     "name": "stdout",
     "output_type": "stream",
     "text": [
      "Epoch 28/100\n",
      "\u001b[1m813/813\u001b[0m \u001b[32m━━━━━━━━━━━━━━━━━━━━\u001b[0m\u001b[37m\u001b[0m \u001b[1m0s\u001b[0m 273ms/step - accuracy: 0.9345 - auc: 0.8920 - f1_score: 0.3928 - loss: 0.0384 - precision: 0.6709 - recall: 0.3184  "
     ]
    },
    {
     "name": "stderr",
     "output_type": "stream",
     "text": [
      "2025-06-21 02:46:47 - INFO - \n",
      "=== Epoch 28 Summary ===\n",
      "2025-06-21 02:46:47 - INFO - Time: 236.31s\n",
      "2025-06-21 02:46:47 - INFO - Training   - accuracy: 0.9351 - auc: 0.8953 - f1_score: 0.3972 - loss: 0.0379 - precision: 0.6750 - recall: 0.3222 - learning_rate: 0.0000\n",
      "2025-06-21 02:46:47 - INFO - Validation - accuracy: 0.9344 - auc: 0.7574 - f1_score: 0.1843 - loss: 0.0638 - precision: 0.3077 - recall: 0.1470\n",
      "2025-06-21 02:46:47 - INFO - ==================================================\n",
      "\n"
     ]
    },
    {
     "name": "stdout",
     "output_type": "stream",
     "text": [
      "\u001b[1m813/813\u001b[0m \u001b[32m━━━━━━━━━━━━━━━━━━━━\u001b[0m\u001b[37m\u001b[0m \u001b[1m236s\u001b[0m 291ms/step - accuracy: 0.9345 - auc: 0.8920 - f1_score: 0.3928 - loss: 0.0384 - precision: 0.6709 - recall: 0.3184 - val_accuracy: 0.9344 - val_auc: 0.7574 - val_f1_score: 0.1843 - val_loss: 0.0638 - val_precision: 0.3077 - val_recall: 0.1470 - learning_rate: 6.2500e-06\n"
     ]
    },
    {
     "name": "stderr",
     "output_type": "stream",
     "text": [
      "2025-06-21 02:46:47 - INFO - \n",
      "=== Starting Epoch 29 ===\n",
      "\n"
     ]
    },
    {
     "name": "stdout",
     "output_type": "stream",
     "text": [
      "Epoch 29/100\n",
      "\u001b[1m813/813\u001b[0m \u001b[32m━━━━━━━━━━━━━━━━━━━━\u001b[0m\u001b[37m\u001b[0m \u001b[1m0s\u001b[0m 273ms/step - accuracy: 0.9353 - auc: 0.8951 - f1_score: 0.4025 - loss: 0.0378 - precision: 0.6743 - recall: 0.3281  "
     ]
    },
    {
     "name": "stderr",
     "output_type": "stream",
     "text": [
      "2025-06-21 02:50:42 - INFO - \n",
      "=== Epoch 29 Summary ===\n",
      "2025-06-21 02:50:42 - INFO - Time: 235.66s\n",
      "2025-06-21 02:50:42 - INFO - Training   - accuracy: 0.9358 - auc: 0.8976 - f1_score: 0.4047 - loss: 0.0374 - precision: 0.6784 - recall: 0.3299 - learning_rate: 0.0000\n",
      "2025-06-21 02:50:42 - INFO - Validation - accuracy: 0.9352 - auc: 0.7561 - f1_score: 0.1835 - loss: 0.0641 - precision: 0.3204 - recall: 0.1510\n",
      "2025-06-21 02:50:42 - INFO - ==================================================\n",
      "\n"
     ]
    },
    {
     "name": "stdout",
     "output_type": "stream",
     "text": [
      "\u001b[1m813/813\u001b[0m \u001b[32m━━━━━━━━━━━━━━━━━━━━\u001b[0m\u001b[37m\u001b[0m \u001b[1m236s\u001b[0m 290ms/step - accuracy: 0.9353 - auc: 0.8951 - f1_score: 0.4025 - loss: 0.0378 - precision: 0.6743 - recall: 0.3281 - val_accuracy: 0.9352 - val_auc: 0.7561 - val_f1_score: 0.1835 - val_loss: 0.0641 - val_precision: 0.3204 - val_recall: 0.1510 - learning_rate: 6.2500e-06\n"
     ]
    },
    {
     "name": "stderr",
     "output_type": "stream",
     "text": [
      "2025-06-21 02:50:42 - INFO - \n",
      "=== Starting Epoch 30 ===\n",
      "\n"
     ]
    },
    {
     "name": "stdout",
     "output_type": "stream",
     "text": [
      "Epoch 30/100\n",
      "\u001b[1m813/813\u001b[0m \u001b[32m━━━━━━━━━━━━━━━━━━━━\u001b[0m\u001b[37m\u001b[0m \u001b[1m0s\u001b[0m 273ms/step - accuracy: 0.9357 - auc: 0.8998 - f1_score: 0.4132 - loss: 0.0372 - precision: 0.6818 - recall: 0.3358  "
     ]
    },
    {
     "name": "stderr",
     "output_type": "stream",
     "text": [
      "2025-06-21 02:54:39 - INFO - \n",
      "=== Epoch 30 Summary ===\n",
      "2025-06-21 02:54:39 - INFO - Time: 236.17s\n",
      "2025-06-21 02:54:39 - INFO - Training   - accuracy: 0.9362 - auc: 0.9012 - f1_score: 0.4148 - loss: 0.0368 - precision: 0.6828 - recall: 0.3378 - learning_rate: 0.0000\n",
      "2025-06-21 02:54:39 - INFO - Validation - accuracy: 0.9331 - auc: 0.7578 - f1_score: 0.2017 - loss: 0.0646 - precision: 0.3123 - recall: 0.1729\n",
      "2025-06-21 02:54:39 - INFO - ==================================================\n",
      "\n"
     ]
    },
    {
     "name": "stdout",
     "output_type": "stream",
     "text": [
      "\u001b[1m813/813\u001b[0m \u001b[32m━━━━━━━━━━━━━━━━━━━━\u001b[0m\u001b[37m\u001b[0m \u001b[1m236s\u001b[0m 291ms/step - accuracy: 0.9357 - auc: 0.8998 - f1_score: 0.4132 - loss: 0.0372 - precision: 0.6818 - recall: 0.3358 - val_accuracy: 0.9331 - val_auc: 0.7578 - val_f1_score: 0.2017 - val_loss: 0.0646 - val_precision: 0.3123 - val_recall: 0.1729 - learning_rate: 6.2500e-06\n"
     ]
    },
    {
     "name": "stderr",
     "output_type": "stream",
     "text": [
      "2025-06-21 02:54:39 - INFO - \n",
      "=== Starting Epoch 31 ===\n",
      "\n"
     ]
    },
    {
     "name": "stdout",
     "output_type": "stream",
     "text": [
      "Epoch 31/100\n",
      "\u001b[1m813/813\u001b[0m \u001b[32m━━━━━━━━━━━━━━━━━━━━\u001b[0m\u001b[37m\u001b[0m \u001b[1m0s\u001b[0m 273ms/step - accuracy: 0.9365 - auc: 0.9018 - f1_score: 0.4244 - loss: 0.0366 - precision: 0.6867 - recall: 0.3470  "
     ]
    },
    {
     "name": "stderr",
     "output_type": "stream",
     "text": [
      "2025-06-21 02:58:34 - INFO - \n",
      "=== Epoch 31 Summary ===\n",
      "2025-06-21 02:58:34 - INFO - Time: 235.17s\n",
      "2025-06-21 02:58:34 - INFO - Training   - accuracy: 0.9370 - auc: 0.9038 - f1_score: 0.4262 - loss: 0.0363 - precision: 0.6875 - recall: 0.3485 - learning_rate: 0.0000\n",
      "2025-06-21 02:58:34 - INFO - Validation - accuracy: 0.9344 - auc: 0.7528 - f1_score: 0.1764 - loss: 0.0644 - precision: 0.3131 - recall: 0.1542\n",
      "2025-06-21 02:58:34 - INFO - ==================================================\n",
      "\n"
     ]
    },
    {
     "name": "stdout",
     "output_type": "stream",
     "text": [
      "\u001b[1m813/813\u001b[0m \u001b[32m━━━━━━━━━━━━━━━━━━━━\u001b[0m\u001b[37m\u001b[0m \u001b[1m235s\u001b[0m 289ms/step - accuracy: 0.9365 - auc: 0.9018 - f1_score: 0.4244 - loss: 0.0366 - precision: 0.6867 - recall: 0.3470 - val_accuracy: 0.9344 - val_auc: 0.7528 - val_f1_score: 0.1764 - val_loss: 0.0644 - val_precision: 0.3131 - val_recall: 0.1542 - learning_rate: 6.2500e-06\n"
     ]
    },
    {
     "name": "stderr",
     "output_type": "stream",
     "text": [
      "2025-06-21 02:58:34 - INFO - \n",
      "=== Starting Epoch 32 ===\n",
      "\n"
     ]
    },
    {
     "name": "stdout",
     "output_type": "stream",
     "text": [
      "Epoch 32/100\n",
      "\u001b[1m813/813\u001b[0m \u001b[32m━━━━━━━━━━━━━━━━━━━━\u001b[0m\u001b[37m\u001b[0m \u001b[1m0s\u001b[0m 276ms/step - accuracy: 0.9375 - auc: 0.9049 - f1_score: 0.4339 - loss: 0.0359 - precision: 0.6948 - recall: 0.3539  "
     ]
    },
    {
     "name": "stderr",
     "output_type": "stream",
     "text": [
      "2025-06-21 03:02:31 - INFO - \n",
      "=== Epoch 32 Summary ===\n",
      "2025-06-21 03:02:31 - INFO - Time: 237.66s\n",
      "2025-06-21 03:02:31 - INFO - Training   - accuracy: 0.9376 - auc: 0.9069 - f1_score: 0.4346 - loss: 0.0357 - precision: 0.6945 - recall: 0.3549 - learning_rate: 0.0000\n",
      "2025-06-21 03:02:31 - INFO - Validation - accuracy: 0.9305 - auc: 0.7484 - f1_score: 0.1907 - loss: 0.0671 - precision: 0.2833 - recall: 0.1662\n",
      "2025-06-21 03:02:31 - INFO - ==================================================\n",
      "\n"
     ]
    },
    {
     "name": "stdout",
     "output_type": "stream",
     "text": [
      "\u001b[1m813/813\u001b[0m \u001b[32m━━━━━━━━━━━━━━━━━━━━\u001b[0m\u001b[37m\u001b[0m \u001b[1m238s\u001b[0m 292ms/step - accuracy: 0.9375 - auc: 0.9049 - f1_score: 0.4339 - loss: 0.0359 - precision: 0.6948 - recall: 0.3539 - val_accuracy: 0.9305 - val_auc: 0.7484 - val_f1_score: 0.1907 - val_loss: 0.0671 - val_precision: 0.2833 - val_recall: 0.1662 - learning_rate: 6.2500e-06\n"
     ]
    },
    {
     "name": "stderr",
     "output_type": "stream",
     "text": [
      "2025-06-21 03:02:31 - INFO - \n",
      "=== Starting Epoch 33 ===\n",
      "\n"
     ]
    },
    {
     "name": "stdout",
     "output_type": "stream",
     "text": [
      "Epoch 33/100\n",
      "\u001b[1m813/813\u001b[0m \u001b[32m━━━━━━━━━━━━━━━━━━━━\u001b[0m\u001b[37m\u001b[0m \u001b[1m0s\u001b[0m 268ms/step - accuracy: 0.9376 - auc: 0.9077 - f1_score: 0.4410 - loss: 0.0357 - precision: 0.6910 - recall: 0.3624  \n",
      "Epoch 33: ReduceLROnPlateau reducing learning rate to 3.12499992105586e-06.\n"
     ]
    },
    {
     "name": "stderr",
     "output_type": "stream",
     "text": [
      "2025-06-21 03:06:23 - INFO - \n",
      "=== Epoch 33 Summary ===\n",
      "2025-06-21 03:06:23 - INFO - Time: 231.53s\n",
      "2025-06-21 03:06:23 - INFO - Training   - accuracy: 0.9380 - auc: 0.9097 - f1_score: 0.4446 - loss: 0.0354 - precision: 0.6924 - recall: 0.3659 - learning_rate: 0.0000\n",
      "2025-06-21 03:06:23 - INFO - Validation - accuracy: 0.9316 - auc: 0.7501 - f1_score: 0.1904 - loss: 0.0676 - precision: 0.2886 - recall: 0.1602\n",
      "2025-06-21 03:06:23 - INFO - ==================================================\n",
      "\n"
     ]
    },
    {
     "name": "stdout",
     "output_type": "stream",
     "text": [
      "\u001b[1m813/813\u001b[0m \u001b[32m━━━━━━━━━━━━━━━━━━━━\u001b[0m\u001b[37m\u001b[0m \u001b[1m232s\u001b[0m 285ms/step - accuracy: 0.9376 - auc: 0.9077 - f1_score: 0.4410 - loss: 0.0357 - precision: 0.6910 - recall: 0.3624 - val_accuracy: 0.9316 - val_auc: 0.7501 - val_f1_score: 0.1904 - val_loss: 0.0676 - val_precision: 0.2886 - val_recall: 0.1602 - learning_rate: 6.2500e-06\n"
     ]
    },
    {
     "name": "stderr",
     "output_type": "stream",
     "text": [
      "2025-06-21 03:06:23 - INFO - \n",
      "=== Starting Epoch 34 ===\n",
      "\n"
     ]
    },
    {
     "name": "stdout",
     "output_type": "stream",
     "text": [
      "Epoch 34/100\n",
      "\u001b[1m813/813\u001b[0m \u001b[32m━━━━━━━━━━━━━━━━━━━━\u001b[0m\u001b[37m\u001b[0m \u001b[1m0s\u001b[0m 273ms/step - accuracy: 0.9389 - auc: 0.9116 - f1_score: 0.4514 - loss: 0.0347 - precision: 0.7016 - recall: 0.3709  "
     ]
    },
    {
     "name": "stderr",
     "output_type": "stream",
     "text": [
      "2025-06-21 03:10:19 - INFO - \n",
      "=== Epoch 34 Summary ===\n",
      "2025-06-21 03:10:19 - INFO - Time: 235.53s\n",
      "2025-06-21 03:10:19 - INFO - Training   - accuracy: 0.9393 - auc: 0.9143 - f1_score: 0.4572 - loss: 0.0343 - precision: 0.7041 - recall: 0.3767 - learning_rate: 0.0000\n",
      "2025-06-21 03:10:19 - INFO - Validation - accuracy: 0.9334 - auc: 0.7519 - f1_score: 0.1850 - loss: 0.0669 - precision: 0.3019 - recall: 0.1547\n",
      "2025-06-21 03:10:19 - INFO - ==================================================\n",
      "\n"
     ]
    },
    {
     "name": "stdout",
     "output_type": "stream",
     "text": [
      "\u001b[1m813/813\u001b[0m \u001b[32m━━━━━━━━━━━━━━━━━━━━\u001b[0m\u001b[37m\u001b[0m \u001b[1m236s\u001b[0m 290ms/step - accuracy: 0.9389 - auc: 0.9116 - f1_score: 0.4514 - loss: 0.0347 - precision: 0.7016 - recall: 0.3709 - val_accuracy: 0.9334 - val_auc: 0.7519 - val_f1_score: 0.1850 - val_loss: 0.0669 - val_precision: 0.3019 - val_recall: 0.1547 - learning_rate: 3.1250e-06\n"
     ]
    },
    {
     "name": "stderr",
     "output_type": "stream",
     "text": [
      "2025-06-21 03:10:19 - INFO - \n",
      "=== Starting Epoch 35 ===\n",
      "\n"
     ]
    },
    {
     "name": "stdout",
     "output_type": "stream",
     "text": [
      "Epoch 35/100\n",
      "\u001b[1m813/813\u001b[0m \u001b[32m━━━━━━━━━━━━━━━━━━━━\u001b[0m\u001b[37m\u001b[0m \u001b[1m0s\u001b[0m 276ms/step - accuracy: 0.9390 - auc: 0.9141 - f1_score: 0.4605 - loss: 0.0344 - precision: 0.7065 - recall: 0.3785  "
     ]
    },
    {
     "name": "stderr",
     "output_type": "stream",
     "text": [
      "2025-06-21 03:14:16 - INFO - \n",
      "=== Epoch 35 Summary ===\n",
      "2025-06-21 03:14:16 - INFO - Time: 237.85s\n",
      "2025-06-21 03:14:16 - INFO - Training   - accuracy: 0.9396 - auc: 0.9162 - f1_score: 0.4640 - loss: 0.0340 - precision: 0.7079 - recall: 0.3825 - learning_rate: 0.0000\n",
      "2025-06-21 03:14:16 - INFO - Validation - accuracy: 0.9348 - auc: 0.7554 - f1_score: 0.1952 - loss: 0.0653 - precision: 0.3286 - recall: 0.1696\n",
      "2025-06-21 03:14:16 - INFO - ==================================================\n",
      "\n"
     ]
    },
    {
     "name": "stdout",
     "output_type": "stream",
     "text": [
      "\u001b[1m813/813\u001b[0m \u001b[32m━━━━━━━━━━━━━━━━━━━━\u001b[0m\u001b[37m\u001b[0m \u001b[1m238s\u001b[0m 293ms/step - accuracy: 0.9390 - auc: 0.9142 - f1_score: 0.4605 - loss: 0.0344 - precision: 0.7065 - recall: 0.3785 - val_accuracy: 0.9348 - val_auc: 0.7554 - val_f1_score: 0.1952 - val_loss: 0.0653 - val_precision: 0.3286 - val_recall: 0.1696 - learning_rate: 3.1250e-06\n"
     ]
    },
    {
     "name": "stderr",
     "output_type": "stream",
     "text": [
      "2025-06-21 03:14:16 - INFO - \n",
      "=== Starting Epoch 36 ===\n",
      "\n"
     ]
    },
    {
     "name": "stdout",
     "output_type": "stream",
     "text": [
      "Epoch 36/100\n",
      "\u001b[1m813/813\u001b[0m \u001b[32m━━━━━━━━━━━━━━━━━━━━\u001b[0m\u001b[37m\u001b[0m \u001b[1m0s\u001b[0m 276ms/step - accuracy: 0.9397 - auc: 0.9159 - f1_score: 0.4675 - loss: 0.0340 - precision: 0.7077 - recall: 0.3858  "
     ]
    },
    {
     "name": "stderr",
     "output_type": "stream",
     "text": [
      "2025-06-21 03:18:15 - INFO - \n",
      "=== Epoch 36 Summary ===\n",
      "2025-06-21 03:18:15 - INFO - Time: 238.68s\n",
      "2025-06-21 03:18:15 - INFO - Training   - accuracy: 0.9400 - auc: 0.9177 - f1_score: 0.4707 - loss: 0.0337 - precision: 0.7080 - recall: 0.3898 - learning_rate: 0.0000\n",
      "2025-06-21 03:18:15 - INFO - Validation - accuracy: 0.9339 - auc: 0.7552 - f1_score: 0.2050 - loss: 0.0655 - precision: 0.3179 - recall: 0.1689\n",
      "2025-06-21 03:18:15 - INFO - ==================================================\n",
      "\n"
     ]
    },
    {
     "name": "stdout",
     "output_type": "stream",
     "text": [
      "\u001b[1m813/813\u001b[0m \u001b[32m━━━━━━━━━━━━━━━━━━━━\u001b[0m\u001b[37m\u001b[0m \u001b[1m239s\u001b[0m 294ms/step - accuracy: 0.9397 - auc: 0.9159 - f1_score: 0.4675 - loss: 0.0340 - precision: 0.7077 - recall: 0.3858 - val_accuracy: 0.9339 - val_auc: 0.7552 - val_f1_score: 0.2050 - val_loss: 0.0655 - val_precision: 0.3179 - val_recall: 0.1689 - learning_rate: 3.1250e-06\n"
     ]
    },
    {
     "name": "stderr",
     "output_type": "stream",
     "text": [
      "2025-06-21 03:18:15 - INFO - \n",
      "=== Starting Epoch 37 ===\n",
      "\n"
     ]
    },
    {
     "name": "stdout",
     "output_type": "stream",
     "text": [
      "Epoch 37/100\n",
      "\u001b[1m813/813\u001b[0m \u001b[32m━━━━━━━━━━━━━━━━━━━━\u001b[0m\u001b[37m\u001b[0m \u001b[1m0s\u001b[0m 275ms/step - accuracy: 0.9406 - auc: 0.9195 - f1_score: 0.4804 - loss: 0.0332 - precision: 0.7139 - recall: 0.3981  "
     ]
    },
    {
     "name": "stderr",
     "output_type": "stream",
     "text": [
      "2025-06-21 03:22:13 - INFO - \n",
      "=== Epoch 37 Summary ===\n",
      "2025-06-21 03:22:13 - INFO - Time: 237.46s\n",
      "2025-06-21 03:22:13 - INFO - Training   - accuracy: 0.9407 - auc: 0.9204 - f1_score: 0.4800 - loss: 0.0331 - precision: 0.7128 - recall: 0.3987 - learning_rate: 0.0000\n",
      "2025-06-21 03:22:13 - INFO - Validation - accuracy: 0.9331 - auc: 0.7533 - f1_score: 0.2013 - loss: 0.0676 - precision: 0.3073 - recall: 0.1661\n",
      "2025-06-21 03:22:13 - INFO - ==================================================\n",
      "\n"
     ]
    },
    {
     "name": "stdout",
     "output_type": "stream",
     "text": [
      "\u001b[1m813/813\u001b[0m \u001b[32m━━━━━━━━━━━━━━━━━━━━\u001b[0m\u001b[37m\u001b[0m \u001b[1m237s\u001b[0m 292ms/step - accuracy: 0.9406 - auc: 0.9195 - f1_score: 0.4804 - loss: 0.0332 - precision: 0.7139 - recall: 0.3981 - val_accuracy: 0.9331 - val_auc: 0.7533 - val_f1_score: 0.2013 - val_loss: 0.0676 - val_precision: 0.3073 - val_recall: 0.1661 - learning_rate: 3.1250e-06\n"
     ]
    },
    {
     "name": "stderr",
     "output_type": "stream",
     "text": [
      "2025-06-21 03:22:13 - INFO - \n",
      "=== Starting Epoch 38 ===\n",
      "\n"
     ]
    },
    {
     "name": "stdout",
     "output_type": "stream",
     "text": [
      "Epoch 38/100\n",
      "\u001b[1m813/813\u001b[0m \u001b[32m━━━━━━━━━━━━━━━━━━━━\u001b[0m\u001b[37m\u001b[0m \u001b[1m0s\u001b[0m 276ms/step - accuracy: 0.9407 - auc: 0.9192 - f1_score: 0.4844 - loss: 0.0332 - precision: 0.7129 - recall: 0.4026  "
     ]
    },
    {
     "name": "stderr",
     "output_type": "stream",
     "text": [
      "2025-06-21 03:26:10 - INFO - \n",
      "=== Epoch 38 Summary ===\n",
      "2025-06-21 03:26:10 - INFO - Time: 237.78s\n",
      "2025-06-21 03:26:10 - INFO - Training   - accuracy: 0.9410 - auc: 0.9210 - f1_score: 0.4847 - loss: 0.0329 - precision: 0.7134 - recall: 0.4029 - learning_rate: 0.0000\n",
      "2025-06-21 03:26:10 - INFO - Validation - accuracy: 0.9329 - auc: 0.7531 - f1_score: 0.2017 - loss: 0.0661 - precision: 0.3089 - recall: 0.1710\n",
      "2025-06-21 03:26:10 - INFO - ==================================================\n",
      "\n"
     ]
    },
    {
     "name": "stdout",
     "output_type": "stream",
     "text": [
      "\u001b[1m813/813\u001b[0m \u001b[32m━━━━━━━━━━━━━━━━━━━━\u001b[0m\u001b[37m\u001b[0m \u001b[1m238s\u001b[0m 293ms/step - accuracy: 0.9407 - auc: 0.9192 - f1_score: 0.4844 - loss: 0.0332 - precision: 0.7129 - recall: 0.4026 - val_accuracy: 0.9329 - val_auc: 0.7531 - val_f1_score: 0.2017 - val_loss: 0.0661 - val_precision: 0.3089 - val_recall: 0.1710 - learning_rate: 3.1250e-06\n"
     ]
    },
    {
     "name": "stderr",
     "output_type": "stream",
     "text": [
      "2025-06-21 03:26:10 - INFO - \n",
      "=== Starting Epoch 39 ===\n",
      "\n"
     ]
    },
    {
     "name": "stdout",
     "output_type": "stream",
     "text": [
      "Epoch 39/100\n",
      "\u001b[1m813/813\u001b[0m \u001b[32m━━━━━━━━━━━━━━━━━━━━\u001b[0m\u001b[37m\u001b[0m \u001b[1m0s\u001b[0m 276ms/step - accuracy: 0.9413 - auc: 0.9223 - f1_score: 0.4924 - loss: 0.0328 - precision: 0.7203 - recall: 0.4103  "
     ]
    },
    {
     "name": "stderr",
     "output_type": "stream",
     "text": [
      "2025-06-21 03:30:09 - INFO - \n",
      "=== Epoch 39 Summary ===\n",
      "2025-06-21 03:30:09 - INFO - Time: 238.77s\n",
      "2025-06-21 03:30:09 - INFO - Training   - accuracy: 0.9416 - auc: 0.9232 - f1_score: 0.4924 - loss: 0.0325 - precision: 0.7194 - recall: 0.4105 - learning_rate: 0.0000\n",
      "2025-06-21 03:30:09 - INFO - Validation - accuracy: 0.9338 - auc: 0.7580 - f1_score: 0.2080 - loss: 0.0665 - precision: 0.3190 - recall: 0.1715\n",
      "2025-06-21 03:30:09 - INFO - ==================================================\n",
      "\n"
     ]
    },
    {
     "name": "stdout",
     "output_type": "stream",
     "text": [
      "\u001b[1m813/813\u001b[0m \u001b[32m━━━━━━━━━━━━━━━━━━━━\u001b[0m\u001b[37m\u001b[0m \u001b[1m239s\u001b[0m 294ms/step - accuracy: 0.9413 - auc: 0.9223 - f1_score: 0.4924 - loss: 0.0328 - precision: 0.7203 - recall: 0.4103 - val_accuracy: 0.9338 - val_auc: 0.7580 - val_f1_score: 0.2080 - val_loss: 0.0665 - val_precision: 0.3190 - val_recall: 0.1715 - learning_rate: 3.1250e-06\n"
     ]
    },
    {
     "name": "stderr",
     "output_type": "stream",
     "text": [
      "2025-06-21 03:30:09 - INFO - \n",
      "=== Starting Epoch 40 ===\n",
      "\n"
     ]
    },
    {
     "name": "stdout",
     "output_type": "stream",
     "text": [
      "Epoch 40/100\n",
      "\u001b[1m813/813\u001b[0m \u001b[32m━━━━━━━━━━━━━━━━━━━━\u001b[0m\u001b[37m\u001b[0m \u001b[1m0s\u001b[0m 275ms/step - accuracy: 0.9417 - auc: 0.9230 - f1_score: 0.4928 - loss: 0.0326 - precision: 0.7170 - recall: 0.4101  "
     ]
    },
    {
     "name": "stderr",
     "output_type": "stream",
     "text": [
      "2025-06-21 03:34:07 - INFO - \n",
      "=== Epoch 40 Summary ===\n",
      "2025-06-21 03:34:07 - INFO - Time: 237.32s\n",
      "2025-06-21 03:34:07 - INFO - Training   - accuracy: 0.9417 - auc: 0.9239 - f1_score: 0.4942 - loss: 0.0324 - precision: 0.7172 - recall: 0.4120 - learning_rate: 0.0000\n",
      "2025-06-21 03:34:07 - INFO - Validation - accuracy: 0.9329 - auc: 0.7534 - f1_score: 0.2020 - loss: 0.0676 - precision: 0.3121 - recall: 0.1759\n",
      "2025-06-21 03:34:07 - INFO - ==================================================\n",
      "\n"
     ]
    },
    {
     "name": "stdout",
     "output_type": "stream",
     "text": [
      "\u001b[1m813/813\u001b[0m \u001b[32m━━━━━━━━━━━━━━━━━━━━\u001b[0m\u001b[37m\u001b[0m \u001b[1m237s\u001b[0m 292ms/step - accuracy: 0.9417 - auc: 0.9230 - f1_score: 0.4928 - loss: 0.0326 - precision: 0.7170 - recall: 0.4101 - val_accuracy: 0.9329 - val_auc: 0.7534 - val_f1_score: 0.2020 - val_loss: 0.0676 - val_precision: 0.3121 - val_recall: 0.1759 - learning_rate: 3.1250e-06\n"
     ]
    },
    {
     "name": "stderr",
     "output_type": "stream",
     "text": [
      "2025-06-21 03:34:07 - INFO - \n",
      "=== Starting Epoch 41 ===\n",
      "\n"
     ]
    },
    {
     "name": "stdout",
     "output_type": "stream",
     "text": [
      "Epoch 41/100\n",
      "\u001b[1m813/813\u001b[0m \u001b[32m━━━━━━━━━━━━━━━━━━━━\u001b[0m\u001b[37m\u001b[0m \u001b[1m0s\u001b[0m 320ms/step - accuracy: 0.9417 - auc: 0.9249 - f1_score: 0.5020 - loss: 0.0324 - precision: 0.7212 - recall: 0.4202  "
     ]
    },
    {
     "name": "stderr",
     "output_type": "stream",
     "text": [
      "2025-06-21 03:38:41 - INFO - \n",
      "=== Epoch 41 Summary ===\n",
      "2025-06-21 03:38:41 - INFO - Time: 274.05s\n",
      "2025-06-21 03:38:41 - INFO - Training   - accuracy: 0.9422 - auc: 0.9259 - f1_score: 0.5012 - loss: 0.0321 - precision: 0.7214 - recall: 0.4197 - learning_rate: 0.0000\n",
      "2025-06-21 03:38:41 - INFO - Validation - accuracy: 0.9298 - auc: 0.7544 - f1_score: 0.2191 - loss: 0.0698 - precision: 0.2907 - recall: 0.1856\n",
      "2025-06-21 03:38:41 - INFO - ==================================================\n",
      "\n"
     ]
    },
    {
     "name": "stdout",
     "output_type": "stream",
     "text": [
      "\u001b[1m813/813\u001b[0m \u001b[32m━━━━━━━━━━━━━━━━━━━━\u001b[0m\u001b[37m\u001b[0m \u001b[1m274s\u001b[0m 337ms/step - accuracy: 0.9417 - auc: 0.9249 - f1_score: 0.5020 - loss: 0.0324 - precision: 0.7212 - recall: 0.4202 - val_accuracy: 0.9298 - val_auc: 0.7544 - val_f1_score: 0.2191 - val_loss: 0.0698 - val_precision: 0.2907 - val_recall: 0.1856 - learning_rate: 3.1250e-06\n"
     ]
    },
    {
     "name": "stderr",
     "output_type": "stream",
     "text": [
      "2025-06-21 03:38:41 - INFO - \n",
      "=== Starting Epoch 42 ===\n",
      "\n"
     ]
    },
    {
     "name": "stdout",
     "output_type": "stream",
     "text": [
      "Epoch 42/100\n",
      "\u001b[1m813/813\u001b[0m \u001b[32m━━━━━━━━━━━━━━━━━━━━\u001b[0m\u001b[37m\u001b[0m \u001b[1m0s\u001b[0m 276ms/step - accuracy: 0.9420 - auc: 0.9260 - f1_score: 0.5030 - loss: 0.0322 - precision: 0.7203 - recall: 0.4200  "
     ]
    },
    {
     "name": "stderr",
     "output_type": "stream",
     "text": [
      "2025-06-21 03:42:39 - INFO - \n",
      "=== Epoch 42 Summary ===\n",
      "2025-06-21 03:42:39 - INFO - Time: 238.24s\n",
      "2025-06-21 03:42:39 - INFO - Training   - accuracy: 0.9425 - auc: 0.9271 - f1_score: 0.5054 - loss: 0.0319 - precision: 0.7224 - recall: 0.4226 - learning_rate: 0.0000\n",
      "2025-06-21 03:42:39 - INFO - Validation - accuracy: 0.9324 - auc: 0.7514 - f1_score: 0.1982 - loss: 0.0716 - precision: 0.2989 - recall: 0.1643\n",
      "2025-06-21 03:42:39 - INFO - ==================================================\n",
      "\n"
     ]
    },
    {
     "name": "stdout",
     "output_type": "stream",
     "text": [
      "\u001b[1m813/813\u001b[0m \u001b[32m━━━━━━━━━━━━━━━━━━━━\u001b[0m\u001b[37m\u001b[0m \u001b[1m238s\u001b[0m 293ms/step - accuracy: 0.9420 - auc: 0.9260 - f1_score: 0.5030 - loss: 0.0322 - precision: 0.7203 - recall: 0.4200 - val_accuracy: 0.9324 - val_auc: 0.7514 - val_f1_score: 0.1982 - val_loss: 0.0716 - val_precision: 0.2989 - val_recall: 0.1643 - learning_rate: 3.1250e-06\n"
     ]
    },
    {
     "name": "stderr",
     "output_type": "stream",
     "text": [
      "2025-06-21 03:42:39 - INFO - \n",
      "=== Starting Epoch 43 ===\n",
      "\n"
     ]
    },
    {
     "name": "stdout",
     "output_type": "stream",
     "text": [
      "Epoch 43/100\n",
      "\u001b[1m813/813\u001b[0m \u001b[32m━━━━━━━━━━━━━━━━━━━━\u001b[0m\u001b[37m\u001b[0m \u001b[1m0s\u001b[0m 275ms/step - accuracy: 0.9427 - auc: 0.9281 - f1_score: 0.5122 - loss: 0.0318 - precision: 0.7307 - recall: 0.4288  "
     ]
    },
    {
     "name": "stderr",
     "output_type": "stream",
     "text": [
      "2025-06-21 03:46:36 - INFO - \n",
      "=== Epoch 43 Summary ===\n",
      "2025-06-21 03:46:36 - INFO - Time: 237.14s\n",
      "2025-06-21 03:46:36 - INFO - Training   - accuracy: 0.9429 - auc: 0.9285 - f1_score: 0.5126 - loss: 0.0316 - precision: 0.7270 - recall: 0.4296 - learning_rate: 0.0000\n",
      "2025-06-21 03:46:36 - INFO - Validation - accuracy: 0.9327 - auc: 0.7562 - f1_score: 0.2172 - loss: 0.0683 - precision: 0.3136 - recall: 0.1816\n",
      "2025-06-21 03:46:36 - INFO - ==================================================\n",
      "\n"
     ]
    },
    {
     "name": "stdout",
     "output_type": "stream",
     "text": [
      "\u001b[1m813/813\u001b[0m \u001b[32m━━━━━━━━━━━━━━━━━━━━\u001b[0m\u001b[37m\u001b[0m \u001b[1m237s\u001b[0m 292ms/step - accuracy: 0.9427 - auc: 0.9281 - f1_score: 0.5122 - loss: 0.0318 - precision: 0.7307 - recall: 0.4288 - val_accuracy: 0.9327 - val_auc: 0.7562 - val_f1_score: 0.2172 - val_loss: 0.0683 - val_precision: 0.3136 - val_recall: 0.1816 - learning_rate: 3.1250e-06\n"
     ]
    },
    {
     "name": "stderr",
     "output_type": "stream",
     "text": [
      "2025-06-21 03:46:36 - INFO - \n",
      "=== Starting Epoch 44 ===\n",
      "\n"
     ]
    },
    {
     "name": "stdout",
     "output_type": "stream",
     "text": [
      "Epoch 44/100\n",
      "\u001b[1m813/813\u001b[0m \u001b[32m━━━━━━━━━━━━━━━━━━━━\u001b[0m\u001b[37m\u001b[0m \u001b[1m0s\u001b[0m 276ms/step - accuracy: 0.9434 - auc: 0.9288 - f1_score: 0.5149 - loss: 0.0316 - precision: 0.7258 - recall: 0.4333  \n",
      "Epoch 44: ReduceLROnPlateau reducing learning rate to 1.56249996052793e-06.\n"
     ]
    },
    {
     "name": "stderr",
     "output_type": "stream",
     "text": [
      "2025-06-21 03:50:34 - INFO - \n",
      "=== Epoch 44 Summary ===\n",
      "2025-06-21 03:50:34 - INFO - Time: 237.53s\n",
      "2025-06-21 03:50:34 - INFO - Training   - accuracy: 0.9434 - auc: 0.9299 - f1_score: 0.5154 - loss: 0.0313 - precision: 0.7270 - recall: 0.4334 - learning_rate: 0.0000\n",
      "2025-06-21 03:50:34 - INFO - Validation - accuracy: 0.9339 - auc: 0.7524 - f1_score: 0.2079 - loss: 0.0685 - precision: 0.3185 - recall: 0.1696\n",
      "2025-06-21 03:50:34 - INFO - ==================================================\n",
      "\n"
     ]
    },
    {
     "name": "stdout",
     "output_type": "stream",
     "text": [
      "\u001b[1m813/813\u001b[0m \u001b[32m━━━━━━━━━━━━━━━━━━━━\u001b[0m\u001b[37m\u001b[0m \u001b[1m238s\u001b[0m 292ms/step - accuracy: 0.9434 - auc: 0.9288 - f1_score: 0.5149 - loss: 0.0316 - precision: 0.7258 - recall: 0.4333 - val_accuracy: 0.9339 - val_auc: 0.7524 - val_f1_score: 0.2079 - val_loss: 0.0685 - val_precision: 0.3185 - val_recall: 0.1696 - learning_rate: 3.1250e-06\n"
     ]
    },
    {
     "name": "stderr",
     "output_type": "stream",
     "text": [
      "2025-06-21 03:50:34 - INFO - \n",
      "=== Starting Epoch 45 ===\n",
      "\n"
     ]
    },
    {
     "name": "stdout",
     "output_type": "stream",
     "text": [
      "Epoch 45/100\n",
      "\u001b[1m813/813\u001b[0m \u001b[32m━━━━━━━━━━━━━━━━━━━━\u001b[0m\u001b[37m\u001b[0m \u001b[1m0s\u001b[0m 276ms/step - accuracy: 0.9433 - auc: 0.9304 - f1_score: 0.5187 - loss: 0.0312 - precision: 0.7315 - recall: 0.4350  "
     ]
    },
    {
     "name": "stderr",
     "output_type": "stream",
     "text": [
      "2025-06-21 03:54:31 - INFO - \n",
      "=== Epoch 45 Summary ===\n",
      "2025-06-21 03:54:31 - INFO - Time: 237.81s\n",
      "2025-06-21 03:54:31 - INFO - Training   - accuracy: 0.9440 - auc: 0.9321 - f1_score: 0.5233 - loss: 0.0308 - precision: 0.7335 - recall: 0.4407 - learning_rate: 0.0000\n",
      "2025-06-21 03:54:31 - INFO - Validation - accuracy: 0.9335 - auc: 0.7551 - f1_score: 0.2134 - loss: 0.0689 - precision: 0.3186 - recall: 0.1767\n",
      "2025-06-21 03:54:31 - INFO - ==================================================\n",
      "\n"
     ]
    },
    {
     "name": "stdout",
     "output_type": "stream",
     "text": [
      "\u001b[1m813/813\u001b[0m \u001b[32m━━━━━━━━━━━━━━━━━━━━\u001b[0m\u001b[37m\u001b[0m \u001b[1m238s\u001b[0m 293ms/step - accuracy: 0.9433 - auc: 0.9304 - f1_score: 0.5187 - loss: 0.0312 - precision: 0.7315 - recall: 0.4350 - val_accuracy: 0.9335 - val_auc: 0.7551 - val_f1_score: 0.2134 - val_loss: 0.0689 - val_precision: 0.3186 - val_recall: 0.1767 - learning_rate: 1.5625e-06\n"
     ]
    },
    {
     "name": "stderr",
     "output_type": "stream",
     "text": [
      "2025-06-21 03:54:31 - INFO - \n",
      "=== Starting Epoch 46 ===\n",
      "\n"
     ]
    },
    {
     "name": "stdout",
     "output_type": "stream",
     "text": [
      "Epoch 46/100\n",
      "\u001b[1m813/813\u001b[0m \u001b[32m━━━━━━━━━━━━━━━━━━━━\u001b[0m\u001b[37m\u001b[0m \u001b[1m0s\u001b[0m 277ms/step - accuracy: 0.9444 - auc: 0.9323 - f1_score: 0.5282 - loss: 0.0307 - precision: 0.7377 - recall: 0.4442  "
     ]
    },
    {
     "name": "stderr",
     "output_type": "stream",
     "text": [
      "2025-06-21 03:58:31 - INFO - \n",
      "=== Epoch 46 Summary ===\n",
      "2025-06-21 03:58:31 - INFO - Time: 239.18s\n",
      "2025-06-21 03:58:31 - INFO - Training   - accuracy: 0.9445 - auc: 0.9331 - f1_score: 0.5298 - loss: 0.0306 - precision: 0.7347 - recall: 0.4469 - learning_rate: 0.0000\n",
      "2025-06-21 03:58:31 - INFO - Validation - accuracy: 0.9316 - auc: 0.7543 - f1_score: 0.2278 - loss: 0.0689 - precision: 0.3131 - recall: 0.1968\n",
      "2025-06-21 03:58:31 - INFO - ==================================================\n",
      "\n"
     ]
    },
    {
     "name": "stdout",
     "output_type": "stream",
     "text": [
      "\u001b[1m813/813\u001b[0m \u001b[32m━━━━━━━━━━━━━━━━━━━━\u001b[0m\u001b[37m\u001b[0m \u001b[1m239s\u001b[0m 294ms/step - accuracy: 0.9444 - auc: 0.9323 - f1_score: 0.5282 - loss: 0.0307 - precision: 0.7377 - recall: 0.4442 - val_accuracy: 0.9316 - val_auc: 0.7543 - val_f1_score: 0.2278 - val_loss: 0.0689 - val_precision: 0.3131 - val_recall: 0.1968 - learning_rate: 1.5625e-06\n"
     ]
    },
    {
     "name": "stderr",
     "output_type": "stream",
     "text": [
      "2025-06-21 03:58:31 - INFO - \n",
      "=== Starting Epoch 47 ===\n",
      "\n"
     ]
    },
    {
     "name": "stdout",
     "output_type": "stream",
     "text": [
      "Epoch 47/100\n",
      "\u001b[1m813/813\u001b[0m \u001b[32m━━━━━━━━━━━━━━━━━━━━\u001b[0m\u001b[37m\u001b[0m \u001b[1m0s\u001b[0m 276ms/step - accuracy: 0.9442 - auc: 0.9327 - f1_score: 0.5298 - loss: 0.0308 - precision: 0.7351 - recall: 0.4479  "
     ]
    },
    {
     "name": "stderr",
     "output_type": "stream",
     "text": [
      "2025-06-21 04:02:28 - INFO - \n",
      "=== Epoch 47 Summary ===\n",
      "2025-06-21 04:02:28 - INFO - Time: 237.49s\n",
      "2025-06-21 04:02:28 - INFO - Training   - accuracy: 0.9446 - auc: 0.9336 - f1_score: 0.5325 - loss: 0.0305 - precision: 0.7364 - recall: 0.4505 - learning_rate: 0.0000\n",
      "2025-06-21 04:02:28 - INFO - Validation - accuracy: 0.9322 - auc: 0.7541 - f1_score: 0.2219 - loss: 0.0688 - precision: 0.3129 - recall: 0.1877\n",
      "2025-06-21 04:02:28 - INFO - ==================================================\n",
      "\n"
     ]
    },
    {
     "name": "stdout",
     "output_type": "stream",
     "text": [
      "\u001b[1m813/813\u001b[0m \u001b[32m━━━━━━━━━━━━━━━━━━━━\u001b[0m\u001b[37m\u001b[0m \u001b[1m237s\u001b[0m 292ms/step - accuracy: 0.9442 - auc: 0.9327 - f1_score: 0.5298 - loss: 0.0308 - precision: 0.7351 - recall: 0.4479 - val_accuracy: 0.9322 - val_auc: 0.7541 - val_f1_score: 0.2219 - val_loss: 0.0688 - val_precision: 0.3129 - val_recall: 0.1877 - learning_rate: 1.5625e-06\n"
     ]
    },
    {
     "name": "stderr",
     "output_type": "stream",
     "text": [
      "2025-06-21 04:02:28 - INFO - \n",
      "=== Starting Epoch 48 ===\n",
      "\n"
     ]
    },
    {
     "name": "stdout",
     "output_type": "stream",
     "text": [
      "Epoch 48/100\n",
      "\u001b[1m813/813\u001b[0m \u001b[32m━━━━━━━━━━━━━━━━━━━━\u001b[0m\u001b[37m\u001b[0m \u001b[1m0s\u001b[0m 405ms/step - accuracy: 0.9447 - auc: 0.9347 - f1_score: 0.5352 - loss: 0.0304 - precision: 0.7391 - recall: 0.4524   "
     ]
    },
    {
     "name": "stderr",
     "output_type": "stream",
     "text": [
      "2025-06-21 04:08:11 - INFO - \n",
      "=== Epoch 48 Summary ===\n",
      "2025-06-21 04:08:11 - INFO - Time: 342.60s\n",
      "2025-06-21 04:08:11 - INFO - Training   - accuracy: 0.9450 - auc: 0.9346 - f1_score: 0.5365 - loss: 0.0303 - precision: 0.7385 - recall: 0.4540 - learning_rate: 0.0000\n",
      "2025-06-21 04:08:11 - INFO - Validation - accuracy: 0.9317 - auc: 0.7542 - f1_score: 0.2267 - loss: 0.0709 - precision: 0.3111 - recall: 0.1919\n",
      "2025-06-21 04:08:11 - INFO - ==================================================\n",
      "\n"
     ]
    },
    {
     "name": "stdout",
     "output_type": "stream",
     "text": [
      "\u001b[1m813/813\u001b[0m \u001b[32m━━━━━━━━━━━━━━━━━━━━\u001b[0m\u001b[37m\u001b[0m \u001b[1m343s\u001b[0m 422ms/step - accuracy: 0.9447 - auc: 0.9347 - f1_score: 0.5352 - loss: 0.0304 - precision: 0.7391 - recall: 0.4524 - val_accuracy: 0.9317 - val_auc: 0.7542 - val_f1_score: 0.2267 - val_loss: 0.0709 - val_precision: 0.3111 - val_recall: 0.1919 - learning_rate: 1.5625e-06\n"
     ]
    },
    {
     "name": "stderr",
     "output_type": "stream",
     "text": [
      "2025-06-21 04:08:11 - INFO - \n",
      "=== Starting Epoch 49 ===\n",
      "\n"
     ]
    },
    {
     "name": "stdout",
     "output_type": "stream",
     "text": [
      "Epoch 49/100\n",
      "\u001b[1m813/813\u001b[0m \u001b[32m━━━━━━━━━━━━━━━━━━━━\u001b[0m\u001b[37m\u001b[0m \u001b[1m0s\u001b[0m 276ms/step - accuracy: 0.9449 - auc: 0.9350 - f1_score: 0.5369 - loss: 0.0302 - precision: 0.7371 - recall: 0.4549  "
     ]
    },
    {
     "name": "stderr",
     "output_type": "stream",
     "text": [
      "2025-06-21 04:12:10 - INFO - \n",
      "=== Epoch 49 Summary ===\n",
      "2025-06-21 04:12:10 - INFO - Time: 238.76s\n",
      "2025-06-21 04:12:10 - INFO - Training   - accuracy: 0.9452 - auc: 0.9352 - f1_score: 0.5390 - loss: 0.0301 - precision: 0.7380 - recall: 0.4570 - learning_rate: 0.0000\n",
      "2025-06-21 04:12:10 - INFO - Validation - accuracy: 0.9315 - auc: 0.7543 - f1_score: 0.2324 - loss: 0.0698 - precision: 0.3114 - recall: 0.1962\n",
      "2025-06-21 04:12:10 - INFO - ==================================================\n",
      "\n"
     ]
    },
    {
     "name": "stdout",
     "output_type": "stream",
     "text": [
      "\u001b[1m813/813\u001b[0m \u001b[32m━━━━━━━━━━━━━━━━━━━━\u001b[0m\u001b[37m\u001b[0m \u001b[1m239s\u001b[0m 294ms/step - accuracy: 0.9449 - auc: 0.9350 - f1_score: 0.5370 - loss: 0.0302 - precision: 0.7371 - recall: 0.4549 - val_accuracy: 0.9315 - val_auc: 0.7543 - val_f1_score: 0.2324 - val_loss: 0.0698 - val_precision: 0.3114 - val_recall: 0.1962 - learning_rate: 1.5625e-06\n"
     ]
    },
    {
     "name": "stderr",
     "output_type": "stream",
     "text": [
      "2025-06-21 04:12:10 - INFO - \n",
      "=== Starting Epoch 50 ===\n",
      "\n"
     ]
    },
    {
     "name": "stdout",
     "output_type": "stream",
     "text": [
      "Epoch 50/100\n",
      "\u001b[1m813/813\u001b[0m \u001b[32m━━━━━━━━━━━━━━━━━━━━\u001b[0m\u001b[37m\u001b[0m \u001b[1m0s\u001b[0m 275ms/step - accuracy: 0.9453 - auc: 0.9361 - f1_score: 0.5412 - loss: 0.0300 - precision: 0.7413 - recall: 0.4585  "
     ]
    },
    {
     "name": "stderr",
     "output_type": "stream",
     "text": [
      "2025-06-21 04:16:07 - INFO - \n",
      "=== Epoch 50 Summary ===\n",
      "2025-06-21 04:16:07 - INFO - Time: 236.93s\n",
      "2025-06-21 04:16:07 - INFO - Training   - accuracy: 0.9455 - auc: 0.9366 - f1_score: 0.5437 - loss: 0.0299 - precision: 0.7416 - recall: 0.4615 - learning_rate: 0.0000\n",
      "2025-06-21 04:16:07 - INFO - Validation - accuracy: 0.9317 - auc: 0.7539 - f1_score: 0.2269 - loss: 0.0707 - precision: 0.3116 - recall: 0.1931\n",
      "2025-06-21 04:16:07 - INFO - ==================================================\n",
      "\n"
     ]
    },
    {
     "name": "stdout",
     "output_type": "stream",
     "text": [
      "\u001b[1m813/813\u001b[0m \u001b[32m━━━━━━━━━━━━━━━━━━━━\u001b[0m\u001b[37m\u001b[0m \u001b[1m237s\u001b[0m 292ms/step - accuracy: 0.9453 - auc: 0.9361 - f1_score: 0.5412 - loss: 0.0300 - precision: 0.7413 - recall: 0.4585 - val_accuracy: 0.9317 - val_auc: 0.7539 - val_f1_score: 0.2269 - val_loss: 0.0707 - val_precision: 0.3116 - val_recall: 0.1931 - learning_rate: 1.5625e-06\n"
     ]
    },
    {
     "name": "stderr",
     "output_type": "stream",
     "text": [
      "2025-06-21 04:16:07 - INFO - \n",
      "=== Starting Epoch 51 ===\n",
      "\n"
     ]
    },
    {
     "name": "stdout",
     "output_type": "stream",
     "text": [
      "Epoch 51/100\n",
      "\u001b[1m813/813\u001b[0m \u001b[32m━━━━━━━━━━━━━━━━━━━━\u001b[0m\u001b[37m\u001b[0m \u001b[1m0s\u001b[0m 276ms/step - accuracy: 0.9459 - auc: 0.9373 - f1_score: 0.5466 - loss: 0.0296 - precision: 0.7448 - recall: 0.4640  "
     ]
    },
    {
     "name": "stderr",
     "output_type": "stream",
     "text": [
      "2025-06-21 04:20:04 - INFO - \n",
      "=== Epoch 51 Summary ===\n",
      "2025-06-21 04:20:04 - INFO - Time: 237.28s\n",
      "2025-06-21 04:20:04 - INFO - Training   - accuracy: 0.9460 - auc: 0.9378 - f1_score: 0.5469 - loss: 0.0296 - precision: 0.7442 - recall: 0.4645 - learning_rate: 0.0000\n",
      "2025-06-21 04:20:04 - INFO - Validation - accuracy: 0.9316 - auc: 0.7552 - f1_score: 0.2249 - loss: 0.0692 - precision: 0.3090 - recall: 0.1904\n",
      "2025-06-21 04:20:04 - INFO - ==================================================\n",
      "\n"
     ]
    },
    {
     "name": "stdout",
     "output_type": "stream",
     "text": [
      "\u001b[1m813/813\u001b[0m \u001b[32m━━━━━━━━━━━━━━━━━━━━\u001b[0m\u001b[37m\u001b[0m \u001b[1m237s\u001b[0m 292ms/step - accuracy: 0.9459 - auc: 0.9373 - f1_score: 0.5466 - loss: 0.0296 - precision: 0.7448 - recall: 0.4640 - val_accuracy: 0.9316 - val_auc: 0.7552 - val_f1_score: 0.2249 - val_loss: 0.0692 - val_precision: 0.3090 - val_recall: 0.1904 - learning_rate: 1.5625e-06\n"
     ]
    },
    {
     "name": "stderr",
     "output_type": "stream",
     "text": [
      "2025-06-21 04:20:04 - INFO - \n",
      "=== Starting Epoch 52 ===\n",
      "\n"
     ]
    },
    {
     "name": "stdout",
     "output_type": "stream",
     "text": [
      "Epoch 52/100\n",
      "\u001b[1m813/813\u001b[0m \u001b[32m━━━━━━━━━━━━━━━━━━━━\u001b[0m\u001b[37m\u001b[0m \u001b[1m0s\u001b[0m 276ms/step - accuracy: 0.9457 - auc: 0.9377 - f1_score: 0.5491 - loss: 0.0298 - precision: 0.7421 - recall: 0.4665  \n",
      "Epoch 52: ReduceLROnPlateau reducing learning rate to 1e-06.\n"
     ]
    },
    {
     "name": "stderr",
     "output_type": "stream",
     "text": [
      "2025-06-21 04:24:01 - INFO - \n",
      "=== Epoch 52 Summary ===\n",
      "2025-06-21 04:24:01 - INFO - Time: 237.35s\n",
      "2025-06-21 04:24:01 - INFO - Training   - accuracy: 0.9460 - auc: 0.9383 - f1_score: 0.5495 - loss: 0.0296 - precision: 0.7429 - recall: 0.4674 - learning_rate: 0.0000\n",
      "2025-06-21 04:24:01 - INFO - Validation - accuracy: 0.9323 - auc: 0.7534 - f1_score: 0.2194 - loss: 0.0704 - precision: 0.3143 - recall: 0.1881\n",
      "2025-06-21 04:24:01 - INFO - ==================================================\n",
      "\n"
     ]
    },
    {
     "name": "stdout",
     "output_type": "stream",
     "text": [
      "\u001b[1m813/813\u001b[0m \u001b[32m━━━━━━━━━━━━━━━━━━━━\u001b[0m\u001b[37m\u001b[0m \u001b[1m237s\u001b[0m 292ms/step - accuracy: 0.9457 - auc: 0.9377 - f1_score: 0.5491 - loss: 0.0298 - precision: 0.7421 - recall: 0.4665 - val_accuracy: 0.9323 - val_auc: 0.7534 - val_f1_score: 0.2194 - val_loss: 0.0704 - val_precision: 0.3143 - val_recall: 0.1881 - learning_rate: 1.5625e-06\n"
     ]
    },
    {
     "name": "stderr",
     "output_type": "stream",
     "text": [
      "2025-06-21 04:24:01 - INFO - \n",
      "=== Starting Epoch 53 ===\n",
      "\n"
     ]
    },
    {
     "name": "stdout",
     "output_type": "stream",
     "text": [
      "Epoch 53/100\n",
      "\u001b[1m813/813\u001b[0m \u001b[32m━━━━━━━━━━━━━━━━━━━━\u001b[0m\u001b[37m\u001b[0m \u001b[1m0s\u001b[0m 275ms/step - accuracy: 0.9461 - auc: 0.9377 - f1_score: 0.5530 - loss: 0.0297 - precision: 0.7478 - recall: 0.4701  "
     ]
    },
    {
     "name": "stderr",
     "output_type": "stream",
     "text": [
      "2025-06-21 04:27:58 - INFO - \n",
      "=== Epoch 53 Summary ===\n",
      "2025-06-21 04:27:58 - INFO - Time: 237.04s\n",
      "2025-06-21 04:27:58 - INFO - Training   - accuracy: 0.9464 - auc: 0.9386 - f1_score: 0.5544 - loss: 0.0295 - precision: 0.7470 - recall: 0.4721 - learning_rate: 0.0000\n",
      "2025-06-21 04:27:58 - INFO - Validation - accuracy: 0.9330 - auc: 0.7548 - f1_score: 0.2187 - loss: 0.0715 - precision: 0.3173 - recall: 0.1827\n",
      "2025-06-21 04:27:58 - INFO - ==================================================\n",
      "\n"
     ]
    },
    {
     "name": "stdout",
     "output_type": "stream",
     "text": [
      "\u001b[1m813/813\u001b[0m \u001b[32m━━━━━━━━━━━━━━━━━━━━\u001b[0m\u001b[37m\u001b[0m \u001b[1m237s\u001b[0m 292ms/step - accuracy: 0.9461 - auc: 0.9377 - f1_score: 0.5530 - loss: 0.0297 - precision: 0.7478 - recall: 0.4701 - val_accuracy: 0.9330 - val_auc: 0.7548 - val_f1_score: 0.2187 - val_loss: 0.0715 - val_precision: 0.3173 - val_recall: 0.1827 - learning_rate: 1.0000e-06\n"
     ]
    },
    {
     "name": "stderr",
     "output_type": "stream",
     "text": [
      "2025-06-21 04:27:58 - INFO - \n",
      "=== Starting Epoch 54 ===\n",
      "\n"
     ]
    },
    {
     "name": "stdout",
     "output_type": "stream",
     "text": [
      "Epoch 54/100\n",
      "\u001b[1m813/813\u001b[0m \u001b[32m━━━━━━━━━━━━━━━━━━━━\u001b[0m\u001b[37m\u001b[0m \u001b[1m0s\u001b[0m 276ms/step - accuracy: 0.9464 - auc: 0.9394 - f1_score: 0.5539 - loss: 0.0293 - precision: 0.7489 - recall: 0.4706  "
     ]
    },
    {
     "name": "stderr",
     "output_type": "stream",
     "text": [
      "2025-06-21 04:31:56 - INFO - \n",
      "=== Epoch 54 Summary ===\n",
      "2025-06-21 04:31:56 - INFO - Time: 237.66s\n",
      "2025-06-21 04:31:56 - INFO - Training   - accuracy: 0.9467 - auc: 0.9395 - f1_score: 0.5566 - loss: 0.0292 - precision: 0.7474 - recall: 0.4745 - learning_rate: 0.0000\n",
      "2025-06-21 04:31:56 - INFO - Validation - accuracy: 0.9316 - auc: 0.7534 - f1_score: 0.2260 - loss: 0.0722 - precision: 0.3085 - recall: 0.1898\n",
      "2025-06-21 04:31:56 - INFO - ==================================================\n",
      "\n"
     ]
    },
    {
     "name": "stdout",
     "output_type": "stream",
     "text": [
      "\u001b[1m813/813\u001b[0m \u001b[32m━━━━━━━━━━━━━━━━━━━━\u001b[0m\u001b[37m\u001b[0m \u001b[1m238s\u001b[0m 292ms/step - accuracy: 0.9464 - auc: 0.9394 - f1_score: 0.5539 - loss: 0.0293 - precision: 0.7489 - recall: 0.4707 - val_accuracy: 0.9316 - val_auc: 0.7534 - val_f1_score: 0.2260 - val_loss: 0.0722 - val_precision: 0.3085 - val_recall: 0.1898 - learning_rate: 1.0000e-06\n"
     ]
    },
    {
     "name": "stderr",
     "output_type": "stream",
     "text": [
      "2025-06-21 04:31:56 - INFO - \n",
      "=== Starting Epoch 55 ===\n",
      "\n"
     ]
    },
    {
     "name": "stdout",
     "output_type": "stream",
     "text": [
      "Epoch 55/100\n",
      "\u001b[1m813/813\u001b[0m \u001b[32m━━━━━━━━━━━━━━━━━━━━\u001b[0m\u001b[37m\u001b[0m \u001b[1m0s\u001b[0m 276ms/step - accuracy: 0.9468 - auc: 0.9399 - f1_score: 0.5600 - loss: 0.0293 - precision: 0.7539 - recall: 0.4761  "
     ]
    },
    {
     "name": "stderr",
     "output_type": "stream",
     "text": [
      "2025-06-21 04:35:54 - INFO - \n",
      "=== Epoch 55 Summary ===\n",
      "2025-06-21 04:35:54 - INFO - Time: 238.02s\n",
      "2025-06-21 04:35:54 - INFO - Training   - accuracy: 0.9469 - auc: 0.9400 - f1_score: 0.5595 - loss: 0.0292 - precision: 0.7504 - recall: 0.4771 - learning_rate: 0.0000\n",
      "2025-06-21 04:35:54 - INFO - Validation - accuracy: 0.9318 - auc: 0.7523 - f1_score: 0.2220 - loss: 0.0713 - precision: 0.3092 - recall: 0.1882\n",
      "2025-06-21 04:35:54 - INFO - ==================================================\n",
      "\n"
     ]
    },
    {
     "name": "stdout",
     "output_type": "stream",
     "text": [
      "\u001b[1m813/813\u001b[0m \u001b[32m━━━━━━━━━━━━━━━━━━━━\u001b[0m\u001b[37m\u001b[0m \u001b[1m238s\u001b[0m 293ms/step - accuracy: 0.9468 - auc: 0.9399 - f1_score: 0.5600 - loss: 0.0293 - precision: 0.7539 - recall: 0.4761 - val_accuracy: 0.9318 - val_auc: 0.7523 - val_f1_score: 0.2220 - val_loss: 0.0713 - val_precision: 0.3092 - val_recall: 0.1882 - learning_rate: 1.0000e-06\n"
     ]
    },
    {
     "name": "stderr",
     "output_type": "stream",
     "text": [
      "2025-06-21 04:35:54 - INFO - \n",
      "=== Starting Epoch 56 ===\n",
      "\n"
     ]
    },
    {
     "name": "stdout",
     "output_type": "stream",
     "text": [
      "Epoch 56/100\n",
      "\u001b[1m813/813\u001b[0m \u001b[32m━━━━━━━━━━━━━━━━━━━━\u001b[0m\u001b[37m\u001b[0m \u001b[1m0s\u001b[0m 277ms/step - accuracy: 0.9464 - auc: 0.9394 - f1_score: 0.5579 - loss: 0.0294 - precision: 0.7470 - recall: 0.4753  "
     ]
    },
    {
     "name": "stderr",
     "output_type": "stream",
     "text": [
      "2025-06-21 04:39:53 - INFO - \n",
      "=== Epoch 56 Summary ===\n",
      "2025-06-21 04:39:53 - INFO - Time: 239.00s\n",
      "2025-06-21 04:39:53 - INFO - Training   - accuracy: 0.9469 - auc: 0.9402 - f1_score: 0.5611 - loss: 0.0291 - precision: 0.7481 - recall: 0.4793 - learning_rate: 0.0000\n",
      "2025-06-21 04:39:53 - INFO - Validation - accuracy: 0.9323 - auc: 0.7537 - f1_score: 0.2221 - loss: 0.0706 - precision: 0.3145 - recall: 0.1888\n",
      "2025-06-21 04:39:53 - INFO - ==================================================\n",
      "\n"
     ]
    },
    {
     "name": "stdout",
     "output_type": "stream",
     "text": [
      "\u001b[1m813/813\u001b[0m \u001b[32m━━━━━━━━━━━━━━━━━━━━\u001b[0m\u001b[37m\u001b[0m \u001b[1m239s\u001b[0m 294ms/step - accuracy: 0.9464 - auc: 0.9394 - f1_score: 0.5579 - loss: 0.0294 - precision: 0.7470 - recall: 0.4753 - val_accuracy: 0.9323 - val_auc: 0.7537 - val_f1_score: 0.2221 - val_loss: 0.0706 - val_precision: 0.3145 - val_recall: 0.1888 - learning_rate: 1.0000e-06\n"
     ]
    },
    {
     "name": "stderr",
     "output_type": "stream",
     "text": [
      "2025-06-21 04:39:53 - INFO - \n",
      "=== Starting Epoch 57 ===\n",
      "\n"
     ]
    },
    {
     "name": "stdout",
     "output_type": "stream",
     "text": [
      "Epoch 57/100\n",
      "\u001b[1m813/813\u001b[0m \u001b[32m━━━━━━━━━━━━━━━━━━━━\u001b[0m\u001b[37m\u001b[0m \u001b[1m0s\u001b[0m 276ms/step - accuracy: 0.9472 - auc: 0.9405 - f1_score: 0.5621 - loss: 0.0291 - precision: 0.7512 - recall: 0.4797  "
     ]
    },
    {
     "name": "stderr",
     "output_type": "stream",
     "text": [
      "2025-06-21 04:43:51 - INFO - \n",
      "=== Epoch 57 Summary ===\n",
      "2025-06-21 04:43:51 - INFO - Time: 237.88s\n",
      "2025-06-21 04:43:51 - INFO - Training   - accuracy: 0.9471 - auc: 0.9406 - f1_score: 0.5623 - loss: 0.0290 - precision: 0.7498 - recall: 0.4803 - learning_rate: 0.0000\n",
      "2025-06-21 04:43:51 - INFO - Validation - accuracy: 0.9323 - auc: 0.7538 - f1_score: 0.2197 - loss: 0.0709 - precision: 0.3140 - recall: 0.1881\n",
      "2025-06-21 04:43:51 - INFO - ==================================================\n",
      "\n"
     ]
    },
    {
     "name": "stdout",
     "output_type": "stream",
     "text": [
      "\u001b[1m813/813\u001b[0m \u001b[32m━━━━━━━━━━━━━━━━━━━━\u001b[0m\u001b[37m\u001b[0m \u001b[1m238s\u001b[0m 293ms/step - accuracy: 0.9472 - auc: 0.9405 - f1_score: 0.5621 - loss: 0.0291 - precision: 0.7512 - recall: 0.4797 - val_accuracy: 0.9323 - val_auc: 0.7538 - val_f1_score: 0.2197 - val_loss: 0.0709 - val_precision: 0.3140 - val_recall: 0.1881 - learning_rate: 1.0000e-06\n"
     ]
    },
    {
     "name": "stderr",
     "output_type": "stream",
     "text": [
      "2025-06-21 04:43:51 - INFO - \n",
      "=== Starting Epoch 58 ===\n",
      "\n"
     ]
    },
    {
     "name": "stdout",
     "output_type": "stream",
     "text": [
      "Epoch 58/100\n",
      "\u001b[1m813/813\u001b[0m \u001b[32m━━━━━━━━━━━━━━━━━━━━\u001b[0m\u001b[37m\u001b[0m \u001b[1m0s\u001b[0m 276ms/step - accuracy: 0.9474 - auc: 0.9415 - f1_score: 0.5659 - loss: 0.0291 - precision: 0.7532 - recall: 0.4832  "
     ]
    },
    {
     "name": "stderr",
     "output_type": "stream",
     "text": [
      "2025-06-21 04:47:48 - INFO - \n",
      "=== Epoch 58 Summary ===\n",
      "2025-06-21 04:47:48 - INFO - Time: 237.39s\n",
      "2025-06-21 04:47:48 - INFO - Training   - accuracy: 0.9472 - auc: 0.9412 - f1_score: 0.5638 - loss: 0.0290 - precision: 0.7488 - recall: 0.4821 - learning_rate: 0.0000\n",
      "2025-06-21 04:47:48 - INFO - Validation - accuracy: 0.9326 - auc: 0.7543 - f1_score: 0.2279 - loss: 0.0709 - precision: 0.3189 - recall: 0.1909\n",
      "2025-06-21 04:47:48 - INFO - ==================================================\n",
      "\n"
     ]
    },
    {
     "name": "stdout",
     "output_type": "stream",
     "text": [
      "\u001b[1m813/813\u001b[0m \u001b[32m━━━━━━━━━━━━━━━━━━━━\u001b[0m\u001b[37m\u001b[0m \u001b[1m237s\u001b[0m 292ms/step - accuracy: 0.9474 - auc: 0.9415 - f1_score: 0.5659 - loss: 0.0291 - precision: 0.7532 - recall: 0.4832 - val_accuracy: 0.9326 - val_auc: 0.7543 - val_f1_score: 0.2279 - val_loss: 0.0709 - val_precision: 0.3189 - val_recall: 0.1909 - learning_rate: 1.0000e-06\n"
     ]
    },
    {
     "name": "stderr",
     "output_type": "stream",
     "text": [
      "2025-06-21 04:47:48 - INFO - \n",
      "=== Starting Epoch 59 ===\n",
      "\n"
     ]
    },
    {
     "name": "stdout",
     "output_type": "stream",
     "text": [
      "Epoch 59/100\n",
      "\u001b[1m813/813\u001b[0m \u001b[32m━━━━━━━━━━━━━━━━━━━━\u001b[0m\u001b[37m\u001b[0m \u001b[1m0s\u001b[0m 276ms/step - accuracy: 0.9473 - auc: 0.9412 - f1_score: 0.5663 - loss: 0.0290 - precision: 0.7529 - recall: 0.4831  "
     ]
    },
    {
     "name": "stderr",
     "output_type": "stream",
     "text": [
      "2025-06-21 04:51:46 - INFO - \n",
      "=== Epoch 59 Summary ===\n",
      "2025-06-21 04:51:46 - INFO - Time: 238.08s\n",
      "2025-06-21 04:51:46 - INFO - Training   - accuracy: 0.9475 - auc: 0.9419 - f1_score: 0.5681 - loss: 0.0288 - precision: 0.7521 - recall: 0.4863 - learning_rate: 0.0000\n",
      "2025-06-21 04:51:46 - INFO - Validation - accuracy: 0.9318 - auc: 0.7524 - f1_score: 0.2302 - loss: 0.0707 - precision: 0.3154 - recall: 0.1970\n",
      "2025-06-21 04:51:46 - INFO - ==================================================\n",
      "\n"
     ]
    },
    {
     "name": "stdout",
     "output_type": "stream",
     "text": [
      "\u001b[1m813/813\u001b[0m \u001b[32m━━━━━━━━━━━━━━━━━━━━\u001b[0m\u001b[37m\u001b[0m \u001b[1m238s\u001b[0m 293ms/step - accuracy: 0.9473 - auc: 0.9412 - f1_score: 0.5663 - loss: 0.0290 - precision: 0.7529 - recall: 0.4831 - val_accuracy: 0.9318 - val_auc: 0.7524 - val_f1_score: 0.2302 - val_loss: 0.0707 - val_precision: 0.3154 - val_recall: 0.1970 - learning_rate: 1.0000e-06\n"
     ]
    },
    {
     "name": "stderr",
     "output_type": "stream",
     "text": [
      "2025-06-21 04:51:46 - INFO - \n",
      "=== Starting Epoch 60 ===\n",
      "\n"
     ]
    },
    {
     "name": "stdout",
     "output_type": "stream",
     "text": [
      "Epoch 60/100\n",
      "\u001b[1m813/813\u001b[0m \u001b[32m━━━━━━━━━━━━━━━━━━━━\u001b[0m\u001b[37m\u001b[0m \u001b[1m0s\u001b[0m 276ms/step - accuracy: 0.9472 - auc: 0.9409 - f1_score: 0.5647 - loss: 0.0289 - precision: 0.7534 - recall: 0.4824  "
     ]
    },
    {
     "name": "stderr",
     "output_type": "stream",
     "text": [
      "2025-06-21 04:55:45 - INFO - \n",
      "=== Epoch 60 Summary ===\n",
      "2025-06-21 04:55:45 - INFO - Time: 238.12s\n",
      "2025-06-21 04:55:45 - INFO - Training   - accuracy: 0.9476 - auc: 0.9418 - f1_score: 0.5677 - loss: 0.0288 - precision: 0.7529 - recall: 0.4860 - learning_rate: 0.0000\n",
      "2025-06-21 04:55:45 - INFO - Validation - accuracy: 0.9322 - auc: 0.7530 - f1_score: 0.2318 - loss: 0.0710 - precision: 0.3190 - recall: 0.1971\n",
      "2025-06-21 04:55:45 - INFO - ==================================================\n",
      "\n"
     ]
    },
    {
     "name": "stdout",
     "output_type": "stream",
     "text": [
      "\u001b[1m813/813\u001b[0m \u001b[32m━━━━━━━━━━━━━━━━━━━━\u001b[0m\u001b[37m\u001b[0m \u001b[1m238s\u001b[0m 293ms/step - accuracy: 0.9472 - auc: 0.9409 - f1_score: 0.5647 - loss: 0.0289 - precision: 0.7534 - recall: 0.4824 - val_accuracy: 0.9322 - val_auc: 0.7530 - val_f1_score: 0.2318 - val_loss: 0.0710 - val_precision: 0.3190 - val_recall: 0.1971 - learning_rate: 1.0000e-06\n"
     ]
    },
    {
     "name": "stderr",
     "output_type": "stream",
     "text": [
      "2025-06-21 04:55:45 - INFO - \n",
      "=== Starting Epoch 61 ===\n",
      "\n"
     ]
    },
    {
     "name": "stdout",
     "output_type": "stream",
     "text": [
      "Epoch 61/100\n",
      "\u001b[1m813/813\u001b[0m \u001b[32m━━━━━━━━━━━━━━━━━━━━\u001b[0m\u001b[37m\u001b[0m \u001b[1m0s\u001b[0m 276ms/step - accuracy: 0.9476 - auc: 0.9426 - f1_score: 0.5678 - loss: 0.0286 - precision: 0.7543 - recall: 0.4854  "
     ]
    },
    {
     "name": "stderr",
     "output_type": "stream",
     "text": [
      "2025-06-21 04:59:43 - INFO - \n",
      "=== Epoch 61 Summary ===\n",
      "2025-06-21 04:59:43 - INFO - Time: 237.99s\n",
      "2025-06-21 04:59:43 - INFO - Training   - accuracy: 0.9478 - auc: 0.9432 - f1_score: 0.5702 - loss: 0.0285 - precision: 0.7543 - recall: 0.4881 - learning_rate: 0.0000\n",
      "2025-06-21 04:59:43 - INFO - Validation - accuracy: 0.9327 - auc: 0.7541 - f1_score: 0.2278 - loss: 0.0712 - precision: 0.3204 - recall: 0.1917\n",
      "2025-06-21 04:59:43 - INFO - ==================================================\n",
      "\n"
     ]
    },
    {
     "name": "stdout",
     "output_type": "stream",
     "text": [
      "\u001b[1m813/813\u001b[0m \u001b[32m━━━━━━━━━━━━━━━━━━━━\u001b[0m\u001b[37m\u001b[0m \u001b[1m238s\u001b[0m 293ms/step - accuracy: 0.9476 - auc: 0.9426 - f1_score: 0.5678 - loss: 0.0286 - precision: 0.7543 - recall: 0.4854 - val_accuracy: 0.9327 - val_auc: 0.7541 - val_f1_score: 0.2278 - val_loss: 0.0712 - val_precision: 0.3204 - val_recall: 0.1917 - learning_rate: 1.0000e-06\n"
     ]
    },
    {
     "name": "stderr",
     "output_type": "stream",
     "text": [
      "2025-06-21 04:59:43 - INFO - \n",
      "=== Starting Epoch 62 ===\n",
      "\n"
     ]
    },
    {
     "name": "stdout",
     "output_type": "stream",
     "text": [
      "Epoch 62/100\n",
      "\u001b[1m813/813\u001b[0m \u001b[32m━━━━━━━━━━━━━━━━━━━━\u001b[0m\u001b[37m\u001b[0m \u001b[1m0s\u001b[0m 276ms/step - accuracy: 0.9478 - auc: 0.9429 - f1_score: 0.5735 - loss: 0.0287 - precision: 0.7546 - recall: 0.4916  "
     ]
    },
    {
     "name": "stderr",
     "output_type": "stream",
     "text": [
      "2025-06-21 05:03:41 - INFO - \n",
      "=== Epoch 62 Summary ===\n",
      "2025-06-21 05:03:41 - INFO - Time: 238.60s\n",
      "2025-06-21 05:03:41 - INFO - Training   - accuracy: 0.9480 - auc: 0.9432 - f1_score: 0.5734 - loss: 0.0285 - precision: 0.7544 - recall: 0.4920 - learning_rate: 0.0000\n",
      "2025-06-21 05:03:41 - INFO - Validation - accuracy: 0.9312 - auc: 0.7513 - f1_score: 0.2362 - loss: 0.0721 - precision: 0.3122 - recall: 0.2012\n",
      "2025-06-21 05:03:41 - INFO - ==================================================\n",
      "\n"
     ]
    },
    {
     "name": "stdout",
     "output_type": "stream",
     "text": [
      "\u001b[1m813/813\u001b[0m \u001b[32m━━━━━━━━━━━━━━━━━━━━\u001b[0m\u001b[37m\u001b[0m \u001b[1m239s\u001b[0m 294ms/step - accuracy: 0.9478 - auc: 0.9429 - f1_score: 0.5735 - loss: 0.0287 - precision: 0.7546 - recall: 0.4916 - val_accuracy: 0.9312 - val_auc: 0.7513 - val_f1_score: 0.2362 - val_loss: 0.0721 - val_precision: 0.3122 - val_recall: 0.2012 - learning_rate: 1.0000e-06\n"
     ]
    },
    {
     "name": "stderr",
     "output_type": "stream",
     "text": [
      "2025-06-21 05:03:41 - INFO - \n",
      "=== Starting Epoch 63 ===\n",
      "\n"
     ]
    },
    {
     "name": "stdout",
     "output_type": "stream",
     "text": [
      "Epoch 63/100\n",
      "\u001b[1m813/813\u001b[0m \u001b[32m━━━━━━━━━━━━━━━━━━━━\u001b[0m\u001b[37m\u001b[0m \u001b[1m0s\u001b[0m 276ms/step - accuracy: 0.9481 - auc: 0.9437 - f1_score: 0.5746 - loss: 0.0285 - precision: 0.7574 - recall: 0.4923  "
     ]
    },
    {
     "name": "stderr",
     "output_type": "stream",
     "text": [
      "2025-06-21 05:07:40 - INFO - \n",
      "=== Epoch 63 Summary ===\n",
      "2025-06-21 05:07:40 - INFO - Time: 238.50s\n",
      "2025-06-21 05:07:40 - INFO - Training   - accuracy: 0.9482 - auc: 0.9437 - f1_score: 0.5751 - loss: 0.0284 - precision: 0.7559 - recall: 0.4939 - learning_rate: 0.0000\n",
      "2025-06-21 05:07:40 - INFO - Validation - accuracy: 0.9313 - auc: 0.7525 - f1_score: 0.2371 - loss: 0.0724 - precision: 0.3137 - recall: 0.2029\n",
      "2025-06-21 05:07:40 - INFO - ==================================================\n",
      "\n"
     ]
    },
    {
     "name": "stdout",
     "output_type": "stream",
     "text": [
      "\u001b[1m813/813\u001b[0m \u001b[32m━━━━━━━━━━━━━━━━━━━━\u001b[0m\u001b[37m\u001b[0m \u001b[1m239s\u001b[0m 293ms/step - accuracy: 0.9481 - auc: 0.9437 - f1_score: 0.5746 - loss: 0.0285 - precision: 0.7574 - recall: 0.4923 - val_accuracy: 0.9313 - val_auc: 0.7525 - val_f1_score: 0.2371 - val_loss: 0.0724 - val_precision: 0.3137 - val_recall: 0.2029 - learning_rate: 1.0000e-06\n"
     ]
    },
    {
     "name": "stderr",
     "output_type": "stream",
     "text": [
      "2025-06-21 05:07:40 - INFO - \n",
      "=== Starting Epoch 64 ===\n",
      "\n"
     ]
    },
    {
     "name": "stdout",
     "output_type": "stream",
     "text": [
      "Epoch 64/100\n",
      "\u001b[1m813/813\u001b[0m \u001b[32m━━━━━━━━━━━━━━━━━━━━\u001b[0m\u001b[37m\u001b[0m \u001b[1m0s\u001b[0m 277ms/step - accuracy: 0.9479 - auc: 0.9436 - f1_score: 0.5763 - loss: 0.0284 - precision: 0.7550 - recall: 0.4953  "
     ]
    },
    {
     "name": "stderr",
     "output_type": "stream",
     "text": [
      "2025-06-21 05:11:38 - INFO - \n",
      "=== Epoch 64 Summary ===\n",
      "2025-06-21 05:11:38 - INFO - Time: 238.42s\n",
      "2025-06-21 05:11:38 - INFO - Training   - accuracy: 0.9483 - auc: 0.9443 - f1_score: 0.5772 - loss: 0.0283 - precision: 0.7550 - recall: 0.4969 - learning_rate: 0.0000\n",
      "2025-06-21 05:11:38 - INFO - Validation - accuracy: 0.9312 - auc: 0.7505 - f1_score: 0.2303 - loss: 0.0738 - precision: 0.3099 - recall: 0.1969\n",
      "2025-06-21 05:11:38 - INFO - ==================================================\n",
      "\n"
     ]
    },
    {
     "name": "stdout",
     "output_type": "stream",
     "text": [
      "\u001b[1m813/813\u001b[0m \u001b[32m━━━━━━━━━━━━━━━━━━━━\u001b[0m\u001b[37m\u001b[0m \u001b[1m238s\u001b[0m 293ms/step - accuracy: 0.9479 - auc: 0.9436 - f1_score: 0.5763 - loss: 0.0284 - precision: 0.7550 - recall: 0.4953 - val_accuracy: 0.9312 - val_auc: 0.7505 - val_f1_score: 0.2303 - val_loss: 0.0738 - val_precision: 0.3099 - val_recall: 0.1969 - learning_rate: 1.0000e-06\n"
     ]
    },
    {
     "name": "stderr",
     "output_type": "stream",
     "text": [
      "2025-06-21 05:11:38 - INFO - \n",
      "=== Starting Epoch 65 ===\n",
      "\n"
     ]
    },
    {
     "name": "stdout",
     "output_type": "stream",
     "text": [
      "Epoch 65/100\n",
      "\u001b[1m813/813\u001b[0m \u001b[32m━━━━━━━━━━━━━━━━━━━━\u001b[0m\u001b[37m\u001b[0m \u001b[1m0s\u001b[0m 276ms/step - accuracy: 0.9479 - auc: 0.9437 - f1_score: 0.5747 - loss: 0.0285 - precision: 0.7530 - recall: 0.4933  "
     ]
    },
    {
     "name": "stderr",
     "output_type": "stream",
     "text": [
      "2025-06-21 05:15:37 - INFO - \n",
      "=== Epoch 65 Summary ===\n",
      "2025-06-21 05:15:37 - INFO - Time: 238.78s\n",
      "2025-06-21 05:15:37 - INFO - Training   - accuracy: 0.9484 - auc: 0.9445 - f1_score: 0.5787 - loss: 0.0283 - precision: 0.7567 - recall: 0.4974 - learning_rate: 0.0000\n",
      "2025-06-21 05:15:37 - INFO - Validation - accuracy: 0.9319 - auc: 0.7528 - f1_score: 0.2386 - loss: 0.0725 - precision: 0.3203 - recall: 0.2049\n",
      "2025-06-21 05:15:37 - INFO - ==================================================\n",
      "\n"
     ]
    },
    {
     "name": "stdout",
     "output_type": "stream",
     "text": [
      "\u001b[1m813/813\u001b[0m \u001b[32m━━━━━━━━━━━━━━━━━━━━\u001b[0m\u001b[37m\u001b[0m \u001b[1m239s\u001b[0m 294ms/step - accuracy: 0.9479 - auc: 0.9437 - f1_score: 0.5747 - loss: 0.0285 - precision: 0.7530 - recall: 0.4933 - val_accuracy: 0.9319 - val_auc: 0.7528 - val_f1_score: 0.2386 - val_loss: 0.0725 - val_precision: 0.3203 - val_recall: 0.2049 - learning_rate: 1.0000e-06\n"
     ]
    },
    {
     "name": "stderr",
     "output_type": "stream",
     "text": [
      "2025-06-21 05:15:37 - INFO - \n",
      "=== Starting Epoch 66 ===\n",
      "\n"
     ]
    },
    {
     "name": "stdout",
     "output_type": "stream",
     "text": [
      "Epoch 66/100\n",
      "\u001b[1m813/813\u001b[0m \u001b[32m━━━━━━━━━━━━━━━━━━━━\u001b[0m\u001b[37m\u001b[0m \u001b[1m0s\u001b[0m 275ms/step - accuracy: 0.9483 - auc: 0.9449 - f1_score: 0.5772 - loss: 0.0282 - precision: 0.7534 - recall: 0.4970  "
     ]
    },
    {
     "name": "stderr",
     "output_type": "stream",
     "text": [
      "2025-06-21 05:19:34 - INFO - \n",
      "=== Epoch 66 Summary ===\n",
      "2025-06-21 05:19:34 - INFO - Time: 237.44s\n",
      "2025-06-21 05:19:34 - INFO - Training   - accuracy: 0.9486 - auc: 0.9451 - f1_score: 0.5810 - loss: 0.0281 - precision: 0.7560 - recall: 0.5005 - learning_rate: 0.0000\n",
      "2025-06-21 05:19:34 - INFO - Validation - accuracy: 0.9312 - auc: 0.7513 - f1_score: 0.2329 - loss: 0.0734 - precision: 0.3102 - recall: 0.1983\n",
      "2025-06-21 05:19:34 - INFO - ==================================================\n",
      "\n"
     ]
    },
    {
     "name": "stdout",
     "output_type": "stream",
     "text": [
      "\u001b[1m813/813\u001b[0m \u001b[32m━━━━━━━━━━━━━━━━━━━━\u001b[0m\u001b[37m\u001b[0m \u001b[1m237s\u001b[0m 292ms/step - accuracy: 0.9483 - auc: 0.9449 - f1_score: 0.5772 - loss: 0.0282 - precision: 0.7534 - recall: 0.4970 - val_accuracy: 0.9312 - val_auc: 0.7513 - val_f1_score: 0.2329 - val_loss: 0.0734 - val_precision: 0.3102 - val_recall: 0.1983 - learning_rate: 1.0000e-06\n"
     ]
    },
    {
     "name": "stderr",
     "output_type": "stream",
     "text": [
      "2025-06-21 05:19:34 - INFO - \n",
      "=== Starting Epoch 67 ===\n",
      "\n"
     ]
    },
    {
     "name": "stdout",
     "output_type": "stream",
     "text": [
      "Epoch 67/100\n",
      "\u001b[1m813/813\u001b[0m \u001b[32m━━━━━━━━━━━━━━━━━━━━\u001b[0m\u001b[37m\u001b[0m \u001b[1m0s\u001b[0m 276ms/step - accuracy: 0.9483 - auc: 0.9451 - f1_score: 0.5786 - loss: 0.0282 - precision: 0.7551 - recall: 0.4977  "
     ]
    },
    {
     "name": "stderr",
     "output_type": "stream",
     "text": [
      "2025-06-21 05:23:32 - INFO - \n",
      "=== Epoch 67 Summary ===\n",
      "2025-06-21 05:23:32 - INFO - Time: 237.79s\n",
      "2025-06-21 05:23:32 - INFO - Training   - accuracy: 0.9487 - auc: 0.9454 - f1_score: 0.5818 - loss: 0.0280 - precision: 0.7573 - recall: 0.5009 - learning_rate: 0.0000\n",
      "2025-06-21 05:23:32 - INFO - Validation - accuracy: 0.9322 - auc: 0.7529 - f1_score: 0.2307 - loss: 0.0719 - precision: 0.3178 - recall: 0.1957\n",
      "2025-06-21 05:23:32 - INFO - ==================================================\n",
      "\n"
     ]
    },
    {
     "name": "stdout",
     "output_type": "stream",
     "text": [
      "\u001b[1m813/813\u001b[0m \u001b[32m━━━━━━━━━━━━━━━━━━━━\u001b[0m\u001b[37m\u001b[0m \u001b[1m238s\u001b[0m 293ms/step - accuracy: 0.9483 - auc: 0.9451 - f1_score: 0.5786 - loss: 0.0282 - precision: 0.7551 - recall: 0.4977 - val_accuracy: 0.9322 - val_auc: 0.7529 - val_f1_score: 0.2307 - val_loss: 0.0719 - val_precision: 0.3178 - val_recall: 0.1957 - learning_rate: 1.0000e-06\n"
     ]
    },
    {
     "name": "stderr",
     "output_type": "stream",
     "text": [
      "2025-06-21 05:23:32 - INFO - \n",
      "=== Starting Epoch 68 ===\n",
      "\n"
     ]
    },
    {
     "name": "stdout",
     "output_type": "stream",
     "text": [
      "Epoch 68/100\n",
      "\u001b[1m813/813\u001b[0m \u001b[32m━━━━━━━━━━━━━━━━━━━━\u001b[0m\u001b[37m\u001b[0m \u001b[1m0s\u001b[0m 318ms/step - accuracy: 0.9490 - auc: 0.9463 - f1_score: 0.5861 - loss: 0.0280 - precision: 0.7614 - recall: 0.5043  "
     ]
    },
    {
     "name": "stderr",
     "output_type": "stream",
     "text": [
      "2025-06-21 05:28:04 - INFO - \n",
      "=== Epoch 68 Summary ===\n",
      "2025-06-21 05:28:04 - INFO - Time: 271.79s\n",
      "2025-06-21 05:28:04 - INFO - Training   - accuracy: 0.9490 - auc: 0.9463 - f1_score: 0.5853 - loss: 0.0279 - precision: 0.7600 - recall: 0.5040 - learning_rate: 0.0000\n",
      "2025-06-21 05:28:04 - INFO - Validation - accuracy: 0.9318 - auc: 0.7519 - f1_score: 0.2357 - loss: 0.0718 - precision: 0.3186 - recall: 0.2024\n",
      "2025-06-21 05:28:04 - INFO - ==================================================\n",
      "\n"
     ]
    },
    {
     "name": "stdout",
     "output_type": "stream",
     "text": [
      "\u001b[1m813/813\u001b[0m \u001b[32m━━━━━━━━━━━━━━━━━━━━\u001b[0m\u001b[37m\u001b[0m \u001b[1m272s\u001b[0m 334ms/step - accuracy: 0.9490 - auc: 0.9463 - f1_score: 0.5861 - loss: 0.0280 - precision: 0.7614 - recall: 0.5043 - val_accuracy: 0.9318 - val_auc: 0.7519 - val_f1_score: 0.2357 - val_loss: 0.0718 - val_precision: 0.3186 - val_recall: 0.2024 - learning_rate: 1.0000e-06\n"
     ]
    },
    {
     "name": "stderr",
     "output_type": "stream",
     "text": [
      "2025-06-21 05:28:04 - INFO - \n",
      "=== Starting Epoch 69 ===\n",
      "\n"
     ]
    },
    {
     "name": "stdout",
     "output_type": "stream",
     "text": [
      "Epoch 69/100\n",
      "\u001b[1m813/813\u001b[0m \u001b[32m━━━━━━━━━━━━━━━━━━━━\u001b[0m\u001b[37m\u001b[0m \u001b[1m0s\u001b[0m 276ms/step - accuracy: 0.9490 - auc: 0.9449 - f1_score: 0.5857 - loss: 0.0280 - precision: 0.7609 - recall: 0.5047  "
     ]
    },
    {
     "name": "stderr",
     "output_type": "stream",
     "text": [
      "2025-06-21 05:32:02 - INFO - \n",
      "=== Epoch 69 Summary ===\n",
      "2025-06-21 05:32:02 - INFO - Time: 237.95s\n",
      "2025-06-21 05:32:02 - INFO - Training   - accuracy: 0.9490 - auc: 0.9457 - f1_score: 0.5853 - loss: 0.0279 - precision: 0.7600 - recall: 0.5046 - learning_rate: 0.0000\n",
      "2025-06-21 05:32:02 - INFO - Validation - accuracy: 0.9310 - auc: 0.7527 - f1_score: 0.2341 - loss: 0.0717 - precision: 0.3111 - recall: 0.2023\n",
      "2025-06-21 05:32:02 - INFO - ==================================================\n",
      "\n"
     ]
    },
    {
     "name": "stdout",
     "output_type": "stream",
     "text": [
      "\u001b[1m813/813\u001b[0m \u001b[32m━━━━━━━━━━━━━━━━━━━━\u001b[0m\u001b[37m\u001b[0m \u001b[1m238s\u001b[0m 293ms/step - accuracy: 0.9490 - auc: 0.9449 - f1_score: 0.5857 - loss: 0.0280 - precision: 0.7609 - recall: 0.5047 - val_accuracy: 0.9310 - val_auc: 0.7527 - val_f1_score: 0.2341 - val_loss: 0.0717 - val_precision: 0.3111 - val_recall: 0.2023 - learning_rate: 1.0000e-06\n"
     ]
    },
    {
     "name": "stderr",
     "output_type": "stream",
     "text": [
      "2025-06-21 05:32:02 - INFO - \n",
      "=== Starting Epoch 70 ===\n",
      "\n"
     ]
    },
    {
     "name": "stdout",
     "output_type": "stream",
     "text": [
      "Epoch 70/100\n",
      "\u001b[1m813/813\u001b[0m \u001b[32m━━━━━━━━━━━━━━━━━━━━\u001b[0m\u001b[37m\u001b[0m \u001b[1m0s\u001b[0m 276ms/step - accuracy: 0.9494 - auc: 0.9467 - f1_score: 0.5894 - loss: 0.0279 - precision: 0.7620 - recall: 0.5088  "
     ]
    },
    {
     "name": "stderr",
     "output_type": "stream",
     "text": [
      "2025-06-21 05:36:00 - INFO - \n",
      "=== Epoch 70 Summary ===\n",
      "2025-06-21 05:36:00 - INFO - Time: 237.57s\n",
      "2025-06-21 05:36:00 - INFO - Training   - accuracy: 0.9493 - auc: 0.9468 - f1_score: 0.5882 - loss: 0.0278 - precision: 0.7599 - recall: 0.5083 - learning_rate: 0.0000\n",
      "2025-06-21 05:36:00 - INFO - Validation - accuracy: 0.9319 - auc: 0.7524 - f1_score: 0.2320 - loss: 0.0716 - precision: 0.3172 - recall: 0.1992\n",
      "2025-06-21 05:36:00 - INFO - ==================================================\n",
      "\n"
     ]
    },
    {
     "name": "stdout",
     "output_type": "stream",
     "text": [
      "\u001b[1m813/813\u001b[0m \u001b[32m━━━━━━━━━━━━━━━━━━━━\u001b[0m\u001b[37m\u001b[0m \u001b[1m238s\u001b[0m 292ms/step - accuracy: 0.9494 - auc: 0.9467 - f1_score: 0.5894 - loss: 0.0279 - precision: 0.7620 - recall: 0.5088 - val_accuracy: 0.9319 - val_auc: 0.7524 - val_f1_score: 0.2320 - val_loss: 0.0716 - val_precision: 0.3172 - val_recall: 0.1992 - learning_rate: 1.0000e-06\n"
     ]
    },
    {
     "name": "stderr",
     "output_type": "stream",
     "text": [
      "2025-06-21 05:36:00 - INFO - \n",
      "=== Starting Epoch 71 ===\n",
      "\n"
     ]
    },
    {
     "name": "stdout",
     "output_type": "stream",
     "text": [
      "Epoch 71/100\n",
      "\u001b[1m813/813\u001b[0m \u001b[32m━━━━━━━━━━━━━━━━━━━━\u001b[0m\u001b[37m\u001b[0m \u001b[1m0s\u001b[0m 275ms/step - accuracy: 0.9492 - auc: 0.9471 - f1_score: 0.5893 - loss: 0.0279 - precision: 0.7626 - recall: 0.5085  "
     ]
    },
    {
     "name": "stderr",
     "output_type": "stream",
     "text": [
      "2025-06-21 05:39:57 - INFO - \n",
      "=== Epoch 71 Summary ===\n",
      "2025-06-21 05:39:57 - INFO - Time: 237.09s\n",
      "2025-06-21 05:39:57 - INFO - Training   - accuracy: 0.9495 - auc: 0.9472 - f1_score: 0.5904 - loss: 0.0277 - precision: 0.7635 - recall: 0.5097 - learning_rate: 0.0000\n",
      "2025-06-21 05:39:57 - INFO - Validation - accuracy: 0.9305 - auc: 0.7513 - f1_score: 0.2355 - loss: 0.0739 - precision: 0.3070 - recall: 0.2029\n",
      "2025-06-21 05:39:57 - INFO - ==================================================\n",
      "\n"
     ]
    },
    {
     "name": "stdout",
     "output_type": "stream",
     "text": [
      "\u001b[1m813/813\u001b[0m \u001b[32m━━━━━━━━━━━━━━━━━━━━\u001b[0m\u001b[37m\u001b[0m \u001b[1m237s\u001b[0m 292ms/step - accuracy: 0.9492 - auc: 0.9471 - f1_score: 0.5893 - loss: 0.0279 - precision: 0.7626 - recall: 0.5085 - val_accuracy: 0.9305 - val_auc: 0.7513 - val_f1_score: 0.2355 - val_loss: 0.0739 - val_precision: 0.3070 - val_recall: 0.2029 - learning_rate: 1.0000e-06\n"
     ]
    },
    {
     "name": "stderr",
     "output_type": "stream",
     "text": [
      "2025-06-21 05:39:57 - INFO - \n",
      "=== Starting Epoch 72 ===\n",
      "\n"
     ]
    },
    {
     "name": "stdout",
     "output_type": "stream",
     "text": [
      "Epoch 72/100\n",
      "\u001b[1m813/813\u001b[0m \u001b[32m━━━━━━━━━━━━━━━━━━━━\u001b[0m\u001b[37m\u001b[0m \u001b[1m0s\u001b[0m 276ms/step - accuracy: 0.9494 - auc: 0.9474 - f1_score: 0.5899 - loss: 0.0276 - precision: 0.7609 - recall: 0.5098  "
     ]
    },
    {
     "name": "stderr",
     "output_type": "stream",
     "text": [
      "2025-06-21 05:43:55 - INFO - \n",
      "=== Epoch 72 Summary ===\n",
      "2025-06-21 05:43:55 - INFO - Time: 237.96s\n",
      "2025-06-21 05:43:55 - INFO - Training   - accuracy: 0.9496 - auc: 0.9475 - f1_score: 0.5915 - loss: 0.0276 - precision: 0.7620 - recall: 0.5115 - learning_rate: 0.0000\n",
      "2025-06-21 05:43:55 - INFO - Validation - accuracy: 0.9312 - auc: 0.7522 - f1_score: 0.2322 - loss: 0.0733 - precision: 0.3125 - recall: 0.2012\n",
      "2025-06-21 05:43:55 - INFO - ==================================================\n",
      "\n"
     ]
    },
    {
     "name": "stdout",
     "output_type": "stream",
     "text": [
      "\u001b[1m813/813\u001b[0m \u001b[32m━━━━━━━━━━━━━━━━━━━━\u001b[0m\u001b[37m\u001b[0m \u001b[1m238s\u001b[0m 293ms/step - accuracy: 0.9494 - auc: 0.9474 - f1_score: 0.5899 - loss: 0.0276 - precision: 0.7609 - recall: 0.5098 - val_accuracy: 0.9312 - val_auc: 0.7522 - val_f1_score: 0.2322 - val_loss: 0.0733 - val_precision: 0.3125 - val_recall: 0.2012 - learning_rate: 1.0000e-06\n"
     ]
    },
    {
     "name": "stderr",
     "output_type": "stream",
     "text": [
      "2025-06-21 05:43:55 - INFO - \n",
      "=== Starting Epoch 73 ===\n",
      "\n"
     ]
    },
    {
     "name": "stdout",
     "output_type": "stream",
     "text": [
      "Epoch 73/100\n",
      "\u001b[1m813/813\u001b[0m \u001b[32m━━━━━━━━━━━━━━━━━━━━\u001b[0m\u001b[37m\u001b[0m \u001b[1m0s\u001b[0m 275ms/step - accuracy: 0.9495 - auc: 0.9472 - f1_score: 0.5914 - loss: 0.0277 - precision: 0.7608 - recall: 0.5114  "
     ]
    },
    {
     "name": "stderr",
     "output_type": "stream",
     "text": [
      "2025-06-21 05:47:52 - INFO - \n",
      "=== Epoch 73 Summary ===\n",
      "2025-06-21 05:47:52 - INFO - Time: 237.31s\n",
      "2025-06-21 05:47:52 - INFO - Training   - accuracy: 0.9495 - auc: 0.9474 - f1_score: 0.5921 - loss: 0.0276 - precision: 0.7607 - recall: 0.5121 - learning_rate: 0.0000\n",
      "2025-06-21 05:47:52 - INFO - Validation - accuracy: 0.9310 - auc: 0.7503 - f1_score: 0.2313 - loss: 0.0735 - precision: 0.3090 - recall: 0.1994\n",
      "2025-06-21 05:47:52 - INFO - ==================================================\n",
      "\n"
     ]
    },
    {
     "name": "stdout",
     "output_type": "stream",
     "text": [
      "\u001b[1m813/813\u001b[0m \u001b[32m━━━━━━━━━━━━━━━━━━━━\u001b[0m\u001b[37m\u001b[0m \u001b[1m237s\u001b[0m 292ms/step - accuracy: 0.9495 - auc: 0.9472 - f1_score: 0.5914 - loss: 0.0277 - precision: 0.7608 - recall: 0.5114 - val_accuracy: 0.9310 - val_auc: 0.7503 - val_f1_score: 0.2313 - val_loss: 0.0735 - val_precision: 0.3090 - val_recall: 0.1994 - learning_rate: 1.0000e-06\n"
     ]
    },
    {
     "name": "stderr",
     "output_type": "stream",
     "text": [
      "2025-06-21 05:47:52 - INFO - \n",
      "=== Starting Epoch 74 ===\n",
      "\n"
     ]
    },
    {
     "name": "stdout",
     "output_type": "stream",
     "text": [
      "Epoch 74/100\n",
      "\u001b[1m813/813\u001b[0m \u001b[32m━━━━━━━━━━━━━━━━━━━━\u001b[0m\u001b[37m\u001b[0m \u001b[1m0s\u001b[0m 317ms/step - accuracy: 0.9497 - auc: 0.9481 - f1_score: 0.5940 - loss: 0.0275 - precision: 0.7647 - recall: 0.5136  "
     ]
    },
    {
     "name": "stderr",
     "output_type": "stream",
     "text": [
      "2025-06-21 05:52:24 - INFO - \n",
      "=== Epoch 74 Summary ===\n",
      "2025-06-21 05:52:24 - INFO - Time: 272.20s\n",
      "2025-06-21 05:52:24 - INFO - Training   - accuracy: 0.9499 - auc: 0.9484 - f1_score: 0.5944 - loss: 0.0273 - precision: 0.7642 - recall: 0.5146 - learning_rate: 0.0000\n",
      "2025-06-21 05:52:24 - INFO - Validation - accuracy: 0.9308 - auc: 0.7498 - f1_score: 0.2408 - loss: 0.0756 - precision: 0.3108 - recall: 0.2048\n",
      "2025-06-21 05:52:24 - INFO - ==================================================\n",
      "\n"
     ]
    },
    {
     "name": "stdout",
     "output_type": "stream",
     "text": [
      "\u001b[1m813/813\u001b[0m \u001b[32m━━━━━━━━━━━━━━━━━━━━\u001b[0m\u001b[37m\u001b[0m \u001b[1m272s\u001b[0m 335ms/step - accuracy: 0.9497 - auc: 0.9481 - f1_score: 0.5940 - loss: 0.0275 - precision: 0.7647 - recall: 0.5136 - val_accuracy: 0.9308 - val_auc: 0.7498 - val_f1_score: 0.2408 - val_loss: 0.0756 - val_precision: 0.3108 - val_recall: 0.2048 - learning_rate: 1.0000e-06\n"
     ]
    },
    {
     "name": "stderr",
     "output_type": "stream",
     "text": [
      "2025-06-21 05:52:24 - INFO - \n",
      "=== Starting Epoch 75 ===\n",
      "\n"
     ]
    },
    {
     "name": "stdout",
     "output_type": "stream",
     "text": [
      "Epoch 75/100\n",
      "\u001b[1m813/813\u001b[0m \u001b[32m━━━━━━━━━━━━━━━━━━━━\u001b[0m\u001b[37m\u001b[0m \u001b[1m0s\u001b[0m 276ms/step - accuracy: 0.9501 - auc: 0.9484 - f1_score: 0.5987 - loss: 0.0274 - precision: 0.7661 - recall: 0.5187  "
     ]
    },
    {
     "name": "stderr",
     "output_type": "stream",
     "text": [
      "2025-06-21 05:56:22 - INFO - \n",
      "=== Epoch 75 Summary ===\n",
      "2025-06-21 05:56:22 - INFO - Time: 237.43s\n",
      "2025-06-21 05:56:22 - INFO - Training   - accuracy: 0.9501 - auc: 0.9486 - f1_score: 0.5984 - loss: 0.0274 - precision: 0.7665 - recall: 0.5181 - learning_rate: 0.0000\n",
      "2025-06-21 05:56:22 - INFO - Validation - accuracy: 0.9312 - auc: 0.7484 - f1_score: 0.2324 - loss: 0.0745 - precision: 0.3112 - recall: 0.1990\n",
      "2025-06-21 05:56:22 - INFO - ==================================================\n",
      "\n"
     ]
    },
    {
     "name": "stdout",
     "output_type": "stream",
     "text": [
      "\u001b[1m813/813\u001b[0m \u001b[32m━━━━━━━━━━━━━━━━━━━━\u001b[0m\u001b[37m\u001b[0m \u001b[1m237s\u001b[0m 292ms/step - accuracy: 0.9501 - auc: 0.9484 - f1_score: 0.5987 - loss: 0.0274 - precision: 0.7661 - recall: 0.5187 - val_accuracy: 0.9312 - val_auc: 0.7484 - val_f1_score: 0.2324 - val_loss: 0.0745 - val_precision: 0.3112 - val_recall: 0.1990 - learning_rate: 1.0000e-06\n"
     ]
    },
    {
     "name": "stderr",
     "output_type": "stream",
     "text": [
      "2025-06-21 05:56:22 - INFO - \n",
      "=== Starting Epoch 76 ===\n",
      "\n"
     ]
    },
    {
     "name": "stdout",
     "output_type": "stream",
     "text": [
      "Epoch 76/100\n",
      "\u001b[1m813/813\u001b[0m \u001b[32m━━━━━━━━━━━━━━━━━━━━\u001b[0m\u001b[37m\u001b[0m \u001b[1m0s\u001b[0m 456ms/step - accuracy: 0.9502 - auc: 0.9485 - f1_score: 0.5995 - loss: 0.0272 - precision: 0.7642 - recall: 0.5206   "
     ]
    },
    {
     "name": "stderr",
     "output_type": "stream",
     "text": [
      "2025-06-21 06:02:45 - INFO - \n",
      "=== Epoch 76 Summary ===\n",
      "2025-06-21 06:02:45 - INFO - Time: 383.62s\n",
      "2025-06-21 06:02:45 - INFO - Training   - accuracy: 0.9502 - auc: 0.9489 - f1_score: 0.5986 - loss: 0.0272 - precision: 0.7642 - recall: 0.5195 - learning_rate: 0.0000\n",
      "2025-06-21 06:02:45 - INFO - Validation - accuracy: 0.9311 - auc: 0.7503 - f1_score: 0.2398 - loss: 0.0740 - precision: 0.3134 - recall: 0.2050\n",
      "2025-06-21 06:02:45 - INFO - ==================================================\n",
      "\n"
     ]
    },
    {
     "name": "stdout",
     "output_type": "stream",
     "text": [
      "\u001b[1m813/813\u001b[0m \u001b[32m━━━━━━━━━━━━━━━━━━━━\u001b[0m\u001b[37m\u001b[0m \u001b[1m384s\u001b[0m 472ms/step - accuracy: 0.9502 - auc: 0.9485 - f1_score: 0.5995 - loss: 0.0272 - precision: 0.7642 - recall: 0.5206 - val_accuracy: 0.9311 - val_auc: 0.7503 - val_f1_score: 0.2398 - val_loss: 0.0740 - val_precision: 0.3134 - val_recall: 0.2050 - learning_rate: 1.0000e-06\n"
     ]
    },
    {
     "name": "stderr",
     "output_type": "stream",
     "text": [
      "2025-06-21 06:02:45 - INFO - \n",
      "=== Starting Epoch 77 ===\n",
      "\n"
     ]
    },
    {
     "name": "stdout",
     "output_type": "stream",
     "text": [
      "Epoch 77/100\n",
      "\u001b[1m813/813\u001b[0m \u001b[32m━━━━━━━━━━━━━━━━━━━━\u001b[0m\u001b[37m\u001b[0m \u001b[1m0s\u001b[0m 276ms/step - accuracy: 0.9504 - auc: 0.9497 - f1_score: 0.6024 - loss: 0.0271 - precision: 0.7689 - recall: 0.5213  "
     ]
    },
    {
     "name": "stderr",
     "output_type": "stream",
     "text": [
      "2025-06-21 06:06:43 - INFO - \n",
      "=== Epoch 77 Summary ===\n",
      "2025-06-21 06:06:43 - INFO - Time: 237.89s\n",
      "2025-06-21 06:06:43 - INFO - Training   - accuracy: 0.9506 - auc: 0.9498 - f1_score: 0.6021 - loss: 0.0270 - precision: 0.7677 - recall: 0.5220 - learning_rate: 0.0000\n",
      "2025-06-21 06:06:43 - INFO - Validation - accuracy: 0.9319 - auc: 0.7507 - f1_score: 0.2356 - loss: 0.0751 - precision: 0.3181 - recall: 0.2012\n",
      "2025-06-21 06:06:43 - INFO - ==================================================\n",
      "\n"
     ]
    },
    {
     "name": "stdout",
     "output_type": "stream",
     "text": [
      "\u001b[1m813/813\u001b[0m \u001b[32m━━━━━━━━━━━━━━━━━━━━\u001b[0m\u001b[37m\u001b[0m \u001b[1m238s\u001b[0m 293ms/step - accuracy: 0.9504 - auc: 0.9497 - f1_score: 0.6024 - loss: 0.0271 - precision: 0.7689 - recall: 0.5213 - val_accuracy: 0.9319 - val_auc: 0.7507 - val_f1_score: 0.2356 - val_loss: 0.0751 - val_precision: 0.3181 - val_recall: 0.2012 - learning_rate: 1.0000e-06\n"
     ]
    },
    {
     "name": "stderr",
     "output_type": "stream",
     "text": [
      "2025-06-21 06:06:43 - INFO - \n",
      "=== Starting Epoch 78 ===\n",
      "\n"
     ]
    },
    {
     "name": "stdout",
     "output_type": "stream",
     "text": [
      "Epoch 78/100\n",
      "\u001b[1m813/813\u001b[0m \u001b[32m━━━━━━━━━━━━━━━━━━━━\u001b[0m\u001b[37m\u001b[0m \u001b[1m0s\u001b[0m 276ms/step - accuracy: 0.9505 - auc: 0.9498 - f1_score: 0.6046 - loss: 0.0271 - precision: 0.7720 - recall: 0.5230  "
     ]
    },
    {
     "name": "stderr",
     "output_type": "stream",
     "text": [
      "2025-06-21 06:10:42 - INFO - \n",
      "=== Epoch 78 Summary ===\n",
      "2025-06-21 06:10:42 - INFO - Time: 238.52s\n",
      "2025-06-21 06:10:42 - INFO - Training   - accuracy: 0.9507 - auc: 0.9497 - f1_score: 0.6035 - loss: 0.0270 - precision: 0.7697 - recall: 0.5228 - learning_rate: 0.0000\n",
      "2025-06-21 06:10:42 - INFO - Validation - accuracy: 0.9302 - auc: 0.7502 - f1_score: 0.2447 - loss: 0.0746 - precision: 0.3088 - recall: 0.2102\n",
      "2025-06-21 06:10:42 - INFO - ==================================================\n",
      "\n"
     ]
    },
    {
     "name": "stdout",
     "output_type": "stream",
     "text": [
      "\u001b[1m813/813\u001b[0m \u001b[32m━━━━━━━━━━━━━━━━━━━━\u001b[0m\u001b[37m\u001b[0m \u001b[1m239s\u001b[0m 294ms/step - accuracy: 0.9505 - auc: 0.9498 - f1_score: 0.6046 - loss: 0.0271 - precision: 0.7720 - recall: 0.5230 - val_accuracy: 0.9302 - val_auc: 0.7502 - val_f1_score: 0.2447 - val_loss: 0.0746 - val_precision: 0.3088 - val_recall: 0.2102 - learning_rate: 1.0000e-06\n"
     ]
    },
    {
     "name": "stderr",
     "output_type": "stream",
     "text": [
      "2025-06-21 06:10:42 - INFO - \n",
      "=== Starting Epoch 79 ===\n",
      "\n"
     ]
    },
    {
     "name": "stdout",
     "output_type": "stream",
     "text": [
      "Epoch 79/100\n",
      "\u001b[1m813/813\u001b[0m \u001b[32m━━━━━━━━━━━━━━━━━━━━\u001b[0m\u001b[37m\u001b[0m \u001b[1m0s\u001b[0m 277ms/step - accuracy: 0.9503 - auc: 0.9493 - f1_score: 0.6020 - loss: 0.0272 - precision: 0.7683 - recall: 0.5212  "
     ]
    },
    {
     "name": "stderr",
     "output_type": "stream",
     "text": [
      "2025-06-21 06:14:40 - INFO - \n",
      "=== Epoch 79 Summary ===\n",
      "2025-06-21 06:14:40 - INFO - Time: 238.44s\n",
      "2025-06-21 06:14:40 - INFO - Training   - accuracy: 0.9505 - auc: 0.9499 - f1_score: 0.6028 - loss: 0.0271 - precision: 0.7678 - recall: 0.5232 - learning_rate: 0.0000\n",
      "2025-06-21 06:14:40 - INFO - Validation - accuracy: 0.9317 - auc: 0.7500 - f1_score: 0.2366 - loss: 0.0745 - precision: 0.3160 - recall: 0.1999\n",
      "2025-06-21 06:14:40 - INFO - ==================================================\n",
      "\n"
     ]
    },
    {
     "name": "stdout",
     "output_type": "stream",
     "text": [
      "\u001b[1m813/813\u001b[0m \u001b[32m━━━━━━━━━━━━━━━━━━━━\u001b[0m\u001b[37m\u001b[0m \u001b[1m238s\u001b[0m 293ms/step - accuracy: 0.9503 - auc: 0.9493 - f1_score: 0.6020 - loss: 0.0272 - precision: 0.7683 - recall: 0.5212 - val_accuracy: 0.9317 - val_auc: 0.7500 - val_f1_score: 0.2366 - val_loss: 0.0745 - val_precision: 0.3160 - val_recall: 0.1999 - learning_rate: 1.0000e-06\n"
     ]
    },
    {
     "name": "stderr",
     "output_type": "stream",
     "text": [
      "2025-06-21 06:14:40 - INFO - \n",
      "=== Starting Epoch 80 ===\n",
      "\n"
     ]
    },
    {
     "name": "stdout",
     "output_type": "stream",
     "text": [
      "Epoch 80/100\n",
      "\u001b[1m813/813\u001b[0m \u001b[32m━━━━━━━━━━━━━━━━━━━━\u001b[0m\u001b[37m\u001b[0m \u001b[1m0s\u001b[0m 276ms/step - accuracy: 0.9508 - auc: 0.9504 - f1_score: 0.6053 - loss: 0.0270 - precision: 0.7710 - recall: 0.5245  "
     ]
    },
    {
     "name": "stderr",
     "output_type": "stream",
     "text": [
      "2025-06-21 06:18:38 - INFO - \n",
      "=== Epoch 80 Summary ===\n",
      "2025-06-21 06:18:38 - INFO - Time: 237.94s\n",
      "2025-06-21 06:18:38 - INFO - Training   - accuracy: 0.9508 - auc: 0.9506 - f1_score: 0.6056 - loss: 0.0270 - precision: 0.7682 - recall: 0.5265 - learning_rate: 0.0000\n",
      "2025-06-21 06:18:38 - INFO - Validation - accuracy: 0.9321 - auc: 0.7508 - f1_score: 0.2358 - loss: 0.0763 - precision: 0.3216 - recall: 0.2034\n",
      "2025-06-21 06:18:38 - INFO - ==================================================\n",
      "\n"
     ]
    },
    {
     "name": "stdout",
     "output_type": "stream",
     "text": [
      "\u001b[1m813/813\u001b[0m \u001b[32m━━━━━━━━━━━━━━━━━━━━\u001b[0m\u001b[37m\u001b[0m \u001b[1m238s\u001b[0m 293ms/step - accuracy: 0.9508 - auc: 0.9504 - f1_score: 0.6053 - loss: 0.0270 - precision: 0.7710 - recall: 0.5245 - val_accuracy: 0.9321 - val_auc: 0.7508 - val_f1_score: 0.2358 - val_loss: 0.0763 - val_precision: 0.3216 - val_recall: 0.2034 - learning_rate: 1.0000e-06\n"
     ]
    },
    {
     "name": "stderr",
     "output_type": "stream",
     "text": [
      "2025-06-21 06:18:38 - INFO - \n",
      "=== Starting Epoch 81 ===\n",
      "\n"
     ]
    },
    {
     "name": "stdout",
     "output_type": "stream",
     "text": [
      "Epoch 81/100\n",
      "\u001b[1m813/813\u001b[0m \u001b[32m━━━━━━━━━━━━━━━━━━━━\u001b[0m\u001b[37m\u001b[0m \u001b[1m0s\u001b[0m 276ms/step - accuracy: 0.9509 - auc: 0.9514 - f1_score: 0.6074 - loss: 0.0267 - precision: 0.7702 - recall: 0.5276  "
     ]
    },
    {
     "name": "stderr",
     "output_type": "stream",
     "text": [
      "2025-06-21 06:22:36 - INFO - \n",
      "=== Epoch 81 Summary ===\n",
      "2025-06-21 06:22:36 - INFO - Time: 237.73s\n",
      "2025-06-21 06:22:36 - INFO - Training   - accuracy: 0.9511 - auc: 0.9511 - f1_score: 0.6081 - loss: 0.0268 - precision: 0.7696 - recall: 0.5290 - learning_rate: 0.0000\n",
      "2025-06-21 06:22:36 - INFO - Validation - accuracy: 0.9311 - auc: 0.7495 - f1_score: 0.2369 - loss: 0.0746 - precision: 0.3162 - recall: 0.2091\n",
      "2025-06-21 06:22:36 - INFO - ==================================================\n",
      "\n"
     ]
    },
    {
     "name": "stdout",
     "output_type": "stream",
     "text": [
      "\u001b[1m813/813\u001b[0m \u001b[32m━━━━━━━━━━━━━━━━━━━━\u001b[0m\u001b[37m\u001b[0m \u001b[1m238s\u001b[0m 292ms/step - accuracy: 0.9509 - auc: 0.9514 - f1_score: 0.6074 - loss: 0.0267 - precision: 0.7702 - recall: 0.5276 - val_accuracy: 0.9311 - val_auc: 0.7495 - val_f1_score: 0.2369 - val_loss: 0.0746 - val_precision: 0.3162 - val_recall: 0.2091 - learning_rate: 1.0000e-06\n"
     ]
    },
    {
     "name": "stderr",
     "output_type": "stream",
     "text": [
      "2025-06-21 06:22:36 - INFO - \n",
      "=== Starting Epoch 82 ===\n",
      "\n"
     ]
    },
    {
     "name": "stdout",
     "output_type": "stream",
     "text": [
      "Epoch 82/100\n",
      "\u001b[1m813/813\u001b[0m \u001b[32m━━━━━━━━━━━━━━━━━━━━\u001b[0m\u001b[37m\u001b[0m \u001b[1m0s\u001b[0m 276ms/step - accuracy: 0.9512 - auc: 0.9514 - f1_score: 0.6115 - loss: 0.0268 - precision: 0.7760 - recall: 0.5307  "
     ]
    },
    {
     "name": "stderr",
     "output_type": "stream",
     "text": [
      "2025-06-21 06:26:35 - INFO - \n",
      "=== Epoch 82 Summary ===\n",
      "2025-06-21 06:26:35 - INFO - Time: 238.99s\n",
      "2025-06-21 06:26:35 - INFO - Training   - accuracy: 0.9512 - auc: 0.9513 - f1_score: 0.6093 - loss: 0.0268 - precision: 0.7721 - recall: 0.5294 - learning_rate: 0.0000\n",
      "2025-06-21 06:26:35 - INFO - Validation - accuracy: 0.9305 - auc: 0.7467 - f1_score: 0.2522 - loss: 0.0769 - precision: 0.3140 - recall: 0.2154\n",
      "2025-06-21 06:26:35 - INFO - ==================================================\n",
      "\n"
     ]
    },
    {
     "name": "stdout",
     "output_type": "stream",
     "text": [
      "\u001b[1m813/813\u001b[0m \u001b[32m━━━━━━━━━━━━━━━━━━━━\u001b[0m\u001b[37m\u001b[0m \u001b[1m239s\u001b[0m 294ms/step - accuracy: 0.9512 - auc: 0.9514 - f1_score: 0.6115 - loss: 0.0268 - precision: 0.7760 - recall: 0.5307 - val_accuracy: 0.9305 - val_auc: 0.7467 - val_f1_score: 0.2522 - val_loss: 0.0769 - val_precision: 0.3140 - val_recall: 0.2154 - learning_rate: 1.0000e-06\n"
     ]
    },
    {
     "name": "stderr",
     "output_type": "stream",
     "text": [
      "2025-06-21 06:26:35 - INFO - \n",
      "=== Starting Epoch 83 ===\n",
      "\n"
     ]
    },
    {
     "name": "stdout",
     "output_type": "stream",
     "text": [
      "Epoch 83/100\n",
      "\u001b[1m813/813\u001b[0m \u001b[32m━━━━━━━━━━━━━━━━━━━━\u001b[0m\u001b[37m\u001b[0m \u001b[1m0s\u001b[0m 277ms/step - accuracy: 0.9511 - auc: 0.9513 - f1_score: 0.6093 - loss: 0.0267 - precision: 0.7706 - recall: 0.5302  "
     ]
    },
    {
     "name": "stderr",
     "output_type": "stream",
     "text": [
      "2025-06-21 06:30:34 - INFO - \n",
      "=== Epoch 83 Summary ===\n",
      "2025-06-21 06:30:34 - INFO - Time: 238.49s\n",
      "2025-06-21 06:30:34 - INFO - Training   - accuracy: 0.9514 - auc: 0.9515 - f1_score: 0.6119 - loss: 0.0267 - precision: 0.7701 - recall: 0.5337 - learning_rate: 0.0000\n",
      "2025-06-21 06:30:34 - INFO - Validation - accuracy: 0.9320 - auc: 0.7495 - f1_score: 0.2292 - loss: 0.0759 - precision: 0.3171 - recall: 0.1972\n",
      "2025-06-21 06:30:34 - INFO - ==================================================\n",
      "\n"
     ]
    },
    {
     "name": "stdout",
     "output_type": "stream",
     "text": [
      "\u001b[1m813/813\u001b[0m \u001b[32m━━━━━━━━━━━━━━━━━━━━\u001b[0m\u001b[37m\u001b[0m \u001b[1m238s\u001b[0m 293ms/step - accuracy: 0.9511 - auc: 0.9513 - f1_score: 0.6093 - loss: 0.0267 - precision: 0.7706 - recall: 0.5302 - val_accuracy: 0.9320 - val_auc: 0.7495 - val_f1_score: 0.2292 - val_loss: 0.0759 - val_precision: 0.3171 - val_recall: 0.1972 - learning_rate: 1.0000e-06\n"
     ]
    },
    {
     "name": "stderr",
     "output_type": "stream",
     "text": [
      "2025-06-21 06:30:34 - INFO - \n",
      "=== Starting Epoch 84 ===\n",
      "\n"
     ]
    },
    {
     "name": "stdout",
     "output_type": "stream",
     "text": [
      "Epoch 84/100\n",
      "\u001b[1m813/813\u001b[0m \u001b[32m━━━━━━━━━━━━━━━━━━━━\u001b[0m\u001b[37m\u001b[0m \u001b[1m0s\u001b[0m 276ms/step - accuracy: 0.9515 - auc: 0.9525 - f1_score: 0.6152 - loss: 0.0266 - precision: 0.7795 - recall: 0.5338  "
     ]
    },
    {
     "name": "stderr",
     "output_type": "stream",
     "text": [
      "2025-06-21 06:34:31 - INFO - \n",
      "=== Epoch 84 Summary ===\n",
      "2025-06-21 06:34:31 - INFO - Time: 237.96s\n",
      "2025-06-21 06:34:31 - INFO - Training   - accuracy: 0.9515 - auc: 0.9522 - f1_score: 0.6139 - loss: 0.0266 - precision: 0.7746 - recall: 0.5343 - learning_rate: 0.0000\n",
      "2025-06-21 06:34:31 - INFO - Validation - accuracy: 0.9306 - auc: 0.7502 - f1_score: 0.2486 - loss: 0.0767 - precision: 0.3154 - recall: 0.2162\n",
      "2025-06-21 06:34:31 - INFO - ==================================================\n",
      "\n"
     ]
    },
    {
     "name": "stdout",
     "output_type": "stream",
     "text": [
      "\u001b[1m813/813\u001b[0m \u001b[32m━━━━━━━━━━━━━━━━━━━━\u001b[0m\u001b[37m\u001b[0m \u001b[1m238s\u001b[0m 293ms/step - accuracy: 0.9515 - auc: 0.9525 - f1_score: 0.6152 - loss: 0.0266 - precision: 0.7795 - recall: 0.5338 - val_accuracy: 0.9306 - val_auc: 0.7502 - val_f1_score: 0.2486 - val_loss: 0.0767 - val_precision: 0.3154 - val_recall: 0.2162 - learning_rate: 1.0000e-06\n"
     ]
    },
    {
     "name": "stderr",
     "output_type": "stream",
     "text": [
      "2025-06-21 06:34:32 - INFO - \n",
      "=== Starting Epoch 85 ===\n",
      "\n"
     ]
    },
    {
     "name": "stdout",
     "output_type": "stream",
     "text": [
      "Epoch 85/100\n",
      "\u001b[1m813/813\u001b[0m \u001b[32m━━━━━━━━━━━━━━━━━━━━\u001b[0m\u001b[37m\u001b[0m \u001b[1m0s\u001b[0m 276ms/step - accuracy: 0.9517 - auc: 0.9526 - f1_score: 0.6145 - loss: 0.0264 - precision: 0.7738 - recall: 0.5357  "
     ]
    },
    {
     "name": "stderr",
     "output_type": "stream",
     "text": [
      "2025-06-21 06:38:29 - INFO - \n",
      "=== Epoch 85 Summary ===\n",
      "2025-06-21 06:38:29 - INFO - Time: 237.98s\n",
      "2025-06-21 06:38:29 - INFO - Training   - accuracy: 0.9518 - auc: 0.9523 - f1_score: 0.6156 - loss: 0.0265 - precision: 0.7744 - recall: 0.5368 - learning_rate: 0.0000\n",
      "2025-06-21 06:38:29 - INFO - Validation - accuracy: 0.9308 - auc: 0.7474 - f1_score: 0.2496 - loss: 0.0771 - precision: 0.3158 - recall: 0.2144\n",
      "2025-06-21 06:38:29 - INFO - ==================================================\n",
      "\n"
     ]
    },
    {
     "name": "stdout",
     "output_type": "stream",
     "text": [
      "\u001b[1m813/813\u001b[0m \u001b[32m━━━━━━━━━━━━━━━━━━━━\u001b[0m\u001b[37m\u001b[0m \u001b[1m238s\u001b[0m 293ms/step - accuracy: 0.9517 - auc: 0.9526 - f1_score: 0.6145 - loss: 0.0264 - precision: 0.7738 - recall: 0.5357 - val_accuracy: 0.9308 - val_auc: 0.7474 - val_f1_score: 0.2496 - val_loss: 0.0771 - val_precision: 0.3158 - val_recall: 0.2144 - learning_rate: 1.0000e-06\n"
     ]
    },
    {
     "name": "stderr",
     "output_type": "stream",
     "text": [
      "2025-06-21 06:38:29 - INFO - \n",
      "=== Starting Epoch 86 ===\n",
      "\n"
     ]
    },
    {
     "name": "stdout",
     "output_type": "stream",
     "text": [
      "Epoch 86/100\n",
      "\u001b[1m813/813\u001b[0m \u001b[32m━━━━━━━━━━━━━━━━━━━━\u001b[0m\u001b[37m\u001b[0m \u001b[1m0s\u001b[0m 276ms/step - accuracy: 0.9520 - auc: 0.9534 - f1_score: 0.6181 - loss: 0.0263 - precision: 0.7782 - recall: 0.5384  "
     ]
    },
    {
     "name": "stderr",
     "output_type": "stream",
     "text": [
      "2025-06-21 06:42:27 - INFO - \n",
      "=== Epoch 86 Summary ===\n",
      "2025-06-21 06:42:27 - INFO - Time: 237.88s\n",
      "2025-06-21 06:42:27 - INFO - Training   - accuracy: 0.9520 - auc: 0.9531 - f1_score: 0.6166 - loss: 0.0264 - precision: 0.7751 - recall: 0.5380 - learning_rate: 0.0000\n",
      "2025-06-21 06:42:27 - INFO - Validation - accuracy: 0.9306 - auc: 0.7492 - f1_score: 0.2456 - loss: 0.0762 - precision: 0.3141 - recall: 0.2141\n",
      "2025-06-21 06:42:27 - INFO - ==================================================\n",
      "\n"
     ]
    },
    {
     "name": "stdout",
     "output_type": "stream",
     "text": [
      "\u001b[1m813/813\u001b[0m \u001b[32m━━━━━━━━━━━━━━━━━━━━\u001b[0m\u001b[37m\u001b[0m \u001b[1m238s\u001b[0m 293ms/step - accuracy: 0.9520 - auc: 0.9534 - f1_score: 0.6181 - loss: 0.0263 - precision: 0.7782 - recall: 0.5384 - val_accuracy: 0.9306 - val_auc: 0.7492 - val_f1_score: 0.2456 - val_loss: 0.0762 - val_precision: 0.3141 - val_recall: 0.2141 - learning_rate: 1.0000e-06\n"
     ]
    },
    {
     "name": "stderr",
     "output_type": "stream",
     "text": [
      "2025-06-21 06:42:27 - INFO - \n",
      "=== Starting Epoch 87 ===\n",
      "\n"
     ]
    },
    {
     "name": "stdout",
     "output_type": "stream",
     "text": [
      "Epoch 87/100\n",
      "\u001b[1m813/813\u001b[0m \u001b[32m━━━━━━━━━━━━━━━━━━━━\u001b[0m\u001b[37m\u001b[0m \u001b[1m0s\u001b[0m 276ms/step - accuracy: 0.9519 - auc: 0.9532 - f1_score: 0.6189 - loss: 0.0264 - precision: 0.7776 - recall: 0.5396  "
     ]
    },
    {
     "name": "stderr",
     "output_type": "stream",
     "text": [
      "2025-06-21 06:46:25 - INFO - \n",
      "=== Epoch 87 Summary ===\n",
      "2025-06-21 06:46:25 - INFO - Time: 238.07s\n",
      "2025-06-21 06:46:25 - INFO - Training   - accuracy: 0.9519 - auc: 0.9531 - f1_score: 0.6183 - loss: 0.0264 - precision: 0.7748 - recall: 0.5397 - learning_rate: 0.0000\n",
      "2025-06-21 06:46:25 - INFO - Validation - accuracy: 0.9311 - auc: 0.7502 - f1_score: 0.2475 - loss: 0.0754 - precision: 0.3184 - recall: 0.2135\n",
      "2025-06-21 06:46:25 - INFO - ==================================================\n",
      "\n"
     ]
    },
    {
     "name": "stdout",
     "output_type": "stream",
     "text": [
      "\u001b[1m813/813\u001b[0m \u001b[32m━━━━━━━━━━━━━━━━━━━━\u001b[0m\u001b[37m\u001b[0m \u001b[1m238s\u001b[0m 293ms/step - accuracy: 0.9519 - auc: 0.9532 - f1_score: 0.6189 - loss: 0.0264 - precision: 0.7776 - recall: 0.5396 - val_accuracy: 0.9311 - val_auc: 0.7502 - val_f1_score: 0.2475 - val_loss: 0.0754 - val_precision: 0.3184 - val_recall: 0.2135 - learning_rate: 1.0000e-06\n"
     ]
    },
    {
     "name": "stderr",
     "output_type": "stream",
     "text": [
      "2025-06-21 06:46:25 - INFO - \n",
      "=== Starting Epoch 88 ===\n",
      "\n"
     ]
    },
    {
     "name": "stdout",
     "output_type": "stream",
     "text": [
      "Epoch 88/100\n",
      "\u001b[1m813/813\u001b[0m \u001b[32m━━━━━━━━━━━━━━━━━━━━\u001b[0m\u001b[37m\u001b[0m \u001b[1m0s\u001b[0m 277ms/step - accuracy: 0.9518 - auc: 0.9537 - f1_score: 0.6175 - loss: 0.0264 - precision: 0.7720 - recall: 0.5407  "
     ]
    },
    {
     "name": "stderr",
     "output_type": "stream",
     "text": [
      "2025-06-21 06:50:24 - INFO - \n",
      "=== Epoch 88 Summary ===\n",
      "2025-06-21 06:50:24 - INFO - Time: 238.51s\n",
      "2025-06-21 06:50:24 - INFO - Training   - accuracy: 0.9520 - auc: 0.9537 - f1_score: 0.6189 - loss: 0.0263 - precision: 0.7737 - recall: 0.5412 - learning_rate: 0.0000\n",
      "2025-06-21 06:50:24 - INFO - Validation - accuracy: 0.9313 - auc: 0.7495 - f1_score: 0.2487 - loss: 0.0749 - precision: 0.3199 - recall: 0.2132\n",
      "2025-06-21 06:50:24 - INFO - ==================================================\n",
      "\n"
     ]
    },
    {
     "name": "stdout",
     "output_type": "stream",
     "text": [
      "\u001b[1m813/813\u001b[0m \u001b[32m━━━━━━━━━━━━━━━━━━━━\u001b[0m\u001b[37m\u001b[0m \u001b[1m239s\u001b[0m 293ms/step - accuracy: 0.9518 - auc: 0.9537 - f1_score: 0.6175 - loss: 0.0264 - precision: 0.7720 - recall: 0.5407 - val_accuracy: 0.9313 - val_auc: 0.7495 - val_f1_score: 0.2487 - val_loss: 0.0749 - val_precision: 0.3199 - val_recall: 0.2132 - learning_rate: 1.0000e-06\n"
     ]
    },
    {
     "name": "stderr",
     "output_type": "stream",
     "text": [
      "2025-06-21 06:50:24 - INFO - \n",
      "=== Starting Epoch 89 ===\n",
      "\n"
     ]
    },
    {
     "name": "stdout",
     "output_type": "stream",
     "text": [
      "Epoch 89/100\n",
      "\u001b[1m813/813\u001b[0m \u001b[32m━━━━━━━━━━━━━━━━━━━━\u001b[0m\u001b[37m\u001b[0m \u001b[1m0s\u001b[0m 276ms/step - accuracy: 0.9525 - auc: 0.9535 - f1_score: 0.6221 - loss: 0.0262 - precision: 0.7774 - recall: 0.5441  "
     ]
    },
    {
     "name": "stderr",
     "output_type": "stream",
     "text": [
      "2025-06-21 06:54:22 - INFO - \n",
      "=== Epoch 89 Summary ===\n",
      "2025-06-21 06:54:22 - INFO - Time: 237.92s\n",
      "2025-06-21 06:54:22 - INFO - Training   - accuracy: 0.9524 - auc: 0.9535 - f1_score: 0.6219 - loss: 0.0263 - precision: 0.7760 - recall: 0.5444 - learning_rate: 0.0000\n",
      "2025-06-21 06:54:22 - INFO - Validation - accuracy: 0.9315 - auc: 0.7494 - f1_score: 0.2355 - loss: 0.0764 - precision: 0.3167 - recall: 0.2038\n",
      "2025-06-21 06:54:22 - INFO - ==================================================\n",
      "\n"
     ]
    },
    {
     "name": "stdout",
     "output_type": "stream",
     "text": [
      "\u001b[1m813/813\u001b[0m \u001b[32m━━━━━━━━━━━━━━━━━━━━\u001b[0m\u001b[37m\u001b[0m \u001b[1m238s\u001b[0m 293ms/step - accuracy: 0.9525 - auc: 0.9535 - f1_score: 0.6221 - loss: 0.0262 - precision: 0.7774 - recall: 0.5441 - val_accuracy: 0.9315 - val_auc: 0.7494 - val_f1_score: 0.2355 - val_loss: 0.0764 - val_precision: 0.3167 - val_recall: 0.2038 - learning_rate: 1.0000e-06\n"
     ]
    },
    {
     "name": "stderr",
     "output_type": "stream",
     "text": [
      "2025-06-21 06:54:22 - INFO - \n",
      "=== Starting Epoch 90 ===\n",
      "\n"
     ]
    },
    {
     "name": "stdout",
     "output_type": "stream",
     "text": [
      "Epoch 90/100\n",
      "\u001b[1m813/813\u001b[0m \u001b[32m━━━━━━━━━━━━━━━━━━━━\u001b[0m\u001b[37m\u001b[0m \u001b[1m0s\u001b[0m 276ms/step - accuracy: 0.9521 - auc: 0.9537 - f1_score: 0.6202 - loss: 0.0263 - precision: 0.7775 - recall: 0.5415  "
     ]
    },
    {
     "name": "stderr",
     "output_type": "stream",
     "text": [
      "2025-06-21 06:58:20 - INFO - \n",
      "=== Epoch 90 Summary ===\n",
      "2025-06-21 06:58:20 - INFO - Time: 237.88s\n",
      "2025-06-21 06:58:20 - INFO - Training   - accuracy: 0.9523 - auc: 0.9539 - f1_score: 0.6214 - loss: 0.0262 - precision: 0.7772 - recall: 0.5431 - learning_rate: 0.0000\n",
      "2025-06-21 06:58:20 - INFO - Validation - accuracy: 0.9313 - auc: 0.7471 - f1_score: 0.2420 - loss: 0.0768 - precision: 0.3162 - recall: 0.2064\n",
      "2025-06-21 06:58:20 - INFO - ==================================================\n",
      "\n"
     ]
    },
    {
     "name": "stdout",
     "output_type": "stream",
     "text": [
      "\u001b[1m813/813\u001b[0m \u001b[32m━━━━━━━━━━━━━━━━━━━━\u001b[0m\u001b[37m\u001b[0m \u001b[1m238s\u001b[0m 293ms/step - accuracy: 0.9521 - auc: 0.9537 - f1_score: 0.6202 - loss: 0.0263 - precision: 0.7775 - recall: 0.5415 - val_accuracy: 0.9313 - val_auc: 0.7471 - val_f1_score: 0.2420 - val_loss: 0.0768 - val_precision: 0.3162 - val_recall: 0.2064 - learning_rate: 1.0000e-06\n"
     ]
    },
    {
     "name": "stderr",
     "output_type": "stream",
     "text": [
      "2025-06-21 06:58:20 - INFO - \n",
      "=== Starting Epoch 91 ===\n",
      "\n"
     ]
    },
    {
     "name": "stdout",
     "output_type": "stream",
     "text": [
      "Epoch 91/100\n",
      "\u001b[1m813/813\u001b[0m \u001b[32m━━━━━━━━━━━━━━━━━━━━\u001b[0m\u001b[37m\u001b[0m \u001b[1m0s\u001b[0m 275ms/step - accuracy: 0.9530 - auc: 0.9549 - f1_score: 0.6276 - loss: 0.0260 - precision: 0.7821 - recall: 0.5485  "
     ]
    },
    {
     "name": "stderr",
     "output_type": "stream",
     "text": [
      "2025-06-21 07:02:17 - INFO - \n",
      "=== Epoch 91 Summary ===\n",
      "2025-06-21 07:02:17 - INFO - Time: 237.35s\n",
      "2025-06-21 07:02:17 - INFO - Training   - accuracy: 0.9528 - auc: 0.9547 - f1_score: 0.6258 - loss: 0.0260 - precision: 0.7803 - recall: 0.5474 - learning_rate: 0.0000\n",
      "2025-06-21 07:02:17 - INFO - Validation - accuracy: 0.9306 - auc: 0.7495 - f1_score: 0.2396 - loss: 0.0766 - precision: 0.3145 - recall: 0.2144\n",
      "2025-06-21 07:02:17 - INFO - ==================================================\n",
      "\n"
     ]
    },
    {
     "name": "stdout",
     "output_type": "stream",
     "text": [
      "\u001b[1m813/813\u001b[0m \u001b[32m━━━━━━━━━━━━━━━━━━━━\u001b[0m\u001b[37m\u001b[0m \u001b[1m237s\u001b[0m 292ms/step - accuracy: 0.9530 - auc: 0.9549 - f1_score: 0.6276 - loss: 0.0260 - precision: 0.7821 - recall: 0.5485 - val_accuracy: 0.9306 - val_auc: 0.7495 - val_f1_score: 0.2396 - val_loss: 0.0766 - val_precision: 0.3145 - val_recall: 0.2144 - learning_rate: 1.0000e-06\n"
     ]
    },
    {
     "name": "stderr",
     "output_type": "stream",
     "text": [
      "2025-06-21 07:02:17 - INFO - \n",
      "=== Starting Epoch 92 ===\n",
      "\n"
     ]
    },
    {
     "name": "stdout",
     "output_type": "stream",
     "text": [
      "Epoch 92/100\n",
      "\u001b[1m813/813\u001b[0m \u001b[32m━━━━━━━━━━━━━━━━━━━━\u001b[0m\u001b[37m\u001b[0m \u001b[1m0s\u001b[0m 405ms/step - accuracy: 0.9529 - auc: 0.9547 - f1_score: 0.6273 - loss: 0.0260 - precision: 0.7810 - recall: 0.5483   "
     ]
    },
    {
     "name": "stderr",
     "output_type": "stream",
     "text": [
      "2025-06-21 07:08:00 - INFO - \n",
      "=== Epoch 92 Summary ===\n",
      "2025-06-21 07:08:00 - INFO - Time: 342.53s\n",
      "2025-06-21 07:08:00 - INFO - Training   - accuracy: 0.9530 - auc: 0.9549 - f1_score: 0.6281 - loss: 0.0260 - precision: 0.7820 - recall: 0.5490 - learning_rate: 0.0000\n",
      "2025-06-21 07:08:00 - INFO - Validation - accuracy: 0.9300 - auc: 0.7496 - f1_score: 0.2503 - loss: 0.0767 - precision: 0.3157 - recall: 0.2254\n",
      "2025-06-21 07:08:00 - INFO - ==================================================\n",
      "\n"
     ]
    },
    {
     "name": "stdout",
     "output_type": "stream",
     "text": [
      "\u001b[1m813/813\u001b[0m \u001b[32m━━━━━━━━━━━━━━━━━━━━\u001b[0m\u001b[37m\u001b[0m \u001b[1m343s\u001b[0m 422ms/step - accuracy: 0.9529 - auc: 0.9547 - f1_score: 0.6273 - loss: 0.0260 - precision: 0.7810 - recall: 0.5483 - val_accuracy: 0.9300 - val_auc: 0.7496 - val_f1_score: 0.2503 - val_loss: 0.0767 - val_precision: 0.3157 - val_recall: 0.2254 - learning_rate: 1.0000e-06\n"
     ]
    },
    {
     "name": "stderr",
     "output_type": "stream",
     "text": [
      "2025-06-21 07:08:00 - INFO - \n",
      "=== Starting Epoch 93 ===\n",
      "\n"
     ]
    },
    {
     "name": "stdout",
     "output_type": "stream",
     "text": [
      "Epoch 93/100\n",
      "\u001b[1m813/813\u001b[0m \u001b[32m━━━━━━━━━━━━━━━━━━━━\u001b[0m\u001b[37m\u001b[0m \u001b[1m0s\u001b[0m 276ms/step - accuracy: 0.9530 - auc: 0.9552 - f1_score: 0.6291 - loss: 0.0260 - precision: 0.7794 - recall: 0.5514  "
     ]
    },
    {
     "name": "stderr",
     "output_type": "stream",
     "text": [
      "2025-06-21 07:11:58 - INFO - \n",
      "=== Epoch 93 Summary ===\n",
      "2025-06-21 07:11:58 - INFO - Time: 238.12s\n",
      "2025-06-21 07:11:58 - INFO - Training   - accuracy: 0.9530 - auc: 0.9554 - f1_score: 0.6297 - loss: 0.0259 - precision: 0.7800 - recall: 0.5521 - learning_rate: 0.0000\n",
      "2025-06-21 07:11:58 - INFO - Validation - accuracy: 0.9299 - auc: 0.7483 - f1_score: 0.2529 - loss: 0.0781 - precision: 0.3122 - recall: 0.2212\n",
      "2025-06-21 07:11:58 - INFO - ==================================================\n",
      "\n"
     ]
    },
    {
     "name": "stdout",
     "output_type": "stream",
     "text": [
      "\u001b[1m813/813\u001b[0m \u001b[32m━━━━━━━━━━━━━━━━━━━━\u001b[0m\u001b[37m\u001b[0m \u001b[1m238s\u001b[0m 293ms/step - accuracy: 0.9530 - auc: 0.9552 - f1_score: 0.6291 - loss: 0.0260 - precision: 0.7794 - recall: 0.5514 - val_accuracy: 0.9299 - val_auc: 0.7483 - val_f1_score: 0.2529 - val_loss: 0.0781 - val_precision: 0.3122 - val_recall: 0.2212 - learning_rate: 1.0000e-06\n"
     ]
    },
    {
     "name": "stderr",
     "output_type": "stream",
     "text": [
      "2025-06-21 07:11:58 - INFO - \n",
      "=== Starting Epoch 94 ===\n",
      "\n"
     ]
    },
    {
     "name": "stdout",
     "output_type": "stream",
     "text": [
      "Epoch 94/100\n",
      "\u001b[1m813/813\u001b[0m \u001b[32m━━━━━━━━━━━━━━━━━━━━\u001b[0m\u001b[37m\u001b[0m \u001b[1m0s\u001b[0m 276ms/step - accuracy: 0.9534 - auc: 0.9560 - f1_score: 0.6317 - loss: 0.0257 - precision: 0.7823 - recall: 0.5544  "
     ]
    },
    {
     "name": "stderr",
     "output_type": "stream",
     "text": [
      "2025-06-21 07:15:56 - INFO - \n",
      "=== Epoch 94 Summary ===\n",
      "2025-06-21 07:15:56 - INFO - Time: 238.06s\n",
      "2025-06-21 07:15:56 - INFO - Training   - accuracy: 0.9535 - auc: 0.9559 - f1_score: 0.6323 - loss: 0.0257 - precision: 0.7828 - recall: 0.5551 - learning_rate: 0.0000\n",
      "2025-06-21 07:15:56 - INFO - Validation - accuracy: 0.9305 - auc: 0.7463 - f1_score: 0.2421 - loss: 0.0773 - precision: 0.3106 - recall: 0.2092\n",
      "2025-06-21 07:15:56 - INFO - ==================================================\n",
      "\n"
     ]
    },
    {
     "name": "stdout",
     "output_type": "stream",
     "text": [
      "\u001b[1m813/813\u001b[0m \u001b[32m━━━━━━━━━━━━━━━━━━━━\u001b[0m\u001b[37m\u001b[0m \u001b[1m238s\u001b[0m 293ms/step - accuracy: 0.9534 - auc: 0.9560 - f1_score: 0.6317 - loss: 0.0257 - precision: 0.7824 - recall: 0.5544 - val_accuracy: 0.9305 - val_auc: 0.7463 - val_f1_score: 0.2421 - val_loss: 0.0773 - val_precision: 0.3106 - val_recall: 0.2092 - learning_rate: 1.0000e-06\n"
     ]
    },
    {
     "name": "stderr",
     "output_type": "stream",
     "text": [
      "2025-06-21 07:15:56 - INFO - \n",
      "=== Starting Epoch 95 ===\n",
      "\n"
     ]
    },
    {
     "name": "stdout",
     "output_type": "stream",
     "text": [
      "Epoch 95/100\n",
      "\u001b[1m813/813\u001b[0m \u001b[32m━━━━━━━━━━━━━━━━━━━━\u001b[0m\u001b[37m\u001b[0m \u001b[1m0s\u001b[0m 275ms/step - accuracy: 0.9529 - auc: 0.9555 - f1_score: 0.6290 - loss: 0.0259 - precision: 0.7792 - recall: 0.5521  "
     ]
    },
    {
     "name": "stderr",
     "output_type": "stream",
     "text": [
      "2025-06-21 07:19:53 - INFO - \n",
      "=== Epoch 95 Summary ===\n",
      "2025-06-21 07:19:53 - INFO - Time: 237.27s\n",
      "2025-06-21 07:19:53 - INFO - Training   - accuracy: 0.9531 - auc: 0.9555 - f1_score: 0.6295 - loss: 0.0258 - precision: 0.7806 - recall: 0.5523 - learning_rate: 0.0000\n",
      "2025-06-21 07:19:53 - INFO - Validation - accuracy: 0.9317 - auc: 0.7470 - f1_score: 0.2413 - loss: 0.0786 - precision: 0.3199 - recall: 0.2064\n",
      "2025-06-21 07:19:53 - INFO - ==================================================\n",
      "\n"
     ]
    },
    {
     "name": "stdout",
     "output_type": "stream",
     "text": [
      "\u001b[1m813/813\u001b[0m \u001b[32m━━━━━━━━━━━━━━━━━━━━\u001b[0m\u001b[37m\u001b[0m \u001b[1m237s\u001b[0m 292ms/step - accuracy: 0.9529 - auc: 0.9555 - f1_score: 0.6290 - loss: 0.0259 - precision: 0.7792 - recall: 0.5521 - val_accuracy: 0.9317 - val_auc: 0.7470 - val_f1_score: 0.2413 - val_loss: 0.0786 - val_precision: 0.3199 - val_recall: 0.2064 - learning_rate: 1.0000e-06\n"
     ]
    },
    {
     "name": "stderr",
     "output_type": "stream",
     "text": [
      "2025-06-21 07:19:53 - INFO - \n",
      "=== Starting Epoch 96 ===\n",
      "\n"
     ]
    },
    {
     "name": "stdout",
     "output_type": "stream",
     "text": [
      "Epoch 96/100\n",
      "\u001b[1m813/813\u001b[0m \u001b[32m━━━━━━━━━━━━━━━━━━━━\u001b[0m\u001b[37m\u001b[0m \u001b[1m0s\u001b[0m 276ms/step - accuracy: 0.9535 - auc: 0.9562 - f1_score: 0.6340 - loss: 0.0257 - precision: 0.7822 - recall: 0.5577  "
     ]
    },
    {
     "name": "stderr",
     "output_type": "stream",
     "text": [
      "2025-06-21 07:23:51 - INFO - \n",
      "=== Epoch 96 Summary ===\n",
      "2025-06-21 07:23:51 - INFO - Time: 237.81s\n",
      "2025-06-21 07:23:51 - INFO - Training   - accuracy: 0.9534 - auc: 0.9560 - f1_score: 0.6332 - loss: 0.0257 - precision: 0.7812 - recall: 0.5570 - learning_rate: 0.0000\n",
      "2025-06-21 07:23:51 - INFO - Validation - accuracy: 0.9305 - auc: 0.7460 - f1_score: 0.2517 - loss: 0.0802 - precision: 0.3164 - recall: 0.2197\n",
      "2025-06-21 07:23:51 - INFO - ==================================================\n",
      "\n"
     ]
    },
    {
     "name": "stdout",
     "output_type": "stream",
     "text": [
      "\u001b[1m813/813\u001b[0m \u001b[32m━━━━━━━━━━━━━━━━━━━━\u001b[0m\u001b[37m\u001b[0m \u001b[1m238s\u001b[0m 293ms/step - accuracy: 0.9535 - auc: 0.9562 - f1_score: 0.6340 - loss: 0.0257 - precision: 0.7822 - recall: 0.5577 - val_accuracy: 0.9305 - val_auc: 0.7460 - val_f1_score: 0.2517 - val_loss: 0.0802 - val_precision: 0.3164 - val_recall: 0.2197 - learning_rate: 1.0000e-06\n"
     ]
    },
    {
     "name": "stderr",
     "output_type": "stream",
     "text": [
      "2025-06-21 07:23:51 - INFO - \n",
      "=== Starting Epoch 97 ===\n",
      "\n"
     ]
    },
    {
     "name": "stdout",
     "output_type": "stream",
     "text": [
      "Epoch 97/100\n",
      "\u001b[1m813/813\u001b[0m \u001b[32m━━━━━━━━━━━━━━━━━━━━\u001b[0m\u001b[37m\u001b[0m \u001b[1m0s\u001b[0m 276ms/step - accuracy: 0.9537 - auc: 0.9563 - f1_score: 0.6359 - loss: 0.0258 - precision: 0.7851 - recall: 0.5586  "
     ]
    },
    {
     "name": "stderr",
     "output_type": "stream",
     "text": [
      "2025-06-21 07:27:49 - INFO - \n",
      "=== Epoch 97 Summary ===\n",
      "2025-06-21 07:27:49 - INFO - Time: 237.68s\n",
      "2025-06-21 07:27:49 - INFO - Training   - accuracy: 0.9536 - auc: 0.9566 - f1_score: 0.6352 - loss: 0.0256 - precision: 0.7829 - recall: 0.5586 - learning_rate: 0.0000\n",
      "2025-06-21 07:27:49 - INFO - Validation - accuracy: 0.9314 - auc: 0.7483 - f1_score: 0.2425 - loss: 0.0783 - precision: 0.3193 - recall: 0.2108\n",
      "2025-06-21 07:27:49 - INFO - ==================================================\n",
      "\n"
     ]
    },
    {
     "name": "stdout",
     "output_type": "stream",
     "text": [
      "\u001b[1m813/813\u001b[0m \u001b[32m━━━━━━━━━━━━━━━━━━━━\u001b[0m\u001b[37m\u001b[0m \u001b[1m238s\u001b[0m 292ms/step - accuracy: 0.9537 - auc: 0.9563 - f1_score: 0.6359 - loss: 0.0258 - precision: 0.7851 - recall: 0.5586 - val_accuracy: 0.9314 - val_auc: 0.7483 - val_f1_score: 0.2425 - val_loss: 0.0783 - val_precision: 0.3193 - val_recall: 0.2108 - learning_rate: 1.0000e-06\n"
     ]
    },
    {
     "name": "stderr",
     "output_type": "stream",
     "text": [
      "2025-06-21 07:27:49 - INFO - \n",
      "=== Training Completed! ===\n",
      "\n",
      "2025-06-21 07:27:49 - INFO - Final Metrics: accuracy: 0.9536 - auc: 0.9566 - f1_score: 0.6352 - loss: 0.0256 - precision: 0.7829 - recall: 0.5586 - val_accuracy: 0.9314 - val_auc: 0.7483 - val_f1_score: 0.2425 - val_loss: 0.0783 - val_precision: 0.3193 - val_recall: 0.2108\n",
      "\n"
     ]
    },
    {
     "name": "stdout",
     "output_type": "stream",
     "text": [
      "Epoch 97: early stopping\n",
      "Restoring model weights from the end of the best epoch: 82.\n"
     ]
    }
   ],
   "source": [
    "# Model Training\n",
    "model          = build_densenet121(num_classes, use_se=False, use_eca=False, use_gam=True, ratio=16, channel_blocks=[2, 3])\n",
    "optimizer      = Adam(learning_rate=1e-4)\n",
    "compile_kwargs = {'optimizer': optimizer, 'loss': loss, 'metrics': metrics}\n",
    "\n",
    "history, model = start_or_resume_training(\n",
    "    model, \n",
    "    compile_kwargs, \n",
    "    train_ds, \n",
    "    val_ds, \n",
    "    TF_MAX_EPOCHS,\n",
    "    steps_per_epoch, \n",
    "    validation_steps, \n",
    "    class_weights=class_weights,\n",
    "    callbacks=[checkpoint, best_checkpoint, reduce_lr, training_logger, metrics_monitor, early_stopping], \n",
    "    checkpoint_path=checkpoint_path,\n",
    "    initial_epoch=initial_epoch,\n",
    "    output_dir=MODELS_PATH,\n",
    "    model_name=model_name,\n",
    "    logger=logger\n",
    ")"
   ]
  },
  {
   "cell_type": "code",
   "execution_count": null,
   "id": "47f1f86e-635a-47bc-8e2e-19530b84a0bf",
   "metadata": {},
   "outputs": [],
   "source": []
  }
 ],
 "metadata": {
  "kernelspec": {
   "display_name": "Python 3 (ipykernel)",
   "language": "python",
   "name": "python3"
  },
  "language_info": {
   "codemirror_mode": {
    "name": "ipython",
    "version": 3
   },
   "file_extension": ".py",
   "mimetype": "text/x-python",
   "name": "python",
   "nbconvert_exporter": "python",
   "pygments_lexer": "ipython3",
   "version": "3.10.16"
  }
 },
 "nbformat": 4,
 "nbformat_minor": 5
}
