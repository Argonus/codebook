{
 "cells": [
  {
   "cell_type": "code",
   "execution_count": 1,
   "id": "b694919a-9b18-4068-8e69-7258de889dff",
   "metadata": {},
   "outputs": [
    {
     "name": "stderr",
     "output_type": "stream",
     "text": [
      "2025-06-18 12:05:30.175491: E external/local_xla/xla/stream_executor/cuda/cuda_fft.cc:467] Unable to register cuFFT factory: Attempting to register factory for plugin cuFFT when one has already been registered\n",
      "WARNING: All log messages before absl::InitializeLog() is called are written to STDERR\n",
      "E0000 00:00:1750241130.183586   20510 cuda_dnn.cc:8579] Unable to register cuDNN factory: Attempting to register factory for plugin cuDNN when one has already been registered\n",
      "E0000 00:00:1750241130.185975   20510 cuda_blas.cc:1407] Unable to register cuBLAS factory: Attempting to register factory for plugin cuBLAS when one has already been registered\n",
      "W0000 00:00:1750241130.192388   20510 computation_placer.cc:177] computation placer already registered. Please check linkage and avoid linking the same target more than once.\n",
      "W0000 00:00:1750241130.192395   20510 computation_placer.cc:177] computation placer already registered. Please check linkage and avoid linking the same target more than once.\n",
      "W0000 00:00:1750241130.192396   20510 computation_placer.cc:177] computation placer already registered. Please check linkage and avoid linking the same target more than once.\n",
      "W0000 00:00:1750241130.192397   20510 computation_placer.cc:177] computation placer already registered. Please check linkage and avoid linking the same target more than once.\n"
     ]
    },
    {
     "name": "stdout",
     "output_type": "stream",
     "text": [
      "\n",
      "GPU configuration successful!\n",
      "Device: /physical_device:GPU:0\n",
      "Memory limit: 18.0 GB\n",
      "\n",
      "TensorFlow optimizations status:\n",
      "- CPU Threads: 16 intra-op, 9 inter-op (32 cores total)\n",
      "- XLA JIT: enabled (autoclustering)\n",
      "- Synchronous Execution: enabled\n",
      "\n",
      "GPU Device Details:\n",
      "- Device: GPU /physical_device:GPU:0\n",
      "- Memory limit: 18.0 GB\n"
     ]
    },
    {
     "name": "stderr",
     "output_type": "stream",
     "text": [
      "I0000 00:00:1750241132.481820   20510 gpu_process_state.cc:208] Using CUDA malloc Async allocator for GPU: 0\n",
      "I0000 00:00:1750241132.481967   20510 gpu_device.cc:2019] Created device /job:localhost/replica:0/task:0/device:GPU:0 with 19327352832 MB memory:  -> device: 0, name: NVIDIA GeForce RTX 3090 Ti, pci bus id: 0000:01:00.0, compute capability: 8.6\n"
     ]
    }
   ],
   "source": [
    "# Import dependencies\n",
    "import os\n",
    "\n",
    "os.environ['TF_CPP_MIN_VLOG_LEVEL'] = '0'\n",
    "os.environ['TF_CPP_MIN_LOG_LEVEL'] = '2'\n",
    "os.environ['TF_GPU_ALLOCATOR'] = 'cuda_malloc_async'\n",
    "os.environ['TF_FORCE_GPU_ALLOW_GROWTH'] = 'true'\n",
    "\n",
    "from src.utils.gpu_config import configure_gpu, optimize_tensorflow\n",
    "\n",
    "configure_gpu()\n",
    "optimize_tensorflow()"
   ]
  },
  {
   "cell_type": "code",
   "execution_count": 2,
   "id": "2b854daf-5f2a-4c33-9180-5081cd415b16",
   "metadata": {},
   "outputs": [],
   "source": [
    "# Import Tensorflow Keras\n",
    "from tensorflow.keras.optimizers import Adam\n",
    "from tensorflow.keras.losses import BinaryFocalCrossentropy\n",
    "from tensorflow.keras.callbacks import ReduceLROnPlateau, ModelCheckpoint\n",
    "\n",
    "# Import local modules\n",
    "from src.utils.consts import TF_RECORD_DATASET, MODELS_PATH, TF_BUFFER_SIZE, TF_SHUFFLE_SIZE, TF_BATCH_SIZE, TF_MAX_EPOCHS\n",
    "from src.model.tensorflow_utils import load_dataset, optimize_dataset, count_dataset_size, get_num_classes, get_metrics\n",
    "from src.model.tensorflow_utils import setup_logger, setup_training_logger, setup_metrics_monitor, setup_early_stopping, filter_no_finding_class\n",
    "from src.model.tensorflow_utils import start_or_resume_training, apply_augmentation_to_dataset, calculate_class_weights, oversample_minority_classes\n",
    "from src.model.densnet.tensorflow_dense_net_121 import build_densenet121\n",
    "\n",
    "# Input Data\n",
    "initial_epoch   = None\n",
    "resume_training = False\n",
    "checkpoint_path = None\n",
    "set_name        = \"DenseNetV5\"\n",
    "model_name      = f\"{set_name}_5\"\n",
    "num_classes     = get_num_classes()\n",
    "\n",
    "train_ds = load_dataset(f\"{TF_RECORD_DATASET}/train.tfrecord\", TF_BUFFER_SIZE)\n",
    "val_ds   = load_dataset(f\"{TF_RECORD_DATASET}/val.tfrecord\", TF_BUFFER_SIZE)\n",
    "\n",
    "train_ds = filter_no_finding_class(train_ds)\n",
    "val_ds   = filter_no_finding_class(val_ds)\n",
    "\n",
    "class_weights = calculate_class_weights(train_ds, num_classes)\n",
    "train_ds      = oversample_minority_classes(train_ds, class_weights)\n",
    "class_weights = calculate_class_weights(train_ds, num_classes)"
   ]
  },
  {
   "cell_type": "code",
   "execution_count": 3,
   "id": "5f152b8a-8ff8-4095-9815-e304ce2beb52",
   "metadata": {},
   "outputs": [
    {
     "name": "stderr",
     "output_type": "stream",
     "text": [
      "Counting samples: 104166 samples [00:35, 2950.78 samples/s] \n",
      "Counting samples: 15431 samples [00:07, 2007.62 samples/s]\n"
     ]
    }
   ],
   "source": [
    "steps_per_epoch  = int(count_dataset_size(train_ds, None) / TF_BATCH_SIZE)\n",
    "validation_steps = int(count_dataset_size(val_ds, None) / TF_BATCH_SIZE)\n",
    "\n",
    "# Disable Advanced Augmentations\n",
    "probability = {\n",
    "    \"intensity_scaling\": 0,\n",
    "    \"adaptive_histogram\": 0,\n",
    "    \"zoom\": 0,\n",
    "    \"cutout\": 0\n",
    "}\n",
    "\n",
    "train_ds = train_ds.shuffle(TF_SHUFFLE_SIZE, reshuffle_each_iteration=True)\n",
    "train_ds = apply_augmentation_to_dataset(train_ds, probability)\n",
    "train_ds = optimize_dataset(train_ds, TF_BATCH_SIZE)\n",
    "\n",
    "val_ds   = optimize_dataset(val_ds, TF_BATCH_SIZE)"
   ]
  },
  {
   "cell_type": "code",
   "execution_count": 4,
   "id": "3a0e37c9-b178-40d8-bd25-8c0a6498564a",
   "metadata": {},
   "outputs": [],
   "source": [
    "# Setup Model Deps\n",
    "logger            = setup_logger()\n",
    "training_logger   = setup_training_logger(logger, TF_BATCH_SIZE, 100)\n",
    "metrics_monitor   = setup_metrics_monitor(MODELS_PATH, model_name, logger, resume_training=resume_training, initial_epoch=initial_epoch)\n",
    "metrics           = get_metrics()\n",
    "\n",
    "# Setup compile arguments\n",
    "loss           = BinaryFocalCrossentropy(gamma=2.0, from_logits=False, label_smoothing=0.05)\n",
    "reduce_lr      = ReduceLROnPlateau(monitor=\"val_f1_score\", factor=0.5,  patience=3, min_lr=1e-6, mode=\"max\", verbose=1)\n",
    "early_stopping = setup_early_stopping()\n",
    "\n",
    "epoch_mode           = 'cp-{epoch:04d}'\n",
    "save_checkpoint_path = f\"{MODELS_PATH}/{model_name}/checkpoints/{epoch_mode}.keras\"\n",
    "checkpoint           = ModelCheckpoint(save_checkpoint_path, monitor=\"val_f1_score\", save_best_only=False, mode=\"max\", save_weights_only=False)\n",
    "\n",
    "model_path      = f\"{MODELS_PATH}/{model_name}.keras\"\n",
    "best_checkpoint = ModelCheckpoint(model_path, monitor=\"val_f1_score\", save_best_only=True, mode=\"max\", save_weights_only=False)"
   ]
  },
  {
   "cell_type": "code",
   "execution_count": 5,
   "id": "c44d4a9a-ffbb-4917-a702-c35773b9857c",
   "metadata": {},
   "outputs": [
    {
     "name": "stderr",
     "output_type": "stream",
     "text": [
      "2025-06-18 12:07:26 - INFO - \n",
      "=== Training Started ===\n",
      "\n",
      "2025-06-18 12:07:26 - INFO - Batch Size: 128\n",
      "2025-06-18 12:07:26 - INFO - Optimizer: Adam\n",
      "2025-06-18 12:07:26 - INFO - \n",
      "==================================================\n",
      "\n",
      "2025-06-18 12:07:26 - INFO - \n",
      "=== Starting Epoch 1 ===\n",
      "\n"
     ]
    },
    {
     "name": "stdout",
     "output_type": "stream",
     "text": [
      "Epoch 1/100\n"
     ]
    },
    {
     "name": "stderr",
     "output_type": "stream",
     "text": [
      "WARNING: All log messages before absl::InitializeLog() is called are written to STDERR\n",
      "I0000 00:00:1750241259.787198   20584 service.cc:152] XLA service 0x76f3300042c0 initialized for platform CUDA (this does not guarantee that XLA will be used). Devices:\n",
      "I0000 00:00:1750241259.787217   20584 service.cc:160]   StreamExecutor device (0): NVIDIA GeForce RTX 3090 Ti, Compute Capability 8.6\n",
      "I0000 00:00:1750241259.789814   20584 cuda_dnn.cc:529] Loaded cuDNN version 90300\n",
      "I0000 00:00:1750241259.833230   20584 device_compiler.h:188] Compiled cluster using XLA!  This line is logged at most once for the lifetime of the process.\n"
     ]
    },
    {
     "name": "stdout",
     "output_type": "stream",
     "text": [
      "\u001b[1m813/813\u001b[0m \u001b[32m━━━━━━━━━━━━━━━━━━━━\u001b[0m\u001b[37m\u001b[0m \u001b[1m0s\u001b[0m 224ms/step - accuracy: 0.9047 - auc: 0.5512 - f1_score: 0.0533 - loss: 1.8971 - precision: 0.1454 - recall: 0.0369  "
     ]
    },
    {
     "name": "stderr",
     "output_type": "stream",
     "text": [
      "2025-06-18 12:12:35 - INFO - \n",
      "=== Epoch 1 Summary ===\n",
      "2025-06-18 12:12:35 - INFO - Time: 308.89s\n",
      "2025-06-18 12:12:35 - INFO - Training   - accuracy: 0.9156 - auc: 0.5715 - f1_score: 0.0380 - loss: 1.6749 - precision: 0.1710 - recall: 0.0220 - learning_rate: 0.0001\n",
      "2025-06-18 12:12:35 - INFO - Validation - accuracy: 0.9446 - auc: 0.6325 - f1_score: 0.0002 - loss: 1.2686 - precision: 1.0000 - recall: 0.0001\n",
      "2025-06-18 12:12:35 - INFO - ==================================================\n",
      "\n"
     ]
    },
    {
     "name": "stdout",
     "output_type": "stream",
     "text": [
      "\u001b[1m813/813\u001b[0m \u001b[32m━━━━━━━━━━━━━━━━━━━━\u001b[0m\u001b[37m\u001b[0m \u001b[1m309s\u001b[0m 250ms/step - accuracy: 0.9047 - auc: 0.5512 - f1_score: 0.0532 - loss: 1.8969 - precision: 0.1455 - recall: 0.0369 - val_accuracy: 0.9446 - val_auc: 0.6325 - val_f1_score: 1.6774e-04 - val_loss: 1.2686 - val_precision: 1.0000 - val_recall: 8.3963e-05 - learning_rate: 1.0000e-04\n"
     ]
    },
    {
     "name": "stderr",
     "output_type": "stream",
     "text": [
      "2025-06-18 12:12:35 - INFO - \n",
      "=== Starting Epoch 2 ===\n",
      "\n"
     ]
    },
    {
     "name": "stdout",
     "output_type": "stream",
     "text": [
      "Epoch 2/100\n",
      "\u001b[1m813/813\u001b[0m \u001b[32m━━━━━━━━━━━━━━━━━━━━\u001b[0m\u001b[37m\u001b[0m \u001b[1m0s\u001b[0m 226ms/step - accuracy: 0.9194 - auc: 0.6037 - f1_score: 0.0252 - loss: 1.1190 - precision: 0.2536 - recall: 0.0141  "
     ]
    },
    {
     "name": "stderr",
     "output_type": "stream",
     "text": [
      "2025-06-18 12:17:05 - INFO - \n",
      "=== Epoch 2 Summary ===\n",
      "2025-06-18 12:17:05 - INFO - Time: 269.88s\n",
      "2025-06-18 12:17:05 - INFO - Training   - accuracy: 0.9202 - auc: 0.6130 - f1_score: 0.0261 - loss: 0.9820 - precision: 0.2665 - recall: 0.0145 - learning_rate: 0.0001\n",
      "2025-06-18 12:17:05 - INFO - Validation - accuracy: 0.9424 - auc: 0.6555 - f1_score: 0.0032 - loss: 0.7383 - precision: 0.0889 - recall: 0.0043\n",
      "2025-06-18 12:17:05 - INFO - ==================================================\n",
      "\n"
     ]
    },
    {
     "name": "stdout",
     "output_type": "stream",
     "text": [
      "\u001b[1m813/813\u001b[0m \u001b[32m━━━━━━━━━━━━━━━━━━━━\u001b[0m\u001b[37m\u001b[0m \u001b[1m270s\u001b[0m 247ms/step - accuracy: 0.9194 - auc: 0.6037 - f1_score: 0.0252 - loss: 1.1189 - precision: 0.2536 - recall: 0.0141 - val_accuracy: 0.9424 - val_auc: 0.6555 - val_f1_score: 0.0032 - val_loss: 0.7383 - val_precision: 0.0889 - val_recall: 0.0043 - learning_rate: 1.0000e-04\n"
     ]
    },
    {
     "name": "stderr",
     "output_type": "stream",
     "text": [
      "2025-06-18 12:17:05 - INFO - \n",
      "=== Starting Epoch 3 ===\n",
      "\n"
     ]
    },
    {
     "name": "stdout",
     "output_type": "stream",
     "text": [
      "Epoch 3/100\n",
      "\u001b[1m813/813\u001b[0m \u001b[32m━━━━━━━━━━━━━━━━━━━━\u001b[0m\u001b[37m\u001b[0m \u001b[1m0s\u001b[0m 228ms/step - accuracy: 0.9200 - auc: 0.6238 - f1_score: 0.0213 - loss: 0.6494 - precision: 0.2679 - recall: 0.0117  "
     ]
    },
    {
     "name": "stderr",
     "output_type": "stream",
     "text": [
      "2025-06-18 12:20:20 - INFO - \n",
      "=== Epoch 3 Summary ===\n",
      "2025-06-18 12:20:20 - INFO - Time: 194.25s\n",
      "2025-06-18 12:20:20 - INFO - Training   - accuracy: 0.9207 - auc: 0.6330 - f1_score: 0.0239 - loss: 0.5702 - precision: 0.2910 - recall: 0.0132 - learning_rate: 0.0001\n",
      "2025-06-18 12:20:20 - INFO - Validation - accuracy: 0.9446 - auc: 0.6644 - f1_score: 0.0002 - loss: 0.4296 - precision: 0.3333 - recall: 0.0001\n",
      "2025-06-18 12:20:20 - INFO - ==================================================\n",
      "\n"
     ]
    },
    {
     "name": "stdout",
     "output_type": "stream",
     "text": [
      "\u001b[1m813/813\u001b[0m \u001b[32m━━━━━━━━━━━━━━━━━━━━\u001b[0m\u001b[37m\u001b[0m \u001b[1m194s\u001b[0m 239ms/step - accuracy: 0.9200 - auc: 0.6238 - f1_score: 0.0213 - loss: 0.6493 - precision: 0.2679 - recall: 0.0117 - val_accuracy: 0.9446 - val_auc: 0.6644 - val_f1_score: 1.6776e-04 - val_loss: 0.4296 - val_precision: 0.3333 - val_recall: 8.3963e-05 - learning_rate: 1.0000e-04\n"
     ]
    },
    {
     "name": "stderr",
     "output_type": "stream",
     "text": [
      "2025-06-18 12:20:20 - INFO - \n",
      "=== Starting Epoch 4 ===\n",
      "\n"
     ]
    },
    {
     "name": "stdout",
     "output_type": "stream",
     "text": [
      "Epoch 4/100\n",
      "\u001b[1m813/813\u001b[0m \u001b[32m━━━━━━━━━━━━━━━━━━━━\u001b[0m\u001b[37m\u001b[0m \u001b[1m0s\u001b[0m 238ms/step - accuracy: 0.9202 - auc: 0.6427 - f1_score: 0.0183 - loss: 0.3811 - precision: 0.2646 - recall: 0.0101  "
     ]
    },
    {
     "name": "stderr",
     "output_type": "stream",
     "text": [
      "2025-06-18 12:23:42 - INFO - \n",
      "=== Epoch 4 Summary ===\n",
      "2025-06-18 12:23:42 - INFO - Time: 202.77s\n",
      "2025-06-18 12:23:42 - INFO - Training   - accuracy: 0.9208 - auc: 0.6506 - f1_score: 0.0221 - loss: 0.3372 - precision: 0.2873 - recall: 0.0124 - learning_rate: 0.0001\n",
      "2025-06-18 12:23:42 - INFO - Validation - accuracy: 0.9446 - auc: 0.6410 - f1_score: 0.0000 - loss: 0.2620 - precision: 0.0000 - recall: 0.0000\n",
      "2025-06-18 12:23:42 - INFO - ==================================================\n",
      "\n"
     ]
    },
    {
     "name": "stdout",
     "output_type": "stream",
     "text": [
      "\u001b[1m813/813\u001b[0m \u001b[32m━━━━━━━━━━━━━━━━━━━━\u001b[0m\u001b[37m\u001b[0m \u001b[1m203s\u001b[0m 249ms/step - accuracy: 0.9202 - auc: 0.6427 - f1_score: 0.0183 - loss: 0.3811 - precision: 0.2646 - recall: 0.0101 - val_accuracy: 0.9446 - val_auc: 0.6410 - val_f1_score: 0.0000e+00 - val_loss: 0.2620 - val_precision: 0.0000e+00 - val_recall: 0.0000e+00 - learning_rate: 1.0000e-04\n"
     ]
    },
    {
     "name": "stderr",
     "output_type": "stream",
     "text": [
      "2025-06-18 12:23:42 - INFO - \n",
      "=== Starting Epoch 5 ===\n",
      "\n"
     ]
    },
    {
     "name": "stdout",
     "output_type": "stream",
     "text": [
      "Epoch 5/100\n",
      "\u001b[1m813/813\u001b[0m \u001b[32m━━━━━━━━━━━━━━━━━━━━\u001b[0m\u001b[37m\u001b[0m \u001b[1m0s\u001b[0m 239ms/step - accuracy: 0.9202 - auc: 0.6660 - f1_score: 0.0270 - loss: 0.2342 - precision: 0.3110 - recall: 0.0157  "
     ]
    },
    {
     "name": "stderr",
     "output_type": "stream",
     "text": [
      "2025-06-18 12:27:06 - INFO - \n",
      "=== Epoch 5 Summary ===\n",
      "2025-06-18 12:27:06 - INFO - Time: 204.08s\n",
      "2025-06-18 12:27:06 - INFO - Training   - accuracy: 0.9207 - auc: 0.6729 - f1_score: 0.0284 - loss: 0.2111 - precision: 0.3178 - recall: 0.0170 - learning_rate: 0.0001\n",
      "2025-06-18 12:27:06 - INFO - Validation - accuracy: 0.9442 - auc: 0.6943 - f1_score: 0.0068 - loss: 0.1712 - precision: 0.2611 - recall: 0.0039\n",
      "2025-06-18 12:27:06 - INFO - ==================================================\n",
      "\n"
     ]
    },
    {
     "name": "stdout",
     "output_type": "stream",
     "text": [
      "\u001b[1m813/813\u001b[0m \u001b[32m━━━━━━━━━━━━━━━━━━━━\u001b[0m\u001b[37m\u001b[0m \u001b[1m204s\u001b[0m 251ms/step - accuracy: 0.9202 - auc: 0.6661 - f1_score: 0.0270 - loss: 0.2341 - precision: 0.3111 - recall: 0.0157 - val_accuracy: 0.9442 - val_auc: 0.6943 - val_f1_score: 0.0068 - val_loss: 0.1712 - val_precision: 0.2611 - val_recall: 0.0039 - learning_rate: 1.0000e-04\n"
     ]
    },
    {
     "name": "stderr",
     "output_type": "stream",
     "text": [
      "2025-06-18 12:27:07 - INFO - \n",
      "=== Starting Epoch 6 ===\n",
      "\n"
     ]
    },
    {
     "name": "stdout",
     "output_type": "stream",
     "text": [
      "Epoch 6/100\n",
      "\u001b[1m813/813\u001b[0m \u001b[32m━━━━━━━━━━━━━━━━━━━━\u001b[0m\u001b[37m\u001b[0m \u001b[1m0s\u001b[0m 240ms/step - accuracy: 0.9204 - auc: 0.6873 - f1_score: 0.0371 - loss: 0.1574 - precision: 0.3658 - recall: 0.0227  "
     ]
    },
    {
     "name": "stderr",
     "output_type": "stream",
     "text": [
      "2025-06-18 12:30:37 - INFO - \n",
      "=== Epoch 6 Summary ===\n",
      "2025-06-18 12:30:37 - INFO - Time: 210.53s\n",
      "2025-06-18 12:30:37 - INFO - Training   - accuracy: 0.9210 - auc: 0.6921 - f1_score: 0.0430 - loss: 0.1451 - precision: 0.3858 - recall: 0.0266 - learning_rate: 0.0001\n",
      "2025-06-18 12:30:37 - INFO - Validation - accuracy: 0.9445 - auc: 0.6967 - f1_score: 0.0049 - loss: 0.1295 - precision: 0.3947 - recall: 0.0025\n",
      "2025-06-18 12:30:37 - INFO - ==================================================\n",
      "\n"
     ]
    },
    {
     "name": "stdout",
     "output_type": "stream",
     "text": [
      "\u001b[1m813/813\u001b[0m \u001b[32m━━━━━━━━━━━━━━━━━━━━\u001b[0m\u001b[37m\u001b[0m \u001b[1m211s\u001b[0m 259ms/step - accuracy: 0.9204 - auc: 0.6873 - f1_score: 0.0371 - loss: 0.1574 - precision: 0.3658 - recall: 0.0227 - val_accuracy: 0.9445 - val_auc: 0.6967 - val_f1_score: 0.0049 - val_loss: 0.1295 - val_precision: 0.3947 - val_recall: 0.0025 - learning_rate: 1.0000e-04\n"
     ]
    },
    {
     "name": "stderr",
     "output_type": "stream",
     "text": [
      "2025-06-18 12:30:37 - INFO - \n",
      "=== Starting Epoch 7 ===\n",
      "\n"
     ]
    },
    {
     "name": "stdout",
     "output_type": "stream",
     "text": [
      "Epoch 7/100\n",
      "\u001b[1m813/813\u001b[0m \u001b[32m━━━━━━━━━━━━━━━━━━━━\u001b[0m\u001b[37m\u001b[0m \u001b[1m0s\u001b[0m 225ms/step - accuracy: 0.9205 - auc: 0.6986 - f1_score: 0.0471 - loss: 0.1176 - precision: 0.3972 - recall: 0.0299  "
     ]
    },
    {
     "name": "stderr",
     "output_type": "stream",
     "text": [
      "2025-06-18 12:33:55 - INFO - \n",
      "=== Epoch 7 Summary ===\n",
      "2025-06-18 12:33:55 - INFO - Time: 197.75s\n",
      "2025-06-18 12:33:55 - INFO - Training   - accuracy: 0.9212 - auc: 0.7035 - f1_score: 0.0515 - loss: 0.1108 - precision: 0.4201 - recall: 0.0329 - learning_rate: 0.0001\n",
      "2025-06-18 12:33:55 - INFO - Validation - accuracy: 0.9419 - auc: 0.6977 - f1_score: 0.0151 - loss: 0.1026 - precision: 0.1354 - recall: 0.0092\n",
      "2025-06-18 12:33:55 - INFO - ==================================================\n",
      "\n"
     ]
    },
    {
     "name": "stdout",
     "output_type": "stream",
     "text": [
      "\u001b[1m813/813\u001b[0m \u001b[32m━━━━━━━━━━━━━━━━━━━━\u001b[0m\u001b[37m\u001b[0m \u001b[1m198s\u001b[0m 243ms/step - accuracy: 0.9205 - auc: 0.6986 - f1_score: 0.0471 - loss: 0.1176 - precision: 0.3972 - recall: 0.0299 - val_accuracy: 0.9419 - val_auc: 0.6977 - val_f1_score: 0.0151 - val_loss: 0.1026 - val_precision: 0.1354 - val_recall: 0.0092 - learning_rate: 1.0000e-04\n"
     ]
    },
    {
     "name": "stderr",
     "output_type": "stream",
     "text": [
      "2025-06-18 12:33:55 - INFO - \n",
      "=== Starting Epoch 8 ===\n",
      "\n"
     ]
    },
    {
     "name": "stdout",
     "output_type": "stream",
     "text": [
      "Epoch 8/100\n",
      "\u001b[1m813/813\u001b[0m \u001b[32m━━━━━━━━━━━━━━━━━━━━\u001b[0m\u001b[37m\u001b[0m \u001b[1m0s\u001b[0m 226ms/step - accuracy: 0.9210 - auc: 0.7110 - f1_score: 0.0545 - loss: 0.0955 - precision: 0.4283 - recall: 0.0354  "
     ]
    },
    {
     "name": "stderr",
     "output_type": "stream",
     "text": [
      "2025-06-18 12:37:10 - INFO - \n",
      "=== Epoch 8 Summary ===\n",
      "2025-06-18 12:37:10 - INFO - Time: 195.59s\n",
      "2025-06-18 12:37:10 - INFO - Training   - accuracy: 0.9215 - auc: 0.7160 - f1_score: 0.0587 - loss: 0.0916 - precision: 0.4472 - recall: 0.0383 - learning_rate: 0.0001\n",
      "2025-06-18 12:37:10 - INFO - Validation - accuracy: 0.9362 - auc: 0.6836 - f1_score: 0.0054 - loss: 0.0930 - precision: 0.0273 - recall: 0.0044\n",
      "2025-06-18 12:37:10 - INFO - ==================================================\n",
      "\n"
     ]
    },
    {
     "name": "stdout",
     "output_type": "stream",
     "text": [
      "\u001b[1m813/813\u001b[0m \u001b[32m━━━━━━━━━━━━━━━━━━━━\u001b[0m\u001b[37m\u001b[0m \u001b[1m196s\u001b[0m 241ms/step - accuracy: 0.9210 - auc: 0.7110 - f1_score: 0.0545 - loss: 0.0955 - precision: 0.4283 - recall: 0.0354 - val_accuracy: 0.9362 - val_auc: 0.6836 - val_f1_score: 0.0054 - val_loss: 0.0930 - val_precision: 0.0273 - val_recall: 0.0044 - learning_rate: 1.0000e-04\n"
     ]
    },
    {
     "name": "stderr",
     "output_type": "stream",
     "text": [
      "2025-06-18 12:37:11 - INFO - \n",
      "=== Starting Epoch 9 ===\n",
      "\n"
     ]
    },
    {
     "name": "stdout",
     "output_type": "stream",
     "text": [
      "Epoch 9/100\n",
      "\u001b[1m813/813\u001b[0m \u001b[32m━━━━━━━━━━━━━━━━━━━━\u001b[0m\u001b[37m\u001b[0m \u001b[1m0s\u001b[0m 232ms/step - accuracy: 0.9209 - auc: 0.7189 - f1_score: 0.0648 - loss: 0.0832 - precision: 0.4638 - recall: 0.0429  "
     ]
    },
    {
     "name": "stderr",
     "output_type": "stream",
     "text": [
      "2025-06-18 12:40:33 - INFO - \n",
      "=== Epoch 9 Summary ===\n",
      "2025-06-18 12:40:33 - INFO - Time: 202.45s\n",
      "2025-06-18 12:40:33 - INFO - Training   - accuracy: 0.9217 - auc: 0.7241 - f1_score: 0.0669 - loss: 0.0806 - precision: 0.4668 - recall: 0.0446 - learning_rate: 0.0001\n",
      "2025-06-18 12:40:33 - INFO - Validation - accuracy: 0.9446 - auc: 0.7101 - f1_score: 0.0253 - loss: 0.0822 - precision: 0.4820 - recall: 0.0146\n",
      "2025-06-18 12:40:33 - INFO - ==================================================\n",
      "\n"
     ]
    },
    {
     "name": "stdout",
     "output_type": "stream",
     "text": [
      "\u001b[1m813/813\u001b[0m \u001b[32m━━━━━━━━━━━━━━━━━━━━\u001b[0m\u001b[37m\u001b[0m \u001b[1m202s\u001b[0m 249ms/step - accuracy: 0.9209 - auc: 0.7189 - f1_score: 0.0648 - loss: 0.0832 - precision: 0.4638 - recall: 0.0430 - val_accuracy: 0.9446 - val_auc: 0.7101 - val_f1_score: 0.0253 - val_loss: 0.0822 - val_precision: 0.4820 - val_recall: 0.0146 - learning_rate: 1.0000e-04\n"
     ]
    },
    {
     "name": "stderr",
     "output_type": "stream",
     "text": [
      "2025-06-18 12:40:33 - INFO - \n",
      "=== Starting Epoch 10 ===\n",
      "\n"
     ]
    },
    {
     "name": "stdout",
     "output_type": "stream",
     "text": [
      "Epoch 10/100\n",
      "\u001b[1m813/813\u001b[0m \u001b[32m━━━━━━━━━━━━━━━━━━━━\u001b[0m\u001b[37m\u001b[0m \u001b[1m0s\u001b[0m 225ms/step - accuracy: 0.9213 - auc: 0.7292 - f1_score: 0.0697 - loss: 0.0757 - precision: 0.4783 - recall: 0.0459  "
     ]
    },
    {
     "name": "stderr",
     "output_type": "stream",
     "text": [
      "2025-06-18 12:43:50 - INFO - \n",
      "=== Epoch 10 Summary ===\n",
      "2025-06-18 12:43:50 - INFO - Time: 196.54s\n",
      "2025-06-18 12:43:50 - INFO - Training   - accuracy: 0.9218 - auc: 0.7331 - f1_score: 0.0720 - loss: 0.0740 - precision: 0.4817 - recall: 0.0482 - learning_rate: 0.0001\n",
      "2025-06-18 12:43:50 - INFO - Validation - accuracy: 0.9426 - auc: 0.7099 - f1_score: 0.0667 - loss: 0.0783 - precision: 0.3720 - recall: 0.0525\n",
      "2025-06-18 12:43:50 - INFO - ==================================================\n",
      "\n"
     ]
    },
    {
     "name": "stdout",
     "output_type": "stream",
     "text": [
      "\u001b[1m813/813\u001b[0m \u001b[32m━━━━━━━━━━━━━━━━━━━━\u001b[0m\u001b[37m\u001b[0m \u001b[1m197s\u001b[0m 242ms/step - accuracy: 0.9213 - auc: 0.7292 - f1_score: 0.0697 - loss: 0.0757 - precision: 0.4783 - recall: 0.0459 - val_accuracy: 0.9426 - val_auc: 0.7099 - val_f1_score: 0.0667 - val_loss: 0.0783 - val_precision: 0.3720 - val_recall: 0.0525 - learning_rate: 1.0000e-04\n"
     ]
    },
    {
     "name": "stderr",
     "output_type": "stream",
     "text": [
      "2025-06-18 12:43:50 - INFO - \n",
      "=== Starting Epoch 11 ===\n",
      "\n"
     ]
    },
    {
     "name": "stdout",
     "output_type": "stream",
     "text": [
      "Epoch 11/100\n",
      "\u001b[1m813/813\u001b[0m \u001b[32m━━━━━━━━━━━━━━━━━━━━\u001b[0m\u001b[37m\u001b[0m \u001b[1m0s\u001b[0m 225ms/step - accuracy: 0.9218 - auc: 0.7370 - f1_score: 0.0775 - loss: 0.0707 - precision: 0.4845 - recall: 0.0529  "
     ]
    },
    {
     "name": "stderr",
     "output_type": "stream",
     "text": [
      "2025-06-18 12:47:07 - INFO - \n",
      "=== Epoch 11 Summary ===\n",
      "2025-06-18 12:47:07 - INFO - Time: 197.34s\n",
      "2025-06-18 12:47:07 - INFO - Training   - accuracy: 0.9220 - auc: 0.7396 - f1_score: 0.0782 - loss: 0.0694 - precision: 0.4858 - recall: 0.0528 - learning_rate: 0.0001\n",
      "2025-06-18 12:47:07 - INFO - Validation - accuracy: 0.9433 - auc: 0.7271 - f1_score: 0.0666 - loss: 0.0697 - precision: 0.3912 - recall: 0.0426\n",
      "2025-06-18 12:47:07 - INFO - ==================================================\n",
      "\n"
     ]
    },
    {
     "name": "stdout",
     "output_type": "stream",
     "text": [
      "\u001b[1m813/813\u001b[0m \u001b[32m━━━━━━━━━━━━━━━━━━━━\u001b[0m\u001b[37m\u001b[0m \u001b[1m197s\u001b[0m 243ms/step - accuracy: 0.9218 - auc: 0.7370 - f1_score: 0.0775 - loss: 0.0707 - precision: 0.4845 - recall: 0.0529 - val_accuracy: 0.9433 - val_auc: 0.7271 - val_f1_score: 0.0666 - val_loss: 0.0697 - val_precision: 0.3912 - val_recall: 0.0426 - learning_rate: 1.0000e-04\n"
     ]
    },
    {
     "name": "stderr",
     "output_type": "stream",
     "text": [
      "2025-06-18 12:47:07 - INFO - \n",
      "=== Starting Epoch 12 ===\n",
      "\n"
     ]
    },
    {
     "name": "stdout",
     "output_type": "stream",
     "text": [
      "Epoch 12/100\n",
      "\u001b[1m813/813\u001b[0m \u001b[32m━━━━━━━━━━━━━━━━━━━━\u001b[0m\u001b[37m\u001b[0m \u001b[1m0s\u001b[0m 225ms/step - accuracy: 0.9215 - auc: 0.7440 - f1_score: 0.0866 - loss: 0.0671 - precision: 0.4884 - recall: 0.0595  "
     ]
    },
    {
     "name": "stderr",
     "output_type": "stream",
     "text": [
      "2025-06-18 12:50:25 - INFO - \n",
      "=== Epoch 12 Summary ===\n",
      "2025-06-18 12:50:25 - INFO - Time: 198.33s\n",
      "2025-06-18 12:50:25 - INFO - Training   - accuracy: 0.9219 - auc: 0.7477 - f1_score: 0.0898 - loss: 0.0662 - precision: 0.4892 - recall: 0.0612 - learning_rate: 0.0001\n",
      "2025-06-18 12:50:25 - INFO - Validation - accuracy: 0.9433 - auc: 0.7175 - f1_score: 0.0158 - loss: 0.0684 - precision: 0.2642 - recall: 0.0128\n",
      "2025-06-18 12:50:25 - INFO - ==================================================\n",
      "\n"
     ]
    },
    {
     "name": "stdout",
     "output_type": "stream",
     "text": [
      "\u001b[1m813/813\u001b[0m \u001b[32m━━━━━━━━━━━━━━━━━━━━\u001b[0m\u001b[37m\u001b[0m \u001b[1m198s\u001b[0m 244ms/step - accuracy: 0.9215 - auc: 0.7440 - f1_score: 0.0866 - loss: 0.0671 - precision: 0.4884 - recall: 0.0595 - val_accuracy: 0.9433 - val_auc: 0.7175 - val_f1_score: 0.0158 - val_loss: 0.0684 - val_precision: 0.2642 - val_recall: 0.0128 - learning_rate: 1.0000e-04\n"
     ]
    },
    {
     "name": "stderr",
     "output_type": "stream",
     "text": [
      "2025-06-18 12:50:25 - INFO - \n",
      "=== Starting Epoch 13 ===\n",
      "\n"
     ]
    },
    {
     "name": "stdout",
     "output_type": "stream",
     "text": [
      "Epoch 13/100\n",
      "\u001b[1m813/813\u001b[0m \u001b[32m━━━━━━━━━━━━━━━━━━━━\u001b[0m\u001b[37m\u001b[0m \u001b[1m0s\u001b[0m 226ms/step - accuracy: 0.9220 - auc: 0.7496 - f1_score: 0.0893 - loss: 0.0644 - precision: 0.4973 - recall: 0.0614  "
     ]
    },
    {
     "name": "stderr",
     "output_type": "stream",
     "text": [
      "2025-06-18 12:53:42 - INFO - \n",
      "=== Epoch 13 Summary ===\n",
      "2025-06-18 12:53:42 - INFO - Time: 196.81s\n",
      "2025-06-18 12:53:42 - INFO - Training   - accuracy: 0.9221 - auc: 0.7518 - f1_score: 0.0929 - loss: 0.0639 - precision: 0.4924 - recall: 0.0635 - learning_rate: 0.0001\n",
      "2025-06-18 12:53:42 - INFO - Validation - accuracy: 0.9344 - auc: 0.6593 - f1_score: 0.1022 - loss: 0.0752 - precision: 0.2320 - recall: 0.0796\n",
      "2025-06-18 12:53:42 - INFO - ==================================================\n",
      "\n"
     ]
    },
    {
     "name": "stdout",
     "output_type": "stream",
     "text": [
      "\u001b[1m813/813\u001b[0m \u001b[32m━━━━━━━━━━━━━━━━━━━━\u001b[0m\u001b[37m\u001b[0m \u001b[1m197s\u001b[0m 242ms/step - accuracy: 0.9220 - auc: 0.7496 - f1_score: 0.0893 - loss: 0.0644 - precision: 0.4973 - recall: 0.0614 - val_accuracy: 0.9344 - val_auc: 0.6593 - val_f1_score: 0.1022 - val_loss: 0.0752 - val_precision: 0.2320 - val_recall: 0.0796 - learning_rate: 1.0000e-04\n"
     ]
    },
    {
     "name": "stderr",
     "output_type": "stream",
     "text": [
      "2025-06-18 12:53:42 - INFO - \n",
      "=== Starting Epoch 14 ===\n",
      "\n"
     ]
    },
    {
     "name": "stdout",
     "output_type": "stream",
     "text": [
      "Epoch 14/100\n",
      "\u001b[1m813/813\u001b[0m \u001b[32m━━━━━━━━━━━━━━━━━━━━\u001b[0m\u001b[37m\u001b[0m \u001b[1m0s\u001b[0m 225ms/step - accuracy: 0.9215 - auc: 0.7507 - f1_score: 0.0941 - loss: 0.0637 - precision: 0.4896 - recall: 0.0642  "
     ]
    },
    {
     "name": "stderr",
     "output_type": "stream",
     "text": [
      "2025-06-18 12:56:59 - INFO - \n",
      "=== Epoch 14 Summary ===\n",
      "2025-06-18 12:56:59 - INFO - Time: 197.22s\n",
      "2025-06-18 12:56:59 - INFO - Training   - accuracy: 0.9220 - auc: 0.7569 - f1_score: 0.0989 - loss: 0.0626 - precision: 0.4956 - recall: 0.0677 - learning_rate: 0.0001\n",
      "2025-06-18 12:56:59 - INFO - Validation - accuracy: 0.9419 - auc: 0.7344 - f1_score: 0.0888 - loss: 0.0648 - precision: 0.3708 - recall: 0.0712\n",
      "2025-06-18 12:56:59 - INFO - ==================================================\n",
      "\n"
     ]
    },
    {
     "name": "stdout",
     "output_type": "stream",
     "text": [
      "\u001b[1m813/813\u001b[0m \u001b[32m━━━━━━━━━━━━━━━━━━━━\u001b[0m\u001b[37m\u001b[0m \u001b[1m197s\u001b[0m 243ms/step - accuracy: 0.9215 - auc: 0.7507 - f1_score: 0.0941 - loss: 0.0637 - precision: 0.4896 - recall: 0.0642 - val_accuracy: 0.9419 - val_auc: 0.7344 - val_f1_score: 0.0888 - val_loss: 0.0648 - val_precision: 0.3708 - val_recall: 0.0712 - learning_rate: 1.0000e-04\n"
     ]
    },
    {
     "name": "stderr",
     "output_type": "stream",
     "text": [
      "2025-06-18 12:56:59 - INFO - \n",
      "=== Starting Epoch 15 ===\n",
      "\n"
     ]
    },
    {
     "name": "stdout",
     "output_type": "stream",
     "text": [
      "Epoch 15/100\n",
      "\u001b[1m813/813\u001b[0m \u001b[32m━━━━━━━━━━━━━━━━━━━━\u001b[0m\u001b[37m\u001b[0m \u001b[1m0s\u001b[0m 225ms/step - accuracy: 0.9224 - auc: 0.7600 - f1_score: 0.1080 - loss: 0.0607 - precision: 0.5081 - recall: 0.0752  "
     ]
    },
    {
     "name": "stderr",
     "output_type": "stream",
     "text": [
      "2025-06-18 13:00:19 - INFO - \n",
      "=== Epoch 15 Summary ===\n",
      "2025-06-18 13:00:19 - INFO - Time: 199.09s\n",
      "2025-06-18 13:00:19 - INFO - Training   - accuracy: 0.9223 - auc: 0.7635 - f1_score: 0.1080 - loss: 0.0604 - precision: 0.5032 - recall: 0.0752 - learning_rate: 0.0001\n",
      "2025-06-18 13:00:19 - INFO - Validation - accuracy: 0.9431 - auc: 0.7504 - f1_score: 0.1071 - loss: 0.0626 - precision: 0.4182 - recall: 0.0713\n",
      "2025-06-18 13:00:19 - INFO - ==================================================\n",
      "\n"
     ]
    },
    {
     "name": "stdout",
     "output_type": "stream",
     "text": [
      "\u001b[1m813/813\u001b[0m \u001b[32m━━━━━━━━━━━━━━━━━━━━\u001b[0m\u001b[37m\u001b[0m \u001b[1m199s\u001b[0m 245ms/step - accuracy: 0.9224 - auc: 0.7600 - f1_score: 0.1080 - loss: 0.0607 - precision: 0.5081 - recall: 0.0752 - val_accuracy: 0.9431 - val_auc: 0.7504 - val_f1_score: 0.1071 - val_loss: 0.0626 - val_precision: 0.4182 - val_recall: 0.0713 - learning_rate: 1.0000e-04\n"
     ]
    },
    {
     "name": "stderr",
     "output_type": "stream",
     "text": [
      "2025-06-18 13:00:19 - INFO - \n",
      "=== Starting Epoch 16 ===\n",
      "\n"
     ]
    },
    {
     "name": "stdout",
     "output_type": "stream",
     "text": [
      "Epoch 16/100\n",
      "\u001b[1m813/813\u001b[0m \u001b[32m━━━━━━━━━━━━━━━━━━━━\u001b[0m\u001b[37m\u001b[0m \u001b[1m0s\u001b[0m 224ms/step - accuracy: 0.9218 - auc: 0.7668 - f1_score: 0.1122 - loss: 0.0594 - precision: 0.4965 - recall: 0.0783  "
     ]
    },
    {
     "name": "stderr",
     "output_type": "stream",
     "text": [
      "2025-06-18 13:03:34 - INFO - \n",
      "=== Epoch 16 Summary ===\n",
      "2025-06-18 13:03:34 - INFO - Time: 195.13s\n",
      "2025-06-18 13:03:34 - INFO - Training   - accuracy: 0.9222 - auc: 0.7682 - f1_score: 0.1145 - loss: 0.0591 - precision: 0.4992 - recall: 0.0798 - learning_rate: 0.0001\n",
      "2025-06-18 13:03:34 - INFO - Validation - accuracy: 0.9440 - auc: 0.7399 - f1_score: 0.0629 - loss: 0.0621 - precision: 0.4412 - recall: 0.0410\n",
      "2025-06-18 13:03:34 - INFO - ==================================================\n",
      "\n"
     ]
    },
    {
     "name": "stdout",
     "output_type": "stream",
     "text": [
      "\u001b[1m813/813\u001b[0m \u001b[32m━━━━━━━━━━━━━━━━━━━━\u001b[0m\u001b[37m\u001b[0m \u001b[1m195s\u001b[0m 240ms/step - accuracy: 0.9218 - auc: 0.7668 - f1_score: 0.1122 - loss: 0.0594 - precision: 0.4965 - recall: 0.0783 - val_accuracy: 0.9440 - val_auc: 0.7399 - val_f1_score: 0.0629 - val_loss: 0.0621 - val_precision: 0.4412 - val_recall: 0.0410 - learning_rate: 1.0000e-04\n"
     ]
    },
    {
     "name": "stderr",
     "output_type": "stream",
     "text": [
      "2025-06-18 13:03:34 - INFO - \n",
      "=== Starting Epoch 17 ===\n",
      "\n"
     ]
    },
    {
     "name": "stdout",
     "output_type": "stream",
     "text": [
      "Epoch 17/100\n",
      "\u001b[1m813/813\u001b[0m \u001b[32m━━━━━━━━━━━━━━━━━━━━\u001b[0m\u001b[37m\u001b[0m \u001b[1m0s\u001b[0m 223ms/step - accuracy: 0.9215 - auc: 0.7699 - f1_score: 0.1210 - loss: 0.0588 - precision: 0.5021 - recall: 0.0853  "
     ]
    },
    {
     "name": "stderr",
     "output_type": "stream",
     "text": [
      "2025-06-18 13:06:49 - INFO - \n",
      "=== Epoch 17 Summary ===\n",
      "2025-06-18 13:06:49 - INFO - Time: 195.20s\n",
      "2025-06-18 13:06:49 - INFO - Training   - accuracy: 0.9223 - auc: 0.7738 - f1_score: 0.1229 - loss: 0.0581 - precision: 0.5058 - recall: 0.0866 - learning_rate: 0.0001\n",
      "2025-06-18 13:06:49 - INFO - Validation - accuracy: 0.9435 - auc: 0.7401 - f1_score: 0.0767 - loss: 0.0617 - precision: 0.4221 - recall: 0.0532\n",
      "2025-06-18 13:06:49 - INFO - ==================================================\n",
      "\n"
     ]
    },
    {
     "name": "stdout",
     "output_type": "stream",
     "text": [
      "\u001b[1m813/813\u001b[0m \u001b[32m━━━━━━━━━━━━━━━━━━━━\u001b[0m\u001b[37m\u001b[0m \u001b[1m195s\u001b[0m 240ms/step - accuracy: 0.9215 - auc: 0.7699 - f1_score: 0.1210 - loss: 0.0588 - precision: 0.5021 - recall: 0.0853 - val_accuracy: 0.9435 - val_auc: 0.7401 - val_f1_score: 0.0767 - val_loss: 0.0617 - val_precision: 0.4221 - val_recall: 0.0532 - learning_rate: 1.0000e-04\n"
     ]
    },
    {
     "name": "stderr",
     "output_type": "stream",
     "text": [
      "2025-06-18 13:06:49 - INFO - \n",
      "=== Starting Epoch 18 ===\n",
      "\n"
     ]
    },
    {
     "name": "stdout",
     "output_type": "stream",
     "text": [
      "Epoch 18/100\n",
      "\u001b[1m813/813\u001b[0m \u001b[32m━━━━━━━━━━━━━━━━━━━━\u001b[0m\u001b[37m\u001b[0m \u001b[1m0s\u001b[0m 224ms/step - accuracy: 0.9223 - auc: 0.7749 - f1_score: 0.1258 - loss: 0.0575 - precision: 0.5100 - recall: 0.0891  \n",
      "Epoch 18: ReduceLROnPlateau reducing learning rate to 4.999999873689376e-05.\n"
     ]
    },
    {
     "name": "stderr",
     "output_type": "stream",
     "text": [
      "2025-06-18 13:10:07 - INFO - \n",
      "=== Epoch 18 Summary ===\n",
      "2025-06-18 13:10:07 - INFO - Time: 197.54s\n",
      "2025-06-18 13:10:07 - INFO - Training   - accuracy: 0.9224 - auc: 0.7775 - f1_score: 0.1279 - loss: 0.0571 - precision: 0.5081 - recall: 0.0905 - learning_rate: 0.0001\n",
      "2025-06-18 13:10:07 - INFO - Validation - accuracy: 0.9422 - auc: 0.7511 - f1_score: 0.0883 - loss: 0.0610 - precision: 0.3721 - recall: 0.0640\n",
      "2025-06-18 13:10:07 - INFO - ==================================================\n",
      "\n"
     ]
    },
    {
     "name": "stdout",
     "output_type": "stream",
     "text": [
      "\u001b[1m813/813\u001b[0m \u001b[32m━━━━━━━━━━━━━━━━━━━━\u001b[0m\u001b[37m\u001b[0m \u001b[1m198s\u001b[0m 243ms/step - accuracy: 0.9223 - auc: 0.7749 - f1_score: 0.1258 - loss: 0.0575 - precision: 0.5100 - recall: 0.0891 - val_accuracy: 0.9422 - val_auc: 0.7511 - val_f1_score: 0.0883 - val_loss: 0.0610 - val_precision: 0.3721 - val_recall: 0.0640 - learning_rate: 1.0000e-04\n"
     ]
    },
    {
     "name": "stderr",
     "output_type": "stream",
     "text": [
      "2025-06-18 13:10:07 - INFO - \n",
      "=== Starting Epoch 19 ===\n",
      "\n"
     ]
    },
    {
     "name": "stdout",
     "output_type": "stream",
     "text": [
      "Epoch 19/100\n",
      "\u001b[1m813/813\u001b[0m \u001b[32m━━━━━━━━━━━━━━━━━━━━\u001b[0m\u001b[37m\u001b[0m \u001b[1m0s\u001b[0m 225ms/step - accuracy: 0.9226 - auc: 0.7890 - f1_score: 0.1483 - loss: 0.0557 - precision: 0.5205 - recall: 0.1070  "
     ]
    },
    {
     "name": "stderr",
     "output_type": "stream",
     "text": [
      "2025-06-18 13:13:25 - INFO - \n",
      "=== Epoch 19 Summary ===\n",
      "2025-06-18 13:13:25 - INFO - Time: 198.22s\n",
      "2025-06-18 13:13:25 - INFO - Training   - accuracy: 0.9231 - auc: 0.7959 - f1_score: 0.1548 - loss: 0.0545 - precision: 0.5265 - recall: 0.1127 - learning_rate: 0.0000\n",
      "2025-06-18 13:13:25 - INFO - Validation - accuracy: 0.9381 - auc: 0.7598 - f1_score: 0.1016 - loss: 0.0606 - precision: 0.3021 - recall: 0.0895\n",
      "2025-06-18 13:13:25 - INFO - ==================================================\n",
      "\n"
     ]
    },
    {
     "name": "stdout",
     "output_type": "stream",
     "text": [
      "\u001b[1m813/813\u001b[0m \u001b[32m━━━━━━━━━━━━━━━━━━━━\u001b[0m\u001b[37m\u001b[0m \u001b[1m198s\u001b[0m 244ms/step - accuracy: 0.9226 - auc: 0.7890 - f1_score: 0.1483 - loss: 0.0557 - precision: 0.5205 - recall: 0.1070 - val_accuracy: 0.9381 - val_auc: 0.7598 - val_f1_score: 0.1016 - val_loss: 0.0606 - val_precision: 0.3021 - val_recall: 0.0895 - learning_rate: 5.0000e-05\n"
     ]
    },
    {
     "name": "stderr",
     "output_type": "stream",
     "text": [
      "2025-06-18 13:13:25 - INFO - \n",
      "=== Starting Epoch 20 ===\n",
      "\n"
     ]
    },
    {
     "name": "stdout",
     "output_type": "stream",
     "text": [
      "Epoch 20/100\n",
      "\u001b[1m813/813\u001b[0m \u001b[32m━━━━━━━━━━━━━━━━━━━━\u001b[0m\u001b[37m\u001b[0m \u001b[1m0s\u001b[0m 226ms/step - accuracy: 0.9231 - auc: 0.8008 - f1_score: 0.1662 - loss: 0.0535 - precision: 0.5262 - recall: 0.1220  "
     ]
    },
    {
     "name": "stderr",
     "output_type": "stream",
     "text": [
      "2025-06-18 13:16:44 - INFO - \n",
      "=== Epoch 20 Summary ===\n",
      "2025-06-18 13:16:44 - INFO - Time: 198.81s\n",
      "2025-06-18 13:16:44 - INFO - Training   - accuracy: 0.9233 - auc: 0.8032 - f1_score: 0.1685 - loss: 0.0531 - precision: 0.5286 - recall: 0.1242 - learning_rate: 0.0000\n",
      "2025-06-18 13:16:44 - INFO - Validation - accuracy: 0.9372 - auc: 0.7519 - f1_score: 0.1219 - loss: 0.0621 - precision: 0.3013 - recall: 0.1010\n",
      "2025-06-18 13:16:44 - INFO - ==================================================\n",
      "\n"
     ]
    },
    {
     "name": "stdout",
     "output_type": "stream",
     "text": [
      "\u001b[1m813/813\u001b[0m \u001b[32m━━━━━━━━━━━━━━━━━━━━\u001b[0m\u001b[37m\u001b[0m \u001b[1m199s\u001b[0m 245ms/step - accuracy: 0.9231 - auc: 0.8008 - f1_score: 0.1662 - loss: 0.0535 - precision: 0.5263 - recall: 0.1220 - val_accuracy: 0.9372 - val_auc: 0.7519 - val_f1_score: 0.1219 - val_loss: 0.0621 - val_precision: 0.3013 - val_recall: 0.1010 - learning_rate: 5.0000e-05\n"
     ]
    },
    {
     "name": "stderr",
     "output_type": "stream",
     "text": [
      "2025-06-18 13:16:44 - INFO - \n",
      "=== Starting Epoch 21 ===\n",
      "\n"
     ]
    },
    {
     "name": "stdout",
     "output_type": "stream",
     "text": [
      "Epoch 21/100\n",
      "\u001b[1m813/813\u001b[0m \u001b[32m━━━━━━━━━━━━━━━━━━━━\u001b[0m\u001b[37m\u001b[0m \u001b[1m0s\u001b[0m 226ms/step - accuracy: 0.9227 - auc: 0.8056 - f1_score: 0.1776 - loss: 0.0529 - precision: 0.5335 - recall: 0.1325  "
     ]
    },
    {
     "name": "stderr",
     "output_type": "stream",
     "text": [
      "2025-06-18 13:20:03 - INFO - \n",
      "=== Epoch 21 Summary ===\n",
      "2025-06-18 13:20:03 - INFO - Time: 199.09s\n",
      "2025-06-18 13:20:03 - INFO - Training   - accuracy: 0.9236 - auc: 0.8093 - f1_score: 0.1804 - loss: 0.0520 - precision: 0.5375 - recall: 0.1347 - learning_rate: 0.0000\n",
      "2025-06-18 13:20:03 - INFO - Validation - accuracy: 0.9376 - auc: 0.7546 - f1_score: 0.1041 - loss: 0.0604 - precision: 0.2878 - recall: 0.0854\n",
      "2025-06-18 13:20:03 - INFO - ==================================================\n",
      "\n"
     ]
    },
    {
     "name": "stdout",
     "output_type": "stream",
     "text": [
      "\u001b[1m813/813\u001b[0m \u001b[32m━━━━━━━━━━━━━━━━━━━━\u001b[0m\u001b[37m\u001b[0m \u001b[1m199s\u001b[0m 245ms/step - accuracy: 0.9227 - auc: 0.8056 - f1_score: 0.1776 - loss: 0.0529 - precision: 0.5335 - recall: 0.1325 - val_accuracy: 0.9376 - val_auc: 0.7546 - val_f1_score: 0.1041 - val_loss: 0.0604 - val_precision: 0.2878 - val_recall: 0.0854 - learning_rate: 5.0000e-05\n"
     ]
    },
    {
     "name": "stderr",
     "output_type": "stream",
     "text": [
      "2025-06-18 13:20:03 - INFO - \n",
      "=== Starting Epoch 22 ===\n",
      "\n"
     ]
    },
    {
     "name": "stdout",
     "output_type": "stream",
     "text": [
      "Epoch 22/100\n",
      "\u001b[1m813/813\u001b[0m \u001b[32m━━━━━━━━━━━━━━━━━━━━\u001b[0m\u001b[37m\u001b[0m \u001b[1m0s\u001b[0m 226ms/step - accuracy: 0.9236 - auc: 0.8100 - f1_score: 0.1861 - loss: 0.0513 - precision: 0.5367 - recall: 0.1397  "
     ]
    },
    {
     "name": "stderr",
     "output_type": "stream",
     "text": [
      "2025-06-18 13:23:23 - INFO - \n",
      "=== Epoch 22 Summary ===\n",
      "2025-06-18 13:23:23 - INFO - Time: 199.87s\n",
      "2025-06-18 13:23:23 - INFO - Training   - accuracy: 0.9240 - auc: 0.8143 - f1_score: 0.1908 - loss: 0.0510 - precision: 0.5425 - recall: 0.1438 - learning_rate: 0.0000\n",
      "2025-06-18 13:23:23 - INFO - Validation - accuracy: 0.9366 - auc: 0.7556 - f1_score: 0.1416 - loss: 0.0602 - precision: 0.3102 - recall: 0.1184\n",
      "2025-06-18 13:23:23 - INFO - ==================================================\n",
      "\n"
     ]
    },
    {
     "name": "stdout",
     "output_type": "stream",
     "text": [
      "\u001b[1m813/813\u001b[0m \u001b[32m━━━━━━━━━━━━━━━━━━━━\u001b[0m\u001b[37m\u001b[0m \u001b[1m200s\u001b[0m 246ms/step - accuracy: 0.9236 - auc: 0.8100 - f1_score: 0.1861 - loss: 0.0513 - precision: 0.5367 - recall: 0.1397 - val_accuracy: 0.9366 - val_auc: 0.7556 - val_f1_score: 0.1416 - val_loss: 0.0602 - val_precision: 0.3102 - val_recall: 0.1184 - learning_rate: 5.0000e-05\n"
     ]
    },
    {
     "name": "stderr",
     "output_type": "stream",
     "text": [
      "2025-06-18 13:23:23 - INFO - \n",
      "=== Starting Epoch 23 ===\n",
      "\n"
     ]
    },
    {
     "name": "stdout",
     "output_type": "stream",
     "text": [
      "Epoch 23/100\n",
      "\u001b[1m813/813\u001b[0m \u001b[32m━━━━━━━━━━━━━━━━━━━━\u001b[0m\u001b[37m\u001b[0m \u001b[1m0s\u001b[0m 226ms/step - accuracy: 0.9235 - auc: 0.8152 - f1_score: 0.1924 - loss: 0.0509 - precision: 0.5397 - recall: 0.1468  "
     ]
    },
    {
     "name": "stderr",
     "output_type": "stream",
     "text": [
      "2025-06-18 13:26:42 - INFO - \n",
      "=== Epoch 23 Summary ===\n",
      "2025-06-18 13:26:42 - INFO - Time: 199.24s\n",
      "2025-06-18 13:26:42 - INFO - Training   - accuracy: 0.9242 - auc: 0.8192 - f1_score: 0.1991 - loss: 0.0502 - precision: 0.5468 - recall: 0.1517 - learning_rate: 0.0000\n",
      "2025-06-18 13:26:42 - INFO - Validation - accuracy: 0.9391 - auc: 0.7675 - f1_score: 0.1539 - loss: 0.0582 - precision: 0.3515 - recall: 0.1182\n",
      "2025-06-18 13:26:42 - INFO - ==================================================\n",
      "\n"
     ]
    },
    {
     "name": "stdout",
     "output_type": "stream",
     "text": [
      "\u001b[1m813/813\u001b[0m \u001b[32m━━━━━━━━━━━━━━━━━━━━\u001b[0m\u001b[37m\u001b[0m \u001b[1m199s\u001b[0m 245ms/step - accuracy: 0.9235 - auc: 0.8152 - f1_score: 0.1924 - loss: 0.0509 - precision: 0.5397 - recall: 0.1468 - val_accuracy: 0.9391 - val_auc: 0.7675 - val_f1_score: 0.1539 - val_loss: 0.0582 - val_precision: 0.3515 - val_recall: 0.1182 - learning_rate: 5.0000e-05\n"
     ]
    },
    {
     "name": "stderr",
     "output_type": "stream",
     "text": [
      "2025-06-18 13:26:42 - INFO - \n",
      "=== Starting Epoch 24 ===\n",
      "\n"
     ]
    },
    {
     "name": "stdout",
     "output_type": "stream",
     "text": [
      "Epoch 24/100\n",
      "\u001b[1m813/813\u001b[0m \u001b[32m━━━━━━━━━━━━━━━━━━━━\u001b[0m\u001b[37m\u001b[0m \u001b[1m0s\u001b[0m 267ms/step - accuracy: 0.9243 - auc: 0.8220 - f1_score: 0.2098 - loss: 0.0498 - precision: 0.5487 - recall: 0.1603  "
     ]
    },
    {
     "name": "stderr",
     "output_type": "stream",
     "text": [
      "2025-06-18 13:30:34 - INFO - \n",
      "=== Epoch 24 Summary ===\n",
      "2025-06-18 13:30:34 - INFO - Time: 232.28s\n",
      "2025-06-18 13:30:34 - INFO - Training   - accuracy: 0.9246 - auc: 0.8244 - f1_score: 0.2103 - loss: 0.0494 - precision: 0.5508 - recall: 0.1609 - learning_rate: 0.0000\n",
      "2025-06-18 13:30:34 - INFO - Validation - accuracy: 0.9337 - auc: 0.7549 - f1_score: 0.1217 - loss: 0.0622 - precision: 0.2606 - recall: 0.1071\n",
      "2025-06-18 13:30:34 - INFO - ==================================================\n",
      "\n"
     ]
    },
    {
     "name": "stdout",
     "output_type": "stream",
     "text": [
      "\u001b[1m813/813\u001b[0m \u001b[32m━━━━━━━━━━━━━━━━━━━━\u001b[0m\u001b[37m\u001b[0m \u001b[1m232s\u001b[0m 286ms/step - accuracy: 0.9243 - auc: 0.8220 - f1_score: 0.2098 - loss: 0.0498 - precision: 0.5487 - recall: 0.1603 - val_accuracy: 0.9337 - val_auc: 0.7549 - val_f1_score: 0.1217 - val_loss: 0.0622 - val_precision: 0.2606 - val_recall: 0.1071 - learning_rate: 5.0000e-05\n"
     ]
    },
    {
     "name": "stderr",
     "output_type": "stream",
     "text": [
      "2025-06-18 13:30:34 - INFO - \n",
      "=== Starting Epoch 25 ===\n",
      "\n"
     ]
    },
    {
     "name": "stdout",
     "output_type": "stream",
     "text": [
      "Epoch 25/100\n",
      "\u001b[1m813/813\u001b[0m \u001b[32m━━━━━━━━━━━━━━━━━━━━\u001b[0m\u001b[37m\u001b[0m \u001b[1m0s\u001b[0m 225ms/step - accuracy: 0.9242 - auc: 0.8255 - f1_score: 0.2170 - loss: 0.0494 - precision: 0.5579 - recall: 0.1678  "
     ]
    },
    {
     "name": "stderr",
     "output_type": "stream",
     "text": [
      "2025-06-18 13:33:50 - INFO - \n",
      "=== Epoch 25 Summary ===\n",
      "2025-06-18 13:33:50 - INFO - Time: 195.32s\n",
      "2025-06-18 13:33:50 - INFO - Training   - accuracy: 0.9249 - auc: 0.8282 - f1_score: 0.2198 - loss: 0.0488 - precision: 0.5598 - recall: 0.1702 - learning_rate: 0.0000\n",
      "2025-06-18 13:33:50 - INFO - Validation - accuracy: 0.9403 - auc: 0.7585 - f1_score: 0.1407 - loss: 0.0578 - precision: 0.3718 - recall: 0.1118\n",
      "2025-06-18 13:33:50 - INFO - ==================================================\n",
      "\n"
     ]
    },
    {
     "name": "stdout",
     "output_type": "stream",
     "text": [
      "\u001b[1m813/813\u001b[0m \u001b[32m━━━━━━━━━━━━━━━━━━━━\u001b[0m\u001b[37m\u001b[0m \u001b[1m195s\u001b[0m 240ms/step - accuracy: 0.9242 - auc: 0.8255 - f1_score: 0.2170 - loss: 0.0494 - precision: 0.5579 - recall: 0.1678 - val_accuracy: 0.9403 - val_auc: 0.7585 - val_f1_score: 0.1407 - val_loss: 0.0578 - val_precision: 0.3718 - val_recall: 0.1118 - learning_rate: 5.0000e-05\n"
     ]
    },
    {
     "name": "stderr",
     "output_type": "stream",
     "text": [
      "2025-06-18 13:33:50 - INFO - \n",
      "=== Starting Epoch 26 ===\n",
      "\n"
     ]
    },
    {
     "name": "stdout",
     "output_type": "stream",
     "text": [
      "Epoch 26/100\n",
      "\u001b[1m813/813\u001b[0m \u001b[32m━━━━━━━━━━━━━━━━━━━━\u001b[0m\u001b[37m\u001b[0m \u001b[1m0s\u001b[0m 226ms/step - accuracy: 0.9249 - auc: 0.8306 - f1_score: 0.2245 - loss: 0.0484 - precision: 0.5583 - recall: 0.1735  \n",
      "Epoch 26: ReduceLROnPlateau reducing learning rate to 2.499999936844688e-05.\n"
     ]
    },
    {
     "name": "stderr",
     "output_type": "stream",
     "text": [
      "2025-06-18 13:37:08 - INFO - \n",
      "=== Epoch 26 Summary ===\n",
      "2025-06-18 13:37:08 - INFO - Time: 198.05s\n",
      "2025-06-18 13:37:08 - INFO - Training   - accuracy: 0.9252 - auc: 0.8327 - f1_score: 0.2267 - loss: 0.0481 - precision: 0.5620 - recall: 0.1758 - learning_rate: 0.0000\n",
      "2025-06-18 13:37:08 - INFO - Validation - accuracy: 0.9369 - auc: 0.7563 - f1_score: 0.1435 - loss: 0.0597 - precision: 0.3379 - recall: 0.1458\n",
      "2025-06-18 13:37:08 - INFO - ==================================================\n",
      "\n"
     ]
    },
    {
     "name": "stdout",
     "output_type": "stream",
     "text": [
      "\u001b[1m813/813\u001b[0m \u001b[32m━━━━━━━━━━━━━━━━━━━━\u001b[0m\u001b[37m\u001b[0m \u001b[1m198s\u001b[0m 244ms/step - accuracy: 0.9249 - auc: 0.8306 - f1_score: 0.2245 - loss: 0.0484 - precision: 0.5583 - recall: 0.1735 - val_accuracy: 0.9369 - val_auc: 0.7563 - val_f1_score: 0.1435 - val_loss: 0.0597 - val_precision: 0.3379 - val_recall: 0.1458 - learning_rate: 5.0000e-05\n"
     ]
    },
    {
     "name": "stderr",
     "output_type": "stream",
     "text": [
      "2025-06-18 13:37:08 - INFO - \n",
      "=== Starting Epoch 27 ===\n",
      "\n"
     ]
    },
    {
     "name": "stdout",
     "output_type": "stream",
     "text": [
      "Epoch 27/100\n",
      "\u001b[1m813/813\u001b[0m \u001b[32m━━━━━━━━━━━━━━━━━━━━\u001b[0m\u001b[37m\u001b[0m \u001b[1m0s\u001b[0m 227ms/step - accuracy: 0.9265 - auc: 0.8418 - f1_score: 0.2472 - loss: 0.0466 - precision: 0.5879 - recall: 0.1926  "
     ]
    },
    {
     "name": "stderr",
     "output_type": "stream",
     "text": [
      "2025-06-18 13:40:24 - INFO - \n",
      "=== Epoch 27 Summary ===\n",
      "2025-06-18 13:40:24 - INFO - Time: 195.95s\n",
      "2025-06-18 13:40:24 - INFO - Training   - accuracy: 0.9272 - auc: 0.8463 - f1_score: 0.2545 - loss: 0.0458 - precision: 0.5958 - recall: 0.1991 - learning_rate: 0.0000\n",
      "2025-06-18 13:40:24 - INFO - Validation - accuracy: 0.9384 - auc: 0.7615 - f1_score: 0.1431 - loss: 0.0591 - precision: 0.3370 - recall: 0.1163\n",
      "2025-06-18 13:40:24 - INFO - ==================================================\n",
      "\n"
     ]
    },
    {
     "name": "stdout",
     "output_type": "stream",
     "text": [
      "\u001b[1m813/813\u001b[0m \u001b[32m━━━━━━━━━━━━━━━━━━━━\u001b[0m\u001b[37m\u001b[0m \u001b[1m196s\u001b[0m 241ms/step - accuracy: 0.9265 - auc: 0.8418 - f1_score: 0.2472 - loss: 0.0466 - precision: 0.5879 - recall: 0.1926 - val_accuracy: 0.9384 - val_auc: 0.7615 - val_f1_score: 0.1431 - val_loss: 0.0591 - val_precision: 0.3370 - val_recall: 0.1163 - learning_rate: 2.5000e-05\n"
     ]
    },
    {
     "name": "stderr",
     "output_type": "stream",
     "text": [
      "2025-06-18 13:40:24 - INFO - \n",
      "=== Starting Epoch 28 ===\n",
      "\n"
     ]
    },
    {
     "name": "stdout",
     "output_type": "stream",
     "text": [
      "Epoch 28/100\n",
      "\u001b[1m813/813\u001b[0m \u001b[32m━━━━━━━━━━━━━━━━━━━━\u001b[0m\u001b[37m\u001b[0m \u001b[1m0s\u001b[0m 347ms/step - accuracy: 0.9276 - auc: 0.8517 - f1_score: 0.2722 - loss: 0.0450 - precision: 0.6011 - recall: 0.2145   "
     ]
    },
    {
     "name": "stderr",
     "output_type": "stream",
     "text": [
      "2025-06-18 13:45:19 - INFO - \n",
      "=== Epoch 28 Summary ===\n",
      "2025-06-18 13:45:19 - INFO - Time: 295.05s\n",
      "2025-06-18 13:45:19 - INFO - Training   - accuracy: 0.9280 - auc: 0.8539 - f1_score: 0.2750 - loss: 0.0445 - precision: 0.6038 - recall: 0.2172 - learning_rate: 0.0000\n",
      "2025-06-18 13:45:19 - INFO - Validation - accuracy: 0.9378 - auc: 0.7651 - f1_score: 0.1552 - loss: 0.0591 - precision: 0.3438 - recall: 0.1353\n",
      "2025-06-18 13:45:19 - INFO - ==================================================\n",
      "\n"
     ]
    },
    {
     "name": "stdout",
     "output_type": "stream",
     "text": [
      "\u001b[1m813/813\u001b[0m \u001b[32m━━━━━━━━━━━━━━━━━━━━\u001b[0m\u001b[37m\u001b[0m \u001b[1m295s\u001b[0m 363ms/step - accuracy: 0.9276 - auc: 0.8517 - f1_score: 0.2722 - loss: 0.0450 - precision: 0.6011 - recall: 0.2145 - val_accuracy: 0.9378 - val_auc: 0.7651 - val_f1_score: 0.1552 - val_loss: 0.0591 - val_precision: 0.3438 - val_recall: 0.1353 - learning_rate: 2.5000e-05\n"
     ]
    },
    {
     "name": "stderr",
     "output_type": "stream",
     "text": [
      "2025-06-18 13:45:19 - INFO - \n",
      "=== Starting Epoch 29 ===\n",
      "\n"
     ]
    },
    {
     "name": "stdout",
     "output_type": "stream",
     "text": [
      "Epoch 29/100\n",
      "\u001b[1m813/813\u001b[0m \u001b[32m━━━━━━━━━━━━━━━━━━━━\u001b[0m\u001b[37m\u001b[0m \u001b[1m0s\u001b[0m 345ms/step - accuracy: 0.9285 - auc: 0.8565 - f1_score: 0.2832 - loss: 0.0441 - precision: 0.6128 - recall: 0.2237   "
     ]
    },
    {
     "name": "stderr",
     "output_type": "stream",
     "text": [
      "2025-06-18 13:50:15 - INFO - \n",
      "=== Epoch 29 Summary ===\n",
      "2025-06-18 13:50:15 - INFO - Time: 296.04s\n",
      "2025-06-18 13:50:15 - INFO - Training   - accuracy: 0.9288 - auc: 0.8591 - f1_score: 0.2871 - loss: 0.0437 - precision: 0.6158 - recall: 0.2271 - learning_rate: 0.0000\n",
      "2025-06-18 13:50:15 - INFO - Validation - accuracy: 0.9372 - auc: 0.7652 - f1_score: 0.1596 - loss: 0.0595 - precision: 0.3247 - recall: 0.1232\n",
      "2025-06-18 13:50:15 - INFO - ==================================================\n",
      "\n"
     ]
    },
    {
     "name": "stdout",
     "output_type": "stream",
     "text": [
      "\u001b[1m813/813\u001b[0m \u001b[32m━━━━━━━━━━━━━━━━━━━━\u001b[0m\u001b[37m\u001b[0m \u001b[1m296s\u001b[0m 364ms/step - accuracy: 0.9285 - auc: 0.8565 - f1_score: 0.2832 - loss: 0.0441 - precision: 0.6128 - recall: 0.2237 - val_accuracy: 0.9372 - val_auc: 0.7652 - val_f1_score: 0.1596 - val_loss: 0.0595 - val_precision: 0.3247 - val_recall: 0.1232 - learning_rate: 2.5000e-05\n"
     ]
    },
    {
     "name": "stderr",
     "output_type": "stream",
     "text": [
      "2025-06-18 13:50:15 - INFO - \n",
      "=== Starting Epoch 30 ===\n",
      "\n"
     ]
    },
    {
     "name": "stdout",
     "output_type": "stream",
     "text": [
      "Epoch 30/100\n",
      "\u001b[1m813/813\u001b[0m \u001b[32m━━━━━━━━━━━━━━━━━━━━\u001b[0m\u001b[37m\u001b[0m \u001b[1m0s\u001b[0m 273ms/step - accuracy: 0.9290 - auc: 0.8618 - f1_score: 0.2986 - loss: 0.0429 - precision: 0.6157 - recall: 0.2365  "
     ]
    },
    {
     "name": "stderr",
     "output_type": "stream",
     "text": [
      "2025-06-18 13:54:14 - INFO - \n",
      "=== Epoch 30 Summary ===\n",
      "2025-06-18 13:54:14 - INFO - Time: 238.88s\n",
      "2025-06-18 13:54:14 - INFO - Training   - accuracy: 0.9294 - auc: 0.8635 - f1_score: 0.3005 - loss: 0.0427 - precision: 0.6204 - recall: 0.2384 - learning_rate: 0.0000\n",
      "2025-06-18 13:54:14 - INFO - Validation - accuracy: 0.9361 - auc: 0.7608 - f1_score: 0.1769 - loss: 0.0598 - precision: 0.3263 - recall: 0.1451\n",
      "2025-06-18 13:54:14 - INFO - ==================================================\n",
      "\n"
     ]
    },
    {
     "name": "stdout",
     "output_type": "stream",
     "text": [
      "\u001b[1m813/813\u001b[0m \u001b[32m━━━━━━━━━━━━━━━━━━━━\u001b[0m\u001b[37m\u001b[0m \u001b[1m239s\u001b[0m 294ms/step - accuracy: 0.9290 - auc: 0.8618 - f1_score: 0.2986 - loss: 0.0429 - precision: 0.6157 - recall: 0.2365 - val_accuracy: 0.9361 - val_auc: 0.7608 - val_f1_score: 0.1769 - val_loss: 0.0598 - val_precision: 0.3263 - val_recall: 0.1451 - learning_rate: 2.5000e-05\n"
     ]
    },
    {
     "name": "stderr",
     "output_type": "stream",
     "text": [
      "2025-06-18 13:54:14 - INFO - \n",
      "=== Starting Epoch 31 ===\n",
      "\n"
     ]
    },
    {
     "name": "stdout",
     "output_type": "stream",
     "text": [
      "Epoch 31/100\n",
      "\u001b[1m813/813\u001b[0m \u001b[32m━━━━━━━━━━━━━━━━━━━━\u001b[0m\u001b[37m\u001b[0m \u001b[1m0s\u001b[0m 226ms/step - accuracy: 0.9297 - auc: 0.8655 - f1_score: 0.3099 - loss: 0.0425 - precision: 0.6244 - recall: 0.2457  "
     ]
    },
    {
     "name": "stderr",
     "output_type": "stream",
     "text": [
      "2025-06-18 13:57:30 - INFO - \n",
      "=== Epoch 31 Summary ===\n",
      "2025-06-18 13:57:30 - INFO - Time: 196.05s\n",
      "2025-06-18 13:57:30 - INFO - Training   - accuracy: 0.9300 - auc: 0.8674 - f1_score: 0.3121 - loss: 0.0422 - precision: 0.6271 - recall: 0.2478 - learning_rate: 0.0000\n",
      "2025-06-18 13:57:30 - INFO - Validation - accuracy: 0.9391 - auc: 0.7639 - f1_score: 0.1735 - loss: 0.0590 - precision: 0.3685 - recall: 0.1403\n",
      "2025-06-18 13:57:30 - INFO - ==================================================\n",
      "\n"
     ]
    },
    {
     "name": "stdout",
     "output_type": "stream",
     "text": [
      "\u001b[1m813/813\u001b[0m \u001b[32m━━━━━━━━━━━━━━━━━━━━\u001b[0m\u001b[37m\u001b[0m \u001b[1m196s\u001b[0m 241ms/step - accuracy: 0.9297 - auc: 0.8655 - f1_score: 0.3099 - loss: 0.0425 - precision: 0.6244 - recall: 0.2457 - val_accuracy: 0.9391 - val_auc: 0.7639 - val_f1_score: 0.1735 - val_loss: 0.0590 - val_precision: 0.3685 - val_recall: 0.1403 - learning_rate: 2.5000e-05\n"
     ]
    },
    {
     "name": "stderr",
     "output_type": "stream",
     "text": [
      "2025-06-18 13:57:30 - INFO - \n",
      "=== Starting Epoch 32 ===\n",
      "\n"
     ]
    },
    {
     "name": "stdout",
     "output_type": "stream",
     "text": [
      "Epoch 32/100\n",
      "\u001b[1m813/813\u001b[0m \u001b[32m━━━━━━━━━━━━━━━━━━━━\u001b[0m\u001b[37m\u001b[0m \u001b[1m0s\u001b[0m 225ms/step - accuracy: 0.9301 - auc: 0.8705 - f1_score: 0.3220 - loss: 0.0417 - precision: 0.6319 - recall: 0.2572  "
     ]
    },
    {
     "name": "stderr",
     "output_type": "stream",
     "text": [
      "2025-06-18 14:00:48 - INFO - \n",
      "=== Epoch 32 Summary ===\n",
      "2025-06-18 14:00:48 - INFO - Time: 197.87s\n",
      "2025-06-18 14:00:48 - INFO - Training   - accuracy: 0.9307 - auc: 0.8718 - f1_score: 0.3238 - loss: 0.0414 - precision: 0.6346 - recall: 0.2581 - learning_rate: 0.0000\n",
      "2025-06-18 14:00:48 - INFO - Validation - accuracy: 0.9365 - auc: 0.7605 - f1_score: 0.1785 - loss: 0.0599 - precision: 0.3388 - recall: 0.1542\n",
      "2025-06-18 14:00:48 - INFO - ==================================================\n",
      "\n"
     ]
    },
    {
     "name": "stdout",
     "output_type": "stream",
     "text": [
      "\u001b[1m813/813\u001b[0m \u001b[32m━━━━━━━━━━━━━━━━━━━━\u001b[0m\u001b[37m\u001b[0m \u001b[1m198s\u001b[0m 244ms/step - accuracy: 0.9301 - auc: 0.8705 - f1_score: 0.3220 - loss: 0.0417 - precision: 0.6319 - recall: 0.2572 - val_accuracy: 0.9365 - val_auc: 0.7605 - val_f1_score: 0.1785 - val_loss: 0.0599 - val_precision: 0.3388 - val_recall: 0.1542 - learning_rate: 2.5000e-05\n"
     ]
    },
    {
     "name": "stderr",
     "output_type": "stream",
     "text": [
      "2025-06-18 14:00:48 - INFO - \n",
      "=== Starting Epoch 33 ===\n",
      "\n"
     ]
    },
    {
     "name": "stdout",
     "output_type": "stream",
     "text": [
      "Epoch 33/100\n",
      "\u001b[1m813/813\u001b[0m \u001b[32m━━━━━━━━━━━━━━━━━━━━\u001b[0m\u001b[37m\u001b[0m \u001b[1m0s\u001b[0m 226ms/step - accuracy: 0.9308 - auc: 0.8729 - f1_score: 0.3334 - loss: 0.0411 - precision: 0.6344 - recall: 0.2670  "
     ]
    },
    {
     "name": "stderr",
     "output_type": "stream",
     "text": [
      "2025-06-18 14:04:03 - INFO - \n",
      "=== Epoch 33 Summary ===\n",
      "2025-06-18 14:04:03 - INFO - Time: 194.88s\n",
      "2025-06-18 14:04:03 - INFO - Training   - accuracy: 0.9313 - auc: 0.8756 - f1_score: 0.3362 - loss: 0.0407 - precision: 0.6383 - recall: 0.2694 - learning_rate: 0.0000\n",
      "2025-06-18 14:04:03 - INFO - Validation - accuracy: 0.9371 - auc: 0.7576 - f1_score: 0.1787 - loss: 0.0611 - precision: 0.3474 - recall: 0.1547\n",
      "2025-06-18 14:04:03 - INFO - ==================================================\n",
      "\n"
     ]
    },
    {
     "name": "stdout",
     "output_type": "stream",
     "text": [
      "\u001b[1m813/813\u001b[0m \u001b[32m━━━━━━━━━━━━━━━━━━━━\u001b[0m\u001b[37m\u001b[0m \u001b[1m195s\u001b[0m 240ms/step - accuracy: 0.9308 - auc: 0.8729 - f1_score: 0.3334 - loss: 0.0411 - precision: 0.6344 - recall: 0.2670 - val_accuracy: 0.9371 - val_auc: 0.7576 - val_f1_score: 0.1787 - val_loss: 0.0611 - val_precision: 0.3474 - val_recall: 0.1547 - learning_rate: 2.5000e-05\n"
     ]
    },
    {
     "name": "stderr",
     "output_type": "stream",
     "text": [
      "2025-06-18 14:04:03 - INFO - \n",
      "=== Starting Epoch 34 ===\n",
      "\n"
     ]
    },
    {
     "name": "stdout",
     "output_type": "stream",
     "text": [
      "Epoch 34/100\n",
      "\u001b[1m813/813\u001b[0m \u001b[32m━━━━━━━━━━━━━━━━━━━━\u001b[0m\u001b[37m\u001b[0m \u001b[1m0s\u001b[0m 232ms/step - accuracy: 0.9315 - auc: 0.8780 - f1_score: 0.3452 - loss: 0.0402 - precision: 0.6401 - recall: 0.2759  "
     ]
    },
    {
     "name": "stderr",
     "output_type": "stream",
     "text": [
      "2025-06-18 14:07:22 - INFO - \n",
      "=== Epoch 34 Summary ===\n",
      "2025-06-18 14:07:22 - INFO - Time: 199.18s\n",
      "2025-06-18 14:07:22 - INFO - Training   - accuracy: 0.9317 - auc: 0.8794 - f1_score: 0.3464 - loss: 0.0400 - precision: 0.6415 - recall: 0.2775 - learning_rate: 0.0000\n",
      "2025-06-18 14:07:22 - INFO - Validation - accuracy: 0.9339 - auc: 0.7578 - f1_score: 0.1835 - loss: 0.0622 - precision: 0.3226 - recall: 0.1754\n",
      "2025-06-18 14:07:22 - INFO - ==================================================\n",
      "\n"
     ]
    },
    {
     "name": "stdout",
     "output_type": "stream",
     "text": [
      "\u001b[1m813/813\u001b[0m \u001b[32m━━━━━━━━━━━━━━━━━━━━\u001b[0m\u001b[37m\u001b[0m \u001b[1m199s\u001b[0m 245ms/step - accuracy: 0.9315 - auc: 0.8780 - f1_score: 0.3452 - loss: 0.0402 - precision: 0.6401 - recall: 0.2759 - val_accuracy: 0.9339 - val_auc: 0.7578 - val_f1_score: 0.1835 - val_loss: 0.0622 - val_precision: 0.3226 - val_recall: 0.1754 - learning_rate: 2.5000e-05\n"
     ]
    },
    {
     "name": "stderr",
     "output_type": "stream",
     "text": [
      "2025-06-18 14:07:22 - INFO - \n",
      "=== Starting Epoch 35 ===\n",
      "\n"
     ]
    },
    {
     "name": "stdout",
     "output_type": "stream",
     "text": [
      "Epoch 35/100\n",
      "\u001b[1m813/813\u001b[0m \u001b[32m━━━━━━━━━━━━━━━━━━━━\u001b[0m\u001b[37m\u001b[0m \u001b[1m0s\u001b[0m 234ms/step - accuracy: 0.9321 - auc: 0.8811 - f1_score: 0.3548 - loss: 0.0397 - precision: 0.6480 - recall: 0.2855  "
     ]
    },
    {
     "name": "stderr",
     "output_type": "stream",
     "text": [
      "2025-06-18 14:10:42 - INFO - \n",
      "=== Epoch 35 Summary ===\n",
      "2025-06-18 14:10:42 - INFO - Time: 199.70s\n",
      "2025-06-18 14:10:42 - INFO - Training   - accuracy: 0.9324 - auc: 0.8834 - f1_score: 0.3575 - loss: 0.0394 - precision: 0.6480 - recall: 0.2872 - learning_rate: 0.0000\n",
      "2025-06-18 14:10:42 - INFO - Validation - accuracy: 0.9334 - auc: 0.7566 - f1_score: 0.1803 - loss: 0.0625 - precision: 0.3149 - recall: 0.1730\n",
      "2025-06-18 14:10:42 - INFO - ==================================================\n",
      "\n"
     ]
    },
    {
     "name": "stdout",
     "output_type": "stream",
     "text": [
      "\u001b[1m813/813\u001b[0m \u001b[32m━━━━━━━━━━━━━━━━━━━━\u001b[0m\u001b[37m\u001b[0m \u001b[1m200s\u001b[0m 246ms/step - accuracy: 0.9321 - auc: 0.8812 - f1_score: 0.3548 - loss: 0.0397 - precision: 0.6480 - recall: 0.2855 - val_accuracy: 0.9334 - val_auc: 0.7566 - val_f1_score: 0.1803 - val_loss: 0.0625 - val_precision: 0.3149 - val_recall: 0.1730 - learning_rate: 2.5000e-05\n"
     ]
    },
    {
     "name": "stderr",
     "output_type": "stream",
     "text": [
      "2025-06-18 14:10:42 - INFO - \n",
      "=== Starting Epoch 36 ===\n",
      "\n"
     ]
    },
    {
     "name": "stdout",
     "output_type": "stream",
     "text": [
      "Epoch 36/100\n",
      "\u001b[1m813/813\u001b[0m \u001b[32m━━━━━━━━━━━━━━━━━━━━\u001b[0m\u001b[37m\u001b[0m \u001b[1m0s\u001b[0m 273ms/step - accuracy: 0.9328 - auc: 0.8858 - f1_score: 0.3646 - loss: 0.0390 - precision: 0.6548 - recall: 0.2933  "
     ]
    },
    {
     "name": "stderr",
     "output_type": "stream",
     "text": [
      "2025-06-18 14:14:34 - INFO - \n",
      "=== Epoch 36 Summary ===\n",
      "2025-06-18 14:14:34 - INFO - Time: 232.71s\n",
      "2025-06-18 14:14:34 - INFO - Training   - accuracy: 0.9332 - auc: 0.8876 - f1_score: 0.3688 - loss: 0.0388 - precision: 0.6569 - recall: 0.2970 - learning_rate: 0.0000\n",
      "2025-06-18 14:14:34 - INFO - Validation - accuracy: 0.9344 - auc: 0.7556 - f1_score: 0.1887 - loss: 0.0622 - precision: 0.3259 - recall: 0.1729\n",
      "2025-06-18 14:14:34 - INFO - ==================================================\n",
      "\n"
     ]
    },
    {
     "name": "stdout",
     "output_type": "stream",
     "text": [
      "\u001b[1m813/813\u001b[0m \u001b[32m━━━━━━━━━━━━━━━━━━━━\u001b[0m\u001b[37m\u001b[0m \u001b[1m233s\u001b[0m 286ms/step - accuracy: 0.9328 - auc: 0.8858 - f1_score: 0.3646 - loss: 0.0390 - precision: 0.6548 - recall: 0.2933 - val_accuracy: 0.9344 - val_auc: 0.7556 - val_f1_score: 0.1887 - val_loss: 0.0622 - val_precision: 0.3259 - val_recall: 0.1729 - learning_rate: 2.5000e-05\n"
     ]
    },
    {
     "name": "stderr",
     "output_type": "stream",
     "text": [
      "2025-06-18 14:14:34 - INFO - \n",
      "=== Starting Epoch 37 ===\n",
      "\n"
     ]
    },
    {
     "name": "stdout",
     "output_type": "stream",
     "text": [
      "Epoch 37/100\n",
      "\u001b[1m813/813\u001b[0m \u001b[32m━━━━━━━━━━━━━━━━━━━━\u001b[0m\u001b[37m\u001b[0m \u001b[1m0s\u001b[0m 233ms/step - accuracy: 0.9334 - auc: 0.8892 - f1_score: 0.3768 - loss: 0.0385 - precision: 0.6566 - recall: 0.3030  "
     ]
    },
    {
     "name": "stderr",
     "output_type": "stream",
     "text": [
      "2025-06-18 14:17:54 - INFO - \n",
      "=== Epoch 37 Summary ===\n",
      "2025-06-18 14:17:54 - INFO - Time: 199.79s\n",
      "2025-06-18 14:17:54 - INFO - Training   - accuracy: 0.9336 - auc: 0.8907 - f1_score: 0.3804 - loss: 0.0382 - precision: 0.6583 - recall: 0.3070 - learning_rate: 0.0000\n",
      "2025-06-18 14:17:54 - INFO - Validation - accuracy: 0.9335 - auc: 0.7609 - f1_score: 0.2196 - loss: 0.0627 - precision: 0.3274 - recall: 0.1897\n",
      "2025-06-18 14:17:54 - INFO - ==================================================\n",
      "\n"
     ]
    },
    {
     "name": "stdout",
     "output_type": "stream",
     "text": [
      "\u001b[1m813/813\u001b[0m \u001b[32m━━━━━━━━━━━━━━━━━━━━\u001b[0m\u001b[37m\u001b[0m \u001b[1m200s\u001b[0m 246ms/step - accuracy: 0.9334 - auc: 0.8892 - f1_score: 0.3769 - loss: 0.0385 - precision: 0.6566 - recall: 0.3030 - val_accuracy: 0.9335 - val_auc: 0.7609 - val_f1_score: 0.2196 - val_loss: 0.0627 - val_precision: 0.3274 - val_recall: 0.1897 - learning_rate: 2.5000e-05\n"
     ]
    },
    {
     "name": "stderr",
     "output_type": "stream",
     "text": [
      "2025-06-18 14:17:54 - INFO - \n",
      "=== Starting Epoch 38 ===\n",
      "\n"
     ]
    },
    {
     "name": "stdout",
     "output_type": "stream",
     "text": [
      "Epoch 38/100\n",
      "\u001b[1m813/813\u001b[0m \u001b[32m━━━━━━━━━━━━━━━━━━━━\u001b[0m\u001b[37m\u001b[0m \u001b[1m0s\u001b[0m 235ms/step - accuracy: 0.9343 - auc: 0.8923 - f1_score: 0.3923 - loss: 0.0379 - precision: 0.6652 - recall: 0.3167  "
     ]
    },
    {
     "name": "stderr",
     "output_type": "stream",
     "text": [
      "2025-06-18 14:21:15 - INFO - \n",
      "=== Epoch 38 Summary ===\n",
      "2025-06-18 14:21:15 - INFO - Time: 200.86s\n",
      "2025-06-18 14:21:15 - INFO - Training   - accuracy: 0.9344 - auc: 0.8932 - f1_score: 0.3925 - loss: 0.0378 - precision: 0.6638 - recall: 0.3170 - learning_rate: 0.0000\n",
      "2025-06-18 14:21:15 - INFO - Validation - accuracy: 0.9319 - auc: 0.7542 - f1_score: 0.2081 - loss: 0.0637 - precision: 0.3113 - recall: 0.1900\n",
      "2025-06-18 14:21:15 - INFO - ==================================================\n",
      "\n"
     ]
    },
    {
     "name": "stdout",
     "output_type": "stream",
     "text": [
      "\u001b[1m813/813\u001b[0m \u001b[32m━━━━━━━━━━━━━━━━━━━━\u001b[0m\u001b[37m\u001b[0m \u001b[1m201s\u001b[0m 247ms/step - accuracy: 0.9343 - auc: 0.8923 - f1_score: 0.3923 - loss: 0.0379 - precision: 0.6652 - recall: 0.3167 - val_accuracy: 0.9319 - val_auc: 0.7542 - val_f1_score: 0.2081 - val_loss: 0.0637 - val_precision: 0.3113 - val_recall: 0.1900 - learning_rate: 2.5000e-05\n"
     ]
    },
    {
     "name": "stderr",
     "output_type": "stream",
     "text": [
      "2025-06-18 14:21:15 - INFO - \n",
      "=== Starting Epoch 39 ===\n",
      "\n"
     ]
    },
    {
     "name": "stdout",
     "output_type": "stream",
     "text": [
      "Epoch 39/100\n",
      "\u001b[1m813/813\u001b[0m \u001b[32m━━━━━━━━━━━━━━━━━━━━\u001b[0m\u001b[37m\u001b[0m \u001b[1m0s\u001b[0m 230ms/step - accuracy: 0.9346 - auc: 0.8958 - f1_score: 0.3986 - loss: 0.0375 - precision: 0.6661 - recall: 0.3230  "
     ]
    },
    {
     "name": "stderr",
     "output_type": "stream",
     "text": [
      "2025-06-18 14:24:32 - INFO - \n",
      "=== Epoch 39 Summary ===\n",
      "2025-06-18 14:24:32 - INFO - Time: 197.35s\n",
      "2025-06-18 14:24:32 - INFO - Training   - accuracy: 0.9348 - auc: 0.8968 - f1_score: 0.4008 - loss: 0.0373 - precision: 0.6669 - recall: 0.3249 - learning_rate: 0.0000\n",
      "2025-06-18 14:24:32 - INFO - Validation - accuracy: 0.9353 - auc: 0.7602 - f1_score: 0.1867 - loss: 0.0627 - precision: 0.3206 - recall: 0.1501\n",
      "2025-06-18 14:24:32 - INFO - ==================================================\n",
      "\n"
     ]
    },
    {
     "name": "stdout",
     "output_type": "stream",
     "text": [
      "\u001b[1m813/813\u001b[0m \u001b[32m━━━━━━━━━━━━━━━━━━━━\u001b[0m\u001b[37m\u001b[0m \u001b[1m197s\u001b[0m 243ms/step - accuracy: 0.9346 - auc: 0.8958 - f1_score: 0.3986 - loss: 0.0375 - precision: 0.6661 - recall: 0.3230 - val_accuracy: 0.9353 - val_auc: 0.7602 - val_f1_score: 0.1867 - val_loss: 0.0627 - val_precision: 0.3206 - val_recall: 0.1501 - learning_rate: 2.5000e-05\n"
     ]
    },
    {
     "name": "stderr",
     "output_type": "stream",
     "text": [
      "2025-06-18 14:24:32 - INFO - \n",
      "=== Starting Epoch 40 ===\n",
      "\n"
     ]
    },
    {
     "name": "stdout",
     "output_type": "stream",
     "text": [
      "Epoch 40/100\n",
      "\u001b[1m813/813\u001b[0m \u001b[32m━━━━━━━━━━━━━━━━━━━━\u001b[0m\u001b[37m\u001b[0m \u001b[1m0s\u001b[0m 232ms/step - accuracy: 0.9357 - auc: 0.8986 - f1_score: 0.4097 - loss: 0.0368 - precision: 0.6726 - recall: 0.3335  \n",
      "Epoch 40: ReduceLROnPlateau reducing learning rate to 1.249999968422344e-05.\n"
     ]
    },
    {
     "name": "stderr",
     "output_type": "stream",
     "text": [
      "2025-06-18 14:27:51 - INFO - \n",
      "=== Epoch 40 Summary ===\n",
      "2025-06-18 14:27:51 - INFO - Time: 198.11s\n",
      "2025-06-18 14:27:51 - INFO - Training   - accuracy: 0.9358 - auc: 0.8997 - f1_score: 0.4130 - loss: 0.0366 - precision: 0.6748 - recall: 0.3362 - learning_rate: 0.0000\n",
      "2025-06-18 14:27:51 - INFO - Validation - accuracy: 0.9357 - auc: 0.7554 - f1_score: 0.1771 - loss: 0.0632 - precision: 0.3241 - recall: 0.1478\n",
      "2025-06-18 14:27:51 - INFO - ==================================================\n",
      "\n"
     ]
    },
    {
     "name": "stdout",
     "output_type": "stream",
     "text": [
      "\u001b[1m813/813\u001b[0m \u001b[32m━━━━━━━━━━━━━━━━━━━━\u001b[0m\u001b[37m\u001b[0m \u001b[1m198s\u001b[0m 244ms/step - accuracy: 0.9357 - auc: 0.8986 - f1_score: 0.4097 - loss: 0.0368 - precision: 0.6726 - recall: 0.3335 - val_accuracy: 0.9357 - val_auc: 0.7554 - val_f1_score: 0.1771 - val_loss: 0.0632 - val_precision: 0.3241 - val_recall: 0.1478 - learning_rate: 2.5000e-05\n"
     ]
    },
    {
     "name": "stderr",
     "output_type": "stream",
     "text": [
      "2025-06-18 14:27:51 - INFO - \n",
      "=== Starting Epoch 41 ===\n",
      "\n"
     ]
    },
    {
     "name": "stdout",
     "output_type": "stream",
     "text": [
      "Epoch 41/100\n",
      "\u001b[1m813/813\u001b[0m \u001b[32m━━━━━━━━━━━━━━━━━━━━\u001b[0m\u001b[37m\u001b[0m \u001b[1m0s\u001b[0m 592ms/step - accuracy: 0.9373 - auc: 0.9070 - f1_score: 0.4341 - loss: 0.0352 - precision: 0.6915 - recall: 0.3537  "
     ]
    },
    {
     "name": "stderr",
     "output_type": "stream",
     "text": [
      "2025-06-18 14:36:00 - INFO - \n",
      "=== Epoch 41 Summary ===\n",
      "2025-06-18 14:36:00 - INFO - Time: 489.91s\n",
      "2025-06-18 14:36:00 - INFO - Training   - accuracy: 0.9385 - auc: 0.9110 - f1_score: 0.4463 - loss: 0.0344 - precision: 0.6998 - recall: 0.3652 - learning_rate: 0.0000\n",
      "2025-06-18 14:36:00 - INFO - Validation - accuracy: 0.9348 - auc: 0.7567 - f1_score: 0.2036 - loss: 0.0644 - precision: 0.3271 - recall: 0.1678\n",
      "2025-06-18 14:36:00 - INFO - ==================================================\n",
      "\n"
     ]
    },
    {
     "name": "stdout",
     "output_type": "stream",
     "text": [
      "\u001b[1m813/813\u001b[0m \u001b[32m━━━━━━━━━━━━━━━━━━━━\u001b[0m\u001b[37m\u001b[0m \u001b[1m490s\u001b[0m 603ms/step - accuracy: 0.9373 - auc: 0.9070 - f1_score: 0.4341 - loss: 0.0352 - precision: 0.6915 - recall: 0.3537 - val_accuracy: 0.9348 - val_auc: 0.7567 - val_f1_score: 0.2036 - val_loss: 0.0644 - val_precision: 0.3271 - val_recall: 0.1678 - learning_rate: 1.2500e-05\n"
     ]
    },
    {
     "name": "stderr",
     "output_type": "stream",
     "text": [
      "2025-06-18 14:36:00 - INFO - \n",
      "=== Starting Epoch 42 ===\n",
      "\n"
     ]
    },
    {
     "name": "stdout",
     "output_type": "stream",
     "text": [
      "Epoch 42/100\n",
      "\u001b[1m813/813\u001b[0m \u001b[32m━━━━━━━━━━━━━━━━━━━━\u001b[0m\u001b[37m\u001b[0m \u001b[1m0s\u001b[0m 232ms/step - accuracy: 0.9388 - auc: 0.9140 - f1_score: 0.4606 - loss: 0.0338 - precision: 0.7038 - recall: 0.3789  "
     ]
    },
    {
     "name": "stderr",
     "output_type": "stream",
     "text": [
      "2025-06-18 14:39:20 - INFO - \n",
      "=== Epoch 42 Summary ===\n",
      "2025-06-18 14:39:20 - INFO - Time: 199.24s\n",
      "2025-06-18 14:39:20 - INFO - Training   - accuracy: 0.9395 - auc: 0.9156 - f1_score: 0.4641 - loss: 0.0335 - precision: 0.7068 - recall: 0.3819 - learning_rate: 0.0000\n",
      "2025-06-18 14:39:20 - INFO - Validation - accuracy: 0.9337 - auc: 0.7576 - f1_score: 0.2068 - loss: 0.0656 - precision: 0.3168 - recall: 0.1697\n",
      "2025-06-18 14:39:20 - INFO - ==================================================\n",
      "\n"
     ]
    },
    {
     "name": "stdout",
     "output_type": "stream",
     "text": [
      "\u001b[1m813/813\u001b[0m \u001b[32m━━━━━━━━━━━━━━━━━━━━\u001b[0m\u001b[37m\u001b[0m \u001b[1m199s\u001b[0m 245ms/step - accuracy: 0.9388 - auc: 0.9140 - f1_score: 0.4606 - loss: 0.0338 - precision: 0.7038 - recall: 0.3789 - val_accuracy: 0.9337 - val_auc: 0.7576 - val_f1_score: 0.2068 - val_loss: 0.0656 - val_precision: 0.3168 - val_recall: 0.1697 - learning_rate: 1.2500e-05\n"
     ]
    },
    {
     "name": "stderr",
     "output_type": "stream",
     "text": [
      "2025-06-18 14:39:20 - INFO - \n",
      "=== Starting Epoch 43 ===\n",
      "\n"
     ]
    },
    {
     "name": "stdout",
     "output_type": "stream",
     "text": [
      "Epoch 43/100\n",
      "\u001b[1m813/813\u001b[0m \u001b[32m━━━━━━━━━━━━━━━━━━━━\u001b[0m\u001b[37m\u001b[0m \u001b[1m0s\u001b[0m 232ms/step - accuracy: 0.9400 - auc: 0.9179 - f1_score: 0.4741 - loss: 0.0332 - precision: 0.7079 - recall: 0.3919  \n",
      "Epoch 43: ReduceLROnPlateau reducing learning rate to 6.24999984211172e-06.\n"
     ]
    },
    {
     "name": "stderr",
     "output_type": "stream",
     "text": [
      "2025-06-18 14:42:37 - INFO - \n",
      "=== Epoch 43 Summary ===\n",
      "2025-06-18 14:42:37 - INFO - Time: 197.67s\n",
      "2025-06-18 14:42:37 - INFO - Training   - accuracy: 0.9404 - auc: 0.9187 - f1_score: 0.4774 - loss: 0.0330 - precision: 0.7101 - recall: 0.3953 - learning_rate: 0.0000\n",
      "2025-06-18 14:42:37 - INFO - Validation - accuracy: 0.9342 - auc: 0.7576 - f1_score: 0.2003 - loss: 0.0642 - precision: 0.3194 - recall: 0.1670\n",
      "2025-06-18 14:42:37 - INFO - ==================================================\n",
      "\n"
     ]
    },
    {
     "name": "stdout",
     "output_type": "stream",
     "text": [
      "\u001b[1m813/813\u001b[0m \u001b[32m━━━━━━━━━━━━━━━━━━━━\u001b[0m\u001b[37m\u001b[0m \u001b[1m198s\u001b[0m 243ms/step - accuracy: 0.9400 - auc: 0.9179 - f1_score: 0.4741 - loss: 0.0332 - precision: 0.7079 - recall: 0.3919 - val_accuracy: 0.9342 - val_auc: 0.7576 - val_f1_score: 0.2003 - val_loss: 0.0642 - val_precision: 0.3194 - val_recall: 0.1670 - learning_rate: 1.2500e-05\n"
     ]
    },
    {
     "name": "stderr",
     "output_type": "stream",
     "text": [
      "2025-06-18 14:42:37 - INFO - \n",
      "=== Starting Epoch 44 ===\n",
      "\n"
     ]
    },
    {
     "name": "stdout",
     "output_type": "stream",
     "text": [
      "Epoch 44/100\n",
      "\u001b[1m813/813\u001b[0m \u001b[32m━━━━━━━━━━━━━━━━━━━━\u001b[0m\u001b[37m\u001b[0m \u001b[1m0s\u001b[0m 253ms/step - accuracy: 0.9419 - auc: 0.9236 - f1_score: 0.4928 - loss: 0.0322 - precision: 0.7253 - recall: 0.4073  "
     ]
    },
    {
     "name": "stderr",
     "output_type": "stream",
     "text": [
      "2025-06-18 14:46:13 - INFO - \n",
      "=== Epoch 44 Summary ===\n",
      "2025-06-18 14:46:13 - INFO - Time: 215.75s\n",
      "2025-06-18 14:46:13 - INFO - Training   - accuracy: 0.9425 - auc: 0.9256 - f1_score: 0.5000 - loss: 0.0316 - precision: 0.7293 - recall: 0.4149 - learning_rate: 0.0000\n",
      "2025-06-18 14:46:13 - INFO - Validation - accuracy: 0.9342 - auc: 0.7574 - f1_score: 0.2121 - loss: 0.0658 - precision: 0.3222 - recall: 0.1697\n",
      "2025-06-18 14:46:13 - INFO - ==================================================\n",
      "\n"
     ]
    },
    {
     "name": "stdout",
     "output_type": "stream",
     "text": [
      "\u001b[1m813/813\u001b[0m \u001b[32m━━━━━━━━━━━━━━━━━━━━\u001b[0m\u001b[37m\u001b[0m \u001b[1m216s\u001b[0m 265ms/step - accuracy: 0.9419 - auc: 0.9236 - f1_score: 0.4928 - loss: 0.0322 - precision: 0.7253 - recall: 0.4073 - val_accuracy: 0.9342 - val_auc: 0.7574 - val_f1_score: 0.2121 - val_loss: 0.0658 - val_precision: 0.3222 - val_recall: 0.1697 - learning_rate: 6.2500e-06\n"
     ]
    },
    {
     "name": "stderr",
     "output_type": "stream",
     "text": [
      "2025-06-18 14:46:13 - INFO - \n",
      "=== Starting Epoch 45 ===\n",
      "\n"
     ]
    },
    {
     "name": "stdout",
     "output_type": "stream",
     "text": [
      "Epoch 45/100\n",
      "\u001b[1m813/813\u001b[0m \u001b[32m━━━━━━━━━━━━━━━━━━━━\u001b[0m\u001b[37m\u001b[0m \u001b[1m0s\u001b[0m 232ms/step - accuracy: 0.9428 - auc: 0.9279 - f1_score: 0.5100 - loss: 0.0313 - precision: 0.7298 - recall: 0.4261  "
     ]
    },
    {
     "name": "stderr",
     "output_type": "stream",
     "text": [
      "2025-06-18 14:49:31 - INFO - \n",
      "=== Epoch 45 Summary ===\n",
      "2025-06-18 14:49:31 - INFO - Time: 198.00s\n",
      "2025-06-18 14:49:31 - INFO - Training   - accuracy: 0.9433 - auc: 0.9292 - f1_score: 0.5128 - loss: 0.0309 - precision: 0.7312 - recall: 0.4287 - learning_rate: 0.0000\n",
      "2025-06-18 14:49:31 - INFO - Validation - accuracy: 0.9341 - auc: 0.7575 - f1_score: 0.2037 - loss: 0.0657 - precision: 0.3185 - recall: 0.1665\n",
      "2025-06-18 14:49:31 - INFO - ==================================================\n",
      "\n"
     ]
    },
    {
     "name": "stdout",
     "output_type": "stream",
     "text": [
      "\u001b[1m813/813\u001b[0m \u001b[32m━━━━━━━━━━━━━━━━━━━━\u001b[0m\u001b[37m\u001b[0m \u001b[1m198s\u001b[0m 244ms/step - accuracy: 0.9428 - auc: 0.9279 - f1_score: 0.5100 - loss: 0.0313 - precision: 0.7298 - recall: 0.4261 - val_accuracy: 0.9341 - val_auc: 0.7575 - val_f1_score: 0.2037 - val_loss: 0.0657 - val_precision: 0.3185 - val_recall: 0.1665 - learning_rate: 6.2500e-06\n"
     ]
    },
    {
     "name": "stderr",
     "output_type": "stream",
     "text": [
      "2025-06-18 14:49:31 - INFO - \n",
      "=== Starting Epoch 46 ===\n",
      "\n"
     ]
    },
    {
     "name": "stdout",
     "output_type": "stream",
     "text": [
      "Epoch 46/100\n",
      "\u001b[1m813/813\u001b[0m \u001b[32m━━━━━━━━━━━━━━━━━━━━\u001b[0m\u001b[37m\u001b[0m \u001b[1m0s\u001b[0m 235ms/step - accuracy: 0.9439 - auc: 0.9298 - f1_score: 0.5233 - loss: 0.0308 - precision: 0.7353 - recall: 0.4389  "
     ]
    },
    {
     "name": "stderr",
     "output_type": "stream",
     "text": [
      "2025-06-18 14:52:53 - INFO - \n",
      "=== Epoch 46 Summary ===\n",
      "2025-06-18 14:52:53 - INFO - Time: 202.03s\n",
      "2025-06-18 14:52:53 - INFO - Training   - accuracy: 0.9441 - auc: 0.9311 - f1_score: 0.5238 - loss: 0.0304 - precision: 0.7353 - recall: 0.4397 - learning_rate: 0.0000\n",
      "2025-06-18 14:52:53 - INFO - Validation - accuracy: 0.9326 - auc: 0.7585 - f1_score: 0.2307 - loss: 0.0654 - precision: 0.3227 - recall: 0.1974\n",
      "2025-06-18 14:52:53 - INFO - ==================================================\n",
      "\n"
     ]
    },
    {
     "name": "stdout",
     "output_type": "stream",
     "text": [
      "\u001b[1m813/813\u001b[0m \u001b[32m━━━━━━━━━━━━━━━━━━━━\u001b[0m\u001b[37m\u001b[0m \u001b[1m202s\u001b[0m 249ms/step - accuracy: 0.9439 - auc: 0.9298 - f1_score: 0.5233 - loss: 0.0308 - precision: 0.7353 - recall: 0.4389 - val_accuracy: 0.9326 - val_auc: 0.7585 - val_f1_score: 0.2307 - val_loss: 0.0654 - val_precision: 0.3227 - val_recall: 0.1974 - learning_rate: 6.2500e-06\n"
     ]
    },
    {
     "name": "stderr",
     "output_type": "stream",
     "text": [
      "2025-06-18 14:52:53 - INFO - \n",
      "=== Starting Epoch 47 ===\n",
      "\n"
     ]
    },
    {
     "name": "stdout",
     "output_type": "stream",
     "text": [
      "Epoch 47/100\n",
      "\u001b[1m813/813\u001b[0m \u001b[32m━━━━━━━━━━━━━━━━━━━━\u001b[0m\u001b[37m\u001b[0m \u001b[1m0s\u001b[0m 599ms/step - accuracy: 0.9446 - auc: 0.9317 - f1_score: 0.5294 - loss: 0.0303 - precision: 0.7395 - recall: 0.4444  "
     ]
    },
    {
     "name": "stderr",
     "output_type": "stream",
     "text": [
      "2025-06-18 15:01:10 - INFO - \n",
      "=== Epoch 47 Summary ===\n",
      "2025-06-18 15:01:10 - INFO - Time: 496.55s\n",
      "2025-06-18 15:01:10 - INFO - Training   - accuracy: 0.9449 - auc: 0.9330 - f1_score: 0.5334 - loss: 0.0300 - precision: 0.7410 - recall: 0.4489 - learning_rate: 0.0000\n",
      "2025-06-18 15:01:10 - INFO - Validation - accuracy: 0.9329 - auc: 0.7579 - f1_score: 0.2341 - loss: 0.0684 - precision: 0.3271 - recall: 0.2009\n",
      "2025-06-18 15:01:10 - INFO - ==================================================\n",
      "\n"
     ]
    },
    {
     "name": "stdout",
     "output_type": "stream",
     "text": [
      "\u001b[1m813/813\u001b[0m \u001b[32m━━━━━━━━━━━━━━━━━━━━\u001b[0m\u001b[37m\u001b[0m \u001b[1m497s\u001b[0m 611ms/step - accuracy: 0.9446 - auc: 0.9317 - f1_score: 0.5294 - loss: 0.0303 - precision: 0.7395 - recall: 0.4444 - val_accuracy: 0.9329 - val_auc: 0.7579 - val_f1_score: 0.2341 - val_loss: 0.0684 - val_precision: 0.3271 - val_recall: 0.2009 - learning_rate: 6.2500e-06\n"
     ]
    },
    {
     "name": "stderr",
     "output_type": "stream",
     "text": [
      "2025-06-18 15:01:10 - INFO - \n",
      "=== Starting Epoch 48 ===\n",
      "\n"
     ]
    },
    {
     "name": "stdout",
     "output_type": "stream",
     "text": [
      "Epoch 48/100\n",
      "\u001b[1m813/813\u001b[0m \u001b[32m━━━━━━━━━━━━━━━━━━━━\u001b[0m\u001b[37m\u001b[0m \u001b[1m0s\u001b[0m 363ms/step - accuracy: 0.9451 - auc: 0.9345 - f1_score: 0.5359 - loss: 0.0298 - precision: 0.7425 - recall: 0.4510   "
     ]
    },
    {
     "name": "stderr",
     "output_type": "stream",
     "text": [
      "2025-06-18 15:06:15 - INFO - \n",
      "=== Epoch 48 Summary ===\n",
      "2025-06-18 15:06:15 - INFO - Time: 305.68s\n",
      "2025-06-18 15:06:15 - INFO - Training   - accuracy: 0.9453 - auc: 0.9351 - f1_score: 0.5386 - loss: 0.0297 - precision: 0.7436 - recall: 0.4541 - learning_rate: 0.0000\n",
      "2025-06-18 15:06:15 - INFO - Validation - accuracy: 0.9327 - auc: 0.7571 - f1_score: 0.2179 - loss: 0.0676 - precision: 0.3169 - recall: 0.1863\n",
      "2025-06-18 15:06:15 - INFO - ==================================================\n",
      "\n"
     ]
    },
    {
     "name": "stdout",
     "output_type": "stream",
     "text": [
      "\u001b[1m813/813\u001b[0m \u001b[32m━━━━━━━━━━━━━━━━━━━━\u001b[0m\u001b[37m\u001b[0m \u001b[1m306s\u001b[0m 376ms/step - accuracy: 0.9451 - auc: 0.9345 - f1_score: 0.5359 - loss: 0.0298 - precision: 0.7425 - recall: 0.4510 - val_accuracy: 0.9327 - val_auc: 0.7571 - val_f1_score: 0.2179 - val_loss: 0.0676 - val_precision: 0.3169 - val_recall: 0.1863 - learning_rate: 6.2500e-06\n"
     ]
    },
    {
     "name": "stderr",
     "output_type": "stream",
     "text": [
      "2025-06-18 15:06:15 - INFO - \n",
      "=== Starting Epoch 49 ===\n",
      "\n"
     ]
    },
    {
     "name": "stdout",
     "output_type": "stream",
     "text": [
      "Epoch 49/100\n",
      "\u001b[1m813/813\u001b[0m \u001b[32m━━━━━━━━━━━━━━━━━━━━\u001b[0m\u001b[37m\u001b[0m \u001b[1m0s\u001b[0m 234ms/step - accuracy: 0.9462 - auc: 0.9355 - f1_score: 0.5482 - loss: 0.0295 - precision: 0.7494 - recall: 0.4633  "
     ]
    },
    {
     "name": "stderr",
     "output_type": "stream",
     "text": [
      "2025-06-18 15:09:36 - INFO - \n",
      "=== Epoch 49 Summary ===\n",
      "2025-06-18 15:09:36 - INFO - Time: 200.10s\n",
      "2025-06-18 15:09:36 - INFO - Training   - accuracy: 0.9462 - auc: 0.9367 - f1_score: 0.5479 - loss: 0.0293 - precision: 0.7483 - recall: 0.4635 - learning_rate: 0.0000\n",
      "2025-06-18 15:09:36 - INFO - Validation - accuracy: 0.9322 - auc: 0.7551 - f1_score: 0.2283 - loss: 0.0665 - precision: 0.3156 - recall: 0.1920\n",
      "2025-06-18 15:09:36 - INFO - ==================================================\n",
      "\n"
     ]
    },
    {
     "name": "stdout",
     "output_type": "stream",
     "text": [
      "\u001b[1m813/813\u001b[0m \u001b[32m━━━━━━━━━━━━━━━━━━━━\u001b[0m\u001b[37m\u001b[0m \u001b[1m200s\u001b[0m 246ms/step - accuracy: 0.9462 - auc: 0.9355 - f1_score: 0.5482 - loss: 0.0295 - precision: 0.7494 - recall: 0.4633 - val_accuracy: 0.9322 - val_auc: 0.7551 - val_f1_score: 0.2283 - val_loss: 0.0665 - val_precision: 0.3156 - val_recall: 0.1920 - learning_rate: 6.2500e-06\n"
     ]
    },
    {
     "name": "stderr",
     "output_type": "stream",
     "text": [
      "2025-06-18 15:09:36 - INFO - \n",
      "=== Starting Epoch 50 ===\n",
      "\n"
     ]
    },
    {
     "name": "stdout",
     "output_type": "stream",
     "text": [
      "Epoch 50/100\n",
      "\u001b[1m813/813\u001b[0m \u001b[32m━━━━━━━━━━━━━━━━━━━━\u001b[0m\u001b[37m\u001b[0m \u001b[1m0s\u001b[0m 235ms/step - accuracy: 0.9463 - auc: 0.9381 - f1_score: 0.5546 - loss: 0.0290 - precision: 0.7517 - recall: 0.4693  \n",
      "Epoch 50: ReduceLROnPlateau reducing learning rate to 3.12499992105586e-06.\n"
     ]
    },
    {
     "name": "stderr",
     "output_type": "stream",
     "text": [
      "2025-06-18 15:12:58 - INFO - \n",
      "=== Epoch 50 Summary ===\n",
      "2025-06-18 15:12:58 - INFO - Time: 201.96s\n",
      "2025-06-18 15:12:58 - INFO - Training   - accuracy: 0.9466 - auc: 0.9389 - f1_score: 0.5557 - loss: 0.0289 - precision: 0.7502 - recall: 0.4716 - learning_rate: 0.0000\n",
      "2025-06-18 15:12:58 - INFO - Validation - accuracy: 0.9323 - auc: 0.7540 - f1_score: 0.2273 - loss: 0.0673 - precision: 0.3188 - recall: 0.1959\n",
      "2025-06-18 15:12:58 - INFO - ==================================================\n",
      "\n"
     ]
    },
    {
     "name": "stdout",
     "output_type": "stream",
     "text": [
      "\u001b[1m813/813\u001b[0m \u001b[32m━━━━━━━━━━━━━━━━━━━━\u001b[0m\u001b[37m\u001b[0m \u001b[1m202s\u001b[0m 248ms/step - accuracy: 0.9463 - auc: 0.9381 - f1_score: 0.5546 - loss: 0.0290 - precision: 0.7517 - recall: 0.4693 - val_accuracy: 0.9323 - val_auc: 0.7540 - val_f1_score: 0.2273 - val_loss: 0.0673 - val_precision: 0.3188 - val_recall: 0.1959 - learning_rate: 6.2500e-06\n"
     ]
    },
    {
     "name": "stderr",
     "output_type": "stream",
     "text": [
      "2025-06-18 15:12:58 - INFO - \n",
      "=== Starting Epoch 51 ===\n",
      "\n"
     ]
    },
    {
     "name": "stdout",
     "output_type": "stream",
     "text": [
      "Epoch 51/100\n",
      "\u001b[1m813/813\u001b[0m \u001b[32m━━━━━━━━━━━━━━━━━━━━\u001b[0m\u001b[37m\u001b[0m \u001b[1m0s\u001b[0m 238ms/step - accuracy: 0.9474 - auc: 0.9403 - f1_score: 0.5617 - loss: 0.0286 - precision: 0.7565 - recall: 0.4769  "
     ]
    },
    {
     "name": "stderr",
     "output_type": "stream",
     "text": [
      "2025-06-18 15:16:20 - INFO - \n",
      "=== Epoch 51 Summary ===\n",
      "2025-06-18 15:16:20 - INFO - Time: 202.22s\n",
      "2025-06-18 15:16:20 - INFO - Training   - accuracy: 0.9478 - auc: 0.9415 - f1_score: 0.5657 - loss: 0.0283 - precision: 0.7595 - recall: 0.4807 - learning_rate: 0.0000\n",
      "2025-06-18 15:16:20 - INFO - Validation - accuracy: 0.9317 - auc: 0.7549 - f1_score: 0.2278 - loss: 0.0685 - precision: 0.3142 - recall: 0.1971\n",
      "2025-06-18 15:16:20 - INFO - ==================================================\n",
      "\n"
     ]
    },
    {
     "name": "stdout",
     "output_type": "stream",
     "text": [
      "\u001b[1m813/813\u001b[0m \u001b[32m━━━━━━━━━━━━━━━━━━━━\u001b[0m\u001b[37m\u001b[0m \u001b[1m202s\u001b[0m 249ms/step - accuracy: 0.9474 - auc: 0.9403 - f1_score: 0.5617 - loss: 0.0286 - precision: 0.7566 - recall: 0.4769 - val_accuracy: 0.9317 - val_auc: 0.7549 - val_f1_score: 0.2278 - val_loss: 0.0685 - val_precision: 0.3142 - val_recall: 0.1971 - learning_rate: 3.1250e-06\n"
     ]
    },
    {
     "name": "stderr",
     "output_type": "stream",
     "text": [
      "2025-06-18 15:16:20 - INFO - \n",
      "=== Starting Epoch 52 ===\n",
      "\n"
     ]
    },
    {
     "name": "stdout",
     "output_type": "stream",
     "text": [
      "Epoch 52/100\n",
      "\u001b[1m813/813\u001b[0m \u001b[32m━━━━━━━━━━━━━━━━━━━━\u001b[0m\u001b[37m\u001b[0m \u001b[1m0s\u001b[0m 234ms/step - accuracy: 0.9482 - auc: 0.9430 - f1_score: 0.5719 - loss: 0.0281 - precision: 0.7637 - recall: 0.4862  "
     ]
    },
    {
     "name": "stderr",
     "output_type": "stream",
     "text": [
      "2025-06-18 15:19:41 - INFO - \n",
      "=== Epoch 52 Summary ===\n",
      "2025-06-18 15:19:41 - INFO - Time: 201.25s\n",
      "2025-06-18 15:19:41 - INFO - Training   - accuracy: 0.9485 - auc: 0.9435 - f1_score: 0.5746 - loss: 0.0280 - precision: 0.7640 - recall: 0.4894 - learning_rate: 0.0000\n",
      "2025-06-18 15:19:41 - INFO - Validation - accuracy: 0.9326 - auc: 0.7555 - f1_score: 0.2266 - loss: 0.0688 - precision: 0.3191 - recall: 0.1907\n",
      "2025-06-18 15:19:41 - INFO - ==================================================\n",
      "\n"
     ]
    },
    {
     "name": "stdout",
     "output_type": "stream",
     "text": [
      "\u001b[1m813/813\u001b[0m \u001b[32m━━━━━━━━━━━━━━━━━━━━\u001b[0m\u001b[37m\u001b[0m \u001b[1m201s\u001b[0m 248ms/step - accuracy: 0.9482 - auc: 0.9430 - f1_score: 0.5719 - loss: 0.0281 - precision: 0.7637 - recall: 0.4862 - val_accuracy: 0.9326 - val_auc: 0.7555 - val_f1_score: 0.2266 - val_loss: 0.0688 - val_precision: 0.3191 - val_recall: 0.1907 - learning_rate: 3.1250e-06\n"
     ]
    },
    {
     "name": "stderr",
     "output_type": "stream",
     "text": [
      "2025-06-18 15:19:41 - INFO - \n",
      "=== Starting Epoch 53 ===\n",
      "\n"
     ]
    },
    {
     "name": "stdout",
     "output_type": "stream",
     "text": [
      "Epoch 53/100\n",
      "\u001b[1m813/813\u001b[0m \u001b[32m━━━━━━━━━━━━━━━━━━━━\u001b[0m\u001b[37m\u001b[0m \u001b[1m0s\u001b[0m 240ms/step - accuracy: 0.9486 - auc: 0.9441 - f1_score: 0.5772 - loss: 0.0278 - precision: 0.7612 - recall: 0.4936  "
     ]
    },
    {
     "name": "stderr",
     "output_type": "stream",
     "text": [
      "2025-06-18 15:23:06 - INFO - \n",
      "=== Epoch 53 Summary ===\n",
      "2025-06-18 15:23:06 - INFO - Time: 204.79s\n",
      "2025-06-18 15:23:06 - INFO - Training   - accuracy: 0.9487 - auc: 0.9445 - f1_score: 0.5782 - loss: 0.0277 - precision: 0.7625 - recall: 0.4942 - learning_rate: 0.0000\n",
      "2025-06-18 15:23:06 - INFO - Validation - accuracy: 0.9332 - auc: 0.7570 - f1_score: 0.2344 - loss: 0.0690 - precision: 0.3283 - recall: 0.1970\n",
      "2025-06-18 15:23:06 - INFO - ==================================================\n",
      "\n"
     ]
    },
    {
     "name": "stdout",
     "output_type": "stream",
     "text": [
      "\u001b[1m813/813\u001b[0m \u001b[32m━━━━━━━━━━━━━━━━━━━━\u001b[0m\u001b[37m\u001b[0m \u001b[1m205s\u001b[0m 252ms/step - accuracy: 0.9486 - auc: 0.9441 - f1_score: 0.5772 - loss: 0.0278 - precision: 0.7612 - recall: 0.4936 - val_accuracy: 0.9332 - val_auc: 0.7570 - val_f1_score: 0.2344 - val_loss: 0.0690 - val_precision: 0.3283 - val_recall: 0.1970 - learning_rate: 3.1250e-06\n"
     ]
    },
    {
     "name": "stderr",
     "output_type": "stream",
     "text": [
      "2025-06-18 15:23:06 - INFO - \n",
      "=== Starting Epoch 54 ===\n",
      "\n"
     ]
    },
    {
     "name": "stdout",
     "output_type": "stream",
     "text": [
      "Epoch 54/100\n",
      "\u001b[1m813/813\u001b[0m \u001b[32m━━━━━━━━━━━━━━━━━━━━\u001b[0m\u001b[37m\u001b[0m \u001b[1m0s\u001b[0m 714ms/step - accuracy: 0.9489 - auc: 0.9447 - f1_score: 0.5814 - loss: 0.0277 - precision: 0.7652 - recall: 0.4964   "
     ]
    },
    {
     "name": "stderr",
     "output_type": "stream",
     "text": [
      "2025-06-18 15:32:56 - INFO - \n",
      "=== Epoch 54 Summary ===\n",
      "2025-06-18 15:32:56 - INFO - Time: 590.11s\n",
      "2025-06-18 15:32:56 - INFO - Training   - accuracy: 0.9492 - auc: 0.9454 - f1_score: 0.5833 - loss: 0.0275 - precision: 0.7656 - recall: 0.4989 - learning_rate: 0.0000\n",
      "2025-06-18 15:32:56 - INFO - Validation - accuracy: 0.9328 - auc: 0.7550 - f1_score: 0.2271 - loss: 0.0686 - precision: 0.3218 - recall: 0.1922\n",
      "2025-06-18 15:32:56 - INFO - ==================================================\n",
      "\n"
     ]
    },
    {
     "name": "stdout",
     "output_type": "stream",
     "text": [
      "\u001b[1m813/813\u001b[0m \u001b[32m━━━━━━━━━━━━━━━━━━━━\u001b[0m\u001b[37m\u001b[0m \u001b[1m590s\u001b[0m 726ms/step - accuracy: 0.9489 - auc: 0.9447 - f1_score: 0.5814 - loss: 0.0277 - precision: 0.7652 - recall: 0.4964 - val_accuracy: 0.9328 - val_auc: 0.7550 - val_f1_score: 0.2271 - val_loss: 0.0686 - val_precision: 0.3218 - val_recall: 0.1922 - learning_rate: 3.1250e-06\n"
     ]
    },
    {
     "name": "stderr",
     "output_type": "stream",
     "text": [
      "2025-06-18 15:32:56 - INFO - \n",
      "=== Starting Epoch 55 ===\n",
      "\n"
     ]
    },
    {
     "name": "stdout",
     "output_type": "stream",
     "text": [
      "Epoch 55/100\n",
      "\u001b[1m813/813\u001b[0m \u001b[32m━━━━━━━━━━━━━━━━━━━━\u001b[0m\u001b[37m\u001b[0m \u001b[1m0s\u001b[0m 243ms/step - accuracy: 0.9495 - auc: 0.9462 - f1_score: 0.5877 - loss: 0.0273 - precision: 0.7695 - recall: 0.5035  "
     ]
    },
    {
     "name": "stderr",
     "output_type": "stream",
     "text": [
      "2025-06-18 15:36:23 - INFO - \n",
      "=== Epoch 55 Summary ===\n",
      "2025-06-18 15:36:23 - INFO - Time: 207.22s\n",
      "2025-06-18 15:36:23 - INFO - Training   - accuracy: 0.9498 - auc: 0.9469 - f1_score: 0.5891 - loss: 0.0272 - precision: 0.7697 - recall: 0.5054 - learning_rate: 0.0000\n",
      "2025-06-18 15:36:23 - INFO - Validation - accuracy: 0.9337 - auc: 0.7556 - f1_score: 0.2358 - loss: 0.0710 - precision: 0.3359 - recall: 0.2014\n",
      "2025-06-18 15:36:23 - INFO - ==================================================\n",
      "\n"
     ]
    },
    {
     "name": "stdout",
     "output_type": "stream",
     "text": [
      "\u001b[1m813/813\u001b[0m \u001b[32m━━━━━━━━━━━━━━━━━━━━\u001b[0m\u001b[37m\u001b[0m \u001b[1m207s\u001b[0m 255ms/step - accuracy: 0.9495 - auc: 0.9462 - f1_score: 0.5877 - loss: 0.0273 - precision: 0.7695 - recall: 0.5035 - val_accuracy: 0.9337 - val_auc: 0.7556 - val_f1_score: 0.2358 - val_loss: 0.0710 - val_precision: 0.3359 - val_recall: 0.2014 - learning_rate: 3.1250e-06\n"
     ]
    },
    {
     "name": "stderr",
     "output_type": "stream",
     "text": [
      "2025-06-18 15:36:23 - INFO - \n",
      "=== Starting Epoch 56 ===\n",
      "\n"
     ]
    },
    {
     "name": "stdout",
     "output_type": "stream",
     "text": [
      "Epoch 56/100\n",
      "\u001b[1m813/813\u001b[0m \u001b[32m━━━━━━━━━━━━━━━━━━━━\u001b[0m\u001b[37m\u001b[0m \u001b[1m0s\u001b[0m 238ms/step - accuracy: 0.9494 - auc: 0.9469 - f1_score: 0.5900 - loss: 0.0275 - precision: 0.7667 - recall: 0.5067  "
     ]
    },
    {
     "name": "stderr",
     "output_type": "stream",
     "text": [
      "2025-06-18 15:39:47 - INFO - \n",
      "=== Epoch 56 Summary ===\n",
      "2025-06-18 15:39:47 - INFO - Time: 203.54s\n",
      "2025-06-18 15:39:47 - INFO - Training   - accuracy: 0.9497 - auc: 0.9473 - f1_score: 0.5917 - loss: 0.0273 - precision: 0.7679 - recall: 0.5085 - learning_rate: 0.0000\n",
      "2025-06-18 15:39:47 - INFO - Validation - accuracy: 0.9323 - auc: 0.7560 - f1_score: 0.2287 - loss: 0.0690 - precision: 0.3209 - recall: 0.1990\n",
      "2025-06-18 15:39:47 - INFO - ==================================================\n",
      "\n"
     ]
    },
    {
     "name": "stdout",
     "output_type": "stream",
     "text": [
      "\u001b[1m813/813\u001b[0m \u001b[32m━━━━━━━━━━━━━━━━━━━━\u001b[0m\u001b[37m\u001b[0m \u001b[1m204s\u001b[0m 250ms/step - accuracy: 0.9494 - auc: 0.9469 - f1_score: 0.5900 - loss: 0.0275 - precision: 0.7667 - recall: 0.5067 - val_accuracy: 0.9323 - val_auc: 0.7560 - val_f1_score: 0.2287 - val_loss: 0.0690 - val_precision: 0.3209 - val_recall: 0.1990 - learning_rate: 3.1250e-06\n"
     ]
    },
    {
     "name": "stderr",
     "output_type": "stream",
     "text": [
      "2025-06-18 15:39:47 - INFO - \n",
      "=== Starting Epoch 57 ===\n",
      "\n"
     ]
    },
    {
     "name": "stdout",
     "output_type": "stream",
     "text": [
      "Epoch 57/100\n",
      "\u001b[1m813/813\u001b[0m \u001b[32m━━━━━━━━━━━━━━━━━━━━\u001b[0m\u001b[37m\u001b[0m \u001b[1m0s\u001b[0m 588ms/step - accuracy: 0.9503 - auc: 0.9481 - f1_score: 0.5965 - loss: 0.0270 - precision: 0.7730 - recall: 0.5130  "
     ]
    },
    {
     "name": "stderr",
     "output_type": "stream",
     "text": [
      "2025-06-18 15:47:55 - INFO - \n",
      "=== Epoch 57 Summary ===\n",
      "2025-06-18 15:47:55 - INFO - Time: 488.04s\n",
      "2025-06-18 15:47:55 - INFO - Training   - accuracy: 0.9503 - auc: 0.9482 - f1_score: 0.5961 - loss: 0.0270 - precision: 0.7717 - recall: 0.5130 - learning_rate: 0.0000\n",
      "2025-06-18 15:47:55 - INFO - Validation - accuracy: 0.9328 - auc: 0.7562 - f1_score: 0.2383 - loss: 0.0695 - precision: 0.3267 - recall: 0.2013\n",
      "2025-06-18 15:47:55 - INFO - ==================================================\n",
      "\n"
     ]
    },
    {
     "name": "stdout",
     "output_type": "stream",
     "text": [
      "\u001b[1m813/813\u001b[0m \u001b[32m━━━━━━━━━━━━━━━━━━━━\u001b[0m\u001b[37m\u001b[0m \u001b[1m488s\u001b[0m 601ms/step - accuracy: 0.9503 - auc: 0.9481 - f1_score: 0.5965 - loss: 0.0270 - precision: 0.7730 - recall: 0.5130 - val_accuracy: 0.9328 - val_auc: 0.7562 - val_f1_score: 0.2383 - val_loss: 0.0695 - val_precision: 0.3267 - val_recall: 0.2013 - learning_rate: 3.1250e-06\n"
     ]
    },
    {
     "name": "stderr",
     "output_type": "stream",
     "text": [
      "2025-06-18 15:47:55 - INFO - \n",
      "=== Starting Epoch 58 ===\n",
      "\n"
     ]
    },
    {
     "name": "stdout",
     "output_type": "stream",
     "text": [
      "Epoch 58/100\n",
      "\u001b[1m813/813\u001b[0m \u001b[32m━━━━━━━━━━━━━━━━━━━━\u001b[0m\u001b[37m\u001b[0m \u001b[1m0s\u001b[0m 248ms/step - accuracy: 0.9506 - auc: 0.9487 - f1_score: 0.6005 - loss: 0.0268 - precision: 0.7712 - recall: 0.5183  "
     ]
    },
    {
     "name": "stderr",
     "output_type": "stream",
     "text": [
      "2025-06-18 15:51:27 - INFO - \n",
      "=== Epoch 58 Summary ===\n",
      "2025-06-18 15:51:27 - INFO - Time: 212.24s\n",
      "2025-06-18 15:51:27 - INFO - Training   - accuracy: 0.9507 - auc: 0.9491 - f1_score: 0.6012 - loss: 0.0267 - precision: 0.7722 - recall: 0.5190 - learning_rate: 0.0000\n",
      "2025-06-18 15:51:27 - INFO - Validation - accuracy: 0.9314 - auc: 0.7518 - f1_score: 0.2329 - loss: 0.0735 - precision: 0.3128 - recall: 0.1992\n",
      "2025-06-18 15:51:27 - INFO - ==================================================\n",
      "\n"
     ]
    },
    {
     "name": "stdout",
     "output_type": "stream",
     "text": [
      "\u001b[1m813/813\u001b[0m \u001b[32m━━━━━━━━━━━━━━━━━━━━\u001b[0m\u001b[37m\u001b[0m \u001b[1m212s\u001b[0m 261ms/step - accuracy: 0.9506 - auc: 0.9487 - f1_score: 0.6005 - loss: 0.0268 - precision: 0.7712 - recall: 0.5183 - val_accuracy: 0.9314 - val_auc: 0.7518 - val_f1_score: 0.2329 - val_loss: 0.0735 - val_precision: 0.3128 - val_recall: 0.1992 - learning_rate: 3.1250e-06\n"
     ]
    },
    {
     "name": "stderr",
     "output_type": "stream",
     "text": [
      "2025-06-18 15:51:27 - INFO - \n",
      "=== Starting Epoch 59 ===\n",
      "\n"
     ]
    },
    {
     "name": "stdout",
     "output_type": "stream",
     "text": [
      "Epoch 59/100\n",
      "\u001b[1m813/813\u001b[0m \u001b[32m━━━━━━━━━━━━━━━━━━━━\u001b[0m\u001b[37m\u001b[0m \u001b[1m0s\u001b[0m 245ms/step - accuracy: 0.9506 - auc: 0.9494 - f1_score: 0.6004 - loss: 0.0266 - precision: 0.7738 - recall: 0.5169  "
     ]
    },
    {
     "name": "stderr",
     "output_type": "stream",
     "text": [
      "2025-06-18 15:54:56 - INFO - \n",
      "=== Epoch 59 Summary ===\n",
      "2025-06-18 15:54:56 - INFO - Time: 208.81s\n",
      "2025-06-18 15:54:56 - INFO - Training   - accuracy: 0.9509 - auc: 0.9497 - f1_score: 0.6027 - loss: 0.0266 - precision: 0.7747 - recall: 0.5193 - learning_rate: 0.0000\n",
      "2025-06-18 15:54:56 - INFO - Validation - accuracy: 0.9329 - auc: 0.7513 - f1_score: 0.2304 - loss: 0.0727 - precision: 0.3240 - recall: 0.1940\n",
      "2025-06-18 15:54:56 - INFO - ==================================================\n",
      "\n"
     ]
    },
    {
     "name": "stdout",
     "output_type": "stream",
     "text": [
      "\u001b[1m813/813\u001b[0m \u001b[32m━━━━━━━━━━━━━━━━━━━━\u001b[0m\u001b[37m\u001b[0m \u001b[1m209s\u001b[0m 257ms/step - accuracy: 0.9506 - auc: 0.9494 - f1_score: 0.6004 - loss: 0.0266 - precision: 0.7738 - recall: 0.5169 - val_accuracy: 0.9329 - val_auc: 0.7513 - val_f1_score: 0.2304 - val_loss: 0.0727 - val_precision: 0.3240 - val_recall: 0.1940 - learning_rate: 3.1250e-06\n"
     ]
    },
    {
     "name": "stderr",
     "output_type": "stream",
     "text": [
      "2025-06-18 15:54:56 - INFO - \n",
      "=== Starting Epoch 60 ===\n",
      "\n"
     ]
    },
    {
     "name": "stdout",
     "output_type": "stream",
     "text": [
      "Epoch 60/100\n",
      "\u001b[1m813/813\u001b[0m \u001b[32m━━━━━━━━━━━━━━━━━━━━\u001b[0m\u001b[37m\u001b[0m \u001b[1m0s\u001b[0m 497ms/step - accuracy: 0.9510 - auc: 0.9505 - f1_score: 0.6068 - loss: 0.0266 - precision: 0.7768 - recall: 0.5231  "
     ]
    },
    {
     "name": "stderr",
     "output_type": "stream",
     "text": [
      "2025-06-18 16:01:51 - INFO - \n",
      "=== Epoch 60 Summary ===\n",
      "2025-06-18 16:01:51 - INFO - Time: 414.71s\n",
      "2025-06-18 16:01:51 - INFO - Training   - accuracy: 0.9514 - auc: 0.9509 - f1_score: 0.6089 - loss: 0.0265 - precision: 0.7773 - recall: 0.5258 - learning_rate: 0.0000\n",
      "2025-06-18 16:01:51 - INFO - Validation - accuracy: 0.9323 - auc: 0.7559 - f1_score: 0.2408 - loss: 0.0698 - precision: 0.3239 - recall: 0.2048\n",
      "2025-06-18 16:01:51 - INFO - ==================================================\n",
      "\n"
     ]
    },
    {
     "name": "stdout",
     "output_type": "stream",
     "text": [
      "\u001b[1m813/813\u001b[0m \u001b[32m━━━━━━━━━━━━━━━━━━━━\u001b[0m\u001b[37m\u001b[0m \u001b[1m415s\u001b[0m 511ms/step - accuracy: 0.9510 - auc: 0.9505 - f1_score: 0.6068 - loss: 0.0266 - precision: 0.7768 - recall: 0.5231 - val_accuracy: 0.9323 - val_auc: 0.7559 - val_f1_score: 0.2408 - val_loss: 0.0698 - val_precision: 0.3239 - val_recall: 0.2048 - learning_rate: 3.1250e-06\n"
     ]
    },
    {
     "name": "stderr",
     "output_type": "stream",
     "text": [
      "2025-06-18 16:01:51 - INFO - \n",
      "=== Starting Epoch 61 ===\n",
      "\n"
     ]
    },
    {
     "name": "stdout",
     "output_type": "stream",
     "text": [
      "Epoch 61/100\n",
      "\u001b[1m813/813\u001b[0m \u001b[32m━━━━━━━━━━━━━━━━━━━━\u001b[0m\u001b[37m\u001b[0m \u001b[1m0s\u001b[0m 253ms/step - accuracy: 0.9513 - auc: 0.9514 - f1_score: 0.6109 - loss: 0.0263 - precision: 0.7772 - recall: 0.5280  "
     ]
    },
    {
     "name": "stderr",
     "output_type": "stream",
     "text": [
      "2025-06-18 16:05:25 - INFO - \n",
      "=== Epoch 61 Summary ===\n",
      "2025-06-18 16:05:25 - INFO - Time: 214.64s\n",
      "2025-06-18 16:05:25 - INFO - Training   - accuracy: 0.9516 - auc: 0.9518 - f1_score: 0.6120 - loss: 0.0262 - precision: 0.7778 - recall: 0.5300 - learning_rate: 0.0000\n",
      "2025-06-18 16:05:25 - INFO - Validation - accuracy: 0.9326 - auc: 0.7507 - f1_score: 0.2296 - loss: 0.0734 - precision: 0.3186 - recall: 0.1909\n",
      "2025-06-18 16:05:25 - INFO - ==================================================\n",
      "\n"
     ]
    },
    {
     "name": "stdout",
     "output_type": "stream",
     "text": [
      "\u001b[1m813/813\u001b[0m \u001b[32m━━━━━━━━━━━━━━━━━━━━\u001b[0m\u001b[37m\u001b[0m \u001b[1m215s\u001b[0m 264ms/step - accuracy: 0.9513 - auc: 0.9514 - f1_score: 0.6109 - loss: 0.0263 - precision: 0.7772 - recall: 0.5280 - val_accuracy: 0.9326 - val_auc: 0.7507 - val_f1_score: 0.2296 - val_loss: 0.0734 - val_precision: 0.3186 - val_recall: 0.1909 - learning_rate: 3.1250e-06\n"
     ]
    },
    {
     "name": "stderr",
     "output_type": "stream",
     "text": [
      "2025-06-18 16:05:25 - INFO - \n",
      "=== Starting Epoch 62 ===\n",
      "\n"
     ]
    },
    {
     "name": "stdout",
     "output_type": "stream",
     "text": [
      "Epoch 62/100\n",
      "\u001b[1m813/813\u001b[0m \u001b[32m━━━━━━━━━━━━━━━━━━━━\u001b[0m\u001b[37m\u001b[0m \u001b[1m0s\u001b[0m 252ms/step - accuracy: 0.9519 - auc: 0.9522 - f1_score: 0.6147 - loss: 0.0261 - precision: 0.7794 - recall: 0.5322  "
     ]
    },
    {
     "name": "stderr",
     "output_type": "stream",
     "text": [
      "2025-06-18 16:09:00 - INFO - \n",
      "=== Epoch 62 Summary ===\n",
      "2025-06-18 16:09:00 - INFO - Time: 215.10s\n",
      "2025-06-18 16:09:00 - INFO - Training   - accuracy: 0.9522 - auc: 0.9526 - f1_score: 0.6170 - loss: 0.0260 - precision: 0.7809 - recall: 0.5349 - learning_rate: 0.0000\n",
      "2025-06-18 16:09:00 - INFO - Validation - accuracy: 0.9321 - auc: 0.7521 - f1_score: 0.2222 - loss: 0.0734 - precision: 0.3061 - recall: 0.1781\n",
      "2025-06-18 16:09:00 - INFO - ==================================================\n",
      "\n"
     ]
    },
    {
     "name": "stdout",
     "output_type": "stream",
     "text": [
      "\u001b[1m813/813\u001b[0m \u001b[32m━━━━━━━━━━━━━━━━━━━━\u001b[0m\u001b[37m\u001b[0m \u001b[1m215s\u001b[0m 265ms/step - accuracy: 0.9519 - auc: 0.9522 - f1_score: 0.6147 - loss: 0.0261 - precision: 0.7794 - recall: 0.5322 - val_accuracy: 0.9321 - val_auc: 0.7521 - val_f1_score: 0.2222 - val_loss: 0.0734 - val_precision: 0.3061 - val_recall: 0.1781 - learning_rate: 3.1250e-06\n"
     ]
    },
    {
     "name": "stderr",
     "output_type": "stream",
     "text": [
      "2025-06-18 16:09:00 - INFO - \n",
      "=== Starting Epoch 63 ===\n",
      "\n"
     ]
    },
    {
     "name": "stdout",
     "output_type": "stream",
     "text": [
      "Epoch 63/100\n",
      "\u001b[1m813/813\u001b[0m \u001b[32m━━━━━━━━━━━━━━━━━━━━\u001b[0m\u001b[37m\u001b[0m \u001b[1m0s\u001b[0m 660ms/step - accuracy: 0.9524 - auc: 0.9532 - f1_score: 0.6219 - loss: 0.0260 - precision: 0.7832 - recall: 0.5402  \n",
      "Epoch 63: ReduceLROnPlateau reducing learning rate to 1.56249996052793e-06.\n"
     ]
    },
    {
     "name": "stderr",
     "output_type": "stream",
     "text": [
      "2025-06-18 16:18:06 - INFO - \n",
      "=== Epoch 63 Summary ===\n",
      "2025-06-18 16:18:06 - INFO - Time: 545.19s\n",
      "2025-06-18 16:18:06 - INFO - Training   - accuracy: 0.9524 - auc: 0.9533 - f1_score: 0.6211 - loss: 0.0259 - precision: 0.7815 - recall: 0.5397 - learning_rate: 0.0000\n",
      "2025-06-18 16:18:06 - INFO - Validation - accuracy: 0.9309 - auc: 0.7517 - f1_score: 0.2352 - loss: 0.0748 - precision: 0.3083 - recall: 0.1997\n",
      "2025-06-18 16:18:06 - INFO - ==================================================\n",
      "\n"
     ]
    },
    {
     "name": "stdout",
     "output_type": "stream",
     "text": [
      "\u001b[1m813/813\u001b[0m \u001b[32m━━━━━━━━━━━━━━━━━━━━\u001b[0m\u001b[37m\u001b[0m \u001b[1m545s\u001b[0m 671ms/step - accuracy: 0.9524 - auc: 0.9532 - f1_score: 0.6219 - loss: 0.0260 - precision: 0.7832 - recall: 0.5402 - val_accuracy: 0.9309 - val_auc: 0.7517 - val_f1_score: 0.2352 - val_loss: 0.0748 - val_precision: 0.3083 - val_recall: 0.1997 - learning_rate: 3.1250e-06\n"
     ]
    },
    {
     "name": "stderr",
     "output_type": "stream",
     "text": [
      "2025-06-18 16:18:06 - INFO - \n",
      "=== Starting Epoch 64 ===\n",
      "\n"
     ]
    },
    {
     "name": "stdout",
     "output_type": "stream",
     "text": [
      "Epoch 64/100\n",
      "\u001b[1m813/813\u001b[0m \u001b[32m━━━━━━━━━━━━━━━━━━━━\u001b[0m\u001b[37m\u001b[0m \u001b[1m0s\u001b[0m 605ms/step - accuracy: 0.9526 - auc: 0.9542 - f1_score: 0.6250 - loss: 0.0258 - precision: 0.7861 - recall: 0.5420   "
     ]
    },
    {
     "name": "stderr",
     "output_type": "stream",
     "text": [
      "2025-06-18 16:26:28 - INFO - \n",
      "=== Epoch 64 Summary ===\n",
      "2025-06-18 16:26:28 - INFO - Time: 502.09s\n",
      "2025-06-18 16:26:28 - INFO - Training   - accuracy: 0.9532 - auc: 0.9548 - f1_score: 0.6278 - loss: 0.0256 - precision: 0.7875 - recall: 0.5461 - learning_rate: 0.0000\n",
      "2025-06-18 16:26:28 - INFO - Validation - accuracy: 0.9322 - auc: 0.7511 - f1_score: 0.2384 - loss: 0.0721 - precision: 0.3202 - recall: 0.1998\n",
      "2025-06-18 16:26:28 - INFO - ==================================================\n",
      "\n"
     ]
    },
    {
     "name": "stdout",
     "output_type": "stream",
     "text": [
      "\u001b[1m813/813\u001b[0m \u001b[32m━━━━━━━━━━━━━━━━━━━━\u001b[0m\u001b[37m\u001b[0m \u001b[1m502s\u001b[0m 618ms/step - accuracy: 0.9526 - auc: 0.9542 - f1_score: 0.6250 - loss: 0.0258 - precision: 0.7861 - recall: 0.5420 - val_accuracy: 0.9322 - val_auc: 0.7511 - val_f1_score: 0.2384 - val_loss: 0.0721 - val_precision: 0.3202 - val_recall: 0.1998 - learning_rate: 1.5625e-06\n"
     ]
    },
    {
     "name": "stderr",
     "output_type": "stream",
     "text": [
      "2025-06-18 16:26:28 - INFO - \n",
      "=== Starting Epoch 65 ===\n",
      "\n"
     ]
    },
    {
     "name": "stdout",
     "output_type": "stream",
     "text": [
      "Epoch 65/100\n",
      "\u001b[1m813/813\u001b[0m \u001b[32m━━━━━━━━━━━━━━━━━━━━\u001b[0m\u001b[37m\u001b[0m \u001b[1m0s\u001b[0m 420ms/step - accuracy: 0.9530 - auc: 0.9547 - f1_score: 0.6280 - loss: 0.0256 - precision: 0.7902 - recall: 0.5449  "
     ]
    },
    {
     "name": "stderr",
     "output_type": "stream",
     "text": [
      "2025-06-18 16:32:19 - INFO - \n",
      "=== Epoch 65 Summary ===\n",
      "2025-06-18 16:32:19 - INFO - Time: 351.09s\n",
      "2025-06-18 16:32:19 - INFO - Training   - accuracy: 0.9533 - auc: 0.9553 - f1_score: 0.6292 - loss: 0.0254 - precision: 0.7885 - recall: 0.5475 - learning_rate: 0.0000\n",
      "2025-06-18 16:32:19 - INFO - Validation - accuracy: 0.9328 - auc: 0.7537 - f1_score: 0.2422 - loss: 0.0716 - precision: 0.3287 - recall: 0.2039\n",
      "2025-06-18 16:32:19 - INFO - ==================================================\n",
      "\n"
     ]
    },
    {
     "name": "stdout",
     "output_type": "stream",
     "text": [
      "\u001b[1m813/813\u001b[0m \u001b[32m━━━━━━━━━━━━━━━━━━━━\u001b[0m\u001b[37m\u001b[0m \u001b[1m351s\u001b[0m 432ms/step - accuracy: 0.9530 - auc: 0.9547 - f1_score: 0.6280 - loss: 0.0256 - precision: 0.7902 - recall: 0.5449 - val_accuracy: 0.9328 - val_auc: 0.7537 - val_f1_score: 0.2422 - val_loss: 0.0716 - val_precision: 0.3287 - val_recall: 0.2039 - learning_rate: 1.5625e-06\n"
     ]
    },
    {
     "name": "stderr",
     "output_type": "stream",
     "text": [
      "2025-06-18 16:32:19 - INFO - \n",
      "=== Starting Epoch 66 ===\n",
      "\n"
     ]
    },
    {
     "name": "stdout",
     "output_type": "stream",
     "text": [
      "Epoch 66/100\n",
      "\u001b[1m813/813\u001b[0m \u001b[32m━━━━━━━━━━━━━━━━━━━━\u001b[0m\u001b[37m\u001b[0m \u001b[1m0s\u001b[0m 234ms/step - accuracy: 0.9535 - auc: 0.9552 - f1_score: 0.6303 - loss: 0.0253 - precision: 0.7876 - recall: 0.5491  "
     ]
    },
    {
     "name": "stderr",
     "output_type": "stream",
     "text": [
      "2025-06-18 16:35:41 - INFO - \n",
      "=== Epoch 66 Summary ===\n",
      "2025-06-18 16:35:41 - INFO - Time: 201.83s\n",
      "2025-06-18 16:35:41 - INFO - Training   - accuracy: 0.9536 - auc: 0.9557 - f1_score: 0.6314 - loss: 0.0253 - precision: 0.7888 - recall: 0.5503 - learning_rate: 0.0000\n",
      "2025-06-18 16:35:41 - INFO - Validation - accuracy: 0.9325 - auc: 0.7531 - f1_score: 0.2450 - loss: 0.0729 - precision: 0.3279 - recall: 0.2081\n",
      "2025-06-18 16:35:41 - INFO - ==================================================\n",
      "\n"
     ]
    },
    {
     "name": "stdout",
     "output_type": "stream",
     "text": [
      "\u001b[1m813/813\u001b[0m \u001b[32m━━━━━━━━━━━━━━━━━━━━\u001b[0m\u001b[37m\u001b[0m \u001b[1m202s\u001b[0m 248ms/step - accuracy: 0.9535 - auc: 0.9552 - f1_score: 0.6303 - loss: 0.0253 - precision: 0.7876 - recall: 0.5491 - val_accuracy: 0.9325 - val_auc: 0.7531 - val_f1_score: 0.2450 - val_loss: 0.0729 - val_precision: 0.3279 - val_recall: 0.2081 - learning_rate: 1.5625e-06\n"
     ]
    },
    {
     "name": "stderr",
     "output_type": "stream",
     "text": [
      "2025-06-18 16:35:41 - INFO - \n",
      "=== Starting Epoch 67 ===\n",
      "\n"
     ]
    },
    {
     "name": "stdout",
     "output_type": "stream",
     "text": [
      "Epoch 67/100\n",
      "\u001b[1m813/813\u001b[0m \u001b[32m━━━━━━━━━━━━━━━━━━━━\u001b[0m\u001b[37m\u001b[0m \u001b[1m0s\u001b[0m 358ms/step - accuracy: 0.9538 - auc: 0.9561 - f1_score: 0.6344 - loss: 0.0253 - precision: 0.7916 - recall: 0.5525  "
     ]
    },
    {
     "name": "stderr",
     "output_type": "stream",
     "text": [
      "2025-06-18 16:40:41 - INFO - \n",
      "=== Epoch 67 Summary ===\n",
      "2025-06-18 16:40:41 - INFO - Time: 300.44s\n",
      "2025-06-18 16:40:41 - INFO - Training   - accuracy: 0.9537 - auc: 0.9559 - f1_score: 0.6338 - loss: 0.0252 - precision: 0.7904 - recall: 0.5527 - learning_rate: 0.0000\n",
      "2025-06-18 16:40:41 - INFO - Validation - accuracy: 0.9323 - auc: 0.7517 - f1_score: 0.2368 - loss: 0.0746 - precision: 0.3194 - recall: 0.1967\n",
      "2025-06-18 16:40:41 - INFO - ==================================================\n",
      "\n"
     ]
    },
    {
     "name": "stdout",
     "output_type": "stream",
     "text": [
      "\u001b[1m813/813\u001b[0m \u001b[32m━━━━━━━━━━━━━━━━━━━━\u001b[0m\u001b[37m\u001b[0m \u001b[1m300s\u001b[0m 370ms/step - accuracy: 0.9538 - auc: 0.9561 - f1_score: 0.6344 - loss: 0.0253 - precision: 0.7916 - recall: 0.5525 - val_accuracy: 0.9323 - val_auc: 0.7517 - val_f1_score: 0.2368 - val_loss: 0.0746 - val_precision: 0.3194 - val_recall: 0.1967 - learning_rate: 1.5625e-06\n"
     ]
    },
    {
     "name": "stderr",
     "output_type": "stream",
     "text": [
      "2025-06-18 16:40:41 - INFO - \n",
      "=== Starting Epoch 68 ===\n",
      "\n"
     ]
    },
    {
     "name": "stdout",
     "output_type": "stream",
     "text": [
      "Epoch 68/100\n",
      "\u001b[1m813/813\u001b[0m \u001b[32m━━━━━━━━━━━━━━━━━━━━\u001b[0m\u001b[37m\u001b[0m \u001b[1m0s\u001b[0m 476ms/step - accuracy: 0.9542 - auc: 0.9563 - f1_score: 0.6360 - loss: 0.0251 - precision: 0.7921 - recall: 0.5552  "
     ]
    },
    {
     "name": "stderr",
     "output_type": "stream",
     "text": [
      "2025-06-18 16:47:20 - INFO - \n",
      "=== Epoch 68 Summary ===\n",
      "2025-06-18 16:47:20 - INFO - Time: 398.84s\n",
      "2025-06-18 16:47:20 - INFO - Training   - accuracy: 0.9540 - auc: 0.9564 - f1_score: 0.6354 - loss: 0.0251 - precision: 0.7919 - recall: 0.5543 - learning_rate: 0.0000\n",
      "2025-06-18 16:47:20 - INFO - Validation - accuracy: 0.9321 - auc: 0.7507 - f1_score: 0.2468 - loss: 0.0737 - precision: 0.3260 - recall: 0.2111\n",
      "2025-06-18 16:47:20 - INFO - ==================================================\n",
      "\n"
     ]
    },
    {
     "name": "stdout",
     "output_type": "stream",
     "text": [
      "\u001b[1m813/813\u001b[0m \u001b[32m━━━━━━━━━━━━━━━━━━━━\u001b[0m\u001b[37m\u001b[0m \u001b[1m399s\u001b[0m 491ms/step - accuracy: 0.9542 - auc: 0.9563 - f1_score: 0.6360 - loss: 0.0251 - precision: 0.7921 - recall: 0.5552 - val_accuracy: 0.9321 - val_auc: 0.7507 - val_f1_score: 0.2468 - val_loss: 0.0737 - val_precision: 0.3260 - val_recall: 0.2111 - learning_rate: 1.5625e-06\n"
     ]
    },
    {
     "name": "stderr",
     "output_type": "stream",
     "text": [
      "2025-06-18 16:47:20 - INFO - \n",
      "=== Starting Epoch 69 ===\n",
      "\n"
     ]
    },
    {
     "name": "stdout",
     "output_type": "stream",
     "text": [
      "Epoch 69/100\n",
      "\u001b[1m813/813\u001b[0m \u001b[32m━━━━━━━━━━━━━━━━━━━━\u001b[0m\u001b[37m\u001b[0m \u001b[1m0s\u001b[0m 315ms/step - accuracy: 0.9542 - auc: 0.9572 - f1_score: 0.6395 - loss: 0.0251 - precision: 0.7920 - recall: 0.5589  "
     ]
    },
    {
     "name": "stderr",
     "output_type": "stream",
     "text": [
      "2025-06-18 16:51:46 - INFO - \n",
      "=== Epoch 69 Summary ===\n",
      "2025-06-18 16:51:46 - INFO - Time: 266.20s\n",
      "2025-06-18 16:51:46 - INFO - Training   - accuracy: 0.9544 - auc: 0.9573 - f1_score: 0.6406 - loss: 0.0249 - precision: 0.7924 - recall: 0.5605 - learning_rate: 0.0000\n",
      "2025-06-18 16:51:46 - INFO - Validation - accuracy: 0.9319 - auc: 0.7542 - f1_score: 0.2480 - loss: 0.0735 - precision: 0.3244 - recall: 0.2113\n",
      "2025-06-18 16:51:46 - INFO - ==================================================\n",
      "\n"
     ]
    },
    {
     "name": "stdout",
     "output_type": "stream",
     "text": [
      "\u001b[1m813/813\u001b[0m \u001b[32m━━━━━━━━━━━━━━━━━━━━\u001b[0m\u001b[37m\u001b[0m \u001b[1m266s\u001b[0m 328ms/step - accuracy: 0.9542 - auc: 0.9572 - f1_score: 0.6395 - loss: 0.0251 - precision: 0.7920 - recall: 0.5589 - val_accuracy: 0.9319 - val_auc: 0.7542 - val_f1_score: 0.2480 - val_loss: 0.0735 - val_precision: 0.3244 - val_recall: 0.2113 - learning_rate: 1.5625e-06\n"
     ]
    },
    {
     "name": "stderr",
     "output_type": "stream",
     "text": [
      "2025-06-18 16:51:46 - INFO - \n",
      "=== Starting Epoch 70 ===\n",
      "\n"
     ]
    },
    {
     "name": "stdout",
     "output_type": "stream",
     "text": [
      "Epoch 70/100\n",
      "\u001b[1m813/813\u001b[0m \u001b[32m━━━━━━━━━━━━━━━━━━━━\u001b[0m\u001b[37m\u001b[0m \u001b[1m0s\u001b[0m 500ms/step - accuracy: 0.9543 - auc: 0.9576 - f1_score: 0.6412 - loss: 0.0249 - precision: 0.7943 - recall: 0.5602  "
     ]
    },
    {
     "name": "stderr",
     "output_type": "stream",
     "text": [
      "2025-06-18 16:58:43 - INFO - \n",
      "=== Epoch 70 Summary ===\n",
      "2025-06-18 16:58:43 - INFO - Time: 416.86s\n",
      "2025-06-18 16:58:43 - INFO - Training   - accuracy: 0.9545 - auc: 0.9579 - f1_score: 0.6416 - loss: 0.0248 - precision: 0.7945 - recall: 0.5611 - learning_rate: 0.0000\n",
      "2025-06-18 16:58:43 - INFO - Validation - accuracy: 0.9331 - auc: 0.7531 - f1_score: 0.2386 - loss: 0.0742 - precision: 0.3286 - recall: 0.1995\n",
      "2025-06-18 16:58:43 - INFO - ==================================================\n",
      "\n"
     ]
    },
    {
     "name": "stdout",
     "output_type": "stream",
     "text": [
      "\u001b[1m813/813\u001b[0m \u001b[32m━━━━━━━━━━━━━━━━━━━━\u001b[0m\u001b[37m\u001b[0m \u001b[1m417s\u001b[0m 513ms/step - accuracy: 0.9543 - auc: 0.9576 - f1_score: 0.6412 - loss: 0.0249 - precision: 0.7943 - recall: 0.5602 - val_accuracy: 0.9331 - val_auc: 0.7531 - val_f1_score: 0.2386 - val_loss: 0.0742 - val_precision: 0.3286 - val_recall: 0.1995 - learning_rate: 1.5625e-06\n"
     ]
    },
    {
     "name": "stderr",
     "output_type": "stream",
     "text": [
      "2025-06-18 16:58:43 - INFO - \n",
      "=== Starting Epoch 71 ===\n",
      "\n"
     ]
    },
    {
     "name": "stdout",
     "output_type": "stream",
     "text": [
      "Epoch 71/100\n",
      "\u001b[1m813/813\u001b[0m \u001b[32m━━━━━━━━━━━━━━━━━━━━\u001b[0m\u001b[37m\u001b[0m \u001b[1m0s\u001b[0m 489ms/step - accuracy: 0.9546 - auc: 0.9577 - f1_score: 0.6432 - loss: 0.0248 - precision: 0.7932 - recall: 0.5637  "
     ]
    },
    {
     "name": "stderr",
     "output_type": "stream",
     "text": [
      "2025-06-18 17:05:30 - INFO - \n",
      "=== Epoch 71 Summary ===\n",
      "2025-06-18 17:05:30 - INFO - Time: 406.53s\n",
      "2025-06-18 17:05:30 - INFO - Training   - accuracy: 0.9545 - auc: 0.9578 - f1_score: 0.6420 - loss: 0.0248 - precision: 0.7923 - recall: 0.5626 - learning_rate: 0.0000\n",
      "2025-06-18 17:05:30 - INFO - Validation - accuracy: 0.9321 - auc: 0.7517 - f1_score: 0.2413 - loss: 0.0745 - precision: 0.3203 - recall: 0.2011\n",
      "2025-06-18 17:05:30 - INFO - ==================================================\n",
      "\n"
     ]
    },
    {
     "name": "stdout",
     "output_type": "stream",
     "text": [
      "\u001b[1m813/813\u001b[0m \u001b[32m━━━━━━━━━━━━━━━━━━━━\u001b[0m\u001b[37m\u001b[0m \u001b[1m407s\u001b[0m 500ms/step - accuracy: 0.9546 - auc: 0.9577 - f1_score: 0.6432 - loss: 0.0248 - precision: 0.7932 - recall: 0.5637 - val_accuracy: 0.9321 - val_auc: 0.7517 - val_f1_score: 0.2413 - val_loss: 0.0745 - val_precision: 0.3203 - val_recall: 0.2011 - learning_rate: 1.5625e-06\n"
     ]
    },
    {
     "name": "stderr",
     "output_type": "stream",
     "text": [
      "2025-06-18 17:05:30 - INFO - \n",
      "=== Starting Epoch 72 ===\n",
      "\n"
     ]
    },
    {
     "name": "stdout",
     "output_type": "stream",
     "text": [
      "Epoch 72/100\n",
      "\u001b[1m813/813\u001b[0m \u001b[32m━━━━━━━━━━━━━━━━━━━━\u001b[0m\u001b[37m\u001b[0m \u001b[1m0s\u001b[0m 235ms/step - accuracy: 0.9552 - auc: 0.9581 - f1_score: 0.6473 - loss: 0.0248 - precision: 0.7982 - recall: 0.5659  \n",
      "Epoch 72: ReduceLROnPlateau reducing learning rate to 1e-06.\n"
     ]
    },
    {
     "name": "stderr",
     "output_type": "stream",
     "text": [
      "2025-06-18 17:08:52 - INFO - \n",
      "=== Epoch 72 Summary ===\n",
      "2025-06-18 17:08:52 - INFO - Time: 201.91s\n",
      "2025-06-18 17:08:52 - INFO - Training   - accuracy: 0.9551 - auc: 0.9583 - f1_score: 0.6474 - loss: 0.0247 - precision: 0.7978 - recall: 0.5664 - learning_rate: 0.0000\n",
      "2025-06-18 17:08:52 - INFO - Validation - accuracy: 0.9327 - auc: 0.7519 - f1_score: 0.2451 - loss: 0.0749 - precision: 0.3302 - recall: 0.2097\n",
      "2025-06-18 17:08:52 - INFO - ==================================================\n",
      "\n"
     ]
    },
    {
     "name": "stdout",
     "output_type": "stream",
     "text": [
      "\u001b[1m813/813\u001b[0m \u001b[32m━━━━━━━━━━━━━━━━━━━━\u001b[0m\u001b[37m\u001b[0m \u001b[1m202s\u001b[0m 248ms/step - accuracy: 0.9552 - auc: 0.9581 - f1_score: 0.6473 - loss: 0.0248 - precision: 0.7982 - recall: 0.5659 - val_accuracy: 0.9327 - val_auc: 0.7519 - val_f1_score: 0.2451 - val_loss: 0.0749 - val_precision: 0.3302 - val_recall: 0.2097 - learning_rate: 1.5625e-06\n"
     ]
    },
    {
     "name": "stderr",
     "output_type": "stream",
     "text": [
      "2025-06-18 17:08:52 - INFO - \n",
      "=== Starting Epoch 73 ===\n",
      "\n"
     ]
    },
    {
     "name": "stdout",
     "output_type": "stream",
     "text": [
      "Epoch 73/100\n",
      "\u001b[1m813/813\u001b[0m \u001b[32m━━━━━━━━━━━━━━━━━━━━\u001b[0m\u001b[37m\u001b[0m \u001b[1m0s\u001b[0m 611ms/step - accuracy: 0.9551 - auc: 0.9590 - f1_score: 0.6479 - loss: 0.0246 - precision: 0.7945 - recall: 0.5699  "
     ]
    },
    {
     "name": "stderr",
     "output_type": "stream",
     "text": [
      "2025-06-18 17:17:17 - INFO - \n",
      "=== Epoch 73 Summary ===\n",
      "2025-06-18 17:17:17 - INFO - Time: 505.44s\n",
      "2025-06-18 17:17:17 - INFO - Training   - accuracy: 0.9552 - auc: 0.9590 - f1_score: 0.6483 - loss: 0.0245 - precision: 0.7966 - recall: 0.5687 - learning_rate: 0.0000\n",
      "2025-06-18 17:17:17 - INFO - Validation - accuracy: 0.9326 - auc: 0.7501 - f1_score: 0.2386 - loss: 0.0747 - precision: 0.3254 - recall: 0.2028\n",
      "2025-06-18 17:17:17 - INFO - ==================================================\n",
      "\n"
     ]
    },
    {
     "name": "stdout",
     "output_type": "stream",
     "text": [
      "\u001b[1m813/813\u001b[0m \u001b[32m━━━━━━━━━━━━━━━━━━━━\u001b[0m\u001b[37m\u001b[0m \u001b[1m505s\u001b[0m 622ms/step - accuracy: 0.9551 - auc: 0.9590 - f1_score: 0.6479 - loss: 0.0246 - precision: 0.7945 - recall: 0.5699 - val_accuracy: 0.9326 - val_auc: 0.7501 - val_f1_score: 0.2386 - val_loss: 0.0747 - val_precision: 0.3254 - val_recall: 0.2028 - learning_rate: 1.0000e-06\n"
     ]
    },
    {
     "name": "stderr",
     "output_type": "stream",
     "text": [
      "2025-06-18 17:17:17 - INFO - \n",
      "=== Starting Epoch 74 ===\n",
      "\n"
     ]
    },
    {
     "name": "stdout",
     "output_type": "stream",
     "text": [
      "Epoch 74/100\n",
      "\u001b[1m813/813\u001b[0m \u001b[32m━━━━━━━━━━━━━━━━━━━━\u001b[0m\u001b[37m\u001b[0m \u001b[1m0s\u001b[0m 253ms/step - accuracy: 0.9553 - auc: 0.9595 - f1_score: 0.6522 - loss: 0.0246 - precision: 0.7994 - recall: 0.5725  "
     ]
    },
    {
     "name": "stderr",
     "output_type": "stream",
     "text": [
      "2025-06-18 17:20:53 - INFO - \n",
      "=== Epoch 74 Summary ===\n",
      "2025-06-18 17:20:53 - INFO - Time: 215.86s\n",
      "2025-06-18 17:20:53 - INFO - Training   - accuracy: 0.9554 - auc: 0.9597 - f1_score: 0.6517 - loss: 0.0245 - precision: 0.7977 - recall: 0.5727 - learning_rate: 0.0000\n",
      "2025-06-18 17:20:53 - INFO - Validation - accuracy: 0.9319 - auc: 0.7500 - f1_score: 0.2424 - loss: 0.0770 - precision: 0.3194 - recall: 0.2028\n",
      "2025-06-18 17:20:53 - INFO - ==================================================\n",
      "\n"
     ]
    },
    {
     "name": "stdout",
     "output_type": "stream",
     "text": [
      "\u001b[1m813/813\u001b[0m \u001b[32m━━━━━━━━━━━━━━━━━━━━\u001b[0m\u001b[37m\u001b[0m \u001b[1m216s\u001b[0m 266ms/step - accuracy: 0.9553 - auc: 0.9595 - f1_score: 0.6522 - loss: 0.0246 - precision: 0.7994 - recall: 0.5725 - val_accuracy: 0.9319 - val_auc: 0.7500 - val_f1_score: 0.2424 - val_loss: 0.0770 - val_precision: 0.3194 - val_recall: 0.2028 - learning_rate: 1.0000e-06\n"
     ]
    },
    {
     "name": "stderr",
     "output_type": "stream",
     "text": [
      "2025-06-18 17:20:53 - INFO - \n",
      "=== Starting Epoch 75 ===\n",
      "\n"
     ]
    },
    {
     "name": "stdout",
     "output_type": "stream",
     "text": [
      "Epoch 75/100\n",
      "\u001b[1m813/813\u001b[0m \u001b[32m━━━━━━━━━━━━━━━━━━━━\u001b[0m\u001b[37m\u001b[0m \u001b[1m0s\u001b[0m 547ms/step - accuracy: 0.9555 - auc: 0.9592 - f1_score: 0.6507 - loss: 0.0245 - precision: 0.8004 - recall: 0.5708  "
     ]
    },
    {
     "name": "stderr",
     "output_type": "stream",
     "text": [
      "2025-06-18 17:28:27 - INFO - \n",
      "=== Epoch 75 Summary ===\n",
      "2025-06-18 17:28:27 - INFO - Time: 454.19s\n",
      "2025-06-18 17:28:27 - INFO - Training   - accuracy: 0.9556 - auc: 0.9595 - f1_score: 0.6517 - loss: 0.0244 - precision: 0.7996 - recall: 0.5721 - learning_rate: 0.0000\n",
      "2025-06-18 17:28:27 - INFO - Validation - accuracy: 0.9322 - auc: 0.7503 - f1_score: 0.2500 - loss: 0.0755 - precision: 0.3291 - recall: 0.2154\n",
      "2025-06-18 17:28:27 - INFO - ==================================================\n",
      "\n"
     ]
    },
    {
     "name": "stdout",
     "output_type": "stream",
     "text": [
      "\u001b[1m813/813\u001b[0m \u001b[32m━━━━━━━━━━━━━━━━━━━━\u001b[0m\u001b[37m\u001b[0m \u001b[1m454s\u001b[0m 559ms/step - accuracy: 0.9555 - auc: 0.9592 - f1_score: 0.6507 - loss: 0.0245 - precision: 0.8004 - recall: 0.5708 - val_accuracy: 0.9322 - val_auc: 0.7503 - val_f1_score: 0.2500 - val_loss: 0.0755 - val_precision: 0.3291 - val_recall: 0.2154 - learning_rate: 1.0000e-06\n"
     ]
    },
    {
     "name": "stderr",
     "output_type": "stream",
     "text": [
      "2025-06-18 17:28:27 - INFO - \n",
      "=== Starting Epoch 76 ===\n",
      "\n"
     ]
    },
    {
     "name": "stdout",
     "output_type": "stream",
     "text": [
      "Epoch 76/100\n",
      "\u001b[1m813/813\u001b[0m \u001b[32m━━━━━━━━━━━━━━━━━━━━\u001b[0m\u001b[37m\u001b[0m \u001b[1m0s\u001b[0m 465ms/step - accuracy: 0.9555 - auc: 0.9591 - f1_score: 0.6532 - loss: 0.0246 - precision: 0.8010 - recall: 0.5724  "
     ]
    },
    {
     "name": "stderr",
     "output_type": "stream",
     "text": [
      "2025-06-18 17:34:56 - INFO - \n",
      "=== Epoch 76 Summary ===\n",
      "2025-06-18 17:34:56 - INFO - Time: 388.99s\n",
      "2025-06-18 17:34:56 - INFO - Training   - accuracy: 0.9557 - auc: 0.9598 - f1_score: 0.6540 - loss: 0.0244 - precision: 0.7999 - recall: 0.5743 - learning_rate: 0.0000\n",
      "2025-06-18 17:34:56 - INFO - Validation - accuracy: 0.9315 - auc: 0.7507 - f1_score: 0.2525 - loss: 0.0752 - precision: 0.3224 - recall: 0.2155\n",
      "2025-06-18 17:34:56 - INFO - ==================================================\n",
      "\n"
     ]
    },
    {
     "name": "stdout",
     "output_type": "stream",
     "text": [
      "\u001b[1m813/813\u001b[0m \u001b[32m━━━━━━━━━━━━━━━━━━━━\u001b[0m\u001b[37m\u001b[0m \u001b[1m389s\u001b[0m 479ms/step - accuracy: 0.9555 - auc: 0.9591 - f1_score: 0.6532 - loss: 0.0246 - precision: 0.8010 - recall: 0.5724 - val_accuracy: 0.9315 - val_auc: 0.7507 - val_f1_score: 0.2525 - val_loss: 0.0752 - val_precision: 0.3224 - val_recall: 0.2155 - learning_rate: 1.0000e-06\n"
     ]
    },
    {
     "name": "stderr",
     "output_type": "stream",
     "text": [
      "2025-06-18 17:34:56 - INFO - \n",
      "=== Starting Epoch 77 ===\n",
      "\n"
     ]
    },
    {
     "name": "stdout",
     "output_type": "stream",
     "text": [
      "Epoch 77/100\n",
      "\u001b[1m813/813\u001b[0m \u001b[32m━━━━━━━━━━━━━━━━━━━━\u001b[0m\u001b[37m\u001b[0m \u001b[1m0s\u001b[0m 645ms/step - accuracy: 0.9555 - auc: 0.9599 - f1_score: 0.6530 - loss: 0.0244 - precision: 0.8010 - recall: 0.5727  "
     ]
    },
    {
     "name": "stderr",
     "output_type": "stream",
     "text": [
      "2025-06-18 17:43:49 - INFO - \n",
      "=== Epoch 77 Summary ===\n",
      "2025-06-18 17:43:49 - INFO - Time: 533.19s\n",
      "2025-06-18 17:43:49 - INFO - Training   - accuracy: 0.9558 - auc: 0.9602 - f1_score: 0.6550 - loss: 0.0243 - precision: 0.8012 - recall: 0.5752 - learning_rate: 0.0000\n",
      "2025-06-18 17:43:49 - INFO - Validation - accuracy: 0.9320 - auc: 0.7483 - f1_score: 0.2522 - loss: 0.0763 - precision: 0.3271 - recall: 0.2146\n",
      "2025-06-18 17:43:49 - INFO - ==================================================\n",
      "\n"
     ]
    },
    {
     "name": "stdout",
     "output_type": "stream",
     "text": [
      "\u001b[1m813/813\u001b[0m \u001b[32m━━━━━━━━━━━━━━━━━━━━\u001b[0m\u001b[37m\u001b[0m \u001b[1m533s\u001b[0m 656ms/step - accuracy: 0.9555 - auc: 0.9599 - f1_score: 0.6530 - loss: 0.0244 - precision: 0.8010 - recall: 0.5727 - val_accuracy: 0.9320 - val_auc: 0.7483 - val_f1_score: 0.2522 - val_loss: 0.0763 - val_precision: 0.3271 - val_recall: 0.2146 - learning_rate: 1.0000e-06\n"
     ]
    },
    {
     "name": "stderr",
     "output_type": "stream",
     "text": [
      "2025-06-18 17:43:49 - INFO - \n",
      "=== Starting Epoch 78 ===\n",
      "\n"
     ]
    },
    {
     "name": "stdout",
     "output_type": "stream",
     "text": [
      "Epoch 78/100\n",
      "\u001b[1m813/813\u001b[0m \u001b[32m━━━━━━━━━━━━━━━━━━━━\u001b[0m\u001b[37m\u001b[0m \u001b[1m0s\u001b[0m 570ms/step - accuracy: 0.9554 - auc: 0.9598 - f1_score: 0.6529 - loss: 0.0245 - precision: 0.8005 - recall: 0.5729  "
     ]
    },
    {
     "name": "stderr",
     "output_type": "stream",
     "text": [
      "2025-06-18 17:51:43 - INFO - \n",
      "=== Epoch 78 Summary ===\n",
      "2025-06-18 17:51:43 - INFO - Time: 473.30s\n",
      "2025-06-18 17:51:43 - INFO - Training   - accuracy: 0.9556 - auc: 0.9601 - f1_score: 0.6539 - loss: 0.0244 - precision: 0.7996 - recall: 0.5748 - learning_rate: 0.0000\n",
      "2025-06-18 17:51:43 - INFO - Validation - accuracy: 0.9317 - auc: 0.7502 - f1_score: 0.2463 - loss: 0.0763 - precision: 0.3194 - recall: 0.2060\n",
      "2025-06-18 17:51:43 - INFO - ==================================================\n",
      "\n"
     ]
    },
    {
     "name": "stdout",
     "output_type": "stream",
     "text": [
      "\u001b[1m813/813\u001b[0m \u001b[32m━━━━━━━━━━━━━━━━━━━━\u001b[0m\u001b[37m\u001b[0m \u001b[1m473s\u001b[0m 583ms/step - accuracy: 0.9554 - auc: 0.9598 - f1_score: 0.6529 - loss: 0.0245 - precision: 0.8005 - recall: 0.5729 - val_accuracy: 0.9317 - val_auc: 0.7502 - val_f1_score: 0.2463 - val_loss: 0.0763 - val_precision: 0.3194 - val_recall: 0.2060 - learning_rate: 1.0000e-06\n"
     ]
    },
    {
     "name": "stderr",
     "output_type": "stream",
     "text": [
      "2025-06-18 17:51:43 - INFO - \n",
      "=== Starting Epoch 79 ===\n",
      "\n"
     ]
    },
    {
     "name": "stdout",
     "output_type": "stream",
     "text": [
      "Epoch 79/100\n",
      "\u001b[1m813/813\u001b[0m \u001b[32m━━━━━━━━━━━━━━━━━━━━\u001b[0m\u001b[37m\u001b[0m \u001b[1m0s\u001b[0m 591ms/step - accuracy: 0.9558 - auc: 0.9604 - f1_score: 0.6550 - loss: 0.0242 - precision: 0.8008 - recall: 0.5752  "
     ]
    },
    {
     "name": "stderr",
     "output_type": "stream",
     "text": [
      "2025-06-18 17:59:52 - INFO - \n",
      "=== Epoch 79 Summary ===\n",
      "2025-06-18 17:59:52 - INFO - Time: 489.61s\n",
      "2025-06-18 17:59:52 - INFO - Training   - accuracy: 0.9561 - auc: 0.9605 - f1_score: 0.6568 - loss: 0.0242 - precision: 0.8019 - recall: 0.5772 - learning_rate: 0.0000\n",
      "2025-06-18 17:59:52 - INFO - Validation - accuracy: 0.9317 - auc: 0.7485 - f1_score: 0.2473 - loss: 0.0748 - precision: 0.3238 - recall: 0.2140\n",
      "2025-06-18 17:59:52 - INFO - ==================================================\n",
      "\n"
     ]
    },
    {
     "name": "stdout",
     "output_type": "stream",
     "text": [
      "\u001b[1m813/813\u001b[0m \u001b[32m━━━━━━━━━━━━━━━━━━━━\u001b[0m\u001b[37m\u001b[0m \u001b[1m490s\u001b[0m 603ms/step - accuracy: 0.9558 - auc: 0.9604 - f1_score: 0.6550 - loss: 0.0242 - precision: 0.8008 - recall: 0.5752 - val_accuracy: 0.9317 - val_auc: 0.7485 - val_f1_score: 0.2473 - val_loss: 0.0748 - val_precision: 0.3238 - val_recall: 0.2140 - learning_rate: 1.0000e-06\n"
     ]
    },
    {
     "name": "stderr",
     "output_type": "stream",
     "text": [
      "2025-06-18 17:59:52 - INFO - \n",
      "=== Starting Epoch 80 ===\n",
      "\n"
     ]
    },
    {
     "name": "stdout",
     "output_type": "stream",
     "text": [
      "Epoch 80/100\n",
      "\u001b[1m813/813\u001b[0m \u001b[32m━━━━━━━━━━━━━━━━━━━━\u001b[0m\u001b[37m\u001b[0m \u001b[1m0s\u001b[0m 641ms/step - accuracy: 0.9562 - auc: 0.9608 - f1_score: 0.6603 - loss: 0.0242 - precision: 0.8055 - recall: 0.5802  "
     ]
    },
    {
     "name": "stderr",
     "output_type": "stream",
     "text": [
      "2025-06-18 18:08:43 - INFO - \n",
      "=== Epoch 80 Summary ===\n",
      "2025-06-18 18:08:43 - INFO - Time: 530.68s\n",
      "2025-06-18 18:08:43 - INFO - Training   - accuracy: 0.9563 - auc: 0.9611 - f1_score: 0.6604 - loss: 0.0241 - precision: 0.8034 - recall: 0.5819 - learning_rate: 0.0000\n",
      "2025-06-18 18:08:43 - INFO - Validation - accuracy: 0.9326 - auc: 0.7481 - f1_score: 0.2415 - loss: 0.0757 - precision: 0.3251 - recall: 0.2024\n",
      "2025-06-18 18:08:43 - INFO - ==================================================\n",
      "\n"
     ]
    },
    {
     "name": "stdout",
     "output_type": "stream",
     "text": [
      "\u001b[1m813/813\u001b[0m \u001b[32m━━━━━━━━━━━━━━━━━━━━\u001b[0m\u001b[37m\u001b[0m \u001b[1m531s\u001b[0m 653ms/step - accuracy: 0.9562 - auc: 0.9608 - f1_score: 0.6603 - loss: 0.0242 - precision: 0.8055 - recall: 0.5802 - val_accuracy: 0.9326 - val_auc: 0.7481 - val_f1_score: 0.2415 - val_loss: 0.0757 - val_precision: 0.3251 - val_recall: 0.2024 - learning_rate: 1.0000e-06\n"
     ]
    },
    {
     "name": "stderr",
     "output_type": "stream",
     "text": [
      "2025-06-18 18:08:43 - INFO - \n",
      "=== Starting Epoch 81 ===\n",
      "\n"
     ]
    },
    {
     "name": "stdout",
     "output_type": "stream",
     "text": [
      "Epoch 81/100\n",
      "\u001b[1m813/813\u001b[0m \u001b[32m━━━━━━━━━━━━━━━━━━━━\u001b[0m\u001b[37m\u001b[0m \u001b[1m0s\u001b[0m 593ms/step - accuracy: 0.9560 - auc: 0.9608 - f1_score: 0.6571 - loss: 0.0243 - precision: 0.8026 - recall: 0.5777  "
     ]
    },
    {
     "name": "stderr",
     "output_type": "stream",
     "text": [
      "2025-06-18 18:16:54 - INFO - \n",
      "=== Epoch 81 Summary ===\n",
      "2025-06-18 18:16:54 - INFO - Time: 491.29s\n",
      "2025-06-18 18:16:54 - INFO - Training   - accuracy: 0.9563 - auc: 0.9611 - f1_score: 0.6597 - loss: 0.0242 - precision: 0.8031 - recall: 0.5810 - learning_rate: 0.0000\n",
      "2025-06-18 18:16:54 - INFO - Validation - accuracy: 0.9317 - auc: 0.7493 - f1_score: 0.2448 - loss: 0.0767 - precision: 0.3209 - recall: 0.2088\n",
      "2025-06-18 18:16:54 - INFO - ==================================================\n",
      "\n"
     ]
    },
    {
     "name": "stdout",
     "output_type": "stream",
     "text": [
      "\u001b[1m813/813\u001b[0m \u001b[32m━━━━━━━━━━━━━━━━━━━━\u001b[0m\u001b[37m\u001b[0m \u001b[1m491s\u001b[0m 605ms/step - accuracy: 0.9560 - auc: 0.9608 - f1_score: 0.6571 - loss: 0.0243 - precision: 0.8026 - recall: 0.5777 - val_accuracy: 0.9317 - val_auc: 0.7493 - val_f1_score: 0.2448 - val_loss: 0.0767 - val_precision: 0.3209 - val_recall: 0.2088 - learning_rate: 1.0000e-06\n"
     ]
    },
    {
     "name": "stderr",
     "output_type": "stream",
     "text": [
      "2025-06-18 18:16:54 - INFO - \n",
      "=== Starting Epoch 82 ===\n",
      "\n"
     ]
    },
    {
     "name": "stdout",
     "output_type": "stream",
     "text": [
      "Epoch 82/100\n",
      "\u001b[1m813/813\u001b[0m \u001b[32m━━━━━━━━━━━━━━━━━━━━\u001b[0m\u001b[37m\u001b[0m \u001b[1m0s\u001b[0m 662ms/step - accuracy: 0.9562 - auc: 0.9615 - f1_score: 0.6595 - loss: 0.0241 - precision: 0.8024 - recall: 0.5809  "
     ]
    },
    {
     "name": "stderr",
     "output_type": "stream",
     "text": [
      "2025-06-18 18:26:03 - INFO - \n",
      "=== Epoch 82 Summary ===\n",
      "2025-06-18 18:26:03 - INFO - Time: 548.80s\n",
      "2025-06-18 18:26:03 - INFO - Training   - accuracy: 0.9564 - auc: 0.9616 - f1_score: 0.6606 - loss: 0.0241 - precision: 0.8038 - recall: 0.5817 - learning_rate: 0.0000\n",
      "2025-06-18 18:26:03 - INFO - Validation - accuracy: 0.9317 - auc: 0.7522 - f1_score: 0.2529 - loss: 0.0750 - precision: 0.3273 - recall: 0.2213\n",
      "2025-06-18 18:26:03 - INFO - ==================================================\n",
      "\n"
     ]
    },
    {
     "name": "stdout",
     "output_type": "stream",
     "text": [
      "\u001b[1m813/813\u001b[0m \u001b[32m━━━━━━━━━━━━━━━━━━━━\u001b[0m\u001b[37m\u001b[0m \u001b[1m549s\u001b[0m 676ms/step - accuracy: 0.9562 - auc: 0.9615 - f1_score: 0.6595 - loss: 0.0241 - precision: 0.8024 - recall: 0.5809 - val_accuracy: 0.9317 - val_auc: 0.7522 - val_f1_score: 0.2529 - val_loss: 0.0750 - val_precision: 0.3273 - val_recall: 0.2213 - learning_rate: 1.0000e-06\n"
     ]
    },
    {
     "name": "stderr",
     "output_type": "stream",
     "text": [
      "2025-06-18 18:26:03 - INFO - \n",
      "=== Starting Epoch 83 ===\n",
      "\n"
     ]
    },
    {
     "name": "stdout",
     "output_type": "stream",
     "text": [
      "Epoch 83/100\n",
      "\u001b[1m813/813\u001b[0m \u001b[32m━━━━━━━━━━━━━━━━━━━━\u001b[0m\u001b[37m\u001b[0m \u001b[1m0s\u001b[0m 744ms/step - accuracy: 0.9566 - auc: 0.9616 - f1_score: 0.6640 - loss: 0.0240 - precision: 0.8046 - recall: 0.5857   "
     ]
    },
    {
     "name": "stderr",
     "output_type": "stream",
     "text": [
      "2025-06-18 18:36:16 - INFO - \n",
      "=== Epoch 83 Summary ===\n",
      "2025-06-18 18:36:16 - INFO - Time: 613.29s\n",
      "2025-06-18 18:36:16 - INFO - Training   - accuracy: 0.9566 - auc: 0.9617 - f1_score: 0.6639 - loss: 0.0239 - precision: 0.8045 - recall: 0.5856 - learning_rate: 0.0000\n",
      "2025-06-18 18:36:16 - INFO - Validation - accuracy: 0.9315 - auc: 0.7479 - f1_score: 0.2468 - loss: 0.0779 - precision: 0.3203 - recall: 0.2115\n",
      "2025-06-18 18:36:16 - INFO - ==================================================\n",
      "\n"
     ]
    },
    {
     "name": "stdout",
     "output_type": "stream",
     "text": [
      "\u001b[1m813/813\u001b[0m \u001b[32m━━━━━━━━━━━━━━━━━━━━\u001b[0m\u001b[37m\u001b[0m \u001b[1m613s\u001b[0m 755ms/step - accuracy: 0.9566 - auc: 0.9616 - f1_score: 0.6640 - loss: 0.0240 - precision: 0.8046 - recall: 0.5857 - val_accuracy: 0.9315 - val_auc: 0.7479 - val_f1_score: 0.2468 - val_loss: 0.0779 - val_precision: 0.3203 - val_recall: 0.2115 - learning_rate: 1.0000e-06\n"
     ]
    },
    {
     "name": "stderr",
     "output_type": "stream",
     "text": [
      "2025-06-18 18:36:16 - INFO - \n",
      "=== Starting Epoch 84 ===\n",
      "\n"
     ]
    },
    {
     "name": "stdout",
     "output_type": "stream",
     "text": [
      "Epoch 84/100\n",
      "\u001b[1m813/813\u001b[0m \u001b[32m━━━━━━━━━━━━━━━━━━━━\u001b[0m\u001b[37m\u001b[0m \u001b[1m0s\u001b[0m 384ms/step - accuracy: 0.9568 - auc: 0.9616 - f1_score: 0.6642 - loss: 0.0239 - precision: 0.8049 - recall: 0.5863  "
     ]
    },
    {
     "name": "stderr",
     "output_type": "stream",
     "text": [
      "2025-06-18 18:41:39 - INFO - \n",
      "=== Epoch 84 Summary ===\n",
      "2025-06-18 18:41:39 - INFO - Time: 322.65s\n",
      "2025-06-18 18:41:39 - INFO - Training   - accuracy: 0.9569 - auc: 0.9619 - f1_score: 0.6646 - loss: 0.0239 - precision: 0.8049 - recall: 0.5867 - learning_rate: 0.0000\n",
      "2025-06-18 18:41:39 - INFO - Validation - accuracy: 0.9320 - auc: 0.7498 - f1_score: 0.2508 - loss: 0.0759 - precision: 0.3262 - recall: 0.2140\n",
      "2025-06-18 18:41:39 - INFO - ==================================================\n",
      "\n"
     ]
    },
    {
     "name": "stdout",
     "output_type": "stream",
     "text": [
      "\u001b[1m813/813\u001b[0m \u001b[32m━━━━━━━━━━━━━━━━━━━━\u001b[0m\u001b[37m\u001b[0m \u001b[1m323s\u001b[0m 397ms/step - accuracy: 0.9568 - auc: 0.9616 - f1_score: 0.6642 - loss: 0.0239 - precision: 0.8049 - recall: 0.5863 - val_accuracy: 0.9320 - val_auc: 0.7498 - val_f1_score: 0.2508 - val_loss: 0.0759 - val_precision: 0.3262 - val_recall: 0.2140 - learning_rate: 1.0000e-06\n"
     ]
    },
    {
     "name": "stderr",
     "output_type": "stream",
     "text": [
      "2025-06-18 18:41:39 - INFO - \n",
      "=== Starting Epoch 85 ===\n",
      "\n"
     ]
    },
    {
     "name": "stdout",
     "output_type": "stream",
     "text": [
      "Epoch 85/100\n",
      "\u001b[1m813/813\u001b[0m \u001b[32m━━━━━━━━━━━━━━━━━━━━\u001b[0m\u001b[37m\u001b[0m \u001b[1m0s\u001b[0m 587ms/step - accuracy: 0.9568 - auc: 0.9622 - f1_score: 0.6672 - loss: 0.0239 - precision: 0.8069 - recall: 0.5884  "
     ]
    },
    {
     "name": "stderr",
     "output_type": "stream",
     "text": [
      "2025-06-18 18:49:45 - INFO - \n",
      "=== Epoch 85 Summary ===\n",
      "2025-06-18 18:49:45 - INFO - Time: 485.76s\n",
      "2025-06-18 18:49:45 - INFO - Training   - accuracy: 0.9570 - auc: 0.9622 - f1_score: 0.6672 - loss: 0.0239 - precision: 0.8056 - recall: 0.5896 - learning_rate: 0.0000\n",
      "2025-06-18 18:49:45 - INFO - Validation - accuracy: 0.9321 - auc: 0.7469 - f1_score: 0.2508 - loss: 0.0782 - precision: 0.3285 - recall: 0.2165\n",
      "2025-06-18 18:49:45 - INFO - ==================================================\n",
      "\n"
     ]
    },
    {
     "name": "stdout",
     "output_type": "stream",
     "text": [
      "\u001b[1m813/813\u001b[0m \u001b[32m━━━━━━━━━━━━━━━━━━━━\u001b[0m\u001b[37m\u001b[0m \u001b[1m486s\u001b[0m 598ms/step - accuracy: 0.9568 - auc: 0.9622 - f1_score: 0.6672 - loss: 0.0239 - precision: 0.8069 - recall: 0.5884 - val_accuracy: 0.9321 - val_auc: 0.7469 - val_f1_score: 0.2508 - val_loss: 0.0782 - val_precision: 0.3285 - val_recall: 0.2165 - learning_rate: 1.0000e-06\n"
     ]
    },
    {
     "name": "stderr",
     "output_type": "stream",
     "text": [
      "2025-06-18 18:49:45 - INFO - \n",
      "=== Starting Epoch 86 ===\n",
      "\n"
     ]
    },
    {
     "name": "stdout",
     "output_type": "stream",
     "text": [
      "Epoch 86/100\n",
      "\u001b[1m813/813\u001b[0m \u001b[32m━━━━━━━━━━━━━━━━━━━━\u001b[0m\u001b[37m\u001b[0m \u001b[1m0s\u001b[0m 609ms/step - accuracy: 0.9564 - auc: 0.9616 - f1_score: 0.6626 - loss: 0.0240 - precision: 0.8045 - recall: 0.5842  "
     ]
    },
    {
     "name": "stderr",
     "output_type": "stream",
     "text": [
      "2025-06-18 18:58:10 - INFO - \n",
      "=== Epoch 86 Summary ===\n",
      "2025-06-18 18:58:10 - INFO - Time: 505.23s\n",
      "2025-06-18 18:58:10 - INFO - Training   - accuracy: 0.9570 - auc: 0.9622 - f1_score: 0.6665 - loss: 0.0238 - precision: 0.8063 - recall: 0.5886 - learning_rate: 0.0000\n",
      "2025-06-18 18:58:10 - INFO - Validation - accuracy: 0.9324 - auc: 0.7485 - f1_score: 0.2527 - loss: 0.0762 - precision: 0.3318 - recall: 0.2176\n",
      "2025-06-18 18:58:10 - INFO - ==================================================\n",
      "\n"
     ]
    },
    {
     "name": "stdout",
     "output_type": "stream",
     "text": [
      "\u001b[1m813/813\u001b[0m \u001b[32m━━━━━━━━━━━━━━━━━━━━\u001b[0m\u001b[37m\u001b[0m \u001b[1m505s\u001b[0m 622ms/step - accuracy: 0.9564 - auc: 0.9616 - f1_score: 0.6626 - loss: 0.0240 - precision: 0.8045 - recall: 0.5842 - val_accuracy: 0.9324 - val_auc: 0.7485 - val_f1_score: 0.2527 - val_loss: 0.0762 - val_precision: 0.3318 - val_recall: 0.2176 - learning_rate: 1.0000e-06\n"
     ]
    },
    {
     "name": "stderr",
     "output_type": "stream",
     "text": [
      "2025-06-18 18:58:10 - INFO - \n",
      "=== Starting Epoch 87 ===\n",
      "\n"
     ]
    },
    {
     "name": "stdout",
     "output_type": "stream",
     "text": [
      "Epoch 87/100\n",
      "\u001b[1m813/813\u001b[0m \u001b[32m━━━━━━━━━━━━━━━━━━━━\u001b[0m\u001b[37m\u001b[0m \u001b[1m0s\u001b[0m 509ms/step - accuracy: 0.9568 - auc: 0.9624 - f1_score: 0.6665 - loss: 0.0238 - precision: 0.8040 - recall: 0.5892  "
     ]
    },
    {
     "name": "stderr",
     "output_type": "stream",
     "text": [
      "2025-06-18 19:05:13 - INFO - \n",
      "=== Epoch 87 Summary ===\n",
      "2025-06-18 19:05:13 - INFO - Time: 422.90s\n",
      "2025-06-18 19:05:13 - INFO - Training   - accuracy: 0.9569 - auc: 0.9622 - f1_score: 0.6664 - loss: 0.0239 - precision: 0.8060 - recall: 0.5884 - learning_rate: 0.0000\n",
      "2025-06-18 19:05:13 - INFO - Validation - accuracy: 0.9322 - auc: 0.7503 - f1_score: 0.2475 - loss: 0.0763 - precision: 0.3250 - recall: 0.2086\n",
      "2025-06-18 19:05:13 - INFO - ==================================================\n",
      "\n"
     ]
    },
    {
     "name": "stdout",
     "output_type": "stream",
     "text": [
      "\u001b[1m813/813\u001b[0m \u001b[32m━━━━━━━━━━━━━━━━━━━━\u001b[0m\u001b[37m\u001b[0m \u001b[1m423s\u001b[0m 521ms/step - accuracy: 0.9568 - auc: 0.9624 - f1_score: 0.6665 - loss: 0.0238 - precision: 0.8040 - recall: 0.5892 - val_accuracy: 0.9322 - val_auc: 0.7503 - val_f1_score: 0.2475 - val_loss: 0.0763 - val_precision: 0.3250 - val_recall: 0.2086 - learning_rate: 1.0000e-06\n"
     ]
    },
    {
     "name": "stderr",
     "output_type": "stream",
     "text": [
      "2025-06-18 19:05:13 - INFO - \n",
      "=== Starting Epoch 88 ===\n",
      "\n"
     ]
    },
    {
     "name": "stdout",
     "output_type": "stream",
     "text": [
      "Epoch 88/100\n",
      "\u001b[1m813/813\u001b[0m \u001b[32m━━━━━━━━━━━━━━━━━━━━\u001b[0m\u001b[37m\u001b[0m \u001b[1m0s\u001b[0m 391ms/step - accuracy: 0.9572 - auc: 0.9622 - f1_score: 0.6694 - loss: 0.0238 - precision: 0.8069 - recall: 0.5918  "
     ]
    },
    {
     "name": "stderr",
     "output_type": "stream",
     "text": [
      "2025-06-18 19:10:41 - INFO - \n",
      "=== Epoch 88 Summary ===\n",
      "2025-06-18 19:10:41 - INFO - Time: 327.73s\n",
      "2025-06-18 19:10:41 - INFO - Training   - accuracy: 0.9572 - auc: 0.9630 - f1_score: 0.6692 - loss: 0.0237 - precision: 0.8080 - recall: 0.5909 - learning_rate: 0.0000\n",
      "2025-06-18 19:10:41 - INFO - Validation - accuracy: 0.9325 - auc: 0.7484 - f1_score: 0.2484 - loss: 0.0780 - precision: 0.3288 - recall: 0.2102\n",
      "2025-06-18 19:10:41 - INFO - ==================================================\n",
      "\n"
     ]
    },
    {
     "name": "stdout",
     "output_type": "stream",
     "text": [
      "\u001b[1m813/813\u001b[0m \u001b[32m━━━━━━━━━━━━━━━━━━━━\u001b[0m\u001b[37m\u001b[0m \u001b[1m328s\u001b[0m 403ms/step - accuracy: 0.9572 - auc: 0.9622 - f1_score: 0.6694 - loss: 0.0238 - precision: 0.8069 - recall: 0.5918 - val_accuracy: 0.9325 - val_auc: 0.7484 - val_f1_score: 0.2484 - val_loss: 0.0780 - val_precision: 0.3288 - val_recall: 0.2102 - learning_rate: 1.0000e-06\n"
     ]
    },
    {
     "name": "stderr",
     "output_type": "stream",
     "text": [
      "2025-06-18 19:10:41 - INFO - \n",
      "=== Starting Epoch 89 ===\n",
      "\n"
     ]
    },
    {
     "name": "stdout",
     "output_type": "stream",
     "text": [
      "Epoch 89/100\n",
      "\u001b[1m813/813\u001b[0m \u001b[32m━━━━━━━━━━━━━━━━━━━━\u001b[0m\u001b[37m\u001b[0m \u001b[1m0s\u001b[0m 598ms/step - accuracy: 0.9573 - auc: 0.9628 - f1_score: 0.6687 - loss: 0.0236 - precision: 0.8057 - recall: 0.5916  "
     ]
    },
    {
     "name": "stderr",
     "output_type": "stream",
     "text": [
      "2025-06-18 19:18:55 - INFO - \n",
      "=== Epoch 89 Summary ===\n",
      "2025-06-18 19:18:55 - INFO - Time: 494.60s\n",
      "2025-06-18 19:18:55 - INFO - Training   - accuracy: 0.9573 - auc: 0.9628 - f1_score: 0.6696 - loss: 0.0237 - precision: 0.8070 - recall: 0.5921 - learning_rate: 0.0000\n",
      "2025-06-18 19:18:55 - INFO - Validation - accuracy: 0.9314 - auc: 0.7472 - f1_score: 0.2491 - loss: 0.0763 - precision: 0.3208 - recall: 0.2134\n",
      "2025-06-18 19:18:55 - INFO - ==================================================\n",
      "\n"
     ]
    },
    {
     "name": "stdout",
     "output_type": "stream",
     "text": [
      "\u001b[1m813/813\u001b[0m \u001b[32m━━━━━━━━━━━━━━━━━━━━\u001b[0m\u001b[37m\u001b[0m \u001b[1m495s\u001b[0m 609ms/step - accuracy: 0.9573 - auc: 0.9628 - f1_score: 0.6687 - loss: 0.0236 - precision: 0.8057 - recall: 0.5916 - val_accuracy: 0.9314 - val_auc: 0.7472 - val_f1_score: 0.2491 - val_loss: 0.0763 - val_precision: 0.3208 - val_recall: 0.2134 - learning_rate: 1.0000e-06\n"
     ]
    },
    {
     "name": "stderr",
     "output_type": "stream",
     "text": [
      "2025-06-18 19:18:55 - INFO - \n",
      "=== Starting Epoch 90 ===\n",
      "\n"
     ]
    },
    {
     "name": "stdout",
     "output_type": "stream",
     "text": [
      "Epoch 90/100\n",
      "\u001b[1m813/813\u001b[0m \u001b[32m━━━━━━━━━━━━━━━━━━━━\u001b[0m\u001b[37m\u001b[0m \u001b[1m0s\u001b[0m 699ms/step - accuracy: 0.9570 - auc: 0.9627 - f1_score: 0.6676 - loss: 0.0238 - precision: 0.8082 - recall: 0.5897   "
     ]
    },
    {
     "name": "stderr",
     "output_type": "stream",
     "text": [
      "2025-06-18 19:28:34 - INFO - \n",
      "=== Epoch 90 Summary ===\n",
      "2025-06-18 19:28:34 - INFO - Time: 578.32s\n",
      "2025-06-18 19:28:34 - INFO - Training   - accuracy: 0.9572 - auc: 0.9629 - f1_score: 0.6687 - loss: 0.0237 - precision: 0.8083 - recall: 0.5910 - learning_rate: 0.0000\n",
      "2025-06-18 19:28:34 - INFO - Validation - accuracy: 0.9318 - auc: 0.7475 - f1_score: 0.2449 - loss: 0.0780 - precision: 0.3213 - recall: 0.2084\n",
      "2025-06-18 19:28:34 - INFO - ==================================================\n",
      "\n"
     ]
    },
    {
     "name": "stdout",
     "output_type": "stream",
     "text": [
      "\u001b[1m813/813\u001b[0m \u001b[32m━━━━━━━━━━━━━━━━━━━━\u001b[0m\u001b[37m\u001b[0m \u001b[1m578s\u001b[0m 712ms/step - accuracy: 0.9570 - auc: 0.9627 - f1_score: 0.6676 - loss: 0.0238 - precision: 0.8082 - recall: 0.5897 - val_accuracy: 0.9318 - val_auc: 0.7475 - val_f1_score: 0.2449 - val_loss: 0.0780 - val_precision: 0.3213 - val_recall: 0.2084 - learning_rate: 1.0000e-06\n"
     ]
    },
    {
     "name": "stderr",
     "output_type": "stream",
     "text": [
      "2025-06-18 19:28:34 - INFO - \n",
      "=== Starting Epoch 91 ===\n",
      "\n"
     ]
    },
    {
     "name": "stdout",
     "output_type": "stream",
     "text": [
      "Epoch 91/100\n",
      "\u001b[1m813/813\u001b[0m \u001b[32m━━━━━━━━━━━━━━━━━━━━\u001b[0m\u001b[37m\u001b[0m \u001b[1m0s\u001b[0m 581ms/step - accuracy: 0.9579 - auc: 0.9640 - f1_score: 0.6770 - loss: 0.0235 - precision: 0.8112 - recall: 0.5995  "
     ]
    },
    {
     "name": "stderr",
     "output_type": "stream",
     "text": [
      "2025-06-18 19:36:35 - INFO - \n",
      "=== Epoch 91 Summary ===\n",
      "2025-06-18 19:36:35 - INFO - Time: 481.45s\n",
      "2025-06-18 19:36:35 - INFO - Training   - accuracy: 0.9578 - auc: 0.9638 - f1_score: 0.6752 - loss: 0.0235 - precision: 0.8092 - recall: 0.5985 - learning_rate: 0.0000\n",
      "2025-06-18 19:36:35 - INFO - Validation - accuracy: 0.9316 - auc: 0.7473 - f1_score: 0.2464 - loss: 0.0773 - precision: 0.3197 - recall: 0.2081\n",
      "2025-06-18 19:36:35 - INFO - ==================================================\n",
      "\n"
     ]
    },
    {
     "name": "stdout",
     "output_type": "stream",
     "text": [
      "\u001b[1m813/813\u001b[0m \u001b[32m━━━━━━━━━━━━━━━━━━━━\u001b[0m\u001b[37m\u001b[0m \u001b[1m481s\u001b[0m 593ms/step - accuracy: 0.9579 - auc: 0.9640 - f1_score: 0.6770 - loss: 0.0235 - precision: 0.8112 - recall: 0.5995 - val_accuracy: 0.9316 - val_auc: 0.7473 - val_f1_score: 0.2464 - val_loss: 0.0773 - val_precision: 0.3197 - val_recall: 0.2081 - learning_rate: 1.0000e-06\n"
     ]
    },
    {
     "name": "stderr",
     "output_type": "stream",
     "text": [
      "2025-06-18 19:36:35 - INFO - \n",
      "=== Training Completed! ===\n",
      "\n",
      "2025-06-18 19:36:35 - INFO - Final Metrics: accuracy: 0.9578 - auc: 0.9638 - f1_score: 0.6752 - loss: 0.0235 - precision: 0.8092 - recall: 0.5985 - val_accuracy: 0.9316 - val_auc: 0.7473 - val_f1_score: 0.2464 - val_loss: 0.0773 - val_precision: 0.3197 - val_recall: 0.2081\n",
      "\n"
     ]
    },
    {
     "name": "stdout",
     "output_type": "stream",
     "text": [
      "Epoch 91: early stopping\n",
      "Restoring model weights from the end of the best epoch: 76.\n"
     ]
    }
   ],
   "source": [
    "# Model Training\n",
    "model          = build_densenet121(num_classes, use_se=False, use_eca=False, use_gam=True, ratio=16, channel_blocks=[2, 3])\n",
    "optimizer      = Adam(learning_rate=1e-4)\n",
    "compile_kwargs = {'optimizer': optimizer, 'loss': loss, 'metrics': metrics}\n",
    "\n",
    "history, model = start_or_resume_training(\n",
    "    model, \n",
    "    compile_kwargs, \n",
    "    train_ds, \n",
    "    val_ds, \n",
    "    TF_MAX_EPOCHS,\n",
    "    steps_per_epoch, \n",
    "    validation_steps, \n",
    "    class_weights=class_weights,\n",
    "    callbacks=[checkpoint, best_checkpoint, reduce_lr, training_logger, metrics_monitor, early_stopping], \n",
    "    checkpoint_path=checkpoint_path,\n",
    "    initial_epoch=initial_epoch,\n",
    "    output_dir=MODELS_PATH,\n",
    "    model_name=model_name,\n",
    "    logger=logger\n",
    ")"
   ]
  },
  {
   "cell_type": "code",
   "execution_count": null,
   "id": "47f1f86e-635a-47bc-8e2e-19530b84a0bf",
   "metadata": {},
   "outputs": [],
   "source": []
  }
 ],
 "metadata": {
  "kernelspec": {
   "display_name": "Python 3 (ipykernel)",
   "language": "python",
   "name": "python3"
  },
  "language_info": {
   "codemirror_mode": {
    "name": "ipython",
    "version": 3
   },
   "file_extension": ".py",
   "mimetype": "text/x-python",
   "name": "python",
   "nbconvert_exporter": "python",
   "pygments_lexer": "ipython3",
   "version": "3.10.16"
  }
 },
 "nbformat": 4,
 "nbformat_minor": 5
}
