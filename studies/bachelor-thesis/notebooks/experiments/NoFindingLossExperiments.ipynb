{
 "cells": [
  {
   "cell_type": "code",
   "execution_count": 12,
   "id": "7ef0d555-7535-4068-b57c-e8387e321d97",
   "metadata": {},
   "outputs": [],
   "source": [
    "import tensorflow as tf\n",
    "import numpy as np\n",
    "import matplotlib.pyplot as plt\n",
    "from tqdm import tqdm\n",
    "\n",
    "# Loss Function\n",
    "from src.model.loss.tensorflow_no_finding_binary_crossentropy import NoFindingBinaryCrossentropy"
   ]
  },
  {
   "cell_type": "code",
   "execution_count": 13,
   "id": "27100ad8-7d8f-485a-9d94-9310fac92f44",
   "metadata": {},
   "outputs": [
    {
     "name": "stdout",
     "output_type": "stream",
     "text": [
      "[('True No Finding, Low Other', array([[0., 0., 0., ..., 0., 0., 0.],\n",
      "       [0., 0., 0., ..., 0., 0., 0.],\n",
      "       [0., 0., 0., ..., 0., 0., 0.],\n",
      "       ...,\n",
      "       [0., 0., 0., ..., 0., 0., 0.],\n",
      "       [0., 0., 0., ..., 0., 0., 0.],\n",
      "       [0., 0., 0., ..., 0., 0., 0.]]), array([[0.00000000e+00, 0.00000000e+00, 0.00000000e+00, ...,\n",
      "        0.00000000e+00, 0.00000000e+00, 0.00000000e+00],\n",
      "       [7.15000715e-05, 7.15000715e-05, 7.15000715e-05, ...,\n",
      "        7.15000715e-05, 7.15000715e-05, 7.15000715e-05],\n",
      "       [1.43000143e-04, 1.43000143e-04, 1.43000143e-04, ...,\n",
      "        1.43000143e-04, 1.43000143e-04, 1.43000143e-04],\n",
      "       ...,\n",
      "       [7.12855713e-02, 7.12855713e-02, 7.12855713e-02, ...,\n",
      "        7.12855713e-02, 7.12855713e-02, 7.12855713e-02],\n",
      "       [7.13570714e-02, 7.13570714e-02, 7.13570714e-02, ...,\n",
      "        7.13570714e-02, 7.13570714e-02, 7.13570714e-02],\n",
      "       [7.14285714e-02, 7.14285714e-02, 7.14285714e-02, ...,\n",
      "        7.14285714e-02, 7.14285714e-02, 7.14285714e-02]])), ('False No Finding, Low Other', array([[0., 1., 0., ..., 0., 0., 0.],\n",
      "       [0., 1., 0., ..., 0., 0., 0.],\n",
      "       [0., 1., 0., ..., 0., 0., 0.],\n",
      "       ...,\n",
      "       [0., 1., 0., ..., 0., 0., 0.],\n",
      "       [0., 1., 0., ..., 0., 0., 0.],\n",
      "       [0., 1., 0., ..., 0., 0., 0.]]), array([[0.      , 0.      , 0.      , ..., 0.      , 0.      , 0.      ],\n",
      "       [0.      , 0.001001, 0.      , ..., 0.      , 0.      , 0.      ],\n",
      "       [0.      , 0.002002, 0.      , ..., 0.      , 0.      , 0.      ],\n",
      "       ...,\n",
      "       [0.      , 0.997998, 0.      , ..., 0.      , 0.      , 0.      ],\n",
      "       [0.      , 0.998999, 0.      , ..., 0.      , 0.      , 0.      ],\n",
      "       [0.      , 1.      , 0.      , ..., 0.      , 0.      , 0.      ]]))]\n"
     ]
    }
   ],
   "source": [
    "def generate_synthetic_data(num_samples=1000, num_classes=15, no_finding_idx=10):\n",
    "    other_preds_range = np.linspace(0, 1, num_samples)\n",
    "    \n",
    "    scenarios = [\n",
    "        (\"True No Finding, Low Other\", 1.0, 0.9, other_preds_range),\n",
    "        (\"False No Finding, Low Other\", 0.0, 0.1, other_preds_range),\n",
    "    ]\n",
    "    \n",
    "    results = []\n",
    "    for name, true_no_finding, pred_no_finding, other_preds in scenarios:\n",
    "        y_true = np.zeros((num_samples, num_classes))\n",
    "        y_true[:, no_finding_idx] = true_no_finding\n",
    "        \n",
    "        if \"False No Finding\" in name:\n",
    "            true_positive_classes = [1, 3, 8]\n",
    "            for cls in true_positive_classes:\n",
    "                y_true[:, cls] = 1.0\n",
    "        \n",
    "        y_pred = np.zeros((num_samples, num_classes))\n",
    "        y_pred[:, no_finding_idx] = pred_no_finding\n",
    "        \n",
    "        for i, val in enumerate(other_preds):\n",
    "            if \"True No Finding\" in name:\n",
    "                other_classes = [j for j in range(num_classes) if j != no_finding_idx]\n",
    "                avg_val = val / (num_classes - 1)\n",
    "                for j in other_classes:\n",
    "                    y_pred[i, j] = avg_val\n",
    "            else:\n",
    "                classes_to_predict = [1, 3, 8]\n",
    "                for cls in classes_to_predict:\n",
    "                    y_pred[i, cls] = val\n",
    "        \n",
    "        results.append((name, y_true, y_pred))\n",
    "    \n",
    "    return results\n",
    "    \n",
    "synthetic_data = generate_synthetic_data()\n",
    "print(synthetic_data)"
   ]
  },
  {
   "cell_type": "code",
   "execution_count": 14,
   "id": "d95232e2-54c4-41dd-856b-0a56069fe97e",
   "metadata": {},
   "outputs": [
    {
     "ename": "SyntaxError",
     "evalue": "invalid syntax (1781505193.py, line 16)",
     "output_type": "error",
     "traceback": [
      "\u001b[0;36m  Cell \u001b[0;32mIn[14], line 16\u001b[0;36m\u001b[0m\n\u001b[0;31m    for i, (scenario_name, y_true, y_pred) in tqdm(enumerate(synthetic_data), desc: \"Scenarios: \"):\u001b[0m\n\u001b[0m                                                                                  ^\u001b[0m\n\u001b[0;31mSyntaxError\u001b[0m\u001b[0;31m:\u001b[0m invalid syntax\n"
     ]
    }
   ],
   "source": [
    "synthetic_data = generate_synthetic_data()\n",
    "\n",
    "# Test different configurations\n",
    "configs = [\n",
    "    {\"with_sigmoid\": False, \"sigmoid_scale\": None, \"lambda_value\": 0.1, \"label\": \"Linear λ=0.1\"},\n",
    "    {\"with_sigmoid\": False, \"sigmoid_scale\": None, \"lambda_value\": 0.2, \"label\": \"Linear λ=0.2\"},\n",
    "    {\"with_sigmoid\": True, \"sigmoid_scale\": 5, \"lambda_value\": 0.1, \"label\": \"Sigmoid λ=0.1 scale=5\"},\n",
    "    {\"with_sigmoid\": True, \"sigmoid_scale\": 10, \"lambda_value\": 0.1, \"label\": \"Sigmoid λ=0.1 scale=10\"},\n",
    "    {\"with_sigmoid\": True, \"sigmoid_scale\": 10, \"lambda_value\": 0.2, \"label\": \"Sigmoid λ=0.2 scale=10\"},\n",
    "    {\"with_sigmoid\": True, \"sigmoid_scale\": 20, \"lambda_value\": 0.1, \"label\": \"Sigmoid λ=0.1 scale=20\"},\n",
    "]\n",
    "\n",
    "fig, axes = plt.subplots(1, 2, figsize=(15, 6))\n",
    "fig.suptitle('NoFindingBinaryCrossentropy Analysis', fontsize=16)\n",
    "\n",
    "for i, (scenario_name, y_true, y_pred) in tqdm(enumerate(synthetic_data), desc=\"Scenarios: \"):\n",
    "    ax = axes[i]\n",
    "    other_sum = np.sum(y_pred, axis=1) - y_pred[:, 10]  # Assumes no_finding_idx=10\n",
    "    \n",
    "    for config in tqdm(configs, desc=\"Configs: \"):\n",
    "        loss_fn = NoFindingBinaryCrossentropy(\n",
    "            no_finding_idx=10,\n",
    "            with_sigmoid=config[\"with_sigmoid\"],\n",
    "            lambda_value=config[\"lambda_value\"],\n",
    "            sigmoid_scale=config[\"sigmoid_scale\"]\n",
    "        )\n",
    "        \n",
    "        losses = []\n",
    "        for j in range(len(y_true)):\n",
    "            sample_true = tf.constant(y_true[j:j+1], dtype=tf.float32)\n",
    "            sample_pred = tf.constant(y_pred[j:j+1], dtype=tf.float32)\n",
    "            loss = loss_fn(sample_true, sample_pred).numpy()\n",
    "            losses.append(loss)\n",
    "        \n",
    "        ax.plot(other_sum, losses, label=config[\"label\"])\n",
    "    \n",
    "    ax.set_xlabel('Sum of Other Conditions Predictions')\n",
    "    ax.set_ylabel('Loss Value')\n",
    "    ax.set_title(f'Scenario: {scenario_name}')\n",
    "    ax.legend()\n",
    "    ax.grid(True, alpha=0.3)\n",
    "\n",
    "plt.tight_layout()\n",
    "plt.show()"
   ]
  },
  {
   "cell_type": "code",
   "execution_count": null,
   "id": "922f1ab9-95df-409d-bd07-3ba14276156d",
   "metadata": {},
   "outputs": [],
   "source": [
    "\n"
   ]
  },
  {
   "cell_type": "code",
   "execution_count": null,
   "id": "eaae5b44-747f-4919-a9b2-4c9affda752c",
   "metadata": {},
   "outputs": [],
   "source": []
  }
 ],
 "metadata": {
  "kernelspec": {
   "display_name": "Python 3 (ipykernel)",
   "language": "python",
   "name": "python3"
  },
  "language_info": {
   "codemirror_mode": {
    "name": "ipython",
    "version": 3
   },
   "file_extension": ".py",
   "mimetype": "text/x-python",
   "name": "python",
   "nbconvert_exporter": "python",
   "pygments_lexer": "ipython3",
   "version": "3.11.0"
  }
 },
 "nbformat": 4,
 "nbformat_minor": 5
}
