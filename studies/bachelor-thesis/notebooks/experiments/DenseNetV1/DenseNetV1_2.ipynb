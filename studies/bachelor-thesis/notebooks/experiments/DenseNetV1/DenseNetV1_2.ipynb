{
 "cells": [
  {
   "cell_type": "code",
   "execution_count": 1,
   "id": "b694919a-9b18-4068-8e69-7258de889dff",
   "metadata": {},
   "outputs": [
    {
     "name": "stderr",
     "output_type": "stream",
     "text": [
      "2025-04-23 07:34:15.128563: I tensorflow/core/util/port.cc:153] oneDNN custom operations are on. You may see slightly different numerical results due to floating-point round-off errors from different computation orders. To turn them off, set the environment variable `TF_ENABLE_ONEDNN_OPTS=0`.\n",
      "2025-04-23 07:34:15.135753: E external/local_xla/xla/stream_executor/cuda/cuda_fft.cc:467] Unable to register cuFFT factory: Attempting to register factory for plugin cuFFT when one has already been registered\n",
      "WARNING: All log messages before absl::InitializeLog() is called are written to STDERR\n",
      "E0000 00:00:1745386455.144037   13865 cuda_dnn.cc:8579] Unable to register cuDNN factory: Attempting to register factory for plugin cuDNN when one has already been registered\n",
      "E0000 00:00:1745386455.146526   13865 cuda_blas.cc:1407] Unable to register cuBLAS factory: Attempting to register factory for plugin cuBLAS when one has already been registered\n",
      "W0000 00:00:1745386455.153098   13865 computation_placer.cc:177] computation placer already registered. Please check linkage and avoid linking the same target more than once.\n",
      "W0000 00:00:1745386455.153105   13865 computation_placer.cc:177] computation placer already registered. Please check linkage and avoid linking the same target more than once.\n",
      "W0000 00:00:1745386455.153106   13865 computation_placer.cc:177] computation placer already registered. Please check linkage and avoid linking the same target more than once.\n",
      "W0000 00:00:1745386455.153106   13865 computation_placer.cc:177] computation placer already registered. Please check linkage and avoid linking the same target more than once.\n",
      "2025-04-23 07:34:15.155318: I tensorflow/core/platform/cpu_feature_guard.cc:210] This TensorFlow binary is optimized to use available CPU instructions in performance-critical operations.\n",
      "To enable the following instructions: AVX2 AVX_VNNI FMA, in other operations, rebuild TensorFlow with the appropriate compiler flags.\n"
     ]
    },
    {
     "name": "stdout",
     "output_type": "stream",
     "text": [
      "\n",
      "GPU configuration successful!\n",
      "Device: /physical_device:GPU:0\n",
      "Memory limit: 18.0 GB\n",
      "\n",
      "TensorFlow optimizations status:\n",
      "- CPU Threads: 19 intra-op, 12 inter-op (32 cores total)\n",
      "- XLA JIT: enabled (autoclustering)\n",
      "- Synchronous Execution: enabled\n",
      "\n",
      "GPU Device Details:\n",
      "- Device: GPU /physical_device:GPU:0\n",
      "- Memory limit: 18.0 GB\n"
     ]
    },
    {
     "name": "stderr",
     "output_type": "stream",
     "text": [
      "I0000 00:00:1745386456.361291   13865 gpu_device.cc:2019] Created device /job:localhost/replica:0/task:0/device:GPU:0 with 19327352832 MB memory:  -> device: 0, name: NVIDIA GeForce RTX 3090 Ti, pci bus id: 0000:01:00.0, compute capability: 8.6\n"
     ]
    }
   ],
   "source": [
    "# Import dependencies\n",
    "import os\n",
    "from src.utils.gpu_config import configure_gpu, optimize_tensorflow\n",
    "\n",
    "configure_gpu()\n",
    "optimize_tensorflow()\n",
    "\n",
    "os.environ['TF_CPP_MIN_VLOG_LEVEL'] = '0'\n",
    "os.environ['TF_CPP_MIN_LOG_LEVEL'] = '2'"
   ]
  },
  {
   "cell_type": "code",
   "execution_count": 2,
   "id": "2b854daf-5f2a-4c33-9180-5081cd415b16",
   "metadata": {},
   "outputs": [
    {
     "name": "stderr",
     "output_type": "stream",
     "text": [
      "I0000 00:00:1745386456.381483   13865 cuda_executor.cc:479] failed to allocate 18.00PiB (20266198323167232 bytes) from device: RESOURCE_EXHAUSTED: : CUDA_ERROR_OUT_OF_MEMORY: out of memory\n",
      "I0000 00:00:1745386456.381506   13865 cuda_executor.cc:479] failed to allocate 16.20PiB (18239577202360320 bytes) from device: RESOURCE_EXHAUSTED: : CUDA_ERROR_OUT_OF_MEMORY: out of memory\n",
      "I0000 00:00:1745386456.381508   13865 cuda_executor.cc:479] failed to allocate 14.58PiB (16415619482124288 bytes) from device: RESOURCE_EXHAUSTED: : CUDA_ERROR_OUT_OF_MEMORY: out of memory\n",
      "I0000 00:00:1745386456.381511   13865 cuda_executor.cc:479] failed to allocate 13.12PiB (14774057211789312 bytes) from device: RESOURCE_EXHAUSTED: : CUDA_ERROR_OUT_OF_MEMORY: out of memory\n",
      "I0000 00:00:1745386456.381513   13865 cuda_executor.cc:479] failed to allocate 11.81PiB (13296650738991104 bytes) from device: RESOURCE_EXHAUSTED: : CUDA_ERROR_OUT_OF_MEMORY: out of memory\n",
      "I0000 00:00:1745386456.381514   13865 cuda_executor.cc:479] failed to allocate 10.63PiB (11966985772466176 bytes) from device: RESOURCE_EXHAUSTED: : CUDA_ERROR_OUT_OF_MEMORY: out of memory\n",
      "I0000 00:00:1745386456.381516   13865 cuda_executor.cc:479] failed to allocate 9.57PiB (10770286550974464 bytes) from device: RESOURCE_EXHAUSTED: : CUDA_ERROR_OUT_OF_MEMORY: out of memory\n",
      "I0000 00:00:1745386456.381518   13865 cuda_executor.cc:479] failed to allocate 8.61PiB (9693258003251200 bytes) from device: RESOURCE_EXHAUSTED: : CUDA_ERROR_OUT_OF_MEMORY: out of memory\n",
      "I0000 00:00:1745386456.381520   13865 cuda_executor.cc:479] failed to allocate 7.75PiB (8723932202926080 bytes) from device: RESOURCE_EXHAUSTED: : CUDA_ERROR_OUT_OF_MEMORY: out of memory\n",
      "I0000 00:00:1745386456.381522   13865 cuda_executor.cc:479] failed to allocate 6.97PiB (7851538982633472 bytes) from device: RESOURCE_EXHAUSTED: : CUDA_ERROR_OUT_OF_MEMORY: out of memory\n",
      "I0000 00:00:1745386456.381523   13865 cuda_executor.cc:479] failed to allocate 6.28PiB (7066385138057216 bytes) from device: RESOURCE_EXHAUSTED: : CUDA_ERROR_OUT_OF_MEMORY: out of memory\n",
      "I0000 00:00:1745386456.381525   13865 cuda_executor.cc:479] failed to allocate 5.65PiB (6359746516877312 bytes) from device: RESOURCE_EXHAUSTED: : CUDA_ERROR_OUT_OF_MEMORY: out of memory\n",
      "I0000 00:00:1745386456.381527   13865 cuda_executor.cc:479] failed to allocate 5.08PiB (5723771918876672 bytes) from device: RESOURCE_EXHAUSTED: : CUDA_ERROR_OUT_OF_MEMORY: out of memory\n",
      "I0000 00:00:1745386456.381529   13865 cuda_executor.cc:479] failed to allocate 4.58PiB (5151394512240640 bytes) from device: RESOURCE_EXHAUSTED: : CUDA_ERROR_OUT_OF_MEMORY: out of memory\n",
      "I0000 00:00:1745386456.381530   13865 cuda_executor.cc:479] failed to allocate 4.12PiB (4636255061016576 bytes) from device: RESOURCE_EXHAUSTED: : CUDA_ERROR_OUT_OF_MEMORY: out of memory\n",
      "I0000 00:00:1745386456.381532   13865 cuda_executor.cc:479] failed to allocate 3.71PiB (4172629447540736 bytes) from device: RESOURCE_EXHAUSTED: : CUDA_ERROR_OUT_OF_MEMORY: out of memory\n",
      "I0000 00:00:1745386456.381534   13865 cuda_executor.cc:479] failed to allocate 3.33PiB (3755366395412480 bytes) from device: RESOURCE_EXHAUSTED: : CUDA_ERROR_OUT_OF_MEMORY: out of memory\n",
      "I0000 00:00:1745386456.381535   13865 cuda_executor.cc:479] failed to allocate 3.00PiB (3379829755871232 bytes) from device: RESOURCE_EXHAUSTED: : CUDA_ERROR_OUT_OF_MEMORY: out of memory\n",
      "I0000 00:00:1745386456.381537   13865 cuda_executor.cc:479] failed to allocate 2.70PiB (3041846699753472 bytes) from device: RESOURCE_EXHAUSTED: : CUDA_ERROR_OUT_OF_MEMORY: out of memory\n",
      "I0000 00:00:1745386456.381539   13865 cuda_executor.cc:479] failed to allocate 2.43PiB (2737662083465216 bytes) from device: RESOURCE_EXHAUSTED: : CUDA_ERROR_OUT_OF_MEMORY: out of memory\n",
      "I0000 00:00:1745386456.381541   13865 cuda_executor.cc:479] failed to allocate 2.19PiB (2463895767744512 bytes) from device: RESOURCE_EXHAUSTED: : CUDA_ERROR_OUT_OF_MEMORY: out of memory\n",
      "I0000 00:00:1745386456.381542   13865 cuda_executor.cc:479] failed to allocate 1.97PiB (2217506110439424 bytes) from device: RESOURCE_EXHAUSTED: : CUDA_ERROR_OUT_OF_MEMORY: out of memory\n",
      "I0000 00:00:1745386456.381544   13865 cuda_executor.cc:479] failed to allocate 1.77PiB (1995755472551936 bytes) from device: RESOURCE_EXHAUSTED: : CUDA_ERROR_OUT_OF_MEMORY: out of memory\n",
      "I0000 00:00:1745386456.381547   13865 cuda_executor.cc:479] failed to allocate 1.59PiB (1796179885031424 bytes) from device: RESOURCE_EXHAUSTED: : CUDA_ERROR_OUT_OF_MEMORY: out of memory\n",
      "I0000 00:00:1745386456.381548   13865 cuda_executor.cc:479] failed to allocate 1.44PiB (1616561802575872 bytes) from device: RESOURCE_EXHAUSTED: : CUDA_ERROR_OUT_OF_MEMORY: out of memory\n",
      "I0000 00:00:1745386456.381550   13865 cuda_executor.cc:479] failed to allocate 1.29PiB (1454905541787648 bytes) from device: RESOURCE_EXHAUSTED: : CUDA_ERROR_OUT_OF_MEMORY: out of memory\n",
      "I0000 00:00:1745386456.381552   13865 cuda_executor.cc:479] failed to allocate 1.16PiB (1309415001030656 bytes) from device: RESOURCE_EXHAUSTED: : CUDA_ERROR_OUT_OF_MEMORY: out of memory\n",
      "I0000 00:00:1745386456.381554   13865 cuda_executor.cc:479] failed to allocate 1.05PiB (1178473527771136 bytes) from device: RESOURCE_EXHAUSTED: : CUDA_ERROR_OUT_OF_MEMORY: out of memory\n",
      "I0000 00:00:1745386456.381555   13865 cuda_executor.cc:479] failed to allocate 964.63TiB (1060626134728704 bytes) from device: RESOURCE_EXHAUSTED: : CUDA_ERROR_OUT_OF_MEMORY: out of memory\n",
      "I0000 00:00:1745386456.381557   13865 cuda_executor.cc:479] failed to allocate 868.17TiB (954563527966720 bytes) from device: RESOURCE_EXHAUSTED: : CUDA_ERROR_OUT_OF_MEMORY: out of memory\n",
      "I0000 00:00:1745386456.381559   13865 cuda_executor.cc:479] failed to allocate 781.35TiB (859107141615616 bytes) from device: RESOURCE_EXHAUSTED: : CUDA_ERROR_OUT_OF_MEMORY: out of memory\n",
      "I0000 00:00:1745386456.381561   13865 cuda_executor.cc:479] failed to allocate 703.22TiB (773196387188736 bytes) from device: RESOURCE_EXHAUSTED: : CUDA_ERROR_OUT_OF_MEMORY: out of memory\n",
      "I0000 00:00:1745386456.381563   13865 cuda_executor.cc:479] failed to allocate 632.90TiB (695876708204544 bytes) from device: RESOURCE_EXHAUSTED: : CUDA_ERROR_OUT_OF_MEMORY: out of memory\n",
      "I0000 00:00:1745386456.381565   13865 cuda_executor.cc:479] failed to allocate 569.61TiB (626289044094976 bytes) from device: RESOURCE_EXHAUSTED: : CUDA_ERROR_OUT_OF_MEMORY: out of memory\n",
      "I0000 00:00:1745386456.381566   13865 cuda_executor.cc:479] failed to allocate 512.65TiB (563660099420160 bytes) from device: RESOURCE_EXHAUSTED: : CUDA_ERROR_OUT_OF_MEMORY: out of memory\n",
      "I0000 00:00:1745386456.381568   13865 cuda_executor.cc:479] failed to allocate 461.38TiB (507294089478144 bytes) from device: RESOURCE_EXHAUSTED: : CUDA_ERROR_OUT_OF_MEMORY: out of memory\n",
      "I0000 00:00:1745386456.381570   13865 cuda_executor.cc:479] failed to allocate 415.24TiB (456564653686784 bytes) from device: RESOURCE_EXHAUSTED: : CUDA_ERROR_OUT_OF_MEMORY: out of memory\n",
      "I0000 00:00:1745386456.381572   13865 cuda_executor.cc:479] failed to allocate 373.72TiB (410908178251776 bytes) from device: RESOURCE_EXHAUSTED: : CUDA_ERROR_OUT_OF_MEMORY: out of memory\n",
      "I0000 00:00:1745386456.381573   13865 cuda_executor.cc:479] failed to allocate 336.35TiB (369817353715712 bytes) from device: RESOURCE_EXHAUSTED: : CUDA_ERROR_OUT_OF_MEMORY: out of memory\n",
      "I0000 00:00:1745386456.381575   13865 cuda_executor.cc:479] failed to allocate 302.71TiB (332835604922368 bytes) from device: RESOURCE_EXHAUSTED: : CUDA_ERROR_OUT_OF_MEMORY: out of memory\n",
      "I0000 00:00:1745386456.381577   13865 cuda_executor.cc:479] failed to allocate 272.44TiB (299552024297472 bytes) from device: RESOURCE_EXHAUSTED: : CUDA_ERROR_OUT_OF_MEMORY: out of memory\n",
      "I0000 00:00:1745386456.381579   13865 cuda_executor.cc:479] failed to allocate 245.20TiB (269596808445952 bytes) from device: RESOURCE_EXHAUSTED: : CUDA_ERROR_OUT_OF_MEMORY: out of memory\n",
      "I0000 00:00:1745386456.381581   13865 cuda_executor.cc:479] failed to allocate 220.68TiB (242637114179584 bytes) from device: RESOURCE_EXHAUSTED: : CUDA_ERROR_OUT_OF_MEMORY: out of memory\n",
      "I0000 00:00:1745386456.381582   13865 cuda_executor.cc:479] failed to allocate 198.61TiB (218373401083904 bytes) from device: RESOURCE_EXHAUSTED: : CUDA_ERROR_OUT_OF_MEMORY: out of memory\n",
      "I0000 00:00:1745386456.381585   13865 cuda_executor.cc:479] failed to allocate 178.75TiB (196536059297792 bytes) from device: RESOURCE_EXHAUSTED: : CUDA_ERROR_OUT_OF_MEMORY: out of memory\n",
      "I0000 00:00:1745386456.381586   13865 cuda_executor.cc:479] failed to allocate 160.87TiB (176882456723456 bytes) from device: RESOURCE_EXHAUSTED: : CUDA_ERROR_OUT_OF_MEMORY: out of memory\n",
      "I0000 00:00:1745386456.381588   13865 cuda_executor.cc:479] failed to allocate 144.79TiB (159194204340224 bytes) from device: RESOURCE_EXHAUSTED: : CUDA_ERROR_OUT_OF_MEMORY: out of memory\n",
      "I0000 00:00:1745386456.381590   13865 cuda_executor.cc:479] failed to allocate 130.31TiB (143274773839872 bytes) from device: RESOURCE_EXHAUSTED: : CUDA_ERROR_OUT_OF_MEMORY: out of memory\n",
      "I0000 00:00:1745386456.597310   13865 cuda_executor.cc:479] failed to allocate 117.28TiB (128947291422720 bytes) from device: RESOURCE_EXHAUSTED: : CUDA_ERROR_OUT_OF_MEMORY: out of memory\n",
      "I0000 00:00:1745386456.791342   13865 cuda_executor.cc:479] failed to allocate 105.55TiB (116052558086144 bytes) from device: RESOURCE_EXHAUSTED: : CUDA_ERROR_OUT_OF_MEMORY: out of memory\n",
      "I0000 00:00:1745386456.967093   13865 cuda_executor.cc:479] failed to allocate 94.99TiB (104447296405504 bytes) from device: RESOURCE_EXHAUSTED: : CUDA_ERROR_OUT_OF_MEMORY: out of memory\n",
      "I0000 00:00:1745386457.127511   13865 cuda_executor.cc:479] failed to allocate 85.49TiB (94002565087232 bytes) from device: RESOURCE_EXHAUSTED: : CUDA_ERROR_OUT_OF_MEMORY: out of memory\n",
      "I0000 00:00:1745386457.267691   13865 cuda_executor.cc:479] failed to allocate 76.95TiB (84602307739648 bytes) from device: RESOURCE_EXHAUSTED: : CUDA_ERROR_OUT_OF_MEMORY: out of memory\n",
      "I0000 00:00:1745386457.394625   13865 cuda_executor.cc:479] failed to allocate 69.25TiB (76142077804544 bytes) from device: RESOURCE_EXHAUSTED: : CUDA_ERROR_OUT_OF_MEMORY: out of memory\n",
      "I0000 00:00:1745386457.507373   13865 cuda_executor.cc:479] failed to allocate 62.33TiB (68527868346368 bytes) from device: RESOURCE_EXHAUSTED: : CUDA_ERROR_OUT_OF_MEMORY: out of memory\n",
      "I0000 00:00:1745386457.608674   13865 cuda_executor.cc:479] failed to allocate 56.09TiB (61675080253440 bytes) from device: RESOURCE_EXHAUSTED: : CUDA_ERROR_OUT_OF_MEMORY: out of memory\n",
      "I0000 00:00:1745386457.699103   13865 cuda_executor.cc:479] failed to allocate 50.48TiB (55507570130944 bytes) from device: RESOURCE_EXHAUSTED: : CUDA_ERROR_OUT_OF_MEMORY: out of memory\n",
      "I0000 00:00:1745386457.779561   13865 cuda_executor.cc:479] failed to allocate 45.43TiB (49956811440128 bytes) from device: RESOURCE_EXHAUSTED: : CUDA_ERROR_OUT_OF_MEMORY: out of memory\n",
      "I0000 00:00:1745386457.851097   13865 cuda_executor.cc:479] failed to allocate 40.89TiB (44961131134976 bytes) from device: RESOURCE_EXHAUSTED: : CUDA_ERROR_OUT_OF_MEMORY: out of memory\n",
      "I0000 00:00:1745386457.915201   13865 cuda_executor.cc:479] failed to allocate 36.80TiB (40465017602048 bytes) from device: RESOURCE_EXHAUSTED: : CUDA_ERROR_OUT_OF_MEMORY: out of memory\n",
      "I0000 00:00:1745386457.972128   13865 cuda_executor.cc:479] failed to allocate 33.12TiB (36418516680704 bytes) from device: RESOURCE_EXHAUSTED: : CUDA_ERROR_OUT_OF_MEMORY: out of memory\n",
      "I0000 00:00:1745386458.022449   13865 cuda_executor.cc:479] failed to allocate 29.81TiB (32776663334912 bytes) from device: RESOURCE_EXHAUSTED: : CUDA_ERROR_OUT_OF_MEMORY: out of memory\n",
      "I0000 00:00:1745386458.067332   13865 cuda_executor.cc:479] failed to allocate 26.83TiB (29498997211136 bytes) from device: RESOURCE_EXHAUSTED: : CUDA_ERROR_OUT_OF_MEMORY: out of memory\n",
      "I0000 00:00:1745386458.108246   13865 cuda_executor.cc:479] failed to allocate 24.15TiB (26549097070592 bytes) from device: RESOURCE_EXHAUSTED: : CUDA_ERROR_OUT_OF_MEMORY: out of memory\n",
      "I0000 00:00:1745386458.143563   13865 cuda_executor.cc:479] failed to allocate 21.73TiB (23894186524672 bytes) from device: RESOURCE_EXHAUSTED: : CUDA_ERROR_OUT_OF_MEMORY: out of memory\n",
      "I0000 00:00:1745386458.177492   13865 cuda_executor.cc:479] failed to allocate 19.56TiB (21504767033344 bytes) from device: RESOURCE_EXHAUSTED: : CUDA_ERROR_OUT_OF_MEMORY: out of memory\n",
      "I0000 00:00:1745386458.205600   13865 cuda_executor.cc:479] failed to allocate 17.60TiB (19354290749440 bytes) from device: RESOURCE_EXHAUSTED: : CUDA_ERROR_OUT_OF_MEMORY: out of memory\n",
      "I0000 00:00:1745386458.229816   13865 cuda_executor.cc:479] failed to allocate 15.84TiB (17418861674496 bytes) from device: RESOURCE_EXHAUSTED: : CUDA_ERROR_OUT_OF_MEMORY: out of memory\n",
      "I0000 00:00:1745386458.250852   13865 cuda_executor.cc:479] failed to allocate 14.26TiB (15676975611904 bytes) from device: RESOURCE_EXHAUSTED: : CUDA_ERROR_OUT_OF_MEMORY: out of memory\n",
      "I0000 00:00:1745386458.268329   13865 cuda_executor.cc:479] failed to allocate 12.83TiB (14109277945856 bytes) from device: RESOURCE_EXHAUSTED: : CUDA_ERROR_OUT_OF_MEMORY: out of memory\n",
      "I0000 00:00:1745386458.284319   13865 cuda_executor.cc:479] failed to allocate 11.55TiB (12698349731840 bytes) from device: RESOURCE_EXHAUSTED: : CUDA_ERROR_OUT_OF_MEMORY: out of memory\n",
      "I0000 00:00:1745386458.297035   13865 cuda_executor.cc:479] failed to allocate 10.39TiB (11428514758656 bytes) from device: RESOURCE_EXHAUSTED: : CUDA_ERROR_OUT_OF_MEMORY: out of memory\n",
      "I0000 00:00:1745386458.307234   13865 cuda_executor.cc:479] failed to allocate 9.35TiB (10285663387648 bytes) from device: RESOURCE_EXHAUSTED: : CUDA_ERROR_OUT_OF_MEMORY: out of memory\n",
      "I0000 00:00:1745386458.314877   13865 cuda_executor.cc:479] failed to allocate 8.42TiB (9257096314880 bytes) from device: RESOURCE_EXHAUSTED: : CUDA_ERROR_OUT_OF_MEMORY: out of memory\n",
      "I0000 00:00:1745386458.320702   13865 cuda_executor.cc:479] failed to allocate 7.58TiB (8331386683392 bytes) from device: RESOURCE_EXHAUSTED: : CUDA_ERROR_OUT_OF_MEMORY: out of memory\n",
      "I0000 00:00:1745386458.325665   13865 cuda_executor.cc:479] failed to allocate 6.82TiB (7498247962624 bytes) from device: RESOURCE_EXHAUSTED: : CUDA_ERROR_OUT_OF_MEMORY: out of memory\n",
      "I0000 00:00:1745386458.330031   13865 cuda_executor.cc:479] failed to allocate 6.14TiB (6748422799360 bytes) from device: RESOURCE_EXHAUSTED: : CUDA_ERROR_OUT_OF_MEMORY: out of memory\n",
      "I0000 00:00:1745386458.333956   13865 cuda_executor.cc:479] failed to allocate 5.52TiB (6073580257280 bytes) from device: RESOURCE_EXHAUSTED: : CUDA_ERROR_OUT_OF_MEMORY: out of memory\n",
      "I0000 00:00:1745386458.337246   13865 cuda_executor.cc:479] failed to allocate 4.97TiB (5466221969408 bytes) from device: RESOURCE_EXHAUSTED: : CUDA_ERROR_OUT_OF_MEMORY: out of memory\n",
      "I0000 00:00:1745386458.340136   13865 cuda_executor.cc:479] failed to allocate 4.47TiB (4919599824896 bytes) from device: RESOURCE_EXHAUSTED: : CUDA_ERROR_OUT_OF_MEMORY: out of memory\n",
      "I0000 00:00:1745386458.342872   13865 cuda_executor.cc:479] failed to allocate 4.03TiB (4427639947264 bytes) from device: RESOURCE_EXHAUSTED: : CUDA_ERROR_OUT_OF_MEMORY: out of memory\n",
      "I0000 00:00:1745386458.345350   13865 cuda_executor.cc:479] failed to allocate 3.62TiB (3984875847680 bytes) from device: RESOURCE_EXHAUSTED: : CUDA_ERROR_OUT_OF_MEMORY: out of memory\n",
      "I0000 00:00:1745386458.347744   13865 cuda_executor.cc:479] failed to allocate 3.26TiB (3586388131840 bytes) from device: RESOURCE_EXHAUSTED: : CUDA_ERROR_OUT_OF_MEMORY: out of memory\n",
      "I0000 00:00:1745386458.349798   13865 cuda_executor.cc:479] failed to allocate 2.94TiB (3227749187584 bytes) from device: RESOURCE_EXHAUSTED: : CUDA_ERROR_OUT_OF_MEMORY: out of memory\n",
      "I0000 00:00:1745386458.351653   13865 cuda_executor.cc:479] failed to allocate 2.64TiB (2904974163968 bytes) from device: RESOURCE_EXHAUSTED: : CUDA_ERROR_OUT_OF_MEMORY: out of memory\n",
      "I0000 00:00:1745386458.353344   13865 cuda_executor.cc:479] failed to allocate 2.38TiB (2614476668928 bytes) from device: RESOURCE_EXHAUSTED: : CUDA_ERROR_OUT_OF_MEMORY: out of memory\n",
      "I0000 00:00:1745386458.354886   13865 cuda_executor.cc:479] failed to allocate 2.14TiB (2353028923392 bytes) from device: RESOURCE_EXHAUSTED: : CUDA_ERROR_OUT_OF_MEMORY: out of memory\n",
      "I0000 00:00:1745386458.356309   13865 cuda_executor.cc:479] failed to allocate 1.93TiB (2117725978624 bytes) from device: RESOURCE_EXHAUSTED: : CUDA_ERROR_OUT_OF_MEMORY: out of memory\n",
      "I0000 00:00:1745386458.357617   13865 cuda_executor.cc:479] failed to allocate 1.73TiB (1905953341440 bytes) from device: RESOURCE_EXHAUSTED: : CUDA_ERROR_OUT_OF_MEMORY: out of memory\n",
      "I0000 00:00:1745386458.358803   13865 cuda_executor.cc:479] failed to allocate 1.56TiB (1715358007296 bytes) from device: RESOURCE_EXHAUSTED: : CUDA_ERROR_OUT_OF_MEMORY: out of memory\n",
      "I0000 00:00:1745386458.359901   13865 cuda_executor.cc:479] failed to allocate 1.40TiB (1543822114816 bytes) from device: RESOURCE_EXHAUSTED: : CUDA_ERROR_OUT_OF_MEMORY: out of memory\n",
      "I0000 00:00:1745386458.360923   13865 cuda_executor.cc:479] failed to allocate 1.26TiB (1389439877120 bytes) from device: RESOURCE_EXHAUSTED: : CUDA_ERROR_OUT_OF_MEMORY: out of memory\n",
      "I0000 00:00:1745386458.361835   13865 cuda_executor.cc:479] failed to allocate 1.14TiB (1250495823872 bytes) from device: RESOURCE_EXHAUSTED: : CUDA_ERROR_OUT_OF_MEMORY: out of memory\n",
      "I0000 00:00:1745386458.362731   13865 cuda_executor.cc:479] failed to allocate 1.02TiB (1125446189056 bytes) from device: RESOURCE_EXHAUSTED: : CUDA_ERROR_OUT_OF_MEMORY: out of memory\n",
      "I0000 00:00:1745386458.363512   13865 cuda_executor.cc:479] failed to allocate 943.34GiB (1012901543936 bytes) from device: RESOURCE_EXHAUSTED: : CUDA_ERROR_OUT_OF_MEMORY: out of memory\n",
      "I0000 00:00:1745386458.364229   13865 cuda_executor.cc:479] failed to allocate 849.00GiB (911611396096 bytes) from device: RESOURCE_EXHAUSTED: : CUDA_ERROR_OUT_OF_MEMORY: out of memory\n",
      "I0000 00:00:1745386458.365026   13865 cuda_executor.cc:479] failed to allocate 764.10GiB (820450230272 bytes) from device: RESOURCE_EXHAUSTED: : CUDA_ERROR_OUT_OF_MEMORY: out of memory\n",
      "I0000 00:00:1745386458.365626   13865 cuda_executor.cc:479] failed to allocate 687.69GiB (738405187584 bytes) from device: RESOURCE_EXHAUSTED: : CUDA_ERROR_OUT_OF_MEMORY: out of memory\n",
      "I0000 00:00:1745386458.366183   13865 cuda_executor.cc:479] failed to allocate 618.92GiB (664564662272 bytes) from device: RESOURCE_EXHAUSTED: : CUDA_ERROR_OUT_OF_MEMORY: out of memory\n",
      "I0000 00:00:1745386458.366717   13865 cuda_executor.cc:479] failed to allocate 557.03GiB (598108209152 bytes) from device: RESOURCE_EXHAUSTED: : CUDA_ERROR_OUT_OF_MEMORY: out of memory\n",
      "I0000 00:00:1745386458.367187   13865 cuda_executor.cc:479] failed to allocate 501.33GiB (538297368576 bytes) from device: RESOURCE_EXHAUSTED: : CUDA_ERROR_OUT_OF_MEMORY: out of memory\n",
      "I0000 00:00:1745386458.367625   13865 cuda_executor.cc:479] failed to allocate 451.20GiB (484467605504 bytes) from device: RESOURCE_EXHAUSTED: : CUDA_ERROR_OUT_OF_MEMORY: out of memory\n",
      "I0000 00:00:1745386458.368041   13865 cuda_executor.cc:479] failed to allocate 406.08GiB (436020838400 bytes) from device: RESOURCE_EXHAUSTED: : CUDA_ERROR_OUT_OF_MEMORY: out of memory\n",
      "I0000 00:00:1745386458.368476   13865 cuda_executor.cc:479] failed to allocate 365.47GiB (392418754560 bytes) from device: RESOURCE_EXHAUSTED: : CUDA_ERROR_OUT_OF_MEMORY: out of memory\n",
      "I0000 00:00:1745386458.368893   13865 cuda_executor.cc:479] failed to allocate 328.92GiB (353176879104 bytes) from device: RESOURCE_EXHAUSTED: : CUDA_ERROR_OUT_OF_MEMORY: out of memory\n",
      "I0000 00:00:1745386458.369283   13865 cuda_executor.cc:479] failed to allocate 296.03GiB (317859168256 bytes) from device: RESOURCE_EXHAUSTED: : CUDA_ERROR_OUT_OF_MEMORY: out of memory\n",
      "I0000 00:00:1745386458.369672   13865 cuda_executor.cc:479] failed to allocate 266.43GiB (286073257984 bytes) from device: RESOURCE_EXHAUSTED: : CUDA_ERROR_OUT_OF_MEMORY: out of memory\n",
      "I0000 00:00:1745386458.370038   13865 cuda_executor.cc:479] failed to allocate 239.78GiB (257465925632 bytes) from device: RESOURCE_EXHAUSTED: : CUDA_ERROR_OUT_OF_MEMORY: out of memory\n",
      "I0000 00:00:1745386458.370388   13865 cuda_executor.cc:479] failed to allocate 215.80GiB (231719321600 bytes) from device: RESOURCE_EXHAUSTED: : CUDA_ERROR_OUT_OF_MEMORY: out of memory\n",
      "I0000 00:00:1745386458.370736   13865 cuda_executor.cc:479] failed to allocate 194.22GiB (208547381248 bytes) from device: RESOURCE_EXHAUSTED: : CUDA_ERROR_OUT_OF_MEMORY: out of memory\n",
      "I0000 00:00:1745386458.371069   13865 cuda_executor.cc:479] failed to allocate 174.80GiB (187692630016 bytes) from device: RESOURCE_EXHAUSTED: : CUDA_ERROR_OUT_OF_MEMORY: out of memory\n",
      "I0000 00:00:1745386458.371395   13865 cuda_executor.cc:479] failed to allocate 157.32GiB (168923365376 bytes) from device: RESOURCE_EXHAUSTED: : CUDA_ERROR_OUT_OF_MEMORY: out of memory\n",
      "I0000 00:00:1745386458.371715   13865 cuda_executor.cc:479] failed to allocate 141.59GiB (152031019008 bytes) from device: RESOURCE_EXHAUSTED: : CUDA_ERROR_OUT_OF_MEMORY: out of memory\n",
      "CUDA_ERROR_OUT_OF_MEMORY: out of memoryuda_executor.cc:479] failed to allocate 127.43GiB (136827912192 bytes) from device: RESOURCE_EXHAUSTED: : \n",
      "I0000 00:00:1745386458.372333   13865 cuda_executor.cc:479] failed to allocate 114.69GiB (123145117696 bytes) from device: RESOURCE_EXHAUSTED: : CUDA_ERROR_OUT_OF_MEMORY: out of memory\n",
      "I0000 00:00:1745386458.372636   13865 cuda_executor.cc:479] failed to allocate 103.22GiB (110830600192 bytes) from device: RESOURCE_EXHAUSTED: : CUDA_ERROR_OUT_OF_MEMORY: out of memory\n",
      "I0000 00:00:1745386458.372928   13865 cuda_executor.cc:479] failed to allocate 92.90GiB (99747536896 bytes) from device: RESOURCE_EXHAUSTED: : CUDA_ERROR_OUT_OF_MEMORY: out of memory\n",
      "I0000 00:00:1745386458.373217   13865 cuda_executor.cc:479] failed to allocate 83.61GiB (89772777472 bytes) from device: RESOURCE_EXHAUSTED: : CUDA_ERROR_OUT_OF_MEMORY: out of memory\n",
      "I0000 00:00:1745386458.373481   13865 cuda_executor.cc:479] failed to allocate 75.25GiB (80795500544 bytes) from device: RESOURCE_EXHAUSTED: : CUDA_ERROR_OUT_OF_MEMORY: out of memory\n",
      "I0000 00:00:1745386458.373766   13865 cuda_executor.cc:479] failed to allocate 67.72GiB (72715952128 bytes) from device: RESOURCE_EXHAUSTED: : CUDA_ERROR_OUT_OF_MEMORY: out of memory\n",
      "I0000 00:00:1745386458.374048   13865 cuda_executor.cc:479] failed to allocate 60.95GiB (65444356096 bytes) from device: RESOURCE_EXHAUSTED: : CUDA_ERROR_OUT_OF_MEMORY: out of memory\n",
      "I0000 00:00:1745386458.374327   13865 cuda_executor.cc:479] failed to allocate 54.85GiB (58899918848 bytes) from device: RESOURCE_EXHAUSTED: : CUDA_ERROR_OUT_OF_MEMORY: out of memory\n",
      "I0000 00:00:1745386458.374600   13865 cuda_executor.cc:479] failed to allocate 49.37GiB (53009924096 bytes) from device: RESOURCE_EXHAUSTED: : CUDA_ERROR_OUT_OF_MEMORY: out of memory\n",
      "I0000 00:00:1745386458.374878   13865 cuda_executor.cc:479] failed to allocate 44.43GiB (47708930048 bytes) from device: RESOURCE_EXHAUSTED: : CUDA_ERROR_OUT_OF_MEMORY: out of memory\n",
      "I0000 00:00:1745386458.375147   13865 cuda_executor.cc:479] failed to allocate 39.99GiB (42938036224 bytes) from device: RESOURCE_EXHAUSTED: : CUDA_ERROR_OUT_OF_MEMORY: out of memory\n",
      "I0000 00:00:1745386458.375414   13865 cuda_executor.cc:479] failed to allocate 35.99GiB (38644232192 bytes) from device: RESOURCE_EXHAUSTED: : CUDA_ERROR_OUT_OF_MEMORY: out of memory\n",
      "I0000 00:00:1745386458.375696   13865 cuda_executor.cc:479] failed to allocate 32.39GiB (34779807744 bytes) from device: RESOURCE_EXHAUSTED: : CUDA_ERROR_OUT_OF_MEMORY: out of memory\n",
      "I0000 00:00:1745386458.375951   13865 cuda_executor.cc:479] failed to allocate 29.15GiB (31301826560 bytes) from device: RESOURCE_EXHAUSTED: : CUDA_ERROR_OUT_OF_MEMORY: out of memory\n",
      "I0000 00:00:1745386458.376194   13865 cuda_executor.cc:479] failed to allocate 26.24GiB (28171642880 bytes) from device: RESOURCE_EXHAUSTED: : CUDA_ERROR_OUT_OF_MEMORY: out of memory\n",
      "I0000 00:00:1745386458.376464   13865 cuda_executor.cc:479] failed to allocate 23.61GiB (25354477568 bytes) from device: RESOURCE_EXHAUSTED: : CUDA_ERROR_OUT_OF_MEMORY: out of memory\n",
      "2025-04-23 07:34:18.647957: I tensorflow/core/kernels/data/tf_record_dataset_op.cc:387] The default buffer size is 262144, which is overridden by the user specified `buffer_size` of 1048576\n",
      "2025-04-23 07:34:49.278239: W tensorflow/core/lib/png/png_io.cc:92] PNG warning: iCCP: profile 'ICC Profile': 'GRAY': Gray color space not permitted on RGB PNG\n",
      "2025-04-23 07:34:52.640696: I tensorflow/core/framework/local_rendezvous.cc:407] Local rendezvous is aborting with status: OUT_OF_RANGE: End of sequence\n"
     ]
    }
   ],
   "source": [
    "# Import Tensorflow Keras\n",
    "from tensorflow.keras.optimizers import Adam\n",
    "from tensorflow.keras.losses import BinaryCrossentropy\n",
    "from tensorflow.keras.callbacks import ReduceLROnPlateau, ModelCheckpoint\n",
    "\n",
    "# Import local modules\n",
    "from src.utils.consts import TF_RECORD_DATASET, MODELS_PATH, TF_BUFFER_SIZE, TF_SHUFFLE_SIZE, TF_BATCH_SIZE, TF_MAX_EPOCHS\n",
    "from src.model.tensorflow_utils import load_dataset, optimize_dataset, count_dataset_size, get_num_classes, get_metrics\n",
    "from src.model.tensorflow_utils import setup_logger, setup_training_logger, setup_metrics_monitor, setup_early_stopping\n",
    "from src.model.tensorflow_utils import start_or_resume_training, apply_augmentation_to_dataset, calculate_class_weights\n",
    "from src.model.densnet.tensorflow_dense_net_121 import build_densenet121\n",
    "\n",
    "# Input Data\n",
    "initial_epoch   = None\n",
    "resume_training = False\n",
    "checkpoint_path = None\n",
    "set_name        = \"DenseNetV1\"\n",
    "model_name      = f\"{set_name}_2\"\n",
    "num_classes     = get_num_classes()\n",
    "\n",
    "train_ds = load_dataset(f\"{TF_RECORD_DATASET}/train.tfrecord\", TF_BUFFER_SIZE)\n",
    "val_ds   = load_dataset(f\"{TF_RECORD_DATASET}/val.tfrecord\", TF_BUFFER_SIZE)\n",
    "\n",
    "class_weights = calculate_class_weights(train_ds, num_classes)"
   ]
  },
  {
   "cell_type": "code",
   "execution_count": 3,
   "id": "5f152b8a-8ff8-4095-9815-e304ce2beb52",
   "metadata": {},
   "outputs": [
    {
     "name": "stderr",
     "output_type": "stream",
     "text": [
      "2025-04-23 07:35:25.478671: W tensorflow/core/lib/png/png_io.cc:92] PNG warning: iCCP: profile 'ICC Profile': 'GRAY': Gray color space not permitted on RGB PNG\n",
      "2025-04-23 07:35:28.939525: I tensorflow/core/framework/local_rendezvous.cc:407] Local rendezvous is aborting with status: OUT_OF_RANGE: End of sequence\n",
      "Counting samples: 71842 samples [00:36, 1979.58 samples/s]\n",
      "Counting samples: 15431 samples [00:07, 1977.19 samples/s]\n"
     ]
    }
   ],
   "source": [
    "steps_per_epoch  = int(count_dataset_size(train_ds, None) / TF_BATCH_SIZE)\n",
    "validation_steps = int(count_dataset_size(val_ds, None) / TF_BATCH_SIZE)\n",
    "\n",
    "# Disable Advanced Augmentations\n",
    "probability = {\n",
    "    \"intensity_scaling\": 0,\n",
    "    \"adaptive_histogram\": 0,\n",
    "    \"zoom\": 0,\n",
    "    \"cutout\": 0\n",
    "}\n",
    "\n",
    "train_ds = train_ds.shuffle(TF_SHUFFLE_SIZE, reshuffle_each_iteration=True)\n",
    "train_ds = apply_augmentation_to_dataset(train_ds, probability)\n",
    "train_ds = optimize_dataset(train_ds, TF_BATCH_SIZE)\n",
    "\n",
    "val_ds   = optimize_dataset(val_ds, TF_BATCH_SIZE)"
   ]
  },
  {
   "cell_type": "code",
   "execution_count": 4,
   "id": "3a0e37c9-b178-40d8-bd25-8c0a6498564a",
   "metadata": {},
   "outputs": [],
   "source": [
    "# Setup Model Deps\n",
    "logger            = setup_logger()\n",
    "training_logger   = setup_training_logger(logger, TF_BATCH_SIZE, 100)\n",
    "metrics_monitor   = setup_metrics_monitor(MODELS_PATH, model_name, logger, resume_training=resume_training, initial_epoch=initial_epoch)\n",
    "metrics           = get_metrics()\n",
    "\n",
    "# Setup compile arguments\n",
    "loss           = BinaryCrossentropy(from_logits=False)\n",
    "reduce_lr      = ReduceLROnPlateau(monitor=\"val_f1_score\", factor=0.5,  patience=3, min_lr=1e-6, mode=\"max\", verbose=1)\n",
    "early_stopping = setup_early_stopping()\n",
    "\n",
    "epoch_mode           = 'cp-{epoch:04d}'\n",
    "save_checkpoint_path = f\"{MODELS_PATH}/{model_name}/checkpoints/{epoch_mode}.keras\"\n",
    "checkpoint           = ModelCheckpoint(save_checkpoint_path, monitor=\"val_f1_score\", save_best_only=False, mode=\"max\")\n",
    "\n",
    "model_path      = f\"{MODELS_PATH}/{model_name}.keras\"\n",
    "best_checkpoint = ModelCheckpoint(model_path, monitor=\"val_f1_score\", save_best_only=True, mode=\"max\")"
   ]
  },
  {
   "cell_type": "code",
   "execution_count": 5,
   "id": "c44d4a9a-ffbb-4917-a702-c35773b9857c",
   "metadata": {},
   "outputs": [
    {
     "name": "stderr",
     "output_type": "stream",
     "text": [
      "2025-04-23 07:35:38 - INFO - \n",
      "=== Training Started ===\n",
      "\n",
      "2025-04-23 07:35:38 - INFO - Batch Size: 128\n",
      "2025-04-23 07:35:38 - INFO - Optimizer: Adam\n",
      "2025-04-23 07:35:38 - INFO - \n",
      "==================================================\n",
      "\n",
      "2025-04-23 07:35:38 - INFO - \n",
      "=== Starting Epoch 1 ===\n",
      "\n"
     ]
    },
    {
     "name": "stdout",
     "output_type": "stream",
     "text": [
      "Epoch 1/100\n"
     ]
    },
    {
     "name": "stderr",
     "output_type": "stream",
     "text": [
      "WARNING: All log messages before absl::InitializeLog() is called are written to STDERR\n",
      "I0000 00:00:1745386546.711023   13932 service.cc:152] XLA service 0x79f534002760 initialized for platform CUDA (this does not guarantee that XLA will be used). Devices:\n",
      "I0000 00:00:1745386546.711039   13932 service.cc:160]   StreamExecutor device (0): NVIDIA GeForce RTX 3090 Ti, Compute Capability 8.6\n",
      "I0000 00:00:1745386546.713775   13932 cuda_dnn.cc:529] Loaded cuDNN version 90300\n",
      "I0000 00:00:1745386546.755141   13932 device_compiler.h:188] Compiled cluster using XLA!  This line is logged at most once for the lifetime of the process.\n",
      "2025-04-23 07:36:06.380659: I tensorflow/core/kernels/data/shuffle_dataset_op.cc:452] ShuffleDatasetV3:13: Filling up shuffle buffer (this may take a while): 21119 of 25000\n",
      "2025-04-23 07:36:08.279170: I tensorflow/core/kernels/data/shuffle_dataset_op.cc:482] Shuffle buffer filled.\n",
      "2025-04-23 07:36:10.582820: I tensorflow/compiler/mlir/tensorflow/utils/dump_mlir_util.cc:269] disabling MLIR crash reproducer, set env var `MLIR_CRASH_REPRODUCER_DIRECTORY` to enable.\n"
     ]
    },
    {
     "name": "stdout",
     "output_type": "stream",
     "text": [
      "\u001b[1m311/561\u001b[0m \u001b[32m━━━━━━━━━━━\u001b[0m\u001b[37m━━━━━━━━━\u001b[0m \u001b[1m59s\u001b[0m 238ms/step - accuracy: 0.8906 - auc: 0.5237 - f1_score: 0.0504 - loss: 2.2382 - precision: 0.1166 - recall: 0.0401 "
     ]
    },
    {
     "name": "stderr",
     "output_type": "stream",
     "text": [
      "2025-04-23 07:38:23.782274: W tensorflow/core/lib/png/png_io.cc:92] PNG warning: iCCP: profile 'ICC Profile': 'GRAY': Gray color space not permitted on RGB PNG\n"
     ]
    },
    {
     "name": "stdout",
     "output_type": "stream",
     "text": [
      "\u001b[1m561/561\u001b[0m \u001b[32m━━━━━━━━━━━━━━━━━━━━\u001b[0m\u001b[37m\u001b[0m \u001b[1m0s\u001b[0m 226ms/step - accuracy: 0.8990 - auc: 0.5351 - f1_score: 0.0368 - loss: 2.1788 - precision: 0.1249 - recall: 0.0271 "
     ]
    },
    {
     "name": "stderr",
     "output_type": "stream",
     "text": [
      "2025-04-23 07:39:21.498134: I external/local_xla/xla/stream_executor/cuda/subprocess_compilation.cc:346] ptxas warning : Registers are spilled to local memory in function 'gemm_fusion_dot_3819', 212 bytes spill stores, 212 bytes spill loads\n",
      "\n",
      "2025-04-23 07:39:21.534955: I external/local_xla/xla/stream_executor/cuda/subprocess_compilation.cc:346] ptxas warning : Registers are spilled to local memory in function 'gemm_fusion_dot_3819', 76 bytes spill stores, 76 bytes spill loads\n",
      "\n",
      "2025-04-23 07:39:21.601294: I external/local_xla/xla/stream_executor/cuda/subprocess_compilation.cc:346] ptxas warning : Registers are spilled to local memory in function 'gemm_fusion_dot_3819_0', 188 bytes spill stores, 316 bytes spill loads\n",
      "\n",
      "2025-04-23 07:39:21.773415: I external/local_xla/xla/stream_executor/cuda/subprocess_compilation.cc:346] ptxas warning : Registers are spilled to local memory in function 'gemm_fusion_dot_3819', 3748 bytes spill stores, 3744 bytes spill loads\n",
      "\n",
      "2025-04-23 07:39:22.049391: I external/local_xla/xla/stream_executor/cuda/subprocess_compilation.cc:346] ptxas warning : Registers are spilled to local memory in function 'gemm_fusion_dot_3819', 3980 bytes spill stores, 3960 bytes spill loads\n",
      "\n",
      "2025-04-23 07:39:26.393995: I tensorflow/core/kernels/data/shuffle_dataset_op.cc:452] ShuffleDatasetV3:13: Filling up shuffle buffer (this may take a while): 19012 of 25000\n",
      "2025-04-23 07:39:29.180751: I tensorflow/core/kernels/data/shuffle_dataset_op.cc:482] Shuffle buffer filled.\n",
      "2025-04-23 07:39:38 - INFO - \n",
      "=== Epoch 1 Summary ===\n",
      "2025-04-23 07:39:38 - INFO - Time: 240.49s\n",
      "2025-04-23 07:39:38 - INFO - Training   - accuracy: 0.9100 - auc: 0.5543 - f1_score: 0.0186 - loss: 2.0555 - precision: 0.1440 - recall: 0.0103 - learning_rate: 0.0001\n",
      "2025-04-23 07:39:38 - INFO - Validation - accuracy: 0.9107 - auc: 0.6180 - f1_score: 0.0240 - loss: 1.9023 - precision: 0.2055 - recall: 0.0171\n",
      "2025-04-23 07:39:38 - INFO - ==================================================\n",
      "\n"
     ]
    },
    {
     "name": "stdout",
     "output_type": "stream",
     "text": [
      "\u001b[1m561/561\u001b[0m \u001b[32m━━━━━━━━━━━━━━━━━━━━\u001b[0m\u001b[37m\u001b[0m \u001b[1m241s\u001b[0m 265ms/step - accuracy: 0.8990 - auc: 0.5352 - f1_score: 0.0368 - loss: 2.1786 - precision: 0.1250 - recall: 0.0271 - val_accuracy: 0.9107 - val_auc: 0.6180 - val_f1_score: 0.0240 - val_loss: 1.9023 - val_precision: 0.2055 - val_recall: 0.0171 - learning_rate: 1.0000e-04\n"
     ]
    },
    {
     "name": "stderr",
     "output_type": "stream",
     "text": [
      "2025-04-23 07:39:38 - INFO - \n",
      "=== Starting Epoch 2 ===\n",
      "\n"
     ]
    },
    {
     "name": "stdout",
     "output_type": "stream",
     "text": [
      "Epoch 2/100\n"
     ]
    },
    {
     "name": "stderr",
     "output_type": "stream",
     "text": [
      "2025-04-23 07:40:24.147515: I external/local_xla/xla/stream_executor/cuda/subprocess_compilation.cc:346] ptxas warning : Registers are spilled to local memory in function 'input_reduce_transpose_fusion_58', 172 bytes spill stores, 156 bytes spill loads\n",
      "\n"
     ]
    },
    {
     "name": "stdout",
     "output_type": "stream",
     "text": [
      "\u001b[1m312/561\u001b[0m \u001b[32m━━━━━━━━━━━\u001b[0m\u001b[37m━━━━━━━━━\u001b[0m \u001b[1m1:01\u001b[0m 246ms/step - accuracy: 0.9126 - auc: 0.5762 - f1_score: 0.0107 - loss: 1.7818 - precision: 0.1978 - recall: 0.0058"
     ]
    },
    {
     "name": "stderr",
     "output_type": "stream",
     "text": [
      "2025-04-23 07:41:40.922409: W tensorflow/core/lib/png/png_io.cc:92] PNG warning: iCCP: profile 'ICC Profile': 'GRAY': Gray color space not permitted on RGB PNG\n"
     ]
    },
    {
     "name": "stdout",
     "output_type": "stream",
     "text": [
      "\u001b[1m561/561\u001b[0m \u001b[32m━━━━━━━━━━━━━━━━━━━━\u001b[0m\u001b[37m\u001b[0m \u001b[1m0s\u001b[0m 232ms/step - accuracy: 0.9127 - auc: 0.5816 - f1_score: 0.0108 - loss: 1.7356 - precision: 0.2014 - recall: 0.0059  "
     ]
    },
    {
     "name": "stderr",
     "output_type": "stream",
     "text": [
      "2025-04-23 07:42:34.552546: W tensorflow/core/kernels/data/prefetch_autotuner.cc:52] Prefetch autotuner tried to allocate 77078016 bytes after encountering the first element of size 77078016 bytes.This already causes the autotune ram budget to be exceeded. To stay within the ram budget, either increase the ram budget or reduce element size\n",
      "2025-04-23 07:42:37.426757: I tensorflow/core/kernels/data/shuffle_dataset_op.cc:452] ShuffleDatasetV3:13: Filling up shuffle buffer (this may take a while): 12143 of 25000\n",
      "2025-04-23 07:42:47.427262: I tensorflow/core/kernels/data/shuffle_dataset_op.cc:452] ShuffleDatasetV3:13: Filling up shuffle buffer (this may take a while): 18288 of 25000\n",
      "2025-04-23 07:42:47 - INFO - \n",
      "=== Epoch 2 Summary ===\n",
      "2025-04-23 07:42:47 - INFO - Time: 188.65s\n",
      "2025-04-23 07:42:47 - INFO - Training   - accuracy: 0.9130 - auc: 0.5917 - f1_score: 0.0111 - loss: 1.6354 - precision: 0.2167 - recall: 0.0060 - learning_rate: 0.0001\n",
      "2025-04-23 07:42:47 - INFO - Validation - accuracy: 0.9144 - auc: 0.6437 - f1_score: 0.0009 - loss: 1.5176 - precision: 0.0917 - recall: 0.0005\n",
      "2025-04-23 07:42:47 - INFO - ==================================================\n",
      "\n"
     ]
    },
    {
     "name": "stdout",
     "output_type": "stream",
     "text": [
      "\u001b[1m561/561\u001b[0m \u001b[32m━━━━━━━━━━━━━━━━━━━━\u001b[0m\u001b[37m\u001b[0m \u001b[1m189s\u001b[0m 255ms/step - accuracy: 0.9127 - auc: 0.5816 - f1_score: 0.0108 - loss: 1.7354 - precision: 0.2014 - recall: 0.0059 - val_accuracy: 0.9144 - val_auc: 0.6437 - val_f1_score: 9.2878e-04 - val_loss: 1.5176 - val_precision: 0.0917 - val_recall: 5.0963e-04 - learning_rate: 1.0000e-04\n"
     ]
    },
    {
     "name": "stderr",
     "output_type": "stream",
     "text": [
      "2025-04-23 07:42:47 - INFO - \n",
      "=== Starting Epoch 3 ===\n",
      "\n"
     ]
    },
    {
     "name": "stdout",
     "output_type": "stream",
     "text": [
      "Epoch 3/100\n",
      "\u001b[1m  2/561\u001b[0m \u001b[37m━━━━━━━━━━━━━━━━━━━━\u001b[0m \u001b[1m40s\u001b[0m 72ms/step - accuracy: 0.9184 - auc: 0.5690 - f1_score: 0.0106 - loss: 1.3955 - precision: 0.1458 - recall: 0.0059  "
     ]
    },
    {
     "name": "stderr",
     "output_type": "stream",
     "text": [
      "2025-04-23 07:42:52.272309: I tensorflow/core/kernels/data/shuffle_dataset_op.cc:482] Shuffle buffer filled.\n"
     ]
    },
    {
     "name": "stdout",
     "output_type": "stream",
     "text": [
      "\u001b[1m313/561\u001b[0m \u001b[32m━━━━━━━━━━━\u001b[0m\u001b[37m━━━━━━━━━\u001b[0m \u001b[1m1:04\u001b[0m 259ms/step - accuracy: 0.9131 - auc: 0.6010 - f1_score: 0.0135 - loss: 1.3967 - precision: 0.2282 - recall: 0.0076"
     ]
    },
    {
     "name": "stderr",
     "output_type": "stream",
     "text": [
      "2025-04-23 07:44:08.437650: W tensorflow/core/lib/png/png_io.cc:92] PNG warning: iCCP: profile 'ICC Profile': 'GRAY': Gray color space not permitted on RGB PNG\n"
     ]
    },
    {
     "name": "stdout",
     "output_type": "stream",
     "text": [
      "\u001b[1m561/561\u001b[0m \u001b[32m━━━━━━━━━━━━━━━━━━━━\u001b[0m\u001b[37m\u001b[0m \u001b[1m0s\u001b[0m 240ms/step - accuracy: 0.9132 - auc: 0.6055 - f1_score: 0.0127 - loss: 1.3619 - precision: 0.2319 - recall: 0.0070  "
     ]
    },
    {
     "name": "stderr",
     "output_type": "stream",
     "text": [
      "2025-04-23 07:45:02.212791: W tensorflow/core/kernels/data/prefetch_autotuner.cc:52] Prefetch autotuner tried to allocate 77078016 bytes after encountering the first element of size 77078016 bytes.This already causes the autotune ram budget to be exceeded. To stay within the ram budget, either increase the ram budget or reduce element size\n",
      "2025-04-23 07:45:10.804498: I tensorflow/core/kernels/data/shuffle_dataset_op.cc:452] ShuffleDatasetV3:13: Filling up shuffle buffer (this may take a while): 7362 of 25000\n",
      "2025-04-23 07:45:17 - INFO - \n",
      "=== Epoch 3 Summary ===\n",
      "2025-04-23 07:45:17 - INFO - Time: 149.62s\n",
      "2025-04-23 07:45:17 - INFO - Training   - accuracy: 0.9132 - auc: 0.6124 - f1_score: 0.0120 - loss: 1.2833 - precision: 0.2405 - recall: 0.0065 - learning_rate: 0.0001\n",
      "2025-04-23 07:45:17 - INFO - Validation - accuracy: 0.9148 - auc: 0.6445 - f1_score: 0.0004 - loss: 1.2082 - precision: 0.3333 - recall: 0.0002\n",
      "2025-04-23 07:45:17 - INFO - ==================================================\n",
      "\n"
     ]
    },
    {
     "name": "stdout",
     "output_type": "stream",
     "text": [
      "\u001b[1m561/561\u001b[0m \u001b[32m━━━━━━━━━━━━━━━━━━━━\u001b[0m\u001b[37m\u001b[0m \u001b[1m150s\u001b[0m 267ms/step - accuracy: 0.9132 - auc: 0.6055 - f1_score: 0.0127 - loss: 1.3617 - precision: 0.2319 - recall: 0.0070 - val_accuracy: 0.9148 - val_auc: 0.6445 - val_f1_score: 4.0523e-04 - val_loss: 1.2082 - val_precision: 0.3333 - val_recall: 2.0385e-04 - learning_rate: 1.0000e-04\n"
     ]
    },
    {
     "name": "stderr",
     "output_type": "stream",
     "text": [
      "2025-04-23 07:45:17 - INFO - \n",
      "=== Starting Epoch 4 ===\n",
      "\n"
     ]
    },
    {
     "name": "stdout",
     "output_type": "stream",
     "text": [
      "Epoch 4/100\n",
      "\u001b[1m  3/561\u001b[0m \u001b[37m━━━━━━━━━━━━━━━━━━━━\u001b[0m \u001b[1m1:16\u001b[0m 137ms/step - accuracy: 0.9151 - auc: 0.5800 - f1_score: 0.0037 - loss: 1.1334 - precision: 0.6667 - recall: 0.0019            "
     ]
    },
    {
     "name": "stderr",
     "output_type": "stream",
     "text": [
      "2025-04-23 07:45:23.842349: I tensorflow/core/kernels/data/shuffle_dataset_op.cc:482] Shuffle buffer filled.\n"
     ]
    },
    {
     "name": "stdout",
     "output_type": "stream",
     "text": [
      "\u001b[1m314/561\u001b[0m \u001b[32m━━━━━━━━━━━\u001b[0m\u001b[37m━━━━━━━━━\u001b[0m \u001b[1m1:05\u001b[0m 263ms/step - accuracy: 0.9129 - auc: 0.6175 - f1_score: 0.0119 - loss: 1.0944 - precision: 0.2463 - recall: 0.0067"
     ]
    },
    {
     "name": "stderr",
     "output_type": "stream",
     "text": [
      "2025-04-23 07:46:39.743342: W tensorflow/core/lib/png/png_io.cc:92] PNG warning: iCCP: profile 'ICC Profile': 'GRAY': Gray color space not permitted on RGB PNG\n"
     ]
    },
    {
     "name": "stdout",
     "output_type": "stream",
     "text": [
      "\u001b[1m498/561\u001b[0m \u001b[32m━━━━━━━━━━━━━━━━━\u001b[0m\u001b[37m━━━\u001b[0m \u001b[1m15s\u001b[0m 246ms/step - accuracy: 0.9130 - auc: 0.6189 - f1_score: 0.0120 - loss: 1.0719 - precision: 0.2439 - recall: 0.0067 "
     ]
    },
    {
     "name": "stderr",
     "output_type": "stream",
     "text": [
      "2025-04-23 07:47:20.578584: W external/local_xla/xla/stream_executor/integrations/stream_executor_allocator.cc:50] could not allocate pinned host memory of size: 4294967296\n",
      "2025-04-23 07:47:21.505192: W external/local_xla/xla/stream_executor/integrations/stream_executor_allocator.cc:50] could not allocate pinned host memory of size: 3865470464\n",
      "2025-04-23 07:47:22.594925: W external/local_xla/xla/stream_executor/integrations/stream_executor_allocator.cc:50] could not allocate pinned host memory of size: 3478923264\n",
      "2025-04-23 07:47:23.354467: W external/local_xla/xla/stream_executor/integrations/stream_executor_allocator.cc:50] could not allocate pinned host memory of size: 3131030784\n",
      "2025-04-23 07:47:23.959063: W external/local_xla/xla/stream_executor/integrations/stream_executor_allocator.cc:50] could not allocate pinned host memory of size: 2817927680\n",
      "2025-04-23 07:47:24.506230: W external/local_xla/xla/stream_executor/integrations/stream_executor_allocator.cc:50] could not allocate pinned host memory of size: 2536134912\n",
      "2025-04-23 07:47:25.016623: W external/local_xla/xla/stream_executor/integrations/stream_executor_allocator.cc:50] could not allocate pinned host memory of size: 2282521344\n"
     ]
    },
    {
     "name": "stdout",
     "output_type": "stream",
     "text": [
      "\u001b[1m561/561\u001b[0m \u001b[32m━━━━━━━━━━━━━━━━━━━━\u001b[0m\u001b[37m\u001b[0m \u001b[1m0s\u001b[0m 252ms/step - accuracy: 0.9130 - auc: 0.6194 - f1_score: 0.0120 - loss: 1.0647 - precision: 0.2447 - recall: 0.0067 "
     ]
    },
    {
     "name": "stderr",
     "output_type": "stream",
     "text": [
      "2025-04-23 07:47:39.281885: I tensorflow/core/kernels/data/shuffle_dataset_op.cc:452] ShuffleDatasetV3:13: Filling up shuffle buffer (this may take a while): 9402 of 25000\n",
      "2025-04-23 07:47:49.348410: I tensorflow/core/kernels/data/shuffle_dataset_op.cc:452] ShuffleDatasetV3:13: Filling up shuffle buffer (this may take a while): 13381 of 25000\n",
      "2025-04-23 07:48:09.282669: I tensorflow/core/kernels/data/shuffle_dataset_op.cc:452] ShuffleDatasetV3:13: Filling up shuffle buffer (this may take a while): 22312 of 25000\n"
     ]
    },
    {
     "name": "stdout",
     "output_type": "stream",
     "text": [
      "\n",
      "Epoch 4: ReduceLROnPlateau reducing learning rate to 4.999999873689376e-05.\n"
     ]
    },
    {
     "name": "stderr",
     "output_type": "stream",
     "text": [
      "2025-04-23 07:48:19.292034: I tensorflow/core/kernels/data/shuffle_dataset_op.cc:452] ShuffleDatasetV3:13: Filling up shuffle buffer (this may take a while): 23531 of 25000\n",
      "2025-04-23 07:48:19 - INFO - \n",
      "=== Epoch 4 Summary ===\n",
      "2025-04-23 07:48:19 - INFO - Time: 182.27s\n",
      "2025-04-23 07:48:19 - INFO - Training   - accuracy: 0.9132 - auc: 0.6248 - f1_score: 0.0125 - loss: 1.0020 - precision: 0.2520 - recall: 0.0069 - learning_rate: 0.0001\n",
      "2025-04-23 07:48:19 - INFO - Validation - accuracy: 0.9148 - auc: 0.6672 - f1_score: 0.0001 - loss: 0.9669 - precision: 0.5000 - recall: 0.0001\n",
      "2025-04-23 07:48:19 - INFO - ==================================================\n",
      "\n"
     ]
    },
    {
     "name": "stdout",
     "output_type": "stream",
     "text": [
      "\u001b[1m561/561\u001b[0m \u001b[32m━━━━━━━━━━━━━━━━━━━━\u001b[0m\u001b[37m\u001b[0m \u001b[1m182s\u001b[0m 325ms/step - accuracy: 0.9130 - auc: 0.6194 - f1_score: 0.0120 - loss: 1.0646 - precision: 0.2447 - recall: 0.0067 - val_accuracy: 0.9148 - val_auc: 0.6672 - val_f1_score: 1.0182e-04 - val_loss: 0.9669 - val_precision: 0.5000 - val_recall: 5.0963e-05 - learning_rate: 1.0000e-04\n"
     ]
    },
    {
     "name": "stderr",
     "output_type": "stream",
     "text": [
      "2025-04-23 07:48:19 - INFO - \n",
      "=== Starting Epoch 5 ===\n",
      "\n"
     ]
    },
    {
     "name": "stdout",
     "output_type": "stream",
     "text": [
      "Epoch 5/100\n",
      "\u001b[1m  4/561\u001b[0m \u001b[37m━━━━━━━━━━━━━━━━━━━━\u001b[0m \u001b[1m2:11\u001b[0m 236ms/step - accuracy: 0.9117 - auc: 0.6272 - f1_score: 0.0347 - loss: 0.9165 - precision: 0.2477 - recall: 0.0222"
     ]
    },
    {
     "name": "stderr",
     "output_type": "stream",
     "text": [
      "2025-04-23 07:48:23.323776: I tensorflow/core/kernels/data/shuffle_dataset_op.cc:482] Shuffle buffer filled.\n"
     ]
    },
    {
     "name": "stdout",
     "output_type": "stream",
     "text": [
      "\u001b[1m315/561\u001b[0m \u001b[32m━━━━━━━━━━━\u001b[0m\u001b[37m━━━━━━━━━\u001b[0m \u001b[1m1:06\u001b[0m 271ms/step - accuracy: 0.9134 - auc: 0.6339 - f1_score: 0.0130 - loss: 0.8707 - precision: 0.2886 - recall: 0.0071"
     ]
    },
    {
     "name": "stderr",
     "output_type": "stream",
     "text": [
      "2025-04-23 07:49:44.637135: W tensorflow/core/lib/png/png_io.cc:92] PNG warning: iCCP: profile 'ICC Profile': 'GRAY': Gray color space not permitted on RGB PNG\n"
     ]
    },
    {
     "name": "stdout",
     "output_type": "stream",
     "text": [
      "\u001b[1m561/561\u001b[0m \u001b[32m━━━━━━━━━━━━━━━━━━━━\u001b[0m\u001b[37m\u001b[0m \u001b[1m0s\u001b[0m 248ms/step - accuracy: 0.9135 - auc: 0.6376 - f1_score: 0.0130 - loss: 0.8580 - precision: 0.2955 - recall: 0.0070  "
     ]
    },
    {
     "name": "stderr",
     "output_type": "stream",
     "text": [
      "2025-04-23 07:50:38.674875: W tensorflow/core/kernels/data/prefetch_autotuner.cc:52] Prefetch autotuner tried to allocate 134225408 bytes after encountering the first element of size 134225408 bytes.This already causes the autotune ram budget to be exceeded. To stay within the ram budget, either increase the ram budget or reduce element size\n",
      "2025-04-23 07:50:40.629358: I tensorflow/core/kernels/data/shuffle_dataset_op.cc:452] ShuffleDatasetV3:13: Filling up shuffle buffer (this may take a while): 8322 of 25000\n",
      "2025-04-23 07:51:00.618220: I tensorflow/core/kernels/data/shuffle_dataset_op.cc:452] ShuffleDatasetV3:13: Filling up shuffle buffer (this may take a while): 16837 of 25000\n",
      "2025-04-23 07:51:05 - INFO - \n",
      "=== Epoch 5 Summary ===\n",
      "2025-04-23 07:51:05 - INFO - Time: 165.70s\n",
      "2025-04-23 07:51:05 - INFO - Training   - accuracy: 0.9136 - auc: 0.6436 - f1_score: 0.0133 - loss: 0.8325 - precision: 0.3027 - recall: 0.0071 - learning_rate: 0.0000\n",
      "2025-04-23 07:51:05 - INFO - Validation - accuracy: 0.9148 - auc: 0.6856 - f1_score: 0.0000 - loss: 0.8542 - precision: 0.0000 - recall: 0.0000\n",
      "2025-04-23 07:51:05 - INFO - ==================================================\n",
      "\n"
     ]
    },
    {
     "name": "stdout",
     "output_type": "stream",
     "text": [
      "\u001b[1m561/561\u001b[0m \u001b[32m━━━━━━━━━━━━━━━━━━━━\u001b[0m\u001b[37m\u001b[0m \u001b[1m166s\u001b[0m 296ms/step - accuracy: 0.9135 - auc: 0.6376 - f1_score: 0.0130 - loss: 0.8579 - precision: 0.2955 - recall: 0.0070 - val_accuracy: 0.9148 - val_auc: 0.6856 - val_f1_score: 0.0000e+00 - val_loss: 0.8542 - val_precision: 0.0000e+00 - val_recall: 0.0000e+00 - learning_rate: 5.0000e-05\n"
     ]
    },
    {
     "name": "stderr",
     "output_type": "stream",
     "text": [
      "2025-04-23 07:51:05 - INFO - \n",
      "=== Starting Epoch 6 ===\n",
      "\n"
     ]
    },
    {
     "name": "stdout",
     "output_type": "stream",
     "text": [
      "Epoch 6/100\n",
      "\u001b[1m  5/561\u001b[0m \u001b[37m━━━━━━━━━━━━━━━━━━━━\u001b[0m \u001b[1m1:37\u001b[0m 175ms/step - accuracy: 0.9160 - auc: 0.6058 - f1_score: 0.0091 - loss: 0.7803 - precision: 0.4500 - recall: 0.0047"
     ]
    },
    {
     "name": "stderr",
     "output_type": "stream",
     "text": [
      "2025-04-23 07:51:10.621767: I tensorflow/core/kernels/data/shuffle_dataset_op.cc:452] ShuffleDatasetV3:13: Filling up shuffle buffer (this may take a while): 24546 of 25000\n",
      "2025-04-23 07:51:11.115235: I tensorflow/core/kernels/data/shuffle_dataset_op.cc:482] Shuffle buffer filled.\n",
      "2025-04-23 07:51:11.239794: W tensorflow/core/kernels/data/prefetch_autotuner.cc:52] Prefetch autotuner tried to allocate 91475712 bytes after encountering the first element of size 91475712 bytes.This already causes the autotune ram budget to be exceeded. To stay within the ram budget, either increase the ram budget or reduce element size\n"
     ]
    },
    {
     "name": "stdout",
     "output_type": "stream",
     "text": [
      "\u001b[1m316/561\u001b[0m \u001b[32m━━━━━━━━━━━\u001b[0m\u001b[37m━━━━━━━━━\u001b[0m \u001b[1m1:06\u001b[0m 270ms/step - accuracy: 0.9140 - auc: 0.6581 - f1_score: 0.0177 - loss: 0.7671 - precision: 0.3540 - recall: 0.0096"
     ]
    },
    {
     "name": "stderr",
     "output_type": "stream",
     "text": [
      "2025-04-23 07:52:30.385653: W tensorflow/core/lib/png/png_io.cc:92] PNG warning: iCCP: profile 'ICC Profile': 'GRAY': Gray color space not permitted on RGB PNG\n"
     ]
    },
    {
     "name": "stdout",
     "output_type": "stream",
     "text": [
      "\u001b[1m561/561\u001b[0m \u001b[32m━━━━━━━━━━━━━━━━━━━━\u001b[0m\u001b[37m\u001b[0m \u001b[1m0s\u001b[0m 248ms/step - accuracy: 0.9137 - auc: 0.6593 - f1_score: 0.0181 - loss: 0.7590 - precision: 0.3359 - recall: 0.0099  "
     ]
    },
    {
     "name": "stderr",
     "output_type": "stream",
     "text": [
      "2025-04-23 07:53:24.498440: W tensorflow/core/kernels/data/prefetch_autotuner.cc:52] Prefetch autotuner tried to allocate 134230016 bytes after encountering the first element of size 134230016 bytes.This already causes the autotune ram budget to be exceeded. To stay within the ram budget, either increase the ram budget or reduce element size\n",
      "2025-04-23 07:53:28.256093: I tensorflow/core/kernels/data/shuffle_dataset_op.cc:452] ShuffleDatasetV3:13: Filling up shuffle buffer (this may take a while): 8050 of 25000\n",
      "2025-04-23 07:53:38.272630: I tensorflow/core/kernels/data/shuffle_dataset_op.cc:452] ShuffleDatasetV3:13: Filling up shuffle buffer (this may take a while): 12979 of 25000\n",
      "2025-04-23 07:53:56 - INFO - \n",
      "=== Epoch 6 Summary ===\n",
      "2025-04-23 07:53:56 - INFO - Time: 171.50s\n",
      "2025-04-23 07:53:56 - INFO - Training   - accuracy: 0.9133 - auc: 0.6626 - f1_score: 0.0190 - loss: 0.7393 - precision: 0.3060 - recall: 0.0104 - learning_rate: 0.0000\n",
      "2025-04-23 07:53:56 - INFO - Validation - accuracy: 0.9127 - auc: 0.6886 - f1_score: 0.0258 - loss: 0.7805 - precision: 0.3032 - recall: 0.0192\n",
      "2025-04-23 07:53:56 - INFO - ==================================================\n",
      "\n"
     ]
    },
    {
     "name": "stdout",
     "output_type": "stream",
     "text": [
      "\u001b[1m561/561\u001b[0m \u001b[32m━━━━━━━━━━━━━━━━━━━━\u001b[0m\u001b[37m\u001b[0m \u001b[1m172s\u001b[0m 306ms/step - accuracy: 0.9137 - auc: 0.6593 - f1_score: 0.0181 - loss: 0.7590 - precision: 0.3358 - recall: 0.0099 - val_accuracy: 0.9127 - val_auc: 0.6886 - val_f1_score: 0.0258 - val_loss: 0.7805 - val_precision: 0.3032 - val_recall: 0.0192 - learning_rate: 5.0000e-05\n"
     ]
    },
    {
     "name": "stderr",
     "output_type": "stream",
     "text": [
      "2025-04-23 07:53:56 - INFO - \n",
      "=== Starting Epoch 7 ===\n",
      "\n"
     ]
    },
    {
     "name": "stdout",
     "output_type": "stream",
     "text": [
      "Epoch 7/100\n",
      "\u001b[1m  6/561\u001b[0m \u001b[37m━━━━━━━━━━━━━━━━━━━━\u001b[0m \u001b[1m1:43\u001b[0m 187ms/step - accuracy: 0.9114 - auc: 0.6732 - f1_score: 0.0385 - loss: 0.7187 - precision: 0.3549 - recall: 0.0216"
     ]
    },
    {
     "name": "stderr",
     "output_type": "stream",
     "text": [
      "2025-04-23 07:53:57.722744: I tensorflow/core/kernels/data/shuffle_dataset_op.cc:482] Shuffle buffer filled.\n"
     ]
    },
    {
     "name": "stdout",
     "output_type": "stream",
     "text": [
      "\u001b[1m317/561\u001b[0m \u001b[32m━━━━━━━━━━━\u001b[0m\u001b[37m━━━━━━━━━\u001b[0m \u001b[1m1:02\u001b[0m 255ms/step - accuracy: 0.9125 - auc: 0.6638 - f1_score: 0.0182 - loss: 0.6950 - precision: 0.2650 - recall: 0.0102"
     ]
    },
    {
     "name": "stderr",
     "output_type": "stream",
     "text": [
      "2025-04-23 07:55:17.387624: W tensorflow/core/lib/png/png_io.cc:92] PNG warning: iCCP: profile 'ICC Profile': 'GRAY': Gray color space not permitted on RGB PNG\n"
     ]
    },
    {
     "name": "stdout",
     "output_type": "stream",
     "text": [
      "\u001b[1m561/561\u001b[0m \u001b[32m━━━━━━━━━━━━━━━━━━━━\u001b[0m\u001b[37m\u001b[0m \u001b[1m0s\u001b[0m 239ms/step - accuracy: 0.9127 - auc: 0.6655 - f1_score: 0.0190 - loss: 0.6861 - precision: 0.2791 - recall: 0.0107  "
     ]
    },
    {
     "name": "stderr",
     "output_type": "stream",
     "text": [
      "2025-04-23 07:56:15.210750: I tensorflow/core/kernels/data/shuffle_dataset_op.cc:452] ShuffleDatasetV3:13: Filling up shuffle buffer (this may take a while): 7767 of 25000\n",
      "2025-04-23 07:56:25.242044: I tensorflow/core/kernels/data/shuffle_dataset_op.cc:452] ShuffleDatasetV3:13: Filling up shuffle buffer (this may take a while): 13169 of 25000\n",
      "2025-04-23 07:56:42 - INFO - \n",
      "=== Epoch 7 Summary ===\n",
      "2025-04-23 07:56:42 - INFO - Time: 166.15s\n",
      "2025-04-23 07:56:42 - INFO - Training   - accuracy: 0.9130 - auc: 0.6689 - f1_score: 0.0219 - loss: 0.6678 - precision: 0.3074 - recall: 0.0123 - learning_rate: 0.0000\n",
      "2025-04-23 07:56:42 - INFO - Validation - accuracy: 0.9141 - auc: 0.6926 - f1_score: 0.0247 - loss: 0.6998 - precision: 0.3810 - recall: 0.0145\n",
      "2025-04-23 07:56:42 - INFO - ==================================================\n",
      "\n"
     ]
    },
    {
     "name": "stdout",
     "output_type": "stream",
     "text": [
      "\u001b[1m561/561\u001b[0m \u001b[32m━━━━━━━━━━━━━━━━━━━━\u001b[0m\u001b[37m\u001b[0m \u001b[1m166s\u001b[0m 296ms/step - accuracy: 0.9127 - auc: 0.6655 - f1_score: 0.0190 - loss: 0.6860 - precision: 0.2792 - recall: 0.0107 - val_accuracy: 0.9141 - val_auc: 0.6926 - val_f1_score: 0.0247 - val_loss: 0.6998 - val_precision: 0.3810 - val_recall: 0.0145 - learning_rate: 5.0000e-05\n"
     ]
    },
    {
     "name": "stderr",
     "output_type": "stream",
     "text": [
      "2025-04-23 07:56:42 - INFO - \n",
      "=== Starting Epoch 8 ===\n",
      "\n"
     ]
    },
    {
     "name": "stdout",
     "output_type": "stream",
     "text": [
      "Epoch 8/100\n",
      "\u001b[1m  5/561\u001b[0m \u001b[37m━━━━━━━━━━━━━━━━━━━━\u001b[0m \u001b[1m1:55\u001b[0m 208ms/step - accuracy: 0.9138 - auc: 0.6560 - f1_score: 0.0253 - loss: 0.6549 - precision: 0.2424 - recall: 0.0137"
     ]
    },
    {
     "name": "stderr",
     "output_type": "stream",
     "text": [
      "2025-04-23 07:56:43.831893: I tensorflow/core/kernels/data/shuffle_dataset_op.cc:482] Shuffle buffer filled.\n"
     ]
    },
    {
     "name": "stdout",
     "output_type": "stream",
     "text": [
      "\u001b[1m318/561\u001b[0m \u001b[32m━━━━━━━━━━━\u001b[0m\u001b[37m━━━━━━━━━\u001b[0m \u001b[1m1:02\u001b[0m 256ms/step - accuracy: 0.9131 - auc: 0.6758 - f1_score: 0.0251 - loss: 0.6290 - precision: 0.3414 - recall: 0.0143"
     ]
    },
    {
     "name": "stderr",
     "output_type": "stream",
     "text": [
      "2025-04-23 07:58:04.292307: W tensorflow/core/lib/png/png_io.cc:92] PNG warning: iCCP: profile 'ICC Profile': 'GRAY': Gray color space not permitted on RGB PNG\n"
     ]
    },
    {
     "name": "stdout",
     "output_type": "stream",
     "text": [
      "\u001b[1m561/561\u001b[0m \u001b[32m━━━━━━━━━━━━━━━━━━━━\u001b[0m\u001b[37m\u001b[0m \u001b[1m0s\u001b[0m 240ms/step - accuracy: 0.9131 - auc: 0.6770 - f1_score: 0.0269 - loss: 0.6228 - precision: 0.3435 - recall: 0.0153  "
     ]
    },
    {
     "name": "stderr",
     "output_type": "stream",
     "text": [
      "2025-04-23 07:59:01.485413: I tensorflow/core/kernels/data/shuffle_dataset_op.cc:452] ShuffleDatasetV3:13: Filling up shuffle buffer (this may take a while): 7875 of 25000\n",
      "2025-04-23 07:59:21.487133: I tensorflow/core/kernels/data/shuffle_dataset_op.cc:452] ShuffleDatasetV3:13: Filling up shuffle buffer (this may take a while): 17778 of 25000\n",
      "2025-04-23 07:59:25 - INFO - \n",
      "=== Epoch 8 Summary ===\n",
      "2025-04-23 07:59:25 - INFO - Time: 162.59s\n",
      "2025-04-23 07:59:25 - INFO - Training   - accuracy: 0.9131 - auc: 0.6779 - f1_score: 0.0277 - loss: 0.6100 - precision: 0.3347 - recall: 0.0158 - learning_rate: 0.0000\n",
      "2025-04-23 07:59:25 - INFO - Validation - accuracy: 0.9132 - auc: 0.6991 - f1_score: 0.0103 - loss: 0.6738 - precision: 0.1916 - recall: 0.0058\n",
      "2025-04-23 07:59:25 - INFO - ==================================================\n",
      "\n"
     ]
    },
    {
     "name": "stdout",
     "output_type": "stream",
     "text": [
      "\u001b[1m561/561\u001b[0m \u001b[32m━━━━━━━━━━━━━━━━━━━━\u001b[0m\u001b[37m\u001b[0m \u001b[1m163s\u001b[0m 290ms/step - accuracy: 0.9131 - auc: 0.6770 - f1_score: 0.0269 - loss: 0.6228 - precision: 0.3435 - recall: 0.0153 - val_accuracy: 0.9132 - val_auc: 0.6991 - val_f1_score: 0.0103 - val_loss: 0.6738 - val_precision: 0.1916 - val_recall: 0.0058 - learning_rate: 5.0000e-05\n"
     ]
    },
    {
     "name": "stderr",
     "output_type": "stream",
     "text": [
      "2025-04-23 07:59:25 - INFO - \n",
      "=== Starting Epoch 9 ===\n",
      "\n"
     ]
    },
    {
     "name": "stdout",
     "output_type": "stream",
     "text": [
      "Epoch 9/100\n",
      "\u001b[1m  8/561\u001b[0m \u001b[37m━━━━━━━━━━━━━━━━━━━━\u001b[0m \u001b[1m1:56\u001b[0m 210ms/step - accuracy: 0.9157 - auc: 0.6727 - f1_score: 0.0211 - loss: 0.5719 - precision: 0.3111 - recall: 0.0122"
     ]
    },
    {
     "name": "stderr",
     "output_type": "stream",
     "text": [
      "2025-04-23 07:59:30.147814: I tensorflow/core/kernels/data/shuffle_dataset_op.cc:482] Shuffle buffer filled.\n"
     ]
    },
    {
     "name": "stdout",
     "output_type": "stream",
     "text": [
      "\u001b[1m319/561\u001b[0m \u001b[32m━━━━━━━━━━━\u001b[0m\u001b[37m━━━━━━━━━\u001b[0m \u001b[1m1:04\u001b[0m 268ms/step - accuracy: 0.9132 - auc: 0.6810 - f1_score: 0.0242 - loss: 0.5765 - precision: 0.3354 - recall: 0.0139"
     ]
    },
    {
     "name": "stderr",
     "output_type": "stream",
     "text": [
      "2025-04-23 08:00:50.967906: W tensorflow/core/lib/png/png_io.cc:92] PNG warning: iCCP: profile 'ICC Profile': 'GRAY': Gray color space not permitted on RGB PNG\n"
     ]
    },
    {
     "name": "stdout",
     "output_type": "stream",
     "text": [
      "\u001b[1m561/561\u001b[0m \u001b[32m━━━━━━━━━━━━━━━━━━━━\u001b[0m\u001b[37m\u001b[0m \u001b[1m0s\u001b[0m 246ms/step - accuracy: 0.9131 - auc: 0.6829 - f1_score: 0.0256 - loss: 0.5728 - precision: 0.3307 - recall: 0.0148  "
     ]
    },
    {
     "name": "stderr",
     "output_type": "stream",
     "text": [
      "2025-04-23 08:01:48.757199: I tensorflow/core/kernels/data/shuffle_dataset_op.cc:452] ShuffleDatasetV3:13: Filling up shuffle buffer (this may take a while): 7960 of 25000\n",
      "2025-04-23 08:02:08.759900: I tensorflow/core/kernels/data/shuffle_dataset_op.cc:452] ShuffleDatasetV3:13: Filling up shuffle buffer (this may take a while): 18774 of 25000\n",
      "2025-04-23 08:02:16.619555: I tensorflow/core/kernels/data/shuffle_dataset_op.cc:482] Shuffle buffer filled.\n",
      "2025-04-23 08:02:16.747727: W tensorflow/core/kernels/data/prefetch_autotuner.cc:52] Prefetch autotuner tried to allocate 91475456 bytes after encountering the first element of size 91475456 bytes.This already causes the autotune ram budget to be exceeded. To stay within the ram budget, either increase the ram budget or reduce element size\n"
     ]
    },
    {
     "name": "stdout",
     "output_type": "stream",
     "text": [
      "\n",
      "Epoch 9: ReduceLROnPlateau reducing learning rate to 2.499999936844688e-05.\n"
     ]
    },
    {
     "name": "stderr",
     "output_type": "stream",
     "text": [
      "2025-04-23 08:02:27 - INFO - \n",
      "=== Epoch 9 Summary ===\n",
      "2025-04-23 08:02:27 - INFO - Time: 181.69s\n",
      "2025-04-23 08:02:27 - INFO - Training   - accuracy: 0.9128 - auc: 0.6870 - f1_score: 0.0290 - loss: 0.5638 - precision: 0.3228 - recall: 0.0172 - learning_rate: 0.0000\n",
      "2025-04-23 08:02:27 - INFO - Validation - accuracy: 0.9149 - auc: 0.7077 - f1_score: 0.0179 - loss: 0.6072 - precision: 0.5104 - recall: 0.0100\n",
      "2025-04-23 08:02:27 - INFO - ==================================================\n",
      "\n"
     ]
    },
    {
     "name": "stdout",
     "output_type": "stream",
     "text": [
      "\u001b[1m561/561\u001b[0m \u001b[32m━━━━━━━━━━━━━━━━━━━━\u001b[0m\u001b[37m\u001b[0m \u001b[1m182s\u001b[0m 324ms/step - accuracy: 0.9131 - auc: 0.6829 - f1_score: 0.0256 - loss: 0.5728 - precision: 0.3307 - recall: 0.0148 - val_accuracy: 0.9149 - val_auc: 0.7077 - val_f1_score: 0.0179 - val_loss: 0.6072 - val_precision: 0.5104 - val_recall: 0.0100 - learning_rate: 5.0000e-05\n"
     ]
    },
    {
     "name": "stderr",
     "output_type": "stream",
     "text": [
      "2025-04-23 08:02:27 - INFO - \n",
      "=== Starting Epoch 10 ===\n",
      "\n"
     ]
    },
    {
     "name": "stdout",
     "output_type": "stream",
     "text": [
      "Epoch 10/100\n",
      "\u001b[1m320/561\u001b[0m \u001b[32m━━━━━━━━━━━\u001b[0m\u001b[37m━━━━━━━━━\u001b[0m \u001b[1m57s\u001b[0m 240ms/step - accuracy: 0.9130 - auc: 0.7013 - f1_score: 0.0332 - loss: 0.5393 - precision: 0.3577 - recall: 0.0210 "
     ]
    },
    {
     "name": "stderr",
     "output_type": "stream",
     "text": [
      "2025-04-23 08:03:43.873037: W tensorflow/core/lib/png/png_io.cc:92] PNG warning: iCCP: profile 'ICC Profile': 'GRAY': Gray color space not permitted on RGB PNG\n"
     ]
    },
    {
     "name": "stdout",
     "output_type": "stream",
     "text": [
      "\u001b[1m561/561\u001b[0m \u001b[32m━━━━━━━━━━━━━━━━━━━━\u001b[0m\u001b[37m\u001b[0m \u001b[1m0s\u001b[0m 230ms/step - accuracy: 0.9129 - auc: 0.7027 - f1_score: 0.0351 - loss: 0.5364 - precision: 0.3589 - recall: 0.0222 "
     ]
    },
    {
     "name": "stderr",
     "output_type": "stream",
     "text": [
      "2025-04-23 08:04:41.674926: I tensorflow/core/kernels/data/shuffle_dataset_op.cc:452] ShuffleDatasetV3:13: Filling up shuffle buffer (this may take a while): 9743 of 25000\n",
      "2025-04-23 08:04:58.648185: I tensorflow/core/kernels/data/shuffle_dataset_op.cc:482] Shuffle buffer filled.\n",
      "2025-04-23 08:04:58.789725: W tensorflow/core/kernels/data/prefetch_autotuner.cc:52] Prefetch autotuner tried to allocate 151526912 bytes after encountering the first element of size 151526912 bytes.This already causes the autotune ram budget to be exceeded. To stay within the ram budget, either increase the ram budget or reduce element size\n",
      "2025-04-23 08:05:39 - INFO - \n",
      "=== Epoch 10 Summary ===\n",
      "2025-04-23 08:05:39 - INFO - Time: 192.25s\n",
      "2025-04-23 08:05:39 - INFO - Training   - accuracy: 0.9128 - auc: 0.7049 - f1_score: 0.0382 - loss: 0.5313 - precision: 0.3565 - recall: 0.0238 - learning_rate: 0.0000\n",
      "2025-04-23 08:05:39 - INFO - Validation - accuracy: 0.9110 - auc: 0.7169 - f1_score: 0.0639 - loss: 0.5881 - precision: 0.3323 - recall: 0.0448\n",
      "2025-04-23 08:05:39 - INFO - ==================================================\n",
      "\n"
     ]
    },
    {
     "name": "stdout",
     "output_type": "stream",
     "text": [
      "\u001b[1m561/561\u001b[0m \u001b[32m━━━━━━━━━━━━━━━━━━━━\u001b[0m\u001b[37m\u001b[0m \u001b[1m192s\u001b[0m 343ms/step - accuracy: 0.9129 - auc: 0.7027 - f1_score: 0.0351 - loss: 0.5364 - precision: 0.3589 - recall: 0.0222 - val_accuracy: 0.9110 - val_auc: 0.7169 - val_f1_score: 0.0639 - val_loss: 0.5881 - val_precision: 0.3323 - val_recall: 0.0448 - learning_rate: 2.5000e-05\n"
     ]
    },
    {
     "name": "stderr",
     "output_type": "stream",
     "text": [
      "2025-04-23 08:05:39 - INFO - \n",
      "=== Starting Epoch 11 ===\n",
      "\n"
     ]
    },
    {
     "name": "stdout",
     "output_type": "stream",
     "text": [
      "Epoch 11/100\n",
      "\u001b[1m321/561\u001b[0m \u001b[32m━━━━━━━━━━━\u001b[0m\u001b[37m━━━━━━━━━\u001b[0m \u001b[1m57s\u001b[0m 239ms/step - accuracy: 0.9124 - auc: 0.7087 - f1_score: 0.0434 - loss: 0.5246 - precision: 0.3621 - recall: 0.0270 "
     ]
    },
    {
     "name": "stderr",
     "output_type": "stream",
     "text": [
      "2025-04-23 08:06:56.358457: W tensorflow/core/lib/png/png_io.cc:92] PNG warning: iCCP: profile 'ICC Profile': 'GRAY': Gray color space not permitted on RGB PNG\n"
     ]
    },
    {
     "name": "stdout",
     "output_type": "stream",
     "text": [
      "\u001b[1m561/561\u001b[0m \u001b[32m━━━━━━━━━━━━━━━━━━━━\u001b[0m\u001b[37m\u001b[0m \u001b[1m0s\u001b[0m 230ms/step - accuracy: 0.9125 - auc: 0.7094 - f1_score: 0.0438 - loss: 0.5215 - precision: 0.3660 - recall: 0.0273 "
     ]
    },
    {
     "name": "stderr",
     "output_type": "stream",
     "text": [
      "2025-04-23 08:07:48.968309: W tensorflow/core/kernels/data/prefetch_autotuner.cc:52] Prefetch autotuner tried to allocate 134225408 bytes after encountering the first element of size 134225408 bytes.This already causes the autotune ram budget to be exceeded. To stay within the ram budget, either increase the ram budget or reduce element size\n",
      "2025-04-23 08:07:54.183125: I tensorflow/core/kernels/data/shuffle_dataset_op.cc:452] ShuffleDatasetV3:13: Filling up shuffle buffer (this may take a while): 7686 of 25000\n",
      "2025-04-23 08:08:04.195320: I tensorflow/core/kernels/data/shuffle_dataset_op.cc:452] ShuffleDatasetV3:13: Filling up shuffle buffer (this may take a while): 13066 of 25000\n",
      "2025-04-23 08:08:15 - INFO - \n",
      "=== Epoch 11 Summary ===\n",
      "2025-04-23 08:08:15 - INFO - Time: 156.34s\n",
      "2025-04-23 08:08:15 - INFO - Training   - accuracy: 0.9128 - auc: 0.7121 - f1_score: 0.0450 - loss: 0.5143 - precision: 0.3734 - recall: 0.0283 - learning_rate: 0.0000\n",
      "2025-04-23 08:08:15 - INFO - Validation - accuracy: 0.9139 - auc: 0.7230 - f1_score: 0.0282 - loss: 0.5848 - precision: 0.3812 - recall: 0.0172\n",
      "2025-04-23 08:08:15 - INFO - ==================================================\n",
      "\n"
     ]
    },
    {
     "name": "stdout",
     "output_type": "stream",
     "text": [
      "\u001b[1m561/561\u001b[0m \u001b[32m━━━━━━━━━━━━━━━━━━━━\u001b[0m\u001b[37m\u001b[0m \u001b[1m156s\u001b[0m 279ms/step - accuracy: 0.9125 - auc: 0.7094 - f1_score: 0.0438 - loss: 0.5214 - precision: 0.3660 - recall: 0.0273 - val_accuracy: 0.9139 - val_auc: 0.7230 - val_f1_score: 0.0282 - val_loss: 0.5848 - val_precision: 0.3812 - val_recall: 0.0172 - learning_rate: 2.5000e-05\n"
     ]
    },
    {
     "name": "stderr",
     "output_type": "stream",
     "text": [
      "2025-04-23 08:08:15 - INFO - \n",
      "=== Starting Epoch 12 ===\n",
      "\n"
     ]
    },
    {
     "name": "stdout",
     "output_type": "stream",
     "text": [
      "Epoch 12/100\n",
      "\u001b[1m 11/561\u001b[0m \u001b[37m━━━━━━━━━━━━━━━━━━━━\u001b[0m \u001b[1m1:45\u001b[0m 191ms/step - accuracy: 0.9133 - auc: 0.6948 - f1_score: 0.0514 - loss: 0.4775 - precision: 0.4346 - recall: 0.0321"
     ]
    },
    {
     "name": "stderr",
     "output_type": "stream",
     "text": [
      "2025-04-23 08:08:20.959225: I tensorflow/core/kernels/data/shuffle_dataset_op.cc:482] Shuffle buffer filled.\n",
      "2025-04-23 08:08:21.071088: W tensorflow/core/kernels/data/prefetch_autotuner.cc:52] Prefetch autotuner tried to allocate 91475456 bytes after encountering the first element of size 91475456 bytes.This already causes the autotune ram budget to be exceeded. To stay within the ram budget, either increase the ram budget or reduce element size\n"
     ]
    },
    {
     "name": "stdout",
     "output_type": "stream",
     "text": [
      "\u001b[1m322/561\u001b[0m \u001b[32m━━━━━━━━━━━\u001b[0m\u001b[37m━━━━━━━━━\u001b[0m \u001b[1m1:04\u001b[0m 268ms/step - accuracy: 0.9128 - auc: 0.7192 - f1_score: 0.0537 - loss: 0.4990 - precision: 0.4111 - recall: 0.0341"
     ]
    },
    {
     "name": "stderr",
     "output_type": "stream",
     "text": [
      "2025-04-23 08:09:42.261823: W tensorflow/core/lib/png/png_io.cc:92] PNG warning: iCCP: profile 'ICC Profile': 'GRAY': Gray color space not permitted on RGB PNG\n"
     ]
    },
    {
     "name": "stdout",
     "output_type": "stream",
     "text": [
      "\u001b[1m561/561\u001b[0m \u001b[32m━━━━━━━━━━━━━━━━━━━━\u001b[0m\u001b[37m\u001b[0m \u001b[1m0s\u001b[0m 247ms/step - accuracy: 0.9127 - auc: 0.7190 - f1_score: 0.0530 - loss: 0.4994 - precision: 0.4020 - recall: 0.0337  "
     ]
    },
    {
     "name": "stderr",
     "output_type": "stream",
     "text": [
      "2025-04-23 08:10:34.575052: W tensorflow/core/kernels/data/prefetch_autotuner.cc:52] Prefetch autotuner tried to allocate 134225408 bytes after encountering the first element of size 134225408 bytes.This already causes the autotune ram budget to be exceeded. To stay within the ram budget, either increase the ram budget or reduce element size\n",
      "2025-04-23 08:10:40.000796: I tensorflow/core/kernels/data/shuffle_dataset_op.cc:452] ShuffleDatasetV3:13: Filling up shuffle buffer (this may take a while): 7817 of 25000\n",
      "2025-04-23 08:10:50.003554: I tensorflow/core/kernels/data/shuffle_dataset_op.cc:452] ShuffleDatasetV3:13: Filling up shuffle buffer (this may take a while): 13276 of 25000\n",
      "2025-04-23 08:11:01 - INFO - \n",
      "=== Epoch 12 Summary ===\n",
      "2025-04-23 08:11:01 - INFO - Time: 165.90s\n",
      "2025-04-23 08:11:01 - INFO - Training   - accuracy: 0.9128 - auc: 0.7201 - f1_score: 0.0527 - loss: 0.4990 - precision: 0.3907 - recall: 0.0336 - learning_rate: 0.0000\n",
      "2025-04-23 08:11:01 - INFO - Validation - accuracy: 0.9146 - auc: 0.7291 - f1_score: 0.0351 - loss: 0.5675 - precision: 0.4686 - recall: 0.0217\n",
      "2025-04-23 08:11:01 - INFO - ==================================================\n",
      "\n"
     ]
    },
    {
     "name": "stdout",
     "output_type": "stream",
     "text": [
      "\u001b[1m561/561\u001b[0m \u001b[32m━━━━━━━━━━━━━━━━━━━━\u001b[0m\u001b[37m\u001b[0m \u001b[1m166s\u001b[0m 296ms/step - accuracy: 0.9127 - auc: 0.7190 - f1_score: 0.0530 - loss: 0.4994 - precision: 0.4020 - recall: 0.0337 - val_accuracy: 0.9146 - val_auc: 0.7291 - val_f1_score: 0.0351 - val_loss: 0.5675 - val_precision: 0.4686 - val_recall: 0.0217 - learning_rate: 2.5000e-05\n"
     ]
    },
    {
     "name": "stderr",
     "output_type": "stream",
     "text": [
      "2025-04-23 08:11:01 - INFO - \n",
      "=== Starting Epoch 13 ===\n",
      "\n"
     ]
    },
    {
     "name": "stdout",
     "output_type": "stream",
     "text": [
      "Epoch 13/100\n",
      "\u001b[1m 12/561\u001b[0m \u001b[37m━━━━━━━━━━━━━━━━━━━━\u001b[0m \u001b[1m1:45\u001b[0m 191ms/step - accuracy: 0.9131 - auc: 0.7178 - f1_score: 0.0428 - loss: 0.4878 - precision: 0.3234 - recall: 0.0293"
     ]
    },
    {
     "name": "stderr",
     "output_type": "stream",
     "text": [
      "2025-04-23 08:11:06.313142: I tensorflow/core/kernels/data/shuffle_dataset_op.cc:482] Shuffle buffer filled.\n",
      "2025-04-23 08:11:06.429087: W tensorflow/core/kernels/data/prefetch_autotuner.cc:52] Prefetch autotuner tried to allocate 108776960 bytes after encountering the first element of size 108776960 bytes.This already causes the autotune ram budget to be exceeded. To stay within the ram budget, either increase the ram budget or reduce element size\n"
     ]
    },
    {
     "name": "stdout",
     "output_type": "stream",
     "text": [
      "\u001b[1m323/561\u001b[0m \u001b[32m━━━━━━━━━━━\u001b[0m\u001b[37m━━━━━━━━━\u001b[0m \u001b[1m1:02\u001b[0m 261ms/step - accuracy: 0.9123 - auc: 0.7251 - f1_score: 0.0523 - loss: 0.4879 - precision: 0.3747 - recall: 0.0334"
     ]
    },
    {
     "name": "stderr",
     "output_type": "stream",
     "text": [
      "2025-04-23 08:12:25.966381: W tensorflow/core/lib/png/png_io.cc:92] PNG warning: iCCP: profile 'ICC Profile': 'GRAY': Gray color space not permitted on RGB PNG\n"
     ]
    },
    {
     "name": "stdout",
     "output_type": "stream",
     "text": [
      "\u001b[1m561/561\u001b[0m \u001b[32m━━━━━━━━━━━━━━━━━━━━\u001b[0m\u001b[37m\u001b[0m \u001b[1m0s\u001b[0m 243ms/step - accuracy: 0.9124 - auc: 0.7253 - f1_score: 0.0535 - loss: 0.4879 - precision: 0.3801 - recall: 0.0342  "
     ]
    },
    {
     "name": "stderr",
     "output_type": "stream",
     "text": [
      "2025-04-23 08:13:18.141300: W tensorflow/core/kernels/data/prefetch_autotuner.cc:52] Prefetch autotuner tried to allocate 134225408 bytes after encountering the first element of size 134225408 bytes.This already causes the autotune ram budget to be exceeded. To stay within the ram budget, either increase the ram budget or reduce element size\n",
      "2025-04-23 08:13:23.744438: I tensorflow/core/kernels/data/shuffle_dataset_op.cc:452] ShuffleDatasetV3:13: Filling up shuffle buffer (this may take a while): 7710 of 25000\n",
      "2025-04-23 08:13:33.750298: I tensorflow/core/kernels/data/shuffle_dataset_op.cc:452] ShuffleDatasetV3:13: Filling up shuffle buffer (this may take a while): 13326 of 25000\n"
     ]
    },
    {
     "name": "stdout",
     "output_type": "stream",
     "text": [
      "\n",
      "Epoch 13: ReduceLROnPlateau reducing learning rate to 1.249999968422344e-05.\n"
     ]
    },
    {
     "name": "stderr",
     "output_type": "stream",
     "text": [
      "2025-04-23 08:13:46 - INFO - \n",
      "=== Epoch 13 Summary ===\n",
      "2025-04-23 08:13:46 - INFO - Time: 164.34s\n",
      "2025-04-23 08:13:46 - INFO - Training   - accuracy: 0.9127 - auc: 0.7257 - f1_score: 0.0547 - loss: 0.4865 - precision: 0.3901 - recall: 0.0351 - learning_rate: 0.0000\n",
      "2025-04-23 08:13:46 - INFO - Validation - accuracy: 0.9131 - auc: 0.7327 - f1_score: 0.0350 - loss: 0.5558 - precision: 0.3433 - recall: 0.0227\n",
      "2025-04-23 08:13:46 - INFO - ==================================================\n",
      "\n"
     ]
    },
    {
     "name": "stdout",
     "output_type": "stream",
     "text": [
      "\u001b[1m561/561\u001b[0m \u001b[32m━━━━━━━━━━━━━━━━━━━━\u001b[0m\u001b[37m\u001b[0m \u001b[1m164s\u001b[0m 293ms/step - accuracy: 0.9124 - auc: 0.7253 - f1_score: 0.0535 - loss: 0.4879 - precision: 0.3801 - recall: 0.0342 - val_accuracy: 0.9131 - val_auc: 0.7327 - val_f1_score: 0.0350 - val_loss: 0.5558 - val_precision: 0.3433 - val_recall: 0.0227 - learning_rate: 2.5000e-05\n"
     ]
    },
    {
     "name": "stderr",
     "output_type": "stream",
     "text": [
      "2025-04-23 08:13:46 - INFO - \n",
      "=== Starting Epoch 14 ===\n",
      "\n"
     ]
    },
    {
     "name": "stdout",
     "output_type": "stream",
     "text": [
      "Epoch 14/100\n",
      "\u001b[1m 13/561\u001b[0m \u001b[37m━━━━━━━━━━━━━━━━━━━━\u001b[0m \u001b[1m1:47\u001b[0m 197ms/step - accuracy: 0.9138 - auc: 0.7210 - f1_score: 0.0515 - loss: 0.4654 - precision: 0.4490 - recall: 0.0343"
     ]
    },
    {
     "name": "stderr",
     "output_type": "stream",
     "text": [
      "2025-04-23 08:13:49.989502: I tensorflow/core/kernels/data/shuffle_dataset_op.cc:482] Shuffle buffer filled.\n",
      "2025-04-23 08:13:50.111733: W tensorflow/core/kernels/data/prefetch_autotuner.cc:52] Prefetch autotuner tried to allocate 91475456 bytes after encountering the first element of size 91475456 bytes.This already causes the autotune ram budget to be exceeded. To stay within the ram budget, either increase the ram budget or reduce element size\n"
     ]
    },
    {
     "name": "stdout",
     "output_type": "stream",
     "text": [
      "\u001b[1m324/561\u001b[0m \u001b[32m━━━━━━━━━━━\u001b[0m\u001b[37m━━━━━━━━━\u001b[0m \u001b[1m1:01\u001b[0m 258ms/step - accuracy: 0.9131 - auc: 0.7313 - f1_score: 0.0587 - loss: 0.4773 - precision: 0.4287 - recall: 0.0383"
     ]
    },
    {
     "name": "stderr",
     "output_type": "stream",
     "text": [
      "2025-04-23 08:15:09.860380: W tensorflow/core/lib/png/png_io.cc:92] PNG warning: iCCP: profile 'ICC Profile': 'GRAY': Gray color space not permitted on RGB PNG\n"
     ]
    },
    {
     "name": "stdout",
     "output_type": "stream",
     "text": [
      "\u001b[1m561/561\u001b[0m \u001b[32m━━━━━━━━━━━━━━━━━━━━\u001b[0m\u001b[37m\u001b[0m \u001b[1m0s\u001b[0m 241ms/step - accuracy: 0.9131 - auc: 0.7332 - f1_score: 0.0602 - loss: 0.4767 - precision: 0.4289 - recall: 0.0394  "
     ]
    },
    {
     "name": "stderr",
     "output_type": "stream",
     "text": [
      "2025-04-23 08:16:01.841096: W tensorflow/core/kernels/data/prefetch_autotuner.cc:52] Prefetch autotuner tried to allocate 131055104 bytes after encountering the first element of size 131055104 bytes.This already causes the autotune ram budget to be exceeded. To stay within the ram budget, either increase the ram budget or reduce element size\n",
      "2025-04-23 08:16:07.637178: I tensorflow/core/kernels/data/shuffle_dataset_op.cc:452] ShuffleDatasetV3:13: Filling up shuffle buffer (this may take a while): 7623 of 25000\n",
      "2025-04-23 08:16:17.647726: I tensorflow/core/kernels/data/shuffle_dataset_op.cc:452] ShuffleDatasetV3:13: Filling up shuffle buffer (this may take a while): 13203 of 25000\n",
      "2025-04-23 08:16:27.649286: I tensorflow/core/kernels/data/shuffle_dataset_op.cc:452] ShuffleDatasetV3:13: Filling up shuffle buffer (this may take a while): 18762 of 25000\n",
      "2025-04-23 08:16:29 - INFO - \n",
      "=== Epoch 14 Summary ===\n",
      "2025-04-23 08:16:29 - INFO - Time: 163.45s\n",
      "2025-04-23 08:16:29 - INFO - Training   - accuracy: 0.9132 - auc: 0.7374 - f1_score: 0.0639 - loss: 0.4750 - precision: 0.4301 - recall: 0.0416 - learning_rate: 0.0000\n",
      "2025-04-23 08:16:29 - INFO - Validation - accuracy: 0.9141 - auc: 0.7406 - f1_score: 0.0584 - loss: 0.5374 - precision: 0.4479 - recall: 0.0355\n",
      "2025-04-23 08:16:29 - INFO - ==================================================\n",
      "\n"
     ]
    },
    {
     "name": "stdout",
     "output_type": "stream",
     "text": [
      "\u001b[1m561/561\u001b[0m \u001b[32m━━━━━━━━━━━━━━━━━━━━\u001b[0m\u001b[37m\u001b[0m \u001b[1m163s\u001b[0m 292ms/step - accuracy: 0.9131 - auc: 0.7332 - f1_score: 0.0602 - loss: 0.4767 - precision: 0.4289 - recall: 0.0394 - val_accuracy: 0.9141 - val_auc: 0.7406 - val_f1_score: 0.0584 - val_loss: 0.5374 - val_precision: 0.4479 - val_recall: 0.0355 - learning_rate: 1.2500e-05\n"
     ]
    },
    {
     "name": "stderr",
     "output_type": "stream",
     "text": [
      "2025-04-23 08:16:29 - INFO - \n",
      "=== Starting Epoch 15 ===\n",
      "\n"
     ]
    },
    {
     "name": "stdout",
     "output_type": "stream",
     "text": [
      "Epoch 15/100\n",
      "\u001b[1m 14/561\u001b[0m \u001b[37m━━━━━━━━━━━━━━━━━━━━\u001b[0m \u001b[1m1:45\u001b[0m 194ms/step - accuracy: 0.9129 - auc: 0.7161 - f1_score: 0.0667 - loss: 0.4769 - precision: 0.4354 - recall: 0.0434"
     ]
    },
    {
     "name": "stderr",
     "output_type": "stream",
     "text": [
      "2025-04-23 08:16:33.729529: I tensorflow/core/kernels/data/shuffle_dataset_op.cc:482] Shuffle buffer filled.\n",
      "2025-04-23 08:16:33.836040: W tensorflow/core/kernels/data/prefetch_autotuner.cc:52] Prefetch autotuner tried to allocate 91475456 bytes after encountering the first element of size 91475456 bytes.This already causes the autotune ram budget to be exceeded. To stay within the ram budget, either increase the ram budget or reduce element size\n"
     ]
    },
    {
     "name": "stdout",
     "output_type": "stream",
     "text": [
      "\u001b[1m325/561\u001b[0m \u001b[32m━━━━━━━━━━━\u001b[0m\u001b[37m━━━━━━━━━\u001b[0m \u001b[1m1:01\u001b[0m 261ms/step - accuracy: 0.9126 - auc: 0.7345 - f1_score: 0.0655 - loss: 0.4718 - precision: 0.4141 - recall: 0.0432"
     ]
    },
    {
     "name": "stderr",
     "output_type": "stream",
     "text": [
      "2025-04-23 08:17:54.422413: W tensorflow/core/lib/png/png_io.cc:92] PNG warning: iCCP: profile 'ICC Profile': 'GRAY': Gray color space not permitted on RGB PNG\n"
     ]
    },
    {
     "name": "stdout",
     "output_type": "stream",
     "text": [
      "\u001b[1m561/561\u001b[0m \u001b[32m━━━━━━━━━━━━━━━━━━━━\u001b[0m\u001b[37m\u001b[0m \u001b[1m0s\u001b[0m 243ms/step - accuracy: 0.9128 - auc: 0.7356 - f1_score: 0.0661 - loss: 0.4712 - precision: 0.4180 - recall: 0.0438  "
     ]
    },
    {
     "name": "stderr",
     "output_type": "stream",
     "text": [
      "2025-04-23 08:18:52.203019: I tensorflow/core/kernels/data/shuffle_dataset_op.cc:452] ShuffleDatasetV3:13: Filling up shuffle buffer (this may take a while): 7627 of 25000\n",
      "2025-04-23 08:19:12.181557: I tensorflow/core/kernels/data/shuffle_dataset_op.cc:452] ShuffleDatasetV3:13: Filling up shuffle buffer (this may take a while): 18771 of 25000\n",
      "2025-04-23 08:19:13 - INFO - \n",
      "=== Epoch 15 Summary ===\n",
      "2025-04-23 08:19:13 - INFO - Time: 163.76s\n",
      "2025-04-23 08:19:13 - INFO - Training   - accuracy: 0.9131 - auc: 0.7387 - f1_score: 0.0688 - loss: 0.4700 - precision: 0.4276 - recall: 0.0454 - learning_rate: 0.0000\n",
      "2025-04-23 08:19:13 - INFO - Validation - accuracy: 0.9124 - auc: 0.7367 - f1_score: 0.0489 - loss: 0.5477 - precision: 0.3548 - recall: 0.0346\n",
      "2025-04-23 08:19:13 - INFO - ==================================================\n",
      "\n"
     ]
    },
    {
     "name": "stdout",
     "output_type": "stream",
     "text": [
      "\u001b[1m561/561\u001b[0m \u001b[32m━━━━━━━━━━━━━━━━━━━━\u001b[0m\u001b[37m\u001b[0m \u001b[1m164s\u001b[0m 292ms/step - accuracy: 0.9128 - auc: 0.7356 - f1_score: 0.0661 - loss: 0.4712 - precision: 0.4180 - recall: 0.0438 - val_accuracy: 0.9124 - val_auc: 0.7367 - val_f1_score: 0.0489 - val_loss: 0.5477 - val_precision: 0.3548 - val_recall: 0.0346 - learning_rate: 1.2500e-05\n"
     ]
    },
    {
     "name": "stderr",
     "output_type": "stream",
     "text": [
      "2025-04-23 08:19:13 - INFO - \n",
      "=== Starting Epoch 16 ===\n",
      "\n"
     ]
    },
    {
     "name": "stdout",
     "output_type": "stream",
     "text": [
      "Epoch 16/100\n",
      "\u001b[1m 15/561\u001b[0m \u001b[37m━━━━━━━━━━━━━━━━━━━━\u001b[0m \u001b[1m1:46\u001b[0m 194ms/step - accuracy: 0.9140 - auc: 0.7168 - f1_score: 0.0682 - loss: 0.4535 - precision: 0.4277 - recall: 0.0471"
     ]
    },
    {
     "name": "stderr",
     "output_type": "stream",
     "text": [
      "2025-04-23 08:19:18.103029: I tensorflow/core/kernels/data/shuffle_dataset_op.cc:482] Shuffle buffer filled.\n",
      "2025-04-23 08:19:18.211544: W tensorflow/core/kernels/data/prefetch_autotuner.cc:52] Prefetch autotuner tried to allocate 134225408 bytes after encountering the first element of size 134225408 bytes.This already causes the autotune ram budget to be exceeded. To stay within the ram budget, either increase the ram budget or reduce element size\n"
     ]
    },
    {
     "name": "stdout",
     "output_type": "stream",
     "text": [
      "\u001b[1m326/561\u001b[0m \u001b[32m━━━━━━━━━━━\u001b[0m\u001b[37m━━━━━━━━━\u001b[0m \u001b[1m1:00\u001b[0m 256ms/step - accuracy: 0.9128 - auc: 0.7410 - f1_score: 0.0667 - loss: 0.4654 - precision: 0.4136 - recall: 0.0448"
     ]
    },
    {
     "name": "stderr",
     "output_type": "stream",
     "text": [
      "2025-04-23 08:20:36.665681: W tensorflow/core/lib/png/png_io.cc:92] PNG warning: iCCP: profile 'ICC Profile': 'GRAY': Gray color space not permitted on RGB PNG\n"
     ]
    },
    {
     "name": "stdout",
     "output_type": "stream",
     "text": [
      "\u001b[1m561/561\u001b[0m \u001b[32m━━━━━━━━━━━━━━━━━━━━\u001b[0m\u001b[37m\u001b[0m \u001b[1m0s\u001b[0m 240ms/step - accuracy: 0.9127 - auc: 0.7415 - f1_score: 0.0666 - loss: 0.4657 - precision: 0.4142 - recall: 0.0446  "
     ]
    },
    {
     "name": "stderr",
     "output_type": "stream",
     "text": [
      "2025-04-23 08:21:34.498863: I tensorflow/core/kernels/data/shuffle_dataset_op.cc:452] ShuffleDatasetV3:13: Filling up shuffle buffer (this may take a while): 7506 of 25000\n",
      "2025-04-23 08:21:44.512026: I tensorflow/core/kernels/data/shuffle_dataset_op.cc:452] ShuffleDatasetV3:13: Filling up shuffle buffer (this may take a while): 12937 of 25000\n"
     ]
    },
    {
     "name": "stdout",
     "output_type": "stream",
     "text": [
      "\n",
      "Epoch 16: ReduceLROnPlateau reducing learning rate to 6.24999984211172e-06.\n"
     ]
    },
    {
     "name": "stderr",
     "output_type": "stream",
     "text": [
      "2025-04-23 08:21:55 - INFO - \n",
      "=== Epoch 16 Summary ===\n",
      "2025-04-23 08:21:55 - INFO - Time: 162.57s\n",
      "2025-04-23 08:21:55 - INFO - Training   - accuracy: 0.9129 - auc: 0.7439 - f1_score: 0.0685 - loss: 0.4645 - precision: 0.4236 - recall: 0.0456 - learning_rate: 0.0000\n",
      "2025-04-23 08:21:55 - INFO - Validation - accuracy: 0.9105 - auc: 0.7310 - f1_score: 0.0481 - loss: 0.5453 - precision: 0.2823 - recall: 0.0327\n",
      "2025-04-23 08:21:55 - INFO - ==================================================\n",
      "\n"
     ]
    },
    {
     "name": "stdout",
     "output_type": "stream",
     "text": [
      "\u001b[1m561/561\u001b[0m \u001b[32m━━━━━━━━━━━━━━━━━━━━\u001b[0m\u001b[37m\u001b[0m \u001b[1m163s\u001b[0m 290ms/step - accuracy: 0.9127 - auc: 0.7415 - f1_score: 0.0666 - loss: 0.4657 - precision: 0.4142 - recall: 0.0446 - val_accuracy: 0.9105 - val_auc: 0.7310 - val_f1_score: 0.0481 - val_loss: 0.5453 - val_precision: 0.2823 - val_recall: 0.0327 - learning_rate: 1.2500e-05\n"
     ]
    },
    {
     "name": "stderr",
     "output_type": "stream",
     "text": [
      "2025-04-23 08:21:55 - INFO - \n",
      "=== Starting Epoch 17 ===\n",
      "\n"
     ]
    },
    {
     "name": "stdout",
     "output_type": "stream",
     "text": [
      "Epoch 17/100\n",
      "\u001b[1m 16/561\u001b[0m \u001b[37m━━━━━━━━━━━━━━━━━━━━\u001b[0m \u001b[1m1:46\u001b[0m 196ms/step - accuracy: 0.9151 - auc: 0.7067 - f1_score: 0.0749 - loss: 0.4616 - precision: 0.4217 - recall: 0.0480"
     ]
    },
    {
     "name": "stderr",
     "output_type": "stream",
     "text": [
      "2025-04-23 08:22:00.859504: I tensorflow/core/kernels/data/shuffle_dataset_op.cc:482] Shuffle buffer filled.\n",
      "2025-04-23 08:22:00.971873: W tensorflow/core/kernels/data/prefetch_autotuner.cc:52] Prefetch autotuner tried to allocate 134225408 bytes after encountering the first element of size 134225408 bytes.This already causes the autotune ram budget to be exceeded. To stay within the ram budget, either increase the ram budget or reduce element size\n"
     ]
    },
    {
     "name": "stdout",
     "output_type": "stream",
     "text": [
      "\u001b[1m327/561\u001b[0m \u001b[32m━━━━━━━━━━━\u001b[0m\u001b[37m━━━━━━━━━\u001b[0m \u001b[1m1:00\u001b[0m 260ms/step - accuracy: 0.9134 - auc: 0.7405 - f1_score: 0.0723 - loss: 0.4614 - precision: 0.4292 - recall: 0.0468"
     ]
    },
    {
     "name": "stderr",
     "output_type": "stream",
     "text": [
      "2025-04-23 08:23:21.111398: W tensorflow/core/lib/png/png_io.cc:92] PNG warning: iCCP: profile 'ICC Profile': 'GRAY': Gray color space not permitted on RGB PNG\n"
     ]
    },
    {
     "name": "stdout",
     "output_type": "stream",
     "text": [
      "\u001b[1m561/561\u001b[0m \u001b[32m━━━━━━━━━━━━━━━━━━━━\u001b[0m\u001b[37m\u001b[0m \u001b[1m0s\u001b[0m 243ms/step - accuracy: 0.9133 - auc: 0.7439 - f1_score: 0.0728 - loss: 0.4613 - precision: 0.4320 - recall: 0.0477  "
     ]
    },
    {
     "name": "stderr",
     "output_type": "stream",
     "text": [
      "2025-04-23 08:24:12.402379: W tensorflow/core/kernels/data/prefetch_autotuner.cc:52] Prefetch autotuner tried to allocate 134225408 bytes after encountering the first element of size 134225408 bytes.This already causes the autotune ram budget to be exceeded. To stay within the ram budget, either increase the ram budget or reduce element size\n",
      "2025-04-23 08:24:18.879778: I tensorflow/core/kernels/data/shuffle_dataset_op.cc:452] ShuffleDatasetV3:13: Filling up shuffle buffer (this may take a while): 7387 of 25000\n",
      "2025-04-23 08:24:38.881129: I tensorflow/core/kernels/data/shuffle_dataset_op.cc:452] ShuffleDatasetV3:13: Filling up shuffle buffer (this may take a while): 18766 of 25000\n",
      "2025-04-23 08:24:40 - INFO - \n",
      "=== Epoch 17 Summary ===\n",
      "2025-04-23 08:24:40 - INFO - Time: 164.79s\n",
      "2025-04-23 08:24:40 - INFO - Training   - accuracy: 0.9133 - auc: 0.7504 - f1_score: 0.0751 - loss: 0.4600 - precision: 0.4418 - recall: 0.0500 - learning_rate: 0.0000\n",
      "2025-04-23 08:24:40 - INFO - Validation - accuracy: 0.9144 - auc: 0.7442 - f1_score: 0.0868 - loss: 0.5256 - precision: 0.4772 - recall: 0.0561\n",
      "2025-04-23 08:24:40 - INFO - ==================================================\n",
      "\n"
     ]
    },
    {
     "name": "stdout",
     "output_type": "stream",
     "text": [
      "\u001b[1m561/561\u001b[0m \u001b[32m━━━━━━━━━━━━━━━━━━━━\u001b[0m\u001b[37m\u001b[0m \u001b[1m165s\u001b[0m 294ms/step - accuracy: 0.9133 - auc: 0.7439 - f1_score: 0.0728 - loss: 0.4613 - precision: 0.4320 - recall: 0.0477 - val_accuracy: 0.9144 - val_auc: 0.7442 - val_f1_score: 0.0868 - val_loss: 0.5256 - val_precision: 0.4772 - val_recall: 0.0561 - learning_rate: 6.2500e-06\n"
     ]
    },
    {
     "name": "stderr",
     "output_type": "stream",
     "text": [
      "2025-04-23 08:24:40 - INFO - \n",
      "=== Starting Epoch 18 ===\n",
      "\n"
     ]
    },
    {
     "name": "stdout",
     "output_type": "stream",
     "text": [
      "Epoch 18/100\n",
      "\u001b[1m 17/561\u001b[0m \u001b[37m━━━━━━━━━━━━━━━━━━━━\u001b[0m \u001b[1m1:46\u001b[0m 195ms/step - accuracy: 0.9132 - auc: 0.7496 - f1_score: 0.0786 - loss: 0.4538 - precision: 0.4231 - recall: 0.0515"
     ]
    },
    {
     "name": "stderr",
     "output_type": "stream",
     "text": [
      "2025-04-23 08:24:44.829439: I tensorflow/core/kernels/data/shuffle_dataset_op.cc:482] Shuffle buffer filled.\n",
      "2025-04-23 08:24:44.942750: W tensorflow/core/kernels/data/prefetch_autotuner.cc:52] Prefetch autotuner tried to allocate 108776960 bytes after encountering the first element of size 108776960 bytes.This already causes the autotune ram budget to be exceeded. To stay within the ram budget, either increase the ram budget or reduce element size\n"
     ]
    },
    {
     "name": "stdout",
     "output_type": "stream",
     "text": [
      "\u001b[1m328/561\u001b[0m \u001b[32m━━━━━━━━━━━\u001b[0m\u001b[37m━━━━━━━━━\u001b[0m \u001b[1m59s\u001b[0m 257ms/step - accuracy: 0.9134 - auc: 0.7528 - f1_score: 0.0828 - loss: 0.4552 - precision: 0.4527 - recall: 0.0555 "
     ]
    },
    {
     "name": "stderr",
     "output_type": "stream",
     "text": [
      "2025-04-23 08:26:05.075584: W tensorflow/core/lib/png/png_io.cc:92] PNG warning: iCCP: profile 'ICC Profile': 'GRAY': Gray color space not permitted on RGB PNG\n"
     ]
    },
    {
     "name": "stdout",
     "output_type": "stream",
     "text": [
      "\u001b[1m561/561\u001b[0m \u001b[32m━━━━━━━━━━━━━━━━━━━━\u001b[0m\u001b[37m\u001b[0m \u001b[1m0s\u001b[0m 241ms/step - accuracy: 0.9133 - auc: 0.7534 - f1_score: 0.0828 - loss: 0.4560 - precision: 0.4522 - recall: 0.0554 "
     ]
    },
    {
     "name": "stderr",
     "output_type": "stream",
     "text": [
      "2025-04-23 08:27:02.837946: I tensorflow/core/kernels/data/shuffle_dataset_op.cc:452] ShuffleDatasetV3:13: Filling up shuffle buffer (this may take a while): 7316 of 25000\n",
      "2025-04-23 08:27:12.838529: I tensorflow/core/kernels/data/shuffle_dataset_op.cc:452] ShuffleDatasetV3:13: Filling up shuffle buffer (this may take a while): 12955 of 25000\n",
      "2025-04-23 08:27:22.839011: I tensorflow/core/kernels/data/shuffle_dataset_op.cc:452] ShuffleDatasetV3:13: Filling up shuffle buffer (this may take a while): 18649 of 25000\n",
      "2025-04-23 08:27:23 - INFO - \n",
      "=== Epoch 18 Summary ===\n",
      "2025-04-23 08:27:23 - INFO - Time: 162.41s\n",
      "2025-04-23 08:27:23 - INFO - Training   - accuracy: 0.9134 - auc: 0.7541 - f1_score: 0.0829 - loss: 0.4570 - precision: 0.4541 - recall: 0.0552 - learning_rate: 0.0000\n",
      "2025-04-23 08:27:23 - INFO - Validation - accuracy: 0.9124 - auc: 0.7430 - f1_score: 0.0669 - loss: 0.5365 - precision: 0.3957 - recall: 0.0535\n",
      "2025-04-23 08:27:23 - INFO - ==================================================\n",
      "\n"
     ]
    },
    {
     "name": "stdout",
     "output_type": "stream",
     "text": [
      "\u001b[1m561/561\u001b[0m \u001b[32m━━━━━━━━━━━━━━━━━━━━\u001b[0m\u001b[37m\u001b[0m \u001b[1m162s\u001b[0m 290ms/step - accuracy: 0.9133 - auc: 0.7534 - f1_score: 0.0828 - loss: 0.4560 - precision: 0.4522 - recall: 0.0554 - val_accuracy: 0.9124 - val_auc: 0.7430 - val_f1_score: 0.0669 - val_loss: 0.5365 - val_precision: 0.3957 - val_recall: 0.0535 - learning_rate: 6.2500e-06\n"
     ]
    },
    {
     "name": "stderr",
     "output_type": "stream",
     "text": [
      "2025-04-23 08:27:23 - INFO - \n",
      "=== Starting Epoch 19 ===\n",
      "\n"
     ]
    },
    {
     "name": "stdout",
     "output_type": "stream",
     "text": [
      "Epoch 19/100\n",
      "\u001b[1m 18/561\u001b[0m \u001b[37m━━━━━━━━━━━━━━━━━━━━\u001b[0m \u001b[1m1:47\u001b[0m 197ms/step - accuracy: 0.9127 - auc: 0.7387 - f1_score: 0.0786 - loss: 0.4393 - precision: 0.4547 - recall: 0.0558"
     ]
    },
    {
     "name": "stderr",
     "output_type": "stream",
     "text": [
      "2025-04-23 08:27:28.498055: I tensorflow/core/kernels/data/shuffle_dataset_op.cc:482] Shuffle buffer filled.\n",
      "2025-04-23 08:27:28.607986: W tensorflow/core/kernels/data/prefetch_autotuner.cc:52] Prefetch autotuner tried to allocate 91475456 bytes after encountering the first element of size 91475456 bytes.This already causes the autotune ram budget to be exceeded. To stay within the ram budget, either increase the ram budget or reduce element size\n"
     ]
    },
    {
     "name": "stdout",
     "output_type": "stream",
     "text": [
      "\u001b[1m329/561\u001b[0m \u001b[32m━━━━━━━━━━━\u001b[0m\u001b[37m━━━━━━━━━\u001b[0m \u001b[1m1:00\u001b[0m 262ms/step - accuracy: 0.9136 - auc: 0.7529 - f1_score: 0.0793 - loss: 0.4534 - precision: 0.4520 - recall: 0.0536"
     ]
    },
    {
     "name": "stderr",
     "output_type": "stream",
     "text": [
      "2025-04-23 08:28:49.594397: W tensorflow/core/lib/png/png_io.cc:92] PNG warning: iCCP: profile 'ICC Profile': 'GRAY': Gray color space not permitted on RGB PNG\n"
     ]
    },
    {
     "name": "stdout",
     "output_type": "stream",
     "text": [
      "\u001b[1m561/561\u001b[0m \u001b[32m━━━━━━━━━━━━━━━━━━━━\u001b[0m\u001b[37m\u001b[0m \u001b[1m0s\u001b[0m 244ms/step - accuracy: 0.9136 - auc: 0.7537 - f1_score: 0.0805 - loss: 0.4536 - precision: 0.4547 - recall: 0.0542  "
     ]
    },
    {
     "name": "stderr",
     "output_type": "stream",
     "text": [
      "2025-04-23 08:29:47.373607: I tensorflow/core/kernels/data/shuffle_dataset_op.cc:452] ShuffleDatasetV3:13: Filling up shuffle buffer (this may take a while): 7207 of 25000\n",
      "2025-04-23 08:29:57.380098: I tensorflow/core/kernels/data/shuffle_dataset_op.cc:452] ShuffleDatasetV3:13: Filling up shuffle buffer (this may take a while): 12895 of 25000\n",
      "2025-04-23 08:30:07 - INFO - \n",
      "=== Epoch 19 Summary ===\n",
      "2025-04-23 08:30:07 - INFO - Time: 164.27s\n",
      "2025-04-23 08:30:07 - INFO - Training   - accuracy: 0.9135 - auc: 0.7556 - f1_score: 0.0833 - loss: 0.4534 - precision: 0.4591 - recall: 0.0558 - learning_rate: 0.0000\n",
      "2025-04-23 08:30:07 - INFO - Validation - accuracy: 0.9141 - auc: 0.7429 - f1_score: 0.0782 - loss: 0.5358 - precision: 0.4648 - recall: 0.0561\n",
      "2025-04-23 08:30:07 - INFO - ==================================================\n",
      "\n"
     ]
    },
    {
     "name": "stdout",
     "output_type": "stream",
     "text": [
      "\u001b[1m561/561\u001b[0m \u001b[32m━━━━━━━━━━━━━━━━━━━━\u001b[0m\u001b[37m\u001b[0m \u001b[1m164s\u001b[0m 293ms/step - accuracy: 0.9136 - auc: 0.7537 - f1_score: 0.0805 - loss: 0.4536 - precision: 0.4547 - recall: 0.0542 - val_accuracy: 0.9141 - val_auc: 0.7429 - val_f1_score: 0.0782 - val_loss: 0.5358 - val_precision: 0.4648 - val_recall: 0.0561 - learning_rate: 6.2500e-06\n"
     ]
    },
    {
     "name": "stderr",
     "output_type": "stream",
     "text": [
      "2025-04-23 08:30:07 - INFO - \n",
      "=== Starting Epoch 20 ===\n",
      "\n"
     ]
    },
    {
     "name": "stdout",
     "output_type": "stream",
     "text": [
      "Epoch 20/100\n",
      "\u001b[1m 19/561\u001b[0m \u001b[37m━━━━━━━━━━━━━━━━━━━━\u001b[0m \u001b[1m1:45\u001b[0m 195ms/step - accuracy: 0.9128 - auc: 0.7651 - f1_score: 0.0951 - loss: 0.4724 - precision: 0.4798 - recall: 0.0636"
     ]
    },
    {
     "name": "stderr",
     "output_type": "stream",
     "text": [
      "2025-04-23 08:30:12.941733: I tensorflow/core/kernels/data/shuffle_dataset_op.cc:482] Shuffle buffer filled.\n",
      "2025-04-23 08:30:13.056359: W tensorflow/core/kernels/data/prefetch_autotuner.cc:52] Prefetch autotuner tried to allocate 91475456 bytes after encountering the first element of size 91475456 bytes.This already causes the autotune ram budget to be exceeded. To stay within the ram budget, either increase the ram budget or reduce element size\n"
     ]
    },
    {
     "name": "stdout",
     "output_type": "stream",
     "text": [
      "\u001b[1m330/561\u001b[0m \u001b[32m━━━━━━━━━━━\u001b[0m\u001b[37m━━━━━━━━━\u001b[0m \u001b[1m59s\u001b[0m 256ms/step - accuracy: 0.9132 - auc: 0.7613 - f1_score: 0.0860 - loss: 0.4546 - precision: 0.4555 - recall: 0.0574 "
     ]
    },
    {
     "name": "stderr",
     "output_type": "stream",
     "text": [
      "2025-04-23 08:31:31.936453: W tensorflow/core/lib/png/png_io.cc:92] PNG warning: iCCP: profile 'ICC Profile': 'GRAY': Gray color space not permitted on RGB PNG\n"
     ]
    },
    {
     "name": "stdout",
     "output_type": "stream",
     "text": [
      "\u001b[1m561/561\u001b[0m \u001b[32m━━━━━━━━━━━━━━━━━━━━\u001b[0m\u001b[37m\u001b[0m \u001b[1m0s\u001b[0m 241ms/step - accuracy: 0.9133 - auc: 0.7601 - f1_score: 0.0850 - loss: 0.4538 - precision: 0.4543 - recall: 0.0567 "
     ]
    },
    {
     "name": "stderr",
     "output_type": "stream",
     "text": [
      "2025-04-23 08:32:29.981432: I tensorflow/core/kernels/data/shuffle_dataset_op.cc:452] ShuffleDatasetV3:13: Filling up shuffle buffer (this may take a while): 7033 of 25000\n",
      "2025-04-23 08:32:49.979716: I tensorflow/core/kernels/data/shuffle_dataset_op.cc:452] ShuffleDatasetV3:13: Filling up shuffle buffer (this may take a while): 18675 of 25000\n"
     ]
    },
    {
     "name": "stdout",
     "output_type": "stream",
     "text": [
      "\n",
      "Epoch 20: ReduceLROnPlateau reducing learning rate to 3.12499992105586e-06.\n"
     ]
    },
    {
     "name": "stderr",
     "output_type": "stream",
     "text": [
      "2025-04-23 08:32:50 - INFO - \n",
      "=== Epoch 20 Summary ===\n",
      "2025-04-23 08:32:50 - INFO - Time: 162.75s\n",
      "2025-04-23 08:32:50 - INFO - Training   - accuracy: 0.9135 - auc: 0.7589 - f1_score: 0.0853 - loss: 0.4526 - precision: 0.4565 - recall: 0.0567 - learning_rate: 0.0000\n",
      "2025-04-23 08:32:50 - INFO - Validation - accuracy: 0.9130 - auc: 0.7406 - f1_score: 0.0774 - loss: 0.5340 - precision: 0.4201 - recall: 0.0556\n",
      "2025-04-23 08:32:50 - INFO - ==================================================\n",
      "\n"
     ]
    },
    {
     "name": "stdout",
     "output_type": "stream",
     "text": [
      "\u001b[1m561/561\u001b[0m \u001b[32m━━━━━━━━━━━━━━━━━━━━\u001b[0m\u001b[37m\u001b[0m \u001b[1m163s\u001b[0m 290ms/step - accuracy: 0.9133 - auc: 0.7601 - f1_score: 0.0850 - loss: 0.4538 - precision: 0.4543 - recall: 0.0567 - val_accuracy: 0.9130 - val_auc: 0.7406 - val_f1_score: 0.0774 - val_loss: 0.5340 - val_precision: 0.4201 - val_recall: 0.0556 - learning_rate: 6.2500e-06\n"
     ]
    },
    {
     "name": "stderr",
     "output_type": "stream",
     "text": [
      "2025-04-23 08:32:50 - INFO - \n",
      "=== Starting Epoch 21 ===\n",
      "\n"
     ]
    },
    {
     "name": "stdout",
     "output_type": "stream",
     "text": [
      "Epoch 21/100\n",
      "\u001b[1m 20/561\u001b[0m \u001b[37m━━━━━━━━━━━━━━━━━━━━\u001b[0m \u001b[1m1:46\u001b[0m 196ms/step - accuracy: 0.9134 - auc: 0.7617 - f1_score: 0.0940 - loss: 0.4506 - precision: 0.5084 - recall: 0.0642"
     ]
    },
    {
     "name": "stderr",
     "output_type": "stream",
     "text": [
      "2025-04-23 08:32:55.630496: I tensorflow/core/kernels/data/shuffle_dataset_op.cc:482] Shuffle buffer filled.\n",
      "2025-04-23 08:32:55.744110: W tensorflow/core/kernels/data/prefetch_autotuner.cc:52] Prefetch autotuner tried to allocate 134225408 bytes after encountering the first element of size 134225408 bytes.This already causes the autotune ram budget to be exceeded. To stay within the ram budget, either increase the ram budget or reduce element size\n"
     ]
    },
    {
     "name": "stdout",
     "output_type": "stream",
     "text": [
      "\u001b[1m331/561\u001b[0m \u001b[32m━━━━━━━━━━━\u001b[0m\u001b[37m━━━━━━━━━\u001b[0m \u001b[1m59s\u001b[0m 260ms/step - accuracy: 0.9131 - auc: 0.7621 - f1_score: 0.0881 - loss: 0.4502 - precision: 0.4571 - recall: 0.0600 "
     ]
    },
    {
     "name": "stderr",
     "output_type": "stream",
     "text": [
      "2025-04-23 08:34:16.423702: W tensorflow/core/lib/png/png_io.cc:92] PNG warning: iCCP: profile 'ICC Profile': 'GRAY': Gray color space not permitted on RGB PNG\n"
     ]
    },
    {
     "name": "stdout",
     "output_type": "stream",
     "text": [
      "\u001b[1m561/561\u001b[0m \u001b[32m━━━━━━━━━━━━━━━━━━━━\u001b[0m\u001b[37m\u001b[0m \u001b[1m0s\u001b[0m 243ms/step - accuracy: 0.9132 - auc: 0.7615 - f1_score: 0.0884 - loss: 0.4499 - precision: 0.4585 - recall: 0.0600 "
     ]
    },
    {
     "name": "stderr",
     "output_type": "stream",
     "text": [
      "2025-04-23 08:35:14.191418: I tensorflow/core/kernels/data/shuffle_dataset_op.cc:452] ShuffleDatasetV3:13: Filling up shuffle buffer (this may take a while): 7004 of 25000\n",
      "2025-04-23 08:35:34 - INFO - \n",
      "=== Epoch 21 Summary ===\n",
      "2025-04-23 08:35:34 - INFO - Time: 163.78s\n",
      "2025-04-23 08:35:34 - INFO - Training   - accuracy: 0.9134 - auc: 0.7609 - f1_score: 0.0893 - loss: 0.4491 - precision: 0.4600 - recall: 0.0603 - learning_rate: 0.0000\n",
      "2025-04-23 08:35:34 - INFO - Validation - accuracy: 0.9132 - auc: 0.7445 - f1_score: 0.0811 - loss: 0.5240 - precision: 0.4271 - recall: 0.0559\n",
      "2025-04-23 08:35:34 - INFO - ==================================================\n",
      "\n"
     ]
    },
    {
     "name": "stdout",
     "output_type": "stream",
     "text": [
      "\u001b[1m561/561\u001b[0m \u001b[32m━━━━━━━━━━━━━━━━━━━━\u001b[0m\u001b[37m\u001b[0m \u001b[1m164s\u001b[0m 292ms/step - accuracy: 0.9132 - auc: 0.7615 - f1_score: 0.0884 - loss: 0.4499 - precision: 0.4585 - recall: 0.0600 - val_accuracy: 0.9132 - val_auc: 0.7445 - val_f1_score: 0.0811 - val_loss: 0.5240 - val_precision: 0.4271 - val_recall: 0.0559 - learning_rate: 3.1250e-06\n"
     ]
    },
    {
     "name": "stderr",
     "output_type": "stream",
     "text": [
      "2025-04-23 08:35:34 - INFO - \n",
      "=== Starting Epoch 22 ===\n",
      "\n"
     ]
    },
    {
     "name": "stdout",
     "output_type": "stream",
     "text": [
      "Epoch 22/100\n"
     ]
    },
    {
     "name": "stderr",
     "output_type": "stream",
     "text": [
      "2025-04-23 08:35:34.187292: I tensorflow/core/kernels/data/shuffle_dataset_op.cc:452] ShuffleDatasetV3:13: Filling up shuffle buffer (this may take a while): 18769 of 25000\n"
     ]
    },
    {
     "name": "stdout",
     "output_type": "stream",
     "text": [
      "\u001b[1m 21/561\u001b[0m \u001b[37m━━━━━━━━━━━━━━━━━━━━\u001b[0m \u001b[1m1:47\u001b[0m 198ms/step - accuracy: 0.9128 - auc: 0.7713 - f1_score: 0.0733 - loss: 0.4484 - precision: 0.4068 - recall: 0.0511"
     ]
    },
    {
     "name": "stderr",
     "output_type": "stream",
     "text": [
      "2025-04-23 08:35:39.717662: I tensorflow/core/kernels/data/shuffle_dataset_op.cc:482] Shuffle buffer filled.\n",
      "2025-04-23 08:35:39.828977: W tensorflow/core/kernels/data/prefetch_autotuner.cc:52] Prefetch autotuner tried to allocate 91475456 bytes after encountering the first element of size 91475456 bytes.This already causes the autotune ram budget to be exceeded. To stay within the ram budget, either increase the ram budget or reduce element size\n"
     ]
    },
    {
     "name": "stdout",
     "output_type": "stream",
     "text": [
      "\u001b[1m332/561\u001b[0m \u001b[32m━━━━━━━━━━━\u001b[0m\u001b[37m━━━━━━━━━\u001b[0m \u001b[1m59s\u001b[0m 259ms/step - accuracy: 0.9135 - auc: 0.7625 - f1_score: 0.0850 - loss: 0.4491 - precision: 0.4505 - recall: 0.0566 "
     ]
    },
    {
     "name": "stderr",
     "output_type": "stream",
     "text": [
      "2025-04-23 08:37:00.153179: W tensorflow/core/lib/png/png_io.cc:92] PNG warning: iCCP: profile 'ICC Profile': 'GRAY': Gray color space not permitted on RGB PNG\n"
     ]
    },
    {
     "name": "stdout",
     "output_type": "stream",
     "text": [
      "\u001b[1m561/561\u001b[0m \u001b[32m━━━━━━━━━━━━━━━━━━━━\u001b[0m\u001b[37m\u001b[0m \u001b[1m0s\u001b[0m 243ms/step - accuracy: 0.9135 - auc: 0.7636 - f1_score: 0.0867 - loss: 0.4488 - precision: 0.4550 - recall: 0.0579 "
     ]
    },
    {
     "name": "stderr",
     "output_type": "stream",
     "text": [
      "2025-04-23 08:37:57.993395: I tensorflow/core/kernels/data/shuffle_dataset_op.cc:452] ShuffleDatasetV3:13: Filling up shuffle buffer (this may take a while): 6941 of 25000\n",
      "2025-04-23 08:38:07.993774: I tensorflow/core/kernels/data/shuffle_dataset_op.cc:452] ShuffleDatasetV3:13: Filling up shuffle buffer (this may take a while): 12558 of 25000\n",
      "2025-04-23 08:38:17 - INFO - \n",
      "=== Epoch 22 Summary ===\n",
      "2025-04-23 08:38:17 - INFO - Time: 163.62s\n",
      "2025-04-23 08:38:17 - INFO - Training   - accuracy: 0.9136 - auc: 0.7654 - f1_score: 0.0900 - loss: 0.4482 - precision: 0.4627 - recall: 0.0605 - learning_rate: 0.0000\n",
      "2025-04-23 08:38:17 - INFO - Validation - accuracy: 0.9139 - auc: 0.7459 - f1_score: 0.0775 - loss: 0.5249 - precision: 0.4516 - recall: 0.0511\n",
      "2025-04-23 08:38:17 - INFO - ==================================================\n",
      "\n"
     ]
    },
    {
     "name": "stdout",
     "output_type": "stream",
     "text": [
      "\u001b[1m561/561\u001b[0m \u001b[32m━━━━━━━━━━━━━━━━━━━━\u001b[0m\u001b[37m\u001b[0m \u001b[1m164s\u001b[0m 292ms/step - accuracy: 0.9135 - auc: 0.7636 - f1_score: 0.0867 - loss: 0.4488 - precision: 0.4550 - recall: 0.0579 - val_accuracy: 0.9139 - val_auc: 0.7459 - val_f1_score: 0.0775 - val_loss: 0.5249 - val_precision: 0.4516 - val_recall: 0.0511 - learning_rate: 3.1250e-06\n"
     ]
    },
    {
     "name": "stderr",
     "output_type": "stream",
     "text": [
      "2025-04-23 08:38:17 - INFO - \n",
      "=== Starting Epoch 23 ===\n",
      "\n"
     ]
    },
    {
     "name": "stdout",
     "output_type": "stream",
     "text": [
      "Epoch 23/100\n"
     ]
    },
    {
     "name": "stderr",
     "output_type": "stream",
     "text": [
      "2025-04-23 08:38:17.995631: I tensorflow/core/kernels/data/shuffle_dataset_op.cc:452] ShuffleDatasetV3:13: Filling up shuffle buffer (this may take a while): 18747 of 25000\n"
     ]
    },
    {
     "name": "stdout",
     "output_type": "stream",
     "text": [
      "\u001b[1m 22/561\u001b[0m \u001b[37m━━━━━━━━━━━━━━━━━━━━\u001b[0m \u001b[1m1:46\u001b[0m 198ms/step - accuracy: 0.9140 - auc: 0.7596 - f1_score: 0.0827 - loss: 0.4426 - precision: 0.4651 - recall: 0.0554"
     ]
    },
    {
     "name": "stderr",
     "output_type": "stream",
     "text": [
      "2025-04-23 08:38:23.520039: I tensorflow/core/kernels/data/shuffle_dataset_op.cc:482] Shuffle buffer filled.\n",
      "2025-04-23 08:38:23.632679: W tensorflow/core/kernels/data/prefetch_autotuner.cc:52] Prefetch autotuner tried to allocate 91475456 bytes after encountering the first element of size 91475456 bytes.This already causes the autotune ram budget to be exceeded. To stay within the ram budget, either increase the ram budget or reduce element size\n"
     ]
    },
    {
     "name": "stdout",
     "output_type": "stream",
     "text": [
      "\u001b[1m333/561\u001b[0m \u001b[32m━━━━━━━━━━━\u001b[0m\u001b[37m━━━━━━━━━\u001b[0m \u001b[1m59s\u001b[0m 261ms/step - accuracy: 0.9137 - auc: 0.7665 - f1_score: 0.0924 - loss: 0.4464 - precision: 0.4778 - recall: 0.0619 "
     ]
    },
    {
     "name": "stderr",
     "output_type": "stream",
     "text": [
      "2025-04-23 08:39:44.805154: W tensorflow/core/lib/png/png_io.cc:92] PNG warning: iCCP: profile 'ICC Profile': 'GRAY': Gray color space not permitted on RGB PNG\n"
     ]
    },
    {
     "name": "stdout",
     "output_type": "stream",
     "text": [
      "\u001b[1m561/561\u001b[0m \u001b[32m━━━━━━━━━━━━━━━━━━━━\u001b[0m\u001b[37m\u001b[0m \u001b[1m0s\u001b[0m 244ms/step - accuracy: 0.9136 - auc: 0.7659 - f1_score: 0.0928 - loss: 0.4465 - precision: 0.4730 - recall: 0.0622 "
     ]
    },
    {
     "name": "stderr",
     "output_type": "stream",
     "text": [
      "2025-04-23 08:40:34.930858: W tensorflow/core/kernels/data/prefetch_autotuner.cc:52] Prefetch autotuner tried to allocate 134225408 bytes after encountering the first element of size 134225408 bytes.This already causes the autotune ram budget to be exceeded. To stay within the ram budget, either increase the ram budget or reduce element size\n",
      "2025-04-23 08:40:42.607453: I tensorflow/core/kernels/data/shuffle_dataset_op.cc:452] ShuffleDatasetV3:13: Filling up shuffle buffer (this may take a while): 6822 of 25000\n",
      "2025-04-23 08:40:52.609729: I tensorflow/core/kernels/data/shuffle_dataset_op.cc:452] ShuffleDatasetV3:13: Filling up shuffle buffer (this may take a while): 12570 of 25000\n"
     ]
    },
    {
     "name": "stdout",
     "output_type": "stream",
     "text": [
      "\n",
      "Epoch 23: ReduceLROnPlateau reducing learning rate to 1.56249996052793e-06.\n"
     ]
    },
    {
     "name": "stderr",
     "output_type": "stream",
     "text": [
      "2025-04-23 08:41:02 - INFO - \n",
      "=== Epoch 23 Summary ===\n",
      "2025-04-23 08:41:02 - INFO - Time: 165.01s\n",
      "2025-04-23 08:41:02 - INFO - Training   - accuracy: 0.9137 - auc: 0.7649 - f1_score: 0.0937 - loss: 0.4468 - precision: 0.4681 - recall: 0.0629 - learning_rate: 0.0000\n",
      "2025-04-23 08:41:02 - INFO - Validation - accuracy: 0.9133 - auc: 0.7464 - f1_score: 0.0831 - loss: 0.5256 - precision: 0.4336 - recall: 0.0574\n",
      "2025-04-23 08:41:02 - INFO - ==================================================\n",
      "\n"
     ]
    },
    {
     "name": "stdout",
     "output_type": "stream",
     "text": [
      "\u001b[1m561/561\u001b[0m \u001b[32m━━━━━━━━━━━━━━━━━━━━\u001b[0m\u001b[37m\u001b[0m \u001b[1m165s\u001b[0m 294ms/step - accuracy: 0.9136 - auc: 0.7659 - f1_score: 0.0928 - loss: 0.4465 - precision: 0.4730 - recall: 0.0622 - val_accuracy: 0.9133 - val_auc: 0.7464 - val_f1_score: 0.0831 - val_loss: 0.5256 - val_precision: 0.4336 - val_recall: 0.0574 - learning_rate: 3.1250e-06\n"
     ]
    },
    {
     "name": "stderr",
     "output_type": "stream",
     "text": [
      "2025-04-23 08:41:02 - INFO - \n",
      "=== Starting Epoch 24 ===\n",
      "\n"
     ]
    },
    {
     "name": "stdout",
     "output_type": "stream",
     "text": [
      "Epoch 24/100\n",
      "\u001b[1m 23/561\u001b[0m \u001b[37m━━━━━━━━━━━━━━━━━━━━\u001b[0m \u001b[1m1:46\u001b[0m 197ms/step - accuracy: 0.9122 - auc: 0.7613 - f1_score: 0.0957 - loss: 0.4469 - precision: 0.4598 - recall: 0.0670"
     ]
    },
    {
     "name": "stderr",
     "output_type": "stream",
     "text": [
      "2025-04-23 08:41:08.066951: I tensorflow/core/kernels/data/shuffle_dataset_op.cc:482] Shuffle buffer filled.\n",
      "2025-04-23 08:41:08.173702: W tensorflow/core/kernels/data/prefetch_autotuner.cc:52] Prefetch autotuner tried to allocate 91475456 bytes after encountering the first element of size 91475456 bytes.This already causes the autotune ram budget to be exceeded. To stay within the ram budget, either increase the ram budget or reduce element size\n"
     ]
    },
    {
     "name": "stdout",
     "output_type": "stream",
     "text": [
      "\u001b[1m334/561\u001b[0m \u001b[32m━━━━━━━━━━━\u001b[0m\u001b[37m━━━━━━━━━\u001b[0m \u001b[1m57s\u001b[0m 254ms/step - accuracy: 0.9132 - auc: 0.7642 - f1_score: 0.0953 - loss: 0.4457 - precision: 0.4630 - recall: 0.0645 "
     ]
    },
    {
     "name": "stderr",
     "output_type": "stream",
     "text": [
      "2025-04-23 08:42:27.525947: W tensorflow/core/lib/png/png_io.cc:92] PNG warning: iCCP: profile 'ICC Profile': 'GRAY': Gray color space not permitted on RGB PNG\n"
     ]
    },
    {
     "name": "stdout",
     "output_type": "stream",
     "text": [
      "\u001b[1m561/561\u001b[0m \u001b[32m━━━━━━━━━━━━━━━━━━━━\u001b[0m\u001b[37m\u001b[0m \u001b[1m0s\u001b[0m 239ms/step - accuracy: 0.9133 - auc: 0.7649 - f1_score: 0.0950 - loss: 0.4460 - precision: 0.4651 - recall: 0.0643 "
     ]
    },
    {
     "name": "stderr",
     "output_type": "stream",
     "text": [
      "2025-04-23 08:43:25.269876: I tensorflow/core/kernels/data/shuffle_dataset_op.cc:452] ShuffleDatasetV3:13: Filling up shuffle buffer (this may take a while): 6720 of 25000\n",
      "2025-04-23 08:43:35.273027: I tensorflow/core/kernels/data/shuffle_dataset_op.cc:452] ShuffleDatasetV3:13: Filling up shuffle buffer (this may take a while): 12457 of 25000\n",
      "2025-04-23 08:43:44 - INFO - \n",
      "=== Epoch 24 Summary ===\n",
      "2025-04-23 08:43:44 - INFO - Time: 161.83s\n",
      "2025-04-23 08:43:44 - INFO - Training   - accuracy: 0.9136 - auc: 0.7670 - f1_score: 0.0955 - loss: 0.4459 - precision: 0.4720 - recall: 0.0645 - learning_rate: 0.0000\n",
      "2025-04-23 08:43:44 - INFO - Validation - accuracy: 0.9133 - auc: 0.7450 - f1_score: 0.0817 - loss: 0.5237 - precision: 0.4308 - recall: 0.0560\n",
      "2025-04-23 08:43:44 - INFO - ==================================================\n",
      "\n"
     ]
    },
    {
     "name": "stdout",
     "output_type": "stream",
     "text": [
      "\u001b[1m561/561\u001b[0m \u001b[32m━━━━━━━━━━━━━━━━━━━━\u001b[0m\u001b[37m\u001b[0m \u001b[1m162s\u001b[0m 289ms/step - accuracy: 0.9133 - auc: 0.7649 - f1_score: 0.0950 - loss: 0.4460 - precision: 0.4651 - recall: 0.0643 - val_accuracy: 0.9133 - val_auc: 0.7450 - val_f1_score: 0.0817 - val_loss: 0.5237 - val_precision: 0.4308 - val_recall: 0.0560 - learning_rate: 1.5625e-06\n"
     ]
    },
    {
     "name": "stderr",
     "output_type": "stream",
     "text": [
      "2025-04-23 08:43:44 - INFO - \n",
      "=== Starting Epoch 25 ===\n",
      "\n"
     ]
    },
    {
     "name": "stdout",
     "output_type": "stream",
     "text": [
      "Epoch 25/100\n",
      "\u001b[1m 24/561\u001b[0m \u001b[37m━━━━━━━━━━━━━━━━━━━━\u001b[0m \u001b[1m1:46\u001b[0m 198ms/step - accuracy: 0.9137 - auc: 0.7576 - f1_score: 0.0811 - loss: 0.4296 - precision: 0.4126 - recall: 0.0552"
     ]
    },
    {
     "name": "stderr",
     "output_type": "stream",
     "text": [
      "2025-04-23 08:43:50.657500: I tensorflow/core/kernels/data/shuffle_dataset_op.cc:482] Shuffle buffer filled.\n",
      "2025-04-23 08:43:50.768059: W tensorflow/core/kernels/data/prefetch_autotuner.cc:52] Prefetch autotuner tried to allocate 134225408 bytes after encountering the first element of size 134225408 bytes.This already causes the autotune ram budget to be exceeded. To stay within the ram budget, either increase the ram budget or reduce element size\n"
     ]
    },
    {
     "name": "stdout",
     "output_type": "stream",
     "text": [
      "\u001b[1m335/561\u001b[0m \u001b[32m━━━━━━━━━━━\u001b[0m\u001b[37m━━━━━━━━━\u001b[0m \u001b[1m57s\u001b[0m 257ms/step - accuracy: 0.9137 - auc: 0.7665 - f1_score: 0.0911 - loss: 0.4439 - precision: 0.4623 - recall: 0.0608 "
     ]
    },
    {
     "name": "stderr",
     "output_type": "stream",
     "text": [
      "2025-04-23 08:45:10.581811: W tensorflow/core/lib/png/png_io.cc:92] PNG warning: iCCP: profile 'ICC Profile': 'GRAY': Gray color space not permitted on RGB PNG\n"
     ]
    },
    {
     "name": "stdout",
     "output_type": "stream",
     "text": [
      "\u001b[1m561/561\u001b[0m \u001b[32m━━━━━━━━━━━━━━━━━━━━\u001b[0m\u001b[37m\u001b[0m \u001b[1m0s\u001b[0m 241ms/step - accuracy: 0.9138 - auc: 0.7676 - f1_score: 0.0925 - loss: 0.4442 - precision: 0.4659 - recall: 0.0620 "
     ]
    },
    {
     "name": "stderr",
     "output_type": "stream",
     "text": [
      "2025-04-23 08:46:08.320589: I tensorflow/core/kernels/data/shuffle_dataset_op.cc:452] ShuffleDatasetV3:13: Filling up shuffle buffer (this may take a while): 6603 of 25000\n",
      "2025-04-23 08:46:18.322910: I tensorflow/core/kernels/data/shuffle_dataset_op.cc:452] ShuffleDatasetV3:13: Filling up shuffle buffer (this may take a while): 12294 of 25000\n",
      "2025-04-23 08:46:28 - INFO - \n",
      "=== Epoch 25 Summary ===\n",
      "2025-04-23 08:46:28 - INFO - Time: 163.80s\n",
      "2025-04-23 08:46:28 - INFO - Training   - accuracy: 0.9138 - auc: 0.7685 - f1_score: 0.0957 - loss: 0.4446 - precision: 0.4733 - recall: 0.0643 - learning_rate: 0.0000\n",
      "2025-04-23 08:46:28 - INFO - Validation - accuracy: 0.9140 - auc: 0.7476 - f1_score: 0.0938 - loss: 0.5221 - precision: 0.4622 - recall: 0.0629\n",
      "2025-04-23 08:46:28 - INFO - ==================================================\n",
      "\n"
     ]
    },
    {
     "name": "stdout",
     "output_type": "stream",
     "text": [
      "\u001b[1m561/561\u001b[0m \u001b[32m━━━━━━━━━━━━━━━━━━━━\u001b[0m\u001b[37m\u001b[0m \u001b[1m164s\u001b[0m 292ms/step - accuracy: 0.9138 - auc: 0.7676 - f1_score: 0.0925 - loss: 0.4442 - precision: 0.4659 - recall: 0.0620 - val_accuracy: 0.9140 - val_auc: 0.7476 - val_f1_score: 0.0938 - val_loss: 0.5221 - val_precision: 0.4622 - val_recall: 0.0629 - learning_rate: 1.5625e-06\n"
     ]
    },
    {
     "name": "stderr",
     "output_type": "stream",
     "text": [
      "2025-04-23 08:46:28 - INFO - \n",
      "=== Starting Epoch 26 ===\n",
      "\n"
     ]
    },
    {
     "name": "stdout",
     "output_type": "stream",
     "text": [
      "Epoch 26/100\n",
      "\u001b[1m 25/561\u001b[0m \u001b[37m━━━━━━━━━━━━━━━━━━━━\u001b[0m \u001b[1m1:45\u001b[0m 197ms/step - accuracy: 0.9129 - auc: 0.7431 - f1_score: 0.0886 - loss: 0.4417 - precision: 0.4486 - recall: 0.0596"
     ]
    },
    {
     "name": "stderr",
     "output_type": "stream",
     "text": [
      "2025-04-23 08:46:34.064999: I tensorflow/core/kernels/data/shuffle_dataset_op.cc:482] Shuffle buffer filled.\n",
      "2025-04-23 08:46:34.177011: W tensorflow/core/kernels/data/prefetch_autotuner.cc:52] Prefetch autotuner tried to allocate 134225408 bytes after encountering the first element of size 134225408 bytes.This already causes the autotune ram budget to be exceeded. To stay within the ram budget, either increase the ram budget or reduce element size\n"
     ]
    },
    {
     "name": "stdout",
     "output_type": "stream",
     "text": [
      "\u001b[1m336/561\u001b[0m \u001b[32m━━━━━━━━━━━\u001b[0m\u001b[37m━━━━━━━━━\u001b[0m \u001b[1m57s\u001b[0m 257ms/step - accuracy: 0.9134 - auc: 0.7663 - f1_score: 0.0957 - loss: 0.4444 - precision: 0.4618 - recall: 0.0642 "
     ]
    },
    {
     "name": "stderr",
     "output_type": "stream",
     "text": [
      "2025-04-23 08:47:54.768215: W tensorflow/core/lib/png/png_io.cc:92] PNG warning: iCCP: profile 'ICC Profile': 'GRAY': Gray color space not permitted on RGB PNG\n"
     ]
    },
    {
     "name": "stdout",
     "output_type": "stream",
     "text": [
      "\u001b[1m561/561\u001b[0m \u001b[32m━━━━━━━━━━━━━━━━━━━━\u001b[0m\u001b[37m\u001b[0m \u001b[1m0s\u001b[0m 242ms/step - accuracy: 0.9134 - auc: 0.7669 - f1_score: 0.0965 - loss: 0.4443 - precision: 0.4646 - recall: 0.0647 "
     ]
    },
    {
     "name": "stderr",
     "output_type": "stream",
     "text": [
      "2025-04-23 08:48:44.296792: W tensorflow/core/kernels/data/prefetch_autotuner.cc:52] Prefetch autotuner tried to allocate 134225408 bytes after encountering the first element of size 134225408 bytes.This already causes the autotune ram budget to be exceeded. To stay within the ram budget, either increase the ram budget or reduce element size\n",
      "2025-04-23 08:48:52.601446: I tensorflow/core/kernels/data/shuffle_dataset_op.cc:452] ShuffleDatasetV3:13: Filling up shuffle buffer (this may take a while): 6458 of 25000\n",
      "2025-04-23 08:49:11 - INFO - \n",
      "=== Epoch 26 Summary ===\n",
      "2025-04-23 08:49:11 - INFO - Time: 163.13s\n",
      "2025-04-23 08:49:11 - INFO - Training   - accuracy: 0.9136 - auc: 0.7680 - f1_score: 0.0974 - loss: 0.4442 - precision: 0.4702 - recall: 0.0654 - learning_rate: 0.0000\n",
      "2025-04-23 08:49:11 - INFO - Validation - accuracy: 0.9134 - auc: 0.7429 - f1_score: 0.0837 - loss: 0.5252 - precision: 0.4382 - recall: 0.0581\n",
      "2025-04-23 08:49:11 - INFO - ==================================================\n",
      "\n"
     ]
    },
    {
     "name": "stdout",
     "output_type": "stream",
     "text": [
      "\u001b[1m561/561\u001b[0m \u001b[32m━━━━━━━━━━━━━━━━━━━━\u001b[0m\u001b[37m\u001b[0m \u001b[1m163s\u001b[0m 291ms/step - accuracy: 0.9134 - auc: 0.7669 - f1_score: 0.0965 - loss: 0.4443 - precision: 0.4646 - recall: 0.0647 - val_accuracy: 0.9134 - val_auc: 0.7429 - val_f1_score: 0.0837 - val_loss: 0.5252 - val_precision: 0.4382 - val_recall: 0.0581 - learning_rate: 1.5625e-06\n"
     ]
    },
    {
     "name": "stderr",
     "output_type": "stream",
     "text": [
      "2025-04-23 08:49:11 - INFO - \n",
      "=== Starting Epoch 27 ===\n",
      "\n"
     ]
    },
    {
     "name": "stdout",
     "output_type": "stream",
     "text": [
      "Epoch 27/100\n",
      "\u001b[1m  5/561\u001b[0m \u001b[37m━━━━━━━━━━━━━━━━━━━━\u001b[0m \u001b[1m1:53\u001b[0m 204ms/step - accuracy: 0.9145 - auc: 0.7749 - f1_score: 0.0988 - loss: 0.4456 - precision: 0.4686 - recall: 0.0666"
     ]
    },
    {
     "name": "stderr",
     "output_type": "stream",
     "text": [
      "2025-04-23 08:49:12.599017: I tensorflow/core/kernels/data/shuffle_dataset_op.cc:452] ShuffleDatasetV3:13: Filling up shuffle buffer (this may take a while): 18894 of 25000\n"
     ]
    },
    {
     "name": "stdout",
     "output_type": "stream",
     "text": [
      "\u001b[1m 26/561\u001b[0m \u001b[37m━━━━━━━━━━━━━━━━━━━━\u001b[0m \u001b[1m1:46\u001b[0m 199ms/step - accuracy: 0.9143 - auc: 0.7687 - f1_score: 0.1038 - loss: 0.4435 - precision: 0.4839 - recall: 0.0697"
     ]
    },
    {
     "name": "stderr",
     "output_type": "stream",
     "text": [
      "2025-04-23 08:49:18.041932: I tensorflow/core/kernels/data/shuffle_dataset_op.cc:482] Shuffle buffer filled.\n",
      "2025-04-23 08:49:18.150403: W tensorflow/core/kernels/data/prefetch_autotuner.cc:52] Prefetch autotuner tried to allocate 134225408 bytes after encountering the first element of size 134225408 bytes.This already causes the autotune ram budget to be exceeded. To stay within the ram budget, either increase the ram budget or reduce element size\n"
     ]
    },
    {
     "name": "stdout",
     "output_type": "stream",
     "text": [
      "\u001b[1m337/561\u001b[0m \u001b[32m━━━━━━━━━━━━\u001b[0m\u001b[37m━━━━━━━━\u001b[0m \u001b[1m56s\u001b[0m 252ms/step - accuracy: 0.9138 - auc: 0.7659 - f1_score: 0.1013 - loss: 0.4440 - precision: 0.4758 - recall: 0.0681 "
     ]
    },
    {
     "name": "stderr",
     "output_type": "stream",
     "text": [
      "2025-04-23 08:50:36.543196: W tensorflow/core/lib/png/png_io.cc:92] PNG warning: iCCP: profile 'ICC Profile': 'GRAY': Gray color space not permitted on RGB PNG\n"
     ]
    },
    {
     "name": "stdout",
     "output_type": "stream",
     "text": [
      "\u001b[1m561/561\u001b[0m \u001b[32m━━━━━━━━━━━━━━━━━━━━\u001b[0m\u001b[37m\u001b[0m \u001b[1m0s\u001b[0m 239ms/step - accuracy: 0.9137 - auc: 0.7671 - f1_score: 0.1010 - loss: 0.4441 - precision: 0.4750 - recall: 0.0681 "
     ]
    },
    {
     "name": "stderr",
     "output_type": "stream",
     "text": [
      "2025-04-23 08:51:34.386222: I tensorflow/core/kernels/data/shuffle_dataset_op.cc:452] ShuffleDatasetV3:13: Filling up shuffle buffer (this may take a while): 6427 of 25000\n",
      "2025-04-23 08:51:53 - INFO - \n",
      "=== Epoch 27 Summary ===\n",
      "2025-04-23 08:51:53 - INFO - Time: 161.45s\n",
      "2025-04-23 08:51:53 - INFO - Training   - accuracy: 0.9136 - auc: 0.7690 - f1_score: 0.1003 - loss: 0.4439 - precision: 0.4711 - recall: 0.0680 - learning_rate: 0.0000\n",
      "2025-04-23 08:51:53 - INFO - Validation - accuracy: 0.9138 - auc: 0.7474 - f1_score: 0.0928 - loss: 0.5206 - precision: 0.4543 - recall: 0.0629\n",
      "2025-04-23 08:51:53 - INFO - ==================================================\n",
      "\n"
     ]
    },
    {
     "name": "stdout",
     "output_type": "stream",
     "text": [
      "\u001b[1m561/561\u001b[0m \u001b[32m━━━━━━━━━━━━━━━━━━━━\u001b[0m\u001b[37m\u001b[0m \u001b[1m161s\u001b[0m 288ms/step - accuracy: 0.9137 - auc: 0.7671 - f1_score: 0.1010 - loss: 0.4441 - precision: 0.4750 - recall: 0.0681 - val_accuracy: 0.9138 - val_auc: 0.7474 - val_f1_score: 0.0928 - val_loss: 0.5206 - val_precision: 0.4543 - val_recall: 0.0629 - learning_rate: 1.5625e-06\n"
     ]
    },
    {
     "name": "stderr",
     "output_type": "stream",
     "text": [
      "2025-04-23 08:51:53 - INFO - \n",
      "=== Starting Epoch 28 ===\n",
      "\n"
     ]
    },
    {
     "name": "stdout",
     "output_type": "stream",
     "text": [
      "Epoch 28/100\n",
      "\u001b[1m  7/561\u001b[0m \u001b[37m━━━━━━━━━━━━━━━━━━━━\u001b[0m \u001b[1m1:51\u001b[0m 201ms/step - accuracy: 0.9149 - auc: 0.7504 - f1_score: 0.0772 - loss: 0.4192 - precision: 0.3792 - recall: 0.0559"
     ]
    },
    {
     "name": "stderr",
     "output_type": "stream",
     "text": [
      "2025-04-23 08:51:54.385928: I tensorflow/core/kernels/data/shuffle_dataset_op.cc:452] ShuffleDatasetV3:13: Filling up shuffle buffer (this may take a while): 18924 of 25000\n"
     ]
    },
    {
     "name": "stdout",
     "output_type": "stream",
     "text": [
      "\u001b[1m 27/561\u001b[0m \u001b[37m━━━━━━━━━━━━━━━━━━━━\u001b[0m \u001b[1m1:45\u001b[0m 198ms/step - accuracy: 0.9145 - auc: 0.7824 - f1_score: 0.0881 - loss: 0.4302 - precision: 0.4269 - recall: 0.0620"
     ]
    },
    {
     "name": "stderr",
     "output_type": "stream",
     "text": [
      "2025-04-23 08:51:59.783392: I tensorflow/core/kernels/data/shuffle_dataset_op.cc:482] Shuffle buffer filled.\n",
      "2025-04-23 08:51:59.894665: W tensorflow/core/kernels/data/prefetch_autotuner.cc:52] Prefetch autotuner tried to allocate 91475456 bytes after encountering the first element of size 91475456 bytes.This already causes the autotune ram budget to be exceeded. To stay within the ram budget, either increase the ram budget or reduce element size\n"
     ]
    },
    {
     "name": "stdout",
     "output_type": "stream",
     "text": [
      "\u001b[1m338/561\u001b[0m \u001b[32m━━━━━━━━━━━━\u001b[0m\u001b[37m━━━━━━━━\u001b[0m \u001b[1m57s\u001b[0m 257ms/step - accuracy: 0.9138 - auc: 0.7727 - f1_score: 0.0948 - loss: 0.4418 - precision: 0.4616 - recall: 0.0642 "
     ]
    },
    {
     "name": "stderr",
     "output_type": "stream",
     "text": [
      "2025-04-23 08:53:20.051716: W tensorflow/core/lib/png/png_io.cc:92] PNG warning: iCCP: profile 'ICC Profile': 'GRAY': Gray color space not permitted on RGB PNG\n"
     ]
    },
    {
     "name": "stdout",
     "output_type": "stream",
     "text": [
      "\u001b[1m561/561\u001b[0m \u001b[32m━━━━━━━━━━━━━━━━━━━━\u001b[0m\u001b[37m\u001b[0m \u001b[1m0s\u001b[0m 242ms/step - accuracy: 0.9137 - auc: 0.7716 - f1_score: 0.0959 - loss: 0.4422 - precision: 0.4632 - recall: 0.0648 "
     ]
    },
    {
     "name": "stderr",
     "output_type": "stream",
     "text": [
      "2025-04-23 08:54:17.816907: I tensorflow/core/kernels/data/shuffle_dataset_op.cc:452] ShuffleDatasetV3:13: Filling up shuffle buffer (this may take a while): 6262 of 25000\n"
     ]
    },
    {
     "name": "stdout",
     "output_type": "stream",
     "text": [
      "\n",
      "Epoch 28: ReduceLROnPlateau reducing learning rate to 1e-06.\n"
     ]
    },
    {
     "name": "stderr",
     "output_type": "stream",
     "text": [
      "2025-04-23 08:54:36 - INFO - \n",
      "=== Epoch 28 Summary ===\n",
      "2025-04-23 08:54:36 - INFO - Time: 163.05s\n",
      "2025-04-23 08:54:36 - INFO - Training   - accuracy: 0.9137 - auc: 0.7711 - f1_score: 0.0985 - loss: 0.4432 - precision: 0.4690 - recall: 0.0664 - learning_rate: 0.0000\n",
      "2025-04-23 08:54:36 - INFO - Validation - accuracy: 0.9132 - auc: 0.7484 - f1_score: 0.0923 - loss: 0.5229 - precision: 0.4343 - recall: 0.0647\n",
      "2025-04-23 08:54:36 - INFO - ==================================================\n",
      "\n"
     ]
    },
    {
     "name": "stdout",
     "output_type": "stream",
     "text": [
      "\u001b[1m561/561\u001b[0m \u001b[32m━━━━━━━━━━━━━━━━━━━━\u001b[0m\u001b[37m\u001b[0m \u001b[1m163s\u001b[0m 291ms/step - accuracy: 0.9137 - auc: 0.7716 - f1_score: 0.0959 - loss: 0.4422 - precision: 0.4632 - recall: 0.0648 - val_accuracy: 0.9132 - val_auc: 0.7484 - val_f1_score: 0.0923 - val_loss: 0.5229 - val_precision: 0.4343 - val_recall: 0.0647 - learning_rate: 1.5625e-06\n"
     ]
    },
    {
     "name": "stderr",
     "output_type": "stream",
     "text": [
      "2025-04-23 08:54:36 - INFO - \n",
      "=== Starting Epoch 29 ===\n",
      "\n"
     ]
    },
    {
     "name": "stdout",
     "output_type": "stream",
     "text": [
      "Epoch 29/100\n",
      "\u001b[1m  9/561\u001b[0m \u001b[37m━━━━━━━━━━━━━━━━━━━━\u001b[0m \u001b[1m1:51\u001b[0m 203ms/step - accuracy: 0.9160 - auc: 0.7563 - f1_score: 0.0976 - loss: 0.4485 - precision: 0.5276 - recall: 0.0714"
     ]
    },
    {
     "name": "stderr",
     "output_type": "stream",
     "text": [
      "2025-04-23 08:54:37.813884: I tensorflow/core/kernels/data/shuffle_dataset_op.cc:452] ShuffleDatasetV3:13: Filling up shuffle buffer (this may take a while): 18968 of 25000\n"
     ]
    },
    {
     "name": "stdout",
     "output_type": "stream",
     "text": [
      "\u001b[1m 28/561\u001b[0m \u001b[37m━━━━━━━━━━━━━━━━━━━━\u001b[0m \u001b[1m1:45\u001b[0m 198ms/step - accuracy: 0.9150 - auc: 0.7696 - f1_score: 0.0975 - loss: 0.4394 - precision: 0.5065 - recall: 0.0682"
     ]
    },
    {
     "name": "stderr",
     "output_type": "stream",
     "text": [
      "2025-04-23 08:54:43.152735: I tensorflow/core/kernels/data/shuffle_dataset_op.cc:482] Shuffle buffer filled.\n",
      "2025-04-23 08:54:43.264009: W tensorflow/core/kernels/data/prefetch_autotuner.cc:52] Prefetch autotuner tried to allocate 134225408 bytes after encountering the first element of size 134225408 bytes.This already causes the autotune ram budget to be exceeded. To stay within the ram budget, either increase the ram budget or reduce element size\n"
     ]
    },
    {
     "name": "stdout",
     "output_type": "stream",
     "text": [
      "\u001b[1m339/561\u001b[0m \u001b[32m━━━━━━━━━━━━\u001b[0m\u001b[37m━━━━━━━━\u001b[0m \u001b[1m57s\u001b[0m 258ms/step - accuracy: 0.9137 - auc: 0.7687 - f1_score: 0.0968 - loss: 0.4404 - precision: 0.4696 - recall: 0.0657 "
     ]
    },
    {
     "name": "stderr",
     "output_type": "stream",
     "text": [
      "2025-04-23 08:56:03.465788: W tensorflow/core/lib/png/png_io.cc:92] PNG warning: iCCP: profile 'ICC Profile': 'GRAY': Gray color space not permitted on RGB PNG\n"
     ]
    },
    {
     "name": "stdout",
     "output_type": "stream",
     "text": [
      "\u001b[1m561/561\u001b[0m \u001b[32m━━━━━━━━━━━━━━━━━━━━\u001b[0m\u001b[37m\u001b[0m \u001b[1m0s\u001b[0m 242ms/step - accuracy: 0.9137 - auc: 0.7688 - f1_score: 0.0973 - loss: 0.4410 - precision: 0.4705 - recall: 0.0658 "
     ]
    },
    {
     "name": "stderr",
     "output_type": "stream",
     "text": [
      "2025-04-23 08:57:01.321235: I tensorflow/core/kernels/data/shuffle_dataset_op.cc:452] ShuffleDatasetV3:13: Filling up shuffle buffer (this may take a while): 6186 of 25000\n",
      "2025-04-23 08:57:19 - INFO - \n",
      "=== Epoch 29 Summary ===\n",
      "2025-04-23 08:57:19 - INFO - Time: 163.40s\n",
      "2025-04-23 08:57:19 - INFO - Training   - accuracy: 0.9137 - auc: 0.7699 - f1_score: 0.0986 - loss: 0.4421 - precision: 0.4724 - recall: 0.0667 - learning_rate: 0.0000\n",
      "2025-04-23 08:57:19 - INFO - Validation - accuracy: 0.9134 - auc: 0.7470 - f1_score: 0.0911 - loss: 0.5231 - precision: 0.4408 - recall: 0.0624\n",
      "2025-04-23 08:57:19 - INFO - ==================================================\n",
      "\n"
     ]
    },
    {
     "name": "stdout",
     "output_type": "stream",
     "text": [
      "\u001b[1m561/561\u001b[0m \u001b[32m━━━━━━━━━━━━━━━━━━━━\u001b[0m\u001b[37m\u001b[0m \u001b[1m163s\u001b[0m 291ms/step - accuracy: 0.9137 - auc: 0.7688 - f1_score: 0.0973 - loss: 0.4410 - precision: 0.4705 - recall: 0.0658 - val_accuracy: 0.9134 - val_auc: 0.7470 - val_f1_score: 0.0911 - val_loss: 0.5231 - val_precision: 0.4408 - val_recall: 0.0624 - learning_rate: 1.0000e-06\n"
     ]
    },
    {
     "name": "stderr",
     "output_type": "stream",
     "text": [
      "2025-04-23 08:57:19 - INFO - \n",
      "=== Starting Epoch 30 ===\n",
      "\n"
     ]
    },
    {
     "name": "stdout",
     "output_type": "stream",
     "text": [
      "Epoch 30/100\n",
      "\u001b[1m  9/561\u001b[0m \u001b[37m━━━━━━━━━━━━━━━━━━━━\u001b[0m \u001b[1m1:52\u001b[0m 204ms/step - accuracy: 0.9163 - auc: 0.7298 - f1_score: 0.1045 - loss: 0.4238 - precision: 0.5165 - recall: 0.0735"
     ]
    },
    {
     "name": "stderr",
     "output_type": "stream",
     "text": [
      "2025-04-23 08:57:21.322016: I tensorflow/core/kernels/data/shuffle_dataset_op.cc:452] ShuffleDatasetV3:13: Filling up shuffle buffer (this may take a while): 19020 of 25000\n"
     ]
    },
    {
     "name": "stdout",
     "output_type": "stream",
     "text": [
      "\u001b[1m 29/561\u001b[0m \u001b[32m━\u001b[0m\u001b[37m━━━━━━━━━━━━━━━━━━━\u001b[0m \u001b[1m1:45\u001b[0m 198ms/step - accuracy: 0.9153 - auc: 0.7600 - f1_score: 0.1075 - loss: 0.4354 - precision: 0.4952 - recall: 0.0745"
     ]
    },
    {
     "name": "stderr",
     "output_type": "stream",
     "text": [
      "2025-04-23 08:57:26.608589: I tensorflow/core/kernels/data/shuffle_dataset_op.cc:482] Shuffle buffer filled.\n",
      "2025-04-23 08:57:26.717815: W tensorflow/core/kernels/data/prefetch_autotuner.cc:52] Prefetch autotuner tried to allocate 108776960 bytes after encountering the first element of size 108776960 bytes.This already causes the autotune ram budget to be exceeded. To stay within the ram budget, either increase the ram budget or reduce element size\n"
     ]
    },
    {
     "name": "stdout",
     "output_type": "stream",
     "text": [
      "\u001b[1m340/561\u001b[0m \u001b[32m━━━━━━━━━━━━\u001b[0m\u001b[37m━━━━━━━━\u001b[0m \u001b[1m57s\u001b[0m 259ms/step - accuracy: 0.9141 - auc: 0.7703 - f1_score: 0.1061 - loss: 0.4419 - precision: 0.4812 - recall: 0.0720 "
     ]
    },
    {
     "name": "stderr",
     "output_type": "stream",
     "text": [
      "2025-04-23 08:58:47.768267: W tensorflow/core/lib/png/png_io.cc:92] PNG warning: iCCP: profile 'ICC Profile': 'GRAY': Gray color space not permitted on RGB PNG\n"
     ]
    },
    {
     "name": "stdout",
     "output_type": "stream",
     "text": [
      "\u001b[1m561/561\u001b[0m \u001b[32m━━━━━━━━━━━━━━━━━━━━\u001b[0m\u001b[37m\u001b[0m \u001b[1m0s\u001b[0m 244ms/step - accuracy: 0.9140 - auc: 0.7706 - f1_score: 0.1049 - loss: 0.4418 - precision: 0.4801 - recall: 0.0712 "
     ]
    },
    {
     "name": "stderr",
     "output_type": "stream",
     "text": [
      "2025-04-23 08:59:45.617290: I tensorflow/core/kernels/data/shuffle_dataset_op.cc:452] ShuffleDatasetV3:13: Filling up shuffle buffer (this may take a while): 6037 of 25000\n",
      "2025-04-23 08:59:55.618797: I tensorflow/core/kernels/data/shuffle_dataset_op.cc:452] ShuffleDatasetV3:13: Filling up shuffle buffer (this may take a while): 11799 of 25000\n",
      "2025-04-23 09:00:04 - INFO - \n",
      "=== Epoch 30 Summary ===\n",
      "2025-04-23 09:00:04 - INFO - Time: 165.20s\n",
      "2025-04-23 09:00:04 - INFO - Training   - accuracy: 0.9139 - auc: 0.7718 - f1_score: 0.1025 - loss: 0.4416 - precision: 0.4784 - recall: 0.0696 - learning_rate: 0.0000\n",
      "2025-04-23 09:00:04 - INFO - Validation - accuracy: 0.9136 - auc: 0.7461 - f1_score: 0.0947 - loss: 0.5201 - precision: 0.4490 - recall: 0.0642\n",
      "2025-04-23 09:00:04 - INFO - ==================================================\n",
      "\n"
     ]
    },
    {
     "name": "stdout",
     "output_type": "stream",
     "text": [
      "\u001b[1m561/561\u001b[0m \u001b[32m━━━━━━━━━━━━━━━━━━━━\u001b[0m\u001b[37m\u001b[0m \u001b[1m165s\u001b[0m 295ms/step - accuracy: 0.9140 - auc: 0.7706 - f1_score: 0.1049 - loss: 0.4418 - precision: 0.4801 - recall: 0.0712 - val_accuracy: 0.9136 - val_auc: 0.7461 - val_f1_score: 0.0947 - val_loss: 0.5201 - val_precision: 0.4490 - val_recall: 0.0642 - learning_rate: 1.0000e-06\n"
     ]
    },
    {
     "name": "stderr",
     "output_type": "stream",
     "text": [
      "2025-04-23 09:00:04 - INFO - \n",
      "=== Starting Epoch 31 ===\n",
      "\n"
     ]
    },
    {
     "name": "stdout",
     "output_type": "stream",
     "text": [
      "Epoch 31/100\n",
      "\u001b[1m  4/561\u001b[0m \u001b[37m━━━━━━━━━━━━━━━━━━━━\u001b[0m \u001b[1m1:54\u001b[0m 205ms/step - accuracy: 0.9092 - auc: 0.6594 - f1_score: 0.1025 - loss: 0.4597 - precision: 0.4881 - recall: 0.0642"
     ]
    },
    {
     "name": "stderr",
     "output_type": "stream",
     "text": [
      "2025-04-23 09:00:05.619402: I tensorflow/core/kernels/data/shuffle_dataset_op.cc:452] ShuffleDatasetV3:13: Filling up shuffle buffer (this may take a while): 18594 of 25000\n"
     ]
    },
    {
     "name": "stdout",
     "output_type": "stream",
     "text": [
      "\u001b[1m 30/561\u001b[0m \u001b[32m━\u001b[0m\u001b[37m━━━━━━━━━━━━━━━━━━━\u001b[0m \u001b[1m1:46\u001b[0m 200ms/step - accuracy: 0.9128 - auc: 0.7593 - f1_score: 0.1013 - loss: 0.4461 - precision: 0.4799 - recall: 0.0675"
     ]
    },
    {
     "name": "stderr",
     "output_type": "stream",
     "text": [
      "2025-04-23 09:00:11.237876: I tensorflow/core/kernels/data/shuffle_dataset_op.cc:482] Shuffle buffer filled.\n",
      "2025-04-23 09:00:11.349992: W tensorflow/core/kernels/data/prefetch_autotuner.cc:52] Prefetch autotuner tried to allocate 88305152 bytes after encountering the first element of size 88305152 bytes.This already causes the autotune ram budget to be exceeded. To stay within the ram budget, either increase the ram budget or reduce element size\n"
     ]
    },
    {
     "name": "stdout",
     "output_type": "stream",
     "text": [
      "\u001b[1m341/561\u001b[0m \u001b[32m━━━━━━━━━━━━\u001b[0m\u001b[37m━━━━━━━━\u001b[0m \u001b[1m55s\u001b[0m 251ms/step - accuracy: 0.9134 - auc: 0.7695 - f1_score: 0.1024 - loss: 0.4426 - precision: 0.4753 - recall: 0.0694 "
     ]
    },
    {
     "name": "stderr",
     "output_type": "stream",
     "text": [
      "2025-04-23 09:01:30.542291: W tensorflow/core/lib/png/png_io.cc:92] PNG warning: iCCP: profile 'ICC Profile': 'GRAY': Gray color space not permitted on RGB PNG\n"
     ]
    },
    {
     "name": "stdout",
     "output_type": "stream",
     "text": [
      "\u001b[1m561/561\u001b[0m \u001b[32m━━━━━━━━━━━━━━━━━━━━\u001b[0m\u001b[37m\u001b[0m \u001b[1m0s\u001b[0m 239ms/step - accuracy: 0.9135 - auc: 0.7708 - f1_score: 0.1025 - loss: 0.4421 - precision: 0.4737 - recall: 0.0694 "
     ]
    },
    {
     "name": "stderr",
     "output_type": "stream",
     "text": [
      "2025-04-23 09:02:28.315780: I tensorflow/core/kernels/data/shuffle_dataset_op.cc:452] ShuffleDatasetV3:13: Filling up shuffle buffer (this may take a while): 5957 of 25000\n",
      "2025-04-23 09:02:46 - INFO - \n",
      "=== Epoch 31 Summary ===\n",
      "2025-04-23 09:02:46 - INFO - Time: 161.43s\n",
      "2025-04-23 09:02:46 - INFO - Training   - accuracy: 0.9137 - auc: 0.7734 - f1_score: 0.1022 - loss: 0.4415 - precision: 0.4722 - recall: 0.0694 - learning_rate: 0.0000\n",
      "2025-04-23 09:02:46 - INFO - Validation - accuracy: 0.9134 - auc: 0.7460 - f1_score: 0.0908 - loss: 0.5222 - precision: 0.4393 - recall: 0.0618\n",
      "2025-04-23 09:02:46 - INFO - ==================================================\n",
      "\n"
     ]
    },
    {
     "name": "stdout",
     "output_type": "stream",
     "text": [
      "\u001b[1m561/561\u001b[0m \u001b[32m━━━━━━━━━━━━━━━━━━━━\u001b[0m\u001b[37m\u001b[0m \u001b[1m161s\u001b[0m 288ms/step - accuracy: 0.9135 - auc: 0.7708 - f1_score: 0.1025 - loss: 0.4421 - precision: 0.4737 - recall: 0.0694 - val_accuracy: 0.9134 - val_auc: 0.7460 - val_f1_score: 0.0908 - val_loss: 0.5222 - val_precision: 0.4393 - val_recall: 0.0618 - learning_rate: 1.0000e-06\n"
     ]
    },
    {
     "name": "stderr",
     "output_type": "stream",
     "text": [
      "2025-04-23 09:02:46 - INFO - \n",
      "=== Starting Epoch 32 ===\n",
      "\n"
     ]
    },
    {
     "name": "stdout",
     "output_type": "stream",
     "text": [
      "Epoch 32/100\n",
      "\u001b[1m 11/561\u001b[0m \u001b[37m━━━━━━━━━━━━━━━━━━━━\u001b[0m \u001b[1m1:52\u001b[0m 204ms/step - accuracy: 0.9125 - auc: 0.7684 - f1_score: 0.1015 - loss: 0.4439 - precision: 0.4905 - recall: 0.0672"
     ]
    },
    {
     "name": "stderr",
     "output_type": "stream",
     "text": [
      "2025-04-23 09:02:48.317103: I tensorflow/core/kernels/data/shuffle_dataset_op.cc:452] ShuffleDatasetV3:13: Filling up shuffle buffer (this may take a while): 18924 of 25000\n"
     ]
    },
    {
     "name": "stdout",
     "output_type": "stream",
     "text": [
      "\u001b[1m 31/561\u001b[0m \u001b[32m━\u001b[0m\u001b[37m━━━━━━━━━━━━━━━━━━━\u001b[0m \u001b[1m1:45\u001b[0m 199ms/step - accuracy: 0.9127 - auc: 0.7691 - f1_score: 0.1017 - loss: 0.4468 - precision: 0.4983 - recall: 0.0677"
     ]
    },
    {
     "name": "stderr",
     "output_type": "stream",
     "text": [
      "2025-04-23 09:02:53.630369: I tensorflow/core/kernels/data/shuffle_dataset_op.cc:482] Shuffle buffer filled.\n",
      "2025-04-23 09:02:53.741855: W tensorflow/core/kernels/data/prefetch_autotuner.cc:52] Prefetch autotuner tried to allocate 134225408 bytes after encountering the first element of size 134225408 bytes.This already causes the autotune ram budget to be exceeded. To stay within the ram budget, either increase the ram budget or reduce element size\n"
     ]
    },
    {
     "name": "stdout",
     "output_type": "stream",
     "text": [
      "\u001b[1m342/561\u001b[0m \u001b[32m━━━━━━━━━━━━\u001b[0m\u001b[37m━━━━━━━━\u001b[0m \u001b[1m55s\u001b[0m 255ms/step - accuracy: 0.9131 - auc: 0.7735 - f1_score: 0.1032 - loss: 0.4437 - precision: 0.4848 - recall: 0.0699 "
     ]
    },
    {
     "name": "stderr",
     "output_type": "stream",
     "text": [
      "2025-04-23 09:04:13.327110: W tensorflow/core/lib/png/png_io.cc:92] PNG warning: iCCP: profile 'ICC Profile': 'GRAY': Gray color space not permitted on RGB PNG\n"
     ]
    },
    {
     "name": "stdout",
     "output_type": "stream",
     "text": [
      "\u001b[1m561/561\u001b[0m \u001b[32m━━━━━━━━━━━━━━━━━━━━\u001b[0m\u001b[37m\u001b[0m \u001b[1m0s\u001b[0m 241ms/step - accuracy: 0.9132 - auc: 0.7734 - f1_score: 0.1025 - loss: 0.4428 - precision: 0.4802 - recall: 0.0696 "
     ]
    },
    {
     "name": "stderr",
     "output_type": "stream",
     "text": [
      "2025-04-23 09:05:11.088698: I tensorflow/core/kernels/data/shuffle_dataset_op.cc:452] ShuffleDatasetV3:13: Filling up shuffle buffer (this may take a while): 5824 of 25000\n",
      "2025-04-23 09:05:21.089366: I tensorflow/core/kernels/data/shuffle_dataset_op.cc:452] ShuffleDatasetV3:13: Filling up shuffle buffer (this may take a while): 11571 of 25000\n",
      "2025-04-23 09:05:28 - INFO - \n",
      "=== Epoch 32 Summary ===\n",
      "2025-04-23 09:05:28 - INFO - Time: 162.56s\n",
      "2025-04-23 09:05:28 - INFO - Training   - accuracy: 0.9137 - auc: 0.7748 - f1_score: 0.1014 - loss: 0.4416 - precision: 0.4732 - recall: 0.0692 - learning_rate: 0.0000\n",
      "2025-04-23 09:05:28 - INFO - Validation - accuracy: 0.9128 - auc: 0.7450 - f1_score: 0.0939 - loss: 0.5217 - precision: 0.4231 - recall: 0.0658\n",
      "2025-04-23 09:05:28 - INFO - ==================================================\n",
      "\n"
     ]
    },
    {
     "name": "stdout",
     "output_type": "stream",
     "text": [
      "\u001b[1m561/561\u001b[0m \u001b[32m━━━━━━━━━━━━━━━━━━━━\u001b[0m\u001b[37m\u001b[0m \u001b[1m163s\u001b[0m 290ms/step - accuracy: 0.9132 - auc: 0.7734 - f1_score: 0.1025 - loss: 0.4428 - precision: 0.4802 - recall: 0.0696 - val_accuracy: 0.9128 - val_auc: 0.7450 - val_f1_score: 0.0939 - val_loss: 0.5217 - val_precision: 0.4231 - val_recall: 0.0658 - learning_rate: 1.0000e-06\n"
     ]
    },
    {
     "name": "stderr",
     "output_type": "stream",
     "text": [
      "2025-04-23 09:05:28 - INFO - \n",
      "=== Starting Epoch 33 ===\n",
      "\n"
     ]
    },
    {
     "name": "stdout",
     "output_type": "stream",
     "text": [
      "Epoch 33/100\n",
      "\u001b[1m 12/561\u001b[0m \u001b[37m━━━━━━━━━━━━━━━━━━━━\u001b[0m \u001b[1m1:51\u001b[0m 203ms/step - accuracy: 0.9155 - auc: 0.7283 - f1_score: 0.0934 - loss: 0.4273 - precision: 0.4912 - recall: 0.0615"
     ]
    },
    {
     "name": "stderr",
     "output_type": "stream",
     "text": [
      "2025-04-23 09:05:31.090240: I tensorflow/core/kernels/data/shuffle_dataset_op.cc:452] ShuffleDatasetV3:13: Filling up shuffle buffer (this may take a while): 18953 of 25000\n"
     ]
    },
    {
     "name": "stdout",
     "output_type": "stream",
     "text": [
      "\u001b[1m 32/561\u001b[0m \u001b[32m━\u001b[0m\u001b[37m━━━━━━━━━━━━━━━━━━━\u001b[0m \u001b[1m1:44\u001b[0m 198ms/step - accuracy: 0.9147 - auc: 0.7453 - f1_score: 0.0954 - loss: 0.4325 - precision: 0.4877 - recall: 0.0638"
     ]
    },
    {
     "name": "stderr",
     "output_type": "stream",
     "text": [
      "2025-04-23 09:05:36.432463: I tensorflow/core/kernels/data/shuffle_dataset_op.cc:482] Shuffle buffer filled.\n",
      "2025-04-23 09:05:36.544479: W tensorflow/core/kernels/data/prefetch_autotuner.cc:52] Prefetch autotuner tried to allocate 134227456 bytes after encountering the first element of size 134227456 bytes.This already causes the autotune ram budget to be exceeded. To stay within the ram budget, either increase the ram budget or reduce element size\n"
     ]
    },
    {
     "name": "stdout",
     "output_type": "stream",
     "text": [
      "\u001b[1m343/561\u001b[0m \u001b[32m━━━━━━━━━━━━\u001b[0m\u001b[37m━━━━━━━━\u001b[0m \u001b[1m56s\u001b[0m 258ms/step - accuracy: 0.9135 - auc: 0.7649 - f1_score: 0.1013 - loss: 0.4389 - precision: 0.4709 - recall: 0.0689 "
     ]
    },
    {
     "name": "stderr",
     "output_type": "stream",
     "text": [
      "2025-04-23 09:06:57.151240: W tensorflow/core/lib/png/png_io.cc:92] PNG warning: iCCP: profile 'ICC Profile': 'GRAY': Gray color space not permitted on RGB PNG\n"
     ]
    },
    {
     "name": "stdout",
     "output_type": "stream",
     "text": [
      "\u001b[1m561/561\u001b[0m \u001b[32m━━━━━━━━━━━━━━━━━━━━\u001b[0m\u001b[37m\u001b[0m \u001b[1m0s\u001b[0m 243ms/step - accuracy: 0.9135 - auc: 0.7675 - f1_score: 0.1018 - loss: 0.4397 - precision: 0.4708 - recall: 0.0694 "
     ]
    },
    {
     "name": "stderr",
     "output_type": "stream",
     "text": [
      "2025-04-23 09:07:59 - INFO - \n",
      "=== Epoch 33 Summary ===\n",
      "2025-04-23 09:07:59 - INFO - Time: 150.42s\n",
      "2025-04-23 09:07:59 - INFO - Training   - accuracy: 0.9136 - auc: 0.7727 - f1_score: 0.1030 - loss: 0.4407 - precision: 0.4707 - recall: 0.0703 - learning_rate: 0.0000\n",
      "2025-04-23 09:07:59 - INFO - Validation - accuracy: 0.9130 - auc: 0.7470 - f1_score: 0.0914 - loss: 0.5213 - precision: 0.4279 - recall: 0.0626\n",
      "2025-04-23 09:07:59 - INFO - ==================================================\n",
      "\n"
     ]
    },
    {
     "name": "stdout",
     "output_type": "stream",
     "text": [
      "\u001b[1m561/561\u001b[0m \u001b[32m━━━━━━━━━━━━━━━━━━━━\u001b[0m\u001b[37m\u001b[0m \u001b[1m150s\u001b[0m 268ms/step - accuracy: 0.9135 - auc: 0.7675 - f1_score: 0.1018 - loss: 0.4397 - precision: 0.4708 - recall: 0.0694 - val_accuracy: 0.9130 - val_auc: 0.7470 - val_f1_score: 0.0914 - val_loss: 0.5213 - val_precision: 0.4279 - val_recall: 0.0626 - learning_rate: 1.0000e-06\n"
     ]
    },
    {
     "name": "stderr",
     "output_type": "stream",
     "text": [
      "2025-04-23 09:07:59 - INFO - \n",
      "=== Starting Epoch 34 ===\n",
      "\n"
     ]
    },
    {
     "name": "stdout",
     "output_type": "stream",
     "text": [
      "Epoch 34/100\n",
      "\u001b[1m 33/561\u001b[0m \u001b[32m━\u001b[0m\u001b[37m━━━━━━━━━━━━━━━━━━━\u001b[0m \u001b[1m1:44\u001b[0m 199ms/step - accuracy: 0.9140 - auc: 0.7865 - f1_score: 0.1063 - loss: 0.4467 - precision: 0.4833 - recall: 0.0720"
     ]
    },
    {
     "name": "stderr",
     "output_type": "stream",
     "text": [
      "2025-04-23 09:08:09.258724: I tensorflow/core/kernels/data/shuffle_dataset_op.cc:452] ShuffleDatasetV3:13: Filling up shuffle buffer (this may take a while): 11292 of 25000\n",
      "2025-04-23 09:08:19.263291: I tensorflow/core/kernels/data/shuffle_dataset_op.cc:452] ShuffleDatasetV3:13: Filling up shuffle buffer (this may take a while): 22744 of 25000\n",
      "2025-04-23 09:08:21.425815: I tensorflow/core/kernels/data/shuffle_dataset_op.cc:482] Shuffle buffer filled.\n",
      "2025-04-23 09:08:21.550555: W tensorflow/core/kernels/data/prefetch_autotuner.cc:52] Prefetch autotuner tried to allocate 134225408 bytes after encountering the first element of size 134225408 bytes.This already causes the autotune ram budget to be exceeded. To stay within the ram budget, either increase the ram budget or reduce element size\n"
     ]
    },
    {
     "name": "stdout",
     "output_type": "stream",
     "text": [
      "\u001b[1m344/561\u001b[0m \u001b[32m━━━━━━━━━━━━\u001b[0m\u001b[37m━━━━━━━━\u001b[0m \u001b[1m1:05\u001b[0m 302ms/step - accuracy: 0.9137 - auc: 0.7719 - f1_score: 0.1014 - loss: 0.4416 - precision: 0.4687 - recall: 0.0683"
     ]
    },
    {
     "name": "stderr",
     "output_type": "stream",
     "text": [
      "2025-04-23 09:09:43.073188: W tensorflow/core/lib/png/png_io.cc:92] PNG warning: iCCP: profile 'ICC Profile': 'GRAY': Gray color space not permitted on RGB PNG\n"
     ]
    },
    {
     "name": "stdout",
     "output_type": "stream",
     "text": [
      "\u001b[1m561/561\u001b[0m \u001b[32m━━━━━━━━━━━━━━━━━━━━\u001b[0m\u001b[37m\u001b[0m \u001b[1m0s\u001b[0m 270ms/step - accuracy: 0.9137 - auc: 0.7727 - f1_score: 0.1009 - loss: 0.4410 - precision: 0.4678 - recall: 0.0682  "
     ]
    },
    {
     "name": "stderr",
     "output_type": "stream",
     "text": [
      "2025-04-23 09:10:44 - INFO - \n",
      "=== Epoch 34 Summary ===\n",
      "2025-04-23 09:10:44 - INFO - Time: 165.65s\n",
      "2025-04-23 09:10:44 - INFO - Training   - accuracy: 0.9136 - auc: 0.7752 - f1_score: 0.1020 - loss: 0.4398 - precision: 0.4711 - recall: 0.0694 - learning_rate: 0.0000\n",
      "2025-04-23 09:10:44 - INFO - Validation - accuracy: 0.9130 - auc: 0.7457 - f1_score: 0.0918 - loss: 0.5217 - precision: 0.4290 - recall: 0.0639\n",
      "2025-04-23 09:10:44 - INFO - ==================================================\n",
      "\n"
     ]
    },
    {
     "name": "stdout",
     "output_type": "stream",
     "text": [
      "\u001b[1m561/561\u001b[0m \u001b[32m━━━━━━━━━━━━━━━━━━━━\u001b[0m\u001b[37m\u001b[0m \u001b[1m166s\u001b[0m 295ms/step - accuracy: 0.9137 - auc: 0.7727 - f1_score: 0.1009 - loss: 0.4410 - precision: 0.4678 - recall: 0.0682 - val_accuracy: 0.9130 - val_auc: 0.7457 - val_f1_score: 0.0918 - val_loss: 0.5217 - val_precision: 0.4290 - val_recall: 0.0639 - learning_rate: 1.0000e-06\n"
     ]
    },
    {
     "name": "stderr",
     "output_type": "stream",
     "text": [
      "2025-04-23 09:10:44 - INFO - \n",
      "=== Starting Epoch 35 ===\n",
      "\n"
     ]
    },
    {
     "name": "stdout",
     "output_type": "stream",
     "text": [
      "Epoch 35/100\n",
      "\u001b[1m 34/561\u001b[0m \u001b[32m━\u001b[0m\u001b[37m━━━━━━━━━━━━━━━━━━━\u001b[0m \u001b[1m1:45\u001b[0m 200ms/step - accuracy: 0.9140 - auc: 0.7724 - f1_score: 0.1170 - loss: 0.4401 - precision: 0.4817 - recall: 0.0797"
     ]
    },
    {
     "name": "stderr",
     "output_type": "stream",
     "text": [
      "2025-04-23 09:10:55.114667: I tensorflow/core/kernels/data/shuffle_dataset_op.cc:452] ShuffleDatasetV3:13: Filling up shuffle buffer (this may take a while): 11339 of 25000\n",
      "2025-04-23 09:11:05.115551: I tensorflow/core/kernels/data/shuffle_dataset_op.cc:452] ShuffleDatasetV3:13: Filling up shuffle buffer (this may take a while): 22764 of 25000\n",
      "2025-04-23 09:11:07.220901: I tensorflow/core/kernels/data/shuffle_dataset_op.cc:482] Shuffle buffer filled.\n",
      "2025-04-23 09:11:07.334714: W tensorflow/core/kernels/data/prefetch_autotuner.cc:52] Prefetch autotuner tried to allocate 134227456 bytes after encountering the first element of size 134227456 bytes.This already causes the autotune ram budget to be exceeded. To stay within the ram budget, either increase the ram budget or reduce element size\n"
     ]
    },
    {
     "name": "stdout",
     "output_type": "stream",
     "text": [
      "\u001b[1m345/561\u001b[0m \u001b[32m━━━━━━━━━━━━\u001b[0m\u001b[37m━━━━━━━━\u001b[0m \u001b[1m1:03\u001b[0m 296ms/step - accuracy: 0.9141 - auc: 0.7748 - f1_score: 0.1074 - loss: 0.4421 - precision: 0.4796 - recall: 0.0730"
     ]
    },
    {
     "name": "stderr",
     "output_type": "stream",
     "text": [
      "2025-04-23 09:12:26.990347: W tensorflow/core/lib/png/png_io.cc:92] PNG warning: iCCP: profile 'ICC Profile': 'GRAY': Gray color space not permitted on RGB PNG\n"
     ]
    },
    {
     "name": "stdout",
     "output_type": "stream",
     "text": [
      "\u001b[1m561/561\u001b[0m \u001b[32m━━━━━━━━━━━━━━━━━━━━\u001b[0m\u001b[37m\u001b[0m \u001b[1m0s\u001b[0m 267ms/step - accuracy: 0.9140 - auc: 0.7744 - f1_score: 0.1057 - loss: 0.4416 - precision: 0.4777 - recall: 0.0720  "
     ]
    },
    {
     "name": "stderr",
     "output_type": "stream",
     "text": [
      "2025-04-23 09:13:29 - INFO - \n",
      "=== Epoch 35 Summary ===\n",
      "2025-04-23 09:13:29 - INFO - Time: 164.32s\n",
      "2025-04-23 09:13:29 - INFO - Training   - accuracy: 0.9139 - auc: 0.7740 - f1_score: 0.1035 - loss: 0.4402 - precision: 0.4753 - recall: 0.0706 - learning_rate: 0.0000\n",
      "2025-04-23 09:13:29 - INFO - Validation - accuracy: 0.9134 - auc: 0.7489 - f1_score: 0.1000 - loss: 0.5186 - precision: 0.4443 - recall: 0.0687\n",
      "2025-04-23 09:13:29 - INFO - ==================================================\n",
      "\n"
     ]
    },
    {
     "name": "stdout",
     "output_type": "stream",
     "text": [
      "\u001b[1m561/561\u001b[0m \u001b[32m━━━━━━━━━━━━━━━━━━━━\u001b[0m\u001b[37m\u001b[0m \u001b[1m164s\u001b[0m 293ms/step - accuracy: 0.9140 - auc: 0.7744 - f1_score: 0.1057 - loss: 0.4415 - precision: 0.4777 - recall: 0.0720 - val_accuracy: 0.9134 - val_auc: 0.7489 - val_f1_score: 0.1000 - val_loss: 0.5186 - val_precision: 0.4443 - val_recall: 0.0687 - learning_rate: 1.0000e-06\n"
     ]
    },
    {
     "name": "stderr",
     "output_type": "stream",
     "text": [
      "2025-04-23 09:13:29 - INFO - \n",
      "=== Starting Epoch 36 ===\n",
      "\n"
     ]
    },
    {
     "name": "stdout",
     "output_type": "stream",
     "text": [
      "Epoch 36/100\n",
      "\u001b[1m 35/561\u001b[0m \u001b[32m━\u001b[0m\u001b[37m━━━━━━━━━━━━━━━━━━━\u001b[0m \u001b[1m1:45\u001b[0m 200ms/step - accuracy: 0.9129 - auc: 0.7903 - f1_score: 0.1101 - loss: 0.4435 - precision: 0.5191 - recall: 0.0762"
     ]
    },
    {
     "name": "stderr",
     "output_type": "stream",
     "text": [
      "2025-04-23 09:13:39.676651: I tensorflow/core/kernels/data/shuffle_dataset_op.cc:452] ShuffleDatasetV3:13: Filling up shuffle buffer (this may take a while): 11379 of 25000\n",
      "2025-04-23 09:13:49.677276: I tensorflow/core/kernels/data/shuffle_dataset_op.cc:452] ShuffleDatasetV3:13: Filling up shuffle buffer (this may take a while): 22813 of 25000\n",
      "2025-04-23 09:13:51.675427: I tensorflow/core/kernels/data/shuffle_dataset_op.cc:482] Shuffle buffer filled.\n",
      "2025-04-23 09:13:51.789833: W tensorflow/core/kernels/data/prefetch_autotuner.cc:52] Prefetch autotuner tried to allocate 134227456 bytes after encountering the first element of size 134227456 bytes.This already causes the autotune ram budget to be exceeded. To stay within the ram budget, either increase the ram budget or reduce element size\n"
     ]
    },
    {
     "name": "stdout",
     "output_type": "stream",
     "text": [
      "\u001b[1m346/561\u001b[0m \u001b[32m━━━━━━━━━━━━\u001b[0m\u001b[37m━━━━━━━━\u001b[0m \u001b[1m1:04\u001b[0m 300ms/step - accuracy: 0.9133 - auc: 0.7769 - f1_score: 0.1043 - loss: 0.4417 - precision: 0.4826 - recall: 0.0713"
     ]
    },
    {
     "name": "stderr",
     "output_type": "stream",
     "text": [
      "2025-04-23 09:15:12.880174: W tensorflow/core/lib/png/png_io.cc:92] PNG warning: iCCP: profile 'ICC Profile': 'GRAY': Gray color space not permitted on RGB PNG\n"
     ]
    },
    {
     "name": "stdout",
     "output_type": "stream",
     "text": [
      "\u001b[1m561/561\u001b[0m \u001b[32m━━━━━━━━━━━━━━━━━━━━\u001b[0m\u001b[37m\u001b[0m \u001b[1m0s\u001b[0m 269ms/step - accuracy: 0.9134 - auc: 0.7762 - f1_score: 0.1041 - loss: 0.4413 - precision: 0.4807 - recall: 0.0710  "
     ]
    },
    {
     "name": "stderr",
     "output_type": "stream",
     "text": [
      "2025-04-23 09:16:14 - INFO - \n",
      "=== Epoch 36 Summary ===\n",
      "2025-04-23 09:16:14 - INFO - Time: 164.86s\n",
      "2025-04-23 09:16:14 - INFO - Training   - accuracy: 0.9138 - auc: 0.7757 - f1_score: 0.1042 - loss: 0.4405 - precision: 0.4790 - recall: 0.0709 - learning_rate: 0.0000\n",
      "2025-04-23 09:16:14 - INFO - Validation - accuracy: 0.9128 - auc: 0.7453 - f1_score: 0.0932 - loss: 0.5217 - precision: 0.4214 - recall: 0.0650\n",
      "2025-04-23 09:16:14 - INFO - ==================================================\n",
      "\n"
     ]
    },
    {
     "name": "stdout",
     "output_type": "stream",
     "text": [
      "\u001b[1m561/561\u001b[0m \u001b[32m━━━━━━━━━━━━━━━━━━━━\u001b[0m\u001b[37m\u001b[0m \u001b[1m165s\u001b[0m 294ms/step - accuracy: 0.9134 - auc: 0.7762 - f1_score: 0.1041 - loss: 0.4413 - precision: 0.4807 - recall: 0.0710 - val_accuracy: 0.9128 - val_auc: 0.7453 - val_f1_score: 0.0932 - val_loss: 0.5217 - val_precision: 0.4214 - val_recall: 0.0650 - learning_rate: 1.0000e-06\n"
     ]
    },
    {
     "name": "stderr",
     "output_type": "stream",
     "text": [
      "2025-04-23 09:16:14 - INFO - \n",
      "=== Starting Epoch 37 ===\n",
      "\n"
     ]
    },
    {
     "name": "stdout",
     "output_type": "stream",
     "text": [
      "Epoch 37/100\n",
      "\u001b[1m 36/561\u001b[0m \u001b[32m━\u001b[0m\u001b[37m━━━━━━━━━━━━━━━━━━━\u001b[0m \u001b[1m1:44\u001b[0m 200ms/step - accuracy: 0.9139 - auc: 0.7736 - f1_score: 0.1038 - loss: 0.4345 - precision: 0.4705 - recall: 0.0718"
     ]
    },
    {
     "name": "stderr",
     "output_type": "stream",
     "text": [
      "2025-04-23 09:16:24.747801: I tensorflow/core/kernels/data/shuffle_dataset_op.cc:452] ShuffleDatasetV3:13: Filling up shuffle buffer (this may take a while): 11343 of 25000\n",
      "2025-04-23 09:16:34.752618: I tensorflow/core/kernels/data/shuffle_dataset_op.cc:452] ShuffleDatasetV3:13: Filling up shuffle buffer (this may take a while): 22834 of 25000\n",
      "2025-04-23 09:16:36.684851: I tensorflow/core/kernels/data/shuffle_dataset_op.cc:482] Shuffle buffer filled.\n",
      "2025-04-23 09:16:36.795714: W tensorflow/core/kernels/data/prefetch_autotuner.cc:52] Prefetch autotuner tried to allocate 134227456 bytes after encountering the first element of size 134227456 bytes.This already causes the autotune ram budget to be exceeded. To stay within the ram budget, either increase the ram budget or reduce element size\n"
     ]
    },
    {
     "name": "stdout",
     "output_type": "stream",
     "text": [
      "\u001b[1m347/561\u001b[0m \u001b[32m━━━━━━━━━━━━\u001b[0m\u001b[37m━━━━━━━━\u001b[0m \u001b[1m1:03\u001b[0m 297ms/step - accuracy: 0.9137 - auc: 0.7739 - f1_score: 0.1069 - loss: 0.4383 - precision: 0.4697 - recall: 0.0736"
     ]
    },
    {
     "name": "stderr",
     "output_type": "stream",
     "text": [
      "2025-04-23 09:17:57.281192: W tensorflow/core/lib/png/png_io.cc:92] PNG warning: iCCP: profile 'ICC Profile': 'GRAY': Gray color space not permitted on RGB PNG\n"
     ]
    },
    {
     "name": "stdout",
     "output_type": "stream",
     "text": [
      "\u001b[1m561/561\u001b[0m \u001b[32m━━━━━━━━━━━━━━━━━━━━\u001b[0m\u001b[37m\u001b[0m \u001b[1m0s\u001b[0m 268ms/step - accuracy: 0.9136 - auc: 0.7742 - f1_score: 0.1055 - loss: 0.4387 - precision: 0.4685 - recall: 0.0727  "
     ]
    },
    {
     "name": "stderr",
     "output_type": "stream",
     "text": [
      "2025-04-23 09:18:59 - INFO - \n",
      "=== Epoch 37 Summary ===\n",
      "2025-04-23 09:18:59 - INFO - Time: 165.28s\n",
      "2025-04-23 09:18:59 - INFO - Training   - accuracy: 0.9136 - auc: 0.7760 - f1_score: 0.1045 - loss: 0.4395 - precision: 0.4696 - recall: 0.0718 - learning_rate: 0.0000\n",
      "2025-04-23 09:18:59 - INFO - Validation - accuracy: 0.9135 - auc: 0.7496 - f1_score: 0.1045 - loss: 0.5180 - precision: 0.4516 - recall: 0.0713\n",
      "2025-04-23 09:18:59 - INFO - ==================================================\n",
      "\n"
     ]
    },
    {
     "name": "stdout",
     "output_type": "stream",
     "text": [
      "\u001b[1m561/561\u001b[0m \u001b[32m━━━━━━━━━━━━━━━━━━━━\u001b[0m\u001b[37m\u001b[0m \u001b[1m165s\u001b[0m 295ms/step - accuracy: 0.9136 - auc: 0.7742 - f1_score: 0.1055 - loss: 0.4387 - precision: 0.4685 - recall: 0.0727 - val_accuracy: 0.9135 - val_auc: 0.7496 - val_f1_score: 0.1045 - val_loss: 0.5180 - val_precision: 0.4516 - val_recall: 0.0713 - learning_rate: 1.0000e-06\n"
     ]
    },
    {
     "name": "stderr",
     "output_type": "stream",
     "text": [
      "2025-04-23 09:18:59 - INFO - \n",
      "=== Starting Epoch 38 ===\n",
      "\n"
     ]
    },
    {
     "name": "stdout",
     "output_type": "stream",
     "text": [
      "Epoch 38/100\n",
      "\u001b[1m 37/561\u001b[0m \u001b[32m━\u001b[0m\u001b[37m━━━━━━━━━━━━━━━━━━━\u001b[0m \u001b[1m1:45\u001b[0m 201ms/step - accuracy: 0.9144 - auc: 0.7749 - f1_score: 0.1020 - loss: 0.4360 - precision: 0.4599 - recall: 0.0702"
     ]
    },
    {
     "name": "stderr",
     "output_type": "stream",
     "text": [
      "2025-04-23 09:19:10.290725: I tensorflow/core/kernels/data/shuffle_dataset_op.cc:452] ShuffleDatasetV3:13: Filling up shuffle buffer (this may take a while): 11354 of 25000\n",
      "2025-04-23 09:19:22.256141: I tensorflow/core/kernels/data/shuffle_dataset_op.cc:482] Shuffle buffer filled.\n",
      "2025-04-23 09:19:22.370779: W tensorflow/core/kernels/data/prefetch_autotuner.cc:52] Prefetch autotuner tried to allocate 134227456 bytes after encountering the first element of size 134227456 bytes.This already causes the autotune ram budget to be exceeded. To stay within the ram budget, either increase the ram budget or reduce element size\n"
     ]
    },
    {
     "name": "stdout",
     "output_type": "stream",
     "text": [
      "\u001b[1m348/561\u001b[0m \u001b[32m━━━━━━━━━━━━\u001b[0m\u001b[37m━━━━━━━━\u001b[0m \u001b[1m1:03\u001b[0m 300ms/step - accuracy: 0.9140 - auc: 0.7755 - f1_score: 0.1087 - loss: 0.4374 - precision: 0.4765 - recall: 0.0746"
     ]
    },
    {
     "name": "stderr",
     "output_type": "stream",
     "text": [
      "2025-04-23 09:20:43.645599: W tensorflow/core/lib/png/png_io.cc:92] PNG warning: iCCP: profile 'ICC Profile': 'GRAY': Gray color space not permitted on RGB PNG\n"
     ]
    },
    {
     "name": "stdout",
     "output_type": "stream",
     "text": [
      "\u001b[1m561/561\u001b[0m \u001b[32m━━━━━━━━━━━━━━━━━━━━\u001b[0m\u001b[37m\u001b[0m \u001b[1m0s\u001b[0m 269ms/step - accuracy: 0.9139 - auc: 0.7755 - f1_score: 0.1084 - loss: 0.4379 - precision: 0.4759 - recall: 0.0744  "
     ]
    },
    {
     "name": "stderr",
     "output_type": "stream",
     "text": [
      "2025-04-23 09:21:44 - INFO - \n",
      "=== Epoch 38 Summary ===\n",
      "2025-04-23 09:21:44 - INFO - Time: 165.06s\n",
      "2025-04-23 09:21:44 - INFO - Training   - accuracy: 0.9138 - auc: 0.7766 - f1_score: 0.1075 - loss: 0.4386 - precision: 0.4749 - recall: 0.0739 - learning_rate: 0.0000\n",
      "2025-04-23 09:21:44 - INFO - Validation - accuracy: 0.9138 - auc: 0.7466 - f1_score: 0.0963 - loss: 0.5179 - precision: 0.4575 - recall: 0.0656\n",
      "2025-04-23 09:21:44 - INFO - ==================================================\n",
      "\n"
     ]
    },
    {
     "name": "stdout",
     "output_type": "stream",
     "text": [
      "\u001b[1m561/561\u001b[0m \u001b[32m━━━━━━━━━━━━━━━━━━━━\u001b[0m\u001b[37m\u001b[0m \u001b[1m165s\u001b[0m 294ms/step - accuracy: 0.9139 - auc: 0.7755 - f1_score: 0.1084 - loss: 0.4379 - precision: 0.4759 - recall: 0.0744 - val_accuracy: 0.9138 - val_auc: 0.7466 - val_f1_score: 0.0963 - val_loss: 0.5179 - val_precision: 0.4575 - val_recall: 0.0656 - learning_rate: 1.0000e-06\n"
     ]
    },
    {
     "name": "stderr",
     "output_type": "stream",
     "text": [
      "2025-04-23 09:21:44 - INFO - \n",
      "=== Starting Epoch 39 ===\n",
      "\n"
     ]
    },
    {
     "name": "stdout",
     "output_type": "stream",
     "text": [
      "Epoch 39/100\n",
      "\u001b[1m 38/561\u001b[0m \u001b[32m━\u001b[0m\u001b[37m━━━━━━━━━━━━━━━━━━━\u001b[0m \u001b[1m1:44\u001b[0m 200ms/step - accuracy: 0.9134 - auc: 0.7759 - f1_score: 0.1111 - loss: 0.4414 - precision: 0.5045 - recall: 0.0740"
     ]
    },
    {
     "name": "stderr",
     "output_type": "stream",
     "text": [
      "2025-04-23 09:21:55.566430: I tensorflow/core/kernels/data/shuffle_dataset_op.cc:452] ShuffleDatasetV3:13: Filling up shuffle buffer (this may take a while): 11313 of 25000\n",
      "2025-04-23 09:22:07.612471: I tensorflow/core/kernels/data/shuffle_dataset_op.cc:482] Shuffle buffer filled.\n",
      "2025-04-23 09:22:07.722521: W tensorflow/core/kernels/data/prefetch_autotuner.cc:52] Prefetch autotuner tried to allocate 134227456 bytes after encountering the first element of size 134227456 bytes.This already causes the autotune ram budget to be exceeded. To stay within the ram budget, either increase the ram budget or reduce element size\n"
     ]
    },
    {
     "name": "stdout",
     "output_type": "stream",
     "text": [
      "\u001b[1m349/561\u001b[0m \u001b[32m━━━━━━━━━━━━\u001b[0m\u001b[37m━━━━━━━━\u001b[0m \u001b[1m1:02\u001b[0m 294ms/step - accuracy: 0.9136 - auc: 0.7752 - f1_score: 0.1094 - loss: 0.4392 - precision: 0.4810 - recall: 0.0744"
     ]
    },
    {
     "name": "stderr",
     "output_type": "stream",
     "text": [
      "2025-04-23 09:23:27.186316: W tensorflow/core/lib/png/png_io.cc:92] PNG warning: iCCP: profile 'ICC Profile': 'GRAY': Gray color space not permitted on RGB PNG\n"
     ]
    },
    {
     "name": "stdout",
     "output_type": "stream",
     "text": [
      "\u001b[1m561/561\u001b[0m \u001b[32m━━━━━━━━━━━━━━━━━━━━\u001b[0m\u001b[37m\u001b[0m \u001b[1m0s\u001b[0m 266ms/step - accuracy: 0.9136 - auc: 0.7752 - f1_score: 0.1085 - loss: 0.4388 - precision: 0.4784 - recall: 0.0740  "
     ]
    },
    {
     "name": "stderr",
     "output_type": "stream",
     "text": [
      "2025-04-23 09:24:14.039501: W tensorflow/core/kernels/data/prefetch_autotuner.cc:52] Prefetch autotuner tried to allocate 134225408 bytes after encountering the first element of size 134225408 bytes.This already causes the autotune ram budget to be exceeded. To stay within the ram budget, either increase the ram budget or reduce element size\n",
      "2025-04-23 09:24:27 - INFO - \n",
      "=== Epoch 39 Summary ===\n",
      "2025-04-23 09:24:27 - INFO - Time: 163.31s\n",
      "2025-04-23 09:24:27 - INFO - Training   - accuracy: 0.9137 - auc: 0.7765 - f1_score: 0.1074 - loss: 0.4382 - precision: 0.4755 - recall: 0.0735 - learning_rate: 0.0000\n",
      "2025-04-23 09:24:27 - INFO - Validation - accuracy: 0.9127 - auc: 0.7452 - f1_score: 0.0952 - loss: 0.5213 - precision: 0.4205 - recall: 0.0678\n",
      "2025-04-23 09:24:27 - INFO - ==================================================\n",
      "\n"
     ]
    },
    {
     "name": "stdout",
     "output_type": "stream",
     "text": [
      "\u001b[1m561/561\u001b[0m \u001b[32m━━━━━━━━━━━━━━━━━━━━\u001b[0m\u001b[37m\u001b[0m \u001b[1m163s\u001b[0m 291ms/step - accuracy: 0.9136 - auc: 0.7752 - f1_score: 0.1085 - loss: 0.4388 - precision: 0.4784 - recall: 0.0740 - val_accuracy: 0.9127 - val_auc: 0.7452 - val_f1_score: 0.0952 - val_loss: 0.5213 - val_precision: 0.4205 - val_recall: 0.0678 - learning_rate: 1.0000e-06\n"
     ]
    },
    {
     "name": "stderr",
     "output_type": "stream",
     "text": [
      "2025-04-23 09:24:27 - INFO - \n",
      "=== Starting Epoch 40 ===\n",
      "\n"
     ]
    },
    {
     "name": "stdout",
     "output_type": "stream",
     "text": [
      "Epoch 40/100\n",
      "\u001b[1m 39/561\u001b[0m \u001b[32m━\u001b[0m\u001b[37m━━━━━━━━━━━━━━━━━━━\u001b[0m \u001b[1m1:44\u001b[0m 200ms/step - accuracy: 0.9152 - auc: 0.7794 - f1_score: 0.1177 - loss: 0.4372 - precision: 0.4980 - recall: 0.0823"
     ]
    },
    {
     "name": "stderr",
     "output_type": "stream",
     "text": [
      "2025-04-23 09:24:39.088314: I tensorflow/core/kernels/data/shuffle_dataset_op.cc:452] ShuffleDatasetV3:13: Filling up shuffle buffer (this may take a while): 11267 of 25000\n",
      "2025-04-23 09:24:51.104309: I tensorflow/core/kernels/data/shuffle_dataset_op.cc:482] Shuffle buffer filled.\n",
      "2025-04-23 09:24:51.218644: W tensorflow/core/kernels/data/prefetch_autotuner.cc:52] Prefetch autotuner tried to allocate 134227456 bytes after encountering the first element of size 134227456 bytes.This already causes the autotune ram budget to be exceeded. To stay within the ram budget, either increase the ram budget or reduce element size\n"
     ]
    },
    {
     "name": "stdout",
     "output_type": "stream",
     "text": [
      "\u001b[1m350/561\u001b[0m \u001b[32m━━━━━━━━━━━━\u001b[0m\u001b[37m━━━━━━━━\u001b[0m \u001b[1m1:03\u001b[0m 299ms/step - accuracy: 0.9140 - auc: 0.7779 - f1_score: 0.1106 - loss: 0.4394 - precision: 0.4814 - recall: 0.0763"
     ]
    },
    {
     "name": "stderr",
     "output_type": "stream",
     "text": [
      "2025-04-23 09:26:12.355685: W tensorflow/core/lib/png/png_io.cc:92] PNG warning: iCCP: profile 'ICC Profile': 'GRAY': Gray color space not permitted on RGB PNG\n"
     ]
    },
    {
     "name": "stdout",
     "output_type": "stream",
     "text": [
      "\u001b[1m561/561\u001b[0m \u001b[32m━━━━━━━━━━━━━━━━━━━━\u001b[0m\u001b[37m\u001b[0m \u001b[1m0s\u001b[0m 269ms/step - accuracy: 0.9139 - auc: 0.7772 - f1_score: 0.1097 - loss: 0.4392 - precision: 0.4789 - recall: 0.0756  "
     ]
    },
    {
     "name": "stderr",
     "output_type": "stream",
     "text": [
      "2025-04-23 09:27:12 - INFO - \n",
      "=== Epoch 40 Summary ===\n",
      "2025-04-23 09:27:12 - INFO - Time: 164.89s\n",
      "2025-04-23 09:27:12 - INFO - Training   - accuracy: 0.9138 - auc: 0.7772 - f1_score: 0.1086 - loss: 0.4386 - precision: 0.4769 - recall: 0.0747 - learning_rate: 0.0000\n",
      "2025-04-23 09:27:12 - INFO - Validation - accuracy: 0.9131 - auc: 0.7451 - f1_score: 0.0953 - loss: 0.5194 - precision: 0.4321 - recall: 0.0656\n",
      "2025-04-23 09:27:12 - INFO - ==================================================\n",
      "\n"
     ]
    },
    {
     "name": "stdout",
     "output_type": "stream",
     "text": [
      "\u001b[1m561/561\u001b[0m \u001b[32m━━━━━━━━━━━━━━━━━━━━\u001b[0m\u001b[37m\u001b[0m \u001b[1m165s\u001b[0m 294ms/step - accuracy: 0.9139 - auc: 0.7772 - f1_score: 0.1097 - loss: 0.4392 - precision: 0.4788 - recall: 0.0756 - val_accuracy: 0.9131 - val_auc: 0.7451 - val_f1_score: 0.0953 - val_loss: 0.5194 - val_precision: 0.4321 - val_recall: 0.0656 - learning_rate: 1.0000e-06\n"
     ]
    },
    {
     "name": "stderr",
     "output_type": "stream",
     "text": [
      "2025-04-23 09:27:12 - INFO - \n",
      "=== Starting Epoch 41 ===\n",
      "\n"
     ]
    },
    {
     "name": "stdout",
     "output_type": "stream",
     "text": [
      "Epoch 41/100\n",
      "\u001b[1m 40/561\u001b[0m \u001b[32m━\u001b[0m\u001b[37m━━━━━━━━━━━━━━━━━━━\u001b[0m \u001b[1m1:44\u001b[0m 200ms/step - accuracy: 0.9133 - auc: 0.7770 - f1_score: 0.1000 - loss: 0.4353 - precision: 0.4610 - recall: 0.0669"
     ]
    },
    {
     "name": "stderr",
     "output_type": "stream",
     "text": [
      "2025-04-23 09:27:24.186522: I tensorflow/core/kernels/data/shuffle_dataset_op.cc:452] ShuffleDatasetV3:13: Filling up shuffle buffer (this may take a while): 11301 of 25000\n",
      "2025-04-23 09:27:36.138887: I tensorflow/core/kernels/data/shuffle_dataset_op.cc:482] Shuffle buffer filled.\n",
      "2025-04-23 09:27:36.248194: W tensorflow/core/kernels/data/prefetch_autotuner.cc:52] Prefetch autotuner tried to allocate 134227456 bytes after encountering the first element of size 134227456 bytes.This already causes the autotune ram budget to be exceeded. To stay within the ram budget, either increase the ram budget or reduce element size\n"
     ]
    },
    {
     "name": "stdout",
     "output_type": "stream",
     "text": [
      "\u001b[1m351/561\u001b[0m \u001b[32m━━━━━━━━━━━━\u001b[0m\u001b[37m━━━━━━━━\u001b[0m \u001b[1m1:02\u001b[0m 297ms/step - accuracy: 0.9135 - auc: 0.7738 - f1_score: 0.1071 - loss: 0.4385 - precision: 0.4709 - recall: 0.0733"
     ]
    },
    {
     "name": "stderr",
     "output_type": "stream",
     "text": [
      "2025-04-23 09:28:56.912603: W tensorflow/core/lib/png/png_io.cc:92] PNG warning: iCCP: profile 'ICC Profile': 'GRAY': Gray color space not permitted on RGB PNG\n"
     ]
    },
    {
     "name": "stdout",
     "output_type": "stream",
     "text": [
      "\u001b[1m561/561\u001b[0m \u001b[32m━━━━━━━━━━━━━━━━━━━━\u001b[0m\u001b[37m\u001b[0m \u001b[1m0s\u001b[0m 268ms/step - accuracy: 0.9136 - auc: 0.7750 - f1_score: 0.1068 - loss: 0.4381 - precision: 0.4708 - recall: 0.0732  "
     ]
    },
    {
     "name": "stderr",
     "output_type": "stream",
     "text": [
      "2025-04-23 09:29:57 - INFO - \n",
      "=== Epoch 41 Summary ===\n",
      "2025-04-23 09:29:57 - INFO - Time: 164.32s\n",
      "2025-04-23 09:29:57 - INFO - Training   - accuracy: 0.9137 - auc: 0.7777 - f1_score: 0.1073 - loss: 0.4376 - precision: 0.4743 - recall: 0.0736 - learning_rate: 0.0000\n",
      "2025-04-23 09:29:57 - INFO - Validation - accuracy: 0.9135 - auc: 0.7486 - f1_score: 0.1043 - loss: 0.5163 - precision: 0.4510 - recall: 0.0710\n",
      "2025-04-23 09:29:57 - INFO - ==================================================\n",
      "\n"
     ]
    },
    {
     "name": "stdout",
     "output_type": "stream",
     "text": [
      "\u001b[1m561/561\u001b[0m \u001b[32m━━━━━━━━━━━━━━━━━━━━\u001b[0m\u001b[37m\u001b[0m \u001b[1m164s\u001b[0m 293ms/step - accuracy: 0.9136 - auc: 0.7750 - f1_score: 0.1068 - loss: 0.4381 - precision: 0.4708 - recall: 0.0732 - val_accuracy: 0.9135 - val_auc: 0.7486 - val_f1_score: 0.1043 - val_loss: 0.5163 - val_precision: 0.4510 - val_recall: 0.0710 - learning_rate: 1.0000e-06\n"
     ]
    },
    {
     "name": "stderr",
     "output_type": "stream",
     "text": [
      "2025-04-23 09:29:57 - INFO - \n",
      "=== Starting Epoch 42 ===\n",
      "\n"
     ]
    },
    {
     "name": "stdout",
     "output_type": "stream",
     "text": [
      "Epoch 42/100\n",
      "\u001b[1m 41/561\u001b[0m \u001b[32m━\u001b[0m\u001b[37m━━━━━━━━━━━━━━━━━━━\u001b[0m \u001b[1m1:43\u001b[0m 200ms/step - accuracy: 0.9135 - auc: 0.7616 - f1_score: 0.1026 - loss: 0.4369 - precision: 0.4823 - recall: 0.0717"
     ]
    },
    {
     "name": "stderr",
     "output_type": "stream",
     "text": [
      "2025-04-23 09:30:08.734600: I tensorflow/core/kernels/data/shuffle_dataset_op.cc:452] ShuffleDatasetV3:13: Filling up shuffle buffer (this may take a while): 11288 of 25000\n",
      "2025-04-23 09:30:20.716954: I tensorflow/core/kernels/data/shuffle_dataset_op.cc:482] Shuffle buffer filled.\n",
      "2025-04-23 09:30:20.825877: W tensorflow/core/kernels/data/prefetch_autotuner.cc:52] Prefetch autotuner tried to allocate 134227456 bytes after encountering the first element of size 134227456 bytes.This already causes the autotune ram budget to be exceeded. To stay within the ram budget, either increase the ram budget or reduce element size\n"
     ]
    },
    {
     "name": "stdout",
     "output_type": "stream",
     "text": [
      "\u001b[1m352/561\u001b[0m \u001b[32m━━━━━━━━━━━━\u001b[0m\u001b[37m━━━━━━━━\u001b[0m \u001b[1m1:02\u001b[0m 298ms/step - accuracy: 0.9136 - auc: 0.7733 - f1_score: 0.1093 - loss: 0.4374 - precision: 0.4828 - recall: 0.0751"
     ]
    },
    {
     "name": "stderr",
     "output_type": "stream",
     "text": [
      "2025-04-23 09:31:42.067568: W tensorflow/core/lib/png/png_io.cc:92] PNG warning: iCCP: profile 'ICC Profile': 'GRAY': Gray color space not permitted on RGB PNG\n"
     ]
    },
    {
     "name": "stdout",
     "output_type": "stream",
     "text": [
      "\u001b[1m561/561\u001b[0m \u001b[32m━━━━━━━━━━━━━━━━━━━━\u001b[0m\u001b[37m\u001b[0m \u001b[1m0s\u001b[0m 269ms/step - accuracy: 0.9136 - auc: 0.7748 - f1_score: 0.1090 - loss: 0.4376 - precision: 0.4805 - recall: 0.0748  "
     ]
    },
    {
     "name": "stderr",
     "output_type": "stream",
     "text": [
      "2025-04-23 09:32:42 - INFO - \n",
      "=== Epoch 42 Summary ===\n",
      "2025-04-23 09:32:43 - INFO - Time: 165.91s\n",
      "2025-04-23 09:32:43 - INFO - Training   - accuracy: 0.9137 - auc: 0.7779 - f1_score: 0.1084 - loss: 0.4377 - precision: 0.4760 - recall: 0.0742 - learning_rate: 0.0000\n",
      "2025-04-23 09:32:43 - INFO - Validation - accuracy: 0.9130 - auc: 0.7457 - f1_score: 0.0960 - loss: 0.5198 - precision: 0.4311 - recall: 0.0657\n",
      "2025-04-23 09:32:43 - INFO - ==================================================\n",
      "\n"
     ]
    },
    {
     "name": "stdout",
     "output_type": "stream",
     "text": [
      "\u001b[1m561/561\u001b[0m \u001b[32m━━━━━━━━━━━━━━━━━━━━\u001b[0m\u001b[37m\u001b[0m \u001b[1m166s\u001b[0m 296ms/step - accuracy: 0.9136 - auc: 0.7748 - f1_score: 0.1090 - loss: 0.4376 - precision: 0.4805 - recall: 0.0748 - val_accuracy: 0.9130 - val_auc: 0.7457 - val_f1_score: 0.0960 - val_loss: 0.5198 - val_precision: 0.4311 - val_recall: 0.0657 - learning_rate: 1.0000e-06\n"
     ]
    },
    {
     "name": "stderr",
     "output_type": "stream",
     "text": [
      "2025-04-23 09:32:43 - INFO - \n",
      "=== Starting Epoch 43 ===\n",
      "\n"
     ]
    },
    {
     "name": "stdout",
     "output_type": "stream",
     "text": [
      "Epoch 43/100\n",
      "\u001b[1m 42/561\u001b[0m \u001b[32m━\u001b[0m\u001b[37m━━━━━━━━━━━━━━━━━━━\u001b[0m \u001b[1m1:44\u001b[0m 201ms/step - accuracy: 0.9144 - auc: 0.7878 - f1_score: 0.1119 - loss: 0.4335 - precision: 0.4893 - recall: 0.0778"
     ]
    },
    {
     "name": "stderr",
     "output_type": "stream",
     "text": [
      "2025-04-23 09:32:54.867878: I tensorflow/core/kernels/data/shuffle_dataset_op.cc:452] ShuffleDatasetV3:13: Filling up shuffle buffer (this may take a while): 10395 of 25000\n",
      "2025-04-23 09:33:04.869265: I tensorflow/core/kernels/data/shuffle_dataset_op.cc:452] ShuffleDatasetV3:13: Filling up shuffle buffer (this may take a while): 21829 of 25000\n",
      "2025-04-23 09:33:07.828332: I tensorflow/core/kernels/data/shuffle_dataset_op.cc:482] Shuffle buffer filled.\n",
      "2025-04-23 09:33:07.938088: W tensorflow/core/kernels/data/prefetch_autotuner.cc:52] Prefetch autotuner tried to allocate 134227456 bytes after encountering the first element of size 134227456 bytes.This already causes the autotune ram budget to be exceeded. To stay within the ram budget, either increase the ram budget or reduce element size\n"
     ]
    },
    {
     "name": "stdout",
     "output_type": "stream",
     "text": [
      "\u001b[1m353/561\u001b[0m \u001b[32m━━━━━━━━━━━━\u001b[0m\u001b[37m━━━━━━━━\u001b[0m \u001b[1m1:01\u001b[0m 297ms/step - accuracy: 0.9139 - auc: 0.7787 - f1_score: 0.1129 - loss: 0.4357 - precision: 0.4815 - recall: 0.0777"
     ]
    },
    {
     "name": "stderr",
     "output_type": "stream",
     "text": [
      "2025-04-23 09:34:27.694878: W tensorflow/core/lib/png/png_io.cc:92] PNG warning: iCCP: profile 'ICC Profile': 'GRAY': Gray color space not permitted on RGB PNG\n"
     ]
    },
    {
     "name": "stdout",
     "output_type": "stream",
     "text": [
      "\u001b[1m561/561\u001b[0m \u001b[32m━━━━━━━━━━━━━━━━━━━━\u001b[0m\u001b[37m\u001b[0m \u001b[1m0s\u001b[0m 269ms/step - accuracy: 0.9138 - auc: 0.7780 - f1_score: 0.1121 - loss: 0.4363 - precision: 0.4788 - recall: 0.0771  "
     ]
    },
    {
     "name": "stderr",
     "output_type": "stream",
     "text": [
      "2025-04-23 09:35:27 - INFO - \n",
      "=== Epoch 43 Summary ===\n",
      "2025-04-23 09:35:27 - INFO - Time: 164.55s\n",
      "2025-04-23 09:35:27 - INFO - Training   - accuracy: 0.9136 - auc: 0.7778 - f1_score: 0.1100 - loss: 0.4371 - precision: 0.4736 - recall: 0.0756 - learning_rate: 0.0000\n",
      "2025-04-23 09:35:27 - INFO - Validation - accuracy: 0.9132 - auc: 0.7474 - f1_score: 0.1014 - loss: 0.5183 - precision: 0.4383 - recall: 0.0699\n",
      "2025-04-23 09:35:27 - INFO - ==================================================\n",
      "\n"
     ]
    },
    {
     "name": "stdout",
     "output_type": "stream",
     "text": [
      "\u001b[1m561/561\u001b[0m \u001b[32m━━━━━━━━━━━━━━━━━━━━\u001b[0m\u001b[37m\u001b[0m \u001b[1m165s\u001b[0m 293ms/step - accuracy: 0.9138 - auc: 0.7780 - f1_score: 0.1121 - loss: 0.4363 - precision: 0.4788 - recall: 0.0771 - val_accuracy: 0.9132 - val_auc: 0.7474 - val_f1_score: 0.1014 - val_loss: 0.5183 - val_precision: 0.4383 - val_recall: 0.0699 - learning_rate: 1.0000e-06\n"
     ]
    },
    {
     "name": "stderr",
     "output_type": "stream",
     "text": [
      "2025-04-23 09:35:27 - INFO - \n",
      "=== Starting Epoch 44 ===\n",
      "\n"
     ]
    },
    {
     "name": "stdout",
     "output_type": "stream",
     "text": [
      "Epoch 44/100\n",
      "\u001b[1m 43/561\u001b[0m \u001b[32m━\u001b[0m\u001b[37m━━━━━━━━━━━━━━━━━━━\u001b[0m \u001b[1m1:44\u001b[0m 202ms/step - accuracy: 0.9144 - auc: 0.7738 - f1_score: 0.1083 - loss: 0.4345 - precision: 0.4547 - recall: 0.0766"
     ]
    },
    {
     "name": "stderr",
     "output_type": "stream",
     "text": [
      "2025-04-23 09:35:39.632776: I tensorflow/core/kernels/data/shuffle_dataset_op.cc:452] ShuffleDatasetV3:13: Filling up shuffle buffer (this may take a while): 11313 of 25000\n",
      "2025-04-23 09:35:51.641510: I tensorflow/core/kernels/data/shuffle_dataset_op.cc:482] Shuffle buffer filled.\n",
      "2025-04-23 09:35:51.752120: W tensorflow/core/kernels/data/prefetch_autotuner.cc:52] Prefetch autotuner tried to allocate 134227456 bytes after encountering the first element of size 134227456 bytes.This already causes the autotune ram budget to be exceeded. To stay within the ram budget, either increase the ram budget or reduce element size\n"
     ]
    },
    {
     "name": "stdout",
     "output_type": "stream",
     "text": [
      "\u001b[1m354/561\u001b[0m \u001b[32m━━━━━━━━━━━━\u001b[0m\u001b[37m━━━━━━━━\u001b[0m \u001b[1m1:01\u001b[0m 297ms/step - accuracy: 0.9139 - auc: 0.7782 - f1_score: 0.1108 - loss: 0.4374 - precision: 0.4737 - recall: 0.0769"
     ]
    },
    {
     "name": "stderr",
     "output_type": "stream",
     "text": [
      "2025-04-23 09:37:12.744202: W tensorflow/core/lib/png/png_io.cc:92] PNG warning: iCCP: profile 'ICC Profile': 'GRAY': Gray color space not permitted on RGB PNG\n"
     ]
    },
    {
     "name": "stdout",
     "output_type": "stream",
     "text": [
      "\u001b[1m561/561\u001b[0m \u001b[32m━━━━━━━━━━━━━━━━━━━━\u001b[0m\u001b[37m\u001b[0m \u001b[1m0s\u001b[0m 269ms/step - accuracy: 0.9138 - auc: 0.7785 - f1_score: 0.1096 - loss: 0.4370 - precision: 0.4722 - recall: 0.0760  "
     ]
    },
    {
     "name": "stderr",
     "output_type": "stream",
     "text": [
      "2025-04-23 09:38:12 - INFO - \n",
      "=== Epoch 44 Summary ===\n",
      "2025-04-23 09:38:12 - INFO - Time: 165.05s\n",
      "2025-04-23 09:38:12 - INFO - Training   - accuracy: 0.9137 - auc: 0.7793 - f1_score: 0.1083 - loss: 0.4362 - precision: 0.4730 - recall: 0.0746 - learning_rate: 0.0000\n",
      "2025-04-23 09:38:12 - INFO - Validation - accuracy: 0.9137 - auc: 0.7490 - f1_score: 0.1009 - loss: 0.5175 - precision: 0.4543 - recall: 0.0676\n",
      "2025-04-23 09:38:12 - INFO - ==================================================\n",
      "\n"
     ]
    },
    {
     "name": "stdout",
     "output_type": "stream",
     "text": [
      "\u001b[1m561/561\u001b[0m \u001b[32m━━━━━━━━━━━━━━━━━━━━\u001b[0m\u001b[37m\u001b[0m \u001b[1m165s\u001b[0m 294ms/step - accuracy: 0.9138 - auc: 0.7785 - f1_score: 0.1096 - loss: 0.4370 - precision: 0.4722 - recall: 0.0760 - val_accuracy: 0.9137 - val_auc: 0.7490 - val_f1_score: 0.1009 - val_loss: 0.5175 - val_precision: 0.4543 - val_recall: 0.0676 - learning_rate: 1.0000e-06\n"
     ]
    },
    {
     "name": "stderr",
     "output_type": "stream",
     "text": [
      "2025-04-23 09:38:12 - INFO - \n",
      "=== Starting Epoch 45 ===\n",
      "\n"
     ]
    },
    {
     "name": "stdout",
     "output_type": "stream",
     "text": [
      "Epoch 45/100\n",
      "\u001b[1m 44/561\u001b[0m \u001b[32m━\u001b[0m\u001b[37m━━━━━━━━━━━━━━━━━━━\u001b[0m \u001b[1m1:43\u001b[0m 200ms/step - accuracy: 0.9129 - auc: 0.7736 - f1_score: 0.1021 - loss: 0.4349 - precision: 0.4417 - recall: 0.0690"
     ]
    },
    {
     "name": "stderr",
     "output_type": "stream",
     "text": [
      "2025-04-23 09:38:24.880467: I tensorflow/core/kernels/data/shuffle_dataset_op.cc:452] ShuffleDatasetV3:13: Filling up shuffle buffer (this may take a while): 11410 of 25000\n",
      "2025-04-23 09:38:34.882694: I tensorflow/core/kernels/data/shuffle_dataset_op.cc:452] ShuffleDatasetV3:13: Filling up shuffle buffer (this may take a while): 22898 of 25000\n",
      "2025-04-23 09:38:36.794176: I tensorflow/core/kernels/data/shuffle_dataset_op.cc:482] Shuffle buffer filled.\n",
      "2025-04-23 09:38:36.903758: W tensorflow/core/kernels/data/prefetch_autotuner.cc:52] Prefetch autotuner tried to allocate 134227456 bytes after encountering the first element of size 134227456 bytes.This already causes the autotune ram budget to be exceeded. To stay within the ram budget, either increase the ram budget or reduce element size\n"
     ]
    },
    {
     "name": "stdout",
     "output_type": "stream",
     "text": [
      "\u001b[1m355/561\u001b[0m \u001b[32m━━━━━━━━━━━━\u001b[0m\u001b[37m━━━━━━━━\u001b[0m \u001b[1m1:00\u001b[0m 295ms/step - accuracy: 0.9134 - auc: 0.7779 - f1_score: 0.1066 - loss: 0.4369 - precision: 0.4547 - recall: 0.0728"
     ]
    },
    {
     "name": "stderr",
     "output_type": "stream",
     "text": [
      "2025-04-23 09:39:57.423535: W tensorflow/core/lib/png/png_io.cc:92] PNG warning: iCCP: profile 'ICC Profile': 'GRAY': Gray color space not permitted on RGB PNG\n"
     ]
    },
    {
     "name": "stdout",
     "output_type": "stream",
     "text": [
      "\u001b[1m561/561\u001b[0m \u001b[32m━━━━━━━━━━━━━━━━━━━━\u001b[0m\u001b[37m\u001b[0m \u001b[1m0s\u001b[0m 268ms/step - accuracy: 0.9134 - auc: 0.7781 - f1_score: 0.1073 - loss: 0.4366 - precision: 0.4584 - recall: 0.0735  "
     ]
    },
    {
     "name": "stderr",
     "output_type": "stream",
     "text": [
      "2025-04-23 09:40:57 - INFO - \n",
      "=== Epoch 45 Summary ===\n",
      "2025-04-23 09:40:57 - INFO - Time: 164.80s\n",
      "2025-04-23 09:40:57 - INFO - Training   - accuracy: 0.9135 - auc: 0.7791 - f1_score: 0.1097 - loss: 0.4362 - precision: 0.4673 - recall: 0.0755 - learning_rate: 0.0000\n",
      "2025-04-23 09:40:57 - INFO - Validation - accuracy: 0.9132 - auc: 0.7477 - f1_score: 0.1005 - loss: 0.5171 - precision: 0.4384 - recall: 0.0689\n",
      "2025-04-23 09:40:57 - INFO - ==================================================\n",
      "\n"
     ]
    },
    {
     "name": "stdout",
     "output_type": "stream",
     "text": [
      "\u001b[1m561/561\u001b[0m \u001b[32m━━━━━━━━━━━━━━━━━━━━\u001b[0m\u001b[37m\u001b[0m \u001b[1m165s\u001b[0m 294ms/step - accuracy: 0.9134 - auc: 0.7781 - f1_score: 0.1073 - loss: 0.4366 - precision: 0.4584 - recall: 0.0736 - val_accuracy: 0.9132 - val_auc: 0.7477 - val_f1_score: 0.1005 - val_loss: 0.5171 - val_precision: 0.4384 - val_recall: 0.0689 - learning_rate: 1.0000e-06\n"
     ]
    },
    {
     "name": "stderr",
     "output_type": "stream",
     "text": [
      "2025-04-23 09:40:57 - INFO - \n",
      "=== Starting Epoch 46 ===\n",
      "\n"
     ]
    },
    {
     "name": "stdout",
     "output_type": "stream",
     "text": [
      "Epoch 46/100\n",
      "\u001b[1m 45/561\u001b[0m \u001b[32m━\u001b[0m\u001b[37m━━━━━━━━━━━━━━━━━━━\u001b[0m \u001b[1m1:43\u001b[0m 201ms/step - accuracy: 0.9140 - auc: 0.7888 - f1_score: 0.1058 - loss: 0.4442 - precision: 0.4716 - recall: 0.0732"
     ]
    },
    {
     "name": "stderr",
     "output_type": "stream",
     "text": [
      "2025-04-23 09:41:09.904103: I tensorflow/core/kernels/data/shuffle_dataset_op.cc:452] ShuffleDatasetV3:13: Filling up shuffle buffer (this may take a while): 11291 of 25000\n",
      "2025-04-23 09:41:19.912827: I tensorflow/core/kernels/data/shuffle_dataset_op.cc:452] ShuffleDatasetV3:13: Filling up shuffle buffer (this may take a while): 22708 of 25000\n",
      "2025-04-23 09:41:21.903885: I tensorflow/core/kernels/data/shuffle_dataset_op.cc:482] Shuffle buffer filled.\n",
      "2025-04-23 09:41:22.014878: W tensorflow/core/kernels/data/prefetch_autotuner.cc:52] Prefetch autotuner tried to allocate 134227456 bytes after encountering the first element of size 134227456 bytes.This already causes the autotune ram budget to be exceeded. To stay within the ram budget, either increase the ram budget or reduce element size\n"
     ]
    },
    {
     "name": "stdout",
     "output_type": "stream",
     "text": [
      "\u001b[1m356/561\u001b[0m \u001b[32m━━━━━━━━━━━━\u001b[0m\u001b[37m━━━━━━━━\u001b[0m \u001b[1m1:00\u001b[0m 297ms/step - accuracy: 0.9136 - auc: 0.7790 - f1_score: 0.1087 - loss: 0.4367 - precision: 0.4711 - recall: 0.0747"
     ]
    },
    {
     "name": "stderr",
     "output_type": "stream",
     "text": [
      "2025-04-23 09:42:43.254014: W tensorflow/core/lib/png/png_io.cc:92] PNG warning: iCCP: profile 'ICC Profile': 'GRAY': Gray color space not permitted on RGB PNG\n"
     ]
    },
    {
     "name": "stdout",
     "output_type": "stream",
     "text": [
      "\u001b[1m561/561\u001b[0m \u001b[32m━━━━━━━━━━━━━━━━━━━━\u001b[0m\u001b[37m\u001b[0m \u001b[1m0s\u001b[0m 269ms/step - accuracy: 0.9136 - auc: 0.7786 - f1_score: 0.1093 - loss: 0.4365 - precision: 0.4721 - recall: 0.0752  "
     ]
    },
    {
     "name": "stderr",
     "output_type": "stream",
     "text": [
      "2025-04-23 09:43:43 - INFO - \n",
      "=== Epoch 46 Summary ===\n",
      "2025-04-23 09:43:43 - INFO - Time: 165.88s\n",
      "2025-04-23 09:43:43 - INFO - Training   - accuracy: 0.9137 - auc: 0.7784 - f1_score: 0.1110 - loss: 0.4364 - precision: 0.4774 - recall: 0.0766 - learning_rate: 0.0000\n",
      "2025-04-23 09:43:43 - INFO - Validation - accuracy: 0.9130 - auc: 0.7501 - f1_score: 0.1074 - loss: 0.5178 - precision: 0.4357 - recall: 0.0750\n",
      "2025-04-23 09:43:43 - INFO - ==================================================\n",
      "\n"
     ]
    },
    {
     "name": "stdout",
     "output_type": "stream",
     "text": [
      "\u001b[1m561/561\u001b[0m \u001b[32m━━━━━━━━━━━━━━━━━━━━\u001b[0m\u001b[37m\u001b[0m \u001b[1m166s\u001b[0m 296ms/step - accuracy: 0.9136 - auc: 0.7786 - f1_score: 0.1093 - loss: 0.4365 - precision: 0.4721 - recall: 0.0752 - val_accuracy: 0.9130 - val_auc: 0.7501 - val_f1_score: 0.1074 - val_loss: 0.5178 - val_precision: 0.4357 - val_recall: 0.0750 - learning_rate: 1.0000e-06\n"
     ]
    },
    {
     "name": "stderr",
     "output_type": "stream",
     "text": [
      "2025-04-23 09:43:43 - INFO - \n",
      "=== Starting Epoch 47 ===\n",
      "\n"
     ]
    },
    {
     "name": "stdout",
     "output_type": "stream",
     "text": [
      "Epoch 47/100\n",
      "\u001b[1m 46/561\u001b[0m \u001b[32m━\u001b[0m\u001b[37m━━━━━━━━━━━━━━━━━━━\u001b[0m \u001b[1m1:43\u001b[0m 201ms/step - accuracy: 0.9136 - auc: 0.7680 - f1_score: 0.1140 - loss: 0.4326 - precision: 0.4647 - recall: 0.0777"
     ]
    },
    {
     "name": "stderr",
     "output_type": "stream",
     "text": [
      "2025-04-23 09:43:56.037406: I tensorflow/core/kernels/data/shuffle_dataset_op.cc:452] ShuffleDatasetV3:13: Filling up shuffle buffer (this may take a while): 11382 of 25000\n",
      "2025-04-23 09:44:08.014940: I tensorflow/core/kernels/data/shuffle_dataset_op.cc:482] Shuffle buffer filled.\n",
      "2025-04-23 09:44:08.124379: W tensorflow/core/kernels/data/prefetch_autotuner.cc:52] Prefetch autotuner tried to allocate 134227456 bytes after encountering the first element of size 134227456 bytes.This already causes the autotune ram budget to be exceeded. To stay within the ram budget, either increase the ram budget or reduce element size\n"
     ]
    },
    {
     "name": "stdout",
     "output_type": "stream",
     "text": [
      "\u001b[1m357/561\u001b[0m \u001b[32m━━━━━━━━━━━━\u001b[0m\u001b[37m━━━━━━━━\u001b[0m \u001b[1m59s\u001b[0m 292ms/step - accuracy: 0.9138 - auc: 0.7759 - f1_score: 0.1127 - loss: 0.4336 - precision: 0.4741 - recall: 0.0772 "
     ]
    },
    {
     "name": "stderr",
     "output_type": "stream",
     "text": [
      "2025-04-23 09:45:27.602365: W tensorflow/core/lib/png/png_io.cc:92] PNG warning: iCCP: profile 'ICC Profile': 'GRAY': Gray color space not permitted on RGB PNG\n"
     ]
    },
    {
     "name": "stdout",
     "output_type": "stream",
     "text": [
      "\u001b[1m561/561\u001b[0m \u001b[32m━━━━━━━━━━━━━━━━━━━━\u001b[0m\u001b[37m\u001b[0m \u001b[1m0s\u001b[0m 266ms/step - accuracy: 0.9139 - auc: 0.7772 - f1_score: 0.1125 - loss: 0.4340 - precision: 0.4773 - recall: 0.0770 "
     ]
    },
    {
     "name": "stderr",
     "output_type": "stream",
     "text": [
      "2025-04-23 09:46:27 - INFO - \n",
      "=== Epoch 47 Summary ===\n",
      "2025-04-23 09:46:27 - INFO - Time: 163.97s\n",
      "2025-04-23 09:46:27 - INFO - Training   - accuracy: 0.9140 - auc: 0.7803 - f1_score: 0.1126 - loss: 0.4346 - precision: 0.4846 - recall: 0.0770 - learning_rate: 0.0000\n",
      "2025-04-23 09:46:27 - INFO - Validation - accuracy: 0.9135 - auc: 0.7490 - f1_score: 0.1087 - loss: 0.5151 - precision: 0.4524 - recall: 0.0737\n",
      "2025-04-23 09:46:27 - INFO - ==================================================\n",
      "\n"
     ]
    },
    {
     "name": "stdout",
     "output_type": "stream",
     "text": [
      "\u001b[1m561/561\u001b[0m \u001b[32m━━━━━━━━━━━━━━━━━━━━\u001b[0m\u001b[37m\u001b[0m \u001b[1m164s\u001b[0m 293ms/step - accuracy: 0.9139 - auc: 0.7772 - f1_score: 0.1125 - loss: 0.4340 - precision: 0.4773 - recall: 0.0770 - val_accuracy: 0.9135 - val_auc: 0.7490 - val_f1_score: 0.1087 - val_loss: 0.5151 - val_precision: 0.4524 - val_recall: 0.0737 - learning_rate: 1.0000e-06\n"
     ]
    },
    {
     "name": "stderr",
     "output_type": "stream",
     "text": [
      "2025-04-23 09:46:27 - INFO - \n",
      "=== Starting Epoch 48 ===\n",
      "\n"
     ]
    },
    {
     "name": "stdout",
     "output_type": "stream",
     "text": [
      "Epoch 48/100\n",
      "\u001b[1m 47/561\u001b[0m \u001b[32m━\u001b[0m\u001b[37m━━━━━━━━━━━━━━━━━━━\u001b[0m \u001b[1m1:43\u001b[0m 201ms/step - accuracy: 0.9143 - auc: 0.7803 - f1_score: 0.1275 - loss: 0.4375 - precision: 0.4922 - recall: 0.0863"
     ]
    },
    {
     "name": "stderr",
     "output_type": "stream",
     "text": [
      "2025-04-23 09:46:40.265290: I tensorflow/core/kernels/data/shuffle_dataset_op.cc:452] ShuffleDatasetV3:13: Filling up shuffle buffer (this may take a while): 11399 of 25000\n",
      "2025-04-23 09:46:52.322941: I tensorflow/core/kernels/data/shuffle_dataset_op.cc:482] Shuffle buffer filled.\n",
      "2025-04-23 09:46:52.437556: W tensorflow/core/kernels/data/prefetch_autotuner.cc:52] Prefetch autotuner tried to allocate 134227456 bytes after encountering the first element of size 134227456 bytes.This already causes the autotune ram budget to be exceeded. To stay within the ram budget, either increase the ram budget or reduce element size\n"
     ]
    },
    {
     "name": "stdout",
     "output_type": "stream",
     "text": [
      "\u001b[1m358/561\u001b[0m \u001b[32m━━━━━━━━━━━━\u001b[0m\u001b[37m━━━━━━━━\u001b[0m \u001b[1m1:00\u001b[0m 296ms/step - accuracy: 0.9137 - auc: 0.7815 - f1_score: 0.1184 - loss: 0.4375 - precision: 0.4828 - recall: 0.0812"
     ]
    },
    {
     "name": "stderr",
     "output_type": "stream",
     "text": [
      "2025-04-23 09:48:13.403268: W tensorflow/core/lib/png/png_io.cc:92] PNG warning: iCCP: profile 'ICC Profile': 'GRAY': Gray color space not permitted on RGB PNG\n"
     ]
    },
    {
     "name": "stdout",
     "output_type": "stream",
     "text": [
      "\u001b[1m561/561\u001b[0m \u001b[32m━━━━━━━━━━━━━━━━━━━━\u001b[0m\u001b[37m\u001b[0m \u001b[1m0s\u001b[0m 269ms/step - accuracy: 0.9137 - auc: 0.7811 - f1_score: 0.1159 - loss: 0.4366 - precision: 0.4802 - recall: 0.0798  "
     ]
    },
    {
     "name": "stderr",
     "output_type": "stream",
     "text": [
      "2025-04-23 09:49:12 - INFO - \n",
      "=== Epoch 48 Summary ===\n",
      "2025-04-23 09:49:12 - INFO - Time: 164.77s\n",
      "2025-04-23 09:49:12 - INFO - Training   - accuracy: 0.9137 - auc: 0.7807 - f1_score: 0.1119 - loss: 0.4348 - precision: 0.4753 - recall: 0.0775 - learning_rate: 0.0000\n",
      "2025-04-23 09:49:12 - INFO - Validation - accuracy: 0.9127 - auc: 0.7481 - f1_score: 0.1016 - loss: 0.5185 - precision: 0.4246 - recall: 0.0710\n",
      "2025-04-23 09:49:12 - INFO - ==================================================\n",
      "\n"
     ]
    },
    {
     "name": "stdout",
     "output_type": "stream",
     "text": [
      "\u001b[1m561/561\u001b[0m \u001b[32m━━━━━━━━━━━━━━━━━━━━\u001b[0m\u001b[37m\u001b[0m \u001b[1m165s\u001b[0m 294ms/step - accuracy: 0.9137 - auc: 0.7811 - f1_score: 0.1159 - loss: 0.4366 - precision: 0.4802 - recall: 0.0798 - val_accuracy: 0.9127 - val_auc: 0.7481 - val_f1_score: 0.1016 - val_loss: 0.5185 - val_precision: 0.4246 - val_recall: 0.0710 - learning_rate: 1.0000e-06\n"
     ]
    },
    {
     "name": "stderr",
     "output_type": "stream",
     "text": [
      "2025-04-23 09:49:12 - INFO - \n",
      "=== Starting Epoch 49 ===\n",
      "\n"
     ]
    },
    {
     "name": "stdout",
     "output_type": "stream",
     "text": [
      "Epoch 49/100\n",
      "\u001b[1m 48/561\u001b[0m \u001b[32m━\u001b[0m\u001b[37m━━━━━━━━━━━━━━━━━━━\u001b[0m \u001b[1m1:43\u001b[0m 201ms/step - accuracy: 0.9149 - auc: 0.7807 - f1_score: 0.1181 - loss: 0.4427 - precision: 0.4907 - recall: 0.0802"
     ]
    },
    {
     "name": "stderr",
     "output_type": "stream",
     "text": [
      "2025-04-23 09:49:25.237824: I tensorflow/core/kernels/data/shuffle_dataset_op.cc:452] ShuffleDatasetV3:13: Filling up shuffle buffer (this may take a while): 11305 of 25000\n",
      "2025-04-23 09:49:35.238880: I tensorflow/core/kernels/data/shuffle_dataset_op.cc:452] ShuffleDatasetV3:13: Filling up shuffle buffer (this may take a while): 22800 of 25000\n",
      "2025-04-23 09:49:37.163282: I tensorflow/core/kernels/data/shuffle_dataset_op.cc:482] Shuffle buffer filled.\n",
      "2025-04-23 09:49:37.315997: W tensorflow/core/kernels/data/prefetch_autotuner.cc:52] Prefetch autotuner tried to allocate 134227456 bytes after encountering the first element of size 134227456 bytes.This already causes the autotune ram budget to be exceeded. To stay within the ram budget, either increase the ram budget or reduce element size\n"
     ]
    },
    {
     "name": "stdout",
     "output_type": "stream",
     "text": [
      "\u001b[1m359/561\u001b[0m \u001b[32m━━━━━━━━━━━━\u001b[0m\u001b[37m━━━━━━━━\u001b[0m \u001b[1m59s\u001b[0m 294ms/step - accuracy: 0.9138 - auc: 0.7833 - f1_score: 0.1168 - loss: 0.4376 - precision: 0.4867 - recall: 0.0802 "
     ]
    },
    {
     "name": "stderr",
     "output_type": "stream",
     "text": [
      "2025-04-23 09:50:57.782057: W tensorflow/core/lib/png/png_io.cc:92] PNG warning: iCCP: profile 'ICC Profile': 'GRAY': Gray color space not permitted on RGB PNG\n"
     ]
    },
    {
     "name": "stdout",
     "output_type": "stream",
     "text": [
      "\u001b[1m561/561\u001b[0m \u001b[32m━━━━━━━━━━━━━━━━━━━━\u001b[0m\u001b[37m\u001b[0m \u001b[1m0s\u001b[0m 268ms/step - accuracy: 0.9138 - auc: 0.7830 - f1_score: 0.1164 - loss: 0.4369 - precision: 0.4855 - recall: 0.0801 "
     ]
    },
    {
     "name": "stderr",
     "output_type": "stream",
     "text": [
      "2025-04-23 09:52:25 - INFO - \n",
      "=== Epoch 49 Summary ===\n",
      "2025-04-23 09:52:25 - INFO - Time: 193.72s\n",
      "2025-04-23 09:52:25 - INFO - Training   - accuracy: 0.9138 - auc: 0.7824 - f1_score: 0.1155 - loss: 0.4354 - precision: 0.4815 - recall: 0.0798 - learning_rate: 0.0000\n",
      "2025-04-23 09:52:25 - INFO - Validation - accuracy: 0.9127 - auc: 0.7466 - f1_score: 0.0961 - loss: 0.5203 - precision: 0.4222 - recall: 0.0677\n",
      "2025-04-23 09:52:25 - INFO - ==================================================\n",
      "\n"
     ]
    },
    {
     "name": "stdout",
     "output_type": "stream",
     "text": [
      "\u001b[1m561/561\u001b[0m \u001b[32m━━━━━━━━━━━━━━━━━━━━\u001b[0m\u001b[37m\u001b[0m \u001b[1m194s\u001b[0m 346ms/step - accuracy: 0.9138 - auc: 0.7830 - f1_score: 0.1164 - loss: 0.4369 - precision: 0.4854 - recall: 0.0801 - val_accuracy: 0.9127 - val_auc: 0.7466 - val_f1_score: 0.0961 - val_loss: 0.5203 - val_precision: 0.4222 - val_recall: 0.0677 - learning_rate: 1.0000e-06\n"
     ]
    },
    {
     "name": "stderr",
     "output_type": "stream",
     "text": [
      "2025-04-23 09:52:25 - INFO - \n",
      "=== Starting Epoch 50 ===\n",
      "\n"
     ]
    },
    {
     "name": "stdout",
     "output_type": "stream",
     "text": [
      "Epoch 50/100\n",
      "\u001b[1m 49/561\u001b[0m \u001b[32m━\u001b[0m\u001b[37m━━━━━━━━━━━━━━━━━━━\u001b[0m \u001b[1m1:43\u001b[0m 201ms/step - accuracy: 0.9137 - auc: 0.7899 - f1_score: 0.1122 - loss: 0.4314 - precision: 0.4682 - recall: 0.0783"
     ]
    },
    {
     "name": "stderr",
     "output_type": "stream",
     "text": [
      "2025-04-23 09:52:39.183667: I tensorflow/core/kernels/data/shuffle_dataset_op.cc:452] ShuffleDatasetV3:13: Filling up shuffle buffer (this may take a while): 11359 of 25000\n",
      "2025-04-23 09:52:51.107439: I tensorflow/core/kernels/data/shuffle_dataset_op.cc:482] Shuffle buffer filled.\n",
      "2025-04-23 09:52:51.219865: W tensorflow/core/kernels/data/prefetch_autotuner.cc:52] Prefetch autotuner tried to allocate 134227456 bytes after encountering the first element of size 134227456 bytes.This already causes the autotune ram budget to be exceeded. To stay within the ram budget, either increase the ram budget or reduce element size\n"
     ]
    },
    {
     "name": "stdout",
     "output_type": "stream",
     "text": [
      "\u001b[1m360/561\u001b[0m \u001b[32m━━━━━━━━━━━━\u001b[0m\u001b[37m━━━━━━━━\u001b[0m \u001b[1m59s\u001b[0m 296ms/step - accuracy: 0.9136 - auc: 0.7834 - f1_score: 0.1142 - loss: 0.4344 - precision: 0.4801 - recall: 0.0791 "
     ]
    },
    {
     "name": "stderr",
     "output_type": "stream",
     "text": [
      "2025-04-23 09:54:12.327589: W tensorflow/core/lib/png/png_io.cc:92] PNG warning: iCCP: profile 'ICC Profile': 'GRAY': Gray color space not permitted on RGB PNG\n"
     ]
    },
    {
     "name": "stdout",
     "output_type": "stream",
     "text": [
      "\u001b[1m561/561\u001b[0m \u001b[32m━━━━━━━━━━━━━━━━━━━━\u001b[0m\u001b[37m\u001b[0m \u001b[1m0s\u001b[0m 269ms/step - accuracy: 0.9137 - auc: 0.7827 - f1_score: 0.1143 - loss: 0.4344 - precision: 0.4807 - recall: 0.0792 "
     ]
    },
    {
     "name": "stderr",
     "output_type": "stream",
     "text": [
      "2025-04-23 09:55:11 - INFO - \n",
      "=== Epoch 50 Summary ===\n",
      "2025-04-23 09:55:11 - INFO - Time: 165.14s\n",
      "2025-04-23 09:55:11 - INFO - Training   - accuracy: 0.9138 - auc: 0.7820 - f1_score: 0.1146 - loss: 0.4340 - precision: 0.4815 - recall: 0.0794 - learning_rate: 0.0000\n",
      "2025-04-23 09:55:11 - INFO - Validation - accuracy: 0.9127 - auc: 0.7485 - f1_score: 0.0956 - loss: 0.5208 - precision: 0.4201 - recall: 0.0666\n",
      "2025-04-23 09:55:11 - INFO - ==================================================\n",
      "\n"
     ]
    },
    {
     "name": "stdout",
     "output_type": "stream",
     "text": [
      "\u001b[1m561/561\u001b[0m \u001b[32m━━━━━━━━━━━━━━━━━━━━\u001b[0m\u001b[37m\u001b[0m \u001b[1m165s\u001b[0m 295ms/step - accuracy: 0.9137 - auc: 0.7827 - f1_score: 0.1143 - loss: 0.4344 - precision: 0.4807 - recall: 0.0792 - val_accuracy: 0.9127 - val_auc: 0.7485 - val_f1_score: 0.0956 - val_loss: 0.5208 - val_precision: 0.4201 - val_recall: 0.0666 - learning_rate: 1.0000e-06\n"
     ]
    },
    {
     "name": "stderr",
     "output_type": "stream",
     "text": [
      "2025-04-23 09:55:11 - INFO - \n",
      "=== Starting Epoch 51 ===\n",
      "\n"
     ]
    },
    {
     "name": "stdout",
     "output_type": "stream",
     "text": [
      "Epoch 51/100\n",
      "\u001b[1m 50/561\u001b[0m \u001b[32m━\u001b[0m\u001b[37m━━━━━━━━━━━━━━━━━━━\u001b[0m \u001b[1m1:43\u001b[0m 202ms/step - accuracy: 0.9148 - auc: 0.7850 - f1_score: 0.1145 - loss: 0.4394 - precision: 0.5019 - recall: 0.0793"
     ]
    },
    {
     "name": "stderr",
     "output_type": "stream",
     "text": [
      "2025-04-23 09:55:24.528902: I tensorflow/core/kernels/data/shuffle_dataset_op.cc:452] ShuffleDatasetV3:13: Filling up shuffle buffer (this may take a while): 11447 of 25000\n",
      "2025-04-23 09:55:36.315802: I tensorflow/core/kernels/data/shuffle_dataset_op.cc:482] Shuffle buffer filled.\n",
      "2025-04-23 09:55:36.429501: W tensorflow/core/kernels/data/prefetch_autotuner.cc:52] Prefetch autotuner tried to allocate 134227456 bytes after encountering the first element of size 134227456 bytes.This already causes the autotune ram budget to be exceeded. To stay within the ram budget, either increase the ram budget or reduce element size\n"
     ]
    },
    {
     "name": "stdout",
     "output_type": "stream",
     "text": [
      "\u001b[1m361/561\u001b[0m \u001b[32m━━━━━━━━━━━━\u001b[0m\u001b[37m━━━━━━━━\u001b[0m \u001b[1m58s\u001b[0m 294ms/step - accuracy: 0.9138 - auc: 0.7818 - f1_score: 0.1123 - loss: 0.4370 - precision: 0.4835 - recall: 0.0777 "
     ]
    },
    {
     "name": "stderr",
     "output_type": "stream",
     "text": [
      "2025-04-23 09:56:56.995332: W tensorflow/core/lib/png/png_io.cc:92] PNG warning: iCCP: profile 'ICC Profile': 'GRAY': Gray color space not permitted on RGB PNG\n"
     ]
    },
    {
     "name": "stdout",
     "output_type": "stream",
     "text": [
      "\u001b[1m561/561\u001b[0m \u001b[32m━━━━━━━━━━━━━━━━━━━━\u001b[0m\u001b[37m\u001b[0m \u001b[1m0s\u001b[0m 268ms/step - accuracy: 0.9138 - auc: 0.7816 - f1_score: 0.1124 - loss: 0.4364 - precision: 0.4810 - recall: 0.0778 "
     ]
    },
    {
     "name": "stderr",
     "output_type": "stream",
     "text": [
      "2025-04-23 09:57:55 - INFO - \n",
      "=== Epoch 51 Summary ===\n",
      "2025-04-23 09:57:55 - INFO - Time: 164.88s\n",
      "2025-04-23 09:57:55 - INFO - Training   - accuracy: 0.9138 - auc: 0.7811 - f1_score: 0.1123 - loss: 0.4349 - precision: 0.4767 - recall: 0.0777 - learning_rate: 0.0000\n",
      "2025-04-23 09:57:55 - INFO - Validation - accuracy: 0.9136 - auc: 0.7471 - f1_score: 0.1100 - loss: 0.5138 - precision: 0.4572 - recall: 0.0752\n",
      "2025-04-23 09:57:55 - INFO - ==================================================\n",
      "\n"
     ]
    },
    {
     "name": "stdout",
     "output_type": "stream",
     "text": [
      "\u001b[1m561/561\u001b[0m \u001b[32m━━━━━━━━━━━━━━━━━━━━\u001b[0m\u001b[37m\u001b[0m \u001b[1m165s\u001b[0m 294ms/step - accuracy: 0.9138 - auc: 0.7816 - f1_score: 0.1124 - loss: 0.4364 - precision: 0.4810 - recall: 0.0778 - val_accuracy: 0.9136 - val_auc: 0.7471 - val_f1_score: 0.1100 - val_loss: 0.5138 - val_precision: 0.4572 - val_recall: 0.0752 - learning_rate: 1.0000e-06\n"
     ]
    },
    {
     "name": "stderr",
     "output_type": "stream",
     "text": [
      "2025-04-23 09:57:55 - INFO - \n",
      "=== Starting Epoch 52 ===\n",
      "\n"
     ]
    },
    {
     "name": "stdout",
     "output_type": "stream",
     "text": [
      "Epoch 52/100\n",
      "\u001b[1m 51/561\u001b[0m \u001b[32m━\u001b[0m\u001b[37m━━━━━━━━━━━━━━━━━━━\u001b[0m \u001b[1m1:43\u001b[0m 202ms/step - accuracy: 0.9141 - auc: 0.7867 - f1_score: 0.1146 - loss: 0.4393 - precision: 0.5040 - recall: 0.0796"
     ]
    },
    {
     "name": "stderr",
     "output_type": "stream",
     "text": [
      "2025-04-23 09:58:09.674195: I tensorflow/core/kernels/data/shuffle_dataset_op.cc:452] ShuffleDatasetV3:13: Filling up shuffle buffer (this may take a while): 11420 of 25000\n",
      "2025-04-23 09:58:21.527628: I tensorflow/core/kernels/data/shuffle_dataset_op.cc:482] Shuffle buffer filled.\n",
      "2025-04-23 09:58:21.636959: W tensorflow/core/kernels/data/prefetch_autotuner.cc:52] Prefetch autotuner tried to allocate 134227456 bytes after encountering the first element of size 134227456 bytes.This already causes the autotune ram budget to be exceeded. To stay within the ram budget, either increase the ram budget or reduce element size\n"
     ]
    },
    {
     "name": "stdout",
     "output_type": "stream",
     "text": [
      "\u001b[1m362/561\u001b[0m \u001b[32m━━━━━━━━━━━━\u001b[0m\u001b[37m━━━━━━━━\u001b[0m \u001b[1m58s\u001b[0m 296ms/step - accuracy: 0.9136 - auc: 0.7810 - f1_score: 0.1130 - loss: 0.4349 - precision: 0.4815 - recall: 0.0786 "
     ]
    },
    {
     "name": "stderr",
     "output_type": "stream",
     "text": [
      "2025-04-23 09:59:42.980968: W tensorflow/core/lib/png/png_io.cc:92] PNG warning: iCCP: profile 'ICC Profile': 'GRAY': Gray color space not permitted on RGB PNG\n"
     ]
    },
    {
     "name": "stdout",
     "output_type": "stream",
     "text": [
      "\u001b[1m561/561\u001b[0m \u001b[32m━━━━━━━━━━━━━━━━━━━━\u001b[0m\u001b[37m\u001b[0m \u001b[1m0s\u001b[0m 269ms/step - accuracy: 0.9136 - auc: 0.7820 - f1_score: 0.1132 - loss: 0.4345 - precision: 0.4800 - recall: 0.0787 "
     ]
    },
    {
     "name": "stderr",
     "output_type": "stream",
     "text": [
      "2025-04-23 10:00:40 - INFO - \n",
      "=== Epoch 52 Summary ===\n",
      "2025-04-23 10:00:40 - INFO - Time: 165.01s\n",
      "2025-04-23 10:00:40 - INFO - Training   - accuracy: 0.9136 - auc: 0.7835 - f1_score: 0.1137 - loss: 0.4338 - precision: 0.4777 - recall: 0.0791 - learning_rate: 0.0000\n",
      "2025-04-23 10:00:40 - INFO - Validation - accuracy: 0.9130 - auc: 0.7462 - f1_score: 0.1053 - loss: 0.5154 - precision: 0.4361 - recall: 0.0721\n",
      "2025-04-23 10:00:40 - INFO - ==================================================\n",
      "\n"
     ]
    },
    {
     "name": "stdout",
     "output_type": "stream",
     "text": [
      "\u001b[1m561/561\u001b[0m \u001b[32m━━━━━━━━━━━━━━━━━━━━\u001b[0m\u001b[37m\u001b[0m \u001b[1m165s\u001b[0m 294ms/step - accuracy: 0.9136 - auc: 0.7820 - f1_score: 0.1132 - loss: 0.4345 - precision: 0.4800 - recall: 0.0787 - val_accuracy: 0.9130 - val_auc: 0.7462 - val_f1_score: 0.1053 - val_loss: 0.5154 - val_precision: 0.4361 - val_recall: 0.0721 - learning_rate: 1.0000e-06\n"
     ]
    },
    {
     "name": "stderr",
     "output_type": "stream",
     "text": [
      "2025-04-23 10:00:40 - INFO - \n",
      "=== Starting Epoch 53 ===\n",
      "\n"
     ]
    },
    {
     "name": "stdout",
     "output_type": "stream",
     "text": [
      "Epoch 53/100\n",
      "\u001b[1m 52/561\u001b[0m \u001b[32m━\u001b[0m\u001b[37m━━━━━━━━━━━━━━━━━━━\u001b[0m \u001b[1m1:43\u001b[0m 203ms/step - accuracy: 0.9139 - auc: 0.7873 - f1_score: 0.1226 - loss: 0.4358 - precision: 0.4887 - recall: 0.0855"
     ]
    },
    {
     "name": "stderr",
     "output_type": "stream",
     "text": [
      "2025-04-23 10:00:54.902946: I tensorflow/core/kernels/data/shuffle_dataset_op.cc:452] ShuffleDatasetV3:13: Filling up shuffle buffer (this may take a while): 11385 of 25000\n",
      "2025-04-23 10:01:06.822569: I tensorflow/core/kernels/data/shuffle_dataset_op.cc:482] Shuffle buffer filled.\n",
      "2025-04-23 10:01:06.934812: W tensorflow/core/kernels/data/prefetch_autotuner.cc:52] Prefetch autotuner tried to allocate 134227456 bytes after encountering the first element of size 134227456 bytes.This already causes the autotune ram budget to be exceeded. To stay within the ram budget, either increase the ram budget or reduce element size\n"
     ]
    },
    {
     "name": "stdout",
     "output_type": "stream",
     "text": [
      "\u001b[1m363/561\u001b[0m \u001b[32m━━━━━━━━━━━━\u001b[0m\u001b[37m━━━━━━━━\u001b[0m \u001b[1m57s\u001b[0m 291ms/step - accuracy: 0.9135 - auc: 0.7813 - f1_score: 0.1156 - loss: 0.4331 - precision: 0.4752 - recall: 0.0799 "
     ]
    },
    {
     "name": "stderr",
     "output_type": "stream",
     "text": [
      "2025-04-23 10:02:26.578275: W tensorflow/core/lib/png/png_io.cc:92] PNG warning: iCCP: profile 'ICC Profile': 'GRAY': Gray color space not permitted on RGB PNG\n"
     ]
    },
    {
     "name": "stdout",
     "output_type": "stream",
     "text": [
      "\u001b[1m561/561\u001b[0m \u001b[32m━━━━━━━━━━━━━━━━━━━━\u001b[0m\u001b[37m\u001b[0m \u001b[1m0s\u001b[0m 266ms/step - accuracy: 0.9135 - auc: 0.7818 - f1_score: 0.1155 - loss: 0.4328 - precision: 0.4748 - recall: 0.0799 "
     ]
    },
    {
     "name": "stderr",
     "output_type": "stream",
     "text": [
      "2025-04-23 10:03:24 - INFO - \n",
      "=== Epoch 53 Summary ===\n",
      "2025-04-23 10:03:24 - INFO - Time: 163.29s\n",
      "2025-04-23 10:03:24 - INFO - Training   - accuracy: 0.9137 - auc: 0.7828 - f1_score: 0.1158 - loss: 0.4328 - precision: 0.4755 - recall: 0.0804 - learning_rate: 0.0000\n",
      "2025-04-23 10:03:24 - INFO - Validation - accuracy: 0.9126 - auc: 0.7467 - f1_score: 0.1003 - loss: 0.5173 - precision: 0.4208 - recall: 0.0693\n",
      "2025-04-23 10:03:24 - INFO - ==================================================\n",
      "\n"
     ]
    },
    {
     "name": "stdout",
     "output_type": "stream",
     "text": [
      "\u001b[1m561/561\u001b[0m \u001b[32m━━━━━━━━━━━━━━━━━━━━\u001b[0m\u001b[37m\u001b[0m \u001b[1m163s\u001b[0m 291ms/step - accuracy: 0.9135 - auc: 0.7818 - f1_score: 0.1155 - loss: 0.4328 - precision: 0.4748 - recall: 0.0799 - val_accuracy: 0.9126 - val_auc: 0.7467 - val_f1_score: 0.1003 - val_loss: 0.5173 - val_precision: 0.4208 - val_recall: 0.0693 - learning_rate: 1.0000e-06\n"
     ]
    },
    {
     "name": "stderr",
     "output_type": "stream",
     "text": [
      "2025-04-23 10:03:24 - INFO - \n",
      "=== Starting Epoch 54 ===\n",
      "\n"
     ]
    },
    {
     "name": "stdout",
     "output_type": "stream",
     "text": [
      "Epoch 54/100\n",
      "\u001b[1m 53/561\u001b[0m \u001b[32m━\u001b[0m\u001b[37m━━━━━━━━━━━━━━━━━━━\u001b[0m \u001b[1m1:42\u001b[0m 202ms/step - accuracy: 0.9133 - auc: 0.7771 - f1_score: 0.1106 - loss: 0.4435 - precision: 0.4674 - recall: 0.0789"
     ]
    },
    {
     "name": "stderr",
     "output_type": "stream",
     "text": [
      "2025-04-23 10:03:38.402058: I tensorflow/core/kernels/data/shuffle_dataset_op.cc:452] ShuffleDatasetV3:13: Filling up shuffle buffer (this may take a while): 11274 of 25000\n",
      "2025-04-23 10:03:48.402675: I tensorflow/core/kernels/data/shuffle_dataset_op.cc:452] ShuffleDatasetV3:13: Filling up shuffle buffer (this may take a while): 22693 of 25000\n",
      "2025-04-23 10:03:50.412868: I tensorflow/core/kernels/data/shuffle_dataset_op.cc:482] Shuffle buffer filled.\n",
      "2025-04-23 10:03:50.527535: W tensorflow/core/kernels/data/prefetch_autotuner.cc:52] Prefetch autotuner tried to allocate 134227456 bytes after encountering the first element of size 134227456 bytes.This already causes the autotune ram budget to be exceeded. To stay within the ram budget, either increase the ram budget or reduce element size\n"
     ]
    },
    {
     "name": "stdout",
     "output_type": "stream",
     "text": [
      "\u001b[1m364/561\u001b[0m \u001b[32m━━━━━━━━━━━━\u001b[0m\u001b[37m━━━━━━━━\u001b[0m \u001b[1m58s\u001b[0m 295ms/step - accuracy: 0.9135 - auc: 0.7829 - f1_score: 0.1136 - loss: 0.4368 - precision: 0.4781 - recall: 0.0798 "
     ]
    },
    {
     "name": "stderr",
     "output_type": "stream",
     "text": [
      "2025-04-23 10:05:11.707973: W tensorflow/core/lib/png/png_io.cc:92] PNG warning: iCCP: profile 'ICC Profile': 'GRAY': Gray color space not permitted on RGB PNG\n"
     ]
    },
    {
     "name": "stdout",
     "output_type": "stream",
     "text": [
      "\u001b[1m561/561\u001b[0m \u001b[32m━━━━━━━━━━━━━━━━━━━━\u001b[0m\u001b[37m\u001b[0m \u001b[1m0s\u001b[0m 269ms/step - accuracy: 0.9136 - auc: 0.7830 - f1_score: 0.1131 - loss: 0.4359 - precision: 0.4770 - recall: 0.0794 "
     ]
    },
    {
     "name": "stderr",
     "output_type": "stream",
     "text": [
      "2025-04-23 10:06:09 - INFO - \n",
      "=== Epoch 54 Summary ===\n",
      "2025-04-23 10:06:09 - INFO - Time: 164.98s\n",
      "2025-04-23 10:06:09 - INFO - Training   - accuracy: 0.9137 - auc: 0.7835 - f1_score: 0.1131 - loss: 0.4331 - precision: 0.4754 - recall: 0.0793 - learning_rate: 0.0000\n",
      "2025-04-23 10:06:09 - INFO - Validation - accuracy: 0.9127 - auc: 0.7460 - f1_score: 0.1012 - loss: 0.5177 - precision: 0.4246 - recall: 0.0700\n",
      "2025-04-23 10:06:09 - INFO - ==================================================\n",
      "\n"
     ]
    },
    {
     "name": "stdout",
     "output_type": "stream",
     "text": [
      "\u001b[1m561/561\u001b[0m \u001b[32m━━━━━━━━━━━━━━━━━━━━\u001b[0m\u001b[37m\u001b[0m \u001b[1m165s\u001b[0m 294ms/step - accuracy: 0.9136 - auc: 0.7830 - f1_score: 0.1131 - loss: 0.4359 - precision: 0.4770 - recall: 0.0794 - val_accuracy: 0.9127 - val_auc: 0.7460 - val_f1_score: 0.1012 - val_loss: 0.5177 - val_precision: 0.4246 - val_recall: 0.0700 - learning_rate: 1.0000e-06\n"
     ]
    },
    {
     "name": "stderr",
     "output_type": "stream",
     "text": [
      "2025-04-23 10:06:09 - INFO - \n",
      "=== Starting Epoch 55 ===\n",
      "\n"
     ]
    },
    {
     "name": "stdout",
     "output_type": "stream",
     "text": [
      "Epoch 55/100\n",
      "\u001b[1m 54/561\u001b[0m \u001b[32m━\u001b[0m\u001b[37m━━━━━━━━━━━━━━━━━━━\u001b[0m \u001b[1m1:42\u001b[0m 202ms/step - accuracy: 0.9140 - auc: 0.7849 - f1_score: 0.1221 - loss: 0.4327 - precision: 0.4852 - recall: 0.0848"
     ]
    },
    {
     "name": "stderr",
     "output_type": "stream",
     "text": [
      "2025-04-23 10:06:23.588171: I tensorflow/core/kernels/data/shuffle_dataset_op.cc:452] ShuffleDatasetV3:13: Filling up shuffle buffer (this may take a while): 11333 of 25000\n",
      "2025-04-23 10:06:33.590674: I tensorflow/core/kernels/data/shuffle_dataset_op.cc:452] ShuffleDatasetV3:13: Filling up shuffle buffer (this may take a while): 22828 of 25000\n",
      "2025-04-23 10:06:35.474235: I tensorflow/core/kernels/data/shuffle_dataset_op.cc:482] Shuffle buffer filled.\n",
      "2025-04-23 10:06:35.584837: W tensorflow/core/kernels/data/prefetch_autotuner.cc:52] Prefetch autotuner tried to allocate 134227456 bytes after encountering the first element of size 134227456 bytes.This already causes the autotune ram budget to be exceeded. To stay within the ram budget, either increase the ram budget or reduce element size\n"
     ]
    },
    {
     "name": "stdout",
     "output_type": "stream",
     "text": [
      "\u001b[1m365/561\u001b[0m \u001b[32m━━━━━━━━━━━━━\u001b[0m\u001b[37m━━━━━━━\u001b[0m \u001b[1m57s\u001b[0m 293ms/step - accuracy: 0.9136 - auc: 0.7821 - f1_score: 0.1183 - loss: 0.4342 - precision: 0.4828 - recall: 0.0827 "
     ]
    },
    {
     "name": "stderr",
     "output_type": "stream",
     "text": [
      "2025-04-23 10:07:56.066012: W tensorflow/core/lib/png/png_io.cc:92] PNG warning: iCCP: profile 'ICC Profile': 'GRAY': Gray color space not permitted on RGB PNG\n"
     ]
    },
    {
     "name": "stdout",
     "output_type": "stream",
     "text": [
      "\u001b[1m561/561\u001b[0m \u001b[32m━━━━━━━━━━━━━━━━━━━━\u001b[0m\u001b[37m\u001b[0m \u001b[1m0s\u001b[0m 268ms/step - accuracy: 0.9136 - auc: 0.7825 - f1_score: 0.1176 - loss: 0.4339 - precision: 0.4818 - recall: 0.0822 "
     ]
    },
    {
     "name": "stderr",
     "output_type": "stream",
     "text": [
      "2025-04-23 10:08:39.536667: W tensorflow/core/kernels/data/prefetch_autotuner.cc:52] Prefetch autotuner tried to allocate 151526912 bytes after encountering the first element of size 151526912 bytes.This already causes the autotune ram budget to be exceeded. To stay within the ram budget, either increase the ram budget or reduce element size\n",
      "2025-04-23 10:08:53 - INFO - \n",
      "=== Epoch 55 Summary ===\n",
      "2025-04-23 10:08:53 - INFO - Time: 164.12s\n",
      "2025-04-23 10:08:53 - INFO - Training   - accuracy: 0.9138 - auc: 0.7840 - f1_score: 0.1167 - loss: 0.4327 - precision: 0.4806 - recall: 0.0817 - learning_rate: 0.0000\n",
      "2025-04-23 10:08:53 - INFO - Validation - accuracy: 0.9125 - auc: 0.7466 - f1_score: 0.1034 - loss: 0.5173 - precision: 0.4190 - recall: 0.0720\n",
      "2025-04-23 10:08:53 - INFO - ==================================================\n",
      "\n"
     ]
    },
    {
     "name": "stdout",
     "output_type": "stream",
     "text": [
      "\u001b[1m561/561\u001b[0m \u001b[32m━━━━━━━━━━━━━━━━━━━━\u001b[0m\u001b[37m\u001b[0m \u001b[1m164s\u001b[0m 293ms/step - accuracy: 0.9136 - auc: 0.7825 - f1_score: 0.1176 - loss: 0.4339 - precision: 0.4818 - recall: 0.0822 - val_accuracy: 0.9125 - val_auc: 0.7466 - val_f1_score: 0.1034 - val_loss: 0.5173 - val_precision: 0.4190 - val_recall: 0.0720 - learning_rate: 1.0000e-06\n"
     ]
    },
    {
     "name": "stderr",
     "output_type": "stream",
     "text": [
      "2025-04-23 10:08:53 - INFO - \n",
      "=== Starting Epoch 56 ===\n",
      "\n"
     ]
    },
    {
     "name": "stdout",
     "output_type": "stream",
     "text": [
      "Epoch 56/100\n",
      "\u001b[1m 55/561\u001b[0m \u001b[32m━\u001b[0m\u001b[37m━━━━━━━━━━━━━━━━━━━\u001b[0m \u001b[1m1:42\u001b[0m 202ms/step - accuracy: 0.9128 - auc: 0.7801 - f1_score: 0.1133 - loss: 0.4328 - precision: 0.4595 - recall: 0.0793"
     ]
    },
    {
     "name": "stderr",
     "output_type": "stream",
     "text": [
      "2025-04-23 10:09:07.905342: I tensorflow/core/kernels/data/shuffle_dataset_op.cc:452] ShuffleDatasetV3:13: Filling up shuffle buffer (this may take a while): 11421 of 25000\n",
      "2025-04-23 10:09:19.798438: I tensorflow/core/kernels/data/shuffle_dataset_op.cc:482] Shuffle buffer filled.\n",
      "2025-04-23 10:09:19.909621: W tensorflow/core/kernels/data/prefetch_autotuner.cc:52] Prefetch autotuner tried to allocate 134225408 bytes after encountering the first element of size 134225408 bytes.This already causes the autotune ram budget to be exceeded. To stay within the ram budget, either increase the ram budget or reduce element size\n"
     ]
    },
    {
     "name": "stdout",
     "output_type": "stream",
     "text": [
      "\u001b[1m366/561\u001b[0m \u001b[32m━━━━━━━━━━━━━\u001b[0m\u001b[37m━━━━━━━\u001b[0m \u001b[1m57s\u001b[0m 295ms/step - accuracy: 0.9133 - auc: 0.7804 - f1_score: 0.1131 - loss: 0.4333 - precision: 0.4697 - recall: 0.0789 "
     ]
    },
    {
     "name": "stderr",
     "output_type": "stream",
     "text": [
      "2025-04-23 10:10:41.312569: W tensorflow/core/lib/png/png_io.cc:92] PNG warning: iCCP: profile 'ICC Profile': 'GRAY': Gray color space not permitted on RGB PNG\n"
     ]
    },
    {
     "name": "stdout",
     "output_type": "stream",
     "text": [
      "\u001b[1m561/561\u001b[0m \u001b[32m━━━━━━━━━━━━━━━━━━━━\u001b[0m\u001b[37m\u001b[0m \u001b[1m0s\u001b[0m 270ms/step - accuracy: 0.9134 - auc: 0.7808 - f1_score: 0.1138 - loss: 0.4335 - precision: 0.4707 - recall: 0.0795 "
     ]
    },
    {
     "name": "stderr",
     "output_type": "stream",
     "text": [
      "2025-04-23 10:11:38 - INFO - \n",
      "=== Epoch 56 Summary ===\n",
      "2025-04-23 10:11:38 - INFO - Time: 165.28s\n",
      "2025-04-23 10:11:38 - INFO - Training   - accuracy: 0.9135 - auc: 0.7828 - f1_score: 0.1163 - loss: 0.4331 - precision: 0.4745 - recall: 0.0814 - learning_rate: 0.0000\n",
      "2025-04-23 10:11:38 - INFO - Validation - accuracy: 0.9126 - auc: 0.7456 - f1_score: 0.1076 - loss: 0.5160 - precision: 0.4238 - recall: 0.0744\n",
      "2025-04-23 10:11:38 - INFO - ==================================================\n",
      "\n"
     ]
    },
    {
     "name": "stdout",
     "output_type": "stream",
     "text": [
      "\u001b[1m561/561\u001b[0m \u001b[32m━━━━━━━━━━━━━━━━━━━━\u001b[0m\u001b[37m\u001b[0m \u001b[1m165s\u001b[0m 295ms/step - accuracy: 0.9134 - auc: 0.7808 - f1_score: 0.1138 - loss: 0.4335 - precision: 0.4707 - recall: 0.0795 - val_accuracy: 0.9126 - val_auc: 0.7456 - val_f1_score: 0.1076 - val_loss: 0.5160 - val_precision: 0.4238 - val_recall: 0.0744 - learning_rate: 1.0000e-06\n"
     ]
    },
    {
     "name": "stderr",
     "output_type": "stream",
     "text": [
      "2025-04-23 10:11:38 - INFO - \n",
      "=== Starting Epoch 57 ===\n",
      "\n"
     ]
    },
    {
     "name": "stdout",
     "output_type": "stream",
     "text": [
      "Epoch 57/100\n",
      "\u001b[1m 56/561\u001b[0m \u001b[32m━\u001b[0m\u001b[37m━━━━━━━━━━━━━━━━━━━\u001b[0m \u001b[1m1:42\u001b[0m 203ms/step - accuracy: 0.9131 - auc: 0.7904 - f1_score: 0.1257 - loss: 0.4317 - precision: 0.4888 - recall: 0.0885"
     ]
    },
    {
     "name": "stderr",
     "output_type": "stream",
     "text": [
      "2025-04-23 10:11:53.429960: I tensorflow/core/kernels/data/shuffle_dataset_op.cc:452] ShuffleDatasetV3:13: Filling up shuffle buffer (this may take a while): 11405 of 25000\n",
      "2025-04-23 10:12:05.303766: I tensorflow/core/kernels/data/shuffle_dataset_op.cc:482] Shuffle buffer filled.\n",
      "2025-04-23 10:12:05.413893: W tensorflow/core/kernels/data/prefetch_autotuner.cc:52] Prefetch autotuner tried to allocate 134225408 bytes after encountering the first element of size 134225408 bytes.This already causes the autotune ram budget to be exceeded. To stay within the ram budget, either increase the ram budget or reduce element size\n"
     ]
    },
    {
     "name": "stdout",
     "output_type": "stream",
     "text": [
      "\u001b[1m367/561\u001b[0m \u001b[32m━━━━━━━━━━━━━\u001b[0m\u001b[37m━━━━━━━\u001b[0m \u001b[1m56s\u001b[0m 290ms/step - accuracy: 0.9137 - auc: 0.7879 - f1_score: 0.1195 - loss: 0.4321 - precision: 0.4845 - recall: 0.0831 "
     ]
    },
    {
     "name": "stderr",
     "output_type": "stream",
     "text": [
      "2025-04-23 10:13:25.020080: W tensorflow/core/lib/png/png_io.cc:92] PNG warning: iCCP: profile 'ICC Profile': 'GRAY': Gray color space not permitted on RGB PNG\n"
     ]
    },
    {
     "name": "stdout",
     "output_type": "stream",
     "text": [
      "\u001b[1m561/561\u001b[0m \u001b[32m━━━━━━━━━━━━━━━━━━━━\u001b[0m\u001b[37m\u001b[0m \u001b[1m0s\u001b[0m 266ms/step - accuracy: 0.9138 - auc: 0.7877 - f1_score: 0.1189 - loss: 0.4320 - precision: 0.4844 - recall: 0.0827 "
     ]
    },
    {
     "name": "stderr",
     "output_type": "stream",
     "text": [
      "2025-04-23 10:14:22 - INFO - \n",
      "=== Epoch 57 Summary ===\n",
      "2025-04-23 10:14:22 - INFO - Time: 164.10s\n",
      "2025-04-23 10:14:22 - INFO - Training   - accuracy: 0.9138 - auc: 0.7866 - f1_score: 0.1180 - loss: 0.4320 - precision: 0.4824 - recall: 0.0822 - learning_rate: 0.0000\n",
      "2025-04-23 10:14:22 - INFO - Validation - accuracy: 0.9125 - auc: 0.7466 - f1_score: 0.1121 - loss: 0.5148 - precision: 0.4247 - recall: 0.0764\n",
      "2025-04-23 10:14:22 - INFO - ==================================================\n",
      "\n"
     ]
    },
    {
     "name": "stdout",
     "output_type": "stream",
     "text": [
      "\u001b[1m561/561\u001b[0m \u001b[32m━━━━━━━━━━━━━━━━━━━━\u001b[0m\u001b[37m\u001b[0m \u001b[1m164s\u001b[0m 293ms/step - accuracy: 0.9138 - auc: 0.7877 - f1_score: 0.1189 - loss: 0.4320 - precision: 0.4844 - recall: 0.0827 - val_accuracy: 0.9125 - val_auc: 0.7466 - val_f1_score: 0.1121 - val_loss: 0.5148 - val_precision: 0.4247 - val_recall: 0.0764 - learning_rate: 1.0000e-06\n"
     ]
    },
    {
     "name": "stderr",
     "output_type": "stream",
     "text": [
      "2025-04-23 10:14:22 - INFO - \n",
      "=== Starting Epoch 58 ===\n",
      "\n"
     ]
    },
    {
     "name": "stdout",
     "output_type": "stream",
     "text": [
      "Epoch 58/100\n",
      "\u001b[1m 57/561\u001b[0m \u001b[32m━━\u001b[0m\u001b[37m━━━━━━━━━━━━━━━━━━\u001b[0m \u001b[1m1:42\u001b[0m 202ms/step - accuracy: 0.9152 - auc: 0.7720 - f1_score: 0.1226 - loss: 0.4239 - precision: 0.4711 - recall: 0.0849"
     ]
    },
    {
     "name": "stderr",
     "output_type": "stream",
     "text": [
      "2025-04-23 10:14:37.772335: I tensorflow/core/kernels/data/shuffle_dataset_op.cc:452] ShuffleDatasetV3:13: Filling up shuffle buffer (this may take a while): 11429 of 25000\n",
      "2025-04-23 10:14:49.624805: I tensorflow/core/kernels/data/shuffle_dataset_op.cc:482] Shuffle buffer filled.\n",
      "2025-04-23 10:14:49.735766: W tensorflow/core/kernels/data/prefetch_autotuner.cc:52] Prefetch autotuner tried to allocate 134225408 bytes after encountering the first element of size 134225408 bytes.This already causes the autotune ram budget to be exceeded. To stay within the ram budget, either increase the ram budget or reduce element size\n"
     ]
    },
    {
     "name": "stdout",
     "output_type": "stream",
     "text": [
      "\u001b[1m368/561\u001b[0m \u001b[32m━━━━━━━━━━━━━\u001b[0m\u001b[37m━━━━━━━\u001b[0m \u001b[1m56s\u001b[0m 294ms/step - accuracy: 0.9141 - auc: 0.7787 - f1_score: 0.1186 - loss: 0.4283 - precision: 0.4752 - recall: 0.0831 "
     ]
    },
    {
     "name": "stderr",
     "output_type": "stream",
     "text": [
      "2025-04-23 10:16:11.090354: W tensorflow/core/lib/png/png_io.cc:92] PNG warning: iCCP: profile 'ICC Profile': 'GRAY': Gray color space not permitted on RGB PNG\n"
     ]
    },
    {
     "name": "stdout",
     "output_type": "stream",
     "text": [
      "\u001b[1m561/561\u001b[0m \u001b[32m━━━━━━━━━━━━━━━━━━━━\u001b[0m\u001b[37m\u001b[0m \u001b[1m0s\u001b[0m 269ms/step - accuracy: 0.9140 - auc: 0.7805 - f1_score: 0.1176 - loss: 0.4291 - precision: 0.4759 - recall: 0.0825 "
     ]
    },
    {
     "name": "stderr",
     "output_type": "stream",
     "text": [
      "2025-04-23 10:17:07 - INFO - \n",
      "=== Epoch 58 Summary ===\n",
      "2025-04-23 10:17:07 - INFO - Time: 165.00s\n",
      "2025-04-23 10:17:07 - INFO - Training   - accuracy: 0.9138 - auc: 0.7849 - f1_score: 0.1162 - loss: 0.4308 - precision: 0.4774 - recall: 0.0813 - learning_rate: 0.0000\n",
      "2025-04-23 10:17:07 - INFO - Validation - accuracy: 0.9126 - auc: 0.7461 - f1_score: 0.1051 - loss: 0.5178 - precision: 0.4234 - recall: 0.0720\n",
      "2025-04-23 10:17:07 - INFO - ==================================================\n",
      "\n"
     ]
    },
    {
     "name": "stdout",
     "output_type": "stream",
     "text": [
      "\u001b[1m561/561\u001b[0m \u001b[32m━━━━━━━━━━━━━━━━━━━━\u001b[0m\u001b[37m\u001b[0m \u001b[1m165s\u001b[0m 294ms/step - accuracy: 0.9140 - auc: 0.7805 - f1_score: 0.1176 - loss: 0.4291 - precision: 0.4759 - recall: 0.0825 - val_accuracy: 0.9126 - val_auc: 0.7461 - val_f1_score: 0.1051 - val_loss: 0.5178 - val_precision: 0.4234 - val_recall: 0.0720 - learning_rate: 1.0000e-06\n"
     ]
    },
    {
     "name": "stderr",
     "output_type": "stream",
     "text": [
      "2025-04-23 10:17:07 - INFO - \n",
      "=== Starting Epoch 59 ===\n",
      "\n"
     ]
    },
    {
     "name": "stdout",
     "output_type": "stream",
     "text": [
      "Epoch 59/100\n",
      "\u001b[1m 58/561\u001b[0m \u001b[32m━━\u001b[0m\u001b[37m━━━━━━━━━━━━━━━━━━\u001b[0m \u001b[1m1:41\u001b[0m 203ms/step - accuracy: 0.9140 - auc: 0.7843 - f1_score: 0.1215 - loss: 0.4265 - precision: 0.4825 - recall: 0.0863"
     ]
    },
    {
     "name": "stderr",
     "output_type": "stream",
     "text": [
      "2025-04-23 10:17:22.988079: I tensorflow/core/kernels/data/shuffle_dataset_op.cc:452] ShuffleDatasetV3:13: Filling up shuffle buffer (this may take a while): 11450 of 25000\n",
      "2025-04-23 10:17:34.771400: I tensorflow/core/kernels/data/shuffle_dataset_op.cc:482] Shuffle buffer filled.\n",
      "2025-04-23 10:17:34.880764: W tensorflow/core/kernels/data/prefetch_autotuner.cc:52] Prefetch autotuner tried to allocate 134225408 bytes after encountering the first element of size 134225408 bytes.This already causes the autotune ram budget to be exceeded. To stay within the ram budget, either increase the ram budget or reduce element size\n"
     ]
    },
    {
     "name": "stdout",
     "output_type": "stream",
     "text": [
      "\u001b[1m369/561\u001b[0m \u001b[32m━━━━━━━━━━━━━\u001b[0m\u001b[37m━━━━━━━\u001b[0m \u001b[1m56s\u001b[0m 292ms/step - accuracy: 0.9139 - auc: 0.7848 - f1_score: 0.1203 - loss: 0.4312 - precision: 0.4791 - recall: 0.0848 "
     ]
    },
    {
     "name": "stderr",
     "output_type": "stream",
     "text": [
      "2025-04-23 10:18:55.493703: W tensorflow/core/lib/png/png_io.cc:92] PNG warning: iCCP: profile 'ICC Profile': 'GRAY': Gray color space not permitted on RGB PNG\n"
     ]
    },
    {
     "name": "stdout",
     "output_type": "stream",
     "text": [
      "\u001b[1m561/561\u001b[0m \u001b[32m━━━━━━━━━━━━━━━━━━━━\u001b[0m\u001b[37m\u001b[0m \u001b[1m0s\u001b[0m 268ms/step - accuracy: 0.9139 - auc: 0.7852 - f1_score: 0.1202 - loss: 0.4310 - precision: 0.4796 - recall: 0.0846 "
     ]
    },
    {
     "name": "stderr",
     "output_type": "stream",
     "text": [
      "2025-04-23 10:19:52 - INFO - \n",
      "=== Epoch 59 Summary ===\n",
      "2025-04-23 10:19:52 - INFO - Time: 164.20s\n",
      "2025-04-23 10:19:52 - INFO - Training   - accuracy: 0.9139 - auc: 0.7864 - f1_score: 0.1205 - loss: 0.4307 - precision: 0.4794 - recall: 0.0845 - learning_rate: 0.0000\n",
      "2025-04-23 10:19:52 - INFO - Validation - accuracy: 0.9124 - auc: 0.7426 - f1_score: 0.0956 - loss: 0.5196 - precision: 0.4111 - recall: 0.0673\n",
      "2025-04-23 10:19:52 - INFO - ==================================================\n",
      "\n"
     ]
    },
    {
     "name": "stdout",
     "output_type": "stream",
     "text": [
      "\u001b[1m561/561\u001b[0m \u001b[32m━━━━━━━━━━━━━━━━━━━━\u001b[0m\u001b[37m\u001b[0m \u001b[1m164s\u001b[0m 293ms/step - accuracy: 0.9139 - auc: 0.7852 - f1_score: 0.1202 - loss: 0.4310 - precision: 0.4796 - recall: 0.0846 - val_accuracy: 0.9124 - val_auc: 0.7426 - val_f1_score: 0.0956 - val_loss: 0.5196 - val_precision: 0.4111 - val_recall: 0.0673 - learning_rate: 1.0000e-06\n"
     ]
    },
    {
     "name": "stderr",
     "output_type": "stream",
     "text": [
      "2025-04-23 10:19:52 - INFO - \n",
      "=== Starting Epoch 60 ===\n",
      "\n"
     ]
    },
    {
     "name": "stdout",
     "output_type": "stream",
     "text": [
      "Epoch 60/100\n",
      "\u001b[1m 59/561\u001b[0m \u001b[32m━━\u001b[0m\u001b[37m━━━━━━━━━━━━━━━━━━\u001b[0m \u001b[1m1:41\u001b[0m 202ms/step - accuracy: 0.9137 - auc: 0.7881 - f1_score: 0.1173 - loss: 0.4353 - precision: 0.4966 - recall: 0.0836"
     ]
    },
    {
     "name": "stderr",
     "output_type": "stream",
     "text": [
      "2025-04-23 10:20:07.376464: I tensorflow/core/kernels/data/shuffle_dataset_op.cc:452] ShuffleDatasetV3:13: Filling up shuffle buffer (this may take a while): 11437 of 25000\n",
      "2025-04-23 10:20:17.380627: I tensorflow/core/kernels/data/shuffle_dataset_op.cc:452] ShuffleDatasetV3:13: Filling up shuffle buffer (this may take a while): 22866 of 25000\n",
      "2025-04-23 10:20:19.230363: I tensorflow/core/kernels/data/shuffle_dataset_op.cc:482] Shuffle buffer filled.\n",
      "2025-04-23 10:20:19.339590: W tensorflow/core/kernels/data/prefetch_autotuner.cc:52] Prefetch autotuner tried to allocate 134225408 bytes after encountering the first element of size 134225408 bytes.This already causes the autotune ram budget to be exceeded. To stay within the ram budget, either increase the ram budget or reduce element size\n"
     ]
    },
    {
     "name": "stdout",
     "output_type": "stream",
     "text": [
      "\u001b[1m370/561\u001b[0m \u001b[32m━━━━━━━━━━━━━\u001b[0m\u001b[37m━━━━━━━\u001b[0m \u001b[1m56s\u001b[0m 294ms/step - accuracy: 0.9136 - auc: 0.7865 - f1_score: 0.1193 - loss: 0.4323 - precision: 0.4869 - recall: 0.0838 "
     ]
    },
    {
     "name": "stderr",
     "output_type": "stream",
     "text": [
      "2025-04-23 10:21:40.811543: W tensorflow/core/lib/png/png_io.cc:92] PNG warning: iCCP: profile 'ICC Profile': 'GRAY': Gray color space not permitted on RGB PNG\n"
     ]
    },
    {
     "name": "stdout",
     "output_type": "stream",
     "text": [
      "\u001b[1m561/561\u001b[0m \u001b[32m━━━━━━━━━━━━━━━━━━━━\u001b[0m\u001b[37m\u001b[0m \u001b[1m0s\u001b[0m 269ms/step - accuracy: 0.9136 - auc: 0.7862 - f1_score: 0.1191 - loss: 0.4318 - precision: 0.4844 - recall: 0.0836 "
     ]
    },
    {
     "name": "stderr",
     "output_type": "stream",
     "text": [
      "2025-04-23 10:22:37 - INFO - \n",
      "=== Epoch 60 Summary ===\n",
      "2025-04-23 10:22:37 - INFO - Time: 165.08s\n",
      "2025-04-23 10:22:37 - INFO - Training   - accuracy: 0.9138 - auc: 0.7862 - f1_score: 0.1185 - loss: 0.4308 - precision: 0.4807 - recall: 0.0832 - learning_rate: 0.0000\n",
      "2025-04-23 10:22:37 - INFO - Validation - accuracy: 0.9124 - auc: 0.7448 - f1_score: 0.1008 - loss: 0.5168 - precision: 0.4151 - recall: 0.0705\n",
      "2025-04-23 10:22:37 - INFO - ==================================================\n",
      "\n"
     ]
    },
    {
     "name": "stdout",
     "output_type": "stream",
     "text": [
      "\u001b[1m561/561\u001b[0m \u001b[32m━━━━━━━━━━━━━━━━━━━━\u001b[0m\u001b[37m\u001b[0m \u001b[1m165s\u001b[0m 294ms/step - accuracy: 0.9136 - auc: 0.7862 - f1_score: 0.1191 - loss: 0.4318 - precision: 0.4844 - recall: 0.0836 - val_accuracy: 0.9124 - val_auc: 0.7448 - val_f1_score: 0.1008 - val_loss: 0.5168 - val_precision: 0.4151 - val_recall: 0.0705 - learning_rate: 1.0000e-06\n"
     ]
    },
    {
     "name": "stderr",
     "output_type": "stream",
     "text": [
      "2025-04-23 10:22:37 - INFO - \n",
      "=== Starting Epoch 61 ===\n",
      "\n"
     ]
    },
    {
     "name": "stdout",
     "output_type": "stream",
     "text": [
      "Epoch 61/100\n",
      "\u001b[1m 60/561\u001b[0m \u001b[32m━━\u001b[0m\u001b[37m━━━━━━━━━━━━━━━━━━\u001b[0m \u001b[1m1:41\u001b[0m 203ms/step - accuracy: 0.9129 - auc: 0.7755 - f1_score: 0.1200 - loss: 0.4350 - precision: 0.4793 - recall: 0.0847"
     ]
    },
    {
     "name": "stderr",
     "output_type": "stream",
     "text": [
      "2025-04-23 10:22:52.687509: I tensorflow/core/kernels/data/shuffle_dataset_op.cc:452] ShuffleDatasetV3:13: Filling up shuffle buffer (this may take a while): 11425 of 25000\n",
      "2025-04-23 10:23:04.559477: I tensorflow/core/kernels/data/shuffle_dataset_op.cc:482] Shuffle buffer filled.\n",
      "2025-04-23 10:23:04.670672: W tensorflow/core/kernels/data/prefetch_autotuner.cc:52] Prefetch autotuner tried to allocate 134225408 bytes after encountering the first element of size 134225408 bytes.This already causes the autotune ram budget to be exceeded. To stay within the ram budget, either increase the ram budget or reduce element size\n"
     ]
    },
    {
     "name": "stdout",
     "output_type": "stream",
     "text": [
      "\u001b[1m371/561\u001b[0m \u001b[32m━━━━━━━━━━━━━\u001b[0m\u001b[37m━━━━━━━\u001b[0m \u001b[1m55s\u001b[0m 290ms/step - accuracy: 0.9135 - auc: 0.7839 - f1_score: 0.1225 - loss: 0.4327 - precision: 0.4827 - recall: 0.0857 "
     ]
    },
    {
     "name": "stderr",
     "output_type": "stream",
     "text": [
      "2025-04-23 10:24:24.506619: W tensorflow/core/lib/png/png_io.cc:92] PNG warning: iCCP: profile 'ICC Profile': 'GRAY': Gray color space not permitted on RGB PNG\n"
     ]
    },
    {
     "name": "stdout",
     "output_type": "stream",
     "text": [
      "\u001b[1m561/561\u001b[0m \u001b[32m━━━━━━━━━━━━━━━━━━━━\u001b[0m\u001b[37m\u001b[0m \u001b[1m0s\u001b[0m 267ms/step - accuracy: 0.9136 - auc: 0.7847 - f1_score: 0.1225 - loss: 0.4322 - precision: 0.4825 - recall: 0.0857 "
     ]
    },
    {
     "name": "stderr",
     "output_type": "stream",
     "text": [
      "2025-04-23 10:25:20 - INFO - \n",
      "=== Epoch 61 Summary ===\n",
      "2025-04-23 10:25:20 - INFO - Time: 163.57s\n",
      "2025-04-23 10:25:20 - INFO - Training   - accuracy: 0.9138 - auc: 0.7876 - f1_score: 0.1234 - loss: 0.4311 - precision: 0.4831 - recall: 0.0863 - learning_rate: 0.0000\n",
      "2025-04-23 10:25:20 - INFO - Validation - accuracy: 0.9127 - auc: 0.7466 - f1_score: 0.1079 - loss: 0.5161 - precision: 0.4263 - recall: 0.0732\n",
      "2025-04-23 10:25:20 - INFO - ==================================================\n",
      "\n"
     ]
    },
    {
     "name": "stdout",
     "output_type": "stream",
     "text": [
      "\u001b[1m561/561\u001b[0m \u001b[32m━━━━━━━━━━━━━━━━━━━━\u001b[0m\u001b[37m\u001b[0m \u001b[1m164s\u001b[0m 292ms/step - accuracy: 0.9136 - auc: 0.7848 - f1_score: 0.1225 - loss: 0.4322 - precision: 0.4825 - recall: 0.0857 - val_accuracy: 0.9127 - val_auc: 0.7466 - val_f1_score: 0.1079 - val_loss: 0.5161 - val_precision: 0.4263 - val_recall: 0.0732 - learning_rate: 1.0000e-06\n"
     ]
    },
    {
     "name": "stderr",
     "output_type": "stream",
     "text": [
      "2025-04-23 10:25:20 - INFO - \n",
      "=== Starting Epoch 62 ===\n",
      "\n"
     ]
    },
    {
     "name": "stdout",
     "output_type": "stream",
     "text": [
      "Epoch 62/100\n",
      "\u001b[1m 61/561\u001b[0m \u001b[32m━━\u001b[0m\u001b[37m━━━━━━━━━━━━━━━━━━\u001b[0m \u001b[1m1:41\u001b[0m 203ms/step - accuracy: 0.9142 - auc: 0.7870 - f1_score: 0.1250 - loss: 0.4390 - precision: 0.4938 - recall: 0.0856"
     ]
    },
    {
     "name": "stderr",
     "output_type": "stream",
     "text": [
      "2025-04-23 10:25:36.478872: I tensorflow/core/kernels/data/shuffle_dataset_op.cc:452] ShuffleDatasetV3:13: Filling up shuffle buffer (this may take a while): 11382 of 25000\n",
      "2025-04-23 10:25:48.378945: I tensorflow/core/kernels/data/shuffle_dataset_op.cc:482] Shuffle buffer filled.\n",
      "2025-04-23 10:25:48.486092: W tensorflow/core/kernels/data/prefetch_autotuner.cc:52] Prefetch autotuner tried to allocate 134225408 bytes after encountering the first element of size 134225408 bytes.This already causes the autotune ram budget to be exceeded. To stay within the ram budget, either increase the ram budget or reduce element size\n"
     ]
    },
    {
     "name": "stdout",
     "output_type": "stream",
     "text": [
      "\u001b[1m372/561\u001b[0m \u001b[32m━━━━━━━━━━━━━\u001b[0m\u001b[37m━━━━━━━\u001b[0m \u001b[1m55s\u001b[0m 294ms/step - accuracy: 0.9140 - auc: 0.7865 - f1_score: 0.1225 - loss: 0.4323 - precision: 0.4868 - recall: 0.0853 "
     ]
    },
    {
     "name": "stderr",
     "output_type": "stream",
     "text": [
      "2025-04-23 10:27:10.012959: W tensorflow/core/lib/png/png_io.cc:92] PNG warning: iCCP: profile 'ICC Profile': 'GRAY': Gray color space not permitted on RGB PNG\n"
     ]
    },
    {
     "name": "stdout",
     "output_type": "stream",
     "text": [
      "\u001b[1m561/561\u001b[0m \u001b[32m━━━━━━━━━━━━━━━━━━━━\u001b[0m\u001b[37m\u001b[0m \u001b[1m0s\u001b[0m 270ms/step - accuracy: 0.9140 - auc: 0.7865 - f1_score: 0.1219 - loss: 0.4317 - precision: 0.4856 - recall: 0.0850 "
     ]
    },
    {
     "name": "stderr",
     "output_type": "stream",
     "text": [
      "2025-04-23 10:27:52.087858: W tensorflow/core/kernels/data/prefetch_autotuner.cc:52] Prefetch autotuner tried to allocate 151526912 bytes after encountering the first element of size 151526912 bytes.This already causes the autotune ram budget to be exceeded. To stay within the ram budget, either increase the ram budget or reduce element size\n",
      "2025-04-23 10:28:05 - INFO - \n",
      "=== Epoch 62 Summary ===\n",
      "2025-04-23 10:28:05 - INFO - Time: 165.22s\n",
      "2025-04-23 10:28:05 - INFO - Training   - accuracy: 0.9138 - auc: 0.7874 - f1_score: 0.1213 - loss: 0.4309 - precision: 0.4835 - recall: 0.0850 - learning_rate: 0.0000\n",
      "2025-04-23 10:28:05 - INFO - Validation - accuracy: 0.9125 - auc: 0.7460 - f1_score: 0.1105 - loss: 0.5158 - precision: 0.4246 - recall: 0.0763\n",
      "2025-04-23 10:28:05 - INFO - ==================================================\n",
      "\n"
     ]
    },
    {
     "name": "stdout",
     "output_type": "stream",
     "text": [
      "\u001b[1m561/561\u001b[0m \u001b[32m━━━━━━━━━━━━━━━━━━━━\u001b[0m\u001b[37m\u001b[0m \u001b[1m165s\u001b[0m 295ms/step - accuracy: 0.9140 - auc: 0.7865 - f1_score: 0.1219 - loss: 0.4317 - precision: 0.4855 - recall: 0.0850 - val_accuracy: 0.9125 - val_auc: 0.7460 - val_f1_score: 0.1105 - val_loss: 0.5158 - val_precision: 0.4246 - val_recall: 0.0763 - learning_rate: 1.0000e-06\n"
     ]
    },
    {
     "name": "stderr",
     "output_type": "stream",
     "text": [
      "2025-04-23 10:28:05 - INFO - \n",
      "=== Starting Epoch 63 ===\n",
      "\n"
     ]
    },
    {
     "name": "stdout",
     "output_type": "stream",
     "text": [
      "Epoch 63/100\n",
      "\u001b[1m 62/561\u001b[0m \u001b[32m━━\u001b[0m\u001b[37m━━━━━━━━━━━━━━━━━━\u001b[0m \u001b[1m1:41\u001b[0m 203ms/step - accuracy: 0.9132 - auc: 0.7844 - f1_score: 0.1219 - loss: 0.4239 - precision: 0.4545 - recall: 0.0847"
     ]
    },
    {
     "name": "stderr",
     "output_type": "stream",
     "text": [
      "2025-04-23 10:28:21.904320: I tensorflow/core/kernels/data/shuffle_dataset_op.cc:452] ShuffleDatasetV3:13: Filling up shuffle buffer (this may take a while): 11353 of 25000\n",
      "2025-04-23 10:28:31.905613: I tensorflow/core/kernels/data/shuffle_dataset_op.cc:452] ShuffleDatasetV3:13: Filling up shuffle buffer (this may take a while): 22845 of 25000\n",
      "2025-04-23 10:28:33.773161: I tensorflow/core/kernels/data/shuffle_dataset_op.cc:482] Shuffle buffer filled.\n",
      "2025-04-23 10:28:33.882959: W tensorflow/core/kernels/data/prefetch_autotuner.cc:52] Prefetch autotuner tried to allocate 134225408 bytes after encountering the first element of size 134225408 bytes.This already causes the autotune ram budget to be exceeded. To stay within the ram budget, either increase the ram budget or reduce element size\n"
     ]
    },
    {
     "name": "stdout",
     "output_type": "stream",
     "text": [
      "\u001b[1m373/561\u001b[0m \u001b[32m━━━━━━━━━━━━━\u001b[0m\u001b[37m━━━━━━━\u001b[0m \u001b[1m54s\u001b[0m 292ms/step - accuracy: 0.9137 - auc: 0.7874 - f1_score: 0.1242 - loss: 0.4267 - precision: 0.4720 - recall: 0.0872 "
     ]
    },
    {
     "name": "stderr",
     "output_type": "stream",
     "text": [
      "2025-04-23 10:29:54.611098: W tensorflow/core/lib/png/png_io.cc:92] PNG warning: iCCP: profile 'ICC Profile': 'GRAY': Gray color space not permitted on RGB PNG\n"
     ]
    },
    {
     "name": "stdout",
     "output_type": "stream",
     "text": [
      "\u001b[1m561/561\u001b[0m \u001b[32m━━━━━━━━━━━━━━━━━━━━\u001b[0m\u001b[37m\u001b[0m \u001b[1m0s\u001b[0m 268ms/step - accuracy: 0.9138 - auc: 0.7877 - f1_score: 0.1239 - loss: 0.4274 - precision: 0.4748 - recall: 0.0870 "
     ]
    },
    {
     "name": "stderr",
     "output_type": "stream",
     "text": [
      "2025-04-23 10:30:50 - INFO - \n",
      "=== Epoch 63 Summary ===\n",
      "2025-04-23 10:30:50 - INFO - Time: 164.45s\n",
      "2025-04-23 10:30:50 - INFO - Training   - accuracy: 0.9139 - auc: 0.7881 - f1_score: 0.1238 - loss: 0.4284 - precision: 0.4815 - recall: 0.0866 - learning_rate: 0.0000\n",
      "2025-04-23 10:30:50 - INFO - Validation - accuracy: 0.9127 - auc: 0.7473 - f1_score: 0.1103 - loss: 0.5150 - precision: 0.4282 - recall: 0.0751\n",
      "2025-04-23 10:30:50 - INFO - ==================================================\n",
      "\n"
     ]
    },
    {
     "name": "stdout",
     "output_type": "stream",
     "text": [
      "\u001b[1m561/561\u001b[0m \u001b[32m━━━━━━━━━━━━━━━━━━━━\u001b[0m\u001b[37m\u001b[0m \u001b[1m164s\u001b[0m 293ms/step - accuracy: 0.9138 - auc: 0.7877 - f1_score: 0.1239 - loss: 0.4274 - precision: 0.4748 - recall: 0.0870 - val_accuracy: 0.9127 - val_auc: 0.7473 - val_f1_score: 0.1103 - val_loss: 0.5150 - val_precision: 0.4282 - val_recall: 0.0751 - learning_rate: 1.0000e-06\n"
     ]
    },
    {
     "name": "stderr",
     "output_type": "stream",
     "text": [
      "2025-04-23 10:30:50 - INFO - \n",
      "=== Starting Epoch 64 ===\n",
      "\n"
     ]
    },
    {
     "name": "stdout",
     "output_type": "stream",
     "text": [
      "Epoch 64/100\n",
      "\u001b[1m 63/561\u001b[0m \u001b[32m━━\u001b[0m\u001b[37m━━━━━━━━━━━━━━━━━━\u001b[0m \u001b[1m1:41\u001b[0m 203ms/step - accuracy: 0.9136 - auc: 0.7915 - f1_score: 0.1198 - loss: 0.4297 - precision: 0.4768 - recall: 0.0852"
     ]
    },
    {
     "name": "stderr",
     "output_type": "stream",
     "text": [
      "2025-04-23 10:31:06.581517: I tensorflow/core/kernels/data/shuffle_dataset_op.cc:452] ShuffleDatasetV3:13: Filling up shuffle buffer (this may take a while): 11370 of 25000\n",
      "2025-04-23 10:31:16.582990: I tensorflow/core/kernels/data/shuffle_dataset_op.cc:452] ShuffleDatasetV3:13: Filling up shuffle buffer (this may take a while): 22797 of 25000\n",
      "2025-04-23 10:31:18.502379: I tensorflow/core/kernels/data/shuffle_dataset_op.cc:482] Shuffle buffer filled.\n",
      "2025-04-23 10:31:18.614933: W tensorflow/core/kernels/data/prefetch_autotuner.cc:52] Prefetch autotuner tried to allocate 134225408 bytes after encountering the first element of size 134225408 bytes.This already causes the autotune ram budget to be exceeded. To stay within the ram budget, either increase the ram budget or reduce element size\n"
     ]
    },
    {
     "name": "stdout",
     "output_type": "stream",
     "text": [
      "\u001b[1m374/561\u001b[0m \u001b[32m━━━━━━━━━━━━━\u001b[0m\u001b[37m━━━━━━━\u001b[0m \u001b[1m54s\u001b[0m 293ms/step - accuracy: 0.9136 - auc: 0.7869 - f1_score: 0.1225 - loss: 0.4294 - precision: 0.4823 - recall: 0.0860 "
     ]
    },
    {
     "name": "stderr",
     "output_type": "stream",
     "text": [
      "2025-04-23 10:32:40.053938: W tensorflow/core/lib/png/png_io.cc:92] PNG warning: iCCP: profile 'ICC Profile': 'GRAY': Gray color space not permitted on RGB PNG\n"
     ]
    },
    {
     "name": "stdout",
     "output_type": "stream",
     "text": [
      "\u001b[1m561/561\u001b[0m \u001b[32m━━━━━━━━━━━━━━━━━━━━\u001b[0m\u001b[37m\u001b[0m \u001b[1m0s\u001b[0m 270ms/step - accuracy: 0.9137 - auc: 0.7870 - f1_score: 0.1232 - loss: 0.4294 - precision: 0.4829 - recall: 0.0864 "
     ]
    },
    {
     "name": "stderr",
     "output_type": "stream",
     "text": [
      "2025-04-23 10:33:35 - INFO - \n",
      "=== Epoch 64 Summary ===\n",
      "2025-04-23 10:33:35 - INFO - Time: 165.48s\n",
      "2025-04-23 10:33:35 - INFO - Training   - accuracy: 0.9140 - auc: 0.7877 - f1_score: 0.1249 - loss: 0.4293 - precision: 0.4852 - recall: 0.0876 - learning_rate: 0.0000\n",
      "2025-04-23 10:33:35 - INFO - Validation - accuracy: 0.9128 - auc: 0.7458 - f1_score: 0.1079 - loss: 0.5152 - precision: 0.4308 - recall: 0.0746\n",
      "2025-04-23 10:33:35 - INFO - ==================================================\n",
      "\n"
     ]
    },
    {
     "name": "stdout",
     "output_type": "stream",
     "text": [
      "\u001b[1m561/561\u001b[0m \u001b[32m━━━━━━━━━━━━━━━━━━━━\u001b[0m\u001b[37m\u001b[0m \u001b[1m165s\u001b[0m 295ms/step - accuracy: 0.9137 - auc: 0.7870 - f1_score: 0.1232 - loss: 0.4294 - precision: 0.4829 - recall: 0.0864 - val_accuracy: 0.9128 - val_auc: 0.7458 - val_f1_score: 0.1079 - val_loss: 0.5152 - val_precision: 0.4308 - val_recall: 0.0746 - learning_rate: 1.0000e-06\n"
     ]
    },
    {
     "name": "stderr",
     "output_type": "stream",
     "text": [
      "2025-04-23 10:33:35 - INFO - \n",
      "=== Starting Epoch 65 ===\n",
      "\n"
     ]
    },
    {
     "name": "stdout",
     "output_type": "stream",
     "text": [
      "Epoch 65/100\n",
      "\u001b[1m 64/561\u001b[0m \u001b[32m━━\u001b[0m\u001b[37m━━━━━━━━━━━━━━━━━━\u001b[0m \u001b[1m1:40\u001b[0m 203ms/step - accuracy: 0.9147 - auc: 0.7927 - f1_score: 0.1316 - loss: 0.4328 - precision: 0.5312 - recall: 0.0923"
     ]
    },
    {
     "name": "stderr",
     "output_type": "stream",
     "text": [
      "2025-04-23 10:33:52.249030: I tensorflow/core/kernels/data/shuffle_dataset_op.cc:452] ShuffleDatasetV3:13: Filling up shuffle buffer (this may take a while): 11364 of 25000\n",
      "2025-04-23 10:34:04.151461: I tensorflow/core/kernels/data/shuffle_dataset_op.cc:482] Shuffle buffer filled.\n",
      "2025-04-23 10:34:04.262790: W tensorflow/core/kernels/data/prefetch_autotuner.cc:52] Prefetch autotuner tried to allocate 134225408 bytes after encountering the first element of size 134225408 bytes.This already causes the autotune ram budget to be exceeded. To stay within the ram budget, either increase the ram budget or reduce element size\n"
     ]
    },
    {
     "name": "stdout",
     "output_type": "stream",
     "text": [
      "\u001b[1m375/561\u001b[0m \u001b[32m━━━━━━━━━━━━━\u001b[0m\u001b[37m━━━━━━━\u001b[0m \u001b[1m53s\u001b[0m 289ms/step - accuracy: 0.9142 - auc: 0.7896 - f1_score: 0.1266 - loss: 0.4303 - precision: 0.5042 - recall: 0.0890 "
     ]
    },
    {
     "name": "stderr",
     "output_type": "stream",
     "text": [
      "2025-04-23 10:35:24.131786: W tensorflow/core/lib/png/png_io.cc:92] PNG warning: iCCP: profile 'ICC Profile': 'GRAY': Gray color space not permitted on RGB PNG\n"
     ]
    },
    {
     "name": "stdout",
     "output_type": "stream",
     "text": [
      "\u001b[1m561/561\u001b[0m \u001b[32m━━━━━━━━━━━━━━━━━━━━\u001b[0m\u001b[37m\u001b[0m \u001b[1m0s\u001b[0m 267ms/step - accuracy: 0.9141 - auc: 0.7892 - f1_score: 0.1261 - loss: 0.4299 - precision: 0.4994 - recall: 0.0888 "
     ]
    },
    {
     "name": "stderr",
     "output_type": "stream",
     "text": [
      "2025-04-23 10:36:19 - INFO - \n",
      "=== Epoch 65 Summary ===\n",
      "2025-04-23 10:36:19 - INFO - Time: 163.57s\n",
      "2025-04-23 10:36:19 - INFO - Training   - accuracy: 0.9139 - auc: 0.7886 - f1_score: 0.1246 - loss: 0.4293 - precision: 0.4886 - recall: 0.0878 - learning_rate: 0.0000\n",
      "2025-04-23 10:36:19 - INFO - Validation - accuracy: 0.9116 - auc: 0.7419 - f1_score: 0.1013 - loss: 0.5187 - precision: 0.3982 - recall: 0.0734\n",
      "2025-04-23 10:36:19 - INFO - ==================================================\n",
      "\n"
     ]
    },
    {
     "name": "stdout",
     "output_type": "stream",
     "text": [
      "\u001b[1m561/561\u001b[0m \u001b[32m━━━━━━━━━━━━━━━━━━━━\u001b[0m\u001b[37m\u001b[0m \u001b[1m164s\u001b[0m 292ms/step - accuracy: 0.9141 - auc: 0.7892 - f1_score: 0.1261 - loss: 0.4299 - precision: 0.4994 - recall: 0.0888 - val_accuracy: 0.9116 - val_auc: 0.7419 - val_f1_score: 0.1013 - val_loss: 0.5187 - val_precision: 0.3982 - val_recall: 0.0734 - learning_rate: 1.0000e-06\n"
     ]
    },
    {
     "name": "stderr",
     "output_type": "stream",
     "text": [
      "2025-04-23 10:36:19 - INFO - \n",
      "=== Starting Epoch 66 ===\n",
      "\n"
     ]
    },
    {
     "name": "stdout",
     "output_type": "stream",
     "text": [
      "Epoch 66/100\n",
      "\u001b[1m 65/561\u001b[0m \u001b[32m━━\u001b[0m\u001b[37m━━━━━━━━━━━━━━━━━━\u001b[0m \u001b[1m1:40\u001b[0m 203ms/step - accuracy: 0.9148 - auc: 0.7858 - f1_score: 0.1216 - loss: 0.4272 - precision: 0.4852 - recall: 0.0877"
     ]
    },
    {
     "name": "stderr",
     "output_type": "stream",
     "text": [
      "2025-04-23 10:36:36.045461: I tensorflow/core/kernels/data/shuffle_dataset_op.cc:452] ShuffleDatasetV3:13: Filling up shuffle buffer (this may take a while): 11367 of 25000\n",
      "2025-04-23 10:36:46.047006: I tensorflow/core/kernels/data/shuffle_dataset_op.cc:452] ShuffleDatasetV3:13: Filling up shuffle buffer (this may take a while): 22799 of 25000\n",
      "2025-04-23 10:36:47.974243: I tensorflow/core/kernels/data/shuffle_dataset_op.cc:482] Shuffle buffer filled.\n",
      "2025-04-23 10:36:48.083467: W tensorflow/core/kernels/data/prefetch_autotuner.cc:52] Prefetch autotuner tried to allocate 134225408 bytes after encountering the first element of size 134225408 bytes.This already causes the autotune ram budget to be exceeded. To stay within the ram budget, either increase the ram budget or reduce element size\n"
     ]
    },
    {
     "name": "stdout",
     "output_type": "stream",
     "text": [
      "\u001b[1m376/561\u001b[0m \u001b[32m━━━━━━━━━━━━━\u001b[0m\u001b[37m━━━━━━━\u001b[0m \u001b[1m54s\u001b[0m 293ms/step - accuracy: 0.9139 - auc: 0.7869 - f1_score: 0.1208 - loss: 0.4281 - precision: 0.4813 - recall: 0.0859 "
     ]
    },
    {
     "name": "stderr",
     "output_type": "stream",
     "text": [
      "2025-04-23 10:38:09.594773: W tensorflow/core/lib/png/png_io.cc:92] PNG warning: iCCP: profile 'ICC Profile': 'GRAY': Gray color space not permitted on RGB PNG\n"
     ]
    },
    {
     "name": "stdout",
     "output_type": "stream",
     "text": [
      "\u001b[1m561/561\u001b[0m \u001b[32m━━━━━━━━━━━━━━━━━━━━\u001b[0m\u001b[37m\u001b[0m \u001b[1m0s\u001b[0m 270ms/step - accuracy: 0.9139 - auc: 0.7870 - f1_score: 0.1215 - loss: 0.4282 - precision: 0.4813 - recall: 0.0861 "
     ]
    },
    {
     "name": "stderr",
     "output_type": "stream",
     "text": [
      "2025-04-23 10:39:04 - INFO - \n",
      "=== Epoch 66 Summary ===\n",
      "2025-04-23 10:39:04 - INFO - Time: 165.24s\n",
      "2025-04-23 10:39:04 - INFO - Training   - accuracy: 0.9139 - auc: 0.7880 - f1_score: 0.1227 - loss: 0.4285 - precision: 0.4803 - recall: 0.0866 - learning_rate: 0.0000\n",
      "2025-04-23 10:39:04 - INFO - Validation - accuracy: 0.9127 - auc: 0.7459 - f1_score: 0.1107 - loss: 0.5144 - precision: 0.4297 - recall: 0.0771\n",
      "2025-04-23 10:39:04 - INFO - ==================================================\n",
      "\n"
     ]
    },
    {
     "name": "stdout",
     "output_type": "stream",
     "text": [
      "\u001b[1m561/561\u001b[0m \u001b[32m━━━━━━━━━━━━━━━━━━━━\u001b[0m\u001b[37m\u001b[0m \u001b[1m165s\u001b[0m 295ms/step - accuracy: 0.9139 - auc: 0.7870 - f1_score: 0.1215 - loss: 0.4282 - precision: 0.4813 - recall: 0.0861 - val_accuracy: 0.9127 - val_auc: 0.7459 - val_f1_score: 0.1107 - val_loss: 0.5144 - val_precision: 0.4297 - val_recall: 0.0771 - learning_rate: 1.0000e-06\n"
     ]
    },
    {
     "name": "stderr",
     "output_type": "stream",
     "text": [
      "2025-04-23 10:39:04 - INFO - \n",
      "=== Starting Epoch 67 ===\n",
      "\n"
     ]
    },
    {
     "name": "stdout",
     "output_type": "stream",
     "text": [
      "Epoch 67/100\n",
      "\u001b[1m 66/561\u001b[0m \u001b[32m━━\u001b[0m\u001b[37m━━━━━━━━━━━━━━━━━━\u001b[0m \u001b[1m1:40\u001b[0m 203ms/step - accuracy: 0.9140 - auc: 0.7812 - f1_score: 0.1300 - loss: 0.4284 - precision: 0.4932 - recall: 0.0897"
     ]
    },
    {
     "name": "stderr",
     "output_type": "stream",
     "text": [
      "2025-04-23 10:39:21.502662: I tensorflow/core/kernels/data/shuffle_dataset_op.cc:452] ShuffleDatasetV3:13: Filling up shuffle buffer (this may take a while): 11437 of 25000\n",
      "2025-04-23 10:39:31.505709: I tensorflow/core/kernels/data/shuffle_dataset_op.cc:452] ShuffleDatasetV3:13: Filling up shuffle buffer (this may take a while): 22933 of 25000\n",
      "2025-04-23 10:39:33.294574: I tensorflow/core/kernels/data/shuffle_dataset_op.cc:482] Shuffle buffer filled.\n",
      "2025-04-23 10:39:33.404644: W tensorflow/core/kernels/data/prefetch_autotuner.cc:52] Prefetch autotuner tried to allocate 134225408 bytes after encountering the first element of size 134225408 bytes.This already causes the autotune ram budget to be exceeded. To stay within the ram budget, either increase the ram budget or reduce element size\n"
     ]
    },
    {
     "name": "stdout",
     "output_type": "stream",
     "text": [
      "\u001b[1m377/561\u001b[0m \u001b[32m━━━━━━━━━━━━━\u001b[0m\u001b[37m━━━━━━━\u001b[0m \u001b[1m53s\u001b[0m 290ms/step - accuracy: 0.9138 - auc: 0.7877 - f1_score: 0.1274 - loss: 0.4280 - precision: 0.4863 - recall: 0.0892 "
     ]
    },
    {
     "name": "stderr",
     "output_type": "stream",
     "text": [
      "2025-04-23 10:40:54.125603: W tensorflow/core/lib/png/png_io.cc:92] PNG warning: iCCP: profile 'ICC Profile': 'GRAY': Gray color space not permitted on RGB PNG\n"
     ]
    },
    {
     "name": "stdout",
     "output_type": "stream",
     "text": [
      "\u001b[1m561/561\u001b[0m \u001b[32m━━━━━━━━━━━━━━━━━━━━\u001b[0m\u001b[37m\u001b[0m \u001b[1m0s\u001b[0m 268ms/step - accuracy: 0.9138 - auc: 0.7884 - f1_score: 0.1270 - loss: 0.4282 - precision: 0.4852 - recall: 0.0890 "
     ]
    },
    {
     "name": "stderr",
     "output_type": "stream",
     "text": [
      "2025-04-23 10:41:35.143245: W tensorflow/core/kernels/data/prefetch_autotuner.cc:52] Prefetch autotuner tried to allocate 134225408 bytes after encountering the first element of size 134225408 bytes.This already causes the autotune ram budget to be exceeded. To stay within the ram budget, either increase the ram budget or reduce element size\n",
      "2025-04-23 10:41:48 - INFO - \n",
      "=== Epoch 67 Summary ===\n",
      "2025-04-23 10:41:48 - INFO - Time: 164.33s\n",
      "2025-04-23 10:41:48 - INFO - Training   - accuracy: 0.9137 - auc: 0.7897 - f1_score: 0.1263 - loss: 0.4284 - precision: 0.4828 - recall: 0.0888 - learning_rate: 0.0000\n",
      "2025-04-23 10:41:48 - INFO - Validation - accuracy: 0.9126 - auc: 0.7456 - f1_score: 0.1109 - loss: 0.5143 - precision: 0.4258 - recall: 0.0764\n",
      "2025-04-23 10:41:48 - INFO - ==================================================\n",
      "\n"
     ]
    },
    {
     "name": "stdout",
     "output_type": "stream",
     "text": [
      "\u001b[1m561/561\u001b[0m \u001b[32m━━━━━━━━━━━━━━━━━━━━\u001b[0m\u001b[37m\u001b[0m \u001b[1m164s\u001b[0m 293ms/step - accuracy: 0.9138 - auc: 0.7884 - f1_score: 0.1270 - loss: 0.4282 - precision: 0.4852 - recall: 0.0890 - val_accuracy: 0.9126 - val_auc: 0.7456 - val_f1_score: 0.1109 - val_loss: 0.5143 - val_precision: 0.4258 - val_recall: 0.0764 - learning_rate: 1.0000e-06\n"
     ]
    },
    {
     "name": "stderr",
     "output_type": "stream",
     "text": [
      "2025-04-23 10:41:49 - INFO - \n",
      "=== Starting Epoch 68 ===\n",
      "\n"
     ]
    },
    {
     "name": "stdout",
     "output_type": "stream",
     "text": [
      "Epoch 68/100\n",
      "\u001b[1m 67/561\u001b[0m \u001b[32m━━\u001b[0m\u001b[37m━━━━━━━━━━━━━━━━━━\u001b[0m \u001b[1m1:40\u001b[0m 203ms/step - accuracy: 0.9149 - auc: 0.7832 - f1_score: 0.1281 - loss: 0.4244 - precision: 0.4866 - recall: 0.0890"
     ]
    },
    {
     "name": "stderr",
     "output_type": "stream",
     "text": [
      "2025-04-23 10:42:06.017849: I tensorflow/core/kernels/data/shuffle_dataset_op.cc:452] ShuffleDatasetV3:13: Filling up shuffle buffer (this may take a while): 11425 of 25000\n",
      "2025-04-23 10:42:16.019703: I tensorflow/core/kernels/data/shuffle_dataset_op.cc:452] ShuffleDatasetV3:13: Filling up shuffle buffer (this may take a while): 22848 of 25000\n",
      "2025-04-23 10:42:17.884597: I tensorflow/core/kernels/data/shuffle_dataset_op.cc:482] Shuffle buffer filled.\n",
      "2025-04-23 10:42:17.995335: W tensorflow/core/kernels/data/prefetch_autotuner.cc:52] Prefetch autotuner tried to allocate 134225408 bytes after encountering the first element of size 134225408 bytes.This already causes the autotune ram budget to be exceeded. To stay within the ram budget, either increase the ram budget or reduce element size\n"
     ]
    },
    {
     "name": "stdout",
     "output_type": "stream",
     "text": [
      "\u001b[1m378/561\u001b[0m \u001b[32m━━━━━━━━━━━━━\u001b[0m\u001b[37m━━━━━━━\u001b[0m \u001b[1m52s\u001b[0m 285ms/step - accuracy: 0.9141 - auc: 0.7861 - f1_score: 0.1272 - loss: 0.4261 - precision: 0.4846 - recall: 0.0891 "
     ]
    },
    {
     "name": "stderr",
     "output_type": "stream",
     "text": [
      "2025-04-23 10:43:36.665910: W tensorflow/core/lib/png/png_io.cc:92] PNG warning: iCCP: profile 'ICC Profile': 'GRAY': Gray color space not permitted on RGB PNG\n"
     ]
    },
    {
     "name": "stdout",
     "output_type": "stream",
     "text": [
      "\u001b[1m561/561\u001b[0m \u001b[32m━━━━━━━━━━━━━━━━━━━━\u001b[0m\u001b[37m\u001b[0m \u001b[1m0s\u001b[0m 264ms/step - accuracy: 0.9141 - auc: 0.7874 - f1_score: 0.1272 - loss: 0.4265 - precision: 0.4851 - recall: 0.0894 "
     ]
    },
    {
     "name": "stderr",
     "output_type": "stream",
     "text": [
      "2025-04-23 10:44:32 - INFO - \n",
      "=== Epoch 68 Summary ===\n",
      "2025-04-23 10:44:32 - INFO - Time: 163.04s\n",
      "2025-04-23 10:44:32 - INFO - Training   - accuracy: 0.9140 - auc: 0.7903 - f1_score: 0.1268 - loss: 0.4271 - precision: 0.4847 - recall: 0.0896 - learning_rate: 0.0000\n",
      "2025-04-23 10:44:32 - INFO - Validation - accuracy: 0.9130 - auc: 0.7472 - f1_score: 0.1129 - loss: 0.5134 - precision: 0.4374 - recall: 0.0754\n",
      "2025-04-23 10:44:32 - INFO - ==================================================\n",
      "\n"
     ]
    },
    {
     "name": "stdout",
     "output_type": "stream",
     "text": [
      "\u001b[1m561/561\u001b[0m \u001b[32m━━━━━━━━━━━━━━━━━━━━\u001b[0m\u001b[37m\u001b[0m \u001b[1m163s\u001b[0m 291ms/step - accuracy: 0.9141 - auc: 0.7874 - f1_score: 0.1272 - loss: 0.4265 - precision: 0.4851 - recall: 0.0894 - val_accuracy: 0.9130 - val_auc: 0.7472 - val_f1_score: 0.1129 - val_loss: 0.5134 - val_precision: 0.4374 - val_recall: 0.0754 - learning_rate: 1.0000e-06\n"
     ]
    },
    {
     "name": "stderr",
     "output_type": "stream",
     "text": [
      "2025-04-23 10:44:32 - INFO - \n",
      "=== Starting Epoch 69 ===\n",
      "\n"
     ]
    },
    {
     "name": "stdout",
     "output_type": "stream",
     "text": [
      "Epoch 69/100\n",
      "\u001b[1m 68/561\u001b[0m \u001b[32m━━\u001b[0m\u001b[37m━━━━━━━━━━━━━━━━━━\u001b[0m \u001b[1m1:40\u001b[0m 203ms/step - accuracy: 0.9138 - auc: 0.7834 - f1_score: 0.1305 - loss: 0.4263 - precision: 0.5007 - recall: 0.0900"
     ]
    },
    {
     "name": "stderr",
     "output_type": "stream",
     "text": [
      "2025-04-23 10:44:49.310556: I tensorflow/core/kernels/data/shuffle_dataset_op.cc:452] ShuffleDatasetV3:13: Filling up shuffle buffer (this may take a while): 11361 of 25000\n",
      "2025-04-23 10:44:59.311355: I tensorflow/core/kernels/data/shuffle_dataset_op.cc:452] ShuffleDatasetV3:13: Filling up shuffle buffer (this may take a while): 22783 of 25000\n",
      "2025-04-23 10:45:01.240079: I tensorflow/core/kernels/data/shuffle_dataset_op.cc:482] Shuffle buffer filled.\n",
      "2025-04-23 10:45:01.352973: W tensorflow/core/kernels/data/prefetch_autotuner.cc:52] Prefetch autotuner tried to allocate 134225408 bytes after encountering the first element of size 134225408 bytes.This already causes the autotune ram budget to be exceeded. To stay within the ram budget, either increase the ram budget or reduce element size\n"
     ]
    },
    {
     "name": "stdout",
     "output_type": "stream",
     "text": [
      "\u001b[1m379/561\u001b[0m \u001b[32m━━━━━━━━━━━━━\u001b[0m\u001b[37m━━━━━━━\u001b[0m \u001b[1m52s\u001b[0m 289ms/step - accuracy: 0.9139 - auc: 0.7864 - f1_score: 0.1288 - loss: 0.4284 - precision: 0.4921 - recall: 0.0898 "
     ]
    },
    {
     "name": "stderr",
     "output_type": "stream",
     "text": [
      "2025-04-23 10:46:21.489019: W tensorflow/core/lib/png/png_io.cc:92] PNG warning: iCCP: profile 'ICC Profile': 'GRAY': Gray color space not permitted on RGB PNG\n"
     ]
    },
    {
     "name": "stdout",
     "output_type": "stream",
     "text": [
      "\u001b[1m561/561\u001b[0m \u001b[32m━━━━━━━━━━━━━━━━━━━━\u001b[0m\u001b[37m\u001b[0m \u001b[1m0s\u001b[0m 267ms/step - accuracy: 0.9139 - auc: 0.7872 - f1_score: 0.1281 - loss: 0.4281 - precision: 0.4899 - recall: 0.0895 "
     ]
    },
    {
     "name": "stderr",
     "output_type": "stream",
     "text": [
      "2025-04-23 10:47:02.097481: W tensorflow/core/kernels/data/prefetch_autotuner.cc:52] Prefetch autotuner tried to allocate 134225408 bytes after encountering the first element of size 134225408 bytes.This already causes the autotune ram budget to be exceeded. To stay within the ram budget, either increase the ram budget or reduce element size\n",
      "2025-04-23 10:47:15 - INFO - \n",
      "=== Epoch 69 Summary ===\n",
      "2025-04-23 10:47:15 - INFO - Time: 163.84s\n",
      "2025-04-23 10:47:15 - INFO - Training   - accuracy: 0.9139 - auc: 0.7901 - f1_score: 0.1273 - loss: 0.4275 - precision: 0.4864 - recall: 0.0895 - learning_rate: 0.0000\n",
      "2025-04-23 10:47:15 - INFO - Validation - accuracy: 0.9126 - auc: 0.7445 - f1_score: 0.1079 - loss: 0.5142 - precision: 0.4253 - recall: 0.0731\n",
      "2025-04-23 10:47:15 - INFO - ==================================================\n",
      "\n"
     ]
    },
    {
     "name": "stdout",
     "output_type": "stream",
     "text": [
      "\u001b[1m561/561\u001b[0m \u001b[32m━━━━━━━━━━━━━━━━━━━━\u001b[0m\u001b[37m\u001b[0m \u001b[1m164s\u001b[0m 292ms/step - accuracy: 0.9139 - auc: 0.7872 - f1_score: 0.1281 - loss: 0.4281 - precision: 0.4899 - recall: 0.0895 - val_accuracy: 0.9126 - val_auc: 0.7445 - val_f1_score: 0.1079 - val_loss: 0.5142 - val_precision: 0.4253 - val_recall: 0.0731 - learning_rate: 1.0000e-06\n"
     ]
    },
    {
     "name": "stderr",
     "output_type": "stream",
     "text": [
      "2025-04-23 10:47:15 - INFO - \n",
      "=== Starting Epoch 70 ===\n",
      "\n"
     ]
    },
    {
     "name": "stdout",
     "output_type": "stream",
     "text": [
      "Epoch 70/100\n",
      "\u001b[1m 69/561\u001b[0m \u001b[32m━━\u001b[0m\u001b[37m━━━━━━━━━━━━━━━━━━\u001b[0m \u001b[1m1:40\u001b[0m 204ms/step - accuracy: 0.9143 - auc: 0.7871 - f1_score: 0.1256 - loss: 0.4281 - precision: 0.4833 - recall: 0.0915"
     ]
    },
    {
     "name": "stderr",
     "output_type": "stream",
     "text": [
      "2025-04-23 10:47:33.374866: I tensorflow/core/kernels/data/shuffle_dataset_op.cc:452] ShuffleDatasetV3:13: Filling up shuffle buffer (this may take a while): 11402 of 25000\n",
      "2025-04-23 10:47:43.376321: I tensorflow/core/kernels/data/shuffle_dataset_op.cc:452] ShuffleDatasetV3:13: Filling up shuffle buffer (this may take a while): 22764 of 25000\n",
      "2025-04-23 10:47:45.355608: I tensorflow/core/kernels/data/shuffle_dataset_op.cc:482] Shuffle buffer filled.\n",
      "2025-04-23 10:47:45.466837: W tensorflow/core/kernels/data/prefetch_autotuner.cc:52] Prefetch autotuner tried to allocate 134225408 bytes after encountering the first element of size 134225408 bytes.This already causes the autotune ram budget to be exceeded. To stay within the ram budget, either increase the ram budget or reduce element size\n"
     ]
    },
    {
     "name": "stdout",
     "output_type": "stream",
     "text": [
      "\u001b[1m380/561\u001b[0m \u001b[32m━━━━━━━━━━━━━\u001b[0m\u001b[37m━━━━━━━\u001b[0m \u001b[1m52s\u001b[0m 293ms/step - accuracy: 0.9139 - auc: 0.7891 - f1_score: 0.1270 - loss: 0.4268 - precision: 0.4846 - recall: 0.0903 "
     ]
    },
    {
     "name": "stderr",
     "output_type": "stream",
     "text": [
      "2025-04-23 10:49:07.115390: W tensorflow/core/lib/png/png_io.cc:92] PNG warning: iCCP: profile 'ICC Profile': 'GRAY': Gray color space not permitted on RGB PNG\n"
     ]
    },
    {
     "name": "stdout",
     "output_type": "stream",
     "text": [
      "\u001b[1m561/561\u001b[0m \u001b[32m━━━━━━━━━━━━━━━━━━━━\u001b[0m\u001b[37m\u001b[0m \u001b[1m0s\u001b[0m 270ms/step - accuracy: 0.9139 - auc: 0.7894 - f1_score: 0.1274 - loss: 0.4269 - precision: 0.4849 - recall: 0.0903 "
     ]
    },
    {
     "name": "stderr",
     "output_type": "stream",
     "text": [
      "2025-04-23 10:49:47.551396: W tensorflow/core/kernels/data/prefetch_autotuner.cc:52] Prefetch autotuner tried to allocate 151526912 bytes after encountering the first element of size 151526912 bytes.This already causes the autotune ram budget to be exceeded. To stay within the ram budget, either increase the ram budget or reduce element size\n",
      "2025-04-23 10:50:01 - INFO - \n",
      "=== Epoch 70 Summary ===\n",
      "2025-04-23 10:50:01 - INFO - Time: 165.46s\n",
      "2025-04-23 10:50:01 - INFO - Training   - accuracy: 0.9139 - auc: 0.7912 - f1_score: 0.1280 - loss: 0.4272 - precision: 0.4857 - recall: 0.0903 - learning_rate: 0.0000\n",
      "2025-04-23 10:50:01 - INFO - Validation - accuracy: 0.9129 - auc: 0.7461 - f1_score: 0.1079 - loss: 0.5143 - precision: 0.4335 - recall: 0.0735\n",
      "2025-04-23 10:50:01 - INFO - ==================================================\n",
      "\n"
     ]
    },
    {
     "name": "stdout",
     "output_type": "stream",
     "text": [
      "\u001b[1m561/561\u001b[0m \u001b[32m━━━━━━━━━━━━━━━━━━━━\u001b[0m\u001b[37m\u001b[0m \u001b[1m165s\u001b[0m 295ms/step - accuracy: 0.9139 - auc: 0.7894 - f1_score: 0.1274 - loss: 0.4269 - precision: 0.4849 - recall: 0.0903 - val_accuracy: 0.9129 - val_auc: 0.7461 - val_f1_score: 0.1079 - val_loss: 0.5143 - val_precision: 0.4335 - val_recall: 0.0735 - learning_rate: 1.0000e-06\n"
     ]
    },
    {
     "name": "stderr",
     "output_type": "stream",
     "text": [
      "2025-04-23 10:50:01 - INFO - \n",
      "=== Starting Epoch 71 ===\n",
      "\n"
     ]
    },
    {
     "name": "stdout",
     "output_type": "stream",
     "text": [
      "Epoch 71/100\n",
      "\u001b[1m 70/561\u001b[0m \u001b[32m━━\u001b[0m\u001b[37m━━━━━━━━━━━━━━━━━━\u001b[0m \u001b[1m1:39\u001b[0m 203ms/step - accuracy: 0.9153 - auc: 0.7902 - f1_score: 0.1279 - loss: 0.4267 - precision: 0.5020 - recall: 0.0930"
     ]
    },
    {
     "name": "stderr",
     "output_type": "stream",
     "text": [
      "2025-04-23 10:50:19.021535: I tensorflow/core/kernels/data/shuffle_dataset_op.cc:452] ShuffleDatasetV3:13: Filling up shuffle buffer (this may take a while): 11387 of 25000\n",
      "2025-04-23 10:50:30.929034: I tensorflow/core/kernels/data/shuffle_dataset_op.cc:482] Shuffle buffer filled.\n",
      "2025-04-23 10:50:31.039762: W tensorflow/core/kernels/data/prefetch_autotuner.cc:52] Prefetch autotuner tried to allocate 134225408 bytes after encountering the first element of size 134225408 bytes.This already causes the autotune ram budget to be exceeded. To stay within the ram budget, either increase the ram budget or reduce element size\n"
     ]
    },
    {
     "name": "stdout",
     "output_type": "stream",
     "text": [
      "\u001b[1m381/561\u001b[0m \u001b[32m━━━━━━━━━━━━━\u001b[0m\u001b[37m━━━━━━━\u001b[0m \u001b[1m52s\u001b[0m 290ms/step - accuracy: 0.9146 - auc: 0.7907 - f1_score: 0.1289 - loss: 0.4260 - precision: 0.4923 - recall: 0.0924 "
     ]
    },
    {
     "name": "stderr",
     "output_type": "stream",
     "text": [
      "2025-04-23 10:51:51.788689: W tensorflow/core/lib/png/png_io.cc:92] PNG warning: iCCP: profile 'ICC Profile': 'GRAY': Gray color space not permitted on RGB PNG\n"
     ]
    },
    {
     "name": "stdout",
     "output_type": "stream",
     "text": [
      "\u001b[1m561/561\u001b[0m \u001b[32m━━━━━━━━━━━━━━━━━━━━\u001b[0m\u001b[37m\u001b[0m \u001b[1m0s\u001b[0m 268ms/step - accuracy: 0.9144 - auc: 0.7909 - f1_score: 0.1281 - loss: 0.4261 - precision: 0.4903 - recall: 0.0917 "
     ]
    },
    {
     "name": "stderr",
     "output_type": "stream",
     "text": [
      "2025-04-23 10:53:37 - INFO - \n",
      "=== Epoch 71 Summary ===\n",
      "2025-04-23 10:53:37 - INFO - Time: 215.93s\n",
      "2025-04-23 10:53:37 - INFO - Training   - accuracy: 0.9140 - auc: 0.7909 - f1_score: 0.1265 - loss: 0.4262 - precision: 0.4860 - recall: 0.0900 - learning_rate: 0.0000\n",
      "2025-04-23 10:53:37 - INFO - Validation - accuracy: 0.9128 - auc: 0.7433 - f1_score: 0.1153 - loss: 0.5124 - precision: 0.4330 - recall: 0.0782\n",
      "2025-04-23 10:53:37 - INFO - ==================================================\n",
      "\n"
     ]
    },
    {
     "name": "stdout",
     "output_type": "stream",
     "text": [
      "\u001b[1m561/561\u001b[0m \u001b[32m━━━━━━━━━━━━━━━━━━━━\u001b[0m\u001b[37m\u001b[0m \u001b[1m216s\u001b[0m 385ms/step - accuracy: 0.9144 - auc: 0.7909 - f1_score: 0.1281 - loss: 0.4261 - precision: 0.4903 - recall: 0.0917 - val_accuracy: 0.9128 - val_auc: 0.7433 - val_f1_score: 0.1153 - val_loss: 0.5124 - val_precision: 0.4330 - val_recall: 0.0782 - learning_rate: 1.0000e-06\n"
     ]
    },
    {
     "name": "stderr",
     "output_type": "stream",
     "text": [
      "2025-04-23 10:53:37 - INFO - \n",
      "=== Starting Epoch 72 ===\n",
      "\n"
     ]
    },
    {
     "name": "stdout",
     "output_type": "stream",
     "text": [
      "Epoch 72/100\n",
      "\u001b[1m 71/561\u001b[0m \u001b[32m━━\u001b[0m\u001b[37m━━━━━━━━━━━━━━━━━━\u001b[0m \u001b[1m1:39\u001b[0m 203ms/step - accuracy: 0.9147 - auc: 0.7970 - f1_score: 0.1317 - loss: 0.4226 - precision: 0.4853 - recall: 0.0925"
     ]
    },
    {
     "name": "stderr",
     "output_type": "stream",
     "text": [
      "2025-04-23 10:53:55.202990: I tensorflow/core/kernels/data/shuffle_dataset_op.cc:452] ShuffleDatasetV3:13: Filling up shuffle buffer (this may take a while): 11403 of 25000\n",
      "2025-04-23 10:54:07.323393: I tensorflow/core/kernels/data/shuffle_dataset_op.cc:482] Shuffle buffer filled.\n",
      "2025-04-23 10:54:07.434037: W tensorflow/core/kernels/data/prefetch_autotuner.cc:52] Prefetch autotuner tried to allocate 134225408 bytes after encountering the first element of size 134225408 bytes.This already causes the autotune ram budget to be exceeded. To stay within the ram budget, either increase the ram budget or reduce element size\n"
     ]
    },
    {
     "name": "stdout",
     "output_type": "stream",
     "text": [
      "\u001b[1m382/561\u001b[0m \u001b[32m━━━━━━━━━━━━━\u001b[0m\u001b[37m━━━━━━━\u001b[0m \u001b[1m51s\u001b[0m 287ms/step - accuracy: 0.9141 - auc: 0.7928 - f1_score: 0.1318 - loss: 0.4262 - precision: 0.4910 - recall: 0.0931 "
     ]
    },
    {
     "name": "stderr",
     "output_type": "stream",
     "text": [
      "2025-04-23 10:55:26.866795: W tensorflow/core/lib/png/png_io.cc:92] PNG warning: iCCP: profile 'ICC Profile': 'GRAY': Gray color space not permitted on RGB PNG\n"
     ]
    },
    {
     "name": "stdout",
     "output_type": "stream",
     "text": [
      "\u001b[1m561/561\u001b[0m \u001b[32m━━━━━━━━━━━━━━━━━━━━\u001b[0m\u001b[37m\u001b[0m \u001b[1m0s\u001b[0m 266ms/step - accuracy: 0.9141 - auc: 0.7926 - f1_score: 0.1312 - loss: 0.4264 - precision: 0.4909 - recall: 0.0928 "
     ]
    },
    {
     "name": "stderr",
     "output_type": "stream",
     "text": [
      "2025-04-23 10:56:20 - INFO - \n",
      "=== Epoch 72 Summary ===\n",
      "2025-04-23 10:56:20 - INFO - Time: 163.34s\n",
      "2025-04-23 10:56:20 - INFO - Training   - accuracy: 0.9140 - auc: 0.7932 - f1_score: 0.1301 - loss: 0.4268 - precision: 0.4902 - recall: 0.0924 - learning_rate: 0.0000\n",
      "2025-04-23 10:56:20 - INFO - Validation - accuracy: 0.9120 - auc: 0.7446 - f1_score: 0.1102 - loss: 0.5167 - precision: 0.4121 - recall: 0.0769\n",
      "2025-04-23 10:56:20 - INFO - ==================================================\n",
      "\n"
     ]
    },
    {
     "name": "stdout",
     "output_type": "stream",
     "text": [
      "\u001b[1m561/561\u001b[0m \u001b[32m━━━━━━━━━━━━━━━━━━━━\u001b[0m\u001b[37m\u001b[0m \u001b[1m163s\u001b[0m 291ms/step - accuracy: 0.9141 - auc: 0.7926 - f1_score: 0.1312 - loss: 0.4264 - precision: 0.4909 - recall: 0.0928 - val_accuracy: 0.9120 - val_auc: 0.7446 - val_f1_score: 0.1102 - val_loss: 0.5167 - val_precision: 0.4121 - val_recall: 0.0769 - learning_rate: 1.0000e-06\n"
     ]
    },
    {
     "name": "stderr",
     "output_type": "stream",
     "text": [
      "2025-04-23 10:56:20 - INFO - \n",
      "=== Starting Epoch 73 ===\n",
      "\n"
     ]
    },
    {
     "name": "stdout",
     "output_type": "stream",
     "text": [
      "Epoch 73/100\n",
      "\u001b[1m 72/561\u001b[0m \u001b[32m━━\u001b[0m\u001b[37m━━━━━━━━━━━━━━━━━━\u001b[0m \u001b[1m1:39\u001b[0m 204ms/step - accuracy: 0.9138 - auc: 0.7907 - f1_score: 0.1282 - loss: 0.4253 - precision: 0.4930 - recall: 0.0923"
     ]
    },
    {
     "name": "stderr",
     "output_type": "stream",
     "text": [
      "2025-04-23 10:56:38.798992: I tensorflow/core/kernels/data/shuffle_dataset_op.cc:452] ShuffleDatasetV3:13: Filling up shuffle buffer (this may take a while): 11402 of 25000\n",
      "2025-04-23 10:56:50.734816: I tensorflow/core/kernels/data/shuffle_dataset_op.cc:482] Shuffle buffer filled.\n",
      "2025-04-23 10:56:50.847663: W tensorflow/core/kernels/data/prefetch_autotuner.cc:52] Prefetch autotuner tried to allocate 134225408 bytes after encountering the first element of size 134225408 bytes.This already causes the autotune ram budget to be exceeded. To stay within the ram budget, either increase the ram budget or reduce element size\n"
     ]
    },
    {
     "name": "stdout",
     "output_type": "stream",
     "text": [
      "\u001b[1m383/561\u001b[0m \u001b[32m━━━━━━━━━━━━━\u001b[0m\u001b[37m━━━━━━━\u001b[0m \u001b[1m51s\u001b[0m 291ms/step - accuracy: 0.9139 - auc: 0.7908 - f1_score: 0.1280 - loss: 0.4264 - precision: 0.4867 - recall: 0.0912 "
     ]
    },
    {
     "name": "stderr",
     "output_type": "stream",
     "text": [
      "2025-04-23 10:58:11.970340: W tensorflow/core/lib/png/png_io.cc:92] PNG warning: iCCP: profile 'ICC Profile': 'GRAY': Gray color space not permitted on RGB PNG\n"
     ]
    },
    {
     "name": "stdout",
     "output_type": "stream",
     "text": [
      "\u001b[1m561/561\u001b[0m \u001b[32m━━━━━━━━━━━━━━━━━━━━\u001b[0m\u001b[37m\u001b[0m \u001b[1m0s\u001b[0m 269ms/step - accuracy: 0.9139 - auc: 0.7908 - f1_score: 0.1277 - loss: 0.4262 - precision: 0.4859 - recall: 0.0909 "
     ]
    },
    {
     "name": "stderr",
     "output_type": "stream",
     "text": [
      "2025-04-23 10:59:06 - INFO - \n",
      "=== Epoch 73 Summary ===\n",
      "2025-04-23 10:59:06 - INFO - Time: 165.65s\n",
      "2025-04-23 10:59:06 - INFO - Training   - accuracy: 0.9139 - auc: 0.7918 - f1_score: 0.1266 - loss: 0.4259 - precision: 0.4838 - recall: 0.0898 - learning_rate: 0.0000\n",
      "2025-04-23 10:59:06 - INFO - Validation - accuracy: 0.9131 - auc: 0.7433 - f1_score: 0.1183 - loss: 0.5115 - precision: 0.4443 - recall: 0.0795\n",
      "2025-04-23 10:59:06 - INFO - ==================================================\n",
      "\n"
     ]
    },
    {
     "name": "stdout",
     "output_type": "stream",
     "text": [
      "\u001b[1m561/561\u001b[0m \u001b[32m━━━━━━━━━━━━━━━━━━━━\u001b[0m\u001b[37m\u001b[0m \u001b[1m166s\u001b[0m 295ms/step - accuracy: 0.9139 - auc: 0.7908 - f1_score: 0.1277 - loss: 0.4262 - precision: 0.4859 - recall: 0.0909 - val_accuracy: 0.9131 - val_auc: 0.7433 - val_f1_score: 0.1183 - val_loss: 0.5115 - val_precision: 0.4443 - val_recall: 0.0795 - learning_rate: 1.0000e-06\n"
     ]
    },
    {
     "name": "stderr",
     "output_type": "stream",
     "text": [
      "2025-04-23 10:59:06 - INFO - \n",
      "=== Starting Epoch 74 ===\n",
      "\n"
     ]
    },
    {
     "name": "stdout",
     "output_type": "stream",
     "text": [
      "Epoch 74/100\n",
      "\u001b[1m 73/561\u001b[0m \u001b[32m━━\u001b[0m\u001b[37m━━━━━━━━━━━━━━━━━━\u001b[0m \u001b[1m1:39\u001b[0m 204ms/step - accuracy: 0.9142 - auc: 0.7867 - f1_score: 0.1361 - loss: 0.4242 - precision: 0.4812 - recall: 0.0956"
     ]
    },
    {
     "name": "stderr",
     "output_type": "stream",
     "text": [
      "2025-04-23 10:59:24.672453: I tensorflow/core/kernels/data/shuffle_dataset_op.cc:452] ShuffleDatasetV3:13: Filling up shuffle buffer (this may take a while): 11379 of 25000\n",
      "2025-04-23 10:59:34.673684: I tensorflow/core/kernels/data/shuffle_dataset_op.cc:452] ShuffleDatasetV3:13: Filling up shuffle buffer (this may take a while): 22779 of 25000\n",
      "2025-04-23 10:59:36.597032: I tensorflow/core/kernels/data/shuffle_dataset_op.cc:482] Shuffle buffer filled.\n",
      "2025-04-23 10:59:36.710235: W tensorflow/core/kernels/data/prefetch_autotuner.cc:52] Prefetch autotuner tried to allocate 134225408 bytes after encountering the first element of size 134225408 bytes.This already causes the autotune ram budget to be exceeded. To stay within the ram budget, either increase the ram budget or reduce element size\n"
     ]
    },
    {
     "name": "stdout",
     "output_type": "stream",
     "text": [
      "\u001b[1m384/561\u001b[0m \u001b[32m━━━━━━━━━━━━━\u001b[0m\u001b[37m━━━━━━━\u001b[0m \u001b[1m51s\u001b[0m 289ms/step - accuracy: 0.9140 - auc: 0.7916 - f1_score: 0.1327 - loss: 0.4260 - precision: 0.4829 - recall: 0.0938 "
     ]
    },
    {
     "name": "stderr",
     "output_type": "stream",
     "text": [
      "2025-04-23 11:00:57.322617: W tensorflow/core/lib/png/png_io.cc:92] PNG warning: iCCP: profile 'ICC Profile': 'GRAY': Gray color space not permitted on RGB PNG\n"
     ]
    },
    {
     "name": "stdout",
     "output_type": "stream",
     "text": [
      "\u001b[1m561/561\u001b[0m \u001b[32m━━━━━━━━━━━━━━━━━━━━\u001b[0m\u001b[37m\u001b[0m \u001b[1m0s\u001b[0m 268ms/step - accuracy: 0.9139 - auc: 0.7918 - f1_score: 0.1322 - loss: 0.4261 - precision: 0.4842 - recall: 0.0936 "
     ]
    },
    {
     "name": "stderr",
     "output_type": "stream",
     "text": [
      "2025-04-23 11:01:36.894684: W tensorflow/core/kernels/data/prefetch_autotuner.cc:52] Prefetch autotuner tried to allocate 134225408 bytes after encountering the first element of size 134225408 bytes.This already causes the autotune ram budget to be exceeded. To stay within the ram budget, either increase the ram budget or reduce element size\n",
      "2025-04-23 11:01:50 - INFO - \n",
      "=== Epoch 74 Summary ===\n",
      "2025-04-23 11:01:50 - INFO - Time: 164.34s\n",
      "2025-04-23 11:01:50 - INFO - Training   - accuracy: 0.9139 - auc: 0.7926 - f1_score: 0.1314 - loss: 0.4261 - precision: 0.4873 - recall: 0.0933 - learning_rate: 0.0000\n",
      "2025-04-23 11:01:50 - INFO - Validation - accuracy: 0.9127 - auc: 0.7438 - f1_score: 0.1122 - loss: 0.5134 - precision: 0.4308 - recall: 0.0786\n",
      "2025-04-23 11:01:50 - INFO - ==================================================\n",
      "\n"
     ]
    },
    {
     "name": "stdout",
     "output_type": "stream",
     "text": [
      "\u001b[1m561/561\u001b[0m \u001b[32m━━━━━━━━━━━━━━━━━━━━\u001b[0m\u001b[37m\u001b[0m \u001b[1m164s\u001b[0m 293ms/step - accuracy: 0.9139 - auc: 0.7918 - f1_score: 0.1322 - loss: 0.4261 - precision: 0.4842 - recall: 0.0936 - val_accuracy: 0.9127 - val_auc: 0.7438 - val_f1_score: 0.1122 - val_loss: 0.5134 - val_precision: 0.4308 - val_recall: 0.0786 - learning_rate: 1.0000e-06\n"
     ]
    },
    {
     "name": "stderr",
     "output_type": "stream",
     "text": [
      "2025-04-23 11:01:50 - INFO - \n",
      "=== Starting Epoch 75 ===\n",
      "\n"
     ]
    },
    {
     "name": "stdout",
     "output_type": "stream",
     "text": [
      "Epoch 75/100\n",
      "\u001b[1m 74/561\u001b[0m \u001b[32m━━\u001b[0m\u001b[37m━━━━━━━━━━━━━━━━━━\u001b[0m \u001b[1m1:39\u001b[0m 203ms/step - accuracy: 0.9138 - auc: 0.7866 - f1_score: 0.1224 - loss: 0.4254 - precision: 0.4696 - recall: 0.0881"
     ]
    },
    {
     "name": "stderr",
     "output_type": "stream",
     "text": [
      "2025-04-23 11:02:09.228718: I tensorflow/core/kernels/data/shuffle_dataset_op.cc:452] ShuffleDatasetV3:13: Filling up shuffle buffer (this may take a while): 11426 of 25000\n",
      "2025-04-23 11:02:21.154095: I tensorflow/core/kernels/data/shuffle_dataset_op.cc:482] Shuffle buffer filled.\n",
      "2025-04-23 11:02:21.265863: W tensorflow/core/kernels/data/prefetch_autotuner.cc:52] Prefetch autotuner tried to allocate 134225408 bytes after encountering the first element of size 134225408 bytes.This already causes the autotune ram budget to be exceeded. To stay within the ram budget, either increase the ram budget or reduce element size\n"
     ]
    },
    {
     "name": "stdout",
     "output_type": "stream",
     "text": [
      "\u001b[1m385/561\u001b[0m \u001b[32m━━━━━━━━━━━━━\u001b[0m\u001b[37m━━━━━━━\u001b[0m \u001b[1m51s\u001b[0m 290ms/step - accuracy: 0.9138 - auc: 0.7906 - f1_score: 0.1245 - loss: 0.4264 - precision: 0.4748 - recall: 0.0888 "
     ]
    },
    {
     "name": "stderr",
     "output_type": "stream",
     "text": [
      "2025-04-23 11:03:42.473254: W tensorflow/core/lib/png/png_io.cc:92] PNG warning: iCCP: profile 'ICC Profile': 'GRAY': Gray color space not permitted on RGB PNG\n"
     ]
    },
    {
     "name": "stdout",
     "output_type": "stream",
     "text": [
      "\u001b[1m561/561\u001b[0m \u001b[32m━━━━━━━━━━━━━━━━━━━━\u001b[0m\u001b[37m\u001b[0m \u001b[1m0s\u001b[0m 269ms/step - accuracy: 0.9138 - auc: 0.7908 - f1_score: 0.1252 - loss: 0.4263 - precision: 0.4759 - recall: 0.0893 "
     ]
    },
    {
     "name": "stderr",
     "output_type": "stream",
     "text": [
      "2025-04-23 11:04:35 - INFO - \n",
      "=== Epoch 75 Summary ===\n",
      "2025-04-23 11:04:35 - INFO - Time: 164.93s\n",
      "2025-04-23 11:04:35 - INFO - Training   - accuracy: 0.9139 - auc: 0.7918 - f1_score: 0.1272 - loss: 0.4259 - precision: 0.4801 - recall: 0.0907 - learning_rate: 0.0000\n",
      "2025-04-23 11:04:35 - INFO - Validation - accuracy: 0.9126 - auc: 0.7457 - f1_score: 0.1039 - loss: 0.5148 - precision: 0.4222 - recall: 0.0705\n",
      "2025-04-23 11:04:35 - INFO - ==================================================\n",
      "\n"
     ]
    },
    {
     "name": "stdout",
     "output_type": "stream",
     "text": [
      "\u001b[1m561/561\u001b[0m \u001b[32m━━━━━━━━━━━━━━━━━━━━\u001b[0m\u001b[37m\u001b[0m \u001b[1m165s\u001b[0m 294ms/step - accuracy: 0.9138 - auc: 0.7908 - f1_score: 0.1252 - loss: 0.4263 - precision: 0.4759 - recall: 0.0893 - val_accuracy: 0.9126 - val_auc: 0.7457 - val_f1_score: 0.1039 - val_loss: 0.5148 - val_precision: 0.4222 - val_recall: 0.0705 - learning_rate: 1.0000e-06\n"
     ]
    },
    {
     "name": "stderr",
     "output_type": "stream",
     "text": [
      "2025-04-23 11:04:35 - INFO - \n",
      "=== Starting Epoch 76 ===\n",
      "\n"
     ]
    },
    {
     "name": "stdout",
     "output_type": "stream",
     "text": [
      "Epoch 76/100\n",
      "\u001b[1m 75/561\u001b[0m \u001b[32m━━\u001b[0m\u001b[37m━━━━━━━━━━━━━━━━━━\u001b[0m \u001b[1m1:39\u001b[0m 204ms/step - accuracy: 0.9130 - auc: 0.7913 - f1_score: 0.1253 - loss: 0.4253 - precision: 0.4773 - recall: 0.0894"
     ]
    },
    {
     "name": "stderr",
     "output_type": "stream",
     "text": [
      "2025-04-23 11:04:54.390887: I tensorflow/core/kernels/data/shuffle_dataset_op.cc:452] ShuffleDatasetV3:13: Filling up shuffle buffer (this may take a while): 11352 of 25000\n",
      "2025-04-23 11:05:06.391604: I tensorflow/core/kernels/data/shuffle_dataset_op.cc:482] Shuffle buffer filled.\n",
      "2025-04-23 11:05:06.500765: W tensorflow/core/kernels/data/prefetch_autotuner.cc:52] Prefetch autotuner tried to allocate 134225408 bytes after encountering the first element of size 134225408 bytes.This already causes the autotune ram budget to be exceeded. To stay within the ram budget, either increase the ram budget or reduce element size\n"
     ]
    },
    {
     "name": "stdout",
     "output_type": "stream",
     "text": [
      "\u001b[1m386/561\u001b[0m \u001b[32m━━━━━━━━━━━━━\u001b[0m\u001b[37m━━━━━━━\u001b[0m \u001b[1m50s\u001b[0m 286ms/step - accuracy: 0.9133 - auc: 0.7939 - f1_score: 0.1273 - loss: 0.4247 - precision: 0.4801 - recall: 0.0910 "
     ]
    },
    {
     "name": "stderr",
     "output_type": "stream",
     "text": [
      "2025-04-23 11:06:26.083448: W tensorflow/core/lib/png/png_io.cc:92] PNG warning: iCCP: profile 'ICC Profile': 'GRAY': Gray color space not permitted on RGB PNG\n"
     ]
    },
    {
     "name": "stdout",
     "output_type": "stream",
     "text": [
      "\u001b[1m561/561\u001b[0m \u001b[32m━━━━━━━━━━━━━━━━━━━━\u001b[0m\u001b[37m\u001b[0m \u001b[1m0s\u001b[0m 266ms/step - accuracy: 0.9133 - auc: 0.7940 - f1_score: 0.1275 - loss: 0.4249 - precision: 0.4802 - recall: 0.0911 "
     ]
    },
    {
     "name": "stderr",
     "output_type": "stream",
     "text": [
      "2025-04-23 11:07:24 - INFO - \n",
      "=== Epoch 76 Summary ===\n",
      "2025-04-23 11:07:24 - INFO - Time: 168.34s\n",
      "2025-04-23 11:07:24 - INFO - Training   - accuracy: 0.9136 - auc: 0.7940 - f1_score: 0.1284 - loss: 0.4252 - precision: 0.4818 - recall: 0.0919 - learning_rate: 0.0000\n",
      "2025-04-23 11:07:24 - INFO - Validation - accuracy: 0.9129 - auc: 0.7452 - f1_score: 0.1082 - loss: 0.5126 - precision: 0.4318 - recall: 0.0730\n",
      "2025-04-23 11:07:24 - INFO - ==================================================\n",
      "\n"
     ]
    },
    {
     "name": "stdout",
     "output_type": "stream",
     "text": [
      "\u001b[1m561/561\u001b[0m \u001b[32m━━━━━━━━━━━━━━━━━━━━\u001b[0m\u001b[37m\u001b[0m \u001b[1m168s\u001b[0m 300ms/step - accuracy: 0.9133 - auc: 0.7940 - f1_score: 0.1275 - loss: 0.4249 - precision: 0.4802 - recall: 0.0911 - val_accuracy: 0.9129 - val_auc: 0.7452 - val_f1_score: 0.1082 - val_loss: 0.5126 - val_precision: 0.4318 - val_recall: 0.0730 - learning_rate: 1.0000e-06\n"
     ]
    },
    {
     "name": "stderr",
     "output_type": "stream",
     "text": [
      "2025-04-23 11:07:24 - INFO - \n",
      "=== Starting Epoch 77 ===\n",
      "\n"
     ]
    },
    {
     "name": "stdout",
     "output_type": "stream",
     "text": [
      "Epoch 77/100\n",
      "\u001b[1m 76/561\u001b[0m \u001b[32m━━\u001b[0m\u001b[37m━━━━━━━━━━━━━━━━━━\u001b[0m \u001b[1m1:38\u001b[0m 204ms/step - accuracy: 0.9154 - auc: 0.7874 - f1_score: 0.1342 - loss: 0.4222 - precision: 0.5019 - recall: 0.0947"
     ]
    },
    {
     "name": "stderr",
     "output_type": "stream",
     "text": [
      "2025-04-23 11:07:42.934544: I tensorflow/core/kernels/data/shuffle_dataset_op.cc:452] ShuffleDatasetV3:13: Filling up shuffle buffer (this may take a while): 11369 of 25000\n",
      "2025-04-23 11:07:52.938137: I tensorflow/core/kernels/data/shuffle_dataset_op.cc:452] ShuffleDatasetV3:13: Filling up shuffle buffer (this may take a while): 22803 of 25000\n",
      "2025-04-23 11:07:54.907684: I tensorflow/core/kernels/data/shuffle_dataset_op.cc:482] Shuffle buffer filled.\n",
      "2025-04-23 11:07:55.021810: W tensorflow/core/kernels/data/prefetch_autotuner.cc:52] Prefetch autotuner tried to allocate 134225408 bytes after encountering the first element of size 134225408 bytes.This already causes the autotune ram budget to be exceeded. To stay within the ram budget, either increase the ram budget or reduce element size\n"
     ]
    },
    {
     "name": "stdout",
     "output_type": "stream",
     "text": [
      "\u001b[1m387/561\u001b[0m \u001b[32m━━━━━━━━━━━━━\u001b[0m\u001b[37m━━━━━━━\u001b[0m \u001b[1m50s\u001b[0m 289ms/step - accuracy: 0.9143 - auc: 0.7908 - f1_score: 0.1298 - loss: 0.4234 - precision: 0.4862 - recall: 0.0919 "
     ]
    },
    {
     "name": "stderr",
     "output_type": "stream",
     "text": [
      "2025-04-23 11:09:15.762442: W tensorflow/core/lib/png/png_io.cc:92] PNG warning: iCCP: profile 'ICC Profile': 'GRAY': Gray color space not permitted on RGB PNG\n"
     ]
    },
    {
     "name": "stdout",
     "output_type": "stream",
     "text": [
      "\u001b[1m561/561\u001b[0m \u001b[32m━━━━━━━━━━━━━━━━━━━━\u001b[0m\u001b[37m\u001b[0m \u001b[1m0s\u001b[0m 268ms/step - accuracy: 0.9142 - auc: 0.7911 - f1_score: 0.1295 - loss: 0.4236 - precision: 0.4849 - recall: 0.0918 "
     ]
    },
    {
     "name": "stderr",
     "output_type": "stream",
     "text": [
      "2025-04-23 11:10:08 - INFO - \n",
      "=== Epoch 77 Summary ===\n",
      "2025-04-23 11:10:08 - INFO - Time: 164.87s\n",
      "2025-04-23 11:10:08 - INFO - Training   - accuracy: 0.9141 - auc: 0.7921 - f1_score: 0.1290 - loss: 0.4243 - precision: 0.4847 - recall: 0.0916 - learning_rate: 0.0000\n",
      "2025-04-23 11:10:08 - INFO - Validation - accuracy: 0.9127 - auc: 0.7431 - f1_score: 0.1128 - loss: 0.5134 - precision: 0.4298 - recall: 0.0784\n",
      "2025-04-23 11:10:08 - INFO - ==================================================\n",
      "\n"
     ]
    },
    {
     "name": "stdout",
     "output_type": "stream",
     "text": [
      "\u001b[1m561/561\u001b[0m \u001b[32m━━━━━━━━━━━━━━━━━━━━\u001b[0m\u001b[37m\u001b[0m \u001b[1m165s\u001b[0m 294ms/step - accuracy: 0.9142 - auc: 0.7911 - f1_score: 0.1295 - loss: 0.4236 - precision: 0.4849 - recall: 0.0918 - val_accuracy: 0.9127 - val_auc: 0.7431 - val_f1_score: 0.1128 - val_loss: 0.5134 - val_precision: 0.4298 - val_recall: 0.0784 - learning_rate: 1.0000e-06\n"
     ]
    },
    {
     "name": "stderr",
     "output_type": "stream",
     "text": [
      "2025-04-23 11:10:08 - INFO - \n",
      "=== Starting Epoch 78 ===\n",
      "\n"
     ]
    },
    {
     "name": "stdout",
     "output_type": "stream",
     "text": [
      "Epoch 78/100\n",
      "\u001b[1m 77/561\u001b[0m \u001b[32m━━\u001b[0m\u001b[37m━━━━━━━━━━━━━━━━━━\u001b[0m \u001b[1m1:38\u001b[0m 203ms/step - accuracy: 0.9152 - auc: 0.8095 - f1_score: 0.1412 - loss: 0.4218 - precision: 0.5180 - recall: 0.0994"
     ]
    },
    {
     "name": "stderr",
     "output_type": "stream",
     "text": [
      "2025-04-23 11:10:28.027119: I tensorflow/core/kernels/data/shuffle_dataset_op.cc:452] ShuffleDatasetV3:13: Filling up shuffle buffer (this may take a while): 11479 of 25000\n",
      "2025-04-23 11:10:39.887642: I tensorflow/core/kernels/data/shuffle_dataset_op.cc:482] Shuffle buffer filled.\n",
      "2025-04-23 11:10:40.000716: W tensorflow/core/kernels/data/prefetch_autotuner.cc:52] Prefetch autotuner tried to allocate 134225408 bytes after encountering the first element of size 134225408 bytes.This already causes the autotune ram budget to be exceeded. To stay within the ram budget, either increase the ram budget or reduce element size\n"
     ]
    },
    {
     "name": "stdout",
     "output_type": "stream",
     "text": [
      "\u001b[1m388/561\u001b[0m \u001b[32m━━━━━━━━━━━━━\u001b[0m\u001b[37m━━━━━━━\u001b[0m \u001b[1m49s\u001b[0m 287ms/step - accuracy: 0.9142 - auc: 0.7992 - f1_score: 0.1390 - loss: 0.4231 - precision: 0.4995 - recall: 0.0990 "
     ]
    },
    {
     "name": "stderr",
     "output_type": "stream",
     "text": [
      "2025-04-23 11:12:00.313675: W tensorflow/core/lib/png/png_io.cc:92] PNG warning: iCCP: profile 'ICC Profile': 'GRAY': Gray color space not permitted on RGB PNG\n"
     ]
    },
    {
     "name": "stdout",
     "output_type": "stream",
     "text": [
      "\u001b[1m561/561\u001b[0m \u001b[32m━━━━━━━━━━━━━━━━━━━━\u001b[0m\u001b[37m\u001b[0m \u001b[1m0s\u001b[0m 267ms/step - accuracy: 0.9141 - auc: 0.7977 - f1_score: 0.1379 - loss: 0.4233 - precision: 0.4977 - recall: 0.0983 "
     ]
    },
    {
     "name": "stderr",
     "output_type": "stream",
     "text": [
      "2025-04-23 11:12:52 - INFO - \n",
      "=== Epoch 78 Summary ===\n",
      "2025-04-23 11:12:52 - INFO - Time: 163.96s\n",
      "2025-04-23 11:12:52 - INFO - Training   - accuracy: 0.9142 - auc: 0.7944 - f1_score: 0.1358 - loss: 0.4239 - precision: 0.4949 - recall: 0.0969 - learning_rate: 0.0000\n",
      "2025-04-23 11:12:52 - INFO - Validation - accuracy: 0.9120 - auc: 0.7450 - f1_score: 0.1105 - loss: 0.5157 - precision: 0.4117 - recall: 0.0772\n",
      "2025-04-23 11:12:52 - INFO - ==================================================\n",
      "\n"
     ]
    },
    {
     "name": "stdout",
     "output_type": "stream",
     "text": [
      "\u001b[1m561/561\u001b[0m \u001b[32m━━━━━━━━━━━━━━━━━━━━\u001b[0m\u001b[37m\u001b[0m \u001b[1m164s\u001b[0m 292ms/step - accuracy: 0.9141 - auc: 0.7977 - f1_score: 0.1379 - loss: 0.4233 - precision: 0.4977 - recall: 0.0983 - val_accuracy: 0.9120 - val_auc: 0.7450 - val_f1_score: 0.1105 - val_loss: 0.5157 - val_precision: 0.4117 - val_recall: 0.0772 - learning_rate: 1.0000e-06\n"
     ]
    },
    {
     "name": "stderr",
     "output_type": "stream",
     "text": [
      "2025-04-23 11:12:52 - INFO - \n",
      "=== Starting Epoch 79 ===\n",
      "\n"
     ]
    },
    {
     "name": "stdout",
     "output_type": "stream",
     "text": [
      "Epoch 79/100\n",
      "\u001b[1m 78/561\u001b[0m \u001b[32m━━\u001b[0m\u001b[37m━━━━━━━━━━━━━━━━━━\u001b[0m \u001b[1m1:38\u001b[0m 204ms/step - accuracy: 0.9127 - auc: 0.7945 - f1_score: 0.1314 - loss: 0.4347 - precision: 0.4847 - recall: 0.0951"
     ]
    },
    {
     "name": "stderr",
     "output_type": "stream",
     "text": [
      "2025-04-23 11:13:12.184688: I tensorflow/core/kernels/data/shuffle_dataset_op.cc:452] ShuffleDatasetV3:13: Filling up shuffle buffer (this may take a while): 11297 of 25000\n",
      "2025-04-23 11:13:24.206879: I tensorflow/core/kernels/data/shuffle_dataset_op.cc:482] Shuffle buffer filled.\n",
      "2025-04-23 11:13:24.319421: W tensorflow/core/kernels/data/prefetch_autotuner.cc:52] Prefetch autotuner tried to allocate 134225408 bytes after encountering the first element of size 134225408 bytes.This already causes the autotune ram budget to be exceeded. To stay within the ram budget, either increase the ram budget or reduce element size\n"
     ]
    },
    {
     "name": "stdout",
     "output_type": "stream",
     "text": [
      "\u001b[1m389/561\u001b[0m \u001b[32m━━━━━━━━━━━━━\u001b[0m\u001b[37m━━━━━━━\u001b[0m \u001b[1m49s\u001b[0m 290ms/step - accuracy: 0.9136 - auc: 0.7935 - f1_score: 0.1312 - loss: 0.4269 - precision: 0.4850 - recall: 0.0944 "
     ]
    },
    {
     "name": "stderr",
     "output_type": "stream",
     "text": [
      "2025-04-23 11:14:45.436319: W tensorflow/core/lib/png/png_io.cc:92] PNG warning: iCCP: profile 'ICC Profile': 'GRAY': Gray color space not permitted on RGB PNG\n"
     ]
    },
    {
     "name": "stdout",
     "output_type": "stream",
     "text": [
      "\u001b[1m561/561\u001b[0m \u001b[32m━━━━━━━━━━━━━━━━━━━━\u001b[0m\u001b[37m\u001b[0m \u001b[1m0s\u001b[0m 269ms/step - accuracy: 0.9137 - auc: 0.7934 - f1_score: 0.1316 - loss: 0.4264 - precision: 0.4866 - recall: 0.0946 "
     ]
    },
    {
     "name": "stderr",
     "output_type": "stream",
     "text": [
      "2025-04-23 11:15:41 - INFO - \n",
      "=== Epoch 79 Summary ===\n",
      "2025-04-23 11:15:41 - INFO - Time: 168.74s\n",
      "2025-04-23 11:15:41 - INFO - Training   - accuracy: 0.9139 - auc: 0.7927 - f1_score: 0.1324 - loss: 0.4250 - precision: 0.4891 - recall: 0.0949 - learning_rate: 0.0000\n",
      "2025-04-23 11:15:41 - INFO - Validation - accuracy: 0.9124 - auc: 0.7446 - f1_score: 0.1126 - loss: 0.5134 - precision: 0.4217 - recall: 0.0781\n",
      "2025-04-23 11:15:41 - INFO - ==================================================\n",
      "\n"
     ]
    },
    {
     "name": "stdout",
     "output_type": "stream",
     "text": [
      "\u001b[1m561/561\u001b[0m \u001b[32m━━━━━━━━━━━━━━━━━━━━\u001b[0m\u001b[37m\u001b[0m \u001b[1m169s\u001b[0m 301ms/step - accuracy: 0.9137 - auc: 0.7934 - f1_score: 0.1316 - loss: 0.4264 - precision: 0.4866 - recall: 0.0946 - val_accuracy: 0.9124 - val_auc: 0.7446 - val_f1_score: 0.1126 - val_loss: 0.5134 - val_precision: 0.4217 - val_recall: 0.0781 - learning_rate: 1.0000e-06\n"
     ]
    },
    {
     "name": "stderr",
     "output_type": "stream",
     "text": [
      "2025-04-23 11:15:41 - INFO - \n",
      "=== Starting Epoch 80 ===\n",
      "\n"
     ]
    },
    {
     "name": "stdout",
     "output_type": "stream",
     "text": [
      "Epoch 80/100\n",
      "\u001b[1m 79/561\u001b[0m \u001b[32m━━\u001b[0m\u001b[37m━━━━━━━━━━━━━━━━━━\u001b[0m \u001b[1m1:38\u001b[0m 204ms/step - accuracy: 0.9144 - auc: 0.7969 - f1_score: 0.1302 - loss: 0.4181 - precision: 0.4938 - recall: 0.0934"
     ]
    },
    {
     "name": "stderr",
     "output_type": "stream",
     "text": [
      "2025-04-23 11:16:01.132015: I tensorflow/core/kernels/data/shuffle_dataset_op.cc:452] ShuffleDatasetV3:13: Filling up shuffle buffer (this may take a while): 11400 of 25000\n",
      "2025-04-23 11:16:13.124455: I tensorflow/core/kernels/data/shuffle_dataset_op.cc:482] Shuffle buffer filled.\n",
      "2025-04-23 11:16:13.234810: W tensorflow/core/kernels/data/prefetch_autotuner.cc:52] Prefetch autotuner tried to allocate 134225408 bytes after encountering the first element of size 134225408 bytes.This already causes the autotune ram budget to be exceeded. To stay within the ram budget, either increase the ram budget or reduce element size\n"
     ]
    },
    {
     "name": "stdout",
     "output_type": "stream",
     "text": [
      "\u001b[1m390/561\u001b[0m \u001b[32m━━━━━━━━━━━━━\u001b[0m\u001b[37m━━━━━━━\u001b[0m \u001b[1m48s\u001b[0m 284ms/step - accuracy: 0.9146 - auc: 0.7951 - f1_score: 0.1366 - loss: 0.4215 - precision: 0.4977 - recall: 0.0973 "
     ]
    },
    {
     "name": "stderr",
     "output_type": "stream",
     "text": [
      "2025-04-23 11:17:32.251126: W tensorflow/core/lib/png/png_io.cc:92] PNG warning: iCCP: profile 'ICC Profile': 'GRAY': Gray color space not permitted on RGB PNG\n"
     ]
    },
    {
     "name": "stdout",
     "output_type": "stream",
     "text": [
      "\u001b[1m561/561\u001b[0m \u001b[32m━━━━━━━━━━━━━━━━━━━━\u001b[0m\u001b[37m\u001b[0m \u001b[1m0s\u001b[0m 265ms/step - accuracy: 0.9145 - auc: 0.7951 - f1_score: 0.1368 - loss: 0.4220 - precision: 0.4969 - recall: 0.0974 "
     ]
    },
    {
     "name": "stderr",
     "output_type": "stream",
     "text": [
      "2025-04-23 11:18:24 - INFO - \n",
      "=== Epoch 80 Summary ===\n",
      "2025-04-23 11:18:24 - INFO - Time: 162.75s\n",
      "2025-04-23 11:18:24 - INFO - Training   - accuracy: 0.9142 - auc: 0.7948 - f1_score: 0.1365 - loss: 0.4235 - precision: 0.4941 - recall: 0.0973 - learning_rate: 0.0000\n",
      "2025-04-23 11:18:24 - INFO - Validation - accuracy: 0.9119 - auc: 0.7421 - f1_score: 0.1088 - loss: 0.5157 - precision: 0.4065 - recall: 0.0747\n",
      "2025-04-23 11:18:24 - INFO - ==================================================\n",
      "\n"
     ]
    },
    {
     "name": "stdout",
     "output_type": "stream",
     "text": [
      "\u001b[1m561/561\u001b[0m \u001b[32m━━━━━━━━━━━━━━━━━━━━\u001b[0m\u001b[37m\u001b[0m \u001b[1m163s\u001b[0m 290ms/step - accuracy: 0.9145 - auc: 0.7951 - f1_score: 0.1368 - loss: 0.4220 - precision: 0.4969 - recall: 0.0974 - val_accuracy: 0.9119 - val_auc: 0.7421 - val_f1_score: 0.1088 - val_loss: 0.5157 - val_precision: 0.4065 - val_recall: 0.0747 - learning_rate: 1.0000e-06\n"
     ]
    },
    {
     "name": "stderr",
     "output_type": "stream",
     "text": [
      "2025-04-23 11:18:24 - INFO - \n",
      "=== Starting Epoch 81 ===\n",
      "\n"
     ]
    },
    {
     "name": "stdout",
     "output_type": "stream",
     "text": [
      "Epoch 81/100\n",
      "\u001b[1m 80/561\u001b[0m \u001b[32m━━\u001b[0m\u001b[37m━━━━━━━━━━━━━━━━━━\u001b[0m \u001b[1m1:37\u001b[0m 204ms/step - accuracy: 0.9141 - auc: 0.7838 - f1_score: 0.1346 - loss: 0.4246 - precision: 0.4920 - recall: 0.0962"
     ]
    },
    {
     "name": "stderr",
     "output_type": "stream",
     "text": [
      "2025-04-23 11:18:44.087372: I tensorflow/core/kernels/data/shuffle_dataset_op.cc:452] ShuffleDatasetV3:13: Filling up shuffle buffer (this may take a while): 11390 of 25000\n",
      "2025-04-23 11:18:56.071022: I tensorflow/core/kernels/data/shuffle_dataset_op.cc:482] Shuffle buffer filled.\n",
      "2025-04-23 11:18:56.184345: W tensorflow/core/kernels/data/prefetch_autotuner.cc:52] Prefetch autotuner tried to allocate 134225408 bytes after encountering the first element of size 134225408 bytes.This already causes the autotune ram budget to be exceeded. To stay within the ram budget, either increase the ram budget or reduce element size\n"
     ]
    },
    {
     "name": "stdout",
     "output_type": "stream",
     "text": [
      "\u001b[1m391/561\u001b[0m \u001b[32m━━━━━━━━━━━━━\u001b[0m\u001b[37m━━━━━━━\u001b[0m \u001b[1m48s\u001b[0m 288ms/step - accuracy: 0.9140 - auc: 0.7907 - f1_score: 0.1346 - loss: 0.4254 - precision: 0.4903 - recall: 0.0963 "
     ]
    },
    {
     "name": "stderr",
     "output_type": "stream",
     "text": [
      "2025-04-23 11:20:16.857314: W tensorflow/core/lib/png/png_io.cc:92] PNG warning: iCCP: profile 'ICC Profile': 'GRAY': Gray color space not permitted on RGB PNG\n"
     ]
    },
    {
     "name": "stdout",
     "output_type": "stream",
     "text": [
      "\u001b[1m561/561\u001b[0m \u001b[32m━━━━━━━━━━━━━━━━━━━━\u001b[0m\u001b[37m\u001b[0m \u001b[1m0s\u001b[0m 268ms/step - accuracy: 0.9140 - auc: 0.7918 - f1_score: 0.1345 - loss: 0.4253 - precision: 0.4903 - recall: 0.0962 "
     ]
    },
    {
     "name": "stderr",
     "output_type": "stream",
     "text": [
      "2025-04-23 11:21:08 - INFO - \n",
      "=== Epoch 81 Summary ===\n",
      "2025-04-23 11:21:08 - INFO - Time: 164.43s\n",
      "2025-04-23 11:21:08 - INFO - Training   - accuracy: 0.9141 - auc: 0.7947 - f1_score: 0.1347 - loss: 0.4243 - precision: 0.4904 - recall: 0.0965 - learning_rate: 0.0000\n",
      "2025-04-23 11:21:08 - INFO - Validation - accuracy: 0.9123 - auc: 0.7459 - f1_score: 0.1135 - loss: 0.5134 - precision: 0.4199 - recall: 0.0780\n",
      "2025-04-23 11:21:08 - INFO - ==================================================\n",
      "\n"
     ]
    },
    {
     "name": "stdout",
     "output_type": "stream",
     "text": [
      "\u001b[1m561/561\u001b[0m \u001b[32m━━━━━━━━━━━━━━━━━━━━\u001b[0m\u001b[37m\u001b[0m \u001b[1m164s\u001b[0m 293ms/step - accuracy: 0.9140 - auc: 0.7918 - f1_score: 0.1345 - loss: 0.4253 - precision: 0.4903 - recall: 0.0962 - val_accuracy: 0.9123 - val_auc: 0.7459 - val_f1_score: 0.1135 - val_loss: 0.5134 - val_precision: 0.4199 - val_recall: 0.0780 - learning_rate: 1.0000e-06\n"
     ]
    },
    {
     "name": "stderr",
     "output_type": "stream",
     "text": [
      "2025-04-23 11:21:08 - INFO - \n",
      "=== Starting Epoch 82 ===\n",
      "\n"
     ]
    },
    {
     "name": "stdout",
     "output_type": "stream",
     "text": [
      "Epoch 82/100\n",
      "\u001b[1m 81/561\u001b[0m \u001b[32m━━\u001b[0m\u001b[37m━━━━━━━━━━━━━━━━━━\u001b[0m \u001b[1m1:37\u001b[0m 204ms/step - accuracy: 0.9144 - auc: 0.7925 - f1_score: 0.1289 - loss: 0.4194 - precision: 0.4755 - recall: 0.0928"
     ]
    },
    {
     "name": "stderr",
     "output_type": "stream",
     "text": [
      "2025-04-23 11:21:28.748565: I tensorflow/core/kernels/data/shuffle_dataset_op.cc:452] ShuffleDatasetV3:13: Filling up shuffle buffer (this may take a while): 11430 of 25000\n",
      "2025-04-23 11:21:40.679600: I tensorflow/core/kernels/data/shuffle_dataset_op.cc:482] Shuffle buffer filled.\n",
      "2025-04-23 11:21:40.797316: W tensorflow/core/kernels/data/prefetch_autotuner.cc:52] Prefetch autotuner tried to allocate 134225408 bytes after encountering the first element of size 134225408 bytes.This already causes the autotune ram budget to be exceeded. To stay within the ram budget, either increase the ram budget or reduce element size\n"
     ]
    },
    {
     "name": "stdout",
     "output_type": "stream",
     "text": [
      "\u001b[1m392/561\u001b[0m \u001b[32m━━━━━━━━━━━━━\u001b[0m\u001b[37m━━━━━━━\u001b[0m \u001b[1m49s\u001b[0m 291ms/step - accuracy: 0.9139 - auc: 0.7921 - f1_score: 0.1319 - loss: 0.4225 - precision: 0.4826 - recall: 0.0943 "
     ]
    },
    {
     "name": "stderr",
     "output_type": "stream",
     "text": [
      "2025-04-23 11:23:02.859988: W tensorflow/core/lib/png/png_io.cc:92] PNG warning: iCCP: profile 'ICC Profile': 'GRAY': Gray color space not permitted on RGB PNG\n"
     ]
    },
    {
     "name": "stdout",
     "output_type": "stream",
     "text": [
      "\u001b[1m561/561\u001b[0m \u001b[32m━━━━━━━━━━━━━━━━━━━━\u001b[0m\u001b[37m\u001b[0m \u001b[1m0s\u001b[0m 271ms/step - accuracy: 0.9139 - auc: 0.7927 - f1_score: 0.1323 - loss: 0.4227 - precision: 0.4844 - recall: 0.0946 "
     ]
    },
    {
     "name": "stderr",
     "output_type": "stream",
     "text": [
      "2025-04-23 11:23:54 - INFO - \n",
      "=== Epoch 82 Summary ===\n",
      "2025-04-23 11:23:54 - INFO - Time: 165.82s\n",
      "2025-04-23 11:23:54 - INFO - Training   - accuracy: 0.9139 - auc: 0.7952 - f1_score: 0.1336 - loss: 0.4234 - precision: 0.4891 - recall: 0.0957 - learning_rate: 0.0000\n",
      "2025-04-23 11:23:54 - INFO - Validation - accuracy: 0.9122 - auc: 0.7441 - f1_score: 0.1090 - loss: 0.5155 - precision: 0.4154 - recall: 0.0755\n",
      "2025-04-23 11:23:54 - INFO - ==================================================\n",
      "\n"
     ]
    },
    {
     "name": "stdout",
     "output_type": "stream",
     "text": [
      "\u001b[1m561/561\u001b[0m \u001b[32m━━━━━━━━━━━━━━━━━━━━\u001b[0m\u001b[37m\u001b[0m \u001b[1m166s\u001b[0m 296ms/step - accuracy: 0.9139 - auc: 0.7927 - f1_score: 0.1323 - loss: 0.4227 - precision: 0.4844 - recall: 0.0946 - val_accuracy: 0.9122 - val_auc: 0.7441 - val_f1_score: 0.1090 - val_loss: 0.5155 - val_precision: 0.4154 - val_recall: 0.0755 - learning_rate: 1.0000e-06\n"
     ]
    },
    {
     "name": "stderr",
     "output_type": "stream",
     "text": [
      "2025-04-23 11:23:54 - INFO - \n",
      "=== Starting Epoch 83 ===\n",
      "\n"
     ]
    },
    {
     "name": "stdout",
     "output_type": "stream",
     "text": [
      "Epoch 83/100\n",
      "\u001b[1m 82/561\u001b[0m \u001b[32m━━\u001b[0m\u001b[37m━━━━━━━━━━━━━━━━━━\u001b[0m \u001b[1m1:37\u001b[0m 204ms/step - accuracy: 0.9146 - auc: 0.7956 - f1_score: 0.1333 - loss: 0.4193 - precision: 0.4865 - recall: 0.0982"
     ]
    },
    {
     "name": "stderr",
     "output_type": "stream",
     "text": [
      "2025-04-23 11:24:14.775775: I tensorflow/core/kernels/data/shuffle_dataset_op.cc:452] ShuffleDatasetV3:13: Filling up shuffle buffer (this may take a while): 11384 of 25000\n",
      "2025-04-23 11:24:24.776892: I tensorflow/core/kernels/data/shuffle_dataset_op.cc:452] ShuffleDatasetV3:13: Filling up shuffle buffer (this may take a while): 22756 of 25000\n",
      "2025-04-23 11:24:26.717500: I tensorflow/core/kernels/data/shuffle_dataset_op.cc:482] Shuffle buffer filled.\n",
      "2025-04-23 11:24:26.826682: W tensorflow/core/kernels/data/prefetch_autotuner.cc:52] Prefetch autotuner tried to allocate 134225408 bytes after encountering the first element of size 134225408 bytes.This already causes the autotune ram budget to be exceeded. To stay within the ram budget, either increase the ram budget or reduce element size\n"
     ]
    },
    {
     "name": "stdout",
     "output_type": "stream",
     "text": [
      "\u001b[1m393/561\u001b[0m \u001b[32m━━━━━━━━━━━━━━\u001b[0m\u001b[37m━━━━━━\u001b[0m \u001b[1m48s\u001b[0m 288ms/step - accuracy: 0.9142 - auc: 0.7941 - f1_score: 0.1335 - loss: 0.4212 - precision: 0.4871 - recall: 0.0963 "
     ]
    },
    {
     "name": "stderr",
     "output_type": "stream",
     "text": [
      "2025-04-23 11:25:47.741223: W tensorflow/core/lib/png/png_io.cc:92] PNG warning: iCCP: profile 'ICC Profile': 'GRAY': Gray color space not permitted on RGB PNG\n"
     ]
    },
    {
     "name": "stdout",
     "output_type": "stream",
     "text": [
      "\u001b[1m561/561\u001b[0m \u001b[32m━━━━━━━━━━━━━━━━━━━━\u001b[0m\u001b[37m\u001b[0m \u001b[1m0s\u001b[0m 269ms/step - accuracy: 0.9141 - auc: 0.7943 - f1_score: 0.1339 - loss: 0.4216 - precision: 0.4868 - recall: 0.0963 "
     ]
    },
    {
     "name": "stderr",
     "output_type": "stream",
     "text": [
      "2025-04-23 11:26:39 - INFO - \n",
      "=== Epoch 83 Summary ===\n",
      "2025-04-23 11:26:39 - INFO - Time: 164.72s\n",
      "2025-04-23 11:26:39 - INFO - Training   - accuracy: 0.9141 - auc: 0.7955 - f1_score: 0.1350 - loss: 0.4219 - precision: 0.4882 - recall: 0.0966 - learning_rate: 0.0000\n",
      "2025-04-23 11:26:39 - INFO - Validation - accuracy: 0.9122 - auc: 0.7440 - f1_score: 0.1181 - loss: 0.5130 - precision: 0.4196 - recall: 0.0812\n",
      "2025-04-23 11:26:39 - INFO - ==================================================\n",
      "\n"
     ]
    },
    {
     "name": "stdout",
     "output_type": "stream",
     "text": [
      "\u001b[1m561/561\u001b[0m \u001b[32m━━━━━━━━━━━━━━━━━━━━\u001b[0m\u001b[37m\u001b[0m \u001b[1m165s\u001b[0m 294ms/step - accuracy: 0.9141 - auc: 0.7943 - f1_score: 0.1339 - loss: 0.4216 - precision: 0.4868 - recall: 0.0963 - val_accuracy: 0.9122 - val_auc: 0.7440 - val_f1_score: 0.1181 - val_loss: 0.5130 - val_precision: 0.4196 - val_recall: 0.0812 - learning_rate: 1.0000e-06\n"
     ]
    },
    {
     "name": "stderr",
     "output_type": "stream",
     "text": [
      "2025-04-23 11:26:39 - INFO - \n",
      "=== Starting Epoch 84 ===\n",
      "\n"
     ]
    },
    {
     "name": "stdout",
     "output_type": "stream",
     "text": [
      "Epoch 84/100\n",
      "\u001b[1m 83/561\u001b[0m \u001b[32m━━\u001b[0m\u001b[37m━━━━━━━━━━━━━━━━━━\u001b[0m \u001b[1m1:37\u001b[0m 204ms/step - accuracy: 0.9139 - auc: 0.7997 - f1_score: 0.1387 - loss: 0.4203 - precision: 0.4947 - recall: 0.1003"
     ]
    },
    {
     "name": "stderr",
     "output_type": "stream",
     "text": [
      "2025-04-23 11:26:59.732161: I tensorflow/core/kernels/data/shuffle_dataset_op.cc:452] ShuffleDatasetV3:13: Filling up shuffle buffer (this may take a while): 11397 of 25000\n",
      "2025-04-23 11:27:11.710565: I tensorflow/core/kernels/data/shuffle_dataset_op.cc:482] Shuffle buffer filled.\n",
      "2025-04-23 11:27:11.823565: W tensorflow/core/kernels/data/prefetch_autotuner.cc:52] Prefetch autotuner tried to allocate 134225408 bytes after encountering the first element of size 134225408 bytes.This already causes the autotune ram budget to be exceeded. To stay within the ram budget, either increase the ram budget or reduce element size\n"
     ]
    },
    {
     "name": "stdout",
     "output_type": "stream",
     "text": [
      "\u001b[1m394/561\u001b[0m \u001b[32m━━━━━━━━━━━━━━\u001b[0m\u001b[37m━━━━━━\u001b[0m \u001b[1m47s\u001b[0m 283ms/step - accuracy: 0.9141 - auc: 0.7977 - f1_score: 0.1371 - loss: 0.4219 - precision: 0.4943 - recall: 0.0989 "
     ]
    },
    {
     "name": "stderr",
     "output_type": "stream",
     "text": [
      "2025-04-23 11:28:30.967171: W tensorflow/core/lib/png/png_io.cc:92] PNG warning: iCCP: profile 'ICC Profile': 'GRAY': Gray color space not permitted on RGB PNG\n"
     ]
    },
    {
     "name": "stdout",
     "output_type": "stream",
     "text": [
      "\u001b[1m561/561\u001b[0m \u001b[32m━━━━━━━━━━━━━━━━━━━━\u001b[0m\u001b[37m\u001b[0m \u001b[1m0s\u001b[0m 266ms/step - accuracy: 0.9141 - auc: 0.7973 - f1_score: 0.1367 - loss: 0.4221 - precision: 0.4927 - recall: 0.0987 "
     ]
    },
    {
     "name": "stderr",
     "output_type": "stream",
     "text": [
      "2025-04-23 11:29:08.433667: W tensorflow/core/kernels/data/prefetch_autotuner.cc:52] Prefetch autotuner tried to allocate 114302464 bytes after encountering the first element of size 114302464 bytes.This already causes the autotune ram budget to be exceeded. To stay within the ram budget, either increase the ram budget or reduce element size\n",
      "2025-04-23 11:29:22 - INFO - \n",
      "=== Epoch 84 Summary ===\n",
      "2025-04-23 11:29:22 - INFO - Time: 162.91s\n",
      "2025-04-23 11:29:22 - INFO - Training   - accuracy: 0.9140 - auc: 0.7967 - f1_score: 0.1358 - loss: 0.4223 - precision: 0.4887 - recall: 0.0980 - learning_rate: 0.0000\n",
      "2025-04-23 11:29:22 - INFO - Validation - accuracy: 0.9127 - auc: 0.7447 - f1_score: 0.1182 - loss: 0.5118 - precision: 0.4327 - recall: 0.0810\n",
      "2025-04-23 11:29:22 - INFO - ==================================================\n",
      "\n"
     ]
    },
    {
     "name": "stdout",
     "output_type": "stream",
     "text": [
      "\u001b[1m561/561\u001b[0m \u001b[32m━━━━━━━━━━━━━━━━━━━━\u001b[0m\u001b[37m\u001b[0m \u001b[1m163s\u001b[0m 291ms/step - accuracy: 0.9141 - auc: 0.7973 - f1_score: 0.1367 - loss: 0.4221 - precision: 0.4927 - recall: 0.0987 - val_accuracy: 0.9127 - val_auc: 0.7447 - val_f1_score: 0.1182 - val_loss: 0.5118 - val_precision: 0.4327 - val_recall: 0.0810 - learning_rate: 1.0000e-06\n"
     ]
    },
    {
     "name": "stderr",
     "output_type": "stream",
     "text": [
      "2025-04-23 11:29:22 - INFO - \n",
      "=== Starting Epoch 85 ===\n",
      "\n"
     ]
    },
    {
     "name": "stdout",
     "output_type": "stream",
     "text": [
      "Epoch 85/100\n",
      "\u001b[1m 84/561\u001b[0m \u001b[32m━━\u001b[0m\u001b[37m━━━━━━━━━━━━━━━━━━\u001b[0m \u001b[1m1:37\u001b[0m 204ms/step - accuracy: 0.9143 - auc: 0.8023 - f1_score: 0.1413 - loss: 0.4247 - precision: 0.5093 - recall: 0.1007"
     ]
    },
    {
     "name": "stderr",
     "output_type": "stream",
     "text": [
      "2025-04-23 11:29:42.839028: I tensorflow/core/kernels/data/shuffle_dataset_op.cc:452] ShuffleDatasetV3:13: Filling up shuffle buffer (this may take a while): 11302 of 25000\n",
      "2025-04-23 11:29:52.842469: I tensorflow/core/kernels/data/shuffle_dataset_op.cc:452] ShuffleDatasetV3:13: Filling up shuffle buffer (this may take a while): 22708 of 25000\n",
      "2025-04-23 11:29:54.833590: I tensorflow/core/kernels/data/shuffle_dataset_op.cc:482] Shuffle buffer filled.\n",
      "2025-04-23 11:29:54.942922: W tensorflow/core/kernels/data/prefetch_autotuner.cc:52] Prefetch autotuner tried to allocate 134225408 bytes after encountering the first element of size 134225408 bytes.This already causes the autotune ram budget to be exceeded. To stay within the ram budget, either increase the ram budget or reduce element size\n"
     ]
    },
    {
     "name": "stdout",
     "output_type": "stream",
     "text": [
      "\u001b[1m395/561\u001b[0m \u001b[32m━━━━━━━━━━━━━━\u001b[0m\u001b[37m━━━━━━\u001b[0m \u001b[1m47s\u001b[0m 287ms/step - accuracy: 0.9141 - auc: 0.7983 - f1_score: 0.1389 - loss: 0.4229 - precision: 0.4998 - recall: 0.0997 "
     ]
    },
    {
     "name": "stderr",
     "output_type": "stream",
     "text": [
      "2025-04-23 11:31:15.761149: W tensorflow/core/lib/png/png_io.cc:92] PNG warning: iCCP: profile 'ICC Profile': 'GRAY': Gray color space not permitted on RGB PNG\n"
     ]
    },
    {
     "name": "stdout",
     "output_type": "stream",
     "text": [
      "\u001b[1m561/561\u001b[0m \u001b[32m━━━━━━━━━━━━━━━━━━━━\u001b[0m\u001b[37m\u001b[0m \u001b[1m0s\u001b[0m 269ms/step - accuracy: 0.9141 - auc: 0.7978 - f1_score: 0.1390 - loss: 0.4228 - precision: 0.4991 - recall: 0.0997 "
     ]
    },
    {
     "name": "stderr",
     "output_type": "stream",
     "text": [
      "2025-04-23 11:32:06 - INFO - \n",
      "=== Epoch 85 Summary ===\n",
      "2025-04-23 11:32:06 - INFO - Time: 164.65s\n",
      "2025-04-23 11:32:06 - INFO - Training   - accuracy: 0.9142 - auc: 0.7970 - f1_score: 0.1392 - loss: 0.4221 - precision: 0.4964 - recall: 0.1000 - learning_rate: 0.0000\n",
      "2025-04-23 11:32:06 - INFO - Validation - accuracy: 0.9115 - auc: 0.7428 - f1_score: 0.1056 - loss: 0.5169 - precision: 0.3957 - recall: 0.0750\n",
      "2025-04-23 11:32:06 - INFO - ==================================================\n",
      "\n"
     ]
    },
    {
     "name": "stdout",
     "output_type": "stream",
     "text": [
      "\u001b[1m561/561\u001b[0m \u001b[32m━━━━━━━━━━━━━━━━━━━━\u001b[0m\u001b[37m\u001b[0m \u001b[1m165s\u001b[0m 294ms/step - accuracy: 0.9141 - auc: 0.7978 - f1_score: 0.1390 - loss: 0.4228 - precision: 0.4991 - recall: 0.0997 - val_accuracy: 0.9115 - val_auc: 0.7428 - val_f1_score: 0.1056 - val_loss: 0.5169 - val_precision: 0.3957 - val_recall: 0.0750 - learning_rate: 1.0000e-06\n"
     ]
    },
    {
     "name": "stderr",
     "output_type": "stream",
     "text": [
      "2025-04-23 11:32:06 - INFO - \n",
      "=== Starting Epoch 86 ===\n",
      "\n"
     ]
    },
    {
     "name": "stdout",
     "output_type": "stream",
     "text": [
      "Epoch 86/100\n",
      "\u001b[1m 85/561\u001b[0m \u001b[32m━━━\u001b[0m\u001b[37m━━━━━━━━━━━━━━━━━\u001b[0m \u001b[1m1:37\u001b[0m 205ms/step - accuracy: 0.9154 - auc: 0.7908 - f1_score: 0.1361 - loss: 0.4198 - precision: 0.5063 - recall: 0.0983"
     ]
    },
    {
     "name": "stderr",
     "output_type": "stream",
     "text": [
      "2025-04-23 11:32:27.738956: I tensorflow/core/kernels/data/shuffle_dataset_op.cc:452] ShuffleDatasetV3:13: Filling up shuffle buffer (this may take a while): 11486 of 25000\n",
      "2025-04-23 11:32:39.585845: I tensorflow/core/kernels/data/shuffle_dataset_op.cc:482] Shuffle buffer filled.\n",
      "2025-04-23 11:32:39.698379: W tensorflow/core/kernels/data/prefetch_autotuner.cc:52] Prefetch autotuner tried to allocate 134225408 bytes after encountering the first element of size 134225408 bytes.This already causes the autotune ram budget to be exceeded. To stay within the ram budget, either increase the ram budget or reduce element size\n"
     ]
    },
    {
     "name": "stdout",
     "output_type": "stream",
     "text": [
      "\u001b[1m396/561\u001b[0m \u001b[32m━━━━━━━━━━━━━━\u001b[0m\u001b[37m━━━━━━\u001b[0m \u001b[1m47s\u001b[0m 286ms/step - accuracy: 0.9146 - auc: 0.7943 - f1_score: 0.1337 - loss: 0.4215 - precision: 0.4979 - recall: 0.0960 "
     ]
    },
    {
     "name": "stderr",
     "output_type": "stream",
     "text": [
      "2025-04-23 11:34:00.127010: W tensorflow/core/lib/png/png_io.cc:92] PNG warning: iCCP: profile 'ICC Profile': 'GRAY': Gray color space not permitted on RGB PNG\n"
     ]
    },
    {
     "name": "stdout",
     "output_type": "stream",
     "text": [
      "\u001b[1m561/561\u001b[0m \u001b[32m━━━━━━━━━━━━━━━━━━━━\u001b[0m\u001b[37m\u001b[0m \u001b[1m0s\u001b[0m 268ms/step - accuracy: 0.9145 - auc: 0.7949 - f1_score: 0.1337 - loss: 0.4216 - precision: 0.4973 - recall: 0.0960 "
     ]
    },
    {
     "name": "stderr",
     "output_type": "stream",
     "text": [
      "2025-04-23 11:34:51 - INFO - \n",
      "=== Epoch 86 Summary ===\n",
      "2025-04-23 11:34:51 - INFO - Time: 164.14s\n",
      "2025-04-23 11:34:51 - INFO - Training   - accuracy: 0.9143 - auc: 0.7961 - f1_score: 0.1340 - loss: 0.4218 - precision: 0.4953 - recall: 0.0963 - learning_rate: 0.0000\n",
      "2025-04-23 11:34:51 - INFO - Validation - accuracy: 0.9121 - auc: 0.7441 - f1_score: 0.1136 - loss: 0.5136 - precision: 0.4164 - recall: 0.0794\n",
      "2025-04-23 11:34:51 - INFO - ==================================================\n",
      "\n"
     ]
    },
    {
     "name": "stdout",
     "output_type": "stream",
     "text": [
      "\u001b[1m561/561\u001b[0m \u001b[32m━━━━━━━━━━━━━━━━━━━━\u001b[0m\u001b[37m\u001b[0m \u001b[1m164s\u001b[0m 293ms/step - accuracy: 0.9145 - auc: 0.7949 - f1_score: 0.1337 - loss: 0.4216 - precision: 0.4973 - recall: 0.0960 - val_accuracy: 0.9121 - val_auc: 0.7441 - val_f1_score: 0.1136 - val_loss: 0.5136 - val_precision: 0.4164 - val_recall: 0.0794 - learning_rate: 1.0000e-06\n"
     ]
    },
    {
     "name": "stderr",
     "output_type": "stream",
     "text": [
      "2025-04-23 11:34:51 - INFO - \n",
      "=== Starting Epoch 87 ===\n",
      "\n"
     ]
    },
    {
     "name": "stdout",
     "output_type": "stream",
     "text": [
      "Epoch 87/100\n",
      "\u001b[1m 86/561\u001b[0m \u001b[32m━━━\u001b[0m\u001b[37m━━━━━━━━━━━━━━━━━\u001b[0m \u001b[1m1:37\u001b[0m 205ms/step - accuracy: 0.9150 - auc: 0.7944 - f1_score: 0.1458 - loss: 0.4199 - precision: 0.5147 - recall: 0.1059"
     ]
    },
    {
     "name": "stderr",
     "output_type": "stream",
     "text": [
      "2025-04-23 11:35:12.049568: I tensorflow/core/kernels/data/shuffle_dataset_op.cc:452] ShuffleDatasetV3:13: Filling up shuffle buffer (this may take a while): 11412 of 25000\n",
      "2025-04-23 11:35:22.052523: I tensorflow/core/kernels/data/shuffle_dataset_op.cc:452] ShuffleDatasetV3:13: Filling up shuffle buffer (this may take a while): 22753 of 25000\n",
      "2025-04-23 11:35:23.998712: I tensorflow/core/kernels/data/shuffle_dataset_op.cc:482] Shuffle buffer filled.\n",
      "2025-04-23 11:35:24.111086: W tensorflow/core/kernels/data/prefetch_autotuner.cc:52] Prefetch autotuner tried to allocate 134225408 bytes after encountering the first element of size 134225408 bytes.This already causes the autotune ram budget to be exceeded. To stay within the ram budget, either increase the ram budget or reduce element size\n"
     ]
    },
    {
     "name": "stdout",
     "output_type": "stream",
     "text": [
      "\u001b[1m397/561\u001b[0m \u001b[32m━━━━━━━━━━━━━━\u001b[0m\u001b[37m━━━━━━\u001b[0m \u001b[1m47s\u001b[0m 288ms/step - accuracy: 0.9143 - auc: 0.7952 - f1_score: 0.1408 - loss: 0.4220 - precision: 0.4988 - recall: 0.1018 "
     ]
    },
    {
     "name": "stderr",
     "output_type": "stream",
     "text": [
      "2025-04-23 11:36:45.351694: W tensorflow/core/lib/png/png_io.cc:92] PNG warning: iCCP: profile 'ICC Profile': 'GRAY': Gray color space not permitted on RGB PNG\n"
     ]
    },
    {
     "name": "stdout",
     "output_type": "stream",
     "text": [
      "\u001b[1m561/561\u001b[0m \u001b[32m━━━━━━━━━━━━━━━━━━━━\u001b[0m\u001b[37m\u001b[0m \u001b[1m0s\u001b[0m 269ms/step - accuracy: 0.9143 - auc: 0.7955 - f1_score: 0.1399 - loss: 0.4222 - precision: 0.4971 - recall: 0.1009 "
     ]
    },
    {
     "name": "stderr",
     "output_type": "stream",
     "text": [
      "2025-04-23 11:37:36 - INFO - \n",
      "=== Epoch 87 Summary ===\n",
      "2025-04-23 11:37:36 - INFO - Time: 165.65s\n",
      "2025-04-23 11:37:36 - INFO - Training   - accuracy: 0.9142 - auc: 0.7964 - f1_score: 0.1381 - loss: 0.4223 - precision: 0.4960 - recall: 0.0992 - learning_rate: 0.0000\n",
      "2025-04-23 11:37:36 - INFO - Validation - accuracy: 0.9126 - auc: 0.7451 - f1_score: 0.1233 - loss: 0.5113 - precision: 0.4330 - recall: 0.0855\n",
      "2025-04-23 11:37:36 - INFO - ==================================================\n",
      "\n"
     ]
    },
    {
     "name": "stdout",
     "output_type": "stream",
     "text": [
      "\u001b[1m561/561\u001b[0m \u001b[32m━━━━━━━━━━━━━━━━━━━━\u001b[0m\u001b[37m\u001b[0m \u001b[1m166s\u001b[0m 296ms/step - accuracy: 0.9143 - auc: 0.7955 - f1_score: 0.1399 - loss: 0.4222 - precision: 0.4971 - recall: 0.1009 - val_accuracy: 0.9126 - val_auc: 0.7451 - val_f1_score: 0.1233 - val_loss: 0.5113 - val_precision: 0.4330 - val_recall: 0.0855 - learning_rate: 1.0000e-06\n"
     ]
    },
    {
     "name": "stderr",
     "output_type": "stream",
     "text": [
      "2025-04-23 11:37:36 - INFO - \n",
      "=== Starting Epoch 88 ===\n",
      "\n"
     ]
    },
    {
     "name": "stdout",
     "output_type": "stream",
     "text": [
      "Epoch 88/100\n",
      "\u001b[1m 87/561\u001b[0m \u001b[32m━━━\u001b[0m\u001b[37m━━━━━━━━━━━━━━━━━\u001b[0m \u001b[1m1:37\u001b[0m 205ms/step - accuracy: 0.9157 - auc: 0.7947 - f1_score: 0.1397 - loss: 0.4129 - precision: 0.5091 - recall: 0.1012"
     ]
    },
    {
     "name": "stderr",
     "output_type": "stream",
     "text": [
      "2025-04-23 11:37:57.993476: I tensorflow/core/kernels/data/shuffle_dataset_op.cc:452] ShuffleDatasetV3:13: Filling up shuffle buffer (this may take a while): 11361 of 25000\n",
      "2025-04-23 11:38:07.993925: I tensorflow/core/kernels/data/shuffle_dataset_op.cc:452] ShuffleDatasetV3:13: Filling up shuffle buffer (this may take a while): 22544 of 25000\n",
      "2025-04-23 11:38:10.130886: I tensorflow/core/kernels/data/shuffle_dataset_op.cc:482] Shuffle buffer filled.\n",
      "2025-04-23 11:38:10.241527: W tensorflow/core/kernels/data/prefetch_autotuner.cc:52] Prefetch autotuner tried to allocate 134225408 bytes after encountering the first element of size 134225408 bytes.This already causes the autotune ram budget to be exceeded. To stay within the ram budget, either increase the ram budget or reduce element size\n"
     ]
    },
    {
     "name": "stdout",
     "output_type": "stream",
     "text": [
      "\u001b[1m398/561\u001b[0m \u001b[32m━━━━━━━━━━━━━━\u001b[0m\u001b[37m━━━━━━\u001b[0m \u001b[1m46s\u001b[0m 284ms/step - accuracy: 0.9149 - auc: 0.7956 - f1_score: 0.1403 - loss: 0.4183 - precision: 0.5053 - recall: 0.1014 "
     ]
    },
    {
     "name": "stderr",
     "output_type": "stream",
     "text": [
      "2025-04-23 11:39:29.572884: W tensorflow/core/lib/png/png_io.cc:92] PNG warning: iCCP: profile 'ICC Profile': 'GRAY': Gray color space not permitted on RGB PNG\n"
     ]
    },
    {
     "name": "stdout",
     "output_type": "stream",
     "text": [
      "\u001b[1m561/561\u001b[0m \u001b[32m━━━━━━━━━━━━━━━━━━━━\u001b[0m\u001b[37m\u001b[0m \u001b[1m0s\u001b[0m 266ms/step - accuracy: 0.9147 - auc: 0.7961 - f1_score: 0.1398 - loss: 0.4190 - precision: 0.5040 - recall: 0.1009 "
     ]
    },
    {
     "name": "stderr",
     "output_type": "stream",
     "text": [
      "2025-04-23 11:40:20 - INFO - \n",
      "=== Epoch 88 Summary ===\n",
      "2025-04-23 11:40:20 - INFO - Time: 163.29s\n",
      "2025-04-23 11:40:20 - INFO - Training   - accuracy: 0.9144 - auc: 0.7977 - f1_score: 0.1393 - loss: 0.4206 - precision: 0.5007 - recall: 0.1002 - learning_rate: 0.0000\n",
      "2025-04-23 11:40:20 - INFO - Validation - accuracy: 0.9115 - auc: 0.7422 - f1_score: 0.1164 - loss: 0.5153 - precision: 0.4008 - recall: 0.0801\n",
      "2025-04-23 11:40:20 - INFO - ==================================================\n",
      "\n"
     ]
    },
    {
     "name": "stdout",
     "output_type": "stream",
     "text": [
      "\u001b[1m561/561\u001b[0m \u001b[32m━━━━━━━━━━━━━━━━━━━━\u001b[0m\u001b[37m\u001b[0m \u001b[1m163s\u001b[0m 291ms/step - accuracy: 0.9147 - auc: 0.7961 - f1_score: 0.1398 - loss: 0.4190 - precision: 0.5040 - recall: 0.1009 - val_accuracy: 0.9115 - val_auc: 0.7422 - val_f1_score: 0.1164 - val_loss: 0.5153 - val_precision: 0.4008 - val_recall: 0.0801 - learning_rate: 1.0000e-06\n"
     ]
    },
    {
     "name": "stderr",
     "output_type": "stream",
     "text": [
      "2025-04-23 11:40:20 - INFO - \n",
      "=== Starting Epoch 89 ===\n",
      "\n"
     ]
    },
    {
     "name": "stdout",
     "output_type": "stream",
     "text": [
      "Epoch 89/100\n",
      "\u001b[1m 88/561\u001b[0m \u001b[32m━━━\u001b[0m\u001b[37m━━━━━━━━━━━━━━━━━\u001b[0m \u001b[1m1:36\u001b[0m 204ms/step - accuracy: 0.9141 - auc: 0.7930 - f1_score: 0.1432 - loss: 0.4184 - precision: 0.4929 - recall: 0.1029"
     ]
    },
    {
     "name": "stderr",
     "output_type": "stream",
     "text": [
      "2025-04-23 11:40:41.445342: I tensorflow/core/kernels/data/shuffle_dataset_op.cc:452] ShuffleDatasetV3:13: Filling up shuffle buffer (this may take a while): 11376 of 25000\n",
      "2025-04-23 11:40:53.440252: I tensorflow/core/kernels/data/shuffle_dataset_op.cc:482] Shuffle buffer filled.\n",
      "2025-04-23 11:40:53.552941: W tensorflow/core/kernels/data/prefetch_autotuner.cc:52] Prefetch autotuner tried to allocate 134225408 bytes after encountering the first element of size 134225408 bytes.This already causes the autotune ram budget to be exceeded. To stay within the ram budget, either increase the ram budget or reduce element size\n"
     ]
    },
    {
     "name": "stdout",
     "output_type": "stream",
     "text": [
      "\u001b[1m399/561\u001b[0m \u001b[32m━━━━━━━━━━━━━━\u001b[0m\u001b[37m━━━━━━\u001b[0m \u001b[1m46s\u001b[0m 287ms/step - accuracy: 0.9143 - auc: 0.7956 - f1_score: 0.1410 - loss: 0.4197 - precision: 0.4961 - recall: 0.1012 "
     ]
    },
    {
     "name": "stderr",
     "output_type": "stream",
     "text": [
      "2025-04-23 11:42:14.394453: W tensorflow/core/lib/png/png_io.cc:92] PNG warning: iCCP: profile 'ICC Profile': 'GRAY': Gray color space not permitted on RGB PNG\n"
     ]
    },
    {
     "name": "stdout",
     "output_type": "stream",
     "text": [
      "\u001b[1m561/561\u001b[0m \u001b[32m━━━━━━━━━━━━━━━━━━━━\u001b[0m\u001b[37m\u001b[0m \u001b[1m0s\u001b[0m 269ms/step - accuracy: 0.9143 - auc: 0.7959 - f1_score: 0.1409 - loss: 0.4198 - precision: 0.4965 - recall: 0.1011 "
     ]
    },
    {
     "name": "stderr",
     "output_type": "stream",
     "text": [
      "2025-04-23 11:43:05 - INFO - \n",
      "=== Epoch 89 Summary ===\n",
      "2025-04-23 11:43:05 - INFO - Time: 165.39s\n",
      "2025-04-23 11:43:05 - INFO - Training   - accuracy: 0.9144 - auc: 0.7977 - f1_score: 0.1408 - loss: 0.4199 - precision: 0.4976 - recall: 0.1012 - learning_rate: 0.0000\n",
      "2025-04-23 11:43:05 - INFO - Validation - accuracy: 0.9123 - auc: 0.7443 - f1_score: 0.1248 - loss: 0.5107 - precision: 0.4253 - recall: 0.0836\n",
      "2025-04-23 11:43:05 - INFO - ==================================================\n",
      "\n"
     ]
    },
    {
     "name": "stdout",
     "output_type": "stream",
     "text": [
      "\u001b[1m561/561\u001b[0m \u001b[32m━━━━━━━━━━━━━━━━━━━━\u001b[0m\u001b[37m\u001b[0m \u001b[1m165s\u001b[0m 295ms/step - accuracy: 0.9143 - auc: 0.7960 - f1_score: 0.1409 - loss: 0.4198 - precision: 0.4965 - recall: 0.1011 - val_accuracy: 0.9123 - val_auc: 0.7443 - val_f1_score: 0.1248 - val_loss: 0.5107 - val_precision: 0.4253 - val_recall: 0.0836 - learning_rate: 1.0000e-06\n"
     ]
    },
    {
     "name": "stderr",
     "output_type": "stream",
     "text": [
      "2025-04-23 11:43:05 - INFO - \n",
      "=== Starting Epoch 90 ===\n",
      "\n"
     ]
    },
    {
     "name": "stdout",
     "output_type": "stream",
     "text": [
      "Epoch 90/100\n",
      "\u001b[1m 89/561\u001b[0m \u001b[32m━━━\u001b[0m\u001b[37m━━━━━━━━━━━━━━━━━\u001b[0m \u001b[1m1:36\u001b[0m 205ms/step - accuracy: 0.9137 - auc: 0.8030 - f1_score: 0.1374 - loss: 0.4218 - precision: 0.5062 - recall: 0.1002"
     ]
    },
    {
     "name": "stderr",
     "output_type": "stream",
     "text": [
      "2025-04-23 11:43:27.097447: I tensorflow/core/kernels/data/shuffle_dataset_op.cc:452] ShuffleDatasetV3:13: Filling up shuffle buffer (this may take a while): 11457 of 25000\n",
      "2025-04-23 11:43:39.160885: I tensorflow/core/kernels/data/shuffle_dataset_op.cc:482] Shuffle buffer filled.\n",
      "2025-04-23 11:43:39.268766: W tensorflow/core/kernels/data/prefetch_autotuner.cc:52] Prefetch autotuner tried to allocate 134225408 bytes after encountering the first element of size 134225408 bytes.This already causes the autotune ram budget to be exceeded. To stay within the ram budget, either increase the ram budget or reduce element size\n"
     ]
    },
    {
     "name": "stdout",
     "output_type": "stream",
     "text": [
      "\u001b[1m400/561\u001b[0m \u001b[32m━━━━━━━━━━━━━━\u001b[0m\u001b[37m━━━━━━\u001b[0m \u001b[1m45s\u001b[0m 285ms/step - accuracy: 0.9141 - auc: 0.7994 - f1_score: 0.1402 - loss: 0.4214 - precision: 0.5014 - recall: 0.1012 "
     ]
    },
    {
     "name": "stderr",
     "output_type": "stream",
     "text": [
      "2025-04-23 11:44:59.603978: W tensorflow/core/lib/png/png_io.cc:92] PNG warning: iCCP: profile 'ICC Profile': 'GRAY': Gray color space not permitted on RGB PNG\n"
     ]
    },
    {
     "name": "stdout",
     "output_type": "stream",
     "text": [
      "\u001b[1m561/561\u001b[0m \u001b[32m━━━━━━━━━━━━━━━━━━━━\u001b[0m\u001b[37m\u001b[0m \u001b[1m0s\u001b[0m 268ms/step - accuracy: 0.9142 - auc: 0.7991 - f1_score: 0.1405 - loss: 0.4211 - precision: 0.5011 - recall: 0.1013 "
     ]
    },
    {
     "name": "stderr",
     "output_type": "stream",
     "text": [
      "2025-04-23 11:45:49 - INFO - \n",
      "=== Epoch 90 Summary ===\n",
      "2025-04-23 11:45:49 - INFO - Time: 164.24s\n",
      "2025-04-23 11:45:49 - INFO - Training   - accuracy: 0.9145 - auc: 0.7978 - f1_score: 0.1413 - loss: 0.4205 - precision: 0.5026 - recall: 0.1017 - learning_rate: 0.0000\n",
      "2025-04-23 11:45:49 - INFO - Validation - accuracy: 0.9123 - auc: 0.7408 - f1_score: 0.1160 - loss: 0.5124 - precision: 0.4222 - recall: 0.0798\n",
      "2025-04-23 11:45:49 - INFO - ==================================================\n",
      "\n"
     ]
    },
    {
     "name": "stdout",
     "output_type": "stream",
     "text": [
      "\u001b[1m561/561\u001b[0m \u001b[32m━━━━━━━━━━━━━━━━━━━━\u001b[0m\u001b[37m\u001b[0m \u001b[1m164s\u001b[0m 293ms/step - accuracy: 0.9142 - auc: 0.7991 - f1_score: 0.1405 - loss: 0.4211 - precision: 0.5011 - recall: 0.1013 - val_accuracy: 0.9123 - val_auc: 0.7408 - val_f1_score: 0.1160 - val_loss: 0.5124 - val_precision: 0.4222 - val_recall: 0.0798 - learning_rate: 1.0000e-06\n"
     ]
    },
    {
     "name": "stderr",
     "output_type": "stream",
     "text": [
      "2025-04-23 11:45:49 - INFO - \n",
      "=== Starting Epoch 91 ===\n",
      "\n"
     ]
    },
    {
     "name": "stdout",
     "output_type": "stream",
     "text": [
      "Epoch 91/100\n",
      "\u001b[1m 90/561\u001b[0m \u001b[32m━━━\u001b[0m\u001b[37m━━━━━━━━━━━━━━━━━\u001b[0m \u001b[1m1:36\u001b[0m 205ms/step - accuracy: 0.9141 - auc: 0.8020 - f1_score: 0.1438 - loss: 0.4191 - precision: 0.4930 - recall: 0.1026"
     ]
    },
    {
     "name": "stderr",
     "output_type": "stream",
     "text": [
      "2025-04-23 11:46:11.570289: I tensorflow/core/kernels/data/shuffle_dataset_op.cc:452] ShuffleDatasetV3:13: Filling up shuffle buffer (this may take a while): 11348 of 25000\n",
      "2025-04-23 11:46:23.500201: I tensorflow/core/kernels/data/shuffle_dataset_op.cc:482] Shuffle buffer filled.\n",
      "2025-04-23 11:46:23.617754: W tensorflow/core/kernels/data/prefetch_autotuner.cc:52] Prefetch autotuner tried to allocate 134225408 bytes after encountering the first element of size 134225408 bytes.This already causes the autotune ram budget to be exceeded. To stay within the ram budget, either increase the ram budget or reduce element size\n"
     ]
    },
    {
     "name": "stdout",
     "output_type": "stream",
     "text": [
      "\u001b[1m401/561\u001b[0m \u001b[32m━━━━━━━━━━━━━━\u001b[0m\u001b[37m━━━━━━\u001b[0m \u001b[1m45s\u001b[0m 287ms/step - accuracy: 0.9141 - auc: 0.7996 - f1_score: 0.1402 - loss: 0.4198 - precision: 0.4919 - recall: 0.1007 "
     ]
    },
    {
     "name": "stderr",
     "output_type": "stream",
     "text": [
      "2025-04-23 11:47:44.755289: W tensorflow/core/lib/png/png_io.cc:92] PNG warning: iCCP: profile 'ICC Profile': 'GRAY': Gray color space not permitted on RGB PNG\n"
     ]
    },
    {
     "name": "stdout",
     "output_type": "stream",
     "text": [
      "\u001b[1m561/561\u001b[0m \u001b[32m━━━━━━━━━━━━━━━━━━━━\u001b[0m\u001b[37m\u001b[0m \u001b[1m0s\u001b[0m 269ms/step - accuracy: 0.9140 - auc: 0.7991 - f1_score: 0.1397 - loss: 0.4201 - precision: 0.4918 - recall: 0.1004 "
     ]
    },
    {
     "name": "stderr",
     "output_type": "stream",
     "text": [
      "2025-04-23 11:48:35 - INFO - \n",
      "=== Epoch 91 Summary ===\n",
      "2025-04-23 11:48:35 - INFO - Time: 165.94s\n",
      "2025-04-23 11:48:35 - INFO - Training   - accuracy: 0.9141 - auc: 0.7985 - f1_score: 0.1386 - loss: 0.4207 - precision: 0.4923 - recall: 0.0999 - learning_rate: 0.0000\n",
      "2025-04-23 11:48:35 - INFO - Validation - accuracy: 0.9129 - auc: 0.7432 - f1_score: 0.1256 - loss: 0.5093 - precision: 0.4407 - recall: 0.0853\n",
      "2025-04-23 11:48:35 - INFO - ==================================================\n",
      "\n"
     ]
    },
    {
     "name": "stdout",
     "output_type": "stream",
     "text": [
      "\u001b[1m561/561\u001b[0m \u001b[32m━━━━━━━━━━━━━━━━━━━━\u001b[0m\u001b[37m\u001b[0m \u001b[1m166s\u001b[0m 296ms/step - accuracy: 0.9140 - auc: 0.7991 - f1_score: 0.1397 - loss: 0.4201 - precision: 0.4918 - recall: 0.1004 - val_accuracy: 0.9129 - val_auc: 0.7432 - val_f1_score: 0.1256 - val_loss: 0.5093 - val_precision: 0.4407 - val_recall: 0.0853 - learning_rate: 1.0000e-06\n"
     ]
    },
    {
     "name": "stderr",
     "output_type": "stream",
     "text": [
      "2025-04-23 11:48:35 - INFO - \n",
      "=== Starting Epoch 92 ===\n",
      "\n"
     ]
    },
    {
     "name": "stdout",
     "output_type": "stream",
     "text": [
      "Epoch 92/100\n",
      "\u001b[1m 91/561\u001b[0m \u001b[32m━━━\u001b[0m\u001b[37m━━━━━━━━━━━━━━━━━\u001b[0m \u001b[1m1:36\u001b[0m 205ms/step - accuracy: 0.9142 - auc: 0.8017 - f1_score: 0.1461 - loss: 0.4174 - precision: 0.4981 - recall: 0.1040"
     ]
    },
    {
     "name": "stderr",
     "output_type": "stream",
     "text": [
      "2025-04-23 11:48:57.724459: I tensorflow/core/kernels/data/shuffle_dataset_op.cc:452] ShuffleDatasetV3:13: Filling up shuffle buffer (this may take a while): 11370 of 25000\n",
      "2025-04-23 11:49:09.801456: I tensorflow/core/kernels/data/shuffle_dataset_op.cc:482] Shuffle buffer filled.\n",
      "2025-04-23 11:49:09.912274: W tensorflow/core/kernels/data/prefetch_autotuner.cc:52] Prefetch autotuner tried to allocate 134225408 bytes after encountering the first element of size 134225408 bytes.This already causes the autotune ram budget to be exceeded. To stay within the ram budget, either increase the ram budget or reduce element size\n"
     ]
    },
    {
     "name": "stdout",
     "output_type": "stream",
     "text": [
      "\u001b[1m402/561\u001b[0m \u001b[32m━━━━━━━━━━━━━━\u001b[0m\u001b[37m━━━━━━\u001b[0m \u001b[1m44s\u001b[0m 283ms/step - accuracy: 0.9143 - auc: 0.7998 - f1_score: 0.1436 - loss: 0.4190 - precision: 0.4988 - recall: 0.1031 "
     ]
    },
    {
     "name": "stderr",
     "output_type": "stream",
     "text": [
      "2025-04-23 11:50:29.231475: W tensorflow/core/lib/png/png_io.cc:92] PNG warning: iCCP: profile 'ICC Profile': 'GRAY': Gray color space not permitted on RGB PNG\n"
     ]
    },
    {
     "name": "stdout",
     "output_type": "stream",
     "text": [
      "\u001b[1m561/561\u001b[0m \u001b[32m━━━━━━━━━━━━━━━━━━━━\u001b[0m\u001b[37m\u001b[0m \u001b[1m0s\u001b[0m 266ms/step - accuracy: 0.9143 - auc: 0.7993 - f1_score: 0.1436 - loss: 0.4194 - precision: 0.4989 - recall: 0.1031 "
     ]
    },
    {
     "name": "stderr",
     "output_type": "stream",
     "text": [
      "2025-04-23 11:51:18 - INFO - \n",
      "=== Epoch 92 Summary ===\n",
      "2025-04-23 11:51:18 - INFO - Time: 163.28s\n",
      "2025-04-23 11:51:18 - INFO - Training   - accuracy: 0.9143 - auc: 0.7986 - f1_score: 0.1440 - loss: 0.4198 - precision: 0.4999 - recall: 0.1033 - learning_rate: 0.0000\n",
      "2025-04-23 11:51:18 - INFO - Validation - accuracy: 0.9125 - auc: 0.7432 - f1_score: 0.1214 - loss: 0.5108 - precision: 0.4294 - recall: 0.0827\n",
      "2025-04-23 11:51:18 - INFO - ==================================================\n",
      "\n"
     ]
    },
    {
     "name": "stdout",
     "output_type": "stream",
     "text": [
      "\u001b[1m561/561\u001b[0m \u001b[32m━━━━━━━━━━━━━━━━━━━━\u001b[0m\u001b[37m\u001b[0m \u001b[1m163s\u001b[0m 291ms/step - accuracy: 0.9143 - auc: 0.7993 - f1_score: 0.1436 - loss: 0.4194 - precision: 0.4989 - recall: 0.1031 - val_accuracy: 0.9125 - val_auc: 0.7432 - val_f1_score: 0.1214 - val_loss: 0.5108 - val_precision: 0.4294 - val_recall: 0.0827 - learning_rate: 1.0000e-06\n"
     ]
    },
    {
     "name": "stderr",
     "output_type": "stream",
     "text": [
      "2025-04-23 11:51:18 - INFO - \n",
      "=== Starting Epoch 93 ===\n",
      "\n"
     ]
    },
    {
     "name": "stdout",
     "output_type": "stream",
     "text": [
      "Epoch 93/100\n",
      "\u001b[1m 92/561\u001b[0m \u001b[32m━━━\u001b[0m\u001b[37m━━━━━━━━━━━━━━━━━\u001b[0m \u001b[1m1:36\u001b[0m 205ms/step - accuracy: 0.9155 - auc: 0.8020 - f1_score: 0.1465 - loss: 0.4166 - precision: 0.5198 - recall: 0.1055"
     ]
    },
    {
     "name": "stderr",
     "output_type": "stream",
     "text": [
      "2025-04-23 11:51:41.225853: I tensorflow/core/kernels/data/shuffle_dataset_op.cc:452] ShuffleDatasetV3:13: Filling up shuffle buffer (this may take a while): 11416 of 25000\n",
      "2025-04-23 11:51:51.226496: I tensorflow/core/kernels/data/shuffle_dataset_op.cc:452] ShuffleDatasetV3:13: Filling up shuffle buffer (this may take a while): 22772 of 25000\n",
      "2025-04-23 11:51:53.159946: I tensorflow/core/kernels/data/shuffle_dataset_op.cc:482] Shuffle buffer filled.\n",
      "2025-04-23 11:51:53.270850: W tensorflow/core/kernels/data/prefetch_autotuner.cc:52] Prefetch autotuner tried to allocate 134225408 bytes after encountering the first element of size 134225408 bytes.This already causes the autotune ram budget to be exceeded. To stay within the ram budget, either increase the ram budget or reduce element size\n"
     ]
    },
    {
     "name": "stdout",
     "output_type": "stream",
     "text": [
      "\u001b[1m403/561\u001b[0m \u001b[32m━━━━━━━━━━━━━━\u001b[0m\u001b[37m━━━━━━\u001b[0m \u001b[1m45s\u001b[0m 286ms/step - accuracy: 0.9149 - auc: 0.7995 - f1_score: 0.1463 - loss: 0.4197 - precision: 0.5112 - recall: 0.1057 "
     ]
    },
    {
     "name": "stderr",
     "output_type": "stream",
     "text": [
      "2025-04-23 11:53:14.053163: W tensorflow/core/lib/png/png_io.cc:92] PNG warning: iCCP: profile 'ICC Profile': 'GRAY': Gray color space not permitted on RGB PNG\n"
     ]
    },
    {
     "name": "stdout",
     "output_type": "stream",
     "text": [
      "\u001b[1m561/561\u001b[0m \u001b[32m━━━━━━━━━━━━━━━━━━━━\u001b[0m\u001b[37m\u001b[0m \u001b[1m0s\u001b[0m 269ms/step - accuracy: 0.9148 - auc: 0.7994 - f1_score: 0.1458 - loss: 0.4198 - precision: 0.5094 - recall: 0.1053 "
     ]
    },
    {
     "name": "stderr",
     "output_type": "stream",
     "text": [
      "2025-04-23 11:54:04 - INFO - \n",
      "=== Epoch 93 Summary ===\n",
      "2025-04-23 11:54:04 - INFO - Time: 165.31s\n",
      "2025-04-23 11:54:04 - INFO - Training   - accuracy: 0.9146 - auc: 0.7996 - f1_score: 0.1441 - loss: 0.4190 - precision: 0.5048 - recall: 0.1042 - learning_rate: 0.0000\n",
      "2025-04-23 11:54:04 - INFO - Validation - accuracy: 0.9112 - auc: 0.7426 - f1_score: 0.1275 - loss: 0.5152 - precision: 0.4021 - recall: 0.0880\n",
      "2025-04-23 11:54:04 - INFO - ==================================================\n",
      "\n"
     ]
    },
    {
     "name": "stdout",
     "output_type": "stream",
     "text": [
      "\u001b[1m561/561\u001b[0m \u001b[32m━━━━━━━━━━━━━━━━━━━━\u001b[0m\u001b[37m\u001b[0m \u001b[1m165s\u001b[0m 295ms/step - accuracy: 0.9148 - auc: 0.7994 - f1_score: 0.1458 - loss: 0.4198 - precision: 0.5094 - recall: 0.1053 - val_accuracy: 0.9112 - val_auc: 0.7426 - val_f1_score: 0.1275 - val_loss: 0.5152 - val_precision: 0.4021 - val_recall: 0.0880 - learning_rate: 1.0000e-06\n"
     ]
    },
    {
     "name": "stderr",
     "output_type": "stream",
     "text": [
      "2025-04-23 11:54:04 - INFO - \n",
      "=== Starting Epoch 94 ===\n",
      "\n"
     ]
    },
    {
     "name": "stdout",
     "output_type": "stream",
     "text": [
      "Epoch 94/100\n",
      "\u001b[1m 93/561\u001b[0m \u001b[32m━━━\u001b[0m\u001b[37m━━━━━━━━━━━━━━━━━\u001b[0m \u001b[1m1:35\u001b[0m 205ms/step - accuracy: 0.9138 - auc: 0.8029 - f1_score: 0.1418 - loss: 0.4255 - precision: 0.4807 - recall: 0.1035"
     ]
    },
    {
     "name": "stderr",
     "output_type": "stream",
     "text": [
      "2025-04-23 11:54:26.775589: I tensorflow/core/kernels/data/shuffle_dataset_op.cc:452] ShuffleDatasetV3:13: Filling up shuffle buffer (this may take a while): 11431 of 25000\n",
      "2025-04-23 11:54:36.777141: I tensorflow/core/kernels/data/shuffle_dataset_op.cc:452] ShuffleDatasetV3:13: Filling up shuffle buffer (this may take a while): 22727 of 25000\n",
      "2025-04-23 11:54:38.741770: I tensorflow/core/kernels/data/shuffle_dataset_op.cc:482] Shuffle buffer filled.\n",
      "2025-04-23 11:54:38.855675: W tensorflow/core/kernels/data/prefetch_autotuner.cc:52] Prefetch autotuner tried to allocate 134225408 bytes after encountering the first element of size 134225408 bytes.This already causes the autotune ram budget to be exceeded. To stay within the ram budget, either increase the ram budget or reduce element size\n"
     ]
    },
    {
     "name": "stdout",
     "output_type": "stream",
     "text": [
      "\u001b[1m404/561\u001b[0m \u001b[32m━━━━━━━━━━━━━━\u001b[0m\u001b[37m━━━━━━\u001b[0m \u001b[1m44s\u001b[0m 284ms/step - accuracy: 0.9137 - auc: 0.7983 - f1_score: 0.1430 - loss: 0.4227 - precision: 0.4895 - recall: 0.1036 "
     ]
    },
    {
     "name": "stderr",
     "output_type": "stream",
     "text": [
      "2025-04-23 11:55:59.181360: W tensorflow/core/lib/png/png_io.cc:92] PNG warning: iCCP: profile 'ICC Profile': 'GRAY': Gray color space not permitted on RGB PNG\n"
     ]
    },
    {
     "name": "stdout",
     "output_type": "stream",
     "text": [
      "\u001b[1m561/561\u001b[0m \u001b[32m━━━━━━━━━━━━━━━━━━━━\u001b[0m\u001b[37m\u001b[0m \u001b[1m0s\u001b[0m 268ms/step - accuracy: 0.9137 - auc: 0.7983 - f1_score: 0.1430 - loss: 0.4220 - precision: 0.4905 - recall: 0.1035 "
     ]
    },
    {
     "name": "stderr",
     "output_type": "stream",
     "text": [
      "2025-04-23 11:56:48 - INFO - \n",
      "=== Epoch 94 Summary ===\n",
      "2025-04-23 11:56:48 - INFO - Time: 164.13s\n",
      "2025-04-23 11:56:48 - INFO - Training   - accuracy: 0.9141 - auc: 0.7989 - f1_score: 0.1432 - loss: 0.4199 - precision: 0.4938 - recall: 0.1036 - learning_rate: 0.0000\n",
      "2025-04-23 11:56:48 - INFO - Validation - accuracy: 0.9123 - auc: 0.7413 - f1_score: 0.1156 - loss: 0.5115 - precision: 0.4217 - recall: 0.0807\n",
      "2025-04-23 11:56:48 - INFO - ==================================================\n",
      "\n"
     ]
    },
    {
     "name": "stdout",
     "output_type": "stream",
     "text": [
      "\u001b[1m561/561\u001b[0m \u001b[32m━━━━━━━━━━━━━━━━━━━━\u001b[0m\u001b[37m\u001b[0m \u001b[1m164s\u001b[0m 293ms/step - accuracy: 0.9137 - auc: 0.7983 - f1_score: 0.1430 - loss: 0.4220 - precision: 0.4905 - recall: 0.1035 - val_accuracy: 0.9123 - val_auc: 0.7413 - val_f1_score: 0.1156 - val_loss: 0.5115 - val_precision: 0.4217 - val_recall: 0.0807 - learning_rate: 1.0000e-06\n"
     ]
    },
    {
     "name": "stderr",
     "output_type": "stream",
     "text": [
      "2025-04-23 11:56:48 - INFO - \n",
      "=== Starting Epoch 95 ===\n",
      "\n"
     ]
    },
    {
     "name": "stdout",
     "output_type": "stream",
     "text": [
      "Epoch 95/100\n",
      "\u001b[1m 94/561\u001b[0m \u001b[32m━━━\u001b[0m\u001b[37m━━━━━━━━━━━━━━━━━\u001b[0m \u001b[1m1:35\u001b[0m 205ms/step - accuracy: 0.9150 - auc: 0.7937 - f1_score: 0.1473 - loss: 0.4192 - precision: 0.5126 - recall: 0.1071"
     ]
    },
    {
     "name": "stderr",
     "output_type": "stream",
     "text": [
      "2025-04-23 11:57:11.139478: I tensorflow/core/kernels/data/shuffle_dataset_op.cc:452] ShuffleDatasetV3:13: Filling up shuffle buffer (this may take a while): 11359 of 25000\n",
      "2025-04-23 11:57:21.140236: I tensorflow/core/kernels/data/shuffle_dataset_op.cc:452] ShuffleDatasetV3:13: Filling up shuffle buffer (this may take a while): 22793 of 25000\n",
      "2025-04-23 11:57:23.048461: I tensorflow/core/kernels/data/shuffle_dataset_op.cc:482] Shuffle buffer filled.\n",
      "2025-04-23 11:57:23.162268: W tensorflow/core/kernels/data/prefetch_autotuner.cc:52] Prefetch autotuner tried to allocate 134225408 bytes after encountering the first element of size 134225408 bytes.This already causes the autotune ram budget to be exceeded. To stay within the ram budget, either increase the ram budget or reduce element size\n"
     ]
    },
    {
     "name": "stdout",
     "output_type": "stream",
     "text": [
      "\u001b[1m405/561\u001b[0m \u001b[32m━━━━━━━━━━━━━━\u001b[0m\u001b[37m━━━━━━\u001b[0m \u001b[1m44s\u001b[0m 286ms/step - accuracy: 0.9146 - auc: 0.7969 - f1_score: 0.1439 - loss: 0.4198 - precision: 0.5025 - recall: 0.1040 "
     ]
    },
    {
     "name": "stderr",
     "output_type": "stream",
     "text": [
      "2025-04-23 11:58:44.353319: W tensorflow/core/lib/png/png_io.cc:92] PNG warning: iCCP: profile 'ICC Profile': 'GRAY': Gray color space not permitted on RGB PNG\n"
     ]
    },
    {
     "name": "stdout",
     "output_type": "stream",
     "text": [
      "\u001b[1m561/561\u001b[0m \u001b[32m━━━━━━━━━━━━━━━━━━━━\u001b[0m\u001b[37m\u001b[0m \u001b[1m0s\u001b[0m 269ms/step - accuracy: 0.9145 - auc: 0.7975 - f1_score: 0.1433 - loss: 0.4199 - precision: 0.5001 - recall: 0.1036 "
     ]
    },
    {
     "name": "stderr",
     "output_type": "stream",
     "text": [
      "2025-04-23 11:59:33 - INFO - \n",
      "=== Epoch 95 Summary ===\n",
      "2025-04-23 11:59:33 - INFO - Time: 164.93s\n",
      "2025-04-23 11:59:33 - INFO - Training   - accuracy: 0.9142 - auc: 0.8000 - f1_score: 0.1423 - loss: 0.4197 - precision: 0.4956 - recall: 0.1030 - learning_rate: 0.0000\n",
      "2025-04-23 11:59:33 - INFO - Validation - accuracy: 0.9127 - auc: 0.7446 - f1_score: 0.1234 - loss: 0.5107 - precision: 0.4340 - recall: 0.0843\n",
      "2025-04-23 11:59:33 - INFO - ==================================================\n",
      "\n"
     ]
    },
    {
     "name": "stdout",
     "output_type": "stream",
     "text": [
      "\u001b[1m561/561\u001b[0m \u001b[32m━━━━━━━━━━━━━━━━━━━━\u001b[0m\u001b[37m\u001b[0m \u001b[1m165s\u001b[0m 294ms/step - accuracy: 0.9145 - auc: 0.7975 - f1_score: 0.1433 - loss: 0.4199 - precision: 0.5001 - recall: 0.1036 - val_accuracy: 0.9127 - val_auc: 0.7446 - val_f1_score: 0.1234 - val_loss: 0.5107 - val_precision: 0.4340 - val_recall: 0.0843 - learning_rate: 1.0000e-06\n"
     ]
    },
    {
     "name": "stderr",
     "output_type": "stream",
     "text": [
      "2025-04-23 11:59:33 - INFO - \n",
      "=== Starting Epoch 96 ===\n",
      "\n"
     ]
    },
    {
     "name": "stdout",
     "output_type": "stream",
     "text": [
      "Epoch 96/100\n",
      "\u001b[1m 95/561\u001b[0m \u001b[32m━━━\u001b[0m\u001b[37m━━━━━━━━━━━━━━━━━\u001b[0m \u001b[1m1:35\u001b[0m 204ms/step - accuracy: 0.9148 - auc: 0.7940 - f1_score: 0.1418 - loss: 0.4159 - precision: 0.5010 - recall: 0.1025"
     ]
    },
    {
     "name": "stderr",
     "output_type": "stream",
     "text": [
      "2025-04-23 11:59:56.254003: I tensorflow/core/kernels/data/shuffle_dataset_op.cc:452] ShuffleDatasetV3:13: Filling up shuffle buffer (this may take a while): 11280 of 25000\n",
      "2025-04-23 12:00:08.230580: I tensorflow/core/kernels/data/shuffle_dataset_op.cc:482] Shuffle buffer filled.\n",
      "2025-04-23 12:00:08.341419: W tensorflow/core/kernels/data/prefetch_autotuner.cc:52] Prefetch autotuner tried to allocate 134225408 bytes after encountering the first element of size 134225408 bytes.This already causes the autotune ram budget to be exceeded. To stay within the ram budget, either increase the ram budget or reduce element size\n"
     ]
    },
    {
     "name": "stdout",
     "output_type": "stream",
     "text": [
      "\u001b[1m406/561\u001b[0m \u001b[32m━━━━━━━━━━━━━━\u001b[0m\u001b[37m━━━━━━\u001b[0m \u001b[1m43s\u001b[0m 282ms/step - accuracy: 0.9146 - auc: 0.7982 - f1_score: 0.1426 - loss: 0.4165 - precision: 0.5008 - recall: 0.1028 "
     ]
    },
    {
     "name": "stderr",
     "output_type": "stream",
     "text": [
      "2025-04-23 12:01:27.761156: W tensorflow/core/lib/png/png_io.cc:92] PNG warning: iCCP: profile 'ICC Profile': 'GRAY': Gray color space not permitted on RGB PNG\n"
     ]
    },
    {
     "name": "stdout",
     "output_type": "stream",
     "text": [
      "\u001b[1m561/561\u001b[0m \u001b[32m━━━━━━━━━━━━━━━━━━━━\u001b[0m\u001b[37m\u001b[0m \u001b[1m0s\u001b[0m 266ms/step - accuracy: 0.9146 - auc: 0.7987 - f1_score: 0.1428 - loss: 0.4166 - precision: 0.5015 - recall: 0.1029 "
     ]
    },
    {
     "name": "stderr",
     "output_type": "stream",
     "text": [
      "2025-04-23 12:02:16 - INFO - \n",
      "=== Epoch 96 Summary ===\n",
      "2025-04-23 12:02:16 - INFO - Time: 163.18s\n",
      "2025-04-23 12:02:16 - INFO - Training   - accuracy: 0.9146 - auc: 0.8008 - f1_score: 0.1437 - loss: 0.4177 - precision: 0.5039 - recall: 0.1035 - learning_rate: 0.0000\n",
      "2025-04-23 12:02:16 - INFO - Validation - accuracy: 0.9115 - auc: 0.7428 - f1_score: 0.1046 - loss: 0.5154 - precision: 0.3953 - recall: 0.0749\n",
      "2025-04-23 12:02:16 - INFO - ==================================================\n",
      "\n"
     ]
    },
    {
     "name": "stdout",
     "output_type": "stream",
     "text": [
      "\u001b[1m561/561\u001b[0m \u001b[32m━━━━━━━━━━━━━━━━━━━━\u001b[0m\u001b[37m\u001b[0m \u001b[1m163s\u001b[0m 291ms/step - accuracy: 0.9146 - auc: 0.7987 - f1_score: 0.1428 - loss: 0.4166 - precision: 0.5015 - recall: 0.1029 - val_accuracy: 0.9115 - val_auc: 0.7428 - val_f1_score: 0.1046 - val_loss: 0.5154 - val_precision: 0.3953 - val_recall: 0.0749 - learning_rate: 1.0000e-06\n"
     ]
    },
    {
     "name": "stderr",
     "output_type": "stream",
     "text": [
      "2025-04-23 12:02:16 - INFO - \n",
      "=== Starting Epoch 97 ===\n",
      "\n"
     ]
    },
    {
     "name": "stdout",
     "output_type": "stream",
     "text": [
      "Epoch 97/100\n",
      "\u001b[1m 96/561\u001b[0m \u001b[32m━━━\u001b[0m\u001b[37m━━━━━━━━━━━━━━━━━\u001b[0m \u001b[1m1:35\u001b[0m 205ms/step - accuracy: 0.9132 - auc: 0.8044 - f1_score: 0.1386 - loss: 0.4200 - precision: 0.4905 - recall: 0.0992"
     ]
    },
    {
     "name": "stderr",
     "output_type": "stream",
     "text": [
      "2025-04-23 12:02:39.659212: I tensorflow/core/kernels/data/shuffle_dataset_op.cc:452] ShuffleDatasetV3:13: Filling up shuffle buffer (this may take a while): 11346 of 25000\n",
      "2025-04-23 12:02:51.615273: I tensorflow/core/kernels/data/shuffle_dataset_op.cc:482] Shuffle buffer filled.\n",
      "2025-04-23 12:02:51.726952: W tensorflow/core/kernels/data/prefetch_autotuner.cc:52] Prefetch autotuner tried to allocate 134225408 bytes after encountering the first element of size 134225408 bytes.This already causes the autotune ram budget to be exceeded. To stay within the ram budget, either increase the ram budget or reduce element size\n"
     ]
    },
    {
     "name": "stdout",
     "output_type": "stream",
     "text": [
      "\u001b[1m407/561\u001b[0m \u001b[32m━━━━━━━━━━━━━━\u001b[0m\u001b[37m━━━━━━\u001b[0m \u001b[1m43s\u001b[0m 285ms/step - accuracy: 0.9142 - auc: 0.8022 - f1_score: 0.1427 - loss: 0.4183 - precision: 0.5015 - recall: 0.1028 "
     ]
    },
    {
     "name": "stderr",
     "output_type": "stream",
     "text": [
      "2025-04-23 12:04:12.740903: W tensorflow/core/lib/png/png_io.cc:92] PNG warning: iCCP: profile 'ICC Profile': 'GRAY': Gray color space not permitted on RGB PNG\n"
     ]
    },
    {
     "name": "stdout",
     "output_type": "stream",
     "text": [
      "\u001b[1m561/561\u001b[0m \u001b[32m━━━━━━━━━━━━━━━━━━━━\u001b[0m\u001b[37m\u001b[0m \u001b[1m0s\u001b[0m 269ms/step - accuracy: 0.9143 - auc: 0.8020 - f1_score: 0.1428 - loss: 0.4184 - precision: 0.5025 - recall: 0.1030 "
     ]
    },
    {
     "name": "stderr",
     "output_type": "stream",
     "text": [
      "2025-04-23 12:05:01 - INFO - \n",
      "=== Epoch 97 Summary ===\n",
      "2025-04-23 12:05:01 - INFO - Time: 164.78s\n",
      "2025-04-23 12:05:01 - INFO - Training   - accuracy: 0.9145 - auc: 0.8012 - f1_score: 0.1431 - loss: 0.4184 - precision: 0.5037 - recall: 0.1036 - learning_rate: 0.0000\n",
      "2025-04-23 12:05:01 - INFO - Validation - accuracy: 0.9134 - auc: 0.7419 - f1_score: 0.1195 - loss: 0.5092 - precision: 0.4524 - recall: 0.0802\n",
      "2025-04-23 12:05:01 - INFO - ==================================================\n",
      "\n"
     ]
    },
    {
     "name": "stdout",
     "output_type": "stream",
     "text": [
      "\u001b[1m561/561\u001b[0m \u001b[32m━━━━━━━━━━━━━━━━━━━━\u001b[0m\u001b[37m\u001b[0m \u001b[1m165s\u001b[0m 294ms/step - accuracy: 0.9143 - auc: 0.8020 - f1_score: 0.1428 - loss: 0.4184 - precision: 0.5025 - recall: 0.1030 - val_accuracy: 0.9134 - val_auc: 0.7419 - val_f1_score: 0.1195 - val_loss: 0.5092 - val_precision: 0.4524 - val_recall: 0.0802 - learning_rate: 1.0000e-06\n"
     ]
    },
    {
     "name": "stderr",
     "output_type": "stream",
     "text": [
      "2025-04-23 12:05:01 - INFO - \n",
      "=== Starting Epoch 98 ===\n",
      "\n"
     ]
    },
    {
     "name": "stdout",
     "output_type": "stream",
     "text": [
      "Epoch 98/100\n",
      "\u001b[1m 97/561\u001b[0m \u001b[32m━━━\u001b[0m\u001b[37m━━━━━━━━━━━━━━━━━\u001b[0m \u001b[1m1:35\u001b[0m 205ms/step - accuracy: 0.9142 - auc: 0.8014 - f1_score: 0.1441 - loss: 0.4152 - precision: 0.5103 - recall: 0.1047"
     ]
    },
    {
     "name": "stderr",
     "output_type": "stream",
     "text": [
      "2025-04-23 12:05:24.658681: I tensorflow/core/kernels/data/shuffle_dataset_op.cc:452] ShuffleDatasetV3:13: Filling up shuffle buffer (this may take a while): 11405 of 25000\n",
      "2025-04-23 12:05:36.504965: I tensorflow/core/kernels/data/shuffle_dataset_op.cc:482] Shuffle buffer filled.\n",
      "2025-04-23 12:05:36.614445: W tensorflow/core/kernels/data/prefetch_autotuner.cc:52] Prefetch autotuner tried to allocate 134225408 bytes after encountering the first element of size 134225408 bytes.This already causes the autotune ram budget to be exceeded. To stay within the ram budget, either increase the ram budget or reduce element size\n"
     ]
    },
    {
     "name": "stdout",
     "output_type": "stream",
     "text": [
      "\u001b[1m408/561\u001b[0m \u001b[32m━━━━━━━━━━━━━━\u001b[0m\u001b[37m━━━━━━\u001b[0m \u001b[1m43s\u001b[0m 284ms/step - accuracy: 0.9142 - auc: 0.8010 - f1_score: 0.1449 - loss: 0.4179 - precision: 0.5031 - recall: 0.1053 "
     ]
    },
    {
     "name": "stderr",
     "output_type": "stream",
     "text": [
      "2025-04-23 12:06:57.182105: W tensorflow/core/lib/png/png_io.cc:92] PNG warning: iCCP: profile 'ICC Profile': 'GRAY': Gray color space not permitted on RGB PNG\n"
     ]
    },
    {
     "name": "stdout",
     "output_type": "stream",
     "text": [
      "\u001b[1m561/561\u001b[0m \u001b[32m━━━━━━━━━━━━━━━━━━━━\u001b[0m\u001b[37m\u001b[0m \u001b[1m0s\u001b[0m 268ms/step - accuracy: 0.9142 - auc: 0.8011 - f1_score: 0.1448 - loss: 0.4180 - precision: 0.5021 - recall: 0.1052 "
     ]
    },
    {
     "name": "stderr",
     "output_type": "stream",
     "text": [
      "2025-04-23 12:07:46 - INFO - \n",
      "=== Epoch 98 Summary ===\n",
      "2025-04-23 12:07:46 - INFO - Time: 164.90s\n",
      "2025-04-23 12:07:46 - INFO - Training   - accuracy: 0.9144 - auc: 0.8018 - f1_score: 0.1450 - loss: 0.4177 - precision: 0.5016 - recall: 0.1050 - learning_rate: 0.0000\n",
      "2025-04-23 12:07:46 - INFO - Validation - accuracy: 0.9132 - auc: 0.7444 - f1_score: 0.1338 - loss: 0.5079 - precision: 0.4510 - recall: 0.0898\n",
      "2025-04-23 12:07:46 - INFO - ==================================================\n",
      "\n"
     ]
    },
    {
     "name": "stdout",
     "output_type": "stream",
     "text": [
      "\u001b[1m561/561\u001b[0m \u001b[32m━━━━━━━━━━━━━━━━━━━━\u001b[0m\u001b[37m\u001b[0m \u001b[1m165s\u001b[0m 294ms/step - accuracy: 0.9142 - auc: 0.8011 - f1_score: 0.1448 - loss: 0.4180 - precision: 0.5021 - recall: 0.1052 - val_accuracy: 0.9132 - val_auc: 0.7444 - val_f1_score: 0.1338 - val_loss: 0.5079 - val_precision: 0.4510 - val_recall: 0.0898 - learning_rate: 1.0000e-06\n"
     ]
    },
    {
     "name": "stderr",
     "output_type": "stream",
     "text": [
      "2025-04-23 12:07:46 - INFO - \n",
      "=== Starting Epoch 99 ===\n",
      "\n"
     ]
    },
    {
     "name": "stdout",
     "output_type": "stream",
     "text": [
      "Epoch 99/100\n",
      "\u001b[1m 98/561\u001b[0m \u001b[32m━━━\u001b[0m\u001b[37m━━━━━━━━━━━━━━━━━\u001b[0m \u001b[1m1:34\u001b[0m 205ms/step - accuracy: 0.9148 - auc: 0.7978 - f1_score: 0.1496 - loss: 0.4160 - precision: 0.5044 - recall: 0.1080"
     ]
    },
    {
     "name": "stderr",
     "output_type": "stream",
     "text": [
      "2025-04-23 12:08:09.822059: I tensorflow/core/kernels/data/shuffle_dataset_op.cc:452] ShuffleDatasetV3:13: Filling up shuffle buffer (this may take a while): 11410 of 25000\n",
      "2025-04-23 12:08:21.741001: I tensorflow/core/kernels/data/shuffle_dataset_op.cc:482] Shuffle buffer filled.\n",
      "2025-04-23 12:08:21.855047: W tensorflow/core/kernels/data/prefetch_autotuner.cc:52] Prefetch autotuner tried to allocate 134225408 bytes after encountering the first element of size 134225408 bytes.This already causes the autotune ram budget to be exceeded. To stay within the ram budget, either increase the ram budget or reduce element size\n"
     ]
    },
    {
     "name": "stdout",
     "output_type": "stream",
     "text": [
      "\u001b[1m409/561\u001b[0m \u001b[32m━━━━━━━━━━━━━━\u001b[0m\u001b[37m━━━━━━\u001b[0m \u001b[1m43s\u001b[0m 286ms/step - accuracy: 0.9147 - auc: 0.7992 - f1_score: 0.1485 - loss: 0.4170 - precision: 0.5077 - recall: 0.1070 "
     ]
    },
    {
     "name": "stderr",
     "output_type": "stream",
     "text": [
      "2025-04-23 12:09:43.097280: W tensorflow/core/lib/png/png_io.cc:92] PNG warning: iCCP: profile 'ICC Profile': 'GRAY': Gray color space not permitted on RGB PNG\n"
     ]
    },
    {
     "name": "stdout",
     "output_type": "stream",
     "text": [
      "\u001b[1m561/561\u001b[0m \u001b[32m━━━━━━━━━━━━━━━━━━━━\u001b[0m\u001b[37m\u001b[0m \u001b[1m0s\u001b[0m 269ms/step - accuracy: 0.9147 - auc: 0.7993 - f1_score: 0.1483 - loss: 0.4171 - precision: 0.5074 - recall: 0.1070 "
     ]
    },
    {
     "name": "stderr",
     "output_type": "stream",
     "text": [
      "2025-04-23 12:10:31 - INFO - \n",
      "=== Epoch 99 Summary ===\n",
      "2025-04-23 12:10:31 - INFO - Time: 164.99s\n",
      "2025-04-23 12:10:31 - INFO - Training   - accuracy: 0.9147 - auc: 0.8004 - f1_score: 0.1481 - loss: 0.4171 - precision: 0.5075 - recall: 0.1072 - learning_rate: 0.0000\n",
      "2025-04-23 12:10:31 - INFO - Validation - accuracy: 0.9119 - auc: 0.7417 - f1_score: 0.1157 - loss: 0.5124 - precision: 0.4115 - recall: 0.0792\n",
      "2025-04-23 12:10:31 - INFO - ==================================================\n",
      "\n"
     ]
    },
    {
     "name": "stdout",
     "output_type": "stream",
     "text": [
      "\u001b[1m561/561\u001b[0m \u001b[32m━━━━━━━━━━━━━━━━━━━━\u001b[0m\u001b[37m\u001b[0m \u001b[1m165s\u001b[0m 294ms/step - accuracy: 0.9147 - auc: 0.7993 - f1_score: 0.1483 - loss: 0.4171 - precision: 0.5074 - recall: 0.1070 - val_accuracy: 0.9119 - val_auc: 0.7417 - val_f1_score: 0.1157 - val_loss: 0.5124 - val_precision: 0.4115 - val_recall: 0.0792 - learning_rate: 1.0000e-06\n"
     ]
    },
    {
     "name": "stderr",
     "output_type": "stream",
     "text": [
      "2025-04-23 12:10:31 - INFO - \n",
      "=== Starting Epoch 100 ===\n",
      "\n"
     ]
    },
    {
     "name": "stdout",
     "output_type": "stream",
     "text": [
      "Epoch 100/100\n",
      "\u001b[1m 99/561\u001b[0m \u001b[32m━━━\u001b[0m\u001b[37m━━━━━━━━━━━━━━━━━\u001b[0m \u001b[1m1:34\u001b[0m 205ms/step - accuracy: 0.9138 - auc: 0.7935 - f1_score: 0.1453 - loss: 0.4228 - precision: 0.5041 - recall: 0.1027"
     ]
    },
    {
     "name": "stderr",
     "output_type": "stream",
     "text": [
      "2025-04-23 12:10:55.035082: I tensorflow/core/kernels/data/shuffle_dataset_op.cc:452] ShuffleDatasetV3:13: Filling up shuffle buffer (this may take a while): 11409 of 25000\n",
      "2025-04-23 12:11:05.035666: I tensorflow/core/kernels/data/shuffle_dataset_op.cc:452] ShuffleDatasetV3:13: Filling up shuffle buffer (this may take a while): 22782 of 25000\n",
      "2025-04-23 12:11:06.970531: I tensorflow/core/kernels/data/shuffle_dataset_op.cc:482] Shuffle buffer filled.\n",
      "2025-04-23 12:11:07.081447: W tensorflow/core/kernels/data/prefetch_autotuner.cc:52] Prefetch autotuner tried to allocate 134225408 bytes after encountering the first element of size 134225408 bytes.This already causes the autotune ram budget to be exceeded. To stay within the ram budget, either increase the ram budget or reduce element size\n"
     ]
    },
    {
     "name": "stdout",
     "output_type": "stream",
     "text": [
      "\u001b[1m410/561\u001b[0m \u001b[32m━━━━━━━━━━━━━━\u001b[0m\u001b[37m━━━━━━\u001b[0m \u001b[1m42s\u001b[0m 281ms/step - accuracy: 0.9142 - auc: 0.8015 - f1_score: 0.1477 - loss: 0.4191 - precision: 0.5050 - recall: 0.1056 "
     ]
    },
    {
     "name": "stderr",
     "output_type": "stream",
     "text": [
      "2025-04-23 12:12:26.554812: W tensorflow/core/lib/png/png_io.cc:92] PNG warning: iCCP: profile 'ICC Profile': 'GRAY': Gray color space not permitted on RGB PNG\n"
     ]
    },
    {
     "name": "stdout",
     "output_type": "stream",
     "text": [
      "\u001b[1m561/561\u001b[0m \u001b[32m━━━━━━━━━━━━━━━━━━━━\u001b[0m\u001b[37m\u001b[0m \u001b[1m0s\u001b[0m 266ms/step - accuracy: 0.9142 - auc: 0.8016 - f1_score: 0.1479 - loss: 0.4187 - precision: 0.5053 - recall: 0.1061 "
     ]
    },
    {
     "name": "stderr",
     "output_type": "stream",
     "text": [
      "2025-04-23 12:13:14 - INFO - \n",
      "=== Epoch 100 Summary ===\n",
      "2025-04-23 12:13:14 - INFO - Time: 163.18s\n",
      "2025-04-23 12:13:14 - INFO - Training   - accuracy: 0.9145 - auc: 0.8025 - f1_score: 0.1477 - loss: 0.4176 - precision: 0.5049 - recall: 0.1070 - learning_rate: 0.0000\n",
      "2025-04-23 12:13:14 - INFO - Validation - accuracy: 0.9116 - auc: 0.7407 - f1_score: 0.1185 - loss: 0.5125 - precision: 0.4080 - recall: 0.0834\n",
      "2025-04-23 12:13:14 - INFO - ==================================================\n",
      "\n"
     ]
    },
    {
     "name": "stdout",
     "output_type": "stream",
     "text": [
      "\u001b[1m561/561\u001b[0m \u001b[32m━━━━━━━━━━━━━━━━━━━━\u001b[0m\u001b[37m\u001b[0m \u001b[1m163s\u001b[0m 291ms/step - accuracy: 0.9142 - auc: 0.8016 - f1_score: 0.1479 - loss: 0.4187 - precision: 0.5053 - recall: 0.1061 - val_accuracy: 0.9116 - val_auc: 0.7407 - val_f1_score: 0.1185 - val_loss: 0.5125 - val_precision: 0.4080 - val_recall: 0.0834 - learning_rate: 1.0000e-06\n"
     ]
    },
    {
     "name": "stderr",
     "output_type": "stream",
     "text": [
      "2025-04-23 12:13:14 - INFO - \n",
      "=== Training Completed! ===\n",
      "\n",
      "2025-04-23 12:13:14 - INFO - Final Metrics: accuracy: 0.9145 - auc: 0.8025 - f1_score: 0.1477 - loss: 0.4176 - precision: 0.5049 - recall: 0.1070 - val_accuracy: 0.9116 - val_auc: 0.7407 - val_f1_score: 0.1185 - val_loss: 0.5125 - val_precision: 0.4080 - val_recall: 0.0834\n",
      "\n"
     ]
    },
    {
     "name": "stdout",
     "output_type": "stream",
     "text": [
      "Restoring model weights from the end of the best epoch: 98.\n"
     ]
    }
   ],
   "source": [
    "# Model Training\n",
    "model          = build_densenet121(num_classes)\n",
    "optimizer      = Adam(learning_rate=1e-4)\n",
    "compile_kwargs = {'optimizer': optimizer, 'loss': loss, 'metrics': metrics}\n",
    "\n",
    "history, model = start_or_resume_training(\n",
    "    model, \n",
    "    compile_kwargs, \n",
    "    train_ds, \n",
    "    val_ds, \n",
    "    TF_MAX_EPOCHS,\n",
    "    steps_per_epoch, \n",
    "    validation_steps, \n",
    "    class_weights=class_weights,\n",
    "    callbacks=[checkpoint, best_checkpoint, reduce_lr, training_logger, metrics_monitor, early_stopping], \n",
    "    checkpoint_path=checkpoint_path,\n",
    "    initial_epoch=initial_epoch,\n",
    "    output_dir=MODELS_PATH,\n",
    "    model_name=model_name,\n",
    "    logger=logger\n",
    ")"
   ]
  },
  {
   "cell_type": "code",
   "execution_count": null,
   "id": "6e94c314-2833-40ae-a3e6-d21265deb2c1",
   "metadata": {},
   "outputs": [],
   "source": []
  },
  {
   "cell_type": "code",
   "execution_count": null,
   "id": "aeafcdc5-ec72-43b9-8b62-60426278f7aa",
   "metadata": {},
   "outputs": [],
   "source": []
  },
  {
   "cell_type": "code",
   "execution_count": null,
   "id": "afec170c-fc49-4ba7-adee-5f4cade8a6bb",
   "metadata": {},
   "outputs": [],
   "source": []
  }
 ],
 "metadata": {
  "kernelspec": {
   "display_name": "Python 3 (ipykernel)",
   "language": "python",
   "name": "python3"
  },
  "language_info": {
   "codemirror_mode": {
    "name": "ipython",
    "version": 3
   },
   "file_extension": ".py",
   "mimetype": "text/x-python",
   "name": "python",
   "nbconvert_exporter": "python",
   "pygments_lexer": "ipython3",
   "version": "3.10.16"
  }
 },
 "nbformat": 4,
 "nbformat_minor": 5
}
