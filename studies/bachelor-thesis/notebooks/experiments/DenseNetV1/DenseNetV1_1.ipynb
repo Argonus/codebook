{
 "cells": [
  {
   "cell_type": "code",
   "execution_count": 1,
   "id": "b694919a-9b18-4068-8e69-7258de889dff",
   "metadata": {},
   "outputs": [
    {
     "name": "stderr",
     "output_type": "stream",
     "text": [
      "2025-04-22 19:46:29.747397: I tensorflow/core/util/port.cc:153] oneDNN custom operations are on. You may see slightly different numerical results due to floating-point round-off errors from different computation orders. To turn them off, set the environment variable `TF_ENABLE_ONEDNN_OPTS=0`.\n",
      "2025-04-22 19:46:30.062630: E external/local_xla/xla/stream_executor/cuda/cuda_fft.cc:467] Unable to register cuFFT factory: Attempting to register factory for plugin cuFFT when one has already been registered\n",
      "WARNING: All log messages before absl::InitializeLog() is called are written to STDERR\n",
      "E0000 00:00:1745343990.164635    3412 cuda_dnn.cc:8579] Unable to register cuDNN factory: Attempting to register factory for plugin cuDNN when one has already been registered\n",
      "E0000 00:00:1745343990.193751    3412 cuda_blas.cc:1407] Unable to register cuBLAS factory: Attempting to register factory for plugin cuBLAS when one has already been registered\n",
      "W0000 00:00:1745343990.433793    3412 computation_placer.cc:177] computation placer already registered. Please check linkage and avoid linking the same target more than once.\n",
      "W0000 00:00:1745343990.433804    3412 computation_placer.cc:177] computation placer already registered. Please check linkage and avoid linking the same target more than once.\n",
      "W0000 00:00:1745343990.433805    3412 computation_placer.cc:177] computation placer already registered. Please check linkage and avoid linking the same target more than once.\n",
      "W0000 00:00:1745343990.433806    3412 computation_placer.cc:177] computation placer already registered. Please check linkage and avoid linking the same target more than once.\n",
      "2025-04-22 19:46:30.458301: I tensorflow/core/platform/cpu_feature_guard.cc:210] This TensorFlow binary is optimized to use available CPU instructions in performance-critical operations.\n",
      "To enable the following instructions: AVX2 AVX_VNNI FMA, in other operations, rebuild TensorFlow with the appropriate compiler flags.\n"
     ]
    },
    {
     "name": "stdout",
     "output_type": "stream",
     "text": [
      "\n",
      "GPU configuration successful!\n",
      "Device: /physical_device:GPU:0\n",
      "Memory limit: 18.0 GB\n",
      "\n",
      "TensorFlow optimizations status:\n",
      "- CPU Threads: 19 intra-op, 12 inter-op (32 cores total)\n",
      "- XLA JIT: enabled (autoclustering)\n",
      "- Synchronous Execution: enabled\n",
      "\n",
      "GPU Device Details:\n",
      "- Device: GPU /physical_device:GPU:0\n",
      "- Memory limit: 18.0 GB\n"
     ]
    },
    {
     "name": "stderr",
     "output_type": "stream",
     "text": [
      "I0000 00:00:1745343993.937901    3412 gpu_device.cc:2019] Created device /job:localhost/replica:0/task:0/device:GPU:0 with 19327352832 MB memory:  -> device: 0, name: NVIDIA GeForce RTX 3090 Ti, pci bus id: 0000:01:00.0, compute capability: 8.6\n"
     ]
    }
   ],
   "source": [
    "# Import dependencies\n",
    "import os\n",
    "from src.utils.gpu_config import configure_gpu, optimize_tensorflow\n",
    "\n",
    "configure_gpu()\n",
    "optimize_tensorflow()\n",
    "\n",
    "os.environ['TF_CPP_MIN_VLOG_LEVEL'] = '0'\n",
    "os.environ['TF_CPP_MIN_LOG_LEVEL'] = '2'"
   ]
  },
  {
   "cell_type": "code",
   "execution_count": 2,
   "id": "2b854daf-5f2a-4c33-9180-5081cd415b16",
   "metadata": {},
   "outputs": [
    {
     "name": "stderr",
     "output_type": "stream",
     "text": [
      "I0000 00:00:1745343993.976576    3412 cuda_executor.cc:479] failed to allocate 18.00PiB (20266198323167232 bytes) from device: RESOURCE_EXHAUSTED: : CUDA_ERROR_OUT_OF_MEMORY: out of memory\n",
      "I0000 00:00:1745343993.976604    3412 cuda_executor.cc:479] failed to allocate 16.20PiB (18239577202360320 bytes) from device: RESOURCE_EXHAUSTED: : CUDA_ERROR_OUT_OF_MEMORY: out of memory\n",
      "I0000 00:00:1745343993.976608    3412 cuda_executor.cc:479] failed to allocate 14.58PiB (16415619482124288 bytes) from device: RESOURCE_EXHAUSTED: : CUDA_ERROR_OUT_OF_MEMORY: out of memory\n",
      "I0000 00:00:1745343993.976610    3412 cuda_executor.cc:479] failed to allocate 13.12PiB (14774057211789312 bytes) from device: RESOURCE_EXHAUSTED: : CUDA_ERROR_OUT_OF_MEMORY: out of memory\n",
      "I0000 00:00:1745343993.976612    3412 cuda_executor.cc:479] failed to allocate 11.81PiB (13296650738991104 bytes) from device: RESOURCE_EXHAUSTED: : CUDA_ERROR_OUT_OF_MEMORY: out of memory\n",
      "I0000 00:00:1745343993.976614    3412 cuda_executor.cc:479] failed to allocate 10.63PiB (11966985772466176 bytes) from device: RESOURCE_EXHAUSTED: : CUDA_ERROR_OUT_OF_MEMORY: out of memory\n",
      "I0000 00:00:1745343993.976616    3412 cuda_executor.cc:479] failed to allocate 9.57PiB (10770286550974464 bytes) from device: RESOURCE_EXHAUSTED: : CUDA_ERROR_OUT_OF_MEMORY: out of memory\n",
      "I0000 00:00:1745343993.976618    3412 cuda_executor.cc:479] failed to allocate 8.61PiB (9693258003251200 bytes) from device: RESOURCE_EXHAUSTED: : CUDA_ERROR_OUT_OF_MEMORY: out of memory\n",
      "I0000 00:00:1745343993.976620    3412 cuda_executor.cc:479] failed to allocate 7.75PiB (8723932202926080 bytes) from device: RESOURCE_EXHAUSTED: : CUDA_ERROR_OUT_OF_MEMORY: out of memory\n",
      "I0000 00:00:1745343993.976622    3412 cuda_executor.cc:479] failed to allocate 6.97PiB (7851538982633472 bytes) from device: RESOURCE_EXHAUSTED: : CUDA_ERROR_OUT_OF_MEMORY: out of memory\n",
      "I0000 00:00:1745343993.976623    3412 cuda_executor.cc:479] failed to allocate 6.28PiB (7066385138057216 bytes) from device: RESOURCE_EXHAUSTED: : CUDA_ERROR_OUT_OF_MEMORY: out of memory\n",
      "I0000 00:00:1745343993.976625    3412 cuda_executor.cc:479] failed to allocate 5.65PiB (6359746516877312 bytes) from device: RESOURCE_EXHAUSTED: : CUDA_ERROR_OUT_OF_MEMORY: out of memory\n",
      "I0000 00:00:1745343993.976627    3412 cuda_executor.cc:479] failed to allocate 5.08PiB (5723771918876672 bytes) from device: RESOURCE_EXHAUSTED: : CUDA_ERROR_OUT_OF_MEMORY: out of memory\n",
      "I0000 00:00:1745343993.976629    3412 cuda_executor.cc:479] failed to allocate 4.58PiB (5151394512240640 bytes) from device: RESOURCE_EXHAUSTED: : CUDA_ERROR_OUT_OF_MEMORY: out of memory\n",
      "I0000 00:00:1745343993.976631    3412 cuda_executor.cc:479] failed to allocate 4.12PiB (4636255061016576 bytes) from device: RESOURCE_EXHAUSTED: : CUDA_ERROR_OUT_OF_MEMORY: out of memory\n",
      "I0000 00:00:1745343993.976632    3412 cuda_executor.cc:479] failed to allocate 3.71PiB (4172629447540736 bytes) from device: RESOURCE_EXHAUSTED: : CUDA_ERROR_OUT_OF_MEMORY: out of memory\n",
      "I0000 00:00:1745343993.976634    3412 cuda_executor.cc:479] failed to allocate 3.33PiB (3755366395412480 bytes) from device: RESOURCE_EXHAUSTED: : CUDA_ERROR_OUT_OF_MEMORY: out of memory\n",
      "I0000 00:00:1745343993.976636    3412 cuda_executor.cc:479] failed to allocate 3.00PiB (3379829755871232 bytes) from device: RESOURCE_EXHAUSTED: : CUDA_ERROR_OUT_OF_MEMORY: out of memory\n",
      "I0000 00:00:1745343993.976638    3412 cuda_executor.cc:479] failed to allocate 2.70PiB (3041846699753472 bytes) from device: RESOURCE_EXHAUSTED: : CUDA_ERROR_OUT_OF_MEMORY: out of memory\n",
      "I0000 00:00:1745343993.976639    3412 cuda_executor.cc:479] failed to allocate 2.43PiB (2737662083465216 bytes) from device: RESOURCE_EXHAUSTED: : CUDA_ERROR_OUT_OF_MEMORY: out of memory\n",
      "I0000 00:00:1745343993.976641    3412 cuda_executor.cc:479] failed to allocate 2.19PiB (2463895767744512 bytes) from device: RESOURCE_EXHAUSTED: : CUDA_ERROR_OUT_OF_MEMORY: out of memory\n",
      "I0000 00:00:1745343993.976643    3412 cuda_executor.cc:479] failed to allocate 1.97PiB (2217506110439424 bytes) from device: RESOURCE_EXHAUSTED: : CUDA_ERROR_OUT_OF_MEMORY: out of memory\n",
      "I0000 00:00:1745343993.976645    3412 cuda_executor.cc:479] failed to allocate 1.77PiB (1995755472551936 bytes) from device: RESOURCE_EXHAUSTED: : CUDA_ERROR_OUT_OF_MEMORY: out of memory\n",
      "I0000 00:00:1745343993.976648    3412 cuda_executor.cc:479] failed to allocate 1.59PiB (1796179885031424 bytes) from device: RESOURCE_EXHAUSTED: : CUDA_ERROR_OUT_OF_MEMORY: out of memory\n",
      "I0000 00:00:1745343993.976649    3412 cuda_executor.cc:479] failed to allocate 1.44PiB (1616561802575872 bytes) from device: RESOURCE_EXHAUSTED: : CUDA_ERROR_OUT_OF_MEMORY: out of memory\n",
      "I0000 00:00:1745343993.976651    3412 cuda_executor.cc:479] failed to allocate 1.29PiB (1454905541787648 bytes) from device: RESOURCE_EXHAUSTED: : CUDA_ERROR_OUT_OF_MEMORY: out of memory\n",
      "I0000 00:00:1745343993.976653    3412 cuda_executor.cc:479] failed to allocate 1.16PiB (1309415001030656 bytes) from device: RESOURCE_EXHAUSTED: : CUDA_ERROR_OUT_OF_MEMORY: out of memory\n",
      "I0000 00:00:1745343993.976655    3412 cuda_executor.cc:479] failed to allocate 1.05PiB (1178473527771136 bytes) from device: RESOURCE_EXHAUSTED: : CUDA_ERROR_OUT_OF_MEMORY: out of memory\n",
      "I0000 00:00:1745343993.976657    3412 cuda_executor.cc:479] failed to allocate 964.63TiB (1060626134728704 bytes) from device: RESOURCE_EXHAUSTED: : CUDA_ERROR_OUT_OF_MEMORY: out of memory\n",
      "I0000 00:00:1745343993.976659    3412 cuda_executor.cc:479] failed to allocate 868.17TiB (954563527966720 bytes) from device: RESOURCE_EXHAUSTED: : CUDA_ERROR_OUT_OF_MEMORY: out of memory\n",
      "I0000 00:00:1745343993.976660    3412 cuda_executor.cc:479] failed to allocate 781.35TiB (859107141615616 bytes) from device: RESOURCE_EXHAUSTED: : CUDA_ERROR_OUT_OF_MEMORY: out of memory\n",
      "I0000 00:00:1745343993.976662    3412 cuda_executor.cc:479] failed to allocate 703.22TiB (773196387188736 bytes) from device: RESOURCE_EXHAUSTED: : CUDA_ERROR_OUT_OF_MEMORY: out of memory\n",
      "I0000 00:00:1745343993.976664    3412 cuda_executor.cc:479] failed to allocate 632.90TiB (695876708204544 bytes) from device: RESOURCE_EXHAUSTED: : CUDA_ERROR_OUT_OF_MEMORY: out of memory\n",
      "I0000 00:00:1745343993.976666    3412 cuda_executor.cc:479] failed to allocate 569.61TiB (626289044094976 bytes) from device: RESOURCE_EXHAUSTED: : CUDA_ERROR_OUT_OF_MEMORY: out of memory\n",
      "I0000 00:00:1745343993.976668    3412 cuda_executor.cc:479] failed to allocate 512.65TiB (563660099420160 bytes) from device: RESOURCE_EXHAUSTED: : CUDA_ERROR_OUT_OF_MEMORY: out of memory\n",
      "I0000 00:00:1745343993.976670    3412 cuda_executor.cc:479] failed to allocate 461.38TiB (507294089478144 bytes) from device: RESOURCE_EXHAUSTED: : CUDA_ERROR_OUT_OF_MEMORY: out of memory\n",
      "I0000 00:00:1745343993.976671    3412 cuda_executor.cc:479] failed to allocate 415.24TiB (456564653686784 bytes) from device: RESOURCE_EXHAUSTED: : CUDA_ERROR_OUT_OF_MEMORY: out of memory\n",
      "I0000 00:00:1745343993.976673    3412 cuda_executor.cc:479] failed to allocate 373.72TiB (410908178251776 bytes) from device: RESOURCE_EXHAUSTED: : CUDA_ERROR_OUT_OF_MEMORY: out of memory\n",
      "I0000 00:00:1745343993.976675    3412 cuda_executor.cc:479] failed to allocate 336.35TiB (369817353715712 bytes) from device: RESOURCE_EXHAUSTED: : CUDA_ERROR_OUT_OF_MEMORY: out of memory\n",
      "I0000 00:00:1745343993.976677    3412 cuda_executor.cc:479] failed to allocate 302.71TiB (332835604922368 bytes) from device: RESOURCE_EXHAUSTED: : CUDA_ERROR_OUT_OF_MEMORY: out of memory\n",
      "I0000 00:00:1745343993.976679    3412 cuda_executor.cc:479] failed to allocate 272.44TiB (299552024297472 bytes) from device: RESOURCE_EXHAUSTED: : CUDA_ERROR_OUT_OF_MEMORY: out of memory\n",
      "I0000 00:00:1745343993.976681    3412 cuda_executor.cc:479] failed to allocate 245.20TiB (269596808445952 bytes) from device: RESOURCE_EXHAUSTED: : CUDA_ERROR_OUT_OF_MEMORY: out of memory\n",
      "I0000 00:00:1745343993.976682    3412 cuda_executor.cc:479] failed to allocate 220.68TiB (242637114179584 bytes) from device: RESOURCE_EXHAUSTED: : CUDA_ERROR_OUT_OF_MEMORY: out of memory\n",
      "I0000 00:00:1745343993.976684    3412 cuda_executor.cc:479] failed to allocate 198.61TiB (218373401083904 bytes) from device: RESOURCE_EXHAUSTED: : CUDA_ERROR_OUT_OF_MEMORY: out of memory\n",
      "I0000 00:00:1745343993.976687    3412 cuda_executor.cc:479] failed to allocate 178.75TiB (196536059297792 bytes) from device: RESOURCE_EXHAUSTED: : CUDA_ERROR_OUT_OF_MEMORY: out of memory\n",
      "I0000 00:00:1745343993.976688    3412 cuda_executor.cc:479] failed to allocate 160.87TiB (176882456723456 bytes) from device: RESOURCE_EXHAUSTED: : CUDA_ERROR_OUT_OF_MEMORY: out of memory\n",
      "I0000 00:00:1745343993.976690    3412 cuda_executor.cc:479] failed to allocate 144.79TiB (159194204340224 bytes) from device: RESOURCE_EXHAUSTED: : CUDA_ERROR_OUT_OF_MEMORY: out of memory\n",
      "I0000 00:00:1745343993.976692    3412 cuda_executor.cc:479] failed to allocate 130.31TiB (143274773839872 bytes) from device: RESOURCE_EXHAUSTED: : CUDA_ERROR_OUT_OF_MEMORY: out of memory\n",
      "I0000 00:00:1745343994.192151    3412 cuda_executor.cc:479] failed to allocate 117.28TiB (128947291422720 bytes) from device: RESOURCE_EXHAUSTED: : CUDA_ERROR_OUT_OF_MEMORY: out of memory\n",
      "I0000 00:00:1745343994.386939    3412 cuda_executor.cc:479] failed to allocate 105.55TiB (116052558086144 bytes) from device: RESOURCE_EXHAUSTED: : CUDA_ERROR_OUT_OF_MEMORY: out of memory\n",
      "I0000 00:00:1745343994.559816    3412 cuda_executor.cc:479] failed to allocate 94.99TiB (104447296405504 bytes) from device: RESOURCE_EXHAUSTED: : CUDA_ERROR_OUT_OF_MEMORY: out of memory\n",
      "I0000 00:00:1745343994.715158    3412 cuda_executor.cc:479] failed to allocate 85.49TiB (94002565087232 bytes) from device: RESOURCE_EXHAUSTED: : CUDA_ERROR_OUT_OF_MEMORY: out of memory\n",
      "I0000 00:00:1745343994.855818    3412 cuda_executor.cc:479] failed to allocate 76.95TiB (84602307739648 bytes) from device: RESOURCE_EXHAUSTED: : CUDA_ERROR_OUT_OF_MEMORY: out of memory\n",
      "I0000 00:00:1745343994.979925    3412 cuda_executor.cc:479] failed to allocate 69.25TiB (76142077804544 bytes) from device: RESOURCE_EXHAUSTED: : CUDA_ERROR_OUT_OF_MEMORY: out of memory\n",
      "I0000 00:00:1745343995.089561    3412 cuda_executor.cc:479] failed to allocate 62.33TiB (68527868346368 bytes) from device: RESOURCE_EXHAUSTED: : CUDA_ERROR_OUT_OF_MEMORY: out of memory\n",
      "I0000 00:00:1745343995.188127    3412 cuda_executor.cc:479] failed to allocate 56.09TiB (61675080253440 bytes) from device: RESOURCE_EXHAUSTED: : CUDA_ERROR_OUT_OF_MEMORY: out of memory\n",
      "I0000 00:00:1745343995.277690    3412 cuda_executor.cc:479] failed to allocate 50.48TiB (55507570130944 bytes) from device: RESOURCE_EXHAUSTED: : CUDA_ERROR_OUT_OF_MEMORY: out of memory\n",
      "I0000 00:00:1745343995.357237    3412 cuda_executor.cc:479] failed to allocate 45.43TiB (49956811440128 bytes) from device: RESOURCE_EXHAUSTED: : CUDA_ERROR_OUT_OF_MEMORY: out of memory\n",
      "I0000 00:00:1745343995.428504    3412 cuda_executor.cc:479] failed to allocate 40.89TiB (44961131134976 bytes) from device: RESOURCE_EXHAUSTED: : CUDA_ERROR_OUT_OF_MEMORY: out of memory\n",
      "I0000 00:00:1745343995.491095    3412 cuda_executor.cc:479] failed to allocate 36.80TiB (40465017602048 bytes) from device: RESOURCE_EXHAUSTED: : CUDA_ERROR_OUT_OF_MEMORY: out of memory\n",
      "I0000 00:00:1745343995.547203    3412 cuda_executor.cc:479] failed to allocate 33.12TiB (36418516680704 bytes) from device: RESOURCE_EXHAUSTED: : CUDA_ERROR_OUT_OF_MEMORY: out of memory\n",
      "I0000 00:00:1745343995.599447    3412 cuda_executor.cc:479] failed to allocate 29.81TiB (32776663334912 bytes) from device: RESOURCE_EXHAUSTED: : CUDA_ERROR_OUT_OF_MEMORY: out of memory\n",
      "I0000 00:00:1745343995.644126    3412 cuda_executor.cc:479] failed to allocate 26.83TiB (29498997211136 bytes) from device: RESOURCE_EXHAUSTED: : CUDA_ERROR_OUT_OF_MEMORY: out of memory\n",
      "I0000 00:00:1745343995.682701    3412 cuda_executor.cc:479] failed to allocate 24.15TiB (26549097070592 bytes) from device: RESOURCE_EXHAUSTED: : CUDA_ERROR_OUT_OF_MEMORY: out of memory\n",
      "I0000 00:00:1745343995.717859    3412 cuda_executor.cc:479] failed to allocate 21.73TiB (23894186524672 bytes) from device: RESOURCE_EXHAUSTED: : CUDA_ERROR_OUT_OF_MEMORY: out of memory\n",
      "I0000 00:00:1745343995.748408    3412 cuda_executor.cc:479] failed to allocate 19.56TiB (21504767033344 bytes) from device: RESOURCE_EXHAUSTED: : CUDA_ERROR_OUT_OF_MEMORY: out of memory\n",
      "I0000 00:00:1745343995.775259    3412 cuda_executor.cc:479] failed to allocate 17.60TiB (19354290749440 bytes) from device: RESOURCE_EXHAUSTED: : CUDA_ERROR_OUT_OF_MEMORY: out of memory\n",
      "I0000 00:00:1745343995.798397    3412 cuda_executor.cc:479] failed to allocate 15.84TiB (17418861674496 bytes) from device: RESOURCE_EXHAUSTED: : CUDA_ERROR_OUT_OF_MEMORY: out of memory\n",
      "I0000 00:00:1745343995.818204    3412 cuda_executor.cc:479] failed to allocate 14.26TiB (15676975611904 bytes) from device: RESOURCE_EXHAUSTED: : CUDA_ERROR_OUT_OF_MEMORY: out of memory\n",
      "I0000 00:00:1745343995.834735    3412 cuda_executor.cc:479] failed to allocate 12.83TiB (14109277945856 bytes) from device: RESOURCE_EXHAUSTED: : CUDA_ERROR_OUT_OF_MEMORY: out of memory\n",
      "55TiB (12698349731840 bytes) from device: RESOURCE_EXHAUSTED: : CUDA_ERROR_OUT_OF_MEMORY: out of memory\n",
      "I0000 00:00:1745343995.859428    3412 cuda_executor.cc:479] failed to allocate 10.39TiB (11428514758656 bytes) from device: RESOURCE_EXHAUSTED: : CUDA_ERROR_OUT_OF_MEMORY: out of memory\n",
      "I0000 00:00:1745343995.867968    3412 cuda_executor.cc:479] failed to allocate 9.35TiB (10285663387648 bytes) from device: RESOURCE_EXHAUSTED: : CUDA_ERROR_OUT_OF_MEMORY: out of memory\n",
      "I0000 00:00:1745343995.876643    3412 cuda_executor.cc:479] failed to allocate 8.42TiB (9257096314880 bytes) from device: RESOURCE_EXHAUSTED: : CUDA_ERROR_OUT_OF_MEMORY: out of memory\n",
      "I0000 00:00:1745343995.883083    3412 cuda_executor.cc:479] failed to allocate 7.58TiB (8331386683392 bytes) from device: RESOURCE_EXHAUSTED: : CUDA_ERROR_OUT_OF_MEMORY: out of memory\n",
      "I0000 00:00:1745343995.889757    3412 cuda_executor.cc:479] failed to allocate 6.82TiB (7498247962624 bytes) from device: RESOURCE_EXHAUSTED: : CUDA_ERROR_OUT_OF_MEMORY: out of memory\n",
      "I0000 00:00:1745343995.894622    3412 cuda_executor.cc:479] failed to allocate 6.14TiB (6748422799360 bytes) from device: RESOURCE_EXHAUSTED: : CUDA_ERROR_OUT_OF_MEMORY: out of memory\n",
      "I0000 00:00:1745343995.900688    3412 cuda_executor.cc:479] failed to allocate 5.52TiB (6073580257280 bytes) from device: RESOURCE_EXHAUSTED: : CUDA_ERROR_OUT_OF_MEMORY: out of memory\n",
      "I0000 00:00:1745343995.904022    3412 cuda_executor.cc:479] failed to allocate 4.97TiB (5466221969408 bytes) from device: RESOURCE_EXHAUSTED: : CUDA_ERROR_OUT_OF_MEMORY: out of memory\n",
      "I0000 00:00:1745343995.907015    3412 cuda_executor.cc:479] failed to allocate 4.47TiB (4919599824896 bytes) from device: RESOURCE_EXHAUSTED: : CUDA_ERROR_OUT_OF_MEMORY: out of memory\n",
      "I0000 00:00:1745343995.909752    3412 cuda_executor.cc:479] failed to allocate 4.03TiB (4427639947264 bytes) from device: RESOURCE_EXHAUSTED: : CUDA_ERROR_OUT_OF_MEMORY: out of memory\n",
      "I0000 00:00:1745343995.912239    3412 cuda_executor.cc:479] failed to allocate 3.62TiB (3984875847680 bytes) from device: RESOURCE_EXHAUSTED: : CUDA_ERROR_OUT_OF_MEMORY: out of memory\n",
      "I0000 00:00:1745343995.914468    3412 cuda_executor.cc:479] failed to allocate 3.26TiB (3586388131840 bytes) from device: RESOURCE_EXHAUSTED: : CUDA_ERROR_OUT_OF_MEMORY: out of memory\n",
      "I0000 00:00:1745343995.916623    3412 cuda_executor.cc:479] failed to allocate 2.94TiB (3227749187584 bytes) from device: RESOURCE_EXHAUSTED: : CUDA_ERROR_OUT_OF_MEMORY: out of memory\n",
      "I0000 00:00:1745343995.918510    3412 cuda_executor.cc:479] failed to allocate 2.64TiB (2904974163968 bytes) from device: RESOURCE_EXHAUSTED: : CUDA_ERROR_OUT_OF_MEMORY: out of memory\n",
      "I0000 00:00:1745343995.920187    3412 cuda_executor.cc:479] failed to allocate 2.38TiB (2614476668928 bytes) from device: RESOURCE_EXHAUSTED: : CUDA_ERROR_OUT_OF_MEMORY: out of memory\n",
      "I0000 00:00:1745343995.921731    3412 cuda_executor.cc:479] failed to allocate 2.14TiB (2353028923392 bytes) from device: RESOURCE_EXHAUSTED: : CUDA_ERROR_OUT_OF_MEMORY: out of memory\n",
      "I0000 00:00:1745343995.923171    3412 cuda_executor.cc:479] failed to allocate 1.93TiB (2117725978624 bytes) from device: RESOURCE_EXHAUSTED: : CUDA_ERROR_OUT_OF_MEMORY: out of memory\n",
      "I0000 00:00:1745343995.924467    3412 cuda_executor.cc:479] failed to allocate 1.73TiB (1905953341440 bytes) from device: RESOURCE_EXHAUSTED: : CUDA_ERROR_OUT_OF_MEMORY: out of memory\n",
      "I0000 00:00:1745343995.925638    3412 cuda_executor.cc:479] failed to allocate 1.56TiB (1715358007296 bytes) from device: RESOURCE_EXHAUSTED: : CUDA_ERROR_OUT_OF_MEMORY: out of memory\n",
      "I0000 00:00:1745343995.926707    3412 cuda_executor.cc:479] failed to allocate 1.40TiB (1543822114816 bytes) from device: RESOURCE_EXHAUSTED: : CUDA_ERROR_OUT_OF_MEMORY: out of memory\n",
      "I0000 00:00:1745343995.927722    3412 cuda_executor.cc:479] failed to allocate 1.26TiB (1389439877120 bytes) from device: RESOURCE_EXHAUSTED: : CUDA_ERROR_OUT_OF_MEMORY: out of memory\n",
      "I0000 00:00:1745343995.928626    3412 cuda_executor.cc:479] failed to allocate 1.14TiB (1250495823872 bytes) from device: RESOURCE_EXHAUSTED: : CUDA_ERROR_OUT_OF_MEMORY: out of memory\n",
      "I0000 00:00:1745343995.929472    3412 cuda_executor.cc:479] failed to allocate 1.02TiB (1125446189056 bytes) from device: RESOURCE_EXHAUSTED: : CUDA_ERROR_OUT_OF_MEMORY: out of memory\n",
      "I0000 00:00:1745343995.930270    3412 cuda_executor.cc:479] failed to allocate 943.34GiB (1012901543936 bytes) from device: RESOURCE_EXHAUSTED: : CUDA_ERROR_OUT_OF_MEMORY: out of memory\n",
      "I0000 00:00:1745343995.930999    3412 cuda_executor.cc:479] failed to allocate 849.00GiB (911611396096 bytes) from device: RESOURCE_EXHAUSTED: : CUDA_ERROR_OUT_OF_MEMORY: out of memory\n",
      "I0000 00:00:1745343995.931651    3412 cuda_executor.cc:479] failed to allocate 764.10GiB (820450230272 bytes) from device: RESOURCE_EXHAUSTED: : CUDA_ERROR_OUT_OF_MEMORY: out of memory\n",
      "I0000 00:00:1745343995.932274    3412 cuda_executor.cc:479] failed to allocate 687.69GiB (738405187584 bytes) from device: RESOURCE_EXHAUSTED: : CUDA_ERROR_OUT_OF_MEMORY: out of memory\n",
      "I0000 00:00:1745343995.932934    3412 cuda_executor.cc:479] failed to allocate 618.92GiB (664564662272 bytes) from device: RESOURCE_EXHAUSTED: : CUDA_ERROR_OUT_OF_MEMORY: out of memory\n",
      "I0000 00:00:1745343995.933472    3412 cuda_executor.cc:479] failed to allocate 557.03GiB (598108209152 bytes) from device: RESOURCE_EXHAUSTED: : CUDA_ERROR_OUT_OF_MEMORY: out of memory\n",
      "I0000 00:00:1745343995.933956    3412 cuda_executor.cc:479] failed to allocate 501.33GiB (538297368576 bytes) from device: RESOURCE_EXHAUSTED: : CUDA_ERROR_OUT_OF_MEMORY: out of memory\n",
      "I0000 00:00:1745343995.934419    3412 cuda_executor.cc:479] failed to allocate 451.20GiB (484467605504 bytes) from device: RESOURCE_EXHAUSTED: : CUDA_ERROR_OUT_OF_MEMORY: out of memory\n",
      "I0000 00:00:1745343995.934835    3412 cuda_executor.cc:479] failed to allocate 406.08GiB (436020838400 bytes) from device: RESOURCE_EXHAUSTED: : CUDA_ERROR_OUT_OF_MEMORY: out of memory\n",
      "I0000 00:00:1745343995.935246    3412 cuda_executor.cc:479] failed to allocate 365.47GiB (392418754560 bytes) from device: RESOURCE_EXHAUSTED: : CUDA_ERROR_OUT_OF_MEMORY: out of memory\n",
      "I0000 00:00:1745343995.935637    3412 cuda_executor.cc:479] failed to allocate 328.92GiB (353176879104 bytes) from device: RESOURCE_EXHAUSTED: : CUDA_ERROR_OUT_OF_MEMORY: out of memory\n",
      "I0000 00:00:1745343995.936015    3412 cuda_executor.cc:479] failed to allocate 296.03GiB (317859168256 bytes) from device: RESOURCE_EXHAUSTED: : CUDA_ERROR_OUT_OF_MEMORY: out of memory\n",
      "I0000 00:00:1745343995.936375    3412 cuda_executor.cc:479] failed to allocate 266.43GiB (286073257984 bytes) from device: RESOURCE_EXHAUSTED: : CUDA_ERROR_OUT_OF_MEMORY: out of memory\n",
      "I0000 00:00:1745343995.936738    3412 cuda_executor.cc:479] failed to allocate 239.78GiB (257465925632 bytes) from device: RESOURCE_EXHAUSTED: : CUDA_ERROR_OUT_OF_MEMORY: out of memory\n",
      "I0000 00:00:1745343995.937098    3412 cuda_executor.cc:479] failed to allocate 215.80GiB (231719321600 bytes) from device: RESOURCE_EXHAUSTED: : CUDA_ERROR_OUT_OF_MEMORY: out of memory\n",
      "I0000 00:00:1745343995.937437    3412 cuda_executor.cc:479] failed to allocate 194.22GiB (208547381248 bytes) from device: RESOURCE_EXHAUSTED: : CUDA_ERROR_OUT_OF_MEMORY: out of memory\n",
      "I0000 00:00:1745343995.937767    3412 cuda_executor.cc:479] failed to allocate 174.80GiB (187692630016 bytes) from device: RESOURCE_EXHAUSTED: : CUDA_ERROR_OUT_OF_MEMORY: out of memory\n",
      "I0000 00:00:1745343995.938102    3412 cuda_executor.cc:479] failed to allocate 157.32GiB (168923365376 bytes) from device: RESOURCE_EXHAUSTED: : CUDA_ERROR_OUT_OF_MEMORY: out of memory\n",
      "I0000 00:00:1745343995.938420    3412 cuda_executor.cc:479] failed to allocate 141.59GiB (152031019008 bytes) from device: RESOURCE_EXHAUSTED: : CUDA_ERROR_OUT_OF_MEMORY: out of memory\n",
      "I0000 00:00:1745343995.938727    3412 cuda_executor.cc:479] failed to allocate 127.43GiB (136827912192 bytes) from device: RESOURCE_EXHAUSTED: : CUDA_ERROR_OUT_OF_MEMORY: out of memory\n",
      "I0000 00:00:1745343995.939035    3412 cuda_executor.cc:479] failed to allocate 114.69GiB (123145117696 bytes) from device: RESOURCE_EXHAUSTED: : CUDA_ERROR_OUT_OF_MEMORY: out of memory\n",
      "I0000 00:00:1745343995.939334    3412 cuda_executor.cc:479] failed to allocate 103.22GiB (110830600192 bytes) from device: RESOURCE_EXHAUSTED: : CUDA_ERROR_OUT_OF_MEMORY: out of memory\n",
      "I0000 00:00:1745343995.939624    3412 cuda_executor.cc:479] failed to allocate 92.90GiB (99747536896 bytes) from device: RESOURCE_EXHAUSTED: : CUDA_ERROR_OUT_OF_MEMORY: out of memory\n",
      "I0000 00:00:1745343995.939913    3412 cuda_executor.cc:479] failed to allocate 83.61GiB (89772777472 bytes) from device: RESOURCE_EXHAUSTED: : CUDA_ERROR_OUT_OF_MEMORY: out of memory\n",
      "I0000 00:00:1745343995.940203    3412 cuda_executor.cc:479] failed to allocate 75.25GiB (80795500544 bytes) from device: RESOURCE_EXHAUSTED: : CUDA_ERROR_OUT_OF_MEMORY: out of memory\n",
      "I0000 00:00:1745343995.940484    3412 cuda_executor.cc:479] failed to allocate 67.72GiB (72715952128 bytes) from device: RESOURCE_EXHAUSTED: : CUDA_ERROR_OUT_OF_MEMORY: out of memory\n",
      "I0000 00:00:1745343995.940762    3412 cuda_executor.cc:479] failed to allocate 60.95GiB (65444356096 bytes) from device: RESOURCE_EXHAUSTED: : CUDA_ERROR_OUT_OF_MEMORY: out of memory\n",
      "I0000 00:00:1745343995.941044    3412 cuda_executor.cc:479] failed to allocate 54.85GiB (58899918848 bytes) from device: RESOURCE_EXHAUSTED: : CUDA_ERROR_OUT_OF_MEMORY: out of memory\n",
      "I0000 00:00:1745343995.941321    3412 cuda_executor.cc:479] failed to allocate 49.37GiB (53009924096 bytes) from device: RESOURCE_EXHAUSTED: : CUDA_ERROR_OUT_OF_MEMORY: out of memory\n",
      "I0000 00:00:1745343995.941590    3412 cuda_executor.cc:479] failed to allocate 44.43GiB (47708930048 bytes) from device: RESOURCE_EXHAUSTED: : CUDA_ERROR_OUT_OF_MEMORY: out of memory\n",
      "I0000 00:00:1745343995.941857    3412 cuda_executor.cc:479] failed to allocate 39.99GiB (42938036224 bytes) from device: RESOURCE_EXHAUSTED: : CUDA_ERROR_OUT_OF_MEMORY: out of memory\n",
      "I0000 00:00:1745343995.942130    3412 cuda_executor.cc:479] failed to allocate 35.99GiB (38644232192 bytes) from device: RESOURCE_EXHAUSTED: : CUDA_ERROR_OUT_OF_MEMORY: out of memory\n",
      "I0000 00:00:1745343995.942395    3412 cuda_executor.cc:479] failed to allocate 32.39GiB (34779807744 bytes) from device: RESOURCE_EXHAUSTED: : CUDA_ERROR_OUT_OF_MEMORY: out of memory\n",
      "I0000 00:00:1745343995.942664    3412 cuda_executor.cc:479] failed to allocate 29.15GiB (31301826560 bytes) from device: RESOURCE_EXHAUSTED: : CUDA_ERROR_OUT_OF_MEMORY: out of memory\n",
      "I0000 00:00:1745343995.942923    3412 cuda_executor.cc:479] failed to allocate 26.24GiB (28171642880 bytes) from device: RESOURCE_EXHAUSTED: : CUDA_ERROR_OUT_OF_MEMORY: out of memory\n",
      "I0000 00:00:1745343995.943194    3412 cuda_executor.cc:479] failed to allocate 23.61GiB (25354477568 bytes) from device: RESOURCE_EXHAUSTED: : CUDA_ERROR_OUT_OF_MEMORY: out of memory\n"
     ]
    }
   ],
   "source": [
    "# Import Tensorflow Keras\n",
    "from tensorflow.keras.optimizers import Adam\n",
    "from tensorflow.keras.losses import BinaryCrossentropy\n",
    "from tensorflow.keras.callbacks import ReduceLROnPlateau, ModelCheckpoint\n",
    "\n",
    "# Import local modules\n",
    "from src.utils.consts import TF_RECORD_DATASET, MODELS_PATH, TF_BUFFER_SIZE, TF_SHUFFLE_SIZE, TF_BATCH_SIZE, TF_MAX_EPOCHS\n",
    "from src.model.tensorflow_utils import load_dataset, optimize_dataset, count_dataset_size, get_num_classes, get_metrics\n",
    "from src.model.tensorflow_utils import setup_logger, setup_training_logger, setup_metrics_monitor, setup_early_stopping\n",
    "from src.model.tensorflow_utils import start_or_resume_training, apply_augmentation_to_dataset\n",
    "from src.model.densnet.tensorflow_dense_net_121 import build_densenet121\n",
    "\n",
    "# Input Data\n",
    "initial_epoch   = 5\n",
    "resume_training = True\n",
    "checkpoint_path = '/home/piotr/Pulpit/codebook/studies/bachelor-thesis/models/DenseNetV1_1/checkpoints/cp-0004.keras'\n",
    "set_name        = \"DenseNetV1\"\n",
    "model_name      = f\"{set_name}_1\"\n",
    "num_classes     = get_num_classes()\n",
    "\n",
    "train_ds = load_dataset(f\"{TF_RECORD_DATASET}/train.tfrecord\", TF_BUFFER_SIZE)\n",
    "val_ds   = load_dataset(f\"{TF_RECORD_DATASET}/val.tfrecord\", TF_BUFFER_SIZE)"
   ]
  },
  {
   "cell_type": "code",
   "execution_count": 3,
   "id": "5f152b8a-8ff8-4095-9815-e304ce2beb52",
   "metadata": {},
   "outputs": [
    {
     "name": "stderr",
     "output_type": "stream",
     "text": [
      "2025-04-22 19:46:36.232962: I tensorflow/core/kernels/data/tf_record_dataset_op.cc:387] The default buffer size is 262144, which is overridden by the user specified `buffer_size` of 1048576\n",
      "2025-04-22 19:47:32.750254: W tensorflow/core/lib/png/png_io.cc:92] PNG warning: iCCP: profile 'ICC Profile': 'GRAY': Gray color space not permitted on RGB PNG\n",
      "2025-04-22 19:47:38.782532: I tensorflow/core/framework/local_rendezvous.cc:407] Local rendezvous is aborting with status: OUT_OF_RANGE: End of sequence\n",
      "Counting samples: 71842 samples [01:02, 1147.59 samples/s]\n",
      "2025-04-22 19:47:52.244443: I tensorflow/core/framework/local_rendezvous.cc:407] Local rendezvous is aborting with status: OUT_OF_RANGE: End of sequence\n",
      "Counting samples: 15431 samples [00:13, 1146.37 samples/s]\n"
     ]
    }
   ],
   "source": [
    "steps_per_epoch  = int(count_dataset_size(train_ds, None) / TF_BATCH_SIZE)\n",
    "validation_steps = int(count_dataset_size(val_ds, None) / TF_BATCH_SIZE)\n",
    "\n",
    "# Disable Advanced Augmentations\n",
    "probability = {\n",
    "    \"intensity_scaling\": 0,\n",
    "    \"adaptive_histogram\": 0,\n",
    "    \"zoom\": 0,\n",
    "    \"cutout\": 0\n",
    "}\n",
    "\n",
    "train_ds = train_ds.shuffle(TF_SHUFFLE_SIZE, reshuffle_each_iteration=True)\n",
    "train_ds = apply_augmentation_to_dataset(train_ds, probability)\n",
    "train_ds = optimize_dataset(train_ds, TF_BATCH_SIZE)\n",
    "\n",
    "val_ds   = optimize_dataset(val_ds, TF_BATCH_SIZE)"
   ]
  },
  {
   "cell_type": "code",
   "execution_count": 4,
   "id": "3a0e37c9-b178-40d8-bd25-8c0a6498564a",
   "metadata": {},
   "outputs": [
    {
     "name": "stderr",
     "output_type": "stream",
     "text": [
      "2025-04-22 19:47:52 - INFO - Resuming from existing metrics file: /home/piotr/Pulpit/codebook/studies/bachelor-thesis/models/DenseNetV1_1/train_metrics.csv\n",
      "2025-04-22 19:47:52 - INFO - Resuming from existing validation metrics file: /home/piotr/Pulpit/codebook/studies/bachelor-thesis/models/DenseNetV1_1/val_metrics.csv\n",
      "2025-04-22 19:47:52 - INFO - Cleaned training metrics file, kept 2244 records before epoch 5\n",
      "2025-04-22 19:47:52 - INFO - Cleaned validation metrics file, kept 4 records before epoch 5\n",
      "2025-04-22 19:47:52 - INFO - Found 2244 existing training records\n",
      "2025-04-22 19:47:52 - INFO - Found 4 existing validation records\n"
     ]
    }
   ],
   "source": [
    "# Setup Model Deps\n",
    "logger            = setup_logger()\n",
    "training_logger   = setup_training_logger(logger, TF_BATCH_SIZE, 100)\n",
    "metrics_monitor   = setup_metrics_monitor(MODELS_PATH, model_name, logger, resume_training=resume_training, initial_epoch=initial_epoch)\n",
    "metrics           = get_metrics()\n",
    "\n",
    "# Setup compile arguments\n",
    "loss           = BinaryCrossentropy(from_logits=False)\n",
    "reduce_lr      = ReduceLROnPlateau(monitor=\"val_f1_score\", factor=0.5,  patience=3, min_lr=1e-6, mode=\"max\", verbose=1)\n",
    "early_stopping = setup_early_stopping()\n",
    "\n",
    "epoch_mode           = 'cp-{epoch:04d}'\n",
    "save_checkpoint_path = f\"{MODELS_PATH}/{model_name}/checkpoints/{epoch_mode}.keras\"\n",
    "checkpoint           = ModelCheckpoint(save_checkpoint_path, monitor=\"val_f1_score\", save_best_only=False, mode=\"max\")\n",
    "\n",
    "model_path      = f\"{MODELS_PATH}/{model_name}.keras\"\n",
    "best_checkpoint = ModelCheckpoint(model_path, monitor=\"val_f1_score\", save_best_only=True, mode=\"max\")"
   ]
  },
  {
   "cell_type": "code",
   "execution_count": 5,
   "id": "c44d4a9a-ffbb-4917-a702-c35773b9857c",
   "metadata": {},
   "outputs": [
    {
     "name": "stderr",
     "output_type": "stream",
     "text": [
      "2025-04-22 19:47:53 - INFO - Resuming from existing metrics file: /home/piotr/Pulpit/codebook/studies/bachelor-thesis/models/DenseNetV1_1/train_metrics.csv\n",
      "2025-04-22 19:47:53 - INFO - Resuming from existing validation metrics file: /home/piotr/Pulpit/codebook/studies/bachelor-thesis/models/DenseNetV1_1/val_metrics.csv\n",
      "2025-04-22 19:47:54 - INFO - Cleaned training metrics file, kept 2244 records before epoch 5\n",
      "2025-04-22 19:47:54 - INFO - Cleaned validation metrics file, kept 4 records before epoch 5\n",
      "2025-04-22 19:47:54 - INFO - Found 2244 existing training records\n",
      "2025-04-22 19:47:54 - INFO - Found 4 existing validation records\n"
     ]
    },
    {
     "name": "stdout",
     "output_type": "stream",
     "text": [
      "Loading full model from checkpoint: /home/piotr/Pulpit/codebook/studies/bachelor-thesis/models/DenseNetV1_1/checkpoints/cp-0004.keras\n"
     ]
    },
    {
     "name": "stderr",
     "output_type": "stream",
     "text": [
      "2025-04-22 19:47:55 - INFO - \n",
      "=== Training Started ===\n",
      "\n",
      "2025-04-22 19:47:55 - INFO - Batch Size: 128\n",
      "2025-04-22 19:47:55 - INFO - Optimizer: Adam\n",
      "2025-04-22 19:47:55 - INFO - \n",
      "==================================================\n",
      "\n",
      "2025-04-22 19:47:55 - INFO - \n",
      "=== Starting Epoch 5 ===\n",
      "\n"
     ]
    },
    {
     "name": "stdout",
     "output_type": "stream",
     "text": [
      "Epoch 5/100\n"
     ]
    },
    {
     "name": "stderr",
     "output_type": "stream",
     "text": [
      "WARNING: All log messages before absl::InitializeLog() is called are written to STDERR\n",
      "I0000 00:00:1745344083.649426    3503 service.cc:152] XLA service 0x7790580021e0 initialized for platform CUDA (this does not guarantee that XLA will be used). Devices:\n",
      "I0000 00:00:1745344083.649440    3503 service.cc:160]   StreamExecutor device (0): NVIDIA GeForce RTX 3090 Ti, Compute Capability 8.6\n",
      "I0000 00:00:1745344083.666985    3503 cuda_dnn.cc:529] Loaded cuDNN version 90300\n",
      "I0000 00:00:1745344083.745390    3503 device_compiler.h:188] Compiled cluster using XLA!  This line is logged at most once for the lifetime of the process.\n",
      "2025-04-22 19:48:22.972407: I tensorflow/core/kernels/data/shuffle_dataset_op.cc:452] ShuffleDatasetV3:10: Filling up shuffle buffer (this may take a while): 20860 of 25000\n",
      "2025-04-22 19:48:24.853449: I tensorflow/core/kernels/data/shuffle_dataset_op.cc:482] Shuffle buffer filled.\n",
      "2025-04-22 19:48:26.113136: I tensorflow/compiler/mlir/tensorflow/utils/dump_mlir_util.cc:269] disabling MLIR crash reproducer, set env var `MLIR_CRASH_REPRODUCER_DIRECTORY` to enable.\n"
     ]
    },
    {
     "name": "stdout",
     "output_type": "stream",
     "text": [
      "\u001b[1m311/561\u001b[0m \u001b[32m━━━━━━━━━━━\u001b[0m\u001b[37m━━━━━━━━━\u001b[0m \u001b[1m57s\u001b[0m 230ms/step - accuracy: 0.9248 - auc: 0.6985 - f1_score: 0.2916 - loss: 0.6704 - precision: 0.6482 - recall: 0.2770 "
     ]
    },
    {
     "name": "stderr",
     "output_type": "stream",
     "text": [
      "2025-04-22 19:50:37.255900: W tensorflow/core/lib/png/png_io.cc:92] PNG warning: iCCP: profile 'ICC Profile': 'GRAY': Gray color space not permitted on RGB PNG\n"
     ]
    },
    {
     "name": "stdout",
     "output_type": "stream",
     "text": [
      "\u001b[1m561/561\u001b[0m \u001b[32m━━━━━━━━━━━━━━━━━━━━\u001b[0m\u001b[37m\u001b[0m \u001b[1m0s\u001b[0m 222ms/step - accuracy: 0.9253 - auc: 0.7006 - f1_score: 0.2947 - loss: 0.6535 - precision: 0.6504 - recall: 0.2806 "
     ]
    },
    {
     "name": "stderr",
     "output_type": "stream",
     "text": [
      "2025-04-22 19:51:32.169388: W tensorflow/core/kernels/data/prefetch_autotuner.cc:52] Prefetch autotuner tried to allocate 113753600 bytes after encountering the first element of size 113753600 bytes.This already causes the autotune ram budget to be exceeded. To stay within the ram budget, either increase the ram budget or reduce element size\n",
      "2025-04-22 19:51:33.708579: I external/local_xla/xla/stream_executor/cuda/subprocess_compilation.cc:346] ptxas warning : Registers are spilled to local memory in function 'gemm_fusion_dot_3819', 76 bytes spill stores, 76 bytes spill loads\n",
      "\n",
      "2025-04-22 19:51:33.714335: I external/local_xla/xla/stream_executor/cuda/subprocess_compilation.cc:346] ptxas warning : Registers are spilled to local memory in function 'gemm_fusion_dot_3819_0', 188 bytes spill stores, 316 bytes spill loads\n",
      "\n",
      "2025-04-22 19:51:33.856839: I external/local_xla/xla/stream_executor/cuda/subprocess_compilation.cc:346] ptxas warning : Registers are spilled to local memory in function 'gemm_fusion_dot_3819', 212 bytes spill stores, 212 bytes spill loads\n",
      "\n",
      "2025-04-22 19:51:33.949497: I external/local_xla/xla/stream_executor/cuda/subprocess_compilation.cc:346] ptxas warning : Registers are spilled to local memory in function 'gemm_fusion_dot_3819', 3980 bytes spill stores, 3960 bytes spill loads\n",
      "\n",
      "2025-04-22 19:51:33.960360: I external/local_xla/xla/stream_executor/cuda/subprocess_compilation.cc:346] ptxas warning : Registers are spilled to local memory in function 'gemm_fusion_dot_3819', 3748 bytes spill stores, 3744 bytes spill loads\n",
      "\n",
      "2025-04-22 19:51:39.993633: I tensorflow/core/kernels/data/shuffle_dataset_op.cc:452] ShuffleDatasetV3:10: Filling up shuffle buffer (this may take a while): 10827 of 25000\n",
      "2025-04-22 19:51:49.626659: I tensorflow/core/kernels/data/shuffle_dataset_op.cc:482] Shuffle buffer filled.\n",
      "2025-04-22 19:51:56 - INFO - \n",
      "=== Epoch 5 Summary ===\n",
      "2025-04-22 19:51:56 - INFO - Time: 240.77s\n",
      "2025-04-22 19:51:56 - INFO - Training   - accuracy: 0.9258 - auc: 0.7044 - f1_score: 0.2984 - loss: 0.6182 - precision: 0.6530 - recall: 0.2851 - learning_rate: 0.0001\n",
      "2025-04-22 19:51:56 - INFO - Validation - accuracy: 0.9258 - auc: 0.7243 - f1_score: 0.2668 - loss: 0.5563 - precision: 0.6909 - recall: 0.2326\n",
      "2025-04-22 19:51:56 - INFO - ==================================================\n",
      "\n"
     ]
    },
    {
     "name": "stdout",
     "output_type": "stream",
     "text": [
      "\u001b[1m561/561\u001b[0m \u001b[32m━━━━━━━━━━━━━━━━━━━━\u001b[0m\u001b[37m\u001b[0m \u001b[1m241s\u001b[0m 269ms/step - accuracy: 0.9253 - auc: 0.7006 - f1_score: 0.2947 - loss: 0.6535 - precision: 0.6504 - recall: 0.2806 - val_accuracy: 0.9258 - val_auc: 0.7243 - val_f1_score: 0.2668 - val_loss: 0.5563 - val_precision: 0.6909 - val_recall: 0.2326 - learning_rate: 1.0000e-04\n"
     ]
    },
    {
     "name": "stderr",
     "output_type": "stream",
     "text": [
      "2025-04-22 19:51:56 - INFO - \n",
      "=== Starting Epoch 6 ===\n",
      "\n"
     ]
    },
    {
     "name": "stdout",
     "output_type": "stream",
     "text": [
      "Epoch 6/100\n"
     ]
    },
    {
     "name": "stderr",
     "output_type": "stream",
     "text": [
      "2025-04-22 19:52:40.862933: I external/local_xla/xla/stream_executor/cuda/subprocess_compilation.cc:346] ptxas warning : Registers are spilled to local memory in function 'input_reduce_transpose_fusion_58', 172 bytes spill stores, 156 bytes spill loads\n",
      "\n"
     ]
    },
    {
     "name": "stdout",
     "output_type": "stream",
     "text": [
      "\u001b[1m312/561\u001b[0m \u001b[32m━━━━━━━━━━━\u001b[0m\u001b[37m━━━━━━━━━\u001b[0m \u001b[1m57s\u001b[0m 231ms/step - accuracy: 0.9264 - auc: 0.7047 - f1_score: 0.3018 - loss: 0.5417 - precision: 0.6614 - recall: 0.2868 "
     ]
    },
    {
     "name": "stderr",
     "output_type": "stream",
     "text": [
      "2025-04-22 19:53:53.201876: W tensorflow/core/lib/png/png_io.cc:92] PNG warning: iCCP: profile 'ICC Profile': 'GRAY': Gray color space not permitted on RGB PNG\n"
     ]
    },
    {
     "name": "stdout",
     "output_type": "stream",
     "text": [
      "\u001b[1m561/561\u001b[0m \u001b[32m━━━━━━━━━━━━━━━━━━━━\u001b[0m\u001b[37m\u001b[0m \u001b[1m0s\u001b[0m 225ms/step - accuracy: 0.9264 - auc: 0.7083 - f1_score: 0.3012 - loss: 0.5313 - precision: 0.6615 - recall: 0.2863 "
     ]
    },
    {
     "name": "stderr",
     "output_type": "stream",
     "text": [
      "2025-04-22 19:54:47.287908: W tensorflow/core/kernels/data/prefetch_autotuner.cc:52] Prefetch autotuner tried to allocate 134225408 bytes after encountering the first element of size 134225408 bytes.This already causes the autotune ram budget to be exceeded. To stay within the ram budget, either increase the ram budget or reduce element size\n",
      "2025-04-22 19:54:47.288025: W tensorflow/core/kernels/data/prefetch_autotuner.cc:52] Prefetch autotuner tried to allocate 134225408 bytes after encountering the first element of size 134225408 bytes.This already causes the autotune ram budget to be exceeded. To stay within the ram budget, either increase the ram budget or reduce element size\n",
      "2025-04-22 19:54:56.735316: I tensorflow/core/kernels/data/shuffle_dataset_op.cc:452] ShuffleDatasetV3:10: Filling up shuffle buffer (this may take a while): 7352 of 25000\n",
      "2025-04-22 19:54:57 - INFO - \n",
      "=== Epoch 6 Summary ===\n",
      "2025-04-22 19:54:57 - INFO - Time: 181.46s\n",
      "2025-04-22 19:54:57 - INFO - Training   - accuracy: 0.9264 - auc: 0.7145 - f1_score: 0.3009 - loss: 0.5083 - precision: 0.6613 - recall: 0.2865 - learning_rate: 0.0001\n",
      "2025-04-22 19:54:57 - INFO - Validation - accuracy: 0.9233 - auc: 0.7248 - f1_score: 0.2075 - loss: 0.4733 - precision: 0.7586 - recall: 0.1457\n",
      "2025-04-22 19:54:57 - INFO - ==================================================\n",
      "\n"
     ]
    },
    {
     "name": "stdout",
     "output_type": "stream",
     "text": [
      "\u001b[1m561/561\u001b[0m \u001b[32m━━━━━━━━━━━━━━━━━━━━\u001b[0m\u001b[37m\u001b[0m \u001b[1m181s\u001b[0m 244ms/step - accuracy: 0.9264 - auc: 0.7083 - f1_score: 0.3012 - loss: 0.5312 - precision: 0.6615 - recall: 0.2863 - val_accuracy: 0.9233 - val_auc: 0.7248 - val_f1_score: 0.2075 - val_loss: 0.4733 - val_precision: 0.7586 - val_recall: 0.1457 - learning_rate: 1.0000e-04\n"
     ]
    },
    {
     "name": "stderr",
     "output_type": "stream",
     "text": [
      "2025-04-22 19:54:57 - INFO - \n",
      "=== Starting Epoch 7 ===\n",
      "\n"
     ]
    },
    {
     "name": "stdout",
     "output_type": "stream",
     "text": [
      "Epoch 7/100\n",
      "\u001b[1m  2/561\u001b[0m \u001b[37m━━━━━━━━━━━━━━━━━━━━\u001b[0m \u001b[1m39s\u001b[0m 71ms/step - accuracy: 0.9323 - auc: 0.6250 - f1_score: 0.3484 - loss: 0.4471 - precision: 0.6811 - recall: 0.3478  "
     ]
    },
    {
     "name": "stderr",
     "output_type": "stream",
     "text": [
      "2025-04-22 19:55:09.541863: I tensorflow/core/kernels/data/shuffle_dataset_op.cc:482] Shuffle buffer filled.\n"
     ]
    },
    {
     "name": "stdout",
     "output_type": "stream",
     "text": [
      "\u001b[1m313/561\u001b[0m \u001b[32m━━━━━━━━━━━\u001b[0m\u001b[37m━━━━━━━━━\u001b[0m \u001b[1m1:10\u001b[0m 282ms/step - accuracy: 0.9257 - auc: 0.7176 - f1_score: 0.2981 - loss: 0.4585 - precision: 0.6535 - recall: 0.2853"
     ]
    },
    {
     "name": "stderr",
     "output_type": "stream",
     "text": [
      "2025-04-22 19:56:26.222187: W tensorflow/core/lib/png/png_io.cc:92] PNG warning: iCCP: profile 'ICC Profile': 'GRAY': Gray color space not permitted on RGB PNG\n"
     ]
    },
    {
     "name": "stdout",
     "output_type": "stream",
     "text": [
      "\u001b[1m561/561\u001b[0m \u001b[32m━━━━━━━━━━━━━━━━━━━━\u001b[0m\u001b[37m\u001b[0m \u001b[1m0s\u001b[0m 252ms/step - accuracy: 0.9260 - auc: 0.7188 - f1_score: 0.3001 - loss: 0.4507 - precision: 0.6566 - recall: 0.2869  "
     ]
    },
    {
     "name": "stderr",
     "output_type": "stream",
     "text": [
      "2025-04-22 19:57:19.235346: W tensorflow/core/kernels/data/prefetch_autotuner.cc:52] Prefetch autotuner tried to allocate 134231040 bytes after encountering the first element of size 134231040 bytes.This already causes the autotune ram budget to be exceeded. To stay within the ram budget, either increase the ram budget or reduce element size\n",
      "2025-04-22 19:57:28.083051: I tensorflow/core/kernels/data/shuffle_dataset_op.cc:452] ShuffleDatasetV3:10: Filling up shuffle buffer (this may take a while): 7539 of 25000\n",
      "2025-04-22 19:57:29 - INFO - \n",
      "=== Epoch 7 Summary ===\n",
      "2025-04-22 19:57:29 - INFO - Time: 151.57s\n",
      "2025-04-22 19:57:29 - INFO - Training   - accuracy: 0.9265 - auc: 0.7221 - f1_score: 0.3047 - loss: 0.4341 - precision: 0.6614 - recall: 0.2909 - learning_rate: 0.0001\n",
      "2025-04-22 19:57:29 - INFO - Validation - accuracy: 0.9234 - auc: 0.7357 - f1_score: 0.2105 - loss: 0.4091 - precision: 0.7402 - recall: 0.1552\n",
      "2025-04-22 19:57:29 - INFO - ==================================================\n",
      "\n"
     ]
    },
    {
     "name": "stdout",
     "output_type": "stream",
     "text": [
      "\u001b[1m561/561\u001b[0m \u001b[32m━━━━━━━━━━━━━━━━━━━━\u001b[0m\u001b[37m\u001b[0m \u001b[1m152s\u001b[0m 270ms/step - accuracy: 0.9260 - auc: 0.7188 - f1_score: 0.3001 - loss: 0.4507 - precision: 0.6566 - recall: 0.2869 - val_accuracy: 0.9234 - val_auc: 0.7357 - val_f1_score: 0.2105 - val_loss: 0.4091 - val_precision: 0.7402 - val_recall: 0.1552 - learning_rate: 1.0000e-04\n"
     ]
    },
    {
     "name": "stderr",
     "output_type": "stream",
     "text": [
      "2025-04-22 19:57:29 - INFO - \n",
      "=== Starting Epoch 8 ===\n",
      "\n"
     ]
    },
    {
     "name": "stdout",
     "output_type": "stream",
     "text": [
      "Epoch 8/100\n",
      "\u001b[1m  3/561\u001b[0m \u001b[37m━━━━━━━━━━━━━━━━━━━━\u001b[0m \u001b[1m1:17\u001b[0m 138ms/step - accuracy: 0.9259 - auc: 0.7540 - f1_score: 0.2627 - loss: 0.4062 - precision: 0.6428 - recall: 0.2642"
     ]
    },
    {
     "name": "stderr",
     "output_type": "stream",
     "text": [
      "2025-04-22 19:57:39.273523: I tensorflow/core/kernels/data/shuffle_dataset_op.cc:482] Shuffle buffer filled.\n"
     ]
    },
    {
     "name": "stdout",
     "output_type": "stream",
     "text": [
      "\u001b[1m313/561\u001b[0m \u001b[32m━━━━━━━━━━━\u001b[0m\u001b[37m━━━━━━━━━\u001b[0m \u001b[1m1:08\u001b[0m 275ms/step - accuracy: 0.9267 - auc: 0.7289 - f1_score: 0.3113 - loss: 0.3982 - precision: 0.6595 - recall: 0.2957"
     ]
    },
    {
     "name": "stderr",
     "output_type": "stream",
     "text": [
      "2025-04-22 19:58:55.582951: W tensorflow/core/lib/png/png_io.cc:92] PNG warning: iCCP: profile 'ICC Profile': 'GRAY': Gray color space not permitted on RGB PNG\n"
     ]
    },
    {
     "name": "stdout",
     "output_type": "stream",
     "text": [
      "\u001b[1m561/561\u001b[0m \u001b[32m━━━━━━━━━━━━━━━━━━━━\u001b[0m\u001b[37m\u001b[0m \u001b[1m0s\u001b[0m 248ms/step - accuracy: 0.9268 - auc: 0.7272 - f1_score: 0.3110 - loss: 0.3934 - precision: 0.6619 - recall: 0.2956  "
     ]
    },
    {
     "name": "stderr",
     "output_type": "stream",
     "text": [
      "2025-04-22 19:59:56.017056: I tensorflow/core/kernels/data/shuffle_dataset_op.cc:452] ShuffleDatasetV3:10: Filling up shuffle buffer (this may take a while): 12742 of 25000\n",
      "2025-04-22 20:00:05.809557: I tensorflow/core/kernels/data/shuffle_dataset_op.cc:482] Shuffle buffer filled.\n",
      "2025-04-22 20:00:08 - INFO - \n",
      "=== Epoch 8 Summary ===\n",
      "2025-04-22 20:00:08 - INFO - Time: 158.86s\n",
      "2025-04-22 20:00:08 - INFO - Training   - accuracy: 0.9271 - auc: 0.7265 - f1_score: 0.3126 - loss: 0.3821 - precision: 0.6664 - recall: 0.2974 - learning_rate: 0.0001\n",
      "2025-04-22 20:00:08 - INFO - Validation - accuracy: 0.9274 - auc: 0.7331 - f1_score: 0.2899 - loss: 0.3624 - precision: 0.6676 - recall: 0.2947\n",
      "2025-04-22 20:00:08 - INFO - ==================================================\n",
      "\n"
     ]
    },
    {
     "name": "stdout",
     "output_type": "stream",
     "text": [
      "\u001b[1m561/561\u001b[0m \u001b[32m━━━━━━━━━━━━━━━━━━━━\u001b[0m\u001b[37m\u001b[0m \u001b[1m159s\u001b[0m 283ms/step - accuracy: 0.9268 - auc: 0.7272 - f1_score: 0.3110 - loss: 0.3933 - precision: 0.6619 - recall: 0.2956 - val_accuracy: 0.9274 - val_auc: 0.7331 - val_f1_score: 0.2899 - val_loss: 0.3624 - val_precision: 0.6676 - val_recall: 0.2947 - learning_rate: 1.0000e-04\n"
     ]
    },
    {
     "name": "stderr",
     "output_type": "stream",
     "text": [
      "2025-04-22 20:00:08 - INFO - \n",
      "=== Starting Epoch 9 ===\n",
      "\n"
     ]
    },
    {
     "name": "stdout",
     "output_type": "stream",
     "text": [
      "Epoch 9/100\n",
      "\u001b[1m315/561\u001b[0m \u001b[32m━━━━━━━━━━━\u001b[0m\u001b[37m━━━━━━━━━\u001b[0m \u001b[1m59s\u001b[0m 240ms/step - accuracy: 0.9264 - auc: 0.7277 - f1_score: 0.3141 - loss: 0.3588 - precision: 0.6629 - recall: 0.2967 "
     ]
    },
    {
     "name": "stderr",
     "output_type": "stream",
     "text": [
      "2025-04-22 20:01:24.158928: W tensorflow/core/lib/png/png_io.cc:92] PNG warning: iCCP: profile 'ICC Profile': 'GRAY': Gray color space not permitted on RGB PNG\n"
     ]
    },
    {
     "name": "stdout",
     "output_type": "stream",
     "text": [
      "\u001b[1m561/561\u001b[0m \u001b[32m━━━━━━━━━━━━━━━━━━━━\u001b[0m\u001b[37m\u001b[0m \u001b[1m0s\u001b[0m 229ms/step - accuracy: 0.9268 - auc: 0.7294 - f1_score: 0.3139 - loss: 0.3540 - precision: 0.6651 - recall: 0.2972 "
     ]
    },
    {
     "name": "stderr",
     "output_type": "stream",
     "text": [
      "2025-04-22 20:02:17.209983: W tensorflow/core/kernels/data/prefetch_autotuner.cc:52] Prefetch autotuner tried to allocate 77078016 bytes after encountering the first element of size 77078016 bytes.This already causes the autotune ram budget to be exceeded. To stay within the ram budget, either increase the ram budget or reduce element size\n",
      "2025-04-22 20:02:21.577981: I tensorflow/core/kernels/data/shuffle_dataset_op.cc:452] ShuffleDatasetV3:10: Filling up shuffle buffer (this may take a while): 9019 of 25000\n",
      "2025-04-22 20:02:41.572066: I tensorflow/core/kernels/data/shuffle_dataset_op.cc:452] ShuffleDatasetV3:10: Filling up shuffle buffer (this may take a while): 20521 of 25000\n",
      "2025-04-22 20:02:43 - INFO - \n",
      "=== Epoch 9 Summary ===\n",
      "2025-04-22 20:02:43 - INFO - Time: 155.21s\n",
      "2025-04-22 20:02:43 - INFO - Training   - accuracy: 0.9272 - auc: 0.7329 - f1_score: 0.3138 - loss: 0.3443 - precision: 0.6672 - recall: 0.2981 - learning_rate: 0.0001\n",
      "2025-04-22 20:02:43 - INFO - Validation - accuracy: 0.9217 - auc: 0.7372 - f1_score: 0.1660 - loss: 0.3424 - precision: 0.7880 - recall: 0.1099\n",
      "2025-04-22 20:02:43 - INFO - ==================================================\n",
      "\n"
     ]
    },
    {
     "name": "stdout",
     "output_type": "stream",
     "text": [
      "\u001b[1m561/561\u001b[0m \u001b[32m━━━━━━━━━━━━━━━━━━━━\u001b[0m\u001b[37m\u001b[0m \u001b[1m155s\u001b[0m 277ms/step - accuracy: 0.9268 - auc: 0.7294 - f1_score: 0.3139 - loss: 0.3540 - precision: 0.6651 - recall: 0.2972 - val_accuracy: 0.9217 - val_auc: 0.7372 - val_f1_score: 0.1660 - val_loss: 0.3424 - val_precision: 0.7880 - val_recall: 0.1099 - learning_rate: 1.0000e-04\n"
     ]
    },
    {
     "name": "stderr",
     "output_type": "stream",
     "text": [
      "2025-04-22 20:02:43 - INFO - \n",
      "=== Starting Epoch 10 ===\n",
      "\n"
     ]
    },
    {
     "name": "stdout",
     "output_type": "stream",
     "text": [
      "Epoch 10/100\n",
      "\u001b[1m  5/561\u001b[0m \u001b[37m━━━━━━━━━━━━━━━━━━━━\u001b[0m \u001b[1m1:34\u001b[0m 170ms/step - accuracy: 0.9287 - auc: 0.7156 - f1_score: 0.3030 - loss: 0.3273 - precision: 0.6982 - recall: 0.2739"
     ]
    },
    {
     "name": "stderr",
     "output_type": "stream",
     "text": [
      "2025-04-22 20:02:45.824670: I tensorflow/core/kernels/data/shuffle_dataset_op.cc:482] Shuffle buffer filled.\n"
     ]
    },
    {
     "name": "stdout",
     "output_type": "stream",
     "text": [
      "\u001b[1m316/561\u001b[0m \u001b[32m━━━━━━━━━━━\u001b[0m\u001b[37m━━━━━━━━━\u001b[0m \u001b[1m1:00\u001b[0m 246ms/step - accuracy: 0.9270 - auc: 0.7376 - f1_score: 0.3129 - loss: 0.3264 - precision: 0.6698 - recall: 0.2957"
     ]
    },
    {
     "name": "stderr",
     "output_type": "stream",
     "text": [
      "2025-04-22 20:04:01.533443: W tensorflow/core/lib/png/png_io.cc:92] PNG warning: iCCP: profile 'ICC Profile': 'GRAY': Gray color space not permitted on RGB PNG\n"
     ]
    },
    {
     "name": "stdout",
     "output_type": "stream",
     "text": [
      "\u001b[1m381/561\u001b[0m \u001b[32m━━━━━━━━━━━━━\u001b[0m\u001b[37m━━━━━━━\u001b[0m \u001b[1m44s\u001b[0m 247ms/step - accuracy: 0.9271 - auc: 0.7376 - f1_score: 0.3137 - loss: 0.3255 - precision: 0.6696 - recall: 0.2969 "
     ]
    },
    {
     "name": "stderr",
     "output_type": "stream",
     "text": [
      "2025-04-22 20:04:18.924413: W external/local_xla/xla/stream_executor/integrations/stream_executor_allocator.cc:50] could not allocate pinned host memory of size: 4294967296\n"
     ]
    },
    {
     "name": "stdout",
     "output_type": "stream",
     "text": [
      "\u001b[1m382/561\u001b[0m \u001b[32m━━━━━━━━━━━━━\u001b[0m\u001b[37m━━━━━━━\u001b[0m \u001b[1m44s\u001b[0m 249ms/step - accuracy: 0.9271 - auc: 0.7376 - f1_score: 0.3137 - loss: 0.3255 - precision: 0.6696 - recall: 0.2969"
     ]
    },
    {
     "name": "stderr",
     "output_type": "stream",
     "text": [
      "2025-04-22 20:04:19.715115: W external/local_xla/xla/stream_executor/integrations/stream_executor_allocator.cc:50] could not allocate pinned host memory of size: 3865470464\n",
      "2025-04-22 20:04:27.362188: W external/local_xla/xla/stream_executor/integrations/stream_executor_allocator.cc:50] could not allocate pinned host memory of size: 3478923264\n",
      "2025-04-22 20:04:28.292389: W external/local_xla/xla/stream_executor/integrations/stream_executor_allocator.cc:50] could not allocate pinned host memory of size: 3131030784\n",
      "2025-04-22 20:04:28.853009: W external/local_xla/xla/stream_executor/integrations/stream_executor_allocator.cc:50] could not allocate pinned host memory of size: 2817927680\n",
      "2025-04-22 20:04:29.362766: W external/local_xla/xla/stream_executor/integrations/stream_executor_allocator.cc:50] could not allocate pinned host memory of size: 2536134912\n",
      "2025-04-22 20:04:29.828628: W external/local_xla/xla/stream_executor/integrations/stream_executor_allocator.cc:50] could not allocate pinned host memory of size: 2282521344\n"
     ]
    },
    {
     "name": "stdout",
     "output_type": "stream",
     "text": [
      "\u001b[1m553/561\u001b[0m \u001b[32m━━━━━━━━━━━━━━━━━━━\u001b[0m\u001b[37m━\u001b[0m \u001b[1m2s\u001b[0m 256ms/step - accuracy: 0.9272 - auc: 0.7379 - f1_score: 0.3153 - loss: 0.3232 - precision: 0.6692 - recall: 0.2988 "
     ]
    },
    {
     "name": "stderr",
     "output_type": "stream",
     "text": [
      "2025-04-22 20:05:05.309583: I tensorflow/core/kernels/data/shuffle_dataset_op.cc:452] ShuffleDatasetV3:10: Filling up shuffle buffer (this may take a while): 13024 of 25000\n"
     ]
    },
    {
     "name": "stdout",
     "output_type": "stream",
     "text": [
      "\u001b[1m561/561\u001b[0m \u001b[32m━━━━━━━━━━━━━━━━━━━━\u001b[0m\u001b[37m\u001b[0m \u001b[1m0s\u001b[0m 256ms/step - accuracy: 0.9272 - auc: 0.7379 - f1_score: 0.3153 - loss: 0.3231 - precision: 0.6692 - recall: 0.2988"
     ]
    },
    {
     "name": "stderr",
     "output_type": "stream",
     "text": [
      "2025-04-22 20:05:07.431747: W tensorflow/core/kernels/data/prefetch_autotuner.cc:52] Prefetch autotuner tried to allocate 77078016 bytes after encountering the first element of size 77078016 bytes.This already causes the autotune ram budget to be exceeded. To stay within the ram budget, either increase the ram budget or reduce element size\n",
      "2025-04-22 20:05:25.344773: I tensorflow/core/kernels/data/shuffle_dataset_op.cc:452] ShuffleDatasetV3:10: Filling up shuffle buffer (this may take a while): 22349 of 25000\n",
      "2025-04-22 20:05:31.595788: I tensorflow/core/kernels/data/shuffle_dataset_op.cc:482] Shuffle buffer filled.\n",
      "2025-04-22 20:05:40 - INFO - \n",
      "=== Epoch 10 Summary ===\n",
      "2025-04-22 20:05:40 - INFO - Time: 176.62s\n",
      "2025-04-22 20:05:40 - INFO - Training   - accuracy: 0.9274 - auc: 0.7393 - f1_score: 0.3184 - loss: 0.3163 - precision: 0.6682 - recall: 0.3024 - learning_rate: 0.0001\n",
      "2025-04-22 20:05:40 - INFO - Validation - accuracy: 0.9281 - auc: 0.7491 - f1_score: 0.3192 - loss: 0.3043 - precision: 0.6520 - recall: 0.3328\n",
      "2025-04-22 20:05:40 - INFO - ==================================================\n",
      "\n"
     ]
    },
    {
     "name": "stdout",
     "output_type": "stream",
     "text": [
      "\u001b[1m561/561\u001b[0m \u001b[32m━━━━━━━━━━━━━━━━━━━━\u001b[0m\u001b[37m\u001b[0m \u001b[1m177s\u001b[0m 316ms/step - accuracy: 0.9272 - auc: 0.7379 - f1_score: 0.3153 - loss: 0.3231 - precision: 0.6691 - recall: 0.2988 - val_accuracy: 0.9281 - val_auc: 0.7491 - val_f1_score: 0.3192 - val_loss: 0.3043 - val_precision: 0.6520 - val_recall: 0.3328 - learning_rate: 1.0000e-04\n"
     ]
    },
    {
     "name": "stderr",
     "output_type": "stream",
     "text": [
      "2025-04-22 20:05:40 - INFO - \n",
      "=== Starting Epoch 11 ===\n",
      "\n"
     ]
    },
    {
     "name": "stdout",
     "output_type": "stream",
     "text": [
      "Epoch 11/100\n",
      "\u001b[1m317/561\u001b[0m \u001b[32m━━━━━━━━━━━\u001b[0m\u001b[37m━━━━━━━━━\u001b[0m \u001b[1m57s\u001b[0m 237ms/step - accuracy: 0.9269 - auc: 0.7406 - f1_score: 0.3127 - loss: 0.3040 - precision: 0.6677 - recall: 0.2968 "
     ]
    },
    {
     "name": "stderr",
     "output_type": "stream",
     "text": [
      "2025-04-22 20:06:56.102025: W tensorflow/core/lib/png/png_io.cc:92] PNG warning: iCCP: profile 'ICC Profile': 'GRAY': Gray color space not permitted on RGB PNG\n"
     ]
    },
    {
     "name": "stdout",
     "output_type": "stream",
     "text": [
      "\u001b[1m552/561\u001b[0m \u001b[32m━━━━━━━━━━━━━━━━━━━\u001b[0m\u001b[37m━\u001b[0m \u001b[1m2s\u001b[0m 231ms/step - accuracy: 0.9271 - auc: 0.7431 - f1_score: 0.3147 - loss: 0.3014 - precision: 0.6694 - recall: 0.2983 "
     ]
    },
    {
     "name": "stderr",
     "output_type": "stream",
     "text": [
      "2025-04-22 20:07:48.162150: I tensorflow/core/kernels/data/shuffle_dataset_op.cc:452] ShuffleDatasetV3:10: Filling up shuffle buffer (this may take a while): 8774 of 25000\n"
     ]
    },
    {
     "name": "stdout",
     "output_type": "stream",
     "text": [
      "\u001b[1m561/561\u001b[0m \u001b[32m━━━━━━━━━━━━━━━━━━━━\u001b[0m\u001b[37m\u001b[0m \u001b[1m0s\u001b[0m 230ms/step - accuracy: 0.9271 - auc: 0.7432 - f1_score: 0.3148 - loss: 0.3013 - precision: 0.6694 - recall: 0.2984"
     ]
    },
    {
     "name": "stderr",
     "output_type": "stream",
     "text": [
      "2025-04-22 20:07:50.850414: W tensorflow/core/kernels/data/prefetch_autotuner.cc:52] Prefetch autotuner tried to allocate 77078016 bytes after encountering the first element of size 77078016 bytes.This already causes the autotune ram budget to be exceeded. To stay within the ram budget, either increase the ram budget or reduce element size\n",
      "2025-04-22 20:08:08.166995: I tensorflow/core/kernels/data/shuffle_dataset_op.cc:452] ShuffleDatasetV3:10: Filling up shuffle buffer (this may take a while): 17433 of 25000\n",
      "2025-04-22 20:08:18 - INFO - \n",
      "=== Epoch 11 Summary ===\n",
      "2025-04-22 20:08:18 - INFO - Time: 157.56s\n",
      "2025-04-22 20:08:18 - INFO - Training   - accuracy: 0.9277 - auc: 0.7457 - f1_score: 0.3210 - loss: 0.2950 - precision: 0.6706 - recall: 0.3043 - learning_rate: 0.0001\n",
      "2025-04-22 20:08:18 - INFO - Validation - accuracy: 0.9278 - auc: 0.7454 - f1_score: 0.2829 - loss: 0.2880 - precision: 0.7064 - recall: 0.2610\n",
      "2025-04-22 20:08:18 - INFO - ==================================================\n",
      "\n"
     ]
    },
    {
     "name": "stdout",
     "output_type": "stream",
     "text": [
      "\u001b[1m561/561\u001b[0m \u001b[32m━━━━━━━━━━━━━━━━━━━━\u001b[0m\u001b[37m\u001b[0m \u001b[1m158s\u001b[0m 281ms/step - accuracy: 0.9271 - auc: 0.7432 - f1_score: 0.3148 - loss: 0.3013 - precision: 0.6694 - recall: 0.2984 - val_accuracy: 0.9278 - val_auc: 0.7454 - val_f1_score: 0.2829 - val_loss: 0.2880 - val_precision: 0.7064 - val_recall: 0.2610 - learning_rate: 1.0000e-04\n"
     ]
    },
    {
     "name": "stderr",
     "output_type": "stream",
     "text": [
      "2025-04-22 20:08:18 - INFO - \n",
      "=== Starting Epoch 12 ===\n",
      "\n"
     ]
    },
    {
     "name": "stdout",
     "output_type": "stream",
     "text": [
      "Epoch 12/100\n",
      "\u001b[1m  7/561\u001b[0m \u001b[37m━━━━━━━━━━━━━━━━━━━━\u001b[0m \u001b[1m1:48\u001b[0m 195ms/step - accuracy: 0.9246 - auc: 0.7208 - f1_score: 0.3099 - loss: 0.2915 - precision: 0.6483 - recall: 0.3003"
     ]
    },
    {
     "name": "stderr",
     "output_type": "stream",
     "text": [
      "2025-04-22 20:08:21.060017: I tensorflow/core/kernels/data/shuffle_dataset_op.cc:482] Shuffle buffer filled.\n"
     ]
    },
    {
     "name": "stdout",
     "output_type": "stream",
     "text": [
      "\u001b[1m318/561\u001b[0m \u001b[32m━━━━━━━━━━━\u001b[0m\u001b[37m━━━━━━━━━\u001b[0m \u001b[1m1:03\u001b[0m 261ms/step - accuracy: 0.9274 - auc: 0.7456 - f1_score: 0.3203 - loss: 0.2854 - precision: 0.6678 - recall: 0.3051"
     ]
    },
    {
     "name": "stderr",
     "output_type": "stream",
     "text": [
      "2025-04-22 20:09:41.590461: W tensorflow/core/lib/png/png_io.cc:92] PNG warning: iCCP: profile 'ICC Profile': 'GRAY': Gray color space not permitted on RGB PNG\n"
     ]
    },
    {
     "name": "stdout",
     "output_type": "stream",
     "text": [
      "\u001b[1m554/561\u001b[0m \u001b[32m━━━━━━━━━━━━━━━━━━━\u001b[0m\u001b[37m━\u001b[0m \u001b[1m1s\u001b[0m 243ms/step - accuracy: 0.9276 - auc: 0.7469 - f1_score: 0.3218 - loss: 0.2835 - precision: 0.6703 - recall: 0.3056  "
     ]
    },
    {
     "name": "stderr",
     "output_type": "stream",
     "text": [
      "2025-04-22 20:10:33.143558: I tensorflow/core/kernels/data/shuffle_dataset_op.cc:452] ShuffleDatasetV3:10: Filling up shuffle buffer (this may take a while): 8691 of 25000\n"
     ]
    },
    {
     "name": "stdout",
     "output_type": "stream",
     "text": [
      "\u001b[1m561/561\u001b[0m \u001b[32m━━━━━━━━━━━━━━━━━━━━\u001b[0m\u001b[37m\u001b[0m \u001b[1m0s\u001b[0m 243ms/step - accuracy: 0.9276 - auc: 0.7470 - f1_score: 0.3219 - loss: 0.2834 - precision: 0.6704 - recall: 0.3056"
     ]
    },
    {
     "name": "stderr",
     "output_type": "stream",
     "text": [
      "2025-04-22 20:10:35.200093: W tensorflow/core/kernels/data/prefetch_autotuner.cc:52] Prefetch autotuner tried to allocate 127518464 bytes after encountering the first element of size 127518464 bytes.This already causes the autotune ram budget to be exceeded. To stay within the ram budget, either increase the ram budget or reduce element size\n",
      "2025-04-22 20:10:35.200215: W tensorflow/core/kernels/data/prefetch_autotuner.cc:52] Prefetch autotuner tried to allocate 127518464 bytes after encountering the first element of size 127518464 bytes.This already causes the autotune ram budget to be exceeded. To stay within the ram budget, either increase the ram budget or reduce element size\n",
      "2025-04-22 20:10:43.156306: I tensorflow/core/kernels/data/shuffle_dataset_op.cc:452] ShuffleDatasetV3:10: Filling up shuffle buffer (this may take a while): 13829 of 25000\n",
      "2025-04-22 20:11:03.141372: I tensorflow/core/kernels/data/shuffle_dataset_op.cc:452] ShuffleDatasetV3:10: Filling up shuffle buffer (this may take a while): 22821 of 25000\n",
      "2025-04-22 20:11:08.719733: I tensorflow/core/kernels/data/shuffle_dataset_op.cc:482] Shuffle buffer filled.\n",
      "2025-04-22 20:11:13 - INFO - \n",
      "=== Epoch 12 Summary ===\n",
      "2025-04-22 20:11:13 - INFO - Time: 174.46s\n",
      "2025-04-22 20:11:13 - INFO - Training   - accuracy: 0.9280 - auc: 0.7504 - f1_score: 0.3254 - loss: 0.2788 - precision: 0.6747 - recall: 0.3073 - learning_rate: 0.0001\n",
      "2025-04-22 20:11:13 - INFO - Validation - accuracy: 0.9269 - auc: 0.7487 - f1_score: 0.2771 - loss: 0.2774 - precision: 0.7209 - recall: 0.2310\n",
      "2025-04-22 20:11:13 - INFO - ==================================================\n",
      "\n"
     ]
    },
    {
     "name": "stdout",
     "output_type": "stream",
     "text": [
      "\u001b[1m561/561\u001b[0m \u001b[32m━━━━━━━━━━━━━━━━━━━━\u001b[0m\u001b[37m\u001b[0m \u001b[1m175s\u001b[0m 311ms/step - accuracy: 0.9276 - auc: 0.7470 - f1_score: 0.3219 - loss: 0.2834 - precision: 0.6704 - recall: 0.3056 - val_accuracy: 0.9269 - val_auc: 0.7487 - val_f1_score: 0.2771 - val_loss: 0.2774 - val_precision: 0.7209 - val_recall: 0.2310 - learning_rate: 1.0000e-04\n"
     ]
    },
    {
     "name": "stderr",
     "output_type": "stream",
     "text": [
      "2025-04-22 20:11:13 - INFO - \n",
      "=== Starting Epoch 13 ===\n",
      "\n"
     ]
    },
    {
     "name": "stdout",
     "output_type": "stream",
     "text": [
      "Epoch 13/100\n",
      "\u001b[1m319/561\u001b[0m \u001b[32m━━━━━━━━━━━\u001b[0m\u001b[37m━━━━━━━━━\u001b[0m \u001b[1m1:00\u001b[0m 251ms/step - accuracy: 0.9285 - auc: 0.7568 - f1_score: 0.3306 - loss: 0.2702 - precision: 0.6776 - recall: 0.3137"
     ]
    },
    {
     "name": "stderr",
     "output_type": "stream",
     "text": [
      "2025-04-22 20:12:33.339166: W tensorflow/core/lib/png/png_io.cc:92] PNG warning: iCCP: profile 'ICC Profile': 'GRAY': Gray color space not permitted on RGB PNG\n"
     ]
    },
    {
     "name": "stdout",
     "output_type": "stream",
     "text": [
      "\u001b[1m554/561\u001b[0m \u001b[32m━━━━━━━━━━━━━━━━━━━\u001b[0m\u001b[37m━\u001b[0m \u001b[1m1s\u001b[0m 238ms/step - accuracy: 0.9283 - auc: 0.7560 - f1_score: 0.3303 - loss: 0.2690 - precision: 0.6768 - recall: 0.3123  "
     ]
    },
    {
     "name": "stderr",
     "output_type": "stream",
     "text": [
      "2025-04-22 20:13:25.056274: I tensorflow/core/kernels/data/shuffle_dataset_op.cc:452] ShuffleDatasetV3:10: Filling up shuffle buffer (this may take a while): 8651 of 25000\n"
     ]
    },
    {
     "name": "stdout",
     "output_type": "stream",
     "text": [
      "\u001b[1m561/561\u001b[0m \u001b[32m━━━━━━━━━━━━━━━━━━━━\u001b[0m\u001b[37m\u001b[0m \u001b[1m0s\u001b[0m 238ms/step - accuracy: 0.9283 - auc: 0.7560 - f1_score: 0.3302 - loss: 0.2689 - precision: 0.6768 - recall: 0.3123"
     ]
    },
    {
     "name": "stderr",
     "output_type": "stream",
     "text": [
      "2025-04-22 20:13:27.199780: W tensorflow/core/kernels/data/prefetch_autotuner.cc:52] Prefetch autotuner tried to allocate 77078016 bytes after encountering the first element of size 77078016 bytes.This already causes the autotune ram budget to be exceeded. To stay within the ram budget, either increase the ram budget or reduce element size\n",
      "2025-04-22 20:13:45.068673: I tensorflow/core/kernels/data/shuffle_dataset_op.cc:452] ShuffleDatasetV3:10: Filling up shuffle buffer (this may take a while): 18126 of 25000\n",
      "2025-04-22 20:13:57.391325: I tensorflow/core/kernels/data/shuffle_dataset_op.cc:482] Shuffle buffer filled.\n",
      "2025-04-22 20:13:58 - INFO - \n",
      "=== Epoch 13 Summary ===\n",
      "2025-04-22 20:13:58 - INFO - Time: 165.56s\n",
      "2025-04-22 20:13:58 - INFO - Training   - accuracy: 0.9282 - auc: 0.7558 - f1_score: 0.3293 - loss: 0.2660 - precision: 0.6755 - recall: 0.3104 - learning_rate: 0.0001\n",
      "2025-04-22 20:13:58 - INFO - Validation - accuracy: 0.9277 - auc: 0.7535 - f1_score: 0.3350 - loss: 0.2642 - precision: 0.6522 - recall: 0.3230\n",
      "2025-04-22 20:13:58 - INFO - ==================================================\n",
      "\n"
     ]
    },
    {
     "name": "stdout",
     "output_type": "stream",
     "text": [
      "\u001b[1m561/561\u001b[0m \u001b[32m━━━━━━━━━━━━━━━━━━━━\u001b[0m\u001b[37m\u001b[0m \u001b[1m168s\u001b[0m 300ms/step - accuracy: 0.9283 - auc: 0.7560 - f1_score: 0.3302 - loss: 0.2689 - precision: 0.6768 - recall: 0.3123 - val_accuracy: 0.9277 - val_auc: 0.7535 - val_f1_score: 0.3350 - val_loss: 0.2642 - val_precision: 0.6522 - val_recall: 0.3230 - learning_rate: 1.0000e-04\n"
     ]
    },
    {
     "name": "stderr",
     "output_type": "stream",
     "text": [
      "2025-04-22 20:14:01 - INFO - \n",
      "=== Starting Epoch 14 ===\n",
      "\n"
     ]
    },
    {
     "name": "stdout",
     "output_type": "stream",
     "text": [
      "Epoch 14/100\n",
      "\u001b[1m320/561\u001b[0m \u001b[32m━━━━━━━━━━━\u001b[0m\u001b[37m━━━━━━━━━\u001b[0m \u001b[1m59s\u001b[0m 245ms/step - accuracy: 0.9280 - auc: 0.7564 - f1_score: 0.3299 - loss: 0.2601 - precision: 0.6778 - recall: 0.3090 "
     ]
    },
    {
     "name": "stderr",
     "output_type": "stream",
     "text": [
      "2025-04-22 20:15:20.026647: W tensorflow/core/lib/png/png_io.cc:92] PNG warning: iCCP: profile 'ICC Profile': 'GRAY': Gray color space not permitted on RGB PNG\n"
     ]
    },
    {
     "name": "stdout",
     "output_type": "stream",
     "text": [
      "\u001b[1m555/561\u001b[0m \u001b[32m━━━━━━━━━━━━━━━━━━━\u001b[0m\u001b[37m━\u001b[0m \u001b[1m1s\u001b[0m 234ms/step - accuracy: 0.9281 - auc: 0.7572 - f1_score: 0.3304 - loss: 0.2590 - precision: 0.6779 - recall: 0.3098 "
     ]
    },
    {
     "name": "stderr",
     "output_type": "stream",
     "text": [
      "2025-04-22 20:16:11.613494: I tensorflow/core/kernels/data/shuffle_dataset_op.cc:452] ShuffleDatasetV3:10: Filling up shuffle buffer (this may take a while): 9181 of 25000\n"
     ]
    },
    {
     "name": "stdout",
     "output_type": "stream",
     "text": [
      "\u001b[1m561/561\u001b[0m \u001b[32m━━━━━━━━━━━━━━━━━━━━\u001b[0m\u001b[37m\u001b[0m \u001b[1m0s\u001b[0m 234ms/step - accuracy: 0.9281 - auc: 0.7573 - f1_score: 0.3304 - loss: 0.2589 - precision: 0.6779 - recall: 0.3099"
     ]
    },
    {
     "name": "stderr",
     "output_type": "stream",
     "text": [
      "2025-04-22 20:16:13.230660: W tensorflow/core/kernels/data/prefetch_autotuner.cc:52] Prefetch autotuner tried to allocate 134225408 bytes after encountering the first element of size 134225408 bytes.This already causes the autotune ram budget to be exceeded. To stay within the ram budget, either increase the ram budget or reduce element size\n",
      "2025-04-22 20:16:21.617173: I tensorflow/core/kernels/data/shuffle_dataset_op.cc:452] ShuffleDatasetV3:10: Filling up shuffle buffer (this may take a while): 14773 of 25000\n",
      "2025-04-22 20:16:31.625729: I tensorflow/core/kernels/data/shuffle_dataset_op.cc:452] ShuffleDatasetV3:10: Filling up shuffle buffer (this may take a while): 19455 of 25000\n",
      "2025-04-22 20:16:41.637618: I tensorflow/core/kernels/data/shuffle_dataset_op.cc:452] ShuffleDatasetV3:10: Filling up shuffle buffer (this may take a while): 24729 of 25000\n",
      "2025-04-22 20:16:42.070231: I tensorflow/core/kernels/data/shuffle_dataset_op.cc:482] Shuffle buffer filled.\n",
      "2025-04-22 20:16:47 - INFO - \n",
      "=== Epoch 14 Summary ===\n",
      "2025-04-22 20:16:47 - INFO - Time: 166.02s\n",
      "2025-04-22 20:16:47 - INFO - Training   - accuracy: 0.9284 - auc: 0.7598 - f1_score: 0.3312 - loss: 0.2562 - precision: 0.6785 - recall: 0.3113 - learning_rate: 0.0001\n",
      "2025-04-22 20:16:47 - INFO - Validation - accuracy: 0.9270 - auc: 0.7633 - f1_score: 0.3104 - loss: 0.2583 - precision: 0.6855 - recall: 0.2643\n",
      "2025-04-22 20:16:47 - INFO - ==================================================\n",
      "\n"
     ]
    },
    {
     "name": "stdout",
     "output_type": "stream",
     "text": [
      "\u001b[1m561/561\u001b[0m \u001b[32m━━━━━━━━━━━━━━━━━━━━\u001b[0m\u001b[37m\u001b[0m \u001b[1m166s\u001b[0m 296ms/step - accuracy: 0.9281 - auc: 0.7573 - f1_score: 0.3304 - loss: 0.2589 - precision: 0.6779 - recall: 0.3099 - val_accuracy: 0.9270 - val_auc: 0.7633 - val_f1_score: 0.3104 - val_loss: 0.2583 - val_precision: 0.6855 - val_recall: 0.2643 - learning_rate: 1.0000e-04\n"
     ]
    },
    {
     "name": "stderr",
     "output_type": "stream",
     "text": [
      "2025-04-22 20:16:47 - INFO - \n",
      "=== Starting Epoch 15 ===\n",
      "\n"
     ]
    },
    {
     "name": "stdout",
     "output_type": "stream",
     "text": [
      "Epoch 15/100\n",
      "\u001b[1m321/561\u001b[0m \u001b[32m━━━━━━━━━━━\u001b[0m\u001b[37m━━━━━━━━━\u001b[0m \u001b[1m59s\u001b[0m 246ms/step - accuracy: 0.9282 - auc: 0.7561 - f1_score: 0.3368 - loss: 0.2524 - precision: 0.6773 - recall: 0.3155 "
     ]
    },
    {
     "name": "stderr",
     "output_type": "stream",
     "text": [
      "2025-04-22 20:18:06.481747: W tensorflow/core/lib/png/png_io.cc:92] PNG warning: iCCP: profile 'ICC Profile': 'GRAY': Gray color space not permitted on RGB PNG\n"
     ]
    },
    {
     "name": "stdout",
     "output_type": "stream",
     "text": [
      "\u001b[1m557/561\u001b[0m \u001b[32m━━━━━━━━━━━━━━━━━━━\u001b[0m\u001b[37m━\u001b[0m \u001b[1m0s\u001b[0m 242ms/step - accuracy: 0.9284 - auc: 0.7581 - f1_score: 0.3375 - loss: 0.2510 - precision: 0.6778 - recall: 0.3164 "
     ]
    },
    {
     "name": "stderr",
     "output_type": "stream",
     "text": [
      "2025-04-22 20:19:02.204075: I tensorflow/core/kernels/data/shuffle_dataset_op.cc:452] ShuffleDatasetV3:10: Filling up shuffle buffer (this may take a while): 7777 of 25000\n"
     ]
    },
    {
     "name": "stdout",
     "output_type": "stream",
     "text": [
      "\u001b[1m561/561\u001b[0m \u001b[32m━━━━━━━━━━━━━━━━━━━━\u001b[0m\u001b[37m\u001b[0m \u001b[1m0s\u001b[0m 242ms/step - accuracy: 0.9284 - auc: 0.7582 - f1_score: 0.3376 - loss: 0.2510 - precision: 0.6778 - recall: 0.3165"
     ]
    },
    {
     "name": "stderr",
     "output_type": "stream",
     "text": [
      "2025-04-22 20:19:22.206168: I tensorflow/core/kernels/data/shuffle_dataset_op.cc:452] ShuffleDatasetV3:10: Filling up shuffle buffer (this may take a while): 15291 of 25000\n",
      "2025-04-22 20:19:30 - INFO - \n",
      "=== Epoch 15 Summary ===\n",
      "2025-04-22 20:19:30 - INFO - Time: 163.41s\n",
      "2025-04-22 20:19:30 - INFO - Training   - accuracy: 0.9287 - auc: 0.7630 - f1_score: 0.3388 - loss: 0.2479 - precision: 0.6786 - recall: 0.3180 - learning_rate: 0.0001\n",
      "2025-04-22 20:19:30 - INFO - Validation - accuracy: 0.9274 - auc: 0.7521 - f1_score: 0.2976 - loss: 0.2501 - precision: 0.6464 - recall: 0.3263\n",
      "2025-04-22 20:19:30 - INFO - ==================================================\n",
      "\n"
     ]
    },
    {
     "name": "stdout",
     "output_type": "stream",
     "text": [
      "\u001b[1m561/561\u001b[0m \u001b[32m━━━━━━━━━━━━━━━━━━━━\u001b[0m\u001b[37m\u001b[0m \u001b[1m163s\u001b[0m 291ms/step - accuracy: 0.9284 - auc: 0.7582 - f1_score: 0.3376 - loss: 0.2510 - precision: 0.6778 - recall: 0.3165 - val_accuracy: 0.9274 - val_auc: 0.7521 - val_f1_score: 0.2976 - val_loss: 0.2501 - val_precision: 0.6464 - val_recall: 0.3263 - learning_rate: 1.0000e-04\n"
     ]
    },
    {
     "name": "stderr",
     "output_type": "stream",
     "text": [
      "2025-04-22 20:19:30 - INFO - \n",
      "=== Starting Epoch 16 ===\n",
      "\n"
     ]
    },
    {
     "name": "stdout",
     "output_type": "stream",
     "text": [
      "Epoch 16/100\n",
      "\u001b[1m 11/561\u001b[0m \u001b[37m━━━━━━━━━━━━━━━━━━━━\u001b[0m \u001b[1m1:47\u001b[0m 195ms/step - accuracy: 0.9256 - auc: 0.7245 - f1_score: 0.3114 - loss: 0.2506 - precision: 0.6424 - recall: 0.3097"
     ]
    },
    {
     "name": "stderr",
     "output_type": "stream",
     "text": [
      "2025-04-22 20:19:38.273708: I tensorflow/core/kernels/data/shuffle_dataset_op.cc:482] Shuffle buffer filled.\n"
     ]
    },
    {
     "name": "stdout",
     "output_type": "stream",
     "text": [
      "\u001b[1m322/561\u001b[0m \u001b[32m━━━━━━━━━━━\u001b[0m\u001b[37m━━━━━━━━━\u001b[0m \u001b[1m1:06\u001b[0m 277ms/step - accuracy: 0.9284 - auc: 0.7594 - f1_score: 0.3393 - loss: 0.2454 - precision: 0.6779 - recall: 0.3170"
     ]
    },
    {
     "name": "stderr",
     "output_type": "stream",
     "text": [
      "2025-04-22 20:20:59.984585: W tensorflow/core/lib/png/png_io.cc:92] PNG warning: iCCP: profile 'ICC Profile': 'GRAY': Gray color space not permitted on RGB PNG\n"
     ]
    },
    {
     "name": "stdout",
     "output_type": "stream",
     "text": [
      "\u001b[1m557/561\u001b[0m \u001b[32m━━━━━━━━━━━━━━━━━━━\u001b[0m\u001b[37m━\u001b[0m \u001b[1m1s\u001b[0m 253ms/step - accuracy: 0.9286 - auc: 0.7609 - f1_score: 0.3409 - loss: 0.2440 - precision: 0.6793 - recall: 0.3186  "
     ]
    },
    {
     "name": "stderr",
     "output_type": "stream",
     "text": [
      "2025-04-22 20:21:51.589119: I tensorflow/core/kernels/data/shuffle_dataset_op.cc:452] ShuffleDatasetV3:10: Filling up shuffle buffer (this may take a while): 9227 of 25000\n"
     ]
    },
    {
     "name": "stdout",
     "output_type": "stream",
     "text": [
      "\u001b[1m561/561\u001b[0m \u001b[32m━━━━━━━━━━━━━━━━━━━━\u001b[0m\u001b[37m\u001b[0m \u001b[1m0s\u001b[0m 252ms/step - accuracy: 0.9286 - auc: 0.7609 - f1_score: 0.3409 - loss: 0.2440 - precision: 0.6793 - recall: 0.3186"
     ]
    },
    {
     "name": "stderr",
     "output_type": "stream",
     "text": [
      "2025-04-22 20:21:52.892411: W tensorflow/core/kernels/data/prefetch_autotuner.cc:52] Prefetch autotuner tried to allocate 127518464 bytes after encountering the first element of size 127518464 bytes.This already causes the autotune ram budget to be exceeded. To stay within the ram budget, either increase the ram budget or reduce element size\n",
      "2025-04-22 20:22:01.601933: I tensorflow/core/kernels/data/shuffle_dataset_op.cc:452] ShuffleDatasetV3:10: Filling up shuffle buffer (this may take a while): 13899 of 25000\n"
     ]
    },
    {
     "name": "stdout",
     "output_type": "stream",
     "text": [
      "\n",
      "Epoch 16: ReduceLROnPlateau reducing learning rate to 4.999999873689376e-05.\n"
     ]
    },
    {
     "name": "stderr",
     "output_type": "stream",
     "text": [
      "2025-04-22 20:22:18 - INFO - \n",
      "=== Epoch 16 Summary ===\n",
      "2025-04-22 20:22:18 - INFO - Time: 167.90s\n",
      "2025-04-22 20:22:18 - INFO - Training   - accuracy: 0.9289 - auc: 0.7653 - f1_score: 0.3420 - loss: 0.2416 - precision: 0.6810 - recall: 0.3197 - learning_rate: 0.0001\n",
      "2025-04-22 20:22:18 - INFO - Validation - accuracy: 0.9282 - auc: 0.7705 - f1_score: 0.3266 - loss: 0.2440 - precision: 0.6840 - recall: 0.2918\n",
      "2025-04-22 20:22:18 - INFO - ==================================================\n",
      "\n"
     ]
    },
    {
     "name": "stdout",
     "output_type": "stream",
     "text": [
      "\u001b[1m561/561\u001b[0m \u001b[32m━━━━━━━━━━━━━━━━━━━━\u001b[0m\u001b[37m\u001b[0m \u001b[1m168s\u001b[0m 299ms/step - accuracy: 0.9286 - auc: 0.7609 - f1_score: 0.3409 - loss: 0.2440 - precision: 0.6793 - recall: 0.3186 - val_accuracy: 0.9282 - val_auc: 0.7705 - val_f1_score: 0.3266 - val_loss: 0.2440 - val_precision: 0.6840 - val_recall: 0.2918 - learning_rate: 1.0000e-04\n"
     ]
    },
    {
     "name": "stderr",
     "output_type": "stream",
     "text": [
      "2025-04-22 20:22:18 - INFO - \n",
      "=== Starting Epoch 17 ===\n",
      "\n"
     ]
    },
    {
     "name": "stdout",
     "output_type": "stream",
     "text": [
      "Epoch 17/100\n",
      "\u001b[1m 12/561\u001b[0m \u001b[37m━━━━━━━━━━━━━━━━━━━━\u001b[0m \u001b[1m1:47\u001b[0m 196ms/step - accuracy: 0.9293 - auc: 0.7723 - f1_score: 0.3525 - loss: 0.2359 - precision: 0.6893 - recall: 0.3255"
     ]
    },
    {
     "name": "stderr",
     "output_type": "stream",
     "text": [
      "2025-04-22 20:22:21.589166: I tensorflow/core/kernels/data/shuffle_dataset_op.cc:452] ShuffleDatasetV3:10: Filling up shuffle buffer (this may take a while): 24430 of 25000\n",
      "2025-04-22 20:22:22.222567: I tensorflow/core/kernels/data/shuffle_dataset_op.cc:482] Shuffle buffer filled.\n"
     ]
    },
    {
     "name": "stdout",
     "output_type": "stream",
     "text": [
      "\u001b[1m323/561\u001b[0m \u001b[32m━━━━━━━━━━━\u001b[0m\u001b[37m━━━━━━━━━\u001b[0m \u001b[1m1:01\u001b[0m 259ms/step - accuracy: 0.9298 - auc: 0.7823 - f1_score: 0.3544 - loss: 0.2355 - precision: 0.6854 - recall: 0.3287"
     ]
    },
    {
     "name": "stderr",
     "output_type": "stream",
     "text": [
      "2025-04-22 20:23:42.461181: W tensorflow/core/lib/png/png_io.cc:92] PNG warning: iCCP: profile 'ICC Profile': 'GRAY': Gray color space not permitted on RGB PNG\n"
     ]
    },
    {
     "name": "stdout",
     "output_type": "stream",
     "text": [
      "\u001b[1m558/561\u001b[0m \u001b[32m━━━━━━━━━━━━━━━━━━━\u001b[0m\u001b[37m━\u001b[0m \u001b[1m0s\u001b[0m 243ms/step - accuracy: 0.9299 - auc: 0.7840 - f1_score: 0.3569 - loss: 0.2346 - precision: 0.6867 - recall: 0.3309  "
     ]
    },
    {
     "name": "stderr",
     "output_type": "stream",
     "text": [
      "2025-04-22 20:24:34.119427: I tensorflow/core/kernels/data/shuffle_dataset_op.cc:452] ShuffleDatasetV3:10: Filling up shuffle buffer (this may take a while): 9112 of 25000\n"
     ]
    },
    {
     "name": "stdout",
     "output_type": "stream",
     "text": [
      "\u001b[1m561/561\u001b[0m \u001b[32m━━━━━━━━━━━━━━━━━━━━\u001b[0m\u001b[37m\u001b[0m \u001b[1m0s\u001b[0m 243ms/step - accuracy: 0.9299 - auc: 0.7841 - f1_score: 0.3569 - loss: 0.2346 - precision: 0.6867 - recall: 0.3309"
     ]
    },
    {
     "name": "stderr",
     "output_type": "stream",
     "text": [
      "2025-04-22 20:24:54.119599: I tensorflow/core/kernels/data/shuffle_dataset_op.cc:452] ShuffleDatasetV3:10: Filling up shuffle buffer (this may take a while): 19443 of 25000\n",
      "2025-04-22 20:25:04.119873: I tensorflow/core/kernels/data/shuffle_dataset_op.cc:452] ShuffleDatasetV3:10: Filling up shuffle buffer (this may take a while): 23939 of 25000\n",
      "2025-04-22 20:25:05.920865: I tensorflow/core/kernels/data/shuffle_dataset_op.cc:482] Shuffle buffer filled.\n",
      "2025-04-22 20:25:10 - INFO - \n",
      "=== Epoch 17 Summary ===\n",
      "2025-04-22 20:25:10 - INFO - Time: 171.58s\n",
      "2025-04-22 20:25:10 - INFO - Training   - accuracy: 0.9301 - auc: 0.7877 - f1_score: 0.3607 - loss: 0.2330 - precision: 0.6885 - recall: 0.3342 - learning_rate: 0.0000\n",
      "2025-04-22 20:25:10 - INFO - Validation - accuracy: 0.9295 - auc: 0.7706 - f1_score: 0.3419 - loss: 0.2344 - precision: 0.6835 - recall: 0.3215\n",
      "2025-04-22 20:25:10 - INFO - ==================================================\n",
      "\n"
     ]
    },
    {
     "name": "stdout",
     "output_type": "stream",
     "text": [
      "\u001b[1m561/561\u001b[0m \u001b[32m━━━━━━━━━━━━━━━━━━━━\u001b[0m\u001b[37m\u001b[0m \u001b[1m174s\u001b[0m 311ms/step - accuracy: 0.9299 - auc: 0.7841 - f1_score: 0.3569 - loss: 0.2346 - precision: 0.6867 - recall: 0.3310 - val_accuracy: 0.9295 - val_auc: 0.7706 - val_f1_score: 0.3419 - val_loss: 0.2344 - val_precision: 0.6835 - val_recall: 0.3215 - learning_rate: 5.0000e-05\n"
     ]
    },
    {
     "name": "stderr",
     "output_type": "stream",
     "text": [
      "2025-04-22 20:25:13 - INFO - \n",
      "=== Starting Epoch 18 ===\n",
      "\n"
     ]
    },
    {
     "name": "stdout",
     "output_type": "stream",
     "text": [
      "Epoch 18/100\n",
      "\u001b[1m324/561\u001b[0m \u001b[32m━━━━━━━━━━━\u001b[0m\u001b[37m━━━━━━━━━\u001b[0m \u001b[1m55s\u001b[0m 235ms/step - accuracy: 0.9293 - auc: 0.7895 - f1_score: 0.3583 - loss: 0.2324 - precision: 0.6844 - recall: 0.3301 "
     ]
    },
    {
     "name": "stderr",
     "output_type": "stream",
     "text": [
      "2025-04-22 20:26:29.290483: W tensorflow/core/lib/png/png_io.cc:92] PNG warning: iCCP: profile 'ICC Profile': 'GRAY': Gray color space not permitted on RGB PNG\n"
     ]
    },
    {
     "name": "stdout",
     "output_type": "stream",
     "text": [
      "\u001b[1m560/561\u001b[0m \u001b[32m━━━━━━━━━━━━━━━━━━━\u001b[0m\u001b[37m━\u001b[0m \u001b[1m0s\u001b[0m 229ms/step - accuracy: 0.9297 - auc: 0.7912 - f1_score: 0.3614 - loss: 0.2312 - precision: 0.6869 - recall: 0.3332 "
     ]
    },
    {
     "name": "stderr",
     "output_type": "stream",
     "text": [
      "2025-04-22 20:27:21.073121: I tensorflow/core/kernels/data/shuffle_dataset_op.cc:452] ShuffleDatasetV3:10: Filling up shuffle buffer (this may take a while): 9368 of 25000\n"
     ]
    },
    {
     "name": "stdout",
     "output_type": "stream",
     "text": [
      "\u001b[1m561/561\u001b[0m \u001b[32m━━━━━━━━━━━━━━━━━━━━\u001b[0m\u001b[37m\u001b[0m \u001b[1m0s\u001b[0m 228ms/step - accuracy: 0.9297 - auc: 0.7912 - f1_score: 0.3615 - loss: 0.2312 - precision: 0.6869 - recall: 0.3332"
     ]
    },
    {
     "name": "stderr",
     "output_type": "stream",
     "text": [
      "2025-04-22 20:27:21.782424: W tensorflow/core/kernels/data/prefetch_autotuner.cc:52] Prefetch autotuner tried to allocate 77078016 bytes after encountering the first element of size 77078016 bytes.This already causes the autotune ram budget to be exceeded. To stay within the ram budget, either increase the ram budget or reduce element size\n",
      "2025-04-22 20:27:41.069642: I tensorflow/core/kernels/data/shuffle_dataset_op.cc:452] ShuffleDatasetV3:10: Filling up shuffle buffer (this may take a while): 19380 of 25000\n",
      "2025-04-22 20:27:51.107021: I tensorflow/core/kernels/data/shuffle_dataset_op.cc:452] ShuffleDatasetV3:10: Filling up shuffle buffer (this may take a while): 24670 of 25000\n",
      "2025-04-22 20:27:51.692166: I tensorflow/core/kernels/data/shuffle_dataset_op.cc:482] Shuffle buffer filled.\n",
      "2025-04-22 20:27:51.903092: W tensorflow/core/kernels/data/prefetch_autotuner.cc:52] Prefetch autotuner tried to allocate 134225408 bytes after encountering the first element of size 134225408 bytes.This already causes the autotune ram budget to be exceeded. To stay within the ram budget, either increase the ram budget or reduce element size\n",
      "2025-04-22 20:27:55 - INFO - \n",
      "=== Epoch 18 Summary ===\n",
      "2025-04-22 20:27:55 - INFO - Time: 162.00s\n",
      "2025-04-22 20:27:55 - INFO - Training   - accuracy: 0.9304 - auc: 0.7954 - f1_score: 0.3672 - loss: 0.2291 - precision: 0.6910 - recall: 0.3385 - learning_rate: 0.0000\n",
      "2025-04-22 20:27:55 - INFO - Validation - accuracy: 0.9289 - auc: 0.7810 - f1_score: 0.3361 - loss: 0.2367 - precision: 0.6646 - recall: 0.3325\n",
      "2025-04-22 20:27:55 - INFO - ==================================================\n",
      "\n"
     ]
    },
    {
     "name": "stdout",
     "output_type": "stream",
     "text": [
      "\u001b[1m561/561\u001b[0m \u001b[32m━━━━━━━━━━━━━━━━━━━━\u001b[0m\u001b[37m\u001b[0m \u001b[1m162s\u001b[0m 289ms/step - accuracy: 0.9297 - auc: 0.7912 - f1_score: 0.3615 - loss: 0.2312 - precision: 0.6869 - recall: 0.3332 - val_accuracy: 0.9289 - val_auc: 0.7810 - val_f1_score: 0.3361 - val_loss: 0.2367 - val_precision: 0.6646 - val_recall: 0.3325 - learning_rate: 5.0000e-05\n"
     ]
    },
    {
     "name": "stderr",
     "output_type": "stream",
     "text": [
      "2025-04-22 20:27:55 - INFO - \n",
      "=== Starting Epoch 19 ===\n",
      "\n"
     ]
    },
    {
     "name": "stdout",
     "output_type": "stream",
     "text": [
      "Epoch 19/100\n",
      "\u001b[1m325/561\u001b[0m \u001b[32m━━━━━━━━━━━\u001b[0m\u001b[37m━━━━━━━━━\u001b[0m \u001b[1m58s\u001b[0m 246ms/step - accuracy: 0.9310 - auc: 0.7999 - f1_score: 0.3757 - loss: 0.2264 - precision: 0.6967 - recall: 0.3447 "
     ]
    },
    {
     "name": "stderr",
     "output_type": "stream",
     "text": [
      "2025-04-22 20:29:15.100928: W tensorflow/core/lib/png/png_io.cc:92] PNG warning: iCCP: profile 'ICC Profile': 'GRAY': Gray color space not permitted on RGB PNG\n"
     ]
    },
    {
     "name": "stdout",
     "output_type": "stream",
     "text": [
      "\u001b[1m561/561\u001b[0m \u001b[32m━━━━━━━━━━━━━━━━━━━━\u001b[0m\u001b[37m\u001b[0m \u001b[1m0s\u001b[0m 235ms/step - accuracy: 0.9309 - auc: 0.7996 - f1_score: 0.3749 - loss: 0.2264 - precision: 0.6959 - recall: 0.3442 "
     ]
    },
    {
     "name": "stderr",
     "output_type": "stream",
     "text": [
      "2025-04-22 20:30:06.740619: I tensorflow/core/kernels/data/shuffle_dataset_op.cc:452] ShuffleDatasetV3:10: Filling up shuffle buffer (this may take a while): 9852 of 25000\n",
      "2025-04-22 20:30:07.230930: W tensorflow/core/kernels/data/prefetch_autotuner.cc:52] Prefetch autotuner tried to allocate 77078016 bytes after encountering the first element of size 77078016 bytes.This already causes the autotune ram budget to be exceeded. To stay within the ram budget, either increase the ram budget or reduce element size\n",
      "2025-04-22 20:30:16.748923: I tensorflow/core/kernels/data/shuffle_dataset_op.cc:452] ShuffleDatasetV3:10: Filling up shuffle buffer (this may take a while): 15170 of 25000\n",
      "2025-04-22 20:30:36.745089: I tensorflow/core/kernels/data/shuffle_dataset_op.cc:452] ShuffleDatasetV3:10: Filling up shuffle buffer (this may take a while): 24846 of 25000\n",
      "2025-04-22 20:30:37.026557: I tensorflow/core/kernels/data/shuffle_dataset_op.cc:482] Shuffle buffer filled.\n",
      "2025-04-22 20:30:53 - INFO - \n",
      "=== Epoch 19 Summary ===\n",
      "2025-04-22 20:30:53 - INFO - Time: 178.19s\n",
      "2025-04-22 20:30:53 - INFO - Training   - accuracy: 0.9309 - auc: 0.7993 - f1_score: 0.3747 - loss: 0.2261 - precision: 0.6942 - recall: 0.3440 - learning_rate: 0.0000\n",
      "2025-04-22 20:30:53 - INFO - Validation - accuracy: 0.9285 - auc: 0.7814 - f1_score: 0.3700 - loss: 0.2325 - precision: 0.6682 - recall: 0.3183\n",
      "2025-04-22 20:30:53 - INFO - ==================================================\n",
      "\n"
     ]
    },
    {
     "name": "stdout",
     "output_type": "stream",
     "text": [
      "\u001b[1m561/561\u001b[0m \u001b[32m━━━━━━━━━━━━━━━━━━━━\u001b[0m\u001b[37m\u001b[0m \u001b[1m178s\u001b[0m 318ms/step - accuracy: 0.9309 - auc: 0.7996 - f1_score: 0.3749 - loss: 0.2263 - precision: 0.6959 - recall: 0.3442 - val_accuracy: 0.9285 - val_auc: 0.7814 - val_f1_score: 0.3700 - val_loss: 0.2325 - val_precision: 0.6682 - val_recall: 0.3183 - learning_rate: 5.0000e-05\n"
     ]
    },
    {
     "name": "stderr",
     "output_type": "stream",
     "text": [
      "2025-04-22 20:30:53 - INFO - \n",
      "=== Starting Epoch 20 ===\n",
      "\n"
     ]
    },
    {
     "name": "stdout",
     "output_type": "stream",
     "text": [
      "Epoch 20/100\n",
      "\u001b[1m326/561\u001b[0m \u001b[32m━━━━━━━━━━━\u001b[0m\u001b[37m━━━━━━━━━\u001b[0m \u001b[1m57s\u001b[0m 243ms/step - accuracy: 0.9320 - auc: 0.8094 - f1_score: 0.3903 - loss: 0.2227 - precision: 0.7031 - recall: 0.3571 "
     ]
    },
    {
     "name": "stderr",
     "output_type": "stream",
     "text": [
      "2025-04-22 20:32:12.650955: W tensorflow/core/lib/png/png_io.cc:92] PNG warning: iCCP: profile 'ICC Profile': 'GRAY': Gray color space not permitted on RGB PNG\n"
     ]
    },
    {
     "name": "stdout",
     "output_type": "stream",
     "text": [
      "\u001b[1m561/561\u001b[0m \u001b[32m━━━━━━━━━━━━━━━━━━━━\u001b[0m\u001b[37m\u001b[0m \u001b[1m0s\u001b[0m 244ms/step - accuracy: 0.9317 - auc: 0.8078 - f1_score: 0.3878 - loss: 0.2229 - precision: 0.7008 - recall: 0.3547 "
     ]
    },
    {
     "name": "stderr",
     "output_type": "stream",
     "text": [
      "2025-04-22 20:33:10.247807: I tensorflow/core/kernels/data/shuffle_dataset_op.cc:452] ShuffleDatasetV3:10: Filling up shuffle buffer (this may take a while): 7135 of 25000\n",
      "2025-04-22 20:33:11.090620: W tensorflow/core/kernels/data/prefetch_autotuner.cc:52] Prefetch autotuner tried to allocate 134225408 bytes after encountering the first element of size 134225408 bytes.This already causes the autotune ram budget to be exceeded. To stay within the ram budget, either increase the ram budget or reduce element size\n",
      "2025-04-22 20:33:20.250009: I tensorflow/core/kernels/data/shuffle_dataset_op.cc:452] ShuffleDatasetV3:10: Filling up shuffle buffer (this may take a while): 10469 of 25000\n",
      "2025-04-22 20:33:38 - INFO - \n",
      "=== Epoch 20 Summary ===\n",
      "2025-04-22 20:33:38 - INFO - Time: 165.37s\n",
      "2025-04-22 20:33:38 - INFO - Training   - accuracy: 0.9313 - auc: 0.8050 - f1_score: 0.3840 - loss: 0.2231 - precision: 0.6964 - recall: 0.3512 - learning_rate: 0.0000\n",
      "2025-04-22 20:33:38 - INFO - Validation - accuracy: 0.9274 - auc: 0.7808 - f1_score: 0.3227 - loss: 0.2366 - precision: 0.6817 - recall: 0.2769\n",
      "2025-04-22 20:33:38 - INFO - ==================================================\n",
      "\n"
     ]
    },
    {
     "name": "stdout",
     "output_type": "stream",
     "text": [
      "\u001b[1m561/561\u001b[0m \u001b[32m━━━━━━━━━━━━━━━━━━━━\u001b[0m\u001b[37m\u001b[0m \u001b[1m165s\u001b[0m 295ms/step - accuracy: 0.9317 - auc: 0.8078 - f1_score: 0.3878 - loss: 0.2229 - precision: 0.7008 - recall: 0.3547 - val_accuracy: 0.9274 - val_auc: 0.7808 - val_f1_score: 0.3227 - val_loss: 0.2366 - val_precision: 0.6817 - val_recall: 0.2769 - learning_rate: 5.0000e-05\n"
     ]
    },
    {
     "name": "stderr",
     "output_type": "stream",
     "text": [
      "2025-04-22 20:33:38 - INFO - \n",
      "=== Starting Epoch 21 ===\n",
      "\n"
     ]
    },
    {
     "name": "stdout",
     "output_type": "stream",
     "text": [
      "Epoch 21/100\n",
      "\u001b[1m  6/561\u001b[0m \u001b[37m━━━━━━━━━━━━━━━━━━━━\u001b[0m \u001b[1m2:10\u001b[0m 236ms/step - accuracy: 0.9302 - auc: 0.7527 - f1_score: 0.3538 - loss: 0.2225 - precision: 0.7024 - recall: 0.3338"
     ]
    },
    {
     "name": "stderr",
     "output_type": "stream",
     "text": [
      "2025-04-22 20:33:40.262195: I tensorflow/core/kernels/data/shuffle_dataset_op.cc:452] ShuffleDatasetV3:10: Filling up shuffle buffer (this may take a while): 19237 of 25000\n"
     ]
    },
    {
     "name": "stdout",
     "output_type": "stream",
     "text": [
      "\u001b[1m 16/561\u001b[0m \u001b[37m━━━━━━━━━━━━━━━━━━━━\u001b[0m \u001b[1m1:59\u001b[0m 219ms/step - accuracy: 0.9302 - auc: 0.7833 - f1_score: 0.3555 - loss: 0.2233 - precision: 0.6934 - recall: 0.3325"
     ]
    },
    {
     "name": "stderr",
     "output_type": "stream",
     "text": [
      "2025-04-22 20:33:46.565146: I tensorflow/core/kernels/data/shuffle_dataset_op.cc:482] Shuffle buffer filled.\n",
      "2025-04-22 20:33:46.707995: W tensorflow/core/kernels/data/prefetch_autotuner.cc:52] Prefetch autotuner tried to allocate 134225408 bytes after encountering the first element of size 134225408 bytes.This already causes the autotune ram budget to be exceeded. To stay within the ram budget, either increase the ram budget or reduce element size\n"
     ]
    },
    {
     "name": "stdout",
     "output_type": "stream",
     "text": [
      "\u001b[1m327/561\u001b[0m \u001b[32m━━━━━━━━━━━\u001b[0m\u001b[37m━━━━━━━━━\u001b[0m \u001b[1m1:03\u001b[0m 272ms/step - accuracy: 0.9312 - auc: 0.8127 - f1_score: 0.3814 - loss: 0.2212 - precision: 0.6990 - recall: 0.3478"
     ]
    },
    {
     "name": "stderr",
     "output_type": "stream",
     "text": [
      "2025-04-22 20:35:07.877926: W tensorflow/core/lib/png/png_io.cc:92] PNG warning: iCCP: profile 'ICC Profile': 'GRAY': Gray color space not permitted on RGB PNG\n"
     ]
    },
    {
     "name": "stdout",
     "output_type": "stream",
     "text": [
      "\u001b[1m561/561\u001b[0m \u001b[32m━━━━━━━━━━━━━━━━━━━━\u001b[0m\u001b[37m\u001b[0m \u001b[1m0s\u001b[0m 250ms/step - accuracy: 0.9315 - auc: 0.8114 - f1_score: 0.3848 - loss: 0.2209 - precision: 0.6995 - recall: 0.3508  "
     ]
    },
    {
     "name": "stderr",
     "output_type": "stream",
     "text": [
      "2025-04-22 20:35:59.502532: I tensorflow/core/kernels/data/shuffle_dataset_op.cc:452] ShuffleDatasetV3:10: Filling up shuffle buffer (this may take a while): 9198 of 25000\n",
      "2025-04-22 20:35:59.707861: W tensorflow/core/kernels/data/prefetch_autotuner.cc:52] Prefetch autotuner tried to allocate 127518464 bytes after encountering the first element of size 127518464 bytes.This already causes the autotune ram budget to be exceeded. To stay within the ram budget, either increase the ram budget or reduce element size\n",
      "2025-04-22 20:36:09.503453: I tensorflow/core/kernels/data/shuffle_dataset_op.cc:452] ShuffleDatasetV3:10: Filling up shuffle buffer (this may take a while): 13562 of 25000\n",
      "2025-04-22 20:36:19.519826: I tensorflow/core/kernels/data/shuffle_dataset_op.cc:452] ShuffleDatasetV3:10: Filling up shuffle buffer (this may take a while): 17932 of 25000\n",
      "2025-04-22 20:36:25 - INFO - \n",
      "=== Epoch 21 Summary ===\n",
      "2025-04-22 20:36:25 - INFO - Time: 166.86s\n",
      "2025-04-22 20:36:25 - INFO - Training   - accuracy: 0.9318 - auc: 0.8108 - f1_score: 0.3898 - loss: 0.2203 - precision: 0.6993 - recall: 0.3556 - learning_rate: 0.0000\n",
      "2025-04-22 20:36:25 - INFO - Validation - accuracy: 0.9277 - auc: 0.7795 - f1_score: 0.3564 - loss: 0.2330 - precision: 0.6351 - recall: 0.3539\n",
      "2025-04-22 20:36:25 - INFO - ==================================================\n",
      "\n"
     ]
    },
    {
     "name": "stdout",
     "output_type": "stream",
     "text": [
      "\u001b[1m561/561\u001b[0m \u001b[32m━━━━━━━━━━━━━━━━━━━━\u001b[0m\u001b[37m\u001b[0m \u001b[1m167s\u001b[0m 298ms/step - accuracy: 0.9315 - auc: 0.8114 - f1_score: 0.3848 - loss: 0.2209 - precision: 0.6995 - recall: 0.3508 - val_accuracy: 0.9277 - val_auc: 0.7795 - val_f1_score: 0.3564 - val_loss: 0.2330 - val_precision: 0.6351 - val_recall: 0.3539 - learning_rate: 5.0000e-05\n"
     ]
    },
    {
     "name": "stderr",
     "output_type": "stream",
     "text": [
      "2025-04-22 20:36:25 - INFO - \n",
      "=== Starting Epoch 22 ===\n",
      "\n"
     ]
    },
    {
     "name": "stdout",
     "output_type": "stream",
     "text": [
      "Epoch 22/100\n",
      "\u001b[1m 17/561\u001b[0m \u001b[37m━━━━━━━━━━━━━━━━━━━━\u001b[0m \u001b[1m1:47\u001b[0m 198ms/step - accuracy: 0.9281 - auc: 0.8124 - f1_score: 0.3680 - loss: 0.2295 - precision: 0.6911 - recall: 0.3290"
     ]
    },
    {
     "name": "stderr",
     "output_type": "stream",
     "text": [
      "2025-04-22 20:36:29.796355: I tensorflow/core/kernels/data/shuffle_dataset_op.cc:482] Shuffle buffer filled.\n",
      "2025-04-22 20:36:29.913847: W tensorflow/core/kernels/data/prefetch_autotuner.cc:52] Prefetch autotuner tried to allocate 84768512 bytes after encountering the first element of size 84768512 bytes.This already causes the autotune ram budget to be exceeded. To stay within the ram budget, either increase the ram budget or reduce element size\n"
     ]
    },
    {
     "name": "stdout",
     "output_type": "stream",
     "text": [
      "\u001b[1m328/561\u001b[0m \u001b[32m━━━━━━━━━━━\u001b[0m\u001b[37m━━━━━━━━━\u001b[0m \u001b[1m59s\u001b[0m 255ms/step - accuracy: 0.9318 - auc: 0.8163 - f1_score: 0.3972 - loss: 0.2199 - precision: 0.7041 - recall: 0.3608 "
     ]
    },
    {
     "name": "stderr",
     "output_type": "stream",
     "text": [
      "2025-04-22 20:37:49.298291: W tensorflow/core/lib/png/png_io.cc:92] PNG warning: iCCP: profile 'ICC Profile': 'GRAY': Gray color space not permitted on RGB PNG\n"
     ]
    },
    {
     "name": "stdout",
     "output_type": "stream",
     "text": [
      "\u001b[1m561/561\u001b[0m \u001b[32m━━━━━━━━━━━━━━━━━━━━\u001b[0m\u001b[37m\u001b[0m \u001b[1m0s\u001b[0m 240ms/step - accuracy: 0.9321 - auc: 0.8156 - f1_score: 0.3993 - loss: 0.2190 - precision: 0.7040 - recall: 0.3632 "
     ]
    },
    {
     "name": "stderr",
     "output_type": "stream",
     "text": [
      "2025-04-22 20:38:40.911018: I tensorflow/core/kernels/data/shuffle_dataset_op.cc:452] ShuffleDatasetV3:10: Filling up shuffle buffer (this may take a while): 9885 of 25000\n",
      "2025-04-22 20:38:41.015267: W tensorflow/core/kernels/data/prefetch_autotuner.cc:52] Prefetch autotuner tried to allocate 127518464 bytes after encountering the first element of size 127518464 bytes.This already causes the autotune ram budget to be exceeded. To stay within the ram budget, either increase the ram budget or reduce element size\n",
      "2025-04-22 20:39:00.902708: I tensorflow/core/kernels/data/shuffle_dataset_op.cc:452] ShuffleDatasetV3:10: Filling up shuffle buffer (this may take a while): 20187 of 25000\n",
      "2025-04-22 20:39:09.800098: I tensorflow/core/kernels/data/shuffle_dataset_op.cc:482] Shuffle buffer filled.\n"
     ]
    },
    {
     "name": "stdout",
     "output_type": "stream",
     "text": [
      "\n",
      "Epoch 22: ReduceLROnPlateau reducing learning rate to 2.499999936844688e-05.\n"
     ]
    },
    {
     "name": "stderr",
     "output_type": "stream",
     "text": [
      "2025-04-22 20:39:10 - INFO - \n",
      "=== Epoch 22 Summary ===\n",
      "2025-04-22 20:39:10 - INFO - Time: 164.29s\n",
      "2025-04-22 20:39:10 - INFO - Training   - accuracy: 0.9324 - auc: 0.8155 - f1_score: 0.4024 - loss: 0.2181 - precision: 0.7025 - recall: 0.3661 - learning_rate: 0.0000\n",
      "2025-04-22 20:39:10 - INFO - Validation - accuracy: 0.9287 - auc: 0.7767 - f1_score: 0.3543 - loss: 0.2298 - precision: 0.6613 - recall: 0.3345\n",
      "2025-04-22 20:39:10 - INFO - ==================================================\n",
      "\n"
     ]
    },
    {
     "name": "stdout",
     "output_type": "stream",
     "text": [
      "\u001b[1m561/561\u001b[0m \u001b[32m━━━━━━━━━━━━━━━━━━━━\u001b[0m\u001b[37m\u001b[0m \u001b[1m164s\u001b[0m 293ms/step - accuracy: 0.9321 - auc: 0.8156 - f1_score: 0.3993 - loss: 0.2190 - precision: 0.7040 - recall: 0.3632 - val_accuracy: 0.9287 - val_auc: 0.7767 - val_f1_score: 0.3543 - val_loss: 0.2298 - val_precision: 0.6613 - val_recall: 0.3345 - learning_rate: 5.0000e-05\n"
     ]
    },
    {
     "name": "stderr",
     "output_type": "stream",
     "text": [
      "2025-04-22 20:39:10.088875: W tensorflow/core/kernels/data/prefetch_autotuner.cc:52] Prefetch autotuner tried to allocate 91475456 bytes after encountering the first element of size 91475456 bytes.This already causes the autotune ram budget to be exceeded. To stay within the ram budget, either increase the ram budget or reduce element size\n",
      "2025-04-22 20:39:10 - INFO - \n",
      "=== Starting Epoch 23 ===\n",
      "\n"
     ]
    },
    {
     "name": "stdout",
     "output_type": "stream",
     "text": [
      "Epoch 23/100\n",
      "\u001b[1m329/561\u001b[0m \u001b[32m━━━━━━━━━━━\u001b[0m\u001b[37m━━━━━━━━━\u001b[0m \u001b[1m58s\u001b[0m 251ms/step - accuracy: 0.9331 - auc: 0.8316 - f1_score: 0.4139 - loss: 0.2150 - precision: 0.7116 - recall: 0.3736 "
     ]
    },
    {
     "name": "stderr",
     "output_type": "stream",
     "text": [
      "2025-04-22 20:40:32.647112: W tensorflow/core/lib/png/png_io.cc:92] PNG warning: iCCP: profile 'ICC Profile': 'GRAY': Gray color space not permitted on RGB PNG\n"
     ]
    },
    {
     "name": "stdout",
     "output_type": "stream",
     "text": [
      "\u001b[1m561/561\u001b[0m \u001b[32m━━━━━━━━━━━━━━━━━━━━\u001b[0m\u001b[37m\u001b[0m \u001b[1m0s\u001b[0m 238ms/step - accuracy: 0.9335 - auc: 0.8320 - f1_score: 0.4188 - loss: 0.2134 - precision: 0.7133 - recall: 0.3779 "
     ]
    },
    {
     "name": "stderr",
     "output_type": "stream",
     "text": [
      "2025-04-22 20:41:24.022993: W tensorflow/core/kernels/data/prefetch_autotuner.cc:52] Prefetch autotuner tried to allocate 127518464 bytes after encountering the first element of size 127518464 bytes.This already causes the autotune ram budget to be exceeded. To stay within the ram budget, either increase the ram budget or reduce element size\n",
      "2025-04-22 20:41:24.329606: I tensorflow/core/kernels/data/shuffle_dataset_op.cc:452] ShuffleDatasetV3:10: Filling up shuffle buffer (this may take a while): 9987 of 25000\n",
      "2025-04-22 20:41:44.327283: I tensorflow/core/kernels/data/shuffle_dataset_op.cc:452] ShuffleDatasetV3:10: Filling up shuffle buffer (this may take a while): 20223 of 25000\n",
      "2025-04-22 20:41:54.337855: I tensorflow/core/kernels/data/shuffle_dataset_op.cc:452] ShuffleDatasetV3:10: Filling up shuffle buffer (this may take a while): 24671 of 25000\n",
      "2025-04-22 20:41:54 - INFO - \n",
      "=== Epoch 23 Summary ===\n",
      "2025-04-22 20:41:54 - INFO - Time: 164.53s\n",
      "2025-04-22 20:41:54 - INFO - Training   - accuracy: 0.9343 - auc: 0.8325 - f1_score: 0.4274 - loss: 0.2108 - precision: 0.7156 - recall: 0.3855 - learning_rate: 0.0000\n",
      "2025-04-22 20:41:54 - INFO - Validation - accuracy: 0.9278 - auc: 0.7807 - f1_score: 0.3674 - loss: 0.2311 - precision: 0.6508 - recall: 0.3296\n",
      "2025-04-22 20:41:54 - INFO - ==================================================\n",
      "\n"
     ]
    },
    {
     "name": "stdout",
     "output_type": "stream",
     "text": [
      "\u001b[1m561/561\u001b[0m \u001b[32m━━━━━━━━━━━━━━━━━━━━\u001b[0m\u001b[37m\u001b[0m \u001b[1m165s\u001b[0m 293ms/step - accuracy: 0.9335 - auc: 0.8320 - f1_score: 0.4188 - loss: 0.2134 - precision: 0.7134 - recall: 0.3780 - val_accuracy: 0.9278 - val_auc: 0.7807 - val_f1_score: 0.3674 - val_loss: 0.2311 - val_precision: 0.6508 - val_recall: 0.3296 - learning_rate: 2.5000e-05\n"
     ]
    },
    {
     "name": "stderr",
     "output_type": "stream",
     "text": [
      "2025-04-22 20:41:54 - INFO - \n",
      "=== Starting Epoch 24 ===\n",
      "\n"
     ]
    },
    {
     "name": "stdout",
     "output_type": "stream",
     "text": [
      "Epoch 24/100\n"
     ]
    },
    {
     "name": "stderr",
     "output_type": "stream",
     "text": [
      "2025-04-22 20:41:54.665994: I tensorflow/core/kernels/data/shuffle_dataset_op.cc:482] Shuffle buffer filled.\n"
     ]
    },
    {
     "name": "stdout",
     "output_type": "stream",
     "text": [
      "\u001b[1m  3/561\u001b[0m \u001b[37m━━━━━━━━━━━━━━━━━━━━\u001b[0m \u001b[1m1:55\u001b[0m 206ms/step - accuracy: 0.9274 - auc: 0.8342 - f1_score: 0.3767 - loss: 0.2214 - precision: 0.6522 - recall: 0.3440"
     ]
    },
    {
     "name": "stderr",
     "output_type": "stream",
     "text": [
      "2025-04-22 20:41:55.250353: W tensorflow/core/kernels/data/prefetch_autotuner.cc:52] Prefetch autotuner tried to allocate 91475456 bytes after encountering the first element of size 91475456 bytes.This already causes the autotune ram budget to be exceeded. To stay within the ram budget, either increase the ram budget or reduce element size\n"
     ]
    },
    {
     "name": "stdout",
     "output_type": "stream",
     "text": [
      "\u001b[1m330/561\u001b[0m \u001b[32m━━━━━━━━━━━\u001b[0m\u001b[37m━━━━━━━━━\u001b[0m \u001b[1m58s\u001b[0m 255ms/step - accuracy: 0.9351 - auc: 0.8419 - f1_score: 0.4372 - loss: 0.2085 - precision: 0.7214 - recall: 0.3933 "
     ]
    },
    {
     "name": "stderr",
     "output_type": "stream",
     "text": [
      "2025-04-22 20:43:18.659031: W tensorflow/core/lib/png/png_io.cc:92] PNG warning: iCCP: profile 'ICC Profile': 'GRAY': Gray color space not permitted on RGB PNG\n"
     ]
    },
    {
     "name": "stdout",
     "output_type": "stream",
     "text": [
      "\u001b[1m561/561\u001b[0m \u001b[32m━━━━━━━━━━━━━━━━━━━━\u001b[0m\u001b[37m\u001b[0m \u001b[1m0s\u001b[0m 240ms/step - accuracy: 0.9352 - auc: 0.8421 - f1_score: 0.4391 - loss: 0.2082 - precision: 0.7219 - recall: 0.3946 "
     ]
    },
    {
     "name": "stderr",
     "output_type": "stream",
     "text": [
      "2025-04-22 20:44:09.825866: W tensorflow/core/kernels/data/prefetch_autotuner.cc:52] Prefetch autotuner tried to allocate 77078016 bytes after encountering the first element of size 77078016 bytes.This already causes the autotune ram budget to be exceeded. To stay within the ram budget, either increase the ram budget or reduce element size\n",
      "2025-04-22 20:44:10.274196: I tensorflow/core/kernels/data/shuffle_dataset_op.cc:452] ShuffleDatasetV3:10: Filling up shuffle buffer (this may take a while): 8554 of 25000\n",
      "2025-04-22 20:44:20.278180: I tensorflow/core/kernels/data/shuffle_dataset_op.cc:452] ShuffleDatasetV3:10: Filling up shuffle buffer (this may take a while): 15573 of 25000\n",
      "2025-04-22 20:44:37.469017: I tensorflow/core/kernels/data/shuffle_dataset_op.cc:482] Shuffle buffer filled.\n",
      "2025-04-22 20:44:37.623941: W tensorflow/core/kernels/data/prefetch_autotuner.cc:52] Prefetch autotuner tried to allocate 77078016 bytes after encountering the first element of size 77078016 bytes.This already causes the autotune ram budget to be exceeded. To stay within the ram budget, either increase the ram budget or reduce element size\n",
      "2025-04-22 20:45:00 - INFO - \n",
      "=== Epoch 24 Summary ===\n",
      "2025-04-22 20:45:00 - INFO - Time: 185.54s\n",
      "2025-04-22 20:45:00 - INFO - Training   - accuracy: 0.9354 - auc: 0.8419 - f1_score: 0.4435 - loss: 0.2074 - precision: 0.7225 - recall: 0.3986 - learning_rate: 0.0000\n",
      "2025-04-22 20:45:00 - INFO - Validation - accuracy: 0.9271 - auc: 0.7778 - f1_score: 0.4014 - loss: 0.2326 - precision: 0.6220 - recall: 0.3679\n",
      "2025-04-22 20:45:00 - INFO - ==================================================\n",
      "\n"
     ]
    },
    {
     "name": "stdout",
     "output_type": "stream",
     "text": [
      "\u001b[1m561/561\u001b[0m \u001b[32m━━━━━━━━━━━━━━━━━━━━\u001b[0m\u001b[37m\u001b[0m \u001b[1m186s\u001b[0m 332ms/step - accuracy: 0.9352 - auc: 0.8421 - f1_score: 0.4391 - loss: 0.2082 - precision: 0.7219 - recall: 0.3946 - val_accuracy: 0.9271 - val_auc: 0.7778 - val_f1_score: 0.4014 - val_loss: 0.2326 - val_precision: 0.6220 - val_recall: 0.3679 - learning_rate: 2.5000e-05\n"
     ]
    },
    {
     "name": "stderr",
     "output_type": "stream",
     "text": [
      "2025-04-22 20:45:00 - INFO - \n",
      "=== Starting Epoch 25 ===\n",
      "\n"
     ]
    },
    {
     "name": "stdout",
     "output_type": "stream",
     "text": [
      "Epoch 25/100\n",
      "\u001b[1m331/561\u001b[0m \u001b[32m━━━━━━━━━━━\u001b[0m\u001b[37m━━━━━━━━━\u001b[0m \u001b[1m56s\u001b[0m 244ms/step - accuracy: 0.9366 - auc: 0.8446 - f1_score: 0.4612 - loss: 0.2048 - precision: 0.7301 - recall: 0.4159 "
     ]
    },
    {
     "name": "stderr",
     "output_type": "stream",
     "text": [
      "2025-04-22 20:46:21.454732: W tensorflow/core/lib/png/png_io.cc:92] PNG warning: iCCP: profile 'ICC Profile': 'GRAY': Gray color space not permitted on RGB PNG\n"
     ]
    },
    {
     "name": "stdout",
     "output_type": "stream",
     "text": [
      "\u001b[1m561/561\u001b[0m \u001b[32m━━━━━━━━━━━━━━━━━━━━\u001b[0m\u001b[37m\u001b[0m \u001b[1m0s\u001b[0m 235ms/step - accuracy: 0.9366 - auc: 0.8460 - f1_score: 0.4613 - loss: 0.2045 - precision: 0.7305 - recall: 0.4153 "
     ]
    },
    {
     "name": "stderr",
     "output_type": "stream",
     "text": [
      "2025-04-22 20:47:13.180243: I tensorflow/core/kernels/data/shuffle_dataset_op.cc:452] ShuffleDatasetV3:10: Filling up shuffle buffer (this may take a while): 8405 of 25000\n",
      "2025-04-22 20:47:23.194149: I tensorflow/core/kernels/data/shuffle_dataset_op.cc:452] ShuffleDatasetV3:10: Filling up shuffle buffer (this may take a while): 14151 of 25000\n",
      "2025-04-22 20:47:40.980439: I tensorflow/core/kernels/data/shuffle_dataset_op.cc:482] Shuffle buffer filled.\n",
      "2025-04-22 20:47:41.196275: W tensorflow/core/kernels/data/prefetch_autotuner.cc:52] Prefetch autotuner tried to allocate 134225408 bytes after encountering the first element of size 134225408 bytes.This already causes the autotune ram budget to be exceeded. To stay within the ram budget, either increase the ram budget or reduce element size\n",
      "2025-04-22 20:47:51 - INFO - \n",
      "=== Epoch 25 Summary ===\n",
      "2025-04-22 20:47:51 - INFO - Time: 171.30s\n",
      "2025-04-22 20:47:51 - INFO - Training   - accuracy: 0.9367 - auc: 0.8486 - f1_score: 0.4616 - loss: 0.2038 - precision: 0.7299 - recall: 0.4143 - learning_rate: 0.0000\n",
      "2025-04-22 20:47:51 - INFO - Validation - accuracy: 0.9283 - auc: 0.7765 - f1_score: 0.3700 - loss: 0.2343 - precision: 0.6353 - recall: 0.3699\n",
      "2025-04-22 20:47:51 - INFO - ==================================================\n",
      "\n"
     ]
    },
    {
     "name": "stdout",
     "output_type": "stream",
     "text": [
      "\u001b[1m561/561\u001b[0m \u001b[32m━━━━━━━━━━━━━━━━━━━━\u001b[0m\u001b[37m\u001b[0m \u001b[1m171s\u001b[0m 306ms/step - accuracy: 0.9366 - auc: 0.8460 - f1_score: 0.4613 - loss: 0.2045 - precision: 0.7305 - recall: 0.4153 - val_accuracy: 0.9283 - val_auc: 0.7765 - val_f1_score: 0.3700 - val_loss: 0.2343 - val_precision: 0.6353 - val_recall: 0.3699 - learning_rate: 2.5000e-05\n"
     ]
    },
    {
     "name": "stderr",
     "output_type": "stream",
     "text": [
      "2025-04-22 20:47:51 - INFO - \n",
      "=== Starting Epoch 26 ===\n",
      "\n"
     ]
    },
    {
     "name": "stdout",
     "output_type": "stream",
     "text": [
      "Epoch 26/100\n",
      "\u001b[1m332/561\u001b[0m \u001b[32m━━━━━━━━━━━\u001b[0m\u001b[37m━━━━━━━━━\u001b[0m \u001b[1m54s\u001b[0m 238ms/step - accuracy: 0.9371 - auc: 0.8498 - f1_score: 0.4656 - loss: 0.2027 - precision: 0.7337 - recall: 0.4183 "
     ]
    },
    {
     "name": "stderr",
     "output_type": "stream",
     "text": [
      "2025-04-22 20:49:10.851614: W tensorflow/core/lib/png/png_io.cc:92] PNG warning: iCCP: profile 'ICC Profile': 'GRAY': Gray color space not permitted on RGB PNG\n"
     ]
    },
    {
     "name": "stdout",
     "output_type": "stream",
     "text": [
      "\u001b[1m561/561\u001b[0m \u001b[32m━━━━━━━━━━━━━━━━━━━━\u001b[0m\u001b[37m\u001b[0m \u001b[1m0s\u001b[0m 231ms/step - accuracy: 0.9374 - auc: 0.8513 - f1_score: 0.4696 - loss: 0.2020 - precision: 0.7353 - recall: 0.4213 "
     ]
    },
    {
     "name": "stderr",
     "output_type": "stream",
     "text": [
      "2025-04-22 20:50:01.585638: W tensorflow/core/kernels/data/prefetch_autotuner.cc:52] Prefetch autotuner tried to allocate 134225408 bytes after encountering the first element of size 134225408 bytes.This already causes the autotune ram budget to be exceeded. To stay within the ram budget, either increase the ram budget or reduce element size\n",
      "2025-04-22 20:50:01.585743: W tensorflow/core/kernels/data/prefetch_autotuner.cc:52] Prefetch autotuner tried to allocate 134225408 bytes after encountering the first element of size 134225408 bytes.This already causes the autotune ram budget to be exceeded. To stay within the ram budget, either increase the ram budget or reduce element size\n",
      "2025-04-22 20:50:02.524496: I tensorflow/core/kernels/data/shuffle_dataset_op.cc:452] ShuffleDatasetV3:10: Filling up shuffle buffer (this may take a while): 8665 of 25000\n",
      "2025-04-22 20:50:22.539042: I tensorflow/core/kernels/data/shuffle_dataset_op.cc:452] ShuffleDatasetV3:10: Filling up shuffle buffer (this may take a while): 17020 of 25000\n",
      "2025-04-22 20:50:27 - INFO - \n",
      "=== Epoch 26 Summary ===\n",
      "2025-04-22 20:50:27 - INFO - Time: 156.08s\n",
      "2025-04-22 20:50:27 - INFO - Training   - accuracy: 0.9378 - auc: 0.8538 - f1_score: 0.4757 - loss: 0.2006 - precision: 0.7368 - recall: 0.4263 - learning_rate: 0.0000\n",
      "2025-04-22 20:50:27 - INFO - Validation - accuracy: 0.9226 - auc: 0.7663 - f1_score: 0.3885 - loss: 0.2416 - precision: 0.5809 - recall: 0.3274\n",
      "2025-04-22 20:50:27 - INFO - ==================================================\n",
      "\n"
     ]
    },
    {
     "name": "stdout",
     "output_type": "stream",
     "text": [
      "\u001b[1m561/561\u001b[0m \u001b[32m━━━━━━━━━━━━━━━━━━━━\u001b[0m\u001b[37m\u001b[0m \u001b[1m156s\u001b[0m 278ms/step - accuracy: 0.9374 - auc: 0.8513 - f1_score: 0.4696 - loss: 0.2020 - precision: 0.7353 - recall: 0.4214 - val_accuracy: 0.9226 - val_auc: 0.7663 - val_f1_score: 0.3885 - val_loss: 0.2416 - val_precision: 0.5809 - val_recall: 0.3274 - learning_rate: 2.5000e-05\n"
     ]
    },
    {
     "name": "stderr",
     "output_type": "stream",
     "text": [
      "2025-04-22 20:50:27 - INFO - \n",
      "=== Starting Epoch 27 ===\n",
      "\n"
     ]
    },
    {
     "name": "stdout",
     "output_type": "stream",
     "text": [
      "Epoch 27/100\n",
      "\u001b[1m 22/561\u001b[0m \u001b[37m━━━━━━━━━━━━━━━━━━━━\u001b[0m \u001b[1m1:48\u001b[0m 201ms/step - accuracy: 0.9395 - auc: 0.8468 - f1_score: 0.4739 - loss: 0.2001 - precision: 0.7561 - recall: 0.4230"
     ]
    },
    {
     "name": "stderr",
     "output_type": "stream",
     "text": [
      "2025-04-22 20:50:33.379669: I tensorflow/core/kernels/data/shuffle_dataset_op.cc:482] Shuffle buffer filled.\n",
      "2025-04-22 20:50:33.523155: W tensorflow/core/kernels/data/prefetch_autotuner.cc:52] Prefetch autotuner tried to allocate 91475456 bytes after encountering the first element of size 91475456 bytes.This already causes the autotune ram budget to be exceeded. To stay within the ram budget, either increase the ram budget or reduce element size\n"
     ]
    },
    {
     "name": "stdout",
     "output_type": "stream",
     "text": [
      "\u001b[1m333/561\u001b[0m \u001b[32m━━━━━━━━━━━\u001b[0m\u001b[37m━━━━━━━━━\u001b[0m \u001b[1m57s\u001b[0m 253ms/step - accuracy: 0.9387 - auc: 0.8571 - f1_score: 0.4842 - loss: 0.1991 - precision: 0.7450 - recall: 0.4337 "
     ]
    },
    {
     "name": "stderr",
     "output_type": "stream",
     "text": [
      "2025-04-22 20:51:52.146328: W tensorflow/core/lib/png/png_io.cc:92] PNG warning: iCCP: profile 'ICC Profile': 'GRAY': Gray color space not permitted on RGB PNG\n"
     ]
    },
    {
     "name": "stdout",
     "output_type": "stream",
     "text": [
      "\u001b[1m561/561\u001b[0m \u001b[32m━━━━━━━━━━━━━━━━━━━━\u001b[0m\u001b[37m\u001b[0m \u001b[1m0s\u001b[0m 240ms/step - accuracy: 0.9387 - auc: 0.8576 - f1_score: 0.4857 - loss: 0.1987 - precision: 0.7438 - recall: 0.4354 "
     ]
    },
    {
     "name": "stderr",
     "output_type": "stream",
     "text": [
      "2025-04-22 20:52:43.060437: W tensorflow/core/kernels/data/prefetch_autotuner.cc:52] Prefetch autotuner tried to allocate 127518464 bytes after encountering the first element of size 127518464 bytes.This already causes the autotune ram budget to be exceeded. To stay within the ram budget, either increase the ram budget or reduce element size\n",
      "2025-04-22 20:52:44.038680: I tensorflow/core/kernels/data/shuffle_dataset_op.cc:452] ShuffleDatasetV3:10: Filling up shuffle buffer (this may take a while): 9630 of 25000\n",
      "2025-04-22 20:52:54.042676: I tensorflow/core/kernels/data/shuffle_dataset_op.cc:452] ShuffleDatasetV3:10: Filling up shuffle buffer (this may take a while): 14417 of 25000\n",
      "2025-04-22 20:53:13.220848: I tensorflow/core/kernels/data/shuffle_dataset_op.cc:482] Shuffle buffer filled.\n",
      "2025-04-22 20:53:13.863175: W tensorflow/core/kernels/data/prefetch_autotuner.cc:52] Prefetch autotuner tried to allocate 134225408 bytes after encountering the first element of size 134225408 bytes.This already causes the autotune ram budget to be exceeded. To stay within the ram budget, either increase the ram budget or reduce element size\n"
     ]
    },
    {
     "name": "stdout",
     "output_type": "stream",
     "text": [
      "\n",
      "Epoch 27: ReduceLROnPlateau reducing learning rate to 1.249999968422344e-05.\n"
     ]
    },
    {
     "name": "stderr",
     "output_type": "stream",
     "text": [
      "2025-04-22 20:53:16 - INFO - \n",
      "=== Epoch 27 Summary ===\n",
      "2025-04-22 20:53:16 - INFO - Time: 168.99s\n",
      "2025-04-22 20:53:16 - INFO - Training   - accuracy: 0.9387 - auc: 0.8582 - f1_score: 0.4873 - loss: 0.1979 - precision: 0.7416 - recall: 0.4372 - learning_rate: 0.0000\n",
      "2025-04-22 20:53:16 - INFO - Validation - accuracy: 0.9237 - auc: 0.7702 - f1_score: 0.3725 - loss: 0.2371 - precision: 0.6003 - recall: 0.3109\n",
      "2025-04-22 20:53:16 - INFO - ==================================================\n",
      "\n"
     ]
    },
    {
     "name": "stdout",
     "output_type": "stream",
     "text": [
      "\u001b[1m561/561\u001b[0m \u001b[32m━━━━━━━━━━━━━━━━━━━━\u001b[0m\u001b[37m\u001b[0m \u001b[1m169s\u001b[0m 301ms/step - accuracy: 0.9387 - auc: 0.8576 - f1_score: 0.4857 - loss: 0.1987 - precision: 0.7438 - recall: 0.4354 - val_accuracy: 0.9237 - val_auc: 0.7702 - val_f1_score: 0.3725 - val_loss: 0.2371 - val_precision: 0.6003 - val_recall: 0.3109 - learning_rate: 2.5000e-05\n"
     ]
    },
    {
     "name": "stderr",
     "output_type": "stream",
     "text": [
      "2025-04-22 20:53:16 - INFO - \n",
      "=== Starting Epoch 28 ===\n",
      "\n"
     ]
    },
    {
     "name": "stdout",
     "output_type": "stream",
     "text": [
      "Epoch 28/100\n",
      "\u001b[1m334/561\u001b[0m \u001b[32m━━━━━━━━━━━\u001b[0m\u001b[37m━━━━━━━━━\u001b[0m \u001b[1m57s\u001b[0m 253ms/step - accuracy: 0.9409 - auc: 0.8654 - f1_score: 0.5107 - loss: 0.1928 - precision: 0.7560 - recall: 0.4585 "
     ]
    },
    {
     "name": "stderr",
     "output_type": "stream",
     "text": [
      "2025-04-22 20:54:41.258212: W tensorflow/core/lib/png/png_io.cc:92] PNG warning: iCCP: profile 'ICC Profile': 'GRAY': Gray color space not permitted on RGB PNG\n"
     ]
    },
    {
     "name": "stdout",
     "output_type": "stream",
     "text": [
      "\u001b[1m561/561\u001b[0m \u001b[32m━━━━━━━━━━━━━━━━━━━━\u001b[0m\u001b[37m\u001b[0m \u001b[1m0s\u001b[0m 242ms/step - accuracy: 0.9413 - auc: 0.8682 - f1_score: 0.5147 - loss: 0.1916 - precision: 0.7584 - recall: 0.4618 "
     ]
    },
    {
     "name": "stderr",
     "output_type": "stream",
     "text": [
      "2025-04-22 20:55:33.258856: W tensorflow/core/kernels/data/prefetch_autotuner.cc:52] Prefetch autotuner tried to allocate 77078016 bytes after encountering the first element of size 77078016 bytes.This already causes the autotune ram budget to be exceeded. To stay within the ram budget, either increase the ram budget or reduce element size\n",
      "2025-04-22 20:55:34.480417: I tensorflow/core/kernels/data/shuffle_dataset_op.cc:452] ShuffleDatasetV3:10: Filling up shuffle buffer (this may take a while): 7334 of 25000\n",
      "2025-04-22 20:55:54.473530: I tensorflow/core/kernels/data/shuffle_dataset_op.cc:452] ShuffleDatasetV3:10: Filling up shuffle buffer (this may take a while): 16346 of 25000\n",
      "2025-04-22 20:56:04.475740: I tensorflow/core/kernels/data/shuffle_dataset_op.cc:452] ShuffleDatasetV3:10: Filling up shuffle buffer (this may take a while): 21847 of 25000\n",
      "2025-04-22 20:56:05 - INFO - \n",
      "=== Epoch 28 Summary ===\n",
      "2025-04-22 20:56:05 - INFO - Time: 168.73s\n",
      "2025-04-22 20:56:05 - INFO - Training   - accuracy: 0.9420 - auc: 0.8740 - f1_score: 0.5223 - loss: 0.1894 - precision: 0.7620 - recall: 0.4685 - learning_rate: 0.0000\n",
      "2025-04-22 20:56:05 - INFO - Validation - accuracy: 0.9260 - auc: 0.7511 - f1_score: 0.3880 - loss: 0.2543 - precision: 0.6036 - recall: 0.3834\n",
      "2025-04-22 20:56:05 - INFO - ==================================================\n",
      "\n"
     ]
    },
    {
     "name": "stdout",
     "output_type": "stream",
     "text": [
      "\u001b[1m561/561\u001b[0m \u001b[32m━━━━━━━━━━━━━━━━━━━━\u001b[0m\u001b[37m\u001b[0m \u001b[1m169s\u001b[0m 301ms/step - accuracy: 0.9413 - auc: 0.8682 - f1_score: 0.5147 - loss: 0.1916 - precision: 0.7584 - recall: 0.4619 - val_accuracy: 0.9260 - val_auc: 0.7511 - val_f1_score: 0.3880 - val_loss: 0.2543 - val_precision: 0.6036 - val_recall: 0.3834 - learning_rate: 1.2500e-05\n"
     ]
    },
    {
     "name": "stderr",
     "output_type": "stream",
     "text": [
      "2025-04-22 20:56:05 - INFO - \n",
      "=== Starting Epoch 29 ===\n",
      "\n"
     ]
    },
    {
     "name": "stdout",
     "output_type": "stream",
     "text": [
      "Epoch 29/100\n",
      "\u001b[1m 10/561\u001b[0m \u001b[37m━━━━━━━━━━━━━━━━━━━━\u001b[0m \u001b[1m2:03\u001b[0m 224ms/step - accuracy: 0.9445 - auc: 0.8803 - f1_score: 0.5489 - loss: 0.1859 - precision: 0.7787 - recall: 0.4944"
     ]
    },
    {
     "name": "stderr",
     "output_type": "stream",
     "text": [
      "2025-04-22 20:56:08.012224: I tensorflow/core/kernels/data/shuffle_dataset_op.cc:482] Shuffle buffer filled.\n"
     ]
    },
    {
     "name": "stdout",
     "output_type": "stream",
     "text": [
      "\u001b[1m 13/561\u001b[0m \u001b[37m━━━━━━━━━━━━━━━━━━━━\u001b[0m \u001b[1m2:00\u001b[0m 221ms/step - accuracy: 0.9444 - auc: 0.8825 - f1_score: 0.5472 - loss: 0.1858 - precision: 0.7774 - recall: 0.4923"
     ]
    },
    {
     "name": "stderr",
     "output_type": "stream",
     "text": [
      "2025-04-22 20:56:08.624288: W tensorflow/core/kernels/data/prefetch_autotuner.cc:52] Prefetch autotuner tried to allocate 77078016 bytes after encountering the first element of size 77078016 bytes.This already causes the autotune ram budget to be exceeded. To stay within the ram budget, either increase the ram budget or reduce element size\n"
     ]
    },
    {
     "name": "stdout",
     "output_type": "stream",
     "text": [
      "\u001b[1m335/561\u001b[0m \u001b[32m━━━━━━━━━━━\u001b[0m\u001b[37m━━━━━━━━━\u001b[0m \u001b[1m56s\u001b[0m 252ms/step - accuracy: 0.9428 - auc: 0.8813 - f1_score: 0.5343 - loss: 0.1869 - precision: 0.7660 - recall: 0.4785 "
     ]
    },
    {
     "name": "stderr",
     "output_type": "stream",
     "text": [
      "2025-04-22 20:57:30.146188: W tensorflow/core/lib/png/png_io.cc:92] PNG warning: iCCP: profile 'ICC Profile': 'GRAY': Gray color space not permitted on RGB PNG\n"
     ]
    },
    {
     "name": "stdout",
     "output_type": "stream",
     "text": [
      "\u001b[1m561/561\u001b[0m \u001b[32m━━━━━━━━━━━━━━━━━━━━\u001b[0m\u001b[37m\u001b[0m \u001b[1m0s\u001b[0m 239ms/step - accuracy: 0.9431 - auc: 0.8811 - f1_score: 0.5374 - loss: 0.1862 - precision: 0.7676 - recall: 0.4816 "
     ]
    },
    {
     "name": "stderr",
     "output_type": "stream",
     "text": [
      "2025-04-22 20:58:20.376250: W tensorflow/core/kernels/data/prefetch_autotuner.cc:52] Prefetch autotuner tried to allocate 127518720 bytes after encountering the first element of size 127518720 bytes.This already causes the autotune ram budget to be exceeded. To stay within the ram budget, either increase the ram budget or reduce element size\n",
      "2025-04-22 20:58:20.376342: W tensorflow/core/kernels/data/prefetch_autotuner.cc:52] Prefetch autotuner tried to allocate 127518720 bytes after encountering the first element of size 127518720 bytes.This already causes the autotune ram budget to be exceeded. To stay within the ram budget, either increase the ram budget or reduce element size\n",
      "2025-04-22 20:58:21.881349: I tensorflow/core/kernels/data/shuffle_dataset_op.cc:452] ShuffleDatasetV3:10: Filling up shuffle buffer (this may take a while): 8790 of 25000\n",
      "2025-04-22 20:58:31.892493: I tensorflow/core/kernels/data/shuffle_dataset_op.cc:452] ShuffleDatasetV3:10: Filling up shuffle buffer (this may take a while): 13360 of 25000\n",
      "2025-04-22 20:58:50 - INFO - \n",
      "=== Epoch 29 Summary ===\n",
      "2025-04-22 20:58:50 - INFO - Time: 165.00s\n",
      "2025-04-22 20:58:50 - INFO - Training   - accuracy: 0.9436 - auc: 0.8812 - f1_score: 0.5434 - loss: 0.1847 - precision: 0.7697 - recall: 0.4876 - learning_rate: 0.0000\n",
      "2025-04-22 20:58:50 - INFO - Validation - accuracy: 0.9201 - auc: 0.7567 - f1_score: 0.4145 - loss: 0.2510 - precision: 0.5455 - recall: 0.3733\n",
      "2025-04-22 20:58:50 - INFO - ==================================================\n",
      "\n",
      "2025-04-22 20:58:51.466476: I tensorflow/core/kernels/data/shuffle_dataset_op.cc:482] Shuffle buffer filled.\n",
      "2025-04-22 20:58:51.577446: W tensorflow/core/kernels/data/prefetch_autotuner.cc:52] Prefetch autotuner tried to allocate 127518720 bytes after encountering the first element of size 127518720 bytes.This already causes the autotune ram budget to be exceeded. To stay within the ram budget, either increase the ram budget or reduce element size\n"
     ]
    },
    {
     "name": "stdout",
     "output_type": "stream",
     "text": [
      "\u001b[1m561/561\u001b[0m \u001b[32m━━━━━━━━━━━━━━━━━━━━\u001b[0m\u001b[37m\u001b[0m \u001b[1m166s\u001b[0m 296ms/step - accuracy: 0.9431 - auc: 0.8811 - f1_score: 0.5374 - loss: 0.1862 - precision: 0.7676 - recall: 0.4816 - val_accuracy: 0.9201 - val_auc: 0.7567 - val_f1_score: 0.4145 - val_loss: 0.2510 - val_precision: 0.5455 - val_recall: 0.3733 - learning_rate: 1.2500e-05\n"
     ]
    },
    {
     "name": "stderr",
     "output_type": "stream",
     "text": [
      "2025-04-22 20:58:51 - INFO - \n",
      "=== Starting Epoch 30 ===\n",
      "\n"
     ]
    },
    {
     "name": "stdout",
     "output_type": "stream",
     "text": [
      "Epoch 30/100\n",
      "\u001b[1m336/561\u001b[0m \u001b[32m━━━━━━━━━━━\u001b[0m\u001b[37m━━━━━━━━━\u001b[0m \u001b[1m56s\u001b[0m 251ms/step - accuracy: 0.9448 - auc: 0.8839 - f1_score: 0.5529 - loss: 0.1821 - precision: 0.7735 - recall: 0.4969 "
     ]
    },
    {
     "name": "stderr",
     "output_type": "stream",
     "text": [
      "2025-04-22 21:00:16.004340: W tensorflow/core/lib/png/png_io.cc:92] PNG warning: iCCP: profile 'ICC Profile': 'GRAY': Gray color space not permitted on RGB PNG\n"
     ]
    },
    {
     "name": "stdout",
     "output_type": "stream",
     "text": [
      "\u001b[1m561/561\u001b[0m \u001b[32m━━━━━━━━━━━━━━━━━━━━\u001b[0m\u001b[37m\u001b[0m \u001b[1m0s\u001b[0m 238ms/step - accuracy: 0.9449 - auc: 0.8846 - f1_score: 0.5547 - loss: 0.1820 - precision: 0.7748 - recall: 0.4983 "
     ]
    },
    {
     "name": "stderr",
     "output_type": "stream",
     "text": [
      "2025-04-22 21:01:05.863008: W tensorflow/core/kernels/data/prefetch_autotuner.cc:52] Prefetch autotuner tried to allocate 77078016 bytes after encountering the first element of size 77078016 bytes.This already causes the autotune ram budget to be exceeded. To stay within the ram budget, either increase the ram budget or reduce element size\n",
      "2025-04-22 21:01:07.638051: I tensorflow/core/kernels/data/shuffle_dataset_op.cc:452] ShuffleDatasetV3:10: Filling up shuffle buffer (this may take a while): 8750 of 25000\n",
      "2025-04-22 21:01:27.635322: I tensorflow/core/kernels/data/shuffle_dataset_op.cc:452] ShuffleDatasetV3:10: Filling up shuffle buffer (this may take a while): 18368 of 25000\n",
      "2025-04-22 21:01:32 - INFO - \n",
      "=== Epoch 30 Summary ===\n",
      "2025-04-22 21:01:32 - INFO - Time: 160.58s\n",
      "2025-04-22 21:01:32 - INFO - Training   - accuracy: 0.9450 - auc: 0.8873 - f1_score: 0.5588 - loss: 0.1814 - precision: 0.7764 - recall: 0.5020 - learning_rate: 0.0000\n",
      "2025-04-22 21:01:32 - INFO - Validation - accuracy: 0.9242 - auc: 0.7557 - f1_score: 0.4055 - loss: 0.2491 - precision: 0.5869 - recall: 0.3715\n",
      "2025-04-22 21:01:32 - INFO - ==================================================\n",
      "\n"
     ]
    },
    {
     "name": "stdout",
     "output_type": "stream",
     "text": [
      "\u001b[1m561/561\u001b[0m \u001b[32m━━━━━━━━━━━━━━━━━━━━\u001b[0m\u001b[37m\u001b[0m \u001b[1m161s\u001b[0m 286ms/step - accuracy: 0.9449 - auc: 0.8846 - f1_score: 0.5547 - loss: 0.1820 - precision: 0.7748 - recall: 0.4984 - val_accuracy: 0.9242 - val_auc: 0.7557 - val_f1_score: 0.4055 - val_loss: 0.2491 - val_precision: 0.5869 - val_recall: 0.3715 - learning_rate: 1.2500e-05\n"
     ]
    },
    {
     "name": "stderr",
     "output_type": "stream",
     "text": [
      "2025-04-22 21:01:32 - INFO - \n",
      "=== Starting Epoch 31 ===\n",
      "\n"
     ]
    },
    {
     "name": "stdout",
     "output_type": "stream",
     "text": [
      "Epoch 31/100\n",
      "\u001b[1m 19/561\u001b[0m \u001b[37m━━━━━━━━━━━━━━━━━━━━\u001b[0m \u001b[1m1:52\u001b[0m 208ms/step - accuracy: 0.9502 - auc: 0.8943 - f1_score: 0.5975 - loss: 0.1713 - precision: 0.8082 - recall: 0.5457"
     ]
    },
    {
     "name": "stderr",
     "output_type": "stream",
     "text": [
      "2025-04-22 21:01:36.331553: I tensorflow/core/kernels/data/shuffle_dataset_op.cc:482] Shuffle buffer filled.\n"
     ]
    },
    {
     "name": "stdout",
     "output_type": "stream",
     "text": [
      "\u001b[1m 22/561\u001b[0m \u001b[37m━━━━━━━━━━━━━━━━━━━━\u001b[0m \u001b[1m1:51\u001b[0m 207ms/step - accuracy: 0.9498 - auc: 0.8943 - f1_score: 0.5944 - loss: 0.1720 - precision: 0.8054 - recall: 0.5424"
     ]
    },
    {
     "name": "stderr",
     "output_type": "stream",
     "text": [
      "2025-04-22 21:01:36.938630: W tensorflow/core/kernels/data/prefetch_autotuner.cc:52] Prefetch autotuner tried to allocate 77078016 bytes after encountering the first element of size 77078016 bytes.This already causes the autotune ram budget to be exceeded. To stay within the ram budget, either increase the ram budget or reduce element size\n"
     ]
    },
    {
     "name": "stdout",
     "output_type": "stream",
     "text": [
      "\u001b[1m337/561\u001b[0m \u001b[32m━━━━━━━━━━━━\u001b[0m\u001b[37m━━━━━━━━\u001b[0m \u001b[1m57s\u001b[0m 257ms/step - accuracy: 0.9469 - auc: 0.8917 - f1_score: 0.5740 - loss: 0.1770 - precision: 0.7871 - recall: 0.5177 "
     ]
    },
    {
     "name": "stderr",
     "output_type": "stream",
     "text": [
      "2025-04-22 21:02:59.107357: W tensorflow/core/lib/png/png_io.cc:92] PNG warning: iCCP: profile 'ICC Profile': 'GRAY': Gray color space not permitted on RGB PNG\n"
     ]
    },
    {
     "name": "stdout",
     "output_type": "stream",
     "text": [
      "\u001b[1m561/561\u001b[0m \u001b[32m━━━━━━━━━━━━━━━━━━━━\u001b[0m\u001b[37m\u001b[0m \u001b[1m0s\u001b[0m 243ms/step - accuracy: 0.9467 - auc: 0.8919 - f1_score: 0.5732 - loss: 0.1772 - precision: 0.7859 - recall: 0.5165 "
     ]
    },
    {
     "name": "stderr",
     "output_type": "stream",
     "text": [
      "2025-04-22 21:03:48.771365: W tensorflow/core/kernels/data/prefetch_autotuner.cc:52] Prefetch autotuner tried to allocate 77078016 bytes after encountering the first element of size 77078016 bytes.This already causes the autotune ram budget to be exceeded. To stay within the ram budget, either increase the ram budget or reduce element size\n",
      "2025-04-22 21:03:50.765993: I tensorflow/core/kernels/data/shuffle_dataset_op.cc:452] ShuffleDatasetV3:10: Filling up shuffle buffer (this may take a while): 8485 of 25000\n",
      "2025-04-22 21:04:01.212484: I tensorflow/core/kernels/data/shuffle_dataset_op.cc:452] ShuffleDatasetV3:10: Filling up shuffle buffer (this may take a while): 12675 of 25000\n",
      "2025-04-22 21:04:20.764660: I tensorflow/core/kernels/data/shuffle_dataset_op.cc:452] ShuffleDatasetV3:10: Filling up shuffle buffer (this may take a while): 20552 of 25000\n",
      "2025-04-22 21:04:26.847294: I tensorflow/core/kernels/data/shuffle_dataset_op.cc:482] Shuffle buffer filled.\n",
      "2025-04-22 21:04:26.985705: W tensorflow/core/kernels/data/prefetch_autotuner.cc:52] Prefetch autotuner tried to allocate 77078016 bytes after encountering the first element of size 77078016 bytes.This already causes the autotune ram budget to be exceeded. To stay within the ram budget, either increase the ram budget or reduce element size\n",
      "2025-04-22 21:04:36 - INFO - \n",
      "=== Epoch 31 Summary ===\n",
      "2025-04-22 21:04:36 - INFO - Time: 184.21s\n",
      "2025-04-22 21:04:36 - INFO - Training   - accuracy: 0.9464 - auc: 0.8930 - f1_score: 0.5725 - loss: 0.1778 - precision: 0.7845 - recall: 0.5149 - learning_rate: 0.0000\n",
      "2025-04-22 21:04:36 - INFO - Validation - accuracy: 0.9133 - auc: 0.7448 - f1_score: 0.3837 - loss: 0.2668 - precision: 0.4870 - recall: 0.3418\n",
      "2025-04-22 21:04:36 - INFO - ==================================================\n",
      "\n"
     ]
    },
    {
     "name": "stdout",
     "output_type": "stream",
     "text": [
      "\u001b[1m561/561\u001b[0m \u001b[32m━━━━━━━━━━━━━━━━━━━━\u001b[0m\u001b[37m\u001b[0m \u001b[1m184s\u001b[0m 329ms/step - accuracy: 0.9467 - auc: 0.8919 - f1_score: 0.5732 - loss: 0.1772 - precision: 0.7859 - recall: 0.5165 - val_accuracy: 0.9133 - val_auc: 0.7448 - val_f1_score: 0.3837 - val_loss: 0.2668 - val_precision: 0.4870 - val_recall: 0.3418 - learning_rate: 1.2500e-05\n"
     ]
    },
    {
     "name": "stderr",
     "output_type": "stream",
     "text": [
      "2025-04-22 21:04:36 - INFO - \n",
      "=== Starting Epoch 32 ===\n",
      "\n"
     ]
    },
    {
     "name": "stdout",
     "output_type": "stream",
     "text": [
      "Epoch 32/100\n",
      "\u001b[1m338/561\u001b[0m \u001b[32m━━━━━━━━━━━━\u001b[0m\u001b[37m━━━━━━━━\u001b[0m \u001b[1m51s\u001b[0m 231ms/step - accuracy: 0.9472 - auc: 0.8966 - f1_score: 0.5820 - loss: 0.1761 - precision: 0.7889 - recall: 0.5236 "
     ]
    },
    {
     "name": "stderr",
     "output_type": "stream",
     "text": [
      "2025-04-22 21:05:54.789038: W tensorflow/core/lib/png/png_io.cc:92] PNG warning: iCCP: profile 'ICC Profile': 'GRAY': Gray color space not permitted on RGB PNG\n"
     ]
    },
    {
     "name": "stdout",
     "output_type": "stream",
     "text": [
      "\u001b[1m561/561\u001b[0m \u001b[32m━━━━━━━━━━━━━━━━━━━━\u001b[0m\u001b[37m\u001b[0m \u001b[1m0s\u001b[0m 227ms/step - accuracy: 0.9473 - auc: 0.8974 - f1_score: 0.5834 - loss: 0.1757 - precision: 0.7893 - recall: 0.5249 "
     ]
    },
    {
     "name": "stderr",
     "output_type": "stream",
     "text": [
      "2025-04-22 21:06:44.444626: W tensorflow/core/kernels/data/prefetch_autotuner.cc:52] Prefetch autotuner tried to allocate 127518464 bytes after encountering the first element of size 127518464 bytes.This already causes the autotune ram budget to be exceeded. To stay within the ram budget, either increase the ram budget or reduce element size\n",
      "2025-04-22 21:06:46.515764: I tensorflow/core/kernels/data/shuffle_dataset_op.cc:452] ShuffleDatasetV3:10: Filling up shuffle buffer (this may take a while): 7904 of 25000\n",
      "2025-04-22 21:06:56.541195: I tensorflow/core/kernels/data/shuffle_dataset_op.cc:452] ShuffleDatasetV3:10: Filling up shuffle buffer (this may take a while): 12172 of 25000\n",
      "2025-04-22 21:07:13 - INFO - \n",
      "=== Epoch 32 Summary ===\n",
      "2025-04-22 21:07:13 - INFO - Time: 156.60s\n",
      "2025-04-22 21:07:13 - INFO - Training   - accuracy: 0.9475 - auc: 0.8986 - f1_score: 0.5861 - loss: 0.1748 - precision: 0.7897 - recall: 0.5274 - learning_rate: 0.0000\n",
      "2025-04-22 21:07:13 - INFO - Validation - accuracy: 0.9211 - auc: 0.7472 - f1_score: 0.4244 - loss: 0.2637 - precision: 0.5516 - recall: 0.3917\n",
      "2025-04-22 21:07:13 - INFO - ==================================================\n",
      "\n"
     ]
    },
    {
     "name": "stdout",
     "output_type": "stream",
     "text": [
      "\u001b[1m561/561\u001b[0m \u001b[32m━━━━━━━━━━━━━━━━━━━━\u001b[0m\u001b[37m\u001b[0m \u001b[1m158s\u001b[0m 281ms/step - accuracy: 0.9473 - auc: 0.8974 - f1_score: 0.5834 - loss: 0.1757 - precision: 0.7893 - recall: 0.5249 - val_accuracy: 0.9211 - val_auc: 0.7472 - val_f1_score: 0.4244 - val_loss: 0.2637 - val_precision: 0.5516 - val_recall: 0.3917 - learning_rate: 1.2500e-05\n"
     ]
    },
    {
     "name": "stderr",
     "output_type": "stream",
     "text": [
      "2025-04-22 21:07:14 - INFO - \n",
      "=== Starting Epoch 33 ===\n",
      "\n"
     ]
    },
    {
     "name": "stdout",
     "output_type": "stream",
     "text": [
      "Epoch 33/100\n",
      "\u001b[1m 11/561\u001b[0m \u001b[37m━━━━━━━━━━━━━━━━━━━━\u001b[0m \u001b[1m1:55\u001b[0m 211ms/step - accuracy: 0.9496 - auc: 0.8476 - f1_score: 0.6000 - loss: 0.1683 - precision: 0.7870 - recall: 0.5449"
     ]
    },
    {
     "name": "stderr",
     "output_type": "stream",
     "text": [
      "2025-04-22 21:07:16.513080: I tensorflow/core/kernels/data/shuffle_dataset_op.cc:452] ShuffleDatasetV3:10: Filling up shuffle buffer (this may take a while): 23507 of 25000\n"
     ]
    },
    {
     "name": "stdout",
     "output_type": "stream",
     "text": [
      "\u001b[1m 19/561\u001b[0m \u001b[37m━━━━━━━━━━━━━━━━━━━━\u001b[0m \u001b[1m1:54\u001b[0m 212ms/step - accuracy: 0.9492 - auc: 0.8688 - f1_score: 0.5975 - loss: 0.1701 - precision: 0.7881 - recall: 0.5418"
     ]
    },
    {
     "name": "stderr",
     "output_type": "stream",
     "text": [
      "2025-04-22 21:07:18.236588: I tensorflow/core/kernels/data/shuffle_dataset_op.cc:482] Shuffle buffer filled.\n"
     ]
    },
    {
     "name": "stdout",
     "output_type": "stream",
     "text": [
      "\u001b[1m 22/561\u001b[0m \u001b[37m━━━━━━━━━━━━━━━━━━━━\u001b[0m \u001b[1m1:53\u001b[0m 211ms/step - accuracy: 0.9491 - auc: 0.8736 - f1_score: 0.5976 - loss: 0.1702 - precision: 0.7886 - recall: 0.5416"
     ]
    },
    {
     "name": "stderr",
     "output_type": "stream",
     "text": [
      "2025-04-22 21:07:18.955791: W tensorflow/core/kernels/data/prefetch_autotuner.cc:52] Prefetch autotuner tried to allocate 84768512 bytes after encountering the first element of size 84768512 bytes.This already causes the autotune ram budget to be exceeded. To stay within the ram budget, either increase the ram budget or reduce element size\n"
     ]
    },
    {
     "name": "stdout",
     "output_type": "stream",
     "text": [
      "\u001b[1m339/561\u001b[0m \u001b[32m━━━━━━━━━━━━\u001b[0m\u001b[37m━━━━━━━━\u001b[0m \u001b[1m56s\u001b[0m 253ms/step - accuracy: 0.9481 - auc: 0.8954 - f1_score: 0.5928 - loss: 0.1734 - precision: 0.7912 - recall: 0.5343 "
     ]
    },
    {
     "name": "stderr",
     "output_type": "stream",
     "text": [
      "2025-04-22 21:08:39.983649: W tensorflow/core/lib/png/png_io.cc:92] PNG warning: iCCP: profile 'ICC Profile': 'GRAY': Gray color space not permitted on RGB PNG\n"
     ]
    },
    {
     "name": "stdout",
     "output_type": "stream",
     "text": [
      "\u001b[1m561/561\u001b[0m \u001b[32m━━━━━━━━━━━━━━━━━━━━\u001b[0m\u001b[37m\u001b[0m \u001b[1m0s\u001b[0m 240ms/step - accuracy: 0.9483 - auc: 0.8963 - f1_score: 0.5949 - loss: 0.1729 - precision: 0.7926 - recall: 0.5361 "
     ]
    },
    {
     "name": "stderr",
     "output_type": "stream",
     "text": [
      "2025-04-22 21:09:29.459950: W tensorflow/core/kernels/data/prefetch_autotuner.cc:52] Prefetch autotuner tried to allocate 134225408 bytes after encountering the first element of size 134225408 bytes.This already causes the autotune ram budget to be exceeded. To stay within the ram budget, either increase the ram budget or reduce element size\n",
      "2025-04-22 21:09:31.747103: I tensorflow/core/kernels/data/shuffle_dataset_op.cc:452] ShuffleDatasetV3:10: Filling up shuffle buffer (this may take a while): 8343 of 25000\n",
      "2025-04-22 21:09:41.748238: I tensorflow/core/kernels/data/shuffle_dataset_op.cc:452] ShuffleDatasetV3:10: Filling up shuffle buffer (this may take a while): 13389 of 25000\n",
      "2025-04-22 21:09:51.748805: I tensorflow/core/kernels/data/shuffle_dataset_op.cc:452] ShuffleDatasetV3:10: Filling up shuffle buffer (this may take a while): 18340 of 25000\n",
      "2025-04-22 21:10:00 - INFO - \n",
      "=== Epoch 33 Summary ===\n",
      "2025-04-22 21:10:00 - INFO - Time: 165.80s\n",
      "2025-04-22 21:10:00 - INFO - Training   - accuracy: 0.9486 - auc: 0.8987 - f1_score: 0.5989 - loss: 0.1719 - precision: 0.7946 - recall: 0.5398 - learning_rate: 0.0000\n",
      "2025-04-22 21:10:00 - INFO - Validation - accuracy: 0.9240 - auc: 0.7297 - f1_score: 0.4056 - loss: 0.2824 - precision: 0.5763 - recall: 0.4047\n",
      "2025-04-22 21:10:00 - INFO - ==================================================\n",
      "\n"
     ]
    },
    {
     "name": "stdout",
     "output_type": "stream",
     "text": [
      "\u001b[1m561/561\u001b[0m \u001b[32m━━━━━━━━━━━━━━━━━━━━\u001b[0m\u001b[37m\u001b[0m \u001b[1m166s\u001b[0m 296ms/step - accuracy: 0.9483 - auc: 0.8963 - f1_score: 0.5949 - loss: 0.1729 - precision: 0.7926 - recall: 0.5361 - val_accuracy: 0.9240 - val_auc: 0.7297 - val_f1_score: 0.4056 - val_loss: 0.2824 - val_precision: 0.5763 - val_recall: 0.4047 - learning_rate: 1.2500e-05\n"
     ]
    },
    {
     "name": "stderr",
     "output_type": "stream",
     "text": [
      "2025-04-22 21:10:00 - INFO - \n",
      "=== Starting Epoch 34 ===\n",
      "\n"
     ]
    },
    {
     "name": "stdout",
     "output_type": "stream",
     "text": [
      "Epoch 34/100\n",
      "\u001b[1m  6/561\u001b[0m \u001b[37m━━━━━━━━━━━━━━━━━━━━\u001b[0m \u001b[1m1:54\u001b[0m 206ms/step - accuracy: 0.9523 - auc: 0.8693 - f1_score: 0.6218 - loss: 0.1646 - precision: 0.8141 - recall: 0.5700"
     ]
    },
    {
     "name": "stderr",
     "output_type": "stream",
     "text": [
      "2025-04-22 21:10:01.276835: I tensorflow/core/kernels/data/shuffle_dataset_op.cc:482] Shuffle buffer filled.\n"
     ]
    },
    {
     "name": "stdout",
     "output_type": "stream",
     "text": [
      "\u001b[1m  8/561\u001b[0m \u001b[37m━━━━━━━━━━━━━━━━━━━━\u001b[0m \u001b[1m1:53\u001b[0m 205ms/step - accuracy: 0.9519 - auc: 0.8812 - f1_score: 0.6200 - loss: 0.1652 - precision: 0.8133 - recall: 0.5657"
     ]
    },
    {
     "name": "stderr",
     "output_type": "stream",
     "text": [
      "2025-04-22 21:10:01.804501: W tensorflow/core/kernels/data/prefetch_autotuner.cc:52] Prefetch autotuner tried to allocate 134225408 bytes after encountering the first element of size 134225408 bytes.This already causes the autotune ram budget to be exceeded. To stay within the ram budget, either increase the ram budget or reduce element size\n"
     ]
    },
    {
     "name": "stdout",
     "output_type": "stream",
     "text": [
      "\u001b[1m340/561\u001b[0m \u001b[32m━━━━━━━━━━━━\u001b[0m\u001b[37m━━━━━━━━\u001b[0m \u001b[1m55s\u001b[0m 250ms/step - accuracy: 0.9497 - auc: 0.9071 - f1_score: 0.6068 - loss: 0.1698 - precision: 0.8042 - recall: 0.5457 "
     ]
    },
    {
     "name": "stderr",
     "output_type": "stream",
     "text": [
      "2025-04-22 21:11:25.306958: W tensorflow/core/lib/png/png_io.cc:92] PNG warning: iCCP: profile 'ICC Profile': 'GRAY': Gray color space not permitted on RGB PNG\n"
     ]
    },
    {
     "name": "stdout",
     "output_type": "stream",
     "text": [
      "\u001b[1m561/561\u001b[0m \u001b[32m━━━━━━━━━━━━━━━━━━━━\u001b[0m\u001b[37m\u001b[0m \u001b[1m0s\u001b[0m 239ms/step - accuracy: 0.9498 - auc: 0.9065 - f1_score: 0.6084 - loss: 0.1696 - precision: 0.8037 - recall: 0.5478 "
     ]
    },
    {
     "name": "stderr",
     "output_type": "stream",
     "text": [
      "2025-04-22 21:12:14.681987: W tensorflow/core/kernels/data/prefetch_autotuner.cc:52] Prefetch autotuner tried to allocate 77078016 bytes after encountering the first element of size 77078016 bytes.This already causes the autotune ram budget to be exceeded. To stay within the ram budget, either increase the ram budget or reduce element size\n",
      "2025-04-22 21:12:17.089897: I tensorflow/core/kernels/data/shuffle_dataset_op.cc:452] ShuffleDatasetV3:10: Filling up shuffle buffer (this may take a while): 7883 of 25000\n",
      "2025-04-22 21:12:37.142892: I tensorflow/core/kernels/data/shuffle_dataset_op.cc:452] ShuffleDatasetV3:10: Filling up shuffle buffer (this may take a while): 14167 of 25000\n",
      "2025-04-22 21:12:57.077148: I tensorflow/core/kernels/data/shuffle_dataset_op.cc:452] ShuffleDatasetV3:10: Filling up shuffle buffer (this may take a while): 23304 of 25000\n",
      "2025-04-22 21:12:57 - INFO - \n",
      "=== Epoch 34 Summary ===\n",
      "2025-04-22 21:12:57 - INFO - Time: 177.38s\n",
      "2025-04-22 21:12:57 - INFO - Training   - accuracy: 0.9500 - auc: 0.9049 - f1_score: 0.6114 - loss: 0.1690 - precision: 0.8027 - recall: 0.5516 - learning_rate: 0.0000\n",
      "2025-04-22 21:12:57 - INFO - Validation - accuracy: 0.9129 - auc: 0.7454 - f1_score: 0.3969 - loss: 0.2784 - precision: 0.4847 - recall: 0.3679\n",
      "2025-04-22 21:12:57 - INFO - ==================================================\n",
      "\n"
     ]
    },
    {
     "name": "stdout",
     "output_type": "stream",
     "text": [
      "\u001b[1m561/561\u001b[0m \u001b[32m━━━━━━━━━━━━━━━━━━━━\u001b[0m\u001b[37m\u001b[0m \u001b[1m177s\u001b[0m 316ms/step - accuracy: 0.9498 - auc: 0.9064 - f1_score: 0.6084 - loss: 0.1696 - precision: 0.8037 - recall: 0.5478 - val_accuracy: 0.9129 - val_auc: 0.7454 - val_f1_score: 0.3969 - val_loss: 0.2784 - val_precision: 0.4847 - val_recall: 0.3679 - learning_rate: 1.2500e-05\n"
     ]
    },
    {
     "name": "stderr",
     "output_type": "stream",
     "text": [
      "2025-04-22 21:12:57 - INFO - \n",
      "=== Starting Epoch 35 ===\n",
      "\n"
     ]
    },
    {
     "name": "stdout",
     "output_type": "stream",
     "text": [
      "Epoch 35/100\n",
      "\u001b[1m  8/561\u001b[0m \u001b[37m━━━━━━━━━━━━━━━━━━━━\u001b[0m \u001b[1m1:58\u001b[0m 214ms/step - accuracy: 0.9467 - auc: 0.9043 - f1_score: 0.5893 - loss: 0.1742 - precision: 0.7967 - recall: 0.5325"
     ]
    },
    {
     "name": "stderr",
     "output_type": "stream",
     "text": [
      "2025-04-22 21:12:59.178542: I tensorflow/core/kernels/data/shuffle_dataset_op.cc:482] Shuffle buffer filled.\n"
     ]
    },
    {
     "name": "stdout",
     "output_type": "stream",
     "text": [
      "\u001b[1m 10/561\u001b[0m \u001b[37m━━━━━━━━━━━━━━━━━━━━\u001b[0m \u001b[1m1:57\u001b[0m 212ms/step - accuracy: 0.9475 - auc: 0.9073 - f1_score: 0.5939 - loss: 0.1725 - precision: 0.7968 - recall: 0.5375"
     ]
    },
    {
     "name": "stderr",
     "output_type": "stream",
     "text": [
      "2025-04-22 21:12:59.769954: W tensorflow/core/kernels/data/prefetch_autotuner.cc:52] Prefetch autotuner tried to allocate 119827968 bytes after encountering the first element of size 119827968 bytes.This already causes the autotune ram budget to be exceeded. To stay within the ram budget, either increase the ram budget or reduce element size\n"
     ]
    },
    {
     "name": "stdout",
     "output_type": "stream",
     "text": [
      "\u001b[1m341/561\u001b[0m \u001b[32m━━━━━━━━━━━━\u001b[0m\u001b[37m━━━━━━━━\u001b[0m \u001b[1m56s\u001b[0m 258ms/step - accuracy: 0.9506 - auc: 0.9058 - f1_score: 0.6160 - loss: 0.1679 - precision: 0.8050 - recall: 0.5574 "
     ]
    },
    {
     "name": "stderr",
     "output_type": "stream",
     "text": [
      "2025-04-22 21:14:25.509662: W tensorflow/core/lib/png/png_io.cc:92] PNG warning: iCCP: profile 'ICC Profile': 'GRAY': Gray color space not permitted on RGB PNG\n"
     ]
    },
    {
     "name": "stdout",
     "output_type": "stream",
     "text": [
      "\u001b[1m561/561\u001b[0m \u001b[32m━━━━━━━━━━━━━━━━━━━━\u001b[0m\u001b[37m\u001b[0m \u001b[1m0s\u001b[0m 243ms/step - accuracy: 0.9508 - auc: 0.9065 - f1_score: 0.6187 - loss: 0.1673 - precision: 0.8060 - recall: 0.5597 "
     ]
    },
    {
     "name": "stderr",
     "output_type": "stream",
     "text": [
      "2025-04-22 21:15:14.554113: W tensorflow/core/kernels/data/prefetch_autotuner.cc:52] Prefetch autotuner tried to allocate 77078016 bytes after encountering the first element of size 77078016 bytes.This already causes the autotune ram budget to be exceeded. To stay within the ram budget, either increase the ram budget or reduce element size\n",
      "2025-04-22 21:15:17.244541: I tensorflow/core/kernels/data/shuffle_dataset_op.cc:452] ShuffleDatasetV3:10: Filling up shuffle buffer (this may take a while): 7706 of 25000\n",
      "2025-04-22 21:15:27.256438: I tensorflow/core/kernels/data/shuffle_dataset_op.cc:452] ShuffleDatasetV3:10: Filling up shuffle buffer (this may take a while): 12058 of 25000\n"
     ]
    },
    {
     "name": "stdout",
     "output_type": "stream",
     "text": [
      "\n",
      "Epoch 35: ReduceLROnPlateau reducing learning rate to 6.24999984211172e-06.\n"
     ]
    },
    {
     "name": "stderr",
     "output_type": "stream",
     "text": [
      "2025-04-22 21:15:42 - INFO - \n",
      "=== Epoch 35 Summary ===\n",
      "2025-04-22 21:15:42 - INFO - Time: 164.44s\n",
      "2025-04-22 21:15:42 - INFO - Training   - accuracy: 0.9512 - auc: 0.9080 - f1_score: 0.6236 - loss: 0.1659 - precision: 0.8075 - recall: 0.5640 - learning_rate: 0.0000\n",
      "2025-04-22 21:15:42 - INFO - Validation - accuracy: 0.9210 - auc: 0.7409 - f1_score: 0.4157 - loss: 0.2797 - precision: 0.5492 - recall: 0.4011\n",
      "2025-04-22 21:15:42 - INFO - ==================================================\n",
      "\n"
     ]
    },
    {
     "name": "stdout",
     "output_type": "stream",
     "text": [
      "\u001b[1m561/561\u001b[0m \u001b[32m━━━━━━━━━━━━━━━━━━━━\u001b[0m\u001b[37m\u001b[0m \u001b[1m164s\u001b[0m 293ms/step - accuracy: 0.9508 - auc: 0.9065 - f1_score: 0.6187 - loss: 0.1673 - precision: 0.8060 - recall: 0.5597 - val_accuracy: 0.9210 - val_auc: 0.7409 - val_f1_score: 0.4157 - val_loss: 0.2797 - val_precision: 0.5492 - val_recall: 0.4011 - learning_rate: 1.2500e-05\n"
     ]
    },
    {
     "name": "stderr",
     "output_type": "stream",
     "text": [
      "2025-04-22 21:15:42 - INFO - \n",
      "=== Starting Epoch 36 ===\n",
      "\n"
     ]
    },
    {
     "name": "stdout",
     "output_type": "stream",
     "text": [
      "Epoch 36/100\n",
      "\u001b[1m 25/561\u001b[0m \u001b[37m━━━━━━━━━━━━━━━━━━━━\u001b[0m \u001b[1m1:52\u001b[0m 209ms/step - accuracy: 0.9499 - auc: 0.9059 - f1_score: 0.6153 - loss: 0.1706 - precision: 0.8092 - recall: 0.5548"
     ]
    },
    {
     "name": "stderr",
     "output_type": "stream",
     "text": [
      "2025-04-22 21:15:47.240965: I tensorflow/core/kernels/data/shuffle_dataset_op.cc:452] ShuffleDatasetV3:10: Filling up shuffle buffer (this may take a while): 24915 of 25000\n",
      "2025-04-22 21:15:47.325594: I tensorflow/core/kernels/data/shuffle_dataset_op.cc:482] Shuffle buffer filled.\n"
     ]
    },
    {
     "name": "stdout",
     "output_type": "stream",
     "text": [
      "\u001b[1m 27/561\u001b[0m \u001b[37m━━━━━━━━━━━━━━━━━━━━\u001b[0m \u001b[1m1:51\u001b[0m 209ms/step - accuracy: 0.9499 - auc: 0.9061 - f1_score: 0.6152 - loss: 0.1706 - precision: 0.8086 - recall: 0.5547"
     ]
    },
    {
     "name": "stderr",
     "output_type": "stream",
     "text": [
      "2025-04-22 21:15:47.766755: W tensorflow/core/kernels/data/prefetch_autotuner.cc:52] Prefetch autotuner tried to allocate 77078016 bytes after encountering the first element of size 77078016 bytes.This already causes the autotune ram budget to be exceeded. To stay within the ram budget, either increase the ram budget or reduce element size\n"
     ]
    },
    {
     "name": "stdout",
     "output_type": "stream",
     "text": [
      "\u001b[1m342/561\u001b[0m \u001b[32m━━━━━━━━━━━━\u001b[0m\u001b[37m━━━━━━━━\u001b[0m \u001b[1m55s\u001b[0m 255ms/step - accuracy: 0.9518 - auc: 0.9120 - f1_score: 0.6326 - loss: 0.1644 - precision: 0.8145 - recall: 0.5717 "
     ]
    },
    {
     "name": "stderr",
     "output_type": "stream",
     "text": [
      "2025-04-22 21:17:09.148615: W tensorflow/core/lib/png/png_io.cc:92] PNG warning: iCCP: profile 'ICC Profile': 'GRAY': Gray color space not permitted on RGB PNG\n"
     ]
    },
    {
     "name": "stdout",
     "output_type": "stream",
     "text": [
      "\u001b[1m561/561\u001b[0m \u001b[32m━━━━━━━━━━━━━━━━━━━━\u001b[0m\u001b[37m\u001b[0m \u001b[1m0s\u001b[0m 241ms/step - accuracy: 0.9524 - auc: 0.9130 - f1_score: 0.6367 - loss: 0.1631 - precision: 0.8166 - recall: 0.5759 "
     ]
    },
    {
     "name": "stderr",
     "output_type": "stream",
     "text": [
      "2025-04-22 21:17:57.818425: W tensorflow/core/kernels/data/prefetch_autotuner.cc:52] Prefetch autotuner tried to allocate 127518464 bytes after encountering the first element of size 127518464 bytes.This already causes the autotune ram budget to be exceeded. To stay within the ram budget, either increase the ram budget or reduce element size\n",
      "2025-04-22 21:17:57.818471: W tensorflow/core/kernels/data/prefetch_autotuner.cc:52] Prefetch autotuner tried to allocate 127518464 bytes after encountering the first element of size 127518464 bytes.This already causes the autotune ram budget to be exceeded. To stay within the ram budget, either increase the ram budget or reduce element size\n",
      "2025-04-22 21:18:00.818725: I tensorflow/core/kernels/data/shuffle_dataset_op.cc:452] ShuffleDatasetV3:10: Filling up shuffle buffer (this may take a while): 8030 of 25000\n",
      "2025-04-22 21:18:20.823652: I tensorflow/core/kernels/data/shuffle_dataset_op.cc:452] ShuffleDatasetV3:10: Filling up shuffle buffer (this may take a while): 17556 of 25000\n",
      "2025-04-22 21:18:24 - INFO - \n",
      "=== Epoch 36 Summary ===\n",
      "2025-04-22 21:18:24 - INFO - Time: 162.78s\n",
      "2025-04-22 21:18:24 - INFO - Training   - accuracy: 0.9534 - auc: 0.9155 - f1_score: 0.6443 - loss: 0.1606 - precision: 0.8209 - recall: 0.5833 - learning_rate: 0.0000\n",
      "2025-04-22 21:18:24 - INFO - Validation - accuracy: 0.9163 - auc: 0.7486 - f1_score: 0.4121 - loss: 0.2750 - precision: 0.5116 - recall: 0.3720\n",
      "2025-04-22 21:18:24 - INFO - ==================================================\n",
      "\n"
     ]
    },
    {
     "name": "stdout",
     "output_type": "stream",
     "text": [
      "\u001b[1m561/561\u001b[0m \u001b[32m━━━━━━━━━━━━━━━━━━━━\u001b[0m\u001b[37m\u001b[0m \u001b[1m163s\u001b[0m 290ms/step - accuracy: 0.9524 - auc: 0.9130 - f1_score: 0.6368 - loss: 0.1631 - precision: 0.8167 - recall: 0.5759 - val_accuracy: 0.9163 - val_auc: 0.7486 - val_f1_score: 0.4121 - val_loss: 0.2750 - val_precision: 0.5116 - val_recall: 0.3720 - learning_rate: 6.2500e-06\n"
     ]
    },
    {
     "name": "stderr",
     "output_type": "stream",
     "text": [
      "2025-04-22 21:18:24 - INFO - \n",
      "=== Starting Epoch 37 ===\n",
      "\n"
     ]
    },
    {
     "name": "stdout",
     "output_type": "stream",
     "text": [
      "Epoch 37/100\n",
      "\u001b[1m 25/561\u001b[0m \u001b[37m━━━━━━━━━━━━━━━━━━━━\u001b[0m \u001b[1m1:51\u001b[0m 209ms/step - accuracy: 0.9569 - auc: 0.9235 - f1_score: 0.6713 - loss: 0.1507 - precision: 0.8404 - recall: 0.6085"
     ]
    },
    {
     "name": "stderr",
     "output_type": "stream",
     "text": [
      "2025-04-22 21:18:30.094396: I tensorflow/core/kernels/data/shuffle_dataset_op.cc:482] Shuffle buffer filled.\n"
     ]
    },
    {
     "name": "stdout",
     "output_type": "stream",
     "text": [
      "\u001b[1m 28/561\u001b[0m \u001b[37m━━━━━━━━━━━━━━━━━━━━\u001b[0m \u001b[1m1:51\u001b[0m 208ms/step - accuracy: 0.9568 - auc: 0.9250 - f1_score: 0.6707 - loss: 0.1508 - precision: 0.8393 - recall: 0.6081"
     ]
    },
    {
     "name": "stderr",
     "output_type": "stream",
     "text": [
      "2025-04-22 21:18:30.758889: W tensorflow/core/kernels/data/prefetch_autotuner.cc:52] Prefetch autotuner tried to allocate 91475456 bytes after encountering the first element of size 91475456 bytes.This already causes the autotune ram budget to be exceeded. To stay within the ram budget, either increase the ram budget or reduce element size\n"
     ]
    },
    {
     "name": "stdout",
     "output_type": "stream",
     "text": [
      "\u001b[1m343/561\u001b[0m \u001b[32m━━━━━━━━━━━━\u001b[0m\u001b[37m━━━━━━━━\u001b[0m \u001b[1m54s\u001b[0m 249ms/step - accuracy: 0.9552 - auc: 0.9216 - f1_score: 0.6604 - loss: 0.1561 - precision: 0.8287 - recall: 0.6008 "
     ]
    },
    {
     "name": "stderr",
     "output_type": "stream",
     "text": [
      "2025-04-22 21:19:50.347806: W tensorflow/core/lib/png/png_io.cc:92] PNG warning: iCCP: profile 'ICC Profile': 'GRAY': Gray color space not permitted on RGB PNG\n"
     ]
    },
    {
     "name": "stdout",
     "output_type": "stream",
     "text": [
      "\u001b[1m561/561\u001b[0m \u001b[32m━━━━━━━━━━━━━━━━━━━━\u001b[0m\u001b[37m\u001b[0m \u001b[1m0s\u001b[0m 238ms/step - accuracy: 0.9552 - auc: 0.9207 - f1_score: 0.6602 - loss: 0.1562 - precision: 0.8286 - recall: 0.6002 "
     ]
    },
    {
     "name": "stderr",
     "output_type": "stream",
     "text": [
      "2025-04-22 21:20:38.870631: W tensorflow/core/kernels/data/prefetch_autotuner.cc:52] Prefetch autotuner tried to allocate 127518464 bytes after encountering the first element of size 127518464 bytes.This already causes the autotune ram budget to be exceeded. To stay within the ram budget, either increase the ram budget or reduce element size\n",
      "2025-04-22 21:20:38.870682: W tensorflow/core/kernels/data/prefetch_autotuner.cc:52] Prefetch autotuner tried to allocate 127518464 bytes after encountering the first element of size 127518464 bytes.This already causes the autotune ram budget to be exceeded. To stay within the ram budget, either increase the ram budget or reduce element size\n",
      "2025-04-22 21:20:42.011441: I tensorflow/core/kernels/data/shuffle_dataset_op.cc:452] ShuffleDatasetV3:10: Filling up shuffle buffer (this may take a while): 8562 of 25000\n",
      "2025-04-22 21:21:01.997086: I tensorflow/core/kernels/data/shuffle_dataset_op.cc:452] ShuffleDatasetV3:10: Filling up shuffle buffer (this may take a while): 18825 of 25000\n",
      "2025-04-22 21:21:07 - INFO - \n",
      "=== Epoch 37 Summary ===\n",
      "2025-04-22 21:21:07 - INFO - Time: 162.65s\n",
      "2025-04-22 21:21:07 - INFO - Training   - accuracy: 0.9551 - auc: 0.9204 - f1_score: 0.6604 - loss: 0.1561 - precision: 0.8284 - recall: 0.6000 - learning_rate: 0.0000\n",
      "2025-04-22 21:21:07 - INFO - Validation - accuracy: 0.9149 - auc: 0.7343 - f1_score: 0.3973 - loss: 0.2876 - precision: 0.5003 - recall: 0.3618\n",
      "2025-04-22 21:21:07 - INFO - ==================================================\n",
      "\n"
     ]
    },
    {
     "name": "stdout",
     "output_type": "stream",
     "text": [
      "\u001b[1m561/561\u001b[0m \u001b[32m━━━━━━━━━━━━━━━━━━━━\u001b[0m\u001b[37m\u001b[0m \u001b[1m163s\u001b[0m 290ms/step - accuracy: 0.9552 - auc: 0.9207 - f1_score: 0.6602 - loss: 0.1562 - precision: 0.8286 - recall: 0.6002 - val_accuracy: 0.9149 - val_auc: 0.7343 - val_f1_score: 0.3973 - val_loss: 0.2876 - val_precision: 0.5003 - val_recall: 0.3618 - learning_rate: 6.2500e-06\n"
     ]
    },
    {
     "name": "stderr",
     "output_type": "stream",
     "text": [
      "2025-04-22 21:21:07 - INFO - \n",
      "=== Starting Epoch 38 ===\n",
      "\n"
     ]
    },
    {
     "name": "stdout",
     "output_type": "stream",
     "text": [
      "Epoch 38/100\n",
      "\u001b[1m 14/561\u001b[0m \u001b[37m━━━━━━━━━━━━━━━━━━━━\u001b[0m \u001b[1m1:52\u001b[0m 206ms/step - accuracy: 0.9542 - auc: 0.9136 - f1_score: 0.6506 - loss: 0.1567 - precision: 0.8251 - recall: 0.5882"
     ]
    },
    {
     "name": "stderr",
     "output_type": "stream",
     "text": [
      "2025-04-22 21:21:10.369888: I tensorflow/core/kernels/data/shuffle_dataset_op.cc:482] Shuffle buffer filled.\n"
     ]
    },
    {
     "name": "stdout",
     "output_type": "stream",
     "text": [
      "\u001b[1m 16/561\u001b[0m \u001b[37m━━━━━━━━━━━━━━━━━━━━\u001b[0m \u001b[1m1:52\u001b[0m 206ms/step - accuracy: 0.9543 - auc: 0.9150 - f1_score: 0.6508 - loss: 0.1569 - precision: 0.8263 - recall: 0.5886"
     ]
    },
    {
     "name": "stderr",
     "output_type": "stream",
     "text": [
      "2025-04-22 21:21:10.891773: W tensorflow/core/kernels/data/prefetch_autotuner.cc:52] Prefetch autotuner tried to allocate 77078016 bytes after encountering the first element of size 77078016 bytes.This already causes the autotune ram budget to be exceeded. To stay within the ram budget, either increase the ram budget or reduce element size\n"
     ]
    },
    {
     "name": "stdout",
     "output_type": "stream",
     "text": [
      "\u001b[1m344/561\u001b[0m \u001b[32m━━━━━━━━━━━━\u001b[0m\u001b[37m━━━━━━━━\u001b[0m \u001b[1m53s\u001b[0m 249ms/step - accuracy: 0.9552 - auc: 0.9198 - f1_score: 0.6618 - loss: 0.1564 - precision: 0.8294 - recall: 0.6005 "
     ]
    },
    {
     "name": "stderr",
     "output_type": "stream",
     "text": [
      "2025-04-22 21:22:33.146754: W tensorflow/core/lib/png/png_io.cc:92] PNG warning: iCCP: profile 'ICC Profile': 'GRAY': Gray color space not permitted on RGB PNG\n"
     ]
    },
    {
     "name": "stdout",
     "output_type": "stream",
     "text": [
      "\u001b[1m561/561\u001b[0m \u001b[32m━━━━━━━━━━━━━━━━━━━━\u001b[0m\u001b[37m\u001b[0m \u001b[1m0s\u001b[0m 238ms/step - accuracy: 0.9554 - auc: 0.9211 - f1_score: 0.6635 - loss: 0.1557 - precision: 0.8298 - recall: 0.6026 "
     ]
    },
    {
     "name": "stderr",
     "output_type": "stream",
     "text": [
      "2025-04-22 21:23:21.266040: W tensorflow/core/kernels/data/prefetch_autotuner.cc:52] Prefetch autotuner tried to allocate 127518464 bytes after encountering the first element of size 127518464 bytes.This already causes the autotune ram budget to be exceeded. To stay within the ram budget, either increase the ram budget or reduce element size\n",
      "2025-04-22 21:23:24.781631: I tensorflow/core/kernels/data/shuffle_dataset_op.cc:452] ShuffleDatasetV3:10: Filling up shuffle buffer (this may take a while): 8760 of 25000\n",
      "2025-04-22 21:23:44.779521: I tensorflow/core/kernels/data/shuffle_dataset_op.cc:452] ShuffleDatasetV3:10: Filling up shuffle buffer (this may take a while): 22609 of 25000\n",
      "2025-04-22 21:23:48.102632: I tensorflow/core/kernels/data/shuffle_dataset_op.cc:482] Shuffle buffer filled.\n",
      "2025-04-22 21:23:48.269926: W tensorflow/core/kernels/data/prefetch_autotuner.cc:52] Prefetch autotuner tried to allocate 127518464 bytes after encountering the first element of size 127518464 bytes.This already causes the autotune ram budget to be exceeded. To stay within the ram budget, either increase the ram budget or reduce element size\n"
     ]
    },
    {
     "name": "stdout",
     "output_type": "stream",
     "text": [
      "\n",
      "Epoch 38: ReduceLROnPlateau reducing learning rate to 3.12499992105586e-06.\n"
     ]
    },
    {
     "name": "stderr",
     "output_type": "stream",
     "text": [
      "2025-04-22 21:23:57 - INFO - \n",
      "=== Epoch 38 Summary ===\n",
      "2025-04-22 21:23:57 - INFO - Time: 169.81s\n",
      "2025-04-22 21:23:57 - INFO - Training   - accuracy: 0.9557 - auc: 0.9234 - f1_score: 0.6671 - loss: 0.1542 - precision: 0.8305 - recall: 0.6067 - learning_rate: 0.0000\n",
      "2025-04-22 21:23:57 - INFO - Validation - accuracy: 0.9207 - auc: 0.7308 - f1_score: 0.4075 - loss: 0.2990 - precision: 0.5491 - recall: 0.3878\n",
      "2025-04-22 21:23:57 - INFO - ==================================================\n",
      "\n"
     ]
    },
    {
     "name": "stdout",
     "output_type": "stream",
     "text": [
      "\u001b[1m561/561\u001b[0m \u001b[32m━━━━━━━━━━━━━━━━━━━━\u001b[0m\u001b[37m\u001b[0m \u001b[1m170s\u001b[0m 303ms/step - accuracy: 0.9554 - auc: 0.9211 - f1_score: 0.6635 - loss: 0.1557 - precision: 0.8298 - recall: 0.6026 - val_accuracy: 0.9207 - val_auc: 0.7308 - val_f1_score: 0.4075 - val_loss: 0.2990 - val_precision: 0.5491 - val_recall: 0.3878 - learning_rate: 6.2500e-06\n"
     ]
    },
    {
     "name": "stderr",
     "output_type": "stream",
     "text": [
      "2025-04-22 21:23:57 - INFO - \n",
      "=== Starting Epoch 39 ===\n",
      "\n"
     ]
    },
    {
     "name": "stdout",
     "output_type": "stream",
     "text": [
      "Epoch 39/100\n",
      "\u001b[1m345/561\u001b[0m \u001b[32m━━━━━━━━━━━━\u001b[0m\u001b[37m━━━━━━━━\u001b[0m \u001b[1m51s\u001b[0m 238ms/step - accuracy: 0.9567 - auc: 0.9240 - f1_score: 0.6775 - loss: 0.1520 - precision: 0.8379 - recall: 0.6152 "
     ]
    },
    {
     "name": "stderr",
     "output_type": "stream",
     "text": [
      "2025-04-22 21:25:19.348372: W tensorflow/core/lib/png/png_io.cc:92] PNG warning: iCCP: profile 'ICC Profile': 'GRAY': Gray color space not permitted on RGB PNG\n"
     ]
    },
    {
     "name": "stdout",
     "output_type": "stream",
     "text": [
      "\u001b[1m561/561\u001b[0m \u001b[32m━━━━━━━━━━━━━━━━━━━━\u001b[0m\u001b[37m\u001b[0m \u001b[1m0s\u001b[0m 231ms/step - accuracy: 0.9569 - auc: 0.9249 - f1_score: 0.6790 - loss: 0.1515 - precision: 0.8385 - recall: 0.6172 "
     ]
    },
    {
     "name": "stderr",
     "output_type": "stream",
     "text": [
      "2025-04-22 21:26:07.420868: W tensorflow/core/kernels/data/prefetch_autotuner.cc:52] Prefetch autotuner tried to allocate 77078016 bytes after encountering the first element of size 77078016 bytes.This already causes the autotune ram budget to be exceeded. To stay within the ram budget, either increase the ram budget or reduce element size\n",
      "2025-04-22 21:26:11.040636: I tensorflow/core/kernels/data/shuffle_dataset_op.cc:452] ShuffleDatasetV3:10: Filling up shuffle buffer (this may take a while): 8520 of 25000\n",
      "2025-04-22 21:26:31.039131: I tensorflow/core/kernels/data/shuffle_dataset_op.cc:452] ShuffleDatasetV3:10: Filling up shuffle buffer (this may take a while): 19288 of 25000\n",
      "2025-04-22 21:26:34 - INFO - \n",
      "=== Epoch 39 Summary ===\n",
      "2025-04-22 21:26:34 - INFO - Time: 157.45s\n",
      "2025-04-22 21:26:34 - INFO - Training   - accuracy: 0.9576 - auc: 0.9274 - f1_score: 0.6836 - loss: 0.1497 - precision: 0.8410 - recall: 0.6229 - learning_rate: 0.0000\n",
      "2025-04-22 21:26:34 - INFO - Validation - accuracy: 0.9205 - auc: 0.7252 - f1_score: 0.4091 - loss: 0.3038 - precision: 0.5468 - recall: 0.3855\n",
      "2025-04-22 21:26:34 - INFO - ==================================================\n",
      "\n"
     ]
    },
    {
     "name": "stdout",
     "output_type": "stream",
     "text": [
      "\u001b[1m561/561\u001b[0m \u001b[32m━━━━━━━━━━━━━━━━━━━━\u001b[0m\u001b[37m\u001b[0m \u001b[1m157s\u001b[0m 281ms/step - accuracy: 0.9569 - auc: 0.9249 - f1_score: 0.6790 - loss: 0.1515 - precision: 0.8385 - recall: 0.6173 - val_accuracy: 0.9205 - val_auc: 0.7252 - val_f1_score: 0.4091 - val_loss: 0.3038 - val_precision: 0.5468 - val_recall: 0.3855 - learning_rate: 3.1250e-06\n"
     ]
    },
    {
     "name": "stderr",
     "output_type": "stream",
     "text": [
      "2025-04-22 21:26:34 - INFO - \n",
      "=== Starting Epoch 40 ===\n",
      "\n"
     ]
    },
    {
     "name": "stdout",
     "output_type": "stream",
     "text": [
      "Epoch 40/100\n",
      "\u001b[1m 15/561\u001b[0m \u001b[37m━━━━━━━━━━━━━━━━━━━━\u001b[0m \u001b[1m1:54\u001b[0m 210ms/step - accuracy: 0.9606 - auc: 0.9249 - f1_score: 0.7083 - loss: 0.1442 - precision: 0.8480 - recall: 0.6491"
     ]
    },
    {
     "name": "stderr",
     "output_type": "stream",
     "text": [
      "2025-04-22 21:26:37.994906: I tensorflow/core/kernels/data/shuffle_dataset_op.cc:482] Shuffle buffer filled.\n"
     ]
    },
    {
     "name": "stdout",
     "output_type": "stream",
     "text": [
      "\u001b[1m 17/561\u001b[0m \u001b[37m━━━━━━━━━━━━━━━━━━━━\u001b[0m \u001b[1m1:54\u001b[0m 210ms/step - accuracy: 0.9604 - auc: 0.9262 - f1_score: 0.7065 - loss: 0.1445 - precision: 0.8474 - recall: 0.6476"
     ]
    },
    {
     "name": "stderr",
     "output_type": "stream",
     "text": [
      "2025-04-22 21:26:38.454748: W tensorflow/core/kernels/data/prefetch_autotuner.cc:52] Prefetch autotuner tried to allocate 77078016 bytes after encountering the first element of size 77078016 bytes.This already causes the autotune ram budget to be exceeded. To stay within the ram budget, either increase the ram budget or reduce element size\n"
     ]
    },
    {
     "name": "stdout",
     "output_type": "stream",
     "text": [
      "\u001b[1m346/561\u001b[0m \u001b[32m━━━━━━━━━━━━\u001b[0m\u001b[37m━━━━━━━━\u001b[0m \u001b[1m54s\u001b[0m 253ms/step - accuracy: 0.9579 - auc: 0.9266 - f1_score: 0.6880 - loss: 0.1497 - precision: 0.8413 - recall: 0.6271 "
     ]
    },
    {
     "name": "stderr",
     "output_type": "stream",
     "text": [
      "2025-04-22 21:28:02.365092: W tensorflow/core/lib/png/png_io.cc:92] PNG warning: iCCP: profile 'ICC Profile': 'GRAY': Gray color space not permitted on RGB PNG\n"
     ]
    },
    {
     "name": "stdout",
     "output_type": "stream",
     "text": [
      "\u001b[1m561/561\u001b[0m \u001b[32m━━━━━━━━━━━━━━━━━━━━\u001b[0m\u001b[37m\u001b[0m \u001b[1m0s\u001b[0m 240ms/step - accuracy: 0.9580 - auc: 0.9276 - f1_score: 0.6884 - loss: 0.1494 - precision: 0.8417 - recall: 0.6273 "
     ]
    },
    {
     "name": "stderr",
     "output_type": "stream",
     "text": [
      "2025-04-22 21:28:50.272374: W tensorflow/core/kernels/data/prefetch_autotuner.cc:52] Prefetch autotuner tried to allocate 77078016 bytes after encountering the first element of size 77078016 bytes.This already causes the autotune ram budget to be exceeded. To stay within the ram budget, either increase the ram budget or reduce element size\n",
      "2025-04-22 21:28:54.029971: I tensorflow/core/kernels/data/shuffle_dataset_op.cc:452] ShuffleDatasetV3:10: Filling up shuffle buffer (this may take a while): 8533 of 25000\n",
      "2025-04-22 21:29:14.023656: I tensorflow/core/kernels/data/shuffle_dataset_op.cc:452] ShuffleDatasetV3:10: Filling up shuffle buffer (this may take a while): 19369 of 25000\n",
      "2025-04-22 21:29:17 - INFO - \n",
      "=== Epoch 40 Summary ===\n",
      "2025-04-22 21:29:17 - INFO - Time: 163.02s\n",
      "2025-04-22 21:29:17 - INFO - Training   - accuracy: 0.9582 - auc: 0.9303 - f1_score: 0.6901 - loss: 0.1485 - precision: 0.8433 - recall: 0.6286 - learning_rate: 0.0000\n",
      "2025-04-22 21:29:17 - INFO - Validation - accuracy: 0.9195 - auc: 0.7227 - f1_score: 0.4100 - loss: 0.3042 - precision: 0.5380 - recall: 0.3860\n",
      "2025-04-22 21:29:17 - INFO - ==================================================\n",
      "\n"
     ]
    },
    {
     "name": "stdout",
     "output_type": "stream",
     "text": [
      "\u001b[1m561/561\u001b[0m \u001b[32m━━━━━━━━━━━━━━━━━━━━\u001b[0m\u001b[37m\u001b[0m \u001b[1m163s\u001b[0m 291ms/step - accuracy: 0.9580 - auc: 0.9276 - f1_score: 0.6884 - loss: 0.1494 - precision: 0.8417 - recall: 0.6273 - val_accuracy: 0.9195 - val_auc: 0.7227 - val_f1_score: 0.4100 - val_loss: 0.3042 - val_precision: 0.5380 - val_recall: 0.3860 - learning_rate: 3.1250e-06\n"
     ]
    },
    {
     "name": "stderr",
     "output_type": "stream",
     "text": [
      "2025-04-22 21:29:17 - INFO - \n",
      "=== Starting Epoch 41 ===\n",
      "\n"
     ]
    },
    {
     "name": "stdout",
     "output_type": "stream",
     "text": [
      "Epoch 41/100\n",
      "\u001b[1m 14/561\u001b[0m \u001b[37m━━━━━━━━━━━━━━━━━━━━\u001b[0m \u001b[1m1:52\u001b[0m 206ms/step - accuracy: 0.9591 - auc: 0.9373 - f1_score: 0.6923 - loss: 0.1427 - precision: 0.8466 - recall: 0.6289"
     ]
    },
    {
     "name": "stderr",
     "output_type": "stream",
     "text": [
      "2025-04-22 21:29:20.780244: I tensorflow/core/kernels/data/shuffle_dataset_op.cc:482] Shuffle buffer filled.\n"
     ]
    },
    {
     "name": "stdout",
     "output_type": "stream",
     "text": [
      "\u001b[1m 17/561\u001b[0m \u001b[37m━━━━━━━━━━━━━━━━━━━━\u001b[0m \u001b[1m1:51\u001b[0m 206ms/step - accuracy: 0.9591 - auc: 0.9354 - f1_score: 0.6925 - loss: 0.1433 - precision: 0.8470 - recall: 0.6293"
     ]
    },
    {
     "name": "stderr",
     "output_type": "stream",
     "text": [
      "2025-04-22 21:29:21.400715: W tensorflow/core/kernels/data/prefetch_autotuner.cc:52] Prefetch autotuner tried to allocate 77078016 bytes after encountering the first element of size 77078016 bytes.This already causes the autotune ram budget to be exceeded. To stay within the ram budget, either increase the ram budget or reduce element size\n"
     ]
    },
    {
     "name": "stdout",
     "output_type": "stream",
     "text": [
      "\u001b[1m347/561\u001b[0m \u001b[32m━━━━━━━━━━━━\u001b[0m\u001b[37m━━━━━━━━\u001b[0m \u001b[1m53s\u001b[0m 248ms/step - accuracy: 0.9583 - auc: 0.9296 - f1_score: 0.6903 - loss: 0.1472 - precision: 0.8431 - recall: 0.6298 "
     ]
    },
    {
     "name": "stderr",
     "output_type": "stream",
     "text": [
      "2025-04-22 21:30:44.045867: W tensorflow/core/lib/png/png_io.cc:92] PNG warning: iCCP: profile 'ICC Profile': 'GRAY': Gray color space not permitted on RGB PNG\n"
     ]
    },
    {
     "name": "stdout",
     "output_type": "stream",
     "text": [
      "\u001b[1m561/561\u001b[0m \u001b[32m━━━━━━━━━━━━━━━━━━━━\u001b[0m\u001b[37m\u001b[0m \u001b[1m0s\u001b[0m 238ms/step - accuracy: 0.9584 - auc: 0.9299 - f1_score: 0.6917 - loss: 0.1472 - precision: 0.8434 - recall: 0.6313 "
     ]
    },
    {
     "name": "stderr",
     "output_type": "stream",
     "text": [
      "2025-04-22 21:31:31.700524: W tensorflow/core/kernels/data/prefetch_autotuner.cc:52] Prefetch autotuner tried to allocate 77078016 bytes after encountering the first element of size 77078016 bytes.This already causes the autotune ram budget to be exceeded. To stay within the ram budget, either increase the ram budget or reduce element size\n",
      "2025-04-22 21:31:35.809991: I tensorflow/core/kernels/data/shuffle_dataset_op.cc:452] ShuffleDatasetV3:10: Filling up shuffle buffer (this may take a while): 8341 of 25000\n",
      "2025-04-22 21:31:45.811999: I tensorflow/core/kernels/data/shuffle_dataset_op.cc:452] ShuffleDatasetV3:10: Filling up shuffle buffer (this may take a while): 13941 of 25000\n"
     ]
    },
    {
     "name": "stdout",
     "output_type": "stream",
     "text": [
      "\n",
      "Epoch 41: ReduceLROnPlateau reducing learning rate to 1.56249996052793e-06.\n"
     ]
    },
    {
     "name": "stderr",
     "output_type": "stream",
     "text": [
      "2025-04-22 21:31:59 - INFO - \n",
      "=== Epoch 41 Summary ===\n",
      "2025-04-22 21:31:59 - INFO - Time: 161.75s\n",
      "2025-04-22 21:31:59 - INFO - Training   - accuracy: 0.9586 - auc: 0.9308 - f1_score: 0.6943 - loss: 0.1469 - precision: 0.8439 - recall: 0.6341 - learning_rate: 0.0000\n",
      "2025-04-22 21:31:59 - INFO - Validation - accuracy: 0.9189 - auc: 0.7244 - f1_score: 0.4166 - loss: 0.3138 - precision: 0.5320 - recall: 0.3927\n",
      "2025-04-22 21:31:59 - INFO - ==================================================\n",
      "\n"
     ]
    },
    {
     "name": "stdout",
     "output_type": "stream",
     "text": [
      "\u001b[1m561/561\u001b[0m \u001b[32m━━━━━━━━━━━━━━━━━━━━\u001b[0m\u001b[37m\u001b[0m \u001b[1m162s\u001b[0m 288ms/step - accuracy: 0.9584 - auc: 0.9299 - f1_score: 0.6917 - loss: 0.1472 - precision: 0.8434 - recall: 0.6313 - val_accuracy: 0.9189 - val_auc: 0.7244 - val_f1_score: 0.4166 - val_loss: 0.3138 - val_precision: 0.5320 - val_recall: 0.3927 - learning_rate: 3.1250e-06\n"
     ]
    },
    {
     "name": "stderr",
     "output_type": "stream",
     "text": [
      "2025-04-22 21:31:59 - INFO - \n",
      "=== Starting Epoch 42 ===\n",
      "\n"
     ]
    },
    {
     "name": "stdout",
     "output_type": "stream",
     "text": [
      "Epoch 42/100\n",
      "\u001b[1m 13/561\u001b[0m \u001b[37m━━━━━━━━━━━━━━━━━━━━\u001b[0m \u001b[1m1:53\u001b[0m 207ms/step - accuracy: 0.9593 - auc: 0.9343 - f1_score: 0.6981 - loss: 0.1445 - precision: 0.8558 - recall: 0.6299"
     ]
    },
    {
     "name": "stderr",
     "output_type": "stream",
     "text": [
      "2025-04-22 21:32:02.253537: I tensorflow/core/kernels/data/shuffle_dataset_op.cc:482] Shuffle buffer filled.\n"
     ]
    },
    {
     "name": "stdout",
     "output_type": "stream",
     "text": [
      "\u001b[1m 15/561\u001b[0m \u001b[37m━━━━━━━━━━━━━━━━━━━━\u001b[0m \u001b[1m1:52\u001b[0m 206ms/step - accuracy: 0.9596 - auc: 0.9346 - f1_score: 0.6997 - loss: 0.1439 - precision: 0.8564 - recall: 0.6321"
     ]
    },
    {
     "name": "stderr",
     "output_type": "stream",
     "text": [
      "2025-04-22 21:32:02.763758: W tensorflow/core/kernels/data/prefetch_autotuner.cc:52] Prefetch autotuner tried to allocate 127518464 bytes after encountering the first element of size 127518464 bytes.This already causes the autotune ram budget to be exceeded. To stay within the ram budget, either increase the ram budget or reduce element size\n"
     ]
    },
    {
     "name": "stdout",
     "output_type": "stream",
     "text": [
      "\u001b[1m348/561\u001b[0m \u001b[32m━━━━━━━━━━━━\u001b[0m\u001b[37m━━━━━━━━\u001b[0m \u001b[1m52s\u001b[0m 248ms/step - accuracy: 0.9592 - auc: 0.9321 - f1_score: 0.6980 - loss: 0.1459 - precision: 0.8493 - recall: 0.6367 "
     ]
    },
    {
     "name": "stderr",
     "output_type": "stream",
     "text": [
      "2025-04-22 21:33:26.080530: W tensorflow/core/lib/png/png_io.cc:92] PNG warning: iCCP: profile 'ICC Profile': 'GRAY': Gray color space not permitted on RGB PNG\n"
     ]
    },
    {
     "name": "stdout",
     "output_type": "stream",
     "text": [
      "\u001b[1m561/561\u001b[0m \u001b[32m━━━━━━━━━━━━━━━━━━━━\u001b[0m\u001b[37m\u001b[0m \u001b[1m0s\u001b[0m 238ms/step - accuracy: 0.9594 - auc: 0.9324 - f1_score: 0.6996 - loss: 0.1455 - precision: 0.8496 - recall: 0.6386 "
     ]
    },
    {
     "name": "stderr",
     "output_type": "stream",
     "text": [
      "2025-04-22 21:34:13.443170: W tensorflow/core/kernels/data/prefetch_autotuner.cc:52] Prefetch autotuner tried to allocate 77078016 bytes after encountering the first element of size 77078016 bytes.This already causes the autotune ram budget to be exceeded. To stay within the ram budget, either increase the ram budget or reduce element size\n",
      "2025-04-22 21:34:17.804509: I tensorflow/core/kernels/data/shuffle_dataset_op.cc:452] ShuffleDatasetV3:10: Filling up shuffle buffer (this may take a while): 8371 of 25000\n",
      "2025-04-22 21:34:37.801503: I tensorflow/core/kernels/data/shuffle_dataset_op.cc:452] ShuffleDatasetV3:10: Filling up shuffle buffer (this may take a while): 19455 of 25000\n",
      "2025-04-22 21:34:40 - INFO - \n",
      "=== Epoch 42 Summary ===\n",
      "2025-04-22 21:34:40 - INFO - Time: 161.05s\n",
      "2025-04-22 21:34:40 - INFO - Training   - accuracy: 0.9597 - auc: 0.9339 - f1_score: 0.7034 - loss: 0.1446 - precision: 0.8502 - recall: 0.6430 - learning_rate: 0.0000\n",
      "2025-04-22 21:34:40 - INFO - Validation - accuracy: 0.9168 - auc: 0.7324 - f1_score: 0.4195 - loss: 0.3038 - precision: 0.5153 - recall: 0.3867\n",
      "2025-04-22 21:34:40 - INFO - ==================================================\n",
      "\n"
     ]
    },
    {
     "name": "stdout",
     "output_type": "stream",
     "text": [
      "\u001b[1m561/561\u001b[0m \u001b[32m━━━━━━━━━━━━━━━━━━━━\u001b[0m\u001b[37m\u001b[0m \u001b[1m161s\u001b[0m 287ms/step - accuracy: 0.9594 - auc: 0.9324 - f1_score: 0.6996 - loss: 0.1455 - precision: 0.8496 - recall: 0.6386 - val_accuracy: 0.9168 - val_auc: 0.7324 - val_f1_score: 0.4195 - val_loss: 0.3038 - val_precision: 0.5153 - val_recall: 0.3867 - learning_rate: 1.5625e-06\n"
     ]
    },
    {
     "name": "stderr",
     "output_type": "stream",
     "text": [
      "2025-04-22 21:34:40 - INFO - \n",
      "=== Starting Epoch 43 ===\n",
      "\n"
     ]
    },
    {
     "name": "stdout",
     "output_type": "stream",
     "text": [
      "Epoch 43/100\n",
      "\u001b[1m 16/561\u001b[0m \u001b[37m━━━━━━━━━━━━━━━━━━━━\u001b[0m \u001b[1m1:52\u001b[0m 206ms/step - accuracy: 0.9604 - auc: 0.9024 - f1_score: 0.7153 - loss: 0.1458 - precision: 0.8336 - recall: 0.6624"
     ]
    },
    {
     "name": "stderr",
     "output_type": "stream",
     "text": [
      "2025-04-22 21:34:44.023316: I tensorflow/core/kernels/data/shuffle_dataset_op.cc:482] Shuffle buffer filled.\n"
     ]
    },
    {
     "name": "stdout",
     "output_type": "stream",
     "text": [
      "\u001b[1m 18/561\u001b[0m \u001b[37m━━━━━━━━━━━━━━━━━━━━\u001b[0m \u001b[1m1:52\u001b[0m 207ms/step - accuracy: 0.9603 - auc: 0.9049 - f1_score: 0.7140 - loss: 0.1460 - precision: 0.8342 - recall: 0.6607"
     ]
    },
    {
     "name": "stderr",
     "output_type": "stream",
     "text": [
      "2025-04-22 21:34:44.448326: W tensorflow/core/kernels/data/prefetch_autotuner.cc:52] Prefetch autotuner tried to allocate 77078016 bytes after encountering the first element of size 77078016 bytes.This already causes the autotune ram budget to be exceeded. To stay within the ram budget, either increase the ram budget or reduce element size\n"
     ]
    },
    {
     "name": "stdout",
     "output_type": "stream",
     "text": [
      "\u001b[1m349/561\u001b[0m \u001b[32m━━━━━━━━━━━━\u001b[0m\u001b[37m━━━━━━━━\u001b[0m \u001b[1m53s\u001b[0m 251ms/step - accuracy: 0.9597 - auc: 0.9313 - f1_score: 0.7042 - loss: 0.1452 - precision: 0.8468 - recall: 0.6449 "
     ]
    },
    {
     "name": "stderr",
     "output_type": "stream",
     "text": [
      "2025-04-22 21:36:08.472226: W tensorflow/core/lib/png/png_io.cc:92] PNG warning: iCCP: profile 'ICC Profile': 'GRAY': Gray color space not permitted on RGB PNG\n"
     ]
    },
    {
     "name": "stdout",
     "output_type": "stream",
     "text": [
      "\u001b[1m561/561\u001b[0m \u001b[32m━━━━━━━━━━━━━━━━━━━━\u001b[0m\u001b[37m\u001b[0m \u001b[1m0s\u001b[0m 240ms/step - accuracy: 0.9597 - auc: 0.9324 - f1_score: 0.7044 - loss: 0.1449 - precision: 0.8481 - recall: 0.6447 "
     ]
    },
    {
     "name": "stderr",
     "output_type": "stream",
     "text": [
      "2025-04-22 21:36:55.573054: W tensorflow/core/kernels/data/prefetch_autotuner.cc:52] Prefetch autotuner tried to allocate 77078016 bytes after encountering the first element of size 77078016 bytes.This already causes the autotune ram budget to be exceeded. To stay within the ram budget, either increase the ram budget or reduce element size\n",
      "2025-04-22 21:37:00.164850: I tensorflow/core/kernels/data/shuffle_dataset_op.cc:452] ShuffleDatasetV3:10: Filling up shuffle buffer (this may take a while): 8377 of 25000\n",
      "2025-04-22 21:37:10.172646: I tensorflow/core/kernels/data/shuffle_dataset_op.cc:452] ShuffleDatasetV3:10: Filling up shuffle buffer (this may take a while): 13979 of 25000\n",
      "2025-04-22 21:37:22 - INFO - \n",
      "=== Epoch 43 Summary ===\n",
      "2025-04-22 21:37:22 - INFO - Time: 162.12s\n",
      "2025-04-22 21:37:22 - INFO - Training   - accuracy: 0.9600 - auc: 0.9339 - f1_score: 0.7058 - loss: 0.1439 - precision: 0.8510 - recall: 0.6455 - learning_rate: 0.0000\n",
      "2025-04-22 21:37:22 - INFO - Validation - accuracy: 0.9207 - auc: 0.7276 - f1_score: 0.4169 - loss: 0.3064 - precision: 0.5478 - recall: 0.3939\n",
      "2025-04-22 21:37:22 - INFO - ==================================================\n",
      "\n"
     ]
    },
    {
     "name": "stdout",
     "output_type": "stream",
     "text": [
      "\u001b[1m561/561\u001b[0m \u001b[32m━━━━━━━━━━━━━━━━━━━━\u001b[0m\u001b[37m\u001b[0m \u001b[1m162s\u001b[0m 289ms/step - accuracy: 0.9597 - auc: 0.9324 - f1_score: 0.7044 - loss: 0.1449 - precision: 0.8481 - recall: 0.6447 - val_accuracy: 0.9207 - val_auc: 0.7276 - val_f1_score: 0.4169 - val_loss: 0.3064 - val_precision: 0.5478 - val_recall: 0.3939 - learning_rate: 1.5625e-06\n"
     ]
    },
    {
     "name": "stderr",
     "output_type": "stream",
     "text": [
      "2025-04-22 21:37:22 - INFO - \n",
      "=== Starting Epoch 44 ===\n",
      "\n"
     ]
    },
    {
     "name": "stdout",
     "output_type": "stream",
     "text": [
      "Epoch 44/100\n",
      "\u001b[1m 16/561\u001b[0m \u001b[37m━━━━━━━━━━━━━━━━━━━━\u001b[0m \u001b[1m1:51\u001b[0m 205ms/step - accuracy: 0.9590 - auc: 0.9412 - f1_score: 0.6929 - loss: 0.1423 - precision: 0.8531 - recall: 0.6363"
     ]
    },
    {
     "name": "stderr",
     "output_type": "stream",
     "text": [
      "2025-04-22 21:37:26.059177: I tensorflow/core/kernels/data/shuffle_dataset_op.cc:482] Shuffle buffer filled.\n"
     ]
    },
    {
     "name": "stdout",
     "output_type": "stream",
     "text": [
      "\u001b[1m 19/561\u001b[0m \u001b[37m━━━━━━━━━━━━━━━━━━━━\u001b[0m \u001b[1m1:50\u001b[0m 205ms/step - accuracy: 0.9594 - auc: 0.9412 - f1_score: 0.6963 - loss: 0.1420 - precision: 0.8548 - recall: 0.6390"
     ]
    },
    {
     "name": "stderr",
     "output_type": "stream",
     "text": [
      "2025-04-22 21:37:26.750168: W tensorflow/core/kernels/data/prefetch_autotuner.cc:52] Prefetch autotuner tried to allocate 77078016 bytes after encountering the first element of size 77078016 bytes.This already causes the autotune ram budget to be exceeded. To stay within the ram budget, either increase the ram budget or reduce element size\n"
     ]
    },
    {
     "name": "stdout",
     "output_type": "stream",
     "text": [
      "\u001b[1m350/561\u001b[0m \u001b[32m━━━━━━━━━━━━\u001b[0m\u001b[37m━━━━━━━━\u001b[0m \u001b[1m52s\u001b[0m 247ms/step - accuracy: 0.9602 - auc: 0.9360 - f1_score: 0.7070 - loss: 0.1433 - precision: 0.8537 - recall: 0.6474 "
     ]
    },
    {
     "name": "stderr",
     "output_type": "stream",
     "text": [
      "2025-04-22 21:38:49.200898: W tensorflow/core/lib/png/png_io.cc:92] PNG warning: iCCP: profile 'ICC Profile': 'GRAY': Gray color space not permitted on RGB PNG\n"
     ]
    },
    {
     "name": "stdout",
     "output_type": "stream",
     "text": [
      "\u001b[1m561/561\u001b[0m \u001b[32m━━━━━━━━━━━━━━━━━━━━\u001b[0m\u001b[37m\u001b[0m \u001b[1m0s\u001b[0m 237ms/step - accuracy: 0.9603 - auc: 0.9357 - f1_score: 0.7083 - loss: 0.1430 - precision: 0.8537 - recall: 0.6487 "
     ]
    },
    {
     "name": "stderr",
     "output_type": "stream",
     "text": [
      "2025-04-22 21:39:36.216969: W tensorflow/core/kernels/data/prefetch_autotuner.cc:52] Prefetch autotuner tried to allocate 77078016 bytes after encountering the first element of size 77078016 bytes.This already causes the autotune ram budget to be exceeded. To stay within the ram budget, either increase the ram budget or reduce element size\n",
      "2025-04-22 21:39:40.911185: I tensorflow/core/kernels/data/shuffle_dataset_op.cc:452] ShuffleDatasetV3:10: Filling up shuffle buffer (this may take a while): 8510 of 25000\n",
      "2025-04-22 21:40:00.908718: I tensorflow/core/kernels/data/shuffle_dataset_op.cc:452] ShuffleDatasetV3:10: Filling up shuffle buffer (this may take a while): 19892 of 25000\n"
     ]
    },
    {
     "name": "stdout",
     "output_type": "stream",
     "text": [
      "\n",
      "Epoch 44: ReduceLROnPlateau reducing learning rate to 1e-06.\n"
     ]
    },
    {
     "name": "stderr",
     "output_type": "stream",
     "text": [
      "2025-04-22 21:40:04 - INFO - \n",
      "=== Epoch 44 Summary ===\n",
      "2025-04-22 21:40:04 - INFO - Time: 161.15s\n",
      "2025-04-22 21:40:04 - INFO - Training   - accuracy: 0.9606 - auc: 0.9359 - f1_score: 0.7106 - loss: 0.1423 - precision: 0.8533 - recall: 0.6510 - learning_rate: 0.0000\n",
      "2025-04-22 21:40:04 - INFO - Validation - accuracy: 0.9198 - auc: 0.7210 - f1_score: 0.4149 - loss: 0.3145 - precision: 0.5404 - recall: 0.3907\n",
      "2025-04-22 21:40:04 - INFO - ==================================================\n",
      "\n"
     ]
    },
    {
     "name": "stdout",
     "output_type": "stream",
     "text": [
      "\u001b[1m561/561\u001b[0m \u001b[32m━━━━━━━━━━━━━━━━━━━━\u001b[0m\u001b[37m\u001b[0m \u001b[1m161s\u001b[0m 287ms/step - accuracy: 0.9603 - auc: 0.9357 - f1_score: 0.7083 - loss: 0.1430 - precision: 0.8537 - recall: 0.6487 - val_accuracy: 0.9198 - val_auc: 0.7210 - val_f1_score: 0.4149 - val_loss: 0.3145 - val_precision: 0.5404 - val_recall: 0.3907 - learning_rate: 1.5625e-06\n"
     ]
    },
    {
     "name": "stderr",
     "output_type": "stream",
     "text": [
      "2025-04-22 21:40:04 - INFO - \n",
      "=== Starting Epoch 45 ===\n",
      "\n"
     ]
    },
    {
     "name": "stdout",
     "output_type": "stream",
     "text": [
      "Epoch 45/100\n",
      "\u001b[1m 14/561\u001b[0m \u001b[37m━━━━━━━━━━━━━━━━━━━━\u001b[0m \u001b[1m1:50\u001b[0m 203ms/step - accuracy: 0.9614 - auc: 0.9321 - f1_score: 0.7187 - loss: 0.1403 - precision: 0.8701 - recall: 0.6572"
     ]
    },
    {
     "name": "stderr",
     "output_type": "stream",
     "text": [
      "2025-04-22 21:40:06.737720: I tensorflow/core/kernels/data/shuffle_dataset_op.cc:482] Shuffle buffer filled.\n"
     ]
    },
    {
     "name": "stdout",
     "output_type": "stream",
     "text": [
      "\u001b[1m 17/561\u001b[0m \u001b[37m━━━━━━━━━━━━━━━━━━━━\u001b[0m \u001b[1m1:50\u001b[0m 203ms/step - accuracy: 0.9612 - auc: 0.9338 - f1_score: 0.7175 - loss: 0.1403 - precision: 0.8678 - recall: 0.6557"
     ]
    },
    {
     "name": "stderr",
     "output_type": "stream",
     "text": [
      "2025-04-22 21:40:07.274376: W tensorflow/core/kernels/data/prefetch_autotuner.cc:52] Prefetch autotuner tried to allocate 134225408 bytes after encountering the first element of size 134225408 bytes.This already causes the autotune ram budget to be exceeded. To stay within the ram budget, either increase the ram budget or reduce element size\n"
     ]
    },
    {
     "name": "stdout",
     "output_type": "stream",
     "text": [
      "\u001b[1m351/561\u001b[0m \u001b[32m━━━━━━━━━━━━\u001b[0m\u001b[37m━━━━━━━━\u001b[0m \u001b[1m51s\u001b[0m 247ms/step - accuracy: 0.9603 - auc: 0.9371 - f1_score: 0.7108 - loss: 0.1423 - precision: 0.8539 - recall: 0.6503 "
     ]
    },
    {
     "name": "stderr",
     "output_type": "stream",
     "text": [
      "2025-04-22 21:41:30.794435: W tensorflow/core/lib/png/png_io.cc:92] PNG warning: iCCP: profile 'ICC Profile': 'GRAY': Gray color space not permitted on RGB PNG\n"
     ]
    },
    {
     "name": "stdout",
     "output_type": "stream",
     "text": [
      "\u001b[1m561/561\u001b[0m \u001b[32m━━━━━━━━━━━━━━━━━━━━\u001b[0m\u001b[37m\u001b[0m \u001b[1m0s\u001b[0m 237ms/step - accuracy: 0.9604 - auc: 0.9369 - f1_score: 0.7110 - loss: 0.1424 - precision: 0.8541 - recall: 0.6505 "
     ]
    },
    {
     "name": "stderr",
     "output_type": "stream",
     "text": [
      "2025-04-22 21:42:17.496028: W tensorflow/core/kernels/data/prefetch_autotuner.cc:52] Prefetch autotuner tried to allocate 77078016 bytes after encountering the first element of size 77078016 bytes.This already causes the autotune ram budget to be exceeded. To stay within the ram budget, either increase the ram budget or reduce element size\n",
      "2025-04-22 21:42:22.414926: I tensorflow/core/kernels/data/shuffle_dataset_op.cc:452] ShuffleDatasetV3:10: Filling up shuffle buffer (this may take a while): 8242 of 25000\n",
      "2025-04-22 21:42:32.415416: I tensorflow/core/kernels/data/shuffle_dataset_op.cc:452] ShuffleDatasetV3:10: Filling up shuffle buffer (this may take a while): 13942 of 25000\n",
      "2025-04-22 21:42:42.418400: I tensorflow/core/kernels/data/shuffle_dataset_op.cc:452] ShuffleDatasetV3:10: Filling up shuffle buffer (this may take a while): 19669 of 25000\n",
      "2025-04-22 21:42:48.667219: I tensorflow/core/kernels/data/shuffle_dataset_op.cc:482] Shuffle buffer filled.\n",
      "2025-04-22 21:42:48.803664: W tensorflow/core/kernels/data/prefetch_autotuner.cc:52] Prefetch autotuner tried to allocate 77078016 bytes after encountering the first element of size 77078016 bytes.This already causes the autotune ram budget to be exceeded. To stay within the ram budget, either increase the ram budget or reduce element size\n",
      "2025-04-22 21:42:55 - INFO - \n",
      "=== Epoch 45 Summary ===\n",
      "2025-04-22 21:42:55 - INFO - Time: 171.97s\n",
      "2025-04-22 21:42:55 - INFO - Training   - accuracy: 0.9607 - auc: 0.9373 - f1_score: 0.7123 - loss: 0.1419 - precision: 0.8546 - recall: 0.6521 - learning_rate: 0.0000\n",
      "2025-04-22 21:42:55 - INFO - Validation - accuracy: 0.9200 - auc: 0.7218 - f1_score: 0.4180 - loss: 0.3148 - precision: 0.5415 - recall: 0.3964\n",
      "2025-04-22 21:42:55 - INFO - ==================================================\n",
      "\n"
     ]
    },
    {
     "name": "stdout",
     "output_type": "stream",
     "text": [
      "\u001b[1m561/561\u001b[0m \u001b[32m━━━━━━━━━━━━━━━━━━━━\u001b[0m\u001b[37m\u001b[0m \u001b[1m172s\u001b[0m 307ms/step - accuracy: 0.9604 - auc: 0.9369 - f1_score: 0.7110 - loss: 0.1424 - precision: 0.8541 - recall: 0.6505 - val_accuracy: 0.9200 - val_auc: 0.7218 - val_f1_score: 0.4180 - val_loss: 0.3148 - val_precision: 0.5415 - val_recall: 0.3964 - learning_rate: 1.0000e-06\n"
     ]
    },
    {
     "name": "stderr",
     "output_type": "stream",
     "text": [
      "2025-04-22 21:42:55 - INFO - \n",
      "=== Starting Epoch 46 ===\n",
      "\n"
     ]
    },
    {
     "name": "stdout",
     "output_type": "stream",
     "text": [
      "Epoch 46/100\n",
      "\u001b[1m352/561\u001b[0m \u001b[32m━━━━━━━━━━━━\u001b[0m\u001b[37m━━━━━━━━\u001b[0m \u001b[1m49s\u001b[0m 238ms/step - accuracy: 0.9613 - auc: 0.9347 - f1_score: 0.7170 - loss: 0.1414 - precision: 0.8567 - recall: 0.6568 "
     ]
    },
    {
     "name": "stderr",
     "output_type": "stream",
     "text": [
      "2025-04-22 21:44:19.797368: W tensorflow/core/lib/png/png_io.cc:92] PNG warning: iCCP: profile 'ICC Profile': 'GRAY': Gray color space not permitted on RGB PNG\n"
     ]
    },
    {
     "name": "stdout",
     "output_type": "stream",
     "text": [
      "\u001b[1m561/561\u001b[0m \u001b[32m━━━━━━━━━━━━━━━━━━━━\u001b[0m\u001b[37m\u001b[0m \u001b[1m0s\u001b[0m 232ms/step - accuracy: 0.9612 - auc: 0.9358 - f1_score: 0.7163 - loss: 0.1414 - precision: 0.8561 - recall: 0.6562 "
     ]
    },
    {
     "name": "stderr",
     "output_type": "stream",
     "text": [
      "2025-04-22 21:45:06.268484: W tensorflow/core/kernels/data/prefetch_autotuner.cc:52] Prefetch autotuner tried to allocate 127518464 bytes after encountering the first element of size 127518464 bytes.This already causes the autotune ram budget to be exceeded. To stay within the ram budget, either increase the ram budget or reduce element size\n",
      "2025-04-22 21:45:11.486510: I tensorflow/core/kernels/data/shuffle_dataset_op.cc:452] ShuffleDatasetV3:10: Filling up shuffle buffer (this may take a while): 8108 of 25000\n",
      "2025-04-22 21:45:31.489354: I tensorflow/core/kernels/data/shuffle_dataset_op.cc:452] ShuffleDatasetV3:10: Filling up shuffle buffer (this may take a while): 19502 of 25000\n",
      "2025-04-22 21:45:33 - INFO - \n",
      "=== Epoch 46 Summary ===\n",
      "2025-04-22 21:45:33 - INFO - Time: 157.66s\n",
      "2025-04-22 21:45:33 - INFO - Training   - accuracy: 0.9609 - auc: 0.9382 - f1_score: 0.7153 - loss: 0.1415 - precision: 0.8543 - recall: 0.6556 - learning_rate: 0.0000\n",
      "2025-04-22 21:45:33 - INFO - Validation - accuracy: 0.9195 - auc: 0.7219 - f1_score: 0.4173 - loss: 0.3129 - precision: 0.5372 - recall: 0.3928\n",
      "2025-04-22 21:45:33 - INFO - ==================================================\n",
      "\n"
     ]
    },
    {
     "name": "stdout",
     "output_type": "stream",
     "text": [
      "\u001b[1m561/561\u001b[0m \u001b[32m━━━━━━━━━━━━━━━━━━━━\u001b[0m\u001b[37m\u001b[0m \u001b[1m158s\u001b[0m 281ms/step - accuracy: 0.9612 - auc: 0.9358 - f1_score: 0.7163 - loss: 0.1414 - precision: 0.8561 - recall: 0.6562 - val_accuracy: 0.9195 - val_auc: 0.7219 - val_f1_score: 0.4173 - val_loss: 0.3129 - val_precision: 0.5372 - val_recall: 0.3928 - learning_rate: 1.0000e-06\n"
     ]
    },
    {
     "name": "stderr",
     "output_type": "stream",
     "text": [
      "2025-04-22 21:45:33 - INFO - \n",
      "=== Starting Epoch 47 ===\n",
      "\n"
     ]
    },
    {
     "name": "stdout",
     "output_type": "stream",
     "text": [
      "Epoch 47/100\n",
      "\u001b[1m 17/561\u001b[0m \u001b[37m━━━━━━━━━━━━━━━━━━━━\u001b[0m \u001b[1m1:50\u001b[0m 204ms/step - accuracy: 0.9612 - auc: 0.9364 - f1_score: 0.7213 - loss: 0.1415 - precision: 0.8553 - recall: 0.6603"
     ]
    },
    {
     "name": "stderr",
     "output_type": "stream",
     "text": [
      "2025-04-22 21:45:37.131057: I tensorflow/core/kernels/data/shuffle_dataset_op.cc:482] Shuffle buffer filled.\n"
     ]
    },
    {
     "name": "stdout",
     "output_type": "stream",
     "text": [
      "\u001b[1m 19/561\u001b[0m \u001b[37m━━━━━━━━━━━━━━━━━━━━\u001b[0m \u001b[1m1:50\u001b[0m 204ms/step - accuracy: 0.9612 - auc: 0.9357 - f1_score: 0.7213 - loss: 0.1414 - precision: 0.8551 - recall: 0.6604"
     ]
    },
    {
     "name": "stderr",
     "output_type": "stream",
     "text": [
      "2025-04-22 21:45:37.557661: W tensorflow/core/kernels/data/prefetch_autotuner.cc:52] Prefetch autotuner tried to allocate 84768512 bytes after encountering the first element of size 84768512 bytes.This already causes the autotune ram budget to be exceeded. To stay within the ram budget, either increase the ram budget or reduce element size\n"
     ]
    },
    {
     "name": "stdout",
     "output_type": "stream",
     "text": [
      "\u001b[1m353/561\u001b[0m \u001b[32m━━━━━━━━━━━━\u001b[0m\u001b[37m━━━━━━━━\u001b[0m \u001b[1m52s\u001b[0m 252ms/step - accuracy: 0.9611 - auc: 0.9361 - f1_score: 0.7170 - loss: 0.1412 - precision: 0.8523 - recall: 0.6581 "
     ]
    },
    {
     "name": "stderr",
     "output_type": "stream",
     "text": [
      "2025-04-22 21:47:02.464028: W tensorflow/core/lib/png/png_io.cc:92] PNG warning: iCCP: profile 'ICC Profile': 'GRAY': Gray color space not permitted on RGB PNG\n"
     ]
    },
    {
     "name": "stdout",
     "output_type": "stream",
     "text": [
      "\u001b[1m561/561\u001b[0m \u001b[32m━━━━━━━━━━━━━━━━━━━━\u001b[0m\u001b[37m\u001b[0m \u001b[1m0s\u001b[0m 240ms/step - accuracy: 0.9611 - auc: 0.9361 - f1_score: 0.7167 - loss: 0.1413 - precision: 0.8531 - recall: 0.6574 "
     ]
    },
    {
     "name": "stderr",
     "output_type": "stream",
     "text": [
      "2025-04-22 21:47:48.785578: W tensorflow/core/kernels/data/prefetch_autotuner.cc:52] Prefetch autotuner tried to allocate 77078016 bytes after encountering the first element of size 77078016 bytes.This already causes the autotune ram budget to be exceeded. To stay within the ram budget, either increase the ram budget or reduce element size\n",
      "2025-04-22 21:47:54.126055: I tensorflow/core/kernels/data/shuffle_dataset_op.cc:452] ShuffleDatasetV3:10: Filling up shuffle buffer (this may take a while): 8081 of 25000\n",
      "2025-04-22 21:48:04.127731: I tensorflow/core/kernels/data/shuffle_dataset_op.cc:452] ShuffleDatasetV3:10: Filling up shuffle buffer (this may take a while): 13800 of 25000\n",
      "2025-04-22 21:48:16 - INFO - \n",
      "=== Epoch 47 Summary ===\n",
      "2025-04-22 21:48:16 - INFO - Time: 162.82s\n",
      "2025-04-22 21:48:16 - INFO - Training   - accuracy: 0.9610 - auc: 0.9364 - f1_score: 0.7163 - loss: 0.1414 - precision: 0.8547 - recall: 0.6562 - learning_rate: 0.0000\n",
      "2025-04-22 21:48:16 - INFO - Validation - accuracy: 0.9202 - auc: 0.7204 - f1_score: 0.4174 - loss: 0.3185 - precision: 0.5427 - recall: 0.3977\n",
      "2025-04-22 21:48:16 - INFO - ==================================================\n",
      "\n"
     ]
    },
    {
     "name": "stdout",
     "output_type": "stream",
     "text": [
      "\u001b[1m561/561\u001b[0m \u001b[32m━━━━━━━━━━━━━━━━━━━━\u001b[0m\u001b[37m\u001b[0m \u001b[1m163s\u001b[0m 290ms/step - accuracy: 0.9611 - auc: 0.9361 - f1_score: 0.7167 - loss: 0.1413 - precision: 0.8531 - recall: 0.6574 - val_accuracy: 0.9202 - val_auc: 0.7204 - val_f1_score: 0.4174 - val_loss: 0.3185 - val_precision: 0.5427 - val_recall: 0.3977 - learning_rate: 1.0000e-06\n"
     ]
    },
    {
     "name": "stderr",
     "output_type": "stream",
     "text": [
      "2025-04-22 21:48:16 - INFO - \n",
      "=== Training Completed! ===\n",
      "\n",
      "2025-04-22 21:48:16 - INFO - Final Metrics: accuracy: 0.9610 - auc: 0.9364 - f1_score: 0.7163 - loss: 0.1414 - precision: 0.8547 - recall: 0.6562 - val_accuracy: 0.9202 - val_auc: 0.7204 - val_f1_score: 0.4174 - val_loss: 0.3185 - val_precision: 0.5427 - val_recall: 0.3977\n",
      "\n"
     ]
    },
    {
     "name": "stdout",
     "output_type": "stream",
     "text": [
      "Epoch 47: early stopping\n",
      "Restoring model weights from the end of the best epoch: 32.\n",
      "Epoch 47: early stopping\n",
      "Restoring model weights from the end of the best epoch: 32.\n"
     ]
    },
    {
     "name": "stderr",
     "output_type": "stream",
     "text": [
      "2025-04-22 21:48:20.257078: I tensorflow/core/kernels/data/shuffle_dataset_op.cc:482] Shuffle buffer filled.\n",
      "2025-04-22 21:48:20.388614: W tensorflow/core/kernels/data/prefetch_autotuner.cc:52] Prefetch autotuner tried to allocate 77078016 bytes after encountering the first element of size 77078016 bytes.This already causes the autotune ram budget to be exceeded. To stay within the ram budget, either increase the ram budget or reduce element size\n"
     ]
    }
   ],
   "source": [
    "# Model Training\n",
    "model          = build_densenet121(num_classes)\n",
    "optimizer      = Adam(learning_rate=1e-4)\n",
    "compile_kwargs = {'optimizer': optimizer, 'loss': loss, 'metrics': metrics}\n",
    "\n",
    "history, model = start_or_resume_training(\n",
    "    model, \n",
    "    compile_kwargs, \n",
    "    train_ds, \n",
    "    val_ds, \n",
    "    TF_MAX_EPOCHS,\n",
    "    steps_per_epoch, \n",
    "    validation_steps, \n",
    "    callbacks=[checkpoint, best_checkpoint, reduce_lr, training_logger, metrics_monitor, early_stopping], \n",
    "    checkpoint_path=checkpoint_path,\n",
    "    initial_epoch=initial_epoch,\n",
    "    output_dir=MODELS_PATH,\n",
    "    model_name=model_name,\n",
    "    logger=logger\n",
    ")"
   ]
  },
  {
   "cell_type": "code",
   "execution_count": null,
   "id": "6e94c314-2833-40ae-a3e6-d21265deb2c1",
   "metadata": {},
   "outputs": [],
   "source": []
  },
  {
   "cell_type": "code",
   "execution_count": null,
   "id": "aeafcdc5-ec72-43b9-8b62-60426278f7aa",
   "metadata": {},
   "outputs": [],
   "source": []
  },
  {
   "cell_type": "code",
   "execution_count": null,
   "id": "afec170c-fc49-4ba7-adee-5f4cade8a6bb",
   "metadata": {},
   "outputs": [],
   "source": []
  }
 ],
 "metadata": {
  "kernelspec": {
   "display_name": "Python 3 (ipykernel)",
   "language": "python",
   "name": "python3"
  },
  "language_info": {
   "codemirror_mode": {
    "name": "ipython",
    "version": 3
   },
   "file_extension": ".py",
   "mimetype": "text/x-python",
   "name": "python",
   "nbconvert_exporter": "python",
   "pygments_lexer": "ipython3",
   "version": "3.10.16"
  }
 },
 "nbformat": 4,
 "nbformat_minor": 5
}
