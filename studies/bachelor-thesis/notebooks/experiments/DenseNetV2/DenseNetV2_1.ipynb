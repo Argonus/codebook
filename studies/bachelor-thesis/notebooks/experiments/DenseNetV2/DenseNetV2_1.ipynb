{
 "cells": [
  {
   "cell_type": "code",
   "execution_count": 1,
   "id": "b694919a-9b18-4068-8e69-7258de889dff",
   "metadata": {},
   "outputs": [
    {
     "name": "stderr",
     "output_type": "stream",
     "text": [
      "2025-05-17 14:32:45.712278: E external/local_xla/xla/stream_executor/cuda/cuda_fft.cc:467] Unable to register cuFFT factory: Attempting to register factory for plugin cuFFT when one has already been registered\n",
      "WARNING: All log messages before absl::InitializeLog() is called are written to STDERR\n",
      "E0000 00:00:1747485165.719842    6230 cuda_dnn.cc:8579] Unable to register cuDNN factory: Attempting to register factory for plugin cuDNN when one has already been registered\n",
      "E0000 00:00:1747485165.722147    6230 cuda_blas.cc:1407] Unable to register cuBLAS factory: Attempting to register factory for plugin cuBLAS when one has already been registered\n",
      "W0000 00:00:1747485165.728280    6230 computation_placer.cc:177] computation placer already registered. Please check linkage and avoid linking the same target more than once.\n",
      "W0000 00:00:1747485165.728288    6230 computation_placer.cc:177] computation placer already registered. Please check linkage and avoid linking the same target more than once.\n",
      "W0000 00:00:1747485165.728289    6230 computation_placer.cc:177] computation placer already registered. Please check linkage and avoid linking the same target more than once.\n",
      "W0000 00:00:1747485165.728289    6230 computation_placer.cc:177] computation placer already registered. Please check linkage and avoid linking the same target more than once.\n"
     ]
    },
    {
     "name": "stdout",
     "output_type": "stream",
     "text": [
      "\n",
      "GPU configuration successful!\n",
      "Device: /physical_device:GPU:0\n",
      "Memory limit: 18.0 GB\n",
      "\n",
      "TensorFlow optimizations status:\n",
      "- CPU Threads: 16 intra-op, 9 inter-op (32 cores total)\n",
      "- XLA JIT: enabled (autoclustering)\n",
      "- Synchronous Execution: enabled\n",
      "\n",
      "GPU Device Details:\n",
      "- Device: GPU /physical_device:GPU:0\n",
      "- Memory limit: 18.0 GB\n"
     ]
    },
    {
     "name": "stderr",
     "output_type": "stream",
     "text": [
      "I0000 00:00:1747485166.968286    6230 gpu_process_state.cc:208] Using CUDA malloc Async allocator for GPU: 0\n",
      "I0000 00:00:1747485166.968393    6230 gpu_device.cc:2019] Created device /job:localhost/replica:0/task:0/device:GPU:0 with 19327352832 MB memory:  -> device: 0, name: NVIDIA GeForce RTX 3090 Ti, pci bus id: 0000:01:00.0, compute capability: 8.6\n"
     ]
    }
   ],
   "source": [
    "# Import dependencies\n",
    "import os\n",
    "\n",
    "os.environ['TF_CPP_MIN_VLOG_LEVEL'] = '0'\n",
    "os.environ['TF_CPP_MIN_LOG_LEVEL'] = '2'\n",
    "os.environ['TF_GPU_ALLOCATOR'] = 'cuda_malloc_async'\n",
    "os.environ['TF_FORCE_GPU_ALLOW_GROWTH'] = 'true'\n",
    "\n",
    "from src.utils.gpu_config import configure_gpu, optimize_tensorflow\n",
    "\n",
    "configure_gpu()\n",
    "optimize_tensorflow()"
   ]
  },
  {
   "cell_type": "code",
   "execution_count": 2,
   "id": "2b854daf-5f2a-4c33-9180-5081cd415b16",
   "metadata": {},
   "outputs": [],
   "source": [
    "# Import Tensorflow Keras\n",
    "from tensorflow.keras.optimizers import Adam\n",
    "from tensorflow.keras.losses import BinaryCrossentropy\n",
    "from tensorflow.keras.callbacks import ReduceLROnPlateau, ModelCheckpoint\n",
    "\n",
    "# Import local modules\n",
    "from src.utils.consts import TF_RECORD_DATASET, MODELS_PATH, TF_BUFFER_SIZE, TF_SHUFFLE_SIZE, TF_BATCH_SIZE, TF_MAX_EPOCHS\n",
    "from src.model.tensorflow_utils import load_dataset, optimize_dataset, count_dataset_size, get_num_classes, get_metrics\n",
    "from src.model.tensorflow_utils import setup_logger, setup_training_logger, setup_metrics_monitor, setup_early_stopping, filter_no_finding_class\n",
    "from src.model.tensorflow_utils import start_or_resume_training, apply_augmentation_to_dataset, calculate_class_weights, oversample_minority_classes\n",
    "from src.model.densnet.tensorflow_dense_net_121 import build_densenet121\n",
    "\n",
    "# Input Data\n",
    "initial_epoch   = None\n",
    "resume_training = False\n",
    "checkpoint_path = None\n",
    "set_name        = \"DenseNetV2\"\n",
    "model_name      = f\"{set_name}_1\"\n",
    "num_classes     = get_num_classes()\n",
    "\n",
    "train_ds = load_dataset(f\"{TF_RECORD_DATASET}/train.tfrecord\", TF_BUFFER_SIZE)\n",
    "val_ds   = load_dataset(f\"{TF_RECORD_DATASET}/val.tfrecord\", TF_BUFFER_SIZE)\n",
    "\n",
    "train_ds = filter_no_finding_class(train_ds)\n",
    "val_ds   = filter_no_finding_class(val_ds)\n",
    "\n",
    "class_weights = calculate_class_weights(train_ds, num_classes)\n",
    "train_ds      = oversample_minority_classes(train_ds, class_weights)\n",
    "class_weights = calculate_class_weights(train_ds, num_classes)"
   ]
  },
  {
   "cell_type": "code",
   "execution_count": 3,
   "id": "5f152b8a-8ff8-4095-9815-e304ce2beb52",
   "metadata": {},
   "outputs": [],
   "source": [
    "steps_per_epoch  = int((104166 or int(count_dataset_size(train_ds, None))) / TF_BATCH_SIZE)\n",
    "validation_steps = int((15431 or int(count_dataset_size(val_ds, None))) / TF_BATCH_SIZE)\n",
    "\n",
    "# Disable Advanced Augmentations\n",
    "probability = {\n",
    "    \"intensity_scaling\": 0,\n",
    "    \"adaptive_histogram\": 0,\n",
    "    \"zoom\": 0,\n",
    "    \"cutout\": 0\n",
    "}\n",
    "\n",
    "train_ds = train_ds.shuffle(TF_SHUFFLE_SIZE, reshuffle_each_iteration=True)\n",
    "train_ds = apply_augmentation_to_dataset(train_ds, probability)\n",
    "train_ds = optimize_dataset(train_ds, TF_BATCH_SIZE)\n",
    "\n",
    "val_ds   = optimize_dataset(val_ds, TF_BATCH_SIZE)"
   ]
  },
  {
   "cell_type": "code",
   "execution_count": 4,
   "id": "3a0e37c9-b178-40d8-bd25-8c0a6498564a",
   "metadata": {},
   "outputs": [],
   "source": [
    "# Setup Model Deps\n",
    "logger            = setup_logger()\n",
    "training_logger   = setup_training_logger(logger, TF_BATCH_SIZE, 100)\n",
    "metrics_monitor   = setup_metrics_monitor(MODELS_PATH, model_name, logger, resume_training=resume_training, initial_epoch=initial_epoch)\n",
    "metrics           = get_metrics()\n",
    "\n",
    "# Setup compile arguments\n",
    "loss           = BinaryCrossentropy(from_logits=False)\n",
    "reduce_lr      = ReduceLROnPlateau(monitor=\"val_f1_score\", factor=0.5,  patience=3, min_lr=1e-6, mode=\"max\", verbose=1)\n",
    "early_stopping = setup_early_stopping()\n",
    "\n",
    "epoch_mode           = 'cp-{epoch:04d}'\n",
    "save_checkpoint_path = f\"{MODELS_PATH}/{model_name}/checkpoints/{epoch_mode}.keras\"\n",
    "checkpoint           = ModelCheckpoint(save_checkpoint_path, monitor=\"val_f1_score\", save_best_only=False, mode=\"max\", save_weights_only=False)\n",
    "\n",
    "model_path      = f\"{MODELS_PATH}/{model_name}.keras\"\n",
    "best_checkpoint = ModelCheckpoint(model_path, monitor=\"val_f1_score\", save_best_only=True, mode=\"max\", save_weights_only=False)"
   ]
  },
  {
   "cell_type": "code",
   "execution_count": 5,
   "id": "c44d4a9a-ffbb-4917-a702-c35773b9857c",
   "metadata": {},
   "outputs": [
    {
     "name": "stderr",
     "output_type": "stream",
     "text": [
      "2025-05-17 14:33:57 - INFO - \n",
      "=== Training Started ===\n",
      "\n",
      "2025-05-17 14:33:57 - INFO - Batch Size: 128\n",
      "2025-05-17 14:33:57 - INFO - Optimizer: Adam\n",
      "2025-05-17 14:33:57 - INFO - \n",
      "==================================================\n",
      "\n",
      "2025-05-17 14:33:57 - INFO - \n",
      "=== Starting Epoch 1 ===\n",
      "\n"
     ]
    },
    {
     "name": "stdout",
     "output_type": "stream",
     "text": [
      "Epoch 1/100\n"
     ]
    },
    {
     "name": "stderr",
     "output_type": "stream",
     "text": [
      "WARNING: All log messages before absl::InitializeLog() is called are written to STDERR\n",
      "I0000 00:00:1747485245.733703    6290 service.cc:152] XLA service 0x76b72c014170 initialized for platform CUDA (this does not guarantee that XLA will be used). Devices:\n",
      "I0000 00:00:1747485245.733720    6290 service.cc:160]   StreamExecutor device (0): NVIDIA GeForce RTX 3090 Ti, Compute Capability 8.6\n",
      "I0000 00:00:1747485245.736379    6290 cuda_dnn.cc:529] Loaded cuDNN version 90300\n",
      "I0000 00:00:1747485245.781319    6290 device_compiler.h:188] Compiled cluster using XLA!  This line is logged at most once for the lifetime of the process.\n"
     ]
    },
    {
     "name": "stdout",
     "output_type": "stream",
     "text": [
      "\u001b[1m813/813\u001b[0m \u001b[32m━━━━━━━━━━━━━━━━━━━━\u001b[0m\u001b[37m\u001b[0m \u001b[1m0s\u001b[0m 216ms/step - accuracy: 0.9130 - auc: 0.5646 - f1_score: 0.0312 - loss: 2.0690 - precision: 0.1777 - recall: 0.0212  "
     ]
    },
    {
     "name": "stderr",
     "output_type": "stream",
     "text": [
      "2025-05-17 14:38:41 - INFO - \n",
      "=== Epoch 1 Summary ===\n",
      "2025-05-17 14:38:41 - INFO - Time: 284.37s\n",
      "2025-05-17 14:38:41 - INFO - Training   - accuracy: 0.9199 - auc: 0.5924 - f1_score: 0.0222 - loss: 1.8488 - precision: 0.2249 - recall: 0.0120 - learning_rate: 0.0001\n",
      "2025-05-17 14:38:41 - INFO - Validation - accuracy: 0.9446 - auc: 0.6538 - f1_score: 0.0000 - loss: 1.4482 - precision: 0.0000 - recall: 0.0000\n",
      "2025-05-17 14:38:41 - INFO - ==================================================\n",
      "\n"
     ]
    },
    {
     "name": "stdout",
     "output_type": "stream",
     "text": [
      "\u001b[1m813/813\u001b[0m \u001b[32m━━━━━━━━━━━━━━━━━━━━\u001b[0m\u001b[37m\u001b[0m \u001b[1m284s\u001b[0m 245ms/step - accuracy: 0.9130 - auc: 0.5646 - f1_score: 0.0312 - loss: 2.0687 - precision: 0.1778 - recall: 0.0212 - val_accuracy: 0.9446 - val_auc: 0.6538 - val_f1_score: 0.0000e+00 - val_loss: 1.4482 - val_precision: 0.0000e+00 - val_recall: 0.0000e+00 - learning_rate: 1.0000e-04\n"
     ]
    },
    {
     "name": "stderr",
     "output_type": "stream",
     "text": [
      "2025-05-17 14:38:42 - INFO - \n",
      "=== Starting Epoch 2 ===\n",
      "\n"
     ]
    },
    {
     "name": "stdout",
     "output_type": "stream",
     "text": [
      "Epoch 2/100\n",
      "\u001b[1m813/813\u001b[0m \u001b[32m━━━━━━━━━━━━━━━━━━━━\u001b[0m\u001b[37m\u001b[0m \u001b[1m0s\u001b[0m 217ms/step - accuracy: 0.9208 - auc: 0.6340 - f1_score: 0.0237 - loss: 1.3154 - precision: 0.3306 - recall: 0.0131  "
     ]
    },
    {
     "name": "stderr",
     "output_type": "stream",
     "text": [
      "2025-05-17 14:42:44 - INFO - \n",
      "=== Epoch 2 Summary ===\n",
      "2025-05-17 14:42:44 - INFO - Time: 242.23s\n",
      "2025-05-17 14:42:44 - INFO - Training   - accuracy: 0.9210 - auc: 0.6441 - f1_score: 0.0271 - loss: 1.1888 - precision: 0.3346 - recall: 0.0151 - learning_rate: 0.0001\n",
      "2025-05-17 14:42:44 - INFO - Validation - accuracy: 0.9404 - auc: 0.6871 - f1_score: 0.0002 - loss: 0.9689 - precision: 0.0120 - recall: 0.0009\n",
      "2025-05-17 14:42:44 - INFO - ==================================================\n",
      "\n"
     ]
    },
    {
     "name": "stdout",
     "output_type": "stream",
     "text": [
      "\u001b[1m813/813\u001b[0m \u001b[32m━━━━━━━━━━━━━━━━━━━━\u001b[0m\u001b[37m\u001b[0m \u001b[1m242s\u001b[0m 231ms/step - accuracy: 0.9208 - auc: 0.6340 - f1_score: 0.0237 - loss: 1.3153 - precision: 0.3306 - recall: 0.0131 - val_accuracy: 0.9404 - val_auc: 0.6871 - val_f1_score: 2.1548e-04 - val_loss: 0.9689 - val_precision: 0.0120 - val_recall: 9.2359e-04 - learning_rate: 1.0000e-04\n"
     ]
    },
    {
     "name": "stderr",
     "output_type": "stream",
     "text": [
      "2025-05-17 14:42:44 - INFO - \n",
      "=== Starting Epoch 3 ===\n",
      "\n"
     ]
    },
    {
     "name": "stdout",
     "output_type": "stream",
     "text": [
      "Epoch 3/100\n",
      "\u001b[1m813/813\u001b[0m \u001b[32m━━━━━━━━━━━━━━━━━━━━\u001b[0m\u001b[37m\u001b[0m \u001b[1m0s\u001b[0m 225ms/step - accuracy: 0.9204 - auc: 0.6720 - f1_score: 0.0384 - loss: 0.8865 - precision: 0.3576 - recall: 0.0222  "
     ]
    },
    {
     "name": "stderr",
     "output_type": "stream",
     "text": [
      "2025-05-17 14:46:01 - INFO - \n",
      "=== Epoch 3 Summary ===\n",
      "2025-05-17 14:46:01 - INFO - Time: 196.87s\n",
      "2025-05-17 14:46:01 - INFO - Training   - accuracy: 0.9208 - auc: 0.6809 - f1_score: 0.0455 - loss: 0.8171 - precision: 0.3785 - recall: 0.0269 - learning_rate: 0.0001\n",
      "2025-05-17 14:46:01 - INFO - Validation - accuracy: 0.9446 - auc: 0.7037 - f1_score: 0.0057 - loss: 0.6882 - precision: 0.4938 - recall: 0.0034\n",
      "2025-05-17 14:46:01 - INFO - ==================================================\n",
      "\n"
     ]
    },
    {
     "name": "stdout",
     "output_type": "stream",
     "text": [
      "\u001b[1m813/813\u001b[0m \u001b[32m━━━━━━━━━━━━━━━━━━━━\u001b[0m\u001b[37m\u001b[0m \u001b[1m197s\u001b[0m 242ms/step - accuracy: 0.9204 - auc: 0.6720 - f1_score: 0.0384 - loss: 0.8864 - precision: 0.3576 - recall: 0.0222 - val_accuracy: 0.9446 - val_auc: 0.7037 - val_f1_score: 0.0057 - val_loss: 0.6882 - val_precision: 0.4938 - val_recall: 0.0034 - learning_rate: 1.0000e-04\n"
     ]
    },
    {
     "name": "stderr",
     "output_type": "stream",
     "text": [
      "2025-05-17 14:46:01 - INFO - \n",
      "=== Starting Epoch 4 ===\n",
      "\n"
     ]
    },
    {
     "name": "stdout",
     "output_type": "stream",
     "text": [
      "Epoch 4/100\n",
      "\u001b[1m813/813\u001b[0m \u001b[32m━━━━━━━━━━━━━━━━━━━━\u001b[0m\u001b[37m\u001b[0m \u001b[1m0s\u001b[0m 216ms/step - accuracy: 0.9207 - auc: 0.6999 - f1_score: 0.0618 - loss: 0.6559 - precision: 0.4210 - recall: 0.0388  "
     ]
    },
    {
     "name": "stderr",
     "output_type": "stream",
     "text": [
      "2025-05-17 14:49:10 - INFO - \n",
      "=== Epoch 4 Summary ===\n",
      "2025-05-17 14:49:10 - INFO - Time: 189.20s\n",
      "2025-05-17 14:49:10 - INFO - Training   - accuracy: 0.9212 - auc: 0.7063 - f1_score: 0.0671 - loss: 0.6181 - precision: 0.4355 - recall: 0.0426 - learning_rate: 0.0001\n",
      "2025-05-17 14:49:10 - INFO - Validation - accuracy: 0.9448 - auc: 0.7168 - f1_score: 0.0390 - loss: 0.5528 - precision: 0.5420 - recall: 0.0228\n",
      "2025-05-17 14:49:10 - INFO - ==================================================\n",
      "\n"
     ]
    },
    {
     "name": "stdout",
     "output_type": "stream",
     "text": [
      "\u001b[1m813/813\u001b[0m \u001b[32m━━━━━━━━━━━━━━━━━━━━\u001b[0m\u001b[37m\u001b[0m \u001b[1m189s\u001b[0m 233ms/step - accuracy: 0.9207 - auc: 0.6999 - f1_score: 0.0618 - loss: 0.6559 - precision: 0.4210 - recall: 0.0388 - val_accuracy: 0.9448 - val_auc: 0.7168 - val_f1_score: 0.0390 - val_loss: 0.5528 - val_precision: 0.5420 - val_recall: 0.0228 - learning_rate: 1.0000e-04\n"
     ]
    },
    {
     "name": "stderr",
     "output_type": "stream",
     "text": [
      "2025-05-17 14:49:10 - INFO - \n",
      "=== Starting Epoch 5 ===\n",
      "\n"
     ]
    },
    {
     "name": "stdout",
     "output_type": "stream",
     "text": [
      "Epoch 5/100\n",
      "\u001b[1m813/813\u001b[0m \u001b[32m━━━━━━━━━━━━━━━━━━━━\u001b[0m\u001b[37m\u001b[0m \u001b[1m0s\u001b[0m 215ms/step - accuracy: 0.9212 - auc: 0.7196 - f1_score: 0.0799 - loss: 0.5262 - precision: 0.4623 - recall: 0.0526  "
     ]
    },
    {
     "name": "stderr",
     "output_type": "stream",
     "text": [
      "2025-05-17 14:52:15 - INFO - \n",
      "=== Epoch 5 Summary ===\n",
      "2025-05-17 14:52:15 - INFO - Time: 184.73s\n",
      "2025-05-17 14:52:15 - INFO - Training   - accuracy: 0.9216 - auc: 0.7259 - f1_score: 0.0859 - loss: 0.5025 - precision: 0.4702 - recall: 0.0567 - learning_rate: 0.0001\n",
      "2025-05-17 14:52:15 - INFO - Validation - accuracy: 0.9401 - auc: 0.7359 - f1_score: 0.0569 - loss: 0.4628 - precision: 0.2640 - recall: 0.0460\n",
      "2025-05-17 14:52:15 - INFO - ==================================================\n",
      "\n"
     ]
    },
    {
     "name": "stdout",
     "output_type": "stream",
     "text": [
      "\u001b[1m813/813\u001b[0m \u001b[32m━━━━━━━━━━━━━━━━━━━━\u001b[0m\u001b[37m\u001b[0m \u001b[1m185s\u001b[0m 227ms/step - accuracy: 0.9212 - auc: 0.7196 - f1_score: 0.0799 - loss: 0.5261 - precision: 0.4623 - recall: 0.0526 - val_accuracy: 0.9401 - val_auc: 0.7359 - val_f1_score: 0.0569 - val_loss: 0.4628 - val_precision: 0.2640 - val_recall: 0.0460 - learning_rate: 1.0000e-04\n"
     ]
    },
    {
     "name": "stderr",
     "output_type": "stream",
     "text": [
      "2025-05-17 14:52:15 - INFO - \n",
      "=== Starting Epoch 6 ===\n",
      "\n"
     ]
    },
    {
     "name": "stdout",
     "output_type": "stream",
     "text": [
      "Epoch 6/100\n",
      "\u001b[1m813/813\u001b[0m \u001b[32m━━━━━━━━━━━━━━━━━━━━\u001b[0m\u001b[37m\u001b[0m \u001b[1m0s\u001b[0m 229ms/step - accuracy: 0.9214 - auc: 0.7344 - f1_score: 0.0914 - loss: 0.4453 - precision: 0.4847 - recall: 0.0608  "
     ]
    },
    {
     "name": "stderr",
     "output_type": "stream",
     "text": [
      "2025-05-17 14:55:31 - INFO - \n",
      "=== Epoch 6 Summary ===\n",
      "2025-05-17 14:55:31 - INFO - Time: 195.82s\n",
      "2025-05-17 14:55:31 - INFO - Training   - accuracy: 0.9218 - auc: 0.7388 - f1_score: 0.0951 - loss: 0.4290 - precision: 0.4816 - recall: 0.0636 - learning_rate: 0.0001\n",
      "2025-05-17 14:55:31 - INFO - Validation - accuracy: 0.9395 - auc: 0.7323 - f1_score: 0.1120 - loss: 0.4121 - precision: 0.3214 - recall: 0.0835\n",
      "2025-05-17 14:55:31 - INFO - ==================================================\n",
      "\n"
     ]
    },
    {
     "name": "stdout",
     "output_type": "stream",
     "text": [
      "\u001b[1m813/813\u001b[0m \u001b[32m━━━━━━━━━━━━━━━━━━━━\u001b[0m\u001b[37m\u001b[0m \u001b[1m196s\u001b[0m 241ms/step - accuracy: 0.9214 - auc: 0.7344 - f1_score: 0.0914 - loss: 0.4453 - precision: 0.4847 - recall: 0.0608 - val_accuracy: 0.9395 - val_auc: 0.7323 - val_f1_score: 0.1120 - val_loss: 0.4121 - val_precision: 0.3214 - val_recall: 0.0835 - learning_rate: 1.0000e-04\n"
     ]
    },
    {
     "name": "stderr",
     "output_type": "stream",
     "text": [
      "2025-05-17 14:55:31 - INFO - \n",
      "=== Starting Epoch 7 ===\n",
      "\n"
     ]
    },
    {
     "name": "stdout",
     "output_type": "stream",
     "text": [
      "Epoch 7/100\n",
      "\u001b[1m813/813\u001b[0m \u001b[32m━━━━━━━━━━━━━━━━━━━━\u001b[0m\u001b[37m\u001b[0m \u001b[1m0s\u001b[0m 228ms/step - accuracy: 0.9217 - auc: 0.7480 - f1_score: 0.1085 - loss: 0.3904 - precision: 0.4944 - recall: 0.0735  "
     ]
    },
    {
     "name": "stderr",
     "output_type": "stream",
     "text": [
      "2025-05-17 14:58:51 - INFO - \n",
      "=== Epoch 7 Summary ===\n",
      "2025-05-17 14:58:51 - INFO - Time: 200.57s\n",
      "2025-05-17 14:58:51 - INFO - Training   - accuracy: 0.9221 - auc: 0.7522 - f1_score: 0.1134 - loss: 0.3776 - precision: 0.4970 - recall: 0.0771 - learning_rate: 0.0001\n",
      "2025-05-17 14:58:51 - INFO - Validation - accuracy: 0.9412 - auc: 0.7267 - f1_score: 0.0589 - loss: 0.3725 - precision: 0.2870 - recall: 0.0420\n",
      "2025-05-17 14:58:51 - INFO - ==================================================\n",
      "\n"
     ]
    },
    {
     "name": "stdout",
     "output_type": "stream",
     "text": [
      "\u001b[1m813/813\u001b[0m \u001b[32m━━━━━━━━━━━━━━━━━━━━\u001b[0m\u001b[37m\u001b[0m \u001b[1m201s\u001b[0m 247ms/step - accuracy: 0.9217 - auc: 0.7481 - f1_score: 0.1085 - loss: 0.3904 - precision: 0.4944 - recall: 0.0735 - val_accuracy: 0.9412 - val_auc: 0.7267 - val_f1_score: 0.0589 - val_loss: 0.3725 - val_precision: 0.2870 - val_recall: 0.0420 - learning_rate: 1.0000e-04\n"
     ]
    },
    {
     "name": "stderr",
     "output_type": "stream",
     "text": [
      "2025-05-17 14:58:51 - INFO - \n",
      "=== Starting Epoch 8 ===\n",
      "\n"
     ]
    },
    {
     "name": "stdout",
     "output_type": "stream",
     "text": [
      "Epoch 8/100\n",
      "\u001b[1m813/813\u001b[0m \u001b[32m━━━━━━━━━━━━━━━━━━━━\u001b[0m\u001b[37m\u001b[0m \u001b[1m0s\u001b[0m 217ms/step - accuracy: 0.9221 - auc: 0.7549 - f1_score: 0.1190 - loss: 0.3505 - precision: 0.4967 - recall: 0.0811  "
     ]
    },
    {
     "name": "stderr",
     "output_type": "stream",
     "text": [
      "2025-05-17 15:02:01 - INFO - \n",
      "=== Epoch 8 Summary ===\n",
      "2025-05-17 15:02:01 - INFO - Time: 190.24s\n",
      "2025-05-17 15:02:01 - INFO - Training   - accuracy: 0.9223 - auc: 0.7610 - f1_score: 0.1282 - loss: 0.3411 - precision: 0.5035 - recall: 0.0878 - learning_rate: 0.0001\n",
      "2025-05-17 15:02:01 - INFO - Validation - accuracy: 0.9384 - auc: 0.7318 - f1_score: 0.1357 - loss: 0.3516 - precision: 0.3364 - recall: 0.1158\n",
      "2025-05-17 15:02:01 - INFO - ==================================================\n",
      "\n"
     ]
    },
    {
     "name": "stdout",
     "output_type": "stream",
     "text": [
      "\u001b[1m813/813\u001b[0m \u001b[32m━━━━━━━━━━━━━━━━━━━━\u001b[0m\u001b[37m\u001b[0m \u001b[1m190s\u001b[0m 234ms/step - accuracy: 0.9221 - auc: 0.7549 - f1_score: 0.1190 - loss: 0.3505 - precision: 0.4967 - recall: 0.0811 - val_accuracy: 0.9384 - val_auc: 0.7318 - val_f1_score: 0.1357 - val_loss: 0.3516 - val_precision: 0.3364 - val_recall: 0.1158 - learning_rate: 1.0000e-04\n"
     ]
    },
    {
     "name": "stderr",
     "output_type": "stream",
     "text": [
      "2025-05-17 15:02:01 - INFO - \n",
      "=== Starting Epoch 9 ===\n",
      "\n"
     ]
    },
    {
     "name": "stdout",
     "output_type": "stream",
     "text": [
      "Epoch 9/100\n",
      "\u001b[1m813/813\u001b[0m \u001b[32m━━━━━━━━━━━━━━━━━━━━\u001b[0m\u001b[37m\u001b[0m \u001b[1m0s\u001b[0m 231ms/step - accuracy: 0.9219 - auc: 0.7669 - f1_score: 0.1348 - loss: 0.3216 - precision: 0.5063 - recall: 0.0929  "
     ]
    },
    {
     "name": "stderr",
     "output_type": "stream",
     "text": [
      "2025-05-17 15:05:28 - INFO - \n",
      "=== Epoch 9 Summary ===\n",
      "2025-05-17 15:05:28 - INFO - Time: 206.29s\n",
      "2025-05-17 15:05:28 - INFO - Training   - accuracy: 0.9225 - auc: 0.7711 - f1_score: 0.1410 - loss: 0.3140 - precision: 0.5096 - recall: 0.0974 - learning_rate: 0.0001\n",
      "2025-05-17 15:05:28 - INFO - Validation - accuracy: 0.9396 - auc: 0.7336 - f1_score: 0.1047 - loss: 0.3216 - precision: 0.3191 - recall: 0.0799\n",
      "2025-05-17 15:05:28 - INFO - ==================================================\n",
      "\n"
     ]
    },
    {
     "name": "stdout",
     "output_type": "stream",
     "text": [
      "\u001b[1m813/813\u001b[0m \u001b[32m━━━━━━━━━━━━━━━━━━━━\u001b[0m\u001b[37m\u001b[0m \u001b[1m206s\u001b[0m 254ms/step - accuracy: 0.9219 - auc: 0.7669 - f1_score: 0.1348 - loss: 0.3216 - precision: 0.5063 - recall: 0.0929 - val_accuracy: 0.9396 - val_auc: 0.7336 - val_f1_score: 0.1047 - val_loss: 0.3216 - val_precision: 0.3191 - val_recall: 0.0799 - learning_rate: 1.0000e-04\n"
     ]
    },
    {
     "name": "stderr",
     "output_type": "stream",
     "text": [
      "2025-05-17 15:05:28 - INFO - \n",
      "=== Starting Epoch 10 ===\n",
      "\n"
     ]
    },
    {
     "name": "stdout",
     "output_type": "stream",
     "text": [
      "Epoch 10/100\n",
      "\u001b[1m813/813\u001b[0m \u001b[32m━━━━━━━━━━━━━━━━━━━━\u001b[0m\u001b[37m\u001b[0m \u001b[1m0s\u001b[0m 218ms/step - accuracy: 0.9222 - auc: 0.7779 - f1_score: 0.1529 - loss: 0.2981 - precision: 0.5192 - recall: 0.1070  "
     ]
    },
    {
     "name": "stderr",
     "output_type": "stream",
     "text": [
      "2025-05-17 15:09:02 - INFO - \n",
      "=== Epoch 10 Summary ===\n",
      "2025-05-17 15:09:02 - INFO - Time: 214.67s\n",
      "2025-05-17 15:09:02 - INFO - Training   - accuracy: 0.9227 - auc: 0.7816 - f1_score: 0.1570 - loss: 0.2919 - precision: 0.5175 - recall: 0.1102 - learning_rate: 0.0001\n",
      "2025-05-17 15:09:02 - INFO - Validation - accuracy: 0.9046 - auc: 0.7322 - f1_score: 0.1732 - loss: 0.3553 - precision: 0.2093 - recall: 0.2601\n",
      "2025-05-17 15:09:02 - INFO - ==================================================\n",
      "\n"
     ]
    },
    {
     "name": "stdout",
     "output_type": "stream",
     "text": [
      "\u001b[1m813/813\u001b[0m \u001b[32m━━━━━━━━━━━━━━━━━━━━\u001b[0m\u001b[37m\u001b[0m \u001b[1m215s\u001b[0m 264ms/step - accuracy: 0.9222 - auc: 0.7779 - f1_score: 0.1529 - loss: 0.2981 - precision: 0.5192 - recall: 0.1070 - val_accuracy: 0.9046 - val_auc: 0.7322 - val_f1_score: 0.1732 - val_loss: 0.3553 - val_precision: 0.2093 - val_recall: 0.2601 - learning_rate: 1.0000e-04\n"
     ]
    },
    {
     "name": "stderr",
     "output_type": "stream",
     "text": [
      "2025-05-17 15:09:02 - INFO - \n",
      "=== Starting Epoch 11 ===\n",
      "\n"
     ]
    },
    {
     "name": "stdout",
     "output_type": "stream",
     "text": [
      "Epoch 11/100\n",
      "\u001b[1m813/813\u001b[0m \u001b[32m━━━━━━━━━━━━━━━━━━━━\u001b[0m\u001b[37m\u001b[0m \u001b[1m0s\u001b[0m 217ms/step - accuracy: 0.9228 - auc: 0.7836 - f1_score: 0.1644 - loss: 0.2805 - precision: 0.5202 - recall: 0.1168  "
     ]
    },
    {
     "name": "stderr",
     "output_type": "stream",
     "text": [
      "2025-05-17 15:12:26 - INFO - \n",
      "=== Epoch 11 Summary ===\n",
      "2025-05-17 15:12:26 - INFO - Time: 203.25s\n",
      "2025-05-17 15:12:26 - INFO - Training   - accuracy: 0.9231 - auc: 0.7886 - f1_score: 0.1700 - loss: 0.2750 - precision: 0.5240 - recall: 0.1213 - learning_rate: 0.0001\n",
      "2025-05-17 15:12:26 - INFO - Validation - accuracy: 0.9342 - auc: 0.7531 - f1_score: 0.1298 - loss: 0.2992 - precision: 0.2743 - recall: 0.1139\n",
      "2025-05-17 15:12:26 - INFO - ==================================================\n",
      "\n"
     ]
    },
    {
     "name": "stdout",
     "output_type": "stream",
     "text": [
      "\u001b[1m813/813\u001b[0m \u001b[32m━━━━━━━━━━━━━━━━━━━━\u001b[0m\u001b[37m\u001b[0m \u001b[1m203s\u001b[0m 250ms/step - accuracy: 0.9228 - auc: 0.7836 - f1_score: 0.1644 - loss: 0.2805 - precision: 0.5202 - recall: 0.1168 - val_accuracy: 0.9342 - val_auc: 0.7531 - val_f1_score: 0.1298 - val_loss: 0.2992 - val_precision: 0.2743 - val_recall: 0.1139 - learning_rate: 1.0000e-04\n"
     ]
    },
    {
     "name": "stderr",
     "output_type": "stream",
     "text": [
      "2025-05-17 15:12:26 - INFO - \n",
      "=== Starting Epoch 12 ===\n",
      "\n"
     ]
    },
    {
     "name": "stdout",
     "output_type": "stream",
     "text": [
      "Epoch 12/100\n",
      "\u001b[1m813/813\u001b[0m \u001b[32m━━━━━━━━━━━━━━━━━━━━\u001b[0m\u001b[37m\u001b[0m \u001b[1m0s\u001b[0m 219ms/step - accuracy: 0.9233 - auc: 0.7923 - f1_score: 0.1856 - loss: 0.2658 - precision: 0.5363 - recall: 0.1330  "
     ]
    },
    {
     "name": "stderr",
     "output_type": "stream",
     "text": [
      "2025-05-17 15:15:54 - INFO - \n",
      "=== Epoch 12 Summary ===\n",
      "2025-05-17 15:15:54 - INFO - Time: 208.17s\n",
      "2025-05-17 15:15:54 - INFO - Training   - accuracy: 0.9237 - auc: 0.7963 - f1_score: 0.1898 - loss: 0.2609 - precision: 0.5375 - recall: 0.1367 - learning_rate: 0.0001\n",
      "2025-05-17 15:15:54 - INFO - Validation - accuracy: 0.9320 - auc: 0.7487 - f1_score: 0.0894 - loss: 0.2982 - precision: 0.2275 - recall: 0.0953\n",
      "2025-05-17 15:15:54 - INFO - ==================================================\n",
      "\n"
     ]
    },
    {
     "name": "stdout",
     "output_type": "stream",
     "text": [
      "\u001b[1m813/813\u001b[0m \u001b[32m━━━━━━━━━━━━━━━━━━━━\u001b[0m\u001b[37m\u001b[0m \u001b[1m208s\u001b[0m 256ms/step - accuracy: 0.9233 - auc: 0.7923 - f1_score: 0.1856 - loss: 0.2658 - precision: 0.5363 - recall: 0.1330 - val_accuracy: 0.9320 - val_auc: 0.7487 - val_f1_score: 0.0894 - val_loss: 0.2982 - val_precision: 0.2275 - val_recall: 0.0953 - learning_rate: 1.0000e-04\n"
     ]
    },
    {
     "name": "stderr",
     "output_type": "stream",
     "text": [
      "2025-05-17 15:15:54 - INFO - \n",
      "=== Starting Epoch 13 ===\n",
      "\n"
     ]
    },
    {
     "name": "stdout",
     "output_type": "stream",
     "text": [
      "Epoch 13/100\n",
      "\u001b[1m813/813\u001b[0m \u001b[32m━━━━━━━━━━━━━━━━━━━━\u001b[0m\u001b[37m\u001b[0m \u001b[1m0s\u001b[0m 212ms/step - accuracy: 0.9231 - auc: 0.7981 - f1_score: 0.1969 - loss: 0.2537 - precision: 0.5322 - recall: 0.1448  \n",
      "Epoch 13: ReduceLROnPlateau reducing learning rate to 4.999999873689376e-05.\n"
     ]
    },
    {
     "name": "stderr",
     "output_type": "stream",
     "text": [
      "2025-05-17 15:19:12 - INFO - \n",
      "=== Epoch 13 Summary ===\n",
      "2025-05-17 15:19:12 - INFO - Time: 197.88s\n",
      "2025-05-17 15:19:12 - INFO - Training   - accuracy: 0.9239 - auc: 0.8023 - f1_score: 0.2024 - loss: 0.2495 - precision: 0.5406 - recall: 0.1481 - learning_rate: 0.0001\n",
      "2025-05-17 15:19:12 - INFO - Validation - accuracy: 0.9416 - auc: 0.7483 - f1_score: 0.1263 - loss: 0.2694 - precision: 0.3845 - recall: 0.0917\n",
      "2025-05-17 15:19:12 - INFO - ==================================================\n",
      "\n"
     ]
    },
    {
     "name": "stdout",
     "output_type": "stream",
     "text": [
      "\u001b[1m813/813\u001b[0m \u001b[32m━━━━━━━━━━━━━━━━━━━━\u001b[0m\u001b[37m\u001b[0m \u001b[1m198s\u001b[0m 243ms/step - accuracy: 0.9231 - auc: 0.7981 - f1_score: 0.1969 - loss: 0.2537 - precision: 0.5322 - recall: 0.1448 - val_accuracy: 0.9416 - val_auc: 0.7483 - val_f1_score: 0.1263 - val_loss: 0.2694 - val_precision: 0.3845 - val_recall: 0.0917 - learning_rate: 1.0000e-04\n"
     ]
    },
    {
     "name": "stderr",
     "output_type": "stream",
     "text": [
      "2025-05-17 15:19:12 - INFO - \n",
      "=== Starting Epoch 14 ===\n",
      "\n"
     ]
    },
    {
     "name": "stdout",
     "output_type": "stream",
     "text": [
      "Epoch 14/100\n",
      "\u001b[1m813/813\u001b[0m \u001b[32m━━━━━━━━━━━━━━━━━━━━\u001b[0m\u001b[37m\u001b[0m \u001b[1m0s\u001b[0m 216ms/step - accuracy: 0.9251 - auc: 0.8206 - f1_score: 0.2397 - loss: 0.2368 - precision: 0.5700 - recall: 0.1793  "
     ]
    },
    {
     "name": "stderr",
     "output_type": "stream",
     "text": [
      "2025-05-17 15:22:34 - INFO - \n",
      "=== Epoch 14 Summary ===\n",
      "2025-05-17 15:22:34 - INFO - Time: 201.86s\n",
      "2025-05-17 15:22:34 - INFO - Training   - accuracy: 0.9264 - auc: 0.8277 - f1_score: 0.2553 - loss: 0.2308 - precision: 0.5828 - recall: 0.1934 - learning_rate: 0.0000\n",
      "2025-05-17 15:22:34 - INFO - Validation - accuracy: 0.9234 - auc: 0.7599 - f1_score: 0.1312 - loss: 0.2972 - precision: 0.2299 - recall: 0.1632\n",
      "2025-05-17 15:22:34 - INFO - ==================================================\n",
      "\n"
     ]
    },
    {
     "name": "stdout",
     "output_type": "stream",
     "text": [
      "\u001b[1m813/813\u001b[0m \u001b[32m━━━━━━━━━━━━━━━━━━━━\u001b[0m\u001b[37m\u001b[0m \u001b[1m202s\u001b[0m 248ms/step - accuracy: 0.9251 - auc: 0.8206 - f1_score: 0.2397 - loss: 0.2368 - precision: 0.5700 - recall: 0.1794 - val_accuracy: 0.9234 - val_auc: 0.7599 - val_f1_score: 0.1312 - val_loss: 0.2972 - val_precision: 0.2299 - val_recall: 0.1632 - learning_rate: 5.0000e-05\n"
     ]
    },
    {
     "name": "stderr",
     "output_type": "stream",
     "text": [
      "2025-05-17 15:22:34 - INFO - \n",
      "=== Starting Epoch 15 ===\n",
      "\n"
     ]
    },
    {
     "name": "stdout",
     "output_type": "stream",
     "text": [
      "Epoch 15/100\n",
      "\u001b[1m813/813\u001b[0m \u001b[32m━━━━━━━━━━━━━━━━━━━━\u001b[0m\u001b[37m\u001b[0m \u001b[1m0s\u001b[0m 212ms/step - accuracy: 0.9269 - auc: 0.8357 - f1_score: 0.2766 - loss: 0.2241 - precision: 0.5904 - recall: 0.2117  "
     ]
    },
    {
     "name": "stderr",
     "output_type": "stream",
     "text": [
      "2025-05-17 15:25:54 - INFO - \n",
      "=== Epoch 15 Summary ===\n",
      "2025-05-17 15:25:54 - INFO - Time: 200.00s\n",
      "2025-05-17 15:25:54 - INFO - Training   - accuracy: 0.9279 - auc: 0.8407 - f1_score: 0.2880 - loss: 0.2200 - precision: 0.6003 - recall: 0.2213 - learning_rate: 0.0000\n",
      "2025-05-17 15:25:54 - INFO - Validation - accuracy: 0.9333 - auc: 0.7458 - f1_score: 0.1191 - loss: 0.2756 - precision: 0.2374 - recall: 0.0924\n",
      "2025-05-17 15:25:54 - INFO - ==================================================\n",
      "\n"
     ]
    },
    {
     "name": "stdout",
     "output_type": "stream",
     "text": [
      "\u001b[1m813/813\u001b[0m \u001b[32m━━━━━━━━━━━━━━━━━━━━\u001b[0m\u001b[37m\u001b[0m \u001b[1m200s\u001b[0m 246ms/step - accuracy: 0.9269 - auc: 0.8357 - f1_score: 0.2766 - loss: 0.2241 - precision: 0.5904 - recall: 0.2117 - val_accuracy: 0.9333 - val_auc: 0.7458 - val_f1_score: 0.1191 - val_loss: 0.2756 - val_precision: 0.2374 - val_recall: 0.0924 - learning_rate: 5.0000e-05\n"
     ]
    },
    {
     "name": "stderr",
     "output_type": "stream",
     "text": [
      "2025-05-17 15:25:54 - INFO - \n",
      "=== Starting Epoch 16 ===\n",
      "\n"
     ]
    },
    {
     "name": "stdout",
     "output_type": "stream",
     "text": [
      "Epoch 16/100\n",
      "\u001b[1m813/813\u001b[0m \u001b[32m━━━━━━━━━━━━━━━━━━━━\u001b[0m\u001b[37m\u001b[0m \u001b[1m0s\u001b[0m 212ms/step - accuracy: 0.9286 - auc: 0.8456 - f1_score: 0.3078 - loss: 0.2151 - precision: 0.6099 - recall: 0.2391  "
     ]
    },
    {
     "name": "stderr",
     "output_type": "stream",
     "text": [
      "2025-05-17 15:29:23 - INFO - \n",
      "=== Epoch 16 Summary ===\n",
      "2025-05-17 15:29:23 - INFO - Time: 209.11s\n",
      "2025-05-17 15:29:23 - INFO - Training   - accuracy: 0.9294 - auc: 0.8503 - f1_score: 0.3174 - loss: 0.2115 - precision: 0.6150 - recall: 0.2469 - learning_rate: 0.0000\n",
      "2025-05-17 15:29:23 - INFO - Validation - accuracy: 0.9288 - auc: 0.7476 - f1_score: 0.1813 - loss: 0.2821 - precision: 0.2543 - recall: 0.1479\n",
      "2025-05-17 15:29:23 - INFO - ==================================================\n",
      "\n"
     ]
    },
    {
     "name": "stdout",
     "output_type": "stream",
     "text": [
      "\u001b[1m813/813\u001b[0m \u001b[32m━━━━━━━━━━━━━━━━━━━━\u001b[0m\u001b[37m\u001b[0m \u001b[1m209s\u001b[0m 257ms/step - accuracy: 0.9286 - auc: 0.8456 - f1_score: 0.3078 - loss: 0.2151 - precision: 0.6100 - recall: 0.2391 - val_accuracy: 0.9288 - val_auc: 0.7476 - val_f1_score: 0.1813 - val_loss: 0.2821 - val_precision: 0.2543 - val_recall: 0.1479 - learning_rate: 5.0000e-05\n"
     ]
    },
    {
     "name": "stderr",
     "output_type": "stream",
     "text": [
      "2025-05-17 15:29:23 - INFO - \n",
      "=== Starting Epoch 17 ===\n",
      "\n"
     ]
    },
    {
     "name": "stdout",
     "output_type": "stream",
     "text": [
      "Epoch 17/100\n",
      "\u001b[1m813/813\u001b[0m \u001b[32m━━━━━━━━━━━━━━━━━━━━\u001b[0m\u001b[37m\u001b[0m \u001b[1m0s\u001b[0m 212ms/step - accuracy: 0.9302 - auc: 0.8566 - f1_score: 0.3361 - loss: 0.2066 - precision: 0.6246 - recall: 0.2638  "
     ]
    },
    {
     "name": "stderr",
     "output_type": "stream",
     "text": [
      "2025-05-17 15:32:46 - INFO - \n",
      "=== Epoch 17 Summary ===\n",
      "2025-05-17 15:32:46 - INFO - Time: 203.59s\n",
      "2025-05-17 15:32:46 - INFO - Training   - accuracy: 0.9310 - auc: 0.8611 - f1_score: 0.3466 - loss: 0.2032 - precision: 0.6311 - recall: 0.2722 - learning_rate: 0.0000\n",
      "2025-05-17 15:32:46 - INFO - Validation - accuracy: 0.9260 - auc: 0.7513 - f1_score: 0.1387 - loss: 0.2871 - precision: 0.2054 - recall: 0.1174\n",
      "2025-05-17 15:32:46 - INFO - ==================================================\n",
      "\n"
     ]
    },
    {
     "name": "stdout",
     "output_type": "stream",
     "text": [
      "\u001b[1m813/813\u001b[0m \u001b[32m━━━━━━━━━━━━━━━━━━━━\u001b[0m\u001b[37m\u001b[0m \u001b[1m204s\u001b[0m 250ms/step - accuracy: 0.9302 - auc: 0.8567 - f1_score: 0.3361 - loss: 0.2066 - precision: 0.6247 - recall: 0.2638 - val_accuracy: 0.9260 - val_auc: 0.7513 - val_f1_score: 0.1387 - val_loss: 0.2871 - val_precision: 0.2054 - val_recall: 0.1174 - learning_rate: 5.0000e-05\n"
     ]
    },
    {
     "name": "stderr",
     "output_type": "stream",
     "text": [
      "2025-05-17 15:32:46 - INFO - \n",
      "=== Starting Epoch 18 ===\n",
      "\n"
     ]
    },
    {
     "name": "stdout",
     "output_type": "stream",
     "text": [
      "Epoch 18/100\n",
      "\u001b[1m813/813\u001b[0m \u001b[32m━━━━━━━━━━━━━━━━━━━━\u001b[0m\u001b[37m\u001b[0m \u001b[1m0s\u001b[0m 214ms/step - accuracy: 0.9314 - auc: 0.8628 - f1_score: 0.3591 - loss: 0.2008 - precision: 0.6372 - recall: 0.2840  "
     ]
    },
    {
     "name": "stderr",
     "output_type": "stream",
     "text": [
      "2025-05-17 15:36:08 - INFO - \n",
      "=== Epoch 18 Summary ===\n",
      "2025-05-17 15:36:08 - INFO - Time: 201.67s\n",
      "2025-05-17 15:36:08 - INFO - Training   - accuracy: 0.9324 - auc: 0.8678 - f1_score: 0.3701 - loss: 0.1967 - precision: 0.6444 - recall: 0.2929 - learning_rate: 0.0000\n",
      "2025-05-17 15:36:08 - INFO - Validation - accuracy: 0.9222 - auc: 0.7370 - f1_score: 0.1838 - loss: 0.2997 - precision: 0.2240 - recall: 0.1645\n",
      "2025-05-17 15:36:08 - INFO - ==================================================\n",
      "\n"
     ]
    },
    {
     "name": "stdout",
     "output_type": "stream",
     "text": [
      "\u001b[1m813/813\u001b[0m \u001b[32m━━━━━━━━━━━━━━━━━━━━\u001b[0m\u001b[37m\u001b[0m \u001b[1m202s\u001b[0m 248ms/step - accuracy: 0.9314 - auc: 0.8628 - f1_score: 0.3591 - loss: 0.2008 - precision: 0.6372 - recall: 0.2840 - val_accuracy: 0.9222 - val_auc: 0.7370 - val_f1_score: 0.1838 - val_loss: 0.2997 - val_precision: 0.2240 - val_recall: 0.1645 - learning_rate: 5.0000e-05\n"
     ]
    },
    {
     "name": "stderr",
     "output_type": "stream",
     "text": [
      "2025-05-17 15:36:08 - INFO - \n",
      "=== Starting Epoch 19 ===\n",
      "\n"
     ]
    },
    {
     "name": "stdout",
     "output_type": "stream",
     "text": [
      "Epoch 19/100\n",
      "\u001b[1m813/813\u001b[0m \u001b[32m━━━━━━━━━━━━━━━━━━━━\u001b[0m\u001b[37m\u001b[0m \u001b[1m0s\u001b[0m 216ms/step - accuracy: 0.9327 - auc: 0.8734 - f1_score: 0.3896 - loss: 0.1932 - precision: 0.6453 - recall: 0.3109  "
     ]
    },
    {
     "name": "stderr",
     "output_type": "stream",
     "text": [
      "2025-05-17 15:39:30 - INFO - \n",
      "=== Epoch 19 Summary ===\n",
      "2025-05-17 15:39:30 - INFO - Time: 202.25s\n",
      "2025-05-17 15:39:30 - INFO - Training   - accuracy: 0.9337 - auc: 0.8769 - f1_score: 0.3972 - loss: 0.1901 - precision: 0.6520 - recall: 0.3171 - learning_rate: 0.0000\n",
      "2025-05-17 15:39:30 - INFO - Validation - accuracy: 0.9243 - auc: 0.7527 - f1_score: 0.2172 - loss: 0.2849 - precision: 0.2682 - recall: 0.2118\n",
      "2025-05-17 15:39:30 - INFO - ==================================================\n",
      "\n"
     ]
    },
    {
     "name": "stdout",
     "output_type": "stream",
     "text": [
      "\u001b[1m813/813\u001b[0m \u001b[32m━━━━━━━━━━━━━━━━━━━━\u001b[0m\u001b[37m\u001b[0m \u001b[1m202s\u001b[0m 249ms/step - accuracy: 0.9327 - auc: 0.8734 - f1_score: 0.3896 - loss: 0.1932 - precision: 0.6453 - recall: 0.3109 - val_accuracy: 0.9243 - val_auc: 0.7527 - val_f1_score: 0.2172 - val_loss: 0.2849 - val_precision: 0.2682 - val_recall: 0.2118 - learning_rate: 5.0000e-05\n"
     ]
    },
    {
     "name": "stderr",
     "output_type": "stream",
     "text": [
      "2025-05-17 15:39:31 - INFO - \n",
      "=== Starting Epoch 20 ===\n",
      "\n"
     ]
    },
    {
     "name": "stdout",
     "output_type": "stream",
     "text": [
      "Epoch 20/100\n",
      "\u001b[1m813/813\u001b[0m \u001b[32m━━━━━━━━━━━━━━━━━━━━\u001b[0m\u001b[37m\u001b[0m \u001b[1m0s\u001b[0m 213ms/step - accuracy: 0.9347 - auc: 0.8804 - f1_score: 0.4155 - loss: 0.1861 - precision: 0.6624 - recall: 0.3328  "
     ]
    },
    {
     "name": "stderr",
     "output_type": "stream",
     "text": [
      "2025-05-17 15:42:53 - INFO - \n",
      "=== Epoch 20 Summary ===\n",
      "2025-05-17 15:42:53 - INFO - Time: 202.29s\n",
      "2025-05-17 15:42:53 - INFO - Training   - accuracy: 0.9353 - auc: 0.8838 - f1_score: 0.4211 - loss: 0.1841 - precision: 0.6668 - recall: 0.3382 - learning_rate: 0.0000\n",
      "2025-05-17 15:42:53 - INFO - Validation - accuracy: 0.9339 - auc: 0.7147 - f1_score: 0.1756 - loss: 0.2764 - precision: 0.3218 - recall: 0.1747\n",
      "2025-05-17 15:42:53 - INFO - ==================================================\n",
      "\n"
     ]
    },
    {
     "name": "stdout",
     "output_type": "stream",
     "text": [
      "\u001b[1m813/813\u001b[0m \u001b[32m━━━━━━━━━━━━━━━━━━━━\u001b[0m\u001b[37m\u001b[0m \u001b[1m202s\u001b[0m 249ms/step - accuracy: 0.9347 - auc: 0.8804 - f1_score: 0.4155 - loss: 0.1861 - precision: 0.6624 - recall: 0.3328 - val_accuracy: 0.9339 - val_auc: 0.7147 - val_f1_score: 0.1756 - val_loss: 0.2764 - val_precision: 0.3218 - val_recall: 0.1747 - learning_rate: 5.0000e-05\n"
     ]
    },
    {
     "name": "stderr",
     "output_type": "stream",
     "text": [
      "2025-05-17 15:42:53 - INFO - \n",
      "=== Starting Epoch 21 ===\n",
      "\n"
     ]
    },
    {
     "name": "stdout",
     "output_type": "stream",
     "text": [
      "Epoch 21/100\n",
      "\u001b[1m813/813\u001b[0m \u001b[32m━━━━━━━━━━━━━━━━━━━━\u001b[0m\u001b[37m\u001b[0m \u001b[1m0s\u001b[0m 212ms/step - accuracy: 0.9360 - auc: 0.8863 - f1_score: 0.4347 - loss: 0.1805 - precision: 0.6727 - recall: 0.3511  "
     ]
    },
    {
     "name": "stderr",
     "output_type": "stream",
     "text": [
      "2025-05-17 15:46:10 - INFO - \n",
      "=== Epoch 21 Summary ===\n",
      "2025-05-17 15:46:10 - INFO - Time: 197.54s\n",
      "2025-05-17 15:46:10 - INFO - Training   - accuracy: 0.9368 - auc: 0.8902 - f1_score: 0.4428 - loss: 0.1785 - precision: 0.6772 - recall: 0.3588 - learning_rate: 0.0000\n",
      "2025-05-17 15:46:10 - INFO - Validation - accuracy: 0.9168 - auc: 0.7042 - f1_score: 0.1314 - loss: 0.3594 - precision: 0.1421 - recall: 0.0998\n",
      "2025-05-17 15:46:10 - INFO - ==================================================\n",
      "\n"
     ]
    },
    {
     "name": "stdout",
     "output_type": "stream",
     "text": [
      "\u001b[1m813/813\u001b[0m \u001b[32m━━━━━━━━━━━━━━━━━━━━\u001b[0m\u001b[37m\u001b[0m \u001b[1m198s\u001b[0m 243ms/step - accuracy: 0.9360 - auc: 0.8863 - f1_score: 0.4347 - loss: 0.1805 - precision: 0.6727 - recall: 0.3511 - val_accuracy: 0.9168 - val_auc: 0.7042 - val_f1_score: 0.1314 - val_loss: 0.3594 - val_precision: 0.1421 - val_recall: 0.0998 - learning_rate: 5.0000e-05\n"
     ]
    },
    {
     "name": "stderr",
     "output_type": "stream",
     "text": [
      "2025-05-17 15:46:10 - INFO - \n",
      "=== Starting Epoch 22 ===\n",
      "\n"
     ]
    },
    {
     "name": "stdout",
     "output_type": "stream",
     "text": [
      "Epoch 22/100\n",
      "\u001b[1m813/813\u001b[0m \u001b[32m━━━━━━━━━━━━━━━━━━━━\u001b[0m\u001b[37m\u001b[0m \u001b[1m0s\u001b[0m 217ms/step - accuracy: 0.9371 - auc: 0.8940 - f1_score: 0.4563 - loss: 0.1758 - precision: 0.6815 - recall: 0.3709  \n",
      "Epoch 22: ReduceLROnPlateau reducing learning rate to 2.499999936844688e-05.\n"
     ]
    },
    {
     "name": "stderr",
     "output_type": "stream",
     "text": [
      "2025-05-17 15:49:32 - INFO - \n",
      "=== Epoch 22 Summary ===\n",
      "2025-05-17 15:49:32 - INFO - Time: 201.48s\n",
      "2025-05-17 15:49:32 - INFO - Training   - accuracy: 0.9379 - auc: 0.8970 - f1_score: 0.4620 - loss: 0.1734 - precision: 0.6836 - recall: 0.3768 - learning_rate: 0.0000\n",
      "2025-05-17 15:49:32 - INFO - Validation - accuracy: 0.9234 - auc: 0.7217 - f1_score: 0.2147 - loss: 0.3025 - precision: 0.2814 - recall: 0.2460\n",
      "2025-05-17 15:49:32 - INFO - ==================================================\n",
      "\n"
     ]
    },
    {
     "name": "stdout",
     "output_type": "stream",
     "text": [
      "\u001b[1m813/813\u001b[0m \u001b[32m━━━━━━━━━━━━━━━━━━━━\u001b[0m\u001b[37m\u001b[0m \u001b[1m201s\u001b[0m 248ms/step - accuracy: 0.9371 - auc: 0.8940 - f1_score: 0.4563 - loss: 0.1758 - precision: 0.6815 - recall: 0.3709 - val_accuracy: 0.9234 - val_auc: 0.7217 - val_f1_score: 0.2147 - val_loss: 0.3025 - val_precision: 0.2814 - val_recall: 0.2460 - learning_rate: 5.0000e-05\n"
     ]
    },
    {
     "name": "stderr",
     "output_type": "stream",
     "text": [
      "2025-05-17 15:49:32 - INFO - \n",
      "=== Starting Epoch 23 ===\n",
      "\n"
     ]
    },
    {
     "name": "stdout",
     "output_type": "stream",
     "text": [
      "Epoch 23/100\n",
      "\u001b[1m813/813\u001b[0m \u001b[32m━━━━━━━━━━━━━━━━━━━━\u001b[0m\u001b[37m\u001b[0m \u001b[1m0s\u001b[0m 213ms/step - accuracy: 0.9413 - auc: 0.9084 - f1_score: 0.5027 - loss: 0.1642 - precision: 0.7156 - recall: 0.4138  "
     ]
    },
    {
     "name": "stderr",
     "output_type": "stream",
     "text": [
      "2025-05-17 15:52:52 - INFO - \n",
      "=== Epoch 23 Summary ===\n",
      "2025-05-17 15:52:52 - INFO - Time: 200.18s\n",
      "2025-05-17 15:52:52 - INFO - Training   - accuracy: 0.9432 - auc: 0.9146 - f1_score: 0.5202 - loss: 0.1592 - precision: 0.7280 - recall: 0.4308 - learning_rate: 0.0000\n",
      "2025-05-17 15:52:52 - INFO - Validation - accuracy: 0.9357 - auc: 0.7346 - f1_score: 0.1705 - loss: 0.2758 - precision: 0.3284 - recall: 0.1545\n",
      "2025-05-17 15:52:52 - INFO - ==================================================\n",
      "\n"
     ]
    },
    {
     "name": "stdout",
     "output_type": "stream",
     "text": [
      "\u001b[1m813/813\u001b[0m \u001b[32m━━━━━━━━━━━━━━━━━━━━\u001b[0m\u001b[37m\u001b[0m \u001b[1m200s\u001b[0m 246ms/step - accuracy: 0.9413 - auc: 0.9084 - f1_score: 0.5027 - loss: 0.1642 - precision: 0.7157 - recall: 0.4138 - val_accuracy: 0.9357 - val_auc: 0.7346 - val_f1_score: 0.1705 - val_loss: 0.2758 - val_precision: 0.3284 - val_recall: 0.1545 - learning_rate: 2.5000e-05\n"
     ]
    },
    {
     "name": "stderr",
     "output_type": "stream",
     "text": [
      "2025-05-17 15:52:52 - INFO - \n",
      "=== Starting Epoch 24 ===\n",
      "\n"
     ]
    },
    {
     "name": "stdout",
     "output_type": "stream",
     "text": [
      "Epoch 24/100\n",
      "\u001b[1m813/813\u001b[0m \u001b[32m━━━━━━━━━━━━━━━━━━━━\u001b[0m\u001b[37m\u001b[0m \u001b[1m0s\u001b[0m 212ms/step - accuracy: 0.9440 - auc: 0.9191 - f1_score: 0.5378 - loss: 0.1562 - precision: 0.7336 - recall: 0.4489  "
     ]
    },
    {
     "name": "stderr",
     "output_type": "stream",
     "text": [
      "2025-05-17 15:56:09 - INFO - \n",
      "=== Epoch 24 Summary ===\n",
      "2025-05-17 15:56:09 - INFO - Time: 196.92s\n",
      "2025-05-17 15:56:09 - INFO - Training   - accuracy: 0.9454 - auc: 0.9226 - f1_score: 0.5486 - loss: 0.1534 - precision: 0.7394 - recall: 0.4603 - learning_rate: 0.0000\n",
      "2025-05-17 15:56:09 - INFO - Validation - accuracy: 0.9382 - auc: 0.7328 - f1_score: 0.2044 - loss: 0.2655 - precision: 0.3745 - recall: 0.1722\n",
      "2025-05-17 15:56:09 - INFO - ==================================================\n",
      "\n"
     ]
    },
    {
     "name": "stdout",
     "output_type": "stream",
     "text": [
      "\u001b[1m813/813\u001b[0m \u001b[32m━━━━━━━━━━━━━━━━━━━━\u001b[0m\u001b[37m\u001b[0m \u001b[1m197s\u001b[0m 242ms/step - accuracy: 0.9440 - auc: 0.9191 - f1_score: 0.5378 - loss: 0.1562 - precision: 0.7336 - recall: 0.4489 - val_accuracy: 0.9382 - val_auc: 0.7328 - val_f1_score: 0.2044 - val_loss: 0.2655 - val_precision: 0.3745 - val_recall: 0.1722 - learning_rate: 2.5000e-05\n"
     ]
    },
    {
     "name": "stderr",
     "output_type": "stream",
     "text": [
      "2025-05-17 15:56:09 - INFO - \n",
      "=== Starting Epoch 25 ===\n",
      "\n"
     ]
    },
    {
     "name": "stdout",
     "output_type": "stream",
     "text": [
      "Epoch 25/100\n",
      "\u001b[1m813/813\u001b[0m \u001b[32m━━━━━━━━━━━━━━━━━━━━\u001b[0m\u001b[37m\u001b[0m \u001b[1m0s\u001b[0m 216ms/step - accuracy: 0.9465 - auc: 0.9252 - f1_score: 0.5651 - loss: 0.1505 - precision: 0.7465 - recall: 0.4770  \n",
      "Epoch 25: ReduceLROnPlateau reducing learning rate to 1.249999968422344e-05.\n"
     ]
    },
    {
     "name": "stderr",
     "output_type": "stream",
     "text": [
      "2025-05-17 15:59:29 - INFO - \n",
      "=== Epoch 25 Summary ===\n",
      "2025-05-17 15:59:29 - INFO - Time: 200.12s\n",
      "2025-05-17 15:59:29 - INFO - Training   - accuracy: 0.9473 - auc: 0.9274 - f1_score: 0.5723 - loss: 0.1487 - precision: 0.7514 - recall: 0.4842 - learning_rate: 0.0000\n",
      "2025-05-17 15:59:29 - INFO - Validation - accuracy: 0.9194 - auc: 0.7108 - f1_score: 0.1856 - loss: 0.3243 - precision: 0.2317 - recall: 0.1969\n",
      "2025-05-17 15:59:29 - INFO - ==================================================\n",
      "\n"
     ]
    },
    {
     "name": "stdout",
     "output_type": "stream",
     "text": [
      "\u001b[1m813/813\u001b[0m \u001b[32m━━━━━━━━━━━━━━━━━━━━\u001b[0m\u001b[37m\u001b[0m \u001b[1m200s\u001b[0m 246ms/step - accuracy: 0.9465 - auc: 0.9252 - f1_score: 0.5651 - loss: 0.1505 - precision: 0.7465 - recall: 0.4770 - val_accuracy: 0.9194 - val_auc: 0.7108 - val_f1_score: 0.1856 - val_loss: 0.3243 - val_precision: 0.2317 - val_recall: 0.1969 - learning_rate: 2.5000e-05\n"
     ]
    },
    {
     "name": "stderr",
     "output_type": "stream",
     "text": [
      "2025-05-17 15:59:29 - INFO - \n",
      "=== Starting Epoch 26 ===\n",
      "\n"
     ]
    },
    {
     "name": "stdout",
     "output_type": "stream",
     "text": [
      "Epoch 26/100\n",
      "\u001b[1m813/813\u001b[0m \u001b[32m━━━━━━━━━━━━━━━━━━━━\u001b[0m\u001b[37m\u001b[0m \u001b[1m0s\u001b[0m 213ms/step - accuracy: 0.9490 - auc: 0.9335 - f1_score: 0.5900 - loss: 0.1442 - precision: 0.7614 - recall: 0.5032  "
     ]
    },
    {
     "name": "stderr",
     "output_type": "stream",
     "text": [
      "2025-05-17 16:02:49 - INFO - \n",
      "=== Epoch 26 Summary ===\n",
      "2025-05-17 16:02:49 - INFO - Time: 199.55s\n",
      "2025-05-17 16:02:49 - INFO - Training   - accuracy: 0.9506 - auc: 0.9371 - f1_score: 0.6030 - loss: 0.1412 - precision: 0.7732 - recall: 0.5152 - learning_rate: 0.0000\n",
      "2025-05-17 16:02:49 - INFO - Validation - accuracy: 0.9296 - auc: 0.7338 - f1_score: 0.2578 - loss: 0.2784 - precision: 0.3153 - recall: 0.2317\n",
      "2025-05-17 16:02:49 - INFO - ==================================================\n",
      "\n"
     ]
    },
    {
     "name": "stdout",
     "output_type": "stream",
     "text": [
      "\u001b[1m813/813\u001b[0m \u001b[32m━━━━━━━━━━━━━━━━━━━━\u001b[0m\u001b[37m\u001b[0m \u001b[1m200s\u001b[0m 246ms/step - accuracy: 0.9490 - auc: 0.9335 - f1_score: 0.5900 - loss: 0.1442 - precision: 0.7614 - recall: 0.5032 - val_accuracy: 0.9296 - val_auc: 0.7338 - val_f1_score: 0.2578 - val_loss: 0.2784 - val_precision: 0.3153 - val_recall: 0.2317 - learning_rate: 1.2500e-05\n"
     ]
    },
    {
     "name": "stderr",
     "output_type": "stream",
     "text": [
      "2025-05-17 16:02:49 - INFO - \n",
      "=== Starting Epoch 27 ===\n",
      "\n"
     ]
    },
    {
     "name": "stdout",
     "output_type": "stream",
     "text": [
      "Epoch 27/100\n",
      "\u001b[1m813/813\u001b[0m \u001b[32m━━━━━━━━━━━━━━━━━━━━\u001b[0m\u001b[37m\u001b[0m \u001b[1m0s\u001b[0m 212ms/step - accuracy: 0.9510 - auc: 0.9391 - f1_score: 0.6142 - loss: 0.1395 - precision: 0.7766 - recall: 0.5270  "
     ]
    },
    {
     "name": "stderr",
     "output_type": "stream",
     "text": [
      "2025-05-17 16:06:06 - INFO - \n",
      "=== Epoch 27 Summary ===\n",
      "2025-05-17 16:06:06 - INFO - Time: 196.76s\n",
      "2025-05-17 16:06:06 - INFO - Training   - accuracy: 0.9520 - auc: 0.9411 - f1_score: 0.6208 - loss: 0.1375 - precision: 0.7809 - recall: 0.5345 - learning_rate: 0.0000\n",
      "2025-05-17 16:06:06 - INFO - Validation - accuracy: 0.9254 - auc: 0.7147 - f1_score: 0.2323 - loss: 0.2964 - precision: 0.2745 - recall: 0.2116\n",
      "2025-05-17 16:06:06 - INFO - ==================================================\n",
      "\n"
     ]
    },
    {
     "name": "stdout",
     "output_type": "stream",
     "text": [
      "\u001b[1m813/813\u001b[0m \u001b[32m━━━━━━━━━━━━━━━━━━━━\u001b[0m\u001b[37m\u001b[0m \u001b[1m197s\u001b[0m 242ms/step - accuracy: 0.9510 - auc: 0.9391 - f1_score: 0.6142 - loss: 0.1395 - precision: 0.7766 - recall: 0.5270 - val_accuracy: 0.9254 - val_auc: 0.7147 - val_f1_score: 0.2323 - val_loss: 0.2964 - val_precision: 0.2745 - val_recall: 0.2116 - learning_rate: 1.2500e-05\n"
     ]
    },
    {
     "name": "stderr",
     "output_type": "stream",
     "text": [
      "2025-05-17 16:06:06 - INFO - \n",
      "=== Starting Epoch 28 ===\n",
      "\n"
     ]
    },
    {
     "name": "stdout",
     "output_type": "stream",
     "text": [
      "Epoch 28/100\n",
      "\u001b[1m813/813\u001b[0m \u001b[32m━━━━━━━━━━━━━━━━━━━━\u001b[0m\u001b[37m\u001b[0m \u001b[1m0s\u001b[0m 217ms/step - accuracy: 0.9530 - auc: 0.9433 - f1_score: 0.6304 - loss: 0.1364 - precision: 0.7855 - recall: 0.5443  "
     ]
    },
    {
     "name": "stderr",
     "output_type": "stream",
     "text": [
      "2025-05-17 16:09:26 - INFO - \n",
      "=== Epoch 28 Summary ===\n",
      "2025-05-17 16:09:26 - INFO - Time: 200.39s\n",
      "2025-05-17 16:09:26 - INFO - Training   - accuracy: 0.9535 - auc: 0.9451 - f1_score: 0.6347 - loss: 0.1347 - precision: 0.7869 - recall: 0.5502 - learning_rate: 0.0000\n",
      "2025-05-17 16:09:26 - INFO - Validation - accuracy: 0.9330 - auc: 0.7253 - f1_score: 0.2349 - loss: 0.2791 - precision: 0.3380 - recall: 0.2191\n",
      "2025-05-17 16:09:26 - INFO - ==================================================\n",
      "\n"
     ]
    },
    {
     "name": "stdout",
     "output_type": "stream",
     "text": [
      "\u001b[1m813/813\u001b[0m \u001b[32m━━━━━━━━━━━━━━━━━━━━\u001b[0m\u001b[37m\u001b[0m \u001b[1m200s\u001b[0m 247ms/step - accuracy: 0.9530 - auc: 0.9433 - f1_score: 0.6304 - loss: 0.1364 - precision: 0.7855 - recall: 0.5443 - val_accuracy: 0.9330 - val_auc: 0.7253 - val_f1_score: 0.2349 - val_loss: 0.2791 - val_precision: 0.3380 - val_recall: 0.2191 - learning_rate: 1.2500e-05\n"
     ]
    },
    {
     "name": "stderr",
     "output_type": "stream",
     "text": [
      "2025-05-17 16:09:26 - INFO - \n",
      "=== Starting Epoch 29 ===\n",
      "\n"
     ]
    },
    {
     "name": "stdout",
     "output_type": "stream",
     "text": [
      "Epoch 29/100\n",
      "\u001b[1m813/813\u001b[0m \u001b[32m━━━━━━━━━━━━━━━━━━━━\u001b[0m\u001b[37m\u001b[0m \u001b[1m0s\u001b[0m 213ms/step - accuracy: 0.9542 - auc: 0.9465 - f1_score: 0.6454 - loss: 0.1337 - precision: 0.7936 - recall: 0.5611  "
     ]
    },
    {
     "name": "stderr",
     "output_type": "stream",
     "text": [
      "2025-05-17 16:12:45 - INFO - \n",
      "=== Epoch 29 Summary ===\n",
      "2025-05-17 16:12:45 - INFO - Time: 199.32s\n",
      "2025-05-17 16:12:45 - INFO - Training   - accuracy: 0.9547 - auc: 0.9477 - f1_score: 0.6484 - loss: 0.1322 - precision: 0.7951 - recall: 0.5649 - learning_rate: 0.0000\n",
      "2025-05-17 16:12:45 - INFO - Validation - accuracy: 0.9274 - auc: 0.7342 - f1_score: 0.2841 - loss: 0.2815 - precision: 0.3224 - recall: 0.2826\n",
      "2025-05-17 16:12:45 - INFO - ==================================================\n",
      "\n"
     ]
    },
    {
     "name": "stdout",
     "output_type": "stream",
     "text": [
      "\u001b[1m813/813\u001b[0m \u001b[32m━━━━━━━━━━━━━━━━━━━━\u001b[0m\u001b[37m\u001b[0m \u001b[1m199s\u001b[0m 245ms/step - accuracy: 0.9542 - auc: 0.9465 - f1_score: 0.6454 - loss: 0.1337 - precision: 0.7936 - recall: 0.5611 - val_accuracy: 0.9274 - val_auc: 0.7342 - val_f1_score: 0.2841 - val_loss: 0.2815 - val_precision: 0.3224 - val_recall: 0.2826 - learning_rate: 1.2500e-05\n"
     ]
    },
    {
     "name": "stderr",
     "output_type": "stream",
     "text": [
      "2025-05-17 16:12:45 - INFO - \n",
      "=== Starting Epoch 30 ===\n",
      "\n"
     ]
    },
    {
     "name": "stdout",
     "output_type": "stream",
     "text": [
      "Epoch 30/100\n",
      "\u001b[1m813/813\u001b[0m \u001b[32m━━━━━━━━━━━━━━━━━━━━\u001b[0m\u001b[37m\u001b[0m \u001b[1m0s\u001b[0m 223ms/step - accuracy: 0.9553 - auc: 0.9498 - f1_score: 0.6535 - loss: 0.1314 - precision: 0.7994 - recall: 0.5694  "
     ]
    },
    {
     "name": "stderr",
     "output_type": "stream",
     "text": [
      "2025-05-17 16:16:11 - INFO - \n",
      "=== Epoch 30 Summary ===\n",
      "2025-05-17 16:16:11 - INFO - Time: 205.90s\n",
      "2025-05-17 16:16:11 - INFO - Training   - accuracy: 0.9557 - auc: 0.9510 - f1_score: 0.6568 - loss: 0.1305 - precision: 0.8000 - recall: 0.5738 - learning_rate: 0.0000\n",
      "2025-05-17 16:16:11 - INFO - Validation - accuracy: 0.9316 - auc: 0.7218 - f1_score: 0.1992 - loss: 0.2998 - precision: 0.2936 - recall: 0.1678\n",
      "2025-05-17 16:16:11 - INFO - ==================================================\n",
      "\n"
     ]
    },
    {
     "name": "stdout",
     "output_type": "stream",
     "text": [
      "\u001b[1m813/813\u001b[0m \u001b[32m━━━━━━━━━━━━━━━━━━━━\u001b[0m\u001b[37m\u001b[0m \u001b[1m206s\u001b[0m 253ms/step - accuracy: 0.9553 - auc: 0.9499 - f1_score: 0.6536 - loss: 0.1314 - precision: 0.7994 - recall: 0.5694 - val_accuracy: 0.9316 - val_auc: 0.7218 - val_f1_score: 0.1992 - val_loss: 0.2998 - val_precision: 0.2936 - val_recall: 0.1678 - learning_rate: 1.2500e-05\n"
     ]
    },
    {
     "name": "stderr",
     "output_type": "stream",
     "text": [
      "2025-05-17 16:16:11 - INFO - \n",
      "=== Starting Epoch 31 ===\n",
      "\n"
     ]
    },
    {
     "name": "stdout",
     "output_type": "stream",
     "text": [
      "Epoch 31/100\n",
      "\u001b[1m813/813\u001b[0m \u001b[32m━━━━━━━━━━━━━━━━━━━━\u001b[0m\u001b[37m\u001b[0m \u001b[1m0s\u001b[0m 215ms/step - accuracy: 0.9563 - auc: 0.9525 - f1_score: 0.6652 - loss: 0.1293 - precision: 0.8037 - recall: 0.5835  "
     ]
    },
    {
     "name": "stderr",
     "output_type": "stream",
     "text": [
      "2025-05-17 16:19:30 - INFO - \n",
      "=== Epoch 31 Summary ===\n",
      "2025-05-17 16:19:30 - INFO - Time: 199.09s\n",
      "2025-05-17 16:19:30 - INFO - Training   - accuracy: 0.9567 - auc: 0.9529 - f1_score: 0.6676 - loss: 0.1284 - precision: 0.8058 - recall: 0.5857 - learning_rate: 0.0000\n",
      "2025-05-17 16:19:30 - INFO - Validation - accuracy: 0.9335 - auc: 0.7073 - f1_score: 0.2417 - loss: 0.2887 - precision: 0.3395 - recall: 0.2118\n",
      "2025-05-17 16:19:30 - INFO - ==================================================\n",
      "\n"
     ]
    },
    {
     "name": "stdout",
     "output_type": "stream",
     "text": [
      "\u001b[1m813/813\u001b[0m \u001b[32m━━━━━━━━━━━━━━━━━━━━\u001b[0m\u001b[37m\u001b[0m \u001b[1m199s\u001b[0m 245ms/step - accuracy: 0.9563 - auc: 0.9525 - f1_score: 0.6652 - loss: 0.1293 - precision: 0.8037 - recall: 0.5835 - val_accuracy: 0.9335 - val_auc: 0.7073 - val_f1_score: 0.2417 - val_loss: 0.2887 - val_precision: 0.3395 - val_recall: 0.2118 - learning_rate: 1.2500e-05\n"
     ]
    },
    {
     "name": "stderr",
     "output_type": "stream",
     "text": [
      "2025-05-17 16:19:30 - INFO - \n",
      "=== Starting Epoch 32 ===\n",
      "\n"
     ]
    },
    {
     "name": "stdout",
     "output_type": "stream",
     "text": [
      "Epoch 32/100\n",
      "\u001b[1m813/813\u001b[0m \u001b[32m━━━━━━━━━━━━━━━━━━━━\u001b[0m\u001b[37m\u001b[0m \u001b[1m0s\u001b[0m 212ms/step - accuracy: 0.9576 - auc: 0.9546 - f1_score: 0.6749 - loss: 0.1274 - precision: 0.8095 - recall: 0.5938  \n",
      "Epoch 32: ReduceLROnPlateau reducing learning rate to 6.24999984211172e-06.\n"
     ]
    },
    {
     "name": "stderr",
     "output_type": "stream",
     "text": [
      "2025-05-17 16:22:48 - INFO - \n",
      "=== Epoch 32 Summary ===\n",
      "2025-05-17 16:22:48 - INFO - Time: 197.28s\n",
      "2025-05-17 16:22:48 - INFO - Training   - accuracy: 0.9578 - auc: 0.9554 - f1_score: 0.6774 - loss: 0.1267 - precision: 0.8111 - recall: 0.5965 - learning_rate: 0.0000\n",
      "2025-05-17 16:22:48 - INFO - Validation - accuracy: 0.9318 - auc: 0.7183 - f1_score: 0.2470 - loss: 0.2939 - precision: 0.3255 - recall: 0.2160\n",
      "2025-05-17 16:22:48 - INFO - ==================================================\n",
      "\n"
     ]
    },
    {
     "name": "stdout",
     "output_type": "stream",
     "text": [
      "\u001b[1m813/813\u001b[0m \u001b[32m━━━━━━━━━━━━━━━━━━━━\u001b[0m\u001b[37m\u001b[0m \u001b[1m197s\u001b[0m 243ms/step - accuracy: 0.9576 - auc: 0.9546 - f1_score: 0.6749 - loss: 0.1274 - precision: 0.8095 - recall: 0.5938 - val_accuracy: 0.9318 - val_auc: 0.7183 - val_f1_score: 0.2470 - val_loss: 0.2939 - val_precision: 0.3255 - val_recall: 0.2160 - learning_rate: 1.2500e-05\n"
     ]
    },
    {
     "name": "stderr",
     "output_type": "stream",
     "text": [
      "2025-05-17 16:22:48 - INFO - \n",
      "=== Starting Epoch 33 ===\n",
      "\n"
     ]
    },
    {
     "name": "stdout",
     "output_type": "stream",
     "text": [
      "Epoch 33/100\n",
      "\u001b[1m813/813\u001b[0m \u001b[32m━━━━━━━━━━━━━━━━━━━━\u001b[0m\u001b[37m\u001b[0m \u001b[1m0s\u001b[0m 223ms/step - accuracy: 0.9593 - auc: 0.9578 - f1_score: 0.6918 - loss: 0.1242 - precision: 0.8191 - recall: 0.6134  "
     ]
    },
    {
     "name": "stderr",
     "output_type": "stream",
     "text": [
      "2025-05-17 16:26:04 - INFO - \n",
      "=== Epoch 33 Summary ===\n",
      "2025-05-17 16:26:04 - INFO - Time: 196.13s\n",
      "2025-05-17 16:26:04 - INFO - Training   - accuracy: 0.9602 - auc: 0.9599 - f1_score: 0.6985 - loss: 0.1224 - precision: 0.8252 - recall: 0.6198 - learning_rate: 0.0000\n",
      "2025-05-17 16:26:04 - INFO - Validation - accuracy: 0.9340 - auc: 0.7158 - f1_score: 0.2525 - loss: 0.2832 - precision: 0.3481 - recall: 0.2198\n",
      "2025-05-17 16:26:04 - INFO - ==================================================\n",
      "\n"
     ]
    },
    {
     "name": "stdout",
     "output_type": "stream",
     "text": [
      "\u001b[1m813/813\u001b[0m \u001b[32m━━━━━━━━━━━━━━━━━━━━\u001b[0m\u001b[37m\u001b[0m \u001b[1m196s\u001b[0m 241ms/step - accuracy: 0.9593 - auc: 0.9578 - f1_score: 0.6918 - loss: 0.1242 - precision: 0.8191 - recall: 0.6134 - val_accuracy: 0.9340 - val_auc: 0.7158 - val_f1_score: 0.2525 - val_loss: 0.2832 - val_precision: 0.3481 - val_recall: 0.2198 - learning_rate: 6.2500e-06\n"
     ]
    },
    {
     "name": "stderr",
     "output_type": "stream",
     "text": [
      "2025-05-17 16:26:04 - INFO - \n",
      "=== Starting Epoch 34 ===\n",
      "\n"
     ]
    },
    {
     "name": "stdout",
     "output_type": "stream",
     "text": [
      "Epoch 34/100\n",
      "\u001b[1m813/813\u001b[0m \u001b[32m━━━━━━━━━━━━━━━━━━━━\u001b[0m\u001b[37m\u001b[0m \u001b[1m0s\u001b[0m 233ms/step - accuracy: 0.9611 - auc: 0.9614 - f1_score: 0.7075 - loss: 0.1209 - precision: 0.8310 - recall: 0.6293  "
     ]
    },
    {
     "name": "stderr",
     "output_type": "stream",
     "text": [
      "2025-05-17 16:29:28 - INFO - \n",
      "=== Epoch 34 Summary ===\n",
      "2025-05-17 16:29:28 - INFO - Time: 204.09s\n",
      "2025-05-17 16:29:28 - INFO - Training   - accuracy: 0.9615 - auc: 0.9626 - f1_score: 0.7112 - loss: 0.1199 - precision: 0.8317 - recall: 0.6344 - learning_rate: 0.0000\n",
      "2025-05-17 16:29:28 - INFO - Validation - accuracy: 0.9351 - auc: 0.7130 - f1_score: 0.2374 - loss: 0.2865 - precision: 0.3522 - recall: 0.2042\n",
      "2025-05-17 16:29:28 - INFO - ==================================================\n",
      "\n"
     ]
    },
    {
     "name": "stdout",
     "output_type": "stream",
     "text": [
      "\u001b[1m813/813\u001b[0m \u001b[32m━━━━━━━━━━━━━━━━━━━━\u001b[0m\u001b[37m\u001b[0m \u001b[1m204s\u001b[0m 251ms/step - accuracy: 0.9611 - auc: 0.9614 - f1_score: 0.7075 - loss: 0.1209 - precision: 0.8310 - recall: 0.6293 - val_accuracy: 0.9351 - val_auc: 0.7130 - val_f1_score: 0.2374 - val_loss: 0.2865 - val_precision: 0.3522 - val_recall: 0.2042 - learning_rate: 6.2500e-06\n"
     ]
    },
    {
     "name": "stderr",
     "output_type": "stream",
     "text": [
      "2025-05-17 16:29:28 - INFO - \n",
      "=== Starting Epoch 35 ===\n",
      "\n"
     ]
    },
    {
     "name": "stdout",
     "output_type": "stream",
     "text": [
      "Epoch 35/100\n",
      "\u001b[1m813/813\u001b[0m \u001b[32m━━━━━━━━━━━━━━━━━━━━\u001b[0m\u001b[37m\u001b[0m \u001b[1m0s\u001b[0m 243ms/step - accuracy: 0.9618 - auc: 0.9618 - f1_score: 0.7130 - loss: 0.1200 - precision: 0.8305 - recall: 0.6375  \n",
      "Epoch 35: ReduceLROnPlateau reducing learning rate to 3.12499992105586e-06.\n"
     ]
    },
    {
     "name": "stderr",
     "output_type": "stream",
     "text": [
      "2025-05-17 16:33:00 - INFO - \n",
      "=== Epoch 35 Summary ===\n",
      "2025-05-17 16:33:00 - INFO - Time: 212.34s\n",
      "2025-05-17 16:33:00 - INFO - Training   - accuracy: 0.9623 - auc: 0.9634 - f1_score: 0.7173 - loss: 0.1190 - precision: 0.8342 - recall: 0.6420 - learning_rate: 0.0000\n",
      "2025-05-17 16:33:00 - INFO - Validation - accuracy: 0.9309 - auc: 0.7110 - f1_score: 0.2601 - loss: 0.2969 - precision: 0.3230 - recall: 0.2266\n",
      "2025-05-17 16:33:00 - INFO - ==================================================\n",
      "\n"
     ]
    },
    {
     "name": "stdout",
     "output_type": "stream",
     "text": [
      "\u001b[1m813/813\u001b[0m \u001b[32m━━━━━━━━━━━━━━━━━━━━\u001b[0m\u001b[37m\u001b[0m \u001b[1m212s\u001b[0m 261ms/step - accuracy: 0.9618 - auc: 0.9618 - f1_score: 0.7130 - loss: 0.1200 - precision: 0.8306 - recall: 0.6375 - val_accuracy: 0.9309 - val_auc: 0.7110 - val_f1_score: 0.2601 - val_loss: 0.2969 - val_precision: 0.3230 - val_recall: 0.2266 - learning_rate: 6.2500e-06\n"
     ]
    },
    {
     "name": "stderr",
     "output_type": "stream",
     "text": [
      "2025-05-17 16:33:00 - INFO - \n",
      "=== Starting Epoch 36 ===\n",
      "\n"
     ]
    },
    {
     "name": "stdout",
     "output_type": "stream",
     "text": [
      "Epoch 36/100\n",
      "\u001b[1m813/813\u001b[0m \u001b[32m━━━━━━━━━━━━━━━━━━━━\u001b[0m\u001b[37m\u001b[0m \u001b[1m0s\u001b[0m 233ms/step - accuracy: 0.9627 - auc: 0.9643 - f1_score: 0.7230 - loss: 0.1180 - precision: 0.8398 - recall: 0.6469  "
     ]
    },
    {
     "name": "stderr",
     "output_type": "stream",
     "text": [
      "2025-05-17 16:36:25 - INFO - \n",
      "=== Epoch 36 Summary ===\n",
      "2025-05-17 16:36:25 - INFO - Time: 204.36s\n",
      "2025-05-17 16:36:25 - INFO - Training   - accuracy: 0.9635 - auc: 0.9655 - f1_score: 0.7280 - loss: 0.1169 - precision: 0.8432 - recall: 0.6530 - learning_rate: 0.0000\n",
      "2025-05-17 16:36:25 - INFO - Validation - accuracy: 0.9331 - auc: 0.7095 - f1_score: 0.2709 - loss: 0.2894 - precision: 0.3456 - recall: 0.2323\n",
      "2025-05-17 16:36:25 - INFO - ==================================================\n",
      "\n"
     ]
    },
    {
     "name": "stdout",
     "output_type": "stream",
     "text": [
      "\u001b[1m813/813\u001b[0m \u001b[32m━━━━━━━━━━━━━━━━━━━━\u001b[0m\u001b[37m\u001b[0m \u001b[1m204s\u001b[0m 251ms/step - accuracy: 0.9627 - auc: 0.9643 - f1_score: 0.7230 - loss: 0.1180 - precision: 0.8398 - recall: 0.6469 - val_accuracy: 0.9331 - val_auc: 0.7095 - val_f1_score: 0.2709 - val_loss: 0.2894 - val_precision: 0.3456 - val_recall: 0.2323 - learning_rate: 3.1250e-06\n"
     ]
    },
    {
     "name": "stderr",
     "output_type": "stream",
     "text": [
      "2025-05-17 16:36:25 - INFO - \n",
      "=== Starting Epoch 37 ===\n",
      "\n"
     ]
    },
    {
     "name": "stdout",
     "output_type": "stream",
     "text": [
      "Epoch 37/100\n",
      "\u001b[1m813/813\u001b[0m \u001b[32m━━━━━━━━━━━━━━━━━━━━\u001b[0m\u001b[37m\u001b[0m \u001b[1m0s\u001b[0m 243ms/step - accuracy: 0.9637 - auc: 0.9662 - f1_score: 0.7302 - loss: 0.1169 - precision: 0.8442 - recall: 0.6554  "
     ]
    },
    {
     "name": "stderr",
     "output_type": "stream",
     "text": [
      "2025-05-17 16:39:57 - INFO - \n",
      "=== Epoch 37 Summary ===\n",
      "2025-05-17 16:39:57 - INFO - Time: 212.84s\n",
      "2025-05-17 16:39:57 - INFO - Training   - accuracy: 0.9642 - auc: 0.9670 - f1_score: 0.7339 - loss: 0.1160 - precision: 0.8463 - recall: 0.6600 - learning_rate: 0.0000\n",
      "2025-05-17 16:39:57 - INFO - Validation - accuracy: 0.9340 - auc: 0.7075 - f1_score: 0.2542 - loss: 0.2891 - precision: 0.3455 - recall: 0.2146\n",
      "2025-05-17 16:39:57 - INFO - ==================================================\n",
      "\n"
     ]
    },
    {
     "name": "stdout",
     "output_type": "stream",
     "text": [
      "\u001b[1m813/813\u001b[0m \u001b[32m━━━━━━━━━━━━━━━━━━━━\u001b[0m\u001b[37m\u001b[0m \u001b[1m213s\u001b[0m 262ms/step - accuracy: 0.9637 - auc: 0.9662 - f1_score: 0.7302 - loss: 0.1169 - precision: 0.8442 - recall: 0.6554 - val_accuracy: 0.9340 - val_auc: 0.7075 - val_f1_score: 0.2542 - val_loss: 0.2891 - val_precision: 0.3455 - val_recall: 0.2146 - learning_rate: 3.1250e-06\n"
     ]
    },
    {
     "name": "stderr",
     "output_type": "stream",
     "text": [
      "2025-05-17 16:39:57 - INFO - \n",
      "=== Starting Epoch 38 ===\n",
      "\n"
     ]
    },
    {
     "name": "stdout",
     "output_type": "stream",
     "text": [
      "Epoch 38/100\n",
      "\u001b[1m813/813\u001b[0m \u001b[32m━━━━━━━━━━━━━━━━━━━━\u001b[0m\u001b[37m\u001b[0m \u001b[1m0s\u001b[0m 233ms/step - accuracy: 0.9645 - auc: 0.9671 - f1_score: 0.7369 - loss: 0.1154 - precision: 0.8483 - recall: 0.6630  \n",
      "Epoch 38: ReduceLROnPlateau reducing learning rate to 1.56249996052793e-06.\n"
     ]
    },
    {
     "name": "stderr",
     "output_type": "stream",
     "text": [
      "2025-05-17 16:43:22 - INFO - \n",
      "=== Epoch 38 Summary ===\n",
      "2025-05-17 16:43:22 - INFO - Time: 204.51s\n",
      "2025-05-17 16:43:22 - INFO - Training   - accuracy: 0.9647 - auc: 0.9675 - f1_score: 0.7383 - loss: 0.1152 - precision: 0.8482 - recall: 0.6653 - learning_rate: 0.0000\n",
      "2025-05-17 16:43:22 - INFO - Validation - accuracy: 0.9341 - auc: 0.7031 - f1_score: 0.2557 - loss: 0.2951 - precision: 0.3452 - recall: 0.2117\n",
      "2025-05-17 16:43:22 - INFO - ==================================================\n",
      "\n"
     ]
    },
    {
     "name": "stdout",
     "output_type": "stream",
     "text": [
      "\u001b[1m813/813\u001b[0m \u001b[32m━━━━━━━━━━━━━━━━━━━━\u001b[0m\u001b[37m\u001b[0m \u001b[1m205s\u001b[0m 252ms/step - accuracy: 0.9645 - auc: 0.9671 - f1_score: 0.7370 - loss: 0.1154 - precision: 0.8483 - recall: 0.6630 - val_accuracy: 0.9341 - val_auc: 0.7031 - val_f1_score: 0.2557 - val_loss: 0.2951 - val_precision: 0.3452 - val_recall: 0.2117 - learning_rate: 3.1250e-06\n"
     ]
    },
    {
     "name": "stderr",
     "output_type": "stream",
     "text": [
      "2025-05-17 16:43:22 - INFO - \n",
      "=== Starting Epoch 39 ===\n",
      "\n"
     ]
    },
    {
     "name": "stdout",
     "output_type": "stream",
     "text": [
      "Epoch 39/100\n",
      "\u001b[1m813/813\u001b[0m \u001b[32m━━━━━━━━━━━━━━━━━━━━\u001b[0m\u001b[37m\u001b[0m \u001b[1m0s\u001b[0m 244ms/step - accuracy: 0.9654 - auc: 0.9686 - f1_score: 0.7450 - loss: 0.1143 - precision: 0.8548 - recall: 0.6712  "
     ]
    },
    {
     "name": "stderr",
     "output_type": "stream",
     "text": [
      "2025-05-17 16:46:56 - INFO - \n",
      "=== Epoch 39 Summary ===\n",
      "2025-05-17 16:46:56 - INFO - Time: 213.54s\n",
      "2025-05-17 16:46:56 - INFO - Training   - accuracy: 0.9658 - auc: 0.9691 - f1_score: 0.7472 - loss: 0.1136 - precision: 0.8558 - recall: 0.6743 - learning_rate: 0.0000\n",
      "2025-05-17 16:46:56 - INFO - Validation - accuracy: 0.9337 - auc: 0.7107 - f1_score: 0.2630 - loss: 0.2903 - precision: 0.3489 - recall: 0.2276\n",
      "2025-05-17 16:46:56 - INFO - ==================================================\n",
      "\n"
     ]
    },
    {
     "name": "stdout",
     "output_type": "stream",
     "text": [
      "\u001b[1m813/813\u001b[0m \u001b[32m━━━━━━━━━━━━━━━━━━━━\u001b[0m\u001b[37m\u001b[0m \u001b[1m214s\u001b[0m 263ms/step - accuracy: 0.9654 - auc: 0.9686 - f1_score: 0.7450 - loss: 0.1143 - precision: 0.8548 - recall: 0.6712 - val_accuracy: 0.9337 - val_auc: 0.7107 - val_f1_score: 0.2630 - val_loss: 0.2903 - val_precision: 0.3489 - val_recall: 0.2276 - learning_rate: 1.5625e-06\n"
     ]
    },
    {
     "name": "stderr",
     "output_type": "stream",
     "text": [
      "2025-05-17 16:46:56 - INFO - \n",
      "=== Starting Epoch 40 ===\n",
      "\n"
     ]
    },
    {
     "name": "stdout",
     "output_type": "stream",
     "text": [
      "Epoch 40/100\n",
      "\u001b[1m813/813\u001b[0m \u001b[32m━━━━━━━━━━━━━━━━━━━━\u001b[0m\u001b[37m\u001b[0m \u001b[1m0s\u001b[0m 233ms/step - accuracy: 0.9660 - auc: 0.9694 - f1_score: 0.7491 - loss: 0.1133 - precision: 0.8567 - recall: 0.6767  "
     ]
    },
    {
     "name": "stderr",
     "output_type": "stream",
     "text": [
      "2025-05-17 16:50:20 - INFO - \n",
      "=== Epoch 40 Summary ===\n",
      "2025-05-17 16:50:20 - INFO - Time: 204.80s\n",
      "2025-05-17 16:50:20 - INFO - Training   - accuracy: 0.9663 - auc: 0.9700 - f1_score: 0.7512 - loss: 0.1128 - precision: 0.8581 - recall: 0.6791 - learning_rate: 0.0000\n",
      "2025-05-17 16:50:20 - INFO - Validation - accuracy: 0.9323 - auc: 0.7116 - f1_score: 0.2657 - loss: 0.2910 - precision: 0.3420 - recall: 0.2397\n",
      "2025-05-17 16:50:20 - INFO - ==================================================\n",
      "\n"
     ]
    },
    {
     "name": "stdout",
     "output_type": "stream",
     "text": [
      "\u001b[1m813/813\u001b[0m \u001b[32m━━━━━━━━━━━━━━━━━━━━\u001b[0m\u001b[37m\u001b[0m \u001b[1m205s\u001b[0m 252ms/step - accuracy: 0.9660 - auc: 0.9694 - f1_score: 0.7491 - loss: 0.1133 - precision: 0.8567 - recall: 0.6767 - val_accuracy: 0.9323 - val_auc: 0.7116 - val_f1_score: 0.2657 - val_loss: 0.2910 - val_precision: 0.3420 - val_recall: 0.2397 - learning_rate: 1.5625e-06\n"
     ]
    },
    {
     "name": "stderr",
     "output_type": "stream",
     "text": [
      "2025-05-17 16:50:20 - INFO - \n",
      "=== Starting Epoch 41 ===\n",
      "\n"
     ]
    },
    {
     "name": "stdout",
     "output_type": "stream",
     "text": [
      "Epoch 41/100\n",
      "\u001b[1m813/813\u001b[0m \u001b[32m━━━━━━━━━━━━━━━━━━━━\u001b[0m\u001b[37m\u001b[0m \u001b[1m0s\u001b[0m 245ms/step - accuracy: 0.9661 - auc: 0.9695 - f1_score: 0.7512 - loss: 0.1134 - precision: 0.8538 - recall: 0.6809  \n",
      "Epoch 41: ReduceLROnPlateau reducing learning rate to 1e-06.\n"
     ]
    },
    {
     "name": "stderr",
     "output_type": "stream",
     "text": [
      "2025-05-17 16:53:54 - INFO - \n",
      "=== Epoch 41 Summary ===\n",
      "2025-05-17 16:53:54 - INFO - Time: 214.02s\n",
      "2025-05-17 16:53:54 - INFO - Training   - accuracy: 0.9665 - auc: 0.9703 - f1_score: 0.7539 - loss: 0.1127 - precision: 0.8571 - recall: 0.6832 - learning_rate: 0.0000\n",
      "2025-05-17 16:53:54 - INFO - Validation - accuracy: 0.9318 - auc: 0.7091 - f1_score: 0.2692 - loss: 0.2938 - precision: 0.3365 - recall: 0.2378\n",
      "2025-05-17 16:53:54 - INFO - ==================================================\n",
      "\n"
     ]
    },
    {
     "name": "stdout",
     "output_type": "stream",
     "text": [
      "\u001b[1m813/813\u001b[0m \u001b[32m━━━━━━━━━━━━━━━━━━━━\u001b[0m\u001b[37m\u001b[0m \u001b[1m214s\u001b[0m 263ms/step - accuracy: 0.9661 - auc: 0.9695 - f1_score: 0.7512 - loss: 0.1134 - precision: 0.8538 - recall: 0.6809 - val_accuracy: 0.9318 - val_auc: 0.7091 - val_f1_score: 0.2692 - val_loss: 0.2938 - val_precision: 0.3365 - val_recall: 0.2378 - learning_rate: 1.5625e-06\n"
     ]
    },
    {
     "name": "stderr",
     "output_type": "stream",
     "text": [
      "2025-05-17 16:53:54 - INFO - \n",
      "=== Starting Epoch 42 ===\n",
      "\n"
     ]
    },
    {
     "name": "stdout",
     "output_type": "stream",
     "text": [
      "Epoch 42/100\n",
      "\u001b[1m813/813\u001b[0m \u001b[32m━━━━━━━━━━━━━━━━━━━━\u001b[0m\u001b[37m\u001b[0m \u001b[1m0s\u001b[0m 234ms/step - accuracy: 0.9663 - auc: 0.9703 - f1_score: 0.7537 - loss: 0.1125 - precision: 0.8598 - recall: 0.6816  "
     ]
    },
    {
     "name": "stderr",
     "output_type": "stream",
     "text": [
      "2025-05-17 16:57:19 - INFO - \n",
      "=== Epoch 42 Summary ===\n",
      "2025-05-17 16:57:19 - INFO - Time: 205.12s\n",
      "2025-05-17 16:57:19 - INFO - Training   - accuracy: 0.9668 - auc: 0.9705 - f1_score: 0.7562 - loss: 0.1120 - precision: 0.8609 - recall: 0.6849 - learning_rate: 0.0000\n",
      "2025-05-17 16:57:19 - INFO - Validation - accuracy: 0.9327 - auc: 0.7130 - f1_score: 0.2669 - loss: 0.2919 - precision: 0.3443 - recall: 0.2384\n",
      "2025-05-17 16:57:19 - INFO - ==================================================\n",
      "\n"
     ]
    },
    {
     "name": "stdout",
     "output_type": "stream",
     "text": [
      "\u001b[1m813/813\u001b[0m \u001b[32m━━━━━━━━━━━━━━━━━━━━\u001b[0m\u001b[37m\u001b[0m \u001b[1m205s\u001b[0m 252ms/step - accuracy: 0.9663 - auc: 0.9703 - f1_score: 0.7537 - loss: 0.1125 - precision: 0.8598 - recall: 0.6816 - val_accuracy: 0.9327 - val_auc: 0.7130 - val_f1_score: 0.2669 - val_loss: 0.2919 - val_precision: 0.3443 - val_recall: 0.2384 - learning_rate: 1.0000e-06\n"
     ]
    },
    {
     "name": "stderr",
     "output_type": "stream",
     "text": [
      "2025-05-17 16:57:19 - INFO - \n",
      "=== Starting Epoch 43 ===\n",
      "\n"
     ]
    },
    {
     "name": "stdout",
     "output_type": "stream",
     "text": [
      "Epoch 43/100\n",
      "\u001b[1m813/813\u001b[0m \u001b[32m━━━━━━━━━━━━━━━━━━━━\u001b[0m\u001b[37m\u001b[0m \u001b[1m0s\u001b[0m 245ms/step - accuracy: 0.9669 - auc: 0.9707 - f1_score: 0.7559 - loss: 0.1118 - precision: 0.8592 - recall: 0.6853  "
     ]
    },
    {
     "name": "stderr",
     "output_type": "stream",
     "text": [
      "2025-05-17 17:00:53 - INFO - \n",
      "=== Epoch 43 Summary ===\n",
      "2025-05-17 17:00:53 - INFO - Time: 214.01s\n",
      "2025-05-17 17:00:53 - INFO - Training   - accuracy: 0.9672 - auc: 0.9714 - f1_score: 0.7588 - loss: 0.1114 - precision: 0.8609 - recall: 0.6887 - learning_rate: 0.0000\n",
      "2025-05-17 17:00:53 - INFO - Validation - accuracy: 0.9328 - auc: 0.7076 - f1_score: 0.2627 - loss: 0.2942 - precision: 0.3407 - recall: 0.2291\n",
      "2025-05-17 17:00:53 - INFO - ==================================================\n",
      "\n"
     ]
    },
    {
     "name": "stdout",
     "output_type": "stream",
     "text": [
      "\u001b[1m813/813\u001b[0m \u001b[32m━━━━━━━━━━━━━━━━━━━━\u001b[0m\u001b[37m\u001b[0m \u001b[1m214s\u001b[0m 263ms/step - accuracy: 0.9669 - auc: 0.9707 - f1_score: 0.7560 - loss: 0.1118 - precision: 0.8592 - recall: 0.6853 - val_accuracy: 0.9328 - val_auc: 0.7076 - val_f1_score: 0.2627 - val_loss: 0.2942 - val_precision: 0.3407 - val_recall: 0.2291 - learning_rate: 1.0000e-06\n"
     ]
    },
    {
     "name": "stderr",
     "output_type": "stream",
     "text": [
      "2025-05-17 17:00:53 - INFO - \n",
      "=== Starting Epoch 44 ===\n",
      "\n"
     ]
    },
    {
     "name": "stdout",
     "output_type": "stream",
     "text": [
      "Epoch 44/100\n",
      "\u001b[1m813/813\u001b[0m \u001b[32m━━━━━━━━━━━━━━━━━━━━\u001b[0m\u001b[37m\u001b[0m \u001b[1m0s\u001b[0m 234ms/step - accuracy: 0.9672 - auc: 0.9713 - f1_score: 0.7605 - loss: 0.1120 - precision: 0.8631 - recall: 0.6898  "
     ]
    },
    {
     "name": "stderr",
     "output_type": "stream",
     "text": [
      "2025-05-17 17:04:18 - INFO - \n",
      "=== Epoch 44 Summary ===\n",
      "2025-05-17 17:04:18 - INFO - Time: 204.83s\n",
      "2025-05-17 17:04:18 - INFO - Training   - accuracy: 0.9674 - auc: 0.9716 - f1_score: 0.7614 - loss: 0.1113 - precision: 0.8634 - recall: 0.6913 - learning_rate: 0.0000\n",
      "2025-05-17 17:04:18 - INFO - Validation - accuracy: 0.9325 - auc: 0.7090 - f1_score: 0.2675 - loss: 0.2938 - precision: 0.3415 - recall: 0.2358\n",
      "2025-05-17 17:04:18 - INFO - ==================================================\n",
      "\n"
     ]
    },
    {
     "name": "stdout",
     "output_type": "stream",
     "text": [
      "\u001b[1m813/813\u001b[0m \u001b[32m━━━━━━━━━━━━━━━━━━━━\u001b[0m\u001b[37m\u001b[0m \u001b[1m205s\u001b[0m 252ms/step - accuracy: 0.9672 - auc: 0.9713 - f1_score: 0.7605 - loss: 0.1120 - precision: 0.8631 - recall: 0.6898 - val_accuracy: 0.9325 - val_auc: 0.7090 - val_f1_score: 0.2675 - val_loss: 0.2938 - val_precision: 0.3415 - val_recall: 0.2358 - learning_rate: 1.0000e-06\n"
     ]
    },
    {
     "name": "stderr",
     "output_type": "stream",
     "text": [
      "2025-05-17 17:04:18 - INFO - \n",
      "=== Training Completed! ===\n",
      "\n",
      "2025-05-17 17:04:18 - INFO - Final Metrics: accuracy: 0.9674 - auc: 0.9716 - f1_score: 0.7614 - loss: 0.1113 - precision: 0.8634 - recall: 0.6913 - val_accuracy: 0.9325 - val_auc: 0.7090 - val_f1_score: 0.2675 - val_loss: 0.2938 - val_precision: 0.3415 - val_recall: 0.2358\n",
      "\n"
     ]
    },
    {
     "name": "stdout",
     "output_type": "stream",
     "text": [
      "Epoch 44: early stopping\n",
      "Restoring model weights from the end of the best epoch: 29.\n"
     ]
    }
   ],
   "source": [
    "# Model Training\n",
    "model          = build_densenet121(num_classes)\n",
    "optimizer      = Adam(learning_rate=1e-4)\n",
    "compile_kwargs = {'optimizer': optimizer, 'loss': loss, 'metrics': metrics}\n",
    "\n",
    "history, model = start_or_resume_training(\n",
    "    model, \n",
    "    compile_kwargs, \n",
    "    train_ds, \n",
    "    val_ds, \n",
    "    TF_MAX_EPOCHS,\n",
    "    steps_per_epoch, \n",
    "    validation_steps, \n",
    "    class_weights=class_weights,\n",
    "    callbacks=[checkpoint, best_checkpoint, reduce_lr, training_logger, metrics_monitor, early_stopping], \n",
    "    checkpoint_path=checkpoint_path,\n",
    "    initial_epoch=initial_epoch,\n",
    "    output_dir=MODELS_PATH,\n",
    "    model_name=model_name,\n",
    "    logger=logger\n",
    ")"
   ]
  },
  {
   "cell_type": "code",
   "execution_count": null,
   "id": "10a2c164-f482-439a-b7c9-396d496bd2d1",
   "metadata": {},
   "outputs": [],
   "source": []
  },
  {
   "cell_type": "code",
   "execution_count": null,
   "id": "f90e43cd-ab0f-4206-afb9-b4c48d14a17d",
   "metadata": {},
   "outputs": [],
   "source": []
  }
 ],
 "metadata": {
  "kernelspec": {
   "display_name": "Python 3 (ipykernel)",
   "language": "python",
   "name": "python3"
  },
  "language_info": {
   "codemirror_mode": {
    "name": "ipython",
    "version": 3
   },
   "file_extension": ".py",
   "mimetype": "text/x-python",
   "name": "python",
   "nbconvert_exporter": "python",
   "pygments_lexer": "ipython3",
   "version": "3.10.16"
  }
 },
 "nbformat": 4,
 "nbformat_minor": 5
}
