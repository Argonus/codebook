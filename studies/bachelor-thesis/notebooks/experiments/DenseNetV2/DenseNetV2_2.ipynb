{
 "cells": [
  {
   "cell_type": "code",
   "execution_count": 1,
   "id": "b694919a-9b18-4068-8e69-7258de889dff",
   "metadata": {},
   "outputs": [
    {
     "name": "stderr",
     "output_type": "stream",
     "text": [
      "2025-05-18 10:48:12.211539: E external/local_xla/xla/stream_executor/cuda/cuda_fft.cc:467] Unable to register cuFFT factory: Attempting to register factory for plugin cuFFT when one has already been registered\n",
      "WARNING: All log messages before absl::InitializeLog() is called are written to STDERR\n",
      "E0000 00:00:1747558092.312830    3595 cuda_dnn.cc:8579] Unable to register cuDNN factory: Attempting to register factory for plugin cuDNN when one has already been registered\n",
      "E0000 00:00:1747558092.342187    3595 cuda_blas.cc:1407] Unable to register cuBLAS factory: Attempting to register factory for plugin cuBLAS when one has already been registered\n",
      "W0000 00:00:1747558092.581713    3595 computation_placer.cc:177] computation placer already registered. Please check linkage and avoid linking the same target more than once.\n",
      "W0000 00:00:1747558092.581720    3595 computation_placer.cc:177] computation placer already registered. Please check linkage and avoid linking the same target more than once.\n",
      "W0000 00:00:1747558092.581722    3595 computation_placer.cc:177] computation placer already registered. Please check linkage and avoid linking the same target more than once.\n",
      "W0000 00:00:1747558092.581723    3595 computation_placer.cc:177] computation placer already registered. Please check linkage and avoid linking the same target more than once.\n"
     ]
    },
    {
     "name": "stdout",
     "output_type": "stream",
     "text": [
      "\n",
      "GPU configuration successful!\n",
      "Device: /physical_device:GPU:0\n",
      "Memory limit: 18.0 GB\n",
      "\n",
      "TensorFlow optimizations status:\n",
      "- CPU Threads: 16 intra-op, 9 inter-op (32 cores total)\n",
      "- XLA JIT: enabled (autoclustering)\n",
      "- Synchronous Execution: enabled\n",
      "\n",
      "GPU Device Details:\n",
      "- Device: GPU /physical_device:GPU:0\n",
      "- Memory limit: 18.0 GB\n"
     ]
    },
    {
     "name": "stderr",
     "output_type": "stream",
     "text": [
      "I0000 00:00:1747558096.173353    3595 gpu_process_state.cc:208] Using CUDA malloc Async allocator for GPU: 0\n",
      "I0000 00:00:1747558096.174354    3595 gpu_device.cc:2019] Created device /job:localhost/replica:0/task:0/device:GPU:0 with 19327352832 MB memory:  -> device: 0, name: NVIDIA GeForce RTX 3090 Ti, pci bus id: 0000:01:00.0, compute capability: 8.6\n"
     ]
    }
   ],
   "source": [
    "# Import dependencies\n",
    "import os\n",
    "\n",
    "os.environ['TF_CPP_MIN_VLOG_LEVEL'] = '0'\n",
    "os.environ['TF_CPP_MIN_LOG_LEVEL'] = '2'\n",
    "os.environ['TF_GPU_ALLOCATOR'] = 'cuda_malloc_async'\n",
    "os.environ['TF_FORCE_GPU_ALLOW_GROWTH'] = 'true'\n",
    "\n",
    "from src.utils.gpu_config import configure_gpu, optimize_tensorflow\n",
    "\n",
    "configure_gpu()\n",
    "optimize_tensorflow()"
   ]
  },
  {
   "cell_type": "code",
   "execution_count": 2,
   "id": "2b854daf-5f2a-4c33-9180-5081cd415b16",
   "metadata": {},
   "outputs": [],
   "source": [
    "# Import Tensorflow Keras\n",
    "from tensorflow.keras.optimizers import Adam\n",
    "from tensorflow.keras.losses import BinaryFocalCrossentropy\n",
    "from tensorflow.keras.callbacks import ReduceLROnPlateau, ModelCheckpoint\n",
    "\n",
    "# Import local modules\n",
    "from src.utils.consts import TF_RECORD_DATASET, MODELS_PATH, TF_BUFFER_SIZE, TF_SHUFFLE_SIZE, TF_BATCH_SIZE, TF_MAX_EPOCHS\n",
    "from src.model.tensorflow_utils import load_dataset, optimize_dataset, count_dataset_size, get_num_classes, get_metrics\n",
    "from src.model.tensorflow_utils import setup_logger, setup_training_logger, setup_metrics_monitor, setup_early_stopping, filter_no_finding_class\n",
    "from src.model.tensorflow_utils import start_or_resume_training, apply_augmentation_to_dataset, calculate_class_weights, oversample_minority_classes\n",
    "from src.model.densnet.tensorflow_dense_net_121 import build_densenet121\n",
    "\n",
    "# Input Data\n",
    "initial_epoch   = 48\n",
    "resume_training = True\n",
    "checkpoint_path = '/home/piotr/Pulpit/codebook/studies/bachelor-thesis/models/DenseNetV2_2/checkpoints/cp-0047.keras'\n",
    "set_name        = \"DenseNetV2\"\n",
    "model_name      = f\"{set_name}_2\"\n",
    "num_classes     = get_num_classes()\n",
    "\n",
    "train_ds = load_dataset(f\"{TF_RECORD_DATASET}/train.tfrecord\", TF_BUFFER_SIZE)\n",
    "val_ds   = load_dataset(f\"{TF_RECORD_DATASET}/val.tfrecord\", TF_BUFFER_SIZE)\n",
    "\n",
    "train_ds = filter_no_finding_class(train_ds)\n",
    "val_ds   = filter_no_finding_class(val_ds)\n",
    "\n",
    "class_weights = calculate_class_weights(train_ds, num_classes)\n",
    "train_ds      = oversample_minority_classes(train_ds, class_weights)\n",
    "class_weights = calculate_class_weights(train_ds, num_classes)"
   ]
  },
  {
   "cell_type": "code",
   "execution_count": 3,
   "id": "5f152b8a-8ff8-4095-9815-e304ce2beb52",
   "metadata": {},
   "outputs": [],
   "source": [
    "steps_per_epoch  = int((104166 or int(count_dataset_size(train_ds, None))) / TF_BATCH_SIZE)\n",
    "validation_steps = int((15431 or int(count_dataset_size(val_ds, None))) / TF_BATCH_SIZE)\n",
    "\n",
    "# Disable Advanced Augmentations\n",
    "probability = {\n",
    "    \"intensity_scaling\": 0,\n",
    "    \"adaptive_histogram\": 0,\n",
    "    \"zoom\": 0,\n",
    "    \"cutout\": 0\n",
    "}\n",
    "\n",
    "train_ds = train_ds.shuffle(TF_SHUFFLE_SIZE, reshuffle_each_iteration=True)\n",
    "train_ds = apply_augmentation_to_dataset(train_ds, probability)\n",
    "train_ds = optimize_dataset(train_ds, TF_BATCH_SIZE)\n",
    "\n",
    "val_ds   = optimize_dataset(val_ds, TF_BATCH_SIZE)"
   ]
  },
  {
   "cell_type": "code",
   "execution_count": 4,
   "id": "3a0e37c9-b178-40d8-bd25-8c0a6498564a",
   "metadata": {},
   "outputs": [
    {
     "name": "stderr",
     "output_type": "stream",
     "text": [
      "2025-05-18 10:49:58 - INFO - Resuming from existing metrics file: /home/piotr/Pulpit/codebook/studies/bachelor-thesis/models/DenseNetV2_2/train_metrics.csv\n",
      "2025-05-18 10:49:58 - INFO - Resuming from existing validation metrics file: /home/piotr/Pulpit/codebook/studies/bachelor-thesis/models/DenseNetV2_2/val_metrics.csv\n",
      "2025-05-18 10:49:59 - INFO - Cleaned training metrics file, kept 38211 records before epoch 48\n",
      "2025-05-18 10:49:59 - INFO - Cleaned validation metrics file, kept 47 records before epoch 48\n",
      "2025-05-18 10:49:59 - INFO - Found 38211 existing training records\n",
      "2025-05-18 10:49:59 - INFO - Found 47 existing validation records\n"
     ]
    }
   ],
   "source": [
    "# Setup Model Deps\n",
    "logger            = setup_logger()\n",
    "training_logger   = setup_training_logger(logger, TF_BATCH_SIZE, 100)\n",
    "metrics_monitor   = setup_metrics_monitor(MODELS_PATH, model_name, logger, resume_training=resume_training, initial_epoch=initial_epoch)\n",
    "metrics           = get_metrics()\n",
    "\n",
    "# Setup compile arguments\n",
    "loss           = BinaryFocalCrossentropy(gamma=2.0, from_logits=False)\n",
    "reduce_lr      = ReduceLROnPlateau(monitor=\"val_f1_score\", factor=0.5,  patience=3, min_lr=1e-6, mode=\"max\", verbose=1)\n",
    "early_stopping = setup_early_stopping()\n",
    "\n",
    "epoch_mode           = 'cp-{epoch:04d}'\n",
    "save_checkpoint_path = f\"{MODELS_PATH}/{model_name}/checkpoints/{epoch_mode}.keras\"\n",
    "checkpoint           = ModelCheckpoint(save_checkpoint_path, monitor=\"val_f1_score\", save_best_only=False, mode=\"max\", save_weights_only=False)\n",
    "\n",
    "model_path      = f\"{MODELS_PATH}/{model_name}.keras\"\n",
    "best_checkpoint = ModelCheckpoint(model_path, monitor=\"val_f1_score\", save_best_only=True, mode=\"max\", save_weights_only=False)"
   ]
  },
  {
   "cell_type": "code",
   "execution_count": 5,
   "id": "c44d4a9a-ffbb-4917-a702-c35773b9857c",
   "metadata": {},
   "outputs": [
    {
     "name": "stderr",
     "output_type": "stream",
     "text": [
      "2025-05-18 10:50:00 - INFO - Resuming training from checkpoint: /home/piotr/Pulpit/codebook/studies/bachelor-thesis/models/DenseNetV2_2/checkpoints/cp-0047.keras\n",
      "2025-05-18 10:50:01 - INFO - Resuming from existing metrics file: /home/piotr/Pulpit/codebook/studies/bachelor-thesis/models/DenseNetV2_2/train_metrics.csv\n",
      "2025-05-18 10:50:01 - INFO - Resuming from existing validation metrics file: /home/piotr/Pulpit/codebook/studies/bachelor-thesis/models/DenseNetV2_2/val_metrics.csv\n",
      "2025-05-18 10:50:01 - INFO - Cleaned training metrics file, kept 38211 records before epoch 48\n",
      "2025-05-18 10:50:01 - INFO - Cleaned validation metrics file, kept 47 records before epoch 48\n",
      "2025-05-18 10:50:01 - INFO - Found 38211 existing training records\n",
      "2025-05-18 10:50:01 - INFO - Found 47 existing validation records\n",
      "2025-05-18 10:50:01 - INFO - \n",
      "=== Training Started ===\n",
      "\n",
      "2025-05-18 10:50:01 - INFO - Batch Size: 128\n",
      "2025-05-18 10:50:01 - INFO - Optimizer: Adam\n",
      "2025-05-18 10:50:01 - INFO - \n",
      "==================================================\n",
      "\n",
      "2025-05-18 10:50:01 - INFO - \n",
      "=== Starting Epoch 48 ===\n",
      "\n"
     ]
    },
    {
     "name": "stdout",
     "output_type": "stream",
     "text": [
      "Epoch 48/100\n"
     ]
    },
    {
     "name": "stderr",
     "output_type": "stream",
     "text": [
      "WARNING: All log messages before absl::InitializeLog() is called are written to STDERR\n",
      "I0000 00:00:1747558221.179538    4168 service.cc:152] XLA service 0x715e2c006420 initialized for platform CUDA (this does not guarantee that XLA will be used). Devices:\n",
      "I0000 00:00:1747558221.179580    4168 service.cc:160]   StreamExecutor device (0): NVIDIA GeForce RTX 3090 Ti, Compute Capability 8.6\n",
      "I0000 00:00:1747558226.343032    4168 cuda_dnn.cc:529] Loaded cuDNN version 90300\n",
      "I0000 00:00:1747558282.612916    4168 device_compiler.h:188] Compiled cluster using XLA!  This line is logged at most once for the lifetime of the process.\n"
     ]
    },
    {
     "name": "stdout",
     "output_type": "stream",
     "text": [
      "\u001b[1m813/813\u001b[0m \u001b[32m━━━━━━━━━━━━━━━━━━━━\u001b[0m\u001b[37m\u001b[0m \u001b[1m0s\u001b[0m 213ms/step - accuracy: 0.9485 - auc: 0.9421 - f1_score: 0.5843 - loss: 0.0467 - precision: 0.7645 - recall: 0.4945  "
     ]
    },
    {
     "name": "stderr",
     "output_type": "stream",
     "text": [
      "2025-05-18 10:54:39 - INFO - \n",
      "=== Epoch 48 Summary ===\n",
      "2025-05-18 10:54:39 - INFO - Time: 278.16s\n",
      "2025-05-18 10:54:39 - INFO - Training   - accuracy: 0.9490 - auc: 0.9432 - f1_score: 0.5882 - loss: 0.0463 - precision: 0.7631 - recall: 0.4997 - learning_rate: 0.0000\n",
      "2025-05-18 10:54:39 - INFO - Validation - accuracy: 0.9311 - auc: 0.7483 - f1_score: 0.2446 - loss: 0.0851 - precision: 0.3216 - recall: 0.2205\n",
      "2025-05-18 10:54:39 - INFO - ==================================================\n",
      "\n"
     ]
    },
    {
     "name": "stdout",
     "output_type": "stream",
     "text": [
      "\u001b[1m813/813\u001b[0m \u001b[32m━━━━━━━━━━━━━━━━━━━━\u001b[0m\u001b[37m\u001b[0m \u001b[1m278s\u001b[0m 243ms/step - accuracy: 0.9485 - auc: 0.9421 - f1_score: 0.5843 - loss: 0.0467 - precision: 0.7645 - recall: 0.4945 - val_accuracy: 0.9311 - val_auc: 0.7483 - val_f1_score: 0.2446 - val_loss: 0.0851 - val_precision: 0.3216 - val_recall: 0.2205 - learning_rate: 1.0000e-06\n"
     ]
    },
    {
     "name": "stderr",
     "output_type": "stream",
     "text": [
      "2025-05-18 10:54:39 - INFO - \n",
      "=== Starting Epoch 49 ===\n",
      "\n"
     ]
    },
    {
     "name": "stdout",
     "output_type": "stream",
     "text": [
      "Epoch 49/100\n",
      "\u001b[1m813/813\u001b[0m \u001b[32m━━━━━━━━━━━━━━━━━━━━\u001b[0m\u001b[37m\u001b[0m \u001b[1m0s\u001b[0m 215ms/step - accuracy: 0.9484 - auc: 0.9421 - f1_score: 0.5871 - loss: 0.0463 - precision: 0.7615 - recall: 0.4984  "
     ]
    },
    {
     "name": "stderr",
     "output_type": "stream",
     "text": [
      "2025-05-18 10:58:39 - INFO - \n",
      "=== Epoch 49 Summary ===\n",
      "2025-05-18 10:58:39 - INFO - Time: 239.61s\n",
      "2025-05-18 10:58:39 - INFO - Training   - accuracy: 0.9493 - auc: 0.9439 - f1_score: 0.5916 - loss: 0.0460 - precision: 0.7643 - recall: 0.5036 - learning_rate: 0.0000\n",
      "2025-05-18 10:58:39 - INFO - Validation - accuracy: 0.9313 - auc: 0.7488 - f1_score: 0.2413 - loss: 0.0846 - precision: 0.3218 - recall: 0.2168\n",
      "2025-05-18 10:58:39 - INFO - ==================================================\n",
      "\n"
     ]
    },
    {
     "name": "stdout",
     "output_type": "stream",
     "text": [
      "\u001b[1m813/813\u001b[0m \u001b[32m━━━━━━━━━━━━━━━━━━━━\u001b[0m\u001b[37m\u001b[0m \u001b[1m240s\u001b[0m 226ms/step - accuracy: 0.9484 - auc: 0.9421 - f1_score: 0.5871 - loss: 0.0463 - precision: 0.7615 - recall: 0.4984 - val_accuracy: 0.9313 - val_auc: 0.7488 - val_f1_score: 0.2413 - val_loss: 0.0846 - val_precision: 0.3218 - val_recall: 0.2168 - learning_rate: 1.0000e-06\n"
     ]
    },
    {
     "name": "stderr",
     "output_type": "stream",
     "text": [
      "2025-05-18 10:58:39 - INFO - \n",
      "=== Starting Epoch 50 ===\n",
      "\n"
     ]
    },
    {
     "name": "stdout",
     "output_type": "stream",
     "text": [
      "Epoch 50/100\n",
      "\u001b[1m813/813\u001b[0m \u001b[32m━━━━━━━━━━━━━━━━━━━━\u001b[0m\u001b[37m\u001b[0m \u001b[1m0s\u001b[0m 232ms/step - accuracy: 0.9489 - auc: 0.9435 - f1_score: 0.5909 - loss: 0.0463 - precision: 0.7622 - recall: 0.5029  "
     ]
    },
    {
     "name": "stderr",
     "output_type": "stream",
     "text": [
      "2025-05-18 11:02:07 - INFO - \n",
      "=== Epoch 50 Summary ===\n",
      "2025-05-18 11:02:07 - INFO - Time: 208.19s\n",
      "2025-05-18 11:02:07 - INFO - Training   - accuracy: 0.9492 - auc: 0.9440 - f1_score: 0.5921 - loss: 0.0460 - precision: 0.7628 - recall: 0.5048 - learning_rate: 0.0000\n",
      "2025-05-18 11:02:07 - INFO - Validation - accuracy: 0.9306 - auc: 0.7504 - f1_score: 0.2467 - loss: 0.0851 - precision: 0.3165 - recall: 0.2183\n",
      "2025-05-18 11:02:07 - INFO - ==================================================\n",
      "\n"
     ]
    },
    {
     "name": "stdout",
     "output_type": "stream",
     "text": [
      "\u001b[1m813/813\u001b[0m \u001b[32m━━━━━━━━━━━━━━━━━━━━\u001b[0m\u001b[37m\u001b[0m \u001b[1m208s\u001b[0m 256ms/step - accuracy: 0.9489 - auc: 0.9435 - f1_score: 0.5909 - loss: 0.0463 - precision: 0.7622 - recall: 0.5029 - val_accuracy: 0.9306 - val_auc: 0.7504 - val_f1_score: 0.2467 - val_loss: 0.0851 - val_precision: 0.3165 - val_recall: 0.2183 - learning_rate: 1.0000e-06\n"
     ]
    },
    {
     "name": "stderr",
     "output_type": "stream",
     "text": [
      "2025-05-18 11:02:07 - INFO - \n",
      "=== Starting Epoch 51 ===\n",
      "\n"
     ]
    },
    {
     "name": "stdout",
     "output_type": "stream",
     "text": [
      "Epoch 51/100\n",
      "\u001b[1m813/813\u001b[0m \u001b[32m━━━━━━━━━━━━━━━━━━━━\u001b[0m\u001b[37m\u001b[0m \u001b[1m0s\u001b[0m 212ms/step - accuracy: 0.9490 - auc: 0.9443 - f1_score: 0.5935 - loss: 0.0460 - precision: 0.7615 - recall: 0.5068  "
     ]
    },
    {
     "name": "stderr",
     "output_type": "stream",
     "text": [
      "2025-05-18 11:05:08 - INFO - \n",
      "=== Epoch 51 Summary ===\n",
      "2025-05-18 11:05:08 - INFO - Time: 180.55s\n",
      "2025-05-18 11:05:08 - INFO - Training   - accuracy: 0.9496 - auc: 0.9454 - f1_score: 0.5959 - loss: 0.0458 - precision: 0.7645 - recall: 0.5091 - learning_rate: 0.0000\n",
      "2025-05-18 11:05:08 - INFO - Validation - accuracy: 0.9317 - auc: 0.7492 - f1_score: 0.2433 - loss: 0.0856 - precision: 0.3238 - recall: 0.2139\n",
      "2025-05-18 11:05:08 - INFO - ==================================================\n",
      "\n"
     ]
    },
    {
     "name": "stdout",
     "output_type": "stream",
     "text": [
      "\u001b[1m813/813\u001b[0m \u001b[32m━━━━━━━━━━━━━━━━━━━━\u001b[0m\u001b[37m\u001b[0m \u001b[1m181s\u001b[0m 222ms/step - accuracy: 0.9490 - auc: 0.9443 - f1_score: 0.5935 - loss: 0.0460 - precision: 0.7615 - recall: 0.5068 - val_accuracy: 0.9317 - val_auc: 0.7492 - val_f1_score: 0.2433 - val_loss: 0.0856 - val_precision: 0.3238 - val_recall: 0.2139 - learning_rate: 1.0000e-06\n"
     ]
    },
    {
     "name": "stderr",
     "output_type": "stream",
     "text": [
      "2025-05-18 11:05:08 - INFO - \n",
      "=== Starting Epoch 52 ===\n",
      "\n"
     ]
    },
    {
     "name": "stdout",
     "output_type": "stream",
     "text": [
      "Epoch 52/100\n",
      "\u001b[1m813/813\u001b[0m \u001b[32m━━━━━━━━━━━━━━━━━━━━\u001b[0m\u001b[37m\u001b[0m \u001b[1m0s\u001b[0m 226ms/step - accuracy: 0.9498 - auc: 0.9451 - f1_score: 0.5991 - loss: 0.0457 - precision: 0.7691 - recall: 0.5111  "
     ]
    },
    {
     "name": "stderr",
     "output_type": "stream",
     "text": [
      "2025-05-18 11:08:23 - INFO - \n",
      "=== Epoch 52 Summary ===\n",
      "2025-05-18 11:08:23 - INFO - Time: 194.94s\n",
      "2025-05-18 11:08:23 - INFO - Training   - accuracy: 0.9501 - auc: 0.9457 - f1_score: 0.6010 - loss: 0.0456 - precision: 0.7692 - recall: 0.5133 - learning_rate: 0.0000\n",
      "2025-05-18 11:08:23 - INFO - Validation - accuracy: 0.9330 - auc: 0.7503 - f1_score: 0.2408 - loss: 0.0863 - precision: 0.3278 - recall: 0.1989\n",
      "2025-05-18 11:08:23 - INFO - ==================================================\n",
      "\n"
     ]
    },
    {
     "name": "stdout",
     "output_type": "stream",
     "text": [
      "\u001b[1m813/813\u001b[0m \u001b[32m━━━━━━━━━━━━━━━━━━━━\u001b[0m\u001b[37m\u001b[0m \u001b[1m195s\u001b[0m 240ms/step - accuracy: 0.9498 - auc: 0.9451 - f1_score: 0.5991 - loss: 0.0457 - precision: 0.7691 - recall: 0.5111 - val_accuracy: 0.9330 - val_auc: 0.7503 - val_f1_score: 0.2408 - val_loss: 0.0863 - val_precision: 0.3278 - val_recall: 0.1989 - learning_rate: 1.0000e-06\n"
     ]
    },
    {
     "name": "stderr",
     "output_type": "stream",
     "text": [
      "2025-05-18 11:08:23 - INFO - \n",
      "=== Starting Epoch 53 ===\n",
      "\n"
     ]
    },
    {
     "name": "stdout",
     "output_type": "stream",
     "text": [
      "Epoch 53/100\n",
      "\u001b[1m813/813\u001b[0m \u001b[32m━━━━━━━━━━━━━━━━━━━━\u001b[0m\u001b[37m\u001b[0m \u001b[1m0s\u001b[0m 222ms/step - accuracy: 0.9499 - auc: 0.9453 - f1_score: 0.6018 - loss: 0.0458 - precision: 0.7693 - recall: 0.5138  "
     ]
    },
    {
     "name": "stderr",
     "output_type": "stream",
     "text": [
      "2025-05-18 11:11:37 - INFO - \n",
      "=== Epoch 53 Summary ===\n",
      "2025-05-18 11:11:37 - INFO - Time: 194.21s\n",
      "2025-05-18 11:11:37 - INFO - Training   - accuracy: 0.9502 - auc: 0.9460 - f1_score: 0.6027 - loss: 0.0456 - precision: 0.7686 - recall: 0.5156 - learning_rate: 0.0000\n",
      "2025-05-18 11:11:37 - INFO - Validation - accuracy: 0.9324 - auc: 0.7487 - f1_score: 0.2349 - loss: 0.0864 - precision: 0.3214 - recall: 0.1992\n",
      "2025-05-18 11:11:37 - INFO - ==================================================\n",
      "\n"
     ]
    },
    {
     "name": "stdout",
     "output_type": "stream",
     "text": [
      "\u001b[1m813/813\u001b[0m \u001b[32m━━━━━━━━━━━━━━━━━━━━\u001b[0m\u001b[37m\u001b[0m \u001b[1m194s\u001b[0m 239ms/step - accuracy: 0.9499 - auc: 0.9453 - f1_score: 0.6018 - loss: 0.0458 - precision: 0.7693 - recall: 0.5138 - val_accuracy: 0.9324 - val_auc: 0.7487 - val_f1_score: 0.2349 - val_loss: 0.0864 - val_precision: 0.3214 - val_recall: 0.1992 - learning_rate: 1.0000e-06\n"
     ]
    },
    {
     "name": "stderr",
     "output_type": "stream",
     "text": [
      "2025-05-18 11:11:37 - INFO - \n",
      "=== Starting Epoch 54 ===\n",
      "\n"
     ]
    },
    {
     "name": "stdout",
     "output_type": "stream",
     "text": [
      "Epoch 54/100\n",
      "\u001b[1m813/813\u001b[0m \u001b[32m━━━━━━━━━━━━━━━━━━━━\u001b[0m\u001b[37m\u001b[0m \u001b[1m0s\u001b[0m 215ms/step - accuracy: 0.9506 - auc: 0.9465 - f1_score: 0.6052 - loss: 0.0455 - precision: 0.7725 - recall: 0.5175  "
     ]
    },
    {
     "name": "stderr",
     "output_type": "stream",
     "text": [
      "2025-05-18 11:14:49 - INFO - \n",
      "=== Epoch 54 Summary ===\n",
      "2025-05-18 11:14:49 - INFO - Time: 192.11s\n",
      "2025-05-18 11:14:49 - INFO - Training   - accuracy: 0.9507 - auc: 0.9472 - f1_score: 0.6069 - loss: 0.0453 - precision: 0.7721 - recall: 0.5197 - learning_rate: 0.0000\n",
      "2025-05-18 11:14:49 - INFO - Validation - accuracy: 0.9330 - auc: 0.7482 - f1_score: 0.2310 - loss: 0.0865 - precision: 0.3247 - recall: 0.1942\n",
      "2025-05-18 11:14:49 - INFO - ==================================================\n",
      "\n"
     ]
    },
    {
     "name": "stdout",
     "output_type": "stream",
     "text": [
      "\u001b[1m813/813\u001b[0m \u001b[32m━━━━━━━━━━━━━━━━━━━━\u001b[0m\u001b[37m\u001b[0m \u001b[1m192s\u001b[0m 236ms/step - accuracy: 0.9506 - auc: 0.9465 - f1_score: 0.6052 - loss: 0.0455 - precision: 0.7725 - recall: 0.5175 - val_accuracy: 0.9330 - val_auc: 0.7482 - val_f1_score: 0.2310 - val_loss: 0.0865 - val_precision: 0.3247 - val_recall: 0.1942 - learning_rate: 1.0000e-06\n"
     ]
    },
    {
     "name": "stderr",
     "output_type": "stream",
     "text": [
      "2025-05-18 11:14:49 - INFO - \n",
      "=== Starting Epoch 55 ===\n",
      "\n"
     ]
    },
    {
     "name": "stdout",
     "output_type": "stream",
     "text": [
      "Epoch 55/100\n",
      "\u001b[1m813/813\u001b[0m \u001b[32m━━━━━━━━━━━━━━━━━━━━\u001b[0m\u001b[37m\u001b[0m \u001b[1m0s\u001b[0m 212ms/step - accuracy: 0.9501 - auc: 0.9472 - f1_score: 0.6045 - loss: 0.0456 - precision: 0.7715 - recall: 0.5165  "
     ]
    },
    {
     "name": "stderr",
     "output_type": "stream",
     "text": [
      "2025-05-18 11:17:55 - INFO - \n",
      "=== Epoch 55 Summary ===\n",
      "2025-05-18 11:17:55 - INFO - Time: 185.38s\n",
      "2025-05-18 11:17:55 - INFO - Training   - accuracy: 0.9508 - auc: 0.9476 - f1_score: 0.6082 - loss: 0.0453 - precision: 0.7726 - recall: 0.5212 - learning_rate: 0.0000\n",
      "2025-05-18 11:17:55 - INFO - Validation - accuracy: 0.9335 - auc: 0.7455 - f1_score: 0.2277 - loss: 0.0869 - precision: 0.3265 - recall: 0.1888\n",
      "2025-05-18 11:17:55 - INFO - ==================================================\n",
      "\n"
     ]
    },
    {
     "name": "stdout",
     "output_type": "stream",
     "text": [
      "\u001b[1m813/813\u001b[0m \u001b[32m━━━━━━━━━━━━━━━━━━━━\u001b[0m\u001b[37m\u001b[0m \u001b[1m185s\u001b[0m 228ms/step - accuracy: 0.9501 - auc: 0.9472 - f1_score: 0.6045 - loss: 0.0456 - precision: 0.7715 - recall: 0.5165 - val_accuracy: 0.9335 - val_auc: 0.7455 - val_f1_score: 0.2277 - val_loss: 0.0869 - val_precision: 0.3265 - val_recall: 0.1888 - learning_rate: 1.0000e-06\n"
     ]
    },
    {
     "name": "stderr",
     "output_type": "stream",
     "text": [
      "2025-05-18 11:17:55 - INFO - \n",
      "=== Starting Epoch 56 ===\n",
      "\n"
     ]
    },
    {
     "name": "stdout",
     "output_type": "stream",
     "text": [
      "Epoch 56/100\n",
      "\u001b[1m813/813\u001b[0m \u001b[32m━━━━━━━━━━━━━━━━━━━━\u001b[0m\u001b[37m\u001b[0m \u001b[1m0s\u001b[0m 232ms/step - accuracy: 0.9503 - auc: 0.9480 - f1_score: 0.6085 - loss: 0.0453 - precision: 0.7703 - recall: 0.5221  "
     ]
    },
    {
     "name": "stderr",
     "output_type": "stream",
     "text": [
      "2025-05-18 11:21:27 - INFO - \n",
      "=== Epoch 56 Summary ===\n",
      "2025-05-18 11:21:27 - INFO - Time: 212.61s\n",
      "2025-05-18 11:21:27 - INFO - Training   - accuracy: 0.9509 - auc: 0.9485 - f1_score: 0.6102 - loss: 0.0451 - precision: 0.7729 - recall: 0.5236 - learning_rate: 0.0000\n",
      "2025-05-18 11:21:27 - INFO - Validation - accuracy: 0.9316 - auc: 0.7494 - f1_score: 0.2437 - loss: 0.0853 - precision: 0.3196 - recall: 0.2084\n",
      "2025-05-18 11:21:27 - INFO - ==================================================\n",
      "\n"
     ]
    },
    {
     "name": "stdout",
     "output_type": "stream",
     "text": [
      "\u001b[1m813/813\u001b[0m \u001b[32m━━━━━━━━━━━━━━━━━━━━\u001b[0m\u001b[37m\u001b[0m \u001b[1m213s\u001b[0m 262ms/step - accuracy: 0.9503 - auc: 0.9480 - f1_score: 0.6085 - loss: 0.0453 - precision: 0.7703 - recall: 0.5221 - val_accuracy: 0.9316 - val_auc: 0.7494 - val_f1_score: 0.2437 - val_loss: 0.0853 - val_precision: 0.3196 - val_recall: 0.2084 - learning_rate: 1.0000e-06\n"
     ]
    },
    {
     "name": "stderr",
     "output_type": "stream",
     "text": [
      "2025-05-18 11:21:27 - INFO - \n",
      "=== Starting Epoch 57 ===\n",
      "\n"
     ]
    },
    {
     "name": "stdout",
     "output_type": "stream",
     "text": [
      "Epoch 57/100\n",
      "\u001b[1m813/813\u001b[0m \u001b[32m━━━━━━━━━━━━━━━━━━━━\u001b[0m\u001b[37m\u001b[0m \u001b[1m0s\u001b[0m 212ms/step - accuracy: 0.9510 - auc: 0.9483 - f1_score: 0.6121 - loss: 0.0452 - precision: 0.7734 - recall: 0.5258  "
     ]
    },
    {
     "name": "stderr",
     "output_type": "stream",
     "text": [
      "2025-05-18 11:24:54 - INFO - \n",
      "=== Epoch 57 Summary ===\n",
      "2025-05-18 11:24:54 - INFO - Time: 206.43s\n",
      "2025-05-18 11:24:54 - INFO - Training   - accuracy: 0.9515 - auc: 0.9491 - f1_score: 0.6155 - loss: 0.0449 - precision: 0.7757 - recall: 0.5295 - learning_rate: 0.0000\n",
      "2025-05-18 11:24:54 - INFO - Validation - accuracy: 0.9307 - auc: 0.7475 - f1_score: 0.2497 - loss: 0.0864 - precision: 0.3166 - recall: 0.2164\n",
      "2025-05-18 11:24:54 - INFO - ==================================================\n",
      "\n"
     ]
    },
    {
     "name": "stdout",
     "output_type": "stream",
     "text": [
      "\u001b[1m813/813\u001b[0m \u001b[32m━━━━━━━━━━━━━━━━━━━━\u001b[0m\u001b[37m\u001b[0m \u001b[1m207s\u001b[0m 254ms/step - accuracy: 0.9510 - auc: 0.9483 - f1_score: 0.6121 - loss: 0.0452 - precision: 0.7734 - recall: 0.5258 - val_accuracy: 0.9307 - val_auc: 0.7475 - val_f1_score: 0.2497 - val_loss: 0.0864 - val_precision: 0.3166 - val_recall: 0.2164 - learning_rate: 1.0000e-06\n"
     ]
    },
    {
     "name": "stderr",
     "output_type": "stream",
     "text": [
      "2025-05-18 11:24:54 - INFO - \n",
      "=== Starting Epoch 58 ===\n",
      "\n"
     ]
    },
    {
     "name": "stdout",
     "output_type": "stream",
     "text": [
      "Epoch 58/100\n",
      "\u001b[1m813/813\u001b[0m \u001b[32m━━━━━━━━━━━━━━━━━━━━\u001b[0m\u001b[37m\u001b[0m \u001b[1m0s\u001b[0m 212ms/step - accuracy: 0.9514 - auc: 0.9491 - f1_score: 0.6158 - loss: 0.0450 - precision: 0.7769 - recall: 0.5289  "
     ]
    },
    {
     "name": "stderr",
     "output_type": "stream",
     "text": [
      "2025-05-18 11:28:13 - INFO - \n",
      "=== Epoch 58 Summary ===\n",
      "2025-05-18 11:28:13 - INFO - Time: 199.29s\n",
      "2025-05-18 11:28:13 - INFO - Training   - accuracy: 0.9516 - auc: 0.9500 - f1_score: 0.6173 - loss: 0.0448 - precision: 0.7765 - recall: 0.5313 - learning_rate: 0.0000\n",
      "2025-05-18 11:28:13 - INFO - Validation - accuracy: 0.9337 - auc: 0.7481 - f1_score: 0.2364 - loss: 0.0873 - precision: 0.3353 - recall: 0.2009\n",
      "2025-05-18 11:28:13 - INFO - ==================================================\n",
      "\n"
     ]
    },
    {
     "name": "stdout",
     "output_type": "stream",
     "text": [
      "\u001b[1m813/813\u001b[0m \u001b[32m━━━━━━━━━━━━━━━━━━━━\u001b[0m\u001b[37m\u001b[0m \u001b[1m199s\u001b[0m 245ms/step - accuracy: 0.9514 - auc: 0.9491 - f1_score: 0.6158 - loss: 0.0450 - precision: 0.7769 - recall: 0.5290 - val_accuracy: 0.9337 - val_auc: 0.7481 - val_f1_score: 0.2364 - val_loss: 0.0873 - val_precision: 0.3353 - val_recall: 0.2009 - learning_rate: 1.0000e-06\n"
     ]
    },
    {
     "name": "stderr",
     "output_type": "stream",
     "text": [
      "2025-05-18 11:28:13 - INFO - \n",
      "=== Starting Epoch 59 ===\n",
      "\n"
     ]
    },
    {
     "name": "stdout",
     "output_type": "stream",
     "text": [
      "Epoch 59/100\n",
      "\u001b[1m813/813\u001b[0m \u001b[32m━━━━━━━━━━━━━━━━━━━━\u001b[0m\u001b[37m\u001b[0m \u001b[1m0s\u001b[0m 219ms/step - accuracy: 0.9515 - auc: 0.9494 - f1_score: 0.6185 - loss: 0.0449 - precision: 0.7724 - recall: 0.5339  "
     ]
    },
    {
     "name": "stderr",
     "output_type": "stream",
     "text": [
      "2025-05-18 11:31:40 - INFO - \n",
      "=== Epoch 59 Summary ===\n",
      "2025-05-18 11:31:40 - INFO - Time: 206.66s\n",
      "2025-05-18 11:31:40 - INFO - Training   - accuracy: 0.9520 - auc: 0.9503 - f1_score: 0.6217 - loss: 0.0447 - precision: 0.7768 - recall: 0.5364 - learning_rate: 0.0000\n",
      "2025-05-18 11:31:40 - INFO - Validation - accuracy: 0.9274 - auc: 0.7479 - f1_score: 0.2675 - loss: 0.0870 - precision: 0.3116 - recall: 0.2573\n",
      "2025-05-18 11:31:40 - INFO - ==================================================\n",
      "\n"
     ]
    },
    {
     "name": "stdout",
     "output_type": "stream",
     "text": [
      "\u001b[1m813/813\u001b[0m \u001b[32m━━━━━━━━━━━━━━━━━━━━\u001b[0m\u001b[37m\u001b[0m \u001b[1m207s\u001b[0m 255ms/step - accuracy: 0.9515 - auc: 0.9494 - f1_score: 0.6185 - loss: 0.0449 - precision: 0.7724 - recall: 0.5339 - val_accuracy: 0.9274 - val_auc: 0.7479 - val_f1_score: 0.2675 - val_loss: 0.0870 - val_precision: 0.3116 - val_recall: 0.2573 - learning_rate: 1.0000e-06\n"
     ]
    },
    {
     "name": "stderr",
     "output_type": "stream",
     "text": [
      "2025-05-18 11:31:40 - INFO - \n",
      "=== Starting Epoch 60 ===\n",
      "\n"
     ]
    },
    {
     "name": "stdout",
     "output_type": "stream",
     "text": [
      "Epoch 60/100\n",
      "\u001b[1m813/813\u001b[0m \u001b[32m━━━━━━━━━━━━━━━━━━━━\u001b[0m\u001b[37m\u001b[0m \u001b[1m0s\u001b[0m 210ms/step - accuracy: 0.9516 - auc: 0.9499 - f1_score: 0.6209 - loss: 0.0449 - precision: 0.7761 - recall: 0.5352  "
     ]
    },
    {
     "name": "stderr",
     "output_type": "stream",
     "text": [
      "2025-05-18 11:35:02 - INFO - \n",
      "=== Epoch 60 Summary ===\n",
      "2025-05-18 11:35:02 - INFO - Time: 202.18s\n",
      "2025-05-18 11:35:02 - INFO - Training   - accuracy: 0.9521 - auc: 0.9506 - f1_score: 0.6227 - loss: 0.0446 - precision: 0.7768 - recall: 0.5380 - learning_rate: 0.0000\n",
      "2025-05-18 11:35:02 - INFO - Validation - accuracy: 0.9330 - auc: 0.7464 - f1_score: 0.2323 - loss: 0.0887 - precision: 0.3264 - recall: 0.1967\n",
      "2025-05-18 11:35:02 - INFO - ==================================================\n",
      "\n"
     ]
    },
    {
     "name": "stdout",
     "output_type": "stream",
     "text": [
      "\u001b[1m813/813\u001b[0m \u001b[32m━━━━━━━━━━━━━━━━━━━━\u001b[0m\u001b[37m\u001b[0m \u001b[1m202s\u001b[0m 249ms/step - accuracy: 0.9516 - auc: 0.9499 - f1_score: 0.6209 - loss: 0.0449 - precision: 0.7761 - recall: 0.5352 - val_accuracy: 0.9330 - val_auc: 0.7464 - val_f1_score: 0.2323 - val_loss: 0.0887 - val_precision: 0.3264 - val_recall: 0.1967 - learning_rate: 1.0000e-06\n"
     ]
    },
    {
     "name": "stderr",
     "output_type": "stream",
     "text": [
      "2025-05-18 11:35:02 - INFO - \n",
      "=== Starting Epoch 61 ===\n",
      "\n"
     ]
    },
    {
     "name": "stdout",
     "output_type": "stream",
     "text": [
      "Epoch 61/100\n",
      "\u001b[1m813/813\u001b[0m \u001b[32m━━━━━━━━━━━━━━━━━━━━\u001b[0m\u001b[37m\u001b[0m \u001b[1m0s\u001b[0m 210ms/step - accuracy: 0.9518 - auc: 0.9509 - f1_score: 0.6232 - loss: 0.0447 - precision: 0.7799 - recall: 0.5370  "
     ]
    },
    {
     "name": "stderr",
     "output_type": "stream",
     "text": [
      "2025-05-18 11:38:30 - INFO - \n",
      "=== Epoch 61 Summary ===\n",
      "2025-05-18 11:38:30 - INFO - Time: 207.81s\n",
      "2025-05-18 11:38:30 - INFO - Training   - accuracy: 0.9523 - auc: 0.9515 - f1_score: 0.6256 - loss: 0.0444 - precision: 0.7793 - recall: 0.5407 - learning_rate: 0.0000\n",
      "2025-05-18 11:38:30 - INFO - Validation - accuracy: 0.9321 - auc: 0.7456 - f1_score: 0.2434 - loss: 0.0878 - precision: 0.3266 - recall: 0.2133\n",
      "2025-05-18 11:38:30 - INFO - ==================================================\n",
      "\n"
     ]
    },
    {
     "name": "stdout",
     "output_type": "stream",
     "text": [
      "\u001b[1m813/813\u001b[0m \u001b[32m━━━━━━━━━━━━━━━━━━━━\u001b[0m\u001b[37m\u001b[0m \u001b[1m208s\u001b[0m 256ms/step - accuracy: 0.9518 - auc: 0.9509 - f1_score: 0.6232 - loss: 0.0447 - precision: 0.7799 - recall: 0.5370 - val_accuracy: 0.9321 - val_auc: 0.7456 - val_f1_score: 0.2434 - val_loss: 0.0878 - val_precision: 0.3266 - val_recall: 0.2133 - learning_rate: 1.0000e-06\n"
     ]
    },
    {
     "name": "stderr",
     "output_type": "stream",
     "text": [
      "2025-05-18 11:38:30 - INFO - \n",
      "=== Starting Epoch 62 ===\n",
      "\n"
     ]
    },
    {
     "name": "stdout",
     "output_type": "stream",
     "text": [
      "Epoch 62/100\n",
      "\u001b[1m813/813\u001b[0m \u001b[32m━━━━━━━━━━━━━━━━━━━━\u001b[0m\u001b[37m\u001b[0m \u001b[1m0s\u001b[0m 211ms/step - accuracy: 0.9525 - auc: 0.9523 - f1_score: 0.6287 - loss: 0.0443 - precision: 0.7888 - recall: 0.5407  "
     ]
    },
    {
     "name": "stderr",
     "output_type": "stream",
     "text": [
      "2025-05-18 11:41:56 - INFO - \n",
      "=== Epoch 62 Summary ===\n",
      "2025-05-18 11:41:56 - INFO - Time: 206.09s\n",
      "2025-05-18 11:41:56 - INFO - Training   - accuracy: 0.9529 - auc: 0.9525 - f1_score: 0.6305 - loss: 0.0442 - precision: 0.7854 - recall: 0.5447 - learning_rate: 0.0000\n",
      "2025-05-18 11:41:56 - INFO - Validation - accuracy: 0.9287 - auc: 0.7475 - f1_score: 0.2569 - loss: 0.0882 - precision: 0.3164 - recall: 0.2476\n",
      "2025-05-18 11:41:56 - INFO - ==================================================\n",
      "\n"
     ]
    },
    {
     "name": "stdout",
     "output_type": "stream",
     "text": [
      "\u001b[1m813/813\u001b[0m \u001b[32m━━━━━━━━━━━━━━━━━━━━\u001b[0m\u001b[37m\u001b[0m \u001b[1m206s\u001b[0m 254ms/step - accuracy: 0.9525 - auc: 0.9523 - f1_score: 0.6287 - loss: 0.0443 - precision: 0.7888 - recall: 0.5407 - val_accuracy: 0.9287 - val_auc: 0.7475 - val_f1_score: 0.2569 - val_loss: 0.0882 - val_precision: 0.3164 - val_recall: 0.2476 - learning_rate: 1.0000e-06\n"
     ]
    },
    {
     "name": "stderr",
     "output_type": "stream",
     "text": [
      "2025-05-18 11:41:56 - INFO - \n",
      "=== Starting Epoch 63 ===\n",
      "\n"
     ]
    },
    {
     "name": "stdout",
     "output_type": "stream",
     "text": [
      "Epoch 63/100\n",
      "\u001b[1m813/813\u001b[0m \u001b[32m━━━━━━━━━━━━━━━━━━━━\u001b[0m\u001b[37m\u001b[0m \u001b[1m0s\u001b[0m 212ms/step - accuracy: 0.9525 - auc: 0.9528 - f1_score: 0.6286 - loss: 0.0443 - precision: 0.7832 - recall: 0.5421  "
     ]
    },
    {
     "name": "stderr",
     "output_type": "stream",
     "text": [
      "2025-05-18 11:45:14 - INFO - \n",
      "=== Epoch 63 Summary ===\n",
      "2025-05-18 11:45:14 - INFO - Time: 197.73s\n",
      "2025-05-18 11:45:14 - INFO - Training   - accuracy: 0.9529 - auc: 0.9531 - f1_score: 0.6309 - loss: 0.0441 - precision: 0.7832 - recall: 0.5459 - learning_rate: 0.0000\n",
      "2025-05-18 11:45:14 - INFO - Validation - accuracy: 0.9321 - auc: 0.7469 - f1_score: 0.2398 - loss: 0.0889 - precision: 0.3210 - recall: 0.2018\n",
      "2025-05-18 11:45:14 - INFO - ==================================================\n",
      "\n"
     ]
    },
    {
     "name": "stdout",
     "output_type": "stream",
     "text": [
      "\u001b[1m813/813\u001b[0m \u001b[32m━━━━━━━━━━━━━━━━━━━━\u001b[0m\u001b[37m\u001b[0m \u001b[1m198s\u001b[0m 243ms/step - accuracy: 0.9525 - auc: 0.9528 - f1_score: 0.6286 - loss: 0.0443 - precision: 0.7832 - recall: 0.5421 - val_accuracy: 0.9321 - val_auc: 0.7469 - val_f1_score: 0.2398 - val_loss: 0.0889 - val_precision: 0.3210 - val_recall: 0.2018 - learning_rate: 1.0000e-06\n"
     ]
    },
    {
     "name": "stderr",
     "output_type": "stream",
     "text": [
      "2025-05-18 11:45:14 - INFO - \n",
      "=== Starting Epoch 64 ===\n",
      "\n"
     ]
    },
    {
     "name": "stdout",
     "output_type": "stream",
     "text": [
      "Epoch 64/100\n",
      "\u001b[1m813/813\u001b[0m \u001b[32m━━━━━━━━━━━━━━━━━━━━\u001b[0m\u001b[37m\u001b[0m \u001b[1m0s\u001b[0m 215ms/step - accuracy: 0.9528 - auc: 0.9530 - f1_score: 0.6312 - loss: 0.0442 - precision: 0.7844 - recall: 0.5457  "
     ]
    },
    {
     "name": "stderr",
     "output_type": "stream",
     "text": [
      "2025-05-18 11:48:36 - INFO - \n",
      "=== Epoch 64 Summary ===\n",
      "2025-05-18 11:48:36 - INFO - Time: 201.70s\n",
      "2025-05-18 11:48:36 - INFO - Training   - accuracy: 0.9533 - auc: 0.9535 - f1_score: 0.6340 - loss: 0.0440 - precision: 0.7858 - recall: 0.5488 - learning_rate: 0.0000\n",
      "2025-05-18 11:48:36 - INFO - Validation - accuracy: 0.9336 - auc: 0.7458 - f1_score: 0.2133 - loss: 0.0900 - precision: 0.3169 - recall: 0.1725\n",
      "2025-05-18 11:48:36 - INFO - ==================================================\n",
      "\n"
     ]
    },
    {
     "name": "stdout",
     "output_type": "stream",
     "text": [
      "\u001b[1m813/813\u001b[0m \u001b[32m━━━━━━━━━━━━━━━━━━━━\u001b[0m\u001b[37m\u001b[0m \u001b[1m202s\u001b[0m 248ms/step - accuracy: 0.9528 - auc: 0.9530 - f1_score: 0.6312 - loss: 0.0442 - precision: 0.7844 - recall: 0.5457 - val_accuracy: 0.9336 - val_auc: 0.7458 - val_f1_score: 0.2133 - val_loss: 0.0900 - val_precision: 0.3169 - val_recall: 0.1725 - learning_rate: 1.0000e-06\n"
     ]
    },
    {
     "name": "stderr",
     "output_type": "stream",
     "text": [
      "2025-05-18 11:48:36 - INFO - \n",
      "=== Starting Epoch 65 ===\n",
      "\n"
     ]
    },
    {
     "name": "stdout",
     "output_type": "stream",
     "text": [
      "Epoch 65/100\n",
      "\u001b[1m813/813\u001b[0m \u001b[32m━━━━━━━━━━━━━━━━━━━━\u001b[0m\u001b[37m\u001b[0m \u001b[1m0s\u001b[0m 211ms/step - accuracy: 0.9533 - auc: 0.9540 - f1_score: 0.6374 - loss: 0.0440 - precision: 0.7887 - recall: 0.5520  "
     ]
    },
    {
     "name": "stderr",
     "output_type": "stream",
     "text": [
      "2025-05-18 11:51:56 - INFO - \n",
      "=== Epoch 65 Summary ===\n",
      "2025-05-18 11:51:56 - INFO - Time: 199.89s\n",
      "2025-05-18 11:51:56 - INFO - Training   - accuracy: 0.9537 - auc: 0.9543 - f1_score: 0.6386 - loss: 0.0438 - precision: 0.7876 - recall: 0.5541 - learning_rate: 0.0000\n",
      "2025-05-18 11:51:56 - INFO - Validation - accuracy: 0.9350 - auc: 0.7443 - f1_score: 0.1928 - loss: 0.0923 - precision: 0.3194 - recall: 0.1539\n",
      "2025-05-18 11:51:56 - INFO - ==================================================\n",
      "\n"
     ]
    },
    {
     "name": "stdout",
     "output_type": "stream",
     "text": [
      "\u001b[1m813/813\u001b[0m \u001b[32m━━━━━━━━━━━━━━━━━━━━\u001b[0m\u001b[37m\u001b[0m \u001b[1m200s\u001b[0m 246ms/step - accuracy: 0.9533 - auc: 0.9540 - f1_score: 0.6374 - loss: 0.0440 - precision: 0.7887 - recall: 0.5520 - val_accuracy: 0.9350 - val_auc: 0.7443 - val_f1_score: 0.1928 - val_loss: 0.0923 - val_precision: 0.3194 - val_recall: 0.1539 - learning_rate: 1.0000e-06\n"
     ]
    },
    {
     "name": "stderr",
     "output_type": "stream",
     "text": [
      "2025-05-18 11:51:56 - INFO - \n",
      "=== Starting Epoch 66 ===\n",
      "\n"
     ]
    },
    {
     "name": "stdout",
     "output_type": "stream",
     "text": [
      "Epoch 66/100\n",
      "\u001b[1m813/813\u001b[0m \u001b[32m━━━━━━━━━━━━━━━━━━━━\u001b[0m\u001b[37m\u001b[0m \u001b[1m0s\u001b[0m 211ms/step - accuracy: 0.9533 - auc: 0.9546 - f1_score: 0.6374 - loss: 0.0439 - precision: 0.7867 - recall: 0.5530  "
     ]
    },
    {
     "name": "stderr",
     "output_type": "stream",
     "text": [
      "2025-05-18 11:55:11 - INFO - \n",
      "=== Epoch 66 Summary ===\n",
      "2025-05-18 11:55:11 - INFO - Time: 195.11s\n",
      "2025-05-18 11:55:11 - INFO - Training   - accuracy: 0.9540 - auc: 0.9551 - f1_score: 0.6422 - loss: 0.0437 - precision: 0.7892 - recall: 0.5586 - learning_rate: 0.0000\n",
      "2025-05-18 11:55:11 - INFO - Validation - accuracy: 0.9339 - auc: 0.7444 - f1_score: 0.2261 - loss: 0.0884 - precision: 0.3330 - recall: 0.1935\n",
      "2025-05-18 11:55:11 - INFO - ==================================================\n",
      "\n"
     ]
    },
    {
     "name": "stdout",
     "output_type": "stream",
     "text": [
      "\u001b[1m813/813\u001b[0m \u001b[32m━━━━━━━━━━━━━━━━━━━━\u001b[0m\u001b[37m\u001b[0m \u001b[1m195s\u001b[0m 240ms/step - accuracy: 0.9533 - auc: 0.9546 - f1_score: 0.6374 - loss: 0.0439 - precision: 0.7867 - recall: 0.5530 - val_accuracy: 0.9339 - val_auc: 0.7444 - val_f1_score: 0.2261 - val_loss: 0.0884 - val_precision: 0.3330 - val_recall: 0.1935 - learning_rate: 1.0000e-06\n"
     ]
    },
    {
     "name": "stderr",
     "output_type": "stream",
     "text": [
      "2025-05-18 11:55:11 - INFO - \n",
      "=== Starting Epoch 67 ===\n",
      "\n"
     ]
    },
    {
     "name": "stdout",
     "output_type": "stream",
     "text": [
      "Epoch 67/100\n",
      "\u001b[1m813/813\u001b[0m \u001b[32m━━━━━━━━━━━━━━━━━━━━\u001b[0m\u001b[37m\u001b[0m \u001b[1m0s\u001b[0m 215ms/step - accuracy: 0.9538 - auc: 0.9544 - f1_score: 0.6407 - loss: 0.0437 - precision: 0.7887 - recall: 0.5565  "
     ]
    },
    {
     "name": "stderr",
     "output_type": "stream",
     "text": [
      "2025-05-18 11:58:29 - INFO - \n",
      "=== Epoch 67 Summary ===\n",
      "2025-05-18 11:58:29 - INFO - Time: 198.42s\n",
      "2025-05-18 11:58:29 - INFO - Training   - accuracy: 0.9542 - auc: 0.9549 - f1_score: 0.6435 - loss: 0.0436 - precision: 0.7895 - recall: 0.5599 - learning_rate: 0.0000\n",
      "2025-05-18 11:58:29 - INFO - Validation - accuracy: 0.9300 - auc: 0.7469 - f1_score: 0.2513 - loss: 0.0883 - precision: 0.3090 - recall: 0.2135\n",
      "2025-05-18 11:58:29 - INFO - ==================================================\n",
      "\n"
     ]
    },
    {
     "name": "stdout",
     "output_type": "stream",
     "text": [
      "\u001b[1m813/813\u001b[0m \u001b[32m━━━━━━━━━━━━━━━━━━━━\u001b[0m\u001b[37m\u001b[0m \u001b[1m198s\u001b[0m 244ms/step - accuracy: 0.9538 - auc: 0.9544 - f1_score: 0.6407 - loss: 0.0437 - precision: 0.7887 - recall: 0.5565 - val_accuracy: 0.9300 - val_auc: 0.7469 - val_f1_score: 0.2513 - val_loss: 0.0883 - val_precision: 0.3090 - val_recall: 0.2135 - learning_rate: 1.0000e-06\n"
     ]
    },
    {
     "name": "stderr",
     "output_type": "stream",
     "text": [
      "2025-05-18 11:58:29 - INFO - \n",
      "=== Starting Epoch 68 ===\n",
      "\n"
     ]
    },
    {
     "name": "stdout",
     "output_type": "stream",
     "text": [
      "Epoch 68/100\n",
      "\u001b[1m813/813\u001b[0m \u001b[32m━━━━━━━━━━━━━━━━━━━━\u001b[0m\u001b[37m\u001b[0m \u001b[1m0s\u001b[0m 212ms/step - accuracy: 0.9541 - auc: 0.9557 - f1_score: 0.6441 - loss: 0.0436 - precision: 0.7912 - recall: 0.5598  "
     ]
    },
    {
     "name": "stderr",
     "output_type": "stream",
     "text": [
      "2025-05-18 12:01:51 - INFO - \n",
      "=== Epoch 68 Summary ===\n",
      "2025-05-18 12:01:51 - INFO - Time: 202.18s\n",
      "2025-05-18 12:01:51 - INFO - Training   - accuracy: 0.9545 - auc: 0.9566 - f1_score: 0.6470 - loss: 0.0434 - precision: 0.7920 - recall: 0.5637 - learning_rate: 0.0000\n",
      "2025-05-18 12:01:51 - INFO - Validation - accuracy: 0.9333 - auc: 0.7445 - f1_score: 0.2457 - loss: 0.0888 - precision: 0.3334 - recall: 0.2040\n",
      "2025-05-18 12:01:51 - INFO - ==================================================\n",
      "\n"
     ]
    },
    {
     "name": "stdout",
     "output_type": "stream",
     "text": [
      "\u001b[1m813/813\u001b[0m \u001b[32m━━━━━━━━━━━━━━━━━━━━\u001b[0m\u001b[37m\u001b[0m \u001b[1m202s\u001b[0m 249ms/step - accuracy: 0.9541 - auc: 0.9557 - f1_score: 0.6441 - loss: 0.0436 - precision: 0.7912 - recall: 0.5598 - val_accuracy: 0.9333 - val_auc: 0.7445 - val_f1_score: 0.2457 - val_loss: 0.0888 - val_precision: 0.3334 - val_recall: 0.2040 - learning_rate: 1.0000e-06\n"
     ]
    },
    {
     "name": "stderr",
     "output_type": "stream",
     "text": [
      "2025-05-18 12:01:51 - INFO - \n",
      "=== Starting Epoch 69 ===\n",
      "\n"
     ]
    },
    {
     "name": "stdout",
     "output_type": "stream",
     "text": [
      "Epoch 69/100\n",
      "\u001b[1m813/813\u001b[0m \u001b[32m━━━━━━━━━━━━━━━━━━━━\u001b[0m\u001b[37m\u001b[0m \u001b[1m0s\u001b[0m 210ms/step - accuracy: 0.9540 - auc: 0.9562 - f1_score: 0.6455 - loss: 0.0435 - precision: 0.7892 - recall: 0.5626  "
     ]
    },
    {
     "name": "stderr",
     "output_type": "stream",
     "text": [
      "2025-05-18 12:05:05 - INFO - \n",
      "=== Epoch 69 Summary ===\n",
      "2025-05-18 12:05:05 - INFO - Time: 194.07s\n",
      "2025-05-18 12:05:05 - INFO - Training   - accuracy: 0.9544 - auc: 0.9564 - f1_score: 0.6471 - loss: 0.0434 - precision: 0.7905 - recall: 0.5642 - learning_rate: 0.0000\n",
      "2025-05-18 12:05:05 - INFO - Validation - accuracy: 0.9316 - auc: 0.7429 - f1_score: 0.2326 - loss: 0.0906 - precision: 0.3125 - recall: 0.1962\n",
      "2025-05-18 12:05:05 - INFO - ==================================================\n",
      "\n"
     ]
    },
    {
     "name": "stdout",
     "output_type": "stream",
     "text": [
      "\u001b[1m813/813\u001b[0m \u001b[32m━━━━━━━━━━━━━━━━━━━━\u001b[0m\u001b[37m\u001b[0m \u001b[1m194s\u001b[0m 239ms/step - accuracy: 0.9540 - auc: 0.9562 - f1_score: 0.6455 - loss: 0.0435 - precision: 0.7892 - recall: 0.5626 - val_accuracy: 0.9316 - val_auc: 0.7429 - val_f1_score: 0.2326 - val_loss: 0.0906 - val_precision: 0.3125 - val_recall: 0.1962 - learning_rate: 1.0000e-06\n"
     ]
    },
    {
     "name": "stderr",
     "output_type": "stream",
     "text": [
      "2025-05-18 12:05:05 - INFO - \n",
      "=== Starting Epoch 70 ===\n",
      "\n"
     ]
    },
    {
     "name": "stdout",
     "output_type": "stream",
     "text": [
      "Epoch 70/100\n",
      "\u001b[1m813/813\u001b[0m \u001b[32m━━━━━━━━━━━━━━━━━━━━\u001b[0m\u001b[37m\u001b[0m \u001b[1m0s\u001b[0m 216ms/step - accuracy: 0.9546 - auc: 0.9563 - f1_score: 0.6484 - loss: 0.0434 - precision: 0.7959 - recall: 0.5629  "
     ]
    },
    {
     "name": "stderr",
     "output_type": "stream",
     "text": [
      "2025-05-18 12:08:29 - INFO - \n",
      "=== Epoch 70 Summary ===\n",
      "2025-05-18 12:08:29 - INFO - Time: 203.11s\n",
      "2025-05-18 12:08:29 - INFO - Training   - accuracy: 0.9550 - auc: 0.9569 - f1_score: 0.6515 - loss: 0.0432 - precision: 0.7949 - recall: 0.5679 - learning_rate: 0.0000\n",
      "2025-05-18 12:08:29 - INFO - Validation - accuracy: 0.9310 - auc: 0.7435 - f1_score: 0.2380 - loss: 0.0904 - precision: 0.3133 - recall: 0.2068\n",
      "2025-05-18 12:08:29 - INFO - ==================================================\n",
      "\n"
     ]
    },
    {
     "name": "stdout",
     "output_type": "stream",
     "text": [
      "\u001b[1m813/813\u001b[0m \u001b[32m━━━━━━━━━━━━━━━━━━━━\u001b[0m\u001b[37m\u001b[0m \u001b[1m203s\u001b[0m 250ms/step - accuracy: 0.9546 - auc: 0.9563 - f1_score: 0.6484 - loss: 0.0434 - precision: 0.7959 - recall: 0.5629 - val_accuracy: 0.9310 - val_auc: 0.7435 - val_f1_score: 0.2380 - val_loss: 0.0904 - val_precision: 0.3133 - val_recall: 0.2068 - learning_rate: 1.0000e-06\n"
     ]
    },
    {
     "name": "stderr",
     "output_type": "stream",
     "text": [
      "2025-05-18 12:08:29 - INFO - \n",
      "=== Starting Epoch 71 ===\n",
      "\n"
     ]
    },
    {
     "name": "stdout",
     "output_type": "stream",
     "text": [
      "Epoch 71/100\n",
      "\u001b[1m813/813\u001b[0m \u001b[32m━━━━━━━━━━━━━━━━━━━━\u001b[0m\u001b[37m\u001b[0m \u001b[1m0s\u001b[0m 213ms/step - accuracy: 0.9550 - auc: 0.9573 - f1_score: 0.6533 - loss: 0.0431 - precision: 0.7953 - recall: 0.5701  "
     ]
    },
    {
     "name": "stderr",
     "output_type": "stream",
     "text": [
      "2025-05-18 12:11:56 - INFO - \n",
      "=== Epoch 71 Summary ===\n",
      "2025-05-18 12:11:56 - INFO - Time: 207.78s\n",
      "2025-05-18 12:11:56 - INFO - Training   - accuracy: 0.9553 - auc: 0.9577 - f1_score: 0.6554 - loss: 0.0430 - precision: 0.7950 - recall: 0.5731 - learning_rate: 0.0000\n",
      "2025-05-18 12:11:56 - INFO - Validation - accuracy: 0.9336 - auc: 0.7423 - f1_score: 0.2307 - loss: 0.0921 - precision: 0.3323 - recall: 0.1971\n",
      "2025-05-18 12:11:56 - INFO - ==================================================\n",
      "\n"
     ]
    },
    {
     "name": "stdout",
     "output_type": "stream",
     "text": [
      "\u001b[1m813/813\u001b[0m \u001b[32m━━━━━━━━━━━━━━━━━━━━\u001b[0m\u001b[37m\u001b[0m \u001b[1m208s\u001b[0m 256ms/step - accuracy: 0.9550 - auc: 0.9573 - f1_score: 0.6533 - loss: 0.0431 - precision: 0.7953 - recall: 0.5701 - val_accuracy: 0.9336 - val_auc: 0.7423 - val_f1_score: 0.2307 - val_loss: 0.0921 - val_precision: 0.3323 - val_recall: 0.1971 - learning_rate: 1.0000e-06\n"
     ]
    },
    {
     "name": "stderr",
     "output_type": "stream",
     "text": [
      "2025-05-18 12:11:56 - INFO - \n",
      "=== Starting Epoch 72 ===\n",
      "\n"
     ]
    },
    {
     "name": "stdout",
     "output_type": "stream",
     "text": [
      "Epoch 72/100\n",
      "\u001b[1m813/813\u001b[0m \u001b[32m━━━━━━━━━━━━━━━━━━━━\u001b[0m\u001b[37m\u001b[0m \u001b[1m0s\u001b[0m 212ms/step - accuracy: 0.9553 - auc: 0.9579 - f1_score: 0.6572 - loss: 0.0430 - precision: 0.7984 - recall: 0.5737  "
     ]
    },
    {
     "name": "stderr",
     "output_type": "stream",
     "text": [
      "2025-05-18 12:15:26 - INFO - \n",
      "=== Epoch 72 Summary ===\n",
      "2025-05-18 12:15:26 - INFO - Time: 210.04s\n",
      "2025-05-18 12:15:26 - INFO - Training   - accuracy: 0.9556 - auc: 0.9581 - f1_score: 0.6583 - loss: 0.0430 - precision: 0.7976 - recall: 0.5758 - learning_rate: 0.0000\n",
      "2025-05-18 12:15:26 - INFO - Validation - accuracy: 0.9337 - auc: 0.7433 - f1_score: 0.2314 - loss: 0.0902 - precision: 0.3315 - recall: 0.1935\n",
      "2025-05-18 12:15:26 - INFO - ==================================================\n",
      "\n"
     ]
    },
    {
     "name": "stdout",
     "output_type": "stream",
     "text": [
      "\u001b[1m813/813\u001b[0m \u001b[32m━━━━━━━━━━━━━━━━━━━━\u001b[0m\u001b[37m\u001b[0m \u001b[1m210s\u001b[0m 258ms/step - accuracy: 0.9553 - auc: 0.9579 - f1_score: 0.6572 - loss: 0.0430 - precision: 0.7984 - recall: 0.5737 - val_accuracy: 0.9337 - val_auc: 0.7433 - val_f1_score: 0.2314 - val_loss: 0.0902 - val_precision: 0.3315 - val_recall: 0.1935 - learning_rate: 1.0000e-06\n"
     ]
    },
    {
     "name": "stderr",
     "output_type": "stream",
     "text": [
      "2025-05-18 12:15:26 - INFO - \n",
      "=== Starting Epoch 73 ===\n",
      "\n"
     ]
    },
    {
     "name": "stdout",
     "output_type": "stream",
     "text": [
      "Epoch 73/100\n",
      "\u001b[1m813/813\u001b[0m \u001b[32m━━━━━━━━━━━━━━━━━━━━\u001b[0m\u001b[37m\u001b[0m \u001b[1m0s\u001b[0m 211ms/step - accuracy: 0.9552 - auc: 0.9583 - f1_score: 0.6568 - loss: 0.0430 - precision: 0.7964 - recall: 0.5748  "
     ]
    },
    {
     "name": "stderr",
     "output_type": "stream",
     "text": [
      "2025-05-18 12:18:48 - INFO - \n",
      "=== Epoch 73 Summary ===\n",
      "2025-05-18 12:18:48 - INFO - Time: 201.29s\n",
      "2025-05-18 12:18:48 - INFO - Training   - accuracy: 0.9556 - auc: 0.9586 - f1_score: 0.6591 - loss: 0.0428 - precision: 0.7963 - recall: 0.5776 - learning_rate: 0.0000\n",
      "2025-05-18 12:18:48 - INFO - Validation - accuracy: 0.9317 - auc: 0.7461 - f1_score: 0.2389 - loss: 0.0902 - precision: 0.3163 - recall: 0.2012\n",
      "2025-05-18 12:18:48 - INFO - ==================================================\n",
      "\n"
     ]
    },
    {
     "name": "stdout",
     "output_type": "stream",
     "text": [
      "\u001b[1m813/813\u001b[0m \u001b[32m━━━━━━━━━━━━━━━━━━━━\u001b[0m\u001b[37m\u001b[0m \u001b[1m201s\u001b[0m 248ms/step - accuracy: 0.9552 - auc: 0.9583 - f1_score: 0.6568 - loss: 0.0430 - precision: 0.7964 - recall: 0.5748 - val_accuracy: 0.9317 - val_auc: 0.7461 - val_f1_score: 0.2389 - val_loss: 0.0902 - val_precision: 0.3163 - val_recall: 0.2012 - learning_rate: 1.0000e-06\n"
     ]
    },
    {
     "name": "stderr",
     "output_type": "stream",
     "text": [
      "2025-05-18 12:18:48 - INFO - \n",
      "=== Starting Epoch 74 ===\n",
      "\n"
     ]
    },
    {
     "name": "stdout",
     "output_type": "stream",
     "text": [
      "Epoch 74/100\n",
      "\u001b[1m813/813\u001b[0m \u001b[32m━━━━━━━━━━━━━━━━━━━━\u001b[0m\u001b[37m\u001b[0m \u001b[1m0s\u001b[0m 211ms/step - accuracy: 0.9558 - auc: 0.9592 - f1_score: 0.6611 - loss: 0.0428 - precision: 0.7980 - recall: 0.5792  "
     ]
    },
    {
     "name": "stderr",
     "output_type": "stream",
     "text": [
      "2025-05-18 12:22:07 - INFO - \n",
      "=== Epoch 74 Summary ===\n",
      "2025-05-18 12:22:07 - INFO - Time: 198.93s\n",
      "2025-05-18 12:22:07 - INFO - Training   - accuracy: 0.9562 - auc: 0.9595 - f1_score: 0.6636 - loss: 0.0426 - precision: 0.7994 - recall: 0.5824 - learning_rate: 0.0000\n",
      "2025-05-18 12:22:07 - INFO - Validation - accuracy: 0.9313 - auc: 0.7422 - f1_score: 0.2527 - loss: 0.0903 - precision: 0.3268 - recall: 0.2262\n",
      "2025-05-18 12:22:07 - INFO - ==================================================\n",
      "\n"
     ]
    },
    {
     "name": "stdout",
     "output_type": "stream",
     "text": [
      "\u001b[1m813/813\u001b[0m \u001b[32m━━━━━━━━━━━━━━━━━━━━\u001b[0m\u001b[37m\u001b[0m \u001b[1m199s\u001b[0m 245ms/step - accuracy: 0.9558 - auc: 0.9592 - f1_score: 0.6611 - loss: 0.0428 - precision: 0.7980 - recall: 0.5792 - val_accuracy: 0.9313 - val_auc: 0.7422 - val_f1_score: 0.2527 - val_loss: 0.0903 - val_precision: 0.3268 - val_recall: 0.2262 - learning_rate: 1.0000e-06\n"
     ]
    },
    {
     "name": "stderr",
     "output_type": "stream",
     "text": [
      "2025-05-18 12:22:07 - INFO - \n",
      "=== Training Completed! ===\n",
      "\n",
      "2025-05-18 12:22:07 - INFO - Final Metrics: accuracy: 0.9562 - auc: 0.9595 - f1_score: 0.6636 - loss: 0.0426 - precision: 0.7994 - recall: 0.5824 - val_accuracy: 0.9313 - val_auc: 0.7422 - val_f1_score: 0.2527 - val_loss: 0.0903 - val_precision: 0.3268 - val_recall: 0.2262\n",
      "\n"
     ]
    },
    {
     "name": "stdout",
     "output_type": "stream",
     "text": [
      "Epoch 74: early stopping\n",
      "Restoring model weights from the end of the best epoch: 59.\n"
     ]
    }
   ],
   "source": [
    "# Model Training\n",
    "model          = build_densenet121(num_classes)\n",
    "optimizer      = Adam(learning_rate=1e-4)\n",
    "compile_kwargs = {'optimizer': optimizer, 'loss': loss, 'metrics': metrics}\n",
    "\n",
    "history, model = start_or_resume_training(\n",
    "    model, \n",
    "    compile_kwargs, \n",
    "    train_ds, \n",
    "    val_ds, \n",
    "    TF_MAX_EPOCHS,\n",
    "    steps_per_epoch, \n",
    "    validation_steps, \n",
    "    class_weights=class_weights,\n",
    "    callbacks=[checkpoint, best_checkpoint, reduce_lr, training_logger, metrics_monitor, early_stopping], \n",
    "    checkpoint_path=checkpoint_path,\n",
    "    initial_epoch=initial_epoch,\n",
    "    output_dir=MODELS_PATH,\n",
    "    model_name=model_name,\n",
    "    logger=logger\n",
    ")"
   ]
  }
 ],
 "metadata": {
  "kernelspec": {
   "display_name": "Python 3 (ipykernel)",
   "language": "python",
   "name": "python3"
  },
  "language_info": {
   "codemirror_mode": {
    "name": "ipython",
    "version": 3
   },
   "file_extension": ".py",
   "mimetype": "text/x-python",
   "name": "python",
   "nbconvert_exporter": "python",
   "pygments_lexer": "ipython3",
   "version": "3.10.16"
  }
 },
 "nbformat": 4,
 "nbformat_minor": 5
}
