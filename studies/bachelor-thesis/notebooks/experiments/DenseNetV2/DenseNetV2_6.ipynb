{
 "cells": [
  {
   "cell_type": "code",
   "execution_count": 1,
   "id": "b694919a-9b18-4068-8e69-7258de889dff",
   "metadata": {},
   "outputs": [
    {
     "name": "stderr",
     "output_type": "stream",
     "text": [
      "2025-05-21 05:51:39.893851: E external/local_xla/xla/stream_executor/cuda/cuda_fft.cc:467] Unable to register cuFFT factory: Attempting to register factory for plugin cuFFT when one has already been registered\n",
      "WARNING: All log messages before absl::InitializeLog() is called are written to STDERR\n",
      "E0000 00:00:1747799499.994756    4041 cuda_dnn.cc:8579] Unable to register cuDNN factory: Attempting to register factory for plugin cuDNN when one has already been registered\n",
      "E0000 00:00:1747799500.024001    4041 cuda_blas.cc:1407] Unable to register cuBLAS factory: Attempting to register factory for plugin cuBLAS when one has already been registered\n",
      "W0000 00:00:1747799500.263228    4041 computation_placer.cc:177] computation placer already registered. Please check linkage and avoid linking the same target more than once.\n",
      "W0000 00:00:1747799500.263237    4041 computation_placer.cc:177] computation placer already registered. Please check linkage and avoid linking the same target more than once.\n",
      "W0000 00:00:1747799500.263238    4041 computation_placer.cc:177] computation placer already registered. Please check linkage and avoid linking the same target more than once.\n",
      "W0000 00:00:1747799500.263239    4041 computation_placer.cc:177] computation placer already registered. Please check linkage and avoid linking the same target more than once.\n"
     ]
    },
    {
     "name": "stdout",
     "output_type": "stream",
     "text": [
      "\n",
      "GPU configuration successful!\n",
      "Device: /physical_device:GPU:0\n",
      "Memory limit: 18.0 GB\n",
      "\n",
      "TensorFlow optimizations status:\n",
      "- CPU Threads: 16 intra-op, 9 inter-op (32 cores total)\n",
      "- XLA JIT: enabled (autoclustering)\n",
      "- Synchronous Execution: enabled\n",
      "\n",
      "GPU Device Details:\n",
      "- Device: GPU /physical_device:GPU:0\n",
      "- Memory limit: 18.0 GB\n"
     ]
    },
    {
     "name": "stderr",
     "output_type": "stream",
     "text": [
      "I0000 00:00:1747799503.807561    4041 gpu_process_state.cc:208] Using CUDA malloc Async allocator for GPU: 0\n",
      "I0000 00:00:1747799503.808403    4041 gpu_device.cc:2019] Created device /job:localhost/replica:0/task:0/device:GPU:0 with 19327352832 MB memory:  -> device: 0, name: NVIDIA GeForce RTX 3090 Ti, pci bus id: 0000:01:00.0, compute capability: 8.6\n"
     ]
    }
   ],
   "source": [
    "# Import dependencies\n",
    "import os\n",
    "\n",
    "os.environ['TF_CPP_MIN_VLOG_LEVEL'] = '0'\n",
    "os.environ['TF_CPP_MIN_LOG_LEVEL'] = '2'\n",
    "os.environ['TF_GPU_ALLOCATOR'] = 'cuda_malloc_async'\n",
    "os.environ['TF_FORCE_GPU_ALLOW_GROWTH'] = 'true'\n",
    "\n",
    "from src.utils.gpu_config import configure_gpu, optimize_tensorflow\n",
    "\n",
    "configure_gpu()\n",
    "optimize_tensorflow()"
   ]
  },
  {
   "cell_type": "code",
   "execution_count": 2,
   "id": "2b854daf-5f2a-4c33-9180-5081cd415b16",
   "metadata": {},
   "outputs": [],
   "source": [
    "# Import Tensorflow Keras\n",
    "from tensorflow.keras.optimizers import Adam\n",
    "from tensorflow.keras.losses import BinaryFocalCrossentropy\n",
    "from tensorflow.keras.callbacks import ReduceLROnPlateau, ModelCheckpoint\n",
    "\n",
    "# Import local modules\n",
    "from src.utils.consts import TF_RECORD_DATASET, MODELS_PATH, TF_BUFFER_SIZE, TF_SHUFFLE_SIZE, TF_BATCH_SIZE, TF_MAX_EPOCHS, NO_FINDING_CLASS_IDX\n",
    "from src.model.tensorflow_utils import load_dataset, optimize_dataset, count_dataset_size, get_num_classes, get_metrics\n",
    "from src.model.tensorflow_utils import setup_logger, setup_training_logger, setup_metrics_monitor, setup_early_stopping, filter_no_finding_class\n",
    "from src.model.tensorflow_utils import start_or_resume_training, apply_augmentation_to_dataset, calculate_class_weights, oversample_minority_classes\n",
    "from src.model.densnet.tensorflow_dense_net_121 import build_densenet121\n",
    "from src.model.loss import NoFindingBinaryCrossentropy\n",
    "\n",
    "# Input Data\n",
    "initial_epoch   = 30\n",
    "resume_training = True\n",
    "checkpoint_path = '/home/piotr/Pulpit/codebook/studies/bachelor-thesis/models/DenseNetV2_6/checkpoints/cp-0029.keras'\n",
    "set_name        = \"DenseNetV2\"\n",
    "model_name      = f\"{set_name}_6\"\n",
    "num_classes     = get_num_classes()\n",
    "\n",
    "train_ds = load_dataset(f\"{TF_RECORD_DATASET}/train.tfrecord\", TF_BUFFER_SIZE)\n",
    "val_ds   = load_dataset(f\"{TF_RECORD_DATASET}/val.tfrecord\", TF_BUFFER_SIZE)\n",
    "\n",
    "class_weights = calculate_class_weights(train_ds, num_classes)\n",
    "train_ds      = oversample_minority_classes(train_ds, class_weights)\n",
    "class_weights = calculate_class_weights(train_ds, num_classes)"
   ]
  },
  {
   "cell_type": "code",
   "execution_count": 3,
   "id": "5f152b8a-8ff8-4095-9815-e304ce2beb52",
   "metadata": {},
   "outputs": [
    {
     "name": "stderr",
     "output_type": "stream",
     "text": [
      "Counting samples: 111784 samples [00:42, 2641.59 samples/s] \n",
      "Counting samples: 15431 samples [00:14, 1039.99 samples/s]\n"
     ]
    }
   ],
   "source": [
    "steps_per_epoch  = int(count_dataset_size(train_ds, None) / TF_BATCH_SIZE)\n",
    "validation_steps = int(count_dataset_size(val_ds, None) / TF_BATCH_SIZE)\n",
    "\n",
    "# Disable Advanced Augmentations\n",
    "probability = {\n",
    "    \"intensity_scaling\": 0,\n",
    "    \"adaptive_histogram\": 0,\n",
    "    \"zoom\": 0,\n",
    "    \"cutout\": 0\n",
    "}\n",
    "\n",
    "train_ds = train_ds.shuffle(TF_SHUFFLE_SIZE, reshuffle_each_iteration=True)\n",
    "train_ds = apply_augmentation_to_dataset(train_ds, probability)\n",
    "train_ds = optimize_dataset(train_ds, TF_BATCH_SIZE)\n",
    "\n",
    "val_ds   = optimize_dataset(val_ds, TF_BATCH_SIZE)"
   ]
  },
  {
   "cell_type": "code",
   "execution_count": 4,
   "id": "3a0e37c9-b178-40d8-bd25-8c0a6498564a",
   "metadata": {},
   "outputs": [
    {
     "name": "stderr",
     "output_type": "stream",
     "text": [
      "2025-05-21 05:54:29 - INFO - Resuming from existing metrics file: /home/piotr/Pulpit/codebook/studies/bachelor-thesis/models/DenseNetV2_6/train_metrics.csv\n",
      "2025-05-21 05:54:29 - INFO - Resuming from existing validation metrics file: /home/piotr/Pulpit/codebook/studies/bachelor-thesis/models/DenseNetV2_6/val_metrics.csv\n",
      "2025-05-21 05:54:29 - INFO - Cleaned training metrics file, kept 25317 records before epoch 30\n",
      "2025-05-21 05:54:29 - INFO - Cleaned validation metrics file, kept 29 records before epoch 30\n",
      "2025-05-21 05:54:29 - INFO - Found 25317 existing training records\n",
      "2025-05-21 05:54:29 - INFO - Found 29 existing validation records\n"
     ]
    }
   ],
   "source": [
    "# Setup Model Deps\n",
    "logger            = setup_logger()\n",
    "training_logger   = setup_training_logger(logger, TF_BATCH_SIZE, 100)\n",
    "metrics_monitor   = setup_metrics_monitor(MODELS_PATH, model_name, logger, resume_training=resume_training, initial_epoch=initial_epoch)\n",
    "metrics           = get_metrics()\n",
    "\n",
    "# Setup compile arguments\n",
    "loss           = NoFindingBinaryCrossentropy(no_finding_idx=NO_FINDING_CLASS_IDX, from_logits=False)\n",
    "reduce_lr      = ReduceLROnPlateau(monitor=\"val_f1_score\", factor=0.5,  patience=3, min_lr=1e-6, mode=\"max\", verbose=1)\n",
    "early_stopping = setup_early_stopping()\n",
    "\n",
    "epoch_mode           = 'cp-{epoch:04d}'\n",
    "save_checkpoint_path = f\"{MODELS_PATH}/{model_name}/checkpoints/{epoch_mode}.keras\"\n",
    "checkpoint           = ModelCheckpoint(save_checkpoint_path, monitor=\"val_f1_score\", save_best_only=False, mode=\"max\", save_weights_only=False)\n",
    "\n",
    "model_path      = f\"{MODELS_PATH}/{model_name}.keras\"\n",
    "best_checkpoint = ModelCheckpoint(model_path, monitor=\"val_f1_score\", save_best_only=True, mode=\"max\", save_weights_only=False)"
   ]
  },
  {
   "cell_type": "code",
   "execution_count": 5,
   "id": "c44d4a9a-ffbb-4917-a702-c35773b9857c",
   "metadata": {},
   "outputs": [
    {
     "name": "stderr",
     "output_type": "stream",
     "text": [
      "2025-05-21 05:54:31 - INFO - Resuming training from checkpoint: /home/piotr/Pulpit/codebook/studies/bachelor-thesis/models/DenseNetV2_6/checkpoints/cp-0029.keras\n",
      "2025-05-21 05:54:33 - INFO - Resuming from existing metrics file: /home/piotr/Pulpit/codebook/studies/bachelor-thesis/models/DenseNetV2_6/train_metrics.csv\n",
      "2025-05-21 05:54:33 - INFO - Resuming from existing validation metrics file: /home/piotr/Pulpit/codebook/studies/bachelor-thesis/models/DenseNetV2_6/val_metrics.csv\n",
      "2025-05-21 05:54:33 - INFO - Cleaned training metrics file, kept 25317 records before epoch 30\n",
      "2025-05-21 05:54:33 - INFO - Cleaned validation metrics file, kept 29 records before epoch 30\n",
      "2025-05-21 05:54:33 - INFO - Found 25317 existing training records\n",
      "2025-05-21 05:54:33 - INFO - Found 29 existing validation records\n",
      "2025-05-21 05:54:33 - INFO - \n",
      "=== Training Started ===\n",
      "\n",
      "2025-05-21 05:54:33 - INFO - Batch Size: 128\n",
      "2025-05-21 05:54:33 - INFO - Optimizer: Adam\n",
      "2025-05-21 05:54:33 - INFO - \n",
      "==================================================\n",
      "\n",
      "2025-05-21 05:54:33 - INFO - \n",
      "=== Starting Epoch 30 ===\n",
      "\n"
     ]
    },
    {
     "name": "stdout",
     "output_type": "stream",
     "text": [
      "Epoch 30/100\n"
     ]
    },
    {
     "name": "stderr",
     "output_type": "stream",
     "text": [
      "WARNING: All log messages before absl::InitializeLog() is called are written to STDERR\n",
      "I0000 00:00:1747799697.399435    4097 service.cc:152] XLA service 0x76d0600469a0 initialized for platform CUDA (this does not guarantee that XLA will be used). Devices:\n",
      "I0000 00:00:1747799697.399483    4097 service.cc:160]   StreamExecutor device (0): NVIDIA GeForce RTX 3090 Ti, Compute Capability 8.6\n",
      "I0000 00:00:1747799704.502547    4097 cuda_dnn.cc:529] Loaded cuDNN version 90300\n",
      "I0000 00:00:1747799769.059259    4097 device_compiler.h:188] Compiled cluster using XLA!  This line is logged at most once for the lifetime of the process.\n"
     ]
    },
    {
     "name": "stdout",
     "output_type": "stream",
     "text": [
      "\u001b[1m873/873\u001b[0m \u001b[32m━━━━━━━━━━━━━━━━━━━━\u001b[0m\u001b[37m\u001b[0m \u001b[1m0s\u001b[0m 260ms/step - accuracy: 0.9596 - auc: 0.9478 - f1_score: 0.7552 - loss: 0.2379 - precision: 0.8624 - recall: 0.6838  "
     ]
    },
    {
     "name": "stderr",
     "output_type": "stream",
     "text": [
      "2025-05-21 06:00:20 - INFO - \n",
      "=== Epoch 30 Summary ===\n",
      "2025-05-21 06:00:20 - INFO - Time: 346.72s\n",
      "2025-05-21 06:00:20 - INFO - Training   - accuracy: 0.9611 - auc: 0.9515 - f1_score: 0.7648 - loss: 0.2355 - precision: 0.8693 - recall: 0.6937 - learning_rate: 0.0000\n",
      "2025-05-21 06:00:20 - INFO - Validation - accuracy: 0.9186 - auc: 0.7108 - f1_score: 0.4212 - loss: 0.5137 - precision: 0.5290 - recall: 0.3992\n",
      "2025-05-21 06:00:20 - INFO - ==================================================\n",
      "\n"
     ]
    },
    {
     "name": "stdout",
     "output_type": "stream",
     "text": [
      "\u001b[1m873/873\u001b[0m \u001b[32m━━━━━━━━━━━━━━━━━━━━\u001b[0m\u001b[37m\u001b[0m \u001b[1m347s\u001b[0m 287ms/step - accuracy: 0.9596 - auc: 0.9478 - f1_score: 0.7552 - loss: 0.2379 - precision: 0.8624 - recall: 0.6838 - val_accuracy: 0.9186 - val_auc: 0.7108 - val_f1_score: 0.4212 - val_loss: 0.5137 - val_precision: 0.5290 - val_recall: 0.3992 - learning_rate: 3.1250e-06\n"
     ]
    },
    {
     "name": "stderr",
     "output_type": "stream",
     "text": [
      "2025-05-21 06:00:20 - INFO - \n",
      "=== Starting Epoch 31 ===\n",
      "\n"
     ]
    },
    {
     "name": "stdout",
     "output_type": "stream",
     "text": [
      "Epoch 31/100\n",
      "\u001b[1m873/873\u001b[0m \u001b[32m━━━━━━━━━━━━━━━━━━━━\u001b[0m\u001b[37m\u001b[0m \u001b[1m0s\u001b[0m 259ms/step - accuracy: 0.9608 - auc: 0.9491 - f1_score: 0.7629 - loss: 0.2367 - precision: 0.8686 - recall: 0.6921  "
     ]
    },
    {
     "name": "stderr",
     "output_type": "stream",
     "text": [
      "2025-05-21 06:05:19 - INFO - \n",
      "=== Epoch 31 Summary ===\n",
      "2025-05-21 06:05:19 - INFO - Time: 299.20s\n",
      "2025-05-21 06:05:19 - INFO - Training   - accuracy: 0.9620 - auc: 0.9523 - f1_score: 0.7707 - loss: 0.2343 - precision: 0.8736 - recall: 0.7005 - learning_rate: 0.0000\n",
      "2025-05-21 06:05:19 - INFO - Validation - accuracy: 0.9164 - auc: 0.7234 - f1_score: 0.4115 - loss: 0.5080 - precision: 0.5126 - recall: 0.3848\n",
      "2025-05-21 06:05:19 - INFO - ==================================================\n",
      "\n"
     ]
    },
    {
     "name": "stdout",
     "output_type": "stream",
     "text": [
      "\u001b[1m873/873\u001b[0m \u001b[32m━━━━━━━━━━━━━━━━━━━━\u001b[0m\u001b[37m\u001b[0m \u001b[1m299s\u001b[0m 280ms/step - accuracy: 0.9608 - auc: 0.9491 - f1_score: 0.7629 - loss: 0.2367 - precision: 0.8686 - recall: 0.6921 - val_accuracy: 0.9164 - val_auc: 0.7234 - val_f1_score: 0.4115 - val_loss: 0.5080 - val_precision: 0.5126 - val_recall: 0.3848 - learning_rate: 3.1250e-06\n"
     ]
    },
    {
     "name": "stderr",
     "output_type": "stream",
     "text": [
      "2025-05-21 06:05:19 - INFO - \n",
      "=== Starting Epoch 32 ===\n",
      "\n"
     ]
    },
    {
     "name": "stdout",
     "output_type": "stream",
     "text": [
      "Epoch 32/100\n",
      "\u001b[1m873/873\u001b[0m \u001b[32m━━━━━━━━━━━━━━━━━━━━\u001b[0m\u001b[37m\u001b[0m \u001b[1m0s\u001b[0m 263ms/step - accuracy: 0.9612 - auc: 0.9517 - f1_score: 0.7664 - loss: 0.2349 - precision: 0.8703 - recall: 0.6956  "
     ]
    },
    {
     "name": "stderr",
     "output_type": "stream",
     "text": [
      "2025-05-21 06:09:26 - INFO - \n",
      "=== Epoch 32 Summary ===\n",
      "2025-05-21 06:09:26 - INFO - Time: 246.87s\n",
      "2025-05-21 06:09:26 - INFO - Training   - accuracy: 0.9627 - auc: 0.9545 - f1_score: 0.7756 - loss: 0.2331 - precision: 0.8757 - recall: 0.7061 - learning_rate: 0.0000\n",
      "2025-05-21 06:09:26 - INFO - Validation - accuracy: 0.9161 - auc: 0.7106 - f1_score: 0.4228 - loss: 0.5212 - precision: 0.5092 - recall: 0.4023\n",
      "2025-05-21 06:09:26 - INFO - ==================================================\n",
      "\n"
     ]
    },
    {
     "name": "stdout",
     "output_type": "stream",
     "text": [
      "\u001b[1m873/873\u001b[0m \u001b[32m━━━━━━━━━━━━━━━━━━━━\u001b[0m\u001b[37m\u001b[0m \u001b[1m247s\u001b[0m 283ms/step - accuracy: 0.9612 - auc: 0.9517 - f1_score: 0.7664 - loss: 0.2349 - precision: 0.8703 - recall: 0.6957 - val_accuracy: 0.9161 - val_auc: 0.7106 - val_f1_score: 0.4228 - val_loss: 0.5212 - val_precision: 0.5092 - val_recall: 0.4023 - learning_rate: 3.1250e-06\n"
     ]
    },
    {
     "name": "stderr",
     "output_type": "stream",
     "text": [
      "2025-05-21 06:09:26 - INFO - \n",
      "=== Starting Epoch 33 ===\n",
      "\n"
     ]
    },
    {
     "name": "stdout",
     "output_type": "stream",
     "text": [
      "Epoch 33/100\n",
      "\u001b[1m873/873\u001b[0m \u001b[32m━━━━━━━━━━━━━━━━━━━━\u001b[0m\u001b[37m\u001b[0m \u001b[1m0s\u001b[0m 264ms/step - accuracy: 0.9623 - auc: 0.9531 - f1_score: 0.7736 - loss: 0.2342 - precision: 0.8733 - recall: 0.7051  "
     ]
    },
    {
     "name": "stderr",
     "output_type": "stream",
     "text": [
      "2025-05-21 06:13:33 - INFO - \n",
      "=== Epoch 33 Summary ===\n",
      "2025-05-21 06:13:33 - INFO - Time: 246.89s\n",
      "2025-05-21 06:13:33 - INFO - Training   - accuracy: 0.9635 - auc: 0.9557 - f1_score: 0.7809 - loss: 0.2321 - precision: 0.8782 - recall: 0.7131 - learning_rate: 0.0000\n",
      "2025-05-21 06:13:33 - INFO - Validation - accuracy: 0.9164 - auc: 0.7069 - f1_score: 0.4113 - loss: 0.5243 - precision: 0.5118 - recall: 0.3910\n",
      "2025-05-21 06:13:33 - INFO - ==================================================\n",
      "\n"
     ]
    },
    {
     "name": "stdout",
     "output_type": "stream",
     "text": [
      "\u001b[1m873/873\u001b[0m \u001b[32m━━━━━━━━━━━━━━━━━━━━\u001b[0m\u001b[37m\u001b[0m \u001b[1m247s\u001b[0m 283ms/step - accuracy: 0.9623 - auc: 0.9531 - f1_score: 0.7737 - loss: 0.2342 - precision: 0.8733 - recall: 0.7051 - val_accuracy: 0.9164 - val_auc: 0.7069 - val_f1_score: 0.4113 - val_loss: 0.5243 - val_precision: 0.5118 - val_recall: 0.3910 - learning_rate: 3.1250e-06\n"
     ]
    },
    {
     "name": "stderr",
     "output_type": "stream",
     "text": [
      "2025-05-21 06:13:33 - INFO - \n",
      "=== Starting Epoch 34 ===\n",
      "\n"
     ]
    },
    {
     "name": "stdout",
     "output_type": "stream",
     "text": [
      "Epoch 34/100\n",
      "\u001b[1m873/873\u001b[0m \u001b[32m━━━━━━━━━━━━━━━━━━━━\u001b[0m\u001b[37m\u001b[0m \u001b[1m0s\u001b[0m 262ms/step - accuracy: 0.9627 - auc: 0.9537 - f1_score: 0.7766 - loss: 0.2325 - precision: 0.8748 - recall: 0.7084  "
     ]
    },
    {
     "name": "stderr",
     "output_type": "stream",
     "text": [
      "2025-05-21 06:17:37 - INFO - \n",
      "=== Epoch 34 Summary ===\n",
      "2025-05-21 06:17:37 - INFO - Time: 243.96s\n",
      "2025-05-21 06:17:37 - INFO - Training   - accuracy: 0.9639 - auc: 0.9568 - f1_score: 0.7841 - loss: 0.2309 - precision: 0.8802 - recall: 0.7163 - learning_rate: 0.0000\n",
      "2025-05-21 06:17:37 - INFO - Validation - accuracy: 0.9173 - auc: 0.7114 - f1_score: 0.4153 - loss: 0.5190 - precision: 0.5189 - recall: 0.3970\n",
      "2025-05-21 06:17:37 - INFO - ==================================================\n",
      "\n"
     ]
    },
    {
     "name": "stdout",
     "output_type": "stream",
     "text": [
      "\u001b[1m873/873\u001b[0m \u001b[32m━━━━━━━━━━━━━━━━━━━━\u001b[0m\u001b[37m\u001b[0m \u001b[1m244s\u001b[0m 279ms/step - accuracy: 0.9627 - auc: 0.9537 - f1_score: 0.7767 - loss: 0.2325 - precision: 0.8749 - recall: 0.7085 - val_accuracy: 0.9173 - val_auc: 0.7114 - val_f1_score: 0.4153 - val_loss: 0.5190 - val_precision: 0.5189 - val_recall: 0.3970 - learning_rate: 3.1250e-06\n"
     ]
    },
    {
     "name": "stderr",
     "output_type": "stream",
     "text": [
      "2025-05-21 06:17:37 - INFO - \n",
      "=== Starting Epoch 35 ===\n",
      "\n"
     ]
    },
    {
     "name": "stdout",
     "output_type": "stream",
     "text": [
      "Epoch 35/100\n",
      "\u001b[1m873/873\u001b[0m \u001b[32m━━━━━━━━━━━━━━━━━━━━\u001b[0m\u001b[37m\u001b[0m \u001b[1m0s\u001b[0m 260ms/step - accuracy: 0.9633 - auc: 0.9546 - f1_score: 0.7813 - loss: 0.2316 - precision: 0.8762 - recall: 0.7148  \n",
      "Epoch 35: ReduceLROnPlateau reducing learning rate to 1.56249996052793e-06.\n"
     ]
    },
    {
     "name": "stderr",
     "output_type": "stream",
     "text": [
      "2025-05-21 06:21:40 - INFO - \n",
      "=== Epoch 35 Summary ===\n",
      "2025-05-21 06:21:40 - INFO - Time: 242.96s\n",
      "2025-05-21 06:21:40 - INFO - Training   - accuracy: 0.9645 - auc: 0.9573 - f1_score: 0.7885 - loss: 0.2301 - precision: 0.8817 - recall: 0.7224 - learning_rate: 0.0000\n",
      "2025-05-21 06:21:40 - INFO - Validation - accuracy: 0.9119 - auc: 0.7187 - f1_score: 0.4142 - loss: 0.5284 - precision: 0.4783 - recall: 0.3814\n",
      "2025-05-21 06:21:40 - INFO - ==================================================\n",
      "\n"
     ]
    },
    {
     "name": "stdout",
     "output_type": "stream",
     "text": [
      "\u001b[1m873/873\u001b[0m \u001b[32m━━━━━━━━━━━━━━━━━━━━\u001b[0m\u001b[37m\u001b[0m \u001b[1m243s\u001b[0m 278ms/step - accuracy: 0.9633 - auc: 0.9546 - f1_score: 0.7813 - loss: 0.2316 - precision: 0.8762 - recall: 0.7148 - val_accuracy: 0.9119 - val_auc: 0.7187 - val_f1_score: 0.4142 - val_loss: 0.5284 - val_precision: 0.4783 - val_recall: 0.3814 - learning_rate: 3.1250e-06\n"
     ]
    },
    {
     "name": "stderr",
     "output_type": "stream",
     "text": [
      "2025-05-21 06:21:40 - INFO - \n",
      "=== Starting Epoch 36 ===\n",
      "\n"
     ]
    },
    {
     "name": "stdout",
     "output_type": "stream",
     "text": [
      "Epoch 36/100\n",
      "\u001b[1m873/873\u001b[0m \u001b[32m━━━━━━━━━━━━━━━━━━━━\u001b[0m\u001b[37m\u001b[0m \u001b[1m0s\u001b[0m 261ms/step - accuracy: 0.9642 - auc: 0.9562 - f1_score: 0.7866 - loss: 0.2306 - precision: 0.8813 - recall: 0.7202  "
     ]
    },
    {
     "name": "stderr",
     "output_type": "stream",
     "text": [
      "2025-05-21 06:25:43 - INFO - \n",
      "=== Epoch 36 Summary ===\n",
      "2025-05-21 06:25:43 - INFO - Time: 243.53s\n",
      "2025-05-21 06:25:43 - INFO - Training   - accuracy: 0.9655 - auc: 0.9594 - f1_score: 0.7947 - loss: 0.2286 - precision: 0.8858 - recall: 0.7296 - learning_rate: 0.0000\n",
      "2025-05-21 06:25:43 - INFO - Validation - accuracy: 0.9170 - auc: 0.7099 - f1_score: 0.4224 - loss: 0.5185 - precision: 0.5160 - recall: 0.4008\n",
      "2025-05-21 06:25:43 - INFO - ==================================================\n",
      "\n"
     ]
    },
    {
     "name": "stdout",
     "output_type": "stream",
     "text": [
      "\u001b[1m873/873\u001b[0m \u001b[32m━━━━━━━━━━━━━━━━━━━━\u001b[0m\u001b[37m\u001b[0m \u001b[1m244s\u001b[0m 279ms/step - accuracy: 0.9642 - auc: 0.9562 - f1_score: 0.7866 - loss: 0.2306 - precision: 0.8813 - recall: 0.7202 - val_accuracy: 0.9170 - val_auc: 0.7099 - val_f1_score: 0.4224 - val_loss: 0.5185 - val_precision: 0.5160 - val_recall: 0.4008 - learning_rate: 1.5625e-06\n"
     ]
    },
    {
     "name": "stderr",
     "output_type": "stream",
     "text": [
      "2025-05-21 06:25:43 - INFO - \n",
      "=== Starting Epoch 37 ===\n",
      "\n"
     ]
    },
    {
     "name": "stdout",
     "output_type": "stream",
     "text": [
      "Epoch 37/100\n",
      "\u001b[1m873/873\u001b[0m \u001b[32m━━━━━━━━━━━━━━━━━━━━\u001b[0m\u001b[37m\u001b[0m \u001b[1m0s\u001b[0m 260ms/step - accuracy: 0.9650 - auc: 0.9578 - f1_score: 0.7912 - loss: 0.2295 - precision: 0.8854 - recall: 0.7249  "
     ]
    },
    {
     "name": "stderr",
     "output_type": "stream",
     "text": [
      "2025-05-21 06:29:46 - INFO - \n",
      "=== Epoch 37 Summary ===\n",
      "2025-05-21 06:29:46 - INFO - Time: 242.46s\n",
      "2025-05-21 06:29:46 - INFO - Training   - accuracy: 0.9661 - auc: 0.9606 - f1_score: 0.7988 - loss: 0.2274 - precision: 0.8893 - recall: 0.7339 - learning_rate: 0.0000\n",
      "2025-05-21 06:29:46 - INFO - Validation - accuracy: 0.9166 - auc: 0.7043 - f1_score: 0.4156 - loss: 0.5247 - precision: 0.5136 - recall: 0.3939\n",
      "2025-05-21 06:29:46 - INFO - ==================================================\n",
      "\n"
     ]
    },
    {
     "name": "stdout",
     "output_type": "stream",
     "text": [
      "\u001b[1m873/873\u001b[0m \u001b[32m━━━━━━━━━━━━━━━━━━━━\u001b[0m\u001b[37m\u001b[0m \u001b[1m242s\u001b[0m 278ms/step - accuracy: 0.9650 - auc: 0.9578 - f1_score: 0.7912 - loss: 0.2295 - precision: 0.8854 - recall: 0.7249 - val_accuracy: 0.9166 - val_auc: 0.7043 - val_f1_score: 0.4156 - val_loss: 0.5247 - val_precision: 0.5136 - val_recall: 0.3939 - learning_rate: 1.5625e-06\n"
     ]
    },
    {
     "name": "stderr",
     "output_type": "stream",
     "text": [
      "2025-05-21 06:29:46 - INFO - \n",
      "=== Starting Epoch 38 ===\n",
      "\n"
     ]
    },
    {
     "name": "stdout",
     "output_type": "stream",
     "text": [
      "Epoch 38/100\n",
      "\u001b[1m873/873\u001b[0m \u001b[32m━━━━━━━━━━━━━━━━━━━━\u001b[0m\u001b[37m\u001b[0m \u001b[1m0s\u001b[0m 260ms/step - accuracy: 0.9659 - auc: 0.9593 - f1_score: 0.7969 - loss: 0.2283 - precision: 0.8893 - recall: 0.7313  \n",
      "Epoch 38: ReduceLROnPlateau reducing learning rate to 1e-06.\n"
     ]
    },
    {
     "name": "stderr",
     "output_type": "stream",
     "text": [
      "2025-05-21 06:33:49 - INFO - \n",
      "=== Epoch 38 Summary ===\n",
      "2025-05-21 06:33:49 - INFO - Time: 242.93s\n",
      "2025-05-21 06:33:49 - INFO - Training   - accuracy: 0.9668 - auc: 0.9613 - f1_score: 0.8029 - loss: 0.2267 - precision: 0.8923 - recall: 0.7384 - learning_rate: 0.0000\n",
      "2025-05-21 06:33:49 - INFO - Validation - accuracy: 0.9173 - auc: 0.6975 - f1_score: 0.4187 - loss: 0.5331 - precision: 0.5190 - recall: 0.4021\n",
      "2025-05-21 06:33:49 - INFO - ==================================================\n",
      "\n"
     ]
    },
    {
     "name": "stdout",
     "output_type": "stream",
     "text": [
      "\u001b[1m873/873\u001b[0m \u001b[32m━━━━━━━━━━━━━━━━━━━━\u001b[0m\u001b[37m\u001b[0m \u001b[1m243s\u001b[0m 278ms/step - accuracy: 0.9659 - auc: 0.9593 - f1_score: 0.7969 - loss: 0.2283 - precision: 0.8893 - recall: 0.7313 - val_accuracy: 0.9173 - val_auc: 0.6975 - val_f1_score: 0.4187 - val_loss: 0.5331 - val_precision: 0.5190 - val_recall: 0.4021 - learning_rate: 1.5625e-06\n"
     ]
    },
    {
     "name": "stderr",
     "output_type": "stream",
     "text": [
      "2025-05-21 06:33:49 - INFO - \n",
      "=== Starting Epoch 39 ===\n",
      "\n"
     ]
    },
    {
     "name": "stdout",
     "output_type": "stream",
     "text": [
      "Epoch 39/100\n",
      "\u001b[1m873/873\u001b[0m \u001b[32m━━━━━━━━━━━━━━━━━━━━\u001b[0m\u001b[37m\u001b[0m \u001b[1m0s\u001b[0m 261ms/step - accuracy: 0.9661 - auc: 0.9600 - f1_score: 0.7992 - loss: 0.2279 - precision: 0.8901 - recall: 0.7339  "
     ]
    },
    {
     "name": "stderr",
     "output_type": "stream",
     "text": [
      "2025-05-21 06:37:56 - INFO - \n",
      "=== Epoch 39 Summary ===\n",
      "2025-05-21 06:37:56 - INFO - Time: 247.83s\n",
      "2025-05-21 06:37:56 - INFO - Training   - accuracy: 0.9671 - auc: 0.9624 - f1_score: 0.8054 - loss: 0.2260 - precision: 0.8937 - recall: 0.7411 - learning_rate: 0.0000\n",
      "2025-05-21 06:37:56 - INFO - Validation - accuracy: 0.9156 - auc: 0.7121 - f1_score: 0.4213 - loss: 0.5220 - precision: 0.5057 - recall: 0.3943\n",
      "2025-05-21 06:37:56 - INFO - ==================================================\n",
      "\n"
     ]
    },
    {
     "name": "stdout",
     "output_type": "stream",
     "text": [
      "\u001b[1m873/873\u001b[0m \u001b[32m━━━━━━━━━━━━━━━━━━━━\u001b[0m\u001b[37m\u001b[0m \u001b[1m248s\u001b[0m 284ms/step - accuracy: 0.9661 - auc: 0.9600 - f1_score: 0.7992 - loss: 0.2279 - precision: 0.8901 - recall: 0.7339 - val_accuracy: 0.9156 - val_auc: 0.7121 - val_f1_score: 0.4213 - val_loss: 0.5220 - val_precision: 0.5057 - val_recall: 0.3943 - learning_rate: 1.0000e-06\n"
     ]
    },
    {
     "name": "stderr",
     "output_type": "stream",
     "text": [
      "2025-05-21 06:37:56 - INFO - \n",
      "=== Starting Epoch 40 ===\n",
      "\n"
     ]
    },
    {
     "name": "stdout",
     "output_type": "stream",
     "text": [
      "Epoch 40/100\n",
      "\u001b[1m873/873\u001b[0m \u001b[32m━━━━━━━━━━━━━━━━━━━━\u001b[0m\u001b[37m\u001b[0m \u001b[1m0s\u001b[0m 273ms/step - accuracy: 0.9667 - auc: 0.9607 - f1_score: 0.8027 - loss: 0.2271 - precision: 0.8909 - recall: 0.7395  "
     ]
    },
    {
     "name": "stderr",
     "output_type": "stream",
     "text": [
      "2025-05-21 06:42:08 - INFO - \n",
      "=== Epoch 40 Summary ===\n",
      "2025-05-21 06:42:08 - INFO - Time: 251.37s\n",
      "2025-05-21 06:42:08 - INFO - Training   - accuracy: 0.9675 - auc: 0.9626 - f1_score: 0.8080 - loss: 0.2257 - precision: 0.8940 - recall: 0.7451 - learning_rate: 0.0000\n",
      "2025-05-21 06:42:08 - INFO - Validation - accuracy: 0.9173 - auc: 0.7001 - f1_score: 0.4147 - loss: 0.5285 - precision: 0.5193 - recall: 0.3957\n",
      "2025-05-21 06:42:08 - INFO - ==================================================\n",
      "\n"
     ]
    },
    {
     "name": "stdout",
     "output_type": "stream",
     "text": [
      "\u001b[1m873/873\u001b[0m \u001b[32m━━━━━━━━━━━━━━━━━━━━\u001b[0m\u001b[37m\u001b[0m \u001b[1m251s\u001b[0m 288ms/step - accuracy: 0.9667 - auc: 0.9607 - f1_score: 0.8027 - loss: 0.2271 - precision: 0.8909 - recall: 0.7395 - val_accuracy: 0.9173 - val_auc: 0.7001 - val_f1_score: 0.4147 - val_loss: 0.5285 - val_precision: 0.5193 - val_recall: 0.3957 - learning_rate: 1.0000e-06\n"
     ]
    },
    {
     "name": "stderr",
     "output_type": "stream",
     "text": [
      "2025-05-21 06:42:08 - INFO - \n",
      "=== Starting Epoch 41 ===\n",
      "\n"
     ]
    },
    {
     "name": "stdout",
     "output_type": "stream",
     "text": [
      "Epoch 41/100\n",
      "\u001b[1m873/873\u001b[0m \u001b[32m━━━━━━━━━━━━━━━━━━━━\u001b[0m\u001b[37m\u001b[0m \u001b[1m0s\u001b[0m 269ms/step - accuracy: 0.9668 - auc: 0.9606 - f1_score: 0.8029 - loss: 0.2266 - precision: 0.8914 - recall: 0.7392  "
     ]
    },
    {
     "name": "stderr",
     "output_type": "stream",
     "text": [
      "2025-05-21 06:46:20 - INFO - \n",
      "=== Epoch 41 Summary ===\n",
      "2025-05-21 06:46:20 - INFO - Time: 252.63s\n",
      "2025-05-21 06:46:20 - INFO - Training   - accuracy: 0.9677 - auc: 0.9628 - f1_score: 0.8090 - loss: 0.2252 - precision: 0.8947 - recall: 0.7463 - learning_rate: 0.0000\n",
      "2025-05-21 06:46:20 - INFO - Validation - accuracy: 0.9162 - auc: 0.7022 - f1_score: 0.4221 - loss: 0.5278 - precision: 0.5104 - recall: 0.4010\n",
      "2025-05-21 06:46:20 - INFO - ==================================================\n",
      "\n"
     ]
    },
    {
     "name": "stdout",
     "output_type": "stream",
     "text": [
      "\u001b[1m873/873\u001b[0m \u001b[32m━━━━━━━━━━━━━━━━━━━━\u001b[0m\u001b[37m\u001b[0m \u001b[1m253s\u001b[0m 289ms/step - accuracy: 0.9668 - auc: 0.9606 - f1_score: 0.8030 - loss: 0.2266 - precision: 0.8914 - recall: 0.7392 - val_accuracy: 0.9162 - val_auc: 0.7022 - val_f1_score: 0.4221 - val_loss: 0.5278 - val_precision: 0.5104 - val_recall: 0.4010 - learning_rate: 1.0000e-06\n"
     ]
    },
    {
     "name": "stderr",
     "output_type": "stream",
     "text": [
      "2025-05-21 06:46:20 - INFO - \n",
      "=== Starting Epoch 42 ===\n",
      "\n"
     ]
    },
    {
     "name": "stdout",
     "output_type": "stream",
     "text": [
      "Epoch 42/100\n",
      "\u001b[1m873/873\u001b[0m \u001b[32m━━━━━━━━━━━━━━━━━━━━\u001b[0m\u001b[37m\u001b[0m \u001b[1m0s\u001b[0m 262ms/step - accuracy: 0.9673 - auc: 0.9618 - f1_score: 0.8070 - loss: 0.2258 - precision: 0.8942 - recall: 0.7442  "
     ]
    },
    {
     "name": "stderr",
     "output_type": "stream",
     "text": [
      "2025-05-21 06:50:25 - INFO - \n",
      "=== Epoch 42 Summary ===\n",
      "2025-05-21 06:50:25 - INFO - Time: 245.05s\n",
      "2025-05-21 06:50:25 - INFO - Training   - accuracy: 0.9681 - auc: 0.9638 - f1_score: 0.8123 - loss: 0.2244 - precision: 0.8965 - recall: 0.7504 - learning_rate: 0.0000\n",
      "2025-05-21 06:50:25 - INFO - Validation - accuracy: 0.9157 - auc: 0.6997 - f1_score: 0.4161 - loss: 0.5283 - precision: 0.5065 - recall: 0.3938\n",
      "2025-05-21 06:50:25 - INFO - ==================================================\n",
      "\n"
     ]
    },
    {
     "name": "stdout",
     "output_type": "stream",
     "text": [
      "\u001b[1m873/873\u001b[0m \u001b[32m━━━━━━━━━━━━━━━━━━━━\u001b[0m\u001b[37m\u001b[0m \u001b[1m245s\u001b[0m 281ms/step - accuracy: 0.9673 - auc: 0.9618 - f1_score: 0.8070 - loss: 0.2258 - precision: 0.8942 - recall: 0.7442 - val_accuracy: 0.9157 - val_auc: 0.6997 - val_f1_score: 0.4161 - val_loss: 0.5283 - val_precision: 0.5065 - val_recall: 0.3938 - learning_rate: 1.0000e-06\n"
     ]
    },
    {
     "name": "stderr",
     "output_type": "stream",
     "text": [
      "2025-05-21 06:50:25 - INFO - \n",
      "=== Starting Epoch 43 ===\n",
      "\n"
     ]
    },
    {
     "name": "stdout",
     "output_type": "stream",
     "text": [
      "Epoch 43/100\n",
      "\u001b[1m873/873\u001b[0m \u001b[32m━━━━━━━━━━━━━━━━━━━━\u001b[0m\u001b[37m\u001b[0m \u001b[1m0s\u001b[0m 261ms/step - accuracy: 0.9673 - auc: 0.9617 - f1_score: 0.8069 - loss: 0.2260 - precision: 0.8941 - recall: 0.7437  "
     ]
    },
    {
     "name": "stderr",
     "output_type": "stream",
     "text": [
      "2025-05-21 06:54:37 - INFO - \n",
      "=== Epoch 43 Summary ===\n",
      "2025-05-21 06:54:37 - INFO - Time: 251.71s\n",
      "2025-05-21 06:54:37 - INFO - Training   - accuracy: 0.9682 - auc: 0.9637 - f1_score: 0.8126 - loss: 0.2244 - precision: 0.8973 - recall: 0.7504 - learning_rate: 0.0000\n",
      "2025-05-21 06:54:37 - INFO - Validation - accuracy: 0.9157 - auc: 0.7035 - f1_score: 0.4231 - loss: 0.5295 - precision: 0.5062 - recall: 0.3999\n",
      "2025-05-21 06:54:37 - INFO - ==================================================\n",
      "\n"
     ]
    },
    {
     "name": "stdout",
     "output_type": "stream",
     "text": [
      "\u001b[1m873/873\u001b[0m \u001b[32m━━━━━━━━━━━━━━━━━━━━\u001b[0m\u001b[37m\u001b[0m \u001b[1m252s\u001b[0m 288ms/step - accuracy: 0.9673 - auc: 0.9617 - f1_score: 0.8069 - loss: 0.2260 - precision: 0.8942 - recall: 0.7437 - val_accuracy: 0.9157 - val_auc: 0.7035 - val_f1_score: 0.4231 - val_loss: 0.5295 - val_precision: 0.5062 - val_recall: 0.3999 - learning_rate: 1.0000e-06\n"
     ]
    },
    {
     "name": "stderr",
     "output_type": "stream",
     "text": [
      "2025-05-21 06:54:37 - INFO - \n",
      "=== Starting Epoch 44 ===\n",
      "\n"
     ]
    },
    {
     "name": "stdout",
     "output_type": "stream",
     "text": [
      "Epoch 44/100\n",
      "\u001b[1m873/873\u001b[0m \u001b[32m━━━━━━━━━━━━━━━━━━━━\u001b[0m\u001b[37m\u001b[0m \u001b[1m0s\u001b[0m 261ms/step - accuracy: 0.9678 - auc: 0.9627 - f1_score: 0.8102 - loss: 0.2243 - precision: 0.8956 - recall: 0.7481  "
     ]
    },
    {
     "name": "stderr",
     "output_type": "stream",
     "text": [
      "2025-05-21 06:58:42 - INFO - \n",
      "=== Epoch 44 Summary ===\n",
      "2025-05-21 06:58:42 - INFO - Time: 244.69s\n",
      "2025-05-21 06:58:42 - INFO - Training   - accuracy: 0.9684 - auc: 0.9640 - f1_score: 0.8136 - loss: 0.2239 - precision: 0.8974 - recall: 0.7520 - learning_rate: 0.0000\n",
      "2025-05-21 06:58:42 - INFO - Validation - accuracy: 0.9152 - auc: 0.7046 - f1_score: 0.4189 - loss: 0.5262 - precision: 0.5026 - recall: 0.3935\n",
      "2025-05-21 06:58:42 - INFO - ==================================================\n",
      "\n"
     ]
    },
    {
     "name": "stdout",
     "output_type": "stream",
     "text": [
      "\u001b[1m873/873\u001b[0m \u001b[32m━━━━━━━━━━━━━━━━━━━━\u001b[0m\u001b[37m\u001b[0m \u001b[1m245s\u001b[0m 280ms/step - accuracy: 0.9678 - auc: 0.9627 - f1_score: 0.8102 - loss: 0.2243 - precision: 0.8956 - recall: 0.7481 - val_accuracy: 0.9152 - val_auc: 0.7046 - val_f1_score: 0.4189 - val_loss: 0.5262 - val_precision: 0.5026 - val_recall: 0.3935 - learning_rate: 1.0000e-06\n"
     ]
    },
    {
     "name": "stderr",
     "output_type": "stream",
     "text": [
      "2025-05-21 06:58:42 - INFO - \n",
      "=== Starting Epoch 45 ===\n",
      "\n"
     ]
    },
    {
     "name": "stdout",
     "output_type": "stream",
     "text": [
      "Epoch 45/100\n",
      "\u001b[1m873/873\u001b[0m \u001b[32m━━━━━━━━━━━━━━━━━━━━\u001b[0m\u001b[37m\u001b[0m \u001b[1m0s\u001b[0m 262ms/step - accuracy: 0.9678 - auc: 0.9628 - f1_score: 0.8098 - loss: 0.2256 - precision: 0.8955 - recall: 0.7478  "
     ]
    },
    {
     "name": "stderr",
     "output_type": "stream",
     "text": [
      "2025-05-21 07:02:47 - INFO - \n",
      "=== Epoch 45 Summary ===\n",
      "2025-05-21 07:02:47 - INFO - Time: 244.90s\n",
      "2025-05-21 07:02:47 - INFO - Training   - accuracy: 0.9685 - auc: 0.9643 - f1_score: 0.8145 - loss: 0.2242 - precision: 0.8981 - recall: 0.7528 - learning_rate: 0.0000\n",
      "2025-05-21 07:02:47 - INFO - Validation - accuracy: 0.9147 - auc: 0.7068 - f1_score: 0.4203 - loss: 0.5280 - precision: 0.4993 - recall: 0.3948\n",
      "2025-05-21 07:02:47 - INFO - ==================================================\n",
      "\n"
     ]
    },
    {
     "name": "stdout",
     "output_type": "stream",
     "text": [
      "\u001b[1m873/873\u001b[0m \u001b[32m━━━━━━━━━━━━━━━━━━━━\u001b[0m\u001b[37m\u001b[0m \u001b[1m245s\u001b[0m 281ms/step - accuracy: 0.9678 - auc: 0.9628 - f1_score: 0.8098 - loss: 0.2256 - precision: 0.8955 - recall: 0.7478 - val_accuracy: 0.9147 - val_auc: 0.7068 - val_f1_score: 0.4203 - val_loss: 0.5280 - val_precision: 0.4993 - val_recall: 0.3948 - learning_rate: 1.0000e-06\n"
     ]
    },
    {
     "name": "stderr",
     "output_type": "stream",
     "text": [
      "2025-05-21 07:02:47 - INFO - \n",
      "=== Starting Epoch 46 ===\n",
      "\n"
     ]
    },
    {
     "name": "stdout",
     "output_type": "stream",
     "text": [
      "Epoch 46/100\n",
      "\u001b[1m873/873\u001b[0m \u001b[32m━━━━━━━━━━━━━━━━━━━━\u001b[0m\u001b[37m\u001b[0m \u001b[1m0s\u001b[0m 262ms/step - accuracy: 0.9680 - auc: 0.9633 - f1_score: 0.8113 - loss: 0.2250 - precision: 0.8955 - recall: 0.7496  "
     ]
    },
    {
     "name": "stderr",
     "output_type": "stream",
     "text": [
      "2025-05-21 07:06:48 - INFO - \n",
      "=== Epoch 46 Summary ===\n",
      "2025-05-21 07:06:48 - INFO - Time: 241.47s\n",
      "2025-05-21 07:06:48 - INFO - Training   - accuracy: 0.9687 - auc: 0.9647 - f1_score: 0.8158 - loss: 0.2234 - precision: 0.8987 - recall: 0.7545 - learning_rate: 0.0000\n",
      "2025-05-21 07:06:48 - INFO - Validation - accuracy: 0.9169 - auc: 0.7016 - f1_score: 0.4165 - loss: 0.5316 - precision: 0.5161 - recall: 0.3970\n",
      "2025-05-21 07:06:48 - INFO - ==================================================\n",
      "\n"
     ]
    },
    {
     "name": "stdout",
     "output_type": "stream",
     "text": [
      "\u001b[1m873/873\u001b[0m \u001b[32m━━━━━━━━━━━━━━━━━━━━\u001b[0m\u001b[37m\u001b[0m \u001b[1m241s\u001b[0m 277ms/step - accuracy: 0.9680 - auc: 0.9633 - f1_score: 0.8113 - loss: 0.2250 - precision: 0.8955 - recall: 0.7496 - val_accuracy: 0.9169 - val_auc: 0.7016 - val_f1_score: 0.4165 - val_loss: 0.5316 - val_precision: 0.5161 - val_recall: 0.3970 - learning_rate: 1.0000e-06\n"
     ]
    },
    {
     "name": "stderr",
     "output_type": "stream",
     "text": [
      "2025-05-21 07:06:48 - INFO - \n",
      "=== Starting Epoch 47 ===\n",
      "\n"
     ]
    },
    {
     "name": "stdout",
     "output_type": "stream",
     "text": [
      "Epoch 47/100\n",
      "\u001b[1m873/873\u001b[0m \u001b[32m━━━━━━━━━━━━━━━━━━━━\u001b[0m\u001b[37m\u001b[0m \u001b[1m0s\u001b[0m 271ms/step - accuracy: 0.9681 - auc: 0.9632 - f1_score: 0.8122 - loss: 0.2256 - precision: 0.8964 - recall: 0.7507  "
     ]
    },
    {
     "name": "stderr",
     "output_type": "stream",
     "text": [
      "2025-05-21 07:10:58 - INFO - \n",
      "=== Epoch 47 Summary ===\n",
      "2025-05-21 07:10:58 - INFO - Time: 249.81s\n",
      "2025-05-21 07:10:58 - INFO - Training   - accuracy: 0.9686 - auc: 0.9647 - f1_score: 0.8156 - loss: 0.2239 - precision: 0.8982 - recall: 0.7544 - learning_rate: 0.0000\n",
      "2025-05-21 07:10:58 - INFO - Validation - accuracy: 0.9158 - auc: 0.7039 - f1_score: 0.4178 - loss: 0.5299 - precision: 0.5073 - recall: 0.3940\n",
      "2025-05-21 07:10:58 - INFO - ==================================================\n",
      "\n"
     ]
    },
    {
     "name": "stdout",
     "output_type": "stream",
     "text": [
      "\u001b[1m873/873\u001b[0m \u001b[32m━━━━━━━━━━━━━━━━━━━━\u001b[0m\u001b[37m\u001b[0m \u001b[1m250s\u001b[0m 286ms/step - accuracy: 0.9681 - auc: 0.9632 - f1_score: 0.8122 - loss: 0.2256 - precision: 0.8964 - recall: 0.7507 - val_accuracy: 0.9158 - val_auc: 0.7039 - val_f1_score: 0.4178 - val_loss: 0.5299 - val_precision: 0.5073 - val_recall: 0.3940 - learning_rate: 1.0000e-06\n"
     ]
    },
    {
     "name": "stderr",
     "output_type": "stream",
     "text": [
      "2025-05-21 07:10:58 - INFO - \n",
      "=== Training Completed! ===\n",
      "\n",
      "2025-05-21 07:10:58 - INFO - Final Metrics: accuracy: 0.9686 - auc: 0.9647 - f1_score: 0.8156 - loss: 0.2239 - precision: 0.8982 - recall: 0.7544 - val_accuracy: 0.9158 - val_auc: 0.7039 - val_f1_score: 0.4178 - val_loss: 0.5299 - val_precision: 0.5073 - val_recall: 0.3940\n",
      "\n"
     ]
    },
    {
     "name": "stdout",
     "output_type": "stream",
     "text": [
      "Epoch 47: early stopping\n",
      "Restoring model weights from the end of the best epoch: 32.\n"
     ]
    }
   ],
   "source": [
    "# Model Training\n",
    "model          = build_densenet121(num_classes)\n",
    "optimizer      = Adam(learning_rate=1e-4)\n",
    "compile_kwargs = {'optimizer': optimizer, 'loss': loss, 'metrics': metrics}\n",
    "\n",
    "history, model = start_or_resume_training(\n",
    "    model, \n",
    "    compile_kwargs, \n",
    "    train_ds, \n",
    "    val_ds, \n",
    "    TF_MAX_EPOCHS,\n",
    "    steps_per_epoch, \n",
    "    validation_steps, \n",
    "    class_weights=class_weights,\n",
    "    callbacks=[checkpoint, best_checkpoint, reduce_lr, training_logger, metrics_monitor, early_stopping], \n",
    "    checkpoint_path=checkpoint_path,\n",
    "    initial_epoch=initial_epoch,\n",
    "    output_dir=MODELS_PATH,\n",
    "    model_name=model_name,\n",
    "    logger=logger\n",
    ")"
   ]
  },
  {
   "cell_type": "code",
   "execution_count": null,
   "id": "505ca730-cedd-40e1-b3c4-fc7a8e47158c",
   "metadata": {},
   "outputs": [],
   "source": []
  }
 ],
 "metadata": {
  "kernelspec": {
   "display_name": "Python 3 (ipykernel)",
   "language": "python",
   "name": "python3"
  },
  "language_info": {
   "codemirror_mode": {
    "name": "ipython",
    "version": 3
   },
   "file_extension": ".py",
   "mimetype": "text/x-python",
   "name": "python",
   "nbconvert_exporter": "python",
   "pygments_lexer": "ipython3",
   "version": "3.10.16"
  }
 },
 "nbformat": 4,
 "nbformat_minor": 5
}
