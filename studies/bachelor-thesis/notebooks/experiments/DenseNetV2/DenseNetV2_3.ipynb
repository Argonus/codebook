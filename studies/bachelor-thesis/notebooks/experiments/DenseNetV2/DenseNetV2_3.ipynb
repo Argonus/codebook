{
 "cells": [
  {
   "cell_type": "code",
   "execution_count": 1,
   "id": "b694919a-9b18-4068-8e69-7258de889dff",
   "metadata": {},
   "outputs": [
    {
     "name": "stderr",
     "output_type": "stream",
     "text": [
      "2025-05-18 14:02:44.671008: E external/local_xla/xla/stream_executor/cuda/cuda_fft.cc:467] Unable to register cuFFT factory: Attempting to register factory for plugin cuFFT when one has already been registered\n",
      "WARNING: All log messages before absl::InitializeLog() is called are written to STDERR\n",
      "E0000 00:00:1747569764.679217   18954 cuda_dnn.cc:8579] Unable to register cuDNN factory: Attempting to register factory for plugin cuDNN when one has already been registered\n",
      "E0000 00:00:1747569764.681599   18954 cuda_blas.cc:1407] Unable to register cuBLAS factory: Attempting to register factory for plugin cuBLAS when one has already been registered\n",
      "W0000 00:00:1747569764.687922   18954 computation_placer.cc:177] computation placer already registered. Please check linkage and avoid linking the same target more than once.\n",
      "W0000 00:00:1747569764.687930   18954 computation_placer.cc:177] computation placer already registered. Please check linkage and avoid linking the same target more than once.\n",
      "W0000 00:00:1747569764.687931   18954 computation_placer.cc:177] computation placer already registered. Please check linkage and avoid linking the same target more than once.\n",
      "W0000 00:00:1747569764.687932   18954 computation_placer.cc:177] computation placer already registered. Please check linkage and avoid linking the same target more than once.\n"
     ]
    },
    {
     "name": "stdout",
     "output_type": "stream",
     "text": [
      "\n",
      "GPU configuration successful!\n",
      "Device: /physical_device:GPU:0\n",
      "Memory limit: 18.0 GB\n",
      "\n",
      "TensorFlow optimizations status:\n",
      "- CPU Threads: 16 intra-op, 9 inter-op (32 cores total)\n",
      "- XLA JIT: enabled (autoclustering)\n",
      "- Synchronous Execution: enabled\n",
      "\n",
      "GPU Device Details:\n",
      "- Device: GPU /physical_device:GPU:0\n",
      "- Memory limit: 18.0 GB\n"
     ]
    },
    {
     "name": "stderr",
     "output_type": "stream",
     "text": [
      "I0000 00:00:1747569765.983838   18954 gpu_process_state.cc:208] Using CUDA malloc Async allocator for GPU: 0\n",
      "I0000 00:00:1747569765.983977   18954 gpu_device.cc:2019] Created device /job:localhost/replica:0/task:0/device:GPU:0 with 19327352832 MB memory:  -> device: 0, name: NVIDIA GeForce RTX 3090 Ti, pci bus id: 0000:01:00.0, compute capability: 8.6\n"
     ]
    }
   ],
   "source": [
    "# Import dependencies\n",
    "import os\n",
    "\n",
    "os.environ['TF_CPP_MIN_VLOG_LEVEL'] = '0'\n",
    "os.environ['TF_CPP_MIN_LOG_LEVEL'] = '2'\n",
    "os.environ['TF_GPU_ALLOCATOR'] = 'cuda_malloc_async'\n",
    "os.environ['TF_FORCE_GPU_ALLOW_GROWTH'] = 'true'\n",
    "\n",
    "from src.utils.gpu_config import configure_gpu, optimize_tensorflow\n",
    "\n",
    "configure_gpu()\n",
    "optimize_tensorflow()"
   ]
  },
  {
   "cell_type": "code",
   "execution_count": 2,
   "id": "2b854daf-5f2a-4c33-9180-5081cd415b16",
   "metadata": {},
   "outputs": [],
   "source": [
    "# Import Tensorflow Keras\n",
    "from tensorflow.keras.optimizers import Adam\n",
    "from tensorflow.keras.losses import BinaryFocalCrossentropy\n",
    "from tensorflow.keras.callbacks import ReduceLROnPlateau, ModelCheckpoint\n",
    "\n",
    "# Import local modules\n",
    "from src.utils.consts import TF_RECORD_DATASET, MODELS_PATH, TF_BUFFER_SIZE, TF_SHUFFLE_SIZE, TF_BATCH_SIZE, TF_MAX_EPOCHS, NO_FINDING_CLASS_IDX\n",
    "from src.model.tensorflow_utils import load_dataset, optimize_dataset, count_dataset_size, get_num_classes, get_metrics\n",
    "from src.model.tensorflow_utils import setup_logger, setup_training_logger, setup_metrics_monitor, setup_early_stopping, filter_no_finding_class\n",
    "from src.model.tensorflow_utils import start_or_resume_training, apply_augmentation_to_dataset, calculate_class_weights, oversample_minority_classes\n",
    "from src.model.densnet.tensorflow_dense_net_121 import build_densenet121\n",
    "from src.model.loss import NoFindingBinaryCrossentropy\n",
    "\n",
    "# Input Data\n",
    "initial_epoch   = None\n",
    "resume_training = False\n",
    "checkpoint_path = None\n",
    "set_name        = \"DenseNetV2\"\n",
    "model_name      = f\"{set_name}_3\"\n",
    "num_classes     = get_num_classes()\n",
    "\n",
    "train_ds = load_dataset(f\"{TF_RECORD_DATASET}/train.tfrecord\", TF_BUFFER_SIZE)\n",
    "val_ds   = load_dataset(f\"{TF_RECORD_DATASET}/val.tfrecord\", TF_BUFFER_SIZE)\n",
    "\n",
    "class_weights = calculate_class_weights(train_ds, num_classes)\n",
    "train_ds      = oversample_minority_classes(train_ds, class_weights)\n",
    "class_weights = calculate_class_weights(train_ds, num_classes)"
   ]
  },
  {
   "cell_type": "code",
   "execution_count": 3,
   "id": "5f152b8a-8ff8-4095-9815-e304ce2beb52",
   "metadata": {},
   "outputs": [
    {
     "name": "stderr",
     "output_type": "stream",
     "text": [
      "Counting samples: 111784 samples [00:36, 3027.45 samples/s] \n",
      "Counting samples: 15431 samples [00:08, 1904.11 samples/s]\n"
     ]
    }
   ],
   "source": [
    "steps_per_epoch  = int(count_dataset_size(train_ds, None) / TF_BATCH_SIZE)\n",
    "validation_steps = int(count_dataset_size(val_ds, None) / TF_BATCH_SIZE)\n",
    "\n",
    "# Disable Advanced Augmentations\n",
    "probability = {\n",
    "    \"intensity_scaling\": 0,\n",
    "    \"adaptive_histogram\": 0,\n",
    "    \"zoom\": 0,\n",
    "    \"cutout\": 0\n",
    "}\n",
    "\n",
    "train_ds = train_ds.shuffle(TF_SHUFFLE_SIZE, reshuffle_each_iteration=True)\n",
    "train_ds = apply_augmentation_to_dataset(train_ds, probability)\n",
    "train_ds = optimize_dataset(train_ds, TF_BATCH_SIZE)\n",
    "\n",
    "val_ds   = optimize_dataset(val_ds, TF_BATCH_SIZE)"
   ]
  },
  {
   "cell_type": "code",
   "execution_count": 4,
   "id": "3a0e37c9-b178-40d8-bd25-8c0a6498564a",
   "metadata": {},
   "outputs": [],
   "source": [
    "# Setup Model Deps\n",
    "logger            = setup_logger()\n",
    "training_logger   = setup_training_logger(logger, TF_BATCH_SIZE, 100)\n",
    "metrics_monitor   = setup_metrics_monitor(MODELS_PATH, model_name, logger, resume_training=resume_training, initial_epoch=initial_epoch)\n",
    "metrics           = get_metrics()\n",
    "\n",
    "# Setup compile arguments\n",
    "loss           = NoFindingBinaryCrossentropy(no_finding_idx=NO_FINDING_CLASS_IDX, from_logits=False)\n",
    "reduce_lr      = ReduceLROnPlateau(monitor=\"val_f1_score\", factor=0.5,  patience=3, min_lr=1e-6, mode=\"max\", verbose=1)\n",
    "early_stopping = setup_early_stopping()\n",
    "\n",
    "epoch_mode           = 'cp-{epoch:04d}'\n",
    "save_checkpoint_path = f\"{MODELS_PATH}/{model_name}/checkpoints/{epoch_mode}.keras\"\n",
    "checkpoint           = ModelCheckpoint(save_checkpoint_path, monitor=\"val_f1_score\", save_best_only=False, mode=\"max\", save_weights_only=False)\n",
    "\n",
    "model_path      = f\"{MODELS_PATH}/{model_name}.keras\"\n",
    "best_checkpoint = ModelCheckpoint(model_path, monitor=\"val_f1_score\", save_best_only=True, mode=\"max\", save_weights_only=False)"
   ]
  },
  {
   "cell_type": "code",
   "execution_count": 5,
   "id": "c44d4a9a-ffbb-4917-a702-c35773b9857c",
   "metadata": {},
   "outputs": [
    {
     "name": "stderr",
     "output_type": "stream",
     "text": [
      "2025-05-18 14:04:44 - INFO - \n",
      "=== Training Started ===\n",
      "\n",
      "2025-05-18 14:04:44 - INFO - Batch Size: 128\n",
      "2025-05-18 14:04:44 - INFO - Optimizer: Adam\n",
      "2025-05-18 14:04:44 - INFO - \n",
      "==================================================\n",
      "\n",
      "2025-05-18 14:04:44 - INFO - \n",
      "=== Starting Epoch 1 ===\n",
      "\n"
     ]
    },
    {
     "name": "stdout",
     "output_type": "stream",
     "text": [
      "Epoch 1/100\n"
     ]
    },
    {
     "name": "stderr",
     "output_type": "stream",
     "text": [
      "WARNING: All log messages before absl::InitializeLog() is called are written to STDERR\n",
      "I0000 00:00:1747569892.716535   19016 service.cc:152] XLA service 0x7113f8029ee0 initialized for platform CUDA (this does not guarantee that XLA will be used). Devices:\n",
      "I0000 00:00:1747569892.716556   19016 service.cc:160]   StreamExecutor device (0): NVIDIA GeForce RTX 3090 Ti, Compute Capability 8.6\n",
      "I0000 00:00:1747569892.719416   19016 cuda_dnn.cc:529] Loaded cuDNN version 90300\n",
      "I0000 00:00:1747569892.761603   19016 device_compiler.h:188] Compiled cluster using XLA!  This line is logged at most once for the lifetime of the process.\n"
     ]
    },
    {
     "name": "stdout",
     "output_type": "stream",
     "text": [
      "\u001b[1m873/873\u001b[0m \u001b[32m━━━━━━━━━━━━━━━━━━━━\u001b[0m\u001b[37m\u001b[0m \u001b[1m0s\u001b[0m 216ms/step - accuracy: 0.8953 - auc: 0.5552 - f1_score: 0.0756 - loss: 2.0104 - precision: 0.3340 - recall: 0.0588  "
     ]
    },
    {
     "name": "stderr",
     "output_type": "stream",
     "text": [
      "2025-05-18 14:09:44 - INFO - \n",
      "=== Epoch 1 Summary ===\n",
      "2025-05-18 14:09:44 - INFO - Time: 300.68s\n",
      "2025-05-18 14:09:44 - INFO - Training   - accuracy: 0.9035 - auc: 0.5858 - f1_score: 0.0746 - loss: 1.7100 - precision: 0.4280 - recall: 0.0554 - learning_rate: 0.0001\n",
      "2025-05-18 14:09:44 - INFO - Validation - accuracy: 0.9185 - auc: 0.6655 - f1_score: 0.1019 - loss: 1.2879 - precision: 0.7733 - recall: 0.0612\n",
      "2025-05-18 14:09:44 - INFO - ==================================================\n",
      "\n"
     ]
    },
    {
     "name": "stdout",
     "output_type": "stream",
     "text": [
      "\u001b[1m873/873\u001b[0m \u001b[32m━━━━━━━━━━━━━━━━━━━━\u001b[0m\u001b[37m\u001b[0m \u001b[1m301s\u001b[0m 238ms/step - accuracy: 0.8953 - auc: 0.5552 - f1_score: 0.0756 - loss: 2.0101 - precision: 0.3341 - recall: 0.0588 - val_accuracy: 0.9185 - val_auc: 0.6655 - val_f1_score: 0.1019 - val_loss: 1.2879 - val_precision: 0.7733 - val_recall: 0.0612 - learning_rate: 1.0000e-04\n"
     ]
    },
    {
     "name": "stderr",
     "output_type": "stream",
     "text": [
      "2025-05-18 14:09:44 - INFO - \n",
      "=== Starting Epoch 2 ===\n",
      "\n"
     ]
    },
    {
     "name": "stdout",
     "output_type": "stream",
     "text": [
      "Epoch 2/100\n",
      "\u001b[1m873/873\u001b[0m \u001b[32m━━━━━━━━━━━━━━━━━━━━\u001b[0m\u001b[37m\u001b[0m \u001b[1m0s\u001b[0m 216ms/step - accuracy: 0.9057 - auc: 0.6417 - f1_score: 0.0838 - loss: 1.0761 - precision: 0.5366 - recall: 0.0643  "
     ]
    },
    {
     "name": "stderr",
     "output_type": "stream",
     "text": [
      "2025-05-18 14:13:56 - INFO - \n",
      "=== Epoch 2 Summary ===\n",
      "2025-05-18 14:13:56 - INFO - Time: 251.57s\n",
      "2025-05-18 14:13:56 - INFO - Training   - accuracy: 0.9065 - auc: 0.6539 - f1_score: 0.0891 - loss: 0.9479 - precision: 0.5514 - recall: 0.0692 - learning_rate: 0.0001\n",
      "2025-05-18 14:13:56 - INFO - Validation - accuracy: 0.9150 - auc: 0.6957 - f1_score: 0.0032 - loss: 0.8130 - precision: 0.8889 - recall: 0.0016\n",
      "2025-05-18 14:13:56 - INFO - ==================================================\n",
      "\n"
     ]
    },
    {
     "name": "stdout",
     "output_type": "stream",
     "text": [
      "\u001b[1m873/873\u001b[0m \u001b[32m━━━━━━━━━━━━━━━━━━━━\u001b[0m\u001b[37m\u001b[0m \u001b[1m252s\u001b[0m 235ms/step - accuracy: 0.9057 - auc: 0.6418 - f1_score: 0.0838 - loss: 1.0759 - precision: 0.5366 - recall: 0.0643 - val_accuracy: 0.9150 - val_auc: 0.6957 - val_f1_score: 0.0032 - val_loss: 0.8130 - val_precision: 0.8889 - val_recall: 0.0016 - learning_rate: 1.0000e-04\n"
     ]
    },
    {
     "name": "stderr",
     "output_type": "stream",
     "text": [
      "2025-05-18 14:13:56 - INFO - \n",
      "=== Starting Epoch 3 ===\n",
      "\n"
     ]
    },
    {
     "name": "stdout",
     "output_type": "stream",
     "text": [
      "Epoch 3/100\n",
      "\u001b[1m873/873\u001b[0m \u001b[32m━━━━━━━━━━━━━━━━━━━━\u001b[0m\u001b[37m\u001b[0m \u001b[1m0s\u001b[0m 215ms/step - accuracy: 0.9065 - auc: 0.6786 - f1_score: 0.0929 - loss: 0.6663 - precision: 0.5660 - recall: 0.0731  "
     ]
    },
    {
     "name": "stderr",
     "output_type": "stream",
     "text": [
      "2025-05-18 14:17:12 - INFO - \n",
      "=== Epoch 3 Summary ===\n",
      "2025-05-18 14:17:12 - INFO - Time: 195.74s\n",
      "2025-05-18 14:17:12 - INFO - Training   - accuracy: 0.9071 - auc: 0.6882 - f1_score: 0.0971 - loss: 0.6073 - precision: 0.5734 - recall: 0.0774 - learning_rate: 0.0001\n",
      "2025-05-18 14:17:12 - INFO - Validation - accuracy: 0.9152 - auc: 0.7073 - f1_score: 0.0102 - loss: 0.6012 - precision: 0.8644 - recall: 0.0052\n",
      "2025-05-18 14:17:12 - INFO - ==================================================\n",
      "\n"
     ]
    },
    {
     "name": "stdout",
     "output_type": "stream",
     "text": [
      "\u001b[1m873/873\u001b[0m \u001b[32m━━━━━━━━━━━━━━━━━━━━\u001b[0m\u001b[37m\u001b[0m \u001b[1m196s\u001b[0m 224ms/step - accuracy: 0.9065 - auc: 0.6786 - f1_score: 0.0929 - loss: 0.6663 - precision: 0.5660 - recall: 0.0731 - val_accuracy: 0.9152 - val_auc: 0.7073 - val_f1_score: 0.0102 - val_loss: 0.6012 - val_precision: 0.8644 - val_recall: 0.0052 - learning_rate: 1.0000e-04\n"
     ]
    },
    {
     "name": "stderr",
     "output_type": "stream",
     "text": [
      "2025-05-18 14:17:12 - INFO - \n",
      "=== Starting Epoch 4 ===\n",
      "\n"
     ]
    },
    {
     "name": "stdout",
     "output_type": "stream",
     "text": [
      "Epoch 4/100\n",
      "\u001b[1m873/873\u001b[0m \u001b[32m━━━━━━━━━━━━━━━━━━━━\u001b[0m\u001b[37m\u001b[0m \u001b[1m0s\u001b[0m 226ms/step - accuracy: 0.9074 - auc: 0.7061 - f1_score: 0.0999 - loss: 0.4745 - precision: 0.5856 - recall: 0.0802  \n",
      "Epoch 4: ReduceLROnPlateau reducing learning rate to 4.999999873689376e-05.\n"
     ]
    },
    {
     "name": "stderr",
     "output_type": "stream",
     "text": [
      "2025-05-18 14:20:43 - INFO - \n",
      "=== Epoch 4 Summary ===\n",
      "2025-05-18 14:20:43 - INFO - Time: 211.14s\n",
      "2025-05-18 14:20:43 - INFO - Training   - accuracy: 0.9077 - auc: 0.7118 - f1_score: 0.1033 - loss: 0.4441 - precision: 0.5889 - recall: 0.0838 - learning_rate: 0.0001\n",
      "2025-05-18 14:20:43 - INFO - Validation - accuracy: 0.9172 - auc: 0.7447 - f1_score: 0.0600 - loss: 0.4758 - precision: 0.8660 - recall: 0.0329\n",
      "2025-05-18 14:20:43 - INFO - ==================================================\n",
      "\n"
     ]
    },
    {
     "name": "stdout",
     "output_type": "stream",
     "text": [
      "\u001b[1m873/873\u001b[0m \u001b[32m━━━━━━━━━━━━━━━━━━━━\u001b[0m\u001b[37m\u001b[0m \u001b[1m211s\u001b[0m 242ms/step - accuracy: 0.9074 - auc: 0.7061 - f1_score: 0.0999 - loss: 0.4745 - precision: 0.5856 - recall: 0.0802 - val_accuracy: 0.9172 - val_auc: 0.7447 - val_f1_score: 0.0600 - val_loss: 0.4758 - val_precision: 0.8660 - val_recall: 0.0329 - learning_rate: 1.0000e-04\n"
     ]
    },
    {
     "name": "stderr",
     "output_type": "stream",
     "text": [
      "2025-05-18 14:20:43 - INFO - \n",
      "=== Starting Epoch 5 ===\n",
      "\n"
     ]
    },
    {
     "name": "stdout",
     "output_type": "stream",
     "text": [
      "Epoch 5/100\n",
      "\u001b[1m873/873\u001b[0m \u001b[32m━━━━━━━━━━━━━━━━━━━━\u001b[0m\u001b[37m\u001b[0m \u001b[1m0s\u001b[0m 215ms/step - accuracy: 0.9077 - auc: 0.7385 - f1_score: 0.1061 - loss: 0.3827 - precision: 0.5977 - recall: 0.0869  "
     ]
    },
    {
     "name": "stderr",
     "output_type": "stream",
     "text": [
      "2025-05-18 14:24:03 - INFO - \n",
      "=== Epoch 5 Summary ===\n",
      "2025-05-18 14:24:03 - INFO - Time: 200.19s\n",
      "2025-05-18 14:24:03 - INFO - Training   - accuracy: 0.9084 - auc: 0.7479 - f1_score: 0.1116 - loss: 0.3713 - precision: 0.6088 - recall: 0.0927 - learning_rate: 0.0000\n",
      "2025-05-18 14:24:03 - INFO - Validation - accuracy: 0.9245 - auc: 0.7334 - f1_score: 0.2171 - loss: 0.4196 - precision: 0.7449 - recall: 0.1725\n",
      "2025-05-18 14:24:03 - INFO - ==================================================\n",
      "\n"
     ]
    },
    {
     "name": "stdout",
     "output_type": "stream",
     "text": [
      "\u001b[1m873/873\u001b[0m \u001b[32m━━━━━━━━━━━━━━━━━━━━\u001b[0m\u001b[37m\u001b[0m \u001b[1m200s\u001b[0m 229ms/step - accuracy: 0.9077 - auc: 0.7385 - f1_score: 0.1061 - loss: 0.3827 - precision: 0.5977 - recall: 0.0869 - val_accuracy: 0.9245 - val_auc: 0.7334 - val_f1_score: 0.2171 - val_loss: 0.4196 - val_precision: 0.7449 - val_recall: 0.1725 - learning_rate: 5.0000e-05\n"
     ]
    },
    {
     "name": "stderr",
     "output_type": "stream",
     "text": [
      "2025-05-18 14:24:03 - INFO - \n",
      "=== Starting Epoch 6 ===\n",
      "\n"
     ]
    },
    {
     "name": "stdout",
     "output_type": "stream",
     "text": [
      "Epoch 6/100\n",
      "\u001b[1m873/873\u001b[0m \u001b[32m━━━━━━━━━━━━━━━━━━━━\u001b[0m\u001b[37m\u001b[0m \u001b[1m0s\u001b[0m 224ms/step - accuracy: 0.9082 - auc: 0.7570 - f1_score: 0.1117 - loss: 0.3481 - precision: 0.6096 - recall: 0.0931  "
     ]
    },
    {
     "name": "stderr",
     "output_type": "stream",
     "text": [
      "2025-05-18 14:27:38 - INFO - \n",
      "=== Epoch 6 Summary ===\n",
      "2025-05-18 14:27:38 - INFO - Time: 214.60s\n",
      "2025-05-18 14:27:38 - INFO - Training   - accuracy: 0.9087 - auc: 0.7629 - f1_score: 0.1156 - loss: 0.3412 - precision: 0.6161 - recall: 0.0971 - learning_rate: 0.0000\n",
      "2025-05-18 14:27:38 - INFO - Validation - accuracy: 0.9258 - auc: 0.7415 - f1_score: 0.2358 - loss: 0.3916 - precision: 0.7425 - recall: 0.1978\n",
      "2025-05-18 14:27:38 - INFO - ==================================================\n",
      "\n"
     ]
    },
    {
     "name": "stdout",
     "output_type": "stream",
     "text": [
      "\u001b[1m873/873\u001b[0m \u001b[32m━━━━━━━━━━━━━━━━━━━━\u001b[0m\u001b[37m\u001b[0m \u001b[1m215s\u001b[0m 246ms/step - accuracy: 0.9082 - auc: 0.7570 - f1_score: 0.1117 - loss: 0.3481 - precision: 0.6096 - recall: 0.0931 - val_accuracy: 0.9258 - val_auc: 0.7415 - val_f1_score: 0.2358 - val_loss: 0.3916 - val_precision: 0.7425 - val_recall: 0.1978 - learning_rate: 5.0000e-05\n"
     ]
    },
    {
     "name": "stderr",
     "output_type": "stream",
     "text": [
      "2025-05-18 14:27:38 - INFO - \n",
      "=== Starting Epoch 7 ===\n",
      "\n"
     ]
    },
    {
     "name": "stdout",
     "output_type": "stream",
     "text": [
      "Epoch 7/100\n",
      "\u001b[1m873/873\u001b[0m \u001b[32m━━━━━━━━━━━━━━━━━━━━\u001b[0m\u001b[37m\u001b[0m \u001b[1m0s\u001b[0m 216ms/step - accuracy: 0.9087 - auc: 0.7713 - f1_score: 0.1167 - loss: 0.3262 - precision: 0.6208 - recall: 0.0986  "
     ]
    },
    {
     "name": "stderr",
     "output_type": "stream",
     "text": [
      "2025-05-18 14:31:01 - INFO - \n",
      "=== Epoch 7 Summary ===\n",
      "2025-05-18 14:31:01 - INFO - Time: 203.73s\n",
      "2025-05-18 14:31:01 - INFO - Training   - accuracy: 0.9091 - auc: 0.7759 - f1_score: 0.1186 - loss: 0.3198 - precision: 0.6236 - recall: 0.1004 - learning_rate: 0.0000\n",
      "2025-05-18 14:31:01 - INFO - Validation - accuracy: 0.9197 - auc: 0.7541 - f1_score: 0.1172 - loss: 0.3839 - precision: 0.8310 - recall: 0.0714\n",
      "2025-05-18 14:31:01 - INFO - ==================================================\n",
      "\n"
     ]
    },
    {
     "name": "stdout",
     "output_type": "stream",
     "text": [
      "\u001b[1m873/873\u001b[0m \u001b[32m━━━━━━━━━━━━━━━━━━━━\u001b[0m\u001b[37m\u001b[0m \u001b[1m204s\u001b[0m 233ms/step - accuracy: 0.9087 - auc: 0.7713 - f1_score: 0.1167 - loss: 0.3262 - precision: 0.6208 - recall: 0.0986 - val_accuracy: 0.9197 - val_auc: 0.7541 - val_f1_score: 0.1172 - val_loss: 0.3839 - val_precision: 0.8310 - val_recall: 0.0714 - learning_rate: 5.0000e-05\n"
     ]
    },
    {
     "name": "stderr",
     "output_type": "stream",
     "text": [
      "2025-05-18 14:31:01 - INFO - \n",
      "=== Starting Epoch 8 ===\n",
      "\n"
     ]
    },
    {
     "name": "stdout",
     "output_type": "stream",
     "text": [
      "Epoch 8/100\n",
      "\u001b[1m873/873\u001b[0m \u001b[32m━━━━━━━━━━━━━━━━━━━━\u001b[0m\u001b[37m\u001b[0m \u001b[1m0s\u001b[0m 216ms/step - accuracy: 0.9092 - auc: 0.7838 - f1_score: 0.1207 - loss: 0.3083 - precision: 0.6313 - recall: 0.1020  "
     ]
    },
    {
     "name": "stderr",
     "output_type": "stream",
     "text": [
      "2025-05-18 14:34:22 - INFO - \n",
      "=== Epoch 8 Summary ===\n",
      "2025-05-18 14:34:22 - INFO - Time: 200.66s\n",
      "2025-05-18 14:34:22 - INFO - Training   - accuracy: 0.9094 - auc: 0.7888 - f1_score: 0.1226 - loss: 0.3038 - precision: 0.6335 - recall: 0.1039 - learning_rate: 0.0000\n",
      "2025-05-18 14:34:22 - INFO - Validation - accuracy: 0.9247 - auc: 0.7373 - f1_score: 0.2160 - loss: 0.3729 - precision: 0.7631 - recall: 0.1687\n",
      "2025-05-18 14:34:22 - INFO - ==================================================\n",
      "\n"
     ]
    },
    {
     "name": "stdout",
     "output_type": "stream",
     "text": [
      "\u001b[1m873/873\u001b[0m \u001b[32m━━━━━━━━━━━━━━━━━━━━\u001b[0m\u001b[37m\u001b[0m \u001b[1m201s\u001b[0m 230ms/step - accuracy: 0.9092 - auc: 0.7838 - f1_score: 0.1207 - loss: 0.3083 - precision: 0.6314 - recall: 0.1020 - val_accuracy: 0.9247 - val_auc: 0.7373 - val_f1_score: 0.2160 - val_loss: 0.3729 - val_precision: 0.7631 - val_recall: 0.1687 - learning_rate: 5.0000e-05\n"
     ]
    },
    {
     "name": "stderr",
     "output_type": "stream",
     "text": [
      "2025-05-18 14:34:22 - INFO - \n",
      "=== Starting Epoch 9 ===\n",
      "\n"
     ]
    },
    {
     "name": "stdout",
     "output_type": "stream",
     "text": [
      "Epoch 9/100\n",
      "\u001b[1m873/873\u001b[0m \u001b[32m━━━━━━━━━━━━━━━━━━━━\u001b[0m\u001b[37m\u001b[0m \u001b[1m0s\u001b[0m 218ms/step - accuracy: 0.9091 - auc: 0.7937 - f1_score: 0.1222 - loss: 0.2951 - precision: 0.6297 - recall: 0.1041  \n",
      "Epoch 9: ReduceLROnPlateau reducing learning rate to 2.499999936844688e-05.\n"
     ]
    },
    {
     "name": "stderr",
     "output_type": "stream",
     "text": [
      "2025-05-18 14:37:41 - INFO - \n",
      "=== Epoch 9 Summary ===\n",
      "2025-05-18 14:37:41 - INFO - Time: 198.85s\n",
      "2025-05-18 14:37:41 - INFO - Training   - accuracy: 0.9097 - auc: 0.7992 - f1_score: 0.1259 - loss: 0.2911 - precision: 0.6405 - recall: 0.1071 - learning_rate: 0.0000\n",
      "2025-05-18 14:37:41 - INFO - Validation - accuracy: 0.9213 - auc: 0.7419 - f1_score: 0.1514 - loss: 0.3676 - precision: 0.8064 - recall: 0.0991\n",
      "2025-05-18 14:37:41 - INFO - ==================================================\n",
      "\n"
     ]
    },
    {
     "name": "stdout",
     "output_type": "stream",
     "text": [
      "\u001b[1m873/873\u001b[0m \u001b[32m━━━━━━━━━━━━━━━━━━━━\u001b[0m\u001b[37m\u001b[0m \u001b[1m199s\u001b[0m 228ms/step - accuracy: 0.9091 - auc: 0.7937 - f1_score: 0.1222 - loss: 0.2951 - precision: 0.6297 - recall: 0.1041 - val_accuracy: 0.9213 - val_auc: 0.7419 - val_f1_score: 0.1514 - val_loss: 0.3676 - val_precision: 0.8064 - val_recall: 0.0991 - learning_rate: 5.0000e-05\n"
     ]
    },
    {
     "name": "stderr",
     "output_type": "stream",
     "text": [
      "2025-05-18 14:37:41 - INFO - \n",
      "=== Starting Epoch 10 ===\n",
      "\n"
     ]
    },
    {
     "name": "stdout",
     "output_type": "stream",
     "text": [
      "Epoch 10/100\n",
      "\u001b[1m873/873\u001b[0m \u001b[32m━━━━━━━━━━━━━━━━━━━━\u001b[0m\u001b[37m\u001b[0m \u001b[1m0s\u001b[0m 227ms/step - accuracy: 0.9099 - auc: 0.8150 - f1_score: 0.1304 - loss: 0.2830 - precision: 0.6554 - recall: 0.1108  "
     ]
    },
    {
     "name": "stderr",
     "output_type": "stream",
     "text": [
      "2025-05-18 14:41:08 - INFO - \n",
      "=== Epoch 10 Summary ===\n",
      "2025-05-18 14:41:08 - INFO - Time: 206.74s\n",
      "2025-05-18 14:41:08 - INFO - Training   - accuracy: 0.9109 - auc: 0.8245 - f1_score: 0.1378 - loss: 0.2793 - precision: 0.6703 - recall: 0.1170 - learning_rate: 0.0000\n",
      "2025-05-18 14:41:08 - INFO - Validation - accuracy: 0.9219 - auc: 0.7572 - f1_score: 0.1674 - loss: 0.3659 - precision: 0.7964 - recall: 0.1122\n",
      "2025-05-18 14:41:08 - INFO - ==================================================\n",
      "\n"
     ]
    },
    {
     "name": "stdout",
     "output_type": "stream",
     "text": [
      "\u001b[1m873/873\u001b[0m \u001b[32m━━━━━━━━━━━━━━━━━━━━\u001b[0m\u001b[37m\u001b[0m \u001b[1m207s\u001b[0m 237ms/step - accuracy: 0.9099 - auc: 0.8150 - f1_score: 0.1304 - loss: 0.2830 - precision: 0.6554 - recall: 0.1108 - val_accuracy: 0.9219 - val_auc: 0.7572 - val_f1_score: 0.1674 - val_loss: 0.3659 - val_precision: 0.7964 - val_recall: 0.1122 - learning_rate: 2.5000e-05\n"
     ]
    },
    {
     "name": "stderr",
     "output_type": "stream",
     "text": [
      "2025-05-18 14:41:08 - INFO - \n",
      "=== Starting Epoch 11 ===\n",
      "\n"
     ]
    },
    {
     "name": "stdout",
     "output_type": "stream",
     "text": [
      "Epoch 11/100\n",
      "\u001b[1m873/873\u001b[0m \u001b[32m━━━━━━━━━━━━━━━━━━━━\u001b[0m\u001b[37m\u001b[0m \u001b[1m0s\u001b[0m 226ms/step - accuracy: 0.9110 - auc: 0.8309 - f1_score: 0.1447 - loss: 0.2756 - precision: 0.6778 - recall: 0.1215  "
     ]
    },
    {
     "name": "stderr",
     "output_type": "stream",
     "text": [
      "2025-05-18 14:44:33 - INFO - \n",
      "=== Epoch 11 Summary ===\n",
      "2025-05-18 14:44:33 - INFO - Time: 205.54s\n",
      "2025-05-18 14:44:33 - INFO - Training   - accuracy: 0.9118 - auc: 0.8394 - f1_score: 0.1513 - loss: 0.2722 - precision: 0.6873 - recall: 0.1269 - learning_rate: 0.0000\n",
      "2025-05-18 14:44:33 - INFO - Validation - accuracy: 0.9248 - auc: 0.7385 - f1_score: 0.2177 - loss: 0.3514 - precision: 0.7680 - recall: 0.1682\n",
      "2025-05-18 14:44:33 - INFO - ==================================================\n",
      "\n"
     ]
    },
    {
     "name": "stdout",
     "output_type": "stream",
     "text": [
      "\u001b[1m873/873\u001b[0m \u001b[32m━━━━━━━━━━━━━━━━━━━━\u001b[0m\u001b[37m\u001b[0m \u001b[1m206s\u001b[0m 235ms/step - accuracy: 0.9110 - auc: 0.8309 - f1_score: 0.1447 - loss: 0.2756 - precision: 0.6778 - recall: 0.1215 - val_accuracy: 0.9248 - val_auc: 0.7385 - val_f1_score: 0.2177 - val_loss: 0.3514 - val_precision: 0.7680 - val_recall: 0.1682 - learning_rate: 2.5000e-05\n"
     ]
    },
    {
     "name": "stderr",
     "output_type": "stream",
     "text": [
      "2025-05-18 14:44:33 - INFO - \n",
      "=== Starting Epoch 12 ===\n",
      "\n"
     ]
    },
    {
     "name": "stdout",
     "output_type": "stream",
     "text": [
      "Epoch 12/100\n",
      "\u001b[1m873/873\u001b[0m \u001b[32m━━━━━━━━━━━━━━━━━━━━\u001b[0m\u001b[37m\u001b[0m \u001b[1m0s\u001b[0m 228ms/step - accuracy: 0.9124 - auc: 0.8452 - f1_score: 0.1621 - loss: 0.2699 - precision: 0.7039 - recall: 0.1322  "
     ]
    },
    {
     "name": "stderr",
     "output_type": "stream",
     "text": [
      "2025-05-18 14:48:02 - INFO - \n",
      "=== Epoch 12 Summary ===\n",
      "2025-05-18 14:48:02 - INFO - Time: 208.58s\n",
      "2025-05-18 14:48:02 - INFO - Training   - accuracy: 0.9131 - auc: 0.8520 - f1_score: 0.1692 - loss: 0.2663 - precision: 0.7114 - recall: 0.1379 - learning_rate: 0.0000\n",
      "2025-05-18 14:48:02 - INFO - Validation - accuracy: 0.9255 - auc: 0.7432 - f1_score: 0.2513 - loss: 0.3643 - precision: 0.7387 - recall: 0.1945\n",
      "2025-05-18 14:48:02 - INFO - ==================================================\n",
      "\n"
     ]
    },
    {
     "name": "stdout",
     "output_type": "stream",
     "text": [
      "\u001b[1m873/873\u001b[0m \u001b[32m━━━━━━━━━━━━━━━━━━━━\u001b[0m\u001b[37m\u001b[0m \u001b[1m209s\u001b[0m 239ms/step - accuracy: 0.9124 - auc: 0.8452 - f1_score: 0.1621 - loss: 0.2699 - precision: 0.7039 - recall: 0.1322 - val_accuracy: 0.9255 - val_auc: 0.7432 - val_f1_score: 0.2513 - val_loss: 0.3643 - val_precision: 0.7387 - val_recall: 0.1945 - learning_rate: 2.5000e-05\n"
     ]
    },
    {
     "name": "stderr",
     "output_type": "stream",
     "text": [
      "2025-05-18 14:48:02 - INFO - \n",
      "=== Starting Epoch 13 ===\n",
      "\n"
     ]
    },
    {
     "name": "stdout",
     "output_type": "stream",
     "text": [
      "Epoch 13/100\n",
      "\u001b[1m873/873\u001b[0m \u001b[32m━━━━━━━━━━━━━━━━━━━━\u001b[0m\u001b[37m\u001b[0m \u001b[1m0s\u001b[0m 227ms/step - accuracy: 0.9134 - auc: 0.8555 - f1_score: 0.1823 - loss: 0.2648 - precision: 0.7251 - recall: 0.1457  "
     ]
    },
    {
     "name": "stderr",
     "output_type": "stream",
     "text": [
      "2025-05-18 14:51:29 - INFO - \n",
      "=== Epoch 13 Summary ===\n",
      "2025-05-18 14:51:29 - INFO - Time: 206.81s\n",
      "2025-05-18 14:51:29 - INFO - Training   - accuracy: 0.9144 - auc: 0.8624 - f1_score: 0.1923 - loss: 0.2609 - precision: 0.7322 - recall: 0.1529 - learning_rate: 0.0000\n",
      "2025-05-18 14:51:29 - INFO - Validation - accuracy: 0.9200 - auc: 0.7225 - f1_score: 0.1433 - loss: 0.3688 - precision: 0.7673 - recall: 0.0876\n",
      "2025-05-18 14:51:29 - INFO - ==================================================\n",
      "\n"
     ]
    },
    {
     "name": "stdout",
     "output_type": "stream",
     "text": [
      "\u001b[1m873/873\u001b[0m \u001b[32m━━━━━━━━━━━━━━━━━━━━\u001b[0m\u001b[37m\u001b[0m \u001b[1m207s\u001b[0m 237ms/step - accuracy: 0.9134 - auc: 0.8555 - f1_score: 0.1823 - loss: 0.2648 - precision: 0.7251 - recall: 0.1457 - val_accuracy: 0.9200 - val_auc: 0.7225 - val_f1_score: 0.1433 - val_loss: 0.3688 - val_precision: 0.7673 - val_recall: 0.0876 - learning_rate: 2.5000e-05\n"
     ]
    },
    {
     "name": "stderr",
     "output_type": "stream",
     "text": [
      "2025-05-18 14:51:29 - INFO - \n",
      "=== Starting Epoch 14 ===\n",
      "\n"
     ]
    },
    {
     "name": "stdout",
     "output_type": "stream",
     "text": [
      "Epoch 14/100\n",
      "\u001b[1m873/873\u001b[0m \u001b[32m━━━━━━━━━━━━━━━━━━━━\u001b[0m\u001b[37m\u001b[0m \u001b[1m0s\u001b[0m 228ms/step - accuracy: 0.9151 - auc: 0.8660 - f1_score: 0.2106 - loss: 0.2582 - precision: 0.7369 - recall: 0.1635  "
     ]
    },
    {
     "name": "stderr",
     "output_type": "stream",
     "text": [
      "2025-05-18 14:54:57 - INFO - \n",
      "=== Epoch 14 Summary ===\n",
      "2025-05-18 14:54:57 - INFO - Time: 207.99s\n",
      "2025-05-18 14:54:57 - INFO - Training   - accuracy: 0.9161 - auc: 0.8717 - f1_score: 0.2228 - loss: 0.2554 - precision: 0.7480 - recall: 0.1723 - learning_rate: 0.0000\n",
      "2025-05-18 14:54:57 - INFO - Validation - accuracy: 0.9205 - auc: 0.7347 - f1_score: 0.2296 - loss: 0.3786 - precision: 0.6288 - recall: 0.1635\n",
      "2025-05-18 14:54:57 - INFO - ==================================================\n",
      "\n"
     ]
    },
    {
     "name": "stdout",
     "output_type": "stream",
     "text": [
      "\u001b[1m873/873\u001b[0m \u001b[32m━━━━━━━━━━━━━━━━━━━━\u001b[0m\u001b[37m\u001b[0m \u001b[1m208s\u001b[0m 238ms/step - accuracy: 0.9151 - auc: 0.8660 - f1_score: 0.2106 - loss: 0.2582 - precision: 0.7370 - recall: 0.1635 - val_accuracy: 0.9205 - val_auc: 0.7347 - val_f1_score: 0.2296 - val_loss: 0.3786 - val_precision: 0.6288 - val_recall: 0.1635 - learning_rate: 2.5000e-05\n"
     ]
    },
    {
     "name": "stderr",
     "output_type": "stream",
     "text": [
      "2025-05-18 14:54:57 - INFO - \n",
      "=== Starting Epoch 15 ===\n",
      "\n"
     ]
    },
    {
     "name": "stdout",
     "output_type": "stream",
     "text": [
      "Epoch 15/100\n",
      "\u001b[1m873/873\u001b[0m \u001b[32m━━━━━━━━━━━━━━━━━━━━\u001b[0m\u001b[37m\u001b[0m \u001b[1m0s\u001b[0m 227ms/step - accuracy: 0.9172 - auc: 0.8755 - f1_score: 0.2477 - loss: 0.2540 - precision: 0.7577 - recall: 0.1874  \n",
      "Epoch 15: ReduceLROnPlateau reducing learning rate to 1.249999968422344e-05.\n"
     ]
    },
    {
     "name": "stderr",
     "output_type": "stream",
     "text": [
      "2025-05-18 14:58:24 - INFO - \n",
      "=== Epoch 15 Summary ===\n",
      "2025-05-18 14:58:24 - INFO - Time: 206.92s\n",
      "2025-05-18 14:58:24 - INFO - Training   - accuracy: 0.9181 - auc: 0.8812 - f1_score: 0.2586 - loss: 0.2503 - precision: 0.7646 - recall: 0.1963 - learning_rate: 0.0000\n",
      "2025-05-18 14:58:24 - INFO - Validation - accuracy: 0.9234 - auc: 0.7290 - f1_score: 0.2337 - loss: 0.3658 - precision: 0.7004 - recall: 0.1755\n",
      "2025-05-18 14:58:24 - INFO - ==================================================\n",
      "\n"
     ]
    },
    {
     "name": "stdout",
     "output_type": "stream",
     "text": [
      "\u001b[1m873/873\u001b[0m \u001b[32m━━━━━━━━━━━━━━━━━━━━\u001b[0m\u001b[37m\u001b[0m \u001b[1m207s\u001b[0m 237ms/step - accuracy: 0.9172 - auc: 0.8755 - f1_score: 0.2477 - loss: 0.2540 - precision: 0.7577 - recall: 0.1874 - val_accuracy: 0.9234 - val_auc: 0.7290 - val_f1_score: 0.2337 - val_loss: 0.3658 - val_precision: 0.7004 - val_recall: 0.1755 - learning_rate: 2.5000e-05\n"
     ]
    },
    {
     "name": "stderr",
     "output_type": "stream",
     "text": [
      "2025-05-18 14:58:24 - INFO - \n",
      "=== Starting Epoch 16 ===\n",
      "\n"
     ]
    },
    {
     "name": "stdout",
     "output_type": "stream",
     "text": [
      "Epoch 16/100\n",
      "\u001b[1m873/873\u001b[0m \u001b[32m━━━━━━━━━━━━━━━━━━━━\u001b[0m\u001b[37m\u001b[0m \u001b[1m0s\u001b[0m 229ms/step - accuracy: 0.9204 - auc: 0.8923 - f1_score: 0.2933 - loss: 0.2451 - precision: 0.7899 - recall: 0.2193  "
     ]
    },
    {
     "name": "stderr",
     "output_type": "stream",
     "text": [
      "2025-05-18 15:01:53 - INFO - \n",
      "=== Epoch 16 Summary ===\n",
      "2025-05-18 15:01:53 - INFO - Time: 209.21s\n",
      "2025-05-18 15:01:53 - INFO - Training   - accuracy: 0.9222 - auc: 0.9016 - f1_score: 0.3168 - loss: 0.2404 - precision: 0.8018 - recall: 0.2376 - learning_rate: 0.0000\n",
      "2025-05-18 15:01:53 - INFO - Validation - accuracy: 0.9234 - auc: 0.7220 - f1_score: 0.2813 - loss: 0.3805 - precision: 0.6459 - recall: 0.2225\n",
      "2025-05-18 15:01:53 - INFO - ==================================================\n",
      "\n"
     ]
    },
    {
     "name": "stdout",
     "output_type": "stream",
     "text": [
      "\u001b[1m873/873\u001b[0m \u001b[32m━━━━━━━━━━━━━━━━━━━━\u001b[0m\u001b[37m\u001b[0m \u001b[1m209s\u001b[0m 240ms/step - accuracy: 0.9204 - auc: 0.8923 - f1_score: 0.2934 - loss: 0.2451 - precision: 0.7900 - recall: 0.2193 - val_accuracy: 0.9234 - val_auc: 0.7220 - val_f1_score: 0.2813 - val_loss: 0.3805 - val_precision: 0.6459 - val_recall: 0.2225 - learning_rate: 1.2500e-05\n"
     ]
    },
    {
     "name": "stderr",
     "output_type": "stream",
     "text": [
      "2025-05-18 15:01:53 - INFO - \n",
      "=== Starting Epoch 17 ===\n",
      "\n"
     ]
    },
    {
     "name": "stdout",
     "output_type": "stream",
     "text": [
      "Epoch 17/100\n",
      "\u001b[1m873/873\u001b[0m \u001b[32m━━━━━━━━━━━━━━━━━━━━\u001b[0m\u001b[37m\u001b[0m \u001b[1m0s\u001b[0m 228ms/step - accuracy: 0.9239 - auc: 0.9060 - f1_score: 0.3458 - loss: 0.2370 - precision: 0.8094 - recall: 0.2595  "
     ]
    },
    {
     "name": "stderr",
     "output_type": "stream",
     "text": [
      "2025-05-18 15:05:20 - INFO - \n",
      "=== Epoch 17 Summary ===\n",
      "2025-05-18 15:05:20 - INFO - Time: 207.39s\n",
      "2025-05-18 15:05:20 - INFO - Training   - accuracy: 0.9252 - auc: 0.9115 - f1_score: 0.3614 - loss: 0.2341 - precision: 0.8169 - recall: 0.2718 - learning_rate: 0.0000\n",
      "2025-05-18 15:05:20 - INFO - Validation - accuracy: 0.9251 - auc: 0.7102 - f1_score: 0.2786 - loss: 0.3826 - precision: 0.6633 - recall: 0.2446\n",
      "2025-05-18 15:05:20 - INFO - ==================================================\n",
      "\n"
     ]
    },
    {
     "name": "stdout",
     "output_type": "stream",
     "text": [
      "\u001b[1m873/873\u001b[0m \u001b[32m━━━━━━━━━━━━━━━━━━━━\u001b[0m\u001b[37m\u001b[0m \u001b[1m207s\u001b[0m 238ms/step - accuracy: 0.9239 - auc: 0.9060 - f1_score: 0.3458 - loss: 0.2370 - precision: 0.8094 - recall: 0.2596 - val_accuracy: 0.9251 - val_auc: 0.7102 - val_f1_score: 0.2786 - val_loss: 0.3826 - val_precision: 0.6633 - val_recall: 0.2446 - learning_rate: 1.2500e-05\n"
     ]
    },
    {
     "name": "stderr",
     "output_type": "stream",
     "text": [
      "2025-05-18 15:05:20 - INFO - \n",
      "=== Starting Epoch 18 ===\n",
      "\n"
     ]
    },
    {
     "name": "stdout",
     "output_type": "stream",
     "text": [
      "Epoch 18/100\n",
      "\u001b[1m873/873\u001b[0m \u001b[32m━━━━━━━━━━━━━━━━━━━━\u001b[0m\u001b[37m\u001b[0m \u001b[1m0s\u001b[0m 344ms/step - accuracy: 0.9267 - auc: 0.9135 - f1_score: 0.3858 - loss: 0.2322 - precision: 0.8235 - recall: 0.2888   "
     ]
    },
    {
     "name": "stderr",
     "output_type": "stream",
     "text": [
      "2025-05-18 15:10:29 - INFO - \n",
      "=== Epoch 18 Summary ===\n",
      "2025-05-18 15:10:29 - INFO - Time: 309.19s\n",
      "2025-05-18 15:10:29 - INFO - Training   - accuracy: 0.9281 - auc: 0.9184 - f1_score: 0.4008 - loss: 0.2296 - precision: 0.8322 - recall: 0.3017 - learning_rate: 0.0000\n",
      "2025-05-18 15:10:29 - INFO - Validation - accuracy: 0.9154 - auc: 0.7034 - f1_score: 0.2392 - loss: 0.4190 - precision: 0.5105 - recall: 0.1601\n",
      "2025-05-18 15:10:29 - INFO - ==================================================\n",
      "\n"
     ]
    },
    {
     "name": "stdout",
     "output_type": "stream",
     "text": [
      "\u001b[1m873/873\u001b[0m \u001b[32m━━━━━━━━━━━━━━━━━━━━\u001b[0m\u001b[37m\u001b[0m \u001b[1m309s\u001b[0m 354ms/step - accuracy: 0.9267 - auc: 0.9135 - f1_score: 0.3858 - loss: 0.2322 - precision: 0.8235 - recall: 0.2888 - val_accuracy: 0.9154 - val_auc: 0.7034 - val_f1_score: 0.2392 - val_loss: 0.4190 - val_precision: 0.5105 - val_recall: 0.1601 - learning_rate: 1.2500e-05\n"
     ]
    },
    {
     "name": "stderr",
     "output_type": "stream",
     "text": [
      "2025-05-18 15:10:29 - INFO - \n",
      "=== Starting Epoch 19 ===\n",
      "\n"
     ]
    },
    {
     "name": "stdout",
     "output_type": "stream",
     "text": [
      "Epoch 19/100\n",
      "\u001b[1m873/873\u001b[0m \u001b[32m━━━━━━━━━━━━━━━━━━━━\u001b[0m\u001b[37m\u001b[0m \u001b[1m0s\u001b[0m 228ms/step - accuracy: 0.9288 - auc: 0.9203 - f1_score: 0.4145 - loss: 0.2289 - precision: 0.8289 - recall: 0.3136  "
     ]
    },
    {
     "name": "stderr",
     "output_type": "stream",
     "text": [
      "2025-05-18 15:13:58 - INFO - \n",
      "=== Epoch 19 Summary ===\n",
      "2025-05-18 15:13:58 - INFO - Time: 208.57s\n",
      "2025-05-18 15:13:58 - INFO - Training   - accuracy: 0.9301 - auc: 0.9240 - f1_score: 0.4282 - loss: 0.2260 - precision: 0.8379 - recall: 0.3245 - learning_rate: 0.0000\n",
      "2025-05-18 15:13:58 - INFO - Validation - accuracy: 0.9259 - auc: 0.6892 - f1_score: 0.3062 - loss: 0.3832 - precision: 0.6536 - recall: 0.2774\n",
      "2025-05-18 15:13:58 - INFO - ==================================================\n",
      "\n"
     ]
    },
    {
     "name": "stdout",
     "output_type": "stream",
     "text": [
      "\u001b[1m873/873\u001b[0m \u001b[32m━━━━━━━━━━━━━━━━━━━━\u001b[0m\u001b[37m\u001b[0m \u001b[1m209s\u001b[0m 239ms/step - accuracy: 0.9288 - auc: 0.9203 - f1_score: 0.4146 - loss: 0.2289 - precision: 0.8290 - recall: 0.3136 - val_accuracy: 0.9259 - val_auc: 0.6892 - val_f1_score: 0.3062 - val_loss: 0.3832 - val_precision: 0.6536 - val_recall: 0.2774 - learning_rate: 1.2500e-05\n"
     ]
    },
    {
     "name": "stderr",
     "output_type": "stream",
     "text": [
      "2025-05-18 15:13:58 - INFO - \n",
      "=== Starting Epoch 20 ===\n",
      "\n"
     ]
    },
    {
     "name": "stdout",
     "output_type": "stream",
     "text": [
      "Epoch 20/100\n",
      "\u001b[1m873/873\u001b[0m \u001b[32m━━━━━━━━━━━━━━━━━━━━\u001b[0m\u001b[37m\u001b[0m \u001b[1m0s\u001b[0m 227ms/step - accuracy: 0.9309 - auc: 0.9253 - f1_score: 0.4427 - loss: 0.2249 - precision: 0.8389 - recall: 0.3359  "
     ]
    },
    {
     "name": "stderr",
     "output_type": "stream",
     "text": [
      "2025-05-18 15:17:26 - INFO - \n",
      "=== Epoch 20 Summary ===\n",
      "2025-05-18 15:17:26 - INFO - Time: 207.87s\n",
      "2025-05-18 15:17:26 - INFO - Training   - accuracy: 0.9322 - auc: 0.9299 - f1_score: 0.4565 - loss: 0.2221 - precision: 0.8461 - recall: 0.3475 - learning_rate: 0.0000\n",
      "2025-05-18 15:17:26 - INFO - Validation - accuracy: 0.9199 - auc: 0.7046 - f1_score: 0.3224 - loss: 0.4040 - precision: 0.5657 - recall: 0.2570\n",
      "2025-05-18 15:17:26 - INFO - ==================================================\n",
      "\n"
     ]
    },
    {
     "name": "stdout",
     "output_type": "stream",
     "text": [
      "\u001b[1m873/873\u001b[0m \u001b[32m━━━━━━━━━━━━━━━━━━━━\u001b[0m\u001b[37m\u001b[0m \u001b[1m208s\u001b[0m 238ms/step - accuracy: 0.9309 - auc: 0.9253 - f1_score: 0.4427 - loss: 0.2249 - precision: 0.8389 - recall: 0.3360 - val_accuracy: 0.9199 - val_auc: 0.7046 - val_f1_score: 0.3224 - val_loss: 0.4040 - val_precision: 0.5657 - val_recall: 0.2570 - learning_rate: 1.2500e-05\n"
     ]
    },
    {
     "name": "stderr",
     "output_type": "stream",
     "text": [
      "2025-05-18 15:17:26 - INFO - \n",
      "=== Starting Epoch 21 ===\n",
      "\n"
     ]
    },
    {
     "name": "stdout",
     "output_type": "stream",
     "text": [
      "Epoch 21/100\n",
      "\u001b[1m873/873\u001b[0m \u001b[32m━━━━━━━━━━━━━━━━━━━━\u001b[0m\u001b[37m\u001b[0m \u001b[1m0s\u001b[0m 228ms/step - accuracy: 0.9331 - auc: 0.9307 - f1_score: 0.4705 - loss: 0.2203 - precision: 0.8492 - recall: 0.3593  "
     ]
    },
    {
     "name": "stderr",
     "output_type": "stream",
     "text": [
      "2025-05-18 15:20:55 - INFO - \n",
      "=== Epoch 21 Summary ===\n",
      "2025-05-18 15:20:55 - INFO - Time: 208.70s\n",
      "2025-05-18 15:20:55 - INFO - Training   - accuracy: 0.9343 - auc: 0.9338 - f1_score: 0.4821 - loss: 0.2185 - precision: 0.8539 - recall: 0.3695 - learning_rate: 0.0000\n",
      "2025-05-18 15:20:55 - INFO - Validation - accuracy: 0.9209 - auc: 0.6886 - f1_score: 0.3605 - loss: 0.4181 - precision: 0.5656 - recall: 0.3075\n",
      "2025-05-18 15:20:55 - INFO - ==================================================\n",
      "\n"
     ]
    },
    {
     "name": "stdout",
     "output_type": "stream",
     "text": [
      "\u001b[1m873/873\u001b[0m \u001b[32m━━━━━━━━━━━━━━━━━━━━\u001b[0m\u001b[37m\u001b[0m \u001b[1m209s\u001b[0m 239ms/step - accuracy: 0.9331 - auc: 0.9307 - f1_score: 0.4706 - loss: 0.2203 - precision: 0.8492 - recall: 0.3593 - val_accuracy: 0.9209 - val_auc: 0.6886 - val_f1_score: 0.3605 - val_loss: 0.4181 - val_precision: 0.5656 - val_recall: 0.3075 - learning_rate: 1.2500e-05\n"
     ]
    },
    {
     "name": "stderr",
     "output_type": "stream",
     "text": [
      "2025-05-18 15:20:55 - INFO - \n",
      "=== Starting Epoch 22 ===\n",
      "\n"
     ]
    },
    {
     "name": "stdout",
     "output_type": "stream",
     "text": [
      "Epoch 22/100\n",
      "\u001b[1m873/873\u001b[0m \u001b[32m━━━━━━━━━━━━━━━━━━━━\u001b[0m\u001b[37m\u001b[0m \u001b[1m0s\u001b[0m 227ms/step - accuracy: 0.9351 - auc: 0.9343 - f1_score: 0.4956 - loss: 0.2173 - precision: 0.8538 - recall: 0.3814  "
     ]
    },
    {
     "name": "stderr",
     "output_type": "stream",
     "text": [
      "2025-05-18 15:24:22 - INFO - \n",
      "=== Epoch 22 Summary ===\n",
      "2025-05-18 15:24:22 - INFO - Time: 207.19s\n",
      "2025-05-18 15:24:22 - INFO - Training   - accuracy: 0.9360 - auc: 0.9377 - f1_score: 0.5040 - loss: 0.2156 - precision: 0.8570 - recall: 0.3891 - learning_rate: 0.0000\n",
      "2025-05-18 15:24:22 - INFO - Validation - accuracy: 0.9145 - auc: 0.7090 - f1_score: 0.2799 - loss: 0.4277 - precision: 0.4947 - recall: 0.2012\n",
      "2025-05-18 15:24:22 - INFO - ==================================================\n",
      "\n"
     ]
    },
    {
     "name": "stdout",
     "output_type": "stream",
     "text": [
      "\u001b[1m873/873\u001b[0m \u001b[32m━━━━━━━━━━━━━━━━━━━━\u001b[0m\u001b[37m\u001b[0m \u001b[1m207s\u001b[0m 237ms/step - accuracy: 0.9351 - auc: 0.9343 - f1_score: 0.4956 - loss: 0.2173 - precision: 0.8538 - recall: 0.3814 - val_accuracy: 0.9145 - val_auc: 0.7090 - val_f1_score: 0.2799 - val_loss: 0.4277 - val_precision: 0.4947 - val_recall: 0.2012 - learning_rate: 1.2500e-05\n"
     ]
    },
    {
     "name": "stderr",
     "output_type": "stream",
     "text": [
      "2025-05-18 15:24:22 - INFO - \n",
      "=== Starting Epoch 23 ===\n",
      "\n"
     ]
    },
    {
     "name": "stdout",
     "output_type": "stream",
     "text": [
      "Epoch 23/100\n",
      "\u001b[1m873/873\u001b[0m \u001b[32m━━━━━━━━━━━━━━━━━━━━\u001b[0m\u001b[37m\u001b[0m \u001b[1m0s\u001b[0m 229ms/step - accuracy: 0.9369 - auc: 0.9402 - f1_score: 0.5165 - loss: 0.2137 - precision: 0.8605 - recall: 0.4002  "
     ]
    },
    {
     "name": "stderr",
     "output_type": "stream",
     "text": [
      "2025-05-18 15:27:50 - INFO - \n",
      "=== Epoch 23 Summary ===\n",
      "2025-05-18 15:27:50 - INFO - Time: 208.23s\n",
      "2025-05-18 15:27:50 - INFO - Training   - accuracy: 0.9375 - auc: 0.9421 - f1_score: 0.5221 - loss: 0.2124 - precision: 0.8627 - recall: 0.4053 - learning_rate: 0.0000\n",
      "2025-05-18 15:27:50 - INFO - Validation - accuracy: 0.9244 - auc: 0.6882 - f1_score: 0.3491 - loss: 0.4122 - precision: 0.6106 - recall: 0.3108\n",
      "2025-05-18 15:27:50 - INFO - ==================================================\n",
      "\n"
     ]
    },
    {
     "name": "stdout",
     "output_type": "stream",
     "text": [
      "\u001b[1m873/873\u001b[0m \u001b[32m━━━━━━━━━━━━━━━━━━━━\u001b[0m\u001b[37m\u001b[0m \u001b[1m208s\u001b[0m 239ms/step - accuracy: 0.9369 - auc: 0.9402 - f1_score: 0.5165 - loss: 0.2137 - precision: 0.8605 - recall: 0.4002 - val_accuracy: 0.9244 - val_auc: 0.6882 - val_f1_score: 0.3491 - val_loss: 0.4122 - val_precision: 0.6106 - val_recall: 0.3108 - learning_rate: 1.2500e-05\n"
     ]
    },
    {
     "name": "stderr",
     "output_type": "stream",
     "text": [
      "2025-05-18 15:27:50 - INFO - \n",
      "=== Starting Epoch 24 ===\n",
      "\n"
     ]
    },
    {
     "name": "stdout",
     "output_type": "stream",
     "text": [
      "Epoch 24/100\n",
      "\u001b[1m873/873\u001b[0m \u001b[32m━━━━━━━━━━━━━━━━━━━━\u001b[0m\u001b[37m\u001b[0m \u001b[1m0s\u001b[0m 228ms/step - accuracy: 0.9385 - auc: 0.9430 - f1_score: 0.5326 - loss: 0.2117 - precision: 0.8666 - recall: 0.4142  \n",
      "Epoch 24: ReduceLROnPlateau reducing learning rate to 6.24999984211172e-06.\n"
     ]
    },
    {
     "name": "stderr",
     "output_type": "stream",
     "text": [
      "2025-05-18 15:31:18 - INFO - \n",
      "=== Epoch 24 Summary ===\n",
      "2025-05-18 15:31:18 - INFO - Time: 207.76s\n",
      "2025-05-18 15:31:18 - INFO - Training   - accuracy: 0.9393 - auc: 0.9450 - f1_score: 0.5405 - loss: 0.2101 - precision: 0.8701 - recall: 0.4220 - learning_rate: 0.0000\n",
      "2025-05-18 15:31:18 - INFO - Validation - accuracy: 0.9240 - auc: 0.6802 - f1_score: 0.3144 - loss: 0.4041 - precision: 0.6232 - recall: 0.2718\n",
      "2025-05-18 15:31:18 - INFO - ==================================================\n",
      "\n"
     ]
    },
    {
     "name": "stdout",
     "output_type": "stream",
     "text": [
      "\u001b[1m873/873\u001b[0m \u001b[32m━━━━━━━━━━━━━━━━━━━━\u001b[0m\u001b[37m\u001b[0m \u001b[1m208s\u001b[0m 238ms/step - accuracy: 0.9385 - auc: 0.9430 - f1_score: 0.5326 - loss: 0.2117 - precision: 0.8666 - recall: 0.4142 - val_accuracy: 0.9240 - val_auc: 0.6802 - val_f1_score: 0.3144 - val_loss: 0.4041 - val_precision: 0.6232 - val_recall: 0.2718 - learning_rate: 1.2500e-05\n"
     ]
    },
    {
     "name": "stderr",
     "output_type": "stream",
     "text": [
      "2025-05-18 15:31:18 - INFO - \n",
      "=== Starting Epoch 25 ===\n",
      "\n"
     ]
    },
    {
     "name": "stdout",
     "output_type": "stream",
     "text": [
      "Epoch 25/100\n",
      "\u001b[1m873/873\u001b[0m \u001b[32m━━━━━━━━━━━━━━━━━━━━\u001b[0m\u001b[37m\u001b[0m \u001b[1m0s\u001b[0m 342ms/step - accuracy: 0.9410 - auc: 0.9483 - f1_score: 0.5609 - loss: 0.2067 - precision: 0.8773 - recall: 0.4400   "
     ]
    },
    {
     "name": "stderr",
     "output_type": "stream",
     "text": [
      "2025-05-18 15:36:25 - INFO - \n",
      "=== Epoch 25 Summary ===\n",
      "2025-05-18 15:36:25 - INFO - Time: 307.13s\n",
      "2025-05-18 15:36:25 - INFO - Training   - accuracy: 0.9428 - auc: 0.9525 - f1_score: 0.5764 - loss: 0.2034 - precision: 0.8853 - recall: 0.4552 - learning_rate: 0.0000\n",
      "2025-05-18 15:36:25 - INFO - Validation - accuracy: 0.9241 - auc: 0.6802 - f1_score: 0.3002 - loss: 0.4048 - precision: 0.6202 - recall: 0.2798\n",
      "2025-05-18 15:36:25 - INFO - ==================================================\n",
      "\n"
     ]
    },
    {
     "name": "stdout",
     "output_type": "stream",
     "text": [
      "\u001b[1m873/873\u001b[0m \u001b[32m━━━━━━━━━━━━━━━━━━━━\u001b[0m\u001b[37m\u001b[0m \u001b[1m307s\u001b[0m 352ms/step - accuracy: 0.9410 - auc: 0.9483 - f1_score: 0.5609 - loss: 0.2067 - precision: 0.8773 - recall: 0.4400 - val_accuracy: 0.9241 - val_auc: 0.6802 - val_f1_score: 0.3002 - val_loss: 0.4048 - val_precision: 0.6202 - val_recall: 0.2798 - learning_rate: 6.2500e-06\n"
     ]
    },
    {
     "name": "stderr",
     "output_type": "stream",
     "text": [
      "2025-05-18 15:36:25 - INFO - \n",
      "=== Starting Epoch 26 ===\n",
      "\n"
     ]
    },
    {
     "name": "stdout",
     "output_type": "stream",
     "text": [
      "Epoch 26/100\n",
      "\u001b[1m873/873\u001b[0m \u001b[32m━━━━━━━━━━━━━━━━━━━━\u001b[0m\u001b[37m\u001b[0m \u001b[1m0s\u001b[0m 229ms/step - accuracy: 0.9439 - auc: 0.9536 - f1_score: 0.5884 - loss: 0.2022 - precision: 0.8902 - recall: 0.4667  "
     ]
    },
    {
     "name": "stderr",
     "output_type": "stream",
     "text": [
      "2025-05-18 15:39:53 - INFO - \n",
      "=== Epoch 26 Summary ===\n",
      "2025-05-18 15:39:53 - INFO - Time: 208.42s\n",
      "2025-05-18 15:39:53 - INFO - Training   - accuracy: 0.9449 - auc: 0.9561 - f1_score: 0.5968 - loss: 0.2002 - precision: 0.8936 - recall: 0.4746 - learning_rate: 0.0000\n",
      "2025-05-18 15:39:53 - INFO - Validation - accuracy: 0.9236 - auc: 0.6690 - f1_score: 0.3245 - loss: 0.4176 - precision: 0.6043 - recall: 0.2975\n",
      "2025-05-18 15:39:53 - INFO - ==================================================\n",
      "\n"
     ]
    },
    {
     "name": "stdout",
     "output_type": "stream",
     "text": [
      "\u001b[1m873/873\u001b[0m \u001b[32m━━━━━━━━━━━━━━━━━━━━\u001b[0m\u001b[37m\u001b[0m \u001b[1m208s\u001b[0m 239ms/step - accuracy: 0.9439 - auc: 0.9536 - f1_score: 0.5884 - loss: 0.2022 - precision: 0.8903 - recall: 0.4667 - val_accuracy: 0.9236 - val_auc: 0.6690 - val_f1_score: 0.3245 - val_loss: 0.4176 - val_precision: 0.6043 - val_recall: 0.2975 - learning_rate: 6.2500e-06\n"
     ]
    },
    {
     "name": "stderr",
     "output_type": "stream",
     "text": [
      "2025-05-18 15:39:53 - INFO - \n",
      "=== Starting Epoch 27 ===\n",
      "\n"
     ]
    },
    {
     "name": "stdout",
     "output_type": "stream",
     "text": [
      "Epoch 27/100\n",
      "\u001b[1m873/873\u001b[0m \u001b[32m━━━━━━━━━━━━━━━━━━━━\u001b[0m\u001b[37m\u001b[0m \u001b[1m0s\u001b[0m 228ms/step - accuracy: 0.9453 - auc: 0.9574 - f1_score: 0.6023 - loss: 0.2000 - precision: 0.8947 - recall: 0.4793  \n",
      "Epoch 27: ReduceLROnPlateau reducing learning rate to 3.12499992105586e-06.\n"
     ]
    },
    {
     "name": "stderr",
     "output_type": "stream",
     "text": [
      "2025-05-18 15:43:21 - INFO - \n",
      "=== Epoch 27 Summary ===\n",
      "2025-05-18 15:43:21 - INFO - Time: 207.60s\n",
      "2025-05-18 15:43:21 - INFO - Training   - accuracy: 0.9462 - auc: 0.9588 - f1_score: 0.6094 - loss: 0.1981 - precision: 0.8977 - recall: 0.4868 - learning_rate: 0.0000\n",
      "2025-05-18 15:43:21 - INFO - Validation - accuracy: 0.9227 - auc: 0.6765 - f1_score: 0.3603 - loss: 0.4330 - precision: 0.5818 - recall: 0.3283\n",
      "2025-05-18 15:43:21 - INFO - ==================================================\n",
      "\n"
     ]
    },
    {
     "name": "stdout",
     "output_type": "stream",
     "text": [
      "\u001b[1m873/873\u001b[0m \u001b[32m━━━━━━━━━━━━━━━━━━━━\u001b[0m\u001b[37m\u001b[0m \u001b[1m208s\u001b[0m 238ms/step - accuracy: 0.9453 - auc: 0.9574 - f1_score: 0.6023 - loss: 0.2000 - precision: 0.8947 - recall: 0.4793 - val_accuracy: 0.9227 - val_auc: 0.6765 - val_f1_score: 0.3603 - val_loss: 0.4330 - val_precision: 0.5818 - val_recall: 0.3283 - learning_rate: 6.2500e-06\n"
     ]
    },
    {
     "name": "stderr",
     "output_type": "stream",
     "text": [
      "2025-05-18 15:43:21 - INFO - \n",
      "=== Starting Epoch 28 ===\n",
      "\n"
     ]
    },
    {
     "name": "stdout",
     "output_type": "stream",
     "text": [
      "Epoch 28/100\n",
      "\u001b[1m873/873\u001b[0m \u001b[32m━━━━━━━━━━━━━━━━━━━━\u001b[0m\u001b[37m\u001b[0m \u001b[1m0s\u001b[0m 229ms/step - accuracy: 0.9469 - auc: 0.9595 - f1_score: 0.6199 - loss: 0.1971 - precision: 0.9000 - recall: 0.4965  "
     ]
    },
    {
     "name": "stderr",
     "output_type": "stream",
     "text": [
      "2025-05-18 15:46:49 - INFO - \n",
      "=== Epoch 28 Summary ===\n",
      "2025-05-18 15:46:49 - INFO - Time: 208.17s\n",
      "2025-05-18 15:46:49 - INFO - Training   - accuracy: 0.9481 - auc: 0.9625 - f1_score: 0.6279 - loss: 0.1946 - precision: 0.9058 - recall: 0.5047 - learning_rate: 0.0000\n",
      "2025-05-18 15:46:49 - INFO - Validation - accuracy: 0.9226 - auc: 0.6695 - f1_score: 0.3476 - loss: 0.4285 - precision: 0.5888 - recall: 0.3011\n",
      "2025-05-18 15:46:49 - INFO - ==================================================\n",
      "\n"
     ]
    },
    {
     "name": "stdout",
     "output_type": "stream",
     "text": [
      "\u001b[1m873/873\u001b[0m \u001b[32m━━━━━━━━━━━━━━━━━━━━\u001b[0m\u001b[37m\u001b[0m \u001b[1m208s\u001b[0m 238ms/step - accuracy: 0.9469 - auc: 0.9595 - f1_score: 0.6199 - loss: 0.1971 - precision: 0.9000 - recall: 0.4965 - val_accuracy: 0.9226 - val_auc: 0.6695 - val_f1_score: 0.3476 - val_loss: 0.4285 - val_precision: 0.5888 - val_recall: 0.3011 - learning_rate: 3.1250e-06\n"
     ]
    },
    {
     "name": "stderr",
     "output_type": "stream",
     "text": [
      "2025-05-18 15:46:49 - INFO - \n",
      "=== Starting Epoch 29 ===\n",
      "\n"
     ]
    },
    {
     "name": "stdout",
     "output_type": "stream",
     "text": [
      "Epoch 29/100\n",
      "\u001b[1m873/873\u001b[0m \u001b[32m━━━━━━━━━━━━━━━━━━━━\u001b[0m\u001b[37m\u001b[0m \u001b[1m0s\u001b[0m 228ms/step - accuracy: 0.9483 - auc: 0.9618 - f1_score: 0.6321 - loss: 0.1952 - precision: 0.9047 - recall: 0.5091  "
     ]
    },
    {
     "name": "stderr",
     "output_type": "stream",
     "text": [
      "2025-05-18 15:50:17 - INFO - \n",
      "=== Epoch 29 Summary ===\n",
      "2025-05-18 15:50:17 - INFO - Time: 207.60s\n",
      "2025-05-18 15:50:17 - INFO - Training   - accuracy: 0.9492 - auc: 0.9636 - f1_score: 0.6385 - loss: 0.1933 - precision: 0.9096 - recall: 0.5152 - learning_rate: 0.0000\n",
      "2025-05-18 15:50:17 - INFO - Validation - accuracy: 0.9240 - auc: 0.6737 - f1_score: 0.3473 - loss: 0.4313 - precision: 0.5998 - recall: 0.3230\n",
      "2025-05-18 15:50:17 - INFO - ==================================================\n",
      "\n"
     ]
    },
    {
     "name": "stdout",
     "output_type": "stream",
     "text": [
      "\u001b[1m873/873\u001b[0m \u001b[32m━━━━━━━━━━━━━━━━━━━━\u001b[0m\u001b[37m\u001b[0m \u001b[1m208s\u001b[0m 238ms/step - accuracy: 0.9483 - auc: 0.9618 - f1_score: 0.6321 - loss: 0.1952 - precision: 0.9047 - recall: 0.5091 - val_accuracy: 0.9240 - val_auc: 0.6737 - val_f1_score: 0.3473 - val_loss: 0.4313 - val_precision: 0.5998 - val_recall: 0.3230 - learning_rate: 3.1250e-06\n"
     ]
    },
    {
     "name": "stderr",
     "output_type": "stream",
     "text": [
      "2025-05-18 15:50:17 - INFO - \n",
      "=== Starting Epoch 30 ===\n",
      "\n"
     ]
    },
    {
     "name": "stdout",
     "output_type": "stream",
     "text": [
      "Epoch 30/100\n",
      "\u001b[1m873/873\u001b[0m \u001b[32m━━━━━━━━━━━━━━━━━━━━\u001b[0m\u001b[37m\u001b[0m \u001b[1m0s\u001b[0m 342ms/step - accuracy: 0.9494 - auc: 0.9638 - f1_score: 0.6406 - loss: 0.1925 - precision: 0.9112 - recall: 0.5168   "
     ]
    },
    {
     "name": "stderr",
     "output_type": "stream",
     "text": [
      "2025-05-18 15:55:25 - INFO - \n",
      "=== Epoch 30 Summary ===\n",
      "2025-05-18 15:55:25 - INFO - Time: 308.33s\n",
      "2025-05-18 15:55:25 - INFO - Training   - accuracy: 0.9501 - auc: 0.9654 - f1_score: 0.6464 - loss: 0.1912 - precision: 0.9122 - recall: 0.5234 - learning_rate: 0.0000\n",
      "2025-05-18 15:55:25 - INFO - Validation - accuracy: 0.9223 - auc: 0.6784 - f1_score: 0.3648 - loss: 0.4353 - precision: 0.5780 - recall: 0.3255\n",
      "2025-05-18 15:55:25 - INFO - ==================================================\n",
      "\n"
     ]
    },
    {
     "name": "stdout",
     "output_type": "stream",
     "text": [
      "\u001b[1m873/873\u001b[0m \u001b[32m━━━━━━━━━━━━━━━━━━━━\u001b[0m\u001b[37m\u001b[0m \u001b[1m308s\u001b[0m 353ms/step - accuracy: 0.9494 - auc: 0.9638 - f1_score: 0.6406 - loss: 0.1925 - precision: 0.9112 - recall: 0.5168 - val_accuracy: 0.9223 - val_auc: 0.6784 - val_f1_score: 0.3648 - val_loss: 0.4353 - val_precision: 0.5780 - val_recall: 0.3255 - learning_rate: 3.1250e-06\n"
     ]
    },
    {
     "name": "stderr",
     "output_type": "stream",
     "text": [
      "2025-05-18 15:55:25 - INFO - \n",
      "=== Starting Epoch 31 ===\n",
      "\n"
     ]
    },
    {
     "name": "stdout",
     "output_type": "stream",
     "text": [
      "Epoch 31/100\n",
      "\u001b[1m873/873\u001b[0m \u001b[32m━━━━━━━━━━━━━━━━━━━━\u001b[0m\u001b[37m\u001b[0m \u001b[1m0s\u001b[0m 229ms/step - accuracy: 0.9499 - auc: 0.9650 - f1_score: 0.6456 - loss: 0.1924 - precision: 0.9108 - recall: 0.5221  "
     ]
    },
    {
     "name": "stderr",
     "output_type": "stream",
     "text": [
      "2025-05-18 15:58:54 - INFO - \n",
      "=== Epoch 31 Summary ===\n",
      "2025-05-18 15:58:54 - INFO - Time: 208.75s\n",
      "2025-05-18 15:58:54 - INFO - Training   - accuracy: 0.9506 - auc: 0.9661 - f1_score: 0.6516 - loss: 0.1909 - precision: 0.9123 - recall: 0.5289 - learning_rate: 0.0000\n",
      "2025-05-18 15:58:54 - INFO - Validation - accuracy: 0.9238 - auc: 0.6772 - f1_score: 0.3384 - loss: 0.4229 - precision: 0.6038 - recall: 0.3069\n",
      "2025-05-18 15:58:54 - INFO - ==================================================\n",
      "\n"
     ]
    },
    {
     "name": "stdout",
     "output_type": "stream",
     "text": [
      "\u001b[1m873/873\u001b[0m \u001b[32m━━━━━━━━━━━━━━━━━━━━\u001b[0m\u001b[37m\u001b[0m \u001b[1m209s\u001b[0m 239ms/step - accuracy: 0.9499 - auc: 0.9650 - f1_score: 0.6456 - loss: 0.1924 - precision: 0.9108 - recall: 0.5221 - val_accuracy: 0.9238 - val_auc: 0.6772 - val_f1_score: 0.3384 - val_loss: 0.4229 - val_precision: 0.6038 - val_recall: 0.3069 - learning_rate: 3.1250e-06\n"
     ]
    },
    {
     "name": "stderr",
     "output_type": "stream",
     "text": [
      "2025-05-18 15:58:54 - INFO - \n",
      "=== Starting Epoch 32 ===\n",
      "\n"
     ]
    },
    {
     "name": "stdout",
     "output_type": "stream",
     "text": [
      "Epoch 32/100\n",
      "\u001b[1m873/873\u001b[0m \u001b[32m━━━━━━━━━━━━━━━━━━━━\u001b[0m\u001b[37m\u001b[0m \u001b[1m0s\u001b[0m 228ms/step - accuracy: 0.9503 - auc: 0.9653 - f1_score: 0.6505 - loss: 0.1911 - precision: 0.9131 - recall: 0.5269  "
     ]
    },
    {
     "name": "stderr",
     "output_type": "stream",
     "text": [
      "2025-05-18 16:02:22 - INFO - \n",
      "=== Epoch 32 Summary ===\n",
      "2025-05-18 16:02:22 - INFO - Time: 207.67s\n",
      "2025-05-18 16:02:22 - INFO - Training   - accuracy: 0.9509 - auc: 0.9674 - f1_score: 0.6553 - loss: 0.1897 - precision: 0.9148 - recall: 0.5320 - learning_rate: 0.0000\n",
      "2025-05-18 16:02:22 - INFO - Validation - accuracy: 0.9226 - auc: 0.6642 - f1_score: 0.3548 - loss: 0.4466 - precision: 0.5801 - recall: 0.3284\n",
      "2025-05-18 16:02:22 - INFO - ==================================================\n",
      "\n"
     ]
    },
    {
     "name": "stdout",
     "output_type": "stream",
     "text": [
      "\u001b[1m873/873\u001b[0m \u001b[32m━━━━━━━━━━━━━━━━━━━━\u001b[0m\u001b[37m\u001b[0m \u001b[1m208s\u001b[0m 238ms/step - accuracy: 0.9503 - auc: 0.9653 - f1_score: 0.6505 - loss: 0.1911 - precision: 0.9131 - recall: 0.5269 - val_accuracy: 0.9226 - val_auc: 0.6642 - val_f1_score: 0.3548 - val_loss: 0.4466 - val_precision: 0.5801 - val_recall: 0.3284 - learning_rate: 3.1250e-06\n"
     ]
    },
    {
     "name": "stderr",
     "output_type": "stream",
     "text": [
      "2025-05-18 16:02:22 - INFO - \n",
      "=== Starting Epoch 33 ===\n",
      "\n"
     ]
    },
    {
     "name": "stdout",
     "output_type": "stream",
     "text": [
      "Epoch 33/100\n",
      "\u001b[1m873/873\u001b[0m \u001b[32m━━━━━━━━━━━━━━━━━━━━\u001b[0m\u001b[37m\u001b[0m \u001b[1m0s\u001b[0m 229ms/step - accuracy: 0.9513 - auc: 0.9660 - f1_score: 0.6601 - loss: 0.1903 - precision: 0.9131 - recall: 0.5377  \n",
      "Epoch 33: ReduceLROnPlateau reducing learning rate to 1.56249996052793e-06.\n"
     ]
    },
    {
     "name": "stderr",
     "output_type": "stream",
     "text": [
      "2025-05-18 16:05:50 - INFO - \n",
      "=== Epoch 33 Summary ===\n",
      "2025-05-18 16:05:50 - INFO - Time: 208.72s\n",
      "2025-05-18 16:05:50 - INFO - Training   - accuracy: 0.9514 - auc: 0.9675 - f1_score: 0.6603 - loss: 0.1896 - precision: 0.9143 - recall: 0.5377 - learning_rate: 0.0000\n",
      "2025-05-18 16:05:50 - INFO - Validation - accuracy: 0.9235 - auc: 0.6631 - f1_score: 0.3487 - loss: 0.4429 - precision: 0.5936 - recall: 0.3209\n",
      "2025-05-18 16:05:50 - INFO - ==================================================\n",
      "\n"
     ]
    },
    {
     "name": "stdout",
     "output_type": "stream",
     "text": [
      "\u001b[1m873/873\u001b[0m \u001b[32m━━━━━━━━━━━━━━━━━━━━\u001b[0m\u001b[37m\u001b[0m \u001b[1m209s\u001b[0m 239ms/step - accuracy: 0.9513 - auc: 0.9661 - f1_score: 0.6601 - loss: 0.1903 - precision: 0.9131 - recall: 0.5377 - val_accuracy: 0.9235 - val_auc: 0.6631 - val_f1_score: 0.3487 - val_loss: 0.4429 - val_precision: 0.5936 - val_recall: 0.3209 - learning_rate: 3.1250e-06\n"
     ]
    },
    {
     "name": "stderr",
     "output_type": "stream",
     "text": [
      "2025-05-18 16:05:50 - INFO - \n",
      "=== Starting Epoch 34 ===\n",
      "\n"
     ]
    },
    {
     "name": "stdout",
     "output_type": "stream",
     "text": [
      "Epoch 34/100\n",
      "\u001b[1m873/873\u001b[0m \u001b[32m━━━━━━━━━━━━━━━━━━━━\u001b[0m\u001b[37m\u001b[0m \u001b[1m0s\u001b[0m 228ms/step - accuracy: 0.9521 - auc: 0.9678 - f1_score: 0.6652 - loss: 0.1874 - precision: 0.9185 - recall: 0.5420  "
     ]
    },
    {
     "name": "stderr",
     "output_type": "stream",
     "text": [
      "2025-05-18 16:09:18 - INFO - \n",
      "=== Epoch 34 Summary ===\n",
      "2025-05-18 16:09:18 - INFO - Time: 208.06s\n",
      "2025-05-18 16:09:18 - INFO - Training   - accuracy: 0.9526 - auc: 0.9697 - f1_score: 0.6697 - loss: 0.1867 - precision: 0.9208 - recall: 0.5470 - learning_rate: 0.0000\n",
      "2025-05-18 16:09:18 - INFO - Validation - accuracy: 0.9230 - auc: 0.6731 - f1_score: 0.3535 - loss: 0.4378 - precision: 0.5888 - recall: 0.3186\n",
      "2025-05-18 16:09:18 - INFO - ==================================================\n",
      "\n"
     ]
    },
    {
     "name": "stdout",
     "output_type": "stream",
     "text": [
      "\u001b[1m873/873\u001b[0m \u001b[32m━━━━━━━━━━━━━━━━━━━━\u001b[0m\u001b[37m\u001b[0m \u001b[1m208s\u001b[0m 238ms/step - accuracy: 0.9521 - auc: 0.9678 - f1_score: 0.6652 - loss: 0.1874 - precision: 0.9185 - recall: 0.5420 - val_accuracy: 0.9230 - val_auc: 0.6731 - val_f1_score: 0.3535 - val_loss: 0.4378 - val_precision: 0.5888 - val_recall: 0.3186 - learning_rate: 1.5625e-06\n"
     ]
    },
    {
     "name": "stderr",
     "output_type": "stream",
     "text": [
      "2025-05-18 16:09:18 - INFO - \n",
      "=== Starting Epoch 35 ===\n",
      "\n"
     ]
    },
    {
     "name": "stdout",
     "output_type": "stream",
     "text": [
      "Epoch 35/100\n",
      "\u001b[1m873/873\u001b[0m \u001b[32m━━━━━━━━━━━━━━━━━━━━\u001b[0m\u001b[37m\u001b[0m \u001b[1m0s\u001b[0m 349ms/step - accuracy: 0.9522 - auc: 0.9682 - f1_score: 0.6669 - loss: 0.1888 - precision: 0.9189 - recall: 0.5433   "
     ]
    },
    {
     "name": "stderr",
     "output_type": "stream",
     "text": [
      "2025-05-18 16:14:32 - INFO - \n",
      "=== Epoch 35 Summary ===\n",
      "2025-05-18 16:14:32 - INFO - Time: 313.31s\n",
      "2025-05-18 16:14:32 - INFO - Training   - accuracy: 0.9528 - auc: 0.9694 - f1_score: 0.6718 - loss: 0.1870 - precision: 0.9208 - recall: 0.5488 - learning_rate: 0.0000\n",
      "2025-05-18 16:14:32 - INFO - Validation - accuracy: 0.9235 - auc: 0.6709 - f1_score: 0.3624 - loss: 0.4364 - precision: 0.5936 - recall: 0.3243\n",
      "2025-05-18 16:14:32 - INFO - ==================================================\n",
      "\n"
     ]
    },
    {
     "name": "stdout",
     "output_type": "stream",
     "text": [
      "\u001b[1m873/873\u001b[0m \u001b[32m━━━━━━━━━━━━━━━━━━━━\u001b[0m\u001b[37m\u001b[0m \u001b[1m313s\u001b[0m 359ms/step - accuracy: 0.9522 - auc: 0.9682 - f1_score: 0.6669 - loss: 0.1888 - precision: 0.9189 - recall: 0.5433 - val_accuracy: 0.9235 - val_auc: 0.6709 - val_f1_score: 0.3624 - val_loss: 0.4364 - val_precision: 0.5936 - val_recall: 0.3243 - learning_rate: 1.5625e-06\n"
     ]
    },
    {
     "name": "stderr",
     "output_type": "stream",
     "text": [
      "2025-05-18 16:14:32 - INFO - \n",
      "=== Starting Epoch 36 ===\n",
      "\n"
     ]
    },
    {
     "name": "stdout",
     "output_type": "stream",
     "text": [
      "Epoch 36/100\n",
      "\u001b[1m873/873\u001b[0m \u001b[32m━━━━━━━━━━━━━━━━━━━━\u001b[0m\u001b[37m\u001b[0m \u001b[1m0s\u001b[0m 229ms/step - accuracy: 0.9525 - auc: 0.9699 - f1_score: 0.6714 - loss: 0.1875 - precision: 0.9214 - recall: 0.5481  \n",
      "Epoch 36: ReduceLROnPlateau reducing learning rate to 1e-06.\n"
     ]
    },
    {
     "name": "stderr",
     "output_type": "stream",
     "text": [
      "2025-05-18 16:18:00 - INFO - \n",
      "=== Epoch 36 Summary ===\n",
      "2025-05-18 16:18:00 - INFO - Time: 208.76s\n",
      "2025-05-18 16:18:00 - INFO - Training   - accuracy: 0.9532 - auc: 0.9708 - f1_score: 0.6757 - loss: 0.1861 - precision: 0.9226 - recall: 0.5529 - learning_rate: 0.0000\n",
      "2025-05-18 16:18:00 - INFO - Validation - accuracy: 0.9232 - auc: 0.6716 - f1_score: 0.3614 - loss: 0.4375 - precision: 0.5872 - recall: 0.3291\n",
      "2025-05-18 16:18:00 - INFO - ==================================================\n",
      "\n"
     ]
    },
    {
     "name": "stdout",
     "output_type": "stream",
     "text": [
      "\u001b[1m873/873\u001b[0m \u001b[32m━━━━━━━━━━━━━━━━━━━━\u001b[0m\u001b[37m\u001b[0m \u001b[1m209s\u001b[0m 239ms/step - accuracy: 0.9525 - auc: 0.9699 - f1_score: 0.6714 - loss: 0.1875 - precision: 0.9214 - recall: 0.5481 - val_accuracy: 0.9232 - val_auc: 0.6716 - val_f1_score: 0.3614 - val_loss: 0.4375 - val_precision: 0.5872 - val_recall: 0.3291 - learning_rate: 1.5625e-06\n"
     ]
    },
    {
     "name": "stderr",
     "output_type": "stream",
     "text": [
      "2025-05-18 16:18:00 - INFO - \n",
      "=== Starting Epoch 37 ===\n",
      "\n"
     ]
    },
    {
     "name": "stdout",
     "output_type": "stream",
     "text": [
      "Epoch 37/100\n",
      "\u001b[1m873/873\u001b[0m \u001b[32m━━━━━━━━━━━━━━━━━━━━\u001b[0m\u001b[37m\u001b[0m \u001b[1m0s\u001b[0m 227ms/step - accuracy: 0.9531 - auc: 0.9702 - f1_score: 0.6745 - loss: 0.1853 - precision: 0.9244 - recall: 0.5512  "
     ]
    },
    {
     "name": "stderr",
     "output_type": "stream",
     "text": [
      "2025-05-18 16:21:28 - INFO - \n",
      "=== Epoch 37 Summary ===\n",
      "2025-05-18 16:21:28 - INFO - Time: 207.51s\n",
      "2025-05-18 16:21:28 - INFO - Training   - accuracy: 0.9535 - auc: 0.9710 - f1_score: 0.6778 - loss: 0.1852 - precision: 0.9243 - recall: 0.5551 - learning_rate: 0.0000\n",
      "2025-05-18 16:21:28 - INFO - Validation - accuracy: 0.9237 - auc: 0.6726 - f1_score: 0.3603 - loss: 0.4406 - precision: 0.5912 - recall: 0.3381\n",
      "2025-05-18 16:21:28 - INFO - ==================================================\n",
      "\n"
     ]
    },
    {
     "name": "stdout",
     "output_type": "stream",
     "text": [
      "\u001b[1m873/873\u001b[0m \u001b[32m━━━━━━━━━━━━━━━━━━━━\u001b[0m\u001b[37m\u001b[0m \u001b[1m208s\u001b[0m 238ms/step - accuracy: 0.9531 - auc: 0.9702 - f1_score: 0.6746 - loss: 0.1853 - precision: 0.9244 - recall: 0.5512 - val_accuracy: 0.9237 - val_auc: 0.6726 - val_f1_score: 0.3603 - val_loss: 0.4406 - val_precision: 0.5912 - val_recall: 0.3381 - learning_rate: 1.0000e-06\n"
     ]
    },
    {
     "name": "stderr",
     "output_type": "stream",
     "text": [
      "2025-05-18 16:21:28 - INFO - \n",
      "=== Starting Epoch 38 ===\n",
      "\n"
     ]
    },
    {
     "name": "stdout",
     "output_type": "stream",
     "text": [
      "Epoch 38/100\n",
      "\u001b[1m873/873\u001b[0m \u001b[32m━━━━━━━━━━━━━━━━━━━━\u001b[0m\u001b[37m\u001b[0m \u001b[1m0s\u001b[0m 229ms/step - accuracy: 0.9533 - auc: 0.9701 - f1_score: 0.6767 - loss: 0.1857 - precision: 0.9227 - recall: 0.5538  "
     ]
    },
    {
     "name": "stderr",
     "output_type": "stream",
     "text": [
      "2025-05-18 16:24:56 - INFO - \n",
      "=== Epoch 38 Summary ===\n",
      "2025-05-18 16:24:56 - INFO - Time: 208.46s\n",
      "2025-05-18 16:24:56 - INFO - Training   - accuracy: 0.9536 - auc: 0.9710 - f1_score: 0.6788 - loss: 0.1850 - precision: 0.9243 - recall: 0.5558 - learning_rate: 0.0000\n",
      "2025-05-18 16:24:56 - INFO - Validation - accuracy: 0.9233 - auc: 0.6719 - f1_score: 0.3557 - loss: 0.4407 - precision: 0.5919 - recall: 0.3203\n",
      "2025-05-18 16:24:56 - INFO - ==================================================\n",
      "\n"
     ]
    },
    {
     "name": "stdout",
     "output_type": "stream",
     "text": [
      "\u001b[1m873/873\u001b[0m \u001b[32m━━━━━━━━━━━━━━━━━━━━\u001b[0m\u001b[37m\u001b[0m \u001b[1m208s\u001b[0m 239ms/step - accuracy: 0.9533 - auc: 0.9701 - f1_score: 0.6767 - loss: 0.1857 - precision: 0.9227 - recall: 0.5538 - val_accuracy: 0.9233 - val_auc: 0.6719 - val_f1_score: 0.3557 - val_loss: 0.4407 - val_precision: 0.5919 - val_recall: 0.3203 - learning_rate: 1.0000e-06\n"
     ]
    },
    {
     "name": "stderr",
     "output_type": "stream",
     "text": [
      "2025-05-18 16:24:56 - INFO - \n",
      "=== Starting Epoch 39 ===\n",
      "\n"
     ]
    },
    {
     "name": "stdout",
     "output_type": "stream",
     "text": [
      "Epoch 39/100\n",
      "\u001b[1m873/873\u001b[0m \u001b[32m━━━━━━━━━━━━━━━━━━━━\u001b[0m\u001b[37m\u001b[0m \u001b[1m0s\u001b[0m 227ms/step - accuracy: 0.9538 - auc: 0.9709 - f1_score: 0.6814 - loss: 0.1856 - precision: 0.9237 - recall: 0.5592  "
     ]
    },
    {
     "name": "stderr",
     "output_type": "stream",
     "text": [
      "2025-05-18 16:28:24 - INFO - \n",
      "=== Epoch 39 Summary ===\n",
      "2025-05-18 16:28:24 - INFO - Time: 207.46s\n",
      "2025-05-18 16:28:24 - INFO - Training   - accuracy: 0.9542 - auc: 0.9717 - f1_score: 0.6837 - loss: 0.1844 - precision: 0.9251 - recall: 0.5614 - learning_rate: 0.0000\n",
      "2025-05-18 16:28:24 - INFO - Validation - accuracy: 0.9235 - auc: 0.6715 - f1_score: 0.3596 - loss: 0.4377 - precision: 0.5906 - recall: 0.3301\n",
      "2025-05-18 16:28:24 - INFO - ==================================================\n",
      "\n"
     ]
    },
    {
     "name": "stdout",
     "output_type": "stream",
     "text": [
      "\u001b[1m873/873\u001b[0m \u001b[32m━━━━━━━━━━━━━━━━━━━━\u001b[0m\u001b[37m\u001b[0m \u001b[1m207s\u001b[0m 238ms/step - accuracy: 0.9538 - auc: 0.9709 - f1_score: 0.6814 - loss: 0.1856 - precision: 0.9237 - recall: 0.5592 - val_accuracy: 0.9235 - val_auc: 0.6715 - val_f1_score: 0.3596 - val_loss: 0.4377 - val_precision: 0.5906 - val_recall: 0.3301 - learning_rate: 1.0000e-06\n"
     ]
    },
    {
     "name": "stderr",
     "output_type": "stream",
     "text": [
      "2025-05-18 16:28:24 - INFO - \n",
      "=== Starting Epoch 40 ===\n",
      "\n"
     ]
    },
    {
     "name": "stdout",
     "output_type": "stream",
     "text": [
      "Epoch 40/100\n",
      "\u001b[1m873/873\u001b[0m \u001b[32m━━━━━━━━━━━━━━━━━━━━\u001b[0m\u001b[37m\u001b[0m \u001b[1m0s\u001b[0m 229ms/step - accuracy: 0.9535 - auc: 0.9709 - f1_score: 0.6794 - loss: 0.1865 - precision: 0.9235 - recall: 0.5566  "
     ]
    },
    {
     "name": "stderr",
     "output_type": "stream",
     "text": [
      "2025-05-18 16:31:53 - INFO - \n",
      "=== Epoch 40 Summary ===\n",
      "2025-05-18 16:31:53 - INFO - Time: 208.88s\n",
      "2025-05-18 16:31:53 - INFO - Training   - accuracy: 0.9542 - auc: 0.9719 - f1_score: 0.6841 - loss: 0.1848 - precision: 0.9262 - recall: 0.5615 - learning_rate: 0.0000\n",
      "2025-05-18 16:31:53 - INFO - Validation - accuracy: 0.9227 - auc: 0.6720 - f1_score: 0.3528 - loss: 0.4374 - precision: 0.5846 - recall: 0.3201\n",
      "2025-05-18 16:31:53 - INFO - ==================================================\n",
      "\n"
     ]
    },
    {
     "name": "stdout",
     "output_type": "stream",
     "text": [
      "\u001b[1m873/873\u001b[0m \u001b[32m━━━━━━━━━━━━━━━━━━━━\u001b[0m\u001b[37m\u001b[0m \u001b[1m209s\u001b[0m 239ms/step - accuracy: 0.9535 - auc: 0.9709 - f1_score: 0.6794 - loss: 0.1865 - precision: 0.9235 - recall: 0.5566 - val_accuracy: 0.9227 - val_auc: 0.6720 - val_f1_score: 0.3528 - val_loss: 0.4374 - val_precision: 0.5846 - val_recall: 0.3201 - learning_rate: 1.0000e-06\n"
     ]
    },
    {
     "name": "stderr",
     "output_type": "stream",
     "text": [
      "2025-05-18 16:31:53 - INFO - \n",
      "=== Starting Epoch 41 ===\n",
      "\n"
     ]
    },
    {
     "name": "stdout",
     "output_type": "stream",
     "text": [
      "Epoch 41/100\n",
      "\u001b[1m873/873\u001b[0m \u001b[32m━━━━━━━━━━━━━━━━━━━━\u001b[0m\u001b[37m\u001b[0m \u001b[1m0s\u001b[0m 228ms/step - accuracy: 0.9541 - auc: 0.9711 - f1_score: 0.6841 - loss: 0.1843 - precision: 0.9259 - recall: 0.5613  "
     ]
    },
    {
     "name": "stderr",
     "output_type": "stream",
     "text": [
      "2025-05-18 16:35:21 - INFO - \n",
      "=== Epoch 41 Summary ===\n",
      "2025-05-18 16:35:21 - INFO - Time: 208.10s\n",
      "2025-05-18 16:35:21 - INFO - Training   - accuracy: 0.9545 - auc: 0.9717 - f1_score: 0.6872 - loss: 0.1840 - precision: 0.9261 - recall: 0.5650 - learning_rate: 0.0000\n",
      "2025-05-18 16:35:21 - INFO - Validation - accuracy: 0.9233 - auc: 0.6703 - f1_score: 0.3599 - loss: 0.4439 - precision: 0.5885 - recall: 0.3297\n",
      "2025-05-18 16:35:21 - INFO - ==================================================\n",
      "\n"
     ]
    },
    {
     "name": "stdout",
     "output_type": "stream",
     "text": [
      "\u001b[1m873/873\u001b[0m \u001b[32m━━━━━━━━━━━━━━━━━━━━\u001b[0m\u001b[37m\u001b[0m \u001b[1m208s\u001b[0m 238ms/step - accuracy: 0.9541 - auc: 0.9711 - f1_score: 0.6841 - loss: 0.1843 - precision: 0.9259 - recall: 0.5613 - val_accuracy: 0.9233 - val_auc: 0.6703 - val_f1_score: 0.3599 - val_loss: 0.4439 - val_precision: 0.5885 - val_recall: 0.3297 - learning_rate: 1.0000e-06\n"
     ]
    },
    {
     "name": "stderr",
     "output_type": "stream",
     "text": [
      "2025-05-18 16:35:21 - INFO - \n",
      "=== Starting Epoch 42 ===\n",
      "\n"
     ]
    },
    {
     "name": "stdout",
     "output_type": "stream",
     "text": [
      "Epoch 42/100\n",
      "\u001b[1m873/873\u001b[0m \u001b[32m━━━━━━━━━━━━━━━━━━━━\u001b[0m\u001b[37m\u001b[0m \u001b[1m0s\u001b[0m 229ms/step - accuracy: 0.9541 - auc: 0.9718 - f1_score: 0.6847 - loss: 0.1852 - precision: 0.9264 - recall: 0.5619  "
     ]
    },
    {
     "name": "stderr",
     "output_type": "stream",
     "text": [
      "2025-05-18 16:38:50 - INFO - \n",
      "=== Epoch 42 Summary ===\n",
      "2025-05-18 16:38:50 - INFO - Time: 208.76s\n",
      "2025-05-18 16:38:50 - INFO - Training   - accuracy: 0.9547 - auc: 0.9726 - f1_score: 0.6884 - loss: 0.1839 - precision: 0.9272 - recall: 0.5662 - learning_rate: 0.0000\n",
      "2025-05-18 16:38:50 - INFO - Validation - accuracy: 0.9236 - auc: 0.6689 - f1_score: 0.3604 - loss: 0.4454 - precision: 0.5909 - recall: 0.3326\n",
      "2025-05-18 16:38:50 - INFO - ==================================================\n",
      "\n"
     ]
    },
    {
     "name": "stdout",
     "output_type": "stream",
     "text": [
      "\u001b[1m873/873\u001b[0m \u001b[32m━━━━━━━━━━━━━━━━━━━━\u001b[0m\u001b[37m\u001b[0m \u001b[1m209s\u001b[0m 239ms/step - accuracy: 0.9541 - auc: 0.9718 - f1_score: 0.6847 - loss: 0.1852 - precision: 0.9264 - recall: 0.5619 - val_accuracy: 0.9236 - val_auc: 0.6689 - val_f1_score: 0.3604 - val_loss: 0.4454 - val_precision: 0.5909 - val_recall: 0.3326 - learning_rate: 1.0000e-06\n"
     ]
    },
    {
     "name": "stderr",
     "output_type": "stream",
     "text": [
      "2025-05-18 16:38:50 - INFO - \n",
      "=== Starting Epoch 43 ===\n",
      "\n"
     ]
    },
    {
     "name": "stdout",
     "output_type": "stream",
     "text": [
      "Epoch 43/100\n",
      "\u001b[1m873/873\u001b[0m \u001b[32m━━━━━━━━━━━━━━━━━━━━\u001b[0m\u001b[37m\u001b[0m \u001b[1m0s\u001b[0m 228ms/step - accuracy: 0.9546 - auc: 0.9732 - f1_score: 0.6886 - loss: 0.1838 - precision: 0.9258 - recall: 0.5665  "
     ]
    },
    {
     "name": "stderr",
     "output_type": "stream",
     "text": [
      "2025-05-18 16:42:18 - INFO - \n",
      "=== Epoch 43 Summary ===\n",
      "2025-05-18 16:42:18 - INFO - Time: 208.22s\n",
      "2025-05-18 16:42:18 - INFO - Training   - accuracy: 0.9549 - auc: 0.9733 - f1_score: 0.6902 - loss: 0.1830 - precision: 0.9270 - recall: 0.5683 - learning_rate: 0.0000\n",
      "2025-05-18 16:42:18 - INFO - Validation - accuracy: 0.9231 - auc: 0.6672 - f1_score: 0.3578 - loss: 0.4465 - precision: 0.5900 - recall: 0.3196\n",
      "2025-05-18 16:42:18 - INFO - ==================================================\n",
      "\n"
     ]
    },
    {
     "name": "stdout",
     "output_type": "stream",
     "text": [
      "\u001b[1m873/873\u001b[0m \u001b[32m━━━━━━━━━━━━━━━━━━━━\u001b[0m\u001b[37m\u001b[0m \u001b[1m208s\u001b[0m 239ms/step - accuracy: 0.9546 - auc: 0.9732 - f1_score: 0.6886 - loss: 0.1838 - precision: 0.9258 - recall: 0.5665 - val_accuracy: 0.9231 - val_auc: 0.6672 - val_f1_score: 0.3578 - val_loss: 0.4465 - val_precision: 0.5900 - val_recall: 0.3196 - learning_rate: 1.0000e-06\n"
     ]
    },
    {
     "name": "stderr",
     "output_type": "stream",
     "text": [
      "2025-05-18 16:42:18 - INFO - \n",
      "=== Starting Epoch 44 ===\n",
      "\n"
     ]
    },
    {
     "name": "stdout",
     "output_type": "stream",
     "text": [
      "Epoch 44/100\n",
      "\u001b[1m873/873\u001b[0m \u001b[32m━━━━━━━━━━━━━━━━━━━━\u001b[0m\u001b[37m\u001b[0m \u001b[1m0s\u001b[0m 229ms/step - accuracy: 0.9542 - auc: 0.9719 - f1_score: 0.6853 - loss: 0.1852 - precision: 0.9271 - recall: 0.5622  "
     ]
    },
    {
     "name": "stderr",
     "output_type": "stream",
     "text": [
      "2025-05-18 16:45:47 - INFO - \n",
      "=== Epoch 44 Summary ===\n",
      "2025-05-18 16:45:47 - INFO - Time: 209.17s\n",
      "2025-05-18 16:45:47 - INFO - Training   - accuracy: 0.9548 - auc: 0.9726 - f1_score: 0.6900 - loss: 0.1834 - precision: 0.9280 - recall: 0.5677 - learning_rate: 0.0000\n",
      "2025-05-18 16:45:47 - INFO - Validation - accuracy: 0.9232 - auc: 0.6677 - f1_score: 0.3521 - loss: 0.4419 - precision: 0.5907 - recall: 0.3216\n",
      "2025-05-18 16:45:47 - INFO - ==================================================\n",
      "\n"
     ]
    },
    {
     "name": "stdout",
     "output_type": "stream",
     "text": [
      "\u001b[1m873/873\u001b[0m \u001b[32m━━━━━━━━━━━━━━━━━━━━\u001b[0m\u001b[37m\u001b[0m \u001b[1m209s\u001b[0m 240ms/step - accuracy: 0.9542 - auc: 0.9719 - f1_score: 0.6853 - loss: 0.1852 - precision: 0.9271 - recall: 0.5622 - val_accuracy: 0.9232 - val_auc: 0.6677 - val_f1_score: 0.3521 - val_loss: 0.4419 - val_precision: 0.5907 - val_recall: 0.3216 - learning_rate: 1.0000e-06\n"
     ]
    },
    {
     "name": "stderr",
     "output_type": "stream",
     "text": [
      "2025-05-18 16:45:47 - INFO - \n",
      "=== Starting Epoch 45 ===\n",
      "\n"
     ]
    },
    {
     "name": "stdout",
     "output_type": "stream",
     "text": [
      "Epoch 45/100\n",
      "\u001b[1m873/873\u001b[0m \u001b[32m━━━━━━━━━━━━━━━━━━━━\u001b[0m\u001b[37m\u001b[0m \u001b[1m0s\u001b[0m 228ms/step - accuracy: 0.9546 - auc: 0.9718 - f1_score: 0.6885 - loss: 0.1840 - precision: 0.9254 - recall: 0.5662  "
     ]
    },
    {
     "name": "stderr",
     "output_type": "stream",
     "text": [
      "2025-05-18 16:49:15 - INFO - \n",
      "=== Epoch 45 Summary ===\n",
      "2025-05-18 16:49:15 - INFO - Time: 208.30s\n",
      "2025-05-18 16:49:15 - INFO - Training   - accuracy: 0.9552 - auc: 0.9733 - f1_score: 0.6929 - loss: 0.1828 - precision: 0.9280 - recall: 0.5710 - learning_rate: 0.0000\n",
      "2025-05-18 16:49:15 - INFO - Validation - accuracy: 0.9230 - auc: 0.6687 - f1_score: 0.3578 - loss: 0.4470 - precision: 0.5867 - recall: 0.3258\n",
      "2025-05-18 16:49:15 - INFO - ==================================================\n",
      "\n"
     ]
    },
    {
     "name": "stdout",
     "output_type": "stream",
     "text": [
      "\u001b[1m873/873\u001b[0m \u001b[32m━━━━━━━━━━━━━━━━━━━━\u001b[0m\u001b[37m\u001b[0m \u001b[1m208s\u001b[0m 239ms/step - accuracy: 0.9546 - auc: 0.9718 - f1_score: 0.6885 - loss: 0.1840 - precision: 0.9254 - recall: 0.5662 - val_accuracy: 0.9230 - val_auc: 0.6687 - val_f1_score: 0.3578 - val_loss: 0.4470 - val_precision: 0.5867 - val_recall: 0.3258 - learning_rate: 1.0000e-06\n"
     ]
    },
    {
     "name": "stderr",
     "output_type": "stream",
     "text": [
      "2025-05-18 16:49:15 - INFO - \n",
      "=== Training Completed! ===\n",
      "\n",
      "2025-05-18 16:49:15 - INFO - Final Metrics: accuracy: 0.9552 - auc: 0.9733 - f1_score: 0.6929 - loss: 0.1828 - precision: 0.9280 - recall: 0.5710 - val_accuracy: 0.9230 - val_auc: 0.6687 - val_f1_score: 0.3578 - val_loss: 0.4470 - val_precision: 0.5867 - val_recall: 0.3258\n",
      "\n"
     ]
    },
    {
     "name": "stdout",
     "output_type": "stream",
     "text": [
      "Epoch 45: early stopping\n",
      "Restoring model weights from the end of the best epoch: 30.\n"
     ]
    }
   ],
   "source": [
    "# Model Training\n",
    "model          = build_densenet121(num_classes)\n",
    "optimizer      = Adam(learning_rate=1e-4)\n",
    "compile_kwargs = {'optimizer': optimizer, 'loss': loss, 'metrics': metrics}\n",
    "\n",
    "history, model = start_or_resume_training(\n",
    "    model, \n",
    "    compile_kwargs, \n",
    "    train_ds, \n",
    "    val_ds, \n",
    "    TF_MAX_EPOCHS,\n",
    "    steps_per_epoch, \n",
    "    validation_steps, \n",
    "    class_weights=class_weights,\n",
    "    callbacks=[checkpoint, best_checkpoint, reduce_lr, training_logger, metrics_monitor, early_stopping], \n",
    "    checkpoint_path=checkpoint_path,\n",
    "    initial_epoch=initial_epoch,\n",
    "    output_dir=MODELS_PATH,\n",
    "    model_name=model_name,\n",
    "    logger=logger\n",
    ")"
   ]
  },
  {
   "cell_type": "code",
   "execution_count": null,
   "id": "505ca730-cedd-40e1-b3c4-fc7a8e47158c",
   "metadata": {},
   "outputs": [],
   "source": []
  }
 ],
 "metadata": {
  "kernelspec": {
   "display_name": "Python 3 (ipykernel)",
   "language": "python",
   "name": "python3"
  },
  "language_info": {
   "codemirror_mode": {
    "name": "ipython",
    "version": 3
   },
   "file_extension": ".py",
   "mimetype": "text/x-python",
   "name": "python",
   "nbconvert_exporter": "python",
   "pygments_lexer": "ipython3",
   "version": "3.10.16"
  }
 },
 "nbformat": 4,
 "nbformat_minor": 5
}
