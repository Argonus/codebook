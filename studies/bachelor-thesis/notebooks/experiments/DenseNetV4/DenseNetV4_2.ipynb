{
 "cells": [
  {
   "cell_type": "code",
   "execution_count": 1,
   "id": "b694919a-9b18-4068-8e69-7258de889dff",
   "metadata": {},
   "outputs": [
    {
     "name": "stderr",
     "output_type": "stream",
     "text": [
      "2025-06-15 12:02:49.409645: E external/local_xla/xla/stream_executor/cuda/cuda_fft.cc:467] Unable to register cuFFT factory: Attempting to register factory for plugin cuFFT when one has already been registered\n",
      "WARNING: All log messages before absl::InitializeLog() is called are written to STDERR\n",
      "E0000 00:00:1749981769.490393    4018 cuda_dnn.cc:8579] Unable to register cuDNN factory: Attempting to register factory for plugin cuDNN when one has already been registered\n",
      "E0000 00:00:1749981769.514152    4018 cuda_blas.cc:1407] Unable to register cuBLAS factory: Attempting to register factory for plugin cuBLAS when one has already been registered\n",
      "W0000 00:00:1749981769.703257    4018 computation_placer.cc:177] computation placer already registered. Please check linkage and avoid linking the same target more than once.\n",
      "W0000 00:00:1749981769.703272    4018 computation_placer.cc:177] computation placer already registered. Please check linkage and avoid linking the same target more than once.\n",
      "W0000 00:00:1749981769.703273    4018 computation_placer.cc:177] computation placer already registered. Please check linkage and avoid linking the same target more than once.\n",
      "W0000 00:00:1749981769.703274    4018 computation_placer.cc:177] computation placer already registered. Please check linkage and avoid linking the same target more than once.\n"
     ]
    },
    {
     "name": "stdout",
     "output_type": "stream",
     "text": [
      "\n",
      "GPU configuration successful!\n",
      "Device: /physical_device:GPU:0\n",
      "Memory limit: 18.0 GB\n",
      "\n",
      "TensorFlow optimizations status:\n",
      "- CPU Threads: 16 intra-op, 9 inter-op (32 cores total)\n",
      "- XLA JIT: enabled (autoclustering)\n",
      "- Synchronous Execution: enabled\n",
      "\n",
      "GPU Device Details:\n",
      "- Device: GPU /physical_device:GPU:0\n",
      "- Memory limit: 18.0 GB\n"
     ]
    },
    {
     "name": "stderr",
     "output_type": "stream",
     "text": [
      "I0000 00:00:1749981772.947054    4018 gpu_process_state.cc:208] Using CUDA malloc Async allocator for GPU: 0\n",
      "I0000 00:00:1749981772.947801    4018 gpu_device.cc:2019] Created device /job:localhost/replica:0/task:0/device:GPU:0 with 19327352832 MB memory:  -> device: 0, name: NVIDIA GeForce RTX 3090 Ti, pci bus id: 0000:01:00.0, compute capability: 8.6\n"
     ]
    }
   ],
   "source": [
    "# Import dependencies\n",
    "import os\n",
    "\n",
    "os.environ['TF_CPP_MIN_VLOG_LEVEL'] = '0'\n",
    "os.environ['TF_CPP_MIN_LOG_LEVEL'] = '2'\n",
    "os.environ['TF_GPU_ALLOCATOR'] = 'cuda_malloc_async'\n",
    "os.environ['TF_FORCE_GPU_ALLOW_GROWTH'] = 'true'\n",
    "\n",
    "from src.utils.gpu_config import configure_gpu, optimize_tensorflow\n",
    "\n",
    "configure_gpu()\n",
    "optimize_tensorflow()"
   ]
  },
  {
   "cell_type": "code",
   "execution_count": 2,
   "id": "2b854daf-5f2a-4c33-9180-5081cd415b16",
   "metadata": {},
   "outputs": [],
   "source": [
    "# Import Tensorflow Keras\n",
    "from tensorflow.keras.optimizers import Adam\n",
    "from tensorflow.keras.losses import BinaryFocalCrossentropy\n",
    "from tensorflow.keras.callbacks import ReduceLROnPlateau, ModelCheckpoint\n",
    "\n",
    "# Import local modules\n",
    "from src.utils.consts import TF_RECORD_DATASET, MODELS_PATH, TF_BUFFER_SIZE, TF_SHUFFLE_SIZE, TF_BATCH_SIZE, TF_MAX_EPOCHS\n",
    "from src.model.tensorflow_utils import load_dataset, optimize_dataset, count_dataset_size, get_num_classes, get_metrics\n",
    "from src.model.tensorflow_utils import setup_logger, setup_training_logger, setup_metrics_monitor, setup_early_stopping, filter_no_finding_class\n",
    "from src.model.tensorflow_utils import start_or_resume_training, apply_augmentation_to_dataset, calculate_class_weights, oversample_minority_classes\n",
    "from src.model.densnet.tensorflow_dense_net_121 import build_densenet121\n",
    "\n",
    "# Input Data\n",
    "initial_epoch   = None\n",
    "resume_training = False\n",
    "checkpoint_path = None\n",
    "set_name        = \"DenseNetV4\"\n",
    "model_name      = f\"{set_name}_2\"\n",
    "num_classes     = get_num_classes()\n",
    "\n",
    "train_ds = load_dataset(f\"{TF_RECORD_DATASET}/train.tfrecord\", TF_BUFFER_SIZE)\n",
    "val_ds   = load_dataset(f\"{TF_RECORD_DATASET}/val.tfrecord\", TF_BUFFER_SIZE)\n",
    "\n",
    "train_ds = filter_no_finding_class(train_ds)\n",
    "val_ds   = filter_no_finding_class(val_ds)\n",
    "\n",
    "class_weights = calculate_class_weights(train_ds, num_classes)\n",
    "train_ds      = oversample_minority_classes(train_ds, class_weights)\n",
    "class_weights = calculate_class_weights(train_ds, num_classes)"
   ]
  },
  {
   "cell_type": "code",
   "execution_count": 3,
   "id": "5f152b8a-8ff8-4095-9815-e304ce2beb52",
   "metadata": {},
   "outputs": [
    {
     "name": "stderr",
     "output_type": "stream",
     "text": [
      "Counting samples: 104166 samples [00:34, 3009.21 samples/s] \n",
      "Counting samples: 15431 samples [00:08, 1757.93 samples/s]\n"
     ]
    }
   ],
   "source": [
    "steps_per_epoch  = int(count_dataset_size(train_ds, None) / TF_BATCH_SIZE)\n",
    "validation_steps = int(count_dataset_size(val_ds, None) / TF_BATCH_SIZE)\n",
    "\n",
    "# Disable Advanced Augmentations\n",
    "probability = {\n",
    "    \"intensity_scaling\": 0,\n",
    "    \"adaptive_histogram\": 0,\n",
    "    \"zoom\": 0,\n",
    "    \"cutout\": 0\n",
    "}\n",
    "\n",
    "train_ds = train_ds.shuffle(TF_SHUFFLE_SIZE, reshuffle_each_iteration=True)\n",
    "train_ds = apply_augmentation_to_dataset(train_ds, probability)\n",
    "train_ds = optimize_dataset(train_ds, TF_BATCH_SIZE)\n",
    "\n",
    "val_ds   = optimize_dataset(val_ds, TF_BATCH_SIZE)"
   ]
  },
  {
   "cell_type": "code",
   "execution_count": 4,
   "id": "3a0e37c9-b178-40d8-bd25-8c0a6498564a",
   "metadata": {},
   "outputs": [],
   "source": [
    "# Setup Model Deps\n",
    "logger            = setup_logger()\n",
    "training_logger   = setup_training_logger(logger, TF_BATCH_SIZE, 100)\n",
    "metrics_monitor   = setup_metrics_monitor(MODELS_PATH, model_name, logger, resume_training=resume_training, initial_epoch=initial_epoch)\n",
    "metrics           = get_metrics()\n",
    "\n",
    "# Setup compile arguments\n",
    "loss           = BinaryFocalCrossentropy(gamma=2.0, from_logits=False, label_smoothing=0.1)\n",
    "reduce_lr      = ReduceLROnPlateau(monitor=\"val_f1_score\", factor=0.5,  patience=3, min_lr=1e-6, mode=\"max\", verbose=1)\n",
    "early_stopping = setup_early_stopping()\n",
    "\n",
    "epoch_mode           = 'cp-{epoch:04d}'\n",
    "save_checkpoint_path = f\"{MODELS_PATH}/{model_name}/checkpoints/{epoch_mode}.keras\"\n",
    "checkpoint           = ModelCheckpoint(save_checkpoint_path, monitor=\"val_f1_score\", save_best_only=False, mode=\"max\", save_weights_only=False)\n",
    "\n",
    "model_path      = f\"{MODELS_PATH}/{model_name}.keras\"\n",
    "best_checkpoint = ModelCheckpoint(model_path, monitor=\"val_f1_score\", save_best_only=True, mode=\"max\", save_weights_only=False)"
   ]
  },
  {
   "cell_type": "code",
   "execution_count": 5,
   "id": "c44d4a9a-ffbb-4917-a702-c35773b9857c",
   "metadata": {},
   "outputs": [
    {
     "name": "stderr",
     "output_type": "stream",
     "text": [
      "2025-06-15 12:04:53 - INFO - \n",
      "=== Training Started ===\n",
      "\n",
      "2025-06-15 12:04:53 - INFO - Batch Size: 128\n",
      "2025-06-15 12:04:53 - INFO - Optimizer: Adam\n",
      "2025-06-15 12:04:53 - INFO - \n",
      "==================================================\n",
      "\n",
      "2025-06-15 12:04:53 - INFO - \n",
      "=== Starting Epoch 1 ===\n",
      "\n"
     ]
    },
    {
     "name": "stdout",
     "output_type": "stream",
     "text": [
      "Epoch 1/100\n"
     ]
    },
    {
     "name": "stderr",
     "output_type": "stream",
     "text": [
      "WARNING: All log messages before absl::InitializeLog() is called are written to STDERR\n",
      "I0000 00:00:1749981901.422849    4096 service.cc:152] XLA service 0x75cdb00156e0 initialized for platform CUDA (this does not guarantee that XLA will be used). Devices:\n",
      "I0000 00:00:1749981901.422871    4096 service.cc:160]   StreamExecutor device (0): NVIDIA GeForce RTX 3090 Ti, Compute Capability 8.6\n",
      "I0000 00:00:1749981901.439829    4096 cuda_dnn.cc:529] Loaded cuDNN version 90300\n",
      "I0000 00:00:1749981901.513208    4096 device_compiler.h:188] Compiled cluster using XLA!  This line is logged at most once for the lifetime of the process.\n"
     ]
    },
    {
     "name": "stdout",
     "output_type": "stream",
     "text": [
      "\u001b[1m813/813\u001b[0m \u001b[32m━━━━━━━━━━━━━━━━━━━━\u001b[0m\u001b[37m\u001b[0m \u001b[1m0s\u001b[0m 213ms/step - accuracy: 0.9027 - auc: 0.5503 - f1_score: 0.0522 - loss: 1.8597 - precision: 0.1364 - recall: 0.0361  "
     ]
    },
    {
     "name": "stderr",
     "output_type": "stream",
     "text": [
      "2025-06-15 12:09:30 - INFO - \n",
      "=== Epoch 1 Summary ===\n",
      "2025-06-15 12:09:30 - INFO - Time: 277.47s\n",
      "2025-06-15 12:09:30 - INFO - Training   - accuracy: 0.9151 - auc: 0.5726 - f1_score: 0.0381 - loss: 1.5979 - precision: 0.1631 - recall: 0.0221 - learning_rate: 0.0001\n",
      "2025-06-15 12:09:30 - INFO - Validation - accuracy: 0.9442 - auc: 0.6328 - f1_score: 0.0056 - loss: 1.1263 - precision: 0.2384 - recall: 0.0030\n",
      "2025-06-15 12:09:30 - INFO - ==================================================\n",
      "\n"
     ]
    },
    {
     "name": "stdout",
     "output_type": "stream",
     "text": [
      "\u001b[1m813/813\u001b[0m \u001b[32m━━━━━━━━━━━━━━━━━━━━\u001b[0m\u001b[37m\u001b[0m \u001b[1m278s\u001b[0m 236ms/step - accuracy: 0.9027 - auc: 0.5503 - f1_score: 0.0522 - loss: 1.8594 - precision: 0.1364 - recall: 0.0361 - val_accuracy: 0.9442 - val_auc: 0.6328 - val_f1_score: 0.0056 - val_loss: 1.1263 - val_precision: 0.2384 - val_recall: 0.0030 - learning_rate: 1.0000e-04\n"
     ]
    },
    {
     "name": "stderr",
     "output_type": "stream",
     "text": [
      "2025-06-15 12:09:30 - INFO - \n",
      "=== Starting Epoch 2 ===\n",
      "\n"
     ]
    },
    {
     "name": "stdout",
     "output_type": "stream",
     "text": [
      "Epoch 2/100\n",
      "\u001b[1m813/813\u001b[0m \u001b[32m━━━━━━━━━━━━━━━━━━━━\u001b[0m\u001b[37m\u001b[0m \u001b[1m0s\u001b[0m 214ms/step - accuracy: 0.9192 - auc: 0.6029 - f1_score: 0.0280 - loss: 0.9603 - precision: 0.2459 - recall: 0.0156  "
     ]
    },
    {
     "name": "stderr",
     "output_type": "stream",
     "text": [
      "2025-06-15 12:13:27 - INFO - \n",
      "=== Epoch 2 Summary ===\n",
      "2025-06-15 12:13:27 - INFO - Time: 236.89s\n",
      "2025-06-15 12:13:27 - INFO - Training   - accuracy: 0.9198 - auc: 0.6137 - f1_score: 0.0281 - loss: 0.8154 - precision: 0.2561 - recall: 0.0156 - learning_rate: 0.0001\n",
      "2025-06-15 12:13:27 - INFO - Validation - accuracy: 0.9446 - auc: 0.6547 - f1_score: 0.0017 - loss: 0.5692 - precision: 0.4348 - recall: 0.0008\n",
      "2025-06-15 12:13:27 - INFO - ==================================================\n",
      "\n"
     ]
    },
    {
     "name": "stdout",
     "output_type": "stream",
     "text": [
      "\u001b[1m813/813\u001b[0m \u001b[32m━━━━━━━━━━━━━━━━━━━━\u001b[0m\u001b[37m\u001b[0m \u001b[1m237s\u001b[0m 224ms/step - accuracy: 0.9192 - auc: 0.6029 - f1_score: 0.0280 - loss: 0.9601 - precision: 0.2459 - recall: 0.0156 - val_accuracy: 0.9446 - val_auc: 0.6547 - val_f1_score: 0.0017 - val_loss: 0.5692 - val_precision: 0.4348 - val_recall: 8.3963e-04 - learning_rate: 1.0000e-04\n"
     ]
    },
    {
     "name": "stderr",
     "output_type": "stream",
     "text": [
      "2025-06-15 12:13:27 - INFO - \n",
      "=== Starting Epoch 3 ===\n",
      "\n"
     ]
    },
    {
     "name": "stdout",
     "output_type": "stream",
     "text": [
      "Epoch 3/100\n",
      "\u001b[1m813/813\u001b[0m \u001b[32m━━━━━━━━━━━━━━━━━━━━\u001b[0m\u001b[37m\u001b[0m \u001b[1m0s\u001b[0m 226ms/step - accuracy: 0.9199 - auc: 0.6312 - f1_score: 0.0246 - loss: 0.4883 - precision: 0.2653 - recall: 0.0137  "
     ]
    },
    {
     "name": "stderr",
     "output_type": "stream",
     "text": [
      "2025-06-15 12:16:42 - INFO - \n",
      "=== Epoch 3 Summary ===\n",
      "2025-06-15 12:16:42 - INFO - Time: 194.84s\n",
      "2025-06-15 12:16:42 - INFO - Training   - accuracy: 0.9203 - auc: 0.6390 - f1_score: 0.0262 - loss: 0.4205 - precision: 0.2701 - recall: 0.0146 - learning_rate: 0.0001\n",
      "2025-06-15 12:16:42 - INFO - Validation - accuracy: 0.9445 - auc: 0.6679 - f1_score: 0.0018 - loss: 0.3079 - precision: 0.2391 - recall: 0.0009\n",
      "2025-06-15 12:16:42 - INFO - ==================================================\n",
      "\n"
     ]
    },
    {
     "name": "stdout",
     "output_type": "stream",
     "text": [
      "\u001b[1m813/813\u001b[0m \u001b[32m━━━━━━━━━━━━━━━━━━━━\u001b[0m\u001b[37m\u001b[0m \u001b[1m195s\u001b[0m 240ms/step - accuracy: 0.9199 - auc: 0.6312 - f1_score: 0.0246 - loss: 0.4883 - precision: 0.2653 - recall: 0.0137 - val_accuracy: 0.9445 - val_auc: 0.6679 - val_f1_score: 0.0018 - val_loss: 0.3079 - val_precision: 0.2391 - val_recall: 9.2359e-04 - learning_rate: 1.0000e-04\n"
     ]
    },
    {
     "name": "stderr",
     "output_type": "stream",
     "text": [
      "2025-06-15 12:16:42 - INFO - \n",
      "=== Starting Epoch 4 ===\n",
      "\n"
     ]
    },
    {
     "name": "stdout",
     "output_type": "stream",
     "text": [
      "Epoch 4/100\n",
      "\u001b[1m813/813\u001b[0m \u001b[32m━━━━━━━━━━━━━━━━━━━━\u001b[0m\u001b[37m\u001b[0m \u001b[1m0s\u001b[0m 222ms/step - accuracy: 0.9199 - auc: 0.6558 - f1_score: 0.0283 - loss: 0.2706 - precision: 0.2880 - recall: 0.0160  "
     ]
    },
    {
     "name": "stderr",
     "output_type": "stream",
     "text": [
      "2025-06-15 12:19:56 - INFO - \n",
      "=== Epoch 4 Summary ===\n",
      "2025-06-15 12:19:56 - INFO - Time: 193.88s\n",
      "2025-06-15 12:19:56 - INFO - Training   - accuracy: 0.9204 - auc: 0.6615 - f1_score: 0.0317 - loss: 0.2401 - precision: 0.3044 - recall: 0.0180 - learning_rate: 0.0001\n",
      "2025-06-15 12:19:56 - INFO - Validation - accuracy: 0.9436 - auc: 0.6750 - f1_score: 0.0072 - loss: 0.1960 - precision: 0.1710 - recall: 0.0050\n",
      "2025-06-15 12:19:56 - INFO - ==================================================\n",
      "\n"
     ]
    },
    {
     "name": "stdout",
     "output_type": "stream",
     "text": [
      "\u001b[1m813/813\u001b[0m \u001b[32m━━━━━━━━━━━━━━━━━━━━\u001b[0m\u001b[37m\u001b[0m \u001b[1m194s\u001b[0m 239ms/step - accuracy: 0.9199 - auc: 0.6558 - f1_score: 0.0283 - loss: 0.2706 - precision: 0.2881 - recall: 0.0160 - val_accuracy: 0.9436 - val_auc: 0.6750 - val_f1_score: 0.0072 - val_loss: 0.1960 - val_precision: 0.1710 - val_recall: 0.0050 - learning_rate: 1.0000e-04\n"
     ]
    },
    {
     "name": "stderr",
     "output_type": "stream",
     "text": [
      "2025-06-15 12:19:56 - INFO - \n",
      "=== Starting Epoch 5 ===\n",
      "\n"
     ]
    },
    {
     "name": "stdout",
     "output_type": "stream",
     "text": [
      "Epoch 5/100\n",
      "\u001b[1m813/813\u001b[0m \u001b[32m━━━━━━━━━━━━━━━━━━━━\u001b[0m\u001b[37m\u001b[0m \u001b[1m0s\u001b[0m 213ms/step - accuracy: 0.9203 - auc: 0.6732 - f1_score: 0.0331 - loss: 0.1713 - precision: 0.3242 - recall: 0.0193  "
     ]
    },
    {
     "name": "stderr",
     "output_type": "stream",
     "text": [
      "2025-06-15 12:23:02 - INFO - \n",
      "=== Epoch 5 Summary ===\n",
      "2025-06-15 12:23:02 - INFO - Time: 186.15s\n",
      "2025-06-15 12:23:02 - INFO - Training   - accuracy: 0.9205 - auc: 0.6802 - f1_score: 0.0367 - loss: 0.1567 - precision: 0.3362 - recall: 0.0219 - learning_rate: 0.0001\n",
      "2025-06-15 12:23:02 - INFO - Validation - accuracy: 0.9446 - auc: 0.6813 - f1_score: 0.0012 - loss: 0.1371 - precision: 0.7000 - recall: 0.0006\n",
      "2025-06-15 12:23:02 - INFO - ==================================================\n",
      "\n"
     ]
    },
    {
     "name": "stdout",
     "output_type": "stream",
     "text": [
      "\u001b[1m813/813\u001b[0m \u001b[32m━━━━━━━━━━━━━━━━━━━━\u001b[0m\u001b[37m\u001b[0m \u001b[1m186s\u001b[0m 229ms/step - accuracy: 0.9203 - auc: 0.6732 - f1_score: 0.0331 - loss: 0.1713 - precision: 0.3242 - recall: 0.0193 - val_accuracy: 0.9446 - val_auc: 0.6813 - val_f1_score: 0.0012 - val_loss: 0.1371 - val_precision: 0.7000 - val_recall: 5.8774e-04 - learning_rate: 1.0000e-04\n"
     ]
    },
    {
     "name": "stderr",
     "output_type": "stream",
     "text": [
      "2025-06-15 12:23:02 - INFO - \n",
      "=== Starting Epoch 6 ===\n",
      "\n"
     ]
    },
    {
     "name": "stdout",
     "output_type": "stream",
     "text": [
      "Epoch 6/100\n",
      "\u001b[1m813/813\u001b[0m \u001b[32m━━━━━━━━━━━━━━━━━━━━\u001b[0m\u001b[37m\u001b[0m \u001b[1m0s\u001b[0m 213ms/step - accuracy: 0.9203 - auc: 0.6910 - f1_score: 0.0446 - loss: 0.1232 - precision: 0.3672 - recall: 0.0276  "
     ]
    },
    {
     "name": "stderr",
     "output_type": "stream",
     "text": [
      "2025-06-15 12:26:04 - INFO - \n",
      "=== Epoch 6 Summary ===\n",
      "2025-06-15 12:26:04 - INFO - Time: 182.31s\n",
      "2025-06-15 12:26:04 - INFO - Training   - accuracy: 0.9208 - auc: 0.6955 - f1_score: 0.0490 - loss: 0.1155 - precision: 0.3834 - recall: 0.0306 - learning_rate: 0.0001\n",
      "2025-06-15 12:26:04 - INFO - Validation - accuracy: 0.9440 - auc: 0.7074 - f1_score: 0.0094 - loss: 0.1083 - precision: 0.2606 - recall: 0.0062\n",
      "2025-06-15 12:26:04 - INFO - ==================================================\n",
      "\n"
     ]
    },
    {
     "name": "stdout",
     "output_type": "stream",
     "text": [
      "\u001b[1m813/813\u001b[0m \u001b[32m━━━━━━━━━━━━━━━━━━━━\u001b[0m\u001b[37m\u001b[0m \u001b[1m182s\u001b[0m 224ms/step - accuracy: 0.9203 - auc: 0.6910 - f1_score: 0.0446 - loss: 0.1232 - precision: 0.3673 - recall: 0.0276 - val_accuracy: 0.9440 - val_auc: 0.7074 - val_f1_score: 0.0094 - val_loss: 0.1083 - val_precision: 0.2606 - val_recall: 0.0062 - learning_rate: 1.0000e-04\n"
     ]
    },
    {
     "name": "stderr",
     "output_type": "stream",
     "text": [
      "2025-06-15 12:26:04 - INFO - \n",
      "=== Starting Epoch 7 ===\n",
      "\n"
     ]
    },
    {
     "name": "stdout",
     "output_type": "stream",
     "text": [
      "Epoch 7/100\n",
      "\u001b[1m813/813\u001b[0m \u001b[32m━━━━━━━━━━━━━━━━━━━━\u001b[0m\u001b[37m\u001b[0m \u001b[1m0s\u001b[0m 227ms/step - accuracy: 0.9208 - auc: 0.7068 - f1_score: 0.0563 - loss: 0.0981 - precision: 0.4149 - recall: 0.0360  "
     ]
    },
    {
     "name": "stderr",
     "output_type": "stream",
     "text": [
      "2025-06-15 12:29:23 - INFO - \n",
      "=== Epoch 7 Summary ===\n",
      "2025-06-15 12:29:23 - INFO - Time: 198.86s\n",
      "2025-06-15 12:29:23 - INFO - Training   - accuracy: 0.9212 - auc: 0.7110 - f1_score: 0.0608 - loss: 0.0938 - precision: 0.4319 - recall: 0.0392 - learning_rate: 0.0001\n",
      "2025-06-15 12:29:23 - INFO - Validation - accuracy: 0.9423 - auc: 0.6949 - f1_score: 0.0444 - loss: 0.0949 - precision: 0.2868 - recall: 0.0276\n",
      "2025-06-15 12:29:23 - INFO - ==================================================\n",
      "\n"
     ]
    },
    {
     "name": "stdout",
     "output_type": "stream",
     "text": [
      "\u001b[1m813/813\u001b[0m \u001b[32m━━━━━━━━━━━━━━━━━━━━\u001b[0m\u001b[37m\u001b[0m \u001b[1m199s\u001b[0m 245ms/step - accuracy: 0.9208 - auc: 0.7068 - f1_score: 0.0563 - loss: 0.0981 - precision: 0.4150 - recall: 0.0360 - val_accuracy: 0.9423 - val_auc: 0.6949 - val_f1_score: 0.0444 - val_loss: 0.0949 - val_precision: 0.2868 - val_recall: 0.0276 - learning_rate: 1.0000e-04\n"
     ]
    },
    {
     "name": "stderr",
     "output_type": "stream",
     "text": [
      "2025-06-15 12:29:23 - INFO - \n",
      "=== Starting Epoch 8 ===\n",
      "\n"
     ]
    },
    {
     "name": "stdout",
     "output_type": "stream",
     "text": [
      "Epoch 8/100\n",
      "\u001b[1m813/813\u001b[0m \u001b[32m━━━━━━━━━━━━━━━━━━━━\u001b[0m\u001b[37m\u001b[0m \u001b[1m0s\u001b[0m 215ms/step - accuracy: 0.9212 - auc: 0.7171 - f1_score: 0.0655 - loss: 0.0846 - precision: 0.4541 - recall: 0.0431  "
     ]
    },
    {
     "name": "stderr",
     "output_type": "stream",
     "text": [
      "2025-06-15 12:32:32 - INFO - \n",
      "=== Epoch 8 Summary ===\n",
      "2025-06-15 12:32:32 - INFO - Time: 188.19s\n",
      "2025-06-15 12:32:32 - INFO - Training   - accuracy: 0.9216 - auc: 0.7214 - f1_score: 0.0659 - loss: 0.0819 - precision: 0.4590 - recall: 0.0436 - learning_rate: 0.0001\n",
      "2025-06-15 12:32:32 - INFO - Validation - accuracy: 0.9415 - auc: 0.7138 - f1_score: 0.0874 - loss: 0.0852 - precision: 0.3579 - recall: 0.0705\n",
      "2025-06-15 12:32:32 - INFO - ==================================================\n",
      "\n"
     ]
    },
    {
     "name": "stdout",
     "output_type": "stream",
     "text": [
      "\u001b[1m813/813\u001b[0m \u001b[32m━━━━━━━━━━━━━━━━━━━━\u001b[0m\u001b[37m\u001b[0m \u001b[1m188s\u001b[0m 232ms/step - accuracy: 0.9212 - auc: 0.7171 - f1_score: 0.0655 - loss: 0.0846 - precision: 0.4541 - recall: 0.0431 - val_accuracy: 0.9415 - val_auc: 0.7138 - val_f1_score: 0.0874 - val_loss: 0.0852 - val_precision: 0.3579 - val_recall: 0.0705 - learning_rate: 1.0000e-04\n"
     ]
    },
    {
     "name": "stderr",
     "output_type": "stream",
     "text": [
      "2025-06-15 12:32:32 - INFO - \n",
      "=== Starting Epoch 9 ===\n",
      "\n"
     ]
    },
    {
     "name": "stdout",
     "output_type": "stream",
     "text": [
      "Epoch 9/100\n",
      "\u001b[1m813/813\u001b[0m \u001b[32m━━━━━━━━━━━━━━━━━━━━\u001b[0m\u001b[37m\u001b[0m \u001b[1m0s\u001b[0m 215ms/step - accuracy: 0.9210 - auc: 0.7283 - f1_score: 0.0704 - loss: 0.0764 - precision: 0.4615 - recall: 0.0474  "
     ]
    },
    {
     "name": "stderr",
     "output_type": "stream",
     "text": [
      "2025-06-15 12:35:41 - INFO - \n",
      "=== Epoch 9 Summary ===\n",
      "2025-06-15 12:35:41 - INFO - Time: 189.05s\n",
      "2025-06-15 12:35:41 - INFO - Training   - accuracy: 0.9217 - auc: 0.7324 - f1_score: 0.0758 - loss: 0.0745 - precision: 0.4704 - recall: 0.0511 - learning_rate: 0.0001\n",
      "2025-06-15 12:35:41 - INFO - Validation - accuracy: 0.9439 - auc: 0.7377 - f1_score: 0.0174 - loss: 0.0747 - precision: 0.3208 - recall: 0.0107\n",
      "2025-06-15 12:35:41 - INFO - ==================================================\n",
      "\n"
     ]
    },
    {
     "name": "stdout",
     "output_type": "stream",
     "text": [
      "\u001b[1m813/813\u001b[0m \u001b[32m━━━━━━━━━━━━━━━━━━━━\u001b[0m\u001b[37m\u001b[0m \u001b[1m189s\u001b[0m 233ms/step - accuracy: 0.9210 - auc: 0.7283 - f1_score: 0.0704 - loss: 0.0764 - precision: 0.4615 - recall: 0.0474 - val_accuracy: 0.9439 - val_auc: 0.7377 - val_f1_score: 0.0174 - val_loss: 0.0747 - val_precision: 0.3208 - val_recall: 0.0107 - learning_rate: 1.0000e-04\n"
     ]
    },
    {
     "name": "stderr",
     "output_type": "stream",
     "text": [
      "2025-06-15 12:35:41 - INFO - \n",
      "=== Starting Epoch 10 ===\n",
      "\n"
     ]
    },
    {
     "name": "stdout",
     "output_type": "stream",
     "text": [
      "Epoch 10/100\n",
      "\u001b[1m813/813\u001b[0m \u001b[32m━━━━━━━━━━━━━━━━━━━━\u001b[0m\u001b[37m\u001b[0m \u001b[1m0s\u001b[0m 215ms/step - accuracy: 0.9215 - auc: 0.7338 - f1_score: 0.0764 - loss: 0.0712 - precision: 0.4753 - recall: 0.0515  "
     ]
    },
    {
     "name": "stderr",
     "output_type": "stream",
     "text": [
      "2025-06-15 12:38:48 - INFO - \n",
      "=== Epoch 10 Summary ===\n",
      "2025-06-15 12:38:48 - INFO - Time: 187.50s\n",
      "2025-06-15 12:38:48 - INFO - Training   - accuracy: 0.9219 - auc: 0.7396 - f1_score: 0.0825 - loss: 0.0699 - precision: 0.4814 - recall: 0.0559 - learning_rate: 0.0001\n",
      "2025-06-15 12:38:48 - INFO - Validation - accuracy: 0.9434 - auc: 0.7270 - f1_score: 0.0458 - loss: 0.0756 - precision: 0.3545 - recall: 0.0267\n",
      "2025-06-15 12:38:48 - INFO - ==================================================\n",
      "\n"
     ]
    },
    {
     "name": "stdout",
     "output_type": "stream",
     "text": [
      "\u001b[1m813/813\u001b[0m \u001b[32m━━━━━━━━━━━━━━━━━━━━\u001b[0m\u001b[37m\u001b[0m \u001b[1m188s\u001b[0m 231ms/step - accuracy: 0.9215 - auc: 0.7339 - f1_score: 0.0764 - loss: 0.0712 - precision: 0.4753 - recall: 0.0515 - val_accuracy: 0.9434 - val_auc: 0.7270 - val_f1_score: 0.0458 - val_loss: 0.0756 - val_precision: 0.3545 - val_recall: 0.0267 - learning_rate: 1.0000e-04\n"
     ]
    },
    {
     "name": "stderr",
     "output_type": "stream",
     "text": [
      "2025-06-15 12:38:48 - INFO - \n",
      "=== Starting Epoch 11 ===\n",
      "\n"
     ]
    },
    {
     "name": "stdout",
     "output_type": "stream",
     "text": [
      "Epoch 11/100\n",
      "\u001b[1m813/813\u001b[0m \u001b[32m━━━━━━━━━━━━━━━━━━━━\u001b[0m\u001b[37m\u001b[0m \u001b[1m0s\u001b[0m 214ms/step - accuracy: 0.9216 - auc: 0.7425 - f1_score: 0.0876 - loss: 0.0675 - precision: 0.4835 - recall: 0.0598  \n",
      "Epoch 11: ReduceLROnPlateau reducing learning rate to 4.999999873689376e-05.\n"
     ]
    },
    {
     "name": "stderr",
     "output_type": "stream",
     "text": [
      "2025-06-15 12:41:55 - INFO - \n",
      "=== Epoch 11 Summary ===\n",
      "2025-06-15 12:41:55 - INFO - Time: 186.47s\n",
      "2025-06-15 12:41:55 - INFO - Training   - accuracy: 0.9219 - auc: 0.7468 - f1_score: 0.0907 - loss: 0.0664 - precision: 0.4881 - recall: 0.0624 - learning_rate: 0.0001\n",
      "2025-06-15 12:41:55 - INFO - Validation - accuracy: 0.9444 - auc: 0.7278 - f1_score: 0.0242 - loss: 0.0688 - precision: 0.4486 - recall: 0.0132\n",
      "2025-06-15 12:41:55 - INFO - ==================================================\n",
      "\n"
     ]
    },
    {
     "name": "stdout",
     "output_type": "stream",
     "text": [
      "\u001b[1m813/813\u001b[0m \u001b[32m━━━━━━━━━━━━━━━━━━━━\u001b[0m\u001b[37m\u001b[0m \u001b[1m186s\u001b[0m 229ms/step - accuracy: 0.9216 - auc: 0.7425 - f1_score: 0.0876 - loss: 0.0675 - precision: 0.4835 - recall: 0.0598 - val_accuracy: 0.9444 - val_auc: 0.7278 - val_f1_score: 0.0242 - val_loss: 0.0688 - val_precision: 0.4486 - val_recall: 0.0132 - learning_rate: 1.0000e-04\n"
     ]
    },
    {
     "name": "stderr",
     "output_type": "stream",
     "text": [
      "2025-06-15 12:41:55 - INFO - \n",
      "=== Starting Epoch 12 ===\n",
      "\n"
     ]
    },
    {
     "name": "stdout",
     "output_type": "stream",
     "text": [
      "Epoch 12/100\n",
      "\u001b[1m813/813\u001b[0m \u001b[32m━━━━━━━━━━━━━━━━━━━━\u001b[0m\u001b[37m\u001b[0m \u001b[1m0s\u001b[0m 223ms/step - accuracy: 0.9219 - auc: 0.7615 - f1_score: 0.1030 - loss: 0.0643 - precision: 0.4984 - recall: 0.0722  "
     ]
    },
    {
     "name": "stderr",
     "output_type": "stream",
     "text": [
      "2025-06-15 12:45:10 - INFO - \n",
      "=== Epoch 12 Summary ===\n",
      "2025-06-15 12:45:10 - INFO - Time: 195.45s\n",
      "2025-06-15 12:45:10 - INFO - Training   - accuracy: 0.9223 - auc: 0.7671 - f1_score: 0.1112 - loss: 0.0629 - precision: 0.5042 - recall: 0.0780 - learning_rate: 0.0000\n",
      "2025-06-15 12:45:10 - INFO - Validation - accuracy: 0.9413 - auc: 0.7420 - f1_score: 0.0889 - loss: 0.0658 - precision: 0.3409 - recall: 0.0647\n",
      "2025-06-15 12:45:10 - INFO - ==================================================\n",
      "\n"
     ]
    },
    {
     "name": "stdout",
     "output_type": "stream",
     "text": [
      "\u001b[1m813/813\u001b[0m \u001b[32m━━━━━━━━━━━━━━━━━━━━\u001b[0m\u001b[37m\u001b[0m \u001b[1m196s\u001b[0m 241ms/step - accuracy: 0.9219 - auc: 0.7615 - f1_score: 0.1031 - loss: 0.0643 - precision: 0.4985 - recall: 0.0722 - val_accuracy: 0.9413 - val_auc: 0.7420 - val_f1_score: 0.0889 - val_loss: 0.0658 - val_precision: 0.3409 - val_recall: 0.0647 - learning_rate: 5.0000e-05\n"
     ]
    },
    {
     "name": "stderr",
     "output_type": "stream",
     "text": [
      "2025-06-15 12:45:10 - INFO - \n",
      "=== Starting Epoch 13 ===\n",
      "\n"
     ]
    },
    {
     "name": "stdout",
     "output_type": "stream",
     "text": [
      "Epoch 13/100\n",
      "\u001b[1m813/813\u001b[0m \u001b[32m━━━━━━━━━━━━━━━━━━━━\u001b[0m\u001b[37m\u001b[0m \u001b[1m0s\u001b[0m 212ms/step - accuracy: 0.9222 - auc: 0.7705 - f1_score: 0.1189 - loss: 0.0620 - precision: 0.5118 - recall: 0.0834  "
     ]
    },
    {
     "name": "stderr",
     "output_type": "stream",
     "text": [
      "2025-06-15 12:48:20 - INFO - \n",
      "=== Epoch 13 Summary ===\n",
      "2025-06-15 12:48:20 - INFO - Time: 189.92s\n",
      "2025-06-15 12:48:20 - INFO - Training   - accuracy: 0.9225 - auc: 0.7740 - f1_score: 0.1222 - loss: 0.0611 - precision: 0.5135 - recall: 0.0861 - learning_rate: 0.0000\n",
      "2025-06-15 12:48:20 - INFO - Validation - accuracy: 0.9321 - auc: 0.7450 - f1_score: 0.0901 - loss: 0.0698 - precision: 0.2288 - recall: 0.0954\n",
      "2025-06-15 12:48:20 - INFO - ==================================================\n",
      "\n"
     ]
    },
    {
     "name": "stdout",
     "output_type": "stream",
     "text": [
      "\u001b[1m813/813\u001b[0m \u001b[32m━━━━━━━━━━━━━━━━━━━━\u001b[0m\u001b[37m\u001b[0m \u001b[1m190s\u001b[0m 234ms/step - accuracy: 0.9222 - auc: 0.7705 - f1_score: 0.1189 - loss: 0.0620 - precision: 0.5118 - recall: 0.0834 - val_accuracy: 0.9321 - val_auc: 0.7450 - val_f1_score: 0.0901 - val_loss: 0.0698 - val_precision: 0.2288 - val_recall: 0.0954 - learning_rate: 5.0000e-05\n"
     ]
    },
    {
     "name": "stderr",
     "output_type": "stream",
     "text": [
      "2025-06-15 12:48:20 - INFO - \n",
      "=== Starting Epoch 14 ===\n",
      "\n"
     ]
    },
    {
     "name": "stdout",
     "output_type": "stream",
     "text": [
      "Epoch 14/100\n",
      "\u001b[1m813/813\u001b[0m \u001b[32m━━━━━━━━━━━━━━━━━━━━\u001b[0m\u001b[37m\u001b[0m \u001b[1m0s\u001b[0m 215ms/step - accuracy: 0.9221 - auc: 0.7778 - f1_score: 0.1317 - loss: 0.0603 - precision: 0.5103 - recall: 0.0938  "
     ]
    },
    {
     "name": "stderr",
     "output_type": "stream",
     "text": [
      "2025-06-15 12:51:32 - INFO - \n",
      "=== Epoch 14 Summary ===\n",
      "2025-06-15 12:51:32 - INFO - Time: 191.48s\n",
      "2025-06-15 12:51:32 - INFO - Training   - accuracy: 0.9227 - auc: 0.7811 - f1_score: 0.1371 - loss: 0.0597 - precision: 0.5175 - recall: 0.0974 - learning_rate: 0.0000\n",
      "2025-06-15 12:51:32 - INFO - Validation - accuracy: 0.9399 - auc: 0.7544 - f1_score: 0.1486 - loss: 0.0642 - precision: 0.3846 - recall: 0.1428\n",
      "2025-06-15 12:51:32 - INFO - ==================================================\n",
      "\n"
     ]
    },
    {
     "name": "stdout",
     "output_type": "stream",
     "text": [
      "\u001b[1m813/813\u001b[0m \u001b[32m━━━━━━━━━━━━━━━━━━━━\u001b[0m\u001b[37m\u001b[0m \u001b[1m192s\u001b[0m 236ms/step - accuracy: 0.9221 - auc: 0.7778 - f1_score: 0.1317 - loss: 0.0603 - precision: 0.5103 - recall: 0.0938 - val_accuracy: 0.9399 - val_auc: 0.7544 - val_f1_score: 0.1486 - val_loss: 0.0642 - val_precision: 0.3846 - val_recall: 0.1428 - learning_rate: 5.0000e-05\n"
     ]
    },
    {
     "name": "stderr",
     "output_type": "stream",
     "text": [
      "2025-06-15 12:51:32 - INFO - \n",
      "=== Starting Epoch 15 ===\n",
      "\n"
     ]
    },
    {
     "name": "stdout",
     "output_type": "stream",
     "text": [
      "Epoch 15/100\n",
      "\u001b[1m813/813\u001b[0m \u001b[32m━━━━━━━━━━━━━━━━━━━━\u001b[0m\u001b[37m\u001b[0m \u001b[1m0s\u001b[0m 213ms/step - accuracy: 0.9225 - auc: 0.7839 - f1_score: 0.1439 - loss: 0.0591 - precision: 0.5182 - recall: 0.1030  "
     ]
    },
    {
     "name": "stderr",
     "output_type": "stream",
     "text": [
      "2025-06-15 12:54:43 - INFO - \n",
      "=== Epoch 15 Summary ===\n",
      "2025-06-15 12:54:43 - INFO - Time: 191.15s\n",
      "2025-06-15 12:54:43 - INFO - Training   - accuracy: 0.9229 - auc: 0.7877 - f1_score: 0.1486 - loss: 0.0585 - precision: 0.5225 - recall: 0.1065 - learning_rate: 0.0000\n",
      "2025-06-15 12:54:43 - INFO - Validation - accuracy: 0.9415 - auc: 0.7602 - f1_score: 0.1088 - loss: 0.0634 - precision: 0.3898 - recall: 0.1007\n",
      "2025-06-15 12:54:43 - INFO - ==================================================\n",
      "\n"
     ]
    },
    {
     "name": "stdout",
     "output_type": "stream",
     "text": [
      "\u001b[1m813/813\u001b[0m \u001b[32m━━━━━━━━━━━━━━━━━━━━\u001b[0m\u001b[37m\u001b[0m \u001b[1m191s\u001b[0m 235ms/step - accuracy: 0.9225 - auc: 0.7839 - f1_score: 0.1439 - loss: 0.0591 - precision: 0.5182 - recall: 0.1030 - val_accuracy: 0.9415 - val_auc: 0.7602 - val_f1_score: 0.1088 - val_loss: 0.0634 - val_precision: 0.3898 - val_recall: 0.1007 - learning_rate: 5.0000e-05\n"
     ]
    },
    {
     "name": "stderr",
     "output_type": "stream",
     "text": [
      "2025-06-15 12:54:43 - INFO - \n",
      "=== Starting Epoch 16 ===\n",
      "\n"
     ]
    },
    {
     "name": "stdout",
     "output_type": "stream",
     "text": [
      "Epoch 16/100\n",
      "\u001b[1m813/813\u001b[0m \u001b[32m━━━━━━━━━━━━━━━━━━━━\u001b[0m\u001b[37m\u001b[0m \u001b[1m0s\u001b[0m 212ms/step - accuracy: 0.9225 - auc: 0.7886 - f1_score: 0.1505 - loss: 0.0581 - precision: 0.5186 - recall: 0.1084  "
     ]
    },
    {
     "name": "stderr",
     "output_type": "stream",
     "text": [
      "2025-06-15 12:57:52 - INFO - \n",
      "=== Epoch 16 Summary ===\n",
      "2025-06-15 12:57:52 - INFO - Time: 189.21s\n",
      "2025-06-15 12:57:52 - INFO - Training   - accuracy: 0.9229 - auc: 0.7939 - f1_score: 0.1574 - loss: 0.0574 - precision: 0.5222 - recall: 0.1139 - learning_rate: 0.0000\n",
      "2025-06-15 12:57:52 - INFO - Validation - accuracy: 0.9288 - auc: 0.7538 - f1_score: 0.1012 - loss: 0.0680 - precision: 0.1887 - recall: 0.0866\n",
      "2025-06-15 12:57:52 - INFO - ==================================================\n",
      "\n"
     ]
    },
    {
     "name": "stdout",
     "output_type": "stream",
     "text": [
      "\u001b[1m813/813\u001b[0m \u001b[32m━━━━━━━━━━━━━━━━━━━━\u001b[0m\u001b[37m\u001b[0m \u001b[1m189s\u001b[0m 233ms/step - accuracy: 0.9225 - auc: 0.7886 - f1_score: 0.1505 - loss: 0.0581 - precision: 0.5186 - recall: 0.1084 - val_accuracy: 0.9288 - val_auc: 0.7538 - val_f1_score: 0.1012 - val_loss: 0.0680 - val_precision: 0.1887 - val_recall: 0.0866 - learning_rate: 5.0000e-05\n"
     ]
    },
    {
     "name": "stderr",
     "output_type": "stream",
     "text": [
      "2025-06-15 12:57:52 - INFO - \n",
      "=== Starting Epoch 17 ===\n",
      "\n"
     ]
    },
    {
     "name": "stdout",
     "output_type": "stream",
     "text": [
      "Epoch 17/100\n",
      "\u001b[1m813/813\u001b[0m \u001b[32m━━━━━━━━━━━━━━━━━━━━\u001b[0m\u001b[37m\u001b[0m \u001b[1m0s\u001b[0m 212ms/step - accuracy: 0.9227 - auc: 0.7951 - f1_score: 0.1643 - loss: 0.0569 - precision: 0.5204 - recall: 0.1206  \n",
      "Epoch 17: ReduceLROnPlateau reducing learning rate to 2.499999936844688e-05.\n"
     ]
    },
    {
     "name": "stderr",
     "output_type": "stream",
     "text": [
      "2025-06-15 13:01:00 - INFO - \n",
      "=== Epoch 17 Summary ===\n",
      "2025-06-15 13:01:00 - INFO - Time: 187.88s\n",
      "2025-06-15 13:01:00 - INFO - Training   - accuracy: 0.9231 - auc: 0.7987 - f1_score: 0.1671 - loss: 0.0562 - precision: 0.5235 - recall: 0.1229 - learning_rate: 0.0000\n",
      "2025-06-15 13:01:00 - INFO - Validation - accuracy: 0.9407 - auc: 0.7632 - f1_score: 0.1049 - loss: 0.0626 - precision: 0.3503 - recall: 0.0821\n",
      "2025-06-15 13:01:00 - INFO - ==================================================\n",
      "\n"
     ]
    },
    {
     "name": "stdout",
     "output_type": "stream",
     "text": [
      "\u001b[1m813/813\u001b[0m \u001b[32m━━━━━━━━━━━━━━━━━━━━\u001b[0m\u001b[37m\u001b[0m \u001b[1m188s\u001b[0m 231ms/step - accuracy: 0.9227 - auc: 0.7951 - f1_score: 0.1643 - loss: 0.0569 - precision: 0.5204 - recall: 0.1206 - val_accuracy: 0.9407 - val_auc: 0.7632 - val_f1_score: 0.1049 - val_loss: 0.0626 - val_precision: 0.3503 - val_recall: 0.0821 - learning_rate: 5.0000e-05\n"
     ]
    },
    {
     "name": "stderr",
     "output_type": "stream",
     "text": [
      "2025-06-15 13:01:00 - INFO - \n",
      "=== Starting Epoch 18 ===\n",
      "\n"
     ]
    },
    {
     "name": "stdout",
     "output_type": "stream",
     "text": [
      "Epoch 18/100\n",
      "\u001b[1m813/813\u001b[0m \u001b[32m━━━━━━━━━━━━━━━━━━━━\u001b[0m\u001b[37m\u001b[0m \u001b[1m0s\u001b[0m 220ms/step - accuracy: 0.9229 - auc: 0.8089 - f1_score: 0.1831 - loss: 0.0549 - precision: 0.5374 - recall: 0.1356  "
     ]
    },
    {
     "name": "stderr",
     "output_type": "stream",
     "text": [
      "2025-06-15 13:04:14 - INFO - \n",
      "=== Epoch 18 Summary ===\n",
      "2025-06-15 13:04:14 - INFO - Time: 194.05s\n",
      "2025-06-15 13:04:14 - INFO - Training   - accuracy: 0.9238 - auc: 0.8149 - f1_score: 0.1921 - loss: 0.0539 - precision: 0.5408 - recall: 0.1439 - learning_rate: 0.0000\n",
      "2025-06-15 13:04:14 - INFO - Validation - accuracy: 0.9393 - auc: 0.7672 - f1_score: 0.1475 - loss: 0.0612 - precision: 0.3524 - recall: 0.1135\n",
      "2025-06-15 13:04:14 - INFO - ==================================================\n",
      "\n"
     ]
    },
    {
     "name": "stdout",
     "output_type": "stream",
     "text": [
      "\u001b[1m813/813\u001b[0m \u001b[32m━━━━━━━━━━━━━━━━━━━━\u001b[0m\u001b[37m\u001b[0m \u001b[1m194s\u001b[0m 239ms/step - accuracy: 0.9229 - auc: 0.8089 - f1_score: 0.1831 - loss: 0.0549 - precision: 0.5374 - recall: 0.1356 - val_accuracy: 0.9393 - val_auc: 0.7672 - val_f1_score: 0.1475 - val_loss: 0.0612 - val_precision: 0.3524 - val_recall: 0.1135 - learning_rate: 2.5000e-05\n"
     ]
    },
    {
     "name": "stderr",
     "output_type": "stream",
     "text": [
      "2025-06-15 13:04:14 - INFO - \n",
      "=== Starting Epoch 19 ===\n",
      "\n"
     ]
    },
    {
     "name": "stdout",
     "output_type": "stream",
     "text": [
      "Epoch 19/100\n",
      "\u001b[1m813/813\u001b[0m \u001b[32m━━━━━━━━━━━━━━━━━━━━\u001b[0m\u001b[37m\u001b[0m \u001b[1m0s\u001b[0m 214ms/step - accuracy: 0.9240 - auc: 0.8192 - f1_score: 0.2074 - loss: 0.0531 - precision: 0.5459 - recall: 0.1587  "
     ]
    },
    {
     "name": "stderr",
     "output_type": "stream",
     "text": [
      "2025-06-15 13:07:32 - INFO - \n",
      "=== Epoch 19 Summary ===\n",
      "2025-06-15 13:07:32 - INFO - Time: 197.58s\n",
      "2025-06-15 13:07:32 - INFO - Training   - accuracy: 0.9245 - auc: 0.8234 - f1_score: 0.2135 - loss: 0.0524 - precision: 0.5520 - recall: 0.1635 - learning_rate: 0.0000\n",
      "2025-06-15 13:07:32 - INFO - Validation - accuracy: 0.9406 - auc: 0.7616 - f1_score: 0.1388 - loss: 0.0616 - precision: 0.3877 - recall: 0.1239\n",
      "2025-06-15 13:07:32 - INFO - ==================================================\n",
      "\n"
     ]
    },
    {
     "name": "stdout",
     "output_type": "stream",
     "text": [
      "\u001b[1m813/813\u001b[0m \u001b[32m━━━━━━━━━━━━━━━━━━━━\u001b[0m\u001b[37m\u001b[0m \u001b[1m198s\u001b[0m 243ms/step - accuracy: 0.9240 - auc: 0.8192 - f1_score: 0.2074 - loss: 0.0531 - precision: 0.5459 - recall: 0.1587 - val_accuracy: 0.9406 - val_auc: 0.7616 - val_f1_score: 0.1388 - val_loss: 0.0616 - val_precision: 0.3877 - val_recall: 0.1239 - learning_rate: 2.5000e-05\n"
     ]
    },
    {
     "name": "stderr",
     "output_type": "stream",
     "text": [
      "2025-06-15 13:07:32 - INFO - \n",
      "=== Starting Epoch 20 ===\n",
      "\n"
     ]
    },
    {
     "name": "stdout",
     "output_type": "stream",
     "text": [
      "Epoch 20/100\n",
      "\u001b[1m813/813\u001b[0m \u001b[32m━━━━━━━━━━━━━━━━━━━━\u001b[0m\u001b[37m\u001b[0m \u001b[1m0s\u001b[0m 212ms/step - accuracy: 0.9243 - auc: 0.8266 - f1_score: 0.2207 - loss: 0.0519 - precision: 0.5467 - recall: 0.1710  \n",
      "Epoch 20: ReduceLROnPlateau reducing learning rate to 1.249999968422344e-05.\n"
     ]
    },
    {
     "name": "stderr",
     "output_type": "stream",
     "text": [
      "2025-06-15 13:10:42 - INFO - \n",
      "=== Epoch 20 Summary ===\n",
      "2025-06-15 13:10:42 - INFO - Time: 190.80s\n",
      "2025-06-15 13:10:42 - INFO - Training   - accuracy: 0.9250 - auc: 0.8306 - f1_score: 0.2277 - loss: 0.0512 - precision: 0.5568 - recall: 0.1765 - learning_rate: 0.0000\n",
      "2025-06-15 13:10:42 - INFO - Validation - accuracy: 0.9382 - auc: 0.7716 - f1_score: 0.1379 - loss: 0.0625 - precision: 0.3313 - recall: 0.1134\n",
      "2025-06-15 13:10:42 - INFO - ==================================================\n",
      "\n"
     ]
    },
    {
     "name": "stdout",
     "output_type": "stream",
     "text": [
      "\u001b[1m813/813\u001b[0m \u001b[32m━━━━━━━━━━━━━━━━━━━━\u001b[0m\u001b[37m\u001b[0m \u001b[1m191s\u001b[0m 235ms/step - accuracy: 0.9243 - auc: 0.8266 - f1_score: 0.2207 - loss: 0.0519 - precision: 0.5467 - recall: 0.1710 - val_accuracy: 0.9382 - val_auc: 0.7716 - val_f1_score: 0.1379 - val_loss: 0.0625 - val_precision: 0.3313 - val_recall: 0.1134 - learning_rate: 2.5000e-05\n"
     ]
    },
    {
     "name": "stderr",
     "output_type": "stream",
     "text": [
      "2025-06-15 13:10:43 - INFO - \n",
      "=== Starting Epoch 21 ===\n",
      "\n"
     ]
    },
    {
     "name": "stdout",
     "output_type": "stream",
     "text": [
      "Epoch 21/100\n",
      "\u001b[1m813/813\u001b[0m \u001b[32m━━━━━━━━━━━━━━━━━━━━\u001b[0m\u001b[37m\u001b[0m \u001b[1m0s\u001b[0m 213ms/step - accuracy: 0.9256 - auc: 0.8375 - f1_score: 0.2447 - loss: 0.0500 - precision: 0.5743 - recall: 0.1910  "
     ]
    },
    {
     "name": "stderr",
     "output_type": "stream",
     "text": [
      "2025-06-15 13:13:53 - INFO - \n",
      "=== Epoch 21 Summary ===\n",
      "2025-06-15 13:13:53 - INFO - Time: 190.39s\n",
      "2025-06-15 13:13:53 - INFO - Training   - accuracy: 0.9267 - auc: 0.8442 - f1_score: 0.2539 - loss: 0.0490 - precision: 0.5842 - recall: 0.1989 - learning_rate: 0.0000\n",
      "2025-06-15 13:13:53 - INFO - Validation - accuracy: 0.9384 - auc: 0.7682 - f1_score: 0.1626 - loss: 0.0614 - precision: 0.3549 - recall: 0.1370\n",
      "2025-06-15 13:13:53 - INFO - ==================================================\n",
      "\n"
     ]
    },
    {
     "name": "stdout",
     "output_type": "stream",
     "text": [
      "\u001b[1m813/813\u001b[0m \u001b[32m━━━━━━━━━━━━━━━━━━━━\u001b[0m\u001b[37m\u001b[0m \u001b[1m191s\u001b[0m 234ms/step - accuracy: 0.9256 - auc: 0.8375 - f1_score: 0.2447 - loss: 0.0500 - precision: 0.5743 - recall: 0.1910 - val_accuracy: 0.9384 - val_auc: 0.7682 - val_f1_score: 0.1626 - val_loss: 0.0614 - val_precision: 0.3549 - val_recall: 0.1370 - learning_rate: 1.2500e-05\n"
     ]
    },
    {
     "name": "stderr",
     "output_type": "stream",
     "text": [
      "2025-06-15 13:13:53 - INFO - \n",
      "=== Starting Epoch 22 ===\n",
      "\n"
     ]
    },
    {
     "name": "stdout",
     "output_type": "stream",
     "text": [
      "Epoch 22/100\n",
      "\u001b[1m813/813\u001b[0m \u001b[32m━━━━━━━━━━━━━━━━━━━━\u001b[0m\u001b[37m\u001b[0m \u001b[1m0s\u001b[0m 215ms/step - accuracy: 0.9264 - auc: 0.8474 - f1_score: 0.2631 - loss: 0.0485 - precision: 0.5804 - recall: 0.2077  "
     ]
    },
    {
     "name": "stderr",
     "output_type": "stream",
     "text": [
      "2025-06-15 13:17:05 - INFO - \n",
      "=== Epoch 22 Summary ===\n",
      "2025-06-15 13:17:05 - INFO - Time: 191.85s\n",
      "2025-06-15 13:17:05 - INFO - Training   - accuracy: 0.9274 - auc: 0.8522 - f1_score: 0.2737 - loss: 0.0478 - precision: 0.5928 - recall: 0.2167 - learning_rate: 0.0000\n",
      "2025-06-15 13:17:05 - INFO - Validation - accuracy: 0.9367 - auc: 0.7654 - f1_score: 0.1710 - loss: 0.0631 - precision: 0.3339 - recall: 0.1440\n",
      "2025-06-15 13:17:05 - INFO - ==================================================\n",
      "\n"
     ]
    },
    {
     "name": "stdout",
     "output_type": "stream",
     "text": [
      "\u001b[1m813/813\u001b[0m \u001b[32m━━━━━━━━━━━━━━━━━━━━\u001b[0m\u001b[37m\u001b[0m \u001b[1m192s\u001b[0m 236ms/step - accuracy: 0.9264 - auc: 0.8474 - f1_score: 0.2631 - loss: 0.0485 - precision: 0.5804 - recall: 0.2078 - val_accuracy: 0.9367 - val_auc: 0.7654 - val_f1_score: 0.1710 - val_loss: 0.0631 - val_precision: 0.3339 - val_recall: 0.1440 - learning_rate: 1.2500e-05\n"
     ]
    },
    {
     "name": "stderr",
     "output_type": "stream",
     "text": [
      "2025-06-15 13:17:05 - INFO - \n",
      "=== Starting Epoch 23 ===\n",
      "\n"
     ]
    },
    {
     "name": "stdout",
     "output_type": "stream",
     "text": [
      "Epoch 23/100\n",
      "\u001b[1m813/813\u001b[0m \u001b[32m━━━━━━━━━━━━━━━━━━━━\u001b[0m\u001b[37m\u001b[0m \u001b[1m0s\u001b[0m 214ms/step - accuracy: 0.9280 - auc: 0.8551 - f1_score: 0.2885 - loss: 0.0471 - precision: 0.6019 - recall: 0.2295  "
     ]
    },
    {
     "name": "stderr",
     "output_type": "stream",
     "text": [
      "2025-06-15 13:20:14 - INFO - \n",
      "=== Epoch 23 Summary ===\n",
      "2025-06-15 13:20:14 - INFO - Time: 188.91s\n",
      "2025-06-15 13:20:14 - INFO - Training   - accuracy: 0.9286 - auc: 0.8587 - f1_score: 0.2938 - loss: 0.0465 - precision: 0.6071 - recall: 0.2339 - learning_rate: 0.0000\n",
      "2025-06-15 13:20:14 - INFO - Validation - accuracy: 0.9408 - auc: 0.7693 - f1_score: 0.1466 - loss: 0.0607 - precision: 0.3870 - recall: 0.1176\n",
      "2025-06-15 13:20:14 - INFO - ==================================================\n",
      "\n"
     ]
    },
    {
     "name": "stdout",
     "output_type": "stream",
     "text": [
      "\u001b[1m813/813\u001b[0m \u001b[32m━━━━━━━━━━━━━━━━━━━━\u001b[0m\u001b[37m\u001b[0m \u001b[1m189s\u001b[0m 232ms/step - accuracy: 0.9280 - auc: 0.8551 - f1_score: 0.2885 - loss: 0.0471 - precision: 0.6019 - recall: 0.2295 - val_accuracy: 0.9408 - val_auc: 0.7693 - val_f1_score: 0.1466 - val_loss: 0.0607 - val_precision: 0.3870 - val_recall: 0.1176 - learning_rate: 1.2500e-05\n"
     ]
    },
    {
     "name": "stderr",
     "output_type": "stream",
     "text": [
      "2025-06-15 13:20:14 - INFO - \n",
      "=== Starting Epoch 24 ===\n",
      "\n"
     ]
    },
    {
     "name": "stdout",
     "output_type": "stream",
     "text": [
      "Epoch 24/100\n",
      "\u001b[1m813/813\u001b[0m \u001b[32m━━━━━━━━━━━━━━━━━━━━\u001b[0m\u001b[37m\u001b[0m \u001b[1m0s\u001b[0m 213ms/step - accuracy: 0.9288 - auc: 0.8622 - f1_score: 0.3032 - loss: 0.0460 - precision: 0.6113 - recall: 0.2403  "
     ]
    },
    {
     "name": "stderr",
     "output_type": "stream",
     "text": [
      "2025-06-15 13:23:22 - INFO - \n",
      "=== Epoch 24 Summary ===\n",
      "2025-06-15 13:23:22 - INFO - Time: 188.47s\n",
      "2025-06-15 13:23:22 - INFO - Training   - accuracy: 0.9292 - auc: 0.8651 - f1_score: 0.3092 - loss: 0.0456 - precision: 0.6132 - recall: 0.2457 - learning_rate: 0.0000\n",
      "2025-06-15 13:23:22 - INFO - Validation - accuracy: 0.9389 - auc: 0.7664 - f1_score: 0.1559 - loss: 0.0634 - precision: 0.3503 - recall: 0.1210\n",
      "2025-06-15 13:23:22 - INFO - ==================================================\n",
      "\n"
     ]
    },
    {
     "name": "stdout",
     "output_type": "stream",
     "text": [
      "\u001b[1m813/813\u001b[0m \u001b[32m━━━━━━━━━━━━━━━━━━━━\u001b[0m\u001b[37m\u001b[0m \u001b[1m188s\u001b[0m 232ms/step - accuracy: 0.9288 - auc: 0.8622 - f1_score: 0.3032 - loss: 0.0460 - precision: 0.6113 - recall: 0.2403 - val_accuracy: 0.9389 - val_auc: 0.7664 - val_f1_score: 0.1559 - val_loss: 0.0634 - val_precision: 0.3503 - val_recall: 0.1210 - learning_rate: 1.2500e-05\n"
     ]
    },
    {
     "name": "stderr",
     "output_type": "stream",
     "text": [
      "2025-06-15 13:23:22 - INFO - \n",
      "=== Starting Epoch 25 ===\n",
      "\n"
     ]
    },
    {
     "name": "stdout",
     "output_type": "stream",
     "text": [
      "Epoch 25/100\n",
      "\u001b[1m813/813\u001b[0m \u001b[32m━━━━━━━━━━━━━━━━━━━━\u001b[0m\u001b[37m\u001b[0m \u001b[1m0s\u001b[0m 213ms/step - accuracy: 0.9294 - auc: 0.8689 - f1_score: 0.3168 - loss: 0.0450 - precision: 0.6136 - recall: 0.2528  \n",
      "Epoch 25: ReduceLROnPlateau reducing learning rate to 6.24999984211172e-06.\n"
     ]
    },
    {
     "name": "stderr",
     "output_type": "stream",
     "text": [
      "2025-06-15 13:26:30 - INFO - \n",
      "=== Epoch 25 Summary ===\n",
      "2025-06-15 13:26:30 - INFO - Time: 188.08s\n",
      "2025-06-15 13:26:30 - INFO - Training   - accuracy: 0.9300 - auc: 0.8717 - f1_score: 0.3244 - loss: 0.0444 - precision: 0.6206 - recall: 0.2590 - learning_rate: 0.0000\n",
      "2025-06-15 13:26:30 - INFO - Validation - accuracy: 0.9397 - auc: 0.7678 - f1_score: 0.1535 - loss: 0.0631 - precision: 0.3618 - recall: 0.1167\n",
      "2025-06-15 13:26:30 - INFO - ==================================================\n",
      "\n"
     ]
    },
    {
     "name": "stdout",
     "output_type": "stream",
     "text": [
      "\u001b[1m813/813\u001b[0m \u001b[32m━━━━━━━━━━━━━━━━━━━━\u001b[0m\u001b[37m\u001b[0m \u001b[1m188s\u001b[0m 231ms/step - accuracy: 0.9294 - auc: 0.8690 - f1_score: 0.3168 - loss: 0.0450 - precision: 0.6136 - recall: 0.2528 - val_accuracy: 0.9397 - val_auc: 0.7678 - val_f1_score: 0.1535 - val_loss: 0.0631 - val_precision: 0.3618 - val_recall: 0.1167 - learning_rate: 1.2500e-05\n"
     ]
    },
    {
     "name": "stderr",
     "output_type": "stream",
     "text": [
      "2025-06-15 13:26:30 - INFO - \n",
      "=== Starting Epoch 26 ===\n",
      "\n"
     ]
    },
    {
     "name": "stdout",
     "output_type": "stream",
     "text": [
      "Epoch 26/100\n",
      "\u001b[1m813/813\u001b[0m \u001b[32m━━━━━━━━━━━━━━━━━━━━\u001b[0m\u001b[37m\u001b[0m \u001b[1m0s\u001b[0m 213ms/step - accuracy: 0.9310 - auc: 0.8774 - f1_score: 0.3419 - loss: 0.0435 - precision: 0.6337 - recall: 0.2745  "
     ]
    },
    {
     "name": "stderr",
     "output_type": "stream",
     "text": [
      "2025-06-15 13:29:43 - INFO - \n",
      "=== Epoch 26 Summary ===\n",
      "2025-06-15 13:29:43 - INFO - Time: 192.07s\n",
      "2025-06-15 13:29:43 - INFO - Training   - accuracy: 0.9319 - auc: 0.8816 - f1_score: 0.3511 - loss: 0.0426 - precision: 0.6415 - recall: 0.2826 - learning_rate: 0.0000\n",
      "2025-06-15 13:29:43 - INFO - Validation - accuracy: 0.9356 - auc: 0.7661 - f1_score: 0.1623 - loss: 0.0651 - precision: 0.3081 - recall: 0.1301\n",
      "2025-06-15 13:29:43 - INFO - ==================================================\n",
      "\n"
     ]
    },
    {
     "name": "stdout",
     "output_type": "stream",
     "text": [
      "\u001b[1m813/813\u001b[0m \u001b[32m━━━━━━━━━━━━━━━━━━━━\u001b[0m\u001b[37m\u001b[0m \u001b[1m192s\u001b[0m 236ms/step - accuracy: 0.9310 - auc: 0.8774 - f1_score: 0.3419 - loss: 0.0435 - precision: 0.6337 - recall: 0.2745 - val_accuracy: 0.9356 - val_auc: 0.7661 - val_f1_score: 0.1623 - val_loss: 0.0651 - val_precision: 0.3081 - val_recall: 0.1301 - learning_rate: 6.2500e-06\n"
     ]
    },
    {
     "name": "stderr",
     "output_type": "stream",
     "text": [
      "2025-06-15 13:29:43 - INFO - \n",
      "=== Starting Epoch 27 ===\n",
      "\n"
     ]
    },
    {
     "name": "stdout",
     "output_type": "stream",
     "text": [
      "Epoch 27/100\n",
      "\u001b[1m813/813\u001b[0m \u001b[32m━━━━━━━━━━━━━━━━━━━━\u001b[0m\u001b[37m\u001b[0m \u001b[1m0s\u001b[0m 212ms/step - accuracy: 0.9318 - auc: 0.8847 - f1_score: 0.3642 - loss: 0.0422 - precision: 0.6435 - recall: 0.2933  "
     ]
    },
    {
     "name": "stderr",
     "output_type": "stream",
     "text": [
      "2025-06-15 13:32:50 - INFO - \n",
      "=== Epoch 27 Summary ===\n",
      "2025-06-15 13:32:50 - INFO - Time: 187.55s\n",
      "2025-06-15 13:32:50 - INFO - Training   - accuracy: 0.9330 - auc: 0.8877 - f1_score: 0.3715 - loss: 0.0414 - precision: 0.6507 - recall: 0.3000 - learning_rate: 0.0000\n",
      "2025-06-15 13:32:50 - INFO - Validation - accuracy: 0.9380 - auc: 0.7637 - f1_score: 0.1695 - loss: 0.0630 - precision: 0.3463 - recall: 0.1342\n",
      "2025-06-15 13:32:50 - INFO - ==================================================\n",
      "\n"
     ]
    },
    {
     "name": "stdout",
     "output_type": "stream",
     "text": [
      "\u001b[1m813/813\u001b[0m \u001b[32m━━━━━━━━━━━━━━━━━━━━\u001b[0m\u001b[37m\u001b[0m \u001b[1m188s\u001b[0m 231ms/step - accuracy: 0.9318 - auc: 0.8847 - f1_score: 0.3643 - loss: 0.0422 - precision: 0.6435 - recall: 0.2933 - val_accuracy: 0.9380 - val_auc: 0.7637 - val_f1_score: 0.1695 - val_loss: 0.0630 - val_precision: 0.3463 - val_recall: 0.1342 - learning_rate: 6.2500e-06\n"
     ]
    },
    {
     "name": "stderr",
     "output_type": "stream",
     "text": [
      "2025-06-15 13:32:50 - INFO - \n",
      "=== Starting Epoch 28 ===\n",
      "\n"
     ]
    },
    {
     "name": "stdout",
     "output_type": "stream",
     "text": [
      "Epoch 28/100\n",
      "\u001b[1m813/813\u001b[0m \u001b[32m━━━━━━━━━━━━━━━━━━━━\u001b[0m\u001b[37m\u001b[0m \u001b[1m0s\u001b[0m 231ms/step - accuracy: 0.9329 - auc: 0.8908 - f1_score: 0.3809 - loss: 0.0411 - precision: 0.6531 - recall: 0.3089  "
     ]
    },
    {
     "name": "stderr",
     "output_type": "stream",
     "text": [
      "2025-06-15 13:36:14 - INFO - \n",
      "=== Epoch 28 Summary ===\n",
      "2025-06-15 13:36:14 - INFO - Time: 203.86s\n",
      "2025-06-15 13:36:14 - INFO - Training   - accuracy: 0.9336 - auc: 0.8925 - f1_score: 0.3849 - loss: 0.0406 - precision: 0.6554 - recall: 0.3126 - learning_rate: 0.0000\n",
      "2025-06-15 13:36:14 - INFO - Validation - accuracy: 0.9380 - auc: 0.7632 - f1_score: 0.1790 - loss: 0.0641 - precision: 0.3498 - recall: 0.1395\n",
      "2025-06-15 13:36:14 - INFO - ==================================================\n",
      "\n"
     ]
    },
    {
     "name": "stdout",
     "output_type": "stream",
     "text": [
      "\u001b[1m813/813\u001b[0m \u001b[32m━━━━━━━━━━━━━━━━━━━━\u001b[0m\u001b[37m\u001b[0m \u001b[1m204s\u001b[0m 251ms/step - accuracy: 0.9329 - auc: 0.8908 - f1_score: 0.3809 - loss: 0.0411 - precision: 0.6531 - recall: 0.3089 - val_accuracy: 0.9380 - val_auc: 0.7632 - val_f1_score: 0.1790 - val_loss: 0.0641 - val_precision: 0.3498 - val_recall: 0.1395 - learning_rate: 6.2500e-06\n"
     ]
    },
    {
     "name": "stderr",
     "output_type": "stream",
     "text": [
      "2025-06-15 13:36:14 - INFO - \n",
      "=== Starting Epoch 29 ===\n",
      "\n"
     ]
    },
    {
     "name": "stdout",
     "output_type": "stream",
     "text": [
      "Epoch 29/100\n",
      "\u001b[1m813/813\u001b[0m \u001b[32m━━━━━━━━━━━━━━━━━━━━\u001b[0m\u001b[37m\u001b[0m \u001b[1m0s\u001b[0m 213ms/step - accuracy: 0.9341 - auc: 0.8941 - f1_score: 0.3955 - loss: 0.0403 - precision: 0.6584 - recall: 0.3217  "
     ]
    },
    {
     "name": "stderr",
     "output_type": "stream",
     "text": [
      "2025-06-15 13:39:22 - INFO - \n",
      "=== Epoch 29 Summary ===\n",
      "2025-06-15 13:39:22 - INFO - Time: 187.66s\n",
      "2025-06-15 13:39:22 - INFO - Training   - accuracy: 0.9345 - auc: 0.8963 - f1_score: 0.3991 - loss: 0.0399 - precision: 0.6607 - recall: 0.3251 - learning_rate: 0.0000\n",
      "2025-06-15 13:39:22 - INFO - Validation - accuracy: 0.9367 - auc: 0.7609 - f1_score: 0.1699 - loss: 0.0658 - precision: 0.3238 - recall: 0.1306\n",
      "2025-06-15 13:39:22 - INFO - ==================================================\n",
      "\n"
     ]
    },
    {
     "name": "stdout",
     "output_type": "stream",
     "text": [
      "\u001b[1m813/813\u001b[0m \u001b[32m━━━━━━━━━━━━━━━━━━━━\u001b[0m\u001b[37m\u001b[0m \u001b[1m188s\u001b[0m 231ms/step - accuracy: 0.9341 - auc: 0.8941 - f1_score: 0.3955 - loss: 0.0403 - precision: 0.6584 - recall: 0.3217 - val_accuracy: 0.9367 - val_auc: 0.7609 - val_f1_score: 0.1699 - val_loss: 0.0658 - val_precision: 0.3238 - val_recall: 0.1306 - learning_rate: 6.2500e-06\n"
     ]
    },
    {
     "name": "stderr",
     "output_type": "stream",
     "text": [
      "2025-06-15 13:39:22 - INFO - \n",
      "=== Starting Epoch 30 ===\n",
      "\n"
     ]
    },
    {
     "name": "stdout",
     "output_type": "stream",
     "text": [
      "Epoch 30/100\n",
      "\u001b[1m813/813\u001b[0m \u001b[32m━━━━━━━━━━━━━━━━━━━━\u001b[0m\u001b[37m\u001b[0m \u001b[1m0s\u001b[0m 213ms/step - accuracy: 0.9351 - auc: 0.8989 - f1_score: 0.4100 - loss: 0.0393 - precision: 0.6676 - recall: 0.3346  "
     ]
    },
    {
     "name": "stderr",
     "output_type": "stream",
     "text": [
      "2025-06-15 13:42:30 - INFO - \n",
      "=== Epoch 30 Summary ===\n",
      "2025-06-15 13:42:30 - INFO - Time: 188.07s\n",
      "2025-06-15 13:42:30 - INFO - Training   - accuracy: 0.9356 - auc: 0.9009 - f1_score: 0.4148 - loss: 0.0390 - precision: 0.6689 - recall: 0.3395 - learning_rate: 0.0000\n",
      "2025-06-15 13:42:30 - INFO - Validation - accuracy: 0.9342 - auc: 0.7595 - f1_score: 0.1744 - loss: 0.0679 - precision: 0.3165 - recall: 0.1618\n",
      "2025-06-15 13:42:30 - INFO - ==================================================\n",
      "\n"
     ]
    },
    {
     "name": "stdout",
     "output_type": "stream",
     "text": [
      "\u001b[1m813/813\u001b[0m \u001b[32m━━━━━━━━━━━━━━━━━━━━\u001b[0m\u001b[37m\u001b[0m \u001b[1m188s\u001b[0m 231ms/step - accuracy: 0.9351 - auc: 0.8989 - f1_score: 0.4100 - loss: 0.0393 - precision: 0.6676 - recall: 0.3346 - val_accuracy: 0.9342 - val_auc: 0.7595 - val_f1_score: 0.1744 - val_loss: 0.0679 - val_precision: 0.3165 - val_recall: 0.1618 - learning_rate: 6.2500e-06\n"
     ]
    },
    {
     "name": "stderr",
     "output_type": "stream",
     "text": [
      "2025-06-15 13:42:30 - INFO - \n",
      "=== Starting Epoch 31 ===\n",
      "\n"
     ]
    },
    {
     "name": "stdout",
     "output_type": "stream",
     "text": [
      "Epoch 31/100\n",
      "\u001b[1m813/813\u001b[0m \u001b[32m━━━━━━━━━━━━━━━━━━━━\u001b[0m\u001b[37m\u001b[0m \u001b[1m0s\u001b[0m 214ms/step - accuracy: 0.9354 - auc: 0.9034 - f1_score: 0.4218 - loss: 0.0387 - precision: 0.6696 - recall: 0.3457  \n",
      "Epoch 31: ReduceLROnPlateau reducing learning rate to 3.12499992105586e-06.\n"
     ]
    },
    {
     "name": "stderr",
     "output_type": "stream",
     "text": [
      "2025-06-15 13:45:40 - INFO - \n",
      "=== Epoch 31 Summary ===\n",
      "2025-06-15 13:45:40 - INFO - Time: 190.03s\n",
      "2025-06-15 13:45:40 - INFO - Training   - accuracy: 0.9362 - auc: 0.9052 - f1_score: 0.4274 - loss: 0.0383 - precision: 0.6724 - recall: 0.3508 - learning_rate: 0.0000\n",
      "2025-06-15 13:45:40 - INFO - Validation - accuracy: 0.9360 - auc: 0.7568 - f1_score: 0.1717 - loss: 0.0667 - precision: 0.3176 - recall: 0.1352\n",
      "2025-06-15 13:45:40 - INFO - ==================================================\n",
      "\n"
     ]
    },
    {
     "name": "stdout",
     "output_type": "stream",
     "text": [
      "\u001b[1m813/813\u001b[0m \u001b[32m━━━━━━━━━━━━━━━━━━━━\u001b[0m\u001b[37m\u001b[0m \u001b[1m190s\u001b[0m 234ms/step - accuracy: 0.9354 - auc: 0.9034 - f1_score: 0.4218 - loss: 0.0387 - precision: 0.6696 - recall: 0.3457 - val_accuracy: 0.9360 - val_auc: 0.7568 - val_f1_score: 0.1717 - val_loss: 0.0667 - val_precision: 0.3176 - val_recall: 0.1352 - learning_rate: 6.2500e-06\n"
     ]
    },
    {
     "name": "stderr",
     "output_type": "stream",
     "text": [
      "2025-06-15 13:45:40 - INFO - \n",
      "=== Starting Epoch 32 ===\n",
      "\n"
     ]
    },
    {
     "name": "stdout",
     "output_type": "stream",
     "text": [
      "Epoch 32/100\n",
      "\u001b[1m813/813\u001b[0m \u001b[32m━━━━━━━━━━━━━━━━━━━━\u001b[0m\u001b[37m\u001b[0m \u001b[1m0s\u001b[0m 213ms/step - accuracy: 0.9370 - auc: 0.9082 - f1_score: 0.4437 - loss: 0.0377 - precision: 0.6848 - recall: 0.3642  "
     ]
    },
    {
     "name": "stderr",
     "output_type": "stream",
     "text": [
      "2025-06-15 13:48:48 - INFO - \n",
      "=== Epoch 32 Summary ===\n",
      "2025-06-15 13:48:48 - INFO - Time: 188.68s\n",
      "2025-06-15 13:48:48 - INFO - Training   - accuracy: 0.9381 - auc: 0.9113 - f1_score: 0.4505 - loss: 0.0370 - precision: 0.6914 - recall: 0.3702 - learning_rate: 0.0000\n",
      "2025-06-15 13:48:48 - INFO - Validation - accuracy: 0.9339 - auc: 0.7604 - f1_score: 0.1950 - loss: 0.0670 - precision: 0.3157 - recall: 0.1663\n",
      "2025-06-15 13:48:48 - INFO - ==================================================\n",
      "\n"
     ]
    },
    {
     "name": "stdout",
     "output_type": "stream",
     "text": [
      "\u001b[1m813/813\u001b[0m \u001b[32m━━━━━━━━━━━━━━━━━━━━\u001b[0m\u001b[37m\u001b[0m \u001b[1m189s\u001b[0m 232ms/step - accuracy: 0.9371 - auc: 0.9082 - f1_score: 0.4437 - loss: 0.0377 - precision: 0.6848 - recall: 0.3642 - val_accuracy: 0.9339 - val_auc: 0.7604 - val_f1_score: 0.1950 - val_loss: 0.0670 - val_precision: 0.3157 - val_recall: 0.1663 - learning_rate: 3.1250e-06\n"
     ]
    },
    {
     "name": "stderr",
     "output_type": "stream",
     "text": [
      "2025-06-15 13:48:49 - INFO - \n",
      "=== Starting Epoch 33 ===\n",
      "\n"
     ]
    },
    {
     "name": "stdout",
     "output_type": "stream",
     "text": [
      "Epoch 33/100\n",
      "\u001b[1m813/813\u001b[0m \u001b[32m━━━━━━━━━━━━━━━━━━━━\u001b[0m\u001b[37m\u001b[0m \u001b[1m0s\u001b[0m 219ms/step - accuracy: 0.9388 - auc: 0.9149 - f1_score: 0.4631 - loss: 0.0365 - precision: 0.7004 - recall: 0.3809  "
     ]
    },
    {
     "name": "stderr",
     "output_type": "stream",
     "text": [
      "2025-06-15 13:52:01 - INFO - \n",
      "=== Epoch 33 Summary ===\n",
      "2025-06-15 13:52:01 - INFO - Time: 192.83s\n",
      "2025-06-15 13:52:01 - INFO - Training   - accuracy: 0.9392 - auc: 0.9157 - f1_score: 0.4650 - loss: 0.0362 - precision: 0.6998 - recall: 0.3832 - learning_rate: 0.0000\n",
      "2025-06-15 13:52:01 - INFO - Validation - accuracy: 0.9341 - auc: 0.7608 - f1_score: 0.1901 - loss: 0.0685 - precision: 0.3189 - recall: 0.1678\n",
      "2025-06-15 13:52:01 - INFO - ==================================================\n",
      "\n"
     ]
    },
    {
     "name": "stdout",
     "output_type": "stream",
     "text": [
      "\u001b[1m813/813\u001b[0m \u001b[32m━━━━━━━━━━━━━━━━━━━━\u001b[0m\u001b[37m\u001b[0m \u001b[1m193s\u001b[0m 237ms/step - accuracy: 0.9388 - auc: 0.9149 - f1_score: 0.4631 - loss: 0.0365 - precision: 0.7004 - recall: 0.3809 - val_accuracy: 0.9341 - val_auc: 0.7608 - val_f1_score: 0.1901 - val_loss: 0.0685 - val_precision: 0.3189 - val_recall: 0.1678 - learning_rate: 3.1250e-06\n"
     ]
    },
    {
     "name": "stderr",
     "output_type": "stream",
     "text": [
      "2025-06-15 13:52:01 - INFO - \n",
      "=== Starting Epoch 34 ===\n",
      "\n"
     ]
    },
    {
     "name": "stdout",
     "output_type": "stream",
     "text": [
      "Epoch 34/100\n",
      "\u001b[1m813/813\u001b[0m \u001b[32m━━━━━━━━━━━━━━━━━━━━\u001b[0m\u001b[37m\u001b[0m \u001b[1m0s\u001b[0m 219ms/step - accuracy: 0.9393 - auc: 0.9163 - f1_score: 0.4726 - loss: 0.0361 - precision: 0.6968 - recall: 0.3912  "
     ]
    },
    {
     "name": "stderr",
     "output_type": "stream",
     "text": [
      "2025-06-15 13:55:09 - INFO - \n",
      "=== Epoch 34 Summary ===\n",
      "2025-06-15 13:55:09 - INFO - Time: 187.95s\n",
      "2025-06-15 13:55:09 - INFO - Training   - accuracy: 0.9397 - auc: 0.9180 - f1_score: 0.4758 - loss: 0.0358 - precision: 0.6995 - recall: 0.3945 - learning_rate: 0.0000\n",
      "2025-06-15 13:55:09 - INFO - Validation - accuracy: 0.9323 - auc: 0.7625 - f1_score: 0.1838 - loss: 0.0682 - precision: 0.2856 - recall: 0.1480\n",
      "2025-06-15 13:55:09 - INFO - ==================================================\n",
      "\n"
     ]
    },
    {
     "name": "stdout",
     "output_type": "stream",
     "text": [
      "\u001b[1m813/813\u001b[0m \u001b[32m━━━━━━━━━━━━━━━━━━━━\u001b[0m\u001b[37m\u001b[0m \u001b[1m188s\u001b[0m 231ms/step - accuracy: 0.9393 - auc: 0.9163 - f1_score: 0.4726 - loss: 0.0361 - precision: 0.6968 - recall: 0.3912 - val_accuracy: 0.9323 - val_auc: 0.7625 - val_f1_score: 0.1838 - val_loss: 0.0682 - val_precision: 0.2856 - val_recall: 0.1480 - learning_rate: 3.1250e-06\n"
     ]
    },
    {
     "name": "stderr",
     "output_type": "stream",
     "text": [
      "2025-06-15 13:55:09 - INFO - \n",
      "=== Starting Epoch 35 ===\n",
      "\n"
     ]
    },
    {
     "name": "stdout",
     "output_type": "stream",
     "text": [
      "Epoch 35/100\n",
      "\u001b[1m813/813\u001b[0m \u001b[32m━━━━━━━━━━━━━━━━━━━━\u001b[0m\u001b[37m\u001b[0m \u001b[1m0s\u001b[0m 236ms/step - accuracy: 0.9399 - auc: 0.9188 - f1_score: 0.4785 - loss: 0.0355 - precision: 0.7035 - recall: 0.3973  "
     ]
    },
    {
     "name": "stderr",
     "output_type": "stream",
     "text": [
      "2025-06-15 13:58:32 - INFO - \n",
      "=== Epoch 35 Summary ===\n",
      "2025-06-15 13:58:32 - INFO - Time: 202.49s\n",
      "2025-06-15 13:58:32 - INFO - Training   - accuracy: 0.9403 - auc: 0.9207 - f1_score: 0.4837 - loss: 0.0352 - precision: 0.7053 - recall: 0.4023 - learning_rate: 0.0000\n",
      "2025-06-15 13:58:32 - INFO - Validation - accuracy: 0.9339 - auc: 0.7613 - f1_score: 0.2115 - loss: 0.0679 - precision: 0.3231 - recall: 0.1759\n",
      "2025-06-15 13:58:32 - INFO - ==================================================\n",
      "\n"
     ]
    },
    {
     "name": "stdout",
     "output_type": "stream",
     "text": [
      "\u001b[1m813/813\u001b[0m \u001b[32m━━━━━━━━━━━━━━━━━━━━\u001b[0m\u001b[37m\u001b[0m \u001b[1m203s\u001b[0m 249ms/step - accuracy: 0.9399 - auc: 0.9188 - f1_score: 0.4785 - loss: 0.0355 - precision: 0.7035 - recall: 0.3973 - val_accuracy: 0.9339 - val_auc: 0.7613 - val_f1_score: 0.2115 - val_loss: 0.0679 - val_precision: 0.3231 - val_recall: 0.1759 - learning_rate: 3.1250e-06\n"
     ]
    },
    {
     "name": "stderr",
     "output_type": "stream",
     "text": [
      "2025-06-15 13:58:32 - INFO - \n",
      "=== Starting Epoch 36 ===\n",
      "\n"
     ]
    },
    {
     "name": "stdout",
     "output_type": "stream",
     "text": [
      "Epoch 36/100\n",
      "\u001b[1m813/813\u001b[0m \u001b[32m━━━━━━━━━━━━━━━━━━━━\u001b[0m\u001b[37m\u001b[0m \u001b[1m0s\u001b[0m 218ms/step - accuracy: 0.9406 - auc: 0.9222 - f1_score: 0.4883 - loss: 0.0350 - precision: 0.7063 - recall: 0.4064  "
     ]
    },
    {
     "name": "stderr",
     "output_type": "stream",
     "text": [
      "2025-06-15 14:01:40 - INFO - \n",
      "=== Epoch 36 Summary ===\n",
      "2025-06-15 14:01:40 - INFO - Time: 187.63s\n",
      "2025-06-15 14:01:40 - INFO - Training   - accuracy: 0.9410 - auc: 0.9240 - f1_score: 0.4932 - loss: 0.0347 - precision: 0.7095 - recall: 0.4114 - learning_rate: 0.0000\n",
      "2025-06-15 14:01:40 - INFO - Validation - accuracy: 0.9305 - auc: 0.7614 - f1_score: 0.2191 - loss: 0.0686 - precision: 0.2985 - recall: 0.1891\n",
      "2025-06-15 14:01:40 - INFO - ==================================================\n",
      "\n"
     ]
    },
    {
     "name": "stdout",
     "output_type": "stream",
     "text": [
      "\u001b[1m813/813\u001b[0m \u001b[32m━━━━━━━━━━━━━━━━━━━━\u001b[0m\u001b[37m\u001b[0m \u001b[1m188s\u001b[0m 231ms/step - accuracy: 0.9406 - auc: 0.9223 - f1_score: 0.4883 - loss: 0.0350 - precision: 0.7063 - recall: 0.4064 - val_accuracy: 0.9305 - val_auc: 0.7614 - val_f1_score: 0.2191 - val_loss: 0.0686 - val_precision: 0.2985 - val_recall: 0.1891 - learning_rate: 3.1250e-06\n"
     ]
    },
    {
     "name": "stderr",
     "output_type": "stream",
     "text": [
      "2025-06-15 14:01:40 - INFO - \n",
      "=== Starting Epoch 37 ===\n",
      "\n"
     ]
    },
    {
     "name": "stdout",
     "output_type": "stream",
     "text": [
      "Epoch 37/100\n",
      "\u001b[1m813/813\u001b[0m \u001b[32m━━━━━━━━━━━━━━━━━━━━\u001b[0m\u001b[37m\u001b[0m \u001b[1m0s\u001b[0m 228ms/step - accuracy: 0.9414 - auc: 0.9250 - f1_score: 0.5001 - loss: 0.0346 - precision: 0.7080 - recall: 0.4184  "
     ]
    },
    {
     "name": "stderr",
     "output_type": "stream",
     "text": [
      "2025-06-15 14:04:55 - INFO - \n",
      "=== Epoch 37 Summary ===\n",
      "2025-06-15 14:04:55 - INFO - Time: 195.07s\n",
      "2025-06-15 14:04:55 - INFO - Training   - accuracy: 0.9419 - auc: 0.9264 - f1_score: 0.5060 - loss: 0.0343 - precision: 0.7141 - recall: 0.4234 - learning_rate: 0.0000\n",
      "2025-06-15 14:04:55 - INFO - Validation - accuracy: 0.9321 - auc: 0.7621 - f1_score: 0.2032 - loss: 0.0707 - precision: 0.3022 - recall: 0.1731\n",
      "2025-06-15 14:04:55 - INFO - ==================================================\n",
      "\n"
     ]
    },
    {
     "name": "stdout",
     "output_type": "stream",
     "text": [
      "\u001b[1m813/813\u001b[0m \u001b[32m━━━━━━━━━━━━━━━━━━━━\u001b[0m\u001b[37m\u001b[0m \u001b[1m195s\u001b[0m 240ms/step - accuracy: 0.9414 - auc: 0.9250 - f1_score: 0.5001 - loss: 0.0346 - precision: 0.7080 - recall: 0.4184 - val_accuracy: 0.9321 - val_auc: 0.7621 - val_f1_score: 0.2032 - val_loss: 0.0707 - val_precision: 0.3022 - val_recall: 0.1731 - learning_rate: 3.1250e-06\n"
     ]
    },
    {
     "name": "stderr",
     "output_type": "stream",
     "text": [
      "2025-06-15 14:04:55 - INFO - \n",
      "=== Starting Epoch 38 ===\n",
      "\n"
     ]
    },
    {
     "name": "stdout",
     "output_type": "stream",
     "text": [
      "Epoch 38/100\n",
      "\u001b[1m813/813\u001b[0m \u001b[32m━━━━━━━━━━━━━━━━━━━━\u001b[0m\u001b[37m\u001b[0m \u001b[1m0s\u001b[0m 226ms/step - accuracy: 0.9421 - auc: 0.9271 - f1_score: 0.5088 - loss: 0.0340 - precision: 0.7117 - recall: 0.4269  "
     ]
    },
    {
     "name": "stderr",
     "output_type": "stream",
     "text": [
      "2025-06-15 14:08:09 - INFO - \n",
      "=== Epoch 38 Summary ===\n",
      "2025-06-15 14:08:09 - INFO - Time: 194.31s\n",
      "2025-06-15 14:08:09 - INFO - Training   - accuracy: 0.9425 - auc: 0.9284 - f1_score: 0.5148 - loss: 0.0338 - precision: 0.7148 - recall: 0.4327 - learning_rate: 0.0000\n",
      "2025-06-15 14:08:09 - INFO - Validation - accuracy: 0.9294 - auc: 0.7561 - f1_score: 0.2074 - loss: 0.0717 - precision: 0.2943 - recall: 0.1961\n",
      "2025-06-15 14:08:09 - INFO - ==================================================\n",
      "\n"
     ]
    },
    {
     "name": "stdout",
     "output_type": "stream",
     "text": [
      "\u001b[1m813/813\u001b[0m \u001b[32m━━━━━━━━━━━━━━━━━━━━\u001b[0m\u001b[37m\u001b[0m \u001b[1m194s\u001b[0m 239ms/step - accuracy: 0.9421 - auc: 0.9271 - f1_score: 0.5088 - loss: 0.0340 - precision: 0.7117 - recall: 0.4269 - val_accuracy: 0.9294 - val_auc: 0.7561 - val_f1_score: 0.2074 - val_loss: 0.0717 - val_precision: 0.2943 - val_recall: 0.1961 - learning_rate: 3.1250e-06\n"
     ]
    },
    {
     "name": "stderr",
     "output_type": "stream",
     "text": [
      "2025-06-15 14:08:09 - INFO - \n",
      "=== Starting Epoch 39 ===\n",
      "\n"
     ]
    },
    {
     "name": "stdout",
     "output_type": "stream",
     "text": [
      "Epoch 39/100\n",
      "\u001b[1m813/813\u001b[0m \u001b[32m━━━━━━━━━━━━━━━━━━━━\u001b[0m\u001b[37m\u001b[0m \u001b[1m0s\u001b[0m 225ms/step - accuracy: 0.9430 - auc: 0.9302 - f1_score: 0.5220 - loss: 0.0336 - precision: 0.7233 - recall: 0.4395  \n",
      "Epoch 39: ReduceLROnPlateau reducing learning rate to 1.56249996052793e-06.\n"
     ]
    },
    {
     "name": "stderr",
     "output_type": "stream",
     "text": [
      "2025-06-15 14:11:22 - INFO - \n",
      "=== Epoch 39 Summary ===\n",
      "2025-06-15 14:11:22 - INFO - Time: 192.86s\n",
      "2025-06-15 14:11:22 - INFO - Training   - accuracy: 0.9434 - auc: 0.9315 - f1_score: 0.5248 - loss: 0.0332 - precision: 0.7232 - recall: 0.4424 - learning_rate: 0.0000\n",
      "2025-06-15 14:11:22 - INFO - Validation - accuracy: 0.9298 - auc: 0.7578 - f1_score: 0.1987 - loss: 0.0722 - precision: 0.2875 - recall: 0.1803\n",
      "2025-06-15 14:11:22 - INFO - ==================================================\n",
      "\n"
     ]
    },
    {
     "name": "stdout",
     "output_type": "stream",
     "text": [
      "\u001b[1m813/813\u001b[0m \u001b[32m━━━━━━━━━━━━━━━━━━━━\u001b[0m\u001b[37m\u001b[0m \u001b[1m193s\u001b[0m 237ms/step - accuracy: 0.9430 - auc: 0.9302 - f1_score: 0.5220 - loss: 0.0336 - precision: 0.7233 - recall: 0.4395 - val_accuracy: 0.9298 - val_auc: 0.7578 - val_f1_score: 0.1987 - val_loss: 0.0722 - val_precision: 0.2875 - val_recall: 0.1803 - learning_rate: 3.1250e-06\n"
     ]
    },
    {
     "name": "stderr",
     "output_type": "stream",
     "text": [
      "2025-06-15 14:11:22 - INFO - \n",
      "=== Starting Epoch 40 ===\n",
      "\n"
     ]
    },
    {
     "name": "stdout",
     "output_type": "stream",
     "text": [
      "Epoch 40/100\n",
      "\u001b[1m813/813\u001b[0m \u001b[32m━━━━━━━━━━━━━━━━━━━━\u001b[0m\u001b[37m\u001b[0m \u001b[1m0s\u001b[0m 222ms/step - accuracy: 0.9444 - auc: 0.9334 - f1_score: 0.5371 - loss: 0.0329 - precision: 0.7350 - recall: 0.4525  "
     ]
    },
    {
     "name": "stderr",
     "output_type": "stream",
     "text": [
      "2025-06-15 14:14:32 - INFO - \n",
      "=== Epoch 40 Summary ===\n",
      "2025-06-15 14:14:32 - INFO - Time: 190.38s\n",
      "2025-06-15 14:14:32 - INFO - Training   - accuracy: 0.9449 - auc: 0.9353 - f1_score: 0.5404 - loss: 0.0324 - precision: 0.7350 - recall: 0.4566 - learning_rate: 0.0000\n",
      "2025-06-15 14:14:32 - INFO - Validation - accuracy: 0.9332 - auc: 0.7588 - f1_score: 0.2080 - loss: 0.0694 - precision: 0.3171 - recall: 0.1781\n",
      "2025-06-15 14:14:32 - INFO - ==================================================\n",
      "\n"
     ]
    },
    {
     "name": "stdout",
     "output_type": "stream",
     "text": [
      "\u001b[1m813/813\u001b[0m \u001b[32m━━━━━━━━━━━━━━━━━━━━\u001b[0m\u001b[37m\u001b[0m \u001b[1m190s\u001b[0m 234ms/step - accuracy: 0.9444 - auc: 0.9334 - f1_score: 0.5371 - loss: 0.0329 - precision: 0.7350 - recall: 0.4525 - val_accuracy: 0.9332 - val_auc: 0.7588 - val_f1_score: 0.2080 - val_loss: 0.0694 - val_precision: 0.3171 - val_recall: 0.1781 - learning_rate: 1.5625e-06\n"
     ]
    },
    {
     "name": "stderr",
     "output_type": "stream",
     "text": [
      "2025-06-15 14:14:32 - INFO - \n",
      "=== Starting Epoch 41 ===\n",
      "\n"
     ]
    },
    {
     "name": "stdout",
     "output_type": "stream",
     "text": [
      "Epoch 41/100\n",
      "\u001b[1m813/813\u001b[0m \u001b[32m━━━━━━━━━━━━━━━━━━━━\u001b[0m\u001b[37m\u001b[0m \u001b[1m0s\u001b[0m 226ms/step - accuracy: 0.9448 - auc: 0.9354 - f1_score: 0.5424 - loss: 0.0324 - precision: 0.7362 - recall: 0.4582  "
     ]
    },
    {
     "name": "stderr",
     "output_type": "stream",
     "text": [
      "2025-06-15 14:17:46 - INFO - \n",
      "=== Epoch 41 Summary ===\n",
      "2025-06-15 14:17:46 - INFO - Time: 193.86s\n",
      "2025-06-15 14:17:46 - INFO - Training   - accuracy: 0.9455 - auc: 0.9372 - f1_score: 0.5480 - loss: 0.0321 - precision: 0.7389 - recall: 0.4637 - learning_rate: 0.0000\n",
      "2025-06-15 14:17:46 - INFO - Validation - accuracy: 0.9313 - auc: 0.7615 - f1_score: 0.2131 - loss: 0.0702 - precision: 0.3028 - recall: 0.1847\n",
      "2025-06-15 14:17:46 - INFO - ==================================================\n",
      "\n"
     ]
    },
    {
     "name": "stdout",
     "output_type": "stream",
     "text": [
      "\u001b[1m813/813\u001b[0m \u001b[32m━━━━━━━━━━━━━━━━━━━━\u001b[0m\u001b[37m\u001b[0m \u001b[1m194s\u001b[0m 238ms/step - accuracy: 0.9448 - auc: 0.9354 - f1_score: 0.5424 - loss: 0.0324 - precision: 0.7362 - recall: 0.4582 - val_accuracy: 0.9313 - val_auc: 0.7615 - val_f1_score: 0.2131 - val_loss: 0.0702 - val_precision: 0.3028 - val_recall: 0.1847 - learning_rate: 1.5625e-06\n"
     ]
    },
    {
     "name": "stderr",
     "output_type": "stream",
     "text": [
      "2025-06-15 14:17:46 - INFO - \n",
      "=== Starting Epoch 42 ===\n",
      "\n"
     ]
    },
    {
     "name": "stdout",
     "output_type": "stream",
     "text": [
      "Epoch 42/100\n",
      "\u001b[1m813/813\u001b[0m \u001b[32m━━━━━━━━━━━━━━━━━━━━\u001b[0m\u001b[37m\u001b[0m \u001b[1m0s\u001b[0m 284ms/step - accuracy: 0.9457 - auc: 0.9382 - f1_score: 0.5508 - loss: 0.0320 - precision: 0.7397 - recall: 0.4673  "
     ]
    },
    {
     "name": "stderr",
     "output_type": "stream",
     "text": [
      "2025-06-15 14:21:47 - INFO - \n",
      "=== Epoch 42 Summary ===\n",
      "2025-06-15 14:21:47 - INFO - Time: 241.01s\n",
      "2025-06-15 14:21:47 - INFO - Training   - accuracy: 0.9461 - auc: 0.9391 - f1_score: 0.5536 - loss: 0.0317 - precision: 0.7418 - recall: 0.4702 - learning_rate: 0.0000\n",
      "2025-06-15 14:21:47 - INFO - Validation - accuracy: 0.9316 - auc: 0.7568 - f1_score: 0.2202 - loss: 0.0711 - precision: 0.3074 - recall: 0.1882\n",
      "2025-06-15 14:21:47 - INFO - ==================================================\n",
      "\n"
     ]
    },
    {
     "name": "stdout",
     "output_type": "stream",
     "text": [
      "\u001b[1m813/813\u001b[0m \u001b[32m━━━━━━━━━━━━━━━━━━━━\u001b[0m\u001b[37m\u001b[0m \u001b[1m241s\u001b[0m 297ms/step - accuracy: 0.9457 - auc: 0.9382 - f1_score: 0.5508 - loss: 0.0320 - precision: 0.7397 - recall: 0.4673 - val_accuracy: 0.9316 - val_auc: 0.7568 - val_f1_score: 0.2202 - val_loss: 0.0711 - val_precision: 0.3074 - val_recall: 0.1882 - learning_rate: 1.5625e-06\n"
     ]
    },
    {
     "name": "stderr",
     "output_type": "stream",
     "text": [
      "2025-06-15 14:21:47 - INFO - \n",
      "=== Starting Epoch 43 ===\n",
      "\n"
     ]
    },
    {
     "name": "stdout",
     "output_type": "stream",
     "text": [
      "Epoch 43/100\n",
      "\u001b[1m813/813\u001b[0m \u001b[32m━━━━━━━━━━━━━━━━━━━━\u001b[0m\u001b[37m\u001b[0m \u001b[1m0s\u001b[0m 392ms/step - accuracy: 0.9466 - auc: 0.9397 - f1_score: 0.5604 - loss: 0.0315 - precision: 0.7468 - recall: 0.4759  "
     ]
    },
    {
     "name": "stderr",
     "output_type": "stream",
     "text": [
      "2025-06-15 14:27:17 - INFO - \n",
      "=== Epoch 43 Summary ===\n",
      "2025-06-15 14:27:17 - INFO - Time: 329.41s\n",
      "2025-06-15 14:27:17 - INFO - Training   - accuracy: 0.9469 - auc: 0.9409 - f1_score: 0.5639 - loss: 0.0312 - precision: 0.7471 - recall: 0.4804 - learning_rate: 0.0000\n",
      "2025-06-15 14:27:17 - INFO - Validation - accuracy: 0.9278 - auc: 0.7573 - f1_score: 0.2384 - loss: 0.0737 - precision: 0.2849 - recall: 0.2006\n",
      "2025-06-15 14:27:17 - INFO - ==================================================\n",
      "\n"
     ]
    },
    {
     "name": "stdout",
     "output_type": "stream",
     "text": [
      "\u001b[1m813/813\u001b[0m \u001b[32m━━━━━━━━━━━━━━━━━━━━\u001b[0m\u001b[37m\u001b[0m \u001b[1m329s\u001b[0m 405ms/step - accuracy: 0.9466 - auc: 0.9397 - f1_score: 0.5604 - loss: 0.0315 - precision: 0.7468 - recall: 0.4759 - val_accuracy: 0.9278 - val_auc: 0.7573 - val_f1_score: 0.2384 - val_loss: 0.0737 - val_precision: 0.2849 - val_recall: 0.2006 - learning_rate: 1.5625e-06\n"
     ]
    },
    {
     "name": "stderr",
     "output_type": "stream",
     "text": [
      "2025-06-15 14:27:17 - INFO - \n",
      "=== Starting Epoch 44 ===\n",
      "\n"
     ]
    },
    {
     "name": "stdout",
     "output_type": "stream",
     "text": [
      "Epoch 44/100\n",
      "\u001b[1m813/813\u001b[0m \u001b[32m━━━━━━━━━━━━━━━━━━━━\u001b[0m\u001b[37m\u001b[0m \u001b[1m0s\u001b[0m 224ms/step - accuracy: 0.9469 - auc: 0.9417 - f1_score: 0.5664 - loss: 0.0312 - precision: 0.7483 - recall: 0.4826  "
     ]
    },
    {
     "name": "stderr",
     "output_type": "stream",
     "text": [
      "2025-06-15 14:30:34 - INFO - \n",
      "=== Epoch 44 Summary ===\n",
      "2025-06-15 14:30:34 - INFO - Time: 197.56s\n",
      "2025-06-15 14:30:34 - INFO - Training   - accuracy: 0.9473 - auc: 0.9420 - f1_score: 0.5698 - loss: 0.0310 - precision: 0.7496 - recall: 0.4860 - learning_rate: 0.0000\n",
      "2025-06-15 14:30:34 - INFO - Validation - accuracy: 0.9282 - auc: 0.7608 - f1_score: 0.2301 - loss: 0.0729 - precision: 0.2860 - recall: 0.1981\n",
      "2025-06-15 14:30:34 - INFO - ==================================================\n",
      "\n"
     ]
    },
    {
     "name": "stdout",
     "output_type": "stream",
     "text": [
      "\u001b[1m813/813\u001b[0m \u001b[32m━━━━━━━━━━━━━━━━━━━━\u001b[0m\u001b[37m\u001b[0m \u001b[1m198s\u001b[0m 243ms/step - accuracy: 0.9469 - auc: 0.9417 - f1_score: 0.5664 - loss: 0.0312 - precision: 0.7483 - recall: 0.4826 - val_accuracy: 0.9282 - val_auc: 0.7608 - val_f1_score: 0.2301 - val_loss: 0.0729 - val_precision: 0.2860 - val_recall: 0.1981 - learning_rate: 1.5625e-06\n"
     ]
    },
    {
     "name": "stderr",
     "output_type": "stream",
     "text": [
      "2025-06-15 14:30:34 - INFO - \n",
      "=== Starting Epoch 45 ===\n",
      "\n"
     ]
    },
    {
     "name": "stdout",
     "output_type": "stream",
     "text": [
      "Epoch 45/100\n",
      "\u001b[1m813/813\u001b[0m \u001b[32m━━━━━━━━━━━━━━━━━━━━\u001b[0m\u001b[37m\u001b[0m \u001b[1m0s\u001b[0m 277ms/step - accuracy: 0.9477 - auc: 0.9427 - f1_score: 0.5742 - loss: 0.0308 - precision: 0.7518 - recall: 0.4906  "
     ]
    },
    {
     "name": "stderr",
     "output_type": "stream",
     "text": [
      "2025-06-15 14:34:31 - INFO - \n",
      "=== Epoch 45 Summary ===\n",
      "2025-06-15 14:34:31 - INFO - Time: 236.57s\n",
      "2025-06-15 14:34:31 - INFO - Training   - accuracy: 0.9479 - auc: 0.9432 - f1_score: 0.5750 - loss: 0.0307 - precision: 0.7521 - recall: 0.4920 - learning_rate: 0.0000\n",
      "2025-06-15 14:34:31 - INFO - Validation - accuracy: 0.9341 - auc: 0.7573 - f1_score: 0.2094 - loss: 0.0713 - precision: 0.3253 - recall: 0.1775\n",
      "2025-06-15 14:34:31 - INFO - ==================================================\n",
      "\n"
     ]
    },
    {
     "name": "stdout",
     "output_type": "stream",
     "text": [
      "\u001b[1m813/813\u001b[0m \u001b[32m━━━━━━━━━━━━━━━━━━━━\u001b[0m\u001b[37m\u001b[0m \u001b[1m237s\u001b[0m 291ms/step - accuracy: 0.9477 - auc: 0.9427 - f1_score: 0.5742 - loss: 0.0308 - precision: 0.7518 - recall: 0.4906 - val_accuracy: 0.9341 - val_auc: 0.7573 - val_f1_score: 0.2094 - val_loss: 0.0713 - val_precision: 0.3253 - val_recall: 0.1775 - learning_rate: 1.5625e-06\n"
     ]
    },
    {
     "name": "stderr",
     "output_type": "stream",
     "text": [
      "2025-06-15 14:34:31 - INFO - \n",
      "=== Starting Epoch 46 ===\n",
      "\n"
     ]
    },
    {
     "name": "stdout",
     "output_type": "stream",
     "text": [
      "Epoch 46/100\n",
      "\u001b[1m813/813\u001b[0m \u001b[32m━━━━━━━━━━━━━━━━━━━━\u001b[0m\u001b[37m\u001b[0m \u001b[1m0s\u001b[0m 229ms/step - accuracy: 0.9485 - auc: 0.9443 - f1_score: 0.5833 - loss: 0.0306 - precision: 0.7556 - recall: 0.5004  \n",
      "Epoch 46: ReduceLROnPlateau reducing learning rate to 1e-06.\n"
     ]
    },
    {
     "name": "stderr",
     "output_type": "stream",
     "text": [
      "2025-06-15 14:37:47 - INFO - \n",
      "=== Epoch 46 Summary ===\n",
      "2025-06-15 14:37:47 - INFO - Time: 195.98s\n",
      "2025-06-15 14:37:47 - INFO - Training   - accuracy: 0.9484 - auc: 0.9448 - f1_score: 0.5822 - loss: 0.0304 - precision: 0.7546 - recall: 0.4997 - learning_rate: 0.0000\n",
      "2025-06-15 14:37:47 - INFO - Validation - accuracy: 0.9345 - auc: 0.7607 - f1_score: 0.2201 - loss: 0.0718 - precision: 0.3375 - recall: 0.1893\n",
      "2025-06-15 14:37:47 - INFO - ==================================================\n",
      "\n"
     ]
    },
    {
     "name": "stdout",
     "output_type": "stream",
     "text": [
      "\u001b[1m813/813\u001b[0m \u001b[32m━━━━━━━━━━━━━━━━━━━━\u001b[0m\u001b[37m\u001b[0m \u001b[1m196s\u001b[0m 241ms/step - accuracy: 0.9485 - auc: 0.9443 - f1_score: 0.5833 - loss: 0.0306 - precision: 0.7556 - recall: 0.5004 - val_accuracy: 0.9345 - val_auc: 0.7607 - val_f1_score: 0.2201 - val_loss: 0.0718 - val_precision: 0.3375 - val_recall: 0.1893 - learning_rate: 1.5625e-06\n"
     ]
    },
    {
     "name": "stderr",
     "output_type": "stream",
     "text": [
      "2025-06-15 14:37:47 - INFO - \n",
      "=== Starting Epoch 47 ===\n",
      "\n"
     ]
    },
    {
     "name": "stdout",
     "output_type": "stream",
     "text": [
      "Epoch 47/100\n",
      "\u001b[1m813/813\u001b[0m \u001b[32m━━━━━━━━━━━━━━━━━━━━\u001b[0m\u001b[37m\u001b[0m \u001b[1m0s\u001b[0m 227ms/step - accuracy: 0.9485 - auc: 0.9452 - f1_score: 0.5838 - loss: 0.0303 - precision: 0.7563 - recall: 0.5013  "
     ]
    },
    {
     "name": "stderr",
     "output_type": "stream",
     "text": [
      "2025-06-15 14:41:01 - INFO - \n",
      "=== Epoch 47 Summary ===\n",
      "2025-06-15 14:41:01 - INFO - Time: 194.61s\n",
      "2025-06-15 14:41:01 - INFO - Training   - accuracy: 0.9491 - auc: 0.9463 - f1_score: 0.5878 - loss: 0.0300 - precision: 0.7597 - recall: 0.5054 - learning_rate: 0.0000\n",
      "2025-06-15 14:41:01 - INFO - Validation - accuracy: 0.9289 - auc: 0.7546 - f1_score: 0.2142 - loss: 0.0754 - precision: 0.2848 - recall: 0.1874\n",
      "2025-06-15 14:41:01 - INFO - ==================================================\n",
      "\n"
     ]
    },
    {
     "name": "stdout",
     "output_type": "stream",
     "text": [
      "\u001b[1m813/813\u001b[0m \u001b[32m━━━━━━━━━━━━━━━━━━━━\u001b[0m\u001b[37m\u001b[0m \u001b[1m195s\u001b[0m 239ms/step - accuracy: 0.9485 - auc: 0.9452 - f1_score: 0.5838 - loss: 0.0303 - precision: 0.7563 - recall: 0.5013 - val_accuracy: 0.9289 - val_auc: 0.7546 - val_f1_score: 0.2142 - val_loss: 0.0754 - val_precision: 0.2848 - val_recall: 0.1874 - learning_rate: 1.0000e-06\n"
     ]
    },
    {
     "name": "stderr",
     "output_type": "stream",
     "text": [
      "2025-06-15 14:41:01 - INFO - \n",
      "=== Starting Epoch 48 ===\n",
      "\n"
     ]
    },
    {
     "name": "stdout",
     "output_type": "stream",
     "text": [
      "Epoch 48/100\n",
      "\u001b[1m813/813\u001b[0m \u001b[32m━━━━━━━━━━━━━━━━━━━━\u001b[0m\u001b[37m\u001b[0m \u001b[1m0s\u001b[0m 225ms/step - accuracy: 0.9493 - auc: 0.9472 - f1_score: 0.5931 - loss: 0.0299 - precision: 0.7637 - recall: 0.5101  "
     ]
    },
    {
     "name": "stderr",
     "output_type": "stream",
     "text": [
      "2025-06-15 14:44:14 - INFO - \n",
      "=== Epoch 48 Summary ===\n",
      "2025-06-15 14:44:14 - INFO - Time: 192.62s\n",
      "2025-06-15 14:44:14 - INFO - Training   - accuracy: 0.9497 - auc: 0.9478 - f1_score: 0.5956 - loss: 0.0297 - precision: 0.7630 - recall: 0.5133 - learning_rate: 0.0000\n",
      "2025-06-15 14:44:14 - INFO - Validation - accuracy: 0.9336 - auc: 0.7597 - f1_score: 0.2198 - loss: 0.0718 - precision: 0.3236 - recall: 0.1832\n",
      "2025-06-15 14:44:14 - INFO - ==================================================\n",
      "\n"
     ]
    },
    {
     "name": "stdout",
     "output_type": "stream",
     "text": [
      "\u001b[1m813/813\u001b[0m \u001b[32m━━━━━━━━━━━━━━━━━━━━\u001b[0m\u001b[37m\u001b[0m \u001b[1m193s\u001b[0m 237ms/step - accuracy: 0.9493 - auc: 0.9472 - f1_score: 0.5931 - loss: 0.0299 - precision: 0.7637 - recall: 0.5101 - val_accuracy: 0.9336 - val_auc: 0.7597 - val_f1_score: 0.2198 - val_loss: 0.0718 - val_precision: 0.3236 - val_recall: 0.1832 - learning_rate: 1.0000e-06\n"
     ]
    },
    {
     "name": "stderr",
     "output_type": "stream",
     "text": [
      "2025-06-15 14:44:14 - INFO - \n",
      "=== Starting Epoch 49 ===\n",
      "\n"
     ]
    },
    {
     "name": "stdout",
     "output_type": "stream",
     "text": [
      "Epoch 49/100\n",
      "\u001b[1m813/813\u001b[0m \u001b[32m━━━━━━━━━━━━━━━━━━━━\u001b[0m\u001b[37m\u001b[0m \u001b[1m0s\u001b[0m 223ms/step - accuracy: 0.9491 - auc: 0.9479 - f1_score: 0.5903 - loss: 0.0298 - precision: 0.7609 - recall: 0.5077  "
     ]
    },
    {
     "name": "stderr",
     "output_type": "stream",
     "text": [
      "2025-06-15 14:47:26 - INFO - \n",
      "=== Epoch 49 Summary ===\n",
      "2025-06-15 14:47:26 - INFO - Time: 192.02s\n",
      "2025-06-15 14:47:26 - INFO - Training   - accuracy: 0.9496 - auc: 0.9485 - f1_score: 0.5948 - loss: 0.0297 - precision: 0.7627 - recall: 0.5124 - learning_rate: 0.0000\n",
      "2025-06-15 14:47:26 - INFO - Validation - accuracy: 0.9320 - auc: 0.7601 - f1_score: 0.2483 - loss: 0.0703 - precision: 0.3313 - recall: 0.2229\n",
      "2025-06-15 14:47:26 - INFO - ==================================================\n",
      "\n"
     ]
    },
    {
     "name": "stdout",
     "output_type": "stream",
     "text": [
      "\u001b[1m813/813\u001b[0m \u001b[32m━━━━━━━━━━━━━━━━━━━━\u001b[0m\u001b[37m\u001b[0m \u001b[1m192s\u001b[0m 236ms/step - accuracy: 0.9491 - auc: 0.9479 - f1_score: 0.5904 - loss: 0.0298 - precision: 0.7609 - recall: 0.5077 - val_accuracy: 0.9320 - val_auc: 0.7601 - val_f1_score: 0.2483 - val_loss: 0.0703 - val_precision: 0.3313 - val_recall: 0.2229 - learning_rate: 1.0000e-06\n"
     ]
    },
    {
     "name": "stderr",
     "output_type": "stream",
     "text": [
      "2025-06-15 14:47:26 - INFO - \n",
      "=== Starting Epoch 50 ===\n",
      "\n"
     ]
    },
    {
     "name": "stdout",
     "output_type": "stream",
     "text": [
      "Epoch 50/100\n",
      "\u001b[1m813/813\u001b[0m \u001b[32m━━━━━━━━━━━━━━━━━━━━\u001b[0m\u001b[37m\u001b[0m \u001b[1m0s\u001b[0m 219ms/step - accuracy: 0.9500 - auc: 0.9485 - f1_score: 0.5991 - loss: 0.0297 - precision: 0.7618 - recall: 0.5182  "
     ]
    },
    {
     "name": "stderr",
     "output_type": "stream",
     "text": [
      "2025-06-15 14:50:34 - INFO - \n",
      "=== Epoch 50 Summary ===\n",
      "2025-06-15 14:50:34 - INFO - Time: 187.98s\n",
      "2025-06-15 14:50:34 - INFO - Training   - accuracy: 0.9501 - auc: 0.9488 - f1_score: 0.6003 - loss: 0.0295 - precision: 0.7645 - recall: 0.5190 - learning_rate: 0.0000\n",
      "2025-06-15 14:50:34 - INFO - Validation - accuracy: 0.9330 - auc: 0.7568 - f1_score: 0.2309 - loss: 0.0718 - precision: 0.3296 - recall: 0.2024\n",
      "2025-06-15 14:50:34 - INFO - ==================================================\n",
      "\n"
     ]
    },
    {
     "name": "stdout",
     "output_type": "stream",
     "text": [
      "\u001b[1m813/813\u001b[0m \u001b[32m━━━━━━━━━━━━━━━━━━━━\u001b[0m\u001b[37m\u001b[0m \u001b[1m188s\u001b[0m 231ms/step - accuracy: 0.9500 - auc: 0.9485 - f1_score: 0.5991 - loss: 0.0297 - precision: 0.7618 - recall: 0.5182 - val_accuracy: 0.9330 - val_auc: 0.7568 - val_f1_score: 0.2309 - val_loss: 0.0718 - val_precision: 0.3296 - val_recall: 0.2024 - learning_rate: 1.0000e-06\n"
     ]
    },
    {
     "name": "stderr",
     "output_type": "stream",
     "text": [
      "2025-06-15 14:50:34 - INFO - \n",
      "=== Starting Epoch 51 ===\n",
      "\n"
     ]
    },
    {
     "name": "stdout",
     "output_type": "stream",
     "text": [
      "Epoch 51/100\n",
      "\u001b[1m813/813\u001b[0m \u001b[32m━━━━━━━━━━━━━━━━━━━━\u001b[0m\u001b[37m\u001b[0m \u001b[1m0s\u001b[0m 299ms/step - accuracy: 0.9509 - auc: 0.9501 - f1_score: 0.6057 - loss: 0.0293 - precision: 0.7683 - recall: 0.5239  "
     ]
    },
    {
     "name": "stderr",
     "output_type": "stream",
     "text": [
      "2025-06-15 14:54:47 - INFO - \n",
      "=== Epoch 51 Summary ===\n",
      "2025-06-15 14:54:47 - INFO - Time: 253.05s\n",
      "2025-06-15 14:54:47 - INFO - Training   - accuracy: 0.9507 - auc: 0.9502 - f1_score: 0.6060 - loss: 0.0292 - precision: 0.7678 - recall: 0.5244 - learning_rate: 0.0000\n",
      "2025-06-15 14:54:47 - INFO - Validation - accuracy: 0.9330 - auc: 0.7591 - f1_score: 0.2152 - loss: 0.0745 - precision: 0.3144 - recall: 0.1776\n",
      "2025-06-15 14:54:47 - INFO - ==================================================\n",
      "\n"
     ]
    },
    {
     "name": "stdout",
     "output_type": "stream",
     "text": [
      "\u001b[1m813/813\u001b[0m \u001b[32m━━━━━━━━━━━━━━━━━━━━\u001b[0m\u001b[37m\u001b[0m \u001b[1m253s\u001b[0m 311ms/step - accuracy: 0.9509 - auc: 0.9501 - f1_score: 0.6057 - loss: 0.0293 - precision: 0.7683 - recall: 0.5239 - val_accuracy: 0.9330 - val_auc: 0.7591 - val_f1_score: 0.2152 - val_loss: 0.0745 - val_precision: 0.3144 - val_recall: 0.1776 - learning_rate: 1.0000e-06\n"
     ]
    },
    {
     "name": "stderr",
     "output_type": "stream",
     "text": [
      "2025-06-15 14:54:47 - INFO - \n",
      "=== Starting Epoch 52 ===\n",
      "\n"
     ]
    },
    {
     "name": "stdout",
     "output_type": "stream",
     "text": [
      "Epoch 52/100\n",
      "\u001b[1m813/813\u001b[0m \u001b[32m━━━━━━━━━━━━━━━━━━━━\u001b[0m\u001b[37m\u001b[0m \u001b[1m0s\u001b[0m 345ms/step - accuracy: 0.9506 - auc: 0.9504 - f1_score: 0.6062 - loss: 0.0293 - precision: 0.7699 - recall: 0.5246  "
     ]
    },
    {
     "name": "stderr",
     "output_type": "stream",
     "text": [
      "2025-06-15 14:59:38 - INFO - \n",
      "=== Epoch 52 Summary ===\n",
      "2025-06-15 14:59:38 - INFO - Time: 290.49s\n",
      "2025-06-15 14:59:38 - INFO - Training   - accuracy: 0.9508 - auc: 0.9507 - f1_score: 0.6068 - loss: 0.0292 - precision: 0.7691 - recall: 0.5253 - learning_rate: 0.0000\n",
      "2025-06-15 14:59:38 - INFO - Validation - accuracy: 0.9347 - auc: 0.7594 - f1_score: 0.2267 - loss: 0.0716 - precision: 0.3401 - recall: 0.1899\n",
      "2025-06-15 14:59:38 - INFO - ==================================================\n",
      "\n"
     ]
    },
    {
     "name": "stdout",
     "output_type": "stream",
     "text": [
      "\u001b[1m813/813\u001b[0m \u001b[32m━━━━━━━━━━━━━━━━━━━━\u001b[0m\u001b[37m\u001b[0m \u001b[1m290s\u001b[0m 357ms/step - accuracy: 0.9506 - auc: 0.9504 - f1_score: 0.6062 - loss: 0.0293 - precision: 0.7699 - recall: 0.5246 - val_accuracy: 0.9347 - val_auc: 0.7594 - val_f1_score: 0.2267 - val_loss: 0.0716 - val_precision: 0.3401 - val_recall: 0.1899 - learning_rate: 1.0000e-06\n"
     ]
    },
    {
     "name": "stderr",
     "output_type": "stream",
     "text": [
      "2025-06-15 14:59:38 - INFO - \n",
      "=== Starting Epoch 53 ===\n",
      "\n"
     ]
    },
    {
     "name": "stdout",
     "output_type": "stream",
     "text": [
      "Epoch 53/100\n",
      "\u001b[1m813/813\u001b[0m \u001b[32m━━━━━━━━━━━━━━━━━━━━\u001b[0m\u001b[37m\u001b[0m \u001b[1m0s\u001b[0m 328ms/step - accuracy: 0.9508 - auc: 0.9514 - f1_score: 0.6100 - loss: 0.0292 - precision: 0.7736 - recall: 0.5272  "
     ]
    },
    {
     "name": "stderr",
     "output_type": "stream",
     "text": [
      "2025-06-15 15:04:14 - INFO - \n",
      "=== Epoch 53 Summary ===\n",
      "2025-06-15 15:04:14 - INFO - Time: 276.48s\n",
      "2025-06-15 15:04:14 - INFO - Training   - accuracy: 0.9513 - auc: 0.9519 - f1_score: 0.6123 - loss: 0.0289 - precision: 0.7729 - recall: 0.5305 - learning_rate: 0.0000\n",
      "2025-06-15 15:04:14 - INFO - Validation - accuracy: 0.9304 - auc: 0.7561 - f1_score: 0.2089 - loss: 0.0769 - precision: 0.2912 - recall: 0.1785\n",
      "2025-06-15 15:04:14 - INFO - ==================================================\n",
      "\n"
     ]
    },
    {
     "name": "stdout",
     "output_type": "stream",
     "text": [
      "\u001b[1m813/813\u001b[0m \u001b[32m━━━━━━━━━━━━━━━━━━━━\u001b[0m\u001b[37m\u001b[0m \u001b[1m276s\u001b[0m 340ms/step - accuracy: 0.9508 - auc: 0.9514 - f1_score: 0.6101 - loss: 0.0292 - precision: 0.7736 - recall: 0.5272 - val_accuracy: 0.9304 - val_auc: 0.7561 - val_f1_score: 0.2089 - val_loss: 0.0769 - val_precision: 0.2912 - val_recall: 0.1785 - learning_rate: 1.0000e-06\n"
     ]
    },
    {
     "name": "stderr",
     "output_type": "stream",
     "text": [
      "2025-06-15 15:04:14 - INFO - \n",
      "=== Starting Epoch 54 ===\n",
      "\n"
     ]
    },
    {
     "name": "stdout",
     "output_type": "stream",
     "text": [
      "Epoch 54/100\n",
      "\u001b[1m813/813\u001b[0m \u001b[32m━━━━━━━━━━━━━━━━━━━━\u001b[0m\u001b[37m\u001b[0m \u001b[1m0s\u001b[0m 225ms/step - accuracy: 0.9510 - auc: 0.9518 - f1_score: 0.6118 - loss: 0.0290 - precision: 0.7728 - recall: 0.5295  "
     ]
    },
    {
     "name": "stderr",
     "output_type": "stream",
     "text": [
      "2025-06-15 15:07:26 - INFO - \n",
      "=== Epoch 54 Summary ===\n",
      "2025-06-15 15:07:26 - INFO - Time: 192.37s\n",
      "2025-06-15 15:07:26 - INFO - Training   - accuracy: 0.9513 - auc: 0.9523 - f1_score: 0.6145 - loss: 0.0288 - precision: 0.7719 - recall: 0.5332 - learning_rate: 0.0000\n",
      "2025-06-15 15:07:26 - INFO - Validation - accuracy: 0.9334 - auc: 0.7585 - f1_score: 0.2362 - loss: 0.0721 - precision: 0.3332 - recall: 0.2017\n",
      "2025-06-15 15:07:26 - INFO - ==================================================\n",
      "\n"
     ]
    },
    {
     "name": "stdout",
     "output_type": "stream",
     "text": [
      "\u001b[1m813/813\u001b[0m \u001b[32m━━━━━━━━━━━━━━━━━━━━\u001b[0m\u001b[37m\u001b[0m \u001b[1m192s\u001b[0m 237ms/step - accuracy: 0.9510 - auc: 0.9518 - f1_score: 0.6118 - loss: 0.0290 - precision: 0.7728 - recall: 0.5295 - val_accuracy: 0.9334 - val_auc: 0.7585 - val_f1_score: 0.2362 - val_loss: 0.0721 - val_precision: 0.3332 - val_recall: 0.2017 - learning_rate: 1.0000e-06\n"
     ]
    },
    {
     "name": "stderr",
     "output_type": "stream",
     "text": [
      "2025-06-15 15:07:26 - INFO - \n",
      "=== Starting Epoch 55 ===\n",
      "\n"
     ]
    },
    {
     "name": "stdout",
     "output_type": "stream",
     "text": [
      "Epoch 55/100\n",
      "\u001b[1m813/813\u001b[0m \u001b[32m━━━━━━━━━━━━━━━━━━━━\u001b[0m\u001b[37m\u001b[0m \u001b[1m0s\u001b[0m 219ms/step - accuracy: 0.9515 - auc: 0.9523 - f1_score: 0.6152 - loss: 0.0287 - precision: 0.7713 - recall: 0.5346  "
     ]
    },
    {
     "name": "stderr",
     "output_type": "stream",
     "text": [
      "2025-06-15 15:10:34 - INFO - \n",
      "=== Epoch 55 Summary ===\n",
      "2025-06-15 15:10:34 - INFO - Time: 187.77s\n",
      "2025-06-15 15:10:34 - INFO - Training   - accuracy: 0.9518 - auc: 0.9529 - f1_score: 0.6187 - loss: 0.0286 - precision: 0.7740 - recall: 0.5380 - learning_rate: 0.0000\n",
      "2025-06-15 15:10:34 - INFO - Validation - accuracy: 0.9315 - auc: 0.7579 - f1_score: 0.2199 - loss: 0.0762 - precision: 0.3100 - recall: 0.1933\n",
      "2025-06-15 15:10:34 - INFO - ==================================================\n",
      "\n"
     ]
    },
    {
     "name": "stdout",
     "output_type": "stream",
     "text": [
      "\u001b[1m813/813\u001b[0m \u001b[32m━━━━━━━━━━━━━━━━━━━━\u001b[0m\u001b[37m\u001b[0m \u001b[1m188s\u001b[0m 231ms/step - accuracy: 0.9515 - auc: 0.9523 - f1_score: 0.6152 - loss: 0.0287 - precision: 0.7713 - recall: 0.5346 - val_accuracy: 0.9315 - val_auc: 0.7579 - val_f1_score: 0.2199 - val_loss: 0.0762 - val_precision: 0.3100 - val_recall: 0.1933 - learning_rate: 1.0000e-06\n"
     ]
    },
    {
     "name": "stderr",
     "output_type": "stream",
     "text": [
      "2025-06-15 15:10:34 - INFO - \n",
      "=== Starting Epoch 56 ===\n",
      "\n"
     ]
    },
    {
     "name": "stdout",
     "output_type": "stream",
     "text": [
      "Epoch 56/100\n",
      "\u001b[1m813/813\u001b[0m \u001b[32m━━━━━━━━━━━━━━━━━━━━\u001b[0m\u001b[37m\u001b[0m \u001b[1m0s\u001b[0m 320ms/step - accuracy: 0.9518 - auc: 0.9534 - f1_score: 0.6200 - loss: 0.0285 - precision: 0.7730 - recall: 0.5402  "
     ]
    },
    {
     "name": "stderr",
     "output_type": "stream",
     "text": [
      "2025-06-15 15:15:04 - INFO - \n",
      "=== Epoch 56 Summary ===\n",
      "2025-06-15 15:15:04 - INFO - Time: 269.80s\n",
      "2025-06-15 15:15:04 - INFO - Training   - accuracy: 0.9522 - auc: 0.9539 - f1_score: 0.6221 - loss: 0.0284 - precision: 0.7758 - recall: 0.5419 - learning_rate: 0.0000\n",
      "2025-06-15 15:15:04 - INFO - Validation - accuracy: 0.9351 - auc: 0.7572 - f1_score: 0.2170 - loss: 0.0730 - precision: 0.3411 - recall: 0.1851\n",
      "2025-06-15 15:15:04 - INFO - ==================================================\n",
      "\n"
     ]
    },
    {
     "name": "stdout",
     "output_type": "stream",
     "text": [
      "\u001b[1m813/813\u001b[0m \u001b[32m━━━━━━━━━━━━━━━━━━━━\u001b[0m\u001b[37m\u001b[0m \u001b[1m270s\u001b[0m 332ms/step - accuracy: 0.9518 - auc: 0.9534 - f1_score: 0.6200 - loss: 0.0285 - precision: 0.7730 - recall: 0.5402 - val_accuracy: 0.9351 - val_auc: 0.7572 - val_f1_score: 0.2170 - val_loss: 0.0730 - val_precision: 0.3411 - val_recall: 0.1851 - learning_rate: 1.0000e-06\n"
     ]
    },
    {
     "name": "stderr",
     "output_type": "stream",
     "text": [
      "2025-06-15 15:15:04 - INFO - \n",
      "=== Starting Epoch 57 ===\n",
      "\n"
     ]
    },
    {
     "name": "stdout",
     "output_type": "stream",
     "text": [
      "Epoch 57/100\n",
      "\u001b[1m813/813\u001b[0m \u001b[32m━━━━━━━━━━━━━━━━━━━━\u001b[0m\u001b[37m\u001b[0m \u001b[1m0s\u001b[0m 425ms/step - accuracy: 0.9525 - auc: 0.9545 - f1_score: 0.6257 - loss: 0.0284 - precision: 0.7810 - recall: 0.5450  "
     ]
    },
    {
     "name": "stderr",
     "output_type": "stream",
     "text": [
      "2025-06-15 15:20:59 - INFO - \n",
      "=== Epoch 57 Summary ===\n",
      "2025-06-15 15:20:59 - INFO - Time: 355.39s\n",
      "2025-06-15 15:20:59 - INFO - Training   - accuracy: 0.9526 - auc: 0.9548 - f1_score: 0.6266 - loss: 0.0283 - precision: 0.7788 - recall: 0.5466 - learning_rate: 0.0000\n",
      "2025-06-15 15:20:59 - INFO - Validation - accuracy: 0.9323 - auc: 0.7585 - f1_score: 0.2385 - loss: 0.0725 - precision: 0.3220 - recall: 0.2011\n",
      "2025-06-15 15:20:59 - INFO - ==================================================\n",
      "\n"
     ]
    },
    {
     "name": "stdout",
     "output_type": "stream",
     "text": [
      "\u001b[1m813/813\u001b[0m \u001b[32m━━━━━━━━━━━━━━━━━━━━\u001b[0m\u001b[37m\u001b[0m \u001b[1m355s\u001b[0m 437ms/step - accuracy: 0.9525 - auc: 0.9545 - f1_score: 0.6257 - loss: 0.0284 - precision: 0.7810 - recall: 0.5450 - val_accuracy: 0.9323 - val_auc: 0.7585 - val_f1_score: 0.2385 - val_loss: 0.0725 - val_precision: 0.3220 - val_recall: 0.2011 - learning_rate: 1.0000e-06\n"
     ]
    },
    {
     "name": "stderr",
     "output_type": "stream",
     "text": [
      "2025-06-15 15:20:59 - INFO - \n",
      "=== Starting Epoch 58 ===\n",
      "\n"
     ]
    },
    {
     "name": "stdout",
     "output_type": "stream",
     "text": [
      "Epoch 58/100\n",
      "\u001b[1m813/813\u001b[0m \u001b[32m━━━━━━━━━━━━━━━━━━━━\u001b[0m\u001b[37m\u001b[0m \u001b[1m0s\u001b[0m 401ms/step - accuracy: 0.9526 - auc: 0.9545 - f1_score: 0.6290 - loss: 0.0282 - precision: 0.7809 - recall: 0.5478  "
     ]
    },
    {
     "name": "stderr",
     "output_type": "stream",
     "text": [
      "2025-06-15 15:26:35 - INFO - \n",
      "=== Epoch 58 Summary ===\n",
      "2025-06-15 15:26:35 - INFO - Time: 335.77s\n",
      "2025-06-15 15:26:35 - INFO - Training   - accuracy: 0.9528 - auc: 0.9550 - f1_score: 0.6287 - loss: 0.0281 - precision: 0.7797 - recall: 0.5486 - learning_rate: 0.0000\n",
      "2025-06-15 15:26:35 - INFO - Validation - accuracy: 0.9329 - auc: 0.7539 - f1_score: 0.2142 - loss: 0.0763 - precision: 0.3189 - recall: 0.1866\n",
      "2025-06-15 15:26:35 - INFO - ==================================================\n",
      "\n"
     ]
    },
    {
     "name": "stdout",
     "output_type": "stream",
     "text": [
      "\u001b[1m813/813\u001b[0m \u001b[32m━━━━━━━━━━━━━━━━━━━━\u001b[0m\u001b[37m\u001b[0m \u001b[1m336s\u001b[0m 413ms/step - accuracy: 0.9526 - auc: 0.9545 - f1_score: 0.6290 - loss: 0.0282 - precision: 0.7809 - recall: 0.5478 - val_accuracy: 0.9329 - val_auc: 0.7539 - val_f1_score: 0.2142 - val_loss: 0.0763 - val_precision: 0.3189 - val_recall: 0.1866 - learning_rate: 1.0000e-06\n"
     ]
    },
    {
     "name": "stderr",
     "output_type": "stream",
     "text": [
      "2025-06-15 15:26:35 - INFO - \n",
      "=== Starting Epoch 59 ===\n",
      "\n"
     ]
    },
    {
     "name": "stdout",
     "output_type": "stream",
     "text": [
      "Epoch 59/100\n",
      "\u001b[1m813/813\u001b[0m \u001b[32m━━━━━━━━━━━━━━━━━━━━\u001b[0m\u001b[37m\u001b[0m \u001b[1m0s\u001b[0m 394ms/step - accuracy: 0.9531 - auc: 0.9554 - f1_score: 0.6311 - loss: 0.0281 - precision: 0.7820 - recall: 0.5510  "
     ]
    },
    {
     "name": "stderr",
     "output_type": "stream",
     "text": [
      "2025-06-15 15:32:06 - INFO - \n",
      "=== Epoch 59 Summary ===\n",
      "2025-06-15 15:32:06 - INFO - Time: 330.59s\n",
      "2025-06-15 15:32:06 - INFO - Training   - accuracy: 0.9531 - auc: 0.9558 - f1_score: 0.6313 - loss: 0.0281 - precision: 0.7807 - recall: 0.5514 - learning_rate: 0.0000\n",
      "2025-06-15 15:32:06 - INFO - Validation - accuracy: 0.9283 - auc: 0.7537 - f1_score: 0.2594 - loss: 0.0737 - precision: 0.3113 - recall: 0.2436\n",
      "2025-06-15 15:32:06 - INFO - ==================================================\n",
      "\n"
     ]
    },
    {
     "name": "stdout",
     "output_type": "stream",
     "text": [
      "\u001b[1m813/813\u001b[0m \u001b[32m━━━━━━━━━━━━━━━━━━━━\u001b[0m\u001b[37m\u001b[0m \u001b[1m331s\u001b[0m 407ms/step - accuracy: 0.9531 - auc: 0.9554 - f1_score: 0.6311 - loss: 0.0281 - precision: 0.7820 - recall: 0.5510 - val_accuracy: 0.9283 - val_auc: 0.7537 - val_f1_score: 0.2594 - val_loss: 0.0737 - val_precision: 0.3113 - val_recall: 0.2436 - learning_rate: 1.0000e-06\n"
     ]
    },
    {
     "name": "stderr",
     "output_type": "stream",
     "text": [
      "2025-06-15 15:32:06 - INFO - \n",
      "=== Starting Epoch 60 ===\n",
      "\n"
     ]
    },
    {
     "name": "stdout",
     "output_type": "stream",
     "text": [
      "Epoch 60/100\n",
      "\u001b[1m813/813\u001b[0m \u001b[32m━━━━━━━━━━━━━━━━━━━━\u001b[0m\u001b[37m\u001b[0m \u001b[1m0s\u001b[0m 566ms/step - accuracy: 0.9529 - auc: 0.9558 - f1_score: 0.6313 - loss: 0.0279 - precision: 0.7805 - recall: 0.5516  "
     ]
    },
    {
     "name": "stderr",
     "output_type": "stream",
     "text": [
      "2025-06-15 15:39:55 - INFO - \n",
      "=== Epoch 60 Summary ===\n",
      "2025-06-15 15:39:55 - INFO - Time: 469.42s\n",
      "2025-06-15 15:39:55 - INFO - Training   - accuracy: 0.9533 - auc: 0.9561 - f1_score: 0.6333 - loss: 0.0278 - precision: 0.7820 - recall: 0.5538 - learning_rate: 0.0000\n",
      "2025-06-15 15:39:55 - INFO - Validation - accuracy: 0.9321 - auc: 0.7586 - f1_score: 0.2256 - loss: 0.0760 - precision: 0.3118 - recall: 0.1867\n",
      "2025-06-15 15:39:55 - INFO - ==================================================\n",
      "\n"
     ]
    },
    {
     "name": "stdout",
     "output_type": "stream",
     "text": [
      "\u001b[1m813/813\u001b[0m \u001b[32m━━━━━━━━━━━━━━━━━━━━\u001b[0m\u001b[37m\u001b[0m \u001b[1m469s\u001b[0m 578ms/step - accuracy: 0.9529 - auc: 0.9558 - f1_score: 0.6313 - loss: 0.0279 - precision: 0.7805 - recall: 0.5516 - val_accuracy: 0.9321 - val_auc: 0.7586 - val_f1_score: 0.2256 - val_loss: 0.0760 - val_precision: 0.3118 - val_recall: 0.1867 - learning_rate: 1.0000e-06\n"
     ]
    },
    {
     "name": "stderr",
     "output_type": "stream",
     "text": [
      "2025-06-15 15:39:55 - INFO - \n",
      "=== Starting Epoch 61 ===\n",
      "\n"
     ]
    },
    {
     "name": "stdout",
     "output_type": "stream",
     "text": [
      "Epoch 61/100\n",
      "\u001b[1m813/813\u001b[0m \u001b[32m━━━━━━━━━━━━━━━━━━━━\u001b[0m\u001b[37m\u001b[0m \u001b[1m0s\u001b[0m 581ms/step - accuracy: 0.9533 - auc: 0.9565 - f1_score: 0.6362 - loss: 0.0279 - precision: 0.7837 - recall: 0.5567  "
     ]
    },
    {
     "name": "stderr",
     "output_type": "stream",
     "text": [
      "2025-06-15 15:47:57 - INFO - \n",
      "=== Epoch 61 Summary ===\n",
      "2025-06-15 15:47:57 - INFO - Time: 481.90s\n",
      "2025-06-15 15:47:57 - INFO - Training   - accuracy: 0.9537 - auc: 0.9572 - f1_score: 0.6388 - loss: 0.0277 - precision: 0.7841 - recall: 0.5598 - learning_rate: 0.0000\n",
      "2025-06-15 15:47:57 - INFO - Validation - accuracy: 0.9339 - auc: 0.7576 - f1_score: 0.2249 - loss: 0.0756 - precision: 0.3361 - recall: 0.1979\n",
      "2025-06-15 15:47:57 - INFO - ==================================================\n",
      "\n"
     ]
    },
    {
     "name": "stdout",
     "output_type": "stream",
     "text": [
      "\u001b[1m813/813\u001b[0m \u001b[32m━━━━━━━━━━━━━━━━━━━━\u001b[0m\u001b[37m\u001b[0m \u001b[1m482s\u001b[0m 593ms/step - accuracy: 0.9533 - auc: 0.9565 - f1_score: 0.6362 - loss: 0.0279 - precision: 0.7837 - recall: 0.5567 - val_accuracy: 0.9339 - val_auc: 0.7576 - val_f1_score: 0.2249 - val_loss: 0.0756 - val_precision: 0.3361 - val_recall: 0.1979 - learning_rate: 1.0000e-06\n"
     ]
    },
    {
     "name": "stderr",
     "output_type": "stream",
     "text": [
      "2025-06-15 15:47:57 - INFO - \n",
      "=== Starting Epoch 62 ===\n",
      "\n"
     ]
    },
    {
     "name": "stdout",
     "output_type": "stream",
     "text": [
      "Epoch 62/100\n",
      "\u001b[1m813/813\u001b[0m \u001b[32m━━━━━━━━━━━━━━━━━━━━\u001b[0m\u001b[37m\u001b[0m \u001b[1m0s\u001b[0m 588ms/step - accuracy: 0.9539 - auc: 0.9576 - f1_score: 0.6408 - loss: 0.0277 - precision: 0.7861 - recall: 0.5617  "
     ]
    },
    {
     "name": "stderr",
     "output_type": "stream",
     "text": [
      "2025-06-15 15:56:05 - INFO - \n",
      "=== Epoch 62 Summary ===\n",
      "2025-06-15 15:56:05 - INFO - Time: 487.49s\n",
      "2025-06-15 15:56:05 - INFO - Training   - accuracy: 0.9538 - auc: 0.9575 - f1_score: 0.6394 - loss: 0.0276 - precision: 0.7844 - recall: 0.5610 - learning_rate: 0.0000\n",
      "2025-06-15 15:56:05 - INFO - Validation - accuracy: 0.9338 - auc: 0.7583 - f1_score: 0.2423 - loss: 0.0752 - precision: 0.3357 - recall: 0.2002\n",
      "2025-06-15 15:56:05 - INFO - ==================================================\n",
      "\n"
     ]
    },
    {
     "name": "stdout",
     "output_type": "stream",
     "text": [
      "\u001b[1m813/813\u001b[0m \u001b[32m━━━━━━━━━━━━━━━━━━━━\u001b[0m\u001b[37m\u001b[0m \u001b[1m487s\u001b[0m 600ms/step - accuracy: 0.9539 - auc: 0.9576 - f1_score: 0.6408 - loss: 0.0277 - precision: 0.7861 - recall: 0.5617 - val_accuracy: 0.9338 - val_auc: 0.7583 - val_f1_score: 0.2423 - val_loss: 0.0752 - val_precision: 0.3357 - val_recall: 0.2002 - learning_rate: 1.0000e-06\n"
     ]
    },
    {
     "name": "stderr",
     "output_type": "stream",
     "text": [
      "2025-06-15 15:56:05 - INFO - \n",
      "=== Starting Epoch 63 ===\n",
      "\n"
     ]
    },
    {
     "name": "stdout",
     "output_type": "stream",
     "text": [
      "Epoch 63/100\n",
      "\u001b[1m813/813\u001b[0m \u001b[32m━━━━━━━━━━━━━━━━━━━━\u001b[0m\u001b[37m\u001b[0m \u001b[1m0s\u001b[0m 610ms/step - accuracy: 0.9544 - auc: 0.9586 - f1_score: 0.6456 - loss: 0.0274 - precision: 0.7880 - recall: 0.5670  "
     ]
    },
    {
     "name": "stderr",
     "output_type": "stream",
     "text": [
      "2025-06-15 16:04:30 - INFO - \n",
      "=== Epoch 63 Summary ===\n",
      "2025-06-15 16:04:30 - INFO - Time: 505.23s\n",
      "2025-06-15 16:04:30 - INFO - Training   - accuracy: 0.9543 - auc: 0.9585 - f1_score: 0.6449 - loss: 0.0274 - precision: 0.7870 - recall: 0.5666 - learning_rate: 0.0000\n",
      "2025-06-15 16:04:30 - INFO - Validation - accuracy: 0.9321 - auc: 0.7575 - f1_score: 0.2320 - loss: 0.0770 - precision: 0.3158 - recall: 0.1930\n",
      "2025-06-15 16:04:30 - INFO - ==================================================\n",
      "\n"
     ]
    },
    {
     "name": "stdout",
     "output_type": "stream",
     "text": [
      "\u001b[1m813/813\u001b[0m \u001b[32m━━━━━━━━━━━━━━━━━━━━\u001b[0m\u001b[37m\u001b[0m \u001b[1m505s\u001b[0m 622ms/step - accuracy: 0.9544 - auc: 0.9586 - f1_score: 0.6456 - loss: 0.0274 - precision: 0.7880 - recall: 0.5670 - val_accuracy: 0.9321 - val_auc: 0.7575 - val_f1_score: 0.2320 - val_loss: 0.0770 - val_precision: 0.3158 - val_recall: 0.1930 - learning_rate: 1.0000e-06\n"
     ]
    },
    {
     "name": "stderr",
     "output_type": "stream",
     "text": [
      "2025-06-15 16:04:30 - INFO - \n",
      "=== Starting Epoch 64 ===\n",
      "\n"
     ]
    },
    {
     "name": "stdout",
     "output_type": "stream",
     "text": [
      "Epoch 64/100\n",
      "\u001b[1m813/813\u001b[0m \u001b[32m━━━━━━━━━━━━━━━━━━━━\u001b[0m\u001b[37m\u001b[0m \u001b[1m0s\u001b[0m 513ms/step - accuracy: 0.9545 - auc: 0.9586 - f1_score: 0.6459 - loss: 0.0273 - precision: 0.7898 - recall: 0.5665  "
     ]
    },
    {
     "name": "stderr",
     "output_type": "stream",
     "text": [
      "2025-06-15 16:11:37 - INFO - \n",
      "=== Epoch 64 Summary ===\n",
      "2025-06-15 16:11:37 - INFO - Time: 426.70s\n",
      "2025-06-15 16:11:37 - INFO - Training   - accuracy: 0.9547 - auc: 0.9590 - f1_score: 0.6474 - loss: 0.0272 - precision: 0.7891 - recall: 0.5692 - learning_rate: 0.0000\n",
      "2025-06-15 16:11:37 - INFO - Validation - accuracy: 0.9314 - auc: 0.7570 - f1_score: 0.2456 - loss: 0.0755 - precision: 0.3162 - recall: 0.2045\n",
      "2025-06-15 16:11:37 - INFO - ==================================================\n",
      "\n"
     ]
    },
    {
     "name": "stdout",
     "output_type": "stream",
     "text": [
      "\u001b[1m813/813\u001b[0m \u001b[32m━━━━━━━━━━━━━━━━━━━━\u001b[0m\u001b[37m\u001b[0m \u001b[1m427s\u001b[0m 525ms/step - accuracy: 0.9545 - auc: 0.9586 - f1_score: 0.6459 - loss: 0.0273 - precision: 0.7898 - recall: 0.5665 - val_accuracy: 0.9314 - val_auc: 0.7570 - val_f1_score: 0.2456 - val_loss: 0.0755 - val_precision: 0.3162 - val_recall: 0.2045 - learning_rate: 1.0000e-06\n"
     ]
    },
    {
     "name": "stderr",
     "output_type": "stream",
     "text": [
      "2025-06-15 16:11:37 - INFO - \n",
      "=== Starting Epoch 65 ===\n",
      "\n"
     ]
    },
    {
     "name": "stdout",
     "output_type": "stream",
     "text": [
      "Epoch 65/100\n",
      "\u001b[1m813/813\u001b[0m \u001b[32m━━━━━━━━━━━━━━━━━━━━\u001b[0m\u001b[37m\u001b[0m \u001b[1m0s\u001b[0m 531ms/step - accuracy: 0.9548 - auc: 0.9592 - f1_score: 0.6510 - loss: 0.0274 - precision: 0.7889 - recall: 0.5731  "
     ]
    },
    {
     "name": "stderr",
     "output_type": "stream",
     "text": [
      "2025-06-15 16:18:58 - INFO - \n",
      "=== Epoch 65 Summary ===\n",
      "2025-06-15 16:18:58 - INFO - Time: 441.35s\n",
      "2025-06-15 16:18:58 - INFO - Training   - accuracy: 0.9549 - auc: 0.9595 - f1_score: 0.6512 - loss: 0.0272 - precision: 0.7905 - recall: 0.5730 - learning_rate: 0.0000\n",
      "2025-06-15 16:18:58 - INFO - Validation - accuracy: 0.9311 - auc: 0.7518 - f1_score: 0.2409 - loss: 0.0762 - precision: 0.3242 - recall: 0.2253\n",
      "2025-06-15 16:18:58 - INFO - ==================================================\n",
      "\n"
     ]
    },
    {
     "name": "stdout",
     "output_type": "stream",
     "text": [
      "\u001b[1m813/813\u001b[0m \u001b[32m━━━━━━━━━━━━━━━━━━━━\u001b[0m\u001b[37m\u001b[0m \u001b[1m441s\u001b[0m 543ms/step - accuracy: 0.9548 - auc: 0.9592 - f1_score: 0.6510 - loss: 0.0274 - precision: 0.7889 - recall: 0.5731 - val_accuracy: 0.9311 - val_auc: 0.7518 - val_f1_score: 0.2409 - val_loss: 0.0762 - val_precision: 0.3242 - val_recall: 0.2253 - learning_rate: 1.0000e-06\n"
     ]
    },
    {
     "name": "stderr",
     "output_type": "stream",
     "text": [
      "2025-06-15 16:18:58 - INFO - \n",
      "=== Starting Epoch 66 ===\n",
      "\n"
     ]
    },
    {
     "name": "stdout",
     "output_type": "stream",
     "text": [
      "Epoch 66/100\n",
      "\u001b[1m813/813\u001b[0m \u001b[32m━━━━━━━━━━━━━━━━━━━━\u001b[0m\u001b[37m\u001b[0m \u001b[1m0s\u001b[0m 591ms/step - accuracy: 0.9548 - auc: 0.9596 - f1_score: 0.6499 - loss: 0.0272 - precision: 0.7880 - recall: 0.5725  "
     ]
    },
    {
     "name": "stderr",
     "output_type": "stream",
     "text": [
      "2025-06-15 16:27:08 - INFO - \n",
      "=== Epoch 66 Summary ===\n",
      "2025-06-15 16:27:08 - INFO - Time: 490.21s\n",
      "2025-06-15 16:27:08 - INFO - Training   - accuracy: 0.9551 - auc: 0.9600 - f1_score: 0.6528 - loss: 0.0271 - precision: 0.7895 - recall: 0.5758 - learning_rate: 0.0000\n",
      "2025-06-15 16:27:08 - INFO - Validation - accuracy: 0.9318 - auc: 0.7575 - f1_score: 0.2474 - loss: 0.0765 - precision: 0.3225 - recall: 0.2109\n",
      "2025-06-15 16:27:08 - INFO - ==================================================\n",
      "\n"
     ]
    },
    {
     "name": "stdout",
     "output_type": "stream",
     "text": [
      "\u001b[1m813/813\u001b[0m \u001b[32m━━━━━━━━━━━━━━━━━━━━\u001b[0m\u001b[37m\u001b[0m \u001b[1m490s\u001b[0m 603ms/step - accuracy: 0.9548 - auc: 0.9596 - f1_score: 0.6499 - loss: 0.0272 - precision: 0.7881 - recall: 0.5726 - val_accuracy: 0.9318 - val_auc: 0.7575 - val_f1_score: 0.2474 - val_loss: 0.0765 - val_precision: 0.3225 - val_recall: 0.2109 - learning_rate: 1.0000e-06\n"
     ]
    },
    {
     "name": "stderr",
     "output_type": "stream",
     "text": [
      "2025-06-15 16:27:08 - INFO - \n",
      "=== Starting Epoch 67 ===\n",
      "\n"
     ]
    },
    {
     "name": "stdout",
     "output_type": "stream",
     "text": [
      "Epoch 67/100\n",
      "\u001b[1m813/813\u001b[0m \u001b[32m━━━━━━━━━━━━━━━━━━━━\u001b[0m\u001b[37m\u001b[0m \u001b[1m0s\u001b[0m 621ms/step - accuracy: 0.9551 - auc: 0.9597 - f1_score: 0.6539 - loss: 0.0271 - precision: 0.7929 - recall: 0.5756  "
     ]
    },
    {
     "name": "stderr",
     "output_type": "stream",
     "text": [
      "2025-06-15 16:35:43 - INFO - \n",
      "=== Epoch 67 Summary ===\n",
      "2025-06-15 16:35:43 - INFO - Time: 514.60s\n",
      "2025-06-15 16:35:43 - INFO - Training   - accuracy: 0.9556 - auc: 0.9604 - f1_score: 0.6569 - loss: 0.0269 - precision: 0.7935 - recall: 0.5794 - learning_rate: 0.0000\n",
      "2025-06-15 16:35:43 - INFO - Validation - accuracy: 0.9247 - auc: 0.7520 - f1_score: 0.2545 - loss: 0.0791 - precision: 0.2892 - recall: 0.2469\n",
      "2025-06-15 16:35:43 - INFO - ==================================================\n",
      "\n"
     ]
    },
    {
     "name": "stdout",
     "output_type": "stream",
     "text": [
      "\u001b[1m813/813\u001b[0m \u001b[32m━━━━━━━━━━━━━━━━━━━━\u001b[0m\u001b[37m\u001b[0m \u001b[1m515s\u001b[0m 633ms/step - accuracy: 0.9551 - auc: 0.9597 - f1_score: 0.6539 - loss: 0.0271 - precision: 0.7929 - recall: 0.5757 - val_accuracy: 0.9247 - val_auc: 0.7520 - val_f1_score: 0.2545 - val_loss: 0.0791 - val_precision: 0.2892 - val_recall: 0.2469 - learning_rate: 1.0000e-06\n"
     ]
    },
    {
     "name": "stderr",
     "output_type": "stream",
     "text": [
      "2025-06-15 16:35:43 - INFO - \n",
      "=== Starting Epoch 68 ===\n",
      "\n"
     ]
    },
    {
     "name": "stdout",
     "output_type": "stream",
     "text": [
      "Epoch 68/100\n",
      "\u001b[1m813/813\u001b[0m \u001b[32m━━━━━━━━━━━━━━━━━━━━\u001b[0m\u001b[37m\u001b[0m \u001b[1m0s\u001b[0m 552ms/step - accuracy: 0.9557 - auc: 0.9604 - f1_score: 0.6581 - loss: 0.0268 - precision: 0.7967 - recall: 0.5799  "
     ]
    },
    {
     "name": "stderr",
     "output_type": "stream",
     "text": [
      "2025-06-15 16:43:21 - INFO - \n",
      "=== Epoch 68 Summary ===\n",
      "2025-06-15 16:43:21 - INFO - Time: 457.87s\n",
      "2025-06-15 16:43:21 - INFO - Training   - accuracy: 0.9560 - auc: 0.9609 - f1_score: 0.6601 - loss: 0.0267 - precision: 0.7972 - recall: 0.5826 - learning_rate: 0.0000\n",
      "2025-06-15 16:43:21 - INFO - Validation - accuracy: 0.9309 - auc: 0.7528 - f1_score: 0.2441 - loss: 0.0774 - precision: 0.3222 - recall: 0.2249\n",
      "2025-06-15 16:43:21 - INFO - ==================================================\n",
      "\n"
     ]
    },
    {
     "name": "stdout",
     "output_type": "stream",
     "text": [
      "\u001b[1m813/813\u001b[0m \u001b[32m━━━━━━━━━━━━━━━━━━━━\u001b[0m\u001b[37m\u001b[0m \u001b[1m458s\u001b[0m 564ms/step - accuracy: 0.9557 - auc: 0.9604 - f1_score: 0.6582 - loss: 0.0268 - precision: 0.7967 - recall: 0.5799 - val_accuracy: 0.9309 - val_auc: 0.7528 - val_f1_score: 0.2441 - val_loss: 0.0774 - val_precision: 0.3222 - val_recall: 0.2249 - learning_rate: 1.0000e-06\n"
     ]
    },
    {
     "name": "stderr",
     "output_type": "stream",
     "text": [
      "2025-06-15 16:43:21 - INFO - \n",
      "=== Starting Epoch 69 ===\n",
      "\n"
     ]
    },
    {
     "name": "stdout",
     "output_type": "stream",
     "text": [
      "Epoch 69/100\n",
      "\u001b[1m813/813\u001b[0m \u001b[32m━━━━━━━━━━━━━━━━━━━━\u001b[0m\u001b[37m\u001b[0m \u001b[1m0s\u001b[0m 220ms/step - accuracy: 0.9560 - auc: 0.9620 - f1_score: 0.6626 - loss: 0.0267 - precision: 0.7967 - recall: 0.5861  "
     ]
    },
    {
     "name": "stderr",
     "output_type": "stream",
     "text": [
      "2025-06-15 16:46:29 - INFO - \n",
      "=== Epoch 69 Summary ===\n",
      "2025-06-15 16:46:29 - INFO - Time: 188.71s\n",
      "2025-06-15 16:46:29 - INFO - Training   - accuracy: 0.9561 - auc: 0.9619 - f1_score: 0.6626 - loss: 0.0266 - precision: 0.7960 - recall: 0.5860 - learning_rate: 0.0000\n",
      "2025-06-15 16:46:29 - INFO - Validation - accuracy: 0.9325 - auc: 0.7558 - f1_score: 0.2448 - loss: 0.0760 - precision: 0.3291 - recall: 0.2107\n",
      "2025-06-15 16:46:29 - INFO - ==================================================\n",
      "\n"
     ]
    },
    {
     "name": "stdout",
     "output_type": "stream",
     "text": [
      "\u001b[1m813/813\u001b[0m \u001b[32m━━━━━━━━━━━━━━━━━━━━\u001b[0m\u001b[37m\u001b[0m \u001b[1m189s\u001b[0m 232ms/step - accuracy: 0.9560 - auc: 0.9620 - f1_score: 0.6626 - loss: 0.0267 - precision: 0.7967 - recall: 0.5861 - val_accuracy: 0.9325 - val_auc: 0.7558 - val_f1_score: 0.2448 - val_loss: 0.0760 - val_precision: 0.3291 - val_recall: 0.2107 - learning_rate: 1.0000e-06\n"
     ]
    },
    {
     "name": "stderr",
     "output_type": "stream",
     "text": [
      "2025-06-15 16:46:29 - INFO - \n",
      "=== Starting Epoch 70 ===\n",
      "\n"
     ]
    },
    {
     "name": "stdout",
     "output_type": "stream",
     "text": [
      "Epoch 70/100\n",
      "\u001b[1m813/813\u001b[0m \u001b[32m━━━━━━━━━━━━━━━━━━━━\u001b[0m\u001b[37m\u001b[0m \u001b[1m0s\u001b[0m 515ms/step - accuracy: 0.9564 - auc: 0.9625 - f1_score: 0.6656 - loss: 0.0266 - precision: 0.7998 - recall: 0.5886  "
     ]
    },
    {
     "name": "stderr",
     "output_type": "stream",
     "text": [
      "2025-06-15 16:53:38 - INFO - \n",
      "=== Epoch 70 Summary ===\n",
      "2025-06-15 16:53:38 - INFO - Time: 428.41s\n",
      "2025-06-15 16:53:38 - INFO - Training   - accuracy: 0.9563 - auc: 0.9626 - f1_score: 0.6642 - loss: 0.0265 - precision: 0.7979 - recall: 0.5879 - learning_rate: 0.0000\n",
      "2025-06-15 16:53:38 - INFO - Validation - accuracy: 0.9278 - auc: 0.7554 - f1_score: 0.2408 - loss: 0.0797 - precision: 0.2924 - recall: 0.2143\n",
      "2025-06-15 16:53:38 - INFO - ==================================================\n",
      "\n"
     ]
    },
    {
     "name": "stdout",
     "output_type": "stream",
     "text": [
      "\u001b[1m813/813\u001b[0m \u001b[32m━━━━━━━━━━━━━━━━━━━━\u001b[0m\u001b[37m\u001b[0m \u001b[1m428s\u001b[0m 527ms/step - accuracy: 0.9564 - auc: 0.9625 - f1_score: 0.6656 - loss: 0.0266 - precision: 0.7998 - recall: 0.5886 - val_accuracy: 0.9278 - val_auc: 0.7554 - val_f1_score: 0.2408 - val_loss: 0.0797 - val_precision: 0.2924 - val_recall: 0.2143 - learning_rate: 1.0000e-06\n"
     ]
    },
    {
     "name": "stderr",
     "output_type": "stream",
     "text": [
      "2025-06-15 16:53:38 - INFO - \n",
      "=== Starting Epoch 71 ===\n",
      "\n"
     ]
    },
    {
     "name": "stdout",
     "output_type": "stream",
     "text": [
      "Epoch 71/100\n",
      "\u001b[1m813/813\u001b[0m \u001b[32m━━━━━━━━━━━━━━━━━━━━\u001b[0m\u001b[37m\u001b[0m \u001b[1m0s\u001b[0m 538ms/step - accuracy: 0.9569 - auc: 0.9630 - f1_score: 0.6689 - loss: 0.0264 - precision: 0.8023 - recall: 0.5918  "
     ]
    },
    {
     "name": "stderr",
     "output_type": "stream",
     "text": [
      "2025-06-15 17:01:05 - INFO - \n",
      "=== Epoch 71 Summary ===\n",
      "2025-06-15 17:01:05 - INFO - Time: 447.27s\n",
      "2025-06-15 17:01:05 - INFO - Training   - accuracy: 0.9569 - auc: 0.9632 - f1_score: 0.6693 - loss: 0.0263 - precision: 0.8019 - recall: 0.5931 - learning_rate: 0.0000\n",
      "2025-06-15 17:01:05 - INFO - Validation - accuracy: 0.9302 - auc: 0.7552 - f1_score: 0.2301 - loss: 0.0808 - precision: 0.2961 - recall: 0.1895\n",
      "2025-06-15 17:01:05 - INFO - ==================================================\n",
      "\n"
     ]
    },
    {
     "name": "stdout",
     "output_type": "stream",
     "text": [
      "\u001b[1m813/813\u001b[0m \u001b[32m━━━━━━━━━━━━━━━━━━━━\u001b[0m\u001b[37m\u001b[0m \u001b[1m447s\u001b[0m 551ms/step - accuracy: 0.9569 - auc: 0.9630 - f1_score: 0.6689 - loss: 0.0264 - precision: 0.8023 - recall: 0.5918 - val_accuracy: 0.9302 - val_auc: 0.7552 - val_f1_score: 0.2301 - val_loss: 0.0808 - val_precision: 0.2961 - val_recall: 0.1895 - learning_rate: 1.0000e-06\n"
     ]
    },
    {
     "name": "stderr",
     "output_type": "stream",
     "text": [
      "2025-06-15 17:01:05 - INFO - \n",
      "=== Starting Epoch 72 ===\n",
      "\n"
     ]
    },
    {
     "name": "stdout",
     "output_type": "stream",
     "text": [
      "Epoch 72/100\n",
      "\u001b[1m813/813\u001b[0m \u001b[32m━━━━━━━━━━━━━━━━━━━━\u001b[0m\u001b[37m\u001b[0m \u001b[1m0s\u001b[0m 616ms/step - accuracy: 0.9569 - auc: 0.9628 - f1_score: 0.6683 - loss: 0.0265 - precision: 0.8006 - recall: 0.5925  "
     ]
    },
    {
     "name": "stderr",
     "output_type": "stream",
     "text": [
      "2025-06-15 17:09:35 - INFO - \n",
      "=== Epoch 72 Summary ===\n",
      "2025-06-15 17:09:35 - INFO - Time: 510.08s\n",
      "2025-06-15 17:09:35 - INFO - Training   - accuracy: 0.9570 - auc: 0.9632 - f1_score: 0.6706 - loss: 0.0263 - precision: 0.8009 - recall: 0.5951 - learning_rate: 0.0000\n",
      "2025-06-15 17:09:35 - INFO - Validation - accuracy: 0.9325 - auc: 0.7576 - f1_score: 0.2471 - loss: 0.0767 - precision: 0.3298 - recall: 0.2118\n",
      "2025-06-15 17:09:35 - INFO - ==================================================\n",
      "\n"
     ]
    },
    {
     "name": "stdout",
     "output_type": "stream",
     "text": [
      "\u001b[1m813/813\u001b[0m \u001b[32m━━━━━━━━━━━━━━━━━━━━\u001b[0m\u001b[37m\u001b[0m \u001b[1m510s\u001b[0m 628ms/step - accuracy: 0.9569 - auc: 0.9628 - f1_score: 0.6683 - loss: 0.0265 - precision: 0.8006 - recall: 0.5925 - val_accuracy: 0.9325 - val_auc: 0.7576 - val_f1_score: 0.2471 - val_loss: 0.0767 - val_precision: 0.3298 - val_recall: 0.2118 - learning_rate: 1.0000e-06\n"
     ]
    },
    {
     "name": "stderr",
     "output_type": "stream",
     "text": [
      "2025-06-15 17:09:35 - INFO - \n",
      "=== Starting Epoch 73 ===\n",
      "\n"
     ]
    },
    {
     "name": "stdout",
     "output_type": "stream",
     "text": [
      "Epoch 73/100\n",
      "\u001b[1m813/813\u001b[0m \u001b[32m━━━━━━━━━━━━━━━━━━━━\u001b[0m\u001b[37m\u001b[0m \u001b[1m0s\u001b[0m 532ms/step - accuracy: 0.9573 - auc: 0.9643 - f1_score: 0.6750 - loss: 0.0262 - precision: 0.8036 - recall: 0.5994  "
     ]
    },
    {
     "name": "stderr",
     "output_type": "stream",
     "text": [
      "2025-06-15 17:16:57 - INFO - \n",
      "=== Epoch 73 Summary ===\n",
      "2025-06-15 17:16:57 - INFO - Time: 442.18s\n",
      "2025-06-15 17:16:57 - INFO - Training   - accuracy: 0.9574 - auc: 0.9643 - f1_score: 0.6753 - loss: 0.0261 - precision: 0.8030 - recall: 0.6002 - learning_rate: 0.0000\n",
      "2025-06-15 17:16:57 - INFO - Validation - accuracy: 0.9257 - auc: 0.7506 - f1_score: 0.2474 - loss: 0.0792 - precision: 0.2929 - recall: 0.2411\n",
      "2025-06-15 17:16:57 - INFO - ==================================================\n",
      "\n"
     ]
    },
    {
     "name": "stdout",
     "output_type": "stream",
     "text": [
      "\u001b[1m813/813\u001b[0m \u001b[32m━━━━━━━━━━━━━━━━━━━━\u001b[0m\u001b[37m\u001b[0m \u001b[1m442s\u001b[0m 544ms/step - accuracy: 0.9573 - auc: 0.9643 - f1_score: 0.6750 - loss: 0.0262 - precision: 0.8036 - recall: 0.5994 - val_accuracy: 0.9257 - val_auc: 0.7506 - val_f1_score: 0.2474 - val_loss: 0.0792 - val_precision: 0.2929 - val_recall: 0.2411 - learning_rate: 1.0000e-06\n"
     ]
    },
    {
     "name": "stderr",
     "output_type": "stream",
     "text": [
      "2025-06-15 17:16:57 - INFO - \n",
      "=== Starting Epoch 74 ===\n",
      "\n"
     ]
    },
    {
     "name": "stdout",
     "output_type": "stream",
     "text": [
      "Epoch 74/100\n",
      "\u001b[1m813/813\u001b[0m \u001b[32m━━━━━━━━━━━━━━━━━━━━\u001b[0m\u001b[37m\u001b[0m \u001b[1m0s\u001b[0m 594ms/step - accuracy: 0.9578 - auc: 0.9647 - f1_score: 0.6788 - loss: 0.0260 - precision: 0.8075 - recall: 0.6033  "
     ]
    },
    {
     "name": "stderr",
     "output_type": "stream",
     "text": [
      "2025-06-15 17:25:10 - INFO - \n",
      "=== Epoch 74 Summary ===\n",
      "2025-06-15 17:25:10 - INFO - Time: 492.30s\n",
      "2025-06-15 17:25:10 - INFO - Training   - accuracy: 0.9577 - auc: 0.9647 - f1_score: 0.6773 - loss: 0.0260 - precision: 0.8044 - recall: 0.6023 - learning_rate: 0.0000\n",
      "2025-06-15 17:25:10 - INFO - Validation - accuracy: 0.9240 - auc: 0.7495 - f1_score: 0.2232 - loss: 0.0852 - precision: 0.2655 - recall: 0.2102\n",
      "2025-06-15 17:25:10 - INFO - ==================================================\n",
      "\n"
     ]
    },
    {
     "name": "stdout",
     "output_type": "stream",
     "text": [
      "\u001b[1m813/813\u001b[0m \u001b[32m━━━━━━━━━━━━━━━━━━━━\u001b[0m\u001b[37m\u001b[0m \u001b[1m492s\u001b[0m 606ms/step - accuracy: 0.9578 - auc: 0.9647 - f1_score: 0.6788 - loss: 0.0260 - precision: 0.8075 - recall: 0.6033 - val_accuracy: 0.9240 - val_auc: 0.7495 - val_f1_score: 0.2232 - val_loss: 0.0852 - val_precision: 0.2655 - val_recall: 0.2102 - learning_rate: 1.0000e-06\n"
     ]
    },
    {
     "name": "stderr",
     "output_type": "stream",
     "text": [
      "2025-06-15 17:25:10 - INFO - \n",
      "=== Training Completed! ===\n",
      "\n",
      "2025-06-15 17:25:10 - INFO - Final Metrics: accuracy: 0.9577 - auc: 0.9647 - f1_score: 0.6773 - loss: 0.0260 - precision: 0.8044 - recall: 0.6023 - val_accuracy: 0.9240 - val_auc: 0.7495 - val_f1_score: 0.2232 - val_loss: 0.0852 - val_precision: 0.2655 - val_recall: 0.2102\n",
      "\n"
     ]
    },
    {
     "name": "stdout",
     "output_type": "stream",
     "text": [
      "Epoch 74: early stopping\n",
      "Restoring model weights from the end of the best epoch: 59.\n"
     ]
    }
   ],
   "source": [
    "# Model Training\n",
    "model          = build_densenet121(num_classes)\n",
    "optimizer      = Adam(learning_rate=1e-4)\n",
    "compile_kwargs = {'optimizer': optimizer, 'loss': loss, 'metrics': metrics}\n",
    "\n",
    "history, model = start_or_resume_training(\n",
    "    model, \n",
    "    compile_kwargs, \n",
    "    train_ds, \n",
    "    val_ds, \n",
    "    TF_MAX_EPOCHS,\n",
    "    steps_per_epoch, \n",
    "    validation_steps, \n",
    "    class_weights=class_weights,\n",
    "    callbacks=[checkpoint, best_checkpoint, reduce_lr, training_logger, metrics_monitor, early_stopping], \n",
    "    checkpoint_path=checkpoint_path,\n",
    "    initial_epoch=initial_epoch,\n",
    "    output_dir=MODELS_PATH,\n",
    "    model_name=model_name,\n",
    "    logger=logger\n",
    ")"
   ]
  },
  {
   "cell_type": "code",
   "execution_count": null,
   "id": "048b711f-28f1-433d-ac5b-b8729218ef96",
   "metadata": {},
   "outputs": [],
   "source": []
  }
 ],
 "metadata": {
  "kernelspec": {
   "display_name": "Python 3 (ipykernel)",
   "language": "python",
   "name": "python3"
  },
  "language_info": {
   "codemirror_mode": {
    "name": "ipython",
    "version": 3
   },
   "file_extension": ".py",
   "mimetype": "text/x-python",
   "name": "python",
   "nbconvert_exporter": "python",
   "pygments_lexer": "ipython3",
   "version": "3.10.16"
  }
 },
 "nbformat": 4,
 "nbformat_minor": 5
}
