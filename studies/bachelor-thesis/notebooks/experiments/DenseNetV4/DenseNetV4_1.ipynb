{
 "cells": [
  {
   "cell_type": "code",
   "execution_count": 1,
   "id": "b694919a-9b18-4068-8e69-7258de889dff",
   "metadata": {},
   "outputs": [
    {
     "name": "stderr",
     "output_type": "stream",
     "text": [
      "2025-06-14 13:42:54.196326: E external/local_xla/xla/stream_executor/cuda/cuda_fft.cc:467] Unable to register cuFFT factory: Attempting to register factory for plugin cuFFT when one has already been registered\n",
      "WARNING: All log messages before absl::InitializeLog() is called are written to STDERR\n",
      "E0000 00:00:1749901374.276260    7974 cuda_dnn.cc:8579] Unable to register cuDNN factory: Attempting to register factory for plugin cuDNN when one has already been registered\n",
      "E0000 00:00:1749901374.299980    7974 cuda_blas.cc:1407] Unable to register cuBLAS factory: Attempting to register factory for plugin cuBLAS when one has already been registered\n",
      "W0000 00:00:1749901374.487796    7974 computation_placer.cc:177] computation placer already registered. Please check linkage and avoid linking the same target more than once.\n",
      "W0000 00:00:1749901374.487806    7974 computation_placer.cc:177] computation placer already registered. Please check linkage and avoid linking the same target more than once.\n",
      "W0000 00:00:1749901374.487808    7974 computation_placer.cc:177] computation placer already registered. Please check linkage and avoid linking the same target more than once.\n",
      "W0000 00:00:1749901374.487808    7974 computation_placer.cc:177] computation placer already registered. Please check linkage and avoid linking the same target more than once.\n"
     ]
    },
    {
     "name": "stdout",
     "output_type": "stream",
     "text": [
      "\n",
      "GPU configuration successful!\n",
      "Device: /physical_device:GPU:0\n",
      "Memory limit: 18.0 GB\n",
      "\n",
      "TensorFlow optimizations status:\n",
      "- CPU Threads: 16 intra-op, 9 inter-op (32 cores total)\n",
      "- XLA JIT: enabled (autoclustering)\n",
      "- Synchronous Execution: enabled\n",
      "\n",
      "GPU Device Details:\n",
      "- Device: GPU /physical_device:GPU:0\n",
      "- Memory limit: 18.0 GB\n"
     ]
    },
    {
     "name": "stderr",
     "output_type": "stream",
     "text": [
      "I0000 00:00:1749901377.813417    7974 gpu_process_state.cc:208] Using CUDA malloc Async allocator for GPU: 0\n",
      "I0000 00:00:1749901377.814169    7974 gpu_device.cc:2019] Created device /job:localhost/replica:0/task:0/device:GPU:0 with 19327352832 MB memory:  -> device: 0, name: NVIDIA GeForce RTX 3090 Ti, pci bus id: 0000:01:00.0, compute capability: 8.6\n"
     ]
    }
   ],
   "source": [
    "# Import dependencies\n",
    "import os\n",
    "\n",
    "os.environ['TF_CPP_MIN_VLOG_LEVEL'] = '0'\n",
    "os.environ['TF_CPP_MIN_LOG_LEVEL'] = '2'\n",
    "os.environ['TF_GPU_ALLOCATOR'] = 'cuda_malloc_async'\n",
    "os.environ['TF_FORCE_GPU_ALLOW_GROWTH'] = 'true'\n",
    "\n",
    "from src.utils.gpu_config import configure_gpu, optimize_tensorflow\n",
    "\n",
    "configure_gpu()\n",
    "optimize_tensorflow()"
   ]
  },
  {
   "cell_type": "code",
   "execution_count": 2,
   "id": "2b854daf-5f2a-4c33-9180-5081cd415b16",
   "metadata": {},
   "outputs": [],
   "source": [
    "# Import Tensorflow Keras\n",
    "from tensorflow.keras.optimizers import Adam\n",
    "from tensorflow.keras.losses import BinaryFocalCrossentropy\n",
    "from tensorflow.keras.callbacks import ReduceLROnPlateau, ModelCheckpoint\n",
    "\n",
    "# Import local modules\n",
    "from src.utils.consts import TF_RECORD_DATASET, MODELS_PATH, TF_BUFFER_SIZE, TF_SHUFFLE_SIZE, TF_BATCH_SIZE, TF_MAX_EPOCHS\n",
    "from src.model.tensorflow_utils import load_dataset, optimize_dataset, count_dataset_size, get_num_classes, get_metrics\n",
    "from src.model.tensorflow_utils import setup_logger, setup_training_logger, setup_metrics_monitor, setup_early_stopping, filter_no_finding_class\n",
    "from src.model.tensorflow_utils import start_or_resume_training, apply_augmentation_to_dataset, calculate_class_weights, oversample_minority_classes\n",
    "from src.model.densnet.tensorflow_dense_net_121 import build_densenet121\n",
    "\n",
    "# Input Data\n",
    "initial_epoch   = None\n",
    "resume_training = False\n",
    "checkpoint_path = None\n",
    "set_name        = \"DenseNetV4\"\n",
    "model_name      = f\"{set_name}_1\"\n",
    "num_classes     = get_num_classes()\n",
    "\n",
    "train_ds = load_dataset(f\"{TF_RECORD_DATASET}/train.tfrecord\", TF_BUFFER_SIZE)\n",
    "val_ds   = load_dataset(f\"{TF_RECORD_DATASET}/val.tfrecord\", TF_BUFFER_SIZE)\n",
    "\n",
    "train_ds = filter_no_finding_class(train_ds)\n",
    "val_ds   = filter_no_finding_class(val_ds)\n",
    "\n",
    "class_weights = calculate_class_weights(train_ds, num_classes)\n",
    "train_ds      = oversample_minority_classes(train_ds, class_weights)\n",
    "class_weights = calculate_class_weights(train_ds, num_classes)"
   ]
  },
  {
   "cell_type": "code",
   "execution_count": 3,
   "id": "5f152b8a-8ff8-4095-9815-e304ce2beb52",
   "metadata": {},
   "outputs": [
    {
     "name": "stderr",
     "output_type": "stream",
     "text": [
      "Counting samples: 104166 samples [00:35, 2937.80 samples/s] \n",
      "Counting samples: 15431 samples [00:08, 1745.25 samples/s]\n"
     ]
    }
   ],
   "source": [
    "steps_per_epoch  = int(count_dataset_size(train_ds, None) / TF_BATCH_SIZE)\n",
    "validation_steps = int(count_dataset_size(val_ds, None) / TF_BATCH_SIZE)\n",
    "\n",
    "# Disable Advanced Augmentations\n",
    "probability = {\n",
    "    \"intensity_scaling\": 0,\n",
    "    \"adaptive_histogram\": 0,\n",
    "    \"zoom\": 0,\n",
    "    \"cutout\": 0\n",
    "}\n",
    "\n",
    "train_ds = train_ds.shuffle(TF_SHUFFLE_SIZE, reshuffle_each_iteration=True)\n",
    "train_ds = apply_augmentation_to_dataset(train_ds, probability)\n",
    "train_ds = optimize_dataset(train_ds, TF_BATCH_SIZE)\n",
    "\n",
    "val_ds   = optimize_dataset(val_ds, TF_BATCH_SIZE)"
   ]
  },
  {
   "cell_type": "code",
   "execution_count": 4,
   "id": "3a0e37c9-b178-40d8-bd25-8c0a6498564a",
   "metadata": {},
   "outputs": [],
   "source": [
    "# Setup Model Deps\n",
    "logger            = setup_logger()\n",
    "training_logger   = setup_training_logger(logger, TF_BATCH_SIZE, 100)\n",
    "metrics_monitor   = setup_metrics_monitor(MODELS_PATH, model_name, logger, resume_training=resume_training, initial_epoch=initial_epoch)\n",
    "metrics           = get_metrics()\n",
    "\n",
    "# Setup compile arguments\n",
    "loss           = BinaryFocalCrossentropy(gamma=2.0, from_logits=False, label_smoothing=0.05)\n",
    "reduce_lr      = ReduceLROnPlateau(monitor=\"val_f1_score\", factor=0.5,  patience=3, min_lr=1e-6, mode=\"max\", verbose=1)\n",
    "early_stopping = setup_early_stopping()\n",
    "\n",
    "epoch_mode           = 'cp-{epoch:04d}'\n",
    "save_checkpoint_path = f\"{MODELS_PATH}/{model_name}/checkpoints/{epoch_mode}.keras\"\n",
    "checkpoint           = ModelCheckpoint(save_checkpoint_path, monitor=\"val_f1_score\", save_best_only=False, mode=\"max\", save_weights_only=False)\n",
    "\n",
    "model_path      = f\"{MODELS_PATH}/{model_name}.keras\"\n",
    "best_checkpoint = ModelCheckpoint(model_path, monitor=\"val_f1_score\", save_best_only=True, mode=\"max\", save_weights_only=False)"
   ]
  },
  {
   "cell_type": "code",
   "execution_count": 5,
   "id": "c44d4a9a-ffbb-4917-a702-c35773b9857c",
   "metadata": {},
   "outputs": [
    {
     "name": "stderr",
     "output_type": "stream",
     "text": [
      "2025-06-14 13:45:00 - INFO - \n",
      "=== Training Started ===\n",
      "\n",
      "2025-06-14 13:45:00 - INFO - Batch Size: 128\n",
      "2025-06-14 13:45:00 - INFO - Optimizer: Adam\n",
      "2025-06-14 13:45:00 - INFO - \n",
      "==================================================\n",
      "\n",
      "2025-06-14 13:45:00 - INFO - \n",
      "=== Starting Epoch 1 ===\n",
      "\n"
     ]
    },
    {
     "name": "stdout",
     "output_type": "stream",
     "text": [
      "Epoch 1/100\n"
     ]
    },
    {
     "name": "stderr",
     "output_type": "stream",
     "text": [
      "WARNING: All log messages before absl::InitializeLog() is called are written to STDERR\n",
      "I0000 00:00:1749901509.074041    8037 service.cc:152] XLA service 0x751e60014e60 initialized for platform CUDA (this does not guarantee that XLA will be used). Devices:\n",
      "I0000 00:00:1749901509.074057    8037 service.cc:160]   StreamExecutor device (0): NVIDIA GeForce RTX 3090 Ti, Compute Capability 8.6\n",
      "I0000 00:00:1749901509.090270    8037 cuda_dnn.cc:529] Loaded cuDNN version 90300\n",
      "I0000 00:00:1749901509.162404    8037 device_compiler.h:188] Compiled cluster using XLA!  This line is logged at most once for the lifetime of the process.\n"
     ]
    },
    {
     "name": "stdout",
     "output_type": "stream",
     "text": [
      "\u001b[1m813/813\u001b[0m \u001b[32m━━━━━━━━━━━━━━━━━━━━\u001b[0m\u001b[37m\u001b[0m \u001b[1m0s\u001b[0m 213ms/step - accuracy: 0.9044 - auc: 0.5486 - f1_score: 0.0518 - loss: 1.8661 - precision: 0.1396 - recall: 0.0364  "
     ]
    },
    {
     "name": "stderr",
     "output_type": "stream",
     "text": [
      "2025-06-14 13:49:39 - INFO - \n",
      "=== Epoch 1 Summary ===\n",
      "2025-06-14 13:49:39 - INFO - Time: 279.06s\n",
      "2025-06-14 13:49:39 - INFO - Training   - accuracy: 0.9153 - auc: 0.5713 - f1_score: 0.0382 - loss: 1.6034 - precision: 0.1671 - recall: 0.0222 - learning_rate: 0.0001\n",
      "2025-06-14 13:49:39 - INFO - Validation - accuracy: 0.9446 - auc: 0.6440 - f1_score: 0.0005 - loss: 1.1303 - precision: 0.3000 - recall: 0.0003\n",
      "2025-06-14 13:49:39 - INFO - ==================================================\n",
      "\n"
     ]
    },
    {
     "name": "stdout",
     "output_type": "stream",
     "text": [
      "\u001b[1m813/813\u001b[0m \u001b[32m━━━━━━━━━━━━━━━━━━━━\u001b[0m\u001b[37m\u001b[0m \u001b[1m279s\u001b[0m 237ms/step - accuracy: 0.9044 - auc: 0.5486 - f1_score: 0.0518 - loss: 1.8658 - precision: 0.1396 - recall: 0.0364 - val_accuracy: 0.9446 - val_auc: 0.6440 - val_f1_score: 5.0174e-04 - val_loss: 1.1303 - val_precision: 0.3000 - val_recall: 2.5189e-04 - learning_rate: 1.0000e-04\n"
     ]
    },
    {
     "name": "stderr",
     "output_type": "stream",
     "text": [
      "2025-06-14 13:49:39 - INFO - \n",
      "=== Starting Epoch 2 ===\n",
      "\n"
     ]
    },
    {
     "name": "stdout",
     "output_type": "stream",
     "text": [
      "Epoch 2/100\n",
      "\u001b[1m813/813\u001b[0m \u001b[32m━━━━━━━━━━━━━━━━━━━━\u001b[0m\u001b[37m\u001b[0m \u001b[1m0s\u001b[0m 215ms/step - accuracy: 0.9193 - auc: 0.6030 - f1_score: 0.0269 - loss: 0.9646 - precision: 0.2401 - recall: 0.0151  "
     ]
    },
    {
     "name": "stderr",
     "output_type": "stream",
     "text": [
      "2025-06-14 13:53:40 - INFO - \n",
      "=== Epoch 2 Summary ===\n",
      "2025-06-14 13:53:40 - INFO - Time: 240.15s\n",
      "2025-06-14 13:53:40 - INFO - Training   - accuracy: 0.9198 - auc: 0.6128 - f1_score: 0.0291 - loss: 0.8196 - precision: 0.2573 - recall: 0.0163 - learning_rate: 0.0001\n",
      "2025-06-14 13:53:40 - INFO - Validation - accuracy: 0.9446 - auc: 0.6563 - f1_score: 0.0018 - loss: 0.5716 - precision: 0.3333 - recall: 0.0009\n",
      "2025-06-14 13:53:40 - INFO - ==================================================\n",
      "\n"
     ]
    },
    {
     "name": "stdout",
     "output_type": "stream",
     "text": [
      "\u001b[1m813/813\u001b[0m \u001b[32m━━━━━━━━━━━━━━━━━━━━\u001b[0m\u001b[37m\u001b[0m \u001b[1m240s\u001b[0m 228ms/step - accuracy: 0.9193 - auc: 0.6030 - f1_score: 0.0269 - loss: 0.9644 - precision: 0.2401 - recall: 0.0151 - val_accuracy: 0.9446 - val_auc: 0.6563 - val_f1_score: 0.0018 - val_loss: 0.5716 - val_precision: 0.3333 - val_recall: 9.2359e-04 - learning_rate: 1.0000e-04\n"
     ]
    },
    {
     "name": "stderr",
     "output_type": "stream",
     "text": [
      "2025-06-14 13:53:40 - INFO - \n",
      "=== Starting Epoch 3 ===\n",
      "\n"
     ]
    },
    {
     "name": "stdout",
     "output_type": "stream",
     "text": [
      "Epoch 3/100\n",
      "\u001b[1m813/813\u001b[0m \u001b[32m━━━━━━━━━━━━━━━━━━━━\u001b[0m\u001b[37m\u001b[0m \u001b[1m0s\u001b[0m 225ms/step - accuracy: 0.9197 - auc: 0.6267 - f1_score: 0.0226 - loss: 0.4915 - precision: 0.2467 - recall: 0.0124  "
     ]
    },
    {
     "name": "stderr",
     "output_type": "stream",
     "text": [
      "2025-06-14 13:56:55 - INFO - \n",
      "=== Epoch 3 Summary ===\n",
      "2025-06-14 13:56:55 - INFO - Time: 195.28s\n",
      "2025-06-14 13:56:55 - INFO - Training   - accuracy: 0.9203 - auc: 0.6351 - f1_score: 0.0229 - loss: 0.4233 - precision: 0.2540 - recall: 0.0125 - learning_rate: 0.0001\n",
      "2025-06-14 13:56:55 - INFO - Validation - accuracy: 0.9446 - auc: 0.6630 - f1_score: 0.0000 - loss: 0.3096 - precision: 0.0000 - recall: 0.0000\n",
      "2025-06-14 13:56:55 - INFO - ==================================================\n",
      "\n"
     ]
    },
    {
     "name": "stdout",
     "output_type": "stream",
     "text": [
      "\u001b[1m813/813\u001b[0m \u001b[32m━━━━━━━━━━━━━━━━━━━━\u001b[0m\u001b[37m\u001b[0m \u001b[1m195s\u001b[0m 240ms/step - accuracy: 0.9197 - auc: 0.6267 - f1_score: 0.0226 - loss: 0.4914 - precision: 0.2467 - recall: 0.0124 - val_accuracy: 0.9446 - val_auc: 0.6630 - val_f1_score: 0.0000e+00 - val_loss: 0.3096 - val_precision: 0.0000e+00 - val_recall: 0.0000e+00 - learning_rate: 1.0000e-04\n"
     ]
    },
    {
     "name": "stderr",
     "output_type": "stream",
     "text": [
      "2025-06-14 13:56:55 - INFO - \n",
      "=== Starting Epoch 4 ===\n",
      "\n"
     ]
    },
    {
     "name": "stdout",
     "output_type": "stream",
     "text": [
      "Epoch 4/100\n",
      "\u001b[1m813/813\u001b[0m \u001b[32m━━━━━━━━━━━━━━━━━━━━\u001b[0m\u001b[37m\u001b[0m \u001b[1m0s\u001b[0m 217ms/step - accuracy: 0.9200 - auc: 0.6474 - f1_score: 0.0238 - loss: 0.2718 - precision: 0.2677 - recall: 0.0132  "
     ]
    },
    {
     "name": "stderr",
     "output_type": "stream",
     "text": [
      "2025-06-14 14:00:04 - INFO - \n",
      "=== Epoch 4 Summary ===\n",
      "2025-06-14 14:00:04 - INFO - Time: 188.73s\n",
      "2025-06-14 14:00:04 - INFO - Training   - accuracy: 0.9205 - auc: 0.6563 - f1_score: 0.0274 - loss: 0.2406 - precision: 0.2906 - recall: 0.0153 - learning_rate: 0.0001\n",
      "2025-06-14 14:00:04 - INFO - Validation - accuracy: 0.9446 - auc: 0.6964 - f1_score: 0.0000 - loss: 0.1891 - precision: 0.0000 - recall: 0.0000\n",
      "2025-06-14 14:00:04 - INFO - ==================================================\n",
      "\n"
     ]
    },
    {
     "name": "stdout",
     "output_type": "stream",
     "text": [
      "\u001b[1m813/813\u001b[0m \u001b[32m━━━━━━━━━━━━━━━━━━━━\u001b[0m\u001b[37m\u001b[0m \u001b[1m189s\u001b[0m 232ms/step - accuracy: 0.9200 - auc: 0.6474 - f1_score: 0.0238 - loss: 0.2717 - precision: 0.2677 - recall: 0.0132 - val_accuracy: 0.9446 - val_auc: 0.6964 - val_f1_score: 0.0000e+00 - val_loss: 0.1891 - val_precision: 0.0000e+00 - val_recall: 0.0000e+00 - learning_rate: 1.0000e-04\n"
     ]
    },
    {
     "name": "stderr",
     "output_type": "stream",
     "text": [
      "2025-06-14 14:00:04 - INFO - \n",
      "=== Starting Epoch 5 ===\n",
      "\n"
     ]
    },
    {
     "name": "stdout",
     "output_type": "stream",
     "text": [
      "Epoch 5/100\n",
      "\u001b[1m813/813\u001b[0m \u001b[32m━━━━━━━━━━━━━━━━━━━━\u001b[0m\u001b[37m\u001b[0m \u001b[1m0s\u001b[0m 213ms/step - accuracy: 0.9201 - auc: 0.6682 - f1_score: 0.0329 - loss: 0.1713 - precision: 0.3146 - recall: 0.0187  \n",
      "Epoch 5: ReduceLROnPlateau reducing learning rate to 4.999999873689376e-05.\n"
     ]
    },
    {
     "name": "stderr",
     "output_type": "stream",
     "text": [
      "2025-06-14 14:03:10 - INFO - \n",
      "=== Epoch 5 Summary ===\n",
      "2025-06-14 14:03:10 - INFO - Time: 186.21s\n",
      "2025-06-14 14:03:10 - INFO - Training   - accuracy: 0.9204 - auc: 0.6737 - f1_score: 0.0344 - loss: 0.1567 - precision: 0.3176 - recall: 0.0200 - learning_rate: 0.0001\n",
      "2025-06-14 14:03:10 - INFO - Validation - accuracy: 0.9446 - auc: 0.6969 - f1_score: 0.0013 - loss: 0.1334 - precision: 0.4444 - recall: 0.0007\n",
      "2025-06-14 14:03:10 - INFO - ==================================================\n",
      "\n"
     ]
    },
    {
     "name": "stdout",
     "output_type": "stream",
     "text": [
      "\u001b[1m813/813\u001b[0m \u001b[32m━━━━━━━━━━━━━━━━━━━━\u001b[0m\u001b[37m\u001b[0m \u001b[1m186s\u001b[0m 229ms/step - accuracy: 0.9201 - auc: 0.6682 - f1_score: 0.0329 - loss: 0.1713 - precision: 0.3146 - recall: 0.0187 - val_accuracy: 0.9446 - val_auc: 0.6969 - val_f1_score: 0.0013 - val_loss: 0.1334 - val_precision: 0.4444 - val_recall: 6.7170e-04 - learning_rate: 1.0000e-04\n"
     ]
    },
    {
     "name": "stderr",
     "output_type": "stream",
     "text": [
      "2025-06-14 14:03:10 - INFO - \n",
      "=== Starting Epoch 6 ===\n",
      "\n"
     ]
    },
    {
     "name": "stdout",
     "output_type": "stream",
     "text": [
      "Epoch 6/100\n",
      "\u001b[1m813/813\u001b[0m \u001b[32m━━━━━━━━━━━━━━━━━━━━\u001b[0m\u001b[37m\u001b[0m \u001b[1m0s\u001b[0m 213ms/step - accuracy: 0.9208 - auc: 0.7007 - f1_score: 0.0482 - loss: 0.1265 - precision: 0.4063 - recall: 0.0295  "
     ]
    },
    {
     "name": "stderr",
     "output_type": "stream",
     "text": [
      "2025-06-14 14:06:14 - INFO - \n",
      "=== Epoch 6 Summary ===\n",
      "2025-06-14 14:06:14 - INFO - Time: 183.78s\n",
      "2025-06-14 14:06:14 - INFO - Training   - accuracy: 0.9212 - auc: 0.7105 - f1_score: 0.0558 - loss: 0.1213 - precision: 0.4267 - recall: 0.0352 - learning_rate: 0.0000\n",
      "2025-06-14 14:06:14 - INFO - Validation - accuracy: 0.9440 - auc: 0.7120 - f1_score: 0.0239 - loss: 0.1171 - precision: 0.3648 - recall: 0.0146\n",
      "2025-06-14 14:06:14 - INFO - ==================================================\n",
      "\n"
     ]
    },
    {
     "name": "stdout",
     "output_type": "stream",
     "text": [
      "\u001b[1m813/813\u001b[0m \u001b[32m━━━━━━━━━━━━━━━━━━━━\u001b[0m\u001b[37m\u001b[0m \u001b[1m184s\u001b[0m 226ms/step - accuracy: 0.9208 - auc: 0.7007 - f1_score: 0.0483 - loss: 0.1265 - precision: 0.4063 - recall: 0.0295 - val_accuracy: 0.9440 - val_auc: 0.7120 - val_f1_score: 0.0239 - val_loss: 0.1171 - val_precision: 0.3648 - val_recall: 0.0146 - learning_rate: 5.0000e-05\n"
     ]
    },
    {
     "name": "stderr",
     "output_type": "stream",
     "text": [
      "2025-06-14 14:06:14 - INFO - \n",
      "=== Starting Epoch 7 ===\n",
      "\n"
     ]
    },
    {
     "name": "stdout",
     "output_type": "stream",
     "text": [
      "Epoch 7/100\n",
      "\u001b[1m813/813\u001b[0m \u001b[32m━━━━━━━━━━━━━━━━━━━━\u001b[0m\u001b[37m\u001b[0m \u001b[1m0s\u001b[0m 228ms/step - accuracy: 0.9212 - auc: 0.7212 - f1_score: 0.0654 - loss: 0.1100 - precision: 0.4536 - recall: 0.0426  "
     ]
    },
    {
     "name": "stderr",
     "output_type": "stream",
     "text": [
      "2025-06-14 14:09:33 - INFO - \n",
      "=== Epoch 7 Summary ===\n",
      "2025-06-14 14:09:33 - INFO - Time: 199.00s\n",
      "2025-06-14 14:09:33 - INFO - Training   - accuracy: 0.9215 - auc: 0.7249 - f1_score: 0.0687 - loss: 0.1067 - precision: 0.4560 - recall: 0.0449 - learning_rate: 0.0000\n",
      "2025-06-14 14:09:33 - INFO - Validation - accuracy: 0.9354 - auc: 0.7198 - f1_score: 0.0326 - loss: 0.1101 - precision: 0.1148 - recall: 0.0249\n",
      "2025-06-14 14:09:33 - INFO - ==================================================\n",
      "\n"
     ]
    },
    {
     "name": "stdout",
     "output_type": "stream",
     "text": [
      "\u001b[1m813/813\u001b[0m \u001b[32m━━━━━━━━━━━━━━━━━━━━\u001b[0m\u001b[37m\u001b[0m \u001b[1m199s\u001b[0m 245ms/step - accuracy: 0.9212 - auc: 0.7212 - f1_score: 0.0654 - loss: 0.1100 - precision: 0.4536 - recall: 0.0426 - val_accuracy: 0.9354 - val_auc: 0.7198 - val_f1_score: 0.0326 - val_loss: 0.1101 - val_precision: 0.1148 - val_recall: 0.0249 - learning_rate: 5.0000e-05\n"
     ]
    },
    {
     "name": "stderr",
     "output_type": "stream",
     "text": [
      "2025-06-14 14:09:33 - INFO - \n",
      "=== Starting Epoch 8 ===\n",
      "\n"
     ]
    },
    {
     "name": "stdout",
     "output_type": "stream",
     "text": [
      "Epoch 8/100\n",
      "\u001b[1m813/813\u001b[0m \u001b[32m━━━━━━━━━━━━━━━━━━━━\u001b[0m\u001b[37m\u001b[0m \u001b[1m0s\u001b[0m 216ms/step - accuracy: 0.9211 - auc: 0.7331 - f1_score: 0.0754 - loss: 0.0990 - precision: 0.4757 - recall: 0.0502  "
     ]
    },
    {
     "name": "stderr",
     "output_type": "stream",
     "text": [
      "2025-06-14 14:12:41 - INFO - \n",
      "=== Epoch 8 Summary ===\n",
      "2025-06-14 14:12:41 - INFO - Time: 188.08s\n",
      "2025-06-14 14:12:41 - INFO - Training   - accuracy: 0.9217 - auc: 0.7367 - f1_score: 0.0777 - loss: 0.0964 - precision: 0.4726 - recall: 0.0520 - learning_rate: 0.0000\n",
      "2025-06-14 14:12:41 - INFO - Validation - accuracy: 0.9444 - auc: 0.7376 - f1_score: 0.0640 - loss: 0.0948 - precision: 0.4824 - recall: 0.0427\n",
      "2025-06-14 14:12:41 - INFO - ==================================================\n",
      "\n"
     ]
    },
    {
     "name": "stdout",
     "output_type": "stream",
     "text": [
      "\u001b[1m813/813\u001b[0m \u001b[32m━━━━━━━━━━━━━━━━━━━━\u001b[0m\u001b[37m\u001b[0m \u001b[1m188s\u001b[0m 231ms/step - accuracy: 0.9211 - auc: 0.7331 - f1_score: 0.0754 - loss: 0.0990 - precision: 0.4757 - recall: 0.0502 - val_accuracy: 0.9444 - val_auc: 0.7376 - val_f1_score: 0.0640 - val_loss: 0.0948 - val_precision: 0.4824 - val_recall: 0.0427 - learning_rate: 5.0000e-05\n"
     ]
    },
    {
     "name": "stderr",
     "output_type": "stream",
     "text": [
      "2025-06-14 14:12:41 - INFO - \n",
      "=== Starting Epoch 9 ===\n",
      "\n"
     ]
    },
    {
     "name": "stdout",
     "output_type": "stream",
     "text": [
      "Epoch 9/100\n",
      "\u001b[1m813/813\u001b[0m \u001b[32m━━━━━━━━━━━━━━━━━━━━\u001b[0m\u001b[37m\u001b[0m \u001b[1m0s\u001b[0m 216ms/step - accuracy: 0.9214 - auc: 0.7410 - f1_score: 0.0860 - loss: 0.0908 - precision: 0.4831 - recall: 0.0581  "
     ]
    },
    {
     "name": "stderr",
     "output_type": "stream",
     "text": [
      "2025-06-14 14:15:51 - INFO - \n",
      "=== Epoch 9 Summary ===\n",
      "2025-06-14 14:15:51 - INFO - Time: 189.84s\n",
      "2025-06-14 14:15:51 - INFO - Training   - accuracy: 0.9219 - auc: 0.7457 - f1_score: 0.0898 - loss: 0.0888 - precision: 0.4847 - recall: 0.0609 - learning_rate: 0.0000\n",
      "2025-06-14 14:15:51 - INFO - Validation - accuracy: 0.9420 - auc: 0.7329 - f1_score: 0.0472 - loss: 0.0908 - precision: 0.2873 - recall: 0.0314\n",
      "2025-06-14 14:15:51 - INFO - ==================================================\n",
      "\n"
     ]
    },
    {
     "name": "stdout",
     "output_type": "stream",
     "text": [
      "\u001b[1m813/813\u001b[0m \u001b[32m━━━━━━━━━━━━━━━━━━━━\u001b[0m\u001b[37m\u001b[0m \u001b[1m190s\u001b[0m 234ms/step - accuracy: 0.9214 - auc: 0.7410 - f1_score: 0.0860 - loss: 0.0908 - precision: 0.4831 - recall: 0.0581 - val_accuracy: 0.9420 - val_auc: 0.7329 - val_f1_score: 0.0472 - val_loss: 0.0908 - val_precision: 0.2873 - val_recall: 0.0314 - learning_rate: 5.0000e-05\n"
     ]
    },
    {
     "name": "stderr",
     "output_type": "stream",
     "text": [
      "2025-06-14 14:15:51 - INFO - \n",
      "=== Starting Epoch 10 ===\n",
      "\n"
     ]
    },
    {
     "name": "stdout",
     "output_type": "stream",
     "text": [
      "Epoch 10/100\n",
      "\u001b[1m813/813\u001b[0m \u001b[32m━━━━━━━━━━━━━━━━━━━━\u001b[0m\u001b[37m\u001b[0m \u001b[1m0s\u001b[0m 214ms/step - accuracy: 0.9215 - auc: 0.7504 - f1_score: 0.0933 - loss: 0.0848 - precision: 0.4790 - recall: 0.0632  "
     ]
    },
    {
     "name": "stderr",
     "output_type": "stream",
     "text": [
      "2025-06-14 14:18:58 - INFO - \n",
      "=== Epoch 10 Summary ===\n",
      "2025-06-14 14:18:58 - INFO - Time: 187.40s\n",
      "2025-06-14 14:18:58 - INFO - Training   - accuracy: 0.9219 - auc: 0.7555 - f1_score: 0.1001 - loss: 0.0831 - precision: 0.4902 - recall: 0.0682 - learning_rate: 0.0000\n",
      "2025-06-14 14:18:58 - INFO - Validation - accuracy: 0.9379 - auc: 0.7216 - f1_score: 0.1037 - loss: 0.0872 - precision: 0.3378 - recall: 0.1266\n",
      "2025-06-14 14:18:58 - INFO - ==================================================\n",
      "\n"
     ]
    },
    {
     "name": "stdout",
     "output_type": "stream",
     "text": [
      "\u001b[1m813/813\u001b[0m \u001b[32m━━━━━━━━━━━━━━━━━━━━\u001b[0m\u001b[37m\u001b[0m \u001b[1m187s\u001b[0m 231ms/step - accuracy: 0.9215 - auc: 0.7504 - f1_score: 0.0933 - loss: 0.0848 - precision: 0.4790 - recall: 0.0632 - val_accuracy: 0.9379 - val_auc: 0.7216 - val_f1_score: 0.1037 - val_loss: 0.0872 - val_precision: 0.3378 - val_recall: 0.1266 - learning_rate: 5.0000e-05\n"
     ]
    },
    {
     "name": "stderr",
     "output_type": "stream",
     "text": [
      "2025-06-14 14:18:58 - INFO - \n",
      "=== Starting Epoch 11 ===\n",
      "\n"
     ]
    },
    {
     "name": "stdout",
     "output_type": "stream",
     "text": [
      "Epoch 11/100\n",
      "\u001b[1m813/813\u001b[0m \u001b[32m━━━━━━━━━━━━━━━━━━━━\u001b[0m\u001b[37m\u001b[0m \u001b[1m0s\u001b[0m 215ms/step - accuracy: 0.9217 - auc: 0.7577 - f1_score: 0.1071 - loss: 0.0801 - precision: 0.4849 - recall: 0.0736  "
     ]
    },
    {
     "name": "stderr",
     "output_type": "stream",
     "text": [
      "2025-06-14 14:22:04 - INFO - \n",
      "=== Epoch 11 Summary ===\n",
      "2025-06-14 14:22:04 - INFO - Time: 186.09s\n",
      "2025-06-14 14:22:04 - INFO - Training   - accuracy: 0.9220 - auc: 0.7625 - f1_score: 0.1123 - loss: 0.0788 - precision: 0.4924 - recall: 0.0770 - learning_rate: 0.0000\n",
      "2025-06-14 14:22:04 - INFO - Validation - accuracy: 0.9409 - auc: 0.7593 - f1_score: 0.0513 - loss: 0.0822 - precision: 0.2654 - recall: 0.0380\n",
      "2025-06-14 14:22:04 - INFO - ==================================================\n",
      "\n"
     ]
    },
    {
     "name": "stdout",
     "output_type": "stream",
     "text": [
      "\u001b[1m813/813\u001b[0m \u001b[32m━━━━━━━━━━━━━━━━━━━━\u001b[0m\u001b[37m\u001b[0m \u001b[1m186s\u001b[0m 229ms/step - accuracy: 0.9217 - auc: 0.7577 - f1_score: 0.1071 - loss: 0.0801 - precision: 0.4849 - recall: 0.0736 - val_accuracy: 0.9409 - val_auc: 0.7593 - val_f1_score: 0.0513 - val_loss: 0.0822 - val_precision: 0.2654 - val_recall: 0.0380 - learning_rate: 5.0000e-05\n"
     ]
    },
    {
     "name": "stderr",
     "output_type": "stream",
     "text": [
      "2025-06-14 14:22:04 - INFO - \n",
      "=== Starting Epoch 12 ===\n",
      "\n"
     ]
    },
    {
     "name": "stdout",
     "output_type": "stream",
     "text": [
      "Epoch 12/100\n",
      "\u001b[1m813/813\u001b[0m \u001b[32m━━━━━━━━━━━━━━━━━━━━\u001b[0m\u001b[37m\u001b[0m \u001b[1m0s\u001b[0m 220ms/step - accuracy: 0.9215 - auc: 0.7673 - f1_score: 0.1202 - loss: 0.0764 - precision: 0.4921 - recall: 0.0831  "
     ]
    },
    {
     "name": "stderr",
     "output_type": "stream",
     "text": [
      "2025-06-14 14:25:16 - INFO - \n",
      "=== Epoch 12 Summary ===\n",
      "2025-06-14 14:25:16 - INFO - Time: 191.24s\n",
      "2025-06-14 14:25:16 - INFO - Training   - accuracy: 0.9221 - auc: 0.7710 - f1_score: 0.1263 - loss: 0.0751 - precision: 0.4992 - recall: 0.0871 - learning_rate: 0.0000\n",
      "2025-06-14 14:25:16 - INFO - Validation - accuracy: 0.9422 - auc: 0.7298 - f1_score: 0.1028 - loss: 0.0796 - precision: 0.3823 - recall: 0.0712\n",
      "2025-06-14 14:25:16 - INFO - ==================================================\n",
      "\n"
     ]
    },
    {
     "name": "stdout",
     "output_type": "stream",
     "text": [
      "\u001b[1m813/813\u001b[0m \u001b[32m━━━━━━━━━━━━━━━━━━━━\u001b[0m\u001b[37m\u001b[0m \u001b[1m191s\u001b[0m 235ms/step - accuracy: 0.9215 - auc: 0.7673 - f1_score: 0.1202 - loss: 0.0764 - precision: 0.4921 - recall: 0.0831 - val_accuracy: 0.9422 - val_auc: 0.7298 - val_f1_score: 0.1028 - val_loss: 0.0796 - val_precision: 0.3823 - val_recall: 0.0712 - learning_rate: 5.0000e-05\n"
     ]
    },
    {
     "name": "stderr",
     "output_type": "stream",
     "text": [
      "2025-06-14 14:25:16 - INFO - \n",
      "=== Starting Epoch 13 ===\n",
      "\n"
     ]
    },
    {
     "name": "stdout",
     "output_type": "stream",
     "text": [
      "Epoch 13/100\n",
      "\u001b[1m813/813\u001b[0m \u001b[32m━━━━━━━━━━━━━━━━━━━━\u001b[0m\u001b[37m\u001b[0m \u001b[1m0s\u001b[0m 215ms/step - accuracy: 0.9218 - auc: 0.7732 - f1_score: 0.1276 - loss: 0.0734 - precision: 0.4978 - recall: 0.0882  \n",
      "Epoch 13: ReduceLROnPlateau reducing learning rate to 2.499999936844688e-05.\n"
     ]
    },
    {
     "name": "stderr",
     "output_type": "stream",
     "text": [
      "2025-06-14 14:28:23 - INFO - \n",
      "=== Epoch 13 Summary ===\n",
      "2025-06-14 14:28:23 - INFO - Time: 187.44s\n",
      "2025-06-14 14:28:23 - INFO - Training   - accuracy: 0.9222 - auc: 0.7770 - f1_score: 0.1328 - loss: 0.0724 - precision: 0.5029 - recall: 0.0921 - learning_rate: 0.0000\n",
      "2025-06-14 14:28:23 - INFO - Validation - accuracy: 0.9424 - auc: 0.7529 - f1_score: 0.0991 - loss: 0.0746 - precision: 0.3945 - recall: 0.0738\n",
      "2025-06-14 14:28:23 - INFO - ==================================================\n",
      "\n"
     ]
    },
    {
     "name": "stdout",
     "output_type": "stream",
     "text": [
      "\u001b[1m813/813\u001b[0m \u001b[32m━━━━━━━━━━━━━━━━━━━━\u001b[0m\u001b[37m\u001b[0m \u001b[1m187s\u001b[0m 231ms/step - accuracy: 0.9218 - auc: 0.7732 - f1_score: 0.1276 - loss: 0.0734 - precision: 0.4978 - recall: 0.0882 - val_accuracy: 0.9424 - val_auc: 0.7529 - val_f1_score: 0.0991 - val_loss: 0.0746 - val_precision: 0.3945 - val_recall: 0.0738 - learning_rate: 5.0000e-05\n"
     ]
    },
    {
     "name": "stderr",
     "output_type": "stream",
     "text": [
      "2025-06-14 14:28:23 - INFO - \n",
      "=== Starting Epoch 14 ===\n",
      "\n"
     ]
    },
    {
     "name": "stdout",
     "output_type": "stream",
     "text": [
      "Epoch 14/100\n",
      "\u001b[1m813/813\u001b[0m \u001b[32m━━━━━━━━━━━━━━━━━━━━\u001b[0m\u001b[37m\u001b[0m \u001b[1m0s\u001b[0m 215ms/step - accuracy: 0.9225 - auc: 0.7907 - f1_score: 0.1594 - loss: 0.0695 - precision: 0.5131 - recall: 0.1138  "
     ]
    },
    {
     "name": "stderr",
     "output_type": "stream",
     "text": [
      "2025-06-14 14:31:30 - INFO - \n",
      "=== Epoch 14 Summary ===\n",
      "2025-06-14 14:31:30 - INFO - Time: 187.01s\n",
      "2025-06-14 14:31:30 - INFO - Training   - accuracy: 0.9229 - auc: 0.7972 - f1_score: 0.1662 - loss: 0.0684 - precision: 0.5204 - recall: 0.1193 - learning_rate: 0.0000\n",
      "2025-06-14 14:31:30 - INFO - Validation - accuracy: 0.9351 - auc: 0.7594 - f1_score: 0.1763 - loss: 0.0762 - precision: 0.3143 - recall: 0.1458\n",
      "2025-06-14 14:31:30 - INFO - ==================================================\n",
      "\n"
     ]
    },
    {
     "name": "stdout",
     "output_type": "stream",
     "text": [
      "\u001b[1m813/813\u001b[0m \u001b[32m━━━━━━━━━━━━━━━━━━━━\u001b[0m\u001b[37m\u001b[0m \u001b[1m187s\u001b[0m 230ms/step - accuracy: 0.9225 - auc: 0.7907 - f1_score: 0.1594 - loss: 0.0695 - precision: 0.5131 - recall: 0.1138 - val_accuracy: 0.9351 - val_auc: 0.7594 - val_f1_score: 0.1763 - val_loss: 0.0762 - val_precision: 0.3143 - val_recall: 0.1458 - learning_rate: 2.5000e-05\n"
     ]
    },
    {
     "name": "stderr",
     "output_type": "stream",
     "text": [
      "2025-06-14 14:31:30 - INFO - \n",
      "=== Starting Epoch 15 ===\n",
      "\n"
     ]
    },
    {
     "name": "stdout",
     "output_type": "stream",
     "text": [
      "Epoch 15/100\n",
      "\u001b[1m813/813\u001b[0m \u001b[32m━━━━━━━━━━━━━━━━━━━━\u001b[0m\u001b[37m\u001b[0m \u001b[1m0s\u001b[0m 218ms/step - accuracy: 0.9231 - auc: 0.8010 - f1_score: 0.1817 - loss: 0.0673 - precision: 0.5279 - recall: 0.1322  "
     ]
    },
    {
     "name": "stderr",
     "output_type": "stream",
     "text": [
      "2025-06-14 14:34:40 - INFO - \n",
      "=== Epoch 15 Summary ===\n",
      "2025-06-14 14:34:40 - INFO - Time: 189.83s\n",
      "2025-06-14 14:34:40 - INFO - Training   - accuracy: 0.9235 - auc: 0.8063 - f1_score: 0.1860 - loss: 0.0664 - precision: 0.5316 - recall: 0.1360 - learning_rate: 0.0000\n",
      "2025-06-14 14:34:40 - INFO - Validation - accuracy: 0.9299 - auc: 0.7502 - f1_score: 0.1452 - loss: 0.0790 - precision: 0.2599 - recall: 0.1434\n",
      "2025-06-14 14:34:40 - INFO - ==================================================\n",
      "\n"
     ]
    },
    {
     "name": "stdout",
     "output_type": "stream",
     "text": [
      "\u001b[1m813/813\u001b[0m \u001b[32m━━━━━━━━━━━━━━━━━━━━\u001b[0m\u001b[37m\u001b[0m \u001b[1m190s\u001b[0m 234ms/step - accuracy: 0.9231 - auc: 0.8010 - f1_score: 0.1817 - loss: 0.0673 - precision: 0.5279 - recall: 0.1322 - val_accuracy: 0.9299 - val_auc: 0.7502 - val_f1_score: 0.1452 - val_loss: 0.0790 - val_precision: 0.2599 - val_recall: 0.1434 - learning_rate: 2.5000e-05\n"
     ]
    },
    {
     "name": "stderr",
     "output_type": "stream",
     "text": [
      "2025-06-14 14:34:40 - INFO - \n",
      "=== Starting Epoch 16 ===\n",
      "\n"
     ]
    },
    {
     "name": "stdout",
     "output_type": "stream",
     "text": [
      "Epoch 16/100\n",
      "\u001b[1m813/813\u001b[0m \u001b[32m━━━━━━━━━━━━━━━━━━━━\u001b[0m\u001b[37m\u001b[0m \u001b[1m0s\u001b[0m 215ms/step - accuracy: 0.9235 - auc: 0.8113 - f1_score: 0.2005 - loss: 0.0656 - precision: 0.5353 - recall: 0.1486  "
     ]
    },
    {
     "name": "stderr",
     "output_type": "stream",
     "text": [
      "2025-06-14 14:37:49 - INFO - \n",
      "=== Epoch 16 Summary ===\n",
      "2025-06-14 14:37:49 - INFO - Time: 189.52s\n",
      "2025-06-14 14:37:49 - INFO - Training   - accuracy: 0.9239 - auc: 0.8142 - f1_score: 0.2032 - loss: 0.0646 - precision: 0.5388 - recall: 0.1507 - learning_rate: 0.0000\n",
      "2025-06-14 14:37:49 - INFO - Validation - accuracy: 0.9381 - auc: 0.7645 - f1_score: 0.1232 - loss: 0.0736 - precision: 0.3193 - recall: 0.1039\n",
      "2025-06-14 14:37:49 - INFO - ==================================================\n",
      "\n"
     ]
    },
    {
     "name": "stdout",
     "output_type": "stream",
     "text": [
      "\u001b[1m813/813\u001b[0m \u001b[32m━━━━━━━━━━━━━━━━━━━━\u001b[0m\u001b[37m\u001b[0m \u001b[1m190s\u001b[0m 233ms/step - accuracy: 0.9235 - auc: 0.8113 - f1_score: 0.2005 - loss: 0.0656 - precision: 0.5353 - recall: 0.1486 - val_accuracy: 0.9381 - val_auc: 0.7645 - val_f1_score: 0.1232 - val_loss: 0.0736 - val_precision: 0.3193 - val_recall: 0.1039 - learning_rate: 2.5000e-05\n"
     ]
    },
    {
     "name": "stderr",
     "output_type": "stream",
     "text": [
      "2025-06-14 14:37:49 - INFO - \n",
      "=== Starting Epoch 17 ===\n",
      "\n"
     ]
    },
    {
     "name": "stdout",
     "output_type": "stream",
     "text": [
      "Epoch 17/100\n",
      "\u001b[1m813/813\u001b[0m \u001b[32m━━━━━━━━━━━━━━━━━━━━\u001b[0m\u001b[37m\u001b[0m \u001b[1m0s\u001b[0m 215ms/step - accuracy: 0.9233 - auc: 0.8171 - f1_score: 0.2086 - loss: 0.0643 - precision: 0.5412 - recall: 0.1563  \n",
      "Epoch 17: ReduceLROnPlateau reducing learning rate to 1.249999968422344e-05.\n"
     ]
    },
    {
     "name": "stderr",
     "output_type": "stream",
     "text": [
      "2025-06-14 14:40:56 - INFO - \n",
      "=== Epoch 17 Summary ===\n",
      "2025-06-14 14:40:56 - INFO - Time: 186.32s\n",
      "2025-06-14 14:40:56 - INFO - Training   - accuracy: 0.9243 - auc: 0.8225 - f1_score: 0.2142 - loss: 0.0631 - precision: 0.5453 - recall: 0.1614 - learning_rate: 0.0000\n",
      "2025-06-14 14:40:56 - INFO - Validation - accuracy: 0.9393 - auc: 0.7498 - f1_score: 0.1219 - loss: 0.0725 - precision: 0.3433 - recall: 0.1042\n",
      "2025-06-14 14:40:56 - INFO - ==================================================\n",
      "\n"
     ]
    },
    {
     "name": "stdout",
     "output_type": "stream",
     "text": [
      "\u001b[1m813/813\u001b[0m \u001b[32m━━━━━━━━━━━━━━━━━━━━\u001b[0m\u001b[37m\u001b[0m \u001b[1m186s\u001b[0m 229ms/step - accuracy: 0.9233 - auc: 0.8171 - f1_score: 0.2086 - loss: 0.0643 - precision: 0.5412 - recall: 0.1563 - val_accuracy: 0.9393 - val_auc: 0.7498 - val_f1_score: 0.1219 - val_loss: 0.0725 - val_precision: 0.3433 - val_recall: 0.1042 - learning_rate: 2.5000e-05\n"
     ]
    },
    {
     "name": "stderr",
     "output_type": "stream",
     "text": [
      "2025-06-14 14:40:56 - INFO - \n",
      "=== Starting Epoch 18 ===\n",
      "\n"
     ]
    },
    {
     "name": "stdout",
     "output_type": "stream",
     "text": [
      "Epoch 18/100\n",
      "\u001b[1m813/813\u001b[0m \u001b[32m━━━━━━━━━━━━━━━━━━━━\u001b[0m\u001b[37m\u001b[0m \u001b[1m0s\u001b[0m 221ms/step - accuracy: 0.9247 - auc: 0.8320 - f1_score: 0.2364 - loss: 0.0614 - precision: 0.5587 - recall: 0.1806  "
     ]
    },
    {
     "name": "stderr",
     "output_type": "stream",
     "text": [
      "2025-06-14 14:44:04 - INFO - \n",
      "=== Epoch 18 Summary ===\n",
      "2025-06-14 14:44:04 - INFO - Time: 187.94s\n",
      "2025-06-14 14:44:04 - INFO - Training   - accuracy: 0.9260 - auc: 0.8390 - f1_score: 0.2508 - loss: 0.0601 - precision: 0.5751 - recall: 0.1927 - learning_rate: 0.0000\n",
      "2025-06-14 14:44:04 - INFO - Validation - accuracy: 0.9351 - auc: 0.7549 - f1_score: 0.1333 - loss: 0.0745 - precision: 0.2918 - recall: 0.1209\n",
      "2025-06-14 14:44:04 - INFO - ==================================================\n",
      "\n"
     ]
    },
    {
     "name": "stdout",
     "output_type": "stream",
     "text": [
      "\u001b[1m813/813\u001b[0m \u001b[32m━━━━━━━━━━━━━━━━━━━━\u001b[0m\u001b[37m\u001b[0m \u001b[1m188s\u001b[0m 231ms/step - accuracy: 0.9247 - auc: 0.8320 - f1_score: 0.2364 - loss: 0.0614 - precision: 0.5588 - recall: 0.1806 - val_accuracy: 0.9351 - val_auc: 0.7549 - val_f1_score: 0.1333 - val_loss: 0.0745 - val_precision: 0.2918 - val_recall: 0.1209 - learning_rate: 1.2500e-05\n"
     ]
    },
    {
     "name": "stderr",
     "output_type": "stream",
     "text": [
      "2025-06-14 14:44:04 - INFO - \n",
      "=== Starting Epoch 19 ===\n",
      "\n"
     ]
    },
    {
     "name": "stdout",
     "output_type": "stream",
     "text": [
      "Epoch 19/100\n",
      "\u001b[1m813/813\u001b[0m \u001b[32m━━━━━━━━━━━━━━━━━━━━\u001b[0m\u001b[37m\u001b[0m \u001b[1m0s\u001b[0m 224ms/step - accuracy: 0.9262 - auc: 0.8450 - f1_score: 0.2623 - loss: 0.0594 - precision: 0.5740 - recall: 0.2028  "
     ]
    },
    {
     "name": "stderr",
     "output_type": "stream",
     "text": [
      "2025-06-14 14:47:14 - INFO - \n",
      "=== Epoch 19 Summary ===\n",
      "2025-06-14 14:47:14 - INFO - Time: 190.56s\n",
      "2025-06-14 14:47:14 - INFO - Training   - accuracy: 0.9271 - auc: 0.8489 - f1_score: 0.2732 - loss: 0.0584 - precision: 0.5880 - recall: 0.2117 - learning_rate: 0.0000\n",
      "2025-06-14 14:47:14 - INFO - Validation - accuracy: 0.9359 - auc: 0.7512 - f1_score: 0.1657 - loss: 0.0735 - precision: 0.3276 - recall: 0.1499\n",
      "2025-06-14 14:47:14 - INFO - ==================================================\n",
      "\n"
     ]
    },
    {
     "name": "stdout",
     "output_type": "stream",
     "text": [
      "\u001b[1m813/813\u001b[0m \u001b[32m━━━━━━━━━━━━━━━━━━━━\u001b[0m\u001b[37m\u001b[0m \u001b[1m191s\u001b[0m 234ms/step - accuracy: 0.9263 - auc: 0.8450 - f1_score: 0.2623 - loss: 0.0594 - precision: 0.5740 - recall: 0.2028 - val_accuracy: 0.9359 - val_auc: 0.7512 - val_f1_score: 0.1657 - val_loss: 0.0735 - val_precision: 0.3276 - val_recall: 0.1499 - learning_rate: 1.2500e-05\n"
     ]
    },
    {
     "name": "stderr",
     "output_type": "stream",
     "text": [
      "2025-06-14 14:47:14 - INFO - \n",
      "=== Starting Epoch 20 ===\n",
      "\n"
     ]
    },
    {
     "name": "stdout",
     "output_type": "stream",
     "text": [
      "Epoch 20/100\n",
      "\u001b[1m813/813\u001b[0m \u001b[32m━━━━━━━━━━━━━━━━━━━━\u001b[0m\u001b[37m\u001b[0m \u001b[1m0s\u001b[0m 227ms/step - accuracy: 0.9275 - auc: 0.8517 - f1_score: 0.2858 - loss: 0.0578 - precision: 0.5907 - recall: 0.2227  \n",
      "Epoch 20: ReduceLROnPlateau reducing learning rate to 6.24999984211172e-06.\n"
     ]
    },
    {
     "name": "stderr",
     "output_type": "stream",
     "text": [
      "2025-06-14 14:50:28 - INFO - \n",
      "=== Epoch 20 Summary ===\n",
      "2025-06-14 14:50:28 - INFO - Time: 193.46s\n",
      "2025-06-14 14:50:28 - INFO - Training   - accuracy: 0.9280 - auc: 0.8556 - f1_score: 0.2920 - loss: 0.0571 - precision: 0.5983 - recall: 0.2279 - learning_rate: 0.0000\n",
      "2025-06-14 14:50:28 - INFO - Validation - accuracy: 0.9354 - auc: 0.7586 - f1_score: 0.1692 - loss: 0.0731 - precision: 0.3186 - recall: 0.1460\n",
      "2025-06-14 14:50:28 - INFO - ==================================================\n",
      "\n"
     ]
    },
    {
     "name": "stdout",
     "output_type": "stream",
     "text": [
      "\u001b[1m813/813\u001b[0m \u001b[32m━━━━━━━━━━━━━━━━━━━━\u001b[0m\u001b[37m\u001b[0m \u001b[1m193s\u001b[0m 238ms/step - accuracy: 0.9275 - auc: 0.8517 - f1_score: 0.2858 - loss: 0.0578 - precision: 0.5907 - recall: 0.2227 - val_accuracy: 0.9354 - val_auc: 0.7586 - val_f1_score: 0.1692 - val_loss: 0.0731 - val_precision: 0.3186 - val_recall: 0.1460 - learning_rate: 1.2500e-05\n"
     ]
    },
    {
     "name": "stderr",
     "output_type": "stream",
     "text": [
      "2025-06-14 14:50:28 - INFO - \n",
      "=== Starting Epoch 21 ===\n",
      "\n"
     ]
    },
    {
     "name": "stdout",
     "output_type": "stream",
     "text": [
      "Epoch 21/100\n",
      "\u001b[1m813/813\u001b[0m \u001b[32m━━━━━━━━━━━━━━━━━━━━\u001b[0m\u001b[37m\u001b[0m \u001b[1m0s\u001b[0m 224ms/step - accuracy: 0.9288 - auc: 0.8622 - f1_score: 0.3133 - loss: 0.0559 - precision: 0.6091 - recall: 0.2463  "
     ]
    },
    {
     "name": "stderr",
     "output_type": "stream",
     "text": [
      "2025-06-14 14:53:39 - INFO - \n",
      "=== Epoch 21 Summary ===\n",
      "2025-06-14 14:53:39 - INFO - Time: 191.39s\n",
      "2025-06-14 14:53:39 - INFO - Training   - accuracy: 0.9301 - auc: 0.8678 - f1_score: 0.3216 - loss: 0.0548 - precision: 0.6248 - recall: 0.2522 - learning_rate: 0.0000\n",
      "2025-06-14 14:53:39 - INFO - Validation - accuracy: 0.9328 - auc: 0.7578 - f1_score: 0.1808 - loss: 0.0754 - precision: 0.2921 - recall: 0.1492\n",
      "2025-06-14 14:53:39 - INFO - ==================================================\n",
      "\n"
     ]
    },
    {
     "name": "stdout",
     "output_type": "stream",
     "text": [
      "\u001b[1m813/813\u001b[0m \u001b[32m━━━━━━━━━━━━━━━━━━━━\u001b[0m\u001b[37m\u001b[0m \u001b[1m191s\u001b[0m 236ms/step - accuracy: 0.9288 - auc: 0.8622 - f1_score: 0.3133 - loss: 0.0559 - precision: 0.6091 - recall: 0.2463 - val_accuracy: 0.9328 - val_auc: 0.7578 - val_f1_score: 0.1808 - val_loss: 0.0754 - val_precision: 0.2921 - val_recall: 0.1492 - learning_rate: 6.2500e-06\n"
     ]
    },
    {
     "name": "stderr",
     "output_type": "stream",
     "text": [
      "2025-06-14 14:53:39 - INFO - \n",
      "=== Starting Epoch 22 ===\n",
      "\n"
     ]
    },
    {
     "name": "stdout",
     "output_type": "stream",
     "text": [
      "Epoch 22/100\n",
      "\u001b[1m813/813\u001b[0m \u001b[32m━━━━━━━━━━━━━━━━━━━━\u001b[0m\u001b[37m\u001b[0m \u001b[1m0s\u001b[0m 221ms/step - accuracy: 0.9302 - auc: 0.8706 - f1_score: 0.3330 - loss: 0.0543 - precision: 0.6270 - recall: 0.2624  "
     ]
    },
    {
     "name": "stderr",
     "output_type": "stream",
     "text": [
      "2025-06-14 14:56:48 - INFO - \n",
      "=== Epoch 22 Summary ===\n",
      "2025-06-14 14:56:48 - INFO - Time: 188.80s\n",
      "2025-06-14 14:56:48 - INFO - Training   - accuracy: 0.9309 - auc: 0.8742 - f1_score: 0.3401 - loss: 0.0536 - precision: 0.6329 - recall: 0.2683 - learning_rate: 0.0000\n",
      "2025-06-14 14:56:48 - INFO - Validation - accuracy: 0.9363 - auc: 0.7590 - f1_score: 0.1978 - loss: 0.0727 - precision: 0.3514 - recall: 0.1768\n",
      "2025-06-14 14:56:48 - INFO - ==================================================\n",
      "\n"
     ]
    },
    {
     "name": "stdout",
     "output_type": "stream",
     "text": [
      "\u001b[1m813/813\u001b[0m \u001b[32m━━━━━━━━━━━━━━━━━━━━\u001b[0m\u001b[37m\u001b[0m \u001b[1m189s\u001b[0m 232ms/step - accuracy: 0.9302 - auc: 0.8707 - f1_score: 0.3330 - loss: 0.0543 - precision: 0.6270 - recall: 0.2624 - val_accuracy: 0.9363 - val_auc: 0.7590 - val_f1_score: 0.1978 - val_loss: 0.0727 - val_precision: 0.3514 - val_recall: 0.1768 - learning_rate: 6.2500e-06\n"
     ]
    },
    {
     "name": "stderr",
     "output_type": "stream",
     "text": [
      "2025-06-14 14:56:48 - INFO - \n",
      "=== Starting Epoch 23 ===\n",
      "\n"
     ]
    },
    {
     "name": "stdout",
     "output_type": "stream",
     "text": [
      "Epoch 23/100\n",
      "\u001b[1m813/813\u001b[0m \u001b[32m━━━━━━━━━━━━━━━━━━━━\u001b[0m\u001b[37m\u001b[0m \u001b[1m0s\u001b[0m 225ms/step - accuracy: 0.9315 - auc: 0.8759 - f1_score: 0.3494 - loss: 0.0532 - precision: 0.6396 - recall: 0.2773  "
     ]
    },
    {
     "name": "stderr",
     "output_type": "stream",
     "text": [
      "2025-06-14 14:59:59 - INFO - \n",
      "=== Epoch 23 Summary ===\n",
      "2025-06-14 14:59:59 - INFO - Time: 190.90s\n",
      "2025-06-14 14:59:59 - INFO - Training   - accuracy: 0.9321 - auc: 0.8797 - f1_score: 0.3575 - loss: 0.0526 - precision: 0.6438 - recall: 0.2843 - learning_rate: 0.0000\n",
      "2025-06-14 14:59:59 - INFO - Validation - accuracy: 0.9371 - auc: 0.7566 - f1_score: 0.1854 - loss: 0.0724 - precision: 0.3494 - recall: 0.1582\n",
      "2025-06-14 14:59:59 - INFO - ==================================================\n",
      "\n"
     ]
    },
    {
     "name": "stdout",
     "output_type": "stream",
     "text": [
      "\u001b[1m813/813\u001b[0m \u001b[32m━━━━━━━━━━━━━━━━━━━━\u001b[0m\u001b[37m\u001b[0m \u001b[1m191s\u001b[0m 235ms/step - accuracy: 0.9315 - auc: 0.8759 - f1_score: 0.3494 - loss: 0.0532 - precision: 0.6396 - recall: 0.2773 - val_accuracy: 0.9371 - val_auc: 0.7566 - val_f1_score: 0.1854 - val_loss: 0.0724 - val_precision: 0.3494 - val_recall: 0.1582 - learning_rate: 6.2500e-06\n"
     ]
    },
    {
     "name": "stderr",
     "output_type": "stream",
     "text": [
      "2025-06-14 14:59:59 - INFO - \n",
      "=== Starting Epoch 24 ===\n",
      "\n"
     ]
    },
    {
     "name": "stdout",
     "output_type": "stream",
     "text": [
      "Epoch 24/100\n",
      "\u001b[1m813/813\u001b[0m \u001b[32m━━━━━━━━━━━━━━━━━━━━\u001b[0m\u001b[37m\u001b[0m \u001b[1m0s\u001b[0m 225ms/step - accuracy: 0.9322 - auc: 0.8816 - f1_score: 0.3661 - loss: 0.0522 - precision: 0.6436 - recall: 0.2914  "
     ]
    },
    {
     "name": "stderr",
     "output_type": "stream",
     "text": [
      "2025-06-14 15:03:11 - INFO - \n",
      "=== Epoch 24 Summary ===\n",
      "2025-06-14 15:03:11 - INFO - Time: 191.62s\n",
      "2025-06-14 15:03:11 - INFO - Training   - accuracy: 0.9328 - auc: 0.8846 - f1_score: 0.3728 - loss: 0.0516 - precision: 0.6490 - recall: 0.2969 - learning_rate: 0.0000\n",
      "2025-06-14 15:03:11 - INFO - Validation - accuracy: 0.9363 - auc: 0.7543 - f1_score: 0.2047 - loss: 0.0724 - precision: 0.3540 - recall: 0.1815\n",
      "2025-06-14 15:03:11 - INFO - ==================================================\n",
      "\n"
     ]
    },
    {
     "name": "stdout",
     "output_type": "stream",
     "text": [
      "\u001b[1m813/813\u001b[0m \u001b[32m━━━━━━━━━━━━━━━━━━━━\u001b[0m\u001b[37m\u001b[0m \u001b[1m192s\u001b[0m 236ms/step - accuracy: 0.9322 - auc: 0.8816 - f1_score: 0.3661 - loss: 0.0522 - precision: 0.6436 - recall: 0.2914 - val_accuracy: 0.9363 - val_auc: 0.7543 - val_f1_score: 0.2047 - val_loss: 0.0724 - val_precision: 0.3540 - val_recall: 0.1815 - learning_rate: 6.2500e-06\n"
     ]
    },
    {
     "name": "stderr",
     "output_type": "stream",
     "text": [
      "2025-06-14 15:03:11 - INFO - \n",
      "=== Starting Epoch 25 ===\n",
      "\n"
     ]
    },
    {
     "name": "stdout",
     "output_type": "stream",
     "text": [
      "Epoch 25/100\n",
      "\u001b[1m813/813\u001b[0m \u001b[32m━━━━━━━━━━━━━━━━━━━━\u001b[0m\u001b[37m\u001b[0m \u001b[1m0s\u001b[0m 225ms/step - accuracy: 0.9331 - auc: 0.8873 - f1_score: 0.3801 - loss: 0.0513 - precision: 0.6521 - recall: 0.3037  "
     ]
    },
    {
     "name": "stderr",
     "output_type": "stream",
     "text": [
      "2025-06-14 15:06:22 - INFO - \n",
      "=== Epoch 25 Summary ===\n",
      "2025-06-14 15:06:22 - INFO - Time: 191.48s\n",
      "2025-06-14 15:06:22 - INFO - Training   - accuracy: 0.9337 - auc: 0.8899 - f1_score: 0.3875 - loss: 0.0507 - precision: 0.6555 - recall: 0.3106 - learning_rate: 0.0000\n",
      "2025-06-14 15:06:22 - INFO - Validation - accuracy: 0.9353 - auc: 0.7574 - f1_score: 0.2045 - loss: 0.0745 - precision: 0.3399 - recall: 0.1792\n",
      "2025-06-14 15:06:22 - INFO - ==================================================\n",
      "\n"
     ]
    },
    {
     "name": "stdout",
     "output_type": "stream",
     "text": [
      "\u001b[1m813/813\u001b[0m \u001b[32m━━━━━━━━━━━━━━━━━━━━\u001b[0m\u001b[37m\u001b[0m \u001b[1m191s\u001b[0m 236ms/step - accuracy: 0.9331 - auc: 0.8873 - f1_score: 0.3801 - loss: 0.0513 - precision: 0.6521 - recall: 0.3037 - val_accuracy: 0.9353 - val_auc: 0.7574 - val_f1_score: 0.2045 - val_loss: 0.0745 - val_precision: 0.3399 - val_recall: 0.1792 - learning_rate: 6.2500e-06\n"
     ]
    },
    {
     "name": "stderr",
     "output_type": "stream",
     "text": [
      "2025-06-14 15:06:22 - INFO - \n",
      "=== Starting Epoch 26 ===\n",
      "\n"
     ]
    },
    {
     "name": "stdout",
     "output_type": "stream",
     "text": [
      "Epoch 26/100\n",
      "\u001b[1m813/813\u001b[0m \u001b[32m━━━━━━━━━━━━━━━━━━━━\u001b[0m\u001b[37m\u001b[0m \u001b[1m0s\u001b[0m 225ms/step - accuracy: 0.9337 - auc: 0.8914 - f1_score: 0.3935 - loss: 0.0505 - precision: 0.6575 - recall: 0.3164  "
     ]
    },
    {
     "name": "stderr",
     "output_type": "stream",
     "text": [
      "2025-06-14 15:09:33 - INFO - \n",
      "=== Epoch 26 Summary ===\n",
      "2025-06-14 15:09:33 - INFO - Time: 191.07s\n",
      "2025-06-14 15:09:33 - INFO - Training   - accuracy: 0.9344 - auc: 0.8939 - f1_score: 0.4000 - loss: 0.0500 - precision: 0.6623 - recall: 0.3214 - learning_rate: 0.0000\n",
      "2025-06-14 15:09:33 - INFO - Validation - accuracy: 0.9353 - auc: 0.7538 - f1_score: 0.1856 - loss: 0.0765 - precision: 0.3215 - recall: 0.1508\n",
      "2025-06-14 15:09:33 - INFO - ==================================================\n",
      "\n"
     ]
    },
    {
     "name": "stdout",
     "output_type": "stream",
     "text": [
      "\u001b[1m813/813\u001b[0m \u001b[32m━━━━━━━━━━━━━━━━━━━━\u001b[0m\u001b[37m\u001b[0m \u001b[1m191s\u001b[0m 235ms/step - accuracy: 0.9337 - auc: 0.8914 - f1_score: 0.3935 - loss: 0.0505 - precision: 0.6575 - recall: 0.3164 - val_accuracy: 0.9353 - val_auc: 0.7538 - val_f1_score: 0.1856 - val_loss: 0.0765 - val_precision: 0.3215 - val_recall: 0.1508 - learning_rate: 6.2500e-06\n"
     ]
    },
    {
     "name": "stderr",
     "output_type": "stream",
     "text": [
      "2025-06-14 15:09:33 - INFO - \n",
      "=== Starting Epoch 27 ===\n",
      "\n"
     ]
    },
    {
     "name": "stdout",
     "output_type": "stream",
     "text": [
      "Epoch 27/100\n",
      "\u001b[1m813/813\u001b[0m \u001b[32m━━━━━━━━━━━━━━━━━━━━\u001b[0m\u001b[37m\u001b[0m \u001b[1m0s\u001b[0m 223ms/step - accuracy: 0.9347 - auc: 0.8967 - f1_score: 0.4075 - loss: 0.0496 - precision: 0.6623 - recall: 0.3287  \n",
      "Epoch 27: ReduceLROnPlateau reducing learning rate to 3.12499992105586e-06.\n"
     ]
    },
    {
     "name": "stderr",
     "output_type": "stream",
     "text": [
      "2025-06-14 15:12:43 - INFO - \n",
      "=== Epoch 27 Summary ===\n",
      "2025-06-14 15:12:43 - INFO - Time: 189.50s\n",
      "2025-06-14 15:12:43 - INFO - Training   - accuracy: 0.9352 - auc: 0.8982 - f1_score: 0.4127 - loss: 0.0492 - precision: 0.6663 - recall: 0.3330 - learning_rate: 0.0000\n",
      "2025-06-14 15:12:43 - INFO - Validation - accuracy: 0.9339 - auc: 0.7518 - f1_score: 0.1831 - loss: 0.0758 - precision: 0.3011 - recall: 0.1467\n",
      "2025-06-14 15:12:43 - INFO - ==================================================\n",
      "\n"
     ]
    },
    {
     "name": "stdout",
     "output_type": "stream",
     "text": [
      "\u001b[1m813/813\u001b[0m \u001b[32m━━━━━━━━━━━━━━━━━━━━\u001b[0m\u001b[37m\u001b[0m \u001b[1m190s\u001b[0m 233ms/step - accuracy: 0.9347 - auc: 0.8967 - f1_score: 0.4075 - loss: 0.0496 - precision: 0.6623 - recall: 0.3287 - val_accuracy: 0.9339 - val_auc: 0.7518 - val_f1_score: 0.1831 - val_loss: 0.0758 - val_precision: 0.3011 - val_recall: 0.1467 - learning_rate: 6.2500e-06\n"
     ]
    },
    {
     "name": "stderr",
     "output_type": "stream",
     "text": [
      "2025-06-14 15:12:43 - INFO - \n",
      "=== Starting Epoch 28 ===\n",
      "\n"
     ]
    },
    {
     "name": "stdout",
     "output_type": "stream",
     "text": [
      "Epoch 28/100\n",
      "\u001b[1m813/813\u001b[0m \u001b[32m━━━━━━━━━━━━━━━━━━━━\u001b[0m\u001b[37m\u001b[0m \u001b[1m0s\u001b[0m 225ms/step - accuracy: 0.9358 - auc: 0.9026 - f1_score: 0.4261 - loss: 0.0484 - precision: 0.6791 - recall: 0.3445  "
     ]
    },
    {
     "name": "stderr",
     "output_type": "stream",
     "text": [
      "2025-06-14 15:15:54 - INFO - \n",
      "=== Epoch 28 Summary ===\n",
      "2025-06-14 15:15:54 - INFO - Time: 191.72s\n",
      "2025-06-14 15:15:54 - INFO - Training   - accuracy: 0.9370 - auc: 0.9049 - f1_score: 0.4344 - loss: 0.0478 - precision: 0.6867 - recall: 0.3518 - learning_rate: 0.0000\n",
      "2025-06-14 15:15:54 - INFO - Validation - accuracy: 0.9350 - auc: 0.7536 - f1_score: 0.2298 - loss: 0.0742 - precision: 0.3429 - recall: 0.1893\n",
      "2025-06-14 15:15:54 - INFO - ==================================================\n",
      "\n"
     ]
    },
    {
     "name": "stdout",
     "output_type": "stream",
     "text": [
      "\u001b[1m813/813\u001b[0m \u001b[32m━━━━━━━━━━━━━━━━━━━━\u001b[0m\u001b[37m\u001b[0m \u001b[1m192s\u001b[0m 236ms/step - accuracy: 0.9358 - auc: 0.9026 - f1_score: 0.4261 - loss: 0.0484 - precision: 0.6791 - recall: 0.3445 - val_accuracy: 0.9350 - val_auc: 0.7536 - val_f1_score: 0.2298 - val_loss: 0.0742 - val_precision: 0.3429 - val_recall: 0.1893 - learning_rate: 3.1250e-06\n"
     ]
    },
    {
     "name": "stderr",
     "output_type": "stream",
     "text": [
      "2025-06-14 15:15:54 - INFO - \n",
      "=== Starting Epoch 29 ===\n",
      "\n"
     ]
    },
    {
     "name": "stdout",
     "output_type": "stream",
     "text": [
      "Epoch 29/100\n",
      "\u001b[1m813/813\u001b[0m \u001b[32m━━━━━━━━━━━━━━━━━━━━\u001b[0m\u001b[37m\u001b[0m \u001b[1m0s\u001b[0m 225ms/step - accuracy: 0.9376 - auc: 0.9083 - f1_score: 0.4455 - loss: 0.0473 - precision: 0.6897 - recall: 0.3622  "
     ]
    },
    {
     "name": "stderr",
     "output_type": "stream",
     "text": [
      "2025-06-14 15:19:05 - INFO - \n",
      "=== Epoch 29 Summary ===\n",
      "2025-06-14 15:19:05 - INFO - Time: 190.91s\n",
      "2025-06-14 15:19:05 - INFO - Training   - accuracy: 0.9380 - auc: 0.9097 - f1_score: 0.4501 - loss: 0.0469 - precision: 0.6919 - recall: 0.3663 - learning_rate: 0.0000\n",
      "2025-06-14 15:19:05 - INFO - Validation - accuracy: 0.9350 - auc: 0.7527 - f1_score: 0.1952 - loss: 0.0758 - precision: 0.3154 - recall: 0.1483\n",
      "2025-06-14 15:19:05 - INFO - ==================================================\n",
      "\n"
     ]
    },
    {
     "name": "stdout",
     "output_type": "stream",
     "text": [
      "\u001b[1m813/813\u001b[0m \u001b[32m━━━━━━━━━━━━━━━━━━━━\u001b[0m\u001b[37m\u001b[0m \u001b[1m191s\u001b[0m 235ms/step - accuracy: 0.9376 - auc: 0.9083 - f1_score: 0.4455 - loss: 0.0473 - precision: 0.6897 - recall: 0.3622 - val_accuracy: 0.9350 - val_auc: 0.7527 - val_f1_score: 0.1952 - val_loss: 0.0758 - val_precision: 0.3154 - val_recall: 0.1483 - learning_rate: 3.1250e-06\n"
     ]
    },
    {
     "name": "stderr",
     "output_type": "stream",
     "text": [
      "2025-06-14 15:19:05 - INFO - \n",
      "=== Starting Epoch 30 ===\n",
      "\n"
     ]
    },
    {
     "name": "stdout",
     "output_type": "stream",
     "text": [
      "Epoch 30/100\n",
      "\u001b[1m813/813\u001b[0m \u001b[32m━━━━━━━━━━━━━━━━━━━━\u001b[0m\u001b[37m\u001b[0m \u001b[1m0s\u001b[0m 225ms/step - accuracy: 0.9382 - auc: 0.9107 - f1_score: 0.4566 - loss: 0.0469 - precision: 0.6918 - recall: 0.3722  "
     ]
    },
    {
     "name": "stderr",
     "output_type": "stream",
     "text": [
      "2025-06-14 15:22:17 - INFO - \n",
      "=== Epoch 30 Summary ===\n",
      "2025-06-14 15:22:17 - INFO - Time: 191.35s\n",
      "2025-06-14 15:22:17 - INFO - Training   - accuracy: 0.9387 - auc: 0.9127 - f1_score: 0.4604 - loss: 0.0464 - precision: 0.6957 - recall: 0.3760 - learning_rate: 0.0000\n",
      "2025-06-14 15:22:17 - INFO - Validation - accuracy: 0.9342 - auc: 0.7485 - f1_score: 0.2053 - loss: 0.0753 - precision: 0.3226 - recall: 0.1703\n",
      "2025-06-14 15:22:17 - INFO - ==================================================\n",
      "\n"
     ]
    },
    {
     "name": "stdout",
     "output_type": "stream",
     "text": [
      "\u001b[1m813/813\u001b[0m \u001b[32m━━━━━━━━━━━━━━━━━━━━\u001b[0m\u001b[37m\u001b[0m \u001b[1m191s\u001b[0m 235ms/step - accuracy: 0.9382 - auc: 0.9107 - f1_score: 0.4566 - loss: 0.0469 - precision: 0.6918 - recall: 0.3722 - val_accuracy: 0.9342 - val_auc: 0.7485 - val_f1_score: 0.2053 - val_loss: 0.0753 - val_precision: 0.3226 - val_recall: 0.1703 - learning_rate: 3.1250e-06\n"
     ]
    },
    {
     "name": "stderr",
     "output_type": "stream",
     "text": [
      "2025-06-14 15:22:17 - INFO - \n",
      "=== Starting Epoch 31 ===\n",
      "\n"
     ]
    },
    {
     "name": "stdout",
     "output_type": "stream",
     "text": [
      "Epoch 31/100\n",
      "\u001b[1m813/813\u001b[0m \u001b[32m━━━━━━━━━━━━━━━━━━━━\u001b[0m\u001b[37m\u001b[0m \u001b[1m0s\u001b[0m 225ms/step - accuracy: 0.9388 - auc: 0.9139 - f1_score: 0.4690 - loss: 0.0462 - precision: 0.7017 - recall: 0.3834  \n",
      "Epoch 31: ReduceLROnPlateau reducing learning rate to 1.56249996052793e-06.\n"
     ]
    },
    {
     "name": "stderr",
     "output_type": "stream",
     "text": [
      "2025-06-14 15:25:28 - INFO - \n",
      "=== Epoch 31 Summary ===\n",
      "2025-06-14 15:25:28 - INFO - Time: 191.34s\n",
      "2025-06-14 15:25:28 - INFO - Training   - accuracy: 0.9394 - auc: 0.9149 - f1_score: 0.4714 - loss: 0.0458 - precision: 0.7026 - recall: 0.3864 - learning_rate: 0.0000\n",
      "2025-06-14 15:25:28 - INFO - Validation - accuracy: 0.9339 - auc: 0.7525 - f1_score: 0.1834 - loss: 0.0803 - precision: 0.3039 - recall: 0.1503\n",
      "2025-06-14 15:25:28 - INFO - ==================================================\n",
      "\n"
     ]
    },
    {
     "name": "stdout",
     "output_type": "stream",
     "text": [
      "\u001b[1m813/813\u001b[0m \u001b[32m━━━━━━━━━━━━━━━━━━━━\u001b[0m\u001b[37m\u001b[0m \u001b[1m191s\u001b[0m 235ms/step - accuracy: 0.9388 - auc: 0.9139 - f1_score: 0.4690 - loss: 0.0462 - precision: 0.7017 - recall: 0.3834 - val_accuracy: 0.9339 - val_auc: 0.7525 - val_f1_score: 0.1834 - val_loss: 0.0803 - val_precision: 0.3039 - val_recall: 0.1503 - learning_rate: 3.1250e-06\n"
     ]
    },
    {
     "name": "stderr",
     "output_type": "stream",
     "text": [
      "2025-06-14 15:25:28 - INFO - \n",
      "=== Starting Epoch 32 ===\n",
      "\n"
     ]
    },
    {
     "name": "stdout",
     "output_type": "stream",
     "text": [
      "Epoch 32/100\n",
      "\u001b[1m813/813\u001b[0m \u001b[32m━━━━━━━━━━━━━━━━━━━━\u001b[0m\u001b[37m\u001b[0m \u001b[1m0s\u001b[0m 225ms/step - accuracy: 0.9397 - auc: 0.9174 - f1_score: 0.4766 - loss: 0.0455 - precision: 0.7033 - recall: 0.3916  "
     ]
    },
    {
     "name": "stderr",
     "output_type": "stream",
     "text": [
      "2025-06-14 15:28:39 - INFO - \n",
      "=== Epoch 32 Summary ===\n",
      "2025-06-14 15:28:39 - INFO - Time: 191.49s\n",
      "2025-06-14 15:28:39 - INFO - Training   - accuracy: 0.9405 - auc: 0.9192 - f1_score: 0.4820 - loss: 0.0450 - precision: 0.7093 - recall: 0.3964 - learning_rate: 0.0000\n",
      "2025-06-14 15:28:39 - INFO - Validation - accuracy: 0.9357 - auc: 0.7499 - f1_score: 0.2152 - loss: 0.0759 - precision: 0.3487 - recall: 0.1863\n",
      "2025-06-14 15:28:39 - INFO - ==================================================\n",
      "\n"
     ]
    },
    {
     "name": "stdout",
     "output_type": "stream",
     "text": [
      "\u001b[1m813/813\u001b[0m \u001b[32m━━━━━━━━━━━━━━━━━━━━\u001b[0m\u001b[37m\u001b[0m \u001b[1m191s\u001b[0m 236ms/step - accuracy: 0.9397 - auc: 0.9174 - f1_score: 0.4766 - loss: 0.0455 - precision: 0.7033 - recall: 0.3916 - val_accuracy: 0.9357 - val_auc: 0.7499 - val_f1_score: 0.2152 - val_loss: 0.0759 - val_precision: 0.3487 - val_recall: 0.1863 - learning_rate: 1.5625e-06\n"
     ]
    },
    {
     "name": "stderr",
     "output_type": "stream",
     "text": [
      "2025-06-14 15:28:40 - INFO - \n",
      "=== Starting Epoch 33 ===\n",
      "\n"
     ]
    },
    {
     "name": "stdout",
     "output_type": "stream",
     "text": [
      "Epoch 33/100\n",
      "\u001b[1m813/813\u001b[0m \u001b[32m━━━━━━━━━━━━━━━━━━━━\u001b[0m\u001b[37m\u001b[0m \u001b[1m0s\u001b[0m 225ms/step - accuracy: 0.9401 - auc: 0.9201 - f1_score: 0.4873 - loss: 0.0452 - precision: 0.7132 - recall: 0.4003  "
     ]
    },
    {
     "name": "stderr",
     "output_type": "stream",
     "text": [
      "2025-06-14 15:31:51 - INFO - \n",
      "=== Epoch 33 Summary ===\n",
      "2025-06-14 15:31:51 - INFO - Time: 191.05s\n",
      "2025-06-14 15:31:51 - INFO - Training   - accuracy: 0.9411 - auc: 0.9215 - f1_score: 0.4916 - loss: 0.0446 - precision: 0.7146 - recall: 0.4050 - learning_rate: 0.0000\n",
      "2025-06-14 15:31:51 - INFO - Validation - accuracy: 0.9359 - auc: 0.7509 - f1_score: 0.2056 - loss: 0.0770 - precision: 0.3377 - recall: 0.1628\n",
      "2025-06-14 15:31:51 - INFO - ==================================================\n",
      "\n"
     ]
    },
    {
     "name": "stdout",
     "output_type": "stream",
     "text": [
      "\u001b[1m813/813\u001b[0m \u001b[32m━━━━━━━━━━━━━━━━━━━━\u001b[0m\u001b[37m\u001b[0m \u001b[1m191s\u001b[0m 235ms/step - accuracy: 0.9401 - auc: 0.9201 - f1_score: 0.4873 - loss: 0.0452 - precision: 0.7132 - recall: 0.4003 - val_accuracy: 0.9359 - val_auc: 0.7509 - val_f1_score: 0.2056 - val_loss: 0.0770 - val_precision: 0.3377 - val_recall: 0.1628 - learning_rate: 1.5625e-06\n"
     ]
    },
    {
     "name": "stderr",
     "output_type": "stream",
     "text": [
      "2025-06-14 15:31:51 - INFO - \n",
      "=== Starting Epoch 34 ===\n",
      "\n"
     ]
    },
    {
     "name": "stdout",
     "output_type": "stream",
     "text": [
      "Epoch 34/100\n",
      "\u001b[1m813/813\u001b[0m \u001b[32m━━━━━━━━━━━━━━━━━━━━\u001b[0m\u001b[37m\u001b[0m \u001b[1m0s\u001b[0m 225ms/step - accuracy: 0.9410 - auc: 0.9215 - f1_score: 0.4949 - loss: 0.0446 - precision: 0.7181 - recall: 0.4070  \n",
      "Epoch 34: ReduceLROnPlateau reducing learning rate to 1e-06.\n"
     ]
    },
    {
     "name": "stderr",
     "output_type": "stream",
     "text": [
      "2025-06-14 15:35:02 - INFO - \n",
      "=== Epoch 34 Summary ===\n",
      "2025-06-14 15:35:02 - INFO - Time: 191.13s\n",
      "2025-06-14 15:35:02 - INFO - Training   - accuracy: 0.9413 - auc: 0.9229 - f1_score: 0.4968 - loss: 0.0444 - precision: 0.7158 - recall: 0.4101 - learning_rate: 0.0000\n",
      "2025-06-14 15:35:02 - INFO - Validation - accuracy: 0.9340 - auc: 0.7488 - f1_score: 0.2117 - loss: 0.0770 - precision: 0.3280 - recall: 0.1827\n",
      "2025-06-14 15:35:02 - INFO - ==================================================\n",
      "\n"
     ]
    },
    {
     "name": "stdout",
     "output_type": "stream",
     "text": [
      "\u001b[1m813/813\u001b[0m \u001b[32m━━━━━━━━━━━━━━━━━━━━\u001b[0m\u001b[37m\u001b[0m \u001b[1m191s\u001b[0m 235ms/step - accuracy: 0.9410 - auc: 0.9215 - f1_score: 0.4949 - loss: 0.0446 - precision: 0.7181 - recall: 0.4070 - val_accuracy: 0.9340 - val_auc: 0.7488 - val_f1_score: 0.2117 - val_loss: 0.0770 - val_precision: 0.3280 - val_recall: 0.1827 - learning_rate: 1.5625e-06\n"
     ]
    },
    {
     "name": "stderr",
     "output_type": "stream",
     "text": [
      "2025-06-14 15:35:02 - INFO - \n",
      "=== Starting Epoch 35 ===\n",
      "\n"
     ]
    },
    {
     "name": "stdout",
     "output_type": "stream",
     "text": [
      "Epoch 35/100\n",
      "\u001b[1m813/813\u001b[0m \u001b[32m━━━━━━━━━━━━━━━━━━━━\u001b[0m\u001b[37m\u001b[0m \u001b[1m0s\u001b[0m 225ms/step - accuracy: 0.9426 - auc: 0.9247 - f1_score: 0.5061 - loss: 0.0441 - precision: 0.7265 - recall: 0.4179  "
     ]
    },
    {
     "name": "stderr",
     "output_type": "stream",
     "text": [
      "2025-06-14 15:38:13 - INFO - \n",
      "=== Epoch 35 Summary ===\n",
      "2025-06-14 15:38:13 - INFO - Time: 191.34s\n",
      "2025-06-14 15:38:13 - INFO - Training   - accuracy: 0.9426 - auc: 0.9255 - f1_score: 0.5083 - loss: 0.0439 - precision: 0.7258 - recall: 0.4202 - learning_rate: 0.0000\n",
      "2025-06-14 15:38:13 - INFO - Validation - accuracy: 0.9347 - auc: 0.7477 - f1_score: 0.2190 - loss: 0.0762 - precision: 0.3333 - recall: 0.1788\n",
      "2025-06-14 15:38:13 - INFO - ==================================================\n",
      "\n"
     ]
    },
    {
     "name": "stdout",
     "output_type": "stream",
     "text": [
      "\u001b[1m813/813\u001b[0m \u001b[32m━━━━━━━━━━━━━━━━━━━━\u001b[0m\u001b[37m\u001b[0m \u001b[1m191s\u001b[0m 235ms/step - accuracy: 0.9426 - auc: 0.9247 - f1_score: 0.5061 - loss: 0.0441 - precision: 0.7265 - recall: 0.4179 - val_accuracy: 0.9347 - val_auc: 0.7477 - val_f1_score: 0.2190 - val_loss: 0.0762 - val_precision: 0.3333 - val_recall: 0.1788 - learning_rate: 1.0000e-06\n"
     ]
    },
    {
     "name": "stderr",
     "output_type": "stream",
     "text": [
      "2025-06-14 15:38:13 - INFO - \n",
      "=== Starting Epoch 36 ===\n",
      "\n"
     ]
    },
    {
     "name": "stdout",
     "output_type": "stream",
     "text": [
      "Epoch 36/100\n",
      "\u001b[1m813/813\u001b[0m \u001b[32m━━━━━━━━━━━━━━━━━━━━\u001b[0m\u001b[37m\u001b[0m \u001b[1m0s\u001b[0m 225ms/step - accuracy: 0.9420 - auc: 0.9249 - f1_score: 0.5047 - loss: 0.0440 - precision: 0.7219 - recall: 0.4174  "
     ]
    },
    {
     "name": "stderr",
     "output_type": "stream",
     "text": [
      "2025-06-14 15:41:24 - INFO - \n",
      "=== Epoch 36 Summary ===\n",
      "2025-06-14 15:41:24 - INFO - Time: 191.29s\n",
      "2025-06-14 15:41:24 - INFO - Training   - accuracy: 0.9425 - auc: 0.9262 - f1_score: 0.5090 - loss: 0.0437 - precision: 0.7231 - recall: 0.4220 - learning_rate: 0.0000\n",
      "2025-06-14 15:41:24 - INFO - Validation - accuracy: 0.9350 - auc: 0.7498 - f1_score: 0.2125 - loss: 0.0764 - precision: 0.3307 - recall: 0.1703\n",
      "2025-06-14 15:41:24 - INFO - ==================================================\n",
      "\n"
     ]
    },
    {
     "name": "stdout",
     "output_type": "stream",
     "text": [
      "\u001b[1m813/813\u001b[0m \u001b[32m━━━━━━━━━━━━━━━━━━━━\u001b[0m\u001b[37m\u001b[0m \u001b[1m191s\u001b[0m 235ms/step - accuracy: 0.9420 - auc: 0.9249 - f1_score: 0.5047 - loss: 0.0440 - precision: 0.7219 - recall: 0.4174 - val_accuracy: 0.9350 - val_auc: 0.7498 - val_f1_score: 0.2125 - val_loss: 0.0764 - val_precision: 0.3307 - val_recall: 0.1703 - learning_rate: 1.0000e-06\n"
     ]
    },
    {
     "name": "stderr",
     "output_type": "stream",
     "text": [
      "2025-06-14 15:41:24 - INFO - \n",
      "=== Starting Epoch 37 ===\n",
      "\n"
     ]
    },
    {
     "name": "stdout",
     "output_type": "stream",
     "text": [
      "Epoch 37/100\n",
      "\u001b[1m813/813\u001b[0m \u001b[32m━━━━━━━━━━━━━━━━━━━━\u001b[0m\u001b[37m\u001b[0m \u001b[1m0s\u001b[0m 225ms/step - accuracy: 0.9425 - auc: 0.9272 - f1_score: 0.5139 - loss: 0.0436 - precision: 0.7273 - recall: 0.4252  "
     ]
    },
    {
     "name": "stderr",
     "output_type": "stream",
     "text": [
      "2025-06-14 15:44:36 - INFO - \n",
      "=== Epoch 37 Summary ===\n",
      "2025-06-14 15:44:36 - INFO - Time: 191.42s\n",
      "2025-06-14 15:44:36 - INFO - Training   - accuracy: 0.9431 - auc: 0.9277 - f1_score: 0.5182 - loss: 0.0434 - precision: 0.7285 - recall: 0.4303 - learning_rate: 0.0000\n",
      "2025-06-14 15:44:36 - INFO - Validation - accuracy: 0.9339 - auc: 0.7501 - f1_score: 0.2160 - loss: 0.0774 - precision: 0.3258 - recall: 0.1803\n",
      "2025-06-14 15:44:36 - INFO - ==================================================\n",
      "\n"
     ]
    },
    {
     "name": "stdout",
     "output_type": "stream",
     "text": [
      "\u001b[1m813/813\u001b[0m \u001b[32m━━━━━━━━━━━━━━━━━━━━\u001b[0m\u001b[37m\u001b[0m \u001b[1m191s\u001b[0m 235ms/step - accuracy: 0.9425 - auc: 0.9272 - f1_score: 0.5139 - loss: 0.0436 - precision: 0.7273 - recall: 0.4252 - val_accuracy: 0.9339 - val_auc: 0.7501 - val_f1_score: 0.2160 - val_loss: 0.0774 - val_precision: 0.3258 - val_recall: 0.1803 - learning_rate: 1.0000e-06\n"
     ]
    },
    {
     "name": "stderr",
     "output_type": "stream",
     "text": [
      "2025-06-14 15:44:36 - INFO - \n",
      "=== Starting Epoch 38 ===\n",
      "\n"
     ]
    },
    {
     "name": "stdout",
     "output_type": "stream",
     "text": [
      "Epoch 38/100\n",
      "\u001b[1m813/813\u001b[0m \u001b[32m━━━━━━━━━━━━━━━━━━━━\u001b[0m\u001b[37m\u001b[0m \u001b[1m0s\u001b[0m 221ms/step - accuracy: 0.9432 - auc: 0.9278 - f1_score: 0.5203 - loss: 0.0433 - precision: 0.7296 - recall: 0.4325  "
     ]
    },
    {
     "name": "stderr",
     "output_type": "stream",
     "text": [
      "2025-06-14 15:47:45 - INFO - \n",
      "=== Epoch 38 Summary ===\n",
      "2025-06-14 15:47:45 - INFO - Time: 189.08s\n",
      "2025-06-14 15:47:45 - INFO - Training   - accuracy: 0.9436 - auc: 0.9295 - f1_score: 0.5232 - loss: 0.0430 - precision: 0.7312 - recall: 0.4356 - learning_rate: 0.0000\n",
      "2025-06-14 15:47:45 - INFO - Validation - accuracy: 0.9332 - auc: 0.7472 - f1_score: 0.2379 - loss: 0.0767 - precision: 0.3327 - recall: 0.2055\n",
      "2025-06-14 15:47:45 - INFO - ==================================================\n",
      "\n"
     ]
    },
    {
     "name": "stdout",
     "output_type": "stream",
     "text": [
      "\u001b[1m813/813\u001b[0m \u001b[32m━━━━━━━━━━━━━━━━━━━━\u001b[0m\u001b[37m\u001b[0m \u001b[1m189s\u001b[0m 233ms/step - accuracy: 0.9432 - auc: 0.9278 - f1_score: 0.5203 - loss: 0.0433 - precision: 0.7297 - recall: 0.4325 - val_accuracy: 0.9332 - val_auc: 0.7472 - val_f1_score: 0.2379 - val_loss: 0.0767 - val_precision: 0.3327 - val_recall: 0.2055 - learning_rate: 1.0000e-06\n"
     ]
    },
    {
     "name": "stderr",
     "output_type": "stream",
     "text": [
      "2025-06-14 15:47:45 - INFO - \n",
      "=== Starting Epoch 39 ===\n",
      "\n"
     ]
    },
    {
     "name": "stdout",
     "output_type": "stream",
     "text": [
      "Epoch 39/100\n",
      "\u001b[1m813/813\u001b[0m \u001b[32m━━━━━━━━━━━━━━━━━━━━\u001b[0m\u001b[37m\u001b[0m \u001b[1m0s\u001b[0m 225ms/step - accuracy: 0.9431 - auc: 0.9294 - f1_score: 0.5207 - loss: 0.0431 - precision: 0.7260 - recall: 0.4342  "
     ]
    },
    {
     "name": "stderr",
     "output_type": "stream",
     "text": [
      "2025-06-14 15:50:56 - INFO - \n",
      "=== Epoch 39 Summary ===\n",
      "2025-06-14 15:50:56 - INFO - Time: 191.01s\n",
      "2025-06-14 15:50:56 - INFO - Training   - accuracy: 0.9435 - auc: 0.9302 - f1_score: 0.5241 - loss: 0.0429 - precision: 0.7279 - recall: 0.4374 - learning_rate: 0.0000\n",
      "2025-06-14 15:50:56 - INFO - Validation - accuracy: 0.9351 - auc: 0.7463 - f1_score: 0.2177 - loss: 0.0766 - precision: 0.3344 - recall: 0.1736\n",
      "2025-06-14 15:50:56 - INFO - ==================================================\n",
      "\n"
     ]
    },
    {
     "name": "stdout",
     "output_type": "stream",
     "text": [
      "\u001b[1m813/813\u001b[0m \u001b[32m━━━━━━━━━━━━━━━━━━━━\u001b[0m\u001b[37m\u001b[0m \u001b[1m191s\u001b[0m 235ms/step - accuracy: 0.9431 - auc: 0.9294 - f1_score: 0.5207 - loss: 0.0431 - precision: 0.7260 - recall: 0.4342 - val_accuracy: 0.9351 - val_auc: 0.7463 - val_f1_score: 0.2177 - val_loss: 0.0766 - val_precision: 0.3344 - val_recall: 0.1736 - learning_rate: 1.0000e-06\n"
     ]
    },
    {
     "name": "stderr",
     "output_type": "stream",
     "text": [
      "2025-06-14 15:50:56 - INFO - \n",
      "=== Starting Epoch 40 ===\n",
      "\n"
     ]
    },
    {
     "name": "stdout",
     "output_type": "stream",
     "text": [
      "Epoch 40/100\n",
      "\u001b[1m813/813\u001b[0m \u001b[32m━━━━━━━━━━━━━━━━━━━━\u001b[0m\u001b[37m\u001b[0m \u001b[1m0s\u001b[0m 225ms/step - accuracy: 0.9437 - auc: 0.9312 - f1_score: 0.5278 - loss: 0.0428 - precision: 0.7302 - recall: 0.4413  "
     ]
    },
    {
     "name": "stderr",
     "output_type": "stream",
     "text": [
      "2025-06-14 15:54:08 - INFO - \n",
      "=== Epoch 40 Summary ===\n",
      "2025-06-14 15:54:08 - INFO - Time: 191.70s\n",
      "2025-06-14 15:54:08 - INFO - Training   - accuracy: 0.9440 - auc: 0.9317 - f1_score: 0.5295 - loss: 0.0427 - precision: 0.7312 - recall: 0.4430 - learning_rate: 0.0000\n",
      "2025-06-14 15:54:08 - INFO - Validation - accuracy: 0.9331 - auc: 0.7469 - f1_score: 0.2243 - loss: 0.0777 - precision: 0.3249 - recall: 0.1924\n",
      "2025-06-14 15:54:08 - INFO - ==================================================\n",
      "\n"
     ]
    },
    {
     "name": "stdout",
     "output_type": "stream",
     "text": [
      "\u001b[1m813/813\u001b[0m \u001b[32m━━━━━━━━━━━━━━━━━━━━\u001b[0m\u001b[37m\u001b[0m \u001b[1m192s\u001b[0m 236ms/step - accuracy: 0.9437 - auc: 0.9312 - f1_score: 0.5278 - loss: 0.0428 - precision: 0.7302 - recall: 0.4413 - val_accuracy: 0.9331 - val_auc: 0.7469 - val_f1_score: 0.2243 - val_loss: 0.0777 - val_precision: 0.3249 - val_recall: 0.1924 - learning_rate: 1.0000e-06\n"
     ]
    },
    {
     "name": "stderr",
     "output_type": "stream",
     "text": [
      "2025-06-14 15:54:08 - INFO - \n",
      "=== Starting Epoch 41 ===\n",
      "\n"
     ]
    },
    {
     "name": "stdout",
     "output_type": "stream",
     "text": [
      "Epoch 41/100\n",
      "\u001b[1m813/813\u001b[0m \u001b[32m━━━━━━━━━━━━━━━━━━━━\u001b[0m\u001b[37m\u001b[0m \u001b[1m0s\u001b[0m 225ms/step - accuracy: 0.9442 - auc: 0.9312 - f1_score: 0.5327 - loss: 0.0426 - precision: 0.7331 - recall: 0.4459  "
     ]
    },
    {
     "name": "stderr",
     "output_type": "stream",
     "text": [
      "2025-06-14 15:57:19 - INFO - \n",
      "=== Epoch 41 Summary ===\n",
      "2025-06-14 15:57:19 - INFO - Time: 191.29s\n",
      "2025-06-14 15:57:19 - INFO - Training   - accuracy: 0.9444 - auc: 0.9323 - f1_score: 0.5342 - loss: 0.0425 - precision: 0.7342 - recall: 0.4473 - learning_rate: 0.0000\n",
      "2025-06-14 15:57:19 - INFO - Validation - accuracy: 0.9340 - auc: 0.7484 - f1_score: 0.2362 - loss: 0.0775 - precision: 0.3376 - recall: 0.1993\n",
      "2025-06-14 15:57:19 - INFO - ==================================================\n",
      "\n"
     ]
    },
    {
     "name": "stdout",
     "output_type": "stream",
     "text": [
      "\u001b[1m813/813\u001b[0m \u001b[32m━━━━━━━━━━━━━━━━━━━━\u001b[0m\u001b[37m\u001b[0m \u001b[1m191s\u001b[0m 235ms/step - accuracy: 0.9442 - auc: 0.9312 - f1_score: 0.5327 - loss: 0.0426 - precision: 0.7331 - recall: 0.4459 - val_accuracy: 0.9340 - val_auc: 0.7484 - val_f1_score: 0.2362 - val_loss: 0.0775 - val_precision: 0.3376 - val_recall: 0.1993 - learning_rate: 1.0000e-06\n"
     ]
    },
    {
     "name": "stderr",
     "output_type": "stream",
     "text": [
      "2025-06-14 15:57:19 - INFO - \n",
      "=== Starting Epoch 42 ===\n",
      "\n"
     ]
    },
    {
     "name": "stdout",
     "output_type": "stream",
     "text": [
      "Epoch 42/100\n",
      "\u001b[1m813/813\u001b[0m \u001b[32m━━━━━━━━━━━━━━━━━━━━\u001b[0m\u001b[37m\u001b[0m \u001b[1m0s\u001b[0m 225ms/step - accuracy: 0.9446 - auc: 0.9326 - f1_score: 0.5377 - loss: 0.0427 - precision: 0.7352 - recall: 0.4509  "
     ]
    },
    {
     "name": "stderr",
     "output_type": "stream",
     "text": [
      "2025-06-14 16:00:30 - INFO - \n",
      "=== Epoch 42 Summary ===\n",
      "2025-06-14 16:00:30 - INFO - Time: 191.31s\n",
      "2025-06-14 16:00:30 - INFO - Training   - accuracy: 0.9449 - auc: 0.9332 - f1_score: 0.5384 - loss: 0.0423 - precision: 0.7378 - recall: 0.4513 - learning_rate: 0.0000\n",
      "2025-06-14 16:00:30 - INFO - Validation - accuracy: 0.9338 - auc: 0.7469 - f1_score: 0.2356 - loss: 0.0780 - precision: 0.3315 - recall: 0.1926\n",
      "2025-06-14 16:00:30 - INFO - ==================================================\n",
      "\n"
     ]
    },
    {
     "name": "stdout",
     "output_type": "stream",
     "text": [
      "\u001b[1m813/813\u001b[0m \u001b[32m━━━━━━━━━━━━━━━━━━━━\u001b[0m\u001b[37m\u001b[0m \u001b[1m191s\u001b[0m 235ms/step - accuracy: 0.9446 - auc: 0.9326 - f1_score: 0.5377 - loss: 0.0427 - precision: 0.7352 - recall: 0.4509 - val_accuracy: 0.9338 - val_auc: 0.7469 - val_f1_score: 0.2356 - val_loss: 0.0780 - val_precision: 0.3315 - val_recall: 0.1926 - learning_rate: 1.0000e-06\n"
     ]
    },
    {
     "name": "stderr",
     "output_type": "stream",
     "text": [
      "2025-06-14 16:00:30 - INFO - \n",
      "=== Starting Epoch 43 ===\n",
      "\n"
     ]
    },
    {
     "name": "stdout",
     "output_type": "stream",
     "text": [
      "Epoch 43/100\n",
      "\u001b[1m813/813\u001b[0m \u001b[32m━━━━━━━━━━━━━━━━━━━━\u001b[0m\u001b[37m\u001b[0m \u001b[1m0s\u001b[0m 223ms/step - accuracy: 0.9446 - auc: 0.9333 - f1_score: 0.5393 - loss: 0.0423 - precision: 0.7370 - recall: 0.4523  "
     ]
    },
    {
     "name": "stderr",
     "output_type": "stream",
     "text": [
      "2025-06-14 16:03:40 - INFO - \n",
      "=== Epoch 43 Summary ===\n",
      "2025-06-14 16:03:40 - INFO - Time: 189.91s\n",
      "2025-06-14 16:03:40 - INFO - Training   - accuracy: 0.9452 - auc: 0.9343 - f1_score: 0.5437 - loss: 0.0421 - precision: 0.7392 - recall: 0.4568 - learning_rate: 0.0000\n",
      "2025-06-14 16:03:40 - INFO - Validation - accuracy: 0.9332 - auc: 0.7497 - f1_score: 0.2298 - loss: 0.0778 - precision: 0.3242 - recall: 0.1895\n",
      "2025-06-14 16:03:40 - INFO - ==================================================\n",
      "\n"
     ]
    },
    {
     "name": "stdout",
     "output_type": "stream",
     "text": [
      "\u001b[1m813/813\u001b[0m \u001b[32m━━━━━━━━━━━━━━━━━━━━\u001b[0m\u001b[37m\u001b[0m \u001b[1m190s\u001b[0m 234ms/step - accuracy: 0.9446 - auc: 0.9333 - f1_score: 0.5393 - loss: 0.0423 - precision: 0.7370 - recall: 0.4523 - val_accuracy: 0.9332 - val_auc: 0.7497 - val_f1_score: 0.2298 - val_loss: 0.0778 - val_precision: 0.3242 - val_recall: 0.1895 - learning_rate: 1.0000e-06\n"
     ]
    },
    {
     "name": "stderr",
     "output_type": "stream",
     "text": [
      "2025-06-14 16:03:40 - INFO - \n",
      "=== Starting Epoch 44 ===\n",
      "\n"
     ]
    },
    {
     "name": "stdout",
     "output_type": "stream",
     "text": [
      "Epoch 44/100\n",
      "\u001b[1m813/813\u001b[0m \u001b[32m━━━━━━━━━━━━━━━━━━━━\u001b[0m\u001b[37m\u001b[0m \u001b[1m0s\u001b[0m 488ms/step - accuracy: 0.9449 - auc: 0.9339 - f1_score: 0.5425 - loss: 0.0422 - precision: 0.7396 - recall: 0.4559  "
     ]
    },
    {
     "name": "stderr",
     "output_type": "stream",
     "text": [
      "2025-06-14 16:10:25 - INFO - \n",
      "=== Epoch 44 Summary ===\n",
      "2025-06-14 16:10:25 - INFO - Time: 404.56s\n",
      "2025-06-14 16:10:25 - INFO - Training   - accuracy: 0.9452 - auc: 0.9347 - f1_score: 0.5448 - loss: 0.0420 - precision: 0.7391 - recall: 0.4588 - learning_rate: 0.0000\n",
      "2025-06-14 16:10:25 - INFO - Validation - accuracy: 0.9327 - auc: 0.7424 - f1_score: 0.2103 - loss: 0.0799 - precision: 0.3068 - recall: 0.1702\n",
      "2025-06-14 16:10:25 - INFO - ==================================================\n",
      "\n"
     ]
    },
    {
     "name": "stdout",
     "output_type": "stream",
     "text": [
      "\u001b[1m813/813\u001b[0m \u001b[32m━━━━━━━━━━━━━━━━━━━━\u001b[0m\u001b[37m\u001b[0m \u001b[1m405s\u001b[0m 498ms/step - accuracy: 0.9449 - auc: 0.9339 - f1_score: 0.5425 - loss: 0.0422 - precision: 0.7396 - recall: 0.4559 - val_accuracy: 0.9327 - val_auc: 0.7424 - val_f1_score: 0.2103 - val_loss: 0.0799 - val_precision: 0.3068 - val_recall: 0.1702 - learning_rate: 1.0000e-06\n"
     ]
    },
    {
     "name": "stderr",
     "output_type": "stream",
     "text": [
      "2025-06-14 16:10:25 - INFO - \n",
      "=== Starting Epoch 45 ===\n",
      "\n"
     ]
    },
    {
     "name": "stdout",
     "output_type": "stream",
     "text": [
      "Epoch 45/100\n",
      "\u001b[1m813/813\u001b[0m \u001b[32m━━━━━━━━━━━━━━━━━━━━\u001b[0m\u001b[37m\u001b[0m \u001b[1m0s\u001b[0m 627ms/step - accuracy: 0.9456 - auc: 0.9354 - f1_score: 0.5489 - loss: 0.0420 - precision: 0.7419 - recall: 0.4629  "
     ]
    },
    {
     "name": "stderr",
     "output_type": "stream",
     "text": [
      "2025-06-14 16:19:02 - INFO - \n",
      "=== Epoch 45 Summary ===\n",
      "2025-06-14 16:19:02 - INFO - Time: 517.71s\n",
      "2025-06-14 16:19:02 - INFO - Training   - accuracy: 0.9458 - auc: 0.9361 - f1_score: 0.5508 - loss: 0.0417 - precision: 0.7408 - recall: 0.4651 - learning_rate: 0.0000\n",
      "2025-06-14 16:19:02 - INFO - Validation - accuracy: 0.9331 - auc: 0.7479 - f1_score: 0.2185 - loss: 0.0785 - precision: 0.3327 - recall: 0.2069\n",
      "2025-06-14 16:19:02 - INFO - ==================================================\n",
      "\n"
     ]
    },
    {
     "name": "stdout",
     "output_type": "stream",
     "text": [
      "\u001b[1m813/813\u001b[0m \u001b[32m━━━━━━━━━━━━━━━━━━━━\u001b[0m\u001b[37m\u001b[0m \u001b[1m518s\u001b[0m 637ms/step - accuracy: 0.9456 - auc: 0.9354 - f1_score: 0.5489 - loss: 0.0420 - precision: 0.7419 - recall: 0.4629 - val_accuracy: 0.9331 - val_auc: 0.7479 - val_f1_score: 0.2185 - val_loss: 0.0785 - val_precision: 0.3327 - val_recall: 0.2069 - learning_rate: 1.0000e-06\n"
     ]
    },
    {
     "name": "stderr",
     "output_type": "stream",
     "text": [
      "2025-06-14 16:19:02 - INFO - \n",
      "=== Starting Epoch 46 ===\n",
      "\n"
     ]
    },
    {
     "name": "stdout",
     "output_type": "stream",
     "text": [
      "Epoch 46/100\n",
      "\u001b[1m813/813\u001b[0m \u001b[32m━━━━━━━━━━━━━━━━━━━━\u001b[0m\u001b[37m\u001b[0m \u001b[1m0s\u001b[0m 225ms/step - accuracy: 0.9459 - auc: 0.9371 - f1_score: 0.5546 - loss: 0.0415 - precision: 0.7474 - recall: 0.4676  "
     ]
    },
    {
     "name": "stderr",
     "output_type": "stream",
     "text": [
      "2025-06-14 16:22:14 - INFO - \n",
      "=== Epoch 46 Summary ===\n",
      "2025-06-14 16:22:14 - INFO - Time: 191.56s\n",
      "2025-06-14 16:22:14 - INFO - Training   - accuracy: 0.9462 - auc: 0.9375 - f1_score: 0.5555 - loss: 0.0415 - precision: 0.7446 - recall: 0.4691 - learning_rate: 0.0000\n",
      "2025-06-14 16:22:14 - INFO - Validation - accuracy: 0.9324 - auc: 0.7510 - f1_score: 0.2226 - loss: 0.0797 - precision: 0.3092 - recall: 0.1788\n",
      "2025-06-14 16:22:14 - INFO - ==================================================\n",
      "\n"
     ]
    },
    {
     "name": "stdout",
     "output_type": "stream",
     "text": [
      "\u001b[1m813/813\u001b[0m \u001b[32m━━━━━━━━━━━━━━━━━━━━\u001b[0m\u001b[37m\u001b[0m \u001b[1m192s\u001b[0m 236ms/step - accuracy: 0.9459 - auc: 0.9371 - f1_score: 0.5546 - loss: 0.0415 - precision: 0.7474 - recall: 0.4676 - val_accuracy: 0.9324 - val_auc: 0.7510 - val_f1_score: 0.2226 - val_loss: 0.0797 - val_precision: 0.3092 - val_recall: 0.1788 - learning_rate: 1.0000e-06\n"
     ]
    },
    {
     "name": "stderr",
     "output_type": "stream",
     "text": [
      "2025-06-14 16:22:14 - INFO - \n",
      "=== Starting Epoch 47 ===\n",
      "\n"
     ]
    },
    {
     "name": "stdout",
     "output_type": "stream",
     "text": [
      "Epoch 47/100\n",
      "\u001b[1m813/813\u001b[0m \u001b[32m━━━━━━━━━━━━━━━━━━━━\u001b[0m\u001b[37m\u001b[0m \u001b[1m0s\u001b[0m 225ms/step - accuracy: 0.9464 - auc: 0.9379 - f1_score: 0.5582 - loss: 0.0413 - precision: 0.7481 - recall: 0.4718  "
     ]
    },
    {
     "name": "stderr",
     "output_type": "stream",
     "text": [
      "2025-06-14 16:25:26 - INFO - \n",
      "=== Epoch 47 Summary ===\n",
      "2025-06-14 16:25:26 - INFO - Time: 192.26s\n",
      "2025-06-14 16:25:26 - INFO - Training   - accuracy: 0.9466 - auc: 0.9382 - f1_score: 0.5605 - loss: 0.0413 - precision: 0.7480 - recall: 0.4743 - learning_rate: 0.0000\n",
      "2025-06-14 16:25:26 - INFO - Validation - accuracy: 0.9332 - auc: 0.7478 - f1_score: 0.2326 - loss: 0.0786 - precision: 0.3282 - recall: 0.1966\n",
      "2025-06-14 16:25:26 - INFO - ==================================================\n",
      "\n"
     ]
    },
    {
     "name": "stdout",
     "output_type": "stream",
     "text": [
      "\u001b[1m813/813\u001b[0m \u001b[32m━━━━━━━━━━━━━━━━━━━━\u001b[0m\u001b[37m\u001b[0m \u001b[1m192s\u001b[0m 237ms/step - accuracy: 0.9464 - auc: 0.9379 - f1_score: 0.5582 - loss: 0.0413 - precision: 0.7481 - recall: 0.4718 - val_accuracy: 0.9332 - val_auc: 0.7478 - val_f1_score: 0.2326 - val_loss: 0.0786 - val_precision: 0.3282 - val_recall: 0.1966 - learning_rate: 1.0000e-06\n"
     ]
    },
    {
     "name": "stderr",
     "output_type": "stream",
     "text": [
      "2025-06-14 16:25:26 - INFO - \n",
      "=== Starting Epoch 48 ===\n",
      "\n"
     ]
    },
    {
     "name": "stdout",
     "output_type": "stream",
     "text": [
      "Epoch 48/100\n",
      "\u001b[1m813/813\u001b[0m \u001b[32m━━━━━━━━━━━━━━━━━━━━\u001b[0m\u001b[37m\u001b[0m \u001b[1m0s\u001b[0m 652ms/step - accuracy: 0.9465 - auc: 0.9392 - f1_score: 0.5593 - loss: 0.0411 - precision: 0.7488 - recall: 0.4722   "
     ]
    },
    {
     "name": "stderr",
     "output_type": "stream",
     "text": [
      "2025-06-14 16:34:25 - INFO - \n",
      "=== Epoch 48 Summary ===\n",
      "2025-06-14 16:34:25 - INFO - Time: 538.41s\n",
      "2025-06-14 16:34:25 - INFO - Training   - accuracy: 0.9467 - auc: 0.9396 - f1_score: 0.5623 - loss: 0.0410 - precision: 0.7472 - recall: 0.4763 - learning_rate: 0.0000\n",
      "2025-06-14 16:34:25 - INFO - Validation - accuracy: 0.9307 - auc: 0.7449 - f1_score: 0.2384 - loss: 0.0799 - precision: 0.3200 - recall: 0.2232\n",
      "2025-06-14 16:34:25 - INFO - ==================================================\n",
      "\n"
     ]
    },
    {
     "name": "stdout",
     "output_type": "stream",
     "text": [
      "\u001b[1m813/813\u001b[0m \u001b[32m━━━━━━━━━━━━━━━━━━━━\u001b[0m\u001b[37m\u001b[0m \u001b[1m538s\u001b[0m 663ms/step - accuracy: 0.9465 - auc: 0.9392 - f1_score: 0.5593 - loss: 0.0411 - precision: 0.7488 - recall: 0.4722 - val_accuracy: 0.9307 - val_auc: 0.7449 - val_f1_score: 0.2384 - val_loss: 0.0799 - val_precision: 0.3200 - val_recall: 0.2232 - learning_rate: 1.0000e-06\n"
     ]
    },
    {
     "name": "stderr",
     "output_type": "stream",
     "text": [
      "2025-06-14 16:34:25 - INFO - \n",
      "=== Starting Epoch 49 ===\n",
      "\n"
     ]
    },
    {
     "name": "stdout",
     "output_type": "stream",
     "text": [
      "Epoch 49/100\n",
      "\u001b[1m813/813\u001b[0m \u001b[32m━━━━━━━━━━━━━━━━━━━━\u001b[0m\u001b[37m\u001b[0m \u001b[1m0s\u001b[0m 634ms/step - accuracy: 0.9470 - auc: 0.9407 - f1_score: 0.5667 - loss: 0.0409 - precision: 0.7503 - recall: 0.4810  "
     ]
    },
    {
     "name": "stderr",
     "output_type": "stream",
     "text": [
      "2025-06-14 16:43:08 - INFO - \n",
      "=== Epoch 49 Summary ===\n",
      "2025-06-14 16:43:08 - INFO - Time: 523.80s\n",
      "2025-06-14 16:43:08 - INFO - Training   - accuracy: 0.9471 - auc: 0.9404 - f1_score: 0.5677 - loss: 0.0408 - precision: 0.7495 - recall: 0.4826 - learning_rate: 0.0000\n",
      "2025-06-14 16:43:08 - INFO - Validation - accuracy: 0.9334 - auc: 0.7483 - f1_score: 0.2148 - loss: 0.0807 - precision: 0.3168 - recall: 0.1743\n",
      "2025-06-14 16:43:08 - INFO - ==================================================\n",
      "\n"
     ]
    },
    {
     "name": "stdout",
     "output_type": "stream",
     "text": [
      "\u001b[1m813/813\u001b[0m \u001b[32m━━━━━━━━━━━━━━━━━━━━\u001b[0m\u001b[37m\u001b[0m \u001b[1m524s\u001b[0m 645ms/step - accuracy: 0.9470 - auc: 0.9407 - f1_score: 0.5667 - loss: 0.0409 - precision: 0.7503 - recall: 0.4810 - val_accuracy: 0.9334 - val_auc: 0.7483 - val_f1_score: 0.2148 - val_loss: 0.0807 - val_precision: 0.3168 - val_recall: 0.1743 - learning_rate: 1.0000e-06\n"
     ]
    },
    {
     "name": "stderr",
     "output_type": "stream",
     "text": [
      "2025-06-14 16:43:08 - INFO - \n",
      "=== Starting Epoch 50 ===\n",
      "\n"
     ]
    },
    {
     "name": "stdout",
     "output_type": "stream",
     "text": [
      "Epoch 50/100\n",
      "\u001b[1m813/813\u001b[0m \u001b[32m━━━━━━━━━━━━━━━━━━━━\u001b[0m\u001b[37m\u001b[0m \u001b[1m0s\u001b[0m 570ms/step - accuracy: 0.9476 - auc: 0.9410 - f1_score: 0.5713 - loss: 0.0408 - precision: 0.7524 - recall: 0.4855  "
     ]
    },
    {
     "name": "stderr",
     "output_type": "stream",
     "text": [
      "2025-06-14 16:51:00 - INFO - \n",
      "=== Epoch 50 Summary ===\n",
      "2025-06-14 16:51:00 - INFO - Time: 471.38s\n",
      "2025-06-14 16:51:00 - INFO - Training   - accuracy: 0.9477 - auc: 0.9415 - f1_score: 0.5740 - loss: 0.0407 - precision: 0.7535 - recall: 0.4884 - learning_rate: 0.0000\n",
      "2025-06-14 16:51:00 - INFO - Validation - accuracy: 0.9326 - auc: 0.7424 - f1_score: 0.2259 - loss: 0.0803 - precision: 0.3187 - recall: 0.1907\n",
      "2025-06-14 16:51:00 - INFO - ==================================================\n",
      "\n"
     ]
    },
    {
     "name": "stdout",
     "output_type": "stream",
     "text": [
      "\u001b[1m813/813\u001b[0m \u001b[32m━━━━━━━━━━━━━━━━━━━━\u001b[0m\u001b[37m\u001b[0m \u001b[1m471s\u001b[0m 580ms/step - accuracy: 0.9476 - auc: 0.9410 - f1_score: 0.5713 - loss: 0.0408 - precision: 0.7524 - recall: 0.4855 - val_accuracy: 0.9326 - val_auc: 0.7424 - val_f1_score: 0.2259 - val_loss: 0.0803 - val_precision: 0.3187 - val_recall: 0.1907 - learning_rate: 1.0000e-06\n"
     ]
    },
    {
     "name": "stderr",
     "output_type": "stream",
     "text": [
      "2025-06-14 16:51:00 - INFO - \n",
      "=== Starting Epoch 51 ===\n",
      "\n"
     ]
    },
    {
     "name": "stdout",
     "output_type": "stream",
     "text": [
      "Epoch 51/100\n",
      "\u001b[1m813/813\u001b[0m \u001b[32m━━━━━━━━━━━━━━━━━━━━\u001b[0m\u001b[37m\u001b[0m \u001b[1m0s\u001b[0m 547ms/step - accuracy: 0.9476 - auc: 0.9424 - f1_score: 0.5706 - loss: 0.0405 - precision: 0.7513 - recall: 0.4855  "
     ]
    },
    {
     "name": "stderr",
     "output_type": "stream",
     "text": [
      "2025-06-14 16:58:33 - INFO - \n",
      "=== Epoch 51 Summary ===\n",
      "2025-06-14 16:58:33 - INFO - Time: 453.17s\n",
      "2025-06-14 16:58:33 - INFO - Training   - accuracy: 0.9477 - auc: 0.9424 - f1_score: 0.5734 - loss: 0.0405 - precision: 0.7527 - recall: 0.4876 - learning_rate: 0.0000\n",
      "2025-06-14 16:58:33 - INFO - Validation - accuracy: 0.9304 - auc: 0.7489 - f1_score: 0.2451 - loss: 0.0806 - precision: 0.3119 - recall: 0.2124\n",
      "2025-06-14 16:58:33 - INFO - ==================================================\n",
      "\n"
     ]
    },
    {
     "name": "stdout",
     "output_type": "stream",
     "text": [
      "\u001b[1m813/813\u001b[0m \u001b[32m━━━━━━━━━━━━━━━━━━━━\u001b[0m\u001b[37m\u001b[0m \u001b[1m453s\u001b[0m 558ms/step - accuracy: 0.9476 - auc: 0.9424 - f1_score: 0.5706 - loss: 0.0405 - precision: 0.7513 - recall: 0.4855 - val_accuracy: 0.9304 - val_auc: 0.7489 - val_f1_score: 0.2451 - val_loss: 0.0806 - val_precision: 0.3119 - val_recall: 0.2124 - learning_rate: 1.0000e-06\n"
     ]
    },
    {
     "name": "stderr",
     "output_type": "stream",
     "text": [
      "2025-06-14 16:58:33 - INFO - \n",
      "=== Starting Epoch 52 ===\n",
      "\n"
     ]
    },
    {
     "name": "stdout",
     "output_type": "stream",
     "text": [
      "Epoch 52/100\n",
      "\u001b[1m813/813\u001b[0m \u001b[32m━━━━━━━━━━━━━━━━━━━━\u001b[0m\u001b[37m\u001b[0m \u001b[1m0s\u001b[0m 360ms/step - accuracy: 0.9479 - auc: 0.9423 - f1_score: 0.5795 - loss: 0.0406 - precision: 0.7521 - recall: 0.4960   "
     ]
    },
    {
     "name": "stderr",
     "output_type": "stream",
     "text": [
      "2025-06-14 17:03:34 - INFO - \n",
      "=== Epoch 52 Summary ===\n",
      "2025-06-14 17:03:34 - INFO - Time: 300.75s\n",
      "2025-06-14 17:03:34 - INFO - Training   - accuracy: 0.9482 - auc: 0.9428 - f1_score: 0.5792 - loss: 0.0404 - precision: 0.7547 - recall: 0.4946 - learning_rate: 0.0000\n",
      "2025-06-14 17:03:34 - INFO - Validation - accuracy: 0.9311 - auc: 0.7438 - f1_score: 0.2416 - loss: 0.0803 - precision: 0.3151 - recall: 0.2081\n",
      "2025-06-14 17:03:34 - INFO - ==================================================\n",
      "\n"
     ]
    },
    {
     "name": "stdout",
     "output_type": "stream",
     "text": [
      "\u001b[1m813/813\u001b[0m \u001b[32m━━━━━━━━━━━━━━━━━━━━\u001b[0m\u001b[37m\u001b[0m \u001b[1m301s\u001b[0m 370ms/step - accuracy: 0.9479 - auc: 0.9423 - f1_score: 0.5795 - loss: 0.0406 - precision: 0.7521 - recall: 0.4960 - val_accuracy: 0.9311 - val_auc: 0.7438 - val_f1_score: 0.2416 - val_loss: 0.0803 - val_precision: 0.3151 - val_recall: 0.2081 - learning_rate: 1.0000e-06\n"
     ]
    },
    {
     "name": "stderr",
     "output_type": "stream",
     "text": [
      "2025-06-14 17:03:34 - INFO - \n",
      "=== Starting Epoch 53 ===\n",
      "\n"
     ]
    },
    {
     "name": "stdout",
     "output_type": "stream",
     "text": [
      "Epoch 53/100\n",
      "\u001b[1m813/813\u001b[0m \u001b[32m━━━━━━━━━━━━━━━━━━━━\u001b[0m\u001b[37m\u001b[0m \u001b[1m0s\u001b[0m 475ms/step - accuracy: 0.9486 - auc: 0.9442 - f1_score: 0.5847 - loss: 0.0402 - precision: 0.7598 - recall: 0.5006  "
     ]
    },
    {
     "name": "stderr",
     "output_type": "stream",
     "text": [
      "2025-06-14 17:10:08 - INFO - \n",
      "=== Epoch 53 Summary ===\n",
      "2025-06-14 17:10:08 - INFO - Time: 394.60s\n",
      "2025-06-14 17:10:08 - INFO - Training   - accuracy: 0.9487 - auc: 0.9443 - f1_score: 0.5847 - loss: 0.0401 - precision: 0.7582 - recall: 0.5004 - learning_rate: 0.0000\n",
      "2025-06-14 17:10:08 - INFO - Validation - accuracy: 0.9308 - auc: 0.7419 - f1_score: 0.2320 - loss: 0.0811 - precision: 0.3032 - recall: 0.1917\n",
      "2025-06-14 17:10:08 - INFO - ==================================================\n",
      "\n"
     ]
    },
    {
     "name": "stdout",
     "output_type": "stream",
     "text": [
      "\u001b[1m813/813\u001b[0m \u001b[32m━━━━━━━━━━━━━━━━━━━━\u001b[0m\u001b[37m\u001b[0m \u001b[1m395s\u001b[0m 486ms/step - accuracy: 0.9486 - auc: 0.9442 - f1_score: 0.5847 - loss: 0.0402 - precision: 0.7598 - recall: 0.5006 - val_accuracy: 0.9308 - val_auc: 0.7419 - val_f1_score: 0.2320 - val_loss: 0.0811 - val_precision: 0.3032 - val_recall: 0.1917 - learning_rate: 1.0000e-06\n"
     ]
    },
    {
     "name": "stderr",
     "output_type": "stream",
     "text": [
      "2025-06-14 17:10:08 - INFO - \n",
      "=== Starting Epoch 54 ===\n",
      "\n"
     ]
    },
    {
     "name": "stdout",
     "output_type": "stream",
     "text": [
      "Epoch 54/100\n",
      "\u001b[1m813/813\u001b[0m \u001b[32m━━━━━━━━━━━━━━━━━━━━\u001b[0m\u001b[37m\u001b[0m \u001b[1m0s\u001b[0m 571ms/step - accuracy: 0.9486 - auc: 0.9446 - f1_score: 0.5845 - loss: 0.0401 - precision: 0.7581 - recall: 0.4995  "
     ]
    },
    {
     "name": "stderr",
     "output_type": "stream",
     "text": [
      "2025-06-14 17:18:00 - INFO - \n",
      "=== Epoch 54 Summary ===\n",
      "2025-06-14 17:18:00 - INFO - Time: 471.95s\n",
      "2025-06-14 17:18:00 - INFO - Training   - accuracy: 0.9489 - auc: 0.9449 - f1_score: 0.5872 - loss: 0.0399 - precision: 0.7593 - recall: 0.5026 - learning_rate: 0.0000\n",
      "2025-06-14 17:18:00 - INFO - Validation - accuracy: 0.9327 - auc: 0.7474 - f1_score: 0.2396 - loss: 0.0801 - precision: 0.3233 - recall: 0.1964\n",
      "2025-06-14 17:18:00 - INFO - ==================================================\n",
      "\n"
     ]
    },
    {
     "name": "stdout",
     "output_type": "stream",
     "text": [
      "\u001b[1m813/813\u001b[0m \u001b[32m━━━━━━━━━━━━━━━━━━━━\u001b[0m\u001b[37m\u001b[0m \u001b[1m472s\u001b[0m 581ms/step - accuracy: 0.9486 - auc: 0.9446 - f1_score: 0.5845 - loss: 0.0401 - precision: 0.7581 - recall: 0.4995 - val_accuracy: 0.9327 - val_auc: 0.7474 - val_f1_score: 0.2396 - val_loss: 0.0801 - val_precision: 0.3233 - val_recall: 0.1964 - learning_rate: 1.0000e-06\n"
     ]
    },
    {
     "name": "stderr",
     "output_type": "stream",
     "text": [
      "2025-06-14 17:18:00 - INFO - \n",
      "=== Starting Epoch 55 ===\n",
      "\n"
     ]
    },
    {
     "name": "stdout",
     "output_type": "stream",
     "text": [
      "Epoch 55/100\n",
      "\u001b[1m813/813\u001b[0m \u001b[32m━━━━━━━━━━━━━━━━━━━━\u001b[0m\u001b[37m\u001b[0m \u001b[1m0s\u001b[0m 549ms/step - accuracy: 0.9491 - auc: 0.9447 - f1_score: 0.5888 - loss: 0.0399 - precision: 0.7616 - recall: 0.5041  "
     ]
    },
    {
     "name": "stderr",
     "output_type": "stream",
     "text": [
      "2025-06-14 17:25:35 - INFO - \n",
      "=== Epoch 55 Summary ===\n",
      "2025-06-14 17:25:35 - INFO - Time: 454.31s\n",
      "2025-06-14 17:25:35 - INFO - Training   - accuracy: 0.9492 - auc: 0.9453 - f1_score: 0.5900 - loss: 0.0398 - precision: 0.7615 - recall: 0.5057 - learning_rate: 0.0000\n",
      "2025-06-14 17:25:35 - INFO - Validation - accuracy: 0.9246 - auc: 0.7373 - f1_score: 0.2433 - loss: 0.0869 - precision: 0.2852 - recall: 0.2401\n",
      "2025-06-14 17:25:35 - INFO - ==================================================\n",
      "\n"
     ]
    },
    {
     "name": "stdout",
     "output_type": "stream",
     "text": [
      "\u001b[1m813/813\u001b[0m \u001b[32m━━━━━━━━━━━━━━━━━━━━\u001b[0m\u001b[37m\u001b[0m \u001b[1m454s\u001b[0m 559ms/step - accuracy: 0.9491 - auc: 0.9447 - f1_score: 0.5888 - loss: 0.0399 - precision: 0.7616 - recall: 0.5041 - val_accuracy: 0.9246 - val_auc: 0.7373 - val_f1_score: 0.2433 - val_loss: 0.0869 - val_precision: 0.2852 - val_recall: 0.2401 - learning_rate: 1.0000e-06\n"
     ]
    },
    {
     "name": "stderr",
     "output_type": "stream",
     "text": [
      "2025-06-14 17:25:35 - INFO - \n",
      "=== Starting Epoch 56 ===\n",
      "\n"
     ]
    },
    {
     "name": "stdout",
     "output_type": "stream",
     "text": [
      "Epoch 56/100\n",
      "\u001b[1m813/813\u001b[0m \u001b[32m━━━━━━━━━━━━━━━━━━━━\u001b[0m\u001b[37m\u001b[0m \u001b[1m0s\u001b[0m 225ms/step - accuracy: 0.9494 - auc: 0.9461 - f1_score: 0.5949 - loss: 0.0397 - precision: 0.7636 - recall: 0.5108  "
     ]
    },
    {
     "name": "stderr",
     "output_type": "stream",
     "text": [
      "2025-06-14 17:28:47 - INFO - \n",
      "=== Epoch 56 Summary ===\n",
      "2025-06-14 17:28:47 - INFO - Time: 191.86s\n",
      "2025-06-14 17:28:47 - INFO - Training   - accuracy: 0.9495 - auc: 0.9463 - f1_score: 0.5945 - loss: 0.0396 - precision: 0.7617 - recall: 0.5110 - learning_rate: 0.0000\n",
      "2025-06-14 17:28:47 - INFO - Validation - accuracy: 0.9321 - auc: 0.7463 - f1_score: 0.2382 - loss: 0.0812 - precision: 0.3173 - recall: 0.1960\n",
      "2025-06-14 17:28:47 - INFO - ==================================================\n",
      "\n"
     ]
    },
    {
     "name": "stdout",
     "output_type": "stream",
     "text": [
      "\u001b[1m813/813\u001b[0m \u001b[32m━━━━━━━━━━━━━━━━━━━━\u001b[0m\u001b[37m\u001b[0m \u001b[1m192s\u001b[0m 236ms/step - accuracy: 0.9494 - auc: 0.9461 - f1_score: 0.5949 - loss: 0.0397 - precision: 0.7636 - recall: 0.5109 - val_accuracy: 0.9321 - val_auc: 0.7463 - val_f1_score: 0.2382 - val_loss: 0.0812 - val_precision: 0.3173 - val_recall: 0.1960 - learning_rate: 1.0000e-06\n"
     ]
    },
    {
     "name": "stderr",
     "output_type": "stream",
     "text": [
      "2025-06-14 17:28:47 - INFO - \n",
      "=== Starting Epoch 57 ===\n",
      "\n"
     ]
    },
    {
     "name": "stdout",
     "output_type": "stream",
     "text": [
      "Epoch 57/100\n",
      "\u001b[1m813/813\u001b[0m \u001b[32m━━━━━━━━━━━━━━━━━━━━\u001b[0m\u001b[37m\u001b[0m \u001b[1m0s\u001b[0m 512ms/step - accuracy: 0.9498 - auc: 0.9472 - f1_score: 0.5970 - loss: 0.0395 - precision: 0.7664 - recall: 0.5127  "
     ]
    },
    {
     "name": "stderr",
     "output_type": "stream",
     "text": [
      "2025-06-14 17:35:51 - INFO - \n",
      "=== Epoch 57 Summary ===\n",
      "2025-06-14 17:35:51 - INFO - Time: 424.45s\n",
      "2025-06-14 17:35:51 - INFO - Training   - accuracy: 0.9499 - auc: 0.9471 - f1_score: 0.5979 - loss: 0.0394 - precision: 0.7651 - recall: 0.5143 - learning_rate: 0.0000\n",
      "2025-06-14 17:35:51 - INFO - Validation - accuracy: 0.9324 - auc: 0.7475 - f1_score: 0.2183 - loss: 0.0832 - precision: 0.3089 - recall: 0.1787\n",
      "2025-06-14 17:35:51 - INFO - ==================================================\n",
      "\n"
     ]
    },
    {
     "name": "stdout",
     "output_type": "stream",
     "text": [
      "\u001b[1m813/813\u001b[0m \u001b[32m━━━━━━━━━━━━━━━━━━━━\u001b[0m\u001b[37m\u001b[0m \u001b[1m424s\u001b[0m 522ms/step - accuracy: 0.9498 - auc: 0.9472 - f1_score: 0.5970 - loss: 0.0395 - precision: 0.7664 - recall: 0.5127 - val_accuracy: 0.9324 - val_auc: 0.7475 - val_f1_score: 0.2183 - val_loss: 0.0832 - val_precision: 0.3089 - val_recall: 0.1787 - learning_rate: 1.0000e-06\n"
     ]
    },
    {
     "name": "stderr",
     "output_type": "stream",
     "text": [
      "2025-06-14 17:35:51 - INFO - \n",
      "=== Starting Epoch 58 ===\n",
      "\n"
     ]
    },
    {
     "name": "stdout",
     "output_type": "stream",
     "text": [
      "Epoch 58/100\n",
      "\u001b[1m813/813\u001b[0m \u001b[32m━━━━━━━━━━━━━━━━━━━━\u001b[0m\u001b[37m\u001b[0m \u001b[1m0s\u001b[0m 526ms/step - accuracy: 0.9504 - auc: 0.9481 - f1_score: 0.6027 - loss: 0.0392 - precision: 0.7711 - recall: 0.5178  "
     ]
    },
    {
     "name": "stderr",
     "output_type": "stream",
     "text": [
      "2025-06-14 17:43:07 - INFO - \n",
      "=== Epoch 58 Summary ===\n",
      "2025-06-14 17:43:07 - INFO - Time: 435.62s\n",
      "2025-06-14 17:43:07 - INFO - Training   - accuracy: 0.9505 - auc: 0.9483 - f1_score: 0.6041 - loss: 0.0391 - precision: 0.7688 - recall: 0.5206 - learning_rate: 0.0000\n",
      "2025-06-14 17:43:07 - INFO - Validation - accuracy: 0.9280 - auc: 0.7482 - f1_score: 0.2188 - loss: 0.0849 - precision: 0.2790 - recall: 0.1898\n",
      "2025-06-14 17:43:07 - INFO - ==================================================\n",
      "\n"
     ]
    },
    {
     "name": "stdout",
     "output_type": "stream",
     "text": [
      "\u001b[1m813/813\u001b[0m \u001b[32m━━━━━━━━━━━━━━━━━━━━\u001b[0m\u001b[37m\u001b[0m \u001b[1m436s\u001b[0m 536ms/step - accuracy: 0.9504 - auc: 0.9481 - f1_score: 0.6027 - loss: 0.0392 - precision: 0.7711 - recall: 0.5178 - val_accuracy: 0.9280 - val_auc: 0.7482 - val_f1_score: 0.2188 - val_loss: 0.0849 - val_precision: 0.2790 - val_recall: 0.1898 - learning_rate: 1.0000e-06\n"
     ]
    },
    {
     "name": "stderr",
     "output_type": "stream",
     "text": [
      "2025-06-14 17:43:07 - INFO - \n",
      "=== Starting Epoch 59 ===\n",
      "\n"
     ]
    },
    {
     "name": "stdout",
     "output_type": "stream",
     "text": [
      "Epoch 59/100\n",
      "\u001b[1m813/813\u001b[0m \u001b[32m━━━━━━━━━━━━━━━━━━━━\u001b[0m\u001b[37m\u001b[0m \u001b[1m0s\u001b[0m 226ms/step - accuracy: 0.9504 - auc: 0.9490 - f1_score: 0.6030 - loss: 0.0390 - precision: 0.7681 - recall: 0.5198  "
     ]
    },
    {
     "name": "stderr",
     "output_type": "stream",
     "text": [
      "2025-06-14 17:46:19 - INFO - \n",
      "=== Epoch 59 Summary ===\n",
      "2025-06-14 17:46:19 - INFO - Time: 192.19s\n",
      "2025-06-14 17:46:19 - INFO - Training   - accuracy: 0.9505 - auc: 0.9489 - f1_score: 0.6042 - loss: 0.0390 - precision: 0.7678 - recall: 0.5214 - learning_rate: 0.0000\n",
      "2025-06-14 17:46:19 - INFO - Validation - accuracy: 0.9303 - auc: 0.7471 - f1_score: 0.2371 - loss: 0.0814 - precision: 0.3088 - recall: 0.2086\n",
      "2025-06-14 17:46:19 - INFO - ==================================================\n",
      "\n"
     ]
    },
    {
     "name": "stdout",
     "output_type": "stream",
     "text": [
      "\u001b[1m813/813\u001b[0m \u001b[32m━━━━━━━━━━━━━━━━━━━━\u001b[0m\u001b[37m\u001b[0m \u001b[1m192s\u001b[0m 236ms/step - accuracy: 0.9504 - auc: 0.9490 - f1_score: 0.6030 - loss: 0.0390 - precision: 0.7681 - recall: 0.5198 - val_accuracy: 0.9303 - val_auc: 0.7471 - val_f1_score: 0.2371 - val_loss: 0.0814 - val_precision: 0.3088 - val_recall: 0.2086 - learning_rate: 1.0000e-06\n"
     ]
    },
    {
     "name": "stderr",
     "output_type": "stream",
     "text": [
      "2025-06-14 17:46:19 - INFO - \n",
      "=== Starting Epoch 60 ===\n",
      "\n"
     ]
    },
    {
     "name": "stdout",
     "output_type": "stream",
     "text": [
      "Epoch 60/100\n",
      "\u001b[1m813/813\u001b[0m \u001b[32m━━━━━━━━━━━━━━━━━━━━\u001b[0m\u001b[37m\u001b[0m \u001b[1m0s\u001b[0m 606ms/step - accuracy: 0.9509 - auc: 0.9493 - f1_score: 0.6086 - loss: 0.0388 - precision: 0.7722 - recall: 0.5250  "
     ]
    },
    {
     "name": "stderr",
     "output_type": "stream",
     "text": [
      "2025-06-14 17:54:40 - INFO - \n",
      "=== Epoch 60 Summary ===\n",
      "2025-06-14 17:54:40 - INFO - Time: 501.10s\n",
      "2025-06-14 17:54:40 - INFO - Training   - accuracy: 0.9511 - auc: 0.9495 - f1_score: 0.6103 - loss: 0.0388 - precision: 0.7719 - recall: 0.5273 - learning_rate: 0.0000\n",
      "2025-06-14 17:54:40 - INFO - Validation - accuracy: 0.9346 - auc: 0.7462 - f1_score: 0.2263 - loss: 0.0815 - precision: 0.3408 - recall: 0.1945\n",
      "2025-06-14 17:54:40 - INFO - ==================================================\n",
      "\n"
     ]
    },
    {
     "name": "stdout",
     "output_type": "stream",
     "text": [
      "\u001b[1m813/813\u001b[0m \u001b[32m━━━━━━━━━━━━━━━━━━━━\u001b[0m\u001b[37m\u001b[0m \u001b[1m501s\u001b[0m 617ms/step - accuracy: 0.9509 - auc: 0.9493 - f1_score: 0.6086 - loss: 0.0388 - precision: 0.7722 - recall: 0.5250 - val_accuracy: 0.9346 - val_auc: 0.7462 - val_f1_score: 0.2263 - val_loss: 0.0815 - val_precision: 0.3408 - val_recall: 0.1945 - learning_rate: 1.0000e-06\n"
     ]
    },
    {
     "name": "stderr",
     "output_type": "stream",
     "text": [
      "2025-06-14 17:54:40 - INFO - \n",
      "=== Starting Epoch 61 ===\n",
      "\n"
     ]
    },
    {
     "name": "stdout",
     "output_type": "stream",
     "text": [
      "Epoch 61/100\n",
      "\u001b[1m813/813\u001b[0m \u001b[32m━━━━━━━━━━━━━━━━━━━━\u001b[0m\u001b[37m\u001b[0m \u001b[1m0s\u001b[0m 226ms/step - accuracy: 0.9509 - auc: 0.9499 - f1_score: 0.6103 - loss: 0.0387 - precision: 0.7716 - recall: 0.5274  "
     ]
    },
    {
     "name": "stderr",
     "output_type": "stream",
     "text": [
      "2025-06-14 17:57:53 - INFO - \n",
      "=== Epoch 61 Summary ===\n",
      "2025-06-14 17:57:53 - INFO - Time: 193.27s\n",
      "2025-06-14 17:57:53 - INFO - Training   - accuracy: 0.9512 - auc: 0.9500 - f1_score: 0.6116 - loss: 0.0387 - precision: 0.7721 - recall: 0.5290 - learning_rate: 0.0000\n",
      "2025-06-14 17:57:53 - INFO - Validation - accuracy: 0.9315 - auc: 0.7469 - f1_score: 0.2489 - loss: 0.0815 - precision: 0.3245 - recall: 0.2188\n",
      "2025-06-14 17:57:53 - INFO - ==================================================\n",
      "\n"
     ]
    },
    {
     "name": "stdout",
     "output_type": "stream",
     "text": [
      "\u001b[1m813/813\u001b[0m \u001b[32m━━━━━━━━━━━━━━━━━━━━\u001b[0m\u001b[37m\u001b[0m \u001b[1m193s\u001b[0m 238ms/step - accuracy: 0.9509 - auc: 0.9499 - f1_score: 0.6103 - loss: 0.0387 - precision: 0.7716 - recall: 0.5274 - val_accuracy: 0.9315 - val_auc: 0.7469 - val_f1_score: 0.2489 - val_loss: 0.0815 - val_precision: 0.3245 - val_recall: 0.2188 - learning_rate: 1.0000e-06\n"
     ]
    },
    {
     "name": "stderr",
     "output_type": "stream",
     "text": [
      "2025-06-14 17:57:53 - INFO - \n",
      "=== Starting Epoch 62 ===\n",
      "\n"
     ]
    },
    {
     "name": "stdout",
     "output_type": "stream",
     "text": [
      "Epoch 62/100\n",
      "\u001b[1m813/813\u001b[0m \u001b[32m━━━━━━━━━━━━━━━━━━━━\u001b[0m\u001b[37m\u001b[0m \u001b[1m0s\u001b[0m 536ms/step - accuracy: 0.9514 - auc: 0.9510 - f1_score: 0.6146 - loss: 0.0386 - precision: 0.7728 - recall: 0.5329  "
     ]
    },
    {
     "name": "stderr",
     "output_type": "stream",
     "text": [
      "2025-06-14 18:05:17 - INFO - \n",
      "=== Epoch 62 Summary ===\n",
      "2025-06-14 18:05:17 - INFO - Time: 443.59s\n",
      "2025-06-14 18:05:17 - INFO - Training   - accuracy: 0.9516 - auc: 0.9511 - f1_score: 0.6162 - loss: 0.0385 - precision: 0.7732 - recall: 0.5346 - learning_rate: 0.0000\n",
      "2025-06-14 18:05:17 - INFO - Validation - accuracy: 0.9322 - auc: 0.7444 - f1_score: 0.2254 - loss: 0.0821 - precision: 0.3093 - recall: 0.1823\n",
      "2025-06-14 18:05:17 - INFO - ==================================================\n",
      "\n"
     ]
    },
    {
     "name": "stdout",
     "output_type": "stream",
     "text": [
      "\u001b[1m813/813\u001b[0m \u001b[32m━━━━━━━━━━━━━━━━━━━━\u001b[0m\u001b[37m\u001b[0m \u001b[1m444s\u001b[0m 546ms/step - accuracy: 0.9514 - auc: 0.9510 - f1_score: 0.6146 - loss: 0.0386 - precision: 0.7728 - recall: 0.5329 - val_accuracy: 0.9322 - val_auc: 0.7444 - val_f1_score: 0.2254 - val_loss: 0.0821 - val_precision: 0.3093 - val_recall: 0.1823 - learning_rate: 1.0000e-06\n"
     ]
    },
    {
     "name": "stderr",
     "output_type": "stream",
     "text": [
      "2025-06-14 18:05:17 - INFO - \n",
      "=== Starting Epoch 63 ===\n",
      "\n"
     ]
    },
    {
     "name": "stdout",
     "output_type": "stream",
     "text": [
      "Epoch 63/100\n",
      "\u001b[1m813/813\u001b[0m \u001b[32m━━━━━━━━━━━━━━━━━━━━\u001b[0m\u001b[37m\u001b[0m \u001b[1m0s\u001b[0m 602ms/step - accuracy: 0.9522 - auc: 0.9517 - f1_score: 0.6207 - loss: 0.0384 - precision: 0.7809 - recall: 0.5369  "
     ]
    },
    {
     "name": "stderr",
     "output_type": "stream",
     "text": [
      "2025-06-14 18:13:34 - INFO - \n",
      "=== Epoch 63 Summary ===\n",
      "2025-06-14 18:13:34 - INFO - Time: 497.24s\n",
      "2025-06-14 18:13:34 - INFO - Training   - accuracy: 0.9521 - auc: 0.9519 - f1_score: 0.6201 - loss: 0.0383 - precision: 0.7791 - recall: 0.5368 - learning_rate: 0.0000\n",
      "2025-06-14 18:13:34 - INFO - Validation - accuracy: 0.9314 - auc: 0.7414 - f1_score: 0.2327 - loss: 0.0835 - precision: 0.3244 - recall: 0.2198\n",
      "2025-06-14 18:13:34 - INFO - ==================================================\n",
      "\n"
     ]
    },
    {
     "name": "stdout",
     "output_type": "stream",
     "text": [
      "\u001b[1m813/813\u001b[0m \u001b[32m━━━━━━━━━━━━━━━━━━━━\u001b[0m\u001b[37m\u001b[0m \u001b[1m497s\u001b[0m 612ms/step - accuracy: 0.9522 - auc: 0.9517 - f1_score: 0.6207 - loss: 0.0384 - precision: 0.7809 - recall: 0.5369 - val_accuracy: 0.9314 - val_auc: 0.7414 - val_f1_score: 0.2327 - val_loss: 0.0835 - val_precision: 0.3244 - val_recall: 0.2198 - learning_rate: 1.0000e-06\n"
     ]
    },
    {
     "name": "stderr",
     "output_type": "stream",
     "text": [
      "2025-06-14 18:13:34 - INFO - \n",
      "=== Starting Epoch 64 ===\n",
      "\n"
     ]
    },
    {
     "name": "stdout",
     "output_type": "stream",
     "text": [
      "Epoch 64/100\n",
      "\u001b[1m813/813\u001b[0m \u001b[32m━━━━━━━━━━━━━━━━━━━━\u001b[0m\u001b[37m\u001b[0m \u001b[1m0s\u001b[0m 226ms/step - accuracy: 0.9522 - auc: 0.9523 - f1_score: 0.6219 - loss: 0.0383 - precision: 0.7783 - recall: 0.5397  "
     ]
    },
    {
     "name": "stderr",
     "output_type": "stream",
     "text": [
      "2025-06-14 18:16:47 - INFO - \n",
      "=== Epoch 64 Summary ===\n",
      "2025-06-14 18:16:47 - INFO - Time: 192.92s\n",
      "2025-06-14 18:16:47 - INFO - Training   - accuracy: 0.9523 - auc: 0.9523 - f1_score: 0.6220 - loss: 0.0382 - precision: 0.7785 - recall: 0.5400 - learning_rate: 0.0000\n",
      "2025-06-14 18:16:47 - INFO - Validation - accuracy: 0.9322 - auc: 0.7418 - f1_score: 0.2492 - loss: 0.0829 - precision: 0.3260 - recall: 0.2096\n",
      "2025-06-14 18:16:47 - INFO - ==================================================\n",
      "\n"
     ]
    },
    {
     "name": "stdout",
     "output_type": "stream",
     "text": [
      "\u001b[1m813/813\u001b[0m \u001b[32m━━━━━━━━━━━━━━━━━━━━\u001b[0m\u001b[37m\u001b[0m \u001b[1m193s\u001b[0m 237ms/step - accuracy: 0.9522 - auc: 0.9523 - f1_score: 0.6219 - loss: 0.0383 - precision: 0.7783 - recall: 0.5397 - val_accuracy: 0.9322 - val_auc: 0.7418 - val_f1_score: 0.2492 - val_loss: 0.0829 - val_precision: 0.3260 - val_recall: 0.2096 - learning_rate: 1.0000e-06\n"
     ]
    },
    {
     "name": "stderr",
     "output_type": "stream",
     "text": [
      "2025-06-14 18:16:47 - INFO - \n",
      "=== Starting Epoch 65 ===\n",
      "\n"
     ]
    },
    {
     "name": "stdout",
     "output_type": "stream",
     "text": [
      "Epoch 65/100\n",
      "\u001b[1m813/813\u001b[0m \u001b[32m━━━━━━━━━━━━━━━━━━━━\u001b[0m\u001b[37m\u001b[0m \u001b[1m0s\u001b[0m 226ms/step - accuracy: 0.9526 - auc: 0.9529 - f1_score: 0.6274 - loss: 0.0381 - precision: 0.7804 - recall: 0.5456  "
     ]
    },
    {
     "name": "stderr",
     "output_type": "stream",
     "text": [
      "2025-06-14 18:20:00 - INFO - \n",
      "=== Epoch 65 Summary ===\n",
      "2025-06-14 18:20:00 - INFO - Time: 192.57s\n",
      "2025-06-14 18:20:00 - INFO - Training   - accuracy: 0.9526 - auc: 0.9531 - f1_score: 0.6264 - loss: 0.0381 - precision: 0.7794 - recall: 0.5451 - learning_rate: 0.0000\n",
      "2025-06-14 18:20:00 - INFO - Validation - accuracy: 0.9314 - auc: 0.7467 - f1_score: 0.2478 - loss: 0.0826 - precision: 0.3190 - recall: 0.2097\n",
      "2025-06-14 18:20:00 - INFO - ==================================================\n",
      "\n"
     ]
    },
    {
     "name": "stdout",
     "output_type": "stream",
     "text": [
      "\u001b[1m813/813\u001b[0m \u001b[32m━━━━━━━━━━━━━━━━━━━━\u001b[0m\u001b[37m\u001b[0m \u001b[1m193s\u001b[0m 237ms/step - accuracy: 0.9526 - auc: 0.9529 - f1_score: 0.6274 - loss: 0.0381 - precision: 0.7804 - recall: 0.5456 - val_accuracy: 0.9314 - val_auc: 0.7467 - val_f1_score: 0.2478 - val_loss: 0.0826 - val_precision: 0.3190 - val_recall: 0.2097 - learning_rate: 1.0000e-06\n"
     ]
    },
    {
     "name": "stderr",
     "output_type": "stream",
     "text": [
      "2025-06-14 18:20:00 - INFO - \n",
      "=== Starting Epoch 66 ===\n",
      "\n"
     ]
    },
    {
     "name": "stdout",
     "output_type": "stream",
     "text": [
      "Epoch 66/100\n",
      "\u001b[1m813/813\u001b[0m \u001b[32m━━━━━━━━━━━━━━━━━━━━\u001b[0m\u001b[37m\u001b[0m \u001b[1m0s\u001b[0m 555ms/step - accuracy: 0.9528 - auc: 0.9532 - f1_score: 0.6282 - loss: 0.0379 - precision: 0.7823 - recall: 0.5464  "
     ]
    },
    {
     "name": "stderr",
     "output_type": "stream",
     "text": [
      "2025-06-14 18:27:39 - INFO - \n",
      "=== Epoch 66 Summary ===\n",
      "2025-06-14 18:27:39 - INFO - Time: 459.14s\n",
      "2025-06-14 18:27:39 - INFO - Training   - accuracy: 0.9531 - auc: 0.9539 - f1_score: 0.6310 - loss: 0.0378 - precision: 0.7835 - recall: 0.5492 - learning_rate: 0.0000\n",
      "2025-06-14 18:27:39 - INFO - Validation - accuracy: 0.9353 - auc: 0.7465 - f1_score: 0.2196 - loss: 0.0835 - precision: 0.3429 - recall: 0.1834\n",
      "2025-06-14 18:27:39 - INFO - ==================================================\n",
      "\n"
     ]
    },
    {
     "name": "stdout",
     "output_type": "stream",
     "text": [
      "\u001b[1m813/813\u001b[0m \u001b[32m━━━━━━━━━━━━━━━━━━━━\u001b[0m\u001b[37m\u001b[0m \u001b[1m459s\u001b[0m 565ms/step - accuracy: 0.9528 - auc: 0.9532 - f1_score: 0.6282 - loss: 0.0379 - precision: 0.7823 - recall: 0.5464 - val_accuracy: 0.9353 - val_auc: 0.7465 - val_f1_score: 0.2196 - val_loss: 0.0835 - val_precision: 0.3429 - val_recall: 0.1834 - learning_rate: 1.0000e-06\n"
     ]
    },
    {
     "name": "stderr",
     "output_type": "stream",
     "text": [
      "2025-06-14 18:27:39 - INFO - \n",
      "=== Starting Epoch 67 ===\n",
      "\n"
     ]
    },
    {
     "name": "stdout",
     "output_type": "stream",
     "text": [
      "Epoch 67/100\n",
      "\u001b[1m813/813\u001b[0m \u001b[32m━━━━━━━━━━━━━━━━━━━━\u001b[0m\u001b[37m\u001b[0m \u001b[1m0s\u001b[0m 226ms/step - accuracy: 0.9529 - auc: 0.9542 - f1_score: 0.6290 - loss: 0.0376 - precision: 0.7818 - recall: 0.5475  "
     ]
    },
    {
     "name": "stderr",
     "output_type": "stream",
     "text": [
      "2025-06-14 18:30:51 - INFO - \n",
      "=== Epoch 67 Summary ===\n",
      "2025-06-14 18:30:51 - INFO - Time: 192.28s\n",
      "2025-06-14 18:30:51 - INFO - Training   - accuracy: 0.9530 - auc: 0.9542 - f1_score: 0.6303 - loss: 0.0377 - precision: 0.7819 - recall: 0.5490 - learning_rate: 0.0000\n",
      "2025-06-14 18:30:51 - INFO - Validation - accuracy: 0.9306 - auc: 0.7449 - f1_score: 0.2387 - loss: 0.0836 - precision: 0.3171 - recall: 0.2187\n",
      "2025-06-14 18:30:51 - INFO - ==================================================\n",
      "\n"
     ]
    },
    {
     "name": "stdout",
     "output_type": "stream",
     "text": [
      "\u001b[1m813/813\u001b[0m \u001b[32m━━━━━━━━━━━━━━━━━━━━\u001b[0m\u001b[37m\u001b[0m \u001b[1m192s\u001b[0m 237ms/step - accuracy: 0.9529 - auc: 0.9542 - f1_score: 0.6290 - loss: 0.0376 - precision: 0.7818 - recall: 0.5475 - val_accuracy: 0.9306 - val_auc: 0.7449 - val_f1_score: 0.2387 - val_loss: 0.0836 - val_precision: 0.3171 - val_recall: 0.2187 - learning_rate: 1.0000e-06\n"
     ]
    },
    {
     "name": "stderr",
     "output_type": "stream",
     "text": [
      "2025-06-14 18:30:51 - INFO - \n",
      "=== Starting Epoch 68 ===\n",
      "\n"
     ]
    },
    {
     "name": "stdout",
     "output_type": "stream",
     "text": [
      "Epoch 68/100\n",
      "\u001b[1m813/813\u001b[0m \u001b[32m━━━━━━━━━━━━━━━━━━━━\u001b[0m\u001b[37m\u001b[0m \u001b[1m0s\u001b[0m 532ms/step - accuracy: 0.9536 - auc: 0.9559 - f1_score: 0.6365 - loss: 0.0374 - precision: 0.7883 - recall: 0.5550  "
     ]
    },
    {
     "name": "stderr",
     "output_type": "stream",
     "text": [
      "2025-06-14 18:38:12 - INFO - \n",
      "=== Epoch 68 Summary ===\n",
      "2025-06-14 18:38:12 - INFO - Time: 440.70s\n",
      "2025-06-14 18:38:12 - INFO - Training   - accuracy: 0.9536 - auc: 0.9558 - f1_score: 0.6366 - loss: 0.0374 - precision: 0.7853 - recall: 0.5560 - learning_rate: 0.0000\n",
      "2025-06-14 18:38:12 - INFO - Validation - accuracy: 0.9329 - auc: 0.7445 - f1_score: 0.2431 - loss: 0.0827 - precision: 0.3274 - recall: 0.2005\n",
      "2025-06-14 18:38:12 - INFO - ==================================================\n",
      "\n"
     ]
    },
    {
     "name": "stdout",
     "output_type": "stream",
     "text": [
      "\u001b[1m813/813\u001b[0m \u001b[32m━━━━━━━━━━━━━━━━━━━━\u001b[0m\u001b[37m\u001b[0m \u001b[1m441s\u001b[0m 542ms/step - accuracy: 0.9536 - auc: 0.9559 - f1_score: 0.6365 - loss: 0.0374 - precision: 0.7883 - recall: 0.5550 - val_accuracy: 0.9329 - val_auc: 0.7445 - val_f1_score: 0.2431 - val_loss: 0.0827 - val_precision: 0.3274 - val_recall: 0.2005 - learning_rate: 1.0000e-06\n"
     ]
    },
    {
     "name": "stderr",
     "output_type": "stream",
     "text": [
      "2025-06-14 18:38:12 - INFO - \n",
      "=== Starting Epoch 69 ===\n",
      "\n"
     ]
    },
    {
     "name": "stdout",
     "output_type": "stream",
     "text": [
      "Epoch 69/100\n",
      "\u001b[1m813/813\u001b[0m \u001b[32m━━━━━━━━━━━━━━━━━━━━\u001b[0m\u001b[37m\u001b[0m \u001b[1m0s\u001b[0m 591ms/step - accuracy: 0.9540 - auc: 0.9557 - f1_score: 0.6389 - loss: 0.0374 - precision: 0.7894 - recall: 0.5579  "
     ]
    },
    {
     "name": "stderr",
     "output_type": "stream",
     "text": [
      "2025-06-14 18:46:20 - INFO - \n",
      "=== Epoch 69 Summary ===\n",
      "2025-06-14 18:46:20 - INFO - Time: 488.54s\n",
      "2025-06-14 18:46:20 - INFO - Training   - accuracy: 0.9541 - auc: 0.9562 - f1_score: 0.6402 - loss: 0.0373 - precision: 0.7881 - recall: 0.5601 - learning_rate: 0.0000\n",
      "2025-06-14 18:46:20 - INFO - Validation - accuracy: 0.9321 - auc: 0.7423 - f1_score: 0.2278 - loss: 0.0839 - precision: 0.3218 - recall: 0.2034\n",
      "2025-06-14 18:46:20 - INFO - ==================================================\n",
      "\n"
     ]
    },
    {
     "name": "stdout",
     "output_type": "stream",
     "text": [
      "\u001b[1m813/813\u001b[0m \u001b[32m━━━━━━━━━━━━━━━━━━━━\u001b[0m\u001b[37m\u001b[0m \u001b[1m489s\u001b[0m 601ms/step - accuracy: 0.9540 - auc: 0.9557 - f1_score: 0.6389 - loss: 0.0374 - precision: 0.7894 - recall: 0.5579 - val_accuracy: 0.9321 - val_auc: 0.7423 - val_f1_score: 0.2278 - val_loss: 0.0839 - val_precision: 0.3218 - val_recall: 0.2034 - learning_rate: 1.0000e-06\n"
     ]
    },
    {
     "name": "stderr",
     "output_type": "stream",
     "text": [
      "2025-06-14 18:46:20 - INFO - \n",
      "=== Starting Epoch 70 ===\n",
      "\n"
     ]
    },
    {
     "name": "stdout",
     "output_type": "stream",
     "text": [
      "Epoch 70/100\n",
      "\u001b[1m813/813\u001b[0m \u001b[32m━━━━━━━━━━━━━━━━━━━━\u001b[0m\u001b[37m\u001b[0m \u001b[1m0s\u001b[0m 636ms/step - accuracy: 0.9538 - auc: 0.9566 - f1_score: 0.6404 - loss: 0.0373 - precision: 0.7860 - recall: 0.5612  "
     ]
    },
    {
     "name": "stderr",
     "output_type": "stream",
     "text": [
      "2025-06-14 18:55:06 - INFO - \n",
      "=== Epoch 70 Summary ===\n",
      "2025-06-14 18:55:06 - INFO - Time: 525.41s\n",
      "2025-06-14 18:55:06 - INFO - Training   - accuracy: 0.9540 - auc: 0.9568 - f1_score: 0.6419 - loss: 0.0372 - precision: 0.7869 - recall: 0.5627 - learning_rate: 0.0000\n",
      "2025-06-14 18:55:06 - INFO - Validation - accuracy: 0.9301 - auc: 0.7433 - f1_score: 0.2554 - loss: 0.0858 - precision: 0.3137 - recall: 0.2207\n",
      "2025-06-14 18:55:06 - INFO - ==================================================\n",
      "\n"
     ]
    },
    {
     "name": "stdout",
     "output_type": "stream",
     "text": [
      "\u001b[1m813/813\u001b[0m \u001b[32m━━━━━━━━━━━━━━━━━━━━\u001b[0m\u001b[37m\u001b[0m \u001b[1m525s\u001b[0m 647ms/step - accuracy: 0.9538 - auc: 0.9566 - f1_score: 0.6404 - loss: 0.0373 - precision: 0.7860 - recall: 0.5612 - val_accuracy: 0.9301 - val_auc: 0.7433 - val_f1_score: 0.2554 - val_loss: 0.0858 - val_precision: 0.3137 - val_recall: 0.2207 - learning_rate: 1.0000e-06\n"
     ]
    },
    {
     "name": "stderr",
     "output_type": "stream",
     "text": [
      "2025-06-14 18:55:06 - INFO - \n",
      "=== Starting Epoch 71 ===\n",
      "\n"
     ]
    },
    {
     "name": "stdout",
     "output_type": "stream",
     "text": [
      "Epoch 71/100\n",
      "\u001b[1m813/813\u001b[0m \u001b[32m━━━━━━━━━━━━━━━━━━━━\u001b[0m\u001b[37m\u001b[0m \u001b[1m0s\u001b[0m 575ms/step - accuracy: 0.9542 - auc: 0.9566 - f1_score: 0.6421 - loss: 0.0372 - precision: 0.7879 - recall: 0.5621  "
     ]
    },
    {
     "name": "stderr",
     "output_type": "stream",
     "text": [
      "2025-06-14 19:03:01 - INFO - \n",
      "=== Epoch 71 Summary ===\n",
      "2025-06-14 19:03:01 - INFO - Time: 475.71s\n",
      "2025-06-14 19:03:01 - INFO - Training   - accuracy: 0.9542 - auc: 0.9567 - f1_score: 0.6429 - loss: 0.0371 - precision: 0.7876 - recall: 0.5635 - learning_rate: 0.0000\n",
      "2025-06-14 19:03:01 - INFO - Validation - accuracy: 0.9318 - auc: 0.7445 - f1_score: 0.2319 - loss: 0.0838 - precision: 0.3096 - recall: 0.1882\n",
      "2025-06-14 19:03:01 - INFO - ==================================================\n",
      "\n"
     ]
    },
    {
     "name": "stdout",
     "output_type": "stream",
     "text": [
      "\u001b[1m813/813\u001b[0m \u001b[32m━━━━━━━━━━━━━━━━━━━━\u001b[0m\u001b[37m\u001b[0m \u001b[1m476s\u001b[0m 586ms/step - accuracy: 0.9542 - auc: 0.9566 - f1_score: 0.6421 - loss: 0.0372 - precision: 0.7879 - recall: 0.5621 - val_accuracy: 0.9318 - val_auc: 0.7445 - val_f1_score: 0.2319 - val_loss: 0.0838 - val_precision: 0.3096 - val_recall: 0.1882 - learning_rate: 1.0000e-06\n"
     ]
    },
    {
     "name": "stderr",
     "output_type": "stream",
     "text": [
      "2025-06-14 19:03:01 - INFO - \n",
      "=== Starting Epoch 72 ===\n",
      "\n"
     ]
    },
    {
     "name": "stdout",
     "output_type": "stream",
     "text": [
      "Epoch 72/100\n",
      "\u001b[1m813/813\u001b[0m \u001b[32m━━━━━━━━━━━━━━━━━━━━\u001b[0m\u001b[37m\u001b[0m \u001b[1m0s\u001b[0m 226ms/step - accuracy: 0.9546 - auc: 0.9574 - f1_score: 0.6452 - loss: 0.0370 - precision: 0.7917 - recall: 0.5649  "
     ]
    },
    {
     "name": "stderr",
     "output_type": "stream",
     "text": [
      "2025-06-14 19:06:14 - INFO - \n",
      "=== Epoch 72 Summary ===\n",
      "2025-06-14 19:06:14 - INFO - Time: 192.19s\n",
      "2025-06-14 19:06:14 - INFO - Training   - accuracy: 0.9547 - auc: 0.9573 - f1_score: 0.6473 - loss: 0.0370 - precision: 0.7916 - recall: 0.5675 - learning_rate: 0.0000\n",
      "2025-06-14 19:06:14 - INFO - Validation - accuracy: 0.9275 - auc: 0.7401 - f1_score: 0.2161 - loss: 0.0886 - precision: 0.2906 - recall: 0.2150\n",
      "2025-06-14 19:06:14 - INFO - ==================================================\n",
      "\n"
     ]
    },
    {
     "name": "stdout",
     "output_type": "stream",
     "text": [
      "\u001b[1m813/813\u001b[0m \u001b[32m━━━━━━━━━━━━━━━━━━━━\u001b[0m\u001b[37m\u001b[0m \u001b[1m192s\u001b[0m 236ms/step - accuracy: 0.9546 - auc: 0.9574 - f1_score: 0.6452 - loss: 0.0370 - precision: 0.7917 - recall: 0.5649 - val_accuracy: 0.9275 - val_auc: 0.7401 - val_f1_score: 0.2161 - val_loss: 0.0886 - val_precision: 0.2906 - val_recall: 0.2150 - learning_rate: 1.0000e-06\n"
     ]
    },
    {
     "name": "stderr",
     "output_type": "stream",
     "text": [
      "2025-06-14 19:06:14 - INFO - \n",
      "=== Starting Epoch 73 ===\n",
      "\n"
     ]
    },
    {
     "name": "stdout",
     "output_type": "stream",
     "text": [
      "Epoch 73/100\n",
      "\u001b[1m813/813\u001b[0m \u001b[32m━━━━━━━━━━━━━━━━━━━━\u001b[0m\u001b[37m\u001b[0m \u001b[1m0s\u001b[0m 598ms/step - accuracy: 0.9552 - auc: 0.9579 - f1_score: 0.6510 - loss: 0.0368 - precision: 0.7943 - recall: 0.5713  "
     ]
    },
    {
     "name": "stderr",
     "output_type": "stream",
     "text": [
      "2025-06-14 19:14:28 - INFO - \n",
      "=== Epoch 73 Summary ===\n",
      "2025-06-14 19:14:28 - INFO - Time: 494.57s\n",
      "2025-06-14 19:14:28 - INFO - Training   - accuracy: 0.9551 - auc: 0.9580 - f1_score: 0.6513 - loss: 0.0368 - precision: 0.7925 - recall: 0.5723 - learning_rate: 0.0000\n",
      "2025-06-14 19:14:28 - INFO - Validation - accuracy: 0.9310 - auc: 0.7482 - f1_score: 0.2461 - loss: 0.0855 - precision: 0.3147 - recall: 0.2093\n",
      "2025-06-14 19:14:28 - INFO - ==================================================\n",
      "\n"
     ]
    },
    {
     "name": "stdout",
     "output_type": "stream",
     "text": [
      "\u001b[1m813/813\u001b[0m \u001b[32m━━━━━━━━━━━━━━━━━━━━\u001b[0m\u001b[37m\u001b[0m \u001b[1m495s\u001b[0m 609ms/step - accuracy: 0.9552 - auc: 0.9579 - f1_score: 0.6510 - loss: 0.0368 - precision: 0.7943 - recall: 0.5713 - val_accuracy: 0.9310 - val_auc: 0.7482 - val_f1_score: 0.2461 - val_loss: 0.0855 - val_precision: 0.3147 - val_recall: 0.2093 - learning_rate: 1.0000e-06\n"
     ]
    },
    {
     "name": "stderr",
     "output_type": "stream",
     "text": [
      "2025-06-14 19:14:28 - INFO - \n",
      "=== Starting Epoch 74 ===\n",
      "\n"
     ]
    },
    {
     "name": "stdout",
     "output_type": "stream",
     "text": [
      "Epoch 74/100\n",
      "\u001b[1m813/813\u001b[0m \u001b[32m━━━━━━━━━━━━━━━━━━━━\u001b[0m\u001b[37m\u001b[0m \u001b[1m0s\u001b[0m 359ms/step - accuracy: 0.9549 - auc: 0.9586 - f1_score: 0.6519 - loss: 0.0369 - precision: 0.7947 - recall: 0.5722   "
     ]
    },
    {
     "name": "stderr",
     "output_type": "stream",
     "text": [
      "2025-06-14 19:19:29 - INFO - \n",
      "=== Epoch 74 Summary ===\n",
      "2025-06-14 19:19:29 - INFO - Time: 300.38s\n",
      "2025-06-14 19:19:29 - INFO - Training   - accuracy: 0.9552 - auc: 0.9587 - f1_score: 0.6525 - loss: 0.0367 - precision: 0.7935 - recall: 0.5739 - learning_rate: 0.0000\n",
      "2025-06-14 19:19:29 - INFO - Validation - accuracy: 0.9349 - auc: 0.7448 - f1_score: 0.2357 - loss: 0.0853 - precision: 0.3458 - recall: 0.1967\n",
      "2025-06-14 19:19:29 - INFO - ==================================================\n",
      "\n"
     ]
    },
    {
     "name": "stdout",
     "output_type": "stream",
     "text": [
      "\u001b[1m813/813\u001b[0m \u001b[32m━━━━━━━━━━━━━━━━━━━━\u001b[0m\u001b[37m\u001b[0m \u001b[1m300s\u001b[0m 370ms/step - accuracy: 0.9549 - auc: 0.9586 - f1_score: 0.6519 - loss: 0.0369 - precision: 0.7947 - recall: 0.5722 - val_accuracy: 0.9349 - val_auc: 0.7448 - val_f1_score: 0.2357 - val_loss: 0.0853 - val_precision: 0.3458 - val_recall: 0.1967 - learning_rate: 1.0000e-06\n"
     ]
    },
    {
     "name": "stderr",
     "output_type": "stream",
     "text": [
      "2025-06-14 19:19:29 - INFO - \n",
      "=== Starting Epoch 75 ===\n",
      "\n"
     ]
    },
    {
     "name": "stdout",
     "output_type": "stream",
     "text": [
      "Epoch 75/100\n",
      "\u001b[1m813/813\u001b[0m \u001b[32m━━━━━━━━━━━━━━━━━━━━\u001b[0m\u001b[37m\u001b[0m \u001b[1m0s\u001b[0m 361ms/step - accuracy: 0.9555 - auc: 0.9599 - f1_score: 0.6558 - loss: 0.0365 - precision: 0.7990 - recall: 0.5754   "
     ]
    },
    {
     "name": "stderr",
     "output_type": "stream",
     "text": [
      "2025-06-14 19:24:31 - INFO - \n",
      "=== Epoch 75 Summary ===\n",
      "2025-06-14 19:24:31 - INFO - Time: 302.07s\n",
      "2025-06-14 19:24:31 - INFO - Training   - accuracy: 0.9557 - auc: 0.9598 - f1_score: 0.6571 - loss: 0.0365 - precision: 0.7967 - recall: 0.5782 - learning_rate: 0.0000\n",
      "2025-06-14 19:24:31 - INFO - Validation - accuracy: 0.9318 - auc: 0.7449 - f1_score: 0.2518 - loss: 0.0843 - precision: 0.3303 - recall: 0.2255\n",
      "2025-06-14 19:24:31 - INFO - ==================================================\n",
      "\n"
     ]
    },
    {
     "name": "stdout",
     "output_type": "stream",
     "text": [
      "\u001b[1m813/813\u001b[0m \u001b[32m━━━━━━━━━━━━━━━━━━━━\u001b[0m\u001b[37m\u001b[0m \u001b[1m302s\u001b[0m 372ms/step - accuracy: 0.9555 - auc: 0.9599 - f1_score: 0.6558 - loss: 0.0365 - precision: 0.7990 - recall: 0.5754 - val_accuracy: 0.9318 - val_auc: 0.7449 - val_f1_score: 0.2518 - val_loss: 0.0843 - val_precision: 0.3303 - val_recall: 0.2255 - learning_rate: 1.0000e-06\n"
     ]
    },
    {
     "name": "stderr",
     "output_type": "stream",
     "text": [
      "2025-06-14 19:24:31 - INFO - \n",
      "=== Starting Epoch 76 ===\n",
      "\n"
     ]
    },
    {
     "name": "stdout",
     "output_type": "stream",
     "text": [
      "Epoch 76/100\n",
      "\u001b[1m813/813\u001b[0m \u001b[32m━━━━━━━━━━━━━━━━━━━━\u001b[0m\u001b[37m\u001b[0m \u001b[1m0s\u001b[0m 226ms/step - accuracy: 0.9562 - auc: 0.9600 - f1_score: 0.6606 - loss: 0.0363 - precision: 0.8012 - recall: 0.5815  "
     ]
    },
    {
     "name": "stderr",
     "output_type": "stream",
     "text": [
      "2025-06-14 19:27:43 - INFO - \n",
      "=== Epoch 76 Summary ===\n",
      "2025-06-14 19:27:43 - INFO - Time: 192.50s\n",
      "2025-06-14 19:27:43 - INFO - Training   - accuracy: 0.9561 - auc: 0.9603 - f1_score: 0.6604 - loss: 0.0363 - precision: 0.7987 - recall: 0.5820 - learning_rate: 0.0000\n",
      "2025-06-14 19:27:43 - INFO - Validation - accuracy: 0.9316 - auc: 0.7433 - f1_score: 0.2442 - loss: 0.0852 - precision: 0.3283 - recall: 0.2247\n",
      "2025-06-14 19:27:43 - INFO - ==================================================\n",
      "\n"
     ]
    },
    {
     "name": "stdout",
     "output_type": "stream",
     "text": [
      "\u001b[1m813/813\u001b[0m \u001b[32m━━━━━━━━━━━━━━━━━━━━\u001b[0m\u001b[37m\u001b[0m \u001b[1m193s\u001b[0m 237ms/step - accuracy: 0.9562 - auc: 0.9600 - f1_score: 0.6606 - loss: 0.0363 - precision: 0.8011 - recall: 0.5815 - val_accuracy: 0.9316 - val_auc: 0.7433 - val_f1_score: 0.2442 - val_loss: 0.0852 - val_precision: 0.3283 - val_recall: 0.2247 - learning_rate: 1.0000e-06\n"
     ]
    },
    {
     "name": "stderr",
     "output_type": "stream",
     "text": [
      "2025-06-14 19:27:43 - INFO - \n",
      "=== Starting Epoch 77 ===\n",
      "\n"
     ]
    },
    {
     "name": "stdout",
     "output_type": "stream",
     "text": [
      "Epoch 77/100\n",
      "\u001b[1m813/813\u001b[0m \u001b[32m━━━━━━━━━━━━━━━━━━━━\u001b[0m\u001b[37m\u001b[0m \u001b[1m0s\u001b[0m 226ms/step - accuracy: 0.9568 - auc: 0.9614 - f1_score: 0.6668 - loss: 0.0361 - precision: 0.8040 - recall: 0.5888  "
     ]
    },
    {
     "name": "stderr",
     "output_type": "stream",
     "text": [
      "2025-06-14 19:30:56 - INFO - \n",
      "=== Epoch 77 Summary ===\n",
      "2025-06-14 19:30:56 - INFO - Time: 192.30s\n",
      "2025-06-14 19:30:56 - INFO - Training   - accuracy: 0.9565 - auc: 0.9609 - f1_score: 0.6648 - loss: 0.0361 - precision: 0.8003 - recall: 0.5876 - learning_rate: 0.0000\n",
      "2025-06-14 19:30:56 - INFO - Validation - accuracy: 0.9337 - auc: 0.7415 - f1_score: 0.2215 - loss: 0.0881 - precision: 0.3253 - recall: 0.1840\n",
      "2025-06-14 19:30:56 - INFO - ==================================================\n",
      "\n"
     ]
    },
    {
     "name": "stdout",
     "output_type": "stream",
     "text": [
      "\u001b[1m813/813\u001b[0m \u001b[32m━━━━━━━━━━━━━━━━━━━━\u001b[0m\u001b[37m\u001b[0m \u001b[1m192s\u001b[0m 237ms/step - accuracy: 0.9568 - auc: 0.9614 - f1_score: 0.6668 - loss: 0.0361 - precision: 0.8040 - recall: 0.5888 - val_accuracy: 0.9337 - val_auc: 0.7415 - val_f1_score: 0.2215 - val_loss: 0.0881 - val_precision: 0.3253 - val_recall: 0.1840 - learning_rate: 1.0000e-06\n"
     ]
    },
    {
     "name": "stderr",
     "output_type": "stream",
     "text": [
      "2025-06-14 19:30:56 - INFO - \n",
      "=== Starting Epoch 78 ===\n",
      "\n"
     ]
    },
    {
     "name": "stdout",
     "output_type": "stream",
     "text": [
      "Epoch 78/100\n",
      "\u001b[1m813/813\u001b[0m \u001b[32m━━━━━━━━━━━━━━━━━━━━\u001b[0m\u001b[37m\u001b[0m \u001b[1m0s\u001b[0m 227ms/step - accuracy: 0.9569 - auc: 0.9619 - f1_score: 0.6685 - loss: 0.0360 - precision: 0.8051 - recall: 0.5905  "
     ]
    },
    {
     "name": "stderr",
     "output_type": "stream",
     "text": [
      "2025-06-14 19:34:08 - INFO - \n",
      "=== Epoch 78 Summary ===\n",
      "2025-06-14 19:34:08 - INFO - Time: 192.73s\n",
      "2025-06-14 19:34:08 - INFO - Training   - accuracy: 0.9566 - auc: 0.9616 - f1_score: 0.6660 - loss: 0.0361 - precision: 0.8012 - recall: 0.5884 - learning_rate: 0.0000\n",
      "2025-06-14 19:34:08 - INFO - Validation - accuracy: 0.9316 - auc: 0.7438 - f1_score: 0.2148 - loss: 0.0898 - precision: 0.3018 - recall: 0.1788\n",
      "2025-06-14 19:34:08 - INFO - ==================================================\n",
      "\n"
     ]
    },
    {
     "name": "stdout",
     "output_type": "stream",
     "text": [
      "\u001b[1m813/813\u001b[0m \u001b[32m━━━━━━━━━━━━━━━━━━━━\u001b[0m\u001b[37m\u001b[0m \u001b[1m193s\u001b[0m 237ms/step - accuracy: 0.9569 - auc: 0.9619 - f1_score: 0.6685 - loss: 0.0360 - precision: 0.8051 - recall: 0.5905 - val_accuracy: 0.9316 - val_auc: 0.7438 - val_f1_score: 0.2148 - val_loss: 0.0898 - val_precision: 0.3018 - val_recall: 0.1788 - learning_rate: 1.0000e-06\n"
     ]
    },
    {
     "name": "stderr",
     "output_type": "stream",
     "text": [
      "2025-06-14 19:34:08 - INFO - \n",
      "=== Starting Epoch 79 ===\n",
      "\n"
     ]
    },
    {
     "name": "stdout",
     "output_type": "stream",
     "text": [
      "Epoch 79/100\n",
      "\u001b[1m813/813\u001b[0m \u001b[32m━━━━━━━━━━━━━━━━━━━━\u001b[0m\u001b[37m\u001b[0m \u001b[1m0s\u001b[0m 588ms/step - accuracy: 0.9567 - auc: 0.9615 - f1_score: 0.6683 - loss: 0.0360 - precision: 0.8023 - recall: 0.5902  "
     ]
    },
    {
     "name": "stderr",
     "output_type": "stream",
     "text": [
      "2025-06-14 19:42:14 - INFO - \n",
      "=== Epoch 79 Summary ===\n",
      "2025-06-14 19:42:14 - INFO - Time: 485.90s\n",
      "2025-06-14 19:42:14 - INFO - Training   - accuracy: 0.9569 - auc: 0.9616 - f1_score: 0.6701 - loss: 0.0360 - precision: 0.8027 - recall: 0.5926 - learning_rate: 0.0000\n",
      "2025-06-14 19:42:14 - INFO - Validation - accuracy: 0.9306 - auc: 0.7409 - f1_score: 0.2381 - loss: 0.0908 - precision: 0.3069 - recall: 0.2014\n",
      "2025-06-14 19:42:14 - INFO - ==================================================\n",
      "\n"
     ]
    },
    {
     "name": "stdout",
     "output_type": "stream",
     "text": [
      "\u001b[1m813/813\u001b[0m \u001b[32m━━━━━━━━━━━━━━━━━━━━\u001b[0m\u001b[37m\u001b[0m \u001b[1m486s\u001b[0m 598ms/step - accuracy: 0.9567 - auc: 0.9615 - f1_score: 0.6683 - loss: 0.0360 - precision: 0.8023 - recall: 0.5903 - val_accuracy: 0.9306 - val_auc: 0.7409 - val_f1_score: 0.2381 - val_loss: 0.0908 - val_precision: 0.3069 - val_recall: 0.2014 - learning_rate: 1.0000e-06\n"
     ]
    },
    {
     "name": "stderr",
     "output_type": "stream",
     "text": [
      "2025-06-14 19:42:14 - INFO - \n",
      "=== Starting Epoch 80 ===\n",
      "\n"
     ]
    },
    {
     "name": "stdout",
     "output_type": "stream",
     "text": [
      "Epoch 80/100\n",
      "\u001b[1m813/813\u001b[0m \u001b[32m━━━━━━━━━━━━━━━━━━━━\u001b[0m\u001b[37m\u001b[0m \u001b[1m0s\u001b[0m 226ms/step - accuracy: 0.9571 - auc: 0.9621 - f1_score: 0.6706 - loss: 0.0360 - precision: 0.8041 - recall: 0.5926  "
     ]
    },
    {
     "name": "stderr",
     "output_type": "stream",
     "text": [
      "2025-06-14 19:45:26 - INFO - \n",
      "=== Epoch 80 Summary ===\n",
      "2025-06-14 19:45:26 - INFO - Time: 192.07s\n",
      "2025-06-14 19:45:26 - INFO - Training   - accuracy: 0.9572 - auc: 0.9624 - f1_score: 0.6717 - loss: 0.0359 - precision: 0.8032 - recall: 0.5949 - learning_rate: 0.0000\n",
      "2025-06-14 19:45:26 - INFO - Validation - accuracy: 0.9272 - auc: 0.7466 - f1_score: 0.2553 - loss: 0.0891 - precision: 0.2920 - recall: 0.2205\n",
      "2025-06-14 19:45:26 - INFO - ==================================================\n",
      "\n"
     ]
    },
    {
     "name": "stdout",
     "output_type": "stream",
     "text": [
      "\u001b[1m813/813\u001b[0m \u001b[32m━━━━━━━━━━━━━━━━━━━━\u001b[0m\u001b[37m\u001b[0m \u001b[1m192s\u001b[0m 236ms/step - accuracy: 0.9571 - auc: 0.9621 - f1_score: 0.6706 - loss: 0.0360 - precision: 0.8041 - recall: 0.5926 - val_accuracy: 0.9272 - val_auc: 0.7466 - val_f1_score: 0.2553 - val_loss: 0.0891 - val_precision: 0.2920 - val_recall: 0.2205 - learning_rate: 1.0000e-06\n"
     ]
    },
    {
     "name": "stderr",
     "output_type": "stream",
     "text": [
      "2025-06-14 19:45:26 - INFO - \n",
      "=== Starting Epoch 81 ===\n",
      "\n"
     ]
    },
    {
     "name": "stdout",
     "output_type": "stream",
     "text": [
      "Epoch 81/100\n",
      "\u001b[1m813/813\u001b[0m \u001b[32m━━━━━━━━━━━━━━━━━━━━\u001b[0m\u001b[37m\u001b[0m \u001b[1m0s\u001b[0m 357ms/step - accuracy: 0.9577 - auc: 0.9628 - f1_score: 0.6755 - loss: 0.0357 - precision: 0.8074 - recall: 0.5980   "
     ]
    },
    {
     "name": "stderr",
     "output_type": "stream",
     "text": [
      "2025-06-14 19:50:25 - INFO - \n",
      "=== Epoch 81 Summary ===\n",
      "2025-06-14 19:50:25 - INFO - Time: 298.69s\n",
      "2025-06-14 19:50:25 - INFO - Training   - accuracy: 0.9576 - auc: 0.9626 - f1_score: 0.6752 - loss: 0.0358 - precision: 0.8065 - recall: 0.5983 - learning_rate: 0.0000\n",
      "2025-06-14 19:50:25 - INFO - Validation - accuracy: 0.9231 - auc: 0.7361 - f1_score: 0.2387 - loss: 0.0959 - precision: 0.2671 - recall: 0.2223\n",
      "2025-06-14 19:50:25 - INFO - ==================================================\n",
      "\n"
     ]
    },
    {
     "name": "stdout",
     "output_type": "stream",
     "text": [
      "\u001b[1m813/813\u001b[0m \u001b[32m━━━━━━━━━━━━━━━━━━━━\u001b[0m\u001b[37m\u001b[0m \u001b[1m299s\u001b[0m 368ms/step - accuracy: 0.9577 - auc: 0.9628 - f1_score: 0.6755 - loss: 0.0357 - precision: 0.8074 - recall: 0.5980 - val_accuracy: 0.9231 - val_auc: 0.7361 - val_f1_score: 0.2387 - val_loss: 0.0959 - val_precision: 0.2671 - val_recall: 0.2223 - learning_rate: 1.0000e-06\n"
     ]
    },
    {
     "name": "stderr",
     "output_type": "stream",
     "text": [
      "2025-06-14 19:50:25 - INFO - \n",
      "=== Starting Epoch 82 ===\n",
      "\n"
     ]
    },
    {
     "name": "stdout",
     "output_type": "stream",
     "text": [
      "Epoch 82/100\n",
      "\u001b[1m813/813\u001b[0m \u001b[32m━━━━━━━━━━━━━━━━━━━━\u001b[0m\u001b[37m\u001b[0m \u001b[1m0s\u001b[0m 354ms/step - accuracy: 0.9575 - auc: 0.9634 - f1_score: 0.6772 - loss: 0.0357 - precision: 0.8078 - recall: 0.6009   "
     ]
    },
    {
     "name": "stderr",
     "output_type": "stream",
     "text": [
      "2025-06-14 19:55:22 - INFO - \n",
      "=== Epoch 82 Summary ===\n",
      "2025-06-14 19:55:22 - INFO - Time: 296.97s\n",
      "2025-06-14 19:55:22 - INFO - Training   - accuracy: 0.9577 - auc: 0.9632 - f1_score: 0.6777 - loss: 0.0356 - precision: 0.8064 - recall: 0.6018 - learning_rate: 0.0000\n",
      "2025-06-14 19:55:22 - INFO - Validation - accuracy: 0.9253 - auc: 0.7394 - f1_score: 0.2755 - loss: 0.0881 - precision: 0.3080 - recall: 0.2796\n",
      "2025-06-14 19:55:22 - INFO - ==================================================\n",
      "\n"
     ]
    },
    {
     "name": "stdout",
     "output_type": "stream",
     "text": [
      "\u001b[1m813/813\u001b[0m \u001b[32m━━━━━━━━━━━━━━━━━━━━\u001b[0m\u001b[37m\u001b[0m \u001b[1m297s\u001b[0m 366ms/step - accuracy: 0.9575 - auc: 0.9634 - f1_score: 0.6772 - loss: 0.0357 - precision: 0.8078 - recall: 0.6009 - val_accuracy: 0.9253 - val_auc: 0.7394 - val_f1_score: 0.2755 - val_loss: 0.0881 - val_precision: 0.3080 - val_recall: 0.2796 - learning_rate: 1.0000e-06\n"
     ]
    },
    {
     "name": "stderr",
     "output_type": "stream",
     "text": [
      "2025-06-14 19:55:22 - INFO - \n",
      "=== Starting Epoch 83 ===\n",
      "\n"
     ]
    },
    {
     "name": "stdout",
     "output_type": "stream",
     "text": [
      "Epoch 83/100\n",
      "\u001b[1m813/813\u001b[0m \u001b[32m━━━━━━━━━━━━━━━━━━━━\u001b[0m\u001b[37m\u001b[0m \u001b[1m0s\u001b[0m 348ms/step - accuracy: 0.9582 - auc: 0.9644 - f1_score: 0.6816 - loss: 0.0354 - precision: 0.8084 - recall: 0.6060   "
     ]
    },
    {
     "name": "stderr",
     "output_type": "stream",
     "text": [
      "2025-06-14 20:00:13 - INFO - \n",
      "=== Epoch 83 Summary ===\n",
      "2025-06-14 20:00:13 - INFO - Time: 290.97s\n",
      "2025-06-14 20:00:13 - INFO - Training   - accuracy: 0.9582 - auc: 0.9640 - f1_score: 0.6817 - loss: 0.0355 - precision: 0.8093 - recall: 0.6061 - learning_rate: 0.0000\n",
      "2025-06-14 20:00:13 - INFO - Validation - accuracy: 0.9305 - auc: 0.7437 - f1_score: 0.2625 - loss: 0.0851 - precision: 0.3271 - recall: 0.2409\n",
      "2025-06-14 20:00:13 - INFO - ==================================================\n",
      "\n"
     ]
    },
    {
     "name": "stdout",
     "output_type": "stream",
     "text": [
      "\u001b[1m813/813\u001b[0m \u001b[32m━━━━━━━━━━━━━━━━━━━━\u001b[0m\u001b[37m\u001b[0m \u001b[1m291s\u001b[0m 358ms/step - accuracy: 0.9582 - auc: 0.9644 - f1_score: 0.6816 - loss: 0.0354 - precision: 0.8084 - recall: 0.6060 - val_accuracy: 0.9305 - val_auc: 0.7437 - val_f1_score: 0.2625 - val_loss: 0.0851 - val_precision: 0.3271 - val_recall: 0.2409 - learning_rate: 1.0000e-06\n"
     ]
    },
    {
     "name": "stderr",
     "output_type": "stream",
     "text": [
      "2025-06-14 20:00:13 - INFO - \n",
      "=== Starting Epoch 84 ===\n",
      "\n"
     ]
    },
    {
     "name": "stdout",
     "output_type": "stream",
     "text": [
      "Epoch 84/100\n",
      "\u001b[1m813/813\u001b[0m \u001b[32m━━━━━━━━━━━━━━━━━━━━\u001b[0m\u001b[37m\u001b[0m \u001b[1m0s\u001b[0m 603ms/step - accuracy: 0.9586 - auc: 0.9645 - f1_score: 0.6843 - loss: 0.0353 - precision: 0.8139 - recall: 0.6073  "
     ]
    },
    {
     "name": "stderr",
     "output_type": "stream",
     "text": [
      "2025-06-14 20:08:31 - INFO - \n",
      "=== Epoch 84 Summary ===\n",
      "2025-06-14 20:08:31 - INFO - Time: 498.55s\n",
      "2025-06-14 20:08:31 - INFO - Training   - accuracy: 0.9586 - auc: 0.9646 - f1_score: 0.6845 - loss: 0.0352 - precision: 0.8119 - recall: 0.6086 - learning_rate: 0.0000\n",
      "2025-06-14 20:08:31 - INFO - Validation - accuracy: 0.9286 - auc: 0.7404 - f1_score: 0.2609 - loss: 0.0899 - precision: 0.3095 - recall: 0.2342\n",
      "2025-06-14 20:08:31 - INFO - ==================================================\n",
      "\n"
     ]
    },
    {
     "name": "stdout",
     "output_type": "stream",
     "text": [
      "\u001b[1m813/813\u001b[0m \u001b[32m━━━━━━━━━━━━━━━━━━━━\u001b[0m\u001b[37m\u001b[0m \u001b[1m499s\u001b[0m 614ms/step - accuracy: 0.9586 - auc: 0.9645 - f1_score: 0.6843 - loss: 0.0353 - precision: 0.8139 - recall: 0.6073 - val_accuracy: 0.9286 - val_auc: 0.7404 - val_f1_score: 0.2609 - val_loss: 0.0899 - val_precision: 0.3095 - val_recall: 0.2342 - learning_rate: 1.0000e-06\n"
     ]
    },
    {
     "name": "stderr",
     "output_type": "stream",
     "text": [
      "2025-06-14 20:08:31 - INFO - \n",
      "=== Starting Epoch 85 ===\n",
      "\n"
     ]
    },
    {
     "name": "stdout",
     "output_type": "stream",
     "text": [
      "Epoch 85/100\n",
      "\u001b[1m813/813\u001b[0m \u001b[32m━━━━━━━━━━━━━━━━━━━━\u001b[0m\u001b[37m\u001b[0m \u001b[1m0s\u001b[0m 225ms/step - accuracy: 0.9586 - auc: 0.9652 - f1_score: 0.6866 - loss: 0.0352 - precision: 0.8146 - recall: 0.6105  "
     ]
    },
    {
     "name": "stderr",
     "output_type": "stream",
     "text": [
      "2025-06-14 20:11:43 - INFO - \n",
      "=== Epoch 85 Summary ===\n",
      "2025-06-14 20:11:43 - INFO - Time: 191.69s\n",
      "2025-06-14 20:11:43 - INFO - Training   - accuracy: 0.9588 - auc: 0.9651 - f1_score: 0.6879 - loss: 0.0352 - precision: 0.8125 - recall: 0.6130 - learning_rate: 0.0000\n",
      "2025-06-14 20:11:43 - INFO - Validation - accuracy: 0.9285 - auc: 0.7353 - f1_score: 0.2473 - loss: 0.0935 - precision: 0.3028 - recall: 0.2229\n",
      "2025-06-14 20:11:43 - INFO - ==================================================\n",
      "\n"
     ]
    },
    {
     "name": "stdout",
     "output_type": "stream",
     "text": [
      "\u001b[1m813/813\u001b[0m \u001b[32m━━━━━━━━━━━━━━━━━━━━\u001b[0m\u001b[37m\u001b[0m \u001b[1m192s\u001b[0m 236ms/step - accuracy: 0.9586 - auc: 0.9652 - f1_score: 0.6866 - loss: 0.0352 - precision: 0.8146 - recall: 0.6106 - val_accuracy: 0.9285 - val_auc: 0.7353 - val_f1_score: 0.2473 - val_loss: 0.0935 - val_precision: 0.3028 - val_recall: 0.2229 - learning_rate: 1.0000e-06\n"
     ]
    },
    {
     "name": "stderr",
     "output_type": "stream",
     "text": [
      "2025-06-14 20:11:43 - INFO - \n",
      "=== Starting Epoch 86 ===\n",
      "\n"
     ]
    },
    {
     "name": "stdout",
     "output_type": "stream",
     "text": [
      "Epoch 86/100\n",
      "\u001b[1m813/813\u001b[0m \u001b[32m━━━━━━━━━━━━━━━━━━━━\u001b[0m\u001b[37m\u001b[0m \u001b[1m0s\u001b[0m 226ms/step - accuracy: 0.9589 - auc: 0.9650 - f1_score: 0.6873 - loss: 0.0351 - precision: 0.8129 - recall: 0.6121  "
     ]
    },
    {
     "name": "stderr",
     "output_type": "stream",
     "text": [
      "2025-06-14 20:14:55 - INFO - \n",
      "=== Epoch 86 Summary ===\n",
      "2025-06-14 20:14:55 - INFO - Time: 192.05s\n",
      "2025-06-14 20:14:55 - INFO - Training   - accuracy: 0.9589 - auc: 0.9650 - f1_score: 0.6875 - loss: 0.0351 - precision: 0.8127 - recall: 0.6123 - learning_rate: 0.0000\n",
      "2025-06-14 20:14:55 - INFO - Validation - accuracy: 0.9291 - auc: 0.7389 - f1_score: 0.2364 - loss: 0.0902 - precision: 0.3086 - recall: 0.2254\n",
      "2025-06-14 20:14:55 - INFO - ==================================================\n",
      "\n"
     ]
    },
    {
     "name": "stdout",
     "output_type": "stream",
     "text": [
      "\u001b[1m813/813\u001b[0m \u001b[32m━━━━━━━━━━━━━━━━━━━━\u001b[0m\u001b[37m\u001b[0m \u001b[1m192s\u001b[0m 236ms/step - accuracy: 0.9589 - auc: 0.9650 - f1_score: 0.6873 - loss: 0.0351 - precision: 0.8129 - recall: 0.6121 - val_accuracy: 0.9291 - val_auc: 0.7389 - val_f1_score: 0.2364 - val_loss: 0.0902 - val_precision: 0.3086 - val_recall: 0.2254 - learning_rate: 1.0000e-06\n"
     ]
    },
    {
     "name": "stderr",
     "output_type": "stream",
     "text": [
      "2025-06-14 20:14:55 - INFO - \n",
      "=== Starting Epoch 87 ===\n",
      "\n"
     ]
    },
    {
     "name": "stdout",
     "output_type": "stream",
     "text": [
      "Epoch 87/100\n",
      "\u001b[1m813/813\u001b[0m \u001b[32m━━━━━━━━━━━━━━━━━━━━\u001b[0m\u001b[37m\u001b[0m \u001b[1m0s\u001b[0m 556ms/step - accuracy: 0.9592 - auc: 0.9661 - f1_score: 0.6911 - loss: 0.0349 - precision: 0.8152 - recall: 0.6169  "
     ]
    },
    {
     "name": "stderr",
     "output_type": "stream",
     "text": [
      "2025-06-14 20:22:35 - INFO - \n",
      "=== Epoch 87 Summary ===\n",
      "2025-06-14 20:22:35 - INFO - Time: 460.07s\n",
      "2025-06-14 20:22:35 - INFO - Training   - accuracy: 0.9593 - auc: 0.9659 - f1_score: 0.6918 - loss: 0.0349 - precision: 0.8146 - recall: 0.6176 - learning_rate: 0.0000\n",
      "2025-06-14 20:22:35 - INFO - Validation - accuracy: 0.9304 - auc: 0.7430 - f1_score: 0.2509 - loss: 0.0897 - precision: 0.3091 - recall: 0.2076\n",
      "2025-06-14 20:22:35 - INFO - ==================================================\n",
      "\n"
     ]
    },
    {
     "name": "stdout",
     "output_type": "stream",
     "text": [
      "\u001b[1m813/813\u001b[0m \u001b[32m━━━━━━━━━━━━━━━━━━━━\u001b[0m\u001b[37m\u001b[0m \u001b[1m460s\u001b[0m 566ms/step - accuracy: 0.9592 - auc: 0.9661 - f1_score: 0.6911 - loss: 0.0349 - precision: 0.8152 - recall: 0.6169 - val_accuracy: 0.9304 - val_auc: 0.7430 - val_f1_score: 0.2509 - val_loss: 0.0897 - val_precision: 0.3091 - val_recall: 0.2076 - learning_rate: 1.0000e-06\n"
     ]
    },
    {
     "name": "stderr",
     "output_type": "stream",
     "text": [
      "2025-06-14 20:22:35 - INFO - \n",
      "=== Starting Epoch 88 ===\n",
      "\n"
     ]
    },
    {
     "name": "stdout",
     "output_type": "stream",
     "text": [
      "Epoch 88/100\n",
      "\u001b[1m813/813\u001b[0m \u001b[32m━━━━━━━━━━━━━━━━━━━━\u001b[0m\u001b[37m\u001b[0m \u001b[1m0s\u001b[0m 226ms/step - accuracy: 0.9596 - auc: 0.9665 - f1_score: 0.6946 - loss: 0.0349 - precision: 0.8175 - recall: 0.6202  "
     ]
    },
    {
     "name": "stderr",
     "output_type": "stream",
     "text": [
      "2025-06-14 20:25:47 - INFO - \n",
      "=== Epoch 88 Summary ===\n",
      "2025-06-14 20:25:47 - INFO - Time: 192.11s\n",
      "2025-06-14 20:25:47 - INFO - Training   - accuracy: 0.9597 - auc: 0.9664 - f1_score: 0.6955 - loss: 0.0348 - precision: 0.8175 - recall: 0.6214 - learning_rate: 0.0000\n",
      "2025-06-14 20:25:47 - INFO - Validation - accuracy: 0.9317 - auc: 0.7456 - f1_score: 0.2493 - loss: 0.0876 - precision: 0.3305 - recall: 0.2271\n",
      "2025-06-14 20:25:47 - INFO - ==================================================\n",
      "\n"
     ]
    },
    {
     "name": "stdout",
     "output_type": "stream",
     "text": [
      "\u001b[1m813/813\u001b[0m \u001b[32m━━━━━━━━━━━━━━━━━━━━\u001b[0m\u001b[37m\u001b[0m \u001b[1m192s\u001b[0m 236ms/step - accuracy: 0.9596 - auc: 0.9665 - f1_score: 0.6946 - loss: 0.0349 - precision: 0.8175 - recall: 0.6202 - val_accuracy: 0.9317 - val_auc: 0.7456 - val_f1_score: 0.2493 - val_loss: 0.0876 - val_precision: 0.3305 - val_recall: 0.2271 - learning_rate: 1.0000e-06\n"
     ]
    },
    {
     "name": "stderr",
     "output_type": "stream",
     "text": [
      "2025-06-14 20:25:47 - INFO - \n",
      "=== Starting Epoch 89 ===\n",
      "\n"
     ]
    },
    {
     "name": "stdout",
     "output_type": "stream",
     "text": [
      "Epoch 89/100\n",
      "\u001b[1m813/813\u001b[0m \u001b[32m━━━━━━━━━━━━━━━━━━━━\u001b[0m\u001b[37m\u001b[0m \u001b[1m0s\u001b[0m 226ms/step - accuracy: 0.9598 - auc: 0.9669 - f1_score: 0.6963 - loss: 0.0346 - precision: 0.8163 - recall: 0.6237  "
     ]
    },
    {
     "name": "stderr",
     "output_type": "stream",
     "text": [
      "2025-06-14 20:28:59 - INFO - \n",
      "=== Epoch 89 Summary ===\n",
      "2025-06-14 20:28:59 - INFO - Time: 191.92s\n",
      "2025-06-14 20:28:59 - INFO - Training   - accuracy: 0.9598 - auc: 0.9668 - f1_score: 0.6972 - loss: 0.0347 - precision: 0.8161 - recall: 0.6245 - learning_rate: 0.0000\n",
      "2025-06-14 20:28:59 - INFO - Validation - accuracy: 0.9321 - auc: 0.7418 - f1_score: 0.2415 - loss: 0.0925 - precision: 0.3176 - recall: 0.1968\n",
      "2025-06-14 20:28:59 - INFO - ==================================================\n",
      "\n"
     ]
    },
    {
     "name": "stdout",
     "output_type": "stream",
     "text": [
      "\u001b[1m813/813\u001b[0m \u001b[32m━━━━━━━━━━━━━━━━━━━━\u001b[0m\u001b[37m\u001b[0m \u001b[1m192s\u001b[0m 236ms/step - accuracy: 0.9598 - auc: 0.9669 - f1_score: 0.6963 - loss: 0.0346 - precision: 0.8163 - recall: 0.6237 - val_accuracy: 0.9321 - val_auc: 0.7418 - val_f1_score: 0.2415 - val_loss: 0.0925 - val_precision: 0.3176 - val_recall: 0.1968 - learning_rate: 1.0000e-06\n"
     ]
    },
    {
     "name": "stderr",
     "output_type": "stream",
     "text": [
      "2025-06-14 20:28:59 - INFO - \n",
      "=== Starting Epoch 90 ===\n",
      "\n"
     ]
    },
    {
     "name": "stdout",
     "output_type": "stream",
     "text": [
      "Epoch 90/100\n",
      "\u001b[1m813/813\u001b[0m \u001b[32m━━━━━━━━━━━━━━━━━━━━\u001b[0m\u001b[37m\u001b[0m \u001b[1m0s\u001b[0m 226ms/step - accuracy: 0.9602 - auc: 0.9680 - f1_score: 0.6998 - loss: 0.0344 - precision: 0.8191 - recall: 0.6266  "
     ]
    },
    {
     "name": "stderr",
     "output_type": "stream",
     "text": [
      "2025-06-14 20:32:12 - INFO - \n",
      "=== Epoch 90 Summary ===\n",
      "2025-06-14 20:32:12 - INFO - Time: 192.19s\n",
      "2025-06-14 20:32:12 - INFO - Training   - accuracy: 0.9603 - auc: 0.9677 - f1_score: 0.7017 - loss: 0.0345 - precision: 0.8199 - recall: 0.6288 - learning_rate: 0.0000\n",
      "2025-06-14 20:32:12 - INFO - Validation - accuracy: 0.9313 - auc: 0.7434 - f1_score: 0.2312 - loss: 0.0919 - precision: 0.3130 - recall: 0.2009\n",
      "2025-06-14 20:32:12 - INFO - ==================================================\n",
      "\n"
     ]
    },
    {
     "name": "stdout",
     "output_type": "stream",
     "text": [
      "\u001b[1m813/813\u001b[0m \u001b[32m━━━━━━━━━━━━━━━━━━━━\u001b[0m\u001b[37m\u001b[0m \u001b[1m192s\u001b[0m 236ms/step - accuracy: 0.9602 - auc: 0.9680 - f1_score: 0.6998 - loss: 0.0344 - precision: 0.8191 - recall: 0.6266 - val_accuracy: 0.9313 - val_auc: 0.7434 - val_f1_score: 0.2312 - val_loss: 0.0919 - val_precision: 0.3130 - val_recall: 0.2009 - learning_rate: 1.0000e-06\n"
     ]
    },
    {
     "name": "stderr",
     "output_type": "stream",
     "text": [
      "2025-06-14 20:32:12 - INFO - \n",
      "=== Starting Epoch 91 ===\n",
      "\n"
     ]
    },
    {
     "name": "stdout",
     "output_type": "stream",
     "text": [
      "Epoch 91/100\n",
      "\u001b[1m813/813\u001b[0m \u001b[32m━━━━━━━━━━━━━━━━━━━━\u001b[0m\u001b[37m\u001b[0m \u001b[1m0s\u001b[0m 604ms/step - accuracy: 0.9603 - auc: 0.9677 - f1_score: 0.7009 - loss: 0.0346 - precision: 0.8182 - recall: 0.6284  "
     ]
    },
    {
     "name": "stderr",
     "output_type": "stream",
     "text": [
      "2025-06-14 20:40:31 - INFO - \n",
      "=== Epoch 91 Summary ===\n",
      "2025-06-14 20:40:31 - INFO - Time: 499.34s\n",
      "2025-06-14 20:40:31 - INFO - Training   - accuracy: 0.9606 - auc: 0.9679 - f1_score: 0.7038 - loss: 0.0345 - precision: 0.8196 - recall: 0.6316 - learning_rate: 0.0000\n",
      "2025-06-14 20:40:31 - INFO - Validation - accuracy: 0.9367 - auc: 0.7403 - f1_score: 0.1950 - loss: 0.0952 - precision: 0.3501 - recall: 0.1664\n",
      "2025-06-14 20:40:31 - INFO - ==================================================\n",
      "\n"
     ]
    },
    {
     "name": "stdout",
     "output_type": "stream",
     "text": [
      "\u001b[1m813/813\u001b[0m \u001b[32m━━━━━━━━━━━━━━━━━━━━\u001b[0m\u001b[37m\u001b[0m \u001b[1m499s\u001b[0m 615ms/step - accuracy: 0.9603 - auc: 0.9677 - f1_score: 0.7009 - loss: 0.0346 - precision: 0.8182 - recall: 0.6284 - val_accuracy: 0.9367 - val_auc: 0.7403 - val_f1_score: 0.1950 - val_loss: 0.0952 - val_precision: 0.3501 - val_recall: 0.1664 - learning_rate: 1.0000e-06\n"
     ]
    },
    {
     "name": "stderr",
     "output_type": "stream",
     "text": [
      "2025-06-14 20:40:31 - INFO - \n",
      "=== Starting Epoch 92 ===\n",
      "\n"
     ]
    },
    {
     "name": "stdout",
     "output_type": "stream",
     "text": [
      "Epoch 92/100\n",
      "\u001b[1m813/813\u001b[0m \u001b[32m━━━━━━━━━━━━━━━━━━━━\u001b[0m\u001b[37m\u001b[0m \u001b[1m0s\u001b[0m 226ms/step - accuracy: 0.9609 - auc: 0.9686 - f1_score: 0.7058 - loss: 0.0342 - precision: 0.8253 - recall: 0.6321  "
     ]
    },
    {
     "name": "stderr",
     "output_type": "stream",
     "text": [
      "2025-06-14 20:43:43 - INFO - \n",
      "=== Epoch 92 Summary ===\n",
      "2025-06-14 20:43:43 - INFO - Time: 192.00s\n",
      "2025-06-14 20:43:43 - INFO - Training   - accuracy: 0.9609 - auc: 0.9682 - f1_score: 0.7057 - loss: 0.0343 - precision: 0.8231 - recall: 0.6330 - learning_rate: 0.0000\n",
      "2025-06-14 20:43:43 - INFO - Validation - accuracy: 0.9317 - auc: 0.7468 - f1_score: 0.2540 - loss: 0.0911 - precision: 0.3240 - recall: 0.2149\n",
      "2025-06-14 20:43:43 - INFO - ==================================================\n",
      "\n"
     ]
    },
    {
     "name": "stdout",
     "output_type": "stream",
     "text": [
      "\u001b[1m813/813\u001b[0m \u001b[32m━━━━━━━━━━━━━━━━━━━━\u001b[0m\u001b[37m\u001b[0m \u001b[1m192s\u001b[0m 236ms/step - accuracy: 0.9609 - auc: 0.9686 - f1_score: 0.7058 - loss: 0.0342 - precision: 0.8253 - recall: 0.6321 - val_accuracy: 0.9317 - val_auc: 0.7468 - val_f1_score: 0.2540 - val_loss: 0.0911 - val_precision: 0.3240 - val_recall: 0.2149 - learning_rate: 1.0000e-06\n"
     ]
    },
    {
     "name": "stderr",
     "output_type": "stream",
     "text": [
      "2025-06-14 20:43:43 - INFO - \n",
      "=== Starting Epoch 93 ===\n",
      "\n"
     ]
    },
    {
     "name": "stdout",
     "output_type": "stream",
     "text": [
      "Epoch 93/100\n",
      "\u001b[1m813/813\u001b[0m \u001b[32m━━━━━━━━━━━━━━━━━━━━\u001b[0m\u001b[37m\u001b[0m \u001b[1m0s\u001b[0m 226ms/step - accuracy: 0.9610 - auc: 0.9690 - f1_score: 0.7092 - loss: 0.0342 - precision: 0.8227 - recall: 0.6380  "
     ]
    },
    {
     "name": "stderr",
     "output_type": "stream",
     "text": [
      "2025-06-14 20:46:55 - INFO - \n",
      "=== Epoch 93 Summary ===\n",
      "2025-06-14 20:46:55 - INFO - Time: 192.39s\n",
      "2025-06-14 20:46:55 - INFO - Training   - accuracy: 0.9610 - auc: 0.9687 - f1_score: 0.7084 - loss: 0.0342 - precision: 0.8220 - recall: 0.6370 - learning_rate: 0.0000\n",
      "2025-06-14 20:46:55 - INFO - Validation - accuracy: 0.9277 - auc: 0.7358 - f1_score: 0.2398 - loss: 0.0952 - precision: 0.3095 - recall: 0.2477\n",
      "2025-06-14 20:46:55 - INFO - ==================================================\n",
      "\n"
     ]
    },
    {
     "name": "stdout",
     "output_type": "stream",
     "text": [
      "\u001b[1m813/813\u001b[0m \u001b[32m━━━━━━━━━━━━━━━━━━━━\u001b[0m\u001b[37m\u001b[0m \u001b[1m192s\u001b[0m 237ms/step - accuracy: 0.9610 - auc: 0.9690 - f1_score: 0.7092 - loss: 0.0342 - precision: 0.8227 - recall: 0.6380 - val_accuracy: 0.9277 - val_auc: 0.7358 - val_f1_score: 0.2398 - val_loss: 0.0952 - val_precision: 0.3095 - val_recall: 0.2477 - learning_rate: 1.0000e-06\n"
     ]
    },
    {
     "name": "stderr",
     "output_type": "stream",
     "text": [
      "2025-06-14 20:46:55 - INFO - \n",
      "=== Starting Epoch 94 ===\n",
      "\n"
     ]
    },
    {
     "name": "stdout",
     "output_type": "stream",
     "text": [
      "Epoch 94/100\n",
      "\u001b[1m813/813\u001b[0m \u001b[32m━━━━━━━━━━━━━━━━━━━━\u001b[0m\u001b[37m\u001b[0m \u001b[1m0s\u001b[0m 227ms/step - accuracy: 0.9615 - auc: 0.9698 - f1_score: 0.7116 - loss: 0.0340 - precision: 0.8269 - recall: 0.6389  "
     ]
    },
    {
     "name": "stderr",
     "output_type": "stream",
     "text": [
      "2025-06-14 20:50:08 - INFO - \n",
      "=== Epoch 94 Summary ===\n",
      "2025-06-14 20:50:08 - INFO - Time: 192.77s\n",
      "2025-06-14 20:50:08 - INFO - Training   - accuracy: 0.9615 - auc: 0.9697 - f1_score: 0.7116 - loss: 0.0340 - precision: 0.8252 - recall: 0.6399 - learning_rate: 0.0000\n",
      "2025-06-14 20:50:08 - INFO - Validation - accuracy: 0.9311 - auc: 0.7419 - f1_score: 0.2556 - loss: 0.0878 - precision: 0.3234 - recall: 0.2232\n",
      "2025-06-14 20:50:08 - INFO - ==================================================\n",
      "\n"
     ]
    },
    {
     "name": "stdout",
     "output_type": "stream",
     "text": [
      "\u001b[1m813/813\u001b[0m \u001b[32m━━━━━━━━━━━━━━━━━━━━\u001b[0m\u001b[37m\u001b[0m \u001b[1m193s\u001b[0m 237ms/step - accuracy: 0.9615 - auc: 0.9698 - f1_score: 0.7116 - loss: 0.0340 - precision: 0.8269 - recall: 0.6389 - val_accuracy: 0.9311 - val_auc: 0.7419 - val_f1_score: 0.2556 - val_loss: 0.0878 - val_precision: 0.3234 - val_recall: 0.2232 - learning_rate: 1.0000e-06\n"
     ]
    },
    {
     "name": "stderr",
     "output_type": "stream",
     "text": [
      "2025-06-14 20:50:08 - INFO - \n",
      "=== Starting Epoch 95 ===\n",
      "\n"
     ]
    },
    {
     "name": "stdout",
     "output_type": "stream",
     "text": [
      "Epoch 95/100\n",
      "\u001b[1m813/813\u001b[0m \u001b[32m━━━━━━━━━━━━━━━━━━━━\u001b[0m\u001b[37m\u001b[0m \u001b[1m0s\u001b[0m 596ms/step - accuracy: 0.9616 - auc: 0.9697 - f1_score: 0.7140 - loss: 0.0339 - precision: 0.8287 - recall: 0.6414  "
     ]
    },
    {
     "name": "stderr",
     "output_type": "stream",
     "text": [
      "2025-06-14 20:58:21 - INFO - \n",
      "=== Epoch 95 Summary ===\n",
      "2025-06-14 20:58:21 - INFO - Time: 492.95s\n",
      "2025-06-14 20:58:21 - INFO - Training   - accuracy: 0.9616 - auc: 0.9696 - f1_score: 0.7138 - loss: 0.0339 - precision: 0.8255 - recall: 0.6429 - learning_rate: 0.0000\n",
      "2025-06-14 20:58:21 - INFO - Validation - accuracy: 0.9243 - auc: 0.7351 - f1_score: 0.2607 - loss: 0.0981 - precision: 0.2878 - recall: 0.2492\n",
      "2025-06-14 20:58:21 - INFO - ==================================================\n",
      "\n"
     ]
    },
    {
     "name": "stdout",
     "output_type": "stream",
     "text": [
      "\u001b[1m813/813\u001b[0m \u001b[32m━━━━━━━━━━━━━━━━━━━━\u001b[0m\u001b[37m\u001b[0m \u001b[1m493s\u001b[0m 607ms/step - accuracy: 0.9616 - auc: 0.9697 - f1_score: 0.7140 - loss: 0.0339 - precision: 0.8287 - recall: 0.6414 - val_accuracy: 0.9243 - val_auc: 0.7351 - val_f1_score: 0.2607 - val_loss: 0.0981 - val_precision: 0.2878 - val_recall: 0.2492 - learning_rate: 1.0000e-06\n"
     ]
    },
    {
     "name": "stderr",
     "output_type": "stream",
     "text": [
      "2025-06-14 20:58:21 - INFO - \n",
      "=== Starting Epoch 96 ===\n",
      "\n"
     ]
    },
    {
     "name": "stdout",
     "output_type": "stream",
     "text": [
      "Epoch 96/100\n",
      "\u001b[1m813/813\u001b[0m \u001b[32m━━━━━━━━━━━━━━━━━━━━\u001b[0m\u001b[37m\u001b[0m \u001b[1m0s\u001b[0m 709ms/step - accuracy: 0.9621 - auc: 0.9699 - f1_score: 0.7170 - loss: 0.0339 - precision: 0.8285 - recall: 0.6461   "
     ]
    },
    {
     "name": "stderr",
     "output_type": "stream",
     "text": [
      "2025-06-14 21:08:06 - INFO - \n",
      "=== Epoch 96 Summary ===\n",
      "2025-06-14 21:08:06 - INFO - Time: 584.64s\n",
      "2025-06-14 21:08:06 - INFO - Training   - accuracy: 0.9620 - auc: 0.9698 - f1_score: 0.7161 - loss: 0.0339 - precision: 0.8277 - recall: 0.6452 - learning_rate: 0.0000\n",
      "2025-06-14 21:08:06 - INFO - Validation - accuracy: 0.9294 - auc: 0.7404 - f1_score: 0.2600 - loss: 0.0925 - precision: 0.3147 - recall: 0.2337\n",
      "2025-06-14 21:08:06 - INFO - ==================================================\n",
      "\n"
     ]
    },
    {
     "name": "stdout",
     "output_type": "stream",
     "text": [
      "\u001b[1m813/813\u001b[0m \u001b[32m━━━━━━━━━━━━━━━━━━━━\u001b[0m\u001b[37m\u001b[0m \u001b[1m585s\u001b[0m 720ms/step - accuracy: 0.9621 - auc: 0.9699 - f1_score: 0.7170 - loss: 0.0339 - precision: 0.8285 - recall: 0.6461 - val_accuracy: 0.9294 - val_auc: 0.7404 - val_f1_score: 0.2600 - val_loss: 0.0925 - val_precision: 0.3147 - val_recall: 0.2337 - learning_rate: 1.0000e-06\n"
     ]
    },
    {
     "name": "stderr",
     "output_type": "stream",
     "text": [
      "2025-06-14 21:08:06 - INFO - \n",
      "=== Starting Epoch 97 ===\n",
      "\n"
     ]
    },
    {
     "name": "stdout",
     "output_type": "stream",
     "text": [
      "Epoch 97/100\n",
      "\u001b[1m813/813\u001b[0m \u001b[32m━━━━━━━━━━━━━━━━━━━━\u001b[0m\u001b[37m\u001b[0m \u001b[1m0s\u001b[0m 590ms/step - accuracy: 0.9624 - auc: 0.9703 - f1_score: 0.7202 - loss: 0.0338 - precision: 0.8324 - recall: 0.6482  "
     ]
    },
    {
     "name": "stderr",
     "output_type": "stream",
     "text": [
      "2025-06-14 21:16:13 - INFO - \n",
      "=== Epoch 97 Summary ===\n",
      "2025-06-14 21:16:13 - INFO - Time: 487.54s\n",
      "2025-06-14 21:16:13 - INFO - Training   - accuracy: 0.9623 - auc: 0.9705 - f1_score: 0.7196 - loss: 0.0337 - precision: 0.8294 - recall: 0.6495 - learning_rate: 0.0000\n",
      "2025-06-14 21:16:13 - INFO - Validation - accuracy: 0.9353 - auc: 0.7420 - f1_score: 0.2095 - loss: 0.0943 - precision: 0.3357 - recall: 0.1727\n",
      "2025-06-14 21:16:13 - INFO - ==================================================\n",
      "\n"
     ]
    },
    {
     "name": "stdout",
     "output_type": "stream",
     "text": [
      "\u001b[1m813/813\u001b[0m \u001b[32m━━━━━━━━━━━━━━━━━━━━\u001b[0m\u001b[37m\u001b[0m \u001b[1m488s\u001b[0m 600ms/step - accuracy: 0.9624 - auc: 0.9703 - f1_score: 0.7202 - loss: 0.0338 - precision: 0.8324 - recall: 0.6482 - val_accuracy: 0.9353 - val_auc: 0.7420 - val_f1_score: 0.2095 - val_loss: 0.0943 - val_precision: 0.3357 - val_recall: 0.1727 - learning_rate: 1.0000e-06\n"
     ]
    },
    {
     "name": "stderr",
     "output_type": "stream",
     "text": [
      "2025-06-14 21:16:13 - INFO - \n",
      "=== Training Completed! ===\n",
      "\n",
      "2025-06-14 21:16:13 - INFO - Final Metrics: accuracy: 0.9623 - auc: 0.9705 - f1_score: 0.7196 - loss: 0.0337 - precision: 0.8294 - recall: 0.6495 - val_accuracy: 0.9353 - val_auc: 0.7420 - val_f1_score: 0.2095 - val_loss: 0.0943 - val_precision: 0.3357 - val_recall: 0.1727\n",
      "\n"
     ]
    },
    {
     "name": "stdout",
     "output_type": "stream",
     "text": [
      "Epoch 97: early stopping\n",
      "Restoring model weights from the end of the best epoch: 82.\n"
     ]
    }
   ],
   "source": [
    "# Model Training\n",
    "model          = build_densenet121(num_classes)\n",
    "optimizer      = Adam(learning_rate=1e-4)\n",
    "compile_kwargs = {'optimizer': optimizer, 'loss': loss, 'metrics': metrics}\n",
    "\n",
    "history, model = start_or_resume_training(\n",
    "    model, \n",
    "    compile_kwargs, \n",
    "    train_ds, \n",
    "    val_ds, \n",
    "    TF_MAX_EPOCHS,\n",
    "    steps_per_epoch, \n",
    "    validation_steps, \n",
    "    class_weights=class_weights,\n",
    "    callbacks=[checkpoint, best_checkpoint, reduce_lr, training_logger, metrics_monitor, early_stopping], \n",
    "    checkpoint_path=checkpoint_path,\n",
    "    initial_epoch=initial_epoch,\n",
    "    output_dir=MODELS_PATH,\n",
    "    model_name=model_name,\n",
    "    logger=logger\n",
    ")"
   ]
  },
  {
   "cell_type": "code",
   "execution_count": null,
   "id": "048b711f-28f1-433d-ac5b-b8729218ef96",
   "metadata": {},
   "outputs": [],
   "source": []
  }
 ],
 "metadata": {
  "kernelspec": {
   "display_name": "Python 3 (ipykernel)",
   "language": "python",
   "name": "python3"
  },
  "language_info": {
   "codemirror_mode": {
    "name": "ipython",
    "version": 3
   },
   "file_extension": ".py",
   "mimetype": "text/x-python",
   "name": "python",
   "nbconvert_exporter": "python",
   "pygments_lexer": "ipython3",
   "version": "3.10.16"
  }
 },
 "nbformat": 4,
 "nbformat_minor": 5
}
