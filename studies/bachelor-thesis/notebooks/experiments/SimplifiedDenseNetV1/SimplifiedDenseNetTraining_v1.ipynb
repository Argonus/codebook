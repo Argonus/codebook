{
 "cells": [
  {
   "cell_type": "code",
   "execution_count": 1,
   "id": "b694919a-9b18-4068-8e69-7258de889dff",
   "metadata": {},
   "outputs": [
    {
     "name": "stderr",
     "output_type": "stream",
     "text": [
      "2025-04-19 16:31:49.963789: I tensorflow/core/util/port.cc:153] oneDNN custom operations are on. You may see slightly different numerical results due to floating-point round-off errors from different computation orders. To turn them off, set the environment variable `TF_ENABLE_ONEDNN_OPTS=0`.\n",
      "2025-04-19 16:31:49.971169: E external/local_xla/xla/stream_executor/cuda/cuda_fft.cc:467] Unable to register cuFFT factory: Attempting to register factory for plugin cuFFT when one has already been registered\n",
      "WARNING: All log messages before absl::InitializeLog() is called are written to STDERR\n",
      "E0000 00:00:1745073109.979297   19738 cuda_dnn.cc:8579] Unable to register cuDNN factory: Attempting to register factory for plugin cuDNN when one has already been registered\n",
      "E0000 00:00:1745073109.981729   19738 cuda_blas.cc:1407] Unable to register cuBLAS factory: Attempting to register factory for plugin cuBLAS when one has already been registered\n",
      "W0000 00:00:1745073109.988524   19738 computation_placer.cc:177] computation placer already registered. Please check linkage and avoid linking the same target more than once.\n",
      "W0000 00:00:1745073109.988531   19738 computation_placer.cc:177] computation placer already registered. Please check linkage and avoid linking the same target more than once.\n",
      "W0000 00:00:1745073109.988532   19738 computation_placer.cc:177] computation placer already registered. Please check linkage and avoid linking the same target more than once.\n",
      "W0000 00:00:1745073109.988532   19738 computation_placer.cc:177] computation placer already registered. Please check linkage and avoid linking the same target more than once.\n",
      "2025-04-19 16:31:49.991003: I tensorflow/core/platform/cpu_feature_guard.cc:210] This TensorFlow binary is optimized to use available CPU instructions in performance-critical operations.\n",
      "To enable the following instructions: AVX2 AVX_VNNI FMA, in other operations, rebuild TensorFlow with the appropriate compiler flags.\n"
     ]
    },
    {
     "name": "stdout",
     "output_type": "stream",
     "text": [
      "\n",
      "GPU configuration successful!\n",
      "Device: /physical_device:GPU:0\n",
      "Memory limit: 18.0 GB\n",
      "\n",
      "TensorFlow optimizations status:\n",
      "- CPU Threads: 19 intra-op, 12 inter-op (32 cores total)\n",
      "- XLA JIT: enabled (autoclustering)\n",
      "- Synchronous Execution: enabled\n",
      "\n",
      "GPU Device Details:\n",
      "- Device: GPU /physical_device:GPU:0\n",
      "- Memory limit: 18.0 GB\n"
     ]
    },
    {
     "name": "stderr",
     "output_type": "stream",
     "text": [
      "I0000 00:00:1745073111.230979   19738 gpu_device.cc:2019] Created device /job:localhost/replica:0/task:0/device:GPU:0 with 19327352832 MB memory:  -> device: 0, name: NVIDIA GeForce RTX 3090 Ti, pci bus id: 0000:01:00.0, compute capability: 8.6\n"
     ]
    }
   ],
   "source": [
    "# Import dependencies\n",
    "import os\n",
    "from src.utils.gpu_config import configure_gpu, optimize_tensorflow\n",
    "\n",
    "configure_gpu()\n",
    "optimize_tensorflow()\n",
    "\n",
    "os.environ['TF_CPP_MIN_VLOG_LEVEL'] = '0'\n",
    "os.environ['TF_CPP_MIN_LOG_LEVEL'] = '2'"
   ]
  },
  {
   "cell_type": "code",
   "execution_count": 2,
   "id": "2b854daf-5f2a-4c33-9180-5081cd415b16",
   "metadata": {},
   "outputs": [
    {
     "name": "stderr",
     "output_type": "stream",
     "text": [
      "I0000 00:00:1745073111.251658   19738 cuda_executor.cc:479] failed to allocate 18.00PiB (20266198323167232 bytes) from device: RESOURCE_EXHAUSTED: : CUDA_ERROR_OUT_OF_MEMORY: out of memory\n",
      "I0000 00:00:1745073111.251681   19738 cuda_executor.cc:479] failed to allocate 16.20PiB (18239577202360320 bytes) from device: RESOURCE_EXHAUSTED: : CUDA_ERROR_OUT_OF_MEMORY: out of memory\n",
      "I0000 00:00:1745073111.251684   19738 cuda_executor.cc:479] failed to allocate 14.58PiB (16415619482124288 bytes) from device: RESOURCE_EXHAUSTED: : CUDA_ERROR_OUT_OF_MEMORY: out of memory\n",
      "I0000 00:00:1745073111.251687   19738 cuda_executor.cc:479] failed to allocate 13.12PiB (14774057211789312 bytes) from device: RESOURCE_EXHAUSTED: : CUDA_ERROR_OUT_OF_MEMORY: out of memory\n",
      "I0000 00:00:1745073111.251688   19738 cuda_executor.cc:479] failed to allocate 11.81PiB (13296650738991104 bytes) from device: RESOURCE_EXHAUSTED: : CUDA_ERROR_OUT_OF_MEMORY: out of memory\n",
      "I0000 00:00:1745073111.251690   19738 cuda_executor.cc:479] failed to allocate 10.63PiB (11966985772466176 bytes) from device: RESOURCE_EXHAUSTED: : CUDA_ERROR_OUT_OF_MEMORY: out of memory\n",
      "I0000 00:00:1745073111.251692   19738 cuda_executor.cc:479] failed to allocate 9.57PiB (10770286550974464 bytes) from device: RESOURCE_EXHAUSTED: : CUDA_ERROR_OUT_OF_MEMORY: out of memory\n",
      "I0000 00:00:1745073111.251694   19738 cuda_executor.cc:479] failed to allocate 8.61PiB (9693258003251200 bytes) from device: RESOURCE_EXHAUSTED: : CUDA_ERROR_OUT_OF_MEMORY: out of memory\n",
      "I0000 00:00:1745073111.251696   19738 cuda_executor.cc:479] failed to allocate 7.75PiB (8723932202926080 bytes) from device: RESOURCE_EXHAUSTED: : CUDA_ERROR_OUT_OF_MEMORY: out of memory\n",
      "I0000 00:00:1745073111.251697   19738 cuda_executor.cc:479] failed to allocate 6.97PiB (7851538982633472 bytes) from device: RESOURCE_EXHAUSTED: : CUDA_ERROR_OUT_OF_MEMORY: out of memory\n",
      "I0000 00:00:1745073111.251699   19738 cuda_executor.cc:479] failed to allocate 6.28PiB (7066385138057216 bytes) from device: RESOURCE_EXHAUSTED: : CUDA_ERROR_OUT_OF_MEMORY: out of memory\n",
      "I0000 00:00:1745073111.251701   19738 cuda_executor.cc:479] failed to allocate 5.65PiB (6359746516877312 bytes) from device: RESOURCE_EXHAUSTED: : CUDA_ERROR_OUT_OF_MEMORY: out of memory\n",
      "I0000 00:00:1745073111.251702   19738 cuda_executor.cc:479] failed to allocate 5.08PiB (5723771918876672 bytes) from device: RESOURCE_EXHAUSTED: : CUDA_ERROR_OUT_OF_MEMORY: out of memory\n",
      "I0000 00:00:1745073111.251704   19738 cuda_executor.cc:479] failed to allocate 4.58PiB (5151394512240640 bytes) from device: RESOURCE_EXHAUSTED: : CUDA_ERROR_OUT_OF_MEMORY: out of memory\n",
      "I0000 00:00:1745073111.251706   19738 cuda_executor.cc:479] failed to allocate 4.12PiB (4636255061016576 bytes) from device: RESOURCE_EXHAUSTED: : CUDA_ERROR_OUT_OF_MEMORY: out of memory\n",
      "I0000 00:00:1745073111.251707   19738 cuda_executor.cc:479] failed to allocate 3.71PiB (4172629447540736 bytes) from device: RESOURCE_EXHAUSTED: : CUDA_ERROR_OUT_OF_MEMORY: out of memory\n",
      "I0000 00:00:1745073111.251709   19738 cuda_executor.cc:479] failed to allocate 3.33PiB (3755366395412480 bytes) from device: RESOURCE_EXHAUSTED: : CUDA_ERROR_OUT_OF_MEMORY: out of memory\n",
      "I0000 00:00:1745073111.251711   19738 cuda_executor.cc:479] failed to allocate 3.00PiB (3379829755871232 bytes) from device: RESOURCE_EXHAUSTED: : CUDA_ERROR_OUT_OF_MEMORY: out of memory\n",
      "I0000 00:00:1745073111.251713   19738 cuda_executor.cc:479] failed to allocate 2.70PiB (3041846699753472 bytes) from device: RESOURCE_EXHAUSTED: : CUDA_ERROR_OUT_OF_MEMORY: out of memory\n",
      "I0000 00:00:1745073111.251714   19738 cuda_executor.cc:479] failed to allocate 2.43PiB (2737662083465216 bytes) from device: RESOURCE_EXHAUSTED: : CUDA_ERROR_OUT_OF_MEMORY: out of memory\n",
      "I0000 00:00:1745073111.251716   19738 cuda_executor.cc:479] failed to allocate 2.19PiB (2463895767744512 bytes) from device: RESOURCE_EXHAUSTED: : CUDA_ERROR_OUT_OF_MEMORY: out of memory\n",
      "I0000 00:00:1745073111.251718   19738 cuda_executor.cc:479] failed to allocate 1.97PiB (2217506110439424 bytes) from device: RESOURCE_EXHAUSTED: : CUDA_ERROR_OUT_OF_MEMORY: out of memory\n",
      "I0000 00:00:1745073111.251719   19738 cuda_executor.cc:479] failed to allocate 1.77PiB (1995755472551936 bytes) from device: RESOURCE_EXHAUSTED: : CUDA_ERROR_OUT_OF_MEMORY: out of memory\n",
      "I0000 00:00:1745073111.251722   19738 cuda_executor.cc:479] failed to allocate 1.59PiB (1796179885031424 bytes) from device: RESOURCE_EXHAUSTED: : CUDA_ERROR_OUT_OF_MEMORY: out of memory\n",
      "I0000 00:00:1745073111.251723   19738 cuda_executor.cc:479] failed to allocate 1.44PiB (1616561802575872 bytes) from device: RESOURCE_EXHAUSTED: : CUDA_ERROR_OUT_OF_MEMORY: out of memory\n",
      "I0000 00:00:1745073111.251725   19738 cuda_executor.cc:479] failed to allocate 1.29PiB (1454905541787648 bytes) from device: RESOURCE_EXHAUSTED: : CUDA_ERROR_OUT_OF_MEMORY: out of memory\n",
      "I0000 00:00:1745073111.251727   19738 cuda_executor.cc:479] failed to allocate 1.16PiB (1309415001030656 bytes) from device: RESOURCE_EXHAUSTED: : CUDA_ERROR_OUT_OF_MEMORY: out of memory\n",
      "I0000 00:00:1745073111.251728   19738 cuda_executor.cc:479] failed to allocate 1.05PiB (1178473527771136 bytes) from device: RESOURCE_EXHAUSTED: : CUDA_ERROR_OUT_OF_MEMORY: out of memory\n",
      "I0000 00:00:1745073111.251730   19738 cuda_executor.cc:479] failed to allocate 964.63TiB (1060626134728704 bytes) from device: RESOURCE_EXHAUSTED: : CUDA_ERROR_OUT_OF_MEMORY: out of memory\n",
      "I0000 00:00:1745073111.251732   19738 cuda_executor.cc:479] failed to allocate 868.17TiB (954563527966720 bytes) from device: RESOURCE_EXHAUSTED: : CUDA_ERROR_OUT_OF_MEMORY: out of memory\n",
      "I0000 00:00:1745073111.251734   19738 cuda_executor.cc:479] failed to allocate 781.35TiB (859107141615616 bytes) from device: RESOURCE_EXHAUSTED: : CUDA_ERROR_OUT_OF_MEMORY: out of memory\n",
      "I0000 00:00:1745073111.251736   19738 cuda_executor.cc:479] failed to allocate 703.22TiB (773196387188736 bytes) from device: RESOURCE_EXHAUSTED: : CUDA_ERROR_OUT_OF_MEMORY: out of memory\n",
      "I0000 00:00:1745073111.251737   19738 cuda_executor.cc:479] failed to allocate 632.90TiB (695876708204544 bytes) from device: RESOURCE_EXHAUSTED: : CUDA_ERROR_OUT_OF_MEMORY: out of memory\n",
      "I0000 00:00:1745073111.251739   19738 cuda_executor.cc:479] failed to allocate 569.61TiB (626289044094976 bytes) from device: RESOURCE_EXHAUSTED: : CUDA_ERROR_OUT_OF_MEMORY: out of memory\n",
      "I0000 00:00:1745073111.251741   19738 cuda_executor.cc:479] failed to allocate 512.65TiB (563660099420160 bytes) from device: RESOURCE_EXHAUSTED: : CUDA_ERROR_OUT_OF_MEMORY: out of memory\n",
      "I0000 00:00:1745073111.251743   19738 cuda_executor.cc:479] failed to allocate 461.38TiB (507294089478144 bytes) from device: RESOURCE_EXHAUSTED: : CUDA_ERROR_OUT_OF_MEMORY: out of memory\n",
      "I0000 00:00:1745073111.251745   19738 cuda_executor.cc:479] failed to allocate 415.24TiB (456564653686784 bytes) from device: RESOURCE_EXHAUSTED: : CUDA_ERROR_OUT_OF_MEMORY: out of memory\n",
      "I0000 00:00:1745073111.251746   19738 cuda_executor.cc:479] failed to allocate 373.72TiB (410908178251776 bytes) from device: RESOURCE_EXHAUSTED: : CUDA_ERROR_OUT_OF_MEMORY: out of memory\n",
      " failed to allocate 336.35TiB (369817353715712 bytes) from device: RESOURCE_EXHAUSTED: : CUDA_ERROR_OUT_OF_MEMORY: out of memory\n",
      "I0000 00:00:1745073111.251750   19738 cuda_executor.cc:479] failed to allocate 302.71TiB (332835604922368 bytes) from device: RESOURCE_EXHAUSTED: : CUDA_ERROR_OUT_OF_MEMORY: out of memory\n",
      "I0000 00:00:1745073111.251751   19738 cuda_executor.cc:479] failed to allocate 272.44TiB (299552024297472 bytes) from device: RESOURCE_EXHAUSTED: : CUDA_ERROR_OUT_OF_MEMORY: out of memory\n",
      "I0000 00:00:1745073111.251753   19738 cuda_executor.cc:479] failed to allocate 245.20TiB (269596808445952 bytes) from device: RESOURCE_EXHAUSTED: : CUDA_ERROR_OUT_OF_MEMORY: out of memory\n",
      "I0000 00:00:1745073111.251755   19738 cuda_executor.cc:479] failed to allocate 220.68TiB (242637114179584 bytes) from device: RESOURCE_EXHAUSTED: : CUDA_ERROR_OUT_OF_MEMORY: out of memory\n",
      "I0000 00:00:1745073111.251757   19738 cuda_executor.cc:479] failed to allocate 198.61TiB (218373401083904 bytes) from device: RESOURCE_EXHAUSTED: : CUDA_ERROR_OUT_OF_MEMORY: out of memory\n",
      "I0000 00:00:1745073111.251759   19738 cuda_executor.cc:479] failed to allocate 178.75TiB (196536059297792 bytes) from device: RESOURCE_EXHAUSTED: : CUDA_ERROR_OUT_OF_MEMORY: out of memory\n",
      "I0000 00:00:1745073111.251761   19738 cuda_executor.cc:479] failed to allocate 160.87TiB (176882456723456 bytes) from device: RESOURCE_EXHAUSTED: : CUDA_ERROR_OUT_OF_MEMORY: out of memory\n",
      "I0000 00:00:1745073111.251762   19738 cuda_executor.cc:479] failed to allocate 144.79TiB (159194204340224 bytes) from device: RESOURCE_EXHAUSTED: : CUDA_ERROR_OUT_OF_MEMORY: out of memory\n",
      "I0000 00:00:1745073111.251764   19738 cuda_executor.cc:479] failed to allocate 130.31TiB (143274773839872 bytes) from device: RESOURCE_EXHAUSTED: : CUDA_ERROR_OUT_OF_MEMORY: out of memory\n",
      "I0000 00:00:1745073111.251766   19738 cuda_executor.cc:479] failed to allocate 117.28TiB (128947291422720 bytes) from device: RESOURCE_EXHAUSTED: : CUDA_ERROR_OUT_OF_MEMORY: out of memory\n",
      "I0000 00:00:1745073111.448990   19738 cuda_executor.cc:479] failed to allocate 105.55TiB (116052558086144 bytes) from device: RESOURCE_EXHAUSTED: : CUDA_ERROR_OUT_OF_MEMORY: out of memory\n",
      "I0000 00:00:1745073111.624160   19738 cuda_executor.cc:479] failed to allocate 94.99TiB (104447296405504 bytes) from device: RESOURCE_EXHAUSTED: : CUDA_ERROR_OUT_OF_MEMORY: out of memory\n",
      "I0000 00:00:1745073111.783641   19738 cuda_executor.cc:479] failed to allocate 85.49TiB (94002565087232 bytes) from device: RESOURCE_EXHAUSTED: : CUDA_ERROR_OUT_OF_MEMORY: out of memory\n",
      "I0000 00:00:1745073111.925848   19738 cuda_executor.cc:479] failed to allocate 76.95TiB (84602307739648 bytes) from device: RESOURCE_EXHAUSTED: : CUDA_ERROR_OUT_OF_MEMORY: out of memory\n",
      "I0000 00:00:1745073112.050994   19738 cuda_executor.cc:479] failed to allocate 69.25TiB (76142077804544 bytes) from device: RESOURCE_EXHAUSTED: : CUDA_ERROR_OUT_OF_MEMORY: out of memory\n",
      "I0000 00:00:1745073112.164373   19738 cuda_executor.cc:479] failed to allocate 62.33TiB (68527868346368 bytes) from device: RESOURCE_EXHAUSTED: : CUDA_ERROR_OUT_OF_MEMORY: out of memory\n",
      "I0000 00:00:1745073112.267912   19738 cuda_executor.cc:479] failed to allocate 56.09TiB (61675080253440 bytes) from device: RESOURCE_EXHAUSTED: : CUDA_ERROR_OUT_OF_MEMORY: out of memory\n",
      "I0000 00:00:1745073112.368165   19738 cuda_executor.cc:479] failed to allocate 50.48TiB (55507570130944 bytes) from device: RESOURCE_EXHAUSTED: : CUDA_ERROR_OUT_OF_MEMORY: out of memory\n",
      "I0000 00:00:1745073112.449019   19738 cuda_executor.cc:479] failed to allocate 45.43TiB (49956811440128 bytes) from device: RESOURCE_EXHAUSTED: : CUDA_ERROR_OUT_OF_MEMORY: out of memory\n",
      "I0000 00:00:1745073112.521844   19738 cuda_executor.cc:479] failed to allocate 40.89TiB (44961131134976 bytes) from device: RESOURCE_EXHAUSTED: : CUDA_ERROR_OUT_OF_MEMORY: out of memory\n",
      "I0000 00:00:1745073112.586147   19738 cuda_executor.cc:479] failed to allocate 36.80TiB (40465017602048 bytes) from device: RESOURCE_EXHAUSTED: : CUDA_ERROR_OUT_OF_MEMORY: out of memory\n",
      "I0000 00:00:1745073112.644706   19738 cuda_executor.cc:479] failed to allocate 33.12TiB (36418516680704 bytes) from device: RESOURCE_EXHAUSTED: : CUDA_ERROR_OUT_OF_MEMORY: out of memory\n",
      "I0000 00:00:1745073112.697019   19738 cuda_executor.cc:479] failed to allocate 29.81TiB (32776663334912 bytes) from device: RESOURCE_EXHAUSTED: : CUDA_ERROR_OUT_OF_MEMORY: out of memory\n",
      "I0000 00:00:1745073112.744218   19738 cuda_executor.cc:479] failed to allocate 26.83TiB (29498997211136 bytes) from device: RESOURCE_EXHAUSTED: : CUDA_ERROR_OUT_OF_MEMORY: out of memory\n",
      "I0000 00:00:1745073112.784359   19738 cuda_executor.cc:479] failed to allocate 24.15TiB (26549097070592 bytes) from device: RESOURCE_EXHAUSTED: : CUDA_ERROR_OUT_OF_MEMORY: out of memory\n",
      "I0000 00:00:1745073112.820376   19738 cuda_executor.cc:479] failed to allocate 21.73TiB (23894186524672 bytes) from device: RESOURCE_EXHAUSTED: : CUDA_ERROR_OUT_OF_MEMORY: out of memory\n",
      "I0000 00:00:1745073112.851171   19738 cuda_executor.cc:479] failed to allocate 19.56TiB (21504767033344 bytes) from device: RESOURCE_EXHAUSTED: : CUDA_ERROR_OUT_OF_MEMORY: out of memory\n",
      "I0000 00:00:1745073112.878529   19738 cuda_executor.cc:479] failed to allocate 17.60TiB (19354290749440 bytes) from device: RESOURCE_EXHAUSTED: : CUDA_ERROR_OUT_OF_MEMORY: out of memory\n",
      "I0000 00:00:1745073112.903054   19738 cuda_executor.cc:479] failed to allocate 15.84TiB (17418861674496 bytes) from device: RESOURCE_EXHAUSTED: : CUDA_ERROR_OUT_OF_MEMORY: out of memory\n",
      "I0000 00:00:1745073112.926660   19738 cuda_executor.cc:479] failed to allocate 14.26TiB (15676975611904 bytes) from device: RESOURCE_EXHAUSTED: : CUDA_ERROR_OUT_OF_MEMORY: out of memory\n",
      "I0000 00:00:1745073112.944453   19738 cuda_executor.cc:479] failed to allocate 12.83TiB (14109277945856 bytes) from device: RESOURCE_EXHAUSTED: : CUDA_ERROR_OUT_OF_MEMORY: out of memory\n",
      "I0000 00:00:1745073112.958073   19738 cuda_executor.cc:479] failed to allocate 11.55TiB (12698349731840 bytes) from device: RESOURCE_EXHAUSTED: : CUDA_ERROR_OUT_OF_MEMORY: out of memory\n",
      "I0000 00:00:1745073112.970322   19738 cuda_executor.cc:479] failed to allocate 10.39TiB (11428514758656 bytes) from device: RESOURCE_EXHAUSTED: : CUDA_ERROR_OUT_OF_MEMORY: out of memory\n",
      "I0000 00:00:1745073112.979743   19738 cuda_executor.cc:479] failed to allocate 9.35TiB (10285663387648 bytes) from device: RESOURCE_EXHAUSTED: : CUDA_ERROR_OUT_OF_MEMORY: out of memory\n",
      "I0000 00:00:1745073112.987595   19738 cuda_executor.cc:479] failed to allocate 8.42TiB (9257096314880 bytes) from device: RESOURCE_EXHAUSTED: : CUDA_ERROR_OUT_OF_MEMORY: out of memory\n",
      "I0000 00:00:1745073112.996702   19738 cuda_executor.cc:479] failed to allocate 7.58TiB (8331386683392 bytes) from device: RESOURCE_EXHAUSTED: : CUDA_ERROR_OUT_OF_MEMORY: out of memory\n",
      "I0000 00:00:1745073113.003962   19738 cuda_executor.cc:479] failed to allocate 6.82TiB (7498247962624 bytes) from device: RESOURCE_EXHAUSTED: : CUDA_ERROR_OUT_OF_MEMORY: out of memory\n",
      "I0000 00:00:1745073113.008572   19738 cuda_executor.cc:479] failed to allocate 6.14TiB (6748422799360 bytes) from device: RESOURCE_EXHAUSTED: : CUDA_ERROR_OUT_OF_MEMORY: out of memory\n",
      "I0000 00:00:1745073113.015458   19738 cuda_executor.cc:479] failed to allocate 5.52TiB (6073580257280 bytes) from device: RESOURCE_EXHAUSTED: : CUDA_ERROR_OUT_OF_MEMORY: out of memory\n",
      "I0000 00:00:1745073113.019044   19738 cuda_executor.cc:479] failed to allocate 4.97TiB (5466221969408 bytes) from device: RESOURCE_EXHAUSTED: : CUDA_ERROR_OUT_OF_MEMORY: out of memory\n",
      "I0000 00:00:1745073113.022303   19738 cuda_executor.cc:479] failed to allocate 4.47TiB (4919599824896 bytes) from device: RESOURCE_EXHAUSTED: : CUDA_ERROR_OUT_OF_MEMORY: out of memory\n",
      "I0000 00:00:1745073113.025110   19738 cuda_executor.cc:479] failed to allocate 4.03TiB (4427639947264 bytes) from device: RESOURCE_EXHAUSTED: : CUDA_ERROR_OUT_OF_MEMORY: out of memory\n",
      "I0000 00:00:1745073113.027835   19738 cuda_executor.cc:479] failed to allocate 3.62TiB (3984875847680 bytes) from device: RESOURCE_EXHAUSTED: : CUDA_ERROR_OUT_OF_MEMORY: out of memory\n",
      "I0000 00:00:1745073113.030097   19738 cuda_executor.cc:479] failed to allocate 3.26TiB (3586388131840 bytes) from device: RESOURCE_EXHAUSTED: : CUDA_ERROR_OUT_OF_MEMORY: out of memory\n",
      "I0000 00:00:1745073113.032254   19738 cuda_executor.cc:479] failed to allocate 2.94TiB (3227749187584 bytes) from device: RESOURCE_EXHAUSTED: : CUDA_ERROR_OUT_OF_MEMORY: out of memory\n",
      "I0000 00:00:1745073113.034120   19738 cuda_executor.cc:479] failed to allocate 2.64TiB (2904974163968 bytes) from device: RESOURCE_EXHAUSTED: : CUDA_ERROR_OUT_OF_MEMORY: out of memory\n",
      "I0000 00:00:1745073113.035808   19738 cuda_executor.cc:479] failed to allocate 2.38TiB (2614476668928 bytes) from device: RESOURCE_EXHAUSTED: : CUDA_ERROR_OUT_OF_MEMORY: out of memory\n",
      "I0000 00:00:1745073113.037363   19738 cuda_executor.cc:479] failed to allocate 2.14TiB (2353028923392 bytes) from device: RESOURCE_EXHAUSTED: : CUDA_ERROR_OUT_OF_MEMORY: out of memory\n",
      "I0000 00:00:1745073113.038784   19738 cuda_executor.cc:479] failed to allocate 1.93TiB (2117725978624 bytes) from device: RESOURCE_EXHAUSTED: : CUDA_ERROR_OUT_OF_MEMORY: out of memory\n",
      "I0000 00:00:1745073113.040079   19738 cuda_executor.cc:479] failed to allocate 1.73TiB (1905953341440 bytes) from device: RESOURCE_EXHAUSTED: : CUDA_ERROR_OUT_OF_MEMORY: out of memory\n",
      "I0000 00:00:1745073113.041283   19738 cuda_executor.cc:479] failed to allocate 1.56TiB (1715358007296 bytes) from device: RESOURCE_EXHAUSTED: : CUDA_ERROR_OUT_OF_MEMORY: out of memory\n",
      "I0000 00:00:1745073113.042375   19738 cuda_executor.cc:479] failed to allocate 1.40TiB (1543822114816 bytes) from device: RESOURCE_EXHAUSTED: : CUDA_ERROR_OUT_OF_MEMORY: out of memory\n",
      "I0000 00:00:1745073113.043384   19738 cuda_executor.cc:479] failed to allocate 1.26TiB (1389439877120 bytes) from device: RESOURCE_EXHAUSTED: : CUDA_ERROR_OUT_OF_MEMORY: out of memory\n",
      "I0000 00:00:1745073113.044318   19738 cuda_executor.cc:479] failed to allocate 1.14TiB (1250495823872 bytes) from device: RESOURCE_EXHAUSTED: : CUDA_ERROR_OUT_OF_MEMORY: out of memory\n",
      "I0000 00:00:1745073113.045164   19738 cuda_executor.cc:479] failed to allocate 1.02TiB (1125446189056 bytes) from device: RESOURCE_EXHAUSTED: : CUDA_ERROR_OUT_OF_MEMORY: out of memory\n",
      "I0000 00:00:1745073113.045966   19738 cuda_executor.cc:479] failed to allocate 943.34GiB (1012901543936 bytes) from device: RESOURCE_EXHAUSTED: : CUDA_ERROR_OUT_OF_MEMORY: out of memory\n",
      "I0000 00:00:1745073113.046722   19738 cuda_executor.cc:479] failed to allocate 849.00GiB (911611396096 bytes) from device: RESOURCE_EXHAUSTED: : CUDA_ERROR_OUT_OF_MEMORY: out of memory\n",
      "I0000 00:00:1745073113.047385   19738 cuda_executor.cc:479] failed to allocate 764.10GiB (820450230272 bytes) from device: RESOURCE_EXHAUSTED: : CUDA_ERROR_OUT_OF_MEMORY: out of memory\n",
      "I0000 00:00:1745073113.047999   19738 cuda_executor.cc:479] failed to allocate 687.69GiB (738405187584 bytes) from device: RESOURCE_EXHAUSTED: : CUDA_ERROR_OUT_OF_MEMORY: out of memory\n",
      "I0000 00:00:1745073113.048686   19738 cuda_executor.cc:479] failed to allocate 618.92GiB (664564662272 bytes) from device: RESOURCE_EXHAUSTED: : CUDA_ERROR_OUT_OF_MEMORY: out of memory\n",
      "I0000 00:00:1745073113.049213   19738 cuda_executor.cc:479] failed to allocate 557.03GiB (598108209152 bytes) from device: RESOURCE_EXHAUSTED: : CUDA_ERROR_OUT_OF_MEMORY: out of memory\n",
      "I0000 00:00:1745073113.049708   19738 cuda_executor.cc:479] failed to allocate 501.33GiB (538297368576 bytes) from device: RESOURCE_EXHAUSTED: : CUDA_ERROR_OUT_OF_MEMORY: out of memory\n",
      "I0000 00:00:1745073113.050153   19738 cuda_executor.cc:479] failed to allocate 451.20GiB (484467605504 bytes) from device: RESOURCE_EXHAUSTED: : CUDA_ERROR_OUT_OF_MEMORY: out of memory\n",
      "I0000 00:00:1745073113.050608   19738 cuda_executor.cc:479] failed to allocate 406.08GiB (436020838400 bytes) from device: RESOURCE_EXHAUSTED: : CUDA_ERROR_OUT_OF_MEMORY: out of memory\n",
      "I0000 00:00:1745073113.051000   19738 cuda_executor.cc:479] failed to allocate 365.47GiB (392418754560 bytes) from device: RESOURCE_EXHAUSTED: : CUDA_ERROR_OUT_OF_MEMORY: out of memory\n",
      "I0000 00:00:1745073113.051403   19738 cuda_executor.cc:479] failed to allocate 328.92GiB (353176879104 bytes) from device: RESOURCE_EXHAUSTED: : CUDA_ERROR_OUT_OF_MEMORY: out of memory\n",
      "I0000 00:00:1745073113.051771   19738 cuda_executor.cc:479] failed to allocate 296.03GiB (317859168256 bytes) from device: RESOURCE_EXHAUSTED: : CUDA_ERROR_OUT_OF_MEMORY: out of memory\n",
      "I0000 00:00:1745073113.052116   19738 cuda_executor.cc:479] failed to allocate 266.43GiB (286073257984 bytes) from device: RESOURCE_EXHAUSTED: : CUDA_ERROR_OUT_OF_MEMORY: out of memory\n",
      "I0000 00:00:1745073113.052451   19738 cuda_executor.cc:479] failed to allocate 239.78GiB (257465925632 bytes) from device: RESOURCE_EXHAUSTED: : CUDA_ERROR_OUT_OF_MEMORY: out of memory\n",
      "I0000 00:00:1745073113.052789   19738 cuda_executor.cc:479] failed to allocate 215.80GiB (231719321600 bytes) from device: RESOURCE_EXHAUSTED: : CUDA_ERROR_OUT_OF_MEMORY: out of memory\n",
      "I0000 00:00:1745073113.053138   19738 cuda_executor.cc:479] failed to allocate 194.22GiB (208547381248 bytes) from device: RESOURCE_EXHAUSTED: : CUDA_ERROR_OUT_OF_MEMORY: out of memory\n",
      "I0000 00:00:1745073113.053480   19738 cuda_executor.cc:479] failed to allocate 174.80GiB (187692630016 bytes) from device: RESOURCE_EXHAUSTED: : CUDA_ERROR_OUT_OF_MEMORY: out of memory\n",
      "I0000 00:00:1745073113.053808   19738 cuda_executor.cc:479] failed to allocate 157.32GiB (168923365376 bytes) from device: RESOURCE_EXHAUSTED: : CUDA_ERROR_OUT_OF_MEMORY: out of memory\n",
      "I0000 00:00:1745073113.054111   19738 cuda_executor.cc:479] failed to allocate 141.59GiB (152031019008 bytes) from device: RESOURCE_EXHAUSTED: : CUDA_ERROR_OUT_OF_MEMORY: out of memory\n",
      "I0000 00:00:1745073113.054410   19738 cuda_executor.cc:479] failed to allocate 127.43GiB (136827912192 bytes) from device: RESOURCE_EXHAUSTED: : CUDA_ERROR_OUT_OF_MEMORY: out of memory\n",
      "I0000 00:00:1745073113.054718   19738 cuda_executor.cc:479] failed to allocate 114.69GiB (123145117696 bytes) from device: RESOURCE_EXHAUSTED: : CUDA_ERROR_OUT_OF_MEMORY: out of memory\n",
      "I0000 00:00:1745073113.055002   19738 cuda_executor.cc:479] failed to allocate 103.22GiB (110830600192 bytes) from device: RESOURCE_EXHAUSTED: : CUDA_ERROR_OUT_OF_MEMORY: out of memory\n",
      "I0000 00:00:1745073113.055298   19738 cuda_executor.cc:479] failed to allocate 92.90GiB (99747536896 bytes) from device: RESOURCE_EXHAUSTED: : CUDA_ERROR_OUT_OF_MEMORY: out of memory\n",
      "I0000 00:00:1745073113.055593   19738 cuda_executor.cc:479] failed to allocate 83.61GiB (89772777472 bytes) from device: RESOURCE_EXHAUSTED: : CUDA_ERROR_OUT_OF_MEMORY: out of memory\n",
      "I0000 00:00:1745073113.055884   19738 cuda_executor.cc:479] failed to allocate 75.25GiB (80795500544 bytes) from device: RESOURCE_EXHAUSTED: : CUDA_ERROR_OUT_OF_MEMORY: out of memory\n",
      "I0000 00:00:1745073113.056191   19738 cuda_executor.cc:479] failed to allocate 67.72GiB (72715952128 bytes) from device: RESOURCE_EXHAUSTED: : CUDA_ERROR_OUT_OF_MEMORY: out of memory\n",
      "I0000 00:00:1745073113.056454   19738 cuda_executor.cc:479] failed to allocate 60.95GiB (65444356096 bytes) from device: RESOURCE_EXHAUSTED: : CUDA_ERROR_OUT_OF_MEMORY: out of memory\n",
      "I0000 00:00:1745073113.056735   19738 cuda_executor.cc:479] failed to allocate 54.85GiB (58899918848 bytes) from device: RESOURCE_EXHAUSTED: : CUDA_ERROR_OUT_OF_MEMORY: out of memory\n",
      "I0000 00:00:1745073113.057013   19738 cuda_executor.cc:479] failed to allocate 49.37GiB (53009924096 bytes) from device: RESOURCE_EXHAUSTED: : CUDA_ERROR_OUT_OF_MEMORY: out of memory\n",
      "I0000 00:00:1745073113.057276   19738 cuda_executor.cc:479] failed to allocate 44.43GiB (47708930048 bytes) from device: RESOURCE_EXHAUSTED: : CUDA_ERROR_OUT_OF_MEMORY: out of memory\n",
      "I0000 00:00:1745073113.057529   19738 cuda_executor.cc:479] failed to allocate 39.99GiB (42938036224 bytes) from device: RESOURCE_EXHAUSTED: : CUDA_ERROR_OUT_OF_MEMORY: out of memory\n",
      "I0000 00:00:1745073113.057760   19738 cuda_executor.cc:479] failed to allocate 35.99GiB (38644232192 bytes) from device: RESOURCE_EXHAUSTED: : CUDA_ERROR_OUT_OF_MEMORY: out of memory\n",
      "I0000 00:00:1745073113.057989   19738 cuda_executor.cc:479] failed to allocate 32.39GiB (34779807744 bytes) from device: RESOURCE_EXHAUSTED: : CUDA_ERROR_OUT_OF_MEMORY: out of memory\n",
      "I0000 00:00:1745073113.058244   19738 cuda_executor.cc:479] failed to allocate 29.15GiB (31301826560 bytes) from device: RESOURCE_EXHAUSTED: : CUDA_ERROR_OUT_OF_MEMORY: out of memory\n",
      "I0000 00:00:1745073113.058466   19738 cuda_executor.cc:479] failed to allocate 26.24GiB (28171642880 bytes) from device: RESOURCE_EXHAUSTED: : CUDA_ERROR_OUT_OF_MEMORY: out of memory\n",
      "I0000 00:00:1745073113.058739   19738 cuda_executor.cc:479] failed to allocate 23.61GiB (25354477568 bytes) from device: RESOURCE_EXHAUSTED: : CUDA_ERROR_OUT_OF_MEMORY: out of memory\n"
     ]
    }
   ],
   "source": [
    "# Import Tensorflow Keras\n",
    "from tensorflow.keras.optimizers import Adam\n",
    "from tensorflow.keras.losses import BinaryCrossentropy\n",
    "from tensorflow.keras.callbacks import ReduceLROnPlateau, ModelCheckpoint\n",
    "\n",
    "# Import local modules\n",
    "from src.utils.consts import TF_RECORD_DATASET, MODELS_PATH, TF_BUFFER_SIZE, TF_SHUFFLE_SIZE, TF_BATCH_SIZE, TF_MAX_EPOCHS\n",
    "from src.model.tensorflow_utils import load_dataset, optimize_dataset, count_dataset_size, get_num_classes, get_metrics\n",
    "from src.model.tensorflow_utils import setup_logger, setup_training_logger, setup_metrics_monitor, setup_early_stopping\n",
    "from src.model.tensorflow_utils import start_or_resume_training\n",
    "from src.model.densnet.tensorflow_dense_net_basic import build_densenet\n",
    "\n",
    "# Input Data\n",
    "initial_epoch   = None\n",
    "resume_training = False\n",
    "checkpoint_path = None\n",
    "set_name        = \"SimplifiedDenseNetV1\"\n",
    "model_name      = f\"{set_name}_1\"\n",
    "num_classes     = get_num_classes()\n",
    "\n",
    "train_ds = load_dataset(f\"{TF_RECORD_DATASET}/train.tfrecord\", TF_BUFFER_SIZE)\n",
    "val_ds   = load_dataset(f\"{TF_RECORD_DATASET}/val.tfrecord\", TF_BUFFER_SIZE)"
   ]
  },
  {
   "cell_type": "code",
   "execution_count": 3,
   "id": "5f152b8a-8ff8-4095-9815-e304ce2beb52",
   "metadata": {},
   "outputs": [
    {
     "name": "stderr",
     "output_type": "stream",
     "text": [
      "2025-04-19 16:32:01.778167: I tensorflow/core/kernels/data/tf_record_dataset_op.cc:387] The default buffer size is 262144, which is overridden by the user specified `buffer_size` of 1048576\n",
      "2025-04-19 16:32:34.918944: W tensorflow/core/lib/png/png_io.cc:92] PNG warning: iCCP: profile 'ICC Profile': 'GRAY': Gray color space not permitted on RGB PNG\n",
      "2025-04-19 16:32:38.529645: I tensorflow/core/framework/local_rendezvous.cc:407] Local rendezvous is aborting with status: OUT_OF_RANGE: End of sequence\n",
      "Counting samples: 71842 samples [00:36, 1952.84 samples/s]\n",
      "2025-04-19 16:32:47.068357: I tensorflow/core/framework/local_rendezvous.cc:407] Local rendezvous is aborting with status: OUT_OF_RANGE: End of sequence\n",
      "Counting samples: 15431 samples [00:08, 1807.41 samples/s]\n"
     ]
    }
   ],
   "source": [
    "steps_per_epoch  = int(count_dataset_size(train_ds, None) / TF_BATCH_SIZE)\n",
    "validation_steps = int(count_dataset_size(val_ds, None) / TF_BATCH_SIZE)\n",
    "\n",
    "train_ds = train_ds.shuffle(TF_SHUFFLE_SIZE, reshuffle_each_iteration=True)\n",
    "train_ds = optimize_dataset(train_ds, TF_BATCH_SIZE)\n",
    "val_ds   = optimize_dataset(val_ds, TF_BATCH_SIZE)"
   ]
  },
  {
   "cell_type": "code",
   "execution_count": 4,
   "id": "3a0e37c9-b178-40d8-bd25-8c0a6498564a",
   "metadata": {},
   "outputs": [],
   "source": [
    "# Setup Model Deps\n",
    "logger            = setup_logger()\n",
    "training_logger   = setup_training_logger(logger, TF_BATCH_SIZE, 100)\n",
    "metrics_monitor   = setup_metrics_monitor(MODELS_PATH, model_name, logger, resume_training=resume_training, initial_epoch=initial_epoch)\n",
    "metrics           = get_metrics()\n",
    "\n",
    "# Setup compile arguments\n",
    "loss           = BinaryCrossentropy(from_logits=False)\n",
    "reduce_lr      = ReduceLROnPlateau(monitor=\"val_f1_score\", factor=0.5,  patience=3, min_lr=1e-6, mode=\"max\", verbose=1)\n",
    "early_stopping = setup_early_stopping()\n",
    "\n",
    "epoch_mode           = 'cp-{epoch:04d}'\n",
    "save_checkpoint_path = f\"{MODELS_PATH}/{model_name}/checkpoints/{epoch_mode}.keras\"\n",
    "checkpoint           = ModelCheckpoint(save_checkpoint_path, monitor=\"val_f1_score\", save_best_only=False, mode=\"max\")\n",
    "\n",
    "model_path      = f\"{MODELS_PATH}/{model_name}.keras\"\n",
    "best_checkpoint = ModelCheckpoint(model_path, monitor=\"val_f1_score\", save_best_only=True, mode=\"max\")"
   ]
  },
  {
   "cell_type": "code",
   "execution_count": 5,
   "id": "c44d4a9a-ffbb-4917-a702-c35773b9857c",
   "metadata": {},
   "outputs": [
    {
     "name": "stderr",
     "output_type": "stream",
     "text": [
      "2025-04-19 16:32:47 - INFO - \n",
      "=== Training Started ===\n",
      "\n",
      "2025-04-19 16:32:47 - INFO - Batch Size: 128\n",
      "2025-04-19 16:32:47 - INFO - Optimizer: Adam\n",
      "2025-04-19 16:32:47 - INFO - \n",
      "==================================================\n",
      "\n",
      "2025-04-19 16:32:47 - INFO - \n",
      "=== Starting Epoch 1 ===\n",
      "\n"
     ]
    },
    {
     "name": "stdout",
     "output_type": "stream",
     "text": [
      "Epoch 1/100\n"
     ]
    },
    {
     "name": "stderr",
     "output_type": "stream",
     "text": [
      "WARNING: All log messages before absl::InitializeLog() is called are written to STDERR\n",
      "I0000 00:00:1745073172.512405   19799 service.cc:152] XLA service 0x70f9a40022a0 initialized for platform CUDA (this does not guarantee that XLA will be used). Devices:\n",
      "I0000 00:00:1745073172.512425   19799 service.cc:160]   StreamExecutor device (0): NVIDIA GeForce RTX 3090 Ti, Compute Capability 8.6\n",
      "I0000 00:00:1745073172.515768   19799 cuda_dnn.cc:529] Loaded cuDNN version 90300\n",
      "I0000 00:00:1745073172.556673   19799 device_compiler.h:188] Compiled cluster using XLA!  This line is logged at most once for the lifetime of the process.\n",
      "2025-04-19 16:33:08.720794: I tensorflow/core/kernels/data/shuffle_dataset_op.cc:452] ShuffleDatasetV3:10: Filling up shuffle buffer (this may take a while): 14231 of 25000\n",
      "2025-04-19 16:33:18.058644: I tensorflow/core/kernels/data/shuffle_dataset_op.cc:482] Shuffle buffer filled.\n",
      "2025-04-19 16:33:18.825133: I tensorflow/compiler/mlir/tensorflow/utils/dump_mlir_util.cc:269] disabling MLIR crash reproducer, set env var `MLIR_CRASH_REPRODUCER_DIRECTORY` to enable.\n"
     ]
    },
    {
     "name": "stdout",
     "output_type": "stream",
     "text": [
      "\u001b[1m309/561\u001b[0m \u001b[32m━━━━━━━━━━━\u001b[0m\u001b[37m━━━━━━━━━\u001b[0m \u001b[1m49s\u001b[0m 198ms/step - accuracy: 0.9093 - auc: 0.5597 - f1_score: 0.2375 - loss: 0.8057 - precision: 0.4774 - recall: 0.2282 "
     ]
    },
    {
     "name": "stderr",
     "output_type": "stream",
     "text": [
      "2025-04-19 16:35:21.275816: W tensorflow/core/lib/png/png_io.cc:92] PNG warning: iCCP: profile 'ICC Profile': 'GRAY': Gray color space not permitted on RGB PNG\n"
     ]
    },
    {
     "name": "stdout",
     "output_type": "stream",
     "text": [
      "\u001b[1m561/561\u001b[0m \u001b[32m━━━━━━━━━━━━━━━━━━━━\u001b[0m\u001b[37m\u001b[0m \u001b[1m0s\u001b[0m 200ms/step - accuracy: 0.9135 - auc: 0.5787 - f1_score: 0.2425 - loss: 0.7782 - precision: 0.5152 - recall: 0.2328 "
     ]
    },
    {
     "name": "stderr",
     "output_type": "stream",
     "text": [
      "2025-04-19 16:36:13.287652: W external/local_xla/xla/stream_executor/integrations/stream_executor_allocator.cc:50] could not allocate pinned host memory of size: 268435456\n",
      "2025-04-19 16:36:13.364029: W external/local_xla/xla/stream_executor/integrations/stream_executor_allocator.cc:50] could not allocate pinned host memory of size: 241592064\n",
      "2025-04-19 16:36:14.207490: I external/local_xla/xla/stream_executor/cuda/subprocess_compilation.cc:346] ptxas warning : Registers are spilled to local memory in function 'gemm_fusion_dot_2036', 76 bytes spill stores, 76 bytes spill loads\n",
      "\n",
      "2025-04-19 16:36:14.316904: I external/local_xla/xla/stream_executor/cuda/subprocess_compilation.cc:346] ptxas warning : Registers are spilled to local memory in function 'gemm_fusion_dot_2036_0', 188 bytes spill stores, 316 bytes spill loads\n",
      "\n",
      "2025-04-19 16:36:14.343674: I external/local_xla/xla/stream_executor/cuda/subprocess_compilation.cc:346] ptxas warning : Registers are spilled to local memory in function 'gemm_fusion_dot_2036', 212 bytes spill stores, 212 bytes spill loads\n",
      "\n",
      "2025-04-19 16:36:14.411103: I external/local_xla/xla/stream_executor/cuda/subprocess_compilation.cc:346] ptxas warning : Registers are spilled to local memory in function 'gemm_fusion_dot_2036', 3980 bytes spill stores, 3960 bytes spill loads\n",
      "\n",
      "2025-04-19 16:36:14.513114: I external/local_xla/xla/stream_executor/cuda/subprocess_compilation.cc:346] ptxas warning : Registers are spilled to local memory in function 'gemm_fusion_dot_2036', 3748 bytes spill stores, 3744 bytes spill loads\n",
      "\n",
      "2025-04-19 16:36:37 - INFO - \n",
      "=== Epoch 1 Summary ===\n",
      "2025-04-19 16:36:37 - INFO - Time: 229.86s\n",
      "2025-04-19 16:36:37 - INFO - Training   - accuracy: 0.9197 - auc: 0.6106 - f1_score: 0.2528 - loss: 0.7248 - precision: 0.5739 - recall: 0.2431 - learning_rate: 0.0001\n",
      "2025-04-19 16:36:37 - INFO - Validation - accuracy: 0.9230 - auc: 0.6739 - f1_score: 0.2281 - loss: 0.6379 - precision: 0.6754 - recall: 0.1842\n",
      "2025-04-19 16:36:37 - INFO - ==================================================\n",
      "\n"
     ]
    },
    {
     "name": "stdout",
     "output_type": "stream",
     "text": [
      "\u001b[1m561/561\u001b[0m \u001b[32m━━━━━━━━━━━━━━━━━━━━\u001b[0m\u001b[37m\u001b[0m \u001b[1m230s\u001b[0m 245ms/step - accuracy: 0.9135 - auc: 0.5788 - f1_score: 0.2425 - loss: 0.7781 - precision: 0.5153 - recall: 0.2328 - val_accuracy: 0.9230 - val_auc: 0.6739 - val_f1_score: 0.2281 - val_loss: 0.6379 - val_precision: 0.6754 - val_recall: 0.1842 - learning_rate: 1.0000e-04\n"
     ]
    },
    {
     "name": "stderr",
     "output_type": "stream",
     "text": [
      "2025-04-19 16:36:37 - INFO - \n",
      "=== Starting Epoch 2 ===\n",
      "\n"
     ]
    },
    {
     "name": "stdout",
     "output_type": "stream",
     "text": [
      "Epoch 2/100\n"
     ]
    },
    {
     "name": "stderr",
     "output_type": "stream",
     "text": [
      "2025-04-19 16:36:47.699514: I tensorflow/core/kernels/data/shuffle_dataset_op.cc:452] ShuffleDatasetV3:10: Filling up shuffle buffer (this may take a while): 5287 of 25000\n",
      "2025-04-19 16:36:57.709362: I tensorflow/core/kernels/data/shuffle_dataset_op.cc:452] ShuffleDatasetV3:10: Filling up shuffle buffer (this may take a while): 12263 of 25000\n",
      "2025-04-19 16:37:14.329070: I tensorflow/core/kernels/data/shuffle_dataset_op.cc:482] Shuffle buffer filled.\n",
      "2025-04-19 16:37:25.219830: I external/local_xla/xla/stream_executor/cuda/subprocess_compilation.cc:346] ptxas warning : Registers are spilled to local memory in function 'input_reduce_transpose_fusion_58', 172 bytes spill stores, 156 bytes spill loads\n",
      "\n"
     ]
    },
    {
     "name": "stdout",
     "output_type": "stream",
     "text": [
      "\u001b[1m311/561\u001b[0m \u001b[32m━━━━━━━━━━━\u001b[0m\u001b[37m━━━━━━━━━\u001b[0m \u001b[1m49s\u001b[0m 196ms/step - accuracy: 0.9226 - auc: 0.6465 - f1_score: 0.2627 - loss: 0.6248 - precision: 0.6184 - recall: 0.2490 "
     ]
    },
    {
     "name": "stderr",
     "output_type": "stream",
     "text": [
      "2025-04-19 16:38:26.167893: W tensorflow/core/lib/png/png_io.cc:92] PNG warning: iCCP: profile 'ICC Profile': 'GRAY': Gray color space not permitted on RGB PNG\n"
     ]
    },
    {
     "name": "stdout",
     "output_type": "stream",
     "text": [
      "\u001b[1m561/561\u001b[0m \u001b[32m━━━━━━━━━━━━━━━━━━━━\u001b[0m\u001b[37m\u001b[0m \u001b[1m0s\u001b[0m 197ms/step - accuracy: 0.9229 - auc: 0.6498 - f1_score: 0.2657 - loss: 0.6108 - precision: 0.6215 - recall: 0.2531 "
     ]
    },
    {
     "name": "stderr",
     "output_type": "stream",
     "text": [
      "2025-04-19 16:39:30 - INFO - \n",
      "=== Epoch 2 Summary ===\n",
      "2025-04-19 16:39:30 - INFO - Time: 173.12s\n",
      "2025-04-19 16:39:30 - INFO - Training   - accuracy: 0.9234 - auc: 0.6554 - f1_score: 0.2710 - loss: 0.5806 - precision: 0.6268 - recall: 0.2599 - learning_rate: 0.0001\n",
      "2025-04-19 16:39:30 - INFO - Validation - accuracy: 0.9232 - auc: 0.6782 - f1_score: 0.2729 - loss: 0.5307 - precision: 0.5862 - recall: 0.3344\n",
      "2025-04-19 16:39:30 - INFO - ==================================================\n",
      "\n"
     ]
    },
    {
     "name": "stdout",
     "output_type": "stream",
     "text": [
      "\u001b[1m561/561\u001b[0m \u001b[32m━━━━━━━━━━━━━━━━━━━━\u001b[0m\u001b[37m\u001b[0m \u001b[1m173s\u001b[0m 224ms/step - accuracy: 0.9229 - auc: 0.6498 - f1_score: 0.2657 - loss: 0.6107 - precision: 0.6215 - recall: 0.2531 - val_accuracy: 0.9232 - val_auc: 0.6782 - val_f1_score: 0.2729 - val_loss: 0.5307 - val_precision: 0.5862 - val_recall: 0.3344 - learning_rate: 1.0000e-04\n"
     ]
    },
    {
     "name": "stderr",
     "output_type": "stream",
     "text": [
      "2025-04-19 16:39:30 - INFO - \n",
      "=== Starting Epoch 3 ===\n",
      "\n"
     ]
    },
    {
     "name": "stdout",
     "output_type": "stream",
     "text": [
      "Epoch 3/100\n",
      "\u001b[1m  2/561\u001b[0m \u001b[37m━━━━━━━━━━━━━━━━━━━━\u001b[0m \u001b[1m38s\u001b[0m 69ms/step - accuracy: 0.9300 - auc: 0.7437 - f1_score: 0.3586 - loss: 0.5055 - precision: 0.6574 - recall: 0.3700  "
     ]
    },
    {
     "name": "stderr",
     "output_type": "stream",
     "text": [
      "2025-04-19 16:39:41.066303: I tensorflow/core/kernels/data/shuffle_dataset_op.cc:452] ShuffleDatasetV3:10: Filling up shuffle buffer (this may take a while): 8939 of 25000\n",
      "2025-04-19 16:39:59.240662: I tensorflow/core/kernels/data/shuffle_dataset_op.cc:482] Shuffle buffer filled.\n"
     ]
    },
    {
     "name": "stdout",
     "output_type": "stream",
     "text": [
      "\u001b[1m308/561\u001b[0m \u001b[32m━━━━━━━━━━\u001b[0m\u001b[37m━━━━━━━━━━\u001b[0m \u001b[1m1:13\u001b[0m 289ms/step - accuracy: 0.9239 - auc: 0.6716 - f1_score: 0.2787 - loss: 0.5123 - precision: 0.6339 - recall: 0.2676"
     ]
    },
    {
     "name": "stderr",
     "output_type": "stream",
     "text": [
      "2025-04-19 16:40:59.804492: W tensorflow/core/lib/png/png_io.cc:92] PNG warning: iCCP: profile 'ICC Profile': 'GRAY': Gray color space not permitted on RGB PNG\n"
     ]
    },
    {
     "name": "stdout",
     "output_type": "stream",
     "text": [
      "\u001b[1m561/561\u001b[0m \u001b[32m━━━━━━━━━━━━━━━━━━━━\u001b[0m\u001b[37m\u001b[0m \u001b[1m0s\u001b[0m 249ms/step - accuracy: 0.9243 - auc: 0.6748 - f1_score: 0.2801 - loss: 0.5025 - precision: 0.6377 - recall: 0.2686  "
     ]
    },
    {
     "name": "stderr",
     "output_type": "stream",
     "text": [
      "2025-04-19 16:42:05 - INFO - \n",
      "=== Epoch 3 Summary ===\n",
      "2025-04-19 16:42:05 - INFO - Time: 154.52s\n",
      "2025-04-19 16:42:05 - INFO - Training   - accuracy: 0.9248 - auc: 0.6806 - f1_score: 0.2826 - loss: 0.4818 - precision: 0.6441 - recall: 0.2705 - learning_rate: 0.0001\n",
      "2025-04-19 16:42:05 - INFO - Validation - accuracy: 0.9254 - auc: 0.6976 - f1_score: 0.2711 - loss: 0.4440 - precision: 0.6317 - recall: 0.2968\n",
      "2025-04-19 16:42:05 - INFO - ==================================================\n",
      "\n"
     ]
    },
    {
     "name": "stdout",
     "output_type": "stream",
     "text": [
      "\u001b[1m561/561\u001b[0m \u001b[32m━━━━━━━━━━━━━━━━━━━━\u001b[0m\u001b[37m\u001b[0m \u001b[1m155s\u001b[0m 276ms/step - accuracy: 0.9243 - auc: 0.6748 - f1_score: 0.2801 - loss: 0.5024 - precision: 0.6377 - recall: 0.2686 - val_accuracy: 0.9254 - val_auc: 0.6976 - val_f1_score: 0.2711 - val_loss: 0.4440 - val_precision: 0.6317 - val_recall: 0.2968 - learning_rate: 1.0000e-04\n"
     ]
    },
    {
     "name": "stderr",
     "output_type": "stream",
     "text": [
      "2025-04-19 16:42:05 - INFO - \n",
      "=== Starting Epoch 4 ===\n",
      "\n"
     ]
    },
    {
     "name": "stdout",
     "output_type": "stream",
     "text": [
      "Epoch 4/100\n",
      "\u001b[1m  3/561\u001b[0m \u001b[37m━━━━━━━━━━━━━━━━━━━━\u001b[0m \u001b[1m1:14\u001b[0m 134ms/step - accuracy: 0.9278 - auc: 0.7040 - f1_score: 0.3341 - loss: 0.4304 - precision: 0.6739 - recall: 0.3298"
     ]
    },
    {
     "name": "stderr",
     "output_type": "stream",
     "text": [
      "2025-04-19 16:42:15.589682: I tensorflow/core/kernels/data/shuffle_dataset_op.cc:452] ShuffleDatasetV3:10: Filling up shuffle buffer (this may take a while): 6344 of 25000\n",
      "2025-04-19 16:42:35.588604: I tensorflow/core/kernels/data/shuffle_dataset_op.cc:452] ShuffleDatasetV3:10: Filling up shuffle buffer (this may take a while): 24974 of 25000\n",
      "2025-04-19 16:42:35.600641: I tensorflow/core/kernels/data/shuffle_dataset_op.cc:482] Shuffle buffer filled.\n"
     ]
    },
    {
     "name": "stdout",
     "output_type": "stream",
     "text": [
      "\u001b[1m309/561\u001b[0m \u001b[32m━━━━━━━━━━━\u001b[0m\u001b[37m━━━━━━━━━\u001b[0m \u001b[1m1:14\u001b[0m 295ms/step - accuracy: 0.9251 - auc: 0.6895 - f1_score: 0.2864 - loss: 0.4359 - precision: 0.6457 - recall: 0.2764"
     ]
    },
    {
     "name": "stderr",
     "output_type": "stream",
     "text": [
      "2025-04-19 16:43:36.381261: W tensorflow/core/lib/png/png_io.cc:92] PNG warning: iCCP: profile 'ICC Profile': 'GRAY': Gray color space not permitted on RGB PNG\n"
     ]
    },
    {
     "name": "stdout",
     "output_type": "stream",
     "text": [
      "\u001b[1m561/561\u001b[0m \u001b[32m━━━━━━━━━━━━━━━━━━━━\u001b[0m\u001b[37m\u001b[0m \u001b[1m0s\u001b[0m 252ms/step - accuracy: 0.9251 - auc: 0.6926 - f1_score: 0.2877 - loss: 0.4291 - precision: 0.6483 - recall: 0.2764  "
     ]
    },
    {
     "name": "stderr",
     "output_type": "stream",
     "text": [
      "2025-04-19 16:44:41 - INFO - \n",
      "=== Epoch 4 Summary ===\n",
      "2025-04-19 16:44:41 - INFO - Time: 155.88s\n",
      "2025-04-19 16:44:41 - INFO - Training   - accuracy: 0.9255 - auc: 0.6987 - f1_score: 0.2906 - loss: 0.4141 - precision: 0.6528 - recall: 0.2780 - learning_rate: 0.0001\n",
      "2025-04-19 16:44:41 - INFO - Validation - accuracy: 0.9197 - auc: 0.7227 - f1_score: 0.1283 - loss: 0.3937 - precision: 0.7902 - recall: 0.0781\n",
      "2025-04-19 16:44:41 - INFO - ==================================================\n",
      "\n"
     ]
    },
    {
     "name": "stdout",
     "output_type": "stream",
     "text": [
      "\u001b[1m561/561\u001b[0m \u001b[32m━━━━━━━━━━━━━━━━━━━━\u001b[0m\u001b[37m\u001b[0m \u001b[1m156s\u001b[0m 278ms/step - accuracy: 0.9251 - auc: 0.6927 - f1_score: 0.2877 - loss: 0.4291 - precision: 0.6483 - recall: 0.2764 - val_accuracy: 0.9197 - val_auc: 0.7227 - val_f1_score: 0.1283 - val_loss: 0.3937 - val_precision: 0.7902 - val_recall: 0.0781 - learning_rate: 1.0000e-04\n"
     ]
    },
    {
     "name": "stderr",
     "output_type": "stream",
     "text": [
      "2025-04-19 16:44:41 - INFO - \n",
      "=== Starting Epoch 5 ===\n",
      "\n"
     ]
    },
    {
     "name": "stdout",
     "output_type": "stream",
     "text": [
      "Epoch 5/100\n",
      "\u001b[1m  4/561\u001b[0m \u001b[37m━━━━━━━━━━━━━━━━━━━━\u001b[0m \u001b[1m3:09\u001b[0m 340ms/step - accuracy: 0.9229 - auc: 0.6855 - f1_score: 0.2669 - loss: 0.3961 - precision: 0.6874 - recall: 0.2463"
     ]
    },
    {
     "name": "stderr",
     "output_type": "stream",
     "text": [
      "2025-04-19 16:44:51.279718: I tensorflow/core/kernels/data/shuffle_dataset_op.cc:452] ShuffleDatasetV3:10: Filling up shuffle buffer (this may take a while): 9492 of 25000\n",
      "2025-04-19 16:45:01.280679: I tensorflow/core/kernels/data/shuffle_dataset_op.cc:452] ShuffleDatasetV3:10: Filling up shuffle buffer (this may take a while): 18765 of 25000\n",
      "2025-04-19 16:45:08.074741: I tensorflow/core/kernels/data/shuffle_dataset_op.cc:482] Shuffle buffer filled.\n"
     ]
    },
    {
     "name": "stdout",
     "output_type": "stream",
     "text": [
      "\u001b[1m306/561\u001b[0m \u001b[32m━━━━━━━━━━\u001b[0m\u001b[37m━━━━━━━━━━\u001b[0m \u001b[1m1:12\u001b[0m 283ms/step - accuracy: 0.9258 - auc: 0.7016 - f1_score: 0.2981 - loss: 0.3818 - precision: 0.6583 - recall: 0.2845"
     ]
    },
    {
     "name": "stderr",
     "output_type": "stream",
     "text": [
      "2025-04-19 16:46:07.607044: W tensorflow/core/lib/png/png_io.cc:92] PNG warning: iCCP: profile 'ICC Profile': 'GRAY': Gray color space not permitted on RGB PNG\n"
     ]
    },
    {
     "name": "stdout",
     "output_type": "stream",
     "text": [
      "\u001b[1m561/561\u001b[0m \u001b[32m━━━━━━━━━━━━━━━━━━━━\u001b[0m\u001b[37m\u001b[0m \u001b[1m0s\u001b[0m 244ms/step - accuracy: 0.9260 - auc: 0.7047 - f1_score: 0.2983 - loss: 0.3764 - precision: 0.6585 - recall: 0.2848  "
     ]
    },
    {
     "name": "stderr",
     "output_type": "stream",
     "text": [
      "2025-04-19 16:47:07.686875: I tensorflow/core/kernels/data/shuffle_dataset_op.cc:452] ShuffleDatasetV3:10: Filling up shuffle buffer (this may take a while): 9150 of 25000\n",
      "2025-04-19 16:47:25.224119: I tensorflow/core/kernels/data/shuffle_dataset_op.cc:482] Shuffle buffer filled.\n",
      "2025-04-19 16:49:15 - INFO - \n",
      "=== Epoch 5 Summary ===\n",
      "2025-04-19 16:49:15 - INFO - Time: 274.04s\n",
      "2025-04-19 16:49:15 - INFO - Training   - accuracy: 0.9262 - auc: 0.7117 - f1_score: 0.2985 - loss: 0.3650 - precision: 0.6596 - recall: 0.2849 - learning_rate: 0.0001\n",
      "2025-04-19 16:49:15 - INFO - Validation - accuracy: 0.9267 - auc: 0.7318 - f1_score: 0.2846 - loss: 0.3438 - precision: 0.6456 - recall: 0.3089\n",
      "2025-04-19 16:49:15 - INFO - ==================================================\n",
      "\n"
     ]
    },
    {
     "name": "stdout",
     "output_type": "stream",
     "text": [
      "\u001b[1m561/561\u001b[0m \u001b[32m━━━━━━━━━━━━━━━━━━━━\u001b[0m\u001b[37m\u001b[0m \u001b[1m274s\u001b[0m 489ms/step - accuracy: 0.9260 - auc: 0.7047 - f1_score: 0.2983 - loss: 0.3764 - precision: 0.6585 - recall: 0.2848 - val_accuracy: 0.9267 - val_auc: 0.7318 - val_f1_score: 0.2846 - val_loss: 0.3438 - val_precision: 0.6456 - val_recall: 0.3089 - learning_rate: 1.0000e-04\n"
     ]
    },
    {
     "name": "stderr",
     "output_type": "stream",
     "text": [
      "2025-04-19 16:49:15 - INFO - \n",
      "=== Starting Epoch 6 ===\n",
      "\n"
     ]
    },
    {
     "name": "stdout",
     "output_type": "stream",
     "text": [
      "Epoch 6/100\n",
      "\u001b[1m307/561\u001b[0m \u001b[32m━━━━━━━━━━\u001b[0m\u001b[37m━━━━━━━━━━\u001b[0m \u001b[1m49s\u001b[0m 196ms/step - accuracy: 0.9266 - auc: 0.7221 - f1_score: 0.3053 - loss: 0.3407 - precision: 0.6667 - recall: 0.2901 "
     ]
    },
    {
     "name": "stderr",
     "output_type": "stream",
     "text": [
      "2025-04-19 16:50:15.288477: W tensorflow/core/lib/png/png_io.cc:92] PNG warning: iCCP: profile 'ICC Profile': 'GRAY': Gray color space not permitted on RGB PNG\n"
     ]
    },
    {
     "name": "stdout",
     "output_type": "stream",
     "text": [
      "\u001b[1m561/561\u001b[0m \u001b[32m━━━━━━━━━━━━━━━━━━━━\u001b[0m\u001b[37m\u001b[0m \u001b[1m0s\u001b[0m 197ms/step - accuracy: 0.9266 - auc: 0.7208 - f1_score: 0.3050 - loss: 0.3370 - precision: 0.6661 - recall: 0.2899 "
     ]
    },
    {
     "name": "stderr",
     "output_type": "stream",
     "text": [
      "2025-04-19 16:51:15.302046: I tensorflow/core/kernels/data/shuffle_dataset_op.cc:452] ShuffleDatasetV3:10: Filling up shuffle buffer (this may take a while): 4925 of 25000\n",
      "2025-04-19 16:51:35.288805: I tensorflow/core/kernels/data/shuffle_dataset_op.cc:452] ShuffleDatasetV3:10: Filling up shuffle buffer (this may take a while): 15831 of 25000\n",
      "2025-04-19 16:51:36 - INFO - \n",
      "=== Epoch 6 Summary ===\n",
      "2025-04-19 16:51:36 - INFO - Time: 140.88s\n",
      "2025-04-19 16:51:36 - INFO - Training   - accuracy: 0.9267 - auc: 0.7197 - f1_score: 0.3048 - loss: 0.3291 - precision: 0.6657 - recall: 0.2897 - learning_rate: 0.0001\n",
      "2025-04-19 16:51:36 - INFO - Validation - accuracy: 0.9237 - auc: 0.7199 - f1_score: 0.2899 - loss: 0.3250 - precision: 0.6188 - recall: 0.2696\n",
      "2025-04-19 16:51:36 - INFO - ==================================================\n",
      "\n"
     ]
    },
    {
     "name": "stdout",
     "output_type": "stream",
     "text": [
      "\u001b[1m561/561\u001b[0m \u001b[32m━━━━━━━━━━━━━━━━━━━━\u001b[0m\u001b[37m\u001b[0m \u001b[1m141s\u001b[0m 252ms/step - accuracy: 0.9266 - auc: 0.7208 - f1_score: 0.3050 - loss: 0.3370 - precision: 0.6661 - recall: 0.2899 - val_accuracy: 0.9237 - val_auc: 0.7199 - val_f1_score: 0.2899 - val_loss: 0.3250 - val_precision: 0.6188 - val_recall: 0.2696 - learning_rate: 1.0000e-04\n"
     ]
    },
    {
     "name": "stderr",
     "output_type": "stream",
     "text": [
      "2025-04-19 16:51:36 - INFO - \n",
      "=== Starting Epoch 7 ===\n",
      "\n"
     ]
    },
    {
     "name": "stdout",
     "output_type": "stream",
     "text": [
      "Epoch 7/100\n",
      "\u001b[1m  6/561\u001b[0m \u001b[37m━━━━━━━━━━━━━━━━━━━━\u001b[0m \u001b[1m1:41\u001b[0m 182ms/step - accuracy: 0.9299 - auc: 0.6966 - f1_score: 0.3189 - loss: 0.3028 - precision: 0.7372 - recall: 0.2951"
     ]
    },
    {
     "name": "stderr",
     "output_type": "stream",
     "text": [
      "2025-04-19 16:51:44.771612: I tensorflow/core/kernels/data/shuffle_dataset_op.cc:482] Shuffle buffer filled.\n"
     ]
    },
    {
     "name": "stdout",
     "output_type": "stream",
     "text": [
      "\u001b[1m298/561\u001b[0m \u001b[32m━━━━━━━━━━\u001b[0m\u001b[37m━━━━━━━━━━\u001b[0m \u001b[1m58s\u001b[0m 223ms/step - accuracy: 0.9270 - auc: 0.7299 - f1_score: 0.3101 - loss: 0.3101 - precision: 0.6696 - recall: 0.2935 "
     ]
    },
    {
     "name": "stderr",
     "output_type": "stream",
     "text": [
      "2025-04-19 16:52:42.820007: W tensorflow/core/lib/png/png_io.cc:92] PNG warning: iCCP: profile 'ICC Profile': 'GRAY': Gray color space not permitted on RGB PNG\n"
     ]
    },
    {
     "name": "stdout",
     "output_type": "stream",
     "text": [
      "\u001b[1m561/561\u001b[0m \u001b[32m━━━━━━━━━━━━━━━━━━━━\u001b[0m\u001b[37m\u001b[0m \u001b[1m0s\u001b[0m 211ms/step - accuracy: 0.9270 - auc: 0.7284 - f1_score: 0.3098 - loss: 0.3078 - precision: 0.6677 - recall: 0.2935 "
     ]
    },
    {
     "name": "stderr",
     "output_type": "stream",
     "text": [
      "2025-04-19 16:53:43.384124: I tensorflow/core/kernels/data/shuffle_dataset_op.cc:452] ShuffleDatasetV3:10: Filling up shuffle buffer (this may take a while): 5469 of 25000\n",
      "2025-04-19 16:53:53.405569: I tensorflow/core/kernels/data/shuffle_dataset_op.cc:452] ShuffleDatasetV3:10: Filling up shuffle buffer (this may take a while): 10019 of 25000\n",
      "2025-04-19 16:54:01 - INFO - \n",
      "=== Epoch 7 Summary ===\n",
      "2025-04-19 16:54:01 - INFO - Time: 145.29s\n",
      "2025-04-19 16:54:01 - INFO - Training   - accuracy: 0.9269 - auc: 0.7284 - f1_score: 0.3101 - loss: 0.3024 - precision: 0.6667 - recall: 0.2936 - learning_rate: 0.0001\n",
      "2025-04-19 16:54:01 - INFO - Validation - accuracy: 0.9248 - auc: 0.7327 - f1_score: 0.2745 - loss: 0.2986 - precision: 0.6905 - recall: 0.2123\n",
      "2025-04-19 16:54:01 - INFO - ==================================================\n",
      "\n"
     ]
    },
    {
     "name": "stdout",
     "output_type": "stream",
     "text": [
      "\u001b[1m561/561\u001b[0m \u001b[32m━━━━━━━━━━━━━━━━━━━━\u001b[0m\u001b[37m\u001b[0m \u001b[1m145s\u001b[0m 259ms/step - accuracy: 0.9270 - auc: 0.7284 - f1_score: 0.3098 - loss: 0.3077 - precision: 0.6677 - recall: 0.2935 - val_accuracy: 0.9248 - val_auc: 0.7327 - val_f1_score: 0.2745 - val_loss: 0.2986 - val_precision: 0.6905 - val_recall: 0.2123 - learning_rate: 1.0000e-04\n"
     ]
    },
    {
     "name": "stderr",
     "output_type": "stream",
     "text": [
      "2025-04-19 16:54:01 - INFO - \n",
      "=== Starting Epoch 8 ===\n",
      "\n"
     ]
    },
    {
     "name": "stdout",
     "output_type": "stream",
     "text": [
      "Epoch 8/100\n",
      "\u001b[1m  7/561\u001b[0m \u001b[37m━━━━━━━━━━━━━━━━━━━━\u001b[0m \u001b[1m1:40\u001b[0m 182ms/step - accuracy: 0.9347 - auc: 0.6942 - f1_score: 0.3855 - loss: 0.2731 - precision: 0.6980 - recall: 0.3745"
     ]
    },
    {
     "name": "stderr",
     "output_type": "stream",
     "text": [
      "2025-04-19 16:54:13.379035: I tensorflow/core/kernels/data/shuffle_dataset_op.cc:452] ShuffleDatasetV3:10: Filling up shuffle buffer (this may take a while): 24090 of 25000\n",
      "2025-04-19 16:54:14.398991: I tensorflow/core/kernels/data/shuffle_dataset_op.cc:482] Shuffle buffer filled.\n"
     ]
    },
    {
     "name": "stdout",
     "output_type": "stream",
     "text": [
      "\u001b[1m301/561\u001b[0m \u001b[32m━━━━━━━━━━\u001b[0m\u001b[37m━━━━━━━━━━\u001b[0m \u001b[1m1:01\u001b[0m 237ms/step - accuracy: 0.9272 - auc: 0.7275 - f1_score: 0.3187 - loss: 0.2885 - precision: 0.6692 - recall: 0.3019"
     ]
    },
    {
     "name": "stderr",
     "output_type": "stream",
     "text": [
      "2025-04-19 16:55:13.151084: W tensorflow/core/lib/png/png_io.cc:92] PNG warning: iCCP: profile 'ICC Profile': 'GRAY': Gray color space not permitted on RGB PNG\n"
     ]
    },
    {
     "name": "stdout",
     "output_type": "stream",
     "text": [
      "\u001b[1m561/561\u001b[0m \u001b[32m━━━━━━━━━━━━━━━━━━━━\u001b[0m\u001b[37m\u001b[0m \u001b[1m0s\u001b[0m 220ms/step - accuracy: 0.9273 - auc: 0.7294 - f1_score: 0.3171 - loss: 0.2866 - precision: 0.6692 - recall: 0.3000  "
     ]
    },
    {
     "name": "stderr",
     "output_type": "stream",
     "text": [
      "2025-04-19 16:56:13.566293: I tensorflow/core/kernels/data/shuffle_dataset_op.cc:452] ShuffleDatasetV3:10: Filling up shuffle buffer (this may take a while): 5270 of 25000\n",
      "2025-04-19 16:56:23.568668: I tensorflow/core/kernels/data/shuffle_dataset_op.cc:452] ShuffleDatasetV3:10: Filling up shuffle buffer (this may take a while): 9985 of 25000\n",
      "2025-04-19 16:56:36 - INFO - \n",
      "=== Epoch 8 Summary ===\n",
      "2025-04-19 16:56:36 - INFO - Time: 154.23s\n",
      "2025-04-19 16:56:36 - INFO - Training   - accuracy: 0.9273 - auc: 0.7333 - f1_score: 0.3152 - loss: 0.2825 - precision: 0.6692 - recall: 0.2975 - learning_rate: 0.0001\n",
      "2025-04-19 16:56:36 - INFO - Validation - accuracy: 0.9267 - auc: 0.7286 - f1_score: 0.2676 - loss: 0.2788 - precision: 0.7141 - recall: 0.2316\n",
      "2025-04-19 16:56:36 - INFO - ==================================================\n",
      "\n"
     ]
    },
    {
     "name": "stdout",
     "output_type": "stream",
     "text": [
      "\u001b[1m561/561\u001b[0m \u001b[32m━━━━━━━━━━━━━━━━━━━━\u001b[0m\u001b[37m\u001b[0m \u001b[1m154s\u001b[0m 275ms/step - accuracy: 0.9273 - auc: 0.7294 - f1_score: 0.3171 - loss: 0.2866 - precision: 0.6692 - recall: 0.3000 - val_accuracy: 0.9267 - val_auc: 0.7286 - val_f1_score: 0.2676 - val_loss: 0.2788 - val_precision: 0.7141 - val_recall: 0.2316 - learning_rate: 1.0000e-04\n"
     ]
    },
    {
     "name": "stderr",
     "output_type": "stream",
     "text": [
      "2025-04-19 16:56:36 - INFO - \n",
      "=== Starting Epoch 9 ===\n",
      "\n"
     ]
    },
    {
     "name": "stdout",
     "output_type": "stream",
     "text": [
      "Epoch 9/100\n",
      "\u001b[1m  8/561\u001b[0m \u001b[37m━━━━━━━━━━━━━━━━━━━━\u001b[0m \u001b[1m1:48\u001b[0m 195ms/step - accuracy: 0.9307 - auc: 0.7247 - f1_score: 0.3500 - loss: 0.2678 - precision: 0.7160 - recall: 0.3290"
     ]
    },
    {
     "name": "stderr",
     "output_type": "stream",
     "text": [
      "2025-04-19 16:56:43.563877: I tensorflow/core/kernels/data/shuffle_dataset_op.cc:452] ShuffleDatasetV3:10: Filling up shuffle buffer (this may take a while): 24518 of 25000\n",
      "2025-04-19 16:56:44.056296: I tensorflow/core/kernels/data/shuffle_dataset_op.cc:482] Shuffle buffer filled.\n"
     ]
    },
    {
     "name": "stdout",
     "output_type": "stream",
     "text": [
      "\u001b[1m302/561\u001b[0m \u001b[32m━━━━━━━━━━\u001b[0m\u001b[37m━━━━━━━━━━\u001b[0m \u001b[1m56s\u001b[0m 220ms/step - accuracy: 0.9272 - auc: 0.7380 - f1_score: 0.3162 - loss: 0.2731 - precision: 0.6706 - recall: 0.2987 "
     ]
    },
    {
     "name": "stderr",
     "output_type": "stream",
     "text": [
      "2025-04-19 16:57:42.489348: W tensorflow/core/lib/png/png_io.cc:92] PNG warning: iCCP: profile 'ICC Profile': 'GRAY': Gray color space not permitted on RGB PNG\n"
     ]
    },
    {
     "name": "stdout",
     "output_type": "stream",
     "text": [
      "\u001b[1m561/561\u001b[0m \u001b[32m━━━━━━━━━━━━━━━━━━━━\u001b[0m\u001b[37m\u001b[0m \u001b[1m0s\u001b[0m 210ms/step - accuracy: 0.9275 - auc: 0.7393 - f1_score: 0.3176 - loss: 0.2711 - precision: 0.6725 - recall: 0.3002 "
     ]
    },
    {
     "name": "stderr",
     "output_type": "stream",
     "text": [
      "2025-04-19 16:58:42.703540: I tensorflow/core/kernels/data/shuffle_dataset_op.cc:452] ShuffleDatasetV3:10: Filling up shuffle buffer (this may take a while): 5230 of 25000\n",
      "2025-04-19 16:58:52.707693: I tensorflow/core/kernels/data/shuffle_dataset_op.cc:452] ShuffleDatasetV3:10: Filling up shuffle buffer (this may take a while): 9689 of 25000\n"
     ]
    },
    {
     "name": "stdout",
     "output_type": "stream",
     "text": [
      "\n",
      "Epoch 9: ReduceLROnPlateau reducing learning rate to 4.999999873689376e-05.\n"
     ]
    },
    {
     "name": "stderr",
     "output_type": "stream",
     "text": [
      "2025-04-19 16:59:01 - INFO - \n",
      "=== Epoch 9 Summary ===\n",
      "2025-04-19 16:59:01 - INFO - Time: 145.58s\n",
      "2025-04-19 16:59:01 - INFO - Training   - accuracy: 0.9278 - auc: 0.7399 - f1_score: 0.3195 - loss: 0.2676 - precision: 0.6739 - recall: 0.3024 - learning_rate: 0.0001\n",
      "2025-04-19 16:59:01 - INFO - Validation - accuracy: 0.9219 - auc: 0.7275 - f1_score: 0.2121 - loss: 0.2752 - precision: 0.6928 - recall: 0.1498\n",
      "2025-04-19 16:59:01 - INFO - ==================================================\n",
      "\n"
     ]
    },
    {
     "name": "stdout",
     "output_type": "stream",
     "text": [
      "\u001b[1m561/561\u001b[0m \u001b[32m━━━━━━━━━━━━━━━━━━━━\u001b[0m\u001b[37m\u001b[0m \u001b[1m146s\u001b[0m 260ms/step - accuracy: 0.9275 - auc: 0.7393 - f1_score: 0.3176 - loss: 0.2711 - precision: 0.6725 - recall: 0.3003 - val_accuracy: 0.9219 - val_auc: 0.7275 - val_f1_score: 0.2121 - val_loss: 0.2752 - val_precision: 0.6928 - val_recall: 0.1498 - learning_rate: 1.0000e-04\n"
     ]
    },
    {
     "name": "stderr",
     "output_type": "stream",
     "text": [
      "2025-04-19 16:59:01 - INFO - \n",
      "=== Starting Epoch 10 ===\n",
      "\n"
     ]
    },
    {
     "name": "stdout",
     "output_type": "stream",
     "text": [
      "Epoch 10/100\n",
      "\u001b[1m  9/561\u001b[0m \u001b[37m━━━━━━━━━━━━━━━━━━━━\u001b[0m \u001b[1m1:44\u001b[0m 189ms/step - accuracy: 0.9263 - auc: 0.7217 - f1_score: 0.2964 - loss: 0.2652 - precision: 0.6640 - recall: 0.2928"
     ]
    },
    {
     "name": "stderr",
     "output_type": "stream",
     "text": [
      "2025-04-19 16:59:12.703919: I tensorflow/core/kernels/data/shuffle_dataset_op.cc:452] ShuffleDatasetV3:10: Filling up shuffle buffer (this may take a while): 23452 of 25000\n",
      "2025-04-19 16:59:14.442493: I tensorflow/core/kernels/data/shuffle_dataset_op.cc:482] Shuffle buffer filled.\n",
      "2025-04-19 16:59:14.602318: W tensorflow/core/kernels/data/prefetch_autotuner.cc:52] Prefetch autotuner tried to allocate 77078016 bytes after encountering the first element of size 77078016 bytes.This already causes the autotune ram budget to be exceeded. To stay within the ram budget, either increase the ram budget or reduce element size\n"
     ]
    },
    {
     "name": "stdout",
     "output_type": "stream",
     "text": [
      "\u001b[1m304/561\u001b[0m \u001b[32m━━━━━━━━━━\u001b[0m\u001b[37m━━━━━━━━━━\u001b[0m \u001b[1m1:00\u001b[0m 234ms/step - accuracy: 0.9275 - auc: 0.7543 - f1_score: 0.3220 - loss: 0.2602 - precision: 0.6721 - recall: 0.3035"
     ]
    },
    {
     "name": "stderr",
     "output_type": "stream",
     "text": [
      "2025-04-19 17:00:12.784712: W tensorflow/core/lib/png/png_io.cc:92] PNG warning: iCCP: profile 'ICC Profile': 'GRAY': Gray color space not permitted on RGB PNG\n"
     ]
    },
    {
     "name": "stdout",
     "output_type": "stream",
     "text": [
      "\u001b[1m561/561\u001b[0m \u001b[32m━━━━━━━━━━━━━━━━━━━━\u001b[0m\u001b[37m\u001b[0m \u001b[1m0s\u001b[0m 218ms/step - accuracy: 0.9280 - auc: 0.7564 - f1_score: 0.3277 - loss: 0.2584 - precision: 0.6757 - recall: 0.3075  "
     ]
    },
    {
     "name": "stderr",
     "output_type": "stream",
     "text": [
      "2025-04-19 17:01:12.763489: I tensorflow/core/kernels/data/shuffle_dataset_op.cc:452] ShuffleDatasetV3:10: Filling up shuffle buffer (this may take a while): 5303 of 25000\n",
      "2025-04-19 17:01:32.764391: I tensorflow/core/kernels/data/shuffle_dataset_op.cc:452] ShuffleDatasetV3:10: Filling up shuffle buffer (this may take a while): 15844 of 25000\n",
      "2025-04-19 17:01:43.142265: I tensorflow/core/kernels/data/shuffle_dataset_op.cc:482] Shuffle buffer filled.\n",
      "2025-04-19 17:01:43.290179: W tensorflow/core/kernels/data/prefetch_autotuner.cc:52] Prefetch autotuner tried to allocate 77078016 bytes after encountering the first element of size 77078016 bytes.This already causes the autotune ram budget to be exceeded. To stay within the ram budget, either increase the ram budget or reduce element size\n",
      "2025-04-19 17:01:51 - INFO - \n",
      "=== Epoch 10 Summary ===\n",
      "2025-04-19 17:01:51 - INFO - Time: 169.14s\n",
      "2025-04-19 17:01:51 - INFO - Training   - accuracy: 0.9286 - auc: 0.7602 - f1_score: 0.3348 - loss: 0.2553 - precision: 0.6807 - recall: 0.3127 - learning_rate: 0.0000\n",
      "2025-04-19 17:01:51 - INFO - Validation - accuracy: 0.9267 - auc: 0.7354 - f1_score: 0.3189 - loss: 0.2645 - precision: 0.6219 - recall: 0.3554\n",
      "2025-04-19 17:01:51 - INFO - ==================================================\n",
      "\n"
     ]
    },
    {
     "name": "stdout",
     "output_type": "stream",
     "text": [
      "\u001b[1m561/561\u001b[0m \u001b[32m━━━━━━━━━━━━━━━━━━━━\u001b[0m\u001b[37m\u001b[0m \u001b[1m169s\u001b[0m 302ms/step - accuracy: 0.9280 - auc: 0.7564 - f1_score: 0.3277 - loss: 0.2584 - precision: 0.6757 - recall: 0.3075 - val_accuracy: 0.9267 - val_auc: 0.7354 - val_f1_score: 0.3189 - val_loss: 0.2645 - val_precision: 0.6219 - val_recall: 0.3554 - learning_rate: 5.0000e-05\n"
     ]
    },
    {
     "name": "stderr",
     "output_type": "stream",
     "text": [
      "2025-04-19 17:01:51 - INFO - \n",
      "=== Starting Epoch 11 ===\n",
      "\n"
     ]
    },
    {
     "name": "stdout",
     "output_type": "stream",
     "text": [
      "Epoch 11/100\n",
      "\u001b[1m305/561\u001b[0m \u001b[32m━━━━━━━━━━\u001b[0m\u001b[37m━━━━━━━━━━\u001b[0m \u001b[1m50s\u001b[0m 197ms/step - accuracy: 0.9289 - auc: 0.7671 - f1_score: 0.3406 - loss: 0.2512 - precision: 0.6829 - recall: 0.3174 "
     ]
    },
    {
     "name": "stderr",
     "output_type": "stream",
     "text": [
      "2025-04-19 17:02:51.008583: W tensorflow/core/lib/png/png_io.cc:92] PNG warning: iCCP: profile 'ICC Profile': 'GRAY': Gray color space not permitted on RGB PNG\n"
     ]
    },
    {
     "name": "stdout",
     "output_type": "stream",
     "text": [
      "\u001b[1m561/561\u001b[0m \u001b[32m━━━━━━━━━━━━━━━━━━━━\u001b[0m\u001b[37m\u001b[0m \u001b[1m0s\u001b[0m 198ms/step - accuracy: 0.9290 - auc: 0.7682 - f1_score: 0.3411 - loss: 0.2503 - precision: 0.6835 - recall: 0.3178 "
     ]
    },
    {
     "name": "stderr",
     "output_type": "stream",
     "text": [
      "2025-04-19 17:03:51.100543: I tensorflow/core/kernels/data/shuffle_dataset_op.cc:452] ShuffleDatasetV3:10: Filling up shuffle buffer (this may take a while): 4914 of 25000\n",
      "2025-04-19 17:04:11.101062: I tensorflow/core/kernels/data/shuffle_dataset_op.cc:452] ShuffleDatasetV3:10: Filling up shuffle buffer (this may take a while): 14468 of 25000\n",
      "2025-04-19 17:04:12 - INFO - \n",
      "=== Epoch 11 Summary ===\n",
      "2025-04-19 17:04:12 - INFO - Time: 141.02s\n",
      "2025-04-19 17:04:12 - INFO - Training   - accuracy: 0.9291 - auc: 0.7686 - f1_score: 0.3421 - loss: 0.2487 - precision: 0.6851 - recall: 0.3179 - learning_rate: 0.0000\n",
      "2025-04-19 17:04:12 - INFO - Validation - accuracy: 0.9283 - auc: 0.7612 - f1_score: 0.3224 - loss: 0.2513 - precision: 0.6712 - recall: 0.3102\n",
      "2025-04-19 17:04:12 - INFO - ==================================================\n",
      "\n"
     ]
    },
    {
     "name": "stdout",
     "output_type": "stream",
     "text": [
      "\u001b[1m561/561\u001b[0m \u001b[32m━━━━━━━━━━━━━━━━━━━━\u001b[0m\u001b[37m\u001b[0m \u001b[1m141s\u001b[0m 252ms/step - accuracy: 0.9290 - auc: 0.7682 - f1_score: 0.3411 - loss: 0.2503 - precision: 0.6835 - recall: 0.3178 - val_accuracy: 0.9283 - val_auc: 0.7612 - val_f1_score: 0.3224 - val_loss: 0.2513 - val_precision: 0.6712 - val_recall: 0.3102 - learning_rate: 5.0000e-05\n"
     ]
    },
    {
     "name": "stderr",
     "output_type": "stream",
     "text": [
      "2025-04-19 17:04:12 - INFO - \n",
      "=== Starting Epoch 12 ===\n",
      "\n"
     ]
    },
    {
     "name": "stdout",
     "output_type": "stream",
     "text": [
      "Epoch 12/100\n",
      "\u001b[1m 11/561\u001b[0m \u001b[37m━━━━━━━━━━━━━━━━━━━━\u001b[0m \u001b[1m1:49\u001b[0m 198ms/step - accuracy: 0.9286 - auc: 0.7816 - f1_score: 0.3338 - loss: 0.2466 - precision: 0.7050 - recall: 0.3086"
     ]
    },
    {
     "name": "stderr",
     "output_type": "stream",
     "text": [
      "2025-04-19 17:04:23.221962: I tensorflow/core/kernels/data/shuffle_dataset_op.cc:482] Shuffle buffer filled.\n",
      "2025-04-19 17:04:23.470777: W tensorflow/core/kernels/data/prefetch_autotuner.cc:52] Prefetch autotuner tried to allocate 77078016 bytes after encountering the first element of size 77078016 bytes.This already causes the autotune ram budget to be exceeded. To stay within the ram budget, either increase the ram budget or reduce element size\n"
     ]
    },
    {
     "name": "stdout",
     "output_type": "stream",
     "text": [
      "\u001b[1m306/561\u001b[0m \u001b[32m━━━━━━━━━━\u001b[0m\u001b[37m━━━━━━━━━━\u001b[0m \u001b[1m58s\u001b[0m 228ms/step - accuracy: 0.9290 - auc: 0.7684 - f1_score: 0.3413 - loss: 0.2470 - precision: 0.6908 - recall: 0.3132 "
     ]
    },
    {
     "name": "stderr",
     "output_type": "stream",
     "text": [
      "2025-04-19 17:05:22.030354: W tensorflow/core/lib/png/png_io.cc:92] PNG warning: iCCP: profile 'ICC Profile': 'GRAY': Gray color space not permitted on RGB PNG\n"
     ]
    },
    {
     "name": "stdout",
     "output_type": "stream",
     "text": [
      "\u001b[1m561/561\u001b[0m \u001b[32m━━━━━━━━━━━━━━━━━━━━\u001b[0m\u001b[37m\u001b[0m \u001b[1m0s\u001b[0m 215ms/step - accuracy: 0.9292 - auc: 0.7703 - f1_score: 0.3441 - loss: 0.2459 - precision: 0.6905 - recall: 0.3166 "
     ]
    },
    {
     "name": "stderr",
     "output_type": "stream",
     "text": [
      "2025-04-19 17:06:22.157308: I tensorflow/core/kernels/data/shuffle_dataset_op.cc:452] ShuffleDatasetV3:10: Filling up shuffle buffer (this may take a while): 4491 of 25000\n",
      "2025-04-19 17:06:32.166464: I tensorflow/core/kernels/data/shuffle_dataset_op.cc:452] ShuffleDatasetV3:10: Filling up shuffle buffer (this may take a while): 8988 of 25000\n",
      "2025-04-19 17:06:45 - INFO - \n",
      "=== Epoch 12 Summary ===\n",
      "2025-04-19 17:06:45 - INFO - Time: 153.07s\n",
      "2025-04-19 17:06:45 - INFO - Training   - accuracy: 0.9295 - auc: 0.7723 - f1_score: 0.3479 - loss: 0.2439 - precision: 0.6902 - recall: 0.3207 - learning_rate: 0.0000\n",
      "2025-04-19 17:06:45 - INFO - Validation - accuracy: 0.9273 - auc: 0.7502 - f1_score: 0.3584 - loss: 0.2501 - precision: 0.6405 - recall: 0.3343\n",
      "2025-04-19 17:06:45 - INFO - ==================================================\n",
      "\n"
     ]
    },
    {
     "name": "stdout",
     "output_type": "stream",
     "text": [
      "\u001b[1m561/561\u001b[0m \u001b[32m━━━━━━━━━━━━━━━━━━━━\u001b[0m\u001b[37m\u001b[0m \u001b[1m154s\u001b[0m 274ms/step - accuracy: 0.9292 - auc: 0.7703 - f1_score: 0.3441 - loss: 0.2459 - precision: 0.6905 - recall: 0.3166 - val_accuracy: 0.9273 - val_auc: 0.7502 - val_f1_score: 0.3584 - val_loss: 0.2501 - val_precision: 0.6405 - val_recall: 0.3343 - learning_rate: 5.0000e-05\n"
     ]
    },
    {
     "name": "stderr",
     "output_type": "stream",
     "text": [
      "2025-04-19 17:06:45 - INFO - \n",
      "=== Starting Epoch 13 ===\n",
      "\n"
     ]
    },
    {
     "name": "stdout",
     "output_type": "stream",
     "text": [
      "Epoch 13/100\n",
      "\u001b[1m 12/561\u001b[0m \u001b[37m━━━━━━━━━━━━━━━━━━━━\u001b[0m \u001b[1m1:53\u001b[0m 207ms/step - accuracy: 0.9285 - auc: 0.7681 - f1_score: 0.3656 - loss: 0.2404 - precision: 0.6669 - recall: 0.3403"
     ]
    },
    {
     "name": "stderr",
     "output_type": "stream",
     "text": [
      "2025-04-19 17:06:52.157975: I tensorflow/core/kernels/data/shuffle_dataset_op.cc:452] ShuffleDatasetV3:10: Filling up shuffle buffer (this may take a while): 22547 of 25000\n",
      "2025-04-19 17:06:54.560199: I tensorflow/core/kernels/data/shuffle_dataset_op.cc:482] Shuffle buffer filled.\n",
      "2025-04-19 17:06:54.708938: W tensorflow/core/kernels/data/prefetch_autotuner.cc:52] Prefetch autotuner tried to allocate 77078016 bytes after encountering the first element of size 77078016 bytes.This already causes the autotune ram budget to be exceeded. To stay within the ram budget, either increase the ram budget or reduce element size\n"
     ]
    },
    {
     "name": "stdout",
     "output_type": "stream",
     "text": [
      "\u001b[1m307/561\u001b[0m \u001b[32m━━━━━━━━━━\u001b[0m\u001b[37m━━━━━━━━━━\u001b[0m \u001b[1m55s\u001b[0m 219ms/step - accuracy: 0.9295 - auc: 0.7803 - f1_score: 0.3556 - loss: 0.2417 - precision: 0.6933 - recall: 0.3252 "
     ]
    },
    {
     "name": "stderr",
     "output_type": "stream",
     "text": [
      "2025-04-19 17:07:53.163442: W tensorflow/core/lib/png/png_io.cc:92] PNG warning: iCCP: profile 'ICC Profile': 'GRAY': Gray color space not permitted on RGB PNG\n"
     ]
    },
    {
     "name": "stdout",
     "output_type": "stream",
     "text": [
      "\u001b[1m561/561\u001b[0m \u001b[32m━━━━━━━━━━━━━━━━━━━━\u001b[0m\u001b[37m\u001b[0m \u001b[1m0s\u001b[0m 210ms/step - accuracy: 0.9298 - auc: 0.7804 - f1_score: 0.3555 - loss: 0.2408 - precision: 0.6944 - recall: 0.3257 "
     ]
    },
    {
     "name": "stderr",
     "output_type": "stream",
     "text": [
      "2025-04-19 17:08:53.207638: I tensorflow/core/kernels/data/shuffle_dataset_op.cc:452] ShuffleDatasetV3:10: Filling up shuffle buffer (this may take a while): 5070 of 25000\n",
      "2025-04-19 17:09:13.202461: I tensorflow/core/kernels/data/shuffle_dataset_op.cc:452] ShuffleDatasetV3:10: Filling up shuffle buffer (this may take a while): 14866 of 25000\n",
      "2025-04-19 17:09:13 - INFO - \n",
      "=== Epoch 13 Summary ===\n",
      "2025-04-19 17:09:13 - INFO - Time: 147.44s\n",
      "2025-04-19 17:09:13 - INFO - Training   - accuracy: 0.9301 - auc: 0.7809 - f1_score: 0.3563 - loss: 0.2392 - precision: 0.6953 - recall: 0.3269 - learning_rate: 0.0000\n",
      "2025-04-19 17:09:13 - INFO - Validation - accuracy: 0.9197 - auc: 0.7569 - f1_score: 0.2422 - loss: 0.2595 - precision: 0.5929 - recall: 0.1840\n",
      "2025-04-19 17:09:13 - INFO - ==================================================\n",
      "\n"
     ]
    },
    {
     "name": "stdout",
     "output_type": "stream",
     "text": [
      "\u001b[1m561/561\u001b[0m \u001b[32m━━━━━━━━━━━━━━━━━━━━\u001b[0m\u001b[37m\u001b[0m \u001b[1m147s\u001b[0m 263ms/step - accuracy: 0.9298 - auc: 0.7804 - f1_score: 0.3555 - loss: 0.2408 - precision: 0.6944 - recall: 0.3257 - val_accuracy: 0.9197 - val_auc: 0.7569 - val_f1_score: 0.2422 - val_loss: 0.2595 - val_precision: 0.5929 - val_recall: 0.1840 - learning_rate: 5.0000e-05\n"
     ]
    },
    {
     "name": "stderr",
     "output_type": "stream",
     "text": [
      "2025-04-19 17:09:13 - INFO - \n",
      "=== Starting Epoch 14 ===\n",
      "\n"
     ]
    },
    {
     "name": "stdout",
     "output_type": "stream",
     "text": [
      "Epoch 14/100\n",
      "\u001b[1m 13/561\u001b[0m \u001b[37m━━━━━━━━━━━━━━━━━━━━\u001b[0m \u001b[1m1:47\u001b[0m 195ms/step - accuracy: 0.9286 - auc: 0.8031 - f1_score: 0.3457 - loss: 0.2361 - precision: 0.7005 - recall: 0.3081"
     ]
    },
    {
     "name": "stderr",
     "output_type": "stream",
     "text": [
      "2025-04-19 17:09:24.117756: I tensorflow/core/kernels/data/shuffle_dataset_op.cc:482] Shuffle buffer filled.\n",
      "2025-04-19 17:09:24.237929: W tensorflow/core/kernels/data/prefetch_autotuner.cc:52] Prefetch autotuner tried to allocate 77078016 bytes after encountering the first element of size 77078016 bytes.This already causes the autotune ram budget to be exceeded. To stay within the ram budget, either increase the ram budget or reduce element size\n"
     ]
    },
    {
     "name": "stdout",
     "output_type": "stream",
     "text": [
      "\u001b[1m308/561\u001b[0m \u001b[32m━━━━━━━━━━\u001b[0m\u001b[37m━━━━━━━━━━\u001b[0m \u001b[1m57s\u001b[0m 225ms/step - accuracy: 0.9299 - auc: 0.7923 - f1_score: 0.3592 - loss: 0.2374 - precision: 0.6981 - recall: 0.3255 "
     ]
    },
    {
     "name": "stderr",
     "output_type": "stream",
     "text": [
      "2025-04-19 17:10:22.680573: W tensorflow/core/lib/png/png_io.cc:92] PNG warning: iCCP: profile 'ICC Profile': 'GRAY': Gray color space not permitted on RGB PNG\n"
     ]
    },
    {
     "name": "stdout",
     "output_type": "stream",
     "text": [
      "\u001b[1m561/561\u001b[0m \u001b[32m━━━━━━━━━━━━━━━━━━━━\u001b[0m\u001b[37m\u001b[0m \u001b[1m0s\u001b[0m 215ms/step - accuracy: 0.9302 - auc: 0.7915 - f1_score: 0.3620 - loss: 0.2364 - precision: 0.6991 - recall: 0.3287 "
     ]
    },
    {
     "name": "stderr",
     "output_type": "stream",
     "text": [
      "2025-04-19 17:11:23.372745: I tensorflow/core/kernels/data/shuffle_dataset_op.cc:452] ShuffleDatasetV3:10: Filling up shuffle buffer (this may take a while): 4785 of 25000\n",
      "2025-04-19 17:11:33.381089: I tensorflow/core/kernels/data/shuffle_dataset_op.cc:452] ShuffleDatasetV3:10: Filling up shuffle buffer (this may take a while): 9518 of 25000\n",
      "2025-04-19 17:11:43 - INFO - \n",
      "=== Epoch 14 Summary ===\n",
      "2025-04-19 17:11:43 - INFO - Time: 150.56s\n",
      "2025-04-19 17:11:43 - INFO - Training   - accuracy: 0.9306 - auc: 0.7906 - f1_score: 0.3643 - loss: 0.2351 - precision: 0.6993 - recall: 0.3320 - learning_rate: 0.0000\n",
      "2025-04-19 17:11:43 - INFO - Validation - accuracy: 0.9262 - auc: 0.7489 - f1_score: 0.3375 - loss: 0.2497 - precision: 0.6404 - recall: 0.3045\n",
      "2025-04-19 17:11:43 - INFO - ==================================================\n",
      "\n"
     ]
    },
    {
     "name": "stdout",
     "output_type": "stream",
     "text": [
      "\u001b[1m561/561\u001b[0m \u001b[32m━━━━━━━━━━━━━━━━━━━━\u001b[0m\u001b[37m\u001b[0m \u001b[1m151s\u001b[0m 269ms/step - accuracy: 0.9302 - auc: 0.7915 - f1_score: 0.3620 - loss: 0.2364 - precision: 0.6991 - recall: 0.3287 - val_accuracy: 0.9262 - val_auc: 0.7489 - val_f1_score: 0.3375 - val_loss: 0.2497 - val_precision: 0.6404 - val_recall: 0.3045 - learning_rate: 5.0000e-05\n"
     ]
    },
    {
     "name": "stderr",
     "output_type": "stream",
     "text": [
      "2025-04-19 17:11:44 - INFO - \n",
      "=== Starting Epoch 15 ===\n",
      "\n"
     ]
    },
    {
     "name": "stdout",
     "output_type": "stream",
     "text": [
      "Epoch 15/100\n",
      "\u001b[1m 14/561\u001b[0m \u001b[37m━━━━━━━━━━━━━━━━━━━━\u001b[0m \u001b[1m1:47\u001b[0m 197ms/step - accuracy: 0.9292 - auc: 0.7823 - f1_score: 0.3481 - loss: 0.2357 - precision: 0.6771 - recall: 0.3274"
     ]
    },
    {
     "name": "stderr",
     "output_type": "stream",
     "text": [
      "2025-04-19 17:11:53.371379: I tensorflow/core/kernels/data/shuffle_dataset_op.cc:452] ShuffleDatasetV3:10: Filling up shuffle buffer (this may take a while): 24760 of 25000\n",
      "2025-04-19 17:11:53.581991: I tensorflow/core/kernels/data/shuffle_dataset_op.cc:482] Shuffle buffer filled.\n",
      "2025-04-19 17:11:53.734155: W tensorflow/core/kernels/data/prefetch_autotuner.cc:52] Prefetch autotuner tried to allocate 77078016 bytes after encountering the first element of size 77078016 bytes.This already causes the autotune ram budget to be exceeded. To stay within the ram budget, either increase the ram budget or reduce element size\n"
     ]
    },
    {
     "name": "stdout",
     "output_type": "stream",
     "text": [
      "\u001b[1m309/561\u001b[0m \u001b[32m━━━━━━━━━━━\u001b[0m\u001b[37m━━━━━━━━━\u001b[0m \u001b[1m55s\u001b[0m 219ms/step - accuracy: 0.9308 - auc: 0.7958 - f1_score: 0.3674 - loss: 0.2323 - precision: 0.7003 - recall: 0.3348 "
     ]
    },
    {
     "name": "stderr",
     "output_type": "stream",
     "text": [
      "2025-04-19 17:12:51.559433: W tensorflow/core/lib/png/png_io.cc:92] PNG warning: iCCP: profile 'ICC Profile': 'GRAY': Gray color space not permitted on RGB PNG\n"
     ]
    },
    {
     "name": "stdout",
     "output_type": "stream",
     "text": [
      "\u001b[1m561/561\u001b[0m \u001b[32m━━━━━━━━━━━━━━━━━━━━\u001b[0m\u001b[37m\u001b[0m \u001b[1m0s\u001b[0m 210ms/step - accuracy: 0.9309 - auc: 0.7964 - f1_score: 0.3692 - loss: 0.2320 - precision: 0.7014 - recall: 0.3357 "
     ]
    },
    {
     "name": "stderr",
     "output_type": "stream",
     "text": [
      "2025-04-19 17:13:51.458903: I tensorflow/core/kernels/data/shuffle_dataset_op.cc:452] ShuffleDatasetV3:10: Filling up shuffle buffer (this may take a while): 4559 of 25000\n"
     ]
    },
    {
     "name": "stdout",
     "output_type": "stream",
     "text": [
      "\n",
      "Epoch 15: ReduceLROnPlateau reducing learning rate to 2.499999936844688e-05.\n"
     ]
    },
    {
     "name": "stderr",
     "output_type": "stream",
     "text": [
      "2025-04-19 17:14:10 - INFO - \n",
      "=== Epoch 15 Summary ===\n",
      "2025-04-19 17:14:10 - INFO - Time: 146.81s\n",
      "2025-04-19 17:14:10 - INFO - Training   - accuracy: 0.9311 - auc: 0.7978 - f1_score: 0.3719 - loss: 0.2313 - precision: 0.7035 - recall: 0.3377 - learning_rate: 0.0000\n",
      "2025-04-19 17:14:10 - INFO - Validation - accuracy: 0.9273 - auc: 0.7494 - f1_score: 0.3383 - loss: 0.2433 - precision: 0.6593 - recall: 0.3026\n",
      "2025-04-19 17:14:10 - INFO - ==================================================\n",
      "\n"
     ]
    },
    {
     "name": "stdout",
     "output_type": "stream",
     "text": [
      "\u001b[1m561/561\u001b[0m \u001b[32m━━━━━━━━━━━━━━━━━━━━\u001b[0m\u001b[37m\u001b[0m \u001b[1m147s\u001b[0m 262ms/step - accuracy: 0.9309 - auc: 0.7964 - f1_score: 0.3692 - loss: 0.2320 - precision: 0.7014 - recall: 0.3357 - val_accuracy: 0.9273 - val_auc: 0.7494 - val_f1_score: 0.3383 - val_loss: 0.2433 - val_precision: 0.6593 - val_recall: 0.3026 - learning_rate: 5.0000e-05\n"
     ]
    },
    {
     "name": "stderr",
     "output_type": "stream",
     "text": [
      "2025-04-19 17:14:10 - INFO - \n",
      "=== Starting Epoch 16 ===\n",
      "\n"
     ]
    },
    {
     "name": "stdout",
     "output_type": "stream",
     "text": [
      "Epoch 16/100\n",
      "\u001b[1m  4/561\u001b[0m \u001b[37m━━━━━━━━━━━━━━━━━━━━\u001b[0m \u001b[1m1:51\u001b[0m 200ms/step - accuracy: 0.9316 - auc: 0.7645 - f1_score: 0.3870 - loss: 0.2317 - precision: 0.7281 - recall: 0.3588"
     ]
    },
    {
     "name": "stderr",
     "output_type": "stream",
     "text": [
      "2025-04-19 17:14:11.457515: I tensorflow/core/kernels/data/shuffle_dataset_op.cc:452] ShuffleDatasetV3:10: Filling up shuffle buffer (this may take a while): 13881 of 25000\n"
     ]
    },
    {
     "name": "stdout",
     "output_type": "stream",
     "text": [
      "\u001b[1m 15/561\u001b[0m \u001b[37m━━━━━━━━━━━━━━━━━━━━\u001b[0m \u001b[1m1:45\u001b[0m 193ms/step - accuracy: 0.9319 - auc: 0.7802 - f1_score: 0.3893 - loss: 0.2308 - precision: 0.7137 - recall: 0.3619"
     ]
    },
    {
     "name": "stderr",
     "output_type": "stream",
     "text": [
      "2025-04-19 17:14:22.807818: I tensorflow/core/kernels/data/shuffle_dataset_op.cc:482] Shuffle buffer filled.\n",
      "2025-04-19 17:14:22.921269: W tensorflow/core/kernels/data/prefetch_autotuner.cc:52] Prefetch autotuner tried to allocate 77078016 bytes after encountering the first element of size 77078016 bytes.This already causes the autotune ram budget to be exceeded. To stay within the ram budget, either increase the ram budget or reduce element size\n"
     ]
    },
    {
     "name": "stdout",
     "output_type": "stream",
     "text": [
      "\u001b[1m310/561\u001b[0m \u001b[32m━━━━━━━━━━━\u001b[0m\u001b[37m━━━━━━━━━\u001b[0m \u001b[1m56s\u001b[0m 226ms/step - accuracy: 0.9331 - auc: 0.8085 - f1_score: 0.3976 - loss: 0.2254 - precision: 0.7219 - recall: 0.3596 "
     ]
    },
    {
     "name": "stderr",
     "output_type": "stream",
     "text": [
      "2025-04-19 17:15:20.793430: W tensorflow/core/lib/png/png_io.cc:92] PNG warning: iCCP: profile 'ICC Profile': 'GRAY': Gray color space not permitted on RGB PNG\n"
     ]
    },
    {
     "name": "stdout",
     "output_type": "stream",
     "text": [
      "\u001b[1m561/561\u001b[0m \u001b[32m━━━━━━━━━━━━━━━━━━━━\u001b[0m\u001b[37m\u001b[0m \u001b[1m0s\u001b[0m 214ms/step - accuracy: 0.9334 - auc: 0.8146 - f1_score: 0.4025 - loss: 0.2240 - precision: 0.7234 - recall: 0.3625 "
     ]
    },
    {
     "name": "stderr",
     "output_type": "stream",
     "text": [
      "2025-04-19 17:16:25 - INFO - \n",
      "=== Epoch 16 Summary ===\n",
      "2025-04-19 17:16:25 - INFO - Time: 134.62s\n",
      "2025-04-19 17:16:25 - INFO - Training   - accuracy: 0.9339 - auc: 0.8232 - f1_score: 0.4098 - loss: 0.2216 - precision: 0.7261 - recall: 0.3667 - learning_rate: 0.0000\n",
      "2025-04-19 17:16:25 - INFO - Validation - accuracy: 0.9256 - auc: 0.7560 - f1_score: 0.3597 - loss: 0.2503 - precision: 0.6192 - recall: 0.3285\n",
      "2025-04-19 17:16:25 - INFO - ==================================================\n",
      "\n"
     ]
    },
    {
     "name": "stdout",
     "output_type": "stream",
     "text": [
      "\u001b[1m561/561\u001b[0m \u001b[32m━━━━━━━━━━━━━━━━━━━━\u001b[0m\u001b[37m\u001b[0m \u001b[1m135s\u001b[0m 240ms/step - accuracy: 0.9334 - auc: 0.8146 - f1_score: 0.4026 - loss: 0.2240 - precision: 0.7234 - recall: 0.3625 - val_accuracy: 0.9256 - val_auc: 0.7560 - val_f1_score: 0.3597 - val_loss: 0.2503 - val_precision: 0.6192 - val_recall: 0.3285 - learning_rate: 2.5000e-05\n"
     ]
    },
    {
     "name": "stderr",
     "output_type": "stream",
     "text": [
      "2025-04-19 17:16:25 - INFO - \n",
      "=== Starting Epoch 17 ===\n",
      "\n"
     ]
    },
    {
     "name": "stdout",
     "output_type": "stream",
     "text": [
      "Epoch 17/100\n",
      "\u001b[1m 16/561\u001b[0m \u001b[37m━━━━━━━━━━━━━━━━━━━━\u001b[0m \u001b[1m1:46\u001b[0m 195ms/step - accuracy: 0.9331 - auc: 0.8192 - f1_score: 0.4145 - loss: 0.2215 - precision: 0.7162 - recall: 0.3681"
     ]
    },
    {
     "name": "stderr",
     "output_type": "stream",
     "text": [
      "2025-04-19 17:16:35.501478: I tensorflow/core/kernels/data/shuffle_dataset_op.cc:452] ShuffleDatasetV3:10: Filling up shuffle buffer (this may take a while): 10475 of 25000\n",
      "2025-04-19 17:16:49.810455: I tensorflow/core/kernels/data/shuffle_dataset_op.cc:482] Shuffle buffer filled.\n",
      "2025-04-19 17:16:49.939281: W tensorflow/core/kernels/data/prefetch_autotuner.cc:52] Prefetch autotuner tried to allocate 77078016 bytes after encountering the first element of size 77078016 bytes.This already causes the autotune ram budget to be exceeded. To stay within the ram budget, either increase the ram budget or reduce element size\n"
     ]
    },
    {
     "name": "stdout",
     "output_type": "stream",
     "text": [
      "\u001b[1m311/561\u001b[0m \u001b[32m━━━━━━━━━━━\u001b[0m\u001b[37m━━━━━━━━━\u001b[0m \u001b[1m1:06\u001b[0m 266ms/step - accuracy: 0.9346 - auc: 0.8361 - f1_score: 0.4256 - loss: 0.2175 - precision: 0.7308 - recall: 0.3771"
     ]
    },
    {
     "name": "stderr",
     "output_type": "stream",
     "text": [
      "2025-04-19 17:17:47.881829: W tensorflow/core/lib/png/png_io.cc:92] PNG warning: iCCP: profile 'ICC Profile': 'GRAY': Gray color space not permitted on RGB PNG\n"
     ]
    },
    {
     "name": "stdout",
     "output_type": "stream",
     "text": [
      "\u001b[1m561/561\u001b[0m \u001b[32m━━━━━━━━━━━━━━━━━━━━\u001b[0m\u001b[37m\u001b[0m \u001b[1m0s\u001b[0m 236ms/step - accuracy: 0.9349 - auc: 0.8365 - f1_score: 0.4283 - loss: 0.2168 - precision: 0.7335 - recall: 0.3796  "
     ]
    },
    {
     "name": "stderr",
     "output_type": "stream",
     "text": [
      "2025-04-19 17:18:51 - INFO - \n",
      "=== Epoch 17 Summary ===\n",
      "2025-04-19 17:18:51 - INFO - Time: 146.30s\n",
      "2025-04-19 17:18:51 - INFO - Training   - accuracy: 0.9357 - auc: 0.8374 - f1_score: 0.4333 - loss: 0.2153 - precision: 0.7385 - recall: 0.3844 - learning_rate: 0.0000\n",
      "2025-04-19 17:18:51 - INFO - Validation - accuracy: 0.9270 - auc: 0.7545 - f1_score: 0.3411 - loss: 0.2508 - precision: 0.6349 - recall: 0.3369\n",
      "2025-04-19 17:18:51 - INFO - ==================================================\n",
      "\n"
     ]
    },
    {
     "name": "stdout",
     "output_type": "stream",
     "text": [
      "\u001b[1m561/561\u001b[0m \u001b[32m━━━━━━━━━━━━━━━━━━━━\u001b[0m\u001b[37m\u001b[0m \u001b[1m146s\u001b[0m 261ms/step - accuracy: 0.9349 - auc: 0.8365 - f1_score: 0.4283 - loss: 0.2168 - precision: 0.7335 - recall: 0.3796 - val_accuracy: 0.9270 - val_auc: 0.7545 - val_f1_score: 0.3411 - val_loss: 0.2508 - val_precision: 0.6349 - val_recall: 0.3369 - learning_rate: 2.5000e-05\n"
     ]
    },
    {
     "name": "stderr",
     "output_type": "stream",
     "text": [
      "2025-04-19 17:18:51 - INFO - \n",
      "=== Starting Epoch 18 ===\n",
      "\n"
     ]
    },
    {
     "name": "stdout",
     "output_type": "stream",
     "text": [
      "Epoch 18/100\n",
      "\u001b[1m 17/561\u001b[0m \u001b[37m━━━━━━━━━━━━━━━━━━━━\u001b[0m \u001b[1m1:46\u001b[0m 195ms/step - accuracy: 0.9342 - auc: 0.8168 - f1_score: 0.4392 - loss: 0.2166 - precision: 0.7396 - recall: 0.3852"
     ]
    },
    {
     "name": "stderr",
     "output_type": "stream",
     "text": [
      "2025-04-19 17:19:02.020233: I tensorflow/core/kernels/data/shuffle_dataset_op.cc:452] ShuffleDatasetV3:10: Filling up shuffle buffer (this may take a while): 10340 of 25000\n",
      "2025-04-19 17:19:16.111160: I tensorflow/core/kernels/data/shuffle_dataset_op.cc:482] Shuffle buffer filled.\n",
      "2025-04-19 17:19:16.235919: W tensorflow/core/kernels/data/prefetch_autotuner.cc:52] Prefetch autotuner tried to allocate 77078016 bytes after encountering the first element of size 77078016 bytes.This already causes the autotune ram budget to be exceeded. To stay within the ram budget, either increase the ram budget or reduce element size\n"
     ]
    },
    {
     "name": "stdout",
     "output_type": "stream",
     "text": [
      "\u001b[1m312/561\u001b[0m \u001b[32m━━━━━━━━━━━\u001b[0m\u001b[37m━━━━━━━━━\u001b[0m \u001b[1m1:05\u001b[0m 265ms/step - accuracy: 0.9368 - auc: 0.8469 - f1_score: 0.4542 - loss: 0.2115 - precision: 0.7534 - recall: 0.4000"
     ]
    },
    {
     "name": "stderr",
     "output_type": "stream",
     "text": [
      "2025-04-19 17:20:14.186394: W tensorflow/core/lib/png/png_io.cc:92] PNG warning: iCCP: profile 'ICC Profile': 'GRAY': Gray color space not permitted on RGB PNG\n"
     ]
    },
    {
     "name": "stdout",
     "output_type": "stream",
     "text": [
      "\u001b[1m561/561\u001b[0m \u001b[32m━━━━━━━━━━━━━━━━━━━━\u001b[0m\u001b[37m\u001b[0m \u001b[1m0s\u001b[0m 235ms/step - accuracy: 0.9371 - auc: 0.8471 - f1_score: 0.4554 - loss: 0.2108 - precision: 0.7531 - recall: 0.4016  "
     ]
    },
    {
     "name": "stderr",
     "output_type": "stream",
     "text": [
      "2025-04-19 17:21:17 - INFO - \n",
      "=== Epoch 18 Summary ===\n",
      "2025-04-19 17:21:17 - INFO - Time: 145.97s\n",
      "2025-04-19 17:21:17 - INFO - Training   - accuracy: 0.9376 - auc: 0.8488 - f1_score: 0.4584 - loss: 0.2096 - precision: 0.7525 - recall: 0.4054 - learning_rate: 0.0000\n",
      "2025-04-19 17:21:17 - INFO - Validation - accuracy: 0.9170 - auc: 0.7484 - f1_score: 0.2714 - loss: 0.2711 - precision: 0.5344 - recall: 0.2000\n",
      "2025-04-19 17:21:17 - INFO - ==================================================\n",
      "\n"
     ]
    },
    {
     "name": "stdout",
     "output_type": "stream",
     "text": [
      "\u001b[1m561/561\u001b[0m \u001b[32m━━━━━━━━━━━━━━━━━━━━\u001b[0m\u001b[37m\u001b[0m \u001b[1m146s\u001b[0m 260ms/step - accuracy: 0.9371 - auc: 0.8471 - f1_score: 0.4554 - loss: 0.2108 - precision: 0.7531 - recall: 0.4016 - val_accuracy: 0.9170 - val_auc: 0.7484 - val_f1_score: 0.2714 - val_loss: 0.2711 - val_precision: 0.5344 - val_recall: 0.2000 - learning_rate: 2.5000e-05\n"
     ]
    },
    {
     "name": "stderr",
     "output_type": "stream",
     "text": [
      "2025-04-19 17:21:17 - INFO - \n",
      "=== Starting Epoch 19 ===\n",
      "\n"
     ]
    },
    {
     "name": "stdout",
     "output_type": "stream",
     "text": [
      "Epoch 19/100\n",
      "\u001b[1m 18/561\u001b[0m \u001b[37m━━━━━━━━━━━━━━━━━━━━\u001b[0m \u001b[1m1:46\u001b[0m 196ms/step - accuracy: 0.9368 - auc: 0.8627 - f1_score: 0.4552 - loss: 0.2100 - precision: 0.7641 - recall: 0.3922"
     ]
    },
    {
     "name": "stderr",
     "output_type": "stream",
     "text": [
      "2025-04-19 17:21:28.190961: I tensorflow/core/kernels/data/shuffle_dataset_op.cc:452] ShuffleDatasetV3:10: Filling up shuffle buffer (this may take a while): 10858 of 25000\n",
      "2025-04-19 17:21:41.241099: I tensorflow/core/kernels/data/shuffle_dataset_op.cc:482] Shuffle buffer filled.\n",
      "2025-04-19 17:21:41.378470: W tensorflow/core/kernels/data/prefetch_autotuner.cc:52] Prefetch autotuner tried to allocate 77078016 bytes after encountering the first element of size 77078016 bytes.This already causes the autotune ram budget to be exceeded. To stay within the ram budget, either increase the ram budget or reduce element size\n"
     ]
    },
    {
     "name": "stdout",
     "output_type": "stream",
     "text": [
      "\u001b[1m313/561\u001b[0m \u001b[32m━━━━━━━━━━━\u001b[0m\u001b[37m━━━━━━━━━\u001b[0m \u001b[1m1:05\u001b[0m 263ms/step - accuracy: 0.9390 - auc: 0.8637 - f1_score: 0.4762 - loss: 0.2049 - precision: 0.7668 - recall: 0.4189"
     ]
    },
    {
     "name": "stderr",
     "output_type": "stream",
     "text": [
      "2025-04-19 17:22:39.890249: W tensorflow/core/lib/png/png_io.cc:92] PNG warning: iCCP: profile 'ICC Profile': 'GRAY': Gray color space not permitted on RGB PNG\n"
     ]
    },
    {
     "name": "stdout",
     "output_type": "stream",
     "text": [
      "\u001b[1m561/561\u001b[0m \u001b[32m━━━━━━━━━━━━━━━━━━━━\u001b[0m\u001b[37m\u001b[0m \u001b[1m0s\u001b[0m 234ms/step - accuracy: 0.9392 - auc: 0.8625 - f1_score: 0.4793 - loss: 0.2042 - precision: 0.7662 - recall: 0.4221  \n",
      "Epoch 19: ReduceLROnPlateau reducing learning rate to 1.249999968422344e-05.\n"
     ]
    },
    {
     "name": "stderr",
     "output_type": "stream",
     "text": [
      "2025-04-19 17:23:43 - INFO - \n",
      "=== Epoch 19 Summary ===\n",
      "2025-04-19 17:23:43 - INFO - Time: 145.45s\n",
      "2025-04-19 17:23:43 - INFO - Training   - accuracy: 0.9398 - auc: 0.8614 - f1_score: 0.4839 - loss: 0.2029 - precision: 0.7658 - recall: 0.4269 - learning_rate: 0.0000\n",
      "2025-04-19 17:23:43 - INFO - Validation - accuracy: 0.9237 - auc: 0.7414 - f1_score: 0.3508 - loss: 0.2604 - precision: 0.6018 - recall: 0.3060\n",
      "2025-04-19 17:23:43 - INFO - ==================================================\n",
      "\n"
     ]
    },
    {
     "name": "stdout",
     "output_type": "stream",
     "text": [
      "\u001b[1m561/561\u001b[0m \u001b[32m━━━━━━━━━━━━━━━━━━━━\u001b[0m\u001b[37m\u001b[0m \u001b[1m145s\u001b[0m 259ms/step - accuracy: 0.9392 - auc: 0.8625 - f1_score: 0.4793 - loss: 0.2042 - precision: 0.7662 - recall: 0.4221 - val_accuracy: 0.9237 - val_auc: 0.7414 - val_f1_score: 0.3508 - val_loss: 0.2604 - val_precision: 0.6018 - val_recall: 0.3060 - learning_rate: 2.5000e-05\n"
     ]
    },
    {
     "name": "stderr",
     "output_type": "stream",
     "text": [
      "2025-04-19 17:23:43 - INFO - \n",
      "=== Starting Epoch 20 ===\n",
      "\n"
     ]
    },
    {
     "name": "stdout",
     "output_type": "stream",
     "text": [
      "Epoch 20/100\n",
      "\u001b[1m 19/561\u001b[0m \u001b[37m━━━━━━━━━━━━━━━━━━━━\u001b[0m \u001b[1m1:55\u001b[0m 214ms/step - accuracy: 0.9417 - auc: 0.8417 - f1_score: 0.4832 - loss: 0.2013 - precision: 0.7998 - recall: 0.4290"
     ]
    },
    {
     "name": "stderr",
     "output_type": "stream",
     "text": [
      "2025-04-19 17:23:53.854078: I tensorflow/core/kernels/data/shuffle_dataset_op.cc:452] ShuffleDatasetV3:10: Filling up shuffle buffer (this may take a while): 7200 of 25000\n",
      "2025-04-19 17:24:13.217449: I tensorflow/core/kernels/data/shuffle_dataset_op.cc:482] Shuffle buffer filled.\n",
      "2025-04-19 17:24:13.377078: W tensorflow/core/kernels/data/prefetch_autotuner.cc:52] Prefetch autotuner tried to allocate 77078016 bytes after encountering the first element of size 77078016 bytes.This already causes the autotune ram budget to be exceeded. To stay within the ram budget, either increase the ram budget or reduce element size\n"
     ]
    },
    {
     "name": "stdout",
     "output_type": "stream",
     "text": [
      "\u001b[1m314/561\u001b[0m \u001b[32m━━━━━━━━━━━\u001b[0m\u001b[37m━━━━━━━━━\u001b[0m \u001b[1m1:11\u001b[0m 288ms/step - accuracy: 0.9437 - auc: 0.8781 - f1_score: 0.5215 - loss: 0.1932 - precision: 0.7956 - recall: 0.4627"
     ]
    },
    {
     "name": "stderr",
     "output_type": "stream",
     "text": [
      "2025-04-19 17:25:13.482528: W tensorflow/core/lib/png/png_io.cc:92] PNG warning: iCCP: profile 'ICC Profile': 'GRAY': Gray color space not permitted on RGB PNG\n"
     ]
    },
    {
     "name": "stdout",
     "output_type": "stream",
     "text": [
      "\u001b[1m561/561\u001b[0m \u001b[32m━━━━━━━━━━━━━━━━━━━━\u001b[0m\u001b[37m\u001b[0m \u001b[1m0s\u001b[0m 249ms/step - accuracy: 0.9442 - auc: 0.8819 - f1_score: 0.5293 - loss: 0.1912 - precision: 0.7959 - recall: 0.4702  "
     ]
    },
    {
     "name": "stderr",
     "output_type": "stream",
     "text": [
      "2025-04-19 17:26:03.478135: W tensorflow/core/kernels/data/prefetch_autotuner.cc:52] Prefetch autotuner tried to allocate 134225408 bytes after encountering the first element of size 134225408 bytes.This already causes the autotune ram budget to be exceeded. To stay within the ram budget, either increase the ram budget or reduce element size\n",
      "2025-04-19 17:26:18 - INFO - \n",
      "=== Epoch 20 Summary ===\n",
      "2025-04-19 17:26:18 - INFO - Time: 155.61s\n",
      "2025-04-19 17:26:18 - INFO - Training   - accuracy: 0.9452 - auc: 0.8875 - f1_score: 0.5430 - loss: 0.1876 - precision: 0.7964 - recall: 0.4831 - learning_rate: 0.0000\n",
      "2025-04-19 17:26:18 - INFO - Validation - accuracy: 0.9240 - auc: 0.7158 - f1_score: 0.3552 - loss: 0.3018 - precision: 0.5863 - recall: 0.3658\n",
      "2025-04-19 17:26:18 - INFO - ==================================================\n",
      "\n"
     ]
    },
    {
     "name": "stdout",
     "output_type": "stream",
     "text": [
      "\u001b[1m561/561\u001b[0m \u001b[32m━━━━━━━━━━━━━━━━━━━━\u001b[0m\u001b[37m\u001b[0m \u001b[1m156s\u001b[0m 278ms/step - accuracy: 0.9442 - auc: 0.8819 - f1_score: 0.5293 - loss: 0.1911 - precision: 0.7959 - recall: 0.4702 - val_accuracy: 0.9240 - val_auc: 0.7158 - val_f1_score: 0.3552 - val_loss: 0.3018 - val_precision: 0.5863 - val_recall: 0.3658 - learning_rate: 1.2500e-05\n"
     ]
    },
    {
     "name": "stderr",
     "output_type": "stream",
     "text": [
      "2025-04-19 17:26:18 - INFO - \n",
      "=== Starting Epoch 21 ===\n",
      "\n"
     ]
    },
    {
     "name": "stdout",
     "output_type": "stream",
     "text": [
      "Epoch 21/100\n",
      "\u001b[1m 20/561\u001b[0m \u001b[37m━━━━━━━━━━━━━━━━━━━━\u001b[0m \u001b[1m1:54\u001b[0m 212ms/step - accuracy: 0.9454 - auc: 0.8904 - f1_score: 0.5621 - loss: 0.1864 - precision: 0.8026 - recall: 0.4994"
     ]
    },
    {
     "name": "stderr",
     "output_type": "stream",
     "text": [
      "2025-04-19 17:26:29.688230: I tensorflow/core/kernels/data/shuffle_dataset_op.cc:452] ShuffleDatasetV3:10: Filling up shuffle buffer (this may take a while): 9022 of 25000\n",
      "2025-04-19 17:26:39.688822: I tensorflow/core/kernels/data/shuffle_dataset_op.cc:452] ShuffleDatasetV3:10: Filling up shuffle buffer (this may take a while): 18062 of 25000\n",
      "2025-04-19 17:26:47.406429: I tensorflow/core/kernels/data/shuffle_dataset_op.cc:482] Shuffle buffer filled.\n",
      "2025-04-19 17:26:47.553218: W tensorflow/core/kernels/data/prefetch_autotuner.cc:52] Prefetch autotuner tried to allocate 77078016 bytes after encountering the first element of size 77078016 bytes.This already causes the autotune ram budget to be exceeded. To stay within the ram budget, either increase the ram budget or reduce element size\n"
     ]
    },
    {
     "name": "stdout",
     "output_type": "stream",
     "text": [
      "\u001b[1m315/561\u001b[0m \u001b[32m━━━━━━━━━━━\u001b[0m\u001b[37m━━━━━━━━━\u001b[0m \u001b[1m1:07\u001b[0m 276ms/step - accuracy: 0.9476 - auc: 0.8972 - f1_score: 0.5725 - loss: 0.1811 - precision: 0.8082 - recall: 0.5119"
     ]
    },
    {
     "name": "stderr",
     "output_type": "stream",
     "text": [
      "2025-04-19 17:27:45.658074: W tensorflow/core/lib/png/png_io.cc:92] PNG warning: iCCP: profile 'ICC Profile': 'GRAY': Gray color space not permitted on RGB PNG\n"
     ]
    },
    {
     "name": "stdout",
     "output_type": "stream",
     "text": [
      "\u001b[1m561/561\u001b[0m \u001b[32m━━━━━━━━━━━━━━━━━━━━\u001b[0m\u001b[37m\u001b[0m \u001b[1m0s\u001b[0m 242ms/step - accuracy: 0.9480 - auc: 0.8980 - f1_score: 0.5760 - loss: 0.1803 - precision: 0.8098 - recall: 0.5152  "
     ]
    },
    {
     "name": "stderr",
     "output_type": "stream",
     "text": [
      "2025-04-19 17:28:48 - INFO - \n",
      "=== Epoch 21 Summary ===\n",
      "2025-04-19 17:28:48 - INFO - Time: 149.95s\n",
      "2025-04-19 17:28:48 - INFO - Training   - accuracy: 0.9486 - auc: 0.9004 - f1_score: 0.5824 - loss: 0.1787 - precision: 0.8114 - recall: 0.5216 - learning_rate: 0.0000\n",
      "2025-04-19 17:28:48 - INFO - Validation - accuracy: 0.9020 - auc: 0.7323 - f1_score: 0.3057 - loss: 0.3252 - precision: 0.3879 - recall: 0.2607\n",
      "2025-04-19 17:28:48 - INFO - ==================================================\n",
      "\n"
     ]
    },
    {
     "name": "stdout",
     "output_type": "stream",
     "text": [
      "\u001b[1m561/561\u001b[0m \u001b[32m━━━━━━━━━━━━━━━━━━━━\u001b[0m\u001b[37m\u001b[0m \u001b[1m150s\u001b[0m 267ms/step - accuracy: 0.9480 - auc: 0.8980 - f1_score: 0.5760 - loss: 0.1803 - precision: 0.8098 - recall: 0.5152 - val_accuracy: 0.9020 - val_auc: 0.7323 - val_f1_score: 0.3057 - val_loss: 0.3252 - val_precision: 0.3879 - val_recall: 0.2607 - learning_rate: 1.2500e-05\n"
     ]
    },
    {
     "name": "stderr",
     "output_type": "stream",
     "text": [
      "2025-04-19 17:28:48 - INFO - \n",
      "=== Starting Epoch 22 ===\n",
      "\n"
     ]
    },
    {
     "name": "stdout",
     "output_type": "stream",
     "text": [
      "Epoch 22/100\n",
      "\u001b[1m 21/561\u001b[0m \u001b[37m━━━━━━━━━━━━━━━━━━━━\u001b[0m \u001b[1m1:45\u001b[0m 195ms/step - accuracy: 0.9512 - auc: 0.9088 - f1_score: 0.5968 - loss: 0.1700 - precision: 0.8154 - recall: 0.5335"
     ]
    },
    {
     "name": "stderr",
     "output_type": "stream",
     "text": [
      "2025-04-19 17:28:59.838454: I tensorflow/core/kernels/data/shuffle_dataset_op.cc:452] ShuffleDatasetV3:10: Filling up shuffle buffer (this may take a while): 9164 of 25000\n",
      "2025-04-19 17:29:17.182351: I tensorflow/core/kernels/data/shuffle_dataset_op.cc:482] Shuffle buffer filled.\n",
      "2025-04-19 17:29:17.317441: W tensorflow/core/kernels/data/prefetch_autotuner.cc:52] Prefetch autotuner tried to allocate 77078016 bytes after encountering the first element of size 77078016 bytes.This already causes the autotune ram budget to be exceeded. To stay within the ram budget, either increase the ram budget or reduce element size\n"
     ]
    },
    {
     "name": "stdout",
     "output_type": "stream",
     "text": [
      "\u001b[1m316/561\u001b[0m \u001b[32m━━━━━━━━━━━\u001b[0m\u001b[37m━━━━━━━━━\u001b[0m \u001b[1m1:07\u001b[0m 274ms/step - accuracy: 0.9513 - auc: 0.9128 - f1_score: 0.6064 - loss: 0.1701 - precision: 0.8249 - recall: 0.5465"
     ]
    },
    {
     "name": "stderr",
     "output_type": "stream",
     "text": [
      "2025-04-19 17:30:15.379191: W tensorflow/core/lib/png/png_io.cc:92] PNG warning: iCCP: profile 'ICC Profile': 'GRAY': Gray color space not permitted on RGB PNG\n"
     ]
    },
    {
     "name": "stdout",
     "output_type": "stream",
     "text": [
      "\u001b[1m561/561\u001b[0m \u001b[32m━━━━━━━━━━━━━━━━━━━━\u001b[0m\u001b[37m\u001b[0m \u001b[1m0s\u001b[0m 241ms/step - accuracy: 0.9515 - auc: 0.9123 - f1_score: 0.6090 - loss: 0.1697 - precision: 0.8247 - recall: 0.5496  \n",
      "Epoch 22: ReduceLROnPlateau reducing learning rate to 6.24999984211172e-06.\n"
     ]
    },
    {
     "name": "stderr",
     "output_type": "stream",
     "text": [
      "2025-04-19 17:31:18 - INFO - \n",
      "=== Epoch 22 Summary ===\n",
      "2025-04-19 17:31:18 - INFO - Time: 149.59s\n",
      "2025-04-19 17:31:18 - INFO - Training   - accuracy: 0.9518 - auc: 0.9121 - f1_score: 0.6139 - loss: 0.1693 - precision: 0.8239 - recall: 0.5554 - learning_rate: 0.0000\n",
      "2025-04-19 17:31:18 - INFO - Validation - accuracy: 0.9119 - auc: 0.7125 - f1_score: 0.3546 - loss: 0.3215 - precision: 0.4745 - recall: 0.3237\n",
      "2025-04-19 17:31:18 - INFO - ==================================================\n",
      "\n"
     ]
    },
    {
     "name": "stdout",
     "output_type": "stream",
     "text": [
      "\u001b[1m561/561\u001b[0m \u001b[32m━━━━━━━━━━━━━━━━━━━━\u001b[0m\u001b[37m\u001b[0m \u001b[1m150s\u001b[0m 267ms/step - accuracy: 0.9515 - auc: 0.9123 - f1_score: 0.6090 - loss: 0.1697 - precision: 0.8247 - recall: 0.5496 - val_accuracy: 0.9119 - val_auc: 0.7125 - val_f1_score: 0.3546 - val_loss: 0.3215 - val_precision: 0.4745 - val_recall: 0.3237 - learning_rate: 1.2500e-05\n"
     ]
    },
    {
     "name": "stderr",
     "output_type": "stream",
     "text": [
      "2025-04-19 17:31:18 - INFO - \n",
      "=== Starting Epoch 23 ===\n",
      "\n"
     ]
    },
    {
     "name": "stdout",
     "output_type": "stream",
     "text": [
      "Epoch 23/100\n",
      "\u001b[1m 22/561\u001b[0m \u001b[37m━━━━━━━━━━━━━━━━━━━━\u001b[0m \u001b[1m1:48\u001b[0m 201ms/step - accuracy: 0.9501 - auc: 0.8875 - f1_score: 0.5855 - loss: 0.1736 - precision: 0.8156 - recall: 0.5274"
     ]
    },
    {
     "name": "stderr",
     "output_type": "stream",
     "text": [
      "2025-04-19 17:31:29.624091: I tensorflow/core/kernels/data/shuffle_dataset_op.cc:452] ShuffleDatasetV3:10: Filling up shuffle buffer (this may take a while): 9858 of 25000\n",
      "2025-04-19 17:31:39.634153: I tensorflow/core/kernels/data/shuffle_dataset_op.cc:452] ShuffleDatasetV3:10: Filling up shuffle buffer (this may take a while): 18794 of 25000\n",
      "2025-04-19 17:31:46.211305: I tensorflow/core/kernels/data/shuffle_dataset_op.cc:482] Shuffle buffer filled.\n",
      "2025-04-19 17:31:46.362881: W tensorflow/core/kernels/data/prefetch_autotuner.cc:52] Prefetch autotuner tried to allocate 77078016 bytes after encountering the first element of size 77078016 bytes.This already causes the autotune ram budget to be exceeded. To stay within the ram budget, either increase the ram budget or reduce element size\n"
     ]
    },
    {
     "name": "stdout",
     "output_type": "stream",
     "text": [
      "\u001b[1m317/561\u001b[0m \u001b[32m━━━━━━━━━━━\u001b[0m\u001b[37m━━━━━━━━━\u001b[0m \u001b[1m1:06\u001b[0m 271ms/step - accuracy: 0.9547 - auc: 0.9215 - f1_score: 0.6356 - loss: 0.1625 - precision: 0.8467 - recall: 0.5758"
     ]
    },
    {
     "name": "stderr",
     "output_type": "stream",
     "text": [
      "2025-04-19 17:32:44.295317: W tensorflow/core/lib/png/png_io.cc:92] PNG warning: iCCP: profile 'ICC Profile': 'GRAY': Gray color space not permitted on RGB PNG\n"
     ]
    },
    {
     "name": "stdout",
     "output_type": "stream",
     "text": [
      "\u001b[1m561/561\u001b[0m \u001b[32m━━━━━━━━━━━━━━━━━━━━\u001b[0m\u001b[37m\u001b[0m \u001b[1m0s\u001b[0m 240ms/step - accuracy: 0.9559 - auc: 0.9250 - f1_score: 0.6468 - loss: 0.1594 - precision: 0.8506 - recall: 0.5882  "
     ]
    },
    {
     "name": "stderr",
     "output_type": "stream",
     "text": [
      "2025-04-19 17:33:32.925365: W tensorflow/core/kernels/data/prefetch_autotuner.cc:52] Prefetch autotuner tried to allocate 134225408 bytes after encountering the first element of size 134225408 bytes.This already causes the autotune ram budget to be exceeded. To stay within the ram budget, either increase the ram budget or reduce element size\n",
      "2025-04-19 17:33:55 - INFO - \n",
      "=== Epoch 23 Summary ===\n",
      "2025-04-19 17:33:55 - INFO - Time: 156.59s\n",
      "2025-04-19 17:33:55 - INFO - Training   - accuracy: 0.9579 - auc: 0.9310 - f1_score: 0.6665 - loss: 0.1543 - precision: 0.8567 - recall: 0.6102 - learning_rate: 0.0000\n",
      "2025-04-19 17:33:55 - INFO - Validation - accuracy: 0.9114 - auc: 0.7150 - f1_score: 0.3642 - loss: 0.3282 - precision: 0.4712 - recall: 0.3260\n",
      "2025-04-19 17:33:55 - INFO - ==================================================\n",
      "\n"
     ]
    },
    {
     "name": "stdout",
     "output_type": "stream",
     "text": [
      "\u001b[1m561/561\u001b[0m \u001b[32m━━━━━━━━━━━━━━━━━━━━\u001b[0m\u001b[37m\u001b[0m \u001b[1m157s\u001b[0m 279ms/step - accuracy: 0.9559 - auc: 0.9250 - f1_score: 0.6468 - loss: 0.1594 - precision: 0.8507 - recall: 0.5882 - val_accuracy: 0.9114 - val_auc: 0.7150 - val_f1_score: 0.3642 - val_loss: 0.3282 - val_precision: 0.4712 - val_recall: 0.3260 - learning_rate: 6.2500e-06\n"
     ]
    },
    {
     "name": "stderr",
     "output_type": "stream",
     "text": [
      "2025-04-19 17:33:55 - INFO - \n",
      "=== Starting Epoch 24 ===\n",
      "\n"
     ]
    },
    {
     "name": "stdout",
     "output_type": "stream",
     "text": [
      "Epoch 24/100\n",
      "\u001b[1m 23/561\u001b[0m \u001b[37m━━━━━━━━━━━━━━━━━━━━\u001b[0m \u001b[1m1:46\u001b[0m 197ms/step - accuracy: 0.9600 - auc: 0.9034 - f1_score: 0.6939 - loss: 0.1525 - precision: 0.8471 - recall: 0.6472"
     ]
    },
    {
     "name": "stderr",
     "output_type": "stream",
     "text": [
      "2025-04-19 17:34:06.499319: I tensorflow/core/kernels/data/shuffle_dataset_op.cc:452] ShuffleDatasetV3:10: Filling up shuffle buffer (this may take a while): 9164 of 25000\n",
      "2025-04-19 17:34:23.084090: I tensorflow/core/kernels/data/shuffle_dataset_op.cc:482] Shuffle buffer filled.\n",
      "2025-04-19 17:34:23.213205: W tensorflow/core/kernels/data/prefetch_autotuner.cc:52] Prefetch autotuner tried to allocate 77078016 bytes after encountering the first element of size 77078016 bytes.This already causes the autotune ram budget to be exceeded. To stay within the ram budget, either increase the ram budget or reduce element size\n"
     ]
    },
    {
     "name": "stdout",
     "output_type": "stream",
     "text": [
      "\u001b[1m318/561\u001b[0m \u001b[32m━━━━━━━━━━━\u001b[0m\u001b[37m━━━━━━━━━\u001b[0m \u001b[1m1:06\u001b[0m 275ms/step - accuracy: 0.9598 - auc: 0.9337 - f1_score: 0.6881 - loss: 0.1503 - precision: 0.8615 - recall: 0.6351"
     ]
    },
    {
     "name": "stderr",
     "output_type": "stream",
     "text": [
      "2025-04-19 17:35:22.443948: W tensorflow/core/lib/png/png_io.cc:92] PNG warning: iCCP: profile 'ICC Profile': 'GRAY': Gray color space not permitted on RGB PNG\n"
     ]
    },
    {
     "name": "stdout",
     "output_type": "stream",
     "text": [
      "\u001b[1m561/561\u001b[0m \u001b[32m━━━━━━━━━━━━━━━━━━━━\u001b[0m\u001b[37m\u001b[0m \u001b[1m0s\u001b[0m 247ms/step - accuracy: 0.9603 - auc: 0.9358 - f1_score: 0.6917 - loss: 0.1487 - precision: 0.8637 - recall: 0.6387  "
     ]
    },
    {
     "name": "stderr",
     "output_type": "stream",
     "text": [
      "2025-04-19 17:36:31 - INFO - \n",
      "=== Epoch 24 Summary ===\n",
      "2025-04-19 17:36:31 - INFO - Time: 156.89s\n",
      "2025-04-19 17:36:31 - INFO - Training   - accuracy: 0.9613 - auc: 0.9381 - f1_score: 0.6989 - loss: 0.1459 - precision: 0.8671 - recall: 0.6464 - learning_rate: 0.0000\n",
      "2025-04-19 17:36:31 - INFO - Validation - accuracy: 0.9169 - auc: 0.7104 - f1_score: 0.3892 - loss: 0.3508 - precision: 0.5174 - recall: 0.3630\n",
      "2025-04-19 17:36:31 - INFO - ==================================================\n",
      "\n"
     ]
    },
    {
     "name": "stdout",
     "output_type": "stream",
     "text": [
      "\u001b[1m561/561\u001b[0m \u001b[32m━━━━━━━━━━━━━━━━━━━━\u001b[0m\u001b[37m\u001b[0m \u001b[1m157s\u001b[0m 280ms/step - accuracy: 0.9603 - auc: 0.9358 - f1_score: 0.6918 - loss: 0.1487 - precision: 0.8637 - recall: 0.6388 - val_accuracy: 0.9169 - val_auc: 0.7104 - val_f1_score: 0.3892 - val_loss: 0.3508 - val_precision: 0.5174 - val_recall: 0.3630 - learning_rate: 6.2500e-06\n"
     ]
    },
    {
     "name": "stderr",
     "output_type": "stream",
     "text": [
      "2025-04-19 17:36:32 - INFO - \n",
      "=== Starting Epoch 25 ===\n",
      "\n"
     ]
    },
    {
     "name": "stdout",
     "output_type": "stream",
     "text": [
      "Epoch 25/100\n",
      "\u001b[1m 24/561\u001b[0m \u001b[37m━━━━━━━━━━━━━━━━━━━━\u001b[0m \u001b[1m1:56\u001b[0m 218ms/step - accuracy: 0.9615 - auc: 0.9300 - f1_score: 0.7087 - loss: 0.1444 - precision: 0.8624 - recall: 0.6584"
     ]
    },
    {
     "name": "stderr",
     "output_type": "stream",
     "text": [
      "2025-04-19 17:36:43.781624: I tensorflow/core/kernels/data/shuffle_dataset_op.cc:452] ShuffleDatasetV3:10: Filling up shuffle buffer (this may take a while): 8578 of 25000\n",
      "2025-04-19 17:37:03.107665: I tensorflow/core/kernels/data/shuffle_dataset_op.cc:482] Shuffle buffer filled.\n",
      "2025-04-19 17:37:03.265723: W tensorflow/core/kernels/data/prefetch_autotuner.cc:52] Prefetch autotuner tried to allocate 77078016 bytes after encountering the first element of size 77078016 bytes.This already causes the autotune ram budget to be exceeded. To stay within the ram budget, either increase the ram budget or reduce element size\n"
     ]
    },
    {
     "name": "stdout",
     "output_type": "stream",
     "text": [
      "\u001b[1m320/561\u001b[0m \u001b[32m━━━━━━━━━━━\u001b[0m\u001b[37m━━━━━━━━━\u001b[0m \u001b[1m1:15\u001b[0m 314ms/step - accuracy: 0.9631 - auc: 0.9429 - f1_score: 0.7155 - loss: 0.1412 - precision: 0.8732 - recall: 0.6660"
     ]
    },
    {
     "name": "stderr",
     "output_type": "stream",
     "text": [
      "2025-04-19 17:38:12.321721: W tensorflow/core/lib/png/png_io.cc:92] PNG warning: iCCP: profile 'ICC Profile': 'GRAY': Gray color space not permitted on RGB PNG\n"
     ]
    },
    {
     "name": "stdout",
     "output_type": "stream",
     "text": [
      "\u001b[1m561/561\u001b[0m \u001b[32m━━━━━━━━━━━━━━━━━━━━\u001b[0m\u001b[37m\u001b[0m \u001b[1m0s\u001b[0m 270ms/step - accuracy: 0.9633 - auc: 0.9435 - f1_score: 0.7176 - loss: 0.1405 - precision: 0.8742 - recall: 0.6680  "
     ]
    },
    {
     "name": "stderr",
     "output_type": "stream",
     "text": [
      "2025-04-19 17:39:03.941560: W tensorflow/core/kernels/data/prefetch_autotuner.cc:52] Prefetch autotuner tried to allocate 134225408 bytes after encountering the first element of size 134225408 bytes.This already causes the autotune ram budget to be exceeded. To stay within the ram budget, either increase the ram budget or reduce element size\n",
      "2025-04-19 17:39:18 - INFO - \n",
      "=== Epoch 25 Summary ===\n",
      "2025-04-19 17:39:18 - INFO - Time: 166.54s\n",
      "2025-04-19 17:39:18 - INFO - Training   - accuracy: 0.9638 - auc: 0.9456 - f1_score: 0.7231 - loss: 0.1389 - precision: 0.8757 - recall: 0.6735 - learning_rate: 0.0000\n",
      "2025-04-19 17:39:18 - INFO - Validation - accuracy: 0.9095 - auc: 0.6962 - f1_score: 0.3606 - loss: 0.3667 - precision: 0.4567 - recall: 0.3320\n",
      "2025-04-19 17:39:18 - INFO - ==================================================\n",
      "\n"
     ]
    },
    {
     "name": "stdout",
     "output_type": "stream",
     "text": [
      "\u001b[1m561/561\u001b[0m \u001b[32m━━━━━━━━━━━━━━━━━━━━\u001b[0m\u001b[37m\u001b[0m \u001b[1m167s\u001b[0m 297ms/step - accuracy: 0.9633 - auc: 0.9435 - f1_score: 0.7176 - loss: 0.1405 - precision: 0.8742 - recall: 0.6680 - val_accuracy: 0.9095 - val_auc: 0.6962 - val_f1_score: 0.3606 - val_loss: 0.3667 - val_precision: 0.4567 - val_recall: 0.3320 - learning_rate: 6.2500e-06\n"
     ]
    },
    {
     "name": "stderr",
     "output_type": "stream",
     "text": [
      "2025-04-19 17:39:18 - INFO - \n",
      "=== Starting Epoch 26 ===\n",
      "\n"
     ]
    },
    {
     "name": "stdout",
     "output_type": "stream",
     "text": [
      "Epoch 26/100\n",
      "\u001b[1m 25/561\u001b[0m \u001b[37m━━━━━━━━━━━━━━━━━━━━\u001b[0m \u001b[1m2:03\u001b[0m 231ms/step - accuracy: 0.9643 - auc: 0.9470 - f1_score: 0.7328 - loss: 0.1380 - precision: 0.8722 - recall: 0.6811"
     ]
    },
    {
     "name": "stderr",
     "output_type": "stream",
     "text": [
      "2025-04-19 17:39:30.472342: I tensorflow/core/kernels/data/shuffle_dataset_op.cc:452] ShuffleDatasetV3:10: Filling up shuffle buffer (this may take a while): 8872 of 25000\n",
      "2025-04-19 17:39:40.472756: I tensorflow/core/kernels/data/shuffle_dataset_op.cc:452] ShuffleDatasetV3:10: Filling up shuffle buffer (this may take a while): 17339 of 25000\n",
      "2025-04-19 17:39:49.446575: I tensorflow/core/kernels/data/shuffle_dataset_op.cc:482] Shuffle buffer filled.\n",
      "2025-04-19 17:39:49.639219: W tensorflow/core/kernels/data/prefetch_autotuner.cc:52] Prefetch autotuner tried to allocate 77078016 bytes after encountering the first element of size 77078016 bytes.This already causes the autotune ram budget to be exceeded. To stay within the ram budget, either increase the ram budget or reduce element size\n"
     ]
    },
    {
     "name": "stdout",
     "output_type": "stream",
     "text": [
      "\u001b[1m320/561\u001b[0m \u001b[32m━━━━━━━━━━━\u001b[0m\u001b[37m━━━━━━━━━\u001b[0m \u001b[1m1:10\u001b[0m 291ms/step - accuracy: 0.9657 - auc: 0.9475 - f1_score: 0.7403 - loss: 0.1347 - precision: 0.8818 - recall: 0.6925"
     ]
    },
    {
     "name": "stderr",
     "output_type": "stream",
     "text": [
      "2025-04-19 17:40:51.399069: W tensorflow/core/lib/png/png_io.cc:92] PNG warning: iCCP: profile 'ICC Profile': 'GRAY': Gray color space not permitted on RGB PNG\n"
     ]
    },
    {
     "name": "stdout",
     "output_type": "stream",
     "text": [
      "\u001b[1m561/561\u001b[0m \u001b[32m━━━━━━━━━━━━━━━━━━━━\u001b[0m\u001b[37m\u001b[0m \u001b[1m0s\u001b[0m 256ms/step - accuracy: 0.9660 - auc: 0.9483 - f1_score: 0.7428 - loss: 0.1338 - precision: 0.8833 - recall: 0.6954  "
     ]
    },
    {
     "name": "stderr",
     "output_type": "stream",
     "text": [
      "2025-04-19 17:41:42.377009: W tensorflow/core/kernels/data/prefetch_autotuner.cc:52] Prefetch autotuner tried to allocate 134225408 bytes after encountering the first element of size 134225408 bytes.This already causes the autotune ram budget to be exceeded. To stay within the ram budget, either increase the ram budget or reduce element size\n",
      "2025-04-19 17:41:57 - INFO - \n",
      "=== Epoch 26 Summary ===\n",
      "2025-04-19 17:41:57 - INFO - Time: 158.65s\n",
      "2025-04-19 17:41:57 - INFO - Training   - accuracy: 0.9666 - auc: 0.9492 - f1_score: 0.7474 - loss: 0.1323 - precision: 0.8851 - recall: 0.7009 - learning_rate: 0.0000\n",
      "2025-04-19 17:41:57 - INFO - Validation - accuracy: 0.9161 - auc: 0.7016 - f1_score: 0.3939 - loss: 0.3848 - precision: 0.5104 - recall: 0.3662\n",
      "2025-04-19 17:41:57 - INFO - ==================================================\n",
      "\n"
     ]
    },
    {
     "name": "stdout",
     "output_type": "stream",
     "text": [
      "\u001b[1m561/561\u001b[0m \u001b[32m━━━━━━━━━━━━━━━━━━━━\u001b[0m\u001b[37m\u001b[0m \u001b[1m159s\u001b[0m 283ms/step - accuracy: 0.9660 - auc: 0.9483 - f1_score: 0.7428 - loss: 0.1338 - precision: 0.8833 - recall: 0.6954 - val_accuracy: 0.9161 - val_auc: 0.7016 - val_f1_score: 0.3939 - val_loss: 0.3848 - val_precision: 0.5104 - val_recall: 0.3662 - learning_rate: 6.2500e-06\n"
     ]
    },
    {
     "name": "stderr",
     "output_type": "stream",
     "text": [
      "2025-04-19 17:41:57 - INFO - \n",
      "=== Starting Epoch 27 ===\n",
      "\n"
     ]
    },
    {
     "name": "stdout",
     "output_type": "stream",
     "text": [
      "Epoch 27/100\n",
      "\u001b[1m 26/561\u001b[0m \u001b[37m━━━━━━━━━━━━━━━━━━━━\u001b[0m \u001b[1m1:51\u001b[0m 208ms/step - accuracy: 0.9634 - auc: 0.9457 - f1_score: 0.7269 - loss: 0.1377 - precision: 0.8661 - recall: 0.6851"
     ]
    },
    {
     "name": "stderr",
     "output_type": "stream",
     "text": [
      "2025-04-19 17:42:09.410638: I tensorflow/core/kernels/data/shuffle_dataset_op.cc:452] ShuffleDatasetV3:10: Filling up shuffle buffer (this may take a while): 9164 of 25000\n",
      "2025-04-19 17:42:26.461039: I tensorflow/core/kernels/data/shuffle_dataset_op.cc:482] Shuffle buffer filled.\n",
      "2025-04-19 17:42:26.593475: W tensorflow/core/kernels/data/prefetch_autotuner.cc:52] Prefetch autotuner tried to allocate 77078016 bytes after encountering the first element of size 77078016 bytes.This already causes the autotune ram budget to be exceeded. To stay within the ram budget, either increase the ram budget or reduce element size\n"
     ]
    },
    {
     "name": "stdout",
     "output_type": "stream",
     "text": [
      "\u001b[1m321/561\u001b[0m \u001b[32m━━━━━━━━━━━\u001b[0m\u001b[37m━━━━━━━━━\u001b[0m \u001b[1m1:08\u001b[0m 284ms/step - accuracy: 0.9675 - auc: 0.9550 - f1_score: 0.7556 - loss: 0.1292 - precision: 0.8871 - recall: 0.7119"
     ]
    },
    {
     "name": "stderr",
     "output_type": "stream",
     "text": [
      "2025-04-19 17:43:28.280616: W tensorflow/core/lib/png/png_io.cc:92] PNG warning: iCCP: profile 'ICC Profile': 'GRAY': Gray color space not permitted on RGB PNG\n"
     ]
    },
    {
     "name": "stdout",
     "output_type": "stream",
     "text": [
      "\u001b[1m561/561\u001b[0m \u001b[32m━━━━━━━━━━━━━━━━━━━━\u001b[0m\u001b[37m\u001b[0m \u001b[1m0s\u001b[0m 252ms/step - accuracy: 0.9680 - auc: 0.9556 - f1_score: 0.7594 - loss: 0.1282 - precision: 0.8892 - recall: 0.7155  "
     ]
    },
    {
     "name": "stderr",
     "output_type": "stream",
     "text": [
      "2025-04-19 17:44:33 - INFO - \n",
      "=== Epoch 27 Summary ===\n",
      "2025-04-19 17:44:33 - INFO - Time: 155.93s\n",
      "2025-04-19 17:44:33 - INFO - Training   - accuracy: 0.9687 - auc: 0.9565 - f1_score: 0.7658 - loss: 0.1267 - precision: 0.8921 - recall: 0.7216 - learning_rate: 0.0000\n",
      "2025-04-19 17:44:33 - INFO - Validation - accuracy: 0.9089 - auc: 0.7039 - f1_score: 0.3761 - loss: 0.3772 - precision: 0.4522 - recall: 0.3321\n",
      "2025-04-19 17:44:33 - INFO - ==================================================\n",
      "\n"
     ]
    },
    {
     "name": "stdout",
     "output_type": "stream",
     "text": [
      "\u001b[1m561/561\u001b[0m \u001b[32m━━━━━━━━━━━━━━━━━━━━\u001b[0m\u001b[37m\u001b[0m \u001b[1m156s\u001b[0m 278ms/step - accuracy: 0.9680 - auc: 0.9556 - f1_score: 0.7594 - loss: 0.1282 - precision: 0.8892 - recall: 0.7156 - val_accuracy: 0.9089 - val_auc: 0.7039 - val_f1_score: 0.3761 - val_loss: 0.3772 - val_precision: 0.4522 - val_recall: 0.3321 - learning_rate: 6.2500e-06\n"
     ]
    },
    {
     "name": "stderr",
     "output_type": "stream",
     "text": [
      "2025-04-19 17:44:33 - INFO - \n",
      "=== Starting Epoch 28 ===\n",
      "\n"
     ]
    },
    {
     "name": "stdout",
     "output_type": "stream",
     "text": [
      "Epoch 28/100\n",
      "\u001b[1m 27/561\u001b[0m \u001b[37m━━━━━━━━━━━━━━━━━━━━\u001b[0m \u001b[1m1:50\u001b[0m 208ms/step - accuracy: 0.9712 - auc: 0.9453 - f1_score: 0.7862 - loss: 0.1235 - precision: 0.9063 - recall: 0.7415"
     ]
    },
    {
     "name": "stderr",
     "output_type": "stream",
     "text": [
      "2025-04-19 17:44:45.571273: I tensorflow/core/kernels/data/shuffle_dataset_op.cc:452] ShuffleDatasetV3:10: Filling up shuffle buffer (this may take a while): 9420 of 25000\n",
      "2025-04-19 17:45:01.877455: I tensorflow/core/kernels/data/shuffle_dataset_op.cc:482] Shuffle buffer filled.\n",
      "2025-04-19 17:45:02.010158: W tensorflow/core/kernels/data/prefetch_autotuner.cc:52] Prefetch autotuner tried to allocate 77078016 bytes after encountering the first element of size 77078016 bytes.This already causes the autotune ram budget to be exceeded. To stay within the ram budget, either increase the ram budget or reduce element size\n"
     ]
    },
    {
     "name": "stdout",
     "output_type": "stream",
     "text": [
      "\u001b[1m322/561\u001b[0m \u001b[32m━━━━━━━━━━━\u001b[0m\u001b[37m━━━━━━━━━\u001b[0m \u001b[1m1:06\u001b[0m 280ms/step - accuracy: 0.9705 - auc: 0.9594 - f1_score: 0.7815 - loss: 0.1230 - precision: 0.9001 - recall: 0.7385"
     ]
    },
    {
     "name": "stderr",
     "output_type": "stream",
     "text": [
      "2025-04-19 17:46:03.282998: W tensorflow/core/lib/png/png_io.cc:92] PNG warning: iCCP: profile 'ICC Profile': 'GRAY': Gray color space not permitted on RGB PNG\n"
     ]
    },
    {
     "name": "stdout",
     "output_type": "stream",
     "text": [
      "\u001b[1m561/561\u001b[0m \u001b[32m━━━━━━━━━━━━━━━━━━━━\u001b[0m\u001b[37m\u001b[0m \u001b[1m0s\u001b[0m 250ms/step - accuracy: 0.9706 - auc: 0.9600 - f1_score: 0.7826 - loss: 0.1225 - precision: 0.8999 - recall: 0.7399  "
     ]
    },
    {
     "name": "stderr",
     "output_type": "stream",
     "text": [
      "2025-04-19 17:47:07 - INFO - \n",
      "=== Epoch 28 Summary ===\n",
      "2025-04-19 17:47:07 - INFO - Time: 154.40s\n",
      "2025-04-19 17:47:07 - INFO - Training   - accuracy: 0.9709 - auc: 0.9601 - f1_score: 0.7853 - loss: 0.1214 - precision: 0.8996 - recall: 0.7431 - learning_rate: 0.0000\n",
      "2025-04-19 17:47:07 - INFO - Validation - accuracy: 0.9103 - auc: 0.6942 - f1_score: 0.3772 - loss: 0.3920 - precision: 0.4634 - recall: 0.3395\n",
      "2025-04-19 17:47:07 - INFO - ==================================================\n",
      "\n"
     ]
    },
    {
     "name": "stdout",
     "output_type": "stream",
     "text": [
      "\u001b[1m561/561\u001b[0m \u001b[32m━━━━━━━━━━━━━━━━━━━━\u001b[0m\u001b[37m\u001b[0m \u001b[1m154s\u001b[0m 275ms/step - accuracy: 0.9706 - auc: 0.9600 - f1_score: 0.7826 - loss: 0.1225 - precision: 0.8999 - recall: 0.7399 - val_accuracy: 0.9103 - val_auc: 0.6942 - val_f1_score: 0.3772 - val_loss: 0.3920 - val_precision: 0.4634 - val_recall: 0.3395 - learning_rate: 6.2500e-06\n"
     ]
    },
    {
     "name": "stderr",
     "output_type": "stream",
     "text": [
      "2025-04-19 17:47:07 - INFO - \n",
      "=== Starting Epoch 29 ===\n",
      "\n"
     ]
    },
    {
     "name": "stdout",
     "output_type": "stream",
     "text": [
      "Epoch 29/100\n",
      "\u001b[1m 28/561\u001b[0m \u001b[37m━━━━━━━━━━━━━━━━━━━━\u001b[0m \u001b[1m1:51\u001b[0m 208ms/step - accuracy: 0.9721 - auc: 0.9604 - f1_score: 0.7892 - loss: 0.1182 - precision: 0.9049 - recall: 0.7497"
     ]
    },
    {
     "name": "stderr",
     "output_type": "stream",
     "text": [
      "2025-04-19 17:47:20.191619: I tensorflow/core/kernels/data/shuffle_dataset_op.cc:452] ShuffleDatasetV3:10: Filling up shuffle buffer (this may take a while): 9885 of 25000\n",
      "2025-04-19 17:47:34.870082: I tensorflow/core/kernels/data/shuffle_dataset_op.cc:482] Shuffle buffer filled.\n",
      "2025-04-19 17:47:35.027935: W tensorflow/core/kernels/data/prefetch_autotuner.cc:52] Prefetch autotuner tried to allocate 77078016 bytes after encountering the first element of size 77078016 bytes.This already causes the autotune ram budget to be exceeded. To stay within the ram budget, either increase the ram budget or reduce element size\n"
     ]
    },
    {
     "name": "stdout",
     "output_type": "stream",
     "text": [
      "\u001b[1m323/561\u001b[0m \u001b[32m━━━━━━━━━━━\u001b[0m\u001b[37m━━━━━━━━━\u001b[0m \u001b[1m1:05\u001b[0m 275ms/step - accuracy: 0.9724 - auc: 0.9650 - f1_score: 0.7963 - loss: 0.1170 - precision: 0.9071 - recall: 0.7548"
     ]
    },
    {
     "name": "stderr",
     "output_type": "stream",
     "text": [
      "2025-04-19 17:48:36.369829: W tensorflow/core/lib/png/png_io.cc:92] PNG warning: iCCP: profile 'ICC Profile': 'GRAY': Gray color space not permitted on RGB PNG\n"
     ]
    },
    {
     "name": "stdout",
     "output_type": "stream",
     "text": [
      "\u001b[1m561/561\u001b[0m \u001b[32m━━━━━━━━━━━━━━━━━━━━\u001b[0m\u001b[37m\u001b[0m \u001b[1m0s\u001b[0m 247ms/step - accuracy: 0.9726 - auc: 0.9644 - f1_score: 0.7985 - loss: 0.1166 - precision: 0.9074 - recall: 0.7572  "
     ]
    },
    {
     "name": "stderr",
     "output_type": "stream",
     "text": [
      "2025-04-19 17:49:26.623087: W tensorflow/core/kernels/data/prefetch_autotuner.cc:52] Prefetch autotuner tried to allocate 134225408 bytes after encountering the first element of size 134225408 bytes.This already causes the autotune ram budget to be exceeded. To stay within the ram budget, either increase the ram budget or reduce element size\n"
     ]
    },
    {
     "name": "stdout",
     "output_type": "stream",
     "text": [
      "\n",
      "Epoch 29: ReduceLROnPlateau reducing learning rate to 3.12499992105586e-06.\n"
     ]
    },
    {
     "name": "stderr",
     "output_type": "stream",
     "text": [
      "2025-04-19 17:49:40 - INFO - \n",
      "=== Epoch 29 Summary ===\n",
      "2025-04-19 17:49:40 - INFO - Time: 152.63s\n",
      "2025-04-19 17:49:40 - INFO - Training   - accuracy: 0.9729 - auc: 0.9637 - f1_score: 0.8019 - loss: 0.1159 - precision: 0.9070 - recall: 0.7615 - learning_rate: 0.0000\n",
      "2025-04-19 17:49:40 - INFO - Validation - accuracy: 0.9104 - auc: 0.6891 - f1_score: 0.3745 - loss: 0.4176 - precision: 0.4660 - recall: 0.3578\n",
      "2025-04-19 17:49:40 - INFO - ==================================================\n",
      "\n"
     ]
    },
    {
     "name": "stdout",
     "output_type": "stream",
     "text": [
      "\u001b[1m561/561\u001b[0m \u001b[32m━━━━━━━━━━━━━━━━━━━━\u001b[0m\u001b[37m\u001b[0m \u001b[1m153s\u001b[0m 272ms/step - accuracy: 0.9726 - auc: 0.9644 - f1_score: 0.7985 - loss: 0.1166 - precision: 0.9074 - recall: 0.7572 - val_accuracy: 0.9104 - val_auc: 0.6891 - val_f1_score: 0.3745 - val_loss: 0.4176 - val_precision: 0.4660 - val_recall: 0.3578 - learning_rate: 6.2500e-06\n"
     ]
    },
    {
     "name": "stderr",
     "output_type": "stream",
     "text": [
      "2025-04-19 17:49:40 - INFO - \n",
      "=== Starting Epoch 30 ===\n",
      "\n"
     ]
    },
    {
     "name": "stdout",
     "output_type": "stream",
     "text": [
      "Epoch 30/100\n",
      "\u001b[1m 29/561\u001b[0m \u001b[32m━\u001b[0m\u001b[37m━━━━━━━━━━━━━━━━━━━\u001b[0m \u001b[1m1:50\u001b[0m 208ms/step - accuracy: 0.9734 - auc: 0.9490 - f1_score: 0.8090 - loss: 0.1151 - precision: 0.9171 - recall: 0.7627"
     ]
    },
    {
     "name": "stderr",
     "output_type": "stream",
     "text": [
      "2025-04-19 17:49:53.028616: I tensorflow/core/kernels/data/shuffle_dataset_op.cc:452] ShuffleDatasetV3:10: Filling up shuffle buffer (this may take a while): 9949 of 25000\n",
      "2025-04-19 17:50:08.204645: I tensorflow/core/kernels/data/shuffle_dataset_op.cc:482] Shuffle buffer filled.\n",
      "2025-04-19 17:50:08.347006: W tensorflow/core/kernels/data/prefetch_autotuner.cc:52] Prefetch autotuner tried to allocate 77078016 bytes after encountering the first element of size 77078016 bytes.This already causes the autotune ram budget to be exceeded. To stay within the ram budget, either increase the ram budget or reduce element size\n"
     ]
    },
    {
     "name": "stdout",
     "output_type": "stream",
     "text": [
      "\u001b[1m324/561\u001b[0m \u001b[32m━━━━━━━━━━━\u001b[0m\u001b[37m━━━━━━━━━\u001b[0m \u001b[1m1:05\u001b[0m 277ms/step - accuracy: 0.9751 - auc: 0.9672 - f1_score: 0.8192 - loss: 0.1112 - precision: 0.9191 - recall: 0.7796"
     ]
    },
    {
     "name": "stderr",
     "output_type": "stream",
     "text": [
      "2025-04-19 17:51:09.859618: W tensorflow/core/lib/png/png_io.cc:92] PNG warning: iCCP: profile 'ICC Profile': 'GRAY': Gray color space not permitted on RGB PNG\n"
     ]
    },
    {
     "name": "stdout",
     "output_type": "stream",
     "text": [
      "\u001b[1m561/561\u001b[0m \u001b[32m━━━━━━━━━━━━━━━━━━━━\u001b[0m\u001b[37m\u001b[0m \u001b[1m0s\u001b[0m 249ms/step - accuracy: 0.9756 - auc: 0.9687 - f1_score: 0.8225 - loss: 0.1099 - precision: 0.9203 - recall: 0.7837  "
     ]
    },
    {
     "name": "stderr",
     "output_type": "stream",
     "text": [
      "2025-04-19 17:52:13 - INFO - \n",
      "=== Epoch 30 Summary ===\n",
      "2025-04-19 17:52:13 - INFO - Time: 153.29s\n",
      "2025-04-19 17:52:13 - INFO - Training   - accuracy: 0.9765 - auc: 0.9713 - f1_score: 0.8297 - loss: 0.1075 - precision: 0.9225 - recall: 0.7923 - learning_rate: 0.0000\n",
      "2025-04-19 17:52:13 - INFO - Validation - accuracy: 0.9099 - auc: 0.6843 - f1_score: 0.3796 - loss: 0.4223 - precision: 0.4617 - recall: 0.3521\n",
      "2025-04-19 17:52:13 - INFO - ==================================================\n",
      "\n"
     ]
    },
    {
     "name": "stdout",
     "output_type": "stream",
     "text": [
      "\u001b[1m561/561\u001b[0m \u001b[32m━━━━━━━━━━━━━━━━━━━━\u001b[0m\u001b[37m\u001b[0m \u001b[1m153s\u001b[0m 273ms/step - accuracy: 0.9756 - auc: 0.9687 - f1_score: 0.8225 - loss: 0.1099 - precision: 0.9203 - recall: 0.7837 - val_accuracy: 0.9099 - val_auc: 0.6843 - val_f1_score: 0.3796 - val_loss: 0.4223 - val_precision: 0.4617 - val_recall: 0.3521 - learning_rate: 3.1250e-06\n"
     ]
    },
    {
     "name": "stderr",
     "output_type": "stream",
     "text": [
      "2025-04-19 17:52:13 - INFO - \n",
      "=== Starting Epoch 31 ===\n",
      "\n"
     ]
    },
    {
     "name": "stdout",
     "output_type": "stream",
     "text": [
      "Epoch 31/100\n",
      "\u001b[1m 30/561\u001b[0m \u001b[32m━\u001b[0m\u001b[37m━━━━━━━━━━━━━━━━━━━\u001b[0m \u001b[1m1:50\u001b[0m 207ms/step - accuracy: 0.9762 - auc: 0.9657 - f1_score: 0.8236 - loss: 0.1065 - precision: 0.9179 - recall: 0.7914"
     ]
    },
    {
     "name": "stderr",
     "output_type": "stream",
     "text": [
      "2025-04-19 17:52:26.547534: I tensorflow/core/kernels/data/shuffle_dataset_op.cc:452] ShuffleDatasetV3:10: Filling up shuffle buffer (this may take a while): 10529 of 25000\n",
      "2025-04-19 17:52:40.140317: I tensorflow/core/kernels/data/shuffle_dataset_op.cc:482] Shuffle buffer filled.\n",
      "2025-04-19 17:52:40.281648: W tensorflow/core/kernels/data/prefetch_autotuner.cc:52] Prefetch autotuner tried to allocate 77078016 bytes after encountering the first element of size 77078016 bytes.This already causes the autotune ram budget to be exceeded. To stay within the ram budget, either increase the ram budget or reduce element size\n"
     ]
    },
    {
     "name": "stdout",
     "output_type": "stream",
     "text": [
      "\u001b[1m325/561\u001b[0m \u001b[32m━━━━━━━━━━━\u001b[0m\u001b[37m━━━━━━━━━\u001b[0m \u001b[1m1:04\u001b[0m 272ms/step - accuracy: 0.9776 - auc: 0.9705 - f1_score: 0.8381 - loss: 0.1047 - precision: 0.9266 - recall: 0.8027"
     ]
    },
    {
     "name": "stderr",
     "output_type": "stream",
     "text": [
      "2025-04-19 17:53:41.639559: W tensorflow/core/lib/png/png_io.cc:92] PNG warning: iCCP: profile 'ICC Profile': 'GRAY': Gray color space not permitted on RGB PNG\n"
     ]
    },
    {
     "name": "stdout",
     "output_type": "stream",
     "text": [
      "\u001b[1m561/561\u001b[0m \u001b[32m━━━━━━━━━━━━━━━━━━━━\u001b[0m\u001b[37m\u001b[0m \u001b[1m0s\u001b[0m 246ms/step - accuracy: 0.9779 - auc: 0.9716 - f1_score: 0.8404 - loss: 0.1040 - precision: 0.9275 - recall: 0.8052  "
     ]
    },
    {
     "name": "stderr",
     "output_type": "stream",
     "text": [
      "2025-04-19 17:54:45 - INFO - \n",
      "=== Epoch 31 Summary ===\n",
      "2025-04-19 17:54:45 - INFO - Time: 151.54s\n",
      "2025-04-19 17:54:45 - INFO - Training   - accuracy: 0.9783 - auc: 0.9732 - f1_score: 0.8440 - loss: 0.1029 - precision: 0.9283 - recall: 0.8091 - learning_rate: 0.0000\n",
      "2025-04-19 17:54:45 - INFO - Validation - accuracy: 0.9128 - auc: 0.6809 - f1_score: 0.3891 - loss: 0.4313 - precision: 0.4847 - recall: 0.3706\n",
      "2025-04-19 17:54:45 - INFO - ==================================================\n",
      "\n"
     ]
    },
    {
     "name": "stdout",
     "output_type": "stream",
     "text": [
      "\u001b[1m561/561\u001b[0m \u001b[32m━━━━━━━━━━━━━━━━━━━━\u001b[0m\u001b[37m\u001b[0m \u001b[1m152s\u001b[0m 270ms/step - accuracy: 0.9779 - auc: 0.9716 - f1_score: 0.8405 - loss: 0.1040 - precision: 0.9275 - recall: 0.8052 - val_accuracy: 0.9128 - val_auc: 0.6809 - val_f1_score: 0.3891 - val_loss: 0.4313 - val_precision: 0.4847 - val_recall: 0.3706 - learning_rate: 3.1250e-06\n"
     ]
    },
    {
     "name": "stderr",
     "output_type": "stream",
     "text": [
      "2025-04-19 17:54:45 - INFO - \n",
      "=== Starting Epoch 32 ===\n",
      "\n"
     ]
    },
    {
     "name": "stdout",
     "output_type": "stream",
     "text": [
      "Epoch 32/100\n",
      "\u001b[1m 31/561\u001b[0m \u001b[32m━\u001b[0m\u001b[37m━━━━━━━━━━━━━━━━━━━\u001b[0m \u001b[1m1:49\u001b[0m 207ms/step - accuracy: 0.9770 - auc: 0.9670 - f1_score: 0.8411 - loss: 0.1055 - precision: 0.9144 - recall: 0.8085"
     ]
    },
    {
     "name": "stderr",
     "output_type": "stream",
     "text": [
      "2025-04-19 17:54:58.291141: I tensorflow/core/kernels/data/shuffle_dataset_op.cc:452] ShuffleDatasetV3:10: Filling up shuffle buffer (this may take a while): 10447 of 25000\n",
      "2025-04-19 17:55:12.218668: I tensorflow/core/kernels/data/shuffle_dataset_op.cc:482] Shuffle buffer filled.\n",
      "2025-04-19 17:55:12.344494: W tensorflow/core/kernels/data/prefetch_autotuner.cc:52] Prefetch autotuner tried to allocate 77078016 bytes after encountering the first element of size 77078016 bytes.This already causes the autotune ram budget to be exceeded. To stay within the ram budget, either increase the ram budget or reduce element size\n"
     ]
    },
    {
     "name": "stdout",
     "output_type": "stream",
     "text": [
      "\u001b[1m326/561\u001b[0m \u001b[32m━━━━━━━━━━━\u001b[0m\u001b[37m━━━━━━━━━\u001b[0m \u001b[1m1:04\u001b[0m 273ms/step - accuracy: 0.9784 - auc: 0.9718 - f1_score: 0.8468 - loss: 0.1029 - precision: 0.9263 - recall: 0.8127"
     ]
    },
    {
     "name": "stderr",
     "output_type": "stream",
     "text": [
      "2025-04-19 17:56:13.830277: W tensorflow/core/lib/png/png_io.cc:92] PNG warning: iCCP: profile 'ICC Profile': 'GRAY': Gray color space not permitted on RGB PNG\n"
     ]
    },
    {
     "name": "stdout",
     "output_type": "stream",
     "text": [
      "\u001b[1m561/561\u001b[0m \u001b[32m━━━━━━━━━━━━━━━━━━━━\u001b[0m\u001b[37m\u001b[0m \u001b[1m0s\u001b[0m 246ms/step - accuracy: 0.9787 - auc: 0.9726 - f1_score: 0.8490 - loss: 0.1021 - precision: 0.9280 - recall: 0.8150  \n",
      "Epoch 32: ReduceLROnPlateau reducing learning rate to 1.56249996052793e-06.\n"
     ]
    },
    {
     "name": "stderr",
     "output_type": "stream",
     "text": [
      "2025-04-19 17:57:17 - INFO - \n",
      "=== Epoch 32 Summary ===\n",
      "2025-04-19 17:57:17 - INFO - Time: 152.86s\n",
      "2025-04-19 17:57:17 - INFO - Training   - accuracy: 0.9793 - auc: 0.9736 - f1_score: 0.8533 - loss: 0.1006 - precision: 0.9311 - recall: 0.8194 - learning_rate: 0.0000\n",
      "2025-04-19 17:57:17 - INFO - Validation - accuracy: 0.9073 - auc: 0.6712 - f1_score: 0.3807 - loss: 0.4598 - precision: 0.4457 - recall: 0.3654\n",
      "2025-04-19 17:57:17 - INFO - ==================================================\n",
      "\n"
     ]
    },
    {
     "name": "stdout",
     "output_type": "stream",
     "text": [
      "\u001b[1m561/561\u001b[0m \u001b[32m━━━━━━━━━━━━━━━━━━━━\u001b[0m\u001b[37m\u001b[0m \u001b[1m153s\u001b[0m 273ms/step - accuracy: 0.9787 - auc: 0.9726 - f1_score: 0.8490 - loss: 0.1021 - precision: 0.9280 - recall: 0.8150 - val_accuracy: 0.9073 - val_auc: 0.6712 - val_f1_score: 0.3807 - val_loss: 0.4598 - val_precision: 0.4457 - val_recall: 0.3654 - learning_rate: 3.1250e-06\n"
     ]
    },
    {
     "name": "stderr",
     "output_type": "stream",
     "text": [
      "2025-04-19 17:57:18 - INFO - \n",
      "=== Starting Epoch 33 ===\n",
      "\n"
     ]
    },
    {
     "name": "stdout",
     "output_type": "stream",
     "text": [
      "Epoch 33/100\n",
      "\u001b[1m 32/561\u001b[0m \u001b[32m━\u001b[0m\u001b[37m━━━━━━━━━━━━━━━━━━━\u001b[0m \u001b[1m1:49\u001b[0m 208ms/step - accuracy: 0.9799 - auc: 0.9769 - f1_score: 0.8586 - loss: 0.0986 - precision: 0.9272 - recall: 0.8273"
     ]
    },
    {
     "name": "stderr",
     "output_type": "stream",
     "text": [
      "2025-04-19 17:57:31.368375: I tensorflow/core/kernels/data/shuffle_dataset_op.cc:452] ShuffleDatasetV3:10: Filling up shuffle buffer (this may take a while): 10516 of 25000\n",
      "2025-04-19 17:57:44.887684: I tensorflow/core/kernels/data/shuffle_dataset_op.cc:482] Shuffle buffer filled.\n",
      "2025-04-19 17:57:45.014892: W tensorflow/core/kernels/data/prefetch_autotuner.cc:52] Prefetch autotuner tried to allocate 77078016 bytes after encountering the first element of size 77078016 bytes.This already causes the autotune ram budget to be exceeded. To stay within the ram budget, either increase the ram budget or reduce element size\n"
     ]
    },
    {
     "name": "stdout",
     "output_type": "stream",
     "text": [
      "\u001b[1m327/561\u001b[0m \u001b[32m━━━━━━━━━━━\u001b[0m\u001b[37m━━━━━━━━━\u001b[0m \u001b[1m1:03\u001b[0m 271ms/step - accuracy: 0.9803 - auc: 0.9780 - f1_score: 0.8606 - loss: 0.0980 - precision: 0.9355 - recall: 0.8279"
     ]
    },
    {
     "name": "stderr",
     "output_type": "stream",
     "text": [
      "2025-04-19 17:58:46.364989: W tensorflow/core/lib/png/png_io.cc:92] PNG warning: iCCP: profile 'ICC Profile': 'GRAY': Gray color space not permitted on RGB PNG\n"
     ]
    },
    {
     "name": "stdout",
     "output_type": "stream",
     "text": [
      "\u001b[1m561/561\u001b[0m \u001b[32m━━━━━━━━━━━━━━━━━━━━\u001b[0m\u001b[37m\u001b[0m \u001b[1m0s\u001b[0m 245ms/step - accuracy: 0.9807 - auc: 0.9780 - f1_score: 0.8630 - loss: 0.0973 - precision: 0.9374 - recall: 0.8302  "
     ]
    },
    {
     "name": "stderr",
     "output_type": "stream",
     "text": [
      "2025-04-19 17:59:35.811038: W tensorflow/core/kernels/data/prefetch_autotuner.cc:52] Prefetch autotuner tried to allocate 134225408 bytes after encountering the first element of size 134225408 bytes.This already causes the autotune ram budget to be exceeded. To stay within the ram budget, either increase the ram budget or reduce element size\n",
      "2025-04-19 17:59:50 - INFO - \n",
      "=== Epoch 33 Summary ===\n",
      "2025-04-19 17:59:50 - INFO - Time: 152.03s\n",
      "2025-04-19 17:59:50 - INFO - Training   - accuracy: 0.9814 - auc: 0.9781 - f1_score: 0.8679 - loss: 0.0958 - precision: 0.9406 - recall: 0.8352 - learning_rate: 0.0000\n",
      "2025-04-19 17:59:50 - INFO - Validation - accuracy: 0.9118 - auc: 0.6690 - f1_score: 0.3965 - loss: 0.4430 - precision: 0.4771 - recall: 0.3733\n",
      "2025-04-19 17:59:50 - INFO - ==================================================\n",
      "\n"
     ]
    },
    {
     "name": "stdout",
     "output_type": "stream",
     "text": [
      "\u001b[1m561/561\u001b[0m \u001b[32m━━━━━━━━━━━━━━━━━━━━\u001b[0m\u001b[37m\u001b[0m \u001b[1m152s\u001b[0m 271ms/step - accuracy: 0.9807 - auc: 0.9780 - f1_score: 0.8630 - loss: 0.0973 - precision: 0.9374 - recall: 0.8302 - val_accuracy: 0.9118 - val_auc: 0.6690 - val_f1_score: 0.3965 - val_loss: 0.4430 - val_precision: 0.4771 - val_recall: 0.3733 - learning_rate: 1.5625e-06\n"
     ]
    },
    {
     "name": "stderr",
     "output_type": "stream",
     "text": [
      "2025-04-19 17:59:50 - INFO - \n",
      "=== Starting Epoch 34 ===\n",
      "\n"
     ]
    },
    {
     "name": "stdout",
     "output_type": "stream",
     "text": [
      "Epoch 34/100\n",
      "\u001b[1m 33/561\u001b[0m \u001b[32m━\u001b[0m\u001b[37m━━━━━━━━━━━━━━━━━━━\u001b[0m \u001b[1m1:49\u001b[0m 207ms/step - accuracy: 0.9831 - auc: 0.9759 - f1_score: 0.8796 - loss: 0.0924 - precision: 0.9545 - recall: 0.8430"
     ]
    },
    {
     "name": "stderr",
     "output_type": "stream",
     "text": [
      "2025-04-19 18:00:03.654582: I tensorflow/core/kernels/data/shuffle_dataset_op.cc:452] ShuffleDatasetV3:10: Filling up shuffle buffer (this may take a while): 10552 of 25000\n",
      "2025-04-19 18:00:17.300202: I tensorflow/core/kernels/data/shuffle_dataset_op.cc:482] Shuffle buffer filled.\n",
      "2025-04-19 18:00:17.419622: W tensorflow/core/kernels/data/prefetch_autotuner.cc:52] Prefetch autotuner tried to allocate 77078016 bytes after encountering the first element of size 77078016 bytes.This already causes the autotune ram budget to be exceeded. To stay within the ram budget, either increase the ram budget or reduce element size\n"
     ]
    },
    {
     "name": "stdout",
     "output_type": "stream",
     "text": [
      "\u001b[1m328/561\u001b[0m \u001b[32m━━━━━━━━━━━\u001b[0m\u001b[37m━━━━━━━━━\u001b[0m \u001b[1m1:03\u001b[0m 271ms/step - accuracy: 0.9821 - auc: 0.9785 - f1_score: 0.8730 - loss: 0.0944 - precision: 0.9464 - recall: 0.8390"
     ]
    },
    {
     "name": "stderr",
     "output_type": "stream",
     "text": [
      "2025-04-19 18:01:18.719761: W tensorflow/core/lib/png/png_io.cc:92] PNG warning: iCCP: profile 'ICC Profile': 'GRAY': Gray color space not permitted on RGB PNG\n"
     ]
    },
    {
     "name": "stdout",
     "output_type": "stream",
     "text": [
      "\u001b[1m561/561\u001b[0m \u001b[32m━━━━━━━━━━━━━━━━━━━━\u001b[0m\u001b[37m\u001b[0m \u001b[1m0s\u001b[0m 246ms/step - accuracy: 0.9822 - auc: 0.9787 - f1_score: 0.8741 - loss: 0.0941 - precision: 0.9459 - recall: 0.8408  "
     ]
    },
    {
     "name": "stderr",
     "output_type": "stream",
     "text": [
      "2025-04-19 18:02:21 - INFO - \n",
      "=== Epoch 34 Summary ===\n",
      "2025-04-19 18:02:21 - INFO - Time: 151.44s\n",
      "2025-04-19 18:02:21 - INFO - Training   - accuracy: 0.9824 - auc: 0.9789 - f1_score: 0.8760 - loss: 0.0936 - precision: 0.9449 - recall: 0.8438 - learning_rate: 0.0000\n",
      "2025-04-19 18:02:21 - INFO - Validation - accuracy: 0.9118 - auc: 0.6729 - f1_score: 0.3906 - loss: 0.4425 - precision: 0.4766 - recall: 0.3671\n",
      "2025-04-19 18:02:21 - INFO - ==================================================\n",
      "\n"
     ]
    },
    {
     "name": "stdout",
     "output_type": "stream",
     "text": [
      "\u001b[1m561/561\u001b[0m \u001b[32m━━━━━━━━━━━━━━━━━━━━\u001b[0m\u001b[37m\u001b[0m \u001b[1m151s\u001b[0m 270ms/step - accuracy: 0.9822 - auc: 0.9787 - f1_score: 0.8741 - loss: 0.0941 - precision: 0.9459 - recall: 0.8408 - val_accuracy: 0.9118 - val_auc: 0.6729 - val_f1_score: 0.3906 - val_loss: 0.4425 - val_precision: 0.4766 - val_recall: 0.3671 - learning_rate: 1.5625e-06\n"
     ]
    },
    {
     "name": "stderr",
     "output_type": "stream",
     "text": [
      "2025-04-19 18:02:21 - INFO - \n",
      "=== Starting Epoch 35 ===\n",
      "\n"
     ]
    },
    {
     "name": "stdout",
     "output_type": "stream",
     "text": [
      "Epoch 35/100\n",
      "\u001b[1m 34/561\u001b[0m \u001b[32m━\u001b[0m\u001b[37m━━━━━━━━━━━━━━━━━━━\u001b[0m \u001b[1m1:49\u001b[0m 207ms/step - accuracy: 0.9824 - auc: 0.9711 - f1_score: 0.8752 - loss: 0.0935 - precision: 0.9469 - recall: 0.8429"
     ]
    },
    {
     "name": "stderr",
     "output_type": "stream",
     "text": [
      "2025-04-19 18:02:35.310776: I tensorflow/core/kernels/data/shuffle_dataset_op.cc:452] ShuffleDatasetV3:10: Filling up shuffle buffer (this may take a while): 10913 of 25000\n",
      "2025-04-19 18:02:48.270252: I tensorflow/core/kernels/data/shuffle_dataset_op.cc:482] Shuffle buffer filled.\n",
      "2025-04-19 18:02:48.412081: W tensorflow/core/kernels/data/prefetch_autotuner.cc:52] Prefetch autotuner tried to allocate 77078016 bytes after encountering the first element of size 77078016 bytes.This already causes the autotune ram budget to be exceeded. To stay within the ram budget, either increase the ram budget or reduce element size\n"
     ]
    },
    {
     "name": "stdout",
     "output_type": "stream",
     "text": [
      "\u001b[1m329/561\u001b[0m \u001b[32m━━━━━━━━━━━\u001b[0m\u001b[37m━━━━━━━━━\u001b[0m \u001b[1m1:02\u001b[0m 269ms/step - accuracy: 0.9822 - auc: 0.9785 - f1_score: 0.8747 - loss: 0.0936 - precision: 0.9441 - recall: 0.8428"
     ]
    },
    {
     "name": "stderr",
     "output_type": "stream",
     "text": [
      "2025-04-19 18:03:49.693252: W tensorflow/core/lib/png/png_io.cc:92] PNG warning: iCCP: profile 'ICC Profile': 'GRAY': Gray color space not permitted on RGB PNG\n"
     ]
    },
    {
     "name": "stdout",
     "output_type": "stream",
     "text": [
      "\u001b[1m561/561\u001b[0m \u001b[32m━━━━━━━━━━━━━━━━━━━━\u001b[0m\u001b[37m\u001b[0m \u001b[1m0s\u001b[0m 244ms/step - accuracy: 0.9825 - auc: 0.9790 - f1_score: 0.8766 - loss: 0.0931 - precision: 0.9446 - recall: 0.8451  "
     ]
    },
    {
     "name": "stderr",
     "output_type": "stream",
     "text": [
      "2025-04-19 18:04:52 - INFO - \n",
      "=== Epoch 35 Summary ===\n",
      "2025-04-19 18:04:52 - INFO - Time: 150.89s\n",
      "2025-04-19 18:04:52 - INFO - Training   - accuracy: 0.9829 - auc: 0.9803 - f1_score: 0.8803 - loss: 0.0921 - precision: 0.9455 - recall: 0.8495 - learning_rate: 0.0000\n",
      "2025-04-19 18:04:52 - INFO - Validation - accuracy: 0.9153 - auc: 0.6647 - f1_score: 0.3849 - loss: 0.4583 - precision: 0.5038 - recall: 0.3714\n",
      "2025-04-19 18:04:52 - INFO - ==================================================\n",
      "\n"
     ]
    },
    {
     "name": "stdout",
     "output_type": "stream",
     "text": [
      "\u001b[1m561/561\u001b[0m \u001b[32m━━━━━━━━━━━━━━━━━━━━\u001b[0m\u001b[37m\u001b[0m \u001b[1m151s\u001b[0m 269ms/step - accuracy: 0.9825 - auc: 0.9790 - f1_score: 0.8766 - loss: 0.0931 - precision: 0.9446 - recall: 0.8451 - val_accuracy: 0.9153 - val_auc: 0.6647 - val_f1_score: 0.3849 - val_loss: 0.4583 - val_precision: 0.5038 - val_recall: 0.3714 - learning_rate: 1.5625e-06\n"
     ]
    },
    {
     "name": "stderr",
     "output_type": "stream",
     "text": [
      "2025-04-19 18:04:52 - INFO - \n",
      "=== Starting Epoch 36 ===\n",
      "\n"
     ]
    },
    {
     "name": "stdout",
     "output_type": "stream",
     "text": [
      "Epoch 36/100\n",
      "\u001b[1m 35/561\u001b[0m \u001b[32m━\u001b[0m\u001b[37m━━━━━━━━━━━━━━━━━━━\u001b[0m \u001b[1m1:49\u001b[0m 207ms/step - accuracy: 0.9830 - auc: 0.9730 - f1_score: 0.8823 - loss: 0.0924 - precision: 0.9490 - recall: 0.8482"
     ]
    },
    {
     "name": "stderr",
     "output_type": "stream",
     "text": [
      "2025-04-19 18:05:06.404979: I tensorflow/core/kernels/data/shuffle_dataset_op.cc:452] ShuffleDatasetV3:10: Filling up shuffle buffer (this may take a while): 10802 of 25000\n",
      "2025-04-19 18:05:19.417451: I tensorflow/core/kernels/data/shuffle_dataset_op.cc:482] Shuffle buffer filled.\n",
      "2025-04-19 18:05:19.549242: W tensorflow/core/kernels/data/prefetch_autotuner.cc:52] Prefetch autotuner tried to allocate 77078016 bytes after encountering the first element of size 77078016 bytes.This already causes the autotune ram budget to be exceeded. To stay within the ram budget, either increase the ram budget or reduce element size\n"
     ]
    },
    {
     "name": "stdout",
     "output_type": "stream",
     "text": [
      "\u001b[1m330/561\u001b[0m \u001b[32m━━━━━━━━━━━\u001b[0m\u001b[37m━━━━━━━━━\u001b[0m \u001b[1m1:02\u001b[0m 269ms/step - accuracy: 0.9834 - auc: 0.9788 - f1_score: 0.8835 - loss: 0.0909 - precision: 0.9477 - recall: 0.8529"
     ]
    },
    {
     "name": "stderr",
     "output_type": "stream",
     "text": [
      "2025-04-19 18:06:20.923812: W tensorflow/core/lib/png/png_io.cc:92] PNG warning: iCCP: profile 'ICC Profile': 'GRAY': Gray color space not permitted on RGB PNG\n"
     ]
    },
    {
     "name": "stdout",
     "output_type": "stream",
     "text": [
      "\u001b[1m561/561\u001b[0m \u001b[32m━━━━━━━━━━━━━━━━━━━━\u001b[0m\u001b[37m\u001b[0m \u001b[1m0s\u001b[0m 245ms/step - accuracy: 0.9835 - auc: 0.9796 - f1_score: 0.8842 - loss: 0.0907 - precision: 0.9478 - recall: 0.8539  \n",
      "Epoch 36: ReduceLROnPlateau reducing learning rate to 1e-06.\n"
     ]
    },
    {
     "name": "stderr",
     "output_type": "stream",
     "text": [
      "2025-04-19 18:07:23 - INFO - \n",
      "=== Epoch 36 Summary ===\n",
      "2025-04-19 18:07:23 - INFO - Time: 150.93s\n",
      "2025-04-19 18:07:23 - INFO - Training   - accuracy: 0.9837 - auc: 0.9809 - f1_score: 0.8858 - loss: 0.0902 - precision: 0.9486 - recall: 0.8558 - learning_rate: 0.0000\n",
      "2025-04-19 18:07:23 - INFO - Validation - accuracy: 0.9116 - auc: 0.6657 - f1_score: 0.3924 - loss: 0.4528 - precision: 0.4756 - recall: 0.3732\n",
      "2025-04-19 18:07:23 - INFO - ==================================================\n",
      "\n"
     ]
    },
    {
     "name": "stdout",
     "output_type": "stream",
     "text": [
      "\u001b[1m561/561\u001b[0m \u001b[32m━━━━━━━━━━━━━━━━━━━━\u001b[0m\u001b[37m\u001b[0m \u001b[1m151s\u001b[0m 269ms/step - accuracy: 0.9835 - auc: 0.9796 - f1_score: 0.8842 - loss: 0.0907 - precision: 0.9478 - recall: 0.8539 - val_accuracy: 0.9116 - val_auc: 0.6657 - val_f1_score: 0.3924 - val_loss: 0.4528 - val_precision: 0.4756 - val_recall: 0.3732 - learning_rate: 1.5625e-06\n"
     ]
    },
    {
     "name": "stderr",
     "output_type": "stream",
     "text": [
      "2025-04-19 18:07:23 - INFO - \n",
      "=== Starting Epoch 37 ===\n",
      "\n"
     ]
    },
    {
     "name": "stdout",
     "output_type": "stream",
     "text": [
      "Epoch 37/100\n",
      "\u001b[1m 36/561\u001b[0m \u001b[32m━\u001b[0m\u001b[37m━━━━━━━━━━━━━━━━━━━\u001b[0m \u001b[1m1:48\u001b[0m 207ms/step - accuracy: 0.9833 - auc: 0.9733 - f1_score: 0.8823 - loss: 0.0909 - precision: 0.9501 - recall: 0.8511"
     ]
    },
    {
     "name": "stderr",
     "output_type": "stream",
     "text": [
      "2025-04-19 18:07:37.548124: I tensorflow/core/kernels/data/shuffle_dataset_op.cc:452] ShuffleDatasetV3:10: Filling up shuffle buffer (this may take a while): 10957 of 25000\n",
      "2025-04-19 18:07:50.221769: I tensorflow/core/kernels/data/shuffle_dataset_op.cc:482] Shuffle buffer filled.\n",
      "2025-04-19 18:07:50.340592: W tensorflow/core/kernels/data/prefetch_autotuner.cc:52] Prefetch autotuner tried to allocate 77078016 bytes after encountering the first element of size 77078016 bytes.This already causes the autotune ram budget to be exceeded. To stay within the ram budget, either increase the ram budget or reduce element size\n"
     ]
    },
    {
     "name": "stdout",
     "output_type": "stream",
     "text": [
      "\u001b[1m331/561\u001b[0m \u001b[32m━━━━━━━━━━━\u001b[0m\u001b[37m━━━━━━━━━\u001b[0m \u001b[1m1:01\u001b[0m 267ms/step - accuracy: 0.9838 - auc: 0.9802 - f1_score: 0.8869 - loss: 0.0901 - precision: 0.9481 - recall: 0.8581"
     ]
    },
    {
     "name": "stderr",
     "output_type": "stream",
     "text": [
      "2025-04-19 18:08:51.690161: W tensorflow/core/lib/png/png_io.cc:92] PNG warning: iCCP: profile 'ICC Profile': 'GRAY': Gray color space not permitted on RGB PNG\n"
     ]
    },
    {
     "name": "stdout",
     "output_type": "stream",
     "text": [
      "\u001b[1m561/561\u001b[0m \u001b[32m━━━━━━━━━━━━━━━━━━━━\u001b[0m\u001b[37m\u001b[0m \u001b[1m0s\u001b[0m 244ms/step - accuracy: 0.9840 - auc: 0.9809 - f1_score: 0.8887 - loss: 0.0895 - precision: 0.9488 - recall: 0.8600  "
     ]
    },
    {
     "name": "stderr",
     "output_type": "stream",
     "text": [
      "2025-04-19 18:09:40.455690: W tensorflow/core/kernels/data/prefetch_autotuner.cc:52] Prefetch autotuner tried to allocate 134225408 bytes after encountering the first element of size 134225408 bytes.This already causes the autotune ram budget to be exceeded. To stay within the ram budget, either increase the ram budget or reduce element size\n",
      "2025-04-19 18:09:55 - INFO - \n",
      "=== Epoch 37 Summary ===\n",
      "2025-04-19 18:09:55 - INFO - Time: 152.64s\n",
      "2025-04-19 18:09:55 - INFO - Training   - accuracy: 0.9844 - auc: 0.9821 - f1_score: 0.8918 - loss: 0.0885 - precision: 0.9502 - recall: 0.8633 - learning_rate: 0.0000\n",
      "2025-04-19 18:09:55 - INFO - Validation - accuracy: 0.9131 - auc: 0.6685 - f1_score: 0.3923 - loss: 0.4494 - precision: 0.4869 - recall: 0.3687\n",
      "2025-04-19 18:09:55 - INFO - ==================================================\n",
      "\n"
     ]
    },
    {
     "name": "stdout",
     "output_type": "stream",
     "text": [
      "\u001b[1m561/561\u001b[0m \u001b[32m━━━━━━━━━━━━━━━━━━━━\u001b[0m\u001b[37m\u001b[0m \u001b[1m153s\u001b[0m 272ms/step - accuracy: 0.9840 - auc: 0.9809 - f1_score: 0.8887 - loss: 0.0895 - precision: 0.9488 - recall: 0.8601 - val_accuracy: 0.9131 - val_auc: 0.6685 - val_f1_score: 0.3923 - val_loss: 0.4494 - val_precision: 0.4869 - val_recall: 0.3687 - learning_rate: 1.0000e-06\n"
     ]
    },
    {
     "name": "stderr",
     "output_type": "stream",
     "text": [
      "2025-04-19 18:09:55 - INFO - \n",
      "=== Starting Epoch 38 ===\n",
      "\n"
     ]
    },
    {
     "name": "stdout",
     "output_type": "stream",
     "text": [
      "Epoch 38/100\n",
      "\u001b[1m 37/561\u001b[0m \u001b[32m━\u001b[0m\u001b[37m━━━━━━━━━━━━━━━━━━━\u001b[0m \u001b[1m1:49\u001b[0m 210ms/step - accuracy: 0.9851 - auc: 0.9683 - f1_score: 0.8969 - loss: 0.0885 - precision: 0.9567 - recall: 0.8670"
     ]
    },
    {
     "name": "stderr",
     "output_type": "stream",
     "text": [
      "2025-04-19 18:10:10.482471: I tensorflow/core/kernels/data/shuffle_dataset_op.cc:452] ShuffleDatasetV3:10: Filling up shuffle buffer (this may take a while): 10182 of 25000\n",
      "2025-04-19 18:10:20.483448: I tensorflow/core/kernels/data/shuffle_dataset_op.cc:452] ShuffleDatasetV3:10: Filling up shuffle buffer (this may take a while): 19637 of 25000\n",
      "2025-04-19 18:10:25.307267: I tensorflow/core/kernels/data/shuffle_dataset_op.cc:482] Shuffle buffer filled.\n",
      "2025-04-19 18:10:25.441002: W tensorflow/core/kernels/data/prefetch_autotuner.cc:52] Prefetch autotuner tried to allocate 77078016 bytes after encountering the first element of size 77078016 bytes.This already causes the autotune ram budget to be exceeded. To stay within the ram budget, either increase the ram budget or reduce element size\n"
     ]
    },
    {
     "name": "stdout",
     "output_type": "stream",
     "text": [
      "\u001b[1m332/561\u001b[0m \u001b[32m━━━━━━━━━━━\u001b[0m\u001b[37m━━━━━━━━━\u001b[0m \u001b[1m1:04\u001b[0m 282ms/step - accuracy: 0.9846 - auc: 0.9800 - f1_score: 0.8933 - loss: 0.0886 - precision: 0.9517 - recall: 0.8646"
     ]
    },
    {
     "name": "stderr",
     "output_type": "stream",
     "text": [
      "2025-04-19 18:11:29.410438: W tensorflow/core/lib/png/png_io.cc:92] PNG warning: iCCP: profile 'ICC Profile': 'GRAY': Gray color space not permitted on RGB PNG\n"
     ]
    },
    {
     "name": "stdout",
     "output_type": "stream",
     "text": [
      "\u001b[1m561/561\u001b[0m \u001b[32m━━━━━━━━━━━━━━━━━━━━\u001b[0m\u001b[37m\u001b[0m \u001b[1m0s\u001b[0m 255ms/step - accuracy: 0.9847 - auc: 0.9807 - f1_score: 0.8937 - loss: 0.0882 - precision: 0.9515 - recall: 0.8652  "
     ]
    },
    {
     "name": "stderr",
     "output_type": "stream",
     "text": [
      "2025-04-19 18:12:39 - INFO - \n",
      "=== Epoch 38 Summary ===\n",
      "2025-04-19 18:12:39 - INFO - Time: 163.84s\n",
      "2025-04-19 18:12:39 - INFO - Training   - accuracy: 0.9849 - auc: 0.9820 - f1_score: 0.8952 - loss: 0.0875 - precision: 0.9517 - recall: 0.8671 - learning_rate: 0.0000\n",
      "2025-04-19 18:12:39 - INFO - Validation - accuracy: 0.9135 - auc: 0.6683 - f1_score: 0.3938 - loss: 0.4541 - precision: 0.4899 - recall: 0.3717\n",
      "2025-04-19 18:12:39 - INFO - ==================================================\n",
      "\n"
     ]
    },
    {
     "name": "stdout",
     "output_type": "stream",
     "text": [
      "\u001b[1m561/561\u001b[0m \u001b[32m━━━━━━━━━━━━━━━━━━━━\u001b[0m\u001b[37m\u001b[0m \u001b[1m164s\u001b[0m 292ms/step - accuracy: 0.9847 - auc: 0.9807 - f1_score: 0.8937 - loss: 0.0882 - precision: 0.9515 - recall: 0.8652 - val_accuracy: 0.9135 - val_auc: 0.6683 - val_f1_score: 0.3938 - val_loss: 0.4541 - val_precision: 0.4899 - val_recall: 0.3717 - learning_rate: 1.0000e-06\n"
     ]
    },
    {
     "name": "stderr",
     "output_type": "stream",
     "text": [
      "2025-04-19 18:12:39 - INFO - \n",
      "=== Starting Epoch 39 ===\n",
      "\n"
     ]
    },
    {
     "name": "stdout",
     "output_type": "stream",
     "text": [
      "Epoch 39/100\n",
      "\u001b[1m 38/561\u001b[0m \u001b[32m━\u001b[0m\u001b[37m━━━━━━━━━━━━━━━━━━━\u001b[0m \u001b[1m1:50\u001b[0m 211ms/step - accuracy: 0.9842 - auc: 0.9717 - f1_score: 0.8934 - loss: 0.0886 - precision: 0.9498 - recall: 0.8634"
     ]
    },
    {
     "name": "stderr",
     "output_type": "stream",
     "text": [
      "2025-04-19 18:12:54.554911: I tensorflow/core/kernels/data/shuffle_dataset_op.cc:452] ShuffleDatasetV3:10: Filling up shuffle buffer (this may take a while): 11176 of 25000\n",
      "2025-04-19 18:13:06.999473: I tensorflow/core/kernels/data/shuffle_dataset_op.cc:482] Shuffle buffer filled.\n",
      "2025-04-19 18:13:07.123062: W tensorflow/core/kernels/data/prefetch_autotuner.cc:52] Prefetch autotuner tried to allocate 77078016 bytes after encountering the first element of size 77078016 bytes.This already causes the autotune ram budget to be exceeded. To stay within the ram budget, either increase the ram budget or reduce element size\n"
     ]
    },
    {
     "name": "stdout",
     "output_type": "stream",
     "text": [
      "\u001b[1m333/561\u001b[0m \u001b[32m━━━━━━━━━━━\u001b[0m\u001b[37m━━━━━━━━━\u001b[0m \u001b[1m1:01\u001b[0m 271ms/step - accuracy: 0.9849 - auc: 0.9806 - f1_score: 0.8957 - loss: 0.0873 - precision: 0.9518 - recall: 0.8674"
     ]
    },
    {
     "name": "stderr",
     "output_type": "stream",
     "text": [
      "2025-04-19 18:14:10.010020: W tensorflow/core/lib/png/png_io.cc:92] PNG warning: iCCP: profile 'ICC Profile': 'GRAY': Gray color space not permitted on RGB PNG\n"
     ]
    },
    {
     "name": "stdout",
     "output_type": "stream",
     "text": [
      "\u001b[1m561/561\u001b[0m \u001b[32m━━━━━━━━━━━━━━━━━━━━\u001b[0m\u001b[37m\u001b[0m \u001b[1m0s\u001b[0m 248ms/step - accuracy: 0.9851 - auc: 0.9816 - f1_score: 0.8971 - loss: 0.0868 - precision: 0.9526 - recall: 0.8690  "
     ]
    },
    {
     "name": "stderr",
     "output_type": "stream",
     "text": [
      "2025-04-19 18:15:12 - INFO - \n",
      "=== Epoch 39 Summary ===\n",
      "2025-04-19 18:15:12 - INFO - Time: 153.02s\n",
      "2025-04-19 18:15:12 - INFO - Training   - accuracy: 0.9855 - auc: 0.9833 - f1_score: 0.8997 - loss: 0.0859 - precision: 0.9548 - recall: 0.8719 - learning_rate: 0.0000\n",
      "2025-04-19 18:15:12 - INFO - Validation - accuracy: 0.9095 - auc: 0.6583 - f1_score: 0.3848 - loss: 0.4742 - precision: 0.4603 - recall: 0.3638\n",
      "2025-04-19 18:15:12 - INFO - ==================================================\n",
      "\n"
     ]
    },
    {
     "name": "stdout",
     "output_type": "stream",
     "text": [
      "\u001b[1m561/561\u001b[0m \u001b[32m━━━━━━━━━━━━━━━━━━━━\u001b[0m\u001b[37m\u001b[0m \u001b[1m153s\u001b[0m 273ms/step - accuracy: 0.9851 - auc: 0.9816 - f1_score: 0.8971 - loss: 0.0868 - precision: 0.9526 - recall: 0.8691 - val_accuracy: 0.9095 - val_auc: 0.6583 - val_f1_score: 0.3848 - val_loss: 0.4742 - val_precision: 0.4603 - val_recall: 0.3638 - learning_rate: 1.0000e-06\n"
     ]
    },
    {
     "name": "stderr",
     "output_type": "stream",
     "text": [
      "2025-04-19 18:15:12 - INFO - \n",
      "=== Starting Epoch 40 ===\n",
      "\n"
     ]
    },
    {
     "name": "stdout",
     "output_type": "stream",
     "text": [
      "Epoch 40/100\n",
      "\u001b[1m 39/561\u001b[0m \u001b[32m━\u001b[0m\u001b[37m━━━━━━━━━━━━━━━━━━━\u001b[0m \u001b[1m1:49\u001b[0m 211ms/step - accuracy: 0.9860 - auc: 0.9874 - f1_score: 0.9006 - loss: 0.0843 - precision: 0.9570 - recall: 0.8752"
     ]
    },
    {
     "name": "stderr",
     "output_type": "stream",
     "text": [
      "2025-04-19 18:15:27.800937: I tensorflow/core/kernels/data/shuffle_dataset_op.cc:452] ShuffleDatasetV3:10: Filling up shuffle buffer (this may take a while): 11302 of 25000\n",
      "2025-04-19 18:15:39.967277: I tensorflow/core/kernels/data/shuffle_dataset_op.cc:482] Shuffle buffer filled.\n",
      "2025-04-19 18:15:40.091865: W tensorflow/core/kernels/data/prefetch_autotuner.cc:52] Prefetch autotuner tried to allocate 77078016 bytes after encountering the first element of size 77078016 bytes.This already causes the autotune ram budget to be exceeded. To stay within the ram budget, either increase the ram budget or reduce element size\n"
     ]
    },
    {
     "name": "stdout",
     "output_type": "stream",
     "text": [
      "\u001b[1m334/561\u001b[0m \u001b[32m━━━━━━━━━━━\u001b[0m\u001b[37m━━━━━━━━━\u001b[0m \u001b[1m1:01\u001b[0m 269ms/step - accuracy: 0.9859 - auc: 0.9844 - f1_score: 0.9013 - loss: 0.0851 - precision: 0.9562 - recall: 0.8745"
     ]
    },
    {
     "name": "stderr",
     "output_type": "stream",
     "text": [
      "2025-04-19 18:16:42.578979: W tensorflow/core/lib/png/png_io.cc:92] PNG warning: iCCP: profile 'ICC Profile': 'GRAY': Gray color space not permitted on RGB PNG\n"
     ]
    },
    {
     "name": "stdout",
     "output_type": "stream",
     "text": [
      "\u001b[1m561/561\u001b[0m \u001b[32m━━━━━━━━━━━━━━━━━━━━\u001b[0m\u001b[37m\u001b[0m \u001b[1m0s\u001b[0m 247ms/step - accuracy: 0.9860 - auc: 0.9845 - f1_score: 0.9023 - loss: 0.0850 - precision: 0.9566 - recall: 0.8754  "
     ]
    },
    {
     "name": "stderr",
     "output_type": "stream",
     "text": [
      "2025-04-19 18:17:45 - INFO - \n",
      "=== Epoch 40 Summary ===\n",
      "2025-04-19 18:17:45 - INFO - Time: 152.54s\n",
      "2025-04-19 18:17:45 - INFO - Training   - accuracy: 0.9861 - auc: 0.9849 - f1_score: 0.9041 - loss: 0.0847 - precision: 0.9571 - recall: 0.8769 - learning_rate: 0.0000\n",
      "2025-04-19 18:17:45 - INFO - Validation - accuracy: 0.9123 - auc: 0.6688 - f1_score: 0.3935 - loss: 0.4542 - precision: 0.4805 - recall: 0.3725\n",
      "2025-04-19 18:17:45 - INFO - ==================================================\n",
      "\n"
     ]
    },
    {
     "name": "stdout",
     "output_type": "stream",
     "text": [
      "\u001b[1m561/561\u001b[0m \u001b[32m━━━━━━━━━━━━━━━━━━━━\u001b[0m\u001b[37m\u001b[0m \u001b[1m153s\u001b[0m 272ms/step - accuracy: 0.9860 - auc: 0.9845 - f1_score: 0.9023 - loss: 0.0850 - precision: 0.9566 - recall: 0.8754 - val_accuracy: 0.9123 - val_auc: 0.6688 - val_f1_score: 0.3935 - val_loss: 0.4542 - val_precision: 0.4805 - val_recall: 0.3725 - learning_rate: 1.0000e-06\n"
     ]
    },
    {
     "name": "stderr",
     "output_type": "stream",
     "text": [
      "2025-04-19 18:17:45 - INFO - \n",
      "=== Starting Epoch 41 ===\n",
      "\n"
     ]
    },
    {
     "name": "stdout",
     "output_type": "stream",
     "text": [
      "Epoch 41/100\n",
      "\u001b[1m 40/561\u001b[0m \u001b[32m━\u001b[0m\u001b[37m━━━━━━━━━━━━━━━━━━━\u001b[0m \u001b[1m1:50\u001b[0m 211ms/step - accuracy: 0.9864 - auc: 0.9810 - f1_score: 0.9062 - loss: 0.0836 - precision: 0.9573 - recall: 0.8789"
     ]
    },
    {
     "name": "stderr",
     "output_type": "stream",
     "text": [
      "2025-04-19 18:18:00.577374: I tensorflow/core/kernels/data/shuffle_dataset_op.cc:452] ShuffleDatasetV3:10: Filling up shuffle buffer (this may take a while): 11147 of 25000\n",
      "2025-04-19 18:18:13.010129: I tensorflow/core/kernels/data/shuffle_dataset_op.cc:482] Shuffle buffer filled.\n",
      "2025-04-19 18:18:13.136166: W tensorflow/core/kernels/data/prefetch_autotuner.cc:52] Prefetch autotuner tried to allocate 77078016 bytes after encountering the first element of size 77078016 bytes.This already causes the autotune ram budget to be exceeded. To stay within the ram budget, either increase the ram budget or reduce element size\n"
     ]
    },
    {
     "name": "stdout",
     "output_type": "stream",
     "text": [
      "\u001b[1m335/561\u001b[0m \u001b[32m━━━━━━━━━━━\u001b[0m\u001b[37m━━━━━━━━━\u001b[0m \u001b[1m1:00\u001b[0m 270ms/step - accuracy: 0.9859 - auc: 0.9848 - f1_score: 0.9029 - loss: 0.0847 - precision: 0.9565 - recall: 0.8756"
     ]
    },
    {
     "name": "stderr",
     "output_type": "stream",
     "text": [
      "2025-04-19 18:19:15.610729: W tensorflow/core/lib/png/png_io.cc:92] PNG warning: iCCP: profile 'ICC Profile': 'GRAY': Gray color space not permitted on RGB PNG\n"
     ]
    },
    {
     "name": "stdout",
     "output_type": "stream",
     "text": [
      "\u001b[1m561/561\u001b[0m \u001b[32m━━━━━━━━━━━━━━━━━━━━\u001b[0m\u001b[37m\u001b[0m \u001b[1m0s\u001b[0m 247ms/step - accuracy: 0.9861 - auc: 0.9846 - f1_score: 0.9039 - loss: 0.0845 - precision: 0.9567 - recall: 0.8769  "
     ]
    },
    {
     "name": "stderr",
     "output_type": "stream",
     "text": [
      "2025-04-19 18:20:17 - INFO - \n",
      "=== Epoch 41 Summary ===\n",
      "2025-04-19 18:20:17 - INFO - Time: 152.45s\n",
      "2025-04-19 18:20:17 - INFO - Training   - accuracy: 0.9864 - auc: 0.9843 - f1_score: 0.9064 - loss: 0.0839 - precision: 0.9574 - recall: 0.8800 - learning_rate: 0.0000\n",
      "2025-04-19 18:20:17 - INFO - Validation - accuracy: 0.9107 - auc: 0.6652 - f1_score: 0.3925 - loss: 0.4585 - precision: 0.4691 - recall: 0.3666\n",
      "2025-04-19 18:20:17 - INFO - ==================================================\n",
      "\n"
     ]
    },
    {
     "name": "stdout",
     "output_type": "stream",
     "text": [
      "\u001b[1m561/561\u001b[0m \u001b[32m━━━━━━━━━━━━━━━━━━━━\u001b[0m\u001b[37m\u001b[0m \u001b[1m152s\u001b[0m 272ms/step - accuracy: 0.9861 - auc: 0.9846 - f1_score: 0.9040 - loss: 0.0845 - precision: 0.9567 - recall: 0.8770 - val_accuracy: 0.9107 - val_auc: 0.6652 - val_f1_score: 0.3925 - val_loss: 0.4585 - val_precision: 0.4691 - val_recall: 0.3666 - learning_rate: 1.0000e-06\n"
     ]
    },
    {
     "name": "stderr",
     "output_type": "stream",
     "text": [
      "2025-04-19 18:20:17 - INFO - \n",
      "=== Starting Epoch 42 ===\n",
      "\n"
     ]
    },
    {
     "name": "stdout",
     "output_type": "stream",
     "text": [
      "Epoch 42/100\n",
      "\u001b[1m 41/561\u001b[0m \u001b[32m━\u001b[0m\u001b[37m━━━━━━━━━━━━━━━━━━━\u001b[0m \u001b[1m1:49\u001b[0m 211ms/step - accuracy: 0.9862 - auc: 0.9814 - f1_score: 0.9047 - loss: 0.0828 - precision: 0.9599 - recall: 0.8782"
     ]
    },
    {
     "name": "stderr",
     "output_type": "stream",
     "text": [
      "2025-04-19 18:20:33.227439: I tensorflow/core/kernels/data/shuffle_dataset_op.cc:452] ShuffleDatasetV3:10: Filling up shuffle buffer (this may take a while): 11154 of 25000\n",
      "2025-04-19 18:20:45.568798: I tensorflow/core/kernels/data/shuffle_dataset_op.cc:482] Shuffle buffer filled.\n",
      "2025-04-19 18:20:45.687556: W tensorflow/core/kernels/data/prefetch_autotuner.cc:52] Prefetch autotuner tried to allocate 77078016 bytes after encountering the first element of size 77078016 bytes.This already causes the autotune ram budget to be exceeded. To stay within the ram budget, either increase the ram budget or reduce element size\n"
     ]
    },
    {
     "name": "stdout",
     "output_type": "stream",
     "text": [
      "\u001b[1m336/561\u001b[0m \u001b[32m━━━━━━━━━━━\u001b[0m\u001b[37m━━━━━━━━━\u001b[0m \u001b[1m1:00\u001b[0m 270ms/step - accuracy: 0.9865 - auc: 0.9835 - f1_score: 0.9063 - loss: 0.0832 - precision: 0.9588 - recall: 0.8806"
     ]
    },
    {
     "name": "stderr",
     "output_type": "stream",
     "text": [
      "2025-04-19 18:21:48.250979: W tensorflow/core/lib/png/png_io.cc:92] PNG warning: iCCP: profile 'ICC Profile': 'GRAY': Gray color space not permitted on RGB PNG\n"
     ]
    },
    {
     "name": "stdout",
     "output_type": "stream",
     "text": [
      "\u001b[1m561/561\u001b[0m \u001b[32m━━━━━━━━━━━━━━━━━━━━\u001b[0m\u001b[37m\u001b[0m \u001b[1m0s\u001b[0m 247ms/step - accuracy: 0.9866 - auc: 0.9836 - f1_score: 0.9073 - loss: 0.0831 - precision: 0.9592 - recall: 0.8814  "
     ]
    },
    {
     "name": "stderr",
     "output_type": "stream",
     "text": [
      "2025-04-19 18:22:50 - INFO - \n",
      "=== Epoch 42 Summary ===\n",
      "2025-04-19 18:22:50 - INFO - Time: 152.47s\n",
      "2025-04-19 18:22:50 - INFO - Training   - accuracy: 0.9868 - auc: 0.9837 - f1_score: 0.9093 - loss: 0.0829 - precision: 0.9597 - recall: 0.8833 - learning_rate: 0.0000\n",
      "2025-04-19 18:22:50 - INFO - Validation - accuracy: 0.9128 - auc: 0.6591 - f1_score: 0.3944 - loss: 0.4683 - precision: 0.4848 - recall: 0.3748\n",
      "2025-04-19 18:22:50 - INFO - ==================================================\n",
      "\n"
     ]
    },
    {
     "name": "stdout",
     "output_type": "stream",
     "text": [
      "\u001b[1m561/561\u001b[0m \u001b[32m━━━━━━━━━━━━━━━━━━━━\u001b[0m\u001b[37m\u001b[0m \u001b[1m152s\u001b[0m 272ms/step - accuracy: 0.9866 - auc: 0.9836 - f1_score: 0.9073 - loss: 0.0831 - precision: 0.9592 - recall: 0.8814 - val_accuracy: 0.9128 - val_auc: 0.6591 - val_f1_score: 0.3944 - val_loss: 0.4683 - val_precision: 0.4848 - val_recall: 0.3748 - learning_rate: 1.0000e-06\n"
     ]
    },
    {
     "name": "stderr",
     "output_type": "stream",
     "text": [
      "2025-04-19 18:22:50 - INFO - \n",
      "=== Starting Epoch 43 ===\n",
      "\n"
     ]
    },
    {
     "name": "stdout",
     "output_type": "stream",
     "text": [
      "Epoch 43/100\n",
      "\u001b[1m 42/561\u001b[0m \u001b[32m━\u001b[0m\u001b[37m━━━━━━━━━━━━━━━━━━━\u001b[0m \u001b[1m1:49\u001b[0m 211ms/step - accuracy: 0.9870 - auc: 0.9782 - f1_score: 0.9116 - loss: 0.0825 - precision: 0.9611 - recall: 0.8855"
     ]
    },
    {
     "name": "stderr",
     "output_type": "stream",
     "text": [
      "2025-04-19 18:23:05.900190: I tensorflow/core/kernels/data/shuffle_dataset_op.cc:452] ShuffleDatasetV3:10: Filling up shuffle buffer (this may take a while): 11245 of 25000\n",
      "2025-04-19 18:23:18.215442: I tensorflow/core/kernels/data/shuffle_dataset_op.cc:482] Shuffle buffer filled.\n",
      "2025-04-19 18:23:18.332980: W tensorflow/core/kernels/data/prefetch_autotuner.cc:52] Prefetch autotuner tried to allocate 77078016 bytes after encountering the first element of size 77078016 bytes.This already causes the autotune ram budget to be exceeded. To stay within the ram budget, either increase the ram budget or reduce element size\n"
     ]
    },
    {
     "name": "stdout",
     "output_type": "stream",
     "text": [
      "\u001b[1m337/561\u001b[0m \u001b[32m━━━━━━━━━━━━\u001b[0m\u001b[37m━━━━━━━━\u001b[0m \u001b[1m1:00\u001b[0m 268ms/step - accuracy: 0.9870 - auc: 0.9839 - f1_score: 0.9112 - loss: 0.0829 - precision: 0.9605 - recall: 0.8857"
     ]
    },
    {
     "name": "stderr",
     "output_type": "stream",
     "text": [
      "2025-04-19 18:24:20.573694: W tensorflow/core/lib/png/png_io.cc:92] PNG warning: iCCP: profile 'ICC Profile': 'GRAY': Gray color space not permitted on RGB PNG\n"
     ]
    },
    {
     "name": "stdout",
     "output_type": "stream",
     "text": [
      "\u001b[1m561/561\u001b[0m \u001b[32m━━━━━━━━━━━━━━━━━━━━\u001b[0m\u001b[37m\u001b[0m \u001b[1m0s\u001b[0m 247ms/step - accuracy: 0.9871 - auc: 0.9846 - f1_score: 0.9116 - loss: 0.0826 - precision: 0.9603 - recall: 0.8862  "
     ]
    },
    {
     "name": "stderr",
     "output_type": "stream",
     "text": [
      "2025-04-19 18:25:23 - INFO - \n",
      "=== Epoch 43 Summary ===\n",
      "2025-04-19 18:25:23 - INFO - Time: 152.76s\n",
      "2025-04-19 18:25:23 - INFO - Training   - accuracy: 0.9872 - auc: 0.9859 - f1_score: 0.9125 - loss: 0.0819 - precision: 0.9604 - recall: 0.8874 - learning_rate: 0.0000\n",
      "2025-04-19 18:25:23 - INFO - Validation - accuracy: 0.9124 - auc: 0.6586 - f1_score: 0.3969 - loss: 0.4711 - precision: 0.4816 - recall: 0.3824\n",
      "2025-04-19 18:25:23 - INFO - ==================================================\n",
      "\n"
     ]
    },
    {
     "name": "stdout",
     "output_type": "stream",
     "text": [
      "\u001b[1m561/561\u001b[0m \u001b[32m━━━━━━━━━━━━━━━━━━━━\u001b[0m\u001b[37m\u001b[0m \u001b[1m153s\u001b[0m 272ms/step - accuracy: 0.9871 - auc: 0.9846 - f1_score: 0.9116 - loss: 0.0826 - precision: 0.9603 - recall: 0.8862 - val_accuracy: 0.9124 - val_auc: 0.6586 - val_f1_score: 0.3969 - val_loss: 0.4711 - val_precision: 0.4816 - val_recall: 0.3824 - learning_rate: 1.0000e-06\n"
     ]
    },
    {
     "name": "stderr",
     "output_type": "stream",
     "text": [
      "2025-04-19 18:25:23 - INFO - \n",
      "=== Starting Epoch 44 ===\n",
      "\n"
     ]
    },
    {
     "name": "stdout",
     "output_type": "stream",
     "text": [
      "Epoch 44/100\n",
      "\u001b[1m 43/561\u001b[0m \u001b[32m━\u001b[0m\u001b[37m━━━━━━━━━━━━━━━━━━━\u001b[0m \u001b[1m1:48\u001b[0m 210ms/step - accuracy: 0.9868 - auc: 0.9774 - f1_score: 0.9098 - loss: 0.0822 - precision: 0.9566 - recall: 0.8863"
     ]
    },
    {
     "name": "stderr",
     "output_type": "stream",
     "text": [
      "2025-04-19 18:25:38.883503: I tensorflow/core/kernels/data/shuffle_dataset_op.cc:452] ShuffleDatasetV3:10: Filling up shuffle buffer (this may take a while): 11296 of 25000\n",
      "2025-04-19 18:25:51.081497: I tensorflow/core/kernels/data/shuffle_dataset_op.cc:482] Shuffle buffer filled.\n",
      "2025-04-19 18:25:51.209079: W tensorflow/core/kernels/data/prefetch_autotuner.cc:52] Prefetch autotuner tried to allocate 77078016 bytes after encountering the first element of size 77078016 bytes.This already causes the autotune ram budget to be exceeded. To stay within the ram budget, either increase the ram budget or reduce element size\n"
     ]
    },
    {
     "name": "stdout",
     "output_type": "stream",
     "text": [
      "\u001b[1m338/561\u001b[0m \u001b[32m━━━━━━━━━━━━\u001b[0m\u001b[37m━━━━━━━━\u001b[0m \u001b[1m59s\u001b[0m 268ms/step - accuracy: 0.9874 - auc: 0.9849 - f1_score: 0.9134 - loss: 0.0811 - precision: 0.9607 - recall: 0.8893 "
     ]
    },
    {
     "name": "stderr",
     "output_type": "stream",
     "text": [
      "2025-04-19 18:26:53.341467: W tensorflow/core/lib/png/png_io.cc:92] PNG warning: iCCP: profile 'ICC Profile': 'GRAY': Gray color space not permitted on RGB PNG\n"
     ]
    },
    {
     "name": "stdout",
     "output_type": "stream",
     "text": [
      "\u001b[1m561/561\u001b[0m \u001b[32m━━━━━━━━━━━━━━━━━━━━\u001b[0m\u001b[37m\u001b[0m \u001b[1m0s\u001b[0m 246ms/step - accuracy: 0.9874 - auc: 0.9854 - f1_score: 0.9136 - loss: 0.0811 - precision: 0.9606 - recall: 0.8895 "
     ]
    },
    {
     "name": "stderr",
     "output_type": "stream",
     "text": [
      "2025-04-19 18:27:55 - INFO - \n",
      "=== Epoch 44 Summary ===\n",
      "2025-04-19 18:27:55 - INFO - Time: 151.91s\n",
      "2025-04-19 18:27:55 - INFO - Training   - accuracy: 0.9875 - auc: 0.9861 - f1_score: 0.9146 - loss: 0.0810 - precision: 0.9607 - recall: 0.8905 - learning_rate: 0.0000\n",
      "2025-04-19 18:27:55 - INFO - Validation - accuracy: 0.9143 - auc: 0.6532 - f1_score: 0.3892 - loss: 0.4870 - precision: 0.4962 - recall: 0.3781\n",
      "2025-04-19 18:27:55 - INFO - ==================================================\n",
      "\n"
     ]
    },
    {
     "name": "stdout",
     "output_type": "stream",
     "text": [
      "\u001b[1m561/561\u001b[0m \u001b[32m━━━━━━━━━━━━━━━━━━━━\u001b[0m\u001b[37m\u001b[0m \u001b[1m152s\u001b[0m 271ms/step - accuracy: 0.9874 - auc: 0.9854 - f1_score: 0.9136 - loss: 0.0811 - precision: 0.9606 - recall: 0.8895 - val_accuracy: 0.9143 - val_auc: 0.6532 - val_f1_score: 0.3892 - val_loss: 0.4870 - val_precision: 0.4962 - val_recall: 0.3781 - learning_rate: 1.0000e-06\n"
     ]
    },
    {
     "name": "stderr",
     "output_type": "stream",
     "text": [
      "2025-04-19 18:27:55 - INFO - \n",
      "=== Starting Epoch 45 ===\n",
      "\n"
     ]
    },
    {
     "name": "stdout",
     "output_type": "stream",
     "text": [
      "Epoch 45/100\n",
      "\u001b[1m 44/561\u001b[0m \u001b[32m━\u001b[0m\u001b[37m━━━━━━━━━━━━━━━━━━━\u001b[0m \u001b[1m1:48\u001b[0m 211ms/step - accuracy: 0.9872 - auc: 0.9850 - f1_score: 0.9134 - loss: 0.0826 - precision: 0.9648 - recall: 0.8853"
     ]
    },
    {
     "name": "stderr",
     "output_type": "stream",
     "text": [
      "2025-04-19 18:28:11.025642: I tensorflow/core/kernels/data/shuffle_dataset_op.cc:452] ShuffleDatasetV3:10: Filling up shuffle buffer (this may take a while): 11131 of 25000\n",
      "2025-04-19 18:28:21.027794: I tensorflow/core/kernels/data/shuffle_dataset_op.cc:452] ShuffleDatasetV3:10: Filling up shuffle buffer (this may take a while): 22375 of 25000\n",
      "2025-04-19 18:28:23.324512: I tensorflow/core/kernels/data/shuffle_dataset_op.cc:482] Shuffle buffer filled.\n",
      "2025-04-19 18:28:23.445655: W tensorflow/core/kernels/data/prefetch_autotuner.cc:52] Prefetch autotuner tried to allocate 77078016 bytes after encountering the first element of size 77078016 bytes.This already causes the autotune ram budget to be exceeded. To stay within the ram budget, either increase the ram budget or reduce element size\n"
     ]
    },
    {
     "name": "stdout",
     "output_type": "stream",
     "text": [
      "\u001b[1m339/561\u001b[0m \u001b[32m━━━━━━━━━━━━\u001b[0m\u001b[37m━━━━━━━━\u001b[0m \u001b[1m59s\u001b[0m 269ms/step - accuracy: 0.9874 - auc: 0.9874 - f1_score: 0.9142 - loss: 0.0813 - precision: 0.9612 - recall: 0.8893 "
     ]
    },
    {
     "name": "stderr",
     "output_type": "stream",
     "text": [
      "2025-04-19 18:29:25.935266: W tensorflow/core/lib/png/png_io.cc:92] PNG warning: iCCP: profile 'ICC Profile': 'GRAY': Gray color space not permitted on RGB PNG\n"
     ]
    },
    {
     "name": "stdout",
     "output_type": "stream",
     "text": [
      "\u001b[1m561/561\u001b[0m \u001b[32m━━━━━━━━━━━━━━━━━━━━\u001b[0m\u001b[37m\u001b[0m \u001b[1m0s\u001b[0m 247ms/step - accuracy: 0.9875 - auc: 0.9871 - f1_score: 0.9150 - loss: 0.0810 - precision: 0.9611 - recall: 0.8905 "
     ]
    },
    {
     "name": "stderr",
     "output_type": "stream",
     "text": [
      "2025-04-19 18:30:27 - INFO - \n",
      "=== Epoch 45 Summary ===\n",
      "2025-04-19 18:30:27 - INFO - Time: 152.42s\n",
      "2025-04-19 18:30:27 - INFO - Training   - accuracy: 0.9878 - auc: 0.9867 - f1_score: 0.9169 - loss: 0.0805 - precision: 0.9615 - recall: 0.8929 - learning_rate: 0.0000\n",
      "2025-04-19 18:30:27 - INFO - Validation - accuracy: 0.9093 - auc: 0.6683 - f1_score: 0.3911 - loss: 0.4660 - precision: 0.4593 - recall: 0.3635\n",
      "2025-04-19 18:30:27 - INFO - ==================================================\n",
      "\n"
     ]
    },
    {
     "name": "stdout",
     "output_type": "stream",
     "text": [
      "\u001b[1m561/561\u001b[0m \u001b[32m━━━━━━━━━━━━━━━━━━━━\u001b[0m\u001b[37m\u001b[0m \u001b[1m152s\u001b[0m 272ms/step - accuracy: 0.9875 - auc: 0.9871 - f1_score: 0.9150 - loss: 0.0810 - precision: 0.9611 - recall: 0.8905 - val_accuracy: 0.9093 - val_auc: 0.6683 - val_f1_score: 0.3911 - val_loss: 0.4660 - val_precision: 0.4593 - val_recall: 0.3635 - learning_rate: 1.0000e-06\n"
     ]
    },
    {
     "name": "stderr",
     "output_type": "stream",
     "text": [
      "2025-04-19 18:30:27 - INFO - \n",
      "=== Starting Epoch 46 ===\n",
      "\n"
     ]
    },
    {
     "name": "stdout",
     "output_type": "stream",
     "text": [
      "Epoch 46/100\n",
      "\u001b[1m 45/561\u001b[0m \u001b[32m━\u001b[0m\u001b[37m━━━━━━━━━━━━━━━━━━━\u001b[0m \u001b[1m1:49\u001b[0m 211ms/step - accuracy: 0.9882 - auc: 0.9762 - f1_score: 0.9218 - loss: 0.0795 - precision: 0.9634 - recall: 0.8967"
     ]
    },
    {
     "name": "stderr",
     "output_type": "stream",
     "text": [
      "2025-04-19 18:30:43.677254: I tensorflow/core/kernels/data/shuffle_dataset_op.cc:452] ShuffleDatasetV3:10: Filling up shuffle buffer (this may take a while): 11277 of 25000\n",
      "2025-04-19 18:30:53.681046: I tensorflow/core/kernels/data/shuffle_dataset_op.cc:452] ShuffleDatasetV3:10: Filling up shuffle buffer (this may take a while): 22479 of 25000\n",
      "2025-04-19 18:30:55.911941: I tensorflow/core/kernels/data/shuffle_dataset_op.cc:482] Shuffle buffer filled.\n",
      "2025-04-19 18:30:56.033579: W tensorflow/core/kernels/data/prefetch_autotuner.cc:52] Prefetch autotuner tried to allocate 77078016 bytes after encountering the first element of size 77078016 bytes.This already causes the autotune ram budget to be exceeded. To stay within the ram budget, either increase the ram budget or reduce element size\n"
     ]
    },
    {
     "name": "stdout",
     "output_type": "stream",
     "text": [
      "\u001b[1m340/561\u001b[0m \u001b[32m━━━━━━━━━━━━\u001b[0m\u001b[37m━━━━━━━━\u001b[0m \u001b[1m59s\u001b[0m 270ms/step - accuracy: 0.9880 - auc: 0.9858 - f1_score: 0.9191 - loss: 0.0798 - precision: 0.9633 - recall: 0.8943 "
     ]
    },
    {
     "name": "stderr",
     "output_type": "stream",
     "text": [
      "2025-04-19 18:31:58.985741: W tensorflow/core/lib/png/png_io.cc:92] PNG warning: iCCP: profile 'ICC Profile': 'GRAY': Gray color space not permitted on RGB PNG\n"
     ]
    },
    {
     "name": "stdout",
     "output_type": "stream",
     "text": [
      "\u001b[1m561/561\u001b[0m \u001b[32m━━━━━━━━━━━━━━━━━━━━\u001b[0m\u001b[37m\u001b[0m \u001b[1m0s\u001b[0m 248ms/step - accuracy: 0.9880 - auc: 0.9861 - f1_score: 0.9189 - loss: 0.0798 - precision: 0.9630 - recall: 0.8946 "
     ]
    },
    {
     "name": "stderr",
     "output_type": "stream",
     "text": [
      "2025-04-19 18:33:00 - INFO - \n",
      "=== Epoch 46 Summary ===\n",
      "2025-04-19 18:33:00 - INFO - Time: 152.59s\n",
      "2025-04-19 18:33:00 - INFO - Training   - accuracy: 0.9881 - auc: 0.9860 - f1_score: 0.9189 - loss: 0.0798 - precision: 0.9626 - recall: 0.8955 - learning_rate: 0.0000\n",
      "2025-04-19 18:33:00 - INFO - Validation - accuracy: 0.9106 - auc: 0.6644 - f1_score: 0.3923 - loss: 0.4718 - precision: 0.4687 - recall: 0.3703\n",
      "2025-04-19 18:33:00 - INFO - ==================================================\n",
      "\n"
     ]
    },
    {
     "name": "stdout",
     "output_type": "stream",
     "text": [
      "\u001b[1m561/561\u001b[0m \u001b[32m━━━━━━━━━━━━━━━━━━━━\u001b[0m\u001b[37m\u001b[0m \u001b[1m153s\u001b[0m 272ms/step - accuracy: 0.9880 - auc: 0.9861 - f1_score: 0.9189 - loss: 0.0798 - precision: 0.9630 - recall: 0.8946 - val_accuracy: 0.9106 - val_auc: 0.6644 - val_f1_score: 0.3923 - val_loss: 0.4718 - val_precision: 0.4687 - val_recall: 0.3703 - learning_rate: 1.0000e-06\n"
     ]
    },
    {
     "name": "stderr",
     "output_type": "stream",
     "text": [
      "2025-04-19 18:33:00 - INFO - \n",
      "=== Starting Epoch 47 ===\n",
      "\n"
     ]
    },
    {
     "name": "stdout",
     "output_type": "stream",
     "text": [
      "Epoch 47/100\n",
      "\u001b[1m 46/561\u001b[0m \u001b[32m━\u001b[0m\u001b[37m━━━━━━━━━━━━━━━━━━━\u001b[0m \u001b[1m1:48\u001b[0m 211ms/step - accuracy: 0.9885 - auc: 0.9774 - f1_score: 0.9218 - loss: 0.0786 - precision: 0.9646 - recall: 0.8983"
     ]
    },
    {
     "name": "stderr",
     "output_type": "stream",
     "text": [
      "2025-04-19 18:33:16.476954: I tensorflow/core/kernels/data/shuffle_dataset_op.cc:452] ShuffleDatasetV3:10: Filling up shuffle buffer (this may take a while): 11241 of 25000\n",
      "2025-04-19 18:33:26.478445: I tensorflow/core/kernels/data/shuffle_dataset_op.cc:452] ShuffleDatasetV3:10: Filling up shuffle buffer (this may take a while): 22607 of 25000\n",
      "2025-04-19 18:33:28.557762: I tensorflow/core/kernels/data/shuffle_dataset_op.cc:482] Shuffle buffer filled.\n",
      "2025-04-19 18:33:28.678718: W tensorflow/core/kernels/data/prefetch_autotuner.cc:52] Prefetch autotuner tried to allocate 77078016 bytes after encountering the first element of size 77078016 bytes.This already causes the autotune ram budget to be exceeded. To stay within the ram budget, either increase the ram budget or reduce element size\n"
     ]
    },
    {
     "name": "stdout",
     "output_type": "stream",
     "text": [
      "\u001b[1m341/561\u001b[0m \u001b[32m━━━━━━━━━━━━\u001b[0m\u001b[37m━━━━━━━━\u001b[0m \u001b[1m58s\u001b[0m 267ms/step - accuracy: 0.9886 - auc: 0.9850 - f1_score: 0.9219 - loss: 0.0786 - precision: 0.9651 - recall: 0.8987 "
     ]
    },
    {
     "name": "stderr",
     "output_type": "stream",
     "text": [
      "2025-04-19 18:34:30.936791: W tensorflow/core/lib/png/png_io.cc:92] PNG warning: iCCP: profile 'ICC Profile': 'GRAY': Gray color space not permitted on RGB PNG\n"
     ]
    },
    {
     "name": "stdout",
     "output_type": "stream",
     "text": [
      "\u001b[1m561/561\u001b[0m \u001b[32m━━━━━━━━━━━━━━━━━━━━\u001b[0m\u001b[37m\u001b[0m \u001b[1m0s\u001b[0m 246ms/step - accuracy: 0.9885 - auc: 0.9860 - f1_score: 0.9219 - loss: 0.0786 - precision: 0.9647 - recall: 0.8988 "
     ]
    },
    {
     "name": "stderr",
     "output_type": "stream",
     "text": [
      "2025-04-19 18:35:31 - INFO - \n",
      "=== Epoch 47 Summary ===\n",
      "2025-04-19 18:35:31 - INFO - Time: 151.87s\n",
      "2025-04-19 18:35:31 - INFO - Training   - accuracy: 0.9886 - auc: 0.9875 - f1_score: 0.9222 - loss: 0.0784 - precision: 0.9644 - recall: 0.8994 - learning_rate: 0.0000\n",
      "2025-04-19 18:35:31 - INFO - Validation - accuracy: 0.9100 - auc: 0.6589 - f1_score: 0.3929 - loss: 0.4751 - precision: 0.4648 - recall: 0.3712\n",
      "2025-04-19 18:35:31 - INFO - ==================================================\n",
      "\n"
     ]
    },
    {
     "name": "stdout",
     "output_type": "stream",
     "text": [
      "\u001b[1m561/561\u001b[0m \u001b[32m━━━━━━━━━━━━━━━━━━━━\u001b[0m\u001b[37m\u001b[0m \u001b[1m152s\u001b[0m 271ms/step - accuracy: 0.9885 - auc: 0.9860 - f1_score: 0.9219 - loss: 0.0786 - precision: 0.9647 - recall: 0.8988 - val_accuracy: 0.9100 - val_auc: 0.6589 - val_f1_score: 0.3929 - val_loss: 0.4751 - val_precision: 0.4648 - val_recall: 0.3712 - learning_rate: 1.0000e-06\n"
     ]
    },
    {
     "name": "stderr",
     "output_type": "stream",
     "text": [
      "2025-04-19 18:35:31 - INFO - \n",
      "=== Starting Epoch 48 ===\n",
      "\n"
     ]
    },
    {
     "name": "stdout",
     "output_type": "stream",
     "text": [
      "Epoch 48/100\n",
      "\u001b[1m 47/561\u001b[0m \u001b[32m━\u001b[0m\u001b[37m━━━━━━━━━━━━━━━━━━━\u001b[0m \u001b[1m1:48\u001b[0m 211ms/step - accuracy: 0.9886 - auc: 0.9748 - f1_score: 0.9227 - loss: 0.0782 - precision: 0.9640 - recall: 0.8995"
     ]
    },
    {
     "name": "stderr",
     "output_type": "stream",
     "text": [
      "2025-04-19 18:35:48.579836: I tensorflow/core/kernels/data/shuffle_dataset_op.cc:452] ShuffleDatasetV3:10: Filling up shuffle buffer (this may take a while): 11307 of 25000\n",
      "2025-04-19 18:35:58.581689: I tensorflow/core/kernels/data/shuffle_dataset_op.cc:452] ShuffleDatasetV3:10: Filling up shuffle buffer (this may take a while): 22591 of 25000\n",
      "2025-04-19 18:36:00.689251: I tensorflow/core/kernels/data/shuffle_dataset_op.cc:482] Shuffle buffer filled.\n",
      "2025-04-19 18:36:00.805819: W tensorflow/core/kernels/data/prefetch_autotuner.cc:52] Prefetch autotuner tried to allocate 77078016 bytes after encountering the first element of size 77078016 bytes.This already causes the autotune ram budget to be exceeded. To stay within the ram budget, either increase the ram budget or reduce element size\n"
     ]
    },
    {
     "name": "stdout",
     "output_type": "stream",
     "text": [
      "\u001b[1m342/561\u001b[0m \u001b[32m━━━━━━━━━━━━\u001b[0m\u001b[37m━━━━━━━━\u001b[0m \u001b[1m58s\u001b[0m 268ms/step - accuracy: 0.9884 - auc: 0.9864 - f1_score: 0.9216 - loss: 0.0785 - precision: 0.9640 - recall: 0.8984 "
     ]
    },
    {
     "name": "stderr",
     "output_type": "stream",
     "text": [
      "2025-04-19 18:37:03.327249: W tensorflow/core/lib/png/png_io.cc:92] PNG warning: iCCP: profile 'ICC Profile': 'GRAY': Gray color space not permitted on RGB PNG\n"
     ]
    },
    {
     "name": "stdout",
     "output_type": "stream",
     "text": [
      "\u001b[1m561/561\u001b[0m \u001b[32m━━━━━━━━━━━━━━━━━━━━\u001b[0m\u001b[37m\u001b[0m \u001b[1m0s\u001b[0m 247ms/step - accuracy: 0.9885 - auc: 0.9869 - f1_score: 0.9221 - loss: 0.0784 - precision: 0.9639 - recall: 0.8993 "
     ]
    },
    {
     "name": "stderr",
     "output_type": "stream",
     "text": [
      "2025-04-19 18:38:04 - INFO - \n",
      "=== Epoch 48 Summary ===\n",
      "2025-04-19 18:38:04 - INFO - Time: 152.16s\n",
      "2025-04-19 18:38:04 - INFO - Training   - accuracy: 0.9888 - auc: 0.9880 - f1_score: 0.9239 - loss: 0.0778 - precision: 0.9645 - recall: 0.9019 - learning_rate: 0.0000\n",
      "2025-04-19 18:38:04 - INFO - Validation - accuracy: 0.9113 - auc: 0.6561 - f1_score: 0.3949 - loss: 0.4869 - precision: 0.4743 - recall: 0.3778\n",
      "2025-04-19 18:38:04 - INFO - ==================================================\n",
      "\n"
     ]
    },
    {
     "name": "stdout",
     "output_type": "stream",
     "text": [
      "\u001b[1m561/561\u001b[0m \u001b[32m━━━━━━━━━━━━━━━━━━━━\u001b[0m\u001b[37m\u001b[0m \u001b[1m152s\u001b[0m 271ms/step - accuracy: 0.9885 - auc: 0.9869 - f1_score: 0.9221 - loss: 0.0784 - precision: 0.9639 - recall: 0.8993 - val_accuracy: 0.9113 - val_auc: 0.6561 - val_f1_score: 0.3949 - val_loss: 0.4869 - val_precision: 0.4743 - val_recall: 0.3778 - learning_rate: 1.0000e-06\n"
     ]
    },
    {
     "name": "stderr",
     "output_type": "stream",
     "text": [
      "2025-04-19 18:38:04 - INFO - \n",
      "=== Training Completed! ===\n",
      "\n",
      "2025-04-19 18:38:04 - INFO - Final Metrics: accuracy: 0.9888 - auc: 0.9880 - f1_score: 0.9239 - loss: 0.0778 - precision: 0.9645 - recall: 0.9019 - val_accuracy: 0.9113 - val_auc: 0.6561 - val_f1_score: 0.3949 - val_loss: 0.4869 - val_precision: 0.4743 - val_recall: 0.3778\n",
      "\n"
     ]
    },
    {
     "name": "stdout",
     "output_type": "stream",
     "text": [
      "Epoch 48: early stopping\n",
      "Restoring model weights from the end of the best epoch: 33.\n"
     ]
    }
   ],
   "source": [
    "# Model Training\n",
    "model          = build_densenet(num_classes)\n",
    "optimizer      = Adam(learning_rate=1e-4)\n",
    "compile_kwargs = {'optimizer': optimizer, 'loss': loss, 'metrics': metrics}\n",
    "\n",
    "history, model = start_or_resume_training(\n",
    "    model, \n",
    "    compile_kwargs, \n",
    "    train_ds, \n",
    "    val_ds, \n",
    "    TF_MAX_EPOCHS,\n",
    "    steps_per_epoch, \n",
    "    validation_steps, \n",
    "    callbacks=[checkpoint, best_checkpoint, reduce_lr, training_logger, metrics_monitor, early_stopping], \n",
    "    checkpoint_path=checkpoint_path,\n",
    "    initial_epoch=initial_epoch,\n",
    "    output_dir=MODELS_PATH,\n",
    "    model_name=model_name,\n",
    "    logger=logger\n",
    ")"
   ]
  }
 ],
 "metadata": {
  "kernelspec": {
   "display_name": "Python 3 (ipykernel)",
   "language": "python",
   "name": "python3"
  },
  "language_info": {
   "codemirror_mode": {
    "name": "ipython",
    "version": 3
   },
   "file_extension": ".py",
   "mimetype": "text/x-python",
   "name": "python",
   "nbconvert_exporter": "python",
   "pygments_lexer": "ipython3",
   "version": "3.10.16"
  }
 },
 "nbformat": 4,
 "nbformat_minor": 5
}
