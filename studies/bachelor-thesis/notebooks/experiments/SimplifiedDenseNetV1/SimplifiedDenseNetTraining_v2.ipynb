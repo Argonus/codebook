{
 "cells": [
  {
   "cell_type": "code",
   "execution_count": null,
   "id": "b694919a-9b18-4068-8e69-7258de889dff",
   "metadata": {},
   "outputs": [],
   "source": [
    "# Import dependencies\n",
    "import os\n",
    "from src.utils.gpu_config import configure_gpu, optimize_tensorflow\n",
    "\n",
    "configure_gpu()\n",
    "optimize_tensorflow()\n",
    "\n",
    "os.environ['TF_CPP_MIN_VLOG_LEVEL'] = '0'\n",
    "os.environ['TF_CPP_MIN_LOG_LEVEL'] = '2'"
   ]
  },
  {
   "cell_type": "code",
   "execution_count": 1,
   "id": "2b854daf-5f2a-4c33-9180-5081cd415b16",
   "metadata": {},
   "outputs": [
    {
     "name": "stderr",
     "output_type": "stream",
     "text": [
      "2025-04-20 08:50:14.722422: I tensorflow/core/util/port.cc:153] oneDNN custom operations are on. You may see slightly different numerical results due to floating-point round-off errors from different computation orders. To turn them off, set the environment variable `TF_ENABLE_ONEDNN_OPTS=0`.\n",
      "2025-04-20 08:50:14.729304: E external/local_xla/xla/stream_executor/cuda/cuda_fft.cc:467] Unable to register cuFFT factory: Attempting to register factory for plugin cuFFT when one has already been registered\n",
      "WARNING: All log messages before absl::InitializeLog() is called are written to STDERR\n",
      "E0000 00:00:1745131814.737138    4472 cuda_dnn.cc:8579] Unable to register cuDNN factory: Attempting to register factory for plugin cuDNN when one has already been registered\n",
      "E0000 00:00:1745131814.739584    4472 cuda_blas.cc:1407] Unable to register cuBLAS factory: Attempting to register factory for plugin cuBLAS when one has already been registered\n",
      "W0000 00:00:1745131814.745692    4472 computation_placer.cc:177] computation placer already registered. Please check linkage and avoid linking the same target more than once.\n",
      "W0000 00:00:1745131814.745698    4472 computation_placer.cc:177] computation placer already registered. Please check linkage and avoid linking the same target more than once.\n",
      "W0000 00:00:1745131814.745699    4472 computation_placer.cc:177] computation placer already registered. Please check linkage and avoid linking the same target more than once.\n",
      "W0000 00:00:1745131814.745700    4472 computation_placer.cc:177] computation placer already registered. Please check linkage and avoid linking the same target more than once.\n",
      "2025-04-20 08:50:14.748351: I tensorflow/core/platform/cpu_feature_guard.cc:210] This TensorFlow binary is optimized to use available CPU instructions in performance-critical operations.\n",
      "To enable the following instructions: AVX2 AVX_VNNI FMA, in other operations, rebuild TensorFlow with the appropriate compiler flags.\n",
      "I0000 00:00:1745131815.934878    4472 gpu_device.cc:2019] Created device /job:localhost/replica:0/task:0/device:GPU:0 with 22010 MB memory:  -> device: 0, name: NVIDIA GeForce RTX 3090 Ti, pci bus id: 0000:01:00.0, compute capability: 8.6\n"
     ]
    }
   ],
   "source": [
    "# Import Tensorflow Keras\n",
    "from tensorflow.keras.optimizers import Adam\n",
    "from tensorflow.keras.losses import BinaryCrossentropy\n",
    "from tensorflow.keras.callbacks import ReduceLROnPlateau, ModelCheckpoint\n",
    "\n",
    "# Import local modules\n",
    "from src.utils.consts import TF_RECORD_DATASET, MODELS_PATH, TF_BUFFER_SIZE, TF_SHUFFLE_SIZE, TF_BATCH_SIZE, TF_MAX_EPOCHS\n",
    "from src.model.tensorflow_utils import load_dataset, optimize_dataset, count_dataset_size, get_num_classes, get_metrics\n",
    "from src.model.tensorflow_utils import setup_logger, setup_training_logger, setup_metrics_monitor, setup_early_stopping\n",
    "from src.model.tensorflow_utils import start_or_resume_training, apply_augmentation_to_dataset\n",
    "from src.model.densnet.tensorflow_dense_net_basic import build_densenet\n",
    "\n",
    "# Input Data\n",
    "initial_epoch   = None\n",
    "resume_training = False\n",
    "checkpoint_path = None\n",
    "set_name        = \"SimplifiedDenseNetV1\"\n",
    "model_name      = f\"{set_name}_2\"\n",
    "num_classes     = get_num_classes()\n",
    "\n",
    "train_ds = load_dataset(f\"{TF_RECORD_DATASET}/train.tfrecord\", TF_BUFFER_SIZE)\n",
    "val_ds   = load_dataset(f\"{TF_RECORD_DATASET}/val.tfrecord\", TF_BUFFER_SIZE)"
   ]
  },
  {
   "cell_type": "code",
   "execution_count": 2,
   "id": "5f152b8a-8ff8-4095-9815-e304ce2beb52",
   "metadata": {},
   "outputs": [
    {
     "name": "stderr",
     "output_type": "stream",
     "text": [
      "2025-04-20 08:50:16.205319: I tensorflow/core/kernels/data/tf_record_dataset_op.cc:387] The default buffer size is 262144, which is overridden by the user specified `buffer_size` of 1048576\n",
      "2025-04-20 08:50:53.727414: W tensorflow/core/lib/png/png_io.cc:92] PNG warning: iCCP: profile 'ICC Profile': 'GRAY': Gray color space not permitted on RGB PNG\n",
      "2025-04-20 08:50:57.841188: I tensorflow/core/framework/local_rendezvous.cc:407] Local rendezvous is aborting with status: OUT_OF_RANGE: End of sequence\n",
      "Counting samples: 71842 samples [00:41, 1724.17 samples/s]\n",
      "2025-04-20 08:51:07.182365: I tensorflow/core/framework/local_rendezvous.cc:407] Local rendezvous is aborting with status: OUT_OF_RANGE: End of sequence\n",
      "Counting samples: 15431 samples [00:09, 1652.24 samples/s]\n"
     ]
    }
   ],
   "source": [
    "steps_per_epoch  = int(count_dataset_size(train_ds, None) / TF_BATCH_SIZE)\n",
    "validation_steps = int(count_dataset_size(val_ds, None) / TF_BATCH_SIZE)\n",
    "\n",
    "# Disable Advanced Augmentations\n",
    "probability = {\n",
    "    \"intensity_scaling\": 0,\n",
    "    \"adaptive_histogram\": 0,\n",
    "    \"zoom\": 0,\n",
    "    \"cutout\": 0\n",
    "}\n",
    "\n",
    "train_ds = train_ds.shuffle(TF_SHUFFLE_SIZE, reshuffle_each_iteration=True)\n",
    "train_ds = apply_augmentation_to_dataset(train_ds, probability)\n",
    "train_ds = optimize_dataset(train_ds, TF_BATCH_SIZE)\n",
    "\n",
    "val_ds   = optimize_dataset(val_ds, TF_BATCH_SIZE)"
   ]
  },
  {
   "cell_type": "code",
   "execution_count": 3,
   "id": "3a0e37c9-b178-40d8-bd25-8c0a6498564a",
   "metadata": {},
   "outputs": [],
   "source": [
    "# Setup Model Deps\n",
    "logger            = setup_logger()\n",
    "training_logger   = setup_training_logger(logger, TF_BATCH_SIZE, 100)\n",
    "metrics_monitor   = setup_metrics_monitor(MODELS_PATH, model_name, logger, resume_training=resume_training, initial_epoch=initial_epoch)\n",
    "metrics           = get_metrics()\n",
    "\n",
    "# Setup compile arguments\n",
    "loss           = BinaryCrossentropy(from_logits=False)\n",
    "reduce_lr      = ReduceLROnPlateau(monitor=\"val_f1_score\", factor=0.5,  patience=3, min_lr=1e-6, mode=\"max\", verbose=1)\n",
    "early_stopping = setup_early_stopping()\n",
    "\n",
    "epoch_mode           = 'cp-{epoch:04d}'\n",
    "save_checkpoint_path = f\"{MODELS_PATH}/{model_name}/checkpoints/{epoch_mode}.keras\"\n",
    "checkpoint           = ModelCheckpoint(save_checkpoint_path, monitor=\"val_f1_score\", save_best_only=False, mode=\"max\")\n",
    "\n",
    "model_path      = f\"{MODELS_PATH}/{model_name}.keras\"\n",
    "best_checkpoint = ModelCheckpoint(model_path, monitor=\"val_f1_score\", save_best_only=True, mode=\"max\")"
   ]
  },
  {
   "cell_type": "code",
   "execution_count": 4,
   "id": "c44d4a9a-ffbb-4917-a702-c35773b9857c",
   "metadata": {},
   "outputs": [
    {
     "name": "stderr",
     "output_type": "stream",
     "text": [
      "2025-04-20 08:51:08 - INFO - \n",
      "=== Training Started ===\n",
      "\n",
      "2025-04-20 08:51:08 - INFO - Batch Size: 128\n",
      "2025-04-20 08:51:08 - INFO - Optimizer: Adam\n",
      "2025-04-20 08:51:08 - INFO - \n",
      "==================================================\n",
      "\n",
      "2025-04-20 08:51:08 - INFO - \n",
      "=== Starting Epoch 1 ===\n",
      "\n"
     ]
    },
    {
     "name": "stdout",
     "output_type": "stream",
     "text": [
      "Epoch 1/100\n"
     ]
    },
    {
     "name": "stderr",
     "output_type": "stream",
     "text": [
      "2025-04-20 08:51:29.611586: I tensorflow/core/kernels/data/shuffle_dataset_op.cc:452] ShuffleDatasetV3:10: Filling up shuffle buffer (this may take a while): 17910 of 25000\n",
      "2025-04-20 08:51:33.703825: I tensorflow/core/kernels/data/shuffle_dataset_op.cc:482] Shuffle buffer filled.\n",
      "WARNING: All log messages before absl::InitializeLog() is called are written to STDERR\n",
      "I0000 00:00:1745131894.005881    4555 service.cc:152] XLA service 0x78add4005610 initialized for platform CUDA (this does not guarantee that XLA will be used). Devices:\n",
      "I0000 00:00:1745131894.005936    4555 service.cc:160]   StreamExecutor device (0): NVIDIA GeForce RTX 3090 Ti, Compute Capability 8.6\n",
      "2025-04-20 08:51:34.971653: I tensorflow/compiler/mlir/tensorflow/utils/dump_mlir_util.cc:269] disabling MLIR crash reproducer, set env var `MLIR_CRASH_REPRODUCER_DIRECTORY` to enable.\n",
      "I0000 00:00:1745131897.665017    4555 cuda_dnn.cc:529] Loaded cuDNN version 90300\n",
      "I0000 00:00:1745131962.687392    4555 device_compiler.h:188] Compiled cluster using XLA!  This line is logged at most once for the lifetime of the process.\n"
     ]
    },
    {
     "name": "stdout",
     "output_type": "stream",
     "text": [
      "\u001b[1m307/561\u001b[0m \u001b[32m━━━━━━━━━━\u001b[0m\u001b[37m━━━━━━━━━━\u001b[0m \u001b[1m1:04\u001b[0m 256ms/step - accuracy: 0.9062 - auc: 0.5332 - f1_score: 0.2264 - loss: 0.8121 - precision: 0.4534 - recall: 0.2177"
     ]
    },
    {
     "name": "stderr",
     "output_type": "stream",
     "text": [
      "2025-04-20 08:54:01.082526: W tensorflow/core/lib/png/png_io.cc:92] PNG warning: iCCP: profile 'ICC Profile': 'GRAY': Gray color space not permitted on RGB PNG\n"
     ]
    },
    {
     "name": "stdout",
     "output_type": "stream",
     "text": [
      "\u001b[1m561/561\u001b[0m \u001b[32m━━━━━━━━━━━━━━━━━━━━\u001b[0m\u001b[37m\u001b[0m \u001b[1m0s\u001b[0m 252ms/step - accuracy: 0.9111 - auc: 0.5499 - f1_score: 0.2301 - loss: 0.7842 - precision: 0.4921 - recall: 0.2214  "
     ]
    },
    {
     "name": "stderr",
     "output_type": "stream",
     "text": [
      "2025-04-20 08:55:06.202532: I external/local_xla/xla/stream_executor/cuda/subprocess_compilation.cc:346] ptxas warning : Registers are spilled to local memory in function 'gemm_fusion_dot_2036_0', 188 bytes spill stores, 316 bytes spill loads\n",
      "\n",
      "2025-04-20 08:55:06.263248: I external/local_xla/xla/stream_executor/cuda/subprocess_compilation.cc:346] ptxas warning : Registers are spilled to local memory in function 'gemm_fusion_dot_2036', 212 bytes spill stores, 212 bytes spill loads\n",
      "\n",
      "2025-04-20 08:55:06.374504: I external/local_xla/xla/stream_executor/cuda/subprocess_compilation.cc:346] ptxas warning : Registers are spilled to local memory in function 'gemm_fusion_dot_2036', 76 bytes spill stores, 76 bytes spill loads\n",
      "\n",
      "2025-04-20 08:55:06.562702: I external/local_xla/xla/stream_executor/cuda/subprocess_compilation.cc:346] ptxas warning : Registers are spilled to local memory in function 'gemm_fusion_dot_2036', 3748 bytes spill stores, 3744 bytes spill loads\n",
      "\n",
      "2025-04-20 08:55:06.669607: I external/local_xla/xla/stream_executor/cuda/subprocess_compilation.cc:346] ptxas warning : Registers are spilled to local memory in function 'gemm_fusion_dot_2036', 3980 bytes spill stores, 3960 bytes spill loads\n",
      "\n",
      "2025-04-20 08:55:22 - INFO - \n",
      "=== Epoch 1 Summary ===\n",
      "2025-04-20 08:55:22 - INFO - Time: 253.76s\n",
      "2025-04-20 08:55:22 - INFO - Training   - accuracy: 0.9180 - auc: 0.5777 - f1_score: 0.2377 - loss: 0.7315 - precision: 0.5515 - recall: 0.2289 - learning_rate: 0.0001\n",
      "2025-04-20 08:55:22 - INFO - Validation - accuracy: 0.9214 - auc: 0.6515 - f1_score: 0.1760 - loss: 0.6446 - precision: 0.7134 - recall: 0.1283\n",
      "2025-04-20 08:55:22 - INFO - ==================================================\n",
      "\n"
     ]
    },
    {
     "name": "stdout",
     "output_type": "stream",
     "text": [
      "\u001b[1m561/561\u001b[0m \u001b[32m━━━━━━━━━━━━━━━━━━━━\u001b[0m\u001b[37m\u001b[0m \u001b[1m254s\u001b[0m 285ms/step - accuracy: 0.9111 - auc: 0.5500 - f1_score: 0.2301 - loss: 0.7841 - precision: 0.4922 - recall: 0.2215 - val_accuracy: 0.9214 - val_auc: 0.6515 - val_f1_score: 0.1760 - val_loss: 0.6446 - val_precision: 0.7134 - val_recall: 0.1283 - learning_rate: 1.0000e-04\n"
     ]
    },
    {
     "name": "stderr",
     "output_type": "stream",
     "text": [
      "2025-04-20 08:55:22 - INFO - \n",
      "=== Starting Epoch 2 ===\n",
      "\n"
     ]
    },
    {
     "name": "stdout",
     "output_type": "stream",
     "text": [
      "Epoch 2/100\n"
     ]
    },
    {
     "name": "stderr",
     "output_type": "stream",
     "text": [
      "2025-04-20 08:55:32.757478: I tensorflow/core/kernels/data/shuffle_dataset_op.cc:452] ShuffleDatasetV3:10: Filling up shuffle buffer (this may take a while): 11279 of 25000\n",
      "2025-04-20 08:55:42.764002: I tensorflow/core/kernels/data/shuffle_dataset_op.cc:452] ShuffleDatasetV3:10: Filling up shuffle buffer (this may take a while): 24769 of 25000\n",
      "2025-04-20 08:55:42.885864: I tensorflow/core/kernels/data/shuffle_dataset_op.cc:482] Shuffle buffer filled.\n",
      "2025-04-20 08:56:14.058245: I external/local_xla/xla/stream_executor/cuda/subprocess_compilation.cc:346] ptxas warning : Registers are spilled to local memory in function 'input_reduce_transpose_fusion_58', 172 bytes spill stores, 156 bytes spill loads\n",
      "\n"
     ]
    },
    {
     "name": "stdout",
     "output_type": "stream",
     "text": [
      "\u001b[1m307/561\u001b[0m \u001b[32m━━━━━━━━━━\u001b[0m\u001b[37m━━━━━━━━━━\u001b[0m \u001b[1m1:06\u001b[0m 263ms/step - accuracy: 0.9213 - auc: 0.6171 - f1_score: 0.2487 - loss: 0.6349 - precision: 0.6061 - recall: 0.2388"
     ]
    },
    {
     "name": "stderr",
     "output_type": "stream",
     "text": [
      "2025-04-20 08:57:34.651920: W tensorflow/core/lib/png/png_io.cc:92] PNG warning: iCCP: profile 'ICC Profile': 'GRAY': Gray color space not permitted on RGB PNG\n"
     ]
    },
    {
     "name": "stdout",
     "output_type": "stream",
     "text": [
      "\u001b[1m561/561\u001b[0m \u001b[32m━━━━━━━━━━━━━━━━━━━━\u001b[0m\u001b[37m\u001b[0m \u001b[1m0s\u001b[0m 256ms/step - accuracy: 0.9217 - auc: 0.6237 - f1_score: 0.2518 - loss: 0.6200 - precision: 0.6111 - recall: 0.2416  "
     ]
    },
    {
     "name": "stderr",
     "output_type": "stream",
     "text": [
      "2025-04-20 08:58:37.887129: W tensorflow/core/kernels/data/prefetch_autotuner.cc:52] Prefetch autotuner tried to allocate 113753600 bytes after encountering the first element of size 113753600 bytes.This already causes the autotune ram budget to be exceeded. To stay within the ram budget, either increase the ram budget or reduce element size\n",
      "2025-04-20 08:58:52 - INFO - \n",
      "=== Epoch 2 Summary ===\n",
      "2025-04-20 08:58:52 - INFO - Time: 209.51s\n",
      "2025-04-20 08:58:52 - INFO - Training   - accuracy: 0.9226 - auc: 0.6349 - f1_score: 0.2583 - loss: 0.5886 - precision: 0.6203 - recall: 0.2482 - learning_rate: 0.0001\n",
      "2025-04-20 08:58:52 - INFO - Validation - accuracy: 0.9255 - auc: 0.6796 - f1_score: 0.2557 - loss: 0.5257 - precision: 0.6665 - recall: 0.2497\n",
      "2025-04-20 08:58:52 - INFO - ==================================================\n",
      "\n"
     ]
    },
    {
     "name": "stdout",
     "output_type": "stream",
     "text": [
      "\u001b[1m561/561\u001b[0m \u001b[32m━━━━━━━━━━━━━━━━━━━━\u001b[0m\u001b[37m\u001b[0m \u001b[1m210s\u001b[0m 282ms/step - accuracy: 0.9217 - auc: 0.6237 - f1_score: 0.2518 - loss: 0.6200 - precision: 0.6111 - recall: 0.2416 - val_accuracy: 0.9255 - val_auc: 0.6796 - val_f1_score: 0.2557 - val_loss: 0.5257 - val_precision: 0.6665 - val_recall: 0.2497 - learning_rate: 1.0000e-04\n"
     ]
    },
    {
     "name": "stderr",
     "output_type": "stream",
     "text": [
      "2025-04-20 08:58:52 - INFO - \n",
      "=== Starting Epoch 3 ===\n",
      "\n"
     ]
    },
    {
     "name": "stdout",
     "output_type": "stream",
     "text": [
      "Epoch 3/100\n",
      "\u001b[1m  2/561\u001b[0m \u001b[37m━━━━━━━━━━━━━━━━━━━━\u001b[0m \u001b[1m45s\u001b[0m 81ms/step - accuracy: 0.9336 - auc: 0.5891 - f1_score: 0.3148 - loss: 0.5167 - precision: 0.6717 - recall: 0.3104  "
     ]
    },
    {
     "name": "stderr",
     "output_type": "stream",
     "text": [
      "2025-04-20 08:59:02.344023: I tensorflow/core/kernels/data/shuffle_dataset_op.cc:452] ShuffleDatasetV3:10: Filling up shuffle buffer (this may take a while): 13492 of 25000\n",
      "2025-04-20 08:59:10.785153: I tensorflow/core/kernels/data/shuffle_dataset_op.cc:482] Shuffle buffer filled.\n"
     ]
    },
    {
     "name": "stdout",
     "output_type": "stream",
     "text": [
      "\u001b[1m309/561\u001b[0m \u001b[32m━━━━━━━━━━━\u001b[0m\u001b[37m━━━━━━━━━\u001b[0m \u001b[1m1:22\u001b[0m 327ms/step - accuracy: 0.9237 - auc: 0.6463 - f1_score: 0.2656 - loss: 0.5212 - precision: 0.6321 - recall: 0.2554"
     ]
    },
    {
     "name": "stderr",
     "output_type": "stream",
     "text": [
      "2025-04-20 09:00:33.217912: W tensorflow/core/lib/png/png_io.cc:92] PNG warning: iCCP: profile 'ICC Profile': 'GRAY': Gray color space not permitted on RGB PNG\n"
     ]
    },
    {
     "name": "stdout",
     "output_type": "stream",
     "text": [
      "\u001b[1m561/561\u001b[0m \u001b[32m━━━━━━━━━━━━━━━━━━━━\u001b[0m\u001b[37m\u001b[0m \u001b[1m0s\u001b[0m 292ms/step - accuracy: 0.9237 - auc: 0.6480 - f1_score: 0.2671 - loss: 0.5116 - precision: 0.6340 - recall: 0.2571  "
     ]
    },
    {
     "name": "stderr",
     "output_type": "stream",
     "text": [
      "2025-04-20 09:01:36.042707: W tensorflow/core/kernels/data/prefetch_autotuner.cc:52] Prefetch autotuner tried to allocate 113753600 bytes after encountering the first element of size 113753600 bytes.This already causes the autotune ram budget to be exceeded. To stay within the ram budget, either increase the ram budget or reduce element size\n",
      "2025-04-20 09:01:45.601915: I tensorflow/core/kernels/data/shuffle_dataset_op.cc:452] ShuffleDatasetV3:10: Filling up shuffle buffer (this may take a while): 7622 of 25000\n",
      "2025-04-20 09:01:55.606437: I tensorflow/core/kernels/data/shuffle_dataset_op.cc:452] ShuffleDatasetV3:10: Filling up shuffle buffer (this may take a while): 19418 of 25000\n",
      "2025-04-20 09:01:56 - INFO - \n",
      "=== Epoch 3 Summary ===\n",
      "2025-04-20 09:01:56 - INFO - Time: 184.21s\n",
      "2025-04-20 09:01:56 - INFO - Training   - accuracy: 0.9241 - auc: 0.6534 - f1_score: 0.2711 - loss: 0.4906 - precision: 0.6378 - recall: 0.2614 - learning_rate: 0.0001\n",
      "2025-04-20 09:01:56 - INFO - Validation - accuracy: 0.9267 - auc: 0.7080 - f1_score: 0.2883 - loss: 0.4448 - precision: 0.6598 - recall: 0.2868\n",
      "2025-04-20 09:01:56 - INFO - ==================================================\n",
      "\n"
     ]
    },
    {
     "name": "stdout",
     "output_type": "stream",
     "text": [
      "\u001b[1m561/561\u001b[0m \u001b[32m━━━━━━━━━━━━━━━━━━━━\u001b[0m\u001b[37m\u001b[0m \u001b[1m184s\u001b[0m 329ms/step - accuracy: 0.9237 - auc: 0.6480 - f1_score: 0.2671 - loss: 0.5116 - precision: 0.6340 - recall: 0.2571 - val_accuracy: 0.9267 - val_auc: 0.7080 - val_f1_score: 0.2883 - val_loss: 0.4448 - val_precision: 0.6598 - val_recall: 0.2868 - learning_rate: 1.0000e-04\n"
     ]
    },
    {
     "name": "stderr",
     "output_type": "stream",
     "text": [
      "2025-04-20 09:01:56 - INFO - \n",
      "=== Starting Epoch 4 ===\n",
      "\n"
     ]
    },
    {
     "name": "stdout",
     "output_type": "stream",
     "text": [
      "Epoch 4/100\n",
      "\u001b[1m  3/561\u001b[0m \u001b[37m━━━━━━━━━━━━━━━━━━━━\u001b[0m \u001b[1m1:36\u001b[0m 173ms/step - accuracy: 0.9295 - auc: 0.6949 - f1_score: 0.3314 - loss: 0.4374 - precision: 0.6349 - recall: 0.3377"
     ]
    },
    {
     "name": "stderr",
     "output_type": "stream",
     "text": [
      "2025-04-20 09:01:59.113957: I tensorflow/core/kernels/data/shuffle_dataset_op.cc:482] Shuffle buffer filled.\n"
     ]
    },
    {
     "name": "stdout",
     "output_type": "stream",
     "text": [
      "\u001b[1m309/561\u001b[0m \u001b[32m━━━━━━━━━━━\u001b[0m\u001b[37m━━━━━━━━━\u001b[0m \u001b[1m1:08\u001b[0m 270ms/step - accuracy: 0.9238 - auc: 0.6718 - f1_score: 0.2799 - loss: 0.4449 - precision: 0.6368 - recall: 0.2679"
     ]
    },
    {
     "name": "stderr",
     "output_type": "stream",
     "text": [
      "2025-04-20 09:03:20.176534: W tensorflow/core/lib/png/png_io.cc:92] PNG warning: iCCP: profile 'ICC Profile': 'GRAY': Gray color space not permitted on RGB PNG\n"
     ]
    },
    {
     "name": "stdout",
     "output_type": "stream",
     "text": [
      "\u001b[1m561/561\u001b[0m \u001b[32m━━━━━━━━━━━━━━━━━━━━\u001b[0m\u001b[37m\u001b[0m \u001b[1m0s\u001b[0m 261ms/step - accuracy: 0.9242 - auc: 0.6728 - f1_score: 0.2802 - loss: 0.4377 - precision: 0.6399 - recall: 0.2687  "
     ]
    },
    {
     "name": "stderr",
     "output_type": "stream",
     "text": [
      "2025-04-20 09:04:23.061928: W tensorflow/core/kernels/data/prefetch_autotuner.cc:52] Prefetch autotuner tried to allocate 133676544 bytes after encountering the first element of size 133676544 bytes.This already causes the autotune ram budget to be exceeded. To stay within the ram budget, either increase the ram budget or reduce element size\n",
      "2025-04-20 09:04:31.906627: I tensorflow/core/kernels/data/shuffle_dataset_op.cc:452] ShuffleDatasetV3:10: Filling up shuffle buffer (this may take a while): 10882 of 25000\n",
      "2025-04-20 09:04:44.977905: I tensorflow/core/kernels/data/shuffle_dataset_op.cc:482] Shuffle buffer filled.\n",
      "2025-04-20 09:04:49 - INFO - \n",
      "=== Epoch 4 Summary ===\n",
      "2025-04-20 09:04:49 - INFO - Time: 173.23s\n",
      "2025-04-20 09:04:49 - INFO - Training   - accuracy: 0.9249 - auc: 0.6765 - f1_score: 0.2821 - loss: 0.4220 - precision: 0.6455 - recall: 0.2716 - learning_rate: 0.0001\n",
      "2025-04-20 09:04:49 - INFO - Validation - accuracy: 0.9248 - auc: 0.6762 - f1_score: 0.2692 - loss: 0.3977 - precision: 0.6207 - recall: 0.3003\n",
      "2025-04-20 09:04:49 - INFO - ==================================================\n",
      "\n"
     ]
    },
    {
     "name": "stdout",
     "output_type": "stream",
     "text": [
      "\u001b[1m561/561\u001b[0m \u001b[32m━━━━━━━━━━━━━━━━━━━━\u001b[0m\u001b[37m\u001b[0m \u001b[1m173s\u001b[0m 309ms/step - accuracy: 0.9242 - auc: 0.6728 - f1_score: 0.2802 - loss: 0.4377 - precision: 0.6399 - recall: 0.2687 - val_accuracy: 0.9248 - val_auc: 0.6762 - val_f1_score: 0.2692 - val_loss: 0.3977 - val_precision: 0.6207 - val_recall: 0.3003 - learning_rate: 1.0000e-04\n"
     ]
    },
    {
     "name": "stderr",
     "output_type": "stream",
     "text": [
      "2025-04-20 09:04:49 - INFO - \n",
      "=== Starting Epoch 5 ===\n",
      "\n"
     ]
    },
    {
     "name": "stdout",
     "output_type": "stream",
     "text": [
      "Epoch 5/100\n",
      "\u001b[1m304/561\u001b[0m \u001b[32m━━━━━━━━━━\u001b[0m\u001b[37m━━━━━━━━━━\u001b[0m \u001b[1m1:07\u001b[0m 264ms/step - accuracy: 0.9246 - auc: 0.6826 - f1_score: 0.2849 - loss: 0.3898 - precision: 0.6442 - recall: 0.2742"
     ]
    },
    {
     "name": "stderr",
     "output_type": "stream",
     "text": [
      "2025-04-20 09:06:10.103840: W tensorflow/core/lib/png/png_io.cc:92] PNG warning: iCCP: profile 'ICC Profile': 'GRAY': Gray color space not permitted on RGB PNG\n"
     ]
    },
    {
     "name": "stdout",
     "output_type": "stream",
     "text": [
      "\u001b[1m561/561\u001b[0m \u001b[32m━━━━━━━━━━━━━━━━━━━━\u001b[0m\u001b[37m\u001b[0m \u001b[1m0s\u001b[0m 257ms/step - accuracy: 0.9248 - auc: 0.6848 - f1_score: 0.2861 - loss: 0.3843 - precision: 0.6471 - recall: 0.2753  "
     ]
    },
    {
     "name": "stderr",
     "output_type": "stream",
     "text": [
      "2025-04-20 09:07:14.113569: W tensorflow/core/kernels/data/prefetch_autotuner.cc:52] Prefetch autotuner tried to allocate 77078016 bytes after encountering the first element of size 77078016 bytes.This already causes the autotune ram budget to be exceeded. To stay within the ram budget, either increase the ram budget or reduce element size\n",
      "2025-04-20 09:07:21.304870: I tensorflow/core/kernels/data/shuffle_dataset_op.cc:452] ShuffleDatasetV3:10: Filling up shuffle buffer (this may take a while): 7436 of 25000\n",
      "2025-04-20 09:07:31.305458: I tensorflow/core/kernels/data/shuffle_dataset_op.cc:452] ShuffleDatasetV3:10: Filling up shuffle buffer (this may take a while): 13161 of 25000\n",
      "2025-04-20 09:07:41 - INFO - \n",
      "=== Epoch 5 Summary ===\n",
      "2025-04-20 09:07:41 - INFO - Time: 171.75s\n",
      "2025-04-20 09:07:41 - INFO - Training   - accuracy: 0.9253 - auc: 0.6905 - f1_score: 0.2873 - loss: 0.3727 - precision: 0.6510 - recall: 0.2762 - learning_rate: 0.0001\n",
      "2025-04-20 09:07:41 - INFO - Validation - accuracy: 0.9241 - auc: 0.7177 - f1_score: 0.2217 - loss: 0.3518 - precision: 0.7427 - recall: 0.1666\n",
      "2025-04-20 09:07:41 - INFO - ==================================================\n",
      "\n"
     ]
    },
    {
     "name": "stdout",
     "output_type": "stream",
     "text": [
      "\u001b[1m561/561\u001b[0m \u001b[32m━━━━━━━━━━━━━━━━━━━━\u001b[0m\u001b[37m\u001b[0m \u001b[1m172s\u001b[0m 306ms/step - accuracy: 0.9248 - auc: 0.6848 - f1_score: 0.2861 - loss: 0.3842 - precision: 0.6471 - recall: 0.2753 - val_accuracy: 0.9241 - val_auc: 0.7177 - val_f1_score: 0.2217 - val_loss: 0.3518 - val_precision: 0.7427 - val_recall: 0.1666 - learning_rate: 1.0000e-04\n"
     ]
    },
    {
     "name": "stderr",
     "output_type": "stream",
     "text": [
      "2025-04-20 09:07:41 - INFO - \n",
      "=== Starting Epoch 6 ===\n",
      "\n"
     ]
    },
    {
     "name": "stdout",
     "output_type": "stream",
     "text": [
      "Epoch 6/100\n",
      "\u001b[1m  5/561\u001b[0m \u001b[37m━━━━━━━━━━━━━━━━━━━━\u001b[0m \u001b[1m1:59\u001b[0m 214ms/step - accuracy: 0.9250 - auc: 0.6789 - f1_score: 0.2623 - loss: 0.3562 - precision: 0.6462 - recall: 0.2257"
     ]
    },
    {
     "name": "stderr",
     "output_type": "stream",
     "text": [
      "2025-04-20 09:07:44.930604: I tensorflow/core/kernels/data/shuffle_dataset_op.cc:482] Shuffle buffer filled.\n"
     ]
    },
    {
     "name": "stdout",
     "output_type": "stream",
     "text": [
      "\u001b[1m316/561\u001b[0m \u001b[32m━━━━━━━━━━━\u001b[0m\u001b[37m━━━━━━━━━\u001b[0m \u001b[1m1:07\u001b[0m 274ms/step - accuracy: 0.9258 - auc: 0.6903 - f1_score: 0.2883 - loss: 0.3479 - precision: 0.6557 - recall: 0.2760"
     ]
    },
    {
     "name": "stderr",
     "output_type": "stream",
     "text": [
      "2025-04-20 09:09:08.287032: W tensorflow/core/lib/png/png_io.cc:92] PNG warning: iCCP: profile 'ICC Profile': 'GRAY': Gray color space not permitted on RGB PNG\n"
     ]
    },
    {
     "name": "stdout",
     "output_type": "stream",
     "text": [
      "\u001b[1m380/561\u001b[0m \u001b[32m━━━━━━━━━━━━━\u001b[0m\u001b[37m━━━━━━━\u001b[0m \u001b[1m49s\u001b[0m 272ms/step - accuracy: 0.9259 - auc: 0.6909 - f1_score: 0.2893 - loss: 0.3468 - precision: 0.6561 - recall: 0.2772 "
     ]
    },
    {
     "name": "stderr",
     "output_type": "stream",
     "text": [
      "2025-04-20 09:09:25.449904: W external/local_xla/xla/stream_executor/integrations/stream_executor_allocator.cc:50] could not allocate pinned host memory of size: 2147483648\n"
     ]
    },
    {
     "name": "stdout",
     "output_type": "stream",
     "text": [
      "\u001b[1m561/561\u001b[0m \u001b[32m━━━━━━━━━━━━━━━━━━━━\u001b[0m\u001b[37m\u001b[0m \u001b[1m0s\u001b[0m 265ms/step - accuracy: 0.9259 - auc: 0.6928 - f1_score: 0.2910 - loss: 0.3439 - precision: 0.6567 - recall: 0.2789 "
     ]
    },
    {
     "name": "stderr",
     "output_type": "stream",
     "text": [
      "2025-04-20 09:10:14.169851: I tensorflow/core/kernels/data/shuffle_dataset_op.cc:452] ShuffleDatasetV3:10: Filling up shuffle buffer (this may take a while): 11483 of 25000\n",
      "2025-04-20 09:10:24.170460: I tensorflow/core/kernels/data/shuffle_dataset_op.cc:452] ShuffleDatasetV3:10: Filling up shuffle buffer (this may take a while): 19915 of 25000\n",
      "2025-04-20 09:10:32.317721: W tensorflow/core/kernels/data/prefetch_autotuner.cc:52] Prefetch autotuner tried to allocate 77078016 bytes after encountering the first element of size 77078016 bytes.This already causes the autotune ram budget to be exceeded. To stay within the ram budget, either increase the ram budget or reduce element size\n",
      "2025-04-20 09:10:32.744616: I tensorflow/core/kernels/data/shuffle_dataset_op.cc:482] Shuffle buffer filled.\n"
     ]
    },
    {
     "name": "stdout",
     "output_type": "stream",
     "text": [
      "\n",
      "Epoch 6: ReduceLROnPlateau reducing learning rate to 4.999999873689376e-05.\n"
     ]
    },
    {
     "name": "stderr",
     "output_type": "stream",
     "text": [
      "2025-04-20 09:10:33 - INFO - \n",
      "=== Epoch 6 Summary ===\n",
      "2025-04-20 09:10:33 - INFO - Time: 171.75s\n",
      "2025-04-20 09:10:33 - INFO - Training   - accuracy: 0.9261 - auc: 0.6987 - f1_score: 0.2946 - loss: 0.3352 - precision: 0.6589 - recall: 0.2823 - learning_rate: 0.0001\n",
      "2025-04-20 09:10:33 - INFO - Validation - accuracy: 0.9272 - auc: 0.7313 - f1_score: 0.2774 - loss: 0.3189 - precision: 0.6898 - recall: 0.2642\n",
      "2025-04-20 09:10:33 - INFO - ==================================================\n",
      "\n"
     ]
    },
    {
     "name": "stdout",
     "output_type": "stream",
     "text": [
      "\u001b[1m561/561\u001b[0m \u001b[32m━━━━━━━━━━━━━━━━━━━━\u001b[0m\u001b[37m\u001b[0m \u001b[1m172s\u001b[0m 306ms/step - accuracy: 0.9259 - auc: 0.6928 - f1_score: 0.2910 - loss: 0.3438 - precision: 0.6567 - recall: 0.2789 - val_accuracy: 0.9272 - val_auc: 0.7313 - val_f1_score: 0.2774 - val_loss: 0.3189 - val_precision: 0.6898 - val_recall: 0.2642 - learning_rate: 1.0000e-04\n"
     ]
    },
    {
     "name": "stderr",
     "output_type": "stream",
     "text": [
      "2025-04-20 09:10:33 - INFO - \n",
      "=== Starting Epoch 7 ===\n",
      "\n"
     ]
    },
    {
     "name": "stdout",
     "output_type": "stream",
     "text": [
      "Epoch 7/100\n",
      "\u001b[1m317/561\u001b[0m \u001b[32m━━━━━━━━━━━\u001b[0m\u001b[37m━━━━━━━━━\u001b[0m \u001b[1m1:02\u001b[0m 255ms/step - accuracy: 0.9263 - auc: 0.7129 - f1_score: 0.2951 - loss: 0.3171 - precision: 0.6600 - recall: 0.2823"
     ]
    },
    {
     "name": "stderr",
     "output_type": "stream",
     "text": [
      "2025-04-20 09:11:54.110694: W tensorflow/core/lib/png/png_io.cc:92] PNG warning: iCCP: profile 'ICC Profile': 'GRAY': Gray color space not permitted on RGB PNG\n"
     ]
    },
    {
     "name": "stdout",
     "output_type": "stream",
     "text": [
      "\u001b[1m397/561\u001b[0m \u001b[32m━━━━━━━━━━━━━━\u001b[0m\u001b[37m━━━━━━\u001b[0m \u001b[1m41s\u001b[0m 256ms/step - accuracy: 0.9264 - auc: 0.7142 - f1_score: 0.2963 - loss: 0.3163 - precision: 0.6615 - recall: 0.2833 "
     ]
    },
    {
     "name": "stderr",
     "output_type": "stream",
     "text": [
      "2025-04-20 09:12:16.458860: W external/local_xla/xla/stream_executor/integrations/stream_executor_allocator.cc:50] could not allocate pinned host memory of size: 4294967296\n",
      "2025-04-20 09:12:17.832010: W external/local_xla/xla/stream_executor/integrations/stream_executor_allocator.cc:50] could not allocate pinned host memory of size: 3865470464\n",
      "2025-04-20 09:12:18.896572: W external/local_xla/xla/stream_executor/integrations/stream_executor_allocator.cc:50] could not allocate pinned host memory of size: 3478923264\n",
      "2025-04-20 09:12:19.726525: W external/local_xla/xla/stream_executor/integrations/stream_executor_allocator.cc:50] could not allocate pinned host memory of size: 3131030784\n",
      "2025-04-20 09:12:21.884224: W external/local_xla/xla/stream_executor/integrations/stream_executor_allocator.cc:50] could not allocate pinned host memory of size: 2817927680\n",
      "2025-04-20 09:12:26.947431: W external/local_xla/xla/stream_executor/integrations/stream_executor_allocator.cc:50] could not allocate pinned host memory of size: 2536134912\n",
      "2025-04-20 09:12:28.098629: W external/local_xla/xla/stream_executor/integrations/stream_executor_allocator.cc:50] could not allocate pinned host memory of size: 2282521344\n"
     ]
    },
    {
     "name": "stdout",
     "output_type": "stream",
     "text": [
      "\u001b[1m546/561\u001b[0m \u001b[32m━━━━━━━━━━━━━━━━━━━\u001b[0m\u001b[37m━\u001b[0m \u001b[1m4s\u001b[0m 278ms/step - accuracy: 0.9265 - auc: 0.7162 - f1_score: 0.2983 - loss: 0.3149 - precision: 0.6633 - recall: 0.2851 "
     ]
    },
    {
     "name": "stderr",
     "output_type": "stream",
     "text": [
      "2025-04-20 09:13:04.894081: I tensorflow/core/kernels/data/shuffle_dataset_op.cc:452] ShuffleDatasetV3:10: Filling up shuffle buffer (this may take a while): 12353 of 25000\n"
     ]
    },
    {
     "name": "stdout",
     "output_type": "stream",
     "text": [
      "\u001b[1m561/561\u001b[0m \u001b[32m━━━━━━━━━━━━━━━━━━━━\u001b[0m\u001b[37m\u001b[0m \u001b[1m0s\u001b[0m 277ms/step - accuracy: 0.9265 - auc: 0.7164 - f1_score: 0.2985 - loss: 0.3148 - precision: 0.6634 - recall: 0.2853"
     ]
    },
    {
     "name": "stderr",
     "output_type": "stream",
     "text": [
      "2025-04-20 09:13:09.006547: W tensorflow/core/kernels/data/prefetch_autotuner.cc:52] Prefetch autotuner tried to allocate 134225408 bytes after encountering the first element of size 134225408 bytes.This already causes the autotune ram budget to be exceeded. To stay within the ram budget, either increase the ram budget or reduce element size\n",
      "2025-04-20 09:13:09.006667: W tensorflow/core/kernels/data/prefetch_autotuner.cc:52] Prefetch autotuner tried to allocate 134225408 bytes after encountering the first element of size 134225408 bytes.This already causes the autotune ram budget to be exceeded. To stay within the ram budget, either increase the ram budget or reduce element size\n",
      "2025-04-20 09:13:24.999213: I tensorflow/core/kernels/data/shuffle_dataset_op.cc:452] ShuffleDatasetV3:10: Filling up shuffle buffer (this may take a while): 19891 of 25000\n",
      "2025-04-20 09:13:44.900480: I tensorflow/core/kernels/data/shuffle_dataset_op.cc:452] ShuffleDatasetV3:10: Filling up shuffle buffer (this may take a while): 21864 of 25000\n",
      "2025-04-20 09:13:52 - INFO - \n",
      "=== Epoch 7 Summary ===\n",
      "2025-04-20 09:13:52 - INFO - Time: 198.67s\n",
      "2025-04-20 09:13:52 - INFO - Training   - accuracy: 0.9270 - auc: 0.7222 - f1_score: 0.3049 - loss: 0.3099 - precision: 0.6678 - recall: 0.2908 - learning_rate: 0.0000\n",
      "2025-04-20 09:13:52 - INFO - Validation - accuracy: 0.9242 - auc: 0.7395 - f1_score: 0.2905 - loss: 0.3060 - precision: 0.6336 - recall: 0.2618\n",
      "2025-04-20 09:13:52 - INFO - ==================================================\n",
      "\n"
     ]
    },
    {
     "name": "stdout",
     "output_type": "stream",
     "text": [
      "\u001b[1m561/561\u001b[0m \u001b[32m━━━━━━━━━━━━━━━━━━━━\u001b[0m\u001b[37m\u001b[0m \u001b[1m199s\u001b[0m 355ms/step - accuracy: 0.9265 - auc: 0.7164 - f1_score: 0.2985 - loss: 0.3148 - precision: 0.6634 - recall: 0.2853 - val_accuracy: 0.9242 - val_auc: 0.7395 - val_f1_score: 0.2905 - val_loss: 0.3060 - val_precision: 0.6336 - val_recall: 0.2618 - learning_rate: 5.0000e-05\n"
     ]
    },
    {
     "name": "stderr",
     "output_type": "stream",
     "text": [
      "2025-04-20 09:13:52 - INFO - \n",
      "=== Starting Epoch 8 ===\n",
      "\n"
     ]
    },
    {
     "name": "stdout",
     "output_type": "stream",
     "text": [
      "Epoch 8/100\n",
      "\u001b[1m  6/561\u001b[0m \u001b[37m━━━━━━━━━━━━━━━━━━━━\u001b[0m \u001b[1m2:20\u001b[0m 253ms/step - accuracy: 0.9187 - auc: 0.6801 - f1_score: 0.2770 - loss: 0.3186 - precision: 0.6487 - recall: 0.2536"
     ]
    },
    {
     "name": "stderr",
     "output_type": "stream",
     "text": [
      "2025-04-20 09:13:54.799839: I tensorflow/core/kernels/data/shuffle_dataset_op.cc:482] Shuffle buffer filled.\n"
     ]
    },
    {
     "name": "stdout",
     "output_type": "stream",
     "text": [
      "\u001b[1m318/561\u001b[0m \u001b[32m━━━━━━━━━━━\u001b[0m\u001b[37m━━━━━━━━━\u001b[0m \u001b[1m1:05\u001b[0m 270ms/step - accuracy: 0.9259 - auc: 0.7265 - f1_score: 0.3063 - loss: 0.3034 - precision: 0.6627 - recall: 0.2916"
     ]
    },
    {
     "name": "stderr",
     "output_type": "stream",
     "text": [
      "2025-04-20 09:15:18.381460: W tensorflow/core/lib/png/png_io.cc:92] PNG warning: iCCP: profile 'ICC Profile': 'GRAY': Gray color space not permitted on RGB PNG\n"
     ]
    },
    {
     "name": "stdout",
     "output_type": "stream",
     "text": [
      "\u001b[1m546/561\u001b[0m \u001b[32m━━━━━━━━━━━━━━━━━━━\u001b[0m\u001b[37m━\u001b[0m \u001b[1m3s\u001b[0m 263ms/step - accuracy: 0.9264 - auc: 0.7281 - f1_score: 0.3083 - loss: 0.3012 - precision: 0.6654 - recall: 0.2937  "
     ]
    },
    {
     "name": "stderr",
     "output_type": "stream",
     "text": [
      "2025-04-20 09:16:15.924378: I tensorflow/core/kernels/data/shuffle_dataset_op.cc:452] ShuffleDatasetV3:10: Filling up shuffle buffer (this may take a while): 8546 of 25000\n"
     ]
    },
    {
     "name": "stdout",
     "output_type": "stream",
     "text": [
      "\u001b[1m561/561\u001b[0m \u001b[32m━━━━━━━━━━━━━━━━━━━━\u001b[0m\u001b[37m\u001b[0m \u001b[1m0s\u001b[0m 262ms/step - accuracy: 0.9265 - auc: 0.7281 - f1_score: 0.3083 - loss: 0.3011 - precision: 0.6655 - recall: 0.2937"
     ]
    },
    {
     "name": "stderr",
     "output_type": "stream",
     "text": [
      "2025-04-20 09:16:20.155286: W tensorflow/core/kernels/data/prefetch_autotuner.cc:52] Prefetch autotuner tried to allocate 134225408 bytes after encountering the first element of size 134225408 bytes.This already causes the autotune ram budget to be exceeded. To stay within the ram budget, either increase the ram budget or reduce element size\n",
      "2025-04-20 09:16:20.155424: W tensorflow/core/kernels/data/prefetch_autotuner.cc:52] Prefetch autotuner tried to allocate 134225408 bytes after encountering the first element of size 134225408 bytes.This already causes the autotune ram budget to be exceeded. To stay within the ram budget, either increase the ram budget or reduce element size\n",
      "2025-04-20 09:16:25.926492: I tensorflow/core/kernels/data/shuffle_dataset_op.cc:452] ShuffleDatasetV3:10: Filling up shuffle buffer (this may take a while): 14049 of 25000\n",
      "2025-04-20 09:16:35.945269: I tensorflow/core/kernels/data/shuffle_dataset_op.cc:452] ShuffleDatasetV3:10: Filling up shuffle buffer (this may take a while): 17664 of 25000\n",
      "2025-04-20 09:16:47 - INFO - \n",
      "=== Epoch 8 Summary ===\n",
      "2025-04-20 09:16:47 - INFO - Time: 175.26s\n",
      "2025-04-20 09:16:47 - INFO - Training   - accuracy: 0.9271 - auc: 0.7301 - f1_score: 0.3099 - loss: 0.2969 - precision: 0.6682 - recall: 0.2955 - learning_rate: 0.0000\n",
      "2025-04-20 09:16:47 - INFO - Validation - accuracy: 0.9273 - auc: 0.7330 - f1_score: 0.2696 - loss: 0.2928 - precision: 0.6981 - recall: 0.2574\n",
      "2025-04-20 09:16:47 - INFO - ==================================================\n",
      "\n"
     ]
    },
    {
     "name": "stdout",
     "output_type": "stream",
     "text": [
      "\u001b[1m561/561\u001b[0m \u001b[32m━━━━━━━━━━━━━━━━━━━━\u001b[0m\u001b[37m\u001b[0m \u001b[1m175s\u001b[0m 313ms/step - accuracy: 0.9265 - auc: 0.7281 - f1_score: 0.3083 - loss: 0.3011 - precision: 0.6655 - recall: 0.2937 - val_accuracy: 0.9273 - val_auc: 0.7330 - val_f1_score: 0.2696 - val_loss: 0.2928 - val_precision: 0.6981 - val_recall: 0.2574 - learning_rate: 5.0000e-05\n"
     ]
    },
    {
     "name": "stderr",
     "output_type": "stream",
     "text": [
      "2025-04-20 09:16:47 - INFO - \n",
      "=== Starting Epoch 9 ===\n",
      "\n"
     ]
    },
    {
     "name": "stdout",
     "output_type": "stream",
     "text": [
      "Epoch 9/100\n",
      "\u001b[1m  3/561\u001b[0m \u001b[37m━━━━━━━━━━━━━━━━━━━━\u001b[0m \u001b[1m2:13\u001b[0m 239ms/step - accuracy: 0.9198 - auc: 0.6304 - f1_score: 0.2642 - loss: 0.3218 - precision: 0.6575 - recall: 0.2482"
     ]
    },
    {
     "name": "stderr",
     "output_type": "stream",
     "text": [
      "2025-04-20 09:16:48.684763: I tensorflow/core/kernels/data/shuffle_dataset_op.cc:482] Shuffle buffer filled.\n"
     ]
    },
    {
     "name": "stdout",
     "output_type": "stream",
     "text": [
      "\u001b[1m  5/561\u001b[0m \u001b[37m━━━━━━━━━━━━━━━━━━━━\u001b[0m \u001b[1m2:15\u001b[0m 244ms/step - accuracy: 0.9221 - auc: 0.6443 - f1_score: 0.2749 - loss: 0.3124 - precision: 0.6591 - recall: 0.2583"
     ]
    },
    {
     "name": "stderr",
     "output_type": "stream",
     "text": [
      "2025-04-20 09:16:49.135924: W tensorflow/core/kernels/data/prefetch_autotuner.cc:52] Prefetch autotuner tried to allocate 134225408 bytes after encountering the first element of size 134225408 bytes.This already causes the autotune ram budget to be exceeded. To stay within the ram budget, either increase the ram budget or reduce element size\n"
     ]
    },
    {
     "name": "stdout",
     "output_type": "stream",
     "text": [
      "\u001b[1m319/561\u001b[0m \u001b[32m━━━━━━━━━━━\u001b[0m\u001b[37m━━━━━━━━━\u001b[0m \u001b[1m1:04\u001b[0m 267ms/step - accuracy: 0.9268 - auc: 0.7254 - f1_score: 0.3068 - loss: 0.2909 - precision: 0.6661 - recall: 0.2894"
     ]
    },
    {
     "name": "stderr",
     "output_type": "stream",
     "text": [
      "2025-04-20 09:18:12.989853: W tensorflow/core/lib/png/png_io.cc:92] PNG warning: iCCP: profile 'ICC Profile': 'GRAY': Gray color space not permitted on RGB PNG\n"
     ]
    },
    {
     "name": "stdout",
     "output_type": "stream",
     "text": [
      "\u001b[1m547/561\u001b[0m \u001b[32m━━━━━━━━━━━━━━━━━━━\u001b[0m\u001b[37m━\u001b[0m \u001b[1m3s\u001b[0m 261ms/step - accuracy: 0.9270 - auc: 0.7276 - f1_score: 0.3089 - loss: 0.2894 - precision: 0.6669 - recall: 0.2922  "
     ]
    },
    {
     "name": "stderr",
     "output_type": "stream",
     "text": [
      "2025-04-20 09:19:10.565321: I tensorflow/core/kernels/data/shuffle_dataset_op.cc:452] ShuffleDatasetV3:10: Filling up shuffle buffer (this may take a while): 8711 of 25000\n"
     ]
    },
    {
     "name": "stdout",
     "output_type": "stream",
     "text": [
      "\u001b[1m561/561\u001b[0m \u001b[32m━━━━━━━━━━━━━━━━━━━━\u001b[0m\u001b[37m\u001b[0m \u001b[1m0s\u001b[0m 260ms/step - accuracy: 0.9270 - auc: 0.7277 - f1_score: 0.3090 - loss: 0.2894 - precision: 0.6670 - recall: 0.2924"
     ]
    },
    {
     "name": "stderr",
     "output_type": "stream",
     "text": [
      "2025-04-20 09:19:14.348104: W tensorflow/core/kernels/data/prefetch_autotuner.cc:52] Prefetch autotuner tried to allocate 134225408 bytes after encountering the first element of size 134225408 bytes.This already causes the autotune ram budget to be exceeded. To stay within the ram budget, either increase the ram budget or reduce element size\n",
      "2025-04-20 09:19:30.565538: I tensorflow/core/kernels/data/shuffle_dataset_op.cc:452] ShuffleDatasetV3:10: Filling up shuffle buffer (this may take a while): 18703 of 25000\n",
      "2025-04-20 09:19:41.530746: I tensorflow/core/kernels/data/shuffle_dataset_op.cc:482] Shuffle buffer filled.\n",
      "2025-04-20 09:19:42 - INFO - \n",
      "=== Epoch 9 Summary ===\n",
      "2025-04-20 09:19:42 - INFO - Time: 174.19s\n",
      "2025-04-20 09:19:42 - INFO - Training   - accuracy: 0.9272 - auc: 0.7323 - f1_score: 0.3131 - loss: 0.2861 - precision: 0.6688 - recall: 0.2972 - learning_rate: 0.0000\n",
      "2025-04-20 09:19:42 - INFO - Validation - accuracy: 0.9273 - auc: 0.7416 - f1_score: 0.3157 - loss: 0.2803 - precision: 0.6603 - recall: 0.3013\n",
      "2025-04-20 09:19:42 - INFO - ==================================================\n",
      "\n"
     ]
    },
    {
     "name": "stdout",
     "output_type": "stream",
     "text": [
      "\u001b[1m561/561\u001b[0m \u001b[32m━━━━━━━━━━━━━━━━━━━━\u001b[0m\u001b[37m\u001b[0m \u001b[1m175s\u001b[0m 312ms/step - accuracy: 0.9270 - auc: 0.7277 - f1_score: 0.3090 - loss: 0.2893 - precision: 0.6670 - recall: 0.2924 - val_accuracy: 0.9273 - val_auc: 0.7416 - val_f1_score: 0.3157 - val_loss: 0.2803 - val_precision: 0.6603 - val_recall: 0.3013 - learning_rate: 5.0000e-05\n"
     ]
    },
    {
     "name": "stderr",
     "output_type": "stream",
     "text": [
      "2025-04-20 09:19:42 - INFO - \n",
      "=== Starting Epoch 10 ===\n",
      "\n"
     ]
    },
    {
     "name": "stdout",
     "output_type": "stream",
     "text": [
      "Epoch 10/100\n",
      "\u001b[1m320/561\u001b[0m \u001b[32m━━━━━━━━━━━\u001b[0m\u001b[37m━━━━━━━━━\u001b[0m \u001b[1m1:11\u001b[0m 295ms/step - accuracy: 0.9274 - auc: 0.7337 - f1_score: 0.3105 - loss: 0.2803 - precision: 0.6721 - recall: 0.2938"
     ]
    },
    {
     "name": "stderr",
     "output_type": "stream",
     "text": [
      "2025-04-20 09:21:17.181967: W tensorflow/core/lib/png/png_io.cc:92] PNG warning: iCCP: profile 'ICC Profile': 'GRAY': Gray color space not permitted on RGB PNG\n"
     ]
    },
    {
     "name": "stdout",
     "output_type": "stream",
     "text": [
      "\u001b[1m549/561\u001b[0m \u001b[32m━━━━━━━━━━━━━━━━━━━\u001b[0m\u001b[37m━\u001b[0m \u001b[1m3s\u001b[0m 285ms/step - accuracy: 0.9275 - auc: 0.7346 - f1_score: 0.3133 - loss: 0.2792 - precision: 0.6727 - recall: 0.2970  "
     ]
    },
    {
     "name": "stderr",
     "output_type": "stream",
     "text": [
      "2025-04-20 09:22:18.835222: I tensorflow/core/kernels/data/shuffle_dataset_op.cc:452] ShuffleDatasetV3:10: Filling up shuffle buffer (this may take a while): 8736 of 25000\n"
     ]
    },
    {
     "name": "stdout",
     "output_type": "stream",
     "text": [
      "\u001b[1m561/561\u001b[0m \u001b[32m━━━━━━━━━━━━━━━━━━━━\u001b[0m\u001b[37m\u001b[0m \u001b[1m0s\u001b[0m 284ms/step - accuracy: 0.9275 - auc: 0.7346 - f1_score: 0.3134 - loss: 0.2791 - precision: 0.6727 - recall: 0.2971"
     ]
    },
    {
     "name": "stderr",
     "output_type": "stream",
     "text": [
      "2025-04-20 09:22:22.884541: W tensorflow/core/kernels/data/prefetch_autotuner.cc:52] Prefetch autotuner tried to allocate 134225408 bytes after encountering the first element of size 134225408 bytes.This already causes the autotune ram budget to be exceeded. To stay within the ram budget, either increase the ram budget or reduce element size\n",
      "2025-04-20 09:22:38.826867: I tensorflow/core/kernels/data/shuffle_dataset_op.cc:452] ShuffleDatasetV3:10: Filling up shuffle buffer (this may take a while): 20919 of 25000\n",
      "2025-04-20 09:22:45.646869: I tensorflow/core/kernels/data/shuffle_dataset_op.cc:482] Shuffle buffer filled.\n",
      "2025-04-20 09:22:45.848458: W tensorflow/core/kernels/data/prefetch_autotuner.cc:52] Prefetch autotuner tried to allocate 134225408 bytes after encountering the first element of size 134225408 bytes.This already causes the autotune ram budget to be exceeded. To stay within the ram budget, either increase the ram budget or reduce element size\n",
      "2025-04-20 09:23:11 - INFO - \n",
      "=== Epoch 10 Summary ===\n",
      "2025-04-20 09:23:11 - INFO - Time: 209.12s\n",
      "2025-04-20 09:23:11 - INFO - Training   - accuracy: 0.9278 - auc: 0.7367 - f1_score: 0.3187 - loss: 0.2764 - precision: 0.6738 - recall: 0.3025 - learning_rate: 0.0000\n",
      "2025-04-20 09:23:11 - INFO - Validation - accuracy: 0.9269 - auc: 0.7439 - f1_score: 0.2854 - loss: 0.2736 - precision: 0.7110 - recall: 0.2390\n",
      "2025-04-20 09:23:11 - INFO - ==================================================\n",
      "\n"
     ]
    },
    {
     "name": "stdout",
     "output_type": "stream",
     "text": [
      "\u001b[1m561/561\u001b[0m \u001b[32m━━━━━━━━━━━━━━━━━━━━\u001b[0m\u001b[37m\u001b[0m \u001b[1m209s\u001b[0m 373ms/step - accuracy: 0.9275 - auc: 0.7346 - f1_score: 0.3134 - loss: 0.2791 - precision: 0.6727 - recall: 0.2971 - val_accuracy: 0.9269 - val_auc: 0.7439 - val_f1_score: 0.2854 - val_loss: 0.2736 - val_precision: 0.7110 - val_recall: 0.2390 - learning_rate: 5.0000e-05\n"
     ]
    },
    {
     "name": "stderr",
     "output_type": "stream",
     "text": [
      "2025-04-20 09:23:11 - INFO - \n",
      "=== Starting Epoch 11 ===\n",
      "\n"
     ]
    },
    {
     "name": "stdout",
     "output_type": "stream",
     "text": [
      "Epoch 11/100\n",
      "\u001b[1m321/561\u001b[0m \u001b[32m━━━━━━━━━━━\u001b[0m\u001b[37m━━━━━━━━━\u001b[0m \u001b[1m1:01\u001b[0m 254ms/step - accuracy: 0.9279 - auc: 0.7413 - f1_score: 0.3231 - loss: 0.2713 - precision: 0.6736 - recall: 0.3076"
     ]
    },
    {
     "name": "stderr",
     "output_type": "stream",
     "text": [
      "2025-04-20 09:24:33.412349: W tensorflow/core/lib/png/png_io.cc:92] PNG warning: iCCP: profile 'ICC Profile': 'GRAY': Gray color space not permitted on RGB PNG\n"
     ]
    },
    {
     "name": "stdout",
     "output_type": "stream",
     "text": [
      "\u001b[1m549/561\u001b[0m \u001b[32m━━━━━━━━━━━━━━━━━━━\u001b[0m\u001b[37m━\u001b[0m \u001b[1m3s\u001b[0m 258ms/step - accuracy: 0.9279 - auc: 0.7423 - f1_score: 0.3227 - loss: 0.2705 - precision: 0.6743 - recall: 0.3065  "
     ]
    },
    {
     "name": "stderr",
     "output_type": "stream",
     "text": [
      "2025-04-20 09:25:33.498747: I tensorflow/core/kernels/data/shuffle_dataset_op.cc:452] ShuffleDatasetV3:10: Filling up shuffle buffer (this may take a while): 8406 of 25000\n"
     ]
    },
    {
     "name": "stdout",
     "output_type": "stream",
     "text": [
      "\u001b[1m561/561\u001b[0m \u001b[32m━━━━━━━━━━━━━━━━━━━━\u001b[0m\u001b[37m\u001b[0m \u001b[1m0s\u001b[0m 258ms/step - accuracy: 0.9279 - auc: 0.7424 - f1_score: 0.3227 - loss: 0.2704 - precision: 0.6743 - recall: 0.3065"
     ]
    },
    {
     "name": "stderr",
     "output_type": "stream",
     "text": [
      "2025-04-20 09:25:53.508948: I tensorflow/core/kernels/data/shuffle_dataset_op.cc:452] ShuffleDatasetV3:10: Filling up shuffle buffer (this may take a while): 18327 of 25000\n",
      "2025-04-20 09:26:03.528803: I tensorflow/core/kernels/data/shuffle_dataset_op.cc:452] ShuffleDatasetV3:10: Filling up shuffle buffer (this may take a while): 23087 of 25000\n",
      "2025-04-20 09:26:06.317793: I tensorflow/core/kernels/data/shuffle_dataset_op.cc:482] Shuffle buffer filled.\n",
      "2025-04-20 09:26:06.470594: W tensorflow/core/kernels/data/prefetch_autotuner.cc:52] Prefetch autotuner tried to allocate 77078016 bytes after encountering the first element of size 77078016 bytes.This already causes the autotune ram budget to be exceeded. To stay within the ram budget, either increase the ram budget or reduce element size\n",
      "2025-04-20 09:26:08 - INFO - \n",
      "=== Epoch 11 Summary ===\n",
      "2025-04-20 09:26:08 - INFO - Time: 176.96s\n",
      "2025-04-20 09:26:08 - INFO - Training   - accuracy: 0.9279 - auc: 0.7437 - f1_score: 0.3220 - loss: 0.2686 - precision: 0.6746 - recall: 0.3049 - learning_rate: 0.0000\n",
      "2025-04-20 09:26:08 - INFO - Validation - accuracy: 0.9282 - auc: 0.7434 - f1_score: 0.3213 - loss: 0.2640 - precision: 0.6586 - recall: 0.3266\n",
      "2025-04-20 09:26:08 - INFO - ==================================================\n",
      "\n"
     ]
    },
    {
     "name": "stdout",
     "output_type": "stream",
     "text": [
      "\u001b[1m561/561\u001b[0m \u001b[32m━━━━━━━━━━━━━━━━━━━━\u001b[0m\u001b[37m\u001b[0m \u001b[1m177s\u001b[0m 316ms/step - accuracy: 0.9279 - auc: 0.7424 - f1_score: 0.3227 - loss: 0.2704 - precision: 0.6743 - recall: 0.3065 - val_accuracy: 0.9282 - val_auc: 0.7434 - val_f1_score: 0.3213 - val_loss: 0.2640 - val_precision: 0.6586 - val_recall: 0.3266 - learning_rate: 5.0000e-05\n"
     ]
    },
    {
     "name": "stderr",
     "output_type": "stream",
     "text": [
      "2025-04-20 09:26:09 - INFO - \n",
      "=== Starting Epoch 12 ===\n",
      "\n"
     ]
    },
    {
     "name": "stdout",
     "output_type": "stream",
     "text": [
      "Epoch 12/100\n",
      "\u001b[1m322/561\u001b[0m \u001b[32m━━━━━━━━━━━\u001b[0m\u001b[37m━━━━━━━━━\u001b[0m \u001b[1m1:08\u001b[0m 285ms/step - accuracy: 0.9277 - auc: 0.7450 - f1_score: 0.3201 - loss: 0.2646 - precision: 0.6735 - recall: 0.3018"
     ]
    },
    {
     "name": "stderr",
     "output_type": "stream",
     "text": [
      "2025-04-20 09:27:40.885318: W tensorflow/core/lib/png/png_io.cc:92] PNG warning: iCCP: profile 'ICC Profile': 'GRAY': Gray color space not permitted on RGB PNG\n"
     ]
    },
    {
     "name": "stdout",
     "output_type": "stream",
     "text": [
      "\u001b[1m550/561\u001b[0m \u001b[32m━━━━━━━━━━━━━━━━━━━\u001b[0m\u001b[37m━\u001b[0m \u001b[1m3s\u001b[0m 278ms/step - accuracy: 0.9278 - auc: 0.7450 - f1_score: 0.3210 - loss: 0.2639 - precision: 0.6733 - recall: 0.3029  "
     ]
    },
    {
     "name": "stderr",
     "output_type": "stream",
     "text": [
      "2025-04-20 09:28:42.042371: I tensorflow/core/kernels/data/shuffle_dataset_op.cc:452] ShuffleDatasetV3:10: Filling up shuffle buffer (this may take a while): 8657 of 25000\n"
     ]
    },
    {
     "name": "stdout",
     "output_type": "stream",
     "text": [
      "\u001b[1m561/561\u001b[0m \u001b[32m━━━━━━━━━━━━━━━━━━━━\u001b[0m\u001b[37m\u001b[0m \u001b[1m0s\u001b[0m 278ms/step - accuracy: 0.9278 - auc: 0.7451 - f1_score: 0.3211 - loss: 0.2638 - precision: 0.6733 - recall: 0.3029"
     ]
    },
    {
     "name": "stderr",
     "output_type": "stream",
     "text": [
      "2025-04-20 09:29:02.038856: I tensorflow/core/kernels/data/shuffle_dataset_op.cc:452] ShuffleDatasetV3:10: Filling up shuffle buffer (this may take a while): 19489 of 25000\n",
      "2025-04-20 09:29:12.057518: I tensorflow/core/kernels/data/shuffle_dataset_op.cc:452] ShuffleDatasetV3:10: Filling up shuffle buffer (this may take a while): 23220 of 25000\n",
      "2025-04-20 09:29:16.168210: I tensorflow/core/kernels/data/shuffle_dataset_op.cc:482] Shuffle buffer filled.\n",
      "2025-04-20 09:29:16.313274: W tensorflow/core/kernels/data/prefetch_autotuner.cc:52] Prefetch autotuner tried to allocate 134225408 bytes after encountering the first element of size 134225408 bytes.This already causes the autotune ram budget to be exceeded. To stay within the ram budget, either increase the ram budget or reduce element size\n",
      "2025-04-20 09:29:21 - INFO - \n",
      "=== Epoch 12 Summary ===\n",
      "2025-04-20 09:29:21 - INFO - Time: 192.27s\n",
      "2025-04-20 09:29:21 - INFO - Training   - accuracy: 0.9278 - auc: 0.7463 - f1_score: 0.3228 - loss: 0.2623 - precision: 0.6735 - recall: 0.3045 - learning_rate: 0.0000\n",
      "2025-04-20 09:29:21 - INFO - Validation - accuracy: 0.9285 - auc: 0.7436 - f1_score: 0.3233 - loss: 0.2603 - precision: 0.6731 - recall: 0.3116\n",
      "2025-04-20 09:29:21 - INFO - ==================================================\n",
      "\n"
     ]
    },
    {
     "name": "stdout",
     "output_type": "stream",
     "text": [
      "\u001b[1m561/561\u001b[0m \u001b[32m━━━━━━━━━━━━━━━━━━━━\u001b[0m\u001b[37m\u001b[0m \u001b[1m193s\u001b[0m 343ms/step - accuracy: 0.9278 - auc: 0.7451 - f1_score: 0.3211 - loss: 0.2638 - precision: 0.6733 - recall: 0.3029 - val_accuracy: 0.9285 - val_auc: 0.7436 - val_f1_score: 0.3233 - val_loss: 0.2603 - val_precision: 0.6731 - val_recall: 0.3116 - learning_rate: 5.0000e-05\n"
     ]
    },
    {
     "name": "stderr",
     "output_type": "stream",
     "text": [
      "2025-04-20 09:29:21 - INFO - \n",
      "=== Starting Epoch 13 ===\n",
      "\n"
     ]
    },
    {
     "name": "stdout",
     "output_type": "stream",
     "text": [
      "Epoch 13/100\n",
      "\u001b[1m323/561\u001b[0m \u001b[32m━━━━━━━━━━━\u001b[0m\u001b[37m━━━━━━━━━\u001b[0m \u001b[1m1:15\u001b[0m 316ms/step - accuracy: 0.9293 - auc: 0.7484 - f1_score: 0.3328 - loss: 0.2568 - precision: 0.6816 - recall: 0.3159"
     ]
    },
    {
     "name": "stderr",
     "output_type": "stream",
     "text": [
      "2025-04-20 09:31:03.536571: W tensorflow/core/lib/png/png_io.cc:92] PNG warning: iCCP: profile 'ICC Profile': 'GRAY': Gray color space not permitted on RGB PNG\n"
     ]
    },
    {
     "name": "stdout",
     "output_type": "stream",
     "text": [
      "\u001b[1m551/561\u001b[0m \u001b[32m━━━━━━━━━━━━━━━━━━━\u001b[0m\u001b[37m━\u001b[0m \u001b[1m2s\u001b[0m 297ms/step - accuracy: 0.9290 - auc: 0.7490 - f1_score: 0.3311 - loss: 0.2567 - precision: 0.6805 - recall: 0.3138  "
     ]
    },
    {
     "name": "stderr",
     "output_type": "stream",
     "text": [
      "2025-04-20 09:32:05.293857: I tensorflow/core/kernels/data/shuffle_dataset_op.cc:452] ShuffleDatasetV3:10: Filling up shuffle buffer (this may take a while): 7110 of 25000\n"
     ]
    },
    {
     "name": "stdout",
     "output_type": "stream",
     "text": [
      "\u001b[1m561/561\u001b[0m \u001b[32m━━━━━━━━━━━━━━━━━━━━\u001b[0m\u001b[37m\u001b[0m \u001b[1m0s\u001b[0m 296ms/step - accuracy: 0.9290 - auc: 0.7491 - f1_score: 0.3310 - loss: 0.2567 - precision: 0.6805 - recall: 0.3137"
     ]
    },
    {
     "name": "stderr",
     "output_type": "stream",
     "text": [
      "2025-04-20 09:32:08.130069: W tensorflow/core/kernels/data/prefetch_autotuner.cc:52] Prefetch autotuner tried to allocate 77082368 bytes after encountering the first element of size 77082368 bytes.This already causes the autotune ram budget to be exceeded. To stay within the ram budget, either increase the ram budget or reduce element size\n",
      "2025-04-20 09:32:15.316225: I tensorflow/core/kernels/data/shuffle_dataset_op.cc:452] ShuffleDatasetV3:10: Filling up shuffle buffer (this may take a while): 11710 of 25000\n",
      "2025-04-20 09:32:25.342587: I tensorflow/core/kernels/data/shuffle_dataset_op.cc:452] ShuffleDatasetV3:10: Filling up shuffle buffer (this may take a while): 15375 of 25000\n",
      "2025-04-20 09:32:35 - INFO - \n",
      "=== Epoch 13 Summary ===\n",
      "2025-04-20 09:32:35 - INFO - Time: 193.99s\n",
      "2025-04-20 09:32:35 - INFO - Training   - accuracy: 0.9284 - auc: 0.7503 - f1_score: 0.3286 - loss: 0.2560 - precision: 0.6788 - recall: 0.3104 - learning_rate: 0.0000\n",
      "2025-04-20 09:32:35 - INFO - Validation - accuracy: 0.9264 - auc: 0.7522 - f1_score: 0.2898 - loss: 0.2605 - precision: 0.6485 - recall: 0.2958\n",
      "2025-04-20 09:32:35 - INFO - ==================================================\n",
      "\n"
     ]
    },
    {
     "name": "stdout",
     "output_type": "stream",
     "text": [
      "\u001b[1m561/561\u001b[0m \u001b[32m━━━━━━━━━━━━━━━━━━━━\u001b[0m\u001b[37m\u001b[0m \u001b[1m194s\u001b[0m 346ms/step - accuracy: 0.9289 - auc: 0.7491 - f1_score: 0.3310 - loss: 0.2567 - precision: 0.6805 - recall: 0.3137 - val_accuracy: 0.9264 - val_auc: 0.7522 - val_f1_score: 0.2898 - val_loss: 0.2605 - val_precision: 0.6485 - val_recall: 0.2958 - learning_rate: 5.0000e-05\n"
     ]
    },
    {
     "name": "stderr",
     "output_type": "stream",
     "text": [
      "2025-04-20 09:32:35 - INFO - \n",
      "=== Starting Epoch 14 ===\n",
      "\n"
     ]
    },
    {
     "name": "stdout",
     "output_type": "stream",
     "text": [
      "Epoch 14/100\n",
      "\u001b[1m 13/561\u001b[0m \u001b[37m━━━━━━━━━━━━━━━━━━━━\u001b[0m \u001b[1m2:23\u001b[0m 262ms/step - accuracy: 0.9265 - auc: 0.7360 - f1_score: 0.3004 - loss: 0.2584 - precision: 0.6790 - recall: 0.2907"
     ]
    },
    {
     "name": "stderr",
     "output_type": "stream",
     "text": [
      "2025-04-20 09:32:40.840640: I tensorflow/core/kernels/data/shuffle_dataset_op.cc:482] Shuffle buffer filled.\n",
      "2025-04-20 09:32:40.971090: W tensorflow/core/kernels/data/prefetch_autotuner.cc:52] Prefetch autotuner tried to allocate 134225408 bytes after encountering the first element of size 134225408 bytes.This already causes the autotune ram budget to be exceeded. To stay within the ram budget, either increase the ram budget or reduce element size\n"
     ]
    },
    {
     "name": "stdout",
     "output_type": "stream",
     "text": [
      "\u001b[1m324/561\u001b[0m \u001b[32m━━━━━━━━━━━\u001b[0m\u001b[37m━━━━━━━━━\u001b[0m \u001b[1m1:19\u001b[0m 335ms/step - accuracy: 0.9277 - auc: 0.7529 - f1_score: 0.3245 - loss: 0.2544 - precision: 0.6763 - recall: 0.3050"
     ]
    },
    {
     "name": "stderr",
     "output_type": "stream",
     "text": [
      "2025-04-20 09:34:23.998800: W tensorflow/core/lib/png/png_io.cc:92] PNG warning: iCCP: profile 'ICC Profile': 'GRAY': Gray color space not permitted on RGB PNG\n"
     ]
    },
    {
     "name": "stdout",
     "output_type": "stream",
     "text": [
      "\u001b[1m552/561\u001b[0m \u001b[32m━━━━━━━━━━━━━━━━━━━\u001b[0m\u001b[37m━\u001b[0m \u001b[1m2s\u001b[0m 309ms/step - accuracy: 0.9280 - auc: 0.7534 - f1_score: 0.3275 - loss: 0.2534 - precision: 0.6778 - recall: 0.3077  "
     ]
    },
    {
     "name": "stderr",
     "output_type": "stream",
     "text": [
      "2025-04-20 09:35:25.981147: I tensorflow/core/kernels/data/shuffle_dataset_op.cc:452] ShuffleDatasetV3:10: Filling up shuffle buffer (this may take a while): 8940 of 25000\n"
     ]
    },
    {
     "name": "stdout",
     "output_type": "stream",
     "text": [
      "\u001b[1m561/561\u001b[0m \u001b[32m━━━━━━━━━━━━━━━━━━━━\u001b[0m\u001b[37m\u001b[0m \u001b[1m0s\u001b[0m 308ms/step - accuracy: 0.9280 - auc: 0.7534 - f1_score: 0.3275 - loss: 0.2533 - precision: 0.6778 - recall: 0.3077"
     ]
    },
    {
     "name": "stderr",
     "output_type": "stream",
     "text": [
      "2025-04-20 09:35:28.740627: W tensorflow/core/kernels/data/prefetch_autotuner.cc:52] Prefetch autotuner tried to allocate 77078016 bytes after encountering the first element of size 77078016 bytes.This already causes the autotune ram budget to be exceeded. To stay within the ram budget, either increase the ram budget or reduce element size\n",
      "2025-04-20 09:35:45.999310: I tensorflow/core/kernels/data/shuffle_dataset_op.cc:452] ShuffleDatasetV3:10: Filling up shuffle buffer (this may take a while): 18652 of 25000\n",
      "2025-04-20 09:35:57.527808: I tensorflow/core/kernels/data/shuffle_dataset_op.cc:482] Shuffle buffer filled.\n",
      "2025-04-20 09:35:57.642817: W tensorflow/core/kernels/data/prefetch_autotuner.cc:52] Prefetch autotuner tried to allocate 77078016 bytes after encountering the first element of size 77078016 bytes.This already causes the autotune ram budget to be exceeded. To stay within the ram budget, either increase the ram budget or reduce element size\n",
      "2025-04-20 09:35:57 - INFO - \n",
      "=== Epoch 14 Summary ===\n",
      "2025-04-20 09:35:57 - INFO - Time: 202.27s\n",
      "2025-04-20 09:35:57 - INFO - Training   - accuracy: 0.9284 - auc: 0.7548 - f1_score: 0.3306 - loss: 0.2515 - precision: 0.6797 - recall: 0.3102 - learning_rate: 0.0000\n",
      "2025-04-20 09:35:57 - INFO - Validation - accuracy: 0.9284 - auc: 0.7614 - f1_score: 0.3160 - loss: 0.2515 - precision: 0.6651 - recall: 0.3215\n",
      "2025-04-20 09:35:57 - INFO - ==================================================\n",
      "\n"
     ]
    },
    {
     "name": "stdout",
     "output_type": "stream",
     "text": [
      "\u001b[1m561/561\u001b[0m \u001b[32m━━━━━━━━━━━━━━━━━━━━\u001b[0m\u001b[37m\u001b[0m \u001b[1m202s\u001b[0m 361ms/step - accuracy: 0.9280 - auc: 0.7534 - f1_score: 0.3275 - loss: 0.2533 - precision: 0.6778 - recall: 0.3077 - val_accuracy: 0.9284 - val_auc: 0.7614 - val_f1_score: 0.3160 - val_loss: 0.2515 - val_precision: 0.6651 - val_recall: 0.3215 - learning_rate: 5.0000e-05\n"
     ]
    },
    {
     "name": "stderr",
     "output_type": "stream",
     "text": [
      "2025-04-20 09:35:57 - INFO - \n",
      "=== Starting Epoch 15 ===\n",
      "\n"
     ]
    },
    {
     "name": "stdout",
     "output_type": "stream",
     "text": [
      "Epoch 15/100\n",
      "\u001b[1m325/561\u001b[0m \u001b[32m━━━━━━━━━━━\u001b[0m\u001b[37m━━━━━━━━━\u001b[0m \u001b[1m1:09\u001b[0m 296ms/step - accuracy: 0.9286 - auc: 0.7560 - f1_score: 0.3273 - loss: 0.2495 - precision: 0.6832 - recall: 0.3091"
     ]
    },
    {
     "name": "stderr",
     "output_type": "stream",
     "text": [
      "2025-04-20 09:37:34.202752: W tensorflow/core/lib/png/png_io.cc:92] PNG warning: iCCP: profile 'ICC Profile': 'GRAY': Gray color space not permitted on RGB PNG\n"
     ]
    },
    {
     "name": "stdout",
     "output_type": "stream",
     "text": [
      "\u001b[1m553/561\u001b[0m \u001b[32m━━━━━━━━━━━━━━━━━━━\u001b[0m\u001b[37m━\u001b[0m \u001b[1m2s\u001b[0m 286ms/step - accuracy: 0.9286 - auc: 0.7568 - f1_score: 0.3283 - loss: 0.2489 - precision: 0.6824 - recall: 0.3096  "
     ]
    },
    {
     "name": "stderr",
     "output_type": "stream",
     "text": [
      "2025-04-20 09:38:35.850832: I tensorflow/core/kernels/data/shuffle_dataset_op.cc:452] ShuffleDatasetV3:10: Filling up shuffle buffer (this may take a while): 9503 of 25000\n"
     ]
    },
    {
     "name": "stdout",
     "output_type": "stream",
     "text": [
      "\u001b[1m561/561\u001b[0m \u001b[32m━━━━━━━━━━━━━━━━━━━━\u001b[0m\u001b[37m\u001b[0m \u001b[1m0s\u001b[0m 285ms/step - accuracy: 0.9286 - auc: 0.7569 - f1_score: 0.3284 - loss: 0.2488 - precision: 0.6824 - recall: 0.3096"
     ]
    },
    {
     "name": "stderr",
     "output_type": "stream",
     "text": [
      "2025-04-20 09:38:38.217245: W tensorflow/core/kernels/data/prefetch_autotuner.cc:52] Prefetch autotuner tried to allocate 77078016 bytes after encountering the first element of size 77078016 bytes.This already causes the autotune ram budget to be exceeded. To stay within the ram budget, either increase the ram budget or reduce element size\n",
      "2025-04-20 09:38:45.852252: I tensorflow/core/kernels/data/shuffle_dataset_op.cc:452] ShuffleDatasetV3:10: Filling up shuffle buffer (this may take a while): 15023 of 25000\n",
      "2025-04-20 09:39:05.865884: I tensorflow/core/kernels/data/shuffle_dataset_op.cc:452] ShuffleDatasetV3:10: Filling up shuffle buffer (this may take a while): 24925 of 25000\n",
      "2025-04-20 09:39:06.044007: I tensorflow/core/kernels/data/shuffle_dataset_op.cc:482] Shuffle buffer filled.\n",
      "2025-04-20 09:39:06.278474: W tensorflow/core/kernels/data/prefetch_autotuner.cc:52] Prefetch autotuner tried to allocate 77078016 bytes after encountering the first element of size 77078016 bytes.This already causes the autotune ram budget to be exceeded. To stay within the ram budget, either increase the ram budget or reduce element size\n",
      "2025-04-20 09:39:09 - INFO - \n",
      "=== Epoch 15 Summary ===\n",
      "2025-04-20 09:39:09 - INFO - Time: 191.37s\n",
      "2025-04-20 09:39:09 - INFO - Training   - accuracy: 0.9286 - auc: 0.7589 - f1_score: 0.3310 - loss: 0.2474 - precision: 0.6809 - recall: 0.3111 - learning_rate: 0.0000\n",
      "2025-04-20 09:39:09 - INFO - Validation - accuracy: 0.9278 - auc: 0.7561 - f1_score: 0.3248 - loss: 0.2470 - precision: 0.6712 - recall: 0.2985\n",
      "2025-04-20 09:39:09 - INFO - ==================================================\n",
      "\n"
     ]
    },
    {
     "name": "stdout",
     "output_type": "stream",
     "text": [
      "\u001b[1m561/561\u001b[0m \u001b[32m━━━━━━━━━━━━━━━━━━━━\u001b[0m\u001b[37m\u001b[0m \u001b[1m191s\u001b[0m 341ms/step - accuracy: 0.9286 - auc: 0.7569 - f1_score: 0.3284 - loss: 0.2488 - precision: 0.6824 - recall: 0.3096 - val_accuracy: 0.9278 - val_auc: 0.7561 - val_f1_score: 0.3248 - val_loss: 0.2470 - val_precision: 0.6712 - val_recall: 0.2985 - learning_rate: 5.0000e-05\n"
     ]
    },
    {
     "name": "stderr",
     "output_type": "stream",
     "text": [
      "2025-04-20 09:39:09 - INFO - \n",
      "=== Starting Epoch 16 ===\n",
      "\n"
     ]
    },
    {
     "name": "stdout",
     "output_type": "stream",
     "text": [
      "Epoch 16/100\n",
      "\u001b[1m326/561\u001b[0m \u001b[32m━━━━━━━━━━━\u001b[0m\u001b[37m━━━━━━━━━\u001b[0m \u001b[1m1:02\u001b[0m 264ms/step - accuracy: 0.9281 - auc: 0.7627 - f1_score: 0.3309 - loss: 0.2461 - precision: 0.6777 - recall: 0.3109"
     ]
    },
    {
     "name": "stderr",
     "output_type": "stream",
     "text": [
      "2025-04-20 09:40:35.376431: W tensorflow/core/lib/png/png_io.cc:92] PNG warning: iCCP: profile 'ICC Profile': 'GRAY': Gray color space not permitted on RGB PNG\n"
     ]
    },
    {
     "name": "stdout",
     "output_type": "stream",
     "text": [
      "\u001b[1m554/561\u001b[0m \u001b[32m━━━━━━━━━━━━━━━━━━━\u001b[0m\u001b[37m━\u001b[0m \u001b[1m1s\u001b[0m 263ms/step - accuracy: 0.9283 - auc: 0.7630 - f1_score: 0.3321 - loss: 0.2453 - precision: 0.6792 - recall: 0.3117  "
     ]
    },
    {
     "name": "stderr",
     "output_type": "stream",
     "text": [
      "2025-04-20 09:41:35.036415: I tensorflow/core/kernels/data/shuffle_dataset_op.cc:452] ShuffleDatasetV3:10: Filling up shuffle buffer (this may take a while): 9735 of 25000\n"
     ]
    },
    {
     "name": "stdout",
     "output_type": "stream",
     "text": [
      "\u001b[1m561/561\u001b[0m \u001b[32m━━━━━━━━━━━━━━━━━━━━\u001b[0m\u001b[37m\u001b[0m \u001b[1m0s\u001b[0m 263ms/step - accuracy: 0.9283 - auc: 0.7630 - f1_score: 0.3322 - loss: 0.2453 - precision: 0.6793 - recall: 0.3117"
     ]
    },
    {
     "name": "stderr",
     "output_type": "stream",
     "text": [
      "2025-04-20 09:41:37.289423: W tensorflow/core/kernels/data/prefetch_autotuner.cc:52] Prefetch autotuner tried to allocate 77078016 bytes after encountering the first element of size 77078016 bytes.This already causes the autotune ram budget to be exceeded. To stay within the ram budget, either increase the ram budget or reduce element size\n",
      "2025-04-20 09:41:45.043293: I tensorflow/core/kernels/data/shuffle_dataset_op.cc:452] ShuffleDatasetV3:10: Filling up shuffle buffer (this may take a while): 15758 of 25000\n",
      "2025-04-20 09:42:02.312722: I tensorflow/core/kernels/data/shuffle_dataset_op.cc:482] Shuffle buffer filled.\n",
      "2025-04-20 09:42:02.582754: W tensorflow/core/kernels/data/prefetch_autotuner.cc:52] Prefetch autotuner tried to allocate 77078016 bytes after encountering the first element of size 77078016 bytes.This already causes the autotune ram budget to be exceeded. To stay within the ram budget, either increase the ram budget or reduce element size\n",
      "2025-04-20 09:42:17 - INFO - \n",
      "=== Epoch 16 Summary ===\n",
      "2025-04-20 09:42:17 - INFO - Time: 188.30s\n",
      "2025-04-20 09:42:17 - INFO - Training   - accuracy: 0.9288 - auc: 0.7635 - f1_score: 0.3360 - loss: 0.2433 - precision: 0.6824 - recall: 0.3150 - learning_rate: 0.0000\n",
      "2025-04-20 09:42:17 - INFO - Validation - accuracy: 0.9278 - auc: 0.7344 - f1_score: 0.3391 - loss: 0.2559 - precision: 0.6338 - recall: 0.3597\n",
      "2025-04-20 09:42:17 - INFO - ==================================================\n",
      "\n"
     ]
    },
    {
     "name": "stdout",
     "output_type": "stream",
     "text": [
      "\u001b[1m561/561\u001b[0m \u001b[32m━━━━━━━━━━━━━━━━━━━━\u001b[0m\u001b[37m\u001b[0m \u001b[1m188s\u001b[0m 336ms/step - accuracy: 0.9283 - auc: 0.7630 - f1_score: 0.3322 - loss: 0.2453 - precision: 0.6793 - recall: 0.3117 - val_accuracy: 0.9278 - val_auc: 0.7344 - val_f1_score: 0.3391 - val_loss: 0.2559 - val_precision: 0.6338 - val_recall: 0.3597 - learning_rate: 5.0000e-05\n"
     ]
    },
    {
     "name": "stderr",
     "output_type": "stream",
     "text": [
      "2025-04-20 09:42:17 - INFO - \n",
      "=== Starting Epoch 17 ===\n",
      "\n"
     ]
    },
    {
     "name": "stdout",
     "output_type": "stream",
     "text": [
      "Epoch 17/100\n",
      "\u001b[1m327/561\u001b[0m \u001b[32m━━━━━━━━━━━\u001b[0m\u001b[37m━━━━━━━━━\u001b[0m \u001b[1m58s\u001b[0m 252ms/step - accuracy: 0.9285 - auc: 0.7672 - f1_score: 0.3400 - loss: 0.2423 - precision: 0.6799 - recall: 0.3179 "
     ]
    },
    {
     "name": "stderr",
     "output_type": "stream",
     "text": [
      "2025-04-20 09:43:40.093808: W tensorflow/core/lib/png/png_io.cc:92] PNG warning: iCCP: profile 'ICC Profile': 'GRAY': Gray color space not permitted on RGB PNG\n"
     ]
    },
    {
     "name": "stdout",
     "output_type": "stream",
     "text": [
      "\u001b[1m556/561\u001b[0m \u001b[32m━━━━━━━━━━━━━━━━━━━\u001b[0m\u001b[37m━\u001b[0m \u001b[1m1s\u001b[0m 259ms/step - accuracy: 0.9287 - auc: 0.7677 - f1_score: 0.3403 - loss: 0.2417 - precision: 0.6811 - recall: 0.3181 "
     ]
    },
    {
     "name": "stderr",
     "output_type": "stream",
     "text": [
      "2025-04-20 09:44:41.445176: I tensorflow/core/kernels/data/shuffle_dataset_op.cc:452] ShuffleDatasetV3:10: Filling up shuffle buffer (this may take a while): 10044 of 25000\n"
     ]
    },
    {
     "name": "stdout",
     "output_type": "stream",
     "text": [
      "\u001b[1m561/561\u001b[0m \u001b[32m━━━━━━━━━━━━━━━━━━━━\u001b[0m\u001b[37m\u001b[0m \u001b[1m0s\u001b[0m 259ms/step - accuracy: 0.9287 - auc: 0.7677 - f1_score: 0.3403 - loss: 0.2416 - precision: 0.6812 - recall: 0.3181"
     ]
    },
    {
     "name": "stderr",
     "output_type": "stream",
     "text": [
      "2025-04-20 09:44:43.228832: W tensorflow/core/kernels/data/prefetch_autotuner.cc:52] Prefetch autotuner tried to allocate 134225408 bytes after encountering the first element of size 134225408 bytes.This already causes the autotune ram budget to be exceeded. To stay within the ram budget, either increase the ram budget or reduce element size\n",
      "2025-04-20 09:44:43.228936: W tensorflow/core/kernels/data/prefetch_autotuner.cc:52] Prefetch autotuner tried to allocate 134225408 bytes after encountering the first element of size 134225408 bytes.This already causes the autotune ram budget to be exceeded. To stay within the ram budget, either increase the ram budget or reduce element size\n",
      "2025-04-20 09:44:51.448608: I tensorflow/core/kernels/data/shuffle_dataset_op.cc:452] ShuffleDatasetV3:10: Filling up shuffle buffer (this may take a while): 15931 of 25000\n",
      "2025-04-20 09:45:01.454473: I tensorflow/core/kernels/data/shuffle_dataset_op.cc:452] ShuffleDatasetV3:10: Filling up shuffle buffer (this may take a while): 21165 of 25000\n",
      "2025-04-20 09:45:09.627509: I tensorflow/core/kernels/data/shuffle_dataset_op.cc:482] Shuffle buffer filled.\n",
      "2025-04-20 09:45:09.933751: W tensorflow/core/kernels/data/prefetch_autotuner.cc:52] Prefetch autotuner tried to allocate 77078016 bytes after encountering the first element of size 77078016 bytes.This already causes the autotune ram budget to be exceeded. To stay within the ram budget, either increase the ram budget or reduce element size\n",
      "2025-04-20 09:45:12 - INFO - \n",
      "=== Epoch 17 Summary ===\n",
      "2025-04-20 09:45:12 - INFO - Time: 174.68s\n",
      "2025-04-20 09:45:12 - INFO - Training   - accuracy: 0.9291 - auc: 0.7686 - f1_score: 0.3419 - loss: 0.2402 - precision: 0.6838 - recall: 0.3191 - learning_rate: 0.0000\n",
      "2025-04-20 09:45:12 - INFO - Validation - accuracy: 0.9254 - auc: 0.7580 - f1_score: 0.2786 - loss: 0.2466 - precision: 0.7000 - recall: 0.2175\n",
      "2025-04-20 09:45:12 - INFO - ==================================================\n",
      "\n"
     ]
    },
    {
     "name": "stdout",
     "output_type": "stream",
     "text": [
      "\u001b[1m561/561\u001b[0m \u001b[32m━━━━━━━━━━━━━━━━━━━━\u001b[0m\u001b[37m\u001b[0m \u001b[1m175s\u001b[0m 311ms/step - accuracy: 0.9287 - auc: 0.7677 - f1_score: 0.3403 - loss: 0.2416 - precision: 0.6812 - recall: 0.3181 - val_accuracy: 0.9254 - val_auc: 0.7580 - val_f1_score: 0.2786 - val_loss: 0.2466 - val_precision: 0.7000 - val_recall: 0.2175 - learning_rate: 5.0000e-05\n"
     ]
    },
    {
     "name": "stderr",
     "output_type": "stream",
     "text": [
      "2025-04-20 09:45:12 - INFO - \n",
      "=== Starting Epoch 18 ===\n",
      "\n"
     ]
    },
    {
     "name": "stdout",
     "output_type": "stream",
     "text": [
      "Epoch 18/100\n",
      "\u001b[1m328/561\u001b[0m \u001b[32m━━━━━━━━━━━\u001b[0m\u001b[37m━━━━━━━━━\u001b[0m \u001b[1m1:07\u001b[0m 289ms/step - accuracy: 0.9288 - auc: 0.7641 - f1_score: 0.3365 - loss: 0.2394 - precision: 0.6843 - recall: 0.3144"
     ]
    },
    {
     "name": "stderr",
     "output_type": "stream",
     "text": [
      "2025-04-20 09:46:47.171577: W tensorflow/core/lib/png/png_io.cc:92] PNG warning: iCCP: profile 'ICC Profile': 'GRAY': Gray color space not permitted on RGB PNG\n"
     ]
    },
    {
     "name": "stdout",
     "output_type": "stream",
     "text": [
      "\u001b[1m556/561\u001b[0m \u001b[32m━━━━━━━━━━━━━━━━━━━\u001b[0m\u001b[37m━\u001b[0m \u001b[1m1s\u001b[0m 282ms/step - accuracy: 0.9288 - auc: 0.7659 - f1_score: 0.3378 - loss: 0.2388 - precision: 0.6845 - recall: 0.3152  "
     ]
    },
    {
     "name": "stderr",
     "output_type": "stream",
     "text": [
      "2025-04-20 09:47:49.033156: I tensorflow/core/kernels/data/shuffle_dataset_op.cc:452] ShuffleDatasetV3:10: Filling up shuffle buffer (this may take a while): 10524 of 25000\n"
     ]
    },
    {
     "name": "stdout",
     "output_type": "stream",
     "text": [
      "\u001b[1m561/561\u001b[0m \u001b[32m━━━━━━━━━━━━━━━━━━━━\u001b[0m\u001b[37m\u001b[0m \u001b[1m0s\u001b[0m 282ms/step - accuracy: 0.9288 - auc: 0.7660 - f1_score: 0.3378 - loss: 0.2388 - precision: 0.6845 - recall: 0.3152"
     ]
    },
    {
     "name": "stderr",
     "output_type": "stream",
     "text": [
      "2025-04-20 09:47:50.708794: W tensorflow/core/kernels/data/prefetch_autotuner.cc:52] Prefetch autotuner tried to allocate 77078016 bytes after encountering the first element of size 77078016 bytes.This already causes the autotune ram budget to be exceeded. To stay within the ram budget, either increase the ram budget or reduce element size\n",
      "2025-04-20 09:48:09.023614: I tensorflow/core/kernels/data/shuffle_dataset_op.cc:452] ShuffleDatasetV3:10: Filling up shuffle buffer (this may take a while): 21738 of 25000\n",
      "2025-04-20 09:48:15.079958: I tensorflow/core/kernels/data/shuffle_dataset_op.cc:482] Shuffle buffer filled.\n",
      "2025-04-20 09:48:15.355071: W tensorflow/core/kernels/data/prefetch_autotuner.cc:52] Prefetch autotuner tried to allocate 77078016 bytes after encountering the first element of size 77078016 bytes.This already causes the autotune ram budget to be exceeded. To stay within the ram budget, either increase the ram budget or reduce element size\n",
      "2025-04-20 09:48:19 - INFO - \n",
      "=== Epoch 18 Summary ===\n",
      "2025-04-20 09:48:19 - INFO - Time: 187.24s\n",
      "2025-04-20 09:48:19 - INFO - Training   - accuracy: 0.9290 - auc: 0.7701 - f1_score: 0.3408 - loss: 0.2374 - precision: 0.6849 - recall: 0.3174 - learning_rate: 0.0000\n",
      "2025-04-20 09:48:19 - INFO - Validation - accuracy: 0.9287 - auc: 0.7676 - f1_score: 0.3266 - loss: 0.2379 - precision: 0.6627 - recall: 0.3309\n",
      "2025-04-20 09:48:19 - INFO - ==================================================\n",
      "\n"
     ]
    },
    {
     "name": "stdout",
     "output_type": "stream",
     "text": [
      "\u001b[1m561/561\u001b[0m \u001b[32m━━━━━━━━━━━━━━━━━━━━\u001b[0m\u001b[37m\u001b[0m \u001b[1m187s\u001b[0m 334ms/step - accuracy: 0.9288 - auc: 0.7660 - f1_score: 0.3378 - loss: 0.2388 - precision: 0.6845 - recall: 0.3152 - val_accuracy: 0.9287 - val_auc: 0.7676 - val_f1_score: 0.3266 - val_loss: 0.2379 - val_precision: 0.6627 - val_recall: 0.3309 - learning_rate: 5.0000e-05\n"
     ]
    },
    {
     "name": "stderr",
     "output_type": "stream",
     "text": [
      "2025-04-20 09:48:19 - INFO - \n",
      "=== Starting Epoch 19 ===\n",
      "\n"
     ]
    },
    {
     "name": "stdout",
     "output_type": "stream",
     "text": [
      "Epoch 19/100\n",
      "\u001b[1m329/561\u001b[0m \u001b[32m━━━━━━━━━━━\u001b[0m\u001b[37m━━━━━━━━━\u001b[0m \u001b[1m1:01\u001b[0m 267ms/step - accuracy: 0.9286 - auc: 0.7733 - f1_score: 0.3431 - loss: 0.2367 - precision: 0.6787 - recall: 0.3173"
     ]
    },
    {
     "name": "stderr",
     "output_type": "stream",
     "text": [
      "2025-04-20 09:49:47.487831: W tensorflow/core/lib/png/png_io.cc:92] PNG warning: iCCP: profile 'ICC Profile': 'GRAY': Gray color space not permitted on RGB PNG\n"
     ]
    },
    {
     "name": "stdout",
     "output_type": "stream",
     "text": [
      "\u001b[1m557/561\u001b[0m \u001b[32m━━━━━━━━━━━━━━━━━━━\u001b[0m\u001b[37m━\u001b[0m \u001b[1m1s\u001b[0m 270ms/step - accuracy: 0.9289 - auc: 0.7742 - f1_score: 0.3451 - loss: 0.2359 - precision: 0.6814 - recall: 0.3196  "
     ]
    },
    {
     "name": "stderr",
     "output_type": "stream",
     "text": [
      "2025-04-20 09:50:50.008293: I tensorflow/core/kernels/data/shuffle_dataset_op.cc:452] ShuffleDatasetV3:10: Filling up shuffle buffer (this may take a while): 10695 of 25000\n"
     ]
    },
    {
     "name": "stdout",
     "output_type": "stream",
     "text": [
      "\u001b[1m561/561\u001b[0m \u001b[32m━━━━━━━━━━━━━━━━━━━━\u001b[0m\u001b[37m\u001b[0m \u001b[1m0s\u001b[0m 270ms/step - accuracy: 0.9289 - auc: 0.7742 - f1_score: 0.3451 - loss: 0.2359 - precision: 0.6814 - recall: 0.3197"
     ]
    },
    {
     "name": "stderr",
     "output_type": "stream",
     "text": [
      "2025-04-20 09:50:51.281966: W tensorflow/core/kernels/data/prefetch_autotuner.cc:52] Prefetch autotuner tried to allocate 77078016 bytes after encountering the first element of size 77078016 bytes.This already causes the autotune ram budget to be exceeded. To stay within the ram budget, either increase the ram budget or reduce element size\n",
      "2025-04-20 09:50:51.282051: W tensorflow/core/kernels/data/prefetch_autotuner.cc:52] Prefetch autotuner tried to allocate 77078016 bytes after encountering the first element of size 77078016 bytes.This already causes the autotune ram budget to be exceeded. To stay within the ram budget, either increase the ram budget or reduce element size\n",
      "2025-04-20 09:51:10.009945: I tensorflow/core/kernels/data/shuffle_dataset_op.cc:452] ShuffleDatasetV3:10: Filling up shuffle buffer (this may take a while): 22246 of 25000\n",
      "2025-04-20 09:51:15.021862: I tensorflow/core/kernels/data/shuffle_dataset_op.cc:482] Shuffle buffer filled.\n",
      "2025-04-20 09:51:15.306937: W tensorflow/core/kernels/data/prefetch_autotuner.cc:52] Prefetch autotuner tried to allocate 134225408 bytes after encountering the first element of size 134225408 bytes.This already causes the autotune ram budget to be exceeded. To stay within the ram budget, either increase the ram budget or reduce element size\n"
     ]
    },
    {
     "name": "stdout",
     "output_type": "stream",
     "text": [
      "\n",
      "Epoch 19: ReduceLROnPlateau reducing learning rate to 2.499999936844688e-05.\n"
     ]
    },
    {
     "name": "stderr",
     "output_type": "stream",
     "text": [
      "2025-04-20 09:51:19 - INFO - \n",
      "=== Epoch 19 Summary ===\n",
      "2025-04-20 09:51:19 - INFO - Time: 180.10s\n",
      "2025-04-20 09:51:19 - INFO - Training   - accuracy: 0.9294 - auc: 0.7760 - f1_score: 0.3484 - loss: 0.2342 - precision: 0.6862 - recall: 0.3236 - learning_rate: 0.0000\n",
      "2025-04-20 09:51:19 - INFO - Validation - accuracy: 0.9247 - auc: 0.7589 - f1_score: 0.3098 - loss: 0.2501 - precision: 0.6171 - recall: 0.3054\n",
      "2025-04-20 09:51:19 - INFO - ==================================================\n",
      "\n"
     ]
    },
    {
     "name": "stdout",
     "output_type": "stream",
     "text": [
      "\u001b[1m561/561\u001b[0m \u001b[32m━━━━━━━━━━━━━━━━━━━━\u001b[0m\u001b[37m\u001b[0m \u001b[1m180s\u001b[0m 321ms/step - accuracy: 0.9289 - auc: 0.7742 - f1_score: 0.3451 - loss: 0.2359 - precision: 0.6814 - recall: 0.3197 - val_accuracy: 0.9247 - val_auc: 0.7589 - val_f1_score: 0.3098 - val_loss: 0.2501 - val_precision: 0.6171 - val_recall: 0.3054 - learning_rate: 5.0000e-05\n"
     ]
    },
    {
     "name": "stderr",
     "output_type": "stream",
     "text": [
      "2025-04-20 09:51:19 - INFO - \n",
      "=== Starting Epoch 20 ===\n",
      "\n"
     ]
    },
    {
     "name": "stdout",
     "output_type": "stream",
     "text": [
      "Epoch 20/100\n",
      "\u001b[1m330/561\u001b[0m \u001b[32m━━━━━━━━━━━\u001b[0m\u001b[37m━━━━━━━━━\u001b[0m \u001b[1m1:01\u001b[0m 267ms/step - accuracy: 0.9300 - auc: 0.7854 - f1_score: 0.3546 - loss: 0.2307 - precision: 0.6901 - recall: 0.3281"
     ]
    },
    {
     "name": "stderr",
     "output_type": "stream",
     "text": [
      "2025-04-20 09:52:48.019494: W tensorflow/core/lib/png/png_io.cc:92] PNG warning: iCCP: profile 'ICC Profile': 'GRAY': Gray color space not permitted on RGB PNG\n"
     ]
    },
    {
     "name": "stdout",
     "output_type": "stream",
     "text": [
      "\u001b[1m558/561\u001b[0m \u001b[32m━━━━━━━━━━━━━━━━━━━\u001b[0m\u001b[37m━\u001b[0m \u001b[1m0s\u001b[0m 270ms/step - accuracy: 0.9301 - auc: 0.7877 - f1_score: 0.3572 - loss: 0.2302 - precision: 0.6915 - recall: 0.3296  "
     ]
    },
    {
     "name": "stderr",
     "output_type": "stream",
     "text": [
      "2025-04-20 09:53:50.398419: I tensorflow/core/kernels/data/shuffle_dataset_op.cc:452] ShuffleDatasetV3:10: Filling up shuffle buffer (this may take a while): 10528 of 25000\n"
     ]
    },
    {
     "name": "stdout",
     "output_type": "stream",
     "text": [
      "\u001b[1m561/561\u001b[0m \u001b[32m━━━━━━━━━━━━━━━━━━━━\u001b[0m\u001b[37m\u001b[0m \u001b[1m0s\u001b[0m 270ms/step - accuracy: 0.9301 - auc: 0.7877 - f1_score: 0.3572 - loss: 0.2302 - precision: 0.6915 - recall: 0.3296"
     ]
    },
    {
     "name": "stderr",
     "output_type": "stream",
     "text": [
      "2025-04-20 09:53:51.431636: W tensorflow/core/kernels/data/prefetch_autotuner.cc:52] Prefetch autotuner tried to allocate 77078016 bytes after encountering the first element of size 77078016 bytes.This already causes the autotune ram budget to be exceeded. To stay within the ram budget, either increase the ram budget or reduce element size\n",
      "2025-04-20 09:54:09.143162: I tensorflow/core/kernels/data/shuffle_dataset_op.cc:482] Shuffle buffer filled.\n",
      "2025-04-20 09:54:09.483380: W tensorflow/core/kernels/data/prefetch_autotuner.cc:52] Prefetch autotuner tried to allocate 77078016 bytes after encountering the first element of size 77078016 bytes.This already causes the autotune ram budget to be exceeded. To stay within the ram budget, either increase the ram budget or reduce element size\n",
      "2025-04-20 09:54:30 - INFO - \n",
      "=== Epoch 20 Summary ===\n",
      "2025-04-20 09:54:30 - INFO - Time: 190.24s\n",
      "2025-04-20 09:54:30 - INFO - Training   - accuracy: 0.9304 - auc: 0.7926 - f1_score: 0.3632 - loss: 0.2289 - precision: 0.6935 - recall: 0.3341 - learning_rate: 0.0000\n",
      "2025-04-20 09:54:30 - INFO - Validation - accuracy: 0.9285 - auc: 0.7759 - f1_score: 0.3383 - loss: 0.2365 - precision: 0.6701 - recall: 0.3151\n",
      "2025-04-20 09:54:30 - INFO - ==================================================\n",
      "\n"
     ]
    },
    {
     "name": "stdout",
     "output_type": "stream",
     "text": [
      "\u001b[1m561/561\u001b[0m \u001b[32m━━━━━━━━━━━━━━━━━━━━\u001b[0m\u001b[37m\u001b[0m \u001b[1m190s\u001b[0m 339ms/step - accuracy: 0.9301 - auc: 0.7877 - f1_score: 0.3572 - loss: 0.2302 - precision: 0.6915 - recall: 0.3296 - val_accuracy: 0.9285 - val_auc: 0.7759 - val_f1_score: 0.3383 - val_loss: 0.2365 - val_precision: 0.6701 - val_recall: 0.3151 - learning_rate: 2.5000e-05\n"
     ]
    },
    {
     "name": "stderr",
     "output_type": "stream",
     "text": [
      "2025-04-20 09:54:30 - INFO - \n",
      "=== Starting Epoch 21 ===\n",
      "\n"
     ]
    },
    {
     "name": "stdout",
     "output_type": "stream",
     "text": [
      "Epoch 21/100\n",
      "\u001b[1m331/561\u001b[0m \u001b[32m━━━━━━━━━━━\u001b[0m\u001b[37m━━━━━━━━━\u001b[0m \u001b[1m59s\u001b[0m 259ms/step - accuracy: 0.9299 - auc: 0.8008 - f1_score: 0.3646 - loss: 0.2289 - precision: 0.6899 - recall: 0.3338 "
     ]
    },
    {
     "name": "stderr",
     "output_type": "stream",
     "text": [
      "2025-04-20 09:55:55.953107: W tensorflow/core/lib/png/png_io.cc:92] PNG warning: iCCP: profile 'ICC Profile': 'GRAY': Gray color space not permitted on RGB PNG\n"
     ]
    },
    {
     "name": "stdout",
     "output_type": "stream",
     "text": [
      "\u001b[1m560/561\u001b[0m \u001b[32m━━━━━━━━━━━━━━━━━━━\u001b[0m\u001b[37m━\u001b[0m \u001b[1m0s\u001b[0m 265ms/step - accuracy: 0.9301 - auc: 0.8005 - f1_score: 0.3674 - loss: 0.2282 - precision: 0.6911 - recall: 0.3366 "
     ]
    },
    {
     "name": "stderr",
     "output_type": "stream",
     "text": [
      "2025-04-20 09:56:58.038810: I tensorflow/core/kernels/data/shuffle_dataset_op.cc:452] ShuffleDatasetV3:10: Filling up shuffle buffer (this may take a while): 10599 of 25000\n"
     ]
    },
    {
     "name": "stdout",
     "output_type": "stream",
     "text": [
      "\u001b[1m561/561\u001b[0m \u001b[32m━━━━━━━━━━━━━━━━━━━━\u001b[0m\u001b[37m\u001b[0m \u001b[1m0s\u001b[0m 265ms/step - accuracy: 0.9301 - auc: 0.8005 - f1_score: 0.3674 - loss: 0.2282 - precision: 0.6911 - recall: 0.3366"
     ]
    },
    {
     "name": "stderr",
     "output_type": "stream",
     "text": [
      "2025-04-20 09:56:58.711313: W tensorflow/core/kernels/data/prefetch_autotuner.cc:52] Prefetch autotuner tried to allocate 77078016 bytes after encountering the first element of size 77078016 bytes.This already causes the autotune ram budget to be exceeded. To stay within the ram budget, either increase the ram budget or reduce element size\n",
      "2025-04-20 09:57:08.040238: I tensorflow/core/kernels/data/shuffle_dataset_op.cc:452] ShuffleDatasetV3:10: Filling up shuffle buffer (this may take a while): 16315 of 25000\n",
      "2025-04-20 09:57:23.741869: I tensorflow/core/kernels/data/shuffle_dataset_op.cc:482] Shuffle buffer filled.\n",
      "2025-04-20 09:57:24.064792: W tensorflow/core/kernels/data/prefetch_autotuner.cc:52] Prefetch autotuner tried to allocate 77078016 bytes after encountering the first element of size 77078016 bytes.This already causes the autotune ram budget to be exceeded. To stay within the ram budget, either increase the ram budget or reduce element size\n",
      "2025-04-20 09:57:28 - INFO - \n",
      "=== Epoch 21 Summary ===\n",
      "2025-04-20 09:57:28 - INFO - Time: 178.41s\n",
      "2025-04-20 09:57:28 - INFO - Training   - accuracy: 0.9306 - auc: 0.8009 - f1_score: 0.3721 - loss: 0.2266 - precision: 0.6935 - recall: 0.3406 - learning_rate: 0.0000\n",
      "2025-04-20 09:57:28 - INFO - Validation - accuracy: 0.9290 - auc: 0.7714 - f1_score: 0.3451 - loss: 0.2342 - precision: 0.6608 - recall: 0.3414\n",
      "2025-04-20 09:57:28 - INFO - ==================================================\n",
      "\n"
     ]
    },
    {
     "name": "stdout",
     "output_type": "stream",
     "text": [
      "\u001b[1m561/561\u001b[0m \u001b[32m━━━━━━━━━━━━━━━━━━━━\u001b[0m\u001b[37m\u001b[0m \u001b[1m179s\u001b[0m 318ms/step - accuracy: 0.9301 - auc: 0.8005 - f1_score: 0.3674 - loss: 0.2282 - precision: 0.6911 - recall: 0.3366 - val_accuracy: 0.9290 - val_auc: 0.7714 - val_f1_score: 0.3451 - val_loss: 0.2342 - val_precision: 0.6608 - val_recall: 0.3414 - learning_rate: 2.5000e-05\n"
     ]
    },
    {
     "name": "stderr",
     "output_type": "stream",
     "text": [
      "2025-04-20 09:57:28 - INFO - \n",
      "=== Starting Epoch 22 ===\n",
      "\n"
     ]
    },
    {
     "name": "stdout",
     "output_type": "stream",
     "text": [
      "Epoch 22/100\n",
      "\u001b[1m332/561\u001b[0m \u001b[32m━━━━━━━━━━━\u001b[0m\u001b[37m━━━━━━━━━\u001b[0m \u001b[1m1:00\u001b[0m 266ms/step - accuracy: 0.9304 - auc: 0.7993 - f1_score: 0.3661 - loss: 0.2271 - precision: 0.6991 - recall: 0.3341"
     ]
    },
    {
     "name": "stderr",
     "output_type": "stream",
     "text": [
      "2025-04-20 09:58:56.765715: W tensorflow/core/lib/png/png_io.cc:92] PNG warning: iCCP: profile 'ICC Profile': 'GRAY': Gray color space not permitted on RGB PNG\n"
     ]
    },
    {
     "name": "stdout",
     "output_type": "stream",
     "text": [
      "\u001b[1m561/561\u001b[0m \u001b[32m━━━━━━━━━━━━━━━━━━━━\u001b[0m\u001b[37m\u001b[0m \u001b[1m0s\u001b[0m 262ms/step - accuracy: 0.9307 - auc: 0.8006 - f1_score: 0.3700 - loss: 0.2262 - precision: 0.6989 - recall: 0.3376  "
     ]
    },
    {
     "name": "stderr",
     "output_type": "stream",
     "text": [
      "2025-04-20 09:59:55.535305: I tensorflow/core/kernels/data/shuffle_dataset_op.cc:452] ShuffleDatasetV3:10: Filling up shuffle buffer (this may take a while): 10336 of 25000\n",
      "2025-04-20 09:59:56.009685: W tensorflow/core/kernels/data/prefetch_autotuner.cc:52] Prefetch autotuner tried to allocate 77078016 bytes after encountering the first element of size 77078016 bytes.This already causes the autotune ram budget to be exceeded. To stay within the ram budget, either increase the ram budget or reduce element size\n",
      "2025-04-20 10:00:15.534410: I tensorflow/core/kernels/data/shuffle_dataset_op.cc:452] ShuffleDatasetV3:10: Filling up shuffle buffer (this may take a while): 21520 of 25000\n",
      "2025-04-20 10:00:21.844139: I tensorflow/core/kernels/data/shuffle_dataset_op.cc:482] Shuffle buffer filled.\n",
      "2025-04-20 10:00:22.109622: W tensorflow/core/kernels/data/prefetch_autotuner.cc:52] Prefetch autotuner tried to allocate 77078016 bytes after encountering the first element of size 77078016 bytes.This already causes the autotune ram budget to be exceeded. To stay within the ram budget, either increase the ram budget or reduce element size\n",
      "2025-04-20 10:00:23 - INFO - \n",
      "=== Epoch 22 Summary ===\n",
      "2025-04-20 10:00:23 - INFO - Time: 175.33s\n",
      "2025-04-20 10:00:23 - INFO - Training   - accuracy: 0.9311 - auc: 0.8031 - f1_score: 0.3766 - loss: 0.2245 - precision: 0.6983 - recall: 0.3438 - learning_rate: 0.0000\n",
      "2025-04-20 10:00:23 - INFO - Validation - accuracy: 0.9221 - auc: 0.7712 - f1_score: 0.3116 - loss: 0.2452 - precision: 0.6020 - recall: 0.2506\n",
      "2025-04-20 10:00:23 - INFO - ==================================================\n",
      "\n"
     ]
    },
    {
     "name": "stdout",
     "output_type": "stream",
     "text": [
      "\u001b[1m561/561\u001b[0m \u001b[32m━━━━━━━━━━━━━━━━━━━━\u001b[0m\u001b[37m\u001b[0m \u001b[1m175s\u001b[0m 313ms/step - accuracy: 0.9307 - auc: 0.8006 - f1_score: 0.3700 - loss: 0.2262 - precision: 0.6989 - recall: 0.3376 - val_accuracy: 0.9221 - val_auc: 0.7712 - val_f1_score: 0.3116 - val_loss: 0.2452 - val_precision: 0.6020 - val_recall: 0.2506 - learning_rate: 2.5000e-05\n"
     ]
    },
    {
     "name": "stderr",
     "output_type": "stream",
     "text": [
      "2025-04-20 10:00:23 - INFO - \n",
      "=== Starting Epoch 23 ===\n",
      "\n"
     ]
    },
    {
     "name": "stdout",
     "output_type": "stream",
     "text": [
      "Epoch 23/100\n",
      "\u001b[1m333/561\u001b[0m \u001b[32m━━━━━━━━━━━\u001b[0m\u001b[37m━━━━━━━━━\u001b[0m \u001b[1m1:04\u001b[0m 285ms/step - accuracy: 0.9302 - auc: 0.8086 - f1_score: 0.3725 - loss: 0.2259 - precision: 0.6972 - recall: 0.3376"
     ]
    },
    {
     "name": "stderr",
     "output_type": "stream",
     "text": [
      "2025-04-20 10:01:58.794152: W tensorflow/core/lib/png/png_io.cc:92] PNG warning: iCCP: profile 'ICC Profile': 'GRAY': Gray color space not permitted on RGB PNG\n"
     ]
    },
    {
     "name": "stdout",
     "output_type": "stream",
     "text": [
      "\u001b[1m561/561\u001b[0m \u001b[32m━━━━━━━━━━━━━━━━━━━━\u001b[0m\u001b[37m\u001b[0m \u001b[1m0s\u001b[0m 277ms/step - accuracy: 0.9307 - auc: 0.8082 - f1_score: 0.3764 - loss: 0.2248 - precision: 0.6991 - recall: 0.3417  "
     ]
    },
    {
     "name": "stderr",
     "output_type": "stream",
     "text": [
      "2025-04-20 10:02:59.618462: I tensorflow/core/kernels/data/shuffle_dataset_op.cc:452] ShuffleDatasetV3:10: Filling up shuffle buffer (this may take a while): 10409 of 25000\n",
      "2025-04-20 10:02:59.798274: W tensorflow/core/kernels/data/prefetch_autotuner.cc:52] Prefetch autotuner tried to allocate 134225408 bytes after encountering the first element of size 134225408 bytes.This already causes the autotune ram budget to be exceeded. To stay within the ram budget, either increase the ram budget or reduce element size\n",
      "2025-04-20 10:03:19.621130: I tensorflow/core/kernels/data/shuffle_dataset_op.cc:452] ShuffleDatasetV3:10: Filling up shuffle buffer (this may take a while): 21604 of 25000\n",
      "2025-04-20 10:03:25.641600: I tensorflow/core/kernels/data/shuffle_dataset_op.cc:482] Shuffle buffer filled.\n",
      "2025-04-20 10:03:26.377247: W tensorflow/core/kernels/data/prefetch_autotuner.cc:52] Prefetch autotuner tried to allocate 77078016 bytes after encountering the first element of size 77078016 bytes.This already causes the autotune ram budget to be exceeded. To stay within the ram budget, either increase the ram budget or reduce element size\n",
      "2025-04-20 10:03:29 - INFO - \n",
      "=== Epoch 23 Summary ===\n",
      "2025-04-20 10:03:29 - INFO - Time: 185.78s\n",
      "2025-04-20 10:03:29 - INFO - Training   - accuracy: 0.9315 - auc: 0.8085 - f1_score: 0.3828 - loss: 0.2228 - precision: 0.7017 - recall: 0.3485 - learning_rate: 0.0000\n",
      "2025-04-20 10:03:29 - INFO - Validation - accuracy: 0.9291 - auc: 0.7763 - f1_score: 0.3549 - loss: 0.2332 - precision: 0.6684 - recall: 0.3325\n",
      "2025-04-20 10:03:29 - INFO - ==================================================\n",
      "\n"
     ]
    },
    {
     "name": "stdout",
     "output_type": "stream",
     "text": [
      "\u001b[1m561/561\u001b[0m \u001b[32m━━━━━━━━━━━━━━━━━━━━\u001b[0m\u001b[37m\u001b[0m \u001b[1m186s\u001b[0m 332ms/step - accuracy: 0.9307 - auc: 0.8082 - f1_score: 0.3764 - loss: 0.2248 - precision: 0.6991 - recall: 0.3417 - val_accuracy: 0.9291 - val_auc: 0.7763 - val_f1_score: 0.3549 - val_loss: 0.2332 - val_precision: 0.6684 - val_recall: 0.3325 - learning_rate: 2.5000e-05\n"
     ]
    },
    {
     "name": "stderr",
     "output_type": "stream",
     "text": [
      "2025-04-20 10:03:29 - INFO - \n",
      "=== Starting Epoch 24 ===\n",
      "\n"
     ]
    },
    {
     "name": "stdout",
     "output_type": "stream",
     "text": [
      "Epoch 24/100\n",
      "\u001b[1m334/561\u001b[0m \u001b[32m━━━━━━━━━━━\u001b[0m\u001b[37m━━━━━━━━━\u001b[0m \u001b[1m1:02\u001b[0m 277ms/step - accuracy: 0.9321 - auc: 0.8121 - f1_score: 0.3874 - loss: 0.2211 - precision: 0.7037 - recall: 0.3522"
     ]
    },
    {
     "name": "stderr",
     "output_type": "stream",
     "text": [
      "2025-04-20 10:05:02.426126: W tensorflow/core/lib/png/png_io.cc:92] PNG warning: iCCP: profile 'ICC Profile': 'GRAY': Gray color space not permitted on RGB PNG\n"
     ]
    },
    {
     "name": "stdout",
     "output_type": "stream",
     "text": [
      "\u001b[1m561/561\u001b[0m \u001b[32m━━━━━━━━━━━━━━━━━━━━\u001b[0m\u001b[37m\u001b[0m \u001b[1m0s\u001b[0m 275ms/step - accuracy: 0.9320 - auc: 0.8127 - f1_score: 0.3879 - loss: 0.2212 - precision: 0.7039 - recall: 0.3522  "
     ]
    },
    {
     "name": "stderr",
     "output_type": "stream",
     "text": [
      "2025-04-20 10:06:04.564301: I tensorflow/core/kernels/data/shuffle_dataset_op.cc:452] ShuffleDatasetV3:10: Filling up shuffle buffer (this may take a while): 10325 of 25000\n",
      "2025-04-20 10:06:14.565768: I tensorflow/core/kernels/data/shuffle_dataset_op.cc:452] ShuffleDatasetV3:10: Filling up shuffle buffer (this may take a while): 16472 of 25000\n",
      "2025-04-20 10:06:28.220273: I tensorflow/core/kernels/data/shuffle_dataset_op.cc:482] Shuffle buffer filled.\n",
      "2025-04-20 10:06:28.412829: W tensorflow/core/kernels/data/prefetch_autotuner.cc:52] Prefetch autotuner tried to allocate 134225408 bytes after encountering the first element of size 134225408 bytes.This already causes the autotune ram budget to be exceeded. To stay within the ram budget, either increase the ram budget or reduce element size\n",
      "2025-04-20 10:06:37 - INFO - \n",
      "=== Epoch 24 Summary ===\n",
      "2025-04-20 10:06:37 - INFO - Time: 187.87s\n",
      "2025-04-20 10:06:37 - INFO - Training   - accuracy: 0.9319 - auc: 0.8129 - f1_score: 0.3888 - loss: 0.2211 - precision: 0.7038 - recall: 0.3525 - learning_rate: 0.0000\n",
      "2025-04-20 10:06:37 - INFO - Validation - accuracy: 0.9272 - auc: 0.7732 - f1_score: 0.3656 - loss: 0.2345 - precision: 0.6441 - recall: 0.3233\n",
      "2025-04-20 10:06:37 - INFO - ==================================================\n",
      "\n"
     ]
    },
    {
     "name": "stdout",
     "output_type": "stream",
     "text": [
      "\u001b[1m561/561\u001b[0m \u001b[32m━━━━━━━━━━━━━━━━━━━━\u001b[0m\u001b[37m\u001b[0m \u001b[1m188s\u001b[0m 335ms/step - accuracy: 0.9320 - auc: 0.8127 - f1_score: 0.3879 - loss: 0.2212 - precision: 0.7039 - recall: 0.3522 - val_accuracy: 0.9272 - val_auc: 0.7732 - val_f1_score: 0.3656 - val_loss: 0.2345 - val_precision: 0.6441 - val_recall: 0.3233 - learning_rate: 2.5000e-05\n"
     ]
    },
    {
     "name": "stderr",
     "output_type": "stream",
     "text": [
      "2025-04-20 10:06:37 - INFO - \n",
      "=== Starting Epoch 25 ===\n",
      "\n"
     ]
    },
    {
     "name": "stdout",
     "output_type": "stream",
     "text": [
      "Epoch 25/100\n",
      "\u001b[1m335/561\u001b[0m \u001b[32m━━━━━━━━━━━\u001b[0m\u001b[37m━━━━━━━━━\u001b[0m \u001b[1m1:05\u001b[0m 291ms/step - accuracy: 0.9320 - auc: 0.8105 - f1_score: 0.3932 - loss: 0.2201 - precision: 0.7064 - recall: 0.3552"
     ]
    },
    {
     "name": "stderr",
     "output_type": "stream",
     "text": [
      "2025-04-20 10:08:15.267087: W tensorflow/core/lib/png/png_io.cc:92] PNG warning: iCCP: profile 'ICC Profile': 'GRAY': Gray color space not permitted on RGB PNG\n"
     ]
    },
    {
     "name": "stdout",
     "output_type": "stream",
     "text": [
      "\u001b[1m561/561\u001b[0m \u001b[32m━━━━━━━━━━━━━━━━━━━━\u001b[0m\u001b[37m\u001b[0m \u001b[1m0s\u001b[0m 284ms/step - accuracy: 0.9320 - auc: 0.8117 - f1_score: 0.3942 - loss: 0.2200 - precision: 0.7062 - recall: 0.3561  "
     ]
    },
    {
     "name": "stderr",
     "output_type": "stream",
     "text": [
      "2025-04-20 10:09:17.151368: W tensorflow/core/kernels/data/prefetch_autotuner.cc:52] Prefetch autotuner tried to allocate 77078016 bytes after encountering the first element of size 77078016 bytes.This already causes the autotune ram budget to be exceeded. To stay within the ram budget, either increase the ram budget or reduce element size\n",
      "2025-04-20 10:09:17.501931: I tensorflow/core/kernels/data/shuffle_dataset_op.cc:452] ShuffleDatasetV3:10: Filling up shuffle buffer (this may take a while): 10563 of 25000\n",
      "2025-04-20 10:09:27.502345: I tensorflow/core/kernels/data/shuffle_dataset_op.cc:452] ShuffleDatasetV3:10: Filling up shuffle buffer (this may take a while): 16154 of 25000\n",
      "2025-04-20 10:09:43.135861: I tensorflow/core/kernels/data/shuffle_dataset_op.cc:482] Shuffle buffer filled.\n",
      "2025-04-20 10:09:43.355697: W tensorflow/core/kernels/data/prefetch_autotuner.cc:52] Prefetch autotuner tried to allocate 77078016 bytes after encountering the first element of size 77078016 bytes.This already causes the autotune ram budget to be exceeded. To stay within the ram budget, either increase the ram budget or reduce element size\n",
      "2025-04-20 10:09:45 - INFO - \n",
      "=== Epoch 25 Summary ===\n",
      "2025-04-20 10:09:45 - INFO - Time: 187.81s\n",
      "2025-04-20 10:09:45 - INFO - Training   - accuracy: 0.9323 - auc: 0.8140 - f1_score: 0.3957 - loss: 0.2192 - precision: 0.7063 - recall: 0.3582 - learning_rate: 0.0000\n",
      "2025-04-20 10:09:45 - INFO - Validation - accuracy: 0.9270 - auc: 0.7793 - f1_score: 0.3469 - loss: 0.2347 - precision: 0.6598 - recall: 0.2956\n",
      "2025-04-20 10:09:45 - INFO - ==================================================\n",
      "\n"
     ]
    },
    {
     "name": "stdout",
     "output_type": "stream",
     "text": [
      "\u001b[1m561/561\u001b[0m \u001b[32m━━━━━━━━━━━━━━━━━━━━\u001b[0m\u001b[37m\u001b[0m \u001b[1m188s\u001b[0m 335ms/step - accuracy: 0.9320 - auc: 0.8117 - f1_score: 0.3942 - loss: 0.2200 - precision: 0.7062 - recall: 0.3561 - val_accuracy: 0.9270 - val_auc: 0.7793 - val_f1_score: 0.3469 - val_loss: 0.2347 - val_precision: 0.6598 - val_recall: 0.2956 - learning_rate: 2.5000e-05\n"
     ]
    },
    {
     "name": "stderr",
     "output_type": "stream",
     "text": [
      "2025-04-20 10:09:45 - INFO - \n",
      "=== Starting Epoch 26 ===\n",
      "\n"
     ]
    },
    {
     "name": "stdout",
     "output_type": "stream",
     "text": [
      "Epoch 26/100\n",
      "\u001b[1m336/561\u001b[0m \u001b[32m━━━━━━━━━━━\u001b[0m\u001b[37m━━━━━━━━━\u001b[0m \u001b[1m1:03\u001b[0m 282ms/step - accuracy: 0.9325 - auc: 0.8240 - f1_score: 0.4019 - loss: 0.2178 - precision: 0.7101 - recall: 0.3626"
     ]
    },
    {
     "name": "stderr",
     "output_type": "stream",
     "text": [
      "2025-04-20 10:11:20.464437: W tensorflow/core/lib/png/png_io.cc:92] PNG warning: iCCP: profile 'ICC Profile': 'GRAY': Gray color space not permitted on RGB PNG\n"
     ]
    },
    {
     "name": "stdout",
     "output_type": "stream",
     "text": [
      "\u001b[1m561/561\u001b[0m \u001b[32m━━━━━━━━━━━━━━━━━━━━\u001b[0m\u001b[37m\u001b[0m \u001b[1m0s\u001b[0m 277ms/step - accuracy: 0.9326 - auc: 0.8228 - f1_score: 0.4020 - loss: 0.2177 - precision: 0.7096 - recall: 0.3627  "
     ]
    },
    {
     "name": "stderr",
     "output_type": "stream",
     "text": [
      "2025-04-20 10:12:21.377352: W tensorflow/core/kernels/data/prefetch_autotuner.cc:52] Prefetch autotuner tried to allocate 77078016 bytes after encountering the first element of size 77078016 bytes.This already causes the autotune ram budget to be exceeded. To stay within the ram budget, either increase the ram budget or reduce element size\n",
      "2025-04-20 10:12:21.929267: I tensorflow/core/kernels/data/shuffle_dataset_op.cc:452] ShuffleDatasetV3:10: Filling up shuffle buffer (this may take a while): 10194 of 25000\n",
      "2025-04-20 10:12:41.931920: I tensorflow/core/kernels/data/shuffle_dataset_op.cc:452] ShuffleDatasetV3:10: Filling up shuffle buffer (this may take a while): 21153 of 25000\n",
      "2025-04-20 10:12:48.623336: I tensorflow/core/kernels/data/shuffle_dataset_op.cc:482] Shuffle buffer filled.\n",
      "2025-04-20 10:12:48.736835: W tensorflow/core/kernels/data/prefetch_autotuner.cc:52] Prefetch autotuner tried to allocate 77078016 bytes after encountering the first element of size 77078016 bytes.This already causes the autotune ram budget to be exceeded. To stay within the ram budget, either increase the ram budget or reduce element size\n",
      "2025-04-20 10:12:49 - INFO - \n",
      "=== Epoch 26 Summary ===\n",
      "2025-04-20 10:12:49 - INFO - Time: 184.14s\n",
      "2025-04-20 10:12:49 - INFO - Training   - accuracy: 0.9327 - auc: 0.8210 - f1_score: 0.4026 - loss: 0.2172 - precision: 0.7085 - recall: 0.3637 - learning_rate: 0.0000\n",
      "2025-04-20 10:12:49 - INFO - Validation - accuracy: 0.9242 - auc: 0.7732 - f1_score: 0.3585 - loss: 0.2385 - precision: 0.6003 - recall: 0.3298\n",
      "2025-04-20 10:12:49 - INFO - ==================================================\n",
      "\n"
     ]
    },
    {
     "name": "stdout",
     "output_type": "stream",
     "text": [
      "\u001b[1m561/561\u001b[0m \u001b[32m━━━━━━━━━━━━━━━━━━━━\u001b[0m\u001b[37m\u001b[0m \u001b[1m184s\u001b[0m 328ms/step - accuracy: 0.9326 - auc: 0.8228 - f1_score: 0.4020 - loss: 0.2177 - precision: 0.7096 - recall: 0.3627 - val_accuracy: 0.9242 - val_auc: 0.7732 - val_f1_score: 0.3585 - val_loss: 0.2385 - val_precision: 0.6003 - val_recall: 0.3298 - learning_rate: 2.5000e-05\n"
     ]
    },
    {
     "name": "stderr",
     "output_type": "stream",
     "text": [
      "2025-04-20 10:12:49 - INFO - \n",
      "=== Starting Epoch 27 ===\n",
      "\n"
     ]
    },
    {
     "name": "stdout",
     "output_type": "stream",
     "text": [
      "Epoch 27/100\n",
      "\u001b[1m337/561\u001b[0m \u001b[32m━━━━━━━━━━━━\u001b[0m\u001b[37m━━━━━━━━\u001b[0m \u001b[1m1:03\u001b[0m 286ms/step - accuracy: 0.9322 - auc: 0.8177 - f1_score: 0.4003 - loss: 0.2179 - precision: 0.7038 - recall: 0.3608"
     ]
    },
    {
     "name": "stderr",
     "output_type": "stream",
     "text": [
      "2025-04-20 10:14:26.024097: W tensorflow/core/lib/png/png_io.cc:92] PNG warning: iCCP: profile 'ICC Profile': 'GRAY': Gray color space not permitted on RGB PNG\n"
     ]
    },
    {
     "name": "stdout",
     "output_type": "stream",
     "text": [
      "\u001b[1m561/561\u001b[0m \u001b[32m━━━━━━━━━━━━━━━━━━━━\u001b[0m\u001b[37m\u001b[0m \u001b[1m0s\u001b[0m 280ms/step - accuracy: 0.9323 - auc: 0.8203 - f1_score: 0.4025 - loss: 0.2173 - precision: 0.7053 - recall: 0.3628  "
     ]
    },
    {
     "name": "stderr",
     "output_type": "stream",
     "text": [
      "2025-04-20 10:15:26.894673: W tensorflow/core/kernels/data/prefetch_autotuner.cc:52] Prefetch autotuner tried to allocate 77078016 bytes after encountering the first element of size 77078016 bytes.This already causes the autotune ram budget to be exceeded. To stay within the ram budget, either increase the ram budget or reduce element size\n",
      "2025-04-20 10:15:27.649232: I tensorflow/core/kernels/data/shuffle_dataset_op.cc:452] ShuffleDatasetV3:10: Filling up shuffle buffer (this may take a while): 9931 of 25000\n",
      "2025-04-20 10:15:47.647460: I tensorflow/core/kernels/data/shuffle_dataset_op.cc:452] ShuffleDatasetV3:10: Filling up shuffle buffer (this may take a while): 21265 of 25000\n",
      "2025-04-20 10:15:54.418849: I tensorflow/core/kernels/data/shuffle_dataset_op.cc:482] Shuffle buffer filled.\n",
      "2025-04-20 10:15:54.545003: W tensorflow/core/kernels/data/prefetch_autotuner.cc:52] Prefetch autotuner tried to allocate 77078016 bytes after encountering the first element of size 77078016 bytes.This already causes the autotune ram budget to be exceeded. To stay within the ram budget, either increase the ram budget or reduce element size\n"
     ]
    },
    {
     "name": "stdout",
     "output_type": "stream",
     "text": [
      "\n",
      "Epoch 27: ReduceLROnPlateau reducing learning rate to 1.249999968422344e-05.\n"
     ]
    },
    {
     "name": "stderr",
     "output_type": "stream",
     "text": [
      "2025-04-20 10:15:55 - INFO - \n",
      "=== Epoch 27 Summary ===\n",
      "2025-04-20 10:15:55 - INFO - Time: 185.63s\n",
      "2025-04-20 10:15:55 - INFO - Training   - accuracy: 0.9328 - auc: 0.8237 - f1_score: 0.4064 - loss: 0.2159 - precision: 0.7076 - recall: 0.3663 - learning_rate: 0.0000\n",
      "2025-04-20 10:15:55 - INFO - Validation - accuracy: 0.9273 - auc: 0.7670 - f1_score: 0.3655 - loss: 0.2390 - precision: 0.6366 - recall: 0.3402\n",
      "2025-04-20 10:15:55 - INFO - ==================================================\n",
      "\n"
     ]
    },
    {
     "name": "stdout",
     "output_type": "stream",
     "text": [
      "\u001b[1m561/561\u001b[0m \u001b[32m━━━━━━━━━━━━━━━━━━━━\u001b[0m\u001b[37m\u001b[0m \u001b[1m186s\u001b[0m 331ms/step - accuracy: 0.9323 - auc: 0.8203 - f1_score: 0.4025 - loss: 0.2173 - precision: 0.7053 - recall: 0.3628 - val_accuracy: 0.9273 - val_auc: 0.7670 - val_f1_score: 0.3655 - val_loss: 0.2390 - val_precision: 0.6366 - val_recall: 0.3402 - learning_rate: 2.5000e-05\n"
     ]
    },
    {
     "name": "stderr",
     "output_type": "stream",
     "text": [
      "2025-04-20 10:15:55 - INFO - \n",
      "=== Starting Epoch 28 ===\n",
      "\n"
     ]
    },
    {
     "name": "stdout",
     "output_type": "stream",
     "text": [
      "Epoch 28/100\n",
      "\u001b[1m338/561\u001b[0m \u001b[32m━━━━━━━━━━━━\u001b[0m\u001b[37m━━━━━━━━\u001b[0m \u001b[1m1:04\u001b[0m 290ms/step - accuracy: 0.9338 - auc: 0.8339 - f1_score: 0.4177 - loss: 0.2131 - precision: 0.7187 - recall: 0.3738"
     ]
    },
    {
     "name": "stderr",
     "output_type": "stream",
     "text": [
      "2025-04-20 10:17:33.400263: W tensorflow/core/lib/png/png_io.cc:92] PNG warning: iCCP: profile 'ICC Profile': 'GRAY': Gray color space not permitted on RGB PNG\n"
     ]
    },
    {
     "name": "stdout",
     "output_type": "stream",
     "text": [
      "\u001b[1m561/561\u001b[0m \u001b[32m━━━━━━━━━━━━━━━━━━━━\u001b[0m\u001b[37m\u001b[0m \u001b[1m0s\u001b[0m 283ms/step - accuracy: 0.9341 - auc: 0.8359 - f1_score: 0.4228 - loss: 0.2121 - precision: 0.7203 - recall: 0.3782  "
     ]
    },
    {
     "name": "stderr",
     "output_type": "stream",
     "text": [
      "2025-04-20 10:18:34.549394: W tensorflow/core/kernels/data/prefetch_autotuner.cc:52] Prefetch autotuner tried to allocate 114302464 bytes after encountering the first element of size 114302464 bytes.This already causes the autotune ram budget to be exceeded. To stay within the ram budget, either increase the ram budget or reduce element size\n",
      "2025-04-20 10:18:34.549518: W tensorflow/core/kernels/data/prefetch_autotuner.cc:52] Prefetch autotuner tried to allocate 114302464 bytes after encountering the first element of size 114302464 bytes.This already causes the autotune ram budget to be exceeded. To stay within the ram budget, either increase the ram budget or reduce element size\n",
      "2025-04-20 10:18:35.357564: I tensorflow/core/kernels/data/shuffle_dataset_op.cc:452] ShuffleDatasetV3:10: Filling up shuffle buffer (this may take a while): 10047 of 25000\n",
      "2025-04-20 10:18:45.359537: I tensorflow/core/kernels/data/shuffle_dataset_op.cc:452] ShuffleDatasetV3:10: Filling up shuffle buffer (this may take a while): 15621 of 25000\n",
      "2025-04-20 10:19:01.944851: I tensorflow/core/kernels/data/shuffle_dataset_op.cc:482] Shuffle buffer filled.\n",
      "2025-04-20 10:19:02.057381: W tensorflow/core/kernels/data/prefetch_autotuner.cc:52] Prefetch autotuner tried to allocate 114302464 bytes after encountering the first element of size 114302464 bytes.This already causes the autotune ram budget to be exceeded. To stay within the ram budget, either increase the ram budget or reduce element size\n",
      "2025-04-20 10:19:02 - INFO - \n",
      "=== Epoch 28 Summary ===\n",
      "2025-04-20 10:19:02 - INFO - Time: 187.42s\n",
      "2025-04-20 10:19:02 - INFO - Training   - accuracy: 0.9349 - auc: 0.8411 - f1_score: 0.4339 - loss: 0.2099 - precision: 0.7226 - recall: 0.3881 - learning_rate: 0.0000\n",
      "2025-04-20 10:19:02 - INFO - Validation - accuracy: 0.9282 - auc: 0.7677 - f1_score: 0.3575 - loss: 0.2382 - precision: 0.6561 - recall: 0.3298\n",
      "2025-04-20 10:19:02 - INFO - ==================================================\n",
      "\n"
     ]
    },
    {
     "name": "stdout",
     "output_type": "stream",
     "text": [
      "\u001b[1m561/561\u001b[0m \u001b[32m━━━━━━━━━━━━━━━━━━━━\u001b[0m\u001b[37m\u001b[0m \u001b[1m187s\u001b[0m 334ms/step - accuracy: 0.9341 - auc: 0.8360 - f1_score: 0.4228 - loss: 0.2121 - precision: 0.7203 - recall: 0.3782 - val_accuracy: 0.9282 - val_auc: 0.7677 - val_f1_score: 0.3575 - val_loss: 0.2382 - val_precision: 0.6561 - val_recall: 0.3298 - learning_rate: 1.2500e-05\n"
     ]
    },
    {
     "name": "stderr",
     "output_type": "stream",
     "text": [
      "2025-04-20 10:19:02 - INFO - \n",
      "=== Starting Epoch 29 ===\n",
      "\n"
     ]
    },
    {
     "name": "stdout",
     "output_type": "stream",
     "text": [
      "Epoch 29/100\n",
      "\u001b[1m339/561\u001b[0m \u001b[32m━━━━━━━━━━━━\u001b[0m\u001b[37m━━━━━━━━\u001b[0m \u001b[1m1:05\u001b[0m 294ms/step - accuracy: 0.9365 - auc: 0.8385 - f1_score: 0.4524 - loss: 0.2064 - precision: 0.7327 - recall: 0.4060"
     ]
    },
    {
     "name": "stderr",
     "output_type": "stream",
     "text": [
      "2025-04-20 10:20:42.451013: W tensorflow/core/lib/png/png_io.cc:92] PNG warning: iCCP: profile 'ICC Profile': 'GRAY': Gray color space not permitted on RGB PNG\n"
     ]
    },
    {
     "name": "stdout",
     "output_type": "stream",
     "text": [
      "\u001b[1m561/561\u001b[0m \u001b[32m━━━━━━━━━━━━━━━━━━━━\u001b[0m\u001b[37m\u001b[0m \u001b[1m0s\u001b[0m 286ms/step - accuracy: 0.9364 - auc: 0.8415 - f1_score: 0.4520 - loss: 0.2065 - precision: 0.7311 - recall: 0.4054  "
     ]
    },
    {
     "name": "stderr",
     "output_type": "stream",
     "text": [
      "2025-04-20 10:21:43.765355: W tensorflow/core/kernels/data/prefetch_autotuner.cc:52] Prefetch autotuner tried to allocate 77078016 bytes after encountering the first element of size 77078016 bytes.This already causes the autotune ram budget to be exceeded. To stay within the ram budget, either increase the ram budget or reduce element size\n",
      "2025-04-20 10:21:44.856128: I tensorflow/core/kernels/data/shuffle_dataset_op.cc:452] ShuffleDatasetV3:10: Filling up shuffle buffer (this may take a while): 10024 of 25000\n",
      "2025-04-20 10:22:04.854164: I tensorflow/core/kernels/data/shuffle_dataset_op.cc:452] ShuffleDatasetV3:10: Filling up shuffle buffer (this may take a while): 21043 of 25000\n",
      "2025-04-20 10:22:11.537768: I tensorflow/core/kernels/data/shuffle_dataset_op.cc:482] Shuffle buffer filled.\n",
      "2025-04-20 10:22:11.657433: W tensorflow/core/kernels/data/prefetch_autotuner.cc:52] Prefetch autotuner tried to allocate 77078016 bytes after encountering the first element of size 77078016 bytes.This already causes the autotune ram budget to be exceeded. To stay within the ram budget, either increase the ram budget or reduce element size\n",
      "2025-04-20 10:22:17 - INFO - \n",
      "=== Epoch 29 Summary ===\n",
      "2025-04-20 10:22:17 - INFO - Time: 194.33s\n",
      "2025-04-20 10:22:17 - INFO - Training   - accuracy: 0.9361 - auc: 0.8470 - f1_score: 0.4519 - loss: 0.2066 - precision: 0.7278 - recall: 0.4047 - learning_rate: 0.0000\n",
      "2025-04-20 10:22:17 - INFO - Validation - accuracy: 0.9271 - auc: 0.7516 - f1_score: 0.3602 - loss: 0.2431 - precision: 0.6281 - recall: 0.3517\n",
      "2025-04-20 10:22:17 - INFO - ==================================================\n",
      "\n"
     ]
    },
    {
     "name": "stdout",
     "output_type": "stream",
     "text": [
      "\u001b[1m561/561\u001b[0m \u001b[32m━━━━━━━━━━━━━━━━━━━━\u001b[0m\u001b[37m\u001b[0m \u001b[1m194s\u001b[0m 347ms/step - accuracy: 0.9364 - auc: 0.8415 - f1_score: 0.4520 - loss: 0.2065 - precision: 0.7311 - recall: 0.4054 - val_accuracy: 0.9271 - val_auc: 0.7516 - val_f1_score: 0.3602 - val_loss: 0.2431 - val_precision: 0.6281 - val_recall: 0.3517 - learning_rate: 1.2500e-05\n"
     ]
    },
    {
     "name": "stderr",
     "output_type": "stream",
     "text": [
      "2025-04-20 10:22:17 - INFO - \n",
      "=== Starting Epoch 30 ===\n",
      "\n"
     ]
    },
    {
     "name": "stdout",
     "output_type": "stream",
     "text": [
      "Epoch 30/100\n",
      "\u001b[1m340/561\u001b[0m \u001b[32m━━━━━━━━━━━━\u001b[0m\u001b[37m━━━━━━━━\u001b[0m \u001b[1m55s\u001b[0m 253ms/step - accuracy: 0.9355 - auc: 0.8489 - f1_score: 0.4480 - loss: 0.2078 - precision: 0.7279 - recall: 0.4001 "
     ]
    },
    {
     "name": "stderr",
     "output_type": "stream",
     "text": [
      "2025-04-20 10:23:43.103266: W tensorflow/core/lib/png/png_io.cc:92] PNG warning: iCCP: profile 'ICC Profile': 'GRAY': Gray color space not permitted on RGB PNG\n"
     ]
    },
    {
     "name": "stdout",
     "output_type": "stream",
     "text": [
      "\u001b[1m561/561\u001b[0m \u001b[32m━━━━━━━━━━━━━━━━━━━━\u001b[0m\u001b[37m\u001b[0m \u001b[1m0s\u001b[0m 261ms/step - accuracy: 0.9358 - auc: 0.8501 - f1_score: 0.4514 - loss: 0.2069 - precision: 0.7282 - recall: 0.4035 "
     ]
    },
    {
     "name": "stderr",
     "output_type": "stream",
     "text": [
      "2025-04-20 10:24:43.652188: W tensorflow/core/kernels/data/prefetch_autotuner.cc:52] Prefetch autotuner tried to allocate 77078016 bytes after encountering the first element of size 77078016 bytes.This already causes the autotune ram budget to be exceeded. To stay within the ram budget, either increase the ram budget or reduce element size\n",
      "2025-04-20 10:24:43.652318: W tensorflow/core/kernels/data/prefetch_autotuner.cc:52] Prefetch autotuner tried to allocate 77078016 bytes after encountering the first element of size 77078016 bytes.This already causes the autotune ram budget to be exceeded. To stay within the ram budget, either increase the ram budget or reduce element size\n",
      "2025-04-20 10:24:45.226915: I tensorflow/core/kernels/data/shuffle_dataset_op.cc:452] ShuffleDatasetV3:10: Filling up shuffle buffer (this may take a while): 9885 of 25000\n",
      "2025-04-20 10:25:05.233954: I tensorflow/core/kernels/data/shuffle_dataset_op.cc:452] ShuffleDatasetV3:10: Filling up shuffle buffer (this may take a while): 20983 of 25000\n",
      "2025-04-20 10:25:11.929063: I tensorflow/core/kernels/data/shuffle_dataset_op.cc:482] Shuffle buffer filled.\n",
      "2025-04-20 10:25:12.047383: W tensorflow/core/kernels/data/prefetch_autotuner.cc:52] Prefetch autotuner tried to allocate 77078016 bytes after encountering the first element of size 77078016 bytes.This already causes the autotune ram budget to be exceeded. To stay within the ram budget, either increase the ram budget or reduce element size\n"
     ]
    },
    {
     "name": "stdout",
     "output_type": "stream",
     "text": [
      "\n",
      "Epoch 30: ReduceLROnPlateau reducing learning rate to 6.24999984211172e-06.\n"
     ]
    },
    {
     "name": "stderr",
     "output_type": "stream",
     "text": [
      "2025-04-20 10:25:12 - INFO - \n",
      "=== Epoch 30 Summary ===\n",
      "2025-04-20 10:25:12 - INFO - Time: 175.05s\n",
      "2025-04-20 10:25:12 - INFO - Training   - accuracy: 0.9364 - auc: 0.8524 - f1_score: 0.4577 - loss: 0.2053 - precision: 0.7289 - recall: 0.4095 - learning_rate: 0.0000\n",
      "2025-04-20 10:25:12 - INFO - Validation - accuracy: 0.9251 - auc: 0.7608 - f1_score: 0.3601 - loss: 0.2399 - precision: 0.6250 - recall: 0.2999\n",
      "2025-04-20 10:25:12 - INFO - ==================================================\n",
      "\n"
     ]
    },
    {
     "name": "stdout",
     "output_type": "stream",
     "text": [
      "\u001b[1m561/561\u001b[0m \u001b[32m━━━━━━━━━━━━━━━━━━━━\u001b[0m\u001b[37m\u001b[0m \u001b[1m175s\u001b[0m 312ms/step - accuracy: 0.9358 - auc: 0.8501 - f1_score: 0.4514 - loss: 0.2069 - precision: 0.7283 - recall: 0.4035 - val_accuracy: 0.9251 - val_auc: 0.7608 - val_f1_score: 0.3601 - val_loss: 0.2399 - val_precision: 0.6250 - val_recall: 0.2999 - learning_rate: 1.2500e-05\n"
     ]
    },
    {
     "name": "stderr",
     "output_type": "stream",
     "text": [
      "2025-04-20 10:25:12 - INFO - \n",
      "=== Starting Epoch 31 ===\n",
      "\n"
     ]
    },
    {
     "name": "stdout",
     "output_type": "stream",
     "text": [
      "Epoch 31/100\n",
      "\u001b[1m341/561\u001b[0m \u001b[32m━━━━━━━━━━━━\u001b[0m\u001b[37m━━━━━━━━\u001b[0m \u001b[1m1:01\u001b[0m 280ms/step - accuracy: 0.9384 - auc: 0.8584 - f1_score: 0.4723 - loss: 0.2000 - precision: 0.7431 - recall: 0.4231"
     ]
    },
    {
     "name": "stderr",
     "output_type": "stream",
     "text": [
      "2025-04-20 10:26:47.623044: W tensorflow/core/lib/png/png_io.cc:92] PNG warning: iCCP: profile 'ICC Profile': 'GRAY': Gray color space not permitted on RGB PNG\n"
     ]
    },
    {
     "name": "stdout",
     "output_type": "stream",
     "text": [
      "\u001b[1m561/561\u001b[0m \u001b[32m━━━━━━━━━━━━━━━━━━━━\u001b[0m\u001b[37m\u001b[0m \u001b[1m0s\u001b[0m 278ms/step - accuracy: 0.9384 - auc: 0.8600 - f1_score: 0.4752 - loss: 0.1997 - precision: 0.7440 - recall: 0.4253  "
     ]
    },
    {
     "name": "stderr",
     "output_type": "stream",
     "text": [
      "2025-04-20 10:27:48.450486: W tensorflow/core/kernels/data/prefetch_autotuner.cc:52] Prefetch autotuner tried to allocate 77078016 bytes after encountering the first element of size 77078016 bytes.This already causes the autotune ram budget to be exceeded. To stay within the ram budget, either increase the ram budget or reduce element size\n",
      "2025-04-20 10:27:50.115044: I tensorflow/core/kernels/data/shuffle_dataset_op.cc:452] ShuffleDatasetV3:10: Filling up shuffle buffer (this may take a while): 9744 of 25000\n",
      "2025-04-20 10:28:10.105772: I tensorflow/core/kernels/data/shuffle_dataset_op.cc:452] ShuffleDatasetV3:10: Filling up shuffle buffer (this may take a while): 20799 of 25000\n",
      "2025-04-20 10:28:16.739544: I tensorflow/core/kernels/data/shuffle_dataset_op.cc:482] Shuffle buffer filled.\n",
      "2025-04-20 10:28:16.851842: W tensorflow/core/kernels/data/prefetch_autotuner.cc:52] Prefetch autotuner tried to allocate 77078016 bytes after encountering the first element of size 77078016 bytes.This already causes the autotune ram budget to be exceeded. To stay within the ram budget, either increase the ram budget or reduce element size\n",
      "2025-04-20 10:28:19 - INFO - \n",
      "=== Epoch 31 Summary ===\n",
      "2025-04-20 10:28:19 - INFO - Time: 187.48s\n",
      "2025-04-20 10:28:19 - INFO - Training   - accuracy: 0.9387 - auc: 0.8644 - f1_score: 0.4827 - loss: 0.1988 - precision: 0.7456 - recall: 0.4314 - learning_rate: 0.0000\n",
      "2025-04-20 10:28:19 - INFO - Validation - accuracy: 0.9266 - auc: 0.7552 - f1_score: 0.3959 - loss: 0.2448 - precision: 0.6141 - recall: 0.3732\n",
      "2025-04-20 10:28:19 - INFO - ==================================================\n",
      "\n"
     ]
    },
    {
     "name": "stdout",
     "output_type": "stream",
     "text": [
      "\u001b[1m561/561\u001b[0m \u001b[32m━━━━━━━━━━━━━━━━━━━━\u001b[0m\u001b[37m\u001b[0m \u001b[1m188s\u001b[0m 335ms/step - accuracy: 0.9384 - auc: 0.8600 - f1_score: 0.4752 - loss: 0.1997 - precision: 0.7440 - recall: 0.4253 - val_accuracy: 0.9266 - val_auc: 0.7552 - val_f1_score: 0.3959 - val_loss: 0.2448 - val_precision: 0.6141 - val_recall: 0.3732 - learning_rate: 6.2500e-06\n"
     ]
    },
    {
     "name": "stderr",
     "output_type": "stream",
     "text": [
      "2025-04-20 10:28:19 - INFO - \n",
      "=== Starting Epoch 32 ===\n",
      "\n"
     ]
    },
    {
     "name": "stdout",
     "output_type": "stream",
     "text": [
      "Epoch 32/100\n",
      "\u001b[1m342/561\u001b[0m \u001b[32m━━━━━━━━━━━━\u001b[0m\u001b[37m━━━━━━━━\u001b[0m \u001b[1m1:04\u001b[0m 293ms/step - accuracy: 0.9392 - auc: 0.8615 - f1_score: 0.4900 - loss: 0.1982 - precision: 0.7476 - recall: 0.4374"
     ]
    },
    {
     "name": "stderr",
     "output_type": "stream",
     "text": [
      "2025-04-20 10:29:59.948646: W tensorflow/core/lib/png/png_io.cc:92] PNG warning: iCCP: profile 'ICC Profile': 'GRAY': Gray color space not permitted on RGB PNG\n"
     ]
    },
    {
     "name": "stdout",
     "output_type": "stream",
     "text": [
      "\u001b[1m561/561\u001b[0m \u001b[32m━━━━━━━━━━━━━━━━━━━━\u001b[0m\u001b[37m\u001b[0m \u001b[1m0s\u001b[0m 285ms/step - accuracy: 0.9394 - auc: 0.8640 - f1_score: 0.4921 - loss: 0.1973 - precision: 0.7490 - recall: 0.4395  "
     ]
    },
    {
     "name": "stderr",
     "output_type": "stream",
     "text": [
      "2025-04-20 10:31:00.070809: W tensorflow/core/kernels/data/prefetch_autotuner.cc:52] Prefetch autotuner tried to allocate 77078016 bytes after encountering the first element of size 77078016 bytes.This already causes the autotune ram budget to be exceeded. To stay within the ram budget, either increase the ram budget or reduce element size\n",
      "2025-04-20 10:31:02.127021: I tensorflow/core/kernels/data/shuffle_dataset_op.cc:452] ShuffleDatasetV3:10: Filling up shuffle buffer (this may take a while): 9885 of 25000\n",
      "2025-04-20 10:31:22.128738: I tensorflow/core/kernels/data/shuffle_dataset_op.cc:452] ShuffleDatasetV3:10: Filling up shuffle buffer (this may take a while): 21291 of 25000\n",
      "2025-04-20 10:31:28.053117: I tensorflow/core/kernels/data/shuffle_dataset_op.cc:482] Shuffle buffer filled.\n",
      "2025-04-20 10:31:28.170294: W tensorflow/core/kernels/data/prefetch_autotuner.cc:52] Prefetch autotuner tried to allocate 77078016 bytes after encountering the first element of size 77078016 bytes.This already causes the autotune ram budget to be exceeded. To stay within the ram budget, either increase the ram budget or reduce element size\n",
      "2025-04-20 10:31:29 - INFO - \n",
      "=== Epoch 32 Summary ===\n",
      "2025-04-20 10:31:29 - INFO - Time: 189.52s\n",
      "2025-04-20 10:31:29 - INFO - Training   - accuracy: 0.9398 - auc: 0.8688 - f1_score: 0.4966 - loss: 0.1959 - precision: 0.7516 - recall: 0.4431 - learning_rate: 0.0000\n",
      "2025-04-20 10:31:29 - INFO - Validation - accuracy: 0.9224 - auc: 0.7616 - f1_score: 0.4039 - loss: 0.2514 - precision: 0.5703 - recall: 0.3590\n",
      "2025-04-20 10:31:29 - INFO - ==================================================\n",
      "\n"
     ]
    },
    {
     "name": "stdout",
     "output_type": "stream",
     "text": [
      "\u001b[1m561/561\u001b[0m \u001b[32m━━━━━━━━━━━━━━━━━━━━\u001b[0m\u001b[37m\u001b[0m \u001b[1m190s\u001b[0m 338ms/step - accuracy: 0.9394 - auc: 0.8640 - f1_score: 0.4922 - loss: 0.1973 - precision: 0.7490 - recall: 0.4395 - val_accuracy: 0.9224 - val_auc: 0.7616 - val_f1_score: 0.4039 - val_loss: 0.2514 - val_precision: 0.5703 - val_recall: 0.3590 - learning_rate: 6.2500e-06\n"
     ]
    },
    {
     "name": "stderr",
     "output_type": "stream",
     "text": [
      "2025-04-20 10:31:29 - INFO - \n",
      "=== Starting Epoch 33 ===\n",
      "\n"
     ]
    },
    {
     "name": "stdout",
     "output_type": "stream",
     "text": [
      "Epoch 33/100\n",
      "\u001b[1m343/561\u001b[0m \u001b[32m━━━━━━━━━━━━\u001b[0m\u001b[37m━━━━━━━━\u001b[0m \u001b[1m1:02\u001b[0m 289ms/step - accuracy: 0.9398 - auc: 0.8693 - f1_score: 0.4995 - loss: 0.1952 - precision: 0.7501 - recall: 0.4460"
     ]
    },
    {
     "name": "stderr",
     "output_type": "stream",
     "text": [
      "2025-04-20 10:33:08.626900: W tensorflow/core/lib/png/png_io.cc:92] PNG warning: iCCP: profile 'ICC Profile': 'GRAY': Gray color space not permitted on RGB PNG\n"
     ]
    },
    {
     "name": "stdout",
     "output_type": "stream",
     "text": [
      "\u001b[1m561/561\u001b[0m \u001b[32m━━━━━━━━━━━━━━━━━━━━\u001b[0m\u001b[37m\u001b[0m \u001b[1m0s\u001b[0m 286ms/step - accuracy: 0.9401 - auc: 0.8702 - f1_score: 0.5022 - loss: 0.1947 - precision: 0.7517 - recall: 0.4485  "
     ]
    },
    {
     "name": "stderr",
     "output_type": "stream",
     "text": [
      "2025-04-20 10:34:10.003014: W tensorflow/core/kernels/data/prefetch_autotuner.cc:52] Prefetch autotuner tried to allocate 134225408 bytes after encountering the first element of size 134225408 bytes.This already causes the autotune ram budget to be exceeded. To stay within the ram budget, either increase the ram budget or reduce element size\n",
      "2025-04-20 10:34:10.003126: W tensorflow/core/kernels/data/prefetch_autotuner.cc:52] Prefetch autotuner tried to allocate 134225408 bytes after encountering the first element of size 134225408 bytes.This already causes the autotune ram budget to be exceeded. To stay within the ram budget, either increase the ram budget or reduce element size\n",
      "2025-04-20 10:34:12.288107: I tensorflow/core/kernels/data/shuffle_dataset_op.cc:452] ShuffleDatasetV3:10: Filling up shuffle buffer (this may take a while): 9636 of 25000\n",
      "2025-04-20 10:34:32.295180: I tensorflow/core/kernels/data/shuffle_dataset_op.cc:452] ShuffleDatasetV3:10: Filling up shuffle buffer (this may take a while): 20113 of 25000\n",
      "2025-04-20 10:34:38 - INFO - \n",
      "=== Epoch 33 Summary ===\n",
      "2025-04-20 10:34:38 - INFO - Time: 189.24s\n",
      "2025-04-20 10:34:38 - INFO - Training   - accuracy: 0.9405 - auc: 0.8719 - f1_score: 0.5071 - loss: 0.1937 - precision: 0.7543 - recall: 0.4531 - learning_rate: 0.0000\n",
      "2025-04-20 10:34:38 - INFO - Validation - accuracy: 0.9185 - auc: 0.7690 - f1_score: 0.3639 - loss: 0.2556 - precision: 0.5375 - recall: 0.3059\n",
      "2025-04-20 10:34:38 - INFO - ==================================================\n",
      "\n"
     ]
    },
    {
     "name": "stdout",
     "output_type": "stream",
     "text": [
      "\u001b[1m561/561\u001b[0m \u001b[32m━━━━━━━━━━━━━━━━━━━━\u001b[0m\u001b[37m\u001b[0m \u001b[1m189s\u001b[0m 338ms/step - accuracy: 0.9401 - auc: 0.8702 - f1_score: 0.5022 - loss: 0.1947 - precision: 0.7517 - recall: 0.4485 - val_accuracy: 0.9185 - val_auc: 0.7690 - val_f1_score: 0.3639 - val_loss: 0.2556 - val_precision: 0.5375 - val_recall: 0.3059 - learning_rate: 6.2500e-06\n"
     ]
    },
    {
     "name": "stderr",
     "output_type": "stream",
     "text": [
      "2025-04-20 10:34:38 - INFO - \n",
      "=== Starting Epoch 34 ===\n",
      "\n"
     ]
    },
    {
     "name": "stdout",
     "output_type": "stream",
     "text": [
      "Epoch 34/100\n",
      "\u001b[1m  4/561\u001b[0m \u001b[37m━━━━━━━━━━━━━━━━━━━━\u001b[0m \u001b[1m2:26\u001b[0m 262ms/step - accuracy: 0.9391 - auc: 0.8340 - f1_score: 0.5122 - loss: 0.1917 - precision: 0.7331 - recall: 0.4674"
     ]
    },
    {
     "name": "stderr",
     "output_type": "stream",
     "text": [
      "2025-04-20 10:34:39.678993: I tensorflow/core/kernels/data/shuffle_dataset_op.cc:482] Shuffle buffer filled.\n"
     ]
    },
    {
     "name": "stdout",
     "output_type": "stream",
     "text": [
      "\u001b[1m  7/561\u001b[0m \u001b[37m━━━━━━━━━━━━━━━━━━━━\u001b[0m \u001b[1m2:25\u001b[0m 263ms/step - accuracy: 0.9390 - auc: 0.8495 - f1_score: 0.5091 - loss: 0.1922 - precision: 0.7339 - recall: 0.4617"
     ]
    },
    {
     "name": "stderr",
     "output_type": "stream",
     "text": [
      "2025-04-20 10:34:40.400398: W tensorflow/core/kernels/data/prefetch_autotuner.cc:52] Prefetch autotuner tried to allocate 134225408 bytes after encountering the first element of size 134225408 bytes.This already causes the autotune ram budget to be exceeded. To stay within the ram budget, either increase the ram budget or reduce element size\n"
     ]
    },
    {
     "name": "stdout",
     "output_type": "stream",
     "text": [
      "\u001b[1m344/561\u001b[0m \u001b[32m━━━━━━━━━━━━\u001b[0m\u001b[37m━━━━━━━━\u001b[0m \u001b[1m1:09\u001b[0m 321ms/step - accuracy: 0.9406 - auc: 0.8758 - f1_score: 0.5120 - loss: 0.1930 - precision: 0.7551 - recall: 0.4565"
     ]
    },
    {
     "name": "stderr",
     "output_type": "stream",
     "text": [
      "2025-04-20 10:36:29.232963: W tensorflow/core/lib/png/png_io.cc:92] PNG warning: iCCP: profile 'ICC Profile': 'GRAY': Gray color space not permitted on RGB PNG\n"
     ]
    },
    {
     "name": "stdout",
     "output_type": "stream",
     "text": [
      "\u001b[1m561/561\u001b[0m \u001b[32m━━━━━━━━━━━━━━━━━━━━\u001b[0m\u001b[37m\u001b[0m \u001b[1m0s\u001b[0m 306ms/step - accuracy: 0.9409 - auc: 0.8762 - f1_score: 0.5142 - loss: 0.1924 - precision: 0.7571 - recall: 0.4585  "
     ]
    },
    {
     "name": "stderr",
     "output_type": "stream",
     "text": [
      "2025-04-20 10:37:30.508086: W tensorflow/core/kernels/data/prefetch_autotuner.cc:52] Prefetch autotuner tried to allocate 77078016 bytes after encountering the first element of size 77078016 bytes.This already causes the autotune ram budget to be exceeded. To stay within the ram budget, either increase the ram budget or reduce element size\n",
      "2025-04-20 10:37:30.508220: W tensorflow/core/kernels/data/prefetch_autotuner.cc:52] Prefetch autotuner tried to allocate 77078016 bytes after encountering the first element of size 77078016 bytes.This already causes the autotune ram budget to be exceeded. To stay within the ram budget, either increase the ram budget or reduce element size\n",
      "2025-04-20 10:37:33.047902: I tensorflow/core/kernels/data/shuffle_dataset_op.cc:452] ShuffleDatasetV3:10: Filling up shuffle buffer (this may take a while): 9649 of 25000\n",
      "2025-04-20 10:37:53.043511: I tensorflow/core/kernels/data/shuffle_dataset_op.cc:452] ShuffleDatasetV3:10: Filling up shuffle buffer (this may take a while): 20546 of 25000\n",
      "2025-04-20 10:37:59 - INFO - \n",
      "=== Epoch 34 Summary ===\n",
      "2025-04-20 10:37:59 - INFO - Time: 200.57s\n",
      "2025-04-20 10:37:59 - INFO - Training   - accuracy: 0.9415 - auc: 0.8765 - f1_score: 0.5182 - loss: 0.1914 - precision: 0.7604 - recall: 0.4622 - learning_rate: 0.0000\n",
      "2025-04-20 10:37:59 - INFO - Validation - accuracy: 0.9252 - auc: 0.7587 - f1_score: 0.3865 - loss: 0.2603 - precision: 0.5946 - recall: 0.3822\n",
      "2025-04-20 10:37:59 - INFO - ==================================================\n",
      "\n"
     ]
    },
    {
     "name": "stdout",
     "output_type": "stream",
     "text": [
      "\u001b[1m561/561\u001b[0m \u001b[32m━━━━━━━━━━━━━━━━━━━━\u001b[0m\u001b[37m\u001b[0m \u001b[1m201s\u001b[0m 358ms/step - accuracy: 0.9409 - auc: 0.8762 - f1_score: 0.5142 - loss: 0.1924 - precision: 0.7571 - recall: 0.4586 - val_accuracy: 0.9252 - val_auc: 0.7587 - val_f1_score: 0.3865 - val_loss: 0.2603 - val_precision: 0.5946 - val_recall: 0.3822 - learning_rate: 6.2500e-06\n"
     ]
    },
    {
     "name": "stderr",
     "output_type": "stream",
     "text": [
      "2025-04-20 10:37:59 - INFO - \n",
      "=== Starting Epoch 35 ===\n",
      "\n"
     ]
    },
    {
     "name": "stdout",
     "output_type": "stream",
     "text": [
      "Epoch 35/100\n",
      "\u001b[1m  3/561\u001b[0m \u001b[37m━━━━━━━━━━━━━━━━━━━━\u001b[0m \u001b[1m2:12\u001b[0m 238ms/step - accuracy: 0.9489 - auc: 0.8346 - f1_score: 0.5665 - loss: 0.1772 - precision: 0.7827 - recall: 0.5224"
     ]
    },
    {
     "name": "stderr",
     "output_type": "stream",
     "text": [
      "2025-04-20 10:37:59.949639: I tensorflow/core/kernels/data/shuffle_dataset_op.cc:482] Shuffle buffer filled.\n"
     ]
    },
    {
     "name": "stdout",
     "output_type": "stream",
     "text": [
      "\u001b[1m  4/561\u001b[0m \u001b[37m━━━━━━━━━━━━━━━━━━━━\u001b[0m \u001b[1m2:15\u001b[0m 243ms/step - accuracy: 0.9471 - auc: 0.8336 - f1_score: 0.5520 - loss: 0.1809 - precision: 0.7761 - recall: 0.5082"
     ]
    },
    {
     "name": "stderr",
     "output_type": "stream",
     "text": [
      "2025-04-20 10:38:00.341660: W tensorflow/core/kernels/data/prefetch_autotuner.cc:52] Prefetch autotuner tried to allocate 77078016 bytes after encountering the first element of size 77078016 bytes.This already causes the autotune ram budget to be exceeded. To stay within the ram budget, either increase the ram budget or reduce element size\n"
     ]
    },
    {
     "name": "stdout",
     "output_type": "stream",
     "text": [
      "\u001b[1m345/561\u001b[0m \u001b[32m━━━━━━━━━━━━\u001b[0m\u001b[37m━━━━━━━━\u001b[0m \u001b[1m1:03\u001b[0m 295ms/step - accuracy: 0.9416 - auc: 0.8767 - f1_score: 0.5228 - loss: 0.1909 - precision: 0.7617 - recall: 0.4659"
     ]
    },
    {
     "name": "stderr",
     "output_type": "stream",
     "text": [
      "2025-04-20 10:39:41.026649: W tensorflow/core/lib/png/png_io.cc:92] PNG warning: iCCP: profile 'ICC Profile': 'GRAY': Gray color space not permitted on RGB PNG\n"
     ]
    },
    {
     "name": "stdout",
     "output_type": "stream",
     "text": [
      "\u001b[1m561/561\u001b[0m \u001b[32m━━━━━━━━━━━━━━━━━━━━\u001b[0m\u001b[37m\u001b[0m \u001b[1m0s\u001b[0m 287ms/step - accuracy: 0.9418 - auc: 0.8779 - f1_score: 0.5243 - loss: 0.1904 - precision: 0.7622 - recall: 0.4675  "
     ]
    },
    {
     "name": "stderr",
     "output_type": "stream",
     "text": [
      "2025-04-20 10:40:40.750893: W tensorflow/core/kernels/data/prefetch_autotuner.cc:52] Prefetch autotuner tried to allocate 77078016 bytes after encountering the first element of size 77078016 bytes.This already causes the autotune ram budget to be exceeded. To stay within the ram budget, either increase the ram budget or reduce element size\n",
      "2025-04-20 10:40:43.529033: I tensorflow/core/kernels/data/shuffle_dataset_op.cc:452] ShuffleDatasetV3:10: Filling up shuffle buffer (this may take a while): 9437 of 25000\n",
      "2025-04-20 10:41:03.524967: I tensorflow/core/kernels/data/shuffle_dataset_op.cc:452] ShuffleDatasetV3:10: Filling up shuffle buffer (this may take a while): 20832 of 25000\n"
     ]
    },
    {
     "name": "stdout",
     "output_type": "stream",
     "text": [
      "\n",
      "Epoch 35: ReduceLROnPlateau reducing learning rate to 3.12499992105586e-06.\n"
     ]
    },
    {
     "name": "stderr",
     "output_type": "stream",
     "text": [
      "2025-04-20 10:41:08 - INFO - \n",
      "=== Epoch 35 Summary ===\n",
      "2025-04-20 10:41:08 - INFO - Time: 189.06s\n",
      "2025-04-20 10:41:08 - INFO - Training   - accuracy: 0.9421 - auc: 0.8803 - f1_score: 0.5269 - loss: 0.1894 - precision: 0.7630 - recall: 0.4702 - learning_rate: 0.0000\n",
      "2025-04-20 10:41:08 - INFO - Validation - accuracy: 0.9265 - auc: 0.7492 - f1_score: 0.3847 - loss: 0.2589 - precision: 0.6097 - recall: 0.3794\n",
      "2025-04-20 10:41:08 - INFO - ==================================================\n",
      "\n"
     ]
    },
    {
     "name": "stdout",
     "output_type": "stream",
     "text": [
      "\u001b[1m561/561\u001b[0m \u001b[32m━━━━━━━━━━━━━━━━━━━━\u001b[0m\u001b[37m\u001b[0m \u001b[1m189s\u001b[0m 337ms/step - accuracy: 0.9418 - auc: 0.8779 - f1_score: 0.5243 - loss: 0.1904 - precision: 0.7622 - recall: 0.4675 - val_accuracy: 0.9265 - val_auc: 0.7492 - val_f1_score: 0.3847 - val_loss: 0.2589 - val_precision: 0.6097 - val_recall: 0.3794 - learning_rate: 6.2500e-06\n"
     ]
    },
    {
     "name": "stderr",
     "output_type": "stream",
     "text": [
      "2025-04-20 10:41:08 - INFO - \n",
      "=== Starting Epoch 36 ===\n",
      "\n"
     ]
    },
    {
     "name": "stdout",
     "output_type": "stream",
     "text": [
      "Epoch 36/100\n",
      "\u001b[1m  4/561\u001b[0m \u001b[37m━━━━━━━━━━━━━━━━━━━━\u001b[0m \u001b[1m2:13\u001b[0m 239ms/step - accuracy: 0.9424 - auc: 0.8717 - f1_score: 0.5138 - loss: 0.1882 - precision: 0.8000 - recall: 0.4513"
     ]
    },
    {
     "name": "stderr",
     "output_type": "stream",
     "text": [
      "2025-04-20 10:41:09.247384: I tensorflow/core/kernels/data/shuffle_dataset_op.cc:482] Shuffle buffer filled.\n"
     ]
    },
    {
     "name": "stdout",
     "output_type": "stream",
     "text": [
      "\u001b[1m  5/561\u001b[0m \u001b[37m━━━━━━━━━━━━━━━━━━━━\u001b[0m \u001b[1m2:14\u001b[0m 241ms/step - accuracy: 0.9428 - auc: 0.8758 - f1_score: 0.5193 - loss: 0.1875 - precision: 0.7976 - recall: 0.4575"
     ]
    },
    {
     "name": "stderr",
     "output_type": "stream",
     "text": [
      "2025-04-20 10:41:09.652071: W tensorflow/core/kernels/data/prefetch_autotuner.cc:52] Prefetch autotuner tried to allocate 77078016 bytes after encountering the first element of size 77078016 bytes.This already causes the autotune ram budget to be exceeded. To stay within the ram budget, either increase the ram budget or reduce element size\n"
     ]
    },
    {
     "name": "stdout",
     "output_type": "stream",
     "text": [
      "\u001b[1m346/561\u001b[0m \u001b[32m━━━━━━━━━━━━\u001b[0m\u001b[37m━━━━━━━━\u001b[0m \u001b[1m1:04\u001b[0m 301ms/step - accuracy: 0.9434 - auc: 0.8835 - f1_score: 0.5330 - loss: 0.1869 - precision: 0.7744 - recall: 0.4755"
     ]
    },
    {
     "name": "stderr",
     "output_type": "stream",
     "text": [
      "2025-04-20 10:42:52.652131: W tensorflow/core/lib/png/png_io.cc:92] PNG warning: iCCP: profile 'ICC Profile': 'GRAY': Gray color space not permitted on RGB PNG\n"
     ]
    },
    {
     "name": "stdout",
     "output_type": "stream",
     "text": [
      "\u001b[1m561/561\u001b[0m \u001b[32m━━━━━━━━━━━━━━━━━━━━\u001b[0m\u001b[37m\u001b[0m \u001b[1m0s\u001b[0m 291ms/step - accuracy: 0.9436 - auc: 0.8846 - f1_score: 0.5366 - loss: 0.1860 - precision: 0.7749 - recall: 0.4793  "
     ]
    },
    {
     "name": "stderr",
     "output_type": "stream",
     "text": [
      "2025-04-20 10:43:52.090319: W tensorflow/core/kernels/data/prefetch_autotuner.cc:52] Prefetch autotuner tried to allocate 77078016 bytes after encountering the first element of size 77078016 bytes.This already causes the autotune ram budget to be exceeded. To stay within the ram budget, either increase the ram budget or reduce element size\n",
      "2025-04-20 10:43:52.090430: W tensorflow/core/kernels/data/prefetch_autotuner.cc:52] Prefetch autotuner tried to allocate 77078016 bytes after encountering the first element of size 77078016 bytes.This already causes the autotune ram budget to be exceeded. To stay within the ram budget, either increase the ram budget or reduce element size\n",
      "2025-04-20 10:43:55.111352: I tensorflow/core/kernels/data/shuffle_dataset_op.cc:452] ShuffleDatasetV3:10: Filling up shuffle buffer (this may take a while): 9437 of 25000\n",
      "2025-04-20 10:44:15.114871: I tensorflow/core/kernels/data/shuffle_dataset_op.cc:452] ShuffleDatasetV3:10: Filling up shuffle buffer (this may take a while): 20895 of 25000\n",
      "2025-04-20 10:44:19 - INFO - \n",
      "=== Epoch 36 Summary ===\n",
      "2025-04-20 10:44:19 - INFO - Time: 191.17s\n",
      "2025-04-20 10:44:19 - INFO - Training   - accuracy: 0.9442 - auc: 0.8871 - f1_score: 0.5450 - loss: 0.1842 - precision: 0.7762 - recall: 0.4877 - learning_rate: 0.0000\n",
      "2025-04-20 10:44:19 - INFO - Validation - accuracy: 0.9254 - auc: 0.7472 - f1_score: 0.3894 - loss: 0.2622 - precision: 0.5979 - recall: 0.3773\n",
      "2025-04-20 10:44:19 - INFO - ==================================================\n",
      "\n"
     ]
    },
    {
     "name": "stdout",
     "output_type": "stream",
     "text": [
      "\u001b[1m561/561\u001b[0m \u001b[32m━━━━━━━━━━━━━━━━━━━━\u001b[0m\u001b[37m\u001b[0m \u001b[1m191s\u001b[0m 341ms/step - accuracy: 0.9437 - auc: 0.8846 - f1_score: 0.5366 - loss: 0.1860 - precision: 0.7749 - recall: 0.4793 - val_accuracy: 0.9254 - val_auc: 0.7472 - val_f1_score: 0.3894 - val_loss: 0.2622 - val_precision: 0.5979 - val_recall: 0.3773 - learning_rate: 3.1250e-06\n"
     ]
    },
    {
     "name": "stderr",
     "output_type": "stream",
     "text": [
      "2025-04-20 10:44:19 - INFO - \n",
      "=== Starting Epoch 37 ===\n",
      "\n"
     ]
    },
    {
     "name": "stdout",
     "output_type": "stream",
     "text": [
      "Epoch 37/100\n",
      "\u001b[1m  4/561\u001b[0m \u001b[37m━━━━━━━━━━━━━━━━━━━━\u001b[0m \u001b[1m2:15\u001b[0m 242ms/step - accuracy: 0.9513 - auc: 0.8700 - f1_score: 0.6061 - loss: 0.1702 - precision: 0.8194 - recall: 0.5433"
     ]
    },
    {
     "name": "stderr",
     "output_type": "stream",
     "text": [
      "2025-04-20 10:44:20.601993: I tensorflow/core/kernels/data/shuffle_dataset_op.cc:482] Shuffle buffer filled.\n"
     ]
    },
    {
     "name": "stdout",
     "output_type": "stream",
     "text": [
      "\u001b[1m  6/561\u001b[0m \u001b[37m━━━━━━━━━━━━━━━━━━━━\u001b[0m \u001b[1m2:14\u001b[0m 242ms/step - accuracy: 0.9498 - auc: 0.8826 - f1_score: 0.5921 - loss: 0.1729 - precision: 0.8116 - recall: 0.5310"
     ]
    },
    {
     "name": "stderr",
     "output_type": "stream",
     "text": [
      "2025-04-20 10:44:21.089283: W tensorflow/core/kernels/data/prefetch_autotuner.cc:52] Prefetch autotuner tried to allocate 77078016 bytes after encountering the first element of size 77078016 bytes.This already causes the autotune ram budget to be exceeded. To stay within the ram budget, either increase the ram budget or reduce element size\n"
     ]
    },
    {
     "name": "stdout",
     "output_type": "stream",
     "text": [
      "\u001b[1m347/561\u001b[0m \u001b[32m━━━━━━━━━━━━\u001b[0m\u001b[37m━━━━━━━━\u001b[0m \u001b[1m1:09\u001b[0m 327ms/step - accuracy: 0.9443 - auc: 0.8911 - f1_score: 0.5507 - loss: 0.1843 - precision: 0.7787 - recall: 0.4921"
     ]
    },
    {
     "name": "stderr",
     "output_type": "stream",
     "text": [
      "2025-04-20 10:46:13.018128: W tensorflow/core/lib/png/png_io.cc:92] PNG warning: iCCP: profile 'ICC Profile': 'GRAY': Gray color space not permitted on RGB PNG\n"
     ]
    },
    {
     "name": "stdout",
     "output_type": "stream",
     "text": [
      "\u001b[1m561/561\u001b[0m \u001b[32m━━━━━━━━━━━━━━━━━━━━\u001b[0m\u001b[37m\u001b[0m \u001b[1m0s\u001b[0m 307ms/step - accuracy: 0.9446 - auc: 0.8913 - f1_score: 0.5526 - loss: 0.1837 - precision: 0.7794 - recall: 0.4942  "
     ]
    },
    {
     "name": "stderr",
     "output_type": "stream",
     "text": [
      "2025-04-20 10:47:12.187011: W tensorflow/core/kernels/data/prefetch_autotuner.cc:52] Prefetch autotuner tried to allocate 134225408 bytes after encountering the first element of size 134225408 bytes.This already causes the autotune ram budget to be exceeded. To stay within the ram budget, either increase the ram budget or reduce element size\n",
      "2025-04-20 10:47:12.187122: W tensorflow/core/kernels/data/prefetch_autotuner.cc:52] Prefetch autotuner tried to allocate 134225408 bytes after encountering the first element of size 134225408 bytes.This already causes the autotune ram budget to be exceeded. To stay within the ram budget, either increase the ram budget or reduce element size\n",
      "2025-04-20 10:47:15.448775: I tensorflow/core/kernels/data/shuffle_dataset_op.cc:452] ShuffleDatasetV3:10: Filling up shuffle buffer (this may take a while): 9263 of 25000\n",
      "2025-04-20 10:47:25.451346: I tensorflow/core/kernels/data/shuffle_dataset_op.cc:452] ShuffleDatasetV3:10: Filling up shuffle buffer (this may take a while): 14955 of 25000\n",
      "2025-04-20 10:47:35.456844: I tensorflow/core/kernels/data/shuffle_dataset_op.cc:452] ShuffleDatasetV3:10: Filling up shuffle buffer (this may take a while): 20501 of 25000\n",
      "2025-04-20 10:47:40 - INFO - \n",
      "=== Epoch 37 Summary ===\n",
      "2025-04-20 10:47:40 - INFO - Time: 201.19s\n",
      "2025-04-20 10:47:40 - INFO - Training   - accuracy: 0.9450 - auc: 0.8920 - f1_score: 0.5569 - loss: 0.1824 - precision: 0.7808 - recall: 0.4988 - learning_rate: 0.0000\n",
      "2025-04-20 10:47:40 - INFO - Validation - accuracy: 0.9234 - auc: 0.7430 - f1_score: 0.4045 - loss: 0.2621 - precision: 0.5769 - recall: 0.3749\n",
      "2025-04-20 10:47:40 - INFO - ==================================================\n",
      "\n"
     ]
    },
    {
     "name": "stdout",
     "output_type": "stream",
     "text": [
      "\u001b[1m561/561\u001b[0m \u001b[32m━━━━━━━━━━━━━━━━━━━━\u001b[0m\u001b[37m\u001b[0m \u001b[1m201s\u001b[0m 359ms/step - accuracy: 0.9446 - auc: 0.8913 - f1_score: 0.5526 - loss: 0.1837 - precision: 0.7794 - recall: 0.4942 - val_accuracy: 0.9234 - val_auc: 0.7430 - val_f1_score: 0.4045 - val_loss: 0.2621 - val_precision: 0.5769 - val_recall: 0.3749 - learning_rate: 3.1250e-06\n"
     ]
    },
    {
     "name": "stderr",
     "output_type": "stream",
     "text": [
      "2025-04-20 10:47:40 - INFO - \n",
      "=== Starting Epoch 38 ===\n",
      "\n"
     ]
    },
    {
     "name": "stdout",
     "output_type": "stream",
     "text": [
      "Epoch 38/100\n",
      "\u001b[1m  3/561\u001b[0m \u001b[37m━━━━━━━━━━━━━━━━━━━━\u001b[0m \u001b[1m2:07\u001b[0m 229ms/step - accuracy: 0.9444 - auc: 0.8721 - f1_score: 0.5414 - loss: 0.1921 - precision: 0.7816 - recall: 0.4930"
     ]
    },
    {
     "name": "stderr",
     "output_type": "stream",
     "text": [
      "2025-04-20 10:47:41.465342: I tensorflow/core/kernels/data/shuffle_dataset_op.cc:482] Shuffle buffer filled.\n"
     ]
    },
    {
     "name": "stdout",
     "output_type": "stream",
     "text": [
      "\u001b[1m  5/561\u001b[0m \u001b[37m━━━━━━━━━━━━━━━━━━━━\u001b[0m \u001b[1m2:11\u001b[0m 237ms/step - accuracy: 0.9447 - auc: 0.8798 - f1_score: 0.5450 - loss: 0.1886 - precision: 0.7756 - recall: 0.4964"
     ]
    },
    {
     "name": "stderr",
     "output_type": "stream",
     "text": [
      "2025-04-20 10:47:41.823818: W tensorflow/core/kernels/data/prefetch_autotuner.cc:52] Prefetch autotuner tried to allocate 134225408 bytes after encountering the first element of size 134225408 bytes.This already causes the autotune ram budget to be exceeded. To stay within the ram budget, either increase the ram budget or reduce element size\n"
     ]
    },
    {
     "name": "stdout",
     "output_type": "stream",
     "text": [
      "\u001b[1m348/561\u001b[0m \u001b[32m━━━━━━━━━━━━\u001b[0m\u001b[37m━━━━━━━━\u001b[0m \u001b[1m1:01\u001b[0m 288ms/step - accuracy: 0.9453 - auc: 0.8911 - f1_score: 0.5561 - loss: 0.1817 - precision: 0.7816 - recall: 0.4974"
     ]
    },
    {
     "name": "stderr",
     "output_type": "stream",
     "text": [
      "2025-04-20 10:49:20.919524: W tensorflow/core/lib/png/png_io.cc:92] PNG warning: iCCP: profile 'ICC Profile': 'GRAY': Gray color space not permitted on RGB PNG\n"
     ]
    },
    {
     "name": "stdout",
     "output_type": "stream",
     "text": [
      "\u001b[1m561/561\u001b[0m \u001b[32m━━━━━━━━━━━━━━━━━━━━\u001b[0m\u001b[37m\u001b[0m \u001b[1m0s\u001b[0m 283ms/step - accuracy: 0.9454 - auc: 0.8917 - f1_score: 0.5579 - loss: 0.1813 - precision: 0.7822 - recall: 0.4993  "
     ]
    },
    {
     "name": "stderr",
     "output_type": "stream",
     "text": [
      "2025-04-20 10:50:19.689205: W tensorflow/core/kernels/data/prefetch_autotuner.cc:52] Prefetch autotuner tried to allocate 134225408 bytes after encountering the first element of size 134225408 bytes.This already causes the autotune ram budget to be exceeded. To stay within the ram budget, either increase the ram budget or reduce element size\n",
      "2025-04-20 10:50:23.189749: I tensorflow/core/kernels/data/shuffle_dataset_op.cc:452] ShuffleDatasetV3:10: Filling up shuffle buffer (this may take a while): 10357 of 25000\n",
      "2025-04-20 10:50:33.190466: I tensorflow/core/kernels/data/shuffle_dataset_op.cc:452] ShuffleDatasetV3:10: Filling up shuffle buffer (this may take a while): 19390 of 25000\n",
      "2025-04-20 10:50:39.548291: I tensorflow/core/kernels/data/shuffle_dataset_op.cc:482] Shuffle buffer filled.\n",
      "2025-04-20 10:50:39.724773: W tensorflow/core/kernels/data/prefetch_autotuner.cc:52] Prefetch autotuner tried to allocate 134225408 bytes after encountering the first element of size 134225408 bytes.This already causes the autotune ram budget to be exceeded. To stay within the ram budget, either increase the ram budget or reduce element size\n",
      "2025-04-20 10:51:15 - INFO - \n",
      "=== Epoch 38 Summary ===\n",
      "2025-04-20 10:51:15 - INFO - Time: 214.24s\n",
      "2025-04-20 10:51:15 - INFO - Training   - accuracy: 0.9456 - auc: 0.8935 - f1_score: 0.5618 - loss: 0.1805 - precision: 0.7837 - recall: 0.5034 - learning_rate: 0.0000\n",
      "2025-04-20 10:51:15 - INFO - Validation - accuracy: 0.9204 - auc: 0.7511 - f1_score: 0.3872 - loss: 0.2594 - precision: 0.5535 - recall: 0.3364\n",
      "2025-04-20 10:51:15 - INFO - ==================================================\n",
      "\n"
     ]
    },
    {
     "name": "stdout",
     "output_type": "stream",
     "text": [
      "\u001b[1m561/561\u001b[0m \u001b[32m━━━━━━━━━━━━━━━━━━━━\u001b[0m\u001b[37m\u001b[0m \u001b[1m214s\u001b[0m 382ms/step - accuracy: 0.9454 - auc: 0.8917 - f1_score: 0.5579 - loss: 0.1813 - precision: 0.7822 - recall: 0.4993 - val_accuracy: 0.9204 - val_auc: 0.7511 - val_f1_score: 0.3872 - val_loss: 0.2594 - val_precision: 0.5535 - val_recall: 0.3364 - learning_rate: 3.1250e-06\n"
     ]
    },
    {
     "name": "stderr",
     "output_type": "stream",
     "text": [
      "2025-04-20 10:51:15 - INFO - \n",
      "=== Starting Epoch 39 ===\n",
      "\n"
     ]
    },
    {
     "name": "stdout",
     "output_type": "stream",
     "text": [
      "Epoch 39/100\n",
      "\u001b[1m349/561\u001b[0m \u001b[32m━━━━━━━━━━━━\u001b[0m\u001b[37m━━━━━━━━\u001b[0m \u001b[1m53s\u001b[0m 254ms/step - accuracy: 0.9454 - auc: 0.8888 - f1_score: 0.5627 - loss: 0.1813 - precision: 0.7858 - recall: 0.5022 "
     ]
    },
    {
     "name": "stderr",
     "output_type": "stream",
     "text": [
      "2025-04-20 10:52:43.766546: W tensorflow/core/lib/png/png_io.cc:92] PNG warning: iCCP: profile 'ICC Profile': 'GRAY': Gray color space not permitted on RGB PNG\n"
     ]
    },
    {
     "name": "stdout",
     "output_type": "stream",
     "text": [
      "\u001b[1m561/561\u001b[0m \u001b[32m━━━━━━━━━━━━━━━━━━━━\u001b[0m\u001b[37m\u001b[0m \u001b[1m0s\u001b[0m 264ms/step - accuracy: 0.9456 - auc: 0.8905 - f1_score: 0.5645 - loss: 0.1806 - precision: 0.7864 - recall: 0.5043 "
     ]
    },
    {
     "name": "stderr",
     "output_type": "stream",
     "text": [
      "2025-04-20 10:53:47.255807: I tensorflow/core/kernels/data/shuffle_dataset_op.cc:452] ShuffleDatasetV3:10: Filling up shuffle buffer (this may take a while): 9029 of 25000\n",
      "2025-04-20 10:53:57.258008: I tensorflow/core/kernels/data/shuffle_dataset_op.cc:452] ShuffleDatasetV3:10: Filling up shuffle buffer (this may take a while): 14777 of 25000\n",
      "2025-04-20 10:54:11 - INFO - \n",
      "=== Epoch 39 Summary ===\n",
      "2025-04-20 10:54:11 - INFO - Time: 176.31s\n",
      "2025-04-20 10:54:11 - INFO - Training   - accuracy: 0.9463 - auc: 0.8948 - f1_score: 0.5699 - loss: 0.1788 - precision: 0.7885 - recall: 0.5103 - learning_rate: 0.0000\n",
      "2025-04-20 10:54:11 - INFO - Validation - accuracy: 0.9250 - auc: 0.7270 - f1_score: 0.3897 - loss: 0.2855 - precision: 0.5899 - recall: 0.3933\n",
      "2025-04-20 10:54:11 - INFO - ==================================================\n",
      "\n"
     ]
    },
    {
     "name": "stdout",
     "output_type": "stream",
     "text": [
      "\u001b[1m561/561\u001b[0m \u001b[32m━━━━━━━━━━━━━━━━━━━━\u001b[0m\u001b[37m\u001b[0m \u001b[1m176s\u001b[0m 314ms/step - accuracy: 0.9456 - auc: 0.8905 - f1_score: 0.5645 - loss: 0.1806 - precision: 0.7864 - recall: 0.5043 - val_accuracy: 0.9250 - val_auc: 0.7270 - val_f1_score: 0.3897 - val_loss: 0.2855 - val_precision: 0.5899 - val_recall: 0.3933 - learning_rate: 3.1250e-06\n"
     ]
    },
    {
     "name": "stderr",
     "output_type": "stream",
     "text": [
      "2025-04-20 10:54:11 - INFO - \n",
      "=== Starting Epoch 40 ===\n",
      "\n"
     ]
    },
    {
     "name": "stdout",
     "output_type": "stream",
     "text": [
      "Epoch 40/100\n",
      "\u001b[1m  6/561\u001b[0m \u001b[37m━━━━━━━━━━━━━━━━━━━━\u001b[0m \u001b[1m2:12\u001b[0m 239ms/step - accuracy: 0.9443 - auc: 0.8947 - f1_score: 0.5550 - loss: 0.1846 - precision: 0.7824 - recall: 0.5006"
     ]
    },
    {
     "name": "stderr",
     "output_type": "stream",
     "text": [
      "2025-04-20 10:54:12.891423: I tensorflow/core/kernels/data/shuffle_dataset_op.cc:482] Shuffle buffer filled.\n"
     ]
    },
    {
     "name": "stdout",
     "output_type": "stream",
     "text": [
      "\u001b[1m  8/561\u001b[0m \u001b[37m━━━━━━━━━━━━━━━━━━━━\u001b[0m \u001b[1m2:13\u001b[0m 241ms/step - accuracy: 0.9442 - auc: 0.8929 - f1_score: 0.5552 - loss: 0.1851 - precision: 0.7834 - recall: 0.4999"
     ]
    },
    {
     "name": "stderr",
     "output_type": "stream",
     "text": [
      "2025-04-20 10:54:13.345903: W tensorflow/core/kernels/data/prefetch_autotuner.cc:52] Prefetch autotuner tried to allocate 77078016 bytes after encountering the first element of size 77078016 bytes.This already causes the autotune ram budget to be exceeded. To stay within the ram budget, either increase the ram budget or reduce element size\n"
     ]
    },
    {
     "name": "stdout",
     "output_type": "stream",
     "text": [
      "\u001b[1m350/561\u001b[0m \u001b[32m━━━━━━━━━━━━\u001b[0m\u001b[37m━━━━━━━━\u001b[0m \u001b[1m1:03\u001b[0m 302ms/step - accuracy: 0.9460 - auc: 0.8957 - f1_score: 0.5693 - loss: 0.1792 - precision: 0.7848 - recall: 0.5103"
     ]
    },
    {
     "name": "stderr",
     "output_type": "stream",
     "text": [
      "2025-04-20 10:55:56.985068: W tensorflow/core/lib/png/png_io.cc:92] PNG warning: iCCP: profile 'ICC Profile': 'GRAY': Gray color space not permitted on RGB PNG\n"
     ]
    },
    {
     "name": "stdout",
     "output_type": "stream",
     "text": [
      "\u001b[1m561/561\u001b[0m \u001b[32m━━━━━━━━━━━━━━━━━━━━\u001b[0m\u001b[37m\u001b[0m \u001b[1m0s\u001b[0m 292ms/step - accuracy: 0.9462 - auc: 0.8960 - f1_score: 0.5715 - loss: 0.1787 - precision: 0.7863 - recall: 0.5123  "
     ]
    },
    {
     "name": "stderr",
     "output_type": "stream",
     "text": [
      "2025-04-20 10:56:55.411353: W tensorflow/core/kernels/data/prefetch_autotuner.cc:52] Prefetch autotuner tried to allocate 114302464 bytes after encountering the first element of size 114302464 bytes.This already causes the autotune ram budget to be exceeded. To stay within the ram budget, either increase the ram budget or reduce element size\n",
      "2025-04-20 10:56:59.376698: I tensorflow/core/kernels/data/shuffle_dataset_op.cc:452] ShuffleDatasetV3:10: Filling up shuffle buffer (this may take a while): 8908 of 25000\n",
      "2025-04-20 10:57:19.376828: I tensorflow/core/kernels/data/shuffle_dataset_op.cc:452] ShuffleDatasetV3:10: Filling up shuffle buffer (this may take a while): 20351 of 25000\n"
     ]
    },
    {
     "name": "stdout",
     "output_type": "stream",
     "text": [
      "\n",
      "Epoch 40: ReduceLROnPlateau reducing learning rate to 1.56249996052793e-06.\n"
     ]
    },
    {
     "name": "stderr",
     "output_type": "stream",
     "text": [
      "2025-04-20 10:57:23 - INFO - \n",
      "=== Epoch 40 Summary ===\n",
      "2025-04-20 10:57:23 - INFO - Time: 191.69s\n",
      "2025-04-20 10:57:23 - INFO - Training   - accuracy: 0.9469 - auc: 0.8974 - f1_score: 0.5760 - loss: 0.1773 - precision: 0.7895 - recall: 0.5166 - learning_rate: 0.0000\n",
      "2025-04-20 10:57:23 - INFO - Validation - accuracy: 0.9213 - auc: 0.7521 - f1_score: 0.3902 - loss: 0.2656 - precision: 0.5606 - recall: 0.3485\n",
      "2025-04-20 10:57:23 - INFO - ==================================================\n",
      "\n"
     ]
    },
    {
     "name": "stdout",
     "output_type": "stream",
     "text": [
      "\u001b[1m561/561\u001b[0m \u001b[32m━━━━━━━━━━━━━━━━━━━━\u001b[0m\u001b[37m\u001b[0m \u001b[1m192s\u001b[0m 342ms/step - accuracy: 0.9462 - auc: 0.8960 - f1_score: 0.5715 - loss: 0.1787 - precision: 0.7863 - recall: 0.5123 - val_accuracy: 0.9213 - val_auc: 0.7521 - val_f1_score: 0.3902 - val_loss: 0.2656 - val_precision: 0.5606 - val_recall: 0.3485 - learning_rate: 3.1250e-06\n"
     ]
    },
    {
     "name": "stderr",
     "output_type": "stream",
     "text": [
      "2025-04-20 10:57:23 - INFO - \n",
      "=== Starting Epoch 41 ===\n",
      "\n"
     ]
    },
    {
     "name": "stdout",
     "output_type": "stream",
     "text": [
      "Epoch 41/100\n",
      "\u001b[1m  8/561\u001b[0m \u001b[37m━━━━━━━━━━━━━━━━━━━━\u001b[0m \u001b[1m2:12\u001b[0m 240ms/step - accuracy: 0.9538 - auc: 0.8682 - f1_score: 0.6383 - loss: 0.1618 - precision: 0.8280 - recall: 0.5726"
     ]
    },
    {
     "name": "stderr",
     "output_type": "stream",
     "text": [
      "2025-04-20 10:57:24.924748: I tensorflow/core/kernels/data/shuffle_dataset_op.cc:482] Shuffle buffer filled.\n"
     ]
    },
    {
     "name": "stdout",
     "output_type": "stream",
     "text": [
      "\u001b[1m 10/561\u001b[0m \u001b[37m━━━━━━━━━━━━━━━━━━━━\u001b[0m \u001b[1m2:11\u001b[0m 238ms/step - accuracy: 0.9534 - auc: 0.8787 - f1_score: 0.6327 - loss: 0.1626 - precision: 0.8279 - recall: 0.5667"
     ]
    },
    {
     "name": "stderr",
     "output_type": "stream",
     "text": [
      "2025-04-20 10:57:25.304368: W tensorflow/core/kernels/data/prefetch_autotuner.cc:52] Prefetch autotuner tried to allocate 114302464 bytes after encountering the first element of size 114302464 bytes.This already causes the autotune ram budget to be exceeded. To stay within the ram budget, either increase the ram budget or reduce element size\n"
     ]
    },
    {
     "name": "stdout",
     "output_type": "stream",
     "text": [
      "\u001b[1m351/561\u001b[0m \u001b[32m━━━━━━━━━━━━\u001b[0m\u001b[37m━━━━━━━━\u001b[0m \u001b[1m1:10\u001b[0m 335ms/step - accuracy: 0.9473 - auc: 0.9006 - f1_score: 0.5821 - loss: 0.1760 - precision: 0.7952 - recall: 0.5225"
     ]
    },
    {
     "name": "stderr",
     "output_type": "stream",
     "text": [
      "2025-04-20 10:59:20.630687: W tensorflow/core/lib/png/png_io.cc:92] PNG warning: iCCP: profile 'ICC Profile': 'GRAY': Gray color space not permitted on RGB PNG\n"
     ]
    },
    {
     "name": "stdout",
     "output_type": "stream",
     "text": [
      "\u001b[1m561/561\u001b[0m \u001b[32m━━━━━━━━━━━━━━━━━━━━\u001b[0m\u001b[37m\u001b[0m \u001b[1m0s\u001b[0m 315ms/step - accuracy: 0.9474 - auc: 0.9009 - f1_score: 0.5827 - loss: 0.1758 - precision: 0.7956 - recall: 0.5230  "
     ]
    },
    {
     "name": "stderr",
     "output_type": "stream",
     "text": [
      "2025-04-20 11:00:20.197542: W tensorflow/core/kernels/data/prefetch_autotuner.cc:52] Prefetch autotuner tried to allocate 77078016 bytes after encountering the first element of size 77078016 bytes.This already causes the autotune ram budget to be exceeded. To stay within the ram budget, either increase the ram budget or reduce element size\n",
      "2025-04-20 11:00:24.392944: I tensorflow/core/kernels/data/shuffle_dataset_op.cc:452] ShuffleDatasetV3:10: Filling up shuffle buffer (this may take a while): 8768 of 25000\n",
      "2025-04-20 11:00:34.394775: I tensorflow/core/kernels/data/shuffle_dataset_op.cc:452] ShuffleDatasetV3:10: Filling up shuffle buffer (this may take a while): 14485 of 25000\n",
      "2025-04-20 11:00:47 - INFO - \n",
      "=== Epoch 41 Summary ===\n",
      "2025-04-20 11:00:47 - INFO - Time: 204.71s\n",
      "2025-04-20 11:00:47 - INFO - Training   - accuracy: 0.9478 - auc: 0.9022 - f1_score: 0.5850 - loss: 0.1746 - precision: 0.7967 - recall: 0.5250 - learning_rate: 0.0000\n",
      "2025-04-20 11:00:47 - INFO - Validation - accuracy: 0.9248 - auc: 0.7387 - f1_score: 0.3914 - loss: 0.2739 - precision: 0.5906 - recall: 0.3810\n",
      "2025-04-20 11:00:47 - INFO - ==================================================\n",
      "\n"
     ]
    },
    {
     "name": "stdout",
     "output_type": "stream",
     "text": [
      "\u001b[1m561/561\u001b[0m \u001b[32m━━━━━━━━━━━━━━━━━━━━\u001b[0m\u001b[37m\u001b[0m \u001b[1m205s\u001b[0m 365ms/step - accuracy: 0.9474 - auc: 0.9010 - f1_score: 0.5827 - loss: 0.1758 - precision: 0.7956 - recall: 0.5230 - val_accuracy: 0.9248 - val_auc: 0.7387 - val_f1_score: 0.3914 - val_loss: 0.2739 - val_precision: 0.5906 - val_recall: 0.3810 - learning_rate: 1.5625e-06\n"
     ]
    },
    {
     "name": "stderr",
     "output_type": "stream",
     "text": [
      "2025-04-20 11:00:47 - INFO - \n",
      "=== Starting Epoch 42 ===\n",
      "\n"
     ]
    },
    {
     "name": "stdout",
     "output_type": "stream",
     "text": [
      "Epoch 42/100\n",
      "\u001b[1m  9/561\u001b[0m \u001b[37m━━━━━━━━━━━━━━━━━━━━\u001b[0m \u001b[1m2:12\u001b[0m 240ms/step - accuracy: 0.9490 - auc: 0.8794 - f1_score: 0.5933 - loss: 0.1703 - precision: 0.7700 - recall: 0.5438"
     ]
    },
    {
     "name": "stderr",
     "output_type": "stream",
     "text": [
      "2025-04-20 11:00:49.922767: I tensorflow/core/kernels/data/shuffle_dataset_op.cc:482] Shuffle buffer filled.\n"
     ]
    },
    {
     "name": "stdout",
     "output_type": "stream",
     "text": [
      "\u001b[1m 10/561\u001b[0m \u001b[37m━━━━━━━━━━━━━━━━━━━━\u001b[0m \u001b[1m2:12\u001b[0m 241ms/step - accuracy: 0.9491 - auc: 0.8817 - f1_score: 0.5933 - loss: 0.1704 - precision: 0.7718 - recall: 0.5431"
     ]
    },
    {
     "name": "stderr",
     "output_type": "stream",
     "text": [
      "2025-04-20 11:00:50.275767: W tensorflow/core/kernels/data/prefetch_autotuner.cc:52] Prefetch autotuner tried to allocate 77078016 bytes after encountering the first element of size 77078016 bytes.This already causes the autotune ram budget to be exceeded. To stay within the ram budget, either increase the ram budget or reduce element size\n"
     ]
    },
    {
     "name": "stdout",
     "output_type": "stream",
     "text": [
      "\u001b[1m352/561\u001b[0m \u001b[32m━━━━━━━━━━━━\u001b[0m\u001b[37m━━━━━━━━\u001b[0m \u001b[1m1:00\u001b[0m 288ms/step - accuracy: 0.9482 - auc: 0.8973 - f1_score: 0.5869 - loss: 0.1751 - precision: 0.7973 - recall: 0.5255"
     ]
    },
    {
     "name": "stderr",
     "output_type": "stream",
     "text": [
      "2025-04-20 11:02:29.185855: W tensorflow/core/lib/png/png_io.cc:92] PNG warning: iCCP: profile 'ICC Profile': 'GRAY': Gray color space not permitted on RGB PNG\n"
     ]
    },
    {
     "name": "stdout",
     "output_type": "stream",
     "text": [
      "\u001b[1m561/561\u001b[0m \u001b[32m━━━━━━━━━━━━━━━━━━━━\u001b[0m\u001b[37m\u001b[0m \u001b[1m0s\u001b[0m 283ms/step - accuracy: 0.9483 - auc: 0.8992 - f1_score: 0.5885 - loss: 0.1745 - precision: 0.7990 - recall: 0.5270  "
     ]
    },
    {
     "name": "stderr",
     "output_type": "stream",
     "text": [
      "2025-04-20 11:03:26.622446: W tensorflow/core/kernels/data/prefetch_autotuner.cc:52] Prefetch autotuner tried to allocate 77078016 bytes after encountering the first element of size 77078016 bytes.This already causes the autotune ram budget to be exceeded. To stay within the ram budget, either increase the ram budget or reduce element size\n",
      "2025-04-20 11:03:31.063526: I tensorflow/core/kernels/data/shuffle_dataset_op.cc:452] ShuffleDatasetV3:10: Filling up shuffle buffer (this may take a while): 8559 of 25000\n",
      "2025-04-20 11:03:41.069182: I tensorflow/core/kernels/data/shuffle_dataset_op.cc:452] ShuffleDatasetV3:10: Filling up shuffle buffer (this may take a while): 14285 of 25000\n",
      "2025-04-20 11:03:54 - INFO - \n",
      "=== Epoch 42 Summary ===\n",
      "2025-04-20 11:03:54 - INFO - Time: 186.30s\n",
      "2025-04-20 11:03:54 - INFO - Training   - accuracy: 0.9487 - auc: 0.9030 - f1_score: 0.5929 - loss: 0.1732 - precision: 0.8025 - recall: 0.5312 - learning_rate: 0.0000\n",
      "2025-04-20 11:03:54 - INFO - Validation - accuracy: 0.9244 - auc: 0.7308 - f1_score: 0.3981 - loss: 0.2772 - precision: 0.5853 - recall: 0.3859\n",
      "2025-04-20 11:03:54 - INFO - ==================================================\n",
      "\n"
     ]
    },
    {
     "name": "stdout",
     "output_type": "stream",
     "text": [
      "\u001b[1m561/561\u001b[0m \u001b[32m━━━━━━━━━━━━━━━━━━━━\u001b[0m\u001b[37m\u001b[0m \u001b[1m186s\u001b[0m 332ms/step - accuracy: 0.9483 - auc: 0.8992 - f1_score: 0.5885 - loss: 0.1745 - precision: 0.7990 - recall: 0.5270 - val_accuracy: 0.9244 - val_auc: 0.7308 - val_f1_score: 0.3981 - val_loss: 0.2772 - val_precision: 0.5853 - val_recall: 0.3859 - learning_rate: 1.5625e-06\n"
     ]
    },
    {
     "name": "stderr",
     "output_type": "stream",
     "text": [
      "2025-04-20 11:03:54 - INFO - \n",
      "=== Starting Epoch 43 ===\n",
      "\n"
     ]
    },
    {
     "name": "stdout",
     "output_type": "stream",
     "text": [
      "Epoch 43/100\n",
      "\u001b[1m 11/561\u001b[0m \u001b[37m━━━━━━━━━━━━━━━━━━━━\u001b[0m \u001b[1m2:09\u001b[0m 236ms/step - accuracy: 0.9460 - auc: 0.8830 - f1_score: 0.5618 - loss: 0.1781 - precision: 0.7823 - recall: 0.5136"
     ]
    },
    {
     "name": "stderr",
     "output_type": "stream",
     "text": [
      "2025-04-20 11:03:56.589589: I tensorflow/core/kernels/data/shuffle_dataset_op.cc:482] Shuffle buffer filled.\n"
     ]
    },
    {
     "name": "stdout",
     "output_type": "stream",
     "text": [
      "\u001b[1m 12/561\u001b[0m \u001b[37m━━━━━━━━━━━━━━━━━━━━\u001b[0m \u001b[1m2:10\u001b[0m 237ms/step - accuracy: 0.9460 - auc: 0.8847 - f1_score: 0.5623 - loss: 0.1779 - precision: 0.7829 - recall: 0.5135"
     ]
    },
    {
     "name": "stderr",
     "output_type": "stream",
     "text": [
      "2025-04-20 11:03:57.022632: W tensorflow/core/kernels/data/prefetch_autotuner.cc:52] Prefetch autotuner tried to allocate 77078016 bytes after encountering the first element of size 77078016 bytes.This already causes the autotune ram budget to be exceeded. To stay within the ram budget, either increase the ram budget or reduce element size\n"
     ]
    },
    {
     "name": "stdout",
     "output_type": "stream",
     "text": [
      "\u001b[1m353/561\u001b[0m \u001b[32m━━━━━━━━━━━━\u001b[0m\u001b[37m━━━━━━━━\u001b[0m \u001b[1m1:00\u001b[0m 292ms/step - accuracy: 0.9480 - auc: 0.9025 - f1_score: 0.5894 - loss: 0.1737 - precision: 0.7962 - recall: 0.5304"
     ]
    },
    {
     "name": "stderr",
     "output_type": "stream",
     "text": [
      "2025-04-20 11:05:37.207585: W tensorflow/core/lib/png/png_io.cc:92] PNG warning: iCCP: profile 'ICC Profile': 'GRAY': Gray color space not permitted on RGB PNG\n"
     ]
    },
    {
     "name": "stdout",
     "output_type": "stream",
     "text": [
      "\u001b[1m561/561\u001b[0m \u001b[32m━━━━━━━━━━━━━━━━━━━━\u001b[0m\u001b[37m\u001b[0m \u001b[1m0s\u001b[0m 286ms/step - accuracy: 0.9484 - auc: 0.9039 - f1_score: 0.5925 - loss: 0.1731 - precision: 0.7986 - recall: 0.5330  "
     ]
    },
    {
     "name": "stderr",
     "output_type": "stream",
     "text": [
      "2025-04-20 11:06:39.567422: I tensorflow/core/kernels/data/shuffle_dataset_op.cc:452] ShuffleDatasetV3:10: Filling up shuffle buffer (this may take a while): 8435 of 25000\n",
      "2025-04-20 11:06:49.568947: I tensorflow/core/kernels/data/shuffle_dataset_op.cc:452] ShuffleDatasetV3:10: Filling up shuffle buffer (this may take a while): 14127 of 25000\n",
      "2025-04-20 11:06:59.571709: I tensorflow/core/kernels/data/shuffle_dataset_op.cc:452] ShuffleDatasetV3:10: Filling up shuffle buffer (this may take a while): 19851 of 25000\n"
     ]
    },
    {
     "name": "stdout",
     "output_type": "stream",
     "text": [
      "\n",
      "Epoch 43: ReduceLROnPlateau reducing learning rate to 1e-06.\n"
     ]
    },
    {
     "name": "stderr",
     "output_type": "stream",
     "text": [
      "2025-04-20 11:07:02 - INFO - \n",
      "=== Epoch 43 Summary ===\n",
      "2025-04-20 11:07:02 - INFO - Time: 188.39s\n",
      "2025-04-20 11:07:02 - INFO - Training   - accuracy: 0.9492 - auc: 0.9065 - f1_score: 0.5986 - loss: 0.1719 - precision: 0.8035 - recall: 0.5382 - learning_rate: 0.0000\n",
      "2025-04-20 11:07:02 - INFO - Validation - accuracy: 0.9234 - auc: 0.7328 - f1_score: 0.3981 - loss: 0.2806 - precision: 0.5755 - recall: 0.3848\n",
      "2025-04-20 11:07:02 - INFO - ==================================================\n",
      "\n"
     ]
    },
    {
     "name": "stdout",
     "output_type": "stream",
     "text": [
      "\u001b[1m561/561\u001b[0m \u001b[32m━━━━━━━━━━━━━━━━━━━━\u001b[0m\u001b[37m\u001b[0m \u001b[1m188s\u001b[0m 336ms/step - accuracy: 0.9484 - auc: 0.9039 - f1_score: 0.5925 - loss: 0.1731 - precision: 0.7986 - recall: 0.5330 - val_accuracy: 0.9234 - val_auc: 0.7328 - val_f1_score: 0.3981 - val_loss: 0.2806 - val_precision: 0.5755 - val_recall: 0.3848 - learning_rate: 1.5625e-06\n"
     ]
    },
    {
     "name": "stderr",
     "output_type": "stream",
     "text": [
      "2025-04-20 11:07:02 - INFO - \n",
      "=== Starting Epoch 44 ===\n",
      "\n"
     ]
    },
    {
     "name": "stdout",
     "output_type": "stream",
     "text": [
      "Epoch 44/100\n",
      "\u001b[1m 11/561\u001b[0m \u001b[37m━━━━━━━━━━━━━━━━━━━━\u001b[0m \u001b[1m2:11\u001b[0m 239ms/step - accuracy: 0.9468 - auc: 0.9086 - f1_score: 0.5835 - loss: 0.1758 - precision: 0.7889 - recall: 0.5301"
     ]
    },
    {
     "name": "stderr",
     "output_type": "stream",
     "text": [
      "2025-04-20 11:07:05.194589: I tensorflow/core/kernels/data/shuffle_dataset_op.cc:482] Shuffle buffer filled.\n"
     ]
    },
    {
     "name": "stdout",
     "output_type": "stream",
     "text": [
      "\u001b[1m 13/561\u001b[0m \u001b[37m━━━━━━━━━━━━━━━━━━━━\u001b[0m \u001b[1m2:11\u001b[0m 240ms/step - accuracy: 0.9468 - auc: 0.9084 - f1_score: 0.5841 - loss: 0.1755 - precision: 0.7877 - recall: 0.5307"
     ]
    },
    {
     "name": "stderr",
     "output_type": "stream",
     "text": [
      "2025-04-20 11:07:05.489854: W tensorflow/core/kernels/data/prefetch_autotuner.cc:52] Prefetch autotuner tried to allocate 134225408 bytes after encountering the first element of size 134225408 bytes.This already causes the autotune ram budget to be exceeded. To stay within the ram budget, either increase the ram budget or reduce element size\n"
     ]
    },
    {
     "name": "stdout",
     "output_type": "stream",
     "text": [
      "\u001b[1m354/561\u001b[0m \u001b[32m━━━━━━━━━━━━\u001b[0m\u001b[37m━━━━━━━━\u001b[0m \u001b[1m1:01\u001b[0m 296ms/step - accuracy: 0.9488 - auc: 0.9036 - f1_score: 0.5979 - loss: 0.1723 - precision: 0.8001 - recall: 0.5385"
     ]
    },
    {
     "name": "stderr",
     "output_type": "stream",
     "text": [
      "2025-04-20 11:08:47.430689: W tensorflow/core/lib/png/png_io.cc:92] PNG warning: iCCP: profile 'ICC Profile': 'GRAY': Gray color space not permitted on RGB PNG\n"
     ]
    },
    {
     "name": "stdout",
     "output_type": "stream",
     "text": [
      "\u001b[1m561/561\u001b[0m \u001b[32m━━━━━━━━━━━━━━━━━━━━\u001b[0m\u001b[37m\u001b[0m \u001b[1m0s\u001b[0m 289ms/step - accuracy: 0.9490 - auc: 0.9044 - f1_score: 0.5995 - loss: 0.1719 - precision: 0.8016 - recall: 0.5396  "
     ]
    },
    {
     "name": "stderr",
     "output_type": "stream",
     "text": [
      "2025-04-20 11:09:44.756639: W tensorflow/core/kernels/data/prefetch_autotuner.cc:52] Prefetch autotuner tried to allocate 77078016 bytes after encountering the first element of size 77078016 bytes.This already causes the autotune ram budget to be exceeded. To stay within the ram budget, either increase the ram budget or reduce element size\n",
      "2025-04-20 11:09:44.756768: W tensorflow/core/kernels/data/prefetch_autotuner.cc:52] Prefetch autotuner tried to allocate 77078016 bytes after encountering the first element of size 77078016 bytes.This already causes the autotune ram budget to be exceeded. To stay within the ram budget, either increase the ram budget or reduce element size\n",
      "2025-04-20 11:09:49.673033: I tensorflow/core/kernels/data/shuffle_dataset_op.cc:452] ShuffleDatasetV3:10: Filling up shuffle buffer (this may take a while): 8439 of 25000\n",
      "2025-04-20 11:09:59.674271: I tensorflow/core/kernels/data/shuffle_dataset_op.cc:452] ShuffleDatasetV3:10: Filling up shuffle buffer (this may take a while): 14172 of 25000\n",
      "2025-04-20 11:10:13 - INFO - \n",
      "=== Epoch 44 Summary ===\n",
      "2025-04-20 11:10:13 - INFO - Time: 191.01s\n",
      "2025-04-20 11:10:13 - INFO - Training   - accuracy: 0.9494 - auc: 0.9076 - f1_score: 0.6024 - loss: 0.1709 - precision: 0.8040 - recall: 0.5420 - learning_rate: 0.0000\n",
      "2025-04-20 11:10:13 - INFO - Validation - accuracy: 0.9213 - auc: 0.7424 - f1_score: 0.4083 - loss: 0.2718 - precision: 0.5568 - recall: 0.3701\n",
      "2025-04-20 11:10:13 - INFO - ==================================================\n",
      "\n"
     ]
    },
    {
     "name": "stdout",
     "output_type": "stream",
     "text": [
      "\u001b[1m561/561\u001b[0m \u001b[32m━━━━━━━━━━━━━━━━━━━━\u001b[0m\u001b[37m\u001b[0m \u001b[1m191s\u001b[0m 341ms/step - accuracy: 0.9490 - auc: 0.9044 - f1_score: 0.5995 - loss: 0.1719 - precision: 0.8016 - recall: 0.5397 - val_accuracy: 0.9213 - val_auc: 0.7424 - val_f1_score: 0.4083 - val_loss: 0.2718 - val_precision: 0.5568 - val_recall: 0.3701 - learning_rate: 1.0000e-06\n"
     ]
    },
    {
     "name": "stderr",
     "output_type": "stream",
     "text": [
      "2025-04-20 11:10:13 - INFO - \n",
      "=== Starting Epoch 45 ===\n",
      "\n"
     ]
    },
    {
     "name": "stdout",
     "output_type": "stream",
     "text": [
      "Epoch 45/100\n",
      "\u001b[1m  7/561\u001b[0m \u001b[37m━━━━━━━━━━━━━━━━━━━━\u001b[0m \u001b[1m2:13\u001b[0m 240ms/step - accuracy: 0.9488 - auc: 0.8901 - f1_score: 0.6012 - loss: 0.1719 - precision: 0.8096 - recall: 0.5390"
     ]
    },
    {
     "name": "stderr",
     "output_type": "stream",
     "text": [
      "2025-04-20 11:10:15.379245: I tensorflow/core/kernels/data/shuffle_dataset_op.cc:482] Shuffle buffer filled.\n"
     ]
    },
    {
     "name": "stdout",
     "output_type": "stream",
     "text": [
      "\u001b[1m  9/561\u001b[0m \u001b[37m━━━━━━━━━━━━━━━━━━━━\u001b[0m \u001b[1m2:13\u001b[0m 242ms/step - accuracy: 0.9492 - auc: 0.8944 - f1_score: 0.6030 - loss: 0.1710 - precision: 0.8103 - recall: 0.5401"
     ]
    },
    {
     "name": "stderr",
     "output_type": "stream",
     "text": [
      "2025-04-20 11:10:15.703830: W tensorflow/core/kernels/data/prefetch_autotuner.cc:52] Prefetch autotuner tried to allocate 77078016 bytes after encountering the first element of size 77078016 bytes.This already causes the autotune ram budget to be exceeded. To stay within the ram budget, either increase the ram budget or reduce element size\n"
     ]
    },
    {
     "name": "stdout",
     "output_type": "stream",
     "text": [
      "\u001b[1m355/561\u001b[0m \u001b[32m━━━━━━━━━━━━\u001b[0m\u001b[37m━━━━━━━━\u001b[0m \u001b[1m55s\u001b[0m 271ms/step - accuracy: 0.9500 - auc: 0.9086 - f1_score: 0.6053 - loss: 0.1701 - precision: 0.8084 - recall: 0.5450 "
     ]
    },
    {
     "name": "stderr",
     "output_type": "stream",
     "text": [
      "2025-04-20 11:11:49.846743: W tensorflow/core/lib/png/png_io.cc:92] PNG warning: iCCP: profile 'ICC Profile': 'GRAY': Gray color space not permitted on RGB PNG\n"
     ]
    },
    {
     "name": "stdout",
     "output_type": "stream",
     "text": [
      "\u001b[1m561/561\u001b[0m \u001b[32m━━━━━━━━━━━━━━━━━━━━\u001b[0m\u001b[37m\u001b[0m \u001b[1m0s\u001b[0m 275ms/step - accuracy: 0.9499 - auc: 0.9085 - f1_score: 0.6049 - loss: 0.1703 - precision: 0.8078 - recall: 0.5445 "
     ]
    },
    {
     "name": "stderr",
     "output_type": "stream",
     "text": [
      "2025-04-20 11:12:48.440672: W tensorflow/core/kernels/data/prefetch_autotuner.cc:52] Prefetch autotuner tried to allocate 134225408 bytes after encountering the first element of size 134225408 bytes.This already causes the autotune ram budget to be exceeded. To stay within the ram budget, either increase the ram budget or reduce element size\n",
      "2025-04-20 11:12:53.610594: I tensorflow/core/kernels/data/shuffle_dataset_op.cc:452] ShuffleDatasetV3:10: Filling up shuffle buffer (this may take a while): 8262 of 25000\n",
      "2025-04-20 11:13:03.611016: I tensorflow/core/kernels/data/shuffle_dataset_op.cc:452] ShuffleDatasetV3:10: Filling up shuffle buffer (this may take a while): 13961 of 25000\n",
      "2025-04-20 11:13:13.613683: I tensorflow/core/kernels/data/shuffle_dataset_op.cc:452] ShuffleDatasetV3:10: Filling up shuffle buffer (this may take a while): 19693 of 25000\n",
      "2025-04-20 11:13:16 - INFO - \n",
      "=== Epoch 45 Summary ===\n",
      "2025-04-20 11:13:16 - INFO - Time: 182.31s\n",
      "2025-04-20 11:13:16 - INFO - Training   - accuracy: 0.9499 - auc: 0.9076 - f1_score: 0.6052 - loss: 0.1700 - precision: 0.8077 - recall: 0.5443 - learning_rate: 0.0000\n",
      "2025-04-20 11:13:16 - INFO - Validation - accuracy: 0.9206 - auc: 0.7434 - f1_score: 0.4009 - loss: 0.2737 - precision: 0.5516 - recall: 0.3639\n",
      "2025-04-20 11:13:16 - INFO - ==================================================\n",
      "\n"
     ]
    },
    {
     "name": "stdout",
     "output_type": "stream",
     "text": [
      "\u001b[1m561/561\u001b[0m \u001b[32m━━━━━━━━━━━━━━━━━━━━\u001b[0m\u001b[37m\u001b[0m \u001b[1m182s\u001b[0m 325ms/step - accuracy: 0.9499 - auc: 0.9085 - f1_score: 0.6049 - loss: 0.1703 - precision: 0.8078 - recall: 0.5445 - val_accuracy: 0.9206 - val_auc: 0.7434 - val_f1_score: 0.4009 - val_loss: 0.2737 - val_precision: 0.5516 - val_recall: 0.3639 - learning_rate: 1.0000e-06\n"
     ]
    },
    {
     "name": "stderr",
     "output_type": "stream",
     "text": [
      "2025-04-20 11:13:16 - INFO - \n",
      "=== Starting Epoch 46 ===\n",
      "\n"
     ]
    },
    {
     "name": "stdout",
     "output_type": "stream",
     "text": [
      "Epoch 46/100\n",
      "\u001b[1m 13/561\u001b[0m \u001b[37m━━━━━━━━━━━━━━━━━━━━\u001b[0m \u001b[1m2:11\u001b[0m 240ms/step - accuracy: 0.9528 - auc: 0.8783 - f1_score: 0.6327 - loss: 0.1603 - precision: 0.8185 - recall: 0.5699"
     ]
    },
    {
     "name": "stderr",
     "output_type": "stream",
     "text": [
      "2025-04-20 11:13:19.163907: I tensorflow/core/kernels/data/shuffle_dataset_op.cc:482] Shuffle buffer filled.\n"
     ]
    },
    {
     "name": "stdout",
     "output_type": "stream",
     "text": [
      "\u001b[1m 16/561\u001b[0m \u001b[37m━━━━━━━━━━━━━━━━━━━━\u001b[0m \u001b[1m2:10\u001b[0m 240ms/step - accuracy: 0.9525 - auc: 0.8876 - f1_score: 0.6297 - loss: 0.1609 - precision: 0.8168 - recall: 0.5670"
     ]
    },
    {
     "name": "stderr",
     "output_type": "stream",
     "text": [
      "2025-04-20 11:13:19.678147: W tensorflow/core/kernels/data/prefetch_autotuner.cc:52] Prefetch autotuner tried to allocate 134225408 bytes after encountering the first element of size 134225408 bytes.This already causes the autotune ram budget to be exceeded. To stay within the ram budget, either increase the ram budget or reduce element size\n"
     ]
    },
    {
     "name": "stdout",
     "output_type": "stream",
     "text": [
      "\u001b[1m356/561\u001b[0m \u001b[32m━━━━━━━━━━━━\u001b[0m\u001b[37m━━━━━━━━\u001b[0m \u001b[1m1:06\u001b[0m 324ms/step - accuracy: 0.9498 - auc: 0.9116 - f1_score: 0.6057 - loss: 0.1689 - precision: 0.8041 - recall: 0.5461"
     ]
    },
    {
     "name": "stderr",
     "output_type": "stream",
     "text": [
      "2025-04-20 11:15:11.325301: W tensorflow/core/lib/png/png_io.cc:92] PNG warning: iCCP: profile 'ICC Profile': 'GRAY': Gray color space not permitted on RGB PNG\n"
     ]
    },
    {
     "name": "stdout",
     "output_type": "stream",
     "text": [
      "\u001b[1m561/561\u001b[0m \u001b[32m━━━━━━━━━━━━━━━━━━━━\u001b[0m\u001b[37m\u001b[0m \u001b[1m0s\u001b[0m 307ms/step - accuracy: 0.9499 - auc: 0.9113 - f1_score: 0.6060 - loss: 0.1690 - precision: 0.8046 - recall: 0.5460  "
     ]
    },
    {
     "name": "stderr",
     "output_type": "stream",
     "text": [
      "2025-04-20 11:16:08.293833: W tensorflow/core/kernels/data/prefetch_autotuner.cc:52] Prefetch autotuner tried to allocate 77078016 bytes after encountering the first element of size 77078016 bytes.This already causes the autotune ram budget to be exceeded. To stay within the ram budget, either increase the ram budget or reduce element size\n",
      "2025-04-20 11:16:13.711052: I tensorflow/core/kernels/data/shuffle_dataset_op.cc:452] ShuffleDatasetV3:10: Filling up shuffle buffer (this may take a while): 8154 of 25000\n",
      "2025-04-20 11:16:23.715507: I tensorflow/core/kernels/data/shuffle_dataset_op.cc:452] ShuffleDatasetV3:10: Filling up shuffle buffer (this may take a while): 13875 of 25000\n",
      "2025-04-20 11:16:36 - INFO - \n",
      "=== Epoch 46 Summary ===\n",
      "2025-04-20 11:16:36 - INFO - Time: 200.17s\n",
      "2025-04-20 11:16:36 - INFO - Training   - accuracy: 0.9499 - auc: 0.9114 - f1_score: 0.6071 - loss: 0.1691 - precision: 0.8058 - recall: 0.5464 - learning_rate: 0.0000\n",
      "2025-04-20 11:16:36 - INFO - Validation - accuracy: 0.9227 - auc: 0.7403 - f1_score: 0.4044 - loss: 0.2750 - precision: 0.5703 - recall: 0.3768\n",
      "2025-04-20 11:16:36 - INFO - ==================================================\n",
      "\n"
     ]
    },
    {
     "name": "stdout",
     "output_type": "stream",
     "text": [
      "\u001b[1m561/561\u001b[0m \u001b[32m━━━━━━━━━━━━━━━━━━━━\u001b[0m\u001b[37m\u001b[0m \u001b[1m200s\u001b[0m 357ms/step - accuracy: 0.9499 - auc: 0.9113 - f1_score: 0.6060 - loss: 0.1690 - precision: 0.8047 - recall: 0.5460 - val_accuracy: 0.9227 - val_auc: 0.7403 - val_f1_score: 0.4044 - val_loss: 0.2750 - val_precision: 0.5703 - val_recall: 0.3768 - learning_rate: 1.0000e-06\n"
     ]
    },
    {
     "name": "stderr",
     "output_type": "stream",
     "text": [
      "2025-04-20 11:16:36 - INFO - \n",
      "=== Starting Epoch 47 ===\n",
      "\n"
     ]
    },
    {
     "name": "stdout",
     "output_type": "stream",
     "text": [
      "Epoch 47/100\n",
      "\u001b[1m 13/561\u001b[0m \u001b[37m━━━━━━━━━━━━━━━━━━━━\u001b[0m \u001b[1m2:11\u001b[0m 240ms/step - accuracy: 0.9528 - auc: 0.8906 - f1_score: 0.6416 - loss: 0.1671 - precision: 0.8302 - recall: 0.5714"
     ]
    },
    {
     "name": "stderr",
     "output_type": "stream",
     "text": [
      "2025-04-20 11:16:39.167357: I tensorflow/core/kernels/data/shuffle_dataset_op.cc:482] Shuffle buffer filled.\n"
     ]
    },
    {
     "name": "stdout",
     "output_type": "stream",
     "text": [
      "\u001b[1m 15/561\u001b[0m \u001b[37m━━━━━━━━━━━━━━━━━━━━\u001b[0m \u001b[1m2:11\u001b[0m 240ms/step - accuracy: 0.9527 - auc: 0.8940 - f1_score: 0.6400 - loss: 0.1672 - precision: 0.8293 - recall: 0.5706"
     ]
    },
    {
     "name": "stderr",
     "output_type": "stream",
     "text": [
      "2025-04-20 11:16:39.801206: W tensorflow/core/kernels/data/prefetch_autotuner.cc:52] Prefetch autotuner tried to allocate 77078016 bytes after encountering the first element of size 77078016 bytes.This already causes the autotune ram budget to be exceeded. To stay within the ram budget, either increase the ram budget or reduce element size\n"
     ]
    },
    {
     "name": "stdout",
     "output_type": "stream",
     "text": [
      "\u001b[1m357/561\u001b[0m \u001b[32m━━━━━━━━━━━━\u001b[0m\u001b[37m━━━━━━━━\u001b[0m \u001b[1m1:11\u001b[0m 349ms/step - accuracy: 0.9503 - auc: 0.9086 - f1_score: 0.6120 - loss: 0.1701 - precision: 0.8110 - recall: 0.5504"
     ]
    },
    {
     "name": "stderr",
     "output_type": "stream",
     "text": [
      "2025-04-20 11:18:40.664593: W tensorflow/core/lib/png/png_io.cc:92] PNG warning: iCCP: profile 'ICC Profile': 'GRAY': Gray color space not permitted on RGB PNG\n"
     ]
    },
    {
     "name": "stdout",
     "output_type": "stream",
     "text": [
      "\u001b[1m561/561\u001b[0m \u001b[32m━━━━━━━━━━━━━━━━━━━━\u001b[0m\u001b[37m\u001b[0m \u001b[1m0s\u001b[0m 325ms/step - accuracy: 0.9502 - auc: 0.9088 - f1_score: 0.6112 - loss: 0.1699 - precision: 0.8104 - recall: 0.5496  "
     ]
    },
    {
     "name": "stderr",
     "output_type": "stream",
     "text": [
      "2025-04-20 11:19:38.889434: W tensorflow/core/kernels/data/prefetch_autotuner.cc:52] Prefetch autotuner tried to allocate 134225408 bytes after encountering the first element of size 134225408 bytes.This already causes the autotune ram budget to be exceeded. To stay within the ram budget, either increase the ram budget or reduce element size\n",
      "2025-04-20 11:19:44.548661: I tensorflow/core/kernels/data/shuffle_dataset_op.cc:452] ShuffleDatasetV3:10: Filling up shuffle buffer (this may take a while): 8002 of 25000\n",
      "2025-04-20 11:19:54.549838: I tensorflow/core/kernels/data/shuffle_dataset_op.cc:452] ShuffleDatasetV3:10: Filling up shuffle buffer (this may take a while): 13703 of 25000\n",
      "2025-04-20 11:20:06 - INFO - \n",
      "=== Epoch 47 Summary ===\n",
      "2025-04-20 11:20:06 - INFO - Time: 210.22s\n",
      "2025-04-20 11:20:06 - INFO - Training   - accuracy: 0.9504 - auc: 0.9086 - f1_score: 0.6110 - loss: 0.1690 - precision: 0.8096 - recall: 0.5493 - learning_rate: 0.0000\n",
      "2025-04-20 11:20:06 - INFO - Validation - accuracy: 0.9220 - auc: 0.7410 - f1_score: 0.4024 - loss: 0.2744 - precision: 0.5648 - recall: 0.3679\n",
      "2025-04-20 11:20:06 - INFO - ==================================================\n",
      "\n"
     ]
    },
    {
     "name": "stdout",
     "output_type": "stream",
     "text": [
      "\u001b[1m561/561\u001b[0m \u001b[32m━━━━━━━━━━━━━━━━━━━━\u001b[0m\u001b[37m\u001b[0m \u001b[1m210s\u001b[0m 375ms/step - accuracy: 0.9502 - auc: 0.9088 - f1_score: 0.6112 - loss: 0.1699 - precision: 0.8104 - recall: 0.5496 - val_accuracy: 0.9220 - val_auc: 0.7410 - val_f1_score: 0.4024 - val_loss: 0.2744 - val_precision: 0.5648 - val_recall: 0.3679 - learning_rate: 1.0000e-06\n"
     ]
    },
    {
     "name": "stderr",
     "output_type": "stream",
     "text": [
      "2025-04-20 11:20:06 - INFO - \n",
      "=== Starting Epoch 48 ===\n",
      "\n"
     ]
    },
    {
     "name": "stdout",
     "output_type": "stream",
     "text": [
      "Epoch 48/100\n",
      "\u001b[1m 15/561\u001b[0m \u001b[37m━━━━━━━━━━━━━━━━━━━━\u001b[0m \u001b[1m2:11\u001b[0m 240ms/step - accuracy: 0.9516 - auc: 0.8727 - f1_score: 0.6201 - loss: 0.1653 - precision: 0.8090 - recall: 0.5612"
     ]
    },
    {
     "name": "stderr",
     "output_type": "stream",
     "text": [
      "2025-04-20 11:20:10.017758: I tensorflow/core/kernels/data/shuffle_dataset_op.cc:482] Shuffle buffer filled.\n"
     ]
    },
    {
     "name": "stdout",
     "output_type": "stream",
     "text": [
      "\u001b[1m 16/561\u001b[0m \u001b[37m━━━━━━━━━━━━━━━━━━━━\u001b[0m \u001b[1m2:11\u001b[0m 241ms/step - accuracy: 0.9517 - auc: 0.8750 - f1_score: 0.6202 - loss: 0.1653 - precision: 0.8092 - recall: 0.5614"
     ]
    },
    {
     "name": "stderr",
     "output_type": "stream",
     "text": [
      "2025-04-20 11:20:10.310170: W tensorflow/core/kernels/data/prefetch_autotuner.cc:52] Prefetch autotuner tried to allocate 134225408 bytes after encountering the first element of size 134225408 bytes.This already causes the autotune ram budget to be exceeded. To stay within the ram budget, either increase the ram budget or reduce element size\n"
     ]
    },
    {
     "name": "stdout",
     "output_type": "stream",
     "text": [
      "\u001b[1m358/561\u001b[0m \u001b[32m━━━━━━━━━━━━\u001b[0m\u001b[37m━━━━━━━━\u001b[0m \u001b[1m1:00\u001b[0m 298ms/step - accuracy: 0.9507 - auc: 0.9079 - f1_score: 0.6138 - loss: 0.1688 - precision: 0.8119 - recall: 0.5535"
     ]
    },
    {
     "name": "stderr",
     "output_type": "stream",
     "text": [
      "2025-04-20 11:21:53.143785: W tensorflow/core/lib/png/png_io.cc:92] PNG warning: iCCP: profile 'ICC Profile': 'GRAY': Gray color space not permitted on RGB PNG\n"
     ]
    },
    {
     "name": "stdout",
     "output_type": "stream",
     "text": [
      "\u001b[1m561/561\u001b[0m \u001b[32m━━━━━━━━━━━━━━━━━━━━\u001b[0m\u001b[37m\u001b[0m \u001b[1m0s\u001b[0m 291ms/step - accuracy: 0.9506 - auc: 0.9086 - f1_score: 0.6136 - loss: 0.1687 - precision: 0.8111 - recall: 0.5531  "
     ]
    },
    {
     "name": "stderr",
     "output_type": "stream",
     "text": [
      "2025-04-20 11:22:55.699818: I tensorflow/core/kernels/data/shuffle_dataset_op.cc:452] ShuffleDatasetV3:10: Filling up shuffle buffer (this may take a while): 8944 of 25000\n",
      "2025-04-20 11:23:05.704891: I tensorflow/core/kernels/data/shuffle_dataset_op.cc:452] ShuffleDatasetV3:10: Filling up shuffle buffer (this may take a while): 16781 of 25000\n",
      "2025-04-20 11:23:16.295324: I tensorflow/core/kernels/data/shuffle_dataset_op.cc:482] Shuffle buffer filled.\n",
      "2025-04-20 11:23:16.457923: W tensorflow/core/kernels/data/prefetch_autotuner.cc:52] Prefetch autotuner tried to allocate 77078016 bytes after encountering the first element of size 77078016 bytes.This already causes the autotune ram budget to be exceeded. To stay within the ram budget, either increase the ram budget or reduce element size\n",
      "2025-04-20 11:23:31 - INFO - \n",
      "=== Epoch 48 Summary ===\n",
      "2025-04-20 11:23:31 - INFO - Time: 205.45s\n",
      "2025-04-20 11:23:31 - INFO - Training   - accuracy: 0.9507 - auc: 0.9099 - f1_score: 0.6141 - loss: 0.1683 - precision: 0.8105 - recall: 0.5534 - learning_rate: 0.0000\n",
      "2025-04-20 11:23:31 - INFO - Validation - accuracy: 0.9221 - auc: 0.7349 - f1_score: 0.4049 - loss: 0.2821 - precision: 0.5637 - recall: 0.3782\n",
      "2025-04-20 11:23:31 - INFO - ==================================================\n",
      "\n"
     ]
    },
    {
     "name": "stdout",
     "output_type": "stream",
     "text": [
      "\u001b[1m561/561\u001b[0m \u001b[32m━━━━━━━━━━━━━━━━━━━━\u001b[0m\u001b[37m\u001b[0m \u001b[1m205s\u001b[0m 366ms/step - accuracy: 0.9506 - auc: 0.9086 - f1_score: 0.6136 - loss: 0.1687 - precision: 0.8111 - recall: 0.5531 - val_accuracy: 0.9221 - val_auc: 0.7349 - val_f1_score: 0.4049 - val_loss: 0.2821 - val_precision: 0.5637 - val_recall: 0.3782 - learning_rate: 1.0000e-06\n"
     ]
    },
    {
     "name": "stderr",
     "output_type": "stream",
     "text": [
      "2025-04-20 11:23:31 - INFO - \n",
      "=== Starting Epoch 49 ===\n",
      "\n"
     ]
    },
    {
     "name": "stdout",
     "output_type": "stream",
     "text": [
      "Epoch 49/100\n",
      "\u001b[1m359/561\u001b[0m \u001b[32m━━━━━━━━━━━━\u001b[0m\u001b[37m━━━━━━━━\u001b[0m \u001b[1m1:00\u001b[0m 299ms/step - accuracy: 0.9504 - auc: 0.9100 - f1_score: 0.6145 - loss: 0.1685 - precision: 0.8082 - recall: 0.5541"
     ]
    },
    {
     "name": "stderr",
     "output_type": "stream",
     "text": [
      "2025-04-20 11:25:19.165156: W tensorflow/core/lib/png/png_io.cc:92] PNG warning: iCCP: profile 'ICC Profile': 'GRAY': Gray color space not permitted on RGB PNG\n"
     ]
    },
    {
     "name": "stdout",
     "output_type": "stream",
     "text": [
      "\u001b[1m561/561\u001b[0m \u001b[32m━━━━━━━━━━━━━━━━━━━━\u001b[0m\u001b[37m\u001b[0m \u001b[1m0s\u001b[0m 293ms/step - accuracy: 0.9505 - auc: 0.9098 - f1_score: 0.6149 - loss: 0.1683 - precision: 0.8090 - recall: 0.5544  "
     ]
    },
    {
     "name": "stderr",
     "output_type": "stream",
     "text": [
      "2025-04-20 11:26:16.544343: W tensorflow/core/kernels/data/prefetch_autotuner.cc:52] Prefetch autotuner tried to allocate 77078016 bytes after encountering the first element of size 77078016 bytes.This already causes the autotune ram budget to be exceeded. To stay within the ram budget, either increase the ram budget or reduce element size\n",
      "2025-04-20 11:26:22.673214: I tensorflow/core/kernels/data/shuffle_dataset_op.cc:452] ShuffleDatasetV3:10: Filling up shuffle buffer (this may take a while): 7716 of 25000\n",
      "2025-04-20 11:26:32.673512: I tensorflow/core/kernels/data/shuffle_dataset_op.cc:452] ShuffleDatasetV3:10: Filling up shuffle buffer (this may take a while): 13438 of 25000\n",
      "2025-04-20 11:26:44 - INFO - \n",
      "=== Epoch 49 Summary ===\n",
      "2025-04-20 11:26:44 - INFO - Time: 192.18s\n",
      "2025-04-20 11:26:44 - INFO - Training   - accuracy: 0.9509 - auc: 0.9106 - f1_score: 0.6165 - loss: 0.1675 - precision: 0.8110 - recall: 0.5560 - learning_rate: 0.0000\n",
      "2025-04-20 11:26:44 - INFO - Validation - accuracy: 0.9215 - auc: 0.7362 - f1_score: 0.4064 - loss: 0.2793 - precision: 0.5585 - recall: 0.3756\n",
      "2025-04-20 11:26:44 - INFO - ==================================================\n",
      "\n"
     ]
    },
    {
     "name": "stdout",
     "output_type": "stream",
     "text": [
      "\u001b[1m561/561\u001b[0m \u001b[32m━━━━━━━━━━━━━━━━━━━━\u001b[0m\u001b[37m\u001b[0m \u001b[1m192s\u001b[0m 343ms/step - accuracy: 0.9505 - auc: 0.9098 - f1_score: 0.6149 - loss: 0.1683 - precision: 0.8090 - recall: 0.5544 - val_accuracy: 0.9215 - val_auc: 0.7362 - val_f1_score: 0.4064 - val_loss: 0.2793 - val_precision: 0.5585 - val_recall: 0.3756 - learning_rate: 1.0000e-06\n"
     ]
    },
    {
     "name": "stderr",
     "output_type": "stream",
     "text": [
      "2025-04-20 11:26:44 - INFO - \n",
      "=== Starting Epoch 50 ===\n",
      "\n"
     ]
    },
    {
     "name": "stdout",
     "output_type": "stream",
     "text": [
      "Epoch 50/100\n",
      "\u001b[1m 17/561\u001b[0m \u001b[37m━━━━━━━━━━━━━━━━━━━━\u001b[0m \u001b[1m2:10\u001b[0m 239ms/step - accuracy: 0.9494 - auc: 0.8932 - f1_score: 0.5998 - loss: 0.1722 - precision: 0.7923 - recall: 0.5443"
     ]
    },
    {
     "name": "stderr",
     "output_type": "stream",
     "text": [
      "2025-04-20 11:26:48.104602: I tensorflow/core/kernels/data/shuffle_dataset_op.cc:482] Shuffle buffer filled.\n"
     ]
    },
    {
     "name": "stdout",
     "output_type": "stream",
     "text": [
      "\u001b[1m 18/561\u001b[0m \u001b[37m━━━━━━━━━━━━━━━━━━━━\u001b[0m \u001b[1m2:10\u001b[0m 240ms/step - accuracy: 0.9495 - auc: 0.8944 - f1_score: 0.6003 - loss: 0.1720 - precision: 0.7931 - recall: 0.5444"
     ]
    },
    {
     "name": "stderr",
     "output_type": "stream",
     "text": [
      "2025-04-20 11:26:48.412486: W tensorflow/core/kernels/data/prefetch_autotuner.cc:52] Prefetch autotuner tried to allocate 77078016 bytes after encountering the first element of size 77078016 bytes.This already causes the autotune ram budget to be exceeded. To stay within the ram budget, either increase the ram budget or reduce element size\n"
     ]
    },
    {
     "name": "stdout",
     "output_type": "stream",
     "text": [
      "\u001b[1m360/561\u001b[0m \u001b[32m━━━━━━━━━━━━\u001b[0m\u001b[37m━━━━━━━━\u001b[0m \u001b[1m58s\u001b[0m 291ms/step - accuracy: 0.9500 - auc: 0.9095 - f1_score: 0.6088 - loss: 0.1702 - precision: 0.8083 - recall: 0.5469 "
     ]
    },
    {
     "name": "stderr",
     "output_type": "stream",
     "text": [
      "2025-04-20 11:28:28.887909: W tensorflow/core/lib/png/png_io.cc:92] PNG warning: iCCP: profile 'ICC Profile': 'GRAY': Gray color space not permitted on RGB PNG\n"
     ]
    },
    {
     "name": "stdout",
     "output_type": "stream",
     "text": [
      "\u001b[1m561/561\u001b[0m \u001b[32m━━━━━━━━━━━━━━━━━━━━\u001b[0m\u001b[37m\u001b[0m \u001b[1m0s\u001b[0m 286ms/step - accuracy: 0.9502 - auc: 0.9100 - f1_score: 0.6108 - loss: 0.1696 - precision: 0.8093 - recall: 0.5491 "
     ]
    },
    {
     "name": "stderr",
     "output_type": "stream",
     "text": [
      "2025-04-20 11:29:24.918535: W tensorflow/core/kernels/data/prefetch_autotuner.cc:52] Prefetch autotuner tried to allocate 134225408 bytes after encountering the first element of size 134225408 bytes.This already causes the autotune ram budget to be exceeded. To stay within the ram budget, either increase the ram budget or reduce element size\n",
      "2025-04-20 11:29:31.292103: I tensorflow/core/kernels/data/shuffle_dataset_op.cc:452] ShuffleDatasetV3:10: Filling up shuffle buffer (this may take a while): 7556 of 25000\n",
      "2025-04-20 11:29:41.295028: I tensorflow/core/kernels/data/shuffle_dataset_op.cc:452] ShuffleDatasetV3:10: Filling up shuffle buffer (this may take a while): 13263 of 25000\n",
      "2025-04-20 11:29:53 - INFO - \n",
      "=== Epoch 50 Summary ===\n",
      "2025-04-20 11:29:53 - INFO - Time: 189.79s\n",
      "2025-04-20 11:29:53 - INFO - Training   - accuracy: 0.9509 - auc: 0.9112 - f1_score: 0.6163 - loss: 0.1678 - precision: 0.8119 - recall: 0.5552 - learning_rate: 0.0000\n",
      "2025-04-20 11:29:53 - INFO - Validation - accuracy: 0.9209 - auc: 0.7396 - f1_score: 0.4089 - loss: 0.2786 - precision: 0.5523 - recall: 0.3764\n",
      "2025-04-20 11:29:53 - INFO - ==================================================\n",
      "\n"
     ]
    },
    {
     "name": "stdout",
     "output_type": "stream",
     "text": [
      "\u001b[1m561/561\u001b[0m \u001b[32m━━━━━━━━━━━━━━━━━━━━\u001b[0m\u001b[37m\u001b[0m \u001b[1m190s\u001b[0m 339ms/step - accuracy: 0.9502 - auc: 0.9100 - f1_score: 0.6108 - loss: 0.1696 - precision: 0.8093 - recall: 0.5491 - val_accuracy: 0.9209 - val_auc: 0.7396 - val_f1_score: 0.4089 - val_loss: 0.2786 - val_precision: 0.5523 - val_recall: 0.3764 - learning_rate: 1.0000e-06\n"
     ]
    },
    {
     "name": "stderr",
     "output_type": "stream",
     "text": [
      "2025-04-20 11:29:53 - INFO - \n",
      "=== Starting Epoch 51 ===\n",
      "\n"
     ]
    },
    {
     "name": "stdout",
     "output_type": "stream",
     "text": [
      "Epoch 51/100\n",
      "\u001b[1m 13/561\u001b[0m \u001b[37m━━━━━━━━━━━━━━━━━━━━\u001b[0m \u001b[1m2:11\u001b[0m 239ms/step - accuracy: 0.9524 - auc: 0.8823 - f1_score: 0.6204 - loss: 0.1629 - precision: 0.8152 - recall: 0.5592"
     ]
    },
    {
     "name": "stderr",
     "output_type": "stream",
     "text": [
      "2025-04-20 11:29:57.067927: I tensorflow/core/kernels/data/shuffle_dataset_op.cc:482] Shuffle buffer filled.\n"
     ]
    },
    {
     "name": "stdout",
     "output_type": "stream",
     "text": [
      "\u001b[1m 15/561\u001b[0m \u001b[37m━━━━━━━━━━━━━━━━━━━━\u001b[0m \u001b[1m2:11\u001b[0m 240ms/step - accuracy: 0.9521 - auc: 0.8852 - f1_score: 0.6184 - loss: 0.1635 - precision: 0.8127 - recall: 0.5581"
     ]
    },
    {
     "name": "stderr",
     "output_type": "stream",
     "text": [
      "2025-04-20 11:29:57.349748: W tensorflow/core/kernels/data/prefetch_autotuner.cc:52] Prefetch autotuner tried to allocate 134225408 bytes after encountering the first element of size 134225408 bytes.This already causes the autotune ram budget to be exceeded. To stay within the ram budget, either increase the ram budget or reduce element size\n"
     ]
    },
    {
     "name": "stdout",
     "output_type": "stream",
     "text": [
      "\u001b[1m361/561\u001b[0m \u001b[32m━━━━━━━━━━━━\u001b[0m\u001b[37m━━━━━━━━\u001b[0m \u001b[1m57s\u001b[0m 289ms/step - accuracy: 0.9512 - auc: 0.9079 - f1_score: 0.6176 - loss: 0.1667 - precision: 0.8113 - recall: 0.5567 "
     ]
    },
    {
     "name": "stderr",
     "output_type": "stream",
     "text": [
      "2025-04-20 11:31:38.154472: W tensorflow/core/lib/png/png_io.cc:92] PNG warning: iCCP: profile 'ICC Profile': 'GRAY': Gray color space not permitted on RGB PNG\n"
     ]
    },
    {
     "name": "stdout",
     "output_type": "stream",
     "text": [
      "\u001b[1m561/561\u001b[0m \u001b[32m━━━━━━━━━━━━━━━━━━━━\u001b[0m\u001b[37m\u001b[0m \u001b[1m0s\u001b[0m 284ms/step - accuracy: 0.9513 - auc: 0.9092 - f1_score: 0.6188 - loss: 0.1667 - precision: 0.8125 - recall: 0.5578 "
     ]
    },
    {
     "name": "stderr",
     "output_type": "stream",
     "text": [
      "2025-04-20 11:32:33.755990: W tensorflow/core/kernels/data/prefetch_autotuner.cc:52] Prefetch autotuner tried to allocate 77078016 bytes after encountering the first element of size 77078016 bytes.This already causes the autotune ram budget to be exceeded. To stay within the ram budget, either increase the ram budget or reduce element size\n",
      "2025-04-20 11:32:40.356695: I tensorflow/core/kernels/data/shuffle_dataset_op.cc:452] ShuffleDatasetV3:10: Filling up shuffle buffer (this may take a while): 7416 of 25000\n",
      "2025-04-20 11:32:50.357641: I tensorflow/core/kernels/data/shuffle_dataset_op.cc:452] ShuffleDatasetV3:10: Filling up shuffle buffer (this may take a while): 13103 of 25000\n",
      "2025-04-20 11:33:00.360376: I tensorflow/core/kernels/data/shuffle_dataset_op.cc:452] ShuffleDatasetV3:10: Filling up shuffle buffer (this may take a while): 18805 of 25000\n",
      "2025-04-20 11:33:01 - INFO - \n",
      "=== Epoch 51 Summary ===\n",
      "2025-04-20 11:33:01 - INFO - Time: 187.53s\n",
      "2025-04-20 11:33:01 - INFO - Training   - accuracy: 0.9514 - auc: 0.9122 - f1_score: 0.6209 - loss: 0.1664 - precision: 0.8146 - recall: 0.5596 - learning_rate: 0.0000\n",
      "2025-04-20 11:33:01 - INFO - Validation - accuracy: 0.9207 - auc: 0.7319 - f1_score: 0.4063 - loss: 0.2851 - precision: 0.5505 - recall: 0.3752\n",
      "2025-04-20 11:33:01 - INFO - ==================================================\n",
      "\n"
     ]
    },
    {
     "name": "stdout",
     "output_type": "stream",
     "text": [
      "\u001b[1m561/561\u001b[0m \u001b[32m━━━━━━━━━━━━━━━━━━━━\u001b[0m\u001b[37m\u001b[0m \u001b[1m188s\u001b[0m 334ms/step - accuracy: 0.9513 - auc: 0.9092 - f1_score: 0.6188 - loss: 0.1667 - precision: 0.8125 - recall: 0.5578 - val_accuracy: 0.9207 - val_auc: 0.7319 - val_f1_score: 0.4063 - val_loss: 0.2851 - val_precision: 0.5505 - val_recall: 0.3752 - learning_rate: 1.0000e-06\n"
     ]
    },
    {
     "name": "stderr",
     "output_type": "stream",
     "text": [
      "2025-04-20 11:33:01 - INFO - \n",
      "=== Starting Epoch 52 ===\n",
      "\n"
     ]
    },
    {
     "name": "stdout",
     "output_type": "stream",
     "text": [
      "Epoch 52/100\n",
      "\u001b[1m 19/561\u001b[0m \u001b[37m━━━━━━━━━━━━━━━━━━━━\u001b[0m \u001b[1m2:09\u001b[0m 239ms/step - accuracy: 0.9484 - auc: 0.9087 - f1_score: 0.5994 - loss: 0.1696 - precision: 0.8026 - recall: 0.5401"
     ]
    },
    {
     "name": "stderr",
     "output_type": "stream",
     "text": [
      "2025-04-20 11:33:05.976389: I tensorflow/core/kernels/data/shuffle_dataset_op.cc:482] Shuffle buffer filled.\n"
     ]
    },
    {
     "name": "stdout",
     "output_type": "stream",
     "text": [
      "\u001b[1m 20/561\u001b[0m \u001b[37m━━━━━━━━━━━━━━━━━━━━\u001b[0m \u001b[1m2:09\u001b[0m 240ms/step - accuracy: 0.9485 - auc: 0.9094 - f1_score: 0.6000 - loss: 0.1695 - precision: 0.8029 - recall: 0.5406"
     ]
    },
    {
     "name": "stderr",
     "output_type": "stream",
     "text": [
      "2025-04-20 11:33:06.261915: W tensorflow/core/kernels/data/prefetch_autotuner.cc:52] Prefetch autotuner tried to allocate 134225408 bytes after encountering the first element of size 134225408 bytes.This already causes the autotune ram budget to be exceeded. To stay within the ram budget, either increase the ram budget or reduce element size\n"
     ]
    },
    {
     "name": "stdout",
     "output_type": "stream",
     "text": [
      "\u001b[1m362/561\u001b[0m \u001b[32m━━━━━━━━━━━━\u001b[0m\u001b[37m━━━━━━━━\u001b[0m \u001b[1m58s\u001b[0m 295ms/step - accuracy: 0.9509 - auc: 0.9135 - f1_score: 0.6172 - loss: 0.1673 - precision: 0.8126 - recall: 0.5564 "
     ]
    },
    {
     "name": "stderr",
     "output_type": "stream",
     "text": [
      "2025-04-20 11:34:48.413291: W tensorflow/core/lib/png/png_io.cc:92] PNG warning: iCCP: profile 'ICC Profile': 'GRAY': Gray color space not permitted on RGB PNG\n"
     ]
    },
    {
     "name": "stdout",
     "output_type": "stream",
     "text": [
      "\u001b[1m561/561\u001b[0m \u001b[32m━━━━━━━━━━━━━━━━━━━━\u001b[0m\u001b[37m\u001b[0m \u001b[1m0s\u001b[0m 289ms/step - accuracy: 0.9510 - auc: 0.9132 - f1_score: 0.6188 - loss: 0.1670 - precision: 0.8127 - recall: 0.5580 "
     ]
    },
    {
     "name": "stderr",
     "output_type": "stream",
     "text": [
      "2025-04-20 11:35:44.049575: W tensorflow/core/kernels/data/prefetch_autotuner.cc:52] Prefetch autotuner tried to allocate 77078016 bytes after encountering the first element of size 77078016 bytes.This already causes the autotune ram budget to be exceeded. To stay within the ram budget, either increase the ram budget or reduce element size\n",
      "2025-04-20 11:35:50.910645: I tensorflow/core/kernels/data/shuffle_dataset_op.cc:452] ShuffleDatasetV3:10: Filling up shuffle buffer (this may take a while): 7363 of 25000\n",
      "2025-04-20 11:36:10.907202: I tensorflow/core/kernels/data/shuffle_dataset_op.cc:452] ShuffleDatasetV3:10: Filling up shuffle buffer (this may take a while): 18913 of 25000\n",
      "2025-04-20 11:36:11 - INFO - \n",
      "=== Epoch 52 Summary ===\n",
      "2025-04-20 11:36:11 - INFO - Time: 190.07s\n",
      "2025-04-20 11:36:11 - INFO - Training   - accuracy: 0.9513 - auc: 0.9127 - f1_score: 0.6217 - loss: 0.1664 - precision: 0.8127 - recall: 0.5610 - learning_rate: 0.0000\n",
      "2025-04-20 11:36:11 - INFO - Validation - accuracy: 0.9212 - auc: 0.7385 - f1_score: 0.4029 - loss: 0.2801 - precision: 0.5558 - recall: 0.3736\n",
      "2025-04-20 11:36:11 - INFO - ==================================================\n",
      "\n"
     ]
    },
    {
     "name": "stdout",
     "output_type": "stream",
     "text": [
      "\u001b[1m561/561\u001b[0m \u001b[32m━━━━━━━━━━━━━━━━━━━━\u001b[0m\u001b[37m\u001b[0m \u001b[1m190s\u001b[0m 339ms/step - accuracy: 0.9511 - auc: 0.9132 - f1_score: 0.6188 - loss: 0.1670 - precision: 0.8127 - recall: 0.5580 - val_accuracy: 0.9212 - val_auc: 0.7385 - val_f1_score: 0.4029 - val_loss: 0.2801 - val_precision: 0.5558 - val_recall: 0.3736 - learning_rate: 1.0000e-06\n"
     ]
    },
    {
     "name": "stderr",
     "output_type": "stream",
     "text": [
      "2025-04-20 11:36:11 - INFO - \n",
      "=== Starting Epoch 53 ===\n",
      "\n"
     ]
    },
    {
     "name": "stdout",
     "output_type": "stream",
     "text": [
      "Epoch 53/100\n",
      "\u001b[1m 20/561\u001b[0m \u001b[37m━━━━━━━━━━━━━━━━━━━━\u001b[0m \u001b[1m2:09\u001b[0m 240ms/step - accuracy: 0.9521 - auc: 0.9136 - f1_score: 0.6251 - loss: 0.1663 - precision: 0.8113 - recall: 0.5649"
     ]
    },
    {
     "name": "stderr",
     "output_type": "stream",
     "text": [
      "2025-04-20 11:36:16.276505: I tensorflow/core/kernels/data/shuffle_dataset_op.cc:482] Shuffle buffer filled.\n"
     ]
    },
    {
     "name": "stdout",
     "output_type": "stream",
     "text": [
      "\u001b[1m 21/561\u001b[0m \u001b[37m━━━━━━━━━━━━━━━━━━━━\u001b[0m \u001b[1m2:09\u001b[0m 241ms/step - accuracy: 0.9520 - auc: 0.9136 - f1_score: 0.6246 - loss: 0.1663 - precision: 0.8116 - recall: 0.5643"
     ]
    },
    {
     "name": "stderr",
     "output_type": "stream",
     "text": [
      "2025-04-20 11:36:16.594676: W tensorflow/core/kernels/data/prefetch_autotuner.cc:52] Prefetch autotuner tried to allocate 77078016 bytes after encountering the first element of size 77078016 bytes.This already causes the autotune ram budget to be exceeded. To stay within the ram budget, either increase the ram budget or reduce element size\n"
     ]
    },
    {
     "name": "stdout",
     "output_type": "stream",
     "text": [
      "\u001b[1m363/561\u001b[0m \u001b[32m━━━━━━━━━━━━\u001b[0m\u001b[37m━━━━━━━━\u001b[0m \u001b[1m53s\u001b[0m 271ms/step - accuracy: 0.9517 - auc: 0.9104 - f1_score: 0.6234 - loss: 0.1662 - precision: 0.8159 - recall: 0.5620 "
     ]
    },
    {
     "name": "stderr",
     "output_type": "stream",
     "text": [
      "2025-04-20 11:37:50.102229: W tensorflow/core/lib/png/png_io.cc:92] PNG warning: iCCP: profile 'ICC Profile': 'GRAY': Gray color space not permitted on RGB PNG\n"
     ]
    },
    {
     "name": "stdout",
     "output_type": "stream",
     "text": [
      "\u001b[1m561/561\u001b[0m \u001b[32m━━━━━━━━━━━━━━━━━━━━\u001b[0m\u001b[37m\u001b[0m \u001b[1m0s\u001b[0m 276ms/step - accuracy: 0.9517 - auc: 0.9112 - f1_score: 0.6237 - loss: 0.1661 - precision: 0.8159 - recall: 0.5625 "
     ]
    },
    {
     "name": "stderr",
     "output_type": "stream",
     "text": [
      "2025-04-20 11:38:46.745118: W tensorflow/core/kernels/data/prefetch_autotuner.cc:52] Prefetch autotuner tried to allocate 77078016 bytes after encountering the first element of size 77078016 bytes.This already causes the autotune ram budget to be exceeded. To stay within the ram budget, either increase the ram budget or reduce element size\n",
      "2025-04-20 11:38:53.834011: I tensorflow/core/kernels/data/shuffle_dataset_op.cc:452] ShuffleDatasetV3:10: Filling up shuffle buffer (this may take a while): 7219 of 25000\n",
      "2025-04-20 11:39:13.827363: I tensorflow/core/kernels/data/shuffle_dataset_op.cc:452] ShuffleDatasetV3:10: Filling up shuffle buffer (this may take a while): 18861 of 25000\n",
      "2025-04-20 11:39:14 - INFO - \n",
      "=== Epoch 53 Summary ===\n",
      "2025-04-20 11:39:14 - INFO - Time: 182.69s\n",
      "2025-04-20 11:39:14 - INFO - Training   - accuracy: 0.9518 - auc: 0.9124 - f1_score: 0.6251 - loss: 0.1656 - precision: 0.8158 - recall: 0.5642 - learning_rate: 0.0000\n",
      "2025-04-20 11:39:14 - INFO - Validation - accuracy: 0.9230 - auc: 0.7279 - f1_score: 0.4019 - loss: 0.2900 - precision: 0.5706 - recall: 0.3861\n",
      "2025-04-20 11:39:14 - INFO - ==================================================\n",
      "\n"
     ]
    },
    {
     "name": "stdout",
     "output_type": "stream",
     "text": [
      "\u001b[1m561/561\u001b[0m \u001b[32m━━━━━━━━━━━━━━━━━━━━\u001b[0m\u001b[37m\u001b[0m \u001b[1m183s\u001b[0m 326ms/step - accuracy: 0.9517 - auc: 0.9112 - f1_score: 0.6237 - loss: 0.1661 - precision: 0.8159 - recall: 0.5625 - val_accuracy: 0.9230 - val_auc: 0.7279 - val_f1_score: 0.4019 - val_loss: 0.2900 - val_precision: 0.5706 - val_recall: 0.3861 - learning_rate: 1.0000e-06\n"
     ]
    },
    {
     "name": "stderr",
     "output_type": "stream",
     "text": [
      "2025-04-20 11:39:14 - INFO - \n",
      "=== Starting Epoch 54 ===\n",
      "\n"
     ]
    },
    {
     "name": "stdout",
     "output_type": "stream",
     "text": [
      "Epoch 54/100\n",
      "\u001b[1m 21/561\u001b[0m \u001b[37m━━━━━━━━━━━━━━━━━━━━\u001b[0m \u001b[1m2:10\u001b[0m 241ms/step - accuracy: 0.9512 - auc: 0.9185 - f1_score: 0.6192 - loss: 0.1672 - precision: 0.8204 - recall: 0.5543"
     ]
    },
    {
     "name": "stderr",
     "output_type": "stream",
     "text": [
      "2025-04-20 11:39:19.353905: I tensorflow/core/kernels/data/shuffle_dataset_op.cc:482] Shuffle buffer filled.\n"
     ]
    },
    {
     "name": "stdout",
     "output_type": "stream",
     "text": [
      "\u001b[1m 24/561\u001b[0m \u001b[37m━━━━━━━━━━━━━━━━━━━━\u001b[0m \u001b[1m2:09\u001b[0m 241ms/step - accuracy: 0.9512 - auc: 0.9190 - f1_score: 0.6194 - loss: 0.1671 - precision: 0.8186 - recall: 0.5550"
     ]
    },
    {
     "name": "stderr",
     "output_type": "stream",
     "text": [
      "2025-04-20 11:39:19.859685: W tensorflow/core/kernels/data/prefetch_autotuner.cc:52] Prefetch autotuner tried to allocate 134225408 bytes after encountering the first element of size 134225408 bytes.This already causes the autotune ram budget to be exceeded. To stay within the ram budget, either increase the ram budget or reduce element size\n"
     ]
    },
    {
     "name": "stdout",
     "output_type": "stream",
     "text": [
      "\u001b[1m364/561\u001b[0m \u001b[32m━━━━━━━━━━━━\u001b[0m\u001b[37m━━━━━━━━\u001b[0m \u001b[1m1:03\u001b[0m 322ms/step - accuracy: 0.9515 - auc: 0.9177 - f1_score: 0.6234 - loss: 0.1655 - precision: 0.8153 - recall: 0.5620"
     ]
    },
    {
     "name": "stderr",
     "output_type": "stream",
     "text": [
      "2025-04-20 11:41:11.556851: W tensorflow/core/lib/png/png_io.cc:92] PNG warning: iCCP: profile 'ICC Profile': 'GRAY': Gray color space not permitted on RGB PNG\n"
     ]
    },
    {
     "name": "stdout",
     "output_type": "stream",
     "text": [
      "\u001b[1m561/561\u001b[0m \u001b[32m━━━━━━━━━━━━━━━━━━━━\u001b[0m\u001b[37m\u001b[0m \u001b[1m0s\u001b[0m 307ms/step - accuracy: 0.9516 - auc: 0.9168 - f1_score: 0.6245 - loss: 0.1654 - precision: 0.8158 - recall: 0.5631  "
     ]
    },
    {
     "name": "stderr",
     "output_type": "stream",
     "text": [
      "2025-04-20 11:42:13.956136: I tensorflow/core/kernels/data/shuffle_dataset_op.cc:452] ShuffleDatasetV3:10: Filling up shuffle buffer (this may take a while): 7048 of 25000\n",
      "2025-04-20 11:42:33.953427: I tensorflow/core/kernels/data/shuffle_dataset_op.cc:452] ShuffleDatasetV3:10: Filling up shuffle buffer (this may take a while): 18826 of 25000\n",
      "2025-04-20 11:42:35 - INFO - \n",
      "=== Epoch 54 Summary ===\n",
      "2025-04-20 11:42:35 - INFO - Time: 201.13s\n",
      "2025-04-20 11:42:35 - INFO - Training   - accuracy: 0.9519 - auc: 0.9146 - f1_score: 0.6263 - loss: 0.1651 - precision: 0.8168 - recall: 0.5648 - learning_rate: 0.0000\n",
      "2025-04-20 11:42:35 - INFO - Validation - accuracy: 0.9203 - auc: 0.7394 - f1_score: 0.4119 - loss: 0.2828 - precision: 0.5465 - recall: 0.3783\n",
      "2025-04-20 11:42:35 - INFO - ==================================================\n",
      "\n"
     ]
    },
    {
     "name": "stdout",
     "output_type": "stream",
     "text": [
      "\u001b[1m561/561\u001b[0m \u001b[32m━━━━━━━━━━━━━━━━━━━━\u001b[0m\u001b[37m\u001b[0m \u001b[1m201s\u001b[0m 359ms/step - accuracy: 0.9516 - auc: 0.9168 - f1_score: 0.6245 - loss: 0.1654 - precision: 0.8159 - recall: 0.5631 - val_accuracy: 0.9203 - val_auc: 0.7394 - val_f1_score: 0.4119 - val_loss: 0.2828 - val_precision: 0.5465 - val_recall: 0.3783 - learning_rate: 1.0000e-06\n"
     ]
    },
    {
     "name": "stderr",
     "output_type": "stream",
     "text": [
      "2025-04-20 11:42:35 - INFO - \n",
      "=== Starting Epoch 55 ===\n",
      "\n"
     ]
    },
    {
     "name": "stdout",
     "output_type": "stream",
     "text": [
      "Epoch 55/100\n",
      "\u001b[1m 18/561\u001b[0m \u001b[37m━━━━━━━━━━━━━━━━━━━━\u001b[0m \u001b[1m2:10\u001b[0m 240ms/step - accuracy: 0.9526 - auc: 0.9279 - f1_score: 0.6309 - loss: 0.1619 - precision: 0.8228 - recall: 0.5702"
     ]
    },
    {
     "name": "stderr",
     "output_type": "stream",
     "text": [
      "2025-04-20 11:42:39.745517: I tensorflow/core/kernels/data/shuffle_dataset_op.cc:482] Shuffle buffer filled.\n"
     ]
    },
    {
     "name": "stdout",
     "output_type": "stream",
     "text": [
      "\u001b[1m 20/561\u001b[0m \u001b[37m━━━━━━━━━━━━━━━━━━━━\u001b[0m \u001b[1m2:09\u001b[0m 240ms/step - accuracy: 0.9526 - auc: 0.9278 - f1_score: 0.6303 - loss: 0.1621 - precision: 0.8223 - recall: 0.5696"
     ]
    },
    {
     "name": "stderr",
     "output_type": "stream",
     "text": [
      "2025-04-20 11:42:40.286514: W tensorflow/core/kernels/data/prefetch_autotuner.cc:52] Prefetch autotuner tried to allocate 77078016 bytes after encountering the first element of size 77078016 bytes.This already causes the autotune ram budget to be exceeded. To stay within the ram budget, either increase the ram budget or reduce element size\n"
     ]
    },
    {
     "name": "stdout",
     "output_type": "stream",
     "text": [
      "\u001b[1m365/561\u001b[0m \u001b[32m━━━━━━━━━━━━━\u001b[0m\u001b[37m━━━━━━━\u001b[0m \u001b[1m1:01\u001b[0m 314ms/step - accuracy: 0.9521 - auc: 0.9184 - f1_score: 0.6259 - loss: 0.1647 - precision: 0.8193 - recall: 0.5641"
     ]
    },
    {
     "name": "stderr",
     "output_type": "stream",
     "text": [
      "2025-04-20 11:44:30.305129: W tensorflow/core/lib/png/png_io.cc:92] PNG warning: iCCP: profile 'ICC Profile': 'GRAY': Gray color space not permitted on RGB PNG\n"
     ]
    },
    {
     "name": "stdout",
     "output_type": "stream",
     "text": [
      "\u001b[1m561/561\u001b[0m \u001b[32m━━━━━━━━━━━━━━━━━━━━\u001b[0m\u001b[37m\u001b[0m \u001b[1m0s\u001b[0m 304ms/step - accuracy: 0.9521 - auc: 0.9172 - f1_score: 0.6266 - loss: 0.1648 - precision: 0.8190 - recall: 0.5648  "
     ]
    },
    {
     "name": "stderr",
     "output_type": "stream",
     "text": [
      "2025-04-20 11:45:34.103044: I tensorflow/core/kernels/data/shuffle_dataset_op.cc:452] ShuffleDatasetV3:10: Filling up shuffle buffer (this may take a while): 6945 of 25000\n",
      "2025-04-20 11:45:54 - INFO - \n",
      "=== Epoch 55 Summary ===\n",
      "2025-04-20 11:45:54 - INFO - Time: 198.55s\n",
      "2025-04-20 11:45:54 - INFO - Training   - accuracy: 0.9522 - auc: 0.9150 - f1_score: 0.6287 - loss: 0.1646 - precision: 0.8178 - recall: 0.5672 - learning_rate: 0.0000\n",
      "2025-04-20 11:45:54 - INFO - Validation - accuracy: 0.9218 - auc: 0.7326 - f1_score: 0.4092 - loss: 0.2949 - precision: 0.5586 - recall: 0.3894\n",
      "2025-04-20 11:45:54 - INFO - ==================================================\n",
      "\n"
     ]
    },
    {
     "name": "stdout",
     "output_type": "stream",
     "text": [
      "\u001b[1m561/561\u001b[0m \u001b[32m━━━━━━━━━━━━━━━━━━━━\u001b[0m\u001b[37m\u001b[0m \u001b[1m199s\u001b[0m 354ms/step - accuracy: 0.9521 - auc: 0.9172 - f1_score: 0.6266 - loss: 0.1648 - precision: 0.8190 - recall: 0.5648 - val_accuracy: 0.9218 - val_auc: 0.7326 - val_f1_score: 0.4092 - val_loss: 0.2949 - val_precision: 0.5586 - val_recall: 0.3894 - learning_rate: 1.0000e-06\n"
     ]
    },
    {
     "name": "stderr",
     "output_type": "stream",
     "text": [
      "2025-04-20 11:45:54 - INFO - \n",
      "=== Starting Epoch 56 ===\n",
      "\n"
     ]
    },
    {
     "name": "stdout",
     "output_type": "stream",
     "text": [
      "Epoch 56/100\n"
     ]
    },
    {
     "name": "stderr",
     "output_type": "stream",
     "text": [
      "2025-04-20 11:45:54.101099: I tensorflow/core/kernels/data/shuffle_dataset_op.cc:452] ShuffleDatasetV3:10: Filling up shuffle buffer (this may take a while): 18890 of 25000\n"
     ]
    },
    {
     "name": "stdout",
     "output_type": "stream",
     "text": [
      "\u001b[1m 23/561\u001b[0m \u001b[37m━━━━━━━━━━━━━━━━━━━━\u001b[0m \u001b[1m2:08\u001b[0m 240ms/step - accuracy: 0.9522 - auc: 0.8956 - f1_score: 0.6216 - loss: 0.1646 - precision: 0.8239 - recall: 0.5578"
     ]
    },
    {
     "name": "stderr",
     "output_type": "stream",
     "text": [
      "2025-04-20 11:45:59.469246: I tensorflow/core/kernels/data/shuffle_dataset_op.cc:482] Shuffle buffer filled.\n"
     ]
    },
    {
     "name": "stdout",
     "output_type": "stream",
     "text": [
      "\u001b[1m 24/561\u001b[0m \u001b[37m━━━━━━━━━━━━━━━━━━━━\u001b[0m \u001b[1m2:08\u001b[0m 240ms/step - accuracy: 0.9522 - auc: 0.8961 - f1_score: 0.6219 - loss: 0.1646 - precision: 0.8239 - recall: 0.5581"
     ]
    },
    {
     "name": "stderr",
     "output_type": "stream",
     "text": [
      "2025-04-20 11:45:59.840513: W tensorflow/core/kernels/data/prefetch_autotuner.cc:52] Prefetch autotuner tried to allocate 77078272 bytes after encountering the first element of size 77078272 bytes.This already causes the autotune ram budget to be exceeded. To stay within the ram budget, either increase the ram budget or reduce element size\n"
     ]
    },
    {
     "name": "stdout",
     "output_type": "stream",
     "text": [
      "\u001b[1m366/561\u001b[0m \u001b[32m━━━━━━━━━━━━━\u001b[0m\u001b[37m━━━━━━━\u001b[0m \u001b[1m58s\u001b[0m 298ms/step - accuracy: 0.9521 - auc: 0.9127 - f1_score: 0.6275 - loss: 0.1646 - precision: 0.8178 - recall: 0.5668 "
     ]
    },
    {
     "name": "stderr",
     "output_type": "stream",
     "text": [
      "2025-04-20 11:47:43.154671: W tensorflow/core/lib/png/png_io.cc:92] PNG warning: iCCP: profile 'ICC Profile': 'GRAY': Gray color space not permitted on RGB PNG\n"
     ]
    },
    {
     "name": "stdout",
     "output_type": "stream",
     "text": [
      "\u001b[1m561/561\u001b[0m \u001b[32m━━━━━━━━━━━━━━━━━━━━\u001b[0m\u001b[37m\u001b[0m \u001b[1m0s\u001b[0m 291ms/step - accuracy: 0.9521 - auc: 0.9133 - f1_score: 0.6277 - loss: 0.1646 - precision: 0.8174 - recall: 0.5670 "
     ]
    },
    {
     "name": "stderr",
     "output_type": "stream",
     "text": [
      "2025-04-20 11:48:37.821239: W tensorflow/core/kernels/data/prefetch_autotuner.cc:52] Prefetch autotuner tried to allocate 77078016 bytes after encountering the first element of size 77078016 bytes.This already causes the autotune ram budget to be exceeded. To stay within the ram budget, either increase the ram budget or reduce element size\n",
      "2025-04-20 11:48:45.597766: I tensorflow/core/kernels/data/shuffle_dataset_op.cc:452] ShuffleDatasetV3:10: Filling up shuffle buffer (this may take a while): 6801 of 25000\n",
      "2025-04-20 11:49:05.597062: I tensorflow/core/kernels/data/shuffle_dataset_op.cc:452] ShuffleDatasetV3:10: Filling up shuffle buffer (this may take a while): 18815 of 25000\n",
      "2025-04-20 11:49:05 - INFO - \n",
      "=== Epoch 56 Summary ===\n",
      "2025-04-20 11:49:05 - INFO - Time: 191.67s\n",
      "2025-04-20 11:49:05 - INFO - Training   - accuracy: 0.9523 - auc: 0.9149 - f1_score: 0.6302 - loss: 0.1641 - precision: 0.8183 - recall: 0.5689 - learning_rate: 0.0000\n",
      "2025-04-20 11:49:05 - INFO - Validation - accuracy: 0.9218 - auc: 0.7355 - f1_score: 0.4062 - loss: 0.2876 - precision: 0.5600 - recall: 0.3798\n",
      "2025-04-20 11:49:05 - INFO - ==================================================\n",
      "\n"
     ]
    },
    {
     "name": "stdout",
     "output_type": "stream",
     "text": [
      "\u001b[1m561/561\u001b[0m \u001b[32m━━━━━━━━━━━━━━━━━━━━\u001b[0m\u001b[37m\u001b[0m \u001b[1m192s\u001b[0m 342ms/step - accuracy: 0.9521 - auc: 0.9133 - f1_score: 0.6278 - loss: 0.1646 - precision: 0.8175 - recall: 0.5670 - val_accuracy: 0.9218 - val_auc: 0.7355 - val_f1_score: 0.4062 - val_loss: 0.2876 - val_precision: 0.5600 - val_recall: 0.3798 - learning_rate: 1.0000e-06\n"
     ]
    },
    {
     "name": "stderr",
     "output_type": "stream",
     "text": [
      "2025-04-20 11:49:05 - INFO - \n",
      "=== Starting Epoch 57 ===\n",
      "\n"
     ]
    },
    {
     "name": "stdout",
     "output_type": "stream",
     "text": [
      "Epoch 57/100\n",
      "\u001b[1m 22/561\u001b[0m \u001b[37m━━━━━━━━━━━━━━━━━━━━\u001b[0m \u001b[1m2:09\u001b[0m 240ms/step - accuracy: 0.9521 - auc: 0.9182 - f1_score: 0.6205 - loss: 0.1646 - precision: 0.8155 - recall: 0.5609"
     ]
    },
    {
     "name": "stderr",
     "output_type": "stream",
     "text": [
      "2025-04-20 11:49:11.068541: I tensorflow/core/kernels/data/shuffle_dataset_op.cc:482] Shuffle buffer filled.\n"
     ]
    },
    {
     "name": "stdout",
     "output_type": "stream",
     "text": [
      "\u001b[1m 24/561\u001b[0m \u001b[37m━━━━━━━━━━━━━━━━━━━━\u001b[0m \u001b[1m2:09\u001b[0m 241ms/step - accuracy: 0.9520 - auc: 0.9183 - f1_score: 0.6203 - loss: 0.1646 - precision: 0.8153 - recall: 0.5606"
     ]
    },
    {
     "name": "stderr",
     "output_type": "stream",
     "text": [
      "2025-04-20 11:49:11.359395: W tensorflow/core/kernels/data/prefetch_autotuner.cc:52] Prefetch autotuner tried to allocate 134225408 bytes after encountering the first element of size 134225408 bytes.This already causes the autotune ram budget to be exceeded. To stay within the ram budget, either increase the ram budget or reduce element size\n"
     ]
    },
    {
     "name": "stdout",
     "output_type": "stream",
     "text": [
      "\u001b[1m367/561\u001b[0m \u001b[32m━━━━━━━━━━━━━\u001b[0m\u001b[37m━━━━━━━\u001b[0m \u001b[1m57s\u001b[0m 297ms/step - accuracy: 0.9526 - auc: 0.9152 - f1_score: 0.6321 - loss: 0.1637 - precision: 0.8189 - recall: 0.5718 "
     ]
    },
    {
     "name": "stderr",
     "output_type": "stream",
     "text": [
      "2025-04-20 11:50:54.802246: W tensorflow/core/lib/png/png_io.cc:92] PNG warning: iCCP: profile 'ICC Profile': 'GRAY': Gray color space not permitted on RGB PNG\n"
     ]
    },
    {
     "name": "stdout",
     "output_type": "stream",
     "text": [
      "\u001b[1m561/561\u001b[0m \u001b[32m━━━━━━━━━━━━━━━━━━━━\u001b[0m\u001b[37m\u001b[0m \u001b[1m0s\u001b[0m 291ms/step - accuracy: 0.9526 - auc: 0.9147 - f1_score: 0.6326 - loss: 0.1636 - precision: 0.8190 - recall: 0.5723 "
     ]
    },
    {
     "name": "stderr",
     "output_type": "stream",
     "text": [
      "2025-04-20 11:51:49.202910: W tensorflow/core/kernels/data/prefetch_autotuner.cc:52] Prefetch autotuner tried to allocate 77078016 bytes after encountering the first element of size 77078016 bytes.This already causes the autotune ram budget to be exceeded. To stay within the ram budget, either increase the ram budget or reduce element size\n",
      "2025-04-20 11:51:57.265117: I tensorflow/core/kernels/data/shuffle_dataset_op.cc:452] ShuffleDatasetV3:10: Filling up shuffle buffer (this may take a while): 6570 of 25000\n",
      "2025-04-20 11:52:07.265690: I tensorflow/core/kernels/data/shuffle_dataset_op.cc:452] ShuffleDatasetV3:10: Filling up shuffle buffer (this may take a while): 12299 of 25000\n",
      "2025-04-20 11:52:16 - INFO - \n",
      "=== Epoch 57 Summary ===\n",
      "2025-04-20 11:52:16 - INFO - Time: 191.12s\n",
      "2025-04-20 11:52:16 - INFO - Training   - accuracy: 0.9526 - auc: 0.9142 - f1_score: 0.6330 - loss: 0.1636 - precision: 0.8185 - recall: 0.5726 - learning_rate: 0.0000\n",
      "2025-04-20 11:52:16 - INFO - Validation - accuracy: 0.9200 - auc: 0.7353 - f1_score: 0.4119 - loss: 0.2866 - precision: 0.5439 - recall: 0.3779\n",
      "2025-04-20 11:52:16 - INFO - ==================================================\n",
      "\n"
     ]
    },
    {
     "name": "stdout",
     "output_type": "stream",
     "text": [
      "\u001b[1m561/561\u001b[0m \u001b[32m━━━━━━━━━━━━━━━━━━━━\u001b[0m\u001b[37m\u001b[0m \u001b[1m191s\u001b[0m 341ms/step - accuracy: 0.9526 - auc: 0.9147 - f1_score: 0.6326 - loss: 0.1636 - precision: 0.8190 - recall: 0.5723 - val_accuracy: 0.9200 - val_auc: 0.7353 - val_f1_score: 0.4119 - val_loss: 0.2866 - val_precision: 0.5439 - val_recall: 0.3779 - learning_rate: 1.0000e-06\n"
     ]
    },
    {
     "name": "stderr",
     "output_type": "stream",
     "text": [
      "2025-04-20 11:52:16 - INFO - \n",
      "=== Starting Epoch 58 ===\n",
      "\n"
     ]
    },
    {
     "name": "stdout",
     "output_type": "stream",
     "text": [
      "Epoch 58/100\n",
      "\u001b[1m  2/561\u001b[0m \u001b[37m━━━━━━━━━━━━━━━━━━━━\u001b[0m \u001b[1m2:13\u001b[0m 239ms/step - accuracy: 0.9501 - auc: 0.8047 - f1_score: 0.6190 - loss: 0.1662 - precision: 0.7839 - recall: 0.5684"
     ]
    },
    {
     "name": "stderr",
     "output_type": "stream",
     "text": [
      "2025-04-20 11:52:17.267449: I tensorflow/core/kernels/data/shuffle_dataset_op.cc:452] ShuffleDatasetV3:10: Filling up shuffle buffer (this may take a while): 18657 of 25000\n"
     ]
    },
    {
     "name": "stdout",
     "output_type": "stream",
     "text": [
      "\u001b[1m 26/561\u001b[0m \u001b[37m━━━━━━━━━━━━━━━━━━━━\u001b[0m \u001b[1m2:07\u001b[0m 239ms/step - accuracy: 0.9505 - auc: 0.8829 - f1_score: 0.6200 - loss: 0.1666 - precision: 0.8063 - recall: 0.5628"
     ]
    },
    {
     "name": "stderr",
     "output_type": "stream",
     "text": [
      "2025-04-20 11:52:22.984999: I tensorflow/core/kernels/data/shuffle_dataset_op.cc:482] Shuffle buffer filled.\n"
     ]
    },
    {
     "name": "stdout",
     "output_type": "stream",
     "text": [
      "\u001b[1m 28/561\u001b[0m \u001b[37m━━━━━━━━━━━━━━━━━━━━\u001b[0m \u001b[1m2:07\u001b[0m 240ms/step - accuracy: 0.9507 - auc: 0.8850 - f1_score: 0.6208 - loss: 0.1664 - precision: 0.8069 - recall: 0.5634"
     ]
    },
    {
     "name": "stderr",
     "output_type": "stream",
     "text": [
      "2025-04-20 11:52:23.587846: W tensorflow/core/kernels/data/prefetch_autotuner.cc:52] Prefetch autotuner tried to allocate 77078016 bytes after encountering the first element of size 77078016 bytes.This already causes the autotune ram budget to be exceeded. To stay within the ram budget, either increase the ram budget or reduce element size\n"
     ]
    },
    {
     "name": "stdout",
     "output_type": "stream",
     "text": [
      "\u001b[1m368/561\u001b[0m \u001b[32m━━━━━━━━━━━━━\u001b[0m\u001b[37m━━━━━━━\u001b[0m \u001b[1m1:03\u001b[0m 329ms/step - accuracy: 0.9522 - auc: 0.9113 - f1_score: 0.6320 - loss: 0.1638 - precision: 0.8185 - recall: 0.5710"
     ]
    },
    {
     "name": "stderr",
     "output_type": "stream",
     "text": [
      "2025-04-20 11:54:17.909256: W tensorflow/core/lib/png/png_io.cc:92] PNG warning: iCCP: profile 'ICC Profile': 'GRAY': Gray color space not permitted on RGB PNG\n"
     ]
    },
    {
     "name": "stdout",
     "output_type": "stream",
     "text": [
      "\u001b[1m561/561\u001b[0m \u001b[32m━━━━━━━━━━━━━━━━━━━━\u001b[0m\u001b[37m\u001b[0m \u001b[1m0s\u001b[0m 314ms/step - accuracy: 0.9524 - auc: 0.9129 - f1_score: 0.6331 - loss: 0.1636 - precision: 0.8190 - recall: 0.5720  "
     ]
    },
    {
     "name": "stderr",
     "output_type": "stream",
     "text": [
      "2025-04-20 11:55:13.337653: W tensorflow/core/kernels/data/prefetch_autotuner.cc:52] Prefetch autotuner tried to allocate 77078016 bytes after encountering the first element of size 77078016 bytes.This already causes the autotune ram budget to be exceeded. To stay within the ram budget, either increase the ram budget or reduce element size\n",
      "2025-04-20 11:55:21.626974: I tensorflow/core/kernels/data/shuffle_dataset_op.cc:452] ShuffleDatasetV3:10: Filling up shuffle buffer (this may take a while): 6540 of 25000\n",
      "2025-04-20 11:55:31.629066: I tensorflow/core/kernels/data/shuffle_dataset_op.cc:452] ShuffleDatasetV3:10: Filling up shuffle buffer (this may take a while): 12278 of 25000\n",
      "2025-04-20 11:55:40 - INFO - \n",
      "=== Epoch 58 Summary ===\n",
      "2025-04-20 11:55:40 - INFO - Time: 203.98s\n",
      "2025-04-20 11:55:40 - INFO - Training   - accuracy: 0.9528 - auc: 0.9164 - f1_score: 0.6361 - loss: 0.1629 - precision: 0.8211 - recall: 0.5746 - learning_rate: 0.0000\n",
      "2025-04-20 11:55:40 - INFO - Validation - accuracy: 0.9225 - auc: 0.7246 - f1_score: 0.3960 - loss: 0.2965 - precision: 0.5662 - recall: 0.3831\n",
      "2025-04-20 11:55:40 - INFO - ==================================================\n",
      "\n"
     ]
    },
    {
     "name": "stdout",
     "output_type": "stream",
     "text": [
      "\u001b[1m561/561\u001b[0m \u001b[32m━━━━━━━━━━━━━━━━━━━━\u001b[0m\u001b[37m\u001b[0m \u001b[1m204s\u001b[0m 364ms/step - accuracy: 0.9524 - auc: 0.9129 - f1_score: 0.6331 - loss: 0.1636 - precision: 0.8190 - recall: 0.5720 - val_accuracy: 0.9225 - val_auc: 0.7246 - val_f1_score: 0.3960 - val_loss: 0.2965 - val_precision: 0.5662 - val_recall: 0.3831 - learning_rate: 1.0000e-06\n"
     ]
    },
    {
     "name": "stderr",
     "output_type": "stream",
     "text": [
      "2025-04-20 11:55:40 - INFO - \n",
      "=== Starting Epoch 59 ===\n",
      "\n"
     ]
    },
    {
     "name": "stdout",
     "output_type": "stream",
     "text": [
      "Epoch 59/100\n",
      "\u001b[1m 26/561\u001b[0m \u001b[37m━━━━━━━━━━━━━━━━━━━━\u001b[0m \u001b[1m2:08\u001b[0m 240ms/step - accuracy: 0.9528 - auc: 0.8761 - f1_score: 0.6317 - loss: 0.1617 - precision: 0.8193 - recall: 0.5729"
     ]
    },
    {
     "name": "stderr",
     "output_type": "stream",
     "text": [
      "2025-04-20 11:55:47.082271: I tensorflow/core/kernels/data/shuffle_dataset_op.cc:482] Shuffle buffer filled.\n"
     ]
    },
    {
     "name": "stdout",
     "output_type": "stream",
     "text": [
      "\u001b[1m 27/561\u001b[0m \u001b[37m━━━━━━━━━━━━━━━━━━━━\u001b[0m \u001b[1m2:08\u001b[0m 240ms/step - accuracy: 0.9529 - auc: 0.8771 - f1_score: 0.6322 - loss: 0.1617 - precision: 0.8194 - recall: 0.5733"
     ]
    },
    {
     "name": "stderr",
     "output_type": "stream",
     "text": [
      "2025-04-20 11:55:47.396622: W tensorflow/core/kernels/data/prefetch_autotuner.cc:52] Prefetch autotuner tried to allocate 77078016 bytes after encountering the first element of size 77078016 bytes.This already causes the autotune ram budget to be exceeded. To stay within the ram budget, either increase the ram budget or reduce element size\n"
     ]
    },
    {
     "name": "stdout",
     "output_type": "stream",
     "text": [
      "\u001b[1m369/561\u001b[0m \u001b[32m━━━━━━━━━━━━━\u001b[0m\u001b[37m━━━━━━━\u001b[0m \u001b[1m55s\u001b[0m 289ms/step - accuracy: 0.9530 - auc: 0.9099 - f1_score: 0.6348 - loss: 0.1624 - precision: 0.8215 - recall: 0.5734 "
     ]
    },
    {
     "name": "stderr",
     "output_type": "stream",
     "text": [
      "2025-04-20 11:57:27.569234: W tensorflow/core/lib/png/png_io.cc:92] PNG warning: iCCP: profile 'ICC Profile': 'GRAY': Gray color space not permitted on RGB PNG\n"
     ]
    },
    {
     "name": "stdout",
     "output_type": "stream",
     "text": [
      "\u001b[1m561/561\u001b[0m \u001b[32m━━━━━━━━━━━━━━━━━━━━\u001b[0m\u001b[37m\u001b[0m \u001b[1m0s\u001b[0m 286ms/step - accuracy: 0.9530 - auc: 0.9111 - f1_score: 0.6360 - loss: 0.1624 - precision: 0.8217 - recall: 0.5746 "
     ]
    },
    {
     "name": "stderr",
     "output_type": "stream",
     "text": [
      "2025-04-20 11:58:21.544218: W tensorflow/core/kernels/data/prefetch_autotuner.cc:52] Prefetch autotuner tried to allocate 93830656 bytes after encountering the first element of size 93830656 bytes.This already causes the autotune ram budget to be exceeded. To stay within the ram budget, either increase the ram budget or reduce element size\n",
      "2025-04-20 11:58:29.964674: I tensorflow/core/kernels/data/shuffle_dataset_op.cc:452] ShuffleDatasetV3:10: Filling up shuffle buffer (this may take a while): 6516 of 25000\n",
      "2025-04-20 11:58:49 - INFO - \n",
      "=== Epoch 59 Summary ===\n",
      "2025-04-20 11:58:49 - INFO - Time: 188.23s\n",
      "2025-04-20 11:58:49 - INFO - Training   - accuracy: 0.9531 - auc: 0.9145 - f1_score: 0.6381 - loss: 0.1625 - precision: 0.8213 - recall: 0.5771 - learning_rate: 0.0000\n",
      "2025-04-20 11:58:49 - INFO - Validation - accuracy: 0.9217 - auc: 0.7307 - f1_score: 0.4020 - loss: 0.2901 - precision: 0.5596 - recall: 0.3775\n",
      "2025-04-20 11:58:49 - INFO - ==================================================\n",
      "\n"
     ]
    },
    {
     "name": "stdout",
     "output_type": "stream",
     "text": [
      "\u001b[1m561/561\u001b[0m \u001b[32m━━━━━━━━━━━━━━━━━━━━\u001b[0m\u001b[37m\u001b[0m \u001b[1m188s\u001b[0m 336ms/step - accuracy: 0.9530 - auc: 0.9111 - f1_score: 0.6360 - loss: 0.1624 - precision: 0.8217 - recall: 0.5746 - val_accuracy: 0.9217 - val_auc: 0.7307 - val_f1_score: 0.4020 - val_loss: 0.2901 - val_precision: 0.5596 - val_recall: 0.3775 - learning_rate: 1.0000e-06\n"
     ]
    },
    {
     "name": "stderr",
     "output_type": "stream",
     "text": [
      "2025-04-20 11:58:49 - INFO - \n",
      "=== Starting Epoch 60 ===\n",
      "\n"
     ]
    },
    {
     "name": "stdout",
     "output_type": "stream",
     "text": [
      "Epoch 60/100\n",
      "\u001b[1m  4/561\u001b[0m \u001b[37m━━━━━━━━━━━━━━━━━━━━\u001b[0m \u001b[1m2:13\u001b[0m 239ms/step - accuracy: 0.9546 - auc: 0.8601 - f1_score: 0.6496 - loss: 0.1571 - precision: 0.8358 - recall: 0.5882"
     ]
    },
    {
     "name": "stderr",
     "output_type": "stream",
     "text": [
      "2025-04-20 11:58:49.965264: I tensorflow/core/kernels/data/shuffle_dataset_op.cc:452] ShuffleDatasetV3:10: Filling up shuffle buffer (this may take a while): 18854 of 25000\n"
     ]
    },
    {
     "name": "stdout",
     "output_type": "stream",
     "text": [
      "\u001b[1m 27/561\u001b[0m \u001b[37m━━━━━━━━━━━━━━━━━━━━\u001b[0m \u001b[1m2:07\u001b[0m 239ms/step - accuracy: 0.9537 - auc: 0.9149 - f1_score: 0.6443 - loss: 0.1590 - precision: 0.8301 - recall: 0.5802"
     ]
    },
    {
     "name": "stderr",
     "output_type": "stream",
     "text": [
      "2025-04-20 11:58:55.385005: I tensorflow/core/kernels/data/shuffle_dataset_op.cc:482] Shuffle buffer filled.\n"
     ]
    },
    {
     "name": "stdout",
     "output_type": "stream",
     "text": [
      "\u001b[1m 28/561\u001b[0m \u001b[37m━━━━━━━━━━━━━━━━━━━━\u001b[0m \u001b[1m2:07\u001b[0m 239ms/step - accuracy: 0.9537 - auc: 0.9151 - f1_score: 0.6441 - loss: 0.1590 - precision: 0.8299 - recall: 0.5800"
     ]
    },
    {
     "name": "stderr",
     "output_type": "stream",
     "text": [
      "2025-04-20 11:58:55.812272: W tensorflow/core/kernels/data/prefetch_autotuner.cc:52] Prefetch autotuner tried to allocate 93830656 bytes after encountering the first element of size 93830656 bytes.This already causes the autotune ram budget to be exceeded. To stay within the ram budget, either increase the ram budget or reduce element size\n"
     ]
    },
    {
     "name": "stdout",
     "output_type": "stream",
     "text": [
      "\u001b[1m370/561\u001b[0m \u001b[32m━━━━━━━━━━━━━\u001b[0m\u001b[37m━━━━━━━\u001b[0m \u001b[1m54s\u001b[0m 288ms/step - accuracy: 0.9530 - auc: 0.9160 - f1_score: 0.6372 - loss: 0.1620 - precision: 0.8218 - recall: 0.5752 "
     ]
    },
    {
     "name": "stderr",
     "output_type": "stream",
     "text": [
      "2025-04-20 12:00:35.662020: W tensorflow/core/lib/png/png_io.cc:92] PNG warning: iCCP: profile 'ICC Profile': 'GRAY': Gray color space not permitted on RGB PNG\n"
     ]
    },
    {
     "name": "stdout",
     "output_type": "stream",
     "text": [
      "\u001b[1m561/561\u001b[0m \u001b[32m━━━━━━━━━━━━━━━━━━━━\u001b[0m\u001b[37m\u001b[0m \u001b[1m0s\u001b[0m 285ms/step - accuracy: 0.9530 - auc: 0.9165 - f1_score: 0.6375 - loss: 0.1622 - precision: 0.8215 - recall: 0.5755 "
     ]
    },
    {
     "name": "stderr",
     "output_type": "stream",
     "text": [
      "2025-04-20 12:01:29.005609: W tensorflow/core/kernels/data/prefetch_autotuner.cc:52] Prefetch autotuner tried to allocate 77083648 bytes after encountering the first element of size 77083648 bytes.This already causes the autotune ram budget to be exceeded. To stay within the ram budget, either increase the ram budget or reduce element size\n",
      "2025-04-20 12:01:37.783637: I tensorflow/core/kernels/data/shuffle_dataset_op.cc:452] ShuffleDatasetV3:10: Filling up shuffle buffer (this may take a while): 7174 of 25000\n",
      "2025-04-20 12:01:57.787499: I tensorflow/core/kernels/data/shuffle_dataset_op.cc:452] ShuffleDatasetV3:10: Filling up shuffle buffer (this may take a while): 20526 of 25000\n",
      "2025-04-20 12:02:02 - INFO - \n",
      "=== Epoch 60 Summary ===\n",
      "2025-04-20 12:02:02 - INFO - Time: 193.32s\n",
      "2025-04-20 12:02:02 - INFO - Training   - accuracy: 0.9530 - auc: 0.9183 - f1_score: 0.6381 - loss: 0.1622 - precision: 0.8212 - recall: 0.5764 - learning_rate: 0.0000\n",
      "2025-04-20 12:02:02 - INFO - Validation - accuracy: 0.9215 - auc: 0.7275 - f1_score: 0.3994 - loss: 0.2921 - precision: 0.5585 - recall: 0.3731\n",
      "2025-04-20 12:02:02 - INFO - ==================================================\n",
      "\n"
     ]
    },
    {
     "name": "stdout",
     "output_type": "stream",
     "text": [
      "\u001b[1m561/561\u001b[0m \u001b[32m━━━━━━━━━━━━━━━━━━━━\u001b[0m\u001b[37m\u001b[0m \u001b[1m193s\u001b[0m 345ms/step - accuracy: 0.9530 - auc: 0.9165 - f1_score: 0.6375 - loss: 0.1622 - precision: 0.8215 - recall: 0.5755 - val_accuracy: 0.9215 - val_auc: 0.7275 - val_f1_score: 0.3994 - val_loss: 0.2921 - val_precision: 0.5585 - val_recall: 0.3731 - learning_rate: 1.0000e-06\n"
     ]
    },
    {
     "name": "stderr",
     "output_type": "stream",
     "text": [
      "2025-04-20 12:02:02 - INFO - \n",
      "=== Starting Epoch 61 ===\n",
      "\n"
     ]
    },
    {
     "name": "stdout",
     "output_type": "stream",
     "text": [
      "Epoch 61/100\n",
      "\u001b[1m  5/561\u001b[0m \u001b[37m━━━━━━━━━━━━━━━━━━━━\u001b[0m \u001b[1m2:14\u001b[0m 241ms/step - accuracy: 0.9524 - auc: 0.9032 - f1_score: 0.6302 - loss: 0.1643 - precision: 0.8098 - recall: 0.5708"
     ]
    },
    {
     "name": "stderr",
     "output_type": "stream",
     "text": [
      "2025-04-20 12:02:03.558215: I tensorflow/core/kernels/data/shuffle_dataset_op.cc:482] Shuffle buffer filled.\n"
     ]
    },
    {
     "name": "stdout",
     "output_type": "stream",
     "text": [
      "\u001b[1m  6/561\u001b[0m \u001b[37m━━━━━━━━━━━━━━━━━━━━\u001b[0m \u001b[1m2:14\u001b[0m 242ms/step - accuracy: 0.9521 - auc: 0.9060 - f1_score: 0.6293 - loss: 0.1646 - precision: 0.8091 - recall: 0.5695"
     ]
    },
    {
     "name": "stderr",
     "output_type": "stream",
     "text": [
      "2025-04-20 12:02:03.908583: W tensorflow/core/kernels/data/prefetch_autotuner.cc:52] Prefetch autotuner tried to allocate 77078016 bytes after encountering the first element of size 77078016 bytes.This already causes the autotune ram budget to be exceeded. To stay within the ram budget, either increase the ram budget or reduce element size\n"
     ]
    },
    {
     "name": "stdout",
     "output_type": "stream",
     "text": [
      "\u001b[1m371/561\u001b[0m \u001b[32m━━━━━━━━━━━━━\u001b[0m\u001b[37m━━━━━━━\u001b[0m \u001b[1m52s\u001b[0m 277ms/step - accuracy: 0.9530 - auc: 0.9191 - f1_score: 0.6379 - loss: 0.1621 - precision: 0.8212 - recall: 0.5767 "
     ]
    },
    {
     "name": "stderr",
     "output_type": "stream",
     "text": [
      "2025-04-20 12:03:45.315434: W tensorflow/core/lib/png/png_io.cc:92] PNG warning: iCCP: profile 'ICC Profile': 'GRAY': Gray color space not permitted on RGB PNG\n"
     ]
    },
    {
     "name": "stdout",
     "output_type": "stream",
     "text": [
      "\u001b[1m561/561\u001b[0m \u001b[32m━━━━━━━━━━━━━━━━━━━━\u001b[0m\u001b[37m\u001b[0m \u001b[1m0s\u001b[0m 280ms/step - accuracy: 0.9531 - auc: 0.9190 - f1_score: 0.6386 - loss: 0.1619 - precision: 0.8216 - recall: 0.5774 "
     ]
    },
    {
     "name": "stderr",
     "output_type": "stream",
     "text": [
      "2025-04-20 12:04:39.890000: W tensorflow/core/kernels/data/prefetch_autotuner.cc:52] Prefetch autotuner tried to allocate 77078016 bytes after encountering the first element of size 77078016 bytes.This already causes the autotune ram budget to be exceeded. To stay within the ram budget, either increase the ram budget or reduce element size\n",
      "2025-04-20 12:04:48.907890: I tensorflow/core/kernels/data/shuffle_dataset_op.cc:452] ShuffleDatasetV3:10: Filling up shuffle buffer (this may take a while): 6136 of 25000\n",
      "2025-04-20 12:04:58.908505: I tensorflow/core/kernels/data/shuffle_dataset_op.cc:452] ShuffleDatasetV3:10: Filling up shuffle buffer (this may take a while): 11862 of 25000\n",
      "2025-04-20 12:05:07 - INFO - \n",
      "=== Epoch 61 Summary ===\n",
      "2025-04-20 12:05:07 - INFO - Time: 184.98s\n",
      "2025-04-20 12:05:07 - INFO - Training   - accuracy: 0.9533 - auc: 0.9188 - f1_score: 0.6396 - loss: 0.1615 - precision: 0.8223 - recall: 0.5785 - learning_rate: 0.0000\n",
      "2025-04-20 12:05:07 - INFO - Validation - accuracy: 0.9212 - auc: 0.7295 - f1_score: 0.4100 - loss: 0.2899 - precision: 0.5543 - recall: 0.3824\n",
      "2025-04-20 12:05:07 - INFO - ==================================================\n",
      "\n"
     ]
    },
    {
     "name": "stdout",
     "output_type": "stream",
     "text": [
      "\u001b[1m561/561\u001b[0m \u001b[32m━━━━━━━━━━━━━━━━━━━━\u001b[0m\u001b[37m\u001b[0m \u001b[1m185s\u001b[0m 330ms/step - accuracy: 0.9531 - auc: 0.9190 - f1_score: 0.6386 - loss: 0.1619 - precision: 0.8216 - recall: 0.5774 - val_accuracy: 0.9212 - val_auc: 0.7295 - val_f1_score: 0.4100 - val_loss: 0.2899 - val_precision: 0.5543 - val_recall: 0.3824 - learning_rate: 1.0000e-06\n"
     ]
    },
    {
     "name": "stderr",
     "output_type": "stream",
     "text": [
      "2025-04-20 12:05:07 - INFO - \n",
      "=== Starting Epoch 62 ===\n",
      "\n"
     ]
    },
    {
     "name": "stdout",
     "output_type": "stream",
     "text": [
      "Epoch 62/100\n",
      "\u001b[1m 29/561\u001b[0m \u001b[32m━\u001b[0m\u001b[37m━━━━━━━━━━━━━━━━━━━\u001b[0m \u001b[1m2:07\u001b[0m 239ms/step - accuracy: 0.9522 - auc: 0.9117 - f1_score: 0.6380 - loss: 0.1654 - precision: 0.8254 - recall: 0.5743"
     ]
    },
    {
     "name": "stderr",
     "output_type": "stream",
     "text": [
      "2025-04-20 12:05:14.322201: I tensorflow/core/kernels/data/shuffle_dataset_op.cc:482] Shuffle buffer filled.\n"
     ]
    },
    {
     "name": "stdout",
     "output_type": "stream",
     "text": [
      "\u001b[1m 30/561\u001b[0m \u001b[32m━\u001b[0m\u001b[37m━━━━━━━━━━━━━━━━━━━\u001b[0m \u001b[1m2:07\u001b[0m 239ms/step - accuracy: 0.9522 - auc: 0.9119 - f1_score: 0.6380 - loss: 0.1654 - precision: 0.8254 - recall: 0.5743"
     ]
    },
    {
     "name": "stderr",
     "output_type": "stream",
     "text": [
      "2025-04-20 12:05:14.637982: W tensorflow/core/kernels/data/prefetch_autotuner.cc:52] Prefetch autotuner tried to allocate 77078016 bytes after encountering the first element of size 77078016 bytes.This already causes the autotune ram budget to be exceeded. To stay within the ram budget, either increase the ram budget or reduce element size\n"
     ]
    },
    {
     "name": "stdout",
     "output_type": "stream",
     "text": [
      "\u001b[1m372/561\u001b[0m \u001b[32m━━━━━━━━━━━━━\u001b[0m\u001b[37m━━━━━━━\u001b[0m \u001b[1m56s\u001b[0m 299ms/step - accuracy: 0.9530 - auc: 0.9187 - f1_score: 0.6414 - loss: 0.1624 - precision: 0.8234 - recall: 0.5791 "
     ]
    },
    {
     "name": "stderr",
     "output_type": "stream",
     "text": [
      "2025-04-20 12:06:58.759913: W tensorflow/core/lib/png/png_io.cc:92] PNG warning: iCCP: profile 'ICC Profile': 'GRAY': Gray color space not permitted on RGB PNG\n"
     ]
    },
    {
     "name": "stdout",
     "output_type": "stream",
     "text": [
      "\u001b[1m561/561\u001b[0m \u001b[32m━━━━━━━━━━━━━━━━━━━━\u001b[0m\u001b[37m\u001b[0m \u001b[1m0s\u001b[0m 293ms/step - accuracy: 0.9531 - auc: 0.9187 - f1_score: 0.6417 - loss: 0.1621 - precision: 0.8234 - recall: 0.5795 "
     ]
    },
    {
     "name": "stderr",
     "output_type": "stream",
     "text": [
      "2025-04-20 12:08:01.190721: I tensorflow/core/kernels/data/shuffle_dataset_op.cc:452] ShuffleDatasetV3:10: Filling up shuffle buffer (this may take a while): 5915 of 25000\n",
      "2025-04-20 12:08:18.840074: W tensorflow/core/kernels/data/prefetch_autotuner.cc:52] Prefetch autotuner tried to allocate 77078016 bytes after encountering the first element of size 77078016 bytes.This already causes the autotune ram budget to be exceeded. To stay within the ram budget, either increase the ram budget or reduce element size\n",
      "2025-04-20 12:08:19 - INFO - \n",
      "=== Epoch 62 Summary ===\n",
      "2025-04-20 12:08:19 - INFO - Time: 192.36s\n",
      "2025-04-20 12:08:19 - INFO - Training   - accuracy: 0.9533 - auc: 0.9188 - f1_score: 0.6423 - loss: 0.1614 - precision: 0.8233 - recall: 0.5803 - learning_rate: 0.0000\n",
      "2025-04-20 12:08:19 - INFO - Validation - accuracy: 0.9192 - auc: 0.7285 - f1_score: 0.4066 - loss: 0.2956 - precision: 0.5367 - recall: 0.3757\n",
      "2025-04-20 12:08:19 - INFO - ==================================================\n",
      "\n"
     ]
    },
    {
     "name": "stdout",
     "output_type": "stream",
     "text": [
      "\u001b[1m561/561\u001b[0m \u001b[32m━━━━━━━━━━━━━━━━━━━━\u001b[0m\u001b[37m\u001b[0m \u001b[1m192s\u001b[0m 343ms/step - accuracy: 0.9531 - auc: 0.9187 - f1_score: 0.6417 - loss: 0.1621 - precision: 0.8234 - recall: 0.5795 - val_accuracy: 0.9192 - val_auc: 0.7285 - val_f1_score: 0.4066 - val_loss: 0.2956 - val_precision: 0.5367 - val_recall: 0.3757 - learning_rate: 1.0000e-06\n"
     ]
    },
    {
     "name": "stderr",
     "output_type": "stream",
     "text": [
      "2025-04-20 12:08:19 - INFO - \n",
      "=== Starting Epoch 63 ===\n",
      "\n"
     ]
    },
    {
     "name": "stdout",
     "output_type": "stream",
     "text": [
      "Epoch 63/100\n",
      "\u001b[1m  6/561\u001b[0m \u001b[37m━━━━━━━━━━━━━━━━━━━━\u001b[0m \u001b[1m2:13\u001b[0m 241ms/step - accuracy: 0.9559 - auc: 0.9284 - f1_score: 0.6604 - loss: 0.1521 - precision: 0.8541 - recall: 0.5952"
     ]
    },
    {
     "name": "stderr",
     "output_type": "stream",
     "text": [
      "2025-04-20 12:08:21.187528: I tensorflow/core/kernels/data/shuffle_dataset_op.cc:452] ShuffleDatasetV3:10: Filling up shuffle buffer (this may take a while): 18134 of 25000\n"
     ]
    },
    {
     "name": "stdout",
     "output_type": "stream",
     "text": [
      "\u001b[1m 33/561\u001b[0m \u001b[32m━\u001b[0m\u001b[37m━━━━━━━━━━━━━━━━━━━\u001b[0m \u001b[1m2:07\u001b[0m 241ms/step - accuracy: 0.9537 - auc: 0.9216 - f1_score: 0.6458 - loss: 0.1588 - precision: 0.8286 - recall: 0.5842"
     ]
    },
    {
     "name": "stderr",
     "output_type": "stream",
     "text": [
      "2025-04-20 12:08:27.672412: I tensorflow/core/kernels/data/shuffle_dataset_op.cc:482] Shuffle buffer filled.\n"
     ]
    },
    {
     "name": "stdout",
     "output_type": "stream",
     "text": [
      "\u001b[1m 35/561\u001b[0m \u001b[32m━\u001b[0m\u001b[37m━━━━━━━━━━━━━━━━━━━\u001b[0m \u001b[1m2:06\u001b[0m 241ms/step - accuracy: 0.9537 - auc: 0.9213 - f1_score: 0.6455 - loss: 0.1589 - precision: 0.8279 - recall: 0.5841"
     ]
    },
    {
     "name": "stderr",
     "output_type": "stream",
     "text": [
      "2025-04-20 12:08:28.275376: W tensorflow/core/kernels/data/prefetch_autotuner.cc:52] Prefetch autotuner tried to allocate 134225408 bytes after encountering the first element of size 134225408 bytes.This already causes the autotune ram budget to be exceeded. To stay within the ram budget, either increase the ram budget or reduce element size\n"
     ]
    },
    {
     "name": "stdout",
     "output_type": "stream",
     "text": [
      "\u001b[1m373/561\u001b[0m \u001b[32m━━━━━━━━━━━━━\u001b[0m\u001b[37m━━━━━━━\u001b[0m \u001b[1m57s\u001b[0m 308ms/step - accuracy: 0.9534 - auc: 0.9194 - f1_score: 0.6433 - loss: 0.1606 - precision: 0.8218 - recall: 0.5820 "
     ]
    },
    {
     "name": "stderr",
     "output_type": "stream",
     "text": [
      "2025-04-20 12:10:14.516030: W tensorflow/core/lib/png/png_io.cc:92] PNG warning: iCCP: profile 'ICC Profile': 'GRAY': Gray color space not permitted on RGB PNG\n"
     ]
    },
    {
     "name": "stdout",
     "output_type": "stream",
     "text": [
      "\u001b[1m561/561\u001b[0m \u001b[32m━━━━━━━━━━━━━━━━━━━━\u001b[0m\u001b[37m\u001b[0m \u001b[1m0s\u001b[0m 293ms/step - accuracy: 0.9535 - auc: 0.9195 - f1_score: 0.6443 - loss: 0.1604 - precision: 0.8226 - recall: 0.5829 "
     ]
    },
    {
     "name": "stderr",
     "output_type": "stream",
     "text": [
      "2025-04-20 12:11:14.184416: I tensorflow/core/kernels/data/shuffle_dataset_op.cc:452] ShuffleDatasetV3:10: Filling up shuffle buffer (this may take a while): 5821 of 25000\n",
      "2025-04-20 12:11:32 - INFO - \n",
      "=== Epoch 63 Summary ===\n",
      "2025-04-20 12:11:32 - INFO - Time: 192.57s\n",
      "2025-04-20 12:11:32 - INFO - Training   - accuracy: 0.9538 - auc: 0.9200 - f1_score: 0.6460 - loss: 0.1600 - precision: 0.8245 - recall: 0.5844 - learning_rate: 0.0000\n",
      "2025-04-20 12:11:32 - INFO - Validation - accuracy: 0.9203 - auc: 0.7279 - f1_score: 0.4053 - loss: 0.2958 - precision: 0.5468 - recall: 0.3779\n",
      "2025-04-20 12:11:32 - INFO - ==================================================\n",
      "\n"
     ]
    },
    {
     "name": "stdout",
     "output_type": "stream",
     "text": [
      "\u001b[1m561/561\u001b[0m \u001b[32m━━━━━━━━━━━━━━━━━━━━\u001b[0m\u001b[37m\u001b[0m \u001b[1m193s\u001b[0m 343ms/step - accuracy: 0.9535 - auc: 0.9195 - f1_score: 0.6443 - loss: 0.1604 - precision: 0.8226 - recall: 0.5829 - val_accuracy: 0.9203 - val_auc: 0.7279 - val_f1_score: 0.4053 - val_loss: 0.2958 - val_precision: 0.5468 - val_recall: 0.3779 - learning_rate: 1.0000e-06\n"
     ]
    },
    {
     "name": "stderr",
     "output_type": "stream",
     "text": [
      "2025-04-20 12:11:32 - INFO - \n",
      "=== Starting Epoch 64 ===\n",
      "\n"
     ]
    },
    {
     "name": "stdout",
     "output_type": "stream",
     "text": [
      "Epoch 64/100\n",
      "\u001b[1m  8/561\u001b[0m \u001b[37m━━━━━━━━━━━━━━━━━━━━\u001b[0m \u001b[1m2:12\u001b[0m 239ms/step - accuracy: 0.9542 - auc: 0.9174 - f1_score: 0.6580 - loss: 0.1629 - precision: 0.8482 - recall: 0.5890"
     ]
    },
    {
     "name": "stderr",
     "output_type": "stream",
     "text": [
      "2025-04-20 12:11:34.183186: I tensorflow/core/kernels/data/shuffle_dataset_op.cc:452] ShuffleDatasetV3:10: Filling up shuffle buffer (this may take a while): 18764 of 25000\n"
     ]
    },
    {
     "name": "stdout",
     "output_type": "stream",
     "text": [
      "\u001b[1m 31/561\u001b[0m \u001b[32m━\u001b[0m\u001b[37m━━━━━━━━━━━━━━━━━━━\u001b[0m \u001b[1m2:07\u001b[0m 240ms/step - accuracy: 0.9547 - auc: 0.9247 - f1_score: 0.6584 - loss: 0.1596 - precision: 0.8336 - recall: 0.5957"
     ]
    },
    {
     "name": "stderr",
     "output_type": "stream",
     "text": [
      "2025-04-20 12:11:39.747988: I tensorflow/core/kernels/data/shuffle_dataset_op.cc:482] Shuffle buffer filled.\n"
     ]
    },
    {
     "name": "stdout",
     "output_type": "stream",
     "text": [
      "\u001b[1m 33/561\u001b[0m \u001b[32m━\u001b[0m\u001b[37m━━━━━━━━━━━━━━━━━━━\u001b[0m \u001b[1m2:06\u001b[0m 240ms/step - accuracy: 0.9547 - auc: 0.9248 - f1_score: 0.6582 - loss: 0.1594 - precision: 0.8331 - recall: 0.5957"
     ]
    },
    {
     "name": "stderr",
     "output_type": "stream",
     "text": [
      "2025-04-20 12:11:40.179689: W tensorflow/core/kernels/data/prefetch_autotuner.cc:52] Prefetch autotuner tried to allocate 77078016 bytes after encountering the first element of size 77078016 bytes.This already causes the autotune ram budget to be exceeded. To stay within the ram budget, either increase the ram budget or reduce element size\n"
     ]
    },
    {
     "name": "stdout",
     "output_type": "stream",
     "text": [
      "\u001b[1m374/561\u001b[0m \u001b[32m━━━━━━━━━━━━━\u001b[0m\u001b[37m━━━━━━━\u001b[0m \u001b[1m1:03\u001b[0m 342ms/step - accuracy: 0.9539 - auc: 0.9207 - f1_score: 0.6487 - loss: 0.1602 - precision: 0.8259 - recall: 0.5878"
     ]
    },
    {
     "name": "stderr",
     "output_type": "stream",
     "text": [
      "2025-04-20 12:13:40.387616: W tensorflow/core/lib/png/png_io.cc:92] PNG warning: iCCP: profile 'ICC Profile': 'GRAY': Gray color space not permitted on RGB PNG\n"
     ]
    },
    {
     "name": "stdout",
     "output_type": "stream",
     "text": [
      "\u001b[1m561/561\u001b[0m \u001b[32m━━━━━━━━━━━━━━━━━━━━\u001b[0m\u001b[37m\u001b[0m \u001b[1m0s\u001b[0m 324ms/step - accuracy: 0.9540 - auc: 0.9202 - f1_score: 0.6486 - loss: 0.1601 - precision: 0.8259 - recall: 0.5877  "
     ]
    },
    {
     "name": "stderr",
     "output_type": "stream",
     "text": [
      "2025-04-20 12:14:47.918579: W tensorflow/core/kernels/data/prefetch_autotuner.cc:52] Prefetch autotuner tried to allocate 77078016 bytes after encountering the first element of size 77078016 bytes.This already causes the autotune ram budget to be exceeded. To stay within the ram budget, either increase the ram budget or reduce element size\n",
      "2025-04-20 12:14:48 - INFO - \n",
      "=== Epoch 64 Summary ===\n",
      "2025-04-20 12:14:48 - INFO - Time: 196.07s\n",
      "2025-04-20 12:14:48 - INFO - Training   - accuracy: 0.9541 - auc: 0.9199 - f1_score: 0.6490 - loss: 0.1597 - precision: 0.8263 - recall: 0.5879 - learning_rate: 0.0000\n",
      "2025-04-20 12:14:48 - INFO - Validation - accuracy: 0.9161 - auc: 0.7343 - f1_score: 0.3972 - loss: 0.2929 - precision: 0.5112 - recall: 0.3516\n",
      "2025-04-20 12:14:48 - INFO - ==================================================\n",
      "\n"
     ]
    },
    {
     "name": "stdout",
     "output_type": "stream",
     "text": [
      "\u001b[1m561/561\u001b[0m \u001b[32m━━━━━━━━━━━━━━━━━━━━\u001b[0m\u001b[37m\u001b[0m \u001b[1m196s\u001b[0m 350ms/step - accuracy: 0.9540 - auc: 0.9202 - f1_score: 0.6486 - loss: 0.1601 - precision: 0.8259 - recall: 0.5877 - val_accuracy: 0.9161 - val_auc: 0.7343 - val_f1_score: 0.3972 - val_loss: 0.2929 - val_precision: 0.5112 - val_recall: 0.3516 - learning_rate: 1.0000e-06\n"
     ]
    },
    {
     "name": "stderr",
     "output_type": "stream",
     "text": [
      "2025-04-20 12:14:48 - INFO - \n",
      "=== Starting Epoch 65 ===\n",
      "\n"
     ]
    },
    {
     "name": "stdout",
     "output_type": "stream",
     "text": [
      "Epoch 65/100\n",
      "\u001b[1m 42/561\u001b[0m \u001b[32m━\u001b[0m\u001b[37m━━━━━━━━━━━━━━━━━━━\u001b[0m \u001b[1m2:04\u001b[0m 239ms/step - accuracy: 0.9522 - auc: 0.9173 - f1_score: 0.6325 - loss: 0.1605 - precision: 0.8100 - recall: 0.5755"
     ]
    },
    {
     "name": "stderr",
     "output_type": "stream",
     "text": [
      "2025-04-20 12:14:58.522537: I tensorflow/core/kernels/data/shuffle_dataset_op.cc:452] ShuffleDatasetV3:10: Filling up shuffle buffer (this may take a while): 11212 of 25000\n"
     ]
    },
    {
     "name": "stdout",
     "output_type": "stream",
     "text": [
      "\u001b[1m 64/561\u001b[0m \u001b[32m━━\u001b[0m\u001b[37m━━━━━━━━━━━━━━━━━━\u001b[0m \u001b[1m1:57\u001b[0m 237ms/step - accuracy: 0.9529 - auc: 0.9180 - f1_score: 0.6382 - loss: 0.1598 - precision: 0.8154 - recall: 0.5800"
     ]
    },
    {
     "name": "stderr",
     "output_type": "stream",
     "text": [
      "2025-04-20 12:15:11.733245: I tensorflow/core/kernels/data/shuffle_dataset_op.cc:482] Shuffle buffer filled.\n",
      "2025-04-20 12:15:12.013393: W tensorflow/core/kernels/data/prefetch_autotuner.cc:52] Prefetch autotuner tried to allocate 134225408 bytes after encountering the first element of size 134225408 bytes.This already causes the autotune ram budget to be exceeded. To stay within the ram budget, either increase the ram budget or reduce element size\n"
     ]
    },
    {
     "name": "stdout",
     "output_type": "stream",
     "text": [
      "\u001b[1m375/561\u001b[0m \u001b[32m━━━━━━━━━━━━━\u001b[0m\u001b[37m━━━━━━━\u001b[0m \u001b[1m1:02\u001b[0m 336ms/step - accuracy: 0.9538 - auc: 0.9181 - f1_score: 0.6456 - loss: 0.1599 - precision: 0.8237 - recall: 0.5847"
     ]
    },
    {
     "name": "stderr",
     "output_type": "stream",
     "text": [
      "2025-04-20 12:16:54.622990: W tensorflow/core/lib/png/png_io.cc:92] PNG warning: iCCP: profile 'ICC Profile': 'GRAY': Gray color space not permitted on RGB PNG\n"
     ]
    },
    {
     "name": "stdout",
     "output_type": "stream",
     "text": [
      "\u001b[1m561/561\u001b[0m \u001b[32m━━━━━━━━━━━━━━━━━━━━\u001b[0m\u001b[37m\u001b[0m \u001b[1m0s\u001b[0m 318ms/step - accuracy: 0.9538 - auc: 0.9182 - f1_score: 0.6465 - loss: 0.1599 - precision: 0.8244 - recall: 0.5855  "
     ]
    },
    {
     "name": "stderr",
     "output_type": "stream",
     "text": [
      "2025-04-20 12:17:47.050373: W tensorflow/core/kernels/data/prefetch_autotuner.cc:52] Prefetch autotuner tried to allocate 77078016 bytes after encountering the first element of size 77078016 bytes.This already causes the autotune ram budget to be exceeded. To stay within the ram budget, either increase the ram budget or reduce element size\n",
      "2025-04-20 12:18:01 - INFO - \n",
      "=== Epoch 65 Summary ===\n",
      "2025-04-20 12:18:01 - INFO - Time: 192.52s\n",
      "2025-04-20 12:18:01 - INFO - Training   - accuracy: 0.9541 - auc: 0.9190 - f1_score: 0.6491 - loss: 0.1597 - precision: 0.8262 - recall: 0.5879 - learning_rate: 0.0000\n",
      "2025-04-20 12:18:01 - INFO - Validation - accuracy: 0.9227 - auc: 0.7222 - f1_score: 0.3923 - loss: 0.3004 - precision: 0.5691 - recall: 0.3797\n",
      "2025-04-20 12:18:01 - INFO - ==================================================\n",
      "\n"
     ]
    },
    {
     "name": "stdout",
     "output_type": "stream",
     "text": [
      "\u001b[1m561/561\u001b[0m \u001b[32m━━━━━━━━━━━━━━━━━━━━\u001b[0m\u001b[37m\u001b[0m \u001b[1m193s\u001b[0m 343ms/step - accuracy: 0.9538 - auc: 0.9182 - f1_score: 0.6465 - loss: 0.1599 - precision: 0.8244 - recall: 0.5855 - val_accuracy: 0.9227 - val_auc: 0.7222 - val_f1_score: 0.3923 - val_loss: 0.3004 - val_precision: 0.5691 - val_recall: 0.3797 - learning_rate: 1.0000e-06\n"
     ]
    },
    {
     "name": "stderr",
     "output_type": "stream",
     "text": [
      "2025-04-20 12:18:01 - INFO - \n",
      "=== Starting Epoch 66 ===\n",
      "\n"
     ]
    },
    {
     "name": "stdout",
     "output_type": "stream",
     "text": [
      "Epoch 66/100\n",
      "\u001b[1m 43/561\u001b[0m \u001b[32m━\u001b[0m\u001b[37m━━━━━━━━━━━━━━━━━━━\u001b[0m \u001b[1m2:04\u001b[0m 240ms/step - accuracy: 0.9538 - auc: 0.9195 - f1_score: 0.6450 - loss: 0.1595 - precision: 0.8285 - recall: 0.5868"
     ]
    },
    {
     "name": "stderr",
     "output_type": "stream",
     "text": [
      "2025-04-20 12:18:11.265432: I tensorflow/core/kernels/data/shuffle_dataset_op.cc:452] ShuffleDatasetV3:10: Filling up shuffle buffer (this may take a while): 11191 of 25000\n"
     ]
    },
    {
     "name": "stdout",
     "output_type": "stream",
     "text": [
      "\u001b[1m 65/561\u001b[0m \u001b[32m━━\u001b[0m\u001b[37m━━━━━━━━━━━━━━━━━━\u001b[0m \u001b[1m1:57\u001b[0m 238ms/step - accuracy: 0.9540 - auc: 0.9213 - f1_score: 0.6462 - loss: 0.1591 - precision: 0.8282 - recall: 0.5871"
     ]
    },
    {
     "name": "stderr",
     "output_type": "stream",
     "text": [
      "2025-04-20 12:18:23.724425: I tensorflow/core/kernels/data/shuffle_dataset_op.cc:482] Shuffle buffer filled.\n",
      "2025-04-20 12:18:23.970441: W tensorflow/core/kernels/data/prefetch_autotuner.cc:52] Prefetch autotuner tried to allocate 134225408 bytes after encountering the first element of size 134225408 bytes.This already causes the autotune ram budget to be exceeded. To stay within the ram budget, either increase the ram budget or reduce element size\n"
     ]
    },
    {
     "name": "stdout",
     "output_type": "stream",
     "text": [
      "\u001b[1m376/561\u001b[0m \u001b[32m━━━━━━━━━━━━━\u001b[0m\u001b[37m━━━━━━━\u001b[0m \u001b[1m1:02\u001b[0m 339ms/step - accuracy: 0.9540 - auc: 0.9207 - f1_score: 0.6482 - loss: 0.1592 - precision: 0.8267 - recall: 0.5879"
     ]
    },
    {
     "name": "stderr",
     "output_type": "stream",
     "text": [
      "2025-04-20 12:20:08.386607: W tensorflow/core/lib/png/png_io.cc:92] PNG warning: iCCP: profile 'ICC Profile': 'GRAY': Gray color space not permitted on RGB PNG\n"
     ]
    },
    {
     "name": "stdout",
     "output_type": "stream",
     "text": [
      "\u001b[1m561/561\u001b[0m \u001b[32m━━━━━━━━━━━━━━━━━━━━\u001b[0m\u001b[37m\u001b[0m \u001b[1m0s\u001b[0m 320ms/step - accuracy: 0.9541 - auc: 0.9204 - f1_score: 0.6489 - loss: 0.1592 - precision: 0.8267 - recall: 0.5884  "
     ]
    },
    {
     "name": "stderr",
     "output_type": "stream",
     "text": [
      "2025-04-20 12:21:14 - INFO - \n",
      "=== Epoch 66 Summary ===\n",
      "2025-04-20 12:21:14 - INFO - Time: 193.32s\n",
      "2025-04-20 12:21:14 - INFO - Training   - accuracy: 0.9543 - auc: 0.9201 - f1_score: 0.6505 - loss: 0.1589 - precision: 0.8269 - recall: 0.5897 - learning_rate: 0.0000\n",
      "2025-04-20 12:21:14 - INFO - Validation - accuracy: 0.9226 - auc: 0.7232 - f1_score: 0.4026 - loss: 0.3036 - precision: 0.5667 - recall: 0.3873\n",
      "2025-04-20 12:21:14 - INFO - ==================================================\n",
      "\n"
     ]
    },
    {
     "name": "stdout",
     "output_type": "stream",
     "text": [
      "\u001b[1m561/561\u001b[0m \u001b[32m━━━━━━━━━━━━━━━━━━━━\u001b[0m\u001b[37m\u001b[0m \u001b[1m193s\u001b[0m 345ms/step - accuracy: 0.9541 - auc: 0.9204 - f1_score: 0.6489 - loss: 0.1592 - precision: 0.8267 - recall: 0.5884 - val_accuracy: 0.9226 - val_auc: 0.7232 - val_f1_score: 0.4026 - val_loss: 0.3036 - val_precision: 0.5667 - val_recall: 0.3873 - learning_rate: 1.0000e-06\n"
     ]
    },
    {
     "name": "stderr",
     "output_type": "stream",
     "text": [
      "2025-04-20 12:21:14 - INFO - \n",
      "=== Starting Epoch 67 ===\n",
      "\n"
     ]
    },
    {
     "name": "stdout",
     "output_type": "stream",
     "text": [
      "Epoch 67/100\n",
      "\u001b[1m 44/561\u001b[0m \u001b[32m━\u001b[0m\u001b[37m━━━━━━━━━━━━━━━━━━━\u001b[0m \u001b[1m2:03\u001b[0m 239ms/step - accuracy: 0.9559 - auc: 0.9287 - f1_score: 0.6616 - loss: 0.1562 - precision: 0.8354 - recall: 0.6027"
     ]
    },
    {
     "name": "stderr",
     "output_type": "stream",
     "text": [
      "2025-04-20 12:21:24.823774: I tensorflow/core/kernels/data/shuffle_dataset_op.cc:452] ShuffleDatasetV3:10: Filling up shuffle buffer (this may take a while): 11237 of 25000\n"
     ]
    },
    {
     "name": "stdout",
     "output_type": "stream",
     "text": [
      "\u001b[1m 66/561\u001b[0m \u001b[32m━━\u001b[0m\u001b[37m━━━━━━━━━━━━━━━━━━\u001b[0m \u001b[1m1:57\u001b[0m 237ms/step - accuracy: 0.9555 - auc: 0.9275 - f1_score: 0.6595 - loss: 0.1567 - precision: 0.8330 - recall: 0.6002"
     ]
    },
    {
     "name": "stderr",
     "output_type": "stream",
     "text": [
      "2025-04-20 12:21:37.089633: I tensorflow/core/kernels/data/shuffle_dataset_op.cc:482] Shuffle buffer filled.\n",
      "2025-04-20 12:21:37.209709: W tensorflow/core/kernels/data/prefetch_autotuner.cc:52] Prefetch autotuner tried to allocate 134225408 bytes after encountering the first element of size 134225408 bytes.This already causes the autotune ram budget to be exceeded. To stay within the ram budget, either increase the ram budget or reduce element size\n"
     ]
    },
    {
     "name": "stdout",
     "output_type": "stream",
     "text": [
      "\u001b[1m377/561\u001b[0m \u001b[32m━━━━━━━━━━━━━\u001b[0m\u001b[37m━━━━━━━\u001b[0m \u001b[1m1:03\u001b[0m 344ms/step - accuracy: 0.9548 - auc: 0.9231 - f1_score: 0.6544 - loss: 0.1582 - precision: 0.8297 - recall: 0.5936"
     ]
    },
    {
     "name": "stderr",
     "output_type": "stream",
     "text": [
      "2025-04-20 12:23:24.177752: W tensorflow/core/lib/png/png_io.cc:92] PNG warning: iCCP: profile 'ICC Profile': 'GRAY': Gray color space not permitted on RGB PNG\n"
     ]
    },
    {
     "name": "stdout",
     "output_type": "stream",
     "text": [
      "\u001b[1m561/561\u001b[0m \u001b[32m━━━━━━━━━━━━━━━━━━━━\u001b[0m\u001b[37m\u001b[0m \u001b[1m0s\u001b[0m 324ms/step - accuracy: 0.9547 - auc: 0.9226 - f1_score: 0.6542 - loss: 0.1582 - precision: 0.8295 - recall: 0.5932  "
     ]
    },
    {
     "name": "stderr",
     "output_type": "stream",
     "text": [
      "2025-04-20 12:24:16.152666: W tensorflow/core/kernels/data/prefetch_autotuner.cc:52] Prefetch autotuner tried to allocate 134225408 bytes after encountering the first element of size 134225408 bytes.This already causes the autotune ram budget to be exceeded. To stay within the ram budget, either increase the ram budget or reduce element size\n",
      "2025-04-20 12:24:16.152803: W tensorflow/core/kernels/data/prefetch_autotuner.cc:52] Prefetch autotuner tried to allocate 134225408 bytes after encountering the first element of size 134225408 bytes.This already causes the autotune ram budget to be exceeded. To stay within the ram budget, either increase the ram budget or reduce element size\n",
      "2025-04-20 12:24:30 - INFO - \n",
      "=== Epoch 67 Summary ===\n",
      "2025-04-20 12:24:30 - INFO - Time: 195.73s\n",
      "2025-04-20 12:24:30 - INFO - Training   - accuracy: 0.9547 - auc: 0.9221 - f1_score: 0.6543 - loss: 0.1581 - precision: 0.8292 - recall: 0.5927 - learning_rate: 0.0000\n",
      "2025-04-20 12:24:30 - INFO - Validation - accuracy: 0.9182 - auc: 0.7331 - f1_score: 0.4048 - loss: 0.2907 - precision: 0.5287 - recall: 0.3686\n",
      "2025-04-20 12:24:30 - INFO - ==================================================\n",
      "\n"
     ]
    },
    {
     "name": "stdout",
     "output_type": "stream",
     "text": [
      "\u001b[1m561/561\u001b[0m \u001b[32m━━━━━━━━━━━━━━━━━━━━\u001b[0m\u001b[37m\u001b[0m \u001b[1m196s\u001b[0m 349ms/step - accuracy: 0.9547 - auc: 0.9226 - f1_score: 0.6542 - loss: 0.1582 - precision: 0.8295 - recall: 0.5932 - val_accuracy: 0.9182 - val_auc: 0.7331 - val_f1_score: 0.4048 - val_loss: 0.2907 - val_precision: 0.5287 - val_recall: 0.3686 - learning_rate: 1.0000e-06\n"
     ]
    },
    {
     "name": "stderr",
     "output_type": "stream",
     "text": [
      "2025-04-20 12:24:30 - INFO - \n",
      "=== Starting Epoch 68 ===\n",
      "\n"
     ]
    },
    {
     "name": "stdout",
     "output_type": "stream",
     "text": [
      "Epoch 68/100\n",
      "\u001b[1m 45/561\u001b[0m \u001b[32m━\u001b[0m\u001b[37m━━━━━━━━━━━━━━━━━━━\u001b[0m \u001b[1m2:03\u001b[0m 240ms/step - accuracy: 0.9547 - auc: 0.9212 - f1_score: 0.6556 - loss: 0.1577 - precision: 0.8330 - recall: 0.5922"
     ]
    },
    {
     "name": "stderr",
     "output_type": "stream",
     "text": [
      "2025-04-20 12:24:40.839692: I tensorflow/core/kernels/data/shuffle_dataset_op.cc:452] ShuffleDatasetV3:10: Filling up shuffle buffer (this may take a while): 11206 of 25000\n"
     ]
    },
    {
     "name": "stdout",
     "output_type": "stream",
     "text": [
      "\u001b[1m 67/561\u001b[0m \u001b[32m━━\u001b[0m\u001b[37m━━━━━━━━━━━━━━━━━━\u001b[0m \u001b[1m1:57\u001b[0m 238ms/step - accuracy: 0.9549 - auc: 0.9207 - f1_score: 0.6570 - loss: 0.1574 - precision: 0.8336 - recall: 0.5935"
     ]
    },
    {
     "name": "stderr",
     "output_type": "stream",
     "text": [
      "2025-04-20 12:24:50.841683: I tensorflow/core/kernels/data/shuffle_dataset_op.cc:452] ShuffleDatasetV3:10: Filling up shuffle buffer (this may take a while): 22611 of 25000\n",
      "2025-04-20 12:24:52.940404: I tensorflow/core/kernels/data/shuffle_dataset_op.cc:482] Shuffle buffer filled.\n",
      "2025-04-20 12:24:53.056112: W tensorflow/core/kernels/data/prefetch_autotuner.cc:52] Prefetch autotuner tried to allocate 134225408 bytes after encountering the first element of size 134225408 bytes.This already causes the autotune ram budget to be exceeded. To stay within the ram budget, either increase the ram budget or reduce element size\n"
     ]
    },
    {
     "name": "stdout",
     "output_type": "stream",
     "text": [
      "\u001b[1m378/561\u001b[0m \u001b[32m━━━━━━━━━━━━━\u001b[0m\u001b[37m━━━━━━━\u001b[0m \u001b[1m57s\u001b[0m 316ms/step - accuracy: 0.9552 - auc: 0.9198 - f1_score: 0.6582 - loss: 0.1572 - precision: 0.8326 - recall: 0.5969 "
     ]
    },
    {
     "name": "stderr",
     "output_type": "stream",
     "text": [
      "2025-04-20 12:26:29.649156: W tensorflow/core/lib/png/png_io.cc:92] PNG warning: iCCP: profile 'ICC Profile': 'GRAY': Gray color space not permitted on RGB PNG\n"
     ]
    },
    {
     "name": "stdout",
     "output_type": "stream",
     "text": [
      "\u001b[1m561/561\u001b[0m \u001b[32m━━━━━━━━━━━━━━━━━━━━\u001b[0m\u001b[37m\u001b[0m \u001b[1m0s\u001b[0m 305ms/step - accuracy: 0.9552 - auc: 0.9205 - f1_score: 0.6581 - loss: 0.1572 - precision: 0.8321 - recall: 0.5970 "
     ]
    },
    {
     "name": "stderr",
     "output_type": "stream",
     "text": [
      "2025-04-20 12:27:21.432217: W tensorflow/core/kernels/data/prefetch_autotuner.cc:52] Prefetch autotuner tried to allocate 77078016 bytes after encountering the first element of size 77078016 bytes.This already causes the autotune ram budget to be exceeded. To stay within the ram budget, either increase the ram budget or reduce element size\n",
      "2025-04-20 12:27:35 - INFO - \n",
      "=== Epoch 68 Summary ===\n",
      "2025-04-20 12:27:35 - INFO - Time: 185.27s\n",
      "2025-04-20 12:27:35 - INFO - Training   - accuracy: 0.9551 - auc: 0.9219 - f1_score: 0.6577 - loss: 0.1572 - precision: 0.8306 - recall: 0.5969 - learning_rate: 0.0000\n",
      "2025-04-20 12:27:35 - INFO - Validation - accuracy: 0.9203 - auc: 0.7261 - f1_score: 0.4007 - loss: 0.2985 - precision: 0.5469 - recall: 0.3718\n",
      "2025-04-20 12:27:35 - INFO - ==================================================\n",
      "\n"
     ]
    },
    {
     "name": "stdout",
     "output_type": "stream",
     "text": [
      "\u001b[1m561/561\u001b[0m \u001b[32m━━━━━━━━━━━━━━━━━━━━\u001b[0m\u001b[37m\u001b[0m \u001b[1m185s\u001b[0m 330ms/step - accuracy: 0.9552 - auc: 0.9205 - f1_score: 0.6581 - loss: 0.1572 - precision: 0.8321 - recall: 0.5970 - val_accuracy: 0.9203 - val_auc: 0.7261 - val_f1_score: 0.4007 - val_loss: 0.2985 - val_precision: 0.5469 - val_recall: 0.3718 - learning_rate: 1.0000e-06\n"
     ]
    },
    {
     "name": "stderr",
     "output_type": "stream",
     "text": [
      "2025-04-20 12:27:35 - INFO - \n",
      "=== Starting Epoch 69 ===\n",
      "\n"
     ]
    },
    {
     "name": "stdout",
     "output_type": "stream",
     "text": [
      "Epoch 69/100\n",
      "\u001b[1m 46/561\u001b[0m \u001b[32m━\u001b[0m\u001b[37m━━━━━━━━━━━━━━━━━━━\u001b[0m \u001b[1m2:03\u001b[0m 239ms/step - accuracy: 0.9551 - auc: 0.9131 - f1_score: 0.6585 - loss: 0.1582 - precision: 0.8331 - recall: 0.5953"
     ]
    },
    {
     "name": "stderr",
     "output_type": "stream",
     "text": [
      "2025-04-20 12:27:46.331166: I tensorflow/core/kernels/data/shuffle_dataset_op.cc:452] ShuffleDatasetV3:10: Filling up shuffle buffer (this may take a while): 11258 of 25000\n"
     ]
    },
    {
     "name": "stdout",
     "output_type": "stream",
     "text": [
      "\u001b[1m 68/561\u001b[0m \u001b[32m━━\u001b[0m\u001b[37m━━━━━━━━━━━━━━━━━━\u001b[0m \u001b[1m1:56\u001b[0m 237ms/step - accuracy: 0.9550 - auc: 0.9156 - f1_score: 0.6587 - loss: 0.1581 - precision: 0.8323 - recall: 0.5956"
     ]
    },
    {
     "name": "stderr",
     "output_type": "stream",
     "text": [
      "2025-04-20 12:27:58.409712: I tensorflow/core/kernels/data/shuffle_dataset_op.cc:482] Shuffle buffer filled.\n",
      "2025-04-20 12:27:58.525467: W tensorflow/core/kernels/data/prefetch_autotuner.cc:52] Prefetch autotuner tried to allocate 134225408 bytes after encountering the first element of size 134225408 bytes.This already causes the autotune ram budget to be exceeded. To stay within the ram budget, either increase the ram budget or reduce element size\n"
     ]
    },
    {
     "name": "stdout",
     "output_type": "stream",
     "text": [
      "\u001b[1m379/561\u001b[0m \u001b[32m━━━━━━━━━━━━━\u001b[0m\u001b[37m━━━━━━━\u001b[0m \u001b[1m58s\u001b[0m 319ms/step - accuracy: 0.9547 - auc: 0.9202 - f1_score: 0.6562 - loss: 0.1582 - precision: 0.8302 - recall: 0.5938 "
     ]
    },
    {
     "name": "stderr",
     "output_type": "stream",
     "text": [
      "2025-04-20 12:29:36.362168: W tensorflow/core/lib/png/png_io.cc:92] PNG warning: iCCP: profile 'ICC Profile': 'GRAY': Gray color space not permitted on RGB PNG\n"
     ]
    },
    {
     "name": "stdout",
     "output_type": "stream",
     "text": [
      "\u001b[1m561/561\u001b[0m \u001b[32m━━━━━━━━━━━━━━━━━━━━\u001b[0m\u001b[37m\u001b[0m \u001b[1m0s\u001b[0m 307ms/step - accuracy: 0.9548 - auc: 0.9210 - f1_score: 0.6563 - loss: 0.1581 - precision: 0.8303 - recall: 0.5940 "
     ]
    },
    {
     "name": "stderr",
     "output_type": "stream",
     "text": [
      "2025-04-20 12:30:27.847991: W tensorflow/core/kernels/data/prefetch_autotuner.cc:52] Prefetch autotuner tried to allocate 134225408 bytes after encountering the first element of size 134225408 bytes.This already causes the autotune ram budget to be exceeded. To stay within the ram budget, either increase the ram budget or reduce element size\n",
      "2025-04-20 12:30:27.848088: W tensorflow/core/kernels/data/prefetch_autotuner.cc:52] Prefetch autotuner tried to allocate 134225408 bytes after encountering the first element of size 134225408 bytes.This already causes the autotune ram budget to be exceeded. To stay within the ram budget, either increase the ram budget or reduce element size\n",
      "2025-04-20 12:30:41 - INFO - \n",
      "=== Epoch 69 Summary ===\n",
      "2025-04-20 12:30:41 - INFO - Time: 186.37s\n",
      "2025-04-20 12:30:41 - INFO - Training   - accuracy: 0.9549 - auc: 0.9228 - f1_score: 0.6571 - loss: 0.1579 - precision: 0.8304 - recall: 0.5954 - learning_rate: 0.0000\n",
      "2025-04-20 12:30:41 - INFO - Validation - accuracy: 0.9207 - auc: 0.7254 - f1_score: 0.4085 - loss: 0.3046 - precision: 0.5495 - recall: 0.3827\n",
      "2025-04-20 12:30:41 - INFO - ==================================================\n",
      "\n"
     ]
    },
    {
     "name": "stdout",
     "output_type": "stream",
     "text": [
      "\u001b[1m561/561\u001b[0m \u001b[32m━━━━━━━━━━━━━━━━━━━━\u001b[0m\u001b[37m\u001b[0m \u001b[1m186s\u001b[0m 332ms/step - accuracy: 0.9548 - auc: 0.9210 - f1_score: 0.6563 - loss: 0.1581 - precision: 0.8303 - recall: 0.5940 - val_accuracy: 0.9207 - val_auc: 0.7254 - val_f1_score: 0.4085 - val_loss: 0.3046 - val_precision: 0.5495 - val_recall: 0.3827 - learning_rate: 1.0000e-06\n"
     ]
    },
    {
     "name": "stderr",
     "output_type": "stream",
     "text": [
      "2025-04-20 12:30:41 - INFO - \n",
      "=== Training Completed! ===\n",
      "\n",
      "2025-04-20 12:30:41 - INFO - Final Metrics: accuracy: 0.9549 - auc: 0.9228 - f1_score: 0.6571 - loss: 0.1579 - precision: 0.8304 - recall: 0.5954 - val_accuracy: 0.9207 - val_auc: 0.7254 - val_f1_score: 0.4085 - val_loss: 0.3046 - val_precision: 0.5495 - val_recall: 0.3827\n",
      "\n"
     ]
    },
    {
     "name": "stdout",
     "output_type": "stream",
     "text": [
      "Epoch 69: early stopping\n",
      "Restoring model weights from the end of the best epoch: 54.\n"
     ]
    }
   ],
   "source": [
    "# Model Training\n",
    "model          = build_densenet(num_classes)\n",
    "optimizer      = Adam(learning_rate=1e-4)\n",
    "compile_kwargs = {'optimizer': optimizer, 'loss': loss, 'metrics': metrics}\n",
    "\n",
    "history, model = start_or_resume_training(\n",
    "    model, \n",
    "    compile_kwargs, \n",
    "    train_ds, \n",
    "    val_ds, \n",
    "    TF_MAX_EPOCHS,\n",
    "    steps_per_epoch, \n",
    "    validation_steps, \n",
    "    callbacks=[checkpoint, best_checkpoint, reduce_lr, training_logger, metrics_monitor, early_stopping], \n",
    "    checkpoint_path=checkpoint_path,\n",
    "    initial_epoch=initial_epoch,\n",
    "    output_dir=MODELS_PATH,\n",
    "    model_name=model_name,\n",
    "    logger=logger\n",
    ")"
   ]
  },
  {
   "cell_type": "code",
   "execution_count": null,
   "id": "6e94c314-2833-40ae-a3e6-d21265deb2c1",
   "metadata": {},
   "outputs": [],
   "source": []
  },
  {
   "cell_type": "code",
   "execution_count": null,
   "id": "aeafcdc5-ec72-43b9-8b62-60426278f7aa",
   "metadata": {},
   "outputs": [],
   "source": []
  },
  {
   "cell_type": "code",
   "execution_count": null,
   "id": "afec170c-fc49-4ba7-adee-5f4cade8a6bb",
   "metadata": {},
   "outputs": [],
   "source": []
  }
 ],
 "metadata": {
  "kernelspec": {
   "display_name": "Python 3 (ipykernel)",
   "language": "python",
   "name": "python3"
  },
  "language_info": {
   "codemirror_mode": {
    "name": "ipython",
    "version": 3
   },
   "file_extension": ".py",
   "mimetype": "text/x-python",
   "name": "python",
   "nbconvert_exporter": "python",
   "pygments_lexer": "ipython3",
   "version": "3.10.16"
  }
 },
 "nbformat": 4,
 "nbformat_minor": 5
}
