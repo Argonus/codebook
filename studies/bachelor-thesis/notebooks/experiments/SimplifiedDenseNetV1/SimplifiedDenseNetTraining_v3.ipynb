{
 "cells": [
  {
   "cell_type": "code",
   "execution_count": 1,
   "id": "b694919a-9b18-4068-8e69-7258de889dff",
   "metadata": {},
   "outputs": [
    {
     "name": "stderr",
     "output_type": "stream",
     "text": [
      "2025-04-22 05:41:31.597327: I tensorflow/core/util/port.cc:153] oneDNN custom operations are on. You may see slightly different numerical results due to floating-point round-off errors from different computation orders. To turn them off, set the environment variable `TF_ENABLE_ONEDNN_OPTS=0`.\n",
      "2025-04-22 05:41:31.913497: E external/local_xla/xla/stream_executor/cuda/cuda_fft.cc:467] Unable to register cuFFT factory: Attempting to register factory for plugin cuFFT when one has already been registered\n",
      "WARNING: All log messages before absl::InitializeLog() is called are written to STDERR\n",
      "E0000 00:00:1745293292.013619    3928 cuda_dnn.cc:8579] Unable to register cuDNN factory: Attempting to register factory for plugin cuDNN when one has already been registered\n",
      "E0000 00:00:1745293292.042747    3928 cuda_blas.cc:1407] Unable to register cuBLAS factory: Attempting to register factory for plugin cuBLAS when one has already been registered\n",
      "W0000 00:00:1745293292.282077    3928 computation_placer.cc:177] computation placer already registered. Please check linkage and avoid linking the same target more than once.\n",
      "W0000 00:00:1745293292.282093    3928 computation_placer.cc:177] computation placer already registered. Please check linkage and avoid linking the same target more than once.\n",
      "W0000 00:00:1745293292.282094    3928 computation_placer.cc:177] computation placer already registered. Please check linkage and avoid linking the same target more than once.\n",
      "W0000 00:00:1745293292.282095    3928 computation_placer.cc:177] computation placer already registered. Please check linkage and avoid linking the same target more than once.\n",
      "2025-04-22 05:41:32.306782: I tensorflow/core/platform/cpu_feature_guard.cc:210] This TensorFlow binary is optimized to use available CPU instructions in performance-critical operations.\n",
      "To enable the following instructions: AVX2 AVX_VNNI FMA, in other operations, rebuild TensorFlow with the appropriate compiler flags.\n"
     ]
    },
    {
     "name": "stdout",
     "output_type": "stream",
     "text": [
      "\n",
      "GPU configuration successful!\n",
      "Device: /physical_device:GPU:0\n",
      "Memory limit: 18.0 GB\n",
      "\n",
      "TensorFlow optimizations status:\n",
      "- CPU Threads: 19 intra-op, 12 inter-op (32 cores total)\n",
      "- XLA JIT: enabled (autoclustering)\n",
      "- Synchronous Execution: enabled\n",
      "\n",
      "GPU Device Details:\n",
      "- Device: GPU /physical_device:GPU:0\n",
      "- Memory limit: 18.0 GB\n"
     ]
    },
    {
     "name": "stderr",
     "output_type": "stream",
     "text": [
      "I0000 00:00:1745293295.793634    3928 gpu_device.cc:2019] Created device /job:localhost/replica:0/task:0/device:GPU:0 with 19327352832 MB memory:  -> device: 0, name: NVIDIA GeForce RTX 3090 Ti, pci bus id: 0000:01:00.0, compute capability: 8.6\n"
     ]
    }
   ],
   "source": [
    "# Import dependencies\n",
    "import os\n",
    "from src.utils.gpu_config import configure_gpu, optimize_tensorflow\n",
    "\n",
    "configure_gpu()\n",
    "optimize_tensorflow()\n",
    "\n",
    "os.environ['TF_CPP_MIN_VLOG_LEVEL'] = '0'\n",
    "os.environ['TF_CPP_MIN_LOG_LEVEL'] = '2'"
   ]
  },
  {
   "cell_type": "code",
   "execution_count": 2,
   "id": "2b854daf-5f2a-4c33-9180-5081cd415b16",
   "metadata": {},
   "outputs": [
    {
     "name": "stderr",
     "output_type": "stream",
     "text": [
      "I0000 00:00:1745293295.832153    3928 cuda_executor.cc:479] failed to allocate 18.00PiB (20266198323167232 bytes) from device: RESOURCE_EXHAUSTED: : CUDA_ERROR_OUT_OF_MEMORY: out of memory\n",
      "I0000 00:00:1745293295.832178    3928 cuda_executor.cc:479] failed to allocate 16.20PiB (18239577202360320 bytes) from device: RESOURCE_EXHAUSTED: : CUDA_ERROR_OUT_OF_MEMORY: out of memory\n",
      "I0000 00:00:1745293295.832181    3928 cuda_executor.cc:479] failed to allocate 14.58PiB (16415619482124288 bytes) from device: RESOURCE_EXHAUSTED: : CUDA_ERROR_OUT_OF_MEMORY: out of memory\n",
      "I0000 00:00:1745293295.832183    3928 cuda_executor.cc:479] failed to allocate 13.12PiB (14774057211789312 bytes) from device: RESOURCE_EXHAUSTED: : CUDA_ERROR_OUT_OF_MEMORY: out of memory\n",
      "I0000 00:00:1745293295.832185    3928 cuda_executor.cc:479] failed to allocate 11.81PiB (13296650738991104 bytes) from device: RESOURCE_EXHAUSTED: : CUDA_ERROR_OUT_OF_MEMORY: out of memory\n",
      "I0000 00:00:1745293295.832186    3928 cuda_executor.cc:479] failed to allocate 10.63PiB (11966985772466176 bytes) from device: RESOURCE_EXHAUSTED: : CUDA_ERROR_OUT_OF_MEMORY: out of memory\n",
      "I0000 00:00:1745293295.832188    3928 cuda_executor.cc:479] failed to allocate 9.57PiB (10770286550974464 bytes) from device: RESOURCE_EXHAUSTED: : CUDA_ERROR_OUT_OF_MEMORY: out of memory\n",
      "I0000 00:00:1745293295.832190    3928 cuda_executor.cc:479] failed to allocate 8.61PiB (9693258003251200 bytes) from device: RESOURCE_EXHAUSTED: : CUDA_ERROR_OUT_OF_MEMORY: out of memory\n",
      "I0000 00:00:1745293295.832192    3928 cuda_executor.cc:479] failed to allocate 7.75PiB (8723932202926080 bytes) from device: RESOURCE_EXHAUSTED: : CUDA_ERROR_OUT_OF_MEMORY: out of memory\n",
      "I0000 00:00:1745293295.832193    3928 cuda_executor.cc:479] failed to allocate 6.97PiB (7851538982633472 bytes) from device: RESOURCE_EXHAUSTED: : CUDA_ERROR_OUT_OF_MEMORY: out of memory\n",
      "I0000 00:00:1745293295.832195    3928 cuda_executor.cc:479] failed to allocate 6.28PiB (7066385138057216 bytes) from device: RESOURCE_EXHAUSTED: : CUDA_ERROR_OUT_OF_MEMORY: out of memory\n",
      "I0000 00:00:1745293295.832197    3928 cuda_executor.cc:479] failed to allocate 5.65PiB (6359746516877312 bytes) from device: RESOURCE_EXHAUSTED: : CUDA_ERROR_OUT_OF_MEMORY: out of memory\n",
      "I0000 00:00:1745293295.832198    3928 cuda_executor.cc:479] failed to allocate 5.08PiB (5723771918876672 bytes) from device: RESOURCE_EXHAUSTED: : CUDA_ERROR_OUT_OF_MEMORY: out of memory\n",
      "I0000 00:00:1745293295.832200    3928 cuda_executor.cc:479] failed to allocate 4.58PiB (5151394512240640 bytes) from device: RESOURCE_EXHAUSTED: : CUDA_ERROR_OUT_OF_MEMORY: out of memory\n",
      "I0000 00:00:1745293295.832202    3928 cuda_executor.cc:479] failed to allocate 4.12PiB (4636255061016576 bytes) from device: RESOURCE_EXHAUSTED: : CUDA_ERROR_OUT_OF_MEMORY: out of memory\n",
      "I0000 00:00:1745293295.832203    3928 cuda_executor.cc:479] failed to allocate 3.71PiB (4172629447540736 bytes) from device: RESOURCE_EXHAUSTED: : CUDA_ERROR_OUT_OF_MEMORY: out of memory\n",
      "I0000 00:00:1745293295.832205    3928 cuda_executor.cc:479] failed to allocate 3.33PiB (3755366395412480 bytes) from device: RESOURCE_EXHAUSTED: : CUDA_ERROR_OUT_OF_MEMORY: out of memory\n",
      "I0000 00:00:1745293295.832207    3928 cuda_executor.cc:479] failed to allocate 3.00PiB (3379829755871232 bytes) from device: RESOURCE_EXHAUSTED: : CUDA_ERROR_OUT_OF_MEMORY: out of memory\n",
      "I0000 00:00:1745293295.832208    3928 cuda_executor.cc:479] failed to allocate 2.70PiB (3041846699753472 bytes) from device: RESOURCE_EXHAUSTED: : CUDA_ERROR_OUT_OF_MEMORY: out of memory\n",
      "I0000 00:00:1745293295.832210    3928 cuda_executor.cc:479] failed to allocate 2.43PiB (2737662083465216 bytes) from device: RESOURCE_EXHAUSTED: : CUDA_ERROR_OUT_OF_MEMORY: out of memory\n",
      "I0000 00:00:1745293295.832212    3928 cuda_executor.cc:479] failed to allocate 2.19PiB (2463895767744512 bytes) from device: RESOURCE_EXHAUSTED: : CUDA_ERROR_OUT_OF_MEMORY: out of memory\n",
      "I0000 00:00:1745293295.832213    3928 cuda_executor.cc:479] failed to allocate 1.97PiB (2217506110439424 bytes) from device: RESOURCE_EXHAUSTED: : CUDA_ERROR_OUT_OF_MEMORY: out of memory\n",
      "I0000 00:00:1745293295.832215    3928 cuda_executor.cc:479] failed to allocate 1.77PiB (1995755472551936 bytes) from device: RESOURCE_EXHAUSTED: : CUDA_ERROR_OUT_OF_MEMORY: out of memory\n",
      "I0000 00:00:1745293295.832217    3928 cuda_executor.cc:479] failed to allocate 1.59PiB (1796179885031424 bytes) from device: RESOURCE_EXHAUSTED: : CUDA_ERROR_OUT_OF_MEMORY: out of memory\n",
      "I0000 00:00:1745293295.832219    3928 cuda_executor.cc:479] failed to allocate 1.44PiB (1616561802575872 bytes) from device: RESOURCE_EXHAUSTED: : CUDA_ERROR_OUT_OF_MEMORY: out of memory\n",
      "I0000 00:00:1745293295.832221    3928 cuda_executor.cc:479] failed to allocate 1.29PiB (1454905541787648 bytes) from device: RESOURCE_EXHAUSTED: : CUDA_ERROR_OUT_OF_MEMORY: out of memory\n",
      "I0000 00:00:1745293295.832222    3928 cuda_executor.cc:479] failed to allocate 1.16PiB (1309415001030656 bytes) from device: RESOURCE_EXHAUSTED: : CUDA_ERROR_OUT_OF_MEMORY: out of memory\n",
      "I0000 00:00:1745293295.832224    3928 cuda_executor.cc:479] failed to allocate 1.05PiB (1178473527771136 bytes) from device: RESOURCE_EXHAUSTED: : CUDA_ERROR_OUT_OF_MEMORY: out of memory\n",
      "I0000 00:00:1745293295.832226    3928 cuda_executor.cc:479] failed to allocate 964.63TiB (1060626134728704 bytes) from device: RESOURCE_EXHAUSTED: : CUDA_ERROR_OUT_OF_MEMORY: out of memory\n",
      "I0000 00:00:1745293295.832227    3928 cuda_executor.cc:479] failed to allocate 868.17TiB (954563527966720 bytes) from device: RESOURCE_EXHAUSTED: : CUDA_ERROR_OUT_OF_MEMORY: out of memory\n",
      "I0000 00:00:1745293295.832229    3928 cuda_executor.cc:479] failed to allocate 781.35TiB (859107141615616 bytes) from device: RESOURCE_EXHAUSTED: : CUDA_ERROR_OUT_OF_MEMORY: out of memory\n",
      "I0000 00:00:1745293295.832231    3928 cuda_executor.cc:479] failed to allocate 703.22TiB (773196387188736 bytes) from device: RESOURCE_EXHAUSTED: : CUDA_ERROR_OUT_OF_MEMORY: out of memory\n",
      "I0000 00:00:1745293295.832233    3928 cuda_executor.cc:479] failed to allocate 632.90TiB (695876708204544 bytes) from device: RESOURCE_EXHAUSTED: : CUDA_ERROR_OUT_OF_MEMORY: out of memory\n",
      "I0000 00:00:1745293295.832235    3928 cuda_executor.cc:479] failed to allocate 569.61TiB (626289044094976 bytes) from device: RESOURCE_EXHAUSTED: : CUDA_ERROR_OUT_OF_MEMORY: out of memory\n",
      "I0000 00:00:1745293295.832236    3928 cuda_executor.cc:479] failed to allocate 512.65TiB (563660099420160 bytes) from device: RESOURCE_EXHAUSTED: : CUDA_ERROR_OUT_OF_MEMORY: out of memory\n",
      "I0000 00:00:1745293295.832238    3928 cuda_executor.cc:479] failed to allocate 461.38TiB (507294089478144 bytes) from device: RESOURCE_EXHAUSTED: : CUDA_ERROR_OUT_OF_MEMORY: out of memory\n",
      "I0000 00:00:1745293295.832240    3928 cuda_executor.cc:479] failed to allocate 415.24TiB (456564653686784 bytes) from device: RESOURCE_EXHAUSTED: : CUDA_ERROR_OUT_OF_MEMORY: out of memory\n",
      "I0000 00:00:1745293295.832241    3928 cuda_executor.cc:479] failed to allocate 373.72TiB (410908178251776 bytes) from device: RESOURCE_EXHAUSTED: : CUDA_ERROR_OUT_OF_MEMORY: out of memory\n",
      "I0000 00:00:1745293295.832243    3928 cuda_executor.cc:479] failed to allocate 336.35TiB (369817353715712 bytes) from device: RESOURCE_EXHAUSTED: : CUDA_ERROR_OUT_OF_MEMORY: out of memory\n",
      "I0000 00:00:1745293295.832245    3928 cuda_executor.cc:479] failed to allocate 302.71TiB (332835604922368 bytes) from device: RESOURCE_EXHAUSTED: : CUDA_ERROR_OUT_OF_MEMORY: out of memory\n",
      "I0000 00:00:1745293295.832247    3928 cuda_executor.cc:479] failed to allocate 272.44TiB (299552024297472 bytes) from device: RESOURCE_EXHAUSTED: : CUDA_ERROR_OUT_OF_MEMORY: out of memory\n",
      "I0000 00:00:1745293295.832248    3928 cuda_executor.cc:479] failed to allocate 245.20TiB (269596808445952 bytes) from device: RESOURCE_EXHAUSTED: : CUDA_ERROR_OUT_OF_MEMORY: out of memory\n",
      "I0000 00:00:1745293295.832250    3928 cuda_executor.cc:479] failed to allocate 220.68TiB (242637114179584 bytes) from device: RESOURCE_EXHAUSTED: : CUDA_ERROR_OUT_OF_MEMORY: out of memory\n",
      "I0000 00:00:1745293295.832252    3928 cuda_executor.cc:479] failed to allocate 198.61TiB (218373401083904 bytes) from device: RESOURCE_EXHAUSTED: : CUDA_ERROR_OUT_OF_MEMORY: out of memory\n",
      "I0000 00:00:1745293295.832254    3928 cuda_executor.cc:479] failed to allocate 178.75TiB (196536059297792 bytes) from device: RESOURCE_EXHAUSTED: : CUDA_ERROR_OUT_OF_MEMORY: out of memory\n",
      "I0000 00:00:1745293295.832256    3928 cuda_executor.cc:479] failed to allocate 160.87TiB (176882456723456 bytes) from device: RESOURCE_EXHAUSTED: : CUDA_ERROR_OUT_OF_MEMORY: out of memory\n",
      "I0000 00:00:1745293295.832257    3928 cuda_executor.cc:479] failed to allocate 144.79TiB (159194204340224 bytes) from device: RESOURCE_EXHAUSTED: : CUDA_ERROR_OUT_OF_MEMORY: out of memory\n",
      "I0000 00:00:1745293295.832259    3928 cuda_executor.cc:479] failed to allocate 130.31TiB (143274773839872 bytes) from device: RESOURCE_EXHAUSTED: : CUDA_ERROR_OUT_OF_MEMORY: out of memory\n",
      "I0000 00:00:1745293296.058958    3928 cuda_executor.cc:479] failed to allocate 117.28TiB (128947291422720 bytes) from device: RESOURCE_EXHAUSTED: : CUDA_ERROR_OUT_OF_MEMORY: out of memory\n",
      "I0000 00:00:1745293296.273256    3928 cuda_executor.cc:479] failed to allocate 105.55TiB (116052558086144 bytes) from device: RESOURCE_EXHAUSTED: : CUDA_ERROR_OUT_OF_MEMORY: out of memory\n",
      "I0000 00:00:1745293296.456410    3928 cuda_executor.cc:479] failed to allocate 94.99TiB (104447296405504 bytes) from device: RESOURCE_EXHAUSTED: : CUDA_ERROR_OUT_OF_MEMORY: out of memory\n",
      "I0000 00:00:1745293296.621074    3928 cuda_executor.cc:479] failed to allocate 85.49TiB (94002565087232 bytes) from device: RESOURCE_EXHAUSTED: : CUDA_ERROR_OUT_OF_MEMORY: out of memory\n",
      "I0000 00:00:1745293296.758231    3928 cuda_executor.cc:479] failed to allocate 76.95TiB (84602307739648 bytes) from device: RESOURCE_EXHAUSTED: : CUDA_ERROR_OUT_OF_MEMORY: out of memory\n",
      "I0000 00:00:1745293296.882084    3928 cuda_executor.cc:479] failed to allocate 69.25TiB (76142077804544 bytes) from device: RESOURCE_EXHAUSTED: : CUDA_ERROR_OUT_OF_MEMORY: out of memory\n",
      "I0000 00:00:1745293297.004445    3928 cuda_executor.cc:479] failed to allocate 62.33TiB (68527868346368 bytes) from device: RESOURCE_EXHAUSTED: : CUDA_ERROR_OUT_OF_MEMORY: out of memory\n",
      "I0000 00:00:1745293297.119830    3928 cuda_executor.cc:479] failed to allocate 56.09TiB (61675080253440 bytes) from device: RESOURCE_EXHAUSTED: : CUDA_ERROR_OUT_OF_MEMORY: out of memory\n",
      "I0000 00:00:1745293297.208827    3928 cuda_executor.cc:479] failed to allocate 50.48TiB (55507570130944 bytes) from device: RESOURCE_EXHAUSTED: : CUDA_ERROR_OUT_OF_MEMORY: out of memory\n",
      "I0000 00:00:1745293297.287299    3928 cuda_executor.cc:479] failed to allocate 45.43TiB (49956811440128 bytes) from device: RESOURCE_EXHAUSTED: : CUDA_ERROR_OUT_OF_MEMORY: out of memory\n",
      "I0000 00:00:1745293297.359884    3928 cuda_executor.cc:479] failed to allocate 40.89TiB (44961131134976 bytes) from device: RESOURCE_EXHAUSTED: : CUDA_ERROR_OUT_OF_MEMORY: out of memory\n",
      "I0000 00:00:1745293297.422390    3928 cuda_executor.cc:479] failed to allocate 36.80TiB (40465017602048 bytes) from device: RESOURCE_EXHAUSTED: : CUDA_ERROR_OUT_OF_MEMORY: out of memory\n",
      "I0000 00:00:1745293297.478729    3928 cuda_executor.cc:479] failed to allocate 33.12TiB (36418516680704 bytes) from device: RESOURCE_EXHAUSTED: : CUDA_ERROR_OUT_OF_MEMORY: out of memory\n",
      "I0000 00:00:1745293297.528856    3928 cuda_executor.cc:479] failed to allocate 29.81TiB (32776663334912 bytes) from device: RESOURCE_EXHAUSTED: : CUDA_ERROR_OUT_OF_MEMORY: out of memory\n",
      "I0000 00:00:1745293297.574682    3928 cuda_executor.cc:479] failed to allocate 26.83TiB (29498997211136 bytes) from device: RESOURCE_EXHAUSTED: : CUDA_ERROR_OUT_OF_MEMORY: out of memory\n",
      "I0000 00:00:1745293297.614366    3928 cuda_executor.cc:479] failed to allocate 24.15TiB (26549097070592 bytes) from device: RESOURCE_EXHAUSTED: : CUDA_ERROR_OUT_OF_MEMORY: out of memory\n",
      "I0000 00:00:1745293297.649062    3928 cuda_executor.cc:479] failed to allocate 21.73TiB (23894186524672 bytes) from device: RESOURCE_EXHAUSTED: : CUDA_ERROR_OUT_OF_MEMORY: out of memory\n",
      "I0000 00:00:1745293297.692019    3928 cuda_executor.cc:479] failed to allocate 19.56TiB (21504767033344 bytes) from device: RESOURCE_EXHAUSTED: : CUDA_ERROR_OUT_OF_MEMORY: out of memory\n",
      "I0000 00:00:1745293297.723525    3928 cuda_executor.cc:479] failed to allocate 17.60TiB (19354290749440 bytes) from device: RESOURCE_EXHAUSTED: : CUDA_ERROR_OUT_OF_MEMORY: out of memory\n",
      "I0000 00:00:1745293297.749917    3928 cuda_executor.cc:479] failed to allocate 15.84TiB (17418861674496 bytes) from device: RESOURCE_EXHAUSTED: : CUDA_ERROR_OUT_OF_MEMORY: out of memory\n",
      "I0000 00:00:1745293297.772154    3928 cuda_executor.cc:479] failed to allocate 14.26TiB (15676975611904 bytes) from device: RESOURCE_EXHAUSTED: : CUDA_ERROR_OUT_OF_MEMORY: out of memory\n",
      "I0000 00:00:1745293297.791203    3928 cuda_executor.cc:479] failed to allocate 12.83TiB (14109277945856 bytes) from device: RESOURCE_EXHAUSTED: : CUDA_ERROR_OUT_OF_MEMORY: out of memory\n",
      "I0000 00:00:1745293297.807431    3928 cuda_executor.cc:479] failed to allocate 11.55TiB (12698349731840 bytes) from device: RESOURCE_EXHAUSTED: : CUDA_ERROR_OUT_OF_MEMORY: out of memory\n",
      "I0000 00:00:1745293297.819464    3928 cuda_executor.cc:479] failed to allocate 10.39TiB (11428514758656 bytes) from device: RESOURCE_EXHAUSTED: : CUDA_ERROR_OUT_OF_MEMORY: out of memory\n",
      "I0000 00:00:1745293297.829351    3928 cuda_executor.cc:479] failed to allocate 9.35TiB (10285663387648 bytes) from device: RESOURCE_EXHAUSTED: : CUDA_ERROR_OUT_OF_MEMORY: out of memory\n",
      "I0000 00:00:1745293297.837845    3928 cuda_executor.cc:479] failed to allocate 8.42TiB (9257096314880 bytes) from device: RESOURCE_EXHAUSTED: : CUDA_ERROR_OUT_OF_MEMORY: out of memory\n",
      "I0000 00:00:1745293297.845150    3928 cuda_executor.cc:479] failed to allocate 7.58TiB (8331386683392 bytes) from device: RESOURCE_EXHAUSTED: : CUDA_ERROR_OUT_OF_MEMORY: out of memory\n",
      "I0000 00:00:1745293297.851667    3928 cuda_executor.cc:479] failed to allocate 6.82TiB (7498247962624 bytes) from device: RESOURCE_EXHAUSTED: : CUDA_ERROR_OUT_OF_MEMORY: out of memory\n",
      "I0000 00:00:1745293297.856559    3928 cuda_executor.cc:479] failed to allocate 6.14TiB (6748422799360 bytes) from device: RESOURCE_EXHAUSTED: : CUDA_ERROR_OUT_OF_MEMORY: out of memory\n",
      "I0000 00:00:1745293297.860495    3928 cuda_executor.cc:479] failed to allocate 5.52TiB (6073580257280 bytes) from device: RESOURCE_EXHAUSTED: : CUDA_ERROR_OUT_OF_MEMORY: out of memory\n",
      "I0000 00:00:1745293297.863863    3928 cuda_executor.cc:479] failed to allocate 4.97TiB (5466221969408 bytes) from device: RESOURCE_EXHAUSTED: : CUDA_ERROR_OUT_OF_MEMORY: out of memory\n",
      "I0000 00:00:1745293297.866964    3928 cuda_executor.cc:479] failed to allocate 4.47TiB (4919599824896 bytes) from device: RESOURCE_EXHAUSTED: : CUDA_ERROR_OUT_OF_MEMORY: out of memory\n",
      "I0000 00:00:1745293297.869855    3928 cuda_executor.cc:479] failed to allocate 4.03TiB (4427639947264 bytes) from device: RESOURCE_EXHAUSTED: : CUDA_ERROR_OUT_OF_MEMORY: out of memory\n",
      "I0000 00:00:1745293297.872315    3928 cuda_executor.cc:479] failed to allocate 3.62TiB (3984875847680 bytes) from device: RESOURCE_EXHAUSTED: : CUDA_ERROR_OUT_OF_MEMORY: out of memory\n",
      "I0000 00:00:1745293297.874672    3928 cuda_executor.cc:479] failed to allocate 3.26TiB (3586388131840 bytes) from device: RESOURCE_EXHAUSTED: : CUDA_ERROR_OUT_OF_MEMORY: out of memory\n",
      "I0000 00:00:1745293297.876692    3928 cuda_executor.cc:479] failed to allocate 2.94TiB (3227749187584 bytes) from device: RESOURCE_EXHAUSTED: : CUDA_ERROR_OUT_OF_MEMORY: out of memory\n",
      "I0000 00:00:1745293297.878553    3928 cuda_executor.cc:479] failed to allocate 2.64TiB (2904974163968 bytes) from device: RESOURCE_EXHAUSTED: : CUDA_ERROR_OUT_OF_MEMORY: out of memory\n",
      "I0000 00:00:1745293297.880246    3928 cuda_executor.cc:479] failed to allocate 2.38TiB (2614476668928 bytes) from device: RESOURCE_EXHAUSTED: : CUDA_ERROR_OUT_OF_MEMORY: out of memory\n",
      "I0000 00:00:1745293297.881791    3928 cuda_executor.cc:479] failed to allocate 2.14TiB (2353028923392 bytes) from device: RESOURCE_EXHAUSTED: : CUDA_ERROR_OUT_OF_MEMORY: out of memory\n",
      "I0000 00:00:1745293297.883187    3928 cuda_executor.cc:479] failed to allocate 1.93TiB (2117725978624 bytes) from device: RESOURCE_EXHAUSTED: : CUDA_ERROR_OUT_OF_MEMORY: out of memory\n",
      "I0000 00:00:1745293297.884480    3928 cuda_executor.cc:479] failed to allocate 1.73TiB (1905953341440 bytes) from device: RESOURCE_EXHAUSTED: : CUDA_ERROR_OUT_OF_MEMORY: out of memory\n",
      "I0000 00:00:1745293297.885670    3928 cuda_executor.cc:479] failed to allocate 1.56TiB (1715358007296 bytes) from device: RESOURCE_EXHAUSTED: : CUDA_ERROR_OUT_OF_MEMORY: out of memory\n",
      "I0000 00:00:1745293297.886745    3928 cuda_executor.cc:479] failed to allocate 1.40TiB (1543822114816 bytes) from device: RESOURCE_EXHAUSTED: : CUDA_ERROR_OUT_OF_MEMORY: out of memory\n",
      "I0000 00:00:1745293297.887728    3928 cuda_executor.cc:479] failed to allocate 1.26TiB (1389439877120 bytes) from device: RESOURCE_EXHAUSTED: : CUDA_ERROR_OUT_OF_MEMORY: out of memory\n",
      "I0000 00:00:1745293297.888644    3928 cuda_executor.cc:479] failed to allocate 1.14TiB (1250495823872 bytes) from device: RESOURCE_EXHAUSTED: : CUDA_ERROR_OUT_OF_MEMORY: out of memory\n",
      "I0000 00:00:1745293297.889487    3928 cuda_executor.cc:479] failed to allocate 1.02TiB (1125446189056 bytes) from device: RESOURCE_EXHAUSTED: : CUDA_ERROR_OUT_OF_MEMORY: out of memory\n",
      "I0000 00:00:1745293297.890264    3928 cuda_executor.cc:479] failed to allocate 943.34GiB (1012901543936 bytes) from device: RESOURCE_EXHAUSTED: : CUDA_ERROR_OUT_OF_MEMORY: out of memory\n",
      "I0000 00:00:1745293297.891018    3928 cuda_executor.cc:479] failed to allocate 849.00GiB (911611396096 bytes) from device: RESOURCE_EXHAUSTED: : CUDA_ERROR_OUT_OF_MEMORY: out of memory\n",
      "I0000 00:00:1745293297.891807    3928 cuda_executor.cc:479] failed to allocate 764.10GiB (820450230272 bytes) from device: RESOURCE_EXHAUSTED: : CUDA_ERROR_OUT_OF_MEMORY: out of memory\n",
      "I0000 00:00:1745293297.892392    3928 cuda_executor.cc:479] failed to allocate 687.69GiB (738405187584 bytes) from device: RESOURCE_EXHAUSTED: : CUDA_ERROR_OUT_OF_MEMORY: out of memory\n",
      "I0000 00:00:1745293297.892928    3928 cuda_executor.cc:479] failed to allocate 618.92GiB (664564662272 bytes) from device: RESOURCE_EXHAUSTED: : CUDA_ERROR_OUT_OF_MEMORY: out of memory\n",
      "I0000 00:00:1745293297.893416    3928 cuda_executor.cc:479] failed to allocate 557.03GiB (598108209152 bytes) from device: RESOURCE_EXHAUSTED: : CUDA_ERROR_OUT_OF_MEMORY: out of memory\n",
      "I0000 00:00:1745293297.893868    3928 cuda_executor.cc:479] failed to allocate 501.33GiB (538297368576 bytes) from device: RESOURCE_EXHAUSTED: : CUDA_ERROR_OUT_OF_MEMORY: out of memory\n",
      "I0000 00:00:1745293297.894281    3928 cuda_executor.cc:479] failed to allocate 451.20GiB (484467605504 bytes) from device: RESOURCE_EXHAUSTED: : CUDA_ERROR_OUT_OF_MEMORY: out of memory\n",
      "I0000 00:00:1745293297.894673    3928 cuda_executor.cc:479] failed to allocate 406.08GiB (436020838400 bytes) from device: RESOURCE_EXHAUSTED: : CUDA_ERROR_OUT_OF_MEMORY: out of memory\n",
      "I0000 00:00:1745293297.895067    3928 cuda_executor.cc:479] failed to allocate 365.47GiB (392418754560 bytes) from device: RESOURCE_EXHAUSTED: : CUDA_ERROR_OUT_OF_MEMORY: out of memory\n",
      "I0000 00:00:1745293297.895422    3928 cuda_executor.cc:479] failed to allocate 328.92GiB (353176879104 bytes) from device: RESOURCE_EXHAUSTED: : CUDA_ERROR_OUT_OF_MEMORY: out of memory\n",
      "I0000 00:00:1745293297.895758    3928 cuda_executor.cc:479] failed to allocate 296.03GiB (317859168256 bytes) from device: RESOURCE_EXHAUSTED: : CUDA_ERROR_OUT_OF_MEMORY: out of memory\n",
      "I0000 00:00:1745293297.896113    3928 cuda_executor.cc:479] failed to allocate 266.43GiB (286073257984 bytes) from device: RESOURCE_EXHAUSTED: : CUDA_ERROR_OUT_OF_MEMORY: out of memory\n",
      "I0000 00:00:1745293297.896430    3928 cuda_executor.cc:479] failed to allocate 239.78GiB (257465925632 bytes) from device: RESOURCE_EXHAUSTED: : CUDA_ERROR_OUT_OF_MEMORY: out of memory\n",
      "I0000 00:00:1745293297.896733    3928 cuda_executor.cc:479] failed to allocate 215.80GiB (231719321600 bytes) from device: RESOURCE_EXHAUSTED: : CUDA_ERROR_OUT_OF_MEMORY: out of memory\n",
      "I0000 00:00:1745293297.897037    3928 cuda_executor.cc:479] failed to allocate 194.22GiB (208547381248 bytes) from device: RESOURCE_EXHAUSTED: : CUDA_ERROR_OUT_OF_MEMORY: out of memory\n",
      "I0000 00:00:1745293297.897321    3928 cuda_executor.cc:479] failed to allocate 174.80GiB (187692630016 bytes) from device: RESOURCE_EXHAUSTED: : CUDA_ERROR_OUT_OF_MEMORY: out of memory\n",
      "I0000 00:00:1745293297.897592    3928 cuda_executor.cc:479] failed to allocate 157.32GiB (168923365376 bytes) from device: RESOURCE_EXHAUSTED: : CUDA_ERROR_OUT_OF_MEMORY: out of memory\n",
      "I0000 00:00:1745293297.897872    3928 cuda_executor.cc:479] failed to allocate 141.59GiB (152031019008 bytes) from device: RESOURCE_EXHAUSTED: : CUDA_ERROR_OUT_OF_MEMORY: out of memory\n",
      "I0000 00:00:1745293297.898129    3928 cuda_executor.cc:479] failed to allocate 127.43GiB (136827912192 bytes) from device: RESOURCE_EXHAUSTED: : CUDA_ERROR_OUT_OF_MEMORY: out of memory\n",
      "I0000 00:00:1745293297.898387    3928 cuda_executor.cc:479] failed to allocate 114.69GiB (123145117696 bytes) from device: RESOURCE_EXHAUSTED: : CUDA_ERROR_OUT_OF_MEMORY: out of memory\n",
      "I0000 00:00:1745293297.898637    3928 cuda_executor.cc:479] failed to allocate 103.22GiB (110830600192 bytes) from device: RESOURCE_EXHAUSTED: : CUDA_ERROR_OUT_OF_MEMORY: out of memory\n",
      "I0000 00:00:1745293297.898897    3928 cuda_executor.cc:479] failed to allocate 92.90GiB (99747536896 bytes) from device: RESOURCE_EXHAUSTED: : CUDA_ERROR_OUT_OF_MEMORY: out of memory\n",
      "I0000 00:00:1745293297.899139    3928 cuda_executor.cc:479] failed to allocate 83.61GiB (89772777472 bytes) from device: RESOURCE_EXHAUSTED: : CUDA_ERROR_OUT_OF_MEMORY: out of memory\n",
      "I0000 00:00:1745293297.899373    3928 cuda_executor.cc:479] failed to allocate 75.25GiB (80795500544 bytes) from device: RESOURCE_EXHAUSTED: : CUDA_ERROR_OUT_OF_MEMORY: out of memory\n",
      "I0000 00:00:1745293297.899608    3928 cuda_executor.cc:479] failed to allocate 67.72GiB (72715952128 bytes) from device: RESOURCE_EXHAUSTED: : CUDA_ERROR_OUT_OF_MEMORY: out of memory\n",
      "I0000 00:00:1745293297.899852    3928 cuda_executor.cc:479] failed to allocate 60.95GiB (65444356096 bytes) from device: RESOURCE_EXHAUSTED: : CUDA_ERROR_OUT_OF_MEMORY: out of memory\n",
      "I0000 00:00:1745293297.900093    3928 cuda_executor.cc:479] failed to allocate 54.85GiB (58899918848 bytes) from device: RESOURCE_EXHAUSTED: : CUDA_ERROR_OUT_OF_MEMORY: out of memory\n",
      "I0000 00:00:1745293297.900344    3928 cuda_executor.cc:479] failed to allocate 49.37GiB (53009924096 bytes) from device: RESOURCE_EXHAUSTED: : CUDA_ERROR_OUT_OF_MEMORY: out of memory\n",
      "I0000 00:00:1745293297.900586    3928 cuda_executor.cc:479] failed to allocate 44.43GiB (47708930048 bytes) from device: RESOURCE_EXHAUSTED: : CUDA_ERROR_OUT_OF_MEMORY: out of memory\n",
      "I0000 00:00:1745293297.900833    3928 cuda_executor.cc:479] failed to allocate 39.99GiB (42938036224 bytes) from device: RESOURCE_EXHAUSTED: : CUDA_ERROR_OUT_OF_MEMORY: out of memory\n",
      "I0000 00:00:1745293297.901062    3928 cuda_executor.cc:479] failed to allocate 35.99GiB (38644232192 bytes) from device: RESOURCE_EXHAUSTED: : CUDA_ERROR_OUT_OF_MEMORY: out of memory\n",
      "I0000 00:00:1745293297.901279    3928 cuda_executor.cc:479] failed to allocate 32.39GiB (34779807744 bytes) from device: RESOURCE_EXHAUSTED: : CUDA_ERROR_OUT_OF_MEMORY: out of memory\n",
      "I0000 00:00:1745293297.901507    3928 cuda_executor.cc:479] failed to allocate 29.15GiB (31301826560 bytes) from device: RESOURCE_EXHAUSTED: : CUDA_ERROR_OUT_OF_MEMORY: out of memory\n",
      "I0000 00:00:1745293297.901727    3928 cuda_executor.cc:479] failed to allocate 26.24GiB (28171642880 bytes) from device: RESOURCE_EXHAUSTED: : CUDA_ERROR_OUT_OF_MEMORY: out of memory\n",
      "I0000 00:00:1745293297.901960    3928 cuda_executor.cc:479] failed to allocate 23.61GiB (25354477568 bytes) from device: RESOURCE_EXHAUSTED: : CUDA_ERROR_OUT_OF_MEMORY: out of memory\n",
      "2025-04-22 05:41:38.196781: I tensorflow/core/kernels/data/tf_record_dataset_op.cc:387] The default buffer size is 262144, which is overridden by the user specified `buffer_size` of 1048576\n",
      "2025-04-22 05:42:34.740828: W tensorflow/core/lib/png/png_io.cc:92] PNG warning: iCCP: profile 'ICC Profile': 'GRAY': Gray color space not permitted on RGB PNG\n",
      "2025-04-22 05:42:40.835497: I tensorflow/core/framework/local_rendezvous.cc:407] Local rendezvous is aborting with status: OUT_OF_RANGE: End of sequence\n"
     ]
    }
   ],
   "source": [
    "# Import Tensorflow Keras\n",
    "from tensorflow.keras.optimizers import Adam\n",
    "from tensorflow.keras.losses import BinaryCrossentropy\n",
    "from tensorflow.keras.callbacks import ReduceLROnPlateau, ModelCheckpoint\n",
    "\n",
    "# Import local modules\n",
    "from src.utils.consts import TF_RECORD_DATASET, MODELS_PATH, TF_BUFFER_SIZE, TF_SHUFFLE_SIZE, TF_BATCH_SIZE, TF_MAX_EPOCHS\n",
    "from src.model.tensorflow_utils import load_dataset, optimize_dataset, count_dataset_size, get_num_classes, get_metrics\n",
    "from src.model.tensorflow_utils import setup_logger, setup_training_logger, setup_metrics_monitor, setup_early_stopping\n",
    "from src.model.tensorflow_utils import start_or_resume_training, apply_augmentation_to_dataset, calculate_class_weights\n",
    "from src.model.densnet.tensorflow_dense_net_basic import build_densenet\n",
    "\n",
    "# Input Data\n",
    "initial_epoch   = None\n",
    "resume_training = False\n",
    "checkpoint_path = None\n",
    "set_name        = \"SimplifiedDenseNetV1\"\n",
    "model_name      = f\"{set_name}_3\"\n",
    "num_classes     = get_num_classes()\n",
    "\n",
    "train_ds = load_dataset(f\"{TF_RECORD_DATASET}/train.tfrecord\", TF_BUFFER_SIZE)\n",
    "val_ds   = load_dataset(f\"{TF_RECORD_DATASET}/val.tfrecord\", TF_BUFFER_SIZE)\n",
    "\n",
    "class_weights = calculate_class_weights(train_ds, num_classes)"
   ]
  },
  {
   "cell_type": "code",
   "execution_count": 3,
   "id": "5f152b8a-8ff8-4095-9815-e304ce2beb52",
   "metadata": {},
   "outputs": [
    {
     "name": "stderr",
     "output_type": "stream",
     "text": [
      "2025-04-22 05:43:14.016985: W tensorflow/core/lib/png/png_io.cc:92] PNG warning: iCCP: profile 'ICC Profile': 'GRAY': Gray color space not permitted on RGB PNG\n",
      "2025-04-22 05:43:17.530927: I tensorflow/core/framework/local_rendezvous.cc:407] Local rendezvous is aborting with status: OUT_OF_RANGE: End of sequence\n",
      "Counting samples: 71842 samples [00:36, 1958.14 samples/s]\n",
      "Counting samples: 15431 samples [00:13, 1147.12 samples/s]\n"
     ]
    }
   ],
   "source": [
    "steps_per_epoch  = int(count_dataset_size(train_ds, None) / TF_BATCH_SIZE)\n",
    "validation_steps = int(count_dataset_size(val_ds, None) / TF_BATCH_SIZE)\n",
    "\n",
    "# Disable Advanced Augmentations\n",
    "probability = {\n",
    "    \"intensity_scaling\": 0,\n",
    "    \"adaptive_histogram\": 0,\n",
    "    \"zoom\": 0,\n",
    "    \"cutout\": 0\n",
    "}\n",
    "\n",
    "train_ds = train_ds.shuffle(TF_SHUFFLE_SIZE, reshuffle_each_iteration=True)\n",
    "train_ds = apply_augmentation_to_dataset(train_ds, probability)\n",
    "train_ds = optimize_dataset(train_ds, TF_BATCH_SIZE)\n",
    "\n",
    "val_ds   = optimize_dataset(val_ds, TF_BATCH_SIZE)"
   ]
  },
  {
   "cell_type": "code",
   "execution_count": 4,
   "id": "3a0e37c9-b178-40d8-bd25-8c0a6498564a",
   "metadata": {},
   "outputs": [],
   "source": [
    "# Setup Model Deps\n",
    "logger            = setup_logger()\n",
    "training_logger   = setup_training_logger(logger, TF_BATCH_SIZE, 100)\n",
    "metrics_monitor   = setup_metrics_monitor(MODELS_PATH, model_name, logger, resume_training=resume_training, initial_epoch=initial_epoch)\n",
    "metrics           = get_metrics()\n",
    "\n",
    "# Setup compile arguments\n",
    "loss           = BinaryCrossentropy(from_logits=False)\n",
    "reduce_lr      = ReduceLROnPlateau(monitor=\"val_f1_score\", factor=0.5,  patience=3, min_lr=1e-6, mode=\"max\", verbose=1)\n",
    "early_stopping = setup_early_stopping()\n",
    "\n",
    "epoch_mode           = 'cp-{epoch:04d}'\n",
    "save_checkpoint_path = f\"{MODELS_PATH}/{model_name}/checkpoints/{epoch_mode}.keras\"\n",
    "checkpoint           = ModelCheckpoint(save_checkpoint_path, monitor=\"val_f1_score\", save_best_only=False, mode=\"max\")\n",
    "\n",
    "model_path      = f\"{MODELS_PATH}/{model_name}.keras\"\n",
    "best_checkpoint = ModelCheckpoint(model_path, monitor=\"val_f1_score\", save_best_only=True, mode=\"max\")"
   ]
  },
  {
   "cell_type": "code",
   "execution_count": 5,
   "id": "c44d4a9a-ffbb-4917-a702-c35773b9857c",
   "metadata": {},
   "outputs": [
    {
     "name": "stderr",
     "output_type": "stream",
     "text": [
      "2025-04-22 05:43:32 - INFO - \n",
      "=== Training Started ===\n",
      "\n",
      "2025-04-22 05:43:32 - INFO - Batch Size: 128\n",
      "2025-04-22 05:43:32 - INFO - Optimizer: Adam\n",
      "2025-04-22 05:43:32 - INFO - \n",
      "==================================================\n",
      "\n",
      "2025-04-22 05:43:32 - INFO - \n",
      "=== Starting Epoch 1 ===\n",
      "\n"
     ]
    },
    {
     "name": "stdout",
     "output_type": "stream",
     "text": [
      "Epoch 1/100\n"
     ]
    },
    {
     "name": "stderr",
     "output_type": "stream",
     "text": [
      "WARNING: All log messages before absl::InitializeLog() is called are written to STDERR\n",
      "I0000 00:00:1745293416.843944    3992 service.cc:152] XLA service 0x78c5f8003260 initialized for platform CUDA (this does not guarantee that XLA will be used). Devices:\n",
      "I0000 00:00:1745293416.843962    3992 service.cc:160]   StreamExecutor device (0): NVIDIA GeForce RTX 3090 Ti, Compute Capability 8.6\n",
      "I0000 00:00:1745293416.861726    3992 cuda_dnn.cc:529] Loaded cuDNN version 90300\n",
      "I0000 00:00:1745293416.941815    3992 device_compiler.h:188] Compiled cluster using XLA!  This line is logged at most once for the lifetime of the process.\n",
      "2025-04-22 05:43:52.876964: I tensorflow/core/kernels/data/shuffle_dataset_op.cc:452] ShuffleDatasetV3:13: Filling up shuffle buffer (this may take a while): 18929 of 25000\n",
      "2025-04-22 05:43:56.135590: I tensorflow/core/kernels/data/shuffle_dataset_op.cc:482] Shuffle buffer filled.\n",
      "2025-04-22 05:43:58.847653: I tensorflow/compiler/mlir/tensorflow/utils/dump_mlir_util.cc:269] disabling MLIR crash reproducer, set env var `MLIR_CRASH_REPRODUCER_DIRECTORY` to enable.\n"
     ]
    },
    {
     "name": "stdout",
     "output_type": "stream",
     "text": [
      "\u001b[1m306/561\u001b[0m \u001b[32m━━━━━━━━━━\u001b[0m\u001b[37m━━━━━━━━━━\u001b[0m \u001b[1m1:04\u001b[0m 253ms/step - accuracy: 0.8977 - auc: 0.5240 - f1_score: 0.0351 - loss: 0.7849 - precision: 0.1127 - recall: 0.0236"
     ]
    },
    {
     "name": "stderr",
     "output_type": "stream",
     "text": [
      "2025-04-22 05:46:22.929374: W tensorflow/core/lib/png/png_io.cc:92] PNG warning: iCCP: profile 'ICC Profile': 'GRAY': Gray color space not permitted on RGB PNG\n"
     ]
    },
    {
     "name": "stdout",
     "output_type": "stream",
     "text": [
      "\u001b[1m561/561\u001b[0m \u001b[32m━━━━━━━━━━━━━━━━━━━━\u001b[0m\u001b[37m\u001b[0m \u001b[1m0s\u001b[0m 249ms/step - accuracy: 0.9027 - auc: 0.5323 - f1_score: 0.0279 - loss: 0.7668 - precision: 0.1170 - recall: 0.0177  "
     ]
    },
    {
     "name": "stderr",
     "output_type": "stream",
     "text": [
      "2025-04-22 05:47:26.833217: W tensorflow/core/kernels/data/prefetch_autotuner.cc:52] Prefetch autotuner tried to allocate 113753600 bytes after encountering the first element of size 113753600 bytes.This already causes the autotune ram budget to be exceeded. To stay within the ram budget, either increase the ram budget or reduce element size\n",
      "2025-04-22 05:47:28.994959: I external/local_xla/xla/stream_executor/cuda/subprocess_compilation.cc:346] ptxas warning : Registers are spilled to local memory in function 'gemm_fusion_dot_2036', 76 bytes spill stores, 76 bytes spill loads\n",
      "\n",
      "2025-04-22 05:47:29.026343: I external/local_xla/xla/stream_executor/cuda/subprocess_compilation.cc:346] ptxas warning : Registers are spilled to local memory in function 'gemm_fusion_dot_2036', 212 bytes spill stores, 212 bytes spill loads\n",
      "\n",
      "2025-04-22 05:47:29.067807: I external/local_xla/xla/stream_executor/cuda/subprocess_compilation.cc:346] ptxas warning : Registers are spilled to local memory in function 'gemm_fusion_dot_2036_0', 188 bytes spill stores, 316 bytes spill loads\n",
      "\n",
      "2025-04-22 05:47:29.298917: I external/local_xla/xla/stream_executor/cuda/subprocess_compilation.cc:346] ptxas warning : Registers are spilled to local memory in function 'gemm_fusion_dot_2036', 3748 bytes spill stores, 3744 bytes spill loads\n",
      "\n",
      "2025-04-22 05:47:29.396973: I external/local_xla/xla/stream_executor/cuda/subprocess_compilation.cc:346] ptxas warning : Registers are spilled to local memory in function 'gemm_fusion_dot_2036', 3980 bytes spill stores, 3960 bytes spill loads\n",
      "\n",
      "2025-04-22 05:47:35.056775: I tensorflow/core/kernels/data/shuffle_dataset_op.cc:452] ShuffleDatasetV3:13: Filling up shuffle buffer (this may take a while): 10220 of 25000\n",
      "2025-04-22 05:47:54.152222: I tensorflow/core/kernels/data/shuffle_dataset_op.cc:482] Shuffle buffer filled.\n",
      "2025-04-22 05:47:55 - INFO - \n",
      "=== Epoch 1 Summary ===\n",
      "2025-04-22 05:47:55 - INFO - Time: 263.63s\n",
      "2025-04-22 05:47:55 - INFO - Training   - accuracy: 0.9093 - auc: 0.5442 - f1_score: 0.0176 - loss: 0.7327 - precision: 0.1229 - recall: 0.0097 - learning_rate: 0.0001\n",
      "2025-04-22 05:47:55 - INFO - Validation - accuracy: 0.9148 - auc: 0.6072 - f1_score: 0.0001 - loss: 0.7172 - precision: 0.3333 - recall: 0.0001\n",
      "2025-04-22 05:47:55 - INFO - ==================================================\n",
      "\n"
     ]
    },
    {
     "name": "stdout",
     "output_type": "stream",
     "text": [
      "\u001b[1m561/561\u001b[0m \u001b[32m━━━━━━━━━━━━━━━━━━━━\u001b[0m\u001b[37m\u001b[0m \u001b[1m264s\u001b[0m 304ms/step - accuracy: 0.9028 - auc: 0.5323 - f1_score: 0.0279 - loss: 0.7667 - precision: 0.1170 - recall: 0.0177 - val_accuracy: 0.9148 - val_auc: 0.6072 - val_f1_score: 1.0186e-04 - val_loss: 0.7172 - val_precision: 0.3333 - val_recall: 5.0963e-05 - learning_rate: 1.0000e-04\n"
     ]
    },
    {
     "name": "stderr",
     "output_type": "stream",
     "text": [
      "2025-04-22 05:47:56 - INFO - \n",
      "=== Starting Epoch 2 ===\n",
      "\n"
     ]
    },
    {
     "name": "stdout",
     "output_type": "stream",
     "text": [
      "Epoch 2/100\n"
     ]
    },
    {
     "name": "stderr",
     "output_type": "stream",
     "text": [
      "2025-04-22 05:48:43.016216: I external/local_xla/xla/stream_executor/cuda/subprocess_compilation.cc:346] ptxas warning : Registers are spilled to local memory in function 'input_reduce_transpose_fusion_58', 172 bytes spill stores, 156 bytes spill loads\n",
      "\n"
     ]
    },
    {
     "name": "stdout",
     "output_type": "stream",
     "text": [
      "\u001b[1m310/561\u001b[0m \u001b[32m━━━━━━━━━━━\u001b[0m\u001b[37m━━━━━━━━━\u001b[0m \u001b[1m1:03\u001b[0m 253ms/step - accuracy: 0.9121 - auc: 0.5678 - f1_score: 0.0090 - loss: 0.6541 - precision: 0.1273 - recall: 0.0048    "
     ]
    },
    {
     "name": "stderr",
     "output_type": "stream",
     "text": [
      "2025-04-22 05:50:01.377415: W tensorflow/core/lib/png/png_io.cc:92] PNG warning: iCCP: profile 'ICC Profile': 'GRAY': Gray color space not permitted on RGB PNG\n"
     ]
    },
    {
     "name": "stdout",
     "output_type": "stream",
     "text": [
      "\u001b[1m561/561\u001b[0m \u001b[32m━━━━━━━━━━━━━━━━━━━━\u001b[0m\u001b[37m\u001b[0m \u001b[1m0s\u001b[0m 249ms/step - accuracy: 0.9122 - auc: 0.5704 - f1_score: 0.0093 - loss: 0.6422 - precision: 0.1374 - recall: 0.0050  "
     ]
    },
    {
     "name": "stderr",
     "output_type": "stream",
     "text": [
      "2025-04-22 05:51:03.253431: W tensorflow/core/kernels/data/prefetch_autotuner.cc:52] Prefetch autotuner tried to allocate 113753600 bytes after encountering the first element of size 113753600 bytes.This already causes the autotune ram budget to be exceeded. To stay within the ram budget, either increase the ram budget or reduce element size\n",
      "2025-04-22 05:51:12.825029: I tensorflow/core/kernels/data/shuffle_dataset_op.cc:452] ShuffleDatasetV3:13: Filling up shuffle buffer (this may take a while): 7598 of 25000\n",
      "2025-04-22 05:51:22 - INFO - \n",
      "=== Epoch 2 Summary ===\n",
      "2025-04-22 05:51:22 - INFO - Time: 206.36s\n",
      "2025-04-22 05:51:22 - INFO - Training   - accuracy: 0.9124 - auc: 0.5753 - f1_score: 0.0097 - loss: 0.6164 - precision: 0.1538 - recall: 0.0052 - learning_rate: 0.0001\n",
      "2025-04-22 05:51:22 - INFO - Validation - accuracy: 0.9146 - auc: 0.6278 - f1_score: 0.0012 - loss: 0.6378 - precision: 0.1348 - recall: 0.0006\n",
      "2025-04-22 05:51:22 - INFO - ==================================================\n",
      "\n"
     ]
    },
    {
     "name": "stdout",
     "output_type": "stream",
     "text": [
      "\u001b[1m561/561\u001b[0m \u001b[32m━━━━━━━━━━━━━━━━━━━━\u001b[0m\u001b[37m\u001b[0m \u001b[1m207s\u001b[0m 284ms/step - accuracy: 0.9122 - auc: 0.5704 - f1_score: 0.0093 - loss: 0.6421 - precision: 0.1375 - recall: 0.0050 - val_accuracy: 0.9146 - val_auc: 0.6278 - val_f1_score: 0.0012 - val_loss: 0.6378 - val_precision: 0.1348 - val_recall: 6.1156e-04 - learning_rate: 1.0000e-04\n"
     ]
    },
    {
     "name": "stderr",
     "output_type": "stream",
     "text": [
      "2025-04-22 05:51:22 - INFO - \n",
      "=== Starting Epoch 3 ===\n",
      "\n"
     ]
    },
    {
     "name": "stdout",
     "output_type": "stream",
     "text": [
      "Epoch 3/100\n"
     ]
    },
    {
     "name": "stderr",
     "output_type": "stream",
     "text": [
      "2025-04-22 05:51:22.826997: I tensorflow/core/kernels/data/shuffle_dataset_op.cc:452] ShuffleDatasetV3:13: Filling up shuffle buffer (this may take a while): 19752 of 25000\n"
     ]
    },
    {
     "name": "stdout",
     "output_type": "stream",
     "text": [
      "\u001b[1m  2/561\u001b[0m \u001b[37m━━━━━━━━━━━━━━━━━━━━\u001b[0m \u001b[1m45s\u001b[0m 81ms/step - accuracy: 0.9097 - auc: 0.4595 - f1_score: 0.0096 - loss: 0.5899 - precision: 0.2500 - recall: 0.0052  "
     ]
    },
    {
     "name": "stderr",
     "output_type": "stream",
     "text": [
      "2025-04-22 05:51:26.067086: I tensorflow/core/kernels/data/shuffle_dataset_op.cc:482] Shuffle buffer filled.\n"
     ]
    },
    {
     "name": "stdout",
     "output_type": "stream",
     "text": [
      "\u001b[1m310/561\u001b[0m \u001b[32m━━━━━━━━━━━\u001b[0m\u001b[37m━━━━━━━━━\u001b[0m \u001b[1m1:07\u001b[0m 270ms/step - accuracy: 0.9124 - auc: 0.5791 - f1_score: 0.0102 - loss: 0.5540 - precision: 0.1679 - recall: 0.0055"
     ]
    },
    {
     "name": "stderr",
     "output_type": "stream",
     "text": [
      "2025-04-22 05:52:46.286395: W tensorflow/core/lib/png/png_io.cc:92] PNG warning: iCCP: profile 'ICC Profile': 'GRAY': Gray color space not permitted on RGB PNG\n"
     ]
    },
    {
     "name": "stdout",
     "output_type": "stream",
     "text": [
      "\u001b[1m561/561\u001b[0m \u001b[32m━━━━━━━━━━━━━━━━━━━━\u001b[0m\u001b[37m\u001b[0m \u001b[1m0s\u001b[0m 259ms/step - accuracy: 0.9125 - auc: 0.5827 - f1_score: 0.0100 - loss: 0.5459 - precision: 0.1706 - recall: 0.0054  "
     ]
    },
    {
     "name": "stderr",
     "output_type": "stream",
     "text": [
      "2025-04-22 05:53:48.206387: W tensorflow/core/kernels/data/prefetch_autotuner.cc:52] Prefetch autotuner tried to allocate 133676544 bytes after encountering the first element of size 133676544 bytes.This already causes the autotune ram budget to be exceeded. To stay within the ram budget, either increase the ram budget or reduce element size\n",
      "2025-04-22 05:53:48.207090: W tensorflow/core/kernels/data/prefetch_autotuner.cc:52] Prefetch autotuner tried to allocate 133676544 bytes after encountering the first element of size 133676544 bytes.This already causes the autotune ram budget to be exceeded. To stay within the ram budget, either increase the ram budget or reduce element size\n",
      "2025-04-22 05:53:57.298960: I tensorflow/core/kernels/data/shuffle_dataset_op.cc:452] ShuffleDatasetV3:13: Filling up shuffle buffer (this may take a while): 6852 of 25000\n",
      "2025-04-22 05:54:02 - INFO - \n",
      "=== Epoch 3 Summary ===\n",
      "2025-04-22 05:54:02 - INFO - Time: 160.32s\n",
      "2025-04-22 05:54:02 - INFO - Training   - accuracy: 0.9128 - auc: 0.5908 - f1_score: 0.0095 - loss: 0.5285 - precision: 0.1750 - recall: 0.0050 - learning_rate: 0.0001\n",
      "2025-04-22 05:54:02 - INFO - Validation - accuracy: 0.9141 - auc: 0.6236 - f1_score: 0.0001 - loss: 0.5634 - precision: 0.0058 - recall: 0.0001\n",
      "2025-04-22 05:54:02 - INFO - ==================================================\n",
      "\n"
     ]
    },
    {
     "name": "stdout",
     "output_type": "stream",
     "text": [
      "\u001b[1m561/561\u001b[0m \u001b[32m━━━━━━━━━━━━━━━━━━━━\u001b[0m\u001b[37m\u001b[0m \u001b[1m160s\u001b[0m 286ms/step - accuracy: 0.9125 - auc: 0.5827 - f1_score: 0.0100 - loss: 0.5458 - precision: 0.1706 - recall: 0.0054 - val_accuracy: 0.9141 - val_auc: 0.6236 - val_f1_score: 9.8162e-05 - val_loss: 0.5634 - val_precision: 0.0058 - val_recall: 5.0963e-05 - learning_rate: 1.0000e-04\n"
     ]
    },
    {
     "name": "stderr",
     "output_type": "stream",
     "text": [
      "2025-04-22 05:54:02 - INFO - \n",
      "=== Starting Epoch 4 ===\n",
      "\n"
     ]
    },
    {
     "name": "stdout",
     "output_type": "stream",
     "text": [
      "Epoch 4/100\n",
      "\u001b[1m  3/561\u001b[0m \u001b[37m━━━━━━━━━━━━━━━━━━━━\u001b[0m \u001b[1m1:29\u001b[0m 160ms/step - accuracy: 0.9115 - auc: 0.5416 - f1_score: 0.0151 - loss: 0.4793 - precision: 0.2436 - recall: 0.0096"
     ]
    },
    {
     "name": "stderr",
     "output_type": "stream",
     "text": [
      "2025-04-22 05:54:07.299503: I tensorflow/core/kernels/data/shuffle_dataset_op.cc:452] ShuffleDatasetV3:13: Filling up shuffle buffer (this may take a while): 18301 of 25000\n",
      "2025-04-22 05:54:11.868472: I tensorflow/core/kernels/data/shuffle_dataset_op.cc:482] Shuffle buffer filled.\n"
     ]
    },
    {
     "name": "stdout",
     "output_type": "stream",
     "text": [
      "\u001b[1m304/561\u001b[0m \u001b[32m━━━━━━━━━━\u001b[0m\u001b[37m━━━━━━━━━━\u001b[0m \u001b[1m1:15\u001b[0m 294ms/step - accuracy: 0.9132 - auc: 0.5904 - f1_score: 0.0078 - loss: 0.4792 - precision: 0.1885 - recall: 0.0042"
     ]
    },
    {
     "name": "stderr",
     "output_type": "stream",
     "text": [
      "2025-04-22 05:55:32.398291: W tensorflow/core/lib/png/png_io.cc:92] PNG warning: iCCP: profile 'ICC Profile': 'GRAY': Gray color space not permitted on RGB PNG\n"
     ]
    },
    {
     "name": "stdout",
     "output_type": "stream",
     "text": [
      "\u001b[1m561/561\u001b[0m \u001b[32m━━━━━━━━━━━━━━━━━━━━\u001b[0m\u001b[37m\u001b[0m \u001b[1m0s\u001b[0m 272ms/step - accuracy: 0.9132 - auc: 0.5928 - f1_score: 0.0081 - loss: 0.4732 - precision: 0.1911 - recall: 0.0043  "
     ]
    },
    {
     "name": "stderr",
     "output_type": "stream",
     "text": [
      "2025-04-22 05:56:35.650329: W tensorflow/core/kernels/data/prefetch_autotuner.cc:52] Prefetch autotuner tried to allocate 77078016 bytes after encountering the first element of size 77078016 bytes.This already causes the autotune ram budget to be exceeded. To stay within the ram budget, either increase the ram budget or reduce element size\n",
      "2025-04-22 05:56:44.068165: I tensorflow/core/kernels/data/shuffle_dataset_op.cc:452] ShuffleDatasetV3:13: Filling up shuffle buffer (this may take a while): 6522 of 25000\n",
      "2025-04-22 05:56:50 - INFO - \n",
      "=== Epoch 4 Summary ===\n",
      "2025-04-22 05:56:50 - INFO - Time: 167.76s\n",
      "2025-04-22 05:56:50 - INFO - Training   - accuracy: 0.9131 - auc: 0.5980 - f1_score: 0.0093 - loss: 0.4599 - precision: 0.1946 - recall: 0.0049 - learning_rate: 0.0001\n",
      "2025-04-22 05:56:50 - INFO - Validation - accuracy: 0.9145 - auc: 0.6443 - f1_score: 0.0022 - loss: 0.4946 - precision: 0.1756 - recall: 0.0012\n",
      "2025-04-22 05:56:50 - INFO - ==================================================\n",
      "\n"
     ]
    },
    {
     "name": "stdout",
     "output_type": "stream",
     "text": [
      "\u001b[1m561/561\u001b[0m \u001b[32m━━━━━━━━━━━━━━━━━━━━\u001b[0m\u001b[37m\u001b[0m \u001b[1m168s\u001b[0m 299ms/step - accuracy: 0.9132 - auc: 0.5928 - f1_score: 0.0081 - loss: 0.4732 - precision: 0.1911 - recall: 0.0043 - val_accuracy: 0.9145 - val_auc: 0.6443 - val_f1_score: 0.0022 - val_loss: 0.4946 - val_precision: 0.1756 - val_recall: 0.0012 - learning_rate: 1.0000e-04\n"
     ]
    },
    {
     "name": "stderr",
     "output_type": "stream",
     "text": [
      "2025-04-22 05:56:50 - INFO - \n",
      "=== Starting Epoch 5 ===\n",
      "\n"
     ]
    },
    {
     "name": "stdout",
     "output_type": "stream",
     "text": [
      "Epoch 5/100\n",
      "\u001b[1m  4/561\u001b[0m \u001b[37m━━━━━━━━━━━━━━━━━━━━\u001b[0m \u001b[1m1:41\u001b[0m 183ms/step - accuracy: 0.9109 - auc: 0.5659 - f1_score: 0.0231 - loss: 0.4067 - precision: 0.2591 - recall: 0.0142"
     ]
    },
    {
     "name": "stderr",
     "output_type": "stream",
     "text": [
      "2025-04-22 05:57:02.725950: I tensorflow/core/kernels/data/shuffle_dataset_op.cc:482] Shuffle buffer filled.\n"
     ]
    },
    {
     "name": "stdout",
     "output_type": "stream",
     "text": [
      "\u001b[1m299/561\u001b[0m \u001b[32m━━━━━━━━━━\u001b[0m\u001b[37m━━━━━━━━━━\u001b[0m \u001b[1m1:16\u001b[0m 293ms/step - accuracy: 0.9127 - auc: 0.6095 - f1_score: 0.0136 - loss: 0.4251 - precision: 0.2321 - recall: 0.0075"
     ]
    },
    {
     "name": "stderr",
     "output_type": "stream",
     "text": [
      "2025-04-22 05:58:18.334997: W tensorflow/core/lib/png/png_io.cc:92] PNG warning: iCCP: profile 'ICC Profile': 'GRAY': Gray color space not permitted on RGB PNG\n"
     ]
    },
    {
     "name": "stdout",
     "output_type": "stream",
     "text": [
      "\u001b[1m503/561\u001b[0m \u001b[32m━━━━━━━━━━━━━━━━━\u001b[0m\u001b[37m━━━\u001b[0m \u001b[1m15s\u001b[0m 275ms/step - accuracy: 0.9129 - auc: 0.6096 - f1_score: 0.0127 - loss: 0.4204 - precision: 0.2314 - recall: 0.0069 "
     ]
    },
    {
     "name": "stderr",
     "output_type": "stream",
     "text": [
      "2025-04-22 05:59:10.069255: W external/local_xla/xla/stream_executor/integrations/stream_executor_allocator.cc:50] could not allocate pinned host memory of size: 4294967296\n",
      "2025-04-22 05:59:10.893698: W external/local_xla/xla/stream_executor/integrations/stream_executor_allocator.cc:50] could not allocate pinned host memory of size: 3865470464\n",
      "2025-04-22 05:59:11.709960: W external/local_xla/xla/stream_executor/integrations/stream_executor_allocator.cc:50] could not allocate pinned host memory of size: 3478923264\n",
      "2025-04-22 05:59:12.400331: W external/local_xla/xla/stream_executor/integrations/stream_executor_allocator.cc:50] could not allocate pinned host memory of size: 3131030784\n",
      "2025-04-22 05:59:13.065702: W external/local_xla/xla/stream_executor/integrations/stream_executor_allocator.cc:50] could not allocate pinned host memory of size: 2817927680\n",
      "2025-04-22 05:59:13.662905: W external/local_xla/xla/stream_executor/integrations/stream_executor_allocator.cc:50] could not allocate pinned host memory of size: 2536134912\n",
      "2025-04-22 05:59:14.187120: W external/local_xla/xla/stream_executor/integrations/stream_executor_allocator.cc:50] could not allocate pinned host memory of size: 2282521344\n"
     ]
    },
    {
     "name": "stdout",
     "output_type": "stream",
     "text": [
      "\u001b[1m560/561\u001b[0m \u001b[32m━━━━━━━━━━━━━━━━━━━\u001b[0m\u001b[37m━\u001b[0m \u001b[1m0s\u001b[0m 281ms/step - accuracy: 0.9129 - auc: 0.6098 - f1_score: 0.0127 - loss: 0.4189 - precision: 0.2321 - recall: 0.0069 "
     ]
    },
    {
     "name": "stderr",
     "output_type": "stream",
     "text": [
      "2025-04-22 05:59:28.314672: I tensorflow/core/kernels/data/shuffle_dataset_op.cc:452] ShuffleDatasetV3:13: Filling up shuffle buffer (this may take a while): 9221 of 25000\n"
     ]
    },
    {
     "name": "stdout",
     "output_type": "stream",
     "text": [
      "\u001b[1m561/561\u001b[0m \u001b[32m━━━━━━━━━━━━━━━━━━━━\u001b[0m\u001b[37m\u001b[0m \u001b[1m0s\u001b[0m 281ms/step - accuracy: 0.9129 - auc: 0.6098 - f1_score: 0.0127 - loss: 0.4189 - precision: 0.2321 - recall: 0.0069"
     ]
    },
    {
     "name": "stderr",
     "output_type": "stream",
     "text": [
      "2025-04-22 05:59:29.024287: W tensorflow/core/kernels/data/prefetch_autotuner.cc:52] Prefetch autotuner tried to allocate 134225408 bytes after encountering the first element of size 134225408 bytes.This already causes the autotune ram budget to be exceeded. To stay within the ram budget, either increase the ram budget or reduce element size\n",
      "2025-04-22 05:59:48.311866: I tensorflow/core/kernels/data/shuffle_dataset_op.cc:452] ShuffleDatasetV3:13: Filling up shuffle buffer (this may take a while): 19560 of 25000\n",
      "2025-04-22 05:59:58.326100: I tensorflow/core/kernels/data/shuffle_dataset_op.cc:452] ShuffleDatasetV3:13: Filling up shuffle buffer (this may take a while): 23297 of 25000\n",
      "2025-04-22 06:00:03.598021: I tensorflow/core/kernels/data/shuffle_dataset_op.cc:482] Shuffle buffer filled.\n",
      "2025-04-22 06:00:14 - INFO - \n",
      "=== Epoch 5 Summary ===\n",
      "2025-04-22 06:00:15 - INFO - Time: 203.74s\n",
      "2025-04-22 06:00:15 - INFO - Training   - accuracy: 0.9131 - auc: 0.6115 - f1_score: 0.0125 - loss: 0.4052 - precision: 0.2365 - recall: 0.0068 - learning_rate: 0.0001\n",
      "2025-04-22 06:00:15 - INFO - Validation - accuracy: 0.9128 - auc: 0.6329 - f1_score: 0.0117 - loss: 0.4716 - precision: 0.1797 - recall: 0.0066\n",
      "2025-04-22 06:00:15 - INFO - ==================================================\n",
      "\n"
     ]
    },
    {
     "name": "stdout",
     "output_type": "stream",
     "text": [
      "\u001b[1m561/561\u001b[0m \u001b[32m━━━━━━━━━━━━━━━━━━━━\u001b[0m\u001b[37m\u001b[0m \u001b[1m204s\u001b[0m 365ms/step - accuracy: 0.9129 - auc: 0.6098 - f1_score: 0.0127 - loss: 0.4188 - precision: 0.2321 - recall: 0.0069 - val_accuracy: 0.9128 - val_auc: 0.6329 - val_f1_score: 0.0117 - val_loss: 0.4716 - val_precision: 0.1797 - val_recall: 0.0066 - learning_rate: 1.0000e-04\n"
     ]
    },
    {
     "name": "stderr",
     "output_type": "stream",
     "text": [
      "2025-04-22 06:00:15 - INFO - \n",
      "=== Starting Epoch 6 ===\n",
      "\n"
     ]
    },
    {
     "name": "stdout",
     "output_type": "stream",
     "text": [
      "Epoch 6/100\n",
      "\u001b[1m316/561\u001b[0m \u001b[32m━━━━━━━━━━━\u001b[0m\u001b[37m━━━━━━━━━\u001b[0m \u001b[1m1:08\u001b[0m 281ms/step - accuracy: 0.9127 - auc: 0.6113 - f1_score: 0.0097 - loss: 0.3752 - precision: 0.1813 - recall: 0.0053"
     ]
    },
    {
     "name": "stderr",
     "output_type": "stream",
     "text": [
      "2025-04-22 06:01:43.957555: W tensorflow/core/lib/png/png_io.cc:92] PNG warning: iCCP: profile 'ICC Profile': 'GRAY': Gray color space not permitted on RGB PNG\n"
     ]
    },
    {
     "name": "stdout",
     "output_type": "stream",
     "text": [
      "\u001b[1m545/561\u001b[0m \u001b[32m━━━━━━━━━━━━━━━━━━━\u001b[0m\u001b[37m━\u001b[0m \u001b[1m4s\u001b[0m 270ms/step - accuracy: 0.9128 - auc: 0.6135 - f1_score: 0.0097 - loss: 0.3720 - precision: 0.1898 - recall: 0.0052  "
     ]
    },
    {
     "name": "stderr",
     "output_type": "stream",
     "text": [
      "2025-04-22 06:02:42.206396: I tensorflow/core/kernels/data/shuffle_dataset_op.cc:452] ShuffleDatasetV3:13: Filling up shuffle buffer (this may take a while): 8139 of 25000\n"
     ]
    },
    {
     "name": "stdout",
     "output_type": "stream",
     "text": [
      "\u001b[1m561/561\u001b[0m \u001b[32m━━━━━━━━━━━━━━━━━━━━\u001b[0m\u001b[37m\u001b[0m \u001b[1m0s\u001b[0m 269ms/step - accuracy: 0.9128 - auc: 0.6136 - f1_score: 0.0097 - loss: 0.3718 - precision: 0.1902 - recall: 0.0052"
     ]
    },
    {
     "name": "stderr",
     "output_type": "stream",
     "text": [
      "2025-04-22 06:02:46.937964: W tensorflow/core/kernels/data/prefetch_autotuner.cc:52] Prefetch autotuner tried to allocate 134225408 bytes after encountering the first element of size 134225408 bytes.This already causes the autotune ram budget to be exceeded. To stay within the ram budget, either increase the ram budget or reduce element size\n",
      "2025-04-22 06:02:52.208294: I tensorflow/core/kernels/data/shuffle_dataset_op.cc:452] ShuffleDatasetV3:13: Filling up shuffle buffer (this may take a while): 13930 of 25000\n",
      "2025-04-22 06:03:02.213059: I tensorflow/core/kernels/data/shuffle_dataset_op.cc:452] ShuffleDatasetV3:13: Filling up shuffle buffer (this may take a while): 17468 of 25000\n",
      "2025-04-22 06:03:14 - INFO - \n",
      "=== Epoch 6 Summary ===\n",
      "2025-04-22 06:03:14 - INFO - Time: 178.74s\n",
      "2025-04-22 06:03:14 - INFO - Training   - accuracy: 0.9132 - auc: 0.6175 - f1_score: 0.0093 - loss: 0.3636 - precision: 0.2042 - recall: 0.0050 - learning_rate: 0.0001\n",
      "2025-04-22 06:03:14 - INFO - Validation - accuracy: 0.9148 - auc: 0.6587 - f1_score: 0.0000 - loss: 0.4170 - precision: 0.0000 - recall: 0.0000\n",
      "2025-04-22 06:03:14 - INFO - ==================================================\n",
      "\n"
     ]
    },
    {
     "name": "stdout",
     "output_type": "stream",
     "text": [
      "\u001b[1m561/561\u001b[0m \u001b[32m━━━━━━━━━━━━━━━━━━━━\u001b[0m\u001b[37m\u001b[0m \u001b[1m179s\u001b[0m 319ms/step - accuracy: 0.9128 - auc: 0.6136 - f1_score: 0.0097 - loss: 0.3718 - precision: 0.1902 - recall: 0.0052 - val_accuracy: 0.9148 - val_auc: 0.6587 - val_f1_score: 0.0000e+00 - val_loss: 0.4170 - val_precision: 0.0000e+00 - val_recall: 0.0000e+00 - learning_rate: 1.0000e-04\n"
     ]
    },
    {
     "name": "stderr",
     "output_type": "stream",
     "text": [
      "2025-04-22 06:03:14 - INFO - \n",
      "=== Starting Epoch 7 ===\n",
      "\n"
     ]
    },
    {
     "name": "stdout",
     "output_type": "stream",
     "text": [
      "Epoch 7/100\n",
      "\u001b[1m  3/561\u001b[0m \u001b[37m━━━━━━━━━━━━━━━━━━━━\u001b[0m \u001b[1m2:11\u001b[0m 236ms/step - accuracy: 0.9102 - auc: 0.5529 - f1_score: 0.0063 - loss: 0.4016 - precision: 0.0710 - recall: 0.0044"
     ]
    },
    {
     "name": "stderr",
     "output_type": "stream",
     "text": [
      "2025-04-22 06:03:14.701708: I tensorflow/core/kernels/data/shuffle_dataset_op.cc:482] Shuffle buffer filled.\n"
     ]
    },
    {
     "name": "stdout",
     "output_type": "stream",
     "text": [
      "\u001b[1m317/561\u001b[0m \u001b[32m━━━━━━━━━━━\u001b[0m\u001b[37m━━━━━━━━━\u001b[0m \u001b[1m1:04\u001b[0m 265ms/step - accuracy: 0.9129 - auc: 0.6159 - f1_score: 0.0099 - loss: 0.3439 - precision: 0.2052 - recall: 0.0053"
     ]
    },
    {
     "name": "stderr",
     "output_type": "stream",
     "text": [
      "2025-04-22 06:04:37.857001: W tensorflow/core/lib/png/png_io.cc:92] PNG warning: iCCP: profile 'ICC Profile': 'GRAY': Gray color space not permitted on RGB PNG\n"
     ]
    },
    {
     "name": "stdout",
     "output_type": "stream",
     "text": [
      "\u001b[1m546/561\u001b[0m \u001b[32m━━━━━━━━━━━━━━━━━━━\u001b[0m\u001b[37m━\u001b[0m \u001b[1m3s\u001b[0m 259ms/step - accuracy: 0.9130 - auc: 0.6161 - f1_score: 0.0099 - loss: 0.3397 - precision: 0.2087 - recall: 0.0053  "
     ]
    },
    {
     "name": "stderr",
     "output_type": "stream",
     "text": [
      "2025-04-22 06:05:35.001477: I tensorflow/core/kernels/data/shuffle_dataset_op.cc:452] ShuffleDatasetV3:13: Filling up shuffle buffer (this may take a while): 9319 of 25000\n"
     ]
    },
    {
     "name": "stdout",
     "output_type": "stream",
     "text": [
      "\u001b[1m561/561\u001b[0m \u001b[32m━━━━━━━━━━━━━━━━━━━━\u001b[0m\u001b[37m\u001b[0m \u001b[1m0s\u001b[0m 258ms/step - accuracy: 0.9130 - auc: 0.6161 - f1_score: 0.0099 - loss: 0.3395 - precision: 0.2087 - recall: 0.0053"
     ]
    },
    {
     "name": "stderr",
     "output_type": "stream",
     "text": [
      "2025-04-22 06:05:39.189267: W tensorflow/core/kernels/data/prefetch_autotuner.cc:52] Prefetch autotuner tried to allocate 134225408 bytes after encountering the first element of size 134225408 bytes.This already causes the autotune ram budget to be exceeded. To stay within the ram budget, either increase the ram budget or reduce element size\n",
      "2025-04-22 06:05:54.996880: I tensorflow/core/kernels/data/shuffle_dataset_op.cc:452] ShuffleDatasetV3:13: Filling up shuffle buffer (this may take a while): 19167 of 25000\n",
      "2025-04-22 06:06:05.001426: I tensorflow/core/kernels/data/shuffle_dataset_op.cc:452] ShuffleDatasetV3:13: Filling up shuffle buffer (this may take a while): 24859 of 25000\n",
      "2025-04-22 06:06:05.121977: I tensorflow/core/kernels/data/shuffle_dataset_op.cc:482] Shuffle buffer filled.\n",
      "2025-04-22 06:06:06 - INFO - \n",
      "=== Epoch 7 Summary ===\n",
      "2025-04-22 06:06:06 - INFO - Time: 172.03s\n",
      "2025-04-22 06:06:06 - INFO - Training   - accuracy: 0.9131 - auc: 0.6170 - f1_score: 0.0095 - loss: 0.3323 - precision: 0.2063 - recall: 0.0051 - learning_rate: 0.0001\n",
      "2025-04-22 06:06:06 - INFO - Validation - accuracy: 0.9148 - auc: 0.6503 - f1_score: 0.0000 - loss: 0.3959 - precision: 0.0000 - recall: 0.0000\n",
      "2025-04-22 06:06:06 - INFO - ==================================================\n",
      "\n"
     ]
    },
    {
     "name": "stdout",
     "output_type": "stream",
     "text": [
      "\u001b[1m561/561\u001b[0m \u001b[32m━━━━━━━━━━━━━━━━━━━━\u001b[0m\u001b[37m\u001b[0m \u001b[1m172s\u001b[0m 307ms/step - accuracy: 0.9130 - auc: 0.6161 - f1_score: 0.0099 - loss: 0.3395 - precision: 0.2087 - recall: 0.0053 - val_accuracy: 0.9148 - val_auc: 0.6503 - val_f1_score: 0.0000e+00 - val_loss: 0.3959 - val_precision: 0.0000e+00 - val_recall: 0.0000e+00 - learning_rate: 1.0000e-04\n"
     ]
    },
    {
     "name": "stderr",
     "output_type": "stream",
     "text": [
      "2025-04-22 06:06:06 - INFO - \n",
      "=== Starting Epoch 8 ===\n",
      "\n"
     ]
    },
    {
     "name": "stdout",
     "output_type": "stream",
     "text": [
      "Epoch 8/100\n",
      "\u001b[1m318/561\u001b[0m \u001b[32m━━━━━━━━━━━\u001b[0m\u001b[37m━━━━━━━━━\u001b[0m \u001b[1m1:04\u001b[0m 264ms/step - accuracy: 0.9130 - auc: 0.6246 - f1_score: 0.0090 - loss: 0.3162 - precision: 0.2249 - recall: 0.0049   "
     ]
    },
    {
     "name": "stderr",
     "output_type": "stream",
     "text": [
      "2025-04-22 06:07:29.888902: W tensorflow/core/lib/png/png_io.cc:92] PNG warning: iCCP: profile 'ICC Profile': 'GRAY': Gray color space not permitted on RGB PNG\n"
     ]
    },
    {
     "name": "stdout",
     "output_type": "stream",
     "text": [
      "\u001b[1m547/561\u001b[0m \u001b[32m━━━━━━━━━━━━━━━━━━━\u001b[0m\u001b[37m━\u001b[0m \u001b[1m3s\u001b[0m 258ms/step - accuracy: 0.9131 - auc: 0.6243 - f1_score: 0.0089 - loss: 0.3132 - precision: 0.2188 - recall: 0.0048  "
     ]
    },
    {
     "name": "stderr",
     "output_type": "stream",
     "text": [
      "2025-04-22 06:08:27.010138: I tensorflow/core/kernels/data/shuffle_dataset_op.cc:452] ShuffleDatasetV3:13: Filling up shuffle buffer (this may take a while): 9586 of 25000\n"
     ]
    },
    {
     "name": "stdout",
     "output_type": "stream",
     "text": [
      "\u001b[1m561/561\u001b[0m \u001b[32m━━━━━━━━━━━━━━━━━━━━\u001b[0m\u001b[37m\u001b[0m \u001b[1m0s\u001b[0m 258ms/step - accuracy: 0.9131 - auc: 0.6243 - f1_score: 0.0090 - loss: 0.3131 - precision: 0.2187 - recall: 0.0048"
     ]
    },
    {
     "name": "stderr",
     "output_type": "stream",
     "text": [
      "2025-04-22 06:08:47.013165: I tensorflow/core/kernels/data/shuffle_dataset_op.cc:452] ShuffleDatasetV3:13: Filling up shuffle buffer (this may take a while): 20229 of 25000\n",
      "2025-04-22 06:08:55.950273: I tensorflow/core/kernels/data/shuffle_dataset_op.cc:482] Shuffle buffer filled.\n"
     ]
    },
    {
     "name": "stdout",
     "output_type": "stream",
     "text": [
      "\n",
      "Epoch 8: ReduceLROnPlateau reducing learning rate to 4.999999873689376e-05.\n"
     ]
    },
    {
     "name": "stderr",
     "output_type": "stream",
     "text": [
      "2025-04-22 06:08:57 - INFO - \n",
      "=== Epoch 8 Summary ===\n",
      "2025-04-22 06:08:57 - INFO - Time: 171.85s\n",
      "2025-04-22 06:08:57 - INFO - Training   - accuracy: 0.9132 - auc: 0.6241 - f1_score: 0.0093 - loss: 0.3072 - precision: 0.2183 - recall: 0.0050 - learning_rate: 0.0001\n",
      "2025-04-22 06:08:57 - INFO - Validation - accuracy: 0.9147 - auc: 0.6619 - f1_score: 0.0009 - loss: 0.3651 - precision: 0.2195 - recall: 0.0005\n",
      "2025-04-22 06:08:57 - INFO - ==================================================\n",
      "\n"
     ]
    },
    {
     "name": "stdout",
     "output_type": "stream",
     "text": [
      "\u001b[1m561/561\u001b[0m \u001b[32m━━━━━━━━━━━━━━━━━━━━\u001b[0m\u001b[37m\u001b[0m \u001b[1m172s\u001b[0m 306ms/step - accuracy: 0.9131 - auc: 0.6243 - f1_score: 0.0090 - loss: 0.3131 - precision: 0.2187 - recall: 0.0048 - val_accuracy: 0.9147 - val_auc: 0.6619 - val_f1_score: 9.0594e-04 - val_loss: 0.3651 - val_precision: 0.2195 - val_recall: 4.5867e-04 - learning_rate: 1.0000e-04\n"
     ]
    },
    {
     "name": "stderr",
     "output_type": "stream",
     "text": [
      "2025-04-22 06:08:57 - INFO - \n",
      "=== Starting Epoch 9 ===\n",
      "\n"
     ]
    },
    {
     "name": "stdout",
     "output_type": "stream",
     "text": [
      "Epoch 9/100\n",
      "\u001b[1m319/561\u001b[0m \u001b[32m━━━━━━━━━━━\u001b[0m\u001b[37m━━━━━━━━━\u001b[0m \u001b[1m1:00\u001b[0m 251ms/step - accuracy: 0.9136 - auc: 0.6370 - f1_score: 0.0114 - loss: 0.2881 - precision: 0.2416 - recall: 0.0062"
     ]
    },
    {
     "name": "stderr",
     "output_type": "stream",
     "text": [
      "2025-04-22 06:10:17.787794: W tensorflow/core/lib/png/png_io.cc:92] PNG warning: iCCP: profile 'ICC Profile': 'GRAY': Gray color space not permitted on RGB PNG\n"
     ]
    },
    {
     "name": "stdout",
     "output_type": "stream",
     "text": [
      "\u001b[1m559/561\u001b[0m \u001b[32m━━━━━━━━━━━━━━━━━━━\u001b[0m\u001b[37m━\u001b[0m \u001b[1m0s\u001b[0m 250ms/step - accuracy: 0.9135 - auc: 0.6391 - f1_score: 0.0116 - loss: 0.2884 - precision: 0.2542 - recall: 0.0063  "
     ]
    },
    {
     "name": "stderr",
     "output_type": "stream",
     "text": [
      "2025-04-22 06:11:17.396436: I tensorflow/core/kernels/data/shuffle_dataset_op.cc:452] ShuffleDatasetV3:13: Filling up shuffle buffer (this may take a while): 9986 of 25000\n"
     ]
    },
    {
     "name": "stdout",
     "output_type": "stream",
     "text": [
      "\u001b[1m561/561\u001b[0m \u001b[32m━━━━━━━━━━━━━━━━━━━━\u001b[0m\u001b[37m\u001b[0m \u001b[1m0s\u001b[0m 250ms/step - accuracy: 0.9135 - auc: 0.6391 - f1_score: 0.0116 - loss: 0.2884 - precision: 0.2542 - recall: 0.0063"
     ]
    },
    {
     "name": "stderr",
     "output_type": "stream",
     "text": [
      "2025-04-22 06:11:37.401954: I tensorflow/core/kernels/data/shuffle_dataset_op.cc:452] ShuffleDatasetV3:13: Filling up shuffle buffer (this may take a while): 19128 of 25000\n",
      "2025-04-22 06:11:45 - INFO - \n",
      "=== Epoch 9 Summary ===\n",
      "2025-04-22 06:11:45 - INFO - Time: 167.09s\n",
      "2025-04-22 06:11:45 - INFO - Training   - accuracy: 0.9135 - auc: 0.6432 - f1_score: 0.0117 - loss: 0.2875 - precision: 0.2670 - recall: 0.0063 - learning_rate: 0.0000\n",
      "2025-04-22 06:11:45 - INFO - Validation - accuracy: 0.9148 - auc: 0.6658 - f1_score: 0.0008 - loss: 0.3520 - precision: 0.2581 - recall: 0.0004\n",
      "2025-04-22 06:11:45 - INFO - ==================================================\n",
      "\n"
     ]
    },
    {
     "name": "stdout",
     "output_type": "stream",
     "text": [
      "\u001b[1m561/561\u001b[0m \u001b[32m━━━━━━━━━━━━━━━━━━━━\u001b[0m\u001b[37m\u001b[0m \u001b[1m167s\u001b[0m 298ms/step - accuracy: 0.9135 - auc: 0.6391 - f1_score: 0.0116 - loss: 0.2884 - precision: 0.2543 - recall: 0.0063 - val_accuracy: 0.9148 - val_auc: 0.6658 - val_f1_score: 8.0827e-04 - val_loss: 0.3520 - val_precision: 0.2581 - val_recall: 4.0771e-04 - learning_rate: 5.0000e-05\n"
     ]
    },
    {
     "name": "stderr",
     "output_type": "stream",
     "text": [
      "2025-04-22 06:11:45 - INFO - \n",
      "=== Starting Epoch 10 ===\n",
      "\n"
     ]
    },
    {
     "name": "stdout",
     "output_type": "stream",
     "text": [
      "Epoch 10/100\n",
      "\u001b[1m  5/561\u001b[0m \u001b[37m━━━━━━━━━━━━━━━━━━━━\u001b[0m \u001b[1m2:11\u001b[0m 236ms/step - accuracy: 0.9107 - auc: 0.6169 - f1_score: 0.0140 - loss: 0.2774 - precision: 0.3888 - recall: 0.0074"
     ]
    },
    {
     "name": "stderr",
     "output_type": "stream",
     "text": [
      "2025-04-22 06:11:46.212971: I tensorflow/core/kernels/data/shuffle_dataset_op.cc:482] Shuffle buffer filled.\n"
     ]
    },
    {
     "name": "stdout",
     "output_type": "stream",
     "text": [
      "\u001b[1m320/561\u001b[0m \u001b[32m━━━━━━━━━━━\u001b[0m\u001b[37m━━━━━━━━━\u001b[0m \u001b[1m1:03\u001b[0m 262ms/step - accuracy: 0.9130 - auc: 0.6480 - f1_score: 0.0094 - loss: 0.2793 - precision: 0.2383 - recall: 0.0050"
     ]
    },
    {
     "name": "stderr",
     "output_type": "stream",
     "text": [
      "2025-04-22 06:13:08.731233: W tensorflow/core/lib/png/png_io.cc:92] PNG warning: iCCP: profile 'ICC Profile': 'GRAY': Gray color space not permitted on RGB PNG\n"
     ]
    },
    {
     "name": "stdout",
     "output_type": "stream",
     "text": [
      "\u001b[1m561/561\u001b[0m \u001b[32m━━━━━━━━━━━━━━━━━━━━\u001b[0m\u001b[37m\u001b[0m \u001b[1m0s\u001b[0m 256ms/step - accuracy: 0.9131 - auc: 0.6485 - f1_score: 0.0095 - loss: 0.2795 - precision: 0.2355 - recall: 0.0051  "
     ]
    },
    {
     "name": "stderr",
     "output_type": "stream",
     "text": [
      "2025-04-22 06:14:12.850305: I tensorflow/core/kernels/data/shuffle_dataset_op.cc:452] ShuffleDatasetV3:13: Filling up shuffle buffer (this may take a while): 8494 of 25000\n",
      "2025-04-22 06:14:22.871923: I tensorflow/core/kernels/data/shuffle_dataset_op.cc:452] ShuffleDatasetV3:13: Filling up shuffle buffer (this may take a while): 13525 of 25000\n",
      "2025-04-22 06:14:38 - INFO - \n",
      "=== Epoch 10 Summary ===\n",
      "2025-04-22 06:14:38 - INFO - Time: 172.97s\n",
      "2025-04-22 06:14:38 - INFO - Training   - accuracy: 0.9134 - auc: 0.6510 - f1_score: 0.0107 - loss: 0.2782 - precision: 0.2514 - recall: 0.0057 - learning_rate: 0.0000\n",
      "2025-04-22 06:14:38 - INFO - Validation - accuracy: 0.9148 - auc: 0.6723 - f1_score: 0.0011 - loss: 0.3408 - precision: 0.3438 - recall: 0.0006\n",
      "2025-04-22 06:14:38 - INFO - ==================================================\n",
      "\n"
     ]
    },
    {
     "name": "stdout",
     "output_type": "stream",
     "text": [
      "\u001b[1m561/561\u001b[0m \u001b[32m━━━━━━━━━━━━━━━━━━━━\u001b[0m\u001b[37m\u001b[0m \u001b[1m173s\u001b[0m 308ms/step - accuracy: 0.9131 - auc: 0.6485 - f1_score: 0.0095 - loss: 0.2795 - precision: 0.2355 - recall: 0.0051 - val_accuracy: 0.9148 - val_auc: 0.6723 - val_f1_score: 0.0011 - val_loss: 0.3408 - val_precision: 0.3438 - val_recall: 5.6060e-04 - learning_rate: 5.0000e-05\n"
     ]
    },
    {
     "name": "stderr",
     "output_type": "stream",
     "text": [
      "2025-04-22 06:14:38 - INFO - \n",
      "=== Starting Epoch 11 ===\n",
      "\n"
     ]
    },
    {
     "name": "stdout",
     "output_type": "stream",
     "text": [
      "Epoch 11/100\n",
      "\u001b[1m 10/561\u001b[0m \u001b[37m━━━━━━━━━━━━━━━━━━━━\u001b[0m \u001b[1m2:01\u001b[0m 220ms/step - accuracy: 0.9142 - auc: 0.6522 - f1_score: 0.0140 - loss: 0.2595 - precision: 0.4408 - recall: 0.0075"
     ]
    },
    {
     "name": "stderr",
     "output_type": "stream",
     "text": [
      "2025-04-22 06:14:40.759192: I tensorflow/core/kernels/data/shuffle_dataset_op.cc:482] Shuffle buffer filled.\n"
     ]
    },
    {
     "name": "stdout",
     "output_type": "stream",
     "text": [
      "\u001b[1m321/561\u001b[0m \u001b[32m━━━━━━━━━━━\u001b[0m\u001b[37m━━━━━━━━━\u001b[0m \u001b[1m1:02\u001b[0m 261ms/step - accuracy: 0.9134 - auc: 0.6579 - f1_score: 0.0138 - loss: 0.2652 - precision: 0.3016 - recall: 0.0074"
     ]
    },
    {
     "name": "stderr",
     "output_type": "stream",
     "text": [
      "2025-04-22 06:16:01.652803: W tensorflow/core/lib/png/png_io.cc:92] PNG warning: iCCP: profile 'ICC Profile': 'GRAY': Gray color space not permitted on RGB PNG\n"
     ]
    },
    {
     "name": "stdout",
     "output_type": "stream",
     "text": [
      "\u001b[1m561/561\u001b[0m \u001b[32m━━━━━━━━━━━━━━━━━━━━\u001b[0m\u001b[37m\u001b[0m \u001b[1m0s\u001b[0m 255ms/step - accuracy: 0.9134 - auc: 0.6571 - f1_score: 0.0142 - loss: 0.2666 - precision: 0.3019 - recall: 0.0076  "
     ]
    },
    {
     "name": "stderr",
     "output_type": "stream",
     "text": [
      "2025-04-22 06:17:01.608726: W tensorflow/core/kernels/data/prefetch_autotuner.cc:52] Prefetch autotuner tried to allocate 134225408 bytes after encountering the first element of size 134225408 bytes.This already causes the autotune ram budget to be exceeded. To stay within the ram budget, either increase the ram budget or reduce element size\n",
      "2025-04-22 06:17:05.794315: I tensorflow/core/kernels/data/shuffle_dataset_op.cc:452] ShuffleDatasetV3:13: Filling up shuffle buffer (this may take a while): 8294 of 25000\n",
      "2025-04-22 06:17:25.791766: I tensorflow/core/kernels/data/shuffle_dataset_op.cc:452] ShuffleDatasetV3:13: Filling up shuffle buffer (this may take a while): 18565 of 25000\n"
     ]
    },
    {
     "name": "stdout",
     "output_type": "stream",
     "text": [
      "\n",
      "Epoch 11: ReduceLROnPlateau reducing learning rate to 2.499999936844688e-05.\n"
     ]
    },
    {
     "name": "stderr",
     "output_type": "stream",
     "text": [
      "2025-04-22 06:17:30 - INFO - \n",
      "=== Epoch 11 Summary ===\n",
      "2025-04-22 06:17:30 - INFO - Time: 172.25s\n",
      "2025-04-22 06:17:30 - INFO - Training   - accuracy: 0.9133 - auc: 0.6568 - f1_score: 0.0155 - loss: 0.2682 - precision: 0.2863 - recall: 0.0084 - learning_rate: 0.0000\n",
      "2025-04-22 06:17:30 - INFO - Validation - accuracy: 0.9147 - auc: 0.6745 - f1_score: 0.0018 - loss: 0.3393 - precision: 0.2857 - recall: 0.0009\n",
      "2025-04-22 06:17:30 - INFO - ==================================================\n",
      "\n"
     ]
    },
    {
     "name": "stdout",
     "output_type": "stream",
     "text": [
      "\u001b[1m561/561\u001b[0m \u001b[32m━━━━━━━━━━━━━━━━━━━━\u001b[0m\u001b[37m\u001b[0m \u001b[1m172s\u001b[0m 307ms/step - accuracy: 0.9134 - auc: 0.6571 - f1_score: 0.0142 - loss: 0.2666 - precision: 0.3018 - recall: 0.0076 - val_accuracy: 0.9147 - val_auc: 0.6745 - val_f1_score: 0.0018 - val_loss: 0.3393 - val_precision: 0.2857 - val_recall: 9.1734e-04 - learning_rate: 5.0000e-05\n"
     ]
    },
    {
     "name": "stderr",
     "output_type": "stream",
     "text": [
      "2025-04-22 06:17:30 - INFO - \n",
      "=== Starting Epoch 12 ===\n",
      "\n"
     ]
    },
    {
     "name": "stdout",
     "output_type": "stream",
     "text": [
      "Epoch 12/100\n",
      "\u001b[1m 11/561\u001b[0m \u001b[37m━━━━━━━━━━━━━━━━━━━━\u001b[0m \u001b[1m2:03\u001b[0m 224ms/step - accuracy: 0.9156 - auc: 0.6448 - f1_score: 0.0171 - loss: 0.2643 - precision: 0.4799 - recall: 0.0096"
     ]
    },
    {
     "name": "stderr",
     "output_type": "stream",
     "text": [
      "2025-04-22 06:17:33.342301: I tensorflow/core/kernels/data/shuffle_dataset_op.cc:482] Shuffle buffer filled.\n"
     ]
    },
    {
     "name": "stdout",
     "output_type": "stream",
     "text": [
      "\u001b[1m322/561\u001b[0m \u001b[32m━━━━━━━━━━━\u001b[0m\u001b[37m━━━━━━━━━\u001b[0m \u001b[1m1:02\u001b[0m 263ms/step - accuracy: 0.9138 - auc: 0.6689 - f1_score: 0.0228 - loss: 0.2658 - precision: 0.3986 - recall: 0.0128"
     ]
    },
    {
     "name": "stderr",
     "output_type": "stream",
     "text": [
      "2025-04-22 06:18:54.813739: W tensorflow/core/lib/png/png_io.cc:92] PNG warning: iCCP: profile 'ICC Profile': 'GRAY': Gray color space not permitted on RGB PNG\n"
     ]
    },
    {
     "name": "stdout",
     "output_type": "stream",
     "text": [
      "\u001b[1m561/561\u001b[0m \u001b[32m━━━━━━━━━━━━━━━━━━━━\u001b[0m\u001b[37m\u001b[0m \u001b[1m0s\u001b[0m 257ms/step - accuracy: 0.9136 - auc: 0.6723 - f1_score: 0.0235 - loss: 0.2637 - precision: 0.3811 - recall: 0.0133  "
     ]
    },
    {
     "name": "stderr",
     "output_type": "stream",
     "text": [
      "2025-04-22 06:19:58.971546: I tensorflow/core/kernels/data/shuffle_dataset_op.cc:452] ShuffleDatasetV3:13: Filling up shuffle buffer (this may take a while): 8295 of 25000\n",
      "2025-04-22 06:20:18.951471: I tensorflow/core/kernels/data/shuffle_dataset_op.cc:452] ShuffleDatasetV3:13: Filling up shuffle buffer (this may take a while): 19437 of 25000\n",
      "2025-04-22 06:20:25 - INFO - \n",
      "=== Epoch 12 Summary ===\n",
      "2025-04-22 06:20:25 - INFO - Time: 175.25s\n",
      "2025-04-22 06:20:25 - INFO - Training   - accuracy: 0.9133 - auc: 0.6790 - f1_score: 0.0249 - loss: 0.2608 - precision: 0.3512 - recall: 0.0144 - learning_rate: 0.0000\n",
      "2025-04-22 06:20:25 - INFO - Validation - accuracy: 0.9144 - auc: 0.7034 - f1_score: 0.0117 - loss: 0.3285 - precision: 0.3556 - recall: 0.0068\n",
      "2025-04-22 06:20:25 - INFO - ==================================================\n",
      "\n"
     ]
    },
    {
     "name": "stdout",
     "output_type": "stream",
     "text": [
      "\u001b[1m561/561\u001b[0m \u001b[32m━━━━━━━━━━━━━━━━━━━━\u001b[0m\u001b[37m\u001b[0m \u001b[1m175s\u001b[0m 313ms/step - accuracy: 0.9136 - auc: 0.6723 - f1_score: 0.0235 - loss: 0.2637 - precision: 0.3811 - recall: 0.0133 - val_accuracy: 0.9144 - val_auc: 0.7034 - val_f1_score: 0.0117 - val_loss: 0.3285 - val_precision: 0.3556 - val_recall: 0.0068 - learning_rate: 2.5000e-05\n"
     ]
    },
    {
     "name": "stderr",
     "output_type": "stream",
     "text": [
      "2025-04-22 06:20:25 - INFO - \n",
      "=== Starting Epoch 13 ===\n",
      "\n"
     ]
    },
    {
     "name": "stdout",
     "output_type": "stream",
     "text": [
      "Epoch 13/100\n",
      "\u001b[1m  4/561\u001b[0m \u001b[37m━━━━━━━━━━━━━━━━━━━━\u001b[0m \u001b[1m2:14\u001b[0m 242ms/step - accuracy: 0.9159 - auc: 0.6694 - f1_score: 0.0057 - loss: 0.2269 - precision: 0.2027 - recall: 0.0055"
     ]
    },
    {
     "name": "stderr",
     "output_type": "stream",
     "text": [
      "2025-04-22 06:20:26.442120: I tensorflow/core/kernels/data/shuffle_dataset_op.cc:482] Shuffle buffer filled.\n"
     ]
    },
    {
     "name": "stdout",
     "output_type": "stream",
     "text": [
      "\u001b[1m323/561\u001b[0m \u001b[32m━━━━━━━━━━━\u001b[0m\u001b[37m━━━━━━━━━\u001b[0m \u001b[1m1:02\u001b[0m 261ms/step - accuracy: 0.9130 - auc: 0.6875 - f1_score: 0.0235 - loss: 0.2566 - precision: 0.3094 - recall: 0.0139"
     ]
    },
    {
     "name": "stderr",
     "output_type": "stream",
     "text": [
      "2025-04-22 06:21:49.565003: W tensorflow/core/lib/png/png_io.cc:92] PNG warning: iCCP: profile 'ICC Profile': 'GRAY': Gray color space not permitted on RGB PNG\n"
     ]
    },
    {
     "name": "stdout",
     "output_type": "stream",
     "text": [
      "\u001b[1m560/561\u001b[0m \u001b[32m━━━━━━━━━━━━━━━━━━━\u001b[0m\u001b[37m━\u001b[0m \u001b[1m0s\u001b[0m 256ms/step - accuracy: 0.9130 - auc: 0.6870 - f1_score: 0.0255 - loss: 0.2561 - precision: 0.3250 - recall: 0.0151  "
     ]
    },
    {
     "name": "stderr",
     "output_type": "stream",
     "text": [
      "2025-04-22 06:22:48.593273: I tensorflow/core/kernels/data/shuffle_dataset_op.cc:452] ShuffleDatasetV3:13: Filling up shuffle buffer (this may take a while): 10573 of 25000\n"
     ]
    },
    {
     "name": "stdout",
     "output_type": "stream",
     "text": [
      "\u001b[1m561/561\u001b[0m \u001b[32m━━━━━━━━━━━━━━━━━━━━\u001b[0m\u001b[37m\u001b[0m \u001b[1m0s\u001b[0m 256ms/step - accuracy: 0.9130 - auc: 0.6870 - f1_score: 0.0256 - loss: 0.2561 - precision: 0.3250 - recall: 0.0151"
     ]
    },
    {
     "name": "stderr",
     "output_type": "stream",
     "text": [
      "2025-04-22 06:22:49.253988: W tensorflow/core/kernels/data/prefetch_autotuner.cc:52] Prefetch autotuner tried to allocate 134225408 bytes after encountering the first element of size 134225408 bytes.This already causes the autotune ram budget to be exceeded. To stay within the ram budget, either increase the ram budget or reduce element size\n",
      "2025-04-22 06:23:08.596574: I tensorflow/core/kernels/data/shuffle_dataset_op.cc:452] ShuffleDatasetV3:13: Filling up shuffle buffer (this may take a while): 21479 of 25000\n",
      "2025-04-22 06:23:14.866567: I tensorflow/core/kernels/data/shuffle_dataset_op.cc:482] Shuffle buffer filled.\n",
      "2025-04-22 06:23:18 - INFO - \n",
      "=== Epoch 13 Summary ===\n",
      "2025-04-22 06:23:18 - INFO - Time: 172.46s\n",
      "2025-04-22 06:23:18 - INFO - Training   - accuracy: 0.9131 - auc: 0.6875 - f1_score: 0.0295 - loss: 0.2550 - precision: 0.3477 - recall: 0.0177 - learning_rate: 0.0000\n",
      "2025-04-22 06:23:18 - INFO - Validation - accuracy: 0.9141 - auc: 0.7078 - f1_score: 0.0213 - loss: 0.3289 - precision: 0.3628 - recall: 0.0119\n",
      "2025-04-22 06:23:18 - INFO - ==================================================\n",
      "\n"
     ]
    },
    {
     "name": "stdout",
     "output_type": "stream",
     "text": [
      "\u001b[1m561/561\u001b[0m \u001b[32m━━━━━━━━━━━━━━━━━━━━\u001b[0m\u001b[37m\u001b[0m \u001b[1m173s\u001b[0m 308ms/step - accuracy: 0.9130 - auc: 0.6870 - f1_score: 0.0256 - loss: 0.2561 - precision: 0.3251 - recall: 0.0151 - val_accuracy: 0.9141 - val_auc: 0.7078 - val_f1_score: 0.0213 - val_loss: 0.3289 - val_precision: 0.3628 - val_recall: 0.0119 - learning_rate: 2.5000e-05\n"
     ]
    },
    {
     "name": "stderr",
     "output_type": "stream",
     "text": [
      "2025-04-22 06:23:18 - INFO - \n",
      "=== Starting Epoch 14 ===\n",
      "\n"
     ]
    },
    {
     "name": "stdout",
     "output_type": "stream",
     "text": [
      "Epoch 14/100\n",
      "\u001b[1m324/561\u001b[0m \u001b[32m━━━━━━━━━━━\u001b[0m\u001b[37m━━━━━━━━━\u001b[0m \u001b[1m59s\u001b[0m 253ms/step - accuracy: 0.9127 - auc: 0.6944 - f1_score: 0.0320 - loss: 0.2512 - precision: 0.3320 - recall: 0.0198 "
     ]
    },
    {
     "name": "stderr",
     "output_type": "stream",
     "text": [
      "2025-04-22 06:24:39.889392: W tensorflow/core/lib/png/png_io.cc:92] PNG warning: iCCP: profile 'ICC Profile': 'GRAY': Gray color space not permitted on RGB PNG\n"
     ]
    },
    {
     "name": "stdout",
     "output_type": "stream",
     "text": [
      "\u001b[1m561/561\u001b[0m \u001b[32m━━━━━━━━━━━━━━━━━━━━\u001b[0m\u001b[37m\u001b[0m \u001b[1m0s\u001b[0m 251ms/step - accuracy: 0.9127 - auc: 0.6945 - f1_score: 0.0322 - loss: 0.2518 - precision: 0.3391 - recall: 0.0199 "
     ]
    },
    {
     "name": "stderr",
     "output_type": "stream",
     "text": [
      "2025-04-22 06:25:40.355007: I tensorflow/core/kernels/data/shuffle_dataset_op.cc:452] ShuffleDatasetV3:13: Filling up shuffle buffer (this may take a while): 10518 of 25000\n",
      "2025-04-22 06:25:54.623238: I tensorflow/core/kernels/data/shuffle_dataset_op.cc:482] Shuffle buffer filled.\n",
      "2025-04-22 06:25:54.746857: W tensorflow/core/kernels/data/prefetch_autotuner.cc:52] Prefetch autotuner tried to allocate 134225408 bytes after encountering the first element of size 134225408 bytes.This already causes the autotune ram budget to be exceeded. To stay within the ram budget, either increase the ram budget or reduce element size\n",
      "2025-04-22 06:26:59 - INFO - \n",
      "=== Epoch 14 Summary ===\n",
      "2025-04-22 06:26:59 - INFO - Time: 221.71s\n",
      "2025-04-22 06:26:59 - INFO - Training   - accuracy: 0.9129 - auc: 0.6955 - f1_score: 0.0324 - loss: 0.2518 - precision: 0.3491 - recall: 0.0199 - learning_rate: 0.0000\n",
      "2025-04-22 06:26:59 - INFO - Validation - accuracy: 0.9134 - auc: 0.7098 - f1_score: 0.0265 - loss: 0.3216 - precision: 0.3403 - recall: 0.0183\n",
      "2025-04-22 06:26:59 - INFO - ==================================================\n",
      "\n"
     ]
    },
    {
     "name": "stdout",
     "output_type": "stream",
     "text": [
      "\u001b[1m561/561\u001b[0m \u001b[32m━━━━━━━━━━━━━━━━━━━━\u001b[0m\u001b[37m\u001b[0m \u001b[1m222s\u001b[0m 396ms/step - accuracy: 0.9127 - auc: 0.6945 - f1_score: 0.0322 - loss: 0.2518 - precision: 0.3391 - recall: 0.0199 - val_accuracy: 0.9134 - val_auc: 0.7098 - val_f1_score: 0.0265 - val_loss: 0.3216 - val_precision: 0.3403 - val_recall: 0.0183 - learning_rate: 2.5000e-05\n"
     ]
    },
    {
     "name": "stderr",
     "output_type": "stream",
     "text": [
      "2025-04-22 06:26:59 - INFO - \n",
      "=== Starting Epoch 15 ===\n",
      "\n"
     ]
    },
    {
     "name": "stdout",
     "output_type": "stream",
     "text": [
      "Epoch 15/100\n",
      "\u001b[1m304/561\u001b[0m \u001b[32m━━━━━━━━━━\u001b[0m\u001b[37m━━━━━━━━━━\u001b[0m \u001b[1m1:03\u001b[0m 247ms/step - accuracy: 0.9131 - auc: 0.6984 - f1_score: 0.0359 - loss: 0.2466 - precision: 0.3708 - recall: 0.0228"
     ]
    },
    {
     "name": "stderr",
     "output_type": "stream",
     "text": [
      "2025-04-22 06:28:14.749050: W tensorflow/core/lib/png/png_io.cc:92] PNG warning: iCCP: profile 'ICC Profile': 'GRAY': Gray color space not permitted on RGB PNG\n"
     ]
    },
    {
     "name": "stdout",
     "output_type": "stream",
     "text": [
      "\u001b[1m561/561\u001b[0m \u001b[32m━━━━━━━━━━━━━━━━━━━━\u001b[0m\u001b[37m\u001b[0m \u001b[1m0s\u001b[0m 246ms/step - accuracy: 0.9130 - auc: 0.6985 - f1_score: 0.0357 - loss: 0.2476 - precision: 0.3646 - recall: 0.0225  "
     ]
    },
    {
     "name": "stderr",
     "output_type": "stream",
     "text": [
      "2025-04-22 06:29:19.320445: I tensorflow/core/kernels/data/shuffle_dataset_op.cc:452] ShuffleDatasetV3:13: Filling up shuffle buffer (this may take a while): 10272 of 25000\n",
      "2025-04-22 06:29:29.321269: I tensorflow/core/kernels/data/shuffle_dataset_op.cc:452] ShuffleDatasetV3:13: Filling up shuffle buffer (this may take a while): 15723 of 25000\n",
      "2025-04-22 06:29:39.321754: I tensorflow/core/kernels/data/shuffle_dataset_op.cc:452] ShuffleDatasetV3:13: Filling up shuffle buffer (this may take a while): 21279 of 25000\n",
      "2025-04-22 06:29:45.407606: I tensorflow/core/kernels/data/shuffle_dataset_op.cc:482] Shuffle buffer filled.\n",
      "2025-04-22 06:29:45.521881: W tensorflow/core/kernels/data/prefetch_autotuner.cc:52] Prefetch autotuner tried to allocate 77078016 bytes after encountering the first element of size 77078016 bytes.This already causes the autotune ram budget to be exceeded. To stay within the ram budget, either increase the ram budget or reduce element size\n",
      "2025-04-22 06:29:47 - INFO - \n",
      "=== Epoch 15 Summary ===\n",
      "2025-04-22 06:29:47 - INFO - Time: 167.81s\n",
      "2025-04-22 06:29:47 - INFO - Training   - accuracy: 0.9127 - auc: 0.7005 - f1_score: 0.0361 - loss: 0.2480 - precision: 0.3469 - recall: 0.0225 - learning_rate: 0.0000\n",
      "2025-04-22 06:29:47 - INFO - Validation - accuracy: 0.9137 - auc: 0.7079 - f1_score: 0.0271 - loss: 0.3227 - precision: 0.3656 - recall: 0.0173\n",
      "2025-04-22 06:29:47 - INFO - ==================================================\n",
      "\n"
     ]
    },
    {
     "name": "stdout",
     "output_type": "stream",
     "text": [
      "\u001b[1m561/561\u001b[0m \u001b[32m━━━━━━━━━━━━━━━━━━━━\u001b[0m\u001b[37m\u001b[0m \u001b[1m168s\u001b[0m 299ms/step - accuracy: 0.9130 - auc: 0.6985 - f1_score: 0.0357 - loss: 0.2476 - precision: 0.3646 - recall: 0.0225 - val_accuracy: 0.9137 - val_auc: 0.7079 - val_f1_score: 0.0271 - val_loss: 0.3227 - val_precision: 0.3656 - val_recall: 0.0173 - learning_rate: 2.5000e-05\n"
     ]
    },
    {
     "name": "stderr",
     "output_type": "stream",
     "text": [
      "2025-04-22 06:29:47 - INFO - \n",
      "=== Starting Epoch 16 ===\n",
      "\n"
     ]
    },
    {
     "name": "stdout",
     "output_type": "stream",
     "text": [
      "Epoch 16/100\n",
      "\u001b[1m326/561\u001b[0m \u001b[32m━━━━━━━━━━━\u001b[0m\u001b[37m━━━━━━━━━\u001b[0m \u001b[1m59s\u001b[0m 253ms/step - accuracy: 0.9121 - auc: 0.7020 - f1_score: 0.0405 - loss: 0.2463 - precision: 0.3553 - recall: 0.0259 "
     ]
    },
    {
     "name": "stderr",
     "output_type": "stream",
     "text": [
      "2025-04-22 06:31:09.922791: W tensorflow/core/lib/png/png_io.cc:92] PNG warning: iCCP: profile 'ICC Profile': 'GRAY': Gray color space not permitted on RGB PNG\n"
     ]
    },
    {
     "name": "stdout",
     "output_type": "stream",
     "text": [
      "\u001b[1m561/561\u001b[0m \u001b[32m━━━━━━━━━━━━━━━━━━━━\u001b[0m\u001b[37m\u001b[0m \u001b[1m0s\u001b[0m 250ms/step - accuracy: 0.9123 - auc: 0.7023 - f1_score: 0.0402 - loss: 0.2455 - precision: 0.3535 - recall: 0.0256 "
     ]
    },
    {
     "name": "stderr",
     "output_type": "stream",
     "text": [
      "2025-04-22 06:32:13.999966: I tensorflow/core/kernels/data/shuffle_dataset_op.cc:452] ShuffleDatasetV3:13: Filling up shuffle buffer (this may take a while): 8075 of 25000\n",
      "2025-04-22 06:32:33.992624: I tensorflow/core/kernels/data/shuffle_dataset_op.cc:452] ShuffleDatasetV3:13: Filling up shuffle buffer (this may take a while): 19213 of 25000\n",
      "2025-04-22 06:32:40.820116: I tensorflow/core/kernels/data/shuffle_dataset_op.cc:482] Shuffle buffer filled.\n",
      "2025-04-22 06:32:49 - INFO - \n",
      "=== Epoch 16 Summary ===\n",
      "2025-04-22 06:32:49 - INFO - Time: 181.55s\n",
      "2025-04-22 06:32:49 - INFO - Training   - accuracy: 0.9124 - auc: 0.7043 - f1_score: 0.0395 - loss: 0.2445 - precision: 0.3444 - recall: 0.0250 - learning_rate: 0.0000\n",
      "2025-04-22 06:32:49 - INFO - Validation - accuracy: 0.9130 - auc: 0.7180 - f1_score: 0.0385 - loss: 0.3075 - precision: 0.3558 - recall: 0.0263\n",
      "2025-04-22 06:32:49 - INFO - ==================================================\n",
      "\n"
     ]
    },
    {
     "name": "stdout",
     "output_type": "stream",
     "text": [
      "\u001b[1m561/561\u001b[0m \u001b[32m━━━━━━━━━━━━━━━━━━━━\u001b[0m\u001b[37m\u001b[0m \u001b[1m182s\u001b[0m 324ms/step - accuracy: 0.9123 - auc: 0.7023 - f1_score: 0.0402 - loss: 0.2455 - precision: 0.3535 - recall: 0.0256 - val_accuracy: 0.9130 - val_auc: 0.7180 - val_f1_score: 0.0385 - val_loss: 0.3075 - val_precision: 0.3558 - val_recall: 0.0263 - learning_rate: 2.5000e-05\n"
     ]
    },
    {
     "name": "stderr",
     "output_type": "stream",
     "text": [
      "2025-04-22 06:32:49 - INFO - \n",
      "=== Starting Epoch 17 ===\n",
      "\n"
     ]
    },
    {
     "name": "stdout",
     "output_type": "stream",
     "text": [
      "Epoch 17/100\n",
      "\u001b[1m319/561\u001b[0m \u001b[32m━━━━━━━━━━━\u001b[0m\u001b[37m━━━━━━━━━\u001b[0m \u001b[1m59s\u001b[0m 247ms/step - accuracy: 0.9124 - auc: 0.7055 - f1_score: 0.0369 - loss: 0.2448 - precision: 0.3265 - recall: 0.0235 "
     ]
    },
    {
     "name": "stderr",
     "output_type": "stream",
     "text": [
      "2025-04-22 06:34:08.049035: W tensorflow/core/lib/png/png_io.cc:92] PNG warning: iCCP: profile 'ICC Profile': 'GRAY': Gray color space not permitted on RGB PNG\n"
     ]
    },
    {
     "name": "stdout",
     "output_type": "stream",
     "text": [
      "\u001b[1m561/561\u001b[0m \u001b[32m━━━━━━━━━━━━━━━━━━━━\u001b[0m\u001b[37m\u001b[0m \u001b[1m0s\u001b[0m 247ms/step - accuracy: 0.9124 - auc: 0.7070 - f1_score: 0.0387 - loss: 0.2441 - precision: 0.3363 - recall: 0.0247 "
     ]
    },
    {
     "name": "stderr",
     "output_type": "stream",
     "text": [
      "2025-04-22 06:35:13.802305: I tensorflow/core/kernels/data/shuffle_dataset_op.cc:452] ShuffleDatasetV3:13: Filling up shuffle buffer (this may take a while): 7970 of 25000\n",
      "2025-04-22 06:35:23.835956: I tensorflow/core/kernels/data/shuffle_dataset_op.cc:452] ShuffleDatasetV3:13: Filling up shuffle buffer (this may take a while): 13540 of 25000\n",
      "2025-04-22 06:35:36 - INFO - \n",
      "=== Epoch 17 Summary ===\n",
      "2025-04-22 06:35:36 - INFO - Time: 166.67s\n",
      "2025-04-22 06:35:36 - INFO - Training   - accuracy: 0.9123 - auc: 0.7091 - f1_score: 0.0411 - loss: 0.2433 - precision: 0.3444 - recall: 0.0264 - learning_rate: 0.0000\n",
      "2025-04-22 06:35:36 - INFO - Validation - accuracy: 0.9125 - auc: 0.7103 - f1_score: 0.0367 - loss: 0.3153 - precision: 0.3217 - recall: 0.0245\n",
      "2025-04-22 06:35:36 - INFO - ==================================================\n",
      "\n"
     ]
    },
    {
     "name": "stdout",
     "output_type": "stream",
     "text": [
      "\u001b[1m561/561\u001b[0m \u001b[32m━━━━━━━━━━━━━━━━━━━━\u001b[0m\u001b[37m\u001b[0m \u001b[1m167s\u001b[0m 297ms/step - accuracy: 0.9124 - auc: 0.7070 - f1_score: 0.0387 - loss: 0.2441 - precision: 0.3363 - recall: 0.0247 - val_accuracy: 0.9125 - val_auc: 0.7103 - val_f1_score: 0.0367 - val_loss: 0.3153 - val_precision: 0.3217 - val_recall: 0.0245 - learning_rate: 2.5000e-05\n"
     ]
    },
    {
     "name": "stderr",
     "output_type": "stream",
     "text": [
      "2025-04-22 06:35:36 - INFO - \n",
      "=== Starting Epoch 18 ===\n",
      "\n"
     ]
    },
    {
     "name": "stdout",
     "output_type": "stream",
     "text": [
      "Epoch 18/100\n",
      "\u001b[1m 17/561\u001b[0m \u001b[37m━━━━━━━━━━━━━━━━━━━━\u001b[0m \u001b[1m2:04\u001b[0m 228ms/step - accuracy: 0.9139 - auc: 0.7007 - f1_score: 0.0511 - loss: 0.2310 - precision: 0.4431 - recall: 0.0331"
     ]
    },
    {
     "name": "stderr",
     "output_type": "stream",
     "text": [
      "2025-04-22 06:35:39.860509: I tensorflow/core/kernels/data/shuffle_dataset_op.cc:482] Shuffle buffer filled.\n"
     ]
    },
    {
     "name": "stdout",
     "output_type": "stream",
     "text": [
      "\u001b[1m328/561\u001b[0m \u001b[32m━━━━━━━━━━━\u001b[0m\u001b[37m━━━━━━━━━\u001b[0m \u001b[1m1:00\u001b[0m 259ms/step - accuracy: 0.9130 - auc: 0.7074 - f1_score: 0.0422 - loss: 0.2392 - precision: 0.3690 - recall: 0.0275"
     ]
    },
    {
     "name": "stderr",
     "output_type": "stream",
     "text": [
      "2025-04-22 06:37:00.861178: W tensorflow/core/lib/png/png_io.cc:92] PNG warning: iCCP: profile 'ICC Profile': 'GRAY': Gray color space not permitted on RGB PNG\n"
     ]
    },
    {
     "name": "stdout",
     "output_type": "stream",
     "text": [
      "\u001b[1m561/561\u001b[0m \u001b[32m━━━━━━━━━━━━━━━━━━━━\u001b[0m\u001b[37m\u001b[0m \u001b[1m0s\u001b[0m 255ms/step - accuracy: 0.9128 - auc: 0.7094 - f1_score: 0.0425 - loss: 0.2396 - precision: 0.3616 - recall: 0.0277  "
     ]
    },
    {
     "name": "stderr",
     "output_type": "stream",
     "text": [
      "2025-04-22 06:38:05.006332: I tensorflow/core/kernels/data/shuffle_dataset_op.cc:452] ShuffleDatasetV3:13: Filling up shuffle buffer (this may take a while): 7828 of 25000\n",
      "2025-04-22 06:38:25.007818: I tensorflow/core/kernels/data/shuffle_dataset_op.cc:452] ShuffleDatasetV3:13: Filling up shuffle buffer (this may take a while): 19104 of 25000\n",
      "2025-04-22 06:38:27 - INFO - \n",
      "=== Epoch 18 Summary ===\n",
      "2025-04-22 06:38:27 - INFO - Time: 171.20s\n",
      "2025-04-22 06:38:27 - INFO - Training   - accuracy: 0.9124 - auc: 0.7134 - f1_score: 0.0440 - loss: 0.2396 - precision: 0.3548 - recall: 0.0285 - learning_rate: 0.0000\n",
      "2025-04-22 06:38:27 - INFO - Validation - accuracy: 0.9130 - auc: 0.7263 - f1_score: 0.0379 - loss: 0.3034 - precision: 0.3573 - recall: 0.0271\n",
      "2025-04-22 06:38:27 - INFO - ==================================================\n",
      "\n"
     ]
    },
    {
     "name": "stdout",
     "output_type": "stream",
     "text": [
      "\u001b[1m561/561\u001b[0m \u001b[32m━━━━━━━━━━━━━━━━━━━━\u001b[0m\u001b[37m\u001b[0m \u001b[1m171s\u001b[0m 305ms/step - accuracy: 0.9128 - auc: 0.7094 - f1_score: 0.0425 - loss: 0.2396 - precision: 0.3616 - recall: 0.0277 - val_accuracy: 0.9130 - val_auc: 0.7263 - val_f1_score: 0.0379 - val_loss: 0.3034 - val_precision: 0.3573 - val_recall: 0.0271 - learning_rate: 2.5000e-05\n"
     ]
    },
    {
     "name": "stderr",
     "output_type": "stream",
     "text": [
      "2025-04-22 06:38:27 - INFO - \n",
      "=== Starting Epoch 19 ===\n",
      "\n"
     ]
    },
    {
     "name": "stdout",
     "output_type": "stream",
     "text": [
      "Epoch 19/100\n",
      "\u001b[1m 16/561\u001b[0m \u001b[37m━━━━━━━━━━━━━━━━━━━━\u001b[0m \u001b[1m2:10\u001b[0m 239ms/step - accuracy: 0.9107 - auc: 0.7433 - f1_score: 0.0513 - loss: 0.2363 - precision: 0.3625 - recall: 0.0351"
     ]
    },
    {
     "name": "stderr",
     "output_type": "stream",
     "text": [
      "2025-04-22 06:38:30.974792: I tensorflow/core/kernels/data/shuffle_dataset_op.cc:482] Shuffle buffer filled.\n"
     ]
    },
    {
     "name": "stdout",
     "output_type": "stream",
     "text": [
      "\u001b[1m329/561\u001b[0m \u001b[32m━━━━━━━━━━━\u001b[0m\u001b[37m━━━━━━━━━\u001b[0m \u001b[1m1:00\u001b[0m 261ms/step - accuracy: 0.9121 - auc: 0.7226 - f1_score: 0.0520 - loss: 0.2356 - precision: 0.3811 - recall: 0.0341"
     ]
    },
    {
     "name": "stderr",
     "output_type": "stream",
     "text": [
      "2025-04-22 06:39:52.788783: W tensorflow/core/lib/png/png_io.cc:92] PNG warning: iCCP: profile 'ICC Profile': 'GRAY': Gray color space not permitted on RGB PNG\n"
     ]
    },
    {
     "name": "stdout",
     "output_type": "stream",
     "text": [
      "\u001b[1m561/561\u001b[0m \u001b[32m━━━━━━━━━━━━━━━━━━━━\u001b[0m\u001b[37m\u001b[0m \u001b[1m0s\u001b[0m 255ms/step - accuracy: 0.9122 - auc: 0.7210 - f1_score: 0.0503 - loss: 0.2363 - precision: 0.3736 - recall: 0.0330  "
     ]
    },
    {
     "name": "stderr",
     "output_type": "stream",
     "text": [
      "2025-04-22 06:40:56.854616: I tensorflow/core/kernels/data/shuffle_dataset_op.cc:452] ShuffleDatasetV3:13: Filling up shuffle buffer (this may take a while): 7686 of 25000\n",
      "2025-04-22 06:41:06.857890: I tensorflow/core/kernels/data/shuffle_dataset_op.cc:452] ShuffleDatasetV3:13: Filling up shuffle buffer (this may take a while): 13208 of 25000\n",
      "2025-04-22 06:41:19 - INFO - \n",
      "=== Epoch 19 Summary ===\n",
      "2025-04-22 06:41:19 - INFO - Time: 172.31s\n",
      "2025-04-22 06:41:19 - INFO - Training   - accuracy: 0.9123 - auc: 0.7194 - f1_score: 0.0486 - loss: 0.2371 - precision: 0.3634 - recall: 0.0319 - learning_rate: 0.0000\n",
      "2025-04-22 06:41:19 - INFO - Validation - accuracy: 0.9116 - auc: 0.7232 - f1_score: 0.0574 - loss: 0.3201 - precision: 0.3709 - recall: 0.0547\n",
      "2025-04-22 06:41:19 - INFO - ==================================================\n",
      "\n"
     ]
    },
    {
     "name": "stdout",
     "output_type": "stream",
     "text": [
      "\u001b[1m561/561\u001b[0m \u001b[32m━━━━━━━━━━━━━━━━━━━━\u001b[0m\u001b[37m\u001b[0m \u001b[1m172s\u001b[0m 307ms/step - accuracy: 0.9122 - auc: 0.7210 - f1_score: 0.0502 - loss: 0.2363 - precision: 0.3736 - recall: 0.0330 - val_accuracy: 0.9116 - val_auc: 0.7232 - val_f1_score: 0.0574 - val_loss: 0.3201 - val_precision: 0.3709 - val_recall: 0.0547 - learning_rate: 2.5000e-05\n"
     ]
    },
    {
     "name": "stderr",
     "output_type": "stream",
     "text": [
      "2025-04-22 06:41:19 - INFO - \n",
      "=== Starting Epoch 20 ===\n",
      "\n"
     ]
    },
    {
     "name": "stdout",
     "output_type": "stream",
     "text": [
      "Epoch 20/100\n",
      "\u001b[1m 16/561\u001b[0m \u001b[37m━━━━━━━━━━━━━━━━━━━━\u001b[0m \u001b[1m2:13\u001b[0m 246ms/step - accuracy: 0.9116 - auc: 0.7215 - f1_score: 0.0605 - loss: 0.2440 - precision: 0.3475 - recall: 0.0416"
     ]
    },
    {
     "name": "stderr",
     "output_type": "stream",
     "text": [
      "2025-04-22 06:41:23.419227: I tensorflow/core/kernels/data/shuffle_dataset_op.cc:482] Shuffle buffer filled.\n"
     ]
    },
    {
     "name": "stdout",
     "output_type": "stream",
     "text": [
      "\u001b[1m330/561\u001b[0m \u001b[32m━━━━━━━━━━━\u001b[0m\u001b[37m━━━━━━━━━\u001b[0m \u001b[1m1:00\u001b[0m 263ms/step - accuracy: 0.9121 - auc: 0.7209 - f1_score: 0.0535 - loss: 0.2353 - precision: 0.3783 - recall: 0.0348"
     ]
    },
    {
     "name": "stderr",
     "output_type": "stream",
     "text": [
      "2025-04-22 06:42:46.131390: W tensorflow/core/lib/png/png_io.cc:92] PNG warning: iCCP: profile 'ICC Profile': 'GRAY': Gray color space not permitted on RGB PNG\n"
     ]
    },
    {
     "name": "stdout",
     "output_type": "stream",
     "text": [
      "\u001b[1m561/561\u001b[0m \u001b[32m━━━━━━━━━━━━━━━━━━━━\u001b[0m\u001b[37m\u001b[0m \u001b[1m0s\u001b[0m 257ms/step - accuracy: 0.9122 - auc: 0.7219 - f1_score: 0.0529 - loss: 0.2352 - precision: 0.3783 - recall: 0.0345  "
     ]
    },
    {
     "name": "stderr",
     "output_type": "stream",
     "text": [
      "2025-04-22 06:43:49.102315: I tensorflow/core/kernels/data/shuffle_dataset_op.cc:452] ShuffleDatasetV3:13: Filling up shuffle buffer (this may take a while): 8279 of 25000\n",
      "2025-04-22 06:44:09.100968: I tensorflow/core/kernels/data/shuffle_dataset_op.cc:452] ShuffleDatasetV3:13: Filling up shuffle buffer (this may take a while): 19635 of 25000\n",
      "2025-04-22 06:44:11 - INFO - \n",
      "=== Epoch 20 Summary ===\n",
      "2025-04-22 06:44:11 - INFO - Time: 171.67s\n",
      "2025-04-22 06:44:11 - INFO - Training   - accuracy: 0.9125 - auc: 0.7237 - f1_score: 0.0533 - loss: 0.2343 - precision: 0.3835 - recall: 0.0350 - learning_rate: 0.0000\n",
      "2025-04-22 06:44:11 - INFO - Validation - accuracy: 0.9134 - auc: 0.7282 - f1_score: 0.0515 - loss: 0.3057 - precision: 0.4023 - recall: 0.0357\n",
      "2025-04-22 06:44:11 - INFO - ==================================================\n",
      "\n"
     ]
    },
    {
     "name": "stdout",
     "output_type": "stream",
     "text": [
      "\u001b[1m561/561\u001b[0m \u001b[32m━━━━━━━━━━━━━━━━━━━━\u001b[0m\u001b[37m\u001b[0m \u001b[1m172s\u001b[0m 306ms/step - accuracy: 0.9122 - auc: 0.7219 - f1_score: 0.0529 - loss: 0.2352 - precision: 0.3783 - recall: 0.0345 - val_accuracy: 0.9134 - val_auc: 0.7282 - val_f1_score: 0.0515 - val_loss: 0.3057 - val_precision: 0.4023 - val_recall: 0.0357 - learning_rate: 2.5000e-05\n"
     ]
    },
    {
     "name": "stderr",
     "output_type": "stream",
     "text": [
      "2025-04-22 06:44:11 - INFO - \n",
      "=== Starting Epoch 21 ===\n",
      "\n"
     ]
    },
    {
     "name": "stdout",
     "output_type": "stream",
     "text": [
      "Epoch 21/100\n",
      "\u001b[1m 14/561\u001b[0m \u001b[37m━━━━━━━━━━━━━━━━━━━━\u001b[0m \u001b[1m2:14\u001b[0m 246ms/step - accuracy: 0.9126 - auc: 0.7093 - f1_score: 0.0440 - loss: 0.2309 - precision: 0.3560 - recall: 0.0289"
     ]
    },
    {
     "name": "stderr",
     "output_type": "stream",
     "text": [
      "2025-04-22 06:44:14.789167: I tensorflow/core/kernels/data/shuffle_dataset_op.cc:482] Shuffle buffer filled.\n"
     ]
    },
    {
     "name": "stdout",
     "output_type": "stream",
     "text": [
      "\u001b[1m331/561\u001b[0m \u001b[32m━━━━━━━━━━━\u001b[0m\u001b[37m━━━━━━━━━\u001b[0m \u001b[1m1:00\u001b[0m 264ms/step - accuracy: 0.9128 - auc: 0.7222 - f1_score: 0.0514 - loss: 0.2343 - precision: 0.3851 - recall: 0.0343"
     ]
    },
    {
     "name": "stderr",
     "output_type": "stream",
     "text": [
      "2025-04-22 06:45:38.432834: W tensorflow/core/lib/png/png_io.cc:92] PNG warning: iCCP: profile 'ICC Profile': 'GRAY': Gray color space not permitted on RGB PNG\n"
     ]
    },
    {
     "name": "stdout",
     "output_type": "stream",
     "text": [
      "\u001b[1m561/561\u001b[0m \u001b[32m━━━━━━━━━━━━━━━━━━━━\u001b[0m\u001b[37m\u001b[0m \u001b[1m0s\u001b[0m 257ms/step - accuracy: 0.9127 - auc: 0.7232 - f1_score: 0.0517 - loss: 0.2339 - precision: 0.3822 - recall: 0.0343  "
     ]
    },
    {
     "name": "stderr",
     "output_type": "stream",
     "text": [
      "2025-04-22 06:46:41.661575: I tensorflow/core/kernels/data/shuffle_dataset_op.cc:452] ShuffleDatasetV3:13: Filling up shuffle buffer (this may take a while): 7865 of 25000\n",
      "2025-04-22 06:46:51.661874: I tensorflow/core/kernels/data/shuffle_dataset_op.cc:452] ShuffleDatasetV3:13: Filling up shuffle buffer (this may take a while): 13294 of 25000\n",
      "2025-04-22 06:47:01.663961: I tensorflow/core/kernels/data/shuffle_dataset_op.cc:452] ShuffleDatasetV3:13: Filling up shuffle buffer (this may take a while): 18991 of 25000\n",
      "2025-04-22 06:47:03 - INFO - \n",
      "=== Epoch 21 Summary ===\n",
      "2025-04-22 06:47:03 - INFO - Time: 172.38s\n",
      "2025-04-22 06:47:03 - INFO - Training   - accuracy: 0.9125 - auc: 0.7250 - f1_score: 0.0527 - loss: 0.2327 - precision: 0.3774 - recall: 0.0345 - learning_rate: 0.0000\n",
      "2025-04-22 06:47:03 - INFO - Validation - accuracy: 0.9114 - auc: 0.7233 - f1_score: 0.0373 - loss: 0.3222 - precision: 0.2799 - recall: 0.0259\n",
      "2025-04-22 06:47:03 - INFO - ==================================================\n",
      "\n"
     ]
    },
    {
     "name": "stdout",
     "output_type": "stream",
     "text": [
      "\u001b[1m561/561\u001b[0m \u001b[32m━━━━━━━━━━━━━━━━━━━━\u001b[0m\u001b[37m\u001b[0m \u001b[1m172s\u001b[0m 307ms/step - accuracy: 0.9127 - auc: 0.7232 - f1_score: 0.0518 - loss: 0.2339 - precision: 0.3822 - recall: 0.0343 - val_accuracy: 0.9114 - val_auc: 0.7233 - val_f1_score: 0.0373 - val_loss: 0.3222 - val_precision: 0.2799 - val_recall: 0.0259 - learning_rate: 2.5000e-05\n"
     ]
    },
    {
     "name": "stderr",
     "output_type": "stream",
     "text": [
      "2025-04-22 06:47:03 - INFO - \n",
      "=== Starting Epoch 22 ===\n",
      "\n"
     ]
    },
    {
     "name": "stdout",
     "output_type": "stream",
     "text": [
      "Epoch 22/100\n",
      "\u001b[1m 18/561\u001b[0m \u001b[37m━━━━━━━━━━━━━━━━━━━━\u001b[0m \u001b[1m2:11\u001b[0m 243ms/step - accuracy: 0.9110 - auc: 0.7208 - f1_score: 0.0514 - loss: 0.2581 - precision: 0.4026 - recall: 0.0331"
     ]
    },
    {
     "name": "stderr",
     "output_type": "stream",
     "text": [
      "2025-04-22 06:47:07.935578: I tensorflow/core/kernels/data/shuffle_dataset_op.cc:482] Shuffle buffer filled.\n"
     ]
    },
    {
     "name": "stdout",
     "output_type": "stream",
     "text": [
      "\u001b[1m332/561\u001b[0m \u001b[32m━━━━━━━━━━━\u001b[0m\u001b[37m━━━━━━━━━\u001b[0m \u001b[1m1:00\u001b[0m 266ms/step - accuracy: 0.9121 - auc: 0.7241 - f1_score: 0.0547 - loss: 0.2345 - precision: 0.3867 - recall: 0.0364"
     ]
    },
    {
     "name": "stderr",
     "output_type": "stream",
     "text": [
      "2025-04-22 06:48:31.879618: W tensorflow/core/lib/png/png_io.cc:92] PNG warning: iCCP: profile 'ICC Profile': 'GRAY': Gray color space not permitted on RGB PNG\n"
     ]
    },
    {
     "name": "stdout",
     "output_type": "stream",
     "text": [
      "\u001b[1m561/561\u001b[0m \u001b[32m━━━━━━━━━━━━━━━━━━━━\u001b[0m\u001b[37m\u001b[0m \u001b[1m0s\u001b[0m 259ms/step - accuracy: 0.9123 - auc: 0.7251 - f1_score: 0.0559 - loss: 0.2330 - precision: 0.3894 - recall: 0.0372  "
     ]
    },
    {
     "name": "stderr",
     "output_type": "stream",
     "text": [
      "2025-04-22 06:49:35.358985: I tensorflow/core/kernels/data/shuffle_dataset_op.cc:452] ShuffleDatasetV3:13: Filling up shuffle buffer (this may take a while): 7749 of 25000\n",
      "2025-04-22 06:49:55.354213: I tensorflow/core/kernels/data/shuffle_dataset_op.cc:452] ShuffleDatasetV3:13: Filling up shuffle buffer (this may take a while): 19200 of 25000\n"
     ]
    },
    {
     "name": "stdout",
     "output_type": "stream",
     "text": [
      "\n",
      "Epoch 22: ReduceLROnPlateau reducing learning rate to 1.249999968422344e-05.\n"
     ]
    },
    {
     "name": "stderr",
     "output_type": "stream",
     "text": [
      "2025-04-22 06:49:56 - INFO - \n",
      "=== Epoch 22 Summary ===\n",
      "2025-04-22 06:49:56 - INFO - Time: 172.91s\n",
      "2025-04-22 06:49:56 - INFO - Training   - accuracy: 0.9126 - auc: 0.7283 - f1_score: 0.0580 - loss: 0.2308 - precision: 0.3936 - recall: 0.0385 - learning_rate: 0.0000\n",
      "2025-04-22 06:49:56 - INFO - Validation - accuracy: 0.9144 - auc: 0.7211 - f1_score: 0.0194 - loss: 0.3161 - precision: 0.4056 - recall: 0.0111\n",
      "2025-04-22 06:49:56 - INFO - ==================================================\n",
      "\n"
     ]
    },
    {
     "name": "stdout",
     "output_type": "stream",
     "text": [
      "\u001b[1m561/561\u001b[0m \u001b[32m━━━━━━━━━━━━━━━━━━━━\u001b[0m\u001b[37m\u001b[0m \u001b[1m173s\u001b[0m 308ms/step - accuracy: 0.9123 - auc: 0.7252 - f1_score: 0.0559 - loss: 0.2330 - precision: 0.3894 - recall: 0.0372 - val_accuracy: 0.9144 - val_auc: 0.7211 - val_f1_score: 0.0194 - val_loss: 0.3161 - val_precision: 0.4056 - val_recall: 0.0111 - learning_rate: 2.5000e-05\n"
     ]
    },
    {
     "name": "stderr",
     "output_type": "stream",
     "text": [
      "2025-04-22 06:49:56 - INFO - \n",
      "=== Starting Epoch 23 ===\n",
      "\n"
     ]
    },
    {
     "name": "stdout",
     "output_type": "stream",
     "text": [
      "Epoch 23/100\n",
      "\u001b[1m 17/561\u001b[0m \u001b[37m━━━━━━━━━━━━━━━━━━━━\u001b[0m \u001b[1m2:09\u001b[0m 238ms/step - accuracy: 0.9135 - auc: 0.7406 - f1_score: 0.0502 - loss: 0.2338 - precision: 0.4124 - recall: 0.0327"
     ]
    },
    {
     "name": "stderr",
     "output_type": "stream",
     "text": [
      "2025-04-22 06:50:00.692718: I tensorflow/core/kernels/data/shuffle_dataset_op.cc:482] Shuffle buffer filled.\n"
     ]
    },
    {
     "name": "stdout",
     "output_type": "stream",
     "text": [
      "\u001b[1m 19/561\u001b[0m \u001b[37m━━━━━━━━━━━━━━━━━━━━\u001b[0m \u001b[1m2:09\u001b[0m 239ms/step - accuracy: 0.9134 - auc: 0.7401 - f1_score: 0.0502 - loss: 0.2337 - precision: 0.4115 - recall: 0.0325"
     ]
    },
    {
     "name": "stderr",
     "output_type": "stream",
     "text": [
      "2025-04-22 06:50:01.214650: W tensorflow/core/kernels/data/prefetch_autotuner.cc:52] Prefetch autotuner tried to allocate 134225408 bytes after encountering the first element of size 134225408 bytes.This already causes the autotune ram budget to be exceeded. To stay within the ram budget, either increase the ram budget or reduce element size\n"
     ]
    },
    {
     "name": "stdout",
     "output_type": "stream",
     "text": [
      "\u001b[1m333/561\u001b[0m \u001b[32m━━━━━━━━━━━\u001b[0m\u001b[37m━━━━━━━━━\u001b[0m \u001b[1m57s\u001b[0m 254ms/step - accuracy: 0.9129 - auc: 0.7370 - f1_score: 0.0569 - loss: 0.2276 - precision: 0.3990 - recall: 0.0376 "
     ]
    },
    {
     "name": "stderr",
     "output_type": "stream",
     "text": [
      "2025-04-22 06:51:21.007802: W tensorflow/core/lib/png/png_io.cc:92] PNG warning: iCCP: profile 'ICC Profile': 'GRAY': Gray color space not permitted on RGB PNG\n"
     ]
    },
    {
     "name": "stdout",
     "output_type": "stream",
     "text": [
      "\u001b[1m561/561\u001b[0m \u001b[32m━━━━━━━━━━━━━━━━━━━━\u001b[0m\u001b[37m\u001b[0m \u001b[1m0s\u001b[0m 252ms/step - accuracy: 0.9129 - auc: 0.7375 - f1_score: 0.0596 - loss: 0.2271 - precision: 0.4033 - recall: 0.0396 "
     ]
    },
    {
     "name": "stderr",
     "output_type": "stream",
     "text": [
      "2025-04-22 06:52:24.940940: I tensorflow/core/kernels/data/shuffle_dataset_op.cc:452] ShuffleDatasetV3:13: Filling up shuffle buffer (this may take a while): 7377 of 25000\n",
      "2025-04-22 06:52:44.940417: I tensorflow/core/kernels/data/shuffle_dataset_op.cc:452] ShuffleDatasetV3:13: Filling up shuffle buffer (this may take a while): 19007 of 25000\n",
      "2025-04-22 06:52:45 - INFO - \n",
      "=== Epoch 23 Summary ===\n",
      "2025-04-22 06:52:45 - INFO - Time: 168.84s\n",
      "2025-04-22 06:52:45 - INFO - Training   - accuracy: 0.9128 - auc: 0.7400 - f1_score: 0.0649 - loss: 0.2260 - precision: 0.4113 - recall: 0.0435 - learning_rate: 0.0000\n",
      "2025-04-22 06:52:45 - INFO - Validation - accuracy: 0.9140 - auc: 0.7401 - f1_score: 0.0556 - loss: 0.2939 - precision: 0.4426 - recall: 0.0363\n",
      "2025-04-22 06:52:45 - INFO - ==================================================\n",
      "\n"
     ]
    },
    {
     "name": "stdout",
     "output_type": "stream",
     "text": [
      "\u001b[1m561/561\u001b[0m \u001b[32m━━━━━━━━━━━━━━━━━━━━\u001b[0m\u001b[37m\u001b[0m \u001b[1m169s\u001b[0m 301ms/step - accuracy: 0.9129 - auc: 0.7375 - f1_score: 0.0596 - loss: 0.2271 - precision: 0.4034 - recall: 0.0397 - val_accuracy: 0.9140 - val_auc: 0.7401 - val_f1_score: 0.0556 - val_loss: 0.2939 - val_precision: 0.4426 - val_recall: 0.0363 - learning_rate: 1.2500e-05\n"
     ]
    },
    {
     "name": "stderr",
     "output_type": "stream",
     "text": [
      "2025-04-22 06:52:45 - INFO - \n",
      "=== Starting Epoch 24 ===\n",
      "\n"
     ]
    },
    {
     "name": "stdout",
     "output_type": "stream",
     "text": [
      "Epoch 24/100\n",
      "\u001b[1m 21/561\u001b[0m \u001b[37m━━━━━━━━━━━━━━━━━━━━\u001b[0m \u001b[1m2:09\u001b[0m 239ms/step - accuracy: 0.9120 - auc: 0.7538 - f1_score: 0.0706 - loss: 0.2340 - precision: 0.4427 - recall: 0.0481"
     ]
    },
    {
     "name": "stderr",
     "output_type": "stream",
     "text": [
      "2025-04-22 06:52:50.600353: I tensorflow/core/kernels/data/shuffle_dataset_op.cc:482] Shuffle buffer filled.\n"
     ]
    },
    {
     "name": "stdout",
     "output_type": "stream",
     "text": [
      "\u001b[1m 23/561\u001b[0m \u001b[37m━━━━━━━━━━━━━━━━━━━━\u001b[0m \u001b[1m2:04\u001b[0m 232ms/step - accuracy: 0.9121 - auc: 0.7541 - f1_score: 0.0701 - loss: 0.2335 - precision: 0.4412 - recall: 0.0478"
     ]
    },
    {
     "name": "stderr",
     "output_type": "stream",
     "text": [
      "2025-04-22 06:52:50.918088: W tensorflow/core/kernels/data/prefetch_autotuner.cc:52] Prefetch autotuner tried to allocate 134225408 bytes after encountering the first element of size 134225408 bytes.This already causes the autotune ram budget to be exceeded. To stay within the ram budget, either increase the ram budget or reduce element size\n"
     ]
    },
    {
     "name": "stdout",
     "output_type": "stream",
     "text": [
      "\u001b[1m334/561\u001b[0m \u001b[32m━━━━━━━━━━━\u001b[0m\u001b[37m━━━━━━━━━\u001b[0m \u001b[1m58s\u001b[0m 259ms/step - accuracy: 0.9125 - auc: 0.7455 - f1_score: 0.0715 - loss: 0.2264 - precision: 0.4173 - recall: 0.0481 "
     ]
    },
    {
     "name": "stderr",
     "output_type": "stream",
     "text": [
      "2025-04-22 06:54:12.008004: W tensorflow/core/lib/png/png_io.cc:92] PNG warning: iCCP: profile 'ICC Profile': 'GRAY': Gray color space not permitted on RGB PNG\n"
     ]
    },
    {
     "name": "stdout",
     "output_type": "stream",
     "text": [
      "\u001b[1m561/561\u001b[0m \u001b[32m━━━━━━━━━━━━━━━━━━━━\u001b[0m\u001b[37m\u001b[0m \u001b[1m0s\u001b[0m 255ms/step - accuracy: 0.9126 - auc: 0.7462 - f1_score: 0.0726 - loss: 0.2252 - precision: 0.4198 - recall: 0.0489 "
     ]
    },
    {
     "name": "stderr",
     "output_type": "stream",
     "text": [
      "2025-04-22 06:55:08.842925: W tensorflow/core/kernels/data/prefetch_autotuner.cc:52] Prefetch autotuner tried to allocate 114302464 bytes after encountering the first element of size 114302464 bytes.This already causes the autotune ram budget to be exceeded. To stay within the ram budget, either increase the ram budget or reduce element size\n",
      "2025-04-22 06:55:15.928842: I tensorflow/core/kernels/data/shuffle_dataset_op.cc:452] ShuffleDatasetV3:13: Filling up shuffle buffer (this may take a while): 7250 of 25000\n",
      "2025-04-22 06:55:25.929641: I tensorflow/core/kernels/data/shuffle_dataset_op.cc:452] ShuffleDatasetV3:13: Filling up shuffle buffer (this may take a while): 13020 of 25000\n",
      "2025-04-22 06:55:36 - INFO - \n",
      "=== Epoch 24 Summary ===\n",
      "2025-04-22 06:55:36 - INFO - Time: 170.58s\n",
      "2025-04-22 06:55:36 - INFO - Training   - accuracy: 0.9128 - auc: 0.7478 - f1_score: 0.0755 - loss: 0.2237 - precision: 0.4246 - recall: 0.0506 - learning_rate: 0.0000\n",
      "2025-04-22 06:55:36 - INFO - Validation - accuracy: 0.9134 - auc: 0.7361 - f1_score: 0.0543 - loss: 0.2972 - precision: 0.4071 - recall: 0.0371\n",
      "2025-04-22 06:55:36 - INFO - ==================================================\n",
      "\n"
     ]
    },
    {
     "name": "stdout",
     "output_type": "stream",
     "text": [
      "\u001b[1m561/561\u001b[0m \u001b[32m━━━━━━━━━━━━━━━━━━━━\u001b[0m\u001b[37m\u001b[0m \u001b[1m171s\u001b[0m 304ms/step - accuracy: 0.9126 - auc: 0.7462 - f1_score: 0.0726 - loss: 0.2252 - precision: 0.4199 - recall: 0.0489 - val_accuracy: 0.9134 - val_auc: 0.7361 - val_f1_score: 0.0543 - val_loss: 0.2972 - val_precision: 0.4071 - val_recall: 0.0371 - learning_rate: 1.2500e-05\n"
     ]
    },
    {
     "name": "stderr",
     "output_type": "stream",
     "text": [
      "2025-04-22 06:55:36 - INFO - \n",
      "=== Starting Epoch 25 ===\n",
      "\n"
     ]
    },
    {
     "name": "stdout",
     "output_type": "stream",
     "text": [
      "Epoch 25/100\n",
      "\u001b[1m 24/561\u001b[0m \u001b[37m━━━━━━━━━━━━━━━━━━━━\u001b[0m \u001b[1m2:05\u001b[0m 234ms/step - accuracy: 0.9130 - auc: 0.7260 - f1_score: 0.0592 - loss: 0.2148 - precision: 0.4150 - recall: 0.0403"
     ]
    },
    {
     "name": "stderr",
     "output_type": "stream",
     "text": [
      "2025-04-22 06:55:41.730252: I tensorflow/core/kernels/data/shuffle_dataset_op.cc:482] Shuffle buffer filled.\n",
      "2025-04-22 06:55:41.840536: W tensorflow/core/kernels/data/prefetch_autotuner.cc:52] Prefetch autotuner tried to allocate 91475456 bytes after encountering the first element of size 91475456 bytes.This already causes the autotune ram budget to be exceeded. To stay within the ram budget, either increase the ram budget or reduce element size\n"
     ]
    },
    {
     "name": "stdout",
     "output_type": "stream",
     "text": [
      "\u001b[1m335/561\u001b[0m \u001b[32m━━━━━━━━━━━\u001b[0m\u001b[37m━━━━━━━━━\u001b[0m \u001b[1m59s\u001b[0m 264ms/step - accuracy: 0.9128 - auc: 0.7435 - f1_score: 0.0711 - loss: 0.2209 - precision: 0.4327 - recall: 0.0481 "
     ]
    },
    {
     "name": "stderr",
     "output_type": "stream",
     "text": [
      "2025-04-22 06:57:04.446151: W tensorflow/core/lib/png/png_io.cc:92] PNG warning: iCCP: profile 'ICC Profile': 'GRAY': Gray color space not permitted on RGB PNG\n"
     ]
    },
    {
     "name": "stdout",
     "output_type": "stream",
     "text": [
      "\u001b[1m561/561\u001b[0m \u001b[32m━━━━━━━━━━━━━━━━━━━━\u001b[0m\u001b[37m\u001b[0m \u001b[1m0s\u001b[0m 258ms/step - accuracy: 0.9128 - auc: 0.7449 - f1_score: 0.0720 - loss: 0.2214 - precision: 0.4293 - recall: 0.0488 "
     ]
    },
    {
     "name": "stderr",
     "output_type": "stream",
     "text": [
      "2025-04-22 06:58:08.561553: I tensorflow/core/kernels/data/shuffle_dataset_op.cc:452] ShuffleDatasetV3:13: Filling up shuffle buffer (this may take a while): 6973 of 25000\n",
      "2025-04-22 06:58:28.556660: I tensorflow/core/kernels/data/shuffle_dataset_op.cc:452] ShuffleDatasetV3:13: Filling up shuffle buffer (this may take a while): 19036 of 25000\n",
      "2025-04-22 06:58:29 - INFO - \n",
      "=== Epoch 25 Summary ===\n",
      "2025-04-22 06:58:29 - INFO - Time: 173.39s\n",
      "2025-04-22 06:58:29 - INFO - Training   - accuracy: 0.9129 - auc: 0.7481 - f1_score: 0.0745 - loss: 0.2216 - precision: 0.4268 - recall: 0.0504 - learning_rate: 0.0000\n",
      "2025-04-22 06:58:29 - INFO - Validation - accuracy: 0.9137 - auc: 0.7397 - f1_score: 0.0672 - loss: 0.2881 - precision: 0.4306 - recall: 0.0419\n",
      "2025-04-22 06:58:29 - INFO - ==================================================\n",
      "\n"
     ]
    },
    {
     "name": "stdout",
     "output_type": "stream",
     "text": [
      "\u001b[1m561/561\u001b[0m \u001b[32m━━━━━━━━━━━━━━━━━━━━\u001b[0m\u001b[37m\u001b[0m \u001b[1m173s\u001b[0m 309ms/step - accuracy: 0.9128 - auc: 0.7449 - f1_score: 0.0720 - loss: 0.2214 - precision: 0.4293 - recall: 0.0488 - val_accuracy: 0.9137 - val_auc: 0.7397 - val_f1_score: 0.0672 - val_loss: 0.2881 - val_precision: 0.4306 - val_recall: 0.0419 - learning_rate: 1.2500e-05\n"
     ]
    },
    {
     "name": "stderr",
     "output_type": "stream",
     "text": [
      "2025-04-22 06:58:29 - INFO - \n",
      "=== Starting Epoch 26 ===\n",
      "\n"
     ]
    },
    {
     "name": "stdout",
     "output_type": "stream",
     "text": [
      "Epoch 26/100\n",
      "\u001b[1m 19/561\u001b[0m \u001b[37m━━━━━━━━━━━━━━━━━━━━\u001b[0m \u001b[1m2:10\u001b[0m 240ms/step - accuracy: 0.9100 - auc: 0.7379 - f1_score: 0.0685 - loss: 0.2264 - precision: 0.3728 - recall: 0.0451"
     ]
    },
    {
     "name": "stderr",
     "output_type": "stream",
     "text": [
      "2025-04-22 06:58:34.057386: I tensorflow/core/kernels/data/shuffle_dataset_op.cc:482] Shuffle buffer filled.\n"
     ]
    },
    {
     "name": "stdout",
     "output_type": "stream",
     "text": [
      "\u001b[1m336/561\u001b[0m \u001b[32m━━━━━━━━━━━\u001b[0m\u001b[37m━━━━━━━━━\u001b[0m \u001b[1m58s\u001b[0m 259ms/step - accuracy: 0.9124 - auc: 0.7457 - f1_score: 0.0724 - loss: 0.2192 - precision: 0.4125 - recall: 0.0500 "
     ]
    },
    {
     "name": "stderr",
     "output_type": "stream",
     "text": [
      "2025-04-22 06:59:56.332145: W tensorflow/core/lib/png/png_io.cc:92] PNG warning: iCCP: profile 'ICC Profile': 'GRAY': Gray color space not permitted on RGB PNG\n"
     ]
    },
    {
     "name": "stdout",
     "output_type": "stream",
     "text": [
      "\u001b[1m561/561\u001b[0m \u001b[32m━━━━━━━━━━━━━━━━━━━━\u001b[0m\u001b[37m\u001b[0m \u001b[1m0s\u001b[0m 255ms/step - accuracy: 0.9125 - auc: 0.7476 - f1_score: 0.0740 - loss: 0.2197 - precision: 0.4165 - recall: 0.0509 "
     ]
    },
    {
     "name": "stderr",
     "output_type": "stream",
     "text": [
      "2025-04-22 07:01:00.720014: I tensorflow/core/kernels/data/shuffle_dataset_op.cc:452] ShuffleDatasetV3:13: Filling up shuffle buffer (this may take a while): 6707 of 25000\n",
      "2025-04-22 07:01:10.722408: I tensorflow/core/kernels/data/shuffle_dataset_op.cc:452] ShuffleDatasetV3:13: Filling up shuffle buffer (this may take a while): 12529 of 25000\n",
      "2025-04-22 07:01:20 - INFO - \n",
      "=== Epoch 26 Summary ===\n",
      "2025-04-22 07:01:20 - INFO - Time: 170.72s\n",
      "2025-04-22 07:01:20 - INFO - Training   - accuracy: 0.9127 - auc: 0.7514 - f1_score: 0.0777 - loss: 0.2199 - precision: 0.4212 - recall: 0.0530 - learning_rate: 0.0000\n",
      "2025-04-22 07:01:20 - INFO - Validation - accuracy: 0.9139 - auc: 0.7407 - f1_score: 0.0656 - loss: 0.2914 - precision: 0.4483 - recall: 0.0456\n",
      "2025-04-22 07:01:20 - INFO - ==================================================\n",
      "\n"
     ]
    },
    {
     "name": "stdout",
     "output_type": "stream",
     "text": [
      "\u001b[1m561/561\u001b[0m \u001b[32m━━━━━━━━━━━━━━━━━━━━\u001b[0m\u001b[37m\u001b[0m \u001b[1m171s\u001b[0m 304ms/step - accuracy: 0.9125 - auc: 0.7476 - f1_score: 0.0740 - loss: 0.2197 - precision: 0.4165 - recall: 0.0509 - val_accuracy: 0.9139 - val_auc: 0.7407 - val_f1_score: 0.0656 - val_loss: 0.2914 - val_precision: 0.4483 - val_recall: 0.0456 - learning_rate: 1.2500e-05\n"
     ]
    },
    {
     "name": "stderr",
     "output_type": "stream",
     "text": [
      "2025-04-22 07:01:20 - INFO - \n",
      "=== Starting Epoch 27 ===\n",
      "\n"
     ]
    },
    {
     "name": "stdout",
     "output_type": "stream",
     "text": [
      "Epoch 27/100\n",
      "\u001b[1m 26/561\u001b[0m \u001b[37m━━━━━━━━━━━━━━━━━━━━\u001b[0m \u001b[1m2:04\u001b[0m 232ms/step - accuracy: 0.9136 - auc: 0.7557 - f1_score: 0.0748 - loss: 0.2287 - precision: 0.4564 - recall: 0.0532"
     ]
    },
    {
     "name": "stderr",
     "output_type": "stream",
     "text": [
      "2025-04-22 07:01:26.190529: I tensorflow/core/kernels/data/shuffle_dataset_op.cc:482] Shuffle buffer filled.\n",
      "2025-04-22 07:01:26.405284: W tensorflow/core/kernels/data/prefetch_autotuner.cc:52] Prefetch autotuner tried to allocate 91475456 bytes after encountering the first element of size 91475456 bytes.This already causes the autotune ram budget to be exceeded. To stay within the ram budget, either increase the ram budget or reduce element size\n"
     ]
    },
    {
     "name": "stdout",
     "output_type": "stream",
     "text": [
      "\u001b[1m337/561\u001b[0m \u001b[32m━━━━━━━━━━━━\u001b[0m\u001b[37m━━━━━━━━\u001b[0m \u001b[1m58s\u001b[0m 262ms/step - accuracy: 0.9125 - auc: 0.7551 - f1_score: 0.0785 - loss: 0.2209 - precision: 0.4239 - recall: 0.0540 "
     ]
    },
    {
     "name": "stderr",
     "output_type": "stream",
     "text": [
      "2025-04-22 07:02:48.375186: W tensorflow/core/lib/png/png_io.cc:92] PNG warning: iCCP: profile 'ICC Profile': 'GRAY': Gray color space not permitted on RGB PNG\n"
     ]
    },
    {
     "name": "stdout",
     "output_type": "stream",
     "text": [
      "\u001b[1m561/561\u001b[0m \u001b[32m━━━━━━━━━━━━━━━━━━━━\u001b[0m\u001b[37m\u001b[0m \u001b[1m0s\u001b[0m 256ms/step - accuracy: 0.9126 - auc: 0.7541 - f1_score: 0.0788 - loss: 0.2205 - precision: 0.4252 - recall: 0.0541 "
     ]
    },
    {
     "name": "stderr",
     "output_type": "stream",
     "text": [
      "2025-04-22 07:03:52.765706: I tensorflow/core/kernels/data/shuffle_dataset_op.cc:452] ShuffleDatasetV3:13: Filling up shuffle buffer (this may take a while): 6381 of 25000\n",
      "2025-04-22 07:04:12 - INFO - \n",
      "=== Epoch 27 Summary ===\n",
      "2025-04-22 07:04:12 - INFO - Time: 171.66s\n",
      "2025-04-22 07:04:12 - INFO - Training   - accuracy: 0.9128 - auc: 0.7528 - f1_score: 0.0788 - loss: 0.2196 - precision: 0.4284 - recall: 0.0538 - learning_rate: 0.0000\n",
      "2025-04-22 07:04:12 - INFO - Validation - accuracy: 0.9131 - auc: 0.7414 - f1_score: 0.0668 - loss: 0.2926 - precision: 0.4162 - recall: 0.0492\n",
      "2025-04-22 07:04:12 - INFO - ==================================================\n",
      "\n"
     ]
    },
    {
     "name": "stdout",
     "output_type": "stream",
     "text": [
      "\u001b[1m561/561\u001b[0m \u001b[32m━━━━━━━━━━━━━━━━━━━━\u001b[0m\u001b[37m\u001b[0m \u001b[1m172s\u001b[0m 306ms/step - accuracy: 0.9126 - auc: 0.7541 - f1_score: 0.0788 - loss: 0.2205 - precision: 0.4252 - recall: 0.0541 - val_accuracy: 0.9131 - val_auc: 0.7414 - val_f1_score: 0.0668 - val_loss: 0.2926 - val_precision: 0.4162 - val_recall: 0.0492 - learning_rate: 1.2500e-05\n"
     ]
    },
    {
     "name": "stderr",
     "output_type": "stream",
     "text": [
      "2025-04-22 07:04:12 - INFO - \n",
      "=== Starting Epoch 28 ===\n",
      "\n"
     ]
    },
    {
     "name": "stdout",
     "output_type": "stream",
     "text": [
      "Epoch 28/100\n",
      "\u001b[1m  3/561\u001b[0m \u001b[37m━━━━━━━━━━━━━━━━━━━━\u001b[0m \u001b[1m2:12\u001b[0m 238ms/step - accuracy: 0.9170 - auc: 0.7810 - f1_score: 0.0711 - loss: 0.2190 - precision: 0.5550 - recall: 0.0544"
     ]
    },
    {
     "name": "stderr",
     "output_type": "stream",
     "text": [
      "2025-04-22 07:04:12.763983: I tensorflow/core/kernels/data/shuffle_dataset_op.cc:452] ShuffleDatasetV3:13: Filling up shuffle buffer (this may take a while): 18826 of 25000\n"
     ]
    },
    {
     "name": "stdout",
     "output_type": "stream",
     "text": [
      "\u001b[1m 27/561\u001b[0m \u001b[37m━━━━━━━━━━━━━━━━━━━━\u001b[0m \u001b[1m2:06\u001b[0m 236ms/step - accuracy: 0.9147 - auc: 0.7723 - f1_score: 0.0787 - loss: 0.2159 - precision: 0.4935 - recall: 0.0546"
     ]
    },
    {
     "name": "stderr",
     "output_type": "stream",
     "text": [
      "2025-04-22 07:04:18.608966: I tensorflow/core/kernels/data/shuffle_dataset_op.cc:482] Shuffle buffer filled.\n",
      "2025-04-22 07:04:18.722308: W tensorflow/core/kernels/data/prefetch_autotuner.cc:52] Prefetch autotuner tried to allocate 91475456 bytes after encountering the first element of size 91475456 bytes.This already causes the autotune ram budget to be exceeded. To stay within the ram budget, either increase the ram budget or reduce element size\n"
     ]
    },
    {
     "name": "stdout",
     "output_type": "stream",
     "text": [
      "\u001b[1m338/561\u001b[0m \u001b[32m━━━━━━━━━━━━\u001b[0m\u001b[37m━━━━━━━━\u001b[0m \u001b[1m59s\u001b[0m 265ms/step - accuracy: 0.9130 - auc: 0.7557 - f1_score: 0.0779 - loss: 0.2182 - precision: 0.4379 - recall: 0.0534 "
     ]
    },
    {
     "name": "stderr",
     "output_type": "stream",
     "text": [
      "2025-04-22 07:05:41.356902: W tensorflow/core/lib/png/png_io.cc:92] PNG warning: iCCP: profile 'ICC Profile': 'GRAY': Gray color space not permitted on RGB PNG\n"
     ]
    },
    {
     "name": "stdout",
     "output_type": "stream",
     "text": [
      "\u001b[1m561/561\u001b[0m \u001b[32m━━━━━━━━━━━━━━━━━━━━\u001b[0m\u001b[37m\u001b[0m \u001b[1m0s\u001b[0m 258ms/step - accuracy: 0.9129 - auc: 0.7549 - f1_score: 0.0790 - loss: 0.2182 - precision: 0.4359 - recall: 0.0541 "
     ]
    },
    {
     "name": "stderr",
     "output_type": "stream",
     "text": [
      "2025-04-22 07:06:45.720147: I tensorflow/core/kernels/data/shuffle_dataset_op.cc:452] ShuffleDatasetV3:13: Filling up shuffle buffer (this may take a while): 6252 of 25000\n",
      "2025-04-22 07:07:05.719820: I tensorflow/core/kernels/data/shuffle_dataset_op.cc:452] ShuffleDatasetV3:13: Filling up shuffle buffer (this may take a while): 18573 of 25000\n",
      "2025-04-22 07:07:05 - INFO - \n",
      "=== Epoch 28 Summary ===\n",
      "2025-04-22 07:07:05 - INFO - Time: 173.76s\n",
      "2025-04-22 07:07:05 - INFO - Training   - accuracy: 0.9130 - auc: 0.7541 - f1_score: 0.0814 - loss: 0.2179 - precision: 0.4325 - recall: 0.0557 - learning_rate: 0.0000\n",
      "2025-04-22 07:07:05 - INFO - Validation - accuracy: 0.9127 - auc: 0.7373 - f1_score: 0.1285 - loss: 0.2843 - precision: 0.4359 - recall: 0.0851\n",
      "2025-04-22 07:07:05 - INFO - ==================================================\n",
      "\n"
     ]
    },
    {
     "name": "stdout",
     "output_type": "stream",
     "text": [
      "\u001b[1m561/561\u001b[0m \u001b[32m━━━━━━━━━━━━━━━━━━━━\u001b[0m\u001b[37m\u001b[0m \u001b[1m174s\u001b[0m 310ms/step - accuracy: 0.9129 - auc: 0.7549 - f1_score: 0.0791 - loss: 0.2182 - precision: 0.4359 - recall: 0.0541 - val_accuracy: 0.9127 - val_auc: 0.7373 - val_f1_score: 0.1285 - val_loss: 0.2843 - val_precision: 0.4359 - val_recall: 0.0851 - learning_rate: 1.2500e-05\n"
     ]
    },
    {
     "name": "stderr",
     "output_type": "stream",
     "text": [
      "2025-04-22 07:07:05 - INFO - \n",
      "=== Starting Epoch 29 ===\n",
      "\n"
     ]
    },
    {
     "name": "stdout",
     "output_type": "stream",
     "text": [
      "Epoch 29/100\n",
      "\u001b[1m 23/561\u001b[0m \u001b[37m━━━━━━━━━━━━━━━━━━━━\u001b[0m \u001b[1m2:08\u001b[0m 239ms/step - accuracy: 0.9130 - auc: 0.7579 - f1_score: 0.0842 - loss: 0.2241 - precision: 0.4009 - recall: 0.0576"
     ]
    },
    {
     "name": "stderr",
     "output_type": "stream",
     "text": [
      "2025-04-22 07:07:11.438595: I tensorflow/core/kernels/data/shuffle_dataset_op.cc:482] Shuffle buffer filled.\n"
     ]
    },
    {
     "name": "stdout",
     "output_type": "stream",
     "text": [
      "\u001b[1m 25/561\u001b[0m \u001b[37m━━━━━━━━━━━━━━━━━━━━\u001b[0m \u001b[1m2:08\u001b[0m 240ms/step - accuracy: 0.9129 - auc: 0.7577 - f1_score: 0.0841 - loss: 0.2243 - precision: 0.4010 - recall: 0.0575"
     ]
    },
    {
     "name": "stderr",
     "output_type": "stream",
     "text": [
      "2025-04-22 07:07:11.902437: W tensorflow/core/kernels/data/prefetch_autotuner.cc:52] Prefetch autotuner tried to allocate 77078016 bytes after encountering the first element of size 77078016 bytes.This already causes the autotune ram budget to be exceeded. To stay within the ram budget, either increase the ram budget or reduce element size\n"
     ]
    },
    {
     "name": "stdout",
     "output_type": "stream",
     "text": [
      "\u001b[1m339/561\u001b[0m \u001b[32m━━━━━━━━━━━━\u001b[0m\u001b[37m━━━━━━━━\u001b[0m \u001b[1m58s\u001b[0m 264ms/step - accuracy: 0.9123 - auc: 0.7545 - f1_score: 0.0809 - loss: 0.2186 - precision: 0.4124 - recall: 0.0563 "
     ]
    },
    {
     "name": "stderr",
     "output_type": "stream",
     "text": [
      "2025-04-22 07:08:35.342528: W tensorflow/core/lib/png/png_io.cc:92] PNG warning: iCCP: profile 'ICC Profile': 'GRAY': Gray color space not permitted on RGB PNG\n"
     ]
    },
    {
     "name": "stdout",
     "output_type": "stream",
     "text": [
      "\u001b[1m561/561\u001b[0m \u001b[32m━━━━━━━━━━━━━━━━━━━━\u001b[0m\u001b[37m\u001b[0m \u001b[1m0s\u001b[0m 258ms/step - accuracy: 0.9123 - auc: 0.7550 - f1_score: 0.0818 - loss: 0.2179 - precision: 0.4152 - recall: 0.0569 "
     ]
    },
    {
     "name": "stderr",
     "output_type": "stream",
     "text": [
      "2025-04-22 07:09:39.704359: I tensorflow/core/kernels/data/shuffle_dataset_op.cc:452] ShuffleDatasetV3:13: Filling up shuffle buffer (this may take a while): 6119 of 25000\n",
      "2025-04-22 07:09:58 - INFO - \n",
      "=== Epoch 29 Summary ===\n",
      "2025-04-22 07:09:58 - INFO - Time: 172.56s\n",
      "2025-04-22 07:09:58 - INFO - Training   - accuracy: 0.9124 - auc: 0.7570 - f1_score: 0.0840 - loss: 0.2169 - precision: 0.4204 - recall: 0.0582 - learning_rate: 0.0000\n",
      "2025-04-22 07:09:58 - INFO - Validation - accuracy: 0.9109 - auc: 0.7389 - f1_score: 0.0661 - loss: 0.3052 - precision: 0.3362 - recall: 0.0479\n",
      "2025-04-22 07:09:58 - INFO - ==================================================\n",
      "\n"
     ]
    },
    {
     "name": "stdout",
     "output_type": "stream",
     "text": [
      "\u001b[1m561/561\u001b[0m \u001b[32m━━━━━━━━━━━━━━━━━━━━\u001b[0m\u001b[37m\u001b[0m \u001b[1m173s\u001b[0m 308ms/step - accuracy: 0.9123 - auc: 0.7550 - f1_score: 0.0818 - loss: 0.2179 - precision: 0.4152 - recall: 0.0569 - val_accuracy: 0.9109 - val_auc: 0.7389 - val_f1_score: 0.0661 - val_loss: 0.3052 - val_precision: 0.3362 - val_recall: 0.0479 - learning_rate: 1.2500e-05\n"
     ]
    },
    {
     "name": "stderr",
     "output_type": "stream",
     "text": [
      "2025-04-22 07:09:58 - INFO - \n",
      "=== Starting Epoch 30 ===\n",
      "\n"
     ]
    },
    {
     "name": "stdout",
     "output_type": "stream",
     "text": [
      "Epoch 30/100\n",
      "\u001b[1m  5/561\u001b[0m \u001b[37m━━━━━━━━━━━━━━━━━━━━\u001b[0m \u001b[1m2:11\u001b[0m 237ms/step - accuracy: 0.9122 - auc: 0.7130 - f1_score: 0.0854 - loss: 0.2133 - precision: 0.4249 - recall: 0.0582"
     ]
    },
    {
     "name": "stderr",
     "output_type": "stream",
     "text": [
      "2025-04-22 07:09:59.703694: I tensorflow/core/kernels/data/shuffle_dataset_op.cc:452] ShuffleDatasetV3:13: Filling up shuffle buffer (this may take a while): 18819 of 25000\n"
     ]
    },
    {
     "name": "stdout",
     "output_type": "stream",
     "text": [
      "\u001b[1m 29/561\u001b[0m \u001b[32m━\u001b[0m\u001b[37m━━━━━━━━━━━━━━━━━━━\u001b[0m \u001b[1m2:03\u001b[0m 233ms/step - accuracy: 0.9131 - auc: 0.7591 - f1_score: 0.0856 - loss: 0.2143 - precision: 0.4221 - recall: 0.0598"
     ]
    },
    {
     "name": "stderr",
     "output_type": "stream",
     "text": [
      "2025-04-22 07:10:05.173024: I tensorflow/core/kernels/data/shuffle_dataset_op.cc:482] Shuffle buffer filled.\n",
      "2025-04-22 07:10:05.307069: W tensorflow/core/kernels/data/prefetch_autotuner.cc:52] Prefetch autotuner tried to allocate 91475456 bytes after encountering the first element of size 91475456 bytes.This already causes the autotune ram budget to be exceeded. To stay within the ram budget, either increase the ram budget or reduce element size\n"
     ]
    },
    {
     "name": "stdout",
     "output_type": "stream",
     "text": [
      "\u001b[1m340/561\u001b[0m \u001b[32m━━━━━━━━━━━━\u001b[0m\u001b[37m━━━━━━━━\u001b[0m \u001b[1m58s\u001b[0m 267ms/step - accuracy: 0.9122 - auc: 0.7543 - f1_score: 0.0818 - loss: 0.2185 - precision: 0.4016 - recall: 0.0565 "
     ]
    },
    {
     "name": "stderr",
     "output_type": "stream",
     "text": [
      "2025-04-22 07:11:29.001417: W tensorflow/core/lib/png/png_io.cc:92] PNG warning: iCCP: profile 'ICC Profile': 'GRAY': Gray color space not permitted on RGB PNG\n"
     ]
    },
    {
     "name": "stdout",
     "output_type": "stream",
     "text": [
      "\u001b[1m561/561\u001b[0m \u001b[32m━━━━━━━━━━━━━━━━━━━━\u001b[0m\u001b[37m\u001b[0m \u001b[1m0s\u001b[0m 259ms/step - accuracy: 0.9123 - auc: 0.7553 - f1_score: 0.0827 - loss: 0.2181 - precision: 0.4098 - recall: 0.0570 "
     ]
    },
    {
     "name": "stderr",
     "output_type": "stream",
     "text": [
      "2025-04-22 07:12:33.329116: I tensorflow/core/kernels/data/shuffle_dataset_op.cc:452] ShuffleDatasetV3:13: Filling up shuffle buffer (this may take a while): 6156 of 25000\n",
      "2025-04-22 07:12:43.329622: I tensorflow/core/kernels/data/shuffle_dataset_op.cc:452] ShuffleDatasetV3:13: Filling up shuffle buffer (this may take a while): 11966 of 25000\n",
      "2025-04-22 07:12:51 - INFO - \n",
      "=== Epoch 30 Summary ===\n",
      "2025-04-22 07:12:51 - INFO - Time: 173.45s\n",
      "2025-04-22 07:12:51 - INFO - Training   - accuracy: 0.9127 - auc: 0.7581 - f1_score: 0.0859 - loss: 0.2171 - precision: 0.4264 - recall: 0.0590 - learning_rate: 0.0000\n",
      "2025-04-22 07:12:51 - INFO - Validation - accuracy: 0.9135 - auc: 0.7477 - f1_score: 0.0763 - loss: 0.2922 - precision: 0.4364 - recall: 0.0528\n",
      "2025-04-22 07:12:51 - INFO - ==================================================\n",
      "\n"
     ]
    },
    {
     "name": "stdout",
     "output_type": "stream",
     "text": [
      "\u001b[1m561/561\u001b[0m \u001b[32m━━━━━━━━━━━━━━━━━━━━\u001b[0m\u001b[37m\u001b[0m \u001b[1m173s\u001b[0m 309ms/step - accuracy: 0.9123 - auc: 0.7554 - f1_score: 0.0827 - loss: 0.2181 - precision: 0.4098 - recall: 0.0570 - val_accuracy: 0.9135 - val_auc: 0.7477 - val_f1_score: 0.0763 - val_loss: 0.2922 - val_precision: 0.4364 - val_recall: 0.0528 - learning_rate: 1.2500e-05\n"
     ]
    },
    {
     "name": "stderr",
     "output_type": "stream",
     "text": [
      "2025-04-22 07:12:51 - INFO - \n",
      "=== Starting Epoch 31 ===\n",
      "\n"
     ]
    },
    {
     "name": "stdout",
     "output_type": "stream",
     "text": [
      "Epoch 31/100\n",
      "\u001b[1m  6/561\u001b[0m \u001b[37m━━━━━━━━━━━━━━━━━━━━\u001b[0m \u001b[1m2:12\u001b[0m 240ms/step - accuracy: 0.9107 - auc: 0.7517 - f1_score: 0.0715 - loss: 0.2327 - precision: 0.3965 - recall: 0.0513"
     ]
    },
    {
     "name": "stderr",
     "output_type": "stream",
     "text": [
      "2025-04-22 07:12:53.330024: I tensorflow/core/kernels/data/shuffle_dataset_op.cc:452] ShuffleDatasetV3:13: Filling up shuffle buffer (this may take a while): 19110 of 25000\n"
     ]
    },
    {
     "name": "stdout",
     "output_type": "stream",
     "text": [
      "\u001b[1m 28/561\u001b[0m \u001b[37m━━━━━━━━━━━━━━━━━━━━\u001b[0m \u001b[1m2:07\u001b[0m 240ms/step - accuracy: 0.9124 - auc: 0.7609 - f1_score: 0.0846 - loss: 0.2177 - precision: 0.4415 - recall: 0.0580"
     ]
    },
    {
     "name": "stderr",
     "output_type": "stream",
     "text": [
      "2025-04-22 07:12:58.551246: I tensorflow/core/kernels/data/shuffle_dataset_op.cc:482] Shuffle buffer filled.\n"
     ]
    },
    {
     "name": "stdout",
     "output_type": "stream",
     "text": [
      "\u001b[1m 30/561\u001b[0m \u001b[32m━\u001b[0m\u001b[37m━━━━━━━━━━━━━━━━━━━\u001b[0m \u001b[1m2:04\u001b[0m 234ms/step - accuracy: 0.9124 - auc: 0.7608 - f1_score: 0.0854 - loss: 0.2176 - precision: 0.4427 - recall: 0.0585"
     ]
    },
    {
     "name": "stderr",
     "output_type": "stream",
     "text": [
      "2025-04-22 07:12:58.992356: W tensorflow/core/kernels/data/prefetch_autotuner.cc:52] Prefetch autotuner tried to allocate 77078016 bytes after encountering the first element of size 77078016 bytes.This already causes the autotune ram budget to be exceeded. To stay within the ram budget, either increase the ram budget or reduce element size\n"
     ]
    },
    {
     "name": "stdout",
     "output_type": "stream",
     "text": [
      "\u001b[1m341/561\u001b[0m \u001b[32m━━━━━━━━━━━━\u001b[0m\u001b[37m━━━━━━━━\u001b[0m \u001b[1m56s\u001b[0m 255ms/step - accuracy: 0.9129 - auc: 0.7611 - f1_score: 0.0924 - loss: 0.2138 - precision: 0.4511 - recall: 0.0628 "
     ]
    },
    {
     "name": "stderr",
     "output_type": "stream",
     "text": [
      "2025-04-22 07:14:18.782393: W tensorflow/core/lib/png/png_io.cc:92] PNG warning: iCCP: profile 'ICC Profile': 'GRAY': Gray color space not permitted on RGB PNG\n"
     ]
    },
    {
     "name": "stdout",
     "output_type": "stream",
     "text": [
      "\u001b[1m561/561\u001b[0m \u001b[32m━━━━━━━━━━━━━━━━━━━━\u001b[0m\u001b[37m\u001b[0m \u001b[1m0s\u001b[0m 253ms/step - accuracy: 0.9129 - auc: 0.7619 - f1_score: 0.0924 - loss: 0.2137 - precision: 0.4481 - recall: 0.0630 "
     ]
    },
    {
     "name": "stderr",
     "output_type": "stream",
     "text": [
      "2025-04-22 07:15:23.194948: I tensorflow/core/kernels/data/shuffle_dataset_op.cc:452] ShuffleDatasetV3:13: Filling up shuffle buffer (this may take a while): 6025 of 25000\n"
     ]
    },
    {
     "name": "stdout",
     "output_type": "stream",
     "text": [
      "\n",
      "Epoch 31: ReduceLROnPlateau reducing learning rate to 6.24999984211172e-06.\n"
     ]
    },
    {
     "name": "stderr",
     "output_type": "stream",
     "text": [
      "2025-04-22 07:15:41 - INFO - \n",
      "=== Epoch 31 Summary ===\n",
      "2025-04-22 07:15:41 - INFO - Time: 169.44s\n",
      "2025-04-22 07:15:41 - INFO - Training   - accuracy: 0.9129 - auc: 0.7634 - f1_score: 0.0926 - loss: 0.2141 - precision: 0.4413 - recall: 0.0636 - learning_rate: 0.0000\n",
      "2025-04-22 07:15:41 - INFO - Validation - accuracy: 0.9089 - auc: 0.7263 - f1_score: 0.0782 - loss: 0.3171 - precision: 0.3364 - recall: 0.0720\n",
      "2025-04-22 07:15:41 - INFO - ==================================================\n",
      "\n"
     ]
    },
    {
     "name": "stdout",
     "output_type": "stream",
     "text": [
      "\u001b[1m561/561\u001b[0m \u001b[32m━━━━━━━━━━━━━━━━━━━━\u001b[0m\u001b[37m\u001b[0m \u001b[1m169s\u001b[0m 302ms/step - accuracy: 0.9129 - auc: 0.7619 - f1_score: 0.0924 - loss: 0.2137 - precision: 0.4481 - recall: 0.0630 - val_accuracy: 0.9089 - val_auc: 0.7263 - val_f1_score: 0.0782 - val_loss: 0.3171 - val_precision: 0.3364 - val_recall: 0.0720 - learning_rate: 1.2500e-05\n"
     ]
    },
    {
     "name": "stderr",
     "output_type": "stream",
     "text": [
      "2025-04-22 07:15:41 - INFO - \n",
      "=== Starting Epoch 32 ===\n",
      "\n"
     ]
    },
    {
     "name": "stdout",
     "output_type": "stream",
     "text": [
      "Epoch 32/100\n",
      "\u001b[1m  8/561\u001b[0m \u001b[37m━━━━━━━━━━━━━━━━━━━━\u001b[0m \u001b[1m2:11\u001b[0m 238ms/step - accuracy: 0.9143 - auc: 0.7548 - f1_score: 0.1077 - loss: 0.2142 - precision: 0.4927 - recall: 0.0753"
     ]
    },
    {
     "name": "stderr",
     "output_type": "stream",
     "text": [
      "2025-04-22 07:15:43.192352: I tensorflow/core/kernels/data/shuffle_dataset_op.cc:452] ShuffleDatasetV3:13: Filling up shuffle buffer (this may take a while): 18794 of 25000\n"
     ]
    },
    {
     "name": "stdout",
     "output_type": "stream",
     "text": [
      "\u001b[1m 31/561\u001b[0m \u001b[32m━\u001b[0m\u001b[37m━━━━━━━━━━━━━━━━━━━\u001b[0m \u001b[1m2:03\u001b[0m 234ms/step - accuracy: 0.9130 - auc: 0.7677 - f1_score: 0.0947 - loss: 0.2164 - precision: 0.4644 - recall: 0.0677"
     ]
    },
    {
     "name": "stderr",
     "output_type": "stream",
     "text": [
      "2025-04-22 07:15:48.695358: I tensorflow/core/kernels/data/shuffle_dataset_op.cc:482] Shuffle buffer filled.\n",
      "2025-04-22 07:15:48.808963: W tensorflow/core/kernels/data/prefetch_autotuner.cc:52] Prefetch autotuner tried to allocate 91475456 bytes after encountering the first element of size 91475456 bytes.This already causes the autotune ram budget to be exceeded. To stay within the ram budget, either increase the ram budget or reduce element size\n"
     ]
    },
    {
     "name": "stdout",
     "output_type": "stream",
     "text": [
      "\u001b[1m342/561\u001b[0m \u001b[32m━━━━━━━━━━━━\u001b[0m\u001b[37m━━━━━━━━\u001b[0m \u001b[1m57s\u001b[0m 260ms/step - accuracy: 0.9129 - auc: 0.7671 - f1_score: 0.0884 - loss: 0.2142 - precision: 0.4476 - recall: 0.0625 "
     ]
    },
    {
     "name": "stderr",
     "output_type": "stream",
     "text": [
      "2025-04-22 07:17:10.288808: W tensorflow/core/lib/png/png_io.cc:92] PNG warning: iCCP: profile 'ICC Profile': 'GRAY': Gray color space not permitted on RGB PNG\n"
     ]
    },
    {
     "name": "stdout",
     "output_type": "stream",
     "text": [
      "\u001b[1m561/561\u001b[0m \u001b[32m━━━━━━━━━━━━━━━━━━━━\u001b[0m\u001b[37m\u001b[0m \u001b[1m0s\u001b[0m 256ms/step - accuracy: 0.9130 - auc: 0.7678 - f1_score: 0.0898 - loss: 0.2134 - precision: 0.4493 - recall: 0.0631 "
     ]
    },
    {
     "name": "stderr",
     "output_type": "stream",
     "text": [
      "2025-04-22 07:18:14.713450: I tensorflow/core/kernels/data/shuffle_dataset_op.cc:452] ShuffleDatasetV3:13: Filling up shuffle buffer (this may take a while): 5890 of 25000\n",
      "2025-04-22 07:18:32 - INFO - \n",
      "=== Epoch 32 Summary ===\n",
      "2025-04-22 07:18:32 - INFO - Time: 171.10s\n",
      "2025-04-22 07:18:32 - INFO - Training   - accuracy: 0.9132 - auc: 0.7702 - f1_score: 0.0947 - loss: 0.2115 - precision: 0.4554 - recall: 0.0662 - learning_rate: 0.0000\n",
      "2025-04-22 07:18:32 - INFO - Validation - accuracy: 0.9113 - auc: 0.7428 - f1_score: 0.1079 - loss: 0.2907 - precision: 0.3972 - recall: 0.0808\n",
      "2025-04-22 07:18:32 - INFO - ==================================================\n",
      "\n"
     ]
    },
    {
     "name": "stdout",
     "output_type": "stream",
     "text": [
      "\u001b[1m561/561\u001b[0m \u001b[32m━━━━━━━━━━━━━━━━━━━━\u001b[0m\u001b[37m\u001b[0m \u001b[1m171s\u001b[0m 305ms/step - accuracy: 0.9130 - auc: 0.7678 - f1_score: 0.0898 - loss: 0.2134 - precision: 0.4493 - recall: 0.0631 - val_accuracy: 0.9113 - val_auc: 0.7428 - val_f1_score: 0.1079 - val_loss: 0.2907 - val_precision: 0.3972 - val_recall: 0.0808 - learning_rate: 6.2500e-06\n"
     ]
    },
    {
     "name": "stderr",
     "output_type": "stream",
     "text": [
      "2025-04-22 07:18:32 - INFO - \n",
      "=== Starting Epoch 33 ===\n",
      "\n"
     ]
    },
    {
     "name": "stdout",
     "output_type": "stream",
     "text": [
      "Epoch 33/100\n",
      "\u001b[1m 10/561\u001b[0m \u001b[37m━━━━━━━━━━━━━━━━━━━━\u001b[0m \u001b[1m2:11\u001b[0m 238ms/step - accuracy: 0.9166 - auc: 0.7815 - f1_score: 0.0820 - loss: 0.1880 - precision: 0.4156 - recall: 0.0598"
     ]
    },
    {
     "name": "stderr",
     "output_type": "stream",
     "text": [
      "2025-04-22 07:18:34.712714: I tensorflow/core/kernels/data/shuffle_dataset_op.cc:452] ShuffleDatasetV3:13: Filling up shuffle buffer (this may take a while): 19141 of 25000\n"
     ]
    },
    {
     "name": "stdout",
     "output_type": "stream",
     "text": [
      "\u001b[1m 32/561\u001b[0m \u001b[32m━\u001b[0m\u001b[37m━━━━━━━━━━━━━━━━━━━\u001b[0m \u001b[1m2:03\u001b[0m 234ms/step - accuracy: 0.9152 - auc: 0.7826 - f1_score: 0.0979 - loss: 0.1983 - precision: 0.4571 - recall: 0.0689"
     ]
    },
    {
     "name": "stderr",
     "output_type": "stream",
     "text": [
      "2025-04-22 07:18:39.864202: I tensorflow/core/kernels/data/shuffle_dataset_op.cc:482] Shuffle buffer filled.\n",
      "2025-04-22 07:18:40.009214: W tensorflow/core/kernels/data/prefetch_autotuner.cc:52] Prefetch autotuner tried to allocate 91475456 bytes after encountering the first element of size 91475456 bytes.This already causes the autotune ram budget to be exceeded. To stay within the ram budget, either increase the ram budget or reduce element size\n"
     ]
    },
    {
     "name": "stdout",
     "output_type": "stream",
     "text": [
      "\u001b[1m343/561\u001b[0m \u001b[32m━━━━━━━━━━━━\u001b[0m\u001b[37m━━━━━━━━\u001b[0m \u001b[1m56s\u001b[0m 258ms/step - accuracy: 0.9134 - auc: 0.7728 - f1_score: 0.1022 - loss: 0.2093 - precision: 0.4592 - recall: 0.0714 "
     ]
    },
    {
     "name": "stderr",
     "output_type": "stream",
     "text": [
      "2025-04-22 07:20:00.918588: W tensorflow/core/lib/png/png_io.cc:92] PNG warning: iCCP: profile 'ICC Profile': 'GRAY': Gray color space not permitted on RGB PNG\n"
     ]
    },
    {
     "name": "stdout",
     "output_type": "stream",
     "text": [
      "\u001b[1m561/561\u001b[0m \u001b[32m━━━━━━━━━━━━━━━━━━━━\u001b[0m\u001b[37m\u001b[0m \u001b[1m0s\u001b[0m 254ms/step - accuracy: 0.9133 - auc: 0.7728 - f1_score: 0.1022 - loss: 0.2094 - precision: 0.4575 - recall: 0.0713 "
     ]
    },
    {
     "name": "stderr",
     "output_type": "stream",
     "text": [
      "2025-04-22 07:20:55.405040: W tensorflow/core/kernels/data/prefetch_autotuner.cc:52] Prefetch autotuner tried to allocate 134225408 bytes after encountering the first element of size 134225408 bytes.This already causes the autotune ram budget to be exceeded. To stay within the ram budget, either increase the ram budget or reduce element size\n",
      "2025-04-22 07:21:13 - INFO - \n",
      "=== Epoch 33 Summary ===\n",
      "2025-04-22 07:21:13 - INFO - Time: 160.75s\n",
      "2025-04-22 07:21:13 - INFO - Training   - accuracy: 0.9133 - auc: 0.7746 - f1_score: 0.1035 - loss: 0.2094 - precision: 0.4560 - recall: 0.0720 - learning_rate: 0.0000\n",
      "2025-04-22 07:21:13 - INFO - Validation - accuracy: 0.9126 - auc: 0.7451 - f1_score: 0.1033 - loss: 0.2907 - precision: 0.4258 - recall: 0.0744\n",
      "2025-04-22 07:21:13 - INFO - ==================================================\n",
      "\n"
     ]
    },
    {
     "name": "stdout",
     "output_type": "stream",
     "text": [
      "\u001b[1m561/561\u001b[0m \u001b[32m━━━━━━━━━━━━━━━━━━━━\u001b[0m\u001b[37m\u001b[0m \u001b[1m161s\u001b[0m 287ms/step - accuracy: 0.9133 - auc: 0.7728 - f1_score: 0.1022 - loss: 0.2094 - precision: 0.4575 - recall: 0.0713 - val_accuracy: 0.9126 - val_auc: 0.7451 - val_f1_score: 0.1033 - val_loss: 0.2907 - val_precision: 0.4258 - val_recall: 0.0744 - learning_rate: 6.2500e-06\n"
     ]
    },
    {
     "name": "stderr",
     "output_type": "stream",
     "text": [
      "2025-04-22 07:21:13 - INFO - \n",
      "=== Starting Epoch 34 ===\n",
      "\n"
     ]
    },
    {
     "name": "stdout",
     "output_type": "stream",
     "text": [
      "Epoch 34/100\n",
      "\u001b[1m  8/561\u001b[0m \u001b[37m━━━━━━━━━━━━━━━━━━━━\u001b[0m \u001b[1m2:11\u001b[0m 237ms/step - accuracy: 0.9138 - auc: 0.7230 - f1_score: 0.1175 - loss: 0.2150 - precision: 0.4892 - recall: 0.0839"
     ]
    },
    {
     "name": "stderr",
     "output_type": "stream",
     "text": [
      "2025-04-22 07:21:15.115462: I tensorflow/core/kernels/data/shuffle_dataset_op.cc:452] ShuffleDatasetV3:13: Filling up shuffle buffer (this may take a while): 7214 of 25000\n"
     ]
    },
    {
     "name": "stdout",
     "output_type": "stream",
     "text": [
      "\u001b[1m 33/561\u001b[0m \u001b[32m━\u001b[0m\u001b[37m━━━━━━━━━━━━━━━━━━━\u001b[0m \u001b[1m2:03\u001b[0m 234ms/step - accuracy: 0.9131 - auc: 0.7585 - f1_score: 0.1116 - loss: 0.2117 - precision: 0.4664 - recall: 0.0795"
     ]
    },
    {
     "name": "stderr",
     "output_type": "stream",
     "text": [
      "2025-04-22 07:21:30.824588: I tensorflow/core/kernels/data/shuffle_dataset_op.cc:482] Shuffle buffer filled.\n",
      "2025-04-22 07:21:30.936922: W tensorflow/core/kernels/data/prefetch_autotuner.cc:52] Prefetch autotuner tried to allocate 91475456 bytes after encountering the first element of size 91475456 bytes.This already causes the autotune ram budget to be exceeded. To stay within the ram budget, either increase the ram budget or reduce element size\n"
     ]
    },
    {
     "name": "stdout",
     "output_type": "stream",
     "text": [
      "\u001b[1m344/561\u001b[0m \u001b[32m━━━━━━━━━━━━\u001b[0m\u001b[37m━━━━━━━━\u001b[0m \u001b[1m1:04\u001b[0m 297ms/step - accuracy: 0.9131 - auc: 0.7733 - f1_score: 0.1097 - loss: 0.2101 - precision: 0.4646 - recall: 0.0777"
     ]
    },
    {
     "name": "stderr",
     "output_type": "stream",
     "text": [
      "2025-04-22 07:22:55.181514: W tensorflow/core/lib/png/png_io.cc:92] PNG warning: iCCP: profile 'ICC Profile': 'GRAY': Gray color space not permitted on RGB PNG\n"
     ]
    },
    {
     "name": "stdout",
     "output_type": "stream",
     "text": [
      "\u001b[1m561/561\u001b[0m \u001b[32m━━━━━━━━━━━━━━━━━━━━\u001b[0m\u001b[37m\u001b[0m \u001b[1m0s\u001b[0m 278ms/step - accuracy: 0.9131 - auc: 0.7746 - f1_score: 0.1089 - loss: 0.2097 - precision: 0.4621 - recall: 0.0771  \n",
      "Epoch 34: ReduceLROnPlateau reducing learning rate to 3.12499992105586e-06.\n"
     ]
    },
    {
     "name": "stderr",
     "output_type": "stream",
     "text": [
      "2025-04-22 07:24:03 - INFO - \n",
      "=== Epoch 34 Summary ===\n",
      "2025-04-22 07:24:03 - INFO - Time: 170.42s\n",
      "2025-04-22 07:24:03 - INFO - Training   - accuracy: 0.9131 - auc: 0.7762 - f1_score: 0.1087 - loss: 0.2087 - precision: 0.4593 - recall: 0.0767 - learning_rate: 0.0000\n",
      "2025-04-22 07:24:03 - INFO - Validation - accuracy: 0.9104 - auc: 0.7416 - f1_score: 0.0847 - loss: 0.2992 - precision: 0.3514 - recall: 0.0621\n",
      "2025-04-22 07:24:03 - INFO - ==================================================\n",
      "\n"
     ]
    },
    {
     "name": "stdout",
     "output_type": "stream",
     "text": [
      "\u001b[1m561/561\u001b[0m \u001b[32m━━━━━━━━━━━━━━━━━━━━\u001b[0m\u001b[37m\u001b[0m \u001b[1m170s\u001b[0m 304ms/step - accuracy: 0.9131 - auc: 0.7746 - f1_score: 0.1089 - loss: 0.2097 - precision: 0.4621 - recall: 0.0771 - val_accuracy: 0.9104 - val_auc: 0.7416 - val_f1_score: 0.0847 - val_loss: 0.2992 - val_precision: 0.3514 - val_recall: 0.0621 - learning_rate: 6.2500e-06\n"
     ]
    },
    {
     "name": "stderr",
     "output_type": "stream",
     "text": [
      "2025-04-22 07:24:03 - INFO - \n",
      "=== Starting Epoch 35 ===\n",
      "\n"
     ]
    },
    {
     "name": "stdout",
     "output_type": "stream",
     "text": [
      "Epoch 35/100\n",
      "\u001b[1m 34/561\u001b[0m \u001b[32m━\u001b[0m\u001b[37m━━━━━━━━━━━━━━━━━━━\u001b[0m \u001b[1m2:03\u001b[0m 234ms/step - accuracy: 0.9132 - auc: 0.7822 - f1_score: 0.1105 - loss: 0.1999 - precision: 0.4320 - recall: 0.0746"
     ]
    },
    {
     "name": "stderr",
     "output_type": "stream",
     "text": [
      "2025-04-22 07:24:13.960777: I tensorflow/core/kernels/data/shuffle_dataset_op.cc:452] ShuffleDatasetV3:13: Filling up shuffle buffer (this may take a while): 11339 of 25000\n",
      "2025-04-22 07:24:25.820626: I tensorflow/core/kernels/data/shuffle_dataset_op.cc:482] Shuffle buffer filled.\n",
      "2025-04-22 07:24:25.935551: W tensorflow/core/kernels/data/prefetch_autotuner.cc:52] Prefetch autotuner tried to allocate 91475456 bytes after encountering the first element of size 91475456 bytes.This already causes the autotune ram budget to be exceeded. To stay within the ram budget, either increase the ram budget or reduce element size\n"
     ]
    },
    {
     "name": "stdout",
     "output_type": "stream",
     "text": [
      "\u001b[1m345/561\u001b[0m \u001b[32m━━━━━━━━━━━━\u001b[0m\u001b[37m━━━━━━━━\u001b[0m \u001b[1m1:05\u001b[0m 303ms/step - accuracy: 0.9136 - auc: 0.7760 - f1_score: 0.1153 - loss: 0.2062 - precision: 0.4620 - recall: 0.0798"
     ]
    },
    {
     "name": "stderr",
     "output_type": "stream",
     "text": [
      "2025-04-22 07:25:47.930458: W tensorflow/core/lib/png/png_io.cc:92] PNG warning: iCCP: profile 'ICC Profile': 'GRAY': Gray color space not permitted on RGB PNG\n"
     ]
    },
    {
     "name": "stdout",
     "output_type": "stream",
     "text": [
      "\u001b[1m561/561\u001b[0m \u001b[32m━━━━━━━━━━━━━━━━━━━━\u001b[0m\u001b[37m\u001b[0m \u001b[1m0s\u001b[0m 282ms/step - accuracy: 0.9136 - auc: 0.7768 - f1_score: 0.1149 - loss: 0.2062 - precision: 0.4666 - recall: 0.0798  "
     ]
    },
    {
     "name": "stderr",
     "output_type": "stream",
     "text": [
      "2025-04-22 07:26:42.046633: W tensorflow/core/kernels/data/prefetch_autotuner.cc:52] Prefetch autotuner tried to allocate 114302464 bytes after encountering the first element of size 114302464 bytes.This already causes the autotune ram budget to be exceeded. To stay within the ram budget, either increase the ram budget or reduce element size\n",
      "2025-04-22 07:26:56 - INFO - \n",
      "=== Epoch 35 Summary ===\n",
      "2025-04-22 07:26:56 - INFO - Time: 172.51s\n",
      "2025-04-22 07:26:56 - INFO - Training   - accuracy: 0.9137 - auc: 0.7789 - f1_score: 0.1152 - loss: 0.2063 - precision: 0.4765 - recall: 0.0804 - learning_rate: 0.0000\n",
      "2025-04-22 07:26:56 - INFO - Validation - accuracy: 0.9120 - auc: 0.7477 - f1_score: 0.0952 - loss: 0.2917 - precision: 0.3999 - recall: 0.0671\n",
      "2025-04-22 07:26:56 - INFO - ==================================================\n",
      "\n"
     ]
    },
    {
     "name": "stdout",
     "output_type": "stream",
     "text": [
      "\u001b[1m561/561\u001b[0m \u001b[32m━━━━━━━━━━━━━━━━━━━━\u001b[0m\u001b[37m\u001b[0m \u001b[1m173s\u001b[0m 308ms/step - accuracy: 0.9136 - auc: 0.7768 - f1_score: 0.1149 - loss: 0.2062 - precision: 0.4666 - recall: 0.0798 - val_accuracy: 0.9120 - val_auc: 0.7477 - val_f1_score: 0.0952 - val_loss: 0.2917 - val_precision: 0.3999 - val_recall: 0.0671 - learning_rate: 3.1250e-06\n"
     ]
    },
    {
     "name": "stderr",
     "output_type": "stream",
     "text": [
      "2025-04-22 07:26:56 - INFO - \n",
      "=== Starting Epoch 36 ===\n",
      "\n"
     ]
    },
    {
     "name": "stdout",
     "output_type": "stream",
     "text": [
      "Epoch 36/100\n",
      "\u001b[1m 35/561\u001b[0m \u001b[32m━\u001b[0m\u001b[37m━━━━━━━━━━━━━━━━━━━\u001b[0m \u001b[1m2:03\u001b[0m 234ms/step - accuracy: 0.9141 - auc: 0.7796 - f1_score: 0.1158 - loss: 0.2068 - precision: 0.4703 - recall: 0.0815"
     ]
    },
    {
     "name": "stderr",
     "output_type": "stream",
     "text": [
      "2025-04-22 07:27:06.718774: I tensorflow/core/kernels/data/shuffle_dataset_op.cc:452] ShuffleDatasetV3:13: Filling up shuffle buffer (this may take a while): 11301 of 25000\n",
      "2025-04-22 07:27:19.167253: I tensorflow/core/kernels/data/shuffle_dataset_op.cc:482] Shuffle buffer filled.\n",
      "2025-04-22 07:27:19.516548: W tensorflow/core/kernels/data/prefetch_autotuner.cc:52] Prefetch autotuner tried to allocate 91475456 bytes after encountering the first element of size 91475456 bytes.This already causes the autotune ram budget to be exceeded. To stay within the ram budget, either increase the ram budget or reduce element size\n"
     ]
    },
    {
     "name": "stdout",
     "output_type": "stream",
     "text": [
      "\u001b[1m346/561\u001b[0m \u001b[32m━━━━━━━━━━━━\u001b[0m\u001b[37m━━━━━━━━\u001b[0m \u001b[1m1:05\u001b[0m 307ms/step - accuracy: 0.9135 - auc: 0.7809 - f1_score: 0.1124 - loss: 0.2057 - precision: 0.4690 - recall: 0.0784"
     ]
    },
    {
     "name": "stderr",
     "output_type": "stream",
     "text": [
      "2025-04-22 07:28:42.111785: W tensorflow/core/lib/png/png_io.cc:92] PNG warning: iCCP: profile 'ICC Profile': 'GRAY': Gray color space not permitted on RGB PNG\n"
     ]
    },
    {
     "name": "stdout",
     "output_type": "stream",
     "text": [
      "\u001b[1m561/561\u001b[0m \u001b[32m━━━━━━━━━━━━━━━━━━━━\u001b[0m\u001b[37m\u001b[0m \u001b[1m0s\u001b[0m 285ms/step - accuracy: 0.9135 - auc: 0.7811 - f1_score: 0.1130 - loss: 0.2055 - precision: 0.4701 - recall: 0.0789  "
     ]
    },
    {
     "name": "stderr",
     "output_type": "stream",
     "text": [
      "2025-04-22 07:29:52 - INFO - \n",
      "=== Epoch 36 Summary ===\n",
      "2025-04-22 07:29:52 - INFO - Time: 176.29s\n",
      "2025-04-22 07:29:52 - INFO - Training   - accuracy: 0.9136 - auc: 0.7820 - f1_score: 0.1149 - loss: 0.2055 - precision: 0.4736 - recall: 0.0809 - learning_rate: 0.0000\n",
      "2025-04-22 07:29:52 - INFO - Validation - accuracy: 0.9096 - auc: 0.7465 - f1_score: 0.1001 - loss: 0.2992 - precision: 0.3588 - recall: 0.0783\n",
      "2025-04-22 07:29:52 - INFO - ==================================================\n",
      "\n"
     ]
    },
    {
     "name": "stdout",
     "output_type": "stream",
     "text": [
      "\u001b[1m561/561\u001b[0m \u001b[32m━━━━━━━━━━━━━━━━━━━━\u001b[0m\u001b[37m\u001b[0m \u001b[1m176s\u001b[0m 314ms/step - accuracy: 0.9135 - auc: 0.7811 - f1_score: 0.1130 - loss: 0.2055 - precision: 0.4701 - recall: 0.0789 - val_accuracy: 0.9096 - val_auc: 0.7465 - val_f1_score: 0.1001 - val_loss: 0.2992 - val_precision: 0.3588 - val_recall: 0.0783 - learning_rate: 3.1250e-06\n"
     ]
    },
    {
     "name": "stderr",
     "output_type": "stream",
     "text": [
      "2025-04-22 07:29:52 - INFO - \n",
      "=== Starting Epoch 37 ===\n",
      "\n"
     ]
    },
    {
     "name": "stdout",
     "output_type": "stream",
     "text": [
      "Epoch 37/100\n",
      "\u001b[1m 36/561\u001b[0m \u001b[32m━\u001b[0m\u001b[37m━━━━━━━━━━━━━━━━━━━\u001b[0m \u001b[1m2:02\u001b[0m 233ms/step - accuracy: 0.9141 - auc: 0.7898 - f1_score: 0.1158 - loss: 0.2020 - precision: 0.4577 - recall: 0.0820"
     ]
    },
    {
     "name": "stderr",
     "output_type": "stream",
     "text": [
      "2025-04-22 07:30:03.218453: I tensorflow/core/kernels/data/shuffle_dataset_op.cc:452] ShuffleDatasetV3:13: Filling up shuffle buffer (this may take a while): 11219 of 25000\n",
      "2025-04-22 07:30:15.238779: I tensorflow/core/kernels/data/shuffle_dataset_op.cc:482] Shuffle buffer filled.\n",
      "2025-04-22 07:30:15.352784: W tensorflow/core/kernels/data/prefetch_autotuner.cc:52] Prefetch autotuner tried to allocate 91475456 bytes after encountering the first element of size 91475456 bytes.This already causes the autotune ram budget to be exceeded. To stay within the ram budget, either increase the ram budget or reduce element size\n"
     ]
    },
    {
     "name": "stdout",
     "output_type": "stream",
     "text": [
      "\u001b[1m347/561\u001b[0m \u001b[32m━━━━━━━━━━━━\u001b[0m\u001b[37m━━━━━━━━\u001b[0m \u001b[1m1:05\u001b[0m 305ms/step - accuracy: 0.9134 - auc: 0.7848 - f1_score: 0.1150 - loss: 0.2052 - precision: 0.4642 - recall: 0.0825"
     ]
    },
    {
     "name": "stderr",
     "output_type": "stream",
     "text": [
      "2025-04-22 07:31:38.221331: W tensorflow/core/lib/png/png_io.cc:92] PNG warning: iCCP: profile 'ICC Profile': 'GRAY': Gray color space not permitted on RGB PNG\n"
     ]
    },
    {
     "name": "stdout",
     "output_type": "stream",
     "text": [
      "\u001b[1m561/561\u001b[0m \u001b[32m━━━━━━━━━━━━━━━━━━━━\u001b[0m\u001b[37m\u001b[0m \u001b[1m0s\u001b[0m 284ms/step - accuracy: 0.9135 - auc: 0.7842 - f1_score: 0.1154 - loss: 0.2050 - precision: 0.4668 - recall: 0.0823  \n",
      "Epoch 37: ReduceLROnPlateau reducing learning rate to 1.56249996052793e-06.\n"
     ]
    },
    {
     "name": "stderr",
     "output_type": "stream",
     "text": [
      "2025-04-22 07:32:45 - INFO - \n",
      "=== Epoch 37 Summary ===\n",
      "2025-04-22 07:32:45 - INFO - Time: 173.41s\n",
      "2025-04-22 07:32:45 - INFO - Training   - accuracy: 0.9136 - auc: 0.7845 - f1_score: 0.1182 - loss: 0.2042 - precision: 0.4758 - recall: 0.0833 - learning_rate: 0.0000\n",
      "2025-04-22 07:32:45 - INFO - Validation - accuracy: 0.9118 - auc: 0.7453 - f1_score: 0.1001 - loss: 0.2922 - precision: 0.4016 - recall: 0.0733\n",
      "2025-04-22 07:32:45 - INFO - ==================================================\n",
      "\n"
     ]
    },
    {
     "name": "stdout",
     "output_type": "stream",
     "text": [
      "\u001b[1m561/561\u001b[0m \u001b[32m━━━━━━━━━━━━━━━━━━━━\u001b[0m\u001b[37m\u001b[0m \u001b[1m173s\u001b[0m 309ms/step - accuracy: 0.9135 - auc: 0.7842 - f1_score: 0.1154 - loss: 0.2050 - precision: 0.4668 - recall: 0.0823 - val_accuracy: 0.9118 - val_auc: 0.7453 - val_f1_score: 0.1001 - val_loss: 0.2922 - val_precision: 0.4016 - val_recall: 0.0733 - learning_rate: 3.1250e-06\n"
     ]
    },
    {
     "name": "stderr",
     "output_type": "stream",
     "text": [
      "2025-04-22 07:32:45 - INFO - \n",
      "=== Starting Epoch 38 ===\n",
      "\n"
     ]
    },
    {
     "name": "stdout",
     "output_type": "stream",
     "text": [
      "Epoch 38/100\n",
      "\u001b[1m 37/561\u001b[0m \u001b[32m━\u001b[0m\u001b[37m━━━━━━━━━━━━━━━━━━━\u001b[0m \u001b[1m2:03\u001b[0m 235ms/step - accuracy: 0.9153 - auc: 0.7964 - f1_score: 0.1291 - loss: 0.1987 - precision: 0.4815 - recall: 0.0907"
     ]
    },
    {
     "name": "stderr",
     "output_type": "stream",
     "text": [
      "2025-04-22 07:32:56.872485: I tensorflow/core/kernels/data/shuffle_dataset_op.cc:452] ShuffleDatasetV3:13: Filling up shuffle buffer (this may take a while): 11245 of 25000\n",
      "2025-04-22 07:33:09.498250: I tensorflow/core/kernels/data/shuffle_dataset_op.cc:482] Shuffle buffer filled.\n",
      "2025-04-22 07:33:09.609591: W tensorflow/core/kernels/data/prefetch_autotuner.cc:52] Prefetch autotuner tried to allocate 91475456 bytes after encountering the first element of size 91475456 bytes.This already causes the autotune ram budget to be exceeded. To stay within the ram budget, either increase the ram budget or reduce element size\n"
     ]
    },
    {
     "name": "stdout",
     "output_type": "stream",
     "text": [
      "\u001b[1m348/561\u001b[0m \u001b[32m━━━━━━━━━━━━\u001b[0m\u001b[37m━━━━━━━━\u001b[0m \u001b[1m1:05\u001b[0m 308ms/step - accuracy: 0.9140 - auc: 0.7859 - f1_score: 0.1248 - loss: 0.2037 - precision: 0.4789 - recall: 0.0888"
     ]
    },
    {
     "name": "stderr",
     "output_type": "stream",
     "text": [
      "2025-04-22 07:34:33.047982: W tensorflow/core/lib/png/png_io.cc:92] PNG warning: iCCP: profile 'ICC Profile': 'GRAY': Gray color space not permitted on RGB PNG\n"
     ]
    },
    {
     "name": "stdout",
     "output_type": "stream",
     "text": [
      "\u001b[1m561/561\u001b[0m \u001b[32m━━━━━━━━━━━━━━━━━━━━\u001b[0m\u001b[37m\u001b[0m \u001b[1m0s\u001b[0m 286ms/step - accuracy: 0.9139 - auc: 0.7859 - f1_score: 0.1244 - loss: 0.2036 - precision: 0.4798 - recall: 0.0884  "
     ]
    },
    {
     "name": "stderr",
     "output_type": "stream",
     "text": [
      "2025-04-22 07:35:40 - INFO - \n",
      "=== Epoch 38 Summary ===\n",
      "2025-04-22 07:35:40 - INFO - Time: 174.40s\n",
      "2025-04-22 07:35:40 - INFO - Training   - accuracy: 0.9139 - auc: 0.7869 - f1_score: 0.1235 - loss: 0.2028 - precision: 0.4821 - recall: 0.0877 - learning_rate: 0.0000\n",
      "2025-04-22 07:35:40 - INFO - Validation - accuracy: 0.9121 - auc: 0.7463 - f1_score: 0.1108 - loss: 0.2911 - precision: 0.4140 - recall: 0.0777\n",
      "2025-04-22 07:35:40 - INFO - ==================================================\n",
      "\n"
     ]
    },
    {
     "name": "stdout",
     "output_type": "stream",
     "text": [
      "\u001b[1m561/561\u001b[0m \u001b[32m━━━━━━━━━━━━━━━━━━━━\u001b[0m\u001b[37m\u001b[0m \u001b[1m174s\u001b[0m 311ms/step - accuracy: 0.9139 - auc: 0.7859 - f1_score: 0.1244 - loss: 0.2036 - precision: 0.4798 - recall: 0.0884 - val_accuracy: 0.9121 - val_auc: 0.7463 - val_f1_score: 0.1108 - val_loss: 0.2911 - val_precision: 0.4140 - val_recall: 0.0777 - learning_rate: 1.5625e-06\n"
     ]
    },
    {
     "name": "stderr",
     "output_type": "stream",
     "text": [
      "2025-04-22 07:35:40 - INFO - \n",
      "=== Starting Epoch 39 ===\n",
      "\n"
     ]
    },
    {
     "name": "stdout",
     "output_type": "stream",
     "text": [
      "Epoch 39/100\n",
      "\u001b[1m 38/561\u001b[0m \u001b[32m━\u001b[0m\u001b[37m━━━━━━━━━━━━━━━━━━━\u001b[0m \u001b[1m2:02\u001b[0m 235ms/step - accuracy: 0.9129 - auc: 0.7859 - f1_score: 0.1341 - loss: 0.2006 - precision: 0.4836 - recall: 0.0978"
     ]
    },
    {
     "name": "stderr",
     "output_type": "stream",
     "text": [
      "2025-04-22 07:35:51.543483: I tensorflow/core/kernels/data/shuffle_dataset_op.cc:452] ShuffleDatasetV3:13: Filling up shuffle buffer (this may take a while): 11235 of 25000\n",
      "2025-04-22 07:36:03.630290: I tensorflow/core/kernels/data/shuffle_dataset_op.cc:482] Shuffle buffer filled.\n",
      "2025-04-22 07:36:03.742332: W tensorflow/core/kernels/data/prefetch_autotuner.cc:52] Prefetch autotuner tried to allocate 91475456 bytes after encountering the first element of size 91475456 bytes.This already causes the autotune ram budget to be exceeded. To stay within the ram budget, either increase the ram budget or reduce element size\n"
     ]
    },
    {
     "name": "stdout",
     "output_type": "stream",
     "text": [
      "\u001b[1m349/561\u001b[0m \u001b[32m━━━━━━━━━━━━\u001b[0m\u001b[37m━━━━━━━━\u001b[0m \u001b[1m1:02\u001b[0m 294ms/step - accuracy: 0.9131 - auc: 0.7843 - f1_score: 0.1252 - loss: 0.2035 - precision: 0.4796 - recall: 0.0888"
     ]
    },
    {
     "name": "stderr",
     "output_type": "stream",
     "text": [
      "2025-04-22 07:37:22.893312: W tensorflow/core/lib/png/png_io.cc:92] PNG warning: iCCP: profile 'ICC Profile': 'GRAY': Gray color space not permitted on RGB PNG\n"
     ]
    },
    {
     "name": "stdout",
     "output_type": "stream",
     "text": [
      "\u001b[1m561/561\u001b[0m \u001b[32m━━━━━━━━━━━━━━━━━━━━\u001b[0m\u001b[37m\u001b[0m \u001b[1m0s\u001b[0m 277ms/step - accuracy: 0.9133 - auc: 0.7849 - f1_score: 0.1241 - loss: 0.2033 - precision: 0.4808 - recall: 0.0880  "
     ]
    },
    {
     "name": "stderr",
     "output_type": "stream",
     "text": [
      "2025-04-22 07:38:15.918663: W tensorflow/core/kernels/data/prefetch_autotuner.cc:52] Prefetch autotuner tried to allocate 148905472 bytes after encountering the first element of size 148905472 bytes.This already causes the autotune ram budget to be exceeded. To stay within the ram budget, either increase the ram budget or reduce element size\n",
      "2025-04-22 07:38:30 - INFO - \n",
      "=== Epoch 39 Summary ===\n",
      "2025-04-22 07:38:30 - INFO - Time: 169.73s\n",
      "2025-04-22 07:38:30 - INFO - Training   - accuracy: 0.9138 - auc: 0.7874 - f1_score: 0.1225 - loss: 0.2026 - precision: 0.4842 - recall: 0.0868 - learning_rate: 0.0000\n",
      "2025-04-22 07:38:30 - INFO - Validation - accuracy: 0.9121 - auc: 0.7439 - f1_score: 0.1064 - loss: 0.2902 - precision: 0.4125 - recall: 0.0769\n",
      "2025-04-22 07:38:30 - INFO - ==================================================\n",
      "\n"
     ]
    },
    {
     "name": "stdout",
     "output_type": "stream",
     "text": [
      "\u001b[1m561/561\u001b[0m \u001b[32m━━━━━━━━━━━━━━━━━━━━\u001b[0m\u001b[37m\u001b[0m \u001b[1m170s\u001b[0m 303ms/step - accuracy: 0.9133 - auc: 0.7849 - f1_score: 0.1241 - loss: 0.2033 - precision: 0.4808 - recall: 0.0880 - val_accuracy: 0.9121 - val_auc: 0.7439 - val_f1_score: 0.1064 - val_loss: 0.2902 - val_precision: 0.4125 - val_recall: 0.0769 - learning_rate: 1.5625e-06\n"
     ]
    },
    {
     "name": "stderr",
     "output_type": "stream",
     "text": [
      "2025-04-22 07:38:30 - INFO - \n",
      "=== Starting Epoch 40 ===\n",
      "\n"
     ]
    },
    {
     "name": "stdout",
     "output_type": "stream",
     "text": [
      "Epoch 40/100\n",
      "\u001b[1m 39/561\u001b[0m \u001b[32m━\u001b[0m\u001b[37m━━━━━━━━━━━━━━━━━━━\u001b[0m \u001b[1m2:02\u001b[0m 234ms/step - accuracy: 0.9148 - auc: 0.7832 - f1_score: 0.1333 - loss: 0.2002 - precision: 0.4983 - recall: 0.0963"
     ]
    },
    {
     "name": "stderr",
     "output_type": "stream",
     "text": [
      "2025-04-22 07:38:41.533741: I tensorflow/core/kernels/data/shuffle_dataset_op.cc:452] ShuffleDatasetV3:13: Filling up shuffle buffer (this may take a while): 10509 of 25000\n",
      "2025-04-22 07:38:54.247288: I tensorflow/core/kernels/data/shuffle_dataset_op.cc:482] Shuffle buffer filled.\n",
      "2025-04-22 07:38:54.359913: W tensorflow/core/kernels/data/prefetch_autotuner.cc:52] Prefetch autotuner tried to allocate 91475456 bytes after encountering the first element of size 91475456 bytes.This already causes the autotune ram budget to be exceeded. To stay within the ram budget, either increase the ram budget or reduce element size\n"
     ]
    },
    {
     "name": "stdout",
     "output_type": "stream",
     "text": [
      "\u001b[1m350/561\u001b[0m \u001b[32m━━━━━━━━━━━━\u001b[0m\u001b[37m━━━━━━━━\u001b[0m \u001b[1m1:03\u001b[0m 301ms/step - accuracy: 0.9140 - auc: 0.7871 - f1_score: 0.1306 - loss: 0.2016 - precision: 0.4918 - recall: 0.0936"
     ]
    },
    {
     "name": "stderr",
     "output_type": "stream",
     "text": [
      "2025-04-22 07:40:15.400865: W tensorflow/core/lib/png/png_io.cc:92] PNG warning: iCCP: profile 'ICC Profile': 'GRAY': Gray color space not permitted on RGB PNG\n"
     ]
    },
    {
     "name": "stdout",
     "output_type": "stream",
     "text": [
      "\u001b[1m561/561\u001b[0m \u001b[32m━━━━━━━━━━━━━━━━━━━━\u001b[0m\u001b[37m\u001b[0m \u001b[1m0s\u001b[0m 282ms/step - accuracy: 0.9139 - auc: 0.7877 - f1_score: 0.1293 - loss: 0.2015 - precision: 0.4887 - recall: 0.0926  \n",
      "Epoch 40: ReduceLROnPlateau reducing learning rate to 1e-06.\n"
     ]
    },
    {
     "name": "stderr",
     "output_type": "stream",
     "text": [
      "2025-04-22 07:41:22 - INFO - \n",
      "=== Epoch 40 Summary ===\n",
      "2025-04-22 07:41:22 - INFO - Time: 172.31s\n",
      "2025-04-22 07:41:22 - INFO - Training   - accuracy: 0.9137 - auc: 0.7895 - f1_score: 0.1266 - loss: 0.2018 - precision: 0.4811 - recall: 0.0906 - learning_rate: 0.0000\n",
      "2025-04-22 07:41:22 - INFO - Validation - accuracy: 0.9114 - auc: 0.7444 - f1_score: 0.0965 - loss: 0.2969 - precision: 0.3853 - recall: 0.0685\n",
      "2025-04-22 07:41:22 - INFO - ==================================================\n",
      "\n"
     ]
    },
    {
     "name": "stdout",
     "output_type": "stream",
     "text": [
      "\u001b[1m561/561\u001b[0m \u001b[32m━━━━━━━━━━━━━━━━━━━━\u001b[0m\u001b[37m\u001b[0m \u001b[1m172s\u001b[0m 307ms/step - accuracy: 0.9139 - auc: 0.7877 - f1_score: 0.1292 - loss: 0.2015 - precision: 0.4887 - recall: 0.0926 - val_accuracy: 0.9114 - val_auc: 0.7444 - val_f1_score: 0.0965 - val_loss: 0.2969 - val_precision: 0.3853 - val_recall: 0.0685 - learning_rate: 1.5625e-06\n"
     ]
    },
    {
     "name": "stderr",
     "output_type": "stream",
     "text": [
      "2025-04-22 07:41:22 - INFO - \n",
      "=== Starting Epoch 41 ===\n",
      "\n"
     ]
    },
    {
     "name": "stdout",
     "output_type": "stream",
     "text": [
      "Epoch 41/100\n",
      "\u001b[1m 40/561\u001b[0m \u001b[32m━\u001b[0m\u001b[37m━━━━━━━━━━━━━━━━━━━\u001b[0m \u001b[1m2:02\u001b[0m 235ms/step - accuracy: 0.9138 - auc: 0.7894 - f1_score: 0.1289 - loss: 0.2032 - precision: 0.4831 - recall: 0.0936"
     ]
    },
    {
     "name": "stderr",
     "output_type": "stream",
     "text": [
      "2025-04-22 07:41:34.105635: I tensorflow/core/kernels/data/shuffle_dataset_op.cc:452] ShuffleDatasetV3:13: Filling up shuffle buffer (this may take a while): 11248 of 25000\n",
      "2025-04-22 07:41:46.169101: I tensorflow/core/kernels/data/shuffle_dataset_op.cc:482] Shuffle buffer filled.\n",
      "2025-04-22 07:41:46.281592: W tensorflow/core/kernels/data/prefetch_autotuner.cc:52] Prefetch autotuner tried to allocate 91475456 bytes after encountering the first element of size 91475456 bytes.This already causes the autotune ram budget to be exceeded. To stay within the ram budget, either increase the ram budget or reduce element size\n"
     ]
    },
    {
     "name": "stdout",
     "output_type": "stream",
     "text": [
      "\u001b[1m351/561\u001b[0m \u001b[32m━━━━━━━━━━━━\u001b[0m\u001b[37m━━━━━━━━\u001b[0m \u001b[1m1:03\u001b[0m 302ms/step - accuracy: 0.9140 - auc: 0.7924 - f1_score: 0.1287 - loss: 0.2011 - precision: 0.4908 - recall: 0.0916"
     ]
    },
    {
     "name": "stderr",
     "output_type": "stream",
     "text": [
      "2025-04-22 07:43:08.144729: W tensorflow/core/lib/png/png_io.cc:92] PNG warning: iCCP: profile 'ICC Profile': 'GRAY': Gray color space not permitted on RGB PNG\n"
     ]
    },
    {
     "name": "stdout",
     "output_type": "stream",
     "text": [
      "\u001b[1m561/561\u001b[0m \u001b[32m━━━━━━━━━━━━━━━━━━━━\u001b[0m\u001b[37m\u001b[0m \u001b[1m0s\u001b[0m 282ms/step - accuracy: 0.9140 - auc: 0.7920 - f1_score: 0.1287 - loss: 0.2010 - precision: 0.4898 - recall: 0.0916  "
     ]
    },
    {
     "name": "stderr",
     "output_type": "stream",
     "text": [
      "2025-04-22 07:44:00.781434: W tensorflow/core/kernels/data/prefetch_autotuner.cc:52] Prefetch autotuner tried to allocate 151526912 bytes after encountering the first element of size 151526912 bytes.This already causes the autotune ram budget to be exceeded. To stay within the ram budget, either increase the ram budget or reduce element size\n",
      "2025-04-22 07:44:14 - INFO - \n",
      "=== Epoch 41 Summary ===\n",
      "2025-04-22 07:44:14 - INFO - Time: 172.26s\n",
      "2025-04-22 07:44:14 - INFO - Training   - accuracy: 0.9140 - auc: 0.7918 - f1_score: 0.1280 - loss: 0.2008 - precision: 0.4862 - recall: 0.0912 - learning_rate: 0.0000\n",
      "2025-04-22 07:44:14 - INFO - Validation - accuracy: 0.9123 - auc: 0.7462 - f1_score: 0.1065 - loss: 0.2888 - precision: 0.4177 - recall: 0.0755\n",
      "2025-04-22 07:44:14 - INFO - ==================================================\n",
      "\n"
     ]
    },
    {
     "name": "stdout",
     "output_type": "stream",
     "text": [
      "\u001b[1m561/561\u001b[0m \u001b[32m━━━━━━━━━━━━━━━━━━━━\u001b[0m\u001b[37m\u001b[0m \u001b[1m172s\u001b[0m 307ms/step - accuracy: 0.9140 - auc: 0.7920 - f1_score: 0.1287 - loss: 0.2010 - precision: 0.4898 - recall: 0.0916 - val_accuracy: 0.9123 - val_auc: 0.7462 - val_f1_score: 0.1065 - val_loss: 0.2888 - val_precision: 0.4177 - val_recall: 0.0755 - learning_rate: 1.0000e-06\n"
     ]
    },
    {
     "name": "stderr",
     "output_type": "stream",
     "text": [
      "2025-04-22 07:44:14 - INFO - \n",
      "=== Starting Epoch 42 ===\n",
      "\n"
     ]
    },
    {
     "name": "stdout",
     "output_type": "stream",
     "text": [
      "Epoch 42/100\n",
      "\u001b[1m 41/561\u001b[0m \u001b[32m━\u001b[0m\u001b[37m━━━━━━━━━━━━━━━━━━━\u001b[0m \u001b[1m2:02\u001b[0m 235ms/step - accuracy: 0.9156 - auc: 0.7929 - f1_score: 0.1325 - loss: 0.1959 - precision: 0.5072 - recall: 0.0942"
     ]
    },
    {
     "name": "stderr",
     "output_type": "stream",
     "text": [
      "2025-04-22 07:44:26.595124: I tensorflow/core/kernels/data/shuffle_dataset_op.cc:452] ShuffleDatasetV3:13: Filling up shuffle buffer (this may take a while): 11231 of 25000\n",
      "2025-04-22 07:44:38.715864: I tensorflow/core/kernels/data/shuffle_dataset_op.cc:482] Shuffle buffer filled.\n",
      "2025-04-22 07:44:38.830995: W tensorflow/core/kernels/data/prefetch_autotuner.cc:52] Prefetch autotuner tried to allocate 91475456 bytes after encountering the first element of size 91475456 bytes.This already causes the autotune ram budget to be exceeded. To stay within the ram budget, either increase the ram budget or reduce element size\n"
     ]
    },
    {
     "name": "stdout",
     "output_type": "stream",
     "text": [
      "\u001b[1m352/561\u001b[0m \u001b[32m━━━━━━━━━━━━\u001b[0m\u001b[37m━━━━━━━━\u001b[0m \u001b[1m1:03\u001b[0m 305ms/step - accuracy: 0.9141 - auc: 0.7921 - f1_score: 0.1318 - loss: 0.2006 - precision: 0.4910 - recall: 0.0939"
     ]
    },
    {
     "name": "stderr",
     "output_type": "stream",
     "text": [
      "2025-04-22 07:46:01.760899: W tensorflow/core/lib/png/png_io.cc:92] PNG warning: iCCP: profile 'ICC Profile': 'GRAY': Gray color space not permitted on RGB PNG\n"
     ]
    },
    {
     "name": "stdout",
     "output_type": "stream",
     "text": [
      "\u001b[1m561/561\u001b[0m \u001b[32m━━━━━━━━━━━━━━━━━━━━\u001b[0m\u001b[37m\u001b[0m \u001b[1m0s\u001b[0m 284ms/step - accuracy: 0.9140 - auc: 0.7911 - f1_score: 0.1306 - loss: 0.2008 - precision: 0.4882 - recall: 0.0931  "
     ]
    },
    {
     "name": "stderr",
     "output_type": "stream",
     "text": [
      "2025-04-22 07:47:07 - INFO - \n",
      "=== Epoch 42 Summary ===\n",
      "2025-04-22 07:47:07 - INFO - Time: 173.25s\n",
      "2025-04-22 07:47:07 - INFO - Training   - accuracy: 0.9139 - auc: 0.7900 - f1_score: 0.1297 - loss: 0.2009 - precision: 0.4861 - recall: 0.0928 - learning_rate: 0.0000\n",
      "2025-04-22 07:47:07 - INFO - Validation - accuracy: 0.9126 - auc: 0.7455 - f1_score: 0.1104 - loss: 0.2875 - precision: 0.4274 - recall: 0.0767\n",
      "2025-04-22 07:47:07 - INFO - ==================================================\n",
      "\n"
     ]
    },
    {
     "name": "stdout",
     "output_type": "stream",
     "text": [
      "\u001b[1m561/561\u001b[0m \u001b[32m━━━━━━━━━━━━━━━━━━━━\u001b[0m\u001b[37m\u001b[0m \u001b[1m173s\u001b[0m 309ms/step - accuracy: 0.9140 - auc: 0.7911 - f1_score: 0.1306 - loss: 0.2008 - precision: 0.4882 - recall: 0.0931 - val_accuracy: 0.9126 - val_auc: 0.7455 - val_f1_score: 0.1104 - val_loss: 0.2875 - val_precision: 0.4274 - val_recall: 0.0767 - learning_rate: 1.0000e-06\n"
     ]
    },
    {
     "name": "stderr",
     "output_type": "stream",
     "text": [
      "2025-04-22 07:47:07 - INFO - \n",
      "=== Starting Epoch 43 ===\n",
      "\n"
     ]
    },
    {
     "name": "stdout",
     "output_type": "stream",
     "text": [
      "Epoch 43/100\n",
      "\u001b[1m 42/561\u001b[0m \u001b[32m━\u001b[0m\u001b[37m━━━━━━━━━━━━━━━━━━━\u001b[0m \u001b[1m2:01\u001b[0m 234ms/step - accuracy: 0.9156 - auc: 0.7914 - f1_score: 0.1407 - loss: 0.2017 - precision: 0.5133 - recall: 0.0991"
     ]
    },
    {
     "name": "stderr",
     "output_type": "stream",
     "text": [
      "2025-04-22 07:47:20.101235: I tensorflow/core/kernels/data/shuffle_dataset_op.cc:452] ShuffleDatasetV3:13: Filling up shuffle buffer (this may take a while): 11264 of 25000\n",
      "2025-04-22 07:47:32.153341: I tensorflow/core/kernels/data/shuffle_dataset_op.cc:482] Shuffle buffer filled.\n",
      "2025-04-22 07:47:32.264458: W tensorflow/core/kernels/data/prefetch_autotuner.cc:52] Prefetch autotuner tried to allocate 91475456 bytes after encountering the first element of size 91475456 bytes.This already causes the autotune ram budget to be exceeded. To stay within the ram budget, either increase the ram budget or reduce element size\n"
     ]
    },
    {
     "name": "stdout",
     "output_type": "stream",
     "text": [
      "\u001b[1m353/561\u001b[0m \u001b[32m━━━━━━━━━━━━\u001b[0m\u001b[37m━━━━━━━━\u001b[0m \u001b[1m1:03\u001b[0m 308ms/step - accuracy: 0.9145 - auc: 0.7911 - f1_score: 0.1351 - loss: 0.2009 - precision: 0.5017 - recall: 0.0954"
     ]
    },
    {
     "name": "stderr",
     "output_type": "stream",
     "text": [
      "2025-04-22 07:48:56.321519: W tensorflow/core/lib/png/png_io.cc:92] PNG warning: iCCP: profile 'ICC Profile': 'GRAY': Gray color space not permitted on RGB PNG\n"
     ]
    },
    {
     "name": "stdout",
     "output_type": "stream",
     "text": [
      "\u001b[1m561/561\u001b[0m \u001b[32m━━━━━━━━━━━━━━━━━━━━\u001b[0m\u001b[37m\u001b[0m \u001b[1m0s\u001b[0m 286ms/step - accuracy: 0.9143 - auc: 0.7912 - f1_score: 0.1331 - loss: 0.2010 - precision: 0.4968 - recall: 0.0945  "
     ]
    },
    {
     "name": "stderr",
     "output_type": "stream",
     "text": [
      "2025-04-22 07:50:01.936928: W tensorflow/core/kernels/data/prefetch_autotuner.cc:52] Prefetch autotuner tried to allocate 77078016 bytes after encountering the first element of size 77078016 bytes.This already causes the autotune ram budget to be exceeded. To stay within the ram budget, either increase the ram budget or reduce element size\n",
      "2025-04-22 07:50:02 - INFO - \n",
      "=== Epoch 43 Summary ===\n",
      "2025-04-22 07:50:02 - INFO - Time: 174.59s\n",
      "2025-04-22 07:50:02 - INFO - Training   - accuracy: 0.9140 - auc: 0.7919 - f1_score: 0.1292 - loss: 0.2004 - precision: 0.4886 - recall: 0.0925 - learning_rate: 0.0000\n",
      "2025-04-22 07:50:02 - INFO - Validation - accuracy: 0.9127 - auc: 0.7476 - f1_score: 0.1091 - loss: 0.2870 - precision: 0.4301 - recall: 0.0769\n",
      "2025-04-22 07:50:02 - INFO - ==================================================\n",
      "\n"
     ]
    },
    {
     "name": "stdout",
     "output_type": "stream",
     "text": [
      "\u001b[1m561/561\u001b[0m \u001b[32m━━━━━━━━━━━━━━━━━━━━\u001b[0m\u001b[37m\u001b[0m \u001b[1m175s\u001b[0m 311ms/step - accuracy: 0.9143 - auc: 0.7912 - f1_score: 0.1331 - loss: 0.2010 - precision: 0.4968 - recall: 0.0945 - val_accuracy: 0.9127 - val_auc: 0.7476 - val_f1_score: 0.1091 - val_loss: 0.2870 - val_precision: 0.4301 - val_recall: 0.0769 - learning_rate: 1.0000e-06\n"
     ]
    },
    {
     "name": "stderr",
     "output_type": "stream",
     "text": [
      "2025-04-22 07:50:02 - INFO - \n",
      "=== Training Completed! ===\n",
      "\n",
      "2025-04-22 07:50:02 - INFO - Final Metrics: accuracy: 0.9140 - auc: 0.7919 - f1_score: 0.1292 - loss: 0.2004 - precision: 0.4886 - recall: 0.0925 - val_accuracy: 0.9127 - val_auc: 0.7476 - val_f1_score: 0.1091 - val_loss: 0.2870 - val_precision: 0.4301 - val_recall: 0.0769\n",
      "\n"
     ]
    },
    {
     "name": "stdout",
     "output_type": "stream",
     "text": [
      "Epoch 43: early stopping\n",
      "Restoring model weights from the end of the best epoch: 28.\n"
     ]
    }
   ],
   "source": [
    "# Model Training\n",
    "model          = build_densenet(num_classes)\n",
    "optimizer      = Adam(learning_rate=1e-4)\n",
    "compile_kwargs = {'optimizer': optimizer, 'loss': loss, 'metrics': metrics}\n",
    "\n",
    "history, model = start_or_resume_training(\n",
    "    model, \n",
    "    compile_kwargs, \n",
    "    train_ds, \n",
    "    val_ds, \n",
    "    TF_MAX_EPOCHS,\n",
    "    steps_per_epoch, \n",
    "    validation_steps, \n",
    "    class_weights=class_weights,\n",
    "    callbacks=[checkpoint, best_checkpoint, reduce_lr, training_logger, metrics_monitor, early_stopping], \n",
    "    checkpoint_path=checkpoint_path,\n",
    "    initial_epoch=initial_epoch,\n",
    "    output_dir=MODELS_PATH,\n",
    "    model_name=model_name,\n",
    "    logger=logger\n",
    ")"
   ]
  },
  {
   "cell_type": "code",
   "execution_count": null,
   "id": "65e16199-472d-4578-a65f-2b431d3588fd",
   "metadata": {},
   "outputs": [],
   "source": []
  }
 ],
 "metadata": {
  "kernelspec": {
   "display_name": "Python 3 (ipykernel)",
   "language": "python",
   "name": "python3"
  },
  "language_info": {
   "codemirror_mode": {
    "name": "ipython",
    "version": 3
   },
   "file_extension": ".py",
   "mimetype": "text/x-python",
   "name": "python",
   "nbconvert_exporter": "python",
   "pygments_lexer": "ipython3",
   "version": "3.10.16"
  }
 },
 "nbformat": 4,
 "nbformat_minor": 5
}
