{
 "cells": [
  {
   "cell_type": "code",
   "execution_count": 2,
   "id": "c337e51f-8df6-475b-8999-7edc36eb0027",
   "metadata": {},
   "outputs": [],
   "source": [
    "from src.utils.consts import CLEARED_DATASET\n",
    "from src.utils.consts import TF_RECORD_DATASET\n",
    "\n",
    "# Packages Imports\n",
    "import os\n",
    "\n",
    "import numpy as np\n",
    "import pandas as pd\n",
    "import tensorflow as tf\n",
    "from tqdm import tqdm\n",
    "from PIL import Image\n",
    "\n",
    "# Types\n",
    "from typing import Dict, List"
   ]
  },
  {
   "cell_type": "code",
   "execution_count": 3,
   "id": "a55fa91b-a86c-43c4-b8bb-4fd715cecff3",
   "metadata": {},
   "outputs": [],
   "source": [
    "# Load Data\n",
    "data_entry_path = f\"{CLEARED_DATASET}/Data_Entry_2017.csv\"\n",
    "data_entry_df = pd.read_csv(data_entry_path, delimiter=',')\n",
    "\n",
    "bounding_box_path = f\"{CLEARED_DATASET}/BBox_List_2017.csv\"\n",
    "bounding_box_df = pd.read_csv(bounding_box_path, delimiter=',')\n",
    "\n",
    "images_path = f\"{CLEARED_DATASET}/images\""
   ]
  },
  {
   "cell_type": "code",
   "execution_count": 4,
   "id": "34e7e88a-bb3d-4809-a964-4b820eef7125",
   "metadata": {},
   "outputs": [],
   "source": [
    "def build_labels_map(data_entry_df: pd.DataFrame) -> pd.DataFrame:\n",
    "    \"\"\"\n",
    "    Build a mapping of unique labels to indices from a DataFrame containing medical findings.\n",
    "    \"\"\"\n",
    "    unique_labels = (data_entry_df[\"Finding Labels\"].str.split(\"|\").explode().dropna().unique())\n",
    "    label_to_index: Dict[str, int] = {label: idx for idx, label in enumerate(sorted(unique_labels))}\n",
    "    return pd.DataFrame(list(label_to_index.items()), columns=[\"Label\", \"Index\"])"
   ]
  },
  {
   "cell_type": "code",
   "execution_count": 5,
   "id": "2f13bb31-8628-4395-80f1-ece477f79f51",
   "metadata": {},
   "outputs": [
    {
     "name": "stdout",
     "output_type": "stream",
     "text": [
      "{'Atelectasis': 0, 'Cardiomegaly': 1, 'Consolidation': 2, 'Edema': 3, 'Effusion': 4, 'Emphysema': 5, 'Fibrosis': 6, 'Hernia': 7, 'Infiltration': 8, 'Mass': 9, 'No Finding': 10, 'Nodule': 11, 'Pleural_Thickening': 12, 'Pneumonia': 13, 'Pneumothorax': 14}\n"
     ]
    }
   ],
   "source": [
    "# Store Labels Mapping\n",
    "from src.data.labels_utils import get_labels_dict\n",
    "\n",
    "label_df = build_labels_map(data_entry_df)\n",
    "label_df.to_csv(f\"{TF_RECORD_DATASET}/label_mappings.csv\", index=False)\n",
    "\n",
    "labels_dict = get_labels_dict(f\"{TF_RECORD_DATASET}/label_mappings.csv\")\n",
    "print(labels_dict)"
   ]
  },
  {
   "cell_type": "code",
   "execution_count": 6,
   "id": "f7a45f16-b1ea-4596-8d59-f8368ef1eb5a",
   "metadata": {},
   "outputs": [],
   "source": [
    "from src.data.data_entry_utils import extract_patient_info, extract_image_info\n",
    "from src.data.bounding_box_utils import extract_bbox_data\n",
    "from src.data.image_utils import get_image_bytes\n",
    "from src.data.labels_utils import encode_labels\n",
    "\n",
    "from src.model.tensorflow_utils import to_bytes_feature, to_int64_feature, to_float_feature\n",
    "\n",
    "def create_tf_example(image_path, data_entry_df, bounding_boxes_df):\n",
    "    image_index = os.path.basename(image_path)\n",
    "    row = data_entry_df[data_entry_df[\"Image Index\"] == image_index]\n",
    "    \n",
    "    if row.empty:\n",
    "        print(f\"Skipping: {image_index} not found in DataEntry.csv\")\n",
    "        return None\n",
    "\n",
    "    image_bytes = get_image_bytes(image_path)\n",
    "    if image_bytes is None:\n",
    "        print(f\"Skipping missing file: {image_path}\")\n",
    "        return None\n",
    "\n",
    "    # Patient Data\n",
    "    patient_info = extract_patient_info(row.iloc[0])\n",
    "\n",
    "    # Image Data\n",
    "    image_info = extract_image_info(row.iloc[0])\n",
    "    finding_labels = image_info[\"finding_labels\"]\n",
    "    encoded_labels = encode_labels(finding_labels, labels_dict)\n",
    "\n",
    "    # Bounding Box Data\n",
    "    bbox_data = extract_bbox_data(bounding_boxes_df, image_index)\n",
    "    bbox_data_label = bbox_data.get(\"bbox_finding_label\", \"\")\n",
    "    encoded_bbox_data_label = encode_labels(bbox_data_label, labels_dict)\n",
    "    \n",
    "    feature = {\n",
    "        \"image\": to_bytes_feature(image_bytes),\n",
    "        \"image_index\": to_bytes_feature(image_index.encode()),\n",
    "        \"encoded_finding_labels\": to_int64_feature(encoded_labels),\n",
    "        \"finding_labels_array\": tf.train.Feature(bytes_list=tf.train.BytesList(value=[l.encode() for l in finding_labels])),\n",
    "        \"encoded_bbox_finding_label\": to_int64_feature(encoded_bbox_data_label),\n",
    "        \"bbox_finding_label\": to_bytes_feature(bbox_data_label.encode()),\n",
    "        \"x\": to_float_feature(bbox_data.get(\"x\", []) or []),\n",
    "        \"y\": to_float_feature(bbox_data.get(\"y\", []) or []),\n",
    "        \"w\": to_float_feature(bbox_data.get(\"w\", []) or []),\n",
    "        \"h\": to_float_feature(bbox_data.get(\"h\", []) or []),\n",
    "        \"patient_id\": to_int64_feature([patient_info[\"patient_id\"]]),\n",
    "        \"patient_age\": to_int64_feature([patient_info[\"patient_age\"]]),\n",
    "        \"patient_gender\": to_bytes_feature(patient_info[\"patient_gender\"].encode()),\n",
    "        \"view_position\": to_bytes_feature(image_info[\"view_position\"].encode()),\n",
    "        \"image_width\": to_float_feature([image_info[\"image_width\"]]),\n",
    "        \"image_height\": to_float_feature([image_info[\"image_height\"]]),\n",
    "    }\n",
    "    \n",
    "    return tf.train.Example(features=tf.train.Features(feature=feature))"
   ]
  },
  {
   "cell_type": "code",
   "execution_count": 7,
   "id": "8aa7bea7-cba7-4b80-a9b1-4a308e5b028e",
   "metadata": {},
   "outputs": [],
   "source": [
    "image_files = set()\n",
    "for image in os.listdir(images_path):\n",
    "    image_files.add(os.path.join(images_path, image))"
   ]
  },
  {
   "cell_type": "code",
   "execution_count": 8,
   "id": "f265f296-7934-4f86-835c-9d65bf70f0e4",
   "metadata": {},
   "outputs": [
    {
     "name": "stderr",
     "output_type": "stream",
     "text": [
      "100%|██████████████████████████████████| 102663/102663 [08:27<00:00, 202.33it/s]"
     ]
    },
    {
     "name": "stdout",
     "output_type": "stream",
     "text": [
      "TFRecord saved as /home/piotr/Pulpit/codebook/studies/bachelor-thesis/datasets/tfrecord-dataset/nih-dataset/chest_xray_data.tfrecord\n"
     ]
    },
    {
     "name": "stderr",
     "output_type": "stream",
     "text": [
      "\n"
     ]
    }
   ],
   "source": [
    "# Define TFRecord output file\n",
    "tfrecord_filename = f\"{TF_RECORD_DATASET}/chest_xray_data.tfrecord\"\n",
    "\n",
    "with tf.io.TFRecordWriter(tfrecord_filename) as writer:\n",
    "    for image_path in tqdm(image_files):\n",
    "        example = create_tf_example(image_path, data_entry_df, bounding_box_df)\n",
    "        if example is not None:\n",
    "            writer.write(example.SerializeToString())\n",
    "\n",
    "print(f\"TFRecord saved as {tfrecord_filename}\")"
   ]
  },
  {
   "cell_type": "code",
   "execution_count": null,
   "id": "7e6caac5-dbb8-4142-8723-5b04559f3646",
   "metadata": {},
   "outputs": [],
   "source": []
  }
 ],
 "metadata": {
  "kernelspec": {
   "display_name": "Python 3 (ipykernel)",
   "language": "python",
   "name": "python3"
  },
  "language_info": {
   "codemirror_mode": {
    "name": "ipython",
    "version": 3
   },
   "file_extension": ".py",
   "mimetype": "text/x-python",
   "name": "python",
   "nbconvert_exporter": "python",
   "pygments_lexer": "ipython3",
   "version": "3.10.16"
  }
 },
 "nbformat": 4,
 "nbformat_minor": 5
}
