{
 "cells": [
  {
   "cell_type": "code",
   "execution_count": 3,
   "id": "df39f219-525f-427c-9aa9-bd751b9eaf5b",
   "metadata": {},
   "outputs": [],
   "source": [
    "# Basic imports & variables\n",
    "import numpy as np\n",
    "import pandas as pd\n",
    "import os\n",
    "nih_dataset = '../data/nih-dataset'"
   ]
  },
  {
   "cell_type": "code",
   "execution_count": 8,
   "id": "88605a2e-f8c0-4daa-abc3-b2faa2da2065",
   "metadata": {},
   "outputs": [
    {
     "name": "stdout",
     "output_type": "stream",
     "text": [
      "nih_dataset/%{Data_Entry_2017.csv}\n"
     ]
    }
   ],
   "source": [
    "# Data Entry file content analysis\n",
    "data_entry_file = 'nih_dataset/Data_Entry_2017.csv'\n"
   ]
  },
  {
   "cell_type": "code",
   "execution_count": null,
   "id": "8e12ff5d-e386-41a6-aa29-2a005c1f1a75",
   "metadata": {},
   "outputs": [],
   "source": []
  }
 ],
 "metadata": {
  "kernelspec": {
   "display_name": "Python 3 (ipykernel)",
   "language": "python",
   "name": "python3"
  },
  "language_info": {
   "codemirror_mode": {
    "name": "ipython",
    "version": 3
   },
   "file_extension": ".py",
   "mimetype": "text/x-python",
   "name": "python",
   "nbconvert_exporter": "python",
   "pygments_lexer": "ipython3",
   "version": "3.9.6"
  }
 },
 "nbformat": 4,
 "nbformat_minor": 5
}
