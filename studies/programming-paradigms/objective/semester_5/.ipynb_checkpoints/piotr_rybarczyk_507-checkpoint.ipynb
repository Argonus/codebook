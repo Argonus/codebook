{
 "cells": [
  {
   "cell_type": "code",
   "execution_count": 1,
   "id": "456eff3d-4700-4fa3-bd82-25e0af0c0f94",
   "metadata": {},
   "outputs": [
    {
     "name": "stdout",
     "output_type": "stream",
     "text": [
      "Zadanie 1\n",
      "For 0:  Nieprawidlowy parametr\n",
      "For 3001:  Nieprawidlowy parametr\n",
      "For 10:  X\n",
      "For 100:  C\n",
      "For 1011:  MXI\n"
     ]
    }
   ],
   "source": [
    "class SolutionOne:\n",
    "    def __init__(self):\n",
    "        arabic = [1, 4, 5, 9, 10, 40, 50, 90, 100, 400, 500, 900, 1000]\n",
    "        romans = [\"I\", \"IV\", \"V\", \"IX\", \"X\", \"XL\", \"L\", \"XC\", \"C\", \"CD\", \"D\", \"CM\", \"M\"]\n",
    "        self.number_dict = list(zip(arabic, romans))[::-1]\n",
    "\n",
    "    def arabic_to_roman(self, number):\n",
    "        if type(number) != int:\n",
    "            return \"Nieprawidlowy parametr\"\n",
    "        if number < 1 or number > 3000:\n",
    "            return \"Nieprawidlowy parametr\"\n",
    "\n",
    "        result = ''\n",
    "        for arabic, roman in self.number_dict:\n",
    "            while number >= arabic:\n",
    "                number = number - arabic\n",
    "                result += roman\n",
    "\n",
    "        return result\n",
    "\n",
    "\n",
    "s = SolutionOne()\n",
    "print(\"Zadanie 1\")\n",
    "print(\"For 0: \", s.arabic_to_roman(0))\n",
    "print(\"For 3001: \", s.arabic_to_roman(3001))\n",
    "print(\"For 10: \", s.arabic_to_roman(10))\n",
    "print(\"For 100: \", s.arabic_to_roman(100))\n",
    "print(\"For 1011: \", s.arabic_to_roman(1011))"
   ]
  },
  {
   "cell_type": "code",
   "execution_count": 2,
   "id": "ac645992-750f-4c6d-aafb-2ebb73aa71b4",
   "metadata": {},
   "outputs": [
    {
     "name": "stdout",
     "output_type": "stream",
     "text": [
      "Test Add\n",
      "a: c, b\n",
      "e: b\n",
      "\n",
      "Test Remove\n",
      "a: c\n",
      "e: b\n",
      "\n",
      "Test Reverse\n",
      "b: e, a\n",
      "c: a\n",
      "\n"
     ]
    }
   ],
   "source": [
    "from collections import defaultdict\n",
    "\n",
    "class LangDict:\n",
    "    def __init__(self):\n",
    "        self.dict = defaultdict(set)\n",
    "\n",
    "    def add(self, key, value):\n",
    "        self.dict[key].add(value)\n",
    "\n",
    "    def remove(self, key, value):\n",
    "        if key in self.dict:\n",
    "            self.dict[key].remove(value)\n",
    "\n",
    "    def reverse(self):\n",
    "        new_dict = LangDict()\n",
    "        for key in self.dict:\n",
    "            for value in self.dict[key]:\n",
    "                new_dict.add(value, key)\n",
    "        return new_dict\n",
    "\n",
    "    def __str__(self):\n",
    "        keys = sorted(list(self.dict.keys()))\n",
    "        result = ''\n",
    "        for key in keys:\n",
    "            vals = ', '.join(list(self.dict[key]))\n",
    "            result += f\"{key}: {vals}\\n\"\n",
    "\n",
    "        return result\n",
    "\n",
    "ld = LangDict()\n",
    "print(\"Test Add\")\n",
    "ld.add('e', 'b')\n",
    "ld.add('a', 'b')\n",
    "ld.add('a', 'c')\n",
    "print(ld)\n",
    "print(\"Test Remove\")\n",
    "ld.remove('a', 'b')\n",
    "print(ld)\n",
    "print(\"Test Reverse\")\n",
    "ld.add('a', 'b')\n",
    "new_ld = ld.reverse()\n",
    "print(new_ld)\n"
   ]
  },
  {
   "cell_type": "code",
   "execution_count": 1,
   "id": "97002b2d-fc67-4bce-9829-7d30f65d05a0",
   "metadata": {},
   "outputs": [
    {
     "ename": "ModuleNotFoundError",
     "evalue": "No module named '_tkinter'",
     "output_type": "error",
     "traceback": [
      "\u001b[0;31m---------------------------------------------------------------------------\u001b[0m",
      "\u001b[0;31mModuleNotFoundError\u001b[0m                       Traceback (most recent call last)",
      "Cell \u001b[0;32mIn[1], line 1\u001b[0m\n\u001b[0;32m----> 1\u001b[0m \u001b[38;5;28;01mfrom\u001b[39;00m \u001b[38;5;21;01mturtle\u001b[39;00m \u001b[38;5;28;01mimport\u001b[39;00m \u001b[38;5;241m*\u001b[39m\n\u001b[1;32m      2\u001b[0m \u001b[38;5;28;01mclass\u001b[39;00m \u001b[38;5;21;01mSolutionThree\u001b[39;00m:\n\u001b[1;32m      3\u001b[0m     \u001b[38;5;28;01mdef\u001b[39;00m \u001b[38;5;21m__init__\u001b[39m(\u001b[38;5;28mself\u001b[39m):\n",
      "File \u001b[0;32m/opt/homebrew/Cellar/python@3.12/3.12.1/Frameworks/Python.framework/Versions/3.12/lib/python3.12/turtle.py:101\u001b[0m\n\u001b[1;32m      1\u001b[0m \u001b[38;5;66;03m#\u001b[39;00m\n\u001b[1;32m      2\u001b[0m \u001b[38;5;66;03m# turtle.py: a Tkinter based turtle graphics module for Python\u001b[39;00m\n\u001b[1;32m      3\u001b[0m \u001b[38;5;66;03m# Version 1.1b - 4. 5. 2009\u001b[39;00m\n\u001b[0;32m   (...)\u001b[0m\n\u001b[1;32m     21\u001b[0m \u001b[38;5;66;03m#    misrepresented as being the original software.\u001b[39;00m\n\u001b[1;32m     22\u001b[0m \u001b[38;5;66;03m# 3. This notice may not be removed or altered from any source distribution.\u001b[39;00m\n\u001b[1;32m     24\u001b[0m \u001b[38;5;124;03m\"\"\"\u001b[39;00m\n\u001b[1;32m     25\u001b[0m \u001b[38;5;124;03mTurtle graphics is a popular way for introducing programming to\u001b[39;00m\n\u001b[1;32m     26\u001b[0m \u001b[38;5;124;03mkids. It was part of the original Logo programming language developed\u001b[39;00m\n\u001b[0;32m   (...)\u001b[0m\n\u001b[1;32m     98\u001b[0m \u001b[38;5;124;03mextensions in mind. These will be commented and documented elsewhere.\u001b[39;00m\n\u001b[1;32m     99\u001b[0m \u001b[38;5;124;03m\"\"\"\u001b[39;00m\n\u001b[0;32m--> 101\u001b[0m \u001b[38;5;28;01mimport\u001b[39;00m \u001b[38;5;21;01mtkinter\u001b[39;00m \u001b[38;5;28;01mas\u001b[39;00m \u001b[38;5;21;01mTK\u001b[39;00m\n\u001b[1;32m    102\u001b[0m \u001b[38;5;28;01mimport\u001b[39;00m \u001b[38;5;21;01mtypes\u001b[39;00m\n\u001b[1;32m    103\u001b[0m \u001b[38;5;28;01mimport\u001b[39;00m \u001b[38;5;21;01mmath\u001b[39;00m\n",
      "File \u001b[0;32m/opt/homebrew/Cellar/python@3.12/3.12.1/Frameworks/Python.framework/Versions/3.12/lib/python3.12/tkinter/__init__.py:38\u001b[0m\n\u001b[1;32m     35\u001b[0m \u001b[38;5;28;01mimport\u001b[39;00m \u001b[38;5;21;01msys\u001b[39;00m\n\u001b[1;32m     36\u001b[0m \u001b[38;5;28;01mimport\u001b[39;00m \u001b[38;5;21;01mtypes\u001b[39;00m\n\u001b[0;32m---> 38\u001b[0m \u001b[38;5;28;01mimport\u001b[39;00m \u001b[38;5;21;01m_tkinter\u001b[39;00m \u001b[38;5;66;03m# If this fails your Python may not be configured for Tk\u001b[39;00m\n\u001b[1;32m     39\u001b[0m TclError \u001b[38;5;241m=\u001b[39m _tkinter\u001b[38;5;241m.\u001b[39mTclError\n\u001b[1;32m     40\u001b[0m \u001b[38;5;28;01mfrom\u001b[39;00m \u001b[38;5;21;01mtkinter\u001b[39;00m\u001b[38;5;21;01m.\u001b[39;00m\u001b[38;5;21;01mconstants\u001b[39;00m \u001b[38;5;28;01mimport\u001b[39;00m \u001b[38;5;241m*\u001b[39m\n",
      "\u001b[0;31mModuleNotFoundError\u001b[0m: No module named '_tkinter'"
     ]
    }
   ],
   "source": [
    "from turtle import *\n",
    "\n",
    "class SolutionThree:\n",
    "    def __init__(self):\n",
    "        pass\n",
    "\n",
    "    def flower(self, number, size, shape):\n",
    "        \"\"\"\n",
    "        number - ilosc platkow\n",
    "        size - wysoc platka\n",
    "        shape - szerokosc platka. Not fully implemented\n",
    "        TODO: implement shape\n",
    "        \"\"\"\n",
    "        for i in range(number):\n",
    "            self.draw_petal(size, shape)\n",
    "            right(360 / number)\n",
    "    def draw_petal(self, size, shape):\n",
    "        for _ in range(2):\n",
    "            circle(size, shape)  # Draw an arc\n",
    "            left(120)\n",
    "\n",
    "s = SolutionThree()\n",
    "s.flower(5, 300, 60)"
   ]
  },
  {
   "cell_type": "code",
   "execution_count": 4,
   "id": "7705287d-b32a-476e-b8f4-1ea7024b7f9d",
   "metadata": {},
   "outputs": [
    {
     "name": "stdout",
     "output_type": "stream",
     "text": [
      "Collecting tk\n",
      "  Downloading tk-0.1.0-py3-none-any.whl (3.9 kB)\n",
      "Installing collected packages: tk\n",
      "Successfully installed tk-0.1.0\n",
      "\n",
      "\u001b[1m[\u001b[0m\u001b[34;49mnotice\u001b[0m\u001b[1;39;49m]\u001b[0m\u001b[39;49m A new release of pip is available: \u001b[0m\u001b[31;49m23.3.1\u001b[0m\u001b[39;49m -> \u001b[0m\u001b[32;49m23.3.2\u001b[0m\n",
      "\u001b[1m[\u001b[0m\u001b[34;49mnotice\u001b[0m\u001b[1;39;49m]\u001b[0m\u001b[39;49m To update, run: \u001b[0m\u001b[32;49m/opt/homebrew/Cellar/jupyterlab/4.0.9_2/libexec/bin/python -m pip install --upgrade pip\u001b[0m\n",
      "Note: you may need to restart the kernel to use updated packages.\n"
     ]
    }
   ],
   "source": []
  },
  {
   "cell_type": "code",
   "execution_count": 5,
   "id": "58377d28-580f-4607-b4b0-8a2e703bb8ce",
   "metadata": {},
   "outputs": [
    {
     "ename": "NameError",
     "evalue": "name 'python3' is not defined",
     "output_type": "error",
     "traceback": [
      "\u001b[0;31m---------------------------------------------------------------------------\u001b[0m",
      "\u001b[0;31mNameError\u001b[0m                                 Traceback (most recent call last)",
      "Cell \u001b[0;32mIn[5], line 1\u001b[0m\n\u001b[0;32m----> 1\u001b[0m \u001b[43mpython3\u001b[49m \u001b[38;5;241m-\u001b[39m\u001b[38;5;241m-\u001b[39mversion\n",
      "\u001b[0;31mNameError\u001b[0m: name 'python3' is not defined"
     ]
    }
   ],
   "source": []
  },
  {
   "cell_type": "code",
   "execution_count": null,
   "id": "66fd0a9c-a9ef-46b7-b7aa-7b3ddb98cd88",
   "metadata": {},
   "outputs": [],
   "source": []
  }
 ],
 "metadata": {
  "kernelspec": {
   "display_name": "Python 3 (ipykernel)",
   "language": "python",
   "name": "python3"
  },
  "language_info": {
   "codemirror_mode": {
    "name": "ipython",
    "version": 3
   },
   "file_extension": ".py",
   "mimetype": "text/x-python",
   "name": "python",
   "nbconvert_exporter": "python",
   "pygments_lexer": "ipython3",
   "version": "3.12.1"
  }
 },
 "nbformat": 4,
 "nbformat_minor": 5
}
